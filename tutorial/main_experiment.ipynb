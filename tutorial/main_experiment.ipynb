{
 "cells": [
  {
   "cell_type": "code",
   "execution_count": 1,
   "metadata": {},
   "outputs": [],
   "source": [
    "import sys\n",
    "sys.path.append('../')\n",
    "sys.path.append('../../')"
   ]
  },
  {
   "cell_type": "code",
   "execution_count": 2,
   "metadata": {},
   "outputs": [],
   "source": [
    "# import OFRL modules\n",
    "import ofrl\n",
    "from rtbgym import RTBEnv, CustomizedRTBEnv\n",
    "from basicgym import BasicEnv\n",
    "from ofrl.dataset import SyntheticDataset\n",
    "from ofrl.policy import BaseHead\n",
    "from ofrl.policy import OnlineHead, ContinuousEvalHead\n",
    "from ofrl.policy import ContinuousTruncatedGaussianHead as TruncatedGaussianHead\n",
    "from ofrl.ope.online import (\n",
    "    calc_on_policy_policy_value,\n",
    "    visualize_on_policy_policy_value,\n",
    ")\n",
    "from ofrl.utils import MinMaxScaler, MinMaxActionScaler\n",
    "\n",
    "# import d3rlpy algorithms\n",
    "from d3rlpy.algos import RandomPolicy\n",
    "# from d3rlpy.preprocessing import MinMaxScaler, MinMaxActionScaler\n",
    "from ofrl.utils import MinMaxScaler, MinMaxActionScaler\n",
    "from ofrl.utils import MultipleLoggedDataset\n",
    "\n",
    "# import from other libraries\n",
    "import gym\n",
    "from gym.spaces import Box\n",
    "import torch\n",
    "from sklearn.model_selection import train_test_split\n",
    "from pathlib import Path\n",
    "from typing import List\n",
    "\n",
    "#import from function\n",
    "from tutorial.function import train_behavior_policy\n",
    "from tutorial.function import obtain_logged_dataset\n",
    "from tutorial.function import train_candidate_policies\n",
    "# from experiments.main import off_policy_evaluation\n",
    "from tutorial.function import off_policy_evaluation\n"
   ]
  },
  {
   "cell_type": "code",
   "execution_count": 3,
   "metadata": {},
   "outputs": [],
   "source": [
    "import pickle\n",
    "from glob import glob\n",
    "from tqdm import tqdm\n",
    "\n",
    "import numpy as np\n",
    "import pandas as pd\n",
    "from pandas import DataFrame\n",
    "\n",
    "import matplotlib.pyplot as plt\n",
    "import seaborn as sns\n",
    "\n",
    "%matplotlib inline"
   ]
  },
  {
   "cell_type": "code",
   "execution_count": 4,
   "metadata": {},
   "outputs": [],
   "source": [
    "# log directory\n",
    "from pathlib import Path\n",
    "Path(\"logs/\").mkdir(exist_ok=True)"
   ]
  },
  {
   "cell_type": "code",
   "execution_count": 5,
   "metadata": {},
   "outputs": [],
   "source": [
    "# # standardized environment for discrete action\n",
    "env = gym.make(\"BasicEnv-continuous-v0\")\n",
    "# # for api compatibility to d3rlpy\n",
    "from ofrl.utils import OldGymAPIWrapper\n",
    "env_ = OldGymAPIWrapper(env)\n",
    "# # behavior policy\n",
    "from d3rlpy.algos import SAC\n",
    "from d3rlpy.models.encoders import VectorEncoderFactory\n",
    "from d3rlpy.models.q_functions import MeanQFunctionFactory\n",
    "from d3rlpy.online.buffers import ReplayBuffer"
   ]
  },
  {
   "cell_type": "code",
   "execution_count": 6,
   "metadata": {},
   "outputs": [],
   "source": [
    "from d3rlpy.dataset import MDPDataset\n",
    "from d3rlpy.algos import CQL"
   ]
  },
  {
   "cell_type": "code",
   "execution_count": 7,
   "metadata": {},
   "outputs": [],
   "source": [
    "# import ope modules from OFRL\n",
    "from ofrl.ope import CreateOPEInput\n",
    "from ofrl.ope import OffPolicyEvaluation\n",
    "# basic estimators\n",
    "from ofrl.ope import ContinuousDirectMethod as C_DM\n",
    "from ofrl.ope import ContinuousTrajectoryWiseImportanceSampling as C_TIS\n",
    "from ofrl.ope import ContinuousPerDecisionImportanceSampling as C_PDIS\n",
    "from ofrl.ope import ContinuousDoublyRobust as C_DR\n",
    "# self normalized estimators\n",
    "from ofrl.ope import ContinuousSelfNormalizedTrajectoryWiseImportanceSampling as C_SNTIS\n",
    "from ofrl.ope import ContinuousSelfNormalizedPerDecisionImportanceSampling as C_SNPDIS\n",
    "from ofrl.ope import ContinuousSelfNormalizedDoublyRobust as C_SNDR\n",
    "# marginal estimators\n",
    "from ofrl.ope import ContinuousStateActionMarginalImportanceSampling as C_SAMIS\n",
    "from ofrl.ope import ContinuousStateActionMarginalDoublyRobust as C_SAMDR\n",
    "from ofrl.ope import ContinuousStateMarginalImportanceSampling as C_SMIS\n",
    "from ofrl.ope import ContinuousStateMarginalDoublyRobust as C_SMDR\n",
    "from ofrl.ope import ContinuousStateActionMarginalSelfNormalizedImportanceSampling as C_SAMSNIS\n",
    "from ofrl.ope import ContinuousStateActionMarginalSelfNormalizedDoublyRobust as C_SAMSNDR\n",
    "from ofrl.ope import ContinuousStateMarginalSelfNormalizedImportanceSampling as C_SMSNIS\n",
    "from ofrl.ope import ContinuousStateMarginalSelfNormalizedDoublyRobust as C_SMSNDR\n",
    "# double reinforcement learning estimators\n",
    "from ofrl.ope import ContinuousDoubleReinforcementLearning as C_DRL"
   ]
  },
  {
   "cell_type": "code",
   "execution_count": 22,
   "metadata": {},
   "outputs": [
    {
     "name": "stderr",
     "output_type": "stream",
     "text": [
      "/Users/ren/.pyenv/versions/3.10.6/lib/python3.10/site-packages/gym/utils/passive_env_checker.py:187: UserWarning: \u001b[33mWARN: Future gym versions will require that `Env.reset` can be passed `options` to allow the environment initialisation to be passed additional information.\u001b[0m\n",
      "  logger.warn(\n"
     ]
    },
    {
     "data": {
      "application/vnd.jupyter.widget-view+json": {
       "model_id": "3765fadd3c46415494e6f7bc79c6a6db",
       "version_major": 2,
       "version_minor": 0
      },
      "text/plain": [
       "[obtain_trajectories]:   0%|          | 0/2 [00:00<?, ?it/s]"
      ]
     },
     "metadata": {},
     "output_type": "display_data"
    },
    {
     "data": {
      "application/vnd.jupyter.widget-view+json": {
       "model_id": "30bc8486a8424578b5f846c6a50e8a4e",
       "version_major": 2,
       "version_minor": 0
      },
      "text/plain": [
       "[obtain_datasets: dataset_id]:   0%|          | 0/2 [00:00<?, ?it/s]"
      ]
     },
     "metadata": {},
     "output_type": "display_data"
    },
    {
     "data": {
      "application/vnd.jupyter.widget-view+json": {
       "model_id": "eba845b8d7ce4eb4bf403db31c6681df",
       "version_major": 2,
       "version_minor": 0
      },
      "text/plain": [
       "[obtain_trajectories]:   0%|          | 0/2 [00:00<?, ?it/s]"
      ]
     },
     "metadata": {},
     "output_type": "display_data"
    },
    {
     "data": {
      "application/vnd.jupyter.widget-view+json": {
       "model_id": "24b75fdef7ee498989d814e0cb9ec42b",
       "version_major": 2,
       "version_minor": 0
      },
      "text/plain": [
       "[obtain_trajectories]:   0%|          | 0/2 [00:00<?, ?it/s]"
      ]
     },
     "metadata": {},
     "output_type": "display_data"
    },
    {
     "data": {
      "application/vnd.jupyter.widget-view+json": {
       "model_id": "896a96ac444b4b86a1af58c5801df613",
       "version_major": 2,
       "version_minor": 0
      },
      "text/plain": [
       "[learn_policies: algorithms]:   0%|          | 0/2 [00:00<?, ?it/s]"
      ]
     },
     "metadata": {},
     "output_type": "display_data"
    },
    {
     "name": "stdout",
     "output_type": "stream",
     "text": [
      "2023-04-21 02:35.58 [debug    ] RandomIterator is selected.\n",
      "2023-04-21 02:35.58 [info     ] Directory is created at d3rlpy_logs/CQL_20230421023558\n",
      "2023-04-21 02:35.58 [debug    ] Fitting action scaler...       action_scaler=min_max\n",
      "2023-04-21 02:35.58 [debug    ] Building models...\n",
      "2023-04-21 02:35.58 [debug    ] Models have been built.\n",
      "2023-04-21 02:35.58 [info     ] Parameters are saved to d3rlpy_logs/CQL_20230421023558/params.json params={'action_scaler': {'type': 'min_max', 'params': {'minimum': array([-1., -1., -1.]), 'maximum': array([1., 1., 1.])}}, 'actor_encoder_factory': {'type': 'vector', 'params': {'hidden_units': [30, 30], 'activation': 'relu', 'use_batch_norm': False, 'dropout_rate': None, 'use_dense': False}}, 'actor_learning_rate': 0.0001, 'actor_optim_factory': {'optim_cls': 'Adam', 'betas': (0.9, 0.999), 'eps': 1e-08, 'weight_decay': 0, 'amsgrad': False}, 'alpha_learning_rate': 0.0001, 'alpha_optim_factory': {'optim_cls': 'Adam', 'betas': (0.9, 0.999), 'eps': 1e-08, 'weight_decay': 0, 'amsgrad': False}, 'alpha_threshold': 10.0, 'batch_size': 256, 'conservative_weight': 5.0, 'critic_encoder_factory': {'type': 'vector', 'params': {'hidden_units': [30, 30], 'activation': 'relu', 'use_batch_norm': False, 'dropout_rate': None, 'use_dense': False}}, 'critic_learning_rate': 0.0003, 'critic_optim_factory': {'optim_cls': 'Adam', 'betas': (0.9, 0.999), 'eps': 1e-08, 'weight_decay': 0, 'amsgrad': False}, 'gamma': 0.99, 'generated_maxlen': 100000, 'initial_alpha': 1.0, 'initial_temperature': 1.0, 'n_action_samples': 10, 'n_critics': 2, 'n_frames': 1, 'n_steps': 1, 'q_func_factory': {'type': 'mean', 'params': {'share_encoder': False}}, 'real_ratio': 1.0, 'reward_scaler': None, 'scaler': None, 'soft_q_backup': False, 'tau': 0.005, 'temp_learning_rate': 0.0001, 'temp_optim_factory': {'optim_cls': 'Adam', 'betas': (0.9, 0.999), 'eps': 1e-08, 'weight_decay': 0, 'amsgrad': False}, 'use_gpu': None, 'algorithm': 'CQL', 'observation_shape': (5,), 'action_size': 3}\n"
     ]
    },
    {
     "data": {
      "application/vnd.jupyter.widget-view+json": {
       "model_id": "2b38a6fe2da74aebaacae3c6fb719991",
       "version_major": 2,
       "version_minor": 0
      },
      "text/plain": [
       "Epoch 1/1:   0%|          | 0/10000 [00:00<?, ?it/s]"
      ]
     },
     "metadata": {},
     "output_type": "display_data"
    },
    {
     "name": "stdout",
     "output_type": "stream",
     "text": [
      "2023-04-21 02:41.18 [info     ] CQL_20230421023558: epoch=1 step=10000 epoch=1 metrics={'time_sample_batch': 0.0009389776229858398, 'time_algorithm_update': 0.030172406649589537, 'temp_loss': -3.6544822816467843, 'temp': 1.3230126127958297, 'alpha_loss': 23.781788408971018, 'alpha': 0.6920229102224111, 'critic_loss': -23.688970983906835, 'actor_loss': 19.28939517410677, 'time_step': 0.03172298517227173} step=10000\n",
      "2023-04-21 02:41.18 [info     ] Model parameters are saved to d3rlpy_logs/CQL_20230421023558/model_10000.pt\n",
      "2023-04-21 02:41.18 [debug    ] RandomIterator is selected.\n",
      "2023-04-21 02:41.18 [info     ] Directory is created at d3rlpy_logs/CQL_20230421024118\n",
      "2023-04-21 02:41.18 [debug    ] Fitting action scaler...       action_scaler=min_max\n",
      "2023-04-21 02:41.18 [debug    ] Building models...\n",
      "2023-04-21 02:41.18 [debug    ] Models have been built.\n",
      "2023-04-21 02:41.18 [info     ] Parameters are saved to d3rlpy_logs/CQL_20230421024118/params.json params={'action_scaler': {'type': 'min_max', 'params': {'minimum': array([-1., -1., -1.]), 'maximum': array([1., 1., 1.])}}, 'actor_encoder_factory': {'type': 'vector', 'params': {'hidden_units': [100], 'activation': 'relu', 'use_batch_norm': False, 'dropout_rate': None, 'use_dense': False}}, 'actor_learning_rate': 0.0001, 'actor_optim_factory': {'optim_cls': 'Adam', 'betas': (0.9, 0.999), 'eps': 1e-08, 'weight_decay': 0, 'amsgrad': False}, 'alpha_learning_rate': 0.0001, 'alpha_optim_factory': {'optim_cls': 'Adam', 'betas': (0.9, 0.999), 'eps': 1e-08, 'weight_decay': 0, 'amsgrad': False}, 'alpha_threshold': 10.0, 'batch_size': 256, 'conservative_weight': 5.0, 'critic_encoder_factory': {'type': 'vector', 'params': {'hidden_units': [100], 'activation': 'relu', 'use_batch_norm': False, 'dropout_rate': None, 'use_dense': False}}, 'critic_learning_rate': 0.0003, 'critic_optim_factory': {'optim_cls': 'Adam', 'betas': (0.9, 0.999), 'eps': 1e-08, 'weight_decay': 0, 'amsgrad': False}, 'gamma': 0.99, 'generated_maxlen': 100000, 'initial_alpha': 1.0, 'initial_temperature': 1.0, 'n_action_samples': 10, 'n_critics': 2, 'n_frames': 1, 'n_steps': 1, 'q_func_factory': {'type': 'mean', 'params': {'share_encoder': False}}, 'real_ratio': 1.0, 'reward_scaler': None, 'scaler': None, 'soft_q_backup': False, 'tau': 0.005, 'temp_learning_rate': 0.0001, 'temp_optim_factory': {'optim_cls': 'Adam', 'betas': (0.9, 0.999), 'eps': 1e-08, 'weight_decay': 0, 'amsgrad': False}, 'use_gpu': None, 'algorithm': 'CQL', 'observation_shape': (5,), 'action_size': 3}\n"
     ]
    },
    {
     "data": {
      "application/vnd.jupyter.widget-view+json": {
       "model_id": "6efe47eab1424a2e80b3b2a2b88f30ca",
       "version_major": 2,
       "version_minor": 0
      },
      "text/plain": [
       "Epoch 1/1:   0%|          | 0/10000 [00:00<?, ?it/s]"
      ]
     },
     "metadata": {},
     "output_type": "display_data"
    },
    {
     "name": "stdout",
     "output_type": "stream",
     "text": [
      "2023-04-21 02:46.11 [info     ] CQL_20230421024118: epoch=1 step=10000 epoch=1 metrics={'time_sample_batch': 0.0009185099363327026, 'time_algorithm_update': 0.02752301366329193, 'temp_loss': 0.5989849624673137, 'temp': 0.9005616285145283, 'alpha_loss': 10.973549168953673, 'alpha': 0.7818670011490584, 'critic_loss': -10.925186485316791, 'actor_loss': 8.089484787018783, 'time_step': 0.02907041258811951} step=10000\n",
      "2023-04-21 02:46.11 [info     ] Model parameters are saved to d3rlpy_logs/CQL_20230421024118/model_10000.pt\n"
     ]
    },
    {
     "data": {
      "application/vnd.jupyter.widget-view+json": {
       "model_id": "efd5489655524e63b2b30dc641ce1ad2",
       "version_major": 2,
       "version_minor": 0
      },
      "text/plain": [
       "[collect input data: behavior_policy]:   0%|          | 0/1 [00:00<?, ?it/s]"
      ]
     },
     "metadata": {},
     "output_type": "display_data"
    },
    {
     "data": {
      "application/vnd.jupyter.widget-view+json": {
       "model_id": "c59ac1705b344197ae6a750f75c4893c",
       "version_major": 2,
       "version_minor": 0
      },
      "text/plain": [
       "[collect input data: dataset_id]:   0%|          | 0/2 [00:00<?, ?it/s]"
      ]
     },
     "metadata": {},
     "output_type": "display_data"
    },
    {
     "data": {
      "application/vnd.jupyter.widget-view+json": {
       "model_id": "5f704c2d772542b3bd774b65a9c44bb7",
       "version_major": 2,
       "version_minor": 0
      },
      "text/plain": [
       "[collect input data: eval_policy]:   0%|          | 0/4 [00:00<?, ?it/s]"
      ]
     },
     "metadata": {},
     "output_type": "display_data"
    },
    {
     "name": "stderr",
     "output_type": "stream",
     "text": [
      "/Users/ren/dev/ofrl/tutorial/../ofrl/policy/head.py:934: RuntimeWarning: divide by zero encountered in divide\n",
      "  a=(self.minimum - greedy_action) / self.sigma,\n",
      "/Users/ren/dev/ofrl/tutorial/../ofrl/policy/head.py:935: RuntimeWarning: divide by zero encountered in divide\n",
      "  b=(self.maximum - greedy_action) / self.sigma,\n"
     ]
    },
    {
     "data": {
      "application/vnd.jupyter.widget-view+json": {
       "model_id": "6730fae6fa3446189b1face2977656c1",
       "version_major": 2,
       "version_minor": 0
      },
      "text/plain": [
       "[calculate on-policy policy value]:   0%|          | 0/100 [00:00<?, ?it/s]"
      ]
     },
     "metadata": {},
     "output_type": "display_data"
    },
    {
     "data": {
      "application/vnd.jupyter.widget-view+json": {
       "model_id": "e6cf495fde2545a89a4838392a1ca463",
       "version_major": 2,
       "version_minor": 0
      },
      "text/plain": [
       "[calculate on-policy policy value]:   0%|          | 0/100 [00:00<?, ?it/s]"
      ]
     },
     "metadata": {},
     "output_type": "display_data"
    },
    {
     "data": {
      "application/vnd.jupyter.widget-view+json": {
       "model_id": "26666508aed2434693c845c6f68879a5",
       "version_major": 2,
       "version_minor": 0
      },
      "text/plain": [
       "[calculate on-policy policy value]:   0%|          | 0/100 [00:00<?, ?it/s]"
      ]
     },
     "metadata": {},
     "output_type": "display_data"
    },
    {
     "data": {
      "application/vnd.jupyter.widget-view+json": {
       "model_id": "a4bb44b8c89e4488b4ad31dfce995bb6",
       "version_major": 2,
       "version_minor": 0
      },
      "text/plain": [
       "[calculate on-policy policy value]:   0%|          | 0/100 [00:00<?, ?it/s]"
      ]
     },
     "metadata": {},
     "output_type": "display_data"
    },
    {
     "data": {
      "application/vnd.jupyter.widget-view+json": {
       "model_id": "3801462cd915425490133c647a93d103",
       "version_major": 2,
       "version_minor": 0
      },
      "text/plain": [
       "[collect input data: eval_policy]:   0%|          | 0/4 [00:00<?, ?it/s]"
      ]
     },
     "metadata": {},
     "output_type": "display_data"
    },
    {
     "data": {
      "application/vnd.jupyter.widget-view+json": {
       "model_id": "6e5167f06e024e8b8e8913f2ea491af2",
       "version_major": 2,
       "version_minor": 0
      },
      "text/plain": [
       "[calculate on-policy policy value]:   0%|          | 0/100 [00:00<?, ?it/s]"
      ]
     },
     "metadata": {},
     "output_type": "display_data"
    },
    {
     "data": {
      "application/vnd.jupyter.widget-view+json": {
       "model_id": "952300fc1ea74561b93709dd5d8d51a2",
       "version_major": 2,
       "version_minor": 0
      },
      "text/plain": [
       "[calculate on-policy policy value]:   0%|          | 0/100 [00:00<?, ?it/s]"
      ]
     },
     "metadata": {},
     "output_type": "display_data"
    },
    {
     "data": {
      "application/vnd.jupyter.widget-view+json": {
       "model_id": "e4c1c6a026dd4ed2acbef8da19798259",
       "version_major": 2,
       "version_minor": 0
      },
      "text/plain": [
       "[calculate on-policy policy value]:   0%|          | 0/100 [00:00<?, ?it/s]"
      ]
     },
     "metadata": {},
     "output_type": "display_data"
    },
    {
     "data": {
      "application/vnd.jupyter.widget-view+json": {
       "model_id": "956065c3a35947a09cdf931a02ac5151",
       "version_major": 2,
       "version_minor": 0
      },
      "text/plain": [
       "[calculate on-policy policy value]:   0%|          | 0/100 [00:00<?, ?it/s]"
      ]
     },
     "metadata": {},
     "output_type": "display_data"
    },
    {
     "name": "stdout",
     "output_type": "stream",
     "text": [
      "['sac_gauss_1.0']\n",
      "2 {'sac_gauss_1.0': [{'cql_b1_gauss_0.0': {'on_policy': -1.1474967003581975, 'tis': -9.680925852975302e+25, 'snpdis': -0.5241172199585697}, 'cql_b1_gauss_0.5': {'on_policy': -0.5019233295611583, 'tis': -1.3228232024518118e+26, 'snpdis': -0.42400112490784325}, 'cql_b2_gauss_0.0': {'on_policy': -0.5861031328754719, 'tis': -1.242488574475691e+26, 'snpdis': -0.5487119775985795}, 'cql_b2_gauss_0.5': {'on_policy': -0.4433365610036876, 'tis': -4.265407832915773e+25, 'snpdis': -0.27543252422555015}}, {'cql_b1_gauss_0.0': {'on_policy': -1.1474967003581975, 'tis': 1.2851578150916508e+24, 'snpdis': 1.4461494734405331}, 'cql_b1_gauss_0.5': {'on_policy': -0.6638769214712411, 'tis': 2.5223934927921805e+24, 'snpdis': 1.4189624000600243}, 'cql_b2_gauss_0.0': {'on_policy': -0.5861031328754719, 'tis': 1.1264379983851842e+24, 'snpdis': 1.4301072258294958}, 'cql_b2_gauss_0.5': {'on_policy': -0.22280273511837043, 'tis': 2.129399753249198e+24, 'snpdis': 1.4557187225049726}}]}\n",
      "10 {'sac_gauss_1.0': [{'cql_b1_gauss_0.0': {'on_policy': -1.1474967003581975, 'tis': -9.680925852975302e+25, 'snpdis': -0.5241172199585697}, 'cql_b1_gauss_0.5': {'on_policy': -0.5019233295611583, 'tis': -1.3228232024518118e+26, 'snpdis': -0.42400112490784325}, 'cql_b2_gauss_0.0': {'on_policy': -0.5861031328754719, 'tis': -1.242488574475691e+26, 'snpdis': -0.5487119775985795}, 'cql_b2_gauss_0.5': {'on_policy': -0.4433365610036876, 'tis': -4.265407832915773e+25, 'snpdis': -0.27543252422555015}}, {'cql_b1_gauss_0.0': {'on_policy': -1.1474967003581975, 'tis': 1.2851578150916508e+24, 'snpdis': 1.4461494734405331}, 'cql_b1_gauss_0.5': {'on_policy': -0.6638769214712411, 'tis': 2.5223934927921805e+24, 'snpdis': 1.4189624000600243}, 'cql_b2_gauss_0.0': {'on_policy': -0.5861031328754719, 'tis': 1.1264379983851842e+24, 'snpdis': 1.4301072258294958}, 'cql_b2_gauss_0.5': {'on_policy': -0.22280273511837043, 'tis': 2.129399753249198e+24, 'snpdis': 1.4557187225049726}}]}\n",
      "20 {'sac_gauss_1.0': [{'cql_b1_gauss_0.0': {'on_policy': -1.1474967003581975, 'tis': -9.680925852975302e+25, 'snpdis': -0.5241172199585697}, 'cql_b1_gauss_0.5': {'on_policy': -0.5019233295611583, 'tis': -1.3228232024518118e+26, 'snpdis': -0.42400112490784325}, 'cql_b2_gauss_0.0': {'on_policy': -0.5861031328754719, 'tis': -1.242488574475691e+26, 'snpdis': -0.5487119775985795}, 'cql_b2_gauss_0.5': {'on_policy': -0.4433365610036876, 'tis': -4.265407832915773e+25, 'snpdis': -0.27543252422555015}}, {'cql_b1_gauss_0.0': {'on_policy': -1.1474967003581975, 'tis': 1.2851578150916508e+24, 'snpdis': 1.4461494734405331}, 'cql_b1_gauss_0.5': {'on_policy': -0.6638769214712411, 'tis': 2.5223934927921805e+24, 'snpdis': 1.4189624000600243}, 'cql_b2_gauss_0.0': {'on_policy': -0.5861031328754719, 'tis': 1.1264379983851842e+24, 'snpdis': 1.4301072258294958}, 'cql_b2_gauss_0.5': {'on_policy': -0.22280273511837043, 'tis': 2.129399753249198e+24, 'snpdis': 1.4557187225049726}}]}\n"
     ]
    }
   ],
   "source": [
    "\n",
    "env_name=\"BasicEnv-continuous-v0\"\n",
    "env = gym.make(env_name)\n",
    "behavior_sigma=1.0\n",
    "behavior_tau=1.0\n",
    "candidate_sigmas=[0.0, 0.5]\n",
    "# candidate_sigmas=[0.0, 0.5, 1.0, 2.0]\n",
    "candidate_epsilons=[0.1, 0.3]\n",
    "# candidate_epsilons=[0.1, 0.3, 0.5, 0.7]\n",
    "max_episode_steps=50\n",
    "# n_trajectories=10000\n",
    "n_random_state=2\n",
    "base_random_state=12345\n",
    "log_dir=\"../tutorial/logs/\"\n",
    "device=\"cuda:0\" if torch.cuda.is_available() else \"cpu\",\n",
    "n_trajectories_list =  [2, 10, 20]\n",
    "bias_df_list = []\n",
    "variance_df_list = []\n",
    "mse_df_list = []\n",
    "\n",
    "for n_trajectories in n_trajectories_list:\n",
    "\n",
    "    behavior_policy = train_behavior_policy(\n",
    "        env_name=env_name,\n",
    "        env=env,\n",
    "        behavior_sigma=behavior_sigma,\n",
    "        behavior_tau=behavior_tau,\n",
    "        device=device,\n",
    "        base_random_state=base_random_state,\n",
    "        log_dir=log_dir,\n",
    "    )\n",
    "\n",
    "    train_logged_dataset, test_logged_dataset = obtain_logged_dataset(\n",
    "        env_name=env_name,\n",
    "        env=env,\n",
    "        behavior_policy=behavior_policy,\n",
    "        n_trajectories=n_trajectories,\n",
    "        n_random_state=n_random_state,\n",
    "        base_random_state=base_random_state,\n",
    "        log_dir=log_dir,\n",
    "    )\n",
    "\n",
    "    candidate_policies = train_candidate_policies(\n",
    "        env_name=env_name,\n",
    "        env=env,\n",
    "        n_trajectories=n_trajectories,\n",
    "        train_logged_dataset=train_logged_dataset,\n",
    "        candidate_sigmas=candidate_sigmas,\n",
    "        candidate_epsilons=candidate_epsilons,\n",
    "        device=device,\n",
    "        base_random_state=base_random_state,\n",
    "        log_dir=log_dir,\n",
    "    )\n",
    "\n",
    "    input_dict, policy_value_dict = off_policy_evaluation(\n",
    "        env_name=env_name,\n",
    "        env=env,\n",
    "        n_trajectories=n_trajectories,\n",
    "        test_logged_dataset=test_logged_dataset,\n",
    "        candidate_policies=candidate_policies,\n",
    "        device=device,\n",
    "        base_random_state=base_random_state,\n",
    "        # log_dir=\"logs/\",\n",
    "        log_dir=log_dir,\n",
    "    )\n",
    "\n",
    "    input_dict_ = input_dict.get(\n",
    "        behavior_policy_name=\"sac_gauss_1.0\",\n",
    "        dataset_id=0,\n",
    "    )\n",
    "\n",
    "    dict = {i : DataFrame() for i in input_dict_.keys()}\n",
    "    bias_dict = {i : 0 for i in input_dict_.keys()}\n",
    "    variance_dict = {i : 0 for i in input_dict_.keys()}\n",
    "    mse_dict = {i : 0 for i in input_dict_.keys()}\n",
    "\n",
    "    for dataset_id_ in range(n_random_state):\n",
    "        for eval_policy in input_dict_.keys():\n",
    "            dict[eval_policy] = pd.concat([dict[eval_policy] , DataFrame(policy_value_dict['sac_gauss_1.0'][dataset_id_][eval_policy], index=[dataset_id_])])\n",
    "    \n",
    "    print(n_trajectories, policy_value_dict)\n",
    "\n",
    "\n",
    "    for eval_policy in input_dict_.keys():\n",
    "        bias_dict[eval_policy] = abs(dict[eval_policy].mean(axis=0) - dict[eval_policy].mean(axis=0)['on_policy'])\n",
    "        variance_dict[eval_policy] = dict[eval_policy].var(axis=0)\n",
    "        mse_dict[eval_policy] = bias_dict[eval_policy]**2 + variance_dict[eval_policy]\n",
    "\n",
    "    # print(n_trajectories, bias_dict)\n",
    "\n",
    "    bias_df = DataFrame(DataFrame(bias_dict['cql_b1_gauss_0.0']).stack())\\\n",
    "    .reset_index(0).rename(columns={\"level_0\": \"est\", 0: \"bias\"})\n",
    "    bias_df[\"n_trajectories\"] = n_trajectories\n",
    "    bias_df_list.append(bias_df)\n",
    "    variance_df = DataFrame(DataFrame(variance_dict['cql_b1_gauss_0.0']).stack())\\\n",
    "    .reset_index(0).rename(columns={\"level_0\": \"est\", 0: \"variance\"})\n",
    "    variance_df[\"n_trajectories\"] = n_trajectories\n",
    "    variance_df_list.append(variance_df)\n",
    "    mse_df = DataFrame(DataFrame(mse_dict['cql_b1_gauss_0.0']).stack())\\\n",
    "    .reset_index(0).rename(columns={\"level_0\": \"est\", 0: \"mse\"})\n",
    "    mse_df[\"n_trajectories\"] = n_trajectories\n",
    "    mse_df_list.append(mse_df)\n",
    "\n",
    "# aggregate all results \n",
    "bias_result_df = pd.concat(bias_df_list).reset_index(level=0)\n",
    "variance_result_df = pd.concat(variance_df_list).reset_index(level=0)\n",
    "mse_result_df = pd.concat(mse_df_list).reset_index(level=0)\n"
   ]
  },
  {
   "cell_type": "code",
   "execution_count": 12,
   "metadata": {},
   "outputs": [
    {
     "data": {
      "text/html": [
       "<div>\n",
       "<style scoped>\n",
       "    .dataframe tbody tr th:only-of-type {\n",
       "        vertical-align: middle;\n",
       "    }\n",
       "\n",
       "    .dataframe tbody tr th {\n",
       "        vertical-align: top;\n",
       "    }\n",
       "\n",
       "    .dataframe thead th {\n",
       "        text-align: right;\n",
       "    }\n",
       "</style>\n",
       "<table border=\"1\" class=\"dataframe\">\n",
       "  <thead>\n",
       "    <tr style=\"text-align: right;\">\n",
       "      <th></th>\n",
       "      <th>index</th>\n",
       "      <th>est</th>\n",
       "      <th>bias</th>\n",
       "      <th>n_trajectories</th>\n",
       "    </tr>\n",
       "  </thead>\n",
       "  <tbody>\n",
       "    <tr>\n",
       "      <th>0</th>\n",
       "      <td>0</td>\n",
       "      <td>on_policy</td>\n",
       "      <td>0.000000e+00</td>\n",
       "      <td>10</td>\n",
       "    </tr>\n",
       "    <tr>\n",
       "      <th>1</th>\n",
       "      <td>0</td>\n",
       "      <td>tis</td>\n",
       "      <td>6.515309e+26</td>\n",
       "      <td>10</td>\n",
       "    </tr>\n",
       "    <tr>\n",
       "      <th>2</th>\n",
       "      <td>0</td>\n",
       "      <td>snpdis</td>\n",
       "      <td>1.052880e-01</td>\n",
       "      <td>10</td>\n",
       "    </tr>\n",
       "    <tr>\n",
       "      <th>3</th>\n",
       "      <td>0</td>\n",
       "      <td>on_policy</td>\n",
       "      <td>0.000000e+00</td>\n",
       "      <td>20</td>\n",
       "    </tr>\n",
       "    <tr>\n",
       "      <th>4</th>\n",
       "      <td>0</td>\n",
       "      <td>tis</td>\n",
       "      <td>6.515309e+26</td>\n",
       "      <td>20</td>\n",
       "    </tr>\n",
       "    <tr>\n",
       "      <th>5</th>\n",
       "      <td>0</td>\n",
       "      <td>snpdis</td>\n",
       "      <td>1.052880e-01</td>\n",
       "      <td>20</td>\n",
       "    </tr>\n",
       "  </tbody>\n",
       "</table>\n",
       "</div>"
      ],
      "text/plain": [
       "   index        est          bias  n_trajectories\n",
       "0      0  on_policy  0.000000e+00              10\n",
       "1      0        tis  6.515309e+26              10\n",
       "2      0     snpdis  1.052880e-01              10\n",
       "3      0  on_policy  0.000000e+00              20\n",
       "4      0        tis  6.515309e+26              20\n",
       "5      0     snpdis  1.052880e-01              20"
      ]
     },
     "execution_count": 12,
     "metadata": {},
     "output_type": "execute_result"
    }
   ],
   "source": [
    "bias_result_df"
   ]
  },
  {
   "cell_type": "code",
   "execution_count": 13,
   "metadata": {},
   "outputs": [
    {
     "data": {
      "text/html": [
       "<div>\n",
       "<style scoped>\n",
       "    .dataframe tbody tr th:only-of-type {\n",
       "        vertical-align: middle;\n",
       "    }\n",
       "\n",
       "    .dataframe tbody tr th {\n",
       "        vertical-align: top;\n",
       "    }\n",
       "\n",
       "    .dataframe thead th {\n",
       "        text-align: right;\n",
       "    }\n",
       "</style>\n",
       "<table border=\"1\" class=\"dataframe\">\n",
       "  <thead>\n",
       "    <tr style=\"text-align: right;\">\n",
       "      <th></th>\n",
       "      <th>index</th>\n",
       "      <th>est</th>\n",
       "      <th>variance</th>\n",
       "      <th>n_trajectories</th>\n",
       "    </tr>\n",
       "  </thead>\n",
       "  <tbody>\n",
       "    <tr>\n",
       "      <th>0</th>\n",
       "      <td>0</td>\n",
       "      <td>on_policy</td>\n",
       "      <td>0.000000e+00</td>\n",
       "      <td>10</td>\n",
       "    </tr>\n",
       "    <tr>\n",
       "      <th>1</th>\n",
       "      <td>0</td>\n",
       "      <td>tis</td>\n",
       "      <td>1.211757e+54</td>\n",
       "      <td>10</td>\n",
       "    </tr>\n",
       "    <tr>\n",
       "      <th>2</th>\n",
       "      <td>0</td>\n",
       "      <td>snpdis</td>\n",
       "      <td>1.748005e-01</td>\n",
       "      <td>10</td>\n",
       "    </tr>\n",
       "    <tr>\n",
       "      <th>3</th>\n",
       "      <td>0</td>\n",
       "      <td>on_policy</td>\n",
       "      <td>0.000000e+00</td>\n",
       "      <td>20</td>\n",
       "    </tr>\n",
       "    <tr>\n",
       "      <th>4</th>\n",
       "      <td>0</td>\n",
       "      <td>tis</td>\n",
       "      <td>1.211757e+54</td>\n",
       "      <td>20</td>\n",
       "    </tr>\n",
       "    <tr>\n",
       "      <th>5</th>\n",
       "      <td>0</td>\n",
       "      <td>snpdis</td>\n",
       "      <td>1.748005e-01</td>\n",
       "      <td>20</td>\n",
       "    </tr>\n",
       "  </tbody>\n",
       "</table>\n",
       "</div>"
      ],
      "text/plain": [
       "   index        est      variance  n_trajectories\n",
       "0      0  on_policy  0.000000e+00              10\n",
       "1      0        tis  1.211757e+54              10\n",
       "2      0     snpdis  1.748005e-01              10\n",
       "3      0  on_policy  0.000000e+00              20\n",
       "4      0        tis  1.211757e+54              20\n",
       "5      0     snpdis  1.748005e-01              20"
      ]
     },
     "execution_count": 13,
     "metadata": {},
     "output_type": "execute_result"
    }
   ],
   "source": [
    "variance_result_df"
   ]
  },
  {
   "cell_type": "code",
   "execution_count": 14,
   "metadata": {},
   "outputs": [],
   "source": [
    "# with open(\"logs/cql_variance_result_df.pkl\", \"wb\") as f:\n",
    "#     pickle.dump(variance_result_df, f)\n",
    "\n",
    "# with open(\"logs/cql_variance_result_df.pkl\", \"rb\") as f:\n",
    "#     variance_result_df = pickle.load(f)\n",
    "\n",
    "# with open(\"logs/cql_bias_result_df.pkl\", \"wb\") as f:\n",
    "#     pickle.dump(bias_result_df, f)\n",
    "\n",
    "# with open(\"logs/cql_bias_result_df.pkl\", \"rb\") as f:\n",
    "#     bias_result_df = pickle.load(f)\n",
    "\n",
    "# with open(\"logs/cql_mse_result_df.pkl\", \"wb\") as f:\n",
    "#     pickle.dump(mse_result_df, f)\n",
    "\n",
    "# with open(\"logs/cql_mse_result_df.pkl\", \"rb\") as f:\n",
    "#     mse_result_df = pickle.load(f)"
   ]
  },
  {
   "cell_type": "code",
   "execution_count": 15,
   "metadata": {},
   "outputs": [
    {
     "data": {
      "text/html": [
       "<div>\n",
       "<style scoped>\n",
       "    .dataframe tbody tr th:only-of-type {\n",
       "        vertical-align: middle;\n",
       "    }\n",
       "\n",
       "    .dataframe tbody tr th {\n",
       "        vertical-align: top;\n",
       "    }\n",
       "\n",
       "    .dataframe thead th {\n",
       "        text-align: right;\n",
       "    }\n",
       "</style>\n",
       "<table border=\"1\" class=\"dataframe\">\n",
       "  <thead>\n",
       "    <tr style=\"text-align: right;\">\n",
       "      <th></th>\n",
       "      <th>index</th>\n",
       "      <th>est</th>\n",
       "      <th>bias</th>\n",
       "      <th>n_trajectories</th>\n",
       "    </tr>\n",
       "  </thead>\n",
       "  <tbody>\n",
       "    <tr>\n",
       "      <th>1</th>\n",
       "      <td>0</td>\n",
       "      <td>tis</td>\n",
       "      <td>6.515309e+26</td>\n",
       "      <td>10</td>\n",
       "    </tr>\n",
       "    <tr>\n",
       "      <th>4</th>\n",
       "      <td>0</td>\n",
       "      <td>tis</td>\n",
       "      <td>6.515309e+26</td>\n",
       "      <td>20</td>\n",
       "    </tr>\n",
       "  </tbody>\n",
       "</table>\n",
       "</div>"
      ],
      "text/plain": [
       "   index  est          bias  n_trajectories\n",
       "1      0  tis  6.515309e+26              10\n",
       "4      0  tis  6.515309e+26              20"
      ]
     },
     "execution_count": 15,
     "metadata": {},
     "output_type": "execute_result"
    }
   ],
   "source": [
    "bias_result_df.query(\"(est == 'tis')\")"
   ]
  },
  {
   "cell_type": "code",
   "execution_count": 16,
   "metadata": {},
   "outputs": [
    {
     "name": "stderr",
     "output_type": "stream",
     "text": [
      "/var/folders/48/ly7vft814qv_x6krlfw5s8_c0000gn/T/ipykernel_36872/3133372002.py:7: FutureWarning: \n",
      "\n",
      "The `ci` parameter is deprecated. Use `errorbar=None` for the same effect.\n",
      "\n",
      "  sns.lineplot(\n"
     ]
    },
    {
     "data": {
      "image/png": "[encoded data removed]",
      "text/plain": [
       "<Figure size 1000x700 with 1 Axes>"
      ]
     },
     "metadata": {},
     "output_type": "display_data"
    }
   ],
   "source": [
    "# figure configs\n",
    "# query = \"(est == 'DM' or est == 'IPS') and num_data <= 6400\"\n",
    "xlabels = [10, 20]\n",
    "\n",
    "plt.style.use('ggplot')\n",
    "fig, ax = plt.subplots(figsize=(10, 7), tight_layout=True)\n",
    "sns.lineplot(\n",
    "    linewidth=5,\n",
    "    dashes=False,\n",
    "    legend=False,\n",
    "    x=\"n_trajectories\",\n",
    "    y=\"bias\",\n",
    "    hue=\"est\",\n",
    "    ax=ax,\n",
    "    data=bias_result_df.query(\"(est == 'tis')\"),\n",
    "    # data=bias_result_df.query(\"(est == 'dm' or est == 'pdis')\"),\n",
    "    ci=None,\n",
    ")\n",
    "# title and legend\n",
    "ax.legend([\"DM\", \"TIS\"], loc=\"upper right\", fontsize=25)\n",
    "# yaxis\n",
    "# ax.set_yscale(\"log\")\n",
    "ax.set_ylabel(\"bias\", fontsize=25)\n",
    "ax.tick_params(axis=\"y\", labelsize=15)\n",
    "ax.yaxis.set_label_coords(-0.08, 0.5)\n",
    "# xaxis\n",
    "ax.set_xscale(\"log\")\n",
    "ax.set_xlabel(\"number of trajectories\", fontsize=25)\n",
    "ax.set_xticks(xlabels)\n",
    "ax.set_xticklabels(xlabels, fontsize=15)\n",
    "ax.xaxis.set_label_coords(0.5, -0.1)"
   ]
  },
  {
   "cell_type": "code",
   "execution_count": 17,
   "metadata": {},
   "outputs": [
    {
     "name": "stderr",
     "output_type": "stream",
     "text": [
      "/var/folders/48/ly7vft814qv_x6krlfw5s8_c0000gn/T/ipykernel_36872/786624529.py:7: FutureWarning: \n",
      "\n",
      "The `ci` parameter is deprecated. Use `errorbar=None` for the same effect.\n",
      "\n",
      "  sns.lineplot(\n"
     ]
    },
    {
     "data": {
      "image/png": "[encoded data removed]",
      "text/plain": [
       "<Figure size 1000x700 with 1 Axes>"
      ]
     },
     "metadata": {},
     "output_type": "display_data"
    }
   ],
   "source": [
    "# figure configs\n",
    "# query = \"(est == 'DM' or est == 'IPS') and num_data <= 6400\"\n",
    "xlabels = [100, 400, 1600]\n",
    "\n",
    "plt.style.use('ggplot')\n",
    "fig, ax = plt.subplots(figsize=(10, 7), tight_layout=True)\n",
    "sns.lineplot(\n",
    "    linewidth=5,\n",
    "    dashes=False,\n",
    "    legend=False,\n",
    "    x=\"n_trajectories\",\n",
    "    y=\"bias\",\n",
    "    hue=\"index\",\n",
    "    ax=ax,\n",
    "    data=bias_result_df.query(\"(est == 'dm' or est == 'dr')\"),\n",
    "    ci=None,\n",
    ")\n",
    "# title and legend\n",
    "ax.legend([\"DM\", \"DR\"], loc=\"upper right\", fontsize=25)\n",
    "# yaxis\n",
    "# ax.set_yscale(\"log\")\n",
    "ax.set_ylabel(\"bias\", fontsize=25)\n",
    "ax.tick_params(axis=\"y\", labelsize=15)\n",
    "ax.yaxis.set_label_coords(-0.08, 0.5)\n",
    "# xaxis\n",
    "ax.set_xscale(\"log\")\n",
    "ax.set_xlabel(\"number of trajectories\", fontsize=25)\n",
    "ax.set_xticks(xlabels)\n",
    "ax.set_xticklabels(xlabels, fontsize=15)\n",
    "ax.xaxis.set_label_coords(0.5, -0.1)"
   ]
  },
  {
   "cell_type": "code",
   "execution_count": 18,
   "metadata": {},
   "outputs": [
    {
     "data": {
      "text/html": [
       "<div>\n",
       "<style scoped>\n",
       "    .dataframe tbody tr th:only-of-type {\n",
       "        vertical-align: middle;\n",
       "    }\n",
       "\n",
       "    .dataframe tbody tr th {\n",
       "        vertical-align: top;\n",
       "    }\n",
       "\n",
       "    .dataframe thead th {\n",
       "        text-align: right;\n",
       "    }\n",
       "</style>\n",
       "<table border=\"1\" class=\"dataframe\">\n",
       "  <thead>\n",
       "    <tr style=\"text-align: right;\">\n",
       "      <th></th>\n",
       "      <th>index</th>\n",
       "      <th>est</th>\n",
       "      <th>variance</th>\n",
       "      <th>n_trajectories</th>\n",
       "    </tr>\n",
       "  </thead>\n",
       "  <tbody>\n",
       "    <tr>\n",
       "      <th>0</th>\n",
       "      <td>0</td>\n",
       "      <td>on_policy</td>\n",
       "      <td>0.000000e+00</td>\n",
       "      <td>10</td>\n",
       "    </tr>\n",
       "    <tr>\n",
       "      <th>1</th>\n",
       "      <td>0</td>\n",
       "      <td>tis</td>\n",
       "      <td>1.211757e+54</td>\n",
       "      <td>10</td>\n",
       "    </tr>\n",
       "    <tr>\n",
       "      <th>2</th>\n",
       "      <td>0</td>\n",
       "      <td>snpdis</td>\n",
       "      <td>1.748005e-01</td>\n",
       "      <td>10</td>\n",
       "    </tr>\n",
       "    <tr>\n",
       "      <th>3</th>\n",
       "      <td>0</td>\n",
       "      <td>on_policy</td>\n",
       "      <td>0.000000e+00</td>\n",
       "      <td>20</td>\n",
       "    </tr>\n",
       "    <tr>\n",
       "      <th>4</th>\n",
       "      <td>0</td>\n",
       "      <td>tis</td>\n",
       "      <td>1.211757e+54</td>\n",
       "      <td>20</td>\n",
       "    </tr>\n",
       "    <tr>\n",
       "      <th>5</th>\n",
       "      <td>0</td>\n",
       "      <td>snpdis</td>\n",
       "      <td>1.748005e-01</td>\n",
       "      <td>20</td>\n",
       "    </tr>\n",
       "  </tbody>\n",
       "</table>\n",
       "</div>"
      ],
      "text/plain": [
       "   index        est      variance  n_trajectories\n",
       "0      0  on_policy  0.000000e+00              10\n",
       "1      0        tis  1.211757e+54              10\n",
       "2      0     snpdis  1.748005e-01              10\n",
       "3      0  on_policy  0.000000e+00              20\n",
       "4      0        tis  1.211757e+54              20\n",
       "5      0     snpdis  1.748005e-01              20"
      ]
     },
     "execution_count": 18,
     "metadata": {},
     "output_type": "execute_result"
    }
   ],
   "source": [
    "variance_result_df"
   ]
  },
  {
   "cell_type": "code",
   "execution_count": 19,
   "metadata": {},
   "outputs": [
    {
     "name": "stderr",
     "output_type": "stream",
     "text": [
      "/var/folders/48/ly7vft814qv_x6krlfw5s8_c0000gn/T/ipykernel_36872/1079444482.py:7: FutureWarning: \n",
      "\n",
      "The `ci` parameter is deprecated. Use `errorbar=None` for the same effect.\n",
      "\n",
      "  sns.lineplot(\n"
     ]
    },
    {
     "data": {
      "image/png": "[encoded data removed]",
      "text/plain": [
       "<Figure size 1000x700 with 1 Axes>"
      ]
     },
     "metadata": {},
     "output_type": "display_data"
    }
   ],
   "source": [
    "# figure configs\n",
    "# query = \"(est == 'DM' or est == 'IPS') and num_data <= 6400\"\n",
    "xlabels = [100, 400, 1600, 3200]\n",
    "\n",
    "plt.style.use('ggplot')\n",
    "fig, ax = plt.subplots(figsize=(10, 7), tight_layout=True)\n",
    "sns.lineplot(\n",
    "    linewidth=5,\n",
    "    dashes=False,\n",
    "    legend=False,\n",
    "    x=\"n_trajectories\",\n",
    "    y=\"variance\",\n",
    "    hue=\"index\",\n",
    "    ax=ax,\n",
    "    data=variance_result_df.query(\"(index == 'dm' or index == 'pdis')\"),\n",
    "    ci=None,\n",
    ")\n",
    "# title and legend\n",
    "ax.legend([\"DM\", \"PDIS\"], loc=\"upper right\", fontsize=25)\n",
    "# yaxis\n",
    "# ax.set_yscale(\"log\")\n",
    "ax.set_ylabel(\"variance\", fontsize=25)\n",
    "ax.tick_params(axis=\"y\", labelsize=15)\n",
    "ax.yaxis.set_label_coords(-0.08, 0.5)\n",
    "# xaxis\n",
    "ax.set_xscale(\"log\")\n",
    "ax.set_xlabel(\"number of trajectories\", fontsize=25)\n",
    "ax.set_xticks(xlabels)\n",
    "ax.set_xticklabels(xlabels, fontsize=15)\n",
    "ax.xaxis.set_label_coords(0.5, -0.1)"
   ]
  },
  {
   "cell_type": "code",
   "execution_count": 20,
   "metadata": {},
   "outputs": [
    {
     "name": "stderr",
     "output_type": "stream",
     "text": [
      "/var/folders/48/ly7vft814qv_x6krlfw5s8_c0000gn/T/ipykernel_36872/1525150744.py:7: FutureWarning: \n",
      "\n",
      "The `ci` parameter is deprecated. Use `errorbar=None` for the same effect.\n",
      "\n",
      "  sns.lineplot(\n"
     ]
    },
    {
     "data": {
      "image/png": "[encoded data removed]",
      "text/plain": [
       "<Figure size 1000x700 with 1 Axes>"
      ]
     },
     "metadata": {},
     "output_type": "display_data"
    }
   ],
   "source": [
    "# figure configs\n",
    "# query = \"(est == 'DM' or est == 'IPS') and num_data <= 6400\"\n",
    "xlabels = [100, 400, 1600]\n",
    "\n",
    "plt.style.use('ggplot')\n",
    "fig, ax = plt.subplots(figsize=(10, 7), tight_layout=True)\n",
    "sns.lineplot(\n",
    "    linewidth=5,\n",
    "    dashes=False,\n",
    "    legend=False,\n",
    "    x=\"n_trajectories\",\n",
    "    y=\"variance\",\n",
    "    hue=\"index\",\n",
    "    ax=ax,\n",
    "    data=variance_result_df.query(\"(index == 'tis' or index == 'pdis')\"),\n",
    "    ci=None,\n",
    ")\n",
    "# title and legend\n",
    "ax.legend([\"TIS\", \"PDIS\"], loc=\"upper right\", fontsize=25)\n",
    "# yaxis\n",
    "# ax.set_yscale(\"log\")\n",
    "ax.set_ylabel(\"variance\", fontsize=25)\n",
    "ax.tick_params(axis=\"y\", labelsize=15)\n",
    "ax.yaxis.set_label_coords(-0.08, 0.5)\n",
    "# xaxis\n",
    "ax.set_xscale(\"log\")\n",
    "ax.set_xlabel(\"number of trajectories\", fontsize=25)\n",
    "ax.set_xticks(xlabels)\n",
    "ax.set_xticklabels(xlabels, fontsize=15)\n",
    "ax.xaxis.set_label_coords(0.5, -0.1)"
   ]
  },
  {
   "cell_type": "code",
   "execution_count": 21,
   "metadata": {},
   "outputs": [
    {
     "name": "stderr",
     "output_type": "stream",
     "text": [
      "/var/folders/48/ly7vft814qv_x6krlfw5s8_c0000gn/T/ipykernel_36872/3324735909.py:7: FutureWarning: \n",
      "\n",
      "The `ci` parameter is deprecated. Use `errorbar=None` for the same effect.\n",
      "\n",
      "  sns.lineplot(\n"
     ]
    },
    {
     "data": {
      "image/png": "[encoded data removed]",
      "text/plain": [
       "<Figure size 1000x700 with 1 Axes>"
      ]
     },
     "metadata": {},
     "output_type": "display_data"
    }
   ],
   "source": [
    "# figure configs\n",
    "# query = \"(est == 'DM' or est == 'IPS') and num_data <= 6400\"\n",
    "xlabels = [100, 400, 1600]\n",
    "\n",
    "plt.style.use('ggplot')\n",
    "fig, ax = plt.subplots(figsize=(10, 7), tight_layout=True)\n",
    "sns.lineplot(\n",
    "    linewidth=5,\n",
    "    dashes=False,\n",
    "    legend=False,\n",
    "    x=\"n_trajectories\",\n",
    "    y=\"variance\",\n",
    "    hue=\"index\",\n",
    "    ax=ax,\n",
    "    data=variance_result_df.query(\"(index == 'pdis' or index == 'dr')\"),\n",
    "    ci=None,\n",
    ")\n",
    "# title and legend\n",
    "ax.legend([\"PDIS\", \"DR\"], loc=\"upper right\", fontsize=25)\n",
    "# yaxis\n",
    "# ax.set_yscale(\"log\")\n",
    "ax.set_ylabel(\"variance\", fontsize=25)\n",
    "ax.tick_params(axis=\"y\", labelsize=15)\n",
    "ax.yaxis.set_label_coords(-0.08, 0.5)\n",
    "# xaxis\n",
    "ax.set_xscale(\"log\")\n",
    "ax.set_xlabel(\"number of trajectories\", fontsize=25)\n",
    "ax.set_xticks(xlabels)\n",
    "ax.set_xticklabels(xlabels, fontsize=15)\n",
    "ax.xaxis.set_label_coords(0.5, -0.1)"
   ]
  },
  {
   "cell_type": "code",
   "execution_count": null,
   "metadata": {},
   "outputs": [],
   "source": []
  }
 ],
 "metadata": {
  "kernelspec": {
   "display_name": "Python 3",
   "language": "python",
   "name": "python3"
  },
  "language_info": {
   "codemirror_mode": {
    "name": "ipython",
    "version": 3
   },
   "file_extension": ".py",
   "mimetype": "text/x-python",
   "name": "python",
   "nbconvert_exporter": "python",
   "pygments_lexer": "ipython3",
   "version": "3.10.6"
  },
  "orig_nbformat": 4,
  "vscode": {
   "interpreter": {
    "hash": "70404ee114725fce8ed9e697d67827f8546c678889944e6d695790702cbfe1f5"
   }
  }
 },
 "nbformat": 4,
 "nbformat_minor": 2
}
