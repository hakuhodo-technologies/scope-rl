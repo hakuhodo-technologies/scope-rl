{
 "cells": [
  {
   "cell_type": "code",
   "execution_count": 13,
   "metadata": {},
   "outputs": [],
   "source": [
    "import sys\n",
    "sys.path.append('../')\n",
    "sys.path.append('../../')"
   ]
  },
  {
   "cell_type": "code",
   "execution_count": 14,
   "metadata": {},
   "outputs": [],
   "source": [
    "# import OFRL modules\n",
    "import ofrl\n",
    "from rtbgym import RTBEnv, CustomizedRTBEnv\n",
    "from basicgym import BasicEnv\n",
    "from ofrl.dataset import SyntheticDataset\n",
    "from ofrl.policy import BaseHead\n",
    "from ofrl.policy import OnlineHead, ContinuousEvalHead\n",
    "from ofrl.policy import ContinuousTruncatedGaussianHead as TruncatedGaussianHead\n",
    "from ofrl.ope.online import (\n",
    "    calc_on_policy_policy_value,\n",
    "    visualize_on_policy_policy_value,\n",
    ")\n",
    "from ofrl.utils import MinMaxScaler, MinMaxActionScaler\n",
    "\n",
    "# import d3rlpy algorithms\n",
    "from d3rlpy.algos import RandomPolicy\n",
    "# from d3rlpy.preprocessing import MinMaxScaler, MinMaxActionScaler\n",
    "from ofrl.utils import MinMaxScaler, MinMaxActionScaler\n",
    "from ofrl.utils import MultipleLoggedDataset\n",
    "\n",
    "# import from other libraries\n",
    "import gym\n",
    "from gym.spaces import Box\n",
    "import torch\n",
    "from sklearn.model_selection import train_test_split\n",
    "from pathlib import Path\n",
    "from typing import List\n",
    "\n",
    "#import from function\n",
    "# from tutorial.function import train_behavior_policy\n",
    "# from tutorial.function import obtain_logged_dataset\n",
    "# from tutorial.function import train_candidate_policies\n",
    "from experiments.main import train_behavior_policy\n",
    "from experiments.main import obtain_logged_dataset\n",
    "from experiments.main import train_candidate_policies\n",
    "# from experiments.main import off_policy_evaluation\n",
    "# from tutorial.function import off_policy_evaluation\n"
   ]
  },
  {
   "cell_type": "code",
   "execution_count": 15,
   "metadata": {},
   "outputs": [],
   "source": [
    "# from tutorial.function import train_candidate_policies\n"
   ]
  },
  {
   "cell_type": "code",
   "execution_count": 16,
   "metadata": {},
   "outputs": [],
   "source": [
    "import pickle\n",
    "from glob import glob\n",
    "from tqdm import tqdm\n",
    "\n",
    "import numpy as np\n",
    "import pandas as pd\n",
    "from pandas import DataFrame\n",
    "\n",
    "import matplotlib.pyplot as plt\n",
    "import seaborn as sns\n",
    "\n",
    "%matplotlib inline"
   ]
  },
  {
   "cell_type": "code",
   "execution_count": 17,
   "metadata": {},
   "outputs": [],
   "source": [
    "# log directory\n",
    "from pathlib import Path\n",
    "Path(\"logs/\").mkdir(exist_ok=True)"
   ]
  },
  {
   "cell_type": "code",
   "execution_count": 18,
   "metadata": {},
   "outputs": [],
   "source": [
    "# # standardized environment for discrete action\n",
    "env = gym.make(\"BasicEnv-continuous-v0\")\n",
    "# # for api compatibility to d3rlpy\n",
    "from ofrl.utils import OldGymAPIWrapper\n",
    "env_ = OldGymAPIWrapper(env)\n",
    "# # behavior policy\n",
    "from d3rlpy.algos import SAC\n",
    "from d3rlpy.models.encoders import VectorEncoderFactory\n",
    "from d3rlpy.models.q_functions import MeanQFunctionFactory\n",
    "from d3rlpy.online.buffers import ReplayBuffer"
   ]
  },
  {
   "cell_type": "code",
   "execution_count": 19,
   "metadata": {},
   "outputs": [],
   "source": [
    "from d3rlpy.dataset import MDPDataset\n",
    "from d3rlpy.algos import CQL"
   ]
  },
  {
   "cell_type": "code",
   "execution_count": 20,
   "metadata": {},
   "outputs": [],
   "source": [
    "# import ope modules from OFRL\n",
    "from ofrl.ope import CreateOPEInput\n",
    "from ofrl.ope import OffPolicyEvaluation\n",
    "# basic estimators\n",
    "from ofrl.ope import ContinuousDirectMethod as C_DM\n",
    "from ofrl.ope import ContinuousTrajectoryWiseImportanceSampling as C_TIS\n",
    "from ofrl.ope import ContinuousPerDecisionImportanceSampling as C_PDIS\n",
    "from ofrl.ope import ContinuousDoublyRobust as C_DR\n",
    "# self normalized estimators\n",
    "from ofrl.ope import ContinuousSelfNormalizedTrajectoryWiseImportanceSampling as C_SNTIS\n",
    "from ofrl.ope import ContinuousSelfNormalizedPerDecisionImportanceSampling as C_SNPDIS\n",
    "from ofrl.ope import ContinuousSelfNormalizedDoublyRobust as C_SNDR\n",
    "# marginal estimators\n",
    "from ofrl.ope import ContinuousStateActionMarginalImportanceSampling as C_SAMIS\n",
    "from ofrl.ope import ContinuousStateActionMarginalDoublyRobust as C_SAMDR\n",
    "from ofrl.ope import ContinuousStateMarginalImportanceSampling as C_SMIS\n",
    "from ofrl.ope import ContinuousStateMarginalDoublyRobust as C_SMDR\n",
    "from ofrl.ope import ContinuousStateActionMarginalSelfNormalizedImportanceSampling as C_SAMSNIS\n",
    "from ofrl.ope import ContinuousStateActionMarginalSelfNormalizedDoublyRobust as C_SAMSNDR\n",
    "from ofrl.ope import ContinuousStateMarginalSelfNormalizedImportanceSampling as C_SMSNIS\n",
    "from ofrl.ope import ContinuousStateMarginalSelfNormalizedDoublyRobust as C_SMSNDR\n",
    "# double reinforcement learning estimators\n",
    "from ofrl.ope import ContinuousDoubleReinforcementLearning as C_DRL"
   ]
  },
  {
   "cell_type": "code",
   "execution_count": 21,
   "metadata": {},
   "outputs": [],
   "source": [
    "basic_estimators = [C_DM(), C_TIS(), C_PDIS(), C_DR()]\n",
    "# state_marginal_estimators = [SMIS(), SMDR(), SMSNIS(), SMSNDR()]\n",
    "# state_action_marginal_estimators = [SAMIS(), SAMDR(), SAMSNIS(), SAMSNDR()]\n",
    "# drl_estimators = [DRL()]\n",
    "# all_estimators = basic_estimators + state_marginal_estimators + state_action_marginal_estimators + drl_estimators\n",
    "\n",
    "# basic_estimators_name = [\"dm\", \"tis\", \"pdis\", \"dr\", \"sntis\", \"snpdis\", \"sndr\"]\n",
    "# state_marginal_estimators_name = [\"sm_is\", \"sm_dr\", \"sm_snis\", \"sm_sndr\"]\n",
    "# state_action_marginal_estimators_name = [\"sam_is\", \"sam_dr\", \"sam_snis\", \"sam_sndr\"]\n",
    "# drl_estimators_name = [\"drl\"]"
   ]
  },
  {
   "cell_type": "code",
   "execution_count": 22,
   "metadata": {},
   "outputs": [],
   "source": [
    "# # n_trajectories_list = [100, 200, 400]\n",
    "# n_trajectories_list = [100, 200, 400, 800, 1600]\n",
    "# # n_trajectories_list = [100, 200, 400, 800, 1600, 3200, 6400, 12800, 25600, 51200]\n",
    "# # random_state_list = [10, 20, 30]\n",
    "# random_state_list = [100, 200, 300]\n",
    "# # random_state_list = [10, 20, 30, 40, 50, 60, 70, 80, 90, 100]\n",
    "# bias_df_list = []\n",
    "# variance_df_list = []\n",
    "# mse_df_list = []\n"
   ]
  },
  {
   "cell_type": "code",
   "execution_count": 23,
   "metadata": {},
   "outputs": [],
   "source": [
    "def off_policy_evaluation(\n",
    "    env_name: str,\n",
    "    env: gym.Env,\n",
    "    test_logged_dataset: MultipleLoggedDataset,\n",
    "    candidate_policies: List[BaseHead],\n",
    "    device: str,\n",
    "    base_random_state: int,\n",
    "    log_dir: str,\n",
    "):\n",
    "    action_type = \"continuous\" if isinstance(env.action_space, Box) else \"discrete\"\n",
    "\n",
    "    path_ = Path(log_dir + f\"/input_dict\")\n",
    "    path_.mkdir(exist_ok=True, parents=True)\n",
    "    path_input_dict = Path(path_ / f\"input_dict_{env_name}.pkl\")\n",
    "\n",
    "    if path_input_dict.exists():\n",
    "        with open(path_input_dict, \"rb\") as f:\n",
    "            input_dict = pickle.load(f)\n",
    "    else:\n",
    "        if action_type == \"continuous\":\n",
    "            prep = CreateOPEInput(\n",
    "                env=env,\n",
    "                model_args={\n",
    "                    \"fqe\": {\n",
    "                        \"encoder_factory\": VectorEncoderFactory(hidden_units=[30, 30]),\n",
    "                        \"q_func_factory\": MeanQFunctionFactory(),\n",
    "                        \"learning_rate\": 1e-4,\n",
    "                        \"use_gpu\": (device == \"cuda:0\"),\n",
    "                    }\n",
    "                },\n",
    "                state_scaler=MinMaxScaler(\n",
    "                    minimum=test_logged_dataset.get(\n",
    "                        behavior_policy_name=test_logged_dataset.behavior_policy_names[\n",
    "                            0\n",
    "                        ],\n",
    "                        dataset_id=0,\n",
    "                    )[\"state\"].min(axis=0),\n",
    "                    maximum=test_logged_dataset.get(\n",
    "                        behavior_policy_name=test_logged_dataset.behavior_policy_names[\n",
    "                            0\n",
    "                        ],\n",
    "                        dataset_id=0,\n",
    "                    )[\"state\"].max(axis=0),\n",
    "                ),\n",
    "                action_scaler=MinMaxActionScaler(\n",
    "                    minimum=env.action_space.low,  # minimum value that policy can take\n",
    "                    maximum=env.action_space.high,  # maximum value that policy can take\n",
    "                ),\n",
    "                sigma=0.1,\n",
    "                device=device,\n",
    "            )\n",
    "\n",
    "        else:\n",
    "            prep = CreateOPEInput(\n",
    "                env=env,\n",
    "                model_args={\n",
    "                    \"fqe\": {\n",
    "                        \"encoder_factory\": VectorEncoderFactory(hidden_units=[30, 30]),\n",
    "                        \"q_func_factory\": MeanQFunctionFactory(),\n",
    "                        \"learning_rate\": 1e-4,\n",
    "                        \"use_gpu\": (device == \"cuda:0\"),\n",
    "                    }\n",
    "                },\n",
    "                state_scaler=MinMaxScaler(\n",
    "                    minimum=test_logged_dataset.get(\n",
    "                        behavior_policy_name=test_logged_dataset.behavior_policy_names[\n",
    "                            0\n",
    "                        ],\n",
    "                        dataset_id=0,\n",
    "                    )[\"state\"].min(axis=0),\n",
    "                    maximum=test_logged_dataset.get(\n",
    "                        behavior_policy_name=test_logged_dataset.behavior_policy_names[\n",
    "                            0\n",
    "                        ],\n",
    "                        dataset_id=0,\n",
    "                    )[\"state\"].max(axis=0),\n",
    "                ),\n",
    "            )\n",
    "\n",
    "        input_dict = prep.obtain_whole_inputs(\n",
    "            logged_dataset=test_logged_dataset,\n",
    "            evaluation_policies=candidate_policies,\n",
    "            # require_value_prediction=True,\n",
    "            # require_weight_prediction=True,\n",
    "            n_trajectories_on_policy_evaluation=100,\n",
    "            path=log_dir + f\"/input_dict/multiple\",\n",
    "            random_state=base_random_state,\n",
    "        )\n",
    "        with open(path_input_dict, \"wb\") as f:\n",
    "            pickle.dump(input_dict, f)\n",
    "\n",
    "    if action_type == \"continuous\":\n",
    "        ope_estimators = [C_PDIS()]\n",
    "        # ope_estimators = [C_DM(), C_PDIS(), C_DR(), C_MIS()]\n",
    "    else:\n",
    "        ope_estimators = [C_PDIS()]\n",
    "        # ope_estimators = [D_DM(), D_PDIS(), D_DR(), D_MIS()]\n",
    "\n",
    "    ope = OffPolicyEvaluation(\n",
    "        logged_dataset=test_logged_dataset,\n",
    "        ope_estimators=ope_estimators,\n",
    "    )\n",
    "\n",
    "    policy_value_dict = ope.estimate_policy_value(\n",
    "        input_dict=input_dict,\n",
    "    )\n",
    "    \n",
    "    se = ope.evaluate_performance_of_ope_estimators(\n",
    "        input_dict=input_dict,\n",
    "        metric='se'\n",
    "    )\n",
    "    \n",
    "    # print(input_dict)\n",
    "\n",
    "    return input_dict, policy_value_dict\n",
    "    # return policy_value_dict\n",
    "    # ops = OffPolicySelection(ope=ope)\n",
    "\n",
    "    # path_ = Path(log_dir + f\"/results/raw\")\n",
    "    # path_.mkdir(exist_ok=True, parents=True)\n",
    "\n",
    "    # ops_dict = ops.select_by_policy_value(\n",
    "    #     input_dict=input_dict,\n",
    "    #     return_metrics=True,\n",
    "    # )\n",
    "    # path_metrics = Path(path_ / f\"conventional_metrics_dict_{env_name}.pkl\")\n",
    "    # with open(path_metrics, \"wb\") as f:\n",
    "    #     pickle.dump(ops_dict, f)\n",
    "\n",
    "    # topk_metric_dict = ops.obtain_topk_policy_value_selected_by_standard_ope(\n",
    "    #     input_dict=input_dict,\n",
    "    #     return_safety_violation_rate=True,\n",
    "    #     relative_safety_criteria=1.0,\n",
    "    # )\n",
    "    # path_topk_metrics = Path(path_ / f\"topk_metrics_dict_{env_name}.pkl\")\n",
    "    # with open(path_topk_metrics, \"wb\") as f:\n",
    "    #     pickle.dump(topk_metric_dict, f)\n",
    "\n",
    "    # path_ = Path(log_dir + f\"/results/figs\")\n",
    "    # path_.mkdir(exist_ok=True, parents=True)\n",
    "\n",
    "    # ops.visualize_topk_policy_value_selected_by_standard_ope(\n",
    "    #     input_dict=input_dict,\n",
    "    #     metrics=[\"best\", \"worst\", \"mean\", \"safety_violation_rate\", \"sharpe_ratio\"],\n",
    "    #     visualize_ci=True,\n",
    "    #     relative_safety_criteria=1.0,\n",
    "    #     legend=False,\n",
    "    #     random_state=base_random_state,\n",
    "    #     fig_dir=path_,\n",
    "    #     fig_name=f\"topk_metrics_visualization_{env_name}.png\",\n",
    "    # )"
   ]
  },
  {
   "cell_type": "code",
   "execution_count": 24,
   "metadata": {},
   "outputs": [
    {
     "data": {
      "application/vnd.jupyter.widget-view+json": {
       "model_id": "581f3c5b5d164859b479fab486b2b12a",
       "version_major": 2,
       "version_minor": 0
      },
      "text/plain": [
       "[learn_policies: algorithms]:   0%|          | 0/1 [00:00<?, ?it/s]"
      ]
     },
     "metadata": {},
     "output_type": "display_data"
    },
    {
     "name": "stdout",
     "output_type": "stream",
     "text": [
      "2023-04-21 01:50.46 [debug    ] RandomIterator is selected.\n",
      "2023-04-21 01:50.46 [info     ] Directory is created at d3rlpy_logs/CQL_20230421015046\n",
      "2023-04-21 01:50.46 [debug    ] Fitting action scaler...       action_scaler=min_max\n",
      "2023-04-21 01:50.46 [debug    ] Building models...\n",
      "2023-04-21 01:50.46 [debug    ] Models have been built.\n",
      "2023-04-21 01:50.46 [info     ] Parameters are saved to d3rlpy_logs/CQL_20230421015046/params.json params={'action_scaler': {'type': 'min_max', 'params': {'minimum': array([-1., -1., -1.]), 'maximum': array([1., 1., 1.])}}, 'actor_encoder_factory': {'type': 'vector', 'params': {'hidden_units': [30, 30], 'activation': 'relu', 'use_batch_norm': False, 'dropout_rate': None, 'use_dense': False}}, 'actor_learning_rate': 0.0001, 'actor_optim_factory': {'optim_cls': 'Adam', 'betas': (0.9, 0.999), 'eps': 1e-08, 'weight_decay': 0, 'amsgrad': False}, 'alpha_learning_rate': 0.0001, 'alpha_optim_factory': {'optim_cls': 'Adam', 'betas': (0.9, 0.999), 'eps': 1e-08, 'weight_decay': 0, 'amsgrad': False}, 'alpha_threshold': 10.0, 'batch_size': 256, 'conservative_weight': 5.0, 'critic_encoder_factory': {'type': 'vector', 'params': {'hidden_units': [30, 30], 'activation': 'relu', 'use_batch_norm': False, 'dropout_rate': None, 'use_dense': False}}, 'critic_learning_rate': 0.0003, 'critic_optim_factory': {'optim_cls': 'Adam', 'betas': (0.9, 0.999), 'eps': 1e-08, 'weight_decay': 0, 'amsgrad': False}, 'gamma': 0.99, 'generated_maxlen': 100000, 'initial_alpha': 1.0, 'initial_temperature': 1.0, 'n_action_samples': 10, 'n_critics': 2, 'n_frames': 1, 'n_steps': 1, 'q_func_factory': {'type': 'mean', 'params': {'share_encoder': False}}, 'real_ratio': 1.0, 'reward_scaler': None, 'scaler': None, 'soft_q_backup': False, 'tau': 0.005, 'temp_learning_rate': 0.0001, 'temp_optim_factory': {'optim_cls': 'Adam', 'betas': (0.9, 0.999), 'eps': 1e-08, 'weight_decay': 0, 'amsgrad': False}, 'use_gpu': None, 'algorithm': 'CQL', 'observation_shape': (5,), 'action_size': 3}\n"
     ]
    },
    {
     "data": {
      "application/vnd.jupyter.widget-view+json": {
       "model_id": "d4c69f1a7a394c88b3765f139f851a60",
       "version_major": 2,
       "version_minor": 0
      },
      "text/plain": [
       "Epoch 1/1:   0%|          | 0/10000 [00:00<?, ?it/s]"
      ]
     },
     "metadata": {},
     "output_type": "display_data"
    },
    {
     "name": "stdout",
     "output_type": "stream",
     "text": [
      "2023-04-21 01:55.14 [info     ] CQL_20230421015046: epoch=1 step=10000 epoch=1 metrics={'time_sample_batch': 0.0007557850360870362, 'time_algorithm_update': 0.025337846398353576, 'temp_loss': 1.5598447172426153, 'temp': 0.7323721229314805, 'alpha_loss': -0.32426225558234145, 'alpha': 1.079959146565199, 'critic_loss': 3.454501855397224, 'actor_loss': 20.206201057701232, 'time_step': 0.026621371006965638} step=10000\n",
      "2023-04-21 01:55.14 [info     ] Model parameters are saved to d3rlpy_logs/CQL_20230421015046/model_10000.pt\n",
      "[ContinuousTruncatedGaussianHead(base_policy=d3rlpy.algos.cql.CQL(action_scaler=ofrl.utils.MinMaxActionScaler(minimum=[-1. -1. -1.], maximum=[1. 1. 1.]), actor_encoder_factory=d3rlpy.models.encoders.VectorEncoderFactory(hidden_units=[30, 30], activation='relu', use_batch_norm=False, dropout_rate=None, use_dense=False), actor_learning_rate=0.0001, actor_optim_factory=d3rlpy.models.optimizers.AdamFactory(optim_cls='Adam', betas=(0.9, 0.999), eps=1e-08, weight_decay=0, amsgrad=False), alpha_learning_rate=0.0001, alpha_optim_factory=d3rlpy.models.optimizers.AdamFactory(optim_cls='Adam', betas=(0.9, 0.999), eps=1e-08, weight_decay=0, amsgrad=False), alpha_threshold=10.0, batch_size=256, conservative_weight=5.0, critic_encoder_factory=d3rlpy.models.encoders.VectorEncoderFactory(hidden_units=[30, 30], activation='relu', use_batch_norm=False, dropout_rate=None, use_dense=False), critic_learning_rate=0.0003, critic_optim_factory=d3rlpy.models.optimizers.AdamFactory(optim_cls='Adam', betas=(0.9, 0.999), eps=1e-08, weight_decay=0, amsgrad=False), gamma=0.99, generated_maxlen=100000, impl=<d3rlpy.algos.torch.cql_impl.CQLImpl object at 0x1580ba0e0>, initial_alpha=1.0, initial_temperature=1.0, n_action_samples=10, n_critics=2, n_frames=1, n_steps=1, q_func_factory=d3rlpy.models.q_functions.MeanQFunctionFactory(share_encoder=False), real_ratio=1.0, reward_scaler=None, scaler=None, soft_q_backup=False, tau=0.005, temp_learning_rate=0.0001, temp_optim_factory=d3rlpy.models.optimizers.AdamFactory(optim_cls='Adam', betas=(0.9, 0.999), eps=1e-08, weight_decay=0, amsgrad=False), use_gpu=None), name='cql_b1_gauss_0.0', sigma=array([0., 0., 0.]), minimum=array([-1., -1., -1.]), maximum=array([1., 1., 1.]), random_state=12345), ContinuousTruncatedGaussianHead(base_policy=d3rlpy.algos.cql.CQL(action_scaler=ofrl.utils.MinMaxActionScaler(minimum=[-1. -1. -1.], maximum=[1. 1. 1.]), actor_encoder_factory=d3rlpy.models.encoders.VectorEncoderFactory(hidden_units=[30, 30], activation='relu', use_batch_norm=False, dropout_rate=None, use_dense=False), actor_learning_rate=0.0001, actor_optim_factory=d3rlpy.models.optimizers.AdamFactory(optim_cls='Adam', betas=(0.9, 0.999), eps=1e-08, weight_decay=0, amsgrad=False), alpha_learning_rate=0.0001, alpha_optim_factory=d3rlpy.models.optimizers.AdamFactory(optim_cls='Adam', betas=(0.9, 0.999), eps=1e-08, weight_decay=0, amsgrad=False), alpha_threshold=10.0, batch_size=256, conservative_weight=5.0, critic_encoder_factory=d3rlpy.models.encoders.VectorEncoderFactory(hidden_units=[30, 30], activation='relu', use_batch_norm=False, dropout_rate=None, use_dense=False), critic_learning_rate=0.0003, critic_optim_factory=d3rlpy.models.optimizers.AdamFactory(optim_cls='Adam', betas=(0.9, 0.999), eps=1e-08, weight_decay=0, amsgrad=False), gamma=0.99, generated_maxlen=100000, impl=<d3rlpy.algos.torch.cql_impl.CQLImpl object at 0x1580ba0e0>, initial_alpha=1.0, initial_temperature=1.0, n_action_samples=10, n_critics=2, n_frames=1, n_steps=1, q_func_factory=d3rlpy.models.q_functions.MeanQFunctionFactory(share_encoder=False), real_ratio=1.0, reward_scaler=None, scaler=None, soft_q_backup=False, tau=0.005, temp_learning_rate=0.0001, temp_optim_factory=d3rlpy.models.optimizers.AdamFactory(optim_cls='Adam', betas=(0.9, 0.999), eps=1e-08, weight_decay=0, amsgrad=False), use_gpu=None), name='cql_b1_gauss_0.5', sigma=array([0.5, 0.5, 0.5]), minimum=array([-1., -1., -1.]), maximum=array([1., 1., 1.]), random_state=12345), ContinuousTruncatedGaussianHead(base_policy=d3rlpy.algos.cql.CQL(action_scaler=ofrl.utils.MinMaxActionScaler(minimum=[-1. -1. -1.], maximum=[1. 1. 1.]), actor_encoder_factory=d3rlpy.models.encoders.VectorEncoderFactory(hidden_units=[30, 30], activation='relu', use_batch_norm=False, dropout_rate=None, use_dense=False), actor_learning_rate=0.0001, actor_optim_factory=d3rlpy.models.optimizers.AdamFactory(optim_cls='Adam', betas=(0.9, 0.999), eps=1e-08, weight_decay=0, amsgrad=False), alpha_learning_rate=0.0001, alpha_optim_factory=d3rlpy.models.optimizers.AdamFactory(optim_cls='Adam', betas=(0.9, 0.999), eps=1e-08, weight_decay=0, amsgrad=False), alpha_threshold=10.0, batch_size=256, conservative_weight=5.0, critic_encoder_factory=d3rlpy.models.encoders.VectorEncoderFactory(hidden_units=[30, 30], activation='relu', use_batch_norm=False, dropout_rate=None, use_dense=False), critic_learning_rate=0.0003, critic_optim_factory=d3rlpy.models.optimizers.AdamFactory(optim_cls='Adam', betas=(0.9, 0.999), eps=1e-08, weight_decay=0, amsgrad=False), gamma=0.99, generated_maxlen=100000, impl=<d3rlpy.algos.torch.cql_impl.CQLImpl object at 0x1580ba0e0>, initial_alpha=1.0, initial_temperature=1.0, n_action_samples=10, n_critics=2, n_frames=1, n_steps=1, q_func_factory=d3rlpy.models.q_functions.MeanQFunctionFactory(share_encoder=False), real_ratio=1.0, reward_scaler=None, scaler=None, soft_q_backup=False, tau=0.005, temp_learning_rate=0.0001, temp_optim_factory=d3rlpy.models.optimizers.AdamFactory(optim_cls='Adam', betas=(0.9, 0.999), eps=1e-08, weight_decay=0, amsgrad=False), use_gpu=None), name='cql_b1_gauss_1.0', sigma=array([1., 1., 1.]), minimum=array([-1., -1., -1.]), maximum=array([1., 1., 1.]), random_state=12345), ContinuousTruncatedGaussianHead(base_policy=d3rlpy.algos.cql.CQL(action_scaler=ofrl.utils.MinMaxActionScaler(minimum=[-1. -1. -1.], maximum=[1. 1. 1.]), actor_encoder_factory=d3rlpy.models.encoders.VectorEncoderFactory(hidden_units=[30, 30], activation='relu', use_batch_norm=False, dropout_rate=None, use_dense=False), actor_learning_rate=0.0001, actor_optim_factory=d3rlpy.models.optimizers.AdamFactory(optim_cls='Adam', betas=(0.9, 0.999), eps=1e-08, weight_decay=0, amsgrad=False), alpha_learning_rate=0.0001, alpha_optim_factory=d3rlpy.models.optimizers.AdamFactory(optim_cls='Adam', betas=(0.9, 0.999), eps=1e-08, weight_decay=0, amsgrad=False), alpha_threshold=10.0, batch_size=256, conservative_weight=5.0, critic_encoder_factory=d3rlpy.models.encoders.VectorEncoderFactory(hidden_units=[30, 30], activation='relu', use_batch_norm=False, dropout_rate=None, use_dense=False), critic_learning_rate=0.0003, critic_optim_factory=d3rlpy.models.optimizers.AdamFactory(optim_cls='Adam', betas=(0.9, 0.999), eps=1e-08, weight_decay=0, amsgrad=False), gamma=0.99, generated_maxlen=100000, impl=<d3rlpy.algos.torch.cql_impl.CQLImpl object at 0x1580ba0e0>, initial_alpha=1.0, initial_temperature=1.0, n_action_samples=10, n_critics=2, n_frames=1, n_steps=1, q_func_factory=d3rlpy.models.q_functions.MeanQFunctionFactory(share_encoder=False), real_ratio=1.0, reward_scaler=None, scaler=None, soft_q_backup=False, tau=0.005, temp_learning_rate=0.0001, temp_optim_factory=d3rlpy.models.optimizers.AdamFactory(optim_cls='Adam', betas=(0.9, 0.999), eps=1e-08, weight_decay=0, amsgrad=False), use_gpu=None), name='cql_b1_gauss_2.0', sigma=array([2., 2., 2.]), minimum=array([-1., -1., -1.]), maximum=array([1., 1., 1.]), random_state=12345)]\n"
     ]
    },
    {
     "data": {
      "application/vnd.jupyter.widget-view+json": {
       "model_id": "fab6c616b5724d80bed5d6e975b6e799",
       "version_major": 2,
       "version_minor": 0
      },
      "text/plain": [
       "[collect input data: behavior_policy]:   0%|          | 0/1 [00:00<?, ?it/s]"
      ]
     },
     "metadata": {},
     "output_type": "display_data"
    },
    {
     "data": {
      "application/vnd.jupyter.widget-view+json": {
       "model_id": "5f59136fe94c42a28faaa6708817bf54",
       "version_major": 2,
       "version_minor": 0
      },
      "text/plain": [
       "[collect input data: dataset_id]:   0%|          | 0/2 [00:00<?, ?it/s]"
      ]
     },
     "metadata": {},
     "output_type": "display_data"
    },
    {
     "data": {
      "application/vnd.jupyter.widget-view+json": {
       "model_id": "b32cc962f89140c4bc3c622e6627cf0e",
       "version_major": 2,
       "version_minor": 0
      },
      "text/plain": [
       "[collect input data: eval_policy]:   0%|          | 0/4 [00:00<?, ?it/s]"
      ]
     },
     "metadata": {},
     "output_type": "display_data"
    },
    {
     "name": "stderr",
     "output_type": "stream",
     "text": [
      "/Users/ren/dev/ofrl/tutorial/../ofrl/policy/head.py:934: RuntimeWarning: divide by zero encountered in divide\n",
      "  a=(self.minimum - greedy_action) / self.sigma,\n",
      "/Users/ren/dev/ofrl/tutorial/../ofrl/policy/head.py:935: RuntimeWarning: divide by zero encountered in divide\n",
      "  b=(self.maximum - greedy_action) / self.sigma,\n",
      "/Users/ren/.pyenv/versions/3.10.6/lib/python3.10/site-packages/gym/utils/passive_env_checker.py:187: UserWarning: \u001b[33mWARN: Future gym versions will require that `Env.reset` can be passed `options` to allow the environment initialisation to be passed additional information.\u001b[0m\n",
      "  logger.warn(\n"
     ]
    },
    {
     "data": {
      "application/vnd.jupyter.widget-view+json": {
       "model_id": "e9cf9d8324e6422f891041eba9ac1bf6",
       "version_major": 2,
       "version_minor": 0
      },
      "text/plain": [
       "[calculate on-policy policy value]:   0%|          | 0/100 [00:00<?, ?it/s]"
      ]
     },
     "metadata": {},
     "output_type": "display_data"
    },
    {
     "data": {
      "application/vnd.jupyter.widget-view+json": {
       "model_id": "0b4dd3aff6ee46328c6ea25ed1507497",
       "version_major": 2,
       "version_minor": 0
      },
      "text/plain": [
       "[calculate on-policy policy value]:   0%|          | 0/100 [00:00<?, ?it/s]"
      ]
     },
     "metadata": {},
     "output_type": "display_data"
    },
    {
     "data": {
      "application/vnd.jupyter.widget-view+json": {
       "model_id": "a54f87f42e004edcb238fd120dfdcf3b",
       "version_major": 2,
       "version_minor": 0
      },
      "text/plain": [
       "[calculate on-policy policy value]:   0%|          | 0/100 [00:00<?, ?it/s]"
      ]
     },
     "metadata": {},
     "output_type": "display_data"
    },
    {
     "data": {
      "application/vnd.jupyter.widget-view+json": {
       "model_id": "2a34c08d1a32403394d113d7cadc6bd4",
       "version_major": 2,
       "version_minor": 0
      },
      "text/plain": [
       "[calculate on-policy policy value]:   0%|          | 0/100 [00:00<?, ?it/s]"
      ]
     },
     "metadata": {},
     "output_type": "display_data"
    },
    {
     "data": {
      "application/vnd.jupyter.widget-view+json": {
       "model_id": "2a22331203d448bba1cbb4acd343b8b9",
       "version_major": 2,
       "version_minor": 0
      },
      "text/plain": [
       "[collect input data: eval_policy]:   0%|          | 0/4 [00:00<?, ?it/s]"
      ]
     },
     "metadata": {},
     "output_type": "display_data"
    },
    {
     "data": {
      "application/vnd.jupyter.widget-view+json": {
       "model_id": "17f6ea1d55224456ad250d5061ce76bb",
       "version_major": 2,
       "version_minor": 0
      },
      "text/plain": [
       "[calculate on-policy policy value]:   0%|          | 0/100 [00:00<?, ?it/s]"
      ]
     },
     "metadata": {},
     "output_type": "display_data"
    },
    {
     "data": {
      "application/vnd.jupyter.widget-view+json": {
       "model_id": "2ac44e1321df44369d2091361c0bec7f",
       "version_major": 2,
       "version_minor": 0
      },
      "text/plain": [
       "[calculate on-policy policy value]:   0%|          | 0/100 [00:00<?, ?it/s]"
      ]
     },
     "metadata": {},
     "output_type": "display_data"
    },
    {
     "data": {
      "application/vnd.jupyter.widget-view+json": {
       "model_id": "eda025ccac5f435788cf00c9a78c9a90",
       "version_major": 2,
       "version_minor": 0
      },
      "text/plain": [
       "[calculate on-policy policy value]:   0%|          | 0/100 [00:00<?, ?it/s]"
      ]
     },
     "metadata": {},
     "output_type": "display_data"
    },
    {
     "data": {
      "application/vnd.jupyter.widget-view+json": {
       "model_id": "05270544b62a4586a59deda14b9f4c6e",
       "version_major": 2,
       "version_minor": 0
      },
      "text/plain": [
       "[calculate on-policy policy value]:   0%|          | 0/100 [00:00<?, ?it/s]"
      ]
     },
     "metadata": {},
     "output_type": "display_data"
    },
    {
     "name": "stdout",
     "output_type": "stream",
     "text": [
      "['sac_gauss_1.0']\n"
     ]
    }
   ],
   "source": [
    "\n",
    "env_name=\"BasicEnv-continuous-v0\"\n",
    "env = gym.make(env_name)\n",
    "behavior_sigma=1.0\n",
    "behavior_tau=1.0\n",
    "# candidate_sigmas=[0.0, 0.5]\n",
    "candidate_sigmas=[0.0, 0.5, 1.0, 2.0]\n",
    "# candidate_epsilons=[0.1, 0.3]\n",
    "candidate_epsilons=[0.1, 0.3, 0.5, 0.7]\n",
    "max_episode_steps=50\n",
    "n_trajectories=10\n",
    "n_random_state=2\n",
    "base_random_state=12345\n",
    "log_dir=\"../tutorial/logs/\"\n",
    "device=\"cuda:0\" if torch.cuda.is_available() else \"cpu\",\n",
    "# n_trajectories_list =  [10]\n",
    "bias_df_list = []\n",
    "variance_df_list = []\n",
    "mse_df_list = []\n",
    "\n",
    "# for n_trajectories in n_trajectories_list:\n",
    "\n",
    "behavior_policy = train_behavior_policy(\n",
    "    env_name=env_name,\n",
    "    env=env,\n",
    "    behavior_sigma=behavior_sigma,\n",
    "    behavior_tau=behavior_tau,\n",
    "    device=device,\n",
    "    base_random_state=base_random_state,\n",
    "    log_dir=log_dir,\n",
    ")\n",
    "\n",
    "train_logged_dataset, test_logged_dataset = obtain_logged_dataset(\n",
    "    env_name=env_name,\n",
    "    env=env,\n",
    "    behavior_policy=behavior_policy,\n",
    "    n_trajectories=n_trajectories,\n",
    "    n_random_state=n_random_state,\n",
    "    base_random_state=base_random_state,\n",
    "    log_dir=log_dir,\n",
    ")\n",
    "\n",
    "candidate_policies = train_candidate_policies(\n",
    "    env_name=env_name,\n",
    "    env=env,\n",
    "    # n_trajectories=n_trajectories,\n",
    "    train_logged_dataset=train_logged_dataset,\n",
    "    candidate_sigmas=candidate_sigmas,\n",
    "    candidate_epsilons=candidate_epsilons,\n",
    "    device=device,\n",
    "    base_random_state=base_random_state,\n",
    "    log_dir=log_dir,\n",
    ")\n",
    "\n",
    "print(candidate_policies)\n",
    "\n",
    "input_dict, policy_value_dict = off_policy_evaluation(\n",
    "    env_name=env_name,\n",
    "    env=env,\n",
    "    # n_trajectories=n_trajectories,\n",
    "    test_logged_dataset=test_logged_dataset,\n",
    "    candidate_policies=candidate_policies,\n",
    "    device=device,\n",
    "    base_random_state=base_random_state,\n",
    "    # log_dir=\"logs/\",\n",
    "    log_dir=log_dir,\n",
    ")\n",
    "\n",
    "#     input_dict_ = input_dict.get(\n",
    "#         behavior_policy_name=\"sac_gauss_1.0\",\n",
    "#         dataset_id=0,\n",
    "#     )\n",
    "\n",
    "#     dict = {i : DataFrame() for i in input_dict_.keys()}\n",
    "#     bias_dict = {i : 0 for i in input_dict_.keys()}\n",
    "#     variance_dict = {i : 0 for i in input_dict_.keys()}\n",
    "#     mse_dict = {i : 0 for i in input_dict_.keys()}\n",
    "\n",
    "#     for dataset_id_ in range(n_random_state):\n",
    "#         for eval_policy in input_dict_.keys():\n",
    "#             dict[eval_policy] = pd.concat([dict[eval_policy] , DataFrame(policy_value_dict['sac_gauss_1.0'][dataset_id_][eval_policy], index=[dataset_id_])])\n",
    "\n",
    "#     for eval_policy in input_dict_.keys():\n",
    "#         bias_dict[eval_policy] = abs(dict[eval_policy].mean(axis=0) - dict[eval_policy].mean(axis=0)['on_policy'])\n",
    "#         variance_dict[eval_policy] = dict[eval_policy].var(axis=0)\n",
    "#         mse_dict[eval_policy] = bias_dict[eval_policy]**2 + variance_dict[eval_policy]\n",
    "\n",
    "\n",
    "#     bias_df = DataFrame(DataFrame(bias_dict['cql_b1_gauss_0.0']).stack())\\\n",
    "#     .reset_index(0).rename(columns={\"level_0\": \"est\", 0: \"bias\"})\n",
    "#     bias_df[\"n_trajectories\"] = n_trajectories\n",
    "#     bias_df_list.append(bias_df)\n",
    "#     variance_df = DataFrame(DataFrame(variance_dict['cql_b1_gauss_0.0']).stack())\\\n",
    "#     .reset_index(0).rename(columns={\"level_0\": \"est\", 0: \"variance\"})\n",
    "#     variance_df[\"n_trajectories\"] = n_trajectories\n",
    "#     variance_df_list.append(variance_df)\n",
    "#     mse_df = DataFrame(DataFrame(mse_dict['cql_b1_gauss_0.0']).stack())\\\n",
    "#     .reset_index(0).rename(columns={\"level_0\": \"est\", 0: \"mse\"})\n",
    "#     mse_df[\"n_trajectories\"] = n_trajectories\n",
    "#     mse_df_list.append(mse_df)\n",
    "\n",
    "# # aggregate all results \n",
    "# bias_result_df = pd.concat(bias_df_list).reset_index(level=0)\n",
    "# variance_result_df = pd.concat(variance_df_list).reset_index(level=0)\n",
    "# mse_result_df = pd.concat(mse_df_list).reset_index(level=0)\n"
   ]
  },
  {
   "cell_type": "code",
   "execution_count": 25,
   "metadata": {},
   "outputs": [
    {
     "ename": "NameError",
     "evalue": "name 'bias_result_df' is not defined",
     "output_type": "error",
     "traceback": [
      "\u001b[0;31m---------------------------------------------------------------------------\u001b[0m",
      "\u001b[0;31mNameError\u001b[0m                                 Traceback (most recent call last)",
      "\u001b[1;32m/Users/ren/dev/ofrl/tutorial/main_experiment_debug.ipynb セル 13\u001b[0m in \u001b[0;36m1\n\u001b[0;32m----> <a href='vscode-notebook-cell:/Users/ren/dev/ofrl/tutorial/main_experiment_debug.ipynb#X15sZmlsZQ%3D%3D?line=0'>1</a>\u001b[0m bias_result_df\n",
      "\u001b[0;31mNameError\u001b[0m: name 'bias_result_df' is not defined"
     ]
    }
   ],
   "source": [
    "bias_result_df"
   ]
  },
  {
   "cell_type": "code",
   "execution_count": null,
   "metadata": {},
   "outputs": [],
   "source": [
    "# with open(\"logs/cql_variance_result_df.pkl\", \"wb\") as f:\n",
    "#     pickle.dump(variance_result_df, f)\n",
    "\n",
    "# with open(\"logs/cql_variance_result_df.pkl\", \"rb\") as f:\n",
    "#     variance_result_df = pickle.load(f)\n",
    "\n",
    "# with open(\"logs/cql_bias_result_df.pkl\", \"wb\") as f:\n",
    "#     pickle.dump(bias_result_df, f)\n",
    "\n",
    "# with open(\"logs/cql_bias_result_df.pkl\", \"rb\") as f:\n",
    "#     bias_result_df = pickle.load(f)\n",
    "\n",
    "# with open(\"logs/cql_mse_result_df.pkl\", \"wb\") as f:\n",
    "#     pickle.dump(mse_result_df, f)\n",
    "\n",
    "# with open(\"logs/cql_mse_result_df.pkl\", \"rb\") as f:\n",
    "#     mse_result_df = pickle.load(f)"
   ]
  },
  {
   "cell_type": "code",
   "execution_count": null,
   "metadata": {},
   "outputs": [
    {
     "data": {
      "text/html": [
       "<div>\n",
       "<style scoped>\n",
       "    .dataframe tbody tr th:only-of-type {\n",
       "        vertical-align: middle;\n",
       "    }\n",
       "\n",
       "    .dataframe tbody tr th {\n",
       "        vertical-align: top;\n",
       "    }\n",
       "\n",
       "    .dataframe thead th {\n",
       "        text-align: right;\n",
       "    }\n",
       "</style>\n",
       "<table border=\"1\" class=\"dataframe\">\n",
       "  <thead>\n",
       "    <tr style=\"text-align: right;\">\n",
       "      <th></th>\n",
       "      <th>index</th>\n",
       "      <th>est</th>\n",
       "      <th>bias</th>\n",
       "      <th>n_trajectories</th>\n",
       "    </tr>\n",
       "  </thead>\n",
       "  <tbody>\n",
       "  </tbody>\n",
       "</table>\n",
       "</div>"
      ],
      "text/plain": [
       "Empty DataFrame\n",
       "Columns: [index, est, bias, n_trajectories]\n",
       "Index: []"
      ]
     },
     "execution_count": 284,
     "metadata": {},
     "output_type": "execute_result"
    }
   ],
   "source": [
    "bias_result_df.query(\"(est == 'dm')\")"
   ]
  },
  {
   "cell_type": "code",
   "execution_count": null,
   "metadata": {},
   "outputs": [
    {
     "name": "stderr",
     "output_type": "stream",
     "text": [
      "/var/folders/48/ly7vft814qv_x6krlfw5s8_c0000gn/T/ipykernel_28203/2998181075.py:7: FutureWarning: \n",
      "\n",
      "The `ci` parameter is deprecated. Use `errorbar=None` for the same effect.\n",
      "\n",
      "  sns.lineplot(\n"
     ]
    },
    {
     "data": {
      "image/png": "[encoded data removed]",
      "text/plain": [
       "<Figure size 1000x700 with 1 Axes>"
      ]
     },
     "metadata": {},
     "output_type": "display_data"
    }
   ],
   "source": [
    "# figure configs\n",
    "# query = \"(est == 'DM' or est == 'IPS') and num_data <= 6400\"\n",
    "xlabels = [100, 400, 1600]\n",
    "\n",
    "plt.style.use('ggplot')\n",
    "fig, ax = plt.subplots(figsize=(10, 7), tight_layout=True)\n",
    "sns.lineplot(\n",
    "    linewidth=5,\n",
    "    dashes=False,\n",
    "    legend=False,\n",
    "    x=\"n_trajectories\",\n",
    "    y=\"bias\",\n",
    "    hue=\"est\",\n",
    "    ax=ax,\n",
    "    data=bias_result_df.query(\"(est == 'pdis')\"),\n",
    "    # data=bias_result_df.query(\"(est == 'dm' or est == 'pdis')\"),\n",
    "    ci=None,\n",
    ")\n",
    "# title and legend\n",
    "ax.legend([\"DM\", \"TIS\"], loc=\"upper right\", fontsize=25)\n",
    "# yaxis\n",
    "# ax.set_yscale(\"log\")\n",
    "ax.set_ylabel(\"bias\", fontsize=25)\n",
    "ax.tick_params(axis=\"y\", labelsize=15)\n",
    "ax.yaxis.set_label_coords(-0.08, 0.5)\n",
    "# xaxis\n",
    "ax.set_xscale(\"log\")\n",
    "ax.set_xlabel(\"number of trajectories\", fontsize=25)\n",
    "ax.set_xticks(xlabels)\n",
    "ax.set_xticklabels(xlabels, fontsize=15)\n",
    "ax.xaxis.set_label_coords(0.5, -0.1)"
   ]
  },
  {
   "cell_type": "code",
   "execution_count": null,
   "metadata": {},
   "outputs": [],
   "source": [
    "# figure configs\n",
    "# query = \"(est == 'DM' or est == 'IPS') and num_data <= 6400\"\n",
    "xlabels = [100, 400, 1600]\n",
    "\n",
    "plt.style.use('ggplot')\n",
    "fig, ax = plt.subplots(figsize=(10, 7), tight_layout=True)\n",
    "sns.lineplot(\n",
    "    linewidth=5,\n",
    "    dashes=False,\n",
    "    legend=False,\n",
    "    x=\"n_trajectories\",\n",
    "    y=\"bias\",\n",
    "    hue=\"index\",\n",
    "    ax=ax,\n",
    "    data=bias_result_df.query(\"(est == 'dm' or est == 'dr')\"),\n",
    "    ci=None,\n",
    ")\n",
    "# title and legend\n",
    "ax.legend([\"DM\", \"DR\"], loc=\"upper right\", fontsize=25)\n",
    "# yaxis\n",
    "# ax.set_yscale(\"log\")\n",
    "ax.set_ylabel(\"bias\", fontsize=25)\n",
    "ax.tick_params(axis=\"y\", labelsize=15)\n",
    "ax.yaxis.set_label_coords(-0.08, 0.5)\n",
    "# xaxis\n",
    "ax.set_xscale(\"log\")\n",
    "ax.set_xlabel(\"number of trajectories\", fontsize=25)\n",
    "ax.set_xticks(xlabels)\n",
    "ax.set_xticklabels(xlabels, fontsize=15)\n",
    "ax.xaxis.set_label_coords(0.5, -0.1)"
   ]
  },
  {
   "cell_type": "code",
   "execution_count": null,
   "metadata": {},
   "outputs": [],
   "source": [
    "variance_result_df"
   ]
  },
  {
   "cell_type": "code",
   "execution_count": null,
   "metadata": {},
   "outputs": [],
   "source": [
    "# figure configs\n",
    "# query = \"(est == 'DM' or est == 'IPS') and num_data <= 6400\"\n",
    "xlabels = [100, 400, 1600, 3200]\n",
    "\n",
    "plt.style.use('ggplot')\n",
    "fig, ax = plt.subplots(figsize=(10, 7), tight_layout=True)\n",
    "sns.lineplot(\n",
    "    linewidth=5,\n",
    "    dashes=False,\n",
    "    legend=False,\n",
    "    x=\"n_trajectories\",\n",
    "    y=\"variance\",\n",
    "    hue=\"index\",\n",
    "    ax=ax,\n",
    "    data=variance_result_df.query(\"(index == 'dm' or index == 'pdis')\"),\n",
    "    ci=None,\n",
    ")\n",
    "# title and legend\n",
    "ax.legend([\"DM\", \"PDIS\"], loc=\"upper right\", fontsize=25)\n",
    "# yaxis\n",
    "# ax.set_yscale(\"log\")\n",
    "ax.set_ylabel(\"variance\", fontsize=25)\n",
    "ax.tick_params(axis=\"y\", labelsize=15)\n",
    "ax.yaxis.set_label_coords(-0.08, 0.5)\n",
    "# xaxis\n",
    "ax.set_xscale(\"log\")\n",
    "ax.set_xlabel(\"number of trajectories\", fontsize=25)\n",
    "ax.set_xticks(xlabels)\n",
    "ax.set_xticklabels(xlabels, fontsize=15)\n",
    "ax.xaxis.set_label_coords(0.5, -0.1)"
   ]
  },
  {
   "cell_type": "code",
   "execution_count": null,
   "metadata": {},
   "outputs": [],
   "source": [
    "# figure configs\n",
    "# query = \"(est == 'DM' or est == 'IPS') and num_data <= 6400\"\n",
    "xlabels = [100, 400, 1600]\n",
    "\n",
    "plt.style.use('ggplot')\n",
    "fig, ax = plt.subplots(figsize=(10, 7), tight_layout=True)\n",
    "sns.lineplot(\n",
    "    linewidth=5,\n",
    "    dashes=False,\n",
    "    legend=False,\n",
    "    x=\"n_trajectories\",\n",
    "    y=\"variance\",\n",
    "    hue=\"index\",\n",
    "    ax=ax,\n",
    "    data=variance_result_df.query(\"(index == 'tis' or index == 'pdis')\"),\n",
    "    ci=None,\n",
    ")\n",
    "# title and legend\n",
    "ax.legend([\"TIS\", \"PDIS\"], loc=\"upper right\", fontsize=25)\n",
    "# yaxis\n",
    "# ax.set_yscale(\"log\")\n",
    "ax.set_ylabel(\"variance\", fontsize=25)\n",
    "ax.tick_params(axis=\"y\", labelsize=15)\n",
    "ax.yaxis.set_label_coords(-0.08, 0.5)\n",
    "# xaxis\n",
    "ax.set_xscale(\"log\")\n",
    "ax.set_xlabel(\"number of trajectories\", fontsize=25)\n",
    "ax.set_xticks(xlabels)\n",
    "ax.set_xticklabels(xlabels, fontsize=15)\n",
    "ax.xaxis.set_label_coords(0.5, -0.1)"
   ]
  },
  {
   "cell_type": "code",
   "execution_count": null,
   "metadata": {},
   "outputs": [],
   "source": [
    "# figure configs\n",
    "# query = \"(est == 'DM' or est == 'IPS') and num_data <= 6400\"\n",
    "xlabels = [100, 400, 1600]\n",
    "\n",
    "plt.style.use('ggplot')\n",
    "fig, ax = plt.subplots(figsize=(10, 7), tight_layout=True)\n",
    "sns.lineplot(\n",
    "    linewidth=5,\n",
    "    dashes=False,\n",
    "    legend=False,\n",
    "    x=\"n_trajectories\",\n",
    "    y=\"variance\",\n",
    "    hue=\"index\",\n",
    "    ax=ax,\n",
    "    data=variance_result_df.query(\"(index == 'pdis' or index == 'dr')\"),\n",
    "    ci=None,\n",
    ")\n",
    "# title and legend\n",
    "ax.legend([\"PDIS\", \"DR\"], loc=\"upper right\", fontsize=25)\n",
    "# yaxis\n",
    "# ax.set_yscale(\"log\")\n",
    "ax.set_ylabel(\"variance\", fontsize=25)\n",
    "ax.tick_params(axis=\"y\", labelsize=15)\n",
    "ax.yaxis.set_label_coords(-0.08, 0.5)\n",
    "# xaxis\n",
    "ax.set_xscale(\"log\")\n",
    "ax.set_xlabel(\"number of trajectories\", fontsize=25)\n",
    "ax.set_xticks(xlabels)\n",
    "ax.set_xticklabels(xlabels, fontsize=15)\n",
    "ax.xaxis.set_label_coords(0.5, -0.1)"
   ]
  },
  {
   "cell_type": "code",
   "execution_count": null,
   "metadata": {},
   "outputs": [],
   "source": []
  }
 ],
 "metadata": {
  "kernelspec": {
   "display_name": "Python 3",
   "language": "python",
   "name": "python3"
  },
  "language_info": {
   "codemirror_mode": {
    "name": "ipython",
    "version": 3
   },
   "file_extension": ".py",
   "mimetype": "text/x-python",
   "name": "python",
   "nbconvert_exporter": "python",
   "pygments_lexer": "ipython3",
   "version": "3.10.6"
  },
  "orig_nbformat": 4,
  "vscode": {
   "interpreter": {
    "hash": "70404ee114725fce8ed9e697d67827f8546c678889944e6d695790702cbfe1f5"
   }
  }
 },
 "nbformat": 4,
 "nbformat_minor": 2
}
