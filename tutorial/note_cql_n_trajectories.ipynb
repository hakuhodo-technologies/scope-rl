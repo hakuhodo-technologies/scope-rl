{
 "cells": [
  {
   "cell_type": "code",
   "execution_count": 1,
   "metadata": {},
   "outputs": [],
   "source": [
    "import sys\n",
    "sys.path.append('../')\n",
    "sys.path.append('../../')"
   ]
  },
  {
   "cell_type": "code",
   "execution_count": 2,
   "metadata": {},
   "outputs": [],
   "source": [
    "# implement data collection procedure on the RTBGym environment\n",
    "\n",
    "# import OFRL modules\n",
    "import ofrl\n",
    "from rtbgym import RTBEnv, CustomizedRTBEnv\n",
    "from basicgym import BasicEnv\n",
    "from ofrl.dataset import SyntheticDataset\n",
    "from ofrl.policy import OnlineHead, ContinuousEvalHead\n",
    "from ofrl.policy import ContinuousTruncatedGaussianHead as TruncatedGaussianHead\n",
    "from ofrl.ope.online import (\n",
    "    calc_on_policy_policy_value,\n",
    "    visualize_on_policy_policy_value,\n",
    ")\n",
    "from ofrl.utils import MinMaxScaler, MinMaxActionScaler\n",
    "\n",
    "# import d3rlpy algorithms\n",
    "from d3rlpy.algos import RandomPolicy\n",
    "# from d3rlpy.preprocessing import MinMaxScaler, MinMaxActionScaler\n",
    "from ofrl.utils import MinMaxScaler, MinMaxActionScaler\n",
    "\n",
    "# import from other libraries\n",
    "import gym\n",
    "import torch\n",
    "from sklearn.model_selection import train_test_split"
   ]
  },
  {
   "cell_type": "code",
   "execution_count": 3,
   "metadata": {},
   "outputs": [],
   "source": [
    "import pickle\n",
    "from glob import glob\n",
    "from tqdm import tqdm\n",
    "\n",
    "import numpy as np\n",
    "import pandas as pd\n",
    "from pandas import DataFrame\n",
    "\n",
    "import matplotlib.pyplot as plt\n",
    "import seaborn as sns\n",
    "\n",
    "%matplotlib inline"
   ]
  },
  {
   "cell_type": "code",
   "execution_count": 4,
   "metadata": {},
   "outputs": [],
   "source": [
    "# log directory\n",
    "from pathlib import Path\n",
    "Path(\"logs/\").mkdir(exist_ok=True)"
   ]
  },
  {
   "cell_type": "code",
   "execution_count": 5,
   "metadata": {},
   "outputs": [],
   "source": [
    "# standardized environment for discrete action\n",
    "env = gym.make(\"BasicEnv-continuous-v0\")\n",
    "# for api compatibility to d3rlpy\n",
    "from ofrl.utils import OldGymAPIWrapper\n",
    "env_ = OldGymAPIWrapper(env)\n",
    "# behavior policy\n",
    "from d3rlpy.algos import SAC\n",
    "from d3rlpy.models.encoders import VectorEncoderFactory\n",
    "from d3rlpy.models.q_functions import MeanQFunctionFactory\n",
    "from d3rlpy.online.buffers import ReplayBuffer\n",
    "\n",
    "# model\n",
    "sac = SAC(\n",
    "    actor_encoder_factory=VectorEncoderFactory(hidden_units=[30, 30]),\n",
    "    critic_encoder_factory=VectorEncoderFactory(hidden_units=[30, 30]),\n",
    "    q_func_factory=MeanQFunctionFactory(),\n",
    "    use_gpu=torch.cuda.is_available(),\n",
    "    action_scaler=MinMaxActionScaler(\n",
    "        minimum=env_.action_space.low,   # 0.1\n",
    "        maximum=env_.action_space.high,  # 10\n",
    "    ),\n",
    ")\n",
    "# setup replay buffer\n",
    "buffer = ReplayBuffer(\n",
    "    maxlen=10000,\n",
    "    env=env_,\n",
    ")"
   ]
  },
  {
   "cell_type": "code",
   "execution_count": 6,
   "metadata": {},
   "outputs": [
    {
     "name": "stdout",
     "output_type": "stream",
     "text": [
      "2023-04-06 18:20.01 [info     ] Directory is created at d3rlpy_logs/SAC_online_20230406182001\n",
      "2023-04-06 18:20.01 [debug    ] Fitting action scaler...       action_scler=min_max\n",
      "2023-04-06 18:20.01 [debug    ] Building model...\n",
      "2023-04-06 18:20.01 [debug    ] Model has been built.\n",
      "2023-04-06 18:20.01 [info     ] Parameters are saved to d3rlpy_logs/SAC_online_20230406182001/params.json params={'action_scaler': {'type': 'min_max', 'params': {'minimum': array([-1., -1., -1.]), 'maximum': array([1., 1., 1.])}}, 'actor_encoder_factory': {'type': 'vector', 'params': {'hidden_units': [30, 30], 'activation': 'relu', 'use_batch_norm': False, 'dropout_rate': None, 'use_dense': False}}, 'actor_learning_rate': 0.0003, 'actor_optim_factory': {'optim_cls': 'Adam', 'betas': (0.9, 0.999), 'eps': 1e-08, 'weight_decay': 0, 'amsgrad': False}, 'batch_size': 256, 'critic_encoder_factory': {'type': 'vector', 'params': {'hidden_units': [30, 30], 'activation': 'relu', 'use_batch_norm': False, 'dropout_rate': None, 'use_dense': False}}, 'critic_learning_rate': 0.0003, 'critic_optim_factory': {'optim_cls': 'Adam', 'betas': (0.9, 0.999), 'eps': 1e-08, 'weight_decay': 0, 'amsgrad': False}, 'gamma': 0.99, 'generated_maxlen': 100000, 'initial_temperature': 1.0, 'n_critics': 2, 'n_frames': 1, 'n_steps': 1, 'q_func_factory': {'type': 'mean', 'params': {'share_encoder': False}}, 'real_ratio': 1.0, 'reward_scaler': None, 'scaler': None, 'tau': 0.005, 'temp_learning_rate': 0.0003, 'temp_optim_factory': {'optim_cls': 'Adam', 'betas': (0.9, 0.999), 'eps': 1e-08, 'weight_decay': 0, 'amsgrad': False}, 'use_gpu': None, 'algorithm': 'SAC', 'observation_shape': (5,), 'action_size': 3}\n"
     ]
    },
    {
     "name": "stderr",
     "output_type": "stream",
     "text": [
      "/Users/ren/.pyenv/versions/3.10.6/lib/python3.10/site-packages/gym/utils/passive_env_checker.py:187: UserWarning: \u001b[33mWARN: Future gym versions will require that `Env.reset` can be passed `options` to allow the environment initialisation to be passed additional information.\u001b[0m\n",
      "  logger.warn(\n"
     ]
    },
    {
     "data": {
      "application/vnd.jupyter.widget-view+json": {
       "model_id": "84510708efb04b079588c097cff1029f",
       "version_major": 2,
       "version_minor": 0
      },
      "text/plain": [
       "  0%|          | 0/1000 [00:00<?, ?it/s]"
      ]
     },
     "metadata": {},
     "output_type": "display_data"
    },
    {
     "name": "stdout",
     "output_type": "stream",
     "text": [
      "2023-04-06 18:20.01 [info     ] Model parameters are saved to d3rlpy_logs/SAC_online_20230406182001/model_10.pt\n",
      "2023-04-06 18:20.01 [info     ] SAC_online_20230406182001: epoch=1 step=10 epoch=1 metrics={'time_inference': 0.0011154890060424804, 'time_environment_step': 0.00018153190612792968, 'time_step': 0.0013346910476684571, 'rollout_return': 2.478810510060748, 'evaluation': 1.5956893814888315} step=10\n",
      "2023-04-06 18:20.01 [info     ] Model parameters are saved to d3rlpy_logs/SAC_online_20230406182001/model_20.pt\n",
      "2023-04-06 18:20.01 [info     ] SAC_online_20230406182001: epoch=2 step=20 epoch=2 metrics={'time_inference': 0.00043201446533203125, 'time_environment_step': 4.987716674804687e-05, 'time_step': 0.0005025625228881836, 'rollout_return': -0.4021446037730158, 'evaluation': 1.5434804553363233} step=20\n",
      "2023-04-06 18:20.01 [info     ] Model parameters are saved to d3rlpy_logs/SAC_online_20230406182001/model_30.pt\n",
      "2023-04-06 18:20.01 [info     ] SAC_online_20230406182001: epoch=3 step=30 epoch=3 metrics={'time_inference': 0.0005633831024169922, 'time_environment_step': 5.5217742919921874e-05, 'time_step': 0.0006414651870727539, 'rollout_return': 2.1094044705921933, 'evaluation': 1.1928467884706424} step=30\n",
      "2023-04-06 18:20.01 [info     ] Model parameters are saved to d3rlpy_logs/SAC_online_20230406182001/model_40.pt\n",
      "2023-04-06 18:20.01 [info     ] SAC_online_20230406182001: epoch=4 step=40 epoch=4 metrics={'time_inference': 0.0005260705947875977, 'time_environment_step': 5.459785461425781e-05, 'time_step': 0.0006026744842529297, 'rollout_return': 0.3741421832993578, 'evaluation': 1.9887326574577595} step=40\n",
      "2023-04-06 18:20.01 [info     ] Model parameters are saved to d3rlpy_logs/SAC_online_20230406182001/model_50.pt\n",
      "2023-04-06 18:20.01 [info     ] SAC_online_20230406182001: epoch=5 step=50 epoch=5 metrics={'time_inference': 0.0007498741149902343, 'time_environment_step': 9.121894836425782e-05, 'time_step': 0.0008742094039916992, 'rollout_return': 0.12959099031880605, 'evaluation': 1.9728376303252368} step=50\n",
      "2023-04-06 18:20.01 [info     ] Model parameters are saved to d3rlpy_logs/SAC_online_20230406182001/model_60.pt\n",
      "2023-04-06 18:20.01 [info     ] SAC_online_20230406182001: epoch=6 step=60 epoch=6 metrics={'time_inference': 0.0005131244659423828, 'time_environment_step': 5.009174346923828e-05, 'time_step': 0.0005857467651367188, 'rollout_return': -0.0687680556201119, 'evaluation': 1.9726200512573377} step=60\n",
      "2023-04-06 18:20.01 [info     ] Model parameters are saved to d3rlpy_logs/SAC_online_20230406182001/model_70.pt\n",
      "2023-04-06 18:20.01 [info     ] SAC_online_20230406182001: epoch=7 step=70 epoch=7 metrics={'time_inference': 0.0005588531494140625, 'time_environment_step': 5.6862831115722656e-05, 'time_step': 0.0006381511688232422, 'rollout_return': -0.24684538761929747, 'evaluation': 1.4268388368301559} step=70\n",
      "2023-04-06 18:20.01 [info     ] Model parameters are saved to d3rlpy_logs/SAC_online_20230406182001/model_80.pt\n",
      "2023-04-06 18:20.01 [info     ] SAC_online_20230406182001: epoch=8 step=80 epoch=8 metrics={'time_inference': 0.0005158185958862305, 'time_environment_step': 5.452632904052734e-05, 'time_step': 0.0005918741226196289, 'rollout_return': 0.5398443369669865, 'evaluation': 2.1028923357361275} step=80\n",
      "2023-04-06 18:20.01 [info     ] Model parameters are saved to d3rlpy_logs/SAC_online_20230406182001/model_90.pt\n",
      "2023-04-06 18:20.01 [info     ] SAC_online_20230406182001: epoch=9 step=90 epoch=9 metrics={'time_inference': 0.0005755424499511719, 'time_environment_step': 5.536079406738281e-05, 'time_step': 0.0006534337997436523, 'rollout_return': 0.7824905579710344, 'evaluation': 0.8616612923363116} step=90\n",
      "2023-04-06 18:20.01 [info     ] Model parameters are saved to d3rlpy_logs/SAC_online_20230406182001/model_100.pt\n",
      "2023-04-06 18:20.01 [info     ] SAC_online_20230406182001: epoch=10 step=100 epoch=10 metrics={'time_inference': 0.0005070209503173828, 'time_environment_step': 5.22613525390625e-05, 'time_step': 0.000582432746887207, 'rollout_return': -0.38940021180399637, 'evaluation': 1.3937033102251215} step=100\n",
      "2023-04-06 18:20.01 [info     ] Model parameters are saved to d3rlpy_logs/SAC_online_20230406182001/model_110.pt\n",
      "2023-04-06 18:20.01 [info     ] SAC_online_20230406182001: epoch=11 step=110 epoch=11 metrics={'time_inference': 0.0005108118057250977, 'time_environment_step': 5.099773406982422e-05, 'time_step': 0.0005844831466674805, 'rollout_return': 0.909947017356306, 'evaluation': 1.5700342914197836} step=110\n",
      "2023-04-06 18:20.01 [info     ] Model parameters are saved to d3rlpy_logs/SAC_online_20230406182001/model_120.pt\n",
      "2023-04-06 18:20.01 [info     ] SAC_online_20230406182001: epoch=12 step=120 epoch=12 metrics={'time_inference': 0.00045504570007324217, 'time_environment_step': 4.835128784179688e-05, 'time_step': 0.0005242347717285157, 'rollout_return': -0.6070686211638503, 'evaluation': 1.1473096002986996} step=120\n",
      "2023-04-06 18:20.02 [info     ] Model parameters are saved to d3rlpy_logs/SAC_online_20230406182001/model_130.pt\n",
      "2023-04-06 18:20.02 [info     ] SAC_online_20230406182001: epoch=13 step=130 epoch=13 metrics={'time_inference': 0.0005252838134765625, 'time_environment_step': 4.966259002685547e-05, 'time_step': 0.0005957365036010742, 'rollout_return': -1.1308376483156524, 'evaluation': 1.8592058217132528} step=130\n",
      "2023-04-06 18:20.02 [info     ] Model parameters are saved to d3rlpy_logs/SAC_online_20230406182001/model_140.pt\n",
      "2023-04-06 18:20.02 [info     ] SAC_online_20230406182001: epoch=14 step=140 epoch=14 metrics={'time_inference': 0.00041792392730712893, 'time_environment_step': 4.470348358154297e-05, 'time_step': 0.00048265457153320315, 'rollout_return': 2.0850412405358996, 'evaluation': 0.9627786047133837} step=140\n",
      "2023-04-06 18:20.02 [info     ] Model parameters are saved to d3rlpy_logs/SAC_online_20230406182001/model_150.pt\n",
      "2023-04-06 18:20.02 [info     ] SAC_online_20230406182001: epoch=15 step=150 epoch=15 metrics={'time_inference': 0.0006134748458862304, 'time_environment_step': 5.643367767333984e-05, 'time_step': 0.0006934881210327148, 'rollout_return': -0.4190444197407747, 'evaluation': 1.5743670539161185} step=150\n",
      "2023-04-06 18:20.02 [info     ] Model parameters are saved to d3rlpy_logs/SAC_online_20230406182001/model_160.pt\n",
      "2023-04-06 18:20.02 [info     ] SAC_online_20230406182001: epoch=16 step=160 epoch=16 metrics={'time_inference': 0.0004883527755737305, 'time_environment_step': 5.116462707519531e-05, 'time_step': 0.0005624532699584961, 'rollout_return': -0.3362677638231936, 'evaluation': 1.6515046411991279} step=160\n",
      "2023-04-06 18:20.02 [info     ] Model parameters are saved to d3rlpy_logs/SAC_online_20230406182001/model_170.pt\n",
      "2023-04-06 18:20.02 [info     ] SAC_online_20230406182001: epoch=17 step=170 epoch=17 metrics={'time_inference': 0.0004784345626831055, 'time_environment_step': 6.92129135131836e-05, 'time_step': 0.0005686283111572266, 'rollout_return': 1.0705576371059036, 'evaluation': 2.0247574802115436} step=170\n",
      "2023-04-06 18:20.02 [info     ] Model parameters are saved to d3rlpy_logs/SAC_online_20230406182001/model_180.pt\n",
      "2023-04-06 18:20.02 [info     ] SAC_online_20230406182001: epoch=18 step=180 epoch=18 metrics={'time_inference': 0.0005278825759887695, 'time_environment_step': 5.233287811279297e-05, 'time_step': 0.0006032466888427734, 'rollout_return': 0.6602016949809055, 'evaluation': 2.1492483340726887} step=180\n",
      "2023-04-06 18:20.02 [info     ] Model parameters are saved to d3rlpy_logs/SAC_online_20230406182001/model_190.pt\n",
      "2023-04-06 18:20.02 [info     ] SAC_online_20230406182001: epoch=19 step=190 epoch=19 metrics={'time_inference': 0.0005559444427490235, 'time_environment_step': 5.462169647216797e-05, 'time_step': 0.0006323099136352539, 'rollout_return': 0.17409517443835, 'evaluation': 1.4292122369546731} step=190\n",
      "2023-04-06 18:20.02 [info     ] Model parameters are saved to d3rlpy_logs/SAC_online_20230406182001/model_200.pt\n",
      "2023-04-06 18:20.02 [info     ] SAC_online_20230406182001: epoch=20 step=200 epoch=20 metrics={'time_inference': 0.00044403076171875, 'time_environment_step': 4.9686431884765626e-05, 'time_step': 0.0005150318145751953, 'rollout_return': -1.9360195066486618, 'evaluation': 1.2764907454053465} step=200\n",
      "2023-04-06 18:20.02 [info     ] Model parameters are saved to d3rlpy_logs/SAC_online_20230406182001/model_210.pt\n",
      "2023-04-06 18:20.02 [info     ] SAC_online_20230406182001: epoch=21 step=210 epoch=21 metrics={'time_inference': 0.0004688262939453125, 'time_environment_step': 4.699230194091797e-05, 'time_step': 0.0005354404449462891, 'rollout_return': -0.8952529081420686, 'evaluation': 1.3531643299947607} step=210\n",
      "2023-04-06 18:20.02 [info     ] Model parameters are saved to d3rlpy_logs/SAC_online_20230406182001/model_220.pt\n",
      "2023-04-06 18:20.02 [info     ] SAC_online_20230406182001: epoch=22 step=220 epoch=22 metrics={'time_inference': 0.0004831075668334961, 'time_environment_step': 4.8542022705078124e-05, 'time_step': 0.0005534410476684571, 'rollout_return': 0.13731771633378076, 'evaluation': 1.1899475591462736} step=220\n",
      "2023-04-06 18:20.02 [info     ] Model parameters are saved to d3rlpy_logs/SAC_online_20230406182001/model_230.pt\n",
      "2023-04-06 18:20.02 [info     ] SAC_online_20230406182001: epoch=23 step=230 epoch=23 metrics={'time_inference': 0.0005150794982910156, 'time_environment_step': 5.974769592285156e-05, 'time_step': 0.0005976676940917969, 'rollout_return': -0.19376299714901857, 'evaluation': 1.420018423943712} step=230\n",
      "2023-04-06 18:20.02 [info     ] Model parameters are saved to d3rlpy_logs/SAC_online_20230406182001/model_240.pt\n",
      "2023-04-06 18:20.02 [info     ] SAC_online_20230406182001: epoch=24 step=240 epoch=24 metrics={'time_inference': 0.00048699378967285154, 'time_environment_step': 5.075931549072266e-05, 'time_step': 0.0005583047866821289, 'rollout_return': 1.3929846605479907, 'evaluation': 1.5772433717703565} step=240\n",
      "2023-04-06 18:20.02 [info     ] Model parameters are saved to d3rlpy_logs/SAC_online_20230406182001/model_250.pt\n",
      "2023-04-06 18:20.02 [info     ] SAC_online_20230406182001: epoch=25 step=250 epoch=25 metrics={'time_inference': 0.0005139350891113281, 'time_environment_step': 5.130767822265625e-05, 'time_step': 0.0005865097045898438, 'rollout_return': 0.12216618195514622, 'evaluation': 1.3404369848190985} step=250\n",
      "2023-04-06 18:20.02 [info     ] Model parameters are saved to d3rlpy_logs/SAC_online_20230406182001/model_260.pt\n",
      "2023-04-06 18:20.02 [info     ] SAC_online_20230406182001: epoch=26 step=260 epoch=26 metrics={'time_inference': 0.0005261421203613282, 'time_environment_step': 6.1798095703125e-05, 'time_step': 0.003599739074707031, 'time_sample_batch': 0.0001659393310546875, 'time_algorithm_update': 0.00978247324625651, 'temp_loss': 4.98552672068278, 'temp': 0.99940025806427, 'critic_loss': 6.752276579538981, 'actor_loss': -2.0483415126800537, 'rollout_return': 0.7886115448238712, 'evaluation': 1.103800768368859} step=260\n",
      "2023-04-06 18:20.02 [info     ] Model parameters are saved to d3rlpy_logs/SAC_online_20230406182001/model_270.pt\n",
      "2023-04-06 18:20.02 [info     ] SAC_online_20230406182001: epoch=27 step=270 epoch=27 metrics={'time_inference': 0.0006078958511352539, 'time_environment_step': 9.717941284179688e-05, 'time_sample_batch': 0.00017039775848388673, 'time_algorithm_update': 0.008587074279785157, 'temp_loss': 4.982650232315064, 'temp': 0.9974538326263428, 'critic_loss': 6.406429195404053, 'actor_loss': -2.0721547603607178, 'time_step': 0.009507346153259277, 'rollout_return': 1.1326834025214338, 'evaluation': 1.5074135030735523} step=270\n",
      "2023-04-06 18:20.03 [info     ] Model parameters are saved to d3rlpy_logs/SAC_online_20230406182001/model_280.pt\n",
      "2023-04-06 18:20.03 [info     ] SAC_online_20230406182001: epoch=28 step=280 epoch=28 metrics={'time_inference': 0.0005167245864868164, 'time_environment_step': 9.829998016357422e-05, 'time_sample_batch': 0.00015573501586914064, 'time_algorithm_update': 0.0071763753890991214, 'temp_loss': 4.988875484466552, 'temp': 0.9944669485092164, 'critic_loss': 6.56346960067749, 'actor_loss': -2.0946587324142456, 'time_step': 0.00799407958984375, 'rollout_return': -0.8446044665023805, 'evaluation': 1.670222270645071} step=280\n",
      "2023-04-06 18:20.03 [info     ] Model parameters are saved to d3rlpy_logs/SAC_online_20230406182001/model_290.pt\n",
      "2023-04-06 18:20.03 [info     ] SAC_online_20230406182001: epoch=29 step=290 epoch=29 metrics={'time_inference': 0.0004710674285888672, 'time_environment_step': 7.033348083496094e-05, 'time_sample_batch': 0.00013418197631835936, 'time_algorithm_update': 0.0045758247375488285, 'temp_loss': 4.97987995147705, 'temp': 0.9914881348609924, 'critic_loss': 6.2707061767578125, 'actor_loss': -2.1372079133987425, 'time_step': 0.005309367179870605, 'rollout_return': 1.0648415873667614, 'evaluation': 0.6772515339897234} step=290\n",
      "2023-04-06 18:20.03 [info     ] Model parameters are saved to d3rlpy_logs/SAC_online_20230406182001/model_300.pt\n",
      "2023-04-06 18:20.03 [info     ] SAC_online_20230406182001: epoch=30 step=300 epoch=30 metrics={'time_inference': 0.0004952430725097656, 'time_environment_step': 6.892681121826172e-05, 'time_sample_batch': 0.00015947818756103515, 'time_algorithm_update': 0.004468441009521484, 'temp_loss': 4.971406030654907, 'temp': 0.9885193109512329, 'critic_loss': 6.018453073501587, 'actor_loss': -2.182465171813965, 'time_step': 0.005230903625488281, 'rollout_return': 1.2803151049634214, 'evaluation': 1.1522629145787855} step=300\n",
      "2023-04-06 18:20.03 [info     ] Model parameters are saved to d3rlpy_logs/SAC_online_20230406182001/model_310.pt\n",
      "2023-04-06 18:20.03 [info     ] SAC_online_20230406182001: epoch=31 step=310 epoch=31 metrics={'time_inference': 0.0005642652511596679, 'time_environment_step': 6.861686706542969e-05, 'time_sample_batch': 0.00014050006866455077, 'time_algorithm_update': 0.00421903133392334, 'temp_loss': 4.968580865859986, 'temp': 0.9855617403984069, 'critic_loss': 5.936975765228271, 'actor_loss': -2.206356644630432, 'time_step': 0.0050301790237426754, 'rollout_return': 2.7691557005015675, 'evaluation': 1.8609650213229838} step=310\n",
      "2023-04-06 18:20.03 [info     ] Model parameters are saved to d3rlpy_logs/SAC_online_20230406182001/model_320.pt\n",
      "2023-04-06 18:20.03 [info     ] SAC_online_20230406182001: epoch=32 step=320 epoch=32 metrics={'time_inference': 0.0006575107574462891, 'time_environment_step': 6.930828094482422e-05, 'time_sample_batch': 0.00013718605041503906, 'time_algorithm_update': 0.004391956329345703, 'temp_loss': 4.945372676849365, 'temp': 0.9826162934303284, 'critic_loss': 5.7064496040344235, 'actor_loss': -2.236461043357849, 'time_step': 0.0052950382232666016, 'rollout_return': 0.3134196964601125, 'evaluation': 1.424907876800759} step=320\n",
      "2023-04-06 18:20.03 [info     ] Model parameters are saved to d3rlpy_logs/SAC_online_20230406182001/model_330.pt\n",
      "2023-04-06 18:20.03 [info     ] SAC_online_20230406182001: epoch=33 step=330 epoch=33 metrics={'time_inference': 0.0004479169845581055, 'time_environment_step': 6.372928619384766e-05, 'time_sample_batch': 0.00013086795806884765, 'time_algorithm_update': 0.00415956974029541, 'temp_loss': 4.94482741355896, 'temp': 0.97968430519104, 'critic_loss': 5.5469972610473635, 'actor_loss': -2.283583235740662, 'time_step': 0.004837656021118164, 'rollout_return': -0.0344154515262005, 'evaluation': 1.1786030534505545} step=330\n",
      "2023-04-06 18:20.03 [info     ] Model parameters are saved to d3rlpy_logs/SAC_online_20230406182001/model_340.pt\n",
      "2023-04-06 18:20.03 [info     ] SAC_online_20230406182001: epoch=34 step=340 epoch=34 metrics={'time_inference': 0.0005444765090942382, 'time_environment_step': 8.130073547363281e-05, 'time_sample_batch': 0.00014505386352539062, 'time_algorithm_update': 0.004414129257202149, 'temp_loss': 4.917471265792846, 'temp': 0.9767637372016906, 'critic_loss': 5.313629198074341, 'actor_loss': -2.319556450843811, 'time_step': 0.005231881141662597, 'rollout_return': 0.13978119519121412, 'evaluation': 2.4132047957874323} step=340\n",
      "2023-04-06 18:20.03 [info     ] Model parameters are saved to d3rlpy_logs/SAC_online_20230406182001/model_350.pt\n",
      "2023-04-06 18:20.03 [info     ] SAC_online_20230406182001: epoch=35 step=350 epoch=35 metrics={'time_inference': 0.0005614757537841797, 'time_environment_step': 7.00235366821289e-05, 'time_sample_batch': 0.00013566017150878906, 'time_algorithm_update': 0.004423284530639648, 'temp_loss': 4.9033811569213865, 'temp': 0.9738593995571136, 'critic_loss': 4.967556047439575, 'actor_loss': -2.3602244377136232, 'time_step': 0.005227136611938477, 'rollout_return': 0.348182259267547, 'evaluation': 0.9575745114127964} step=350\n",
      "2023-04-06 18:20.03 [info     ] Model parameters are saved to d3rlpy_logs/SAC_online_20230406182001/model_360.pt\n",
      "2023-04-06 18:20.03 [info     ] SAC_online_20230406182001: epoch=36 step=360 epoch=36 metrics={'time_inference': 0.0005588531494140625, 'time_environment_step': 6.709098815917968e-05, 'time_sample_batch': 0.0001363039016723633, 'time_algorithm_update': 0.004392862319946289, 'temp_loss': 4.900198841094971, 'temp': 0.9709675312042236, 'critic_loss': 4.674964952468872, 'actor_loss': -2.407180142402649, 'time_step': 0.005190896987915039, 'rollout_return': 0.6008775401354266, 'evaluation': 0.9838752070654551} step=360\n",
      "2023-04-06 18:20.03 [info     ] Model parameters are saved to d3rlpy_logs/SAC_online_20230406182001/model_370.pt\n",
      "2023-04-06 18:20.03 [info     ] SAC_online_20230406182001: epoch=37 step=370 epoch=37 metrics={'time_inference': 0.0006204366683959961, 'time_environment_step': 6.551742553710938e-05, 'time_sample_batch': 0.00013489723205566405, 'time_algorithm_update': 0.004167628288269043, 'temp_loss': 4.876959133148193, 'temp': 0.9680877685546875, 'critic_loss': 4.435341262817383, 'actor_loss': -2.4663964986801146, 'time_step': 0.005026316642761231, 'rollout_return': 0.6360245895235656, 'evaluation': 0.9274891120202895} step=370\n",
      "2023-04-06 18:20.04 [info     ] Model parameters are saved to d3rlpy_logs/SAC_online_20230406182001/model_380.pt\n",
      "2023-04-06 18:20.04 [info     ] SAC_online_20230406182001: epoch=38 step=380 epoch=38 metrics={'time_inference': 0.0004916667938232421, 'time_environment_step': 6.92605972290039e-05, 'time_sample_batch': 0.00016016960144042968, 'time_algorithm_update': 0.00436394214630127, 'temp_loss': 4.871222305297851, 'temp': 0.9652213096618653, 'critic_loss': 4.204651594161987, 'actor_loss': -2.5192097663879394, 'time_step': 0.005127525329589844, 'rollout_return': -0.6103858898564691, 'evaluation': 1.0760531940495366} step=380\n",
      "2023-04-06 18:20.04 [info     ] Model parameters are saved to d3rlpy_logs/SAC_online_20230406182001/model_390.pt\n",
      "2023-04-06 18:20.04 [info     ] SAC_online_20230406182001: epoch=39 step=390 epoch=39 metrics={'time_inference': 0.0005332231521606445, 'time_environment_step': 6.670951843261719e-05, 'time_sample_batch': 0.00013611316680908203, 'time_algorithm_update': 0.0042887449264526365, 'temp_loss': 4.8590319633483885, 'temp': 0.9623670041561126, 'critic_loss': 3.8173271656036376, 'actor_loss': -2.586765265464783, 'time_step': 0.005061960220336914, 'rollout_return': -1.3560239590021559, 'evaluation': 0.9205383246167187} step=390\n",
      "2023-04-06 18:20.04 [info     ] Model parameters are saved to d3rlpy_logs/SAC_online_20230406182001/model_400.pt\n",
      "2023-04-06 18:20.04 [info     ] SAC_online_20230406182001: epoch=40 step=400 epoch=40 metrics={'time_inference': 0.0005852222442626953, 'time_environment_step': 6.575584411621094e-05, 'time_sample_batch': 0.00013935565948486328, 'time_algorithm_update': 0.004235267639160156, 'temp_loss': 4.842475414276123, 'temp': 0.9595243036746979, 'critic_loss': 3.5591201305389406, 'actor_loss': -2.6638822317123414, 'time_step': 0.005061626434326172, 'rollout_return': 0.8036355069199437, 'evaluation': 1.4504260042782688} step=400\n",
      "2023-04-06 18:20.04 [info     ] Model parameters are saved to d3rlpy_logs/SAC_online_20230406182001/model_410.pt\n",
      "2023-04-06 18:20.04 [info     ] SAC_online_20230406182001: epoch=41 step=410 epoch=41 metrics={'time_inference': 0.0005798578262329101, 'time_environment_step': 6.656646728515625e-05, 'time_sample_batch': 0.0001362323760986328, 'time_algorithm_update': 0.004357051849365234, 'temp_loss': 4.830819845199585, 'temp': 0.9566941499710083, 'critic_loss': 3.2420295238494874, 'actor_loss': -2.740041995048523, 'time_step': 0.0051756143569946286, 'rollout_return': 0.8540160241066858, 'evaluation': 2.161072736046516} step=410\n",
      "2023-04-06 18:20.04 [info     ] Model parameters are saved to d3rlpy_logs/SAC_online_20230406182001/model_420.pt\n",
      "2023-04-06 18:20.04 [info     ] SAC_online_20230406182001: epoch=42 step=420 epoch=42 metrics={'time_inference': 0.0005289554595947265, 'time_environment_step': 6.3323974609375e-05, 'time_sample_batch': 0.00013318061828613282, 'time_algorithm_update': 0.004205965995788574, 'temp_loss': 4.812910509109497, 'temp': 0.953877192735672, 'critic_loss': 3.0989965915679933, 'actor_loss': -2.809673881530762, 'time_step': 0.004966640472412109, 'rollout_return': -0.22955546965095566, 'evaluation': 0.7497396311118971} step=420\n",
      "2023-04-06 18:20.04 [info     ] Model parameters are saved to d3rlpy_logs/SAC_online_20230406182001/model_430.pt\n",
      "2023-04-06 18:20.04 [info     ] SAC_online_20230406182001: epoch=43 step=430 epoch=43 metrics={'time_inference': 0.0004444599151611328, 'time_environment_step': 6.630420684814454e-05, 'time_sample_batch': 0.0001371145248413086, 'time_algorithm_update': 0.0044510126113891605, 'temp_loss': 4.7934612274169925, 'temp': 0.9510741174221039, 'critic_loss': 2.7772411584854124, 'actor_loss': -2.894803261756897, 'time_step': 0.005135655403137207, 'rollout_return': -0.3601784835991965, 'evaluation': 0.8741316800986724} step=430\n",
      "2023-04-06 18:20.04 [info     ] Model parameters are saved to d3rlpy_logs/SAC_online_20230406182001/model_440.pt\n",
      "2023-04-06 18:20.04 [info     ] SAC_online_20230406182001: epoch=44 step=440 epoch=44 metrics={'time_inference': 0.0005248546600341797, 'time_environment_step': 7.381439208984376e-05, 'time_sample_batch': 0.0001857280731201172, 'time_algorithm_update': 0.0042534351348876955, 'temp_loss': 4.7856744766235355, 'temp': 0.948284900188446, 'critic_loss': 2.6236453533172606, 'actor_loss': -2.9718541145324706, 'time_step': 0.005077099800109864, 'rollout_return': 0.23814816792366755, 'evaluation': 0.9102265175968313} step=440\n",
      "2023-04-06 18:20.04 [info     ] Model parameters are saved to d3rlpy_logs/SAC_online_20230406182001/model_450.pt\n",
      "2023-04-06 18:20.04 [info     ] SAC_online_20230406182001: epoch=45 step=450 epoch=45 metrics={'time_inference': 0.0004703998565673828, 'time_environment_step': 6.923675537109374e-05, 'time_sample_batch': 0.00013833045959472657, 'time_algorithm_update': 0.004380059242248535, 'temp_loss': 4.781707382202148, 'temp': 0.9455052554607392, 'critic_loss': 2.4757184028625487, 'actor_loss': -3.0545111894607544, 'time_step': 0.005093598365783691, 'rollout_return': -0.547076800614019, 'evaluation': 1.3478761944453168} step=450\n",
      "2023-04-06 18:20.04 [info     ] Model parameters are saved to d3rlpy_logs/SAC_online_20230406182001/model_460.pt\n",
      "2023-04-06 18:20.04 [info     ] SAC_online_20230406182001: epoch=46 step=460 epoch=46 metrics={'time_inference': 0.0005463123321533203, 'time_environment_step': 6.585121154785156e-05, 'time_sample_batch': 0.00018155574798583984, 'time_algorithm_update': 0.004303336143493652, 'temp_loss': 4.758177280426025, 'temp': 0.9427348136901855, 'critic_loss': 2.359757328033447, 'actor_loss': -3.134966421127319, 'time_step': 0.00513310432434082, 'rollout_return': -0.08849456128411655, 'evaluation': 0.7969101329977606} step=460\n",
      "2023-04-06 18:20.04 [info     ] Model parameters are saved to d3rlpy_logs/SAC_online_20230406182001/model_470.pt\n",
      "2023-04-06 18:20.04 [info     ] SAC_online_20230406182001: epoch=47 step=470 epoch=47 metrics={'time_inference': 0.0006072998046875, 'time_environment_step': 6.90460205078125e-05, 'time_sample_batch': 0.00015122890472412108, 'time_algorithm_update': 0.004282069206237793, 'temp_loss': 4.7395110607147215, 'temp': 0.9399791419506073, 'critic_loss': 2.2374043464660645, 'actor_loss': -3.215229892730713, 'time_step': 0.0051462650299072266, 'rollout_return': 1.0562193761689251, 'evaluation': 0.7237349027688291} step=470\n",
      "2023-04-06 18:20.05 [info     ] Model parameters are saved to d3rlpy_logs/SAC_online_20230406182001/model_480.pt\n",
      "2023-04-06 18:20.05 [info     ] SAC_online_20230406182001: epoch=48 step=480 epoch=48 metrics={'time_inference': 0.0006099939346313477, 'time_environment_step': 7.195472717285157e-05, 'time_sample_batch': 0.00013692378997802733, 'time_algorithm_update': 0.004315304756164551, 'temp_loss': 4.726417207717896, 'temp': 0.9372379541397095, 'critic_loss': 2.1383887052536013, 'actor_loss': -3.2980844020843505, 'time_step': 0.005175328254699707, 'rollout_return': -0.6640870675304538, 'evaluation': 0.4701865457469441} step=480\n",
      "2023-04-06 18:20.05 [info     ] Model parameters are saved to d3rlpy_logs/SAC_online_20230406182001/model_490.pt\n",
      "2023-04-06 18:20.05 [info     ] SAC_online_20230406182001: epoch=49 step=490 epoch=49 metrics={'time_inference': 0.0006460666656494141, 'time_environment_step': 6.842613220214844e-05, 'time_sample_batch': 0.00013895034790039061, 'time_algorithm_update': 0.004260039329528809, 'temp_loss': 4.7078581809997555, 'temp': 0.934509414434433, 'critic_loss': 2.167720353603363, 'actor_loss': -3.3694045305252076, 'time_step': 0.005150294303894043, 'rollout_return': 0.8138783052215418, 'evaluation': 1.5163273601657432} step=490\n",
      "2023-04-06 18:20.05 [info     ] Model parameters are saved to d3rlpy_logs/SAC_online_20230406182001/model_500.pt\n",
      "2023-04-06 18:20.05 [info     ] SAC_online_20230406182001: epoch=50 step=500 epoch=50 metrics={'time_inference': 0.0006335258483886718, 'time_environment_step': 7.462501525878906e-05, 'time_sample_batch': 0.00014712810516357422, 'time_algorithm_update': 0.004686546325683594, 'temp_loss': 4.695733499526978, 'temp': 0.9317933201789856, 'critic_loss': 2.124991977214813, 'actor_loss': -3.4338603019714355, 'time_step': 0.0055816411972045895, 'rollout_return': 0.8636180713425055, 'evaluation': 1.6691000598333183} step=500\n",
      "2023-04-06 18:20.05 [info     ] Model parameters are saved to d3rlpy_logs/SAC_online_20230406182001/model_510.pt\n",
      "2023-04-06 18:20.05 [info     ] SAC_online_20230406182001: epoch=51 step=510 epoch=51 metrics={'time_inference': 0.000583648681640625, 'time_environment_step': 6.880760192871094e-05, 'time_sample_batch': 0.00013844966888427735, 'time_algorithm_update': 0.004408192634582519, 'temp_loss': 4.6826026916503904, 'temp': 0.9290897190570832, 'critic_loss': 2.0544394969940187, 'actor_loss': -3.4903200387954714, 'time_step': 0.005237293243408203, 'rollout_return': 0.1209175017588705, 'evaluation': 1.1954284383189366} step=510\n",
      "2023-04-06 18:20.05 [info     ] Model parameters are saved to d3rlpy_logs/SAC_online_20230406182001/model_520.pt\n",
      "2023-04-06 18:20.05 [info     ] SAC_online_20230406182001: epoch=52 step=520 epoch=52 metrics={'time_inference': 0.0005644559860229492, 'time_environment_step': 6.959438323974609e-05, 'time_sample_batch': 0.0001409292221069336, 'time_algorithm_update': 0.004303550720214844, 'temp_loss': 4.669127798080444, 'temp': 0.9263979852199554, 'critic_loss': 2.1211342334747316, 'actor_loss': -3.5501071214675903, 'time_step': 0.005116701126098633, 'rollout_return': 1.6583997726973478, 'evaluation': 0.689570244640492} step=520\n",
      "2023-04-06 18:20.05 [info     ] Model parameters are saved to d3rlpy_logs/SAC_online_20230406182001/model_530.pt\n",
      "2023-04-06 18:20.05 [info     ] SAC_online_20230406182001: epoch=53 step=530 epoch=53 metrics={'time_inference': 0.0006209611892700195, 'time_environment_step': 6.673336029052734e-05, 'time_sample_batch': 0.0001397371292114258, 'time_algorithm_update': 0.004157876968383789, 'temp_loss': 4.646985149383545, 'temp': 0.9237175047397613, 'critic_loss': 2.1111994981765747, 'actor_loss': -3.59583158493042, 'time_step': 0.005021119117736816, 'rollout_return': 1.6672174740011316, 'evaluation': 1.889790931179024} step=530\n",
      "2023-04-06 18:20.05 [info     ] Model parameters are saved to d3rlpy_logs/SAC_online_20230406182001/model_540.pt\n",
      "2023-04-06 18:20.05 [info     ] SAC_online_20230406182001: epoch=54 step=540 epoch=54 metrics={'time_inference': 0.0004828453063964844, 'time_environment_step': 6.477832794189453e-05, 'time_sample_batch': 0.00013854503631591797, 'time_algorithm_update': 0.0042542219161987305, 'temp_loss': 4.63852891921997, 'temp': 0.9210501194000245, 'critic_loss': 2.248055624961853, 'actor_loss': -3.633982443809509, 'time_step': 0.004977083206176758, 'rollout_return': 0.26020719514380286, 'evaluation': 1.5353080588480874} step=540\n",
      "2023-04-06 18:20.05 [info     ] Model parameters are saved to d3rlpy_logs/SAC_online_20230406182001/model_550.pt\n",
      "2023-04-06 18:20.05 [info     ] SAC_online_20230406182001: epoch=55 step=550 epoch=55 metrics={'time_inference': 0.0005699634552001953, 'time_environment_step': 7.543563842773437e-05, 'time_sample_batch': 0.00014803409576416015, 'time_algorithm_update': 0.004655313491821289, 'temp_loss': 4.6266802787780765, 'temp': 0.9183936476707458, 'critic_loss': 2.1906540274620054, 'actor_loss': -3.6611902952194213, 'time_step': 0.0054862737655639645, 'rollout_return': 0.20508159671342063, 'evaluation': 2.3355557261288586} step=550\n",
      "2023-04-06 18:20.05 [info     ] Model parameters are saved to d3rlpy_logs/SAC_online_20230406182001/model_560.pt\n",
      "2023-04-06 18:20.05 [info     ] SAC_online_20230406182001: epoch=56 step=560 epoch=56 metrics={'time_inference': 0.0005532503128051758, 'time_environment_step': 6.983280181884765e-05, 'time_sample_batch': 0.00014290809631347656, 'time_algorithm_update': 0.004309248924255371, 'temp_loss': 4.6111289978027346, 'temp': 0.9157483577728271, 'critic_loss': 2.237266111373901, 'actor_loss': -3.693362236022949, 'time_step': 0.005111575126647949, 'rollout_return': 1.296313543931344, 'evaluation': 2.0759304523066358} step=560\n",
      "2023-04-06 18:20.05 [info     ] Model parameters are saved to d3rlpy_logs/SAC_online_20230406182001/model_570.pt\n",
      "2023-04-06 18:20.05 [info     ] SAC_online_20230406182001: epoch=57 step=570 epoch=57 metrics={'time_inference': 0.0006659269332885742, 'time_environment_step': 0.00010573863983154297, 'time_sample_batch': 0.00017871856689453126, 'time_algorithm_update': 0.006259846687316895, 'temp_loss': 4.59569206237793, 'temp': 0.9131145417690277, 'critic_loss': 2.2134739756584167, 'actor_loss': -3.7337249994277952, 'time_step': 0.007263827323913574, 'rollout_return': -1.072335962276325, 'evaluation': 1.7384304762652192} step=570\n",
      "2023-04-06 18:20.06 [info     ] Model parameters are saved to d3rlpy_logs/SAC_online_20230406182001/model_580.pt\n",
      "2023-04-06 18:20.06 [info     ] SAC_online_20230406182001: epoch=58 step=580 epoch=58 metrics={'time_inference': 0.0007618188858032227, 'time_environment_step': 0.00010302066802978516, 'time_sample_batch': 0.00016717910766601564, 'time_algorithm_update': 0.007243990898132324, 'temp_loss': 4.579749822616577, 'temp': 0.9104923963546753, 'critic_loss': 2.2825841903686523, 'actor_loss': -3.769711804389954, 'time_step': 0.008330249786376953, 'rollout_return': 0.8245874071707646, 'evaluation': 1.6766241107842845} step=580\n",
      "2023-04-06 18:20.06 [info     ] Model parameters are saved to d3rlpy_logs/SAC_online_20230406182001/model_590.pt\n",
      "2023-04-06 18:20.06 [info     ] SAC_online_20230406182001: epoch=59 step=590 epoch=59 metrics={'time_inference': 0.00055694580078125, 'time_environment_step': 7.49826431274414e-05, 'time_sample_batch': 0.00015323162078857423, 'time_algorithm_update': 0.005400180816650391, 'temp_loss': 4.558096981048584, 'temp': 0.907882672548294, 'critic_loss': 2.3756588459014893, 'actor_loss': -3.801008200645447, 'time_step': 0.006223726272583008, 'rollout_return': 2.145338586173175, 'evaluation': 1.6767271847855418} step=590\n",
      "2023-04-06 18:20.06 [info     ] Model parameters are saved to d3rlpy_logs/SAC_online_20230406182001/model_600.pt\n",
      "2023-04-06 18:20.06 [info     ] SAC_online_20230406182001: epoch=60 step=600 epoch=60 metrics={'time_inference': 0.0005587339401245117, 'time_environment_step': 7.960796356201171e-05, 'time_sample_batch': 0.0001693248748779297, 'time_algorithm_update': 0.004978561401367187, 'temp_loss': 4.551166677474976, 'temp': 0.9052864015102386, 'critic_loss': 2.5563392639160156, 'actor_loss': -3.823834276199341, 'time_step': 0.005826234817504883, 'rollout_return': 1.787756869384273, 'evaluation': 1.797950029565048} step=600\n",
      "2023-04-06 18:20.06 [info     ] Model parameters are saved to d3rlpy_logs/SAC_online_20230406182001/model_610.pt\n",
      "2023-04-06 18:20.06 [info     ] SAC_online_20230406182001: epoch=61 step=610 epoch=61 metrics={'time_inference': 0.0005446910858154297, 'time_environment_step': 6.7901611328125e-05, 'time_sample_batch': 0.00014586448669433593, 'time_algorithm_update': 0.00443727970123291, 'temp_loss': 4.5244800567626955, 'temp': 0.9027008175849914, 'critic_loss': 2.4795460224151613, 'actor_loss': -3.8435209512710573, 'time_step': 0.005232024192810059, 'rollout_return': 1.2592933096728298, 'evaluation': 1.9561814461189222} step=610\n",
      "2023-04-06 18:20.06 [info     ] Model parameters are saved to d3rlpy_logs/SAC_online_20230406182001/model_620.pt\n",
      "2023-04-06 18:20.06 [info     ] SAC_online_20230406182001: epoch=62 step=620 epoch=62 metrics={'time_inference': 0.00046091079711914064, 'time_environment_step': 6.825923919677735e-05, 'time_sample_batch': 0.00016655921936035157, 'time_algorithm_update': 0.004424166679382324, 'temp_loss': 4.51254243850708, 'temp': 0.9001297891139984, 'critic_loss': 2.437213492393494, 'actor_loss': -3.8790035486221313, 'time_step': 0.005158329010009765, 'rollout_return': 0.6619604897896558, 'evaluation': 1.6882227572173503} step=620\n",
      "2023-04-06 18:20.06 [info     ] Model parameters are saved to d3rlpy_logs/SAC_online_20230406182001/model_630.pt\n",
      "2023-04-06 18:20.06 [info     ] SAC_online_20230406182001: epoch=63 step=630 epoch=63 metrics={'time_inference': 0.0006370306015014649, 'time_environment_step': 6.883144378662109e-05, 'time_sample_batch': 0.00014548301696777345, 'time_algorithm_update': 0.004404258728027344, 'temp_loss': 4.498879623413086, 'temp': 0.8975698173046112, 'critic_loss': 2.6382442474365235, 'actor_loss': -3.921584939956665, 'time_step': 0.005293536186218262, 'rollout_return': 2.2671058437952003, 'evaluation': 2.500330254483366} step=630\n",
      "2023-04-06 18:20.06 [info     ] Model parameters are saved to d3rlpy_logs/SAC_online_20230406182001/model_640.pt\n",
      "2023-04-06 18:20.06 [info     ] SAC_online_20230406182001: epoch=64 step=640 epoch=64 metrics={'time_inference': 0.0005361318588256836, 'time_environment_step': 6.592273712158203e-05, 'time_sample_batch': 0.0001422405242919922, 'time_algorithm_update': 0.00436403751373291, 'temp_loss': 4.487421703338623, 'temp': 0.8950213670730591, 'critic_loss': 2.6167775869369505, 'actor_loss': -3.954627537727356, 'time_step': 0.005144238471984863, 'rollout_return': 1.4671834768680776, 'evaluation': 1.91732207047511} step=640\n",
      "2023-04-06 18:20.06 [info     ] Model parameters are saved to d3rlpy_logs/SAC_online_20230406182001/model_650.pt\n",
      "2023-04-06 18:20.06 [info     ] SAC_online_20230406182001: epoch=65 step=650 epoch=65 metrics={'time_inference': 0.0005143404006958008, 'time_environment_step': 7.145404815673828e-05, 'time_sample_batch': 0.00015311241149902345, 'time_algorithm_update': 0.005675125122070313, 'temp_loss': 4.472934722900391, 'temp': 0.8924827516078949, 'critic_loss': 2.7601054906845093, 'actor_loss': -3.9869630336761475, 'time_step': 0.0064514875411987305, 'rollout_return': 0.9486010095351046, 'evaluation': 1.9008152888242655} step=650\n",
      "2023-04-06 18:20.06 [info     ] Model parameters are saved to d3rlpy_logs/SAC_online_20230406182001/model_660.pt\n",
      "2023-04-06 18:20.06 [info     ] SAC_online_20230406182001: epoch=66 step=660 epoch=66 metrics={'time_inference': 0.0006237030029296875, 'time_environment_step': 8.37087631225586e-05, 'time_sample_batch': 0.00017974376678466796, 'time_algorithm_update': 0.004660367965698242, 'temp_loss': 4.462247848510742, 'temp': 0.8899536073207855, 'critic_loss': 2.6704859018325804, 'actor_loss': -4.019975185394287, 'time_step': 0.00559382438659668, 'rollout_return': -1.2319923291652348, 'evaluation': 1.7337772033395997} step=660\n",
      "2023-04-06 18:20.07 [info     ] Model parameters are saved to d3rlpy_logs/SAC_online_20230406182001/model_670.pt\n",
      "2023-04-06 18:20.07 [info     ] SAC_online_20230406182001: epoch=67 step=670 epoch=67 metrics={'time_inference': 0.0005337238311767578, 'time_environment_step': 6.496906280517578e-05, 'time_sample_batch': 0.00014061927795410155, 'time_algorithm_update': 0.004278564453125, 'temp_loss': 4.433746099472046, 'temp': 0.8874366283416748, 'critic_loss': 2.8807286262512206, 'actor_loss': -4.050802612304688, 'time_step': 0.005052971839904785, 'rollout_return': 2.1665491446829184, 'evaluation': 1.530806927991917} step=670\n",
      "2023-04-06 18:20.07 [info     ] Model parameters are saved to d3rlpy_logs/SAC_online_20230406182001/model_680.pt\n",
      "2023-04-06 18:20.07 [info     ] SAC_online_20230406182001: epoch=68 step=680 epoch=68 metrics={'time_inference': 0.0006422042846679687, 'time_environment_step': 7.107257843017579e-05, 'time_sample_batch': 0.00014574527740478515, 'time_algorithm_update': 0.004500246047973633, 'temp_loss': 4.431924104690552, 'temp': 0.8849311232566833, 'critic_loss': 2.9729792356491087, 'actor_loss': -4.087765026092529, 'time_step': 0.005396580696105957, 'rollout_return': 1.4209837106268062, 'evaluation': 0.399409304214353} step=680\n",
      "2023-04-06 18:20.07 [info     ] Model parameters are saved to d3rlpy_logs/SAC_online_20230406182001/model_690.pt\n",
      "2023-04-06 18:20.07 [info     ] SAC_online_20230406182001: epoch=69 step=690 epoch=69 metrics={'time_inference': 0.0006116867065429687, 'time_environment_step': 6.422996520996093e-05, 'time_sample_batch': 0.00014145374298095702, 'time_algorithm_update': 0.004235291481018066, 'temp_loss': 4.400505113601684, 'temp': 0.8824378073215484, 'critic_loss': 2.9932352781295775, 'actor_loss': -4.102491092681885, 'time_step': 0.005087447166442871, 'rollout_return': 1.402037322669118, 'evaluation': 1.4795524313607331} step=690\n",
      "2023-04-06 18:20.07 [info     ] Model parameters are saved to d3rlpy_logs/SAC_online_20230406182001/model_700.pt\n",
      "2023-04-06 18:20.07 [info     ] SAC_online_20230406182001: epoch=70 step=700 epoch=70 metrics={'time_inference': 0.0006919622421264649, 'time_environment_step': 6.849765777587891e-05, 'time_sample_batch': 0.00017087459564208985, 'time_algorithm_update': 0.004956960678100586, 'temp_loss': 4.390890741348267, 'temp': 0.8799590110778809, 'critic_loss': 3.065604734420776, 'actor_loss': -4.117398834228515, 'time_step': 0.005926585197448731, 'rollout_return': 1.2308418712564986, 'evaluation': 0.6014346273382616} step=700\n",
      "2023-04-06 18:20.07 [info     ] Model parameters are saved to d3rlpy_logs/SAC_online_20230406182001/model_710.pt\n",
      "2023-04-06 18:20.07 [info     ] SAC_online_20230406182001: epoch=71 step=710 epoch=71 metrics={'time_inference': 0.0005650997161865234, 'time_environment_step': 7.534027099609375e-05, 'time_sample_batch': 0.00014705657958984374, 'time_algorithm_update': 0.004303860664367676, 'temp_loss': 4.380651140213013, 'temp': 0.8774895191192627, 'critic_loss': 3.1704055786132814, 'actor_loss': -4.134059858322144, 'time_step': 0.0051299333572387695, 'rollout_return': 1.7108662123332299, 'evaluation': 0.4428553575436906} step=710\n",
      "2023-04-06 18:20.07 [info     ] Model parameters are saved to d3rlpy_logs/SAC_online_20230406182001/model_720.pt\n",
      "2023-04-06 18:20.07 [info     ] SAC_online_20230406182001: epoch=72 step=720 epoch=72 metrics={'time_inference': 0.0005658864974975586, 'time_environment_step': 6.563663482666016e-05, 'time_sample_batch': 0.00014271736145019532, 'time_algorithm_update': 0.0042977571487426754, 'temp_loss': 4.3566900253295895, 'temp': 0.875029879808426, 'critic_loss': 3.0680922746658323, 'actor_loss': -4.158243036270141, 'time_step': 0.0051082134246826175, 'rollout_return': 1.0888826912910559, 'evaluation': 0.37849414278420823} step=720\n",
      "2023-04-06 18:20.07 [info     ] Model parameters are saved to d3rlpy_logs/SAC_online_20230406182001/model_730.pt\n",
      "2023-04-06 18:20.07 [info     ] SAC_online_20230406182001: epoch=73 step=730 epoch=73 metrics={'time_inference': 0.0005632400512695313, 'time_environment_step': 6.651878356933594e-05, 'time_sample_batch': 0.00014050006866455077, 'time_algorithm_update': 0.004291319847106933, 'temp_loss': 4.367276525497436, 'temp': 0.872581273317337, 'critic_loss': 3.348504137992859, 'actor_loss': -4.207007122039795, 'time_step': 0.005096435546875, 'rollout_return': 1.0816012230966028, 'evaluation': 0.37853871989796234} step=730\n",
      "2023-04-06 18:20.07 [info     ] Model parameters are saved to d3rlpy_logs/SAC_online_20230406182001/model_740.pt\n",
      "2023-04-06 18:20.07 [info     ] SAC_online_20230406182001: epoch=74 step=740 epoch=74 metrics={'time_inference': 0.0005412817001342774, 'time_environment_step': 6.642341613769532e-05, 'time_sample_batch': 0.00014362335205078124, 'time_algorithm_update': 0.004172205924987793, 'temp_loss': 4.349578380584717, 'temp': 0.8701374650001525, 'critic_loss': 3.374620795249939, 'actor_loss': -4.220985364913941, 'time_step': 0.004959249496459961, 'rollout_return': 2.530391481607867, 'evaluation': 0.9518613342142055} step=740\n",
      "2023-04-06 18:20.07 [info     ] Model parameters are saved to d3rlpy_logs/SAC_online_20230406182001/model_750.pt\n",
      "2023-04-06 18:20.07 [info     ] SAC_online_20230406182001: epoch=75 step=750 epoch=75 metrics={'time_inference': 0.0004658222198486328, 'time_environment_step': 9.682178497314454e-05, 'time_sample_batch': 0.00014448165893554688, 'time_algorithm_update': 0.004372811317443848, 'temp_loss': 4.327076053619384, 'temp': 0.867704039812088, 'critic_loss': 3.3889878034591674, 'actor_loss': -4.255441093444825, 'time_step': 0.005115509033203125, 'rollout_return': 2.3595626266390277, 'evaluation': 1.1514302188173875} step=750\n",
      "2023-04-06 18:20.07 [info     ] Model parameters are saved to d3rlpy_logs/SAC_online_20230406182001/model_760.pt\n",
      "2023-04-06 18:20.07 [info     ] SAC_online_20230406182001: epoch=76 step=760 epoch=76 metrics={'time_inference': 0.0005543947219848633, 'time_environment_step': 6.442070007324218e-05, 'time_sample_batch': 0.00013885498046875, 'time_algorithm_update': 0.004144358634948731, 'temp_loss': 4.31719479560852, 'temp': 0.8652825117111206, 'critic_loss': 3.3513625860214233, 'actor_loss': -4.286693382263183, 'time_step': 0.004936766624450683, 'rollout_return': 1.541866897102294, 'evaluation': 1.0154747723508506} step=760\n",
      "2023-04-06 18:20.08 [info     ] Model parameters are saved to d3rlpy_logs/SAC_online_20230406182001/model_770.pt\n",
      "2023-04-06 18:20.08 [info     ] SAC_online_20230406182001: epoch=77 step=770 epoch=77 metrics={'time_inference': 0.0005527734756469727, 'time_environment_step': 6.551742553710938e-05, 'time_sample_batch': 0.00016739368438720704, 'time_algorithm_update': 0.00427403450012207, 'temp_loss': 4.295982694625854, 'temp': 0.86287060379982, 'critic_loss': 3.580167555809021, 'actor_loss': -4.333709287643432, 'time_step': 0.005095529556274414, 'rollout_return': 0.41857936727814915, 'evaluation': 1.1060092379356061} step=770\n",
      "2023-04-06 18:20.08 [info     ] Model parameters are saved to d3rlpy_logs/SAC_online_20230406182001/model_780.pt\n",
      "2023-04-06 18:20.08 [info     ] SAC_online_20230406182001: epoch=78 step=780 epoch=78 metrics={'time_inference': 0.0005934953689575196, 'time_environment_step': 6.906986236572265e-05, 'time_sample_batch': 0.0001442432403564453, 'time_algorithm_update': 0.004281449317932129, 'temp_loss': 4.271705102920532, 'temp': 0.8604718625545502, 'critic_loss': 3.5614713430404663, 'actor_loss': -4.367782211303711, 'time_step': 0.005124044418334961, 'rollout_return': 0.3980801104952101, 'evaluation': 0.293531458900277} step=780\n",
      "2023-04-06 18:20.08 [info     ] Model parameters are saved to d3rlpy_logs/SAC_online_20230406182001/model_790.pt\n",
      "2023-04-06 18:20.08 [info     ] SAC_online_20230406182001: epoch=79 step=790 epoch=79 metrics={'time_inference': 0.0005401611328125, 'time_environment_step': 6.680488586425781e-05, 'time_sample_batch': 0.0001421213150024414, 'time_algorithm_update': 0.004363536834716797, 'temp_loss': 4.269261741638184, 'temp': 0.8580870628356934, 'critic_loss': 3.6218807697296143, 'actor_loss': -4.3828897953033445, 'time_step': 0.005147552490234375, 'rollout_return': 1.52193809157189, 'evaluation': 0.038999327506075245} step=790\n",
      "2023-04-06 18:20.08 [info     ] Model parameters are saved to d3rlpy_logs/SAC_online_20230406182001/model_800.pt\n",
      "2023-04-06 18:20.08 [info     ] SAC_online_20230406182001: epoch=80 step=800 epoch=80 metrics={'time_inference': 0.000613713264465332, 'time_environment_step': 7.801055908203125e-05, 'time_sample_batch': 0.00014622211456298827, 'time_algorithm_update': 0.004359221458435059, 'temp_loss': 4.260571718215942, 'temp': 0.8557088851928711, 'critic_loss': 3.6840508460998533, 'actor_loss': -4.408171606063843, 'time_step': 0.005235481262207031, 'rollout_return': -0.21361626158779307, 'evaluation': -0.20499814648812595} step=800\n",
      "2023-04-06 18:20.08 [info     ] Model parameters are saved to d3rlpy_logs/SAC_online_20230406182001/model_810.pt\n",
      "2023-04-06 18:20.08 [info     ] SAC_online_20230406182001: epoch=81 step=810 epoch=81 metrics={'time_inference': 0.0005347728729248047, 'time_environment_step': 6.833076477050782e-05, 'time_sample_batch': 0.0001667499542236328, 'time_algorithm_update': 0.0042599916458129885, 'temp_loss': 4.240850734710693, 'temp': 0.8533400058746338, 'critic_loss': 3.7143011808395388, 'actor_loss': -4.422738409042358, 'time_step': 0.005071330070495606, 'rollout_return': 1.4904350997445432, 'evaluation': 0.47159706537682283} step=810\n",
      "2023-04-06 18:20.08 [info     ] Model parameters are saved to d3rlpy_logs/SAC_online_20230406182001/model_820.pt\n",
      "2023-04-06 18:20.08 [info     ] SAC_online_20230406182001: epoch=82 step=820 epoch=82 metrics={'time_inference': 0.0005901098251342773, 'time_environment_step': 8.389949798583984e-05, 'time_sample_batch': 0.0001572132110595703, 'time_algorithm_update': 0.004364633560180664, 'temp_loss': 4.230789995193481, 'temp': 0.850981491804123, 'critic_loss': 4.06015989780426, 'actor_loss': -4.475538730621338, 'time_step': 0.005234622955322265, 'rollout_return': -1.0928332092411202, 'evaluation': -0.04554875431928599} step=820\n",
      "2023-04-06 18:20.08 [info     ] Model parameters are saved to d3rlpy_logs/SAC_online_20230406182001/model_830.pt\n",
      "2023-04-06 18:20.08 [info     ] SAC_online_20230406182001: epoch=83 step=830 epoch=83 metrics={'time_inference': 0.0005609512329101563, 'time_environment_step': 6.88791275024414e-05, 'time_sample_batch': 0.0001442432403564453, 'time_algorithm_update': 0.004271364212036133, 'temp_loss': 4.21342453956604, 'temp': 0.8486321210861206, 'critic_loss': 4.039541482925415, 'actor_loss': -4.474710941314697, 'time_step': 0.005084681510925293, 'rollout_return': 1.5995237239427436, 'evaluation': -0.042774504979163} step=830\n",
      "2023-04-06 18:20.08 [info     ] Model parameters are saved to d3rlpy_logs/SAC_online_20230406182001/model_840.pt\n",
      "2023-04-06 18:20.08 [info     ] SAC_online_20230406182001: epoch=84 step=840 epoch=84 metrics={'time_inference': 0.0004883527755737305, 'time_environment_step': 6.363391876220703e-05, 'time_sample_batch': 0.00015122890472412108, 'time_algorithm_update': 0.004378318786621094, 'temp_loss': 4.186602258682251, 'temp': 0.846293717622757, 'critic_loss': 4.023070740699768, 'actor_loss': -4.489910221099853, 'time_step': 0.005118012428283691, 'rollout_return': 4.1149413610236785, 'evaluation': 0.026761986449853576} step=840\n",
      "2023-04-06 18:20.08 [info     ] Model parameters are saved to d3rlpy_logs/SAC_online_20230406182001/model_850.pt\n",
      "2023-04-06 18:20.08 [info     ] SAC_online_20230406182001: epoch=85 step=850 epoch=85 metrics={'time_inference': 0.0006170272827148438, 'time_environment_step': 0.00010042190551757812, 'time_sample_batch': 0.00018498897552490234, 'time_algorithm_update': 0.007464551925659179, 'temp_loss': 4.19315128326416, 'temp': 0.8439674437046051, 'critic_loss': 3.9290631771087647, 'actor_loss': -4.528611660003662, 'time_step': 0.00841848850250244, 'rollout_return': 0.8702684660870017, 'evaluation': 0.13238928322226787} step=850\n",
      "2023-04-06 18:20.08 [info     ] Model parameters are saved to d3rlpy_logs/SAC_online_20230406182001/model_860.pt\n",
      "2023-04-06 18:20.08 [info     ] SAC_online_20230406182001: epoch=86 step=860 epoch=86 metrics={'time_inference': 0.0006250143051147461, 'time_environment_step': 9.379386901855468e-05, 'time_sample_batch': 0.00017125606536865233, 'time_algorithm_update': 0.004924392700195313, 'temp_loss': 4.160257244110108, 'temp': 0.8416495442390441, 'critic_loss': 4.103943681716919, 'actor_loss': -4.571043968200684, 'time_step': 0.005856227874755859, 'rollout_return': 1.8117250706012804, 'evaluation': 0.31023802906077097} step=860\n",
      "2023-04-06 18:20.09 [info     ] Model parameters are saved to d3rlpy_logs/SAC_online_20230406182001/model_870.pt\n",
      "2023-04-06 18:20.09 [info     ] SAC_online_20230406182001: epoch=87 step=870 epoch=87 metrics={'time_inference': 0.000608515739440918, 'time_environment_step': 6.527900695800782e-05, 'time_sample_batch': 0.00015087127685546874, 'time_algorithm_update': 0.0045061826705932615, 'temp_loss': 4.166102504730224, 'temp': 0.8393426895141601, 'critic_loss': 4.142983412742614, 'actor_loss': -4.618613243103027, 'time_step': 0.005367708206176758, 'rollout_return': 2.4141017790852133, 'evaluation': 0.20950770394093876} step=870\n",
      "2023-04-06 18:20.09 [info     ] Model parameters are saved to d3rlpy_logs/SAC_online_20230406182001/model_880.pt\n",
      "2023-04-06 18:20.09 [info     ] SAC_online_20230406182001: epoch=88 step=880 epoch=88 metrics={'time_inference': 0.00040884017944335936, 'time_environment_step': 6.31570816040039e-05, 'time_sample_batch': 0.00014183521270751953, 'time_algorithm_update': 0.004288697242736816, 'temp_loss': 4.125297594070434, 'temp': 0.8370447754859924, 'critic_loss': 4.297847652435303, 'actor_loss': -4.647761344909668, 'time_step': 0.0049371480941772464, 'rollout_return': 2.0180207882543737, 'evaluation': 0.037277800017988624} step=880\n",
      "2023-04-06 18:20.09 [info     ] Model parameters are saved to d3rlpy_logs/SAC_online_20230406182001/model_890.pt\n",
      "2023-04-06 18:20.09 [info     ] SAC_online_20230406182001: epoch=89 step=890 epoch=89 metrics={'time_inference': 0.0005722999572753906, 'time_environment_step': 7.393360137939454e-05, 'time_sample_batch': 0.00015482902526855468, 'time_algorithm_update': 0.004376792907714843, 'temp_loss': 4.1300877094268795, 'temp': 0.8347606360912323, 'critic_loss': 4.4277760028839115, 'actor_loss': -4.650735330581665, 'time_step': 0.005216002464294434, 'rollout_return': 0.9922839568639833, 'evaluation': 0.12793717434455565} step=890\n",
      "2023-04-06 18:20.09 [info     ] Model parameters are saved to d3rlpy_logs/SAC_online_20230406182001/model_900.pt\n",
      "2023-04-06 18:20.09 [info     ] SAC_online_20230406182001: epoch=90 step=900 epoch=90 metrics={'time_inference': 0.0005223274230957032, 'time_environment_step': 6.663799285888672e-05, 'time_sample_batch': 0.00014581680297851563, 'time_algorithm_update': 0.004218506813049317, 'temp_loss': 4.124205112457275, 'temp': 0.8324805438518524, 'critic_loss': 4.46503381729126, 'actor_loss': -4.662340211868286, 'time_step': 0.004988551139831543, 'rollout_return': 3.189899342439208, 'evaluation': 0.03946975392543865} step=900\n",
      "2023-04-06 18:20.09 [info     ] Model parameters are saved to d3rlpy_logs/SAC_online_20230406182001/model_910.pt\n",
      "2023-04-06 18:20.09 [info     ] SAC_online_20230406182001: epoch=91 step=910 epoch=91 metrics={'time_inference': 0.000525975227355957, 'time_environment_step': 6.747245788574219e-05, 'time_sample_batch': 0.00014259815216064454, 'time_algorithm_update': 0.004316163063049316, 'temp_loss': 4.107840871810913, 'temp': 0.8302071928977967, 'critic_loss': 4.697184753417969, 'actor_loss': -4.671831560134888, 'time_step': 0.005087852478027344, 'rollout_return': 2.977842891283123, 'evaluation': 0.6788342139643397} step=910\n",
      "2023-04-06 18:20.09 [info     ] Model parameters are saved to d3rlpy_logs/SAC_online_20230406182001/model_920.pt\n",
      "2023-04-06 18:20.09 [info     ] SAC_online_20230406182001: epoch=92 step=920 epoch=92 metrics={'time_inference': 0.0006194829940795899, 'time_environment_step': 8.459091186523438e-05, 'time_sample_batch': 0.00014989376068115235, 'time_algorithm_update': 0.004471492767333984, 'temp_loss': 4.081626558303833, 'temp': 0.8279449999332428, 'critic_loss': 4.728980588912964, 'actor_loss': -4.69395170211792, 'time_step': 0.005365538597106934, 'rollout_return': 1.5282085770750091, 'evaluation': 0.2264939066968516} step=920\n",
      "2023-04-06 18:20.09 [info     ] Model parameters are saved to d3rlpy_logs/SAC_online_20230406182001/model_930.pt\n",
      "2023-04-06 18:20.09 [info     ] SAC_online_20230406182001: epoch=93 step=930 epoch=93 metrics={'time_inference': 0.0006095647811889648, 'time_environment_step': 6.756782531738281e-05, 'time_sample_batch': 0.000145721435546875, 'time_algorithm_update': 0.0042138338088989254, 'temp_loss': 4.076736497879028, 'temp': 0.8256955325603486, 'critic_loss': 4.58660774230957, 'actor_loss': -4.727090072631836, 'time_step': 0.005073094367980957, 'rollout_return': 1.1255704034041312, 'evaluation': 0.9351855543654082} step=930\n",
      "2023-04-06 18:20.09 [info     ] Model parameters are saved to d3rlpy_logs/SAC_online_20230406182001/model_940.pt\n",
      "2023-04-06 18:20.09 [info     ] SAC_online_20230406182001: epoch=94 step=940 epoch=94 metrics={'time_inference': 0.0005827903747558594, 'time_environment_step': 6.518363952636718e-05, 'time_sample_batch': 0.0001447916030883789, 'time_algorithm_update': 0.004192948341369629, 'temp_loss': 4.078859186172485, 'temp': 0.8234520137310029, 'critic_loss': 4.667527961730957, 'actor_loss': -4.799335765838623, 'time_step': 0.005021381378173828, 'rollout_return': 2.7244189507487784, 'evaluation': 0.9367946068975164} step=940\n",
      "2023-04-06 18:20.09 [info     ] Model parameters are saved to d3rlpy_logs/SAC_online_20230406182001/model_950.pt\n",
      "2023-04-06 18:20.09 [info     ] SAC_online_20230406182001: epoch=95 step=950 epoch=95 metrics={'time_inference': 0.0005967378616333008, 'time_environment_step': 6.589889526367187e-05, 'time_sample_batch': 0.00014638900756835938, 'time_algorithm_update': 0.004243326187133789, 'temp_loss': 4.061313915252685, 'temp': 0.8212131023406982, 'critic_loss': 5.000729608535766, 'actor_loss': -4.833625602722168, 'time_step': 0.005089569091796875, 'rollout_return': 2.1724502203450804, 'evaluation': 1.3744418148786877} step=950\n",
      "2023-04-06 18:20.09 [info     ] Model parameters are saved to d3rlpy_logs/SAC_online_20230406182001/model_960.pt\n",
      "2023-04-06 18:20.09 [info     ] SAC_online_20230406182001: epoch=96 step=960 epoch=96 metrics={'time_inference': 0.000567626953125, 'time_environment_step': 8.118152618408203e-05, 'time_sample_batch': 0.00015869140625, 'time_algorithm_update': 0.004237675666809082, 'temp_loss': 4.042288160324096, 'temp': 0.8189843595027924, 'critic_loss': 4.980292463302613, 'actor_loss': -4.82297191619873, 'time_step': 0.005089020729064942, 'rollout_return': 2.4718626991917234, 'evaluation': 1.3277990143946168} step=960\n",
      "2023-04-06 18:20.10 [info     ] Model parameters are saved to d3rlpy_logs/SAC_online_20230406182001/model_970.pt\n",
      "2023-04-06 18:20.10 [info     ] SAC_online_20230406182001: epoch=97 step=970 epoch=97 metrics={'time_inference': 0.0005923032760620118, 'time_environment_step': 6.53982162475586e-05, 'time_sample_batch': 0.0001464366912841797, 'time_algorithm_update': 0.0042956829071044925, 'temp_loss': 4.030653572082519, 'temp': 0.8167659938335419, 'critic_loss': 5.035109996795654, 'actor_loss': -4.825954866409302, 'time_step': 0.005135035514831543, 'rollout_return': 2.0707294005720356, 'evaluation': 1.6947064612093161} step=970\n",
      "2023-04-06 18:20.10 [info     ] Model parameters are saved to d3rlpy_logs/SAC_online_20230406182001/model_980.pt\n",
      "2023-04-06 18:20.10 [info     ] SAC_online_20230406182001: epoch=98 step=980 epoch=98 metrics={'time_inference': 0.0005403995513916015, 'time_environment_step': 6.721019744873046e-05, 'time_sample_batch': 0.00014925003051757812, 'time_algorithm_update': 0.004411244392395019, 'temp_loss': 4.017433619499206, 'temp': 0.8145571410655975, 'critic_loss': 5.077200222015381, 'actor_loss': -4.859185218811035, 'time_step': 0.005203771591186524, 'rollout_return': 1.2610412904653625, 'evaluation': 1.7736832357138783} step=980\n",
      "2023-04-06 18:20.10 [info     ] Model parameters are saved to d3rlpy_logs/SAC_online_20230406182001/model_990.pt\n",
      "2023-04-06 18:20.10 [info     ] SAC_online_20230406182001: epoch=99 step=990 epoch=99 metrics={'time_inference': 0.0005056381225585938, 'time_environment_step': 6.337165832519532e-05, 'time_sample_batch': 0.0001439332962036133, 'time_algorithm_update': 0.0042817115783691405, 'temp_loss': 4.020993161201477, 'temp': 0.8123544752597809, 'critic_loss': 5.317412853240967, 'actor_loss': -4.877853298187256, 'time_step': 0.005029034614562988, 'rollout_return': 2.5574713695603637, 'evaluation': 2.5579153529561185} step=990\n",
      "2023-04-06 18:20.10 [info     ] Model parameters are saved to d3rlpy_logs/SAC_online_20230406182001/model_1000.pt\n",
      "2023-04-06 18:20.10 [info     ] SAC_online_20230406182001: epoch=100 step=1000 epoch=100 metrics={'time_inference': 0.0005503416061401368, 'time_environment_step': 7.786750793457032e-05, 'time_sample_batch': 0.00017824172973632813, 'time_algorithm_update': 0.004373526573181153, 'temp_loss': 3.986561822891235, 'temp': 0.8101592659950256, 'critic_loss': 5.446241855621338, 'actor_loss': -4.885732984542846, 'time_step': 0.00523080825805664, 'rollout_return': -0.33903958897989267, 'evaluation': 2.320443957390238} step=1000\n",
      "2023-04-06 18:20.10 [warning  ] Parameters will be reinitialized.\n"
     ]
    }
   ],
   "source": [
    "# start training\n",
    "# skip if there is a pre-trained model\n",
    "sac.fit_online(\n",
    "    env_,\n",
    "    buffer,\n",
    "    eval_env=env_,\n",
    "    n_steps=1000,\n",
    "    n_steps_per_epoch=10,\n",
    "    update_start_step=10,\n",
    "    # n_steps=100000,\n",
    "    # n_steps_per_epoch=1000,\n",
    "    # update_start_step=1000,\n",
    ")\n",
    "# save model\n",
    "sac.save_model(\"d3rlpy_logs/sac.pt\")\n",
    "# reload model\n",
    "sac.build_with_env(env_)\n",
    "sac.load_model(\"d3rlpy_logs/sac.pt\")"
   ]
  },
  {
   "cell_type": "code",
   "execution_count": 7,
   "metadata": {},
   "outputs": [],
   "source": [
    "from d3rlpy.dataset import MDPDataset\n",
    "from d3rlpy.algos import CQL"
   ]
  },
  {
   "cell_type": "code",
   "execution_count": 8,
   "metadata": {},
   "outputs": [],
   "source": [
    "# import ope modules from OFRL\n",
    "from ofrl.ope import CreateOPEInput\n",
    "from ofrl.ope import OffPolicyEvaluation as OPE\n",
    "# basic estimators\n",
    "from ofrl.ope import ContinuousDirectMethod as DM\n",
    "from ofrl.ope import ContinuousTrajectoryWiseImportanceSampling as TIS\n",
    "from ofrl.ope import ContinuousPerDecisionImportanceSampling as PDIS\n",
    "from ofrl.ope import ContinuousDoublyRobust as DR\n",
    "# self normalized estimators\n",
    "from ofrl.ope import ContinuousSelfNormalizedTrajectoryWiseImportanceSampling as SNTIS\n",
    "from ofrl.ope import ContinuousSelfNormalizedPerDecisionImportanceSampling as SNPDIS\n",
    "from ofrl.ope import ContinuousSelfNormalizedDoublyRobust as SNDR\n",
    "# marginal estimators\n",
    "from ofrl.ope import ContinuousStateActionMarginalImportanceSampling as SAMIS\n",
    "from ofrl.ope import ContinuousStateActionMarginalDoublyRobust as SAMDR\n",
    "from ofrl.ope import ContinuousStateMarginalImportanceSampling as SMIS\n",
    "from ofrl.ope import ContinuousStateMarginalDoublyRobust as SMDR\n",
    "from ofrl.ope import ContinuousStateActionMarginalSelfNormalizedImportanceSampling as SAMSNIS\n",
    "from ofrl.ope import ContinuousStateActionMarginalSelfNormalizedDoublyRobust as SAMSNDR\n",
    "from ofrl.ope import ContinuousStateMarginalSelfNormalizedImportanceSampling as SMSNIS\n",
    "from ofrl.ope import ContinuousStateMarginalSelfNormalizedDoublyRobust as SMSNDR\n",
    "# double reinforcement learning estimators\n",
    "from ofrl.ope import ContinuousDoubleReinforcementLearning as DRL"
   ]
  },
  {
   "cell_type": "code",
   "execution_count": 9,
   "metadata": {},
   "outputs": [],
   "source": [
    "basic_estimators = [DM(), TIS(), PDIS(), DR(), SNTIS(), SNPDIS(), SNDR()]\n",
    "state_marginal_estimators = [SMIS(), SMDR(), SMSNIS(), SMSNDR()]\n",
    "state_action_marginal_estimators = [SAMIS(), SAMDR(), SAMSNIS(), SAMSNDR()]\n",
    "drl_estimators = [DRL()]\n",
    "all_estimators = basic_estimators + state_marginal_estimators + state_action_marginal_estimators + drl_estimators\n",
    "\n",
    "basic_estimators_name = [\"dm\", \"tis\", \"pdis\", \"dr\", \"sntis\", \"snpdis\", \"sndr\"]\n",
    "state_marginal_estimators_name = [\"sm_is\", \"sm_dr\", \"sm_snis\", \"sm_sndr\"]\n",
    "state_action_marginal_estimators_name = [\"sam_is\", \"sam_dr\", \"sam_snis\", \"sam_sndr\"]\n",
    "drl_estimators_name = [\"drl\"]"
   ]
  },
  {
   "cell_type": "code",
   "execution_count": 10,
   "metadata": {},
   "outputs": [],
   "source": [
    "# n_trajectories_list = [100, 200, 400]\n",
    "n_trajectories_list = [100, 200, 400, 800, 1600]\n",
    "# n_trajectories_list = [100, 200, 400, 800, 1600, 3200, 6400, 12800, 25600, 51200]\n",
    "# random_state_list = [10, 20, 30]\n",
    "# random_state_list = [100, 200, 300]\n",
    "random_state_list = [10, 20, 30, 40, 50, 60, 70, 80]\n",
    "bias_df_list = []\n",
    "variance_df_list = []\n",
    "mse_df_list = []\n",
    "\n",
    "bias_result_df = DataFrame()\n",
    "variance_result_df = DataFrame()\n",
    "mse_result_df = DataFrame()"
   ]
  },
  {
   "cell_type": "code",
   "execution_count": null,
   "metadata": {},
   "outputs": [],
   "source": []
  },
  {
   "cell_type": "code",
   "execution_count": 11,
   "metadata": {},
   "outputs": [
    {
     "data": {
      "application/vnd.jupyter.widget-view+json": {
       "model_id": "48bd00a047a646b3ae36c295c5d29b7c",
       "version_major": 2,
       "version_minor": 0
      },
      "text/plain": [
       "[obtain_trajectories]:   0%|          | 0/100 [00:00<?, ?it/s]"
      ]
     },
     "metadata": {},
     "output_type": "display_data"
    },
    {
     "data": {
      "application/vnd.jupyter.widget-view+json": {
       "model_id": "53735507399f45538b21b18d4a93db5a",
       "version_major": 2,
       "version_minor": 0
      },
      "text/plain": [
       "[obtain_trajectories]:   0%|          | 0/100 [00:00<?, ?it/s]"
      ]
     },
     "metadata": {},
     "output_type": "display_data"
    },
    {
     "name": "stdout",
     "output_type": "stream",
     "text": [
      "2023-04-06 18:20.12 [debug    ] RandomIterator is selected.\n",
      "2023-04-06 18:20.12 [info     ] Directory is created at d3rlpy_logs/CQL_20230406182012\n",
      "2023-04-06 18:20.12 [debug    ] Fitting action scaler...       action_scaler=min_max\n",
      "2023-04-06 18:20.12 [debug    ] Building models...\n",
      "2023-04-06 18:20.12 [debug    ] Models have been built.\n",
      "2023-04-06 18:20.12 [info     ] Parameters are saved to d3rlpy_logs/CQL_20230406182012/params.json params={'action_scaler': {'type': 'min_max', 'params': {'minimum': array([-1., -1., -1.]), 'maximum': array([1., 1., 1.])}}, 'actor_encoder_factory': {'type': 'vector', 'params': {'hidden_units': [30, 30], 'activation': 'relu', 'use_batch_norm': False, 'dropout_rate': None, 'use_dense': False}}, 'actor_learning_rate': 0.0001, 'actor_optim_factory': {'optim_cls': 'Adam', 'betas': (0.9, 0.999), 'eps': 1e-08, 'weight_decay': 0, 'amsgrad': False}, 'alpha_learning_rate': 0.0001, 'alpha_optim_factory': {'optim_cls': 'Adam', 'betas': (0.9, 0.999), 'eps': 1e-08, 'weight_decay': 0, 'amsgrad': False}, 'alpha_threshold': 10.0, 'batch_size': 256, 'conservative_weight': 5.0, 'critic_encoder_factory': {'type': 'vector', 'params': {'hidden_units': [30, 30], 'activation': 'relu', 'use_batch_norm': False, 'dropout_rate': None, 'use_dense': False}}, 'critic_learning_rate': 0.0003, 'critic_optim_factory': {'optim_cls': 'Adam', 'betas': (0.9, 0.999), 'eps': 1e-08, 'weight_decay': 0, 'amsgrad': False}, 'gamma': 0.99, 'generated_maxlen': 100000, 'initial_alpha': 1.0, 'initial_temperature': 1.0, 'n_action_samples': 10, 'n_critics': 2, 'n_frames': 1, 'n_steps': 1, 'q_func_factory': {'type': 'mean', 'params': {'share_encoder': False}}, 'real_ratio': 1.0, 'reward_scaler': None, 'scaler': None, 'soft_q_backup': False, 'tau': 0.005, 'temp_learning_rate': 0.0001, 'temp_optim_factory': {'optim_cls': 'Adam', 'betas': (0.9, 0.999), 'eps': 1e-08, 'weight_decay': 0, 'amsgrad': False}, 'use_gpu': None, 'algorithm': 'CQL', 'observation_shape': (5,), 'action_size': 3}\n"
     ]
    },
    {
     "data": {
      "application/vnd.jupyter.widget-view+json": {
       "model_id": "9d3d651fc7c64ef4b69e909627033aa5",
       "version_major": 2,
       "version_minor": 0
      },
      "text/plain": [
       "Epoch 1/1:   0%|          | 0/10000 [00:00<?, ?it/s]"
      ]
     },
     "metadata": {},
     "output_type": "display_data"
    },
    {
     "name": "stdout",
     "output_type": "stream",
     "text": [
      "2023-04-06 18:24.19 [info     ] CQL_20230406182012: epoch=1 step=10000 epoch=1 metrics={'time_sample_batch': 0.000735153341293335, 'time_algorithm_update': 0.023200866007804872, 'temp_loss': 3.1431219802498815, 'temp': 0.6512972068309784, 'alpha_loss': -27.89141183280945, 'alpha': 1.784179685819149, 'critic_loss': 28.75550586090088, 'actor_loss': -1.9954197273971979, 'time_step': 0.024441756868362426} step=10000\n",
      "2023-04-06 18:24.19 [info     ] Model parameters are saved to d3rlpy_logs/CQL_20230406182012/model_10000.pt\n"
     ]
    },
    {
     "data": {
      "application/vnd.jupyter.widget-view+json": {
       "model_id": "928992cb228b41e8b1dc96c56a9a737c",
       "version_major": 2,
       "version_minor": 0
      },
      "text/plain": [
       "[fit FQE model]:   0%|          | 0/2 [00:00<?, ?it/s]"
      ]
     },
     "metadata": {},
     "output_type": "display_data"
    },
    {
     "name": "stdout",
     "output_type": "stream",
     "text": [
      "2023-04-06 18:24.19 [debug    ] RoundIterator is selected.\n",
      "2023-04-06 18:24.19 [info     ] Directory is created at d3rlpy_logs/FQE_20230406182419\n",
      "2023-04-06 18:24.19 [debug    ] Fitting scaler...              scaler=min_max\n",
      "2023-04-06 18:24.19 [debug    ] Fitting action scaler...       action_scaler=min_max\n",
      "2023-04-06 18:24.19 [debug    ] Building models...\n",
      "2023-04-06 18:24.19 [debug    ] Models have been built.\n",
      "2023-04-06 18:24.19 [info     ] Parameters are saved to d3rlpy_logs/FQE_20230406182419/params.json params={'action_scaler': {'type': 'min_max', 'params': {'minimum': array([-1., -1., -1.]), 'maximum': array([1., 1., 1.])}}, 'batch_size': 100, 'encoder_factory': {'type': 'vector', 'params': {'hidden_units': [30, 30], 'activation': 'relu', 'use_batch_norm': False, 'dropout_rate': None, 'use_dense': False}}, 'gamma': 0.95, 'generated_maxlen': 100000, 'learning_rate': 0.0001, 'n_critics': 1, 'n_frames': 1, 'n_steps': 1, 'optim_factory': {'optim_cls': 'Adam', 'betas': (0.9, 0.999), 'eps': 1e-08, 'weight_decay': 0, 'amsgrad': False}, 'q_func_factory': {'type': 'mean', 'params': {'share_encoder': False}}, 'real_ratio': 1.0, 'reward_scaler': None, 'scaler': {'type': 'min_max', 'params': {'maximum': array([0.94550967, 0.93390349, 0.98852335, 0.96133844, 0.96344787]), 'minimum': array([-0.8784811 , -0.88483534, -0.9929447 , -0.9542581 , -0.98343474])}}, 'target_update_interval': 100, 'use_gpu': None, 'algorithm': 'FQE', 'observation_shape': (5,), 'action_size': 3}\n"
     ]
    },
    {
     "data": {
      "application/vnd.jupyter.widget-view+json": {
       "model_id": "36eebe723a004aeea4eb9af55f683b67",
       "version_major": 2,
       "version_minor": 0
      },
      "text/plain": [
       "Epoch 1/1:   0%|          | 0/10 [00:00<?, ?it/s]"
      ]
     },
     "metadata": {},
     "output_type": "display_data"
    },
    {
     "name": "stdout",
     "output_type": "stream",
     "text": [
      "2023-04-06 18:24.19 [info     ] FQE_20230406182419: epoch=1 step=10 epoch=1 metrics={'time_sample_batch': 0.00015101432800292968, 'time_algorithm_update': 0.002265644073486328, 'loss': 0.11804847419261932, 'time_step': 0.002472209930419922} step=10\n",
      "2023-04-06 18:24.19 [info     ] Model parameters are saved to d3rlpy_logs/FQE_20230406182419/model_10.pt\n",
      "2023-04-06 18:24.19 [debug    ] RoundIterator is selected.\n",
      "2023-04-06 18:24.20 [info     ] Directory is created at d3rlpy_logs/FQE_20230406182420\n",
      "2023-04-06 18:24.20 [debug    ] Fitting scaler...              scaler=min_max\n",
      "2023-04-06 18:24.20 [debug    ] Fitting action scaler...       action_scaler=min_max\n",
      "2023-04-06 18:24.20 [debug    ] Building models...\n",
      "2023-04-06 18:24.20 [debug    ] Models have been built.\n",
      "2023-04-06 18:24.20 [info     ] Parameters are saved to d3rlpy_logs/FQE_20230406182420/params.json params={'action_scaler': {'type': 'min_max', 'params': {'minimum': array([-1., -1., -1.]), 'maximum': array([1., 1., 1.])}}, 'batch_size': 100, 'encoder_factory': {'type': 'vector', 'params': {'hidden_units': [30, 30], 'activation': 'relu', 'use_batch_norm': False, 'dropout_rate': None, 'use_dense': False}}, 'gamma': 0.95, 'generated_maxlen': 100000, 'learning_rate': 0.0001, 'n_critics': 1, 'n_frames': 1, 'n_steps': 1, 'optim_factory': {'optim_cls': 'Adam', 'betas': (0.9, 0.999), 'eps': 1e-08, 'weight_decay': 0, 'amsgrad': False}, 'q_func_factory': {'type': 'mean', 'params': {'share_encoder': False}}, 'real_ratio': 1.0, 'reward_scaler': None, 'scaler': {'type': 'min_max', 'params': {'maximum': array([0.94550967, 0.93390349, 0.98852335, 0.96133844, 0.96344787]), 'minimum': array([-0.8784811 , -0.88483534, -0.9929447 , -0.9542581 , -0.98343474])}}, 'target_update_interval': 100, 'use_gpu': None, 'algorithm': 'FQE', 'observation_shape': (5,), 'action_size': 3}\n"
     ]
    },
    {
     "data": {
      "application/vnd.jupyter.widget-view+json": {
       "model_id": "6ba4476db0f64066b40b230fecd808a4",
       "version_major": 2,
       "version_minor": 0
      },
      "text/plain": [
       "Epoch 1/1:   0%|          | 0/10 [00:00<?, ?it/s]"
      ]
     },
     "metadata": {},
     "output_type": "display_data"
    },
    {
     "name": "stdout",
     "output_type": "stream",
     "text": [
      "2023-04-06 18:24.20 [info     ] FQE_20230406182420: epoch=1 step=10 epoch=1 metrics={'time_sample_batch': 0.00012519359588623047, 'time_algorithm_update': 0.004189586639404297, 'loss': 0.11507674604654312, 'time_step': 0.004418420791625977} step=10\n",
      "2023-04-06 18:24.20 [info     ] Model parameters are saved to d3rlpy_logs/FQE_20230406182420/model_10.pt\n"
     ]
    },
    {
     "data": {
      "application/vnd.jupyter.widget-view+json": {
       "model_id": "34a4e9b3fca44ecdaa4e41ce643352e4",
       "version_major": 2,
       "version_minor": 0
      },
      "text/plain": [
       "[fit MWL model]:   0%|          | 0/2 [00:00<?, ?it/s]"
      ]
     },
     "metadata": {},
     "output_type": "display_data"
    },
    {
     "data": {
      "application/vnd.jupyter.widget-view+json": {
       "model_id": "7e738329e18a412db088492ffe72b002",
       "version_major": 2,
       "version_minor": 0
      },
      "text/plain": [
       "[fitting_weight_function]:   0%|          | 0/100 [00:00<?, ?it/s]"
      ]
     },
     "metadata": {},
     "output_type": "display_data"
    },
    {
     "name": "stderr",
     "output_type": "stream",
     "text": [
      "/Users/ren/dev/ofrl/tutorial/../ofrl/ope/weight_value_learning/minimax_weight_learning_continuous.py:191: UserWarning: The use of `x.T` on tensors of dimension other than 2 to reverse their shape is deprecated and it will throw an error in a future release. Consider `x.mT` to transpose batches of matrices or `x.permute(*torch.arange(x.ndim - 1, -1, -1))` to reverse the dimensions of a tensor. (Triggered internally at /Users/runner/work/pytorch/pytorch/pytorch/aten/src/ATen/native/TensorShape.cpp:3281.)\n",
      "  return self.gamma * (1 - self.gamma) * (base_term @ base_term.T).mean()\n"
     ]
    },
    {
     "data": {
      "application/vnd.jupyter.widget-view+json": {
       "model_id": "4c78cfb216754f93a53a6f6bd2adc8d9",
       "version_major": 2,
       "version_minor": 0
      },
      "text/plain": [
       "[fitting_weight_function]:   0%|          | 0/100 [00:00<?, ?it/s]"
      ]
     },
     "metadata": {},
     "output_type": "display_data"
    },
    {
     "data": {
      "application/vnd.jupyter.widget-view+json": {
       "model_id": "89008268f6be4b2a91b7a45d8631040e",
       "version_major": 2,
       "version_minor": 0
      },
      "text/plain": [
       "[fitting_weight_function]:   0%|          | 0/100 [00:00<?, ?it/s]"
      ]
     },
     "metadata": {},
     "output_type": "display_data"
    },
    {
     "data": {
      "application/vnd.jupyter.widget-view+json": {
       "model_id": "499e8b27e8f64390b26b1fedb74cf971",
       "version_major": 2,
       "version_minor": 0
      },
      "text/plain": [
       "[fitting_weight_function]:   0%|          | 0/100 [00:00<?, ?it/s]"
      ]
     },
     "metadata": {},
     "output_type": "display_data"
    },
    {
     "data": {
      "application/vnd.jupyter.widget-view+json": {
       "model_id": "faf9eb64373b4d24bbdf56591ac249ce",
       "version_major": 2,
       "version_minor": 0
      },
      "text/plain": [
       "[collect input data: eval_policy]:   0%|          | 0/2 [00:00<?, ?it/s]"
      ]
     },
     "metadata": {},
     "output_type": "display_data"
    },
    {
     "data": {
      "application/vnd.jupyter.widget-view+json": {
       "model_id": "4b40753905e24b80845b611348ed489b",
       "version_major": 2,
       "version_minor": 0
      },
      "text/plain": [
       "[calculate on-policy policy value]:   0%|          | 0/100 [00:00<?, ?it/s]"
      ]
     },
     "metadata": {},
     "output_type": "display_data"
    },
    {
     "data": {
      "application/vnd.jupyter.widget-view+json": {
       "model_id": "e4522a61bd844003a2a5f5bd763eee9e",
       "version_major": 2,
       "version_minor": 0
      },
      "text/plain": [
       "[calculate on-policy policy value]:   0%|          | 0/100 [00:00<?, ?it/s]"
      ]
     },
     "metadata": {},
     "output_type": "display_data"
    },
    {
     "data": {
      "application/vnd.jupyter.widget-view+json": {
       "model_id": "8e7210d7cdf542f3ac47493110329bb5",
       "version_major": 2,
       "version_minor": 0
      },
      "text/plain": [
       "[obtain_trajectories]:   0%|          | 0/100 [00:00<?, ?it/s]"
      ]
     },
     "metadata": {},
     "output_type": "display_data"
    },
    {
     "data": {
      "application/vnd.jupyter.widget-view+json": {
       "model_id": "36ff2bd2e7654f66a99af95f79f66f51",
       "version_major": 2,
       "version_minor": 0
      },
      "text/plain": [
       "[obtain_trajectories]:   0%|          | 0/100 [00:00<?, ?it/s]"
      ]
     },
     "metadata": {},
     "output_type": "display_data"
    },
    {
     "name": "stdout",
     "output_type": "stream",
     "text": [
      "2023-04-06 18:25.10 [debug    ] RandomIterator is selected.\n",
      "2023-04-06 18:25.10 [info     ] Directory is created at d3rlpy_logs/CQL_20230406182510\n",
      "2023-04-06 18:25.10 [debug    ] Fitting action scaler...       action_scaler=min_max\n",
      "2023-04-06 18:25.10 [debug    ] Building models...\n",
      "2023-04-06 18:25.10 [debug    ] Models have been built.\n",
      "2023-04-06 18:25.10 [info     ] Parameters are saved to d3rlpy_logs/CQL_20230406182510/params.json params={'action_scaler': {'type': 'min_max', 'params': {'minimum': array([-1., -1., -1.]), 'maximum': array([1., 1., 1.])}}, 'actor_encoder_factory': {'type': 'vector', 'params': {'hidden_units': [30, 30], 'activation': 'relu', 'use_batch_norm': False, 'dropout_rate': None, 'use_dense': False}}, 'actor_learning_rate': 0.0001, 'actor_optim_factory': {'optim_cls': 'Adam', 'betas': (0.9, 0.999), 'eps': 1e-08, 'weight_decay': 0, 'amsgrad': False}, 'alpha_learning_rate': 0.0001, 'alpha_optim_factory': {'optim_cls': 'Adam', 'betas': (0.9, 0.999), 'eps': 1e-08, 'weight_decay': 0, 'amsgrad': False}, 'alpha_threshold': 10.0, 'batch_size': 256, 'conservative_weight': 5.0, 'critic_encoder_factory': {'type': 'vector', 'params': {'hidden_units': [30, 30], 'activation': 'relu', 'use_batch_norm': False, 'dropout_rate': None, 'use_dense': False}}, 'critic_learning_rate': 0.0003, 'critic_optim_factory': {'optim_cls': 'Adam', 'betas': (0.9, 0.999), 'eps': 1e-08, 'weight_decay': 0, 'amsgrad': False}, 'gamma': 0.99, 'generated_maxlen': 100000, 'initial_alpha': 1.0, 'initial_temperature': 1.0, 'n_action_samples': 10, 'n_critics': 2, 'n_frames': 1, 'n_steps': 1, 'q_func_factory': {'type': 'mean', 'params': {'share_encoder': False}}, 'real_ratio': 1.0, 'reward_scaler': None, 'scaler': None, 'soft_q_backup': False, 'tau': 0.005, 'temp_learning_rate': 0.0001, 'temp_optim_factory': {'optim_cls': 'Adam', 'betas': (0.9, 0.999), 'eps': 1e-08, 'weight_decay': 0, 'amsgrad': False}, 'use_gpu': None, 'algorithm': 'CQL', 'observation_shape': (5,), 'action_size': 3}\n"
     ]
    },
    {
     "data": {
      "application/vnd.jupyter.widget-view+json": {
       "model_id": "e031427461c74d1ea0267f3b209ba10f",
       "version_major": 2,
       "version_minor": 0
      },
      "text/plain": [
       "Epoch 1/1:   0%|          | 0/10000 [00:00<?, ?it/s]"
      ]
     },
     "metadata": {},
     "output_type": "display_data"
    },
    {
     "name": "stdout",
     "output_type": "stream",
     "text": [
      "2023-04-06 18:29.17 [info     ] CQL_20230406182510: epoch=1 step=10000 epoch=1 metrics={'time_sample_batch': 0.0007391987323760986, 'time_algorithm_update': 0.023344878220558165, 'temp_loss': 3.1510115733504294, 'temp': 0.6511837506651879, 'alpha_loss': -28.341005483055113, 'alpha': 1.7863435154438019, 'critic_loss': 29.264908606147767, 'actor_loss': -2.52788796210289, 'time_step': 0.02459418931007385} step=10000\n",
      "2023-04-06 18:29.17 [info     ] Model parameters are saved to d3rlpy_logs/CQL_20230406182510/model_10000.pt\n"
     ]
    },
    {
     "data": {
      "application/vnd.jupyter.widget-view+json": {
       "model_id": "59bf07e11c73490da6bb2bb90b8b9ab2",
       "version_major": 2,
       "version_minor": 0
      },
      "text/plain": [
       "[fit FQE model]:   0%|          | 0/2 [00:00<?, ?it/s]"
      ]
     },
     "metadata": {},
     "output_type": "display_data"
    },
    {
     "name": "stdout",
     "output_type": "stream",
     "text": [
      "2023-04-06 18:29.17 [debug    ] RoundIterator is selected.\n",
      "2023-04-06 18:29.17 [info     ] Directory is created at d3rlpy_logs/FQE_20230406182917\n",
      "2023-04-06 18:29.17 [debug    ] Fitting scaler...              scaler=min_max\n",
      "2023-04-06 18:29.17 [debug    ] Fitting action scaler...       action_scaler=min_max\n",
      "2023-04-06 18:29.17 [debug    ] Building models...\n",
      "2023-04-06 18:29.17 [debug    ] Models have been built.\n",
      "2023-04-06 18:29.17 [info     ] Parameters are saved to d3rlpy_logs/FQE_20230406182917/params.json params={'action_scaler': {'type': 'min_max', 'params': {'minimum': array([-1., -1., -1.]), 'maximum': array([1., 1., 1.])}}, 'batch_size': 100, 'encoder_factory': {'type': 'vector', 'params': {'hidden_units': [30, 30], 'activation': 'relu', 'use_batch_norm': False, 'dropout_rate': None, 'use_dense': False}}, 'gamma': 0.95, 'generated_maxlen': 100000, 'learning_rate': 0.0001, 'n_critics': 1, 'n_frames': 1, 'n_steps': 1, 'optim_factory': {'optim_cls': 'Adam', 'betas': (0.9, 0.999), 'eps': 1e-08, 'weight_decay': 0, 'amsgrad': False}, 'q_func_factory': {'type': 'mean', 'params': {'share_encoder': False}}, 'real_ratio': 1.0, 'reward_scaler': None, 'scaler': {'type': 'min_max', 'params': {'maximum': array([0.86534979, 0.98618719, 0.99662349, 0.91614465, 0.96552476]), 'minimum': array([-0.87854574, -0.90430098, -0.98968103, -0.90345166, -0.9579492 ])}}, 'target_update_interval': 100, 'use_gpu': None, 'algorithm': 'FQE', 'observation_shape': (5,), 'action_size': 3}\n"
     ]
    },
    {
     "data": {
      "application/vnd.jupyter.widget-view+json": {
       "model_id": "2c74703d63304ee986721102def09ac0",
       "version_major": 2,
       "version_minor": 0
      },
      "text/plain": [
       "Epoch 1/1:   0%|          | 0/10 [00:00<?, ?it/s]"
      ]
     },
     "metadata": {},
     "output_type": "display_data"
    },
    {
     "name": "stdout",
     "output_type": "stream",
     "text": [
      "2023-04-06 18:29.17 [info     ] FQE_20230406182917: epoch=1 step=10 epoch=1 metrics={'time_sample_batch': 0.00012917518615722655, 'time_algorithm_update': 0.0031729221343994142, 'loss': 0.126467002928257, 'time_step': 0.003369736671447754} step=10\n",
      "2023-04-06 18:29.17 [info     ] Model parameters are saved to d3rlpy_logs/FQE_20230406182917/model_10.pt\n",
      "2023-04-06 18:29.17 [debug    ] RoundIterator is selected.\n",
      "2023-04-06 18:29.18 [info     ] Directory is created at d3rlpy_logs/FQE_20230406182918\n",
      "2023-04-06 18:29.18 [debug    ] Fitting scaler...              scaler=min_max\n",
      "2023-04-06 18:29.18 [debug    ] Fitting action scaler...       action_scaler=min_max\n",
      "2023-04-06 18:29.18 [debug    ] Building models...\n",
      "2023-04-06 18:29.18 [debug    ] Models have been built.\n",
      "2023-04-06 18:29.18 [info     ] Parameters are saved to d3rlpy_logs/FQE_20230406182918/params.json params={'action_scaler': {'type': 'min_max', 'params': {'minimum': array([-1., -1., -1.]), 'maximum': array([1., 1., 1.])}}, 'batch_size': 100, 'encoder_factory': {'type': 'vector', 'params': {'hidden_units': [30, 30], 'activation': 'relu', 'use_batch_norm': False, 'dropout_rate': None, 'use_dense': False}}, 'gamma': 0.95, 'generated_maxlen': 100000, 'learning_rate': 0.0001, 'n_critics': 1, 'n_frames': 1, 'n_steps': 1, 'optim_factory': {'optim_cls': 'Adam', 'betas': (0.9, 0.999), 'eps': 1e-08, 'weight_decay': 0, 'amsgrad': False}, 'q_func_factory': {'type': 'mean', 'params': {'share_encoder': False}}, 'real_ratio': 1.0, 'reward_scaler': None, 'scaler': {'type': 'min_max', 'params': {'maximum': array([0.86534979, 0.98618719, 0.99662349, 0.91614465, 0.96552476]), 'minimum': array([-0.87854574, -0.90430098, -0.98968103, -0.90345166, -0.9579492 ])}}, 'target_update_interval': 100, 'use_gpu': None, 'algorithm': 'FQE', 'observation_shape': (5,), 'action_size': 3}\n"
     ]
    },
    {
     "data": {
      "application/vnd.jupyter.widget-view+json": {
       "model_id": "dfa4b4b313cd4b48b179efce1864c820",
       "version_major": 2,
       "version_minor": 0
      },
      "text/plain": [
       "Epoch 1/1:   0%|          | 0/10 [00:00<?, ?it/s]"
      ]
     },
     "metadata": {},
     "output_type": "display_data"
    },
    {
     "name": "stdout",
     "output_type": "stream",
     "text": [
      "2023-04-06 18:29.18 [info     ] FQE_20230406182918: epoch=1 step=10 epoch=1 metrics={'time_sample_batch': 0.00013289451599121093, 'time_algorithm_update': 0.002134084701538086, 'loss': 0.11276705339550971, 'time_step': 0.002330493927001953} step=10\n",
      "2023-04-06 18:29.18 [info     ] Model parameters are saved to d3rlpy_logs/FQE_20230406182918/model_10.pt\n"
     ]
    },
    {
     "data": {
      "application/vnd.jupyter.widget-view+json": {
       "model_id": "9aaf2996ff1f43079154ed830434f675",
       "version_major": 2,
       "version_minor": 0
      },
      "text/plain": [
       "[fit MWL model]:   0%|          | 0/2 [00:00<?, ?it/s]"
      ]
     },
     "metadata": {},
     "output_type": "display_data"
    },
    {
     "data": {
      "application/vnd.jupyter.widget-view+json": {
       "model_id": "cdc781879a2342d28330396d20e112c1",
       "version_major": 2,
       "version_minor": 0
      },
      "text/plain": [
       "[fitting_weight_function]:   0%|          | 0/100 [00:00<?, ?it/s]"
      ]
     },
     "metadata": {},
     "output_type": "display_data"
    },
    {
     "data": {
      "application/vnd.jupyter.widget-view+json": {
       "model_id": "777fcf11fe1d4789b78e2f9ec0fc189f",
       "version_major": 2,
       "version_minor": 0
      },
      "text/plain": [
       "[fitting_weight_function]:   0%|          | 0/100 [00:00<?, ?it/s]"
      ]
     },
     "metadata": {},
     "output_type": "display_data"
    },
    {
     "data": {
      "application/vnd.jupyter.widget-view+json": {
       "model_id": "a975c26607fe41da8197f1a625774c56",
       "version_major": 2,
       "version_minor": 0
      },
      "text/plain": [
       "[fitting_weight_function]:   0%|          | 0/100 [00:00<?, ?it/s]"
      ]
     },
     "metadata": {},
     "output_type": "display_data"
    },
    {
     "data": {
      "application/vnd.jupyter.widget-view+json": {
       "model_id": "58eee732d351408d90a0a0302842688b",
       "version_major": 2,
       "version_minor": 0
      },
      "text/plain": [
       "[fitting_weight_function]:   0%|          | 0/100 [00:00<?, ?it/s]"
      ]
     },
     "metadata": {},
     "output_type": "display_data"
    },
    {
     "data": {
      "application/vnd.jupyter.widget-view+json": {
       "model_id": "55b5bfada6714f2c800a0193c9cbaf01",
       "version_major": 2,
       "version_minor": 0
      },
      "text/plain": [
       "[collect input data: eval_policy]:   0%|          | 0/2 [00:00<?, ?it/s]"
      ]
     },
     "metadata": {},
     "output_type": "display_data"
    },
    {
     "data": {
      "application/vnd.jupyter.widget-view+json": {
       "model_id": "c8f6bf5eeb814b3a9f9597d321aaaefb",
       "version_major": 2,
       "version_minor": 0
      },
      "text/plain": [
       "[calculate on-policy policy value]:   0%|          | 0/100 [00:00<?, ?it/s]"
      ]
     },
     "metadata": {},
     "output_type": "display_data"
    },
    {
     "data": {
      "application/vnd.jupyter.widget-view+json": {
       "model_id": "ac9f66bdcd8c43a0ac2c4282293697d5",
       "version_major": 2,
       "version_minor": 0
      },
      "text/plain": [
       "[calculate on-policy policy value]:   0%|          | 0/100 [00:00<?, ?it/s]"
      ]
     },
     "metadata": {},
     "output_type": "display_data"
    },
    {
     "data": {
      "application/vnd.jupyter.widget-view+json": {
       "model_id": "61087237dc264ebeaa8136e3bd3286ba",
       "version_major": 2,
       "version_minor": 0
      },
      "text/plain": [
       "[obtain_trajectories]:   0%|          | 0/100 [00:00<?, ?it/s]"
      ]
     },
     "metadata": {},
     "output_type": "display_data"
    },
    {
     "data": {
      "application/vnd.jupyter.widget-view+json": {
       "model_id": "2972d088fabb422b98dadae6a2809340",
       "version_major": 2,
       "version_minor": 0
      },
      "text/plain": [
       "[obtain_trajectories]:   0%|          | 0/100 [00:00<?, ?it/s]"
      ]
     },
     "metadata": {},
     "output_type": "display_data"
    },
    {
     "name": "stdout",
     "output_type": "stream",
     "text": [
      "2023-04-06 18:30.09 [debug    ] RandomIterator is selected.\n",
      "2023-04-06 18:30.09 [info     ] Directory is created at d3rlpy_logs/CQL_20230406183009\n",
      "2023-04-06 18:30.09 [debug    ] Fitting action scaler...       action_scaler=min_max\n",
      "2023-04-06 18:30.09 [debug    ] Building models...\n",
      "2023-04-06 18:30.09 [debug    ] Models have been built.\n",
      "2023-04-06 18:30.09 [info     ] Parameters are saved to d3rlpy_logs/CQL_20230406183009/params.json params={'action_scaler': {'type': 'min_max', 'params': {'minimum': array([-1., -1., -1.]), 'maximum': array([1., 1., 1.])}}, 'actor_encoder_factory': {'type': 'vector', 'params': {'hidden_units': [30, 30], 'activation': 'relu', 'use_batch_norm': False, 'dropout_rate': None, 'use_dense': False}}, 'actor_learning_rate': 0.0001, 'actor_optim_factory': {'optim_cls': 'Adam', 'betas': (0.9, 0.999), 'eps': 1e-08, 'weight_decay': 0, 'amsgrad': False}, 'alpha_learning_rate': 0.0001, 'alpha_optim_factory': {'optim_cls': 'Adam', 'betas': (0.9, 0.999), 'eps': 1e-08, 'weight_decay': 0, 'amsgrad': False}, 'alpha_threshold': 10.0, 'batch_size': 256, 'conservative_weight': 5.0, 'critic_encoder_factory': {'type': 'vector', 'params': {'hidden_units': [30, 30], 'activation': 'relu', 'use_batch_norm': False, 'dropout_rate': None, 'use_dense': False}}, 'critic_learning_rate': 0.0003, 'critic_optim_factory': {'optim_cls': 'Adam', 'betas': (0.9, 0.999), 'eps': 1e-08, 'weight_decay': 0, 'amsgrad': False}, 'gamma': 0.99, 'generated_maxlen': 100000, 'initial_alpha': 1.0, 'initial_temperature': 1.0, 'n_action_samples': 10, 'n_critics': 2, 'n_frames': 1, 'n_steps': 1, 'q_func_factory': {'type': 'mean', 'params': {'share_encoder': False}}, 'real_ratio': 1.0, 'reward_scaler': None, 'scaler': None, 'soft_q_backup': False, 'tau': 0.005, 'temp_learning_rate': 0.0001, 'temp_optim_factory': {'optim_cls': 'Adam', 'betas': (0.9, 0.999), 'eps': 1e-08, 'weight_decay': 0, 'amsgrad': False}, 'use_gpu': None, 'algorithm': 'CQL', 'observation_shape': (5,), 'action_size': 3}\n"
     ]
    },
    {
     "data": {
      "application/vnd.jupyter.widget-view+json": {
       "model_id": "88e9edbb9ea140fc89e8ede919af0185",
       "version_major": 2,
       "version_minor": 0
      },
      "text/plain": [
       "Epoch 1/1:   0%|          | 0/10000 [00:00<?, ?it/s]"
      ]
     },
     "metadata": {},
     "output_type": "display_data"
    },
    {
     "name": "stdout",
     "output_type": "stream",
     "text": [
      "2023-04-06 18:34.22 [info     ] CQL_20230406183009: epoch=1 step=10000 epoch=1 metrics={'time_sample_batch': 0.0007525038242340088, 'time_algorithm_update': 0.023800191116333008, 'temp_loss': 3.1469232768416404, 'temp': 0.6511100555956364, 'alpha_loss': -28.180506231307984, 'alpha': 1.7855061699986459, 'critic_loss': 29.372347931289674, 'actor_loss': -2.7406169474959374, 'time_step': 0.025075665497779846} step=10000\n",
      "2023-04-06 18:34.22 [info     ] Model parameters are saved to d3rlpy_logs/CQL_20230406183009/model_10000.pt\n"
     ]
    },
    {
     "data": {
      "application/vnd.jupyter.widget-view+json": {
       "model_id": "660219d0b7874175bf24175a088dd3da",
       "version_major": 2,
       "version_minor": 0
      },
      "text/plain": [
       "[fit FQE model]:   0%|          | 0/2 [00:00<?, ?it/s]"
      ]
     },
     "metadata": {},
     "output_type": "display_data"
    },
    {
     "name": "stdout",
     "output_type": "stream",
     "text": [
      "2023-04-06 18:34.22 [debug    ] RoundIterator is selected.\n",
      "2023-04-06 18:34.22 [info     ] Directory is created at d3rlpy_logs/FQE_20230406183422\n",
      "2023-04-06 18:34.22 [debug    ] Fitting scaler...              scaler=min_max\n",
      "2023-04-06 18:34.22 [debug    ] Fitting action scaler...       action_scaler=min_max\n",
      "2023-04-06 18:34.22 [debug    ] Building models...\n",
      "2023-04-06 18:34.22 [debug    ] Models have been built.\n",
      "2023-04-06 18:34.22 [info     ] Parameters are saved to d3rlpy_logs/FQE_20230406183422/params.json params={'action_scaler': {'type': 'min_max', 'params': {'minimum': array([-1., -1., -1.]), 'maximum': array([1., 1., 1.])}}, 'batch_size': 100, 'encoder_factory': {'type': 'vector', 'params': {'hidden_units': [30, 30], 'activation': 'relu', 'use_batch_norm': False, 'dropout_rate': None, 'use_dense': False}}, 'gamma': 0.95, 'generated_maxlen': 100000, 'learning_rate': 0.0001, 'n_critics': 1, 'n_frames': 1, 'n_steps': 1, 'optim_factory': {'optim_cls': 'Adam', 'betas': (0.9, 0.999), 'eps': 1e-08, 'weight_decay': 0, 'amsgrad': False}, 'q_func_factory': {'type': 'mean', 'params': {'share_encoder': False}}, 'real_ratio': 1.0, 'reward_scaler': None, 'scaler': {'type': 'min_max', 'params': {'maximum': array([0.96385008, 0.91261659, 0.98943147, 0.95850971, 0.98736218]), 'minimum': array([-0.86180718, -0.92432191, -0.99335196, -0.98484914, -0.97014349])}}, 'target_update_interval': 100, 'use_gpu': None, 'algorithm': 'FQE', 'observation_shape': (5,), 'action_size': 3}\n"
     ]
    },
    {
     "data": {
      "application/vnd.jupyter.widget-view+json": {
       "model_id": "57e20264004d4d44b0ac7bba6d268104",
       "version_major": 2,
       "version_minor": 0
      },
      "text/plain": [
       "Epoch 1/1:   0%|          | 0/10 [00:00<?, ?it/s]"
      ]
     },
     "metadata": {},
     "output_type": "display_data"
    },
    {
     "name": "stdout",
     "output_type": "stream",
     "text": [
      "2023-04-06 18:34.22 [info     ] FQE_20230406183422: epoch=1 step=10 epoch=1 metrics={'time_sample_batch': 0.00013346672058105468, 'time_algorithm_update': 0.0024395227432250977, 'loss': 0.11407971680164337, 'time_step': 0.0026278972625732424} step=10\n",
      "2023-04-06 18:34.22 [info     ] Model parameters are saved to d3rlpy_logs/FQE_20230406183422/model_10.pt\n",
      "2023-04-06 18:34.22 [debug    ] RoundIterator is selected.\n",
      "2023-04-06 18:34.23 [info     ] Directory is created at d3rlpy_logs/FQE_20230406183423\n",
      "2023-04-06 18:34.23 [debug    ] Fitting scaler...              scaler=min_max\n",
      "2023-04-06 18:34.23 [debug    ] Fitting action scaler...       action_scaler=min_max\n",
      "2023-04-06 18:34.23 [debug    ] Building models...\n",
      "2023-04-06 18:34.23 [debug    ] Models have been built.\n",
      "2023-04-06 18:34.23 [info     ] Parameters are saved to d3rlpy_logs/FQE_20230406183423/params.json params={'action_scaler': {'type': 'min_max', 'params': {'minimum': array([-1., -1., -1.]), 'maximum': array([1., 1., 1.])}}, 'batch_size': 100, 'encoder_factory': {'type': 'vector', 'params': {'hidden_units': [30, 30], 'activation': 'relu', 'use_batch_norm': False, 'dropout_rate': None, 'use_dense': False}}, 'gamma': 0.95, 'generated_maxlen': 100000, 'learning_rate': 0.0001, 'n_critics': 1, 'n_frames': 1, 'n_steps': 1, 'optim_factory': {'optim_cls': 'Adam', 'betas': (0.9, 0.999), 'eps': 1e-08, 'weight_decay': 0, 'amsgrad': False}, 'q_func_factory': {'type': 'mean', 'params': {'share_encoder': False}}, 'real_ratio': 1.0, 'reward_scaler': None, 'scaler': {'type': 'min_max', 'params': {'maximum': array([0.96385008, 0.91261659, 0.98943147, 0.95850971, 0.98736218]), 'minimum': array([-0.86180718, -0.92432191, -0.99335196, -0.98484914, -0.97014349])}}, 'target_update_interval': 100, 'use_gpu': None, 'algorithm': 'FQE', 'observation_shape': (5,), 'action_size': 3}\n"
     ]
    },
    {
     "data": {
      "application/vnd.jupyter.widget-view+json": {
       "model_id": "c8191d3a474c48d3a8b17bfe13d6d243",
       "version_major": 2,
       "version_minor": 0
      },
      "text/plain": [
       "Epoch 1/1:   0%|          | 0/10 [00:00<?, ?it/s]"
      ]
     },
     "metadata": {},
     "output_type": "display_data"
    },
    {
     "name": "stdout",
     "output_type": "stream",
     "text": [
      "2023-04-06 18:34.23 [info     ] FQE_20230406183423: epoch=1 step=10 epoch=1 metrics={'time_sample_batch': 0.00014269351959228516, 'time_algorithm_update': 0.0023720979690551756, 'loss': 0.12877606898546218, 'time_step': 0.002576899528503418} step=10\n",
      "2023-04-06 18:34.23 [info     ] Model parameters are saved to d3rlpy_logs/FQE_20230406183423/model_10.pt\n"
     ]
    },
    {
     "data": {
      "application/vnd.jupyter.widget-view+json": {
       "model_id": "eaaa75b831de41c1a3dbf13284fd21e8",
       "version_major": 2,
       "version_minor": 0
      },
      "text/plain": [
       "[fit MWL model]:   0%|          | 0/2 [00:00<?, ?it/s]"
      ]
     },
     "metadata": {},
     "output_type": "display_data"
    },
    {
     "data": {
      "application/vnd.jupyter.widget-view+json": {
       "model_id": "f4cfea853d4d4ab28b0dc6c239ca91cc",
       "version_major": 2,
       "version_minor": 0
      },
      "text/plain": [
       "[fitting_weight_function]:   0%|          | 0/100 [00:00<?, ?it/s]"
      ]
     },
     "metadata": {},
     "output_type": "display_data"
    },
    {
     "data": {
      "application/vnd.jupyter.widget-view+json": {
       "model_id": "c85968c67e3d431f8137c81710e1bbf2",
       "version_major": 2,
       "version_minor": 0
      },
      "text/plain": [
       "[fitting_weight_function]:   0%|          | 0/100 [00:00<?, ?it/s]"
      ]
     },
     "metadata": {},
     "output_type": "display_data"
    },
    {
     "data": {
      "application/vnd.jupyter.widget-view+json": {
       "model_id": "8573ff5bd8bd4a2c82a69efd1e38f31f",
       "version_major": 2,
       "version_minor": 0
      },
      "text/plain": [
       "[fitting_weight_function]:   0%|          | 0/100 [00:00<?, ?it/s]"
      ]
     },
     "metadata": {},
     "output_type": "display_data"
    },
    {
     "data": {
      "application/vnd.jupyter.widget-view+json": {
       "model_id": "721d6ec36f8d482fb9254759a39dfcdd",
       "version_major": 2,
       "version_minor": 0
      },
      "text/plain": [
       "[fitting_weight_function]:   0%|          | 0/100 [00:00<?, ?it/s]"
      ]
     },
     "metadata": {},
     "output_type": "display_data"
    },
    {
     "data": {
      "application/vnd.jupyter.widget-view+json": {
       "model_id": "b033afb61521436fb9af046c8981c71a",
       "version_major": 2,
       "version_minor": 0
      },
      "text/plain": [
       "[collect input data: eval_policy]:   0%|          | 0/2 [00:00<?, ?it/s]"
      ]
     },
     "metadata": {},
     "output_type": "display_data"
    },
    {
     "data": {
      "application/vnd.jupyter.widget-view+json": {
       "model_id": "217d2e5a32e541e98cd0bc19f2df0cb2",
       "version_major": 2,
       "version_minor": 0
      },
      "text/plain": [
       "[calculate on-policy policy value]:   0%|          | 0/100 [00:00<?, ?it/s]"
      ]
     },
     "metadata": {},
     "output_type": "display_data"
    },
    {
     "data": {
      "application/vnd.jupyter.widget-view+json": {
       "model_id": "5008718cf1f846a6b0fe665e11a04a90",
       "version_major": 2,
       "version_minor": 0
      },
      "text/plain": [
       "[calculate on-policy policy value]:   0%|          | 0/100 [00:00<?, ?it/s]"
      ]
     },
     "metadata": {},
     "output_type": "display_data"
    },
    {
     "data": {
      "application/vnd.jupyter.widget-view+json": {
       "model_id": "dac2bf9ec6f64a55b609536ffe6467fd",
       "version_major": 2,
       "version_minor": 0
      },
      "text/plain": [
       "[obtain_trajectories]:   0%|          | 0/100 [00:00<?, ?it/s]"
      ]
     },
     "metadata": {},
     "output_type": "display_data"
    },
    {
     "data": {
      "application/vnd.jupyter.widget-view+json": {
       "model_id": "dd01ac303f194eadbc3f5f758be0040a",
       "version_major": 2,
       "version_minor": 0
      },
      "text/plain": [
       "[obtain_trajectories]:   0%|          | 0/100 [00:00<?, ?it/s]"
      ]
     },
     "metadata": {},
     "output_type": "display_data"
    },
    {
     "name": "stdout",
     "output_type": "stream",
     "text": [
      "2023-04-06 18:35.17 [debug    ] RandomIterator is selected.\n",
      "2023-04-06 18:35.17 [info     ] Directory is created at d3rlpy_logs/CQL_20230406183517\n",
      "2023-04-06 18:35.17 [debug    ] Fitting action scaler...       action_scaler=min_max\n",
      "2023-04-06 18:35.17 [debug    ] Building models...\n",
      "2023-04-06 18:35.17 [debug    ] Models have been built.\n",
      "2023-04-06 18:35.17 [info     ] Parameters are saved to d3rlpy_logs/CQL_20230406183517/params.json params={'action_scaler': {'type': 'min_max', 'params': {'minimum': array([-1., -1., -1.]), 'maximum': array([1., 1., 1.])}}, 'actor_encoder_factory': {'type': 'vector', 'params': {'hidden_units': [30, 30], 'activation': 'relu', 'use_batch_norm': False, 'dropout_rate': None, 'use_dense': False}}, 'actor_learning_rate': 0.0001, 'actor_optim_factory': {'optim_cls': 'Adam', 'betas': (0.9, 0.999), 'eps': 1e-08, 'weight_decay': 0, 'amsgrad': False}, 'alpha_learning_rate': 0.0001, 'alpha_optim_factory': {'optim_cls': 'Adam', 'betas': (0.9, 0.999), 'eps': 1e-08, 'weight_decay': 0, 'amsgrad': False}, 'alpha_threshold': 10.0, 'batch_size': 256, 'conservative_weight': 5.0, 'critic_encoder_factory': {'type': 'vector', 'params': {'hidden_units': [30, 30], 'activation': 'relu', 'use_batch_norm': False, 'dropout_rate': None, 'use_dense': False}}, 'critic_learning_rate': 0.0003, 'critic_optim_factory': {'optim_cls': 'Adam', 'betas': (0.9, 0.999), 'eps': 1e-08, 'weight_decay': 0, 'amsgrad': False}, 'gamma': 0.99, 'generated_maxlen': 100000, 'initial_alpha': 1.0, 'initial_temperature': 1.0, 'n_action_samples': 10, 'n_critics': 2, 'n_frames': 1, 'n_steps': 1, 'q_func_factory': {'type': 'mean', 'params': {'share_encoder': False}}, 'real_ratio': 1.0, 'reward_scaler': None, 'scaler': None, 'soft_q_backup': False, 'tau': 0.005, 'temp_learning_rate': 0.0001, 'temp_optim_factory': {'optim_cls': 'Adam', 'betas': (0.9, 0.999), 'eps': 1e-08, 'weight_decay': 0, 'amsgrad': False}, 'use_gpu': None, 'algorithm': 'CQL', 'observation_shape': (5,), 'action_size': 3}\n"
     ]
    },
    {
     "data": {
      "application/vnd.jupyter.widget-view+json": {
       "model_id": "cf7f4d13550d49ef80975fb3b5f9e562",
       "version_major": 2,
       "version_minor": 0
      },
      "text/plain": [
       "Epoch 1/1:   0%|          | 0/10000 [00:00<?, ?it/s]"
      ]
     },
     "metadata": {},
     "output_type": "display_data"
    },
    {
     "name": "stdout",
     "output_type": "stream",
     "text": [
      "2023-04-06 18:39.45 [info     ] CQL_20230406183517: epoch=1 step=10000 epoch=1 metrics={'time_sample_batch': 0.0007888886690139771, 'time_algorithm_update': 0.02522484781742096, 'temp_loss': 3.172935291671753, 'temp': 0.6508700244575739, 'alpha_loss': -28.294475573539735, 'alpha': 1.7860734426617622, 'critic_loss': 29.175708135032654, 'actor_loss': -2.3573174710154534, 'time_step': 0.026545674991607666} step=10000\n",
      "2023-04-06 18:39.45 [info     ] Model parameters are saved to d3rlpy_logs/CQL_20230406183517/model_10000.pt\n"
     ]
    },
    {
     "data": {
      "application/vnd.jupyter.widget-view+json": {
       "model_id": "47cfd2d442364c2aacaa4bc378bda2ea",
       "version_major": 2,
       "version_minor": 0
      },
      "text/plain": [
       "[fit FQE model]:   0%|          | 0/2 [00:00<?, ?it/s]"
      ]
     },
     "metadata": {},
     "output_type": "display_data"
    },
    {
     "name": "stdout",
     "output_type": "stream",
     "text": [
      "2023-04-06 18:39.45 [debug    ] RoundIterator is selected.\n",
      "2023-04-06 18:39.45 [info     ] Directory is created at d3rlpy_logs/FQE_20230406183945\n",
      "2023-04-06 18:39.45 [debug    ] Fitting scaler...              scaler=min_max\n",
      "2023-04-06 18:39.45 [debug    ] Fitting action scaler...       action_scaler=min_max\n",
      "2023-04-06 18:39.45 [debug    ] Building models...\n",
      "2023-04-06 18:39.45 [debug    ] Models have been built.\n",
      "2023-04-06 18:39.45 [info     ] Parameters are saved to d3rlpy_logs/FQE_20230406183945/params.json params={'action_scaler': {'type': 'min_max', 'params': {'minimum': array([-1., -1., -1.]), 'maximum': array([1., 1., 1.])}}, 'batch_size': 100, 'encoder_factory': {'type': 'vector', 'params': {'hidden_units': [30, 30], 'activation': 'relu', 'use_batch_norm': False, 'dropout_rate': None, 'use_dense': False}}, 'gamma': 0.95, 'generated_maxlen': 100000, 'learning_rate': 0.0001, 'n_critics': 1, 'n_frames': 1, 'n_steps': 1, 'optim_factory': {'optim_cls': 'Adam', 'betas': (0.9, 0.999), 'eps': 1e-08, 'weight_decay': 0, 'amsgrad': False}, 'q_func_factory': {'type': 'mean', 'params': {'share_encoder': False}}, 'real_ratio': 1.0, 'reward_scaler': None, 'scaler': {'type': 'min_max', 'params': {'maximum': array([0.90435613, 0.95078975, 0.98959102, 0.99535051, 0.97581207]), 'minimum': array([-0.85544397, -0.91121936, -0.97922867, -0.87488832, -0.98674787])}}, 'target_update_interval': 100, 'use_gpu': None, 'algorithm': 'FQE', 'observation_shape': (5,), 'action_size': 3}\n"
     ]
    },
    {
     "data": {
      "application/vnd.jupyter.widget-view+json": {
       "model_id": "c75704e1f5d44fb9b5c0bf3250f54ff6",
       "version_major": 2,
       "version_minor": 0
      },
      "text/plain": [
       "Epoch 1/1:   0%|          | 0/10 [00:00<?, ?it/s]"
      ]
     },
     "metadata": {},
     "output_type": "display_data"
    },
    {
     "name": "stdout",
     "output_type": "stream",
     "text": [
      "2023-04-06 18:39.45 [info     ] FQE_20230406183945: epoch=1 step=10 epoch=1 metrics={'time_sample_batch': 0.0001201629638671875, 'time_algorithm_update': 0.0031180381774902344, 'loss': 0.12029200494289398, 'time_step': 0.0034206628799438475} step=10\n",
      "2023-04-06 18:39.45 [info     ] Model parameters are saved to d3rlpy_logs/FQE_20230406183945/model_10.pt\n",
      "2023-04-06 18:39.45 [debug    ] RoundIterator is selected.\n",
      "2023-04-06 18:39.46 [info     ] Directory is created at d3rlpy_logs/FQE_20230406183946\n",
      "2023-04-06 18:39.46 [debug    ] Fitting scaler...              scaler=min_max\n",
      "2023-04-06 18:39.46 [debug    ] Fitting action scaler...       action_scaler=min_max\n",
      "2023-04-06 18:39.46 [debug    ] Building models...\n",
      "2023-04-06 18:39.46 [debug    ] Models have been built.\n",
      "2023-04-06 18:39.46 [info     ] Parameters are saved to d3rlpy_logs/FQE_20230406183946/params.json params={'action_scaler': {'type': 'min_max', 'params': {'minimum': array([-1., -1., -1.]), 'maximum': array([1., 1., 1.])}}, 'batch_size': 100, 'encoder_factory': {'type': 'vector', 'params': {'hidden_units': [30, 30], 'activation': 'relu', 'use_batch_norm': False, 'dropout_rate': None, 'use_dense': False}}, 'gamma': 0.95, 'generated_maxlen': 100000, 'learning_rate': 0.0001, 'n_critics': 1, 'n_frames': 1, 'n_steps': 1, 'optim_factory': {'optim_cls': 'Adam', 'betas': (0.9, 0.999), 'eps': 1e-08, 'weight_decay': 0, 'amsgrad': False}, 'q_func_factory': {'type': 'mean', 'params': {'share_encoder': False}}, 'real_ratio': 1.0, 'reward_scaler': None, 'scaler': {'type': 'min_max', 'params': {'maximum': array([0.90435613, 0.95078975, 0.98959102, 0.99535051, 0.97581207]), 'minimum': array([-0.85544397, -0.91121936, -0.97922867, -0.87488832, -0.98674787])}}, 'target_update_interval': 100, 'use_gpu': None, 'algorithm': 'FQE', 'observation_shape': (5,), 'action_size': 3}\n"
     ]
    },
    {
     "data": {
      "application/vnd.jupyter.widget-view+json": {
       "model_id": "32def8f185e34b16a28cfee6e4e9a54d",
       "version_major": 2,
       "version_minor": 0
      },
      "text/plain": [
       "Epoch 1/1:   0%|          | 0/10 [00:00<?, ?it/s]"
      ]
     },
     "metadata": {},
     "output_type": "display_data"
    },
    {
     "name": "stdout",
     "output_type": "stream",
     "text": [
      "2023-04-06 18:39.46 [info     ] FQE_20230406183946: epoch=1 step=10 epoch=1 metrics={'time_sample_batch': 0.00016655921936035157, 'time_algorithm_update': 0.002007412910461426, 'loss': 0.14047596827149392, 'time_step': 0.0022310733795166014} step=10\n",
      "2023-04-06 18:39.46 [info     ] Model parameters are saved to d3rlpy_logs/FQE_20230406183946/model_10.pt\n"
     ]
    },
    {
     "data": {
      "application/vnd.jupyter.widget-view+json": {
       "model_id": "c61ded3233fc406ca7d775e52bf7bc2b",
       "version_major": 2,
       "version_minor": 0
      },
      "text/plain": [
       "[fit MWL model]:   0%|          | 0/2 [00:00<?, ?it/s]"
      ]
     },
     "metadata": {},
     "output_type": "display_data"
    },
    {
     "data": {
      "application/vnd.jupyter.widget-view+json": {
       "model_id": "be0e7c8a70814a8f95b828128025ee83",
       "version_major": 2,
       "version_minor": 0
      },
      "text/plain": [
       "[fitting_weight_function]:   0%|          | 0/100 [00:00<?, ?it/s]"
      ]
     },
     "metadata": {},
     "output_type": "display_data"
    },
    {
     "data": {
      "application/vnd.jupyter.widget-view+json": {
       "model_id": "978f0ec054e845e396492253d732bb4e",
       "version_major": 2,
       "version_minor": 0
      },
      "text/plain": [
       "[fitting_weight_function]:   0%|          | 0/100 [00:00<?, ?it/s]"
      ]
     },
     "metadata": {},
     "output_type": "display_data"
    },
    {
     "data": {
      "application/vnd.jupyter.widget-view+json": {
       "model_id": "809b487256424cf6965ca15eea814cd2",
       "version_major": 2,
       "version_minor": 0
      },
      "text/plain": [
       "[fitting_weight_function]:   0%|          | 0/100 [00:00<?, ?it/s]"
      ]
     },
     "metadata": {},
     "output_type": "display_data"
    },
    {
     "data": {
      "application/vnd.jupyter.widget-view+json": {
       "model_id": "b7346297dc7245c2a83d21884aa4c210",
       "version_major": 2,
       "version_minor": 0
      },
      "text/plain": [
       "[fitting_weight_function]:   0%|          | 0/100 [00:00<?, ?it/s]"
      ]
     },
     "metadata": {},
     "output_type": "display_data"
    },
    {
     "data": {
      "application/vnd.jupyter.widget-view+json": {
       "model_id": "d4a3985c88744f2899c25ed619397e9d",
       "version_major": 2,
       "version_minor": 0
      },
      "text/plain": [
       "[collect input data: eval_policy]:   0%|          | 0/2 [00:00<?, ?it/s]"
      ]
     },
     "metadata": {},
     "output_type": "display_data"
    },
    {
     "data": {
      "application/vnd.jupyter.widget-view+json": {
       "model_id": "f4fde8f6e2d94270b80b23e0ceca1108",
       "version_major": 2,
       "version_minor": 0
      },
      "text/plain": [
       "[calculate on-policy policy value]:   0%|          | 0/100 [00:00<?, ?it/s]"
      ]
     },
     "metadata": {},
     "output_type": "display_data"
    },
    {
     "data": {
      "application/vnd.jupyter.widget-view+json": {
       "model_id": "e4311df6838949cc8b0cee6882f19211",
       "version_major": 2,
       "version_minor": 0
      },
      "text/plain": [
       "[calculate on-policy policy value]:   0%|          | 0/100 [00:00<?, ?it/s]"
      ]
     },
     "metadata": {},
     "output_type": "display_data"
    },
    {
     "data": {
      "application/vnd.jupyter.widget-view+json": {
       "model_id": "460d3f9ec7e34b888be7361267ba2c39",
       "version_major": 2,
       "version_minor": 0
      },
      "text/plain": [
       "[obtain_trajectories]:   0%|          | 0/100 [00:00<?, ?it/s]"
      ]
     },
     "metadata": {},
     "output_type": "display_data"
    },
    {
     "data": {
      "application/vnd.jupyter.widget-view+json": {
       "model_id": "1a1f95ddf0494ee281759c53c4b6216f",
       "version_major": 2,
       "version_minor": 0
      },
      "text/plain": [
       "[obtain_trajectories]:   0%|          | 0/100 [00:00<?, ?it/s]"
      ]
     },
     "metadata": {},
     "output_type": "display_data"
    },
    {
     "name": "stdout",
     "output_type": "stream",
     "text": [
      "2023-04-06 18:40.36 [debug    ] RandomIterator is selected.\n",
      "2023-04-06 18:40.36 [info     ] Directory is created at d3rlpy_logs/CQL_20230406184036\n",
      "2023-04-06 18:40.36 [debug    ] Fitting action scaler...       action_scaler=min_max\n",
      "2023-04-06 18:40.36 [debug    ] Building models...\n",
      "2023-04-06 18:40.36 [debug    ] Models have been built.\n",
      "2023-04-06 18:40.36 [info     ] Parameters are saved to d3rlpy_logs/CQL_20230406184036/params.json params={'action_scaler': {'type': 'min_max', 'params': {'minimum': array([-1., -1., -1.]), 'maximum': array([1., 1., 1.])}}, 'actor_encoder_factory': {'type': 'vector', 'params': {'hidden_units': [30, 30], 'activation': 'relu', 'use_batch_norm': False, 'dropout_rate': None, 'use_dense': False}}, 'actor_learning_rate': 0.0001, 'actor_optim_factory': {'optim_cls': 'Adam', 'betas': (0.9, 0.999), 'eps': 1e-08, 'weight_decay': 0, 'amsgrad': False}, 'alpha_learning_rate': 0.0001, 'alpha_optim_factory': {'optim_cls': 'Adam', 'betas': (0.9, 0.999), 'eps': 1e-08, 'weight_decay': 0, 'amsgrad': False}, 'alpha_threshold': 10.0, 'batch_size': 256, 'conservative_weight': 5.0, 'critic_encoder_factory': {'type': 'vector', 'params': {'hidden_units': [30, 30], 'activation': 'relu', 'use_batch_norm': False, 'dropout_rate': None, 'use_dense': False}}, 'critic_learning_rate': 0.0003, 'critic_optim_factory': {'optim_cls': 'Adam', 'betas': (0.9, 0.999), 'eps': 1e-08, 'weight_decay': 0, 'amsgrad': False}, 'gamma': 0.99, 'generated_maxlen': 100000, 'initial_alpha': 1.0, 'initial_temperature': 1.0, 'n_action_samples': 10, 'n_critics': 2, 'n_frames': 1, 'n_steps': 1, 'q_func_factory': {'type': 'mean', 'params': {'share_encoder': False}}, 'real_ratio': 1.0, 'reward_scaler': None, 'scaler': None, 'soft_q_backup': False, 'tau': 0.005, 'temp_learning_rate': 0.0001, 'temp_optim_factory': {'optim_cls': 'Adam', 'betas': (0.9, 0.999), 'eps': 1e-08, 'weight_decay': 0, 'amsgrad': False}, 'use_gpu': None, 'algorithm': 'CQL', 'observation_shape': (5,), 'action_size': 3}\n"
     ]
    },
    {
     "data": {
      "application/vnd.jupyter.widget-view+json": {
       "model_id": "9c6cd8dbad3a4780b9db6b158f9749e4",
       "version_major": 2,
       "version_minor": 0
      },
      "text/plain": [
       "Epoch 1/1:   0%|          | 0/10000 [00:00<?, ?it/s]"
      ]
     },
     "metadata": {},
     "output_type": "display_data"
    },
    {
     "name": "stdout",
     "output_type": "stream",
     "text": [
      "2023-04-06 18:44.36 [info     ] CQL_20230406184036: epoch=1 step=10000 epoch=1 metrics={'time_sample_batch': 0.0007372201442718506, 'time_algorithm_update': 0.02263742516040802, 'temp_loss': 3.1760029824137685, 'temp': 0.6507448432058096, 'alpha_loss': -28.182515627670288, 'alpha': 1.7851461436152458, 'critic_loss': 28.90512314529419, 'actor_loss': -1.7605722010276281, 'time_step': 0.02387620165348053} step=10000\n",
      "2023-04-06 18:44.36 [info     ] Model parameters are saved to d3rlpy_logs/CQL_20230406184036/model_10000.pt\n"
     ]
    },
    {
     "data": {
      "application/vnd.jupyter.widget-view+json": {
       "model_id": "e0e92d78f75341f18d302f8945da8e52",
       "version_major": 2,
       "version_minor": 0
      },
      "text/plain": [
       "[fit FQE model]:   0%|          | 0/2 [00:00<?, ?it/s]"
      ]
     },
     "metadata": {},
     "output_type": "display_data"
    },
    {
     "name": "stdout",
     "output_type": "stream",
     "text": [
      "2023-04-06 18:44.36 [debug    ] RoundIterator is selected.\n",
      "2023-04-06 18:44.36 [info     ] Directory is created at d3rlpy_logs/FQE_20230406184436\n",
      "2023-04-06 18:44.36 [debug    ] Fitting scaler...              scaler=min_max\n",
      "2023-04-06 18:44.36 [debug    ] Fitting action scaler...       action_scaler=min_max\n",
      "2023-04-06 18:44.36 [debug    ] Building models...\n",
      "2023-04-06 18:44.36 [debug    ] Models have been built.\n",
      "2023-04-06 18:44.36 [info     ] Parameters are saved to d3rlpy_logs/FQE_20230406184436/params.json params={'action_scaler': {'type': 'min_max', 'params': {'minimum': array([-1., -1., -1.]), 'maximum': array([1., 1., 1.])}}, 'batch_size': 100, 'encoder_factory': {'type': 'vector', 'params': {'hidden_units': [30, 30], 'activation': 'relu', 'use_batch_norm': False, 'dropout_rate': None, 'use_dense': False}}, 'gamma': 0.95, 'generated_maxlen': 100000, 'learning_rate': 0.0001, 'n_critics': 1, 'n_frames': 1, 'n_steps': 1, 'optim_factory': {'optim_cls': 'Adam', 'betas': (0.9, 0.999), 'eps': 1e-08, 'weight_decay': 0, 'amsgrad': False}, 'q_func_factory': {'type': 'mean', 'params': {'share_encoder': False}}, 'real_ratio': 1.0, 'reward_scaler': None, 'scaler': {'type': 'min_max', 'params': {'maximum': array([0.90690511, 0.93649052, 0.99231342, 0.97342693, 0.96446891]), 'minimum': array([-0.84650935, -0.92371718, -0.97700156, -0.90649216, -0.98790936])}}, 'target_update_interval': 100, 'use_gpu': None, 'algorithm': 'FQE', 'observation_shape': (5,), 'action_size': 3}\n"
     ]
    },
    {
     "data": {
      "application/vnd.jupyter.widget-view+json": {
       "model_id": "3e6184db8c4a486eabbdc6a1cd644177",
       "version_major": 2,
       "version_minor": 0
      },
      "text/plain": [
       "Epoch 1/1:   0%|          | 0/10 [00:00<?, ?it/s]"
      ]
     },
     "metadata": {},
     "output_type": "display_data"
    },
    {
     "name": "stdout",
     "output_type": "stream",
     "text": [
      "2023-04-06 18:44.36 [info     ] FQE_20230406184436: epoch=1 step=10 epoch=1 metrics={'time_sample_batch': 0.00012197494506835938, 'time_algorithm_update': 0.002469921112060547, 'loss': 0.1307866729795933, 'time_step': 0.0026583433151245116} step=10\n",
      "2023-04-06 18:44.36 [info     ] Model parameters are saved to d3rlpy_logs/FQE_20230406184436/model_10.pt\n",
      "2023-04-06 18:44.36 [debug    ] RoundIterator is selected.\n",
      "2023-04-06 18:44.37 [info     ] Directory is created at d3rlpy_logs/FQE_20230406184437\n",
      "2023-04-06 18:44.37 [debug    ] Fitting scaler...              scaler=min_max\n",
      "2023-04-06 18:44.37 [debug    ] Fitting action scaler...       action_scaler=min_max\n",
      "2023-04-06 18:44.37 [debug    ] Building models...\n",
      "2023-04-06 18:44.37 [debug    ] Models have been built.\n",
      "2023-04-06 18:44.37 [info     ] Parameters are saved to d3rlpy_logs/FQE_20230406184437/params.json params={'action_scaler': {'type': 'min_max', 'params': {'minimum': array([-1., -1., -1.]), 'maximum': array([1., 1., 1.])}}, 'batch_size': 100, 'encoder_factory': {'type': 'vector', 'params': {'hidden_units': [30, 30], 'activation': 'relu', 'use_batch_norm': False, 'dropout_rate': None, 'use_dense': False}}, 'gamma': 0.95, 'generated_maxlen': 100000, 'learning_rate': 0.0001, 'n_critics': 1, 'n_frames': 1, 'n_steps': 1, 'optim_factory': {'optim_cls': 'Adam', 'betas': (0.9, 0.999), 'eps': 1e-08, 'weight_decay': 0, 'amsgrad': False}, 'q_func_factory': {'type': 'mean', 'params': {'share_encoder': False}}, 'real_ratio': 1.0, 'reward_scaler': None, 'scaler': {'type': 'min_max', 'params': {'maximum': array([0.90690511, 0.93649052, 0.99231342, 0.97342693, 0.96446891]), 'minimum': array([-0.84650935, -0.92371718, -0.97700156, -0.90649216, -0.98790936])}}, 'target_update_interval': 100, 'use_gpu': None, 'algorithm': 'FQE', 'observation_shape': (5,), 'action_size': 3}\n"
     ]
    },
    {
     "data": {
      "application/vnd.jupyter.widget-view+json": {
       "model_id": "08e0c1f959b64518aff97e6712bfd790",
       "version_major": 2,
       "version_minor": 0
      },
      "text/plain": [
       "Epoch 1/1:   0%|          | 0/10 [00:00<?, ?it/s]"
      ]
     },
     "metadata": {},
     "output_type": "display_data"
    },
    {
     "name": "stdout",
     "output_type": "stream",
     "text": [
      "2023-04-06 18:44.37 [info     ] FQE_20230406184437: epoch=1 step=10 epoch=1 metrics={'time_sample_batch': 0.00011153221130371094, 'time_algorithm_update': 0.0020612478256225586, 'loss': 0.13827237561345102, 'time_step': 0.002238750457763672} step=10\n",
      "2023-04-06 18:44.37 [info     ] Model parameters are saved to d3rlpy_logs/FQE_20230406184437/model_10.pt\n"
     ]
    },
    {
     "data": {
      "application/vnd.jupyter.widget-view+json": {
       "model_id": "7c38f6dd8035435689b1eac470d250a1",
       "version_major": 2,
       "version_minor": 0
      },
      "text/plain": [
       "[fit MWL model]:   0%|          | 0/2 [00:00<?, ?it/s]"
      ]
     },
     "metadata": {},
     "output_type": "display_data"
    },
    {
     "data": {
      "application/vnd.jupyter.widget-view+json": {
       "model_id": "95d6ade8b82140b1b29260eef0ab4f89",
       "version_major": 2,
       "version_minor": 0
      },
      "text/plain": [
       "[fitting_weight_function]:   0%|          | 0/100 [00:00<?, ?it/s]"
      ]
     },
     "metadata": {},
     "output_type": "display_data"
    },
    {
     "data": {
      "application/vnd.jupyter.widget-view+json": {
       "model_id": "2e90e29961b44acdb13ee7e348a0283a",
       "version_major": 2,
       "version_minor": 0
      },
      "text/plain": [
       "[fitting_weight_function]:   0%|          | 0/100 [00:00<?, ?it/s]"
      ]
     },
     "metadata": {},
     "output_type": "display_data"
    },
    {
     "data": {
      "application/vnd.jupyter.widget-view+json": {
       "model_id": "47d72dd7a9f54842985264ad7e234b88",
       "version_major": 2,
       "version_minor": 0
      },
      "text/plain": [
       "[fitting_weight_function]:   0%|          | 0/100 [00:00<?, ?it/s]"
      ]
     },
     "metadata": {},
     "output_type": "display_data"
    },
    {
     "data": {
      "application/vnd.jupyter.widget-view+json": {
       "model_id": "0c7118f3dced4c91b4a69303d3d9f831",
       "version_major": 2,
       "version_minor": 0
      },
      "text/plain": [
       "[fitting_weight_function]:   0%|          | 0/100 [00:00<?, ?it/s]"
      ]
     },
     "metadata": {},
     "output_type": "display_data"
    },
    {
     "data": {
      "application/vnd.jupyter.widget-view+json": {
       "model_id": "e62bd093b65f4b4dbb18483c14f428fb",
       "version_major": 2,
       "version_minor": 0
      },
      "text/plain": [
       "[collect input data: eval_policy]:   0%|          | 0/2 [00:00<?, ?it/s]"
      ]
     },
     "metadata": {},
     "output_type": "display_data"
    },
    {
     "data": {
      "application/vnd.jupyter.widget-view+json": {
       "model_id": "7b83711ea37b4f0b80d34be040225f62",
       "version_major": 2,
       "version_minor": 0
      },
      "text/plain": [
       "[calculate on-policy policy value]:   0%|          | 0/100 [00:00<?, ?it/s]"
      ]
     },
     "metadata": {},
     "output_type": "display_data"
    },
    {
     "data": {
      "application/vnd.jupyter.widget-view+json": {
       "model_id": "46f7404746744b71901df95386c47ff5",
       "version_major": 2,
       "version_minor": 0
      },
      "text/plain": [
       "[calculate on-policy policy value]:   0%|          | 0/100 [00:00<?, ?it/s]"
      ]
     },
     "metadata": {},
     "output_type": "display_data"
    },
    {
     "data": {
      "application/vnd.jupyter.widget-view+json": {
       "model_id": "f69b9e4225074c4cbc7b303052dc6a8a",
       "version_major": 2,
       "version_minor": 0
      },
      "text/plain": [
       "[obtain_trajectories]:   0%|          | 0/100 [00:00<?, ?it/s]"
      ]
     },
     "metadata": {},
     "output_type": "display_data"
    },
    {
     "data": {
      "application/vnd.jupyter.widget-view+json": {
       "model_id": "a34952d3929a448f88e3c4b3511f38a8",
       "version_major": 2,
       "version_minor": 0
      },
      "text/plain": [
       "[obtain_trajectories]:   0%|          | 0/100 [00:00<?, ?it/s]"
      ]
     },
     "metadata": {},
     "output_type": "display_data"
    },
    {
     "name": "stdout",
     "output_type": "stream",
     "text": [
      "2023-04-06 18:45.30 [debug    ] RandomIterator is selected.\n",
      "2023-04-06 18:45.30 [info     ] Directory is created at d3rlpy_logs/CQL_20230406184530\n",
      "2023-04-06 18:45.30 [debug    ] Fitting action scaler...       action_scaler=min_max\n",
      "2023-04-06 18:45.30 [debug    ] Building models...\n",
      "2023-04-06 18:45.30 [debug    ] Models have been built.\n",
      "2023-04-06 18:45.30 [info     ] Parameters are saved to d3rlpy_logs/CQL_20230406184530/params.json params={'action_scaler': {'type': 'min_max', 'params': {'minimum': array([-1., -1., -1.]), 'maximum': array([1., 1., 1.])}}, 'actor_encoder_factory': {'type': 'vector', 'params': {'hidden_units': [30, 30], 'activation': 'relu', 'use_batch_norm': False, 'dropout_rate': None, 'use_dense': False}}, 'actor_learning_rate': 0.0001, 'actor_optim_factory': {'optim_cls': 'Adam', 'betas': (0.9, 0.999), 'eps': 1e-08, 'weight_decay': 0, 'amsgrad': False}, 'alpha_learning_rate': 0.0001, 'alpha_optim_factory': {'optim_cls': 'Adam', 'betas': (0.9, 0.999), 'eps': 1e-08, 'weight_decay': 0, 'amsgrad': False}, 'alpha_threshold': 10.0, 'batch_size': 256, 'conservative_weight': 5.0, 'critic_encoder_factory': {'type': 'vector', 'params': {'hidden_units': [30, 30], 'activation': 'relu', 'use_batch_norm': False, 'dropout_rate': None, 'use_dense': False}}, 'critic_learning_rate': 0.0003, 'critic_optim_factory': {'optim_cls': 'Adam', 'betas': (0.9, 0.999), 'eps': 1e-08, 'weight_decay': 0, 'amsgrad': False}, 'gamma': 0.99, 'generated_maxlen': 100000, 'initial_alpha': 1.0, 'initial_temperature': 1.0, 'n_action_samples': 10, 'n_critics': 2, 'n_frames': 1, 'n_steps': 1, 'q_func_factory': {'type': 'mean', 'params': {'share_encoder': False}}, 'real_ratio': 1.0, 'reward_scaler': None, 'scaler': None, 'soft_q_backup': False, 'tau': 0.005, 'temp_learning_rate': 0.0001, 'temp_optim_factory': {'optim_cls': 'Adam', 'betas': (0.9, 0.999), 'eps': 1e-08, 'weight_decay': 0, 'amsgrad': False}, 'use_gpu': None, 'algorithm': 'CQL', 'observation_shape': (5,), 'action_size': 3}\n"
     ]
    },
    {
     "data": {
      "application/vnd.jupyter.widget-view+json": {
       "model_id": "3c59fdddf4e441d6bcb13819524eb62b",
       "version_major": 2,
       "version_minor": 0
      },
      "text/plain": [
       "Epoch 1/1:   0%|          | 0/10000 [00:00<?, ?it/s]"
      ]
     },
     "metadata": {},
     "output_type": "display_data"
    },
    {
     "name": "stdout",
     "output_type": "stream",
     "text": [
      "2023-04-06 18:50.00 [info     ] CQL_20230406184530: epoch=1 step=10000 epoch=1 metrics={'time_sample_batch': 0.0007899946451187134, 'time_algorithm_update': 0.02539856708049774, 'temp_loss': 3.1589908509612084, 'temp': 0.6510538083732128, 'alpha_loss': -28.187648667907716, 'alpha': 1.785725393152237, 'critic_loss': 29.094965863990783, 'actor_loss': -2.4202431453049185, 'time_step': 0.0267293066740036} step=10000\n",
      "2023-04-06 18:50.00 [info     ] Model parameters are saved to d3rlpy_logs/CQL_20230406184530/model_10000.pt\n"
     ]
    },
    {
     "data": {
      "application/vnd.jupyter.widget-view+json": {
       "model_id": "4fbd827432bc490388a9c7a48260b20c",
       "version_major": 2,
       "version_minor": 0
      },
      "text/plain": [
       "[fit FQE model]:   0%|          | 0/2 [00:00<?, ?it/s]"
      ]
     },
     "metadata": {},
     "output_type": "display_data"
    },
    {
     "name": "stdout",
     "output_type": "stream",
     "text": [
      "2023-04-06 18:50.00 [debug    ] RoundIterator is selected.\n",
      "2023-04-06 18:50.00 [info     ] Directory is created at d3rlpy_logs/FQE_20230406185000\n",
      "2023-04-06 18:50.00 [debug    ] Fitting scaler...              scaler=min_max\n",
      "2023-04-06 18:50.00 [debug    ] Fitting action scaler...       action_scaler=min_max\n",
      "2023-04-06 18:50.00 [debug    ] Building models...\n",
      "2023-04-06 18:50.00 [debug    ] Models have been built.\n",
      "2023-04-06 18:50.00 [info     ] Parameters are saved to d3rlpy_logs/FQE_20230406185000/params.json params={'action_scaler': {'type': 'min_max', 'params': {'minimum': array([-1., -1., -1.]), 'maximum': array([1., 1., 1.])}}, 'batch_size': 100, 'encoder_factory': {'type': 'vector', 'params': {'hidden_units': [30, 30], 'activation': 'relu', 'use_batch_norm': False, 'dropout_rate': None, 'use_dense': False}}, 'gamma': 0.95, 'generated_maxlen': 100000, 'learning_rate': 0.0001, 'n_critics': 1, 'n_frames': 1, 'n_steps': 1, 'optim_factory': {'optim_cls': 'Adam', 'betas': (0.9, 0.999), 'eps': 1e-08, 'weight_decay': 0, 'amsgrad': False}, 'q_func_factory': {'type': 'mean', 'params': {'share_encoder': False}}, 'real_ratio': 1.0, 'reward_scaler': None, 'scaler': {'type': 'min_max', 'params': {'maximum': array([0.96323906, 0.94508111, 0.9940215 , 0.94954401, 0.97000323]), 'minimum': array([-0.95159231, -0.91364937, -0.98287965, -0.96109382, -0.96765512])}}, 'target_update_interval': 100, 'use_gpu': None, 'algorithm': 'FQE', 'observation_shape': (5,), 'action_size': 3}\n"
     ]
    },
    {
     "data": {
      "application/vnd.jupyter.widget-view+json": {
       "model_id": "d02b861b32dc45f3b3b1bd7db2a21aaa",
       "version_major": 2,
       "version_minor": 0
      },
      "text/plain": [
       "Epoch 1/1:   0%|          | 0/10 [00:00<?, ?it/s]"
      ]
     },
     "metadata": {},
     "output_type": "display_data"
    },
    {
     "name": "stdout",
     "output_type": "stream",
     "text": [
      "2023-04-06 18:50.00 [info     ] FQE_20230406185000: epoch=1 step=10 epoch=1 metrics={'time_sample_batch': 0.00013306140899658204, 'time_algorithm_update': 0.0023454666137695313, 'loss': 0.1106020912528038, 'time_step': 0.00254969596862793} step=10\n",
      "2023-04-06 18:50.00 [info     ] Model parameters are saved to d3rlpy_logs/FQE_20230406185000/model_10.pt\n",
      "2023-04-06 18:50.00 [debug    ] RoundIterator is selected.\n",
      "2023-04-06 18:50.01 [info     ] Directory is created at d3rlpy_logs/FQE_20230406185001\n",
      "2023-04-06 18:50.01 [debug    ] Fitting scaler...              scaler=min_max\n",
      "2023-04-06 18:50.01 [debug    ] Fitting action scaler...       action_scaler=min_max\n",
      "2023-04-06 18:50.01 [debug    ] Building models...\n",
      "2023-04-06 18:50.01 [debug    ] Models have been built.\n",
      "2023-04-06 18:50.01 [info     ] Parameters are saved to d3rlpy_logs/FQE_20230406185001/params.json params={'action_scaler': {'type': 'min_max', 'params': {'minimum': array([-1., -1., -1.]), 'maximum': array([1., 1., 1.])}}, 'batch_size': 100, 'encoder_factory': {'type': 'vector', 'params': {'hidden_units': [30, 30], 'activation': 'relu', 'use_batch_norm': False, 'dropout_rate': None, 'use_dense': False}}, 'gamma': 0.95, 'generated_maxlen': 100000, 'learning_rate': 0.0001, 'n_critics': 1, 'n_frames': 1, 'n_steps': 1, 'optim_factory': {'optim_cls': 'Adam', 'betas': (0.9, 0.999), 'eps': 1e-08, 'weight_decay': 0, 'amsgrad': False}, 'q_func_factory': {'type': 'mean', 'params': {'share_encoder': False}}, 'real_ratio': 1.0, 'reward_scaler': None, 'scaler': {'type': 'min_max', 'params': {'maximum': array([0.96323906, 0.94508111, 0.9940215 , 0.94954401, 0.97000323]), 'minimum': array([-0.95159231, -0.91364937, -0.98287965, -0.96109382, -0.96765512])}}, 'target_update_interval': 100, 'use_gpu': None, 'algorithm': 'FQE', 'observation_shape': (5,), 'action_size': 3}\n"
     ]
    },
    {
     "data": {
      "application/vnd.jupyter.widget-view+json": {
       "model_id": "6885cb2b294b4049b34bb8b34877bedc",
       "version_major": 2,
       "version_minor": 0
      },
      "text/plain": [
       "Epoch 1/1:   0%|          | 0/10 [00:00<?, ?it/s]"
      ]
     },
     "metadata": {},
     "output_type": "display_data"
    },
    {
     "name": "stdout",
     "output_type": "stream",
     "text": [
      "2023-04-06 18:50.01 [info     ] FQE_20230406185001: epoch=1 step=10 epoch=1 metrics={'time_sample_batch': 0.00012674331665039063, 'time_algorithm_update': 0.002627396583557129, 'loss': 0.12556849867105485, 'time_step': 0.002949833869934082} step=10\n",
      "2023-04-06 18:50.01 [info     ] Model parameters are saved to d3rlpy_logs/FQE_20230406185001/model_10.pt\n"
     ]
    },
    {
     "data": {
      "application/vnd.jupyter.widget-view+json": {
       "model_id": "a1b8beefc3db4b17ab860daaaf8a5141",
       "version_major": 2,
       "version_minor": 0
      },
      "text/plain": [
       "[fit MWL model]:   0%|          | 0/2 [00:00<?, ?it/s]"
      ]
     },
     "metadata": {},
     "output_type": "display_data"
    },
    {
     "data": {
      "application/vnd.jupyter.widget-view+json": {
       "model_id": "136c3f8f594d41b19889ea61af9f5d18",
       "version_major": 2,
       "version_minor": 0
      },
      "text/plain": [
       "[fitting_weight_function]:   0%|          | 0/100 [00:00<?, ?it/s]"
      ]
     },
     "metadata": {},
     "output_type": "display_data"
    },
    {
     "data": {
      "application/vnd.jupyter.widget-view+json": {
       "model_id": "aa9fd8ce177a45b6ab047f8870c55e05",
       "version_major": 2,
       "version_minor": 0
      },
      "text/plain": [
       "[fitting_weight_function]:   0%|          | 0/100 [00:00<?, ?it/s]"
      ]
     },
     "metadata": {},
     "output_type": "display_data"
    },
    {
     "data": {
      "application/vnd.jupyter.widget-view+json": {
       "model_id": "91b9c74df08d41af9b6573be3ef2fed1",
       "version_major": 2,
       "version_minor": 0
      },
      "text/plain": [
       "[fitting_weight_function]:   0%|          | 0/100 [00:00<?, ?it/s]"
      ]
     },
     "metadata": {},
     "output_type": "display_data"
    },
    {
     "data": {
      "application/vnd.jupyter.widget-view+json": {
       "model_id": "d68af7361eb64bb19f070a88b1ed7160",
       "version_major": 2,
       "version_minor": 0
      },
      "text/plain": [
       "[fitting_weight_function]:   0%|          | 0/100 [00:00<?, ?it/s]"
      ]
     },
     "metadata": {},
     "output_type": "display_data"
    },
    {
     "data": {
      "application/vnd.jupyter.widget-view+json": {
       "model_id": "3d7460ef2fd74f84a40712502336b7d6",
       "version_major": 2,
       "version_minor": 0
      },
      "text/plain": [
       "[collect input data: eval_policy]:   0%|          | 0/2 [00:00<?, ?it/s]"
      ]
     },
     "metadata": {},
     "output_type": "display_data"
    },
    {
     "data": {
      "application/vnd.jupyter.widget-view+json": {
       "model_id": "5028f1681b084952a304650c0a94caf6",
       "version_major": 2,
       "version_minor": 0
      },
      "text/plain": [
       "[calculate on-policy policy value]:   0%|          | 0/100 [00:00<?, ?it/s]"
      ]
     },
     "metadata": {},
     "output_type": "display_data"
    },
    {
     "data": {
      "application/vnd.jupyter.widget-view+json": {
       "model_id": "3af16dd2fb264894b2a46085e06c715a",
       "version_major": 2,
       "version_minor": 0
      },
      "text/plain": [
       "[calculate on-policy policy value]:   0%|          | 0/100 [00:00<?, ?it/s]"
      ]
     },
     "metadata": {},
     "output_type": "display_data"
    },
    {
     "data": {
      "application/vnd.jupyter.widget-view+json": {
       "model_id": "002c082b6eb04fb6a5c5e7e146d6f837",
       "version_major": 2,
       "version_minor": 0
      },
      "text/plain": [
       "[obtain_trajectories]:   0%|          | 0/100 [00:00<?, ?it/s]"
      ]
     },
     "metadata": {},
     "output_type": "display_data"
    },
    {
     "data": {
      "application/vnd.jupyter.widget-view+json": {
       "model_id": "cd4c073cba5947929b868c37261eee54",
       "version_major": 2,
       "version_minor": 0
      },
      "text/plain": [
       "[obtain_trajectories]:   0%|          | 0/100 [00:00<?, ?it/s]"
      ]
     },
     "metadata": {},
     "output_type": "display_data"
    },
    {
     "name": "stdout",
     "output_type": "stream",
     "text": [
      "2023-04-06 18:50.52 [debug    ] RandomIterator is selected.\n",
      "2023-04-06 18:50.52 [info     ] Directory is created at d3rlpy_logs/CQL_20230406185052\n",
      "2023-04-06 18:50.52 [debug    ] Fitting action scaler...       action_scaler=min_max\n",
      "2023-04-06 18:50.52 [debug    ] Building models...\n",
      "2023-04-06 18:50.52 [debug    ] Models have been built.\n",
      "2023-04-06 18:50.52 [info     ] Parameters are saved to d3rlpy_logs/CQL_20230406185052/params.json params={'action_scaler': {'type': 'min_max', 'params': {'minimum': array([-1., -1., -1.]), 'maximum': array([1., 1., 1.])}}, 'actor_encoder_factory': {'type': 'vector', 'params': {'hidden_units': [30, 30], 'activation': 'relu', 'use_batch_norm': False, 'dropout_rate': None, 'use_dense': False}}, 'actor_learning_rate': 0.0001, 'actor_optim_factory': {'optim_cls': 'Adam', 'betas': (0.9, 0.999), 'eps': 1e-08, 'weight_decay': 0, 'amsgrad': False}, 'alpha_learning_rate': 0.0001, 'alpha_optim_factory': {'optim_cls': 'Adam', 'betas': (0.9, 0.999), 'eps': 1e-08, 'weight_decay': 0, 'amsgrad': False}, 'alpha_threshold': 10.0, 'batch_size': 256, 'conservative_weight': 5.0, 'critic_encoder_factory': {'type': 'vector', 'params': {'hidden_units': [30, 30], 'activation': 'relu', 'use_batch_norm': False, 'dropout_rate': None, 'use_dense': False}}, 'critic_learning_rate': 0.0003, 'critic_optim_factory': {'optim_cls': 'Adam', 'betas': (0.9, 0.999), 'eps': 1e-08, 'weight_decay': 0, 'amsgrad': False}, 'gamma': 0.99, 'generated_maxlen': 100000, 'initial_alpha': 1.0, 'initial_temperature': 1.0, 'n_action_samples': 10, 'n_critics': 2, 'n_frames': 1, 'n_steps': 1, 'q_func_factory': {'type': 'mean', 'params': {'share_encoder': False}}, 'real_ratio': 1.0, 'reward_scaler': None, 'scaler': None, 'soft_q_backup': False, 'tau': 0.005, 'temp_learning_rate': 0.0001, 'temp_optim_factory': {'optim_cls': 'Adam', 'betas': (0.9, 0.999), 'eps': 1e-08, 'weight_decay': 0, 'amsgrad': False}, 'use_gpu': None, 'algorithm': 'CQL', 'observation_shape': (5,), 'action_size': 3}\n"
     ]
    },
    {
     "data": {
      "application/vnd.jupyter.widget-view+json": {
       "model_id": "b8c561c750484e3086dd0c0973450a78",
       "version_major": 2,
       "version_minor": 0
      },
      "text/plain": [
       "Epoch 1/1:   0%|          | 0/10000 [00:00<?, ?it/s]"
      ]
     },
     "metadata": {},
     "output_type": "display_data"
    },
    {
     "name": "stdout",
     "output_type": "stream",
     "text": [
      "2023-04-06 18:55.00 [info     ] CQL_20230406185052: epoch=1 step=10000 epoch=1 metrics={'time_sample_batch': 0.0007520448446273804, 'time_algorithm_update': 0.023359661483764647, 'temp_loss': 3.164150625729561, 'temp': 0.6510522333294153, 'alpha_loss': -28.35629192504883, 'alpha': 1.7860353228926658, 'critic_loss': 29.193618146896362, 'actor_loss': -2.0520142716909757, 'time_step': 0.024630458378791808} step=10000\n",
      "2023-04-06 18:55.00 [info     ] Model parameters are saved to d3rlpy_logs/CQL_20230406185052/model_10000.pt\n"
     ]
    },
    {
     "data": {
      "application/vnd.jupyter.widget-view+json": {
       "model_id": "1d3755bfe00b435da353d1281704fccf",
       "version_major": 2,
       "version_minor": 0
      },
      "text/plain": [
       "[fit FQE model]:   0%|          | 0/2 [00:00<?, ?it/s]"
      ]
     },
     "metadata": {},
     "output_type": "display_data"
    },
    {
     "name": "stdout",
     "output_type": "stream",
     "text": [
      "2023-04-06 18:55.01 [debug    ] RoundIterator is selected.\n",
      "2023-04-06 18:55.01 [info     ] Directory is created at d3rlpy_logs/FQE_20230406185501\n",
      "2023-04-06 18:55.01 [debug    ] Fitting scaler...              scaler=min_max\n",
      "2023-04-06 18:55.01 [debug    ] Fitting action scaler...       action_scaler=min_max\n",
      "2023-04-06 18:55.01 [debug    ] Building models...\n",
      "2023-04-06 18:55.01 [debug    ] Models have been built.\n",
      "2023-04-06 18:55.01 [info     ] Parameters are saved to d3rlpy_logs/FQE_20230406185501/params.json params={'action_scaler': {'type': 'min_max', 'params': {'minimum': array([-1., -1., -1.]), 'maximum': array([1., 1., 1.])}}, 'batch_size': 100, 'encoder_factory': {'type': 'vector', 'params': {'hidden_units': [30, 30], 'activation': 'relu', 'use_batch_norm': False, 'dropout_rate': None, 'use_dense': False}}, 'gamma': 0.95, 'generated_maxlen': 100000, 'learning_rate': 0.0001, 'n_critics': 1, 'n_frames': 1, 'n_steps': 1, 'optim_factory': {'optim_cls': 'Adam', 'betas': (0.9, 0.999), 'eps': 1e-08, 'weight_decay': 0, 'amsgrad': False}, 'q_func_factory': {'type': 'mean', 'params': {'share_encoder': False}}, 'real_ratio': 1.0, 'reward_scaler': None, 'scaler': {'type': 'min_max', 'params': {'maximum': array([0.93177052, 0.96938109, 0.98122661, 0.92325585, 0.95156898]), 'minimum': array([-0.87450289, -0.93912386, -0.99126511, -0.94685462, -0.95953593])}}, 'target_update_interval': 100, 'use_gpu': None, 'algorithm': 'FQE', 'observation_shape': (5,), 'action_size': 3}\n"
     ]
    },
    {
     "data": {
      "application/vnd.jupyter.widget-view+json": {
       "model_id": "e3bbfcce907f4e758466136a0ef7d7c0",
       "version_major": 2,
       "version_minor": 0
      },
      "text/plain": [
       "Epoch 1/1:   0%|          | 0/10 [00:00<?, ?it/s]"
      ]
     },
     "metadata": {},
     "output_type": "display_data"
    },
    {
     "name": "stdout",
     "output_type": "stream",
     "text": [
      "2023-04-06 18:55.01 [info     ] FQE_20230406185501: epoch=1 step=10 epoch=1 metrics={'time_sample_batch': 0.00013239383697509765, 'time_algorithm_update': 0.0041560173034667965, 'loss': 0.12118193060159684, 'time_step': 0.004347801208496094} step=10\n",
      "2023-04-06 18:55.01 [info     ] Model parameters are saved to d3rlpy_logs/FQE_20230406185501/model_10.pt\n",
      "2023-04-06 18:55.01 [debug    ] RoundIterator is selected.\n",
      "2023-04-06 18:55.02 [info     ] Directory is created at d3rlpy_logs/FQE_20230406185502\n",
      "2023-04-06 18:55.02 [debug    ] Fitting scaler...              scaler=min_max\n",
      "2023-04-06 18:55.02 [debug    ] Fitting action scaler...       action_scaler=min_max\n",
      "2023-04-06 18:55.02 [debug    ] Building models...\n",
      "2023-04-06 18:55.02 [debug    ] Models have been built.\n",
      "2023-04-06 18:55.02 [info     ] Parameters are saved to d3rlpy_logs/FQE_20230406185502/params.json params={'action_scaler': {'type': 'min_max', 'params': {'minimum': array([-1., -1., -1.]), 'maximum': array([1., 1., 1.])}}, 'batch_size': 100, 'encoder_factory': {'type': 'vector', 'params': {'hidden_units': [30, 30], 'activation': 'relu', 'use_batch_norm': False, 'dropout_rate': None, 'use_dense': False}}, 'gamma': 0.95, 'generated_maxlen': 100000, 'learning_rate': 0.0001, 'n_critics': 1, 'n_frames': 1, 'n_steps': 1, 'optim_factory': {'optim_cls': 'Adam', 'betas': (0.9, 0.999), 'eps': 1e-08, 'weight_decay': 0, 'amsgrad': False}, 'q_func_factory': {'type': 'mean', 'params': {'share_encoder': False}}, 'real_ratio': 1.0, 'reward_scaler': None, 'scaler': {'type': 'min_max', 'params': {'maximum': array([0.93177052, 0.96938109, 0.98122661, 0.92325585, 0.95156898]), 'minimum': array([-0.87450289, -0.93912386, -0.99126511, -0.94685462, -0.95953593])}}, 'target_update_interval': 100, 'use_gpu': None, 'algorithm': 'FQE', 'observation_shape': (5,), 'action_size': 3}\n"
     ]
    },
    {
     "data": {
      "application/vnd.jupyter.widget-view+json": {
       "model_id": "469b1ddf784d4fab83fb7f476ef1cd6b",
       "version_major": 2,
       "version_minor": 0
      },
      "text/plain": [
       "Epoch 1/1:   0%|          | 0/10 [00:00<?, ?it/s]"
      ]
     },
     "metadata": {},
     "output_type": "display_data"
    },
    {
     "name": "stdout",
     "output_type": "stream",
     "text": [
      "2023-04-06 18:55.02 [info     ] FQE_20230406185502: epoch=1 step=10 epoch=1 metrics={'time_sample_batch': 0.00010113716125488281, 'time_algorithm_update': 0.002953648567199707, 'loss': 0.12341007888317108, 'time_step': 0.0032186031341552733} step=10\n",
      "2023-04-06 18:55.02 [info     ] Model parameters are saved to d3rlpy_logs/FQE_20230406185502/model_10.pt\n"
     ]
    },
    {
     "data": {
      "application/vnd.jupyter.widget-view+json": {
       "model_id": "ca3c40d9fb05474380f9adc5101d1195",
       "version_major": 2,
       "version_minor": 0
      },
      "text/plain": [
       "[fit MWL model]:   0%|          | 0/2 [00:00<?, ?it/s]"
      ]
     },
     "metadata": {},
     "output_type": "display_data"
    },
    {
     "data": {
      "application/vnd.jupyter.widget-view+json": {
       "model_id": "a0877e26889c4fb59a3164f28c96dded",
       "version_major": 2,
       "version_minor": 0
      },
      "text/plain": [
       "[fitting_weight_function]:   0%|          | 0/100 [00:00<?, ?it/s]"
      ]
     },
     "metadata": {},
     "output_type": "display_data"
    },
    {
     "data": {
      "application/vnd.jupyter.widget-view+json": {
       "model_id": "4f563cea49894fd6bca97c005d97001a",
       "version_major": 2,
       "version_minor": 0
      },
      "text/plain": [
       "[fitting_weight_function]:   0%|          | 0/100 [00:00<?, ?it/s]"
      ]
     },
     "metadata": {},
     "output_type": "display_data"
    },
    {
     "data": {
      "application/vnd.jupyter.widget-view+json": {
       "model_id": "10ed7cd99372472b83d6eab3eb785dd3",
       "version_major": 2,
       "version_minor": 0
      },
      "text/plain": [
       "[fitting_weight_function]:   0%|          | 0/100 [00:00<?, ?it/s]"
      ]
     },
     "metadata": {},
     "output_type": "display_data"
    },
    {
     "data": {
      "application/vnd.jupyter.widget-view+json": {
       "model_id": "55c6c198c83f4c31beb27f038e275229",
       "version_major": 2,
       "version_minor": 0
      },
      "text/plain": [
       "[fitting_weight_function]:   0%|          | 0/100 [00:00<?, ?it/s]"
      ]
     },
     "metadata": {},
     "output_type": "display_data"
    },
    {
     "data": {
      "application/vnd.jupyter.widget-view+json": {
       "model_id": "0df122404dbc48eaaca0616edadb1a10",
       "version_major": 2,
       "version_minor": 0
      },
      "text/plain": [
       "[collect input data: eval_policy]:   0%|          | 0/2 [00:00<?, ?it/s]"
      ]
     },
     "metadata": {},
     "output_type": "display_data"
    },
    {
     "data": {
      "application/vnd.jupyter.widget-view+json": {
       "model_id": "794947cf8b8f4e1ebf33f862afe01cfc",
       "version_major": 2,
       "version_minor": 0
      },
      "text/plain": [
       "[calculate on-policy policy value]:   0%|          | 0/100 [00:00<?, ?it/s]"
      ]
     },
     "metadata": {},
     "output_type": "display_data"
    },
    {
     "data": {
      "application/vnd.jupyter.widget-view+json": {
       "model_id": "d7383717af25418faa962b0f56971e50",
       "version_major": 2,
       "version_minor": 0
      },
      "text/plain": [
       "[calculate on-policy policy value]:   0%|          | 0/100 [00:00<?, ?it/s]"
      ]
     },
     "metadata": {},
     "output_type": "display_data"
    },
    {
     "data": {
      "application/vnd.jupyter.widget-view+json": {
       "model_id": "6292b4c2abab410496abe17a9328dda4",
       "version_major": 2,
       "version_minor": 0
      },
      "text/plain": [
       "[obtain_trajectories]:   0%|          | 0/100 [00:00<?, ?it/s]"
      ]
     },
     "metadata": {},
     "output_type": "display_data"
    },
    {
     "data": {
      "application/vnd.jupyter.widget-view+json": {
       "model_id": "2938ceda275441ddb7d93037f91b513f",
       "version_major": 2,
       "version_minor": 0
      },
      "text/plain": [
       "[obtain_trajectories]:   0%|          | 0/100 [00:00<?, ?it/s]"
      ]
     },
     "metadata": {},
     "output_type": "display_data"
    },
    {
     "name": "stdout",
     "output_type": "stream",
     "text": [
      "2023-04-06 18:55.54 [debug    ] RandomIterator is selected.\n",
      "2023-04-06 18:55.54 [info     ] Directory is created at d3rlpy_logs/CQL_20230406185554\n",
      "2023-04-06 18:55.54 [debug    ] Fitting action scaler...       action_scaler=min_max\n",
      "2023-04-06 18:55.54 [debug    ] Building models...\n",
      "2023-04-06 18:55.54 [debug    ] Models have been built.\n",
      "2023-04-06 18:55.54 [info     ] Parameters are saved to d3rlpy_logs/CQL_20230406185554/params.json params={'action_scaler': {'type': 'min_max', 'params': {'minimum': array([-1., -1., -1.]), 'maximum': array([1., 1., 1.])}}, 'actor_encoder_factory': {'type': 'vector', 'params': {'hidden_units': [30, 30], 'activation': 'relu', 'use_batch_norm': False, 'dropout_rate': None, 'use_dense': False}}, 'actor_learning_rate': 0.0001, 'actor_optim_factory': {'optim_cls': 'Adam', 'betas': (0.9, 0.999), 'eps': 1e-08, 'weight_decay': 0, 'amsgrad': False}, 'alpha_learning_rate': 0.0001, 'alpha_optim_factory': {'optim_cls': 'Adam', 'betas': (0.9, 0.999), 'eps': 1e-08, 'weight_decay': 0, 'amsgrad': False}, 'alpha_threshold': 10.0, 'batch_size': 256, 'conservative_weight': 5.0, 'critic_encoder_factory': {'type': 'vector', 'params': {'hidden_units': [30, 30], 'activation': 'relu', 'use_batch_norm': False, 'dropout_rate': None, 'use_dense': False}}, 'critic_learning_rate': 0.0003, 'critic_optim_factory': {'optim_cls': 'Adam', 'betas': (0.9, 0.999), 'eps': 1e-08, 'weight_decay': 0, 'amsgrad': False}, 'gamma': 0.99, 'generated_maxlen': 100000, 'initial_alpha': 1.0, 'initial_temperature': 1.0, 'n_action_samples': 10, 'n_critics': 2, 'n_frames': 1, 'n_steps': 1, 'q_func_factory': {'type': 'mean', 'params': {'share_encoder': False}}, 'real_ratio': 1.0, 'reward_scaler': None, 'scaler': None, 'soft_q_backup': False, 'tau': 0.005, 'temp_learning_rate': 0.0001, 'temp_optim_factory': {'optim_cls': 'Adam', 'betas': (0.9, 0.999), 'eps': 1e-08, 'weight_decay': 0, 'amsgrad': False}, 'use_gpu': None, 'algorithm': 'CQL', 'observation_shape': (5,), 'action_size': 3}\n"
     ]
    },
    {
     "data": {
      "application/vnd.jupyter.widget-view+json": {
       "model_id": "8f1ee76f363a4506892bbd5ec6a27d69",
       "version_major": 2,
       "version_minor": 0
      },
      "text/plain": [
       "Epoch 1/1:   0%|          | 0/10000 [00:00<?, ?it/s]"
      ]
     },
     "metadata": {},
     "output_type": "display_data"
    },
    {
     "name": "stdout",
     "output_type": "stream",
     "text": [
      "2023-04-06 18:59.54 [info     ] CQL_20230406185554: epoch=1 step=10000 epoch=1 metrics={'time_sample_batch': 0.0007366032361984252, 'time_algorithm_update': 0.0226569349527359, 'temp_loss': 3.1608705261826517, 'temp': 0.6510800749003888, 'alpha_loss': -27.89709487915039, 'alpha': 1.7837905735969544, 'critic_loss': 28.68368948612213, 'actor_loss': -1.8551132617748458, 'time_step': 0.02389053347110748} step=10000\n",
      "2023-04-06 18:59.54 [info     ] Model parameters are saved to d3rlpy_logs/CQL_20230406185554/model_10000.pt\n"
     ]
    },
    {
     "data": {
      "application/vnd.jupyter.widget-view+json": {
       "model_id": "a07d7751e22447488696610850713fff",
       "version_major": 2,
       "version_minor": 0
      },
      "text/plain": [
       "[fit FQE model]:   0%|          | 0/2 [00:00<?, ?it/s]"
      ]
     },
     "metadata": {},
     "output_type": "display_data"
    },
    {
     "name": "stdout",
     "output_type": "stream",
     "text": [
      "2023-04-06 18:59.54 [debug    ] RoundIterator is selected.\n",
      "2023-04-06 18:59.54 [info     ] Directory is created at d3rlpy_logs/FQE_20230406185954\n",
      "2023-04-06 18:59.54 [debug    ] Fitting scaler...              scaler=min_max\n",
      "2023-04-06 18:59.54 [debug    ] Fitting action scaler...       action_scaler=min_max\n",
      "2023-04-06 18:59.54 [debug    ] Building models...\n",
      "2023-04-06 18:59.54 [debug    ] Models have been built.\n",
      "2023-04-06 18:59.54 [info     ] Parameters are saved to d3rlpy_logs/FQE_20230406185954/params.json params={'action_scaler': {'type': 'min_max', 'params': {'minimum': array([-1., -1., -1.]), 'maximum': array([1., 1., 1.])}}, 'batch_size': 100, 'encoder_factory': {'type': 'vector', 'params': {'hidden_units': [30, 30], 'activation': 'relu', 'use_batch_norm': False, 'dropout_rate': None, 'use_dense': False}}, 'gamma': 0.95, 'generated_maxlen': 100000, 'learning_rate': 0.0001, 'n_critics': 1, 'n_frames': 1, 'n_steps': 1, 'optim_factory': {'optim_cls': 'Adam', 'betas': (0.9, 0.999), 'eps': 1e-08, 'weight_decay': 0, 'amsgrad': False}, 'q_func_factory': {'type': 'mean', 'params': {'share_encoder': False}}, 'real_ratio': 1.0, 'reward_scaler': None, 'scaler': {'type': 'min_max', 'params': {'maximum': array([0.92607575, 0.95621381, 0.98410713, 0.93802473, 0.96760759]), 'minimum': array([-0.93503268, -0.94747529, -0.98947762, -0.93436373, -0.98485805])}}, 'target_update_interval': 100, 'use_gpu': None, 'algorithm': 'FQE', 'observation_shape': (5,), 'action_size': 3}\n"
     ]
    },
    {
     "data": {
      "application/vnd.jupyter.widget-view+json": {
       "model_id": "9a32a02db52f42088b0a2314e5dbe024",
       "version_major": 2,
       "version_minor": 0
      },
      "text/plain": [
       "Epoch 1/1:   0%|          | 0/10 [00:00<?, ?it/s]"
      ]
     },
     "metadata": {},
     "output_type": "display_data"
    },
    {
     "name": "stdout",
     "output_type": "stream",
     "text": [
      "2023-04-06 18:59.54 [info     ] FQE_20230406185954: epoch=1 step=10 epoch=1 metrics={'time_sample_batch': 0.00011551380157470703, 'time_algorithm_update': 0.002139711380004883, 'loss': 0.12352808639407158, 'time_step': 0.0023063182830810546} step=10\n",
      "2023-04-06 18:59.54 [info     ] Model parameters are saved to d3rlpy_logs/FQE_20230406185954/model_10.pt\n",
      "2023-04-06 18:59.54 [debug    ] RoundIterator is selected.\n",
      "2023-04-06 18:59.55 [info     ] Directory is created at d3rlpy_logs/FQE_20230406185955\n",
      "2023-04-06 18:59.55 [debug    ] Fitting scaler...              scaler=min_max\n",
      "2023-04-06 18:59.55 [debug    ] Fitting action scaler...       action_scaler=min_max\n",
      "2023-04-06 18:59.55 [debug    ] Building models...\n",
      "2023-04-06 18:59.55 [debug    ] Models have been built.\n",
      "2023-04-06 18:59.55 [info     ] Parameters are saved to d3rlpy_logs/FQE_20230406185955/params.json params={'action_scaler': {'type': 'min_max', 'params': {'minimum': array([-1., -1., -1.]), 'maximum': array([1., 1., 1.])}}, 'batch_size': 100, 'encoder_factory': {'type': 'vector', 'params': {'hidden_units': [30, 30], 'activation': 'relu', 'use_batch_norm': False, 'dropout_rate': None, 'use_dense': False}}, 'gamma': 0.95, 'generated_maxlen': 100000, 'learning_rate': 0.0001, 'n_critics': 1, 'n_frames': 1, 'n_steps': 1, 'optim_factory': {'optim_cls': 'Adam', 'betas': (0.9, 0.999), 'eps': 1e-08, 'weight_decay': 0, 'amsgrad': False}, 'q_func_factory': {'type': 'mean', 'params': {'share_encoder': False}}, 'real_ratio': 1.0, 'reward_scaler': None, 'scaler': {'type': 'min_max', 'params': {'maximum': array([0.92607575, 0.95621381, 0.98410713, 0.93802473, 0.96760759]), 'minimum': array([-0.93503268, -0.94747529, -0.98947762, -0.93436373, -0.98485805])}}, 'target_update_interval': 100, 'use_gpu': None, 'algorithm': 'FQE', 'observation_shape': (5,), 'action_size': 3}\n"
     ]
    },
    {
     "data": {
      "application/vnd.jupyter.widget-view+json": {
       "model_id": "fbb75ec8776446d1b8c780afe07bb0be",
       "version_major": 2,
       "version_minor": 0
      },
      "text/plain": [
       "Epoch 1/1:   0%|          | 0/10 [00:00<?, ?it/s]"
      ]
     },
     "metadata": {},
     "output_type": "display_data"
    },
    {
     "name": "stdout",
     "output_type": "stream",
     "text": [
      "2023-04-06 18:59.55 [info     ] FQE_20230406185955: epoch=1 step=10 epoch=1 metrics={'time_sample_batch': 0.00010938644409179688, 'time_algorithm_update': 0.004101943969726562, 'loss': 0.12269874364137649, 'time_step': 0.004333186149597168} step=10\n",
      "2023-04-06 18:59.55 [info     ] Model parameters are saved to d3rlpy_logs/FQE_20230406185955/model_10.pt\n"
     ]
    },
    {
     "data": {
      "application/vnd.jupyter.widget-view+json": {
       "model_id": "5bf6e64e689a488cbd08dc4331083c70",
       "version_major": 2,
       "version_minor": 0
      },
      "text/plain": [
       "[fit MWL model]:   0%|          | 0/2 [00:00<?, ?it/s]"
      ]
     },
     "metadata": {},
     "output_type": "display_data"
    },
    {
     "data": {
      "application/vnd.jupyter.widget-view+json": {
       "model_id": "3d1e26743fc24f2586d2e274a3854f0d",
       "version_major": 2,
       "version_minor": 0
      },
      "text/plain": [
       "[fitting_weight_function]:   0%|          | 0/100 [00:00<?, ?it/s]"
      ]
     },
     "metadata": {},
     "output_type": "display_data"
    },
    {
     "data": {
      "application/vnd.jupyter.widget-view+json": {
       "model_id": "8edb7af56df84aea955a48ee42d302f7",
       "version_major": 2,
       "version_minor": 0
      },
      "text/plain": [
       "[fitting_weight_function]:   0%|          | 0/100 [00:00<?, ?it/s]"
      ]
     },
     "metadata": {},
     "output_type": "display_data"
    },
    {
     "data": {
      "application/vnd.jupyter.widget-view+json": {
       "model_id": "bdb23370e67548a887f9c416378eed1c",
       "version_major": 2,
       "version_minor": 0
      },
      "text/plain": [
       "[fitting_weight_function]:   0%|          | 0/100 [00:00<?, ?it/s]"
      ]
     },
     "metadata": {},
     "output_type": "display_data"
    },
    {
     "data": {
      "application/vnd.jupyter.widget-view+json": {
       "model_id": "64e727eee2244eb48e8d67b07b223789",
       "version_major": 2,
       "version_minor": 0
      },
      "text/plain": [
       "[fitting_weight_function]:   0%|          | 0/100 [00:00<?, ?it/s]"
      ]
     },
     "metadata": {},
     "output_type": "display_data"
    },
    {
     "data": {
      "application/vnd.jupyter.widget-view+json": {
       "model_id": "779155dfb327448db8a8e492f684659b",
       "version_major": 2,
       "version_minor": 0
      },
      "text/plain": [
       "[collect input data: eval_policy]:   0%|          | 0/2 [00:00<?, ?it/s]"
      ]
     },
     "metadata": {},
     "output_type": "display_data"
    },
    {
     "data": {
      "application/vnd.jupyter.widget-view+json": {
       "model_id": "c7c2ee80fe624711b741a5f108f26de1",
       "version_major": 2,
       "version_minor": 0
      },
      "text/plain": [
       "[calculate on-policy policy value]:   0%|          | 0/100 [00:00<?, ?it/s]"
      ]
     },
     "metadata": {},
     "output_type": "display_data"
    },
    {
     "data": {
      "application/vnd.jupyter.widget-view+json": {
       "model_id": "2c304e89a73f4013a8b5487349367f9c",
       "version_major": 2,
       "version_minor": 0
      },
      "text/plain": [
       "[calculate on-policy policy value]:   0%|          | 0/100 [00:00<?, ?it/s]"
      ]
     },
     "metadata": {},
     "output_type": "display_data"
    },
    {
     "data": {
      "application/vnd.jupyter.widget-view+json": {
       "model_id": "ab0361f0e8b845a1818d9b3f2fccfce0",
       "version_major": 2,
       "version_minor": 0
      },
      "text/plain": [
       "[obtain_trajectories]:   0%|          | 0/200 [00:00<?, ?it/s]"
      ]
     },
     "metadata": {},
     "output_type": "display_data"
    },
    {
     "data": {
      "application/vnd.jupyter.widget-view+json": {
       "model_id": "4ffcc66f6ebb445f8e0816db5ee60b2a",
       "version_major": 2,
       "version_minor": 0
      },
      "text/plain": [
       "[obtain_trajectories]:   0%|          | 0/200 [00:00<?, ?it/s]"
      ]
     },
     "metadata": {},
     "output_type": "display_data"
    },
    {
     "name": "stdout",
     "output_type": "stream",
     "text": [
      "2023-04-06 19:00.46 [debug    ] RandomIterator is selected.\n",
      "2023-04-06 19:00.46 [info     ] Directory is created at d3rlpy_logs/CQL_20230406190046\n",
      "2023-04-06 19:00.46 [debug    ] Fitting action scaler...       action_scaler=min_max\n",
      "2023-04-06 19:00.46 [debug    ] Building models...\n",
      "2023-04-06 19:00.46 [debug    ] Models have been built.\n",
      "2023-04-06 19:00.46 [info     ] Parameters are saved to d3rlpy_logs/CQL_20230406190046/params.json params={'action_scaler': {'type': 'min_max', 'params': {'minimum': array([-1., -1., -1.]), 'maximum': array([1., 1., 1.])}}, 'actor_encoder_factory': {'type': 'vector', 'params': {'hidden_units': [30, 30], 'activation': 'relu', 'use_batch_norm': False, 'dropout_rate': None, 'use_dense': False}}, 'actor_learning_rate': 0.0001, 'actor_optim_factory': {'optim_cls': 'Adam', 'betas': (0.9, 0.999), 'eps': 1e-08, 'weight_decay': 0, 'amsgrad': False}, 'alpha_learning_rate': 0.0001, 'alpha_optim_factory': {'optim_cls': 'Adam', 'betas': (0.9, 0.999), 'eps': 1e-08, 'weight_decay': 0, 'amsgrad': False}, 'alpha_threshold': 10.0, 'batch_size': 256, 'conservative_weight': 5.0, 'critic_encoder_factory': {'type': 'vector', 'params': {'hidden_units': [30, 30], 'activation': 'relu', 'use_batch_norm': False, 'dropout_rate': None, 'use_dense': False}}, 'critic_learning_rate': 0.0003, 'critic_optim_factory': {'optim_cls': 'Adam', 'betas': (0.9, 0.999), 'eps': 1e-08, 'weight_decay': 0, 'amsgrad': False}, 'gamma': 0.99, 'generated_maxlen': 100000, 'initial_alpha': 1.0, 'initial_temperature': 1.0, 'n_action_samples': 10, 'n_critics': 2, 'n_frames': 1, 'n_steps': 1, 'q_func_factory': {'type': 'mean', 'params': {'share_encoder': False}}, 'real_ratio': 1.0, 'reward_scaler': None, 'scaler': None, 'soft_q_backup': False, 'tau': 0.005, 'temp_learning_rate': 0.0001, 'temp_optim_factory': {'optim_cls': 'Adam', 'betas': (0.9, 0.999), 'eps': 1e-08, 'weight_decay': 0, 'amsgrad': False}, 'use_gpu': None, 'algorithm': 'CQL', 'observation_shape': (5,), 'action_size': 3}\n"
     ]
    },
    {
     "data": {
      "application/vnd.jupyter.widget-view+json": {
       "model_id": "2efea2e4a12f48afb6d0560bdd43447a",
       "version_major": 2,
       "version_minor": 0
      },
      "text/plain": [
       "Epoch 1/1:   0%|          | 0/10000 [00:00<?, ?it/s]"
      ]
     },
     "metadata": {},
     "output_type": "display_data"
    },
    {
     "name": "stdout",
     "output_type": "stream",
     "text": [
      "2023-04-06 19:04.55 [info     ] CQL_20230406190046: epoch=1 step=10000 epoch=1 metrics={'time_sample_batch': 0.0007571830749511719, 'time_algorithm_update': 0.023434952402114868, 'temp_loss': 3.205307356500626, 'temp': 0.650357191208005, 'alpha_loss': -29.82080643520355, 'alpha': 1.7924246890664102, 'critic_loss': 30.62608609905243, 'actor_loss': -2.6539609610319137, 'time_step': 0.024688918328285216} step=10000\n",
      "2023-04-06 19:04.55 [info     ] Model parameters are saved to d3rlpy_logs/CQL_20230406190046/model_10000.pt\n"
     ]
    },
    {
     "data": {
      "application/vnd.jupyter.widget-view+json": {
       "model_id": "680a06ea0ea541c5b8fa5d23c9e4e45a",
       "version_major": 2,
       "version_minor": 0
      },
      "text/plain": [
       "[fit FQE model]:   0%|          | 0/2 [00:00<?, ?it/s]"
      ]
     },
     "metadata": {},
     "output_type": "display_data"
    },
    {
     "name": "stdout",
     "output_type": "stream",
     "text": [
      "2023-04-06 19:04.55 [debug    ] RoundIterator is selected.\n",
      "2023-04-06 19:04.55 [info     ] Directory is created at d3rlpy_logs/FQE_20230406190455\n",
      "2023-04-06 19:04.55 [debug    ] Fitting scaler...              scaler=min_max\n",
      "2023-04-06 19:04.55 [debug    ] Fitting action scaler...       action_scaler=min_max\n",
      "2023-04-06 19:04.55 [debug    ] Building models...\n",
      "2023-04-06 19:04.55 [debug    ] Models have been built.\n",
      "2023-04-06 19:04.55 [info     ] Parameters are saved to d3rlpy_logs/FQE_20230406190455/params.json params={'action_scaler': {'type': 'min_max', 'params': {'minimum': array([-1., -1., -1.]), 'maximum': array([1., 1., 1.])}}, 'batch_size': 100, 'encoder_factory': {'type': 'vector', 'params': {'hidden_units': [30, 30], 'activation': 'relu', 'use_batch_norm': False, 'dropout_rate': None, 'use_dense': False}}, 'gamma': 0.95, 'generated_maxlen': 100000, 'learning_rate': 0.0001, 'n_critics': 1, 'n_frames': 1, 'n_steps': 1, 'optim_factory': {'optim_cls': 'Adam', 'betas': (0.9, 0.999), 'eps': 1e-08, 'weight_decay': 0, 'amsgrad': False}, 'q_func_factory': {'type': 'mean', 'params': {'share_encoder': False}}, 'real_ratio': 1.0, 'reward_scaler': None, 'scaler': {'type': 'min_max', 'params': {'maximum': array([0.95342386, 0.97384374, 0.9904767 , 0.96133844, 0.99202462]), 'minimum': array([-0.95107817, -0.9121682 , -0.99012777, -0.95485624, -0.99281031])}}, 'target_update_interval': 100, 'use_gpu': None, 'algorithm': 'FQE', 'observation_shape': (5,), 'action_size': 3}\n"
     ]
    },
    {
     "data": {
      "application/vnd.jupyter.widget-view+json": {
       "model_id": "d1c32a69cb5e499eb98b4f017ef009da",
       "version_major": 2,
       "version_minor": 0
      },
      "text/plain": [
       "Epoch 1/1:   0%|          | 0/20 [00:00<?, ?it/s]"
      ]
     },
     "metadata": {},
     "output_type": "display_data"
    },
    {
     "name": "stdout",
     "output_type": "stream",
     "text": [
      "2023-04-06 19:04.55 [info     ] FQE_20230406190455: epoch=1 step=20 epoch=1 metrics={'time_sample_batch': 0.00011931657791137695, 'time_algorithm_update': 0.0017000794410705566, 'loss': 0.13679753355681895, 'time_step': 0.0018754124641418457} step=20\n",
      "2023-04-06 19:04.55 [info     ] Model parameters are saved to d3rlpy_logs/FQE_20230406190455/model_20.pt\n",
      "2023-04-06 19:04.55 [debug    ] RoundIterator is selected.\n",
      "2023-04-06 19:04.56 [info     ] Directory is created at d3rlpy_logs/FQE_20230406190456\n",
      "2023-04-06 19:04.56 [debug    ] Fitting scaler...              scaler=min_max\n",
      "2023-04-06 19:04.56 [debug    ] Fitting action scaler...       action_scaler=min_max\n",
      "2023-04-06 19:04.56 [debug    ] Building models...\n",
      "2023-04-06 19:04.56 [debug    ] Models have been built.\n",
      "2023-04-06 19:04.56 [info     ] Parameters are saved to d3rlpy_logs/FQE_20230406190456/params.json params={'action_scaler': {'type': 'min_max', 'params': {'minimum': array([-1., -1., -1.]), 'maximum': array([1., 1., 1.])}}, 'batch_size': 100, 'encoder_factory': {'type': 'vector', 'params': {'hidden_units': [30, 30], 'activation': 'relu', 'use_batch_norm': False, 'dropout_rate': None, 'use_dense': False}}, 'gamma': 0.95, 'generated_maxlen': 100000, 'learning_rate': 0.0001, 'n_critics': 1, 'n_frames': 1, 'n_steps': 1, 'optim_factory': {'optim_cls': 'Adam', 'betas': (0.9, 0.999), 'eps': 1e-08, 'weight_decay': 0, 'amsgrad': False}, 'q_func_factory': {'type': 'mean', 'params': {'share_encoder': False}}, 'real_ratio': 1.0, 'reward_scaler': None, 'scaler': {'type': 'min_max', 'params': {'maximum': array([0.95342386, 0.97384374, 0.9904767 , 0.96133844, 0.99202462]), 'minimum': array([-0.95107817, -0.9121682 , -0.99012777, -0.95485624, -0.99281031])}}, 'target_update_interval': 100, 'use_gpu': None, 'algorithm': 'FQE', 'observation_shape': (5,), 'action_size': 3}\n"
     ]
    },
    {
     "data": {
      "application/vnd.jupyter.widget-view+json": {
       "model_id": "d53d44b4b5ec426b8d429ed506ee5dac",
       "version_major": 2,
       "version_minor": 0
      },
      "text/plain": [
       "Epoch 1/1:   0%|          | 0/20 [00:00<?, ?it/s]"
      ]
     },
     "metadata": {},
     "output_type": "display_data"
    },
    {
     "name": "stdout",
     "output_type": "stream",
     "text": [
      "2023-04-06 19:04.56 [info     ] FQE_20230406190456: epoch=1 step=20 epoch=1 metrics={'time_sample_batch': 9.598731994628907e-05, 'time_algorithm_update': 0.001812124252319336, 'loss': 0.13268057852983475, 'time_step': 0.001964282989501953} step=20\n",
      "2023-04-06 19:04.56 [info     ] Model parameters are saved to d3rlpy_logs/FQE_20230406190456/model_20.pt\n"
     ]
    },
    {
     "data": {
      "application/vnd.jupyter.widget-view+json": {
       "model_id": "06ab8f32f8b2401a8e01155b10b6e6d0",
       "version_major": 2,
       "version_minor": 0
      },
      "text/plain": [
       "[fit MWL model]:   0%|          | 0/2 [00:00<?, ?it/s]"
      ]
     },
     "metadata": {},
     "output_type": "display_data"
    },
    {
     "data": {
      "application/vnd.jupyter.widget-view+json": {
       "model_id": "48c64f82468943c795208b65af984723",
       "version_major": 2,
       "version_minor": 0
      },
      "text/plain": [
       "[fitting_weight_function]:   0%|          | 0/100 [00:00<?, ?it/s]"
      ]
     },
     "metadata": {},
     "output_type": "display_data"
    },
    {
     "data": {
      "application/vnd.jupyter.widget-view+json": {
       "model_id": "f6cf188093514a79b70ccc8bdc8b58f5",
       "version_major": 2,
       "version_minor": 0
      },
      "text/plain": [
       "[fitting_weight_function]:   0%|          | 0/100 [00:00<?, ?it/s]"
      ]
     },
     "metadata": {},
     "output_type": "display_data"
    },
    {
     "data": {
      "application/vnd.jupyter.widget-view+json": {
       "model_id": "4b9730b93db34fbc88d1b52b4c6b56e9",
       "version_major": 2,
       "version_minor": 0
      },
      "text/plain": [
       "[fitting_weight_function]:   0%|          | 0/100 [00:00<?, ?it/s]"
      ]
     },
     "metadata": {},
     "output_type": "display_data"
    },
    {
     "data": {
      "application/vnd.jupyter.widget-view+json": {
       "model_id": "28b15608205c48eb865d5e92be8129a6",
       "version_major": 2,
       "version_minor": 0
      },
      "text/plain": [
       "[fitting_weight_function]:   0%|          | 0/100 [00:00<?, ?it/s]"
      ]
     },
     "metadata": {},
     "output_type": "display_data"
    },
    {
     "data": {
      "application/vnd.jupyter.widget-view+json": {
       "model_id": "c48b7e90870c47fdbf9081cc2bf4fc7c",
       "version_major": 2,
       "version_minor": 0
      },
      "text/plain": [
       "[collect input data: eval_policy]:   0%|          | 0/2 [00:00<?, ?it/s]"
      ]
     },
     "metadata": {},
     "output_type": "display_data"
    },
    {
     "data": {
      "application/vnd.jupyter.widget-view+json": {
       "model_id": "9f7126282fb04b999368f5d5372645a1",
       "version_major": 2,
       "version_minor": 0
      },
      "text/plain": [
       "[calculate on-policy policy value]:   0%|          | 0/100 [00:00<?, ?it/s]"
      ]
     },
     "metadata": {},
     "output_type": "display_data"
    },
    {
     "data": {
      "application/vnd.jupyter.widget-view+json": {
       "model_id": "3e8b6a7289694b6fbd647ce89e2aa7f2",
       "version_major": 2,
       "version_minor": 0
      },
      "text/plain": [
       "[calculate on-policy policy value]:   0%|          | 0/100 [00:00<?, ?it/s]"
      ]
     },
     "metadata": {},
     "output_type": "display_data"
    },
    {
     "data": {
      "application/vnd.jupyter.widget-view+json": {
       "model_id": "30f441dd84f64fd5a5c2f7792aef1b4e",
       "version_major": 2,
       "version_minor": 0
      },
      "text/plain": [
       "[obtain_trajectories]:   0%|          | 0/200 [00:00<?, ?it/s]"
      ]
     },
     "metadata": {},
     "output_type": "display_data"
    },
    {
     "data": {
      "application/vnd.jupyter.widget-view+json": {
       "model_id": "09695dc666764ddd978d64bb88933fdf",
       "version_major": 2,
       "version_minor": 0
      },
      "text/plain": [
       "[obtain_trajectories]:   0%|          | 0/200 [00:00<?, ?it/s]"
      ]
     },
     "metadata": {},
     "output_type": "display_data"
    },
    {
     "name": "stdout",
     "output_type": "stream",
     "text": [
      "2023-04-06 19:05.50 [debug    ] RandomIterator is selected.\n",
      "2023-04-06 19:05.50 [info     ] Directory is created at d3rlpy_logs/CQL_20230406190550\n",
      "2023-04-06 19:05.50 [debug    ] Fitting action scaler...       action_scaler=min_max\n",
      "2023-04-06 19:05.50 [debug    ] Building models...\n",
      "2023-04-06 19:05.50 [debug    ] Models have been built.\n",
      "2023-04-06 19:05.50 [info     ] Parameters are saved to d3rlpy_logs/CQL_20230406190550/params.json params={'action_scaler': {'type': 'min_max', 'params': {'minimum': array([-1., -1., -1.]), 'maximum': array([1., 1., 1.])}}, 'actor_encoder_factory': {'type': 'vector', 'params': {'hidden_units': [30, 30], 'activation': 'relu', 'use_batch_norm': False, 'dropout_rate': None, 'use_dense': False}}, 'actor_learning_rate': 0.0001, 'actor_optim_factory': {'optim_cls': 'Adam', 'betas': (0.9, 0.999), 'eps': 1e-08, 'weight_decay': 0, 'amsgrad': False}, 'alpha_learning_rate': 0.0001, 'alpha_optim_factory': {'optim_cls': 'Adam', 'betas': (0.9, 0.999), 'eps': 1e-08, 'weight_decay': 0, 'amsgrad': False}, 'alpha_threshold': 10.0, 'batch_size': 256, 'conservative_weight': 5.0, 'critic_encoder_factory': {'type': 'vector', 'params': {'hidden_units': [30, 30], 'activation': 'relu', 'use_batch_norm': False, 'dropout_rate': None, 'use_dense': False}}, 'critic_learning_rate': 0.0003, 'critic_optim_factory': {'optim_cls': 'Adam', 'betas': (0.9, 0.999), 'eps': 1e-08, 'weight_decay': 0, 'amsgrad': False}, 'gamma': 0.99, 'generated_maxlen': 100000, 'initial_alpha': 1.0, 'initial_temperature': 1.0, 'n_action_samples': 10, 'n_critics': 2, 'n_frames': 1, 'n_steps': 1, 'q_func_factory': {'type': 'mean', 'params': {'share_encoder': False}}, 'real_ratio': 1.0, 'reward_scaler': None, 'scaler': None, 'soft_q_backup': False, 'tau': 0.005, 'temp_learning_rate': 0.0001, 'temp_optim_factory': {'optim_cls': 'Adam', 'betas': (0.9, 0.999), 'eps': 1e-08, 'weight_decay': 0, 'amsgrad': False}, 'use_gpu': None, 'algorithm': 'CQL', 'observation_shape': (5,), 'action_size': 3}\n"
     ]
    },
    {
     "data": {
      "application/vnd.jupyter.widget-view+json": {
       "model_id": "8dd0dc0a6c9645fb98464a204c952e92",
       "version_major": 2,
       "version_minor": 0
      },
      "text/plain": [
       "Epoch 1/1:   0%|          | 0/10000 [00:00<?, ?it/s]"
      ]
     },
     "metadata": {},
     "output_type": "display_data"
    },
    {
     "name": "stdout",
     "output_type": "stream",
     "text": [
      "2023-04-06 19:09.53 [info     ] CQL_20230406190550: epoch=1 step=10000 epoch=1 metrics={'time_sample_batch': 0.0007470451593399048, 'time_algorithm_update': 0.022931492066383362, 'temp_loss': 3.1977066967606547, 'temp': 0.6504513043254614, 'alpha_loss': -29.579783706283568, 'alpha': 1.79155805747509, 'critic_loss': 30.463005171966554, 'actor_loss': -2.69284927393198, 'time_step': 0.02417562816143036} step=10000\n",
      "2023-04-06 19:09.53 [info     ] Model parameters are saved to d3rlpy_logs/CQL_20230406190550/model_10000.pt\n"
     ]
    },
    {
     "data": {
      "application/vnd.jupyter.widget-view+json": {
       "model_id": "37724d108cb04db28e07c81a9c98eb9f",
       "version_major": 2,
       "version_minor": 0
      },
      "text/plain": [
       "[fit FQE model]:   0%|          | 0/2 [00:00<?, ?it/s]"
      ]
     },
     "metadata": {},
     "output_type": "display_data"
    },
    {
     "name": "stdout",
     "output_type": "stream",
     "text": [
      "2023-04-06 19:09.53 [debug    ] RoundIterator is selected.\n",
      "2023-04-06 19:09.53 [info     ] Directory is created at d3rlpy_logs/FQE_20230406190953\n",
      "2023-04-06 19:09.53 [debug    ] Fitting scaler...              scaler=min_max\n",
      "2023-04-06 19:09.53 [debug    ] Fitting action scaler...       action_scaler=min_max\n",
      "2023-04-06 19:09.53 [debug    ] Building models...\n",
      "2023-04-06 19:09.53 [debug    ] Models have been built.\n",
      "2023-04-06 19:09.53 [info     ] Parameters are saved to d3rlpy_logs/FQE_20230406190953/params.json params={'action_scaler': {'type': 'min_max', 'params': {'minimum': array([-1., -1., -1.]), 'maximum': array([1., 1., 1.])}}, 'batch_size': 100, 'encoder_factory': {'type': 'vector', 'params': {'hidden_units': [30, 30], 'activation': 'relu', 'use_batch_norm': False, 'dropout_rate': None, 'use_dense': False}}, 'gamma': 0.95, 'generated_maxlen': 100000, 'learning_rate': 0.0001, 'n_critics': 1, 'n_frames': 1, 'n_steps': 1, 'optim_factory': {'optim_cls': 'Adam', 'betas': (0.9, 0.999), 'eps': 1e-08, 'weight_decay': 0, 'amsgrad': False}, 'q_func_factory': {'type': 'mean', 'params': {'share_encoder': False}}, 'real_ratio': 1.0, 'reward_scaler': None, 'scaler': {'type': 'min_max', 'params': {'maximum': array([0.93518931, 0.936655  , 0.98877947, 0.94246799, 0.96583389]), 'minimum': array([-0.87854574, -0.93054807, -0.9889157 , -0.91712046, -0.99029476])}}, 'target_update_interval': 100, 'use_gpu': None, 'algorithm': 'FQE', 'observation_shape': (5,), 'action_size': 3}\n"
     ]
    },
    {
     "data": {
      "application/vnd.jupyter.widget-view+json": {
       "model_id": "140fd99ec69a40e1b8965d071f273659",
       "version_major": 2,
       "version_minor": 0
      },
      "text/plain": [
       "Epoch 1/1:   0%|          | 0/20 [00:00<?, ?it/s]"
      ]
     },
     "metadata": {},
     "output_type": "display_data"
    },
    {
     "name": "stdout",
     "output_type": "stream",
     "text": [
      "2023-04-06 19:09.53 [info     ] FQE_20230406190953: epoch=1 step=20 epoch=1 metrics={'time_sample_batch': 0.00011281967163085937, 'time_algorithm_update': 0.0018888473510742187, 'loss': 0.13307394757866858, 'time_step': 0.0020781755447387695} step=20\n",
      "2023-04-06 19:09.53 [info     ] Model parameters are saved to d3rlpy_logs/FQE_20230406190953/model_20.pt\n",
      "2023-04-06 19:09.53 [debug    ] RoundIterator is selected.\n",
      "2023-04-06 19:09.54 [info     ] Directory is created at d3rlpy_logs/FQE_20230406190954\n",
      "2023-04-06 19:09.54 [debug    ] Fitting scaler...              scaler=min_max\n",
      "2023-04-06 19:09.54 [debug    ] Fitting action scaler...       action_scaler=min_max\n",
      "2023-04-06 19:09.54 [debug    ] Building models...\n",
      "2023-04-06 19:09.54 [debug    ] Models have been built.\n",
      "2023-04-06 19:09.54 [info     ] Parameters are saved to d3rlpy_logs/FQE_20230406190954/params.json params={'action_scaler': {'type': 'min_max', 'params': {'minimum': array([-1., -1., -1.]), 'maximum': array([1., 1., 1.])}}, 'batch_size': 100, 'encoder_factory': {'type': 'vector', 'params': {'hidden_units': [30, 30], 'activation': 'relu', 'use_batch_norm': False, 'dropout_rate': None, 'use_dense': False}}, 'gamma': 0.95, 'generated_maxlen': 100000, 'learning_rate': 0.0001, 'n_critics': 1, 'n_frames': 1, 'n_steps': 1, 'optim_factory': {'optim_cls': 'Adam', 'betas': (0.9, 0.999), 'eps': 1e-08, 'weight_decay': 0, 'amsgrad': False}, 'q_func_factory': {'type': 'mean', 'params': {'share_encoder': False}}, 'real_ratio': 1.0, 'reward_scaler': None, 'scaler': {'type': 'min_max', 'params': {'maximum': array([0.93518931, 0.936655  , 0.98877947, 0.94246799, 0.96583389]), 'minimum': array([-0.87854574, -0.93054807, -0.9889157 , -0.91712046, -0.99029476])}}, 'target_update_interval': 100, 'use_gpu': None, 'algorithm': 'FQE', 'observation_shape': (5,), 'action_size': 3}\n"
     ]
    },
    {
     "data": {
      "application/vnd.jupyter.widget-view+json": {
       "model_id": "f433d5cf571a4481963f52d6222ac749",
       "version_major": 2,
       "version_minor": 0
      },
      "text/plain": [
       "Epoch 1/1:   0%|          | 0/20 [00:00<?, ?it/s]"
      ]
     },
     "metadata": {},
     "output_type": "display_data"
    },
    {
     "name": "stdout",
     "output_type": "stream",
     "text": [
      "2023-04-06 19:09.54 [info     ] FQE_20230406190954: epoch=1 step=20 epoch=1 metrics={'time_sample_batch': 0.00010701417922973633, 'time_algorithm_update': 0.0017268896102905274, 'loss': 0.11885380446910858, 'time_step': 0.0018937349319458007} step=20\n",
      "2023-04-06 19:09.54 [info     ] Model parameters are saved to d3rlpy_logs/FQE_20230406190954/model_20.pt\n"
     ]
    },
    {
     "data": {
      "application/vnd.jupyter.widget-view+json": {
       "model_id": "8cc05dbac52e4e08b77a65b4d2e9b466",
       "version_major": 2,
       "version_minor": 0
      },
      "text/plain": [
       "[fit MWL model]:   0%|          | 0/2 [00:00<?, ?it/s]"
      ]
     },
     "metadata": {},
     "output_type": "display_data"
    },
    {
     "data": {
      "application/vnd.jupyter.widget-view+json": {
       "model_id": "b7ccae5755f64b5da15e84a6ad738ec9",
       "version_major": 2,
       "version_minor": 0
      },
      "text/plain": [
       "[fitting_weight_function]:   0%|          | 0/100 [00:00<?, ?it/s]"
      ]
     },
     "metadata": {},
     "output_type": "display_data"
    },
    {
     "data": {
      "application/vnd.jupyter.widget-view+json": {
       "model_id": "e66316687f114335987f43d6622d875a",
       "version_major": 2,
       "version_minor": 0
      },
      "text/plain": [
       "[fitting_weight_function]:   0%|          | 0/100 [00:00<?, ?it/s]"
      ]
     },
     "metadata": {},
     "output_type": "display_data"
    },
    {
     "data": {
      "application/vnd.jupyter.widget-view+json": {
       "model_id": "3259f906e103491682d844fc71a90512",
       "version_major": 2,
       "version_minor": 0
      },
      "text/plain": [
       "[fitting_weight_function]:   0%|          | 0/100 [00:00<?, ?it/s]"
      ]
     },
     "metadata": {},
     "output_type": "display_data"
    },
    {
     "data": {
      "application/vnd.jupyter.widget-view+json": {
       "model_id": "60f62b2402e442b9800846645481fceb",
       "version_major": 2,
       "version_minor": 0
      },
      "text/plain": [
       "[fitting_weight_function]:   0%|          | 0/100 [00:00<?, ?it/s]"
      ]
     },
     "metadata": {},
     "output_type": "display_data"
    },
    {
     "data": {
      "application/vnd.jupyter.widget-view+json": {
       "model_id": "ecf7192c1a3849ed97864b3e7e8030e7",
       "version_major": 2,
       "version_minor": 0
      },
      "text/plain": [
       "[collect input data: eval_policy]:   0%|          | 0/2 [00:00<?, ?it/s]"
      ]
     },
     "metadata": {},
     "output_type": "display_data"
    },
    {
     "data": {
      "application/vnd.jupyter.widget-view+json": {
       "model_id": "1975c2e972e0497588f553f36597186b",
       "version_major": 2,
       "version_minor": 0
      },
      "text/plain": [
       "[calculate on-policy policy value]:   0%|          | 0/100 [00:00<?, ?it/s]"
      ]
     },
     "metadata": {},
     "output_type": "display_data"
    },
    {
     "data": {
      "application/vnd.jupyter.widget-view+json": {
       "model_id": "87fdd321bf2547bc9250e76a10e43be5",
       "version_major": 2,
       "version_minor": 0
      },
      "text/plain": [
       "[calculate on-policy policy value]:   0%|          | 0/100 [00:00<?, ?it/s]"
      ]
     },
     "metadata": {},
     "output_type": "display_data"
    },
    {
     "data": {
      "application/vnd.jupyter.widget-view+json": {
       "model_id": "e5e998ffc7fa4d188642dc379f16942e",
       "version_major": 2,
       "version_minor": 0
      },
      "text/plain": [
       "[obtain_trajectories]:   0%|          | 0/200 [00:00<?, ?it/s]"
      ]
     },
     "metadata": {},
     "output_type": "display_data"
    },
    {
     "data": {
      "application/vnd.jupyter.widget-view+json": {
       "model_id": "cfa3b04099d84ffa81f8c404db6f7535",
       "version_major": 2,
       "version_minor": 0
      },
      "text/plain": [
       "[obtain_trajectories]:   0%|          | 0/200 [00:00<?, ?it/s]"
      ]
     },
     "metadata": {},
     "output_type": "display_data"
    },
    {
     "name": "stdout",
     "output_type": "stream",
     "text": [
      "2023-04-06 19:10.45 [debug    ] RandomIterator is selected.\n",
      "2023-04-06 19:10.45 [info     ] Directory is created at d3rlpy_logs/CQL_20230406191045\n",
      "2023-04-06 19:10.45 [debug    ] Fitting action scaler...       action_scaler=min_max\n",
      "2023-04-06 19:10.45 [debug    ] Building models...\n",
      "2023-04-06 19:10.45 [debug    ] Models have been built.\n",
      "2023-04-06 19:10.45 [info     ] Parameters are saved to d3rlpy_logs/CQL_20230406191045/params.json params={'action_scaler': {'type': 'min_max', 'params': {'minimum': array([-1., -1., -1.]), 'maximum': array([1., 1., 1.])}}, 'actor_encoder_factory': {'type': 'vector', 'params': {'hidden_units': [30, 30], 'activation': 'relu', 'use_batch_norm': False, 'dropout_rate': None, 'use_dense': False}}, 'actor_learning_rate': 0.0001, 'actor_optim_factory': {'optim_cls': 'Adam', 'betas': (0.9, 0.999), 'eps': 1e-08, 'weight_decay': 0, 'amsgrad': False}, 'alpha_learning_rate': 0.0001, 'alpha_optim_factory': {'optim_cls': 'Adam', 'betas': (0.9, 0.999), 'eps': 1e-08, 'weight_decay': 0, 'amsgrad': False}, 'alpha_threshold': 10.0, 'batch_size': 256, 'conservative_weight': 5.0, 'critic_encoder_factory': {'type': 'vector', 'params': {'hidden_units': [30, 30], 'activation': 'relu', 'use_batch_norm': False, 'dropout_rate': None, 'use_dense': False}}, 'critic_learning_rate': 0.0003, 'critic_optim_factory': {'optim_cls': 'Adam', 'betas': (0.9, 0.999), 'eps': 1e-08, 'weight_decay': 0, 'amsgrad': False}, 'gamma': 0.99, 'generated_maxlen': 100000, 'initial_alpha': 1.0, 'initial_temperature': 1.0, 'n_action_samples': 10, 'n_critics': 2, 'n_frames': 1, 'n_steps': 1, 'q_func_factory': {'type': 'mean', 'params': {'share_encoder': False}}, 'real_ratio': 1.0, 'reward_scaler': None, 'scaler': None, 'soft_q_backup': False, 'tau': 0.005, 'temp_learning_rate': 0.0001, 'temp_optim_factory': {'optim_cls': 'Adam', 'betas': (0.9, 0.999), 'eps': 1e-08, 'weight_decay': 0, 'amsgrad': False}, 'use_gpu': None, 'algorithm': 'CQL', 'observation_shape': (5,), 'action_size': 3}\n"
     ]
    },
    {
     "data": {
      "application/vnd.jupyter.widget-view+json": {
       "model_id": "573de004401d4bf9b56db4a0cad9f5c2",
       "version_major": 2,
       "version_minor": 0
      },
      "text/plain": [
       "Epoch 1/1:   0%|          | 0/10000 [00:00<?, ?it/s]"
      ]
     },
     "metadata": {},
     "output_type": "display_data"
    },
    {
     "name": "stdout",
     "output_type": "stream",
     "text": [
      "2023-04-06 19:14.43 [info     ] CQL_20230406191045: epoch=1 step=10000 epoch=1 metrics={'time_sample_batch': 0.0007367087841033935, 'time_algorithm_update': 0.02244238369464874, 'temp_loss': 3.1949145455241204, 'temp': 0.6503450270712375, 'alpha_loss': -29.734776632881164, 'alpha': 1.7923288002490998, 'critic_loss': 30.990527310752867, 'actor_loss': -3.1905187698364257, 'time_step': 0.023669876885414123} step=10000\n",
      "2023-04-06 19:14.43 [info     ] Model parameters are saved to d3rlpy_logs/CQL_20230406191045/model_10000.pt\n"
     ]
    },
    {
     "data": {
      "application/vnd.jupyter.widget-view+json": {
       "model_id": "3ace6b35698b4ba497e6c0d03e48d026",
       "version_major": 2,
       "version_minor": 0
      },
      "text/plain": [
       "[fit FQE model]:   0%|          | 0/2 [00:00<?, ?it/s]"
      ]
     },
     "metadata": {},
     "output_type": "display_data"
    },
    {
     "name": "stdout",
     "output_type": "stream",
     "text": [
      "2023-04-06 19:14.43 [debug    ] RoundIterator is selected.\n",
      "2023-04-06 19:14.43 [info     ] Directory is created at d3rlpy_logs/FQE_20230406191443\n",
      "2023-04-06 19:14.43 [debug    ] Fitting scaler...              scaler=min_max\n",
      "2023-04-06 19:14.43 [debug    ] Fitting action scaler...       action_scaler=min_max\n",
      "2023-04-06 19:14.43 [debug    ] Building models...\n",
      "2023-04-06 19:14.43 [debug    ] Models have been built.\n",
      "2023-04-06 19:14.43 [info     ] Parameters are saved to d3rlpy_logs/FQE_20230406191443/params.json params={'action_scaler': {'type': 'min_max', 'params': {'minimum': array([-1., -1., -1.]), 'maximum': array([1., 1., 1.])}}, 'batch_size': 100, 'encoder_factory': {'type': 'vector', 'params': {'hidden_units': [30, 30], 'activation': 'relu', 'use_batch_norm': False, 'dropout_rate': None, 'use_dense': False}}, 'gamma': 0.95, 'generated_maxlen': 100000, 'learning_rate': 0.0001, 'n_critics': 1, 'n_frames': 1, 'n_steps': 1, 'optim_factory': {'optim_cls': 'Adam', 'betas': (0.9, 0.999), 'eps': 1e-08, 'weight_decay': 0, 'amsgrad': False}, 'q_func_factory': {'type': 'mean', 'params': {'share_encoder': False}}, 'real_ratio': 1.0, 'reward_scaler': None, 'scaler': {'type': 'min_max', 'params': {'maximum': array([0.91836598, 0.92129147, 0.99287239, 0.95850971, 0.98425487]), 'minimum': array([-0.88547709, -0.96093206, -0.98527951, -0.98484914, -0.97613102])}}, 'target_update_interval': 100, 'use_gpu': None, 'algorithm': 'FQE', 'observation_shape': (5,), 'action_size': 3}\n"
     ]
    },
    {
     "data": {
      "application/vnd.jupyter.widget-view+json": {
       "model_id": "8977cfdcdb5d4c51942c9413c2266b6c",
       "version_major": 2,
       "version_minor": 0
      },
      "text/plain": [
       "Epoch 1/1:   0%|          | 0/20 [00:00<?, ?it/s]"
      ]
     },
     "metadata": {},
     "output_type": "display_data"
    },
    {
     "name": "stdout",
     "output_type": "stream",
     "text": [
      "2023-04-06 19:14.44 [info     ] FQE_20230406191443: epoch=1 step=20 epoch=1 metrics={'time_sample_batch': 0.00012406110763549805, 'time_algorithm_update': 0.001796722412109375, 'loss': 0.11893996857106685, 'time_step': 0.001993727684020996} step=20\n",
      "2023-04-06 19:14.44 [info     ] Model parameters are saved to d3rlpy_logs/FQE_20230406191443/model_20.pt\n",
      "2023-04-06 19:14.44 [debug    ] RoundIterator is selected.\n",
      "2023-04-06 19:14.44 [info     ] Directory is created at d3rlpy_logs/FQE_20230406191444\n",
      "2023-04-06 19:14.44 [debug    ] Fitting scaler...              scaler=min_max\n",
      "2023-04-06 19:14.44 [debug    ] Fitting action scaler...       action_scaler=min_max\n",
      "2023-04-06 19:14.44 [debug    ] Building models...\n",
      "2023-04-06 19:14.44 [debug    ] Models have been built.\n",
      "2023-04-06 19:14.44 [info     ] Parameters are saved to d3rlpy_logs/FQE_20230406191444/params.json params={'action_scaler': {'type': 'min_max', 'params': {'minimum': array([-1., -1., -1.]), 'maximum': array([1., 1., 1.])}}, 'batch_size': 100, 'encoder_factory': {'type': 'vector', 'params': {'hidden_units': [30, 30], 'activation': 'relu', 'use_batch_norm': False, 'dropout_rate': None, 'use_dense': False}}, 'gamma': 0.95, 'generated_maxlen': 100000, 'learning_rate': 0.0001, 'n_critics': 1, 'n_frames': 1, 'n_steps': 1, 'optim_factory': {'optim_cls': 'Adam', 'betas': (0.9, 0.999), 'eps': 1e-08, 'weight_decay': 0, 'amsgrad': False}, 'q_func_factory': {'type': 'mean', 'params': {'share_encoder': False}}, 'real_ratio': 1.0, 'reward_scaler': None, 'scaler': {'type': 'min_max', 'params': {'maximum': array([0.91836598, 0.92129147, 0.99287239, 0.95850971, 0.98425487]), 'minimum': array([-0.88547709, -0.96093206, -0.98527951, -0.98484914, -0.97613102])}}, 'target_update_interval': 100, 'use_gpu': None, 'algorithm': 'FQE', 'observation_shape': (5,), 'action_size': 3}\n"
     ]
    },
    {
     "data": {
      "application/vnd.jupyter.widget-view+json": {
       "model_id": "b1d01c33c8b54b979e766eb8c833aaef",
       "version_major": 2,
       "version_minor": 0
      },
      "text/plain": [
       "Epoch 1/1:   0%|          | 0/20 [00:00<?, ?it/s]"
      ]
     },
     "metadata": {},
     "output_type": "display_data"
    },
    {
     "name": "stdout",
     "output_type": "stream",
     "text": [
      "2023-04-06 19:14.44 [info     ] FQE_20230406191444: epoch=1 step=20 epoch=1 metrics={'time_sample_batch': 0.00010972023010253906, 'time_algorithm_update': 0.0019117832183837891, 'loss': 0.1312553256750107, 'time_step': 0.0020794034004211425} step=20\n",
      "2023-04-06 19:14.44 [info     ] Model parameters are saved to d3rlpy_logs/FQE_20230406191444/model_20.pt\n"
     ]
    },
    {
     "data": {
      "application/vnd.jupyter.widget-view+json": {
       "model_id": "fac326916742480ba7b38d50d777570d",
       "version_major": 2,
       "version_minor": 0
      },
      "text/plain": [
       "[fit MWL model]:   0%|          | 0/2 [00:00<?, ?it/s]"
      ]
     },
     "metadata": {},
     "output_type": "display_data"
    },
    {
     "data": {
      "application/vnd.jupyter.widget-view+json": {
       "model_id": "19840d0aaf414c48b4e376df4ba31d46",
       "version_major": 2,
       "version_minor": 0
      },
      "text/plain": [
       "[fitting_weight_function]:   0%|          | 0/100 [00:00<?, ?it/s]"
      ]
     },
     "metadata": {},
     "output_type": "display_data"
    },
    {
     "data": {
      "application/vnd.jupyter.widget-view+json": {
       "model_id": "d1300859878a47fa855aca4940b9330c",
       "version_major": 2,
       "version_minor": 0
      },
      "text/plain": [
       "[fitting_weight_function]:   0%|          | 0/100 [00:00<?, ?it/s]"
      ]
     },
     "metadata": {},
     "output_type": "display_data"
    },
    {
     "data": {
      "application/vnd.jupyter.widget-view+json": {
       "model_id": "fc2fa99be88f4367ad3840d86f70f985",
       "version_major": 2,
       "version_minor": 0
      },
      "text/plain": [
       "[fitting_weight_function]:   0%|          | 0/100 [00:00<?, ?it/s]"
      ]
     },
     "metadata": {},
     "output_type": "display_data"
    },
    {
     "data": {
      "application/vnd.jupyter.widget-view+json": {
       "model_id": "f4e25f1cd7834b7db7ade21a2a4fd0a5",
       "version_major": 2,
       "version_minor": 0
      },
      "text/plain": [
       "[fitting_weight_function]:   0%|          | 0/100 [00:00<?, ?it/s]"
      ]
     },
     "metadata": {},
     "output_type": "display_data"
    },
    {
     "data": {
      "application/vnd.jupyter.widget-view+json": {
       "model_id": "073af2a9fc06478cb7cd7361ad24b195",
       "version_major": 2,
       "version_minor": 0
      },
      "text/plain": [
       "[collect input data: eval_policy]:   0%|          | 0/2 [00:00<?, ?it/s]"
      ]
     },
     "metadata": {},
     "output_type": "display_data"
    },
    {
     "data": {
      "application/vnd.jupyter.widget-view+json": {
       "model_id": "721811e00d5544dd830ca8245128faf2",
       "version_major": 2,
       "version_minor": 0
      },
      "text/plain": [
       "[calculate on-policy policy value]:   0%|          | 0/100 [00:00<?, ?it/s]"
      ]
     },
     "metadata": {},
     "output_type": "display_data"
    },
    {
     "data": {
      "application/vnd.jupyter.widget-view+json": {
       "model_id": "c02f6fb4ab4141dbacf469847adf43eb",
       "version_major": 2,
       "version_minor": 0
      },
      "text/plain": [
       "[calculate on-policy policy value]:   0%|          | 0/100 [00:00<?, ?it/s]"
      ]
     },
     "metadata": {},
     "output_type": "display_data"
    },
    {
     "data": {
      "application/vnd.jupyter.widget-view+json": {
       "model_id": "54275878206b4ba684a1a89ecdbb1e83",
       "version_major": 2,
       "version_minor": 0
      },
      "text/plain": [
       "[obtain_trajectories]:   0%|          | 0/200 [00:00<?, ?it/s]"
      ]
     },
     "metadata": {},
     "output_type": "display_data"
    },
    {
     "data": {
      "application/vnd.jupyter.widget-view+json": {
       "model_id": "f738c540d47846daa988cb68ef685b28",
       "version_major": 2,
       "version_minor": 0
      },
      "text/plain": [
       "[obtain_trajectories]:   0%|          | 0/200 [00:00<?, ?it/s]"
      ]
     },
     "metadata": {},
     "output_type": "display_data"
    },
    {
     "name": "stdout",
     "output_type": "stream",
     "text": [
      "2023-04-06 19:15.34 [debug    ] RandomIterator is selected.\n",
      "2023-04-06 19:15.34 [info     ] Directory is created at d3rlpy_logs/CQL_20230406191534\n",
      "2023-04-06 19:15.34 [debug    ] Fitting action scaler...       action_scaler=min_max\n",
      "2023-04-06 19:15.34 [debug    ] Building models...\n",
      "2023-04-06 19:15.34 [debug    ] Models have been built.\n",
      "2023-04-06 19:15.34 [info     ] Parameters are saved to d3rlpy_logs/CQL_20230406191534/params.json params={'action_scaler': {'type': 'min_max', 'params': {'minimum': array([-1., -1., -1.]), 'maximum': array([1., 1., 1.])}}, 'actor_encoder_factory': {'type': 'vector', 'params': {'hidden_units': [30, 30], 'activation': 'relu', 'use_batch_norm': False, 'dropout_rate': None, 'use_dense': False}}, 'actor_learning_rate': 0.0001, 'actor_optim_factory': {'optim_cls': 'Adam', 'betas': (0.9, 0.999), 'eps': 1e-08, 'weight_decay': 0, 'amsgrad': False}, 'alpha_learning_rate': 0.0001, 'alpha_optim_factory': {'optim_cls': 'Adam', 'betas': (0.9, 0.999), 'eps': 1e-08, 'weight_decay': 0, 'amsgrad': False}, 'alpha_threshold': 10.0, 'batch_size': 256, 'conservative_weight': 5.0, 'critic_encoder_factory': {'type': 'vector', 'params': {'hidden_units': [30, 30], 'activation': 'relu', 'use_batch_norm': False, 'dropout_rate': None, 'use_dense': False}}, 'critic_learning_rate': 0.0003, 'critic_optim_factory': {'optim_cls': 'Adam', 'betas': (0.9, 0.999), 'eps': 1e-08, 'weight_decay': 0, 'amsgrad': False}, 'gamma': 0.99, 'generated_maxlen': 100000, 'initial_alpha': 1.0, 'initial_temperature': 1.0, 'n_action_samples': 10, 'n_critics': 2, 'n_frames': 1, 'n_steps': 1, 'q_func_factory': {'type': 'mean', 'params': {'share_encoder': False}}, 'real_ratio': 1.0, 'reward_scaler': None, 'scaler': None, 'soft_q_backup': False, 'tau': 0.005, 'temp_learning_rate': 0.0001, 'temp_optim_factory': {'optim_cls': 'Adam', 'betas': (0.9, 0.999), 'eps': 1e-08, 'weight_decay': 0, 'amsgrad': False}, 'use_gpu': None, 'algorithm': 'CQL', 'observation_shape': (5,), 'action_size': 3}\n"
     ]
    },
    {
     "data": {
      "application/vnd.jupyter.widget-view+json": {
       "model_id": "a6db014a23e943d0a3296b1f6d1bcd67",
       "version_major": 2,
       "version_minor": 0
      },
      "text/plain": [
       "Epoch 1/1:   0%|          | 0/10000 [00:00<?, ?it/s]"
      ]
     },
     "metadata": {},
     "output_type": "display_data"
    },
    {
     "name": "stdout",
     "output_type": "stream",
     "text": [
      "2023-04-06 19:19.37 [info     ] CQL_20230406191534: epoch=1 step=10000 epoch=1 metrics={'time_sample_batch': 0.0007364567041397095, 'time_algorithm_update': 0.02286212911605835, 'temp_loss': 3.2031868480920793, 'temp': 0.6504192983955145, 'alpha_loss': -29.722565827941896, 'alpha': 1.7922211685538292, 'critic_loss': 30.5644540933609, 'actor_loss': -2.752028889334202, 'time_step': 0.024094963312149047} step=10000\n",
      "2023-04-06 19:19.37 [info     ] Model parameters are saved to d3rlpy_logs/CQL_20230406191534/model_10000.pt\n"
     ]
    },
    {
     "data": {
      "application/vnd.jupyter.widget-view+json": {
       "model_id": "f9ad8241762847c2937205ae5c0ef608",
       "version_major": 2,
       "version_minor": 0
      },
      "text/plain": [
       "[fit FQE model]:   0%|          | 0/2 [00:00<?, ?it/s]"
      ]
     },
     "metadata": {},
     "output_type": "display_data"
    },
    {
     "name": "stdout",
     "output_type": "stream",
     "text": [
      "2023-04-06 19:19.37 [debug    ] RoundIterator is selected.\n",
      "2023-04-06 19:19.37 [info     ] Directory is created at d3rlpy_logs/FQE_20230406191937\n",
      "2023-04-06 19:19.37 [debug    ] Fitting scaler...              scaler=min_max\n",
      "2023-04-06 19:19.37 [debug    ] Fitting action scaler...       action_scaler=min_max\n",
      "2023-04-06 19:19.37 [debug    ] Building models...\n",
      "2023-04-06 19:19.37 [debug    ] Models have been built.\n",
      "2023-04-06 19:19.37 [info     ] Parameters are saved to d3rlpy_logs/FQE_20230406191937/params.json params={'action_scaler': {'type': 'min_max', 'params': {'minimum': array([-1., -1., -1.]), 'maximum': array([1., 1., 1.])}}, 'batch_size': 100, 'encoder_factory': {'type': 'vector', 'params': {'hidden_units': [30, 30], 'activation': 'relu', 'use_batch_norm': False, 'dropout_rate': None, 'use_dense': False}}, 'gamma': 0.95, 'generated_maxlen': 100000, 'learning_rate': 0.0001, 'n_critics': 1, 'n_frames': 1, 'n_steps': 1, 'optim_factory': {'optim_cls': 'Adam', 'betas': (0.9, 0.999), 'eps': 1e-08, 'weight_decay': 0, 'amsgrad': False}, 'q_func_factory': {'type': 'mean', 'params': {'share_encoder': False}}, 'real_ratio': 1.0, 'reward_scaler': None, 'scaler': {'type': 'min_max', 'params': {'maximum': array([0.93646297, 0.95466205, 0.99661003, 0.99535051, 0.98535196]), 'minimum': array([-0.96685104, -0.93888961, -0.99214048, -0.95977599, -0.9902595 ])}}, 'target_update_interval': 100, 'use_gpu': None, 'algorithm': 'FQE', 'observation_shape': (5,), 'action_size': 3}\n"
     ]
    },
    {
     "data": {
      "application/vnd.jupyter.widget-view+json": {
       "model_id": "bb7c1eed9b1f47b5880aceb281a949f0",
       "version_major": 2,
       "version_minor": 0
      },
      "text/plain": [
       "Epoch 1/1:   0%|          | 0/20 [00:00<?, ?it/s]"
      ]
     },
     "metadata": {},
     "output_type": "display_data"
    },
    {
     "name": "stdout",
     "output_type": "stream",
     "text": [
      "2023-04-06 19:19.37 [info     ] FQE_20230406191937: epoch=1 step=20 epoch=1 metrics={'time_sample_batch': 0.0001069188117980957, 'time_algorithm_update': 0.0017357707023620606, 'loss': 0.11693901978433133, 'time_step': 0.0018978595733642578} step=20\n",
      "2023-04-06 19:19.37 [info     ] Model parameters are saved to d3rlpy_logs/FQE_20230406191937/model_20.pt\n",
      "2023-04-06 19:19.37 [debug    ] RoundIterator is selected.\n",
      "2023-04-06 19:19.38 [info     ] Directory is created at d3rlpy_logs/FQE_20230406191938\n",
      "2023-04-06 19:19.38 [debug    ] Fitting scaler...              scaler=min_max\n",
      "2023-04-06 19:19.38 [debug    ] Fitting action scaler...       action_scaler=min_max\n",
      "2023-04-06 19:19.38 [debug    ] Building models...\n",
      "2023-04-06 19:19.38 [debug    ] Models have been built.\n",
      "2023-04-06 19:19.38 [info     ] Parameters are saved to d3rlpy_logs/FQE_20230406191938/params.json params={'action_scaler': {'type': 'min_max', 'params': {'minimum': array([-1., -1., -1.]), 'maximum': array([1., 1., 1.])}}, 'batch_size': 100, 'encoder_factory': {'type': 'vector', 'params': {'hidden_units': [30, 30], 'activation': 'relu', 'use_batch_norm': False, 'dropout_rate': None, 'use_dense': False}}, 'gamma': 0.95, 'generated_maxlen': 100000, 'learning_rate': 0.0001, 'n_critics': 1, 'n_frames': 1, 'n_steps': 1, 'optim_factory': {'optim_cls': 'Adam', 'betas': (0.9, 0.999), 'eps': 1e-08, 'weight_decay': 0, 'amsgrad': False}, 'q_func_factory': {'type': 'mean', 'params': {'share_encoder': False}}, 'real_ratio': 1.0, 'reward_scaler': None, 'scaler': {'type': 'min_max', 'params': {'maximum': array([0.93646297, 0.95466205, 0.99661003, 0.99535051, 0.98535196]), 'minimum': array([-0.96685104, -0.93888961, -0.99214048, -0.95977599, -0.9902595 ])}}, 'target_update_interval': 100, 'use_gpu': None, 'algorithm': 'FQE', 'observation_shape': (5,), 'action_size': 3}\n"
     ]
    },
    {
     "data": {
      "application/vnd.jupyter.widget-view+json": {
       "model_id": "b144f41dcf5d4b07b8302e329e739ff1",
       "version_major": 2,
       "version_minor": 0
      },
      "text/plain": [
       "Epoch 1/1:   0%|          | 0/20 [00:00<?, ?it/s]"
      ]
     },
     "metadata": {},
     "output_type": "display_data"
    },
    {
     "name": "stdout",
     "output_type": "stream",
     "text": [
      "2023-04-06 19:19.38 [info     ] FQE_20230406191938: epoch=1 step=20 epoch=1 metrics={'time_sample_batch': 0.00011650323867797851, 'time_algorithm_update': 0.0015335679054260254, 'loss': 0.14044438265264034, 'time_step': 0.0017136573791503907} step=20\n",
      "2023-04-06 19:19.38 [info     ] Model parameters are saved to d3rlpy_logs/FQE_20230406191938/model_20.pt\n"
     ]
    },
    {
     "data": {
      "application/vnd.jupyter.widget-view+json": {
       "model_id": "f50d3a6d87ee498e8de240f11b824872",
       "version_major": 2,
       "version_minor": 0
      },
      "text/plain": [
       "[fit MWL model]:   0%|          | 0/2 [00:00<?, ?it/s]"
      ]
     },
     "metadata": {},
     "output_type": "display_data"
    },
    {
     "data": {
      "application/vnd.jupyter.widget-view+json": {
       "model_id": "c5d0f4a684b14cc7b0b8a1b27cd631f4",
       "version_major": 2,
       "version_minor": 0
      },
      "text/plain": [
       "[fitting_weight_function]:   0%|          | 0/100 [00:00<?, ?it/s]"
      ]
     },
     "metadata": {},
     "output_type": "display_data"
    },
    {
     "data": {
      "application/vnd.jupyter.widget-view+json": {
       "model_id": "1d778dffab5a42e1b5ec6dee7b60b496",
       "version_major": 2,
       "version_minor": 0
      },
      "text/plain": [
       "[fitting_weight_function]:   0%|          | 0/100 [00:00<?, ?it/s]"
      ]
     },
     "metadata": {},
     "output_type": "display_data"
    },
    {
     "data": {
      "application/vnd.jupyter.widget-view+json": {
       "model_id": "6f190a992e2d4ffe9d009c58b4631333",
       "version_major": 2,
       "version_minor": 0
      },
      "text/plain": [
       "[fitting_weight_function]:   0%|          | 0/100 [00:00<?, ?it/s]"
      ]
     },
     "metadata": {},
     "output_type": "display_data"
    },
    {
     "data": {
      "application/vnd.jupyter.widget-view+json": {
       "model_id": "9c2149da587941aa858bd86b3fec7597",
       "version_major": 2,
       "version_minor": 0
      },
      "text/plain": [
       "[fitting_weight_function]:   0%|          | 0/100 [00:00<?, ?it/s]"
      ]
     },
     "metadata": {},
     "output_type": "display_data"
    },
    {
     "data": {
      "application/vnd.jupyter.widget-view+json": {
       "model_id": "6bb691d34cf848e5abb74030db9bb634",
       "version_major": 2,
       "version_minor": 0
      },
      "text/plain": [
       "[collect input data: eval_policy]:   0%|          | 0/2 [00:00<?, ?it/s]"
      ]
     },
     "metadata": {},
     "output_type": "display_data"
    },
    {
     "data": {
      "application/vnd.jupyter.widget-view+json": {
       "model_id": "701f64b3fb754f9d8411b6eaa837814a",
       "version_major": 2,
       "version_minor": 0
      },
      "text/plain": [
       "[calculate on-policy policy value]:   0%|          | 0/100 [00:00<?, ?it/s]"
      ]
     },
     "metadata": {},
     "output_type": "display_data"
    },
    {
     "data": {
      "application/vnd.jupyter.widget-view+json": {
       "model_id": "4517664f047f441082b4010464d31632",
       "version_major": 2,
       "version_minor": 0
      },
      "text/plain": [
       "[calculate on-policy policy value]:   0%|          | 0/100 [00:00<?, ?it/s]"
      ]
     },
     "metadata": {},
     "output_type": "display_data"
    },
    {
     "data": {
      "application/vnd.jupyter.widget-view+json": {
       "model_id": "fce1e3f815f3414d9cb18489722a18cd",
       "version_major": 2,
       "version_minor": 0
      },
      "text/plain": [
       "[obtain_trajectories]:   0%|          | 0/200 [00:00<?, ?it/s]"
      ]
     },
     "metadata": {},
     "output_type": "display_data"
    },
    {
     "data": {
      "application/vnd.jupyter.widget-view+json": {
       "model_id": "359ecc1d645d43689331098cb5bd682e",
       "version_major": 2,
       "version_minor": 0
      },
      "text/plain": [
       "[obtain_trajectories]:   0%|          | 0/200 [00:00<?, ?it/s]"
      ]
     },
     "metadata": {},
     "output_type": "display_data"
    },
    {
     "name": "stdout",
     "output_type": "stream",
     "text": [
      "2023-04-06 19:20.29 [debug    ] RandomIterator is selected.\n",
      "2023-04-06 19:20.29 [info     ] Directory is created at d3rlpy_logs/CQL_20230406192029\n",
      "2023-04-06 19:20.29 [debug    ] Fitting action scaler...       action_scaler=min_max\n",
      "2023-04-06 19:20.29 [debug    ] Building models...\n",
      "2023-04-06 19:20.29 [debug    ] Models have been built.\n",
      "2023-04-06 19:20.29 [info     ] Parameters are saved to d3rlpy_logs/CQL_20230406192029/params.json params={'action_scaler': {'type': 'min_max', 'params': {'minimum': array([-1., -1., -1.]), 'maximum': array([1., 1., 1.])}}, 'actor_encoder_factory': {'type': 'vector', 'params': {'hidden_units': [30, 30], 'activation': 'relu', 'use_batch_norm': False, 'dropout_rate': None, 'use_dense': False}}, 'actor_learning_rate': 0.0001, 'actor_optim_factory': {'optim_cls': 'Adam', 'betas': (0.9, 0.999), 'eps': 1e-08, 'weight_decay': 0, 'amsgrad': False}, 'alpha_learning_rate': 0.0001, 'alpha_optim_factory': {'optim_cls': 'Adam', 'betas': (0.9, 0.999), 'eps': 1e-08, 'weight_decay': 0, 'amsgrad': False}, 'alpha_threshold': 10.0, 'batch_size': 256, 'conservative_weight': 5.0, 'critic_encoder_factory': {'type': 'vector', 'params': {'hidden_units': [30, 30], 'activation': 'relu', 'use_batch_norm': False, 'dropout_rate': None, 'use_dense': False}}, 'critic_learning_rate': 0.0003, 'critic_optim_factory': {'optim_cls': 'Adam', 'betas': (0.9, 0.999), 'eps': 1e-08, 'weight_decay': 0, 'amsgrad': False}, 'gamma': 0.99, 'generated_maxlen': 100000, 'initial_alpha': 1.0, 'initial_temperature': 1.0, 'n_action_samples': 10, 'n_critics': 2, 'n_frames': 1, 'n_steps': 1, 'q_func_factory': {'type': 'mean', 'params': {'share_encoder': False}}, 'real_ratio': 1.0, 'reward_scaler': None, 'scaler': None, 'soft_q_backup': False, 'tau': 0.005, 'temp_learning_rate': 0.0001, 'temp_optim_factory': {'optim_cls': 'Adam', 'betas': (0.9, 0.999), 'eps': 1e-08, 'weight_decay': 0, 'amsgrad': False}, 'use_gpu': None, 'algorithm': 'CQL', 'observation_shape': (5,), 'action_size': 3}\n"
     ]
    },
    {
     "data": {
      "application/vnd.jupyter.widget-view+json": {
       "model_id": "13c37512d8f9498da1283628f34a7ca8",
       "version_major": 2,
       "version_minor": 0
      },
      "text/plain": [
       "Epoch 1/1:   0%|          | 0/10000 [00:00<?, ?it/s]"
      ]
     },
     "metadata": {},
     "output_type": "display_data"
    },
    {
     "name": "stdout",
     "output_type": "stream",
     "text": [
      "2023-04-06 19:24.30 [info     ] CQL_20230406192029: epoch=1 step=10000 epoch=1 metrics={'time_sample_batch': 0.0007406596660614014, 'time_algorithm_update': 0.022722340416908265, 'temp_loss': 3.19210067152977, 'temp': 0.6504844994395971, 'alpha_loss': -29.708089601135253, 'alpha': 1.7921955849170685, 'critic_loss': 30.92417095603943, 'actor_loss': -3.108403733539581, 'time_step': 0.023958504676818846} step=10000\n",
      "2023-04-06 19:24.30 [info     ] Model parameters are saved to d3rlpy_logs/CQL_20230406192029/model_10000.pt\n"
     ]
    },
    {
     "data": {
      "application/vnd.jupyter.widget-view+json": {
       "model_id": "f547755fd29c44528e800b99e61e72b9",
       "version_major": 2,
       "version_minor": 0
      },
      "text/plain": [
       "[fit FQE model]:   0%|          | 0/2 [00:00<?, ?it/s]"
      ]
     },
     "metadata": {},
     "output_type": "display_data"
    },
    {
     "name": "stdout",
     "output_type": "stream",
     "text": [
      "2023-04-06 19:24.30 [debug    ] RoundIterator is selected.\n",
      "2023-04-06 19:24.30 [info     ] Directory is created at d3rlpy_logs/FQE_20230406192430\n",
      "2023-04-06 19:24.30 [debug    ] Fitting scaler...              scaler=min_max\n",
      "2023-04-06 19:24.30 [debug    ] Fitting action scaler...       action_scaler=min_max\n",
      "2023-04-06 19:24.30 [debug    ] Building models...\n",
      "2023-04-06 19:24.30 [debug    ] Models have been built.\n",
      "2023-04-06 19:24.30 [info     ] Parameters are saved to d3rlpy_logs/FQE_20230406192430/params.json params={'action_scaler': {'type': 'min_max', 'params': {'minimum': array([-1., -1., -1.]), 'maximum': array([1., 1., 1.])}}, 'batch_size': 100, 'encoder_factory': {'type': 'vector', 'params': {'hidden_units': [30, 30], 'activation': 'relu', 'use_batch_norm': False, 'dropout_rate': None, 'use_dense': False}}, 'gamma': 0.95, 'generated_maxlen': 100000, 'learning_rate': 0.0001, 'n_critics': 1, 'n_frames': 1, 'n_steps': 1, 'optim_factory': {'optim_cls': 'Adam', 'betas': (0.9, 0.999), 'eps': 1e-08, 'weight_decay': 0, 'amsgrad': False}, 'q_func_factory': {'type': 'mean', 'params': {'share_encoder': False}}, 'real_ratio': 1.0, 'reward_scaler': None, 'scaler': {'type': 'min_max', 'params': {'maximum': array([0.90690511, 0.93568125, 0.99184484, 0.97342693, 0.98346276]), 'minimum': array([-0.8988752 , -0.92109117, -0.98556682, -0.95630748, -0.97289299])}}, 'target_update_interval': 100, 'use_gpu': None, 'algorithm': 'FQE', 'observation_shape': (5,), 'action_size': 3}\n"
     ]
    },
    {
     "data": {
      "application/vnd.jupyter.widget-view+json": {
       "model_id": "d63acd4c3daf44809981ecbb8b560b64",
       "version_major": 2,
       "version_minor": 0
      },
      "text/plain": [
       "Epoch 1/1:   0%|          | 0/20 [00:00<?, ?it/s]"
      ]
     },
     "metadata": {},
     "output_type": "display_data"
    },
    {
     "name": "stdout",
     "output_type": "stream",
     "text": [
      "2023-04-06 19:24.30 [info     ] FQE_20230406192430: epoch=1 step=20 epoch=1 metrics={'time_sample_batch': 0.0001347064971923828, 'time_algorithm_update': 0.002670574188232422, 'loss': 0.12131789103150367, 'time_step': 0.0028823256492614747} step=20\n",
      "2023-04-06 19:24.30 [info     ] Model parameters are saved to d3rlpy_logs/FQE_20230406192430/model_20.pt\n",
      "2023-04-06 19:24.30 [debug    ] RoundIterator is selected.\n",
      "2023-04-06 19:24.31 [info     ] Directory is created at d3rlpy_logs/FQE_20230406192431\n",
      "2023-04-06 19:24.31 [debug    ] Fitting scaler...              scaler=min_max\n",
      "2023-04-06 19:24.31 [debug    ] Fitting action scaler...       action_scaler=min_max\n",
      "2023-04-06 19:24.31 [debug    ] Building models...\n",
      "2023-04-06 19:24.31 [debug    ] Models have been built.\n",
      "2023-04-06 19:24.31 [info     ] Parameters are saved to d3rlpy_logs/FQE_20230406192431/params.json params={'action_scaler': {'type': 'min_max', 'params': {'minimum': array([-1., -1., -1.]), 'maximum': array([1., 1., 1.])}}, 'batch_size': 100, 'encoder_factory': {'type': 'vector', 'params': {'hidden_units': [30, 30], 'activation': 'relu', 'use_batch_norm': False, 'dropout_rate': None, 'use_dense': False}}, 'gamma': 0.95, 'generated_maxlen': 100000, 'learning_rate': 0.0001, 'n_critics': 1, 'n_frames': 1, 'n_steps': 1, 'optim_factory': {'optim_cls': 'Adam', 'betas': (0.9, 0.999), 'eps': 1e-08, 'weight_decay': 0, 'amsgrad': False}, 'q_func_factory': {'type': 'mean', 'params': {'share_encoder': False}}, 'real_ratio': 1.0, 'reward_scaler': None, 'scaler': {'type': 'min_max', 'params': {'maximum': array([0.90690511, 0.93568125, 0.99184484, 0.97342693, 0.98346276]), 'minimum': array([-0.8988752 , -0.92109117, -0.98556682, -0.95630748, -0.97289299])}}, 'target_update_interval': 100, 'use_gpu': None, 'algorithm': 'FQE', 'observation_shape': (5,), 'action_size': 3}\n"
     ]
    },
    {
     "data": {
      "application/vnd.jupyter.widget-view+json": {
       "model_id": "5c644b1e7b9d4239ae3fd80982b9a8e6",
       "version_major": 2,
       "version_minor": 0
      },
      "text/plain": [
       "Epoch 1/1:   0%|          | 0/20 [00:00<?, ?it/s]"
      ]
     },
     "metadata": {},
     "output_type": "display_data"
    },
    {
     "name": "stdout",
     "output_type": "stream",
     "text": [
      "2023-04-06 19:24.31 [info     ] FQE_20230406192431: epoch=1 step=20 epoch=1 metrics={'time_sample_batch': 0.0001271963119506836, 'time_algorithm_update': 0.001766979694366455, 'loss': 0.1275307096540928, 'time_step': 0.001957857608795166} step=20\n",
      "2023-04-06 19:24.31 [info     ] Model parameters are saved to d3rlpy_logs/FQE_20230406192431/model_20.pt\n"
     ]
    },
    {
     "data": {
      "application/vnd.jupyter.widget-view+json": {
       "model_id": "eedcf73a404a4f9daade6cf5f655491c",
       "version_major": 2,
       "version_minor": 0
      },
      "text/plain": [
       "[fit MWL model]:   0%|          | 0/2 [00:00<?, ?it/s]"
      ]
     },
     "metadata": {},
     "output_type": "display_data"
    },
    {
     "data": {
      "application/vnd.jupyter.widget-view+json": {
       "model_id": "8771935c33474bc3844c2110d9444410",
       "version_major": 2,
       "version_minor": 0
      },
      "text/plain": [
       "[fitting_weight_function]:   0%|          | 0/100 [00:00<?, ?it/s]"
      ]
     },
     "metadata": {},
     "output_type": "display_data"
    },
    {
     "data": {
      "application/vnd.jupyter.widget-view+json": {
       "model_id": "1e2adf7f21f944c4bd995055346cc9dd",
       "version_major": 2,
       "version_minor": 0
      },
      "text/plain": [
       "[fitting_weight_function]:   0%|          | 0/100 [00:00<?, ?it/s]"
      ]
     },
     "metadata": {},
     "output_type": "display_data"
    },
    {
     "data": {
      "application/vnd.jupyter.widget-view+json": {
       "model_id": "93ec5196beb040b393532e5177e934ca",
       "version_major": 2,
       "version_minor": 0
      },
      "text/plain": [
       "[fitting_weight_function]:   0%|          | 0/100 [00:00<?, ?it/s]"
      ]
     },
     "metadata": {},
     "output_type": "display_data"
    },
    {
     "data": {
      "application/vnd.jupyter.widget-view+json": {
       "model_id": "17510f7722934c42a3a344b47e99c5a6",
       "version_major": 2,
       "version_minor": 0
      },
      "text/plain": [
       "[fitting_weight_function]:   0%|          | 0/100 [00:00<?, ?it/s]"
      ]
     },
     "metadata": {},
     "output_type": "display_data"
    },
    {
     "data": {
      "application/vnd.jupyter.widget-view+json": {
       "model_id": "af5065fae63a479d818fb08eda25a76c",
       "version_major": 2,
       "version_minor": 0
      },
      "text/plain": [
       "[collect input data: eval_policy]:   0%|          | 0/2 [00:00<?, ?it/s]"
      ]
     },
     "metadata": {},
     "output_type": "display_data"
    },
    {
     "data": {
      "application/vnd.jupyter.widget-view+json": {
       "model_id": "0cd7aa989d694f238b364a7d0bea0288",
       "version_major": 2,
       "version_minor": 0
      },
      "text/plain": [
       "[calculate on-policy policy value]:   0%|          | 0/100 [00:00<?, ?it/s]"
      ]
     },
     "metadata": {},
     "output_type": "display_data"
    },
    {
     "data": {
      "application/vnd.jupyter.widget-view+json": {
       "model_id": "38dbaad15eda442f9b9b52c52ee155c6",
       "version_major": 2,
       "version_minor": 0
      },
      "text/plain": [
       "[calculate on-policy policy value]:   0%|          | 0/100 [00:00<?, ?it/s]"
      ]
     },
     "metadata": {},
     "output_type": "display_data"
    },
    {
     "data": {
      "application/vnd.jupyter.widget-view+json": {
       "model_id": "0feb06764eca491e908d0ad03b28578a",
       "version_major": 2,
       "version_minor": 0
      },
      "text/plain": [
       "[obtain_trajectories]:   0%|          | 0/200 [00:00<?, ?it/s]"
      ]
     },
     "metadata": {},
     "output_type": "display_data"
    },
    {
     "data": {
      "application/vnd.jupyter.widget-view+json": {
       "model_id": "3d609f937fde4956a463c918df5ea78d",
       "version_major": 2,
       "version_minor": 0
      },
      "text/plain": [
       "[obtain_trajectories]:   0%|          | 0/200 [00:00<?, ?it/s]"
      ]
     },
     "metadata": {},
     "output_type": "display_data"
    },
    {
     "name": "stdout",
     "output_type": "stream",
     "text": [
      "2023-04-06 19:25.22 [debug    ] RandomIterator is selected.\n",
      "2023-04-06 19:25.22 [info     ] Directory is created at d3rlpy_logs/CQL_20230406192522\n",
      "2023-04-06 19:25.22 [debug    ] Fitting action scaler...       action_scaler=min_max\n",
      "2023-04-06 19:25.22 [debug    ] Building models...\n",
      "2023-04-06 19:25.22 [debug    ] Models have been built.\n",
      "2023-04-06 19:25.22 [info     ] Parameters are saved to d3rlpy_logs/CQL_20230406192522/params.json params={'action_scaler': {'type': 'min_max', 'params': {'minimum': array([-1., -1., -1.]), 'maximum': array([1., 1., 1.])}}, 'actor_encoder_factory': {'type': 'vector', 'params': {'hidden_units': [30, 30], 'activation': 'relu', 'use_batch_norm': False, 'dropout_rate': None, 'use_dense': False}}, 'actor_learning_rate': 0.0001, 'actor_optim_factory': {'optim_cls': 'Adam', 'betas': (0.9, 0.999), 'eps': 1e-08, 'weight_decay': 0, 'amsgrad': False}, 'alpha_learning_rate': 0.0001, 'alpha_optim_factory': {'optim_cls': 'Adam', 'betas': (0.9, 0.999), 'eps': 1e-08, 'weight_decay': 0, 'amsgrad': False}, 'alpha_threshold': 10.0, 'batch_size': 256, 'conservative_weight': 5.0, 'critic_encoder_factory': {'type': 'vector', 'params': {'hidden_units': [30, 30], 'activation': 'relu', 'use_batch_norm': False, 'dropout_rate': None, 'use_dense': False}}, 'critic_learning_rate': 0.0003, 'critic_optim_factory': {'optim_cls': 'Adam', 'betas': (0.9, 0.999), 'eps': 1e-08, 'weight_decay': 0, 'amsgrad': False}, 'gamma': 0.99, 'generated_maxlen': 100000, 'initial_alpha': 1.0, 'initial_temperature': 1.0, 'n_action_samples': 10, 'n_critics': 2, 'n_frames': 1, 'n_steps': 1, 'q_func_factory': {'type': 'mean', 'params': {'share_encoder': False}}, 'real_ratio': 1.0, 'reward_scaler': None, 'scaler': None, 'soft_q_backup': False, 'tau': 0.005, 'temp_learning_rate': 0.0001, 'temp_optim_factory': {'optim_cls': 'Adam', 'betas': (0.9, 0.999), 'eps': 1e-08, 'weight_decay': 0, 'amsgrad': False}, 'use_gpu': None, 'algorithm': 'CQL', 'observation_shape': (5,), 'action_size': 3}\n"
     ]
    },
    {
     "data": {
      "application/vnd.jupyter.widget-view+json": {
       "model_id": "bbe9c8657c824944ae4431f87c7720ec",
       "version_major": 2,
       "version_minor": 0
      },
      "text/plain": [
       "Epoch 1/1:   0%|          | 0/10000 [00:00<?, ?it/s]"
      ]
     },
     "metadata": {},
     "output_type": "display_data"
    },
    {
     "name": "stdout",
     "output_type": "stream",
     "text": [
      "2023-04-06 19:44.21 [info     ] CQL_20230406192522: epoch=1 step=10000 epoch=1 metrics={'time_sample_batch': 0.09094343483448028, 'time_algorithm_update': 0.02229481267929077, 'temp_loss': 3.2092132697463036, 'temp': 0.6502681101858616, 'alpha_loss': -29.85698290863037, 'alpha': 1.7929068478226662, 'critic_loss': 30.813240484046936, 'actor_loss': -2.8982612156748773, 'time_step': 0.11371917428970336} step=10000\n",
      "2023-04-06 19:44.21 [info     ] Model parameters are saved to d3rlpy_logs/CQL_20230406192522/model_10000.pt\n"
     ]
    },
    {
     "data": {
      "application/vnd.jupyter.widget-view+json": {
       "model_id": "39050e920869425d83b829831eb28b7c",
       "version_major": 2,
       "version_minor": 0
      },
      "text/plain": [
       "[fit FQE model]:   0%|          | 0/2 [00:00<?, ?it/s]"
      ]
     },
     "metadata": {},
     "output_type": "display_data"
    },
    {
     "name": "stdout",
     "output_type": "stream",
     "text": [
      "2023-04-06 19:44.21 [debug    ] RoundIterator is selected.\n",
      "2023-04-06 19:44.21 [info     ] Directory is created at d3rlpy_logs/FQE_20230406194421\n",
      "2023-04-06 19:44.21 [debug    ] Fitting scaler...              scaler=min_max\n",
      "2023-04-06 19:44.21 [debug    ] Fitting action scaler...       action_scaler=min_max\n",
      "2023-04-06 19:44.21 [debug    ] Building models...\n",
      "2023-04-06 19:44.21 [debug    ] Models have been built.\n",
      "2023-04-06 19:44.21 [info     ] Parameters are saved to d3rlpy_logs/FQE_20230406194421/params.json params={'action_scaler': {'type': 'min_max', 'params': {'minimum': array([-1., -1., -1.]), 'maximum': array([1., 1., 1.])}}, 'batch_size': 100, 'encoder_factory': {'type': 'vector', 'params': {'hidden_units': [30, 30], 'activation': 'relu', 'use_batch_norm': False, 'dropout_rate': None, 'use_dense': False}}, 'gamma': 0.95, 'generated_maxlen': 100000, 'learning_rate': 0.0001, 'n_critics': 1, 'n_frames': 1, 'n_steps': 1, 'optim_factory': {'optim_cls': 'Adam', 'betas': (0.9, 0.999), 'eps': 1e-08, 'weight_decay': 0, 'amsgrad': False}, 'q_func_factory': {'type': 'mean', 'params': {'share_encoder': False}}, 'real_ratio': 1.0, 'reward_scaler': None, 'scaler': {'type': 'min_max', 'params': {'maximum': array([0.96323906, 0.94405025, 0.99590854, 0.94954401, 0.97949538]), 'minimum': array([-0.96950994, -0.92067972, -0.99738955, -0.96728401, -0.98904295])}}, 'target_update_interval': 100, 'use_gpu': None, 'algorithm': 'FQE', 'observation_shape': (5,), 'action_size': 3}\n"
     ]
    },
    {
     "data": {
      "application/vnd.jupyter.widget-view+json": {
       "model_id": "66547c2eee1b4d5d8bced9e39cc8d0f5",
       "version_major": 2,
       "version_minor": 0
      },
      "text/plain": [
       "Epoch 1/1:   0%|          | 0/20 [00:00<?, ?it/s]"
      ]
     },
     "metadata": {},
     "output_type": "display_data"
    },
    {
     "name": "stdout",
     "output_type": "stream",
     "text": [
      "2023-04-06 19:44.21 [info     ] FQE_20230406194421: epoch=1 step=20 epoch=1 metrics={'time_sample_batch': 9.236335754394531e-05, 'time_algorithm_update': 0.0015417218208312988, 'loss': 0.11049087047576904, 'time_step': 0.0017048239707946778} step=20\n",
      "2023-04-06 19:44.21 [info     ] Model parameters are saved to d3rlpy_logs/FQE_20230406194421/model_20.pt\n",
      "2023-04-06 19:44.21 [debug    ] RoundIterator is selected.\n",
      "2023-04-06 19:44.22 [info     ] Directory is created at d3rlpy_logs/FQE_20230406194422\n",
      "2023-04-06 19:44.22 [debug    ] Fitting scaler...              scaler=min_max\n",
      "2023-04-06 19:44.22 [debug    ] Fitting action scaler...       action_scaler=min_max\n",
      "2023-04-06 19:44.22 [debug    ] Building models...\n",
      "2023-04-06 19:44.22 [debug    ] Models have been built.\n",
      "2023-04-06 19:44.22 [info     ] Parameters are saved to d3rlpy_logs/FQE_20230406194422/params.json params={'action_scaler': {'type': 'min_max', 'params': {'minimum': array([-1., -1., -1.]), 'maximum': array([1., 1., 1.])}}, 'batch_size': 100, 'encoder_factory': {'type': 'vector', 'params': {'hidden_units': [30, 30], 'activation': 'relu', 'use_batch_norm': False, 'dropout_rate': None, 'use_dense': False}}, 'gamma': 0.95, 'generated_maxlen': 100000, 'learning_rate': 0.0001, 'n_critics': 1, 'n_frames': 1, 'n_steps': 1, 'optim_factory': {'optim_cls': 'Adam', 'betas': (0.9, 0.999), 'eps': 1e-08, 'weight_decay': 0, 'amsgrad': False}, 'q_func_factory': {'type': 'mean', 'params': {'share_encoder': False}}, 'real_ratio': 1.0, 'reward_scaler': None, 'scaler': {'type': 'min_max', 'params': {'maximum': array([0.96323906, 0.94405025, 0.99590854, 0.94954401, 0.97949538]), 'minimum': array([-0.96950994, -0.92067972, -0.99738955, -0.96728401, -0.98904295])}}, 'target_update_interval': 100, 'use_gpu': None, 'algorithm': 'FQE', 'observation_shape': (5,), 'action_size': 3}\n"
     ]
    },
    {
     "data": {
      "application/vnd.jupyter.widget-view+json": {
       "model_id": "d8998ff1b4ec4ea9a99dc8ff6c5a38a7",
       "version_major": 2,
       "version_minor": 0
      },
      "text/plain": [
       "Epoch 1/1:   0%|          | 0/20 [00:00<?, ?it/s]"
      ]
     },
     "metadata": {},
     "output_type": "display_data"
    },
    {
     "name": "stdout",
     "output_type": "stream",
     "text": [
      "2023-04-06 19:44.22 [info     ] FQE_20230406194422: epoch=1 step=20 epoch=1 metrics={'time_sample_batch': 9.282827377319336e-05, 'time_algorithm_update': 0.0013499855995178223, 'loss': 0.12338244020938874, 'time_step': 0.0015030026435852051} step=20\n",
      "2023-04-06 19:44.22 [info     ] Model parameters are saved to d3rlpy_logs/FQE_20230406194422/model_20.pt\n"
     ]
    },
    {
     "data": {
      "application/vnd.jupyter.widget-view+json": {
       "model_id": "d4b3e4bf61cc4b518986170bc82364ab",
       "version_major": 2,
       "version_minor": 0
      },
      "text/plain": [
       "[fit MWL model]:   0%|          | 0/2 [00:00<?, ?it/s]"
      ]
     },
     "metadata": {},
     "output_type": "display_data"
    },
    {
     "data": {
      "application/vnd.jupyter.widget-view+json": {
       "model_id": "acaf711c4d10429fbf53a1dd6dff2153",
       "version_major": 2,
       "version_minor": 0
      },
      "text/plain": [
       "[fitting_weight_function]:   0%|          | 0/100 [00:00<?, ?it/s]"
      ]
     },
     "metadata": {},
     "output_type": "display_data"
    },
    {
     "data": {
      "application/vnd.jupyter.widget-view+json": {
       "model_id": "ea86402e67f247b3adeb59e4cd301fcb",
       "version_major": 2,
       "version_minor": 0
      },
      "text/plain": [
       "[fitting_weight_function]:   0%|          | 0/100 [00:00<?, ?it/s]"
      ]
     },
     "metadata": {},
     "output_type": "display_data"
    },
    {
     "data": {
      "application/vnd.jupyter.widget-view+json": {
       "model_id": "16493fa7234743a7a213697c04145470",
       "version_major": 2,
       "version_minor": 0
      },
      "text/plain": [
       "[fitting_weight_function]:   0%|          | 0/100 [00:00<?, ?it/s]"
      ]
     },
     "metadata": {},
     "output_type": "display_data"
    },
    {
     "data": {
      "application/vnd.jupyter.widget-view+json": {
       "model_id": "e5d63763580943a6b872dc03669d4c8a",
       "version_major": 2,
       "version_minor": 0
      },
      "text/plain": [
       "[fitting_weight_function]:   0%|          | 0/100 [00:00<?, ?it/s]"
      ]
     },
     "metadata": {},
     "output_type": "display_data"
    },
    {
     "data": {
      "application/vnd.jupyter.widget-view+json": {
       "model_id": "2e5e5500f682419c9e9d40093d01e736",
       "version_major": 2,
       "version_minor": 0
      },
      "text/plain": [
       "[collect input data: eval_policy]:   0%|          | 0/2 [00:00<?, ?it/s]"
      ]
     },
     "metadata": {},
     "output_type": "display_data"
    },
    {
     "data": {
      "application/vnd.jupyter.widget-view+json": {
       "model_id": "6769df9060fd4558bc8a834874f01a02",
       "version_major": 2,
       "version_minor": 0
      },
      "text/plain": [
       "[calculate on-policy policy value]:   0%|          | 0/100 [00:00<?, ?it/s]"
      ]
     },
     "metadata": {},
     "output_type": "display_data"
    },
    {
     "data": {
      "application/vnd.jupyter.widget-view+json": {
       "model_id": "fa8bed5b9f86498693a7a4b42030b41d",
       "version_major": 2,
       "version_minor": 0
      },
      "text/plain": [
       "[calculate on-policy policy value]:   0%|          | 0/100 [00:00<?, ?it/s]"
      ]
     },
     "metadata": {},
     "output_type": "display_data"
    },
    {
     "data": {
      "application/vnd.jupyter.widget-view+json": {
       "model_id": "1009d8c7cc8f4298a3a44d2a1a1a13ee",
       "version_major": 2,
       "version_minor": 0
      },
      "text/plain": [
       "[obtain_trajectories]:   0%|          | 0/200 [00:00<?, ?it/s]"
      ]
     },
     "metadata": {},
     "output_type": "display_data"
    },
    {
     "data": {
      "application/vnd.jupyter.widget-view+json": {
       "model_id": "aa59a60cd9f3470da0d3adc891ce0d18",
       "version_major": 2,
       "version_minor": 0
      },
      "text/plain": [
       "[obtain_trajectories]:   0%|          | 0/200 [00:00<?, ?it/s]"
      ]
     },
     "metadata": {},
     "output_type": "display_data"
    },
    {
     "name": "stdout",
     "output_type": "stream",
     "text": [
      "2023-04-06 20:02.36 [debug    ] RandomIterator is selected.\n",
      "2023-04-06 20:02.36 [info     ] Directory is created at d3rlpy_logs/CQL_20230406200236\n",
      "2023-04-06 20:02.36 [debug    ] Fitting action scaler...       action_scaler=min_max\n",
      "2023-04-06 20:02.36 [debug    ] Building models...\n",
      "2023-04-06 20:02.36 [debug    ] Models have been built.\n",
      "2023-04-06 20:02.36 [info     ] Parameters are saved to d3rlpy_logs/CQL_20230406200236/params.json params={'action_scaler': {'type': 'min_max', 'params': {'minimum': array([-1., -1., -1.]), 'maximum': array([1., 1., 1.])}}, 'actor_encoder_factory': {'type': 'vector', 'params': {'hidden_units': [30, 30], 'activation': 'relu', 'use_batch_norm': False, 'dropout_rate': None, 'use_dense': False}}, 'actor_learning_rate': 0.0001, 'actor_optim_factory': {'optim_cls': 'Adam', 'betas': (0.9, 0.999), 'eps': 1e-08, 'weight_decay': 0, 'amsgrad': False}, 'alpha_learning_rate': 0.0001, 'alpha_optim_factory': {'optim_cls': 'Adam', 'betas': (0.9, 0.999), 'eps': 1e-08, 'weight_decay': 0, 'amsgrad': False}, 'alpha_threshold': 10.0, 'batch_size': 256, 'conservative_weight': 5.0, 'critic_encoder_factory': {'type': 'vector', 'params': {'hidden_units': [30, 30], 'activation': 'relu', 'use_batch_norm': False, 'dropout_rate': None, 'use_dense': False}}, 'critic_learning_rate': 0.0003, 'critic_optim_factory': {'optim_cls': 'Adam', 'betas': (0.9, 0.999), 'eps': 1e-08, 'weight_decay': 0, 'amsgrad': False}, 'gamma': 0.99, 'generated_maxlen': 100000, 'initial_alpha': 1.0, 'initial_temperature': 1.0, 'n_action_samples': 10, 'n_critics': 2, 'n_frames': 1, 'n_steps': 1, 'q_func_factory': {'type': 'mean', 'params': {'share_encoder': False}}, 'real_ratio': 1.0, 'reward_scaler': None, 'scaler': None, 'soft_q_backup': False, 'tau': 0.005, 'temp_learning_rate': 0.0001, 'temp_optim_factory': {'optim_cls': 'Adam', 'betas': (0.9, 0.999), 'eps': 1e-08, 'weight_decay': 0, 'amsgrad': False}, 'use_gpu': None, 'algorithm': 'CQL', 'observation_shape': (5,), 'action_size': 3}\n"
     ]
    },
    {
     "data": {
      "application/vnd.jupyter.widget-view+json": {
       "model_id": "779c877d7545488ba69a34693824a0f5",
       "version_major": 2,
       "version_minor": 0
      },
      "text/plain": [
       "Epoch 1/1:   0%|          | 0/10000 [00:00<?, ?it/s]"
      ]
     },
     "metadata": {},
     "output_type": "display_data"
    },
    {
     "name": "stdout",
     "output_type": "stream",
     "text": [
      "2023-04-06 21:12.57 [info     ] CQL_20230406200236: epoch=1 step=10000 epoch=1 metrics={'time_sample_batch': 0.0005861129522323608, 'time_algorithm_update': 0.42094651055335996, 'temp_loss': 3.1954867750048637, 'temp': 0.6505677046746016, 'alpha_loss': -29.74322064590454, 'alpha': 1.792234577214718, 'critic_loss': 30.704316199684143, 'actor_loss': -2.878337033319473, 'time_step': 0.42196050369739535} step=10000\n",
      "2023-04-06 21:12.57 [info     ] Model parameters are saved to d3rlpy_logs/CQL_20230406200236/model_10000.pt\n"
     ]
    },
    {
     "data": {
      "application/vnd.jupyter.widget-view+json": {
       "model_id": "267c7b08eeeb4e2e95b9ce50d0822b8e",
       "version_major": 2,
       "version_minor": 0
      },
      "text/plain": [
       "[fit FQE model]:   0%|          | 0/2 [00:00<?, ?it/s]"
      ]
     },
     "metadata": {},
     "output_type": "display_data"
    },
    {
     "name": "stdout",
     "output_type": "stream",
     "text": [
      "2023-04-06 21:12.57 [debug    ] RoundIterator is selected.\n",
      "2023-04-06 21:12.57 [info     ] Directory is created at d3rlpy_logs/FQE_20230406211257\n",
      "2023-04-06 21:12.57 [debug    ] Fitting scaler...              scaler=min_max\n",
      "2023-04-06 21:12.57 [debug    ] Fitting action scaler...       action_scaler=min_max\n",
      "2023-04-06 21:12.57 [debug    ] Building models...\n",
      "2023-04-06 21:12.57 [debug    ] Models have been built.\n",
      "2023-04-06 21:12.57 [info     ] Parameters are saved to d3rlpy_logs/FQE_20230406211257/params.json params={'action_scaler': {'type': 'min_max', 'params': {'minimum': array([-1., -1., -1.]), 'maximum': array([1., 1., 1.])}}, 'batch_size': 100, 'encoder_factory': {'type': 'vector', 'params': {'hidden_units': [30, 30], 'activation': 'relu', 'use_batch_norm': False, 'dropout_rate': None, 'use_dense': False}}, 'gamma': 0.95, 'generated_maxlen': 100000, 'learning_rate': 0.0001, 'n_critics': 1, 'n_frames': 1, 'n_steps': 1, 'optim_factory': {'optim_cls': 'Adam', 'betas': (0.9, 0.999), 'eps': 1e-08, 'weight_decay': 0, 'amsgrad': False}, 'q_func_factory': {'type': 'mean', 'params': {'share_encoder': False}}, 'real_ratio': 1.0, 'reward_scaler': None, 'scaler': {'type': 'min_max', 'params': {'maximum': array([0.93177052, 0.9723519 , 0.98643953, 0.90926095, 0.97809324]), 'minimum': array([-0.99044977, -0.94542242, -0.99073372, -0.92337296, -0.9735093 ])}}, 'target_update_interval': 100, 'use_gpu': None, 'algorithm': 'FQE', 'observation_shape': (5,), 'action_size': 3}\n"
     ]
    },
    {
     "data": {
      "application/vnd.jupyter.widget-view+json": {
       "model_id": "c599192fb0584524934327d6c20ceecc",
       "version_major": 2,
       "version_minor": 0
      },
      "text/plain": [
       "Epoch 1/1:   0%|          | 0/20 [00:00<?, ?it/s]"
      ]
     },
     "metadata": {},
     "output_type": "display_data"
    },
    {
     "name": "stdout",
     "output_type": "stream",
     "text": [
      "2023-04-06 21:12.57 [info     ] FQE_20230406211257: epoch=1 step=20 epoch=1 metrics={'time_sample_batch': 0.00012110471725463867, 'time_algorithm_update': 0.0014428257942199706, 'loss': 0.11332079134881497, 'time_step': 0.0016296029090881348} step=20\n",
      "2023-04-06 21:12.57 [info     ] Model parameters are saved to d3rlpy_logs/FQE_20230406211257/model_20.pt\n",
      "2023-04-06 21:12.57 [debug    ] RoundIterator is selected.\n",
      "2023-04-06 21:12.58 [info     ] Directory is created at d3rlpy_logs/FQE_20230406211258\n",
      "2023-04-06 21:12.58 [debug    ] Fitting scaler...              scaler=min_max\n",
      "2023-04-06 21:12.58 [debug    ] Fitting action scaler...       action_scaler=min_max\n",
      "2023-04-06 21:12.58 [debug    ] Building models...\n",
      "2023-04-06 21:12.58 [debug    ] Models have been built.\n",
      "2023-04-06 21:12.58 [info     ] Parameters are saved to d3rlpy_logs/FQE_20230406211258/params.json params={'action_scaler': {'type': 'min_max', 'params': {'minimum': array([-1., -1., -1.]), 'maximum': array([1., 1., 1.])}}, 'batch_size': 100, 'encoder_factory': {'type': 'vector', 'params': {'hidden_units': [30, 30], 'activation': 'relu', 'use_batch_norm': False, 'dropout_rate': None, 'use_dense': False}}, 'gamma': 0.95, 'generated_maxlen': 100000, 'learning_rate': 0.0001, 'n_critics': 1, 'n_frames': 1, 'n_steps': 1, 'optim_factory': {'optim_cls': 'Adam', 'betas': (0.9, 0.999), 'eps': 1e-08, 'weight_decay': 0, 'amsgrad': False}, 'q_func_factory': {'type': 'mean', 'params': {'share_encoder': False}}, 'real_ratio': 1.0, 'reward_scaler': None, 'scaler': {'type': 'min_max', 'params': {'maximum': array([0.93177052, 0.9723519 , 0.98643953, 0.90926095, 0.97809324]), 'minimum': array([-0.99044977, -0.94542242, -0.99073372, -0.92337296, -0.9735093 ])}}, 'target_update_interval': 100, 'use_gpu': None, 'algorithm': 'FQE', 'observation_shape': (5,), 'action_size': 3}\n"
     ]
    },
    {
     "data": {
      "application/vnd.jupyter.widget-view+json": {
       "model_id": "0887b482b58142e9a9a7535936f92479",
       "version_major": 2,
       "version_minor": 0
      },
      "text/plain": [
       "Epoch 1/1:   0%|          | 0/20 [00:00<?, ?it/s]"
      ]
     },
     "metadata": {},
     "output_type": "display_data"
    },
    {
     "name": "stdout",
     "output_type": "stream",
     "text": [
      "2023-04-06 21:12.58 [info     ] FQE_20230406211258: epoch=1 step=20 epoch=1 metrics={'time_sample_batch': 8.810758590698242e-05, 'time_algorithm_update': 0.0012315034866333008, 'loss': 0.11639896333217621, 'time_step': 0.001352977752685547} step=20\n",
      "2023-04-06 21:12.58 [info     ] Model parameters are saved to d3rlpy_logs/FQE_20230406211258/model_20.pt\n"
     ]
    },
    {
     "data": {
      "application/vnd.jupyter.widget-view+json": {
       "model_id": "c9c82e6ae25c48cab796e627172ecefe",
       "version_major": 2,
       "version_minor": 0
      },
      "text/plain": [
       "[fit MWL model]:   0%|          | 0/2 [00:00<?, ?it/s]"
      ]
     },
     "metadata": {},
     "output_type": "display_data"
    },
    {
     "data": {
      "application/vnd.jupyter.widget-view+json": {
       "model_id": "b18ea1770cbd4ae48f2422b810b88dec",
       "version_major": 2,
       "version_minor": 0
      },
      "text/plain": [
       "[fitting_weight_function]:   0%|          | 0/100 [00:00<?, ?it/s]"
      ]
     },
     "metadata": {},
     "output_type": "display_data"
    },
    {
     "data": {
      "application/vnd.jupyter.widget-view+json": {
       "model_id": "1aad61349e9b456c91e6f174f56684d8",
       "version_major": 2,
       "version_minor": 0
      },
      "text/plain": [
       "[fitting_weight_function]:   0%|          | 0/100 [00:00<?, ?it/s]"
      ]
     },
     "metadata": {},
     "output_type": "display_data"
    },
    {
     "data": {
      "application/vnd.jupyter.widget-view+json": {
       "model_id": "0a6acba90f684007886046eb4848acca",
       "version_major": 2,
       "version_minor": 0
      },
      "text/plain": [
       "[fitting_weight_function]:   0%|          | 0/100 [00:00<?, ?it/s]"
      ]
     },
     "metadata": {},
     "output_type": "display_data"
    },
    {
     "data": {
      "application/vnd.jupyter.widget-view+json": {
       "model_id": "9ec75943762f47c097159833ab57a62b",
       "version_major": 2,
       "version_minor": 0
      },
      "text/plain": [
       "[fitting_weight_function]:   0%|          | 0/100 [00:00<?, ?it/s]"
      ]
     },
     "metadata": {},
     "output_type": "display_data"
    },
    {
     "data": {
      "application/vnd.jupyter.widget-view+json": {
       "model_id": "a82e81c7444548a2a802e0da402f7c7b",
       "version_major": 2,
       "version_minor": 0
      },
      "text/plain": [
       "[collect input data: eval_policy]:   0%|          | 0/2 [00:00<?, ?it/s]"
      ]
     },
     "metadata": {},
     "output_type": "display_data"
    },
    {
     "data": {
      "application/vnd.jupyter.widget-view+json": {
       "model_id": "b2b89f9617364f3fb1f343156833cd43",
       "version_major": 2,
       "version_minor": 0
      },
      "text/plain": [
       "[calculate on-policy policy value]:   0%|          | 0/100 [00:00<?, ?it/s]"
      ]
     },
     "metadata": {},
     "output_type": "display_data"
    },
    {
     "data": {
      "application/vnd.jupyter.widget-view+json": {
       "model_id": "18da5048d32f44d7949be24bb77fc4b9",
       "version_major": 2,
       "version_minor": 0
      },
      "text/plain": [
       "[calculate on-policy policy value]:   0%|          | 0/100 [00:00<?, ?it/s]"
      ]
     },
     "metadata": {},
     "output_type": "display_data"
    },
    {
     "data": {
      "application/vnd.jupyter.widget-view+json": {
       "model_id": "173bfb16c2774ae182c23e4d67cb4994",
       "version_major": 2,
       "version_minor": 0
      },
      "text/plain": [
       "[obtain_trajectories]:   0%|          | 0/200 [00:00<?, ?it/s]"
      ]
     },
     "metadata": {},
     "output_type": "display_data"
    },
    {
     "data": {
      "application/vnd.jupyter.widget-view+json": {
       "model_id": "be25466b515d403cba5567fc8b9f1b75",
       "version_major": 2,
       "version_minor": 0
      },
      "text/plain": [
       "[obtain_trajectories]:   0%|          | 0/200 [00:00<?, ?it/s]"
      ]
     },
     "metadata": {},
     "output_type": "display_data"
    },
    {
     "name": "stdout",
     "output_type": "stream",
     "text": [
      "2023-04-06 21:14.30 [debug    ] RandomIterator is selected.\n",
      "2023-04-06 21:14.30 [info     ] Directory is created at d3rlpy_logs/CQL_20230406211430\n",
      "2023-04-06 21:14.30 [debug    ] Fitting action scaler...       action_scaler=min_max\n",
      "2023-04-06 21:14.30 [debug    ] Building models...\n",
      "2023-04-06 21:14.30 [debug    ] Models have been built.\n",
      "2023-04-06 21:14.30 [info     ] Parameters are saved to d3rlpy_logs/CQL_20230406211430/params.json params={'action_scaler': {'type': 'min_max', 'params': {'minimum': array([-1., -1., -1.]), 'maximum': array([1., 1., 1.])}}, 'actor_encoder_factory': {'type': 'vector', 'params': {'hidden_units': [30, 30], 'activation': 'relu', 'use_batch_norm': False, 'dropout_rate': None, 'use_dense': False}}, 'actor_learning_rate': 0.0001, 'actor_optim_factory': {'optim_cls': 'Adam', 'betas': (0.9, 0.999), 'eps': 1e-08, 'weight_decay': 0, 'amsgrad': False}, 'alpha_learning_rate': 0.0001, 'alpha_optim_factory': {'optim_cls': 'Adam', 'betas': (0.9, 0.999), 'eps': 1e-08, 'weight_decay': 0, 'amsgrad': False}, 'alpha_threshold': 10.0, 'batch_size': 256, 'conservative_weight': 5.0, 'critic_encoder_factory': {'type': 'vector', 'params': {'hidden_units': [30, 30], 'activation': 'relu', 'use_batch_norm': False, 'dropout_rate': None, 'use_dense': False}}, 'critic_learning_rate': 0.0003, 'critic_optim_factory': {'optim_cls': 'Adam', 'betas': (0.9, 0.999), 'eps': 1e-08, 'weight_decay': 0, 'amsgrad': False}, 'gamma': 0.99, 'generated_maxlen': 100000, 'initial_alpha': 1.0, 'initial_temperature': 1.0, 'n_action_samples': 10, 'n_critics': 2, 'n_frames': 1, 'n_steps': 1, 'q_func_factory': {'type': 'mean', 'params': {'share_encoder': False}}, 'real_ratio': 1.0, 'reward_scaler': None, 'scaler': None, 'soft_q_backup': False, 'tau': 0.005, 'temp_learning_rate': 0.0001, 'temp_optim_factory': {'optim_cls': 'Adam', 'betas': (0.9, 0.999), 'eps': 1e-08, 'weight_decay': 0, 'amsgrad': False}, 'use_gpu': None, 'algorithm': 'CQL', 'observation_shape': (5,), 'action_size': 3}\n"
     ]
    },
    {
     "data": {
      "application/vnd.jupyter.widget-view+json": {
       "model_id": "5bb0a12e7e0247b7b6de2b93ae56387b",
       "version_major": 2,
       "version_minor": 0
      },
      "text/plain": [
       "Epoch 1/1:   0%|          | 0/10000 [00:00<?, ?it/s]"
      ]
     },
     "metadata": {},
     "output_type": "display_data"
    },
    {
     "name": "stdout",
     "output_type": "stream",
     "text": [
      "2023-04-06 21:18.14 [info     ] CQL_20230406211430: epoch=1 step=10000 epoch=1 metrics={'time_sample_batch': 0.0005508510828018189, 'time_algorithm_update': 0.021268533873558045, 'temp_loss': 3.187562083172798, 'temp': 0.6506267513096332, 'alpha_loss': -29.6001557138443, 'alpha': 1.7920564776659011, 'critic_loss': 30.96555721511841, 'actor_loss': -3.2792288851976394, 'time_step': 0.022254086303710938} step=10000\n",
      "2023-04-06 21:18.14 [info     ] Model parameters are saved to d3rlpy_logs/CQL_20230406211430/model_10000.pt\n"
     ]
    },
    {
     "data": {
      "application/vnd.jupyter.widget-view+json": {
       "model_id": "4da3a894545a43fd9e9b762c7802f9b0",
       "version_major": 2,
       "version_minor": 0
      },
      "text/plain": [
       "[fit FQE model]:   0%|          | 0/2 [00:00<?, ?it/s]"
      ]
     },
     "metadata": {},
     "output_type": "display_data"
    },
    {
     "name": "stdout",
     "output_type": "stream",
     "text": [
      "2023-04-06 21:18.14 [debug    ] RoundIterator is selected.\n",
      "2023-04-06 21:18.14 [info     ] Directory is created at d3rlpy_logs/FQE_20230406211814\n",
      "2023-04-06 21:18.14 [debug    ] Fitting scaler...              scaler=min_max\n",
      "2023-04-06 21:18.14 [debug    ] Fitting action scaler...       action_scaler=min_max\n",
      "2023-04-06 21:18.14 [debug    ] Building models...\n",
      "2023-04-06 21:18.14 [debug    ] Models have been built.\n",
      "2023-04-06 21:18.14 [info     ] Parameters are saved to d3rlpy_logs/FQE_20230406211814/params.json params={'action_scaler': {'type': 'min_max', 'params': {'minimum': array([-1., -1., -1.]), 'maximum': array([1., 1., 1.])}}, 'batch_size': 100, 'encoder_factory': {'type': 'vector', 'params': {'hidden_units': [30, 30], 'activation': 'relu', 'use_batch_norm': False, 'dropout_rate': None, 'use_dense': False}}, 'gamma': 0.95, 'generated_maxlen': 100000, 'learning_rate': 0.0001, 'n_critics': 1, 'n_frames': 1, 'n_steps': 1, 'optim_factory': {'optim_cls': 'Adam', 'betas': (0.9, 0.999), 'eps': 1e-08, 'weight_decay': 0, 'amsgrad': False}, 'q_func_factory': {'type': 'mean', 'params': {'share_encoder': False}}, 'real_ratio': 1.0, 'reward_scaler': None, 'scaler': {'type': 'min_max', 'params': {'maximum': array([0.93691287, 0.97073807, 0.99850956, 0.9606151 , 0.98468928]), 'minimum': array([-0.93503268, -0.94747529, -0.98553187, -0.96767084, -0.94758553])}}, 'target_update_interval': 100, 'use_gpu': None, 'algorithm': 'FQE', 'observation_shape': (5,), 'action_size': 3}\n"
     ]
    },
    {
     "data": {
      "application/vnd.jupyter.widget-view+json": {
       "model_id": "b0eb7d1eb8664e479c983dc62973d79c",
       "version_major": 2,
       "version_minor": 0
      },
      "text/plain": [
       "Epoch 1/1:   0%|          | 0/20 [00:00<?, ?it/s]"
      ]
     },
     "metadata": {},
     "output_type": "display_data"
    },
    {
     "name": "stdout",
     "output_type": "stream",
     "text": [
      "2023-04-06 21:18.14 [info     ] FQE_20230406211814: epoch=1 step=20 epoch=1 metrics={'time_sample_batch': 8.857250213623047e-05, 'time_algorithm_update': 0.0013325810432434082, 'loss': 0.11479140408337116, 'time_step': 0.0014663457870483399} step=20\n",
      "2023-04-06 21:18.14 [info     ] Model parameters are saved to d3rlpy_logs/FQE_20230406211814/model_20.pt\n",
      "2023-04-06 21:18.14 [debug    ] RoundIterator is selected.\n",
      "2023-04-06 21:18.15 [info     ] Directory is created at d3rlpy_logs/FQE_20230406211815\n",
      "2023-04-06 21:18.15 [debug    ] Fitting scaler...              scaler=min_max\n",
      "2023-04-06 21:18.15 [debug    ] Fitting action scaler...       action_scaler=min_max\n",
      "2023-04-06 21:18.15 [debug    ] Building models...\n",
      "2023-04-06 21:18.15 [debug    ] Models have been built.\n",
      "2023-04-06 21:18.15 [info     ] Parameters are saved to d3rlpy_logs/FQE_20230406211815/params.json params={'action_scaler': {'type': 'min_max', 'params': {'minimum': array([-1., -1., -1.]), 'maximum': array([1., 1., 1.])}}, 'batch_size': 100, 'encoder_factory': {'type': 'vector', 'params': {'hidden_units': [30, 30], 'activation': 'relu', 'use_batch_norm': False, 'dropout_rate': None, 'use_dense': False}}, 'gamma': 0.95, 'generated_maxlen': 100000, 'learning_rate': 0.0001, 'n_critics': 1, 'n_frames': 1, 'n_steps': 1, 'optim_factory': {'optim_cls': 'Adam', 'betas': (0.9, 0.999), 'eps': 1e-08, 'weight_decay': 0, 'amsgrad': False}, 'q_func_factory': {'type': 'mean', 'params': {'share_encoder': False}}, 'real_ratio': 1.0, 'reward_scaler': None, 'scaler': {'type': 'min_max', 'params': {'maximum': array([0.93691287, 0.97073807, 0.99850956, 0.9606151 , 0.98468928]), 'minimum': array([-0.93503268, -0.94747529, -0.98553187, -0.96767084, -0.94758553])}}, 'target_update_interval': 100, 'use_gpu': None, 'algorithm': 'FQE', 'observation_shape': (5,), 'action_size': 3}\n"
     ]
    },
    {
     "data": {
      "application/vnd.jupyter.widget-view+json": {
       "model_id": "bc43497a8e0a4cefb2f625761b6f523a",
       "version_major": 2,
       "version_minor": 0
      },
      "text/plain": [
       "Epoch 1/1:   0%|          | 0/20 [00:00<?, ?it/s]"
      ]
     },
     "metadata": {},
     "output_type": "display_data"
    },
    {
     "name": "stdout",
     "output_type": "stream",
     "text": [
      "2023-04-06 21:18.15 [info     ] FQE_20230406211815: epoch=1 step=20 epoch=1 metrics={'time_sample_batch': 0.00011345148086547852, 'time_algorithm_update': 0.0012905001640319824, 'loss': 0.11530291512608529, 'time_step': 0.0014474630355834962} step=20\n",
      "2023-04-06 21:18.15 [info     ] Model parameters are saved to d3rlpy_logs/FQE_20230406211815/model_20.pt\n"
     ]
    },
    {
     "data": {
      "application/vnd.jupyter.widget-view+json": {
       "model_id": "6955f8c557294a0a808aaf8edd147420",
       "version_major": 2,
       "version_minor": 0
      },
      "text/plain": [
       "[fit MWL model]:   0%|          | 0/2 [00:00<?, ?it/s]"
      ]
     },
     "metadata": {},
     "output_type": "display_data"
    },
    {
     "data": {
      "application/vnd.jupyter.widget-view+json": {
       "model_id": "9a77cdb1eee74388bcb2614b0c7526d8",
       "version_major": 2,
       "version_minor": 0
      },
      "text/plain": [
       "[fitting_weight_function]:   0%|          | 0/100 [00:00<?, ?it/s]"
      ]
     },
     "metadata": {},
     "output_type": "display_data"
    },
    {
     "data": {
      "application/vnd.jupyter.widget-view+json": {
       "model_id": "a066da13d9754a8aaef864fff530af91",
       "version_major": 2,
       "version_minor": 0
      },
      "text/plain": [
       "[fitting_weight_function]:   0%|          | 0/100 [00:00<?, ?it/s]"
      ]
     },
     "metadata": {},
     "output_type": "display_data"
    },
    {
     "data": {
      "application/vnd.jupyter.widget-view+json": {
       "model_id": "de39a688bbac4d0fabe7353326bc4fca",
       "version_major": 2,
       "version_minor": 0
      },
      "text/plain": [
       "[fitting_weight_function]:   0%|          | 0/100 [00:00<?, ?it/s]"
      ]
     },
     "metadata": {},
     "output_type": "display_data"
    },
    {
     "data": {
      "application/vnd.jupyter.widget-view+json": {
       "model_id": "008802983065469d8e273feb81a0e01f",
       "version_major": 2,
       "version_minor": 0
      },
      "text/plain": [
       "[fitting_weight_function]:   0%|          | 0/100 [00:00<?, ?it/s]"
      ]
     },
     "metadata": {},
     "output_type": "display_data"
    },
    {
     "data": {
      "application/vnd.jupyter.widget-view+json": {
       "model_id": "9f99e177f69e47cb8fabc940f6418d3b",
       "version_major": 2,
       "version_minor": 0
      },
      "text/plain": [
       "[collect input data: eval_policy]:   0%|          | 0/2 [00:00<?, ?it/s]"
      ]
     },
     "metadata": {},
     "output_type": "display_data"
    },
    {
     "data": {
      "application/vnd.jupyter.widget-view+json": {
       "model_id": "52a62d3f53824637a724eb3fb559cbcb",
       "version_major": 2,
       "version_minor": 0
      },
      "text/plain": [
       "[calculate on-policy policy value]:   0%|          | 0/100 [00:00<?, ?it/s]"
      ]
     },
     "metadata": {},
     "output_type": "display_data"
    },
    {
     "data": {
      "application/vnd.jupyter.widget-view+json": {
       "model_id": "c6d30a7e4e324b91b0231e22633f779c",
       "version_major": 2,
       "version_minor": 0
      },
      "text/plain": [
       "[calculate on-policy policy value]:   0%|          | 0/100 [00:00<?, ?it/s]"
      ]
     },
     "metadata": {},
     "output_type": "display_data"
    },
    {
     "data": {
      "application/vnd.jupyter.widget-view+json": {
       "model_id": "d3583b39d28543f485b56f0724c9a787",
       "version_major": 2,
       "version_minor": 0
      },
      "text/plain": [
       "[obtain_trajectories]:   0%|          | 0/400 [00:00<?, ?it/s]"
      ]
     },
     "metadata": {},
     "output_type": "display_data"
    },
    {
     "data": {
      "application/vnd.jupyter.widget-view+json": {
       "model_id": "ae27681ce92d4a6d8070bbb038117934",
       "version_major": 2,
       "version_minor": 0
      },
      "text/plain": [
       "[obtain_trajectories]:   0%|          | 0/400 [00:00<?, ?it/s]"
      ]
     },
     "metadata": {},
     "output_type": "display_data"
    },
    {
     "name": "stdout",
     "output_type": "stream",
     "text": [
      "2023-04-06 21:19.01 [debug    ] RandomIterator is selected.\n",
      "2023-04-06 21:19.01 [info     ] Directory is created at d3rlpy_logs/CQL_20230406211901\n",
      "2023-04-06 21:19.01 [debug    ] Fitting action scaler...       action_scaler=min_max\n",
      "2023-04-06 21:19.01 [debug    ] Building models...\n",
      "2023-04-06 21:19.01 [debug    ] Models have been built.\n",
      "2023-04-06 21:19.01 [info     ] Parameters are saved to d3rlpy_logs/CQL_20230406211901/params.json params={'action_scaler': {'type': 'min_max', 'params': {'minimum': array([-1., -1., -1.]), 'maximum': array([1., 1., 1.])}}, 'actor_encoder_factory': {'type': 'vector', 'params': {'hidden_units': [30, 30], 'activation': 'relu', 'use_batch_norm': False, 'dropout_rate': None, 'use_dense': False}}, 'actor_learning_rate': 0.0001, 'actor_optim_factory': {'optim_cls': 'Adam', 'betas': (0.9, 0.999), 'eps': 1e-08, 'weight_decay': 0, 'amsgrad': False}, 'alpha_learning_rate': 0.0001, 'alpha_optim_factory': {'optim_cls': 'Adam', 'betas': (0.9, 0.999), 'eps': 1e-08, 'weight_decay': 0, 'amsgrad': False}, 'alpha_threshold': 10.0, 'batch_size': 256, 'conservative_weight': 5.0, 'critic_encoder_factory': {'type': 'vector', 'params': {'hidden_units': [30, 30], 'activation': 'relu', 'use_batch_norm': False, 'dropout_rate': None, 'use_dense': False}}, 'critic_learning_rate': 0.0003, 'critic_optim_factory': {'optim_cls': 'Adam', 'betas': (0.9, 0.999), 'eps': 1e-08, 'weight_decay': 0, 'amsgrad': False}, 'gamma': 0.99, 'generated_maxlen': 100000, 'initial_alpha': 1.0, 'initial_temperature': 1.0, 'n_action_samples': 10, 'n_critics': 2, 'n_frames': 1, 'n_steps': 1, 'q_func_factory': {'type': 'mean', 'params': {'share_encoder': False}}, 'real_ratio': 1.0, 'reward_scaler': None, 'scaler': None, 'soft_q_backup': False, 'tau': 0.005, 'temp_learning_rate': 0.0001, 'temp_optim_factory': {'optim_cls': 'Adam', 'betas': (0.9, 0.999), 'eps': 1e-08, 'weight_decay': 0, 'amsgrad': False}, 'use_gpu': None, 'algorithm': 'CQL', 'observation_shape': (5,), 'action_size': 3}\n"
     ]
    },
    {
     "data": {
      "application/vnd.jupyter.widget-view+json": {
       "model_id": "b08b3ac6b5874f96974827fe971c8642",
       "version_major": 2,
       "version_minor": 0
      },
      "text/plain": [
       "Epoch 1/1:   0%|          | 0/10000 [00:00<?, ?it/s]"
      ]
     },
     "metadata": {},
     "output_type": "display_data"
    },
    {
     "name": "stdout",
     "output_type": "stream",
     "text": [
      "2023-04-06 21:23.00 [info     ] CQL_20230406211901: epoch=1 step=10000 epoch=1 metrics={'time_sample_batch': 0.000629214859008789, 'time_algorithm_update': 0.02256704556941986, 'temp_loss': 3.2102857628703116, 'temp': 0.6502505194574595, 'alpha_loss': -30.385169751167297, 'alpha': 1.7951329562425613, 'critic_loss': 31.87665005187988, 'actor_loss': -3.548755603790283, 'time_step': 0.0236788738489151} step=10000\n",
      "2023-04-06 21:23.00 [info     ] Model parameters are saved to d3rlpy_logs/CQL_20230406211901/model_10000.pt\n"
     ]
    },
    {
     "data": {
      "application/vnd.jupyter.widget-view+json": {
       "model_id": "2debd6988dcd4409bfd447da4c525d5a",
       "version_major": 2,
       "version_minor": 0
      },
      "text/plain": [
       "[fit FQE model]:   0%|          | 0/2 [00:00<?, ?it/s]"
      ]
     },
     "metadata": {},
     "output_type": "display_data"
    },
    {
     "name": "stdout",
     "output_type": "stream",
     "text": [
      "2023-04-06 21:23.00 [debug    ] RoundIterator is selected.\n",
      "2023-04-06 21:23.00 [info     ] Directory is created at d3rlpy_logs/FQE_20230406212300\n",
      "2023-04-06 21:23.00 [debug    ] Fitting scaler...              scaler=min_max\n",
      "2023-04-06 21:23.00 [debug    ] Fitting action scaler...       action_scaler=min_max\n",
      "2023-04-06 21:23.00 [debug    ] Building models...\n",
      "2023-04-06 21:23.00 [debug    ] Models have been built.\n",
      "2023-04-06 21:23.00 [info     ] Parameters are saved to d3rlpy_logs/FQE_20230406212300/params.json params={'action_scaler': {'type': 'min_max', 'params': {'minimum': array([-1., -1., -1.]), 'maximum': array([1., 1., 1.])}}, 'batch_size': 100, 'encoder_factory': {'type': 'vector', 'params': {'hidden_units': [30, 30], 'activation': 'relu', 'use_batch_norm': False, 'dropout_rate': None, 'use_dense': False}}, 'gamma': 0.95, 'generated_maxlen': 100000, 'learning_rate': 0.0001, 'n_critics': 1, 'n_frames': 1, 'n_steps': 1, 'optim_factory': {'optim_cls': 'Adam', 'betas': (0.9, 0.999), 'eps': 1e-08, 'weight_decay': 0, 'amsgrad': False}, 'q_func_factory': {'type': 'mean', 'params': {'share_encoder': False}}, 'real_ratio': 1.0, 'reward_scaler': None, 'scaler': {'type': 'min_max', 'params': {'maximum': array([0.99143049, 0.94666147, 0.99344225, 0.96133844, 0.99269741]), 'minimum': array([-0.95500795, -0.94793018, -0.98462771, -0.93156835, -0.98149254])}}, 'target_update_interval': 100, 'use_gpu': None, 'algorithm': 'FQE', 'observation_shape': (5,), 'action_size': 3}\n"
     ]
    },
    {
     "data": {
      "application/vnd.jupyter.widget-view+json": {
       "model_id": "5304b09468274dd5b682cc6e39df5cff",
       "version_major": 2,
       "version_minor": 0
      },
      "text/plain": [
       "Epoch 1/1:   0%|          | 0/40 [00:00<?, ?it/s]"
      ]
     },
     "metadata": {},
     "output_type": "display_data"
    },
    {
     "name": "stdout",
     "output_type": "stream",
     "text": [
      "2023-04-06 21:23.00 [info     ] FQE_20230406212300: epoch=1 step=40 epoch=1 metrics={'time_sample_batch': 0.00010350942611694335, 'time_algorithm_update': 0.0015092194080352783, 'loss': 0.13363920096307993, 'time_step': 0.0016577661037445069} step=40\n",
      "2023-04-06 21:23.00 [info     ] Model parameters are saved to d3rlpy_logs/FQE_20230406212300/model_40.pt\n",
      "2023-04-06 21:23.00 [debug    ] RoundIterator is selected.\n",
      "2023-04-06 21:23.01 [info     ] Directory is created at d3rlpy_logs/FQE_20230406212301\n",
      "2023-04-06 21:23.01 [debug    ] Fitting scaler...              scaler=min_max\n",
      "2023-04-06 21:23.01 [debug    ] Fitting action scaler...       action_scaler=min_max\n",
      "2023-04-06 21:23.01 [debug    ] Building models...\n",
      "2023-04-06 21:23.01 [debug    ] Models have been built.\n",
      "2023-04-06 21:23.01 [info     ] Parameters are saved to d3rlpy_logs/FQE_20230406212301/params.json params={'action_scaler': {'type': 'min_max', 'params': {'minimum': array([-1., -1., -1.]), 'maximum': array([1., 1., 1.])}}, 'batch_size': 100, 'encoder_factory': {'type': 'vector', 'params': {'hidden_units': [30, 30], 'activation': 'relu', 'use_batch_norm': False, 'dropout_rate': None, 'use_dense': False}}, 'gamma': 0.95, 'generated_maxlen': 100000, 'learning_rate': 0.0001, 'n_critics': 1, 'n_frames': 1, 'n_steps': 1, 'optim_factory': {'optim_cls': 'Adam', 'betas': (0.9, 0.999), 'eps': 1e-08, 'weight_decay': 0, 'amsgrad': False}, 'q_func_factory': {'type': 'mean', 'params': {'share_encoder': False}}, 'real_ratio': 1.0, 'reward_scaler': None, 'scaler': {'type': 'min_max', 'params': {'maximum': array([0.99143049, 0.94666147, 0.99344225, 0.96133844, 0.99269741]), 'minimum': array([-0.95500795, -0.94793018, -0.98462771, -0.93156835, -0.98149254])}}, 'target_update_interval': 100, 'use_gpu': None, 'algorithm': 'FQE', 'observation_shape': (5,), 'action_size': 3}\n"
     ]
    },
    {
     "data": {
      "application/vnd.jupyter.widget-view+json": {
       "model_id": "ca1724e4876e47cfa865997c8e0a4ac2",
       "version_major": 2,
       "version_minor": 0
      },
      "text/plain": [
       "Epoch 1/1:   0%|          | 0/40 [00:00<?, ?it/s]"
      ]
     },
     "metadata": {},
     "output_type": "display_data"
    },
    {
     "name": "stdout",
     "output_type": "stream",
     "text": [
      "2023-04-06 21:23.01 [info     ] FQE_20230406212301: epoch=1 step=40 epoch=1 metrics={'time_sample_batch': 0.0001015782356262207, 'time_algorithm_update': 0.0014508724212646484, 'loss': 0.1320354411378503, 'time_step': 0.001604992151260376} step=40\n",
      "2023-04-06 21:23.01 [info     ] Model parameters are saved to d3rlpy_logs/FQE_20230406212301/model_40.pt\n"
     ]
    },
    {
     "data": {
      "application/vnd.jupyter.widget-view+json": {
       "model_id": "a8c0a33226fc4acdb6fa3cee5bd57d1a",
       "version_major": 2,
       "version_minor": 0
      },
      "text/plain": [
       "[fit MWL model]:   0%|          | 0/2 [00:00<?, ?it/s]"
      ]
     },
     "metadata": {},
     "output_type": "display_data"
    },
    {
     "data": {
      "application/vnd.jupyter.widget-view+json": {
       "model_id": "a9d0443a648f4015b87530bdbfab6c39",
       "version_major": 2,
       "version_minor": 0
      },
      "text/plain": [
       "[fitting_weight_function]:   0%|          | 0/100 [00:00<?, ?it/s]"
      ]
     },
     "metadata": {},
     "output_type": "display_data"
    },
    {
     "data": {
      "application/vnd.jupyter.widget-view+json": {
       "model_id": "d063b92f82eb4ceaa1187b2f04172706",
       "version_major": 2,
       "version_minor": 0
      },
      "text/plain": [
       "[fitting_weight_function]:   0%|          | 0/100 [00:00<?, ?it/s]"
      ]
     },
     "metadata": {},
     "output_type": "display_data"
    },
    {
     "data": {
      "application/vnd.jupyter.widget-view+json": {
       "model_id": "47231b772a324d5ead0db7c5abb3e531",
       "version_major": 2,
       "version_minor": 0
      },
      "text/plain": [
       "[fitting_weight_function]:   0%|          | 0/100 [00:00<?, ?it/s]"
      ]
     },
     "metadata": {},
     "output_type": "display_data"
    },
    {
     "data": {
      "application/vnd.jupyter.widget-view+json": {
       "model_id": "c4039f0b46a94b1fb43fb3020fa15ee5",
       "version_major": 2,
       "version_minor": 0
      },
      "text/plain": [
       "[fitting_weight_function]:   0%|          | 0/100 [00:00<?, ?it/s]"
      ]
     },
     "metadata": {},
     "output_type": "display_data"
    },
    {
     "data": {
      "application/vnd.jupyter.widget-view+json": {
       "model_id": "9817375bd1c04ba48dd6a89e7c8d2a30",
       "version_major": 2,
       "version_minor": 0
      },
      "text/plain": [
       "[collect input data: eval_policy]:   0%|          | 0/2 [00:00<?, ?it/s]"
      ]
     },
     "metadata": {},
     "output_type": "display_data"
    },
    {
     "data": {
      "application/vnd.jupyter.widget-view+json": {
       "model_id": "917f784ce42e45e58d2c4a705759c585",
       "version_major": 2,
       "version_minor": 0
      },
      "text/plain": [
       "[calculate on-policy policy value]:   0%|          | 0/100 [00:00<?, ?it/s]"
      ]
     },
     "metadata": {},
     "output_type": "display_data"
    },
    {
     "data": {
      "application/vnd.jupyter.widget-view+json": {
       "model_id": "89a6bc1cc073479fbe25c35ae9cf9be0",
       "version_major": 2,
       "version_minor": 0
      },
      "text/plain": [
       "[calculate on-policy policy value]:   0%|          | 0/100 [00:00<?, ?it/s]"
      ]
     },
     "metadata": {},
     "output_type": "display_data"
    },
    {
     "data": {
      "application/vnd.jupyter.widget-view+json": {
       "model_id": "aa5906f097a946d4bbf54e92143b346a",
       "version_major": 2,
       "version_minor": 0
      },
      "text/plain": [
       "[obtain_trajectories]:   0%|          | 0/400 [00:00<?, ?it/s]"
      ]
     },
     "metadata": {},
     "output_type": "display_data"
    },
    {
     "data": {
      "application/vnd.jupyter.widget-view+json": {
       "model_id": "3d6bddd98b78484681e791fadff23b8e",
       "version_major": 2,
       "version_minor": 0
      },
      "text/plain": [
       "[obtain_trajectories]:   0%|          | 0/400 [00:00<?, ?it/s]"
      ]
     },
     "metadata": {},
     "output_type": "display_data"
    },
    {
     "name": "stdout",
     "output_type": "stream",
     "text": [
      "2023-04-06 21:23.52 [debug    ] RandomIterator is selected.\n",
      "2023-04-06 21:23.52 [info     ] Directory is created at d3rlpy_logs/CQL_20230406212352\n",
      "2023-04-06 21:23.52 [debug    ] Fitting action scaler...       action_scaler=min_max\n",
      "2023-04-06 21:23.52 [debug    ] Building models...\n",
      "2023-04-06 21:23.52 [debug    ] Models have been built.\n",
      "2023-04-06 21:23.52 [info     ] Parameters are saved to d3rlpy_logs/CQL_20230406212352/params.json params={'action_scaler': {'type': 'min_max', 'params': {'minimum': array([-1., -1., -1.]), 'maximum': array([1., 1., 1.])}}, 'actor_encoder_factory': {'type': 'vector', 'params': {'hidden_units': [30, 30], 'activation': 'relu', 'use_batch_norm': False, 'dropout_rate': None, 'use_dense': False}}, 'actor_learning_rate': 0.0001, 'actor_optim_factory': {'optim_cls': 'Adam', 'betas': (0.9, 0.999), 'eps': 1e-08, 'weight_decay': 0, 'amsgrad': False}, 'alpha_learning_rate': 0.0001, 'alpha_optim_factory': {'optim_cls': 'Adam', 'betas': (0.9, 0.999), 'eps': 1e-08, 'weight_decay': 0, 'amsgrad': False}, 'alpha_threshold': 10.0, 'batch_size': 256, 'conservative_weight': 5.0, 'critic_encoder_factory': {'type': 'vector', 'params': {'hidden_units': [30, 30], 'activation': 'relu', 'use_batch_norm': False, 'dropout_rate': None, 'use_dense': False}}, 'critic_learning_rate': 0.0003, 'critic_optim_factory': {'optim_cls': 'Adam', 'betas': (0.9, 0.999), 'eps': 1e-08, 'weight_decay': 0, 'amsgrad': False}, 'gamma': 0.99, 'generated_maxlen': 100000, 'initial_alpha': 1.0, 'initial_temperature': 1.0, 'n_action_samples': 10, 'n_critics': 2, 'n_frames': 1, 'n_steps': 1, 'q_func_factory': {'type': 'mean', 'params': {'share_encoder': False}}, 'real_ratio': 1.0, 'reward_scaler': None, 'scaler': None, 'soft_q_backup': False, 'tau': 0.005, 'temp_learning_rate': 0.0001, 'temp_optim_factory': {'optim_cls': 'Adam', 'betas': (0.9, 0.999), 'eps': 1e-08, 'weight_decay': 0, 'amsgrad': False}, 'use_gpu': None, 'algorithm': 'CQL', 'observation_shape': (5,), 'action_size': 3}\n"
     ]
    },
    {
     "data": {
      "application/vnd.jupyter.widget-view+json": {
       "model_id": "d9cd9f0318ef4288aaa023d6654d4dfd",
       "version_major": 2,
       "version_minor": 0
      },
      "text/plain": [
       "Epoch 1/1:   0%|          | 0/10000 [00:00<?, ?it/s]"
      ]
     },
     "metadata": {},
     "output_type": "display_data"
    },
    {
     "name": "stdout",
     "output_type": "stream",
     "text": [
      "2023-04-06 21:27.52 [info     ] CQL_20230406212352: epoch=1 step=10000 epoch=1 metrics={'time_sample_batch': 0.0007005993843078614, 'time_algorithm_update': 0.022661573600769043, 'temp_loss': 3.225118085312843, 'temp': 0.650055488666892, 'alpha_loss': -30.38636797771454, 'alpha': 1.7948496860742569, 'critic_loss': 31.51845294303894, 'actor_loss': -3.1844223484396936, 'time_step': 0.02385682716369629} step=10000\n",
      "2023-04-06 21:27.52 [info     ] Model parameters are saved to d3rlpy_logs/CQL_20230406212352/model_10000.pt\n"
     ]
    },
    {
     "data": {
      "application/vnd.jupyter.widget-view+json": {
       "model_id": "19277696c36a4982a83ce03d8c1549b9",
       "version_major": 2,
       "version_minor": 0
      },
      "text/plain": [
       "[fit FQE model]:   0%|          | 0/2 [00:00<?, ?it/s]"
      ]
     },
     "metadata": {},
     "output_type": "display_data"
    },
    {
     "name": "stdout",
     "output_type": "stream",
     "text": [
      "2023-04-06 21:27.52 [debug    ] RoundIterator is selected.\n",
      "2023-04-06 21:27.52 [info     ] Directory is created at d3rlpy_logs/FQE_20230406212752\n",
      "2023-04-06 21:27.52 [debug    ] Fitting scaler...              scaler=min_max\n",
      "2023-04-06 21:27.52 [debug    ] Fitting action scaler...       action_scaler=min_max\n",
      "2023-04-06 21:27.52 [debug    ] Building models...\n",
      "2023-04-06 21:27.52 [debug    ] Models have been built.\n",
      "2023-04-06 21:27.52 [info     ] Parameters are saved to d3rlpy_logs/FQE_20230406212752/params.json params={'action_scaler': {'type': 'min_max', 'params': {'minimum': array([-1., -1., -1.]), 'maximum': array([1., 1., 1.])}}, 'batch_size': 100, 'encoder_factory': {'type': 'vector', 'params': {'hidden_units': [30, 30], 'activation': 'relu', 'use_batch_norm': False, 'dropout_rate': None, 'use_dense': False}}, 'gamma': 0.95, 'generated_maxlen': 100000, 'learning_rate': 0.0001, 'n_critics': 1, 'n_frames': 1, 'n_steps': 1, 'optim_factory': {'optim_cls': 'Adam', 'betas': (0.9, 0.999), 'eps': 1e-08, 'weight_decay': 0, 'amsgrad': False}, 'q_func_factory': {'type': 'mean', 'params': {'share_encoder': False}}, 'real_ratio': 1.0, 'reward_scaler': None, 'scaler': {'type': 'min_max', 'params': {'maximum': array([0.91235909, 0.97696162, 0.99519456, 0.94246799, 0.98973878]), 'minimum': array([-0.94394781, -0.98217572, -0.99536194, -0.92732295, -0.98050428])}}, 'target_update_interval': 100, 'use_gpu': None, 'algorithm': 'FQE', 'observation_shape': (5,), 'action_size': 3}\n"
     ]
    },
    {
     "data": {
      "application/vnd.jupyter.widget-view+json": {
       "model_id": "a0572c9de7fc41bc9c09f020139c53cc",
       "version_major": 2,
       "version_minor": 0
      },
      "text/plain": [
       "Epoch 1/1:   0%|          | 0/40 [00:00<?, ?it/s]"
      ]
     },
     "metadata": {},
     "output_type": "display_data"
    },
    {
     "name": "stdout",
     "output_type": "stream",
     "text": [
      "2023-04-06 21:27.52 [info     ] FQE_20230406212752: epoch=1 step=40 epoch=1 metrics={'time_sample_batch': 0.00010523200035095215, 'time_algorithm_update': 0.0014952600002288818, 'loss': 0.13186637684702873, 'time_step': 0.00166131854057312} step=40\n",
      "2023-04-06 21:27.52 [info     ] Model parameters are saved to d3rlpy_logs/FQE_20230406212752/model_40.pt\n",
      "2023-04-06 21:27.52 [debug    ] RoundIterator is selected.\n",
      "2023-04-06 21:27.54 [info     ] Directory is created at d3rlpy_logs/FQE_20230406212754\n",
      "2023-04-06 21:27.54 [debug    ] Fitting scaler...              scaler=min_max\n",
      "2023-04-06 21:27.54 [debug    ] Fitting action scaler...       action_scaler=min_max\n",
      "2023-04-06 21:27.54 [debug    ] Building models...\n",
      "2023-04-06 21:27.54 [debug    ] Models have been built.\n",
      "2023-04-06 21:27.54 [info     ] Parameters are saved to d3rlpy_logs/FQE_20230406212754/params.json params={'action_scaler': {'type': 'min_max', 'params': {'minimum': array([-1., -1., -1.]), 'maximum': array([1., 1., 1.])}}, 'batch_size': 100, 'encoder_factory': {'type': 'vector', 'params': {'hidden_units': [30, 30], 'activation': 'relu', 'use_batch_norm': False, 'dropout_rate': None, 'use_dense': False}}, 'gamma': 0.95, 'generated_maxlen': 100000, 'learning_rate': 0.0001, 'n_critics': 1, 'n_frames': 1, 'n_steps': 1, 'optim_factory': {'optim_cls': 'Adam', 'betas': (0.9, 0.999), 'eps': 1e-08, 'weight_decay': 0, 'amsgrad': False}, 'q_func_factory': {'type': 'mean', 'params': {'share_encoder': False}}, 'real_ratio': 1.0, 'reward_scaler': None, 'scaler': {'type': 'min_max', 'params': {'maximum': array([0.91235909, 0.97696162, 0.99519456, 0.94246799, 0.98973878]), 'minimum': array([-0.94394781, -0.98217572, -0.99536194, -0.92732295, -0.98050428])}}, 'target_update_interval': 100, 'use_gpu': None, 'algorithm': 'FQE', 'observation_shape': (5,), 'action_size': 3}\n"
     ]
    },
    {
     "data": {
      "application/vnd.jupyter.widget-view+json": {
       "model_id": "4aa0396c03634cf8b3e8b791e5db2e81",
       "version_major": 2,
       "version_minor": 0
      },
      "text/plain": [
       "Epoch 1/1:   0%|          | 0/40 [00:00<?, ?it/s]"
      ]
     },
     "metadata": {},
     "output_type": "display_data"
    },
    {
     "name": "stdout",
     "output_type": "stream",
     "text": [
      "2023-04-06 21:27.54 [info     ] FQE_20230406212754: epoch=1 step=40 epoch=1 metrics={'time_sample_batch': 9.189248085021973e-05, 'time_algorithm_update': 0.0016326606273651123, 'loss': 0.11763322167098522, 'time_step': 0.0017944693565368653} step=40\n",
      "2023-04-06 21:27.54 [info     ] Model parameters are saved to d3rlpy_logs/FQE_20230406212754/model_40.pt\n"
     ]
    },
    {
     "data": {
      "application/vnd.jupyter.widget-view+json": {
       "model_id": "a2d0abde5693456f8d8a28a546353251",
       "version_major": 2,
       "version_minor": 0
      },
      "text/plain": [
       "[fit MWL model]:   0%|          | 0/2 [00:00<?, ?it/s]"
      ]
     },
     "metadata": {},
     "output_type": "display_data"
    },
    {
     "data": {
      "application/vnd.jupyter.widget-view+json": {
       "model_id": "6f02ca466d91407095c7336945a9c02e",
       "version_major": 2,
       "version_minor": 0
      },
      "text/plain": [
       "[fitting_weight_function]:   0%|          | 0/100 [00:00<?, ?it/s]"
      ]
     },
     "metadata": {},
     "output_type": "display_data"
    },
    {
     "data": {
      "application/vnd.jupyter.widget-view+json": {
       "model_id": "7b00b84484c1458a8bd6401665750ffb",
       "version_major": 2,
       "version_minor": 0
      },
      "text/plain": [
       "[fitting_weight_function]:   0%|          | 0/100 [00:00<?, ?it/s]"
      ]
     },
     "metadata": {},
     "output_type": "display_data"
    },
    {
     "data": {
      "application/vnd.jupyter.widget-view+json": {
       "model_id": "9b3d5ff2f4124d30a282d95a3672db96",
       "version_major": 2,
       "version_minor": 0
      },
      "text/plain": [
       "[fitting_weight_function]:   0%|          | 0/100 [00:00<?, ?it/s]"
      ]
     },
     "metadata": {},
     "output_type": "display_data"
    },
    {
     "data": {
      "application/vnd.jupyter.widget-view+json": {
       "model_id": "893de77a38f646fd898f83aff647decf",
       "version_major": 2,
       "version_minor": 0
      },
      "text/plain": [
       "[fitting_weight_function]:   0%|          | 0/100 [00:00<?, ?it/s]"
      ]
     },
     "metadata": {},
     "output_type": "display_data"
    },
    {
     "data": {
      "application/vnd.jupyter.widget-view+json": {
       "model_id": "bc65cd7c2ba8447ca37ba3c1e95c1acf",
       "version_major": 2,
       "version_minor": 0
      },
      "text/plain": [
       "[collect input data: eval_policy]:   0%|          | 0/2 [00:00<?, ?it/s]"
      ]
     },
     "metadata": {},
     "output_type": "display_data"
    },
    {
     "data": {
      "application/vnd.jupyter.widget-view+json": {
       "model_id": "ed43d56e64814c799a6cc784ab4a1251",
       "version_major": 2,
       "version_minor": 0
      },
      "text/plain": [
       "[calculate on-policy policy value]:   0%|          | 0/100 [00:00<?, ?it/s]"
      ]
     },
     "metadata": {},
     "output_type": "display_data"
    },
    {
     "data": {
      "application/vnd.jupyter.widget-view+json": {
       "model_id": "5f60220848984e23b045a4fef93df113",
       "version_major": 2,
       "version_minor": 0
      },
      "text/plain": [
       "[calculate on-policy policy value]:   0%|          | 0/100 [00:00<?, ?it/s]"
      ]
     },
     "metadata": {},
     "output_type": "display_data"
    },
    {
     "data": {
      "application/vnd.jupyter.widget-view+json": {
       "model_id": "5e1441ea20144e6cb5bda21068260bda",
       "version_major": 2,
       "version_minor": 0
      },
      "text/plain": [
       "[obtain_trajectories]:   0%|          | 0/400 [00:00<?, ?it/s]"
      ]
     },
     "metadata": {},
     "output_type": "display_data"
    },
    {
     "data": {
      "application/vnd.jupyter.widget-view+json": {
       "model_id": "d588b9352c094243bb944c137e4d1b4c",
       "version_major": 2,
       "version_minor": 0
      },
      "text/plain": [
       "[obtain_trajectories]:   0%|          | 0/400 [00:00<?, ?it/s]"
      ]
     },
     "metadata": {},
     "output_type": "display_data"
    },
    {
     "name": "stdout",
     "output_type": "stream",
     "text": [
      "2023-04-06 21:28.46 [debug    ] RandomIterator is selected.\n",
      "2023-04-06 21:28.46 [info     ] Directory is created at d3rlpy_logs/CQL_20230406212846\n",
      "2023-04-06 21:28.46 [debug    ] Fitting action scaler...       action_scaler=min_max\n",
      "2023-04-06 21:28.46 [debug    ] Building models...\n",
      "2023-04-06 21:28.46 [debug    ] Models have been built.\n",
      "2023-04-06 21:28.46 [info     ] Parameters are saved to d3rlpy_logs/CQL_20230406212846/params.json params={'action_scaler': {'type': 'min_max', 'params': {'minimum': array([-1., -1., -1.]), 'maximum': array([1., 1., 1.])}}, 'actor_encoder_factory': {'type': 'vector', 'params': {'hidden_units': [30, 30], 'activation': 'relu', 'use_batch_norm': False, 'dropout_rate': None, 'use_dense': False}}, 'actor_learning_rate': 0.0001, 'actor_optim_factory': {'optim_cls': 'Adam', 'betas': (0.9, 0.999), 'eps': 1e-08, 'weight_decay': 0, 'amsgrad': False}, 'alpha_learning_rate': 0.0001, 'alpha_optim_factory': {'optim_cls': 'Adam', 'betas': (0.9, 0.999), 'eps': 1e-08, 'weight_decay': 0, 'amsgrad': False}, 'alpha_threshold': 10.0, 'batch_size': 256, 'conservative_weight': 5.0, 'critic_encoder_factory': {'type': 'vector', 'params': {'hidden_units': [30, 30], 'activation': 'relu', 'use_batch_norm': False, 'dropout_rate': None, 'use_dense': False}}, 'critic_learning_rate': 0.0003, 'critic_optim_factory': {'optim_cls': 'Adam', 'betas': (0.9, 0.999), 'eps': 1e-08, 'weight_decay': 0, 'amsgrad': False}, 'gamma': 0.99, 'generated_maxlen': 100000, 'initial_alpha': 1.0, 'initial_temperature': 1.0, 'n_action_samples': 10, 'n_critics': 2, 'n_frames': 1, 'n_steps': 1, 'q_func_factory': {'type': 'mean', 'params': {'share_encoder': False}}, 'real_ratio': 1.0, 'reward_scaler': None, 'scaler': None, 'soft_q_backup': False, 'tau': 0.005, 'temp_learning_rate': 0.0001, 'temp_optim_factory': {'optim_cls': 'Adam', 'betas': (0.9, 0.999), 'eps': 1e-08, 'weight_decay': 0, 'amsgrad': False}, 'use_gpu': None, 'algorithm': 'CQL', 'observation_shape': (5,), 'action_size': 3}\n"
     ]
    },
    {
     "data": {
      "application/vnd.jupyter.widget-view+json": {
       "model_id": "f1faae748f534420bdea15ccb04d7dbc",
       "version_major": 2,
       "version_minor": 0
      },
      "text/plain": [
       "Epoch 1/1:   0%|          | 0/10000 [00:00<?, ?it/s]"
      ]
     },
     "metadata": {},
     "output_type": "display_data"
    },
    {
     "name": "stdout",
     "output_type": "stream",
     "text": [
      "2023-04-06 21:32.52 [info     ] CQL_20230406212846: epoch=1 step=10000 epoch=1 metrics={'time_sample_batch': 0.000718344521522522, 'time_algorithm_update': 0.023239513063430785, 'temp_loss': 3.203829607307911, 'temp': 0.650215578392148, 'alpha_loss': -30.342896694374083, 'alpha': 1.7948972318172456, 'critic_loss': 31.884531979370117, 'actor_loss': -3.558775241911411, 'time_step': 0.02445011637210846} step=10000\n",
      "2023-04-06 21:32.52 [info     ] Model parameters are saved to d3rlpy_logs/CQL_20230406212846/model_10000.pt\n"
     ]
    },
    {
     "data": {
      "application/vnd.jupyter.widget-view+json": {
       "model_id": "bb732bf968a645a98ff218c9aff96d59",
       "version_major": 2,
       "version_minor": 0
      },
      "text/plain": [
       "[fit FQE model]:   0%|          | 0/2 [00:00<?, ?it/s]"
      ]
     },
     "metadata": {},
     "output_type": "display_data"
    },
    {
     "name": "stdout",
     "output_type": "stream",
     "text": [
      "2023-04-06 21:32.52 [debug    ] RoundIterator is selected.\n",
      "2023-04-06 21:32.52 [info     ] Directory is created at d3rlpy_logs/FQE_20230406213252\n",
      "2023-04-06 21:32.52 [debug    ] Fitting scaler...              scaler=min_max\n",
      "2023-04-06 21:32.52 [debug    ] Fitting action scaler...       action_scaler=min_max\n",
      "2023-04-06 21:32.52 [debug    ] Building models...\n",
      "2023-04-06 21:32.52 [debug    ] Models have been built.\n",
      "2023-04-06 21:32.52 [info     ] Parameters are saved to d3rlpy_logs/FQE_20230406213252/params.json params={'action_scaler': {'type': 'min_max', 'params': {'minimum': array([-1., -1., -1.]), 'maximum': array([1., 1., 1.])}}, 'batch_size': 100, 'encoder_factory': {'type': 'vector', 'params': {'hidden_units': [30, 30], 'activation': 'relu', 'use_batch_norm': False, 'dropout_rate': None, 'use_dense': False}}, 'gamma': 0.95, 'generated_maxlen': 100000, 'learning_rate': 0.0001, 'n_critics': 1, 'n_frames': 1, 'n_steps': 1, 'optim_factory': {'optim_cls': 'Adam', 'betas': (0.9, 0.999), 'eps': 1e-08, 'weight_decay': 0, 'amsgrad': False}, 'q_func_factory': {'type': 'mean', 'params': {'share_encoder': False}}, 'real_ratio': 1.0, 'reward_scaler': None, 'scaler': {'type': 'min_max', 'params': {'maximum': array([0.94314129, 0.94165543, 0.99261287, 0.95850971, 0.99204266]), 'minimum': array([-0.89204864, -0.96093206, -0.99593185, -0.98484914, -0.98471758])}}, 'target_update_interval': 100, 'use_gpu': None, 'algorithm': 'FQE', 'observation_shape': (5,), 'action_size': 3}\n"
     ]
    },
    {
     "data": {
      "application/vnd.jupyter.widget-view+json": {
       "model_id": "8c88c675ebce444197bd75072161dd1f",
       "version_major": 2,
       "version_minor": 0
      },
      "text/plain": [
       "Epoch 1/1:   0%|          | 0/40 [00:00<?, ?it/s]"
      ]
     },
     "metadata": {},
     "output_type": "display_data"
    },
    {
     "name": "stdout",
     "output_type": "stream",
     "text": [
      "2023-04-06 21:32.52 [info     ] FQE_20230406213252: epoch=1 step=40 epoch=1 metrics={'time_sample_batch': 0.00010461211204528808, 'time_algorithm_update': 0.0013969779014587403, 'loss': 0.10933069176971913, 'time_step': 0.0015619456768035888} step=40\n",
      "2023-04-06 21:32.52 [info     ] Model parameters are saved to d3rlpy_logs/FQE_20230406213252/model_40.pt\n",
      "2023-04-06 21:32.52 [debug    ] RoundIterator is selected.\n",
      "2023-04-06 21:32.53 [info     ] Directory is created at d3rlpy_logs/FQE_20230406213253\n",
      "2023-04-06 21:32.53 [debug    ] Fitting scaler...              scaler=min_max\n",
      "2023-04-06 21:32.53 [debug    ] Fitting action scaler...       action_scaler=min_max\n",
      "2023-04-06 21:32.53 [debug    ] Building models...\n",
      "2023-04-06 21:32.53 [debug    ] Models have been built.\n",
      "2023-04-06 21:32.53 [info     ] Parameters are saved to d3rlpy_logs/FQE_20230406213253/params.json params={'action_scaler': {'type': 'min_max', 'params': {'minimum': array([-1., -1., -1.]), 'maximum': array([1., 1., 1.])}}, 'batch_size': 100, 'encoder_factory': {'type': 'vector', 'params': {'hidden_units': [30, 30], 'activation': 'relu', 'use_batch_norm': False, 'dropout_rate': None, 'use_dense': False}}, 'gamma': 0.95, 'generated_maxlen': 100000, 'learning_rate': 0.0001, 'n_critics': 1, 'n_frames': 1, 'n_steps': 1, 'optim_factory': {'optim_cls': 'Adam', 'betas': (0.9, 0.999), 'eps': 1e-08, 'weight_decay': 0, 'amsgrad': False}, 'q_func_factory': {'type': 'mean', 'params': {'share_encoder': False}}, 'real_ratio': 1.0, 'reward_scaler': None, 'scaler': {'type': 'min_max', 'params': {'maximum': array([0.94314129, 0.94165543, 0.99261287, 0.95850971, 0.99204266]), 'minimum': array([-0.89204864, -0.96093206, -0.99593185, -0.98484914, -0.98471758])}}, 'target_update_interval': 100, 'use_gpu': None, 'algorithm': 'FQE', 'observation_shape': (5,), 'action_size': 3}\n"
     ]
    },
    {
     "data": {
      "application/vnd.jupyter.widget-view+json": {
       "model_id": "2bbcd1bb033247f8b7904e14d2ead589",
       "version_major": 2,
       "version_minor": 0
      },
      "text/plain": [
       "Epoch 1/1:   0%|          | 0/40 [00:00<?, ?it/s]"
      ]
     },
     "metadata": {},
     "output_type": "display_data"
    },
    {
     "name": "stdout",
     "output_type": "stream",
     "text": [
      "2023-04-06 21:32.53 [info     ] FQE_20230406213253: epoch=1 step=40 epoch=1 metrics={'time_sample_batch': 0.00010973811149597167, 'time_algorithm_update': 0.0015378594398498535, 'loss': 0.12301061693578959, 'time_step': 0.0017083048820495605} step=40\n",
      "2023-04-06 21:32.53 [info     ] Model parameters are saved to d3rlpy_logs/FQE_20230406213253/model_40.pt\n"
     ]
    },
    {
     "data": {
      "application/vnd.jupyter.widget-view+json": {
       "model_id": "1403f3fff5464323b3536429f34f59a5",
       "version_major": 2,
       "version_minor": 0
      },
      "text/plain": [
       "[fit MWL model]:   0%|          | 0/2 [00:00<?, ?it/s]"
      ]
     },
     "metadata": {},
     "output_type": "display_data"
    },
    {
     "data": {
      "application/vnd.jupyter.widget-view+json": {
       "model_id": "2053b7c02b1a43e18cae387ca0d6b67d",
       "version_major": 2,
       "version_minor": 0
      },
      "text/plain": [
       "[fitting_weight_function]:   0%|          | 0/100 [00:00<?, ?it/s]"
      ]
     },
     "metadata": {},
     "output_type": "display_data"
    },
    {
     "data": {
      "application/vnd.jupyter.widget-view+json": {
       "model_id": "ede2efad0dbf4902b19687e28db4fac3",
       "version_major": 2,
       "version_minor": 0
      },
      "text/plain": [
       "[fitting_weight_function]:   0%|          | 0/100 [00:00<?, ?it/s]"
      ]
     },
     "metadata": {},
     "output_type": "display_data"
    },
    {
     "data": {
      "application/vnd.jupyter.widget-view+json": {
       "model_id": "e62f9d83ec08439dbab15e93e111c44c",
       "version_major": 2,
       "version_minor": 0
      },
      "text/plain": [
       "[fitting_weight_function]:   0%|          | 0/100 [00:00<?, ?it/s]"
      ]
     },
     "metadata": {},
     "output_type": "display_data"
    },
    {
     "data": {
      "application/vnd.jupyter.widget-view+json": {
       "model_id": "b68a84cd698c40ffacc10c216c33d864",
       "version_major": 2,
       "version_minor": 0
      },
      "text/plain": [
       "[fitting_weight_function]:   0%|          | 0/100 [00:00<?, ?it/s]"
      ]
     },
     "metadata": {},
     "output_type": "display_data"
    },
    {
     "data": {
      "application/vnd.jupyter.widget-view+json": {
       "model_id": "1711642693b04a15a61f2b355cfe43ed",
       "version_major": 2,
       "version_minor": 0
      },
      "text/plain": [
       "[collect input data: eval_policy]:   0%|          | 0/2 [00:00<?, ?it/s]"
      ]
     },
     "metadata": {},
     "output_type": "display_data"
    },
    {
     "data": {
      "application/vnd.jupyter.widget-view+json": {
       "model_id": "b8aa33a5775e49bdae1bebe44001484b",
       "version_major": 2,
       "version_minor": 0
      },
      "text/plain": [
       "[calculate on-policy policy value]:   0%|          | 0/100 [00:00<?, ?it/s]"
      ]
     },
     "metadata": {},
     "output_type": "display_data"
    },
    {
     "data": {
      "application/vnd.jupyter.widget-view+json": {
       "model_id": "d48232d287a04b60b3752de45236368e",
       "version_major": 2,
       "version_minor": 0
      },
      "text/plain": [
       "[calculate on-policy policy value]:   0%|          | 0/100 [00:00<?, ?it/s]"
      ]
     },
     "metadata": {},
     "output_type": "display_data"
    },
    {
     "data": {
      "application/vnd.jupyter.widget-view+json": {
       "model_id": "d623af5348354e778a817cb4e21da8bf",
       "version_major": 2,
       "version_minor": 0
      },
      "text/plain": [
       "[obtain_trajectories]:   0%|          | 0/400 [00:00<?, ?it/s]"
      ]
     },
     "metadata": {},
     "output_type": "display_data"
    },
    {
     "data": {
      "application/vnd.jupyter.widget-view+json": {
       "model_id": "6422ebd878b14753bcd1e9ac9f0ea1e4",
       "version_major": 2,
       "version_minor": 0
      },
      "text/plain": [
       "[obtain_trajectories]:   0%|          | 0/400 [00:00<?, ?it/s]"
      ]
     },
     "metadata": {},
     "output_type": "display_data"
    },
    {
     "name": "stdout",
     "output_type": "stream",
     "text": [
      "2023-04-06 21:33.45 [debug    ] RandomIterator is selected.\n",
      "2023-04-06 21:33.45 [info     ] Directory is created at d3rlpy_logs/CQL_20230406213345\n",
      "2023-04-06 21:33.45 [debug    ] Fitting action scaler...       action_scaler=min_max\n",
      "2023-04-06 21:33.45 [debug    ] Building models...\n",
      "2023-04-06 21:33.45 [debug    ] Models have been built.\n",
      "2023-04-06 21:33.45 [info     ] Parameters are saved to d3rlpy_logs/CQL_20230406213345/params.json params={'action_scaler': {'type': 'min_max', 'params': {'minimum': array([-1., -1., -1.]), 'maximum': array([1., 1., 1.])}}, 'actor_encoder_factory': {'type': 'vector', 'params': {'hidden_units': [30, 30], 'activation': 'relu', 'use_batch_norm': False, 'dropout_rate': None, 'use_dense': False}}, 'actor_learning_rate': 0.0001, 'actor_optim_factory': {'optim_cls': 'Adam', 'betas': (0.9, 0.999), 'eps': 1e-08, 'weight_decay': 0, 'amsgrad': False}, 'alpha_learning_rate': 0.0001, 'alpha_optim_factory': {'optim_cls': 'Adam', 'betas': (0.9, 0.999), 'eps': 1e-08, 'weight_decay': 0, 'amsgrad': False}, 'alpha_threshold': 10.0, 'batch_size': 256, 'conservative_weight': 5.0, 'critic_encoder_factory': {'type': 'vector', 'params': {'hidden_units': [30, 30], 'activation': 'relu', 'use_batch_norm': False, 'dropout_rate': None, 'use_dense': False}}, 'critic_learning_rate': 0.0003, 'critic_optim_factory': {'optim_cls': 'Adam', 'betas': (0.9, 0.999), 'eps': 1e-08, 'weight_decay': 0, 'amsgrad': False}, 'gamma': 0.99, 'generated_maxlen': 100000, 'initial_alpha': 1.0, 'initial_temperature': 1.0, 'n_action_samples': 10, 'n_critics': 2, 'n_frames': 1, 'n_steps': 1, 'q_func_factory': {'type': 'mean', 'params': {'share_encoder': False}}, 'real_ratio': 1.0, 'reward_scaler': None, 'scaler': None, 'soft_q_backup': False, 'tau': 0.005, 'temp_learning_rate': 0.0001, 'temp_optim_factory': {'optim_cls': 'Adam', 'betas': (0.9, 0.999), 'eps': 1e-08, 'weight_decay': 0, 'amsgrad': False}, 'use_gpu': None, 'algorithm': 'CQL', 'observation_shape': (5,), 'action_size': 3}\n"
     ]
    },
    {
     "data": {
      "application/vnd.jupyter.widget-view+json": {
       "model_id": "ff754d562f5742929468ba03866b709b",
       "version_major": 2,
       "version_minor": 0
      },
      "text/plain": [
       "Epoch 1/1:   0%|          | 0/10000 [00:00<?, ?it/s]"
      ]
     },
     "metadata": {},
     "output_type": "display_data"
    },
    {
     "name": "stdout",
     "output_type": "stream",
     "text": [
      "2023-04-06 21:37.36 [info     ] CQL_20230406213345: epoch=1 step=10000 epoch=1 metrics={'time_sample_batch': 0.0006921645402908325, 'time_algorithm_update': 0.02179916133880615, 'temp_loss': 3.20657866165638, 'temp': 0.6503743020117283, 'alpha_loss': -30.272949447250365, 'alpha': 1.7945171178460122, 'critic_loss': 31.531619040870666, 'actor_loss': -3.330029655635357, 'time_step': 0.02297213611602783} step=10000\n",
      "2023-04-06 21:37.36 [info     ] Model parameters are saved to d3rlpy_logs/CQL_20230406213345/model_10000.pt\n"
     ]
    },
    {
     "data": {
      "application/vnd.jupyter.widget-view+json": {
       "model_id": "94378c8b433745878ea57dd98c7ec58b",
       "version_major": 2,
       "version_minor": 0
      },
      "text/plain": [
       "[fit FQE model]:   0%|          | 0/2 [00:00<?, ?it/s]"
      ]
     },
     "metadata": {},
     "output_type": "display_data"
    },
    {
     "name": "stdout",
     "output_type": "stream",
     "text": [
      "2023-04-06 21:37.36 [debug    ] RoundIterator is selected.\n",
      "2023-04-06 21:37.36 [info     ] Directory is created at d3rlpy_logs/FQE_20230406213736\n",
      "2023-04-06 21:37.36 [debug    ] Fitting scaler...              scaler=min_max\n",
      "2023-04-06 21:37.36 [debug    ] Fitting action scaler...       action_scaler=min_max\n",
      "2023-04-06 21:37.36 [debug    ] Building models...\n",
      "2023-04-06 21:37.36 [debug    ] Models have been built.\n",
      "2023-04-06 21:37.36 [info     ] Parameters are saved to d3rlpy_logs/FQE_20230406213736/params.json params={'action_scaler': {'type': 'min_max', 'params': {'minimum': array([-1., -1., -1.]), 'maximum': array([1., 1., 1.])}}, 'batch_size': 100, 'encoder_factory': {'type': 'vector', 'params': {'hidden_units': [30, 30], 'activation': 'relu', 'use_batch_norm': False, 'dropout_rate': None, 'use_dense': False}}, 'gamma': 0.95, 'generated_maxlen': 100000, 'learning_rate': 0.0001, 'n_critics': 1, 'n_frames': 1, 'n_steps': 1, 'optim_factory': {'optim_cls': 'Adam', 'betas': (0.9, 0.999), 'eps': 1e-08, 'weight_decay': 0, 'amsgrad': False}, 'q_func_factory': {'type': 'mean', 'params': {'share_encoder': False}}, 'real_ratio': 1.0, 'reward_scaler': None, 'scaler': {'type': 'min_max', 'params': {'maximum': array([0.95775872, 0.98432847, 0.99323974, 0.99535051, 0.98531755]), 'minimum': array([-0.96685104, -0.96053578, -0.98992289, -0.971826  , -0.97214864])}}, 'target_update_interval': 100, 'use_gpu': None, 'algorithm': 'FQE', 'observation_shape': (5,), 'action_size': 3}\n"
     ]
    },
    {
     "data": {
      "application/vnd.jupyter.widget-view+json": {
       "model_id": "c82991f936cb476693c136633f06d057",
       "version_major": 2,
       "version_minor": 0
      },
      "text/plain": [
       "Epoch 1/1:   0%|          | 0/40 [00:00<?, ?it/s]"
      ]
     },
     "metadata": {},
     "output_type": "display_data"
    },
    {
     "name": "stdout",
     "output_type": "stream",
     "text": [
      "2023-04-06 21:37.36 [info     ] FQE_20230406213736: epoch=1 step=40 epoch=1 metrics={'time_sample_batch': 0.00010178685188293457, 'time_algorithm_update': 0.0014721214771270751, 'loss': 0.11498346421867608, 'time_step': 0.0016189515590667725} step=40\n",
      "2023-04-06 21:37.36 [info     ] Model parameters are saved to d3rlpy_logs/FQE_20230406213736/model_40.pt\n",
      "2023-04-06 21:37.36 [debug    ] RoundIterator is selected.\n",
      "2023-04-06 21:37.37 [info     ] Directory is created at d3rlpy_logs/FQE_20230406213737\n",
      "2023-04-06 21:37.37 [debug    ] Fitting scaler...              scaler=min_max\n",
      "2023-04-06 21:37.37 [debug    ] Fitting action scaler...       action_scaler=min_max\n",
      "2023-04-06 21:37.37 [debug    ] Building models...\n",
      "2023-04-06 21:37.37 [debug    ] Models have been built.\n",
      "2023-04-06 21:37.37 [info     ] Parameters are saved to d3rlpy_logs/FQE_20230406213737/params.json params={'action_scaler': {'type': 'min_max', 'params': {'minimum': array([-1., -1., -1.]), 'maximum': array([1., 1., 1.])}}, 'batch_size': 100, 'encoder_factory': {'type': 'vector', 'params': {'hidden_units': [30, 30], 'activation': 'relu', 'use_batch_norm': False, 'dropout_rate': None, 'use_dense': False}}, 'gamma': 0.95, 'generated_maxlen': 100000, 'learning_rate': 0.0001, 'n_critics': 1, 'n_frames': 1, 'n_steps': 1, 'optim_factory': {'optim_cls': 'Adam', 'betas': (0.9, 0.999), 'eps': 1e-08, 'weight_decay': 0, 'amsgrad': False}, 'q_func_factory': {'type': 'mean', 'params': {'share_encoder': False}}, 'real_ratio': 1.0, 'reward_scaler': None, 'scaler': {'type': 'min_max', 'params': {'maximum': array([0.95775872, 0.98432847, 0.99323974, 0.99535051, 0.98531755]), 'minimum': array([-0.96685104, -0.96053578, -0.98992289, -0.971826  , -0.97214864])}}, 'target_update_interval': 100, 'use_gpu': None, 'algorithm': 'FQE', 'observation_shape': (5,), 'action_size': 3}\n"
     ]
    },
    {
     "data": {
      "application/vnd.jupyter.widget-view+json": {
       "model_id": "f9f608dbd19f4aea9bd70cc3cd2cf498",
       "version_major": 2,
       "version_minor": 0
      },
      "text/plain": [
       "Epoch 1/1:   0%|          | 0/40 [00:00<?, ?it/s]"
      ]
     },
     "metadata": {},
     "output_type": "display_data"
    },
    {
     "name": "stdout",
     "output_type": "stream",
     "text": [
      "2023-04-06 21:37.37 [info     ] FQE_20230406213737: epoch=1 step=40 epoch=1 metrics={'time_sample_batch': 0.00012077689170837402, 'time_algorithm_update': 0.001476144790649414, 'loss': 0.13672149255871774, 'time_step': 0.001672893762588501} step=40\n",
      "2023-04-06 21:37.37 [info     ] Model parameters are saved to d3rlpy_logs/FQE_20230406213737/model_40.pt\n"
     ]
    },
    {
     "data": {
      "application/vnd.jupyter.widget-view+json": {
       "model_id": "ade3f4da720340c58834cd641317c1e2",
       "version_major": 2,
       "version_minor": 0
      },
      "text/plain": [
       "[fit MWL model]:   0%|          | 0/2 [00:00<?, ?it/s]"
      ]
     },
     "metadata": {},
     "output_type": "display_data"
    },
    {
     "data": {
      "application/vnd.jupyter.widget-view+json": {
       "model_id": "ed2c82c2e5a04c1cb15e1fbbd0f898d0",
       "version_major": 2,
       "version_minor": 0
      },
      "text/plain": [
       "[fitting_weight_function]:   0%|          | 0/100 [00:00<?, ?it/s]"
      ]
     },
     "metadata": {},
     "output_type": "display_data"
    },
    {
     "data": {
      "application/vnd.jupyter.widget-view+json": {
       "model_id": "7b8392343f81445d9173495dd8514895",
       "version_major": 2,
       "version_minor": 0
      },
      "text/plain": [
       "[fitting_weight_function]:   0%|          | 0/100 [00:00<?, ?it/s]"
      ]
     },
     "metadata": {},
     "output_type": "display_data"
    },
    {
     "data": {
      "application/vnd.jupyter.widget-view+json": {
       "model_id": "ca78f644016e4f06844d46f6cca884a0",
       "version_major": 2,
       "version_minor": 0
      },
      "text/plain": [
       "[fitting_weight_function]:   0%|          | 0/100 [00:00<?, ?it/s]"
      ]
     },
     "metadata": {},
     "output_type": "display_data"
    },
    {
     "data": {
      "application/vnd.jupyter.widget-view+json": {
       "model_id": "dbb635f9811e45939a7179b25bd8c205",
       "version_major": 2,
       "version_minor": 0
      },
      "text/plain": [
       "[fitting_weight_function]:   0%|          | 0/100 [00:00<?, ?it/s]"
      ]
     },
     "metadata": {},
     "output_type": "display_data"
    },
    {
     "data": {
      "application/vnd.jupyter.widget-view+json": {
       "model_id": "abf5bd63458d446b95a5c4f623c7bb23",
       "version_major": 2,
       "version_minor": 0
      },
      "text/plain": [
       "[collect input data: eval_policy]:   0%|          | 0/2 [00:00<?, ?it/s]"
      ]
     },
     "metadata": {},
     "output_type": "display_data"
    },
    {
     "data": {
      "application/vnd.jupyter.widget-view+json": {
       "model_id": "e27266b58cc24f8c916b590307727454",
       "version_major": 2,
       "version_minor": 0
      },
      "text/plain": [
       "[calculate on-policy policy value]:   0%|          | 0/100 [00:00<?, ?it/s]"
      ]
     },
     "metadata": {},
     "output_type": "display_data"
    },
    {
     "data": {
      "application/vnd.jupyter.widget-view+json": {
       "model_id": "71ecbf5b6e1744d8b9c8a9d27a0a6a1e",
       "version_major": 2,
       "version_minor": 0
      },
      "text/plain": [
       "[calculate on-policy policy value]:   0%|          | 0/100 [00:00<?, ?it/s]"
      ]
     },
     "metadata": {},
     "output_type": "display_data"
    },
    {
     "data": {
      "application/vnd.jupyter.widget-view+json": {
       "model_id": "56b490e1f3104f6ea1bd80412fe72754",
       "version_major": 2,
       "version_minor": 0
      },
      "text/plain": [
       "[obtain_trajectories]:   0%|          | 0/400 [00:00<?, ?it/s]"
      ]
     },
     "metadata": {},
     "output_type": "display_data"
    },
    {
     "data": {
      "application/vnd.jupyter.widget-view+json": {
       "model_id": "3b32eb0618614d31a24ceb0efcbe3372",
       "version_major": 2,
       "version_minor": 0
      },
      "text/plain": [
       "[obtain_trajectories]:   0%|          | 0/400 [00:00<?, ?it/s]"
      ]
     },
     "metadata": {},
     "output_type": "display_data"
    },
    {
     "name": "stdout",
     "output_type": "stream",
     "text": [
      "2023-04-06 21:38.31 [debug    ] RandomIterator is selected.\n",
      "2023-04-06 21:38.31 [info     ] Directory is created at d3rlpy_logs/CQL_20230406213831\n",
      "2023-04-06 21:38.31 [debug    ] Fitting action scaler...       action_scaler=min_max\n",
      "2023-04-06 21:38.31 [debug    ] Building models...\n",
      "2023-04-06 21:38.31 [debug    ] Models have been built.\n",
      "2023-04-06 21:38.31 [info     ] Parameters are saved to d3rlpy_logs/CQL_20230406213831/params.json params={'action_scaler': {'type': 'min_max', 'params': {'minimum': array([-1., -1., -1.]), 'maximum': array([1., 1., 1.])}}, 'actor_encoder_factory': {'type': 'vector', 'params': {'hidden_units': [30, 30], 'activation': 'relu', 'use_batch_norm': False, 'dropout_rate': None, 'use_dense': False}}, 'actor_learning_rate': 0.0001, 'actor_optim_factory': {'optim_cls': 'Adam', 'betas': (0.9, 0.999), 'eps': 1e-08, 'weight_decay': 0, 'amsgrad': False}, 'alpha_learning_rate': 0.0001, 'alpha_optim_factory': {'optim_cls': 'Adam', 'betas': (0.9, 0.999), 'eps': 1e-08, 'weight_decay': 0, 'amsgrad': False}, 'alpha_threshold': 10.0, 'batch_size': 256, 'conservative_weight': 5.0, 'critic_encoder_factory': {'type': 'vector', 'params': {'hidden_units': [30, 30], 'activation': 'relu', 'use_batch_norm': False, 'dropout_rate': None, 'use_dense': False}}, 'critic_learning_rate': 0.0003, 'critic_optim_factory': {'optim_cls': 'Adam', 'betas': (0.9, 0.999), 'eps': 1e-08, 'weight_decay': 0, 'amsgrad': False}, 'gamma': 0.99, 'generated_maxlen': 100000, 'initial_alpha': 1.0, 'initial_temperature': 1.0, 'n_action_samples': 10, 'n_critics': 2, 'n_frames': 1, 'n_steps': 1, 'q_func_factory': {'type': 'mean', 'params': {'share_encoder': False}}, 'real_ratio': 1.0, 'reward_scaler': None, 'scaler': None, 'soft_q_backup': False, 'tau': 0.005, 'temp_learning_rate': 0.0001, 'temp_optim_factory': {'optim_cls': 'Adam', 'betas': (0.9, 0.999), 'eps': 1e-08, 'weight_decay': 0, 'amsgrad': False}, 'use_gpu': None, 'algorithm': 'CQL', 'observation_shape': (5,), 'action_size': 3}\n"
     ]
    },
    {
     "data": {
      "application/vnd.jupyter.widget-view+json": {
       "model_id": "009fd06ea05d48488e2c8873a3ecafbd",
       "version_major": 2,
       "version_minor": 0
      },
      "text/plain": [
       "Epoch 1/1:   0%|          | 0/10000 [00:00<?, ?it/s]"
      ]
     },
     "metadata": {},
     "output_type": "display_data"
    },
    {
     "name": "stdout",
     "output_type": "stream",
     "text": [
      "2023-04-06 21:42.34 [info     ] CQL_20230406213831: epoch=1 step=10000 epoch=1 metrics={'time_sample_batch': 0.0007169318437576294, 'time_algorithm_update': 0.022915197777748107, 'temp_loss': 3.2134498023033142, 'temp': 0.6501683824002743, 'alpha_loss': -30.346167321395875, 'alpha': 1.7948625572443009, 'critic_loss': 31.876377921676635, 'actor_loss': -3.552223461198807, 'time_step': 0.024134998321533204} step=10000\n",
      "2023-04-06 21:42.34 [info     ] Model parameters are saved to d3rlpy_logs/CQL_20230406213831/model_10000.pt\n"
     ]
    },
    {
     "data": {
      "application/vnd.jupyter.widget-view+json": {
       "model_id": "ddd405e5758f45a791193ecf98a0980f",
       "version_major": 2,
       "version_minor": 0
      },
      "text/plain": [
       "[fit FQE model]:   0%|          | 0/2 [00:00<?, ?it/s]"
      ]
     },
     "metadata": {},
     "output_type": "display_data"
    },
    {
     "name": "stdout",
     "output_type": "stream",
     "text": [
      "2023-04-06 21:42.34 [debug    ] RoundIterator is selected.\n",
      "2023-04-06 21:42.34 [info     ] Directory is created at d3rlpy_logs/FQE_20230406214234\n",
      "2023-04-06 21:42.34 [debug    ] Fitting scaler...              scaler=min_max\n",
      "2023-04-06 21:42.34 [debug    ] Fitting action scaler...       action_scaler=min_max\n",
      "2023-04-06 21:42.34 [debug    ] Building models...\n",
      "2023-04-06 21:42.34 [debug    ] Models have been built.\n",
      "2023-04-06 21:42.34 [info     ] Parameters are saved to d3rlpy_logs/FQE_20230406214234/params.json params={'action_scaler': {'type': 'min_max', 'params': {'minimum': array([-1., -1., -1.]), 'maximum': array([1., 1., 1.])}}, 'batch_size': 100, 'encoder_factory': {'type': 'vector', 'params': {'hidden_units': [30, 30], 'activation': 'relu', 'use_batch_norm': False, 'dropout_rate': None, 'use_dense': False}}, 'gamma': 0.95, 'generated_maxlen': 100000, 'learning_rate': 0.0001, 'n_critics': 1, 'n_frames': 1, 'n_steps': 1, 'optim_factory': {'optim_cls': 'Adam', 'betas': (0.9, 0.999), 'eps': 1e-08, 'weight_decay': 0, 'amsgrad': False}, 'q_func_factory': {'type': 'mean', 'params': {'share_encoder': False}}, 'real_ratio': 1.0, 'reward_scaler': None, 'scaler': {'type': 'min_max', 'params': {'maximum': array([0.91753742, 0.98934727, 0.99192657, 0.97342693, 0.99255941]), 'minimum': array([-0.97286096, -0.97651538, -0.98747017, -0.95630748, -0.99252323])}}, 'target_update_interval': 100, 'use_gpu': None, 'algorithm': 'FQE', 'observation_shape': (5,), 'action_size': 3}\n"
     ]
    },
    {
     "data": {
      "application/vnd.jupyter.widget-view+json": {
       "model_id": "bffc40384d9a483ba85ee8c0864436e5",
       "version_major": 2,
       "version_minor": 0
      },
      "text/plain": [
       "Epoch 1/1:   0%|          | 0/40 [00:00<?, ?it/s]"
      ]
     },
     "metadata": {},
     "output_type": "display_data"
    },
    {
     "name": "stdout",
     "output_type": "stream",
     "text": [
      "2023-04-06 21:42.34 [info     ] FQE_20230406214234: epoch=1 step=40 epoch=1 metrics={'time_sample_batch': 9.961128234863282e-05, 'time_algorithm_update': 0.0014863371849060058, 'loss': 0.11832982022315264, 'time_step': 0.0016371846199035645} step=40\n",
      "2023-04-06 21:42.34 [info     ] Model parameters are saved to d3rlpy_logs/FQE_20230406214234/model_40.pt\n",
      "2023-04-06 21:42.34 [debug    ] RoundIterator is selected.\n",
      "2023-04-06 21:42.35 [info     ] Directory is created at d3rlpy_logs/FQE_20230406214235\n",
      "2023-04-06 21:42.35 [debug    ] Fitting scaler...              scaler=min_max\n",
      "2023-04-06 21:42.35 [debug    ] Fitting action scaler...       action_scaler=min_max\n",
      "2023-04-06 21:42.35 [debug    ] Building models...\n",
      "2023-04-06 21:42.35 [debug    ] Models have been built.\n",
      "2023-04-06 21:42.35 [info     ] Parameters are saved to d3rlpy_logs/FQE_20230406214235/params.json params={'action_scaler': {'type': 'min_max', 'params': {'minimum': array([-1., -1., -1.]), 'maximum': array([1., 1., 1.])}}, 'batch_size': 100, 'encoder_factory': {'type': 'vector', 'params': {'hidden_units': [30, 30], 'activation': 'relu', 'use_batch_norm': False, 'dropout_rate': None, 'use_dense': False}}, 'gamma': 0.95, 'generated_maxlen': 100000, 'learning_rate': 0.0001, 'n_critics': 1, 'n_frames': 1, 'n_steps': 1, 'optim_factory': {'optim_cls': 'Adam', 'betas': (0.9, 0.999), 'eps': 1e-08, 'weight_decay': 0, 'amsgrad': False}, 'q_func_factory': {'type': 'mean', 'params': {'share_encoder': False}}, 'real_ratio': 1.0, 'reward_scaler': None, 'scaler': {'type': 'min_max', 'params': {'maximum': array([0.91753742, 0.98934727, 0.99192657, 0.97342693, 0.99255941]), 'minimum': array([-0.97286096, -0.97651538, -0.98747017, -0.95630748, -0.99252323])}}, 'target_update_interval': 100, 'use_gpu': None, 'algorithm': 'FQE', 'observation_shape': (5,), 'action_size': 3}\n"
     ]
    },
    {
     "data": {
      "application/vnd.jupyter.widget-view+json": {
       "model_id": "72907754320d473581e703b9d43ba5dc",
       "version_major": 2,
       "version_minor": 0
      },
      "text/plain": [
       "Epoch 1/1:   0%|          | 0/40 [00:00<?, ?it/s]"
      ]
     },
     "metadata": {},
     "output_type": "display_data"
    },
    {
     "name": "stdout",
     "output_type": "stream",
     "text": [
      "2023-04-06 21:42.35 [info     ] FQE_20230406214235: epoch=1 step=40 epoch=1 metrics={'time_sample_batch': 9.815096855163574e-05, 'time_algorithm_update': 0.0013232529163360596, 'loss': 0.12186314165592194, 'time_step': 0.0014780282974243164} step=40\n",
      "2023-04-06 21:42.35 [info     ] Model parameters are saved to d3rlpy_logs/FQE_20230406214235/model_40.pt\n"
     ]
    },
    {
     "data": {
      "application/vnd.jupyter.widget-view+json": {
       "model_id": "dd547f98a0f74b93b0a19281e71e1d87",
       "version_major": 2,
       "version_minor": 0
      },
      "text/plain": [
       "[fit MWL model]:   0%|          | 0/2 [00:00<?, ?it/s]"
      ]
     },
     "metadata": {},
     "output_type": "display_data"
    },
    {
     "data": {
      "application/vnd.jupyter.widget-view+json": {
       "model_id": "f67cc5afaabe4bfbb2385fec2c6ddb8f",
       "version_major": 2,
       "version_minor": 0
      },
      "text/plain": [
       "[fitting_weight_function]:   0%|          | 0/100 [00:00<?, ?it/s]"
      ]
     },
     "metadata": {},
     "output_type": "display_data"
    },
    {
     "data": {
      "application/vnd.jupyter.widget-view+json": {
       "model_id": "267c9b9d26584af6a90aa7aebd6f2629",
       "version_major": 2,
       "version_minor": 0
      },
      "text/plain": [
       "[fitting_weight_function]:   0%|          | 0/100 [00:00<?, ?it/s]"
      ]
     },
     "metadata": {},
     "output_type": "display_data"
    },
    {
     "data": {
      "application/vnd.jupyter.widget-view+json": {
       "model_id": "1f77786bd1c44c98b9dc0ecb77b6f8a1",
       "version_major": 2,
       "version_minor": 0
      },
      "text/plain": [
       "[fitting_weight_function]:   0%|          | 0/100 [00:00<?, ?it/s]"
      ]
     },
     "metadata": {},
     "output_type": "display_data"
    },
    {
     "data": {
      "application/vnd.jupyter.widget-view+json": {
       "model_id": "cc4f653a8b9b4099b1115546aea167d3",
       "version_major": 2,
       "version_minor": 0
      },
      "text/plain": [
       "[fitting_weight_function]:   0%|          | 0/100 [00:00<?, ?it/s]"
      ]
     },
     "metadata": {},
     "output_type": "display_data"
    },
    {
     "data": {
      "application/vnd.jupyter.widget-view+json": {
       "model_id": "40d7e162997f4414b54e899cc98aff2b",
       "version_major": 2,
       "version_minor": 0
      },
      "text/plain": [
       "[collect input data: eval_policy]:   0%|          | 0/2 [00:00<?, ?it/s]"
      ]
     },
     "metadata": {},
     "output_type": "display_data"
    },
    {
     "data": {
      "application/vnd.jupyter.widget-view+json": {
       "model_id": "d1936148c4424c85a7565209e566098d",
       "version_major": 2,
       "version_minor": 0
      },
      "text/plain": [
       "[calculate on-policy policy value]:   0%|          | 0/100 [00:00<?, ?it/s]"
      ]
     },
     "metadata": {},
     "output_type": "display_data"
    },
    {
     "data": {
      "application/vnd.jupyter.widget-view+json": {
       "model_id": "7f508474c3ec4cf0b45eaa2dd3899ea7",
       "version_major": 2,
       "version_minor": 0
      },
      "text/plain": [
       "[calculate on-policy policy value]:   0%|          | 0/100 [00:00<?, ?it/s]"
      ]
     },
     "metadata": {},
     "output_type": "display_data"
    },
    {
     "data": {
      "application/vnd.jupyter.widget-view+json": {
       "model_id": "e69ae366fb9d4b788d193e8f75f13e47",
       "version_major": 2,
       "version_minor": 0
      },
      "text/plain": [
       "[obtain_trajectories]:   0%|          | 0/400 [00:00<?, ?it/s]"
      ]
     },
     "metadata": {},
     "output_type": "display_data"
    },
    {
     "data": {
      "application/vnd.jupyter.widget-view+json": {
       "model_id": "c54ccc78b48649b3a979517462dd1130",
       "version_major": 2,
       "version_minor": 0
      },
      "text/plain": [
       "[obtain_trajectories]:   0%|          | 0/400 [00:00<?, ?it/s]"
      ]
     },
     "metadata": {},
     "output_type": "display_data"
    },
    {
     "name": "stdout",
     "output_type": "stream",
     "text": [
      "2023-04-06 21:43.25 [debug    ] RandomIterator is selected.\n",
      "2023-04-06 21:43.25 [info     ] Directory is created at d3rlpy_logs/CQL_20230406214325\n",
      "2023-04-06 21:43.25 [debug    ] Fitting action scaler...       action_scaler=min_max\n",
      "2023-04-06 21:43.25 [debug    ] Building models...\n",
      "2023-04-06 21:43.25 [debug    ] Models have been built.\n",
      "2023-04-06 21:43.25 [info     ] Parameters are saved to d3rlpy_logs/CQL_20230406214325/params.json params={'action_scaler': {'type': 'min_max', 'params': {'minimum': array([-1., -1., -1.]), 'maximum': array([1., 1., 1.])}}, 'actor_encoder_factory': {'type': 'vector', 'params': {'hidden_units': [30, 30], 'activation': 'relu', 'use_batch_norm': False, 'dropout_rate': None, 'use_dense': False}}, 'actor_learning_rate': 0.0001, 'actor_optim_factory': {'optim_cls': 'Adam', 'betas': (0.9, 0.999), 'eps': 1e-08, 'weight_decay': 0, 'amsgrad': False}, 'alpha_learning_rate': 0.0001, 'alpha_optim_factory': {'optim_cls': 'Adam', 'betas': (0.9, 0.999), 'eps': 1e-08, 'weight_decay': 0, 'amsgrad': False}, 'alpha_threshold': 10.0, 'batch_size': 256, 'conservative_weight': 5.0, 'critic_encoder_factory': {'type': 'vector', 'params': {'hidden_units': [30, 30], 'activation': 'relu', 'use_batch_norm': False, 'dropout_rate': None, 'use_dense': False}}, 'critic_learning_rate': 0.0003, 'critic_optim_factory': {'optim_cls': 'Adam', 'betas': (0.9, 0.999), 'eps': 1e-08, 'weight_decay': 0, 'amsgrad': False}, 'gamma': 0.99, 'generated_maxlen': 100000, 'initial_alpha': 1.0, 'initial_temperature': 1.0, 'n_action_samples': 10, 'n_critics': 2, 'n_frames': 1, 'n_steps': 1, 'q_func_factory': {'type': 'mean', 'params': {'share_encoder': False}}, 'real_ratio': 1.0, 'reward_scaler': None, 'scaler': None, 'soft_q_backup': False, 'tau': 0.005, 'temp_learning_rate': 0.0001, 'temp_optim_factory': {'optim_cls': 'Adam', 'betas': (0.9, 0.999), 'eps': 1e-08, 'weight_decay': 0, 'amsgrad': False}, 'use_gpu': None, 'algorithm': 'CQL', 'observation_shape': (5,), 'action_size': 3}\n"
     ]
    },
    {
     "data": {
      "application/vnd.jupyter.widget-view+json": {
       "model_id": "82f4b1598ac9434291fbf53875c40506",
       "version_major": 2,
       "version_minor": 0
      },
      "text/plain": [
       "Epoch 1/1:   0%|          | 0/10000 [00:00<?, ?it/s]"
      ]
     },
     "metadata": {},
     "output_type": "display_data"
    },
    {
     "name": "stdout",
     "output_type": "stream",
     "text": [
      "2023-04-06 21:47.21 [info     ] CQL_20230406214325: epoch=1 step=10000 epoch=1 metrics={'time_sample_batch': 0.0006986958026885987, 'time_algorithm_update': 0.022322170257568358, 'temp_loss': 3.2129102363944053, 'temp': 0.650226302960515, 'alpha_loss': -30.422273258781434, 'alpha': 1.7952178451538086, 'critic_loss': 31.986596220588684, 'actor_loss': -3.5906861493229867, 'time_step': 0.023500538229942323} step=10000\n",
      "2023-04-06 21:47.21 [info     ] Model parameters are saved to d3rlpy_logs/CQL_20230406214325/model_10000.pt\n"
     ]
    },
    {
     "data": {
      "application/vnd.jupyter.widget-view+json": {
       "model_id": "00834bb97aa744a7996b56c268c5de19",
       "version_major": 2,
       "version_minor": 0
      },
      "text/plain": [
       "[fit FQE model]:   0%|          | 0/2 [00:00<?, ?it/s]"
      ]
     },
     "metadata": {},
     "output_type": "display_data"
    },
    {
     "name": "stdout",
     "output_type": "stream",
     "text": [
      "2023-04-06 21:47.21 [debug    ] RoundIterator is selected.\n",
      "2023-04-06 21:47.21 [info     ] Directory is created at d3rlpy_logs/FQE_20230406214721\n",
      "2023-04-06 21:47.21 [debug    ] Fitting scaler...              scaler=min_max\n",
      "2023-04-06 21:47.21 [debug    ] Fitting action scaler...       action_scaler=min_max\n",
      "2023-04-06 21:47.21 [debug    ] Building models...\n",
      "2023-04-06 21:47.21 [debug    ] Models have been built.\n",
      "2023-04-06 21:47.21 [info     ] Parameters are saved to d3rlpy_logs/FQE_20230406214721/params.json params={'action_scaler': {'type': 'min_max', 'params': {'minimum': array([-1., -1., -1.]), 'maximum': array([1., 1., 1.])}}, 'batch_size': 100, 'encoder_factory': {'type': 'vector', 'params': {'hidden_units': [30, 30], 'activation': 'relu', 'use_batch_norm': False, 'dropout_rate': None, 'use_dense': False}}, 'gamma': 0.95, 'generated_maxlen': 100000, 'learning_rate': 0.0001, 'n_critics': 1, 'n_frames': 1, 'n_steps': 1, 'optim_factory': {'optim_cls': 'Adam', 'betas': (0.9, 0.999), 'eps': 1e-08, 'weight_decay': 0, 'amsgrad': False}, 'q_func_factory': {'type': 'mean', 'params': {'share_encoder': False}}, 'real_ratio': 1.0, 'reward_scaler': None, 'scaler': {'type': 'min_max', 'params': {'maximum': array([0.96323906, 0.95114544, 0.99273587, 0.97201997, 0.99416786]), 'minimum': array([-0.95159231, -0.94320947, -0.9962563 , -0.96728401, -0.98839112])}}, 'target_update_interval': 100, 'use_gpu': None, 'algorithm': 'FQE', 'observation_shape': (5,), 'action_size': 3}\n"
     ]
    },
    {
     "data": {
      "application/vnd.jupyter.widget-view+json": {
       "model_id": "fffb90b89db84d96bde2d7029e5f66f5",
       "version_major": 2,
       "version_minor": 0
      },
      "text/plain": [
       "Epoch 1/1:   0%|          | 0/40 [00:00<?, ?it/s]"
      ]
     },
     "metadata": {},
     "output_type": "display_data"
    },
    {
     "name": "stdout",
     "output_type": "stream",
     "text": [
      "2023-04-06 21:47.22 [info     ] FQE_20230406214721: epoch=1 step=40 epoch=1 metrics={'time_sample_batch': 0.0002416074275970459, 'time_algorithm_update': 0.004894274473190308, 'loss': 0.11155731193721294, 'time_step': 0.005268132686614991} step=40\n",
      "2023-04-06 21:47.22 [info     ] Model parameters are saved to d3rlpy_logs/FQE_20230406214721/model_40.pt\n",
      "2023-04-06 21:47.22 [debug    ] RoundIterator is selected.\n",
      "2023-04-06 21:47.22 [info     ] Directory is created at d3rlpy_logs/FQE_20230406214722\n",
      "2023-04-06 21:47.22 [debug    ] Fitting scaler...              scaler=min_max\n",
      "2023-04-06 21:47.22 [debug    ] Fitting action scaler...       action_scaler=min_max\n",
      "2023-04-06 21:47.22 [debug    ] Building models...\n",
      "2023-04-06 21:47.22 [debug    ] Models have been built.\n",
      "2023-04-06 21:47.22 [info     ] Parameters are saved to d3rlpy_logs/FQE_20230406214722/params.json params={'action_scaler': {'type': 'min_max', 'params': {'minimum': array([-1., -1., -1.]), 'maximum': array([1., 1., 1.])}}, 'batch_size': 100, 'encoder_factory': {'type': 'vector', 'params': {'hidden_units': [30, 30], 'activation': 'relu', 'use_batch_norm': False, 'dropout_rate': None, 'use_dense': False}}, 'gamma': 0.95, 'generated_maxlen': 100000, 'learning_rate': 0.0001, 'n_critics': 1, 'n_frames': 1, 'n_steps': 1, 'optim_factory': {'optim_cls': 'Adam', 'betas': (0.9, 0.999), 'eps': 1e-08, 'weight_decay': 0, 'amsgrad': False}, 'q_func_factory': {'type': 'mean', 'params': {'share_encoder': False}}, 'real_ratio': 1.0, 'reward_scaler': None, 'scaler': {'type': 'min_max', 'params': {'maximum': array([0.96323906, 0.95114544, 0.99273587, 0.97201997, 0.99416786]), 'minimum': array([-0.95159231, -0.94320947, -0.9962563 , -0.96728401, -0.98839112])}}, 'target_update_interval': 100, 'use_gpu': None, 'algorithm': 'FQE', 'observation_shape': (5,), 'action_size': 3}\n"
     ]
    },
    {
     "data": {
      "application/vnd.jupyter.widget-view+json": {
       "model_id": "6f221202a2bf46dd945ce11ea878bc27",
       "version_major": 2,
       "version_minor": 0
      },
      "text/plain": [
       "Epoch 1/1:   0%|          | 0/40 [00:00<?, ?it/s]"
      ]
     },
     "metadata": {},
     "output_type": "display_data"
    },
    {
     "name": "stdout",
     "output_type": "stream",
     "text": [
      "2023-04-06 21:47.22 [info     ] FQE_20230406214722: epoch=1 step=40 epoch=1 metrics={'time_sample_batch': 0.0002205967903137207, 'time_algorithm_update': 0.0027832388877868652, 'loss': 0.12628058940172196, 'time_step': 0.0032640695571899414} step=40\n",
      "2023-04-06 21:47.22 [info     ] Model parameters are saved to d3rlpy_logs/FQE_20230406214722/model_40.pt\n"
     ]
    },
    {
     "data": {
      "application/vnd.jupyter.widget-view+json": {
       "model_id": "d74abc5d2e35434da3ad884f24983dc8",
       "version_major": 2,
       "version_minor": 0
      },
      "text/plain": [
       "[fit MWL model]:   0%|          | 0/2 [00:00<?, ?it/s]"
      ]
     },
     "metadata": {},
     "output_type": "display_data"
    },
    {
     "data": {
      "application/vnd.jupyter.widget-view+json": {
       "model_id": "e49cba8173e94f4ea4ef8eedd89471fa",
       "version_major": 2,
       "version_minor": 0
      },
      "text/plain": [
       "[fitting_weight_function]:   0%|          | 0/100 [00:00<?, ?it/s]"
      ]
     },
     "metadata": {},
     "output_type": "display_data"
    },
    {
     "data": {
      "application/vnd.jupyter.widget-view+json": {
       "model_id": "a32ae5accbae4f44ae8dccb8700253b1",
       "version_major": 2,
       "version_minor": 0
      },
      "text/plain": [
       "[fitting_weight_function]:   0%|          | 0/100 [00:00<?, ?it/s]"
      ]
     },
     "metadata": {},
     "output_type": "display_data"
    },
    {
     "data": {
      "application/vnd.jupyter.widget-view+json": {
       "model_id": "d9dd497a77ff4d21976665314e3af8d4",
       "version_major": 2,
       "version_minor": 0
      },
      "text/plain": [
       "[fitting_weight_function]:   0%|          | 0/100 [00:00<?, ?it/s]"
      ]
     },
     "metadata": {},
     "output_type": "display_data"
    },
    {
     "data": {
      "application/vnd.jupyter.widget-view+json": {
       "model_id": "d65dd43bd3744ba89883877f9baf1ff0",
       "version_major": 2,
       "version_minor": 0
      },
      "text/plain": [
       "[fitting_weight_function]:   0%|          | 0/100 [00:00<?, ?it/s]"
      ]
     },
     "metadata": {},
     "output_type": "display_data"
    },
    {
     "data": {
      "application/vnd.jupyter.widget-view+json": {
       "model_id": "9765ba84201941258c9c55c0558585e8",
       "version_major": 2,
       "version_minor": 0
      },
      "text/plain": [
       "[collect input data: eval_policy]:   0%|          | 0/2 [00:00<?, ?it/s]"
      ]
     },
     "metadata": {},
     "output_type": "display_data"
    },
    {
     "data": {
      "application/vnd.jupyter.widget-view+json": {
       "model_id": "1db5684181494d11b9a0fbc191d3733c",
       "version_major": 2,
       "version_minor": 0
      },
      "text/plain": [
       "[calculate on-policy policy value]:   0%|          | 0/100 [00:00<?, ?it/s]"
      ]
     },
     "metadata": {},
     "output_type": "display_data"
    },
    {
     "data": {
      "application/vnd.jupyter.widget-view+json": {
       "model_id": "496d7d919c10477f8a6b4d1c2b95a0c6",
       "version_major": 2,
       "version_minor": 0
      },
      "text/plain": [
       "[calculate on-policy policy value]:   0%|          | 0/100 [00:00<?, ?it/s]"
      ]
     },
     "metadata": {},
     "output_type": "display_data"
    },
    {
     "data": {
      "application/vnd.jupyter.widget-view+json": {
       "model_id": "4d6875a192d44fa993245293fdc2f368",
       "version_major": 2,
       "version_minor": 0
      },
      "text/plain": [
       "[obtain_trajectories]:   0%|          | 0/400 [00:00<?, ?it/s]"
      ]
     },
     "metadata": {},
     "output_type": "display_data"
    },
    {
     "data": {
      "application/vnd.jupyter.widget-view+json": {
       "model_id": "549fb7f0f9c1433d82fa807da8d4d38f",
       "version_major": 2,
       "version_minor": 0
      },
      "text/plain": [
       "[obtain_trajectories]:   0%|          | 0/400 [00:00<?, ?it/s]"
      ]
     },
     "metadata": {},
     "output_type": "display_data"
    },
    {
     "name": "stdout",
     "output_type": "stream",
     "text": [
      "2023-04-06 21:48.12 [debug    ] RandomIterator is selected.\n",
      "2023-04-06 21:48.12 [info     ] Directory is created at d3rlpy_logs/CQL_20230406214812\n",
      "2023-04-06 21:48.12 [debug    ] Fitting action scaler...       action_scaler=min_max\n",
      "2023-04-06 21:48.12 [debug    ] Building models...\n",
      "2023-04-06 21:48.12 [debug    ] Models have been built.\n",
      "2023-04-06 21:48.12 [info     ] Parameters are saved to d3rlpy_logs/CQL_20230406214812/params.json params={'action_scaler': {'type': 'min_max', 'params': {'minimum': array([-1., -1., -1.]), 'maximum': array([1., 1., 1.])}}, 'actor_encoder_factory': {'type': 'vector', 'params': {'hidden_units': [30, 30], 'activation': 'relu', 'use_batch_norm': False, 'dropout_rate': None, 'use_dense': False}}, 'actor_learning_rate': 0.0001, 'actor_optim_factory': {'optim_cls': 'Adam', 'betas': (0.9, 0.999), 'eps': 1e-08, 'weight_decay': 0, 'amsgrad': False}, 'alpha_learning_rate': 0.0001, 'alpha_optim_factory': {'optim_cls': 'Adam', 'betas': (0.9, 0.999), 'eps': 1e-08, 'weight_decay': 0, 'amsgrad': False}, 'alpha_threshold': 10.0, 'batch_size': 256, 'conservative_weight': 5.0, 'critic_encoder_factory': {'type': 'vector', 'params': {'hidden_units': [30, 30], 'activation': 'relu', 'use_batch_norm': False, 'dropout_rate': None, 'use_dense': False}}, 'critic_learning_rate': 0.0003, 'critic_optim_factory': {'optim_cls': 'Adam', 'betas': (0.9, 0.999), 'eps': 1e-08, 'weight_decay': 0, 'amsgrad': False}, 'gamma': 0.99, 'generated_maxlen': 100000, 'initial_alpha': 1.0, 'initial_temperature': 1.0, 'n_action_samples': 10, 'n_critics': 2, 'n_frames': 1, 'n_steps': 1, 'q_func_factory': {'type': 'mean', 'params': {'share_encoder': False}}, 'real_ratio': 1.0, 'reward_scaler': None, 'scaler': None, 'soft_q_backup': False, 'tau': 0.005, 'temp_learning_rate': 0.0001, 'temp_optim_factory': {'optim_cls': 'Adam', 'betas': (0.9, 0.999), 'eps': 1e-08, 'weight_decay': 0, 'amsgrad': False}, 'use_gpu': None, 'algorithm': 'CQL', 'observation_shape': (5,), 'action_size': 3}\n"
     ]
    },
    {
     "data": {
      "application/vnd.jupyter.widget-view+json": {
       "model_id": "a9d9375aa32d47eda24103857402e3f9",
       "version_major": 2,
       "version_minor": 0
      },
      "text/plain": [
       "Epoch 1/1:   0%|          | 0/10000 [00:00<?, ?it/s]"
      ]
     },
     "metadata": {},
     "output_type": "display_data"
    },
    {
     "name": "stdout",
     "output_type": "stream",
     "text": [
      "2023-04-06 21:52.08 [info     ] CQL_20230406214812: epoch=1 step=10000 epoch=1 metrics={'time_sample_batch': 0.0006979761838912964, 'time_algorithm_update': 0.022260612034797667, 'temp_loss': 3.210847437405586, 'temp': 0.6503185802340508, 'alpha_loss': -30.33805105857849, 'alpha': 1.794778734076023, 'critic_loss': 31.66560109577179, 'actor_loss': -3.400353966641426, 'time_step': 0.02344513351917267} step=10000\n",
      "2023-04-06 21:52.08 [info     ] Model parameters are saved to d3rlpy_logs/CQL_20230406214812/model_10000.pt\n"
     ]
    },
    {
     "data": {
      "application/vnd.jupyter.widget-view+json": {
       "model_id": "44829a70811141c099b42dc2e66c7799",
       "version_major": 2,
       "version_minor": 0
      },
      "text/plain": [
       "[fit FQE model]:   0%|          | 0/2 [00:00<?, ?it/s]"
      ]
     },
     "metadata": {},
     "output_type": "display_data"
    },
    {
     "name": "stdout",
     "output_type": "stream",
     "text": [
      "2023-04-06 21:52.08 [debug    ] RoundIterator is selected.\n",
      "2023-04-06 21:52.08 [info     ] Directory is created at d3rlpy_logs/FQE_20230406215208\n",
      "2023-04-06 21:52.08 [debug    ] Fitting scaler...              scaler=min_max\n",
      "2023-04-06 21:52.08 [debug    ] Fitting action scaler...       action_scaler=min_max\n",
      "2023-04-06 21:52.08 [debug    ] Building models...\n",
      "2023-04-06 21:52.08 [debug    ] Models have been built.\n",
      "2023-04-06 21:52.08 [info     ] Parameters are saved to d3rlpy_logs/FQE_20230406215208/params.json params={'action_scaler': {'type': 'min_max', 'params': {'minimum': array([-1., -1., -1.]), 'maximum': array([1., 1., 1.])}}, 'batch_size': 100, 'encoder_factory': {'type': 'vector', 'params': {'hidden_units': [30, 30], 'activation': 'relu', 'use_batch_norm': False, 'dropout_rate': None, 'use_dense': False}}, 'gamma': 0.95, 'generated_maxlen': 100000, 'learning_rate': 0.0001, 'n_critics': 1, 'n_frames': 1, 'n_steps': 1, 'optim_factory': {'optim_cls': 'Adam', 'betas': (0.9, 0.999), 'eps': 1e-08, 'weight_decay': 0, 'amsgrad': False}, 'q_func_factory': {'type': 'mean', 'params': {'share_encoder': False}}, 'real_ratio': 1.0, 'reward_scaler': None, 'scaler': {'type': 'min_max', 'params': {'maximum': array([0.93696609, 0.9723519 , 0.99321216, 0.999342  , 0.97614314]), 'minimum': array([-0.99044977, -0.95238291, -0.99486567, -0.9912811 , -0.97283614])}}, 'target_update_interval': 100, 'use_gpu': None, 'algorithm': 'FQE', 'observation_shape': (5,), 'action_size': 3}\n"
     ]
    },
    {
     "data": {
      "application/vnd.jupyter.widget-view+json": {
       "model_id": "f3730521b92246ed965cd25c3888f82e",
       "version_major": 2,
       "version_minor": 0
      },
      "text/plain": [
       "Epoch 1/1:   0%|          | 0/40 [00:00<?, ?it/s]"
      ]
     },
     "metadata": {},
     "output_type": "display_data"
    },
    {
     "name": "stdout",
     "output_type": "stream",
     "text": [
      "2023-04-06 21:52.08 [info     ] FQE_20230406215208: epoch=1 step=40 epoch=1 metrics={'time_sample_batch': 0.0001081228256225586, 'time_algorithm_update': 0.0014073729515075683, 'loss': 0.1170427618548274, 'time_step': 0.0015871286392211913} step=40\n",
      "2023-04-06 21:52.08 [info     ] Model parameters are saved to d3rlpy_logs/FQE_20230406215208/model_40.pt\n",
      "2023-04-06 21:52.08 [debug    ] RoundIterator is selected.\n",
      "2023-04-06 21:52.09 [info     ] Directory is created at d3rlpy_logs/FQE_20230406215209\n",
      "2023-04-06 21:52.09 [debug    ] Fitting scaler...              scaler=min_max\n",
      "2023-04-06 21:52.09 [debug    ] Fitting action scaler...       action_scaler=min_max\n",
      "2023-04-06 21:52.09 [debug    ] Building models...\n",
      "2023-04-06 21:52.09 [debug    ] Models have been built.\n",
      "2023-04-06 21:52.09 [info     ] Parameters are saved to d3rlpy_logs/FQE_20230406215209/params.json params={'action_scaler': {'type': 'min_max', 'params': {'minimum': array([-1., -1., -1.]), 'maximum': array([1., 1., 1.])}}, 'batch_size': 100, 'encoder_factory': {'type': 'vector', 'params': {'hidden_units': [30, 30], 'activation': 'relu', 'use_batch_norm': False, 'dropout_rate': None, 'use_dense': False}}, 'gamma': 0.95, 'generated_maxlen': 100000, 'learning_rate': 0.0001, 'n_critics': 1, 'n_frames': 1, 'n_steps': 1, 'optim_factory': {'optim_cls': 'Adam', 'betas': (0.9, 0.999), 'eps': 1e-08, 'weight_decay': 0, 'amsgrad': False}, 'q_func_factory': {'type': 'mean', 'params': {'share_encoder': False}}, 'real_ratio': 1.0, 'reward_scaler': None, 'scaler': {'type': 'min_max', 'params': {'maximum': array([0.93696609, 0.9723519 , 0.99321216, 0.999342  , 0.97614314]), 'minimum': array([-0.99044977, -0.95238291, -0.99486567, -0.9912811 , -0.97283614])}}, 'target_update_interval': 100, 'use_gpu': None, 'algorithm': 'FQE', 'observation_shape': (5,), 'action_size': 3}\n"
     ]
    },
    {
     "data": {
      "application/vnd.jupyter.widget-view+json": {
       "model_id": "ce072e1b0da3490da7a8719ccee4ced0",
       "version_major": 2,
       "version_minor": 0
      },
      "text/plain": [
       "Epoch 1/1:   0%|          | 0/40 [00:00<?, ?it/s]"
      ]
     },
     "metadata": {},
     "output_type": "display_data"
    },
    {
     "name": "stdout",
     "output_type": "stream",
     "text": [
      "2023-04-06 21:52.09 [info     ] FQE_20230406215209: epoch=1 step=40 epoch=1 metrics={'time_sample_batch': 0.00011916756629943847, 'time_algorithm_update': 0.0021086573600769044, 'loss': 0.11976551041007041, 'time_step': 0.0023050010204315186} step=40\n",
      "2023-04-06 21:52.09 [info     ] Model parameters are saved to d3rlpy_logs/FQE_20230406215209/model_40.pt\n"
     ]
    },
    {
     "data": {
      "application/vnd.jupyter.widget-view+json": {
       "model_id": "fce2fb368cf84b7788b3ad78aa444c97",
       "version_major": 2,
       "version_minor": 0
      },
      "text/plain": [
       "[fit MWL model]:   0%|          | 0/2 [00:00<?, ?it/s]"
      ]
     },
     "metadata": {},
     "output_type": "display_data"
    },
    {
     "data": {
      "application/vnd.jupyter.widget-view+json": {
       "model_id": "d8a0dc040fbe4002a0283cd0c22e4738",
       "version_major": 2,
       "version_minor": 0
      },
      "text/plain": [
       "[fitting_weight_function]:   0%|          | 0/100 [00:00<?, ?it/s]"
      ]
     },
     "metadata": {},
     "output_type": "display_data"
    },
    {
     "data": {
      "application/vnd.jupyter.widget-view+json": {
       "model_id": "aece9f2534384184911e955748bec67b",
       "version_major": 2,
       "version_minor": 0
      },
      "text/plain": [
       "[fitting_weight_function]:   0%|          | 0/100 [00:00<?, ?it/s]"
      ]
     },
     "metadata": {},
     "output_type": "display_data"
    },
    {
     "data": {
      "application/vnd.jupyter.widget-view+json": {
       "model_id": "dd845d80f63c4d72af7db30771294c07",
       "version_major": 2,
       "version_minor": 0
      },
      "text/plain": [
       "[fitting_weight_function]:   0%|          | 0/100 [00:00<?, ?it/s]"
      ]
     },
     "metadata": {},
     "output_type": "display_data"
    },
    {
     "data": {
      "application/vnd.jupyter.widget-view+json": {
       "model_id": "827e37027d4e4e86bc0dfee7b3ef8c3e",
       "version_major": 2,
       "version_minor": 0
      },
      "text/plain": [
       "[fitting_weight_function]:   0%|          | 0/100 [00:00<?, ?it/s]"
      ]
     },
     "metadata": {},
     "output_type": "display_data"
    },
    {
     "data": {
      "application/vnd.jupyter.widget-view+json": {
       "model_id": "54edba5c2c3541deb9b2e52956a791c8",
       "version_major": 2,
       "version_minor": 0
      },
      "text/plain": [
       "[collect input data: eval_policy]:   0%|          | 0/2 [00:00<?, ?it/s]"
      ]
     },
     "metadata": {},
     "output_type": "display_data"
    },
    {
     "data": {
      "application/vnd.jupyter.widget-view+json": {
       "model_id": "221b376ed97f42549671e5572cfba04c",
       "version_major": 2,
       "version_minor": 0
      },
      "text/plain": [
       "[calculate on-policy policy value]:   0%|          | 0/100 [00:00<?, ?it/s]"
      ]
     },
     "metadata": {},
     "output_type": "display_data"
    },
    {
     "data": {
      "application/vnd.jupyter.widget-view+json": {
       "model_id": "487c6c21aadf4369988121f7c13e6669",
       "version_major": 2,
       "version_minor": 0
      },
      "text/plain": [
       "[calculate on-policy policy value]:   0%|          | 0/100 [00:00<?, ?it/s]"
      ]
     },
     "metadata": {},
     "output_type": "display_data"
    },
    {
     "data": {
      "application/vnd.jupyter.widget-view+json": {
       "model_id": "fe3b2c166fc14c01aee49baf6eb4353e",
       "version_major": 2,
       "version_minor": 0
      },
      "text/plain": [
       "[obtain_trajectories]:   0%|          | 0/400 [00:00<?, ?it/s]"
      ]
     },
     "metadata": {},
     "output_type": "display_data"
    },
    {
     "data": {
      "application/vnd.jupyter.widget-view+json": {
       "model_id": "3224737f4bca4372b585ee5431cb9a0b",
       "version_major": 2,
       "version_minor": 0
      },
      "text/plain": [
       "[obtain_trajectories]:   0%|          | 0/400 [00:00<?, ?it/s]"
      ]
     },
     "metadata": {},
     "output_type": "display_data"
    },
    {
     "name": "stdout",
     "output_type": "stream",
     "text": [
      "2023-04-06 21:52.59 [debug    ] RandomIterator is selected.\n",
      "2023-04-06 21:52.59 [info     ] Directory is created at d3rlpy_logs/CQL_20230406215259\n",
      "2023-04-06 21:52.59 [debug    ] Fitting action scaler...       action_scaler=min_max\n",
      "2023-04-06 21:52.59 [debug    ] Building models...\n",
      "2023-04-06 21:52.59 [debug    ] Models have been built.\n",
      "2023-04-06 21:52.59 [info     ] Parameters are saved to d3rlpy_logs/CQL_20230406215259/params.json params={'action_scaler': {'type': 'min_max', 'params': {'minimum': array([-1., -1., -1.]), 'maximum': array([1., 1., 1.])}}, 'actor_encoder_factory': {'type': 'vector', 'params': {'hidden_units': [30, 30], 'activation': 'relu', 'use_batch_norm': False, 'dropout_rate': None, 'use_dense': False}}, 'actor_learning_rate': 0.0001, 'actor_optim_factory': {'optim_cls': 'Adam', 'betas': (0.9, 0.999), 'eps': 1e-08, 'weight_decay': 0, 'amsgrad': False}, 'alpha_learning_rate': 0.0001, 'alpha_optim_factory': {'optim_cls': 'Adam', 'betas': (0.9, 0.999), 'eps': 1e-08, 'weight_decay': 0, 'amsgrad': False}, 'alpha_threshold': 10.0, 'batch_size': 256, 'conservative_weight': 5.0, 'critic_encoder_factory': {'type': 'vector', 'params': {'hidden_units': [30, 30], 'activation': 'relu', 'use_batch_norm': False, 'dropout_rate': None, 'use_dense': False}}, 'critic_learning_rate': 0.0003, 'critic_optim_factory': {'optim_cls': 'Adam', 'betas': (0.9, 0.999), 'eps': 1e-08, 'weight_decay': 0, 'amsgrad': False}, 'gamma': 0.99, 'generated_maxlen': 100000, 'initial_alpha': 1.0, 'initial_temperature': 1.0, 'n_action_samples': 10, 'n_critics': 2, 'n_frames': 1, 'n_steps': 1, 'q_func_factory': {'type': 'mean', 'params': {'share_encoder': False}}, 'real_ratio': 1.0, 'reward_scaler': None, 'scaler': None, 'soft_q_backup': False, 'tau': 0.005, 'temp_learning_rate': 0.0001, 'temp_optim_factory': {'optim_cls': 'Adam', 'betas': (0.9, 0.999), 'eps': 1e-08, 'weight_decay': 0, 'amsgrad': False}, 'use_gpu': None, 'algorithm': 'CQL', 'observation_shape': (5,), 'action_size': 3}\n"
     ]
    },
    {
     "data": {
      "application/vnd.jupyter.widget-view+json": {
       "model_id": "48f1749efbc747d38364c1c763ba5487",
       "version_major": 2,
       "version_minor": 0
      },
      "text/plain": [
       "Epoch 1/1:   0%|          | 0/10000 [00:00<?, ?it/s]"
      ]
     },
     "metadata": {},
     "output_type": "display_data"
    },
    {
     "name": "stdout",
     "output_type": "stream",
     "text": [
      "2023-04-06 21:56.50 [info     ] CQL_20230406215259: epoch=1 step=10000 epoch=1 metrics={'time_sample_batch': 0.000690466022491455, 'time_algorithm_update': 0.021782014274597167, 'temp_loss': 3.2155013578295706, 'temp': 0.6502387339115143, 'alpha_loss': -30.304629030227662, 'alpha': 1.7946206079244613, 'critic_loss': 31.535897117233276, 'actor_loss': -3.2800915514707567, 'time_step': 0.02294464292526245} step=10000\n",
      "2023-04-06 21:56.50 [info     ] Model parameters are saved to d3rlpy_logs/CQL_20230406215259/model_10000.pt\n"
     ]
    },
    {
     "data": {
      "application/vnd.jupyter.widget-view+json": {
       "model_id": "79b3d33770fc43da8b77eb71b9a90095",
       "version_major": 2,
       "version_minor": 0
      },
      "text/plain": [
       "[fit FQE model]:   0%|          | 0/2 [00:00<?, ?it/s]"
      ]
     },
     "metadata": {},
     "output_type": "display_data"
    },
    {
     "name": "stdout",
     "output_type": "stream",
     "text": [
      "2023-04-06 21:56.50 [debug    ] RoundIterator is selected.\n",
      "2023-04-06 21:56.50 [info     ] Directory is created at d3rlpy_logs/FQE_20230406215650\n",
      "2023-04-06 21:56.50 [debug    ] Fitting scaler...              scaler=min_max\n",
      "2023-04-06 21:56.50 [debug    ] Fitting action scaler...       action_scaler=min_max\n",
      "2023-04-06 21:56.50 [debug    ] Building models...\n",
      "2023-04-06 21:56.50 [debug    ] Models have been built.\n",
      "2023-04-06 21:56.50 [info     ] Parameters are saved to d3rlpy_logs/FQE_20230406215650/params.json params={'action_scaler': {'type': 'min_max', 'params': {'minimum': array([-1., -1., -1.]), 'maximum': array([1., 1., 1.])}}, 'batch_size': 100, 'encoder_factory': {'type': 'vector', 'params': {'hidden_units': [30, 30], 'activation': 'relu', 'use_batch_norm': False, 'dropout_rate': None, 'use_dense': False}}, 'gamma': 0.95, 'generated_maxlen': 100000, 'learning_rate': 0.0001, 'n_critics': 1, 'n_frames': 1, 'n_steps': 1, 'optim_factory': {'optim_cls': 'Adam', 'betas': (0.9, 0.999), 'eps': 1e-08, 'weight_decay': 0, 'amsgrad': False}, 'q_func_factory': {'type': 'mean', 'params': {'share_encoder': False}}, 'real_ratio': 1.0, 'reward_scaler': None, 'scaler': {'type': 'min_max', 'params': {'maximum': array([0.99787284, 0.92989733, 0.99767742, 0.96082194, 0.98359635]), 'minimum': array([-0.93661592, -0.9785377 , -0.99322845, -0.95855495, -0.98118031])}}, 'target_update_interval': 100, 'use_gpu': None, 'algorithm': 'FQE', 'observation_shape': (5,), 'action_size': 3}\n"
     ]
    },
    {
     "data": {
      "application/vnd.jupyter.widget-view+json": {
       "model_id": "52467c03284b4e909007829334b2f3aa",
       "version_major": 2,
       "version_minor": 0
      },
      "text/plain": [
       "Epoch 1/1:   0%|          | 0/40 [00:00<?, ?it/s]"
      ]
     },
     "metadata": {},
     "output_type": "display_data"
    },
    {
     "name": "stdout",
     "output_type": "stream",
     "text": [
      "2023-04-06 21:56.50 [info     ] FQE_20230406215650: epoch=1 step=40 epoch=1 metrics={'time_sample_batch': 9.266138076782226e-05, 'time_algorithm_update': 0.0016394615173339843, 'loss': 0.11172324493527412, 'time_step': 0.001788264513015747} step=40\n",
      "2023-04-06 21:56.50 [info     ] Model parameters are saved to d3rlpy_logs/FQE_20230406215650/model_40.pt\n",
      "2023-04-06 21:56.50 [debug    ] RoundIterator is selected.\n",
      "2023-04-06 21:56.51 [info     ] Directory is created at d3rlpy_logs/FQE_20230406215651\n",
      "2023-04-06 21:56.51 [debug    ] Fitting scaler...              scaler=min_max\n",
      "2023-04-06 21:56.51 [debug    ] Fitting action scaler...       action_scaler=min_max\n",
      "2023-04-06 21:56.51 [debug    ] Building models...\n",
      "2023-04-06 21:56.51 [debug    ] Models have been built.\n",
      "2023-04-06 21:56.51 [info     ] Parameters are saved to d3rlpy_logs/FQE_20230406215651/params.json params={'action_scaler': {'type': 'min_max', 'params': {'minimum': array([-1., -1., -1.]), 'maximum': array([1., 1., 1.])}}, 'batch_size': 100, 'encoder_factory': {'type': 'vector', 'params': {'hidden_units': [30, 30], 'activation': 'relu', 'use_batch_norm': False, 'dropout_rate': None, 'use_dense': False}}, 'gamma': 0.95, 'generated_maxlen': 100000, 'learning_rate': 0.0001, 'n_critics': 1, 'n_frames': 1, 'n_steps': 1, 'optim_factory': {'optim_cls': 'Adam', 'betas': (0.9, 0.999), 'eps': 1e-08, 'weight_decay': 0, 'amsgrad': False}, 'q_func_factory': {'type': 'mean', 'params': {'share_encoder': False}}, 'real_ratio': 1.0, 'reward_scaler': None, 'scaler': {'type': 'min_max', 'params': {'maximum': array([0.99787284, 0.92989733, 0.99767742, 0.96082194, 0.98359635]), 'minimum': array([-0.93661592, -0.9785377 , -0.99322845, -0.95855495, -0.98118031])}}, 'target_update_interval': 100, 'use_gpu': None, 'algorithm': 'FQE', 'observation_shape': (5,), 'action_size': 3}\n"
     ]
    },
    {
     "data": {
      "application/vnd.jupyter.widget-view+json": {
       "model_id": "dc1f77e702594698b441bdacffd26ad4",
       "version_major": 2,
       "version_minor": 0
      },
      "text/plain": [
       "Epoch 1/1:   0%|          | 0/40 [00:00<?, ?it/s]"
      ]
     },
     "metadata": {},
     "output_type": "display_data"
    },
    {
     "name": "stdout",
     "output_type": "stream",
     "text": [
      "2023-04-06 21:56.52 [info     ] FQE_20230406215651: epoch=1 step=40 epoch=1 metrics={'time_sample_batch': 0.00010834336280822754, 'time_algorithm_update': 0.001558762788772583, 'loss': 0.11274367440491914, 'time_step': 0.0017303884029388427} step=40\n",
      "2023-04-06 21:56.52 [info     ] Model parameters are saved to d3rlpy_logs/FQE_20230406215651/model_40.pt\n"
     ]
    },
    {
     "data": {
      "application/vnd.jupyter.widget-view+json": {
       "model_id": "61540f33d68043e29263943982bf109e",
       "version_major": 2,
       "version_minor": 0
      },
      "text/plain": [
       "[fit MWL model]:   0%|          | 0/2 [00:00<?, ?it/s]"
      ]
     },
     "metadata": {},
     "output_type": "display_data"
    },
    {
     "data": {
      "application/vnd.jupyter.widget-view+json": {
       "model_id": "7f4027d518e44ad78cc66cf8f53112e5",
       "version_major": 2,
       "version_minor": 0
      },
      "text/plain": [
       "[fitting_weight_function]:   0%|          | 0/100 [00:00<?, ?it/s]"
      ]
     },
     "metadata": {},
     "output_type": "display_data"
    },
    {
     "data": {
      "application/vnd.jupyter.widget-view+json": {
       "model_id": "85a6dc09821a4e918cf9c5e9c3270660",
       "version_major": 2,
       "version_minor": 0
      },
      "text/plain": [
       "[fitting_weight_function]:   0%|          | 0/100 [00:00<?, ?it/s]"
      ]
     },
     "metadata": {},
     "output_type": "display_data"
    },
    {
     "data": {
      "application/vnd.jupyter.widget-view+json": {
       "model_id": "1e681887e6804b8aa9ec03f2fc5543fa",
       "version_major": 2,
       "version_minor": 0
      },
      "text/plain": [
       "[fitting_weight_function]:   0%|          | 0/100 [00:00<?, ?it/s]"
      ]
     },
     "metadata": {},
     "output_type": "display_data"
    },
    {
     "data": {
      "application/vnd.jupyter.widget-view+json": {
       "model_id": "8110b16d3c0a42da8fb6d3b392e19c94",
       "version_major": 2,
       "version_minor": 0
      },
      "text/plain": [
       "[fitting_weight_function]:   0%|          | 0/100 [00:00<?, ?it/s]"
      ]
     },
     "metadata": {},
     "output_type": "display_data"
    },
    {
     "data": {
      "application/vnd.jupyter.widget-view+json": {
       "model_id": "76d31bfbb1be4bc4a3598b33fa7803b9",
       "version_major": 2,
       "version_minor": 0
      },
      "text/plain": [
       "[collect input data: eval_policy]:   0%|          | 0/2 [00:00<?, ?it/s]"
      ]
     },
     "metadata": {},
     "output_type": "display_data"
    },
    {
     "data": {
      "application/vnd.jupyter.widget-view+json": {
       "model_id": "f6c5087a93424d71919d59b54864db9f",
       "version_major": 2,
       "version_minor": 0
      },
      "text/plain": [
       "[calculate on-policy policy value]:   0%|          | 0/100 [00:00<?, ?it/s]"
      ]
     },
     "metadata": {},
     "output_type": "display_data"
    },
    {
     "data": {
      "application/vnd.jupyter.widget-view+json": {
       "model_id": "b0fdb1e322224f09b928eb4862225f05",
       "version_major": 2,
       "version_minor": 0
      },
      "text/plain": [
       "[calculate on-policy policy value]:   0%|          | 0/100 [00:00<?, ?it/s]"
      ]
     },
     "metadata": {},
     "output_type": "display_data"
    },
    {
     "data": {
      "application/vnd.jupyter.widget-view+json": {
       "model_id": "a7eb4e6f38324fe194af07fed8ce6236",
       "version_major": 2,
       "version_minor": 0
      },
      "text/plain": [
       "[obtain_trajectories]:   0%|          | 0/800 [00:00<?, ?it/s]"
      ]
     },
     "metadata": {},
     "output_type": "display_data"
    },
    {
     "data": {
      "application/vnd.jupyter.widget-view+json": {
       "model_id": "c06f7ac24b5e4de1836d0c7043b86187",
       "version_major": 2,
       "version_minor": 0
      },
      "text/plain": [
       "[obtain_trajectories]:   0%|          | 0/800 [00:00<?, ?it/s]"
      ]
     },
     "metadata": {},
     "output_type": "display_data"
    },
    {
     "name": "stdout",
     "output_type": "stream",
     "text": [
      "2023-04-06 21:57.49 [debug    ] RandomIterator is selected.\n",
      "2023-04-06 21:57.49 [info     ] Directory is created at d3rlpy_logs/CQL_20230406215749\n",
      "2023-04-06 21:57.49 [debug    ] Fitting action scaler...       action_scaler=min_max\n",
      "2023-04-06 21:57.49 [debug    ] Building models...\n",
      "2023-04-06 21:57.49 [debug    ] Models have been built.\n",
      "2023-04-06 21:57.49 [info     ] Parameters are saved to d3rlpy_logs/CQL_20230406215749/params.json params={'action_scaler': {'type': 'min_max', 'params': {'minimum': array([-1., -1., -1.]), 'maximum': array([1., 1., 1.])}}, 'actor_encoder_factory': {'type': 'vector', 'params': {'hidden_units': [30, 30], 'activation': 'relu', 'use_batch_norm': False, 'dropout_rate': None, 'use_dense': False}}, 'actor_learning_rate': 0.0001, 'actor_optim_factory': {'optim_cls': 'Adam', 'betas': (0.9, 0.999), 'eps': 1e-08, 'weight_decay': 0, 'amsgrad': False}, 'alpha_learning_rate': 0.0001, 'alpha_optim_factory': {'optim_cls': 'Adam', 'betas': (0.9, 0.999), 'eps': 1e-08, 'weight_decay': 0, 'amsgrad': False}, 'alpha_threshold': 10.0, 'batch_size': 256, 'conservative_weight': 5.0, 'critic_encoder_factory': {'type': 'vector', 'params': {'hidden_units': [30, 30], 'activation': 'relu', 'use_batch_norm': False, 'dropout_rate': None, 'use_dense': False}}, 'critic_learning_rate': 0.0003, 'critic_optim_factory': {'optim_cls': 'Adam', 'betas': (0.9, 0.999), 'eps': 1e-08, 'weight_decay': 0, 'amsgrad': False}, 'gamma': 0.99, 'generated_maxlen': 100000, 'initial_alpha': 1.0, 'initial_temperature': 1.0, 'n_action_samples': 10, 'n_critics': 2, 'n_frames': 1, 'n_steps': 1, 'q_func_factory': {'type': 'mean', 'params': {'share_encoder': False}}, 'real_ratio': 1.0, 'reward_scaler': None, 'scaler': None, 'soft_q_backup': False, 'tau': 0.005, 'temp_learning_rate': 0.0001, 'temp_optim_factory': {'optim_cls': 'Adam', 'betas': (0.9, 0.999), 'eps': 1e-08, 'weight_decay': 0, 'amsgrad': False}, 'use_gpu': None, 'algorithm': 'CQL', 'observation_shape': (5,), 'action_size': 3}\n"
     ]
    },
    {
     "data": {
      "application/vnd.jupyter.widget-view+json": {
       "model_id": "7d36c43c252040b6884a4965ef94e5ef",
       "version_major": 2,
       "version_minor": 0
      },
      "text/plain": [
       "Epoch 1/1:   0%|          | 0/10000 [00:00<?, ?it/s]"
      ]
     },
     "metadata": {},
     "output_type": "display_data"
    },
    {
     "name": "stdout",
     "output_type": "stream",
     "text": [
      "2023-04-06 22:01.42 [info     ] CQL_20230406215749: epoch=1 step=10000 epoch=1 metrics={'time_sample_batch': 0.0006987829685211181, 'time_algorithm_update': 0.021958478426933287, 'temp_loss': 3.218226021063328, 'temp': 0.6501321892499924, 'alpha_loss': -30.58691768627167, 'alpha': 1.7958991977810859, 'critic_loss': 32.50550861415863, 'actor_loss': -3.9063738638997076, 'time_step': 0.023125099587440492} step=10000\n",
      "2023-04-06 22:01.42 [info     ] Model parameters are saved to d3rlpy_logs/CQL_20230406215749/model_10000.pt\n"
     ]
    },
    {
     "data": {
      "application/vnd.jupyter.widget-view+json": {
       "model_id": "876e1c18d8e34dd7904f4316a007a920",
       "version_major": 2,
       "version_minor": 0
      },
      "text/plain": [
       "[fit FQE model]:   0%|          | 0/2 [00:00<?, ?it/s]"
      ]
     },
     "metadata": {},
     "output_type": "display_data"
    },
    {
     "name": "stdout",
     "output_type": "stream",
     "text": [
      "2023-04-06 22:01.42 [debug    ] RoundIterator is selected.\n",
      "2023-04-06 22:01.42 [info     ] Directory is created at d3rlpy_logs/FQE_20230406220142\n",
      "2023-04-06 22:01.42 [debug    ] Fitting scaler...              scaler=min_max\n",
      "2023-04-06 22:01.42 [debug    ] Fitting action scaler...       action_scaler=min_max\n",
      "2023-04-06 22:01.42 [debug    ] Building models...\n",
      "2023-04-06 22:01.42 [debug    ] Models have been built.\n",
      "2023-04-06 22:01.42 [info     ] Parameters are saved to d3rlpy_logs/FQE_20230406220142/params.json params={'action_scaler': {'type': 'min_max', 'params': {'minimum': array([-1., -1., -1.]), 'maximum': array([1., 1., 1.])}}, 'batch_size': 100, 'encoder_factory': {'type': 'vector', 'params': {'hidden_units': [30, 30], 'activation': 'relu', 'use_batch_norm': False, 'dropout_rate': None, 'use_dense': False}}, 'gamma': 0.95, 'generated_maxlen': 100000, 'learning_rate': 0.0001, 'n_critics': 1, 'n_frames': 1, 'n_steps': 1, 'optim_factory': {'optim_cls': 'Adam', 'betas': (0.9, 0.999), 'eps': 1e-08, 'weight_decay': 0, 'amsgrad': False}, 'q_func_factory': {'type': 'mean', 'params': {'share_encoder': False}}, 'real_ratio': 1.0, 'reward_scaler': None, 'scaler': {'type': 'min_max', 'params': {'maximum': array([0.96213502, 0.97219382, 0.99475278, 0.96441137, 0.99177114]), 'minimum': array([-0.95500795, -0.95160601, -0.98946053, -0.98081484, -0.9915544 ])}}, 'target_update_interval': 100, 'use_gpu': None, 'algorithm': 'FQE', 'observation_shape': (5,), 'action_size': 3}\n"
     ]
    },
    {
     "data": {
      "application/vnd.jupyter.widget-view+json": {
       "model_id": "887bcdaf5c9b4a22b671af4ca73d0fa8",
       "version_major": 2,
       "version_minor": 0
      },
      "text/plain": [
       "Epoch 1/1:   0%|          | 0/80 [00:00<?, ?it/s]"
      ]
     },
     "metadata": {},
     "output_type": "display_data"
    },
    {
     "name": "stdout",
     "output_type": "stream",
     "text": [
      "2023-04-06 22:01.42 [info     ] FQE_20230406220142: epoch=1 step=80 epoch=1 metrics={'time_sample_batch': 9.988844394683837e-05, 'time_algorithm_update': 0.0013309776782989501, 'loss': 0.12556323017925025, 'time_step': 0.0014728575944900513} step=80\n",
      "2023-04-06 22:01.42 [info     ] Model parameters are saved to d3rlpy_logs/FQE_20230406220142/model_80.pt\n",
      "2023-04-06 22:01.42 [debug    ] RoundIterator is selected.\n",
      "2023-04-06 22:01.43 [info     ] Directory is created at d3rlpy_logs/FQE_20230406220143\n",
      "2023-04-06 22:01.43 [debug    ] Fitting scaler...              scaler=min_max\n",
      "2023-04-06 22:01.43 [debug    ] Fitting action scaler...       action_scaler=min_max\n",
      "2023-04-06 22:01.43 [debug    ] Building models...\n",
      "2023-04-06 22:01.43 [debug    ] Models have been built.\n",
      "2023-04-06 22:01.43 [info     ] Parameters are saved to d3rlpy_logs/FQE_20230406220143/params.json params={'action_scaler': {'type': 'min_max', 'params': {'minimum': array([-1., -1., -1.]), 'maximum': array([1., 1., 1.])}}, 'batch_size': 100, 'encoder_factory': {'type': 'vector', 'params': {'hidden_units': [30, 30], 'activation': 'relu', 'use_batch_norm': False, 'dropout_rate': None, 'use_dense': False}}, 'gamma': 0.95, 'generated_maxlen': 100000, 'learning_rate': 0.0001, 'n_critics': 1, 'n_frames': 1, 'n_steps': 1, 'optim_factory': {'optim_cls': 'Adam', 'betas': (0.9, 0.999), 'eps': 1e-08, 'weight_decay': 0, 'amsgrad': False}, 'q_func_factory': {'type': 'mean', 'params': {'share_encoder': False}}, 'real_ratio': 1.0, 'reward_scaler': None, 'scaler': {'type': 'min_max', 'params': {'maximum': array([0.96213502, 0.97219382, 0.99475278, 0.96441137, 0.99177114]), 'minimum': array([-0.95500795, -0.95160601, -0.98946053, -0.98081484, -0.9915544 ])}}, 'target_update_interval': 100, 'use_gpu': None, 'algorithm': 'FQE', 'observation_shape': (5,), 'action_size': 3}\n"
     ]
    },
    {
     "data": {
      "application/vnd.jupyter.widget-view+json": {
       "model_id": "ec05960fac1d4faaa9785714133136c3",
       "version_major": 2,
       "version_minor": 0
      },
      "text/plain": [
       "Epoch 1/1:   0%|          | 0/80 [00:00<?, ?it/s]"
      ]
     },
     "metadata": {},
     "output_type": "display_data"
    },
    {
     "name": "stdout",
     "output_type": "stream",
     "text": [
      "2023-04-06 22:01.43 [info     ] FQE_20230406220143: epoch=1 step=80 epoch=1 metrics={'time_sample_batch': 9.550750255584716e-05, 'time_algorithm_update': 0.0013761967420578003, 'loss': 0.12268885793164372, 'time_step': 0.0015361011028289795} step=80\n",
      "2023-04-06 22:01.43 [info     ] Model parameters are saved to d3rlpy_logs/FQE_20230406220143/model_80.pt\n"
     ]
    },
    {
     "data": {
      "application/vnd.jupyter.widget-view+json": {
       "model_id": "d19de41f6a3d49629d4e0615ed393367",
       "version_major": 2,
       "version_minor": 0
      },
      "text/plain": [
       "[fit MWL model]:   0%|          | 0/2 [00:00<?, ?it/s]"
      ]
     },
     "metadata": {},
     "output_type": "display_data"
    },
    {
     "data": {
      "application/vnd.jupyter.widget-view+json": {
       "model_id": "5d91d4e2336b48adb664426c8abd0ae3",
       "version_major": 2,
       "version_minor": 0
      },
      "text/plain": [
       "[fitting_weight_function]:   0%|          | 0/100 [00:00<?, ?it/s]"
      ]
     },
     "metadata": {},
     "output_type": "display_data"
    },
    {
     "data": {
      "application/vnd.jupyter.widget-view+json": {
       "model_id": "a3cf0f180424465aa570eda0c2bc04ea",
       "version_major": 2,
       "version_minor": 0
      },
      "text/plain": [
       "[fitting_weight_function]:   0%|          | 0/100 [00:00<?, ?it/s]"
      ]
     },
     "metadata": {},
     "output_type": "display_data"
    },
    {
     "data": {
      "application/vnd.jupyter.widget-view+json": {
       "model_id": "4f2b800ecc6943e7846046a4239a7eba",
       "version_major": 2,
       "version_minor": 0
      },
      "text/plain": [
       "[fitting_weight_function]:   0%|          | 0/100 [00:00<?, ?it/s]"
      ]
     },
     "metadata": {},
     "output_type": "display_data"
    },
    {
     "data": {
      "application/vnd.jupyter.widget-view+json": {
       "model_id": "0889635b87cc41039c02c89cba264fcd",
       "version_major": 2,
       "version_minor": 0
      },
      "text/plain": [
       "[fitting_weight_function]:   0%|          | 0/100 [00:00<?, ?it/s]"
      ]
     },
     "metadata": {},
     "output_type": "display_data"
    },
    {
     "data": {
      "application/vnd.jupyter.widget-view+json": {
       "model_id": "f5d2639994934159b2a928b954c9bf9c",
       "version_major": 2,
       "version_minor": 0
      },
      "text/plain": [
       "[collect input data: eval_policy]:   0%|          | 0/2 [00:00<?, ?it/s]"
      ]
     },
     "metadata": {},
     "output_type": "display_data"
    },
    {
     "data": {
      "application/vnd.jupyter.widget-view+json": {
       "model_id": "3c8e1bc22ade4310805e1612d6d9e5d3",
       "version_major": 2,
       "version_minor": 0
      },
      "text/plain": [
       "[calculate on-policy policy value]:   0%|          | 0/100 [00:00<?, ?it/s]"
      ]
     },
     "metadata": {},
     "output_type": "display_data"
    },
    {
     "data": {
      "application/vnd.jupyter.widget-view+json": {
       "model_id": "b72b8e9a414c4bdc91c1dfd17bebec30",
       "version_major": 2,
       "version_minor": 0
      },
      "text/plain": [
       "[calculate on-policy policy value]:   0%|          | 0/100 [00:00<?, ?it/s]"
      ]
     },
     "metadata": {},
     "output_type": "display_data"
    },
    {
     "data": {
      "application/vnd.jupyter.widget-view+json": {
       "model_id": "1041dfd82cea480684eb8a52862e5ee1",
       "version_major": 2,
       "version_minor": 0
      },
      "text/plain": [
       "[obtain_trajectories]:   0%|          | 0/800 [00:00<?, ?it/s]"
      ]
     },
     "metadata": {},
     "output_type": "display_data"
    },
    {
     "data": {
      "application/vnd.jupyter.widget-view+json": {
       "model_id": "f992fd580cbb4f79a4f7b8cfd3dbda57",
       "version_major": 2,
       "version_minor": 0
      },
      "text/plain": [
       "[obtain_trajectories]:   0%|          | 0/800 [00:00<?, ?it/s]"
      ]
     },
     "metadata": {},
     "output_type": "display_data"
    },
    {
     "name": "stdout",
     "output_type": "stream",
     "text": [
      "2023-04-06 22:02.41 [debug    ] RandomIterator is selected.\n",
      "2023-04-06 22:02.41 [info     ] Directory is created at d3rlpy_logs/CQL_20230406220241\n",
      "2023-04-06 22:02.41 [debug    ] Fitting action scaler...       action_scaler=min_max\n",
      "2023-04-06 22:02.41 [debug    ] Building models...\n",
      "2023-04-06 22:02.41 [debug    ] Models have been built.\n",
      "2023-04-06 22:02.41 [info     ] Parameters are saved to d3rlpy_logs/CQL_20230406220241/params.json params={'action_scaler': {'type': 'min_max', 'params': {'minimum': array([-1., -1., -1.]), 'maximum': array([1., 1., 1.])}}, 'actor_encoder_factory': {'type': 'vector', 'params': {'hidden_units': [30, 30], 'activation': 'relu', 'use_batch_norm': False, 'dropout_rate': None, 'use_dense': False}}, 'actor_learning_rate': 0.0001, 'actor_optim_factory': {'optim_cls': 'Adam', 'betas': (0.9, 0.999), 'eps': 1e-08, 'weight_decay': 0, 'amsgrad': False}, 'alpha_learning_rate': 0.0001, 'alpha_optim_factory': {'optim_cls': 'Adam', 'betas': (0.9, 0.999), 'eps': 1e-08, 'weight_decay': 0, 'amsgrad': False}, 'alpha_threshold': 10.0, 'batch_size': 256, 'conservative_weight': 5.0, 'critic_encoder_factory': {'type': 'vector', 'params': {'hidden_units': [30, 30], 'activation': 'relu', 'use_batch_norm': False, 'dropout_rate': None, 'use_dense': False}}, 'critic_learning_rate': 0.0003, 'critic_optim_factory': {'optim_cls': 'Adam', 'betas': (0.9, 0.999), 'eps': 1e-08, 'weight_decay': 0, 'amsgrad': False}, 'gamma': 0.99, 'generated_maxlen': 100000, 'initial_alpha': 1.0, 'initial_temperature': 1.0, 'n_action_samples': 10, 'n_critics': 2, 'n_frames': 1, 'n_steps': 1, 'q_func_factory': {'type': 'mean', 'params': {'share_encoder': False}}, 'real_ratio': 1.0, 'reward_scaler': None, 'scaler': None, 'soft_q_backup': False, 'tau': 0.005, 'temp_learning_rate': 0.0001, 'temp_optim_factory': {'optim_cls': 'Adam', 'betas': (0.9, 0.999), 'eps': 1e-08, 'weight_decay': 0, 'amsgrad': False}, 'use_gpu': None, 'algorithm': 'CQL', 'observation_shape': (5,), 'action_size': 3}\n"
     ]
    },
    {
     "data": {
      "application/vnd.jupyter.widget-view+json": {
       "model_id": "0387ec270e264814b8e0e38cbda0e14c",
       "version_major": 2,
       "version_minor": 0
      },
      "text/plain": [
       "Epoch 1/1:   0%|          | 0/10000 [00:00<?, ?it/s]"
      ]
     },
     "metadata": {},
     "output_type": "display_data"
    },
    {
     "name": "stdout",
     "output_type": "stream",
     "text": [
      "2023-04-06 22:06.37 [info     ] CQL_20230406220241: epoch=1 step=10000 epoch=1 metrics={'time_sample_batch': 0.0007063487291336059, 'time_algorithm_update': 0.022228587532043455, 'temp_loss': 3.2154265807151794, 'temp': 0.6501848711878061, 'alpha_loss': -30.510553075790405, 'alpha': 1.795671323299408, 'critic_loss': 32.074363492774964, 'actor_loss': -3.6622971661806107, 'time_step': 0.023422520518302917} step=10000\n",
      "2023-04-06 22:06.37 [info     ] Model parameters are saved to d3rlpy_logs/CQL_20230406220241/model_10000.pt\n"
     ]
    },
    {
     "data": {
      "application/vnd.jupyter.widget-view+json": {
       "model_id": "22b3c3d6f2e240aa9900e5dbd697a44b",
       "version_major": 2,
       "version_minor": 0
      },
      "text/plain": [
       "[fit FQE model]:   0%|          | 0/2 [00:00<?, ?it/s]"
      ]
     },
     "metadata": {},
     "output_type": "display_data"
    },
    {
     "name": "stdout",
     "output_type": "stream",
     "text": [
      "2023-04-06 22:06.37 [debug    ] RoundIterator is selected.\n",
      "2023-04-06 22:06.37 [info     ] Directory is created at d3rlpy_logs/FQE_20230406220637\n",
      "2023-04-06 22:06.37 [debug    ] Fitting scaler...              scaler=min_max\n",
      "2023-04-06 22:06.37 [debug    ] Fitting action scaler...       action_scaler=min_max\n",
      "2023-04-06 22:06.37 [debug    ] Building models...\n",
      "2023-04-06 22:06.37 [debug    ] Models have been built.\n",
      "2023-04-06 22:06.37 [info     ] Parameters are saved to d3rlpy_logs/FQE_20230406220637/params.json params={'action_scaler': {'type': 'min_max', 'params': {'minimum': array([-1., -1., -1.]), 'maximum': array([1., 1., 1.])}}, 'batch_size': 100, 'encoder_factory': {'type': 'vector', 'params': {'hidden_units': [30, 30], 'activation': 'relu', 'use_batch_norm': False, 'dropout_rate': None, 'use_dense': False}}, 'gamma': 0.95, 'generated_maxlen': 100000, 'learning_rate': 0.0001, 'n_critics': 1, 'n_frames': 1, 'n_steps': 1, 'optim_factory': {'optim_cls': 'Adam', 'betas': (0.9, 0.999), 'eps': 1e-08, 'weight_decay': 0, 'amsgrad': False}, 'q_func_factory': {'type': 'mean', 'params': {'share_encoder': False}}, 'real_ratio': 1.0, 'reward_scaler': None, 'scaler': {'type': 'min_max', 'params': {'maximum': array([0.93780122, 0.97696162, 0.99643191, 0.97010927, 0.98412868]), 'minimum': array([-0.96600255, -0.97459963, -0.99389225, -0.9761736 , -0.97727763])}}, 'target_update_interval': 100, 'use_gpu': None, 'algorithm': 'FQE', 'observation_shape': (5,), 'action_size': 3}\n"
     ]
    },
    {
     "data": {
      "application/vnd.jupyter.widget-view+json": {
       "model_id": "1926f13118e54f89ae30ac17470ffc3a",
       "version_major": 2,
       "version_minor": 0
      },
      "text/plain": [
       "Epoch 1/1:   0%|          | 0/80 [00:00<?, ?it/s]"
      ]
     },
     "metadata": {},
     "output_type": "display_data"
    },
    {
     "name": "stdout",
     "output_type": "stream",
     "text": [
      "2023-04-06 22:06.37 [info     ] FQE_20230406220637: epoch=1 step=80 epoch=1 metrics={'time_sample_batch': 0.00012035667896270752, 'time_algorithm_update': 0.0016091495752334594, 'loss': 0.12396684754639864, 'time_step': 0.0018019795417785645} step=80\n",
      "2023-04-06 22:06.37 [info     ] Model parameters are saved to d3rlpy_logs/FQE_20230406220637/model_80.pt\n",
      "2023-04-06 22:06.37 [debug    ] RoundIterator is selected.\n",
      "2023-04-06 22:06.38 [info     ] Directory is created at d3rlpy_logs/FQE_20230406220638\n",
      "2023-04-06 22:06.38 [debug    ] Fitting scaler...              scaler=min_max\n",
      "2023-04-06 22:06.38 [debug    ] Fitting action scaler...       action_scaler=min_max\n",
      "2023-04-06 22:06.38 [debug    ] Building models...\n",
      "2023-04-06 22:06.38 [debug    ] Models have been built.\n",
      "2023-04-06 22:06.38 [info     ] Parameters are saved to d3rlpy_logs/FQE_20230406220638/params.json params={'action_scaler': {'type': 'min_max', 'params': {'minimum': array([-1., -1., -1.]), 'maximum': array([1., 1., 1.])}}, 'batch_size': 100, 'encoder_factory': {'type': 'vector', 'params': {'hidden_units': [30, 30], 'activation': 'relu', 'use_batch_norm': False, 'dropout_rate': None, 'use_dense': False}}, 'gamma': 0.95, 'generated_maxlen': 100000, 'learning_rate': 0.0001, 'n_critics': 1, 'n_frames': 1, 'n_steps': 1, 'optim_factory': {'optim_cls': 'Adam', 'betas': (0.9, 0.999), 'eps': 1e-08, 'weight_decay': 0, 'amsgrad': False}, 'q_func_factory': {'type': 'mean', 'params': {'share_encoder': False}}, 'real_ratio': 1.0, 'reward_scaler': None, 'scaler': {'type': 'min_max', 'params': {'maximum': array([0.93780122, 0.97696162, 0.99643191, 0.97010927, 0.98412868]), 'minimum': array([-0.96600255, -0.97459963, -0.99389225, -0.9761736 , -0.97727763])}}, 'target_update_interval': 100, 'use_gpu': None, 'algorithm': 'FQE', 'observation_shape': (5,), 'action_size': 3}\n"
     ]
    },
    {
     "data": {
      "application/vnd.jupyter.widget-view+json": {
       "model_id": "81906aabc184401da9d6a35f3d52700b",
       "version_major": 2,
       "version_minor": 0
      },
      "text/plain": [
       "Epoch 1/1:   0%|          | 0/80 [00:00<?, ?it/s]"
      ]
     },
     "metadata": {},
     "output_type": "display_data"
    },
    {
     "name": "stdout",
     "output_type": "stream",
     "text": [
      "2023-04-06 22:06.38 [info     ] FQE_20230406220638: epoch=1 step=80 epoch=1 metrics={'time_sample_batch': 0.00011623501777648925, 'time_algorithm_update': 0.0015712112188339233, 'loss': 0.1090709120966494, 'time_step': 0.0017558038234710693} step=80\n",
      "2023-04-06 22:06.38 [info     ] Model parameters are saved to d3rlpy_logs/FQE_20230406220638/model_80.pt\n"
     ]
    },
    {
     "data": {
      "application/vnd.jupyter.widget-view+json": {
       "model_id": "dea50dcc5b0a47eb811612e69cbac347",
       "version_major": 2,
       "version_minor": 0
      },
      "text/plain": [
       "[fit MWL model]:   0%|          | 0/2 [00:00<?, ?it/s]"
      ]
     },
     "metadata": {},
     "output_type": "display_data"
    },
    {
     "data": {
      "application/vnd.jupyter.widget-view+json": {
       "model_id": "7a6488e1a7614f37b7619715f1bc5ffe",
       "version_major": 2,
       "version_minor": 0
      },
      "text/plain": [
       "[fitting_weight_function]:   0%|          | 0/100 [00:00<?, ?it/s]"
      ]
     },
     "metadata": {},
     "output_type": "display_data"
    },
    {
     "data": {
      "application/vnd.jupyter.widget-view+json": {
       "model_id": "00f354e415594aaeae8859ffe331268c",
       "version_major": 2,
       "version_minor": 0
      },
      "text/plain": [
       "[fitting_weight_function]:   0%|          | 0/100 [00:00<?, ?it/s]"
      ]
     },
     "metadata": {},
     "output_type": "display_data"
    },
    {
     "data": {
      "application/vnd.jupyter.widget-view+json": {
       "model_id": "060fca1103fa46ab80dbc8ea0c7d0b66",
       "version_major": 2,
       "version_minor": 0
      },
      "text/plain": [
       "[fitting_weight_function]:   0%|          | 0/100 [00:00<?, ?it/s]"
      ]
     },
     "metadata": {},
     "output_type": "display_data"
    },
    {
     "data": {
      "application/vnd.jupyter.widget-view+json": {
       "model_id": "28984744b24e4c1eb7c8e2cc82c35b80",
       "version_major": 2,
       "version_minor": 0
      },
      "text/plain": [
       "[fitting_weight_function]:   0%|          | 0/100 [00:00<?, ?it/s]"
      ]
     },
     "metadata": {},
     "output_type": "display_data"
    },
    {
     "data": {
      "application/vnd.jupyter.widget-view+json": {
       "model_id": "3c79a8185e064b0e8b05716787d5762f",
       "version_major": 2,
       "version_minor": 0
      },
      "text/plain": [
       "[collect input data: eval_policy]:   0%|          | 0/2 [00:00<?, ?it/s]"
      ]
     },
     "metadata": {},
     "output_type": "display_data"
    },
    {
     "data": {
      "application/vnd.jupyter.widget-view+json": {
       "model_id": "12f526b25d514f3684889a2e385041c1",
       "version_major": 2,
       "version_minor": 0
      },
      "text/plain": [
       "[calculate on-policy policy value]:   0%|          | 0/100 [00:00<?, ?it/s]"
      ]
     },
     "metadata": {},
     "output_type": "display_data"
    },
    {
     "data": {
      "application/vnd.jupyter.widget-view+json": {
       "model_id": "9bb4fb99d84245c8927ade0a1faa1c9f",
       "version_major": 2,
       "version_minor": 0
      },
      "text/plain": [
       "[calculate on-policy policy value]:   0%|          | 0/100 [00:00<?, ?it/s]"
      ]
     },
     "metadata": {},
     "output_type": "display_data"
    },
    {
     "data": {
      "application/vnd.jupyter.widget-view+json": {
       "model_id": "7149084d47ac413b96c12db65bef016e",
       "version_major": 2,
       "version_minor": 0
      },
      "text/plain": [
       "[obtain_trajectories]:   0%|          | 0/800 [00:00<?, ?it/s]"
      ]
     },
     "metadata": {},
     "output_type": "display_data"
    },
    {
     "data": {
      "application/vnd.jupyter.widget-view+json": {
       "model_id": "c03c3e339f2845ab9a7f8bc49022ef60",
       "version_major": 2,
       "version_minor": 0
      },
      "text/plain": [
       "[obtain_trajectories]:   0%|          | 0/800 [00:00<?, ?it/s]"
      ]
     },
     "metadata": {},
     "output_type": "display_data"
    },
    {
     "name": "stdout",
     "output_type": "stream",
     "text": [
      "2023-04-06 22:07.45 [debug    ] RandomIterator is selected.\n",
      "2023-04-06 22:07.45 [info     ] Directory is created at d3rlpy_logs/CQL_20230406220745\n",
      "2023-04-06 22:07.45 [debug    ] Fitting action scaler...       action_scaler=min_max\n",
      "2023-04-06 22:07.45 [debug    ] Building models...\n",
      "2023-04-06 22:07.45 [debug    ] Models have been built.\n",
      "2023-04-06 22:07.45 [info     ] Parameters are saved to d3rlpy_logs/CQL_20230406220745/params.json params={'action_scaler': {'type': 'min_max', 'params': {'minimum': array([-1., -1., -1.]), 'maximum': array([1., 1., 1.])}}, 'actor_encoder_factory': {'type': 'vector', 'params': {'hidden_units': [30, 30], 'activation': 'relu', 'use_batch_norm': False, 'dropout_rate': None, 'use_dense': False}}, 'actor_learning_rate': 0.0001, 'actor_optim_factory': {'optim_cls': 'Adam', 'betas': (0.9, 0.999), 'eps': 1e-08, 'weight_decay': 0, 'amsgrad': False}, 'alpha_learning_rate': 0.0001, 'alpha_optim_factory': {'optim_cls': 'Adam', 'betas': (0.9, 0.999), 'eps': 1e-08, 'weight_decay': 0, 'amsgrad': False}, 'alpha_threshold': 10.0, 'batch_size': 256, 'conservative_weight': 5.0, 'critic_encoder_factory': {'type': 'vector', 'params': {'hidden_units': [30, 30], 'activation': 'relu', 'use_batch_norm': False, 'dropout_rate': None, 'use_dense': False}}, 'critic_learning_rate': 0.0003, 'critic_optim_factory': {'optim_cls': 'Adam', 'betas': (0.9, 0.999), 'eps': 1e-08, 'weight_decay': 0, 'amsgrad': False}, 'gamma': 0.99, 'generated_maxlen': 100000, 'initial_alpha': 1.0, 'initial_temperature': 1.0, 'n_action_samples': 10, 'n_critics': 2, 'n_frames': 1, 'n_steps': 1, 'q_func_factory': {'type': 'mean', 'params': {'share_encoder': False}}, 'real_ratio': 1.0, 'reward_scaler': None, 'scaler': None, 'soft_q_backup': False, 'tau': 0.005, 'temp_learning_rate': 0.0001, 'temp_optim_factory': {'optim_cls': 'Adam', 'betas': (0.9, 0.999), 'eps': 1e-08, 'weight_decay': 0, 'amsgrad': False}, 'use_gpu': None, 'algorithm': 'CQL', 'observation_shape': (5,), 'action_size': 3}\n"
     ]
    },
    {
     "data": {
      "application/vnd.jupyter.widget-view+json": {
       "model_id": "43b22dd0b2044d028873e1ef10843400",
       "version_major": 2,
       "version_minor": 0
      },
      "text/plain": [
       "Epoch 1/1:   0%|          | 0/10000 [00:00<?, ?it/s]"
      ]
     },
     "metadata": {},
     "output_type": "display_data"
    },
    {
     "name": "stdout",
     "output_type": "stream",
     "text": [
      "2023-04-06 22:12.04 [info     ] CQL_20230406220745: epoch=1 step=10000 epoch=1 metrics={'time_sample_batch': 0.0007667893886566163, 'time_algorithm_update': 0.024471080255508423, 'temp_loss': 3.2167363651037215, 'temp': 0.6500221777588129, 'alpha_loss': -30.60100718460083, 'alpha': 1.7959472360491753, 'critic_loss': 32.11284860935211, 'actor_loss': -3.532404486322403, 'time_step': 0.025784228110313414} step=10000\n",
      "2023-04-06 22:12.04 [info     ] Model parameters are saved to d3rlpy_logs/CQL_20230406220745/model_10000.pt\n"
     ]
    },
    {
     "data": {
      "application/vnd.jupyter.widget-view+json": {
       "model_id": "6163b22c60844e2596f6929afb16954a",
       "version_major": 2,
       "version_minor": 0
      },
      "text/plain": [
       "[fit FQE model]:   0%|          | 0/2 [00:00<?, ?it/s]"
      ]
     },
     "metadata": {},
     "output_type": "display_data"
    },
    {
     "name": "stdout",
     "output_type": "stream",
     "text": [
      "2023-04-06 22:12.04 [debug    ] RoundIterator is selected.\n",
      "2023-04-06 22:12.04 [info     ] Directory is created at d3rlpy_logs/FQE_20230406221204\n",
      "2023-04-06 22:12.04 [debug    ] Fitting scaler...              scaler=min_max\n",
      "2023-04-06 22:12.04 [debug    ] Fitting action scaler...       action_scaler=min_max\n",
      "2023-04-06 22:12.04 [debug    ] Building models...\n",
      "2023-04-06 22:12.04 [debug    ] Models have been built.\n",
      "2023-04-06 22:12.04 [info     ] Parameters are saved to d3rlpy_logs/FQE_20230406221204/params.json params={'action_scaler': {'type': 'min_max', 'params': {'minimum': array([-1., -1., -1.]), 'maximum': array([1., 1., 1.])}}, 'batch_size': 100, 'encoder_factory': {'type': 'vector', 'params': {'hidden_units': [30, 30], 'activation': 'relu', 'use_batch_norm': False, 'dropout_rate': None, 'use_dense': False}}, 'gamma': 0.95, 'generated_maxlen': 100000, 'learning_rate': 0.0001, 'n_critics': 1, 'n_frames': 1, 'n_steps': 1, 'optim_factory': {'optim_cls': 'Adam', 'betas': (0.9, 0.999), 'eps': 1e-08, 'weight_decay': 0, 'amsgrad': False}, 'q_func_factory': {'type': 'mean', 'params': {'share_encoder': False}}, 'real_ratio': 1.0, 'reward_scaler': None, 'scaler': {'type': 'min_max', 'params': {'maximum': array([0.95102135, 0.98440706, 0.99940566, 0.96891838, 0.99401903]), 'minimum': array([-0.94761828, -0.97336701, -0.99361058, -0.9986958 , -0.98439791])}}, 'target_update_interval': 100, 'use_gpu': None, 'algorithm': 'FQE', 'observation_shape': (5,), 'action_size': 3}\n"
     ]
    },
    {
     "data": {
      "application/vnd.jupyter.widget-view+json": {
       "model_id": "f5ed55900cee4e25bfb511201368007e",
       "version_major": 2,
       "version_minor": 0
      },
      "text/plain": [
       "Epoch 1/1:   0%|          | 0/80 [00:00<?, ?it/s]"
      ]
     },
     "metadata": {},
     "output_type": "display_data"
    },
    {
     "name": "stdout",
     "output_type": "stream",
     "text": [
      "2023-04-06 22:12.05 [info     ] FQE_20230406221204: epoch=1 step=80 epoch=1 metrics={'time_sample_batch': 0.0001300126314163208, 'time_algorithm_update': 0.0014741599559783935, 'loss': 0.10636883862316608, 'time_step': 0.001663067936897278} step=80\n",
      "2023-04-06 22:12.05 [info     ] Model parameters are saved to d3rlpy_logs/FQE_20230406221204/model_80.pt\n",
      "2023-04-06 22:12.05 [debug    ] RoundIterator is selected.\n",
      "2023-04-06 22:12.05 [info     ] Directory is created at d3rlpy_logs/FQE_20230406221205\n",
      "2023-04-06 22:12.05 [debug    ] Fitting scaler...              scaler=min_max\n",
      "2023-04-06 22:12.05 [debug    ] Fitting action scaler...       action_scaler=min_max\n",
      "2023-04-06 22:12.05 [debug    ] Building models...\n",
      "2023-04-06 22:12.05 [debug    ] Models have been built.\n",
      "2023-04-06 22:12.05 [info     ] Parameters are saved to d3rlpy_logs/FQE_20230406221205/params.json params={'action_scaler': {'type': 'min_max', 'params': {'minimum': array([-1., -1., -1.]), 'maximum': array([1., 1., 1.])}}, 'batch_size': 100, 'encoder_factory': {'type': 'vector', 'params': {'hidden_units': [30, 30], 'activation': 'relu', 'use_batch_norm': False, 'dropout_rate': None, 'use_dense': False}}, 'gamma': 0.95, 'generated_maxlen': 100000, 'learning_rate': 0.0001, 'n_critics': 1, 'n_frames': 1, 'n_steps': 1, 'optim_factory': {'optim_cls': 'Adam', 'betas': (0.9, 0.999), 'eps': 1e-08, 'weight_decay': 0, 'amsgrad': False}, 'q_func_factory': {'type': 'mean', 'params': {'share_encoder': False}}, 'real_ratio': 1.0, 'reward_scaler': None, 'scaler': {'type': 'min_max', 'params': {'maximum': array([0.95102135, 0.98440706, 0.99940566, 0.96891838, 0.99401903]), 'minimum': array([-0.94761828, -0.97336701, -0.99361058, -0.9986958 , -0.98439791])}}, 'target_update_interval': 100, 'use_gpu': None, 'algorithm': 'FQE', 'observation_shape': (5,), 'action_size': 3}\n"
     ]
    },
    {
     "data": {
      "application/vnd.jupyter.widget-view+json": {
       "model_id": "fdf5ed78544144b4905f7bd232046004",
       "version_major": 2,
       "version_minor": 0
      },
      "text/plain": [
       "Epoch 1/1:   0%|          | 0/80 [00:00<?, ?it/s]"
      ]
     },
     "metadata": {},
     "output_type": "display_data"
    },
    {
     "name": "stdout",
     "output_type": "stream",
     "text": [
      "2023-04-06 22:12.05 [info     ] FQE_20230406221205: epoch=1 step=80 epoch=1 metrics={'time_sample_batch': 0.00012653172016143798, 'time_algorithm_update': 0.001573166251182556, 'loss': 0.11933105131611228, 'time_step': 0.0017723947763442992} step=80\n",
      "2023-04-06 22:12.05 [info     ] Model parameters are saved to d3rlpy_logs/FQE_20230406221205/model_80.pt\n"
     ]
    },
    {
     "data": {
      "application/vnd.jupyter.widget-view+json": {
       "model_id": "0feef62afb73470684db770a592e053d",
       "version_major": 2,
       "version_minor": 0
      },
      "text/plain": [
       "[fit MWL model]:   0%|          | 0/2 [00:00<?, ?it/s]"
      ]
     },
     "metadata": {},
     "output_type": "display_data"
    },
    {
     "data": {
      "application/vnd.jupyter.widget-view+json": {
       "model_id": "a043dbfab93542529f4df048b885205e",
       "version_major": 2,
       "version_minor": 0
      },
      "text/plain": [
       "[fitting_weight_function]:   0%|          | 0/100 [00:00<?, ?it/s]"
      ]
     },
     "metadata": {},
     "output_type": "display_data"
    },
    {
     "data": {
      "application/vnd.jupyter.widget-view+json": {
       "model_id": "25c5b9c8bb834ee7ad2326adb278e403",
       "version_major": 2,
       "version_minor": 0
      },
      "text/plain": [
       "[fitting_weight_function]:   0%|          | 0/100 [00:00<?, ?it/s]"
      ]
     },
     "metadata": {},
     "output_type": "display_data"
    },
    {
     "data": {
      "application/vnd.jupyter.widget-view+json": {
       "model_id": "07e314effc6c40c597e25045f0d7b85e",
       "version_major": 2,
       "version_minor": 0
      },
      "text/plain": [
       "[fitting_weight_function]:   0%|          | 0/100 [00:00<?, ?it/s]"
      ]
     },
     "metadata": {},
     "output_type": "display_data"
    },
    {
     "data": {
      "application/vnd.jupyter.widget-view+json": {
       "model_id": "f0a63bc8cc1d4dffb3ef00252f587f97",
       "version_major": 2,
       "version_minor": 0
      },
      "text/plain": [
       "[fitting_weight_function]:   0%|          | 0/100 [00:00<?, ?it/s]"
      ]
     },
     "metadata": {},
     "output_type": "display_data"
    },
    {
     "data": {
      "application/vnd.jupyter.widget-view+json": {
       "model_id": "20498525d0d74cd5896060fb600578e6",
       "version_major": 2,
       "version_minor": 0
      },
      "text/plain": [
       "[collect input data: eval_policy]:   0%|          | 0/2 [00:00<?, ?it/s]"
      ]
     },
     "metadata": {},
     "output_type": "display_data"
    },
    {
     "data": {
      "application/vnd.jupyter.widget-view+json": {
       "model_id": "cf17d5727ec14da398f309e69f4000b7",
       "version_major": 2,
       "version_minor": 0
      },
      "text/plain": [
       "[calculate on-policy policy value]:   0%|          | 0/100 [00:00<?, ?it/s]"
      ]
     },
     "metadata": {},
     "output_type": "display_data"
    },
    {
     "data": {
      "application/vnd.jupyter.widget-view+json": {
       "model_id": "c3d343f44486468989104550b8dbfaa9",
       "version_major": 2,
       "version_minor": 0
      },
      "text/plain": [
       "[calculate on-policy policy value]:   0%|          | 0/100 [00:00<?, ?it/s]"
      ]
     },
     "metadata": {},
     "output_type": "display_data"
    },
    {
     "data": {
      "application/vnd.jupyter.widget-view+json": {
       "model_id": "1fe2dd28207e46b7866bbc1102d06ce4",
       "version_major": 2,
       "version_minor": 0
      },
      "text/plain": [
       "[obtain_trajectories]:   0%|          | 0/800 [00:00<?, ?it/s]"
      ]
     },
     "metadata": {},
     "output_type": "display_data"
    },
    {
     "data": {
      "application/vnd.jupyter.widget-view+json": {
       "model_id": "1c7f0d7fbab2413695f7ab05c09652a5",
       "version_major": 2,
       "version_minor": 0
      },
      "text/plain": [
       "[obtain_trajectories]:   0%|          | 0/800 [00:00<?, ?it/s]"
      ]
     },
     "metadata": {},
     "output_type": "display_data"
    },
    {
     "name": "stdout",
     "output_type": "stream",
     "text": [
      "2023-04-06 22:13.11 [debug    ] RandomIterator is selected.\n",
      "2023-04-06 22:13.11 [info     ] Directory is created at d3rlpy_logs/CQL_20230406221311\n",
      "2023-04-06 22:13.11 [debug    ] Fitting action scaler...       action_scaler=min_max\n",
      "2023-04-06 22:13.11 [debug    ] Building models...\n",
      "2023-04-06 22:13.11 [debug    ] Models have been built.\n",
      "2023-04-06 22:13.11 [info     ] Parameters are saved to d3rlpy_logs/CQL_20230406221311/params.json params={'action_scaler': {'type': 'min_max', 'params': {'minimum': array([-1., -1., -1.]), 'maximum': array([1., 1., 1.])}}, 'actor_encoder_factory': {'type': 'vector', 'params': {'hidden_units': [30, 30], 'activation': 'relu', 'use_batch_norm': False, 'dropout_rate': None, 'use_dense': False}}, 'actor_learning_rate': 0.0001, 'actor_optim_factory': {'optim_cls': 'Adam', 'betas': (0.9, 0.999), 'eps': 1e-08, 'weight_decay': 0, 'amsgrad': False}, 'alpha_learning_rate': 0.0001, 'alpha_optim_factory': {'optim_cls': 'Adam', 'betas': (0.9, 0.999), 'eps': 1e-08, 'weight_decay': 0, 'amsgrad': False}, 'alpha_threshold': 10.0, 'batch_size': 256, 'conservative_weight': 5.0, 'critic_encoder_factory': {'type': 'vector', 'params': {'hidden_units': [30, 30], 'activation': 'relu', 'use_batch_norm': False, 'dropout_rate': None, 'use_dense': False}}, 'critic_learning_rate': 0.0003, 'critic_optim_factory': {'optim_cls': 'Adam', 'betas': (0.9, 0.999), 'eps': 1e-08, 'weight_decay': 0, 'amsgrad': False}, 'gamma': 0.99, 'generated_maxlen': 100000, 'initial_alpha': 1.0, 'initial_temperature': 1.0, 'n_action_samples': 10, 'n_critics': 2, 'n_frames': 1, 'n_steps': 1, 'q_func_factory': {'type': 'mean', 'params': {'share_encoder': False}}, 'real_ratio': 1.0, 'reward_scaler': None, 'scaler': None, 'soft_q_backup': False, 'tau': 0.005, 'temp_learning_rate': 0.0001, 'temp_optim_factory': {'optim_cls': 'Adam', 'betas': (0.9, 0.999), 'eps': 1e-08, 'weight_decay': 0, 'amsgrad': False}, 'use_gpu': None, 'algorithm': 'CQL', 'observation_shape': (5,), 'action_size': 3}\n"
     ]
    },
    {
     "data": {
      "application/vnd.jupyter.widget-view+json": {
       "model_id": "2802c5c87de14292a19a0885c4d5f406",
       "version_major": 2,
       "version_minor": 0
      },
      "text/plain": [
       "Epoch 1/1:   0%|          | 0/10000 [00:00<?, ?it/s]"
      ]
     },
     "metadata": {},
     "output_type": "display_data"
    },
    {
     "name": "stdout",
     "output_type": "stream",
     "text": [
      "2023-04-06 22:17.30 [info     ] CQL_20230406221311: epoch=1 step=10000 epoch=1 metrics={'time_sample_batch': 0.0007651655912399292, 'time_algorithm_update': 0.024325164556503295, 'temp_loss': 3.2170051901698113, 'temp': 0.6502148152977228, 'alpha_loss': -30.529685636138915, 'alpha': 1.7956077758789062, 'critic_loss': 32.08479147720337, 'actor_loss': -3.5880719694018364, 'time_step': 0.025631337428092957} step=10000\n",
      "2023-04-06 22:17.30 [info     ] Model parameters are saved to d3rlpy_logs/CQL_20230406221311/model_10000.pt\n"
     ]
    },
    {
     "data": {
      "application/vnd.jupyter.widget-view+json": {
       "model_id": "58da6358a524493d89417244fa888ddd",
       "version_major": 2,
       "version_minor": 0
      },
      "text/plain": [
       "[fit FQE model]:   0%|          | 0/2 [00:00<?, ?it/s]"
      ]
     },
     "metadata": {},
     "output_type": "display_data"
    },
    {
     "name": "stdout",
     "output_type": "stream",
     "text": [
      "2023-04-06 22:17.30 [debug    ] RoundIterator is selected.\n",
      "2023-04-06 22:17.30 [info     ] Directory is created at d3rlpy_logs/FQE_20230406221730\n",
      "2023-04-06 22:17.30 [debug    ] Fitting scaler...              scaler=min_max\n",
      "2023-04-06 22:17.30 [debug    ] Fitting action scaler...       action_scaler=min_max\n",
      "2023-04-06 22:17.30 [debug    ] Building models...\n",
      "2023-04-06 22:17.30 [debug    ] Models have been built.\n",
      "2023-04-06 22:17.30 [info     ] Parameters are saved to d3rlpy_logs/FQE_20230406221730/params.json params={'action_scaler': {'type': 'min_max', 'params': {'minimum': array([-1., -1., -1.]), 'maximum': array([1., 1., 1.])}}, 'batch_size': 100, 'encoder_factory': {'type': 'vector', 'params': {'hidden_units': [30, 30], 'activation': 'relu', 'use_batch_norm': False, 'dropout_rate': None, 'use_dense': False}}, 'gamma': 0.95, 'generated_maxlen': 100000, 'learning_rate': 0.0001, 'n_critics': 1, 'n_frames': 1, 'n_steps': 1, 'optim_factory': {'optim_cls': 'Adam', 'betas': (0.9, 0.999), 'eps': 1e-08, 'weight_decay': 0, 'amsgrad': False}, 'q_func_factory': {'type': 'mean', 'params': {'share_encoder': False}}, 'real_ratio': 1.0, 'reward_scaler': None, 'scaler': {'type': 'min_max', 'params': {'maximum': array([0.92549844, 0.98432847, 0.99640877, 0.99535051, 0.98583149]), 'minimum': array([-0.96685104, -0.96866834, -0.99559045, -0.97425195, -0.989645  ])}}, 'target_update_interval': 100, 'use_gpu': None, 'algorithm': 'FQE', 'observation_shape': (5,), 'action_size': 3}\n"
     ]
    },
    {
     "data": {
      "application/vnd.jupyter.widget-view+json": {
       "model_id": "03a2d9e5196a4450965d699ec008b0f1",
       "version_major": 2,
       "version_minor": 0
      },
      "text/plain": [
       "Epoch 1/1:   0%|          | 0/80 [00:00<?, ?it/s]"
      ]
     },
     "metadata": {},
     "output_type": "display_data"
    },
    {
     "name": "stdout",
     "output_type": "stream",
     "text": [
      "2023-04-06 22:17.30 [info     ] FQE_20230406221730: epoch=1 step=80 epoch=1 metrics={'time_sample_batch': 0.00011288523674011231, 'time_algorithm_update': 0.001475033164024353, 'loss': 0.11208547102287411, 'time_step': 0.0016454696655273438} step=80\n",
      "2023-04-06 22:17.30 [info     ] Model parameters are saved to d3rlpy_logs/FQE_20230406221730/model_80.pt\n",
      "2023-04-06 22:17.30 [debug    ] RoundIterator is selected.\n",
      "2023-04-06 22:17.31 [info     ] Directory is created at d3rlpy_logs/FQE_20230406221731\n",
      "2023-04-06 22:17.31 [debug    ] Fitting scaler...              scaler=min_max\n",
      "2023-04-06 22:17.31 [debug    ] Fitting action scaler...       action_scaler=min_max\n",
      "2023-04-06 22:17.31 [debug    ] Building models...\n",
      "2023-04-06 22:17.31 [debug    ] Models have been built.\n",
      "2023-04-06 22:17.31 [info     ] Parameters are saved to d3rlpy_logs/FQE_20230406221731/params.json params={'action_scaler': {'type': 'min_max', 'params': {'minimum': array([-1., -1., -1.]), 'maximum': array([1., 1., 1.])}}, 'batch_size': 100, 'encoder_factory': {'type': 'vector', 'params': {'hidden_units': [30, 30], 'activation': 'relu', 'use_batch_norm': False, 'dropout_rate': None, 'use_dense': False}}, 'gamma': 0.95, 'generated_maxlen': 100000, 'learning_rate': 0.0001, 'n_critics': 1, 'n_frames': 1, 'n_steps': 1, 'optim_factory': {'optim_cls': 'Adam', 'betas': (0.9, 0.999), 'eps': 1e-08, 'weight_decay': 0, 'amsgrad': False}, 'q_func_factory': {'type': 'mean', 'params': {'share_encoder': False}}, 'real_ratio': 1.0, 'reward_scaler': None, 'scaler': {'type': 'min_max', 'params': {'maximum': array([0.92549844, 0.98432847, 0.99640877, 0.99535051, 0.98583149]), 'minimum': array([-0.96685104, -0.96866834, -0.99559045, -0.97425195, -0.989645  ])}}, 'target_update_interval': 100, 'use_gpu': None, 'algorithm': 'FQE', 'observation_shape': (5,), 'action_size': 3}\n"
     ]
    },
    {
     "data": {
      "application/vnd.jupyter.widget-view+json": {
       "model_id": "090ceccb39e847f38e32d0817fef7684",
       "version_major": 2,
       "version_minor": 0
      },
      "text/plain": [
       "Epoch 1/1:   0%|          | 0/80 [00:00<?, ?it/s]"
      ]
     },
     "metadata": {},
     "output_type": "display_data"
    },
    {
     "name": "stdout",
     "output_type": "stream",
     "text": [
      "2023-04-06 22:17.31 [info     ] FQE_20230406221731: epoch=1 step=80 epoch=1 metrics={'time_sample_batch': 0.00011652708053588867, 'time_algorithm_update': 0.0016226410865783692, 'loss': 0.1358157549984753, 'time_step': 0.0018010497093200683} step=80\n",
      "2023-04-06 22:17.31 [info     ] Model parameters are saved to d3rlpy_logs/FQE_20230406221731/model_80.pt\n"
     ]
    },
    {
     "data": {
      "application/vnd.jupyter.widget-view+json": {
       "model_id": "40b28e06871342ab832f11c5e84de694",
       "version_major": 2,
       "version_minor": 0
      },
      "text/plain": [
       "[fit MWL model]:   0%|          | 0/2 [00:00<?, ?it/s]"
      ]
     },
     "metadata": {},
     "output_type": "display_data"
    },
    {
     "data": {
      "application/vnd.jupyter.widget-view+json": {
       "model_id": "0afed510cca54051915ec9167dcc7684",
       "version_major": 2,
       "version_minor": 0
      },
      "text/plain": [
       "[fitting_weight_function]:   0%|          | 0/100 [00:00<?, ?it/s]"
      ]
     },
     "metadata": {},
     "output_type": "display_data"
    },
    {
     "data": {
      "application/vnd.jupyter.widget-view+json": {
       "model_id": "cf85a9a1a065423691e956167acfa337",
       "version_major": 2,
       "version_minor": 0
      },
      "text/plain": [
       "[fitting_weight_function]:   0%|          | 0/100 [00:00<?, ?it/s]"
      ]
     },
     "metadata": {},
     "output_type": "display_data"
    },
    {
     "data": {
      "application/vnd.jupyter.widget-view+json": {
       "model_id": "1724b313e07746f8935ba39b48fbc380",
       "version_major": 2,
       "version_minor": 0
      },
      "text/plain": [
       "[fitting_weight_function]:   0%|          | 0/100 [00:00<?, ?it/s]"
      ]
     },
     "metadata": {},
     "output_type": "display_data"
    },
    {
     "data": {
      "application/vnd.jupyter.widget-view+json": {
       "model_id": "69ef80ddd0394448b94fc75d0037a6d7",
       "version_major": 2,
       "version_minor": 0
      },
      "text/plain": [
       "[fitting_weight_function]:   0%|          | 0/100 [00:00<?, ?it/s]"
      ]
     },
     "metadata": {},
     "output_type": "display_data"
    },
    {
     "data": {
      "application/vnd.jupyter.widget-view+json": {
       "model_id": "ffa78a2ff07946daad17a0feadf16f9c",
       "version_major": 2,
       "version_minor": 0
      },
      "text/plain": [
       "[collect input data: eval_policy]:   0%|          | 0/2 [00:00<?, ?it/s]"
      ]
     },
     "metadata": {},
     "output_type": "display_data"
    },
    {
     "data": {
      "application/vnd.jupyter.widget-view+json": {
       "model_id": "bc8b6aacaa454c42aa8c4f92544393b5",
       "version_major": 2,
       "version_minor": 0
      },
      "text/plain": [
       "[calculate on-policy policy value]:   0%|          | 0/100 [00:00<?, ?it/s]"
      ]
     },
     "metadata": {},
     "output_type": "display_data"
    },
    {
     "data": {
      "application/vnd.jupyter.widget-view+json": {
       "model_id": "a3e73f779ca74dafbb2d3e20cce79119",
       "version_major": 2,
       "version_minor": 0
      },
      "text/plain": [
       "[calculate on-policy policy value]:   0%|          | 0/100 [00:00<?, ?it/s]"
      ]
     },
     "metadata": {},
     "output_type": "display_data"
    },
    {
     "data": {
      "application/vnd.jupyter.widget-view+json": {
       "model_id": "96f8180656774334817b4d21ea618f46",
       "version_major": 2,
       "version_minor": 0
      },
      "text/plain": [
       "[obtain_trajectories]:   0%|          | 0/800 [00:00<?, ?it/s]"
      ]
     },
     "metadata": {},
     "output_type": "display_data"
    },
    {
     "data": {
      "application/vnd.jupyter.widget-view+json": {
       "model_id": "8079b046d1fa4a048e9ed0e0f10c4f47",
       "version_major": 2,
       "version_minor": 0
      },
      "text/plain": [
       "[obtain_trajectories]:   0%|          | 0/800 [00:00<?, ?it/s]"
      ]
     },
     "metadata": {},
     "output_type": "display_data"
    },
    {
     "name": "stdout",
     "output_type": "stream",
     "text": [
      "2023-04-06 22:18.37 [debug    ] RandomIterator is selected.\n",
      "2023-04-06 22:18.37 [info     ] Directory is created at d3rlpy_logs/CQL_20230406221837\n",
      "2023-04-06 22:18.37 [debug    ] Fitting action scaler...       action_scaler=min_max\n",
      "2023-04-06 22:18.37 [debug    ] Building models...\n",
      "2023-04-06 22:18.37 [debug    ] Models have been built.\n",
      "2023-04-06 22:18.37 [info     ] Parameters are saved to d3rlpy_logs/CQL_20230406221837/params.json params={'action_scaler': {'type': 'min_max', 'params': {'minimum': array([-1., -1., -1.]), 'maximum': array([1., 1., 1.])}}, 'actor_encoder_factory': {'type': 'vector', 'params': {'hidden_units': [30, 30], 'activation': 'relu', 'use_batch_norm': False, 'dropout_rate': None, 'use_dense': False}}, 'actor_learning_rate': 0.0001, 'actor_optim_factory': {'optim_cls': 'Adam', 'betas': (0.9, 0.999), 'eps': 1e-08, 'weight_decay': 0, 'amsgrad': False}, 'alpha_learning_rate': 0.0001, 'alpha_optim_factory': {'optim_cls': 'Adam', 'betas': (0.9, 0.999), 'eps': 1e-08, 'weight_decay': 0, 'amsgrad': False}, 'alpha_threshold': 10.0, 'batch_size': 256, 'conservative_weight': 5.0, 'critic_encoder_factory': {'type': 'vector', 'params': {'hidden_units': [30, 30], 'activation': 'relu', 'use_batch_norm': False, 'dropout_rate': None, 'use_dense': False}}, 'critic_learning_rate': 0.0003, 'critic_optim_factory': {'optim_cls': 'Adam', 'betas': (0.9, 0.999), 'eps': 1e-08, 'weight_decay': 0, 'amsgrad': False}, 'gamma': 0.99, 'generated_maxlen': 100000, 'initial_alpha': 1.0, 'initial_temperature': 1.0, 'n_action_samples': 10, 'n_critics': 2, 'n_frames': 1, 'n_steps': 1, 'q_func_factory': {'type': 'mean', 'params': {'share_encoder': False}}, 'real_ratio': 1.0, 'reward_scaler': None, 'scaler': None, 'soft_q_backup': False, 'tau': 0.005, 'temp_learning_rate': 0.0001, 'temp_optim_factory': {'optim_cls': 'Adam', 'betas': (0.9, 0.999), 'eps': 1e-08, 'weight_decay': 0, 'amsgrad': False}, 'use_gpu': None, 'algorithm': 'CQL', 'observation_shape': (5,), 'action_size': 3}\n"
     ]
    },
    {
     "data": {
      "application/vnd.jupyter.widget-view+json": {
       "model_id": "848f4ccb69a14895b71bbd172bf074b7",
       "version_major": 2,
       "version_minor": 0
      },
      "text/plain": [
       "Epoch 1/1:   0%|          | 0/10000 [00:00<?, ?it/s]"
      ]
     },
     "metadata": {},
     "output_type": "display_data"
    },
    {
     "name": "stdout",
     "output_type": "stream",
     "text": [
      "2023-04-06 22:22.52 [info     ] CQL_20230406221837: epoch=1 step=10000 epoch=1 metrics={'time_sample_batch': 0.0007611453056335449, 'time_algorithm_update': 0.024045958161354065, 'temp_loss': 3.220977151978016, 'temp': 0.6500626383543014, 'alpha_loss': -30.638875247955323, 'alpha': 1.7960169879436494, 'critic_loss': 32.11241697158813, 'actor_loss': -3.5623046036362647, 'time_step': 0.025323641228675843} step=10000\n",
      "2023-04-06 22:22.52 [info     ] Model parameters are saved to d3rlpy_logs/CQL_20230406221837/model_10000.pt\n"
     ]
    },
    {
     "data": {
      "application/vnd.jupyter.widget-view+json": {
       "model_id": "e164d7893e9248aa944dd0a002c7b4ff",
       "version_major": 2,
       "version_minor": 0
      },
      "text/plain": [
       "[fit FQE model]:   0%|          | 0/2 [00:00<?, ?it/s]"
      ]
     },
     "metadata": {},
     "output_type": "display_data"
    },
    {
     "name": "stdout",
     "output_type": "stream",
     "text": [
      "2023-04-06 22:22.52 [debug    ] RoundIterator is selected.\n",
      "2023-04-06 22:22.52 [info     ] Directory is created at d3rlpy_logs/FQE_20230406222252\n",
      "2023-04-06 22:22.52 [debug    ] Fitting scaler...              scaler=min_max\n",
      "2023-04-06 22:22.52 [debug    ] Fitting action scaler...       action_scaler=min_max\n",
      "2023-04-06 22:22.52 [debug    ] Building models...\n",
      "2023-04-06 22:22.52 [debug    ] Models have been built.\n",
      "2023-04-06 22:22.52 [info     ] Parameters are saved to d3rlpy_logs/FQE_20230406222252/params.json params={'action_scaler': {'type': 'min_max', 'params': {'minimum': array([-1., -1., -1.]), 'maximum': array([1., 1., 1.])}}, 'batch_size': 100, 'encoder_factory': {'type': 'vector', 'params': {'hidden_units': [30, 30], 'activation': 'relu', 'use_batch_norm': False, 'dropout_rate': None, 'use_dense': False}}, 'gamma': 0.95, 'generated_maxlen': 100000, 'learning_rate': 0.0001, 'n_critics': 1, 'n_frames': 1, 'n_steps': 1, 'optim_factory': {'optim_cls': 'Adam', 'betas': (0.9, 0.999), 'eps': 1e-08, 'weight_decay': 0, 'amsgrad': False}, 'q_func_factory': {'type': 'mean', 'params': {'share_encoder': False}}, 'real_ratio': 1.0, 'reward_scaler': None, 'scaler': {'type': 'min_max', 'params': {'maximum': array([0.97992165, 0.95129504, 0.99804917, 0.97342693, 0.98699087]), 'minimum': array([-0.97286096, -0.97651538, -0.99128567, -0.97820445, -0.97337173])}}, 'target_update_interval': 100, 'use_gpu': None, 'algorithm': 'FQE', 'observation_shape': (5,), 'action_size': 3}\n"
     ]
    },
    {
     "data": {
      "application/vnd.jupyter.widget-view+json": {
       "model_id": "c6246c6e706244d797ea971da2d22f61",
       "version_major": 2,
       "version_minor": 0
      },
      "text/plain": [
       "Epoch 1/1:   0%|          | 0/80 [00:00<?, ?it/s]"
      ]
     },
     "metadata": {},
     "output_type": "display_data"
    },
    {
     "name": "stdout",
     "output_type": "stream",
     "text": [
      "2023-04-06 22:22.52 [info     ] FQE_20230406222252: epoch=1 step=80 epoch=1 metrics={'time_sample_batch': 0.0001242220401763916, 'time_algorithm_update': 0.0015719085931777954, 'loss': 0.11384060261771083, 'time_step': 0.0017619162797927856} step=80\n",
      "2023-04-06 22:22.52 [info     ] Model parameters are saved to d3rlpy_logs/FQE_20230406222252/model_80.pt\n",
      "2023-04-06 22:22.52 [debug    ] RoundIterator is selected.\n",
      "2023-04-06 22:22.53 [info     ] Directory is created at d3rlpy_logs/FQE_20230406222253\n",
      "2023-04-06 22:22.53 [debug    ] Fitting scaler...              scaler=min_max\n",
      "2023-04-06 22:22.53 [debug    ] Fitting action scaler...       action_scaler=min_max\n",
      "2023-04-06 22:22.53 [debug    ] Building models...\n",
      "2023-04-06 22:22.53 [debug    ] Models have been built.\n",
      "2023-04-06 22:22.53 [info     ] Parameters are saved to d3rlpy_logs/FQE_20230406222253/params.json params={'action_scaler': {'type': 'min_max', 'params': {'minimum': array([-1., -1., -1.]), 'maximum': array([1., 1., 1.])}}, 'batch_size': 100, 'encoder_factory': {'type': 'vector', 'params': {'hidden_units': [30, 30], 'activation': 'relu', 'use_batch_norm': False, 'dropout_rate': None, 'use_dense': False}}, 'gamma': 0.95, 'generated_maxlen': 100000, 'learning_rate': 0.0001, 'n_critics': 1, 'n_frames': 1, 'n_steps': 1, 'optim_factory': {'optim_cls': 'Adam', 'betas': (0.9, 0.999), 'eps': 1e-08, 'weight_decay': 0, 'amsgrad': False}, 'q_func_factory': {'type': 'mean', 'params': {'share_encoder': False}}, 'real_ratio': 1.0, 'reward_scaler': None, 'scaler': {'type': 'min_max', 'params': {'maximum': array([0.97992165, 0.95129504, 0.99804917, 0.97342693, 0.98699087]), 'minimum': array([-0.97286096, -0.97651538, -0.99128567, -0.97820445, -0.97337173])}}, 'target_update_interval': 100, 'use_gpu': None, 'algorithm': 'FQE', 'observation_shape': (5,), 'action_size': 3}\n"
     ]
    },
    {
     "data": {
      "application/vnd.jupyter.widget-view+json": {
       "model_id": "e1ef2e1ee74046b69843832a111432f3",
       "version_major": 2,
       "version_minor": 0
      },
      "text/plain": [
       "Epoch 1/1:   0%|          | 0/80 [00:00<?, ?it/s]"
      ]
     },
     "metadata": {},
     "output_type": "display_data"
    },
    {
     "name": "stdout",
     "output_type": "stream",
     "text": [
      "2023-04-06 22:22.54 [info     ] FQE_20230406222253: epoch=1 step=80 epoch=1 metrics={'time_sample_batch': 0.00015273094177246094, 'time_algorithm_update': 0.0025987714529037476, 'loss': 0.11755209527909756, 'time_step': 0.0028558641672134398} step=80\n",
      "2023-04-06 22:22.54 [info     ] Model parameters are saved to d3rlpy_logs/FQE_20230406222253/model_80.pt\n"
     ]
    },
    {
     "data": {
      "application/vnd.jupyter.widget-view+json": {
       "model_id": "1165b0ae08bc4251a9efa845da97245e",
       "version_major": 2,
       "version_minor": 0
      },
      "text/plain": [
       "[fit MWL model]:   0%|          | 0/2 [00:00<?, ?it/s]"
      ]
     },
     "metadata": {},
     "output_type": "display_data"
    },
    {
     "data": {
      "application/vnd.jupyter.widget-view+json": {
       "model_id": "7436ff1b3fa44d6f80c78773a0e72e5f",
       "version_major": 2,
       "version_minor": 0
      },
      "text/plain": [
       "[fitting_weight_function]:   0%|          | 0/100 [00:00<?, ?it/s]"
      ]
     },
     "metadata": {},
     "output_type": "display_data"
    },
    {
     "data": {
      "application/vnd.jupyter.widget-view+json": {
       "model_id": "34f2414a056d4983808d5510923123a0",
       "version_major": 2,
       "version_minor": 0
      },
      "text/plain": [
       "[fitting_weight_function]:   0%|          | 0/100 [00:00<?, ?it/s]"
      ]
     },
     "metadata": {},
     "output_type": "display_data"
    },
    {
     "data": {
      "application/vnd.jupyter.widget-view+json": {
       "model_id": "ad13a26074c64501b26edd11673619e0",
       "version_major": 2,
       "version_minor": 0
      },
      "text/plain": [
       "[fitting_weight_function]:   0%|          | 0/100 [00:00<?, ?it/s]"
      ]
     },
     "metadata": {},
     "output_type": "display_data"
    },
    {
     "data": {
      "application/vnd.jupyter.widget-view+json": {
       "model_id": "1d12003915d64ccf910c029f9468a4da",
       "version_major": 2,
       "version_minor": 0
      },
      "text/plain": [
       "[fitting_weight_function]:   0%|          | 0/100 [00:00<?, ?it/s]"
      ]
     },
     "metadata": {},
     "output_type": "display_data"
    },
    {
     "data": {
      "application/vnd.jupyter.widget-view+json": {
       "model_id": "402f6adcf3124106a08b1d88df907b18",
       "version_major": 2,
       "version_minor": 0
      },
      "text/plain": [
       "[collect input data: eval_policy]:   0%|          | 0/2 [00:00<?, ?it/s]"
      ]
     },
     "metadata": {},
     "output_type": "display_data"
    },
    {
     "data": {
      "application/vnd.jupyter.widget-view+json": {
       "model_id": "263c0000979846e7824af1a9f60f8a1c",
       "version_major": 2,
       "version_minor": 0
      },
      "text/plain": [
       "[calculate on-policy policy value]:   0%|          | 0/100 [00:00<?, ?it/s]"
      ]
     },
     "metadata": {},
     "output_type": "display_data"
    },
    {
     "data": {
      "application/vnd.jupyter.widget-view+json": {
       "model_id": "01e288b69a2240a4941a930f75e519b4",
       "version_major": 2,
       "version_minor": 0
      },
      "text/plain": [
       "[calculate on-policy policy value]:   0%|          | 0/100 [00:00<?, ?it/s]"
      ]
     },
     "metadata": {},
     "output_type": "display_data"
    },
    {
     "data": {
      "application/vnd.jupyter.widget-view+json": {
       "model_id": "7462ec11ba854ea48906eab65c8d00be",
       "version_major": 2,
       "version_minor": 0
      },
      "text/plain": [
       "[obtain_trajectories]:   0%|          | 0/800 [00:00<?, ?it/s]"
      ]
     },
     "metadata": {},
     "output_type": "display_data"
    },
    {
     "data": {
      "application/vnd.jupyter.widget-view+json": {
       "model_id": "6cf4ead9f86749a4b78c462f27b4ab19",
       "version_major": 2,
       "version_minor": 0
      },
      "text/plain": [
       "[obtain_trajectories]:   0%|          | 0/800 [00:00<?, ?it/s]"
      ]
     },
     "metadata": {},
     "output_type": "display_data"
    },
    {
     "name": "stdout",
     "output_type": "stream",
     "text": [
      "2023-04-06 22:23.59 [debug    ] RandomIterator is selected.\n",
      "2023-04-06 22:23.59 [info     ] Directory is created at d3rlpy_logs/CQL_20230406222359\n",
      "2023-04-06 22:23.59 [debug    ] Fitting action scaler...       action_scaler=min_max\n",
      "2023-04-06 22:23.59 [debug    ] Building models...\n",
      "2023-04-06 22:23.59 [debug    ] Models have been built.\n",
      "2023-04-06 22:23.59 [info     ] Parameters are saved to d3rlpy_logs/CQL_20230406222359/params.json params={'action_scaler': {'type': 'min_max', 'params': {'minimum': array([-1., -1., -1.]), 'maximum': array([1., 1., 1.])}}, 'actor_encoder_factory': {'type': 'vector', 'params': {'hidden_units': [30, 30], 'activation': 'relu', 'use_batch_norm': False, 'dropout_rate': None, 'use_dense': False}}, 'actor_learning_rate': 0.0001, 'actor_optim_factory': {'optim_cls': 'Adam', 'betas': (0.9, 0.999), 'eps': 1e-08, 'weight_decay': 0, 'amsgrad': False}, 'alpha_learning_rate': 0.0001, 'alpha_optim_factory': {'optim_cls': 'Adam', 'betas': (0.9, 0.999), 'eps': 1e-08, 'weight_decay': 0, 'amsgrad': False}, 'alpha_threshold': 10.0, 'batch_size': 256, 'conservative_weight': 5.0, 'critic_encoder_factory': {'type': 'vector', 'params': {'hidden_units': [30, 30], 'activation': 'relu', 'use_batch_norm': False, 'dropout_rate': None, 'use_dense': False}}, 'critic_learning_rate': 0.0003, 'critic_optim_factory': {'optim_cls': 'Adam', 'betas': (0.9, 0.999), 'eps': 1e-08, 'weight_decay': 0, 'amsgrad': False}, 'gamma': 0.99, 'generated_maxlen': 100000, 'initial_alpha': 1.0, 'initial_temperature': 1.0, 'n_action_samples': 10, 'n_critics': 2, 'n_frames': 1, 'n_steps': 1, 'q_func_factory': {'type': 'mean', 'params': {'share_encoder': False}}, 'real_ratio': 1.0, 'reward_scaler': None, 'scaler': None, 'soft_q_backup': False, 'tau': 0.005, 'temp_learning_rate': 0.0001, 'temp_optim_factory': {'optim_cls': 'Adam', 'betas': (0.9, 0.999), 'eps': 1e-08, 'weight_decay': 0, 'amsgrad': False}, 'use_gpu': None, 'algorithm': 'CQL', 'observation_shape': (5,), 'action_size': 3}\n"
     ]
    },
    {
     "data": {
      "application/vnd.jupyter.widget-view+json": {
       "model_id": "970bba133a884178bb4fd8a17be1cb76",
       "version_major": 2,
       "version_minor": 0
      },
      "text/plain": [
       "Epoch 1/1:   0%|          | 0/10000 [00:00<?, ?it/s]"
      ]
     },
     "metadata": {},
     "output_type": "display_data"
    },
    {
     "name": "stdout",
     "output_type": "stream",
     "text": [
      "2023-04-06 22:28.40 [info     ] CQL_20230406222359: epoch=1 step=10000 epoch=1 metrics={'time_sample_batch': 0.0008053446531295776, 'time_algorithm_update': 0.02651087431907654, 'temp_loss': 3.2166114867925644, 'temp': 0.6501554720669985, 'alpha_loss': -30.602932852745056, 'alpha': 1.7960863758087158, 'critic_loss': 32.339591968345644, 'actor_loss': -3.817186919546127, 'time_step': 0.02786815826892853} step=10000\n",
      "2023-04-06 22:28.40 [info     ] Model parameters are saved to d3rlpy_logs/CQL_20230406222359/model_10000.pt\n"
     ]
    },
    {
     "data": {
      "application/vnd.jupyter.widget-view+json": {
       "model_id": "2af72341d1b6453d8393197c9c819e3b",
       "version_major": 2,
       "version_minor": 0
      },
      "text/plain": [
       "[fit FQE model]:   0%|          | 0/2 [00:00<?, ?it/s]"
      ]
     },
     "metadata": {},
     "output_type": "display_data"
    },
    {
     "name": "stdout",
     "output_type": "stream",
     "text": [
      "2023-04-06 22:28.40 [debug    ] RoundIterator is selected.\n",
      "2023-04-06 22:28.40 [info     ] Directory is created at d3rlpy_logs/FQE_20230406222840\n",
      "2023-04-06 22:28.40 [debug    ] Fitting scaler...              scaler=min_max\n",
      "2023-04-06 22:28.40 [debug    ] Fitting action scaler...       action_scaler=min_max\n",
      "2023-04-06 22:28.40 [debug    ] Building models...\n",
      "2023-04-06 22:28.40 [debug    ] Models have been built.\n",
      "2023-04-06 22:28.40 [info     ] Parameters are saved to d3rlpy_logs/FQE_20230406222840/params.json params={'action_scaler': {'type': 'min_max', 'params': {'minimum': array([-1., -1., -1.]), 'maximum': array([1., 1., 1.])}}, 'batch_size': 100, 'encoder_factory': {'type': 'vector', 'params': {'hidden_units': [30, 30], 'activation': 'relu', 'use_batch_norm': False, 'dropout_rate': None, 'use_dense': False}}, 'gamma': 0.95, 'generated_maxlen': 100000, 'learning_rate': 0.0001, 'n_critics': 1, 'n_frames': 1, 'n_steps': 1, 'optim_factory': {'optim_cls': 'Adam', 'betas': (0.9, 0.999), 'eps': 1e-08, 'weight_decay': 0, 'amsgrad': False}, 'q_func_factory': {'type': 'mean', 'params': {'share_encoder': False}}, 'real_ratio': 1.0, 'reward_scaler': None, 'scaler': {'type': 'min_max', 'params': {'maximum': array([0.96323906, 0.97532572, 0.99860093, 0.97201997, 0.99440668]), 'minimum': array([-0.95159231, -0.97766823, -0.99577588, -0.96728401, -0.98951074])}}, 'target_update_interval': 100, 'use_gpu': None, 'algorithm': 'FQE', 'observation_shape': (5,), 'action_size': 3}\n"
     ]
    },
    {
     "data": {
      "application/vnd.jupyter.widget-view+json": {
       "model_id": "308ce3b4a287433689da24662ff468ee",
       "version_major": 2,
       "version_minor": 0
      },
      "text/plain": [
       "Epoch 1/1:   0%|          | 0/80 [00:00<?, ?it/s]"
      ]
     },
     "metadata": {},
     "output_type": "display_data"
    },
    {
     "name": "stdout",
     "output_type": "stream",
     "text": [
      "2023-04-06 22:28.40 [info     ] FQE_20230406222840: epoch=1 step=80 epoch=1 metrics={'time_sample_batch': 0.00011645257472991943, 'time_algorithm_update': 0.0015561550855636597, 'loss': 0.1100273129530251, 'time_step': 0.0017168372869491577} step=80\n",
      "2023-04-06 22:28.40 [info     ] Model parameters are saved to d3rlpy_logs/FQE_20230406222840/model_80.pt\n",
      "2023-04-06 22:28.40 [debug    ] RoundIterator is selected.\n",
      "2023-04-06 22:28.41 [info     ] Directory is created at d3rlpy_logs/FQE_20230406222841\n",
      "2023-04-06 22:28.41 [debug    ] Fitting scaler...              scaler=min_max\n",
      "2023-04-06 22:28.41 [debug    ] Fitting action scaler...       action_scaler=min_max\n",
      "2023-04-06 22:28.41 [debug    ] Building models...\n",
      "2023-04-06 22:28.41 [debug    ] Models have been built.\n",
      "2023-04-06 22:28.41 [info     ] Parameters are saved to d3rlpy_logs/FQE_20230406222841/params.json params={'action_scaler': {'type': 'min_max', 'params': {'minimum': array([-1., -1., -1.]), 'maximum': array([1., 1., 1.])}}, 'batch_size': 100, 'encoder_factory': {'type': 'vector', 'params': {'hidden_units': [30, 30], 'activation': 'relu', 'use_batch_norm': False, 'dropout_rate': None, 'use_dense': False}}, 'gamma': 0.95, 'generated_maxlen': 100000, 'learning_rate': 0.0001, 'n_critics': 1, 'n_frames': 1, 'n_steps': 1, 'optim_factory': {'optim_cls': 'Adam', 'betas': (0.9, 0.999), 'eps': 1e-08, 'weight_decay': 0, 'amsgrad': False}, 'q_func_factory': {'type': 'mean', 'params': {'share_encoder': False}}, 'real_ratio': 1.0, 'reward_scaler': None, 'scaler': {'type': 'min_max', 'params': {'maximum': array([0.96323906, 0.97532572, 0.99860093, 0.97201997, 0.99440668]), 'minimum': array([-0.95159231, -0.97766823, -0.99577588, -0.96728401, -0.98951074])}}, 'target_update_interval': 100, 'use_gpu': None, 'algorithm': 'FQE', 'observation_shape': (5,), 'action_size': 3}\n"
     ]
    },
    {
     "data": {
      "application/vnd.jupyter.widget-view+json": {
       "model_id": "c43c6f88817f4076ad255fbd97ffa748",
       "version_major": 2,
       "version_minor": 0
      },
      "text/plain": [
       "Epoch 1/1:   0%|          | 0/80 [00:00<?, ?it/s]"
      ]
     },
     "metadata": {},
     "output_type": "display_data"
    },
    {
     "name": "stdout",
     "output_type": "stream",
     "text": [
      "2023-04-06 22:28.42 [info     ] FQE_20230406222841: epoch=1 step=80 epoch=1 metrics={'time_sample_batch': 0.00010528266429901123, 'time_algorithm_update': 0.0013943135738372803, 'loss': 0.12376443538814783, 'time_step': 0.0015566080808639526} step=80\n",
      "2023-04-06 22:28.42 [info     ] Model parameters are saved to d3rlpy_logs/FQE_20230406222841/model_80.pt\n"
     ]
    },
    {
     "data": {
      "application/vnd.jupyter.widget-view+json": {
       "model_id": "459308ad7d384b23a5263dd427ed3293",
       "version_major": 2,
       "version_minor": 0
      },
      "text/plain": [
       "[fit MWL model]:   0%|          | 0/2 [00:00<?, ?it/s]"
      ]
     },
     "metadata": {},
     "output_type": "display_data"
    },
    {
     "data": {
      "application/vnd.jupyter.widget-view+json": {
       "model_id": "6d2625b19ca44f01a415b75a76f65e51",
       "version_major": 2,
       "version_minor": 0
      },
      "text/plain": [
       "[fitting_weight_function]:   0%|          | 0/100 [00:00<?, ?it/s]"
      ]
     },
     "metadata": {},
     "output_type": "display_data"
    },
    {
     "data": {
      "application/vnd.jupyter.widget-view+json": {
       "model_id": "560ffb7fc08b49ff9adacc1dbbc8b863",
       "version_major": 2,
       "version_minor": 0
      },
      "text/plain": [
       "[fitting_weight_function]:   0%|          | 0/100 [00:00<?, ?it/s]"
      ]
     },
     "metadata": {},
     "output_type": "display_data"
    },
    {
     "data": {
      "application/vnd.jupyter.widget-view+json": {
       "model_id": "d63b8e4318b34007b31163934f93ae35",
       "version_major": 2,
       "version_minor": 0
      },
      "text/plain": [
       "[fitting_weight_function]:   0%|          | 0/100 [00:00<?, ?it/s]"
      ]
     },
     "metadata": {},
     "output_type": "display_data"
    },
    {
     "data": {
      "application/vnd.jupyter.widget-view+json": {
       "model_id": "8f2281d238e94926bbb75c38ae23906b",
       "version_major": 2,
       "version_minor": 0
      },
      "text/plain": [
       "[fitting_weight_function]:   0%|          | 0/100 [00:00<?, ?it/s]"
      ]
     },
     "metadata": {},
     "output_type": "display_data"
    },
    {
     "data": {
      "application/vnd.jupyter.widget-view+json": {
       "model_id": "b5b4a8291737443299871409b34fa8ba",
       "version_major": 2,
       "version_minor": 0
      },
      "text/plain": [
       "[collect input data: eval_policy]:   0%|          | 0/2 [00:00<?, ?it/s]"
      ]
     },
     "metadata": {},
     "output_type": "display_data"
    },
    {
     "data": {
      "application/vnd.jupyter.widget-view+json": {
       "model_id": "f50ec55391b7408f89e63678506a2421",
       "version_major": 2,
       "version_minor": 0
      },
      "text/plain": [
       "[calculate on-policy policy value]:   0%|          | 0/100 [00:00<?, ?it/s]"
      ]
     },
     "metadata": {},
     "output_type": "display_data"
    },
    {
     "data": {
      "application/vnd.jupyter.widget-view+json": {
       "model_id": "d2662f6ae75c447da9192d0d369dfdd7",
       "version_major": 2,
       "version_minor": 0
      },
      "text/plain": [
       "[calculate on-policy policy value]:   0%|          | 0/100 [00:00<?, ?it/s]"
      ]
     },
     "metadata": {},
     "output_type": "display_data"
    },
    {
     "data": {
      "application/vnd.jupyter.widget-view+json": {
       "model_id": "6842d29eefac460f8f051fdcefd84f34",
       "version_major": 2,
       "version_minor": 0
      },
      "text/plain": [
       "[obtain_trajectories]:   0%|          | 0/800 [00:00<?, ?it/s]"
      ]
     },
     "metadata": {},
     "output_type": "display_data"
    },
    {
     "data": {
      "application/vnd.jupyter.widget-view+json": {
       "model_id": "45b4cebea8f7484eb7f9c4412818ad82",
       "version_major": 2,
       "version_minor": 0
      },
      "text/plain": [
       "[obtain_trajectories]:   0%|          | 0/800 [00:00<?, ?it/s]"
      ]
     },
     "metadata": {},
     "output_type": "display_data"
    },
    {
     "name": "stdout",
     "output_type": "stream",
     "text": [
      "2023-04-06 22:29.48 [debug    ] RandomIterator is selected.\n",
      "2023-04-06 22:29.48 [info     ] Directory is created at d3rlpy_logs/CQL_20230406222948\n",
      "2023-04-06 22:29.48 [debug    ] Fitting action scaler...       action_scaler=min_max\n",
      "2023-04-06 22:29.48 [debug    ] Building models...\n",
      "2023-04-06 22:29.48 [debug    ] Models have been built.\n",
      "2023-04-06 22:29.48 [info     ] Parameters are saved to d3rlpy_logs/CQL_20230406222948/params.json params={'action_scaler': {'type': 'min_max', 'params': {'minimum': array([-1., -1., -1.]), 'maximum': array([1., 1., 1.])}}, 'actor_encoder_factory': {'type': 'vector', 'params': {'hidden_units': [30, 30], 'activation': 'relu', 'use_batch_norm': False, 'dropout_rate': None, 'use_dense': False}}, 'actor_learning_rate': 0.0001, 'actor_optim_factory': {'optim_cls': 'Adam', 'betas': (0.9, 0.999), 'eps': 1e-08, 'weight_decay': 0, 'amsgrad': False}, 'alpha_learning_rate': 0.0001, 'alpha_optim_factory': {'optim_cls': 'Adam', 'betas': (0.9, 0.999), 'eps': 1e-08, 'weight_decay': 0, 'amsgrad': False}, 'alpha_threshold': 10.0, 'batch_size': 256, 'conservative_weight': 5.0, 'critic_encoder_factory': {'type': 'vector', 'params': {'hidden_units': [30, 30], 'activation': 'relu', 'use_batch_norm': False, 'dropout_rate': None, 'use_dense': False}}, 'critic_learning_rate': 0.0003, 'critic_optim_factory': {'optim_cls': 'Adam', 'betas': (0.9, 0.999), 'eps': 1e-08, 'weight_decay': 0, 'amsgrad': False}, 'gamma': 0.99, 'generated_maxlen': 100000, 'initial_alpha': 1.0, 'initial_temperature': 1.0, 'n_action_samples': 10, 'n_critics': 2, 'n_frames': 1, 'n_steps': 1, 'q_func_factory': {'type': 'mean', 'params': {'share_encoder': False}}, 'real_ratio': 1.0, 'reward_scaler': None, 'scaler': None, 'soft_q_backup': False, 'tau': 0.005, 'temp_learning_rate': 0.0001, 'temp_optim_factory': {'optim_cls': 'Adam', 'betas': (0.9, 0.999), 'eps': 1e-08, 'weight_decay': 0, 'amsgrad': False}, 'use_gpu': None, 'algorithm': 'CQL', 'observation_shape': (5,), 'action_size': 3}\n"
     ]
    },
    {
     "data": {
      "application/vnd.jupyter.widget-view+json": {
       "model_id": "2d2552dc4f704abda78c3668230267d8",
       "version_major": 2,
       "version_minor": 0
      },
      "text/plain": [
       "Epoch 1/1:   0%|          | 0/10000 [00:00<?, ?it/s]"
      ]
     },
     "metadata": {},
     "output_type": "display_data"
    },
    {
     "name": "stdout",
     "output_type": "stream",
     "text": [
      "2023-04-06 22:34.35 [info     ] CQL_20230406222948: epoch=1 step=10000 epoch=1 metrics={'time_sample_batch': 0.0008499367475509643, 'time_algorithm_update': 0.02702079288959503, 'temp_loss': 3.217281315803528, 'temp': 0.6502245962828398, 'alpha_loss': -30.581781351661682, 'alpha': 1.7957961496949195, 'critic_loss': 32.06935659561157, 'actor_loss': -3.580057184839249, 'time_step': 0.02846556589603424} step=10000\n",
      "2023-04-06 22:34.35 [info     ] Model parameters are saved to d3rlpy_logs/CQL_20230406222948/model_10000.pt\n"
     ]
    },
    {
     "data": {
      "application/vnd.jupyter.widget-view+json": {
       "model_id": "2521920399cf4ee3a50e548f23c095fc",
       "version_major": 2,
       "version_minor": 0
      },
      "text/plain": [
       "[fit FQE model]:   0%|          | 0/2 [00:00<?, ?it/s]"
      ]
     },
     "metadata": {},
     "output_type": "display_data"
    },
    {
     "name": "stdout",
     "output_type": "stream",
     "text": [
      "2023-04-06 22:34.35 [debug    ] RoundIterator is selected.\n",
      "2023-04-06 22:34.35 [info     ] Directory is created at d3rlpy_logs/FQE_20230406223435\n",
      "2023-04-06 22:34.35 [debug    ] Fitting scaler...              scaler=min_max\n",
      "2023-04-06 22:34.35 [debug    ] Fitting action scaler...       action_scaler=min_max\n",
      "2023-04-06 22:34.35 [debug    ] Building models...\n",
      "2023-04-06 22:34.35 [debug    ] Models have been built.\n",
      "2023-04-06 22:34.35 [info     ] Parameters are saved to d3rlpy_logs/FQE_20230406223435/params.json params={'action_scaler': {'type': 'min_max', 'params': {'minimum': array([-1., -1., -1.]), 'maximum': array([1., 1., 1.])}}, 'batch_size': 100, 'encoder_factory': {'type': 'vector', 'params': {'hidden_units': [30, 30], 'activation': 'relu', 'use_batch_norm': False, 'dropout_rate': None, 'use_dense': False}}, 'gamma': 0.95, 'generated_maxlen': 100000, 'learning_rate': 0.0001, 'n_critics': 1, 'n_frames': 1, 'n_steps': 1, 'optim_factory': {'optim_cls': 'Adam', 'betas': (0.9, 0.999), 'eps': 1e-08, 'weight_decay': 0, 'amsgrad': False}, 'q_func_factory': {'type': 'mean', 'params': {'share_encoder': False}}, 'real_ratio': 1.0, 'reward_scaler': None, 'scaler': {'type': 'min_max', 'params': {'maximum': array([0.96657292, 0.9723519 , 0.9977714 , 0.999342  , 0.99264066]), 'minimum': array([-0.99044977, -0.93912386, -0.99267019, -0.95392667, -0.97764211])}}, 'target_update_interval': 100, 'use_gpu': None, 'algorithm': 'FQE', 'observation_shape': (5,), 'action_size': 3}\n"
     ]
    },
    {
     "data": {
      "application/vnd.jupyter.widget-view+json": {
       "model_id": "a23fc60404ac4558b80f8e26b083b34c",
       "version_major": 2,
       "version_minor": 0
      },
      "text/plain": [
       "Epoch 1/1:   0%|          | 0/80 [00:00<?, ?it/s]"
      ]
     },
     "metadata": {},
     "output_type": "display_data"
    },
    {
     "name": "stdout",
     "output_type": "stream",
     "text": [
      "2023-04-06 22:34.36 [info     ] FQE_20230406223435: epoch=1 step=80 epoch=1 metrics={'time_sample_batch': 0.0001424938440322876, 'time_algorithm_update': 0.0020246922969818113, 'loss': 0.10766633423045277, 'time_step': 0.0022569000720977783} step=80\n",
      "2023-04-06 22:34.36 [info     ] Model parameters are saved to d3rlpy_logs/FQE_20230406223435/model_80.pt\n",
      "2023-04-06 22:34.36 [debug    ] RoundIterator is selected.\n",
      "2023-04-06 22:34.36 [info     ] Directory is created at d3rlpy_logs/FQE_20230406223436\n",
      "2023-04-06 22:34.36 [debug    ] Fitting scaler...              scaler=min_max\n",
      "2023-04-06 22:34.36 [debug    ] Fitting action scaler...       action_scaler=min_max\n",
      "2023-04-06 22:34.36 [debug    ] Building models...\n",
      "2023-04-06 22:34.36 [debug    ] Models have been built.\n",
      "2023-04-06 22:34.36 [info     ] Parameters are saved to d3rlpy_logs/FQE_20230406223436/params.json params={'action_scaler': {'type': 'min_max', 'params': {'minimum': array([-1., -1., -1.]), 'maximum': array([1., 1., 1.])}}, 'batch_size': 100, 'encoder_factory': {'type': 'vector', 'params': {'hidden_units': [30, 30], 'activation': 'relu', 'use_batch_norm': False, 'dropout_rate': None, 'use_dense': False}}, 'gamma': 0.95, 'generated_maxlen': 100000, 'learning_rate': 0.0001, 'n_critics': 1, 'n_frames': 1, 'n_steps': 1, 'optim_factory': {'optim_cls': 'Adam', 'betas': (0.9, 0.999), 'eps': 1e-08, 'weight_decay': 0, 'amsgrad': False}, 'q_func_factory': {'type': 'mean', 'params': {'share_encoder': False}}, 'real_ratio': 1.0, 'reward_scaler': None, 'scaler': {'type': 'min_max', 'params': {'maximum': array([0.96657292, 0.9723519 , 0.9977714 , 0.999342  , 0.99264066]), 'minimum': array([-0.99044977, -0.93912386, -0.99267019, -0.95392667, -0.97764211])}}, 'target_update_interval': 100, 'use_gpu': None, 'algorithm': 'FQE', 'observation_shape': (5,), 'action_size': 3}\n"
     ]
    },
    {
     "data": {
      "application/vnd.jupyter.widget-view+json": {
       "model_id": "b70e29441e8c42cba844f463aa052a5e",
       "version_major": 2,
       "version_minor": 0
      },
      "text/plain": [
       "Epoch 1/1:   0%|          | 0/80 [00:00<?, ?it/s]"
      ]
     },
     "metadata": {},
     "output_type": "display_data"
    },
    {
     "name": "stdout",
     "output_type": "stream",
     "text": [
      "2023-04-06 22:34.36 [info     ] FQE_20230406223436: epoch=1 step=80 epoch=1 metrics={'time_sample_batch': 0.00014367997646331788, 'time_algorithm_update': 0.0021118879318237304, 'loss': 0.11201145630329848, 'time_step': 0.002327758073806763} step=80\n",
      "2023-04-06 22:34.36 [info     ] Model parameters are saved to d3rlpy_logs/FQE_20230406223436/model_80.pt\n"
     ]
    },
    {
     "data": {
      "application/vnd.jupyter.widget-view+json": {
       "model_id": "98efac688baf4466b7a29efe646a459a",
       "version_major": 2,
       "version_minor": 0
      },
      "text/plain": [
       "[fit MWL model]:   0%|          | 0/2 [00:00<?, ?it/s]"
      ]
     },
     "metadata": {},
     "output_type": "display_data"
    },
    {
     "data": {
      "application/vnd.jupyter.widget-view+json": {
       "model_id": "4c11eadb56da436c8d01161a05143649",
       "version_major": 2,
       "version_minor": 0
      },
      "text/plain": [
       "[fitting_weight_function]:   0%|          | 0/100 [00:00<?, ?it/s]"
      ]
     },
     "metadata": {},
     "output_type": "display_data"
    },
    {
     "data": {
      "application/vnd.jupyter.widget-view+json": {
       "model_id": "053b3dd8985f49bcbd56ef600be2320b",
       "version_major": 2,
       "version_minor": 0
      },
      "text/plain": [
       "[fitting_weight_function]:   0%|          | 0/100 [00:00<?, ?it/s]"
      ]
     },
     "metadata": {},
     "output_type": "display_data"
    },
    {
     "data": {
      "application/vnd.jupyter.widget-view+json": {
       "model_id": "554082b5fce141e2a291ec77a4cd78a1",
       "version_major": 2,
       "version_minor": 0
      },
      "text/plain": [
       "[fitting_weight_function]:   0%|          | 0/100 [00:00<?, ?it/s]"
      ]
     },
     "metadata": {},
     "output_type": "display_data"
    },
    {
     "data": {
      "application/vnd.jupyter.widget-view+json": {
       "model_id": "ebbdaf177a784627a39918d5f83e6fdc",
       "version_major": 2,
       "version_minor": 0
      },
      "text/plain": [
       "[fitting_weight_function]:   0%|          | 0/100 [00:00<?, ?it/s]"
      ]
     },
     "metadata": {},
     "output_type": "display_data"
    },
    {
     "data": {
      "application/vnd.jupyter.widget-view+json": {
       "model_id": "1e77cf3e87c74cbaafcdd6bcad324ec3",
       "version_major": 2,
       "version_minor": 0
      },
      "text/plain": [
       "[collect input data: eval_policy]:   0%|          | 0/2 [00:00<?, ?it/s]"
      ]
     },
     "metadata": {},
     "output_type": "display_data"
    },
    {
     "data": {
      "application/vnd.jupyter.widget-view+json": {
       "model_id": "f02ef9638ea34cb9bcbc97b3be30ad6d",
       "version_major": 2,
       "version_minor": 0
      },
      "text/plain": [
       "[calculate on-policy policy value]:   0%|          | 0/100 [00:00<?, ?it/s]"
      ]
     },
     "metadata": {},
     "output_type": "display_data"
    },
    {
     "data": {
      "application/vnd.jupyter.widget-view+json": {
       "model_id": "724c501b41fd4811a83b26bb2e686ccf",
       "version_major": 2,
       "version_minor": 0
      },
      "text/plain": [
       "[calculate on-policy policy value]:   0%|          | 0/100 [00:00<?, ?it/s]"
      ]
     },
     "metadata": {},
     "output_type": "display_data"
    },
    {
     "data": {
      "application/vnd.jupyter.widget-view+json": {
       "model_id": "e54453e8193243d9814e95e4b5f6ae64",
       "version_major": 2,
       "version_minor": 0
      },
      "text/plain": [
       "[obtain_trajectories]:   0%|          | 0/800 [00:00<?, ?it/s]"
      ]
     },
     "metadata": {},
     "output_type": "display_data"
    },
    {
     "data": {
      "application/vnd.jupyter.widget-view+json": {
       "model_id": "2a116a7c19f54d00bdb3c4728f453f37",
       "version_major": 2,
       "version_minor": 0
      },
      "text/plain": [
       "[obtain_trajectories]:   0%|          | 0/800 [00:00<?, ?it/s]"
      ]
     },
     "metadata": {},
     "output_type": "display_data"
    },
    {
     "name": "stdout",
     "output_type": "stream",
     "text": [
      "2023-04-06 22:35.47 [debug    ] RandomIterator is selected.\n",
      "2023-04-06 22:35.47 [info     ] Directory is created at d3rlpy_logs/CQL_20230406223547\n",
      "2023-04-06 22:35.47 [debug    ] Fitting action scaler...       action_scaler=min_max\n",
      "2023-04-06 22:35.47 [debug    ] Building models...\n",
      "2023-04-06 22:35.47 [debug    ] Models have been built.\n",
      "2023-04-06 22:35.47 [info     ] Parameters are saved to d3rlpy_logs/CQL_20230406223547/params.json params={'action_scaler': {'type': 'min_max', 'params': {'minimum': array([-1., -1., -1.]), 'maximum': array([1., 1., 1.])}}, 'actor_encoder_factory': {'type': 'vector', 'params': {'hidden_units': [30, 30], 'activation': 'relu', 'use_batch_norm': False, 'dropout_rate': None, 'use_dense': False}}, 'actor_learning_rate': 0.0001, 'actor_optim_factory': {'optim_cls': 'Adam', 'betas': (0.9, 0.999), 'eps': 1e-08, 'weight_decay': 0, 'amsgrad': False}, 'alpha_learning_rate': 0.0001, 'alpha_optim_factory': {'optim_cls': 'Adam', 'betas': (0.9, 0.999), 'eps': 1e-08, 'weight_decay': 0, 'amsgrad': False}, 'alpha_threshold': 10.0, 'batch_size': 256, 'conservative_weight': 5.0, 'critic_encoder_factory': {'type': 'vector', 'params': {'hidden_units': [30, 30], 'activation': 'relu', 'use_batch_norm': False, 'dropout_rate': None, 'use_dense': False}}, 'critic_learning_rate': 0.0003, 'critic_optim_factory': {'optim_cls': 'Adam', 'betas': (0.9, 0.999), 'eps': 1e-08, 'weight_decay': 0, 'amsgrad': False}, 'gamma': 0.99, 'generated_maxlen': 100000, 'initial_alpha': 1.0, 'initial_temperature': 1.0, 'n_action_samples': 10, 'n_critics': 2, 'n_frames': 1, 'n_steps': 1, 'q_func_factory': {'type': 'mean', 'params': {'share_encoder': False}}, 'real_ratio': 1.0, 'reward_scaler': None, 'scaler': None, 'soft_q_backup': False, 'tau': 0.005, 'temp_learning_rate': 0.0001, 'temp_optim_factory': {'optim_cls': 'Adam', 'betas': (0.9, 0.999), 'eps': 1e-08, 'weight_decay': 0, 'amsgrad': False}, 'use_gpu': None, 'algorithm': 'CQL', 'observation_shape': (5,), 'action_size': 3}\n"
     ]
    },
    {
     "data": {
      "application/vnd.jupyter.widget-view+json": {
       "model_id": "aeb90e27ad7f494aae93fc5d7a440592",
       "version_major": 2,
       "version_minor": 0
      },
      "text/plain": [
       "Epoch 1/1:   0%|          | 0/10000 [00:00<?, ?it/s]"
      ]
     },
     "metadata": {},
     "output_type": "display_data"
    },
    {
     "name": "stdout",
     "output_type": "stream",
     "text": [
      "2023-04-06 22:39.52 [info     ] CQL_20230406223547: epoch=1 step=10000 epoch=1 metrics={'time_sample_batch': 0.0007859175205230713, 'time_algorithm_update': 0.02304724097251892, 'temp_loss': 3.2201165122032167, 'temp': 0.6501760466307401, 'alpha_loss': -30.588998830223083, 'alpha': 1.7957832849860191, 'critic_loss': 32.34141496124268, 'actor_loss': -3.7643400077700613, 'time_step': 0.024351397132873535} step=10000\n",
      "2023-04-06 22:39.52 [info     ] Model parameters are saved to d3rlpy_logs/CQL_20230406223547/model_10000.pt\n"
     ]
    },
    {
     "data": {
      "application/vnd.jupyter.widget-view+json": {
       "model_id": "783c72aa82f040b5a0fbe3a3771367cb",
       "version_major": 2,
       "version_minor": 0
      },
      "text/plain": [
       "[fit FQE model]:   0%|          | 0/2 [00:00<?, ?it/s]"
      ]
     },
     "metadata": {},
     "output_type": "display_data"
    },
    {
     "name": "stdout",
     "output_type": "stream",
     "text": [
      "2023-04-06 22:39.52 [debug    ] RoundIterator is selected.\n",
      "2023-04-06 22:39.52 [info     ] Directory is created at d3rlpy_logs/FQE_20230406223952\n",
      "2023-04-06 22:39.52 [debug    ] Fitting scaler...              scaler=min_max\n",
      "2023-04-06 22:39.52 [debug    ] Fitting action scaler...       action_scaler=min_max\n",
      "2023-04-06 22:39.52 [debug    ] Building models...\n",
      "2023-04-06 22:39.52 [debug    ] Models have been built.\n",
      "2023-04-06 22:39.52 [info     ] Parameters are saved to d3rlpy_logs/FQE_20230406223952/params.json params={'action_scaler': {'type': 'min_max', 'params': {'minimum': array([-1., -1., -1.]), 'maximum': array([1., 1., 1.])}}, 'batch_size': 100, 'encoder_factory': {'type': 'vector', 'params': {'hidden_units': [30, 30], 'activation': 'relu', 'use_batch_norm': False, 'dropout_rate': None, 'use_dense': False}}, 'gamma': 0.95, 'generated_maxlen': 100000, 'learning_rate': 0.0001, 'n_critics': 1, 'n_frames': 1, 'n_steps': 1, 'optim_factory': {'optim_cls': 'Adam', 'betas': (0.9, 0.999), 'eps': 1e-08, 'weight_decay': 0, 'amsgrad': False}, 'q_func_factory': {'type': 'mean', 'params': {'share_encoder': False}}, 'real_ratio': 1.0, 'reward_scaler': None, 'scaler': {'type': 'min_max', 'params': {'maximum': array([0.99787284, 0.98262683, 0.99780339, 0.9606151 , 0.98131929]), 'minimum': array([-0.94819047, -0.9785377 , -0.99493817, -0.99359186, -0.98659234])}}, 'target_update_interval': 100, 'use_gpu': None, 'algorithm': 'FQE', 'observation_shape': (5,), 'action_size': 3}\n"
     ]
    },
    {
     "data": {
      "application/vnd.jupyter.widget-view+json": {
       "model_id": "f8b963ebc4f947fa8b1cad7278509475",
       "version_major": 2,
       "version_minor": 0
      },
      "text/plain": [
       "Epoch 1/1:   0%|          | 0/80 [00:00<?, ?it/s]"
      ]
     },
     "metadata": {},
     "output_type": "display_data"
    },
    {
     "name": "stdout",
     "output_type": "stream",
     "text": [
      "2023-04-06 22:39.53 [info     ] FQE_20230406223952: epoch=1 step=80 epoch=1 metrics={'time_sample_batch': 0.0001120448112487793, 'time_algorithm_update': 0.0014103800058364868, 'loss': 0.1070387159474194, 'time_step': 0.0015754044055938722} step=80\n",
      "2023-04-06 22:39.53 [info     ] Model parameters are saved to d3rlpy_logs/FQE_20230406223952/model_80.pt\n",
      "2023-04-06 22:39.53 [debug    ] RoundIterator is selected.\n",
      "2023-04-06 22:39.53 [info     ] Directory is created at d3rlpy_logs/FQE_20230406223953\n",
      "2023-04-06 22:39.53 [debug    ] Fitting scaler...              scaler=min_max\n",
      "2023-04-06 22:39.53 [debug    ] Fitting action scaler...       action_scaler=min_max\n",
      "2023-04-06 22:39.53 [debug    ] Building models...\n",
      "2023-04-06 22:39.53 [debug    ] Models have been built.\n",
      "2023-04-06 22:39.53 [info     ] Parameters are saved to d3rlpy_logs/FQE_20230406223953/params.json params={'action_scaler': {'type': 'min_max', 'params': {'minimum': array([-1., -1., -1.]), 'maximum': array([1., 1., 1.])}}, 'batch_size': 100, 'encoder_factory': {'type': 'vector', 'params': {'hidden_units': [30, 30], 'activation': 'relu', 'use_batch_norm': False, 'dropout_rate': None, 'use_dense': False}}, 'gamma': 0.95, 'generated_maxlen': 100000, 'learning_rate': 0.0001, 'n_critics': 1, 'n_frames': 1, 'n_steps': 1, 'optim_factory': {'optim_cls': 'Adam', 'betas': (0.9, 0.999), 'eps': 1e-08, 'weight_decay': 0, 'amsgrad': False}, 'q_func_factory': {'type': 'mean', 'params': {'share_encoder': False}}, 'real_ratio': 1.0, 'reward_scaler': None, 'scaler': {'type': 'min_max', 'params': {'maximum': array([0.99787284, 0.98262683, 0.99780339, 0.9606151 , 0.98131929]), 'minimum': array([-0.94819047, -0.9785377 , -0.99493817, -0.99359186, -0.98659234])}}, 'target_update_interval': 100, 'use_gpu': None, 'algorithm': 'FQE', 'observation_shape': (5,), 'action_size': 3}\n"
     ]
    },
    {
     "data": {
      "application/vnd.jupyter.widget-view+json": {
       "model_id": "70b478c3bf6641efb8ddf8981d7c8b3d",
       "version_major": 2,
       "version_minor": 0
      },
      "text/plain": [
       "Epoch 1/1:   0%|          | 0/80 [00:00<?, ?it/s]"
      ]
     },
     "metadata": {},
     "output_type": "display_data"
    },
    {
     "name": "stdout",
     "output_type": "stream",
     "text": [
      "2023-04-06 22:39.53 [info     ] FQE_20230406223953: epoch=1 step=80 epoch=1 metrics={'time_sample_batch': 0.00011866390705108642, 'time_algorithm_update': 0.0015537619590759277, 'loss': 0.11074065826833249, 'time_step': 0.0017433643341064453} step=80\n",
      "2023-04-06 22:39.53 [info     ] Model parameters are saved to d3rlpy_logs/FQE_20230406223953/model_80.pt\n"
     ]
    },
    {
     "data": {
      "application/vnd.jupyter.widget-view+json": {
       "model_id": "6968c823e9bb40eb913c9da953ded900",
       "version_major": 2,
       "version_minor": 0
      },
      "text/plain": [
       "[fit MWL model]:   0%|          | 0/2 [00:00<?, ?it/s]"
      ]
     },
     "metadata": {},
     "output_type": "display_data"
    },
    {
     "data": {
      "application/vnd.jupyter.widget-view+json": {
       "model_id": "765e5c58ab654ac7bde7ba1dc461c0f6",
       "version_major": 2,
       "version_minor": 0
      },
      "text/plain": [
       "[fitting_weight_function]:   0%|          | 0/100 [00:00<?, ?it/s]"
      ]
     },
     "metadata": {},
     "output_type": "display_data"
    },
    {
     "data": {
      "application/vnd.jupyter.widget-view+json": {
       "model_id": "149a480af8b64177beca4805d6c3138b",
       "version_major": 2,
       "version_minor": 0
      },
      "text/plain": [
       "[fitting_weight_function]:   0%|          | 0/100 [00:00<?, ?it/s]"
      ]
     },
     "metadata": {},
     "output_type": "display_data"
    },
    {
     "data": {
      "application/vnd.jupyter.widget-view+json": {
       "model_id": "7c5054b15f4e440c9373c874227a7090",
       "version_major": 2,
       "version_minor": 0
      },
      "text/plain": [
       "[fitting_weight_function]:   0%|          | 0/100 [00:00<?, ?it/s]"
      ]
     },
     "metadata": {},
     "output_type": "display_data"
    },
    {
     "data": {
      "application/vnd.jupyter.widget-view+json": {
       "model_id": "9c0e4bc83c75499ea922abbdcc7aebf0",
       "version_major": 2,
       "version_minor": 0
      },
      "text/plain": [
       "[fitting_weight_function]:   0%|          | 0/100 [00:00<?, ?it/s]"
      ]
     },
     "metadata": {},
     "output_type": "display_data"
    },
    {
     "data": {
      "application/vnd.jupyter.widget-view+json": {
       "model_id": "cc982cdbf0cf40f6a626f50d87607ffb",
       "version_major": 2,
       "version_minor": 0
      },
      "text/plain": [
       "[collect input data: eval_policy]:   0%|          | 0/2 [00:00<?, ?it/s]"
      ]
     },
     "metadata": {},
     "output_type": "display_data"
    },
    {
     "data": {
      "application/vnd.jupyter.widget-view+json": {
       "model_id": "ab2de35e705544eb84b50ca35fb25183",
       "version_major": 2,
       "version_minor": 0
      },
      "text/plain": [
       "[calculate on-policy policy value]:   0%|          | 0/100 [00:00<?, ?it/s]"
      ]
     },
     "metadata": {},
     "output_type": "display_data"
    },
    {
     "data": {
      "application/vnd.jupyter.widget-view+json": {
       "model_id": "08acd3568d274874b8a6e9a6c8d97486",
       "version_major": 2,
       "version_minor": 0
      },
      "text/plain": [
       "[calculate on-policy policy value]:   0%|          | 0/100 [00:00<?, ?it/s]"
      ]
     },
     "metadata": {},
     "output_type": "display_data"
    },
    {
     "data": {
      "application/vnd.jupyter.widget-view+json": {
       "model_id": "4c72c2362a8f41578e8eed2ec5a0970f",
       "version_major": 2,
       "version_minor": 0
      },
      "text/plain": [
       "[obtain_trajectories]:   0%|          | 0/1600 [00:00<?, ?it/s]"
      ]
     },
     "metadata": {},
     "output_type": "display_data"
    },
    {
     "data": {
      "application/vnd.jupyter.widget-view+json": {
       "model_id": "ebcc8ee432f545af89d36fc068485706",
       "version_major": 2,
       "version_minor": 0
      },
      "text/plain": [
       "[obtain_trajectories]:   0%|          | 0/1600 [00:00<?, ?it/s]"
      ]
     },
     "metadata": {},
     "output_type": "display_data"
    },
    {
     "name": "stdout",
     "output_type": "stream",
     "text": [
      "2023-04-06 22:41.20 [debug    ] RandomIterator is selected.\n",
      "2023-04-06 22:41.20 [info     ] Directory is created at d3rlpy_logs/CQL_20230406224120\n",
      "2023-04-06 22:41.20 [debug    ] Fitting action scaler...       action_scaler=min_max\n",
      "2023-04-06 22:41.20 [debug    ] Building models...\n",
      "2023-04-06 22:41.20 [debug    ] Models have been built.\n",
      "2023-04-06 22:41.20 [info     ] Parameters are saved to d3rlpy_logs/CQL_20230406224120/params.json params={'action_scaler': {'type': 'min_max', 'params': {'minimum': array([-1., -1., -1.]), 'maximum': array([1., 1., 1.])}}, 'actor_encoder_factory': {'type': 'vector', 'params': {'hidden_units': [30, 30], 'activation': 'relu', 'use_batch_norm': False, 'dropout_rate': None, 'use_dense': False}}, 'actor_learning_rate': 0.0001, 'actor_optim_factory': {'optim_cls': 'Adam', 'betas': (0.9, 0.999), 'eps': 1e-08, 'weight_decay': 0, 'amsgrad': False}, 'alpha_learning_rate': 0.0001, 'alpha_optim_factory': {'optim_cls': 'Adam', 'betas': (0.9, 0.999), 'eps': 1e-08, 'weight_decay': 0, 'amsgrad': False}, 'alpha_threshold': 10.0, 'batch_size': 256, 'conservative_weight': 5.0, 'critic_encoder_factory': {'type': 'vector', 'params': {'hidden_units': [30, 30], 'activation': 'relu', 'use_batch_norm': False, 'dropout_rate': None, 'use_dense': False}}, 'critic_learning_rate': 0.0003, 'critic_optim_factory': {'optim_cls': 'Adam', 'betas': (0.9, 0.999), 'eps': 1e-08, 'weight_decay': 0, 'amsgrad': False}, 'gamma': 0.99, 'generated_maxlen': 100000, 'initial_alpha': 1.0, 'initial_temperature': 1.0, 'n_action_samples': 10, 'n_critics': 2, 'n_frames': 1, 'n_steps': 1, 'q_func_factory': {'type': 'mean', 'params': {'share_encoder': False}}, 'real_ratio': 1.0, 'reward_scaler': None, 'scaler': None, 'soft_q_backup': False, 'tau': 0.005, 'temp_learning_rate': 0.0001, 'temp_optim_factory': {'optim_cls': 'Adam', 'betas': (0.9, 0.999), 'eps': 1e-08, 'weight_decay': 0, 'amsgrad': False}, 'use_gpu': None, 'algorithm': 'CQL', 'observation_shape': (5,), 'action_size': 3}\n"
     ]
    },
    {
     "data": {
      "application/vnd.jupyter.widget-view+json": {
       "model_id": "92410ddbf3e043baa7636070d881d04a",
       "version_major": 2,
       "version_minor": 0
      },
      "text/plain": [
       "Epoch 1/1:   0%|          | 0/10000 [00:00<?, ?it/s]"
      ]
     },
     "metadata": {},
     "output_type": "display_data"
    },
    {
     "name": "stdout",
     "output_type": "stream",
     "text": [
      "2023-04-06 22:45.38 [info     ] CQL_20230406224120: epoch=1 step=10000 epoch=1 metrics={'time_sample_batch': 0.0008038577318191529, 'time_algorithm_update': 0.02427329363822937, 'temp_loss': 3.2255460568785668, 'temp': 0.6500391357272863, 'alpha_loss': -30.748417970085143, 'alpha': 1.7964269622802735, 'critic_loss': 32.24062748222351, 'actor_loss': -3.6130051163554193, 'time_step': 0.025610875821113585} step=10000\n",
      "2023-04-06 22:45.38 [info     ] Model parameters are saved to d3rlpy_logs/CQL_20230406224120/model_10000.pt\n"
     ]
    },
    {
     "data": {
      "application/vnd.jupyter.widget-view+json": {
       "model_id": "985aba04e3aa48e58630d417a21cd01c",
       "version_major": 2,
       "version_minor": 0
      },
      "text/plain": [
       "[fit FQE model]:   0%|          | 0/2 [00:00<?, ?it/s]"
      ]
     },
     "metadata": {},
     "output_type": "display_data"
    },
    {
     "name": "stdout",
     "output_type": "stream",
     "text": [
      "2023-04-06 22:45.38 [debug    ] RoundIterator is selected.\n",
      "2023-04-06 22:45.38 [info     ] Directory is created at d3rlpy_logs/FQE_20230406224538\n",
      "2023-04-06 22:45.38 [debug    ] Fitting scaler...              scaler=min_max\n",
      "2023-04-06 22:45.38 [debug    ] Fitting action scaler...       action_scaler=min_max\n",
      "2023-04-06 22:45.38 [debug    ] Building models...\n",
      "2023-04-06 22:45.38 [debug    ] Models have been built.\n",
      "2023-04-06 22:45.38 [info     ] Parameters are saved to d3rlpy_logs/FQE_20230406224538/params.json params={'action_scaler': {'type': 'min_max', 'params': {'minimum': array([-1., -1., -1.]), 'maximum': array([1., 1., 1.])}}, 'batch_size': 100, 'encoder_factory': {'type': 'vector', 'params': {'hidden_units': [30, 30], 'activation': 'relu', 'use_batch_norm': False, 'dropout_rate': None, 'use_dense': False}}, 'gamma': 0.95, 'generated_maxlen': 100000, 'learning_rate': 0.0001, 'n_critics': 1, 'n_frames': 1, 'n_steps': 1, 'optim_factory': {'optim_cls': 'Adam', 'betas': (0.9, 0.999), 'eps': 1e-08, 'weight_decay': 0, 'amsgrad': False}, 'q_func_factory': {'type': 'mean', 'params': {'share_encoder': False}}, 'real_ratio': 1.0, 'reward_scaler': None, 'scaler': {'type': 'min_max', 'params': {'maximum': array([0.97440632, 0.97720974, 0.99795706, 0.96702666, 0.99292295]), 'minimum': array([-0.96825421, -0.95457659, -0.99704352, -0.99372491, -0.9938109 ])}}, 'target_update_interval': 100, 'use_gpu': None, 'algorithm': 'FQE', 'observation_shape': (5,), 'action_size': 3}\n"
     ]
    },
    {
     "data": {
      "application/vnd.jupyter.widget-view+json": {
       "model_id": "559f1c624353406196247d47f9cd3111",
       "version_major": 2,
       "version_minor": 0
      },
      "text/plain": [
       "Epoch 1/1:   0%|          | 0/160 [00:00<?, ?it/s]"
      ]
     },
     "metadata": {},
     "output_type": "display_data"
    },
    {
     "name": "stdout",
     "output_type": "stream",
     "text": [
      "2023-04-06 22:45.38 [info     ] FQE_20230406224538: epoch=1 step=160 epoch=1 metrics={'time_sample_batch': 0.00012139379978179932, 'time_algorithm_update': 0.0015869930386543274, 'loss': 0.11968175247311592, 'time_step': 0.0017643526196479797} step=160\n",
      "2023-04-06 22:45.38 [info     ] Model parameters are saved to d3rlpy_logs/FQE_20230406224538/model_160.pt\n",
      "2023-04-06 22:45.38 [debug    ] RoundIterator is selected.\n",
      "2023-04-06 22:45.39 [info     ] Directory is created at d3rlpy_logs/FQE_20230406224539\n",
      "2023-04-06 22:45.39 [debug    ] Fitting scaler...              scaler=min_max\n",
      "2023-04-06 22:45.39 [debug    ] Fitting action scaler...       action_scaler=min_max\n",
      "2023-04-06 22:45.39 [debug    ] Building models...\n",
      "2023-04-06 22:45.39 [debug    ] Models have been built.\n",
      "2023-04-06 22:45.39 [info     ] Parameters are saved to d3rlpy_logs/FQE_20230406224539/params.json params={'action_scaler': {'type': 'min_max', 'params': {'minimum': array([-1., -1., -1.]), 'maximum': array([1., 1., 1.])}}, 'batch_size': 100, 'encoder_factory': {'type': 'vector', 'params': {'hidden_units': [30, 30], 'activation': 'relu', 'use_batch_norm': False, 'dropout_rate': None, 'use_dense': False}}, 'gamma': 0.95, 'generated_maxlen': 100000, 'learning_rate': 0.0001, 'n_critics': 1, 'n_frames': 1, 'n_steps': 1, 'optim_factory': {'optim_cls': 'Adam', 'betas': (0.9, 0.999), 'eps': 1e-08, 'weight_decay': 0, 'amsgrad': False}, 'q_func_factory': {'type': 'mean', 'params': {'share_encoder': False}}, 'real_ratio': 1.0, 'reward_scaler': None, 'scaler': {'type': 'min_max', 'params': {'maximum': array([0.97440632, 0.97720974, 0.99795706, 0.96702666, 0.99292295]), 'minimum': array([-0.96825421, -0.95457659, -0.99704352, -0.99372491, -0.9938109 ])}}, 'target_update_interval': 100, 'use_gpu': None, 'algorithm': 'FQE', 'observation_shape': (5,), 'action_size': 3}\n"
     ]
    },
    {
     "data": {
      "application/vnd.jupyter.widget-view+json": {
       "model_id": "0f8e70fb71c24c64854f68ec4394a8f8",
       "version_major": 2,
       "version_minor": 0
      },
      "text/plain": [
       "Epoch 1/1:   0%|          | 0/160 [00:00<?, ?it/s]"
      ]
     },
     "metadata": {},
     "output_type": "display_data"
    },
    {
     "name": "stdout",
     "output_type": "stream",
     "text": [
      "2023-04-06 22:45.40 [info     ] FQE_20230406224539: epoch=1 step=160 epoch=1 metrics={'time_sample_batch': 0.0001292198896408081, 'time_algorithm_update': 0.0017957419157028198, 'loss': 0.12137026861310005, 'time_step': 0.0019862428307533264} step=160\n",
      "2023-04-06 22:45.40 [info     ] Model parameters are saved to d3rlpy_logs/FQE_20230406224539/model_160.pt\n"
     ]
    },
    {
     "data": {
      "application/vnd.jupyter.widget-view+json": {
       "model_id": "cdc95e3381c449f89629a9518b2b8d40",
       "version_major": 2,
       "version_minor": 0
      },
      "text/plain": [
       "[fit MWL model]:   0%|          | 0/2 [00:00<?, ?it/s]"
      ]
     },
     "metadata": {},
     "output_type": "display_data"
    },
    {
     "data": {
      "application/vnd.jupyter.widget-view+json": {
       "model_id": "b1aa26f7b2114b5b8cb39b0e83a76c25",
       "version_major": 2,
       "version_minor": 0
      },
      "text/plain": [
       "[fitting_weight_function]:   0%|          | 0/100 [00:00<?, ?it/s]"
      ]
     },
     "metadata": {},
     "output_type": "display_data"
    },
    {
     "data": {
      "application/vnd.jupyter.widget-view+json": {
       "model_id": "d42bffb0693d4af99332a79984d7c641",
       "version_major": 2,
       "version_minor": 0
      },
      "text/plain": [
       "[fitting_weight_function]:   0%|          | 0/100 [00:00<?, ?it/s]"
      ]
     },
     "metadata": {},
     "output_type": "display_data"
    },
    {
     "data": {
      "application/vnd.jupyter.widget-view+json": {
       "model_id": "af06354c5cad4f4c83f59900003a5e53",
       "version_major": 2,
       "version_minor": 0
      },
      "text/plain": [
       "[fitting_weight_function]:   0%|          | 0/100 [00:00<?, ?it/s]"
      ]
     },
     "metadata": {},
     "output_type": "display_data"
    },
    {
     "data": {
      "application/vnd.jupyter.widget-view+json": {
       "model_id": "1ecf311fa7554b0b846bc847610925aa",
       "version_major": 2,
       "version_minor": 0
      },
      "text/plain": [
       "[fitting_weight_function]:   0%|          | 0/100 [00:00<?, ?it/s]"
      ]
     },
     "metadata": {},
     "output_type": "display_data"
    },
    {
     "data": {
      "application/vnd.jupyter.widget-view+json": {
       "model_id": "1a0258c35bf3415f864e7e474dd8e392",
       "version_major": 2,
       "version_minor": 0
      },
      "text/plain": [
       "[collect input data: eval_policy]:   0%|          | 0/2 [00:00<?, ?it/s]"
      ]
     },
     "metadata": {},
     "output_type": "display_data"
    },
    {
     "data": {
      "application/vnd.jupyter.widget-view+json": {
       "model_id": "153585dcbd6241398b2a5bbe9db7fec6",
       "version_major": 2,
       "version_minor": 0
      },
      "text/plain": [
       "[calculate on-policy policy value]:   0%|          | 0/100 [00:00<?, ?it/s]"
      ]
     },
     "metadata": {},
     "output_type": "display_data"
    },
    {
     "data": {
      "application/vnd.jupyter.widget-view+json": {
       "model_id": "fd478621b8f94f5d82c616387f036b11",
       "version_major": 2,
       "version_minor": 0
      },
      "text/plain": [
       "[calculate on-policy policy value]:   0%|          | 0/100 [00:00<?, ?it/s]"
      ]
     },
     "metadata": {},
     "output_type": "display_data"
    },
    {
     "data": {
      "application/vnd.jupyter.widget-view+json": {
       "model_id": "d145ac28adce4bb28d40096e87274bdf",
       "version_major": 2,
       "version_minor": 0
      },
      "text/plain": [
       "[obtain_trajectories]:   0%|          | 0/1600 [00:00<?, ?it/s]"
      ]
     },
     "metadata": {},
     "output_type": "display_data"
    },
    {
     "data": {
      "application/vnd.jupyter.widget-view+json": {
       "model_id": "16440e11e73146d784d507c88c634a53",
       "version_major": 2,
       "version_minor": 0
      },
      "text/plain": [
       "[obtain_trajectories]:   0%|          | 0/1600 [00:00<?, ?it/s]"
      ]
     },
     "metadata": {},
     "output_type": "display_data"
    },
    {
     "name": "stdout",
     "output_type": "stream",
     "text": [
      "2023-04-06 22:47.06 [debug    ] RandomIterator is selected.\n",
      "2023-04-06 22:47.06 [info     ] Directory is created at d3rlpy_logs/CQL_20230406224706\n",
      "2023-04-06 22:47.06 [debug    ] Fitting action scaler...       action_scaler=min_max\n",
      "2023-04-06 22:47.06 [debug    ] Building models...\n",
      "2023-04-06 22:47.06 [debug    ] Models have been built.\n",
      "2023-04-06 22:47.06 [info     ] Parameters are saved to d3rlpy_logs/CQL_20230406224706/params.json params={'action_scaler': {'type': 'min_max', 'params': {'minimum': array([-1., -1., -1.]), 'maximum': array([1., 1., 1.])}}, 'actor_encoder_factory': {'type': 'vector', 'params': {'hidden_units': [30, 30], 'activation': 'relu', 'use_batch_norm': False, 'dropout_rate': None, 'use_dense': False}}, 'actor_learning_rate': 0.0001, 'actor_optim_factory': {'optim_cls': 'Adam', 'betas': (0.9, 0.999), 'eps': 1e-08, 'weight_decay': 0, 'amsgrad': False}, 'alpha_learning_rate': 0.0001, 'alpha_optim_factory': {'optim_cls': 'Adam', 'betas': (0.9, 0.999), 'eps': 1e-08, 'weight_decay': 0, 'amsgrad': False}, 'alpha_threshold': 10.0, 'batch_size': 256, 'conservative_weight': 5.0, 'critic_encoder_factory': {'type': 'vector', 'params': {'hidden_units': [30, 30], 'activation': 'relu', 'use_batch_norm': False, 'dropout_rate': None, 'use_dense': False}}, 'critic_learning_rate': 0.0003, 'critic_optim_factory': {'optim_cls': 'Adam', 'betas': (0.9, 0.999), 'eps': 1e-08, 'weight_decay': 0, 'amsgrad': False}, 'gamma': 0.99, 'generated_maxlen': 100000, 'initial_alpha': 1.0, 'initial_temperature': 1.0, 'n_action_samples': 10, 'n_critics': 2, 'n_frames': 1, 'n_steps': 1, 'q_func_factory': {'type': 'mean', 'params': {'share_encoder': False}}, 'real_ratio': 1.0, 'reward_scaler': None, 'scaler': None, 'soft_q_backup': False, 'tau': 0.005, 'temp_learning_rate': 0.0001, 'temp_optim_factory': {'optim_cls': 'Adam', 'betas': (0.9, 0.999), 'eps': 1e-08, 'weight_decay': 0, 'amsgrad': False}, 'use_gpu': None, 'algorithm': 'CQL', 'observation_shape': (5,), 'action_size': 3}\n"
     ]
    },
    {
     "data": {
      "application/vnd.jupyter.widget-view+json": {
       "model_id": "cf6757ffad1845fabd02fe26d392b16f",
       "version_major": 2,
       "version_minor": 0
      },
      "text/plain": [
       "Epoch 1/1:   0%|          | 0/10000 [00:00<?, ?it/s]"
      ]
     },
     "metadata": {},
     "output_type": "display_data"
    },
    {
     "name": "stdout",
     "output_type": "stream",
     "text": [
      "2023-04-06 22:51.25 [info     ] CQL_20230406224706: epoch=1 step=10000 epoch=1 metrics={'time_sample_batch': 0.0008054397583007812, 'time_algorithm_update': 0.024340526938438415, 'temp_loss': 3.225831471800804, 'temp': 0.6500425975173711, 'alpha_loss': -30.755031573295593, 'alpha': 1.7964999465703964, 'critic_loss': 32.1922577173233, 'actor_loss': -3.5378338255643844, 'time_step': 0.02569294626712799} step=10000\n",
      "2023-04-06 22:51.25 [info     ] Model parameters are saved to d3rlpy_logs/CQL_20230406224706/model_10000.pt\n"
     ]
    },
    {
     "data": {
      "application/vnd.jupyter.widget-view+json": {
       "model_id": "1f14a9625dd54282a905d219dd094966",
       "version_major": 2,
       "version_minor": 0
      },
      "text/plain": [
       "[fit FQE model]:   0%|          | 0/2 [00:00<?, ?it/s]"
      ]
     },
     "metadata": {},
     "output_type": "display_data"
    },
    {
     "name": "stdout",
     "output_type": "stream",
     "text": [
      "2023-04-06 22:51.25 [debug    ] RoundIterator is selected.\n",
      "2023-04-06 22:51.25 [info     ] Directory is created at d3rlpy_logs/FQE_20230406225125\n",
      "2023-04-06 22:51.25 [debug    ] Fitting scaler...              scaler=min_max\n",
      "2023-04-06 22:51.25 [debug    ] Fitting action scaler...       action_scaler=min_max\n",
      "2023-04-06 22:51.25 [debug    ] Building models...\n",
      "2023-04-06 22:51.25 [debug    ] Models have been built.\n",
      "2023-04-06 22:51.25 [info     ] Parameters are saved to d3rlpy_logs/FQE_20230406225125/params.json params={'action_scaler': {'type': 'min_max', 'params': {'minimum': array([-1., -1., -1.]), 'maximum': array([1., 1., 1.])}}, 'batch_size': 100, 'encoder_factory': {'type': 'vector', 'params': {'hidden_units': [30, 30], 'activation': 'relu', 'use_batch_norm': False, 'dropout_rate': None, 'use_dense': False}}, 'gamma': 0.95, 'generated_maxlen': 100000, 'learning_rate': 0.0001, 'n_critics': 1, 'n_frames': 1, 'n_steps': 1, 'optim_factory': {'optim_cls': 'Adam', 'betas': (0.9, 0.999), 'eps': 1e-08, 'weight_decay': 0, 'amsgrad': False}, 'q_func_factory': {'type': 'mean', 'params': {'share_encoder': False}}, 'real_ratio': 1.0, 'reward_scaler': None, 'scaler': {'type': 'min_max', 'params': {'maximum': array([0.99165468, 0.98089623, 0.99796178, 0.97930495, 0.99364377]), 'minimum': array([-0.96600255, -0.98123375, -0.99483375, -0.9761736 , -0.99187461])}}, 'target_update_interval': 100, 'use_gpu': None, 'algorithm': 'FQE', 'observation_shape': (5,), 'action_size': 3}\n"
     ]
    },
    {
     "data": {
      "application/vnd.jupyter.widget-view+json": {
       "model_id": "843099dbf00d416fafb107d7def5ebf6",
       "version_major": 2,
       "version_minor": 0
      },
      "text/plain": [
       "Epoch 1/1:   0%|          | 0/160 [00:00<?, ?it/s]"
      ]
     },
     "metadata": {},
     "output_type": "display_data"
    },
    {
     "name": "stdout",
     "output_type": "stream",
     "text": [
      "2023-04-06 22:51.25 [info     ] FQE_20230406225125: epoch=1 step=160 epoch=1 metrics={'time_sample_batch': 0.00012404173612594603, 'time_algorithm_update': 0.0014887034893035888, 'loss': 0.11357728145085275, 'time_step': 0.0016689807176589965} step=160\n",
      "2023-04-06 22:51.25 [info     ] Model parameters are saved to d3rlpy_logs/FQE_20230406225125/model_160.pt\n",
      "2023-04-06 22:51.25 [debug    ] RoundIterator is selected.\n",
      "2023-04-06 22:51.26 [info     ] Directory is created at d3rlpy_logs/FQE_20230406225126\n",
      "2023-04-06 22:51.26 [debug    ] Fitting scaler...              scaler=min_max\n",
      "2023-04-06 22:51.26 [debug    ] Fitting action scaler...       action_scaler=min_max\n",
      "2023-04-06 22:51.26 [debug    ] Building models...\n",
      "2023-04-06 22:51.26 [debug    ] Models have been built.\n",
      "2023-04-06 22:51.26 [info     ] Parameters are saved to d3rlpy_logs/FQE_20230406225126/params.json params={'action_scaler': {'type': 'min_max', 'params': {'minimum': array([-1., -1., -1.]), 'maximum': array([1., 1., 1.])}}, 'batch_size': 100, 'encoder_factory': {'type': 'vector', 'params': {'hidden_units': [30, 30], 'activation': 'relu', 'use_batch_norm': False, 'dropout_rate': None, 'use_dense': False}}, 'gamma': 0.95, 'generated_maxlen': 100000, 'learning_rate': 0.0001, 'n_critics': 1, 'n_frames': 1, 'n_steps': 1, 'optim_factory': {'optim_cls': 'Adam', 'betas': (0.9, 0.999), 'eps': 1e-08, 'weight_decay': 0, 'amsgrad': False}, 'q_func_factory': {'type': 'mean', 'params': {'share_encoder': False}}, 'real_ratio': 1.0, 'reward_scaler': None, 'scaler': {'type': 'min_max', 'params': {'maximum': array([0.99165468, 0.98089623, 0.99796178, 0.97930495, 0.99364377]), 'minimum': array([-0.96600255, -0.98123375, -0.99483375, -0.9761736 , -0.99187461])}}, 'target_update_interval': 100, 'use_gpu': None, 'algorithm': 'FQE', 'observation_shape': (5,), 'action_size': 3}\n"
     ]
    },
    {
     "data": {
      "application/vnd.jupyter.widget-view+json": {
       "model_id": "fbb9d8cfe8d64dfcadc463ee86153748",
       "version_major": 2,
       "version_minor": 0
      },
      "text/plain": [
       "Epoch 1/1:   0%|          | 0/160 [00:00<?, ?it/s]"
      ]
     },
     "metadata": {},
     "output_type": "display_data"
    },
    {
     "name": "stdout",
     "output_type": "stream",
     "text": [
      "2023-04-06 22:51.27 [info     ] FQE_20230406225126: epoch=1 step=160 epoch=1 metrics={'time_sample_batch': 0.00012340247631072998, 'time_algorithm_update': 0.001656612753868103, 'loss': 0.10086567010730504, 'time_step': 0.0018349409103393555} step=160\n",
      "2023-04-06 22:51.27 [info     ] Model parameters are saved to d3rlpy_logs/FQE_20230406225126/model_160.pt\n"
     ]
    },
    {
     "data": {
      "application/vnd.jupyter.widget-view+json": {
       "model_id": "6d6117d660a9436cb45990dd6df18340",
       "version_major": 2,
       "version_minor": 0
      },
      "text/plain": [
       "[fit MWL model]:   0%|          | 0/2 [00:00<?, ?it/s]"
      ]
     },
     "metadata": {},
     "output_type": "display_data"
    },
    {
     "data": {
      "application/vnd.jupyter.widget-view+json": {
       "model_id": "68bbcd820e2f4499ad259c93f80f9dad",
       "version_major": 2,
       "version_minor": 0
      },
      "text/plain": [
       "[fitting_weight_function]:   0%|          | 0/100 [00:00<?, ?it/s]"
      ]
     },
     "metadata": {},
     "output_type": "display_data"
    },
    {
     "data": {
      "application/vnd.jupyter.widget-view+json": {
       "model_id": "235cabc26f124cf99b44cb071a0d2b3e",
       "version_major": 2,
       "version_minor": 0
      },
      "text/plain": [
       "[fitting_weight_function]:   0%|          | 0/100 [00:00<?, ?it/s]"
      ]
     },
     "metadata": {},
     "output_type": "display_data"
    },
    {
     "data": {
      "application/vnd.jupyter.widget-view+json": {
       "model_id": "1ec72415107d4871b1766cc577e72ad8",
       "version_major": 2,
       "version_minor": 0
      },
      "text/plain": [
       "[fitting_weight_function]:   0%|          | 0/100 [00:00<?, ?it/s]"
      ]
     },
     "metadata": {},
     "output_type": "display_data"
    },
    {
     "data": {
      "application/vnd.jupyter.widget-view+json": {
       "model_id": "b1e31d0fc923418b88579dd794086559",
       "version_major": 2,
       "version_minor": 0
      },
      "text/plain": [
       "[fitting_weight_function]:   0%|          | 0/100 [00:00<?, ?it/s]"
      ]
     },
     "metadata": {},
     "output_type": "display_data"
    },
    {
     "data": {
      "application/vnd.jupyter.widget-view+json": {
       "model_id": "639dff75116d480a835d687033966a52",
       "version_major": 2,
       "version_minor": 0
      },
      "text/plain": [
       "[collect input data: eval_policy]:   0%|          | 0/2 [00:00<?, ?it/s]"
      ]
     },
     "metadata": {},
     "output_type": "display_data"
    },
    {
     "data": {
      "application/vnd.jupyter.widget-view+json": {
       "model_id": "aacaf733d8714e498ffb97fe0ecced64",
       "version_major": 2,
       "version_minor": 0
      },
      "text/plain": [
       "[calculate on-policy policy value]:   0%|          | 0/100 [00:00<?, ?it/s]"
      ]
     },
     "metadata": {},
     "output_type": "display_data"
    },
    {
     "data": {
      "application/vnd.jupyter.widget-view+json": {
       "model_id": "a5b9bcd01c944f4ebbb8d8aebcbccc78",
       "version_major": 2,
       "version_minor": 0
      },
      "text/plain": [
       "[calculate on-policy policy value]:   0%|          | 0/100 [00:00<?, ?it/s]"
      ]
     },
     "metadata": {},
     "output_type": "display_data"
    },
    {
     "data": {
      "application/vnd.jupyter.widget-view+json": {
       "model_id": "948f6ac8025340e980468246e8273ffd",
       "version_major": 2,
       "version_minor": 0
      },
      "text/plain": [
       "[obtain_trajectories]:   0%|          | 0/1600 [00:00<?, ?it/s]"
      ]
     },
     "metadata": {},
     "output_type": "display_data"
    },
    {
     "data": {
      "application/vnd.jupyter.widget-view+json": {
       "model_id": "7e650906a4fd4a93a5065ff2937359b1",
       "version_major": 2,
       "version_minor": 0
      },
      "text/plain": [
       "[obtain_trajectories]:   0%|          | 0/1600 [00:00<?, ?it/s]"
      ]
     },
     "metadata": {},
     "output_type": "display_data"
    },
    {
     "name": "stdout",
     "output_type": "stream",
     "text": [
      "2023-04-06 22:52.54 [debug    ] RandomIterator is selected.\n",
      "2023-04-06 22:52.54 [info     ] Directory is created at d3rlpy_logs/CQL_20230406225254\n",
      "2023-04-06 22:52.54 [debug    ] Fitting action scaler...       action_scaler=min_max\n",
      "2023-04-06 22:52.54 [debug    ] Building models...\n",
      "2023-04-06 22:52.54 [debug    ] Models have been built.\n",
      "2023-04-06 22:52.54 [info     ] Parameters are saved to d3rlpy_logs/CQL_20230406225254/params.json params={'action_scaler': {'type': 'min_max', 'params': {'minimum': array([-1., -1., -1.]), 'maximum': array([1., 1., 1.])}}, 'actor_encoder_factory': {'type': 'vector', 'params': {'hidden_units': [30, 30], 'activation': 'relu', 'use_batch_norm': False, 'dropout_rate': None, 'use_dense': False}}, 'actor_learning_rate': 0.0001, 'actor_optim_factory': {'optim_cls': 'Adam', 'betas': (0.9, 0.999), 'eps': 1e-08, 'weight_decay': 0, 'amsgrad': False}, 'alpha_learning_rate': 0.0001, 'alpha_optim_factory': {'optim_cls': 'Adam', 'betas': (0.9, 0.999), 'eps': 1e-08, 'weight_decay': 0, 'amsgrad': False}, 'alpha_threshold': 10.0, 'batch_size': 256, 'conservative_weight': 5.0, 'critic_encoder_factory': {'type': 'vector', 'params': {'hidden_units': [30, 30], 'activation': 'relu', 'use_batch_norm': False, 'dropout_rate': None, 'use_dense': False}}, 'critic_learning_rate': 0.0003, 'critic_optim_factory': {'optim_cls': 'Adam', 'betas': (0.9, 0.999), 'eps': 1e-08, 'weight_decay': 0, 'amsgrad': False}, 'gamma': 0.99, 'generated_maxlen': 100000, 'initial_alpha': 1.0, 'initial_temperature': 1.0, 'n_action_samples': 10, 'n_critics': 2, 'n_frames': 1, 'n_steps': 1, 'q_func_factory': {'type': 'mean', 'params': {'share_encoder': False}}, 'real_ratio': 1.0, 'reward_scaler': None, 'scaler': None, 'soft_q_backup': False, 'tau': 0.005, 'temp_learning_rate': 0.0001, 'temp_optim_factory': {'optim_cls': 'Adam', 'betas': (0.9, 0.999), 'eps': 1e-08, 'weight_decay': 0, 'amsgrad': False}, 'use_gpu': None, 'algorithm': 'CQL', 'observation_shape': (5,), 'action_size': 3}\n"
     ]
    },
    {
     "data": {
      "application/vnd.jupyter.widget-view+json": {
       "model_id": "dcdffd7a519a4a91ab4ffedeb24eac0a",
       "version_major": 2,
       "version_minor": 0
      },
      "text/plain": [
       "Epoch 1/1:   0%|          | 0/10000 [00:00<?, ?it/s]"
      ]
     },
     "metadata": {},
     "output_type": "display_data"
    },
    {
     "name": "stdout",
     "output_type": "stream",
     "text": [
      "2023-04-06 22:57.14 [info     ] CQL_20230406225254: epoch=1 step=10000 epoch=1 metrics={'time_sample_batch': 0.0008086369037628174, 'time_algorithm_update': 0.02450559186935425, 'temp_loss': 3.221621136009693, 'temp': 0.6499464248895646, 'alpha_loss': -30.728352529716492, 'alpha': 1.7964570508718491, 'critic_loss': 32.34020126399994, 'actor_loss': -3.66782202167511, 'time_step': 0.02585710380077362} step=10000\n",
      "2023-04-06 22:57.14 [info     ] Model parameters are saved to d3rlpy_logs/CQL_20230406225254/model_10000.pt\n"
     ]
    },
    {
     "data": {
      "application/vnd.jupyter.widget-view+json": {
       "model_id": "91b1a0d585f44bea80dd0c8cab107b49",
       "version_major": 2,
       "version_minor": 0
      },
      "text/plain": [
       "[fit FQE model]:   0%|          | 0/2 [00:00<?, ?it/s]"
      ]
     },
     "metadata": {},
     "output_type": "display_data"
    },
    {
     "name": "stdout",
     "output_type": "stream",
     "text": [
      "2023-04-06 22:57.14 [debug    ] RoundIterator is selected.\n",
      "2023-04-06 22:57.14 [info     ] Directory is created at d3rlpy_logs/FQE_20230406225714\n",
      "2023-04-06 22:57.14 [debug    ] Fitting scaler...              scaler=min_max\n",
      "2023-04-06 22:57.14 [debug    ] Fitting action scaler...       action_scaler=min_max\n",
      "2023-04-06 22:57.14 [debug    ] Building models...\n",
      "2023-04-06 22:57.14 [debug    ] Models have been built.\n",
      "2023-04-06 22:57.14 [info     ] Parameters are saved to d3rlpy_logs/FQE_20230406225714/params.json params={'action_scaler': {'type': 'min_max', 'params': {'minimum': array([-1., -1., -1.]), 'maximum': array([1., 1., 1.])}}, 'batch_size': 100, 'encoder_factory': {'type': 'vector', 'params': {'hidden_units': [30, 30], 'activation': 'relu', 'use_batch_norm': False, 'dropout_rate': None, 'use_dense': False}}, 'gamma': 0.95, 'generated_maxlen': 100000, 'learning_rate': 0.0001, 'n_critics': 1, 'n_frames': 1, 'n_steps': 1, 'optim_factory': {'optim_cls': 'Adam', 'betas': (0.9, 0.999), 'eps': 1e-08, 'weight_decay': 0, 'amsgrad': False}, 'q_func_factory': {'type': 'mean', 'params': {'share_encoder': False}}, 'real_ratio': 1.0, 'reward_scaler': None, 'scaler': {'type': 'min_max', 'params': {'maximum': array([0.98746389, 0.98128175, 0.99891047, 0.97959882, 0.99419749]), 'minimum': array([-0.9731192 , -0.98033727, -0.99101233, -0.99381544, -0.9968906 ])}}, 'target_update_interval': 100, 'use_gpu': None, 'algorithm': 'FQE', 'observation_shape': (5,), 'action_size': 3}\n"
     ]
    },
    {
     "data": {
      "application/vnd.jupyter.widget-view+json": {
       "model_id": "48bcbef67ce8405396dd51e36de255fd",
       "version_major": 2,
       "version_minor": 0
      },
      "text/plain": [
       "Epoch 1/1:   0%|          | 0/160 [00:00<?, ?it/s]"
      ]
     },
     "metadata": {},
     "output_type": "display_data"
    },
    {
     "name": "stdout",
     "output_type": "stream",
     "text": [
      "2023-04-06 22:57.15 [info     ] FQE_20230406225714: epoch=1 step=160 epoch=1 metrics={'time_sample_batch': 0.00014287978410720825, 'time_algorithm_update': 0.0017963901162147522, 'loss': 0.09907479695975781, 'time_step': 0.0020445168018341066} step=160\n",
      "2023-04-06 22:57.15 [info     ] Model parameters are saved to d3rlpy_logs/FQE_20230406225714/model_160.pt\n",
      "2023-04-06 22:57.15 [debug    ] RoundIterator is selected.\n",
      "2023-04-06 22:57.15 [info     ] Directory is created at d3rlpy_logs/FQE_20230406225715\n",
      "2023-04-06 22:57.15 [debug    ] Fitting scaler...              scaler=min_max\n",
      "2023-04-06 22:57.15 [debug    ] Fitting action scaler...       action_scaler=min_max\n",
      "2023-04-06 22:57.15 [debug    ] Building models...\n",
      "2023-04-06 22:57.15 [debug    ] Models have been built.\n",
      "2023-04-06 22:57.15 [info     ] Parameters are saved to d3rlpy_logs/FQE_20230406225715/params.json params={'action_scaler': {'type': 'min_max', 'params': {'minimum': array([-1., -1., -1.]), 'maximum': array([1., 1., 1.])}}, 'batch_size': 100, 'encoder_factory': {'type': 'vector', 'params': {'hidden_units': [30, 30], 'activation': 'relu', 'use_batch_norm': False, 'dropout_rate': None, 'use_dense': False}}, 'gamma': 0.95, 'generated_maxlen': 100000, 'learning_rate': 0.0001, 'n_critics': 1, 'n_frames': 1, 'n_steps': 1, 'optim_factory': {'optim_cls': 'Adam', 'betas': (0.9, 0.999), 'eps': 1e-08, 'weight_decay': 0, 'amsgrad': False}, 'q_func_factory': {'type': 'mean', 'params': {'share_encoder': False}}, 'real_ratio': 1.0, 'reward_scaler': None, 'scaler': {'type': 'min_max', 'params': {'maximum': array([0.98746389, 0.98128175, 0.99891047, 0.97959882, 0.99419749]), 'minimum': array([-0.9731192 , -0.98033727, -0.99101233, -0.99381544, -0.9968906 ])}}, 'target_update_interval': 100, 'use_gpu': None, 'algorithm': 'FQE', 'observation_shape': (5,), 'action_size': 3}\n"
     ]
    },
    {
     "data": {
      "application/vnd.jupyter.widget-view+json": {
       "model_id": "4e19bf4d1c7947338710114730e3a5c6",
       "version_major": 2,
       "version_minor": 0
      },
      "text/plain": [
       "Epoch 1/1:   0%|          | 0/160 [00:00<?, ?it/s]"
      ]
     },
     "metadata": {},
     "output_type": "display_data"
    },
    {
     "name": "stdout",
     "output_type": "stream",
     "text": [
      "2023-04-06 22:57.15 [info     ] FQE_20230406225715: epoch=1 step=160 epoch=1 metrics={'time_sample_batch': 0.00011568665504455567, 'time_algorithm_update': 0.0014405161142349242, 'loss': 0.11089316639117897, 'time_step': 0.001619035005569458} step=160\n",
      "2023-04-06 22:57.15 [info     ] Model parameters are saved to d3rlpy_logs/FQE_20230406225715/model_160.pt\n"
     ]
    },
    {
     "data": {
      "application/vnd.jupyter.widget-view+json": {
       "model_id": "ef1927eb680345eaba18eda48a304c17",
       "version_major": 2,
       "version_minor": 0
      },
      "text/plain": [
       "[fit MWL model]:   0%|          | 0/2 [00:00<?, ?it/s]"
      ]
     },
     "metadata": {},
     "output_type": "display_data"
    },
    {
     "data": {
      "application/vnd.jupyter.widget-view+json": {
       "model_id": "05d9dcfe68a94088b44b05efcc02080d",
       "version_major": 2,
       "version_minor": 0
      },
      "text/plain": [
       "[fitting_weight_function]:   0%|          | 0/100 [00:00<?, ?it/s]"
      ]
     },
     "metadata": {},
     "output_type": "display_data"
    },
    {
     "data": {
      "application/vnd.jupyter.widget-view+json": {
       "model_id": "d24ed3ed540b437aa6522912b1cf110b",
       "version_major": 2,
       "version_minor": 0
      },
      "text/plain": [
       "[fitting_weight_function]:   0%|          | 0/100 [00:00<?, ?it/s]"
      ]
     },
     "metadata": {},
     "output_type": "display_data"
    },
    {
     "data": {
      "application/vnd.jupyter.widget-view+json": {
       "model_id": "f8e2050a93e54f8b81f64b20b2771cd3",
       "version_major": 2,
       "version_minor": 0
      },
      "text/plain": [
       "[fitting_weight_function]:   0%|          | 0/100 [00:00<?, ?it/s]"
      ]
     },
     "metadata": {},
     "output_type": "display_data"
    },
    {
     "data": {
      "application/vnd.jupyter.widget-view+json": {
       "model_id": "f55b71244ca143f59ce983751e59b6ee",
       "version_major": 2,
       "version_minor": 0
      },
      "text/plain": [
       "[fitting_weight_function]:   0%|          | 0/100 [00:00<?, ?it/s]"
      ]
     },
     "metadata": {},
     "output_type": "display_data"
    },
    {
     "data": {
      "application/vnd.jupyter.widget-view+json": {
       "model_id": "0fab958640f4473685a216acef8ea25c",
       "version_major": 2,
       "version_minor": 0
      },
      "text/plain": [
       "[collect input data: eval_policy]:   0%|          | 0/2 [00:00<?, ?it/s]"
      ]
     },
     "metadata": {},
     "output_type": "display_data"
    },
    {
     "data": {
      "application/vnd.jupyter.widget-view+json": {
       "model_id": "9ad6a1c86705422e8d99c0467794c10f",
       "version_major": 2,
       "version_minor": 0
      },
      "text/plain": [
       "[calculate on-policy policy value]:   0%|          | 0/100 [00:00<?, ?it/s]"
      ]
     },
     "metadata": {},
     "output_type": "display_data"
    },
    {
     "data": {
      "application/vnd.jupyter.widget-view+json": {
       "model_id": "0f71ba2974ce4884bfa2665b44ad0458",
       "version_major": 2,
       "version_minor": 0
      },
      "text/plain": [
       "[calculate on-policy policy value]:   0%|          | 0/100 [00:00<?, ?it/s]"
      ]
     },
     "metadata": {},
     "output_type": "display_data"
    },
    {
     "data": {
      "application/vnd.jupyter.widget-view+json": {
       "model_id": "224f56631c734ff895816856cdd88a0c",
       "version_major": 2,
       "version_minor": 0
      },
      "text/plain": [
       "[obtain_trajectories]:   0%|          | 0/1600 [00:00<?, ?it/s]"
      ]
     },
     "metadata": {},
     "output_type": "display_data"
    },
    {
     "data": {
      "application/vnd.jupyter.widget-view+json": {
       "model_id": "8c64d3273a3748dc8561fc64b1d5591b",
       "version_major": 2,
       "version_minor": 0
      },
      "text/plain": [
       "[obtain_trajectories]:   0%|          | 0/1600 [00:00<?, ?it/s]"
      ]
     },
     "metadata": {},
     "output_type": "display_data"
    },
    {
     "name": "stdout",
     "output_type": "stream",
     "text": [
      "2023-04-06 22:58.36 [debug    ] RandomIterator is selected.\n",
      "2023-04-06 22:58.36 [info     ] Directory is created at d3rlpy_logs/CQL_20230406225836\n",
      "2023-04-06 22:58.36 [debug    ] Fitting action scaler...       action_scaler=min_max\n",
      "2023-04-06 22:58.36 [debug    ] Building models...\n",
      "2023-04-06 22:58.36 [debug    ] Models have been built.\n",
      "2023-04-06 22:58.36 [info     ] Parameters are saved to d3rlpy_logs/CQL_20230406225836/params.json params={'action_scaler': {'type': 'min_max', 'params': {'minimum': array([-1., -1., -1.]), 'maximum': array([1., 1., 1.])}}, 'actor_encoder_factory': {'type': 'vector', 'params': {'hidden_units': [30, 30], 'activation': 'relu', 'use_batch_norm': False, 'dropout_rate': None, 'use_dense': False}}, 'actor_learning_rate': 0.0001, 'actor_optim_factory': {'optim_cls': 'Adam', 'betas': (0.9, 0.999), 'eps': 1e-08, 'weight_decay': 0, 'amsgrad': False}, 'alpha_learning_rate': 0.0001, 'alpha_optim_factory': {'optim_cls': 'Adam', 'betas': (0.9, 0.999), 'eps': 1e-08, 'weight_decay': 0, 'amsgrad': False}, 'alpha_threshold': 10.0, 'batch_size': 256, 'conservative_weight': 5.0, 'critic_encoder_factory': {'type': 'vector', 'params': {'hidden_units': [30, 30], 'activation': 'relu', 'use_batch_norm': False, 'dropout_rate': None, 'use_dense': False}}, 'critic_learning_rate': 0.0003, 'critic_optim_factory': {'optim_cls': 'Adam', 'betas': (0.9, 0.999), 'eps': 1e-08, 'weight_decay': 0, 'amsgrad': False}, 'gamma': 0.99, 'generated_maxlen': 100000, 'initial_alpha': 1.0, 'initial_temperature': 1.0, 'n_action_samples': 10, 'n_critics': 2, 'n_frames': 1, 'n_steps': 1, 'q_func_factory': {'type': 'mean', 'params': {'share_encoder': False}}, 'real_ratio': 1.0, 'reward_scaler': None, 'scaler': None, 'soft_q_backup': False, 'tau': 0.005, 'temp_learning_rate': 0.0001, 'temp_optim_factory': {'optim_cls': 'Adam', 'betas': (0.9, 0.999), 'eps': 1e-08, 'weight_decay': 0, 'amsgrad': False}, 'use_gpu': None, 'algorithm': 'CQL', 'observation_shape': (5,), 'action_size': 3}\n"
     ]
    },
    {
     "data": {
      "application/vnd.jupyter.widget-view+json": {
       "model_id": "82df050e487843e38d0e330d337031ec",
       "version_major": 2,
       "version_minor": 0
      },
      "text/plain": [
       "Epoch 1/1:   0%|          | 0/10000 [00:00<?, ?it/s]"
      ]
     },
     "metadata": {},
     "output_type": "display_data"
    },
    {
     "name": "stdout",
     "output_type": "stream",
     "text": [
      "2023-04-06 23:02.40 [info     ] CQL_20230406225836: epoch=1 step=10000 epoch=1 metrics={'time_sample_batch': 0.0007670422315597534, 'time_algorithm_update': 0.022960770797729492, 'temp_loss': 3.222513527607918, 'temp': 0.6501466210186482, 'alpha_loss': -30.698638493728637, 'alpha': 1.7962284811258316, 'critic_loss': 32.23741343269348, 'actor_loss': -3.6035616348028183, 'time_step': 0.02423789246082306} step=10000\n",
      "2023-04-06 23:02.40 [info     ] Model parameters are saved to d3rlpy_logs/CQL_20230406225836/model_10000.pt\n"
     ]
    },
    {
     "data": {
      "application/vnd.jupyter.widget-view+json": {
       "model_id": "5123e7cd1fbb48ae98697b44a37da2bd",
       "version_major": 2,
       "version_minor": 0
      },
      "text/plain": [
       "[fit FQE model]:   0%|          | 0/2 [00:00<?, ?it/s]"
      ]
     },
     "metadata": {},
     "output_type": "display_data"
    },
    {
     "name": "stdout",
     "output_type": "stream",
     "text": [
      "2023-04-06 23:02.41 [debug    ] RoundIterator is selected.\n",
      "2023-04-06 23:02.41 [info     ] Directory is created at d3rlpy_logs/FQE_20230406230241\n",
      "2023-04-06 23:02.41 [debug    ] Fitting scaler...              scaler=min_max\n",
      "2023-04-06 23:02.41 [debug    ] Fitting action scaler...       action_scaler=min_max\n",
      "2023-04-06 23:02.41 [debug    ] Building models...\n",
      "2023-04-06 23:02.41 [debug    ] Models have been built.\n",
      "2023-04-06 23:02.41 [info     ] Parameters are saved to d3rlpy_logs/FQE_20230406230241/params.json params={'action_scaler': {'type': 'min_max', 'params': {'minimum': array([-1., -1., -1.]), 'maximum': array([1., 1., 1.])}}, 'batch_size': 100, 'encoder_factory': {'type': 'vector', 'params': {'hidden_units': [30, 30], 'activation': 'relu', 'use_batch_norm': False, 'dropout_rate': None, 'use_dense': False}}, 'gamma': 0.95, 'generated_maxlen': 100000, 'learning_rate': 0.0001, 'n_critics': 1, 'n_frames': 1, 'n_steps': 1, 'optim_factory': {'optim_cls': 'Adam', 'betas': (0.9, 0.999), 'eps': 1e-08, 'weight_decay': 0, 'amsgrad': False}, 'q_func_factory': {'type': 'mean', 'params': {'share_encoder': False}}, 'real_ratio': 1.0, 'reward_scaler': None, 'scaler': {'type': 'min_max', 'params': {'maximum': array([0.96440446, 0.98432847, 0.99802625, 0.99535051, 0.99150287]), 'minimum': array([-0.96685104, -0.97465393, -0.99366228, -0.98307115, -0.99269714])}}, 'target_update_interval': 100, 'use_gpu': None, 'algorithm': 'FQE', 'observation_shape': (5,), 'action_size': 3}\n"
     ]
    },
    {
     "data": {
      "application/vnd.jupyter.widget-view+json": {
       "model_id": "57c6bc327be846b29068dd574563add8",
       "version_major": 2,
       "version_minor": 0
      },
      "text/plain": [
       "Epoch 1/1:   0%|          | 0/160 [00:00<?, ?it/s]"
      ]
     },
     "metadata": {},
     "output_type": "display_data"
    },
    {
     "name": "stdout",
     "output_type": "stream",
     "text": [
      "2023-04-06 23:02.41 [info     ] FQE_20230406230241: epoch=1 step=160 epoch=1 metrics={'time_sample_batch': 0.00012172162532806397, 'time_algorithm_update': 0.0014107927680015564, 'loss': 0.10093395966105163, 'time_step': 0.0015893489122390746} step=160\n",
      "2023-04-06 23:02.41 [info     ] Model parameters are saved to d3rlpy_logs/FQE_20230406230241/model_160.pt\n",
      "2023-04-06 23:02.41 [debug    ] RoundIterator is selected.\n",
      "2023-04-06 23:02.42 [info     ] Directory is created at d3rlpy_logs/FQE_20230406230242\n",
      "2023-04-06 23:02.42 [debug    ] Fitting scaler...              scaler=min_max\n",
      "2023-04-06 23:02.42 [debug    ] Fitting action scaler...       action_scaler=min_max\n",
      "2023-04-06 23:02.42 [debug    ] Building models...\n",
      "2023-04-06 23:02.42 [debug    ] Models have been built.\n",
      "2023-04-06 23:02.42 [info     ] Parameters are saved to d3rlpy_logs/FQE_20230406230242/params.json params={'action_scaler': {'type': 'min_max', 'params': {'minimum': array([-1., -1., -1.]), 'maximum': array([1., 1., 1.])}}, 'batch_size': 100, 'encoder_factory': {'type': 'vector', 'params': {'hidden_units': [30, 30], 'activation': 'relu', 'use_batch_norm': False, 'dropout_rate': None, 'use_dense': False}}, 'gamma': 0.95, 'generated_maxlen': 100000, 'learning_rate': 0.0001, 'n_critics': 1, 'n_frames': 1, 'n_steps': 1, 'optim_factory': {'optim_cls': 'Adam', 'betas': (0.9, 0.999), 'eps': 1e-08, 'weight_decay': 0, 'amsgrad': False}, 'q_func_factory': {'type': 'mean', 'params': {'share_encoder': False}}, 'real_ratio': 1.0, 'reward_scaler': None, 'scaler': {'type': 'min_max', 'params': {'maximum': array([0.96440446, 0.98432847, 0.99802625, 0.99535051, 0.99150287]), 'minimum': array([-0.96685104, -0.97465393, -0.99366228, -0.98307115, -0.99269714])}}, 'target_update_interval': 100, 'use_gpu': None, 'algorithm': 'FQE', 'observation_shape': (5,), 'action_size': 3}\n"
     ]
    },
    {
     "data": {
      "application/vnd.jupyter.widget-view+json": {
       "model_id": "06683365c8354d6c83f199b155c14375",
       "version_major": 2,
       "version_minor": 0
      },
      "text/plain": [
       "Epoch 1/1:   0%|          | 0/160 [00:00<?, ?it/s]"
      ]
     },
     "metadata": {},
     "output_type": "display_data"
    },
    {
     "name": "stdout",
     "output_type": "stream",
     "text": [
      "2023-04-06 23:02.42 [info     ] FQE_20230406230242: epoch=1 step=160 epoch=1 metrics={'time_sample_batch': 0.00011497288942337036, 'time_algorithm_update': 0.001578560471534729, 'loss': 0.1253099567256868, 'time_step': 0.0017523199319839477} step=160\n",
      "2023-04-06 23:02.42 [info     ] Model parameters are saved to d3rlpy_logs/FQE_20230406230242/model_160.pt\n"
     ]
    },
    {
     "data": {
      "application/vnd.jupyter.widget-view+json": {
       "model_id": "ad13416b6e4e4e0c935e783d8bd3fb32",
       "version_major": 2,
       "version_minor": 0
      },
      "text/plain": [
       "[fit MWL model]:   0%|          | 0/2 [00:00<?, ?it/s]"
      ]
     },
     "metadata": {},
     "output_type": "display_data"
    },
    {
     "data": {
      "application/vnd.jupyter.widget-view+json": {
       "model_id": "d4e8aca7103a484b9b68d07a08762725",
       "version_major": 2,
       "version_minor": 0
      },
      "text/plain": [
       "[fitting_weight_function]:   0%|          | 0/100 [00:00<?, ?it/s]"
      ]
     },
     "metadata": {},
     "output_type": "display_data"
    },
    {
     "data": {
      "application/vnd.jupyter.widget-view+json": {
       "model_id": "3cb072d0f21643848ed241ad226119e8",
       "version_major": 2,
       "version_minor": 0
      },
      "text/plain": [
       "[fitting_weight_function]:   0%|          | 0/100 [00:00<?, ?it/s]"
      ]
     },
     "metadata": {},
     "output_type": "display_data"
    },
    {
     "data": {
      "application/vnd.jupyter.widget-view+json": {
       "model_id": "b84d9426c4754d87893de368840ca8f2",
       "version_major": 2,
       "version_minor": 0
      },
      "text/plain": [
       "[fitting_weight_function]:   0%|          | 0/100 [00:00<?, ?it/s]"
      ]
     },
     "metadata": {},
     "output_type": "display_data"
    },
    {
     "data": {
      "application/vnd.jupyter.widget-view+json": {
       "model_id": "917260ad48f04fca8c5896ed4b4981d1",
       "version_major": 2,
       "version_minor": 0
      },
      "text/plain": [
       "[fitting_weight_function]:   0%|          | 0/100 [00:00<?, ?it/s]"
      ]
     },
     "metadata": {},
     "output_type": "display_data"
    },
    {
     "data": {
      "application/vnd.jupyter.widget-view+json": {
       "model_id": "2944e849081445f1b50b3574391db068",
       "version_major": 2,
       "version_minor": 0
      },
      "text/plain": [
       "[collect input data: eval_policy]:   0%|          | 0/2 [00:00<?, ?it/s]"
      ]
     },
     "metadata": {},
     "output_type": "display_data"
    },
    {
     "data": {
      "application/vnd.jupyter.widget-view+json": {
       "model_id": "752a4dc44b694f3ba6ad912de7fe7e2b",
       "version_major": 2,
       "version_minor": 0
      },
      "text/plain": [
       "[calculate on-policy policy value]:   0%|          | 0/100 [00:00<?, ?it/s]"
      ]
     },
     "metadata": {},
     "output_type": "display_data"
    },
    {
     "data": {
      "application/vnd.jupyter.widget-view+json": {
       "model_id": "13fcf94bcc3f471cae360a5977e089ff",
       "version_major": 2,
       "version_minor": 0
      },
      "text/plain": [
       "[calculate on-policy policy value]:   0%|          | 0/100 [00:00<?, ?it/s]"
      ]
     },
     "metadata": {},
     "output_type": "display_data"
    },
    {
     "data": {
      "application/vnd.jupyter.widget-view+json": {
       "model_id": "82dddea9af0d433486c918930fc71a2f",
       "version_major": 2,
       "version_minor": 0
      },
      "text/plain": [
       "[obtain_trajectories]:   0%|          | 0/1600 [00:00<?, ?it/s]"
      ]
     },
     "metadata": {},
     "output_type": "display_data"
    },
    {
     "data": {
      "application/vnd.jupyter.widget-view+json": {
       "model_id": "8982897ba52e4fe792cdfc3faaea5566",
       "version_major": 2,
       "version_minor": 0
      },
      "text/plain": [
       "[obtain_trajectories]:   0%|          | 0/1600 [00:00<?, ?it/s]"
      ]
     },
     "metadata": {},
     "output_type": "display_data"
    },
    {
     "name": "stdout",
     "output_type": "stream",
     "text": [
      "2023-04-06 23:04.07 [debug    ] RandomIterator is selected.\n",
      "2023-04-06 23:04.07 [info     ] Directory is created at d3rlpy_logs/CQL_20230406230407\n",
      "2023-04-06 23:04.07 [debug    ] Fitting action scaler...       action_scaler=min_max\n",
      "2023-04-06 23:04.07 [debug    ] Building models...\n",
      "2023-04-06 23:04.07 [debug    ] Models have been built.\n",
      "2023-04-06 23:04.07 [info     ] Parameters are saved to d3rlpy_logs/CQL_20230406230407/params.json params={'action_scaler': {'type': 'min_max', 'params': {'minimum': array([-1., -1., -1.]), 'maximum': array([1., 1., 1.])}}, 'actor_encoder_factory': {'type': 'vector', 'params': {'hidden_units': [30, 30], 'activation': 'relu', 'use_batch_norm': False, 'dropout_rate': None, 'use_dense': False}}, 'actor_learning_rate': 0.0001, 'actor_optim_factory': {'optim_cls': 'Adam', 'betas': (0.9, 0.999), 'eps': 1e-08, 'weight_decay': 0, 'amsgrad': False}, 'alpha_learning_rate': 0.0001, 'alpha_optim_factory': {'optim_cls': 'Adam', 'betas': (0.9, 0.999), 'eps': 1e-08, 'weight_decay': 0, 'amsgrad': False}, 'alpha_threshold': 10.0, 'batch_size': 256, 'conservative_weight': 5.0, 'critic_encoder_factory': {'type': 'vector', 'params': {'hidden_units': [30, 30], 'activation': 'relu', 'use_batch_norm': False, 'dropout_rate': None, 'use_dense': False}}, 'critic_learning_rate': 0.0003, 'critic_optim_factory': {'optim_cls': 'Adam', 'betas': (0.9, 0.999), 'eps': 1e-08, 'weight_decay': 0, 'amsgrad': False}, 'gamma': 0.99, 'generated_maxlen': 100000, 'initial_alpha': 1.0, 'initial_temperature': 1.0, 'n_action_samples': 10, 'n_critics': 2, 'n_frames': 1, 'n_steps': 1, 'q_func_factory': {'type': 'mean', 'params': {'share_encoder': False}}, 'real_ratio': 1.0, 'reward_scaler': None, 'scaler': None, 'soft_q_backup': False, 'tau': 0.005, 'temp_learning_rate': 0.0001, 'temp_optim_factory': {'optim_cls': 'Adam', 'betas': (0.9, 0.999), 'eps': 1e-08, 'weight_decay': 0, 'amsgrad': False}, 'use_gpu': None, 'algorithm': 'CQL', 'observation_shape': (5,), 'action_size': 3}\n"
     ]
    },
    {
     "data": {
      "application/vnd.jupyter.widget-view+json": {
       "model_id": "6f63fb045e42481499885aedc23e8144",
       "version_major": 2,
       "version_minor": 0
      },
      "text/plain": [
       "Epoch 1/1:   0%|          | 0/10000 [00:00<?, ?it/s]"
      ]
     },
     "metadata": {},
     "output_type": "display_data"
    },
    {
     "name": "stdout",
     "output_type": "stream",
     "text": [
      "2023-04-06 23:08.22 [info     ] CQL_20230406230407: epoch=1 step=10000 epoch=1 metrics={'time_sample_batch': 0.0008052526712417602, 'time_algorithm_update': 0.024002246737480165, 'temp_loss': 3.2228070149064063, 'temp': 0.650023044782877, 'alpha_loss': -30.692069256591797, 'alpha': 1.7963091722846032, 'critic_loss': 32.353226483535764, 'actor_loss': -3.7232103502988814, 'time_step': 0.025331292819976807} step=10000\n",
      "2023-04-06 23:08.22 [info     ] Model parameters are saved to d3rlpy_logs/CQL_20230406230407/model_10000.pt\n"
     ]
    },
    {
     "data": {
      "application/vnd.jupyter.widget-view+json": {
       "model_id": "64f4f3314c7247a8a48e1d2236bc9479",
       "version_major": 2,
       "version_minor": 0
      },
      "text/plain": [
       "[fit FQE model]:   0%|          | 0/2 [00:00<?, ?it/s]"
      ]
     },
     "metadata": {},
     "output_type": "display_data"
    },
    {
     "name": "stdout",
     "output_type": "stream",
     "text": [
      "2023-04-06 23:08.22 [debug    ] RoundIterator is selected.\n",
      "2023-04-06 23:08.22 [info     ] Directory is created at d3rlpy_logs/FQE_20230406230822\n",
      "2023-04-06 23:08.22 [debug    ] Fitting scaler...              scaler=min_max\n",
      "2023-04-06 23:08.22 [debug    ] Fitting action scaler...       action_scaler=min_max\n",
      "2023-04-06 23:08.22 [debug    ] Building models...\n",
      "2023-04-06 23:08.22 [debug    ] Models have been built.\n",
      "2023-04-06 23:08.22 [info     ] Parameters are saved to d3rlpy_logs/FQE_20230406230822/params.json params={'action_scaler': {'type': 'min_max', 'params': {'minimum': array([-1., -1., -1.]), 'maximum': array([1., 1., 1.])}}, 'batch_size': 100, 'encoder_factory': {'type': 'vector', 'params': {'hidden_units': [30, 30], 'activation': 'relu', 'use_batch_norm': False, 'dropout_rate': None, 'use_dense': False}}, 'gamma': 0.95, 'generated_maxlen': 100000, 'learning_rate': 0.0001, 'n_critics': 1, 'n_frames': 1, 'n_steps': 1, 'optim_factory': {'optim_cls': 'Adam', 'betas': (0.9, 0.999), 'eps': 1e-08, 'weight_decay': 0, 'amsgrad': False}, 'q_func_factory': {'type': 'mean', 'params': {'share_encoder': False}}, 'real_ratio': 1.0, 'reward_scaler': None, 'scaler': {'type': 'min_max', 'params': {'maximum': array([0.98929948, 0.95373902, 0.99837242, 0.97342693, 0.99317405]), 'minimum': array([-0.98466621, -0.97776309, -0.9982276 , -0.96990445, -0.98949524])}}, 'target_update_interval': 100, 'use_gpu': None, 'algorithm': 'FQE', 'observation_shape': (5,), 'action_size': 3}\n"
     ]
    },
    {
     "data": {
      "application/vnd.jupyter.widget-view+json": {
       "model_id": "960fe7aea87444a89e0e8f547b53968b",
       "version_major": 2,
       "version_minor": 0
      },
      "text/plain": [
       "Epoch 1/1:   0%|          | 0/160 [00:00<?, ?it/s]"
      ]
     },
     "metadata": {},
     "output_type": "display_data"
    },
    {
     "name": "stdout",
     "output_type": "stream",
     "text": [
      "2023-04-06 23:08.23 [info     ] FQE_20230406230822: epoch=1 step=160 epoch=1 metrics={'time_sample_batch': 0.00011288076639175415, 'time_algorithm_update': 0.0013464048504829406, 'loss': 0.10528728729113937, 'time_step': 0.0015108585357666016} step=160\n",
      "2023-04-06 23:08.23 [info     ] Model parameters are saved to d3rlpy_logs/FQE_20230406230822/model_160.pt\n",
      "2023-04-06 23:08.23 [debug    ] RoundIterator is selected.\n",
      "2023-04-06 23:08.23 [info     ] Directory is created at d3rlpy_logs/FQE_20230406230823\n",
      "2023-04-06 23:08.23 [debug    ] Fitting scaler...              scaler=min_max\n",
      "2023-04-06 23:08.23 [debug    ] Fitting action scaler...       action_scaler=min_max\n",
      "2023-04-06 23:08.23 [debug    ] Building models...\n",
      "2023-04-06 23:08.23 [debug    ] Models have been built.\n",
      "2023-04-06 23:08.23 [info     ] Parameters are saved to d3rlpy_logs/FQE_20230406230823/params.json params={'action_scaler': {'type': 'min_max', 'params': {'minimum': array([-1., -1., -1.]), 'maximum': array([1., 1., 1.])}}, 'batch_size': 100, 'encoder_factory': {'type': 'vector', 'params': {'hidden_units': [30, 30], 'activation': 'relu', 'use_batch_norm': False, 'dropout_rate': None, 'use_dense': False}}, 'gamma': 0.95, 'generated_maxlen': 100000, 'learning_rate': 0.0001, 'n_critics': 1, 'n_frames': 1, 'n_steps': 1, 'optim_factory': {'optim_cls': 'Adam', 'betas': (0.9, 0.999), 'eps': 1e-08, 'weight_decay': 0, 'amsgrad': False}, 'q_func_factory': {'type': 'mean', 'params': {'share_encoder': False}}, 'real_ratio': 1.0, 'reward_scaler': None, 'scaler': {'type': 'min_max', 'params': {'maximum': array([0.98929948, 0.95373902, 0.99837242, 0.97342693, 0.99317405]), 'minimum': array([-0.98466621, -0.97776309, -0.9982276 , -0.96990445, -0.98949524])}}, 'target_update_interval': 100, 'use_gpu': None, 'algorithm': 'FQE', 'observation_shape': (5,), 'action_size': 3}\n"
     ]
    },
    {
     "data": {
      "application/vnd.jupyter.widget-view+json": {
       "model_id": "3fa886bbb92740058c78b285276f782d",
       "version_major": 2,
       "version_minor": 0
      },
      "text/plain": [
       "Epoch 1/1:   0%|          | 0/160 [00:00<?, ?it/s]"
      ]
     },
     "metadata": {},
     "output_type": "display_data"
    },
    {
     "name": "stdout",
     "output_type": "stream",
     "text": [
      "2023-04-06 23:08.23 [info     ] FQE_20230406230823: epoch=1 step=160 epoch=1 metrics={'time_sample_batch': 0.00011727809906005859, 'time_algorithm_update': 0.0013630121946334838, 'loss': 0.10703067868016661, 'time_step': 0.0015341848134994506} step=160\n",
      "2023-04-06 23:08.23 [info     ] Model parameters are saved to d3rlpy_logs/FQE_20230406230823/model_160.pt\n"
     ]
    },
    {
     "data": {
      "application/vnd.jupyter.widget-view+json": {
       "model_id": "e209224f5a9343c9aa40787229e28749",
       "version_major": 2,
       "version_minor": 0
      },
      "text/plain": [
       "[fit MWL model]:   0%|          | 0/2 [00:00<?, ?it/s]"
      ]
     },
     "metadata": {},
     "output_type": "display_data"
    },
    {
     "data": {
      "application/vnd.jupyter.widget-view+json": {
       "model_id": "68e1f1ff7bc849b58b319e6a0d78fc63",
       "version_major": 2,
       "version_minor": 0
      },
      "text/plain": [
       "[fitting_weight_function]:   0%|          | 0/100 [00:00<?, ?it/s]"
      ]
     },
     "metadata": {},
     "output_type": "display_data"
    },
    {
     "data": {
      "application/vnd.jupyter.widget-view+json": {
       "model_id": "24572925b6e84dc3b2c74c6604178749",
       "version_major": 2,
       "version_minor": 0
      },
      "text/plain": [
       "[fitting_weight_function]:   0%|          | 0/100 [00:00<?, ?it/s]"
      ]
     },
     "metadata": {},
     "output_type": "display_data"
    },
    {
     "data": {
      "application/vnd.jupyter.widget-view+json": {
       "model_id": "b66a4403303349f096651d360937739c",
       "version_major": 2,
       "version_minor": 0
      },
      "text/plain": [
       "[fitting_weight_function]:   0%|          | 0/100 [00:00<?, ?it/s]"
      ]
     },
     "metadata": {},
     "output_type": "display_data"
    },
    {
     "data": {
      "application/vnd.jupyter.widget-view+json": {
       "model_id": "c481e3c9c1394956bb2cd0e59c70ee33",
       "version_major": 2,
       "version_minor": 0
      },
      "text/plain": [
       "[fitting_weight_function]:   0%|          | 0/100 [00:00<?, ?it/s]"
      ]
     },
     "metadata": {},
     "output_type": "display_data"
    },
    {
     "data": {
      "application/vnd.jupyter.widget-view+json": {
       "model_id": "fa41b7be282e4dbb8f3aa1842ca14c2e",
       "version_major": 2,
       "version_minor": 0
      },
      "text/plain": [
       "[collect input data: eval_policy]:   0%|          | 0/2 [00:00<?, ?it/s]"
      ]
     },
     "metadata": {},
     "output_type": "display_data"
    },
    {
     "data": {
      "application/vnd.jupyter.widget-view+json": {
       "model_id": "f09d9eb23c534138b1db55106c643634",
       "version_major": 2,
       "version_minor": 0
      },
      "text/plain": [
       "[calculate on-policy policy value]:   0%|          | 0/100 [00:00<?, ?it/s]"
      ]
     },
     "metadata": {},
     "output_type": "display_data"
    },
    {
     "data": {
      "application/vnd.jupyter.widget-view+json": {
       "model_id": "d319b320bbc340e0a21a7233754a3c4f",
       "version_major": 2,
       "version_minor": 0
      },
      "text/plain": [
       "[calculate on-policy policy value]:   0%|          | 0/100 [00:00<?, ?it/s]"
      ]
     },
     "metadata": {},
     "output_type": "display_data"
    },
    {
     "data": {
      "application/vnd.jupyter.widget-view+json": {
       "model_id": "9417595fd1d3411eb86ce60fdde86312",
       "version_major": 2,
       "version_minor": 0
      },
      "text/plain": [
       "[obtain_trajectories]:   0%|          | 0/1600 [00:00<?, ?it/s]"
      ]
     },
     "metadata": {},
     "output_type": "display_data"
    },
    {
     "data": {
      "application/vnd.jupyter.widget-view+json": {
       "model_id": "d2386a8274444320bdc7a13656003b69",
       "version_major": 2,
       "version_minor": 0
      },
      "text/plain": [
       "[obtain_trajectories]:   0%|          | 0/1600 [00:00<?, ?it/s]"
      ]
     },
     "metadata": {},
     "output_type": "display_data"
    },
    {
     "name": "stdout",
     "output_type": "stream",
     "text": [
      "2023-04-06 23:09.48 [debug    ] RandomIterator is selected.\n",
      "2023-04-06 23:09.48 [info     ] Directory is created at d3rlpy_logs/CQL_20230406230948\n",
      "2023-04-06 23:09.48 [debug    ] Fitting action scaler...       action_scaler=min_max\n",
      "2023-04-06 23:09.48 [debug    ] Building models...\n",
      "2023-04-06 23:09.48 [debug    ] Models have been built.\n",
      "2023-04-06 23:09.48 [info     ] Parameters are saved to d3rlpy_logs/CQL_20230406230948/params.json params={'action_scaler': {'type': 'min_max', 'params': {'minimum': array([-1., -1., -1.]), 'maximum': array([1., 1., 1.])}}, 'actor_encoder_factory': {'type': 'vector', 'params': {'hidden_units': [30, 30], 'activation': 'relu', 'use_batch_norm': False, 'dropout_rate': None, 'use_dense': False}}, 'actor_learning_rate': 0.0001, 'actor_optim_factory': {'optim_cls': 'Adam', 'betas': (0.9, 0.999), 'eps': 1e-08, 'weight_decay': 0, 'amsgrad': False}, 'alpha_learning_rate': 0.0001, 'alpha_optim_factory': {'optim_cls': 'Adam', 'betas': (0.9, 0.999), 'eps': 1e-08, 'weight_decay': 0, 'amsgrad': False}, 'alpha_threshold': 10.0, 'batch_size': 256, 'conservative_weight': 5.0, 'critic_encoder_factory': {'type': 'vector', 'params': {'hidden_units': [30, 30], 'activation': 'relu', 'use_batch_norm': False, 'dropout_rate': None, 'use_dense': False}}, 'critic_learning_rate': 0.0003, 'critic_optim_factory': {'optim_cls': 'Adam', 'betas': (0.9, 0.999), 'eps': 1e-08, 'weight_decay': 0, 'amsgrad': False}, 'gamma': 0.99, 'generated_maxlen': 100000, 'initial_alpha': 1.0, 'initial_temperature': 1.0, 'n_action_samples': 10, 'n_critics': 2, 'n_frames': 1, 'n_steps': 1, 'q_func_factory': {'type': 'mean', 'params': {'share_encoder': False}}, 'real_ratio': 1.0, 'reward_scaler': None, 'scaler': None, 'soft_q_backup': False, 'tau': 0.005, 'temp_learning_rate': 0.0001, 'temp_optim_factory': {'optim_cls': 'Adam', 'betas': (0.9, 0.999), 'eps': 1e-08, 'weight_decay': 0, 'amsgrad': False}, 'use_gpu': None, 'algorithm': 'CQL', 'observation_shape': (5,), 'action_size': 3}\n"
     ]
    },
    {
     "data": {
      "application/vnd.jupyter.widget-view+json": {
       "model_id": "c0578579d5c84ded8f4aeb8937beea78",
       "version_major": 2,
       "version_minor": 0
      },
      "text/plain": [
       "Epoch 1/1:   0%|          | 0/10000 [00:00<?, ?it/s]"
      ]
     },
     "metadata": {},
     "output_type": "display_data"
    },
    {
     "name": "stdout",
     "output_type": "stream",
     "text": [
      "2023-04-06 23:14.01 [info     ] CQL_20230406230948: epoch=1 step=10000 epoch=1 metrics={'time_sample_batch': 0.0008089086294174194, 'time_algorithm_update': 0.023731599855422975, 'temp_loss': 3.221377250492573, 'temp': 0.6500939409077168, 'alpha_loss': -30.71577404499054, 'alpha': 1.7964972442507743, 'critic_loss': 32.37781273174286, 'actor_loss': -3.7703486584544184, 'time_step': 0.025080764961242674} step=10000\n",
      "2023-04-06 23:14.01 [info     ] Model parameters are saved to d3rlpy_logs/CQL_20230406230948/model_10000.pt\n"
     ]
    },
    {
     "data": {
      "application/vnd.jupyter.widget-view+json": {
       "model_id": "c8aa716e413e42918b2f12f7f036b0a4",
       "version_major": 2,
       "version_minor": 0
      },
      "text/plain": [
       "[fit FQE model]:   0%|          | 0/2 [00:00<?, ?it/s]"
      ]
     },
     "metadata": {},
     "output_type": "display_data"
    },
    {
     "name": "stdout",
     "output_type": "stream",
     "text": [
      "2023-04-06 23:14.01 [debug    ] RoundIterator is selected.\n",
      "2023-04-06 23:14.01 [info     ] Directory is created at d3rlpy_logs/FQE_20230406231401\n",
      "2023-04-06 23:14.01 [debug    ] Fitting scaler...              scaler=min_max\n",
      "2023-04-06 23:14.01 [debug    ] Fitting action scaler...       action_scaler=min_max\n",
      "2023-04-06 23:14.01 [debug    ] Building models...\n",
      "2023-04-06 23:14.01 [debug    ] Models have been built.\n",
      "2023-04-06 23:14.01 [info     ] Parameters are saved to d3rlpy_logs/FQE_20230406231401/params.json params={'action_scaler': {'type': 'min_max', 'params': {'minimum': array([-1., -1., -1.]), 'maximum': array([1., 1., 1.])}}, 'batch_size': 100, 'encoder_factory': {'type': 'vector', 'params': {'hidden_units': [30, 30], 'activation': 'relu', 'use_batch_norm': False, 'dropout_rate': None, 'use_dense': False}}, 'gamma': 0.95, 'generated_maxlen': 100000, 'learning_rate': 0.0001, 'n_critics': 1, 'n_frames': 1, 'n_steps': 1, 'optim_factory': {'optim_cls': 'Adam', 'betas': (0.9, 0.999), 'eps': 1e-08, 'weight_decay': 0, 'amsgrad': False}, 'q_func_factory': {'type': 'mean', 'params': {'share_encoder': False}}, 'real_ratio': 1.0, 'reward_scaler': None, 'scaler': {'type': 'min_max', 'params': {'maximum': array([0.98452911, 0.99098894, 0.99910495, 0.97733001, 0.99842899]), 'minimum': array([-0.95730001, -0.98573866, -0.99757357, -0.97880821, -0.99407693])}}, 'target_update_interval': 100, 'use_gpu': None, 'algorithm': 'FQE', 'observation_shape': (5,), 'action_size': 3}\n"
     ]
    },
    {
     "data": {
      "application/vnd.jupyter.widget-view+json": {
       "model_id": "638c7131fa754728b0659a65264feeec",
       "version_major": 2,
       "version_minor": 0
      },
      "text/plain": [
       "Epoch 1/1:   0%|          | 0/160 [00:00<?, ?it/s]"
      ]
     },
     "metadata": {},
     "output_type": "display_data"
    },
    {
     "name": "stdout",
     "output_type": "stream",
     "text": [
      "2023-04-06 23:14.01 [info     ] FQE_20230406231401: epoch=1 step=160 epoch=1 metrics={'time_sample_batch': 0.00011159926652908325, 'time_algorithm_update': 0.0013669610023498535, 'loss': 0.1057461453601718, 'time_step': 0.0015301302075386048} step=160\n",
      "2023-04-06 23:14.01 [info     ] Model parameters are saved to d3rlpy_logs/FQE_20230406231401/model_160.pt\n",
      "2023-04-06 23:14.01 [debug    ] RoundIterator is selected.\n",
      "2023-04-06 23:14.02 [info     ] Directory is created at d3rlpy_logs/FQE_20230406231402\n",
      "2023-04-06 23:14.02 [debug    ] Fitting scaler...              scaler=min_max\n",
      "2023-04-06 23:14.02 [debug    ] Fitting action scaler...       action_scaler=min_max\n",
      "2023-04-06 23:14.02 [debug    ] Building models...\n",
      "2023-04-06 23:14.02 [debug    ] Models have been built.\n",
      "2023-04-06 23:14.02 [info     ] Parameters are saved to d3rlpy_logs/FQE_20230406231402/params.json params={'action_scaler': {'type': 'min_max', 'params': {'minimum': array([-1., -1., -1.]), 'maximum': array([1., 1., 1.])}}, 'batch_size': 100, 'encoder_factory': {'type': 'vector', 'params': {'hidden_units': [30, 30], 'activation': 'relu', 'use_batch_norm': False, 'dropout_rate': None, 'use_dense': False}}, 'gamma': 0.95, 'generated_maxlen': 100000, 'learning_rate': 0.0001, 'n_critics': 1, 'n_frames': 1, 'n_steps': 1, 'optim_factory': {'optim_cls': 'Adam', 'betas': (0.9, 0.999), 'eps': 1e-08, 'weight_decay': 0, 'amsgrad': False}, 'q_func_factory': {'type': 'mean', 'params': {'share_encoder': False}}, 'real_ratio': 1.0, 'reward_scaler': None, 'scaler': {'type': 'min_max', 'params': {'maximum': array([0.98452911, 0.99098894, 0.99910495, 0.97733001, 0.99842899]), 'minimum': array([-0.95730001, -0.98573866, -0.99757357, -0.97880821, -0.99407693])}}, 'target_update_interval': 100, 'use_gpu': None, 'algorithm': 'FQE', 'observation_shape': (5,), 'action_size': 3}\n"
     ]
    },
    {
     "data": {
      "application/vnd.jupyter.widget-view+json": {
       "model_id": "bbc7f756c6754a09baa833759400fb18",
       "version_major": 2,
       "version_minor": 0
      },
      "text/plain": [
       "Epoch 1/1:   0%|          | 0/160 [00:00<?, ?it/s]"
      ]
     },
     "metadata": {},
     "output_type": "display_data"
    },
    {
     "name": "stdout",
     "output_type": "stream",
     "text": [
      "2023-04-06 23:14.03 [info     ] FQE_20230406231402: epoch=1 step=160 epoch=1 metrics={'time_sample_batch': 0.00011617094278335572, 'time_algorithm_update': 0.001550765335559845, 'loss': 0.12118881344795226, 'time_step': 0.0017228469252586365} step=160\n",
      "2023-04-06 23:14.03 [info     ] Model parameters are saved to d3rlpy_logs/FQE_20230406231402/model_160.pt\n"
     ]
    },
    {
     "data": {
      "application/vnd.jupyter.widget-view+json": {
       "model_id": "d3b2033ef8b5426b866892562222fda8",
       "version_major": 2,
       "version_minor": 0
      },
      "text/plain": [
       "[fit MWL model]:   0%|          | 0/2 [00:00<?, ?it/s]"
      ]
     },
     "metadata": {},
     "output_type": "display_data"
    },
    {
     "data": {
      "application/vnd.jupyter.widget-view+json": {
       "model_id": "a1eedcfcefb24932ba7f2e33dbe7e8d4",
       "version_major": 2,
       "version_minor": 0
      },
      "text/plain": [
       "[fitting_weight_function]:   0%|          | 0/100 [00:00<?, ?it/s]"
      ]
     },
     "metadata": {},
     "output_type": "display_data"
    },
    {
     "data": {
      "application/vnd.jupyter.widget-view+json": {
       "model_id": "9e4b2c1a8c6b4a0b92e9b4ee03f42b66",
       "version_major": 2,
       "version_minor": 0
      },
      "text/plain": [
       "[fitting_weight_function]:   0%|          | 0/100 [00:00<?, ?it/s]"
      ]
     },
     "metadata": {},
     "output_type": "display_data"
    },
    {
     "data": {
      "application/vnd.jupyter.widget-view+json": {
       "model_id": "776b6b1a9236412d93d1b3461e4d6fc0",
       "version_major": 2,
       "version_minor": 0
      },
      "text/plain": [
       "[fitting_weight_function]:   0%|          | 0/100 [00:00<?, ?it/s]"
      ]
     },
     "metadata": {},
     "output_type": "display_data"
    },
    {
     "data": {
      "application/vnd.jupyter.widget-view+json": {
       "model_id": "aa01e231a516465f96ae0067afbd094c",
       "version_major": 2,
       "version_minor": 0
      },
      "text/plain": [
       "[fitting_weight_function]:   0%|          | 0/100 [00:00<?, ?it/s]"
      ]
     },
     "metadata": {},
     "output_type": "display_data"
    },
    {
     "data": {
      "application/vnd.jupyter.widget-view+json": {
       "model_id": "c13dee26101547708dd169f867e33464",
       "version_major": 2,
       "version_minor": 0
      },
      "text/plain": [
       "[collect input data: eval_policy]:   0%|          | 0/2 [00:00<?, ?it/s]"
      ]
     },
     "metadata": {},
     "output_type": "display_data"
    },
    {
     "data": {
      "application/vnd.jupyter.widget-view+json": {
       "model_id": "6fbbcc35892745ecbb144521cdbb4fc0",
       "version_major": 2,
       "version_minor": 0
      },
      "text/plain": [
       "[calculate on-policy policy value]:   0%|          | 0/100 [00:00<?, ?it/s]"
      ]
     },
     "metadata": {},
     "output_type": "display_data"
    },
    {
     "data": {
      "application/vnd.jupyter.widget-view+json": {
       "model_id": "a2150a7162754694a38f2158c81ec6dc",
       "version_major": 2,
       "version_minor": 0
      },
      "text/plain": [
       "[calculate on-policy policy value]:   0%|          | 0/100 [00:00<?, ?it/s]"
      ]
     },
     "metadata": {},
     "output_type": "display_data"
    },
    {
     "data": {
      "application/vnd.jupyter.widget-view+json": {
       "model_id": "4d0b6062c420430db723136c03c5bc4a",
       "version_major": 2,
       "version_minor": 0
      },
      "text/plain": [
       "[obtain_trajectories]:   0%|          | 0/1600 [00:00<?, ?it/s]"
      ]
     },
     "metadata": {},
     "output_type": "display_data"
    },
    {
     "data": {
      "application/vnd.jupyter.widget-view+json": {
       "model_id": "a8ac094fee954f039fa48d70992a029d",
       "version_major": 2,
       "version_minor": 0
      },
      "text/plain": [
       "[obtain_trajectories]:   0%|          | 0/1600 [00:00<?, ?it/s]"
      ]
     },
     "metadata": {},
     "output_type": "display_data"
    },
    {
     "name": "stdout",
     "output_type": "stream",
     "text": [
      "2023-04-06 23:15.24 [debug    ] RandomIterator is selected.\n",
      "2023-04-06 23:15.24 [info     ] Directory is created at d3rlpy_logs/CQL_20230406231524\n",
      "2023-04-06 23:15.24 [debug    ] Fitting action scaler...       action_scaler=min_max\n",
      "2023-04-06 23:15.24 [debug    ] Building models...\n",
      "2023-04-06 23:15.24 [debug    ] Models have been built.\n",
      "2023-04-06 23:15.24 [info     ] Parameters are saved to d3rlpy_logs/CQL_20230406231524/params.json params={'action_scaler': {'type': 'min_max', 'params': {'minimum': array([-1., -1., -1.]), 'maximum': array([1., 1., 1.])}}, 'actor_encoder_factory': {'type': 'vector', 'params': {'hidden_units': [30, 30], 'activation': 'relu', 'use_batch_norm': False, 'dropout_rate': None, 'use_dense': False}}, 'actor_learning_rate': 0.0001, 'actor_optim_factory': {'optim_cls': 'Adam', 'betas': (0.9, 0.999), 'eps': 1e-08, 'weight_decay': 0, 'amsgrad': False}, 'alpha_learning_rate': 0.0001, 'alpha_optim_factory': {'optim_cls': 'Adam', 'betas': (0.9, 0.999), 'eps': 1e-08, 'weight_decay': 0, 'amsgrad': False}, 'alpha_threshold': 10.0, 'batch_size': 256, 'conservative_weight': 5.0, 'critic_encoder_factory': {'type': 'vector', 'params': {'hidden_units': [30, 30], 'activation': 'relu', 'use_batch_norm': False, 'dropout_rate': None, 'use_dense': False}}, 'critic_learning_rate': 0.0003, 'critic_optim_factory': {'optim_cls': 'Adam', 'betas': (0.9, 0.999), 'eps': 1e-08, 'weight_decay': 0, 'amsgrad': False}, 'gamma': 0.99, 'generated_maxlen': 100000, 'initial_alpha': 1.0, 'initial_temperature': 1.0, 'n_action_samples': 10, 'n_critics': 2, 'n_frames': 1, 'n_steps': 1, 'q_func_factory': {'type': 'mean', 'params': {'share_encoder': False}}, 'real_ratio': 1.0, 'reward_scaler': None, 'scaler': None, 'soft_q_backup': False, 'tau': 0.005, 'temp_learning_rate': 0.0001, 'temp_optim_factory': {'optim_cls': 'Adam', 'betas': (0.9, 0.999), 'eps': 1e-08, 'weight_decay': 0, 'amsgrad': False}, 'use_gpu': None, 'algorithm': 'CQL', 'observation_shape': (5,), 'action_size': 3}\n"
     ]
    },
    {
     "data": {
      "application/vnd.jupyter.widget-view+json": {
       "model_id": "d2e18e897f774f288973b39bf83eea94",
       "version_major": 2,
       "version_minor": 0
      },
      "text/plain": [
       "Epoch 1/1:   0%|          | 0/10000 [00:00<?, ?it/s]"
      ]
     },
     "metadata": {},
     "output_type": "display_data"
    },
    {
     "name": "stdout",
     "output_type": "stream",
     "text": [
      "2023-04-06 23:19.29 [info     ] CQL_20230406231524: epoch=1 step=10000 epoch=1 metrics={'time_sample_batch': 0.0007758042812347412, 'time_algorithm_update': 0.022968676686286927, 'temp_loss': 3.2230713367342947, 'temp': 0.6501422660171986, 'alpha_loss': -30.711724411201477, 'alpha': 1.7962658484578133, 'critic_loss': 32.130375369262694, 'actor_loss': -3.541069312632084, 'time_step': 0.02425722408294678} step=10000\n",
      "2023-04-06 23:19.29 [info     ] Model parameters are saved to d3rlpy_logs/CQL_20230406231524/model_10000.pt\n"
     ]
    },
    {
     "data": {
      "application/vnd.jupyter.widget-view+json": {
       "model_id": "8fabe0642a104fc1b74c0b5e1c39189d",
       "version_major": 2,
       "version_minor": 0
      },
      "text/plain": [
       "[fit FQE model]:   0%|          | 0/2 [00:00<?, ?it/s]"
      ]
     },
     "metadata": {},
     "output_type": "display_data"
    },
    {
     "name": "stdout",
     "output_type": "stream",
     "text": [
      "2023-04-06 23:19.29 [debug    ] RoundIterator is selected.\n",
      "2023-04-06 23:19.29 [info     ] Directory is created at d3rlpy_logs/FQE_20230406231929\n",
      "2023-04-06 23:19.29 [debug    ] Fitting scaler...              scaler=min_max\n",
      "2023-04-06 23:19.29 [debug    ] Fitting action scaler...       action_scaler=min_max\n",
      "2023-04-06 23:19.29 [debug    ] Building models...\n",
      "2023-04-06 23:19.29 [debug    ] Models have been built.\n",
      "2023-04-06 23:19.29 [info     ] Parameters are saved to d3rlpy_logs/FQE_20230406231929/params.json params={'action_scaler': {'type': 'min_max', 'params': {'minimum': array([-1., -1., -1.]), 'maximum': array([1., 1., 1.])}}, 'batch_size': 100, 'encoder_factory': {'type': 'vector', 'params': {'hidden_units': [30, 30], 'activation': 'relu', 'use_batch_norm': False, 'dropout_rate': None, 'use_dense': False}}, 'gamma': 0.95, 'generated_maxlen': 100000, 'learning_rate': 0.0001, 'n_critics': 1, 'n_frames': 1, 'n_steps': 1, 'optim_factory': {'optim_cls': 'Adam', 'betas': (0.9, 0.999), 'eps': 1e-08, 'weight_decay': 0, 'amsgrad': False}, 'q_func_factory': {'type': 'mean', 'params': {'share_encoder': False}}, 'real_ratio': 1.0, 'reward_scaler': None, 'scaler': {'type': 'min_max', 'params': {'maximum': array([0.96940583, 0.99501021, 0.99701468, 0.999342  , 0.99622763]), 'minimum': array([-0.99044977, -0.96561411, -0.99716409, -0.96450877, -0.98345029])}}, 'target_update_interval': 100, 'use_gpu': None, 'algorithm': 'FQE', 'observation_shape': (5,), 'action_size': 3}\n"
     ]
    },
    {
     "data": {
      "application/vnd.jupyter.widget-view+json": {
       "model_id": "cf9eb70e92794d7fbf3bdc71a1f28440",
       "version_major": 2,
       "version_minor": 0
      },
      "text/plain": [
       "Epoch 1/1:   0%|          | 0/160 [00:00<?, ?it/s]"
      ]
     },
     "metadata": {},
     "output_type": "display_data"
    },
    {
     "name": "stdout",
     "output_type": "stream",
     "text": [
      "2023-04-06 23:19.29 [info     ] FQE_20230406231929: epoch=1 step=160 epoch=1 metrics={'time_sample_batch': 0.00011875033378601074, 'time_algorithm_update': 0.0014163434505462646, 'loss': 0.10014769108965993, 'time_step': 0.0015872076153755188} step=160\n",
      "2023-04-06 23:19.29 [info     ] Model parameters are saved to d3rlpy_logs/FQE_20230406231929/model_160.pt\n",
      "2023-04-06 23:19.29 [debug    ] RoundIterator is selected.\n",
      "2023-04-06 23:19.30 [info     ] Directory is created at d3rlpy_logs/FQE_20230406231930\n",
      "2023-04-06 23:19.30 [debug    ] Fitting scaler...              scaler=min_max\n",
      "2023-04-06 23:19.30 [debug    ] Fitting action scaler...       action_scaler=min_max\n",
      "2023-04-06 23:19.30 [debug    ] Building models...\n",
      "2023-04-06 23:19.30 [debug    ] Models have been built.\n",
      "2023-04-06 23:19.30 [info     ] Parameters are saved to d3rlpy_logs/FQE_20230406231930/params.json params={'action_scaler': {'type': 'min_max', 'params': {'minimum': array([-1., -1., -1.]), 'maximum': array([1., 1., 1.])}}, 'batch_size': 100, 'encoder_factory': {'type': 'vector', 'params': {'hidden_units': [30, 30], 'activation': 'relu', 'use_batch_norm': False, 'dropout_rate': None, 'use_dense': False}}, 'gamma': 0.95, 'generated_maxlen': 100000, 'learning_rate': 0.0001, 'n_critics': 1, 'n_frames': 1, 'n_steps': 1, 'optim_factory': {'optim_cls': 'Adam', 'betas': (0.9, 0.999), 'eps': 1e-08, 'weight_decay': 0, 'amsgrad': False}, 'q_func_factory': {'type': 'mean', 'params': {'share_encoder': False}}, 'real_ratio': 1.0, 'reward_scaler': None, 'scaler': {'type': 'min_max', 'params': {'maximum': array([0.96940583, 0.99501021, 0.99701468, 0.999342  , 0.99622763]), 'minimum': array([-0.99044977, -0.96561411, -0.99716409, -0.96450877, -0.98345029])}}, 'target_update_interval': 100, 'use_gpu': None, 'algorithm': 'FQE', 'observation_shape': (5,), 'action_size': 3}\n"
     ]
    },
    {
     "data": {
      "application/vnd.jupyter.widget-view+json": {
       "model_id": "1d327a6091f144708fabf92ffdc7fa96",
       "version_major": 2,
       "version_minor": 0
      },
      "text/plain": [
       "Epoch 1/1:   0%|          | 0/160 [00:00<?, ?it/s]"
      ]
     },
     "metadata": {},
     "output_type": "display_data"
    },
    {
     "name": "stdout",
     "output_type": "stream",
     "text": [
      "2023-04-06 23:19.31 [info     ] FQE_20230406231930: epoch=1 step=160 epoch=1 metrics={'time_sample_batch': 0.00011888295412063599, 'time_algorithm_update': 0.0014486804604530335, 'loss': 0.10638240245170891, 'time_step': 0.001626923680305481} step=160\n",
      "2023-04-06 23:19.31 [info     ] Model parameters are saved to d3rlpy_logs/FQE_20230406231930/model_160.pt\n"
     ]
    },
    {
     "data": {
      "application/vnd.jupyter.widget-view+json": {
       "model_id": "4afd44c083864dbeb7fe9c3eea1b28e8",
       "version_major": 2,
       "version_minor": 0
      },
      "text/plain": [
       "[fit MWL model]:   0%|          | 0/2 [00:00<?, ?it/s]"
      ]
     },
     "metadata": {},
     "output_type": "display_data"
    },
    {
     "data": {
      "application/vnd.jupyter.widget-view+json": {
       "model_id": "403b5611c77b4950b643260b6397077a",
       "version_major": 2,
       "version_minor": 0
      },
      "text/plain": [
       "[fitting_weight_function]:   0%|          | 0/100 [00:00<?, ?it/s]"
      ]
     },
     "metadata": {},
     "output_type": "display_data"
    },
    {
     "data": {
      "application/vnd.jupyter.widget-view+json": {
       "model_id": "c0354ec875a44de48f8ebaec3c259028",
       "version_major": 2,
       "version_minor": 0
      },
      "text/plain": [
       "[fitting_weight_function]:   0%|          | 0/100 [00:00<?, ?it/s]"
      ]
     },
     "metadata": {},
     "output_type": "display_data"
    },
    {
     "data": {
      "application/vnd.jupyter.widget-view+json": {
       "model_id": "cfe14602ae8b4929b0366abcc55b59eb",
       "version_major": 2,
       "version_minor": 0
      },
      "text/plain": [
       "[fitting_weight_function]:   0%|          | 0/100 [00:00<?, ?it/s]"
      ]
     },
     "metadata": {},
     "output_type": "display_data"
    },
    {
     "data": {
      "application/vnd.jupyter.widget-view+json": {
       "model_id": "b62af494854c4bc48e8f01115f1e7a55",
       "version_major": 2,
       "version_minor": 0
      },
      "text/plain": [
       "[fitting_weight_function]:   0%|          | 0/100 [00:00<?, ?it/s]"
      ]
     },
     "metadata": {},
     "output_type": "display_data"
    },
    {
     "data": {
      "application/vnd.jupyter.widget-view+json": {
       "model_id": "92919847342346f4b20e2f49799bbf9b",
       "version_major": 2,
       "version_minor": 0
      },
      "text/plain": [
       "[collect input data: eval_policy]:   0%|          | 0/2 [00:00<?, ?it/s]"
      ]
     },
     "metadata": {},
     "output_type": "display_data"
    },
    {
     "data": {
      "application/vnd.jupyter.widget-view+json": {
       "model_id": "531c8be9d6d146b68cc2eca9a7d50912",
       "version_major": 2,
       "version_minor": 0
      },
      "text/plain": [
       "[calculate on-policy policy value]:   0%|          | 0/100 [00:00<?, ?it/s]"
      ]
     },
     "metadata": {},
     "output_type": "display_data"
    },
    {
     "data": {
      "application/vnd.jupyter.widget-view+json": {
       "model_id": "dc586e0fac164928967efe23313e6bea",
       "version_major": 2,
       "version_minor": 0
      },
      "text/plain": [
       "[calculate on-policy policy value]:   0%|          | 0/100 [00:00<?, ?it/s]"
      ]
     },
     "metadata": {},
     "output_type": "display_data"
    },
    {
     "data": {
      "application/vnd.jupyter.widget-view+json": {
       "model_id": "c16c732a37c94821a3ef3fe22aef6445",
       "version_major": 2,
       "version_minor": 0
      },
      "text/plain": [
       "[obtain_trajectories]:   0%|          | 0/1600 [00:00<?, ?it/s]"
      ]
     },
     "metadata": {},
     "output_type": "display_data"
    },
    {
     "data": {
      "application/vnd.jupyter.widget-view+json": {
       "model_id": "12d91669ffa14863aa34eac2efcec0ad",
       "version_major": 2,
       "version_minor": 0
      },
      "text/plain": [
       "[obtain_trajectories]:   0%|          | 0/1600 [00:00<?, ?it/s]"
      ]
     },
     "metadata": {},
     "output_type": "display_data"
    },
    {
     "name": "stdout",
     "output_type": "stream",
     "text": [
      "2023-04-06 23:20.54 [debug    ] RandomIterator is selected.\n",
      "2023-04-06 23:20.54 [info     ] Directory is created at d3rlpy_logs/CQL_20230406232054\n",
      "2023-04-06 23:20.54 [debug    ] Fitting action scaler...       action_scaler=min_max\n",
      "2023-04-06 23:20.54 [debug    ] Building models...\n",
      "2023-04-06 23:20.54 [debug    ] Models have been built.\n",
      "2023-04-06 23:20.54 [info     ] Parameters are saved to d3rlpy_logs/CQL_20230406232054/params.json params={'action_scaler': {'type': 'min_max', 'params': {'minimum': array([-1., -1., -1.]), 'maximum': array([1., 1., 1.])}}, 'actor_encoder_factory': {'type': 'vector', 'params': {'hidden_units': [30, 30], 'activation': 'relu', 'use_batch_norm': False, 'dropout_rate': None, 'use_dense': False}}, 'actor_learning_rate': 0.0001, 'actor_optim_factory': {'optim_cls': 'Adam', 'betas': (0.9, 0.999), 'eps': 1e-08, 'weight_decay': 0, 'amsgrad': False}, 'alpha_learning_rate': 0.0001, 'alpha_optim_factory': {'optim_cls': 'Adam', 'betas': (0.9, 0.999), 'eps': 1e-08, 'weight_decay': 0, 'amsgrad': False}, 'alpha_threshold': 10.0, 'batch_size': 256, 'conservative_weight': 5.0, 'critic_encoder_factory': {'type': 'vector', 'params': {'hidden_units': [30, 30], 'activation': 'relu', 'use_batch_norm': False, 'dropout_rate': None, 'use_dense': False}}, 'critic_learning_rate': 0.0003, 'critic_optim_factory': {'optim_cls': 'Adam', 'betas': (0.9, 0.999), 'eps': 1e-08, 'weight_decay': 0, 'amsgrad': False}, 'gamma': 0.99, 'generated_maxlen': 100000, 'initial_alpha': 1.0, 'initial_temperature': 1.0, 'n_action_samples': 10, 'n_critics': 2, 'n_frames': 1, 'n_steps': 1, 'q_func_factory': {'type': 'mean', 'params': {'share_encoder': False}}, 'real_ratio': 1.0, 'reward_scaler': None, 'scaler': None, 'soft_q_backup': False, 'tau': 0.005, 'temp_learning_rate': 0.0001, 'temp_optim_factory': {'optim_cls': 'Adam', 'betas': (0.9, 0.999), 'eps': 1e-08, 'weight_decay': 0, 'amsgrad': False}, 'use_gpu': None, 'algorithm': 'CQL', 'observation_shape': (5,), 'action_size': 3}\n"
     ]
    },
    {
     "data": {
      "application/vnd.jupyter.widget-view+json": {
       "model_id": "0104842f6dec4b6e90d5b0e6193cc9a3",
       "version_major": 2,
       "version_minor": 0
      },
      "text/plain": [
       "Epoch 1/1:   0%|          | 0/10000 [00:00<?, ?it/s]"
      ]
     },
     "metadata": {},
     "output_type": "display_data"
    },
    {
     "name": "stdout",
     "output_type": "stream",
     "text": [
      "2023-04-06 23:25.01 [info     ] CQL_20230406232054: epoch=1 step=10000 epoch=1 metrics={'time_sample_batch': 0.0007855471849441528, 'time_algorithm_update': 0.02314130072593689, 'temp_loss': 3.2214509826898574, 'temp': 0.6501498603880406, 'alpha_loss': -30.69468638458252, 'alpha': 1.796311010158062, 'critic_loss': 32.332376101875305, 'actor_loss': -3.707575163912773, 'time_step': 0.024444691109657288} step=10000\n",
      "2023-04-06 23:25.01 [info     ] Model parameters are saved to d3rlpy_logs/CQL_20230406232054/model_10000.pt\n"
     ]
    },
    {
     "data": {
      "application/vnd.jupyter.widget-view+json": {
       "model_id": "1931557da19c4c8bb02c8dc34c04b4da",
       "version_major": 2,
       "version_minor": 0
      },
      "text/plain": [
       "[fit FQE model]:   0%|          | 0/2 [00:00<?, ?it/s]"
      ]
     },
     "metadata": {},
     "output_type": "display_data"
    },
    {
     "name": "stdout",
     "output_type": "stream",
     "text": [
      "2023-04-06 23:25.01 [debug    ] RoundIterator is selected.\n",
      "2023-04-06 23:25.01 [info     ] Directory is created at d3rlpy_logs/FQE_20230406232501\n",
      "2023-04-06 23:25.01 [debug    ] Fitting scaler...              scaler=min_max\n",
      "2023-04-06 23:25.01 [debug    ] Fitting action scaler...       action_scaler=min_max\n",
      "2023-04-06 23:25.01 [debug    ] Building models...\n",
      "2023-04-06 23:25.01 [debug    ] Models have been built.\n",
      "2023-04-06 23:25.01 [info     ] Parameters are saved to d3rlpy_logs/FQE_20230406232501/params.json params={'action_scaler': {'type': 'min_max', 'params': {'minimum': array([-1., -1., -1.]), 'maximum': array([1., 1., 1.])}}, 'batch_size': 100, 'encoder_factory': {'type': 'vector', 'params': {'hidden_units': [30, 30], 'activation': 'relu', 'use_batch_norm': False, 'dropout_rate': None, 'use_dense': False}}, 'gamma': 0.95, 'generated_maxlen': 100000, 'learning_rate': 0.0001, 'n_critics': 1, 'n_frames': 1, 'n_steps': 1, 'optim_factory': {'optim_cls': 'Adam', 'betas': (0.9, 0.999), 'eps': 1e-08, 'weight_decay': 0, 'amsgrad': False}, 'q_func_factory': {'type': 'mean', 'params': {'share_encoder': False}}, 'real_ratio': 1.0, 'reward_scaler': None, 'scaler': {'type': 'min_max', 'params': {'maximum': array([0.99787284, 0.98021809, 0.9973527 , 0.99647328, 0.98977456]), 'minimum': array([-0.95735882, -0.97941427, -0.98899477, -0.9777552 , -0.9847664 ])}}, 'target_update_interval': 100, 'use_gpu': None, 'algorithm': 'FQE', 'observation_shape': (5,), 'action_size': 3}\n"
     ]
    },
    {
     "data": {
      "application/vnd.jupyter.widget-view+json": {
       "model_id": "5e2661d2f5f3424987d9ae24fdfcdd27",
       "version_major": 2,
       "version_minor": 0
      },
      "text/plain": [
       "Epoch 1/1:   0%|          | 0/160 [00:00<?, ?it/s]"
      ]
     },
     "metadata": {},
     "output_type": "display_data"
    },
    {
     "name": "stdout",
     "output_type": "stream",
     "text": [
      "2023-04-06 23:25.01 [info     ] FQE_20230406232501: epoch=1 step=160 epoch=1 metrics={'time_sample_batch': 0.00011391043663024902, 'time_algorithm_update': 0.0014468416571617126, 'loss': 0.10115932896733285, 'time_step': 0.001616719365119934} step=160\n",
      "2023-04-06 23:25.01 [info     ] Model parameters are saved to d3rlpy_logs/FQE_20230406232501/model_160.pt\n",
      "2023-04-06 23:25.01 [debug    ] RoundIterator is selected.\n",
      "2023-04-06 23:25.02 [info     ] Directory is created at d3rlpy_logs/FQE_20230406232502\n",
      "2023-04-06 23:25.02 [debug    ] Fitting scaler...              scaler=min_max\n",
      "2023-04-06 23:25.02 [debug    ] Fitting action scaler...       action_scaler=min_max\n",
      "2023-04-06 23:25.02 [debug    ] Building models...\n",
      "2023-04-06 23:25.02 [debug    ] Models have been built.\n",
      "2023-04-06 23:25.02 [info     ] Parameters are saved to d3rlpy_logs/FQE_20230406232502/params.json params={'action_scaler': {'type': 'min_max', 'params': {'minimum': array([-1., -1., -1.]), 'maximum': array([1., 1., 1.])}}, 'batch_size': 100, 'encoder_factory': {'type': 'vector', 'params': {'hidden_units': [30, 30], 'activation': 'relu', 'use_batch_norm': False, 'dropout_rate': None, 'use_dense': False}}, 'gamma': 0.95, 'generated_maxlen': 100000, 'learning_rate': 0.0001, 'n_critics': 1, 'n_frames': 1, 'n_steps': 1, 'optim_factory': {'optim_cls': 'Adam', 'betas': (0.9, 0.999), 'eps': 1e-08, 'weight_decay': 0, 'amsgrad': False}, 'q_func_factory': {'type': 'mean', 'params': {'share_encoder': False}}, 'real_ratio': 1.0, 'reward_scaler': None, 'scaler': {'type': 'min_max', 'params': {'maximum': array([0.99787284, 0.98021809, 0.9973527 , 0.99647328, 0.98977456]), 'minimum': array([-0.95735882, -0.97941427, -0.98899477, -0.9777552 , -0.9847664 ])}}, 'target_update_interval': 100, 'use_gpu': None, 'algorithm': 'FQE', 'observation_shape': (5,), 'action_size': 3}\n"
     ]
    },
    {
     "data": {
      "application/vnd.jupyter.widget-view+json": {
       "model_id": "0b13db9223f94618b4ee54effe88f233",
       "version_major": 2,
       "version_minor": 0
      },
      "text/plain": [
       "Epoch 1/1:   0%|          | 0/160 [00:00<?, ?it/s]"
      ]
     },
     "metadata": {},
     "output_type": "display_data"
    },
    {
     "name": "stdout",
     "output_type": "stream",
     "text": [
      "2023-04-06 23:25.02 [info     ] FQE_20230406232502: epoch=1 step=160 epoch=1 metrics={'time_sample_batch': 0.00011283457279205322, 'time_algorithm_update': 0.0015567585825920105, 'loss': 0.10732088177464902, 'time_step': 0.00172700434923172} step=160\n",
      "2023-04-06 23:25.02 [info     ] Model parameters are saved to d3rlpy_logs/FQE_20230406232502/model_160.pt\n"
     ]
    },
    {
     "data": {
      "application/vnd.jupyter.widget-view+json": {
       "model_id": "060685cacf7041219ffcbf8e71eb6b88",
       "version_major": 2,
       "version_minor": 0
      },
      "text/plain": [
       "[fit MWL model]:   0%|          | 0/2 [00:00<?, ?it/s]"
      ]
     },
     "metadata": {},
     "output_type": "display_data"
    },
    {
     "data": {
      "application/vnd.jupyter.widget-view+json": {
       "model_id": "5f41bf52726f47ecbf85cc43062d0ce7",
       "version_major": 2,
       "version_minor": 0
      },
      "text/plain": [
       "[fitting_weight_function]:   0%|          | 0/100 [00:00<?, ?it/s]"
      ]
     },
     "metadata": {},
     "output_type": "display_data"
    },
    {
     "data": {
      "application/vnd.jupyter.widget-view+json": {
       "model_id": "5b517571e43a4930a3aed2923a320406",
       "version_major": 2,
       "version_minor": 0
      },
      "text/plain": [
       "[fitting_weight_function]:   0%|          | 0/100 [00:00<?, ?it/s]"
      ]
     },
     "metadata": {},
     "output_type": "display_data"
    },
    {
     "data": {
      "application/vnd.jupyter.widget-view+json": {
       "model_id": "84fad07d7bac41f0989f73fc9f901a85",
       "version_major": 2,
       "version_minor": 0
      },
      "text/plain": [
       "[fitting_weight_function]:   0%|          | 0/100 [00:00<?, ?it/s]"
      ]
     },
     "metadata": {},
     "output_type": "display_data"
    },
    {
     "data": {
      "application/vnd.jupyter.widget-view+json": {
       "model_id": "628d193dd8864f689a35561147fd9263",
       "version_major": 2,
       "version_minor": 0
      },
      "text/plain": [
       "[fitting_weight_function]:   0%|          | 0/100 [00:00<?, ?it/s]"
      ]
     },
     "metadata": {},
     "output_type": "display_data"
    },
    {
     "data": {
      "application/vnd.jupyter.widget-view+json": {
       "model_id": "568ad898b1524c858755a6c141f62951",
       "version_major": 2,
       "version_minor": 0
      },
      "text/plain": [
       "[collect input data: eval_policy]:   0%|          | 0/2 [00:00<?, ?it/s]"
      ]
     },
     "metadata": {},
     "output_type": "display_data"
    },
    {
     "data": {
      "application/vnd.jupyter.widget-view+json": {
       "model_id": "11dc880d833d47b9a1595a1c20158909",
       "version_major": 2,
       "version_minor": 0
      },
      "text/plain": [
       "[calculate on-policy policy value]:   0%|          | 0/100 [00:00<?, ?it/s]"
      ]
     },
     "metadata": {},
     "output_type": "display_data"
    },
    {
     "data": {
      "application/vnd.jupyter.widget-view+json": {
       "model_id": "72d4e815b80846798ae31b927f8650dd",
       "version_major": 2,
       "version_minor": 0
      },
      "text/plain": [
       "[calculate on-policy policy value]:   0%|          | 0/100 [00:00<?, ?it/s]"
      ]
     },
     "metadata": {},
     "output_type": "display_data"
    }
   ],
   "source": [
    "\n",
    "for n_trajectories in n_trajectories_list:\n",
    "    cql_data = DataFrame()\n",
    "    sac_data = DataFrame()\n",
    "    for random_state in random_state_list:\n",
    "    \n",
    "        behavior_policy = TruncatedGaussianHead(\n",
    "            sac, \n",
    "            minimum=env.action_space.low,\n",
    "            maximum=env.action_space.high,\n",
    "            sigma=np.array([1.0]),\n",
    "            name=\"sac_sigma_1.0\",\n",
    "            random_state=random_state,\n",
    "        )\n",
    "\n",
    "        # initialize dataset class\n",
    "        dataset = SyntheticDataset(\n",
    "            env=env,\n",
    "            max_episode_steps=env.step_per_episode,\n",
    "        )\n",
    "\n",
    "        # collect logged data by a behavior policy\n",
    "        # skip if there is a preserved logged dataset\n",
    "        train_logged_dataset = dataset.obtain_episodes(\n",
    "            behavior_policies=behavior_policy,\n",
    "            # n_trajectories=10000, \n",
    "            n_trajectories=n_trajectories, \n",
    "            obtain_info=False,\n",
    "            random_state=random_state,\n",
    "        )\n",
    "        test_logged_dataset = dataset.obtain_episodes(\n",
    "            behavior_policies=behavior_policy,\n",
    "            # n_trajectories=10000, \n",
    "            n_trajectories=n_trajectories, \n",
    "            obtain_info=False,\n",
    "            random_state=random_state + 1,\n",
    "        )\n",
    "\n",
    "        # transform offline dataset for d3rlpy\n",
    "        offlinerl_dataset = MDPDataset(\n",
    "            observations=train_logged_dataset[\"state\"],\n",
    "            actions=train_logged_dataset[\"action\"],\n",
    "            rewards=train_logged_dataset[\"reward\"],\n",
    "            terminals=train_logged_dataset[\"done\"],\n",
    "            episode_terminals=train_logged_dataset[\"done\"],\n",
    "            discrete_action=False,\n",
    "        )\n",
    "        train_episodes, test_episodes = train_test_split(offlinerl_dataset, test_size=0.2, random_state=random_state)\n",
    "\n",
    "        # Use Conservative Q-Learning policy\n",
    "        cql = CQL(\n",
    "            actor_encoder_factory=VectorEncoderFactory(hidden_units=[30, 30]),\n",
    "            critic_encoder_factory=VectorEncoderFactory(hidden_units=[30, 30]),\n",
    "            q_func_factory=MeanQFunctionFactory(),\n",
    "            use_gpu=torch.cuda.is_available(),\n",
    "            action_scaler=MinMaxActionScaler(\n",
    "                minimum=env_.action_space.low,  # minimum value that policy can take\n",
    "                maximum=env_.action_space.high,  # maximum value that policy can take\n",
    "            )\n",
    "        )\n",
    "\n",
    "        cql.fit(\n",
    "            train_episodes,\n",
    "            eval_episodes=test_episodes,\n",
    "            n_steps=10000,\n",
    "            # n_steps=10000,\n",
    "            scorers={},\n",
    "        )\n",
    "\n",
    "        # define evaluation policies (should be deterministic policy)\n",
    "        cql_ = ContinuousEvalHead(\n",
    "            base_policy=cql,\n",
    "            name=\"cql\",\n",
    "        )\n",
    "        sac_ = ContinuousEvalHead(\n",
    "            base_policy=sac, \n",
    "            name=\"sac\", \n",
    "        )\n",
    "        evaluation_policies = [cql_, sac_]\n",
    "        \n",
    "        # first, prepare OPE inputs\n",
    "        prep = CreateOPEInput(\n",
    "            env=env,\n",
    "            model_args={\n",
    "                \"fqe\": {\n",
    "                    \"encoder_factory\": VectorEncoderFactory(hidden_units=[30, 30]),\n",
    "                    \"q_func_factory\": MeanQFunctionFactory(),\n",
    "                    \"learning_rate\": 1e-4,\n",
    "                    \"use_gpu\": torch.cuda.is_available(),\n",
    "                },\n",
    "            },\n",
    "            state_scaler=MinMaxScaler(\n",
    "                minimum=test_logged_dataset[\"state\"].min(axis=0),\n",
    "                maximum=test_logged_dataset[\"state\"].max(axis=0),\n",
    "            ),\n",
    "            action_scaler=MinMaxActionScaler(\n",
    "                minimum=env.action_space.low,  # minimum value that policy can take\n",
    "                maximum=env.action_space.high,  # maximum value that policy can take\n",
    "            ),\n",
    "            gamma=0.95,\n",
    "            sigma=0.1,\n",
    "            device=\"cuda:0\" if torch.cuda.is_available() else \"cpu\",\n",
    "        )\n",
    "\n",
    "        # takes time\n",
    "        input_dict = prep.obtain_whole_inputs(\n",
    "            logged_dataset=test_logged_dataset,\n",
    "            evaluation_policies=evaluation_policies,\n",
    "            require_value_prediction=True,\n",
    "            require_weight_prediction=True,\n",
    "            n_trajectories_on_policy_evaluation=100,\n",
    "            random_state=random_state,\n",
    "        )\n",
    "\n",
    "        # with open(\"logs/ope_input_dict_continuous_zoo.pkl\", \"wb\") as f:\n",
    "        # pickle.dump(input_dict, f)\n",
    "\n",
    "        # with open(\"logs/ope_input_dict_continuous_zoo.pkl\", \"rb\") as f:\n",
    "        # input_dict = pickle.load(f)\n",
    "\n",
    "        ope = OPE(\n",
    "            logged_dataset=test_logged_dataset,\n",
    "            ope_estimators=all_estimators,\n",
    "            action_scaler=MinMaxActionScaler(\n",
    "                minimum=env.action_space.low,  # minimum value that policy can take\n",
    "                maximum=env.action_space.high,  # maximum value that policy can take\n",
    "            ),\n",
    "            sigma=0.1,\n",
    "        )\n",
    "\n",
    "        policy_value_dict = ope.estimate_policy_value(\n",
    "            input_dict=input_dict,\n",
    "        )\n",
    "        \n",
    "        tmp_cql = DataFrame(policy_value_dict)['cql']\n",
    "        cql_data = pd.concat([cql_data, tmp_cql], axis=1)\n",
    "        # tmp_sac = DataFrame(policy_value_dict)['sac']\n",
    "        # sac_data = pd.concat([sac_data, tmp_sac], axis=1)\n",
    "        \n",
    "        \n",
    "    # bias = abs(sac_data.mean(axis=1) - sac_data.mean(axis=1)['on_policy'])\n",
    "    # variance = sac_data.var(axis=1)\n",
    "    bias = abs(cql_data.mean(axis=1) - cql_data.mean(axis=1)['on_policy'])\n",
    "    variance = cql_data.var(axis=1)\n",
    "    mse = bias**2 + variance\n",
    "\n",
    "    bias_df = DataFrame(DataFrame(bias).stack())\\\n",
    "        .reset_index(1).rename(columns={0: \"bias\"})\n",
    "    bias_df[\"n_trajectories\"] = n_trajectories\n",
    "    bias_df_list.append(bias_df)\n",
    "    variance_df = DataFrame(DataFrame(variance).stack())\\\n",
    "        .reset_index(1).rename(columns={0: \"variance\"})\n",
    "    variance_df[\"n_trajectories\"] = n_trajectories\n",
    "    variance_df_list.append(variance_df)\n",
    "    mse_df = DataFrame(DataFrame(mse).stack())\\\n",
    "        .reset_index(1).rename(columns={0: \"mse\"})\n",
    "    mse_df[\"n_trajectories\"] = n_trajectories\n",
    "    mse_df_list.append(mse_df)\n",
    "\n",
    "\n",
    "    # bias_df[n_trajectories] = bias\n",
    "    # variance_df[n_trajectories] = variance\n",
    "\n",
    "# aggregate all results \n",
    "bias_result_df = pd.concat(bias_df_list).reset_index(level=0)\n",
    "variance_result_df = pd.concat(variance_df_list).reset_index(level=0)\n",
    "mse_result_df = pd.concat(mse_df_list).reset_index(level=0)"
   ]
  },
  {
   "cell_type": "code",
   "execution_count": 12,
   "metadata": {},
   "outputs": [
    {
     "data": {
      "text/html": [
       "<div>\n",
       "<style scoped>\n",
       "    .dataframe tbody tr th:only-of-type {\n",
       "        vertical-align: middle;\n",
       "    }\n",
       "\n",
       "    .dataframe tbody tr th {\n",
       "        vertical-align: top;\n",
       "    }\n",
       "\n",
       "    .dataframe thead th {\n",
       "        text-align: right;\n",
       "    }\n",
       "</style>\n",
       "<table border=\"1\" class=\"dataframe\">\n",
       "  <thead>\n",
       "    <tr style=\"text-align: right;\">\n",
       "      <th></th>\n",
       "      <th>index</th>\n",
       "      <th>level_1</th>\n",
       "      <th>variance</th>\n",
       "      <th>n_trajectories</th>\n",
       "    </tr>\n",
       "  </thead>\n",
       "  <tbody>\n",
       "    <tr>\n",
       "      <th>1</th>\n",
       "      <td>dm</td>\n",
       "      <td>0</td>\n",
       "      <td>0.010186</td>\n",
       "      <td>100</td>\n",
       "    </tr>\n",
       "    <tr>\n",
       "      <th>18</th>\n",
       "      <td>dm</td>\n",
       "      <td>0</td>\n",
       "      <td>0.010978</td>\n",
       "      <td>200</td>\n",
       "    </tr>\n",
       "    <tr>\n",
       "      <th>35</th>\n",
       "      <td>dm</td>\n",
       "      <td>0</td>\n",
       "      <td>0.011436</td>\n",
       "      <td>400</td>\n",
       "    </tr>\n",
       "    <tr>\n",
       "      <th>52</th>\n",
       "      <td>dm</td>\n",
       "      <td>0</td>\n",
       "      <td>0.010971</td>\n",
       "      <td>800</td>\n",
       "    </tr>\n",
       "    <tr>\n",
       "      <th>69</th>\n",
       "      <td>dm</td>\n",
       "      <td>0</td>\n",
       "      <td>0.010859</td>\n",
       "      <td>1600</td>\n",
       "    </tr>\n",
       "  </tbody>\n",
       "</table>\n",
       "</div>"
      ],
      "text/plain": [
       "   index  level_1  variance  n_trajectories\n",
       "1     dm        0  0.010186             100\n",
       "18    dm        0  0.010978             200\n",
       "35    dm        0  0.011436             400\n",
       "52    dm        0  0.010971             800\n",
       "69    dm        0  0.010859            1600"
      ]
     },
     "execution_count": 12,
     "metadata": {},
     "output_type": "execute_result"
    }
   ],
   "source": [
    "variance_result_df.query(\"(index == 'dm')\")"
   ]
  },
  {
   "cell_type": "code",
   "execution_count": 13,
   "metadata": {},
   "outputs": [
    {
     "data": {
      "text/html": [
       "<div>\n",
       "<style scoped>\n",
       "    .dataframe tbody tr th:only-of-type {\n",
       "        vertical-align: middle;\n",
       "    }\n",
       "\n",
       "    .dataframe tbody tr th {\n",
       "        vertical-align: top;\n",
       "    }\n",
       "\n",
       "    .dataframe thead th {\n",
       "        text-align: right;\n",
       "    }\n",
       "</style>\n",
       "<table border=\"1\" class=\"dataframe\">\n",
       "  <thead>\n",
       "    <tr style=\"text-align: right;\">\n",
       "      <th></th>\n",
       "      <th>index</th>\n",
       "      <th>level_1</th>\n",
       "      <th>bias</th>\n",
       "      <th>n_trajectories</th>\n",
       "    </tr>\n",
       "  </thead>\n",
       "  <tbody>\n",
       "    <tr>\n",
       "      <th>0</th>\n",
       "      <td>on_policy</td>\n",
       "      <td>0</td>\n",
       "      <td>0.000000e+00</td>\n",
       "      <td>100</td>\n",
       "    </tr>\n",
       "    <tr>\n",
       "      <th>1</th>\n",
       "      <td>dm</td>\n",
       "      <td>0</td>\n",
       "      <td>1.802904e+00</td>\n",
       "      <td>100</td>\n",
       "    </tr>\n",
       "    <tr>\n",
       "      <th>2</th>\n",
       "      <td>tis</td>\n",
       "      <td>0</td>\n",
       "      <td>1.327448e+08</td>\n",
       "      <td>100</td>\n",
       "    </tr>\n",
       "    <tr>\n",
       "      <th>3</th>\n",
       "      <td>pdis</td>\n",
       "      <td>0</td>\n",
       "      <td>5.974204e+06</td>\n",
       "      <td>100</td>\n",
       "    </tr>\n",
       "    <tr>\n",
       "      <th>4</th>\n",
       "      <td>dr</td>\n",
       "      <td>0</td>\n",
       "      <td>1.941032e+07</td>\n",
       "      <td>100</td>\n",
       "    </tr>\n",
       "    <tr>\n",
       "      <th>...</th>\n",
       "      <td>...</td>\n",
       "      <td>...</td>\n",
       "      <td>...</td>\n",
       "      <td>...</td>\n",
       "    </tr>\n",
       "    <tr>\n",
       "      <th>80</th>\n",
       "      <td>sam_is</td>\n",
       "      <td>0</td>\n",
       "      <td>2.150517e+00</td>\n",
       "      <td>1600</td>\n",
       "    </tr>\n",
       "    <tr>\n",
       "      <th>81</th>\n",
       "      <td>sam_dr</td>\n",
       "      <td>0</td>\n",
       "      <td>2.017851e+00</td>\n",
       "      <td>1600</td>\n",
       "    </tr>\n",
       "    <tr>\n",
       "      <th>82</th>\n",
       "      <td>sam_snis</td>\n",
       "      <td>0</td>\n",
       "      <td>3.598934e+00</td>\n",
       "      <td>1600</td>\n",
       "    </tr>\n",
       "    <tr>\n",
       "      <th>83</th>\n",
       "      <td>sam_sndr</td>\n",
       "      <td>0</td>\n",
       "      <td>3.184181e+00</td>\n",
       "      <td>1600</td>\n",
       "    </tr>\n",
       "    <tr>\n",
       "      <th>84</th>\n",
       "      <td>drl</td>\n",
       "      <td>0</td>\n",
       "      <td>2.018077e+00</td>\n",
       "      <td>1600</td>\n",
       "    </tr>\n",
       "  </tbody>\n",
       "</table>\n",
       "<p>85 rows × 4 columns</p>\n",
       "</div>"
      ],
      "text/plain": [
       "        index  level_1          bias  n_trajectories\n",
       "0   on_policy        0  0.000000e+00             100\n",
       "1          dm        0  1.802904e+00             100\n",
       "2         tis        0  1.327448e+08             100\n",
       "3        pdis        0  5.974204e+06             100\n",
       "4          dr        0  1.941032e+07             100\n",
       "..        ...      ...           ...             ...\n",
       "80     sam_is        0  2.150517e+00            1600\n",
       "81     sam_dr        0  2.017851e+00            1600\n",
       "82   sam_snis        0  3.598934e+00            1600\n",
       "83   sam_sndr        0  3.184181e+00            1600\n",
       "84        drl        0  2.018077e+00            1600\n",
       "\n",
       "[85 rows x 4 columns]"
      ]
     },
     "execution_count": 13,
     "metadata": {},
     "output_type": "execute_result"
    }
   ],
   "source": [
    "bias_result_df\n"
   ]
  },
  {
   "cell_type": "code",
   "execution_count": 14,
   "metadata": {},
   "outputs": [],
   "source": [
    "import pickle"
   ]
  },
  {
   "cell_type": "code",
   "execution_count": 16,
   "metadata": {},
   "outputs": [],
   "source": [
    "with open(\"logs/cql_n_trajectories_variance_result_df.pkl\", \"wb\") as f:\n",
    "    pickle.dump(variance_result_df, f)\n",
    "\n",
    "with open(\"logs/cql_n_trajectories_variance_result_df.pkl\", \"rb\") as f:\n",
    "    variance_result_df = pickle.load(f)\n",
    "\n",
    "with open(\"logs/cql_n_trajectories_bias_result_df.pkl\", \"wb\") as f:\n",
    "    pickle.dump(bias_result_df, f)\n",
    "\n",
    "with open(\"logs/cql_n_trajectories_bias_result_df.pkl\", \"rb\") as f:\n",
    "    bias_result_df = pickle.load(f)\n",
    "\n",
    "with open(\"logs/cql_n_trajectories_mse_result_df.pkl\", \"wb\") as f:\n",
    "    pickle.dump(mse_result_df, f)\n",
    "\n",
    "with open(\"logs/cql_n_trajectories_mse_result_df.pkl\", \"rb\") as f:\n",
    "    mse_result_df = pickle.load(f)"
   ]
  },
  {
   "cell_type": "code",
   "execution_count": null,
   "metadata": {},
   "outputs": [],
   "source": []
  },
  {
   "cell_type": "code",
   "execution_count": 17,
   "metadata": {},
   "outputs": [
    {
     "name": "stderr",
     "output_type": "stream",
     "text": [
      "/var/folders/48/ly7vft814qv_x6krlfw5s8_c0000gn/T/ipykernel_21380/537448049.py:7: FutureWarning: \n",
      "\n",
      "The `ci` parameter is deprecated. Use `errorbar=None` for the same effect.\n",
      "\n",
      "  sns.lineplot(\n"
     ]
    },
    {
     "data": {
      "image/png": "[encoded data removed]",
      "text/plain": [
       "<Figure size 1000x700 with 1 Axes>"
      ]
     },
     "metadata": {},
     "output_type": "display_data"
    }
   ],
   "source": [
    "# figure configs\n",
    "# query = \"(est == 'DM' or est == 'IPS') and num_data <= 6400\"\n",
    "xlabels = [100, 200, 400, 800, 1600]\n",
    "\n",
    "plt.style.use('ggplot')\n",
    "fig, ax = plt.subplots(figsize=(10, 7), tight_layout=True)\n",
    "sns.lineplot(\n",
    "    linewidth=5,\n",
    "    dashes=False,\n",
    "    legend=False,\n",
    "    x=\"n_trajectories\",\n",
    "    y=\"bias\",\n",
    "    hue=\"index\",\n",
    "    ax=ax,\n",
    "    data=bias_result_df.query(\"(index == 'dm' or index == 'pdis')\"),\n",
    "    ci=None,\n",
    ")\n",
    "# title and legend\n",
    "ax.legend([\"DM\", \"TIS\"], loc=\"upper right\", fontsize=25)\n",
    "# yaxis\n",
    "# ax.set_yscale(\"log\")\n",
    "ax.set_ylabel(\"bias\", fontsize=25)\n",
    "ax.tick_params(axis=\"y\", labelsize=15)\n",
    "ax.yaxis.set_label_coords(-0.08, 0.5)\n",
    "# xaxis\n",
    "ax.set_xscale(\"log\")\n",
    "ax.set_xlabel(\"number of trajectories\", fontsize=25)\n",
    "ax.set_xticks(xlabels)\n",
    "ax.set_xticklabels(xlabels, fontsize=15)\n",
    "ax.xaxis.set_label_coords(0.5, -0.1)"
   ]
  },
  {
   "cell_type": "code",
   "execution_count": 18,
   "metadata": {},
   "outputs": [
    {
     "name": "stderr",
     "output_type": "stream",
     "text": [
      "/var/folders/48/ly7vft814qv_x6krlfw5s8_c0000gn/T/ipykernel_21380/132179728.py:7: FutureWarning: \n",
      "\n",
      "The `ci` parameter is deprecated. Use `errorbar=None` for the same effect.\n",
      "\n",
      "  sns.lineplot(\n"
     ]
    },
    {
     "data": {
      "image/png": "[encoded data removed]",
      "text/plain": [
       "<Figure size 1000x700 with 1 Axes>"
      ]
     },
     "metadata": {},
     "output_type": "display_data"
    }
   ],
   "source": [
    "# figure configs\n",
    "# query = \"(est == 'DM' or est == 'IPS') and num_data <= 6400\"\n",
    "xlabels = [100, 400, 1600]\n",
    "\n",
    "plt.style.use('ggplot')\n",
    "fig, ax = plt.subplots(figsize=(10, 7), tight_layout=True)\n",
    "sns.lineplot(\n",
    "    linewidth=5,\n",
    "    dashes=False,\n",
    "    legend=False,\n",
    "    x=\"n_trajectories\",\n",
    "    y=\"bias\",\n",
    "    hue=\"index\",\n",
    "    ax=ax,\n",
    "    data=bias_result_df.query(\"(index == 'dm' or index == 'dr')\"),\n",
    "    ci=None,\n",
    ")\n",
    "# title and legend\n",
    "ax.legend([\"DM\", \"DR\"], loc=\"upper right\", fontsize=25)\n",
    "# yaxis\n",
    "# ax.set_yscale(\"log\")\n",
    "ax.set_ylabel(\"bias\", fontsize=25)\n",
    "ax.tick_params(axis=\"y\", labelsize=15)\n",
    "ax.yaxis.set_label_coords(-0.08, 0.5)\n",
    "# xaxis\n",
    "ax.set_xscale(\"log\")\n",
    "ax.set_xlabel(\"number of trajectories\", fontsize=25)\n",
    "ax.set_xticks(xlabels)\n",
    "ax.set_xticklabels(xlabels, fontsize=15)\n",
    "ax.xaxis.set_label_coords(0.5, -0.1)"
   ]
  },
  {
   "cell_type": "code",
   "execution_count": 19,
   "metadata": {},
   "outputs": [
    {
     "data": {
      "text/html": [
       "<div>\n",
       "<style scoped>\n",
       "    .dataframe tbody tr th:only-of-type {\n",
       "        vertical-align: middle;\n",
       "    }\n",
       "\n",
       "    .dataframe tbody tr th {\n",
       "        vertical-align: top;\n",
       "    }\n",
       "\n",
       "    .dataframe thead th {\n",
       "        text-align: right;\n",
       "    }\n",
       "</style>\n",
       "<table border=\"1\" class=\"dataframe\">\n",
       "  <thead>\n",
       "    <tr style=\"text-align: right;\">\n",
       "      <th></th>\n",
       "      <th>index</th>\n",
       "      <th>level_1</th>\n",
       "      <th>variance</th>\n",
       "      <th>n_trajectories</th>\n",
       "    </tr>\n",
       "  </thead>\n",
       "  <tbody>\n",
       "    <tr>\n",
       "      <th>0</th>\n",
       "      <td>on_policy</td>\n",
       "      <td>0</td>\n",
       "      <td>5.801566e-02</td>\n",
       "      <td>100</td>\n",
       "    </tr>\n",
       "    <tr>\n",
       "      <th>1</th>\n",
       "      <td>dm</td>\n",
       "      <td>0</td>\n",
       "      <td>1.018569e-02</td>\n",
       "      <td>100</td>\n",
       "    </tr>\n",
       "    <tr>\n",
       "      <th>2</th>\n",
       "      <td>tis</td>\n",
       "      <td>0</td>\n",
       "      <td>1.712657e+17</td>\n",
       "      <td>100</td>\n",
       "    </tr>\n",
       "    <tr>\n",
       "      <th>3</th>\n",
       "      <td>pdis</td>\n",
       "      <td>0</td>\n",
       "      <td>3.895584e+14</td>\n",
       "      <td>100</td>\n",
       "    </tr>\n",
       "    <tr>\n",
       "      <th>4</th>\n",
       "      <td>dr</td>\n",
       "      <td>0</td>\n",
       "      <td>3.448327e+15</td>\n",
       "      <td>100</td>\n",
       "    </tr>\n",
       "    <tr>\n",
       "      <th>...</th>\n",
       "      <td>...</td>\n",
       "      <td>...</td>\n",
       "      <td>...</td>\n",
       "      <td>...</td>\n",
       "    </tr>\n",
       "    <tr>\n",
       "      <th>80</th>\n",
       "      <td>sam_is</td>\n",
       "      <td>0</td>\n",
       "      <td>1.442039e-11</td>\n",
       "      <td>1600</td>\n",
       "    </tr>\n",
       "    <tr>\n",
       "      <th>81</th>\n",
       "      <td>sam_dr</td>\n",
       "      <td>0</td>\n",
       "      <td>1.085947e-02</td>\n",
       "      <td>1600</td>\n",
       "    </tr>\n",
       "    <tr>\n",
       "      <th>82</th>\n",
       "      <td>sam_snis</td>\n",
       "      <td>0</td>\n",
       "      <td>8.175082e+00</td>\n",
       "      <td>1600</td>\n",
       "    </tr>\n",
       "    <tr>\n",
       "      <th>83</th>\n",
       "      <td>sam_sndr</td>\n",
       "      <td>0</td>\n",
       "      <td>6.158723e+00</td>\n",
       "      <td>1600</td>\n",
       "    </tr>\n",
       "    <tr>\n",
       "      <th>84</th>\n",
       "      <td>drl</td>\n",
       "      <td>0</td>\n",
       "      <td>1.088282e-02</td>\n",
       "      <td>1600</td>\n",
       "    </tr>\n",
       "  </tbody>\n",
       "</table>\n",
       "<p>85 rows × 4 columns</p>\n",
       "</div>"
      ],
      "text/plain": [
       "        index  level_1      variance  n_trajectories\n",
       "0   on_policy        0  5.801566e-02             100\n",
       "1          dm        0  1.018569e-02             100\n",
       "2         tis        0  1.712657e+17             100\n",
       "3        pdis        0  3.895584e+14             100\n",
       "4          dr        0  3.448327e+15             100\n",
       "..        ...      ...           ...             ...\n",
       "80     sam_is        0  1.442039e-11            1600\n",
       "81     sam_dr        0  1.085947e-02            1600\n",
       "82   sam_snis        0  8.175082e+00            1600\n",
       "83   sam_sndr        0  6.158723e+00            1600\n",
       "84        drl        0  1.088282e-02            1600\n",
       "\n",
       "[85 rows x 4 columns]"
      ]
     },
     "execution_count": 19,
     "metadata": {},
     "output_type": "execute_result"
    }
   ],
   "source": [
    "variance_result_df"
   ]
  },
  {
   "cell_type": "code",
   "execution_count": 20,
   "metadata": {},
   "outputs": [
    {
     "name": "stderr",
     "output_type": "stream",
     "text": [
      "/var/folders/48/ly7vft814qv_x6krlfw5s8_c0000gn/T/ipykernel_21380/1079444482.py:7: FutureWarning: \n",
      "\n",
      "The `ci` parameter is deprecated. Use `errorbar=None` for the same effect.\n",
      "\n",
      "  sns.lineplot(\n"
     ]
    },
    {
     "data": {
      "image/png": "[encoded data removed]",
      "text/plain": [
       "<Figure size 1000x700 with 1 Axes>"
      ]
     },
     "metadata": {},
     "output_type": "display_data"
    }
   ],
   "source": [
    "# figure configs\n",
    "# query = \"(est == 'DM' or est == 'IPS') and num_data <= 6400\"\n",
    "xlabels = [100, 400, 1600, 3200]\n",
    "\n",
    "plt.style.use('ggplot')\n",
    "fig, ax = plt.subplots(figsize=(10, 7), tight_layout=True)\n",
    "sns.lineplot(\n",
    "    linewidth=5,\n",
    "    dashes=False,\n",
    "    legend=False,\n",
    "    x=\"n_trajectories\",\n",
    "    y=\"variance\",\n",
    "    hue=\"index\",\n",
    "    ax=ax,\n",
    "    data=variance_result_df.query(\"(index == 'dm' or index == 'pdis')\"),\n",
    "    ci=None,\n",
    ")\n",
    "# title and legend\n",
    "ax.legend([\"DM\", \"PDIS\"], loc=\"upper right\", fontsize=25)\n",
    "# yaxis\n",
    "# ax.set_yscale(\"log\")\n",
    "ax.set_ylabel(\"variance\", fontsize=25)\n",
    "ax.tick_params(axis=\"y\", labelsize=15)\n",
    "ax.yaxis.set_label_coords(-0.08, 0.5)\n",
    "# xaxis\n",
    "ax.set_xscale(\"log\")\n",
    "ax.set_xlabel(\"number of trajectories\", fontsize=25)\n",
    "ax.set_xticks(xlabels)\n",
    "ax.set_xticklabels(xlabels, fontsize=15)\n",
    "ax.xaxis.set_label_coords(0.5, -0.1)"
   ]
  },
  {
   "cell_type": "code",
   "execution_count": 21,
   "metadata": {},
   "outputs": [
    {
     "name": "stderr",
     "output_type": "stream",
     "text": [
      "/var/folders/48/ly7vft814qv_x6krlfw5s8_c0000gn/T/ipykernel_21380/1525150744.py:7: FutureWarning: \n",
      "\n",
      "The `ci` parameter is deprecated. Use `errorbar=None` for the same effect.\n",
      "\n",
      "  sns.lineplot(\n"
     ]
    },
    {
     "data": {
      "image/png": "[encoded data removed]",
      "text/plain": [
       "<Figure size 1000x700 with 1 Axes>"
      ]
     },
     "metadata": {},
     "output_type": "display_data"
    }
   ],
   "source": [
    "# figure configs\n",
    "# query = \"(est == 'DM' or est == 'IPS') and num_data <= 6400\"\n",
    "xlabels = [100, 400, 1600]\n",
    "\n",
    "plt.style.use('ggplot')\n",
    "fig, ax = plt.subplots(figsize=(10, 7), tight_layout=True)\n",
    "sns.lineplot(\n",
    "    linewidth=5,\n",
    "    dashes=False,\n",
    "    legend=False,\n",
    "    x=\"n_trajectories\",\n",
    "    y=\"variance\",\n",
    "    hue=\"index\",\n",
    "    ax=ax,\n",
    "    data=variance_result_df.query(\"(index == 'tis' or index == 'pdis')\"),\n",
    "    ci=None,\n",
    ")\n",
    "# title and legend\n",
    "ax.legend([\"TIS\", \"PDIS\"], loc=\"upper right\", fontsize=25)\n",
    "# yaxis\n",
    "# ax.set_yscale(\"log\")\n",
    "ax.set_ylabel(\"variance\", fontsize=25)\n",
    "ax.tick_params(axis=\"y\", labelsize=15)\n",
    "ax.yaxis.set_label_coords(-0.08, 0.5)\n",
    "# xaxis\n",
    "ax.set_xscale(\"log\")\n",
    "ax.set_xlabel(\"number of trajectories\", fontsize=25)\n",
    "ax.set_xticks(xlabels)\n",
    "ax.set_xticklabels(xlabels, fontsize=15)\n",
    "ax.xaxis.set_label_coords(0.5, -0.1)"
   ]
  },
  {
   "cell_type": "code",
   "execution_count": 22,
   "metadata": {},
   "outputs": [
    {
     "name": "stderr",
     "output_type": "stream",
     "text": [
      "/var/folders/48/ly7vft814qv_x6krlfw5s8_c0000gn/T/ipykernel_21380/3324735909.py:7: FutureWarning: \n",
      "\n",
      "The `ci` parameter is deprecated. Use `errorbar=None` for the same effect.\n",
      "\n",
      "  sns.lineplot(\n"
     ]
    },
    {
     "data": {
      "image/png": "[encoded data removed]",
      "text/plain": [
       "<Figure size 1000x700 with 1 Axes>"
      ]
     },
     "metadata": {},
     "output_type": "display_data"
    }
   ],
   "source": [
    "# figure configs\n",
    "# query = \"(est == 'DM' or est == 'IPS') and num_data <= 6400\"\n",
    "xlabels = [100, 400, 1600]\n",
    "\n",
    "plt.style.use('ggplot')\n",
    "fig, ax = plt.subplots(figsize=(10, 7), tight_layout=True)\n",
    "sns.lineplot(\n",
    "    linewidth=5,\n",
    "    dashes=False,\n",
    "    legend=False,\n",
    "    x=\"n_trajectories\",\n",
    "    y=\"variance\",\n",
    "    hue=\"index\",\n",
    "    ax=ax,\n",
    "    data=variance_result_df.query(\"(index == 'pdis' or index == 'dr')\"),\n",
    "    ci=None,\n",
    ")\n",
    "# title and legend\n",
    "ax.legend([\"PDIS\", \"DR\"], loc=\"upper right\", fontsize=25)\n",
    "# yaxis\n",
    "# ax.set_yscale(\"log\")\n",
    "ax.set_ylabel(\"variance\", fontsize=25)\n",
    "ax.tick_params(axis=\"y\", labelsize=15)\n",
    "ax.yaxis.set_label_coords(-0.08, 0.5)\n",
    "# xaxis\n",
    "ax.set_xscale(\"log\")\n",
    "ax.set_xlabel(\"number of trajectories\", fontsize=25)\n",
    "ax.set_xticks(xlabels)\n",
    "ax.set_xticklabels(xlabels, fontsize=15)\n",
    "ax.xaxis.set_label_coords(0.5, -0.1)"
   ]
  },
  {
   "cell_type": "code",
   "execution_count": null,
   "metadata": {},
   "outputs": [],
   "source": []
  }
 ],
 "metadata": {
  "kernelspec": {
   "display_name": "Python 3",
   "language": "python",
   "name": "python3"
  },
  "language_info": {
   "codemirror_mode": {
    "name": "ipython",
    "version": 3
   },
   "file_extension": ".py",
   "mimetype": "text/x-python",
   "name": "python",
   "nbconvert_exporter": "python",
   "pygments_lexer": "ipython3",
   "version": "3.10.6"
  },
  "orig_nbformat": 4,
  "vscode": {
   "interpreter": {
    "hash": "70404ee114725fce8ed9e697d67827f8546c678889944e6d695790702cbfe1f5"
   }
  }
 },
 "nbformat": 4,
 "nbformat_minor": 2
}
