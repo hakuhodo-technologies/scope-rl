{
 "cells": [
  {
   "cell_type": "code",
   "execution_count": 2,
   "metadata": {},
   "outputs": [],
   "source": [
    "import sys\n",
    "sys.path.append('../')\n",
    "sys.path.append('../../')"
   ]
  },
  {
   "cell_type": "code",
   "execution_count": 3,
   "metadata": {},
   "outputs": [],
   "source": [
    "# implement data collection procedure on the RTBGym environment\n",
    "\n",
    "# import OFRL modules\n",
    "import ofrl\n",
    "from rtbgym import RTBEnv, CustomizedRTBEnv\n",
    "from ofrl.dataset import SyntheticDataset\n",
    "from ofrl.policy import OnlineHead, ContinuousEvalHead\n",
    "from ofrl.policy import ContinuousTruncatedGaussianHead as TruncatedGaussianHead\n",
    "from ofrl.ope.online import (\n",
    "    calc_on_policy_policy_value,\n",
    "    visualize_on_policy_policy_value,\n",
    ")\n",
    "from ofrl.utils import MinMaxScaler, MinMaxActionScaler\n",
    "\n",
    "# import d3rlpy algorithms\n",
    "from d3rlpy.algos import RandomPolicy\n",
    "# from d3rlpy.preprocessing import MinMaxScaler, MinMaxActionScaler\n",
    "from ofrl.utils import MinMaxScaler, MinMaxActionScaler\n",
    "\n",
    "# import from other libraries\n",
    "import gym\n",
    "import torch\n",
    "from sklearn.model_selection import train_test_split"
   ]
  },
  {
   "cell_type": "code",
   "execution_count": 4,
   "metadata": {},
   "outputs": [],
   "source": [
    "import pickle\n",
    "from glob import glob\n",
    "from tqdm import tqdm\n",
    "\n",
    "import numpy as np\n",
    "import pandas as pd\n",
    "from pandas import DataFrame\n",
    "\n",
    "import matplotlib.pyplot as plt\n",
    "import seaborn as sns\n",
    "\n",
    "%matplotlib inline"
   ]
  },
  {
   "cell_type": "code",
   "execution_count": 5,
   "metadata": {},
   "outputs": [],
   "source": [
    "# log directory\n",
    "from pathlib import Path\n",
    "Path(\"logs/\").mkdir(exist_ok=True)"
   ]
  },
  {
   "cell_type": "code",
   "execution_count": 6,
   "metadata": {},
   "outputs": [],
   "source": [
    "# standardized environment for discrete action\n",
    "env = gym.make(\"RTBEnv-continuous-v0\")\n",
    "# for api compatibility to d3rlpy\n",
    "from ofrl.utils import OldGymAPIWrapper\n",
    "env_ = OldGymAPIWrapper(env)\n",
    "# behavior policy\n",
    "from d3rlpy.algos import SAC\n",
    "from d3rlpy.models.encoders import VectorEncoderFactory\n",
    "from d3rlpy.models.q_functions import MeanQFunctionFactory\n",
    "from d3rlpy.online.buffers import ReplayBuffer\n",
    "\n",
    "# model\n",
    "sac = SAC(\n",
    "    actor_encoder_factory=VectorEncoderFactory(hidden_units=[30, 30]),\n",
    "    critic_encoder_factory=VectorEncoderFactory(hidden_units=[30, 30]),\n",
    "    q_func_factory=MeanQFunctionFactory(),\n",
    "    use_gpu=torch.cuda.is_available(),\n",
    "    action_scaler=MinMaxActionScaler(\n",
    "        minimum=env_.action_space.low,   # 0.1\n",
    "        maximum=env_.action_space.high,  # 10\n",
    "    ),\n",
    ")\n",
    "# setup replay buffer\n",
    "buffer = ReplayBuffer(\n",
    "    maxlen=10000,\n",
    "    env=env_,\n",
    ")"
   ]
  },
  {
   "cell_type": "code",
   "execution_count": 7,
   "metadata": {},
   "outputs": [
    {
     "name": "stdout",
     "output_type": "stream",
     "text": [
      "2023-03-16 16:59.54 [info     ] Directory is created at d3rlpy_logs/SAC_online_20230316165954\n",
      "2023-03-16 16:59.54 [debug    ] Fitting action scaler...       action_scler=min_max\n",
      "2023-03-16 16:59.54 [debug    ] Building model...\n",
      "2023-03-16 16:59.54 [debug    ] Model has been built.\n",
      "2023-03-16 16:59.54 [info     ] Parameters are saved to d3rlpy_logs/SAC_online_20230316165954/params.json params={'action_scaler': {'type': 'min_max', 'params': {'minimum': array([0.1]), 'maximum': array([10.])}}, 'actor_encoder_factory': {'type': 'vector', 'params': {'hidden_units': [30, 30], 'activation': 'relu', 'use_batch_norm': False, 'dropout_rate': None, 'use_dense': False}}, 'actor_learning_rate': 0.0003, 'actor_optim_factory': {'optim_cls': 'Adam', 'betas': (0.9, 0.999), 'eps': 1e-08, 'weight_decay': 0, 'amsgrad': False}, 'batch_size': 256, 'critic_encoder_factory': {'type': 'vector', 'params': {'hidden_units': [30, 30], 'activation': 'relu', 'use_batch_norm': False, 'dropout_rate': None, 'use_dense': False}}, 'critic_learning_rate': 0.0003, 'critic_optim_factory': {'optim_cls': 'Adam', 'betas': (0.9, 0.999), 'eps': 1e-08, 'weight_decay': 0, 'amsgrad': False}, 'gamma': 0.99, 'generated_maxlen': 100000, 'initial_temperature': 1.0, 'n_critics': 2, 'n_frames': 1, 'n_steps': 1, 'q_func_factory': {'type': 'mean', 'params': {'share_encoder': False}}, 'real_ratio': 1.0, 'reward_scaler': None, 'scaler': None, 'tau': 0.005, 'temp_learning_rate': 0.0003, 'temp_optim_factory': {'optim_cls': 'Adam', 'betas': (0.9, 0.999), 'eps': 1e-08, 'weight_decay': 0, 'amsgrad': False}, 'use_gpu': None, 'algorithm': 'SAC', 'observation_shape': (7,), 'action_size': 1}\n"
     ]
    },
    {
     "name": "stderr",
     "output_type": "stream",
     "text": [
      "/Users/ren/.pyenv/versions/3.10.6/lib/python3.10/site-packages/gym/utils/passive_env_checker.py:187: UserWarning: \u001b[33mWARN: Future gym versions will require that `Env.reset` can be passed `options` to allow the environment initialisation to be passed additional information.\u001b[0m\n",
      "  logger.warn(\n"
     ]
    },
    {
     "data": {
      "application/vnd.jupyter.widget-view+json": {
       "model_id": "fab3f33c328849628444e96b45691e5d",
       "version_major": 2,
       "version_minor": 0
      },
      "text/plain": [
       "  0%|          | 0/100000 [00:00<?, ?it/s]"
      ]
     },
     "metadata": {},
     "output_type": "display_data"
    },
    {
     "name": "stdout",
     "output_type": "stream",
     "text": [
      "2023-03-16 16:59.55 [info     ] Model parameters are saved to d3rlpy_logs/SAC_online_20230316165954/model_1000.pt\n",
      "2023-03-16 16:59.55 [info     ] SAC_online_20230316165954: epoch=1 step=1000 epoch=1 metrics={'time_inference': 0.00034663939476013185, 'time_environment_step': 0.0003436546325683594, 'time_step': 0.000713925838470459, 'rollout_return': 4.535211267605634, 'evaluation': 0.0} step=1000\n",
      "2023-03-16 16:59.59 [info     ] Model parameters are saved to d3rlpy_logs/SAC_online_20230316165954/model_2000.pt\n",
      "2023-03-16 16:59.59 [info     ] SAC_online_20230316165954: epoch=2 step=2000 epoch=2 metrics={'time_inference': 0.00034594893455505373, 'time_environment_step': 0.00040945792198181154, 'time_sample_batch': 0.00013985490798950197, 'time_algorithm_update': 0.0034187695980072022, 'temp_loss': -8.865488401412964, 'temp': 1.1656148592233657, 'critic_loss': 762.5420944519043, 'actor_loss': 7.192888723894954, 'time_step': 0.004348438024520874, 'rollout_return': 12.795774647887324, 'evaluation': 14.6} step=2000\n",
      "2023-03-16 17:00.03 [info     ] Model parameters are saved to d3rlpy_logs/SAC_online_20230316165954/model_3000.pt\n",
      "2023-03-16 17:00.03 [info     ] SAC_online_20230316165954: epoch=3 step=3000 epoch=3 metrics={'time_inference': 0.0002995696067810059, 'time_environment_step': 0.0003267199993133545, 'time_sample_batch': 0.00011903905868530273, 'time_algorithm_update': 0.0028902463912963867, 'temp_loss': -8.689698573112487, 'temp': 1.549505114197731, 'critic_loss': 409.48621464538576, 'actor_loss': 26.8219629573822, 'time_step': 0.003661304235458374, 'rollout_return': 13.028169014084508, 'evaluation': 14.3} step=3000\n",
      "2023-03-16 17:00.06 [info     ] Model parameters are saved to d3rlpy_logs/SAC_online_20230316165954/model_4000.pt\n",
      "2023-03-16 17:00.07 [info     ] SAC_online_20230316165954: epoch=4 step=4000 epoch=4 metrics={'time_inference': 0.0003009676933288574, 'time_environment_step': 0.0003332231044769287, 'time_sample_batch': 0.0001250624656677246, 'time_algorithm_update': 0.0029193344116210935, 'temp_loss': -11.863378102302551, 'temp': 2.1615879126787187, 'critic_loss': 786.572761505127, 'actor_loss': 40.09635665512085, 'time_step': 0.0037046289443969727, 'rollout_return': 13.06338028169014, 'evaluation': 13.3} step=4000\n",
      "2023-03-16 17:00.10 [info     ] Model parameters are saved to d3rlpy_logs/SAC_online_20230316165954/model_5000.pt\n",
      "2023-03-16 17:00.10 [info     ] SAC_online_20230316165954: epoch=5 step=5000 epoch=5 metrics={'time_inference': 0.0002957916259765625, 'time_environment_step': 0.0003228118419647217, 'time_sample_batch': 0.00012743330001831055, 'time_algorithm_update': 0.0028663833141326905, 'temp_loss': -17.22135003757477, 'temp': 3.1380964560508726, 'critic_loss': 1595.5963275146485, 'actor_loss': 59.77937663650513, 'time_step': 0.003637887954711914, 'rollout_return': 12.788732394366198, 'evaluation': 13.3} step=5000\n",
      "2023-03-16 17:00.14 [info     ] Model parameters are saved to d3rlpy_logs/SAC_online_20230316165954/model_6000.pt\n",
      "2023-03-16 17:00.14 [info     ] SAC_online_20230316165954: epoch=6 step=6000 epoch=6 metrics={'time_inference': 0.00030414676666259765, 'time_environment_step': 0.0003233644962310791, 'time_sample_batch': 0.00013024044036865235, 'time_algorithm_update': 0.002859389781951904, 'temp_loss': -24.734056533336638, 'temp': 4.607448757171631, 'critic_loss': 3250.7776149902343, 'actor_loss': 88.09136237335206, 'time_step': 0.0036428866386413574, 'rollout_return': 13.17605633802817, 'evaluation': 14.2} step=6000\n",
      "2023-03-16 17:00.18 [info     ] Model parameters are saved to d3rlpy_logs/SAC_online_20230316165954/model_7000.pt\n",
      "2023-03-16 17:00.18 [info     ] SAC_online_20230316165954: epoch=7 step=7000 epoch=7 metrics={'time_inference': 0.0003108518123626709, 'time_environment_step': 0.00033724403381347654, 'time_sample_batch': 0.00013772988319396974, 'time_algorithm_update': 0.003006635904312134, 'temp_loss': -43.769564109802246, 'temp': 6.878287155151368, 'critic_loss': 7807.7900397949215, 'actor_loss': 145.13997389984132, 'time_step': 0.003820003271102905, 'rollout_return': 13.295774647887324, 'evaluation': 16.3} step=7000\n",
      "2023-03-16 17:00.22 [info     ] Model parameters are saved to d3rlpy_logs/SAC_online_20230316165954/model_8000.pt\n",
      "2023-03-16 17:00.22 [info     ] SAC_online_20230316165954: epoch=8 step=8000 epoch=8 metrics={'time_inference': 0.00030591630935668945, 'time_environment_step': 0.000327392578125, 'time_sample_batch': 0.0001354701519012451, 'time_algorithm_update': 0.0029386420249938967, 'temp_loss': -58.75257258033752, 'temp': 10.26280097579956, 'critic_loss': 15715.694688476562, 'actor_loss': 208.90944653320312, 'time_step': 0.003733612060546875, 'rollout_return': 12.93661971830986, 'evaluation': 12.4} step=8000\n",
      "2023-03-16 17:00.25 [info     ] Model parameters are saved to d3rlpy_logs/SAC_online_20230316165954/model_9000.pt\n",
      "2023-03-16 17:00.25 [info     ] SAC_online_20230316165954: epoch=9 step=9000 epoch=9 metrics={'time_inference': 0.000298245906829834, 'time_environment_step': 0.0003242471218109131, 'time_sample_batch': 0.0001391432285308838, 'time_algorithm_update': 0.0029006083011627196, 'temp_loss': -82.06916693878173, 'temp': 14.708864811897278, 'critic_loss': 29504.55604785156, 'actor_loss': 283.70246684265135, 'time_step': 0.0036882710456848143, 'rollout_return': 13.21830985915493, 'evaluation': 13.6} step=9000\n",
      "2023-03-16 17:00.29 [info     ] Model parameters are saved to d3rlpy_logs/SAC_online_20230316165954/model_10000.pt\n",
      "2023-03-16 17:00.29 [info     ] SAC_online_20230316165954: epoch=10 step=10000 epoch=10 metrics={'time_inference': 0.0003078873157501221, 'time_environment_step': 0.0003320777416229248, 'time_sample_batch': 0.0001414334774017334, 'time_algorithm_update': 0.002924607515335083, 'temp_loss': -116.61984893417359, 'temp': 21.658438499450682, 'critic_loss': 60839.858818359375, 'actor_loss': 406.50093228149416, 'time_step': 0.003733081340789795, 'rollout_return': 13.380281690140846, 'evaluation': 17.3} step=10000\n",
      "2023-03-16 17:00.33 [info     ] Model parameters are saved to d3rlpy_logs/SAC_online_20230316165954/model_11000.pt\n",
      "2023-03-16 17:00.33 [info     ] SAC_online_20230316165954: epoch=11 step=11000 epoch=11 metrics={'time_inference': 0.0003052136898040772, 'time_environment_step': 0.000325225830078125, 'time_sample_batch': 0.0001396305561065674, 'time_algorithm_update': 0.0029161691665649412, 'temp_loss': -167.7566367340088, 'temp': 31.83698666191101, 'critic_loss': 119908.12240625, 'actor_loss': 573.4482101745606, 'time_step': 0.0037144596576690675, 'rollout_return': 13.73943661971831, 'evaluation': 15.6} step=11000\n",
      "2023-03-16 17:00.37 [info     ] Model parameters are saved to d3rlpy_logs/SAC_online_20230316165954/model_12000.pt\n",
      "2023-03-16 17:00.37 [info     ] SAC_online_20230316165954: epoch=12 step=12000 epoch=12 metrics={'time_inference': 0.0003013889789581299, 'time_environment_step': 0.00032346367835998533, 'time_sample_batch': 0.00014080071449279786, 'time_algorithm_update': 0.0029145710468292236, 'temp_loss': -273.9899502182007, 'temp': 47.48338326263428, 'critic_loss': 273063.334609375, 'actor_loss': 902.9759592895508, 'time_step': 0.0037081284523010254, 'rollout_return': 13.19718309859155, 'evaluation': 15.5} step=12000\n",
      "2023-03-16 17:00.41 [info     ] Model parameters are saved to d3rlpy_logs/SAC_online_20230316165954/model_13000.pt\n",
      "2023-03-16 17:00.41 [info     ] SAC_online_20230316165954: epoch=13 step=13000 epoch=13 metrics={'time_inference': 0.0003055858612060547, 'time_environment_step': 0.0003275425434112549, 'time_sample_batch': 0.00013863611221313476, 'time_algorithm_update': 0.002909741163253784, 'temp_loss': -369.05607754516603, 'temp': 69.92927276229858, 'critic_loss': 569819.799, 'actor_loss': 1282.0029725341797, 'time_step': 0.0037093355655670166, 'rollout_return': 12.82394366197183, 'evaluation': 15.0} step=13000\n",
      "2023-03-16 17:00.44 [info     ] Model parameters are saved to d3rlpy_logs/SAC_online_20230316165954/model_14000.pt\n",
      "2023-03-16 17:00.44 [info     ] SAC_online_20230316165954: epoch=14 step=14000 epoch=14 metrics={'time_inference': 0.0003022158145904541, 'time_environment_step': 0.0003251333236694336, 'time_sample_batch': 0.00013950657844543458, 'time_algorithm_update': 0.0029048454761505128, 'temp_loss': -740.6281444396973, 'temp': 104.25625986480713, 'critic_loss': 1521424.0963125, 'actor_loss': 2225.4922227783204, 'time_step': 0.0036997079849243166, 'rollout_return': 13.852112676056338, 'evaluation': 14.5} step=14000\n",
      "2023-03-16 17:00.48 [info     ] Model parameters are saved to d3rlpy_logs/SAC_online_20230316165954/model_15000.pt\n",
      "2023-03-16 17:00.48 [info     ] SAC_online_20230316165954: epoch=15 step=15000 epoch=15 metrics={'time_inference': 0.00030210447311401366, 'time_environment_step': 0.0003209984302520752, 'time_sample_batch': 0.00014071083068847656, 'time_algorithm_update': 0.002902867555618286, 'temp_loss': -881.7991079406738, 'temp': 157.89920680236816, 'critic_loss': 3068150.82175, 'actor_loss': 3134.027399169922, 'time_step': 0.0036947526931762694, 'rollout_return': 13.091549295774648, 'evaluation': 15.5} step=15000\n",
      "2023-03-16 17:00.52 [info     ] Model parameters are saved to d3rlpy_logs/SAC_online_20230316165954/model_16000.pt\n",
      "2023-03-16 17:00.52 [info     ] SAC_online_20230316165954: epoch=16 step=16000 epoch=16 metrics={'time_inference': 0.00031315732002258303, 'time_environment_step': 0.00032688641548156736, 'time_sample_batch': 0.00014375829696655274, 'time_algorithm_update': 0.0029566876888275145, 'temp_loss': -1465.3827821655273, 'temp': 223.84269877624513, 'critic_loss': 6567858.15875, 'actor_loss': 4629.453083007813, 'time_step': 0.003769731283187866, 'rollout_return': 13.549295774647888, 'evaluation': 15.6} step=16000\n",
      "2023-03-16 17:00.56 [info     ] Model parameters are saved to d3rlpy_logs/SAC_online_20230316165954/model_17000.pt\n",
      "2023-03-16 17:00.56 [info     ] SAC_online_20230316165954: epoch=17 step=17000 epoch=17 metrics={'time_inference': 0.00030271244049072263, 'time_environment_step': 0.00032718682289123533, 'time_sample_batch': 0.0001398005485534668, 'time_algorithm_update': 0.0029037089347839357, 'temp_loss': -2604.0782330322268, 'temp': 346.0046376953125, 'critic_loss': 17772431.245, 'actor_loss': 8162.366361816406, 'time_step': 0.00370102334022522, 'rollout_return': 14.098591549295774, 'evaluation': 13.7} step=17000\n",
      "2023-03-16 17:00.59 [info     ] Model parameters are saved to d3rlpy_logs/SAC_online_20230316165954/model_18000.pt\n",
      "2023-03-16 17:00.59 [info     ] SAC_online_20230316165954: epoch=18 step=18000 epoch=18 metrics={'time_inference': 0.0003038206100463867, 'time_environment_step': 0.0003234245777130127, 'time_sample_batch': 0.00013854694366455077, 'time_algorithm_update': 0.0028914554119110107, 'temp_loss': -2984.0657001953123, 'temp': 488.9345119934082, 'critic_loss': 31706176.779, 'actor_loss': 10131.126696289062, 'time_step': 0.0036852195262908937, 'rollout_return': 13.253521126760564, 'evaluation': 13.9} step=18000\n",
      "2023-03-16 17:01.03 [info     ] Model parameters are saved to d3rlpy_logs/SAC_online_20230316165954/model_19000.pt\n",
      "2023-03-16 17:01.03 [info     ] SAC_online_20230316165954: epoch=19 step=19000 epoch=19 metrics={'time_inference': 0.0003014795780181885, 'time_environment_step': 0.00032235193252563475, 'time_sample_batch': 0.00014095044136047362, 'time_algorithm_update': 0.0028980841636657715, 'temp_loss': -4256.39387133789, 'temp': 717.1994048461914, 'critic_loss': 65491293.676, 'actor_loss': 14750.759385742187, 'time_step': 0.0036908724308013915, 'rollout_return': 14.161971830985916, 'evaluation': 13.7} step=19000\n",
      "2023-03-16 17:01.07 [info     ] Model parameters are saved to d3rlpy_logs/SAC_online_20230316165954/model_20000.pt\n",
      "2023-03-16 17:01.07 [info     ] SAC_online_20230316165954: epoch=20 step=20000 epoch=20 metrics={'time_inference': 0.00029848146438598633, 'time_environment_step': 0.0003198683261871338, 'time_sample_batch': 0.00013795566558837892, 'time_algorithm_update': 0.0028931832313537596, 'temp_loss': -5183.473512695313, 'temp': 1002.6774634399414, 'critic_loss': 117506816.404, 'actor_loss': 18522.054731445314, 'time_step': 0.0036771008968353273, 'rollout_return': 13.246478873239436, 'evaluation': 15.4} step=20000\n",
      "2023-03-16 17:01.11 [info     ] Model parameters are saved to d3rlpy_logs/SAC_online_20230316165954/model_21000.pt\n",
      "2023-03-16 17:01.11 [info     ] SAC_online_20230316165954: epoch=21 step=21000 epoch=21 metrics={'time_inference': 0.00030391383171081546, 'time_environment_step': 0.00033036208152770994, 'time_sample_batch': 0.00013899159431457518, 'time_algorithm_update': 0.002905694246292114, 'temp_loss': -7571.732751220703, 'temp': 1459.874530395508, 'critic_loss': 253272021.088, 'actor_loss': 26748.10709375, 'time_step': 0.0037070813179016114, 'rollout_return': 12.45774647887324, 'evaluation': 16.0} step=21000\n",
      "2023-03-16 17:01.15 [info     ] Model parameters are saved to d3rlpy_logs/SAC_online_20230316165954/model_22000.pt\n",
      "2023-03-16 17:01.15 [info     ] SAC_online_20230316165954: epoch=22 step=22000 epoch=22 metrics={'time_inference': 0.0003017597198486328, 'time_environment_step': 0.00032204937934875486, 'time_sample_batch': 0.00013893914222717286, 'time_algorithm_update': 0.0028961265087127687, 'temp_loss': -11612.626392578126, 'temp': 2167.239575927734, 'critic_loss': 564849092.304, 'actor_loss': 40387.32321484375, 'time_step': 0.003686692237854004, 'rollout_return': 12.985915492957746, 'evaluation': 16.3} step=22000\n",
      "2023-03-16 17:01.18 [info     ] Model parameters are saved to d3rlpy_logs/SAC_online_20230316165954/model_23000.pt\n",
      "2023-03-16 17:01.18 [info     ] SAC_online_20230316165954: epoch=23 step=23000 epoch=23 metrics={'time_inference': 0.0003040268421173096, 'time_environment_step': 0.0003250696659088135, 'time_sample_batch': 0.0001412203311920166, 'time_algorithm_update': 0.002936734199523926, 'temp_loss': -17564.082666015624, 'temp': 3201.0336643066407, 'critic_loss': 1270421828.032, 'actor_loss': 60497.31588671875, 'time_step': 0.0037354018688201904, 'rollout_return': 13.232394366197184, 'evaluation': 14.1} step=23000\n",
      "2023-03-16 17:01.22 [info     ] Model parameters are saved to d3rlpy_logs/SAC_online_20230316165954/model_24000.pt\n",
      "2023-03-16 17:01.22 [info     ] SAC_online_20230316165954: epoch=24 step=24000 epoch=24 metrics={'time_inference': 0.0003069863319396973, 'time_environment_step': 0.0003241870403289795, 'time_sample_batch': 0.0001391446590423584, 'time_algorithm_update': 0.002902792453765869, 'temp_loss': -23626.290744140624, 'temp': 4659.939158691406, 'critic_loss': 2581311319.424, 'actor_loss': 84639.76944921874, 'time_step': 0.0037019727230072023, 'rollout_return': 12.5, 'evaluation': 15.2} step=24000\n",
      "2023-03-16 17:01.26 [info     ] Model parameters are saved to d3rlpy_logs/SAC_online_20230316165954/model_25000.pt\n",
      "2023-03-16 17:01.26 [info     ] SAC_online_20230316165954: epoch=25 step=25000 epoch=25 metrics={'time_inference': 0.00030881118774414064, 'time_environment_step': 0.0003211648464202881, 'time_sample_batch': 0.00013982748985290528, 'time_algorithm_update': 0.002882817029953003, 'temp_loss': -39958.34532904053, 'temp': 7110.502916503906, 'critic_loss': 6887466044.928, 'actor_loss': 136713.1008671875, 'time_step': 0.00368070650100708, 'rollout_return': 14.084507042253522, 'evaluation': 12.8} step=25000\n",
      "2023-03-16 17:01.30 [info     ] Model parameters are saved to d3rlpy_logs/SAC_online_20230316165954/model_26000.pt\n",
      "2023-03-16 17:01.30 [info     ] SAC_online_20230316165954: epoch=26 step=26000 epoch=26 metrics={'time_inference': 0.0002998392581939697, 'time_environment_step': 0.00032125115394592284, 'time_sample_batch': 0.00013811254501342772, 'time_algorithm_update': 0.0028987059593200684, 'temp_loss': -10496.715545898438, 'temp': 8520.037493652344, 'critic_loss': 4599707864.352, 'actor_loss': 67972.69657226563, 'time_step': 0.0036857528686523437, 'rollout_return': 13.626760563380282, 'evaluation': 15.2} step=26000\n",
      "2023-03-16 17:01.33 [info     ] Model parameters are saved to d3rlpy_logs/SAC_online_20230316165954/model_27000.pt\n",
      "2023-03-16 17:01.33 [info     ] SAC_online_20230316165954: epoch=27 step=27000 epoch=27 metrics={'time_inference': 0.0003066651821136475, 'time_environment_step': 0.0003304595947265625, 'time_sample_batch': 0.0001415081024169922, 'time_algorithm_update': 0.0029714219570159913, 'temp_loss': 10662.345514068604, 'temp': 8330.98328125, 'critic_loss': 338290814.944, 'actor_loss': 5929.869210670471, 'time_step': 0.003779376983642578, 'rollout_return': 14.091549295774648, 'evaluation': 15.8} step=27000\n",
      "2023-03-16 17:01.37 [info     ] Model parameters are saved to d3rlpy_logs/SAC_online_20230316165954/model_28000.pt\n",
      "2023-03-16 17:01.37 [info     ] SAC_online_20230316165954: epoch=28 step=28000 epoch=28 metrics={'time_inference': 0.00029920148849487305, 'time_environment_step': 0.0003246307373046875, 'time_sample_batch': 0.00014000844955444337, 'time_algorithm_update': 0.002903193473815918, 'temp_loss': 10656.586256347657, 'temp': 6896.4870625, 'critic_loss': 71326248.624, 'actor_loss': -9819.542357910157, 'time_step': 0.0036950111389160156, 'rollout_return': 14.077464788732394, 'evaluation': 15.4} step=28000\n",
      "2023-03-16 17:01.41 [info     ] Model parameters are saved to d3rlpy_logs/SAC_online_20230316165954/model_29000.pt\n",
      "2023-03-16 17:01.41 [info     ] SAC_online_20230316165954: epoch=29 step=29000 epoch=29 metrics={'time_inference': 0.0003036952018737793, 'time_environment_step': 0.00032451224327087404, 'time_sample_batch': 0.0001390972137451172, 'time_algorithm_update': 0.002907770872116089, 'temp_loss': 8786.279891601562, 'temp': 5566.8828955078125, 'critic_loss': 53562221.152, 'actor_loss': -9643.388681640625, 'time_step': 0.0037033238410949707, 'rollout_return': 14.204225352112676, 'evaluation': 15.2} step=29000\n",
      "2023-03-16 17:01.45 [info     ] Model parameters are saved to d3rlpy_logs/SAC_online_20230316165954/model_30000.pt\n",
      "2023-03-16 17:01.45 [info     ] SAC_online_20230316165954: epoch=30 step=30000 epoch=30 metrics={'time_inference': 0.00030032634735107424, 'time_environment_step': 0.0003227629661560059, 'time_sample_batch': 0.00014015293121337892, 'time_algorithm_update': 0.0028924207687377928, 'temp_loss': 6887.645178466797, 'temp': 4480.145605957031, 'critic_loss': 36078114.217, 'actor_loss': -6874.545330322266, 'time_step': 0.00368391489982605, 'rollout_return': 14.507042253521126, 'evaluation': 15.2} step=30000\n",
      "2023-03-16 17:01.49 [info     ] Model parameters are saved to d3rlpy_logs/SAC_online_20230316165954/model_31000.pt\n",
      "2023-03-16 17:01.49 [info     ] SAC_online_20230316165954: epoch=31 step=31000 epoch=31 metrics={'time_inference': 0.0003059146404266357, 'time_environment_step': 0.00032944488525390623, 'time_sample_batch': 0.00014454054832458495, 'time_algorithm_update': 0.00296002984046936, 'temp_loss': 5670.304758789062, 'temp': 3588.4437602539065, 'critic_loss': 18889031.331, 'actor_loss': -5437.425518554687, 'time_step': 0.0037697398662567137, 'rollout_return': 14.471830985915492, 'evaluation': 13.6} step=31000\n",
      "2023-03-16 17:01.52 [info     ] Model parameters are saved to d3rlpy_logs/SAC_online_20230316165954/model_32000.pt\n",
      "2023-03-16 17:01.52 [info     ] SAC_online_20230316165954: epoch=32 step=32000 epoch=32 metrics={'time_inference': 0.0003047478199005127, 'time_environment_step': 0.0003285007476806641, 'time_sample_batch': 0.00013979864120483397, 'time_algorithm_update': 0.0029576711654663084, 'temp_loss': 4542.210511474609, 'temp': 2868.6064694824217, 'critic_loss': 10065308.33, 'actor_loss': -4124.415125244141, 'time_step': 0.0037591445446014406, 'rollout_return': 14.394366197183098, 'evaluation': 14.7} step=32000\n",
      "2023-03-16 17:01.56 [info     ] Model parameters are saved to d3rlpy_logs/SAC_online_20230316165954/model_33000.pt\n",
      "2023-03-16 17:01.56 [info     ] SAC_online_20230316165954: epoch=33 step=33000 epoch=33 metrics={'time_inference': 0.0003049173355102539, 'time_environment_step': 0.000329939603805542, 'time_sample_batch': 0.00013965797424316407, 'time_algorithm_update': 0.0029230523109436035, 'temp_loss': 3620.0825856933593, 'temp': 2293.558855712891, 'critic_loss': 5790830.27625, 'actor_loss': -3089.339937133789, 'time_step': 0.0037260875701904295, 'rollout_return': 14.28169014084507, 'evaluation': 14.3} step=33000\n",
      "2023-03-16 17:02.00 [info     ] Model parameters are saved to d3rlpy_logs/SAC_online_20230316165954/model_34000.pt\n",
      "2023-03-16 17:02.00 [info     ] SAC_online_20230316165954: epoch=34 step=34000 epoch=34 metrics={'time_inference': 0.00029897427558898927, 'time_environment_step': 0.00032225656509399415, 'time_sample_batch': 0.0001407632827758789, 'time_algorithm_update': 0.0028948166370391846, 'temp_loss': 2878.142526977539, 'temp': 1834.998332397461, 'critic_loss': 3656585.92025, 'actor_loss': -2311.0857823486326, 'time_step': 0.0036850335597991943, 'rollout_return': 14.190140845070422, 'evaluation': 12.0} step=34000\n",
      "2023-03-16 17:02.04 [info     ] Model parameters are saved to d3rlpy_logs/SAC_online_20230316165954/model_35000.pt\n",
      "2023-03-16 17:02.04 [info     ] SAC_online_20230316165954: epoch=35 step=35000 epoch=35 metrics={'time_inference': 0.0003053433895111084, 'time_environment_step': 0.0003184812068939209, 'time_sample_batch': 0.0001386260986328125, 'time_algorithm_update': 0.0028966305255889893, 'temp_loss': 2337.9568903808595, 'temp': 1467.3556619873048, 'critic_loss': 2102793.968625, 'actor_loss': -1874.4679841308593, 'time_step': 0.0036869382858276366, 'rollout_return': 14.267605633802816, 'evaluation': 12.2} step=35000\n",
      "2023-03-16 17:02.08 [info     ] Model parameters are saved to d3rlpy_logs/SAC_online_20230316165954/model_36000.pt\n",
      "2023-03-16 17:02.08 [info     ] SAC_online_20230316165954: epoch=36 step=36000 epoch=36 metrics={'time_inference': 0.00029996156692504885, 'time_environment_step': 0.0003245162963867187, 'time_sample_batch': 0.00013929152488708496, 'time_algorithm_update': 0.002907251596450806, 'temp_loss': 1860.3030949707031, 'temp': 1172.650625, 'critic_loss': 1412128.29725, 'actor_loss': -1485.8795232543946, 'time_step': 0.0036990008354187013, 'rollout_return': 14.359154929577464, 'evaluation': 14.8} step=36000\n",
      "2023-03-16 17:02.11 [info     ] Model parameters are saved to d3rlpy_logs/SAC_online_20230316165954/model_37000.pt\n",
      "2023-03-16 17:02.11 [info     ] SAC_online_20230316165954: epoch=37 step=37000 epoch=37 metrics={'time_inference': 0.00030255746841430665, 'time_environment_step': 0.00032280683517456056, 'time_sample_batch': 0.00013973736763000488, 'time_algorithm_update': 0.0029069807529449464, 'temp_loss': 1479.5590512695312, 'temp': 937.7265045776368, 'critic_loss': 986568.215625, 'actor_loss': -1173.7755830078124, 'time_step': 0.00370005464553833, 'rollout_return': 14.295774647887324, 'evaluation': 14.5} step=37000\n",
      "2023-03-16 17:02.15 [info     ] Model parameters are saved to d3rlpy_logs/SAC_online_20230316165954/model_38000.pt\n",
      "2023-03-16 17:02.15 [info     ] SAC_online_20230316165954: epoch=38 step=38000 epoch=38 metrics={'time_inference': 0.00030458974838256834, 'time_environment_step': 0.00032896089553833006, 'time_sample_batch': 0.0001421802043914795, 'time_algorithm_update': 0.0029316794872283935, 'temp_loss': 1182.3929629516601, 'temp': 750.8444885253906, 'critic_loss': 718028.0423125, 'actor_loss': -914.8458453369141, 'time_step': 0.00373643159866333, 'rollout_return': 13.809859154929578, 'evaluation': 14.9} step=38000\n",
      "2023-03-16 17:02.19 [info     ] Model parameters are saved to d3rlpy_logs/SAC_online_20230316165954/model_39000.pt\n",
      "2023-03-16 17:02.19 [info     ] SAC_online_20230316165954: epoch=39 step=39000 epoch=39 metrics={'time_inference': 0.00031054067611694335, 'time_environment_step': 0.0003267934322357178, 'time_sample_batch': 0.00014138507843017577, 'time_algorithm_update': 0.002932124376296997, 'temp_loss': 931.6127197875977, 'temp': 601.4836578979492, 'critic_loss': 512546.495375, 'actor_loss': -657.7847051839829, 'time_step': 0.0037395648956298827, 'rollout_return': 14.091549295774648, 'evaluation': 13.9} step=39000\n",
      "2023-03-16 17:02.23 [info     ] Model parameters are saved to d3rlpy_logs/SAC_online_20230316165954/model_40000.pt\n",
      "2023-03-16 17:02.23 [info     ] SAC_online_20230316165954: epoch=40 step=40000 epoch=40 metrics={'time_inference': 0.00030006766319274903, 'time_environment_step': 0.0003207247257232666, 'time_sample_batch': 0.00013962626457214355, 'time_algorithm_update': 0.0028976914882659914, 'temp_loss': 756.2848770446777, 'temp': 481.54086419677736, 'critic_loss': 341129.895015625, 'actor_loss': -531.9713692932129, 'time_step': 0.003686211109161377, 'rollout_return': 14.211267605633802, 'evaluation': 15.6} step=40000\n",
      "2023-03-16 17:02.26 [info     ] Model parameters are saved to d3rlpy_logs/SAC_online_20230316165954/model_41000.pt\n",
      "2023-03-16 17:02.26 [info     ] SAC_online_20230316165954: epoch=41 step=41000 epoch=41 metrics={'time_inference': 0.0003017899990081787, 'time_environment_step': 0.0003233182430267334, 'time_sample_batch': 0.00013903212547302247, 'time_algorithm_update': 0.0029042556285858155, 'temp_loss': 603.8598561401367, 'temp': 385.1387663879394, 'critic_loss': 250357.40015625, 'actor_loss': -395.15061948394776, 'time_step': 0.003696458101272583, 'rollout_return': 14.605633802816902, 'evaluation': 13.5} step=41000\n",
      "2023-03-16 17:02.30 [info     ] Model parameters are saved to d3rlpy_logs/SAC_online_20230316165954/model_42000.pt\n",
      "2023-03-16 17:02.30 [info     ] SAC_online_20230316165954: epoch=42 step=42000 epoch=42 metrics={'time_inference': 0.00030305910110473635, 'time_environment_step': 0.00032053399085998533, 'time_sample_batch': 0.00013945341110229491, 'time_algorithm_update': 0.002894790172576904, 'temp_loss': 359.2785185289383, 'temp': 310.9456616516113, 'critic_loss': 308307.7356484375, 'actor_loss': -143.25466334629058, 'time_step': 0.0036860623359680177, 'rollout_return': 13.408450704225352, 'evaluation': 15.0} step=42000\n",
      "2023-03-16 17:02.34 [info     ] Model parameters are saved to d3rlpy_logs/SAC_online_20230316165954/model_43000.pt\n",
      "2023-03-16 17:02.34 [info     ] SAC_online_20230316165954: epoch=43 step=43000 epoch=43 metrics={'time_inference': 0.0003117525577545166, 'time_environment_step': 0.0003363378047943115, 'time_sample_batch': 0.00014503765106201172, 'time_algorithm_update': 0.0029856462478637697, 'temp_loss': 74.3723784673214, 'temp': 284.01554415893554, 'critic_loss': 572737.7253671875, 'actor_loss': 233.46855624485016, 'time_step': 0.003808590650558472, 'rollout_return': 13.169014084507042, 'evaluation': 15.6} step=43000\n",
      "2023-03-16 17:02.38 [info     ] Model parameters are saved to d3rlpy_logs/SAC_online_20230316165954/model_44000.pt\n",
      "2023-03-16 17:02.38 [info     ] SAC_online_20230316165954: epoch=44 step=44000 epoch=44 metrics={'time_inference': 0.0003162369728088379, 'time_environment_step': 0.0003401901721954346, 'time_sample_batch': 0.00014443206787109376, 'time_algorithm_update': 0.002967317819595337, 'temp_loss': 50.560165576934814, 'temp': 268.8157385253906, 'critic_loss': 634393.416953125, 'actor_loss': 261.578984005928, 'time_step': 0.0037976253032684327, 'rollout_return': 13.28169014084507, 'evaluation': 13.4} step=44000\n",
      "2023-03-16 17:02.42 [info     ] Model parameters are saved to d3rlpy_logs/SAC_online_20230316165954/model_45000.pt\n",
      "2023-03-16 17:02.42 [info     ] SAC_online_20230316165954: epoch=45 step=45000 epoch=45 metrics={'time_inference': 0.0003512835502624512, 'time_environment_step': 0.0004127476215362549, 'time_sample_batch': 0.0001663644313812256, 'time_algorithm_update': 0.003350560426712036, 'temp_loss': 26.216984610557557, 'temp': 255.14261215209962, 'critic_loss': 689310.334078125, 'actor_loss': 300.54797206914424, 'time_step': 0.004317568302154541, 'rollout_return': 12.859154929577464, 'evaluation': 12.8} step=45000\n",
      "2023-03-16 17:02.46 [info     ] Model parameters are saved to d3rlpy_logs/SAC_online_20230316165954/model_46000.pt\n",
      "2023-03-16 17:02.46 [info     ] SAC_online_20230316165954: epoch=46 step=46000 epoch=46 metrics={'time_inference': 0.00032276248931884763, 'time_environment_step': 0.0003632161617279053, 'time_sample_batch': 0.00015213251113891602, 'time_algorithm_update': 0.003162975788116455, 'temp_loss': -57.68318382024765, 'temp': 247.95440316772462, 'critic_loss': 843364.5955, 'actor_loss': 421.73079120063784, 'time_step': 0.004034591913223267, 'rollout_return': 13.492957746478874, 'evaluation': 14.0} step=46000\n",
      "2023-03-16 17:02.50 [info     ] Model parameters are saved to d3rlpy_logs/SAC_online_20230316165954/model_47000.pt\n",
      "2023-03-16 17:02.50 [info     ] SAC_online_20230316165954: epoch=47 step=47000 epoch=47 metrics={'time_inference': 0.0003135874271392822, 'time_environment_step': 0.0003438100814819336, 'time_sample_batch': 0.00014800643920898437, 'time_algorithm_update': 0.0030067334175109864, 'temp_loss': -36.264307336091996, 'temp': 281.6098655090332, 'critic_loss': 1060757.099640625, 'actor_loss': 455.8107480516434, 'time_step': 0.0038421351909637452, 'rollout_return': 14.140845070422536, 'evaluation': 14.2} step=47000\n",
      "2023-03-16 17:02.54 [info     ] Model parameters are saved to d3rlpy_logs/SAC_online_20230316165954/model_48000.pt\n",
      "2023-03-16 17:02.54 [info     ] SAC_online_20230316165954: epoch=48 step=48000 epoch=48 metrics={'time_inference': 0.0003229644298553467, 'time_environment_step': 0.0003598737716674805, 'time_sample_batch': 0.00015327811241149902, 'time_algorithm_update': 0.003108191251754761, 'temp_loss': -217.00148303318025, 'temp': 310.7459973449707, 'critic_loss': 1694572.110171875, 'actor_loss': 717.055285533905, 'time_step': 0.003975496768951416, 'rollout_return': 13.507042253521126, 'evaluation': 13.0} step=48000\n",
      "2023-03-16 17:02.58 [info     ] Model parameters are saved to d3rlpy_logs/SAC_online_20230316165954/model_49000.pt\n",
      "2023-03-16 17:02.58 [info     ] SAC_online_20230316165954: epoch=49 step=49000 epoch=49 metrics={'time_inference': 0.0003079092502593994, 'time_environment_step': 0.00032377266883850097, 'time_sample_batch': 0.00014459586143493653, 'time_algorithm_update': 0.0029543282985687257, 'temp_loss': -128.28529063796998, 'temp': 344.7099300842285, 'critic_loss': 1895809.779265625, 'actor_loss': 623.7071867556572, 'time_step': 0.0037590849399566652, 'rollout_return': 13.929577464788732, 'evaluation': 12.1} step=49000\n",
      "2023-03-16 17:03.02 [info     ] Model parameters are saved to d3rlpy_logs/SAC_online_20230316165954/model_50000.pt\n",
      "2023-03-16 17:03.02 [info     ] SAC_online_20230316165954: epoch=50 step=50000 epoch=50 metrics={'time_inference': 0.00030666303634643556, 'time_environment_step': 0.0003247652053833008, 'time_sample_batch': 0.00014066386222839355, 'time_algorithm_update': 0.0029684937000274657, 'temp_loss': -105.93684156608582, 'temp': 387.3149239196777, 'critic_loss': 2577677.9685, 'actor_loss': 716.5194149618148, 'time_step': 0.003768656253814697, 'rollout_return': 13.5, 'evaluation': 14.5} step=50000\n",
      "2023-03-16 17:03.06 [info     ] Model parameters are saved to d3rlpy_logs/SAC_online_20230316165954/model_51000.pt\n",
      "2023-03-16 17:03.06 [info     ] SAC_online_20230316165954: epoch=51 step=51000 epoch=51 metrics={'time_inference': 0.0003020806312561035, 'time_environment_step': 0.0003220677375793457, 'time_sample_batch': 0.00013927602767944337, 'time_algorithm_update': 0.002883986711502075, 'temp_loss': -861.1136131706238, 'temp': 479.081764251709, 'critic_loss': 7545761.119125, 'actor_loss': 1864.7675571804048, 'time_step': 0.003675534009933472, 'rollout_return': 13.971830985915492, 'evaluation': 13.9} step=51000\n",
      "2023-03-16 17:03.10 [info     ] Model parameters are saved to d3rlpy_logs/SAC_online_20230316165954/model_52000.pt\n",
      "2023-03-16 17:03.10 [info     ] SAC_online_20230316165954: epoch=52 step=52000 epoch=52 metrics={'time_inference': 0.0003049709796905518, 'time_environment_step': 0.00032192564010620115, 'time_sample_batch': 0.00014000535011291504, 'time_algorithm_update': 0.002889407157897949, 'temp_loss': -714.8657866163254, 'temp': 606.9787577514649, 'critic_loss': 10076098.1350625, 'actor_loss': 1846.3895613327027, 'time_step': 0.003689357280731201, 'rollout_return': 13.711267605633802, 'evaluation': 14.2} step=52000\n",
      "2023-03-16 17:03.13 [info     ] Model parameters are saved to d3rlpy_logs/SAC_online_20230316165954/model_53000.pt\n",
      "2023-03-16 17:03.13 [info     ] SAC_online_20230316165954: epoch=53 step=53000 epoch=53 metrics={'time_inference': 0.0003005092144012451, 'time_environment_step': 0.0003194563388824463, 'time_sample_batch': 0.00013817763328552245, 'time_algorithm_update': 0.002888543128967285, 'temp_loss': -501.04785482120514, 'temp': 790.6700744018555, 'critic_loss': 14108413.195, 'actor_loss': 1918.3512389526368, 'time_step': 0.00367494535446167, 'rollout_return': 14.126760563380282, 'evaluation': 16.5} step=53000\n",
      "2023-03-16 17:03.17 [info     ] Model parameters are saved to d3rlpy_logs/SAC_online_20230316165954/model_54000.pt\n",
      "2023-03-16 17:03.17 [info     ] SAC_online_20230316165954: epoch=54 step=54000 epoch=54 metrics={'time_inference': 0.0003110041618347168, 'time_environment_step': 0.0003238084316253662, 'time_sample_batch': 0.0001397089958190918, 'time_algorithm_update': 0.0029043962955474854, 'temp_loss': -1730.9813111038209, 'temp': 1014.5907793579102, 'critic_loss': 33483173.83725, 'actor_loss': 3772.4322001190185, 'time_step': 0.0037084636688232424, 'rollout_return': 13.309859154929578, 'evaluation': 15.2} step=54000\n",
      "2023-03-16 17:03.21 [info     ] Model parameters are saved to d3rlpy_logs/SAC_online_20230316165954/model_55000.pt\n",
      "2023-03-16 17:03.21 [info     ] SAC_online_20230316165954: epoch=55 step=55000 epoch=55 metrics={'time_inference': 0.0003085801601409912, 'time_environment_step': 0.0003215785026550293, 'time_sample_batch': 0.00013811182975769043, 'time_algorithm_update': 0.002922034978866577, 'temp_loss': -45.78773076057434, 'temp': 1155.3241729736328, 'critic_loss': 19969898.856, 'actor_loss': 1596.3090229110717, 'time_step': 0.0037186167240142822, 'rollout_return': 13.133802816901408, 'evaluation': 12.7} step=55000\n",
      "2023-03-16 17:03.25 [info     ] Model parameters are saved to d3rlpy_logs/SAC_online_20230316165954/model_56000.pt\n",
      "2023-03-16 17:03.25 [info     ] SAC_online_20230316165954: epoch=56 step=56000 epoch=56 metrics={'time_inference': 0.0003069605827331543, 'time_environment_step': 0.0003184959888458252, 'time_sample_batch': 0.00013840103149414062, 'time_algorithm_update': 0.0028824906349182128, 'temp_loss': -1371.4827911977768, 'temp': 1240.3410947265625, 'critic_loss': 39377269.38925, 'actor_loss': 3268.094338157654, 'time_step': 0.003674246788024902, 'rollout_return': 14.30281690140845, 'evaluation': 15.2} step=56000\n",
      "2023-03-16 17:03.28 [info     ] Model parameters are saved to d3rlpy_logs/SAC_online_20230316165954/model_57000.pt\n",
      "2023-03-16 17:03.28 [info     ] SAC_online_20230316165954: epoch=57 step=57000 epoch=57 metrics={'time_inference': 0.000299734354019165, 'time_environment_step': 0.0003207240104675293, 'time_sample_batch': 0.00013811206817626953, 'time_algorithm_update': 0.0028841326236724854, 'temp_loss': -594.5141661701202, 'temp': 1552.2587259521483, 'critic_loss': 45622012.1355, 'actor_loss': 2758.7938257141113, 'time_step': 0.003670807361602783, 'rollout_return': 13.380281690140846, 'evaluation': 13.9} step=57000\n",
      "2023-03-16 17:03.32 [info     ] Model parameters are saved to d3rlpy_logs/SAC_online_20230316165954/model_58000.pt\n",
      "2023-03-16 17:03.32 [info     ] SAC_online_20230316165954: epoch=58 step=58000 epoch=58 metrics={'time_inference': 0.00030298757553100583, 'time_environment_step': 0.0003244137763977051, 'time_sample_batch': 0.00013882875442504882, 'time_algorithm_update': 0.002892972946166992, 'temp_loss': -1172.9151448020934, 'temp': 1758.393251953125, 'critic_loss': 67162637.7915, 'actor_loss': 3737.551679321289, 'time_step': 0.0036874382495880125, 'rollout_return': 13.809859154929578, 'evaluation': 15.4} step=58000\n",
      "2023-03-16 17:03.36 [info     ] Model parameters are saved to d3rlpy_logs/SAC_online_20230316165954/model_59000.pt\n",
      "2023-03-16 17:03.36 [info     ] SAC_online_20230316165954: epoch=59 step=59000 epoch=59 metrics={'time_inference': 0.0002983083724975586, 'time_environment_step': 0.0003218562602996826, 'time_sample_batch': 0.00013831996917724608, 'time_algorithm_update': 0.00288138484954834, 'temp_loss': -675.7305899238586, 'temp': 2136.1156583251955, 'critic_loss': 84817615.076, 'actor_loss': 3551.8018893737794, 'time_step': 0.0036682469844818116, 'rollout_return': 13.887323943661972, 'evaluation': 13.8} step=59000\n",
      "2023-03-16 17:03.40 [info     ] Model parameters are saved to d3rlpy_logs/SAC_online_20230316165954/model_60000.pt\n",
      "2023-03-16 17:03.40 [info     ] SAC_online_20230316165954: epoch=60 step=60000 epoch=60 metrics={'time_inference': 0.00030380630493164065, 'time_environment_step': 0.0003202784061431885, 'time_sample_batch': 0.00013799262046813965, 'time_algorithm_update': 0.0028978867530822755, 'temp_loss': -224.592908659935, 'temp': 2191.87373046875, 'critic_loss': 78626592.036, 'actor_loss': 2983.5261052093506, 'time_step': 0.003687912464141846, 'rollout_return': 13.654929577464788, 'evaluation': 16.2} step=60000\n",
      "2023-03-16 17:03.43 [info     ] Model parameters are saved to d3rlpy_logs/SAC_online_20230316165954/model_61000.pt\n",
      "2023-03-16 17:03.43 [info     ] SAC_online_20230316165954: epoch=61 step=61000 epoch=61 metrics={'time_inference': 0.0003039565086364746, 'time_environment_step': 0.0003234858512878418, 'time_sample_batch': 0.00013880372047424315, 'time_algorithm_update': 0.002887810707092285, 'temp_loss': -5803.069448532105, 'temp': 3073.234128173828, 'critic_loss': 375647437.564, 'actor_loss': 11923.750478271484, 'time_step': 0.0036822741031646727, 'rollout_return': 14.288732394366198, 'evaluation': 14.1} step=61000\n",
      "2023-03-16 17:03.47 [info     ] Model parameters are saved to d3rlpy_logs/SAC_online_20230316165954/model_62000.pt\n",
      "2023-03-16 17:03.47 [info     ] SAC_online_20230316165954: epoch=62 step=62000 epoch=62 metrics={'time_inference': 0.00029914045333862303, 'time_environment_step': 0.0003222222328186035, 'time_sample_batch': 0.000136904239654541, 'time_algorithm_update': 0.0028944761753082276, 'temp_loss': -263.5609804534912, 'temp': 3576.59614453125, 'critic_loss': 229006412.766, 'actor_loss': 4795.902335510254, 'time_step': 0.003680511474609375, 'rollout_return': 13.098591549295774, 'evaluation': 12.3} step=62000\n",
      "2023-03-16 17:03.51 [info     ] Model parameters are saved to d3rlpy_logs/SAC_online_20230316165954/model_63000.pt\n",
      "2023-03-16 17:03.51 [info     ] SAC_online_20230316165954: epoch=63 step=63000 epoch=63 metrics={'time_inference': 0.0003063807487487793, 'time_environment_step': 0.00032342529296875, 'time_sample_batch': 0.000138077974319458, 'time_algorithm_update': 0.0029077000617980958, 'temp_loss': -320.859799911499, 'temp': 3686.706036621094, 'critic_loss': 239541872.904, 'actor_loss': 4873.882827758789, 'time_step': 0.0037043120861053468, 'rollout_return': 13.67605633802817, 'evaluation': 13.2} step=63000\n",
      "2023-03-16 17:03.55 [info     ] Model parameters are saved to d3rlpy_logs/SAC_online_20230316165954/model_64000.pt\n",
      "2023-03-16 17:03.55 [info     ] SAC_online_20230316165954: epoch=64 step=64000 epoch=64 metrics={'time_inference': 0.0003045473098754883, 'time_environment_step': 0.0003220093250274658, 'time_sample_batch': 0.0001387779712677002, 'time_algorithm_update': 0.0028996939659118653, 'temp_loss': -520.2082830963135, 'temp': 3869.062214111328, 'critic_loss': 269384894.814, 'actor_loss': 5460.711924926758, 'time_step': 0.003693317890167236, 'rollout_return': 13.211267605633802, 'evaluation': 15.7} step=64000\n",
      "2023-03-16 17:03.58 [info     ] Model parameters are saved to d3rlpy_logs/SAC_online_20230316165954/model_65000.pt\n",
      "2023-03-16 17:03.58 [info     ] SAC_online_20230316165954: epoch=65 step=65000 epoch=65 metrics={'time_inference': 0.0003027193546295166, 'time_environment_step': 0.0003236703872680664, 'time_sample_batch': 0.0001395103931427002, 'time_algorithm_update': 0.002887651205062866, 'temp_loss': 4519.716921066284, 'temp': 3309.1189243164063, 'critic_loss': 24308208.009, 'actor_loss': -3226.2319414367676, 'time_step': 0.0036822712421417238, 'rollout_return': 14.485915492957746, 'evaluation': 13.9} step=65000\n",
      "2023-03-16 17:04.02 [info     ] Model parameters are saved to d3rlpy_logs/SAC_online_20230316165954/model_66000.pt\n",
      "2023-03-16 17:04.02 [info     ] SAC_online_20230316165954: epoch=66 step=66000 epoch=66 metrics={'time_inference': 0.0002969849109649658, 'time_environment_step': 0.0003207719326019287, 'time_sample_batch': 0.00013855934143066405, 'time_algorithm_update': 0.002867544651031494, 'temp_loss': 3607.140598876953, 'temp': 2360.465659667969, 'critic_loss': 6559666.09325, 'actor_loss': -3246.13269140625, 'time_step': 0.0036518080234527587, 'rollout_return': 14.133802816901408, 'evaluation': 13.9} step=66000\n",
      "2023-03-16 17:04.06 [info     ] Model parameters are saved to d3rlpy_logs/SAC_online_20230316165954/model_67000.pt\n",
      "2023-03-16 17:04.06 [info     ] SAC_online_20230316165954: epoch=67 step=67000 epoch=67 metrics={'time_inference': 0.0003032281398773193, 'time_environment_step': 0.00032194876670837405, 'time_sample_batch': 0.00013756513595581055, 'time_algorithm_update': 0.0028709864616394045, 'temp_loss': 2781.6962342529296, 'temp': 1821.3677486572265, 'critic_loss': 3590299.20625, 'actor_loss': -2570.4465839004515, 'time_step': 0.003661952257156372, 'rollout_return': 14.73943661971831, 'evaluation': 16.2} step=67000\n",
      "2023-03-16 17:04.10 [info     ] Model parameters are saved to d3rlpy_logs/SAC_online_20230316165954/model_68000.pt\n",
      "2023-03-16 17:04.10 [info     ] SAC_online_20230316165954: epoch=68 step=68000 epoch=68 metrics={'time_inference': 0.00030440235137939455, 'time_environment_step': 0.0003220911026000977, 'time_sample_batch': 0.00013752007484436036, 'time_algorithm_update': 0.0028862371444702147, 'temp_loss': 2186.650939086914, 'temp': 1436.3103625488282, 'critic_loss': 2346498.393, 'actor_loss': -2082.001814758301, 'time_step': 0.0036784653663635256, 'rollout_return': 14.380281690140846, 'evaluation': 16.3} step=68000\n",
      "2023-03-16 17:04.13 [info     ] Model parameters are saved to d3rlpy_logs/SAC_online_20230316165954/model_69000.pt\n",
      "2023-03-16 17:04.13 [info     ] SAC_online_20230316165954: epoch=69 step=69000 epoch=69 metrics={'time_inference': 0.00031001448631286623, 'time_environment_step': 0.0003394172191619873, 'time_sample_batch': 0.00014681220054626464, 'time_algorithm_update': 0.002967940330505371, 'temp_loss': 1744.3468095703124, 'temp': 1142.3299205932617, 'critic_loss': 1479239.7628125, 'actor_loss': -1641.0380934448242, 'time_step': 0.003793577194213867, 'rollout_return': 14.105633802816902, 'evaluation': 13.6} step=69000\n",
      "2023-03-16 17:04.17 [info     ] Model parameters are saved to d3rlpy_logs/SAC_online_20230316165954/model_70000.pt\n",
      "2023-03-16 17:04.17 [info     ] SAC_online_20230316165954: epoch=70 step=70000 epoch=70 metrics={'time_inference': 0.00031269240379333497, 'time_environment_step': 0.00033583807945251464, 'time_sample_batch': 0.00014494442939758302, 'time_algorithm_update': 0.0029869799613952636, 'temp_loss': 1386.4191004638672, 'temp': 911.7159900512695, 'critic_loss': 944645.716625, 'actor_loss': -1248.9181845092774, 'time_step': 0.003810131549835205, 'rollout_return': 14.528169014084508, 'evaluation': 14.1} step=70000\n",
      "2023-03-16 17:04.21 [info     ] Model parameters are saved to d3rlpy_logs/SAC_online_20230316165954/model_71000.pt\n",
      "2023-03-16 17:04.21 [info     ] SAC_online_20230316165954: epoch=71 step=71000 epoch=71 metrics={'time_inference': 0.00030364108085632327, 'time_environment_step': 0.0003222939968109131, 'time_sample_batch': 0.00013718032836914062, 'time_algorithm_update': 0.002900787591934204, 'temp_loss': 1101.4630155639647, 'temp': 728.8575077514648, 'critic_loss': 659915.499125, 'actor_loss': -947.660024810791, 'time_step': 0.003692227602005005, 'rollout_return': 14.366197183098592, 'evaluation': 15.2} step=71000\n",
      "2023-03-16 17:04.25 [info     ] Model parameters are saved to d3rlpy_logs/SAC_online_20230316165954/model_72000.pt\n",
      "2023-03-16 17:04.25 [info     ] SAC_online_20230316165954: epoch=72 step=72000 epoch=72 metrics={'time_inference': 0.0003122363090515137, 'time_environment_step': 0.0003393890857696533, 'time_sample_batch': 0.00014315271377563478, 'time_algorithm_update': 0.0029688253402709963, 'temp_loss': 883.9477638549805, 'temp': 582.9050947875977, 'critic_loss': 438981.84103125, 'actor_loss': -734.6134916992188, 'time_step': 0.003793466806411743, 'rollout_return': 14.30281690140845, 'evaluation': 15.4} step=72000\n",
      "2023-03-16 17:04.29 [info     ] Model parameters are saved to d3rlpy_logs/SAC_online_20230316165954/model_73000.pt\n",
      "2023-03-16 17:04.29 [info     ] SAC_online_20230316165954: epoch=73 step=73000 epoch=73 metrics={'time_inference': 0.00030226874351501465, 'time_environment_step': 0.0003233239650726318, 'time_sample_batch': 0.00013912510871887207, 'time_algorithm_update': 0.00290510892868042, 'temp_loss': 708.1166203918457, 'temp': 466.0299230651855, 'critic_loss': 294357.82215625, 'actor_loss': -581.6696627502441, 'time_step': 0.003698239803314209, 'rollout_return': 14.06338028169014, 'evaluation': 14.2} step=73000\n",
      "2023-03-16 17:04.33 [info     ] Model parameters are saved to d3rlpy_logs/SAC_online_20230316165954/model_74000.pt\n",
      "2023-03-16 17:04.33 [info     ] SAC_online_20230316165954: epoch=74 step=74000 epoch=74 metrics={'time_inference': 0.0002993342876434326, 'time_environment_step': 0.0003222076892852783, 'time_sample_batch': 0.00014052319526672364, 'time_algorithm_update': 0.002905416250228882, 'temp_loss': 568.331718383789, 'temp': 372.6763843994141, 'critic_loss': 207861.233375, 'actor_loss': -459.0279433288574, 'time_step': 0.0036956405639648436, 'rollout_return': 14.401408450704226, 'evaluation': 15.8} step=74000\n",
      "2023-03-16 17:04.36 [info     ] Model parameters are saved to d3rlpy_logs/SAC_online_20230316165954/model_75000.pt\n",
      "2023-03-16 17:04.36 [info     ] SAC_online_20230316165954: epoch=75 step=75000 epoch=75 metrics={'time_inference': 0.00031199193000793456, 'time_environment_step': 0.00033635282516479494, 'time_sample_batch': 0.00014476633071899413, 'time_algorithm_update': 0.0029676454067230225, 'temp_loss': 456.17819873046875, 'temp': 297.7515103759766, 'critic_loss': 156594.1043515625, 'actor_loss': -366.5707618484497, 'time_step': 0.003791020631790161, 'rollout_return': 14.577464788732394, 'evaluation': 14.0} step=75000\n",
      "2023-03-16 17:04.40 [info     ] Model parameters are saved to d3rlpy_logs/SAC_online_20230316165954/model_76000.pt\n",
      "2023-03-16 17:04.40 [info     ] SAC_online_20230316165954: epoch=76 step=76000 epoch=76 metrics={'time_inference': 0.00031144452095031736, 'time_environment_step': 0.000351799488067627, 'time_sample_batch': 0.0001515073776245117, 'time_algorithm_update': 0.0030673959255218507, 'temp_loss': 364.8773338775635, 'temp': 237.95745137023926, 'critic_loss': 125284.1348828125, 'actor_loss': -288.09892345428466, 'time_step': 0.0039132552146911624, 'rollout_return': 14.78169014084507, 'evaluation': 15.5} step=76000\n",
      "2023-03-16 17:04.45 [info     ] Model parameters are saved to d3rlpy_logs/SAC_online_20230316165954/model_77000.pt\n",
      "2023-03-16 17:04.45 [info     ] SAC_online_20230316165954: epoch=77 step=77000 epoch=77 metrics={'time_inference': 0.0003363676071166992, 'time_environment_step': 0.0003740663528442383, 'time_sample_batch': 0.00015401649475097655, 'time_algorithm_update': 0.0032110419273376463, 'temp_loss': 292.19811810302735, 'temp': 190.28926277160645, 'critic_loss': 98702.94971875, 'actor_loss': -230.01690817260743, 'time_step': 0.004108738660812378, 'rollout_return': 14.619718309859154, 'evaluation': 14.3} step=77000\n",
      "2023-03-16 17:04.48 [info     ] Model parameters are saved to d3rlpy_logs/SAC_online_20230316165954/model_78000.pt\n",
      "2023-03-16 17:04.48 [info     ] SAC_online_20230316165954: epoch=78 step=78000 epoch=78 metrics={'time_inference': 0.00031394529342651365, 'time_environment_step': 0.00034325695037841795, 'time_sample_batch': 0.00014405059814453125, 'time_algorithm_update': 0.002979517698287964, 'temp_loss': 231.053147857666, 'temp': 152.2691683959961, 'critic_loss': 81208.94040234375, 'actor_loss': -178.71461386871337, 'time_step': 0.003810436964035034, 'rollout_return': 14.21830985915493, 'evaluation': 13.5} step=78000\n",
      "2023-03-16 17:04.52 [info     ] Model parameters are saved to d3rlpy_logs/SAC_online_20230316165954/model_79000.pt\n",
      "2023-03-16 17:04.52 [info     ] SAC_online_20230316165954: epoch=79 step=79000 epoch=79 metrics={'time_inference': 0.0003221182823181152, 'time_environment_step': 0.00034599828720092773, 'time_sample_batch': 0.0001503133773803711, 'time_algorithm_update': 0.003074554681777954, 'temp_loss': 182.71932775878906, 'temp': 122.0368092880249, 'critic_loss': 66836.22990625, 'actor_loss': -139.72805202770232, 'time_step': 0.003924622535705567, 'rollout_return': 14.183098591549296, 'evaluation': 15.1} step=79000\n",
      "2023-03-16 17:04.56 [info     ] Model parameters are saved to d3rlpy_logs/SAC_online_20230316165954/model_80000.pt\n",
      "2023-03-16 17:04.56 [info     ] SAC_online_20230316165954: epoch=80 step=80000 epoch=80 metrics={'time_inference': 0.0003306326866149902, 'time_environment_step': 0.000359072208404541, 'time_sample_batch': 0.0001520702838897705, 'time_algorithm_update': 0.0030665090084075926, 'temp_loss': 144.16604804229738, 'temp': 97.95614150238038, 'critic_loss': 55351.1446328125, 'actor_loss': -108.38426582098008, 'time_step': 0.003939724683761596, 'rollout_return': 14.253521126760564, 'evaluation': 16.0} step=80000\n",
      "2023-03-16 17:05.00 [info     ] Model parameters are saved to d3rlpy_logs/SAC_online_20230316165954/model_81000.pt\n",
      "2023-03-16 17:05.00 [info     ] SAC_online_20230316165954: epoch=81 step=81000 epoch=81 metrics={'time_inference': 0.00032344985008239745, 'time_environment_step': 0.0003408641815185547, 'time_sample_batch': 0.00014530563354492188, 'time_algorithm_update': 0.002975649118423462, 'temp_loss': 114.21347289276123, 'temp': 78.65353903198242, 'critic_loss': 45632.73, 'actor_loss': -86.15097356128693, 'time_step': 0.003815275430679321, 'rollout_return': 14.26056338028169, 'evaluation': 14.7} step=81000\n",
      "2023-03-16 17:05.04 [info     ] Model parameters are saved to d3rlpy_logs/SAC_online_20230316165954/model_82000.pt\n",
      "2023-03-16 17:05.04 [info     ] SAC_online_20230316165954: epoch=82 step=82000 epoch=82 metrics={'time_inference': 0.00031752681732177736, 'time_environment_step': 0.0003415656089782715, 'time_sample_batch': 0.00014207649230957032, 'time_algorithm_update': 0.0029782309532165527, 'temp_loss': 89.13916237258911, 'temp': 63.24062924575806, 'critic_loss': 39825.062392578126, 'actor_loss': -63.163417064666746, 'time_step': 0.0038089940547943115, 'rollout_return': 14.056338028169014, 'evaluation': 14.2} step=82000\n",
      "2023-03-16 17:05.08 [info     ] Model parameters are saved to d3rlpy_logs/SAC_online_20230316165954/model_83000.pt\n",
      "2023-03-16 17:05.08 [info     ] SAC_online_20230316165954: epoch=83 step=83000 epoch=83 metrics={'time_inference': 0.000318584680557251, 'time_environment_step': 0.0003418173789978027, 'time_sample_batch': 0.0001432938575744629, 'time_algorithm_update': 0.0029819135665893554, 'temp_loss': 69.5635482635498, 'temp': 50.931577644348145, 'critic_loss': 33420.1827265625, 'actor_loss': -45.95821807873249, 'time_step': 0.0038151931762695312, 'rollout_return': 14.330985915492958, 'evaluation': 14.0} step=83000\n",
      "2023-03-16 17:05.12 [info     ] Model parameters are saved to d3rlpy_logs/SAC_online_20230316165954/model_84000.pt\n",
      "2023-03-16 17:05.12 [info     ] SAC_online_20230316165954: epoch=84 step=84000 epoch=84 metrics={'time_inference': 0.00032042241096496584, 'time_environment_step': 0.00034050750732421875, 'time_sample_batch': 0.00014398908615112304, 'time_algorithm_update': 0.0029799280166625977, 'temp_loss': 53.816728464126584, 'temp': 41.11840649032593, 'critic_loss': 30167.682387695313, 'actor_loss': -28.60501573938131, 'time_step': 0.0038142693042755127, 'rollout_return': 14.014084507042254, 'evaluation': 14.8} step=84000\n",
      "2023-03-16 17:05.16 [info     ] Model parameters are saved to d3rlpy_logs/SAC_online_20230316165954/model_85000.pt\n",
      "2023-03-16 17:05.16 [info     ] SAC_online_20230316165954: epoch=85 step=85000 epoch=85 metrics={'time_inference': 0.0003236043453216553, 'time_environment_step': 0.000353024959564209, 'time_sample_batch': 0.00014607810974121094, 'time_algorithm_update': 0.0030240471363067625, 'temp_loss': 41.25907359313965, 'temp': 33.310418283462525, 'critic_loss': 25562.497162109375, 'actor_loss': -15.385959404081106, 'time_step': 0.0038775112628936766, 'rollout_return': 14.619718309859154, 'evaluation': 14.1} step=85000\n",
      "2023-03-16 17:05.20 [info     ] Model parameters are saved to d3rlpy_logs/SAC_online_20230316165954/model_86000.pt\n",
      "2023-03-16 17:05.20 [info     ] SAC_online_20230316165954: epoch=86 step=86000 epoch=86 metrics={'time_inference': 0.00032720136642456056, 'time_environment_step': 0.00034996867179870605, 'time_sample_batch': 0.00014581704139709473, 'time_algorithm_update': 0.003032787799835205, 'temp_loss': 31.424089619636536, 'temp': 27.021048580169676, 'critic_loss': 23018.713603515625, 'actor_loss': -3.5825202889442442, 'time_step': 0.003887512683868408, 'rollout_return': 14.112676056338028, 'evaluation': 14.5} step=86000\n",
      "2023-03-16 17:05.24 [info     ] Model parameters are saved to d3rlpy_logs/SAC_online_20230316165954/model_87000.pt\n",
      "2023-03-16 17:05.24 [info     ] SAC_online_20230316165954: epoch=87 step=87000 epoch=87 metrics={'time_inference': 0.0003161046504974365, 'time_environment_step': 0.00034160566329956055, 'time_sample_batch': 0.00014796900749206542, 'time_algorithm_update': 0.00297559118270874, 'temp_loss': 23.764628705978392, 'temp': 22.026266887664796, 'critic_loss': 19401.573893554687, 'actor_loss': 5.9011949628740545, 'time_step': 0.0038107624053955076, 'rollout_return': 14.014084507042254, 'evaluation': 16.6} step=87000\n",
      "2023-03-16 17:05.28 [info     ] Model parameters are saved to d3rlpy_logs/SAC_online_20230316165954/model_88000.pt\n",
      "2023-03-16 17:05.28 [info     ] SAC_online_20230316165954: epoch=88 step=88000 epoch=88 metrics={'time_inference': 0.00032111573219299316, 'time_environment_step': 0.0003456242084503174, 'time_sample_batch': 0.00014493989944458008, 'time_algorithm_update': 0.0030295388698577883, 'temp_loss': 17.965959668636323, 'temp': 17.97030242538452, 'critic_loss': 16021.356841308594, 'actor_loss': 10.00653408934176, 'time_step': 0.003872175455093384, 'rollout_return': 13.929577464788732, 'evaluation': 14.5} step=88000\n",
      "2023-03-16 17:05.32 [info     ] Model parameters are saved to d3rlpy_logs/SAC_online_20230316165954/model_89000.pt\n",
      "2023-03-16 17:05.32 [info     ] SAC_online_20230316165954: epoch=89 step=89000 epoch=89 metrics={'time_inference': 0.0003334667682647705, 'time_environment_step': 0.00038322162628173827, 'time_sample_batch': 0.00015363931655883788, 'time_algorithm_update': 0.0031588497161865233, 'temp_loss': 13.04756979596615, 'temp': 14.760564088821411, 'critic_loss': 15005.716608886718, 'actor_loss': 17.54733083435893, 'time_step': 0.004060835361480713, 'rollout_return': 13.887323943661972, 'evaluation': 15.1} step=89000\n",
      "2023-03-16 17:05.36 [info     ] Model parameters are saved to d3rlpy_logs/SAC_online_20230316165954/model_90000.pt\n",
      "2023-03-16 17:05.36 [info     ] SAC_online_20230316165954: epoch=90 step=90000 epoch=90 metrics={'time_inference': 0.00032443904876708986, 'time_environment_step': 0.00035930562019348145, 'time_sample_batch': 0.00014914178848266603, 'time_algorithm_update': 0.0030376887321472167, 'temp_loss': 9.87493962277472, 'temp': 12.163928825378418, 'critic_loss': 12852.145969238281, 'actor_loss': 20.386460734039545, 'time_step': 0.003901087999343872, 'rollout_return': 14.21830985915493, 'evaluation': 12.4} step=90000\n",
      "2023-03-16 17:05.40 [info     ] Model parameters are saved to d3rlpy_logs/SAC_online_20230316165954/model_91000.pt\n",
      "2023-03-16 17:05.40 [info     ] SAC_online_20230316165954: epoch=91 step=91000 epoch=91 metrics={'time_inference': 0.00032485032081604003, 'time_environment_step': 0.0003457622528076172, 'time_sample_batch': 0.00014581537246704103, 'time_algorithm_update': 0.0030273215770721435, 'temp_loss': 6.868004508018494, 'temp': 10.086027111053466, 'critic_loss': 12976.722950195313, 'actor_loss': 25.277742226153613, 'time_step': 0.003873668193817139, 'rollout_return': 14.028169014084508, 'evaluation': 15.2} step=91000\n",
      "2023-03-16 17:05.44 [info     ] Model parameters are saved to d3rlpy_logs/SAC_online_20230316165954/model_92000.pt\n",
      "2023-03-16 17:05.44 [info     ] SAC_online_20230316165954: epoch=92 step=92000 epoch=92 metrics={'time_inference': 0.0003300037384033203, 'time_environment_step': 0.00035474085807800295, 'time_sample_batch': 0.00014885973930358888, 'time_algorithm_update': 0.0030651652812957765, 'temp_loss': 4.990882089026273, 'temp': 8.460640565395355, 'critic_loss': 11964.710513183594, 'actor_loss': 30.502870950102807, 'time_step': 0.003929517984390259, 'rollout_return': 14.274647887323944, 'evaluation': 14.1} step=92000\n",
      "2023-03-16 17:05.48 [info     ] Model parameters are saved to d3rlpy_logs/SAC_online_20230316165954/model_93000.pt\n",
      "2023-03-16 17:05.48 [info     ] SAC_online_20230316165954: epoch=93 step=93000 epoch=93 metrics={'time_inference': 0.0003484539985656738, 'time_environment_step': 0.0003693428039550781, 'time_sample_batch': 0.00015107202529907228, 'time_algorithm_update': 0.003137296676635742, 'temp_loss': 3.4341658196672795, 'temp': 7.095977490901947, 'critic_loss': 9681.1497265625, 'actor_loss': 30.8486610776484, 'time_step': 0.00403838300704956, 'rollout_return': 14.429577464788732, 'evaluation': 13.2} step=93000\n",
      "2023-03-16 17:05.52 [info     ] Model parameters are saved to d3rlpy_logs/SAC_online_20230316165954/model_94000.pt\n",
      "2023-03-16 17:05.52 [info     ] SAC_online_20230316165954: epoch=94 step=94000 epoch=94 metrics={'time_inference': 0.00031799912452697756, 'time_environment_step': 0.00034711766242980955, 'time_sample_batch': 0.00014527058601379394, 'time_algorithm_update': 0.0029977622032165527, 'temp_loss': 2.5426160248480736, 'temp': 6.033450773715973, 'critic_loss': 8337.36802001953, 'actor_loss': 30.461314807981253, 'time_step': 0.0038385605812072754, 'rollout_return': 14.450704225352112, 'evaluation': 12.7} step=94000\n",
      "2023-03-16 17:05.56 [info     ] Model parameters are saved to d3rlpy_logs/SAC_online_20230316165954/model_95000.pt\n",
      "2023-03-16 17:05.56 [info     ] SAC_online_20230316165954: epoch=95 step=95000 epoch=95 metrics={'time_inference': 0.0003151307106018066, 'time_environment_step': 0.0003407843112945557, 'time_sample_batch': 0.00014526724815368651, 'time_algorithm_update': 0.002987131357192993, 'temp_loss': 1.6344113788753747, 'temp': 5.184903923034668, 'critic_loss': 7866.498624511719, 'actor_loss': 34.4397652437985, 'time_step': 0.0038181936740875246, 'rollout_return': 14.633802816901408, 'evaluation': 13.4} step=95000\n",
      "2023-03-16 17:06.00 [info     ] Model parameters are saved to d3rlpy_logs/SAC_online_20230316165954/model_96000.pt\n",
      "2023-03-16 17:06.00 [info     ] SAC_online_20230316165954: epoch=96 step=96000 epoch=96 metrics={'time_inference': 0.0003403224945068359, 'time_environment_step': 0.00037761616706848144, 'time_sample_batch': 0.00015691113471984864, 'time_algorithm_update': 0.003192853689193726, 'temp_loss': 0.8767550650984048, 'temp': 4.601325170516968, 'critic_loss': 8427.842971923828, 'actor_loss': 36.977057419151066, 'time_step': 0.0041011438369750975, 'rollout_return': 14.338028169014084, 'evaluation': 13.9} step=96000\n",
      "2023-03-16 17:06.04 [info     ] Model parameters are saved to d3rlpy_logs/SAC_online_20230316165954/model_97000.pt\n",
      "2023-03-16 17:06.04 [info     ] SAC_online_20230316165954: epoch=97 step=97000 epoch=97 metrics={'time_inference': 0.00035817599296569824, 'time_environment_step': 0.0004128234386444092, 'time_sample_batch': 0.00017211651802062988, 'time_algorithm_update': 0.003369709491729736, 'temp_loss': 0.4334821836017072, 'temp': 4.188922215938568, 'critic_loss': 8033.7353176269535, 'actor_loss': 37.50821902704239, 'time_step': 0.0043564546108245845, 'rollout_return': 14.091549295774648, 'evaluation': 14.8} step=97000\n",
      "2023-03-16 17:06.09 [info     ] Model parameters are saved to d3rlpy_logs/SAC_online_20230316165954/model_98000.pt\n",
      "2023-03-16 17:06.09 [info     ] SAC_online_20230316165954: epoch=98 step=98000 epoch=98 metrics={'time_inference': 0.0003689577579498291, 'time_environment_step': 0.0004153246879577637, 'time_sample_batch': 0.0001624765396118164, 'time_algorithm_update': 0.003450136661529541, 'temp_loss': 0.4000614945590496, 'temp': 3.9424999306201935, 'critic_loss': 6738.785920654297, 'actor_loss': 36.803234147757294, 'time_step': 0.004433616399765015, 'rollout_return': 14.640845070422536, 'evaluation': 15.0} step=98000\n",
      "2023-03-16 17:06.13 [info     ] Model parameters are saved to d3rlpy_logs/SAC_online_20230316165954/model_99000.pt\n",
      "2023-03-16 17:06.13 [info     ] SAC_online_20230316165954: epoch=99 step=99000 epoch=99 metrics={'time_inference': 0.0003590843677520752, 'time_environment_step': 0.0004073069095611572, 'time_sample_batch': 0.00016541552543640137, 'time_algorithm_update': 0.00338769793510437, 'temp_loss': 0.2642311207987368, 'temp': 3.6823751521110535, 'critic_loss': 6421.434654907227, 'actor_loss': 35.75242215520144, 'time_step': 0.004355633974075317, 'rollout_return': 14.161971830985916, 'evaluation': 13.1} step=99000\n",
      "2023-03-16 17:06.17 [info     ] Model parameters are saved to d3rlpy_logs/SAC_online_20230316165954/model_100000.pt\n",
      "2023-03-16 17:06.17 [info     ] SAC_online_20230316165954: epoch=100 step=100000 epoch=100 metrics={'time_inference': 0.00032912778854370117, 'time_environment_step': 0.00035716629028320314, 'time_sample_batch': 0.00014778614044189453, 'time_algorithm_update': 0.0030640671253204348, 'temp_loss': 0.07098481979966163, 'temp': 3.5455764603614806, 'critic_loss': 6911.481076660156, 'actor_loss': 37.73197425556183, 'time_step': 0.003928710460662841, 'rollout_return': 14.330985915492958, 'evaluation': 14.7} step=100000\n",
      "2023-03-16 17:06.17 [warning  ] Parameters will be reinitialized.\n"
     ]
    }
   ],
   "source": [
    "# start training\n",
    "# skip if there is a pre-trained model\n",
    "sac.fit_online(\n",
    "    env_,\n",
    "    buffer,\n",
    "    eval_env=env_,\n",
    "    # n_steps=1000,\n",
    "    # n_steps_per_epoch=10,\n",
    "    # update_start_step=10,\n",
    "    n_steps=100000,\n",
    "    n_steps_per_epoch=1000,\n",
    "    update_start_step=1000,\n",
    ")\n",
    "# save model\n",
    "sac.save_model(\"d3rlpy_logs/sac.pt\")\n",
    "# reload model\n",
    "sac.build_with_env(env_)\n",
    "sac.load_model(\"d3rlpy_logs/sac.pt\")"
   ]
  },
  {
   "cell_type": "code",
   "execution_count": 8,
   "metadata": {},
   "outputs": [],
   "source": [
    "from d3rlpy.dataset import MDPDataset\n",
    "from d3rlpy.algos import CQL"
   ]
  },
  {
   "cell_type": "code",
   "execution_count": 9,
   "metadata": {},
   "outputs": [],
   "source": [
    "# import ope modules from OFRL\n",
    "from ofrl.ope import CreateOPEInput\n",
    "from ofrl.ope import OffPolicyEvaluation as OPE\n",
    "# basic estimators\n",
    "from ofrl.ope import ContinuousDirectMethod as DM\n",
    "from ofrl.ope import ContinuousTrajectoryWiseImportanceSampling as TIS\n",
    "from ofrl.ope import ContinuousPerDecisionImportanceSampling as PDIS\n",
    "from ofrl.ope import ContinuousDoublyRobust as DR\n",
    "# self normalized estimators\n",
    "from ofrl.ope import ContinuousSelfNormalizedTrajectoryWiseImportanceSampling as SNTIS\n",
    "from ofrl.ope import ContinuousSelfNormalizedPerDecisionImportanceSampling as SNPDIS\n",
    "from ofrl.ope import ContinuousSelfNormalizedDoublyRobust as SNDR\n",
    "# marginal estimators\n",
    "from ofrl.ope import ContinuousStateActionMarginalImportanceSampling as SAMIS\n",
    "from ofrl.ope import ContinuousStateActionMarginalDoublyRobust as SAMDR\n",
    "from ofrl.ope import ContinuousStateMarginalImportanceSampling as SMIS\n",
    "from ofrl.ope import ContinuousStateMarginalDoublyRobust as SMDR\n",
    "from ofrl.ope import ContinuousStateActionMarginalSelfNormalizedImportanceSampling as SAMSNIS\n",
    "from ofrl.ope import ContinuousStateActionMarginalSelfNormalizedDoublyRobust as SAMSNDR\n",
    "from ofrl.ope import ContinuousStateMarginalSelfNormalizedImportanceSampling as SMSNIS\n",
    "from ofrl.ope import ContinuousStateMarginalSelfNormalizedDoublyRobust as SMSNDR\n",
    "# double reinforcement learning estimators\n",
    "from ofrl.ope import ContinuousDoubleReinforcementLearning as DRL"
   ]
  },
  {
   "cell_type": "code",
   "execution_count": 10,
   "metadata": {},
   "outputs": [],
   "source": [
    "basic_estimators = [DM(), TIS(), PDIS(), DR(), SNTIS(), SNPDIS(), SNDR()]\n",
    "state_marginal_estimators = [SMIS(), SMDR(), SMSNIS(), SMSNDR()]\n",
    "state_action_marginal_estimators = [SAMIS(), SAMDR(), SAMSNIS(), SAMSNDR()]\n",
    "drl_estimators = [DRL()]\n",
    "all_estimators = basic_estimators + state_marginal_estimators + state_action_marginal_estimators + drl_estimators\n",
    "\n",
    "basic_estimators_name = [\"dm\", \"tis\", \"pdis\", \"dr\", \"sntis\", \"snpdis\", \"sndr\"]\n",
    "state_marginal_estimators_name = [\"sm_is\", \"sm_dr\", \"sm_snis\", \"sm_sndr\"]\n",
    "state_action_marginal_estimators_name = [\"sam_is\", \"sam_dr\", \"sam_snis\", \"sam_sndr\"]\n",
    "drl_estimators_name = [\"drl\"]"
   ]
  },
  {
   "cell_type": "code",
   "execution_count": 56,
   "metadata": {},
   "outputs": [],
   "source": [
    "# n_trajectories_list = [100, 200, 400]\n",
    "# n_trajectories_list = [100, 200, 400, 800, 1600, 6400]\n",
    "n_trajectories_list = [100, 200, 400, 800, 1600, 3200, 6400, 12800]\n",
    "# random_state_list = [10, 20, 30]\n",
    "random_state_list = [10, 20, 30, 40, 50, 60, 70, 80, 90, 100]\n",
    "\n",
    "bias_df_list = []\n",
    "variance_df_list = []\n"
   ]
  },
  {
   "cell_type": "code",
   "execution_count": 57,
   "metadata": {},
   "outputs": [],
   "source": []
  },
  {
   "cell_type": "code",
   "execution_count": 58,
   "metadata": {},
   "outputs": [
    {
     "data": {
      "application/vnd.jupyter.widget-view+json": {
       "model_id": "ff4517b826e9416380acf126ee0b06c1",
       "version_major": 2,
       "version_minor": 0
      },
      "text/plain": [
       "[obtain_trajectories]:   0%|          | 0/100 [00:00<?, ?it/s]"
      ]
     },
     "metadata": {},
     "output_type": "display_data"
    },
    {
     "data": {
      "application/vnd.jupyter.widget-view+json": {
       "model_id": "8832ec6cfaf44509bdfb37b45eaab98f",
       "version_major": 2,
       "version_minor": 0
      },
      "text/plain": [
       "[obtain_trajectories]:   0%|          | 0/100 [00:00<?, ?it/s]"
      ]
     },
     "metadata": {},
     "output_type": "display_data"
    },
    {
     "data": {
      "application/vnd.jupyter.widget-view+json": {
       "model_id": "de51c7a6ca344aa9b8949eeff93ae8a9",
       "version_major": 2,
       "version_minor": 0
      },
      "text/plain": [
       "[fit FQE model]:   0%|          | 0/1 [00:00<?, ?it/s]"
      ]
     },
     "metadata": {},
     "output_type": "display_data"
    },
    {
     "name": "stdout",
     "output_type": "stream",
     "text": [
      "2023-03-16 18:40.28 [debug    ] RoundIterator is selected.\n",
      "2023-03-16 18:40.28 [info     ] Directory is created at d3rlpy_logs/FQE_20230316184028\n",
      "2023-03-16 18:40.28 [debug    ] Fitting scaler...              scaler=min_max\n",
      "2023-03-16 18:40.28 [debug    ] Fitting action scaler...       action_scaler=min_max\n",
      "2023-03-16 18:40.28 [debug    ] Building models...\n",
      "2023-03-16 18:40.28 [debug    ] Models have been built.\n",
      "2023-03-16 18:40.28 [info     ] Parameters are saved to d3rlpy_logs/FQE_20230316184028/params.json params={'action_scaler': {'type': 'min_max', 'params': {'minimum': array([0.1]), 'maximum': array([10.])}}, 'batch_size': 100, 'encoder_factory': {'type': 'vector', 'params': {'hidden_units': [30, 30], 'activation': 'relu', 'use_batch_norm': False, 'dropout_rate': None, 'use_dense': False}}, 'gamma': 0.95, 'generated_maxlen': 100000, 'learning_rate': 0.0001, 'n_critics': 1, 'n_frames': 1, 'n_steps': 1, 'optim_factory': {'optim_cls': 'Adam', 'betas': (0.9, 0.999), 'eps': 1e-08, 'weight_decay': 0, 'amsgrad': False}, 'q_func_factory': {'type': 'mean', 'params': {'share_encoder': False}}, 'real_ratio': 1.0, 'reward_scaler': None, 'scaler': {'type': 'min_max', 'params': {'maximum': array([6.00000000e+00, 3.00000000e+03, 9.98111426e-01, 1.20000000e+04,\n",
      "       1.00000000e+00, 1.80000000e+01, 9.99069440e+00]), 'minimum': array([0.        , 1.        , 0.        , 0.        , 0.        ,\n",
      "       0.        , 0.01750917])}}, 'target_update_interval': 100, 'use_gpu': None, 'algorithm': 'FQE', 'observation_shape': (7,), 'action_size': 1}\n"
     ]
    },
    {
     "data": {
      "application/vnd.jupyter.widget-view+json": {
       "model_id": "c26c7199b1364e84872b6d091619fdc3",
       "version_major": 2,
       "version_minor": 0
      },
      "text/plain": [
       "Epoch 1/1:   0%|          | 0/7 [00:00<?, ?it/s]"
      ]
     },
     "metadata": {},
     "output_type": "display_data"
    },
    {
     "name": "stdout",
     "output_type": "stream",
     "text": [
      "2023-03-16 18:40.28 [info     ] FQE_20230316184028: epoch=1 step=7 epoch=1 metrics={'time_sample_batch': 0.00012833731515066965, 'time_algorithm_update': 0.001967634473528181, 'loss': 14.961320195879255, 'time_step': 0.0021568025861467633} step=7\n",
      "2023-03-16 18:40.28 [info     ] Model parameters are saved to d3rlpy_logs/FQE_20230316184028/model_7.pt\n"
     ]
    },
    {
     "data": {
      "application/vnd.jupyter.widget-view+json": {
       "model_id": "52a905b6b8014780954ef47318c18388",
       "version_major": 2,
       "version_minor": 0
      },
      "text/plain": [
       "[fit MWL model]:   0%|          | 0/1 [00:00<?, ?it/s]"
      ]
     },
     "metadata": {},
     "output_type": "display_data"
    },
    {
     "data": {
      "application/vnd.jupyter.widget-view+json": {
       "model_id": "b2b32c96c52c41f782bfe91efc3a3af0",
       "version_major": 2,
       "version_minor": 0
      },
      "text/plain": [
       "[fitting_weight_function]:   0%|          | 0/100 [00:00<?, ?it/s]"
      ]
     },
     "metadata": {},
     "output_type": "display_data"
    },
    {
     "data": {
      "application/vnd.jupyter.widget-view+json": {
       "model_id": "6e3fb51661b54ed3896c14c0cb996e31",
       "version_major": 2,
       "version_minor": 0
      },
      "text/plain": [
       "[fitting_weight_function]:   0%|          | 0/100 [00:00<?, ?it/s]"
      ]
     },
     "metadata": {},
     "output_type": "display_data"
    },
    {
     "data": {
      "application/vnd.jupyter.widget-view+json": {
       "model_id": "bb5a71c2c12f435f90fb67590ed33264",
       "version_major": 2,
       "version_minor": 0
      },
      "text/plain": [
       "[collect input data: eval_policy]:   0%|          | 0/1 [00:00<?, ?it/s]"
      ]
     },
     "metadata": {},
     "output_type": "display_data"
    },
    {
     "data": {
      "application/vnd.jupyter.widget-view+json": {
       "model_id": "3c30fd6c484540249e2b14a26304d19f",
       "version_major": 2,
       "version_minor": 0
      },
      "text/plain": [
       "[calculate on-policy policy value]:   0%|          | 0/100 [00:00<?, ?it/s]"
      ]
     },
     "metadata": {},
     "output_type": "display_data"
    },
    {
     "data": {
      "application/vnd.jupyter.widget-view+json": {
       "model_id": "7ef3cb6977574776b78badf8eceb43a2",
       "version_major": 2,
       "version_minor": 0
      },
      "text/plain": [
       "[obtain_trajectories]:   0%|          | 0/100 [00:00<?, ?it/s]"
      ]
     },
     "metadata": {},
     "output_type": "display_data"
    },
    {
     "data": {
      "application/vnd.jupyter.widget-view+json": {
       "model_id": "58584fcc6e3d40d9a5c4f5524a75be3c",
       "version_major": 2,
       "version_minor": 0
      },
      "text/plain": [
       "[obtain_trajectories]:   0%|          | 0/100 [00:00<?, ?it/s]"
      ]
     },
     "metadata": {},
     "output_type": "display_data"
    },
    {
     "data": {
      "application/vnd.jupyter.widget-view+json": {
       "model_id": "53b7b259b2924e3eb147fd266400158a",
       "version_major": 2,
       "version_minor": 0
      },
      "text/plain": [
       "[fit FQE model]:   0%|          | 0/1 [00:00<?, ?it/s]"
      ]
     },
     "metadata": {},
     "output_type": "display_data"
    },
    {
     "name": "stdout",
     "output_type": "stream",
     "text": [
      "2023-03-16 18:40.50 [debug    ] RoundIterator is selected.\n",
      "2023-03-16 18:40.50 [info     ] Directory is created at d3rlpy_logs/FQE_20230316184050\n",
      "2023-03-16 18:40.50 [debug    ] Fitting scaler...              scaler=min_max\n",
      "2023-03-16 18:40.50 [debug    ] Fitting action scaler...       action_scaler=min_max\n",
      "2023-03-16 18:40.50 [debug    ] Building models...\n",
      "2023-03-16 18:40.50 [debug    ] Models have been built.\n",
      "2023-03-16 18:40.50 [info     ] Parameters are saved to d3rlpy_logs/FQE_20230316184050/params.json params={'action_scaler': {'type': 'min_max', 'params': {'minimum': array([0.1]), 'maximum': array([10.])}}, 'batch_size': 100, 'encoder_factory': {'type': 'vector', 'params': {'hidden_units': [30, 30], 'activation': 'relu', 'use_batch_norm': False, 'dropout_rate': None, 'use_dense': False}}, 'gamma': 0.95, 'generated_maxlen': 100000, 'learning_rate': 0.0001, 'n_critics': 1, 'n_frames': 1, 'n_steps': 1, 'optim_factory': {'optim_cls': 'Adam', 'betas': (0.9, 0.999), 'eps': 1e-08, 'weight_decay': 0, 'amsgrad': False}, 'q_func_factory': {'type': 'mean', 'params': {'share_encoder': False}}, 'real_ratio': 1.0, 'reward_scaler': None, 'scaler': {'type': 'min_max', 'params': {'maximum': array([6.00000000e+00, 3.00000000e+03, 9.99844840e-01, 2.20000000e+04,\n",
      "       1.00000000e+00, 1.60000000e+01, 9.99451874e+00]), 'minimum': array([0.        , 1.        , 0.        , 0.        , 0.        ,\n",
      "       0.        , 0.00451009])}}, 'target_update_interval': 100, 'use_gpu': None, 'algorithm': 'FQE', 'observation_shape': (7,), 'action_size': 1}\n"
     ]
    },
    {
     "data": {
      "application/vnd.jupyter.widget-view+json": {
       "model_id": "d791ac46305a4228b09770c4d6dfe5d9",
       "version_major": 2,
       "version_minor": 0
      },
      "text/plain": [
       "Epoch 1/1:   0%|          | 0/7 [00:00<?, ?it/s]"
      ]
     },
     "metadata": {},
     "output_type": "display_data"
    },
    {
     "name": "stdout",
     "output_type": "stream",
     "text": [
      "2023-03-16 18:40.50 [info     ] FQE_20230316184050: epoch=1 step=7 epoch=1 metrics={'time_sample_batch': 7.486343383789062e-05, 'time_algorithm_update': 0.0014324869428362166, 'loss': 13.180279323032924, 'time_step': 0.0015523433685302734} step=7\n",
      "2023-03-16 18:40.50 [info     ] Model parameters are saved to d3rlpy_logs/FQE_20230316184050/model_7.pt\n"
     ]
    },
    {
     "data": {
      "application/vnd.jupyter.widget-view+json": {
       "model_id": "46db484e5001449a8faed584440cb8d5",
       "version_major": 2,
       "version_minor": 0
      },
      "text/plain": [
       "[fit MWL model]:   0%|          | 0/1 [00:00<?, ?it/s]"
      ]
     },
     "metadata": {},
     "output_type": "display_data"
    },
    {
     "data": {
      "application/vnd.jupyter.widget-view+json": {
       "model_id": "f741aa4d7ac34e66841255469838c282",
       "version_major": 2,
       "version_minor": 0
      },
      "text/plain": [
       "[fitting_weight_function]:   0%|          | 0/100 [00:00<?, ?it/s]"
      ]
     },
     "metadata": {},
     "output_type": "display_data"
    },
    {
     "data": {
      "application/vnd.jupyter.widget-view+json": {
       "model_id": "c933f4a237564cbc94c1615a7a228c03",
       "version_major": 2,
       "version_minor": 0
      },
      "text/plain": [
       "[fitting_weight_function]:   0%|          | 0/100 [00:00<?, ?it/s]"
      ]
     },
     "metadata": {},
     "output_type": "display_data"
    },
    {
     "data": {
      "application/vnd.jupyter.widget-view+json": {
       "model_id": "d4b99208545d45e487e38d5c967f84ee",
       "version_major": 2,
       "version_minor": 0
      },
      "text/plain": [
       "[collect input data: eval_policy]:   0%|          | 0/1 [00:00<?, ?it/s]"
      ]
     },
     "metadata": {},
     "output_type": "display_data"
    },
    {
     "data": {
      "application/vnd.jupyter.widget-view+json": {
       "model_id": "f44a33756481473897655e676bbd4f2b",
       "version_major": 2,
       "version_minor": 0
      },
      "text/plain": [
       "[calculate on-policy policy value]:   0%|          | 0/100 [00:00<?, ?it/s]"
      ]
     },
     "metadata": {},
     "output_type": "display_data"
    },
    {
     "data": {
      "application/vnd.jupyter.widget-view+json": {
       "model_id": "5f54209689e0418587955b5268061a42",
       "version_major": 2,
       "version_minor": 0
      },
      "text/plain": [
       "[obtain_trajectories]:   0%|          | 0/100 [00:00<?, ?it/s]"
      ]
     },
     "metadata": {},
     "output_type": "display_data"
    },
    {
     "data": {
      "application/vnd.jupyter.widget-view+json": {
       "model_id": "04bf7086d15f4c6a8173c4723e520c71",
       "version_major": 2,
       "version_minor": 0
      },
      "text/plain": [
       "[obtain_trajectories]:   0%|          | 0/100 [00:00<?, ?it/s]"
      ]
     },
     "metadata": {},
     "output_type": "display_data"
    },
    {
     "data": {
      "application/vnd.jupyter.widget-view+json": {
       "model_id": "f6e95e47007f4f9599e22d930de21b81",
       "version_major": 2,
       "version_minor": 0
      },
      "text/plain": [
       "[fit FQE model]:   0%|          | 0/1 [00:00<?, ?it/s]"
      ]
     },
     "metadata": {},
     "output_type": "display_data"
    },
    {
     "name": "stdout",
     "output_type": "stream",
     "text": [
      "2023-03-16 18:41.10 [debug    ] RoundIterator is selected.\n",
      "2023-03-16 18:41.10 [info     ] Directory is created at d3rlpy_logs/FQE_20230316184110\n",
      "2023-03-16 18:41.10 [debug    ] Fitting scaler...              scaler=min_max\n",
      "2023-03-16 18:41.10 [debug    ] Fitting action scaler...       action_scaler=min_max\n",
      "2023-03-16 18:41.10 [debug    ] Building models...\n",
      "2023-03-16 18:41.10 [debug    ] Models have been built.\n",
      "2023-03-16 18:41.10 [info     ] Parameters are saved to d3rlpy_logs/FQE_20230316184110/params.json params={'action_scaler': {'type': 'min_max', 'params': {'minimum': array([0.1]), 'maximum': array([10.])}}, 'batch_size': 100, 'encoder_factory': {'type': 'vector', 'params': {'hidden_units': [30, 30], 'activation': 'relu', 'use_batch_norm': False, 'dropout_rate': None, 'use_dense': False}}, 'gamma': 0.95, 'generated_maxlen': 100000, 'learning_rate': 0.0001, 'n_critics': 1, 'n_frames': 1, 'n_steps': 1, 'optim_factory': {'optim_cls': 'Adam', 'betas': (0.9, 0.999), 'eps': 1e-08, 'weight_decay': 0, 'amsgrad': False}, 'q_func_factory': {'type': 'mean', 'params': {'share_encoder': False}}, 'real_ratio': 1.0, 'reward_scaler': None, 'scaler': {'type': 'min_max', 'params': {'maximum': array([6.00000000e+00, 3.00000000e+03, 9.99219360e-01, 1.60000000e+04,\n",
      "       1.00000000e+00, 1.70000000e+01, 9.98226594e+00]), 'minimum': array([0.        , 1.        , 0.        , 0.        , 0.        ,\n",
      "       0.        , 0.02827482])}}, 'target_update_interval': 100, 'use_gpu': None, 'algorithm': 'FQE', 'observation_shape': (7,), 'action_size': 1}\n"
     ]
    },
    {
     "data": {
      "application/vnd.jupyter.widget-view+json": {
       "model_id": "e653d1bccab24e4e9a7a4a89e37b22d5",
       "version_major": 2,
       "version_minor": 0
      },
      "text/plain": [
       "Epoch 1/1:   0%|          | 0/7 [00:00<?, ?it/s]"
      ]
     },
     "metadata": {},
     "output_type": "display_data"
    },
    {
     "name": "stdout",
     "output_type": "stream",
     "text": [
      "2023-03-16 18:41.10 [info     ] FQE_20230316184110: epoch=1 step=7 epoch=1 metrics={'time_sample_batch': 0.00012867791312081472, 'time_algorithm_update': 0.0020279884338378906, 'loss': 15.192714009966169, 'time_step': 0.0022065298897879465} step=7\n",
      "2023-03-16 18:41.10 [info     ] Model parameters are saved to d3rlpy_logs/FQE_20230316184110/model_7.pt\n"
     ]
    },
    {
     "data": {
      "application/vnd.jupyter.widget-view+json": {
       "model_id": "d6e901d85cd24e79844b6ad70a3d1bfb",
       "version_major": 2,
       "version_minor": 0
      },
      "text/plain": [
       "[fit MWL model]:   0%|          | 0/1 [00:00<?, ?it/s]"
      ]
     },
     "metadata": {},
     "output_type": "display_data"
    },
    {
     "data": {
      "application/vnd.jupyter.widget-view+json": {
       "model_id": "8830d752c845404795e9ddb911f46b98",
       "version_major": 2,
       "version_minor": 0
      },
      "text/plain": [
       "[fitting_weight_function]:   0%|          | 0/100 [00:00<?, ?it/s]"
      ]
     },
     "metadata": {},
     "output_type": "display_data"
    },
    {
     "data": {
      "application/vnd.jupyter.widget-view+json": {
       "model_id": "da4d5c3ab75b4a2d9082e73d197f7a57",
       "version_major": 2,
       "version_minor": 0
      },
      "text/plain": [
       "[fitting_weight_function]:   0%|          | 0/100 [00:00<?, ?it/s]"
      ]
     },
     "metadata": {},
     "output_type": "display_data"
    },
    {
     "data": {
      "application/vnd.jupyter.widget-view+json": {
       "model_id": "90f58e827d0a4030a5c53d10f063136d",
       "version_major": 2,
       "version_minor": 0
      },
      "text/plain": [
       "[collect input data: eval_policy]:   0%|          | 0/1 [00:00<?, ?it/s]"
      ]
     },
     "metadata": {},
     "output_type": "display_data"
    },
    {
     "data": {
      "application/vnd.jupyter.widget-view+json": {
       "model_id": "b1e521aa21c144329b475e24da72eb3f",
       "version_major": 2,
       "version_minor": 0
      },
      "text/plain": [
       "[calculate on-policy policy value]:   0%|          | 0/100 [00:00<?, ?it/s]"
      ]
     },
     "metadata": {},
     "output_type": "display_data"
    },
    {
     "data": {
      "application/vnd.jupyter.widget-view+json": {
       "model_id": "16208a13a43c404cb52d4391a20090a3",
       "version_major": 2,
       "version_minor": 0
      },
      "text/plain": [
       "[obtain_trajectories]:   0%|          | 0/100 [00:00<?, ?it/s]"
      ]
     },
     "metadata": {},
     "output_type": "display_data"
    },
    {
     "data": {
      "application/vnd.jupyter.widget-view+json": {
       "model_id": "9ef94872861744b9a6c46761f67a2339",
       "version_major": 2,
       "version_minor": 0
      },
      "text/plain": [
       "[obtain_trajectories]:   0%|          | 0/100 [00:00<?, ?it/s]"
      ]
     },
     "metadata": {},
     "output_type": "display_data"
    },
    {
     "data": {
      "application/vnd.jupyter.widget-view+json": {
       "model_id": "484a84b75c744d9c8f09057e2e8ce6a4",
       "version_major": 2,
       "version_minor": 0
      },
      "text/plain": [
       "[fit FQE model]:   0%|          | 0/1 [00:00<?, ?it/s]"
      ]
     },
     "metadata": {},
     "output_type": "display_data"
    },
    {
     "name": "stdout",
     "output_type": "stream",
     "text": [
      "2023-03-16 18:41.29 [debug    ] RoundIterator is selected.\n",
      "2023-03-16 18:41.29 [info     ] Directory is created at d3rlpy_logs/FQE_20230316184129\n",
      "2023-03-16 18:41.29 [debug    ] Fitting scaler...              scaler=min_max\n",
      "2023-03-16 18:41.29 [debug    ] Fitting action scaler...       action_scaler=min_max\n",
      "2023-03-16 18:41.29 [debug    ] Building models...\n",
      "2023-03-16 18:41.29 [debug    ] Models have been built.\n",
      "2023-03-16 18:41.29 [info     ] Parameters are saved to d3rlpy_logs/FQE_20230316184129/params.json params={'action_scaler': {'type': 'min_max', 'params': {'minimum': array([0.1]), 'maximum': array([10.])}}, 'batch_size': 100, 'encoder_factory': {'type': 'vector', 'params': {'hidden_units': [30, 30], 'activation': 'relu', 'use_batch_norm': False, 'dropout_rate': None, 'use_dense': False}}, 'gamma': 0.95, 'generated_maxlen': 100000, 'learning_rate': 0.0001, 'n_critics': 1, 'n_frames': 1, 'n_steps': 1, 'optim_factory': {'optim_cls': 'Adam', 'betas': (0.9, 0.999), 'eps': 1e-08, 'weight_decay': 0, 'amsgrad': False}, 'q_func_factory': {'type': 'mean', 'params': {'share_encoder': False}}, 'real_ratio': 1.0, 'reward_scaler': None, 'scaler': {'type': 'min_max', 'params': {'maximum': array([6.00000000e+00, 3.00000000e+03, 9.98380567e-01, 1.06923077e+04,\n",
      "       1.00000000e+00, 1.60000000e+01, 9.99382488e+00]), 'minimum': array([0.00000000e+00, 1.00000000e+00, 0.00000000e+00, 0.00000000e+00,\n",
      "       0.00000000e+00, 0.00000000e+00, 6.96924893e-04])}}, 'target_update_interval': 100, 'use_gpu': None, 'algorithm': 'FQE', 'observation_shape': (7,), 'action_size': 1}\n"
     ]
    },
    {
     "data": {
      "application/vnd.jupyter.widget-view+json": {
       "model_id": "25b002cfb4c44f0cb540f95a34219496",
       "version_major": 2,
       "version_minor": 0
      },
      "text/plain": [
       "Epoch 1/1:   0%|          | 0/7 [00:00<?, ?it/s]"
      ]
     },
     "metadata": {},
     "output_type": "display_data"
    },
    {
     "name": "stdout",
     "output_type": "stream",
     "text": [
      "2023-03-16 18:41.30 [info     ] FQE_20230316184129: epoch=1 step=7 epoch=1 metrics={'time_sample_batch': 0.00010326930454799108, 'time_algorithm_update': 0.0019310542515345982, 'loss': 12.915191105433873, 'time_step': 0.002087967736380441} step=7\n",
      "2023-03-16 18:41.30 [info     ] Model parameters are saved to d3rlpy_logs/FQE_20230316184129/model_7.pt\n"
     ]
    },
    {
     "data": {
      "application/vnd.jupyter.widget-view+json": {
       "model_id": "c36c2998e0794de0aaf29b27d960d7e2",
       "version_major": 2,
       "version_minor": 0
      },
      "text/plain": [
       "[fit MWL model]:   0%|          | 0/1 [00:00<?, ?it/s]"
      ]
     },
     "metadata": {},
     "output_type": "display_data"
    },
    {
     "data": {
      "application/vnd.jupyter.widget-view+json": {
       "model_id": "57ee8a10b64445c3b4fce13edad074fe",
       "version_major": 2,
       "version_minor": 0
      },
      "text/plain": [
       "[fitting_weight_function]:   0%|          | 0/100 [00:00<?, ?it/s]"
      ]
     },
     "metadata": {},
     "output_type": "display_data"
    },
    {
     "data": {
      "application/vnd.jupyter.widget-view+json": {
       "model_id": "e6d12dddc83f437c8b6a1c07d2775df1",
       "version_major": 2,
       "version_minor": 0
      },
      "text/plain": [
       "[fitting_weight_function]:   0%|          | 0/100 [00:00<?, ?it/s]"
      ]
     },
     "metadata": {},
     "output_type": "display_data"
    },
    {
     "data": {
      "application/vnd.jupyter.widget-view+json": {
       "model_id": "650acacdb7464ebbb83b091d42a515f7",
       "version_major": 2,
       "version_minor": 0
      },
      "text/plain": [
       "[collect input data: eval_policy]:   0%|          | 0/1 [00:00<?, ?it/s]"
      ]
     },
     "metadata": {},
     "output_type": "display_data"
    },
    {
     "data": {
      "application/vnd.jupyter.widget-view+json": {
       "model_id": "706139dbbaba4d6bb0681f2533343b60",
       "version_major": 2,
       "version_minor": 0
      },
      "text/plain": [
       "[calculate on-policy policy value]:   0%|          | 0/100 [00:00<?, ?it/s]"
      ]
     },
     "metadata": {},
     "output_type": "display_data"
    },
    {
     "data": {
      "application/vnd.jupyter.widget-view+json": {
       "model_id": "4d9869bd0f964efd9c1a81cd562ba3d5",
       "version_major": 2,
       "version_minor": 0
      },
      "text/plain": [
       "[obtain_trajectories]:   0%|          | 0/100 [00:00<?, ?it/s]"
      ]
     },
     "metadata": {},
     "output_type": "display_data"
    },
    {
     "data": {
      "application/vnd.jupyter.widget-view+json": {
       "model_id": "eebc4d0044844105a1e8ce3991f8059c",
       "version_major": 2,
       "version_minor": 0
      },
      "text/plain": [
       "[obtain_trajectories]:   0%|          | 0/100 [00:00<?, ?it/s]"
      ]
     },
     "metadata": {},
     "output_type": "display_data"
    },
    {
     "data": {
      "application/vnd.jupyter.widget-view+json": {
       "model_id": "f383ac7fe6d04b65b3156c1b0a80d81c",
       "version_major": 2,
       "version_minor": 0
      },
      "text/plain": [
       "[fit FQE model]:   0%|          | 0/1 [00:00<?, ?it/s]"
      ]
     },
     "metadata": {},
     "output_type": "display_data"
    },
    {
     "name": "stdout",
     "output_type": "stream",
     "text": [
      "2023-03-16 18:41.50 [debug    ] RoundIterator is selected.\n",
      "2023-03-16 18:41.50 [info     ] Directory is created at d3rlpy_logs/FQE_20230316184150\n",
      "2023-03-16 18:41.50 [debug    ] Fitting scaler...              scaler=min_max\n",
      "2023-03-16 18:41.50 [debug    ] Fitting action scaler...       action_scaler=min_max\n",
      "2023-03-16 18:41.50 [debug    ] Building models...\n",
      "2023-03-16 18:41.50 [debug    ] Models have been built.\n",
      "2023-03-16 18:41.50 [info     ] Parameters are saved to d3rlpy_logs/FQE_20230316184150/params.json params={'action_scaler': {'type': 'min_max', 'params': {'minimum': array([0.1]), 'maximum': array([10.])}}, 'batch_size': 100, 'encoder_factory': {'type': 'vector', 'params': {'hidden_units': [30, 30], 'activation': 'relu', 'use_batch_norm': False, 'dropout_rate': None, 'use_dense': False}}, 'gamma': 0.95, 'generated_maxlen': 100000, 'learning_rate': 0.0001, 'n_critics': 1, 'n_frames': 1, 'n_steps': 1, 'optim_factory': {'optim_cls': 'Adam', 'betas': (0.9, 0.999), 'eps': 1e-08, 'weight_decay': 0, 'amsgrad': False}, 'q_func_factory': {'type': 'mean', 'params': {'share_encoder': False}}, 'real_ratio': 1.0, 'reward_scaler': None, 'scaler': {'type': 'min_max', 'params': {'maximum': array([6.00000000e+00, 3.00000000e+03, 9.98803828e-01, 3.10000000e+04,\n",
      "       1.00000000e+00, 1.80000000e+01, 1.07286984e+01]), 'minimum': array([0.        , 1.        , 0.        , 0.        , 0.        ,\n",
      "       0.        , 0.00776273])}}, 'target_update_interval': 100, 'use_gpu': None, 'algorithm': 'FQE', 'observation_shape': (7,), 'action_size': 1}\n"
     ]
    },
    {
     "data": {
      "application/vnd.jupyter.widget-view+json": {
       "model_id": "da5728a921464c7489f1d26285a412c0",
       "version_major": 2,
       "version_minor": 0
      },
      "text/plain": [
       "Epoch 1/1:   0%|          | 0/7 [00:00<?, ?it/s]"
      ]
     },
     "metadata": {},
     "output_type": "display_data"
    },
    {
     "name": "stdout",
     "output_type": "stream",
     "text": [
      "2023-03-16 18:41.50 [info     ] FQE_20230316184150: epoch=1 step=7 epoch=1 metrics={'time_sample_batch': 9.809221540178572e-05, 'time_algorithm_update': 0.0019038404737200057, 'loss': 15.5904449735369, 'time_step': 0.0020603452410016742} step=7\n",
      "2023-03-16 18:41.50 [info     ] Model parameters are saved to d3rlpy_logs/FQE_20230316184150/model_7.pt\n"
     ]
    },
    {
     "data": {
      "application/vnd.jupyter.widget-view+json": {
       "model_id": "a4853432af99419196a8ec264d9cfba8",
       "version_major": 2,
       "version_minor": 0
      },
      "text/plain": [
       "[fit MWL model]:   0%|          | 0/1 [00:00<?, ?it/s]"
      ]
     },
     "metadata": {},
     "output_type": "display_data"
    },
    {
     "data": {
      "application/vnd.jupyter.widget-view+json": {
       "model_id": "2a97550fe6c14eb490173a665a29b6de",
       "version_major": 2,
       "version_minor": 0
      },
      "text/plain": [
       "[fitting_weight_function]:   0%|          | 0/100 [00:00<?, ?it/s]"
      ]
     },
     "metadata": {},
     "output_type": "display_data"
    },
    {
     "data": {
      "application/vnd.jupyter.widget-view+json": {
       "model_id": "eb1b33c0b46549afaa7ad2644251fda3",
       "version_major": 2,
       "version_minor": 0
      },
      "text/plain": [
       "[fitting_weight_function]:   0%|          | 0/100 [00:00<?, ?it/s]"
      ]
     },
     "metadata": {},
     "output_type": "display_data"
    },
    {
     "data": {
      "application/vnd.jupyter.widget-view+json": {
       "model_id": "f26abe86da4b424fb33c87a8c2cf1a9c",
       "version_major": 2,
       "version_minor": 0
      },
      "text/plain": [
       "[collect input data: eval_policy]:   0%|          | 0/1 [00:00<?, ?it/s]"
      ]
     },
     "metadata": {},
     "output_type": "display_data"
    },
    {
     "data": {
      "application/vnd.jupyter.widget-view+json": {
       "model_id": "c0239c06507347db93c37c95ed99ebf1",
       "version_major": 2,
       "version_minor": 0
      },
      "text/plain": [
       "[calculate on-policy policy value]:   0%|          | 0/100 [00:00<?, ?it/s]"
      ]
     },
     "metadata": {},
     "output_type": "display_data"
    },
    {
     "data": {
      "application/vnd.jupyter.widget-view+json": {
       "model_id": "2d14edc1989a403483932824bb6b8675",
       "version_major": 2,
       "version_minor": 0
      },
      "text/plain": [
       "[obtain_trajectories]:   0%|          | 0/100 [00:00<?, ?it/s]"
      ]
     },
     "metadata": {},
     "output_type": "display_data"
    },
    {
     "data": {
      "application/vnd.jupyter.widget-view+json": {
       "model_id": "466e7abb8a6146f8b04d6a555e8d5d35",
       "version_major": 2,
       "version_minor": 0
      },
      "text/plain": [
       "[obtain_trajectories]:   0%|          | 0/100 [00:00<?, ?it/s]"
      ]
     },
     "metadata": {},
     "output_type": "display_data"
    },
    {
     "data": {
      "application/vnd.jupyter.widget-view+json": {
       "model_id": "ff8ebb6b2933462985ab5dde429c70ff",
       "version_major": 2,
       "version_minor": 0
      },
      "text/plain": [
       "[fit FQE model]:   0%|          | 0/1 [00:00<?, ?it/s]"
      ]
     },
     "metadata": {},
     "output_type": "display_data"
    },
    {
     "name": "stdout",
     "output_type": "stream",
     "text": [
      "2023-03-16 18:42.12 [debug    ] RoundIterator is selected.\n",
      "2023-03-16 18:42.12 [info     ] Directory is created at d3rlpy_logs/FQE_20230316184212\n",
      "2023-03-16 18:42.12 [debug    ] Fitting scaler...              scaler=min_max\n",
      "2023-03-16 18:42.12 [debug    ] Fitting action scaler...       action_scaler=min_max\n",
      "2023-03-16 18:42.12 [debug    ] Building models...\n",
      "2023-03-16 18:42.12 [debug    ] Models have been built.\n",
      "2023-03-16 18:42.12 [info     ] Parameters are saved to d3rlpy_logs/FQE_20230316184212/params.json params={'action_scaler': {'type': 'min_max', 'params': {'minimum': array([0.1]), 'maximum': array([10.])}}, 'batch_size': 100, 'encoder_factory': {'type': 'vector', 'params': {'hidden_units': [30, 30], 'activation': 'relu', 'use_batch_norm': False, 'dropout_rate': None, 'use_dense': False}}, 'gamma': 0.95, 'generated_maxlen': 100000, 'learning_rate': 0.0001, 'n_critics': 1, 'n_frames': 1, 'n_steps': 1, 'optim_factory': {'optim_cls': 'Adam', 'betas': (0.9, 0.999), 'eps': 1e-08, 'weight_decay': 0, 'amsgrad': False}, 'q_func_factory': {'type': 'mean', 'params': {'share_encoder': False}}, 'real_ratio': 1.0, 'reward_scaler': None, 'scaler': {'type': 'min_max', 'params': {'maximum': array([6.00000000e+00, 3.00000000e+03, 9.98275862e-01, 3.40000000e+04,\n",
      "       1.00000000e+00, 1.60000000e+01, 9.99977945e+00]), 'minimum': array([0.        , 1.        , 0.        , 0.        , 0.        ,\n",
      "       0.        , 0.00689501])}}, 'target_update_interval': 100, 'use_gpu': None, 'algorithm': 'FQE', 'observation_shape': (7,), 'action_size': 1}\n"
     ]
    },
    {
     "data": {
      "application/vnd.jupyter.widget-view+json": {
       "model_id": "6382f7ffb9a34374a3cfca8fb5bece50",
       "version_major": 2,
       "version_minor": 0
      },
      "text/plain": [
       "Epoch 1/1:   0%|          | 0/7 [00:00<?, ?it/s]"
      ]
     },
     "metadata": {},
     "output_type": "display_data"
    },
    {
     "name": "stdout",
     "output_type": "stream",
     "text": [
      "2023-03-16 18:42.12 [info     ] FQE_20230316184212: epoch=1 step=7 epoch=1 metrics={'time_sample_batch': 0.00010456357683454241, 'time_algorithm_update': 0.002069371087210519, 'loss': 13.260228293282646, 'time_step': 0.00225240843636649} step=7\n",
      "2023-03-16 18:42.12 [info     ] Model parameters are saved to d3rlpy_logs/FQE_20230316184212/model_7.pt\n"
     ]
    },
    {
     "data": {
      "application/vnd.jupyter.widget-view+json": {
       "model_id": "25216b60bbca417a9ef4c19dce9a7764",
       "version_major": 2,
       "version_minor": 0
      },
      "text/plain": [
       "[fit MWL model]:   0%|          | 0/1 [00:00<?, ?it/s]"
      ]
     },
     "metadata": {},
     "output_type": "display_data"
    },
    {
     "data": {
      "application/vnd.jupyter.widget-view+json": {
       "model_id": "827b9e6cd9dc496ab3c18a632a060d66",
       "version_major": 2,
       "version_minor": 0
      },
      "text/plain": [
       "[fitting_weight_function]:   0%|          | 0/100 [00:00<?, ?it/s]"
      ]
     },
     "metadata": {},
     "output_type": "display_data"
    },
    {
     "data": {
      "application/vnd.jupyter.widget-view+json": {
       "model_id": "c3e56ff5c08a48e6b60d38f13effae68",
       "version_major": 2,
       "version_minor": 0
      },
      "text/plain": [
       "[fitting_weight_function]:   0%|          | 0/100 [00:00<?, ?it/s]"
      ]
     },
     "metadata": {},
     "output_type": "display_data"
    },
    {
     "data": {
      "application/vnd.jupyter.widget-view+json": {
       "model_id": "49640374a4d548f994df7ede0128de89",
       "version_major": 2,
       "version_minor": 0
      },
      "text/plain": [
       "[collect input data: eval_policy]:   0%|          | 0/1 [00:00<?, ?it/s]"
      ]
     },
     "metadata": {},
     "output_type": "display_data"
    },
    {
     "data": {
      "application/vnd.jupyter.widget-view+json": {
       "model_id": "1ab9d750658540cbaecd22cf76b8541f",
       "version_major": 2,
       "version_minor": 0
      },
      "text/plain": [
       "[calculate on-policy policy value]:   0%|          | 0/100 [00:00<?, ?it/s]"
      ]
     },
     "metadata": {},
     "output_type": "display_data"
    },
    {
     "data": {
      "application/vnd.jupyter.widget-view+json": {
       "model_id": "2c3eade9841043c6a8a3ddbaa3f530a0",
       "version_major": 2,
       "version_minor": 0
      },
      "text/plain": [
       "[obtain_trajectories]:   0%|          | 0/100 [00:00<?, ?it/s]"
      ]
     },
     "metadata": {},
     "output_type": "display_data"
    },
    {
     "data": {
      "application/vnd.jupyter.widget-view+json": {
       "model_id": "99d33f5c597c43698d70715977feda74",
       "version_major": 2,
       "version_minor": 0
      },
      "text/plain": [
       "[obtain_trajectories]:   0%|          | 0/100 [00:00<?, ?it/s]"
      ]
     },
     "metadata": {},
     "output_type": "display_data"
    },
    {
     "data": {
      "application/vnd.jupyter.widget-view+json": {
       "model_id": "df2b27f0e62f4687938b8e170ac96002",
       "version_major": 2,
       "version_minor": 0
      },
      "text/plain": [
       "[fit FQE model]:   0%|          | 0/1 [00:00<?, ?it/s]"
      ]
     },
     "metadata": {},
     "output_type": "display_data"
    },
    {
     "name": "stdout",
     "output_type": "stream",
     "text": [
      "2023-03-16 18:42.34 [debug    ] RoundIterator is selected.\n",
      "2023-03-16 18:42.34 [info     ] Directory is created at d3rlpy_logs/FQE_20230316184234\n",
      "2023-03-16 18:42.34 [debug    ] Fitting scaler...              scaler=min_max\n",
      "2023-03-16 18:42.34 [debug    ] Fitting action scaler...       action_scaler=min_max\n",
      "2023-03-16 18:42.34 [debug    ] Building models...\n",
      "2023-03-16 18:42.34 [debug    ] Models have been built.\n",
      "2023-03-16 18:42.34 [info     ] Parameters are saved to d3rlpy_logs/FQE_20230316184234/params.json params={'action_scaler': {'type': 'min_max', 'params': {'minimum': array([0.1]), 'maximum': array([10.])}}, 'batch_size': 100, 'encoder_factory': {'type': 'vector', 'params': {'hidden_units': [30, 30], 'activation': 'relu', 'use_batch_norm': False, 'dropout_rate': None, 'use_dense': False}}, 'gamma': 0.95, 'generated_maxlen': 100000, 'learning_rate': 0.0001, 'n_critics': 1, 'n_frames': 1, 'n_steps': 1, 'optim_factory': {'optim_cls': 'Adam', 'betas': (0.9, 0.999), 'eps': 1e-08, 'weight_decay': 0, 'amsgrad': False}, 'q_func_factory': {'type': 'mean', 'params': {'share_encoder': False}}, 'real_ratio': 1.0, 'reward_scaler': None, 'scaler': {'type': 'min_max', 'params': {'maximum': array([6.00000000e+00, 3.00000000e+03, 9.99156830e-01, 3.70000000e+04,\n",
      "       1.00000000e+00, 1.30000000e+01, 9.99517729e+00]), 'minimum': array([0.        , 1.        , 0.        , 0.        , 0.        ,\n",
      "       0.        , 0.00755735])}}, 'target_update_interval': 100, 'use_gpu': None, 'algorithm': 'FQE', 'observation_shape': (7,), 'action_size': 1}\n"
     ]
    },
    {
     "data": {
      "application/vnd.jupyter.widget-view+json": {
       "model_id": "2793c7632f184cec8abb360866e1c641",
       "version_major": 2,
       "version_minor": 0
      },
      "text/plain": [
       "Epoch 1/1:   0%|          | 0/7 [00:00<?, ?it/s]"
      ]
     },
     "metadata": {},
     "output_type": "display_data"
    },
    {
     "name": "stdout",
     "output_type": "stream",
     "text": [
      "2023-03-16 18:42.34 [info     ] FQE_20230316184234: epoch=1 step=7 epoch=1 metrics={'time_sample_batch': 7.448877607073103e-05, 'time_algorithm_update': 0.0016515595572335379, 'loss': 12.143428938729423, 'time_step': 0.0017854486192975725} step=7\n",
      "2023-03-16 18:42.34 [info     ] Model parameters are saved to d3rlpy_logs/FQE_20230316184234/model_7.pt\n"
     ]
    },
    {
     "data": {
      "application/vnd.jupyter.widget-view+json": {
       "model_id": "abddf6fdd4c7409bae4c75be7f8fc96d",
       "version_major": 2,
       "version_minor": 0
      },
      "text/plain": [
       "[fit MWL model]:   0%|          | 0/1 [00:00<?, ?it/s]"
      ]
     },
     "metadata": {},
     "output_type": "display_data"
    },
    {
     "data": {
      "application/vnd.jupyter.widget-view+json": {
       "model_id": "15a170cb3ed440eea2c38fc7fee7d65e",
       "version_major": 2,
       "version_minor": 0
      },
      "text/plain": [
       "[fitting_weight_function]:   0%|          | 0/100 [00:00<?, ?it/s]"
      ]
     },
     "metadata": {},
     "output_type": "display_data"
    },
    {
     "data": {
      "application/vnd.jupyter.widget-view+json": {
       "model_id": "c531eda1ba494b6cb569a273d5f2725b",
       "version_major": 2,
       "version_minor": 0
      },
      "text/plain": [
       "[fitting_weight_function]:   0%|          | 0/100 [00:00<?, ?it/s]"
      ]
     },
     "metadata": {},
     "output_type": "display_data"
    },
    {
     "data": {
      "application/vnd.jupyter.widget-view+json": {
       "model_id": "97549382d09d4fdbaa95ca2648fb0a03",
       "version_major": 2,
       "version_minor": 0
      },
      "text/plain": [
       "[collect input data: eval_policy]:   0%|          | 0/1 [00:00<?, ?it/s]"
      ]
     },
     "metadata": {},
     "output_type": "display_data"
    },
    {
     "data": {
      "application/vnd.jupyter.widget-view+json": {
       "model_id": "ae2df3d8a4fa435dae878944dda4d633",
       "version_major": 2,
       "version_minor": 0
      },
      "text/plain": [
       "[calculate on-policy policy value]:   0%|          | 0/100 [00:00<?, ?it/s]"
      ]
     },
     "metadata": {},
     "output_type": "display_data"
    },
    {
     "data": {
      "application/vnd.jupyter.widget-view+json": {
       "model_id": "48e055434e0646529687b432c89ba1e7",
       "version_major": 2,
       "version_minor": 0
      },
      "text/plain": [
       "[obtain_trajectories]:   0%|          | 0/100 [00:00<?, ?it/s]"
      ]
     },
     "metadata": {},
     "output_type": "display_data"
    },
    {
     "data": {
      "application/vnd.jupyter.widget-view+json": {
       "model_id": "47bcc8ea2a0a4639ac9d03c27a42b0ec",
       "version_major": 2,
       "version_minor": 0
      },
      "text/plain": [
       "[obtain_trajectories]:   0%|          | 0/100 [00:00<?, ?it/s]"
      ]
     },
     "metadata": {},
     "output_type": "display_data"
    },
    {
     "data": {
      "application/vnd.jupyter.widget-view+json": {
       "model_id": "8451e68a406a44c68d6abbae392590cc",
       "version_major": 2,
       "version_minor": 0
      },
      "text/plain": [
       "[fit FQE model]:   0%|          | 0/1 [00:00<?, ?it/s]"
      ]
     },
     "metadata": {},
     "output_type": "display_data"
    },
    {
     "name": "stdout",
     "output_type": "stream",
     "text": [
      "2023-03-16 18:42.56 [debug    ] RoundIterator is selected.\n",
      "2023-03-16 18:42.56 [info     ] Directory is created at d3rlpy_logs/FQE_20230316184256\n",
      "2023-03-16 18:42.56 [debug    ] Fitting scaler...              scaler=min_max\n",
      "2023-03-16 18:42.56 [debug    ] Fitting action scaler...       action_scaler=min_max\n",
      "2023-03-16 18:42.56 [debug    ] Building models...\n",
      "2023-03-16 18:42.56 [debug    ] Models have been built.\n",
      "2023-03-16 18:42.56 [info     ] Parameters are saved to d3rlpy_logs/FQE_20230316184256/params.json params={'action_scaler': {'type': 'min_max', 'params': {'minimum': array([0.1]), 'maximum': array([10.])}}, 'batch_size': 100, 'encoder_factory': {'type': 'vector', 'params': {'hidden_units': [30, 30], 'activation': 'relu', 'use_batch_norm': False, 'dropout_rate': None, 'use_dense': False}}, 'gamma': 0.95, 'generated_maxlen': 100000, 'learning_rate': 0.0001, 'n_critics': 1, 'n_frames': 1, 'n_steps': 1, 'optim_factory': {'optim_cls': 'Adam', 'betas': (0.9, 0.999), 'eps': 1e-08, 'weight_decay': 0, 'amsgrad': False}, 'q_func_factory': {'type': 'mean', 'params': {'share_encoder': False}}, 'real_ratio': 1.0, 'reward_scaler': None, 'scaler': {'type': 'min_max', 'params': {'maximum': array([6.00000000e+00, 3.00000000e+03, 9.98430913e-01, 5.80000000e+04,\n",
      "       1.00000000e+00, 1.50000000e+01, 9.99200676e+00]), 'minimum': array([0.000000e+00, 1.000000e+00, 0.000000e+00, 0.000000e+00,\n",
      "       0.000000e+00, 0.000000e+00, 1.135698e-05])}}, 'target_update_interval': 100, 'use_gpu': None, 'algorithm': 'FQE', 'observation_shape': (7,), 'action_size': 1}\n"
     ]
    },
    {
     "data": {
      "application/vnd.jupyter.widget-view+json": {
       "model_id": "29c77a4892804f6fba694d24c76e6d3c",
       "version_major": 2,
       "version_minor": 0
      },
      "text/plain": [
       "Epoch 1/1:   0%|          | 0/7 [00:00<?, ?it/s]"
      ]
     },
     "metadata": {},
     "output_type": "display_data"
    },
    {
     "name": "stdout",
     "output_type": "stream",
     "text": [
      "2023-03-16 18:42.56 [info     ] FQE_20230316184256: epoch=1 step=7 epoch=1 metrics={'time_sample_batch': 0.00011784689767020089, 'time_algorithm_update': 0.00217611449105399, 'loss': 11.759752137320381, 'time_step': 0.00237621579851423} step=7\n",
      "2023-03-16 18:42.56 [info     ] Model parameters are saved to d3rlpy_logs/FQE_20230316184256/model_7.pt\n"
     ]
    },
    {
     "data": {
      "application/vnd.jupyter.widget-view+json": {
       "model_id": "f2e865a794ae443b9b60a06d68132374",
       "version_major": 2,
       "version_minor": 0
      },
      "text/plain": [
       "[fit MWL model]:   0%|          | 0/1 [00:00<?, ?it/s]"
      ]
     },
     "metadata": {},
     "output_type": "display_data"
    },
    {
     "data": {
      "application/vnd.jupyter.widget-view+json": {
       "model_id": "c3aeab9778514177801bab7c2ee72f97",
       "version_major": 2,
       "version_minor": 0
      },
      "text/plain": [
       "[fitting_weight_function]:   0%|          | 0/100 [00:00<?, ?it/s]"
      ]
     },
     "metadata": {},
     "output_type": "display_data"
    },
    {
     "data": {
      "application/vnd.jupyter.widget-view+json": {
       "model_id": "226751a7e60a41d997308c72cc9a0540",
       "version_major": 2,
       "version_minor": 0
      },
      "text/plain": [
       "[fitting_weight_function]:   0%|          | 0/100 [00:00<?, ?it/s]"
      ]
     },
     "metadata": {},
     "output_type": "display_data"
    },
    {
     "data": {
      "application/vnd.jupyter.widget-view+json": {
       "model_id": "2368b634ee1f4757ba2688db186f3a81",
       "version_major": 2,
       "version_minor": 0
      },
      "text/plain": [
       "[collect input data: eval_policy]:   0%|          | 0/1 [00:00<?, ?it/s]"
      ]
     },
     "metadata": {},
     "output_type": "display_data"
    },
    {
     "data": {
      "application/vnd.jupyter.widget-view+json": {
       "model_id": "dfe88654520941d6a2a5c0412c728a1e",
       "version_major": 2,
       "version_minor": 0
      },
      "text/plain": [
       "[calculate on-policy policy value]:   0%|          | 0/100 [00:00<?, ?it/s]"
      ]
     },
     "metadata": {},
     "output_type": "display_data"
    },
    {
     "data": {
      "application/vnd.jupyter.widget-view+json": {
       "model_id": "838acd76dc01454fb3df5ad8376cb330",
       "version_major": 2,
       "version_minor": 0
      },
      "text/plain": [
       "[obtain_trajectories]:   0%|          | 0/100 [00:00<?, ?it/s]"
      ]
     },
     "metadata": {},
     "output_type": "display_data"
    },
    {
     "data": {
      "application/vnd.jupyter.widget-view+json": {
       "model_id": "fc9a35071a674ca5b001efbe9154e692",
       "version_major": 2,
       "version_minor": 0
      },
      "text/plain": [
       "[obtain_trajectories]:   0%|          | 0/100 [00:00<?, ?it/s]"
      ]
     },
     "metadata": {},
     "output_type": "display_data"
    },
    {
     "data": {
      "application/vnd.jupyter.widget-view+json": {
       "model_id": "e83a25378aba4ba8bead5a22698d84d3",
       "version_major": 2,
       "version_minor": 0
      },
      "text/plain": [
       "[fit FQE model]:   0%|          | 0/1 [00:00<?, ?it/s]"
      ]
     },
     "metadata": {},
     "output_type": "display_data"
    },
    {
     "name": "stdout",
     "output_type": "stream",
     "text": [
      "2023-03-16 18:43.17 [debug    ] RoundIterator is selected.\n",
      "2023-03-16 18:43.17 [info     ] Directory is created at d3rlpy_logs/FQE_20230316184317\n",
      "2023-03-16 18:43.17 [debug    ] Fitting scaler...              scaler=min_max\n",
      "2023-03-16 18:43.17 [debug    ] Fitting action scaler...       action_scaler=min_max\n",
      "2023-03-16 18:43.17 [debug    ] Building models...\n",
      "2023-03-16 18:43.17 [debug    ] Models have been built.\n",
      "2023-03-16 18:43.17 [info     ] Parameters are saved to d3rlpy_logs/FQE_20230316184317/params.json params={'action_scaler': {'type': 'min_max', 'params': {'minimum': array([0.1]), 'maximum': array([10.])}}, 'batch_size': 100, 'encoder_factory': {'type': 'vector', 'params': {'hidden_units': [30, 30], 'activation': 'relu', 'use_batch_norm': False, 'dropout_rate': None, 'use_dense': False}}, 'gamma': 0.95, 'generated_maxlen': 100000, 'learning_rate': 0.0001, 'n_critics': 1, 'n_frames': 1, 'n_steps': 1, 'optim_factory': {'optim_cls': 'Adam', 'betas': (0.9, 0.999), 'eps': 1e-08, 'weight_decay': 0, 'amsgrad': False}, 'q_func_factory': {'type': 'mean', 'params': {'share_encoder': False}}, 'real_ratio': 1.0, 'reward_scaler': None, 'scaler': {'type': 'min_max', 'params': {'maximum': array([6.00000000e+00, 3.00000000e+03, 9.97275204e-01, 2.00000000e+04,\n",
      "       1.00000000e+00, 1.60000000e+01, 9.99528424e+00]), 'minimum': array([0.        , 1.        , 0.        , 0.        , 0.        ,\n",
      "       0.        , 0.00491966])}}, 'target_update_interval': 100, 'use_gpu': None, 'algorithm': 'FQE', 'observation_shape': (7,), 'action_size': 1}\n"
     ]
    },
    {
     "data": {
      "application/vnd.jupyter.widget-view+json": {
       "model_id": "e2bb6de35f8547b6a064dad00a12f846",
       "version_major": 2,
       "version_minor": 0
      },
      "text/plain": [
       "Epoch 1/1:   0%|          | 0/7 [00:00<?, ?it/s]"
      ]
     },
     "metadata": {},
     "output_type": "display_data"
    },
    {
     "name": "stdout",
     "output_type": "stream",
     "text": [
      "2023-03-16 18:43.17 [info     ] FQE_20230316184317: epoch=1 step=7 epoch=1 metrics={'time_sample_batch': 0.00011771065848214286, 'time_algorithm_update': 0.0021513530186244418, 'loss': 13.07062476021903, 'time_step': 0.0023238658905029297} step=7\n",
      "2023-03-16 18:43.17 [info     ] Model parameters are saved to d3rlpy_logs/FQE_20230316184317/model_7.pt\n"
     ]
    },
    {
     "data": {
      "application/vnd.jupyter.widget-view+json": {
       "model_id": "4b4c02f276cd4abeaa40c13909d62d74",
       "version_major": 2,
       "version_minor": 0
      },
      "text/plain": [
       "[fit MWL model]:   0%|          | 0/1 [00:00<?, ?it/s]"
      ]
     },
     "metadata": {},
     "output_type": "display_data"
    },
    {
     "data": {
      "application/vnd.jupyter.widget-view+json": {
       "model_id": "987b0d3eb5b742cc8b79134ba012a248",
       "version_major": 2,
       "version_minor": 0
      },
      "text/plain": [
       "[fitting_weight_function]:   0%|          | 0/100 [00:00<?, ?it/s]"
      ]
     },
     "metadata": {},
     "output_type": "display_data"
    },
    {
     "data": {
      "application/vnd.jupyter.widget-view+json": {
       "model_id": "dadf8befb4c14025be2f86b2d2cfbeea",
       "version_major": 2,
       "version_minor": 0
      },
      "text/plain": [
       "[fitting_weight_function]:   0%|          | 0/100 [00:00<?, ?it/s]"
      ]
     },
     "metadata": {},
     "output_type": "display_data"
    },
    {
     "data": {
      "application/vnd.jupyter.widget-view+json": {
       "model_id": "b8dfd80f2c1e4e42bbd8e78039c4306f",
       "version_major": 2,
       "version_minor": 0
      },
      "text/plain": [
       "[collect input data: eval_policy]:   0%|          | 0/1 [00:00<?, ?it/s]"
      ]
     },
     "metadata": {},
     "output_type": "display_data"
    },
    {
     "data": {
      "application/vnd.jupyter.widget-view+json": {
       "model_id": "8540bd93e336479aa77f9d6b334d159a",
       "version_major": 2,
       "version_minor": 0
      },
      "text/plain": [
       "[calculate on-policy policy value]:   0%|          | 0/100 [00:00<?, ?it/s]"
      ]
     },
     "metadata": {},
     "output_type": "display_data"
    },
    {
     "data": {
      "application/vnd.jupyter.widget-view+json": {
       "model_id": "d90bae7e39ae48f18090af916a9c4ab2",
       "version_major": 2,
       "version_minor": 0
      },
      "text/plain": [
       "[obtain_trajectories]:   0%|          | 0/100 [00:00<?, ?it/s]"
      ]
     },
     "metadata": {},
     "output_type": "display_data"
    },
    {
     "data": {
      "application/vnd.jupyter.widget-view+json": {
       "model_id": "299136e5b4d74a51889c042476a9f848",
       "version_major": 2,
       "version_minor": 0
      },
      "text/plain": [
       "[obtain_trajectories]:   0%|          | 0/100 [00:00<?, ?it/s]"
      ]
     },
     "metadata": {},
     "output_type": "display_data"
    },
    {
     "data": {
      "application/vnd.jupyter.widget-view+json": {
       "model_id": "a55943b77d9343d8b426fd06b4dc7189",
       "version_major": 2,
       "version_minor": 0
      },
      "text/plain": [
       "[fit FQE model]:   0%|          | 0/1 [00:00<?, ?it/s]"
      ]
     },
     "metadata": {},
     "output_type": "display_data"
    },
    {
     "name": "stdout",
     "output_type": "stream",
     "text": [
      "2023-03-16 18:43.39 [debug    ] RoundIterator is selected.\n",
      "2023-03-16 18:43.39 [info     ] Directory is created at d3rlpy_logs/FQE_20230316184339\n",
      "2023-03-16 18:43.39 [debug    ] Fitting scaler...              scaler=min_max\n",
      "2023-03-16 18:43.39 [debug    ] Fitting action scaler...       action_scaler=min_max\n",
      "2023-03-16 18:43.39 [debug    ] Building models...\n",
      "2023-03-16 18:43.39 [debug    ] Models have been built.\n",
      "2023-03-16 18:43.39 [info     ] Parameters are saved to d3rlpy_logs/FQE_20230316184339/params.json params={'action_scaler': {'type': 'min_max', 'params': {'minimum': array([0.1]), 'maximum': array([10.])}}, 'batch_size': 100, 'encoder_factory': {'type': 'vector', 'params': {'hidden_units': [30, 30], 'activation': 'relu', 'use_batch_norm': False, 'dropout_rate': None, 'use_dense': False}}, 'gamma': 0.95, 'generated_maxlen': 100000, 'learning_rate': 0.0001, 'n_critics': 1, 'n_frames': 1, 'n_steps': 1, 'optim_factory': {'optim_cls': 'Adam', 'betas': (0.9, 0.999), 'eps': 1e-08, 'weight_decay': 0, 'amsgrad': False}, 'q_func_factory': {'type': 'mean', 'params': {'share_encoder': False}}, 'real_ratio': 1.0, 'reward_scaler': None, 'scaler': {'type': 'min_max', 'params': {'maximum': array([6.00000000e+00, 3.00000000e+03, 9.97647059e-01, 1.70000000e+04,\n",
      "       1.00000000e+00, 1.50000000e+01, 9.98468609e+00]), 'minimum': array([0.        , 1.        , 0.        , 0.        , 0.        ,\n",
      "       0.        , 0.00997981])}}, 'target_update_interval': 100, 'use_gpu': None, 'algorithm': 'FQE', 'observation_shape': (7,), 'action_size': 1}\n"
     ]
    },
    {
     "data": {
      "application/vnd.jupyter.widget-view+json": {
       "model_id": "17435c0e418f4cf5b2afe848032af00d",
       "version_major": 2,
       "version_minor": 0
      },
      "text/plain": [
       "Epoch 1/1:   0%|          | 0/7 [00:00<?, ?it/s]"
      ]
     },
     "metadata": {},
     "output_type": "display_data"
    },
    {
     "name": "stdout",
     "output_type": "stream",
     "text": [
      "2023-03-16 18:43.39 [info     ] FQE_20230316184339: epoch=1 step=7 epoch=1 metrics={'time_sample_batch': 8.855547223772322e-05, 'time_algorithm_update': 0.0014602456774030412, 'loss': 13.773944309779576, 'time_step': 0.001600095203944615} step=7\n",
      "2023-03-16 18:43.39 [info     ] Model parameters are saved to d3rlpy_logs/FQE_20230316184339/model_7.pt\n"
     ]
    },
    {
     "data": {
      "application/vnd.jupyter.widget-view+json": {
       "model_id": "19627499640e479c9d8ab4ff77c7c012",
       "version_major": 2,
       "version_minor": 0
      },
      "text/plain": [
       "[fit MWL model]:   0%|          | 0/1 [00:00<?, ?it/s]"
      ]
     },
     "metadata": {},
     "output_type": "display_data"
    },
    {
     "data": {
      "application/vnd.jupyter.widget-view+json": {
       "model_id": "3f44f6c9022545c589cf3cfbed43b72a",
       "version_major": 2,
       "version_minor": 0
      },
      "text/plain": [
       "[fitting_weight_function]:   0%|          | 0/100 [00:00<?, ?it/s]"
      ]
     },
     "metadata": {},
     "output_type": "display_data"
    },
    {
     "data": {
      "application/vnd.jupyter.widget-view+json": {
       "model_id": "c1b1d5ff17a54e5489d15b41a93740c1",
       "version_major": 2,
       "version_minor": 0
      },
      "text/plain": [
       "[fitting_weight_function]:   0%|          | 0/100 [00:00<?, ?it/s]"
      ]
     },
     "metadata": {},
     "output_type": "display_data"
    },
    {
     "data": {
      "application/vnd.jupyter.widget-view+json": {
       "model_id": "d2331fc754964fa5b6a56de7f058ce8c",
       "version_major": 2,
       "version_minor": 0
      },
      "text/plain": [
       "[collect input data: eval_policy]:   0%|          | 0/1 [00:00<?, ?it/s]"
      ]
     },
     "metadata": {},
     "output_type": "display_data"
    },
    {
     "data": {
      "application/vnd.jupyter.widget-view+json": {
       "model_id": "b41057501e88465f83a5c7f6b54ae72a",
       "version_major": 2,
       "version_minor": 0
      },
      "text/plain": [
       "[calculate on-policy policy value]:   0%|          | 0/100 [00:00<?, ?it/s]"
      ]
     },
     "metadata": {},
     "output_type": "display_data"
    },
    {
     "data": {
      "application/vnd.jupyter.widget-view+json": {
       "model_id": "20785465293c456c993553cbe15a4ea4",
       "version_major": 2,
       "version_minor": 0
      },
      "text/plain": [
       "[obtain_trajectories]:   0%|          | 0/200 [00:00<?, ?it/s]"
      ]
     },
     "metadata": {},
     "output_type": "display_data"
    },
    {
     "data": {
      "application/vnd.jupyter.widget-view+json": {
       "model_id": "f0459cc7a214452cbb5568e7fc07645c",
       "version_major": 2,
       "version_minor": 0
      },
      "text/plain": [
       "[obtain_trajectories]:   0%|          | 0/200 [00:00<?, ?it/s]"
      ]
     },
     "metadata": {},
     "output_type": "display_data"
    },
    {
     "data": {
      "application/vnd.jupyter.widget-view+json": {
       "model_id": "e42e92a67efd4617ac7bfbb4294862c7",
       "version_major": 2,
       "version_minor": 0
      },
      "text/plain": [
       "[fit FQE model]:   0%|          | 0/1 [00:00<?, ?it/s]"
      ]
     },
     "metadata": {},
     "output_type": "display_data"
    },
    {
     "name": "stdout",
     "output_type": "stream",
     "text": [
      "2023-03-16 18:44.00 [debug    ] RoundIterator is selected.\n",
      "2023-03-16 18:44.00 [info     ] Directory is created at d3rlpy_logs/FQE_20230316184400\n",
      "2023-03-16 18:44.00 [debug    ] Fitting scaler...              scaler=min_max\n",
      "2023-03-16 18:44.00 [debug    ] Fitting action scaler...       action_scaler=min_max\n",
      "2023-03-16 18:44.00 [debug    ] Building models...\n",
      "2023-03-16 18:44.00 [debug    ] Models have been built.\n",
      "2023-03-16 18:44.00 [info     ] Parameters are saved to d3rlpy_logs/FQE_20230316184400/params.json params={'action_scaler': {'type': 'min_max', 'params': {'minimum': array([0.1]), 'maximum': array([10.])}}, 'batch_size': 100, 'encoder_factory': {'type': 'vector', 'params': {'hidden_units': [30, 30], 'activation': 'relu', 'use_batch_norm': False, 'dropout_rate': None, 'use_dense': False}}, 'gamma': 0.95, 'generated_maxlen': 100000, 'learning_rate': 0.0001, 'n_critics': 1, 'n_frames': 1, 'n_steps': 1, 'optim_factory': {'optim_cls': 'Adam', 'betas': (0.9, 0.999), 'eps': 1e-08, 'weight_decay': 0, 'amsgrad': False}, 'q_func_factory': {'type': 'mean', 'params': {'share_encoder': False}}, 'real_ratio': 1.0, 'reward_scaler': None, 'scaler': {'type': 'min_max', 'params': {'maximum': array([6.00000000e+00, 3.00000000e+03, 9.99036609e-01, 5.20000000e+04,\n",
      "       1.00000000e+00, 2.00000000e+01, 9.99943422e+00]), 'minimum': array([0.        , 1.        , 0.        , 0.        , 0.        ,\n",
      "       0.        , 0.01057552])}}, 'target_update_interval': 100, 'use_gpu': None, 'algorithm': 'FQE', 'observation_shape': (7,), 'action_size': 1}\n"
     ]
    },
    {
     "data": {
      "application/vnd.jupyter.widget-view+json": {
       "model_id": "c48ddf6fae734654afb1c2aceada1a47",
       "version_major": 2,
       "version_minor": 0
      },
      "text/plain": [
       "Epoch 1/1:   0%|          | 0/14 [00:00<?, ?it/s]"
      ]
     },
     "metadata": {},
     "output_type": "display_data"
    },
    {
     "name": "stdout",
     "output_type": "stream",
     "text": [
      "2023-03-16 18:44.00 [info     ] FQE_20230316184400: epoch=1 step=14 epoch=1 metrics={'time_sample_batch': 7.826941353934152e-05, 'time_algorithm_update': 0.0015471151896885463, 'loss': 14.047036443437849, 'time_step': 0.0016831329890659877} step=14\n",
      "2023-03-16 18:44.00 [info     ] Model parameters are saved to d3rlpy_logs/FQE_20230316184400/model_14.pt\n"
     ]
    },
    {
     "data": {
      "application/vnd.jupyter.widget-view+json": {
       "model_id": "d4dd466aa1354344a0a3ea5c86b865a1",
       "version_major": 2,
       "version_minor": 0
      },
      "text/plain": [
       "[fit MWL model]:   0%|          | 0/1 [00:00<?, ?it/s]"
      ]
     },
     "metadata": {},
     "output_type": "display_data"
    },
    {
     "data": {
      "application/vnd.jupyter.widget-view+json": {
       "model_id": "76b1cef6c7ce497d9e663691cac88451",
       "version_major": 2,
       "version_minor": 0
      },
      "text/plain": [
       "[fitting_weight_function]:   0%|          | 0/100 [00:00<?, ?it/s]"
      ]
     },
     "metadata": {},
     "output_type": "display_data"
    },
    {
     "data": {
      "application/vnd.jupyter.widget-view+json": {
       "model_id": "ae930eb324cd474b99695ca608535a05",
       "version_major": 2,
       "version_minor": 0
      },
      "text/plain": [
       "[fitting_weight_function]:   0%|          | 0/100 [00:00<?, ?it/s]"
      ]
     },
     "metadata": {},
     "output_type": "display_data"
    },
    {
     "data": {
      "application/vnd.jupyter.widget-view+json": {
       "model_id": "582d2c9f38dc4bcab78deda4f65efb9c",
       "version_major": 2,
       "version_minor": 0
      },
      "text/plain": [
       "[collect input data: eval_policy]:   0%|          | 0/1 [00:00<?, ?it/s]"
      ]
     },
     "metadata": {},
     "output_type": "display_data"
    },
    {
     "data": {
      "application/vnd.jupyter.widget-view+json": {
       "model_id": "8d83fbec59444906a66184f2a9820d0b",
       "version_major": 2,
       "version_minor": 0
      },
      "text/plain": [
       "[calculate on-policy policy value]:   0%|          | 0/100 [00:00<?, ?it/s]"
      ]
     },
     "metadata": {},
     "output_type": "display_data"
    },
    {
     "data": {
      "application/vnd.jupyter.widget-view+json": {
       "model_id": "9748d4bbb83f4edb8fbfed9386484b2f",
       "version_major": 2,
       "version_minor": 0
      },
      "text/plain": [
       "[obtain_trajectories]:   0%|          | 0/200 [00:00<?, ?it/s]"
      ]
     },
     "metadata": {},
     "output_type": "display_data"
    },
    {
     "data": {
      "application/vnd.jupyter.widget-view+json": {
       "model_id": "b15ca53a9d044980b10c79b97a839487",
       "version_major": 2,
       "version_minor": 0
      },
      "text/plain": [
       "[obtain_trajectories]:   0%|          | 0/200 [00:00<?, ?it/s]"
      ]
     },
     "metadata": {},
     "output_type": "display_data"
    },
    {
     "data": {
      "application/vnd.jupyter.widget-view+json": {
       "model_id": "b8de47442acd4bebaebbd52c74710a33",
       "version_major": 2,
       "version_minor": 0
      },
      "text/plain": [
       "[fit FQE model]:   0%|          | 0/1 [00:00<?, ?it/s]"
      ]
     },
     "metadata": {},
     "output_type": "display_data"
    },
    {
     "name": "stdout",
     "output_type": "stream",
     "text": [
      "2023-03-16 18:44.22 [debug    ] RoundIterator is selected.\n",
      "2023-03-16 18:44.22 [info     ] Directory is created at d3rlpy_logs/FQE_20230316184422\n",
      "2023-03-16 18:44.22 [debug    ] Fitting scaler...              scaler=min_max\n",
      "2023-03-16 18:44.22 [debug    ] Fitting action scaler...       action_scaler=min_max\n",
      "2023-03-16 18:44.22 [debug    ] Building models...\n",
      "2023-03-16 18:44.22 [debug    ] Models have been built.\n",
      "2023-03-16 18:44.22 [info     ] Parameters are saved to d3rlpy_logs/FQE_20230316184422/params.json params={'action_scaler': {'type': 'min_max', 'params': {'minimum': array([0.1]), 'maximum': array([10.])}}, 'batch_size': 100, 'encoder_factory': {'type': 'vector', 'params': {'hidden_units': [30, 30], 'activation': 'relu', 'use_batch_norm': False, 'dropout_rate': None, 'use_dense': False}}, 'gamma': 0.95, 'generated_maxlen': 100000, 'learning_rate': 0.0001, 'n_critics': 1, 'n_frames': 1, 'n_steps': 1, 'optim_factory': {'optim_cls': 'Adam', 'betas': (0.9, 0.999), 'eps': 1e-08, 'weight_decay': 0, 'amsgrad': False}, 'q_func_factory': {'type': 'mean', 'params': {'share_encoder': False}}, 'real_ratio': 1.0, 'reward_scaler': None, 'scaler': {'type': 'min_max', 'params': {'maximum': array([6.00000000e+00, 3.00000000e+03, 9.99844840e-01, 2.40000000e+04,\n",
      "       1.00000000e+00, 1.60000000e+01, 9.99958266e+00]), 'minimum': array([0.        , 1.        , 0.        , 0.        , 0.        ,\n",
      "       0.        , 0.00325575])}}, 'target_update_interval': 100, 'use_gpu': None, 'algorithm': 'FQE', 'observation_shape': (7,), 'action_size': 1}\n"
     ]
    },
    {
     "data": {
      "application/vnd.jupyter.widget-view+json": {
       "model_id": "2829b7739d154e049b40a3b275c490c4",
       "version_major": 2,
       "version_minor": 0
      },
      "text/plain": [
       "Epoch 1/1:   0%|          | 0/14 [00:00<?, ?it/s]"
      ]
     },
     "metadata": {},
     "output_type": "display_data"
    },
    {
     "name": "stdout",
     "output_type": "stream",
     "text": [
      "2023-03-16 18:44.22 [info     ] FQE_20230316184422: epoch=1 step=14 epoch=1 metrics={'time_sample_batch': 0.00011188643319266183, 'time_algorithm_update': 0.0014109270913260324, 'loss': 13.301973581314087, 'time_step': 0.001581566674368722} step=14\n",
      "2023-03-16 18:44.22 [info     ] Model parameters are saved to d3rlpy_logs/FQE_20230316184422/model_14.pt\n"
     ]
    },
    {
     "data": {
      "application/vnd.jupyter.widget-view+json": {
       "model_id": "7818159014b34499ae46b73f25f391fc",
       "version_major": 2,
       "version_minor": 0
      },
      "text/plain": [
       "[fit MWL model]:   0%|          | 0/1 [00:00<?, ?it/s]"
      ]
     },
     "metadata": {},
     "output_type": "display_data"
    },
    {
     "data": {
      "application/vnd.jupyter.widget-view+json": {
       "model_id": "4f628dcf3e5c4b8a9f222cb7fc92e5fb",
       "version_major": 2,
       "version_minor": 0
      },
      "text/plain": [
       "[fitting_weight_function]:   0%|          | 0/100 [00:00<?, ?it/s]"
      ]
     },
     "metadata": {},
     "output_type": "display_data"
    },
    {
     "data": {
      "application/vnd.jupyter.widget-view+json": {
       "model_id": "f6166bade59c44bf8f78021ba0ea4415",
       "version_major": 2,
       "version_minor": 0
      },
      "text/plain": [
       "[fitting_weight_function]:   0%|          | 0/100 [00:00<?, ?it/s]"
      ]
     },
     "metadata": {},
     "output_type": "display_data"
    },
    {
     "data": {
      "application/vnd.jupyter.widget-view+json": {
       "model_id": "bb2cc702cc634950829ff6987dc8347d",
       "version_major": 2,
       "version_minor": 0
      },
      "text/plain": [
       "[collect input data: eval_policy]:   0%|          | 0/1 [00:00<?, ?it/s]"
      ]
     },
     "metadata": {},
     "output_type": "display_data"
    },
    {
     "data": {
      "application/vnd.jupyter.widget-view+json": {
       "model_id": "9ec34ced0b574189aedc6fb9314663eb",
       "version_major": 2,
       "version_minor": 0
      },
      "text/plain": [
       "[calculate on-policy policy value]:   0%|          | 0/100 [00:00<?, ?it/s]"
      ]
     },
     "metadata": {},
     "output_type": "display_data"
    },
    {
     "data": {
      "application/vnd.jupyter.widget-view+json": {
       "model_id": "187ffb7c9ed24977984efdd8ce611cb9",
       "version_major": 2,
       "version_minor": 0
      },
      "text/plain": [
       "[obtain_trajectories]:   0%|          | 0/200 [00:00<?, ?it/s]"
      ]
     },
     "metadata": {},
     "output_type": "display_data"
    },
    {
     "data": {
      "application/vnd.jupyter.widget-view+json": {
       "model_id": "fd370c2259ce4f01bbe09768178cb61a",
       "version_major": 2,
       "version_minor": 0
      },
      "text/plain": [
       "[obtain_trajectories]:   0%|          | 0/200 [00:00<?, ?it/s]"
      ]
     },
     "metadata": {},
     "output_type": "display_data"
    },
    {
     "data": {
      "application/vnd.jupyter.widget-view+json": {
       "model_id": "8286fe3bb39e41cb9276a5d21fb0fa7d",
       "version_major": 2,
       "version_minor": 0
      },
      "text/plain": [
       "[fit FQE model]:   0%|          | 0/1 [00:00<?, ?it/s]"
      ]
     },
     "metadata": {},
     "output_type": "display_data"
    },
    {
     "name": "stdout",
     "output_type": "stream",
     "text": [
      "2023-03-16 18:44.44 [debug    ] RoundIterator is selected.\n",
      "2023-03-16 18:44.44 [info     ] Directory is created at d3rlpy_logs/FQE_20230316184444\n",
      "2023-03-16 18:44.44 [debug    ] Fitting scaler...              scaler=min_max\n",
      "2023-03-16 18:44.44 [debug    ] Fitting action scaler...       action_scaler=min_max\n",
      "2023-03-16 18:44.44 [debug    ] Building models...\n",
      "2023-03-16 18:44.44 [debug    ] Models have been built.\n",
      "2023-03-16 18:44.44 [info     ] Parameters are saved to d3rlpy_logs/FQE_20230316184444/params.json params={'action_scaler': {'type': 'min_max', 'params': {'minimum': array([0.1]), 'maximum': array([10.])}}, 'batch_size': 100, 'encoder_factory': {'type': 'vector', 'params': {'hidden_units': [30, 30], 'activation': 'relu', 'use_batch_norm': False, 'dropout_rate': None, 'use_dense': False}}, 'gamma': 0.95, 'generated_maxlen': 100000, 'learning_rate': 0.0001, 'n_critics': 1, 'n_frames': 1, 'n_steps': 1, 'optim_factory': {'optim_cls': 'Adam', 'betas': (0.9, 0.999), 'eps': 1e-08, 'weight_decay': 0, 'amsgrad': False}, 'q_func_factory': {'type': 'mean', 'params': {'share_encoder': False}}, 'real_ratio': 1.0, 'reward_scaler': None, 'scaler': {'type': 'min_max', 'params': {'maximum': array([6.00000000e+00, 3.00000000e+03, 9.99219360e-01, 4.10000000e+04,\n",
      "       1.00000000e+00, 1.70000000e+01, 9.99757297e+00]), 'minimum': array([0.        , 1.        , 0.        , 0.        , 0.        ,\n",
      "       0.        , 0.00702238])}}, 'target_update_interval': 100, 'use_gpu': None, 'algorithm': 'FQE', 'observation_shape': (7,), 'action_size': 1}\n"
     ]
    },
    {
     "data": {
      "application/vnd.jupyter.widget-view+json": {
       "model_id": "fdd330da59ef4b43a30d09e13d5f1f37",
       "version_major": 2,
       "version_minor": 0
      },
      "text/plain": [
       "Epoch 1/1:   0%|          | 0/14 [00:00<?, ?it/s]"
      ]
     },
     "metadata": {},
     "output_type": "display_data"
    },
    {
     "name": "stdout",
     "output_type": "stream",
     "text": [
      "2023-03-16 18:44.44 [info     ] FQE_20230316184444: epoch=1 step=14 epoch=1 metrics={'time_sample_batch': 0.00016198839460100447, 'time_algorithm_update': 0.0021853617259434293, 'loss': 14.948265007564, 'time_step': 0.0024490697043282644} step=14\n",
      "2023-03-16 18:44.44 [info     ] Model parameters are saved to d3rlpy_logs/FQE_20230316184444/model_14.pt\n"
     ]
    },
    {
     "data": {
      "application/vnd.jupyter.widget-view+json": {
       "model_id": "32db9c7f29f944ee91bc5760b55f8181",
       "version_major": 2,
       "version_minor": 0
      },
      "text/plain": [
       "[fit MWL model]:   0%|          | 0/1 [00:00<?, ?it/s]"
      ]
     },
     "metadata": {},
     "output_type": "display_data"
    },
    {
     "data": {
      "application/vnd.jupyter.widget-view+json": {
       "model_id": "490fe9848cc14868a0599800f3d6fb83",
       "version_major": 2,
       "version_minor": 0
      },
      "text/plain": [
       "[fitting_weight_function]:   0%|          | 0/100 [00:00<?, ?it/s]"
      ]
     },
     "metadata": {},
     "output_type": "display_data"
    },
    {
     "data": {
      "application/vnd.jupyter.widget-view+json": {
       "model_id": "461590e045ef4528aa115f9abb3fe37a",
       "version_major": 2,
       "version_minor": 0
      },
      "text/plain": [
       "[fitting_weight_function]:   0%|          | 0/100 [00:00<?, ?it/s]"
      ]
     },
     "metadata": {},
     "output_type": "display_data"
    },
    {
     "data": {
      "application/vnd.jupyter.widget-view+json": {
       "model_id": "dc753392f06741a092cf8038b4024800",
       "version_major": 2,
       "version_minor": 0
      },
      "text/plain": [
       "[collect input data: eval_policy]:   0%|          | 0/1 [00:00<?, ?it/s]"
      ]
     },
     "metadata": {},
     "output_type": "display_data"
    },
    {
     "data": {
      "application/vnd.jupyter.widget-view+json": {
       "model_id": "7de40cc1bf154ca099a4933b6316733c",
       "version_major": 2,
       "version_minor": 0
      },
      "text/plain": [
       "[calculate on-policy policy value]:   0%|          | 0/100 [00:00<?, ?it/s]"
      ]
     },
     "metadata": {},
     "output_type": "display_data"
    },
    {
     "data": {
      "application/vnd.jupyter.widget-view+json": {
       "model_id": "598cd1fb9c77463da240df8d8ce8a55d",
       "version_major": 2,
       "version_minor": 0
      },
      "text/plain": [
       "[obtain_trajectories]:   0%|          | 0/200 [00:00<?, ?it/s]"
      ]
     },
     "metadata": {},
     "output_type": "display_data"
    },
    {
     "data": {
      "application/vnd.jupyter.widget-view+json": {
       "model_id": "23b14c8cac904689b5a347d7fcb32e7a",
       "version_major": 2,
       "version_minor": 0
      },
      "text/plain": [
       "[obtain_trajectories]:   0%|          | 0/200 [00:00<?, ?it/s]"
      ]
     },
     "metadata": {},
     "output_type": "display_data"
    },
    {
     "data": {
      "application/vnd.jupyter.widget-view+json": {
       "model_id": "7d4c83f8e44c4780b0cd2fca93028f63",
       "version_major": 2,
       "version_minor": 0
      },
      "text/plain": [
       "[fit FQE model]:   0%|          | 0/1 [00:00<?, ?it/s]"
      ]
     },
     "metadata": {},
     "output_type": "display_data"
    },
    {
     "name": "stdout",
     "output_type": "stream",
     "text": [
      "2023-03-16 18:45.07 [debug    ] RoundIterator is selected.\n",
      "2023-03-16 18:45.07 [info     ] Directory is created at d3rlpy_logs/FQE_20230316184507\n",
      "2023-03-16 18:45.07 [debug    ] Fitting scaler...              scaler=min_max\n",
      "2023-03-16 18:45.07 [debug    ] Fitting action scaler...       action_scaler=min_max\n",
      "2023-03-16 18:45.07 [debug    ] Building models...\n",
      "2023-03-16 18:45.07 [debug    ] Models have been built.\n",
      "2023-03-16 18:45.07 [info     ] Parameters are saved to d3rlpy_logs/FQE_20230316184507/params.json params={'action_scaler': {'type': 'min_max', 'params': {'minimum': array([0.1]), 'maximum': array([10.])}}, 'batch_size': 100, 'encoder_factory': {'type': 'vector', 'params': {'hidden_units': [30, 30], 'activation': 'relu', 'use_batch_norm': False, 'dropout_rate': None, 'use_dense': False}}, 'gamma': 0.95, 'generated_maxlen': 100000, 'learning_rate': 0.0001, 'n_critics': 1, 'n_frames': 1, 'n_steps': 1, 'optim_factory': {'optim_cls': 'Adam', 'betas': (0.9, 0.999), 'eps': 1e-08, 'weight_decay': 0, 'amsgrad': False}, 'q_func_factory': {'type': 'mean', 'params': {'share_encoder': False}}, 'real_ratio': 1.0, 'reward_scaler': None, 'scaler': {'type': 'min_max', 'params': {'maximum': array([6.00000000e+00, 3.00000000e+03, 9.99237805e-01, 5.07500000e+04,\n",
      "       1.00000000e+00, 1.60000000e+01, 9.99685300e+00]), 'minimum': array([0.        , 1.        , 0.        , 0.        , 0.        ,\n",
      "       0.        , 0.00348433])}}, 'target_update_interval': 100, 'use_gpu': None, 'algorithm': 'FQE', 'observation_shape': (7,), 'action_size': 1}\n"
     ]
    },
    {
     "data": {
      "application/vnd.jupyter.widget-view+json": {
       "model_id": "bfcb5db9b5c94f46a38794eced43f700",
       "version_major": 2,
       "version_minor": 0
      },
      "text/plain": [
       "Epoch 1/1:   0%|          | 0/14 [00:00<?, ?it/s]"
      ]
     },
     "metadata": {},
     "output_type": "display_data"
    },
    {
     "name": "stdout",
     "output_type": "stream",
     "text": [
      "2023-03-16 18:45.07 [info     ] FQE_20230316184507: epoch=1 step=14 epoch=1 metrics={'time_sample_batch': 8.000646318708147e-05, 'time_algorithm_update': 0.0011047976357596262, 'loss': 13.137981380735125, 'time_step': 0.0012166500091552734} step=14\n",
      "2023-03-16 18:45.07 [info     ] Model parameters are saved to d3rlpy_logs/FQE_20230316184507/model_14.pt\n"
     ]
    },
    {
     "data": {
      "application/vnd.jupyter.widget-view+json": {
       "model_id": "2e2056be7a9342ae9a063809d20f492a",
       "version_major": 2,
       "version_minor": 0
      },
      "text/plain": [
       "[fit MWL model]:   0%|          | 0/1 [00:00<?, ?it/s]"
      ]
     },
     "metadata": {},
     "output_type": "display_data"
    },
    {
     "data": {
      "application/vnd.jupyter.widget-view+json": {
       "model_id": "f65f87c3cd6f4796be8ed956aeb1c49f",
       "version_major": 2,
       "version_minor": 0
      },
      "text/plain": [
       "[fitting_weight_function]:   0%|          | 0/100 [00:00<?, ?it/s]"
      ]
     },
     "metadata": {},
     "output_type": "display_data"
    },
    {
     "data": {
      "application/vnd.jupyter.widget-view+json": {
       "model_id": "2cebbd61173f4d908b109a912e70dec6",
       "version_major": 2,
       "version_minor": 0
      },
      "text/plain": [
       "[fitting_weight_function]:   0%|          | 0/100 [00:00<?, ?it/s]"
      ]
     },
     "metadata": {},
     "output_type": "display_data"
    },
    {
     "data": {
      "application/vnd.jupyter.widget-view+json": {
       "model_id": "e48893d04b0e442abf93b7760a88faf6",
       "version_major": 2,
       "version_minor": 0
      },
      "text/plain": [
       "[collect input data: eval_policy]:   0%|          | 0/1 [00:00<?, ?it/s]"
      ]
     },
     "metadata": {},
     "output_type": "display_data"
    },
    {
     "data": {
      "application/vnd.jupyter.widget-view+json": {
       "model_id": "924007ab8ed249ebb564210e4c234644",
       "version_major": 2,
       "version_minor": 0
      },
      "text/plain": [
       "[calculate on-policy policy value]:   0%|          | 0/100 [00:00<?, ?it/s]"
      ]
     },
     "metadata": {},
     "output_type": "display_data"
    },
    {
     "data": {
      "application/vnd.jupyter.widget-view+json": {
       "model_id": "e830268370924096b55b585c599e91cf",
       "version_major": 2,
       "version_minor": 0
      },
      "text/plain": [
       "[obtain_trajectories]:   0%|          | 0/200 [00:00<?, ?it/s]"
      ]
     },
     "metadata": {},
     "output_type": "display_data"
    },
    {
     "data": {
      "application/vnd.jupyter.widget-view+json": {
       "model_id": "44c0b462daa844b29080346ea6ceec32",
       "version_major": 2,
       "version_minor": 0
      },
      "text/plain": [
       "[obtain_trajectories]:   0%|          | 0/200 [00:00<?, ?it/s]"
      ]
     },
     "metadata": {},
     "output_type": "display_data"
    },
    {
     "data": {
      "application/vnd.jupyter.widget-view+json": {
       "model_id": "ed2f9dc029c04b1c81963680c2b2f86d",
       "version_major": 2,
       "version_minor": 0
      },
      "text/plain": [
       "[fit FQE model]:   0%|          | 0/1 [00:00<?, ?it/s]"
      ]
     },
     "metadata": {},
     "output_type": "display_data"
    },
    {
     "name": "stdout",
     "output_type": "stream",
     "text": [
      "2023-03-16 18:45.30 [debug    ] RoundIterator is selected.\n",
      "2023-03-16 18:45.30 [info     ] Directory is created at d3rlpy_logs/FQE_20230316184530\n",
      "2023-03-16 18:45.30 [debug    ] Fitting scaler...              scaler=min_max\n",
      "2023-03-16 18:45.30 [debug    ] Fitting action scaler...       action_scaler=min_max\n",
      "2023-03-16 18:45.30 [debug    ] Building models...\n",
      "2023-03-16 18:45.30 [debug    ] Models have been built.\n",
      "2023-03-16 18:45.30 [info     ] Parameters are saved to d3rlpy_logs/FQE_20230316184530/params.json params={'action_scaler': {'type': 'min_max', 'params': {'minimum': array([0.1]), 'maximum': array([10.])}}, 'batch_size': 100, 'encoder_factory': {'type': 'vector', 'params': {'hidden_units': [30, 30], 'activation': 'relu', 'use_batch_norm': False, 'dropout_rate': None, 'use_dense': False}}, 'gamma': 0.95, 'generated_maxlen': 100000, 'learning_rate': 0.0001, 'n_critics': 1, 'n_frames': 1, 'n_steps': 1, 'optim_factory': {'optim_cls': 'Adam', 'betas': (0.9, 0.999), 'eps': 1e-08, 'weight_decay': 0, 'amsgrad': False}, 'q_func_factory': {'type': 'mean', 'params': {'share_encoder': False}}, 'real_ratio': 1.0, 'reward_scaler': None, 'scaler': {'type': 'min_max', 'params': {'maximum': array([6.00000000e+00, 3.00000000e+03, 9.98964803e-01, 2.60000000e+04,\n",
      "       1.00000000e+00, 1.80000000e+01, 9.99782662e+00]), 'minimum': array([0.        , 1.        , 0.        , 0.        , 0.        ,\n",
      "       0.        , 0.00283512])}}, 'target_update_interval': 100, 'use_gpu': None, 'algorithm': 'FQE', 'observation_shape': (7,), 'action_size': 1}\n"
     ]
    },
    {
     "data": {
      "application/vnd.jupyter.widget-view+json": {
       "model_id": "fca2b0c2390d4a9abe98d9ef1fb919bd",
       "version_major": 2,
       "version_minor": 0
      },
      "text/plain": [
       "Epoch 1/1:   0%|          | 0/14 [00:00<?, ?it/s]"
      ]
     },
     "metadata": {},
     "output_type": "display_data"
    },
    {
     "name": "stdout",
     "output_type": "stream",
     "text": [
      "2023-03-16 18:45.30 [info     ] FQE_20230316184530: epoch=1 step=14 epoch=1 metrics={'time_sample_batch': 7.724761962890625e-05, 'time_algorithm_update': 0.001519049916948591, 'loss': 14.851514884403773, 'time_step': 0.0016632590975080217} step=14\n",
      "2023-03-16 18:45.30 [info     ] Model parameters are saved to d3rlpy_logs/FQE_20230316184530/model_14.pt\n"
     ]
    },
    {
     "data": {
      "application/vnd.jupyter.widget-view+json": {
       "model_id": "2a79368f36a34088b5cf9cca233793fc",
       "version_major": 2,
       "version_minor": 0
      },
      "text/plain": [
       "[fit MWL model]:   0%|          | 0/1 [00:00<?, ?it/s]"
      ]
     },
     "metadata": {},
     "output_type": "display_data"
    },
    {
     "data": {
      "application/vnd.jupyter.widget-view+json": {
       "model_id": "3a2068b4e5a24249807f41b45d709eb3",
       "version_major": 2,
       "version_minor": 0
      },
      "text/plain": [
       "[fitting_weight_function]:   0%|          | 0/100 [00:00<?, ?it/s]"
      ]
     },
     "metadata": {},
     "output_type": "display_data"
    },
    {
     "data": {
      "application/vnd.jupyter.widget-view+json": {
       "model_id": "e2fca41386f641f7817d009fbda4ef0f",
       "version_major": 2,
       "version_minor": 0
      },
      "text/plain": [
       "[fitting_weight_function]:   0%|          | 0/100 [00:00<?, ?it/s]"
      ]
     },
     "metadata": {},
     "output_type": "display_data"
    },
    {
     "data": {
      "application/vnd.jupyter.widget-view+json": {
       "model_id": "b7c24d353a8f4afa9966138592872046",
       "version_major": 2,
       "version_minor": 0
      },
      "text/plain": [
       "[collect input data: eval_policy]:   0%|          | 0/1 [00:00<?, ?it/s]"
      ]
     },
     "metadata": {},
     "output_type": "display_data"
    },
    {
     "data": {
      "application/vnd.jupyter.widget-view+json": {
       "model_id": "1a472c099e7a4578b65ecc573d5fe502",
       "version_major": 2,
       "version_minor": 0
      },
      "text/plain": [
       "[calculate on-policy policy value]:   0%|          | 0/100 [00:00<?, ?it/s]"
      ]
     },
     "metadata": {},
     "output_type": "display_data"
    },
    {
     "data": {
      "application/vnd.jupyter.widget-view+json": {
       "model_id": "2c87b3fa49df4ed9a3a4fb086f734d51",
       "version_major": 2,
       "version_minor": 0
      },
      "text/plain": [
       "[obtain_trajectories]:   0%|          | 0/200 [00:00<?, ?it/s]"
      ]
     },
     "metadata": {},
     "output_type": "display_data"
    },
    {
     "data": {
      "application/vnd.jupyter.widget-view+json": {
       "model_id": "a110ac8cc83d4d8abb795bb08aefc24d",
       "version_major": 2,
       "version_minor": 0
      },
      "text/plain": [
       "[obtain_trajectories]:   0%|          | 0/200 [00:00<?, ?it/s]"
      ]
     },
     "metadata": {},
     "output_type": "display_data"
    },
    {
     "data": {
      "application/vnd.jupyter.widget-view+json": {
       "model_id": "fcc984c5c7924306afa2e69c52f11156",
       "version_major": 2,
       "version_minor": 0
      },
      "text/plain": [
       "[fit FQE model]:   0%|          | 0/1 [00:00<?, ?it/s]"
      ]
     },
     "metadata": {},
     "output_type": "display_data"
    },
    {
     "name": "stdout",
     "output_type": "stream",
     "text": [
      "2023-03-16 18:45.52 [debug    ] RoundIterator is selected.\n",
      "2023-03-16 18:45.52 [info     ] Directory is created at d3rlpy_logs/FQE_20230316184552\n",
      "2023-03-16 18:45.52 [debug    ] Fitting scaler...              scaler=min_max\n",
      "2023-03-16 18:45.52 [debug    ] Fitting action scaler...       action_scaler=min_max\n",
      "2023-03-16 18:45.52 [debug    ] Building models...\n",
      "2023-03-16 18:45.52 [debug    ] Models have been built.\n",
      "2023-03-16 18:45.52 [info     ] Parameters are saved to d3rlpy_logs/FQE_20230316184552/params.json params={'action_scaler': {'type': 'min_max', 'params': {'minimum': array([0.1]), 'maximum': array([10.])}}, 'batch_size': 100, 'encoder_factory': {'type': 'vector', 'params': {'hidden_units': [30, 30], 'activation': 'relu', 'use_batch_norm': False, 'dropout_rate': None, 'use_dense': False}}, 'gamma': 0.95, 'generated_maxlen': 100000, 'learning_rate': 0.0001, 'n_critics': 1, 'n_frames': 1, 'n_steps': 1, 'optim_factory': {'optim_cls': 'Adam', 'betas': (0.9, 0.999), 'eps': 1e-08, 'weight_decay': 0, 'amsgrad': False}, 'q_func_factory': {'type': 'mean', 'params': {'share_encoder': False}}, 'real_ratio': 1.0, 'reward_scaler': None, 'scaler': {'type': 'min_max', 'params': {'maximum': array([6.00000000e+00, 3.00000000e+03, 9.98275862e-01, 1.70000000e+04,\n",
      "       1.00000000e+00, 2.00000000e+01, 9.99462387e+00]), 'minimum': array([0.        , 1.        , 0.        , 0.        , 0.        ,\n",
      "       0.        , 0.00180071])}}, 'target_update_interval': 100, 'use_gpu': None, 'algorithm': 'FQE', 'observation_shape': (7,), 'action_size': 1}\n"
     ]
    },
    {
     "data": {
      "application/vnd.jupyter.widget-view+json": {
       "model_id": "6e2d73288374449a93c35bc8c818b4c6",
       "version_major": 2,
       "version_minor": 0
      },
      "text/plain": [
       "Epoch 1/1:   0%|          | 0/14 [00:00<?, ?it/s]"
      ]
     },
     "metadata": {},
     "output_type": "display_data"
    },
    {
     "name": "stdout",
     "output_type": "stream",
     "text": [
      "2023-03-16 18:45.52 [info     ] FQE_20230316184552: epoch=1 step=14 epoch=1 metrics={'time_sample_batch': 9.620189666748047e-05, 'time_algorithm_update': 0.001726576260157994, 'loss': 13.174466746194023, 'time_step': 0.0019002982548304967} step=14\n",
      "2023-03-16 18:45.52 [info     ] Model parameters are saved to d3rlpy_logs/FQE_20230316184552/model_14.pt\n"
     ]
    },
    {
     "data": {
      "application/vnd.jupyter.widget-view+json": {
       "model_id": "bf678d8990e64c15842d97e9264e9f9a",
       "version_major": 2,
       "version_minor": 0
      },
      "text/plain": [
       "[fit MWL model]:   0%|          | 0/1 [00:00<?, ?it/s]"
      ]
     },
     "metadata": {},
     "output_type": "display_data"
    },
    {
     "data": {
      "application/vnd.jupyter.widget-view+json": {
       "model_id": "02039c77c7fd47cc9a6173528e5d09de",
       "version_major": 2,
       "version_minor": 0
      },
      "text/plain": [
       "[fitting_weight_function]:   0%|          | 0/100 [00:00<?, ?it/s]"
      ]
     },
     "metadata": {},
     "output_type": "display_data"
    },
    {
     "data": {
      "application/vnd.jupyter.widget-view+json": {
       "model_id": "805a566d24d640cfa8d372b971a17f10",
       "version_major": 2,
       "version_minor": 0
      },
      "text/plain": [
       "[fitting_weight_function]:   0%|          | 0/100 [00:00<?, ?it/s]"
      ]
     },
     "metadata": {},
     "output_type": "display_data"
    },
    {
     "data": {
      "application/vnd.jupyter.widget-view+json": {
       "model_id": "b934160f2fc44268a630558276325aa7",
       "version_major": 2,
       "version_minor": 0
      },
      "text/plain": [
       "[collect input data: eval_policy]:   0%|          | 0/1 [00:00<?, ?it/s]"
      ]
     },
     "metadata": {},
     "output_type": "display_data"
    },
    {
     "data": {
      "application/vnd.jupyter.widget-view+json": {
       "model_id": "a6080a5d031f49638948b3ebf070cce3",
       "version_major": 2,
       "version_minor": 0
      },
      "text/plain": [
       "[calculate on-policy policy value]:   0%|          | 0/100 [00:00<?, ?it/s]"
      ]
     },
     "metadata": {},
     "output_type": "display_data"
    },
    {
     "data": {
      "application/vnd.jupyter.widget-view+json": {
       "model_id": "1744de09a4df41869a3c6396622bdc96",
       "version_major": 2,
       "version_minor": 0
      },
      "text/plain": [
       "[obtain_trajectories]:   0%|          | 0/200 [00:00<?, ?it/s]"
      ]
     },
     "metadata": {},
     "output_type": "display_data"
    },
    {
     "data": {
      "application/vnd.jupyter.widget-view+json": {
       "model_id": "e2e36335d1c8433bb1176249e63efda0",
       "version_major": 2,
       "version_minor": 0
      },
      "text/plain": [
       "[obtain_trajectories]:   0%|          | 0/200 [00:00<?, ?it/s]"
      ]
     },
     "metadata": {},
     "output_type": "display_data"
    },
    {
     "data": {
      "application/vnd.jupyter.widget-view+json": {
       "model_id": "af36b45d0052430683911ef5e167616e",
       "version_major": 2,
       "version_minor": 0
      },
      "text/plain": [
       "[fit FQE model]:   0%|          | 0/1 [00:00<?, ?it/s]"
      ]
     },
     "metadata": {},
     "output_type": "display_data"
    },
    {
     "name": "stdout",
     "output_type": "stream",
     "text": [
      "2023-03-16 18:46.16 [debug    ] RoundIterator is selected.\n",
      "2023-03-16 18:46.16 [info     ] Directory is created at d3rlpy_logs/FQE_20230316184616\n",
      "2023-03-16 18:46.16 [debug    ] Fitting scaler...              scaler=min_max\n",
      "2023-03-16 18:46.16 [debug    ] Fitting action scaler...       action_scaler=min_max\n",
      "2023-03-16 18:46.16 [debug    ] Building models...\n",
      "2023-03-16 18:46.16 [debug    ] Models have been built.\n",
      "2023-03-16 18:46.16 [info     ] Parameters are saved to d3rlpy_logs/FQE_20230316184616/params.json params={'action_scaler': {'type': 'min_max', 'params': {'minimum': array([0.1]), 'maximum': array([10.])}}, 'batch_size': 100, 'encoder_factory': {'type': 'vector', 'params': {'hidden_units': [30, 30], 'activation': 'relu', 'use_batch_norm': False, 'dropout_rate': None, 'use_dense': False}}, 'gamma': 0.95, 'generated_maxlen': 100000, 'learning_rate': 0.0001, 'n_critics': 1, 'n_frames': 1, 'n_steps': 1, 'optim_factory': {'optim_cls': 'Adam', 'betas': (0.9, 0.999), 'eps': 1e-08, 'weight_decay': 0, 'amsgrad': False}, 'q_func_factory': {'type': 'mean', 'params': {'share_encoder': False}}, 'real_ratio': 1.0, 'reward_scaler': None, 'scaler': {'type': 'min_max', 'params': {'maximum': array([6.00000000e+00, 3.00000000e+03, 9.99217527e-01, 4.60000000e+04,\n",
      "       1.00000000e+00, 1.50000000e+01, 9.99842540e+00]), 'minimum': array([0.        , 1.        , 0.        , 0.        , 0.        ,\n",
      "       0.        , 0.02195677])}}, 'target_update_interval': 100, 'use_gpu': None, 'algorithm': 'FQE', 'observation_shape': (7,), 'action_size': 1}\n"
     ]
    },
    {
     "data": {
      "application/vnd.jupyter.widget-view+json": {
       "model_id": "b64afe37936e402daecb4f085d8ff78f",
       "version_major": 2,
       "version_minor": 0
      },
      "text/plain": [
       "Epoch 1/1:   0%|          | 0/14 [00:00<?, ?it/s]"
      ]
     },
     "metadata": {},
     "output_type": "display_data"
    },
    {
     "name": "stdout",
     "output_type": "stream",
     "text": [
      "2023-03-16 18:46.16 [info     ] FQE_20230316184616: epoch=1 step=14 epoch=1 metrics={'time_sample_batch': 9.654249463762556e-05, 'time_algorithm_update': 0.0012030431202479772, 'loss': 12.72965955734253, 'time_step': 0.0013719967433384486} step=14\n",
      "2023-03-16 18:46.16 [info     ] Model parameters are saved to d3rlpy_logs/FQE_20230316184616/model_14.pt\n"
     ]
    },
    {
     "data": {
      "application/vnd.jupyter.widget-view+json": {
       "model_id": "25914ec5d72e4b68b383ede6e738a14b",
       "version_major": 2,
       "version_minor": 0
      },
      "text/plain": [
       "[fit MWL model]:   0%|          | 0/1 [00:00<?, ?it/s]"
      ]
     },
     "metadata": {},
     "output_type": "display_data"
    },
    {
     "data": {
      "application/vnd.jupyter.widget-view+json": {
       "model_id": "4937b552f7284e7ca20f25bc8461879d",
       "version_major": 2,
       "version_minor": 0
      },
      "text/plain": [
       "[fitting_weight_function]:   0%|          | 0/100 [00:00<?, ?it/s]"
      ]
     },
     "metadata": {},
     "output_type": "display_data"
    },
    {
     "data": {
      "application/vnd.jupyter.widget-view+json": {
       "model_id": "a133f526609b4528a421e7fb5905b134",
       "version_major": 2,
       "version_minor": 0
      },
      "text/plain": [
       "[fitting_weight_function]:   0%|          | 0/100 [00:00<?, ?it/s]"
      ]
     },
     "metadata": {},
     "output_type": "display_data"
    },
    {
     "data": {
      "application/vnd.jupyter.widget-view+json": {
       "model_id": "e270ab3a182e47f89a4c8b1a517c0d52",
       "version_major": 2,
       "version_minor": 0
      },
      "text/plain": [
       "[collect input data: eval_policy]:   0%|          | 0/1 [00:00<?, ?it/s]"
      ]
     },
     "metadata": {},
     "output_type": "display_data"
    },
    {
     "data": {
      "application/vnd.jupyter.widget-view+json": {
       "model_id": "e59540db0ebb40adbf7de580c52914a7",
       "version_major": 2,
       "version_minor": 0
      },
      "text/plain": [
       "[calculate on-policy policy value]:   0%|          | 0/100 [00:00<?, ?it/s]"
      ]
     },
     "metadata": {},
     "output_type": "display_data"
    },
    {
     "data": {
      "application/vnd.jupyter.widget-view+json": {
       "model_id": "26bfb289c11e4c59ae754ed5fad399b8",
       "version_major": 2,
       "version_minor": 0
      },
      "text/plain": [
       "[obtain_trajectories]:   0%|          | 0/200 [00:00<?, ?it/s]"
      ]
     },
     "metadata": {},
     "output_type": "display_data"
    },
    {
     "data": {
      "application/vnd.jupyter.widget-view+json": {
       "model_id": "c05399b2a0c74f8ead84f012cffbf4a8",
       "version_major": 2,
       "version_minor": 0
      },
      "text/plain": [
       "[obtain_trajectories]:   0%|          | 0/200 [00:00<?, ?it/s]"
      ]
     },
     "metadata": {},
     "output_type": "display_data"
    },
    {
     "data": {
      "application/vnd.jupyter.widget-view+json": {
       "model_id": "3a864f4415234f6a975e06f1be57673d",
       "version_major": 2,
       "version_minor": 0
      },
      "text/plain": [
       "[fit FQE model]:   0%|          | 0/1 [00:00<?, ?it/s]"
      ]
     },
     "metadata": {},
     "output_type": "display_data"
    },
    {
     "name": "stdout",
     "output_type": "stream",
     "text": [
      "2023-03-16 18:46.40 [debug    ] RoundIterator is selected.\n",
      "2023-03-16 18:46.40 [info     ] Directory is created at d3rlpy_logs/FQE_20230316184640\n",
      "2023-03-16 18:46.40 [debug    ] Fitting scaler...              scaler=min_max\n",
      "2023-03-16 18:46.40 [debug    ] Fitting action scaler...       action_scaler=min_max\n",
      "2023-03-16 18:46.40 [debug    ] Building models...\n",
      "2023-03-16 18:46.40 [debug    ] Models have been built.\n",
      "2023-03-16 18:46.40 [info     ] Parameters are saved to d3rlpy_logs/FQE_20230316184640/params.json params={'action_scaler': {'type': 'min_max', 'params': {'minimum': array([0.1]), 'maximum': array([10.])}}, 'batch_size': 100, 'encoder_factory': {'type': 'vector', 'params': {'hidden_units': [30, 30], 'activation': 'relu', 'use_batch_norm': False, 'dropout_rate': None, 'use_dense': False}}, 'gamma': 0.95, 'generated_maxlen': 100000, 'learning_rate': 0.0001, 'n_critics': 1, 'n_frames': 1, 'n_steps': 1, 'optim_factory': {'optim_cls': 'Adam', 'betas': (0.9, 0.999), 'eps': 1e-08, 'weight_decay': 0, 'amsgrad': False}, 'q_func_factory': {'type': 'mean', 'params': {'share_encoder': False}}, 'real_ratio': 1.0, 'reward_scaler': None, 'scaler': {'type': 'min_max', 'params': {'maximum': array([6.00000000e+00, 3.00000000e+03, 9.98430913e-01, 2.80000000e+04,\n",
      "       1.00000000e+00, 1.60000000e+01, 9.99753758e+00]), 'minimum': array([0.        , 1.        , 0.        , 0.        , 0.        ,\n",
      "       0.        , 0.00237939])}}, 'target_update_interval': 100, 'use_gpu': None, 'algorithm': 'FQE', 'observation_shape': (7,), 'action_size': 1}\n"
     ]
    },
    {
     "data": {
      "application/vnd.jupyter.widget-view+json": {
       "model_id": "41e9561be3e04e6db895c2d90a3898f5",
       "version_major": 2,
       "version_minor": 0
      },
      "text/plain": [
       "Epoch 1/1:   0%|          | 0/14 [00:00<?, ?it/s]"
      ]
     },
     "metadata": {},
     "output_type": "display_data"
    },
    {
     "name": "stdout",
     "output_type": "stream",
     "text": [
      "2023-03-16 18:46.40 [info     ] FQE_20230316184640: epoch=1 step=14 epoch=1 metrics={'time_sample_batch': 0.00010277543749128069, 'time_algorithm_update': 0.0013984271458217076, 'loss': 12.573896203722272, 'time_step': 0.0015565156936645508} step=14\n",
      "2023-03-16 18:46.40 [info     ] Model parameters are saved to d3rlpy_logs/FQE_20230316184640/model_14.pt\n"
     ]
    },
    {
     "data": {
      "application/vnd.jupyter.widget-view+json": {
       "model_id": "1c23d5355129453b819f5a41ef19164b",
       "version_major": 2,
       "version_minor": 0
      },
      "text/plain": [
       "[fit MWL model]:   0%|          | 0/1 [00:00<?, ?it/s]"
      ]
     },
     "metadata": {},
     "output_type": "display_data"
    },
    {
     "data": {
      "application/vnd.jupyter.widget-view+json": {
       "model_id": "6b5b56b468884187ad8f7d3712d81670",
       "version_major": 2,
       "version_minor": 0
      },
      "text/plain": [
       "[fitting_weight_function]:   0%|          | 0/100 [00:00<?, ?it/s]"
      ]
     },
     "metadata": {},
     "output_type": "display_data"
    },
    {
     "data": {
      "application/vnd.jupyter.widget-view+json": {
       "model_id": "9f852076b3724066ae9f65cc50c4ce2d",
       "version_major": 2,
       "version_minor": 0
      },
      "text/plain": [
       "[fitting_weight_function]:   0%|          | 0/100 [00:00<?, ?it/s]"
      ]
     },
     "metadata": {},
     "output_type": "display_data"
    },
    {
     "data": {
      "application/vnd.jupyter.widget-view+json": {
       "model_id": "4a391c2f21094a3a86517315e0c873e9",
       "version_major": 2,
       "version_minor": 0
      },
      "text/plain": [
       "[collect input data: eval_policy]:   0%|          | 0/1 [00:00<?, ?it/s]"
      ]
     },
     "metadata": {},
     "output_type": "display_data"
    },
    {
     "data": {
      "application/vnd.jupyter.widget-view+json": {
       "model_id": "90332af340d149ff9eb5636e1b2ffb3f",
       "version_major": 2,
       "version_minor": 0
      },
      "text/plain": [
       "[calculate on-policy policy value]:   0%|          | 0/100 [00:00<?, ?it/s]"
      ]
     },
     "metadata": {},
     "output_type": "display_data"
    },
    {
     "data": {
      "application/vnd.jupyter.widget-view+json": {
       "model_id": "d3de3cbff16d4ab5aebad077bd9cedb6",
       "version_major": 2,
       "version_minor": 0
      },
      "text/plain": [
       "[obtain_trajectories]:   0%|          | 0/200 [00:00<?, ?it/s]"
      ]
     },
     "metadata": {},
     "output_type": "display_data"
    },
    {
     "data": {
      "application/vnd.jupyter.widget-view+json": {
       "model_id": "82f37acb503f4f9dbdea078036e19a0b",
       "version_major": 2,
       "version_minor": 0
      },
      "text/plain": [
       "[obtain_trajectories]:   0%|          | 0/200 [00:00<?, ?it/s]"
      ]
     },
     "metadata": {},
     "output_type": "display_data"
    },
    {
     "data": {
      "application/vnd.jupyter.widget-view+json": {
       "model_id": "02d65718a62441fbab7fcd37536ba11e",
       "version_major": 2,
       "version_minor": 0
      },
      "text/plain": [
       "[fit FQE model]:   0%|          | 0/1 [00:00<?, ?it/s]"
      ]
     },
     "metadata": {},
     "output_type": "display_data"
    },
    {
     "name": "stdout",
     "output_type": "stream",
     "text": [
      "2023-03-16 18:47.03 [debug    ] RoundIterator is selected.\n",
      "2023-03-16 18:47.03 [info     ] Directory is created at d3rlpy_logs/FQE_20230316184703\n",
      "2023-03-16 18:47.03 [debug    ] Fitting scaler...              scaler=min_max\n",
      "2023-03-16 18:47.03 [debug    ] Fitting action scaler...       action_scaler=min_max\n",
      "2023-03-16 18:47.03 [debug    ] Building models...\n",
      "2023-03-16 18:47.03 [debug    ] Models have been built.\n",
      "2023-03-16 18:47.03 [info     ] Parameters are saved to d3rlpy_logs/FQE_20230316184703/params.json params={'action_scaler': {'type': 'min_max', 'params': {'minimum': array([0.1]), 'maximum': array([10.])}}, 'batch_size': 100, 'encoder_factory': {'type': 'vector', 'params': {'hidden_units': [30, 30], 'activation': 'relu', 'use_batch_norm': False, 'dropout_rate': None, 'use_dense': False}}, 'gamma': 0.95, 'generated_maxlen': 100000, 'learning_rate': 0.0001, 'n_critics': 1, 'n_frames': 1, 'n_steps': 1, 'optim_factory': {'optim_cls': 'Adam', 'betas': (0.9, 0.999), 'eps': 1e-08, 'weight_decay': 0, 'amsgrad': False}, 'q_func_factory': {'type': 'mean', 'params': {'share_encoder': False}}, 'real_ratio': 1.0, 'reward_scaler': None, 'scaler': {'type': 'min_max', 'params': {'maximum': array([6.00000000e+00, 3.00000000e+03, 9.99054820e-01, 4.10000000e+04,\n",
      "       1.00000000e+00, 1.60000000e+01, 9.99915066e+00]), 'minimum': array([0.        , 1.        , 0.        , 0.        , 0.        ,\n",
      "       0.        , 0.01232433])}}, 'target_update_interval': 100, 'use_gpu': None, 'algorithm': 'FQE', 'observation_shape': (7,), 'action_size': 1}\n"
     ]
    },
    {
     "data": {
      "application/vnd.jupyter.widget-view+json": {
       "model_id": "8aefa185176e4bc992626f69209fa2b8",
       "version_major": 2,
       "version_minor": 0
      },
      "text/plain": [
       "Epoch 1/1:   0%|          | 0/14 [00:00<?, ?it/s]"
      ]
     },
     "metadata": {},
     "output_type": "display_data"
    },
    {
     "name": "stdout",
     "output_type": "stream",
     "text": [
      "2023-03-16 18:47.03 [info     ] FQE_20230316184703: epoch=1 step=14 epoch=1 metrics={'time_sample_batch': 0.00012859276362827847, 'time_algorithm_update': 0.0016202926635742188, 'loss': 12.703236171177455, 'time_step': 0.0018235955919538225} step=14\n",
      "2023-03-16 18:47.03 [info     ] Model parameters are saved to d3rlpy_logs/FQE_20230316184703/model_14.pt\n"
     ]
    },
    {
     "data": {
      "application/vnd.jupyter.widget-view+json": {
       "model_id": "f49f9cfb1cf14576922b8a53402fc59f",
       "version_major": 2,
       "version_minor": 0
      },
      "text/plain": [
       "[fit MWL model]:   0%|          | 0/1 [00:00<?, ?it/s]"
      ]
     },
     "metadata": {},
     "output_type": "display_data"
    },
    {
     "data": {
      "application/vnd.jupyter.widget-view+json": {
       "model_id": "ce5dd773da1742359ecc461b7258de83",
       "version_major": 2,
       "version_minor": 0
      },
      "text/plain": [
       "[fitting_weight_function]:   0%|          | 0/100 [00:00<?, ?it/s]"
      ]
     },
     "metadata": {},
     "output_type": "display_data"
    },
    {
     "data": {
      "application/vnd.jupyter.widget-view+json": {
       "model_id": "ff6fff21454d4becb950c08b51969744",
       "version_major": 2,
       "version_minor": 0
      },
      "text/plain": [
       "[fitting_weight_function]:   0%|          | 0/100 [00:00<?, ?it/s]"
      ]
     },
     "metadata": {},
     "output_type": "display_data"
    },
    {
     "data": {
      "application/vnd.jupyter.widget-view+json": {
       "model_id": "bf1041904d7f4986a864e3879925d41b",
       "version_major": 2,
       "version_minor": 0
      },
      "text/plain": [
       "[collect input data: eval_policy]:   0%|          | 0/1 [00:00<?, ?it/s]"
      ]
     },
     "metadata": {},
     "output_type": "display_data"
    },
    {
     "data": {
      "application/vnd.jupyter.widget-view+json": {
       "model_id": "d21f39b4fb1d4d68b781d1b00d5d4248",
       "version_major": 2,
       "version_minor": 0
      },
      "text/plain": [
       "[calculate on-policy policy value]:   0%|          | 0/100 [00:00<?, ?it/s]"
      ]
     },
     "metadata": {},
     "output_type": "display_data"
    },
    {
     "data": {
      "application/vnd.jupyter.widget-view+json": {
       "model_id": "e75e5bd3eaa5409aa07519f95fd4d7d7",
       "version_major": 2,
       "version_minor": 0
      },
      "text/plain": [
       "[obtain_trajectories]:   0%|          | 0/200 [00:00<?, ?it/s]"
      ]
     },
     "metadata": {},
     "output_type": "display_data"
    },
    {
     "data": {
      "application/vnd.jupyter.widget-view+json": {
       "model_id": "afd958341f6b40f49a484c28e5090c05",
       "version_major": 2,
       "version_minor": 0
      },
      "text/plain": [
       "[obtain_trajectories]:   0%|          | 0/200 [00:00<?, ?it/s]"
      ]
     },
     "metadata": {},
     "output_type": "display_data"
    },
    {
     "data": {
      "application/vnd.jupyter.widget-view+json": {
       "model_id": "555c8a9bad754079bf2a2df4ab27fda2",
       "version_major": 2,
       "version_minor": 0
      },
      "text/plain": [
       "[fit FQE model]:   0%|          | 0/1 [00:00<?, ?it/s]"
      ]
     },
     "metadata": {},
     "output_type": "display_data"
    },
    {
     "name": "stdout",
     "output_type": "stream",
     "text": [
      "2023-03-16 18:47.26 [debug    ] RoundIterator is selected.\n",
      "2023-03-16 18:47.26 [info     ] Directory is created at d3rlpy_logs/FQE_20230316184726\n",
      "2023-03-16 18:47.26 [debug    ] Fitting scaler...              scaler=min_max\n",
      "2023-03-16 18:47.26 [debug    ] Fitting action scaler...       action_scaler=min_max\n",
      "2023-03-16 18:47.26 [debug    ] Building models...\n",
      "2023-03-16 18:47.26 [debug    ] Models have been built.\n",
      "2023-03-16 18:47.26 [info     ] Parameters are saved to d3rlpy_logs/FQE_20230316184726/params.json params={'action_scaler': {'type': 'min_max', 'params': {'minimum': array([0.1]), 'maximum': array([10.])}}, 'batch_size': 100, 'encoder_factory': {'type': 'vector', 'params': {'hidden_units': [30, 30], 'activation': 'relu', 'use_batch_norm': False, 'dropout_rate': None, 'use_dense': False}}, 'gamma': 0.95, 'generated_maxlen': 100000, 'learning_rate': 0.0001, 'n_critics': 1, 'n_frames': 1, 'n_steps': 1, 'optim_factory': {'optim_cls': 'Adam', 'betas': (0.9, 0.999), 'eps': 1e-08, 'weight_decay': 0, 'amsgrad': False}, 'q_func_factory': {'type': 'mean', 'params': {'share_encoder': False}}, 'real_ratio': 1.0, 'reward_scaler': None, 'scaler': {'type': 'min_max', 'params': {'maximum': array([6.00000000e+00, 3.00000000e+03, 9.98603352e-01, 1.80000000e+04,\n",
      "       1.00000000e+00, 1.50000000e+01, 9.99646922e+00]), 'minimum': array([0.        , 1.        , 0.        , 0.        , 0.        ,\n",
      "       0.        , 0.00216032])}}, 'target_update_interval': 100, 'use_gpu': None, 'algorithm': 'FQE', 'observation_shape': (7,), 'action_size': 1}\n"
     ]
    },
    {
     "data": {
      "application/vnd.jupyter.widget-view+json": {
       "model_id": "c6d8e30a74494c0a95cae3e9bbd5204e",
       "version_major": 2,
       "version_minor": 0
      },
      "text/plain": [
       "Epoch 1/1:   0%|          | 0/14 [00:00<?, ?it/s]"
      ]
     },
     "metadata": {},
     "output_type": "display_data"
    },
    {
     "name": "stdout",
     "output_type": "stream",
     "text": [
      "2023-03-16 18:47.26 [info     ] FQE_20230316184726: epoch=1 step=14 epoch=1 metrics={'time_sample_batch': 8.84873526436942e-05, 'time_algorithm_update': 0.0013061250959123885, 'loss': 13.678116934640068, 'time_step': 0.0014601094382149832} step=14\n",
      "2023-03-16 18:47.26 [info     ] Model parameters are saved to d3rlpy_logs/FQE_20230316184726/model_14.pt\n"
     ]
    },
    {
     "data": {
      "application/vnd.jupyter.widget-view+json": {
       "model_id": "06c6880105144be483edea03ede68ead",
       "version_major": 2,
       "version_minor": 0
      },
      "text/plain": [
       "[fit MWL model]:   0%|          | 0/1 [00:00<?, ?it/s]"
      ]
     },
     "metadata": {},
     "output_type": "display_data"
    },
    {
     "data": {
      "application/vnd.jupyter.widget-view+json": {
       "model_id": "0721f5ec988c4e279478c655222a53ca",
       "version_major": 2,
       "version_minor": 0
      },
      "text/plain": [
       "[fitting_weight_function]:   0%|          | 0/100 [00:00<?, ?it/s]"
      ]
     },
     "metadata": {},
     "output_type": "display_data"
    },
    {
     "data": {
      "application/vnd.jupyter.widget-view+json": {
       "model_id": "8ab73ceaa95a4ada82d7fbaaa3c48b73",
       "version_major": 2,
       "version_minor": 0
      },
      "text/plain": [
       "[fitting_weight_function]:   0%|          | 0/100 [00:00<?, ?it/s]"
      ]
     },
     "metadata": {},
     "output_type": "display_data"
    },
    {
     "data": {
      "application/vnd.jupyter.widget-view+json": {
       "model_id": "2f49253c7f0140a59abcbd76248a9894",
       "version_major": 2,
       "version_minor": 0
      },
      "text/plain": [
       "[collect input data: eval_policy]:   0%|          | 0/1 [00:00<?, ?it/s]"
      ]
     },
     "metadata": {},
     "output_type": "display_data"
    },
    {
     "data": {
      "application/vnd.jupyter.widget-view+json": {
       "model_id": "a90d41f554de43e2bb863fae0938f2f0",
       "version_major": 2,
       "version_minor": 0
      },
      "text/plain": [
       "[calculate on-policy policy value]:   0%|          | 0/100 [00:00<?, ?it/s]"
      ]
     },
     "metadata": {},
     "output_type": "display_data"
    },
    {
     "data": {
      "application/vnd.jupyter.widget-view+json": {
       "model_id": "75ec3a65c996437394dde81a6ac30687",
       "version_major": 2,
       "version_minor": 0
      },
      "text/plain": [
       "[obtain_trajectories]:   0%|          | 0/400 [00:00<?, ?it/s]"
      ]
     },
     "metadata": {},
     "output_type": "display_data"
    },
    {
     "data": {
      "application/vnd.jupyter.widget-view+json": {
       "model_id": "d4f4ba331fb84d9d9e3ac4ae53b330e0",
       "version_major": 2,
       "version_minor": 0
      },
      "text/plain": [
       "[obtain_trajectories]:   0%|          | 0/400 [00:00<?, ?it/s]"
      ]
     },
     "metadata": {},
     "output_type": "display_data"
    },
    {
     "data": {
      "application/vnd.jupyter.widget-view+json": {
       "model_id": "94f4fa90c9c14bfa904eec63be1f5056",
       "version_major": 2,
       "version_minor": 0
      },
      "text/plain": [
       "[fit FQE model]:   0%|          | 0/1 [00:00<?, ?it/s]"
      ]
     },
     "metadata": {},
     "output_type": "display_data"
    },
    {
     "name": "stdout",
     "output_type": "stream",
     "text": [
      "2023-03-16 18:47.52 [debug    ] RoundIterator is selected.\n",
      "2023-03-16 18:47.52 [info     ] Directory is created at d3rlpy_logs/FQE_20230316184752\n",
      "2023-03-16 18:47.52 [debug    ] Fitting scaler...              scaler=min_max\n",
      "2023-03-16 18:47.52 [debug    ] Fitting action scaler...       action_scaler=min_max\n",
      "2023-03-16 18:47.52 [debug    ] Building models...\n",
      "2023-03-16 18:47.52 [debug    ] Models have been built.\n",
      "2023-03-16 18:47.52 [info     ] Parameters are saved to d3rlpy_logs/FQE_20230316184752/params.json params={'action_scaler': {'type': 'min_max', 'params': {'minimum': array([0.1]), 'maximum': array([10.])}}, 'batch_size': 100, 'encoder_factory': {'type': 'vector', 'params': {'hidden_units': [30, 30], 'activation': 'relu', 'use_batch_norm': False, 'dropout_rate': None, 'use_dense': False}}, 'gamma': 0.95, 'generated_maxlen': 100000, 'learning_rate': 0.0001, 'n_critics': 1, 'n_frames': 1, 'n_steps': 1, 'optim_factory': {'optim_cls': 'Adam', 'betas': (0.9, 0.999), 'eps': 1e-08, 'weight_decay': 0, 'amsgrad': False}, 'q_func_factory': {'type': 'mean', 'params': {'share_encoder': False}}, 'real_ratio': 1.0, 'reward_scaler': None, 'scaler': {'type': 'min_max', 'params': {'maximum': array([6.0000000e+00, 3.0000000e+03, 9.9918515e-01, 5.2000000e+04,\n",
      "       1.0000000e+00, 2.0000000e+01, 9.9978601e+00]), 'minimum': array([0.00000000e+00, 1.00000000e+00, 0.00000000e+00, 0.00000000e+00,\n",
      "       0.00000000e+00, 0.00000000e+00, 5.85477435e-04])}}, 'target_update_interval': 100, 'use_gpu': None, 'algorithm': 'FQE', 'observation_shape': (7,), 'action_size': 1}\n"
     ]
    },
    {
     "data": {
      "application/vnd.jupyter.widget-view+json": {
       "model_id": "a9a782fc0b964de489b92669093c84b9",
       "version_major": 2,
       "version_minor": 0
      },
      "text/plain": [
       "Epoch 1/1:   0%|          | 0/28 [00:00<?, ?it/s]"
      ]
     },
     "metadata": {},
     "output_type": "display_data"
    },
    {
     "name": "stdout",
     "output_type": "stream",
     "text": [
      "2023-03-16 18:47.52 [info     ] FQE_20230316184752: epoch=1 step=28 epoch=1 metrics={'time_sample_batch': 8.17349978855678e-05, 'time_algorithm_update': 0.0012530514172145299, 'loss': 13.378277676446098, 'time_step': 0.00137850216456822} step=28\n",
      "2023-03-16 18:47.52 [info     ] Model parameters are saved to d3rlpy_logs/FQE_20230316184752/model_28.pt\n"
     ]
    },
    {
     "data": {
      "application/vnd.jupyter.widget-view+json": {
       "model_id": "2a535ebe5d82465bbed5faee56ed668a",
       "version_major": 2,
       "version_minor": 0
      },
      "text/plain": [
       "[fit MWL model]:   0%|          | 0/1 [00:00<?, ?it/s]"
      ]
     },
     "metadata": {},
     "output_type": "display_data"
    },
    {
     "data": {
      "application/vnd.jupyter.widget-view+json": {
       "model_id": "98249df87bd14971b69c54004b1972b2",
       "version_major": 2,
       "version_minor": 0
      },
      "text/plain": [
       "[fitting_weight_function]:   0%|          | 0/100 [00:00<?, ?it/s]"
      ]
     },
     "metadata": {},
     "output_type": "display_data"
    },
    {
     "data": {
      "application/vnd.jupyter.widget-view+json": {
       "model_id": "d4543a5e22d44e359446d59f198d00d9",
       "version_major": 2,
       "version_minor": 0
      },
      "text/plain": [
       "[fitting_weight_function]:   0%|          | 0/100 [00:00<?, ?it/s]"
      ]
     },
     "metadata": {},
     "output_type": "display_data"
    },
    {
     "data": {
      "application/vnd.jupyter.widget-view+json": {
       "model_id": "8d43c3019824405ab09a62f40c8582f0",
       "version_major": 2,
       "version_minor": 0
      },
      "text/plain": [
       "[collect input data: eval_policy]:   0%|          | 0/1 [00:00<?, ?it/s]"
      ]
     },
     "metadata": {},
     "output_type": "display_data"
    },
    {
     "data": {
      "application/vnd.jupyter.widget-view+json": {
       "model_id": "f271f45b36f24a918dc64dfd56359035",
       "version_major": 2,
       "version_minor": 0
      },
      "text/plain": [
       "[calculate on-policy policy value]:   0%|          | 0/100 [00:00<?, ?it/s]"
      ]
     },
     "metadata": {},
     "output_type": "display_data"
    },
    {
     "data": {
      "application/vnd.jupyter.widget-view+json": {
       "model_id": "0d5cb403c8694fcfb74a0da75d654426",
       "version_major": 2,
       "version_minor": 0
      },
      "text/plain": [
       "[obtain_trajectories]:   0%|          | 0/400 [00:00<?, ?it/s]"
      ]
     },
     "metadata": {},
     "output_type": "display_data"
    },
    {
     "data": {
      "application/vnd.jupyter.widget-view+json": {
       "model_id": "dca85d3eb44347e68cafe5ee0b7555c0",
       "version_major": 2,
       "version_minor": 0
      },
      "text/plain": [
       "[obtain_trajectories]:   0%|          | 0/400 [00:00<?, ?it/s]"
      ]
     },
     "metadata": {},
     "output_type": "display_data"
    },
    {
     "data": {
      "application/vnd.jupyter.widget-view+json": {
       "model_id": "170b821fb855430fa13acdc274c72d35",
       "version_major": 2,
       "version_minor": 0
      },
      "text/plain": [
       "[fit FQE model]:   0%|          | 0/1 [00:00<?, ?it/s]"
      ]
     },
     "metadata": {},
     "output_type": "display_data"
    },
    {
     "name": "stdout",
     "output_type": "stream",
     "text": [
      "2023-03-16 18:48.17 [debug    ] RoundIterator is selected.\n",
      "2023-03-16 18:48.17 [info     ] Directory is created at d3rlpy_logs/FQE_20230316184817\n",
      "2023-03-16 18:48.17 [debug    ] Fitting scaler...              scaler=min_max\n",
      "2023-03-16 18:48.17 [debug    ] Fitting action scaler...       action_scaler=min_max\n",
      "2023-03-16 18:48.17 [debug    ] Building models...\n",
      "2023-03-16 18:48.17 [debug    ] Models have been built.\n",
      "2023-03-16 18:48.17 [info     ] Parameters are saved to d3rlpy_logs/FQE_20230316184817/params.json params={'action_scaler': {'type': 'min_max', 'params': {'minimum': array([0.1]), 'maximum': array([10.])}}, 'batch_size': 100, 'encoder_factory': {'type': 'vector', 'params': {'hidden_units': [30, 30], 'activation': 'relu', 'use_batch_norm': False, 'dropout_rate': None, 'use_dense': False}}, 'gamma': 0.95, 'generated_maxlen': 100000, 'learning_rate': 0.0001, 'n_critics': 1, 'n_frames': 1, 'n_steps': 1, 'optim_factory': {'optim_cls': 'Adam', 'betas': (0.9, 0.999), 'eps': 1e-08, 'weight_decay': 0, 'amsgrad': False}, 'q_func_factory': {'type': 'mean', 'params': {'share_encoder': False}}, 'real_ratio': 1.0, 'reward_scaler': None, 'scaler': {'type': 'min_max', 'params': {'maximum': array([6.00000000e+00, 3.00000000e+03, 9.99844840e-01, 5.00000000e+04,\n",
      "       1.00000000e+00, 1.70000000e+01, 9.99987756e+00]), 'minimum': array([0.       , 1.       , 0.       , 0.       , 0.       , 0.       ,\n",
      "       0.0084466])}}, 'target_update_interval': 100, 'use_gpu': None, 'algorithm': 'FQE', 'observation_shape': (7,), 'action_size': 1}\n"
     ]
    },
    {
     "data": {
      "application/vnd.jupyter.widget-view+json": {
       "model_id": "db30244ffafc44f3829f42b375405615",
       "version_major": 2,
       "version_minor": 0
      },
      "text/plain": [
       "Epoch 1/1:   0%|          | 0/28 [00:00<?, ?it/s]"
      ]
     },
     "metadata": {},
     "output_type": "display_data"
    },
    {
     "name": "stdout",
     "output_type": "stream",
     "text": [
      "2023-03-16 18:48.17 [info     ] FQE_20230316184817: epoch=1 step=28 epoch=1 metrics={'time_sample_batch': 9.015628269740514e-05, 'time_algorithm_update': 0.0012679100036621094, 'loss': 12.885343636785235, 'time_step': 0.0014042002814156668} step=28\n",
      "2023-03-16 18:48.17 [info     ] Model parameters are saved to d3rlpy_logs/FQE_20230316184817/model_28.pt\n"
     ]
    },
    {
     "data": {
      "application/vnd.jupyter.widget-view+json": {
       "model_id": "5addab7ac26d42b28b4f464af9dd54ec",
       "version_major": 2,
       "version_minor": 0
      },
      "text/plain": [
       "[fit MWL model]:   0%|          | 0/1 [00:00<?, ?it/s]"
      ]
     },
     "metadata": {},
     "output_type": "display_data"
    },
    {
     "data": {
      "application/vnd.jupyter.widget-view+json": {
       "model_id": "96944ac9a0e04f19b06174ab596e2115",
       "version_major": 2,
       "version_minor": 0
      },
      "text/plain": [
       "[fitting_weight_function]:   0%|          | 0/100 [00:00<?, ?it/s]"
      ]
     },
     "metadata": {},
     "output_type": "display_data"
    },
    {
     "data": {
      "application/vnd.jupyter.widget-view+json": {
       "model_id": "e6bf790fb0e14e0c947be3e3b1f9537d",
       "version_major": 2,
       "version_minor": 0
      },
      "text/plain": [
       "[fitting_weight_function]:   0%|          | 0/100 [00:00<?, ?it/s]"
      ]
     },
     "metadata": {},
     "output_type": "display_data"
    },
    {
     "data": {
      "application/vnd.jupyter.widget-view+json": {
       "model_id": "aeea50546bef4f1cb94310ef3eb39437",
       "version_major": 2,
       "version_minor": 0
      },
      "text/plain": [
       "[collect input data: eval_policy]:   0%|          | 0/1 [00:00<?, ?it/s]"
      ]
     },
     "metadata": {},
     "output_type": "display_data"
    },
    {
     "data": {
      "application/vnd.jupyter.widget-view+json": {
       "model_id": "f159af55b13b422a9f2a7fd9e0998e5e",
       "version_major": 2,
       "version_minor": 0
      },
      "text/plain": [
       "[calculate on-policy policy value]:   0%|          | 0/100 [00:00<?, ?it/s]"
      ]
     },
     "metadata": {},
     "output_type": "display_data"
    },
    {
     "data": {
      "application/vnd.jupyter.widget-view+json": {
       "model_id": "a7482e3382b24d2bae2d91c7ea1fd5c7",
       "version_major": 2,
       "version_minor": 0
      },
      "text/plain": [
       "[obtain_trajectories]:   0%|          | 0/400 [00:00<?, ?it/s]"
      ]
     },
     "metadata": {},
     "output_type": "display_data"
    },
    {
     "data": {
      "application/vnd.jupyter.widget-view+json": {
       "model_id": "f3ea86f334294b76879dade7b18575bc",
       "version_major": 2,
       "version_minor": 0
      },
      "text/plain": [
       "[obtain_trajectories]:   0%|          | 0/400 [00:00<?, ?it/s]"
      ]
     },
     "metadata": {},
     "output_type": "display_data"
    },
    {
     "data": {
      "application/vnd.jupyter.widget-view+json": {
       "model_id": "ca83e4a662c2448fbeffe40032e216f3",
       "version_major": 2,
       "version_minor": 0
      },
      "text/plain": [
       "[fit FQE model]:   0%|          | 0/1 [00:00<?, ?it/s]"
      ]
     },
     "metadata": {},
     "output_type": "display_data"
    },
    {
     "name": "stdout",
     "output_type": "stream",
     "text": [
      "2023-03-16 18:48.42 [debug    ] RoundIterator is selected.\n",
      "2023-03-16 18:48.42 [info     ] Directory is created at d3rlpy_logs/FQE_20230316184842\n",
      "2023-03-16 18:48.42 [debug    ] Fitting scaler...              scaler=min_max\n",
      "2023-03-16 18:48.42 [debug    ] Fitting action scaler...       action_scaler=min_max\n",
      "2023-03-16 18:48.42 [debug    ] Building models...\n",
      "2023-03-16 18:48.42 [debug    ] Models have been built.\n",
      "2023-03-16 18:48.42 [info     ] Parameters are saved to d3rlpy_logs/FQE_20230316184842/params.json params={'action_scaler': {'type': 'min_max', 'params': {'minimum': array([0.1]), 'maximum': array([10.])}}, 'batch_size': 100, 'encoder_factory': {'type': 'vector', 'params': {'hidden_units': [30, 30], 'activation': 'relu', 'use_batch_norm': False, 'dropout_rate': None, 'use_dense': False}}, 'gamma': 0.95, 'generated_maxlen': 100000, 'learning_rate': 0.0001, 'n_critics': 1, 'n_frames': 1, 'n_steps': 1, 'optim_factory': {'optim_cls': 'Adam', 'betas': (0.9, 0.999), 'eps': 1e-08, 'weight_decay': 0, 'amsgrad': False}, 'q_func_factory': {'type': 'mean', 'params': {'share_encoder': False}}, 'real_ratio': 1.0, 'reward_scaler': None, 'scaler': {'type': 'min_max', 'params': {'maximum': array([6.00000000e+00, 3.00000000e+03, 9.99219360e-01, 2.70000000e+04,\n",
      "       1.00000000e+00, 1.70000000e+01, 9.99594342e+00]), 'minimum': array([0.        , 1.        , 0.        , 0.        , 0.        ,\n",
      "       0.        , 0.00235747])}}, 'target_update_interval': 100, 'use_gpu': None, 'algorithm': 'FQE', 'observation_shape': (7,), 'action_size': 1}\n"
     ]
    },
    {
     "data": {
      "application/vnd.jupyter.widget-view+json": {
       "model_id": "5128564e1afc45ffbdca21eade0a30c4",
       "version_major": 2,
       "version_minor": 0
      },
      "text/plain": [
       "Epoch 1/1:   0%|          | 0/28 [00:00<?, ?it/s]"
      ]
     },
     "metadata": {},
     "output_type": "display_data"
    },
    {
     "name": "stdout",
     "output_type": "stream",
     "text": [
      "2023-03-16 18:48.42 [info     ] FQE_20230316184842: epoch=1 step=28 epoch=1 metrics={'time_sample_batch': 7.975101470947266e-05, 'time_algorithm_update': 0.0011669567653111049, 'loss': 14.215324980872017, 'time_step': 0.0012892484664916992} step=28\n",
      "2023-03-16 18:48.42 [info     ] Model parameters are saved to d3rlpy_logs/FQE_20230316184842/model_28.pt\n"
     ]
    },
    {
     "data": {
      "application/vnd.jupyter.widget-view+json": {
       "model_id": "f8ae9b198ab44e8b813349a67d52b12b",
       "version_major": 2,
       "version_minor": 0
      },
      "text/plain": [
       "[fit MWL model]:   0%|          | 0/1 [00:00<?, ?it/s]"
      ]
     },
     "metadata": {},
     "output_type": "display_data"
    },
    {
     "data": {
      "application/vnd.jupyter.widget-view+json": {
       "model_id": "8c39fcee764d4c4baf774b21c3871c91",
       "version_major": 2,
       "version_minor": 0
      },
      "text/plain": [
       "[fitting_weight_function]:   0%|          | 0/100 [00:00<?, ?it/s]"
      ]
     },
     "metadata": {},
     "output_type": "display_data"
    },
    {
     "data": {
      "application/vnd.jupyter.widget-view+json": {
       "model_id": "b51b7e7312274f85978c16fce5f39646",
       "version_major": 2,
       "version_minor": 0
      },
      "text/plain": [
       "[fitting_weight_function]:   0%|          | 0/100 [00:00<?, ?it/s]"
      ]
     },
     "metadata": {},
     "output_type": "display_data"
    },
    {
     "data": {
      "application/vnd.jupyter.widget-view+json": {
       "model_id": "50c3c31eae654fec91d6361edb7848d2",
       "version_major": 2,
       "version_minor": 0
      },
      "text/plain": [
       "[collect input data: eval_policy]:   0%|          | 0/1 [00:00<?, ?it/s]"
      ]
     },
     "metadata": {},
     "output_type": "display_data"
    },
    {
     "data": {
      "application/vnd.jupyter.widget-view+json": {
       "model_id": "2687a2ee89544a2591f3235aa2ba20f5",
       "version_major": 2,
       "version_minor": 0
      },
      "text/plain": [
       "[calculate on-policy policy value]:   0%|          | 0/100 [00:00<?, ?it/s]"
      ]
     },
     "metadata": {},
     "output_type": "display_data"
    },
    {
     "data": {
      "application/vnd.jupyter.widget-view+json": {
       "model_id": "c249d7aeed994d59baa31d7ec63592e8",
       "version_major": 2,
       "version_minor": 0
      },
      "text/plain": [
       "[obtain_trajectories]:   0%|          | 0/400 [00:00<?, ?it/s]"
      ]
     },
     "metadata": {},
     "output_type": "display_data"
    },
    {
     "data": {
      "application/vnd.jupyter.widget-view+json": {
       "model_id": "b99d0078e61b4c058abbb92e63567c3f",
       "version_major": 2,
       "version_minor": 0
      },
      "text/plain": [
       "[obtain_trajectories]:   0%|          | 0/400 [00:00<?, ?it/s]"
      ]
     },
     "metadata": {},
     "output_type": "display_data"
    },
    {
     "data": {
      "application/vnd.jupyter.widget-view+json": {
       "model_id": "3e9c3ed9fec04447a6c90e8ef81b1166",
       "version_major": 2,
       "version_minor": 0
      },
      "text/plain": [
       "[fit FQE model]:   0%|          | 0/1 [00:00<?, ?it/s]"
      ]
     },
     "metadata": {},
     "output_type": "display_data"
    },
    {
     "name": "stdout",
     "output_type": "stream",
     "text": [
      "2023-03-16 18:49.07 [debug    ] RoundIterator is selected.\n",
      "2023-03-16 18:49.07 [info     ] Directory is created at d3rlpy_logs/FQE_20230316184907\n",
      "2023-03-16 18:49.07 [debug    ] Fitting scaler...              scaler=min_max\n",
      "2023-03-16 18:49.07 [debug    ] Fitting action scaler...       action_scaler=min_max\n",
      "2023-03-16 18:49.07 [debug    ] Building models...\n",
      "2023-03-16 18:49.07 [debug    ] Models have been built.\n",
      "2023-03-16 18:49.07 [info     ] Parameters are saved to d3rlpy_logs/FQE_20230316184907/params.json params={'action_scaler': {'type': 'min_max', 'params': {'minimum': array([0.1]), 'maximum': array([10.])}}, 'batch_size': 100, 'encoder_factory': {'type': 'vector', 'params': {'hidden_units': [30, 30], 'activation': 'relu', 'use_batch_norm': False, 'dropout_rate': None, 'use_dense': False}}, 'gamma': 0.95, 'generated_maxlen': 100000, 'learning_rate': 0.0001, 'n_critics': 1, 'n_frames': 1, 'n_steps': 1, 'optim_factory': {'optim_cls': 'Adam', 'betas': (0.9, 0.999), 'eps': 1e-08, 'weight_decay': 0, 'amsgrad': False}, 'q_func_factory': {'type': 'mean', 'params': {'share_encoder': False}}, 'real_ratio': 1.0, 'reward_scaler': None, 'scaler': {'type': 'min_max', 'params': {'maximum': array([6.00000000e+00, 3.00000000e+03, 9.99237805e-01, 5.07500000e+04,\n",
      "       1.00000000e+00, 2.00000000e+01, 9.99899605e+00]), 'minimum': array([0.        , 1.        , 0.        , 0.        , 0.        ,\n",
      "       0.        , 0.00328041])}}, 'target_update_interval': 100, 'use_gpu': None, 'algorithm': 'FQE', 'observation_shape': (7,), 'action_size': 1}\n"
     ]
    },
    {
     "data": {
      "application/vnd.jupyter.widget-view+json": {
       "model_id": "bd47dff9c1704bce808d7b6b6f206f0b",
       "version_major": 2,
       "version_minor": 0
      },
      "text/plain": [
       "Epoch 1/1:   0%|          | 0/28 [00:00<?, ?it/s]"
      ]
     },
     "metadata": {},
     "output_type": "display_data"
    },
    {
     "name": "stdout",
     "output_type": "stream",
     "text": [
      "2023-03-16 18:49.07 [info     ] FQE_20230316184907: epoch=1 step=28 epoch=1 metrics={'time_sample_batch': 8.358274187360491e-05, 'time_algorithm_update': 0.0012456348964146205, 'loss': 13.38482117652893, 'time_step': 0.001367006983075823} step=28\n",
      "2023-03-16 18:49.07 [info     ] Model parameters are saved to d3rlpy_logs/FQE_20230316184907/model_28.pt\n"
     ]
    },
    {
     "data": {
      "application/vnd.jupyter.widget-view+json": {
       "model_id": "6aa369de815f4aa9a9043ce379801a29",
       "version_major": 2,
       "version_minor": 0
      },
      "text/plain": [
       "[fit MWL model]:   0%|          | 0/1 [00:00<?, ?it/s]"
      ]
     },
     "metadata": {},
     "output_type": "display_data"
    },
    {
     "data": {
      "application/vnd.jupyter.widget-view+json": {
       "model_id": "97ad1fd2269a47e1b7fdb1be50be59c2",
       "version_major": 2,
       "version_minor": 0
      },
      "text/plain": [
       "[fitting_weight_function]:   0%|          | 0/100 [00:00<?, ?it/s]"
      ]
     },
     "metadata": {},
     "output_type": "display_data"
    },
    {
     "data": {
      "application/vnd.jupyter.widget-view+json": {
       "model_id": "da32c4da08ae4bb4a6ecdc464a90de95",
       "version_major": 2,
       "version_minor": 0
      },
      "text/plain": [
       "[fitting_weight_function]:   0%|          | 0/100 [00:00<?, ?it/s]"
      ]
     },
     "metadata": {},
     "output_type": "display_data"
    },
    {
     "data": {
      "application/vnd.jupyter.widget-view+json": {
       "model_id": "eef3d00d9d7f479a81b740f2edb449d2",
       "version_major": 2,
       "version_minor": 0
      },
      "text/plain": [
       "[collect input data: eval_policy]:   0%|          | 0/1 [00:00<?, ?it/s]"
      ]
     },
     "metadata": {},
     "output_type": "display_data"
    },
    {
     "data": {
      "application/vnd.jupyter.widget-view+json": {
       "model_id": "5e3ce07aba844f919674cc96d66623fe",
       "version_major": 2,
       "version_minor": 0
      },
      "text/plain": [
       "[calculate on-policy policy value]:   0%|          | 0/100 [00:00<?, ?it/s]"
      ]
     },
     "metadata": {},
     "output_type": "display_data"
    },
    {
     "data": {
      "application/vnd.jupyter.widget-view+json": {
       "model_id": "b6aa51a84d544c3ebeaeb48234294812",
       "version_major": 2,
       "version_minor": 0
      },
      "text/plain": [
       "[obtain_trajectories]:   0%|          | 0/400 [00:00<?, ?it/s]"
      ]
     },
     "metadata": {},
     "output_type": "display_data"
    },
    {
     "data": {
      "application/vnd.jupyter.widget-view+json": {
       "model_id": "8708cec6fea744e1916dfa2455d9846e",
       "version_major": 2,
       "version_minor": 0
      },
      "text/plain": [
       "[obtain_trajectories]:   0%|          | 0/400 [00:00<?, ?it/s]"
      ]
     },
     "metadata": {},
     "output_type": "display_data"
    },
    {
     "data": {
      "application/vnd.jupyter.widget-view+json": {
       "model_id": "605070555eba4e34b1e02170aca77ad7",
       "version_major": 2,
       "version_minor": 0
      },
      "text/plain": [
       "[fit FQE model]:   0%|          | 0/1 [00:00<?, ?it/s]"
      ]
     },
     "metadata": {},
     "output_type": "display_data"
    },
    {
     "name": "stdout",
     "output_type": "stream",
     "text": [
      "2023-03-16 18:49.32 [debug    ] RoundIterator is selected.\n",
      "2023-03-16 18:49.32 [info     ] Directory is created at d3rlpy_logs/FQE_20230316184932\n",
      "2023-03-16 18:49.32 [debug    ] Fitting scaler...              scaler=min_max\n",
      "2023-03-16 18:49.32 [debug    ] Fitting action scaler...       action_scaler=min_max\n",
      "2023-03-16 18:49.32 [debug    ] Building models...\n",
      "2023-03-16 18:49.32 [debug    ] Models have been built.\n",
      "2023-03-16 18:49.32 [info     ] Parameters are saved to d3rlpy_logs/FQE_20230316184932/params.json params={'action_scaler': {'type': 'min_max', 'params': {'minimum': array([0.1]), 'maximum': array([10.])}}, 'batch_size': 100, 'encoder_factory': {'type': 'vector', 'params': {'hidden_units': [30, 30], 'activation': 'relu', 'use_batch_norm': False, 'dropout_rate': None, 'use_dense': False}}, 'gamma': 0.95, 'generated_maxlen': 100000, 'learning_rate': 0.0001, 'n_critics': 1, 'n_frames': 1, 'n_steps': 1, 'optim_factory': {'optim_cls': 'Adam', 'betas': (0.9, 0.999), 'eps': 1e-08, 'weight_decay': 0, 'amsgrad': False}, 'q_func_factory': {'type': 'mean', 'params': {'share_encoder': False}}, 'real_ratio': 1.0, 'reward_scaler': None, 'scaler': {'type': 'min_max', 'params': {'maximum': array([6.00000000e+00, 3.00000000e+03, 9.98964803e-01, 4.20000000e+04,\n",
      "       1.00000000e+00, 1.80000000e+01, 9.99421752e+00]), 'minimum': array([0.        , 1.        , 0.        , 0.        , 0.        ,\n",
      "       0.        , 0.00537652])}}, 'target_update_interval': 100, 'use_gpu': None, 'algorithm': 'FQE', 'observation_shape': (7,), 'action_size': 1}\n"
     ]
    },
    {
     "data": {
      "application/vnd.jupyter.widget-view+json": {
       "model_id": "8937f7d99fa24f66a37e371e315fd599",
       "version_major": 2,
       "version_minor": 0
      },
      "text/plain": [
       "Epoch 1/1:   0%|          | 0/28 [00:00<?, ?it/s]"
      ]
     },
     "metadata": {},
     "output_type": "display_data"
    },
    {
     "name": "stdout",
     "output_type": "stream",
     "text": [
      "2023-03-16 18:49.32 [info     ] FQE_20230316184932: epoch=1 step=28 epoch=1 metrics={'time_sample_batch': 8.050033024379186e-05, 'time_algorithm_update': 0.0012393849236624582, 'loss': 14.541827372142247, 'time_step': 0.001360935824257987} step=28\n",
      "2023-03-16 18:49.32 [info     ] Model parameters are saved to d3rlpy_logs/FQE_20230316184932/model_28.pt\n"
     ]
    },
    {
     "data": {
      "application/vnd.jupyter.widget-view+json": {
       "model_id": "ebcdc63d31a34062a7dd29e71d0bb10c",
       "version_major": 2,
       "version_minor": 0
      },
      "text/plain": [
       "[fit MWL model]:   0%|          | 0/1 [00:00<?, ?it/s]"
      ]
     },
     "metadata": {},
     "output_type": "display_data"
    },
    {
     "data": {
      "application/vnd.jupyter.widget-view+json": {
       "model_id": "1f189e08463f44aab470d6bf77ab322d",
       "version_major": 2,
       "version_minor": 0
      },
      "text/plain": [
       "[fitting_weight_function]:   0%|          | 0/100 [00:00<?, ?it/s]"
      ]
     },
     "metadata": {},
     "output_type": "display_data"
    },
    {
     "data": {
      "application/vnd.jupyter.widget-view+json": {
       "model_id": "da9cc4199294423b8f54eb76d2852c35",
       "version_major": 2,
       "version_minor": 0
      },
      "text/plain": [
       "[fitting_weight_function]:   0%|          | 0/100 [00:00<?, ?it/s]"
      ]
     },
     "metadata": {},
     "output_type": "display_data"
    },
    {
     "data": {
      "application/vnd.jupyter.widget-view+json": {
       "model_id": "cc0336a92ceb41edbd4fcb0eab93af36",
       "version_major": 2,
       "version_minor": 0
      },
      "text/plain": [
       "[collect input data: eval_policy]:   0%|          | 0/1 [00:00<?, ?it/s]"
      ]
     },
     "metadata": {},
     "output_type": "display_data"
    },
    {
     "data": {
      "application/vnd.jupyter.widget-view+json": {
       "model_id": "64496e00d15244a0bc618b430bdd6cb4",
       "version_major": 2,
       "version_minor": 0
      },
      "text/plain": [
       "[calculate on-policy policy value]:   0%|          | 0/100 [00:00<?, ?it/s]"
      ]
     },
     "metadata": {},
     "output_type": "display_data"
    },
    {
     "data": {
      "application/vnd.jupyter.widget-view+json": {
       "model_id": "876c6937fd284f6fbe977dbfe9c5b8db",
       "version_major": 2,
       "version_minor": 0
      },
      "text/plain": [
       "[obtain_trajectories]:   0%|          | 0/400 [00:00<?, ?it/s]"
      ]
     },
     "metadata": {},
     "output_type": "display_data"
    },
    {
     "data": {
      "application/vnd.jupyter.widget-view+json": {
       "model_id": "0794d939226c4ec6bcb51703bd243f22",
       "version_major": 2,
       "version_minor": 0
      },
      "text/plain": [
       "[obtain_trajectories]:   0%|          | 0/400 [00:00<?, ?it/s]"
      ]
     },
     "metadata": {},
     "output_type": "display_data"
    },
    {
     "data": {
      "application/vnd.jupyter.widget-view+json": {
       "model_id": "b3e97edc4a2f464284b83490e1947c0a",
       "version_major": 2,
       "version_minor": 0
      },
      "text/plain": [
       "[fit FQE model]:   0%|          | 0/1 [00:00<?, ?it/s]"
      ]
     },
     "metadata": {},
     "output_type": "display_data"
    },
    {
     "name": "stdout",
     "output_type": "stream",
     "text": [
      "2023-03-16 18:49.57 [debug    ] RoundIterator is selected.\n",
      "2023-03-16 18:49.57 [info     ] Directory is created at d3rlpy_logs/FQE_20230316184957\n",
      "2023-03-16 18:49.57 [debug    ] Fitting scaler...              scaler=min_max\n",
      "2023-03-16 18:49.57 [debug    ] Fitting action scaler...       action_scaler=min_max\n",
      "2023-03-16 18:49.57 [debug    ] Building models...\n",
      "2023-03-16 18:49.57 [debug    ] Models have been built.\n",
      "2023-03-16 18:49.57 [info     ] Parameters are saved to d3rlpy_logs/FQE_20230316184957/params.json params={'action_scaler': {'type': 'min_max', 'params': {'minimum': array([0.1]), 'maximum': array([10.])}}, 'batch_size': 100, 'encoder_factory': {'type': 'vector', 'params': {'hidden_units': [30, 30], 'activation': 'relu', 'use_batch_norm': False, 'dropout_rate': None, 'use_dense': False}}, 'gamma': 0.95, 'generated_maxlen': 100000, 'learning_rate': 0.0001, 'n_critics': 1, 'n_frames': 1, 'n_steps': 1, 'optim_factory': {'optim_cls': 'Adam', 'betas': (0.9, 0.999), 'eps': 1e-08, 'weight_decay': 0, 'amsgrad': False}, 'q_func_factory': {'type': 'mean', 'params': {'share_encoder': False}}, 'real_ratio': 1.0, 'reward_scaler': None, 'scaler': {'type': 'min_max', 'params': {'maximum': array([6.00000000e+00, 3.00000000e+03, 9.99950706e-01, 1.77500000e+04,\n",
      "       1.00000000e+00, 2.00000000e+01, 9.99813716e+00]), 'minimum': array([0.        , 1.        , 0.        , 0.        , 0.        ,\n",
      "       0.        , 0.00745781])}}, 'target_update_interval': 100, 'use_gpu': None, 'algorithm': 'FQE', 'observation_shape': (7,), 'action_size': 1}\n"
     ]
    },
    {
     "data": {
      "application/vnd.jupyter.widget-view+json": {
       "model_id": "56feba2d417d485ba579b127e8f6f2c7",
       "version_major": 2,
       "version_minor": 0
      },
      "text/plain": [
       "Epoch 1/1:   0%|          | 0/28 [00:00<?, ?it/s]"
      ]
     },
     "metadata": {},
     "output_type": "display_data"
    },
    {
     "name": "stdout",
     "output_type": "stream",
     "text": [
      "2023-03-16 18:49.57 [info     ] FQE_20230316184957: epoch=1 step=28 epoch=1 metrics={'time_sample_batch': 7.752009800502233e-05, 'time_algorithm_update': 0.0012396488870893205, 'loss': 12.832355431147985, 'time_step': 0.0013604845319475447} step=28\n",
      "2023-03-16 18:49.57 [info     ] Model parameters are saved to d3rlpy_logs/FQE_20230316184957/model_28.pt\n"
     ]
    },
    {
     "data": {
      "application/vnd.jupyter.widget-view+json": {
       "model_id": "e7152fb0007b4883828d254113c324e0",
       "version_major": 2,
       "version_minor": 0
      },
      "text/plain": [
       "[fit MWL model]:   0%|          | 0/1 [00:00<?, ?it/s]"
      ]
     },
     "metadata": {},
     "output_type": "display_data"
    },
    {
     "data": {
      "application/vnd.jupyter.widget-view+json": {
       "model_id": "8116b2d09d82475d9b27c1779d5fb404",
       "version_major": 2,
       "version_minor": 0
      },
      "text/plain": [
       "[fitting_weight_function]:   0%|          | 0/100 [00:00<?, ?it/s]"
      ]
     },
     "metadata": {},
     "output_type": "display_data"
    },
    {
     "data": {
      "application/vnd.jupyter.widget-view+json": {
       "model_id": "e097f97d582d4b4eb3c42ffef40b9f15",
       "version_major": 2,
       "version_minor": 0
      },
      "text/plain": [
       "[fitting_weight_function]:   0%|          | 0/100 [00:00<?, ?it/s]"
      ]
     },
     "metadata": {},
     "output_type": "display_data"
    },
    {
     "data": {
      "application/vnd.jupyter.widget-view+json": {
       "model_id": "1ae125a292f64c3e951319cb752d67dd",
       "version_major": 2,
       "version_minor": 0
      },
      "text/plain": [
       "[collect input data: eval_policy]:   0%|          | 0/1 [00:00<?, ?it/s]"
      ]
     },
     "metadata": {},
     "output_type": "display_data"
    },
    {
     "data": {
      "application/vnd.jupyter.widget-view+json": {
       "model_id": "0f64e18f5eaa4055a7321ccade6c3949",
       "version_major": 2,
       "version_minor": 0
      },
      "text/plain": [
       "[calculate on-policy policy value]:   0%|          | 0/100 [00:00<?, ?it/s]"
      ]
     },
     "metadata": {},
     "output_type": "display_data"
    },
    {
     "data": {
      "application/vnd.jupyter.widget-view+json": {
       "model_id": "3bf5d0c8075b45e18ed831828a8efaa0",
       "version_major": 2,
       "version_minor": 0
      },
      "text/plain": [
       "[obtain_trajectories]:   0%|          | 0/400 [00:00<?, ?it/s]"
      ]
     },
     "metadata": {},
     "output_type": "display_data"
    },
    {
     "data": {
      "application/vnd.jupyter.widget-view+json": {
       "model_id": "ec3d9aac707848c1a8aac393500837af",
       "version_major": 2,
       "version_minor": 0
      },
      "text/plain": [
       "[obtain_trajectories]:   0%|          | 0/400 [00:00<?, ?it/s]"
      ]
     },
     "metadata": {},
     "output_type": "display_data"
    },
    {
     "data": {
      "application/vnd.jupyter.widget-view+json": {
       "model_id": "f8ee7f12ba3d4a71a8b251820d9813b7",
       "version_major": 2,
       "version_minor": 0
      },
      "text/plain": [
       "[fit FQE model]:   0%|          | 0/1 [00:00<?, ?it/s]"
      ]
     },
     "metadata": {},
     "output_type": "display_data"
    },
    {
     "name": "stdout",
     "output_type": "stream",
     "text": [
      "2023-03-16 18:50.22 [debug    ] RoundIterator is selected.\n",
      "2023-03-16 18:50.22 [info     ] Directory is created at d3rlpy_logs/FQE_20230316185022\n",
      "2023-03-16 18:50.22 [debug    ] Fitting scaler...              scaler=min_max\n",
      "2023-03-16 18:50.22 [debug    ] Fitting action scaler...       action_scaler=min_max\n",
      "2023-03-16 18:50.22 [debug    ] Building models...\n",
      "2023-03-16 18:50.22 [debug    ] Models have been built.\n",
      "2023-03-16 18:50.22 [info     ] Parameters are saved to d3rlpy_logs/FQE_20230316185022/params.json params={'action_scaler': {'type': 'min_max', 'params': {'minimum': array([0.1]), 'maximum': array([10.])}}, 'batch_size': 100, 'encoder_factory': {'type': 'vector', 'params': {'hidden_units': [30, 30], 'activation': 'relu', 'use_batch_norm': False, 'dropout_rate': None, 'use_dense': False}}, 'gamma': 0.95, 'generated_maxlen': 100000, 'learning_rate': 0.0001, 'n_critics': 1, 'n_frames': 1, 'n_steps': 1, 'optim_factory': {'optim_cls': 'Adam', 'betas': (0.9, 0.999), 'eps': 1e-08, 'weight_decay': 0, 'amsgrad': False}, 'q_func_factory': {'type': 'mean', 'params': {'share_encoder': False}}, 'real_ratio': 1.0, 'reward_scaler': None, 'scaler': {'type': 'min_max', 'params': {'maximum': array([6.00000000e+00, 3.00000000e+03, 9.99217527e-01, 4.60000000e+04,\n",
      "       1.00000000e+00, 1.70000000e+01, 9.99948712e+00]), 'minimum': array([0.00000000e+00, 1.00000000e+00, 0.00000000e+00, 0.00000000e+00,\n",
      "       0.00000000e+00, 0.00000000e+00, 5.36075369e-04])}}, 'target_update_interval': 100, 'use_gpu': None, 'algorithm': 'FQE', 'observation_shape': (7,), 'action_size': 1}\n"
     ]
    },
    {
     "data": {
      "application/vnd.jupyter.widget-view+json": {
       "model_id": "40506e8f5c6e469ca03a0083153633d3",
       "version_major": 2,
       "version_minor": 0
      },
      "text/plain": [
       "Epoch 1/1:   0%|          | 0/28 [00:00<?, ?it/s]"
      ]
     },
     "metadata": {},
     "output_type": "display_data"
    },
    {
     "name": "stdout",
     "output_type": "stream",
     "text": [
      "2023-03-16 18:50.22 [info     ] FQE_20230316185022: epoch=1 step=28 epoch=1 metrics={'time_sample_batch': 8.697169167654855e-05, 'time_algorithm_update': 0.0012142998831612723, 'loss': 12.87952721118927, 'time_step': 0.001354191984449114} step=28\n",
      "2023-03-16 18:50.22 [info     ] Model parameters are saved to d3rlpy_logs/FQE_20230316185022/model_28.pt\n"
     ]
    },
    {
     "data": {
      "application/vnd.jupyter.widget-view+json": {
       "model_id": "c431f74369d743d2b549108fd7514521",
       "version_major": 2,
       "version_minor": 0
      },
      "text/plain": [
       "[fit MWL model]:   0%|          | 0/1 [00:00<?, ?it/s]"
      ]
     },
     "metadata": {},
     "output_type": "display_data"
    },
    {
     "data": {
      "application/vnd.jupyter.widget-view+json": {
       "model_id": "cdbe54d0ad8e4409b6e3092dd54fca19",
       "version_major": 2,
       "version_minor": 0
      },
      "text/plain": [
       "[fitting_weight_function]:   0%|          | 0/100 [00:00<?, ?it/s]"
      ]
     },
     "metadata": {},
     "output_type": "display_data"
    },
    {
     "data": {
      "application/vnd.jupyter.widget-view+json": {
       "model_id": "1e4d7c9294b340578fee7516b132eff3",
       "version_major": 2,
       "version_minor": 0
      },
      "text/plain": [
       "[fitting_weight_function]:   0%|          | 0/100 [00:00<?, ?it/s]"
      ]
     },
     "metadata": {},
     "output_type": "display_data"
    },
    {
     "data": {
      "application/vnd.jupyter.widget-view+json": {
       "model_id": "01a0832da1da42b99abe2f33ade98b94",
       "version_major": 2,
       "version_minor": 0
      },
      "text/plain": [
       "[collect input data: eval_policy]:   0%|          | 0/1 [00:00<?, ?it/s]"
      ]
     },
     "metadata": {},
     "output_type": "display_data"
    },
    {
     "data": {
      "application/vnd.jupyter.widget-view+json": {
       "model_id": "2bbd3f676d164875b3b6007b310e2b68",
       "version_major": 2,
       "version_minor": 0
      },
      "text/plain": [
       "[calculate on-policy policy value]:   0%|          | 0/100 [00:00<?, ?it/s]"
      ]
     },
     "metadata": {},
     "output_type": "display_data"
    },
    {
     "data": {
      "application/vnd.jupyter.widget-view+json": {
       "model_id": "721c7789eac84c688b8e56e5e46e5098",
       "version_major": 2,
       "version_minor": 0
      },
      "text/plain": [
       "[obtain_trajectories]:   0%|          | 0/400 [00:00<?, ?it/s]"
      ]
     },
     "metadata": {},
     "output_type": "display_data"
    },
    {
     "data": {
      "application/vnd.jupyter.widget-view+json": {
       "model_id": "a06bc65792224a1d99944a05715a6de0",
       "version_major": 2,
       "version_minor": 0
      },
      "text/plain": [
       "[obtain_trajectories]:   0%|          | 0/400 [00:00<?, ?it/s]"
      ]
     },
     "metadata": {},
     "output_type": "display_data"
    },
    {
     "data": {
      "application/vnd.jupyter.widget-view+json": {
       "model_id": "b5c7e3e29d9b43a98d9d559021c735e1",
       "version_major": 2,
       "version_minor": 0
      },
      "text/plain": [
       "[fit FQE model]:   0%|          | 0/1 [00:00<?, ?it/s]"
      ]
     },
     "metadata": {},
     "output_type": "display_data"
    },
    {
     "name": "stdout",
     "output_type": "stream",
     "text": [
      "2023-03-16 18:50.48 [debug    ] RoundIterator is selected.\n",
      "2023-03-16 18:50.48 [info     ] Directory is created at d3rlpy_logs/FQE_20230316185048\n",
      "2023-03-16 18:50.48 [debug    ] Fitting scaler...              scaler=min_max\n",
      "2023-03-16 18:50.48 [debug    ] Fitting action scaler...       action_scaler=min_max\n",
      "2023-03-16 18:50.48 [debug    ] Building models...\n",
      "2023-03-16 18:50.48 [debug    ] Models have been built.\n",
      "2023-03-16 18:50.48 [info     ] Parameters are saved to d3rlpy_logs/FQE_20230316185048/params.json params={'action_scaler': {'type': 'min_max', 'params': {'minimum': array([0.1]), 'maximum': array([10.])}}, 'batch_size': 100, 'encoder_factory': {'type': 'vector', 'params': {'hidden_units': [30, 30], 'activation': 'relu', 'use_batch_norm': False, 'dropout_rate': None, 'use_dense': False}}, 'gamma': 0.95, 'generated_maxlen': 100000, 'learning_rate': 0.0001, 'n_critics': 1, 'n_frames': 1, 'n_steps': 1, 'optim_factory': {'optim_cls': 'Adam', 'betas': (0.9, 0.999), 'eps': 1e-08, 'weight_decay': 0, 'amsgrad': False}, 'q_func_factory': {'type': 'mean', 'params': {'share_encoder': False}}, 'real_ratio': 1.0, 'reward_scaler': None, 'scaler': {'type': 'min_max', 'params': {'maximum': array([6.00000000e+00, 3.00000000e+03, 9.98542274e-01, 5.80000000e+04,\n",
      "       1.00000000e+00, 1.70000000e+01, 9.99896966e+00]), 'minimum': array([0.00000000e+00, 1.00000000e+00, 0.00000000e+00, 0.00000000e+00,\n",
      "       0.00000000e+00, 0.00000000e+00, 6.13143906e-04])}}, 'target_update_interval': 100, 'use_gpu': None, 'algorithm': 'FQE', 'observation_shape': (7,), 'action_size': 1}\n"
     ]
    },
    {
     "data": {
      "application/vnd.jupyter.widget-view+json": {
       "model_id": "44f0560733dd4751806206482e84c5b4",
       "version_major": 2,
       "version_minor": 0
      },
      "text/plain": [
       "Epoch 1/1:   0%|          | 0/28 [00:00<?, ?it/s]"
      ]
     },
     "metadata": {},
     "output_type": "display_data"
    },
    {
     "name": "stdout",
     "output_type": "stream",
     "text": [
      "2023-03-16 18:50.48 [info     ] FQE_20230316185048: epoch=1 step=28 epoch=1 metrics={'time_sample_batch': 8.541345596313477e-05, 'time_algorithm_update': 0.0013637031827654158, 'loss': 12.951234596116203, 'time_step': 0.001507171562739781} step=28\n",
      "2023-03-16 18:50.48 [info     ] Model parameters are saved to d3rlpy_logs/FQE_20230316185048/model_28.pt\n"
     ]
    },
    {
     "data": {
      "application/vnd.jupyter.widget-view+json": {
       "model_id": "50bb5f79a5084214bc18506431d53a09",
       "version_major": 2,
       "version_minor": 0
      },
      "text/plain": [
       "[fit MWL model]:   0%|          | 0/1 [00:00<?, ?it/s]"
      ]
     },
     "metadata": {},
     "output_type": "display_data"
    },
    {
     "data": {
      "application/vnd.jupyter.widget-view+json": {
       "model_id": "4ed022fe114e490e970dc0d2c0ddbe60",
       "version_major": 2,
       "version_minor": 0
      },
      "text/plain": [
       "[fitting_weight_function]:   0%|          | 0/100 [00:00<?, ?it/s]"
      ]
     },
     "metadata": {},
     "output_type": "display_data"
    },
    {
     "data": {
      "application/vnd.jupyter.widget-view+json": {
       "model_id": "4e1c7bd992c843cfaeb782b9af0eb771",
       "version_major": 2,
       "version_minor": 0
      },
      "text/plain": [
       "[fitting_weight_function]:   0%|          | 0/100 [00:00<?, ?it/s]"
      ]
     },
     "metadata": {},
     "output_type": "display_data"
    },
    {
     "data": {
      "application/vnd.jupyter.widget-view+json": {
       "model_id": "3e4c695115e4463eb7f5100701811184",
       "version_major": 2,
       "version_minor": 0
      },
      "text/plain": [
       "[collect input data: eval_policy]:   0%|          | 0/1 [00:00<?, ?it/s]"
      ]
     },
     "metadata": {},
     "output_type": "display_data"
    },
    {
     "data": {
      "application/vnd.jupyter.widget-view+json": {
       "model_id": "0eb35826f25e42078b3be5deb4573a3c",
       "version_major": 2,
       "version_minor": 0
      },
      "text/plain": [
       "[calculate on-policy policy value]:   0%|          | 0/100 [00:00<?, ?it/s]"
      ]
     },
     "metadata": {},
     "output_type": "display_data"
    },
    {
     "data": {
      "application/vnd.jupyter.widget-view+json": {
       "model_id": "c6abd58c864442a89061574c9a27d6a5",
       "version_major": 2,
       "version_minor": 0
      },
      "text/plain": [
       "[obtain_trajectories]:   0%|          | 0/400 [00:00<?, ?it/s]"
      ]
     },
     "metadata": {},
     "output_type": "display_data"
    },
    {
     "data": {
      "application/vnd.jupyter.widget-view+json": {
       "model_id": "c6df91e8f773466da8a0ad8f843b4133",
       "version_major": 2,
       "version_minor": 0
      },
      "text/plain": [
       "[obtain_trajectories]:   0%|          | 0/400 [00:00<?, ?it/s]"
      ]
     },
     "metadata": {},
     "output_type": "display_data"
    },
    {
     "data": {
      "application/vnd.jupyter.widget-view+json": {
       "model_id": "8d94de1f7f474449884991abcc58de4e",
       "version_major": 2,
       "version_minor": 0
      },
      "text/plain": [
       "[fit FQE model]:   0%|          | 0/1 [00:00<?, ?it/s]"
      ]
     },
     "metadata": {},
     "output_type": "display_data"
    },
    {
     "name": "stdout",
     "output_type": "stream",
     "text": [
      "2023-03-16 18:51.13 [debug    ] RoundIterator is selected.\n",
      "2023-03-16 18:51.13 [info     ] Directory is created at d3rlpy_logs/FQE_20230316185113\n",
      "2023-03-16 18:51.13 [debug    ] Fitting scaler...              scaler=min_max\n",
      "2023-03-16 18:51.13 [debug    ] Fitting action scaler...       action_scaler=min_max\n",
      "2023-03-16 18:51.13 [debug    ] Building models...\n",
      "2023-03-16 18:51.13 [debug    ] Models have been built.\n",
      "2023-03-16 18:51.13 [info     ] Parameters are saved to d3rlpy_logs/FQE_20230316185113/params.json params={'action_scaler': {'type': 'min_max', 'params': {'minimum': array([0.1]), 'maximum': array([10.])}}, 'batch_size': 100, 'encoder_factory': {'type': 'vector', 'params': {'hidden_units': [30, 30], 'activation': 'relu', 'use_batch_norm': False, 'dropout_rate': None, 'use_dense': False}}, 'gamma': 0.95, 'generated_maxlen': 100000, 'learning_rate': 0.0001, 'n_critics': 1, 'n_frames': 1, 'n_steps': 1, 'optim_factory': {'optim_cls': 'Adam', 'betas': (0.9, 0.999), 'eps': 1e-08, 'weight_decay': 0, 'amsgrad': False}, 'q_func_factory': {'type': 'mean', 'params': {'share_encoder': False}}, 'real_ratio': 1.0, 'reward_scaler': None, 'scaler': {'type': 'min_max', 'params': {'maximum': array([6.00000000e+00, 3.00000000e+03, 9.99054820e-01, 4.10000000e+04,\n",
      "       1.00000000e+00, 1.80000000e+01, 9.99331435e+00]), 'minimum': array([0.00000000e+00, 1.00000000e+00, 0.00000000e+00, 0.00000000e+00,\n",
      "       0.00000000e+00, 0.00000000e+00, 5.17914788e-04])}}, 'target_update_interval': 100, 'use_gpu': None, 'algorithm': 'FQE', 'observation_shape': (7,), 'action_size': 1}\n"
     ]
    },
    {
     "data": {
      "application/vnd.jupyter.widget-view+json": {
       "model_id": "4e2029c5ba3549dd9d763e54d58de519",
       "version_major": 2,
       "version_minor": 0
      },
      "text/plain": [
       "Epoch 1/1:   0%|          | 0/28 [00:00<?, ?it/s]"
      ]
     },
     "metadata": {},
     "output_type": "display_data"
    },
    {
     "name": "stdout",
     "output_type": "stream",
     "text": [
      "2023-03-16 18:51.13 [info     ] FQE_20230316185113: epoch=1 step=28 epoch=1 metrics={'time_sample_batch': 9.532485689435686e-05, 'time_algorithm_update': 0.0012208308492388045, 'loss': 13.317390424864632, 'time_step': 0.0013626047543116979} step=28\n",
      "2023-03-16 18:51.13 [info     ] Model parameters are saved to d3rlpy_logs/FQE_20230316185113/model_28.pt\n"
     ]
    },
    {
     "data": {
      "application/vnd.jupyter.widget-view+json": {
       "model_id": "47be33b98bba49499d904dbf138c9d2e",
       "version_major": 2,
       "version_minor": 0
      },
      "text/plain": [
       "[fit MWL model]:   0%|          | 0/1 [00:00<?, ?it/s]"
      ]
     },
     "metadata": {},
     "output_type": "display_data"
    },
    {
     "data": {
      "application/vnd.jupyter.widget-view+json": {
       "model_id": "95536dcf3c244080ab186656a1f699f9",
       "version_major": 2,
       "version_minor": 0
      },
      "text/plain": [
       "[fitting_weight_function]:   0%|          | 0/100 [00:00<?, ?it/s]"
      ]
     },
     "metadata": {},
     "output_type": "display_data"
    },
    {
     "data": {
      "application/vnd.jupyter.widget-view+json": {
       "model_id": "3a6cf80f57fd41a49eee5d492e25bb7d",
       "version_major": 2,
       "version_minor": 0
      },
      "text/plain": [
       "[fitting_weight_function]:   0%|          | 0/100 [00:00<?, ?it/s]"
      ]
     },
     "metadata": {},
     "output_type": "display_data"
    },
    {
     "data": {
      "application/vnd.jupyter.widget-view+json": {
       "model_id": "f33704c5ae224171bb38ac95e09a073d",
       "version_major": 2,
       "version_minor": 0
      },
      "text/plain": [
       "[collect input data: eval_policy]:   0%|          | 0/1 [00:00<?, ?it/s]"
      ]
     },
     "metadata": {},
     "output_type": "display_data"
    },
    {
     "data": {
      "application/vnd.jupyter.widget-view+json": {
       "model_id": "670bd1c396b34e53aa224fb4940c7f0d",
       "version_major": 2,
       "version_minor": 0
      },
      "text/plain": [
       "[calculate on-policy policy value]:   0%|          | 0/100 [00:00<?, ?it/s]"
      ]
     },
     "metadata": {},
     "output_type": "display_data"
    },
    {
     "data": {
      "application/vnd.jupyter.widget-view+json": {
       "model_id": "b30becb8dfd04a51bac6903d0789d515",
       "version_major": 2,
       "version_minor": 0
      },
      "text/plain": [
       "[obtain_trajectories]:   0%|          | 0/400 [00:00<?, ?it/s]"
      ]
     },
     "metadata": {},
     "output_type": "display_data"
    },
    {
     "data": {
      "application/vnd.jupyter.widget-view+json": {
       "model_id": "35c4c63a82f7439aa0ddb6d9a03d9484",
       "version_major": 2,
       "version_minor": 0
      },
      "text/plain": [
       "[obtain_trajectories]:   0%|          | 0/400 [00:00<?, ?it/s]"
      ]
     },
     "metadata": {},
     "output_type": "display_data"
    },
    {
     "data": {
      "application/vnd.jupyter.widget-view+json": {
       "model_id": "32792cecc71e4576a110ac61626985d1",
       "version_major": 2,
       "version_minor": 0
      },
      "text/plain": [
       "[fit FQE model]:   0%|          | 0/1 [00:00<?, ?it/s]"
      ]
     },
     "metadata": {},
     "output_type": "display_data"
    },
    {
     "name": "stdout",
     "output_type": "stream",
     "text": [
      "2023-03-16 18:51.38 [debug    ] RoundIterator is selected.\n",
      "2023-03-16 18:51.38 [info     ] Directory is created at d3rlpy_logs/FQE_20230316185138\n",
      "2023-03-16 18:51.38 [debug    ] Fitting scaler...              scaler=min_max\n",
      "2023-03-16 18:51.38 [debug    ] Fitting action scaler...       action_scaler=min_max\n",
      "2023-03-16 18:51.38 [debug    ] Building models...\n",
      "2023-03-16 18:51.38 [debug    ] Models have been built.\n",
      "2023-03-16 18:51.38 [info     ] Parameters are saved to d3rlpy_logs/FQE_20230316185138/params.json params={'action_scaler': {'type': 'min_max', 'params': {'minimum': array([0.1]), 'maximum': array([10.])}}, 'batch_size': 100, 'encoder_factory': {'type': 'vector', 'params': {'hidden_units': [30, 30], 'activation': 'relu', 'use_batch_norm': False, 'dropout_rate': None, 'use_dense': False}}, 'gamma': 0.95, 'generated_maxlen': 100000, 'learning_rate': 0.0001, 'n_critics': 1, 'n_frames': 1, 'n_steps': 1, 'optim_factory': {'optim_cls': 'Adam', 'betas': (0.9, 0.999), 'eps': 1e-08, 'weight_decay': 0, 'amsgrad': False}, 'q_func_factory': {'type': 'mean', 'params': {'share_encoder': False}}, 'real_ratio': 1.0, 'reward_scaler': None, 'scaler': {'type': 'min_max', 'params': {'maximum': array([6.00000000e+00, 3.00000000e+03, 9.99122807e-01, 2.14000000e+04,\n",
      "       1.00000000e+00, 1.70000000e+01, 9.99602826e+00]), 'minimum': array([0.        , 1.        , 0.        , 0.        , 0.        ,\n",
      "       0.        , 0.00940335])}}, 'target_update_interval': 100, 'use_gpu': None, 'algorithm': 'FQE', 'observation_shape': (7,), 'action_size': 1}\n"
     ]
    },
    {
     "data": {
      "application/vnd.jupyter.widget-view+json": {
       "model_id": "c6d3d181d3d848c5ba6dbc4a5f897075",
       "version_major": 2,
       "version_minor": 0
      },
      "text/plain": [
       "Epoch 1/1:   0%|          | 0/28 [00:00<?, ?it/s]"
      ]
     },
     "metadata": {},
     "output_type": "display_data"
    },
    {
     "name": "stdout",
     "output_type": "stream",
     "text": [
      "2023-03-16 18:51.38 [info     ] FQE_20230316185138: epoch=1 step=28 epoch=1 metrics={'time_sample_batch': 8.652891431535994e-05, 'time_algorithm_update': 0.0012641378811427525, 'loss': 13.772294555391584, 'time_step': 0.001407921314239502} step=28\n",
      "2023-03-16 18:51.38 [info     ] Model parameters are saved to d3rlpy_logs/FQE_20230316185138/model_28.pt\n"
     ]
    },
    {
     "data": {
      "application/vnd.jupyter.widget-view+json": {
       "model_id": "18b9d6d3f7ce41e6974c04d05a112fec",
       "version_major": 2,
       "version_minor": 0
      },
      "text/plain": [
       "[fit MWL model]:   0%|          | 0/1 [00:00<?, ?it/s]"
      ]
     },
     "metadata": {},
     "output_type": "display_data"
    },
    {
     "data": {
      "application/vnd.jupyter.widget-view+json": {
       "model_id": "2c251a4e1e9a438cb441f43497f82400",
       "version_major": 2,
       "version_minor": 0
      },
      "text/plain": [
       "[fitting_weight_function]:   0%|          | 0/100 [00:00<?, ?it/s]"
      ]
     },
     "metadata": {},
     "output_type": "display_data"
    },
    {
     "data": {
      "application/vnd.jupyter.widget-view+json": {
       "model_id": "474c65b3a31b46cfab3e8131cc7430e8",
       "version_major": 2,
       "version_minor": 0
      },
      "text/plain": [
       "[fitting_weight_function]:   0%|          | 0/100 [00:00<?, ?it/s]"
      ]
     },
     "metadata": {},
     "output_type": "display_data"
    },
    {
     "data": {
      "application/vnd.jupyter.widget-view+json": {
       "model_id": "7fe252158b21407d9307f975ba056c98",
       "version_major": 2,
       "version_minor": 0
      },
      "text/plain": [
       "[collect input data: eval_policy]:   0%|          | 0/1 [00:00<?, ?it/s]"
      ]
     },
     "metadata": {},
     "output_type": "display_data"
    },
    {
     "data": {
      "application/vnd.jupyter.widget-view+json": {
       "model_id": "a684f2944eed4d759724f7cde4c23408",
       "version_major": 2,
       "version_minor": 0
      },
      "text/plain": [
       "[calculate on-policy policy value]:   0%|          | 0/100 [00:00<?, ?it/s]"
      ]
     },
     "metadata": {},
     "output_type": "display_data"
    },
    {
     "data": {
      "application/vnd.jupyter.widget-view+json": {
       "model_id": "f22d955af8d748f79f178068ab686d35",
       "version_major": 2,
       "version_minor": 0
      },
      "text/plain": [
       "[obtain_trajectories]:   0%|          | 0/800 [00:00<?, ?it/s]"
      ]
     },
     "metadata": {},
     "output_type": "display_data"
    },
    {
     "data": {
      "application/vnd.jupyter.widget-view+json": {
       "model_id": "956278f22f0745b989d34c8f61a6e453",
       "version_major": 2,
       "version_minor": 0
      },
      "text/plain": [
       "[obtain_trajectories]:   0%|          | 0/800 [00:00<?, ?it/s]"
      ]
     },
     "metadata": {},
     "output_type": "display_data"
    },
    {
     "data": {
      "application/vnd.jupyter.widget-view+json": {
       "model_id": "576d321acbf144e8b1dc996b6f956b13",
       "version_major": 2,
       "version_minor": 0
      },
      "text/plain": [
       "[fit FQE model]:   0%|          | 0/1 [00:00<?, ?it/s]"
      ]
     },
     "metadata": {},
     "output_type": "display_data"
    },
    {
     "name": "stdout",
     "output_type": "stream",
     "text": [
      "2023-03-16 18:52.08 [debug    ] RoundIterator is selected.\n",
      "2023-03-16 18:52.08 [info     ] Directory is created at d3rlpy_logs/FQE_20230316185208\n",
      "2023-03-16 18:52.08 [debug    ] Fitting scaler...              scaler=min_max\n",
      "2023-03-16 18:52.08 [debug    ] Fitting action scaler...       action_scaler=min_max\n",
      "2023-03-16 18:52.08 [debug    ] Building models...\n",
      "2023-03-16 18:52.08 [debug    ] Models have been built.\n",
      "2023-03-16 18:52.08 [info     ] Parameters are saved to d3rlpy_logs/FQE_20230316185208/params.json params={'action_scaler': {'type': 'min_max', 'params': {'minimum': array([0.1]), 'maximum': array([10.])}}, 'batch_size': 100, 'encoder_factory': {'type': 'vector', 'params': {'hidden_units': [30, 30], 'activation': 'relu', 'use_batch_norm': False, 'dropout_rate': None, 'use_dense': False}}, 'gamma': 0.95, 'generated_maxlen': 100000, 'learning_rate': 0.0001, 'n_critics': 1, 'n_frames': 1, 'n_steps': 1, 'optim_factory': {'optim_cls': 'Adam', 'betas': (0.9, 0.999), 'eps': 1e-08, 'weight_decay': 0, 'amsgrad': False}, 'q_func_factory': {'type': 'mean', 'params': {'share_encoder': False}}, 'real_ratio': 1.0, 'reward_scaler': None, 'scaler': {'type': 'min_max', 'params': {'maximum': array([6.00000000e+00, 3.00000000e+03, 9.99185150e-01, 5.20000000e+04,\n",
      "       1.00000000e+00, 2.00000000e+01, 9.99879644e+00]), 'minimum': array([0.00000000e+00, 1.00000000e+00, 0.00000000e+00, 0.00000000e+00,\n",
      "       0.00000000e+00, 0.00000000e+00, 8.67387421e-05])}}, 'target_update_interval': 100, 'use_gpu': None, 'algorithm': 'FQE', 'observation_shape': (7,), 'action_size': 1}\n"
     ]
    },
    {
     "data": {
      "application/vnd.jupyter.widget-view+json": {
       "model_id": "75e1a13fd29d4eb7ae72bf837c15d143",
       "version_major": 2,
       "version_minor": 0
      },
      "text/plain": [
       "Epoch 1/1:   0%|          | 0/56 [00:00<?, ?it/s]"
      ]
     },
     "metadata": {},
     "output_type": "display_data"
    },
    {
     "name": "stdout",
     "output_type": "stream",
     "text": [
      "2023-03-16 18:52.08 [info     ] FQE_20230316185208: epoch=1 step=56 epoch=1 metrics={'time_sample_batch': 8.403829165867396e-05, 'time_algorithm_update': 0.0010544955730438232, 'loss': 13.643654210226876, 'time_step': 0.0011842421122959682} step=56\n",
      "2023-03-16 18:52.08 [info     ] Model parameters are saved to d3rlpy_logs/FQE_20230316185208/model_56.pt\n"
     ]
    },
    {
     "data": {
      "application/vnd.jupyter.widget-view+json": {
       "model_id": "819c0d9b89e040bcb4c624d948cb2b9e",
       "version_major": 2,
       "version_minor": 0
      },
      "text/plain": [
       "[fit MWL model]:   0%|          | 0/1 [00:00<?, ?it/s]"
      ]
     },
     "metadata": {},
     "output_type": "display_data"
    },
    {
     "data": {
      "application/vnd.jupyter.widget-view+json": {
       "model_id": "da038d7056b84e738770b98037d796c1",
       "version_major": 2,
       "version_minor": 0
      },
      "text/plain": [
       "[fitting_weight_function]:   0%|          | 0/100 [00:00<?, ?it/s]"
      ]
     },
     "metadata": {},
     "output_type": "display_data"
    },
    {
     "data": {
      "application/vnd.jupyter.widget-view+json": {
       "model_id": "a8488740fa7b46e3a1e9f85db93d4a05",
       "version_major": 2,
       "version_minor": 0
      },
      "text/plain": [
       "[fitting_weight_function]:   0%|          | 0/100 [00:00<?, ?it/s]"
      ]
     },
     "metadata": {},
     "output_type": "display_data"
    },
    {
     "data": {
      "application/vnd.jupyter.widget-view+json": {
       "model_id": "dc534f267f884d76a0c64bd9ef96bfb9",
       "version_major": 2,
       "version_minor": 0
      },
      "text/plain": [
       "[collect input data: eval_policy]:   0%|          | 0/1 [00:00<?, ?it/s]"
      ]
     },
     "metadata": {},
     "output_type": "display_data"
    },
    {
     "data": {
      "application/vnd.jupyter.widget-view+json": {
       "model_id": "68775aa3d44c4b0e9db30cc4c8060409",
       "version_major": 2,
       "version_minor": 0
      },
      "text/plain": [
       "[calculate on-policy policy value]:   0%|          | 0/100 [00:00<?, ?it/s]"
      ]
     },
     "metadata": {},
     "output_type": "display_data"
    },
    {
     "data": {
      "application/vnd.jupyter.widget-view+json": {
       "model_id": "4ba350a4d8f24be2948e77ae2e0fdeb9",
       "version_major": 2,
       "version_minor": 0
      },
      "text/plain": [
       "[obtain_trajectories]:   0%|          | 0/800 [00:00<?, ?it/s]"
      ]
     },
     "metadata": {},
     "output_type": "display_data"
    },
    {
     "data": {
      "application/vnd.jupyter.widget-view+json": {
       "model_id": "22574dd4ed2447068d77ff161456f27d",
       "version_major": 2,
       "version_minor": 0
      },
      "text/plain": [
       "[obtain_trajectories]:   0%|          | 0/800 [00:00<?, ?it/s]"
      ]
     },
     "metadata": {},
     "output_type": "display_data"
    },
    {
     "data": {
      "application/vnd.jupyter.widget-view+json": {
       "model_id": "2f53f520913b419ba08d3f70c24b7bbf",
       "version_major": 2,
       "version_minor": 0
      },
      "text/plain": [
       "[fit FQE model]:   0%|          | 0/1 [00:00<?, ?it/s]"
      ]
     },
     "metadata": {},
     "output_type": "display_data"
    },
    {
     "name": "stdout",
     "output_type": "stream",
     "text": [
      "2023-03-16 18:52.38 [debug    ] RoundIterator is selected.\n",
      "2023-03-16 18:52.38 [info     ] Directory is created at d3rlpy_logs/FQE_20230316185238\n",
      "2023-03-16 18:52.38 [debug    ] Fitting scaler...              scaler=min_max\n",
      "2023-03-16 18:52.38 [debug    ] Fitting action scaler...       action_scaler=min_max\n",
      "2023-03-16 18:52.38 [debug    ] Building models...\n",
      "2023-03-16 18:52.38 [debug    ] Models have been built.\n",
      "2023-03-16 18:52.38 [info     ] Parameters are saved to d3rlpy_logs/FQE_20230316185238/params.json params={'action_scaler': {'type': 'min_max', 'params': {'minimum': array([0.1]), 'maximum': array([10.])}}, 'batch_size': 100, 'encoder_factory': {'type': 'vector', 'params': {'hidden_units': [30, 30], 'activation': 'relu', 'use_batch_norm': False, 'dropout_rate': None, 'use_dense': False}}, 'gamma': 0.95, 'generated_maxlen': 100000, 'learning_rate': 0.0001, 'n_critics': 1, 'n_frames': 1, 'n_steps': 1, 'optim_factory': {'optim_cls': 'Adam', 'betas': (0.9, 0.999), 'eps': 1e-08, 'weight_decay': 0, 'amsgrad': False}, 'q_func_factory': {'type': 'mean', 'params': {'share_encoder': False}}, 'real_ratio': 1.0, 'reward_scaler': None, 'scaler': {'type': 'min_max', 'params': {'maximum': array([6.0000000e+00, 3.0000000e+03, 9.9984484e-01, 3.8000000e+04,\n",
      "       1.0000000e+00, 1.9000000e+01, 9.9993706e+00]), 'minimum': array([0.00000000e+00, 1.00000000e+00, 0.00000000e+00, 0.00000000e+00,\n",
      "       0.00000000e+00, 0.00000000e+00, 3.16478625e-05])}}, 'target_update_interval': 100, 'use_gpu': None, 'algorithm': 'FQE', 'observation_shape': (7,), 'action_size': 1}\n"
     ]
    },
    {
     "data": {
      "application/vnd.jupyter.widget-view+json": {
       "model_id": "e6edc8656c5841cf916dda9ad162dfcc",
       "version_major": 2,
       "version_minor": 0
      },
      "text/plain": [
       "Epoch 1/1:   0%|          | 0/56 [00:00<?, ?it/s]"
      ]
     },
     "metadata": {},
     "output_type": "display_data"
    },
    {
     "name": "stdout",
     "output_type": "stream",
     "text": [
      "2023-03-16 18:52.38 [info     ] FQE_20230316185238: epoch=1 step=56 epoch=1 metrics={'time_sample_batch': 8.678010531834193e-05, 'time_algorithm_update': 0.0010766727583748953, 'loss': 12.829245030879974, 'time_step': 0.001203958477292742} step=56\n",
      "2023-03-16 18:52.38 [info     ] Model parameters are saved to d3rlpy_logs/FQE_20230316185238/model_56.pt\n"
     ]
    },
    {
     "data": {
      "application/vnd.jupyter.widget-view+json": {
       "model_id": "50a46fdf0b9b49e9b52692b8003c8c0e",
       "version_major": 2,
       "version_minor": 0
      },
      "text/plain": [
       "[fit MWL model]:   0%|          | 0/1 [00:00<?, ?it/s]"
      ]
     },
     "metadata": {},
     "output_type": "display_data"
    },
    {
     "data": {
      "application/vnd.jupyter.widget-view+json": {
       "model_id": "bdf2369b9ca0496ab1bfd11002dba438",
       "version_major": 2,
       "version_minor": 0
      },
      "text/plain": [
       "[fitting_weight_function]:   0%|          | 0/100 [00:00<?, ?it/s]"
      ]
     },
     "metadata": {},
     "output_type": "display_data"
    },
    {
     "data": {
      "application/vnd.jupyter.widget-view+json": {
       "model_id": "819bf94a0fa44862b4747c87f6d873d2",
       "version_major": 2,
       "version_minor": 0
      },
      "text/plain": [
       "[fitting_weight_function]:   0%|          | 0/100 [00:00<?, ?it/s]"
      ]
     },
     "metadata": {},
     "output_type": "display_data"
    },
    {
     "data": {
      "application/vnd.jupyter.widget-view+json": {
       "model_id": "29d8f72fdd1c4d728d8d70db061b58d9",
       "version_major": 2,
       "version_minor": 0
      },
      "text/plain": [
       "[collect input data: eval_policy]:   0%|          | 0/1 [00:00<?, ?it/s]"
      ]
     },
     "metadata": {},
     "output_type": "display_data"
    },
    {
     "data": {
      "application/vnd.jupyter.widget-view+json": {
       "model_id": "57ce716290644663b1cecc308ddd9978",
       "version_major": 2,
       "version_minor": 0
      },
      "text/plain": [
       "[calculate on-policy policy value]:   0%|          | 0/100 [00:00<?, ?it/s]"
      ]
     },
     "metadata": {},
     "output_type": "display_data"
    },
    {
     "data": {
      "application/vnd.jupyter.widget-view+json": {
       "model_id": "fe95faf31b964bdf8fddbda427acd8fd",
       "version_major": 2,
       "version_minor": 0
      },
      "text/plain": [
       "[obtain_trajectories]:   0%|          | 0/800 [00:00<?, ?it/s]"
      ]
     },
     "metadata": {},
     "output_type": "display_data"
    },
    {
     "data": {
      "application/vnd.jupyter.widget-view+json": {
       "model_id": "9a12637b0e294ddf881b708c7bebecc6",
       "version_major": 2,
       "version_minor": 0
      },
      "text/plain": [
       "[obtain_trajectories]:   0%|          | 0/800 [00:00<?, ?it/s]"
      ]
     },
     "metadata": {},
     "output_type": "display_data"
    },
    {
     "data": {
      "application/vnd.jupyter.widget-view+json": {
       "model_id": "2dd893bbe8f24929846970a203177ab8",
       "version_major": 2,
       "version_minor": 0
      },
      "text/plain": [
       "[fit FQE model]:   0%|          | 0/1 [00:00<?, ?it/s]"
      ]
     },
     "metadata": {},
     "output_type": "display_data"
    },
    {
     "name": "stdout",
     "output_type": "stream",
     "text": [
      "2023-03-16 18:53.07 [debug    ] RoundIterator is selected.\n",
      "2023-03-16 18:53.07 [info     ] Directory is created at d3rlpy_logs/FQE_20230316185307\n",
      "2023-03-16 18:53.07 [debug    ] Fitting scaler...              scaler=min_max\n",
      "2023-03-16 18:53.07 [debug    ] Fitting action scaler...       action_scaler=min_max\n",
      "2023-03-16 18:53.07 [debug    ] Building models...\n",
      "2023-03-16 18:53.07 [debug    ] Models have been built.\n",
      "2023-03-16 18:53.07 [info     ] Parameters are saved to d3rlpy_logs/FQE_20230316185307/params.json params={'action_scaler': {'type': 'min_max', 'params': {'minimum': array([0.1]), 'maximum': array([10.])}}, 'batch_size': 100, 'encoder_factory': {'type': 'vector', 'params': {'hidden_units': [30, 30], 'activation': 'relu', 'use_batch_norm': False, 'dropout_rate': None, 'use_dense': False}}, 'gamma': 0.95, 'generated_maxlen': 100000, 'learning_rate': 0.0001, 'n_critics': 1, 'n_frames': 1, 'n_steps': 1, 'optim_factory': {'optim_cls': 'Adam', 'betas': (0.9, 0.999), 'eps': 1e-08, 'weight_decay': 0, 'amsgrad': False}, 'q_func_factory': {'type': 'mean', 'params': {'share_encoder': False}}, 'real_ratio': 1.0, 'reward_scaler': None, 'scaler': {'type': 'min_max', 'params': {'maximum': array([6.00000000e+00, 3.00000000e+03, 9.99219360e-01, 4.10000000e+04,\n",
      "       1.00000000e+00, 1.70000000e+01, 9.99372984e+00]), 'minimum': array([0.00000000e+00, 1.00000000e+00, 0.00000000e+00, 0.00000000e+00,\n",
      "       0.00000000e+00, 0.00000000e+00, 8.51295447e-04])}}, 'target_update_interval': 100, 'use_gpu': None, 'algorithm': 'FQE', 'observation_shape': (7,), 'action_size': 1}\n"
     ]
    },
    {
     "data": {
      "application/vnd.jupyter.widget-view+json": {
       "model_id": "a1e91416cdbe4c85bcba0f264e697b9f",
       "version_major": 2,
       "version_minor": 0
      },
      "text/plain": [
       "Epoch 1/1:   0%|          | 0/56 [00:00<?, ?it/s]"
      ]
     },
     "metadata": {},
     "output_type": "display_data"
    },
    {
     "name": "stdout",
     "output_type": "stream",
     "text": [
      "2023-03-16 18:53.07 [info     ] FQE_20230316185307: epoch=1 step=56 epoch=1 metrics={'time_sample_batch': 8.818932941981725e-05, 'time_algorithm_update': 0.001039517777306693, 'loss': 14.09229472705296, 'time_step': 0.0011694346155439103} step=56\n",
      "2023-03-16 18:53.07 [info     ] Model parameters are saved to d3rlpy_logs/FQE_20230316185307/model_56.pt\n"
     ]
    },
    {
     "data": {
      "application/vnd.jupyter.widget-view+json": {
       "model_id": "cf691f2f8b384bc7b2bca1e8b0103945",
       "version_major": 2,
       "version_minor": 0
      },
      "text/plain": [
       "[fit MWL model]:   0%|          | 0/1 [00:00<?, ?it/s]"
      ]
     },
     "metadata": {},
     "output_type": "display_data"
    },
    {
     "data": {
      "application/vnd.jupyter.widget-view+json": {
       "model_id": "d4012c79c5204e32980f6c0ad91f993f",
       "version_major": 2,
       "version_minor": 0
      },
      "text/plain": [
       "[fitting_weight_function]:   0%|          | 0/100 [00:00<?, ?it/s]"
      ]
     },
     "metadata": {},
     "output_type": "display_data"
    },
    {
     "data": {
      "application/vnd.jupyter.widget-view+json": {
       "model_id": "70d371051aeb4e0c832593aae658a150",
       "version_major": 2,
       "version_minor": 0
      },
      "text/plain": [
       "[fitting_weight_function]:   0%|          | 0/100 [00:00<?, ?it/s]"
      ]
     },
     "metadata": {},
     "output_type": "display_data"
    },
    {
     "data": {
      "application/vnd.jupyter.widget-view+json": {
       "model_id": "21e0fa2dd5a84636879a0cfd5205ecc3",
       "version_major": 2,
       "version_minor": 0
      },
      "text/plain": [
       "[collect input data: eval_policy]:   0%|          | 0/1 [00:00<?, ?it/s]"
      ]
     },
     "metadata": {},
     "output_type": "display_data"
    },
    {
     "data": {
      "application/vnd.jupyter.widget-view+json": {
       "model_id": "191eaa436dc84cdeae9a5a89db5d19ab",
       "version_major": 2,
       "version_minor": 0
      },
      "text/plain": [
       "[calculate on-policy policy value]:   0%|          | 0/100 [00:00<?, ?it/s]"
      ]
     },
     "metadata": {},
     "output_type": "display_data"
    },
    {
     "data": {
      "application/vnd.jupyter.widget-view+json": {
       "model_id": "fcf8e7e24c9e43c2a4afefe0f8432caf",
       "version_major": 2,
       "version_minor": 0
      },
      "text/plain": [
       "[obtain_trajectories]:   0%|          | 0/800 [00:00<?, ?it/s]"
      ]
     },
     "metadata": {},
     "output_type": "display_data"
    },
    {
     "data": {
      "application/vnd.jupyter.widget-view+json": {
       "model_id": "ce5d13c8c66541b38dc52f08ffa3a7c5",
       "version_major": 2,
       "version_minor": 0
      },
      "text/plain": [
       "[obtain_trajectories]:   0%|          | 0/800 [00:00<?, ?it/s]"
      ]
     },
     "metadata": {},
     "output_type": "display_data"
    },
    {
     "data": {
      "application/vnd.jupyter.widget-view+json": {
       "model_id": "e7763c0cb8ff40a0af10938b50c51567",
       "version_major": 2,
       "version_minor": 0
      },
      "text/plain": [
       "[fit FQE model]:   0%|          | 0/1 [00:00<?, ?it/s]"
      ]
     },
     "metadata": {},
     "output_type": "display_data"
    },
    {
     "name": "stdout",
     "output_type": "stream",
     "text": [
      "2023-03-16 18:53.37 [debug    ] RoundIterator is selected.\n",
      "2023-03-16 18:53.37 [info     ] Directory is created at d3rlpy_logs/FQE_20230316185337\n",
      "2023-03-16 18:53.37 [debug    ] Fitting scaler...              scaler=min_max\n",
      "2023-03-16 18:53.37 [debug    ] Fitting action scaler...       action_scaler=min_max\n",
      "2023-03-16 18:53.37 [debug    ] Building models...\n",
      "2023-03-16 18:53.37 [debug    ] Models have been built.\n",
      "2023-03-16 18:53.37 [info     ] Parameters are saved to d3rlpy_logs/FQE_20230316185337/params.json params={'action_scaler': {'type': 'min_max', 'params': {'minimum': array([0.1]), 'maximum': array([10.])}}, 'batch_size': 100, 'encoder_factory': {'type': 'vector', 'params': {'hidden_units': [30, 30], 'activation': 'relu', 'use_batch_norm': False, 'dropout_rate': None, 'use_dense': False}}, 'gamma': 0.95, 'generated_maxlen': 100000, 'learning_rate': 0.0001, 'n_critics': 1, 'n_frames': 1, 'n_steps': 1, 'optim_factory': {'optim_cls': 'Adam', 'betas': (0.9, 0.999), 'eps': 1e-08, 'weight_decay': 0, 'amsgrad': False}, 'q_func_factory': {'type': 'mean', 'params': {'share_encoder': False}}, 'real_ratio': 1.0, 'reward_scaler': None, 'scaler': {'type': 'min_max', 'params': {'maximum': array([6.00000000e+00, 3.00000000e+03, 9.99335548e-01, 6.10000000e+04,\n",
      "       1.00000000e+00, 2.00000000e+01, 9.99980154e+00]), 'minimum': array([0.        , 1.        , 0.        , 0.        , 0.        ,\n",
      "       0.        , 0.00277027])}}, 'target_update_interval': 100, 'use_gpu': None, 'algorithm': 'FQE', 'observation_shape': (7,), 'action_size': 1}\n"
     ]
    },
    {
     "data": {
      "application/vnd.jupyter.widget-view+json": {
       "model_id": "a7d5e3a9cb6c49ab8aa47efa75e95d30",
       "version_major": 2,
       "version_minor": 0
      },
      "text/plain": [
       "Epoch 1/1:   0%|          | 0/56 [00:00<?, ?it/s]"
      ]
     },
     "metadata": {},
     "output_type": "display_data"
    },
    {
     "name": "stdout",
     "output_type": "stream",
     "text": [
      "2023-03-16 18:53.37 [info     ] FQE_20230316185337: epoch=1 step=56 epoch=1 metrics={'time_sample_batch': 8.53921685900007e-05, 'time_algorithm_update': 0.0010485138211931502, 'loss': 13.026208979742867, 'time_step': 0.0011760933058602469} step=56\n",
      "2023-03-16 18:53.37 [info     ] Model parameters are saved to d3rlpy_logs/FQE_20230316185337/model_56.pt\n"
     ]
    },
    {
     "data": {
      "application/vnd.jupyter.widget-view+json": {
       "model_id": "385d8bbd4d584aa8a5e423904f0195b5",
       "version_major": 2,
       "version_minor": 0
      },
      "text/plain": [
       "[fit MWL model]:   0%|          | 0/1 [00:00<?, ?it/s]"
      ]
     },
     "metadata": {},
     "output_type": "display_data"
    },
    {
     "data": {
      "application/vnd.jupyter.widget-view+json": {
       "model_id": "698034daef824beead749b6fb24d919a",
       "version_major": 2,
       "version_minor": 0
      },
      "text/plain": [
       "[fitting_weight_function]:   0%|          | 0/100 [00:00<?, ?it/s]"
      ]
     },
     "metadata": {},
     "output_type": "display_data"
    },
    {
     "data": {
      "application/vnd.jupyter.widget-view+json": {
       "model_id": "3e5eed6a84a1446fa3e28c1b41116acb",
       "version_major": 2,
       "version_minor": 0
      },
      "text/plain": [
       "[fitting_weight_function]:   0%|          | 0/100 [00:00<?, ?it/s]"
      ]
     },
     "metadata": {},
     "output_type": "display_data"
    },
    {
     "data": {
      "application/vnd.jupyter.widget-view+json": {
       "model_id": "d6bcdb183f5241daa5ebfa44e5177411",
       "version_major": 2,
       "version_minor": 0
      },
      "text/plain": [
       "[collect input data: eval_policy]:   0%|          | 0/1 [00:00<?, ?it/s]"
      ]
     },
     "metadata": {},
     "output_type": "display_data"
    },
    {
     "data": {
      "application/vnd.jupyter.widget-view+json": {
       "model_id": "0e1961ad464b4b6c92318dba3796f9ac",
       "version_major": 2,
       "version_minor": 0
      },
      "text/plain": [
       "[calculate on-policy policy value]:   0%|          | 0/100 [00:00<?, ?it/s]"
      ]
     },
     "metadata": {},
     "output_type": "display_data"
    },
    {
     "data": {
      "application/vnd.jupyter.widget-view+json": {
       "model_id": "ec8212d4e8ca44f893eb4bfd09f066ad",
       "version_major": 2,
       "version_minor": 0
      },
      "text/plain": [
       "[obtain_trajectories]:   0%|          | 0/800 [00:00<?, ?it/s]"
      ]
     },
     "metadata": {},
     "output_type": "display_data"
    },
    {
     "data": {
      "application/vnd.jupyter.widget-view+json": {
       "model_id": "aa7e9461857c4316bf5dc2bf2d8736ca",
       "version_major": 2,
       "version_minor": 0
      },
      "text/plain": [
       "[obtain_trajectories]:   0%|          | 0/800 [00:00<?, ?it/s]"
      ]
     },
     "metadata": {},
     "output_type": "display_data"
    },
    {
     "data": {
      "application/vnd.jupyter.widget-view+json": {
       "model_id": "253cca4ad0a04121b141972a3fd2cf28",
       "version_major": 2,
       "version_minor": 0
      },
      "text/plain": [
       "[fit FQE model]:   0%|          | 0/1 [00:00<?, ?it/s]"
      ]
     },
     "metadata": {},
     "output_type": "display_data"
    },
    {
     "name": "stdout",
     "output_type": "stream",
     "text": [
      "2023-03-16 18:54.07 [debug    ] RoundIterator is selected.\n",
      "2023-03-16 18:54.07 [info     ] Directory is created at d3rlpy_logs/FQE_20230316185407\n",
      "2023-03-16 18:54.07 [debug    ] Fitting scaler...              scaler=min_max\n",
      "2023-03-16 18:54.07 [debug    ] Fitting action scaler...       action_scaler=min_max\n",
      "2023-03-16 18:54.07 [debug    ] Building models...\n",
      "2023-03-16 18:54.07 [debug    ] Models have been built.\n",
      "2023-03-16 18:54.07 [info     ] Parameters are saved to d3rlpy_logs/FQE_20230316185407/params.json params={'action_scaler': {'type': 'min_max', 'params': {'minimum': array([0.1]), 'maximum': array([10.])}}, 'batch_size': 100, 'encoder_factory': {'type': 'vector', 'params': {'hidden_units': [30, 30], 'activation': 'relu', 'use_batch_norm': False, 'dropout_rate': None, 'use_dense': False}}, 'gamma': 0.95, 'generated_maxlen': 100000, 'learning_rate': 0.0001, 'n_critics': 1, 'n_frames': 1, 'n_steps': 1, 'optim_factory': {'optim_cls': 'Adam', 'betas': (0.9, 0.999), 'eps': 1e-08, 'weight_decay': 0, 'amsgrad': False}, 'q_func_factory': {'type': 'mean', 'params': {'share_encoder': False}}, 'real_ratio': 1.0, 'reward_scaler': None, 'scaler': {'type': 'min_max', 'params': {'maximum': array([6.00000000e+00, 3.00000000e+03, 9.99223602e-01, 4.45000000e+04,\n",
      "       1.00000000e+00, 1.80000000e+01, 9.99903314e+00]), 'minimum': array([0.00000000e+00, 1.00000000e+00, 0.00000000e+00, 0.00000000e+00,\n",
      "       0.00000000e+00, 0.00000000e+00, 3.00565753e-04])}}, 'target_update_interval': 100, 'use_gpu': None, 'algorithm': 'FQE', 'observation_shape': (7,), 'action_size': 1}\n"
     ]
    },
    {
     "data": {
      "application/vnd.jupyter.widget-view+json": {
       "model_id": "78f1fdcdaebe403d9e13ca36fdaf190c",
       "version_major": 2,
       "version_minor": 0
      },
      "text/plain": [
       "Epoch 1/1:   0%|          | 0/56 [00:00<?, ?it/s]"
      ]
     },
     "metadata": {},
     "output_type": "display_data"
    },
    {
     "name": "stdout",
     "output_type": "stream",
     "text": [
      "2023-03-16 18:54.07 [info     ] FQE_20230316185407: epoch=1 step=56 epoch=1 metrics={'time_sample_batch': 8.961984089442662e-05, 'time_algorithm_update': 0.0010444649628230504, 'loss': 13.955668457916804, 'time_step': 0.0011737346649169922} step=56\n",
      "2023-03-16 18:54.07 [info     ] Model parameters are saved to d3rlpy_logs/FQE_20230316185407/model_56.pt\n"
     ]
    },
    {
     "data": {
      "application/vnd.jupyter.widget-view+json": {
       "model_id": "3f9633fb0ac44edb800770139a252511",
       "version_major": 2,
       "version_minor": 0
      },
      "text/plain": [
       "[fit MWL model]:   0%|          | 0/1 [00:00<?, ?it/s]"
      ]
     },
     "metadata": {},
     "output_type": "display_data"
    },
    {
     "data": {
      "application/vnd.jupyter.widget-view+json": {
       "model_id": "0ac5172b960b48da93398bd9ca117662",
       "version_major": 2,
       "version_minor": 0
      },
      "text/plain": [
       "[fitting_weight_function]:   0%|          | 0/100 [00:00<?, ?it/s]"
      ]
     },
     "metadata": {},
     "output_type": "display_data"
    },
    {
     "data": {
      "application/vnd.jupyter.widget-view+json": {
       "model_id": "b26d6e757dc14495b706ab59a7bd37f6",
       "version_major": 2,
       "version_minor": 0
      },
      "text/plain": [
       "[fitting_weight_function]:   0%|          | 0/100 [00:00<?, ?it/s]"
      ]
     },
     "metadata": {},
     "output_type": "display_data"
    },
    {
     "data": {
      "application/vnd.jupyter.widget-view+json": {
       "model_id": "b1f4e7be3bbb4b13a1aeacbb281c0ecf",
       "version_major": 2,
       "version_minor": 0
      },
      "text/plain": [
       "[collect input data: eval_policy]:   0%|          | 0/1 [00:00<?, ?it/s]"
      ]
     },
     "metadata": {},
     "output_type": "display_data"
    },
    {
     "data": {
      "application/vnd.jupyter.widget-view+json": {
       "model_id": "040fed4840f04fdfbe9ae8093f4ba424",
       "version_major": 2,
       "version_minor": 0
      },
      "text/plain": [
       "[calculate on-policy policy value]:   0%|          | 0/100 [00:00<?, ?it/s]"
      ]
     },
     "metadata": {},
     "output_type": "display_data"
    },
    {
     "data": {
      "application/vnd.jupyter.widget-view+json": {
       "model_id": "8d43a67429e8434ab626abbe843ed1f0",
       "version_major": 2,
       "version_minor": 0
      },
      "text/plain": [
       "[obtain_trajectories]:   0%|          | 0/800 [00:00<?, ?it/s]"
      ]
     },
     "metadata": {},
     "output_type": "display_data"
    },
    {
     "data": {
      "application/vnd.jupyter.widget-view+json": {
       "model_id": "35c78416dee44abb8616155e35a480dd",
       "version_major": 2,
       "version_minor": 0
      },
      "text/plain": [
       "[obtain_trajectories]:   0%|          | 0/800 [00:00<?, ?it/s]"
      ]
     },
     "metadata": {},
     "output_type": "display_data"
    },
    {
     "data": {
      "application/vnd.jupyter.widget-view+json": {
       "model_id": "58c1dc3245364d7a847b3542c73d1188",
       "version_major": 2,
       "version_minor": 0
      },
      "text/plain": [
       "[fit FQE model]:   0%|          | 0/1 [00:00<?, ?it/s]"
      ]
     },
     "metadata": {},
     "output_type": "display_data"
    },
    {
     "name": "stdout",
     "output_type": "stream",
     "text": [
      "2023-03-16 18:54.40 [debug    ] RoundIterator is selected.\n",
      "2023-03-16 18:54.40 [info     ] Directory is created at d3rlpy_logs/FQE_20230316185440\n",
      "2023-03-16 18:54.40 [debug    ] Fitting scaler...              scaler=min_max\n",
      "2023-03-16 18:54.40 [debug    ] Fitting action scaler...       action_scaler=min_max\n",
      "2023-03-16 18:54.40 [debug    ] Building models...\n",
      "2023-03-16 18:54.40 [debug    ] Models have been built.\n",
      "2023-03-16 18:54.40 [info     ] Parameters are saved to d3rlpy_logs/FQE_20230316185440/params.json params={'action_scaler': {'type': 'min_max', 'params': {'minimum': array([0.1]), 'maximum': array([10.])}}, 'batch_size': 100, 'encoder_factory': {'type': 'vector', 'params': {'hidden_units': [30, 30], 'activation': 'relu', 'use_batch_norm': False, 'dropout_rate': None, 'use_dense': False}}, 'gamma': 0.95, 'generated_maxlen': 100000, 'learning_rate': 0.0001, 'n_critics': 1, 'n_frames': 1, 'n_steps': 1, 'optim_factory': {'optim_cls': 'Adam', 'betas': (0.9, 0.999), 'eps': 1e-08, 'weight_decay': 0, 'amsgrad': False}, 'q_func_factory': {'type': 'mean', 'params': {'share_encoder': False}}, 'real_ratio': 1.0, 'reward_scaler': None, 'scaler': {'type': 'min_max', 'params': {'maximum': array([6.00000000e+00, 3.00000000e+03, 9.99950706e-01, 3.60000000e+04,\n",
      "       1.00000000e+00, 2.00000000e+01, 9.99920496e+00]), 'minimum': array([0.        , 1.        , 0.        , 0.        , 0.        ,\n",
      "       0.        , 0.00222106])}}, 'target_update_interval': 100, 'use_gpu': None, 'algorithm': 'FQE', 'observation_shape': (7,), 'action_size': 1}\n"
     ]
    },
    {
     "data": {
      "application/vnd.jupyter.widget-view+json": {
       "model_id": "3e727b41b0ed4d9fb0157a16d94ccf8a",
       "version_major": 2,
       "version_minor": 0
      },
      "text/plain": [
       "Epoch 1/1:   0%|          | 0/56 [00:00<?, ?it/s]"
      ]
     },
     "metadata": {},
     "output_type": "display_data"
    },
    {
     "name": "stdout",
     "output_type": "stream",
     "text": [
      "2023-03-16 18:54.40 [info     ] FQE_20230316185440: epoch=1 step=56 epoch=1 metrics={'time_sample_batch': 8.156044142586845e-05, 'time_algorithm_update': 0.0010984625135149275, 'loss': 12.645907163619995, 'time_step': 0.0012269956724984305} step=56\n",
      "2023-03-16 18:54.40 [info     ] Model parameters are saved to d3rlpy_logs/FQE_20230316185440/model_56.pt\n"
     ]
    },
    {
     "data": {
      "application/vnd.jupyter.widget-view+json": {
       "model_id": "23165bee8ded4f1da450b65e8a0edb3d",
       "version_major": 2,
       "version_minor": 0
      },
      "text/plain": [
       "[fit MWL model]:   0%|          | 0/1 [00:00<?, ?it/s]"
      ]
     },
     "metadata": {},
     "output_type": "display_data"
    },
    {
     "data": {
      "application/vnd.jupyter.widget-view+json": {
       "model_id": "b3796945af4c42f5b4a1a5bc4d64abd6",
       "version_major": 2,
       "version_minor": 0
      },
      "text/plain": [
       "[fitting_weight_function]:   0%|          | 0/100 [00:00<?, ?it/s]"
      ]
     },
     "metadata": {},
     "output_type": "display_data"
    },
    {
     "data": {
      "application/vnd.jupyter.widget-view+json": {
       "model_id": "e29f30dc63ae4c7d9653808140634da0",
       "version_major": 2,
       "version_minor": 0
      },
      "text/plain": [
       "[fitting_weight_function]:   0%|          | 0/100 [00:00<?, ?it/s]"
      ]
     },
     "metadata": {},
     "output_type": "display_data"
    },
    {
     "data": {
      "application/vnd.jupyter.widget-view+json": {
       "model_id": "5c4e7c50ef5342b0b1b7867ed659d0d3",
       "version_major": 2,
       "version_minor": 0
      },
      "text/plain": [
       "[collect input data: eval_policy]:   0%|          | 0/1 [00:00<?, ?it/s]"
      ]
     },
     "metadata": {},
     "output_type": "display_data"
    },
    {
     "data": {
      "application/vnd.jupyter.widget-view+json": {
       "model_id": "cdabdafafe064f7db133bba88d077249",
       "version_major": 2,
       "version_minor": 0
      },
      "text/plain": [
       "[calculate on-policy policy value]:   0%|          | 0/100 [00:00<?, ?it/s]"
      ]
     },
     "metadata": {},
     "output_type": "display_data"
    },
    {
     "data": {
      "application/vnd.jupyter.widget-view+json": {
       "model_id": "c17451f3ab3843e3ae552516acfcf945",
       "version_major": 2,
       "version_minor": 0
      },
      "text/plain": [
       "[obtain_trajectories]:   0%|          | 0/800 [00:00<?, ?it/s]"
      ]
     },
     "metadata": {},
     "output_type": "display_data"
    },
    {
     "data": {
      "application/vnd.jupyter.widget-view+json": {
       "model_id": "8e9dfde89969491a91958f2a38266e5b",
       "version_major": 2,
       "version_minor": 0
      },
      "text/plain": [
       "[obtain_trajectories]:   0%|          | 0/800 [00:00<?, ?it/s]"
      ]
     },
     "metadata": {},
     "output_type": "display_data"
    },
    {
     "data": {
      "application/vnd.jupyter.widget-view+json": {
       "model_id": "f6fa4227f4a749308154dd236fbb738b",
       "version_major": 2,
       "version_minor": 0
      },
      "text/plain": [
       "[fit FQE model]:   0%|          | 0/1 [00:00<?, ?it/s]"
      ]
     },
     "metadata": {},
     "output_type": "display_data"
    },
    {
     "name": "stdout",
     "output_type": "stream",
     "text": [
      "2023-03-16 18:55.11 [debug    ] RoundIterator is selected.\n",
      "2023-03-16 18:55.11 [info     ] Directory is created at d3rlpy_logs/FQE_20230316185511\n",
      "2023-03-16 18:55.11 [debug    ] Fitting scaler...              scaler=min_max\n",
      "2023-03-16 18:55.11 [debug    ] Fitting action scaler...       action_scaler=min_max\n",
      "2023-03-16 18:55.11 [debug    ] Building models...\n",
      "2023-03-16 18:55.11 [debug    ] Models have been built.\n",
      "2023-03-16 18:55.11 [info     ] Parameters are saved to d3rlpy_logs/FQE_20230316185511/params.json params={'action_scaler': {'type': 'min_max', 'params': {'minimum': array([0.1]), 'maximum': array([10.])}}, 'batch_size': 100, 'encoder_factory': {'type': 'vector', 'params': {'hidden_units': [30, 30], 'activation': 'relu', 'use_batch_norm': False, 'dropout_rate': None, 'use_dense': False}}, 'gamma': 0.95, 'generated_maxlen': 100000, 'learning_rate': 0.0001, 'n_critics': 1, 'n_frames': 1, 'n_steps': 1, 'optim_factory': {'optim_cls': 'Adam', 'betas': (0.9, 0.999), 'eps': 1e-08, 'weight_decay': 0, 'amsgrad': False}, 'q_func_factory': {'type': 'mean', 'params': {'share_encoder': False}}, 'real_ratio': 1.0, 'reward_scaler': None, 'scaler': {'type': 'min_max', 'params': {'maximum': array([6.00000000e+00, 3.00000000e+03, 9.99217527e-01, 5.10000000e+04,\n",
      "       1.00000000e+00, 1.70000000e+01, 9.99669759e+00]), 'minimum': array([0.        , 1.        , 0.        , 0.        , 0.        ,\n",
      "       0.        , 0.00110667])}}, 'target_update_interval': 100, 'use_gpu': None, 'algorithm': 'FQE', 'observation_shape': (7,), 'action_size': 1}\n"
     ]
    },
    {
     "data": {
      "application/vnd.jupyter.widget-view+json": {
       "model_id": "9b37e23de13f478b9a3d0c5cbe6cef50",
       "version_major": 2,
       "version_minor": 0
      },
      "text/plain": [
       "Epoch 1/1:   0%|          | 0/56 [00:00<?, ?it/s]"
      ]
     },
     "metadata": {},
     "output_type": "display_data"
    },
    {
     "name": "stdout",
     "output_type": "stream",
     "text": [
      "2023-03-16 18:55.11 [info     ] FQE_20230316185511: epoch=1 step=56 epoch=1 metrics={'time_sample_batch': 8.440869195120675e-05, 'time_algorithm_update': 0.0010801851749420166, 'loss': 13.176154119627816, 'time_step': 0.001216799020767212} step=56\n",
      "2023-03-16 18:55.11 [info     ] Model parameters are saved to d3rlpy_logs/FQE_20230316185511/model_56.pt\n"
     ]
    },
    {
     "data": {
      "application/vnd.jupyter.widget-view+json": {
       "model_id": "573aec268951480e8a6d43fb10d94209",
       "version_major": 2,
       "version_minor": 0
      },
      "text/plain": [
       "[fit MWL model]:   0%|          | 0/1 [00:00<?, ?it/s]"
      ]
     },
     "metadata": {},
     "output_type": "display_data"
    },
    {
     "data": {
      "application/vnd.jupyter.widget-view+json": {
       "model_id": "d002964316f84c2fa3682dabdfe15073",
       "version_major": 2,
       "version_minor": 0
      },
      "text/plain": [
       "[fitting_weight_function]:   0%|          | 0/100 [00:00<?, ?it/s]"
      ]
     },
     "metadata": {},
     "output_type": "display_data"
    },
    {
     "data": {
      "application/vnd.jupyter.widget-view+json": {
       "model_id": "bdf9092163324356942c0c9239359264",
       "version_major": 2,
       "version_minor": 0
      },
      "text/plain": [
       "[fitting_weight_function]:   0%|          | 0/100 [00:00<?, ?it/s]"
      ]
     },
     "metadata": {},
     "output_type": "display_data"
    },
    {
     "data": {
      "application/vnd.jupyter.widget-view+json": {
       "model_id": "b66f8360e0ee416f829be7812f5f5452",
       "version_major": 2,
       "version_minor": 0
      },
      "text/plain": [
       "[collect input data: eval_policy]:   0%|          | 0/1 [00:00<?, ?it/s]"
      ]
     },
     "metadata": {},
     "output_type": "display_data"
    },
    {
     "data": {
      "application/vnd.jupyter.widget-view+json": {
       "model_id": "6a08fc5add1846b49b2ac0a43307b0fd",
       "version_major": 2,
       "version_minor": 0
      },
      "text/plain": [
       "[calculate on-policy policy value]:   0%|          | 0/100 [00:00<?, ?it/s]"
      ]
     },
     "metadata": {},
     "output_type": "display_data"
    },
    {
     "data": {
      "application/vnd.jupyter.widget-view+json": {
       "model_id": "4aacb9167b5d4b8e8aa05000a98f6d56",
       "version_major": 2,
       "version_minor": 0
      },
      "text/plain": [
       "[obtain_trajectories]:   0%|          | 0/800 [00:00<?, ?it/s]"
      ]
     },
     "metadata": {},
     "output_type": "display_data"
    },
    {
     "data": {
      "application/vnd.jupyter.widget-view+json": {
       "model_id": "a8525bdd4a8b4fd3a4b535f50aca1265",
       "version_major": 2,
       "version_minor": 0
      },
      "text/plain": [
       "[obtain_trajectories]:   0%|          | 0/800 [00:00<?, ?it/s]"
      ]
     },
     "metadata": {},
     "output_type": "display_data"
    },
    {
     "data": {
      "application/vnd.jupyter.widget-view+json": {
       "model_id": "864e89495da94dc780b827ee49b9c899",
       "version_major": 2,
       "version_minor": 0
      },
      "text/plain": [
       "[fit FQE model]:   0%|          | 0/1 [00:00<?, ?it/s]"
      ]
     },
     "metadata": {},
     "output_type": "display_data"
    },
    {
     "name": "stdout",
     "output_type": "stream",
     "text": [
      "2023-03-16 18:55.42 [debug    ] RoundIterator is selected.\n",
      "2023-03-16 18:55.42 [info     ] Directory is created at d3rlpy_logs/FQE_20230316185542\n",
      "2023-03-16 18:55.42 [debug    ] Fitting scaler...              scaler=min_max\n",
      "2023-03-16 18:55.42 [debug    ] Fitting action scaler...       action_scaler=min_max\n",
      "2023-03-16 18:55.42 [debug    ] Building models...\n",
      "2023-03-16 18:55.42 [debug    ] Models have been built.\n",
      "2023-03-16 18:55.42 [info     ] Parameters are saved to d3rlpy_logs/FQE_20230316185542/params.json params={'action_scaler': {'type': 'min_max', 'params': {'minimum': array([0.1]), 'maximum': array([10.])}}, 'batch_size': 100, 'encoder_factory': {'type': 'vector', 'params': {'hidden_units': [30, 30], 'activation': 'relu', 'use_batch_norm': False, 'dropout_rate': None, 'use_dense': False}}, 'gamma': 0.95, 'generated_maxlen': 100000, 'learning_rate': 0.0001, 'n_critics': 1, 'n_frames': 1, 'n_steps': 1, 'optim_factory': {'optim_cls': 'Adam', 'betas': (0.9, 0.999), 'eps': 1e-08, 'weight_decay': 0, 'amsgrad': False}, 'q_func_factory': {'type': 'mean', 'params': {'share_encoder': False}}, 'real_ratio': 1.0, 'reward_scaler': None, 'scaler': {'type': 'min_max', 'params': {'maximum': array([6.00000000e+00, 3.00000000e+03, 9.99037536e-01, 5.20000000e+04,\n",
      "       1.00000000e+00, 1.70000000e+01, 9.99957834e+00]), 'minimum': array([0.0000000e+00, 1.0000000e+00, 0.0000000e+00, 0.0000000e+00,\n",
      "       0.0000000e+00, 0.0000000e+00, 1.7603974e-04])}}, 'target_update_interval': 100, 'use_gpu': None, 'algorithm': 'FQE', 'observation_shape': (7,), 'action_size': 1}\n"
     ]
    },
    {
     "data": {
      "application/vnd.jupyter.widget-view+json": {
       "model_id": "5eb292ef685042398f2db05ff691230b",
       "version_major": 2,
       "version_minor": 0
      },
      "text/plain": [
       "Epoch 1/1:   0%|          | 0/56 [00:00<?, ?it/s]"
      ]
     },
     "metadata": {},
     "output_type": "display_data"
    },
    {
     "name": "stdout",
     "output_type": "stream",
     "text": [
      "2023-03-16 18:55.43 [info     ] FQE_20230316185542: epoch=1 step=56 epoch=1 metrics={'time_sample_batch': 8.328471864972795e-05, 'time_algorithm_update': 0.0010416252272469656, 'loss': 12.862339845725469, 'time_step': 0.0011741859572274344} step=56\n",
      "2023-03-16 18:55.43 [info     ] Model parameters are saved to d3rlpy_logs/FQE_20230316185542/model_56.pt\n"
     ]
    },
    {
     "data": {
      "application/vnd.jupyter.widget-view+json": {
       "model_id": "f30148f259fc4b28b79c1816c3021254",
       "version_major": 2,
       "version_minor": 0
      },
      "text/plain": [
       "[fit MWL model]:   0%|          | 0/1 [00:00<?, ?it/s]"
      ]
     },
     "metadata": {},
     "output_type": "display_data"
    },
    {
     "data": {
      "application/vnd.jupyter.widget-view+json": {
       "model_id": "15f8dbfc1c564f17a52028d5b4ee67fe",
       "version_major": 2,
       "version_minor": 0
      },
      "text/plain": [
       "[fitting_weight_function]:   0%|          | 0/100 [00:00<?, ?it/s]"
      ]
     },
     "metadata": {},
     "output_type": "display_data"
    },
    {
     "data": {
      "application/vnd.jupyter.widget-view+json": {
       "model_id": "971cf61012724c3fa5451f169e490986",
       "version_major": 2,
       "version_minor": 0
      },
      "text/plain": [
       "[fitting_weight_function]:   0%|          | 0/100 [00:00<?, ?it/s]"
      ]
     },
     "metadata": {},
     "output_type": "display_data"
    },
    {
     "data": {
      "application/vnd.jupyter.widget-view+json": {
       "model_id": "4a4c7034eaf74e0bade05dc0cc10230e",
       "version_major": 2,
       "version_minor": 0
      },
      "text/plain": [
       "[collect input data: eval_policy]:   0%|          | 0/1 [00:00<?, ?it/s]"
      ]
     },
     "metadata": {},
     "output_type": "display_data"
    },
    {
     "data": {
      "application/vnd.jupyter.widget-view+json": {
       "model_id": "3b40ef7dbf6442d4b6098319681421c3",
       "version_major": 2,
       "version_minor": 0
      },
      "text/plain": [
       "[calculate on-policy policy value]:   0%|          | 0/100 [00:00<?, ?it/s]"
      ]
     },
     "metadata": {},
     "output_type": "display_data"
    },
    {
     "data": {
      "application/vnd.jupyter.widget-view+json": {
       "model_id": "09699b0ab5594a9991a0ef450009b532",
       "version_major": 2,
       "version_minor": 0
      },
      "text/plain": [
       "[obtain_trajectories]:   0%|          | 0/800 [00:00<?, ?it/s]"
      ]
     },
     "metadata": {},
     "output_type": "display_data"
    },
    {
     "data": {
      "application/vnd.jupyter.widget-view+json": {
       "model_id": "24c65f1f47f44adf8657d169dc4fa1cf",
       "version_major": 2,
       "version_minor": 0
      },
      "text/plain": [
       "[obtain_trajectories]:   0%|          | 0/800 [00:00<?, ?it/s]"
      ]
     },
     "metadata": {},
     "output_type": "display_data"
    },
    {
     "data": {
      "application/vnd.jupyter.widget-view+json": {
       "model_id": "a51e13371ca04b4991714a14805bad2b",
       "version_major": 2,
       "version_minor": 0
      },
      "text/plain": [
       "[fit FQE model]:   0%|          | 0/1 [00:00<?, ?it/s]"
      ]
     },
     "metadata": {},
     "output_type": "display_data"
    },
    {
     "name": "stdout",
     "output_type": "stream",
     "text": [
      "2023-03-16 18:56.14 [debug    ] RoundIterator is selected.\n",
      "2023-03-16 18:56.14 [info     ] Directory is created at d3rlpy_logs/FQE_20230316185614\n",
      "2023-03-16 18:56.14 [debug    ] Fitting scaler...              scaler=min_max\n",
      "2023-03-16 18:56.14 [debug    ] Fitting action scaler...       action_scaler=min_max\n",
      "2023-03-16 18:56.14 [debug    ] Building models...\n",
      "2023-03-16 18:56.14 [debug    ] Models have been built.\n",
      "2023-03-16 18:56.14 [info     ] Parameters are saved to d3rlpy_logs/FQE_20230316185614/params.json params={'action_scaler': {'type': 'min_max', 'params': {'minimum': array([0.1]), 'maximum': array([10.])}}, 'batch_size': 100, 'encoder_factory': {'type': 'vector', 'params': {'hidden_units': [30, 30], 'activation': 'relu', 'use_batch_norm': False, 'dropout_rate': None, 'use_dense': False}}, 'gamma': 0.95, 'generated_maxlen': 100000, 'learning_rate': 0.0001, 'n_critics': 1, 'n_frames': 1, 'n_steps': 1, 'optim_factory': {'optim_cls': 'Adam', 'betas': (0.9, 0.999), 'eps': 1e-08, 'weight_decay': 0, 'amsgrad': False}, 'q_func_factory': {'type': 'mean', 'params': {'share_encoder': False}}, 'real_ratio': 1.0, 'reward_scaler': None, 'scaler': {'type': 'min_max', 'params': {'maximum': array([6.00000000e+00, 3.00000000e+03, 9.99084249e-01, 6.10000000e+04,\n",
      "       1.00000000e+00, 2.00000000e+01, 9.99879835e+00]), 'minimum': array([0.00000000e+00, 1.00000000e+00, 0.00000000e+00, 0.00000000e+00,\n",
      "       0.00000000e+00, 0.00000000e+00, 2.67230067e-04])}}, 'target_update_interval': 100, 'use_gpu': None, 'algorithm': 'FQE', 'observation_shape': (7,), 'action_size': 1}\n"
     ]
    },
    {
     "data": {
      "application/vnd.jupyter.widget-view+json": {
       "model_id": "104a413aa6644828a442f4f8df72d207",
       "version_major": 2,
       "version_minor": 0
      },
      "text/plain": [
       "Epoch 1/1:   0%|          | 0/56 [00:00<?, ?it/s]"
      ]
     },
     "metadata": {},
     "output_type": "display_data"
    },
    {
     "name": "stdout",
     "output_type": "stream",
     "text": [
      "2023-03-16 18:56.14 [info     ] FQE_20230316185614: epoch=1 step=56 epoch=1 metrics={'time_sample_batch': 9.125045367649623e-05, 'time_algorithm_update': 0.0010905180658612932, 'loss': 13.302642047405243, 'time_step': 0.001227485282080514} step=56\n",
      "2023-03-16 18:56.14 [info     ] Model parameters are saved to d3rlpy_logs/FQE_20230316185614/model_56.pt\n"
     ]
    },
    {
     "data": {
      "application/vnd.jupyter.widget-view+json": {
       "model_id": "186bf148628f423d910415eaf42a0df5",
       "version_major": 2,
       "version_minor": 0
      },
      "text/plain": [
       "[fit MWL model]:   0%|          | 0/1 [00:00<?, ?it/s]"
      ]
     },
     "metadata": {},
     "output_type": "display_data"
    },
    {
     "data": {
      "application/vnd.jupyter.widget-view+json": {
       "model_id": "7236d7a088154a319be6d7b3dab91a13",
       "version_major": 2,
       "version_minor": 0
      },
      "text/plain": [
       "[fitting_weight_function]:   0%|          | 0/100 [00:00<?, ?it/s]"
      ]
     },
     "metadata": {},
     "output_type": "display_data"
    },
    {
     "data": {
      "application/vnd.jupyter.widget-view+json": {
       "model_id": "797acba0bf68458697ec5435e2e6882a",
       "version_major": 2,
       "version_minor": 0
      },
      "text/plain": [
       "[fitting_weight_function]:   0%|          | 0/100 [00:00<?, ?it/s]"
      ]
     },
     "metadata": {},
     "output_type": "display_data"
    },
    {
     "data": {
      "application/vnd.jupyter.widget-view+json": {
       "model_id": "22afedf8fd604ff1a86bad781ce1c0c7",
       "version_major": 2,
       "version_minor": 0
      },
      "text/plain": [
       "[collect input data: eval_policy]:   0%|          | 0/1 [00:00<?, ?it/s]"
      ]
     },
     "metadata": {},
     "output_type": "display_data"
    },
    {
     "data": {
      "application/vnd.jupyter.widget-view+json": {
       "model_id": "ac240fc9cd6e4dc196f070256eb6c2c3",
       "version_major": 2,
       "version_minor": 0
      },
      "text/plain": [
       "[calculate on-policy policy value]:   0%|          | 0/100 [00:00<?, ?it/s]"
      ]
     },
     "metadata": {},
     "output_type": "display_data"
    },
    {
     "data": {
      "application/vnd.jupyter.widget-view+json": {
       "model_id": "405101aad40447e6873cbbdf41ac820c",
       "version_major": 2,
       "version_minor": 0
      },
      "text/plain": [
       "[obtain_trajectories]:   0%|          | 0/800 [00:00<?, ?it/s]"
      ]
     },
     "metadata": {},
     "output_type": "display_data"
    },
    {
     "data": {
      "application/vnd.jupyter.widget-view+json": {
       "model_id": "6c77c8ad372945c39b30744f16554787",
       "version_major": 2,
       "version_minor": 0
      },
      "text/plain": [
       "[obtain_trajectories]:   0%|          | 0/800 [00:00<?, ?it/s]"
      ]
     },
     "metadata": {},
     "output_type": "display_data"
    },
    {
     "data": {
      "application/vnd.jupyter.widget-view+json": {
       "model_id": "925d5b1733464ee0ba0a2d75b8e997ef",
       "version_major": 2,
       "version_minor": 0
      },
      "text/plain": [
       "[fit FQE model]:   0%|          | 0/1 [00:00<?, ?it/s]"
      ]
     },
     "metadata": {},
     "output_type": "display_data"
    },
    {
     "name": "stdout",
     "output_type": "stream",
     "text": [
      "2023-03-16 18:56.45 [debug    ] RoundIterator is selected.\n",
      "2023-03-16 18:56.45 [info     ] Directory is created at d3rlpy_logs/FQE_20230316185645\n",
      "2023-03-16 18:56.45 [debug    ] Fitting scaler...              scaler=min_max\n",
      "2023-03-16 18:56.45 [debug    ] Fitting action scaler...       action_scaler=min_max\n",
      "2023-03-16 18:56.45 [debug    ] Building models...\n",
      "2023-03-16 18:56.45 [debug    ] Models have been built.\n",
      "2023-03-16 18:56.45 [info     ] Parameters are saved to d3rlpy_logs/FQE_20230316185645/params.json params={'action_scaler': {'type': 'min_max', 'params': {'minimum': array([0.1]), 'maximum': array([10.])}}, 'batch_size': 100, 'encoder_factory': {'type': 'vector', 'params': {'hidden_units': [30, 30], 'activation': 'relu', 'use_batch_norm': False, 'dropout_rate': None, 'use_dense': False}}, 'gamma': 0.95, 'generated_maxlen': 100000, 'learning_rate': 0.0001, 'n_critics': 1, 'n_frames': 1, 'n_steps': 1, 'optim_factory': {'optim_cls': 'Adam', 'betas': (0.9, 0.999), 'eps': 1e-08, 'weight_decay': 0, 'amsgrad': False}, 'q_func_factory': {'type': 'mean', 'params': {'share_encoder': False}}, 'real_ratio': 1.0, 'reward_scaler': None, 'scaler': {'type': 'min_max', 'params': {'maximum': array([6.00000000e+00, 3.00000000e+03, 9.99122807e-01, 4.10000000e+04,\n",
      "       1.00000000e+00, 2.00000000e+01, 9.99978573e+00]), 'minimum': array([0.       , 1.       , 0.       , 0.       , 0.       , 0.       ,\n",
      "       0.0033812])}}, 'target_update_interval': 100, 'use_gpu': None, 'algorithm': 'FQE', 'observation_shape': (7,), 'action_size': 1}\n"
     ]
    },
    {
     "data": {
      "application/vnd.jupyter.widget-view+json": {
       "model_id": "f7d202d5af7e48d78846aca3646454fc",
       "version_major": 2,
       "version_minor": 0
      },
      "text/plain": [
       "Epoch 1/1:   0%|          | 0/56 [00:00<?, ?it/s]"
      ]
     },
     "metadata": {},
     "output_type": "display_data"
    },
    {
     "name": "stdout",
     "output_type": "stream",
     "text": [
      "2023-03-16 18:56.45 [info     ] FQE_20230316185645: epoch=1 step=56 epoch=1 metrics={'time_sample_batch': 8.653742926461356e-05, 'time_algorithm_update': 0.0010543337890080043, 'loss': 13.75250666482108, 'time_step': 0.0011896065303257533} step=56\n",
      "2023-03-16 18:56.45 [info     ] Model parameters are saved to d3rlpy_logs/FQE_20230316185645/model_56.pt\n"
     ]
    },
    {
     "data": {
      "application/vnd.jupyter.widget-view+json": {
       "model_id": "89a80b9c4412476f942ea23d2faa7a5a",
       "version_major": 2,
       "version_minor": 0
      },
      "text/plain": [
       "[fit MWL model]:   0%|          | 0/1 [00:00<?, ?it/s]"
      ]
     },
     "metadata": {},
     "output_type": "display_data"
    },
    {
     "data": {
      "application/vnd.jupyter.widget-view+json": {
       "model_id": "906fc9486b5b46eb86336eec41e2ab56",
       "version_major": 2,
       "version_minor": 0
      },
      "text/plain": [
       "[fitting_weight_function]:   0%|          | 0/100 [00:00<?, ?it/s]"
      ]
     },
     "metadata": {},
     "output_type": "display_data"
    },
    {
     "data": {
      "application/vnd.jupyter.widget-view+json": {
       "model_id": "b283f51b461b4db496ff5a2d3ffa3d1b",
       "version_major": 2,
       "version_minor": 0
      },
      "text/plain": [
       "[fitting_weight_function]:   0%|          | 0/100 [00:00<?, ?it/s]"
      ]
     },
     "metadata": {},
     "output_type": "display_data"
    },
    {
     "data": {
      "application/vnd.jupyter.widget-view+json": {
       "model_id": "8f972611c80e420a8ffc592f99224894",
       "version_major": 2,
       "version_minor": 0
      },
      "text/plain": [
       "[collect input data: eval_policy]:   0%|          | 0/1 [00:00<?, ?it/s]"
      ]
     },
     "metadata": {},
     "output_type": "display_data"
    },
    {
     "data": {
      "application/vnd.jupyter.widget-view+json": {
       "model_id": "d249d01f3d65468b9c2c2886a37afa57",
       "version_major": 2,
       "version_minor": 0
      },
      "text/plain": [
       "[calculate on-policy policy value]:   0%|          | 0/100 [00:00<?, ?it/s]"
      ]
     },
     "metadata": {},
     "output_type": "display_data"
    },
    {
     "data": {
      "application/vnd.jupyter.widget-view+json": {
       "model_id": "0a244c31e9a24ba89284efd35dc25743",
       "version_major": 2,
       "version_minor": 0
      },
      "text/plain": [
       "[obtain_trajectories]:   0%|          | 0/1600 [00:00<?, ?it/s]"
      ]
     },
     "metadata": {},
     "output_type": "display_data"
    },
    {
     "data": {
      "application/vnd.jupyter.widget-view+json": {
       "model_id": "23bfb3300e284b03ac87c7a94cf23a26",
       "version_major": 2,
       "version_minor": 0
      },
      "text/plain": [
       "[obtain_trajectories]:   0%|          | 0/1600 [00:00<?, ?it/s]"
      ]
     },
     "metadata": {},
     "output_type": "display_data"
    },
    {
     "data": {
      "application/vnd.jupyter.widget-view+json": {
       "model_id": "03266623742c40609b17c9e469981e17",
       "version_major": 2,
       "version_minor": 0
      },
      "text/plain": [
       "[fit FQE model]:   0%|          | 0/1 [00:00<?, ?it/s]"
      ]
     },
     "metadata": {},
     "output_type": "display_data"
    },
    {
     "name": "stdout",
     "output_type": "stream",
     "text": [
      "2023-03-16 18:57.28 [debug    ] RoundIterator is selected.\n",
      "2023-03-16 18:57.28 [info     ] Directory is created at d3rlpy_logs/FQE_20230316185728\n",
      "2023-03-16 18:57.28 [debug    ] Fitting scaler...              scaler=min_max\n",
      "2023-03-16 18:57.28 [debug    ] Fitting action scaler...       action_scaler=min_max\n",
      "2023-03-16 18:57.28 [debug    ] Building models...\n",
      "2023-03-16 18:57.28 [debug    ] Models have been built.\n",
      "2023-03-16 18:57.28 [info     ] Parameters are saved to d3rlpy_logs/FQE_20230316185728/params.json params={'action_scaler': {'type': 'min_max', 'params': {'minimum': array([0.1]), 'maximum': array([10.])}}, 'batch_size': 100, 'encoder_factory': {'type': 'vector', 'params': {'hidden_units': [30, 30], 'activation': 'relu', 'use_batch_norm': False, 'dropout_rate': None, 'use_dense': False}}, 'gamma': 0.95, 'generated_maxlen': 100000, 'learning_rate': 0.0001, 'n_critics': 1, 'n_frames': 1, 'n_steps': 1, 'optim_factory': {'optim_cls': 'Adam', 'betas': (0.9, 0.999), 'eps': 1e-08, 'weight_decay': 0, 'amsgrad': False}, 'q_func_factory': {'type': 'mean', 'params': {'share_encoder': False}}, 'real_ratio': 1.0, 'reward_scaler': None, 'scaler': {'type': 'min_max', 'params': {'maximum': array([6.00000000e+00, 3.00000000e+03, 9.99684034e-01, 5.20000000e+04,\n",
      "       1.00000000e+00, 2.00000000e+01, 9.99932216e+00]), 'minimum': array([0.0000000e+00, 1.0000000e+00, 0.0000000e+00, 0.0000000e+00,\n",
      "       0.0000000e+00, 0.0000000e+00, 6.3173062e-04])}}, 'target_update_interval': 100, 'use_gpu': None, 'algorithm': 'FQE', 'observation_shape': (7,), 'action_size': 1}\n"
     ]
    },
    {
     "data": {
      "application/vnd.jupyter.widget-view+json": {
       "model_id": "94dd4fc2db314ee0bdc28e51f65fdb43",
       "version_major": 2,
       "version_minor": 0
      },
      "text/plain": [
       "Epoch 1/1:   0%|          | 0/112 [00:00<?, ?it/s]"
      ]
     },
     "metadata": {},
     "output_type": "display_data"
    },
    {
     "name": "stdout",
     "output_type": "stream",
     "text": [
      "2023-03-16 18:57.28 [info     ] FQE_20230316185728: epoch=1 step=112 epoch=1 metrics={'time_sample_batch': 9.001578603472029e-05, 'time_algorithm_update': 0.001023914132799421, 'loss': 13.673989049025945, 'time_step': 0.0011555467333112443} step=112\n",
      "2023-03-16 18:57.28 [info     ] Model parameters are saved to d3rlpy_logs/FQE_20230316185728/model_112.pt\n"
     ]
    },
    {
     "data": {
      "application/vnd.jupyter.widget-view+json": {
       "model_id": "fe16ed72ec2147249b653ab02f0337b0",
       "version_major": 2,
       "version_minor": 0
      },
      "text/plain": [
       "[fit MWL model]:   0%|          | 0/1 [00:00<?, ?it/s]"
      ]
     },
     "metadata": {},
     "output_type": "display_data"
    },
    {
     "data": {
      "application/vnd.jupyter.widget-view+json": {
       "model_id": "3d41570541cd4538925fc128fd525cb6",
       "version_major": 2,
       "version_minor": 0
      },
      "text/plain": [
       "[fitting_weight_function]:   0%|          | 0/100 [00:00<?, ?it/s]"
      ]
     },
     "metadata": {},
     "output_type": "display_data"
    },
    {
     "data": {
      "application/vnd.jupyter.widget-view+json": {
       "model_id": "1eec8917973d4123a5074804ba043ef2",
       "version_major": 2,
       "version_minor": 0
      },
      "text/plain": [
       "[fitting_weight_function]:   0%|          | 0/100 [00:00<?, ?it/s]"
      ]
     },
     "metadata": {},
     "output_type": "display_data"
    },
    {
     "data": {
      "application/vnd.jupyter.widget-view+json": {
       "model_id": "b650f5a7b11e4abaa7403148e52a7bd9",
       "version_major": 2,
       "version_minor": 0
      },
      "text/plain": [
       "[collect input data: eval_policy]:   0%|          | 0/1 [00:00<?, ?it/s]"
      ]
     },
     "metadata": {},
     "output_type": "display_data"
    },
    {
     "data": {
      "application/vnd.jupyter.widget-view+json": {
       "model_id": "0135ea33e35449bc89c3f67db19632b8",
       "version_major": 2,
       "version_minor": 0
      },
      "text/plain": [
       "[calculate on-policy policy value]:   0%|          | 0/100 [00:00<?, ?it/s]"
      ]
     },
     "metadata": {},
     "output_type": "display_data"
    },
    {
     "data": {
      "application/vnd.jupyter.widget-view+json": {
       "model_id": "68792268a78f445ebee2d58735f1a1bf",
       "version_major": 2,
       "version_minor": 0
      },
      "text/plain": [
       "[obtain_trajectories]:   0%|          | 0/1600 [00:00<?, ?it/s]"
      ]
     },
     "metadata": {},
     "output_type": "display_data"
    },
    {
     "data": {
      "application/vnd.jupyter.widget-view+json": {
       "model_id": "5778dca9842f40c498a70957bfb5d61b",
       "version_major": 2,
       "version_minor": 0
      },
      "text/plain": [
       "[obtain_trajectories]:   0%|          | 0/1600 [00:00<?, ?it/s]"
      ]
     },
     "metadata": {},
     "output_type": "display_data"
    },
    {
     "data": {
      "application/vnd.jupyter.widget-view+json": {
       "model_id": "3304075c935949ea924613ee702cf2ca",
       "version_major": 2,
       "version_minor": 0
      },
      "text/plain": [
       "[fit FQE model]:   0%|          | 0/1 [00:00<?, ?it/s]"
      ]
     },
     "metadata": {},
     "output_type": "display_data"
    },
    {
     "name": "stdout",
     "output_type": "stream",
     "text": [
      "2023-03-16 18:58.11 [debug    ] RoundIterator is selected.\n",
      "2023-03-16 18:58.11 [info     ] Directory is created at d3rlpy_logs/FQE_20230316185811\n",
      "2023-03-16 18:58.11 [debug    ] Fitting scaler...              scaler=min_max\n",
      "2023-03-16 18:58.11 [debug    ] Fitting action scaler...       action_scaler=min_max\n",
      "2023-03-16 18:58.11 [debug    ] Building models...\n",
      "2023-03-16 18:58.11 [debug    ] Models have been built.\n",
      "2023-03-16 18:58.11 [info     ] Parameters are saved to d3rlpy_logs/FQE_20230316185811/params.json params={'action_scaler': {'type': 'min_max', 'params': {'minimum': array([0.1]), 'maximum': array([10.])}}, 'batch_size': 100, 'encoder_factory': {'type': 'vector', 'params': {'hidden_units': [30, 30], 'activation': 'relu', 'use_batch_norm': False, 'dropout_rate': None, 'use_dense': False}}, 'gamma': 0.95, 'generated_maxlen': 100000, 'learning_rate': 0.0001, 'n_critics': 1, 'n_frames': 1, 'n_steps': 1, 'optim_factory': {'optim_cls': 'Adam', 'betas': (0.9, 0.999), 'eps': 1e-08, 'weight_decay': 0, 'amsgrad': False}, 'q_func_factory': {'type': 'mean', 'params': {'share_encoder': False}}, 'real_ratio': 1.0, 'reward_scaler': None, 'scaler': {'type': 'min_max', 'params': {'maximum': array([6.00000000e+00, 3.00000000e+03, 9.99844840e-01, 5.10000000e+04,\n",
      "       1.00000000e+00, 2.00000000e+01, 9.99992842e+00]), 'minimum': array([0.        , 1.        , 0.        , 0.        , 0.        ,\n",
      "       0.        , 0.00164393])}}, 'target_update_interval': 100, 'use_gpu': None, 'algorithm': 'FQE', 'observation_shape': (7,), 'action_size': 1}\n"
     ]
    },
    {
     "data": {
      "application/vnd.jupyter.widget-view+json": {
       "model_id": "d22b0e892bcd43ef853e3bc2ef19260f",
       "version_major": 2,
       "version_minor": 0
      },
      "text/plain": [
       "Epoch 1/1:   0%|          | 0/112 [00:00<?, ?it/s]"
      ]
     },
     "metadata": {},
     "output_type": "display_data"
    },
    {
     "name": "stdout",
     "output_type": "stream",
     "text": [
      "2023-03-16 18:58.11 [info     ] FQE_20230316185811: epoch=1 step=112 epoch=1 metrics={'time_sample_batch': 8.991360664367676e-05, 'time_algorithm_update': 0.0010141623871667044, 'loss': 12.618497959205083, 'time_step': 0.0011445369039263045} step=112\n",
      "2023-03-16 18:58.11 [info     ] Model parameters are saved to d3rlpy_logs/FQE_20230316185811/model_112.pt\n"
     ]
    },
    {
     "data": {
      "application/vnd.jupyter.widget-view+json": {
       "model_id": "d81e13e4e93b40a5aa9e2e7b35dc1663",
       "version_major": 2,
       "version_minor": 0
      },
      "text/plain": [
       "[fit MWL model]:   0%|          | 0/1 [00:00<?, ?it/s]"
      ]
     },
     "metadata": {},
     "output_type": "display_data"
    },
    {
     "data": {
      "application/vnd.jupyter.widget-view+json": {
       "model_id": "b58083c133814848a986ea0328ea2e65",
       "version_major": 2,
       "version_minor": 0
      },
      "text/plain": [
       "[fitting_weight_function]:   0%|          | 0/100 [00:00<?, ?it/s]"
      ]
     },
     "metadata": {},
     "output_type": "display_data"
    },
    {
     "data": {
      "application/vnd.jupyter.widget-view+json": {
       "model_id": "8532a3c744f148bd90f917e4759da0a4",
       "version_major": 2,
       "version_minor": 0
      },
      "text/plain": [
       "[fitting_weight_function]:   0%|          | 0/100 [00:00<?, ?it/s]"
      ]
     },
     "metadata": {},
     "output_type": "display_data"
    },
    {
     "data": {
      "application/vnd.jupyter.widget-view+json": {
       "model_id": "780d8f1e4367411289ce00ebe7173fd1",
       "version_major": 2,
       "version_minor": 0
      },
      "text/plain": [
       "[collect input data: eval_policy]:   0%|          | 0/1 [00:00<?, ?it/s]"
      ]
     },
     "metadata": {},
     "output_type": "display_data"
    },
    {
     "data": {
      "application/vnd.jupyter.widget-view+json": {
       "model_id": "629657498c89493e8362d11a84af429f",
       "version_major": 2,
       "version_minor": 0
      },
      "text/plain": [
       "[calculate on-policy policy value]:   0%|          | 0/100 [00:00<?, ?it/s]"
      ]
     },
     "metadata": {},
     "output_type": "display_data"
    },
    {
     "data": {
      "application/vnd.jupyter.widget-view+json": {
       "model_id": "7d6e6e2b1e9045b9802054553264a70e",
       "version_major": 2,
       "version_minor": 0
      },
      "text/plain": [
       "[obtain_trajectories]:   0%|          | 0/1600 [00:00<?, ?it/s]"
      ]
     },
     "metadata": {},
     "output_type": "display_data"
    },
    {
     "data": {
      "application/vnd.jupyter.widget-view+json": {
       "model_id": "b429e53aece24c0c92877f34cf3ac1dd",
       "version_major": 2,
       "version_minor": 0
      },
      "text/plain": [
       "[obtain_trajectories]:   0%|          | 0/1600 [00:00<?, ?it/s]"
      ]
     },
     "metadata": {},
     "output_type": "display_data"
    },
    {
     "data": {
      "application/vnd.jupyter.widget-view+json": {
       "model_id": "b97a4b7da96449d4941b8c2bd9e133e5",
       "version_major": 2,
       "version_minor": 0
      },
      "text/plain": [
       "[fit FQE model]:   0%|          | 0/1 [00:00<?, ?it/s]"
      ]
     },
     "metadata": {},
     "output_type": "display_data"
    },
    {
     "name": "stdout",
     "output_type": "stream",
     "text": [
      "2023-03-16 18:58.54 [debug    ] RoundIterator is selected.\n",
      "2023-03-16 18:58.54 [info     ] Directory is created at d3rlpy_logs/FQE_20230316185854\n",
      "2023-03-16 18:58.54 [debug    ] Fitting scaler...              scaler=min_max\n",
      "2023-03-16 18:58.54 [debug    ] Fitting action scaler...       action_scaler=min_max\n",
      "2023-03-16 18:58.54 [debug    ] Building models...\n",
      "2023-03-16 18:58.54 [debug    ] Models have been built.\n",
      "2023-03-16 18:58.54 [info     ] Parameters are saved to d3rlpy_logs/FQE_20230316185854/params.json params={'action_scaler': {'type': 'min_max', 'params': {'minimum': array([0.1]), 'maximum': array([10.])}}, 'batch_size': 100, 'encoder_factory': {'type': 'vector', 'params': {'hidden_units': [30, 30], 'activation': 'relu', 'use_batch_norm': False, 'dropout_rate': None, 'use_dense': False}}, 'gamma': 0.95, 'generated_maxlen': 100000, 'learning_rate': 0.0001, 'n_critics': 1, 'n_frames': 1, 'n_steps': 1, 'optim_factory': {'optim_cls': 'Adam', 'betas': (0.9, 0.999), 'eps': 1e-08, 'weight_decay': 0, 'amsgrad': False}, 'q_func_factory': {'type': 'mean', 'params': {'share_encoder': False}}, 'real_ratio': 1.0, 'reward_scaler': None, 'scaler': {'type': 'min_max', 'params': {'maximum': array([6.00000000e+00, 3.00000000e+03, 9.99219360e-01, 4.50000000e+04,\n",
      "       1.00000000e+00, 1.70000000e+01, 9.99962617e+00]), 'minimum': array([0.00000000e+00, 1.00000000e+00, 0.00000000e+00, 0.00000000e+00,\n",
      "       0.00000000e+00, 0.00000000e+00, 4.20279006e-04])}}, 'target_update_interval': 100, 'use_gpu': None, 'algorithm': 'FQE', 'observation_shape': (7,), 'action_size': 1}\n"
     ]
    },
    {
     "data": {
      "application/vnd.jupyter.widget-view+json": {
       "model_id": "d8863c004ed7446993ca81e26f8fe76c",
       "version_major": 2,
       "version_minor": 0
      },
      "text/plain": [
       "Epoch 1/1:   0%|          | 0/112 [00:00<?, ?it/s]"
      ]
     },
     "metadata": {},
     "output_type": "display_data"
    },
    {
     "name": "stdout",
     "output_type": "stream",
     "text": [
      "2023-03-16 18:58.54 [info     ] FQE_20230316185854: epoch=1 step=112 epoch=1 metrics={'time_sample_batch': 8.26120376586914e-05, 'time_algorithm_update': 0.0010018753153937204, 'loss': 14.328841452087675, 'time_step': 0.0011262659515653337} step=112\n",
      "2023-03-16 18:58.54 [info     ] Model parameters are saved to d3rlpy_logs/FQE_20230316185854/model_112.pt\n"
     ]
    },
    {
     "data": {
      "application/vnd.jupyter.widget-view+json": {
       "model_id": "ddcc3650d02643cfa544091945f0fcf6",
       "version_major": 2,
       "version_minor": 0
      },
      "text/plain": [
       "[fit MWL model]:   0%|          | 0/1 [00:00<?, ?it/s]"
      ]
     },
     "metadata": {},
     "output_type": "display_data"
    },
    {
     "data": {
      "application/vnd.jupyter.widget-view+json": {
       "model_id": "79afb40519ab4b488917ff126054e223",
       "version_major": 2,
       "version_minor": 0
      },
      "text/plain": [
       "[fitting_weight_function]:   0%|          | 0/100 [00:00<?, ?it/s]"
      ]
     },
     "metadata": {},
     "output_type": "display_data"
    },
    {
     "data": {
      "application/vnd.jupyter.widget-view+json": {
       "model_id": "766b159364b147a89c11365c64e2213c",
       "version_major": 2,
       "version_minor": 0
      },
      "text/plain": [
       "[fitting_weight_function]:   0%|          | 0/100 [00:00<?, ?it/s]"
      ]
     },
     "metadata": {},
     "output_type": "display_data"
    },
    {
     "data": {
      "application/vnd.jupyter.widget-view+json": {
       "model_id": "9bc5cb15968c400ead4049482b073778",
       "version_major": 2,
       "version_minor": 0
      },
      "text/plain": [
       "[collect input data: eval_policy]:   0%|          | 0/1 [00:00<?, ?it/s]"
      ]
     },
     "metadata": {},
     "output_type": "display_data"
    },
    {
     "data": {
      "application/vnd.jupyter.widget-view+json": {
       "model_id": "134af3bbf6c9400381dcdb8cb4e22eda",
       "version_major": 2,
       "version_minor": 0
      },
      "text/plain": [
       "[calculate on-policy policy value]:   0%|          | 0/100 [00:00<?, ?it/s]"
      ]
     },
     "metadata": {},
     "output_type": "display_data"
    },
    {
     "data": {
      "application/vnd.jupyter.widget-view+json": {
       "model_id": "8783a273d4244b23bca4f2396351c3d6",
       "version_major": 2,
       "version_minor": 0
      },
      "text/plain": [
       "[obtain_trajectories]:   0%|          | 0/1600 [00:00<?, ?it/s]"
      ]
     },
     "metadata": {},
     "output_type": "display_data"
    },
    {
     "data": {
      "application/vnd.jupyter.widget-view+json": {
       "model_id": "5e92f17c15a04c9b9b2870cf07419360",
       "version_major": 2,
       "version_minor": 0
      },
      "text/plain": [
       "[obtain_trajectories]:   0%|          | 0/1600 [00:00<?, ?it/s]"
      ]
     },
     "metadata": {},
     "output_type": "display_data"
    },
    {
     "data": {
      "application/vnd.jupyter.widget-view+json": {
       "model_id": "17a8b26ee69349f88e750f18d475d5c8",
       "version_major": 2,
       "version_minor": 0
      },
      "text/plain": [
       "[fit FQE model]:   0%|          | 0/1 [00:00<?, ?it/s]"
      ]
     },
     "metadata": {},
     "output_type": "display_data"
    },
    {
     "name": "stdout",
     "output_type": "stream",
     "text": [
      "2023-03-16 18:59.36 [debug    ] RoundIterator is selected.\n",
      "2023-03-16 18:59.36 [info     ] Directory is created at d3rlpy_logs/FQE_20230316185936\n",
      "2023-03-16 18:59.36 [debug    ] Fitting scaler...              scaler=min_max\n",
      "2023-03-16 18:59.36 [debug    ] Fitting action scaler...       action_scaler=min_max\n",
      "2023-03-16 18:59.36 [debug    ] Building models...\n",
      "2023-03-16 18:59.36 [debug    ] Models have been built.\n",
      "2023-03-16 18:59.36 [info     ] Parameters are saved to d3rlpy_logs/FQE_20230316185936/params.json params={'action_scaler': {'type': 'min_max', 'params': {'minimum': array([0.1]), 'maximum': array([10.])}}, 'batch_size': 100, 'encoder_factory': {'type': 'vector', 'params': {'hidden_units': [30, 30], 'activation': 'relu', 'use_batch_norm': False, 'dropout_rate': None, 'use_dense': False}}, 'gamma': 0.95, 'generated_maxlen': 100000, 'learning_rate': 0.0001, 'n_critics': 1, 'n_frames': 1, 'n_steps': 1, 'optim_factory': {'optim_cls': 'Adam', 'betas': (0.9, 0.999), 'eps': 1e-08, 'weight_decay': 0, 'amsgrad': False}, 'q_func_factory': {'type': 'mean', 'params': {'share_encoder': False}}, 'real_ratio': 1.0, 'reward_scaler': None, 'scaler': {'type': 'min_max', 'params': {'maximum': array([6.00000000e+00, 3.00000000e+03, 9.99335548e-01, 6.30000000e+04,\n",
      "       1.00000000e+00, 2.00000000e+01, 9.99894090e+00]), 'minimum': array([0.00000000e+00, 1.00000000e+00, 0.00000000e+00, 0.00000000e+00,\n",
      "       0.00000000e+00, 0.00000000e+00, 3.54403508e-04])}}, 'target_update_interval': 100, 'use_gpu': None, 'algorithm': 'FQE', 'observation_shape': (7,), 'action_size': 1}\n"
     ]
    },
    {
     "data": {
      "application/vnd.jupyter.widget-view+json": {
       "model_id": "e5fd98a675d44c94946b40f841622e62",
       "version_major": 2,
       "version_minor": 0
      },
      "text/plain": [
       "Epoch 1/1:   0%|          | 0/112 [00:00<?, ?it/s]"
      ]
     },
     "metadata": {},
     "output_type": "display_data"
    },
    {
     "name": "stdout",
     "output_type": "stream",
     "text": [
      "2023-03-16 18:59.36 [info     ] FQE_20230316185936: epoch=1 step=112 epoch=1 metrics={'time_sample_batch': 8.904082434517997e-05, 'time_algorithm_update': 0.0010143199137278966, 'loss': 13.428848888192858, 'time_step': 0.0011476831776755197} step=112\n",
      "2023-03-16 18:59.36 [info     ] Model parameters are saved to d3rlpy_logs/FQE_20230316185936/model_112.pt\n"
     ]
    },
    {
     "data": {
      "application/vnd.jupyter.widget-view+json": {
       "model_id": "a2de11ba185041b785d68be7d4e1e4c8",
       "version_major": 2,
       "version_minor": 0
      },
      "text/plain": [
       "[fit MWL model]:   0%|          | 0/1 [00:00<?, ?it/s]"
      ]
     },
     "metadata": {},
     "output_type": "display_data"
    },
    {
     "data": {
      "application/vnd.jupyter.widget-view+json": {
       "model_id": "a173dadfada34b5a8577a80229ed156b",
       "version_major": 2,
       "version_minor": 0
      },
      "text/plain": [
       "[fitting_weight_function]:   0%|          | 0/100 [00:00<?, ?it/s]"
      ]
     },
     "metadata": {},
     "output_type": "display_data"
    },
    {
     "data": {
      "application/vnd.jupyter.widget-view+json": {
       "model_id": "aad6f04177ac413eb880c521e7251615",
       "version_major": 2,
       "version_minor": 0
      },
      "text/plain": [
       "[fitting_weight_function]:   0%|          | 0/100 [00:00<?, ?it/s]"
      ]
     },
     "metadata": {},
     "output_type": "display_data"
    },
    {
     "data": {
      "application/vnd.jupyter.widget-view+json": {
       "model_id": "55c7d6a667ea4692aa809df2838bccfd",
       "version_major": 2,
       "version_minor": 0
      },
      "text/plain": [
       "[collect input data: eval_policy]:   0%|          | 0/1 [00:00<?, ?it/s]"
      ]
     },
     "metadata": {},
     "output_type": "display_data"
    },
    {
     "data": {
      "application/vnd.jupyter.widget-view+json": {
       "model_id": "a24523596b134400ad02827356b94a00",
       "version_major": 2,
       "version_minor": 0
      },
      "text/plain": [
       "[calculate on-policy policy value]:   0%|          | 0/100 [00:00<?, ?it/s]"
      ]
     },
     "metadata": {},
     "output_type": "display_data"
    },
    {
     "data": {
      "application/vnd.jupyter.widget-view+json": {
       "model_id": "6dd0ff5783424c18a8afcdd917e0207f",
       "version_major": 2,
       "version_minor": 0
      },
      "text/plain": [
       "[obtain_trajectories]:   0%|          | 0/1600 [00:00<?, ?it/s]"
      ]
     },
     "metadata": {},
     "output_type": "display_data"
    },
    {
     "data": {
      "application/vnd.jupyter.widget-view+json": {
       "model_id": "e2007a757651428eb4664171a781d002",
       "version_major": 2,
       "version_minor": 0
      },
      "text/plain": [
       "[obtain_trajectories]:   0%|          | 0/1600 [00:00<?, ?it/s]"
      ]
     },
     "metadata": {},
     "output_type": "display_data"
    },
    {
     "data": {
      "application/vnd.jupyter.widget-view+json": {
       "model_id": "a5bb607eb2304f35a8aaff6cbdde5d5b",
       "version_major": 2,
       "version_minor": 0
      },
      "text/plain": [
       "[fit FQE model]:   0%|          | 0/1 [00:00<?, ?it/s]"
      ]
     },
     "metadata": {},
     "output_type": "display_data"
    },
    {
     "name": "stdout",
     "output_type": "stream",
     "text": [
      "2023-03-16 19:00.19 [debug    ] RoundIterator is selected.\n",
      "2023-03-16 19:00.19 [info     ] Directory is created at d3rlpy_logs/FQE_20230316190019\n",
      "2023-03-16 19:00.19 [debug    ] Fitting scaler...              scaler=min_max\n",
      "2023-03-16 19:00.19 [debug    ] Fitting action scaler...       action_scaler=min_max\n",
      "2023-03-16 19:00.19 [debug    ] Building models...\n",
      "2023-03-16 19:00.19 [debug    ] Models have been built.\n",
      "2023-03-16 19:00.19 [info     ] Parameters are saved to d3rlpy_logs/FQE_20230316190019/params.json params={'action_scaler': {'type': 'min_max', 'params': {'minimum': array([0.1]), 'maximum': array([10.])}}, 'batch_size': 100, 'encoder_factory': {'type': 'vector', 'params': {'hidden_units': [30, 30], 'activation': 'relu', 'use_batch_norm': False, 'dropout_rate': None, 'use_dense': False}}, 'gamma': 0.95, 'generated_maxlen': 100000, 'learning_rate': 0.0001, 'n_critics': 1, 'n_frames': 1, 'n_steps': 1, 'optim_factory': {'optim_cls': 'Adam', 'betas': (0.9, 0.999), 'eps': 1e-08, 'weight_decay': 0, 'amsgrad': False}, 'q_func_factory': {'type': 'mean', 'params': {'share_encoder': False}}, 'real_ratio': 1.0, 'reward_scaler': None, 'scaler': {'type': 'min_max', 'params': {'maximum': array([6.00000000e+00, 3.00000000e+03, 9.99250375e-01, 4.45000000e+04,\n",
      "       1.00000000e+00, 1.80000000e+01, 9.99977006e+00]), 'minimum': array([0.00000000e+00, 1.00000000e+00, 0.00000000e+00, 0.00000000e+00,\n",
      "       0.00000000e+00, 0.00000000e+00, 3.17129365e-04])}}, 'target_update_interval': 100, 'use_gpu': None, 'algorithm': 'FQE', 'observation_shape': (7,), 'action_size': 1}\n"
     ]
    },
    {
     "data": {
      "application/vnd.jupyter.widget-view+json": {
       "model_id": "859a13e6e650426ea2a19599ef1e6f58",
       "version_major": 2,
       "version_minor": 0
      },
      "text/plain": [
       "Epoch 1/1:   0%|          | 0/112 [00:00<?, ?it/s]"
      ]
     },
     "metadata": {},
     "output_type": "display_data"
    },
    {
     "name": "stdout",
     "output_type": "stream",
     "text": [
      "2023-03-16 19:00.19 [info     ] FQE_20230316190019: epoch=1 step=112 epoch=1 metrics={'time_sample_batch': 8.537726742880685e-05, 'time_algorithm_update': 0.0010426661797932216, 'loss': 14.136255289827075, 'time_step': 0.0011679274695260184} step=112\n",
      "2023-03-16 19:00.19 [info     ] Model parameters are saved to d3rlpy_logs/FQE_20230316190019/model_112.pt\n"
     ]
    },
    {
     "data": {
      "application/vnd.jupyter.widget-view+json": {
       "model_id": "8dccf608a80a43b2bc092bc82151ee84",
       "version_major": 2,
       "version_minor": 0
      },
      "text/plain": [
       "[fit MWL model]:   0%|          | 0/1 [00:00<?, ?it/s]"
      ]
     },
     "metadata": {},
     "output_type": "display_data"
    },
    {
     "data": {
      "application/vnd.jupyter.widget-view+json": {
       "model_id": "5adf77876c6f442b8ab69ecb8bc1ca74",
       "version_major": 2,
       "version_minor": 0
      },
      "text/plain": [
       "[fitting_weight_function]:   0%|          | 0/100 [00:00<?, ?it/s]"
      ]
     },
     "metadata": {},
     "output_type": "display_data"
    },
    {
     "data": {
      "application/vnd.jupyter.widget-view+json": {
       "model_id": "90fff827efee468c8534d6f834faac96",
       "version_major": 2,
       "version_minor": 0
      },
      "text/plain": [
       "[fitting_weight_function]:   0%|          | 0/100 [00:00<?, ?it/s]"
      ]
     },
     "metadata": {},
     "output_type": "display_data"
    },
    {
     "data": {
      "application/vnd.jupyter.widget-view+json": {
       "model_id": "6f590e9cf1c347529021e3e3d2ae6ed0",
       "version_major": 2,
       "version_minor": 0
      },
      "text/plain": [
       "[collect input data: eval_policy]:   0%|          | 0/1 [00:00<?, ?it/s]"
      ]
     },
     "metadata": {},
     "output_type": "display_data"
    },
    {
     "data": {
      "application/vnd.jupyter.widget-view+json": {
       "model_id": "83ddaad67cbb4240b832272ccfb63b79",
       "version_major": 2,
       "version_minor": 0
      },
      "text/plain": [
       "[calculate on-policy policy value]:   0%|          | 0/100 [00:00<?, ?it/s]"
      ]
     },
     "metadata": {},
     "output_type": "display_data"
    },
    {
     "data": {
      "application/vnd.jupyter.widget-view+json": {
       "model_id": "3f978c8edb0c46b18ba36d09875c9f9a",
       "version_major": 2,
       "version_minor": 0
      },
      "text/plain": [
       "[obtain_trajectories]:   0%|          | 0/1600 [00:00<?, ?it/s]"
      ]
     },
     "metadata": {},
     "output_type": "display_data"
    },
    {
     "data": {
      "application/vnd.jupyter.widget-view+json": {
       "model_id": "b060e6b749bf43789358da727cd83120",
       "version_major": 2,
       "version_minor": 0
      },
      "text/plain": [
       "[obtain_trajectories]:   0%|          | 0/1600 [00:00<?, ?it/s]"
      ]
     },
     "metadata": {},
     "output_type": "display_data"
    },
    {
     "data": {
      "application/vnd.jupyter.widget-view+json": {
       "model_id": "40eca0b97a5a4850b02d152491557ac5",
       "version_major": 2,
       "version_minor": 0
      },
      "text/plain": [
       "[fit FQE model]:   0%|          | 0/1 [00:00<?, ?it/s]"
      ]
     },
     "metadata": {},
     "output_type": "display_data"
    },
    {
     "name": "stdout",
     "output_type": "stream",
     "text": [
      "2023-03-16 19:01.02 [debug    ] RoundIterator is selected.\n",
      "2023-03-16 19:01.02 [info     ] Directory is created at d3rlpy_logs/FQE_20230316190102\n",
      "2023-03-16 19:01.02 [debug    ] Fitting scaler...              scaler=min_max\n",
      "2023-03-16 19:01.02 [debug    ] Fitting action scaler...       action_scaler=min_max\n",
      "2023-03-16 19:01.02 [debug    ] Building models...\n",
      "2023-03-16 19:01.02 [debug    ] Models have been built.\n",
      "2023-03-16 19:01.02 [info     ] Parameters are saved to d3rlpy_logs/FQE_20230316190102/params.json params={'action_scaler': {'type': 'min_max', 'params': {'minimum': array([0.1]), 'maximum': array([10.])}}, 'batch_size': 100, 'encoder_factory': {'type': 'vector', 'params': {'hidden_units': [30, 30], 'activation': 'relu', 'use_batch_norm': False, 'dropout_rate': None, 'use_dense': False}}, 'gamma': 0.95, 'generated_maxlen': 100000, 'learning_rate': 0.0001, 'n_critics': 1, 'n_frames': 1, 'n_steps': 1, 'optim_factory': {'optim_cls': 'Adam', 'betas': (0.9, 0.999), 'eps': 1e-08, 'weight_decay': 0, 'amsgrad': False}, 'q_func_factory': {'type': 'mean', 'params': {'share_encoder': False}}, 'real_ratio': 1.0, 'reward_scaler': None, 'scaler': {'type': 'min_max', 'params': {'maximum': array([6.00000000e+00, 3.00000000e+03, 9.99950706e-01, 4.20000000e+04,\n",
      "       1.00000000e+00, 2.00000000e+01, 9.99995650e+00]), 'minimum': array([0.        , 1.        , 0.        , 0.        , 0.        ,\n",
      "       0.        , 0.00115383])}}, 'target_update_interval': 100, 'use_gpu': None, 'algorithm': 'FQE', 'observation_shape': (7,), 'action_size': 1}\n"
     ]
    },
    {
     "data": {
      "application/vnd.jupyter.widget-view+json": {
       "model_id": "3dca0ade924f452892404921a8921ff2",
       "version_major": 2,
       "version_minor": 0
      },
      "text/plain": [
       "Epoch 1/1:   0%|          | 0/112 [00:00<?, ?it/s]"
      ]
     },
     "metadata": {},
     "output_type": "display_data"
    },
    {
     "name": "stdout",
     "output_type": "stream",
     "text": [
      "2023-03-16 19:01.03 [info     ] FQE_20230316190102: epoch=1 step=112 epoch=1 metrics={'time_sample_batch': 9.146119867052351e-05, 'time_algorithm_update': 0.0010474281651633127, 'loss': 13.009017114128385, 'time_step': 0.0011810937098094396} step=112\n",
      "2023-03-16 19:01.03 [info     ] Model parameters are saved to d3rlpy_logs/FQE_20230316190102/model_112.pt\n"
     ]
    },
    {
     "data": {
      "application/vnd.jupyter.widget-view+json": {
       "model_id": "402bf6022a6247a5a16f0b163295b6da",
       "version_major": 2,
       "version_minor": 0
      },
      "text/plain": [
       "[fit MWL model]:   0%|          | 0/1 [00:00<?, ?it/s]"
      ]
     },
     "metadata": {},
     "output_type": "display_data"
    },
    {
     "data": {
      "application/vnd.jupyter.widget-view+json": {
       "model_id": "ebdd36fb77a84366861407569dd21566",
       "version_major": 2,
       "version_minor": 0
      },
      "text/plain": [
       "[fitting_weight_function]:   0%|          | 0/100 [00:00<?, ?it/s]"
      ]
     },
     "metadata": {},
     "output_type": "display_data"
    },
    {
     "data": {
      "application/vnd.jupyter.widget-view+json": {
       "model_id": "dd0b3aa3829b49f7a88be00e1d1f7380",
       "version_major": 2,
       "version_minor": 0
      },
      "text/plain": [
       "[fitting_weight_function]:   0%|          | 0/100 [00:00<?, ?it/s]"
      ]
     },
     "metadata": {},
     "output_type": "display_data"
    },
    {
     "data": {
      "application/vnd.jupyter.widget-view+json": {
       "model_id": "d7aaf6ae5ceb49f8927fa35a2b2e8463",
       "version_major": 2,
       "version_minor": 0
      },
      "text/plain": [
       "[collect input data: eval_policy]:   0%|          | 0/1 [00:00<?, ?it/s]"
      ]
     },
     "metadata": {},
     "output_type": "display_data"
    },
    {
     "data": {
      "application/vnd.jupyter.widget-view+json": {
       "model_id": "b64c15c58e304575abdb113a0837290a",
       "version_major": 2,
       "version_minor": 0
      },
      "text/plain": [
       "[calculate on-policy policy value]:   0%|          | 0/100 [00:00<?, ?it/s]"
      ]
     },
     "metadata": {},
     "output_type": "display_data"
    },
    {
     "data": {
      "application/vnd.jupyter.widget-view+json": {
       "model_id": "3ac124a38c214e50b482e98d5c63072e",
       "version_major": 2,
       "version_minor": 0
      },
      "text/plain": [
       "[obtain_trajectories]:   0%|          | 0/1600 [00:00<?, ?it/s]"
      ]
     },
     "metadata": {},
     "output_type": "display_data"
    },
    {
     "data": {
      "application/vnd.jupyter.widget-view+json": {
       "model_id": "9a396efe78c6496cb5bffe268415d238",
       "version_major": 2,
       "version_minor": 0
      },
      "text/plain": [
       "[obtain_trajectories]:   0%|          | 0/1600 [00:00<?, ?it/s]"
      ]
     },
     "metadata": {},
     "output_type": "display_data"
    },
    {
     "data": {
      "application/vnd.jupyter.widget-view+json": {
       "model_id": "6b8156ed5da142b88877b787ec965944",
       "version_major": 2,
       "version_minor": 0
      },
      "text/plain": [
       "[fit FQE model]:   0%|          | 0/1 [00:00<?, ?it/s]"
      ]
     },
     "metadata": {},
     "output_type": "display_data"
    },
    {
     "name": "stdout",
     "output_type": "stream",
     "text": [
      "2023-03-16 19:01.46 [debug    ] RoundIterator is selected.\n",
      "2023-03-16 19:01.46 [info     ] Directory is created at d3rlpy_logs/FQE_20230316190146\n",
      "2023-03-16 19:01.46 [debug    ] Fitting scaler...              scaler=min_max\n",
      "2023-03-16 19:01.46 [debug    ] Fitting action scaler...       action_scaler=min_max\n",
      "2023-03-16 19:01.46 [debug    ] Building models...\n",
      "2023-03-16 19:01.46 [debug    ] Models have been built.\n",
      "2023-03-16 19:01.46 [info     ] Parameters are saved to d3rlpy_logs/FQE_20230316190146/params.json params={'action_scaler': {'type': 'min_max', 'params': {'minimum': array([0.1]), 'maximum': array([10.])}}, 'batch_size': 100, 'encoder_factory': {'type': 'vector', 'params': {'hidden_units': [30, 30], 'activation': 'relu', 'use_batch_norm': False, 'dropout_rate': None, 'use_dense': False}}, 'gamma': 0.95, 'generated_maxlen': 100000, 'learning_rate': 0.0001, 'n_critics': 1, 'n_frames': 1, 'n_steps': 1, 'optim_factory': {'optim_cls': 'Adam', 'betas': (0.9, 0.999), 'eps': 1e-08, 'weight_decay': 0, 'amsgrad': False}, 'q_func_factory': {'type': 'mean', 'params': {'share_encoder': False}}, 'real_ratio': 1.0, 'reward_scaler': None, 'scaler': {'type': 'min_max', 'params': {'maximum': array([6.00000000e+00, 3.00000000e+03, 9.99217527e-01, 5.80000000e+04,\n",
      "       1.00000000e+00, 2.00000000e+01, 9.99985214e+00]), 'minimum': array([0.        , 1.        , 0.        , 0.        , 0.        ,\n",
      "       0.        , 0.00149713])}}, 'target_update_interval': 100, 'use_gpu': None, 'algorithm': 'FQE', 'observation_shape': (7,), 'action_size': 1}\n"
     ]
    },
    {
     "data": {
      "application/vnd.jupyter.widget-view+json": {
       "model_id": "b17d77674f3148c28ce037156f983225",
       "version_major": 2,
       "version_minor": 0
      },
      "text/plain": [
       "Epoch 1/1:   0%|          | 0/112 [00:00<?, ?it/s]"
      ]
     },
     "metadata": {},
     "output_type": "display_data"
    },
    {
     "name": "stdout",
     "output_type": "stream",
     "text": [
      "2023-03-16 19:01.46 [info     ] FQE_20230316190146: epoch=1 step=112 epoch=1 metrics={'time_sample_batch': 8.32357576915196e-05, 'time_algorithm_update': 0.001003976379122053, 'loss': 12.92544402394976, 'time_step': 0.0011234602757862636} step=112\n",
      "2023-03-16 19:01.46 [info     ] Model parameters are saved to d3rlpy_logs/FQE_20230316190146/model_112.pt\n"
     ]
    },
    {
     "data": {
      "application/vnd.jupyter.widget-view+json": {
       "model_id": "1581f45fa38747a09a7b1c9a649c9161",
       "version_major": 2,
       "version_minor": 0
      },
      "text/plain": [
       "[fit MWL model]:   0%|          | 0/1 [00:00<?, ?it/s]"
      ]
     },
     "metadata": {},
     "output_type": "display_data"
    },
    {
     "data": {
      "application/vnd.jupyter.widget-view+json": {
       "model_id": "8488fcc64d89435f9525eba4f28fd898",
       "version_major": 2,
       "version_minor": 0
      },
      "text/plain": [
       "[fitting_weight_function]:   0%|          | 0/100 [00:00<?, ?it/s]"
      ]
     },
     "metadata": {},
     "output_type": "display_data"
    },
    {
     "data": {
      "application/vnd.jupyter.widget-view+json": {
       "model_id": "bf0e526d85324c40913f32109cdade81",
       "version_major": 2,
       "version_minor": 0
      },
      "text/plain": [
       "[fitting_weight_function]:   0%|          | 0/100 [00:00<?, ?it/s]"
      ]
     },
     "metadata": {},
     "output_type": "display_data"
    },
    {
     "data": {
      "application/vnd.jupyter.widget-view+json": {
       "model_id": "3df1b96b9cf248ef8d4e9cd853a87695",
       "version_major": 2,
       "version_minor": 0
      },
      "text/plain": [
       "[collect input data: eval_policy]:   0%|          | 0/1 [00:00<?, ?it/s]"
      ]
     },
     "metadata": {},
     "output_type": "display_data"
    },
    {
     "data": {
      "application/vnd.jupyter.widget-view+json": {
       "model_id": "b21bfd414a8c499392501e18c769d8fe",
       "version_major": 2,
       "version_minor": 0
      },
      "text/plain": [
       "[calculate on-policy policy value]:   0%|          | 0/100 [00:00<?, ?it/s]"
      ]
     },
     "metadata": {},
     "output_type": "display_data"
    },
    {
     "data": {
      "application/vnd.jupyter.widget-view+json": {
       "model_id": "f20385a4cece46f9ac468a0364fe4d74",
       "version_major": 2,
       "version_minor": 0
      },
      "text/plain": [
       "[obtain_trajectories]:   0%|          | 0/1600 [00:00<?, ?it/s]"
      ]
     },
     "metadata": {},
     "output_type": "display_data"
    },
    {
     "data": {
      "application/vnd.jupyter.widget-view+json": {
       "model_id": "6813abd5d0fc4631919843154f8d301e",
       "version_major": 2,
       "version_minor": 0
      },
      "text/plain": [
       "[obtain_trajectories]:   0%|          | 0/1600 [00:00<?, ?it/s]"
      ]
     },
     "metadata": {},
     "output_type": "display_data"
    },
    {
     "data": {
      "application/vnd.jupyter.widget-view+json": {
       "model_id": "33efbceaafe54295a3c0f5368f20e354",
       "version_major": 2,
       "version_minor": 0
      },
      "text/plain": [
       "[fit FQE model]:   0%|          | 0/1 [00:00<?, ?it/s]"
      ]
     },
     "metadata": {},
     "output_type": "display_data"
    },
    {
     "name": "stdout",
     "output_type": "stream",
     "text": [
      "2023-03-16 19:02.31 [debug    ] RoundIterator is selected.\n",
      "2023-03-16 19:02.31 [info     ] Directory is created at d3rlpy_logs/FQE_20230316190231\n",
      "2023-03-16 19:02.31 [debug    ] Fitting scaler...              scaler=min_max\n",
      "2023-03-16 19:02.31 [debug    ] Fitting action scaler...       action_scaler=min_max\n",
      "2023-03-16 19:02.31 [debug    ] Building models...\n",
      "2023-03-16 19:02.32 [debug    ] Models have been built.\n",
      "2023-03-16 19:02.32 [info     ] Parameters are saved to d3rlpy_logs/FQE_20230316190231/params.json params={'action_scaler': {'type': 'min_max', 'params': {'minimum': array([0.1]), 'maximum': array([10.])}}, 'batch_size': 100, 'encoder_factory': {'type': 'vector', 'params': {'hidden_units': [30, 30], 'activation': 'relu', 'use_batch_norm': False, 'dropout_rate': None, 'use_dense': False}}, 'gamma': 0.95, 'generated_maxlen': 100000, 'learning_rate': 0.0001, 'n_critics': 1, 'n_frames': 1, 'n_steps': 1, 'optim_factory': {'optim_cls': 'Adam', 'betas': (0.9, 0.999), 'eps': 1e-08, 'weight_decay': 0, 'amsgrad': False}, 'q_func_factory': {'type': 'mean', 'params': {'share_encoder': False}}, 'real_ratio': 1.0, 'reward_scaler': None, 'scaler': {'type': 'min_max', 'params': {'maximum': array([6.0000000e+00, 3.0000000e+03, 9.9923136e-01, 4.1000000e+04,\n",
      "       1.0000000e+00, 1.9000000e+01, 9.9994165e+00]), 'minimum': array([0.00000000e+00, 1.00000000e+00, 0.00000000e+00, 0.00000000e+00,\n",
      "       0.00000000e+00, 0.00000000e+00, 9.43771198e-04])}}, 'target_update_interval': 100, 'use_gpu': None, 'algorithm': 'FQE', 'observation_shape': (7,), 'action_size': 1}\n"
     ]
    },
    {
     "data": {
      "application/vnd.jupyter.widget-view+json": {
       "model_id": "0cfcbc8505584c328c74e8dfb52d3c19",
       "version_major": 2,
       "version_minor": 0
      },
      "text/plain": [
       "Epoch 1/1:   0%|          | 0/112 [00:00<?, ?it/s]"
      ]
     },
     "metadata": {},
     "output_type": "display_data"
    },
    {
     "name": "stdout",
     "output_type": "stream",
     "text": [
      "2023-03-16 19:02.32 [info     ] FQE_20230316190231: epoch=1 step=112 epoch=1 metrics={'time_sample_batch': 8.728674479893275e-05, 'time_algorithm_update': 0.0010465319667543685, 'loss': 12.817905549492155, 'time_step': 0.0011755994388035365} step=112\n",
      "2023-03-16 19:02.32 [info     ] Model parameters are saved to d3rlpy_logs/FQE_20230316190231/model_112.pt\n"
     ]
    },
    {
     "data": {
      "application/vnd.jupyter.widget-view+json": {
       "model_id": "1641fd081c394b94a7a471c482d64f12",
       "version_major": 2,
       "version_minor": 0
      },
      "text/plain": [
       "[fit MWL model]:   0%|          | 0/1 [00:00<?, ?it/s]"
      ]
     },
     "metadata": {},
     "output_type": "display_data"
    },
    {
     "data": {
      "application/vnd.jupyter.widget-view+json": {
       "model_id": "ebc6ed43a084402abc4c9e839cd629cd",
       "version_major": 2,
       "version_minor": 0
      },
      "text/plain": [
       "[fitting_weight_function]:   0%|          | 0/100 [00:00<?, ?it/s]"
      ]
     },
     "metadata": {},
     "output_type": "display_data"
    },
    {
     "data": {
      "application/vnd.jupyter.widget-view+json": {
       "model_id": "52bdf525266a48ad979a6f953361be98",
       "version_major": 2,
       "version_minor": 0
      },
      "text/plain": [
       "[fitting_weight_function]:   0%|          | 0/100 [00:00<?, ?it/s]"
      ]
     },
     "metadata": {},
     "output_type": "display_data"
    },
    {
     "data": {
      "application/vnd.jupyter.widget-view+json": {
       "model_id": "5faba48022684e278d9e4ab815a099dd",
       "version_major": 2,
       "version_minor": 0
      },
      "text/plain": [
       "[collect input data: eval_policy]:   0%|          | 0/1 [00:00<?, ?it/s]"
      ]
     },
     "metadata": {},
     "output_type": "display_data"
    },
    {
     "data": {
      "application/vnd.jupyter.widget-view+json": {
       "model_id": "5d099bc0e1dd4abea1c9f6978e9dd070",
       "version_major": 2,
       "version_minor": 0
      },
      "text/plain": [
       "[calculate on-policy policy value]:   0%|          | 0/100 [00:00<?, ?it/s]"
      ]
     },
     "metadata": {},
     "output_type": "display_data"
    },
    {
     "data": {
      "application/vnd.jupyter.widget-view+json": {
       "model_id": "86144ba51ba3486f866534a2c8741f57",
       "version_major": 2,
       "version_minor": 0
      },
      "text/plain": [
       "[obtain_trajectories]:   0%|          | 0/1600 [00:00<?, ?it/s]"
      ]
     },
     "metadata": {},
     "output_type": "display_data"
    },
    {
     "data": {
      "application/vnd.jupyter.widget-view+json": {
       "model_id": "d5d1982c25b4442d8290b998cf72869d",
       "version_major": 2,
       "version_minor": 0
      },
      "text/plain": [
       "[obtain_trajectories]:   0%|          | 0/1600 [00:00<?, ?it/s]"
      ]
     },
     "metadata": {},
     "output_type": "display_data"
    },
    {
     "data": {
      "application/vnd.jupyter.widget-view+json": {
       "model_id": "20a95f0d4e244960848e344466d69815",
       "version_major": 2,
       "version_minor": 0
      },
      "text/plain": [
       "[fit FQE model]:   0%|          | 0/1 [00:00<?, ?it/s]"
      ]
     },
     "metadata": {},
     "output_type": "display_data"
    },
    {
     "name": "stdout",
     "output_type": "stream",
     "text": [
      "2023-03-16 19:03.13 [debug    ] RoundIterator is selected.\n",
      "2023-03-16 19:03.13 [info     ] Directory is created at d3rlpy_logs/FQE_20230316190313\n",
      "2023-03-16 19:03.13 [debug    ] Fitting scaler...              scaler=min_max\n",
      "2023-03-16 19:03.13 [debug    ] Fitting action scaler...       action_scaler=min_max\n",
      "2023-03-16 19:03.13 [debug    ] Building models...\n",
      "2023-03-16 19:03.13 [debug    ] Models have been built.\n",
      "2023-03-16 19:03.13 [info     ] Parameters are saved to d3rlpy_logs/FQE_20230316190313/params.json params={'action_scaler': {'type': 'min_max', 'params': {'minimum': array([0.1]), 'maximum': array([10.])}}, 'batch_size': 100, 'encoder_factory': {'type': 'vector', 'params': {'hidden_units': [30, 30], 'activation': 'relu', 'use_batch_norm': False, 'dropout_rate': None, 'use_dense': False}}, 'gamma': 0.95, 'generated_maxlen': 100000, 'learning_rate': 0.0001, 'n_critics': 1, 'n_frames': 1, 'n_steps': 1, 'optim_factory': {'optim_cls': 'Adam', 'betas': (0.9, 0.999), 'eps': 1e-08, 'weight_decay': 0, 'amsgrad': False}, 'q_func_factory': {'type': 'mean', 'params': {'share_encoder': False}}, 'real_ratio': 1.0, 'reward_scaler': None, 'scaler': {'type': 'min_max', 'params': {'maximum': array([6.00000000e+00, 3.00000000e+03, 9.99236812e-01, 5.60000000e+04,\n",
      "       1.00000000e+00, 2.00000000e+01, 9.99984517e+00]), 'minimum': array([0.        , 1.        , 0.        , 0.        , 0.        ,\n",
      "       0.        , 0.00159132])}}, 'target_update_interval': 100, 'use_gpu': None, 'algorithm': 'FQE', 'observation_shape': (7,), 'action_size': 1}\n"
     ]
    },
    {
     "data": {
      "application/vnd.jupyter.widget-view+json": {
       "model_id": "727df1328a004fa696ef6a50ad569c9f",
       "version_major": 2,
       "version_minor": 0
      },
      "text/plain": [
       "Epoch 1/1:   0%|          | 0/112 [00:00<?, ?it/s]"
      ]
     },
     "metadata": {},
     "output_type": "display_data"
    },
    {
     "name": "stdout",
     "output_type": "stream",
     "text": [
      "2023-03-16 19:03.13 [info     ] FQE_20230316190313: epoch=1 step=112 epoch=1 metrics={'time_sample_batch': 8.152212415422712e-05, 'time_algorithm_update': 0.0009604543447494507, 'loss': 13.015097937413625, 'time_step': 0.0010803427015032088} step=112\n",
      "2023-03-16 19:03.13 [info     ] Model parameters are saved to d3rlpy_logs/FQE_20230316190313/model_112.pt\n"
     ]
    },
    {
     "data": {
      "application/vnd.jupyter.widget-view+json": {
       "model_id": "51ff36b404c742e28a9cb0a33e43183a",
       "version_major": 2,
       "version_minor": 0
      },
      "text/plain": [
       "[fit MWL model]:   0%|          | 0/1 [00:00<?, ?it/s]"
      ]
     },
     "metadata": {},
     "output_type": "display_data"
    },
    {
     "data": {
      "application/vnd.jupyter.widget-view+json": {
       "model_id": "5b72715ad1e546faa309dcd1936ad70d",
       "version_major": 2,
       "version_minor": 0
      },
      "text/plain": [
       "[fitting_weight_function]:   0%|          | 0/100 [00:00<?, ?it/s]"
      ]
     },
     "metadata": {},
     "output_type": "display_data"
    },
    {
     "data": {
      "application/vnd.jupyter.widget-view+json": {
       "model_id": "cb4d633abe7d4685ac93fac4459d3b8c",
       "version_major": 2,
       "version_minor": 0
      },
      "text/plain": [
       "[fitting_weight_function]:   0%|          | 0/100 [00:00<?, ?it/s]"
      ]
     },
     "metadata": {},
     "output_type": "display_data"
    },
    {
     "data": {
      "application/vnd.jupyter.widget-view+json": {
       "model_id": "b4c2f27528ba4336aeb5376ad5c61433",
       "version_major": 2,
       "version_minor": 0
      },
      "text/plain": [
       "[collect input data: eval_policy]:   0%|          | 0/1 [00:00<?, ?it/s]"
      ]
     },
     "metadata": {},
     "output_type": "display_data"
    },
    {
     "data": {
      "application/vnd.jupyter.widget-view+json": {
       "model_id": "bb37a458dcc44f6c82a6abd35afbc900",
       "version_major": 2,
       "version_minor": 0
      },
      "text/plain": [
       "[calculate on-policy policy value]:   0%|          | 0/100 [00:00<?, ?it/s]"
      ]
     },
     "metadata": {},
     "output_type": "display_data"
    },
    {
     "data": {
      "application/vnd.jupyter.widget-view+json": {
       "model_id": "40aca991743c412db7bc55bfef4cc47d",
       "version_major": 2,
       "version_minor": 0
      },
      "text/plain": [
       "[obtain_trajectories]:   0%|          | 0/1600 [00:00<?, ?it/s]"
      ]
     },
     "metadata": {},
     "output_type": "display_data"
    },
    {
     "data": {
      "application/vnd.jupyter.widget-view+json": {
       "model_id": "7b61d846a25e4aa399ed53fc26c619d3",
       "version_major": 2,
       "version_minor": 0
      },
      "text/plain": [
       "[obtain_trajectories]:   0%|          | 0/1600 [00:00<?, ?it/s]"
      ]
     },
     "metadata": {},
     "output_type": "display_data"
    },
    {
     "data": {
      "application/vnd.jupyter.widget-view+json": {
       "model_id": "38218587f1c84441a3037c1e78d39ad3",
       "version_major": 2,
       "version_minor": 0
      },
      "text/plain": [
       "[fit FQE model]:   0%|          | 0/1 [00:00<?, ?it/s]"
      ]
     },
     "metadata": {},
     "output_type": "display_data"
    },
    {
     "name": "stdout",
     "output_type": "stream",
     "text": [
      "2023-03-16 19:03.55 [debug    ] RoundIterator is selected.\n",
      "2023-03-16 19:03.55 [info     ] Directory is created at d3rlpy_logs/FQE_20230316190355\n",
      "2023-03-16 19:03.55 [debug    ] Fitting scaler...              scaler=min_max\n",
      "2023-03-16 19:03.55 [debug    ] Fitting action scaler...       action_scaler=min_max\n",
      "2023-03-16 19:03.55 [debug    ] Building models...\n",
      "2023-03-16 19:03.55 [debug    ] Models have been built.\n",
      "2023-03-16 19:03.55 [info     ] Parameters are saved to d3rlpy_logs/FQE_20230316190355/params.json params={'action_scaler': {'type': 'min_max', 'params': {'minimum': array([0.1]), 'maximum': array([10.])}}, 'batch_size': 100, 'encoder_factory': {'type': 'vector', 'params': {'hidden_units': [30, 30], 'activation': 'relu', 'use_batch_norm': False, 'dropout_rate': None, 'use_dense': False}}, 'gamma': 0.95, 'generated_maxlen': 100000, 'learning_rate': 0.0001, 'n_critics': 1, 'n_frames': 1, 'n_steps': 1, 'optim_factory': {'optim_cls': 'Adam', 'betas': (0.9, 0.999), 'eps': 1e-08, 'weight_decay': 0, 'amsgrad': False}, 'q_func_factory': {'type': 'mean', 'params': {'share_encoder': False}}, 'real_ratio': 1.0, 'reward_scaler': None, 'scaler': {'type': 'min_max', 'params': {'maximum': array([6.00000000e+00, 3.00000000e+03, 9.99401352e-01, 7.00000000e+04,\n",
      "       1.00000000e+00, 2.00000000e+01, 9.99986378e+00]), 'minimum': array([0.00000000e+00, 1.00000000e+00, 0.00000000e+00, 0.00000000e+00,\n",
      "       0.00000000e+00, 0.00000000e+00, 3.05844252e-04])}}, 'target_update_interval': 100, 'use_gpu': None, 'algorithm': 'FQE', 'observation_shape': (7,), 'action_size': 1}\n"
     ]
    },
    {
     "data": {
      "application/vnd.jupyter.widget-view+json": {
       "model_id": "11449ccd829847ab92975f6ef8d973fd",
       "version_major": 2,
       "version_minor": 0
      },
      "text/plain": [
       "Epoch 1/1:   0%|          | 0/112 [00:00<?, ?it/s]"
      ]
     },
     "metadata": {},
     "output_type": "display_data"
    },
    {
     "name": "stdout",
     "output_type": "stream",
     "text": [
      "2023-03-16 19:03.55 [info     ] FQE_20230316190355: epoch=1 step=112 epoch=1 metrics={'time_sample_batch': 8.713347571236747e-05, 'time_algorithm_update': 0.0010520134653363908, 'loss': 13.760155975818634, 'time_step': 0.0011776536703109741} step=112\n",
      "2023-03-16 19:03.55 [info     ] Model parameters are saved to d3rlpy_logs/FQE_20230316190355/model_112.pt\n"
     ]
    },
    {
     "data": {
      "application/vnd.jupyter.widget-view+json": {
       "model_id": "6471bffb4a744dd386e483c1c6a782d4",
       "version_major": 2,
       "version_minor": 0
      },
      "text/plain": [
       "[fit MWL model]:   0%|          | 0/1 [00:00<?, ?it/s]"
      ]
     },
     "metadata": {},
     "output_type": "display_data"
    },
    {
     "data": {
      "application/vnd.jupyter.widget-view+json": {
       "model_id": "361880cfdab94b47b755543cbc61514b",
       "version_major": 2,
       "version_minor": 0
      },
      "text/plain": [
       "[fitting_weight_function]:   0%|          | 0/100 [00:00<?, ?it/s]"
      ]
     },
     "metadata": {},
     "output_type": "display_data"
    },
    {
     "data": {
      "application/vnd.jupyter.widget-view+json": {
       "model_id": "5382e9555351438aa32e77f40e9070f4",
       "version_major": 2,
       "version_minor": 0
      },
      "text/plain": [
       "[fitting_weight_function]:   0%|          | 0/100 [00:00<?, ?it/s]"
      ]
     },
     "metadata": {},
     "output_type": "display_data"
    },
    {
     "data": {
      "application/vnd.jupyter.widget-view+json": {
       "model_id": "46fb817b75654fed875edcfde1252b6e",
       "version_major": 2,
       "version_minor": 0
      },
      "text/plain": [
       "[collect input data: eval_policy]:   0%|          | 0/1 [00:00<?, ?it/s]"
      ]
     },
     "metadata": {},
     "output_type": "display_data"
    },
    {
     "data": {
      "application/vnd.jupyter.widget-view+json": {
       "model_id": "2bac8071d3d9488aa515bd1cd1ba188f",
       "version_major": 2,
       "version_minor": 0
      },
      "text/plain": [
       "[calculate on-policy policy value]:   0%|          | 0/100 [00:00<?, ?it/s]"
      ]
     },
     "metadata": {},
     "output_type": "display_data"
    },
    {
     "data": {
      "application/vnd.jupyter.widget-view+json": {
       "model_id": "d6c7e175d75847d7a9cd7ddf3d509600",
       "version_major": 2,
       "version_minor": 0
      },
      "text/plain": [
       "[obtain_trajectories]:   0%|          | 0/3200 [00:00<?, ?it/s]"
      ]
     },
     "metadata": {},
     "output_type": "display_data"
    },
    {
     "data": {
      "application/vnd.jupyter.widget-view+json": {
       "model_id": "a121579f938d4476b86034ffd5321cbf",
       "version_major": 2,
       "version_minor": 0
      },
      "text/plain": [
       "[obtain_trajectories]:   0%|          | 0/3200 [00:00<?, ?it/s]"
      ]
     },
     "metadata": {},
     "output_type": "display_data"
    },
    {
     "data": {
      "application/vnd.jupyter.widget-view+json": {
       "model_id": "016252edc83b4b269346c3cb544f3ebe",
       "version_major": 2,
       "version_minor": 0
      },
      "text/plain": [
       "[fit FQE model]:   0%|          | 0/1 [00:00<?, ?it/s]"
      ]
     },
     "metadata": {},
     "output_type": "display_data"
    },
    {
     "name": "stdout",
     "output_type": "stream",
     "text": [
      "2023-03-16 19:04.58 [debug    ] RoundIterator is selected.\n",
      "2023-03-16 19:04.58 [info     ] Directory is created at d3rlpy_logs/FQE_20230316190458\n",
      "2023-03-16 19:04.58 [debug    ] Fitting scaler...              scaler=min_max\n",
      "2023-03-16 19:04.58 [debug    ] Fitting action scaler...       action_scaler=min_max\n",
      "2023-03-16 19:04.58 [debug    ] Building models...\n",
      "2023-03-16 19:04.58 [debug    ] Models have been built.\n",
      "2023-03-16 19:04.58 [info     ] Parameters are saved to d3rlpy_logs/FQE_20230316190458/params.json params={'action_scaler': {'type': 'min_max', 'params': {'minimum': array([0.1]), 'maximum': array([10.])}}, 'batch_size': 100, 'encoder_factory': {'type': 'vector', 'params': {'hidden_units': [30, 30], 'activation': 'relu', 'use_batch_norm': False, 'dropout_rate': None, 'use_dense': False}}, 'gamma': 0.95, 'generated_maxlen': 100000, 'learning_rate': 0.0001, 'n_critics': 1, 'n_frames': 1, 'n_steps': 1, 'optim_factory': {'optim_cls': 'Adam', 'betas': (0.9, 0.999), 'eps': 1e-08, 'weight_decay': 0, 'amsgrad': False}, 'q_func_factory': {'type': 'mean', 'params': {'share_encoder': False}}, 'real_ratio': 1.0, 'reward_scaler': None, 'scaler': {'type': 'min_max', 'params': {'maximum': array([6.00000000e+00, 3.00000000e+03, 9.99747791e-01, 5.40000000e+04,\n",
      "       1.00000000e+00, 2.00000000e+01, 9.99979637e+00]), 'minimum': array([0.00000000e+00, 1.00000000e+00, 0.00000000e+00, 0.00000000e+00,\n",
      "       0.00000000e+00, 0.00000000e+00, 2.95499547e-04])}}, 'target_update_interval': 100, 'use_gpu': None, 'algorithm': 'FQE', 'observation_shape': (7,), 'action_size': 1}\n"
     ]
    },
    {
     "data": {
      "application/vnd.jupyter.widget-view+json": {
       "model_id": "aa97a31ebd7f43c5848df4be94e97b03",
       "version_major": 2,
       "version_minor": 0
      },
      "text/plain": [
       "Epoch 1/1:   0%|          | 0/224 [00:00<?, ?it/s]"
      ]
     },
     "metadata": {},
     "output_type": "display_data"
    },
    {
     "name": "stdout",
     "output_type": "stream",
     "text": [
      "2023-03-16 19:04.58 [info     ] FQE_20230316190458: epoch=1 step=224 epoch=1 metrics={'time_sample_batch': 9.101842130933489e-05, 'time_algorithm_update': 0.0009685105511120387, 'loss': 14.11035389133862, 'time_step': 0.0011008658579417638} step=224\n",
      "2023-03-16 19:04.58 [info     ] Model parameters are saved to d3rlpy_logs/FQE_20230316190458/model_224.pt\n"
     ]
    },
    {
     "data": {
      "application/vnd.jupyter.widget-view+json": {
       "model_id": "91242e4c264d4be9b8d3ddb41f9af24e",
       "version_major": 2,
       "version_minor": 0
      },
      "text/plain": [
       "[fit MWL model]:   0%|          | 0/1 [00:00<?, ?it/s]"
      ]
     },
     "metadata": {},
     "output_type": "display_data"
    },
    {
     "data": {
      "application/vnd.jupyter.widget-view+json": {
       "model_id": "d04346e717d344369886aeb93b591b93",
       "version_major": 2,
       "version_minor": 0
      },
      "text/plain": [
       "[fitting_weight_function]:   0%|          | 0/100 [00:00<?, ?it/s]"
      ]
     },
     "metadata": {},
     "output_type": "display_data"
    },
    {
     "data": {
      "application/vnd.jupyter.widget-view+json": {
       "model_id": "84ecce7e5d464b5db238e0f19e5bd34d",
       "version_major": 2,
       "version_minor": 0
      },
      "text/plain": [
       "[fitting_weight_function]:   0%|          | 0/100 [00:00<?, ?it/s]"
      ]
     },
     "metadata": {},
     "output_type": "display_data"
    },
    {
     "data": {
      "application/vnd.jupyter.widget-view+json": {
       "model_id": "f21b55eb090b49feac77bfa4fc09d133",
       "version_major": 2,
       "version_minor": 0
      },
      "text/plain": [
       "[collect input data: eval_policy]:   0%|          | 0/1 [00:00<?, ?it/s]"
      ]
     },
     "metadata": {},
     "output_type": "display_data"
    },
    {
     "data": {
      "application/vnd.jupyter.widget-view+json": {
       "model_id": "f43fde97005c45809cf38d2cd50dad93",
       "version_major": 2,
       "version_minor": 0
      },
      "text/plain": [
       "[calculate on-policy policy value]:   0%|          | 0/100 [00:00<?, ?it/s]"
      ]
     },
     "metadata": {},
     "output_type": "display_data"
    },
    {
     "data": {
      "application/vnd.jupyter.widget-view+json": {
       "model_id": "d2f8e053cfff49c18961e6be43a57888",
       "version_major": 2,
       "version_minor": 0
      },
      "text/plain": [
       "[obtain_trajectories]:   0%|          | 0/3200 [00:00<?, ?it/s]"
      ]
     },
     "metadata": {},
     "output_type": "display_data"
    },
    {
     "data": {
      "application/vnd.jupyter.widget-view+json": {
       "model_id": "ff398a1c370c414b9c454c66882f5943",
       "version_major": 2,
       "version_minor": 0
      },
      "text/plain": [
       "[obtain_trajectories]:   0%|          | 0/3200 [00:00<?, ?it/s]"
      ]
     },
     "metadata": {},
     "output_type": "display_data"
    },
    {
     "data": {
      "application/vnd.jupyter.widget-view+json": {
       "model_id": "f906769106c1460db5110e9109de3ccb",
       "version_major": 2,
       "version_minor": 0
      },
      "text/plain": [
       "[fit FQE model]:   0%|          | 0/1 [00:00<?, ?it/s]"
      ]
     },
     "metadata": {},
     "output_type": "display_data"
    },
    {
     "name": "stdout",
     "output_type": "stream",
     "text": [
      "2023-03-16 19:06.00 [debug    ] RoundIterator is selected.\n",
      "2023-03-16 19:06.00 [info     ] Directory is created at d3rlpy_logs/FQE_20230316190600\n",
      "2023-03-16 19:06.00 [debug    ] Fitting scaler...              scaler=min_max\n",
      "2023-03-16 19:06.00 [debug    ] Fitting action scaler...       action_scaler=min_max\n",
      "2023-03-16 19:06.00 [debug    ] Building models...\n",
      "2023-03-16 19:06.00 [debug    ] Models have been built.\n",
      "2023-03-16 19:06.00 [info     ] Parameters are saved to d3rlpy_logs/FQE_20230316190600/params.json params={'action_scaler': {'type': 'min_max', 'params': {'minimum': array([0.1]), 'maximum': array([10.])}}, 'batch_size': 100, 'encoder_factory': {'type': 'vector', 'params': {'hidden_units': [30, 30], 'activation': 'relu', 'use_batch_norm': False, 'dropout_rate': None, 'use_dense': False}}, 'gamma': 0.95, 'generated_maxlen': 100000, 'learning_rate': 0.0001, 'n_critics': 1, 'n_frames': 1, 'n_steps': 1, 'optim_factory': {'optim_cls': 'Adam', 'betas': (0.9, 0.999), 'eps': 1e-08, 'weight_decay': 0, 'amsgrad': False}, 'q_func_factory': {'type': 'mean', 'params': {'share_encoder': False}}, 'real_ratio': 1.0, 'reward_scaler': None, 'scaler': {'type': 'min_max', 'params': {'maximum': array([6.00000000e+00, 3.00000000e+03, 9.99844840e-01, 8.00000000e+04,\n",
      "       1.00000000e+00, 2.00000000e+01, 9.99969385e+00]), 'minimum': array([0.00000000e+00, 1.00000000e+00, 0.00000000e+00, 0.00000000e+00,\n",
      "       0.00000000e+00, 0.00000000e+00, 2.31394781e-04])}}, 'target_update_interval': 100, 'use_gpu': None, 'algorithm': 'FQE', 'observation_shape': (7,), 'action_size': 1}\n"
     ]
    },
    {
     "data": {
      "application/vnd.jupyter.widget-view+json": {
       "model_id": "502b981cd44449f38a241d0f33e9a207",
       "version_major": 2,
       "version_minor": 0
      },
      "text/plain": [
       "Epoch 1/1:   0%|          | 0/224 [00:00<?, ?it/s]"
      ]
     },
     "metadata": {},
     "output_type": "display_data"
    },
    {
     "name": "stdout",
     "output_type": "stream",
     "text": [
      "2023-03-16 19:06.01 [info     ] FQE_20230316190600: epoch=1 step=224 epoch=1 metrics={'time_sample_batch': 8.690037897654943e-05, 'time_algorithm_update': 0.0009846857615879603, 'loss': 13.201243260077067, 'time_step': 0.001114519579069955} step=224\n",
      "2023-03-16 19:06.01 [info     ] Model parameters are saved to d3rlpy_logs/FQE_20230316190600/model_224.pt\n"
     ]
    },
    {
     "data": {
      "application/vnd.jupyter.widget-view+json": {
       "model_id": "fadeedd6a3404eeca7467aaacce83bd2",
       "version_major": 2,
       "version_minor": 0
      },
      "text/plain": [
       "[fit MWL model]:   0%|          | 0/1 [00:00<?, ?it/s]"
      ]
     },
     "metadata": {},
     "output_type": "display_data"
    },
    {
     "data": {
      "application/vnd.jupyter.widget-view+json": {
       "model_id": "f8943f15bc57405998a0b9758cb91b91",
       "version_major": 2,
       "version_minor": 0
      },
      "text/plain": [
       "[fitting_weight_function]:   0%|          | 0/100 [00:00<?, ?it/s]"
      ]
     },
     "metadata": {},
     "output_type": "display_data"
    },
    {
     "data": {
      "application/vnd.jupyter.widget-view+json": {
       "model_id": "4ad5dc92887040c9bed2f2d2965a62bb",
       "version_major": 2,
       "version_minor": 0
      },
      "text/plain": [
       "[fitting_weight_function]:   0%|          | 0/100 [00:00<?, ?it/s]"
      ]
     },
     "metadata": {},
     "output_type": "display_data"
    },
    {
     "data": {
      "application/vnd.jupyter.widget-view+json": {
       "model_id": "6159a83fd08e4a0e87107d74ed720ca3",
       "version_major": 2,
       "version_minor": 0
      },
      "text/plain": [
       "[collect input data: eval_policy]:   0%|          | 0/1 [00:00<?, ?it/s]"
      ]
     },
     "metadata": {},
     "output_type": "display_data"
    },
    {
     "data": {
      "application/vnd.jupyter.widget-view+json": {
       "model_id": "4f0d83353041440b9b26b5c1e6cc8740",
       "version_major": 2,
       "version_minor": 0
      },
      "text/plain": [
       "[calculate on-policy policy value]:   0%|          | 0/100 [00:00<?, ?it/s]"
      ]
     },
     "metadata": {},
     "output_type": "display_data"
    },
    {
     "data": {
      "application/vnd.jupyter.widget-view+json": {
       "model_id": "7047b28c30264bd89b75d9dff77eeeb4",
       "version_major": 2,
       "version_minor": 0
      },
      "text/plain": [
       "[obtain_trajectories]:   0%|          | 0/3200 [00:00<?, ?it/s]"
      ]
     },
     "metadata": {},
     "output_type": "display_data"
    },
    {
     "data": {
      "application/vnd.jupyter.widget-view+json": {
       "model_id": "dc89656ad3ad4889a8086ee200a4eec8",
       "version_major": 2,
       "version_minor": 0
      },
      "text/plain": [
       "[obtain_trajectories]:   0%|          | 0/3200 [00:00<?, ?it/s]"
      ]
     },
     "metadata": {},
     "output_type": "display_data"
    },
    {
     "data": {
      "application/vnd.jupyter.widget-view+json": {
       "model_id": "9bfb4a6792ed473eb926b2d95aba785d",
       "version_major": 2,
       "version_minor": 0
      },
      "text/plain": [
       "[fit FQE model]:   0%|          | 0/1 [00:00<?, ?it/s]"
      ]
     },
     "metadata": {},
     "output_type": "display_data"
    },
    {
     "name": "stdout",
     "output_type": "stream",
     "text": [
      "2023-03-16 19:07.04 [debug    ] RoundIterator is selected.\n",
      "2023-03-16 19:07.04 [info     ] Directory is created at d3rlpy_logs/FQE_20230316190704\n",
      "2023-03-16 19:07.04 [debug    ] Fitting scaler...              scaler=min_max\n",
      "2023-03-16 19:07.04 [debug    ] Fitting action scaler...       action_scaler=min_max\n",
      "2023-03-16 19:07.04 [debug    ] Building models...\n",
      "2023-03-16 19:07.04 [debug    ] Models have been built.\n",
      "2023-03-16 19:07.04 [info     ] Parameters are saved to d3rlpy_logs/FQE_20230316190704/params.json params={'action_scaler': {'type': 'min_max', 'params': {'minimum': array([0.1]), 'maximum': array([10.])}}, 'batch_size': 100, 'encoder_factory': {'type': 'vector', 'params': {'hidden_units': [30, 30], 'activation': 'relu', 'use_batch_norm': False, 'dropout_rate': None, 'use_dense': False}}, 'gamma': 0.95, 'generated_maxlen': 100000, 'learning_rate': 0.0001, 'n_critics': 1, 'n_frames': 1, 'n_steps': 1, 'optim_factory': {'optim_cls': 'Adam', 'betas': (0.9, 0.999), 'eps': 1e-08, 'weight_decay': 0, 'amsgrad': False}, 'q_func_factory': {'type': 'mean', 'params': {'share_encoder': False}}, 'real_ratio': 1.0, 'reward_scaler': None, 'scaler': {'type': 'min_max', 'params': {'maximum': array([6.00000000e+00, 3.00000000e+03, 9.99974188e-01, 5.50000000e+04,\n",
      "       1.00000000e+00, 2.00000000e+01, 1.31334211e+01]), 'minimum': array([0.00000000e+00, 1.00000000e+00, 0.00000000e+00, 0.00000000e+00,\n",
      "       0.00000000e+00, 0.00000000e+00, 4.63163031e-05])}}, 'target_update_interval': 100, 'use_gpu': None, 'algorithm': 'FQE', 'observation_shape': (7,), 'action_size': 1}\n"
     ]
    },
    {
     "data": {
      "application/vnd.jupyter.widget-view+json": {
       "model_id": "3dbd839804644c8dace1669dac8dd68a",
       "version_major": 2,
       "version_minor": 0
      },
      "text/plain": [
       "Epoch 1/1:   0%|          | 0/224 [00:00<?, ?it/s]"
      ]
     },
     "metadata": {},
     "output_type": "display_data"
    },
    {
     "name": "stdout",
     "output_type": "stream",
     "text": [
      "2023-03-16 19:07.04 [info     ] FQE_20230316190704: epoch=1 step=224 epoch=1 metrics={'time_sample_batch': 8.37360109601702e-05, 'time_algorithm_update': 0.0009065366217068263, 'loss': 14.90804431268147, 'time_step': 0.0010250923889023916} step=224\n",
      "2023-03-16 19:07.04 [info     ] Model parameters are saved to d3rlpy_logs/FQE_20230316190704/model_224.pt\n"
     ]
    },
    {
     "data": {
      "application/vnd.jupyter.widget-view+json": {
       "model_id": "f5dcf752141d49f2a70d915aff330676",
       "version_major": 2,
       "version_minor": 0
      },
      "text/plain": [
       "[fit MWL model]:   0%|          | 0/1 [00:00<?, ?it/s]"
      ]
     },
     "metadata": {},
     "output_type": "display_data"
    },
    {
     "data": {
      "application/vnd.jupyter.widget-view+json": {
       "model_id": "7bbcd5548b244ce7acebf4126f6abc0a",
       "version_major": 2,
       "version_minor": 0
      },
      "text/plain": [
       "[fitting_weight_function]:   0%|          | 0/100 [00:00<?, ?it/s]"
      ]
     },
     "metadata": {},
     "output_type": "display_data"
    },
    {
     "data": {
      "application/vnd.jupyter.widget-view+json": {
       "model_id": "c4e4a0828c5542faa31683a53779f19d",
       "version_major": 2,
       "version_minor": 0
      },
      "text/plain": [
       "[fitting_weight_function]:   0%|          | 0/100 [00:00<?, ?it/s]"
      ]
     },
     "metadata": {},
     "output_type": "display_data"
    },
    {
     "data": {
      "application/vnd.jupyter.widget-view+json": {
       "model_id": "60ff8b61567d40608b1aaa7e3520d195",
       "version_major": 2,
       "version_minor": 0
      },
      "text/plain": [
       "[collect input data: eval_policy]:   0%|          | 0/1 [00:00<?, ?it/s]"
      ]
     },
     "metadata": {},
     "output_type": "display_data"
    },
    {
     "data": {
      "application/vnd.jupyter.widget-view+json": {
       "model_id": "5f48c8c7ba7748588126ee051f5bcf6d",
       "version_major": 2,
       "version_minor": 0
      },
      "text/plain": [
       "[calculate on-policy policy value]:   0%|          | 0/100 [00:00<?, ?it/s]"
      ]
     },
     "metadata": {},
     "output_type": "display_data"
    },
    {
     "data": {
      "application/vnd.jupyter.widget-view+json": {
       "model_id": "17ce0877e0bc4ca5a2cab984ae975664",
       "version_major": 2,
       "version_minor": 0
      },
      "text/plain": [
       "[obtain_trajectories]:   0%|          | 0/3200 [00:00<?, ?it/s]"
      ]
     },
     "metadata": {},
     "output_type": "display_data"
    },
    {
     "data": {
      "application/vnd.jupyter.widget-view+json": {
       "model_id": "b28ac67cbd0d44559b4cba1073916376",
       "version_major": 2,
       "version_minor": 0
      },
      "text/plain": [
       "[obtain_trajectories]:   0%|          | 0/3200 [00:00<?, ?it/s]"
      ]
     },
     "metadata": {},
     "output_type": "display_data"
    },
    {
     "data": {
      "application/vnd.jupyter.widget-view+json": {
       "model_id": "023c5cca354a47d4989ed729c7ae1027",
       "version_major": 2,
       "version_minor": 0
      },
      "text/plain": [
       "[fit FQE model]:   0%|          | 0/1 [00:00<?, ?it/s]"
      ]
     },
     "metadata": {},
     "output_type": "display_data"
    },
    {
     "name": "stdout",
     "output_type": "stream",
     "text": [
      "2023-03-16 19:08.05 [debug    ] RoundIterator is selected.\n",
      "2023-03-16 19:08.05 [info     ] Directory is created at d3rlpy_logs/FQE_20230316190805\n",
      "2023-03-16 19:08.05 [debug    ] Fitting scaler...              scaler=min_max\n",
      "2023-03-16 19:08.05 [debug    ] Fitting action scaler...       action_scaler=min_max\n",
      "2023-03-16 19:08.05 [debug    ] Building models...\n",
      "2023-03-16 19:08.05 [debug    ] Models have been built.\n",
      "2023-03-16 19:08.05 [info     ] Parameters are saved to d3rlpy_logs/FQE_20230316190805/params.json params={'action_scaler': {'type': 'min_max', 'params': {'minimum': array([0.1]), 'maximum': array([10.])}}, 'batch_size': 100, 'encoder_factory': {'type': 'vector', 'params': {'hidden_units': [30, 30], 'activation': 'relu', 'use_batch_norm': False, 'dropout_rate': None, 'use_dense': False}}, 'gamma': 0.95, 'generated_maxlen': 100000, 'learning_rate': 0.0001, 'n_critics': 1, 'n_frames': 1, 'n_steps': 1, 'optim_factory': {'optim_cls': 'Adam', 'betas': (0.9, 0.999), 'eps': 1e-08, 'weight_decay': 0, 'amsgrad': False}, 'q_func_factory': {'type': 'mean', 'params': {'share_encoder': False}}, 'real_ratio': 1.0, 'reward_scaler': None, 'scaler': {'type': 'min_max', 'params': {'maximum': array([6.00000000e+00, 3.00000000e+03, 9.99543689e-01, 6.10000000e+04,\n",
      "       1.00000000e+00, 2.00000000e+01, 9.99999308e+00]), 'minimum': array([0.00000000e+00, 1.00000000e+00, 0.00000000e+00, 0.00000000e+00,\n",
      "       0.00000000e+00, 0.00000000e+00, 8.83566376e-04])}}, 'target_update_interval': 100, 'use_gpu': None, 'algorithm': 'FQE', 'observation_shape': (7,), 'action_size': 1}\n"
     ]
    },
    {
     "data": {
      "application/vnd.jupyter.widget-view+json": {
       "model_id": "8d1c1949b1db46dfb2e1c317c754c362",
       "version_major": 2,
       "version_minor": 0
      },
      "text/plain": [
       "Epoch 1/1:   0%|          | 0/224 [00:00<?, ?it/s]"
      ]
     },
     "metadata": {},
     "output_type": "display_data"
    },
    {
     "name": "stdout",
     "output_type": "stream",
     "text": [
      "2023-03-16 19:08.05 [info     ] FQE_20230316190805: epoch=1 step=224 epoch=1 metrics={'time_sample_batch': 8.54847686631339e-05, 'time_algorithm_update': 0.0009480469993182591, 'loss': 13.743461198040418, 'time_step': 0.0010698969875063216} step=224\n",
      "2023-03-16 19:08.05 [info     ] Model parameters are saved to d3rlpy_logs/FQE_20230316190805/model_224.pt\n"
     ]
    },
    {
     "data": {
      "application/vnd.jupyter.widget-view+json": {
       "model_id": "8a72cff6ef2640eda577b6b23d99489a",
       "version_major": 2,
       "version_minor": 0
      },
      "text/plain": [
       "[fit MWL model]:   0%|          | 0/1 [00:00<?, ?it/s]"
      ]
     },
     "metadata": {},
     "output_type": "display_data"
    },
    {
     "data": {
      "application/vnd.jupyter.widget-view+json": {
       "model_id": "1920d576db354292a05417a56e0f4e06",
       "version_major": 2,
       "version_minor": 0
      },
      "text/plain": [
       "[fitting_weight_function]:   0%|          | 0/100 [00:00<?, ?it/s]"
      ]
     },
     "metadata": {},
     "output_type": "display_data"
    },
    {
     "data": {
      "application/vnd.jupyter.widget-view+json": {
       "model_id": "ffe7bb85142b4c519f934f4cbadbe259",
       "version_major": 2,
       "version_minor": 0
      },
      "text/plain": [
       "[fitting_weight_function]:   0%|          | 0/100 [00:00<?, ?it/s]"
      ]
     },
     "metadata": {},
     "output_type": "display_data"
    },
    {
     "data": {
      "application/vnd.jupyter.widget-view+json": {
       "model_id": "78a7ca40bf5d40059eaa9a4540294c4d",
       "version_major": 2,
       "version_minor": 0
      },
      "text/plain": [
       "[collect input data: eval_policy]:   0%|          | 0/1 [00:00<?, ?it/s]"
      ]
     },
     "metadata": {},
     "output_type": "display_data"
    },
    {
     "data": {
      "application/vnd.jupyter.widget-view+json": {
       "model_id": "4d4e44bf02fe45c996767c84be2550aa",
       "version_major": 2,
       "version_minor": 0
      },
      "text/plain": [
       "[calculate on-policy policy value]:   0%|          | 0/100 [00:00<?, ?it/s]"
      ]
     },
     "metadata": {},
     "output_type": "display_data"
    },
    {
     "data": {
      "application/vnd.jupyter.widget-view+json": {
       "model_id": "cc4ea07390cb4b85aff2c54eb6b5cf0e",
       "version_major": 2,
       "version_minor": 0
      },
      "text/plain": [
       "[obtain_trajectories]:   0%|          | 0/3200 [00:00<?, ?it/s]"
      ]
     },
     "metadata": {},
     "output_type": "display_data"
    },
    {
     "data": {
      "application/vnd.jupyter.widget-view+json": {
       "model_id": "419aa620d9634339a2c54492efe2555c",
       "version_major": 2,
       "version_minor": 0
      },
      "text/plain": [
       "[obtain_trajectories]:   0%|          | 0/3200 [00:00<?, ?it/s]"
      ]
     },
     "metadata": {},
     "output_type": "display_data"
    },
    {
     "data": {
      "application/vnd.jupyter.widget-view+json": {
       "model_id": "460e75e759f648369408224ff1400097",
       "version_major": 2,
       "version_minor": 0
      },
      "text/plain": [
       "[fit FQE model]:   0%|          | 0/1 [00:00<?, ?it/s]"
      ]
     },
     "metadata": {},
     "output_type": "display_data"
    },
    {
     "name": "stdout",
     "output_type": "stream",
     "text": [
      "2023-03-16 19:09.08 [debug    ] RoundIterator is selected.\n",
      "2023-03-16 19:09.08 [info     ] Directory is created at d3rlpy_logs/FQE_20230316190908\n",
      "2023-03-16 19:09.08 [debug    ] Fitting scaler...              scaler=min_max\n",
      "2023-03-16 19:09.08 [debug    ] Fitting action scaler...       action_scaler=min_max\n",
      "2023-03-16 19:09.08 [debug    ] Building models...\n",
      "2023-03-16 19:09.08 [debug    ] Models have been built.\n",
      "2023-03-16 19:09.08 [info     ] Parameters are saved to d3rlpy_logs/FQE_20230316190908/params.json params={'action_scaler': {'type': 'min_max', 'params': {'minimum': array([0.1]), 'maximum': array([10.])}}, 'batch_size': 100, 'encoder_factory': {'type': 'vector', 'params': {'hidden_units': [30, 30], 'activation': 'relu', 'use_batch_norm': False, 'dropout_rate': None, 'use_dense': False}}, 'gamma': 0.95, 'generated_maxlen': 100000, 'learning_rate': 0.0001, 'n_critics': 1, 'n_frames': 1, 'n_steps': 1, 'optim_factory': {'optim_cls': 'Adam', 'betas': (0.9, 0.999), 'eps': 1e-08, 'weight_decay': 0, 'amsgrad': False}, 'q_func_factory': {'type': 'mean', 'params': {'share_encoder': False}}, 'real_ratio': 1.0, 'reward_scaler': None, 'scaler': {'type': 'min_max', 'params': {'maximum': array([6.00000000e+00, 3.00000000e+03, 9.99690339e-01, 5.30000000e+04,\n",
      "       1.00000000e+00, 1.80000000e+01, 9.99946687e+00]), 'minimum': array([0.00000000e+00, 1.00000000e+00, 0.00000000e+00, 0.00000000e+00,\n",
      "       0.00000000e+00, 0.00000000e+00, 2.44337596e-04])}}, 'target_update_interval': 100, 'use_gpu': None, 'algorithm': 'FQE', 'observation_shape': (7,), 'action_size': 1}\n"
     ]
    },
    {
     "data": {
      "application/vnd.jupyter.widget-view+json": {
       "model_id": "5b0f37f762ea49d5a67650b90c274c68",
       "version_major": 2,
       "version_minor": 0
      },
      "text/plain": [
       "Epoch 1/1:   0%|          | 0/224 [00:00<?, ?it/s]"
      ]
     },
     "metadata": {},
     "output_type": "display_data"
    },
    {
     "name": "stdout",
     "output_type": "stream",
     "text": [
      "2023-03-16 19:09.08 [info     ] FQE_20230316190908: epoch=1 step=224 epoch=1 metrics={'time_sample_batch': 8.480570146015712e-05, 'time_algorithm_update': 0.0009050635354859489, 'loss': 14.53686533655439, 'time_step': 0.0010291401829038347} step=224\n",
      "2023-03-16 19:09.08 [info     ] Model parameters are saved to d3rlpy_logs/FQE_20230316190908/model_224.pt\n"
     ]
    },
    {
     "data": {
      "application/vnd.jupyter.widget-view+json": {
       "model_id": "97bfc38d6bea4a49b7521efd98b96e3a",
       "version_major": 2,
       "version_minor": 0
      },
      "text/plain": [
       "[fit MWL model]:   0%|          | 0/1 [00:00<?, ?it/s]"
      ]
     },
     "metadata": {},
     "output_type": "display_data"
    },
    {
     "data": {
      "application/vnd.jupyter.widget-view+json": {
       "model_id": "dc42725c74824366911b9eb43400a543",
       "version_major": 2,
       "version_minor": 0
      },
      "text/plain": [
       "[fitting_weight_function]:   0%|          | 0/100 [00:00<?, ?it/s]"
      ]
     },
     "metadata": {},
     "output_type": "display_data"
    },
    {
     "data": {
      "application/vnd.jupyter.widget-view+json": {
       "model_id": "a0dc351e7a03495ea26eea356a53a378",
       "version_major": 2,
       "version_minor": 0
      },
      "text/plain": [
       "[fitting_weight_function]:   0%|          | 0/100 [00:00<?, ?it/s]"
      ]
     },
     "metadata": {},
     "output_type": "display_data"
    },
    {
     "data": {
      "application/vnd.jupyter.widget-view+json": {
       "model_id": "3e48b173402a4d9dad8016c397bfdc87",
       "version_major": 2,
       "version_minor": 0
      },
      "text/plain": [
       "[collect input data: eval_policy]:   0%|          | 0/1 [00:00<?, ?it/s]"
      ]
     },
     "metadata": {},
     "output_type": "display_data"
    },
    {
     "data": {
      "application/vnd.jupyter.widget-view+json": {
       "model_id": "3b158b2ee1f34852a80ba0efa7aec995",
       "version_major": 2,
       "version_minor": 0
      },
      "text/plain": [
       "[calculate on-policy policy value]:   0%|          | 0/100 [00:00<?, ?it/s]"
      ]
     },
     "metadata": {},
     "output_type": "display_data"
    },
    {
     "data": {
      "application/vnd.jupyter.widget-view+json": {
       "model_id": "765cbff615fe49ff9f89d4f7555dadc6",
       "version_major": 2,
       "version_minor": 0
      },
      "text/plain": [
       "[obtain_trajectories]:   0%|          | 0/3200 [00:00<?, ?it/s]"
      ]
     },
     "metadata": {},
     "output_type": "display_data"
    },
    {
     "data": {
      "application/vnd.jupyter.widget-view+json": {
       "model_id": "ea89e12edf134dafaa2cde038162ee3e",
       "version_major": 2,
       "version_minor": 0
      },
      "text/plain": [
       "[obtain_trajectories]:   0%|          | 0/3200 [00:00<?, ?it/s]"
      ]
     },
     "metadata": {},
     "output_type": "display_data"
    },
    {
     "data": {
      "application/vnd.jupyter.widget-view+json": {
       "model_id": "dbd200cdaab4454eb8a5315e2beb8ec3",
       "version_major": 2,
       "version_minor": 0
      },
      "text/plain": [
       "[fit FQE model]:   0%|          | 0/1 [00:00<?, ?it/s]"
      ]
     },
     "metadata": {},
     "output_type": "display_data"
    },
    {
     "name": "stdout",
     "output_type": "stream",
     "text": [
      "2023-03-16 19:10.09 [debug    ] RoundIterator is selected.\n",
      "2023-03-16 19:10.09 [info     ] Directory is created at d3rlpy_logs/FQE_20230316191009\n",
      "2023-03-16 19:10.09 [debug    ] Fitting scaler...              scaler=min_max\n",
      "2023-03-16 19:10.09 [debug    ] Fitting action scaler...       action_scaler=min_max\n",
      "2023-03-16 19:10.09 [debug    ] Building models...\n",
      "2023-03-16 19:10.09 [debug    ] Models have been built.\n",
      "2023-03-16 19:10.09 [info     ] Parameters are saved to d3rlpy_logs/FQE_20230316191009/params.json params={'action_scaler': {'type': 'min_max', 'params': {'minimum': array([0.1]), 'maximum': array([10.])}}, 'batch_size': 100, 'encoder_factory': {'type': 'vector', 'params': {'hidden_units': [30, 30], 'activation': 'relu', 'use_batch_norm': False, 'dropout_rate': None, 'use_dense': False}}, 'gamma': 0.95, 'generated_maxlen': 100000, 'learning_rate': 0.0001, 'n_critics': 1, 'n_frames': 1, 'n_steps': 1, 'optim_factory': {'optim_cls': 'Adam', 'betas': (0.9, 0.999), 'eps': 1e-08, 'weight_decay': 0, 'amsgrad': False}, 'q_func_factory': {'type': 'mean', 'params': {'share_encoder': False}}, 'real_ratio': 1.0, 'reward_scaler': None, 'scaler': {'type': 'min_max', 'params': {'maximum': array([6.00000000e+00, 3.00000000e+03, 9.99950706e-01, 4.80000000e+04,\n",
      "       1.00000000e+00, 2.00000000e+01, 9.99999445e+00]), 'minimum': array([0.00000000e+00, 1.00000000e+00, 0.00000000e+00, 0.00000000e+00,\n",
      "       0.00000000e+00, 0.00000000e+00, 2.43659212e-04])}}, 'target_update_interval': 100, 'use_gpu': None, 'algorithm': 'FQE', 'observation_shape': (7,), 'action_size': 1}\n"
     ]
    },
    {
     "data": {
      "application/vnd.jupyter.widget-view+json": {
       "model_id": "7b069ecd55dc43adbc052a2333c9e9f8",
       "version_major": 2,
       "version_minor": 0
      },
      "text/plain": [
       "Epoch 1/1:   0%|          | 0/224 [00:00<?, ?it/s]"
      ]
     },
     "metadata": {},
     "output_type": "display_data"
    },
    {
     "name": "stdout",
     "output_type": "stream",
     "text": [
      "2023-03-16 19:10.09 [info     ] FQE_20230316191009: epoch=1 step=224 epoch=1 metrics={'time_sample_batch': 9.199764047350203e-05, 'time_algorithm_update': 0.0010286856974874223, 'loss': 13.559736145394188, 'time_step': 0.00115764353956495} step=224\n",
      "2023-03-16 19:10.09 [info     ] Model parameters are saved to d3rlpy_logs/FQE_20230316191009/model_224.pt\n"
     ]
    },
    {
     "data": {
      "application/vnd.jupyter.widget-view+json": {
       "model_id": "07b14604a0ba42fe8a8ff4c8154d7a12",
       "version_major": 2,
       "version_minor": 0
      },
      "text/plain": [
       "[fit MWL model]:   0%|          | 0/1 [00:00<?, ?it/s]"
      ]
     },
     "metadata": {},
     "output_type": "display_data"
    },
    {
     "data": {
      "application/vnd.jupyter.widget-view+json": {
       "model_id": "851f94beeb0d4949aa25b1bdae866611",
       "version_major": 2,
       "version_minor": 0
      },
      "text/plain": [
       "[fitting_weight_function]:   0%|          | 0/100 [00:00<?, ?it/s]"
      ]
     },
     "metadata": {},
     "output_type": "display_data"
    },
    {
     "data": {
      "application/vnd.jupyter.widget-view+json": {
       "model_id": "7c589f06ef97494fb23d11de9d2137e9",
       "version_major": 2,
       "version_minor": 0
      },
      "text/plain": [
       "[fitting_weight_function]:   0%|          | 0/100 [00:00<?, ?it/s]"
      ]
     },
     "metadata": {},
     "output_type": "display_data"
    },
    {
     "data": {
      "application/vnd.jupyter.widget-view+json": {
       "model_id": "0915cff0f0de407eb5fbff586da1f6c2",
       "version_major": 2,
       "version_minor": 0
      },
      "text/plain": [
       "[collect input data: eval_policy]:   0%|          | 0/1 [00:00<?, ?it/s]"
      ]
     },
     "metadata": {},
     "output_type": "display_data"
    },
    {
     "data": {
      "application/vnd.jupyter.widget-view+json": {
       "model_id": "2398e0576315491198a322494547e3a6",
       "version_major": 2,
       "version_minor": 0
      },
      "text/plain": [
       "[calculate on-policy policy value]:   0%|          | 0/100 [00:00<?, ?it/s]"
      ]
     },
     "metadata": {},
     "output_type": "display_data"
    },
    {
     "data": {
      "application/vnd.jupyter.widget-view+json": {
       "model_id": "c66575385eae44b797f8de36e391b9ee",
       "version_major": 2,
       "version_minor": 0
      },
      "text/plain": [
       "[obtain_trajectories]:   0%|          | 0/3200 [00:00<?, ?it/s]"
      ]
     },
     "metadata": {},
     "output_type": "display_data"
    },
    {
     "data": {
      "application/vnd.jupyter.widget-view+json": {
       "model_id": "58843c6bb8c84c958bbb7e26d85b80c1",
       "version_major": 2,
       "version_minor": 0
      },
      "text/plain": [
       "[obtain_trajectories]:   0%|          | 0/3200 [00:00<?, ?it/s]"
      ]
     },
     "metadata": {},
     "output_type": "display_data"
    },
    {
     "data": {
      "application/vnd.jupyter.widget-view+json": {
       "model_id": "d825627e1c084ce994f67cb0a5c2409e",
       "version_major": 2,
       "version_minor": 0
      },
      "text/plain": [
       "[fit FQE model]:   0%|          | 0/1 [00:00<?, ?it/s]"
      ]
     },
     "metadata": {},
     "output_type": "display_data"
    },
    {
     "name": "stdout",
     "output_type": "stream",
     "text": [
      "2023-03-16 19:11.18 [debug    ] RoundIterator is selected.\n",
      "2023-03-16 19:11.18 [info     ] Directory is created at d3rlpy_logs/FQE_20230316191118\n",
      "2023-03-16 19:11.18 [debug    ] Fitting scaler...              scaler=min_max\n",
      "2023-03-16 19:11.18 [debug    ] Fitting action scaler...       action_scaler=min_max\n",
      "2023-03-16 19:11.18 [debug    ] Building models...\n",
      "2023-03-16 19:11.18 [debug    ] Models have been built.\n",
      "2023-03-16 19:11.18 [info     ] Parameters are saved to d3rlpy_logs/FQE_20230316191118/params.json params={'action_scaler': {'type': 'min_max', 'params': {'minimum': array([0.1]), 'maximum': array([10.])}}, 'batch_size': 100, 'encoder_factory': {'type': 'vector', 'params': {'hidden_units': [30, 30], 'activation': 'relu', 'use_batch_norm': False, 'dropout_rate': None, 'use_dense': False}}, 'gamma': 0.95, 'generated_maxlen': 100000, 'learning_rate': 0.0001, 'n_critics': 1, 'n_frames': 1, 'n_steps': 1, 'optim_factory': {'optim_cls': 'Adam', 'betas': (0.9, 0.999), 'eps': 1e-08, 'weight_decay': 0, 'amsgrad': False}, 'q_func_factory': {'type': 'mean', 'params': {'share_encoder': False}}, 'real_ratio': 1.0, 'reward_scaler': None, 'scaler': {'type': 'min_max', 'params': {'maximum': array([6.00000000e+00, 3.00000000e+03, 9.99840219e-01, 6.00000000e+04,\n",
      "       1.00000000e+00, 2.00000000e+01, 9.99960619e+00]), 'minimum': array([0.00000000e+00, 1.00000000e+00, 0.00000000e+00, 0.00000000e+00,\n",
      "       0.00000000e+00, 0.00000000e+00, 4.18743355e-04])}}, 'target_update_interval': 100, 'use_gpu': None, 'algorithm': 'FQE', 'observation_shape': (7,), 'action_size': 1}\n"
     ]
    },
    {
     "data": {
      "application/vnd.jupyter.widget-view+json": {
       "model_id": "52f4f966c381402e846ce78010d881db",
       "version_major": 2,
       "version_minor": 0
      },
      "text/plain": [
       "Epoch 1/1:   0%|          | 0/224 [00:00<?, ?it/s]"
      ]
     },
     "metadata": {},
     "output_type": "display_data"
    },
    {
     "name": "stdout",
     "output_type": "stream",
     "text": [
      "2023-03-16 19:11.18 [info     ] FQE_20230316191118: epoch=1 step=224 epoch=1 metrics={'time_sample_batch': 9.41476651600429e-05, 'time_algorithm_update': 0.0010145572679383414, 'loss': 13.307140246033669, 'time_step': 0.0011506229639053345} step=224\n",
      "2023-03-16 19:11.18 [info     ] Model parameters are saved to d3rlpy_logs/FQE_20230316191118/model_224.pt\n"
     ]
    },
    {
     "data": {
      "application/vnd.jupyter.widget-view+json": {
       "model_id": "dad82afb82cf4f54ab66c61c05fd798a",
       "version_major": 2,
       "version_minor": 0
      },
      "text/plain": [
       "[fit MWL model]:   0%|          | 0/1 [00:00<?, ?it/s]"
      ]
     },
     "metadata": {},
     "output_type": "display_data"
    },
    {
     "data": {
      "application/vnd.jupyter.widget-view+json": {
       "model_id": "549b17a0f1484144b9b8a91a329eac13",
       "version_major": 2,
       "version_minor": 0
      },
      "text/plain": [
       "[fitting_weight_function]:   0%|          | 0/100 [00:00<?, ?it/s]"
      ]
     },
     "metadata": {},
     "output_type": "display_data"
    },
    {
     "data": {
      "application/vnd.jupyter.widget-view+json": {
       "model_id": "fac35c192770401b9aca855a99397145",
       "version_major": 2,
       "version_minor": 0
      },
      "text/plain": [
       "[fitting_weight_function]:   0%|          | 0/100 [00:00<?, ?it/s]"
      ]
     },
     "metadata": {},
     "output_type": "display_data"
    },
    {
     "data": {
      "application/vnd.jupyter.widget-view+json": {
       "model_id": "de5d4cfc0776419192e6373b05f89793",
       "version_major": 2,
       "version_minor": 0
      },
      "text/plain": [
       "[collect input data: eval_policy]:   0%|          | 0/1 [00:00<?, ?it/s]"
      ]
     },
     "metadata": {},
     "output_type": "display_data"
    },
    {
     "data": {
      "application/vnd.jupyter.widget-view+json": {
       "model_id": "1a5a70570970447a89a20d957e29727a",
       "version_major": 2,
       "version_minor": 0
      },
      "text/plain": [
       "[calculate on-policy policy value]:   0%|          | 0/100 [00:00<?, ?it/s]"
      ]
     },
     "metadata": {},
     "output_type": "display_data"
    },
    {
     "data": {
      "application/vnd.jupyter.widget-view+json": {
       "model_id": "4c9a6d4e83f04e0695e481c2f8ef16ef",
       "version_major": 2,
       "version_minor": 0
      },
      "text/plain": [
       "[obtain_trajectories]:   0%|          | 0/3200 [00:00<?, ?it/s]"
      ]
     },
     "metadata": {},
     "output_type": "display_data"
    },
    {
     "data": {
      "application/vnd.jupyter.widget-view+json": {
       "model_id": "f0074470c4c342d6a0bcd927a8e7492a",
       "version_major": 2,
       "version_minor": 0
      },
      "text/plain": [
       "[obtain_trajectories]:   0%|          | 0/3200 [00:00<?, ?it/s]"
      ]
     },
     "metadata": {},
     "output_type": "display_data"
    },
    {
     "data": {
      "application/vnd.jupyter.widget-view+json": {
       "model_id": "a413ce6966264657acd1bbda0bc9f133",
       "version_major": 2,
       "version_minor": 0
      },
      "text/plain": [
       "[fit FQE model]:   0%|          | 0/1 [00:00<?, ?it/s]"
      ]
     },
     "metadata": {},
     "output_type": "display_data"
    },
    {
     "name": "stdout",
     "output_type": "stream",
     "text": [
      "2023-03-16 19:12.24 [debug    ] RoundIterator is selected.\n",
      "2023-03-16 19:12.24 [info     ] Directory is created at d3rlpy_logs/FQE_20230316191224\n",
      "2023-03-16 19:12.24 [debug    ] Fitting scaler...              scaler=min_max\n",
      "2023-03-16 19:12.24 [debug    ] Fitting action scaler...       action_scaler=min_max\n",
      "2023-03-16 19:12.24 [debug    ] Building models...\n",
      "2023-03-16 19:12.24 [debug    ] Models have been built.\n",
      "2023-03-16 19:12.24 [info     ] Parameters are saved to d3rlpy_logs/FQE_20230316191224/params.json params={'action_scaler': {'type': 'min_max', 'params': {'minimum': array([0.1]), 'maximum': array([10.])}}, 'batch_size': 100, 'encoder_factory': {'type': 'vector', 'params': {'hidden_units': [30, 30], 'activation': 'relu', 'use_batch_norm': False, 'dropout_rate': None, 'use_dense': False}}, 'gamma': 0.95, 'generated_maxlen': 100000, 'learning_rate': 0.0001, 'n_critics': 1, 'n_frames': 1, 'n_steps': 1, 'optim_factory': {'optim_cls': 'Adam', 'betas': (0.9, 0.999), 'eps': 1e-08, 'weight_decay': 0, 'amsgrad': False}, 'q_func_factory': {'type': 'mean', 'params': {'share_encoder': False}}, 'real_ratio': 1.0, 'reward_scaler': None, 'scaler': {'type': 'min_max', 'params': {'maximum': array([6.00000000e+00, 3.00000000e+03, 9.99625435e-01, 4.80000000e+04,\n",
      "       1.00000000e+00, 1.90000000e+01, 9.99983925e+00]), 'minimum': array([0.00000000e+00, 1.00000000e+00, 0.00000000e+00, 0.00000000e+00,\n",
      "       0.00000000e+00, 0.00000000e+00, 3.48776447e-04])}}, 'target_update_interval': 100, 'use_gpu': None, 'algorithm': 'FQE', 'observation_shape': (7,), 'action_size': 1}\n"
     ]
    },
    {
     "data": {
      "application/vnd.jupyter.widget-view+json": {
       "model_id": "b5a1dd9040844c039d1a4bad10015b7c",
       "version_major": 2,
       "version_minor": 0
      },
      "text/plain": [
       "Epoch 1/1:   0%|          | 0/224 [00:00<?, ?it/s]"
      ]
     },
     "metadata": {},
     "output_type": "display_data"
    },
    {
     "name": "stdout",
     "output_type": "stream",
     "text": [
      "2023-03-16 19:12.24 [info     ] FQE_20230316191224: epoch=1 step=224 epoch=1 metrics={'time_sample_batch': 9.076084409441267e-05, 'time_algorithm_update': 0.0010245548827307565, 'loss': 13.615849135177475, 'time_step': 0.0011518682752336775} step=224\n",
      "2023-03-16 19:12.24 [info     ] Model parameters are saved to d3rlpy_logs/FQE_20230316191224/model_224.pt\n"
     ]
    },
    {
     "data": {
      "application/vnd.jupyter.widget-view+json": {
       "model_id": "f84c0bd125f64878924f2fe598451211",
       "version_major": 2,
       "version_minor": 0
      },
      "text/plain": [
       "[fit MWL model]:   0%|          | 0/1 [00:00<?, ?it/s]"
      ]
     },
     "metadata": {},
     "output_type": "display_data"
    },
    {
     "data": {
      "application/vnd.jupyter.widget-view+json": {
       "model_id": "59668dc6d91749b9a5302f917a613cf9",
       "version_major": 2,
       "version_minor": 0
      },
      "text/plain": [
       "[fitting_weight_function]:   0%|          | 0/100 [00:00<?, ?it/s]"
      ]
     },
     "metadata": {},
     "output_type": "display_data"
    },
    {
     "data": {
      "application/vnd.jupyter.widget-view+json": {
       "model_id": "e6f882b8ab8d4a31be8fcd974523ee9c",
       "version_major": 2,
       "version_minor": 0
      },
      "text/plain": [
       "[fitting_weight_function]:   0%|          | 0/100 [00:00<?, ?it/s]"
      ]
     },
     "metadata": {},
     "output_type": "display_data"
    },
    {
     "data": {
      "application/vnd.jupyter.widget-view+json": {
       "model_id": "0bfbeb756fc24ebb93ce921841ebe0d7",
       "version_major": 2,
       "version_minor": 0
      },
      "text/plain": [
       "[collect input data: eval_policy]:   0%|          | 0/1 [00:00<?, ?it/s]"
      ]
     },
     "metadata": {},
     "output_type": "display_data"
    },
    {
     "data": {
      "application/vnd.jupyter.widget-view+json": {
       "model_id": "233a903f18434215a21966133ad7d2cd",
       "version_major": 2,
       "version_minor": 0
      },
      "text/plain": [
       "[calculate on-policy policy value]:   0%|          | 0/100 [00:00<?, ?it/s]"
      ]
     },
     "metadata": {},
     "output_type": "display_data"
    },
    {
     "data": {
      "application/vnd.jupyter.widget-view+json": {
       "model_id": "1788b2ae355f4f79a1cfa8683e98abff",
       "version_major": 2,
       "version_minor": 0
      },
      "text/plain": [
       "[obtain_trajectories]:   0%|          | 0/3200 [00:00<?, ?it/s]"
      ]
     },
     "metadata": {},
     "output_type": "display_data"
    },
    {
     "data": {
      "application/vnd.jupyter.widget-view+json": {
       "model_id": "5fa97c4bac9741e19ca8edd4e4a7dd40",
       "version_major": 2,
       "version_minor": 0
      },
      "text/plain": [
       "[obtain_trajectories]:   0%|          | 0/3200 [00:00<?, ?it/s]"
      ]
     },
     "metadata": {},
     "output_type": "display_data"
    },
    {
     "data": {
      "application/vnd.jupyter.widget-view+json": {
       "model_id": "2526ccf6d2ee4bddb8ec9a830733b10a",
       "version_major": 2,
       "version_minor": 0
      },
      "text/plain": [
       "[fit FQE model]:   0%|          | 0/1 [00:00<?, ?it/s]"
      ]
     },
     "metadata": {},
     "output_type": "display_data"
    },
    {
     "name": "stdout",
     "output_type": "stream",
     "text": [
      "2023-03-16 19:13.29 [debug    ] RoundIterator is selected.\n",
      "2023-03-16 19:13.29 [info     ] Directory is created at d3rlpy_logs/FQE_20230316191329\n",
      "2023-03-16 19:13.29 [debug    ] Fitting scaler...              scaler=min_max\n",
      "2023-03-16 19:13.29 [debug    ] Fitting action scaler...       action_scaler=min_max\n",
      "2023-03-16 19:13.29 [debug    ] Building models...\n",
      "2023-03-16 19:13.29 [debug    ] Models have been built.\n",
      "2023-03-16 19:13.29 [info     ] Parameters are saved to d3rlpy_logs/FQE_20230316191329/params.json params={'action_scaler': {'type': 'min_max', 'params': {'minimum': array([0.1]), 'maximum': array([10.])}}, 'batch_size': 100, 'encoder_factory': {'type': 'vector', 'params': {'hidden_units': [30, 30], 'activation': 'relu', 'use_batch_norm': False, 'dropout_rate': None, 'use_dense': False}}, 'gamma': 0.95, 'generated_maxlen': 100000, 'learning_rate': 0.0001, 'n_critics': 1, 'n_frames': 1, 'n_steps': 1, 'optim_factory': {'optim_cls': 'Adam', 'betas': (0.9, 0.999), 'eps': 1e-08, 'weight_decay': 0, 'amsgrad': False}, 'q_func_factory': {'type': 'mean', 'params': {'share_encoder': False}}, 'real_ratio': 1.0, 'reward_scaler': None, 'scaler': {'type': 'min_max', 'params': {'maximum': array([6.00000000e+00, 3.00000000e+03, 9.99930477e-01, 5.80000000e+04,\n",
      "       1.00000000e+00, 2.00000000e+01, 9.99986395e+00]), 'minimum': array([0.00000000e+00, 1.00000000e+00, 0.00000000e+00, 0.00000000e+00,\n",
      "       0.00000000e+00, 0.00000000e+00, 3.77688326e-05])}}, 'target_update_interval': 100, 'use_gpu': None, 'algorithm': 'FQE', 'observation_shape': (7,), 'action_size': 1}\n"
     ]
    },
    {
     "data": {
      "application/vnd.jupyter.widget-view+json": {
       "model_id": "4925bace54f549a591f9cb3c15557ea5",
       "version_major": 2,
       "version_minor": 0
      },
      "text/plain": [
       "Epoch 1/1:   0%|          | 0/224 [00:00<?, ?it/s]"
      ]
     },
     "metadata": {},
     "output_type": "display_data"
    },
    {
     "name": "stdout",
     "output_type": "stream",
     "text": [
      "2023-03-16 19:13.30 [info     ] FQE_20230316191329: epoch=1 step=224 epoch=1 metrics={'time_sample_batch': 9.881279298237391e-05, 'time_algorithm_update': 0.0011396589023726328, 'loss': 13.159603063549314, 'time_step': 0.0012781013335500444} step=224\n",
      "2023-03-16 19:13.30 [info     ] Model parameters are saved to d3rlpy_logs/FQE_20230316191329/model_224.pt\n"
     ]
    },
    {
     "data": {
      "application/vnd.jupyter.widget-view+json": {
       "model_id": "9b85be12c28349dcbef7ae4ec2c1b348",
       "version_major": 2,
       "version_minor": 0
      },
      "text/plain": [
       "[fit MWL model]:   0%|          | 0/1 [00:00<?, ?it/s]"
      ]
     },
     "metadata": {},
     "output_type": "display_data"
    },
    {
     "data": {
      "application/vnd.jupyter.widget-view+json": {
       "model_id": "c51ac472b45849b5b4ad0e0877dd194d",
       "version_major": 2,
       "version_minor": 0
      },
      "text/plain": [
       "[fitting_weight_function]:   0%|          | 0/100 [00:00<?, ?it/s]"
      ]
     },
     "metadata": {},
     "output_type": "display_data"
    },
    {
     "data": {
      "application/vnd.jupyter.widget-view+json": {
       "model_id": "59e82a8bc1964682b71cad190021716e",
       "version_major": 2,
       "version_minor": 0
      },
      "text/plain": [
       "[fitting_weight_function]:   0%|          | 0/100 [00:00<?, ?it/s]"
      ]
     },
     "metadata": {},
     "output_type": "display_data"
    },
    {
     "data": {
      "application/vnd.jupyter.widget-view+json": {
       "model_id": "1b8f9b4e996343c9888fabd6750f3e6a",
       "version_major": 2,
       "version_minor": 0
      },
      "text/plain": [
       "[collect input data: eval_policy]:   0%|          | 0/1 [00:00<?, ?it/s]"
      ]
     },
     "metadata": {},
     "output_type": "display_data"
    },
    {
     "data": {
      "application/vnd.jupyter.widget-view+json": {
       "model_id": "5d62142b5db948d5928207631c19847f",
       "version_major": 2,
       "version_minor": 0
      },
      "text/plain": [
       "[calculate on-policy policy value]:   0%|          | 0/100 [00:00<?, ?it/s]"
      ]
     },
     "metadata": {},
     "output_type": "display_data"
    },
    {
     "data": {
      "application/vnd.jupyter.widget-view+json": {
       "model_id": "af98e208123a4cf984dd9028fdbd00d1",
       "version_major": 2,
       "version_minor": 0
      },
      "text/plain": [
       "[obtain_trajectories]:   0%|          | 0/3200 [00:00<?, ?it/s]"
      ]
     },
     "metadata": {},
     "output_type": "display_data"
    },
    {
     "data": {
      "application/vnd.jupyter.widget-view+json": {
       "model_id": "2bcac5324e4f4d5f9ecddabe4ff2e3d0",
       "version_major": 2,
       "version_minor": 0
      },
      "text/plain": [
       "[obtain_trajectories]:   0%|          | 0/3200 [00:00<?, ?it/s]"
      ]
     },
     "metadata": {},
     "output_type": "display_data"
    },
    {
     "data": {
      "application/vnd.jupyter.widget-view+json": {
       "model_id": "a894650f6e3d4eb593ea281ac220cd5f",
       "version_major": 2,
       "version_minor": 0
      },
      "text/plain": [
       "[fit FQE model]:   0%|          | 0/1 [00:00<?, ?it/s]"
      ]
     },
     "metadata": {},
     "output_type": "display_data"
    },
    {
     "name": "stdout",
     "output_type": "stream",
     "text": [
      "2023-03-16 19:14.37 [debug    ] RoundIterator is selected.\n",
      "2023-03-16 19:14.37 [info     ] Directory is created at d3rlpy_logs/FQE_20230316191437\n",
      "2023-03-16 19:14.37 [debug    ] Fitting scaler...              scaler=min_max\n",
      "2023-03-16 19:14.37 [debug    ] Fitting action scaler...       action_scaler=min_max\n",
      "2023-03-16 19:14.37 [debug    ] Building models...\n",
      "2023-03-16 19:14.37 [debug    ] Models have been built.\n",
      "2023-03-16 19:14.37 [info     ] Parameters are saved to d3rlpy_logs/FQE_20230316191437/params.json params={'action_scaler': {'type': 'min_max', 'params': {'minimum': array([0.1]), 'maximum': array([10.])}}, 'batch_size': 100, 'encoder_factory': {'type': 'vector', 'params': {'hidden_units': [30, 30], 'activation': 'relu', 'use_batch_norm': False, 'dropout_rate': None, 'use_dense': False}}, 'gamma': 0.95, 'generated_maxlen': 100000, 'learning_rate': 0.0001, 'n_critics': 1, 'n_frames': 1, 'n_steps': 1, 'optim_factory': {'optim_cls': 'Adam', 'betas': (0.9, 0.999), 'eps': 1e-08, 'weight_decay': 0, 'amsgrad': False}, 'q_func_factory': {'type': 'mean', 'params': {'share_encoder': False}}, 'real_ratio': 1.0, 'reward_scaler': None, 'scaler': {'type': 'min_max', 'params': {'maximum': array([6.00000000e+00, 3.00000000e+03, 9.99742850e-01, 6.70000000e+04,\n",
      "       1.00000000e+00, 2.00000000e+01, 9.99973734e+00]), 'minimum': array([0.0000000e+00, 1.0000000e+00, 0.0000000e+00, 0.0000000e+00,\n",
      "       0.0000000e+00, 0.0000000e+00, 2.8824195e-05])}}, 'target_update_interval': 100, 'use_gpu': None, 'algorithm': 'FQE', 'observation_shape': (7,), 'action_size': 1}\n"
     ]
    },
    {
     "data": {
      "application/vnd.jupyter.widget-view+json": {
       "model_id": "b55c8c3ed6b54726a3581af7a6ecf2e4",
       "version_major": 2,
       "version_minor": 0
      },
      "text/plain": [
       "Epoch 1/1:   0%|          | 0/224 [00:00<?, ?it/s]"
      ]
     },
     "metadata": {},
     "output_type": "display_data"
    },
    {
     "name": "stdout",
     "output_type": "stream",
     "text": [
      "2023-03-16 19:14.37 [info     ] FQE_20230316191437: epoch=1 step=224 epoch=1 metrics={'time_sample_batch': 9.794746126447405e-05, 'time_algorithm_update': 0.0011599021298544748, 'loss': 14.056146517395973, 'time_step': 0.0013108679226466588} step=224\n",
      "2023-03-16 19:14.37 [info     ] Model parameters are saved to d3rlpy_logs/FQE_20230316191437/model_224.pt\n"
     ]
    },
    {
     "data": {
      "application/vnd.jupyter.widget-view+json": {
       "model_id": "e23de1f5e0f24e6e8519691e8356c566",
       "version_major": 2,
       "version_minor": 0
      },
      "text/plain": [
       "[fit MWL model]:   0%|          | 0/1 [00:00<?, ?it/s]"
      ]
     },
     "metadata": {},
     "output_type": "display_data"
    },
    {
     "data": {
      "application/vnd.jupyter.widget-view+json": {
       "model_id": "2cc260111e054a32b4d3772899f0a8c5",
       "version_major": 2,
       "version_minor": 0
      },
      "text/plain": [
       "[fitting_weight_function]:   0%|          | 0/100 [00:00<?, ?it/s]"
      ]
     },
     "metadata": {},
     "output_type": "display_data"
    },
    {
     "data": {
      "application/vnd.jupyter.widget-view+json": {
       "model_id": "a7b34f33294c406cb112fd66fe20ea7e",
       "version_major": 2,
       "version_minor": 0
      },
      "text/plain": [
       "[fitting_weight_function]:   0%|          | 0/100 [00:00<?, ?it/s]"
      ]
     },
     "metadata": {},
     "output_type": "display_data"
    },
    {
     "data": {
      "application/vnd.jupyter.widget-view+json": {
       "model_id": "66e8090326e14d38bf8c036d0f4994d2",
       "version_major": 2,
       "version_minor": 0
      },
      "text/plain": [
       "[collect input data: eval_policy]:   0%|          | 0/1 [00:00<?, ?it/s]"
      ]
     },
     "metadata": {},
     "output_type": "display_data"
    },
    {
     "data": {
      "application/vnd.jupyter.widget-view+json": {
       "model_id": "2f62f387c92a42c3a49868b100ffa343",
       "version_major": 2,
       "version_minor": 0
      },
      "text/plain": [
       "[calculate on-policy policy value]:   0%|          | 0/100 [00:00<?, ?it/s]"
      ]
     },
     "metadata": {},
     "output_type": "display_data"
    },
    {
     "data": {
      "application/vnd.jupyter.widget-view+json": {
       "model_id": "811732f9f2aa4c41ada14c6bbd2b5526",
       "version_major": 2,
       "version_minor": 0
      },
      "text/plain": [
       "[obtain_trajectories]:   0%|          | 0/6400 [00:00<?, ?it/s]"
      ]
     },
     "metadata": {},
     "output_type": "display_data"
    },
    {
     "data": {
      "application/vnd.jupyter.widget-view+json": {
       "model_id": "d78ddb2b159a43d4bf220d37289ab1fb",
       "version_major": 2,
       "version_minor": 0
      },
      "text/plain": [
       "[obtain_trajectories]:   0%|          | 0/6400 [00:00<?, ?it/s]"
      ]
     },
     "metadata": {},
     "output_type": "display_data"
    },
    {
     "data": {
      "application/vnd.jupyter.widget-view+json": {
       "model_id": "7dc09814381945d4a79fea38b27ed3c8",
       "version_major": 2,
       "version_minor": 0
      },
      "text/plain": [
       "[fit FQE model]:   0%|          | 0/1 [00:00<?, ?it/s]"
      ]
     },
     "metadata": {},
     "output_type": "display_data"
    },
    {
     "name": "stdout",
     "output_type": "stream",
     "text": [
      "2023-03-16 19:16.27 [debug    ] RoundIterator is selected.\n",
      "2023-03-16 19:16.27 [info     ] Directory is created at d3rlpy_logs/FQE_20230316191627\n",
      "2023-03-16 19:16.27 [debug    ] Fitting scaler...              scaler=min_max\n",
      "2023-03-16 19:16.27 [debug    ] Fitting action scaler...       action_scaler=min_max\n",
      "2023-03-16 19:16.27 [debug    ] Building models...\n",
      "2023-03-16 19:16.27 [debug    ] Models have been built.\n",
      "2023-03-16 19:16.27 [info     ] Parameters are saved to d3rlpy_logs/FQE_20230316191627/params.json params={'action_scaler': {'type': 'min_max', 'params': {'minimum': array([0.1]), 'maximum': array([10.])}}, 'batch_size': 100, 'encoder_factory': {'type': 'vector', 'params': {'hidden_units': [30, 30], 'activation': 'relu', 'use_batch_norm': False, 'dropout_rate': None, 'use_dense': False}}, 'gamma': 0.95, 'generated_maxlen': 100000, 'learning_rate': 0.0001, 'n_critics': 1, 'n_frames': 1, 'n_steps': 1, 'optim_factory': {'optim_cls': 'Adam', 'betas': (0.9, 0.999), 'eps': 1e-08, 'weight_decay': 0, 'amsgrad': False}, 'q_func_factory': {'type': 'mean', 'params': {'share_encoder': False}}, 'real_ratio': 1.0, 'reward_scaler': None, 'scaler': {'type': 'min_max', 'params': {'maximum': array([6.00000000e+00, 3.00000000e+03, 9.99747791e-01, 5.40000000e+04,\n",
      "       1.00000000e+00, 2.00000000e+01, 9.99996198e+00]), 'minimum': array([0.00000000e+00, 1.00000000e+00, 0.00000000e+00, 0.00000000e+00,\n",
      "       0.00000000e+00, 0.00000000e+00, 2.76941577e-05])}}, 'target_update_interval': 100, 'use_gpu': None, 'algorithm': 'FQE', 'observation_shape': (7,), 'action_size': 1}\n"
     ]
    },
    {
     "data": {
      "application/vnd.jupyter.widget-view+json": {
       "model_id": "c107537326b243c2810116d765970b68",
       "version_major": 2,
       "version_minor": 0
      },
      "text/plain": [
       "Epoch 1/1:   0%|          | 0/448 [00:00<?, ?it/s]"
      ]
     },
     "metadata": {},
     "output_type": "display_data"
    },
    {
     "name": "stdout",
     "output_type": "stream",
     "text": [
      "2023-03-16 19:16.28 [info     ] FQE_20230316191627: epoch=1 step=448 epoch=1 metrics={'time_sample_batch': 9.031008396829878e-05, 'time_algorithm_update': 0.0009553624050957816, 'loss': 16.161272404449328, 'time_step': 0.0010849109717777797} step=448\n",
      "2023-03-16 19:16.28 [info     ] Model parameters are saved to d3rlpy_logs/FQE_20230316191627/model_448.pt\n"
     ]
    },
    {
     "data": {
      "application/vnd.jupyter.widget-view+json": {
       "model_id": "78169614bbe3467bad77ee8f6c5afd6b",
       "version_major": 2,
       "version_minor": 0
      },
      "text/plain": [
       "[fit MWL model]:   0%|          | 0/1 [00:00<?, ?it/s]"
      ]
     },
     "metadata": {},
     "output_type": "display_data"
    },
    {
     "data": {
      "application/vnd.jupyter.widget-view+json": {
       "model_id": "ae273d8243c14dfbb54007a73bbcd7cb",
       "version_major": 2,
       "version_minor": 0
      },
      "text/plain": [
       "[fitting_weight_function]:   0%|          | 0/100 [00:00<?, ?it/s]"
      ]
     },
     "metadata": {},
     "output_type": "display_data"
    },
    {
     "data": {
      "application/vnd.jupyter.widget-view+json": {
       "model_id": "22992a587e084d87803cc23d86e4808d",
       "version_major": 2,
       "version_minor": 0
      },
      "text/plain": [
       "[fitting_weight_function]:   0%|          | 0/100 [00:00<?, ?it/s]"
      ]
     },
     "metadata": {},
     "output_type": "display_data"
    },
    {
     "data": {
      "application/vnd.jupyter.widget-view+json": {
       "model_id": "46cc2182e57a4be39c8915596dbb2d32",
       "version_major": 2,
       "version_minor": 0
      },
      "text/plain": [
       "[collect input data: eval_policy]:   0%|          | 0/1 [00:00<?, ?it/s]"
      ]
     },
     "metadata": {},
     "output_type": "display_data"
    },
    {
     "data": {
      "application/vnd.jupyter.widget-view+json": {
       "model_id": "fe7503cff1a941f6bc217a7d7b188a5b",
       "version_major": 2,
       "version_minor": 0
      },
      "text/plain": [
       "[calculate on-policy policy value]:   0%|          | 0/100 [00:00<?, ?it/s]"
      ]
     },
     "metadata": {},
     "output_type": "display_data"
    },
    {
     "data": {
      "application/vnd.jupyter.widget-view+json": {
       "model_id": "161a9c58922d461c83c86704f1c6b825",
       "version_major": 2,
       "version_minor": 0
      },
      "text/plain": [
       "[obtain_trajectories]:   0%|          | 0/6400 [00:00<?, ?it/s]"
      ]
     },
     "metadata": {},
     "output_type": "display_data"
    },
    {
     "data": {
      "application/vnd.jupyter.widget-view+json": {
       "model_id": "4a5672ef889042da92a34ba687bb0f15",
       "version_major": 2,
       "version_minor": 0
      },
      "text/plain": [
       "[obtain_trajectories]:   0%|          | 0/6400 [00:00<?, ?it/s]"
      ]
     },
     "metadata": {},
     "output_type": "display_data"
    },
    {
     "data": {
      "application/vnd.jupyter.widget-view+json": {
       "model_id": "065d500064284a79812f4ba56024c63b",
       "version_major": 2,
       "version_minor": 0
      },
      "text/plain": [
       "[fit FQE model]:   0%|          | 0/1 [00:00<?, ?it/s]"
      ]
     },
     "metadata": {},
     "output_type": "display_data"
    },
    {
     "name": "stdout",
     "output_type": "stream",
     "text": [
      "2023-03-16 19:18.12 [debug    ] RoundIterator is selected.\n",
      "2023-03-16 19:18.12 [info     ] Directory is created at d3rlpy_logs/FQE_20230316191812\n",
      "2023-03-16 19:18.12 [debug    ] Fitting scaler...              scaler=min_max\n",
      "2023-03-16 19:18.12 [debug    ] Fitting action scaler...       action_scaler=min_max\n",
      "2023-03-16 19:18.12 [debug    ] Building models...\n",
      "2023-03-16 19:18.12 [debug    ] Models have been built.\n",
      "2023-03-16 19:18.12 [info     ] Parameters are saved to d3rlpy_logs/FQE_20230316191812/params.json params={'action_scaler': {'type': 'min_max', 'params': {'minimum': array([0.1]), 'maximum': array([10.])}}, 'batch_size': 100, 'encoder_factory': {'type': 'vector', 'params': {'hidden_units': [30, 30], 'activation': 'relu', 'use_batch_norm': False, 'dropout_rate': None, 'use_dense': False}}, 'gamma': 0.95, 'generated_maxlen': 100000, 'learning_rate': 0.0001, 'n_critics': 1, 'n_frames': 1, 'n_steps': 1, 'optim_factory': {'optim_cls': 'Adam', 'betas': (0.9, 0.999), 'eps': 1e-08, 'weight_decay': 0, 'amsgrad': False}, 'q_func_factory': {'type': 'mean', 'params': {'share_encoder': False}}, 'real_ratio': 1.0, 'reward_scaler': None, 'scaler': {'type': 'min_max', 'params': {'maximum': array([6.00000000e+00, 3.00000000e+03, 9.99844840e-01, 5.10000000e+04,\n",
      "       1.00000000e+00, 2.00000000e+01, 9.99992697e+00]), 'minimum': array([0.00000000e+00, 1.00000000e+00, 0.00000000e+00, 0.00000000e+00,\n",
      "       0.00000000e+00, 0.00000000e+00, 1.10192588e-04])}}, 'target_update_interval': 100, 'use_gpu': None, 'algorithm': 'FQE', 'observation_shape': (7,), 'action_size': 1}\n"
     ]
    },
    {
     "data": {
      "application/vnd.jupyter.widget-view+json": {
       "model_id": "378dbf21495b4d559ce9a1284a5a7eea",
       "version_major": 2,
       "version_minor": 0
      },
      "text/plain": [
       "Epoch 1/1:   0%|          | 0/448 [00:00<?, ?it/s]"
      ]
     },
     "metadata": {},
     "output_type": "display_data"
    },
    {
     "name": "stdout",
     "output_type": "stream",
     "text": [
      "2023-03-16 19:18.12 [info     ] FQE_20230316191812: epoch=1 step=448 epoch=1 metrics={'time_sample_batch': 9.21312187399183e-05, 'time_algorithm_update': 0.0009556801191398076, 'loss': 16.463231928646564, 'time_step': 0.0010877459176949092} step=448\n",
      "2023-03-16 19:18.12 [info     ] Model parameters are saved to d3rlpy_logs/FQE_20230316191812/model_448.pt\n"
     ]
    },
    {
     "data": {
      "application/vnd.jupyter.widget-view+json": {
       "model_id": "84a56247866c4d1f9a65d60274880921",
       "version_major": 2,
       "version_minor": 0
      },
      "text/plain": [
       "[fit MWL model]:   0%|          | 0/1 [00:00<?, ?it/s]"
      ]
     },
     "metadata": {},
     "output_type": "display_data"
    },
    {
     "data": {
      "application/vnd.jupyter.widget-view+json": {
       "model_id": "00f3cb0b0436428aadcd8fd29877c8ec",
       "version_major": 2,
       "version_minor": 0
      },
      "text/plain": [
       "[fitting_weight_function]:   0%|          | 0/100 [00:00<?, ?it/s]"
      ]
     },
     "metadata": {},
     "output_type": "display_data"
    },
    {
     "data": {
      "application/vnd.jupyter.widget-view+json": {
       "model_id": "b574051170464419bb8cf05c213c250f",
       "version_major": 2,
       "version_minor": 0
      },
      "text/plain": [
       "[fitting_weight_function]:   0%|          | 0/100 [00:00<?, ?it/s]"
      ]
     },
     "metadata": {},
     "output_type": "display_data"
    },
    {
     "data": {
      "application/vnd.jupyter.widget-view+json": {
       "model_id": "af4631133c9b412193fc396988b5a6a1",
       "version_major": 2,
       "version_minor": 0
      },
      "text/plain": [
       "[collect input data: eval_policy]:   0%|          | 0/1 [00:00<?, ?it/s]"
      ]
     },
     "metadata": {},
     "output_type": "display_data"
    },
    {
     "data": {
      "application/vnd.jupyter.widget-view+json": {
       "model_id": "423bb133011a4c28b0468fdd8bfce0bf",
       "version_major": 2,
       "version_minor": 0
      },
      "text/plain": [
       "[calculate on-policy policy value]:   0%|          | 0/100 [00:00<?, ?it/s]"
      ]
     },
     "metadata": {},
     "output_type": "display_data"
    },
    {
     "data": {
      "application/vnd.jupyter.widget-view+json": {
       "model_id": "c957f96cafc9499794250fff6c3277ea",
       "version_major": 2,
       "version_minor": 0
      },
      "text/plain": [
       "[obtain_trajectories]:   0%|          | 0/6400 [00:00<?, ?it/s]"
      ]
     },
     "metadata": {},
     "output_type": "display_data"
    },
    {
     "data": {
      "application/vnd.jupyter.widget-view+json": {
       "model_id": "bae8cd3f18d74ff5a1a82c93270aa474",
       "version_major": 2,
       "version_minor": 0
      },
      "text/plain": [
       "[obtain_trajectories]:   0%|          | 0/6400 [00:00<?, ?it/s]"
      ]
     },
     "metadata": {},
     "output_type": "display_data"
    },
    {
     "data": {
      "application/vnd.jupyter.widget-view+json": {
       "model_id": "5a96a901d22540438a87e785815ad584",
       "version_major": 2,
       "version_minor": 0
      },
      "text/plain": [
       "[fit FQE model]:   0%|          | 0/1 [00:00<?, ?it/s]"
      ]
     },
     "metadata": {},
     "output_type": "display_data"
    },
    {
     "name": "stdout",
     "output_type": "stream",
     "text": [
      "2023-03-16 19:19.58 [debug    ] RoundIterator is selected.\n",
      "2023-03-16 19:19.58 [info     ] Directory is created at d3rlpy_logs/FQE_20230316191958\n",
      "2023-03-16 19:19.58 [debug    ] Fitting scaler...              scaler=min_max\n",
      "2023-03-16 19:19.58 [debug    ] Fitting action scaler...       action_scaler=min_max\n",
      "2023-03-16 19:19.58 [debug    ] Building models...\n",
      "2023-03-16 19:19.58 [debug    ] Models have been built.\n",
      "2023-03-16 19:19.58 [info     ] Parameters are saved to d3rlpy_logs/FQE_20230316191958/params.json params={'action_scaler': {'type': 'min_max', 'params': {'minimum': array([0.1]), 'maximum': array([10.])}}, 'batch_size': 100, 'encoder_factory': {'type': 'vector', 'params': {'hidden_units': [30, 30], 'activation': 'relu', 'use_batch_norm': False, 'dropout_rate': None, 'use_dense': False}}, 'gamma': 0.95, 'generated_maxlen': 100000, 'learning_rate': 0.0001, 'n_critics': 1, 'n_frames': 1, 'n_steps': 1, 'optim_factory': {'optim_cls': 'Adam', 'betas': (0.9, 0.999), 'eps': 1e-08, 'weight_decay': 0, 'amsgrad': False}, 'q_func_factory': {'type': 'mean', 'params': {'share_encoder': False}}, 'real_ratio': 1.0, 'reward_scaler': None, 'scaler': {'type': 'min_max', 'params': {'maximum': array([6.00000000e+00, 3.00000000e+03, 9.99974188e-01, 5.80000000e+04,\n",
      "       1.00000000e+00, 2.00000000e+01, 9.99990825e+00]), 'minimum': array([0.00000000e+00, 1.00000000e+00, 0.00000000e+00, 0.00000000e+00,\n",
      "       0.00000000e+00, 0.00000000e+00, 5.09989448e-05])}}, 'target_update_interval': 100, 'use_gpu': None, 'algorithm': 'FQE', 'observation_shape': (7,), 'action_size': 1}\n"
     ]
    },
    {
     "data": {
      "application/vnd.jupyter.widget-view+json": {
       "model_id": "a0e1cd9ce87d4760a4fbd43326ddbdd0",
       "version_major": 2,
       "version_minor": 0
      },
      "text/plain": [
       "Epoch 1/1:   0%|          | 0/448 [00:00<?, ?it/s]"
      ]
     },
     "metadata": {},
     "output_type": "display_data"
    },
    {
     "name": "stdout",
     "output_type": "stream",
     "text": [
      "2023-03-16 19:19.59 [info     ] FQE_20230316191958: epoch=1 step=448 epoch=1 metrics={'time_sample_batch': 0.0001099221408367157, 'time_algorithm_update': 0.0012143217027187347, 'loss': 18.06610560523612, 'time_step': 0.0013781450688838959} step=448\n",
      "2023-03-16 19:19.59 [info     ] Model parameters are saved to d3rlpy_logs/FQE_20230316191958/model_448.pt\n"
     ]
    },
    {
     "data": {
      "application/vnd.jupyter.widget-view+json": {
       "model_id": "09af1d8357ef4421a59d9668ab389de9",
       "version_major": 2,
       "version_minor": 0
      },
      "text/plain": [
       "[fit MWL model]:   0%|          | 0/1 [00:00<?, ?it/s]"
      ]
     },
     "metadata": {},
     "output_type": "display_data"
    },
    {
     "data": {
      "application/vnd.jupyter.widget-view+json": {
       "model_id": "45eba43b24c84de49eeb978a9ac7fc9f",
       "version_major": 2,
       "version_minor": 0
      },
      "text/plain": [
       "[fitting_weight_function]:   0%|          | 0/100 [00:00<?, ?it/s]"
      ]
     },
     "metadata": {},
     "output_type": "display_data"
    },
    {
     "data": {
      "application/vnd.jupyter.widget-view+json": {
       "model_id": "fffcc8575f56490bbfd8be0585f38a1d",
       "version_major": 2,
       "version_minor": 0
      },
      "text/plain": [
       "[fitting_weight_function]:   0%|          | 0/100 [00:00<?, ?it/s]"
      ]
     },
     "metadata": {},
     "output_type": "display_data"
    },
    {
     "data": {
      "application/vnd.jupyter.widget-view+json": {
       "model_id": "17c1399dc3394d6883551f1b7a2bb3cb",
       "version_major": 2,
       "version_minor": 0
      },
      "text/plain": [
       "[collect input data: eval_policy]:   0%|          | 0/1 [00:00<?, ?it/s]"
      ]
     },
     "metadata": {},
     "output_type": "display_data"
    },
    {
     "data": {
      "application/vnd.jupyter.widget-view+json": {
       "model_id": "cdf87b65fff240bb841a9a9d5efb30c0",
       "version_major": 2,
       "version_minor": 0
      },
      "text/plain": [
       "[calculate on-policy policy value]:   0%|          | 0/100 [00:00<?, ?it/s]"
      ]
     },
     "metadata": {},
     "output_type": "display_data"
    },
    {
     "data": {
      "application/vnd.jupyter.widget-view+json": {
       "model_id": "09c8403be0f24f648967d9597049439e",
       "version_major": 2,
       "version_minor": 0
      },
      "text/plain": [
       "[obtain_trajectories]:   0%|          | 0/6400 [00:00<?, ?it/s]"
      ]
     },
     "metadata": {},
     "output_type": "display_data"
    },
    {
     "data": {
      "application/vnd.jupyter.widget-view+json": {
       "model_id": "46d559d4f6da477da8605489e9dd8e75",
       "version_major": 2,
       "version_minor": 0
      },
      "text/plain": [
       "[obtain_trajectories]:   0%|          | 0/6400 [00:00<?, ?it/s]"
      ]
     },
     "metadata": {},
     "output_type": "display_data"
    },
    {
     "data": {
      "application/vnd.jupyter.widget-view+json": {
       "model_id": "6a3c801310c14e6099b38396faeb5b1d",
       "version_major": 2,
       "version_minor": 0
      },
      "text/plain": [
       "[fit FQE model]:   0%|          | 0/1 [00:00<?, ?it/s]"
      ]
     },
     "metadata": {},
     "output_type": "display_data"
    },
    {
     "name": "stdout",
     "output_type": "stream",
     "text": [
      "2023-03-16 19:21.44 [debug    ] RoundIterator is selected.\n",
      "2023-03-16 19:21.44 [info     ] Directory is created at d3rlpy_logs/FQE_20230316192144\n",
      "2023-03-16 19:21.44 [debug    ] Fitting scaler...              scaler=min_max\n",
      "2023-03-16 19:21.44 [debug    ] Fitting action scaler...       action_scaler=min_max\n",
      "2023-03-16 19:21.44 [debug    ] Building models...\n",
      "2023-03-16 19:21.44 [debug    ] Models have been built.\n",
      "2023-03-16 19:21.44 [info     ] Parameters are saved to d3rlpy_logs/FQE_20230316192144/params.json params={'action_scaler': {'type': 'min_max', 'params': {'minimum': array([0.1]), 'maximum': array([10.])}}, 'batch_size': 100, 'encoder_factory': {'type': 'vector', 'params': {'hidden_units': [30, 30], 'activation': 'relu', 'use_batch_norm': False, 'dropout_rate': None, 'use_dense': False}}, 'gamma': 0.95, 'generated_maxlen': 100000, 'learning_rate': 0.0001, 'n_critics': 1, 'n_frames': 1, 'n_steps': 1, 'optim_factory': {'optim_cls': 'Adam', 'betas': (0.9, 0.999), 'eps': 1e-08, 'weight_decay': 0, 'amsgrad': False}, 'q_func_factory': {'type': 'mean', 'params': {'share_encoder': False}}, 'real_ratio': 1.0, 'reward_scaler': None, 'scaler': {'type': 'min_max', 'params': {'maximum': array([6.00000000e+00, 3.00000000e+03, 9.99809320e-01, 6.10000000e+04,\n",
      "       1.00000000e+00, 2.00000000e+01, 9.99977698e+00]), 'minimum': array([0.00000000e+00, 1.00000000e+00, 0.00000000e+00, 0.00000000e+00,\n",
      "       0.00000000e+00, 0.00000000e+00, 8.18953844e-05])}}, 'target_update_interval': 100, 'use_gpu': None, 'algorithm': 'FQE', 'observation_shape': (7,), 'action_size': 1}\n"
     ]
    },
    {
     "data": {
      "application/vnd.jupyter.widget-view+json": {
       "model_id": "a281f04763db4899951aa7566d288d3f",
       "version_major": 2,
       "version_minor": 0
      },
      "text/plain": [
       "Epoch 1/1:   0%|          | 0/448 [00:00<?, ?it/s]"
      ]
     },
     "metadata": {},
     "output_type": "display_data"
    },
    {
     "name": "stdout",
     "output_type": "stream",
     "text": [
      "2023-03-16 19:21.45 [info     ] FQE_20230316192144: epoch=1 step=448 epoch=1 metrics={'time_sample_batch': 9.445313896451677e-05, 'time_algorithm_update': 0.000958551253591265, 'loss': 15.907000961048263, 'time_step': 0.0010933737669672286} step=448\n",
      "2023-03-16 19:21.45 [info     ] Model parameters are saved to d3rlpy_logs/FQE_20230316192144/model_448.pt\n"
     ]
    },
    {
     "data": {
      "application/vnd.jupyter.widget-view+json": {
       "model_id": "7c75149f08df4f3ea9b66455138a97a9",
       "version_major": 2,
       "version_minor": 0
      },
      "text/plain": [
       "[fit MWL model]:   0%|          | 0/1 [00:00<?, ?it/s]"
      ]
     },
     "metadata": {},
     "output_type": "display_data"
    },
    {
     "data": {
      "application/vnd.jupyter.widget-view+json": {
       "model_id": "313419f1a3b3489d93593549de6ce79c",
       "version_major": 2,
       "version_minor": 0
      },
      "text/plain": [
       "[fitting_weight_function]:   0%|          | 0/100 [00:00<?, ?it/s]"
      ]
     },
     "metadata": {},
     "output_type": "display_data"
    },
    {
     "data": {
      "application/vnd.jupyter.widget-view+json": {
       "model_id": "1adf4790ed6a4d1ebddce8cb2deadb42",
       "version_major": 2,
       "version_minor": 0
      },
      "text/plain": [
       "[fitting_weight_function]:   0%|          | 0/100 [00:00<?, ?it/s]"
      ]
     },
     "metadata": {},
     "output_type": "display_data"
    },
    {
     "data": {
      "application/vnd.jupyter.widget-view+json": {
       "model_id": "a3b356e95d8a4de89c994ce0e4d1d414",
       "version_major": 2,
       "version_minor": 0
      },
      "text/plain": [
       "[collect input data: eval_policy]:   0%|          | 0/1 [00:00<?, ?it/s]"
      ]
     },
     "metadata": {},
     "output_type": "display_data"
    },
    {
     "data": {
      "application/vnd.jupyter.widget-view+json": {
       "model_id": "d55db5bc258f422389043a1e0d975e7b",
       "version_major": 2,
       "version_minor": 0
      },
      "text/plain": [
       "[calculate on-policy policy value]:   0%|          | 0/100 [00:00<?, ?it/s]"
      ]
     },
     "metadata": {},
     "output_type": "display_data"
    },
    {
     "data": {
      "application/vnd.jupyter.widget-view+json": {
       "model_id": "95d4916c9dcb4732b324666cc36a2a6a",
       "version_major": 2,
       "version_minor": 0
      },
      "text/plain": [
       "[obtain_trajectories]:   0%|          | 0/6400 [00:00<?, ?it/s]"
      ]
     },
     "metadata": {},
     "output_type": "display_data"
    },
    {
     "data": {
      "application/vnd.jupyter.widget-view+json": {
       "model_id": "4f6a89aedd8f42719c410f641b1c4bbe",
       "version_major": 2,
       "version_minor": 0
      },
      "text/plain": [
       "[obtain_trajectories]:   0%|          | 0/6400 [00:00<?, ?it/s]"
      ]
     },
     "metadata": {},
     "output_type": "display_data"
    },
    {
     "data": {
      "application/vnd.jupyter.widget-view+json": {
       "model_id": "93f6cb4fcf1145e88d7e6cba24b328bd",
       "version_major": 2,
       "version_minor": 0
      },
      "text/plain": [
       "[fit FQE model]:   0%|          | 0/1 [00:00<?, ?it/s]"
      ]
     },
     "metadata": {},
     "output_type": "display_data"
    },
    {
     "name": "stdout",
     "output_type": "stream",
     "text": [
      "2023-03-16 19:23.29 [debug    ] RoundIterator is selected.\n",
      "2023-03-16 19:23.29 [info     ] Directory is created at d3rlpy_logs/FQE_20230316192329\n",
      "2023-03-16 19:23.29 [debug    ] Fitting scaler...              scaler=min_max\n",
      "2023-03-16 19:23.29 [debug    ] Fitting action scaler...       action_scaler=min_max\n",
      "2023-03-16 19:23.29 [debug    ] Building models...\n",
      "2023-03-16 19:23.29 [debug    ] Models have been built.\n",
      "2023-03-16 19:23.29 [info     ] Parameters are saved to d3rlpy_logs/FQE_20230316192329/params.json params={'action_scaler': {'type': 'min_max', 'params': {'minimum': array([0.1]), 'maximum': array([10.])}}, 'batch_size': 100, 'encoder_factory': {'type': 'vector', 'params': {'hidden_units': [30, 30], 'activation': 'relu', 'use_batch_norm': False, 'dropout_rate': None, 'use_dense': False}}, 'gamma': 0.95, 'generated_maxlen': 100000, 'learning_rate': 0.0001, 'n_critics': 1, 'n_frames': 1, 'n_steps': 1, 'optim_factory': {'optim_cls': 'Adam', 'betas': (0.9, 0.999), 'eps': 1e-08, 'weight_decay': 0, 'amsgrad': False}, 'q_func_factory': {'type': 'mean', 'params': {'share_encoder': False}}, 'real_ratio': 1.0, 'reward_scaler': None, 'scaler': {'type': 'min_max', 'params': {'maximum': array([6.00000000e+00, 3.00000000e+03, 9.99690339e-01, 5.30000000e+04,\n",
      "       1.00000000e+00, 1.80000000e+01, 9.99971844e+00]), 'minimum': array([0.00000000e+00, 1.00000000e+00, 0.00000000e+00, 0.00000000e+00,\n",
      "       0.00000000e+00, 0.00000000e+00, 1.12535898e-05])}}, 'target_update_interval': 100, 'use_gpu': None, 'algorithm': 'FQE', 'observation_shape': (7,), 'action_size': 1}\n"
     ]
    },
    {
     "data": {
      "application/vnd.jupyter.widget-view+json": {
       "model_id": "33479710ae5b4e9b8dc8e2ca3fbe85d9",
       "version_major": 2,
       "version_minor": 0
      },
      "text/plain": [
       "Epoch 1/1:   0%|          | 0/448 [00:00<?, ?it/s]"
      ]
     },
     "metadata": {},
     "output_type": "display_data"
    },
    {
     "name": "stdout",
     "output_type": "stream",
     "text": [
      "2023-03-16 19:23.29 [info     ] FQE_20230316192329: epoch=1 step=448 epoch=1 metrics={'time_sample_batch': 9.367614984512329e-05, 'time_algorithm_update': 0.0009647304458277566, 'loss': 17.56148844531604, 'time_step': 0.0011005779462201254} step=448\n",
      "2023-03-16 19:23.29 [info     ] Model parameters are saved to d3rlpy_logs/FQE_20230316192329/model_448.pt\n"
     ]
    },
    {
     "data": {
      "application/vnd.jupyter.widget-view+json": {
       "model_id": "9a4cc56913814c2f99ef5c2de7e4ffae",
       "version_major": 2,
       "version_minor": 0
      },
      "text/plain": [
       "[fit MWL model]:   0%|          | 0/1 [00:00<?, ?it/s]"
      ]
     },
     "metadata": {},
     "output_type": "display_data"
    },
    {
     "data": {
      "application/vnd.jupyter.widget-view+json": {
       "model_id": "3e7174f2b9aa40faad82075c7934346e",
       "version_major": 2,
       "version_minor": 0
      },
      "text/plain": [
       "[fitting_weight_function]:   0%|          | 0/100 [00:00<?, ?it/s]"
      ]
     },
     "metadata": {},
     "output_type": "display_data"
    },
    {
     "data": {
      "application/vnd.jupyter.widget-view+json": {
       "model_id": "22c82b0914874c1da858b858a7738eb8",
       "version_major": 2,
       "version_minor": 0
      },
      "text/plain": [
       "[fitting_weight_function]:   0%|          | 0/100 [00:00<?, ?it/s]"
      ]
     },
     "metadata": {},
     "output_type": "display_data"
    },
    {
     "data": {
      "application/vnd.jupyter.widget-view+json": {
       "model_id": "fbf7b993a63d494781aa47da5bcf5f4a",
       "version_major": 2,
       "version_minor": 0
      },
      "text/plain": [
       "[collect input data: eval_policy]:   0%|          | 0/1 [00:00<?, ?it/s]"
      ]
     },
     "metadata": {},
     "output_type": "display_data"
    },
    {
     "data": {
      "application/vnd.jupyter.widget-view+json": {
       "model_id": "b4b881a1944b4e128d17f9a87433658f",
       "version_major": 2,
       "version_minor": 0
      },
      "text/plain": [
       "[calculate on-policy policy value]:   0%|          | 0/100 [00:00<?, ?it/s]"
      ]
     },
     "metadata": {},
     "output_type": "display_data"
    },
    {
     "data": {
      "application/vnd.jupyter.widget-view+json": {
       "model_id": "b4f7b166ead04ec191fe7e6e49b0b4de",
       "version_major": 2,
       "version_minor": 0
      },
      "text/plain": [
       "[obtain_trajectories]:   0%|          | 0/6400 [00:00<?, ?it/s]"
      ]
     },
     "metadata": {},
     "output_type": "display_data"
    },
    {
     "data": {
      "application/vnd.jupyter.widget-view+json": {
       "model_id": "69c50e2b94f446e19d26e9e9801eb543",
       "version_major": 2,
       "version_minor": 0
      },
      "text/plain": [
       "[obtain_trajectories]:   0%|          | 0/6400 [00:00<?, ?it/s]"
      ]
     },
     "metadata": {},
     "output_type": "display_data"
    },
    {
     "data": {
      "application/vnd.jupyter.widget-view+json": {
       "model_id": "9711decb6da6409cbd97938eb4e8ea3c",
       "version_major": 2,
       "version_minor": 0
      },
      "text/plain": [
       "[fit FQE model]:   0%|          | 0/1 [00:00<?, ?it/s]"
      ]
     },
     "metadata": {},
     "output_type": "display_data"
    },
    {
     "name": "stdout",
     "output_type": "stream",
     "text": [
      "2023-03-16 19:25.13 [debug    ] RoundIterator is selected.\n",
      "2023-03-16 19:25.13 [info     ] Directory is created at d3rlpy_logs/FQE_20230316192513\n",
      "2023-03-16 19:25.13 [debug    ] Fitting scaler...              scaler=min_max\n",
      "2023-03-16 19:25.13 [debug    ] Fitting action scaler...       action_scaler=min_max\n",
      "2023-03-16 19:25.13 [debug    ] Building models...\n",
      "2023-03-16 19:25.13 [debug    ] Models have been built.\n",
      "2023-03-16 19:25.13 [info     ] Parameters are saved to d3rlpy_logs/FQE_20230316192513/params.json params={'action_scaler': {'type': 'min_max', 'params': {'minimum': array([0.1]), 'maximum': array([10.])}}, 'batch_size': 100, 'encoder_factory': {'type': 'vector', 'params': {'hidden_units': [30, 30], 'activation': 'relu', 'use_batch_norm': False, 'dropout_rate': None, 'use_dense': False}}, 'gamma': 0.95, 'generated_maxlen': 100000, 'learning_rate': 0.0001, 'n_critics': 1, 'n_frames': 1, 'n_steps': 1, 'optim_factory': {'optim_cls': 'Adam', 'betas': (0.9, 0.999), 'eps': 1e-08, 'weight_decay': 0, 'amsgrad': False}, 'q_func_factory': {'type': 'mean', 'params': {'share_encoder': False}}, 'real_ratio': 1.0, 'reward_scaler': None, 'scaler': {'type': 'min_max', 'params': {'maximum': array([6.00000000e+00, 3.00000000e+03, 9.99950706e-01, 7.80000000e+04,\n",
      "       1.00000000e+00, 2.00000000e+01, 9.99991146e+00]), 'minimum': array([0.00000000e+00, 1.00000000e+00, 0.00000000e+00, 0.00000000e+00,\n",
      "       0.00000000e+00, 0.00000000e+00, 5.62749245e-05])}}, 'target_update_interval': 100, 'use_gpu': None, 'algorithm': 'FQE', 'observation_shape': (7,), 'action_size': 1}\n"
     ]
    },
    {
     "data": {
      "application/vnd.jupyter.widget-view+json": {
       "model_id": "cdb746f7814440aeb2e67df3f61cff23",
       "version_major": 2,
       "version_minor": 0
      },
      "text/plain": [
       "Epoch 1/1:   0%|          | 0/448 [00:00<?, ?it/s]"
      ]
     },
     "metadata": {},
     "output_type": "display_data"
    },
    {
     "name": "stdout",
     "output_type": "stream",
     "text": [
      "2023-03-16 19:25.14 [info     ] FQE_20230316192513: epoch=1 step=448 epoch=1 metrics={'time_sample_batch': 9.885057806968689e-05, 'time_algorithm_update': 0.0010023069168840135, 'loss': 16.26768334209919, 'time_step': 0.001140248030424118} step=448\n",
      "2023-03-16 19:25.14 [info     ] Model parameters are saved to d3rlpy_logs/FQE_20230316192513/model_448.pt\n"
     ]
    },
    {
     "data": {
      "application/vnd.jupyter.widget-view+json": {
       "model_id": "7a445a3a89f0462abd8025b61d6424d7",
       "version_major": 2,
       "version_minor": 0
      },
      "text/plain": [
       "[fit MWL model]:   0%|          | 0/1 [00:00<?, ?it/s]"
      ]
     },
     "metadata": {},
     "output_type": "display_data"
    },
    {
     "data": {
      "application/vnd.jupyter.widget-view+json": {
       "model_id": "3a020b175ef842cfb9e66bc9fb530c4e",
       "version_major": 2,
       "version_minor": 0
      },
      "text/plain": [
       "[fitting_weight_function]:   0%|          | 0/100 [00:00<?, ?it/s]"
      ]
     },
     "metadata": {},
     "output_type": "display_data"
    },
    {
     "data": {
      "application/vnd.jupyter.widget-view+json": {
       "model_id": "74c85936e18c4705b91d1b58fc9e3a36",
       "version_major": 2,
       "version_minor": 0
      },
      "text/plain": [
       "[fitting_weight_function]:   0%|          | 0/100 [00:00<?, ?it/s]"
      ]
     },
     "metadata": {},
     "output_type": "display_data"
    },
    {
     "data": {
      "application/vnd.jupyter.widget-view+json": {
       "model_id": "bd40526ba0494a71ac17341c4e89c903",
       "version_major": 2,
       "version_minor": 0
      },
      "text/plain": [
       "[collect input data: eval_policy]:   0%|          | 0/1 [00:00<?, ?it/s]"
      ]
     },
     "metadata": {},
     "output_type": "display_data"
    },
    {
     "data": {
      "application/vnd.jupyter.widget-view+json": {
       "model_id": "f0bb39129a694938ad09a8053ae33c02",
       "version_major": 2,
       "version_minor": 0
      },
      "text/plain": [
       "[calculate on-policy policy value]:   0%|          | 0/100 [00:00<?, ?it/s]"
      ]
     },
     "metadata": {},
     "output_type": "display_data"
    },
    {
     "data": {
      "application/vnd.jupyter.widget-view+json": {
       "model_id": "d9da09d0ca124fd4b0e530220b470042",
       "version_major": 2,
       "version_minor": 0
      },
      "text/plain": [
       "[obtain_trajectories]:   0%|          | 0/6400 [00:00<?, ?it/s]"
      ]
     },
     "metadata": {},
     "output_type": "display_data"
    },
    {
     "data": {
      "application/vnd.jupyter.widget-view+json": {
       "model_id": "5a1f7aac5e6b480aaad8b69c07118c97",
       "version_major": 2,
       "version_minor": 0
      },
      "text/plain": [
       "[obtain_trajectories]:   0%|          | 0/6400 [00:00<?, ?it/s]"
      ]
     },
     "metadata": {},
     "output_type": "display_data"
    },
    {
     "data": {
      "application/vnd.jupyter.widget-view+json": {
       "model_id": "36637ffa298e4043aba01446975514e8",
       "version_major": 2,
       "version_minor": 0
      },
      "text/plain": [
       "[fit FQE model]:   0%|          | 0/1 [00:00<?, ?it/s]"
      ]
     },
     "metadata": {},
     "output_type": "display_data"
    },
    {
     "name": "stdout",
     "output_type": "stream",
     "text": [
      "2023-03-16 19:26.56 [debug    ] RoundIterator is selected.\n",
      "2023-03-16 19:26.56 [info     ] Directory is created at d3rlpy_logs/FQE_20230316192656\n",
      "2023-03-16 19:26.56 [debug    ] Fitting scaler...              scaler=min_max\n",
      "2023-03-16 19:26.56 [debug    ] Fitting action scaler...       action_scaler=min_max\n",
      "2023-03-16 19:26.56 [debug    ] Building models...\n",
      "2023-03-16 19:26.56 [debug    ] Models have been built.\n",
      "2023-03-16 19:26.56 [info     ] Parameters are saved to d3rlpy_logs/FQE_20230316192656/params.json params={'action_scaler': {'type': 'min_max', 'params': {'minimum': array([0.1]), 'maximum': array([10.])}}, 'batch_size': 100, 'encoder_factory': {'type': 'vector', 'params': {'hidden_units': [30, 30], 'activation': 'relu', 'use_batch_norm': False, 'dropout_rate': None, 'use_dense': False}}, 'gamma': 0.95, 'generated_maxlen': 100000, 'learning_rate': 0.0001, 'n_critics': 1, 'n_frames': 1, 'n_steps': 1, 'optim_factory': {'optim_cls': 'Adam', 'betas': (0.9, 0.999), 'eps': 1e-08, 'weight_decay': 0, 'amsgrad': False}, 'q_func_factory': {'type': 'mean', 'params': {'share_encoder': False}}, 'real_ratio': 1.0, 'reward_scaler': None, 'scaler': {'type': 'min_max', 'params': {'maximum': array([6.00000000e+00, 3.00000000e+03, 9.99940307e-01, 5.80000000e+04,\n",
      "       1.00000000e+00, 2.00000000e+01, 9.99993708e+00]), 'minimum': array([0.00000000e+00, 1.00000000e+00, 0.00000000e+00, 0.00000000e+00,\n",
      "       0.00000000e+00, 0.00000000e+00, 1.45616191e-04])}}, 'target_update_interval': 100, 'use_gpu': None, 'algorithm': 'FQE', 'observation_shape': (7,), 'action_size': 1}\n"
     ]
    },
    {
     "data": {
      "application/vnd.jupyter.widget-view+json": {
       "model_id": "fbbda0ac3ff54691bedc804be02ad071",
       "version_major": 2,
       "version_minor": 0
      },
      "text/plain": [
       "Epoch 1/1:   0%|          | 0/448 [00:00<?, ?it/s]"
      ]
     },
     "metadata": {},
     "output_type": "display_data"
    },
    {
     "name": "stdout",
     "output_type": "stream",
     "text": [
      "2023-03-16 19:26.57 [info     ] FQE_20230316192656: epoch=1 step=448 epoch=1 metrics={'time_sample_batch': 9.180977940559387e-05, 'time_algorithm_update': 0.0009774012225014822, 'loss': 14.054131514259748, 'time_step': 0.0011071030582700456} step=448\n",
      "2023-03-16 19:26.57 [info     ] Model parameters are saved to d3rlpy_logs/FQE_20230316192656/model_448.pt\n"
     ]
    },
    {
     "data": {
      "application/vnd.jupyter.widget-view+json": {
       "model_id": "33eb1ba7bb6e4cd48917de42cb476a18",
       "version_major": 2,
       "version_minor": 0
      },
      "text/plain": [
       "[fit MWL model]:   0%|          | 0/1 [00:00<?, ?it/s]"
      ]
     },
     "metadata": {},
     "output_type": "display_data"
    },
    {
     "data": {
      "application/vnd.jupyter.widget-view+json": {
       "model_id": "61b2fd6ea0584d34917dd971d6ff7ca8",
       "version_major": 2,
       "version_minor": 0
      },
      "text/plain": [
       "[fitting_weight_function]:   0%|          | 0/100 [00:00<?, ?it/s]"
      ]
     },
     "metadata": {},
     "output_type": "display_data"
    },
    {
     "data": {
      "application/vnd.jupyter.widget-view+json": {
       "model_id": "2a73e4d1952b44059dc36ec49a09a0a5",
       "version_major": 2,
       "version_minor": 0
      },
      "text/plain": [
       "[fitting_weight_function]:   0%|          | 0/100 [00:00<?, ?it/s]"
      ]
     },
     "metadata": {},
     "output_type": "display_data"
    },
    {
     "data": {
      "application/vnd.jupyter.widget-view+json": {
       "model_id": "45ce147e841045b6acc4ed799ade0c52",
       "version_major": 2,
       "version_minor": 0
      },
      "text/plain": [
       "[collect input data: eval_policy]:   0%|          | 0/1 [00:00<?, ?it/s]"
      ]
     },
     "metadata": {},
     "output_type": "display_data"
    },
    {
     "data": {
      "application/vnd.jupyter.widget-view+json": {
       "model_id": "f1879c2aa3754d01b92e6d2fa8c4780c",
       "version_major": 2,
       "version_minor": 0
      },
      "text/plain": [
       "[calculate on-policy policy value]:   0%|          | 0/100 [00:00<?, ?it/s]"
      ]
     },
     "metadata": {},
     "output_type": "display_data"
    },
    {
     "data": {
      "application/vnd.jupyter.widget-view+json": {
       "model_id": "f0955c09b20345788426fa5a02a5e14e",
       "version_major": 2,
       "version_minor": 0
      },
      "text/plain": [
       "[obtain_trajectories]:   0%|          | 0/6400 [00:00<?, ?it/s]"
      ]
     },
     "metadata": {},
     "output_type": "display_data"
    },
    {
     "data": {
      "application/vnd.jupyter.widget-view+json": {
       "model_id": "50eb5f6c93394f5faa752bd0eb6e367e",
       "version_major": 2,
       "version_minor": 0
      },
      "text/plain": [
       "[obtain_trajectories]:   0%|          | 0/6400 [00:00<?, ?it/s]"
      ]
     },
     "metadata": {},
     "output_type": "display_data"
    },
    {
     "data": {
      "application/vnd.jupyter.widget-view+json": {
       "model_id": "ca81b9af259a49268358ba862133e9b9",
       "version_major": 2,
       "version_minor": 0
      },
      "text/plain": [
       "[fit FQE model]:   0%|          | 0/1 [00:00<?, ?it/s]"
      ]
     },
     "metadata": {},
     "output_type": "display_data"
    },
    {
     "name": "stdout",
     "output_type": "stream",
     "text": [
      "2023-03-16 19:28.38 [debug    ] RoundIterator is selected.\n",
      "2023-03-16 19:28.38 [info     ] Directory is created at d3rlpy_logs/FQE_20230316192838\n",
      "2023-03-16 19:28.38 [debug    ] Fitting scaler...              scaler=min_max\n",
      "2023-03-16 19:28.38 [debug    ] Fitting action scaler...       action_scaler=min_max\n",
      "2023-03-16 19:28.38 [debug    ] Building models...\n",
      "2023-03-16 19:28.38 [debug    ] Models have been built.\n",
      "2023-03-16 19:28.38 [info     ] Parameters are saved to d3rlpy_logs/FQE_20230316192838/params.json params={'action_scaler': {'type': 'min_max', 'params': {'minimum': array([0.1]), 'maximum': array([10.])}}, 'batch_size': 100, 'encoder_factory': {'type': 'vector', 'params': {'hidden_units': [30, 30], 'activation': 'relu', 'use_batch_norm': False, 'dropout_rate': None, 'use_dense': False}}, 'gamma': 0.95, 'generated_maxlen': 100000, 'learning_rate': 0.0001, 'n_critics': 1, 'n_frames': 1, 'n_steps': 1, 'optim_factory': {'optim_cls': 'Adam', 'betas': (0.9, 0.999), 'eps': 1e-08, 'weight_decay': 0, 'amsgrad': False}, 'q_func_factory': {'type': 'mean', 'params': {'share_encoder': False}}, 'real_ratio': 1.0, 'reward_scaler': None, 'scaler': {'type': 'min_max', 'params': {'maximum': array([6.00000000e+00, 3.00000000e+03, 9.99820543e-01, 7.60000000e+04,\n",
      "       1.00000000e+00, 1.90000000e+01, 9.99973920e+00]), 'minimum': array([0.0000000e+00, 1.0000000e+00, 0.0000000e+00, 0.0000000e+00,\n",
      "       0.0000000e+00, 0.0000000e+00, 8.1612832e-06])}}, 'target_update_interval': 100, 'use_gpu': None, 'algorithm': 'FQE', 'observation_shape': (7,), 'action_size': 1}\n"
     ]
    },
    {
     "data": {
      "application/vnd.jupyter.widget-view+json": {
       "model_id": "90eae781494e423cbe5d4653a5b906ce",
       "version_major": 2,
       "version_minor": 0
      },
      "text/plain": [
       "Epoch 1/1:   0%|          | 0/448 [00:00<?, ?it/s]"
      ]
     },
     "metadata": {},
     "output_type": "display_data"
    },
    {
     "name": "stdout",
     "output_type": "stream",
     "text": [
      "2023-03-16 19:28.39 [info     ] FQE_20230316192838: epoch=1 step=448 epoch=1 metrics={'time_sample_batch': 9.318121841975621e-05, 'time_algorithm_update': 0.0009352767041751317, 'loss': 16.45860081059592, 'time_step': 0.0010691913110869272} step=448\n",
      "2023-03-16 19:28.39 [info     ] Model parameters are saved to d3rlpy_logs/FQE_20230316192838/model_448.pt\n"
     ]
    },
    {
     "data": {
      "application/vnd.jupyter.widget-view+json": {
       "model_id": "9710cdb8a83f448091103fdf59ca3da4",
       "version_major": 2,
       "version_minor": 0
      },
      "text/plain": [
       "[fit MWL model]:   0%|          | 0/1 [00:00<?, ?it/s]"
      ]
     },
     "metadata": {},
     "output_type": "display_data"
    },
    {
     "data": {
      "application/vnd.jupyter.widget-view+json": {
       "model_id": "78e5e583dab34f4f8d75b946419a3986",
       "version_major": 2,
       "version_minor": 0
      },
      "text/plain": [
       "[fitting_weight_function]:   0%|          | 0/100 [00:00<?, ?it/s]"
      ]
     },
     "metadata": {},
     "output_type": "display_data"
    },
    {
     "data": {
      "application/vnd.jupyter.widget-view+json": {
       "model_id": "2d605df0d8904a7ead65d94da20558a0",
       "version_major": 2,
       "version_minor": 0
      },
      "text/plain": [
       "[fitting_weight_function]:   0%|          | 0/100 [00:00<?, ?it/s]"
      ]
     },
     "metadata": {},
     "output_type": "display_data"
    },
    {
     "data": {
      "application/vnd.jupyter.widget-view+json": {
       "model_id": "ebe230057a0645fa8d0c6d693e3b8248",
       "version_major": 2,
       "version_minor": 0
      },
      "text/plain": [
       "[collect input data: eval_policy]:   0%|          | 0/1 [00:00<?, ?it/s]"
      ]
     },
     "metadata": {},
     "output_type": "display_data"
    },
    {
     "data": {
      "application/vnd.jupyter.widget-view+json": {
       "model_id": "8ca4083a6c004ae5aa9ef3d3637a63f7",
       "version_major": 2,
       "version_minor": 0
      },
      "text/plain": [
       "[calculate on-policy policy value]:   0%|          | 0/100 [00:00<?, ?it/s]"
      ]
     },
     "metadata": {},
     "output_type": "display_data"
    },
    {
     "data": {
      "application/vnd.jupyter.widget-view+json": {
       "model_id": "fa65acd429dc4577ab26bb49b012bb21",
       "version_major": 2,
       "version_minor": 0
      },
      "text/plain": [
       "[obtain_trajectories]:   0%|          | 0/6400 [00:00<?, ?it/s]"
      ]
     },
     "metadata": {},
     "output_type": "display_data"
    },
    {
     "data": {
      "application/vnd.jupyter.widget-view+json": {
       "model_id": "52dbcc44989d454387faf9868d7ab27d",
       "version_major": 2,
       "version_minor": 0
      },
      "text/plain": [
       "[obtain_trajectories]:   0%|          | 0/6400 [00:00<?, ?it/s]"
      ]
     },
     "metadata": {},
     "output_type": "display_data"
    },
    {
     "data": {
      "application/vnd.jupyter.widget-view+json": {
       "model_id": "d51a57aead3941619b00493d2e56d940",
       "version_major": 2,
       "version_minor": 0
      },
      "text/plain": [
       "[fit FQE model]:   0%|          | 0/1 [00:00<?, ?it/s]"
      ]
     },
     "metadata": {},
     "output_type": "display_data"
    },
    {
     "name": "stdout",
     "output_type": "stream",
     "text": [
      "2023-03-16 19:30.21 [debug    ] RoundIterator is selected.\n",
      "2023-03-16 19:30.21 [info     ] Directory is created at d3rlpy_logs/FQE_20230316193021\n",
      "2023-03-16 19:30.21 [debug    ] Fitting scaler...              scaler=min_max\n",
      "2023-03-16 19:30.21 [debug    ] Fitting action scaler...       action_scaler=min_max\n",
      "2023-03-16 19:30.21 [debug    ] Building models...\n",
      "2023-03-16 19:30.21 [debug    ] Models have been built.\n",
      "2023-03-16 19:30.21 [info     ] Parameters are saved to d3rlpy_logs/FQE_20230316193021/params.json params={'action_scaler': {'type': 'min_max', 'params': {'minimum': array([0.1]), 'maximum': array([10.])}}, 'batch_size': 100, 'encoder_factory': {'type': 'vector', 'params': {'hidden_units': [30, 30], 'activation': 'relu', 'use_batch_norm': False, 'dropout_rate': None, 'use_dense': False}}, 'gamma': 0.95, 'generated_maxlen': 100000, 'learning_rate': 0.0001, 'n_critics': 1, 'n_frames': 1, 'n_steps': 1, 'optim_factory': {'optim_cls': 'Adam', 'betas': (0.9, 0.999), 'eps': 1e-08, 'weight_decay': 0, 'amsgrad': False}, 'q_func_factory': {'type': 'mean', 'params': {'share_encoder': False}}, 'real_ratio': 1.0, 'reward_scaler': None, 'scaler': {'type': 'min_max', 'params': {'maximum': array([6.00000000e+00, 3.00000000e+03, 9.99930477e-01, 6.10000000e+04,\n",
      "       1.00000000e+00, 2.00000000e+01, 1.14175969e+01]), 'minimum': array([0.00000000e+00, 1.00000000e+00, 0.00000000e+00, 0.00000000e+00,\n",
      "       0.00000000e+00, 0.00000000e+00, 8.25815269e-05])}}, 'target_update_interval': 100, 'use_gpu': None, 'algorithm': 'FQE', 'observation_shape': (7,), 'action_size': 1}\n"
     ]
    },
    {
     "data": {
      "application/vnd.jupyter.widget-view+json": {
       "model_id": "4daed819866b47c99a1c67b2899baec7",
       "version_major": 2,
       "version_minor": 0
      },
      "text/plain": [
       "Epoch 1/1:   0%|          | 0/448 [00:00<?, ?it/s]"
      ]
     },
     "metadata": {},
     "output_type": "display_data"
    },
    {
     "name": "stdout",
     "output_type": "stream",
     "text": [
      "2023-03-16 19:30.21 [info     ] FQE_20230316193021: epoch=1 step=448 epoch=1 metrics={'time_sample_batch': 9.434031588690621e-05, 'time_algorithm_update': 0.0009660513273307256, 'loss': 14.385416131998811, 'time_step': 0.0010989425437791006} step=448\n",
      "2023-03-16 19:30.21 [info     ] Model parameters are saved to d3rlpy_logs/FQE_20230316193021/model_448.pt\n"
     ]
    },
    {
     "data": {
      "application/vnd.jupyter.widget-view+json": {
       "model_id": "f49954d966f245559e1ade68de5ccdcd",
       "version_major": 2,
       "version_minor": 0
      },
      "text/plain": [
       "[fit MWL model]:   0%|          | 0/1 [00:00<?, ?it/s]"
      ]
     },
     "metadata": {},
     "output_type": "display_data"
    },
    {
     "data": {
      "application/vnd.jupyter.widget-view+json": {
       "model_id": "eb9ce8a4ee1a428dab98f000bbbdf42a",
       "version_major": 2,
       "version_minor": 0
      },
      "text/plain": [
       "[fitting_weight_function]:   0%|          | 0/100 [00:00<?, ?it/s]"
      ]
     },
     "metadata": {},
     "output_type": "display_data"
    },
    {
     "data": {
      "application/vnd.jupyter.widget-view+json": {
       "model_id": "75971f5ff6474c2aa76ba4483ab63f42",
       "version_major": 2,
       "version_minor": 0
      },
      "text/plain": [
       "[fitting_weight_function]:   0%|          | 0/100 [00:00<?, ?it/s]"
      ]
     },
     "metadata": {},
     "output_type": "display_data"
    },
    {
     "data": {
      "application/vnd.jupyter.widget-view+json": {
       "model_id": "8a36a4d63d1f4cf3953539eadb98efcb",
       "version_major": 2,
       "version_minor": 0
      },
      "text/plain": [
       "[collect input data: eval_policy]:   0%|          | 0/1 [00:00<?, ?it/s]"
      ]
     },
     "metadata": {},
     "output_type": "display_data"
    },
    {
     "data": {
      "application/vnd.jupyter.widget-view+json": {
       "model_id": "3ac986f00e194675bfb19f0e36310d9d",
       "version_major": 2,
       "version_minor": 0
      },
      "text/plain": [
       "[calculate on-policy policy value]:   0%|          | 0/100 [00:00<?, ?it/s]"
      ]
     },
     "metadata": {},
     "output_type": "display_data"
    },
    {
     "data": {
      "application/vnd.jupyter.widget-view+json": {
       "model_id": "4afab0dfee2441d18e83a92b172ad26f",
       "version_major": 2,
       "version_minor": 0
      },
      "text/plain": [
       "[obtain_trajectories]:   0%|          | 0/6400 [00:00<?, ?it/s]"
      ]
     },
     "metadata": {},
     "output_type": "display_data"
    },
    {
     "data": {
      "application/vnd.jupyter.widget-view+json": {
       "model_id": "d8920bffd89345f28686567f4ee1a705",
       "version_major": 2,
       "version_minor": 0
      },
      "text/plain": [
       "[obtain_trajectories]:   0%|          | 0/6400 [00:00<?, ?it/s]"
      ]
     },
     "metadata": {},
     "output_type": "display_data"
    },
    {
     "data": {
      "application/vnd.jupyter.widget-view+json": {
       "model_id": "63943d79dbe44146ac60e1f7d4af5695",
       "version_major": 2,
       "version_minor": 0
      },
      "text/plain": [
       "[fit FQE model]:   0%|          | 0/1 [00:00<?, ?it/s]"
      ]
     },
     "metadata": {},
     "output_type": "display_data"
    },
    {
     "name": "stdout",
     "output_type": "stream",
     "text": [
      "2023-03-16 19:32.02 [debug    ] RoundIterator is selected.\n",
      "2023-03-16 19:32.02 [info     ] Directory is created at d3rlpy_logs/FQE_20230316193202\n",
      "2023-03-16 19:32.02 [debug    ] Fitting scaler...              scaler=min_max\n",
      "2023-03-16 19:32.02 [debug    ] Fitting action scaler...       action_scaler=min_max\n",
      "2023-03-16 19:32.02 [debug    ] Building models...\n",
      "2023-03-16 19:32.02 [debug    ] Models have been built.\n",
      "2023-03-16 19:32.02 [info     ] Parameters are saved to d3rlpy_logs/FQE_20230316193202/params.json params={'action_scaler': {'type': 'min_max', 'params': {'minimum': array([0.1]), 'maximum': array([10.])}}, 'batch_size': 100, 'encoder_factory': {'type': 'vector', 'params': {'hidden_units': [30, 30], 'activation': 'relu', 'use_batch_norm': False, 'dropout_rate': None, 'use_dense': False}}, 'gamma': 0.95, 'generated_maxlen': 100000, 'learning_rate': 0.0001, 'n_critics': 1, 'n_frames': 1, 'n_steps': 1, 'optim_factory': {'optim_cls': 'Adam', 'betas': (0.9, 0.999), 'eps': 1e-08, 'weight_decay': 0, 'amsgrad': False}, 'q_func_factory': {'type': 'mean', 'params': {'share_encoder': False}}, 'real_ratio': 1.0, 'reward_scaler': None, 'scaler': {'type': 'min_max', 'params': {'maximum': array([6.00000000e+00, 3.00000000e+03, 9.99742850e-01, 5.70000000e+04,\n",
      "       1.00000000e+00, 2.00000000e+01, 9.99996976e+00]), 'minimum': array([0.0000e+00, 1.0000e+00, 0.0000e+00, 0.0000e+00, 0.0000e+00,\n",
      "       0.0000e+00, 4.1522e-04])}}, 'target_update_interval': 100, 'use_gpu': None, 'algorithm': 'FQE', 'observation_shape': (7,), 'action_size': 1}\n"
     ]
    },
    {
     "data": {
      "application/vnd.jupyter.widget-view+json": {
       "model_id": "75ad349579b1496986fe3e86afd0ab7f",
       "version_major": 2,
       "version_minor": 0
      },
      "text/plain": [
       "Epoch 1/1:   0%|          | 0/448 [00:00<?, ?it/s]"
      ]
     },
     "metadata": {},
     "output_type": "display_data"
    },
    {
     "name": "stdout",
     "output_type": "stream",
     "text": [
      "2023-03-16 19:32.02 [info     ] FQE_20230316193202: epoch=1 step=448 epoch=1 metrics={'time_sample_batch': 9.249629718916757e-05, 'time_algorithm_update': 0.0009608327278069087, 'loss': 15.42044849800212, 'time_step': 0.0010921130222933634} step=448\n",
      "2023-03-16 19:32.02 [info     ] Model parameters are saved to d3rlpy_logs/FQE_20230316193202/model_448.pt\n"
     ]
    },
    {
     "data": {
      "application/vnd.jupyter.widget-view+json": {
       "model_id": "509cdbc4d4014634ba31b26ea612141e",
       "version_major": 2,
       "version_minor": 0
      },
      "text/plain": [
       "[fit MWL model]:   0%|          | 0/1 [00:00<?, ?it/s]"
      ]
     },
     "metadata": {},
     "output_type": "display_data"
    },
    {
     "data": {
      "application/vnd.jupyter.widget-view+json": {
       "model_id": "8b7ae52c1dbe4f38aedbc82d2f2b4ecd",
       "version_major": 2,
       "version_minor": 0
      },
      "text/plain": [
       "[fitting_weight_function]:   0%|          | 0/100 [00:00<?, ?it/s]"
      ]
     },
     "metadata": {},
     "output_type": "display_data"
    },
    {
     "data": {
      "application/vnd.jupyter.widget-view+json": {
       "model_id": "11c17ada99d34a06ae9f000530137e6d",
       "version_major": 2,
       "version_minor": 0
      },
      "text/plain": [
       "[fitting_weight_function]:   0%|          | 0/100 [00:00<?, ?it/s]"
      ]
     },
     "metadata": {},
     "output_type": "display_data"
    },
    {
     "data": {
      "application/vnd.jupyter.widget-view+json": {
       "model_id": "75e10609adb3429c9db11ff85c9d94bc",
       "version_major": 2,
       "version_minor": 0
      },
      "text/plain": [
       "[collect input data: eval_policy]:   0%|          | 0/1 [00:00<?, ?it/s]"
      ]
     },
     "metadata": {},
     "output_type": "display_data"
    },
    {
     "data": {
      "application/vnd.jupyter.widget-view+json": {
       "model_id": "ad491dc9c2cb400b92ca5e3d63d0c64b",
       "version_major": 2,
       "version_minor": 0
      },
      "text/plain": [
       "[calculate on-policy policy value]:   0%|          | 0/100 [00:00<?, ?it/s]"
      ]
     },
     "metadata": {},
     "output_type": "display_data"
    },
    {
     "data": {
      "application/vnd.jupyter.widget-view+json": {
       "model_id": "09cd14e4611a4b4ca499cd327e21d786",
       "version_major": 2,
       "version_minor": 0
      },
      "text/plain": [
       "[obtain_trajectories]:   0%|          | 0/12800 [00:00<?, ?it/s]"
      ]
     },
     "metadata": {},
     "output_type": "display_data"
    },
    {
     "data": {
      "application/vnd.jupyter.widget-view+json": {
       "model_id": "6253a310969f4bf78c63f1ad02b8d86e",
       "version_major": 2,
       "version_minor": 0
      },
      "text/plain": [
       "[obtain_trajectories]:   0%|          | 0/12800 [00:00<?, ?it/s]"
      ]
     },
     "metadata": {},
     "output_type": "display_data"
    },
    {
     "data": {
      "application/vnd.jupyter.widget-view+json": {
       "model_id": "eacd004f1db14e8fb03ae080ad603fa9",
       "version_major": 2,
       "version_minor": 0
      },
      "text/plain": [
       "[fit FQE model]:   0%|          | 0/1 [00:00<?, ?it/s]"
      ]
     },
     "metadata": {},
     "output_type": "display_data"
    },
    {
     "name": "stdout",
     "output_type": "stream",
     "text": [
      "2023-03-16 19:35.06 [debug    ] RoundIterator is selected.\n",
      "2023-03-16 19:35.06 [info     ] Directory is created at d3rlpy_logs/FQE_20230316193506\n",
      "2023-03-16 19:35.06 [debug    ] Fitting scaler...              scaler=min_max\n",
      "2023-03-16 19:35.06 [debug    ] Fitting action scaler...       action_scaler=min_max\n",
      "2023-03-16 19:35.06 [debug    ] Building models...\n",
      "2023-03-16 19:35.06 [debug    ] Models have been built.\n",
      "2023-03-16 19:35.06 [info     ] Parameters are saved to d3rlpy_logs/FQE_20230316193506/params.json params={'action_scaler': {'type': 'min_max', 'params': {'minimum': array([0.1]), 'maximum': array([10.])}}, 'batch_size': 100, 'encoder_factory': {'type': 'vector', 'params': {'hidden_units': [30, 30], 'activation': 'relu', 'use_batch_norm': False, 'dropout_rate': None, 'use_dense': False}}, 'gamma': 0.95, 'generated_maxlen': 100000, 'learning_rate': 0.0001, 'n_critics': 1, 'n_frames': 1, 'n_steps': 1, 'optim_factory': {'optim_cls': 'Adam', 'betas': (0.9, 0.999), 'eps': 1e-08, 'weight_decay': 0, 'amsgrad': False}, 'q_func_factory': {'type': 'mean', 'params': {'share_encoder': False}}, 'real_ratio': 1.0, 'reward_scaler': None, 'scaler': {'type': 'min_max', 'params': {'maximum': array([6.00000000e+00, 3.00000000e+03, 9.99898211e-01, 7.40000000e+04,\n",
      "       1.00000000e+00, 2.00000000e+01, 1.03751150e+01]), 'minimum': array([0.00000000e+00, 1.00000000e+00, 0.00000000e+00, 0.00000000e+00,\n",
      "       0.00000000e+00, 0.00000000e+00, 1.50571786e-05])}}, 'target_update_interval': 100, 'use_gpu': None, 'algorithm': 'FQE', 'observation_shape': (7,), 'action_size': 1}\n"
     ]
    },
    {
     "data": {
      "application/vnd.jupyter.widget-view+json": {
       "model_id": "57db4c0f64b148e3a7f207c0cd036113",
       "version_major": 2,
       "version_minor": 0
      },
      "text/plain": [
       "Epoch 1/1:   0%|          | 0/896 [00:00<?, ?it/s]"
      ]
     },
     "metadata": {},
     "output_type": "display_data"
    },
    {
     "name": "stdout",
     "output_type": "stream",
     "text": [
      "2023-03-16 19:35.07 [info     ] FQE_20230316193506: epoch=1 step=896 epoch=1 metrics={'time_sample_batch': 0.00010194948741367884, 'time_algorithm_update': 0.001027184139404978, 'loss': 45.5212001768606, 'time_step': 0.0011833541627441133} step=896\n",
      "2023-03-16 19:35.07 [info     ] Model parameters are saved to d3rlpy_logs/FQE_20230316193506/model_896.pt\n"
     ]
    },
    {
     "data": {
      "application/vnd.jupyter.widget-view+json": {
       "model_id": "32a8b9a6e21a4b92a176d437e2604e53",
       "version_major": 2,
       "version_minor": 0
      },
      "text/plain": [
       "[fit MWL model]:   0%|          | 0/1 [00:00<?, ?it/s]"
      ]
     },
     "metadata": {},
     "output_type": "display_data"
    },
    {
     "data": {
      "application/vnd.jupyter.widget-view+json": {
       "model_id": "c0aef0537f5a49838b56bc039a9cdb1b",
       "version_major": 2,
       "version_minor": 0
      },
      "text/plain": [
       "[fitting_weight_function]:   0%|          | 0/100 [00:00<?, ?it/s]"
      ]
     },
     "metadata": {},
     "output_type": "display_data"
    },
    {
     "data": {
      "application/vnd.jupyter.widget-view+json": {
       "model_id": "62ccee46c5ee47458a766a92f331689e",
       "version_major": 2,
       "version_minor": 0
      },
      "text/plain": [
       "[fitting_weight_function]:   0%|          | 0/100 [00:00<?, ?it/s]"
      ]
     },
     "metadata": {},
     "output_type": "display_data"
    },
    {
     "data": {
      "application/vnd.jupyter.widget-view+json": {
       "model_id": "7ac5248baeb943ddb35acdf33db47dd9",
       "version_major": 2,
       "version_minor": 0
      },
      "text/plain": [
       "[collect input data: eval_policy]:   0%|          | 0/1 [00:00<?, ?it/s]"
      ]
     },
     "metadata": {},
     "output_type": "display_data"
    },
    {
     "data": {
      "application/vnd.jupyter.widget-view+json": {
       "model_id": "e60b9ddc31444e568e01d45d5ffb1c09",
       "version_major": 2,
       "version_minor": 0
      },
      "text/plain": [
       "[calculate on-policy policy value]:   0%|          | 0/100 [00:00<?, ?it/s]"
      ]
     },
     "metadata": {},
     "output_type": "display_data"
    },
    {
     "data": {
      "application/vnd.jupyter.widget-view+json": {
       "model_id": "5f15b8a6206e494791cbd52062168076",
       "version_major": 2,
       "version_minor": 0
      },
      "text/plain": [
       "[obtain_trajectories]:   0%|          | 0/12800 [00:00<?, ?it/s]"
      ]
     },
     "metadata": {},
     "output_type": "display_data"
    },
    {
     "data": {
      "application/vnd.jupyter.widget-view+json": {
       "model_id": "96841ee8f3ae4f7ca1d61a2a81397d92",
       "version_major": 2,
       "version_minor": 0
      },
      "text/plain": [
       "[obtain_trajectories]:   0%|          | 0/12800 [00:00<?, ?it/s]"
      ]
     },
     "metadata": {},
     "output_type": "display_data"
    },
    {
     "data": {
      "application/vnd.jupyter.widget-view+json": {
       "model_id": "7a48c3090c834274806b108a17d4cddc",
       "version_major": 2,
       "version_minor": 0
      },
      "text/plain": [
       "[fit FQE model]:   0%|          | 0/1 [00:00<?, ?it/s]"
      ]
     },
     "metadata": {},
     "output_type": "display_data"
    },
    {
     "name": "stdout",
     "output_type": "stream",
     "text": [
      "2023-03-16 19:38.10 [debug    ] RoundIterator is selected.\n",
      "2023-03-16 19:38.10 [info     ] Directory is created at d3rlpy_logs/FQE_20230316193810\n",
      "2023-03-16 19:38.10 [debug    ] Fitting scaler...              scaler=min_max\n",
      "2023-03-16 19:38.10 [debug    ] Fitting action scaler...       action_scaler=min_max\n",
      "2023-03-16 19:38.10 [debug    ] Building models...\n",
      "2023-03-16 19:38.10 [debug    ] Models have been built.\n",
      "2023-03-16 19:38.10 [info     ] Parameters are saved to d3rlpy_logs/FQE_20230316193810/params.json params={'action_scaler': {'type': 'min_max', 'params': {'minimum': array([0.1]), 'maximum': array([10.])}}, 'batch_size': 100, 'encoder_factory': {'type': 'vector', 'params': {'hidden_units': [30, 30], 'activation': 'relu', 'use_batch_norm': False, 'dropout_rate': None, 'use_dense': False}}, 'gamma': 0.95, 'generated_maxlen': 100000, 'learning_rate': 0.0001, 'n_critics': 1, 'n_frames': 1, 'n_steps': 1, 'optim_factory': {'optim_cls': 'Adam', 'betas': (0.9, 0.999), 'eps': 1e-08, 'weight_decay': 0, 'amsgrad': False}, 'q_func_factory': {'type': 'mean', 'params': {'share_encoder': False}}, 'real_ratio': 1.0, 'reward_scaler': None, 'scaler': {'type': 'min_max', 'params': {'maximum': array([6.00000000e+00, 3.00000000e+03, 9.99844840e-01, 5.80000000e+04,\n",
      "       1.00000000e+00, 2.30000000e+01, 9.99994733e+00]), 'minimum': array([0.00000000e+00, 1.00000000e+00, 0.00000000e+00, 0.00000000e+00,\n",
      "       0.00000000e+00, 0.00000000e+00, 4.97173959e-04])}}, 'target_update_interval': 100, 'use_gpu': None, 'algorithm': 'FQE', 'observation_shape': (7,), 'action_size': 1}\n"
     ]
    },
    {
     "data": {
      "application/vnd.jupyter.widget-view+json": {
       "model_id": "a4fa7f0cbed74112b6696492bffbdd8a",
       "version_major": 2,
       "version_minor": 0
      },
      "text/plain": [
       "Epoch 1/1:   0%|          | 0/896 [00:00<?, ?it/s]"
      ]
     },
     "metadata": {},
     "output_type": "display_data"
    },
    {
     "name": "stdout",
     "output_type": "stream",
     "text": [
      "2023-03-16 19:38.11 [info     ] FQE_20230316193810: epoch=1 step=896 epoch=1 metrics={'time_sample_batch': 9.972602128982544e-05, 'time_algorithm_update': 0.0010011462228638785, 'loss': 55.21410030339445, 'time_step': 0.001147274992295674} step=896\n",
      "2023-03-16 19:38.11 [info     ] Model parameters are saved to d3rlpy_logs/FQE_20230316193810/model_896.pt\n"
     ]
    },
    {
     "data": {
      "application/vnd.jupyter.widget-view+json": {
       "model_id": "8dd023ee04a94438991282f6b658d9dd",
       "version_major": 2,
       "version_minor": 0
      },
      "text/plain": [
       "[fit MWL model]:   0%|          | 0/1 [00:00<?, ?it/s]"
      ]
     },
     "metadata": {},
     "output_type": "display_data"
    },
    {
     "data": {
      "application/vnd.jupyter.widget-view+json": {
       "model_id": "249b2bb8af6e403b83543f93bef60a3b",
       "version_major": 2,
       "version_minor": 0
      },
      "text/plain": [
       "[fitting_weight_function]:   0%|          | 0/100 [00:00<?, ?it/s]"
      ]
     },
     "metadata": {},
     "output_type": "display_data"
    },
    {
     "data": {
      "application/vnd.jupyter.widget-view+json": {
       "model_id": "986cdff024a24c28af42b6c78422db32",
       "version_major": 2,
       "version_minor": 0
      },
      "text/plain": [
       "[fitting_weight_function]:   0%|          | 0/100 [00:00<?, ?it/s]"
      ]
     },
     "metadata": {},
     "output_type": "display_data"
    },
    {
     "data": {
      "application/vnd.jupyter.widget-view+json": {
       "model_id": "f10397330f694540827008f9fd750171",
       "version_major": 2,
       "version_minor": 0
      },
      "text/plain": [
       "[collect input data: eval_policy]:   0%|          | 0/1 [00:00<?, ?it/s]"
      ]
     },
     "metadata": {},
     "output_type": "display_data"
    },
    {
     "data": {
      "application/vnd.jupyter.widget-view+json": {
       "model_id": "a2311e9d092b449eb18fee1b203d718e",
       "version_major": 2,
       "version_minor": 0
      },
      "text/plain": [
       "[calculate on-policy policy value]:   0%|          | 0/100 [00:00<?, ?it/s]"
      ]
     },
     "metadata": {},
     "output_type": "display_data"
    },
    {
     "data": {
      "application/vnd.jupyter.widget-view+json": {
       "model_id": "c0c61908cd2c4704b7bd4e9d74ede4d5",
       "version_major": 2,
       "version_minor": 0
      },
      "text/plain": [
       "[obtain_trajectories]:   0%|          | 0/12800 [00:00<?, ?it/s]"
      ]
     },
     "metadata": {},
     "output_type": "display_data"
    },
    {
     "data": {
      "application/vnd.jupyter.widget-view+json": {
       "model_id": "a9600473f0f14e4995840b0a76c9864a",
       "version_major": 2,
       "version_minor": 0
      },
      "text/plain": [
       "[obtain_trajectories]:   0%|          | 0/12800 [00:00<?, ?it/s]"
      ]
     },
     "metadata": {},
     "output_type": "display_data"
    },
    {
     "data": {
      "application/vnd.jupyter.widget-view+json": {
       "model_id": "03f85d0057964df584b716d2525245db",
       "version_major": 2,
       "version_minor": 0
      },
      "text/plain": [
       "[fit FQE model]:   0%|          | 0/1 [00:00<?, ?it/s]"
      ]
     },
     "metadata": {},
     "output_type": "display_data"
    },
    {
     "name": "stdout",
     "output_type": "stream",
     "text": [
      "2023-03-16 19:41.16 [debug    ] RoundIterator is selected.\n",
      "2023-03-16 19:41.16 [info     ] Directory is created at d3rlpy_logs/FQE_20230316194116\n",
      "2023-03-16 19:41.16 [debug    ] Fitting scaler...              scaler=min_max\n",
      "2023-03-16 19:41.16 [debug    ] Fitting action scaler...       action_scaler=min_max\n",
      "2023-03-16 19:41.16 [debug    ] Building models...\n",
      "2023-03-16 19:41.16 [debug    ] Models have been built.\n",
      "2023-03-16 19:41.16 [info     ] Parameters are saved to d3rlpy_logs/FQE_20230316194116/params.json params={'action_scaler': {'type': 'min_max', 'params': {'minimum': array([0.1]), 'maximum': array([10.])}}, 'batch_size': 100, 'encoder_factory': {'type': 'vector', 'params': {'hidden_units': [30, 30], 'activation': 'relu', 'use_batch_norm': False, 'dropout_rate': None, 'use_dense': False}}, 'gamma': 0.95, 'generated_maxlen': 100000, 'learning_rate': 0.0001, 'n_critics': 1, 'n_frames': 1, 'n_steps': 1, 'optim_factory': {'optim_cls': 'Adam', 'betas': (0.9, 0.999), 'eps': 1e-08, 'weight_decay': 0, 'amsgrad': False}, 'q_func_factory': {'type': 'mean', 'params': {'share_encoder': False}}, 'real_ratio': 1.0, 'reward_scaler': None, 'scaler': {'type': 'min_max', 'params': {'maximum': array([6.00000000e+00, 3.00000000e+03, 9.99974188e-01, 8.90000000e+04,\n",
      "       1.00000000e+00, 2.30000000e+01, 1.37933076e+01]), 'minimum': array([0.00000000e+00, 1.00000000e+00, 0.00000000e+00, 0.00000000e+00,\n",
      "       0.00000000e+00, 0.00000000e+00, 1.13353944e-05])}}, 'target_update_interval': 100, 'use_gpu': None, 'algorithm': 'FQE', 'observation_shape': (7,), 'action_size': 1}\n"
     ]
    },
    {
     "data": {
      "application/vnd.jupyter.widget-view+json": {
       "model_id": "0881870913fa482f841496c5fbd64577",
       "version_major": 2,
       "version_minor": 0
      },
      "text/plain": [
       "Epoch 1/1:   0%|          | 0/896 [00:00<?, ?it/s]"
      ]
     },
     "metadata": {},
     "output_type": "display_data"
    },
    {
     "name": "stdout",
     "output_type": "stream",
     "text": [
      "2023-03-16 19:41.17 [info     ] FQE_20230316194116: epoch=1 step=896 epoch=1 metrics={'time_sample_batch': 9.637831577232905e-05, 'time_algorithm_update': 0.001021921102489744, 'loss': 49.29229950000133, 'time_step': 0.0011693034321069717} step=896\n",
      "2023-03-16 19:41.17 [info     ] Model parameters are saved to d3rlpy_logs/FQE_20230316194116/model_896.pt\n"
     ]
    },
    {
     "data": {
      "application/vnd.jupyter.widget-view+json": {
       "model_id": "fc02210d4f3b40a9a60c7738d147669f",
       "version_major": 2,
       "version_minor": 0
      },
      "text/plain": [
       "[fit MWL model]:   0%|          | 0/1 [00:00<?, ?it/s]"
      ]
     },
     "metadata": {},
     "output_type": "display_data"
    },
    {
     "data": {
      "application/vnd.jupyter.widget-view+json": {
       "model_id": "b0cdef05bc3c4c2eba2258506c2e17f4",
       "version_major": 2,
       "version_minor": 0
      },
      "text/plain": [
       "[fitting_weight_function]:   0%|          | 0/100 [00:00<?, ?it/s]"
      ]
     },
     "metadata": {},
     "output_type": "display_data"
    },
    {
     "data": {
      "application/vnd.jupyter.widget-view+json": {
       "model_id": "aef14d6fef5e4307bbb80ef8e709e6bd",
       "version_major": 2,
       "version_minor": 0
      },
      "text/plain": [
       "[fitting_weight_function]:   0%|          | 0/100 [00:00<?, ?it/s]"
      ]
     },
     "metadata": {},
     "output_type": "display_data"
    },
    {
     "data": {
      "application/vnd.jupyter.widget-view+json": {
       "model_id": "8338ada37cc141c99af7ca76bce461d3",
       "version_major": 2,
       "version_minor": 0
      },
      "text/plain": [
       "[collect input data: eval_policy]:   0%|          | 0/1 [00:00<?, ?it/s]"
      ]
     },
     "metadata": {},
     "output_type": "display_data"
    },
    {
     "data": {
      "application/vnd.jupyter.widget-view+json": {
       "model_id": "9d3a414bbd924f3689b2d77ee78a350d",
       "version_major": 2,
       "version_minor": 0
      },
      "text/plain": [
       "[calculate on-policy policy value]:   0%|          | 0/100 [00:00<?, ?it/s]"
      ]
     },
     "metadata": {},
     "output_type": "display_data"
    },
    {
     "data": {
      "application/vnd.jupyter.widget-view+json": {
       "model_id": "b42d3c61da824823a84938b5cd433cf4",
       "version_major": 2,
       "version_minor": 0
      },
      "text/plain": [
       "[obtain_trajectories]:   0%|          | 0/12800 [00:00<?, ?it/s]"
      ]
     },
     "metadata": {},
     "output_type": "display_data"
    },
    {
     "data": {
      "application/vnd.jupyter.widget-view+json": {
       "model_id": "4b24366a6b434c1995d4eee33d26970c",
       "version_major": 2,
       "version_minor": 0
      },
      "text/plain": [
       "[obtain_trajectories]:   0%|          | 0/12800 [00:00<?, ?it/s]"
      ]
     },
     "metadata": {},
     "output_type": "display_data"
    },
    {
     "data": {
      "application/vnd.jupyter.widget-view+json": {
       "model_id": "fc9090a2082347d8a6bc18eead75a2c8",
       "version_major": 2,
       "version_minor": 0
      },
      "text/plain": [
       "[fit FQE model]:   0%|          | 0/1 [00:00<?, ?it/s]"
      ]
     },
     "metadata": {},
     "output_type": "display_data"
    },
    {
     "name": "stdout",
     "output_type": "stream",
     "text": [
      "2023-03-16 19:44.21 [debug    ] RoundIterator is selected.\n",
      "2023-03-16 19:44.21 [info     ] Directory is created at d3rlpy_logs/FQE_20230316194421\n",
      "2023-03-16 19:44.21 [debug    ] Fitting scaler...              scaler=min_max\n",
      "2023-03-16 19:44.21 [debug    ] Fitting action scaler...       action_scaler=min_max\n",
      "2023-03-16 19:44.21 [debug    ] Building models...\n",
      "2023-03-16 19:44.21 [debug    ] Models have been built.\n",
      "2023-03-16 19:44.21 [info     ] Parameters are saved to d3rlpy_logs/FQE_20230316194421/params.json params={'action_scaler': {'type': 'min_max', 'params': {'minimum': array([0.1]), 'maximum': array([10.])}}, 'batch_size': 100, 'encoder_factory': {'type': 'vector', 'params': {'hidden_units': [30, 30], 'activation': 'relu', 'use_batch_norm': False, 'dropout_rate': None, 'use_dense': False}}, 'gamma': 0.95, 'generated_maxlen': 100000, 'learning_rate': 0.0001, 'n_critics': 1, 'n_frames': 1, 'n_steps': 1, 'optim_factory': {'optim_cls': 'Adam', 'betas': (0.9, 0.999), 'eps': 1e-08, 'weight_decay': 0, 'amsgrad': False}, 'q_func_factory': {'type': 'mean', 'params': {'share_encoder': False}}, 'real_ratio': 1.0, 'reward_scaler': None, 'scaler': {'type': 'min_max', 'params': {'maximum': array([6.00000000e+00, 3.00000000e+03, 9.99940695e-01, 6.20000000e+04,\n",
      "       1.00000000e+00, 2.00000000e+01, 1.01659509e+01]), 'minimum': array([0.00000000e+00, 1.00000000e+00, 0.00000000e+00, 0.00000000e+00,\n",
      "       0.00000000e+00, 0.00000000e+00, 1.87947131e-05])}}, 'target_update_interval': 100, 'use_gpu': None, 'algorithm': 'FQE', 'observation_shape': (7,), 'action_size': 1}\n"
     ]
    },
    {
     "data": {
      "application/vnd.jupyter.widget-view+json": {
       "model_id": "810c31a055694f98ba7e85b47b474d9e",
       "version_major": 2,
       "version_minor": 0
      },
      "text/plain": [
       "Epoch 1/1:   0%|          | 0/896 [00:00<?, ?it/s]"
      ]
     },
     "metadata": {},
     "output_type": "display_data"
    },
    {
     "name": "stdout",
     "output_type": "stream",
     "text": [
      "2023-03-16 19:44.22 [info     ] FQE_20230316194421: epoch=1 step=896 epoch=1 metrics={'time_sample_batch': 9.873988372938973e-05, 'time_algorithm_update': 0.0010209160723856517, 'loss': 44.14200870799167, 'time_step': 0.0011675568031413214} step=896\n",
      "2023-03-16 19:44.22 [info     ] Model parameters are saved to d3rlpy_logs/FQE_20230316194421/model_896.pt\n"
     ]
    },
    {
     "data": {
      "application/vnd.jupyter.widget-view+json": {
       "model_id": "7f53018f42f84db3a9cb4e1d3f56a511",
       "version_major": 2,
       "version_minor": 0
      },
      "text/plain": [
       "[fit MWL model]:   0%|          | 0/1 [00:00<?, ?it/s]"
      ]
     },
     "metadata": {},
     "output_type": "display_data"
    },
    {
     "data": {
      "application/vnd.jupyter.widget-view+json": {
       "model_id": "554142cbd7334d619f2494393168981a",
       "version_major": 2,
       "version_minor": 0
      },
      "text/plain": [
       "[fitting_weight_function]:   0%|          | 0/100 [00:00<?, ?it/s]"
      ]
     },
     "metadata": {},
     "output_type": "display_data"
    },
    {
     "data": {
      "application/vnd.jupyter.widget-view+json": {
       "model_id": "d69e6ba2d0634a0c9788124b6ad1f414",
       "version_major": 2,
       "version_minor": 0
      },
      "text/plain": [
       "[fitting_weight_function]:   0%|          | 0/100 [00:00<?, ?it/s]"
      ]
     },
     "metadata": {},
     "output_type": "display_data"
    },
    {
     "data": {
      "application/vnd.jupyter.widget-view+json": {
       "model_id": "6497f79180f54aad9e03ccfb5d7163d2",
       "version_major": 2,
       "version_minor": 0
      },
      "text/plain": [
       "[collect input data: eval_policy]:   0%|          | 0/1 [00:00<?, ?it/s]"
      ]
     },
     "metadata": {},
     "output_type": "display_data"
    },
    {
     "data": {
      "application/vnd.jupyter.widget-view+json": {
       "model_id": "8a238f905f324f79adc5e317a42e0d80",
       "version_major": 2,
       "version_minor": 0
      },
      "text/plain": [
       "[calculate on-policy policy value]:   0%|          | 0/100 [00:00<?, ?it/s]"
      ]
     },
     "metadata": {},
     "output_type": "display_data"
    },
    {
     "data": {
      "application/vnd.jupyter.widget-view+json": {
       "model_id": "5d8ec509fdcc465980e91e58d43c0927",
       "version_major": 2,
       "version_minor": 0
      },
      "text/plain": [
       "[obtain_trajectories]:   0%|          | 0/12800 [00:00<?, ?it/s]"
      ]
     },
     "metadata": {},
     "output_type": "display_data"
    },
    {
     "data": {
      "application/vnd.jupyter.widget-view+json": {
       "model_id": "7541a68edc514e88af8a00bd4a6a2067",
       "version_major": 2,
       "version_minor": 0
      },
      "text/plain": [
       "[obtain_trajectories]:   0%|          | 0/12800 [00:00<?, ?it/s]"
      ]
     },
     "metadata": {},
     "output_type": "display_data"
    },
    {
     "data": {
      "application/vnd.jupyter.widget-view+json": {
       "model_id": "1d63597c3351421a848ce6167ad00632",
       "version_major": 2,
       "version_minor": 0
      },
      "text/plain": [
       "[fit FQE model]:   0%|          | 0/1 [00:00<?, ?it/s]"
      ]
     },
     "metadata": {},
     "output_type": "display_data"
    },
    {
     "name": "stdout",
     "output_type": "stream",
     "text": [
      "2023-03-16 19:47.32 [debug    ] RoundIterator is selected.\n",
      "2023-03-16 19:47.32 [info     ] Directory is created at d3rlpy_logs/FQE_20230316194732\n",
      "2023-03-16 19:47.32 [debug    ] Fitting scaler...              scaler=min_max\n",
      "2023-03-16 19:47.32 [debug    ] Fitting action scaler...       action_scaler=min_max\n",
      "2023-03-16 19:47.32 [debug    ] Building models...\n",
      "2023-03-16 19:47.32 [debug    ] Models have been built.\n",
      "2023-03-16 19:47.32 [info     ] Parameters are saved to d3rlpy_logs/FQE_20230316194732/params.json params={'action_scaler': {'type': 'min_max', 'params': {'minimum': array([0.1]), 'maximum': array([10.])}}, 'batch_size': 100, 'encoder_factory': {'type': 'vector', 'params': {'hidden_units': [30, 30], 'activation': 'relu', 'use_batch_norm': False, 'dropout_rate': None, 'use_dense': False}}, 'gamma': 0.95, 'generated_maxlen': 100000, 'learning_rate': 0.0001, 'n_critics': 1, 'n_frames': 1, 'n_steps': 1, 'optim_factory': {'optim_cls': 'Adam', 'betas': (0.9, 0.999), 'eps': 1e-08, 'weight_decay': 0, 'amsgrad': False}, 'q_func_factory': {'type': 'mean', 'params': {'share_encoder': False}}, 'real_ratio': 1.0, 'reward_scaler': None, 'scaler': {'type': 'min_max', 'params': {'maximum': array([6.00000000e+00, 3.00000000e+03, 9.99811967e-01, 6.40000000e+04,\n",
      "       1.00000000e+00, 2.20000000e+01, 9.99998092e+00]), 'minimum': array([0.00000000e+00, 1.00000000e+00, 0.00000000e+00, 0.00000000e+00,\n",
      "       0.00000000e+00, 0.00000000e+00, 1.73220288e-04])}}, 'target_update_interval': 100, 'use_gpu': None, 'algorithm': 'FQE', 'observation_shape': (7,), 'action_size': 1}\n"
     ]
    },
    {
     "data": {
      "application/vnd.jupyter.widget-view+json": {
       "model_id": "2d7d7dd37bc548d7b8b8a4891516ff14",
       "version_major": 2,
       "version_minor": 0
      },
      "text/plain": [
       "Epoch 1/1:   0%|          | 0/896 [00:00<?, ?it/s]"
      ]
     },
     "metadata": {},
     "output_type": "display_data"
    },
    {
     "name": "stdout",
     "output_type": "stream",
     "text": [
      "2023-03-16 19:47.33 [info     ] FQE_20230316194732: epoch=1 step=896 epoch=1 metrics={'time_sample_batch': 0.00010491614895207542, 'time_algorithm_update': 0.001071137243083545, 'loss': 67.32780123129487, 'time_step': 0.0012272936957223074} step=896\n",
      "2023-03-16 19:47.33 [info     ] Model parameters are saved to d3rlpy_logs/FQE_20230316194732/model_896.pt\n"
     ]
    },
    {
     "data": {
      "application/vnd.jupyter.widget-view+json": {
       "model_id": "873a8ad432cf4c679f6012f229062cb1",
       "version_major": 2,
       "version_minor": 0
      },
      "text/plain": [
       "[fit MWL model]:   0%|          | 0/1 [00:00<?, ?it/s]"
      ]
     },
     "metadata": {},
     "output_type": "display_data"
    },
    {
     "data": {
      "application/vnd.jupyter.widget-view+json": {
       "model_id": "2e804f8cb4a348a58ef82747a1074b20",
       "version_major": 2,
       "version_minor": 0
      },
      "text/plain": [
       "[fitting_weight_function]:   0%|          | 0/100 [00:00<?, ?it/s]"
      ]
     },
     "metadata": {},
     "output_type": "display_data"
    },
    {
     "data": {
      "application/vnd.jupyter.widget-view+json": {
       "model_id": "2a57f6824cc3465d9082f5a672d3c633",
       "version_major": 2,
       "version_minor": 0
      },
      "text/plain": [
       "[fitting_weight_function]:   0%|          | 0/100 [00:00<?, ?it/s]"
      ]
     },
     "metadata": {},
     "output_type": "display_data"
    },
    {
     "data": {
      "application/vnd.jupyter.widget-view+json": {
       "model_id": "92815f21363c444c8b51fb7e5e74cc8f",
       "version_major": 2,
       "version_minor": 0
      },
      "text/plain": [
       "[collect input data: eval_policy]:   0%|          | 0/1 [00:00<?, ?it/s]"
      ]
     },
     "metadata": {},
     "output_type": "display_data"
    },
    {
     "data": {
      "application/vnd.jupyter.widget-view+json": {
       "model_id": "de4cb9de96164e7f943aa1a6d4954970",
       "version_major": 2,
       "version_minor": 0
      },
      "text/plain": [
       "[calculate on-policy policy value]:   0%|          | 0/100 [00:00<?, ?it/s]"
      ]
     },
     "metadata": {},
     "output_type": "display_data"
    },
    {
     "data": {
      "application/vnd.jupyter.widget-view+json": {
       "model_id": "de7c98b4781e42bc936532a7b448b0c4",
       "version_major": 2,
       "version_minor": 0
      },
      "text/plain": [
       "[obtain_trajectories]:   0%|          | 0/12800 [00:00<?, ?it/s]"
      ]
     },
     "metadata": {},
     "output_type": "display_data"
    },
    {
     "data": {
      "application/vnd.jupyter.widget-view+json": {
       "model_id": "1335f29941c949ffbfb44fd22f507c45",
       "version_major": 2,
       "version_minor": 0
      },
      "text/plain": [
       "[obtain_trajectories]:   0%|          | 0/12800 [00:00<?, ?it/s]"
      ]
     },
     "metadata": {},
     "output_type": "display_data"
    },
    {
     "data": {
      "application/vnd.jupyter.widget-view+json": {
       "model_id": "ae29a3f653dd405cb580846f8b049849",
       "version_major": 2,
       "version_minor": 0
      },
      "text/plain": [
       "[fit FQE model]:   0%|          | 0/1 [00:00<?, ?it/s]"
      ]
     },
     "metadata": {},
     "output_type": "display_data"
    },
    {
     "name": "stdout",
     "output_type": "stream",
     "text": [
      "2023-03-16 19:50.50 [debug    ] RoundIterator is selected.\n",
      "2023-03-16 19:50.50 [info     ] Directory is created at d3rlpy_logs/FQE_20230316195050\n",
      "2023-03-16 19:50.50 [debug    ] Fitting scaler...              scaler=min_max\n",
      "2023-03-16 19:50.50 [debug    ] Fitting action scaler...       action_scaler=min_max\n",
      "2023-03-16 19:50.50 [debug    ] Building models...\n",
      "2023-03-16 19:50.50 [debug    ] Models have been built.\n",
      "2023-03-16 19:50.50 [info     ] Parameters are saved to d3rlpy_logs/FQE_20230316195050/params.json params={'action_scaler': {'type': 'min_max', 'params': {'minimum': array([0.1]), 'maximum': array([10.])}}, 'batch_size': 100, 'encoder_factory': {'type': 'vector', 'params': {'hidden_units': [30, 30], 'activation': 'relu', 'use_batch_norm': False, 'dropout_rate': None, 'use_dense': False}}, 'gamma': 0.95, 'generated_maxlen': 100000, 'learning_rate': 0.0001, 'n_critics': 1, 'n_frames': 1, 'n_steps': 1, 'optim_factory': {'optim_cls': 'Adam', 'betas': (0.9, 0.999), 'eps': 1e-08, 'weight_decay': 0, 'amsgrad': False}, 'q_func_factory': {'type': 'mean', 'params': {'share_encoder': False}}, 'real_ratio': 1.0, 'reward_scaler': None, 'scaler': {'type': 'min_max', 'params': {'maximum': array([6.00000000e+00, 3.00000000e+03, 9.99950706e-01, 7.80000000e+04,\n",
      "       1.00000000e+00, 2.40000000e+01, 1.07131786e+01]), 'minimum': array([0.00000000e+00, 1.00000000e+00, 0.00000000e+00, 0.00000000e+00,\n",
      "       0.00000000e+00, 0.00000000e+00, 1.15393531e-04])}}, 'target_update_interval': 100, 'use_gpu': None, 'algorithm': 'FQE', 'observation_shape': (7,), 'action_size': 1}\n"
     ]
    },
    {
     "data": {
      "application/vnd.jupyter.widget-view+json": {
       "model_id": "23a5c4ae82d545359ed3cd6c200afb80",
       "version_major": 2,
       "version_minor": 0
      },
      "text/plain": [
       "Epoch 1/1:   0%|          | 0/896 [00:00<?, ?it/s]"
      ]
     },
     "metadata": {},
     "output_type": "display_data"
    },
    {
     "name": "stdout",
     "output_type": "stream",
     "text": [
      "2023-03-16 19:50.51 [info     ] FQE_20230316195050: epoch=1 step=896 epoch=1 metrics={'time_sample_batch': 0.00011232335652623857, 'time_algorithm_update': 0.0011587677789585932, 'loss': 50.529982840908424, 'time_step': 0.0013322260762963975} step=896\n",
      "2023-03-16 19:50.51 [info     ] Model parameters are saved to d3rlpy_logs/FQE_20230316195050/model_896.pt\n"
     ]
    },
    {
     "data": {
      "application/vnd.jupyter.widget-view+json": {
       "model_id": "82ec78dc7a3f4103816c81ee8af9e7fc",
       "version_major": 2,
       "version_minor": 0
      },
      "text/plain": [
       "[fit MWL model]:   0%|          | 0/1 [00:00<?, ?it/s]"
      ]
     },
     "metadata": {},
     "output_type": "display_data"
    },
    {
     "data": {
      "application/vnd.jupyter.widget-view+json": {
       "model_id": "f46d21af3f34489d901c4cf986664a20",
       "version_major": 2,
       "version_minor": 0
      },
      "text/plain": [
       "[fitting_weight_function]:   0%|          | 0/100 [00:00<?, ?it/s]"
      ]
     },
     "metadata": {},
     "output_type": "display_data"
    },
    {
     "data": {
      "application/vnd.jupyter.widget-view+json": {
       "model_id": "fb4f7874ab8e4d4280a25b65f5ac7862",
       "version_major": 2,
       "version_minor": 0
      },
      "text/plain": [
       "[fitting_weight_function]:   0%|          | 0/100 [00:00<?, ?it/s]"
      ]
     },
     "metadata": {},
     "output_type": "display_data"
    },
    {
     "data": {
      "application/vnd.jupyter.widget-view+json": {
       "model_id": "2794e3592d96464ba50deb8a47a96cfc",
       "version_major": 2,
       "version_minor": 0
      },
      "text/plain": [
       "[collect input data: eval_policy]:   0%|          | 0/1 [00:00<?, ?it/s]"
      ]
     },
     "metadata": {},
     "output_type": "display_data"
    },
    {
     "data": {
      "application/vnd.jupyter.widget-view+json": {
       "model_id": "10d6db7a795e471c9e55c57564dc8677",
       "version_major": 2,
       "version_minor": 0
      },
      "text/plain": [
       "[calculate on-policy policy value]:   0%|          | 0/100 [00:00<?, ?it/s]"
      ]
     },
     "metadata": {},
     "output_type": "display_data"
    },
    {
     "data": {
      "application/vnd.jupyter.widget-view+json": {
       "model_id": "ef4cb1bc941f483c92ee48d090190d18",
       "version_major": 2,
       "version_minor": 0
      },
      "text/plain": [
       "[obtain_trajectories]:   0%|          | 0/12800 [00:00<?, ?it/s]"
      ]
     },
     "metadata": {},
     "output_type": "display_data"
    },
    {
     "data": {
      "application/vnd.jupyter.widget-view+json": {
       "model_id": "9d119d09006b4556b34b011a4e44031a",
       "version_major": 2,
       "version_minor": 0
      },
      "text/plain": [
       "[obtain_trajectories]:   0%|          | 0/12800 [00:00<?, ?it/s]"
      ]
     },
     "metadata": {},
     "output_type": "display_data"
    },
    {
     "data": {
      "application/vnd.jupyter.widget-view+json": {
       "model_id": "31bc61e5463f4130b058ecbd77445212",
       "version_major": 2,
       "version_minor": 0
      },
      "text/plain": [
       "[fit FQE model]:   0%|          | 0/1 [00:00<?, ?it/s]"
      ]
     },
     "metadata": {},
     "output_type": "display_data"
    },
    {
     "name": "stdout",
     "output_type": "stream",
     "text": [
      "2023-03-16 19:54.12 [debug    ] RoundIterator is selected.\n",
      "2023-03-16 19:54.12 [info     ] Directory is created at d3rlpy_logs/FQE_20230316195412\n",
      "2023-03-16 19:54.12 [debug    ] Fitting scaler...              scaler=min_max\n",
      "2023-03-16 19:54.12 [debug    ] Fitting action scaler...       action_scaler=min_max\n",
      "2023-03-16 19:54.12 [debug    ] Building models...\n",
      "2023-03-16 19:54.12 [debug    ] Models have been built.\n",
      "2023-03-16 19:54.12 [info     ] Parameters are saved to d3rlpy_logs/FQE_20230316195412/params.json params={'action_scaler': {'type': 'min_max', 'params': {'minimum': array([0.1]), 'maximum': array([10.])}}, 'batch_size': 100, 'encoder_factory': {'type': 'vector', 'params': {'hidden_units': [30, 30], 'activation': 'relu', 'use_batch_norm': False, 'dropout_rate': None, 'use_dense': False}}, 'gamma': 0.95, 'generated_maxlen': 100000, 'learning_rate': 0.0001, 'n_critics': 1, 'n_frames': 1, 'n_steps': 1, 'optim_factory': {'optim_cls': 'Adam', 'betas': (0.9, 0.999), 'eps': 1e-08, 'weight_decay': 0, 'amsgrad': False}, 'q_func_factory': {'type': 'mean', 'params': {'share_encoder': False}}, 'real_ratio': 1.0, 'reward_scaler': None, 'scaler': {'type': 'min_max', 'params': {'maximum': array([6.00000000e+00, 3.00000000e+03, 9.99940307e-01, 8.00000000e+04,\n",
      "       1.00000000e+00, 2.30000000e+01, 1.59861548e+01]), 'minimum': array([0.00000000e+00, 1.00000000e+00, 0.00000000e+00, 0.00000000e+00,\n",
      "       0.00000000e+00, 0.00000000e+00, 2.23323712e-06])}}, 'target_update_interval': 100, 'use_gpu': None, 'algorithm': 'FQE', 'observation_shape': (7,), 'action_size': 1}\n"
     ]
    },
    {
     "data": {
      "application/vnd.jupyter.widget-view+json": {
       "model_id": "b39579cd5f384316bcba880f92143b92",
       "version_major": 2,
       "version_minor": 0
      },
      "text/plain": [
       "Epoch 1/1:   0%|          | 0/896 [00:00<?, ?it/s]"
      ]
     },
     "metadata": {},
     "output_type": "display_data"
    },
    {
     "name": "stdout",
     "output_type": "stream",
     "text": [
      "2023-03-16 19:54.14 [info     ] FQE_20230316195412: epoch=1 step=896 epoch=1 metrics={'time_sample_batch': 0.00011134174253259386, 'time_algorithm_update': 0.0011720377951860428, 'loss': 21.613725002855062, 'time_step': 0.0013433002999850682} step=896\n",
      "2023-03-16 19:54.14 [info     ] Model parameters are saved to d3rlpy_logs/FQE_20230316195412/model_896.pt\n"
     ]
    },
    {
     "data": {
      "application/vnd.jupyter.widget-view+json": {
       "model_id": "5db49b0992254033a152ec1d160d1638",
       "version_major": 2,
       "version_minor": 0
      },
      "text/plain": [
       "[fit MWL model]:   0%|          | 0/1 [00:00<?, ?it/s]"
      ]
     },
     "metadata": {},
     "output_type": "display_data"
    },
    {
     "data": {
      "application/vnd.jupyter.widget-view+json": {
       "model_id": "2f934dcc2b4b42d19ecf08771924b2af",
       "version_major": 2,
       "version_minor": 0
      },
      "text/plain": [
       "[fitting_weight_function]:   0%|          | 0/100 [00:00<?, ?it/s]"
      ]
     },
     "metadata": {},
     "output_type": "display_data"
    },
    {
     "data": {
      "application/vnd.jupyter.widget-view+json": {
       "model_id": "e34b1e0d16a642e3b683d85c2352d96e",
       "version_major": 2,
       "version_minor": 0
      },
      "text/plain": [
       "[fitting_weight_function]:   0%|          | 0/100 [00:00<?, ?it/s]"
      ]
     },
     "metadata": {},
     "output_type": "display_data"
    },
    {
     "data": {
      "application/vnd.jupyter.widget-view+json": {
       "model_id": "3ddf24a22cc04e39b12a1af508ccaff1",
       "version_major": 2,
       "version_minor": 0
      },
      "text/plain": [
       "[collect input data: eval_policy]:   0%|          | 0/1 [00:00<?, ?it/s]"
      ]
     },
     "metadata": {},
     "output_type": "display_data"
    },
    {
     "data": {
      "application/vnd.jupyter.widget-view+json": {
       "model_id": "a2b9512cf3ce4174bdee8f5054ab1ceb",
       "version_major": 2,
       "version_minor": 0
      },
      "text/plain": [
       "[calculate on-policy policy value]:   0%|          | 0/100 [00:00<?, ?it/s]"
      ]
     },
     "metadata": {},
     "output_type": "display_data"
    },
    {
     "data": {
      "application/vnd.jupyter.widget-view+json": {
       "model_id": "1bb3200ee02b4ae6b94c459b57f771f4",
       "version_major": 2,
       "version_minor": 0
      },
      "text/plain": [
       "[obtain_trajectories]:   0%|          | 0/12800 [00:00<?, ?it/s]"
      ]
     },
     "metadata": {},
     "output_type": "display_data"
    },
    {
     "data": {
      "application/vnd.jupyter.widget-view+json": {
       "model_id": "9266c2eef06f40c3863c7a88ea20f705",
       "version_major": 2,
       "version_minor": 0
      },
      "text/plain": [
       "[obtain_trajectories]:   0%|          | 0/12800 [00:00<?, ?it/s]"
      ]
     },
     "metadata": {},
     "output_type": "display_data"
    },
    {
     "data": {
      "application/vnd.jupyter.widget-view+json": {
       "model_id": "3bd139d2b68a43cb94204de38e00473e",
       "version_major": 2,
       "version_minor": 0
      },
      "text/plain": [
       "[fit FQE model]:   0%|          | 0/1 [00:00<?, ?it/s]"
      ]
     },
     "metadata": {},
     "output_type": "display_data"
    },
    {
     "name": "stdout",
     "output_type": "stream",
     "text": [
      "2023-03-16 19:57.52 [debug    ] RoundIterator is selected.\n",
      "2023-03-16 19:57.52 [info     ] Directory is created at d3rlpy_logs/FQE_20230316195752\n",
      "2023-03-16 19:57.52 [debug    ] Fitting scaler...              scaler=min_max\n",
      "2023-03-16 19:57.52 [debug    ] Fitting action scaler...       action_scaler=min_max\n",
      "2023-03-16 19:57.52 [debug    ] Building models...\n",
      "2023-03-16 19:57.52 [debug    ] Models have been built.\n",
      "2023-03-16 19:57.52 [info     ] Parameters are saved to d3rlpy_logs/FQE_20230316195752/params.json params={'action_scaler': {'type': 'min_max', 'params': {'minimum': array([0.1]), 'maximum': array([10.])}}, 'batch_size': 100, 'encoder_factory': {'type': 'vector', 'params': {'hidden_units': [30, 30], 'activation': 'relu', 'use_batch_norm': False, 'dropout_rate': None, 'use_dense': False}}, 'gamma': 0.95, 'generated_maxlen': 100000, 'learning_rate': 0.0001, 'n_critics': 1, 'n_frames': 1, 'n_steps': 1, 'optim_factory': {'optim_cls': 'Adam', 'betas': (0.9, 0.999), 'eps': 1e-08, 'weight_decay': 0, 'amsgrad': False}, 'q_func_factory': {'type': 'mean', 'params': {'share_encoder': False}}, 'real_ratio': 1.0, 'reward_scaler': None, 'scaler': {'type': 'min_max', 'params': {'maximum': array([6.00000000e+00, 3.00000000e+03, 9.99847206e-01, 6.90000000e+04,\n",
      "       1.00000000e+00, 2.10000000e+01, 1.05163606e+01]), 'minimum': array([0.00000000e+00, 1.00000000e+00, 0.00000000e+00, 0.00000000e+00,\n",
      "       0.00000000e+00, 0.00000000e+00, 8.26056941e-05])}}, 'target_update_interval': 100, 'use_gpu': None, 'algorithm': 'FQE', 'observation_shape': (7,), 'action_size': 1}\n"
     ]
    },
    {
     "data": {
      "application/vnd.jupyter.widget-view+json": {
       "model_id": "174d0cf388e543678e8168ec1b9c73db",
       "version_major": 2,
       "version_minor": 0
      },
      "text/plain": [
       "Epoch 1/1:   0%|          | 0/896 [00:00<?, ?it/s]"
      ]
     },
     "metadata": {},
     "output_type": "display_data"
    },
    {
     "name": "stdout",
     "output_type": "stream",
     "text": [
      "2023-03-16 19:57.53 [info     ] FQE_20230316195752: epoch=1 step=896 epoch=1 metrics={'time_sample_batch': 0.00010768111263002668, 'time_algorithm_update': 0.0011131045009408677, 'loss': 47.81096794775554, 'time_step': 0.00128021916108472} step=896\n",
      "2023-03-16 19:57.53 [info     ] Model parameters are saved to d3rlpy_logs/FQE_20230316195752/model_896.pt\n"
     ]
    },
    {
     "data": {
      "application/vnd.jupyter.widget-view+json": {
       "model_id": "67e36431e8a84f63a460f45bcacef100",
       "version_major": 2,
       "version_minor": 0
      },
      "text/plain": [
       "[fit MWL model]:   0%|          | 0/1 [00:00<?, ?it/s]"
      ]
     },
     "metadata": {},
     "output_type": "display_data"
    },
    {
     "data": {
      "application/vnd.jupyter.widget-view+json": {
       "model_id": "c0378637406c46429b8057b41aaaee4e",
       "version_major": 2,
       "version_minor": 0
      },
      "text/plain": [
       "[fitting_weight_function]:   0%|          | 0/100 [00:00<?, ?it/s]"
      ]
     },
     "metadata": {},
     "output_type": "display_data"
    },
    {
     "data": {
      "application/vnd.jupyter.widget-view+json": {
       "model_id": "b31758b0888b495e9b46c0bd0bdcd53a",
       "version_major": 2,
       "version_minor": 0
      },
      "text/plain": [
       "[fitting_weight_function]:   0%|          | 0/100 [00:00<?, ?it/s]"
      ]
     },
     "metadata": {},
     "output_type": "display_data"
    },
    {
     "data": {
      "application/vnd.jupyter.widget-view+json": {
       "model_id": "65c3e60de1dd484892c4cce28456b7b3",
       "version_major": 2,
       "version_minor": 0
      },
      "text/plain": [
       "[collect input data: eval_policy]:   0%|          | 0/1 [00:00<?, ?it/s]"
      ]
     },
     "metadata": {},
     "output_type": "display_data"
    },
    {
     "data": {
      "application/vnd.jupyter.widget-view+json": {
       "model_id": "976ef606f802433e89d6ee80c63c3be2",
       "version_major": 2,
       "version_minor": 0
      },
      "text/plain": [
       "[calculate on-policy policy value]:   0%|          | 0/100 [00:00<?, ?it/s]"
      ]
     },
     "metadata": {},
     "output_type": "display_data"
    },
    {
     "data": {
      "application/vnd.jupyter.widget-view+json": {
       "model_id": "eb0b2db4d5604c7f92f7ca1747a02bc1",
       "version_major": 2,
       "version_minor": 0
      },
      "text/plain": [
       "[obtain_trajectories]:   0%|          | 0/12800 [00:00<?, ?it/s]"
      ]
     },
     "metadata": {},
     "output_type": "display_data"
    },
    {
     "data": {
      "application/vnd.jupyter.widget-view+json": {
       "model_id": "c813c03982d24c00b67b39f967972b91",
       "version_major": 2,
       "version_minor": 0
      },
      "text/plain": [
       "[obtain_trajectories]:   0%|          | 0/12800 [00:00<?, ?it/s]"
      ]
     },
     "metadata": {},
     "output_type": "display_data"
    },
    {
     "data": {
      "application/vnd.jupyter.widget-view+json": {
       "model_id": "4a858d45086b4c69ab801c9284df6e6d",
       "version_major": 2,
       "version_minor": 0
      },
      "text/plain": [
       "[fit FQE model]:   0%|          | 0/1 [00:00<?, ?it/s]"
      ]
     },
     "metadata": {},
     "output_type": "display_data"
    },
    {
     "name": "stdout",
     "output_type": "stream",
     "text": [
      "2023-03-16 20:01.14 [debug    ] RoundIterator is selected.\n",
      "2023-03-16 20:01.14 [info     ] Directory is created at d3rlpy_logs/FQE_20230316200114\n",
      "2023-03-16 20:01.14 [debug    ] Fitting scaler...              scaler=min_max\n",
      "2023-03-16 20:01.14 [debug    ] Fitting action scaler...       action_scaler=min_max\n",
      "2023-03-16 20:01.14 [debug    ] Building models...\n",
      "2023-03-16 20:01.14 [debug    ] Models have been built.\n",
      "2023-03-16 20:01.14 [info     ] Parameters are saved to d3rlpy_logs/FQE_20230316200114/params.json params={'action_scaler': {'type': 'min_max', 'params': {'minimum': array([0.1]), 'maximum': array([10.])}}, 'batch_size': 100, 'encoder_factory': {'type': 'vector', 'params': {'hidden_units': [30, 30], 'activation': 'relu', 'use_batch_norm': False, 'dropout_rate': None, 'use_dense': False}}, 'gamma': 0.95, 'generated_maxlen': 100000, 'learning_rate': 0.0001, 'n_critics': 1, 'n_frames': 1, 'n_steps': 1, 'optim_factory': {'optim_cls': 'Adam', 'betas': (0.9, 0.999), 'eps': 1e-08, 'weight_decay': 0, 'amsgrad': False}, 'q_func_factory': {'type': 'mean', 'params': {'share_encoder': False}}, 'real_ratio': 1.0, 'reward_scaler': None, 'scaler': {'type': 'min_max', 'params': {'maximum': array([6.00000000e+00, 3.00000000e+03, 9.99930477e-01, 6.80000000e+04,\n",
      "       1.00000000e+00, 2.00000000e+01, 1.06003103e+01]), 'minimum': array([0.00000000e+00, 1.00000000e+00, 0.00000000e+00, 0.00000000e+00,\n",
      "       0.00000000e+00, 0.00000000e+00, 5.57702015e-05])}}, 'target_update_interval': 100, 'use_gpu': None, 'algorithm': 'FQE', 'observation_shape': (7,), 'action_size': 1}\n"
     ]
    },
    {
     "data": {
      "application/vnd.jupyter.widget-view+json": {
       "model_id": "64d7fa5283674aca913c264ed70b0928",
       "version_major": 2,
       "version_minor": 0
      },
      "text/plain": [
       "Epoch 1/1:   0%|          | 0/896 [00:00<?, ?it/s]"
      ]
     },
     "metadata": {},
     "output_type": "display_data"
    },
    {
     "name": "stdout",
     "output_type": "stream",
     "text": [
      "2023-03-16 20:01.15 [info     ] FQE_20230316200114: epoch=1 step=896 epoch=1 metrics={'time_sample_batch': 0.00010647917432444436, 'time_algorithm_update': 0.0011327301285096578, 'loss': 22.340315183358534, 'time_step': 0.0012928428394453867} step=896\n",
      "2023-03-16 20:01.15 [info     ] Model parameters are saved to d3rlpy_logs/FQE_20230316200114/model_896.pt\n"
     ]
    },
    {
     "data": {
      "application/vnd.jupyter.widget-view+json": {
       "model_id": "467ba1c405224a9ea335e4c22cbfe885",
       "version_major": 2,
       "version_minor": 0
      },
      "text/plain": [
       "[fit MWL model]:   0%|          | 0/1 [00:00<?, ?it/s]"
      ]
     },
     "metadata": {},
     "output_type": "display_data"
    },
    {
     "data": {
      "application/vnd.jupyter.widget-view+json": {
       "model_id": "3ec60d74b2a046479441ffe73916305e",
       "version_major": 2,
       "version_minor": 0
      },
      "text/plain": [
       "[fitting_weight_function]:   0%|          | 0/100 [00:00<?, ?it/s]"
      ]
     },
     "metadata": {},
     "output_type": "display_data"
    },
    {
     "data": {
      "application/vnd.jupyter.widget-view+json": {
       "model_id": "ab5c5cb93a7a46b5b286b47bf0171ee8",
       "version_major": 2,
       "version_minor": 0
      },
      "text/plain": [
       "[fitting_weight_function]:   0%|          | 0/100 [00:00<?, ?it/s]"
      ]
     },
     "metadata": {},
     "output_type": "display_data"
    },
    {
     "data": {
      "application/vnd.jupyter.widget-view+json": {
       "model_id": "d8c0db85116b4b308eda7ced3f1d383d",
       "version_major": 2,
       "version_minor": 0
      },
      "text/plain": [
       "[collect input data: eval_policy]:   0%|          | 0/1 [00:00<?, ?it/s]"
      ]
     },
     "metadata": {},
     "output_type": "display_data"
    },
    {
     "data": {
      "application/vnd.jupyter.widget-view+json": {
       "model_id": "cbcbf4123394456aa157c0619071df97",
       "version_major": 2,
       "version_minor": 0
      },
      "text/plain": [
       "[calculate on-policy policy value]:   0%|          | 0/100 [00:00<?, ?it/s]"
      ]
     },
     "metadata": {},
     "output_type": "display_data"
    },
    {
     "data": {
      "application/vnd.jupyter.widget-view+json": {
       "model_id": "ff155634a8d24c20931244bc7ffc9fb6",
       "version_major": 2,
       "version_minor": 0
      },
      "text/plain": [
       "[obtain_trajectories]:   0%|          | 0/12800 [00:00<?, ?it/s]"
      ]
     },
     "metadata": {},
     "output_type": "display_data"
    },
    {
     "data": {
      "application/vnd.jupyter.widget-view+json": {
       "model_id": "3cf09c890faa4ea08446619a096091d4",
       "version_major": 2,
       "version_minor": 0
      },
      "text/plain": [
       "[obtain_trajectories]:   0%|          | 0/12800 [00:00<?, ?it/s]"
      ]
     },
     "metadata": {},
     "output_type": "display_data"
    },
    {
     "data": {
      "application/vnd.jupyter.widget-view+json": {
       "model_id": "d2e1fa4ee49d478cb77805b86e935b8c",
       "version_major": 2,
       "version_minor": 0
      },
      "text/plain": [
       "[fit FQE model]:   0%|          | 0/1 [00:00<?, ?it/s]"
      ]
     },
     "metadata": {},
     "output_type": "display_data"
    },
    {
     "name": "stdout",
     "output_type": "stream",
     "text": [
      "2023-03-16 20:04.35 [debug    ] RoundIterator is selected.\n",
      "2023-03-16 20:04.35 [info     ] Directory is created at d3rlpy_logs/FQE_20230316200435\n",
      "2023-03-16 20:04.35 [debug    ] Fitting scaler...              scaler=min_max\n",
      "2023-03-16 20:04.35 [debug    ] Fitting action scaler...       action_scaler=min_max\n",
      "2023-03-16 20:04.35 [debug    ] Building models...\n",
      "2023-03-16 20:04.35 [debug    ] Models have been built.\n",
      "2023-03-16 20:04.35 [info     ] Parameters are saved to d3rlpy_logs/FQE_20230316200435/params.json params={'action_scaler': {'type': 'min_max', 'params': {'minimum': array([0.1]), 'maximum': array([10.])}}, 'batch_size': 100, 'encoder_factory': {'type': 'vector', 'params': {'hidden_units': [30, 30], 'activation': 'relu', 'use_batch_norm': False, 'dropout_rate': None, 'use_dense': False}}, 'gamma': 0.95, 'generated_maxlen': 100000, 'learning_rate': 0.0001, 'n_critics': 1, 'n_frames': 1, 'n_steps': 1, 'optim_factory': {'optim_cls': 'Adam', 'betas': (0.9, 0.999), 'eps': 1e-08, 'weight_decay': 0, 'amsgrad': False}, 'q_func_factory': {'type': 'mean', 'params': {'share_encoder': False}}, 'real_ratio': 1.0, 'reward_scaler': None, 'scaler': {'type': 'min_max', 'params': {'maximum': array([6.00000000e+00, 3.00000000e+03, 9.99995558e-01, 7.90000000e+04,\n",
      "       1.00000000e+00, 2.40000000e+01, 9.99994806e+00]), 'minimum': array([0.00000000e+00, 1.00000000e+00, 0.00000000e+00, 0.00000000e+00,\n",
      "       0.00000000e+00, 0.00000000e+00, 2.65822227e-05])}}, 'target_update_interval': 100, 'use_gpu': None, 'algorithm': 'FQE', 'observation_shape': (7,), 'action_size': 1}\n"
     ]
    },
    {
     "data": {
      "application/vnd.jupyter.widget-view+json": {
       "model_id": "3436aa537e43402797b8fb09f0f6eb9d",
       "version_major": 2,
       "version_minor": 0
      },
      "text/plain": [
       "Epoch 1/1:   0%|          | 0/896 [00:00<?, ?it/s]"
      ]
     },
     "metadata": {},
     "output_type": "display_data"
    },
    {
     "name": "stdout",
     "output_type": "stream",
     "text": [
      "2023-03-16 20:04.36 [info     ] FQE_20230316200435: epoch=1 step=896 epoch=1 metrics={'time_sample_batch': 0.00010632537305355072, 'time_algorithm_update': 0.0011139315153871263, 'loss': 32.3504522533289, 'time_step': 0.0012775765998022898} step=896\n",
      "2023-03-16 20:04.36 [info     ] Model parameters are saved to d3rlpy_logs/FQE_20230316200435/model_896.pt\n"
     ]
    },
    {
     "data": {
      "application/vnd.jupyter.widget-view+json": {
       "model_id": "24003e16d8404b31aa7b29965921aa78",
       "version_major": 2,
       "version_minor": 0
      },
      "text/plain": [
       "[fit MWL model]:   0%|          | 0/1 [00:00<?, ?it/s]"
      ]
     },
     "metadata": {},
     "output_type": "display_data"
    },
    {
     "data": {
      "application/vnd.jupyter.widget-view+json": {
       "model_id": "d47dc981ee3146a4b30faf8e95c28ff1",
       "version_major": 2,
       "version_minor": 0
      },
      "text/plain": [
       "[fitting_weight_function]:   0%|          | 0/100 [00:00<?, ?it/s]"
      ]
     },
     "metadata": {},
     "output_type": "display_data"
    },
    {
     "data": {
      "application/vnd.jupyter.widget-view+json": {
       "model_id": "829d2475f3f043799b7253c56422ebdc",
       "version_major": 2,
       "version_minor": 0
      },
      "text/plain": [
       "[fitting_weight_function]:   0%|          | 0/100 [00:00<?, ?it/s]"
      ]
     },
     "metadata": {},
     "output_type": "display_data"
    },
    {
     "data": {
      "application/vnd.jupyter.widget-view+json": {
       "model_id": "4daea04684444ce48f03b2aa9bc0f884",
       "version_major": 2,
       "version_minor": 0
      },
      "text/plain": [
       "[collect input data: eval_policy]:   0%|          | 0/1 [00:00<?, ?it/s]"
      ]
     },
     "metadata": {},
     "output_type": "display_data"
    },
    {
     "data": {
      "application/vnd.jupyter.widget-view+json": {
       "model_id": "ef705ad6de8145a29f5996242938d721",
       "version_major": 2,
       "version_minor": 0
      },
      "text/plain": [
       "[calculate on-policy policy value]:   0%|          | 0/100 [00:00<?, ?it/s]"
      ]
     },
     "metadata": {},
     "output_type": "display_data"
    },
    {
     "data": {
      "application/vnd.jupyter.widget-view+json": {
       "model_id": "4b9ae2d226864b29aead1c63c012bff1",
       "version_major": 2,
       "version_minor": 0
      },
      "text/plain": [
       "[obtain_trajectories]:   0%|          | 0/25600 [00:00<?, ?it/s]"
      ]
     },
     "metadata": {},
     "output_type": "display_data"
    },
    {
     "data": {
      "application/vnd.jupyter.widget-view+json": {
       "model_id": "62e4655d324a449aad4b6c458dbdad87",
       "version_major": 2,
       "version_minor": 0
      },
      "text/plain": [
       "[obtain_trajectories]:   0%|          | 0/25600 [00:00<?, ?it/s]"
      ]
     },
     "metadata": {},
     "output_type": "display_data"
    },
    {
     "data": {
      "application/vnd.jupyter.widget-view+json": {
       "model_id": "fdf716fecd8544f98bdbb8664b2c12c1",
       "version_major": 2,
       "version_minor": 0
      },
      "text/plain": [
       "[fit FQE model]:   0%|          | 0/1 [00:00<?, ?it/s]"
      ]
     },
     "metadata": {},
     "output_type": "display_data"
    },
    {
     "name": "stdout",
     "output_type": "stream",
     "text": [
      "2023-03-16 20:11.16 [debug    ] RoundIterator is selected.\n",
      "2023-03-16 20:11.16 [info     ] Directory is created at d3rlpy_logs/FQE_20230316201116\n",
      "2023-03-16 20:11.16 [debug    ] Fitting scaler...              scaler=min_max\n",
      "2023-03-16 20:11.16 [debug    ] Fitting action scaler...       action_scaler=min_max\n",
      "2023-03-16 20:11.16 [debug    ] Building models...\n",
      "2023-03-16 20:11.16 [debug    ] Models have been built.\n",
      "2023-03-16 20:11.16 [info     ] Parameters are saved to d3rlpy_logs/FQE_20230316201116/params.json params={'action_scaler': {'type': 'min_max', 'params': {'minimum': array([0.1]), 'maximum': array([10.])}}, 'batch_size': 100, 'encoder_factory': {'type': 'vector', 'params': {'hidden_units': [30, 30], 'activation': 'relu', 'use_batch_norm': False, 'dropout_rate': None, 'use_dense': False}}, 'gamma': 0.95, 'generated_maxlen': 100000, 'learning_rate': 0.0001, 'n_critics': 1, 'n_frames': 1, 'n_steps': 1, 'optim_factory': {'optim_cls': 'Adam', 'betas': (0.9, 0.999), 'eps': 1e-08, 'weight_decay': 0, 'amsgrad': False}, 'q_func_factory': {'type': 'mean', 'params': {'share_encoder': False}}, 'real_ratio': 1.0, 'reward_scaler': None, 'scaler': {'type': 'min_max', 'params': {'maximum': array([6.00000000e+00, 3.00000000e+03, 9.99898211e-01, 6.80000000e+04,\n",
      "       1.00000000e+00, 2.30000000e+01, 1.08925188e+01]), 'minimum': array([0.00000000e+00, 1.00000000e+00, 0.00000000e+00, 0.00000000e+00,\n",
      "       0.00000000e+00, 0.00000000e+00, 5.79142911e-05])}}, 'target_update_interval': 100, 'use_gpu': None, 'algorithm': 'FQE', 'observation_shape': (7,), 'action_size': 1}\n"
     ]
    },
    {
     "data": {
      "application/vnd.jupyter.widget-view+json": {
       "model_id": "06dac0dacdea41e4a33b0c06104023c2",
       "version_major": 2,
       "version_minor": 0
      },
      "text/plain": [
       "Epoch 1/1:   0%|          | 0/1792 [00:00<?, ?it/s]"
      ]
     },
     "metadata": {},
     "output_type": "display_data"
    },
    {
     "name": "stdout",
     "output_type": "stream",
     "text": [
      "2023-03-16 20:11.18 [info     ] FQE_20230316201116: epoch=1 step=1792 epoch=1 metrics={'time_sample_batch': 0.0001209508627653122, 'time_algorithm_update': 0.0012117755998458182, 'loss': 2762.790435033185, 'time_step': 0.0014066756037729128} step=1792\n",
      "2023-03-16 20:11.18 [info     ] Model parameters are saved to d3rlpy_logs/FQE_20230316201116/model_1792.pt\n"
     ]
    },
    {
     "data": {
      "application/vnd.jupyter.widget-view+json": {
       "model_id": "9946e3422d664e2988136ce78a1c1a02",
       "version_major": 2,
       "version_minor": 0
      },
      "text/plain": [
       "[fit MWL model]:   0%|          | 0/1 [00:00<?, ?it/s]"
      ]
     },
     "metadata": {},
     "output_type": "display_data"
    },
    {
     "data": {
      "application/vnd.jupyter.widget-view+json": {
       "model_id": "f9a555d8a30e4fa1be20811a53c60ce6",
       "version_major": 2,
       "version_minor": 0
      },
      "text/plain": [
       "[fitting_weight_function]:   0%|          | 0/100 [00:00<?, ?it/s]"
      ]
     },
     "metadata": {},
     "output_type": "display_data"
    },
    {
     "data": {
      "application/vnd.jupyter.widget-view+json": {
       "model_id": "2a54714548744458a698a48969d2c102",
       "version_major": 2,
       "version_minor": 0
      },
      "text/plain": [
       "[fitting_weight_function]:   0%|          | 0/100 [00:00<?, ?it/s]"
      ]
     },
     "metadata": {},
     "output_type": "display_data"
    },
    {
     "data": {
      "application/vnd.jupyter.widget-view+json": {
       "model_id": "85200e18b59f4aaeaee4dc875def52ee",
       "version_major": 2,
       "version_minor": 0
      },
      "text/plain": [
       "[collect input data: eval_policy]:   0%|          | 0/1 [00:00<?, ?it/s]"
      ]
     },
     "metadata": {},
     "output_type": "display_data"
    },
    {
     "data": {
      "application/vnd.jupyter.widget-view+json": {
       "model_id": "1c708929f547430d84ae22a7b6779a89",
       "version_major": 2,
       "version_minor": 0
      },
      "text/plain": [
       "[calculate on-policy policy value]:   0%|          | 0/100 [00:00<?, ?it/s]"
      ]
     },
     "metadata": {},
     "output_type": "display_data"
    },
    {
     "data": {
      "application/vnd.jupyter.widget-view+json": {
       "model_id": "4763adc19e844dde8de9cfc8aabe1512",
       "version_major": 2,
       "version_minor": 0
      },
      "text/plain": [
       "[obtain_trajectories]:   0%|          | 0/25600 [00:00<?, ?it/s]"
      ]
     },
     "metadata": {},
     "output_type": "display_data"
    },
    {
     "data": {
      "application/vnd.jupyter.widget-view+json": {
       "model_id": "9b5d49144ca4407b8310fb80d7f0bf69",
       "version_major": 2,
       "version_minor": 0
      },
      "text/plain": [
       "[obtain_trajectories]:   0%|          | 0/25600 [00:00<?, ?it/s]"
      ]
     },
     "metadata": {},
     "output_type": "display_data"
    },
    {
     "data": {
      "application/vnd.jupyter.widget-view+json": {
       "model_id": "d33473ca282c4460b79cb0c984fa61ff",
       "version_major": 2,
       "version_minor": 0
      },
      "text/plain": [
       "[fit FQE model]:   0%|          | 0/1 [00:00<?, ?it/s]"
      ]
     },
     "metadata": {},
     "output_type": "display_data"
    },
    {
     "name": "stdout",
     "output_type": "stream",
     "text": [
      "2023-03-16 20:18.04 [debug    ] RoundIterator is selected.\n",
      "2023-03-16 20:18.04 [info     ] Directory is created at d3rlpy_logs/FQE_20230316201804\n",
      "2023-03-16 20:18.04 [debug    ] Fitting scaler...              scaler=min_max\n",
      "2023-03-16 20:18.04 [debug    ] Fitting action scaler...       action_scaler=min_max\n",
      "2023-03-16 20:18.04 [debug    ] Building models...\n",
      "2023-03-16 20:18.04 [debug    ] Models have been built.\n",
      "2023-03-16 20:18.04 [info     ] Parameters are saved to d3rlpy_logs/FQE_20230316201804/params.json params={'action_scaler': {'type': 'min_max', 'params': {'minimum': array([0.1]), 'maximum': array([10.])}}, 'batch_size': 100, 'encoder_factory': {'type': 'vector', 'params': {'hidden_units': [30, 30], 'activation': 'relu', 'use_batch_norm': False, 'dropout_rate': None, 'use_dense': False}}, 'gamma': 0.95, 'generated_maxlen': 100000, 'learning_rate': 0.0001, 'n_critics': 1, 'n_frames': 1, 'n_steps': 1, 'optim_factory': {'optim_cls': 'Adam', 'betas': (0.9, 0.999), 'eps': 1e-08, 'weight_decay': 0, 'amsgrad': False}, 'q_func_factory': {'type': 'mean', 'params': {'share_encoder': False}}, 'real_ratio': 1.0, 'reward_scaler': None, 'scaler': {'type': 'min_max', 'params': {'maximum': array([6.00000000e+00, 3.00000000e+03, 9.99890463e-01, 7.80000000e+04,\n",
      "       1.00000000e+00, 2.30000000e+01, 9.99997320e+00]), 'minimum': array([0.00000000e+00, 1.00000000e+00, 0.00000000e+00, 0.00000000e+00,\n",
      "       0.00000000e+00, 0.00000000e+00, 2.65629264e-05])}}, 'target_update_interval': 100, 'use_gpu': None, 'algorithm': 'FQE', 'observation_shape': (7,), 'action_size': 1}\n"
     ]
    },
    {
     "data": {
      "application/vnd.jupyter.widget-view+json": {
       "model_id": "b184b5b895e342e2b2432dade4866c59",
       "version_major": 2,
       "version_minor": 0
      },
      "text/plain": [
       "Epoch 1/1:   0%|          | 0/1792 [00:00<?, ?it/s]"
      ]
     },
     "metadata": {},
     "output_type": "display_data"
    },
    {
     "name": "stdout",
     "output_type": "stream",
     "text": [
      "2023-03-16 20:18.07 [info     ] FQE_20230316201804: epoch=1 step=1792 epoch=1 metrics={'time_sample_batch': 0.0001165047287940979, 'time_algorithm_update': 0.0011694950184651784, 'loss': 2830.6929244228772, 'time_step': 0.0013565011322498322} step=1792\n",
      "2023-03-16 20:18.07 [info     ] Model parameters are saved to d3rlpy_logs/FQE_20230316201804/model_1792.pt\n"
     ]
    },
    {
     "data": {
      "application/vnd.jupyter.widget-view+json": {
       "model_id": "846ed36b32554cf7be15dee2058dc452",
       "version_major": 2,
       "version_minor": 0
      },
      "text/plain": [
       "[fit MWL model]:   0%|          | 0/1 [00:00<?, ?it/s]"
      ]
     },
     "metadata": {},
     "output_type": "display_data"
    },
    {
     "data": {
      "application/vnd.jupyter.widget-view+json": {
       "model_id": "ea33eaa8e2a7443097e6087b2e594c7d",
       "version_major": 2,
       "version_minor": 0
      },
      "text/plain": [
       "[fitting_weight_function]:   0%|          | 0/100 [00:00<?, ?it/s]"
      ]
     },
     "metadata": {},
     "output_type": "display_data"
    },
    {
     "data": {
      "application/vnd.jupyter.widget-view+json": {
       "model_id": "a4e20a4651fe4c52b87b48217db59237",
       "version_major": 2,
       "version_minor": 0
      },
      "text/plain": [
       "[fitting_weight_function]:   0%|          | 0/100 [00:00<?, ?it/s]"
      ]
     },
     "metadata": {},
     "output_type": "display_data"
    },
    {
     "data": {
      "application/vnd.jupyter.widget-view+json": {
       "model_id": "5848840bdbf24083b0e86ba57ace9c3f",
       "version_major": 2,
       "version_minor": 0
      },
      "text/plain": [
       "[collect input data: eval_policy]:   0%|          | 0/1 [00:00<?, ?it/s]"
      ]
     },
     "metadata": {},
     "output_type": "display_data"
    },
    {
     "data": {
      "application/vnd.jupyter.widget-view+json": {
       "model_id": "df721f686b6d49d7a8188443d190b31d",
       "version_major": 2,
       "version_minor": 0
      },
      "text/plain": [
       "[calculate on-policy policy value]:   0%|          | 0/100 [00:00<?, ?it/s]"
      ]
     },
     "metadata": {},
     "output_type": "display_data"
    },
    {
     "data": {
      "application/vnd.jupyter.widget-view+json": {
       "model_id": "c23041c59cae4c2e8cd400bf91595344",
       "version_major": 2,
       "version_minor": 0
      },
      "text/plain": [
       "[obtain_trajectories]:   0%|          | 0/25600 [00:00<?, ?it/s]"
      ]
     },
     "metadata": {},
     "output_type": "display_data"
    },
    {
     "data": {
      "application/vnd.jupyter.widget-view+json": {
       "model_id": "78286c53af914dd5ba3e21038e25d03f",
       "version_major": 2,
       "version_minor": 0
      },
      "text/plain": [
       "[obtain_trajectories]:   0%|          | 0/25600 [00:00<?, ?it/s]"
      ]
     },
     "metadata": {},
     "output_type": "display_data"
    },
    {
     "data": {
      "application/vnd.jupyter.widget-view+json": {
       "model_id": "2abb30cc3cdf47ea847d07acb34e4370",
       "version_major": 2,
       "version_minor": 0
      },
      "text/plain": [
       "[fit FQE model]:   0%|          | 0/1 [00:00<?, ?it/s]"
      ]
     },
     "metadata": {},
     "output_type": "display_data"
    },
    {
     "name": "stdout",
     "output_type": "stream",
     "text": [
      "2023-03-16 20:24.49 [debug    ] RoundIterator is selected.\n",
      "2023-03-16 20:24.49 [info     ] Directory is created at d3rlpy_logs/FQE_20230316202449\n",
      "2023-03-16 20:24.49 [debug    ] Fitting scaler...              scaler=min_max\n",
      "2023-03-16 20:24.49 [debug    ] Fitting action scaler...       action_scaler=min_max\n",
      "2023-03-16 20:24.49 [debug    ] Building models...\n",
      "2023-03-16 20:24.49 [debug    ] Models have been built.\n",
      "2023-03-16 20:24.49 [info     ] Parameters are saved to d3rlpy_logs/FQE_20230316202449/params.json params={'action_scaler': {'type': 'min_max', 'params': {'minimum': array([0.1]), 'maximum': array([10.])}}, 'batch_size': 100, 'encoder_factory': {'type': 'vector', 'params': {'hidden_units': [30, 30], 'activation': 'relu', 'use_batch_norm': False, 'dropout_rate': None, 'use_dense': False}}, 'gamma': 0.95, 'generated_maxlen': 100000, 'learning_rate': 0.0001, 'n_critics': 1, 'n_frames': 1, 'n_steps': 1, 'optim_factory': {'optim_cls': 'Adam', 'betas': (0.9, 0.999), 'eps': 1e-08, 'weight_decay': 0, 'amsgrad': False}, 'q_func_factory': {'type': 'mean', 'params': {'share_encoder': False}}, 'real_ratio': 1.0, 'reward_scaler': None, 'scaler': {'type': 'min_max', 'params': {'maximum': array([6.00000000e+00, 3.00000000e+03, 9.99974188e-01, 7.30000000e+04,\n",
      "       1.00000000e+00, 2.30000000e+01, 1.19544668e+01]), 'minimum': array([0.00000000e+00, 1.00000000e+00, 0.00000000e+00, 0.00000000e+00,\n",
      "       0.00000000e+00, 0.00000000e+00, 4.34848359e-05])}}, 'target_update_interval': 100, 'use_gpu': None, 'algorithm': 'FQE', 'observation_shape': (7,), 'action_size': 1}\n"
     ]
    },
    {
     "data": {
      "application/vnd.jupyter.widget-view+json": {
       "model_id": "a8698044d44c48b2bd17bb4110d56091",
       "version_major": 2,
       "version_minor": 0
      },
      "text/plain": [
       "Epoch 1/1:   0%|          | 0/1792 [00:00<?, ?it/s]"
      ]
     },
     "metadata": {},
     "output_type": "display_data"
    },
    {
     "name": "stdout",
     "output_type": "stream",
     "text": [
      "2023-03-16 20:24.51 [info     ] FQE_20230316202449: epoch=1 step=1792 epoch=1 metrics={'time_sample_batch': 0.0001193112028496606, 'time_algorithm_update': 0.0012269613466092519, 'loss': 2043.8557303063571, 'time_step': 0.0014211743005684444} step=1792\n",
      "2023-03-16 20:24.51 [info     ] Model parameters are saved to d3rlpy_logs/FQE_20230316202449/model_1792.pt\n"
     ]
    },
    {
     "data": {
      "application/vnd.jupyter.widget-view+json": {
       "model_id": "3ad1cd77ec4f49219b832b099384a6be",
       "version_major": 2,
       "version_minor": 0
      },
      "text/plain": [
       "[fit MWL model]:   0%|          | 0/1 [00:00<?, ?it/s]"
      ]
     },
     "metadata": {},
     "output_type": "display_data"
    },
    {
     "data": {
      "application/vnd.jupyter.widget-view+json": {
       "model_id": "712cbd9c667844b1aa862aad31efbafc",
       "version_major": 2,
       "version_minor": 0
      },
      "text/plain": [
       "[fitting_weight_function]:   0%|          | 0/100 [00:00<?, ?it/s]"
      ]
     },
     "metadata": {},
     "output_type": "display_data"
    },
    {
     "data": {
      "application/vnd.jupyter.widget-view+json": {
       "model_id": "be76fad0ea2e4310ad51bf8dfcb0f27b",
       "version_major": 2,
       "version_minor": 0
      },
      "text/plain": [
       "[fitting_weight_function]:   0%|          | 0/100 [00:00<?, ?it/s]"
      ]
     },
     "metadata": {},
     "output_type": "display_data"
    },
    {
     "data": {
      "application/vnd.jupyter.widget-view+json": {
       "model_id": "bbd80afb378d4b96a4c1be69c70dfd84",
       "version_major": 2,
       "version_minor": 0
      },
      "text/plain": [
       "[collect input data: eval_policy]:   0%|          | 0/1 [00:00<?, ?it/s]"
      ]
     },
     "metadata": {},
     "output_type": "display_data"
    },
    {
     "data": {
      "application/vnd.jupyter.widget-view+json": {
       "model_id": "eec704169e574aaf9c0731469eb5da50",
       "version_major": 2,
       "version_minor": 0
      },
      "text/plain": [
       "[calculate on-policy policy value]:   0%|          | 0/100 [00:00<?, ?it/s]"
      ]
     },
     "metadata": {},
     "output_type": "display_data"
    },
    {
     "data": {
      "application/vnd.jupyter.widget-view+json": {
       "model_id": "fd5b0b83150f47239a487068c3cc161c",
       "version_major": 2,
       "version_minor": 0
      },
      "text/plain": [
       "[obtain_trajectories]:   0%|          | 0/25600 [00:00<?, ?it/s]"
      ]
     },
     "metadata": {},
     "output_type": "display_data"
    },
    {
     "data": {
      "application/vnd.jupyter.widget-view+json": {
       "model_id": "a222693cd59b4b789db1f00b556b0cd3",
       "version_major": 2,
       "version_minor": 0
      },
      "text/plain": [
       "[obtain_trajectories]:   0%|          | 0/25600 [00:00<?, ?it/s]"
      ]
     },
     "metadata": {},
     "output_type": "display_data"
    },
    {
     "data": {
      "application/vnd.jupyter.widget-view+json": {
       "model_id": "2432e8171ee34cd3ad3b4fab0145a0c9",
       "version_major": 2,
       "version_minor": 0
      },
      "text/plain": [
       "[fit FQE model]:   0%|          | 0/1 [00:00<?, ?it/s]"
      ]
     },
     "metadata": {},
     "output_type": "display_data"
    },
    {
     "name": "stdout",
     "output_type": "stream",
     "text": [
      "2023-03-16 20:32.38 [debug    ] RoundIterator is selected.\n",
      "2023-03-16 20:32.38 [info     ] Directory is created at d3rlpy_logs/FQE_20230316203238\n",
      "2023-03-16 20:32.38 [debug    ] Fitting scaler...              scaler=min_max\n",
      "2023-03-16 20:32.38 [debug    ] Fitting action scaler...       action_scaler=min_max\n",
      "2023-03-16 20:32.38 [debug    ] Building models...\n",
      "2023-03-16 20:32.38 [debug    ] Models have been built.\n",
      "2023-03-16 20:32.38 [info     ] Parameters are saved to d3rlpy_logs/FQE_20230316203238/params.json params={'action_scaler': {'type': 'min_max', 'params': {'minimum': array([0.1]), 'maximum': array([10.])}}, 'batch_size': 100, 'encoder_factory': {'type': 'vector', 'params': {'hidden_units': [30, 30], 'activation': 'relu', 'use_batch_norm': False, 'dropout_rate': None, 'use_dense': False}}, 'gamma': 0.95, 'generated_maxlen': 100000, 'learning_rate': 0.0001, 'n_critics': 1, 'n_frames': 1, 'n_steps': 1, 'optim_factory': {'optim_cls': 'Adam', 'betas': (0.9, 0.999), 'eps': 1e-08, 'weight_decay': 0, 'amsgrad': False}, 'q_func_factory': {'type': 'mean', 'params': {'share_encoder': False}}, 'real_ratio': 1.0, 'reward_scaler': None, 'scaler': {'type': 'min_max', 'params': {'maximum': array([6.00000000e+00, 3.00000000e+03, 9.99974210e-01, 6.60000000e+04,\n",
      "       1.00000000e+00, 2.20000000e+01, 1.23739824e+01]), 'minimum': array([0.00000000e+00, 1.00000000e+00, 0.00000000e+00, 0.00000000e+00,\n",
      "       0.00000000e+00, 0.00000000e+00, 8.92657913e-05])}}, 'target_update_interval': 100, 'use_gpu': None, 'algorithm': 'FQE', 'observation_shape': (7,), 'action_size': 1}\n"
     ]
    },
    {
     "data": {
      "application/vnd.jupyter.widget-view+json": {
       "model_id": "2306b61f9cfa46019bee6bfde9b574e8",
       "version_major": 2,
       "version_minor": 0
      },
      "text/plain": [
       "Epoch 1/1:   0%|          | 0/1792 [00:00<?, ?it/s]"
      ]
     },
     "metadata": {},
     "output_type": "display_data"
    },
    {
     "name": "stdout",
     "output_type": "stream",
     "text": [
      "2023-03-16 20:32.40 [info     ] FQE_20230316203238: epoch=1 step=1792 epoch=1 metrics={'time_sample_batch': 0.0001185134585414614, 'time_algorithm_update': 0.0011658925297004835, 'loss': 2068.1974172831647, 'time_step': 0.0013504234541739737} step=1792\n",
      "2023-03-16 20:32.40 [info     ] Model parameters are saved to d3rlpy_logs/FQE_20230316203238/model_1792.pt\n"
     ]
    },
    {
     "data": {
      "application/vnd.jupyter.widget-view+json": {
       "model_id": "977401a10e9c47ecaf203ccc4677906a",
       "version_major": 2,
       "version_minor": 0
      },
      "text/plain": [
       "[fit MWL model]:   0%|          | 0/1 [00:00<?, ?it/s]"
      ]
     },
     "metadata": {},
     "output_type": "display_data"
    },
    {
     "data": {
      "application/vnd.jupyter.widget-view+json": {
       "model_id": "1fdce06be5d04f71a4548d2bcbff85d7",
       "version_major": 2,
       "version_minor": 0
      },
      "text/plain": [
       "[fitting_weight_function]:   0%|          | 0/100 [00:00<?, ?it/s]"
      ]
     },
     "metadata": {},
     "output_type": "display_data"
    },
    {
     "data": {
      "application/vnd.jupyter.widget-view+json": {
       "model_id": "02d8677e79c1411296c0d94084b1bd59",
       "version_major": 2,
       "version_minor": 0
      },
      "text/plain": [
       "[fitting_weight_function]:   0%|          | 0/100 [00:00<?, ?it/s]"
      ]
     },
     "metadata": {},
     "output_type": "display_data"
    },
    {
     "data": {
      "application/vnd.jupyter.widget-view+json": {
       "model_id": "53f7cc3317274d11b1582679411de0b3",
       "version_major": 2,
       "version_minor": 0
      },
      "text/plain": [
       "[collect input data: eval_policy]:   0%|          | 0/1 [00:00<?, ?it/s]"
      ]
     },
     "metadata": {},
     "output_type": "display_data"
    },
    {
     "data": {
      "application/vnd.jupyter.widget-view+json": {
       "model_id": "ea2bf09b7e22459ba99be0b74f0b4e96",
       "version_major": 2,
       "version_minor": 0
      },
      "text/plain": [
       "[calculate on-policy policy value]:   0%|          | 0/100 [00:00<?, ?it/s]"
      ]
     },
     "metadata": {},
     "output_type": "display_data"
    },
    {
     "data": {
      "application/vnd.jupyter.widget-view+json": {
       "model_id": "a19b10ce31e54e38a3d7181118ae004e",
       "version_major": 2,
       "version_minor": 0
      },
      "text/plain": [
       "[obtain_trajectories]:   0%|          | 0/25600 [00:00<?, ?it/s]"
      ]
     },
     "metadata": {},
     "output_type": "display_data"
    },
    {
     "data": {
      "application/vnd.jupyter.widget-view+json": {
       "model_id": "ad5eeb8d0f3f4bc0a24241829a603b82",
       "version_major": 2,
       "version_minor": 0
      },
      "text/plain": [
       "[obtain_trajectories]:   0%|          | 0/25600 [00:00<?, ?it/s]"
      ]
     },
     "metadata": {},
     "output_type": "display_data"
    },
    {
     "data": {
      "application/vnd.jupyter.widget-view+json": {
       "model_id": "449d15cbae704d57907781cd32ffb647",
       "version_major": 2,
       "version_minor": 0
      },
      "text/plain": [
       "[fit FQE model]:   0%|          | 0/1 [00:00<?, ?it/s]"
      ]
     },
     "metadata": {},
     "output_type": "display_data"
    },
    {
     "name": "stdout",
     "output_type": "stream",
     "text": [
      "2023-03-16 20:40.01 [debug    ] RoundIterator is selected.\n",
      "2023-03-16 20:40.01 [info     ] Directory is created at d3rlpy_logs/FQE_20230316204001\n",
      "2023-03-16 20:40.01 [debug    ] Fitting scaler...              scaler=min_max\n",
      "2023-03-16 20:40.01 [debug    ] Fitting action scaler...       action_scaler=min_max\n",
      "2023-03-16 20:40.01 [debug    ] Building models...\n",
      "2023-03-16 20:40.01 [debug    ] Models have been built.\n",
      "2023-03-16 20:40.01 [info     ] Parameters are saved to d3rlpy_logs/FQE_20230316204001/params.json params={'action_scaler': {'type': 'min_max', 'params': {'minimum': array([0.1]), 'maximum': array([10.])}}, 'batch_size': 100, 'encoder_factory': {'type': 'vector', 'params': {'hidden_units': [30, 30], 'activation': 'relu', 'use_batch_norm': False, 'dropout_rate': None, 'use_dense': False}}, 'gamma': 0.95, 'generated_maxlen': 100000, 'learning_rate': 0.0001, 'n_critics': 1, 'n_frames': 1, 'n_steps': 1, 'optim_factory': {'optim_cls': 'Adam', 'betas': (0.9, 0.999), 'eps': 1e-08, 'weight_decay': 0, 'amsgrad': False}, 'q_func_factory': {'type': 'mean', 'params': {'share_encoder': False}}, 'real_ratio': 1.0, 'reward_scaler': None, 'scaler': {'type': 'min_max', 'params': {'maximum': array([6.00000000e+00, 3.00000000e+03, 9.99988005e-01, 9.40000000e+04,\n",
      "       1.00000000e+00, 2.20000000e+01, 1.01481452e+01]), 'minimum': array([0.00000000e+00, 1.00000000e+00, 0.00000000e+00, 0.00000000e+00,\n",
      "       0.00000000e+00, 0.00000000e+00, 3.80895768e-06])}}, 'target_update_interval': 100, 'use_gpu': None, 'algorithm': 'FQE', 'observation_shape': (7,), 'action_size': 1}\n"
     ]
    },
    {
     "data": {
      "application/vnd.jupyter.widget-view+json": {
       "model_id": "95baf62b0ef841069a017f084746e02c",
       "version_major": 2,
       "version_minor": 0
      },
      "text/plain": [
       "Epoch 1/1:   0%|          | 0/1792 [00:00<?, ?it/s]"
      ]
     },
     "metadata": {},
     "output_type": "display_data"
    },
    {
     "name": "stdout",
     "output_type": "stream",
     "text": [
      "2023-03-16 20:40.04 [info     ] FQE_20230316204001: epoch=1 step=1792 epoch=1 metrics={'time_sample_batch': 0.00013571977615356445, 'time_algorithm_update': 0.0015129046514630318, 'loss': 4860.762717874189, 'time_step': 0.0017381655052304268} step=1792\n",
      "2023-03-16 20:40.04 [info     ] Model parameters are saved to d3rlpy_logs/FQE_20230316204001/model_1792.pt\n"
     ]
    },
    {
     "data": {
      "application/vnd.jupyter.widget-view+json": {
       "model_id": "5fa80303b5834937bf97f0c681f34e2e",
       "version_major": 2,
       "version_minor": 0
      },
      "text/plain": [
       "[fit MWL model]:   0%|          | 0/1 [00:00<?, ?it/s]"
      ]
     },
     "metadata": {},
     "output_type": "display_data"
    },
    {
     "data": {
      "application/vnd.jupyter.widget-view+json": {
       "model_id": "afa048a70ce04dd2b3e6173f78ae26e3",
       "version_major": 2,
       "version_minor": 0
      },
      "text/plain": [
       "[fitting_weight_function]:   0%|          | 0/100 [00:00<?, ?it/s]"
      ]
     },
     "metadata": {},
     "output_type": "display_data"
    },
    {
     "data": {
      "application/vnd.jupyter.widget-view+json": {
       "model_id": "801c2d34968f486a96586a7e141a7589",
       "version_major": 2,
       "version_minor": 0
      },
      "text/plain": [
       "[fitting_weight_function]:   0%|          | 0/100 [00:00<?, ?it/s]"
      ]
     },
     "metadata": {},
     "output_type": "display_data"
    },
    {
     "data": {
      "application/vnd.jupyter.widget-view+json": {
       "model_id": "4227516fb0a0457088dfed54e94dd260",
       "version_major": 2,
       "version_minor": 0
      },
      "text/plain": [
       "[collect input data: eval_policy]:   0%|          | 0/1 [00:00<?, ?it/s]"
      ]
     },
     "metadata": {},
     "output_type": "display_data"
    },
    {
     "data": {
      "application/vnd.jupyter.widget-view+json": {
       "model_id": "e76a4fc79dec49f9b4f8ad20f8faa06a",
       "version_major": 2,
       "version_minor": 0
      },
      "text/plain": [
       "[calculate on-policy policy value]:   0%|          | 0/100 [00:00<?, ?it/s]"
      ]
     },
     "metadata": {},
     "output_type": "display_data"
    },
    {
     "data": {
      "application/vnd.jupyter.widget-view+json": {
       "model_id": "e5eaf16c0a384f6d8424eef391fc44cb",
       "version_major": 2,
       "version_minor": 0
      },
      "text/plain": [
       "[obtain_trajectories]:   0%|          | 0/25600 [00:00<?, ?it/s]"
      ]
     },
     "metadata": {},
     "output_type": "display_data"
    },
    {
     "data": {
      "application/vnd.jupyter.widget-view+json": {
       "model_id": "47ed83d641ad4a4ea4315d9e4135b8c8",
       "version_major": 2,
       "version_minor": 0
      },
      "text/plain": [
       "[obtain_trajectories]:   0%|          | 0/25600 [00:00<?, ?it/s]"
      ]
     },
     "metadata": {},
     "output_type": "display_data"
    },
    {
     "data": {
      "application/vnd.jupyter.widget-view+json": {
       "model_id": "1063c2304a894beb887794a15eea7ced",
       "version_major": 2,
       "version_minor": 0
      },
      "text/plain": [
       "[fit FQE model]:   0%|          | 0/1 [00:00<?, ?it/s]"
      ]
     },
     "metadata": {},
     "output_type": "display_data"
    },
    {
     "name": "stdout",
     "output_type": "stream",
     "text": [
      "2023-03-16 20:47.37 [debug    ] RoundIterator is selected.\n",
      "2023-03-16 20:47.37 [info     ] Directory is created at d3rlpy_logs/FQE_20230316204737\n",
      "2023-03-16 20:47.37 [debug    ] Fitting scaler...              scaler=min_max\n",
      "2023-03-16 20:47.37 [debug    ] Fitting action scaler...       action_scaler=min_max\n",
      "2023-03-16 20:47.37 [debug    ] Building models...\n",
      "2023-03-16 20:47.38 [debug    ] Models have been built.\n",
      "2023-03-16 20:47.38 [info     ] Parameters are saved to d3rlpy_logs/FQE_20230316204737/params.json params={'action_scaler': {'type': 'min_max', 'params': {'minimum': array([0.1]), 'maximum': array([10.])}}, 'batch_size': 100, 'encoder_factory': {'type': 'vector', 'params': {'hidden_units': [30, 30], 'activation': 'relu', 'use_batch_norm': False, 'dropout_rate': None, 'use_dense': False}}, 'gamma': 0.95, 'generated_maxlen': 100000, 'learning_rate': 0.0001, 'n_critics': 1, 'n_frames': 1, 'n_steps': 1, 'optim_factory': {'optim_cls': 'Adam', 'betas': (0.9, 0.999), 'eps': 1e-08, 'weight_decay': 0, 'amsgrad': False}, 'q_func_factory': {'type': 'mean', 'params': {'share_encoder': False}}, 'real_ratio': 1.0, 'reward_scaler': None, 'scaler': {'type': 'min_max', 'params': {'maximum': array([6.00000000e+00, 3.00000000e+03, 9.99987158e-01, 8.50000000e+04,\n",
      "       1.00000000e+00, 2.40000000e+01, 1.25605444e+01]), 'minimum': array([0.00000000e+00, 1.00000000e+00, 0.00000000e+00, 0.00000000e+00,\n",
      "       0.00000000e+00, 0.00000000e+00, 1.20403271e-05])}}, 'target_update_interval': 100, 'use_gpu': None, 'algorithm': 'FQE', 'observation_shape': (7,), 'action_size': 1}\n"
     ]
    },
    {
     "data": {
      "application/vnd.jupyter.widget-view+json": {
       "model_id": "4ed0d0abced1497bb26937699d170f70",
       "version_major": 2,
       "version_minor": 0
      },
      "text/plain": [
       "Epoch 1/1:   0%|          | 0/1792 [00:00<?, ?it/s]"
      ]
     },
     "metadata": {},
     "output_type": "display_data"
    },
    {
     "name": "stdout",
     "output_type": "stream",
     "text": [
      "2023-03-16 20:47.40 [info     ] FQE_20230316204737: epoch=1 step=1792 epoch=1 metrics={'time_sample_batch': 0.00012156766440187181, 'time_algorithm_update': 0.0012269908828394754, 'loss': 2388.431832331366, 'time_step': 0.0014208337025982992} step=1792\n",
      "2023-03-16 20:47.40 [info     ] Model parameters are saved to d3rlpy_logs/FQE_20230316204737/model_1792.pt\n"
     ]
    },
    {
     "data": {
      "application/vnd.jupyter.widget-view+json": {
       "model_id": "16a7494c4a9a4e9fa49b33d7b8a3fec4",
       "version_major": 2,
       "version_minor": 0
      },
      "text/plain": [
       "[fit MWL model]:   0%|          | 0/1 [00:00<?, ?it/s]"
      ]
     },
     "metadata": {},
     "output_type": "display_data"
    },
    {
     "data": {
      "application/vnd.jupyter.widget-view+json": {
       "model_id": "c0c1b3423fd24f8e961026fee6dcb128",
       "version_major": 2,
       "version_minor": 0
      },
      "text/plain": [
       "[fitting_weight_function]:   0%|          | 0/100 [00:00<?, ?it/s]"
      ]
     },
     "metadata": {},
     "output_type": "display_data"
    },
    {
     "data": {
      "application/vnd.jupyter.widget-view+json": {
       "model_id": "da9656a890854c3580798aada6cd3e18",
       "version_major": 2,
       "version_minor": 0
      },
      "text/plain": [
       "[fitting_weight_function]:   0%|          | 0/100 [00:00<?, ?it/s]"
      ]
     },
     "metadata": {},
     "output_type": "display_data"
    },
    {
     "data": {
      "application/vnd.jupyter.widget-view+json": {
       "model_id": "7cc99b2740de4730af37d155437f87bf",
       "version_major": 2,
       "version_minor": 0
      },
      "text/plain": [
       "[collect input data: eval_policy]:   0%|          | 0/1 [00:00<?, ?it/s]"
      ]
     },
     "metadata": {},
     "output_type": "display_data"
    },
    {
     "data": {
      "application/vnd.jupyter.widget-view+json": {
       "model_id": "d575081223d2478ca2281101d6c223a8",
       "version_major": 2,
       "version_minor": 0
      },
      "text/plain": [
       "[calculate on-policy policy value]:   0%|          | 0/100 [00:00<?, ?it/s]"
      ]
     },
     "metadata": {},
     "output_type": "display_data"
    },
    {
     "data": {
      "application/vnd.jupyter.widget-view+json": {
       "model_id": "b02c672e08cf49ed88da15603ae9e37c",
       "version_major": 2,
       "version_minor": 0
      },
      "text/plain": [
       "[obtain_trajectories]:   0%|          | 0/25600 [00:00<?, ?it/s]"
      ]
     },
     "metadata": {},
     "output_type": "display_data"
    },
    {
     "data": {
      "application/vnd.jupyter.widget-view+json": {
       "model_id": "6a8fc4a144b3437eae86c7e434a84bc5",
       "version_major": 2,
       "version_minor": 0
      },
      "text/plain": [
       "[obtain_trajectories]:   0%|          | 0/25600 [00:00<?, ?it/s]"
      ]
     },
     "metadata": {},
     "output_type": "display_data"
    },
    {
     "data": {
      "application/vnd.jupyter.widget-view+json": {
       "model_id": "9e3a6068d475411b86d46d2dd47e67b6",
       "version_major": 2,
       "version_minor": 0
      },
      "text/plain": [
       "[fit FQE model]:   0%|          | 0/1 [00:00<?, ?it/s]"
      ]
     },
     "metadata": {},
     "output_type": "display_data"
    },
    {
     "name": "stdout",
     "output_type": "stream",
     "text": [
      "2023-03-16 20:55.07 [debug    ] RoundIterator is selected.\n",
      "2023-03-16 20:55.07 [info     ] Directory is created at d3rlpy_logs/FQE_20230316205507\n",
      "2023-03-16 20:55.07 [debug    ] Fitting scaler...              scaler=min_max\n",
      "2023-03-16 20:55.07 [debug    ] Fitting action scaler...       action_scaler=min_max\n",
      "2023-03-16 20:55.07 [debug    ] Building models...\n",
      "2023-03-16 20:55.07 [debug    ] Models have been built.\n",
      "2023-03-16 20:55.07 [info     ] Parameters are saved to d3rlpy_logs/FQE_20230316205507/params.json params={'action_scaler': {'type': 'min_max', 'params': {'minimum': array([0.1]), 'maximum': array([10.])}}, 'batch_size': 100, 'encoder_factory': {'type': 'vector', 'params': {'hidden_units': [30, 30], 'activation': 'relu', 'use_batch_norm': False, 'dropout_rate': None, 'use_dense': False}}, 'gamma': 0.95, 'generated_maxlen': 100000, 'learning_rate': 0.0001, 'n_critics': 1, 'n_frames': 1, 'n_steps': 1, 'optim_factory': {'optim_cls': 'Adam', 'betas': (0.9, 0.999), 'eps': 1e-08, 'weight_decay': 0, 'amsgrad': False}, 'q_func_factory': {'type': 'mean', 'params': {'share_encoder': False}}, 'real_ratio': 1.0, 'reward_scaler': None, 'scaler': {'type': 'min_max', 'params': {'maximum': array([6.00000000e+00, 3.00000000e+03, 9.99989255e-01, 8.00000000e+04,\n",
      "       1.00000000e+00, 2.30000000e+01, 9.99999896e+00]), 'minimum': array([0.00000000e+00, 1.00000000e+00, 0.00000000e+00, 0.00000000e+00,\n",
      "       0.00000000e+00, 0.00000000e+00, 6.49832236e-06])}}, 'target_update_interval': 100, 'use_gpu': None, 'algorithm': 'FQE', 'observation_shape': (7,), 'action_size': 1}\n"
     ]
    },
    {
     "data": {
      "application/vnd.jupyter.widget-view+json": {
       "model_id": "c084cc3221f54e9e877e26fd97260926",
       "version_major": 2,
       "version_minor": 0
      },
      "text/plain": [
       "Epoch 1/1:   0%|          | 0/1792 [00:00<?, ?it/s]"
      ]
     },
     "metadata": {},
     "output_type": "display_data"
    },
    {
     "name": "stdout",
     "output_type": "stream",
     "text": [
      "2023-03-16 20:55.09 [info     ] FQE_20230316205507: epoch=1 step=1792 epoch=1 metrics={'time_sample_batch': 0.00012273421244961874, 'time_algorithm_update': 0.001255692115851811, 'loss': 802.4543931385768, 'time_step': 0.0014479715111000197} step=1792\n",
      "2023-03-16 20:55.09 [info     ] Model parameters are saved to d3rlpy_logs/FQE_20230316205507/model_1792.pt\n"
     ]
    },
    {
     "data": {
      "application/vnd.jupyter.widget-view+json": {
       "model_id": "a18a197dba78489ab3ac5bba61cb3a8b",
       "version_major": 2,
       "version_minor": 0
      },
      "text/plain": [
       "[fit MWL model]:   0%|          | 0/1 [00:00<?, ?it/s]"
      ]
     },
     "metadata": {},
     "output_type": "display_data"
    },
    {
     "data": {
      "application/vnd.jupyter.widget-view+json": {
       "model_id": "31b4ff8e835b471f83a702894e87a52a",
       "version_major": 2,
       "version_minor": 0
      },
      "text/plain": [
       "[fitting_weight_function]:   0%|          | 0/100 [00:00<?, ?it/s]"
      ]
     },
     "metadata": {},
     "output_type": "display_data"
    },
    {
     "data": {
      "application/vnd.jupyter.widget-view+json": {
       "model_id": "6ebe7c24cfef43c5855ff5ef81fa11b1",
       "version_major": 2,
       "version_minor": 0
      },
      "text/plain": [
       "[fitting_weight_function]:   0%|          | 0/100 [00:00<?, ?it/s]"
      ]
     },
     "metadata": {},
     "output_type": "display_data"
    },
    {
     "data": {
      "application/vnd.jupyter.widget-view+json": {
       "model_id": "0961b73c4e874b17b99f6c5f4d9bb5c5",
       "version_major": 2,
       "version_minor": 0
      },
      "text/plain": [
       "[collect input data: eval_policy]:   0%|          | 0/1 [00:00<?, ?it/s]"
      ]
     },
     "metadata": {},
     "output_type": "display_data"
    },
    {
     "data": {
      "application/vnd.jupyter.widget-view+json": {
       "model_id": "948a6140a943493985b3f2dec174bc2a",
       "version_major": 2,
       "version_minor": 0
      },
      "text/plain": [
       "[calculate on-policy policy value]:   0%|          | 0/100 [00:00<?, ?it/s]"
      ]
     },
     "metadata": {},
     "output_type": "display_data"
    },
    {
     "data": {
      "application/vnd.jupyter.widget-view+json": {
       "model_id": "5eaf76cbd1154bbabd93af1139903b87",
       "version_major": 2,
       "version_minor": 0
      },
      "text/plain": [
       "[obtain_trajectories]:   0%|          | 0/25600 [00:00<?, ?it/s]"
      ]
     },
     "metadata": {},
     "output_type": "display_data"
    },
    {
     "data": {
      "application/vnd.jupyter.widget-view+json": {
       "model_id": "9213a52be1b34643aabec777dc975d6b",
       "version_major": 2,
       "version_minor": 0
      },
      "text/plain": [
       "[obtain_trajectories]:   0%|          | 0/25600 [00:00<?, ?it/s]"
      ]
     },
     "metadata": {},
     "output_type": "display_data"
    },
    {
     "data": {
      "application/vnd.jupyter.widget-view+json": {
       "model_id": "3bb6b10785544699b12d9bac99388988",
       "version_major": 2,
       "version_minor": 0
      },
      "text/plain": [
       "[fit FQE model]:   0%|          | 0/1 [00:00<?, ?it/s]"
      ]
     },
     "metadata": {},
     "output_type": "display_data"
    },
    {
     "name": "stdout",
     "output_type": "stream",
     "text": [
      "2023-03-16 21:02.22 [debug    ] RoundIterator is selected.\n",
      "2023-03-16 21:02.22 [info     ] Directory is created at d3rlpy_logs/FQE_20230316210222\n",
      "2023-03-16 21:02.22 [debug    ] Fitting scaler...              scaler=min_max\n",
      "2023-03-16 21:02.22 [debug    ] Fitting action scaler...       action_scaler=min_max\n",
      "2023-03-16 21:02.22 [debug    ] Building models...\n",
      "2023-03-16 21:02.22 [debug    ] Models have been built.\n",
      "2023-03-16 21:02.22 [info     ] Parameters are saved to d3rlpy_logs/FQE_20230316210222/params.json params={'action_scaler': {'type': 'min_max', 'params': {'minimum': array([0.1]), 'maximum': array([10.])}}, 'batch_size': 100, 'encoder_factory': {'type': 'vector', 'params': {'hidden_units': [30, 30], 'activation': 'relu', 'use_batch_norm': False, 'dropout_rate': None, 'use_dense': False}}, 'gamma': 0.95, 'generated_maxlen': 100000, 'learning_rate': 0.0001, 'n_critics': 1, 'n_frames': 1, 'n_steps': 1, 'optim_factory': {'optim_cls': 'Adam', 'betas': (0.9, 0.999), 'eps': 1e-08, 'weight_decay': 0, 'amsgrad': False}, 'q_func_factory': {'type': 'mean', 'params': {'share_encoder': False}}, 'real_ratio': 1.0, 'reward_scaler': None, 'scaler': {'type': 'min_max', 'params': {'maximum': array([6.00000000e+00, 3.00000000e+03, 9.99961594e-01, 8.00000000e+04,\n",
      "       1.00000000e+00, 2.10000000e+01, 9.99997074e+00]), 'minimum': array([0.00000000e+00, 1.00000000e+00, 0.00000000e+00, 0.00000000e+00,\n",
      "       0.00000000e+00, 0.00000000e+00, 2.48363162e-05])}}, 'target_update_interval': 100, 'use_gpu': None, 'algorithm': 'FQE', 'observation_shape': (7,), 'action_size': 1}\n"
     ]
    },
    {
     "data": {
      "application/vnd.jupyter.widget-view+json": {
       "model_id": "89b01c3e2c6f41ccbe99ad8e9228d690",
       "version_major": 2,
       "version_minor": 0
      },
      "text/plain": [
       "Epoch 1/1:   0%|          | 0/1792 [00:00<?, ?it/s]"
      ]
     },
     "metadata": {},
     "output_type": "display_data"
    },
    {
     "name": "stdout",
     "output_type": "stream",
     "text": [
      "2023-03-16 21:02.24 [info     ] FQE_20230316210222: epoch=1 step=1792 epoch=1 metrics={'time_sample_batch': 0.00012410152703523636, 'time_algorithm_update': 0.0012718969956040382, 'loss': 3548.5619011627778, 'time_step': 0.0014684202947786876} step=1792\n",
      "2023-03-16 21:02.24 [info     ] Model parameters are saved to d3rlpy_logs/FQE_20230316210222/model_1792.pt\n"
     ]
    },
    {
     "data": {
      "application/vnd.jupyter.widget-view+json": {
       "model_id": "d66aba1d9b274abca79a8792535c420d",
       "version_major": 2,
       "version_minor": 0
      },
      "text/plain": [
       "[fit MWL model]:   0%|          | 0/1 [00:00<?, ?it/s]"
      ]
     },
     "metadata": {},
     "output_type": "display_data"
    },
    {
     "data": {
      "application/vnd.jupyter.widget-view+json": {
       "model_id": "d044da53b5f94bcabc16d6ebefd84504",
       "version_major": 2,
       "version_minor": 0
      },
      "text/plain": [
       "[fitting_weight_function]:   0%|          | 0/100 [00:00<?, ?it/s]"
      ]
     },
     "metadata": {},
     "output_type": "display_data"
    },
    {
     "data": {
      "application/vnd.jupyter.widget-view+json": {
       "model_id": "d5bcc06cfaba40139d695dae22047a1d",
       "version_major": 2,
       "version_minor": 0
      },
      "text/plain": [
       "[fitting_weight_function]:   0%|          | 0/100 [00:00<?, ?it/s]"
      ]
     },
     "metadata": {},
     "output_type": "display_data"
    },
    {
     "data": {
      "application/vnd.jupyter.widget-view+json": {
       "model_id": "e0134fba60d044babde19273f4b5a36e",
       "version_major": 2,
       "version_minor": 0
      },
      "text/plain": [
       "[collect input data: eval_policy]:   0%|          | 0/1 [00:00<?, ?it/s]"
      ]
     },
     "metadata": {},
     "output_type": "display_data"
    },
    {
     "data": {
      "application/vnd.jupyter.widget-view+json": {
       "model_id": "4932b5dc0bfd43eab743398c12048fc0",
       "version_major": 2,
       "version_minor": 0
      },
      "text/plain": [
       "[calculate on-policy policy value]:   0%|          | 0/100 [00:00<?, ?it/s]"
      ]
     },
     "metadata": {},
     "output_type": "display_data"
    },
    {
     "data": {
      "application/vnd.jupyter.widget-view+json": {
       "model_id": "f6fe1245f22f4845a49777ffbad6aaa3",
       "version_major": 2,
       "version_minor": 0
      },
      "text/plain": [
       "[obtain_trajectories]:   0%|          | 0/25600 [00:00<?, ?it/s]"
      ]
     },
     "metadata": {},
     "output_type": "display_data"
    },
    {
     "data": {
      "application/vnd.jupyter.widget-view+json": {
       "model_id": "cec4017efe2d4171909965b44cd4e1cc",
       "version_major": 2,
       "version_minor": 0
      },
      "text/plain": [
       "[obtain_trajectories]:   0%|          | 0/25600 [00:00<?, ?it/s]"
      ]
     },
     "metadata": {},
     "output_type": "display_data"
    },
    {
     "data": {
      "application/vnd.jupyter.widget-view+json": {
       "model_id": "7ded2cca94ea41979282094ab5bb6895",
       "version_major": 2,
       "version_minor": 0
      },
      "text/plain": [
       "[fit FQE model]:   0%|          | 0/1 [00:00<?, ?it/s]"
      ]
     },
     "metadata": {},
     "output_type": "display_data"
    },
    {
     "name": "stdout",
     "output_type": "stream",
     "text": [
      "2023-03-16 21:09.59 [debug    ] RoundIterator is selected.\n",
      "2023-03-16 21:09.59 [info     ] Directory is created at d3rlpy_logs/FQE_20230316210959\n",
      "2023-03-16 21:09.59 [debug    ] Fitting scaler...              scaler=min_max\n",
      "2023-03-16 21:09.59 [debug    ] Fitting action scaler...       action_scaler=min_max\n",
      "2023-03-16 21:09.59 [debug    ] Building models...\n",
      "2023-03-16 21:09.59 [debug    ] Models have been built.\n",
      "2023-03-16 21:09.59 [info     ] Parameters are saved to d3rlpy_logs/FQE_20230316210959/params.json params={'action_scaler': {'type': 'min_max', 'params': {'minimum': array([0.1]), 'maximum': array([10.])}}, 'batch_size': 100, 'encoder_factory': {'type': 'vector', 'params': {'hidden_units': [30, 30], 'activation': 'relu', 'use_batch_norm': False, 'dropout_rate': None, 'use_dense': False}}, 'gamma': 0.95, 'generated_maxlen': 100000, 'learning_rate': 0.0001, 'n_critics': 1, 'n_frames': 1, 'n_steps': 1, 'optim_factory': {'optim_cls': 'Adam', 'betas': (0.9, 0.999), 'eps': 1e-08, 'weight_decay': 0, 'amsgrad': False}, 'q_func_factory': {'type': 'mean', 'params': {'share_encoder': False}}, 'real_ratio': 1.0, 'reward_scaler': None, 'scaler': {'type': 'min_max', 'params': {'maximum': array([6.00000000e+00, 3.00000000e+03, 9.99984396e-01, 7.80000000e+04,\n",
      "       1.00000000e+00, 2.00000000e+01, 9.99999480e+00]), 'minimum': array([0.00000000e+00, 1.00000000e+00, 0.00000000e+00, 0.00000000e+00,\n",
      "       0.00000000e+00, 0.00000000e+00, 4.08335682e-08])}}, 'target_update_interval': 100, 'use_gpu': None, 'algorithm': 'FQE', 'observation_shape': (7,), 'action_size': 1}\n"
     ]
    },
    {
     "data": {
      "application/vnd.jupyter.widget-view+json": {
       "model_id": "050722b659b441f3a6d01df21d461aa0",
       "version_major": 2,
       "version_minor": 0
      },
      "text/plain": [
       "Epoch 1/1:   0%|          | 0/1792 [00:00<?, ?it/s]"
      ]
     },
     "metadata": {},
     "output_type": "display_data"
    },
    {
     "name": "stdout",
     "output_type": "stream",
     "text": [
      "2023-03-16 21:10.02 [info     ] FQE_20230316210959: epoch=1 step=1792 epoch=1 metrics={'time_sample_batch': 0.00013424522642578398, 'time_algorithm_update': 0.0015197015766586577, 'loss': 855.1045772736626, 'time_step': 0.0017460894637874194} step=1792\n",
      "2023-03-16 21:10.02 [info     ] Model parameters are saved to d3rlpy_logs/FQE_20230316210959/model_1792.pt\n"
     ]
    },
    {
     "data": {
      "application/vnd.jupyter.widget-view+json": {
       "model_id": "64da1cc906b7449d8a399e8d3c687ee9",
       "version_major": 2,
       "version_minor": 0
      },
      "text/plain": [
       "[fit MWL model]:   0%|          | 0/1 [00:00<?, ?it/s]"
      ]
     },
     "metadata": {},
     "output_type": "display_data"
    },
    {
     "data": {
      "application/vnd.jupyter.widget-view+json": {
       "model_id": "cb0aaa84d6f04dc29fa2fd4b407c55f5",
       "version_major": 2,
       "version_minor": 0
      },
      "text/plain": [
       "[fitting_weight_function]:   0%|          | 0/100 [00:00<?, ?it/s]"
      ]
     },
     "metadata": {},
     "output_type": "display_data"
    },
    {
     "data": {
      "application/vnd.jupyter.widget-view+json": {
       "model_id": "bd30db517f8f42dcb2f3f04890301282",
       "version_major": 2,
       "version_minor": 0
      },
      "text/plain": [
       "[fitting_weight_function]:   0%|          | 0/100 [00:00<?, ?it/s]"
      ]
     },
     "metadata": {},
     "output_type": "display_data"
    },
    {
     "data": {
      "application/vnd.jupyter.widget-view+json": {
       "model_id": "4a5051e1e9754ef7899567b26a3550a5",
       "version_major": 2,
       "version_minor": 0
      },
      "text/plain": [
       "[collect input data: eval_policy]:   0%|          | 0/1 [00:00<?, ?it/s]"
      ]
     },
     "metadata": {},
     "output_type": "display_data"
    },
    {
     "data": {
      "application/vnd.jupyter.widget-view+json": {
       "model_id": "03c1bdfd820a450ca4a76313fd51efb5",
       "version_major": 2,
       "version_minor": 0
      },
      "text/plain": [
       "[calculate on-policy policy value]:   0%|          | 0/100 [00:00<?, ?it/s]"
      ]
     },
     "metadata": {},
     "output_type": "display_data"
    },
    {
     "data": {
      "application/vnd.jupyter.widget-view+json": {
       "model_id": "31e6956c13ea4d2b83a22eb0ccdfb2b9",
       "version_major": 2,
       "version_minor": 0
      },
      "text/plain": [
       "[obtain_trajectories]:   0%|          | 0/25600 [00:00<?, ?it/s]"
      ]
     },
     "metadata": {},
     "output_type": "display_data"
    },
    {
     "data": {
      "application/vnd.jupyter.widget-view+json": {
       "model_id": "f95c96ee23284936a68c367ff44bf2d1",
       "version_major": 2,
       "version_minor": 0
      },
      "text/plain": [
       "[obtain_trajectories]:   0%|          | 0/25600 [00:00<?, ?it/s]"
      ]
     },
     "metadata": {},
     "output_type": "display_data"
    },
    {
     "data": {
      "application/vnd.jupyter.widget-view+json": {
       "model_id": "9ec94e59bddb4625a4c1400b37576d04",
       "version_major": 2,
       "version_minor": 0
      },
      "text/plain": [
       "[fit FQE model]:   0%|          | 0/1 [00:00<?, ?it/s]"
      ]
     },
     "metadata": {},
     "output_type": "display_data"
    },
    {
     "name": "stdout",
     "output_type": "stream",
     "text": [
      "2023-03-16 21:17.11 [debug    ] RoundIterator is selected.\n",
      "2023-03-16 21:17.11 [info     ] Directory is created at d3rlpy_logs/FQE_20230316211711\n",
      "2023-03-16 21:17.11 [debug    ] Fitting scaler...              scaler=min_max\n",
      "2023-03-16 21:17.11 [debug    ] Fitting action scaler...       action_scaler=min_max\n",
      "2023-03-16 21:17.11 [debug    ] Building models...\n",
      "2023-03-16 21:17.11 [debug    ] Models have been built.\n",
      "2023-03-16 21:17.11 [info     ] Parameters are saved to d3rlpy_logs/FQE_20230316211711/params.json params={'action_scaler': {'type': 'min_max', 'params': {'minimum': array([0.1]), 'maximum': array([10.])}}, 'batch_size': 100, 'encoder_factory': {'type': 'vector', 'params': {'hidden_units': [30, 30], 'activation': 'relu', 'use_batch_norm': False, 'dropout_rate': None, 'use_dense': False}}, 'gamma': 0.95, 'generated_maxlen': 100000, 'learning_rate': 0.0001, 'n_critics': 1, 'n_frames': 1, 'n_steps': 1, 'optim_factory': {'optim_cls': 'Adam', 'betas': (0.9, 0.999), 'eps': 1e-08, 'weight_decay': 0, 'amsgrad': False}, 'q_func_factory': {'type': 'mean', 'params': {'share_encoder': False}}, 'real_ratio': 1.0, 'reward_scaler': None, 'scaler': {'type': 'min_max', 'params': {'maximum': array([6.00000000e+00, 3.00000000e+03, 9.99995558e-01, 8.00000000e+04,\n",
      "       1.00000000e+00, 2.40000000e+01, 9.99997693e+00]), 'minimum': array([0.00000000e+00, 1.00000000e+00, 0.00000000e+00, 0.00000000e+00,\n",
      "       0.00000000e+00, 0.00000000e+00, 5.60996971e-05])}}, 'target_update_interval': 100, 'use_gpu': None, 'algorithm': 'FQE', 'observation_shape': (7,), 'action_size': 1}\n"
     ]
    },
    {
     "data": {
      "application/vnd.jupyter.widget-view+json": {
       "model_id": "ef76800a97734f3695ab668c9403381f",
       "version_major": 2,
       "version_minor": 0
      },
      "text/plain": [
       "Epoch 1/1:   0%|          | 0/1792 [00:00<?, ?it/s]"
      ]
     },
     "metadata": {},
     "output_type": "display_data"
    },
    {
     "name": "stdout",
     "output_type": "stream",
     "text": [
      "2023-03-16 21:17.14 [info     ] FQE_20230316211711: epoch=1 step=1792 epoch=1 metrics={'time_sample_batch': 0.00011857319623231888, 'time_algorithm_update': 0.0011741388589143753, 'loss': 991.1435195651969, 'time_step': 0.0013606429898313113} step=1792\n",
      "2023-03-16 21:17.14 [info     ] Model parameters are saved to d3rlpy_logs/FQE_20230316211711/model_1792.pt\n"
     ]
    },
    {
     "data": {
      "application/vnd.jupyter.widget-view+json": {
       "model_id": "d9c043ea95884dc79895c0d806aff34e",
       "version_major": 2,
       "version_minor": 0
      },
      "text/plain": [
       "[fit MWL model]:   0%|          | 0/1 [00:00<?, ?it/s]"
      ]
     },
     "metadata": {},
     "output_type": "display_data"
    },
    {
     "data": {
      "application/vnd.jupyter.widget-view+json": {
       "model_id": "fb4f4cf9ff2a4fad926cd7b0deadfe9c",
       "version_major": 2,
       "version_minor": 0
      },
      "text/plain": [
       "[fitting_weight_function]:   0%|          | 0/100 [00:00<?, ?it/s]"
      ]
     },
     "metadata": {},
     "output_type": "display_data"
    },
    {
     "data": {
      "application/vnd.jupyter.widget-view+json": {
       "model_id": "a3efc1f3f77f47d593ac4fb2e4df703f",
       "version_major": 2,
       "version_minor": 0
      },
      "text/plain": [
       "[fitting_weight_function]:   0%|          | 0/100 [00:00<?, ?it/s]"
      ]
     },
     "metadata": {},
     "output_type": "display_data"
    },
    {
     "data": {
      "application/vnd.jupyter.widget-view+json": {
       "model_id": "c1f71203ad6f438b8f81b1e63c912c4b",
       "version_major": 2,
       "version_minor": 0
      },
      "text/plain": [
       "[collect input data: eval_policy]:   0%|          | 0/1 [00:00<?, ?it/s]"
      ]
     },
     "metadata": {},
     "output_type": "display_data"
    },
    {
     "data": {
      "application/vnd.jupyter.widget-view+json": {
       "model_id": "7f32544f1896444ebef4dc8ec574d674",
       "version_major": 2,
       "version_minor": 0
      },
      "text/plain": [
       "[calculate on-policy policy value]:   0%|          | 0/100 [00:00<?, ?it/s]"
      ]
     },
     "metadata": {},
     "output_type": "display_data"
    },
    {
     "data": {
      "application/vnd.jupyter.widget-view+json": {
       "model_id": "b475c7bb85504f72ac156458a254c9a3",
       "version_major": 2,
       "version_minor": 0
      },
      "text/plain": [
       "[obtain_trajectories]:   0%|          | 0/51200 [00:00<?, ?it/s]"
      ]
     },
     "metadata": {},
     "output_type": "display_data"
    },
    {
     "data": {
      "application/vnd.jupyter.widget-view+json": {
       "model_id": "c45b5a51352543fc9fcc06f8543a4788",
       "version_major": 2,
       "version_minor": 0
      },
      "text/plain": [
       "[obtain_trajectories]:   0%|          | 0/51200 [00:00<?, ?it/s]"
      ]
     },
     "metadata": {},
     "output_type": "display_data"
    },
    {
     "data": {
      "application/vnd.jupyter.widget-view+json": {
       "model_id": "c09e4c651859430cb91a3fcc8a759abc",
       "version_major": 2,
       "version_minor": 0
      },
      "text/plain": [
       "[fit FQE model]:   0%|          | 0/1 [00:00<?, ?it/s]"
      ]
     },
     "metadata": {},
     "output_type": "display_data"
    },
    {
     "name": "stdout",
     "output_type": "stream",
     "text": [
      "2023-03-16 21:31.25 [debug    ] RoundIterator is selected.\n",
      "2023-03-16 21:31.25 [info     ] Directory is created at d3rlpy_logs/FQE_20230316213125\n",
      "2023-03-16 21:31.25 [debug    ] Fitting scaler...              scaler=min_max\n",
      "2023-03-16 21:31.25 [debug    ] Fitting action scaler...       action_scaler=min_max\n",
      "2023-03-16 21:31.25 [debug    ] Building models...\n",
      "2023-03-16 21:31.25 [debug    ] Models have been built.\n",
      "2023-03-16 21:31.25 [info     ] Parameters are saved to d3rlpy_logs/FQE_20230316213125/params.json params={'action_scaler': {'type': 'min_max', 'params': {'minimum': array([0.1]), 'maximum': array([10.])}}, 'batch_size': 100, 'encoder_factory': {'type': 'vector', 'params': {'hidden_units': [30, 30], 'activation': 'relu', 'use_batch_norm': False, 'dropout_rate': None, 'use_dense': False}}, 'gamma': 0.95, 'generated_maxlen': 100000, 'learning_rate': 0.0001, 'n_critics': 1, 'n_frames': 1, 'n_steps': 1, 'optim_factory': {'optim_cls': 'Adam', 'betas': (0.9, 0.999), 'eps': 1e-08, 'weight_decay': 0, 'amsgrad': False}, 'q_func_factory': {'type': 'mean', 'params': {'share_encoder': False}}, 'real_ratio': 1.0, 'reward_scaler': None, 'scaler': {'type': 'min_max', 'params': {'maximum': array([6.00000000e+00, 3.00000000e+03, 9.99976139e-01, 8.60000000e+04,\n",
      "       1.00000000e+00, 2.30000000e+01, 1.25252718e+01]), 'minimum': array([0.00000000e+00, 1.00000000e+00, 0.00000000e+00, 0.00000000e+00,\n",
      "       0.00000000e+00, 0.00000000e+00, 1.50635006e-05])}}, 'target_update_interval': 100, 'use_gpu': None, 'algorithm': 'FQE', 'observation_shape': (7,), 'action_size': 1}\n"
     ]
    },
    {
     "data": {
      "application/vnd.jupyter.widget-view+json": {
       "model_id": "e398dc8846d7447cbf7971d82d04c74d",
       "version_major": 2,
       "version_minor": 0
      },
      "text/plain": [
       "Epoch 1/1:   0%|          | 0/3584 [00:00<?, ?it/s]"
      ]
     },
     "metadata": {},
     "output_type": "display_data"
    },
    {
     "name": "stdout",
     "output_type": "stream",
     "text": [
      "2023-03-16 21:31.31 [info     ] FQE_20230316213125: epoch=1 step=3584 epoch=1 metrics={'time_sample_batch': 0.00013418735138007572, 'time_algorithm_update': 0.001217602685626064, 'loss': 166583.0335896397, 'time_step': 0.0014350110265825475} step=3584\n",
      "2023-03-16 21:31.31 [info     ] Model parameters are saved to d3rlpy_logs/FQE_20230316213125/model_3584.pt\n"
     ]
    },
    {
     "data": {
      "application/vnd.jupyter.widget-view+json": {
       "model_id": "0d3a5381c15141c791fd2c409f768099",
       "version_major": 2,
       "version_minor": 0
      },
      "text/plain": [
       "[fit MWL model]:   0%|          | 0/1 [00:00<?, ?it/s]"
      ]
     },
     "metadata": {},
     "output_type": "display_data"
    },
    {
     "data": {
      "application/vnd.jupyter.widget-view+json": {
       "model_id": "15641d7bb26c4467801227ccd45acac9",
       "version_major": 2,
       "version_minor": 0
      },
      "text/plain": [
       "[fitting_weight_function]:   0%|          | 0/100 [00:00<?, ?it/s]"
      ]
     },
     "metadata": {},
     "output_type": "display_data"
    },
    {
     "data": {
      "application/vnd.jupyter.widget-view+json": {
       "model_id": "558f93093c6446b6b52b37f3258cc3c1",
       "version_major": 2,
       "version_minor": 0
      },
      "text/plain": [
       "[fitting_weight_function]:   0%|          | 0/100 [00:00<?, ?it/s]"
      ]
     },
     "metadata": {},
     "output_type": "display_data"
    },
    {
     "data": {
      "application/vnd.jupyter.widget-view+json": {
       "model_id": "8a18db2c833f42b78f25ed23b1859778",
       "version_major": 2,
       "version_minor": 0
      },
      "text/plain": [
       "[collect input data: eval_policy]:   0%|          | 0/1 [00:00<?, ?it/s]"
      ]
     },
     "metadata": {},
     "output_type": "display_data"
    },
    {
     "data": {
      "application/vnd.jupyter.widget-view+json": {
       "model_id": "31d96f2d87ac4cbebfcd296215f109ca",
       "version_major": 2,
       "version_minor": 0
      },
      "text/plain": [
       "[calculate on-policy policy value]:   0%|          | 0/100 [00:00<?, ?it/s]"
      ]
     },
     "metadata": {},
     "output_type": "display_data"
    },
    {
     "data": {
      "application/vnd.jupyter.widget-view+json": {
       "model_id": "b3cb827781b6442295c23e3b248b66d3",
       "version_major": 2,
       "version_minor": 0
      },
      "text/plain": [
       "[obtain_trajectories]:   0%|          | 0/51200 [00:00<?, ?it/s]"
      ]
     },
     "metadata": {},
     "output_type": "display_data"
    },
    {
     "data": {
      "application/vnd.jupyter.widget-view+json": {
       "model_id": "920e33cbfa7c484a9ca1230cbce07882",
       "version_major": 2,
       "version_minor": 0
      },
      "text/plain": [
       "[obtain_trajectories]:   0%|          | 0/51200 [00:00<?, ?it/s]"
      ]
     },
     "metadata": {},
     "output_type": "display_data"
    },
    {
     "data": {
      "application/vnd.jupyter.widget-view+json": {
       "model_id": "f2f3bf6ec8e04ce2a072fa225b33b573",
       "version_major": 2,
       "version_minor": 0
      },
      "text/plain": [
       "[fit FQE model]:   0%|          | 0/1 [00:00<?, ?it/s]"
      ]
     },
     "metadata": {},
     "output_type": "display_data"
    },
    {
     "name": "stdout",
     "output_type": "stream",
     "text": [
      "2023-03-16 21:46.04 [debug    ] RoundIterator is selected.\n",
      "2023-03-16 21:46.04 [info     ] Directory is created at d3rlpy_logs/FQE_20230316214604\n",
      "2023-03-16 21:46.04 [debug    ] Fitting scaler...              scaler=min_max\n",
      "2023-03-16 21:46.04 [debug    ] Fitting action scaler...       action_scaler=min_max\n",
      "2023-03-16 21:46.04 [debug    ] Building models...\n",
      "2023-03-16 21:46.04 [debug    ] Models have been built.\n",
      "2023-03-16 21:46.04 [info     ] Parameters are saved to d3rlpy_logs/FQE_20230316214604/params.json params={'action_scaler': {'type': 'min_max', 'params': {'minimum': array([0.1]), 'maximum': array([10.])}}, 'batch_size': 100, 'encoder_factory': {'type': 'vector', 'params': {'hidden_units': [30, 30], 'activation': 'relu', 'use_batch_norm': False, 'dropout_rate': None, 'use_dense': False}}, 'gamma': 0.95, 'generated_maxlen': 100000, 'learning_rate': 0.0001, 'n_critics': 1, 'n_frames': 1, 'n_steps': 1, 'optim_factory': {'optim_cls': 'Adam', 'betas': (0.9, 0.999), 'eps': 1e-08, 'weight_decay': 0, 'amsgrad': False}, 'q_func_factory': {'type': 'mean', 'params': {'share_encoder': False}}, 'real_ratio': 1.0, 'reward_scaler': None, 'scaler': {'type': 'min_max', 'params': {'maximum': array([6.00000000e+00, 3.00000000e+03, 9.99994570e-01, 8.00000000e+04,\n",
      "       1.00000000e+00, 2.30000000e+01, 1.20246987e+01]), 'minimum': array([0.00000000e+00, 1.00000000e+00, 0.00000000e+00, 0.00000000e+00,\n",
      "       0.00000000e+00, 0.00000000e+00, 7.01580196e-06])}}, 'target_update_interval': 100, 'use_gpu': None, 'algorithm': 'FQE', 'observation_shape': (7,), 'action_size': 1}\n"
     ]
    },
    {
     "data": {
      "application/vnd.jupyter.widget-view+json": {
       "model_id": "61986235731b4616b0247aa5f2b9f60d",
       "version_major": 2,
       "version_minor": 0
      },
      "text/plain": [
       "Epoch 1/1:   0%|          | 0/3584 [00:00<?, ?it/s]"
      ]
     },
     "metadata": {},
     "output_type": "display_data"
    },
    {
     "name": "stdout",
     "output_type": "stream",
     "text": [
      "2023-03-16 21:46.09 [info     ] FQE_20230316214604: epoch=1 step=3584 epoch=1 metrics={'time_sample_batch': 0.0001336392680449145, 'time_algorithm_update': 0.001277260615357331, 'loss': 152215.1506774327, 'time_step': 0.0014997619603361403} step=3584\n",
      "2023-03-16 21:46.09 [info     ] Model parameters are saved to d3rlpy_logs/FQE_20230316214604/model_3584.pt\n"
     ]
    },
    {
     "data": {
      "application/vnd.jupyter.widget-view+json": {
       "model_id": "9d29658d1f284b1aafba1c98f4b4d838",
       "version_major": 2,
       "version_minor": 0
      },
      "text/plain": [
       "[fit MWL model]:   0%|          | 0/1 [00:00<?, ?it/s]"
      ]
     },
     "metadata": {},
     "output_type": "display_data"
    },
    {
     "data": {
      "application/vnd.jupyter.widget-view+json": {
       "model_id": "59b7bf0198334ec48694b799e8b48c53",
       "version_major": 2,
       "version_minor": 0
      },
      "text/plain": [
       "[fitting_weight_function]:   0%|          | 0/100 [00:00<?, ?it/s]"
      ]
     },
     "metadata": {},
     "output_type": "display_data"
    },
    {
     "data": {
      "application/vnd.jupyter.widget-view+json": {
       "model_id": "4434333a640d44338ec990de740914ca",
       "version_major": 2,
       "version_minor": 0
      },
      "text/plain": [
       "[fitting_weight_function]:   0%|          | 0/100 [00:00<?, ?it/s]"
      ]
     },
     "metadata": {},
     "output_type": "display_data"
    },
    {
     "data": {
      "application/vnd.jupyter.widget-view+json": {
       "model_id": "ac8e3868863e41ab9cded9fb40baf7d1",
       "version_major": 2,
       "version_minor": 0
      },
      "text/plain": [
       "[collect input data: eval_policy]:   0%|          | 0/1 [00:00<?, ?it/s]"
      ]
     },
     "metadata": {},
     "output_type": "display_data"
    },
    {
     "data": {
      "application/vnd.jupyter.widget-view+json": {
       "model_id": "daff48722bf44123bee0a30b001584d0",
       "version_major": 2,
       "version_minor": 0
      },
      "text/plain": [
       "[calculate on-policy policy value]:   0%|          | 0/100 [00:00<?, ?it/s]"
      ]
     },
     "metadata": {},
     "output_type": "display_data"
    },
    {
     "data": {
      "application/vnd.jupyter.widget-view+json": {
       "model_id": "2c4108e69aab4249b2fc302f67fa9a9d",
       "version_major": 2,
       "version_minor": 0
      },
      "text/plain": [
       "[obtain_trajectories]:   0%|          | 0/51200 [00:00<?, ?it/s]"
      ]
     },
     "metadata": {},
     "output_type": "display_data"
    },
    {
     "data": {
      "application/vnd.jupyter.widget-view+json": {
       "model_id": "cf96ad7869f6495e9914d6a5dede9b14",
       "version_major": 2,
       "version_minor": 0
      },
      "text/plain": [
       "[obtain_trajectories]:   0%|          | 0/51200 [00:00<?, ?it/s]"
      ]
     },
     "metadata": {},
     "output_type": "display_data"
    },
    {
     "data": {
      "application/vnd.jupyter.widget-view+json": {
       "model_id": "eb7adb8b9a3c4d73b733112170b17494",
       "version_major": 2,
       "version_minor": 0
      },
      "text/plain": [
       "[fit FQE model]:   0%|          | 0/1 [00:00<?, ?it/s]"
      ]
     },
     "metadata": {},
     "output_type": "display_data"
    },
    {
     "name": "stdout",
     "output_type": "stream",
     "text": [
      "2023-03-16 22:00.41 [debug    ] RoundIterator is selected.\n",
      "2023-03-16 22:00.41 [info     ] Directory is created at d3rlpy_logs/FQE_20230316220041\n",
      "2023-03-16 22:00.41 [debug    ] Fitting scaler...              scaler=min_max\n",
      "2023-03-16 22:00.41 [debug    ] Fitting action scaler...       action_scaler=min_max\n",
      "2023-03-16 22:00.41 [debug    ] Building models...\n",
      "2023-03-16 22:00.41 [debug    ] Models have been built.\n",
      "2023-03-16 22:00.41 [info     ] Parameters are saved to d3rlpy_logs/FQE_20230316220041/params.json params={'action_scaler': {'type': 'min_max', 'params': {'minimum': array([0.1]), 'maximum': array([10.])}}, 'batch_size': 100, 'encoder_factory': {'type': 'vector', 'params': {'hidden_units': [30, 30], 'activation': 'relu', 'use_batch_norm': False, 'dropout_rate': None, 'use_dense': False}}, 'gamma': 0.95, 'generated_maxlen': 100000, 'learning_rate': 0.0001, 'n_critics': 1, 'n_frames': 1, 'n_steps': 1, 'optim_factory': {'optim_cls': 'Adam', 'betas': (0.9, 0.999), 'eps': 1e-08, 'weight_decay': 0, 'amsgrad': False}, 'q_func_factory': {'type': 'mean', 'params': {'share_encoder': False}}, 'real_ratio': 1.0, 'reward_scaler': None, 'scaler': {'type': 'min_max', 'params': {'maximum': array([6.00000000e+00, 3.00000000e+03, 9.99983780e-01, 7.30000000e+04,\n",
      "       1.00000000e+00, 2.50000000e+01, 1.14143694e+01]), 'minimum': array([0.00000000e+00, 1.00000000e+00, 0.00000000e+00, 0.00000000e+00,\n",
      "       0.00000000e+00, 0.00000000e+00, 1.00061425e-05])}}, 'target_update_interval': 100, 'use_gpu': None, 'algorithm': 'FQE', 'observation_shape': (7,), 'action_size': 1}\n"
     ]
    },
    {
     "data": {
      "application/vnd.jupyter.widget-view+json": {
       "model_id": "c76a2b2cef7a4d9e954f88c54c91522d",
       "version_major": 2,
       "version_minor": 0
      },
      "text/plain": [
       "Epoch 1/1:   0%|          | 0/3584 [00:00<?, ?it/s]"
      ]
     },
     "metadata": {},
     "output_type": "display_data"
    },
    {
     "name": "stdout",
     "output_type": "stream",
     "text": [
      "2023-03-16 22:00.46 [info     ] FQE_20230316220041: epoch=1 step=3584 epoch=1 metrics={'time_sample_batch': 0.00012707524001598358, 'time_algorithm_update': 0.0012273424571113928, 'loss': 155108.80518953077, 'time_step': 0.0014367130851106985} step=3584\n",
      "2023-03-16 22:00.46 [info     ] Model parameters are saved to d3rlpy_logs/FQE_20230316220041/model_3584.pt\n"
     ]
    },
    {
     "data": {
      "application/vnd.jupyter.widget-view+json": {
       "model_id": "aedd05b1657645f19abe4084bcfee25c",
       "version_major": 2,
       "version_minor": 0
      },
      "text/plain": [
       "[fit MWL model]:   0%|          | 0/1 [00:00<?, ?it/s]"
      ]
     },
     "metadata": {},
     "output_type": "display_data"
    },
    {
     "data": {
      "application/vnd.jupyter.widget-view+json": {
       "model_id": "6d9db0527c9f48a4a8446f7b36f172e7",
       "version_major": 2,
       "version_minor": 0
      },
      "text/plain": [
       "[fitting_weight_function]:   0%|          | 0/100 [00:00<?, ?it/s]"
      ]
     },
     "metadata": {},
     "output_type": "display_data"
    },
    {
     "data": {
      "application/vnd.jupyter.widget-view+json": {
       "model_id": "a5826e62011a4c4ba3d5e6b3d8562039",
       "version_major": 2,
       "version_minor": 0
      },
      "text/plain": [
       "[fitting_weight_function]:   0%|          | 0/100 [00:00<?, ?it/s]"
      ]
     },
     "metadata": {},
     "output_type": "display_data"
    },
    {
     "data": {
      "application/vnd.jupyter.widget-view+json": {
       "model_id": "7f5ec6bbeddf4b168cf2786ffdb5a9f8",
       "version_major": 2,
       "version_minor": 0
      },
      "text/plain": [
       "[collect input data: eval_policy]:   0%|          | 0/1 [00:00<?, ?it/s]"
      ]
     },
     "metadata": {},
     "output_type": "display_data"
    },
    {
     "data": {
      "application/vnd.jupyter.widget-view+json": {
       "model_id": "c0c64f13b221496bb81445a551027083",
       "version_major": 2,
       "version_minor": 0
      },
      "text/plain": [
       "[calculate on-policy policy value]:   0%|          | 0/100 [00:00<?, ?it/s]"
      ]
     },
     "metadata": {},
     "output_type": "display_data"
    },
    {
     "data": {
      "application/vnd.jupyter.widget-view+json": {
       "model_id": "daf294d865364ebd9fd8e7ae7bb4d028",
       "version_major": 2,
       "version_minor": 0
      },
      "text/plain": [
       "[obtain_trajectories]:   0%|          | 0/51200 [00:00<?, ?it/s]"
      ]
     },
     "metadata": {},
     "output_type": "display_data"
    },
    {
     "data": {
      "application/vnd.jupyter.widget-view+json": {
       "model_id": "002f4634b0a847cb89be2efb5ef79d84",
       "version_major": 2,
       "version_minor": 0
      },
      "text/plain": [
       "[obtain_trajectories]:   0%|          | 0/51200 [00:00<?, ?it/s]"
      ]
     },
     "metadata": {},
     "output_type": "display_data"
    },
    {
     "data": {
      "application/vnd.jupyter.widget-view+json": {
       "model_id": "d74b5ce991b84ead826472f4fcddd7a0",
       "version_major": 2,
       "version_minor": 0
      },
      "text/plain": [
       "[fit FQE model]:   0%|          | 0/1 [00:00<?, ?it/s]"
      ]
     },
     "metadata": {},
     "output_type": "display_data"
    },
    {
     "name": "stdout",
     "output_type": "stream",
     "text": [
      "2023-03-16 22:13.25 [debug    ] RoundIterator is selected.\n",
      "2023-03-16 22:13.25 [info     ] Directory is created at d3rlpy_logs/FQE_20230316221325\n",
      "2023-03-16 22:13.25 [debug    ] Fitting scaler...              scaler=min_max\n",
      "2023-03-16 22:13.25 [debug    ] Fitting action scaler...       action_scaler=min_max\n",
      "2023-03-16 22:13.25 [debug    ] Building models...\n",
      "2023-03-16 22:13.25 [debug    ] Models have been built.\n",
      "2023-03-16 22:13.25 [info     ] Parameters are saved to d3rlpy_logs/FQE_20230316221325/params.json params={'action_scaler': {'type': 'min_max', 'params': {'minimum': array([0.1]), 'maximum': array([10.])}}, 'batch_size': 100, 'encoder_factory': {'type': 'vector', 'params': {'hidden_units': [30, 30], 'activation': 'relu', 'use_batch_norm': False, 'dropout_rate': None, 'use_dense': False}}, 'gamma': 0.95, 'generated_maxlen': 100000, 'learning_rate': 0.0001, 'n_critics': 1, 'n_frames': 1, 'n_steps': 1, 'optim_factory': {'optim_cls': 'Adam', 'betas': (0.9, 0.999), 'eps': 1e-08, 'weight_decay': 0, 'amsgrad': False}, 'q_func_factory': {'type': 'mean', 'params': {'share_encoder': False}}, 'real_ratio': 1.0, 'reward_scaler': None, 'scaler': {'type': 'min_max', 'params': {'maximum': array([6.00000000e+00, 3.00000000e+03, 9.99984209e-01, 6.60000000e+04,\n",
      "       1.00000000e+00, 2.20000000e+01, 1.02111473e+01]), 'minimum': array([0.00000000e+00, 1.00000000e+00, 0.00000000e+00, 0.00000000e+00,\n",
      "       0.00000000e+00, 0.00000000e+00, 9.62492033e-06])}}, 'target_update_interval': 100, 'use_gpu': None, 'algorithm': 'FQE', 'observation_shape': (7,), 'action_size': 1}\n"
     ]
    },
    {
     "data": {
      "application/vnd.jupyter.widget-view+json": {
       "model_id": "efb0e0a391ad4cbd9072cbf16242cc20",
       "version_major": 2,
       "version_minor": 0
      },
      "text/plain": [
       "Epoch 1/1:   0%|          | 0/3584 [00:00<?, ?it/s]"
      ]
     },
     "metadata": {},
     "output_type": "display_data"
    },
    {
     "name": "stdout",
     "output_type": "stream",
     "text": [
      "2023-03-16 22:13.29 [info     ] FQE_20230316221325: epoch=1 step=3584 epoch=1 metrics={'time_sample_batch': 0.00010931165888905525, 'time_algorithm_update': 0.0010256701415138586, 'loss': 146049.59096965246, 'time_step': 0.0012051997972386225} step=3584\n",
      "2023-03-16 22:13.29 [info     ] Model parameters are saved to d3rlpy_logs/FQE_20230316221325/model_3584.pt\n"
     ]
    },
    {
     "data": {
      "application/vnd.jupyter.widget-view+json": {
       "model_id": "c8d29828d0ed4306ac89709e70f78ff8",
       "version_major": 2,
       "version_minor": 0
      },
      "text/plain": [
       "[fit MWL model]:   0%|          | 0/1 [00:00<?, ?it/s]"
      ]
     },
     "metadata": {},
     "output_type": "display_data"
    },
    {
     "data": {
      "application/vnd.jupyter.widget-view+json": {
       "model_id": "379c9f76ccfc48b4a165e96815f06fb7",
       "version_major": 2,
       "version_minor": 0
      },
      "text/plain": [
       "[fitting_weight_function]:   0%|          | 0/100 [00:00<?, ?it/s]"
      ]
     },
     "metadata": {},
     "output_type": "display_data"
    },
    {
     "data": {
      "application/vnd.jupyter.widget-view+json": {
       "model_id": "3dbc50ab4f4443ca84f52ff77b1e2427",
       "version_major": 2,
       "version_minor": 0
      },
      "text/plain": [
       "[fitting_weight_function]:   0%|          | 0/100 [00:00<?, ?it/s]"
      ]
     },
     "metadata": {},
     "output_type": "display_data"
    },
    {
     "data": {
      "application/vnd.jupyter.widget-view+json": {
       "model_id": "2290d456e4a0475b8a678320838d5723",
       "version_major": 2,
       "version_minor": 0
      },
      "text/plain": [
       "[collect input data: eval_policy]:   0%|          | 0/1 [00:00<?, ?it/s]"
      ]
     },
     "metadata": {},
     "output_type": "display_data"
    },
    {
     "data": {
      "application/vnd.jupyter.widget-view+json": {
       "model_id": "f9989053ea4f400cb710184eeaba33d1",
       "version_major": 2,
       "version_minor": 0
      },
      "text/plain": [
       "[calculate on-policy policy value]:   0%|          | 0/100 [00:00<?, ?it/s]"
      ]
     },
     "metadata": {},
     "output_type": "display_data"
    },
    {
     "data": {
      "application/vnd.jupyter.widget-view+json": {
       "model_id": "c3976864ec6643a4b5a7034c4a64adbc",
       "version_major": 2,
       "version_minor": 0
      },
      "text/plain": [
       "[obtain_trajectories]:   0%|          | 0/51200 [00:00<?, ?it/s]"
      ]
     },
     "metadata": {},
     "output_type": "display_data"
    },
    {
     "data": {
      "application/vnd.jupyter.widget-view+json": {
       "model_id": "76cd0709d66d4677a150122685512d99",
       "version_major": 2,
       "version_minor": 0
      },
      "text/plain": [
       "[obtain_trajectories]:   0%|          | 0/51200 [00:00<?, ?it/s]"
      ]
     },
     "metadata": {},
     "output_type": "display_data"
    },
    {
     "data": {
      "application/vnd.jupyter.widget-view+json": {
       "model_id": "59b20072b3e648a8a2b66ea49b1014fa",
       "version_major": 2,
       "version_minor": 0
      },
      "text/plain": [
       "[fit FQE model]:   0%|          | 0/1 [00:00<?, ?it/s]"
      ]
     },
     "metadata": {},
     "output_type": "display_data"
    },
    {
     "name": "stdout",
     "output_type": "stream",
     "text": [
      "2023-03-16 22:26.11 [debug    ] RoundIterator is selected.\n",
      "2023-03-16 22:26.11 [info     ] Directory is created at d3rlpy_logs/FQE_20230316222611\n",
      "2023-03-16 22:26.11 [debug    ] Fitting scaler...              scaler=min_max\n",
      "2023-03-16 22:26.11 [debug    ] Fitting action scaler...       action_scaler=min_max\n",
      "2023-03-16 22:26.11 [debug    ] Building models...\n",
      "2023-03-16 22:26.11 [debug    ] Models have been built.\n",
      "2023-03-16 22:26.11 [info     ] Parameters are saved to d3rlpy_logs/FQE_20230316222611/params.json params={'action_scaler': {'type': 'min_max', 'params': {'minimum': array([0.1]), 'maximum': array([10.])}}, 'batch_size': 100, 'encoder_factory': {'type': 'vector', 'params': {'hidden_units': [30, 30], 'activation': 'relu', 'use_batch_norm': False, 'dropout_rate': None, 'use_dense': False}}, 'gamma': 0.95, 'generated_maxlen': 100000, 'learning_rate': 0.0001, 'n_critics': 1, 'n_frames': 1, 'n_steps': 1, 'optim_factory': {'optim_cls': 'Adam', 'betas': (0.9, 0.999), 'eps': 1e-08, 'weight_decay': 0, 'amsgrad': False}, 'q_func_factory': {'type': 'mean', 'params': {'share_encoder': False}}, 'real_ratio': 1.0, 'reward_scaler': None, 'scaler': {'type': 'min_max', 'params': {'maximum': array([6.00000000e+00, 3.00000000e+03, 9.99988005e-01, 7.80000000e+04,\n",
      "       1.00000000e+00, 2.20000000e+01, 1.34812091e+01]), 'minimum': array([0.00000000e+00, 1.00000000e+00, 0.00000000e+00, 0.00000000e+00,\n",
      "       0.00000000e+00, 0.00000000e+00, 6.04701232e-06])}}, 'target_update_interval': 100, 'use_gpu': None, 'algorithm': 'FQE', 'observation_shape': (7,), 'action_size': 1}\n"
     ]
    },
    {
     "data": {
      "application/vnd.jupyter.widget-view+json": {
       "model_id": "27165d1ada824db49b0b850ca00e0894",
       "version_major": 2,
       "version_minor": 0
      },
      "text/plain": [
       "Epoch 1/1:   0%|          | 0/3584 [00:00<?, ?it/s]"
      ]
     },
     "metadata": {},
     "output_type": "display_data"
    },
    {
     "name": "stdout",
     "output_type": "stream",
     "text": [
      "2023-03-16 22:26.16 [info     ] FQE_20230316222611: epoch=1 step=3584 epoch=1 metrics={'time_sample_batch': 0.00013717756207500185, 'time_algorithm_update': 0.0012771094750080789, 'loss': 284053.65330033697, 'time_step': 0.0014990268807326043} step=3584\n",
      "2023-03-16 22:26.16 [info     ] Model parameters are saved to d3rlpy_logs/FQE_20230316222611/model_3584.pt\n"
     ]
    },
    {
     "data": {
      "application/vnd.jupyter.widget-view+json": {
       "model_id": "56f98e49b929401dbcaaff098927287a",
       "version_major": 2,
       "version_minor": 0
      },
      "text/plain": [
       "[fit MWL model]:   0%|          | 0/1 [00:00<?, ?it/s]"
      ]
     },
     "metadata": {},
     "output_type": "display_data"
    },
    {
     "data": {
      "application/vnd.jupyter.widget-view+json": {
       "model_id": "7ad5f8fb6d234b328529f48544633ced",
       "version_major": 2,
       "version_minor": 0
      },
      "text/plain": [
       "[fitting_weight_function]:   0%|          | 0/100 [00:00<?, ?it/s]"
      ]
     },
     "metadata": {},
     "output_type": "display_data"
    },
    {
     "data": {
      "application/vnd.jupyter.widget-view+json": {
       "model_id": "1521bc0221ea4529b8fbd7cf91b30351",
       "version_major": 2,
       "version_minor": 0
      },
      "text/plain": [
       "[fitting_weight_function]:   0%|          | 0/100 [00:00<?, ?it/s]"
      ]
     },
     "metadata": {},
     "output_type": "display_data"
    },
    {
     "data": {
      "application/vnd.jupyter.widget-view+json": {
       "model_id": "6565f38d977840789313df05d0b5a1a8",
       "version_major": 2,
       "version_minor": 0
      },
      "text/plain": [
       "[collect input data: eval_policy]:   0%|          | 0/1 [00:00<?, ?it/s]"
      ]
     },
     "metadata": {},
     "output_type": "display_data"
    },
    {
     "data": {
      "application/vnd.jupyter.widget-view+json": {
       "model_id": "68f7b27e57094a1dbdbeacbd56bc7004",
       "version_major": 2,
       "version_minor": 0
      },
      "text/plain": [
       "[calculate on-policy policy value]:   0%|          | 0/100 [00:00<?, ?it/s]"
      ]
     },
     "metadata": {},
     "output_type": "display_data"
    },
    {
     "data": {
      "application/vnd.jupyter.widget-view+json": {
       "model_id": "f6fc46cf6d474afc9e9cd5d633c7f382",
       "version_major": 2,
       "version_minor": 0
      },
      "text/plain": [
       "[obtain_trajectories]:   0%|          | 0/51200 [00:00<?, ?it/s]"
      ]
     },
     "metadata": {},
     "output_type": "display_data"
    },
    {
     "data": {
      "application/vnd.jupyter.widget-view+json": {
       "model_id": "1d65b48fff3844c592d699dd967aeb78",
       "version_major": 2,
       "version_minor": 0
      },
      "text/plain": [
       "[obtain_trajectories]:   0%|          | 0/51200 [00:00<?, ?it/s]"
      ]
     },
     "metadata": {},
     "output_type": "display_data"
    },
    {
     "data": {
      "application/vnd.jupyter.widget-view+json": {
       "model_id": "8135e7d3d85b4ce5b7bd0c96e3ec8ef8",
       "version_major": 2,
       "version_minor": 0
      },
      "text/plain": [
       "[fit FQE model]:   0%|          | 0/1 [00:00<?, ?it/s]"
      ]
     },
     "metadata": {},
     "output_type": "display_data"
    },
    {
     "name": "stdout",
     "output_type": "stream",
     "text": [
      "2023-03-16 22:39.29 [debug    ] RoundIterator is selected.\n",
      "2023-03-16 22:39.29 [info     ] Directory is created at d3rlpy_logs/FQE_20230316223929\n",
      "2023-03-16 22:39.29 [debug    ] Fitting scaler...              scaler=min_max\n",
      "2023-03-16 22:39.29 [debug    ] Fitting action scaler...       action_scaler=min_max\n",
      "2023-03-16 22:39.29 [debug    ] Building models...\n",
      "2023-03-16 22:39.29 [debug    ] Models have been built.\n",
      "2023-03-16 22:39.29 [info     ] Parameters are saved to d3rlpy_logs/FQE_20230316223929/params.json params={'action_scaler': {'type': 'min_max', 'params': {'minimum': array([0.1]), 'maximum': array([10.])}}, 'batch_size': 100, 'encoder_factory': {'type': 'vector', 'params': {'hidden_units': [30, 30], 'activation': 'relu', 'use_batch_norm': False, 'dropout_rate': None, 'use_dense': False}}, 'gamma': 0.95, 'generated_maxlen': 100000, 'learning_rate': 0.0001, 'n_critics': 1, 'n_frames': 1, 'n_steps': 1, 'optim_factory': {'optim_cls': 'Adam', 'betas': (0.9, 0.999), 'eps': 1e-08, 'weight_decay': 0, 'amsgrad': False}, 'q_func_factory': {'type': 'mean', 'params': {'share_encoder': False}}, 'real_ratio': 1.0, 'reward_scaler': None, 'scaler': {'type': 'min_max', 'params': {'maximum': array([6.00000000e+00, 3.00000000e+03, 9.99987158e-01, 7.80000000e+04,\n",
      "       1.00000000e+00, 2.40000000e+01, 1.08471793e+01]), 'minimum': array([0.0000000e+00, 1.0000000e+00, 0.0000000e+00, 0.0000000e+00,\n",
      "       0.0000000e+00, 0.0000000e+00, 5.0496099e-05])}}, 'target_update_interval': 100, 'use_gpu': None, 'algorithm': 'FQE', 'observation_shape': (7,), 'action_size': 1}\n"
     ]
    },
    {
     "data": {
      "application/vnd.jupyter.widget-view+json": {
       "model_id": "98228725d93949c28852b54c4074e7d2",
       "version_major": 2,
       "version_minor": 0
      },
      "text/plain": [
       "Epoch 1/1:   0%|          | 0/3584 [00:00<?, ?it/s]"
      ]
     },
     "metadata": {},
     "output_type": "display_data"
    },
    {
     "name": "stdout",
     "output_type": "stream",
     "text": [
      "2023-03-16 22:39.33 [info     ] FQE_20230316223929: epoch=1 step=3584 epoch=1 metrics={'time_sample_batch': 0.00010926875152758189, 'time_algorithm_update': 0.0010329077153333596, 'loss': 142545.93115940146, 'time_step': 0.0012096592358180455} step=3584\n",
      "2023-03-16 22:39.33 [info     ] Model parameters are saved to d3rlpy_logs/FQE_20230316223929/model_3584.pt\n"
     ]
    },
    {
     "data": {
      "application/vnd.jupyter.widget-view+json": {
       "model_id": "11f1c6e08b384bcdabe5f5880382ddc6",
       "version_major": 2,
       "version_minor": 0
      },
      "text/plain": [
       "[fit MWL model]:   0%|          | 0/1 [00:00<?, ?it/s]"
      ]
     },
     "metadata": {},
     "output_type": "display_data"
    },
    {
     "data": {
      "application/vnd.jupyter.widget-view+json": {
       "model_id": "5cf2badd74f94ef2baad200a6fc4fb8e",
       "version_major": 2,
       "version_minor": 0
      },
      "text/plain": [
       "[fitting_weight_function]:   0%|          | 0/100 [00:00<?, ?it/s]"
      ]
     },
     "metadata": {},
     "output_type": "display_data"
    },
    {
     "data": {
      "application/vnd.jupyter.widget-view+json": {
       "model_id": "e2c61890cc66475880d9b4ac5ff48abd",
       "version_major": 2,
       "version_minor": 0
      },
      "text/plain": [
       "[fitting_weight_function]:   0%|          | 0/100 [00:00<?, ?it/s]"
      ]
     },
     "metadata": {},
     "output_type": "display_data"
    },
    {
     "data": {
      "application/vnd.jupyter.widget-view+json": {
       "model_id": "eb76a45fd4564100a6ce2d892f84ec42",
       "version_major": 2,
       "version_minor": 0
      },
      "text/plain": [
       "[collect input data: eval_policy]:   0%|          | 0/1 [00:00<?, ?it/s]"
      ]
     },
     "metadata": {},
     "output_type": "display_data"
    },
    {
     "data": {
      "application/vnd.jupyter.widget-view+json": {
       "model_id": "531ba3c203d240e1ab4c1ed1ddc2be55",
       "version_major": 2,
       "version_minor": 0
      },
      "text/plain": [
       "[calculate on-policy policy value]:   0%|          | 0/100 [00:00<?, ?it/s]"
      ]
     },
     "metadata": {},
     "output_type": "display_data"
    },
    {
     "data": {
      "application/vnd.jupyter.widget-view+json": {
       "model_id": "e3cb6c073f3745249813ef4d545aeddc",
       "version_major": 2,
       "version_minor": 0
      },
      "text/plain": [
       "[obtain_trajectories]:   0%|          | 0/51200 [00:00<?, ?it/s]"
      ]
     },
     "metadata": {},
     "output_type": "display_data"
    },
    {
     "ename": "KeyboardInterrupt",
     "evalue": "",
     "output_type": "error",
     "traceback": [
      "\u001b[0;31m---------------------------------------------------------------------------\u001b[0m",
      "\u001b[0;31mKeyboardInterrupt\u001b[0m                         Traceback (most recent call last)",
      "Cell \u001b[0;32mIn [58], line 31\u001b[0m\n\u001b[1;32m     16\u001b[0m dataset \u001b[39m=\u001b[39m SyntheticDataset(\n\u001b[1;32m     17\u001b[0m     env\u001b[39m=\u001b[39menv,\n\u001b[1;32m     18\u001b[0m     state_keys\u001b[39m=\u001b[39menv\u001b[39m.\u001b[39mobs_keys,\n\u001b[0;32m   (...)\u001b[0m\n\u001b[1;32m     26\u001b[0m     },\n\u001b[1;32m     27\u001b[0m )\n\u001b[1;32m     29\u001b[0m \u001b[39m# collect logged data by a behavior policy\u001b[39;00m\n\u001b[1;32m     30\u001b[0m \u001b[39m# skip if there is a preserved logged dataset\u001b[39;00m\n\u001b[0;32m---> 31\u001b[0m train_logged_dataset \u001b[39m=\u001b[39m dataset\u001b[39m.\u001b[39;49mobtain_episodes(\n\u001b[1;32m     32\u001b[0m     behavior_policies\u001b[39m=\u001b[39;49mbehavior_policy,\n\u001b[1;32m     33\u001b[0m     \u001b[39m# n_trajectories=10000, \u001b[39;49;00m\n\u001b[1;32m     34\u001b[0m     n_trajectories\u001b[39m=\u001b[39;49mn_trajectories, \n\u001b[1;32m     35\u001b[0m     obtain_info\u001b[39m=\u001b[39;49m\u001b[39mTrue\u001b[39;49;00m,\n\u001b[1;32m     36\u001b[0m     random_state\u001b[39m=\u001b[39;49mrandom_state,\n\u001b[1;32m     37\u001b[0m )\n\u001b[1;32m     38\u001b[0m test_logged_dataset \u001b[39m=\u001b[39m dataset\u001b[39m.\u001b[39mobtain_episodes(\n\u001b[1;32m     39\u001b[0m     behavior_policies\u001b[39m=\u001b[39mbehavior_policy,\n\u001b[1;32m     40\u001b[0m     \u001b[39m# n_trajectories=10000, \u001b[39;00m\n\u001b[0;32m   (...)\u001b[0m\n\u001b[1;32m     43\u001b[0m     random_state\u001b[39m=\u001b[39mrandom_state \u001b[39m+\u001b[39m \u001b[39m1\u001b[39m,\n\u001b[1;32m     44\u001b[0m )\n\u001b[1;32m     46\u001b[0m \u001b[39m# with open(\"logs/train_dataset_continuous_sac.pkl\", \"wb\") as f:\u001b[39;00m\n\u001b[1;32m     47\u001b[0m \u001b[39m# pickle.dump(train_logged_dataset, f)\u001b[39;00m\n\u001b[1;32m     48\u001b[0m \u001b[39m# with open(\"logs/test_dataset_continuous_sac.pkl\", \"wb\") as f:\u001b[39;00m\n\u001b[0;32m   (...)\u001b[0m\n\u001b[1;32m     55\u001b[0m \n\u001b[1;32m     56\u001b[0m \u001b[39m# transform offline dataset for d3rlpy\u001b[39;00m\n",
      "File \u001b[0;32m~/dev/ofrl/examples/quickstart/../../ofrl/dataset/synthetic.py:938\u001b[0m, in \u001b[0;36mSyntheticDataset.obtain_episodes\u001b[0;34m(self, behavior_policies, n_datasets, n_trajectories, step_per_trajectory, obtain_info, path, save_relative_path, random_state)\u001b[0m\n\u001b[1;32m    935\u001b[0m \u001b[39mif\u001b[39;00m \u001b[39misinstance\u001b[39m(behavior_policies, BaseHead):\n\u001b[1;32m    937\u001b[0m     \u001b[39mif\u001b[39;00m n_datasets \u001b[39m==\u001b[39m \u001b[39m1\u001b[39m:\n\u001b[0;32m--> 938\u001b[0m         logged_dataset \u001b[39m=\u001b[39m \u001b[39mself\u001b[39;49m\u001b[39m.\u001b[39;49m_obtain_episodes(\n\u001b[1;32m    939\u001b[0m             behavior_policy\u001b[39m=\u001b[39;49mbehavior_policies,\n\u001b[1;32m    940\u001b[0m             n_trajectories\u001b[39m=\u001b[39;49mn_trajectories,\n\u001b[1;32m    941\u001b[0m             step_per_trajectory\u001b[39m=\u001b[39;49mstep_per_trajectory,\n\u001b[1;32m    942\u001b[0m             obtain_info\u001b[39m=\u001b[39;49mobtain_info,\n\u001b[1;32m    943\u001b[0m             random_state\u001b[39m=\u001b[39;49mrandom_state,\n\u001b[1;32m    944\u001b[0m         )\n\u001b[1;32m    946\u001b[0m     \u001b[39melse\u001b[39;00m:\n\u001b[1;32m    947\u001b[0m         logged_dataset \u001b[39m=\u001b[39m MultipleLoggedDataset(\n\u001b[1;32m    948\u001b[0m             action_type\u001b[39m=\u001b[39m\u001b[39mself\u001b[39m\u001b[39m.\u001b[39maction_type,\n\u001b[1;32m    949\u001b[0m             path\u001b[39m=\u001b[39mpath,\n\u001b[1;32m    950\u001b[0m             save_relative_path\u001b[39m=\u001b[39msave_relative_path,\n\u001b[1;32m    951\u001b[0m         )\n",
      "File \u001b[0;32m~/dev/ofrl/examples/quickstart/../../ofrl/dataset/synthetic.py:427\u001b[0m, in \u001b[0;36mSyntheticDataset._obtain_episodes\u001b[0;34m(self, behavior_policy, dataset_id, n_trajectories, step_per_trajectory, obtain_info, random_state)\u001b[0m\n\u001b[1;32m    421\u001b[0m terminal \u001b[39m=\u001b[39m \u001b[39mFalse\u001b[39;00m\n\u001b[1;32m    423\u001b[0m \u001b[39mfor\u001b[39;00m t \u001b[39min\u001b[39;00m \u001b[39mrange\u001b[39m(step_per_trajectory):\n\u001b[1;32m    424\u001b[0m     (\n\u001b[1;32m    425\u001b[0m         action,\n\u001b[1;32m    426\u001b[0m         action_prob,\n\u001b[0;32m--> 427\u001b[0m     ) \u001b[39m=\u001b[39m behavior_policy\u001b[39m.\u001b[39;49mstochastic_action_with_pscore_online(state)\n\u001b[1;32m    428\u001b[0m     next_state, reward, done, truncated, info_ \u001b[39m=\u001b[39m \u001b[39mself\u001b[39m\u001b[39m.\u001b[39menv\u001b[39m.\u001b[39mstep(action)\n\u001b[1;32m    430\u001b[0m     \u001b[39mif\u001b[39;00m (idx \u001b[39m+\u001b[39m \u001b[39m1\u001b[39m) \u001b[39m%\u001b[39m step_per_trajectory \u001b[39m==\u001b[39m \u001b[39m0\u001b[39m:\n",
      "File \u001b[0;32m~/dev/ofrl/examples/quickstart/../../ofrl/policy/head.py:76\u001b[0m, in \u001b[0;36mBaseHead.stochastic_action_with_pscore_online\u001b[0;34m(self, x)\u001b[0m\n\u001b[1;32m     74\u001b[0m \u001b[39mdef\u001b[39;00m \u001b[39mstochastic_action_with_pscore_online\u001b[39m(\u001b[39mself\u001b[39m, x: np\u001b[39m.\u001b[39mndarray):\n\u001b[1;32m     75\u001b[0m     \u001b[39m\"\"\"Sample an action and calculate its pscore during the online interaction.\"\"\"\u001b[39;00m\n\u001b[0;32m---> 76\u001b[0m     action, pscore \u001b[39m=\u001b[39m \u001b[39mself\u001b[39;49m\u001b[39m.\u001b[39;49mstochastic_action_with_pscore(x\u001b[39m.\u001b[39;49mreshape(\u001b[39m1\u001b[39;49m, \u001b[39m-\u001b[39;49m\u001b[39m1\u001b[39;49m))\n\u001b[1;32m     77\u001b[0m     \u001b[39mreturn\u001b[39;00m action[\u001b[39m0\u001b[39m], pscore[\u001b[39m0\u001b[39m]\n",
      "File \u001b[0;32m~/dev/ofrl/examples/quickstart/../../ofrl/policy/head.py:894\u001b[0m, in \u001b[0;36mContinuousTruncatedGaussianHead.stochastic_action_with_pscore\u001b[0;34m(self, x)\u001b[0m\n\u001b[1;32m    877\u001b[0m \u001b[39m\"\"\"Sample stochastic action with its pscore.\u001b[39;00m\n\u001b[1;32m    878\u001b[0m \n\u001b[1;32m    879\u001b[0m \u001b[39mParameters\u001b[39;00m\n\u001b[0;32m   (...)\u001b[0m\n\u001b[1;32m    891\u001b[0m \n\u001b[1;32m    892\u001b[0m \u001b[39m\"\"\"\u001b[39;00m\n\u001b[1;32m    893\u001b[0m greedy_action \u001b[39m=\u001b[39m \u001b[39mself\u001b[39m\u001b[39m.\u001b[39mbase_policy\u001b[39m.\u001b[39mpredict(x)\n\u001b[0;32m--> 894\u001b[0m action \u001b[39m=\u001b[39m \u001b[39mself\u001b[39;49m\u001b[39m.\u001b[39;49msample_action(x)\n\u001b[1;32m    895\u001b[0m pscore \u001b[39m=\u001b[39m \u001b[39mself\u001b[39m\u001b[39m.\u001b[39m_calc_pscore(greedy_action, action)\n\u001b[1;32m    896\u001b[0m \u001b[39mreturn\u001b[39;00m action, pscore\n",
      "File \u001b[0;32m~/dev/ofrl/examples/quickstart/../../ofrl/policy/head.py:932\u001b[0m, in \u001b[0;36mContinuousTruncatedGaussianHead.sample_action\u001b[0;34m(self, x)\u001b[0m\n\u001b[1;32m    918\u001b[0m \u001b[39mdef\u001b[39;00m \u001b[39msample_action\u001b[39m(\u001b[39mself\u001b[39m, x: np\u001b[39m.\u001b[39mndarray):\n\u001b[1;32m    919\u001b[0m     \u001b[39m\"\"\"Sample action.\u001b[39;00m\n\u001b[1;32m    920\u001b[0m \n\u001b[1;32m    921\u001b[0m \u001b[39m    Parameters\u001b[39;00m\n\u001b[0;32m   (...)\u001b[0m\n\u001b[1;32m    930\u001b[0m \n\u001b[1;32m    931\u001b[0m \u001b[39m    \"\"\"\u001b[39;00m\n\u001b[0;32m--> 932\u001b[0m     greedy_action \u001b[39m=\u001b[39m \u001b[39mself\u001b[39;49m\u001b[39m.\u001b[39;49mbase_policy\u001b[39m.\u001b[39;49mpredict(x)\n\u001b[1;32m    933\u001b[0m     action \u001b[39m=\u001b[39m truncnorm\u001b[39m.\u001b[39mrvs(\n\u001b[1;32m    934\u001b[0m         a\u001b[39m=\u001b[39m(\u001b[39mself\u001b[39m\u001b[39m.\u001b[39mminimum \u001b[39m-\u001b[39m greedy_action) \u001b[39m/\u001b[39m \u001b[39mself\u001b[39m\u001b[39m.\u001b[39msigma,\n\u001b[1;32m    935\u001b[0m         b\u001b[39m=\u001b[39m(\u001b[39mself\u001b[39m\u001b[39m.\u001b[39mmaximum \u001b[39m-\u001b[39m greedy_action) \u001b[39m/\u001b[39m \u001b[39mself\u001b[39m\u001b[39m.\u001b[39msigma,\n\u001b[1;32m    936\u001b[0m         loc\u001b[39m=\u001b[39mgreedy_action,\n\u001b[1;32m    937\u001b[0m         scale\u001b[39m=\u001b[39m\u001b[39mself\u001b[39m\u001b[39m.\u001b[39msigma,\n\u001b[1;32m    938\u001b[0m     )\u001b[39m.\u001b[39mreshape((\u001b[39m-\u001b[39m\u001b[39m1\u001b[39m, \u001b[39m1\u001b[39m))\n\u001b[1;32m    939\u001b[0m     \u001b[39mreturn\u001b[39;00m action\n",
      "File \u001b[0;32m~/.pyenv/versions/3.10.6/lib/python3.10/site-packages/d3rlpy/algos/base.py:127\u001b[0m, in \u001b[0;36mAlgoBase.predict\u001b[0;34m(self, x)\u001b[0m\n\u001b[1;32m    108\u001b[0m \u001b[39m\"\"\"Returns greedy actions.\u001b[39;00m\n\u001b[1;32m    109\u001b[0m \n\u001b[1;32m    110\u001b[0m \u001b[39m.. code-block:: python\u001b[39;00m\n\u001b[0;32m   (...)\u001b[0m\n\u001b[1;32m    124\u001b[0m \n\u001b[1;32m    125\u001b[0m \u001b[39m\"\"\"\u001b[39;00m\n\u001b[1;32m    126\u001b[0m \u001b[39massert\u001b[39;00m \u001b[39mself\u001b[39m\u001b[39m.\u001b[39m_impl \u001b[39mis\u001b[39;00m \u001b[39mnot\u001b[39;00m \u001b[39mNone\u001b[39;00m, IMPL_NOT_INITIALIZED_ERROR\n\u001b[0;32m--> 127\u001b[0m \u001b[39mreturn\u001b[39;00m \u001b[39mself\u001b[39;49m\u001b[39m.\u001b[39;49m_impl\u001b[39m.\u001b[39;49mpredict_best_action(x)\n",
      "File \u001b[0;32m~/.pyenv/versions/3.10.6/lib/python3.10/site-packages/d3rlpy/torch_utility.py:304\u001b[0m, in \u001b[0;36meval_api.<locals>.wrapper\u001b[0;34m(self, *args, **kwargs)\u001b[0m\n\u001b[1;32m    303\u001b[0m \u001b[39mdef\u001b[39;00m \u001b[39mwrapper\u001b[39m(\u001b[39mself\u001b[39m: Any, \u001b[39m*\u001b[39margs: Any, \u001b[39m*\u001b[39m\u001b[39m*\u001b[39mkwargs: Any) \u001b[39m-\u001b[39m\u001b[39m>\u001b[39m np\u001b[39m.\u001b[39mndarray:\n\u001b[0;32m--> 304\u001b[0m     set_eval_mode(\u001b[39mself\u001b[39;49m)\n\u001b[1;32m    305\u001b[0m     \u001b[39mreturn\u001b[39;00m f(\u001b[39mself\u001b[39m, \u001b[39m*\u001b[39margs, \u001b[39m*\u001b[39m\u001b[39m*\u001b[39mkwargs)\n",
      "File \u001b[0;32m~/.pyenv/versions/3.10.6/lib/python3.10/site-packages/d3rlpy/torch_utility.py:57\u001b[0m, in \u001b[0;36mset_eval_mode\u001b[0;34m(impl)\u001b[0m\n\u001b[1;32m     55\u001b[0m module \u001b[39m=\u001b[39m \u001b[39mgetattr\u001b[39m(impl, key)\n\u001b[1;32m     56\u001b[0m \u001b[39mif\u001b[39;00m \u001b[39misinstance\u001b[39m(module, torch\u001b[39m.\u001b[39mnn\u001b[39m.\u001b[39mModule):\n\u001b[0;32m---> 57\u001b[0m     module\u001b[39m.\u001b[39;49meval()\n",
      "File \u001b[0;32m~/.pyenv/versions/3.10.6/lib/python3.10/site-packages/torch/nn/modules/module.py:1930\u001b[0m, in \u001b[0;36mModule.eval\u001b[0;34m(self)\u001b[0m\n\u001b[1;32m   1914\u001b[0m \u001b[39mdef\u001b[39;00m \u001b[39meval\u001b[39m(\u001b[39mself\u001b[39m: T) \u001b[39m-\u001b[39m\u001b[39m>\u001b[39m T:\n\u001b[1;32m   1915\u001b[0m     \u001b[39mr\u001b[39m\u001b[39m\"\"\"Sets the module in evaluation mode.\u001b[39;00m\n\u001b[1;32m   1916\u001b[0m \n\u001b[1;32m   1917\u001b[0m \u001b[39m    This has any effect only on certain modules. See documentations of\u001b[39;00m\n\u001b[0;32m   (...)\u001b[0m\n\u001b[1;32m   1928\u001b[0m \u001b[39m        Module: self\u001b[39;00m\n\u001b[1;32m   1929\u001b[0m \u001b[39m    \"\"\"\u001b[39;00m\n\u001b[0;32m-> 1930\u001b[0m     \u001b[39mreturn\u001b[39;00m \u001b[39mself\u001b[39;49m\u001b[39m.\u001b[39;49mtrain(\u001b[39mFalse\u001b[39;49;00m)\n",
      "File \u001b[0;32m~/.pyenv/versions/3.10.6/lib/python3.10/site-packages/torch/nn/modules/module.py:1911\u001b[0m, in \u001b[0;36mModule.train\u001b[0;34m(self, mode)\u001b[0m\n\u001b[1;32m   1909\u001b[0m \u001b[39mself\u001b[39m\u001b[39m.\u001b[39mtraining \u001b[39m=\u001b[39m mode\n\u001b[1;32m   1910\u001b[0m \u001b[39mfor\u001b[39;00m module \u001b[39min\u001b[39;00m \u001b[39mself\u001b[39m\u001b[39m.\u001b[39mchildren():\n\u001b[0;32m-> 1911\u001b[0m     module\u001b[39m.\u001b[39;49mtrain(mode)\n\u001b[1;32m   1912\u001b[0m \u001b[39mreturn\u001b[39;00m \u001b[39mself\u001b[39m\n",
      "File \u001b[0;32m~/.pyenv/versions/3.10.6/lib/python3.10/site-packages/torch/nn/modules/module.py:1911\u001b[0m, in \u001b[0;36mModule.train\u001b[0;34m(self, mode)\u001b[0m\n\u001b[1;32m   1909\u001b[0m \u001b[39mself\u001b[39m\u001b[39m.\u001b[39mtraining \u001b[39m=\u001b[39m mode\n\u001b[1;32m   1910\u001b[0m \u001b[39mfor\u001b[39;00m module \u001b[39min\u001b[39;00m \u001b[39mself\u001b[39m\u001b[39m.\u001b[39mchildren():\n\u001b[0;32m-> 1911\u001b[0m     module\u001b[39m.\u001b[39;49mtrain(mode)\n\u001b[1;32m   1912\u001b[0m \u001b[39mreturn\u001b[39;00m \u001b[39mself\u001b[39m\n",
      "    \u001b[0;31m[... skipping similar frames: Module.train at line 1911 (2 times)]\u001b[0m\n",
      "File \u001b[0;32m~/.pyenv/versions/3.10.6/lib/python3.10/site-packages/torch/nn/modules/module.py:1911\u001b[0m, in \u001b[0;36mModule.train\u001b[0;34m(self, mode)\u001b[0m\n\u001b[1;32m   1909\u001b[0m \u001b[39mself\u001b[39m\u001b[39m.\u001b[39mtraining \u001b[39m=\u001b[39m mode\n\u001b[1;32m   1910\u001b[0m \u001b[39mfor\u001b[39;00m module \u001b[39min\u001b[39;00m \u001b[39mself\u001b[39m\u001b[39m.\u001b[39mchildren():\n\u001b[0;32m-> 1911\u001b[0m     module\u001b[39m.\u001b[39;49mtrain(mode)\n\u001b[1;32m   1912\u001b[0m \u001b[39mreturn\u001b[39;00m \u001b[39mself\u001b[39m\n",
      "File \u001b[0;32m~/.pyenv/versions/3.10.6/lib/python3.10/site-packages/torch/nn/modules/module.py:1909\u001b[0m, in \u001b[0;36mModule.train\u001b[0;34m(self, mode)\u001b[0m\n\u001b[1;32m   1907\u001b[0m \u001b[39mif\u001b[39;00m \u001b[39mnot\u001b[39;00m \u001b[39misinstance\u001b[39m(mode, \u001b[39mbool\u001b[39m):\n\u001b[1;32m   1908\u001b[0m     \u001b[39mraise\u001b[39;00m \u001b[39mValueError\u001b[39;00m(\u001b[39m\"\u001b[39m\u001b[39mtraining mode is expected to be boolean\u001b[39m\u001b[39m\"\u001b[39m)\n\u001b[0;32m-> 1909\u001b[0m \u001b[39mself\u001b[39;49m\u001b[39m.\u001b[39;49mtraining \u001b[39m=\u001b[39m mode\n\u001b[1;32m   1910\u001b[0m \u001b[39mfor\u001b[39;00m module \u001b[39min\u001b[39;00m \u001b[39mself\u001b[39m\u001b[39m.\u001b[39mchildren():\n\u001b[1;32m   1911\u001b[0m     module\u001b[39m.\u001b[39mtrain(mode)\n",
      "File \u001b[0;32m~/.pyenv/versions/3.10.6/lib/python3.10/site-packages/torch/nn/modules/module.py:1282\u001b[0m, in \u001b[0;36mModule.__setattr__\u001b[0;34m(self, name, value)\u001b[0m\n\u001b[1;32m   1279\u001b[0m                 d\u001b[39m.\u001b[39mdiscard(name)\n\u001b[1;32m   1281\u001b[0m params \u001b[39m=\u001b[39m \u001b[39mself\u001b[39m\u001b[39m.\u001b[39m\u001b[39m__dict__\u001b[39m\u001b[39m.\u001b[39mget(\u001b[39m'\u001b[39m\u001b[39m_parameters\u001b[39m\u001b[39m'\u001b[39m)\n\u001b[0;32m-> 1282\u001b[0m \u001b[39mif\u001b[39;00m \u001b[39misinstance\u001b[39;49m(value, Parameter):\n\u001b[1;32m   1283\u001b[0m     \u001b[39mif\u001b[39;00m params \u001b[39mis\u001b[39;00m \u001b[39mNone\u001b[39;00m:\n\u001b[1;32m   1284\u001b[0m         \u001b[39mraise\u001b[39;00m \u001b[39mAttributeError\u001b[39;00m(\n\u001b[1;32m   1285\u001b[0m             \u001b[39m\"\u001b[39m\u001b[39mcannot assign parameters before Module.__init__() call\u001b[39m\u001b[39m\"\u001b[39m)\n",
      "File \u001b[0;32m~/.pyenv/versions/3.10.6/lib/python3.10/site-packages/torch/nn/parameter.py:9\u001b[0m, in \u001b[0;36m_ParameterMeta.__instancecheck__\u001b[0;34m(self, instance)\u001b[0m\n\u001b[1;32m      8\u001b[0m \u001b[39mdef\u001b[39;00m \u001b[39m__instancecheck__\u001b[39m(\u001b[39mself\u001b[39m, instance):\n\u001b[0;32m----> 9\u001b[0m     \u001b[39mreturn\u001b[39;00m \u001b[39msuper\u001b[39;49m()\u001b[39m.\u001b[39;49m\u001b[39m__instancecheck__\u001b[39;49m(instance) \u001b[39mor\u001b[39;00m (\n\u001b[1;32m     10\u001b[0m         \u001b[39misinstance\u001b[39m(instance, torch\u001b[39m.\u001b[39mTensor) \u001b[39mand\u001b[39;00m \u001b[39mgetattr\u001b[39m(instance, \u001b[39m'\u001b[39m\u001b[39m_is_param\u001b[39m\u001b[39m'\u001b[39m, \u001b[39mFalse\u001b[39;00m))\n",
      "\u001b[0;31mKeyboardInterrupt\u001b[0m: "
     ]
    }
   ],
   "source": [
    "\n",
    "for n_trajectories in n_trajectories_list:\n",
    "    cql_data = DataFrame()\n",
    "    sac_data = DataFrame()\n",
    "    for random_state in random_state_list:\n",
    "    \n",
    "        behavior_policy = TruncatedGaussianHead(\n",
    "            sac, \n",
    "            minimum=env.action_space.low,\n",
    "            maximum=env.action_space.high,\n",
    "            sigma=np.array([1.0]),\n",
    "            name=\"sac_sigma_1.0\",\n",
    "            random_state=random_state,\n",
    "        )\n",
    "\n",
    "        # initialize dataset class\n",
    "        dataset = SyntheticDataset(\n",
    "            env=env,\n",
    "            state_keys=env.obs_keys,\n",
    "            max_episode_steps=env.step_per_episode,\n",
    "            info_keys={\n",
    "                \"search_volume\": int,\n",
    "                \"impression\": int,\n",
    "                \"click\": int,\n",
    "                \"conversion\": int,\n",
    "                \"average_bid_price\": float,\n",
    "            },\n",
    "        )\n",
    "\n",
    "        # collect logged data by a behavior policy\n",
    "        # skip if there is a preserved logged dataset\n",
    "        train_logged_dataset = dataset.obtain_episodes(\n",
    "            behavior_policies=behavior_policy,\n",
    "            # n_trajectories=10000, \n",
    "            n_trajectories=n_trajectories, \n",
    "            obtain_info=True,\n",
    "            random_state=random_state,\n",
    "        )\n",
    "        test_logged_dataset = dataset.obtain_episodes(\n",
    "            behavior_policies=behavior_policy,\n",
    "            # n_trajectories=10000, \n",
    "            n_trajectories=n_trajectories, \n",
    "            obtain_info=True,\n",
    "            random_state=random_state + 1,\n",
    "        )\n",
    "\n",
    "        # transform offline dataset for d3rlpy\n",
    "        offlinerl_dataset = MDPDataset(\n",
    "            observations=train_logged_dataset[\"state\"],\n",
    "            actions=train_logged_dataset[\"action\"],\n",
    "            rewards=train_logged_dataset[\"reward\"],\n",
    "            terminals=train_logged_dataset[\"done\"],\n",
    "            episode_terminals=train_logged_dataset[\"done\"],\n",
    "            discrete_action=False,\n",
    "        )\n",
    "        train_episodes, test_episodes = train_test_split(offlinerl_dataset, test_size=0.2, random_state=random_state)\n",
    "\n",
    "        # # Use Conservative Q-Learning policy\n",
    "        # cql = CQL(\n",
    "        #     actor_encoder_factory=VectorEncoderFactory(hidden_units=[30, 30]),\n",
    "        #     critic_encoder_factory=VectorEncoderFactory(hidden_units=[30, 30]),\n",
    "        #     q_func_factory=MeanQFunctionFactory(),\n",
    "        #     use_gpu=torch.cuda.is_available(),\n",
    "        #     action_scaler=MinMaxActionScaler(\n",
    "        #         minimum=env_.action_space.low,  # minimum value that policy can take\n",
    "        #         maximum=env_.action_space.high,  # maximum value that policy can take\n",
    "        #     )\n",
    "        # )\n",
    "\n",
    "        # cql.fit(\n",
    "        #     train_episodes,\n",
    "        #     eval_episodes=test_episodes,\n",
    "        #     n_steps=10000,\n",
    "        #     # n_steps=10000,\n",
    "        #     scorers={},\n",
    "        # )\n",
    "\n",
    "        # # # save model\n",
    "        # # cql.save_model(\"d3rlpy_logs/cql_continuous.pt\")\n",
    "\n",
    "        # # # reload model\n",
    "        # # cql.build_with_env(env)\n",
    "        # # cql.load_model(\"d3rlpy_logs/cql_continuous.pt\")\n",
    "\n",
    "        # # define evaluation policies (should be deterministic policy)\n",
    "        # cql_ = ContinuousEvalHead(\n",
    "        #     base_policy=cql,\n",
    "        #     name=\"cql\",\n",
    "        # )\n",
    "        sac_ = ContinuousEvalHead(\n",
    "            base_policy=sac, \n",
    "            name=\"sac\", \n",
    "        )\n",
    "        evaluation_policies = [sac_]\n",
    "        # evaluation_policies = [cql_, sac_]\n",
    "        \n",
    "        # first, prepare OPE inputs\n",
    "        prep = CreateOPEInput(\n",
    "            env=env,\n",
    "            model_args={\n",
    "                \"fqe\": {\n",
    "                    \"encoder_factory\": VectorEncoderFactory(hidden_units=[30, 30]),\n",
    "                    \"q_func_factory\": MeanQFunctionFactory(),\n",
    "                    \"learning_rate\": 1e-4,\n",
    "                    \"use_gpu\": torch.cuda.is_available(),\n",
    "                },\n",
    "            },\n",
    "            state_scaler=MinMaxScaler(\n",
    "                minimum=test_logged_dataset[\"state\"].min(axis=0),\n",
    "                maximum=test_logged_dataset[\"state\"].max(axis=0),\n",
    "            ),\n",
    "            action_scaler=MinMaxActionScaler(\n",
    "                minimum=env.action_space.low,  # minimum value that policy can take\n",
    "                maximum=env.action_space.high,  # maximum value that policy can take\n",
    "            ),\n",
    "            gamma=0.95,\n",
    "            sigma=0.1,\n",
    "            device=\"cuda:0\" if torch.cuda.is_available() else \"cpu\",\n",
    "        )\n",
    "\n",
    "        # takes time\n",
    "        input_dict = prep.obtain_whole_inputs(\n",
    "            logged_dataset=test_logged_dataset,\n",
    "            evaluation_policies=evaluation_policies,\n",
    "            require_value_prediction=True,\n",
    "            require_weight_prediction=True,\n",
    "            n_trajectories_on_policy_evaluation=100,\n",
    "            random_state=random_state,\n",
    "        )\n",
    "\n",
    "        ope = OPE(\n",
    "            logged_dataset=test_logged_dataset,\n",
    "            ope_estimators=all_estimators,\n",
    "            action_scaler=MinMaxActionScaler(\n",
    "                minimum=env.action_space.low,  # minimum value that policy can take\n",
    "                maximum=env.action_space.high,  # maximum value that policy can take\n",
    "            ),\n",
    "            sigma=0.1,\n",
    "        )\n",
    "\n",
    "        policy_value_dict = ope.estimate_policy_value(\n",
    "            input_dict=input_dict,\n",
    "        )\n",
    "        \n",
    "        # tmp_cql = DataFrame(policy_value_dict)['cql']\n",
    "        # cql_data = pd.concat([cql_data, tmp_cql], axis=1)\n",
    "        tmp_sac = DataFrame(policy_value_dict)['sac']\n",
    "        sac_data = pd.concat([sac_data, tmp_sac], axis=1)\n",
    "        \n",
    "        \n",
    "    bias = abs(sac_data.mean(axis=1) - sac_data.mean(axis=1)['on_policy'])\n",
    "    variance = sac_data.var(axis=1)\n",
    "    # bias = abs(cql_data.mean(axis=1) - cql_data.mean(axis=1)['on_policy'])\n",
    "    # variance = cql_data.var(axis=1)\n",
    "\n",
    "    bias_df = DataFrame(DataFrame(bias).stack())\\\n",
    "        .reset_index(1).rename(columns={\"level_1\": \"est\", 0: \"bias\"})\n",
    "    bias_df[\"n_trajectories\"] = n_trajectories\n",
    "    bias_df_list.append(bias_df)\n",
    "    \n",
    "    variance_df = DataFrame(DataFrame(variance).stack())\\\n",
    "        .reset_index(1).rename(columns={\"level_1\": \"est\", 0: \"variance\"})\n",
    "    variance_df[\"n_trajectories\"] = n_trajectories\n",
    "    variance_df_list.append(variance_df)\n",
    "\n",
    "# aggregate all results \n",
    "bias_result_df = pd.concat(bias_df_list).reset_index(level=0)\n",
    "variance_result_df = pd.concat(variance_df_list).reset_index(level=0)"
   ]
  },
  {
   "cell_type": "code",
   "execution_count": 59,
   "metadata": {},
   "outputs": [],
   "source": [
    "bias_result_df = pd.concat(bias_df_list).reset_index(level=0)\n",
    "variance_result_df = pd.concat(variance_df_list).reset_index(level=0)"
   ]
  },
  {
   "cell_type": "code",
   "execution_count": 60,
   "metadata": {},
   "outputs": [
    {
     "data": {
      "text/html": [
       "<div>\n",
       "<style scoped>\n",
       "    .dataframe tbody tr th:only-of-type {\n",
       "        vertical-align: middle;\n",
       "    }\n",
       "\n",
       "    .dataframe tbody tr th {\n",
       "        vertical-align: top;\n",
       "    }\n",
       "\n",
       "    .dataframe thead th {\n",
       "        text-align: right;\n",
       "    }\n",
       "</style>\n",
       "<table border=\"1\" class=\"dataframe\">\n",
       "  <thead>\n",
       "    <tr style=\"text-align: right;\">\n",
       "      <th></th>\n",
       "      <th>index</th>\n",
       "      <th>est</th>\n",
       "      <th>variance</th>\n",
       "      <th>n_trajectories</th>\n",
       "    </tr>\n",
       "  </thead>\n",
       "  <tbody>\n",
       "    <tr>\n",
       "      <th>0</th>\n",
       "      <td>dm</td>\n",
       "      <td>0</td>\n",
       "      <td>0.014763</td>\n",
       "      <td>100</td>\n",
       "    </tr>\n",
       "    <tr>\n",
       "      <th>17</th>\n",
       "      <td>dm</td>\n",
       "      <td>0</td>\n",
       "      <td>0.015205</td>\n",
       "      <td>200</td>\n",
       "    </tr>\n",
       "    <tr>\n",
       "      <th>34</th>\n",
       "      <td>dm</td>\n",
       "      <td>0</td>\n",
       "      <td>0.015925</td>\n",
       "      <td>400</td>\n",
       "    </tr>\n",
       "    <tr>\n",
       "      <th>51</th>\n",
       "      <td>dm</td>\n",
       "      <td>0</td>\n",
       "      <td>0.017704</td>\n",
       "      <td>800</td>\n",
       "    </tr>\n",
       "    <tr>\n",
       "      <th>68</th>\n",
       "      <td>dm</td>\n",
       "      <td>0</td>\n",
       "      <td>0.022650</td>\n",
       "      <td>1600</td>\n",
       "    </tr>\n",
       "    <tr>\n",
       "      <th>85</th>\n",
       "      <td>dm</td>\n",
       "      <td>0</td>\n",
       "      <td>0.042924</td>\n",
       "      <td>3200</td>\n",
       "    </tr>\n",
       "    <tr>\n",
       "      <th>102</th>\n",
       "      <td>dm</td>\n",
       "      <td>0</td>\n",
       "      <td>0.203057</td>\n",
       "      <td>6400</td>\n",
       "    </tr>\n",
       "    <tr>\n",
       "      <th>119</th>\n",
       "      <td>dm</td>\n",
       "      <td>0</td>\n",
       "      <td>6.559495</td>\n",
       "      <td>12800</td>\n",
       "    </tr>\n",
       "    <tr>\n",
       "      <th>136</th>\n",
       "      <td>dm</td>\n",
       "      <td>0</td>\n",
       "      <td>521.159185</td>\n",
       "      <td>25600</td>\n",
       "    </tr>\n",
       "  </tbody>\n",
       "</table>\n",
       "</div>"
      ],
      "text/plain": [
       "    index  est    variance  n_trajectories\n",
       "0      dm    0    0.014763             100\n",
       "17     dm    0    0.015205             200\n",
       "34     dm    0    0.015925             400\n",
       "51     dm    0    0.017704             800\n",
       "68     dm    0    0.022650            1600\n",
       "85     dm    0    0.042924            3200\n",
       "102    dm    0    0.203057            6400\n",
       "119    dm    0    6.559495           12800\n",
       "136    dm    0  521.159185           25600"
      ]
     },
     "execution_count": 60,
     "metadata": {},
     "output_type": "execute_result"
    }
   ],
   "source": [
    "variance_result_df.query(\"(index == 'dm')\")"
   ]
  },
  {
   "cell_type": "code",
   "execution_count": 61,
   "metadata": {},
   "outputs": [
    {
     "data": {
      "text/html": [
       "<div>\n",
       "<style scoped>\n",
       "    .dataframe tbody tr th:only-of-type {\n",
       "        vertical-align: middle;\n",
       "    }\n",
       "\n",
       "    .dataframe tbody tr th {\n",
       "        vertical-align: top;\n",
       "    }\n",
       "\n",
       "    .dataframe thead th {\n",
       "        text-align: right;\n",
       "    }\n",
       "</style>\n",
       "<table border=\"1\" class=\"dataframe\">\n",
       "  <thead>\n",
       "    <tr style=\"text-align: right;\">\n",
       "      <th></th>\n",
       "      <th>index</th>\n",
       "      <th>est</th>\n",
       "      <th>bias</th>\n",
       "      <th>n_trajectories</th>\n",
       "    </tr>\n",
       "  </thead>\n",
       "  <tbody>\n",
       "    <tr>\n",
       "      <th>0</th>\n",
       "      <td>dm</td>\n",
       "      <td>0</td>\n",
       "      <td>13.021998</td>\n",
       "      <td>100</td>\n",
       "    </tr>\n",
       "    <tr>\n",
       "      <th>1</th>\n",
       "      <td>dr</td>\n",
       "      <td>0</td>\n",
       "      <td>0.896909</td>\n",
       "      <td>100</td>\n",
       "    </tr>\n",
       "    <tr>\n",
       "      <th>2</th>\n",
       "      <td>drl</td>\n",
       "      <td>0</td>\n",
       "      <td>13.021251</td>\n",
       "      <td>100</td>\n",
       "    </tr>\n",
       "    <tr>\n",
       "      <th>3</th>\n",
       "      <td>on_policy</td>\n",
       "      <td>0</td>\n",
       "      <td>0.000000</td>\n",
       "      <td>100</td>\n",
       "    </tr>\n",
       "    <tr>\n",
       "      <th>4</th>\n",
       "      <td>pdis</td>\n",
       "      <td>0</td>\n",
       "      <td>0.890081</td>\n",
       "      <td>100</td>\n",
       "    </tr>\n",
       "    <tr>\n",
       "      <th>...</th>\n",
       "      <td>...</td>\n",
       "      <td>...</td>\n",
       "      <td>...</td>\n",
       "      <td>...</td>\n",
       "    </tr>\n",
       "    <tr>\n",
       "      <th>148</th>\n",
       "      <td>sm_snis</td>\n",
       "      <td>0</td>\n",
       "      <td>12.979956</td>\n",
       "      <td>25600</td>\n",
       "    </tr>\n",
       "    <tr>\n",
       "      <th>149</th>\n",
       "      <td>sndr</td>\n",
       "      <td>0</td>\n",
       "      <td>7.552213</td>\n",
       "      <td>25600</td>\n",
       "    </tr>\n",
       "    <tr>\n",
       "      <th>150</th>\n",
       "      <td>snpdis</td>\n",
       "      <td>0</td>\n",
       "      <td>0.324456</td>\n",
       "      <td>25600</td>\n",
       "    </tr>\n",
       "    <tr>\n",
       "      <th>151</th>\n",
       "      <td>sntis</td>\n",
       "      <td>0</td>\n",
       "      <td>1.806213</td>\n",
       "      <td>25600</td>\n",
       "    </tr>\n",
       "    <tr>\n",
       "      <th>152</th>\n",
       "      <td>tis</td>\n",
       "      <td>0</td>\n",
       "      <td>2.899793</td>\n",
       "      <td>25600</td>\n",
       "    </tr>\n",
       "  </tbody>\n",
       "</table>\n",
       "<p>153 rows × 4 columns</p>\n",
       "</div>"
      ],
      "text/plain": [
       "         index  est       bias  n_trajectories\n",
       "0           dm    0  13.021998             100\n",
       "1           dr    0   0.896909             100\n",
       "2          drl    0  13.021251             100\n",
       "3    on_policy    0   0.000000             100\n",
       "4         pdis    0   0.890081             100\n",
       "..         ...  ...        ...             ...\n",
       "148    sm_snis    0  12.979956           25600\n",
       "149       sndr    0   7.552213           25600\n",
       "150     snpdis    0   0.324456           25600\n",
       "151      sntis    0   1.806213           25600\n",
       "152        tis    0   2.899793           25600\n",
       "\n",
       "[153 rows x 4 columns]"
      ]
     },
     "execution_count": 61,
     "metadata": {},
     "output_type": "execute_result"
    }
   ],
   "source": [
    "bias_result_df\n"
   ]
  },
  {
   "cell_type": "code",
   "execution_count": 62,
   "metadata": {},
   "outputs": [
    {
     "name": "stderr",
     "output_type": "stream",
     "text": [
      "/var/folders/48/ly7vft814qv_x6krlfw5s8_c0000gn/T/ipykernel_70704/2275894496.py:7: FutureWarning: \n",
      "\n",
      "The `ci` parameter is deprecated. Use `errorbar=None` for the same effect.\n",
      "\n",
      "  sns.lineplot(\n"
     ]
    },
    {
     "data": {
      "image/png": "[encoded data removed]",
      "text/plain": [
       "<Figure size 1000x700 with 1 Axes>"
      ]
     },
     "metadata": {},
     "output_type": "display_data"
    }
   ],
   "source": [
    "# figure configs\n",
    "# query = \"(est == 'DM' or est == 'IPS') and num_data <= 6400\"\n",
    "xlabels = [100, 400, 1600, 6400]\n",
    "\n",
    "plt.style.use('ggplot')\n",
    "fig, ax = plt.subplots(figsize=(10, 7), tight_layout=True)\n",
    "sns.lineplot(\n",
    "    linewidth=5,\n",
    "    dashes=False,\n",
    "    legend=False,\n",
    "    x=\"n_trajectories\",\n",
    "    y=\"bias\",\n",
    "    hue=\"index\",\n",
    "    ax=ax,\n",
    "    data=bias_result_df.query(\"(index == 'dm' or index == 'tis')and num_data <= 6400\"),\n",
    "    ci=None,\n",
    ")\n",
    "# title and legend\n",
    "ax.legend([\"DM\", \"TIS\"], loc=\"upper right\", fontsize=25)\n",
    "# yaxis\n",
    "# ax.set_yscale(\"log\")\n",
    "ax.set_ylabel(\"bias\", fontsize=25)\n",
    "ax.tick_params(axis=\"y\", labelsize=15)\n",
    "ax.yaxis.set_label_coords(-0.08, 0.5)\n",
    "# xaxis\n",
    "ax.set_xscale(\"log\")\n",
    "ax.set_xlabel(\"number of trajectories\", fontsize=25)\n",
    "ax.set_xticks(xlabels)\n",
    "ax.set_xticklabels(xlabels, fontsize=15)\n",
    "ax.xaxis.set_label_coords(0.5, -0.1)"
   ]
  },
  {
   "cell_type": "code",
   "execution_count": 63,
   "metadata": {},
   "outputs": [
    {
     "name": "stderr",
     "output_type": "stream",
     "text": [
      "/var/folders/48/ly7vft814qv_x6krlfw5s8_c0000gn/T/ipykernel_70704/2084000416.py:7: FutureWarning: \n",
      "\n",
      "The `ci` parameter is deprecated. Use `errorbar=None` for the same effect.\n",
      "\n",
      "  sns.lineplot(\n"
     ]
    },
    {
     "data": {
      "image/png": "[encoded data removed]",
      "text/plain": [
       "<Figure size 1000x700 with 1 Axes>"
      ]
     },
     "metadata": {},
     "output_type": "display_data"
    }
   ],
   "source": [
    "# figure configs\n",
    "# query = \"(est == 'DM' or est == 'IPS') and num_data <= 6400\"\n",
    "xlabels = [100, 400, 1600, 6400]\n",
    "\n",
    "plt.style.use('ggplot')\n",
    "fig, ax = plt.subplots(figsize=(10, 7), tight_layout=True)\n",
    "sns.lineplot(\n",
    "    linewidth=5,\n",
    "    dashes=False,\n",
    "    legend=False,\n",
    "    x=\"n_trajectories\",\n",
    "    y=\"bias\",\n",
    "    hue=\"index\",\n",
    "    ax=ax,\n",
    "    data=bias_result_df.query(\"(index == 'dm' or index == 'dr')\"),\n",
    "    ci=None,\n",
    ")\n",
    "# title and legend\n",
    "ax.legend([\"DM\", \"DR\"], loc=\"upper right\", fontsize=25)\n",
    "# yaxis\n",
    "# ax.set_yscale(\"log\")\n",
    "ax.set_ylabel(\"bias\", fontsize=25)\n",
    "ax.tick_params(axis=\"y\", labelsize=15)\n",
    "ax.yaxis.set_label_coords(-0.08, 0.5)\n",
    "# xaxis\n",
    "ax.set_xscale(\"log\")\n",
    "ax.set_xlabel(\"number of trajectories\", fontsize=25)\n",
    "ax.set_xticks(xlabels)\n",
    "ax.set_xticklabels(xlabels, fontsize=15)\n",
    "ax.xaxis.set_label_coords(0.5, -0.1)"
   ]
  },
  {
   "cell_type": "code",
   "execution_count": 64,
   "metadata": {},
   "outputs": [
    {
     "data": {
      "text/html": [
       "<div>\n",
       "<style scoped>\n",
       "    .dataframe tbody tr th:only-of-type {\n",
       "        vertical-align: middle;\n",
       "    }\n",
       "\n",
       "    .dataframe tbody tr th {\n",
       "        vertical-align: top;\n",
       "    }\n",
       "\n",
       "    .dataframe thead th {\n",
       "        text-align: right;\n",
       "    }\n",
       "</style>\n",
       "<table border=\"1\" class=\"dataframe\">\n",
       "  <thead>\n",
       "    <tr style=\"text-align: right;\">\n",
       "      <th></th>\n",
       "      <th>index</th>\n",
       "      <th>est</th>\n",
       "      <th>variance</th>\n",
       "      <th>n_trajectories</th>\n",
       "    </tr>\n",
       "  </thead>\n",
       "  <tbody>\n",
       "    <tr>\n",
       "      <th>0</th>\n",
       "      <td>dm</td>\n",
       "      <td>0</td>\n",
       "      <td>0.014763</td>\n",
       "      <td>100</td>\n",
       "    </tr>\n",
       "    <tr>\n",
       "      <th>1</th>\n",
       "      <td>dr</td>\n",
       "      <td>0</td>\n",
       "      <td>0.471468</td>\n",
       "      <td>100</td>\n",
       "    </tr>\n",
       "    <tr>\n",
       "      <th>2</th>\n",
       "      <td>drl</td>\n",
       "      <td>0</td>\n",
       "      <td>0.014601</td>\n",
       "      <td>100</td>\n",
       "    </tr>\n",
       "    <tr>\n",
       "      <th>3</th>\n",
       "      <td>on_policy</td>\n",
       "      <td>0</td>\n",
       "      <td>0.064765</td>\n",
       "      <td>100</td>\n",
       "    </tr>\n",
       "    <tr>\n",
       "      <th>4</th>\n",
       "      <td>pdis</td>\n",
       "      <td>0</td>\n",
       "      <td>0.486707</td>\n",
       "      <td>100</td>\n",
       "    </tr>\n",
       "    <tr>\n",
       "      <th>...</th>\n",
       "      <td>...</td>\n",
       "      <td>...</td>\n",
       "      <td>...</td>\n",
       "      <td>...</td>\n",
       "    </tr>\n",
       "    <tr>\n",
       "      <th>148</th>\n",
       "      <td>sm_snis</td>\n",
       "      <td>0</td>\n",
       "      <td>0.000000</td>\n",
       "      <td>25600</td>\n",
       "    </tr>\n",
       "    <tr>\n",
       "      <th>149</th>\n",
       "      <td>sndr</td>\n",
       "      <td>0</td>\n",
       "      <td>3.679266</td>\n",
       "      <td>25600</td>\n",
       "    </tr>\n",
       "    <tr>\n",
       "      <th>150</th>\n",
       "      <td>snpdis</td>\n",
       "      <td>0</td>\n",
       "      <td>0.001403</td>\n",
       "      <td>25600</td>\n",
       "    </tr>\n",
       "    <tr>\n",
       "      <th>151</th>\n",
       "      <td>sntis</td>\n",
       "      <td>0</td>\n",
       "      <td>0.094222</td>\n",
       "      <td>25600</td>\n",
       "    </tr>\n",
       "    <tr>\n",
       "      <th>152</th>\n",
       "      <td>tis</td>\n",
       "      <td>0</td>\n",
       "      <td>0.331026</td>\n",
       "      <td>25600</td>\n",
       "    </tr>\n",
       "  </tbody>\n",
       "</table>\n",
       "<p>153 rows × 4 columns</p>\n",
       "</div>"
      ],
      "text/plain": [
       "         index  est  variance  n_trajectories\n",
       "0           dm    0  0.014763             100\n",
       "1           dr    0  0.471468             100\n",
       "2          drl    0  0.014601             100\n",
       "3    on_policy    0  0.064765             100\n",
       "4         pdis    0  0.486707             100\n",
       "..         ...  ...       ...             ...\n",
       "148    sm_snis    0  0.000000           25600\n",
       "149       sndr    0  3.679266           25600\n",
       "150     snpdis    0  0.001403           25600\n",
       "151      sntis    0  0.094222           25600\n",
       "152        tis    0  0.331026           25600\n",
       "\n",
       "[153 rows x 4 columns]"
      ]
     },
     "execution_count": 64,
     "metadata": {},
     "output_type": "execute_result"
    }
   ],
   "source": [
    "variance_result_df"
   ]
  },
  {
   "cell_type": "code",
   "execution_count": 75,
   "metadata": {},
   "outputs": [
    {
     "name": "stderr",
     "output_type": "stream",
     "text": [
      "/var/folders/48/ly7vft814qv_x6krlfw5s8_c0000gn/T/ipykernel_70704/3711746799.py:7: FutureWarning: \n",
      "\n",
      "The `ci` parameter is deprecated. Use `errorbar=None` for the same effect.\n",
      "\n",
      "  sns.lineplot(\n"
     ]
    },
    {
     "data": {
      "image/png": "[encoded data removed]",
      "text/plain": [
       "<Figure size 1000x700 with 1 Axes>"
      ]
     },
     "metadata": {},
     "output_type": "display_data"
    }
   ],
   "source": [
    "# figure configs\n",
    "# query = \"(est == 'DM' or est == 'IPS') and num_data <= 6400\"\n",
    "xlabels = [100, 400, 1600, 6400, 12800]\n",
    "\n",
    "plt.style.use('ggplot')\n",
    "fig, ax = plt.subplots(figsize=(10, 7), tight_layout=True)\n",
    "sns.lineplot(\n",
    "    linewidth=5,\n",
    "    dashes=False,\n",
    "    legend=False,\n",
    "    x=\"n_trajectories\",\n",
    "    y=\"variance\",\n",
    "    hue=\"index\",\n",
    "    ax=ax,\n",
    "    data=variance_result_df.query(\"(index == 'dm' or index == 'tis') and n_trajectories <= 12800\"),\n",
    "    ci=None,\n",
    ")\n",
    "# title and legend\n",
    "ax.legend([\"DM\", \"TIS\"], loc=\"upper right\", fontsize=25)\n",
    "# yaxis\n",
    "# ax.set_yscale(\"log\")\n",
    "ax.set_ylabel(\"variance\", fontsize=25)\n",
    "ax.tick_params(axis=\"y\", labelsize=15)\n",
    "ax.yaxis.set_label_coords(-0.08, 0.5)\n",
    "# xaxis\n",
    "ax.set_xscale(\"log\")\n",
    "ax.set_xlabel(\"number of trajectories\", fontsize=25)\n",
    "ax.set_xticks(xlabels)\n",
    "ax.set_xticklabels(xlabels, fontsize=15)\n",
    "ax.xaxis.set_label_coords(0.5, -0.1)"
   ]
  },
  {
   "cell_type": "code",
   "execution_count": 80,
   "metadata": {},
   "outputs": [
    {
     "name": "stderr",
     "output_type": "stream",
     "text": [
      "/var/folders/48/ly7vft814qv_x6krlfw5s8_c0000gn/T/ipykernel_70704/2997964467.py:7: FutureWarning: \n",
      "\n",
      "The `ci` parameter is deprecated. Use `errorbar=None` for the same effect.\n",
      "\n",
      "  sns.lineplot(\n"
     ]
    },
    {
     "data": {
      "image/png": "[encoded data removed]",
      "text/plain": [
       "<Figure size 1000x700 with 1 Axes>"
      ]
     },
     "metadata": {},
     "output_type": "display_data"
    }
   ],
   "source": [
    "# figure configs\n",
    "# query = \"(est == 'DM' or est == 'IPS') and num_data <= 6400\"\n",
    "xlabels = [100, 400, 1600, 6400]\n",
    "\n",
    "plt.style.use('ggplot')\n",
    "fig, ax = plt.subplots(figsize=(10, 7), tight_layout=True)\n",
    "sns.lineplot(\n",
    "    linewidth=5,\n",
    "    dashes=False,\n",
    "    legend=False,\n",
    "    x=\"n_trajectories\",\n",
    "    y=\"variance\",\n",
    "    hue=\"index\",\n",
    "    ax=ax,\n",
    "    data=variance_result_df.query(\"(index == 'pdis' or index == 'tis')\"),\n",
    "    ci=None,\n",
    ")\n",
    "# title and legend\n",
    "ax.legend([\"PDIS\", \"TIS\"], loc=\"upper right\", fontsize=25)\n",
    "# yaxis\n",
    "# ax.set_yscale(\"log\")\n",
    "ax.set_ylabel(\"variance\", fontsize=25)\n",
    "ax.tick_params(axis=\"y\", labelsize=15)\n",
    "ax.yaxis.set_label_coords(-0.08, 0.5)\n",
    "# xaxis\n",
    "ax.set_xscale(\"log\")\n",
    "ax.set_xlabel(\"number of trajectories\", fontsize=25)\n",
    "ax.set_xticks(xlabels)\n",
    "ax.set_xticklabels(xlabels, fontsize=15)\n",
    "ax.xaxis.set_label_coords(0.5, -0.1)"
   ]
  },
  {
   "cell_type": "code",
   "execution_count": 74,
   "metadata": {},
   "outputs": [
    {
     "name": "stderr",
     "output_type": "stream",
     "text": [
      "/var/folders/48/ly7vft814qv_x6krlfw5s8_c0000gn/T/ipykernel_70704/79488338.py:7: FutureWarning: \n",
      "\n",
      "The `ci` parameter is deprecated. Use `errorbar=None` for the same effect.\n",
      "\n",
      "  sns.lineplot(\n"
     ]
    },
    {
     "data": {
      "image/png": "[encoded data removed]",
      "text/plain": [
       "<Figure size 1000x700 with 1 Axes>"
      ]
     },
     "metadata": {},
     "output_type": "display_data"
    }
   ],
   "source": [
    "# figure configs\n",
    "# query = \"(est == 'DM' or est == 'IPS') and num_data <= 6400\"\n",
    "xlabels = [100, 400, 1600, 6400, 12800]\n",
    "\n",
    "plt.style.use('ggplot')\n",
    "fig, ax = plt.subplots(figsize=(10, 7), tight_layout=True)\n",
    "sns.lineplot(\n",
    "    linewidth=5,\n",
    "    dashes=False,\n",
    "    legend=False,\n",
    "    x=\"n_trajectories\",\n",
    "    y=\"variance\",\n",
    "    hue=\"index\",\n",
    "    ax=ax,\n",
    "    data=variance_result_df.query(\"(index == 'pdis' or index == 'dm')  and n_trajectories <= 12800\"),\n",
    "    ci=None,\n",
    ")\n",
    "# title and legend\n",
    "ax.legend([\"PDIS\", \"DM\"], loc=\"upper right\", fontsize=25)\n",
    "# yaxis\n",
    "# ax.set_yscale(\"log\")\n",
    "ax.set_ylabel(\"variance\", fontsize=25)\n",
    "ax.tick_params(axis=\"y\", labelsize=15)\n",
    "ax.yaxis.set_label_coords(-0.08, 0.5)\n",
    "# xaxis\n",
    "ax.set_xscale(\"log\")\n",
    "ax.set_xlabel(\"number of trajectories\", fontsize=25)\n",
    "ax.set_xticks(xlabels)\n",
    "ax.set_xticklabels(xlabels, fontsize=15)\n",
    "ax.xaxis.set_label_coords(0.5, -0.1)"
   ]
  },
  {
   "cell_type": "code",
   "execution_count": 85,
   "metadata": {},
   "outputs": [
    {
     "name": "stderr",
     "output_type": "stream",
     "text": [
      "/var/folders/48/ly7vft814qv_x6krlfw5s8_c0000gn/T/ipykernel_70704/1241820721.py:7: FutureWarning: \n",
      "\n",
      "The `ci` parameter is deprecated. Use `errorbar=None` for the same effect.\n",
      "\n",
      "  sns.lineplot(\n"
     ]
    },
    {
     "data": {
      "image/png": "[encoded data removed]",
      "text/plain": [
       "<Figure size 1000x700 with 1 Axes>"
      ]
     },
     "metadata": {},
     "output_type": "display_data"
    }
   ],
   "source": [
    "# figure configs\n",
    "# query = \"(est == 'DM' or est == 'IPS') and num_data <= 6400\"\n",
    "xlabels = [100, 400, 1600, 6400]\n",
    "\n",
    "plt.style.use('ggplot')\n",
    "fig, ax = plt.subplots(figsize=(10, 7), tight_layout=True)\n",
    "sns.lineplot(\n",
    "    linewidth=5,\n",
    "    dashes=False,\n",
    "    legend=False,\n",
    "    x=\"n_trajectories\",\n",
    "    y=\"variance\",\n",
    "    hue=\"index\",\n",
    "    ax=ax,\n",
    "    # data=variance_result_df.query(\"(index == 'pdis' or index == 'dm') and n_trajectories <= 12800\"),\n",
    "    data=variance_result_df.query(\"(index == 'dr')\"),\n",
    "    ci=None,\n",
    ")\n",
    "# title and legend\n",
    "ax.legend([\"DR\"], loc=\"upper right\", fontsize=25)\n",
    "# yaxis\n",
    "# ax.set_yscale(\"log\")\n",
    "ax.set_ylabel(\"variance\", fontsize=25)\n",
    "ax.tick_params(axis=\"y\", labelsize=15)\n",
    "ax.yaxis.set_label_coords(-0.08, 0.5)\n",
    "# xaxis\n",
    "ax.set_xscale(\"log\")\n",
    "ax.set_xlabel(\"number of trajectories\", fontsize=25)\n",
    "ax.set_xticks(xlabels)\n",
    "ax.set_xticklabels(xlabels, fontsize=15)\n",
    "ax.xaxis.set_label_coords(0.5, -0.1)"
   ]
  },
  {
   "cell_type": "code",
   "execution_count": null,
   "metadata": {},
   "outputs": [],
   "source": []
  },
  {
   "cell_type": "code",
   "execution_count": null,
   "metadata": {},
   "outputs": [],
   "source": []
  }
 ],
 "metadata": {
  "kernelspec": {
   "display_name": "Python 3",
   "language": "python",
   "name": "python3"
  },
  "language_info": {
   "codemirror_mode": {
    "name": "ipython",
    "version": 3
   },
   "file_extension": ".py",
   "mimetype": "text/x-python",
   "name": "python",
   "nbconvert_exporter": "python",
   "pygments_lexer": "ipython3",
   "version": "3.10.6 (main, Sep 10 2022, 14:58:52) [Clang 13.1.6 (clang-1316.0.21.2.5)]"
  },
  "orig_nbformat": 4,
  "vscode": {
   "interpreter": {
    "hash": "70404ee114725fce8ed9e697d67827f8546c678889944e6d695790702cbfe1f5"
   }
  }
 },
 "nbformat": 4,
 "nbformat_minor": 2
}
