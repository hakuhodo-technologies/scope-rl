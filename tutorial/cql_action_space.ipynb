{
 "cells": [
  {
   "cell_type": "code",
   "execution_count": 7,
   "metadata": {},
   "outputs": [],
   "source": [
    "import sys\n",
    "sys.path.append('../')\n",
    "sys.path.append('../../')"
   ]
  },
  {
   "cell_type": "code",
   "execution_count": 8,
   "metadata": {},
   "outputs": [],
   "source": [
    "# implement data collection procedure on the RTBGym environment\n",
    "\n",
    "# import OFRL modules\n",
    "import ofrl\n",
    "from rtbgym import RTBEnv, CustomizedRTBEnv\n",
    "from basicgym import BasicEnv\n",
    "from ofrl.dataset import SyntheticDataset\n",
    "from ofrl.policy import OnlineHead, ContinuousEvalHead\n",
    "from ofrl.policy import ContinuousTruncatedGaussianHead as TruncatedGaussianHead\n",
    "from ofrl.ope.online import (\n",
    "    calc_on_policy_policy_value,\n",
    "    visualize_on_policy_policy_value,\n",
    ")\n",
    "from ofrl.utils import MinMaxScaler, MinMaxActionScaler\n",
    "\n",
    "# import d3rlpy algorithms\n",
    "from d3rlpy.algos import RandomPolicy\n",
    "# from d3rlpy.preprocessing import MinMaxScaler, MinMaxActionScaler\n",
    "from ofrl.utils import MinMaxScaler, MinMaxActionScaler\n",
    "from ofrl.policy import DiscreteEpsilonGreedyHead as EpsilonGreedyHead\n",
    "\n",
    "# import from other libraries\n",
    "import gym\n",
    "import torch\n",
    "from sklearn.model_selection import train_test_split"
   ]
  },
  {
   "cell_type": "code",
   "execution_count": 9,
   "metadata": {},
   "outputs": [],
   "source": [
    "import pickle\n",
    "from glob import glob\n",
    "from tqdm import tqdm\n",
    "\n",
    "import numpy as np\n",
    "import pandas as pd\n",
    "from pandas import DataFrame\n",
    "\n",
    "import matplotlib.pyplot as plt\n",
    "import seaborn as sns\n",
    "\n",
    "%matplotlib inline"
   ]
  },
  {
   "cell_type": "code",
   "execution_count": 10,
   "metadata": {},
   "outputs": [],
   "source": [
    "# log directory\n",
    "from pathlib import Path\n",
    "Path(\"logs/\").mkdir(exist_ok=True)"
   ]
  },
  {
   "cell_type": "code",
   "execution_count": 11,
   "metadata": {},
   "outputs": [],
   "source": [
    "from ofrl.utils import OldGymAPIWrapper\n",
    "from d3rlpy.algos import SAC\n",
    "from d3rlpy.models.encoders import VectorEncoderFactory\n",
    "from d3rlpy.models.q_functions import MeanQFunctionFactory\n",
    "from d3rlpy.algos import DoubleDQN\n",
    "from d3rlpy.models.encoders import VectorEncoderFactory\n",
    "from d3rlpy.models.q_functions import MeanQFunctionFactory\n",
    "from d3rlpy.online.buffers import ReplayBuffer\n",
    "from d3rlpy.online.explorers import LinearDecayEpsilonGreedy\n"
   ]
  },
  {
   "cell_type": "code",
   "execution_count": null,
   "metadata": {},
   "outputs": [],
   "source": []
  },
  {
   "cell_type": "code",
   "execution_count": 12,
   "metadata": {},
   "outputs": [],
   "source": [
    "from d3rlpy.dataset import MDPDataset\n",
    "from d3rlpy.algos import DiscreteCQL as CQL"
   ]
  },
  {
   "cell_type": "code",
   "execution_count": 13,
   "metadata": {},
   "outputs": [],
   "source": [
    "# import ope modules from OFRL\n",
    "from ofrl.ope import CreateOPEInput\n",
    "from ofrl.ope import OffPolicyEvaluation as OPE\n",
    "# basic estimators\n",
    "# basic estimators\n",
    "from ofrl.ope import DiscreteDirectMethod as DM\n",
    "from ofrl.ope import DiscreteTrajectoryWiseImportanceSampling as TIS\n",
    "from ofrl.ope import DiscretePerDecisionImportanceSampling as PDIS\n",
    "from ofrl.ope import DiscreteDoublyRobust as DR\n",
    "# self normalized estimators\n",
    "from ofrl.ope import DiscreteSelfNormalizedTrajectoryWiseImportanceSampling as SNTIS\n",
    "from ofrl.ope import DiscreteSelfNormalizedPerDecisionImportanceSampling as SNPDIS\n",
    "from ofrl.ope import DiscreteSelfNormalizedDoublyRobust as SNDR\n",
    "# marginal estimators\n",
    "from ofrl.ope import DiscreteStateActionMarginalImportanceSampling as SAMIS\n",
    "from ofrl.ope import DiscreteStateActionMarginalDoublyRobust as SAMDR\n",
    "from ofrl.ope import DiscreteStateMarginalImportanceSampling as SMIS\n",
    "from ofrl.ope import DiscreteStateMarginalDoublyRobust as SMDR\n",
    "from ofrl.ope import DiscreteStateActionMarginalSelfNormalizedImportanceSampling as SAMSNIS\n",
    "from ofrl.ope import DiscreteStateActionMarginalSelfNormalizedDoublyRobust as SAMSNDR\n",
    "from ofrl.ope import DiscreteStateMarginalSelfNormalizedImportanceSampling as SMSNIS\n",
    "from ofrl.ope import DiscreteStateMarginalSelfNormalizedDoublyRobust as SMSNDR\n",
    "# double reinforcement learning estimators\n",
    "from ofrl.ope import DiscreteDoubleReinforcementLearning as DRL"
   ]
  },
  {
   "cell_type": "code",
   "execution_count": 14,
   "metadata": {},
   "outputs": [],
   "source": [
    "basic_estimators = [DM(), TIS(), PDIS(), DR(), SNTIS(), SNPDIS(), SNDR()]\n",
    "state_marginal_estimators = [SMIS(), SMDR(), SMSNIS(), SMSNDR()]\n",
    "state_action_marginal_estimators = [SAMIS(), SAMDR(), SAMSNIS(), SAMSNDR()]\n",
    "drl_estimators = [DRL()]\n",
    "all_estimators = basic_estimators + state_marginal_estimators + state_action_marginal_estimators + drl_estimators\n",
    "\n",
    "basic_estimators_name = [\"dm\", \"tis\", \"pdis\", \"dr\", \"sntis\", \"snpdis\", \"sndr\"]\n",
    "state_marginal_estimators_name = [\"sm_is\", \"sm_dr\", \"sm_snis\", \"sm_sndr\"]\n",
    "state_action_marginal_estimators_name = [\"sam_is\", \"sam_dr\", \"sam_snis\", \"sam_sndr\"]\n",
    "drl_estimators_name = [\"drl\"]"
   ]
  },
  {
   "cell_type": "code",
   "execution_count": 15,
   "metadata": {},
   "outputs": [],
   "source": [
    "\n",
    "# n_actionss_list = [5, 10, 20, 40, 60, 80]\n",
    "n_actionss_list = [5, 10, 15, 20, 25]\n",
    "\n",
    "# random_state_list = [10, 20, 30]\n",
    "# random_state_list = [100, 200, 300]\n",
    "random_state_list = [10, 20, 30, 40, 50, 60]\n",
    "bias_df_list = []\n",
    "variance_df_list = []\n",
    "mse_df_list = []\n",
    "\n",
    "bias_result_df = DataFrame()\n",
    "variance_result_df = DataFrame()\n",
    "mse_result_df = DataFrame()\n"
   ]
  },
  {
   "cell_type": "code",
   "execution_count": null,
   "metadata": {},
   "outputs": [],
   "source": []
  },
  {
   "cell_type": "code",
   "execution_count": 10,
   "metadata": {},
   "outputs": [
    {
     "name": "stdout",
     "output_type": "stream",
     "text": [
      "2023-04-06 12:00.12 [info     ] Directory is created at d3rlpy_logs/DoubleDQN_online_20230406120012\n",
      "2023-04-06 12:00.12 [debug    ] Building model...\n",
      "2023-04-06 12:00.12 [debug    ] Model has been built.\n",
      "2023-04-06 12:00.12 [info     ] Parameters are saved to d3rlpy_logs/DoubleDQN_online_20230406120012/params.json params={'action_scaler': None, 'batch_size': 32, 'encoder_factory': {'type': 'vector', 'params': {'hidden_units': [30, 30], 'activation': 'relu', 'use_batch_norm': False, 'dropout_rate': None, 'use_dense': False}}, 'gamma': 0.99, 'generated_maxlen': 100000, 'learning_rate': 6.25e-05, 'n_critics': 1, 'n_frames': 1, 'n_steps': 1, 'optim_factory': {'optim_cls': 'Adam', 'betas': (0.9, 0.999), 'eps': 1e-08, 'weight_decay': 0, 'amsgrad': False}, 'q_func_factory': {'type': 'mean', 'params': {'share_encoder': False}}, 'real_ratio': 1.0, 'reward_scaler': None, 'scaler': None, 'target_update_interval': 100, 'use_gpu': None, 'algorithm': 'DoubleDQN', 'observation_shape': (5,), 'action_size': 5}\n"
     ]
    },
    {
     "name": "stderr",
     "output_type": "stream",
     "text": [
      "/Users/ren/.pyenv/versions/3.10.6/lib/python3.10/site-packages/gym/utils/passive_env_checker.py:187: UserWarning: \u001b[33mWARN: Future gym versions will require that `Env.reset` can be passed `options` to allow the environment initialisation to be passed additional information.\u001b[0m\n",
      "  logger.warn(\n"
     ]
    },
    {
     "data": {
      "application/vnd.jupyter.widget-view+json": {
       "model_id": "5f5b0deba513468d8421dc34c0ba5a78",
       "version_major": 2,
       "version_minor": 0
      },
      "text/plain": [
       "  0%|          | 0/100000 [00:00<?, ?it/s]"
      ]
     },
     "metadata": {},
     "output_type": "display_data"
    },
    {
     "name": "stdout",
     "output_type": "stream",
     "text": [
      "2023-04-06 12:00.12 [info     ] Model parameters are saved to d3rlpy_logs/DoubleDQN_online_20230406120012/model_1000.pt\n",
      "2023-04-06 12:00.12 [info     ] DoubleDQN_online_20230406120012: epoch=1 step=1000 epoch=1 metrics={'time_inference': 0.0002747185230255127, 'time_environment_step': 5.741000175476074e-05, 'time_step': 0.00034981727600097656, 'rollout_return': -0.06537132159943537, 'evaluation': 0.9140159945250987} step=1000\n",
      "2023-04-06 12:00.14 [info     ] Model parameters are saved to d3rlpy_logs/DoubleDQN_online_20230406120012/model_2000.pt\n",
      "2023-04-06 12:00.14 [info     ] DoubleDQN_online_20230406120012: epoch=2 step=2000 epoch=2 metrics={'time_inference': 0.00023915290832519532, 'time_environment_step': 5.903029441833496e-05, 'time_sample_batch': 4.994344711303711e-05, 'time_algorithm_update': 0.001115530014038086, 'loss': 0.06052437738794834, 'time_step': 0.001493802785873413, 'rollout_return': 2.6205145247649937, 'evaluation': 3.0354280700592216} step=2000\n",
      "2023-04-06 12:00.16 [info     ] Model parameters are saved to d3rlpy_logs/DoubleDQN_online_20230406120012/model_3000.pt\n",
      "2023-04-06 12:00.16 [info     ] DoubleDQN_online_20230406120012: epoch=3 step=3000 epoch=3 metrics={'time_inference': 0.00029288339614868164, 'time_environment_step': 7.651734352111817e-05, 'time_sample_batch': 5.93109130859375e-05, 'time_algorithm_update': 0.00140755295753479, 'loss': 0.16154464811831712, 'time_step': 0.0018759946823120118, 'rollout_return': 2.7085165229867503, 'evaluation': 3.053655800737199} step=3000\n",
      "2023-04-06 12:00.18 [info     ] Model parameters are saved to d3rlpy_logs/DoubleDQN_online_20230406120012/model_4000.pt\n",
      "2023-04-06 12:00.18 [info     ] DoubleDQN_online_20230406120012: epoch=4 step=4000 epoch=4 metrics={'time_inference': 0.0002765867710113525, 'time_environment_step': 6.902194023132325e-05, 'time_sample_batch': 5.864381790161133e-05, 'time_algorithm_update': 0.0013073413372039794, 'loss': 0.2741226811558008, 'time_step': 0.001747044324874878, 'rollout_return': 2.7956589940846284, 'evaluation': 3.0359100345644174} step=4000\n",
      "2023-04-06 12:00.19 [info     ] Model parameters are saved to d3rlpy_logs/DoubleDQN_online_20230406120012/model_5000.pt\n",
      "2023-04-06 12:00.19 [info     ] DoubleDQN_online_20230406120012: epoch=5 step=5000 epoch=5 metrics={'time_inference': 0.00029059648513793943, 'time_environment_step': 7.968902587890625e-05, 'time_sample_batch': 6.229591369628907e-05, 'time_algorithm_update': 0.0013774058818817139, 'loss': 0.2966158834323287, 'time_step': 0.0018463160991668702, 'rollout_return': 2.808896760652981, 'evaluation': 3.1187871511018157} step=5000\n",
      "2023-04-06 12:00.21 [info     ] Model parameters are saved to d3rlpy_logs/DoubleDQN_online_20230406120012/model_6000.pt\n",
      "2023-04-06 12:00.21 [info     ] DoubleDQN_online_20230406120012: epoch=6 step=6000 epoch=6 metrics={'time_inference': 0.0003028430938720703, 'time_environment_step': 7.725167274475098e-05, 'time_sample_batch': 6.145954132080077e-05, 'time_algorithm_update': 0.0014247324466705323, 'loss': 0.22106112254038454, 'time_step': 0.0019093194007873534, 'rollout_return': 2.8511113625852427, 'evaluation': 3.2880163882636295} step=6000\n",
      "2023-04-06 12:00.23 [info     ] Model parameters are saved to d3rlpy_logs/DoubleDQN_online_20230406120012/model_7000.pt\n",
      "2023-04-06 12:00.23 [info     ] DoubleDQN_online_20230406120012: epoch=7 step=7000 epoch=7 metrics={'time_inference': 0.000257756233215332, 'time_environment_step': 6.542873382568359e-05, 'time_sample_batch': 5.439829826354981e-05, 'time_algorithm_update': 0.0011700353622436524, 'loss': 0.1390968616195023, 'time_step': 0.0015793378353118896, 'rollout_return': 2.8748300645063325, 'evaluation': 3.0116322496157877} step=7000\n",
      "2023-04-06 12:00.25 [info     ] Model parameters are saved to d3rlpy_logs/DoubleDQN_online_20230406120012/model_8000.pt\n",
      "2023-04-06 12:00.25 [info     ] DoubleDQN_online_20230406120012: epoch=8 step=8000 epoch=8 metrics={'time_inference': 0.0002467465400695801, 'time_environment_step': 6.0628890991210936e-05, 'time_sample_batch': 5.2513599395751955e-05, 'time_algorithm_update': 0.0011224162578582764, 'loss': 0.09625620134361089, 'time_step': 0.0015134735107421875, 'rollout_return': 2.960785018171068, 'evaluation': 3.2158970666316313} step=8000\n",
      "2023-04-06 12:00.26 [info     ] Model parameters are saved to d3rlpy_logs/DoubleDQN_online_20230406120012/model_9000.pt\n",
      "2023-04-06 12:00.26 [info     ] DoubleDQN_online_20230406120012: epoch=9 step=9000 epoch=9 metrics={'time_inference': 0.00025681066513061525, 'time_environment_step': 6.361913681030274e-05, 'time_sample_batch': 5.571818351745606e-05, 'time_algorithm_update': 0.0012561647891998291, 'loss': 0.0903655327372253, 'time_step': 0.0016637499332427979, 'rollout_return': 2.8521813526190063, 'evaluation': 3.19198443249818} step=9000\n",
      "2023-04-06 12:00.28 [info     ] Model parameters are saved to d3rlpy_logs/DoubleDQN_online_20230406120012/model_10000.pt\n",
      "2023-04-06 12:00.28 [info     ] DoubleDQN_online_20230406120012: epoch=10 step=10000 epoch=10 metrics={'time_inference': 0.0002726409435272217, 'time_environment_step': 7.18393325805664e-05, 'time_sample_batch': 6.784725189208984e-05, 'time_algorithm_update': 0.0014550259113311767, 'loss': 0.09033498815819621, 'time_step': 0.0019029872417449952, 'rollout_return': 2.853360072806568, 'evaluation': 3.2116498459501175} step=10000\n",
      "2023-04-06 12:00.30 [info     ] Model parameters are saved to d3rlpy_logs/DoubleDQN_online_20230406120012/model_11000.pt\n",
      "2023-04-06 12:00.30 [info     ] DoubleDQN_online_20230406120012: epoch=11 step=11000 epoch=11 metrics={'time_inference': 0.00024977874755859373, 'time_environment_step': 6.173753738403321e-05, 'time_sample_batch': 5.453944206237793e-05, 'time_algorithm_update': 0.001130915403366089, 'loss': 0.08722847043350339, 'time_step': 0.0015294060707092285, 'rollout_return': 2.9358205728951163, 'evaluation': 3.0994605380621842} step=11000\n",
      "2023-04-06 12:00.32 [info     ] Model parameters are saved to d3rlpy_logs/DoubleDQN_online_20230406120012/model_12000.pt\n",
      "2023-04-06 12:00.32 [info     ] DoubleDQN_online_20230406120012: epoch=12 step=12000 epoch=12 metrics={'time_inference': 0.00024262666702270507, 'time_environment_step': 6.470727920532226e-05, 'time_sample_batch': 5.688881874084473e-05, 'time_algorithm_update': 0.0011866195201873778, 'loss': 0.08842307259142398, 'time_step': 0.001582660675048828, 'rollout_return': 2.8306864906944487, 'evaluation': 3.155343023245654} step=12000\n",
      "2023-04-06 12:00.33 [info     ] Model parameters are saved to d3rlpy_logs/DoubleDQN_online_20230406120012/model_13000.pt\n",
      "2023-04-06 12:00.33 [info     ] DoubleDQN_online_20230406120012: epoch=13 step=13000 epoch=13 metrics={'time_inference': 0.00025599336624145506, 'time_environment_step': 6.30936622619629e-05, 'time_sample_batch': 5.607342720031738e-05, 'time_algorithm_update': 0.0011943964958190919, 'loss': 0.0900102862920612, 'time_step': 0.0016020901203155518, 'rollout_return': 2.8534996229959306, 'evaluation': 3.1584201767385074} step=13000\n",
      "2023-04-06 12:00.35 [info     ] Model parameters are saved to d3rlpy_logs/DoubleDQN_online_20230406120012/model_14000.pt\n",
      "2023-04-06 12:00.35 [info     ] DoubleDQN_online_20230406120012: epoch=14 step=14000 epoch=14 metrics={'time_inference': 0.0002571275234222412, 'time_environment_step': 6.318521499633788e-05, 'time_sample_batch': 5.531454086303711e-05, 'time_algorithm_update': 0.0011988470554351806, 'loss': 0.08928985181450844, 'time_step': 0.0016073360443115234, 'rollout_return': 2.9234777949475443, 'evaluation': 3.2098068155491064} step=14000\n",
      "2023-04-06 12:00.37 [info     ] Model parameters are saved to d3rlpy_logs/DoubleDQN_online_20230406120012/model_15000.pt\n",
      "2023-04-06 12:00.37 [info     ] DoubleDQN_online_20230406120012: epoch=15 step=15000 epoch=15 metrics={'time_inference': 0.0002710697650909424, 'time_environment_step': 6.491851806640625e-05, 'time_sample_batch': 5.711221694946289e-05, 'time_algorithm_update': 0.0014174129962921142, 'loss': 0.08930774184688926, 'time_step': 0.001845506191253662, 'rollout_return': 2.910926275623882, 'evaluation': 3.4171788043557756} step=15000\n",
      "2023-04-06 12:00.39 [info     ] Model parameters are saved to d3rlpy_logs/DoubleDQN_online_20230406120012/model_16000.pt\n",
      "2023-04-06 12:00.39 [info     ] DoubleDQN_online_20230406120012: epoch=16 step=16000 epoch=16 metrics={'time_inference': 0.0003147284984588623, 'time_environment_step': 7.230162620544433e-05, 'time_sample_batch': 7.726240158081055e-05, 'time_algorithm_update': 0.0016562540531158446, 'loss': 0.09153919256664812, 'time_step': 0.002158260107040405, 'rollout_return': 2.9013099122035455, 'evaluation': 3.2699609126977647} step=16000\n",
      "2023-04-06 12:00.41 [info     ] Model parameters are saved to d3rlpy_logs/DoubleDQN_online_20230406120012/model_17000.pt\n",
      "2023-04-06 12:00.41 [info     ] DoubleDQN_online_20230406120012: epoch=17 step=17000 epoch=17 metrics={'time_inference': 0.00026783132553100586, 'time_environment_step': 6.750726699829102e-05, 'time_sample_batch': 5.8561325073242186e-05, 'time_algorithm_update': 0.0013110127449035645, 'loss': 0.09306546180695295, 'time_step': 0.0017394332885742189, 'rollout_return': 2.8750794675067186, 'evaluation': 3.20314798091443} step=17000\n",
      "2023-04-06 12:00.43 [info     ] Model parameters are saved to d3rlpy_logs/DoubleDQN_online_20230406120012/model_18000.pt\n",
      "2023-04-06 12:00.43 [info     ] DoubleDQN_online_20230406120012: epoch=18 step=18000 epoch=18 metrics={'time_inference': 0.00029078197479248045, 'time_environment_step': 7.297253608703614e-05, 'time_sample_batch': 6.342220306396484e-05, 'time_algorithm_update': 0.0014263370037078857, 'loss': 0.09360943527147174, 'time_step': 0.001895136594772339, 'rollout_return': 2.883211312513498, 'evaluation': 3.1931279498482796} step=18000\n",
      "2023-04-06 12:00.44 [info     ] Model parameters are saved to d3rlpy_logs/DoubleDQN_online_20230406120012/model_19000.pt\n",
      "2023-04-06 12:00.44 [info     ] DoubleDQN_online_20230406120012: epoch=19 step=19000 epoch=19 metrics={'time_inference': 0.00026784396171569827, 'time_environment_step': 7.003355026245118e-05, 'time_sample_batch': 5.991911888122558e-05, 'time_algorithm_update': 0.0012529828548431396, 'loss': 0.09135867689922451, 'time_step': 0.0016862189769744874, 'rollout_return': 2.896174973174758, 'evaluation': 3.2287215266837754} step=19000\n",
      "2023-04-06 12:00.46 [info     ] Model parameters are saved to d3rlpy_logs/DoubleDQN_online_20230406120012/model_20000.pt\n",
      "2023-04-06 12:00.46 [info     ] DoubleDQN_online_20230406120012: epoch=20 step=20000 epoch=20 metrics={'time_inference': 0.0002849936485290527, 'time_environment_step': 7.919836044311524e-05, 'time_sample_batch': 6.361651420593262e-05, 'time_algorithm_update': 0.001409297227859497, 'loss': 0.08947259241528809, 'time_step': 0.0018748562335968017, 'rollout_return': 2.930317153529467, 'evaluation': 3.3030213437667784} step=20000\n",
      "2023-04-06 12:00.48 [info     ] Model parameters are saved to d3rlpy_logs/DoubleDQN_online_20230406120012/model_21000.pt\n",
      "2023-04-06 12:00.48 [info     ] DoubleDQN_online_20230406120012: epoch=21 step=21000 epoch=21 metrics={'time_inference': 0.00029494500160217284, 'time_environment_step': 6.98850154876709e-05, 'time_sample_batch': 6.296157836914062e-05, 'time_algorithm_update': 0.0014499454498291015, 'loss': 0.08777317121997476, 'time_step': 0.0019144256114959717, 'rollout_return': 2.9294620955806807, 'evaluation': 3.3260004543245083} step=21000\n",
      "2023-04-06 12:00.50 [info     ] Model parameters are saved to d3rlpy_logs/DoubleDQN_online_20230406120012/model_22000.pt\n",
      "2023-04-06 12:00.50 [info     ] DoubleDQN_online_20230406120012: epoch=22 step=22000 epoch=22 metrics={'time_inference': 0.00025603389739990235, 'time_environment_step': 6.520605087280274e-05, 'time_sample_batch': 5.762934684753418e-05, 'time_algorithm_update': 0.001278315544128418, 'loss': 0.08527815603651107, 'time_step': 0.0016905488967895509, 'rollout_return': 2.9270282579246483, 'evaluation': 3.285195405494041} step=22000\n",
      "2023-04-06 12:00.52 [info     ] Model parameters are saved to d3rlpy_logs/DoubleDQN_online_20230406120012/model_23000.pt\n",
      "2023-04-06 12:00.52 [info     ] DoubleDQN_online_20230406120012: epoch=23 step=23000 epoch=23 metrics={'time_inference': 0.00026715683937072755, 'time_environment_step': 6.503081321716309e-05, 'time_sample_batch': 5.6692123413085936e-05, 'time_algorithm_update': 0.0012243847846984863, 'loss': 0.08312891717627645, 'time_step': 0.0016471266746520997, 'rollout_return': 2.848123999530263, 'evaluation': 3.4019473899005326} step=23000\n",
      "2023-04-06 12:00.54 [info     ] Model parameters are saved to d3rlpy_logs/DoubleDQN_online_20230406120012/model_24000.pt\n",
      "2023-04-06 12:00.54 [info     ] DoubleDQN_online_20230406120012: epoch=24 step=24000 epoch=24 metrics={'time_inference': 0.00027043509483337403, 'time_environment_step': 6.860113143920898e-05, 'time_sample_batch': 5.878615379333496e-05, 'time_algorithm_update': 0.001279604434967041, 'loss': 0.08587870518118143, 'time_step': 0.0017126071453094482, 'rollout_return': 2.9858321872592315, 'evaluation': 3.187808022002131} step=24000\n",
      "2023-04-06 12:00.55 [info     ] Model parameters are saved to d3rlpy_logs/DoubleDQN_online_20230406120012/model_25000.pt\n",
      "2023-04-06 12:00.55 [info     ] DoubleDQN_online_20230406120012: epoch=25 step=25000 epoch=25 metrics={'time_inference': 0.0002617278099060059, 'time_environment_step': 6.48200511932373e-05, 'time_sample_batch': 5.674600601196289e-05, 'time_algorithm_update': 0.0012579290866851806, 'loss': 0.0827913031205535, 'time_step': 0.0016757094860076905, 'rollout_return': 2.885210160260038, 'evaluation': 3.312332517366354} step=25000\n",
      "2023-04-06 12:00.57 [info     ] Model parameters are saved to d3rlpy_logs/DoubleDQN_online_20230406120012/model_26000.pt\n",
      "2023-04-06 12:00.57 [info     ] DoubleDQN_online_20230406120012: epoch=26 step=26000 epoch=26 metrics={'time_inference': 0.0002648928165435791, 'time_environment_step': 7.074165344238281e-05, 'time_sample_batch': 5.712127685546875e-05, 'time_algorithm_update': 0.0012912890911102295, 'loss': 0.08072923245467245, 'time_step': 0.001719475030899048, 'rollout_return': 2.986275009020332, 'evaluation': 3.201806578558704} step=26000\n",
      "2023-04-06 12:00.59 [info     ] Model parameters are saved to d3rlpy_logs/DoubleDQN_online_20230406120012/model_27000.pt\n",
      "2023-04-06 12:00.59 [info     ] DoubleDQN_online_20230406120012: epoch=27 step=27000 epoch=27 metrics={'time_inference': 0.00026657605171203616, 'time_environment_step': 6.397867202758789e-05, 'time_sample_batch': 5.631375312805176e-05, 'time_algorithm_update': 0.0012983419895172118, 'loss': 0.08204619133844972, 'time_step': 0.0017182853221893312, 'rollout_return': 2.8844730609524203, 'evaluation': 3.2555585806079934} step=27000\n",
      "2023-04-06 12:01.01 [info     ] Model parameters are saved to d3rlpy_logs/DoubleDQN_online_20230406120012/model_28000.pt\n",
      "2023-04-06 12:01.01 [info     ] DoubleDQN_online_20230406120012: epoch=28 step=28000 epoch=28 metrics={'time_inference': 0.0002566907405853271, 'time_environment_step': 6.408977508544922e-05, 'time_sample_batch': 6.428694725036621e-05, 'time_algorithm_update': 0.0012411139011383058, 'loss': 0.08055185073800385, 'time_step': 0.0016602962017059327, 'rollout_return': 2.922598000159647, 'evaluation': 3.1183606217014828} step=28000\n",
      "2023-04-06 12:01.02 [info     ] Model parameters are saved to d3rlpy_logs/DoubleDQN_online_20230406120012/model_29000.pt\n",
      "2023-04-06 12:01.02 [info     ] DoubleDQN_online_20230406120012: epoch=29 step=29000 epoch=29 metrics={'time_inference': 0.0002803394794464111, 'time_environment_step': 7.076478004455567e-05, 'time_sample_batch': 6.142592430114746e-05, 'time_algorithm_update': 0.0013143277168273925, 'loss': 0.07818748268857598, 'time_step': 0.0017644786834716797, 'rollout_return': 2.935242154413163, 'evaluation': 3.1807073422072456} step=29000\n",
      "2023-04-06 12:01.04 [info     ] Model parameters are saved to d3rlpy_logs/DoubleDQN_online_20230406120012/model_30000.pt\n",
      "2023-04-06 12:01.04 [info     ] DoubleDQN_online_20230406120012: epoch=30 step=30000 epoch=30 metrics={'time_inference': 0.0003037126064300537, 'time_environment_step': 6.961822509765625e-05, 'time_sample_batch': 6.166386604309082e-05, 'time_algorithm_update': 0.0014063971042633057, 'loss': 0.07738740906119347, 'time_step': 0.0018810646533966064, 'rollout_return': 2.9242355709394645, 'evaluation': 3.2204293717985046} step=30000\n",
      "2023-04-06 12:01.06 [info     ] Model parameters are saved to d3rlpy_logs/DoubleDQN_online_20230406120012/model_31000.pt\n",
      "2023-04-06 12:01.06 [info     ] DoubleDQN_online_20230406120012: epoch=31 step=31000 epoch=31 metrics={'time_inference': 0.0002631502151489258, 'time_environment_step': 6.66952133178711e-05, 'time_sample_batch': 5.736255645751953e-05, 'time_algorithm_update': 0.0013292410373687744, 'loss': 0.07836332736350596, 'time_step': 0.0017506799697875977, 'rollout_return': 2.9463386421007884, 'evaluation': 3.1922298336520134} step=31000\n",
      "2023-04-06 12:01.08 [info     ] Model parameters are saved to d3rlpy_logs/DoubleDQN_online_20230406120012/model_32000.pt\n",
      "2023-04-06 12:01.08 [info     ] DoubleDQN_online_20230406120012: epoch=32 step=32000 epoch=32 metrics={'time_inference': 0.00026282334327697756, 'time_environment_step': 6.549406051635742e-05, 'time_sample_batch': 5.707335472106934e-05, 'time_algorithm_update': 0.0012110841274261474, 'loss': 0.07573390147276222, 'time_step': 0.001630197525024414, 'rollout_return': 2.9256258324391866, 'evaluation': 3.0960971243525637} step=32000\n",
      "2023-04-06 12:01.10 [info     ] Model parameters are saved to d3rlpy_logs/DoubleDQN_online_20230406120012/model_33000.pt\n",
      "2023-04-06 12:01.10 [info     ] DoubleDQN_online_20230406120012: epoch=33 step=33000 epoch=33 metrics={'time_inference': 0.0002616567611694336, 'time_environment_step': 6.619906425476074e-05, 'time_sample_batch': 5.6459665298461913e-05, 'time_algorithm_update': 0.0012221667766571045, 'loss': 0.07601219447515904, 'time_step': 0.0016408348083496093, 'rollout_return': 2.99634698381202, 'evaluation': 3.3340376789560486} step=33000\n",
      "2023-04-06 12:01.11 [info     ] Model parameters are saved to d3rlpy_logs/DoubleDQN_online_20230406120012/model_34000.pt\n",
      "2023-04-06 12:01.11 [info     ] DoubleDQN_online_20230406120012: epoch=34 step=34000 epoch=34 metrics={'time_inference': 0.00027065086364746094, 'time_environment_step': 6.721663475036622e-05, 'time_sample_batch': 5.853271484375e-05, 'time_algorithm_update': 0.0012706973552703857, 'loss': 0.07570507491193712, 'time_step': 0.001702056646347046, 'rollout_return': 2.8908829372319134, 'evaluation': 3.2509632941361297} step=34000\n",
      "2023-04-06 12:01.13 [info     ] Model parameters are saved to d3rlpy_logs/DoubleDQN_online_20230406120012/model_35000.pt\n",
      "2023-04-06 12:01.13 [info     ] DoubleDQN_online_20230406120012: epoch=35 step=35000 epoch=35 metrics={'time_inference': 0.0002708914279937744, 'time_environment_step': 6.67576789855957e-05, 'time_sample_batch': 5.785560607910156e-05, 'time_algorithm_update': 0.0012455110549926757, 'loss': 0.0758250353820622, 'time_step': 0.0016760232448577881, 'rollout_return': 2.9087617218480775, 'evaluation': 2.969442398328553} step=35000\n",
      "2023-04-06 12:01.15 [info     ] Model parameters are saved to d3rlpy_logs/DoubleDQN_online_20230406120012/model_36000.pt\n",
      "2023-04-06 12:01.15 [info     ] DoubleDQN_online_20230406120012: epoch=36 step=36000 epoch=36 metrics={'time_inference': 0.00027654767036437987, 'time_environment_step': 6.75826072692871e-05, 'time_sample_batch': 5.946660041809082e-05, 'time_algorithm_update': 0.0013028459548950196, 'loss': 0.07679941447637975, 'time_step': 0.0017444186210632325, 'rollout_return': 2.925858934977257, 'evaluation': 3.2255621759616524} step=36000\n",
      "2023-04-06 12:01.17 [info     ] Model parameters are saved to d3rlpy_logs/DoubleDQN_online_20230406120012/model_37000.pt\n",
      "2023-04-06 12:01.17 [info     ] DoubleDQN_online_20230406120012: epoch=37 step=37000 epoch=37 metrics={'time_inference': 0.00026825475692749025, 'time_environment_step': 6.571626663208008e-05, 'time_sample_batch': 5.6678056716918944e-05, 'time_algorithm_update': 0.0012012834548950195, 'loss': 0.07490186738967895, 'time_step': 0.0016259438991546632, 'rollout_return': 3.022778746326747, 'evaluation': 3.1740438136576477} step=37000\n",
      "2023-04-06 12:01.18 [info     ] Model parameters are saved to d3rlpy_logs/DoubleDQN_online_20230406120012/model_38000.pt\n",
      "2023-04-06 12:01.18 [info     ] DoubleDQN_online_20230406120012: epoch=38 step=38000 epoch=38 metrics={'time_inference': 0.0002864794731140137, 'time_environment_step': 6.708264350891113e-05, 'time_sample_batch': 5.8048009872436524e-05, 'time_algorithm_update': 0.0012955327033996582, 'loss': 0.07575085569918155, 'time_step': 0.001741629123687744, 'rollout_return': 2.9326295441425207, 'evaluation': 3.2332102887316894} step=38000\n",
      "2023-04-06 12:01.20 [info     ] Model parameters are saved to d3rlpy_logs/DoubleDQN_online_20230406120012/model_39000.pt\n",
      "2023-04-06 12:01.20 [info     ] DoubleDQN_online_20230406120012: epoch=39 step=39000 epoch=39 metrics={'time_inference': 0.00028026342391967773, 'time_environment_step': 0.00010088014602661133, 'time_sample_batch': 5.740785598754883e-05, 'time_algorithm_update': 0.0012999956607818604, 'loss': 0.0748451188262552, 'time_step': 0.0017733790874481202, 'rollout_return': 3.0338372994382707, 'evaluation': 3.156244317528733} step=39000\n",
      "2023-04-06 12:01.22 [info     ] Model parameters are saved to d3rlpy_logs/DoubleDQN_online_20230406120012/model_40000.pt\n",
      "2023-04-06 12:01.22 [info     ] DoubleDQN_online_20230406120012: epoch=40 step=40000 epoch=40 metrics={'time_inference': 0.0002573399543762207, 'time_environment_step': 6.358671188354492e-05, 'time_sample_batch': 5.578804016113281e-05, 'time_algorithm_update': 0.0012242729663848877, 'loss': 0.07625467750988901, 'time_step': 0.0016340291500091552, 'rollout_return': 2.9553612403144003, 'evaluation': 3.1345058999413515} step=40000\n",
      "2023-04-06 12:01.24 [info     ] Model parameters are saved to d3rlpy_logs/DoubleDQN_online_20230406120012/model_41000.pt\n",
      "2023-04-06 12:01.24 [info     ] DoubleDQN_online_20230406120012: epoch=41 step=41000 epoch=41 metrics={'time_inference': 0.0002465178966522217, 'time_environment_step': 6.27753734588623e-05, 'time_sample_batch': 5.706906318664551e-05, 'time_algorithm_update': 0.0012264423370361328, 'loss': 0.0759136080108583, 'time_step': 0.0016251232624053956, 'rollout_return': 2.9821260644275056, 'evaluation': 3.1278262034320603} step=41000\n",
      "2023-04-06 12:01.25 [info     ] Model parameters are saved to d3rlpy_logs/DoubleDQN_online_20230406120012/model_42000.pt\n",
      "2023-04-06 12:01.25 [info     ] DoubleDQN_online_20230406120012: epoch=42 step=42000 epoch=42 metrics={'time_inference': 0.00024600934982299804, 'time_environment_step': 6.12320899963379e-05, 'time_sample_batch': 5.316972732543945e-05, 'time_algorithm_update': 0.0011563091278076172, 'loss': 0.0741939311940223, 'time_step': 0.001548774003982544, 'rollout_return': 2.930447380278374, 'evaluation': 3.287926533218065} step=42000\n",
      "2023-04-06 12:01.27 [info     ] Model parameters are saved to d3rlpy_logs/DoubleDQN_online_20230406120012/model_43000.pt\n",
      "2023-04-06 12:01.27 [info     ] DoubleDQN_online_20230406120012: epoch=43 step=43000 epoch=43 metrics={'time_inference': 0.00024559855461120606, 'time_environment_step': 6.16750717163086e-05, 'time_sample_batch': 5.300521850585937e-05, 'time_algorithm_update': 0.001223154067993164, 'loss': 0.07577778525836766, 'time_step': 0.0016155319213867188, 'rollout_return': 3.00009028168845, 'evaluation': 3.303214671745849} step=43000\n",
      "2023-04-06 12:01.28 [info     ] Model parameters are saved to d3rlpy_logs/DoubleDQN_online_20230406120012/model_44000.pt\n",
      "2023-04-06 12:01.28 [info     ] DoubleDQN_online_20230406120012: epoch=44 step=44000 epoch=44 metrics={'time_inference': 0.00025144314765930174, 'time_environment_step': 6.242990493774415e-05, 'time_sample_batch': 5.35733699798584e-05, 'time_algorithm_update': 0.001197824239730835, 'loss': 0.07498975048027932, 'time_step': 0.0015976791381835938, 'rollout_return': 2.9951370421259127, 'evaluation': 3.290420426397433} step=44000\n",
      "2023-04-06 12:01.30 [info     ] Model parameters are saved to d3rlpy_logs/DoubleDQN_online_20230406120012/model_45000.pt\n",
      "2023-04-06 12:01.30 [info     ] DoubleDQN_online_20230406120012: epoch=45 step=45000 epoch=45 metrics={'time_inference': 0.0002573888301849365, 'time_environment_step': 6.591725349426269e-05, 'time_sample_batch': 5.631065368652344e-05, 'time_algorithm_update': 0.0012575836181640625, 'loss': 0.0767846427951008, 'time_step': 0.001671642303466797, 'rollout_return': 2.9890540869288618, 'evaluation': 3.2885932152022166} step=45000\n",
      "2023-04-06 12:01.32 [info     ] Model parameters are saved to d3rlpy_logs/DoubleDQN_online_20230406120012/model_46000.pt\n",
      "2023-04-06 12:01.32 [info     ] DoubleDQN_online_20230406120012: epoch=46 step=46000 epoch=46 metrics={'time_inference': 0.00024373507499694824, 'time_environment_step': 6.078600883483887e-05, 'time_sample_batch': 5.278587341308594e-05, 'time_algorithm_update': 0.0011384804248809814, 'loss': 0.07415851137414575, 'time_step': 0.0015269415378570557, 'rollout_return': 2.903156637829438, 'evaluation': 3.026136045907402} step=46000\n",
      "2023-04-06 12:01.33 [info     ] Model parameters are saved to d3rlpy_logs/DoubleDQN_online_20230406120012/model_47000.pt\n",
      "2023-04-06 12:01.33 [info     ] DoubleDQN_online_20230406120012: epoch=47 step=47000 epoch=47 metrics={'time_inference': 0.00024991583824157714, 'time_environment_step': 6.257104873657227e-05, 'time_sample_batch': 5.4820060729980466e-05, 'time_algorithm_update': 0.0011705102920532226, 'loss': 0.07441930757462978, 'time_step': 0.0015695481300354005, 'rollout_return': 2.9571124640446693, 'evaluation': 3.2521340602462145} step=47000\n",
      "2023-04-06 12:01.35 [info     ] Model parameters are saved to d3rlpy_logs/DoubleDQN_online_20230406120012/model_48000.pt\n",
      "2023-04-06 12:01.35 [info     ] DoubleDQN_online_20230406120012: epoch=48 step=48000 epoch=48 metrics={'time_inference': 0.0002791426181793213, 'time_environment_step': 6.524014472961426e-05, 'time_sample_batch': 6.005859375e-05, 'time_algorithm_update': 0.0013086555004119874, 'loss': 0.07250970563851297, 'time_step': 0.0017476236820220946, 'rollout_return': 3.081524673805431, 'evaluation': 3.3821935132488408} step=48000\n",
      "2023-04-06 12:01.37 [info     ] Model parameters are saved to d3rlpy_logs/DoubleDQN_online_20230406120012/model_49000.pt\n",
      "2023-04-06 12:01.37 [info     ] DoubleDQN_online_20230406120012: epoch=49 step=49000 epoch=49 metrics={'time_inference': 0.00024730706214904784, 'time_environment_step': 6.277799606323242e-05, 'time_sample_batch': 5.7748079299926756e-05, 'time_algorithm_update': 0.0011987955570220948, 'loss': 0.07427234340086579, 'time_step': 0.0015979585647583007, 'rollout_return': 2.956323862373483, 'evaluation': 3.1954968694196237} step=49000\n",
      "2023-04-06 12:01.39 [info     ] Model parameters are saved to d3rlpy_logs/DoubleDQN_online_20230406120012/model_50000.pt\n",
      "2023-04-06 12:01.39 [info     ] DoubleDQN_online_20230406120012: epoch=50 step=50000 epoch=50 metrics={'time_inference': 0.0002803335189819336, 'time_environment_step': 6.75489902496338e-05, 'time_sample_batch': 5.737066268920898e-05, 'time_algorithm_update': 0.0013953828811645507, 'loss': 0.07354372958280146, 'time_step': 0.0018382301330566405, 'rollout_return': 2.9594749104020552, 'evaluation': 3.1054825778265656} step=50000\n",
      "2023-04-06 12:01.40 [info     ] Model parameters are saved to d3rlpy_logs/DoubleDQN_online_20230406120012/model_51000.pt\n",
      "2023-04-06 12:01.40 [info     ] DoubleDQN_online_20230406120012: epoch=51 step=51000 epoch=51 metrics={'time_inference': 0.0002549183368682861, 'time_environment_step': 6.503510475158691e-05, 'time_sample_batch': 5.6978225708007815e-05, 'time_algorithm_update': 0.0012253131866455079, 'loss': 0.07323107674531638, 'time_step': 0.0016367945671081543, 'rollout_return': 2.8749443422039245, 'evaluation': 3.267868558595185} step=51000\n",
      "2023-04-06 12:01.42 [info     ] Model parameters are saved to d3rlpy_logs/DoubleDQN_online_20230406120012/model_52000.pt\n",
      "2023-04-06 12:01.42 [info     ] DoubleDQN_online_20230406120012: epoch=52 step=52000 epoch=52 metrics={'time_inference': 0.0002444612979888916, 'time_environment_step': 6.787180900573731e-05, 'time_sample_batch': 5.2542924880981445e-05, 'time_algorithm_update': 0.0011959490776062012, 'loss': 0.07237954736128449, 'time_step': 0.0015919711589813233, 'rollout_return': 2.898070835870053, 'evaluation': 3.250616112480227} step=52000\n",
      "2023-04-06 12:01.44 [info     ] Model parameters are saved to d3rlpy_logs/DoubleDQN_online_20230406120012/model_53000.pt\n",
      "2023-04-06 12:01.44 [info     ] DoubleDQN_online_20230406120012: epoch=53 step=53000 epoch=53 metrics={'time_inference': 0.00024436330795288085, 'time_environment_step': 5.969619750976562e-05, 'time_sample_batch': 5.326509475708008e-05, 'time_algorithm_update': 0.0011754324436187744, 'loss': 0.07182174588926137, 'time_step': 0.0015648703575134278, 'rollout_return': 2.8619798916591908, 'evaluation': 3.052957089840128} step=53000\n",
      "2023-04-06 12:01.45 [info     ] Model parameters are saved to d3rlpy_logs/DoubleDQN_online_20230406120012/model_54000.pt\n",
      "2023-04-06 12:01.45 [info     ] DoubleDQN_online_20230406120012: epoch=54 step=54000 epoch=54 metrics={'time_inference': 0.0002388463020324707, 'time_environment_step': 5.986285209655762e-05, 'time_sample_batch': 5.2387714385986326e-05, 'time_algorithm_update': 0.0010870351791381835, 'loss': 0.07387619828991591, 'time_step': 0.0014692399501800538, 'rollout_return': 2.9423771163275934, 'evaluation': 3.239184529038276} step=54000\n",
      "2023-04-06 12:01.47 [info     ] Model parameters are saved to d3rlpy_logs/DoubleDQN_online_20230406120012/model_55000.pt\n",
      "2023-04-06 12:01.47 [info     ] DoubleDQN_online_20230406120012: epoch=55 step=55000 epoch=55 metrics={'time_inference': 0.00024166321754455567, 'time_environment_step': 6.06689453125e-05, 'time_sample_batch': 5.3392171859741214e-05, 'time_algorithm_update': 0.0011358938217163085, 'loss': 0.07039963122271001, 'time_step': 0.0015246012210845946, 'rollout_return': 2.8485519882488153, 'evaluation': 3.179909761279986} step=55000\n",
      "2023-04-06 12:01.48 [info     ] Model parameters are saved to d3rlpy_logs/DoubleDQN_online_20230406120012/model_56000.pt\n",
      "2023-04-06 12:01.48 [info     ] DoubleDQN_online_20230406120012: epoch=56 step=56000 epoch=56 metrics={'time_inference': 0.00024259233474731445, 'time_environment_step': 6.0134172439575196e-05, 'time_sample_batch': 5.2695274353027346e-05, 'time_algorithm_update': 0.0011433889865875243, 'loss': 0.06758871907927096, 'time_step': 0.0015300641059875488, 'rollout_return': 2.946157116323503, 'evaluation': 3.3466562171022587} step=56000\n",
      "2023-04-06 12:01.50 [info     ] Model parameters are saved to d3rlpy_logs/DoubleDQN_online_20230406120012/model_57000.pt\n",
      "2023-04-06 12:01.50 [info     ] DoubleDQN_online_20230406120012: epoch=57 step=57000 epoch=57 metrics={'time_inference': 0.000246262788772583, 'time_environment_step': 6.201267242431641e-05, 'time_sample_batch': 5.358648300170899e-05, 'time_algorithm_update': 0.001144131898880005, 'loss': 0.06641531784646212, 'time_step': 0.0015378813743591308, 'rollout_return': 2.9452029533930744, 'evaluation': 3.37213393662154} step=57000\n",
      "2023-04-06 12:01.52 [info     ] Model parameters are saved to d3rlpy_logs/DoubleDQN_online_20230406120012/model_58000.pt\n",
      "2023-04-06 12:01.52 [info     ] DoubleDQN_online_20230406120012: epoch=58 step=58000 epoch=58 metrics={'time_inference': 0.00030176663398742676, 'time_environment_step': 7.591915130615234e-05, 'time_sample_batch': 6.986880302429199e-05, 'time_algorithm_update': 0.0014708189964294433, 'loss': 0.06507134654000402, 'time_step': 0.001957367181777954, 'rollout_return': 2.955102401476159, 'evaluation': 3.1973034584746047} step=58000\n",
      "2023-04-06 12:01.54 [info     ] Model parameters are saved to d3rlpy_logs/DoubleDQN_online_20230406120012/model_59000.pt\n",
      "2023-04-06 12:01.54 [info     ] DoubleDQN_online_20230406120012: epoch=59 step=59000 epoch=59 metrics={'time_inference': 0.0002592926025390625, 'time_environment_step': 6.608891487121582e-05, 'time_sample_batch': 5.75110912322998e-05, 'time_algorithm_update': 0.0012778034210205078, 'loss': 0.06493628456816078, 'time_step': 0.0016953048706054687, 'rollout_return': 2.924156822873472, 'evaluation': 3.36756331636289} step=59000\n",
      "2023-04-06 12:01.56 [info     ] Model parameters are saved to d3rlpy_logs/DoubleDQN_online_20230406120012/model_60000.pt\n",
      "2023-04-06 12:01.56 [info     ] DoubleDQN_online_20230406120012: epoch=60 step=60000 epoch=60 metrics={'time_inference': 0.00027161931991577146, 'time_environment_step': 6.866288185119629e-05, 'time_sample_batch': 6.042551994323731e-05, 'time_algorithm_update': 0.0013383316993713379, 'loss': 0.06991309358365834, 'time_step': 0.0017743229866027832, 'rollout_return': 2.968522653231269, 'evaluation': 3.3792206209305533} step=60000\n",
      "2023-04-06 12:01.58 [info     ] Model parameters are saved to d3rlpy_logs/DoubleDQN_online_20230406120012/model_61000.pt\n",
      "2023-04-06 12:01.58 [info     ] DoubleDQN_online_20230406120012: epoch=61 step=61000 epoch=61 metrics={'time_inference': 0.0002942087650299072, 'time_environment_step': 7.290005683898925e-05, 'time_sample_batch': 6.462812423706055e-05, 'time_algorithm_update': 0.0015628588199615477, 'loss': 0.07038453247211873, 'time_step': 0.002035135746002197, 'rollout_return': 3.007374140299317, 'evaluation': 3.2541037788863094} step=61000\n",
      "2023-04-06 12:01.59 [info     ] Model parameters are saved to d3rlpy_logs/DoubleDQN_online_20230406120012/model_62000.pt\n",
      "2023-04-06 12:01.59 [info     ] DoubleDQN_online_20230406120012: epoch=62 step=62000 epoch=62 metrics={'time_inference': 0.0002657606601715088, 'time_environment_step': 6.899356842041016e-05, 'time_sample_batch': 6.121087074279786e-05, 'time_algorithm_update': 0.0013475019931793212, 'loss': 0.06669683944620192, 'time_step': 0.0017790229320526123, 'rollout_return': 2.9242088900815886, 'evaluation': 3.2895780239615093} step=62000\n",
      "2023-04-06 12:02.01 [info     ] Model parameters are saved to d3rlpy_logs/DoubleDQN_online_20230406120012/model_63000.pt\n",
      "2023-04-06 12:02.01 [info     ] DoubleDQN_online_20230406120012: epoch=63 step=63000 epoch=63 metrics={'time_inference': 0.0002863001823425293, 'time_environment_step': 6.770730018615723e-05, 'time_sample_batch': 5.973196029663086e-05, 'time_algorithm_update': 0.0012846226692199707, 'loss': 0.06884597227722407, 'time_step': 0.0017348396778106689, 'rollout_return': 3.014932188113678, 'evaluation': 3.182315094382859} step=63000\n",
      "2023-04-06 12:02.03 [info     ] Model parameters are saved to d3rlpy_logs/DoubleDQN_online_20230406120012/model_64000.pt\n",
      "2023-04-06 12:02.03 [info     ] DoubleDQN_online_20230406120012: epoch=64 step=64000 epoch=64 metrics={'time_inference': 0.0002432096004486084, 'time_environment_step': 6.164145469665527e-05, 'time_sample_batch': 5.663585662841797e-05, 'time_algorithm_update': 0.0011594634056091308, 'loss': 0.06660648110695183, 'time_step': 0.0015525543689727784, 'rollout_return': 2.9557711827728372, 'evaluation': 3.238711891330824} step=64000\n",
      "2023-04-06 12:02.05 [info     ] Model parameters are saved to d3rlpy_logs/DoubleDQN_online_20230406120012/model_65000.pt\n",
      "2023-04-06 12:02.05 [info     ] DoubleDQN_online_20230406120012: epoch=65 step=65000 epoch=65 metrics={'time_inference': 0.00026068782806396484, 'time_environment_step': 6.498456001281738e-05, 'time_sample_batch': 5.690860748291016e-05, 'time_algorithm_update': 0.0011918554306030273, 'loss': 0.06803462706319988, 'time_step': 0.0016083009243011476, 'rollout_return': 2.9937698384572236, 'evaluation': 3.2294472774243537} step=65000\n",
      "2023-04-06 12:02.06 [info     ] Model parameters are saved to d3rlpy_logs/DoubleDQN_online_20230406120012/model_66000.pt\n",
      "2023-04-06 12:02.06 [info     ] DoubleDQN_online_20230406120012: epoch=66 step=66000 epoch=66 metrics={'time_inference': 0.0002588543891906738, 'time_environment_step': 6.585383415222168e-05, 'time_sample_batch': 5.593371391296387e-05, 'time_algorithm_update': 0.0012077667713165283, 'loss': 0.06575022303871811, 'time_step': 0.0016232171058654784, 'rollout_return': 2.99558053787031, 'evaluation': 3.3080966205540556} step=66000\n",
      "2023-04-06 12:02.08 [info     ] Model parameters are saved to d3rlpy_logs/DoubleDQN_online_20230406120012/model_67000.pt\n",
      "2023-04-06 12:02.08 [info     ] DoubleDQN_online_20230406120012: epoch=67 step=67000 epoch=67 metrics={'time_inference': 0.00025753188133239744, 'time_environment_step': 6.441617012023925e-05, 'time_sample_batch': 5.662679672241211e-05, 'time_algorithm_update': 0.0012637345790863037, 'loss': 0.06591332912817598, 'time_step': 0.0016760139465332032, 'rollout_return': 2.925482063784425, 'evaluation': 3.2267716355996208} step=67000\n",
      "2023-04-06 12:02.10 [info     ] Model parameters are saved to d3rlpy_logs/DoubleDQN_online_20230406120012/model_68000.pt\n",
      "2023-04-06 12:02.10 [info     ] DoubleDQN_online_20230406120012: epoch=68 step=68000 epoch=68 metrics={'time_inference': 0.0002619595527648926, 'time_environment_step': 6.493473052978515e-05, 'time_sample_batch': 5.736541748046875e-05, 'time_algorithm_update': 0.0012879862785339356, 'loss': 0.06574102396517992, 'time_step': 0.0017086267471313477, 'rollout_return': 2.860982423125254, 'evaluation': 3.3189329980810625} step=68000\n",
      "2023-04-06 12:02.11 [info     ] Model parameters are saved to d3rlpy_logs/DoubleDQN_online_20230406120012/model_69000.pt\n",
      "2023-04-06 12:02.11 [info     ] DoubleDQN_online_20230406120012: epoch=69 step=69000 epoch=69 metrics={'time_inference': 0.00024314284324645997, 'time_environment_step': 6.148648262023925e-05, 'time_sample_batch': 5.36501407623291e-05, 'time_algorithm_update': 0.001157766819000244, 'loss': 0.06735102272219956, 'time_step': 0.001547811508178711, 'rollout_return': 3.0272974821144625, 'evaluation': 3.2222064373282344} step=69000\n",
      "2023-04-06 12:02.13 [info     ] Model parameters are saved to d3rlpy_logs/DoubleDQN_online_20230406120012/model_70000.pt\n",
      "2023-04-06 12:02.13 [info     ] DoubleDQN_online_20230406120012: epoch=70 step=70000 epoch=70 metrics={'time_inference': 0.00024179983139038086, 'time_environment_step': 6.366705894470215e-05, 'time_sample_batch': 5.31613826751709e-05, 'time_algorithm_update': 0.0011304271221160888, 'loss': 0.06745536359399557, 'time_step': 0.0015215089321136475, 'rollout_return': 2.9982520006277134, 'evaluation': 3.1953259955361717} step=70000\n",
      "2023-04-06 12:02.15 [info     ] Model parameters are saved to d3rlpy_logs/DoubleDQN_online_20230406120012/model_71000.pt\n",
      "2023-04-06 12:02.15 [info     ] DoubleDQN_online_20230406120012: epoch=71 step=71000 epoch=71 metrics={'time_inference': 0.00027812790870666507, 'time_environment_step': 7.065916061401367e-05, 'time_sample_batch': 6.513071060180664e-05, 'time_algorithm_update': 0.0013855247497558594, 'loss': 0.06609387781657279, 'time_step': 0.0018379042148590089, 'rollout_return': 2.9312614698715738, 'evaluation': 3.2929873316863905} step=71000\n",
      "2023-04-06 12:02.17 [info     ] Model parameters are saved to d3rlpy_logs/DoubleDQN_online_20230406120012/model_72000.pt\n",
      "2023-04-06 12:02.17 [info     ] DoubleDQN_online_20230406120012: epoch=72 step=72000 epoch=72 metrics={'time_inference': 0.0002793855667114258, 'time_environment_step': 6.96403980255127e-05, 'time_sample_batch': 6.116437911987304e-05, 'time_algorithm_update': 0.0013043222427368164, 'loss': 0.06269404025375844, 'time_step': 0.0017508716583251953, 'rollout_return': 2.9157533135835547, 'evaluation': 3.162728499008561} step=72000\n",
      "2023-04-06 12:02.18 [info     ] Model parameters are saved to d3rlpy_logs/DoubleDQN_online_20230406120012/model_73000.pt\n",
      "2023-04-06 12:02.18 [info     ] DoubleDQN_online_20230406120012: epoch=73 step=73000 epoch=73 metrics={'time_inference': 0.00024701452255249026, 'time_environment_step': 6.260275840759277e-05, 'time_sample_batch': 5.2684068679809573e-05, 'time_algorithm_update': 0.00114349365234375, 'loss': 0.06255837813578546, 'time_step': 0.0015378718376159667, 'rollout_return': 2.983882045469278, 'evaluation': 3.244647147463174} step=73000\n",
      "2023-04-06 12:02.20 [info     ] Model parameters are saved to d3rlpy_logs/DoubleDQN_online_20230406120012/model_74000.pt\n",
      "2023-04-06 12:02.20 [info     ] DoubleDQN_online_20230406120012: epoch=74 step=74000 epoch=74 metrics={'time_inference': 0.0002876720428466797, 'time_environment_step': 6.178569793701172e-05, 'time_sample_batch': 5.313420295715332e-05, 'time_algorithm_update': 0.0011890840530395508, 'loss': 0.06092209155857563, 'time_step': 0.0016260437965393067, 'rollout_return': 2.9874739695755106, 'evaluation': 3.2804489527148926} step=74000\n",
      "2023-04-06 12:02.21 [info     ] Model parameters are saved to d3rlpy_logs/DoubleDQN_online_20230406120012/model_75000.pt\n",
      "2023-04-06 12:02.21 [info     ] DoubleDQN_online_20230406120012: epoch=75 step=75000 epoch=75 metrics={'time_inference': 0.00024804019927978515, 'time_environment_step': 6.179690361022949e-05, 'time_sample_batch': 5.319571495056152e-05, 'time_algorithm_update': 0.001173668622970581, 'loss': 0.05990620513819158, 'time_step': 0.001568408250808716, 'rollout_return': 2.9756822796637716, 'evaluation': 3.2749216706470063} step=75000\n",
      "2023-04-06 12:02.23 [info     ] Model parameters are saved to d3rlpy_logs/DoubleDQN_online_20230406120012/model_76000.pt\n",
      "2023-04-06 12:02.23 [info     ] DoubleDQN_online_20230406120012: epoch=76 step=76000 epoch=76 metrics={'time_inference': 0.000244556188583374, 'time_environment_step': 6.234192848205566e-05, 'time_sample_batch': 5.5284023284912106e-05, 'time_algorithm_update': 0.001197110891342163, 'loss': 0.062425893737003205, 'time_step': 0.0015915799140930175, 'rollout_return': 2.9598406146165552, 'evaluation': 3.291071832444332} step=76000\n",
      "2023-04-06 12:02.25 [info     ] Model parameters are saved to d3rlpy_logs/DoubleDQN_online_20230406120012/model_77000.pt\n",
      "2023-04-06 12:02.25 [info     ] DoubleDQN_online_20230406120012: epoch=77 step=77000 epoch=77 metrics={'time_inference': 0.00025287723541259766, 'time_environment_step': 6.548500061035156e-05, 'time_sample_batch': 5.631899833679199e-05, 'time_algorithm_update': 0.0012512338161468507, 'loss': 0.06499772773310541, 'time_step': 0.0016594855785369872, 'rollout_return': 3.0483070067145364, 'evaluation': 3.3037460668176877} step=77000\n",
      "2023-04-06 12:02.26 [info     ] Model parameters are saved to d3rlpy_logs/DoubleDQN_online_20230406120012/model_78000.pt\n",
      "2023-04-06 12:02.27 [info     ] DoubleDQN_online_20230406120012: epoch=78 step=78000 epoch=78 metrics={'time_inference': 0.00026369881629943845, 'time_environment_step': 6.508326530456543e-05, 'time_sample_batch': 6.207704544067383e-05, 'time_algorithm_update': 0.0012341549396514893, 'loss': 0.06497379994951188, 'time_step': 0.0016619246006011963, 'rollout_return': 2.9357297759736474, 'evaluation': 3.07970207049327} step=78000\n",
      "2023-04-06 12:02.28 [info     ] Model parameters are saved to d3rlpy_logs/DoubleDQN_online_20230406120012/model_79000.pt\n",
      "2023-04-06 12:02.28 [info     ] DoubleDQN_online_20230406120012: epoch=79 step=79000 epoch=79 metrics={'time_inference': 0.0002614765167236328, 'time_environment_step': 6.796669960021972e-05, 'time_sample_batch': 5.661296844482422e-05, 'time_algorithm_update': 0.0012294278144836426, 'loss': 0.06202513731271028, 'time_step': 0.001649766206741333, 'rollout_return': 2.956717799917521, 'evaluation': 3.066180214651181} step=79000\n",
      "2023-04-06 12:02.30 [info     ] Model parameters are saved to d3rlpy_logs/DoubleDQN_online_20230406120012/model_80000.pt\n",
      "2023-04-06 12:02.30 [info     ] DoubleDQN_online_20230406120012: epoch=80 step=80000 epoch=80 metrics={'time_inference': 0.0002411785125732422, 'time_environment_step': 6.0461282730102537e-05, 'time_sample_batch': 5.347704887390137e-05, 'time_algorithm_update': 0.0011958034038543701, 'loss': 0.06087520942091942, 'time_step': 0.0015821778774261475, 'rollout_return': 2.822565148997751, 'evaluation': 3.2359032039134177} step=80000\n",
      "2023-04-06 12:02.31 [info     ] Model parameters are saved to d3rlpy_logs/DoubleDQN_online_20230406120012/model_81000.pt\n",
      "2023-04-06 12:02.31 [info     ] DoubleDQN_online_20230406120012: epoch=81 step=81000 epoch=81 metrics={'time_inference': 0.0002390928268432617, 'time_environment_step': 5.911517143249512e-05, 'time_sample_batch': 5.285787582397461e-05, 'time_algorithm_update': 0.0010881824493408202, 'loss': 0.06215820951387286, 'time_step': 0.0014697339534759522, 'rollout_return': 2.8877453112137177, 'evaluation': 3.1825542763520405} step=81000\n",
      "2023-04-06 12:02.33 [info     ] Model parameters are saved to d3rlpy_logs/DoubleDQN_online_20230406120012/model_82000.pt\n",
      "2023-04-06 12:02.33 [info     ] DoubleDQN_online_20230406120012: epoch=82 step=82000 epoch=82 metrics={'time_inference': 0.00024136829376220702, 'time_environment_step': 5.9743642807006836e-05, 'time_sample_batch': 5.346798896789551e-05, 'time_algorithm_update': 0.0011344976425170898, 'loss': 0.0621044242233038, 'time_step': 0.0015211069583892821, 'rollout_return': 3.0330314148356785, 'evaluation': 3.3103859920490897} step=82000\n",
      "2023-04-06 12:02.34 [info     ] Model parameters are saved to d3rlpy_logs/DoubleDQN_online_20230406120012/model_83000.pt\n",
      "2023-04-06 12:02.34 [info     ] DoubleDQN_online_20230406120012: epoch=83 step=83000 epoch=83 metrics={'time_inference': 0.00023677444458007813, 'time_environment_step': 5.9103012084960934e-05, 'time_sample_batch': 5.129027366638184e-05, 'time_algorithm_update': 0.00111667799949646, 'loss': 0.06341117487847805, 'time_step': 0.001494935989379883, 'rollout_return': 2.9485002830131672, 'evaluation': 3.113176141083424} step=83000\n",
      "2023-04-06 12:02.36 [info     ] Model parameters are saved to d3rlpy_logs/DoubleDQN_online_20230406120012/model_84000.pt\n",
      "2023-04-06 12:02.36 [info     ] DoubleDQN_online_20230406120012: epoch=84 step=84000 epoch=84 metrics={'time_inference': 0.00023497152328491212, 'time_environment_step': 5.826592445373535e-05, 'time_sample_batch': 5.202484130859375e-05, 'time_algorithm_update': 0.0011298766136169434, 'loss': 0.06385075354203582, 'time_step': 0.0015061838626861572, 'rollout_return': 2.899806851996721, 'evaluation': 3.0689325276639527} step=84000\n",
      "2023-04-06 12:02.37 [info     ] Model parameters are saved to d3rlpy_logs/DoubleDQN_online_20230406120012/model_85000.pt\n",
      "2023-04-06 12:02.37 [info     ] DoubleDQN_online_20230406120012: epoch=85 step=85000 epoch=85 metrics={'time_inference': 0.00023172426223754883, 'time_environment_step': 5.744624137878418e-05, 'time_sample_batch': 5.137419700622559e-05, 'time_algorithm_update': 0.0010714373588562012, 'loss': 0.06696900224126875, 'time_step': 0.0014417693614959717, 'rollout_return': 2.8140846381207556, 'evaluation': 2.9284119346507955} step=85000\n",
      "2023-04-06 12:02.39 [info     ] Model parameters are saved to d3rlpy_logs/DoubleDQN_online_20230406120012/model_86000.pt\n",
      "2023-04-06 12:02.39 [info     ] DoubleDQN_online_20230406120012: epoch=86 step=86000 epoch=86 metrics={'time_inference': 0.00023712730407714842, 'time_environment_step': 5.7386159896850584e-05, 'time_sample_batch': 5.3709030151367185e-05, 'time_algorithm_update': 0.00107218599319458, 'loss': 0.06407660139165819, 'time_step': 0.0014503085613250732, 'rollout_return': 2.9061473824838773, 'evaluation': 3.2365429458966846} step=86000\n",
      "2023-04-06 12:02.41 [info     ] Model parameters are saved to d3rlpy_logs/DoubleDQN_online_20230406120012/model_87000.pt\n",
      "2023-04-06 12:02.41 [info     ] DoubleDQN_online_20230406120012: epoch=87 step=87000 epoch=87 metrics={'time_inference': 0.000230898380279541, 'time_environment_step': 5.8197259902954104e-05, 'time_sample_batch': 5.0970792770385744e-05, 'time_algorithm_update': 0.0010837373733520509, 'loss': 0.061024770507588984, 'time_step': 0.001453685998916626, 'rollout_return': 2.8149470218598793, 'evaluation': 3.0847843299605873} step=87000\n",
      "2023-04-06 12:02.42 [info     ] Model parameters are saved to d3rlpy_logs/DoubleDQN_online_20230406120012/model_88000.pt\n",
      "2023-04-06 12:02.42 [info     ] DoubleDQN_online_20230406120012: epoch=88 step=88000 epoch=88 metrics={'time_inference': 0.00021895933151245116, 'time_environment_step': 5.336880683898926e-05, 'time_sample_batch': 4.8386335372924805e-05, 'time_algorithm_update': 0.0009595675468444824, 'loss': 0.05955482095107436, 'time_step': 0.001307828664779663, 'rollout_return': 2.9558106154718184, 'evaluation': 3.2668460541982918} step=88000\n",
      "2023-04-06 12:02.43 [info     ] Model parameters are saved to d3rlpy_logs/DoubleDQN_online_20230406120012/model_89000.pt\n",
      "2023-04-06 12:02.43 [info     ] DoubleDQN_online_20230406120012: epoch=89 step=89000 epoch=89 metrics={'time_inference': 0.0002355926036834717, 'time_environment_step': 5.874991416931152e-05, 'time_sample_batch': 5.235075950622558e-05, 'time_algorithm_update': 0.0011377556324005127, 'loss': 0.05753413181193173, 'time_step': 0.0015162012577056884, 'rollout_return': 2.9556170174473118, 'evaluation': 3.230448455239631} step=89000\n",
      "2023-04-06 12:02.45 [info     ] Model parameters are saved to d3rlpy_logs/DoubleDQN_online_20230406120012/model_90000.pt\n",
      "2023-04-06 12:02.45 [info     ] DoubleDQN_online_20230406120012: epoch=90 step=90000 epoch=90 metrics={'time_inference': 0.00022494220733642578, 'time_environment_step': 5.6307554244995115e-05, 'time_sample_batch': 4.9717903137207034e-05, 'time_algorithm_update': 0.0010312364101409913, 'loss': 0.054594332564622164, 'time_step': 0.0013911302089691163, 'rollout_return': 2.9316561360508473, 'evaluation': 2.96868531649207} step=90000\n",
      "2023-04-06 12:02.46 [info     ] Model parameters are saved to d3rlpy_logs/DoubleDQN_online_20230406120012/model_91000.pt\n",
      "2023-04-06 12:02.46 [info     ] DoubleDQN_online_20230406120012: epoch=91 step=91000 epoch=91 metrics={'time_inference': 0.00024434375762939455, 'time_environment_step': 6.16607666015625e-05, 'time_sample_batch': 5.386519432067871e-05, 'time_algorithm_update': 0.0011787619590759278, 'loss': 0.054426197251304986, 'time_step': 0.001571453332901001, 'rollout_return': 2.9348318214741678, 'evaluation': 3.2332434326647403} step=91000\n",
      "2023-04-06 12:02.48 [info     ] Model parameters are saved to d3rlpy_logs/DoubleDQN_online_20230406120012/model_92000.pt\n",
      "2023-04-06 12:02.48 [info     ] DoubleDQN_online_20230406120012: epoch=92 step=92000 epoch=92 metrics={'time_inference': 0.00024376654624938966, 'time_environment_step': 5.997252464294434e-05, 'time_sample_batch': 5.2857637405395506e-05, 'time_algorithm_update': 0.0011482100486755371, 'loss': 0.059482624845579264, 'time_step': 0.001537405252456665, 'rollout_return': 2.952537705808714, 'evaluation': 3.4804716169840533} step=92000\n",
      "2023-04-06 12:02.50 [info     ] Model parameters are saved to d3rlpy_logs/DoubleDQN_online_20230406120012/model_93000.pt\n",
      "2023-04-06 12:02.50 [info     ] DoubleDQN_online_20230406120012: epoch=93 step=93000 epoch=93 metrics={'time_inference': 0.00025364065170288086, 'time_environment_step': 6.591439247131347e-05, 'time_sample_batch': 5.652046203613281e-05, 'time_algorithm_update': 0.001222752332687378, 'loss': 0.062627720778808, 'time_step': 0.001632901430130005, 'rollout_return': 2.9639304288490695, 'evaluation': 3.2035774026471997} step=93000\n",
      "2023-04-06 12:02.52 [info     ] Model parameters are saved to d3rlpy_logs/DoubleDQN_online_20230406120012/model_94000.pt\n",
      "2023-04-06 12:02.52 [info     ] DoubleDQN_online_20230406120012: epoch=94 step=94000 epoch=94 metrics={'time_inference': 0.00026358771324157715, 'time_environment_step': 6.825685501098633e-05, 'time_sample_batch': 5.961465835571289e-05, 'time_algorithm_update': 0.0012782025337219238, 'loss': 0.05769637582823634, 'time_step': 0.0017053318023681641, 'rollout_return': 2.988193676258549, 'evaluation': 3.3504208615498214} step=94000\n",
      "2023-04-06 12:02.53 [info     ] Model parameters are saved to d3rlpy_logs/DoubleDQN_online_20230406120012/model_95000.pt\n",
      "2023-04-06 12:02.53 [info     ] DoubleDQN_online_20230406120012: epoch=95 step=95000 epoch=95 metrics={'time_inference': 0.0002788701057434082, 'time_environment_step': 7.344579696655273e-05, 'time_sample_batch': 6.025385856628418e-05, 'time_algorithm_update': 0.0012554945945739747, 'loss': 0.057384744948707524, 'time_step': 0.0017067527770996095, 'rollout_return': 2.9534045143909484, 'evaluation': 3.339044567457504} step=95000\n",
      "2023-04-06 12:02.55 [info     ] Model parameters are saved to d3rlpy_logs/DoubleDQN_online_20230406120012/model_96000.pt\n",
      "2023-04-06 12:02.55 [info     ] DoubleDQN_online_20230406120012: epoch=96 step=96000 epoch=96 metrics={'time_inference': 0.00026657891273498537, 'time_environment_step': 6.681561470031738e-05, 'time_sample_batch': 6.063604354858398e-05, 'time_algorithm_update': 0.0012211692333221435, 'loss': 0.05986127394810319, 'time_step': 0.0016512405872344971, 'rollout_return': 2.932383261070387, 'evaluation': 3.394045955235982} step=96000\n",
      "2023-04-06 12:02.57 [info     ] Model parameters are saved to d3rlpy_logs/DoubleDQN_online_20230406120012/model_97000.pt\n",
      "2023-04-06 12:02.57 [info     ] DoubleDQN_online_20230406120012: epoch=97 step=97000 epoch=97 metrics={'time_inference': 0.0002685365676879883, 'time_environment_step': 6.813406944274902e-05, 'time_sample_batch': 6.13710880279541e-05, 'time_algorithm_update': 0.0012303647994995118, 'loss': 0.05957378261350095, 'time_step': 0.0016646265983581543, 'rollout_return': 2.9640688366439694, 'evaluation': 3.1821278072388375} step=97000\n",
      "2023-04-06 12:02.59 [info     ] Model parameters are saved to d3rlpy_logs/DoubleDQN_online_20230406120012/model_98000.pt\n",
      "2023-04-06 12:02.59 [info     ] DoubleDQN_online_20230406120012: epoch=98 step=98000 epoch=98 metrics={'time_inference': 0.00027806615829467776, 'time_environment_step': 6.915187835693359e-05, 'time_sample_batch': 6.56571388244629e-05, 'time_algorithm_update': 0.00128100323677063, 'loss': 0.06326742238737643, 'time_step': 0.0017332680225372315, 'rollout_return': 2.8593433706167297, 'evaluation': 3.1040860066104834} step=98000\n",
      "2023-04-06 12:03.00 [info     ] Model parameters are saved to d3rlpy_logs/DoubleDQN_online_20230406120012/model_99000.pt\n",
      "2023-04-06 12:03.00 [info     ] DoubleDQN_online_20230406120012: epoch=99 step=99000 epoch=99 metrics={'time_inference': 0.00025803470611572267, 'time_environment_step': 6.631112098693848e-05, 'time_sample_batch': 5.795407295227051e-05, 'time_algorithm_update': 0.001161672830581665, 'loss': 0.06522268843092024, 'time_step': 0.0015792131423950195, 'rollout_return': 2.964916604270337, 'evaluation': 3.2468818592350117} step=99000\n",
      "2023-04-06 12:03.02 [info     ] Model parameters are saved to d3rlpy_logs/DoubleDQN_online_20230406120012/model_100000.pt\n",
      "2023-04-06 12:03.02 [info     ] DoubleDQN_online_20230406120012: epoch=100 step=100000 epoch=100 metrics={'time_inference': 0.000274965763092041, 'time_environment_step': 7.036495208740234e-05, 'time_sample_batch': 6.164646148681641e-05, 'time_algorithm_update': 0.0012660305500030518, 'loss': 0.06956605908833444, 'time_step': 0.0017102632522583007, 'rollout_return': 2.8908466202402496, 'evaluation': 3.297637732031956} step=100000\n"
     ]
    },
    {
     "data": {
      "application/vnd.jupyter.widget-view+json": {
       "model_id": "19582e2fbb9e441ebe607e00372da807",
       "version_major": 2,
       "version_minor": 0
      },
      "text/plain": [
       "[obtain_trajectories]:   0%|          | 0/10000 [00:00<?, ?it/s]"
      ]
     },
     "metadata": {},
     "output_type": "display_data"
    },
    {
     "data": {
      "application/vnd.jupyter.widget-view+json": {
       "model_id": "da7447aea4334a47a4384a6f6de13c07",
       "version_major": 2,
       "version_minor": 0
      },
      "text/plain": [
       "[obtain_trajectories]:   0%|          | 0/10000 [00:00<?, ?it/s]"
      ]
     },
     "metadata": {},
     "output_type": "display_data"
    },
    {
     "name": "stdout",
     "output_type": "stream",
     "text": [
      "2023-04-06 12:04.27 [debug    ] RandomIterator is selected.\n",
      "2023-04-06 12:04.27 [info     ] Directory is created at d3rlpy_logs/DiscreteCQL_20230406120427\n",
      "2023-04-06 12:04.27 [debug    ] Building models...\n",
      "2023-04-06 12:04.27 [debug    ] Models have been built.\n",
      "2023-04-06 12:04.27 [info     ] Parameters are saved to d3rlpy_logs/DiscreteCQL_20230406120427/params.json params={'action_scaler': None, 'alpha': 1.0, 'batch_size': 32, 'encoder_factory': {'type': 'vector', 'params': {'hidden_units': [30, 30], 'activation': 'relu', 'use_batch_norm': False, 'dropout_rate': None, 'use_dense': False}}, 'gamma': 0.99, 'generated_maxlen': 100000, 'learning_rate': 6.25e-05, 'n_critics': 1, 'n_frames': 1, 'n_steps': 1, 'optim_factory': {'optim_cls': 'Adam', 'betas': (0.9, 0.999), 'eps': 1e-08, 'weight_decay': 0, 'amsgrad': False}, 'q_func_factory': {'type': 'mean', 'params': {'share_encoder': False}}, 'real_ratio': 1.0, 'reward_scaler': None, 'scaler': None, 'target_update_interval': 8000, 'use_gpu': None, 'algorithm': 'DiscreteCQL', 'observation_shape': (5,), 'action_size': 5}\n"
     ]
    },
    {
     "data": {
      "application/vnd.jupyter.widget-view+json": {
       "model_id": "9b0ae38b592f4166af9669d96ddc5192",
       "version_major": 2,
       "version_minor": 0
      },
      "text/plain": [
       "Epoch 1/1:   0%|          | 0/10000 [00:00<?, ?it/s]"
      ]
     },
     "metadata": {},
     "output_type": "display_data"
    },
    {
     "name": "stdout",
     "output_type": "stream",
     "text": [
      "2023-04-06 12:04.43 [info     ] DiscreteCQL_20230406120427: epoch=1 step=10000 epoch=1 metrics={'time_sample_batch': 0.00010907137393951416, 'time_algorithm_update': 0.0013497818946838379, 'loss': 1.2840593886911869, 'time_step': 0.0015518916845321654} step=10000\n",
      "2023-04-06 12:04.43 [info     ] Model parameters are saved to d3rlpy_logs/DiscreteCQL_20230406120427/model_10000.pt\n"
     ]
    },
    {
     "data": {
      "application/vnd.jupyter.widget-view+json": {
       "model_id": "6bf73fa965ea48e19da5781c5974d068",
       "version_major": 2,
       "version_minor": 0
      },
      "text/plain": [
       "[fit FQE model]:   0%|          | 0/2 [00:00<?, ?it/s]"
      ]
     },
     "metadata": {},
     "output_type": "display_data"
    },
    {
     "name": "stdout",
     "output_type": "stream",
     "text": [
      "2023-04-06 12:04.43 [debug    ] RoundIterator is selected.\n",
      "2023-04-06 12:04.43 [info     ] Directory is created at d3rlpy_logs/DiscreteFQE_20230406120443\n",
      "2023-04-06 12:04.43 [debug    ] Fitting scaler...              scaler=min_max\n",
      "2023-04-06 12:04.43 [debug    ] Building models...\n",
      "2023-04-06 12:04.43 [debug    ] Models have been built.\n",
      "2023-04-06 12:04.43 [info     ] Parameters are saved to d3rlpy_logs/DiscreteFQE_20230406120443/params.json params={'action_scaler': None, 'batch_size': 100, 'encoder_factory': {'type': 'vector', 'params': {'hidden_units': [30, 30], 'activation': 'relu', 'use_batch_norm': False, 'dropout_rate': None, 'use_dense': False}}, 'gamma': 0.95, 'generated_maxlen': 100000, 'learning_rate': 0.0001, 'n_critics': 1, 'n_frames': 1, 'n_steps': 1, 'optim_factory': {'optim_cls': 'Adam', 'betas': (0.9, 0.999), 'eps': 1e-08, 'weight_decay': 0, 'amsgrad': False}, 'q_func_factory': {'type': 'mean', 'params': {'share_encoder': False}}, 'real_ratio': 1.0, 'reward_scaler': None, 'scaler': {'type': 'min_max', 'params': {'maximum': array([0.98860703, 0.98765528, 0.99527853, 0.98676617, 0.99102165]), 'minimum': array([-0.99465054, -0.9926474 , -0.99255291, -0.98747391, -0.98927816])}}, 'target_update_interval': 100, 'use_gpu': None, 'algorithm': 'DiscreteFQE', 'observation_shape': (5,), 'action_size': 5}\n"
     ]
    },
    {
     "data": {
      "application/vnd.jupyter.widget-view+json": {
       "model_id": "d9241491106d4f84900dab5549b64627",
       "version_major": 2,
       "version_minor": 0
      },
      "text/plain": [
       "Epoch 1/1:   0%|          | 0/1000 [00:00<?, ?it/s]"
      ]
     },
     "metadata": {},
     "output_type": "display_data"
    },
    {
     "name": "stdout",
     "output_type": "stream",
     "text": [
      "2023-04-06 12:04.45 [info     ] DiscreteFQE_20230406120443: epoch=1 step=1000 epoch=1 metrics={'time_sample_batch': 0.00015064215660095216, 'time_algorithm_update': 0.0018616597652435303, 'loss': 0.043567356220446524, 'time_step': 0.002118520975112915} step=1000\n",
      "2023-04-06 12:04.45 [info     ] Model parameters are saved to d3rlpy_logs/DiscreteFQE_20230406120443/model_1000.pt\n",
      "2023-04-06 12:04.45 [debug    ] RoundIterator is selected.\n",
      "2023-04-06 12:04.45 [info     ] Directory is created at d3rlpy_logs/DiscreteFQE_20230406120445\n",
      "2023-04-06 12:04.45 [debug    ] Fitting scaler...              scaler=min_max\n",
      "2023-04-06 12:04.45 [debug    ] Building models...\n",
      "2023-04-06 12:04.45 [debug    ] Models have been built.\n",
      "2023-04-06 12:04.45 [info     ] Parameters are saved to d3rlpy_logs/DiscreteFQE_20230406120445/params.json params={'action_scaler': None, 'batch_size': 100, 'encoder_factory': {'type': 'vector', 'params': {'hidden_units': [30, 30], 'activation': 'relu', 'use_batch_norm': False, 'dropout_rate': None, 'use_dense': False}}, 'gamma': 0.95, 'generated_maxlen': 100000, 'learning_rate': 0.0001, 'n_critics': 1, 'n_frames': 1, 'n_steps': 1, 'optim_factory': {'optim_cls': 'Adam', 'betas': (0.9, 0.999), 'eps': 1e-08, 'weight_decay': 0, 'amsgrad': False}, 'q_func_factory': {'type': 'mean', 'params': {'share_encoder': False}}, 'real_ratio': 1.0, 'reward_scaler': None, 'scaler': {'type': 'min_max', 'params': {'maximum': array([0.98860703, 0.98765528, 0.99527853, 0.98676617, 0.99102165]), 'minimum': array([-0.99465054, -0.9926474 , -0.99255291, -0.98747391, -0.98927816])}}, 'target_update_interval': 100, 'use_gpu': None, 'algorithm': 'DiscreteFQE', 'observation_shape': (5,), 'action_size': 5}\n"
     ]
    },
    {
     "data": {
      "application/vnd.jupyter.widget-view+json": {
       "model_id": "fd101272ac344fb1bb29d72059af384f",
       "version_major": 2,
       "version_minor": 0
      },
      "text/plain": [
       "Epoch 1/1:   0%|          | 0/1000 [00:00<?, ?it/s]"
      ]
     },
     "metadata": {},
     "output_type": "display_data"
    },
    {
     "name": "stdout",
     "output_type": "stream",
     "text": [
      "2023-04-06 12:04.47 [info     ] DiscreteFQE_20230406120445: epoch=1 step=1000 epoch=1 metrics={'time_sample_batch': 0.00014463090896606445, 'time_algorithm_update': 0.0017683446407318116, 'loss': 0.05107857251353562, 'time_step': 0.0020054850578308104} step=1000\n",
      "2023-04-06 12:04.47 [info     ] Model parameters are saved to d3rlpy_logs/DiscreteFQE_20230406120445/model_1000.pt\n"
     ]
    },
    {
     "data": {
      "application/vnd.jupyter.widget-view+json": {
       "model_id": "47d8325d384a4ea3942f8e4274479f6b",
       "version_major": 2,
       "version_minor": 0
      },
      "text/plain": [
       "[fit MWL model]:   0%|          | 0/2 [00:00<?, ?it/s]"
      ]
     },
     "metadata": {},
     "output_type": "display_data"
    },
    {
     "data": {
      "application/vnd.jupyter.widget-view+json": {
       "model_id": "233fd2b6c2444a128e84e288d06dafa1",
       "version_major": 2,
       "version_minor": 0
      },
      "text/plain": [
       "[fitting_weight_function]:   0%|          | 0/100 [00:00<?, ?it/s]"
      ]
     },
     "metadata": {},
     "output_type": "display_data"
    },
    {
     "name": "stderr",
     "output_type": "stream",
     "text": [
      "/Users/ren/dev/ofrl/tutorial/../ofrl/ope/weight_value_learning/minimax_weight_learning_discrete.py:153: UserWarning: The use of `x.T` on tensors of dimension other than 2 to reverse their shape is deprecated and it will throw an error in a future release. Consider `x.mT` to transpose batches of matrices or `x.permute(*torch.arange(x.ndim - 1, -1, -1))` to reverse the dimensions of a tensor. (Triggered internally at /Users/runner/work/pytorch/pytorch/pytorch/aten/src/ATen/native/TensorShape.cpp:3281.)\n",
      "  importance_weight = importance_weight @ importance_weight.T\n"
     ]
    },
    {
     "data": {
      "application/vnd.jupyter.widget-view+json": {
       "model_id": "8c1f56de00cf4b039222d633b41dd260",
       "version_major": 2,
       "version_minor": 0
      },
      "text/plain": [
       "[fitting_weight_function]:   0%|          | 0/100 [00:00<?, ?it/s]"
      ]
     },
     "metadata": {},
     "output_type": "display_data"
    },
    {
     "data": {
      "application/vnd.jupyter.widget-view+json": {
       "model_id": "eace5a78d6f64e1aa7939fc3ea22cd4e",
       "version_major": 2,
       "version_minor": 0
      },
      "text/plain": [
       "[fitting_weight_function]:   0%|          | 0/100 [00:00<?, ?it/s]"
      ]
     },
     "metadata": {},
     "output_type": "display_data"
    },
    {
     "data": {
      "application/vnd.jupyter.widget-view+json": {
       "model_id": "d19b41f156c74330b8b1f58b4af6fde4",
       "version_major": 2,
       "version_minor": 0
      },
      "text/plain": [
       "[fitting_weight_function]:   0%|          | 0/100 [00:00<?, ?it/s]"
      ]
     },
     "metadata": {},
     "output_type": "display_data"
    },
    {
     "data": {
      "application/vnd.jupyter.widget-view+json": {
       "model_id": "0b34be1def8e421ebd877275b879046c",
       "version_major": 2,
       "version_minor": 0
      },
      "text/plain": [
       "[collect input data: eval_policy]:   0%|          | 0/2 [00:00<?, ?it/s]"
      ]
     },
     "metadata": {},
     "output_type": "display_data"
    },
    {
     "data": {
      "application/vnd.jupyter.widget-view+json": {
       "model_id": "040262132dbb44a6a50919bae4f04043",
       "version_major": 2,
       "version_minor": 0
      },
      "text/plain": [
       "[calculate on-policy policy value]:   0%|          | 0/100 [00:00<?, ?it/s]"
      ]
     },
     "metadata": {},
     "output_type": "display_data"
    },
    {
     "data": {
      "application/vnd.jupyter.widget-view+json": {
       "model_id": "b3c0f1fd58fc44e1ad96291102b9e44b",
       "version_major": 2,
       "version_minor": 0
      },
      "text/plain": [
       "[calculate on-policy policy value]:   0%|          | 0/100 [00:00<?, ?it/s]"
      ]
     },
     "metadata": {},
     "output_type": "display_data"
    },
    {
     "name": "stderr",
     "output_type": "stream",
     "text": [
      "/Users/ren/dev/ofrl/tutorial/../ofrl/ope/estimators_base.py:445: RuntimeWarning: invalid value encountered in divide\n",
      "  return numerator / denominator\n"
     ]
    },
    {
     "data": {
      "application/vnd.jupyter.widget-view+json": {
       "model_id": "91ca241f6a43481c9646782d10fe9b36",
       "version_major": 2,
       "version_minor": 0
      },
      "text/plain": [
       "[obtain_trajectories]:   0%|          | 0/10000 [00:00<?, ?it/s]"
      ]
     },
     "metadata": {},
     "output_type": "display_data"
    },
    {
     "data": {
      "application/vnd.jupyter.widget-view+json": {
       "model_id": "92fac52d90ad4bc99bc91dc3ec6c9d88",
       "version_major": 2,
       "version_minor": 0
      },
      "text/plain": [
       "[obtain_trajectories]:   0%|          | 0/10000 [00:00<?, ?it/s]"
      ]
     },
     "metadata": {},
     "output_type": "display_data"
    },
    {
     "name": "stdout",
     "output_type": "stream",
     "text": [
      "2023-04-06 12:06.49 [debug    ] RandomIterator is selected.\n",
      "2023-04-06 12:06.49 [info     ] Directory is created at d3rlpy_logs/DiscreteCQL_20230406120649\n",
      "2023-04-06 12:06.49 [debug    ] Building models...\n",
      "2023-04-06 12:06.49 [debug    ] Models have been built.\n",
      "2023-04-06 12:06.49 [info     ] Parameters are saved to d3rlpy_logs/DiscreteCQL_20230406120649/params.json params={'action_scaler': None, 'alpha': 1.0, 'batch_size': 32, 'encoder_factory': {'type': 'vector', 'params': {'hidden_units': [30, 30], 'activation': 'relu', 'use_batch_norm': False, 'dropout_rate': None, 'use_dense': False}}, 'gamma': 0.99, 'generated_maxlen': 100000, 'learning_rate': 6.25e-05, 'n_critics': 1, 'n_frames': 1, 'n_steps': 1, 'optim_factory': {'optim_cls': 'Adam', 'betas': (0.9, 0.999), 'eps': 1e-08, 'weight_decay': 0, 'amsgrad': False}, 'q_func_factory': {'type': 'mean', 'params': {'share_encoder': False}}, 'real_ratio': 1.0, 'reward_scaler': None, 'scaler': None, 'target_update_interval': 8000, 'use_gpu': None, 'algorithm': 'DiscreteCQL', 'observation_shape': (5,), 'action_size': 5}\n"
     ]
    },
    {
     "data": {
      "application/vnd.jupyter.widget-view+json": {
       "model_id": "91a83d48221043758461f029297dab1c",
       "version_major": 2,
       "version_minor": 0
      },
      "text/plain": [
       "Epoch 1/1:   0%|          | 0/10000 [00:00<?, ?it/s]"
      ]
     },
     "metadata": {},
     "output_type": "display_data"
    },
    {
     "name": "stdout",
     "output_type": "stream",
     "text": [
      "2023-04-06 12:07.06 [info     ] DiscreteCQL_20230406120649: epoch=1 step=10000 epoch=1 metrics={'time_sample_batch': 0.00011542191505432129, 'time_algorithm_update': 0.0014649706602096557, 'loss': 1.283438780015707, 'time_step': 0.0016797560691833495} step=10000\n",
      "2023-04-06 12:07.06 [info     ] Model parameters are saved to d3rlpy_logs/DiscreteCQL_20230406120649/model_10000.pt\n"
     ]
    },
    {
     "data": {
      "application/vnd.jupyter.widget-view+json": {
       "model_id": "77ce63ca26b24c2a9e63b6de45a3b37a",
       "version_major": 2,
       "version_minor": 0
      },
      "text/plain": [
       "[fit FQE model]:   0%|          | 0/2 [00:00<?, ?it/s]"
      ]
     },
     "metadata": {},
     "output_type": "display_data"
    },
    {
     "name": "stdout",
     "output_type": "stream",
     "text": [
      "2023-04-06 12:07.06 [debug    ] RoundIterator is selected.\n",
      "2023-04-06 12:07.06 [info     ] Directory is created at d3rlpy_logs/DiscreteFQE_20230406120706\n",
      "2023-04-06 12:07.06 [debug    ] Fitting scaler...              scaler=min_max\n",
      "2023-04-06 12:07.06 [debug    ] Building models...\n",
      "2023-04-06 12:07.06 [debug    ] Models have been built.\n",
      "2023-04-06 12:07.06 [info     ] Parameters are saved to d3rlpy_logs/DiscreteFQE_20230406120706/params.json params={'action_scaler': None, 'batch_size': 100, 'encoder_factory': {'type': 'vector', 'params': {'hidden_units': [30, 30], 'activation': 'relu', 'use_batch_norm': False, 'dropout_rate': None, 'use_dense': False}}, 'gamma': 0.95, 'generated_maxlen': 100000, 'learning_rate': 0.0001, 'n_critics': 1, 'n_frames': 1, 'n_steps': 1, 'optim_factory': {'optim_cls': 'Adam', 'betas': (0.9, 0.999), 'eps': 1e-08, 'weight_decay': 0, 'amsgrad': False}, 'q_func_factory': {'type': 'mean', 'params': {'share_encoder': False}}, 'real_ratio': 1.0, 'reward_scaler': None, 'scaler': {'type': 'min_max', 'params': {'maximum': array([0.98684053, 0.99595451, 0.98762569, 0.99284159, 0.97467526]), 'minimum': array([-0.98790897, -0.98005768, -0.99424953, -0.99650792, -0.98615869])}}, 'target_update_interval': 100, 'use_gpu': None, 'algorithm': 'DiscreteFQE', 'observation_shape': (5,), 'action_size': 5}\n"
     ]
    },
    {
     "data": {
      "application/vnd.jupyter.widget-view+json": {
       "model_id": "d6dd87170e824d48b7e6e094ad140aba",
       "version_major": 2,
       "version_minor": 0
      },
      "text/plain": [
       "Epoch 1/1:   0%|          | 0/1000 [00:00<?, ?it/s]"
      ]
     },
     "metadata": {},
     "output_type": "display_data"
    },
    {
     "name": "stdout",
     "output_type": "stream",
     "text": [
      "2023-04-06 12:07.08 [info     ] DiscreteFQE_20230406120706: epoch=1 step=1000 epoch=1 metrics={'time_sample_batch': 0.00014630508422851563, 'time_algorithm_update': 0.0018094241619110107, 'loss': 0.053269614743068815, 'time_step': 0.00208026385307312} step=1000\n",
      "2023-04-06 12:07.08 [info     ] Model parameters are saved to d3rlpy_logs/DiscreteFQE_20230406120706/model_1000.pt\n",
      "2023-04-06 12:07.08 [debug    ] RoundIterator is selected.\n",
      "2023-04-06 12:07.08 [info     ] Directory is created at d3rlpy_logs/DiscreteFQE_20230406120708\n",
      "2023-04-06 12:07.08 [debug    ] Fitting scaler...              scaler=min_max\n",
      "2023-04-06 12:07.08 [debug    ] Building models...\n",
      "2023-04-06 12:07.08 [debug    ] Models have been built.\n",
      "2023-04-06 12:07.08 [info     ] Parameters are saved to d3rlpy_logs/DiscreteFQE_20230406120708/params.json params={'action_scaler': None, 'batch_size': 100, 'encoder_factory': {'type': 'vector', 'params': {'hidden_units': [30, 30], 'activation': 'relu', 'use_batch_norm': False, 'dropout_rate': None, 'use_dense': False}}, 'gamma': 0.95, 'generated_maxlen': 100000, 'learning_rate': 0.0001, 'n_critics': 1, 'n_frames': 1, 'n_steps': 1, 'optim_factory': {'optim_cls': 'Adam', 'betas': (0.9, 0.999), 'eps': 1e-08, 'weight_decay': 0, 'amsgrad': False}, 'q_func_factory': {'type': 'mean', 'params': {'share_encoder': False}}, 'real_ratio': 1.0, 'reward_scaler': None, 'scaler': {'type': 'min_max', 'params': {'maximum': array([0.98684053, 0.99595451, 0.98762569, 0.99284159, 0.97467526]), 'minimum': array([-0.98790897, -0.98005768, -0.99424953, -0.99650792, -0.98615869])}}, 'target_update_interval': 100, 'use_gpu': None, 'algorithm': 'DiscreteFQE', 'observation_shape': (5,), 'action_size': 5}\n"
     ]
    },
    {
     "data": {
      "application/vnd.jupyter.widget-view+json": {
       "model_id": "a290578cbf09409f97e51c039808bc75",
       "version_major": 2,
       "version_minor": 0
      },
      "text/plain": [
       "Epoch 1/1:   0%|          | 0/1000 [00:00<?, ?it/s]"
      ]
     },
     "metadata": {},
     "output_type": "display_data"
    },
    {
     "name": "stdout",
     "output_type": "stream",
     "text": [
      "2023-04-06 12:07.10 [info     ] DiscreteFQE_20230406120708: epoch=1 step=1000 epoch=1 metrics={'time_sample_batch': 0.00016059398651123048, 'time_algorithm_update': 0.0018025970458984376, 'loss': 0.06089982284978032, 'time_step': 0.002051711082458496} step=1000\n",
      "2023-04-06 12:07.11 [info     ] Model parameters are saved to d3rlpy_logs/DiscreteFQE_20230406120708/model_1000.pt\n"
     ]
    },
    {
     "data": {
      "application/vnd.jupyter.widget-view+json": {
       "model_id": "d6876272e72f42e2bf50cffcde8c0a75",
       "version_major": 2,
       "version_minor": 0
      },
      "text/plain": [
       "[fit MWL model]:   0%|          | 0/2 [00:00<?, ?it/s]"
      ]
     },
     "metadata": {},
     "output_type": "display_data"
    },
    {
     "data": {
      "application/vnd.jupyter.widget-view+json": {
       "model_id": "ce36d62182b849f0a0358c2d8ecf92f7",
       "version_major": 2,
       "version_minor": 0
      },
      "text/plain": [
       "[fitting_weight_function]:   0%|          | 0/100 [00:00<?, ?it/s]"
      ]
     },
     "metadata": {},
     "output_type": "display_data"
    },
    {
     "data": {
      "application/vnd.jupyter.widget-view+json": {
       "model_id": "e1cb2abb5fc140b48e025491e6bc911d",
       "version_major": 2,
       "version_minor": 0
      },
      "text/plain": [
       "[fitting_weight_function]:   0%|          | 0/100 [00:00<?, ?it/s]"
      ]
     },
     "metadata": {},
     "output_type": "display_data"
    },
    {
     "data": {
      "application/vnd.jupyter.widget-view+json": {
       "model_id": "d1c69404e45f4eb58065eb24ae05235a",
       "version_major": 2,
       "version_minor": 0
      },
      "text/plain": [
       "[fitting_weight_function]:   0%|          | 0/100 [00:00<?, ?it/s]"
      ]
     },
     "metadata": {},
     "output_type": "display_data"
    },
    {
     "data": {
      "application/vnd.jupyter.widget-view+json": {
       "model_id": "363204d37dac4a2dac8fc6f08f96b5c0",
       "version_major": 2,
       "version_minor": 0
      },
      "text/plain": [
       "[fitting_weight_function]:   0%|          | 0/100 [00:00<?, ?it/s]"
      ]
     },
     "metadata": {},
     "output_type": "display_data"
    },
    {
     "data": {
      "application/vnd.jupyter.widget-view+json": {
       "model_id": "4a8865e7dd3c4112b6e435bc7a271022",
       "version_major": 2,
       "version_minor": 0
      },
      "text/plain": [
       "[collect input data: eval_policy]:   0%|          | 0/2 [00:00<?, ?it/s]"
      ]
     },
     "metadata": {},
     "output_type": "display_data"
    },
    {
     "data": {
      "application/vnd.jupyter.widget-view+json": {
       "model_id": "003740bf462449c799c3004c8d4bf223",
       "version_major": 2,
       "version_minor": 0
      },
      "text/plain": [
       "[calculate on-policy policy value]:   0%|          | 0/100 [00:00<?, ?it/s]"
      ]
     },
     "metadata": {},
     "output_type": "display_data"
    },
    {
     "data": {
      "application/vnd.jupyter.widget-view+json": {
       "model_id": "4fb92b997b4c46d792ca0e35bffd41f2",
       "version_major": 2,
       "version_minor": 0
      },
      "text/plain": [
       "[calculate on-policy policy value]:   0%|          | 0/100 [00:00<?, ?it/s]"
      ]
     },
     "metadata": {},
     "output_type": "display_data"
    },
    {
     "name": "stderr",
     "output_type": "stream",
     "text": [
      "/Users/ren/dev/ofrl/tutorial/../ofrl/ope/estimators_base.py:445: RuntimeWarning: invalid value encountered in divide\n",
      "  return numerator / denominator\n"
     ]
    },
    {
     "data": {
      "application/vnd.jupyter.widget-view+json": {
       "model_id": "14da72d060864e76b3de13be3a767780",
       "version_major": 2,
       "version_minor": 0
      },
      "text/plain": [
       "[obtain_trajectories]:   0%|          | 0/10000 [00:00<?, ?it/s]"
      ]
     },
     "metadata": {},
     "output_type": "display_data"
    },
    {
     "data": {
      "application/vnd.jupyter.widget-view+json": {
       "model_id": "3902d2168c88478a985953a2b420245f",
       "version_major": 2,
       "version_minor": 0
      },
      "text/plain": [
       "[obtain_trajectories]:   0%|          | 0/10000 [00:00<?, ?it/s]"
      ]
     },
     "metadata": {},
     "output_type": "display_data"
    },
    {
     "name": "stdout",
     "output_type": "stream",
     "text": [
      "2023-04-06 12:09.15 [debug    ] RandomIterator is selected.\n",
      "2023-04-06 12:09.15 [info     ] Directory is created at d3rlpy_logs/DiscreteCQL_20230406120915\n",
      "2023-04-06 12:09.15 [debug    ] Building models...\n",
      "2023-04-06 12:09.15 [debug    ] Models have been built.\n",
      "2023-04-06 12:09.15 [info     ] Parameters are saved to d3rlpy_logs/DiscreteCQL_20230406120915/params.json params={'action_scaler': None, 'alpha': 1.0, 'batch_size': 32, 'encoder_factory': {'type': 'vector', 'params': {'hidden_units': [30, 30], 'activation': 'relu', 'use_batch_norm': False, 'dropout_rate': None, 'use_dense': False}}, 'gamma': 0.99, 'generated_maxlen': 100000, 'learning_rate': 6.25e-05, 'n_critics': 1, 'n_frames': 1, 'n_steps': 1, 'optim_factory': {'optim_cls': 'Adam', 'betas': (0.9, 0.999), 'eps': 1e-08, 'weight_decay': 0, 'amsgrad': False}, 'q_func_factory': {'type': 'mean', 'params': {'share_encoder': False}}, 'real_ratio': 1.0, 'reward_scaler': None, 'scaler': None, 'target_update_interval': 8000, 'use_gpu': None, 'algorithm': 'DiscreteCQL', 'observation_shape': (5,), 'action_size': 5}\n"
     ]
    },
    {
     "data": {
      "application/vnd.jupyter.widget-view+json": {
       "model_id": "c5d0a445c355432ba6e5b9910e821157",
       "version_major": 2,
       "version_minor": 0
      },
      "text/plain": [
       "Epoch 1/1:   0%|          | 0/10000 [00:00<?, ?it/s]"
      ]
     },
     "metadata": {},
     "output_type": "display_data"
    },
    {
     "name": "stdout",
     "output_type": "stream",
     "text": [
      "2023-04-06 12:09.30 [info     ] DiscreteCQL_20230406120915: epoch=1 step=10000 epoch=1 metrics={'time_sample_batch': 0.00010714311599731446, 'time_algorithm_update': 0.001309087085723877, 'loss': 1.3109179483056068, 'time_step': 0.0015054511070251464} step=10000\n",
      "2023-04-06 12:09.30 [info     ] Model parameters are saved to d3rlpy_logs/DiscreteCQL_20230406120915/model_10000.pt\n"
     ]
    },
    {
     "data": {
      "application/vnd.jupyter.widget-view+json": {
       "model_id": "4bdea1a11eb042afa80ec60b4a9cd1ee",
       "version_major": 2,
       "version_minor": 0
      },
      "text/plain": [
       "[fit FQE model]:   0%|          | 0/2 [00:00<?, ?it/s]"
      ]
     },
     "metadata": {},
     "output_type": "display_data"
    },
    {
     "name": "stdout",
     "output_type": "stream",
     "text": [
      "2023-04-06 12:09.30 [debug    ] RoundIterator is selected.\n",
      "2023-04-06 12:09.30 [info     ] Directory is created at d3rlpy_logs/DiscreteFQE_20230406120930\n",
      "2023-04-06 12:09.30 [debug    ] Fitting scaler...              scaler=min_max\n",
      "2023-04-06 12:09.30 [debug    ] Building models...\n",
      "2023-04-06 12:09.30 [debug    ] Models have been built.\n",
      "2023-04-06 12:09.30 [info     ] Parameters are saved to d3rlpy_logs/DiscreteFQE_20230406120930/params.json params={'action_scaler': None, 'batch_size': 100, 'encoder_factory': {'type': 'vector', 'params': {'hidden_units': [30, 30], 'activation': 'relu', 'use_batch_norm': False, 'dropout_rate': None, 'use_dense': False}}, 'gamma': 0.95, 'generated_maxlen': 100000, 'learning_rate': 0.0001, 'n_critics': 1, 'n_frames': 1, 'n_steps': 1, 'optim_factory': {'optim_cls': 'Adam', 'betas': (0.9, 0.999), 'eps': 1e-08, 'weight_decay': 0, 'amsgrad': False}, 'q_func_factory': {'type': 'mean', 'params': {'share_encoder': False}}, 'real_ratio': 1.0, 'reward_scaler': None, 'scaler': {'type': 'min_max', 'params': {'maximum': array([0.98888034, 0.98424413, 0.9930543 , 0.99669379, 0.98846188]), 'minimum': array([-0.98765138, -0.99484266, -0.99197237, -0.98486994, -0.98976904])}}, 'target_update_interval': 100, 'use_gpu': None, 'algorithm': 'DiscreteFQE', 'observation_shape': (5,), 'action_size': 5}\n"
     ]
    },
    {
     "data": {
      "application/vnd.jupyter.widget-view+json": {
       "model_id": "d08e79ed32eb4596b49025dbdde64650",
       "version_major": 2,
       "version_minor": 0
      },
      "text/plain": [
       "Epoch 1/1:   0%|          | 0/1000 [00:00<?, ?it/s]"
      ]
     },
     "metadata": {},
     "output_type": "display_data"
    },
    {
     "name": "stdout",
     "output_type": "stream",
     "text": [
      "2023-04-06 12:09.32 [info     ] DiscreteFQE_20230406120930: epoch=1 step=1000 epoch=1 metrics={'time_sample_batch': 0.00012435364723205566, 'time_algorithm_update': 0.00128365159034729, 'loss': 0.04628085643239319, 'time_step': 0.0014738876819610596} step=1000\n",
      "2023-04-06 12:09.32 [info     ] Model parameters are saved to d3rlpy_logs/DiscreteFQE_20230406120930/model_1000.pt\n",
      "2023-04-06 12:09.32 [debug    ] RoundIterator is selected.\n",
      "2023-04-06 12:09.32 [info     ] Directory is created at d3rlpy_logs/DiscreteFQE_20230406120932\n",
      "2023-04-06 12:09.32 [debug    ] Fitting scaler...              scaler=min_max\n",
      "2023-04-06 12:09.32 [debug    ] Building models...\n",
      "2023-04-06 12:09.32 [debug    ] Models have been built.\n",
      "2023-04-06 12:09.32 [info     ] Parameters are saved to d3rlpy_logs/DiscreteFQE_20230406120932/params.json params={'action_scaler': None, 'batch_size': 100, 'encoder_factory': {'type': 'vector', 'params': {'hidden_units': [30, 30], 'activation': 'relu', 'use_batch_norm': False, 'dropout_rate': None, 'use_dense': False}}, 'gamma': 0.95, 'generated_maxlen': 100000, 'learning_rate': 0.0001, 'n_critics': 1, 'n_frames': 1, 'n_steps': 1, 'optim_factory': {'optim_cls': 'Adam', 'betas': (0.9, 0.999), 'eps': 1e-08, 'weight_decay': 0, 'amsgrad': False}, 'q_func_factory': {'type': 'mean', 'params': {'share_encoder': False}}, 'real_ratio': 1.0, 'reward_scaler': None, 'scaler': {'type': 'min_max', 'params': {'maximum': array([0.98888034, 0.98424413, 0.9930543 , 0.99669379, 0.98846188]), 'minimum': array([-0.98765138, -0.99484266, -0.99197237, -0.98486994, -0.98976904])}}, 'target_update_interval': 100, 'use_gpu': None, 'algorithm': 'DiscreteFQE', 'observation_shape': (5,), 'action_size': 5}\n"
     ]
    },
    {
     "data": {
      "application/vnd.jupyter.widget-view+json": {
       "model_id": "631a84322d764b14a7eaafba9caf655a",
       "version_major": 2,
       "version_minor": 0
      },
      "text/plain": [
       "Epoch 1/1:   0%|          | 0/1000 [00:00<?, ?it/s]"
      ]
     },
     "metadata": {},
     "output_type": "display_data"
    },
    {
     "name": "stdout",
     "output_type": "stream",
     "text": [
      "2023-04-06 12:09.34 [info     ] DiscreteFQE_20230406120932: epoch=1 step=1000 epoch=1 metrics={'time_sample_batch': 0.00013741445541381835, 'time_algorithm_update': 0.001587651491165161, 'loss': 0.04768622201494872, 'time_step': 0.0018045916557312012} step=1000\n",
      "2023-04-06 12:09.34 [info     ] Model parameters are saved to d3rlpy_logs/DiscreteFQE_20230406120932/model_1000.pt\n"
     ]
    },
    {
     "data": {
      "application/vnd.jupyter.widget-view+json": {
       "model_id": "12bfe76a60f34ebe9a9439fe8647c105",
       "version_major": 2,
       "version_minor": 0
      },
      "text/plain": [
       "[fit MWL model]:   0%|          | 0/2 [00:00<?, ?it/s]"
      ]
     },
     "metadata": {},
     "output_type": "display_data"
    },
    {
     "data": {
      "application/vnd.jupyter.widget-view+json": {
       "model_id": "a7bc34d0f76c49c392dd4099037e35a7",
       "version_major": 2,
       "version_minor": 0
      },
      "text/plain": [
       "[fitting_weight_function]:   0%|          | 0/100 [00:00<?, ?it/s]"
      ]
     },
     "metadata": {},
     "output_type": "display_data"
    },
    {
     "data": {
      "application/vnd.jupyter.widget-view+json": {
       "model_id": "f89e663bd22345059162806063d9b468",
       "version_major": 2,
       "version_minor": 0
      },
      "text/plain": [
       "[fitting_weight_function]:   0%|          | 0/100 [00:00<?, ?it/s]"
      ]
     },
     "metadata": {},
     "output_type": "display_data"
    },
    {
     "data": {
      "application/vnd.jupyter.widget-view+json": {
       "model_id": "d6598338850044c688a65e21cc8282d3",
       "version_major": 2,
       "version_minor": 0
      },
      "text/plain": [
       "[fitting_weight_function]:   0%|          | 0/100 [00:00<?, ?it/s]"
      ]
     },
     "metadata": {},
     "output_type": "display_data"
    },
    {
     "data": {
      "application/vnd.jupyter.widget-view+json": {
       "model_id": "e1dc09700e814ebdab185284f8fe2a22",
       "version_major": 2,
       "version_minor": 0
      },
      "text/plain": [
       "[fitting_weight_function]:   0%|          | 0/100 [00:00<?, ?it/s]"
      ]
     },
     "metadata": {},
     "output_type": "display_data"
    },
    {
     "data": {
      "application/vnd.jupyter.widget-view+json": {
       "model_id": "2b26df36718c4728912394630a8eaade",
       "version_major": 2,
       "version_minor": 0
      },
      "text/plain": [
       "[collect input data: eval_policy]:   0%|          | 0/2 [00:00<?, ?it/s]"
      ]
     },
     "metadata": {},
     "output_type": "display_data"
    },
    {
     "data": {
      "application/vnd.jupyter.widget-view+json": {
       "model_id": "f6d34f1b49584fcdb176bb976eaf9fb5",
       "version_major": 2,
       "version_minor": 0
      },
      "text/plain": [
       "[calculate on-policy policy value]:   0%|          | 0/100 [00:00<?, ?it/s]"
      ]
     },
     "metadata": {},
     "output_type": "display_data"
    },
    {
     "data": {
      "application/vnd.jupyter.widget-view+json": {
       "model_id": "7703242195a94e63a3f6bb8295ca9ec2",
       "version_major": 2,
       "version_minor": 0
      },
      "text/plain": [
       "[calculate on-policy policy value]:   0%|          | 0/100 [00:00<?, ?it/s]"
      ]
     },
     "metadata": {},
     "output_type": "display_data"
    },
    {
     "name": "stderr",
     "output_type": "stream",
     "text": [
      "/Users/ren/dev/ofrl/tutorial/../ofrl/ope/estimators_base.py:445: RuntimeWarning: invalid value encountered in divide\n",
      "  return numerator / denominator\n"
     ]
    },
    {
     "data": {
      "application/vnd.jupyter.widget-view+json": {
       "model_id": "27ebd795fa6a40438ef4a5061fbabacd",
       "version_major": 2,
       "version_minor": 0
      },
      "text/plain": [
       "[obtain_trajectories]:   0%|          | 0/10000 [00:00<?, ?it/s]"
      ]
     },
     "metadata": {},
     "output_type": "display_data"
    },
    {
     "data": {
      "application/vnd.jupyter.widget-view+json": {
       "model_id": "4d45d7f312c44c0ab9e3f0e2a330f02b",
       "version_major": 2,
       "version_minor": 0
      },
      "text/plain": [
       "[obtain_trajectories]:   0%|          | 0/10000 [00:00<?, ?it/s]"
      ]
     },
     "metadata": {},
     "output_type": "display_data"
    },
    {
     "name": "stdout",
     "output_type": "stream",
     "text": [
      "2023-04-06 12:11.42 [debug    ] RandomIterator is selected.\n",
      "2023-04-06 12:11.42 [info     ] Directory is created at d3rlpy_logs/DiscreteCQL_20230406121142\n",
      "2023-04-06 12:11.42 [debug    ] Building models...\n",
      "2023-04-06 12:11.42 [debug    ] Models have been built.\n",
      "2023-04-06 12:11.42 [info     ] Parameters are saved to d3rlpy_logs/DiscreteCQL_20230406121142/params.json params={'action_scaler': None, 'alpha': 1.0, 'batch_size': 32, 'encoder_factory': {'type': 'vector', 'params': {'hidden_units': [30, 30], 'activation': 'relu', 'use_batch_norm': False, 'dropout_rate': None, 'use_dense': False}}, 'gamma': 0.99, 'generated_maxlen': 100000, 'learning_rate': 6.25e-05, 'n_critics': 1, 'n_frames': 1, 'n_steps': 1, 'optim_factory': {'optim_cls': 'Adam', 'betas': (0.9, 0.999), 'eps': 1e-08, 'weight_decay': 0, 'amsgrad': False}, 'q_func_factory': {'type': 'mean', 'params': {'share_encoder': False}}, 'real_ratio': 1.0, 'reward_scaler': None, 'scaler': None, 'target_update_interval': 8000, 'use_gpu': None, 'algorithm': 'DiscreteCQL', 'observation_shape': (5,), 'action_size': 5}\n"
     ]
    },
    {
     "data": {
      "application/vnd.jupyter.widget-view+json": {
       "model_id": "94abc144463444d88aece9748db5029a",
       "version_major": 2,
       "version_minor": 0
      },
      "text/plain": [
       "Epoch 1/1:   0%|          | 0/10000 [00:00<?, ?it/s]"
      ]
     },
     "metadata": {},
     "output_type": "display_data"
    },
    {
     "name": "stdout",
     "output_type": "stream",
     "text": [
      "2023-04-06 12:11.58 [info     ] DiscreteCQL_20230406121142: epoch=1 step=10000 epoch=1 metrics={'time_sample_batch': 0.00011196532249450684, 'time_algorithm_update': 0.0014060052633285522, 'loss': 1.297982324528694, 'time_step': 0.001614509391784668} step=10000\n",
      "2023-04-06 12:11.58 [info     ] Model parameters are saved to d3rlpy_logs/DiscreteCQL_20230406121142/model_10000.pt\n"
     ]
    },
    {
     "data": {
      "application/vnd.jupyter.widget-view+json": {
       "model_id": "587854ddac7347f980fda43673365220",
       "version_major": 2,
       "version_minor": 0
      },
      "text/plain": [
       "[fit FQE model]:   0%|          | 0/2 [00:00<?, ?it/s]"
      ]
     },
     "metadata": {},
     "output_type": "display_data"
    },
    {
     "name": "stdout",
     "output_type": "stream",
     "text": [
      "2023-04-06 12:11.59 [debug    ] RoundIterator is selected.\n",
      "2023-04-06 12:11.59 [info     ] Directory is created at d3rlpy_logs/DiscreteFQE_20230406121159\n",
      "2023-04-06 12:11.59 [debug    ] Fitting scaler...              scaler=min_max\n",
      "2023-04-06 12:11.59 [debug    ] Building models...\n",
      "2023-04-06 12:11.59 [debug    ] Models have been built.\n",
      "2023-04-06 12:11.59 [info     ] Parameters are saved to d3rlpy_logs/DiscreteFQE_20230406121159/params.json params={'action_scaler': None, 'batch_size': 100, 'encoder_factory': {'type': 'vector', 'params': {'hidden_units': [30, 30], 'activation': 'relu', 'use_batch_norm': False, 'dropout_rate': None, 'use_dense': False}}, 'gamma': 0.95, 'generated_maxlen': 100000, 'learning_rate': 0.0001, 'n_critics': 1, 'n_frames': 1, 'n_steps': 1, 'optim_factory': {'optim_cls': 'Adam', 'betas': (0.9, 0.999), 'eps': 1e-08, 'weight_decay': 0, 'amsgrad': False}, 'q_func_factory': {'type': 'mean', 'params': {'share_encoder': False}}, 'real_ratio': 1.0, 'reward_scaler': None, 'scaler': {'type': 'min_max', 'params': {'maximum': array([0.99702758, 0.98432847, 0.99762128, 0.99535051, 0.9972548 ]), 'minimum': array([-0.97581596, -0.99062838, -0.99080173, -0.98989499, -0.99087946])}}, 'target_update_interval': 100, 'use_gpu': None, 'algorithm': 'DiscreteFQE', 'observation_shape': (5,), 'action_size': 5}\n"
     ]
    },
    {
     "data": {
      "application/vnd.jupyter.widget-view+json": {
       "model_id": "afae61b58fee4e7b87f74c60c468eaa8",
       "version_major": 2,
       "version_minor": 0
      },
      "text/plain": [
       "Epoch 1/1:   0%|          | 0/1000 [00:00<?, ?it/s]"
      ]
     },
     "metadata": {},
     "output_type": "display_data"
    },
    {
     "name": "stdout",
     "output_type": "stream",
     "text": [
      "2023-04-06 12:12.01 [info     ] DiscreteFQE_20230406121159: epoch=1 step=1000 epoch=1 metrics={'time_sample_batch': 0.00014711356163024902, 'time_algorithm_update': 0.001810741424560547, 'loss': 0.06689794207550585, 'time_step': 0.002044377326965332} step=1000\n",
      "2023-04-06 12:12.01 [info     ] Model parameters are saved to d3rlpy_logs/DiscreteFQE_20230406121159/model_1000.pt\n",
      "2023-04-06 12:12.01 [debug    ] RoundIterator is selected.\n",
      "2023-04-06 12:12.01 [info     ] Directory is created at d3rlpy_logs/DiscreteFQE_20230406121201\n",
      "2023-04-06 12:12.01 [debug    ] Fitting scaler...              scaler=min_max\n",
      "2023-04-06 12:12.01 [debug    ] Building models...\n",
      "2023-04-06 12:12.01 [debug    ] Models have been built.\n",
      "2023-04-06 12:12.01 [info     ] Parameters are saved to d3rlpy_logs/DiscreteFQE_20230406121201/params.json params={'action_scaler': None, 'batch_size': 100, 'encoder_factory': {'type': 'vector', 'params': {'hidden_units': [30, 30], 'activation': 'relu', 'use_batch_norm': False, 'dropout_rate': None, 'use_dense': False}}, 'gamma': 0.95, 'generated_maxlen': 100000, 'learning_rate': 0.0001, 'n_critics': 1, 'n_frames': 1, 'n_steps': 1, 'optim_factory': {'optim_cls': 'Adam', 'betas': (0.9, 0.999), 'eps': 1e-08, 'weight_decay': 0, 'amsgrad': False}, 'q_func_factory': {'type': 'mean', 'params': {'share_encoder': False}}, 'real_ratio': 1.0, 'reward_scaler': None, 'scaler': {'type': 'min_max', 'params': {'maximum': array([0.99702758, 0.98432847, 0.99762128, 0.99535051, 0.9972548 ]), 'minimum': array([-0.97581596, -0.99062838, -0.99080173, -0.98989499, -0.99087946])}}, 'target_update_interval': 100, 'use_gpu': None, 'algorithm': 'DiscreteFQE', 'observation_shape': (5,), 'action_size': 5}\n"
     ]
    },
    {
     "data": {
      "application/vnd.jupyter.widget-view+json": {
       "model_id": "6aac6055557740158934d7c637a2b07d",
       "version_major": 2,
       "version_minor": 0
      },
      "text/plain": [
       "Epoch 1/1:   0%|          | 0/1000 [00:00<?, ?it/s]"
      ]
     },
     "metadata": {},
     "output_type": "display_data"
    },
    {
     "name": "stdout",
     "output_type": "stream",
     "text": [
      "2023-04-06 12:12.03 [info     ] DiscreteFQE_20230406121201: epoch=1 step=1000 epoch=1 metrics={'time_sample_batch': 0.00015181612968444825, 'time_algorithm_update': 0.001747023105621338, 'loss': 0.058214177830144764, 'time_step': 0.001991410255432129} step=1000\n",
      "2023-04-06 12:12.03 [info     ] Model parameters are saved to d3rlpy_logs/DiscreteFQE_20230406121201/model_1000.pt\n"
     ]
    },
    {
     "data": {
      "application/vnd.jupyter.widget-view+json": {
       "model_id": "2cbdc8d1d9804505b1f36e693b3d1edd",
       "version_major": 2,
       "version_minor": 0
      },
      "text/plain": [
       "[fit MWL model]:   0%|          | 0/2 [00:00<?, ?it/s]"
      ]
     },
     "metadata": {},
     "output_type": "display_data"
    },
    {
     "data": {
      "application/vnd.jupyter.widget-view+json": {
       "model_id": "aba27ec4ecdc48cc870baf55a56fa408",
       "version_major": 2,
       "version_minor": 0
      },
      "text/plain": [
       "[fitting_weight_function]:   0%|          | 0/100 [00:00<?, ?it/s]"
      ]
     },
     "metadata": {},
     "output_type": "display_data"
    },
    {
     "data": {
      "application/vnd.jupyter.widget-view+json": {
       "model_id": "b66efb4b41ec4f818fc5effd7cf5477d",
       "version_major": 2,
       "version_minor": 0
      },
      "text/plain": [
       "[fitting_weight_function]:   0%|          | 0/100 [00:00<?, ?it/s]"
      ]
     },
     "metadata": {},
     "output_type": "display_data"
    },
    {
     "data": {
      "application/vnd.jupyter.widget-view+json": {
       "model_id": "f04c8a1eb6834873b6041c08b66ce04d",
       "version_major": 2,
       "version_minor": 0
      },
      "text/plain": [
       "[fitting_weight_function]:   0%|          | 0/100 [00:00<?, ?it/s]"
      ]
     },
     "metadata": {},
     "output_type": "display_data"
    },
    {
     "data": {
      "application/vnd.jupyter.widget-view+json": {
       "model_id": "d43a6869931741fd9dff7e035f276ce8",
       "version_major": 2,
       "version_minor": 0
      },
      "text/plain": [
       "[fitting_weight_function]:   0%|          | 0/100 [00:00<?, ?it/s]"
      ]
     },
     "metadata": {},
     "output_type": "display_data"
    },
    {
     "data": {
      "application/vnd.jupyter.widget-view+json": {
       "model_id": "eee08e3307174237b541472c1a6a850f",
       "version_major": 2,
       "version_minor": 0
      },
      "text/plain": [
       "[collect input data: eval_policy]:   0%|          | 0/2 [00:00<?, ?it/s]"
      ]
     },
     "metadata": {},
     "output_type": "display_data"
    },
    {
     "data": {
      "application/vnd.jupyter.widget-view+json": {
       "model_id": "03ce502c92bc43f3acf1afdc17166744",
       "version_major": 2,
       "version_minor": 0
      },
      "text/plain": [
       "[calculate on-policy policy value]:   0%|          | 0/100 [00:00<?, ?it/s]"
      ]
     },
     "metadata": {},
     "output_type": "display_data"
    },
    {
     "data": {
      "application/vnd.jupyter.widget-view+json": {
       "model_id": "107052d3d3184a2c9dd4c37f96978ced",
       "version_major": 2,
       "version_minor": 0
      },
      "text/plain": [
       "[calculate on-policy policy value]:   0%|          | 0/100 [00:00<?, ?it/s]"
      ]
     },
     "metadata": {},
     "output_type": "display_data"
    },
    {
     "name": "stderr",
     "output_type": "stream",
     "text": [
      "/Users/ren/dev/ofrl/tutorial/../ofrl/ope/estimators_base.py:445: RuntimeWarning: invalid value encountered in divide\n",
      "  return numerator / denominator\n"
     ]
    },
    {
     "data": {
      "application/vnd.jupyter.widget-view+json": {
       "model_id": "26654016745143ab8d2877c75f589c85",
       "version_major": 2,
       "version_minor": 0
      },
      "text/plain": [
       "[obtain_trajectories]:   0%|          | 0/10000 [00:00<?, ?it/s]"
      ]
     },
     "metadata": {},
     "output_type": "display_data"
    },
    {
     "data": {
      "application/vnd.jupyter.widget-view+json": {
       "model_id": "83c15baad801430082dd5db37be04787",
       "version_major": 2,
       "version_minor": 0
      },
      "text/plain": [
       "[obtain_trajectories]:   0%|          | 0/10000 [00:00<?, ?it/s]"
      ]
     },
     "metadata": {},
     "output_type": "display_data"
    },
    {
     "name": "stdout",
     "output_type": "stream",
     "text": [
      "2023-04-06 12:14.22 [debug    ] RandomIterator is selected.\n",
      "2023-04-06 12:14.22 [info     ] Directory is created at d3rlpy_logs/DiscreteCQL_20230406121422\n",
      "2023-04-06 12:14.22 [debug    ] Building models...\n",
      "2023-04-06 12:14.22 [debug    ] Models have been built.\n",
      "2023-04-06 12:14.22 [info     ] Parameters are saved to d3rlpy_logs/DiscreteCQL_20230406121422/params.json params={'action_scaler': None, 'alpha': 1.0, 'batch_size': 32, 'encoder_factory': {'type': 'vector', 'params': {'hidden_units': [30, 30], 'activation': 'relu', 'use_batch_norm': False, 'dropout_rate': None, 'use_dense': False}}, 'gamma': 0.99, 'generated_maxlen': 100000, 'learning_rate': 6.25e-05, 'n_critics': 1, 'n_frames': 1, 'n_steps': 1, 'optim_factory': {'optim_cls': 'Adam', 'betas': (0.9, 0.999), 'eps': 1e-08, 'weight_decay': 0, 'amsgrad': False}, 'q_func_factory': {'type': 'mean', 'params': {'share_encoder': False}}, 'real_ratio': 1.0, 'reward_scaler': None, 'scaler': None, 'target_update_interval': 8000, 'use_gpu': None, 'algorithm': 'DiscreteCQL', 'observation_shape': (5,), 'action_size': 5}\n"
     ]
    },
    {
     "data": {
      "application/vnd.jupyter.widget-view+json": {
       "model_id": "8fc8bc66ae644a1e975e9a6fddf8734e",
       "version_major": 2,
       "version_minor": 0
      },
      "text/plain": [
       "Epoch 1/1:   0%|          | 0/10000 [00:00<?, ?it/s]"
      ]
     },
     "metadata": {},
     "output_type": "display_data"
    },
    {
     "name": "stdout",
     "output_type": "stream",
     "text": [
      "2023-04-06 12:14.39 [info     ] DiscreteCQL_20230406121422: epoch=1 step=10000 epoch=1 metrics={'time_sample_batch': 0.0001132680892944336, 'time_algorithm_update': 0.0014342357873916626, 'loss': 1.291869160401821, 'time_step': 0.0016446618318557739} step=10000\n",
      "2023-04-06 12:14.39 [info     ] Model parameters are saved to d3rlpy_logs/DiscreteCQL_20230406121422/model_10000.pt\n"
     ]
    },
    {
     "data": {
      "application/vnd.jupyter.widget-view+json": {
       "model_id": "c03a57268e934aac8699d3d83c2c1b2c",
       "version_major": 2,
       "version_minor": 0
      },
      "text/plain": [
       "[fit FQE model]:   0%|          | 0/2 [00:00<?, ?it/s]"
      ]
     },
     "metadata": {},
     "output_type": "display_data"
    },
    {
     "name": "stdout",
     "output_type": "stream",
     "text": [
      "2023-04-06 12:14.39 [debug    ] RoundIterator is selected.\n",
      "2023-04-06 12:14.39 [info     ] Directory is created at d3rlpy_logs/DiscreteFQE_20230406121439\n",
      "2023-04-06 12:14.39 [debug    ] Fitting scaler...              scaler=min_max\n",
      "2023-04-06 12:14.39 [debug    ] Building models...\n",
      "2023-04-06 12:14.39 [debug    ] Models have been built.\n",
      "2023-04-06 12:14.39 [info     ] Parameters are saved to d3rlpy_logs/DiscreteFQE_20230406121439/params.json params={'action_scaler': None, 'batch_size': 100, 'encoder_factory': {'type': 'vector', 'params': {'hidden_units': [30, 30], 'activation': 'relu', 'use_batch_norm': False, 'dropout_rate': None, 'use_dense': False}}, 'gamma': 0.95, 'generated_maxlen': 100000, 'learning_rate': 0.0001, 'n_critics': 1, 'n_frames': 1, 'n_steps': 1, 'optim_factory': {'optim_cls': 'Adam', 'betas': (0.9, 0.999), 'eps': 1e-08, 'weight_decay': 0, 'amsgrad': False}, 'q_func_factory': {'type': 'mean', 'params': {'share_encoder': False}}, 'real_ratio': 1.0, 'reward_scaler': None, 'scaler': {'type': 'min_max', 'params': {'maximum': array([0.98929948, 0.98553786, 0.98754038, 0.99409447, 0.98430545]), 'minimum': array([-0.99855965, -0.99596153, -0.99770749, -0.99022278, -0.98448468])}}, 'target_update_interval': 100, 'use_gpu': None, 'algorithm': 'DiscreteFQE', 'observation_shape': (5,), 'action_size': 5}\n"
     ]
    },
    {
     "data": {
      "application/vnd.jupyter.widget-view+json": {
       "model_id": "cb7e927320f84b69916bf3ae209b3d3a",
       "version_major": 2,
       "version_minor": 0
      },
      "text/plain": [
       "Epoch 1/1:   0%|          | 0/1000 [00:00<?, ?it/s]"
      ]
     },
     "metadata": {},
     "output_type": "display_data"
    },
    {
     "name": "stdout",
     "output_type": "stream",
     "text": [
      "2023-04-06 12:14.41 [info     ] DiscreteFQE_20230406121439: epoch=1 step=1000 epoch=1 metrics={'time_sample_batch': 0.00013753676414489746, 'time_algorithm_update': 0.001678337335586548, 'loss': 0.044150752626359466, 'time_step': 0.001899399995803833} step=1000\n",
      "2023-04-06 12:14.41 [info     ] Model parameters are saved to d3rlpy_logs/DiscreteFQE_20230406121439/model_1000.pt\n",
      "2023-04-06 12:14.41 [debug    ] RoundIterator is selected.\n",
      "2023-04-06 12:14.41 [info     ] Directory is created at d3rlpy_logs/DiscreteFQE_20230406121441\n",
      "2023-04-06 12:14.41 [debug    ] Fitting scaler...              scaler=min_max\n",
      "2023-04-06 12:14.41 [debug    ] Building models...\n",
      "2023-04-06 12:14.41 [debug    ] Models have been built.\n",
      "2023-04-06 12:14.41 [info     ] Parameters are saved to d3rlpy_logs/DiscreteFQE_20230406121441/params.json params={'action_scaler': None, 'batch_size': 100, 'encoder_factory': {'type': 'vector', 'params': {'hidden_units': [30, 30], 'activation': 'relu', 'use_batch_norm': False, 'dropout_rate': None, 'use_dense': False}}, 'gamma': 0.95, 'generated_maxlen': 100000, 'learning_rate': 0.0001, 'n_critics': 1, 'n_frames': 1, 'n_steps': 1, 'optim_factory': {'optim_cls': 'Adam', 'betas': (0.9, 0.999), 'eps': 1e-08, 'weight_decay': 0, 'amsgrad': False}, 'q_func_factory': {'type': 'mean', 'params': {'share_encoder': False}}, 'real_ratio': 1.0, 'reward_scaler': None, 'scaler': {'type': 'min_max', 'params': {'maximum': array([0.98929948, 0.98553786, 0.98754038, 0.99409447, 0.98430545]), 'minimum': array([-0.99855965, -0.99596153, -0.99770749, -0.99022278, -0.98448468])}}, 'target_update_interval': 100, 'use_gpu': None, 'algorithm': 'DiscreteFQE', 'observation_shape': (5,), 'action_size': 5}\n"
     ]
    },
    {
     "data": {
      "application/vnd.jupyter.widget-view+json": {
       "model_id": "c7768bef900b4b3b9a4f8b8d973012e0",
       "version_major": 2,
       "version_minor": 0
      },
      "text/plain": [
       "Epoch 1/1:   0%|          | 0/1000 [00:00<?, ?it/s]"
      ]
     },
     "metadata": {},
     "output_type": "display_data"
    },
    {
     "name": "stdout",
     "output_type": "stream",
     "text": [
      "2023-04-06 12:14.43 [info     ] DiscreteFQE_20230406121441: epoch=1 step=1000 epoch=1 metrics={'time_sample_batch': 0.00016158175468444823, 'time_algorithm_update': 0.0016162731647491454, 'loss': 0.04563004666008055, 'time_step': 0.001875093936920166} step=1000\n",
      "2023-04-06 12:14.43 [info     ] Model parameters are saved to d3rlpy_logs/DiscreteFQE_20230406121441/model_1000.pt\n"
     ]
    },
    {
     "data": {
      "application/vnd.jupyter.widget-view+json": {
       "model_id": "30afe536729e47aeb93fbfc115a8cc52",
       "version_major": 2,
       "version_minor": 0
      },
      "text/plain": [
       "[fit MWL model]:   0%|          | 0/2 [00:00<?, ?it/s]"
      ]
     },
     "metadata": {},
     "output_type": "display_data"
    },
    {
     "data": {
      "application/vnd.jupyter.widget-view+json": {
       "model_id": "425ab022c5cc4311918f6fc585098999",
       "version_major": 2,
       "version_minor": 0
      },
      "text/plain": [
       "[fitting_weight_function]:   0%|          | 0/100 [00:00<?, ?it/s]"
      ]
     },
     "metadata": {},
     "output_type": "display_data"
    },
    {
     "data": {
      "application/vnd.jupyter.widget-view+json": {
       "model_id": "f883b2e814b34fefb4819e5a9e812df4",
       "version_major": 2,
       "version_minor": 0
      },
      "text/plain": [
       "[fitting_weight_function]:   0%|          | 0/100 [00:00<?, ?it/s]"
      ]
     },
     "metadata": {},
     "output_type": "display_data"
    },
    {
     "data": {
      "application/vnd.jupyter.widget-view+json": {
       "model_id": "11c2407fc96d4e068d3ab1e5bccff66c",
       "version_major": 2,
       "version_minor": 0
      },
      "text/plain": [
       "[fitting_weight_function]:   0%|          | 0/100 [00:00<?, ?it/s]"
      ]
     },
     "metadata": {},
     "output_type": "display_data"
    },
    {
     "data": {
      "application/vnd.jupyter.widget-view+json": {
       "model_id": "706639f39d2c48ad8fdaf4b5320f0bf6",
       "version_major": 2,
       "version_minor": 0
      },
      "text/plain": [
       "[fitting_weight_function]:   0%|          | 0/100 [00:00<?, ?it/s]"
      ]
     },
     "metadata": {},
     "output_type": "display_data"
    },
    {
     "data": {
      "application/vnd.jupyter.widget-view+json": {
       "model_id": "7a51a7efc13a43d08f3fcc3c0be1a120",
       "version_major": 2,
       "version_minor": 0
      },
      "text/plain": [
       "[collect input data: eval_policy]:   0%|          | 0/2 [00:00<?, ?it/s]"
      ]
     },
     "metadata": {},
     "output_type": "display_data"
    },
    {
     "data": {
      "application/vnd.jupyter.widget-view+json": {
       "model_id": "bc60c401315548149c64360d114bad8f",
       "version_major": 2,
       "version_minor": 0
      },
      "text/plain": [
       "[calculate on-policy policy value]:   0%|          | 0/100 [00:00<?, ?it/s]"
      ]
     },
     "metadata": {},
     "output_type": "display_data"
    },
    {
     "data": {
      "application/vnd.jupyter.widget-view+json": {
       "model_id": "fa9510b8ce9b4608b544f0b717270532",
       "version_major": 2,
       "version_minor": 0
      },
      "text/plain": [
       "[calculate on-policy policy value]:   0%|          | 0/100 [00:00<?, ?it/s]"
      ]
     },
     "metadata": {},
     "output_type": "display_data"
    },
    {
     "name": "stderr",
     "output_type": "stream",
     "text": [
      "/Users/ren/dev/ofrl/tutorial/../ofrl/ope/estimators_base.py:445: RuntimeWarning: invalid value encountered in divide\n",
      "  return numerator / denominator\n"
     ]
    },
    {
     "data": {
      "application/vnd.jupyter.widget-view+json": {
       "model_id": "deef83c6f80244d2ae7b513c815a6412",
       "version_major": 2,
       "version_minor": 0
      },
      "text/plain": [
       "[obtain_trajectories]:   0%|          | 0/10000 [00:00<?, ?it/s]"
      ]
     },
     "metadata": {},
     "output_type": "display_data"
    },
    {
     "data": {
      "application/vnd.jupyter.widget-view+json": {
       "model_id": "f68ba3ef86604af682d89fa7b39179cf",
       "version_major": 2,
       "version_minor": 0
      },
      "text/plain": [
       "[obtain_trajectories]:   0%|          | 0/10000 [00:00<?, ?it/s]"
      ]
     },
     "metadata": {},
     "output_type": "display_data"
    },
    {
     "name": "stdout",
     "output_type": "stream",
     "text": [
      "2023-04-06 12:16.40 [debug    ] RandomIterator is selected.\n",
      "2023-04-06 12:16.40 [info     ] Directory is created at d3rlpy_logs/DiscreteCQL_20230406121640\n",
      "2023-04-06 12:16.40 [debug    ] Building models...\n",
      "2023-04-06 12:16.40 [debug    ] Models have been built.\n",
      "2023-04-06 12:16.40 [info     ] Parameters are saved to d3rlpy_logs/DiscreteCQL_20230406121640/params.json params={'action_scaler': None, 'alpha': 1.0, 'batch_size': 32, 'encoder_factory': {'type': 'vector', 'params': {'hidden_units': [30, 30], 'activation': 'relu', 'use_batch_norm': False, 'dropout_rate': None, 'use_dense': False}}, 'gamma': 0.99, 'generated_maxlen': 100000, 'learning_rate': 6.25e-05, 'n_critics': 1, 'n_frames': 1, 'n_steps': 1, 'optim_factory': {'optim_cls': 'Adam', 'betas': (0.9, 0.999), 'eps': 1e-08, 'weight_decay': 0, 'amsgrad': False}, 'q_func_factory': {'type': 'mean', 'params': {'share_encoder': False}}, 'real_ratio': 1.0, 'reward_scaler': None, 'scaler': None, 'target_update_interval': 8000, 'use_gpu': None, 'algorithm': 'DiscreteCQL', 'observation_shape': (5,), 'action_size': 5}\n"
     ]
    },
    {
     "data": {
      "application/vnd.jupyter.widget-view+json": {
       "model_id": "ce63c246843d4fb98c02c6b0cb69c7fa",
       "version_major": 2,
       "version_minor": 0
      },
      "text/plain": [
       "Epoch 1/1:   0%|          | 0/10000 [00:00<?, ?it/s]"
      ]
     },
     "metadata": {},
     "output_type": "display_data"
    },
    {
     "name": "stdout",
     "output_type": "stream",
     "text": [
      "2023-04-06 12:16.56 [info     ] DiscreteCQL_20230406121640: epoch=1 step=10000 epoch=1 metrics={'time_sample_batch': 0.00010920031070709228, 'time_algorithm_update': 0.0013788613557815551, 'loss': 1.2858657442331314, 'time_step': 0.0015841424226760864} step=10000\n",
      "2023-04-06 12:16.56 [info     ] Model parameters are saved to d3rlpy_logs/DiscreteCQL_20230406121640/model_10000.pt\n"
     ]
    },
    {
     "data": {
      "application/vnd.jupyter.widget-view+json": {
       "model_id": "c3b6403a8e024d6b9fb9c19175db9233",
       "version_major": 2,
       "version_minor": 0
      },
      "text/plain": [
       "[fit FQE model]:   0%|          | 0/2 [00:00<?, ?it/s]"
      ]
     },
     "metadata": {},
     "output_type": "display_data"
    },
    {
     "name": "stdout",
     "output_type": "stream",
     "text": [
      "2023-04-06 12:16.57 [debug    ] RoundIterator is selected.\n",
      "2023-04-06 12:16.57 [info     ] Directory is created at d3rlpy_logs/DiscreteFQE_20230406121657\n",
      "2023-04-06 12:16.57 [debug    ] Fitting scaler...              scaler=min_max\n",
      "2023-04-06 12:16.57 [debug    ] Building models...\n",
      "2023-04-06 12:16.57 [debug    ] Models have been built.\n",
      "2023-04-06 12:16.57 [info     ] Parameters are saved to d3rlpy_logs/DiscreteFQE_20230406121657/params.json params={'action_scaler': None, 'batch_size': 100, 'encoder_factory': {'type': 'vector', 'params': {'hidden_units': [30, 30], 'activation': 'relu', 'use_batch_norm': False, 'dropout_rate': None, 'use_dense': False}}, 'gamma': 0.95, 'generated_maxlen': 100000, 'learning_rate': 0.0001, 'n_critics': 1, 'n_frames': 1, 'n_steps': 1, 'optim_factory': {'optim_cls': 'Adam', 'betas': (0.9, 0.999), 'eps': 1e-08, 'weight_decay': 0, 'amsgrad': False}, 'q_func_factory': {'type': 'mean', 'params': {'share_encoder': False}}, 'real_ratio': 1.0, 'reward_scaler': None, 'scaler': {'type': 'min_max', 'params': {'maximum': array([0.9889981 , 0.99476601, 0.98084911, 0.99494552, 0.9928618 ]), 'minimum': array([-0.98804508, -0.9820031 , -0.99184144, -0.99040224, -0.97737043])}}, 'target_update_interval': 100, 'use_gpu': None, 'algorithm': 'DiscreteFQE', 'observation_shape': (5,), 'action_size': 5}\n"
     ]
    },
    {
     "data": {
      "application/vnd.jupyter.widget-view+json": {
       "model_id": "5d4bc4f4002d447e8c94da969b160194",
       "version_major": 2,
       "version_minor": 0
      },
      "text/plain": [
       "Epoch 1/1:   0%|          | 0/1000 [00:00<?, ?it/s]"
      ]
     },
     "metadata": {},
     "output_type": "display_data"
    },
    {
     "name": "stdout",
     "output_type": "stream",
     "text": [
      "2023-04-06 12:16.58 [info     ] DiscreteFQE_20230406121657: epoch=1 step=1000 epoch=1 metrics={'time_sample_batch': 0.00013103771209716796, 'time_algorithm_update': 0.0015203425884246827, 'loss': 0.049179365394636985, 'time_step': 0.0017236292362213135} step=1000\n",
      "2023-04-06 12:16.58 [info     ] Model parameters are saved to d3rlpy_logs/DiscreteFQE_20230406121657/model_1000.pt\n",
      "2023-04-06 12:16.58 [debug    ] RoundIterator is selected.\n",
      "2023-04-06 12:16.58 [info     ] Directory is created at d3rlpy_logs/DiscreteFQE_20230406121658\n",
      "2023-04-06 12:16.58 [debug    ] Fitting scaler...              scaler=min_max\n",
      "2023-04-06 12:16.58 [debug    ] Building models...\n",
      "2023-04-06 12:16.58 [debug    ] Models have been built.\n",
      "2023-04-06 12:16.58 [info     ] Parameters are saved to d3rlpy_logs/DiscreteFQE_20230406121658/params.json params={'action_scaler': None, 'batch_size': 100, 'encoder_factory': {'type': 'vector', 'params': {'hidden_units': [30, 30], 'activation': 'relu', 'use_batch_norm': False, 'dropout_rate': None, 'use_dense': False}}, 'gamma': 0.95, 'generated_maxlen': 100000, 'learning_rate': 0.0001, 'n_critics': 1, 'n_frames': 1, 'n_steps': 1, 'optim_factory': {'optim_cls': 'Adam', 'betas': (0.9, 0.999), 'eps': 1e-08, 'weight_decay': 0, 'amsgrad': False}, 'q_func_factory': {'type': 'mean', 'params': {'share_encoder': False}}, 'real_ratio': 1.0, 'reward_scaler': None, 'scaler': {'type': 'min_max', 'params': {'maximum': array([0.9889981 , 0.99476601, 0.98084911, 0.99494552, 0.9928618 ]), 'minimum': array([-0.98804508, -0.9820031 , -0.99184144, -0.99040224, -0.97737043])}}, 'target_update_interval': 100, 'use_gpu': None, 'algorithm': 'DiscreteFQE', 'observation_shape': (5,), 'action_size': 5}\n"
     ]
    },
    {
     "data": {
      "application/vnd.jupyter.widget-view+json": {
       "model_id": "114c77c8f3774b679b71f2e4dc3e8f62",
       "version_major": 2,
       "version_minor": 0
      },
      "text/plain": [
       "Epoch 1/1:   0%|          | 0/1000 [00:00<?, ?it/s]"
      ]
     },
     "metadata": {},
     "output_type": "display_data"
    },
    {
     "name": "stdout",
     "output_type": "stream",
     "text": [
      "2023-04-06 12:17.01 [info     ] DiscreteFQE_20230406121658: epoch=1 step=1000 epoch=1 metrics={'time_sample_batch': 0.00015890669822692872, 'time_algorithm_update': 0.001711902618408203, 'loss': 0.04939390995539725, 'time_step': 0.0019621500968933104} step=1000\n",
      "2023-04-06 12:17.01 [info     ] Model parameters are saved to d3rlpy_logs/DiscreteFQE_20230406121658/model_1000.pt\n"
     ]
    },
    {
     "data": {
      "application/vnd.jupyter.widget-view+json": {
       "model_id": "d3e335150c694c2d9de67405fd2f4f6e",
       "version_major": 2,
       "version_minor": 0
      },
      "text/plain": [
       "[fit MWL model]:   0%|          | 0/2 [00:00<?, ?it/s]"
      ]
     },
     "metadata": {},
     "output_type": "display_data"
    },
    {
     "data": {
      "application/vnd.jupyter.widget-view+json": {
       "model_id": "97b94c0588834c8e9f8279e8f5a7741c",
       "version_major": 2,
       "version_minor": 0
      },
      "text/plain": [
       "[fitting_weight_function]:   0%|          | 0/100 [00:00<?, ?it/s]"
      ]
     },
     "metadata": {},
     "output_type": "display_data"
    },
    {
     "data": {
      "application/vnd.jupyter.widget-view+json": {
       "model_id": "f4b523e48d8a4d178cda0e6dcadb20b9",
       "version_major": 2,
       "version_minor": 0
      },
      "text/plain": [
       "[fitting_weight_function]:   0%|          | 0/100 [00:00<?, ?it/s]"
      ]
     },
     "metadata": {},
     "output_type": "display_data"
    },
    {
     "data": {
      "application/vnd.jupyter.widget-view+json": {
       "model_id": "618f5f3a563845748ff0fff7014efecc",
       "version_major": 2,
       "version_minor": 0
      },
      "text/plain": [
       "[fitting_weight_function]:   0%|          | 0/100 [00:00<?, ?it/s]"
      ]
     },
     "metadata": {},
     "output_type": "display_data"
    },
    {
     "data": {
      "application/vnd.jupyter.widget-view+json": {
       "model_id": "2977923505ad434eb6d3f2ed5c6692f0",
       "version_major": 2,
       "version_minor": 0
      },
      "text/plain": [
       "[fitting_weight_function]:   0%|          | 0/100 [00:00<?, ?it/s]"
      ]
     },
     "metadata": {},
     "output_type": "display_data"
    },
    {
     "data": {
      "application/vnd.jupyter.widget-view+json": {
       "model_id": "1e61289bf0734bcbbca3165f46750ef0",
       "version_major": 2,
       "version_minor": 0
      },
      "text/plain": [
       "[collect input data: eval_policy]:   0%|          | 0/2 [00:00<?, ?it/s]"
      ]
     },
     "metadata": {},
     "output_type": "display_data"
    },
    {
     "data": {
      "application/vnd.jupyter.widget-view+json": {
       "model_id": "e75672777d3e4aa38896bd9b89f7b22b",
       "version_major": 2,
       "version_minor": 0
      },
      "text/plain": [
       "[calculate on-policy policy value]:   0%|          | 0/100 [00:00<?, ?it/s]"
      ]
     },
     "metadata": {},
     "output_type": "display_data"
    },
    {
     "data": {
      "application/vnd.jupyter.widget-view+json": {
       "model_id": "69a9b93933264a2e9a72c6d352457f91",
       "version_major": 2,
       "version_minor": 0
      },
      "text/plain": [
       "[calculate on-policy policy value]:   0%|          | 0/100 [00:00<?, ?it/s]"
      ]
     },
     "metadata": {},
     "output_type": "display_data"
    },
    {
     "name": "stdout",
     "output_type": "stream",
     "text": [
      "2023-04-06 12:17.39 [info     ] Directory is created at d3rlpy_logs/DoubleDQN_online_20230406121739\n",
      "2023-04-06 12:17.39 [debug    ] Building model...\n",
      "2023-04-06 12:17.39 [debug    ] Model has been built.\n",
      "2023-04-06 12:17.39 [info     ] Parameters are saved to d3rlpy_logs/DoubleDQN_online_20230406121739/params.json params={'action_scaler': None, 'batch_size': 32, 'encoder_factory': {'type': 'vector', 'params': {'hidden_units': [30, 30], 'activation': 'relu', 'use_batch_norm': False, 'dropout_rate': None, 'use_dense': False}}, 'gamma': 0.99, 'generated_maxlen': 100000, 'learning_rate': 6.25e-05, 'n_critics': 1, 'n_frames': 1, 'n_steps': 1, 'optim_factory': {'optim_cls': 'Adam', 'betas': (0.9, 0.999), 'eps': 1e-08, 'weight_decay': 0, 'amsgrad': False}, 'q_func_factory': {'type': 'mean', 'params': {'share_encoder': False}}, 'real_ratio': 1.0, 'reward_scaler': None, 'scaler': None, 'target_update_interval': 100, 'use_gpu': None, 'algorithm': 'DoubleDQN', 'observation_shape': (5,), 'action_size': 10}\n"
     ]
    },
    {
     "name": "stderr",
     "output_type": "stream",
     "text": [
      "/Users/ren/dev/ofrl/tutorial/../ofrl/ope/estimators_base.py:445: RuntimeWarning: invalid value encountered in divide\n",
      "  return numerator / denominator\n",
      "/Users/ren/.pyenv/versions/3.10.6/lib/python3.10/site-packages/gym/utils/passive_env_checker.py:187: UserWarning: \u001b[33mWARN: Future gym versions will require that `Env.reset` can be passed `options` to allow the environment initialisation to be passed additional information.\u001b[0m\n",
      "  logger.warn(\n"
     ]
    },
    {
     "data": {
      "application/vnd.jupyter.widget-view+json": {
       "model_id": "46b83a4efe3c48a68163ffbb21a8493e",
       "version_major": 2,
       "version_minor": 0
      },
      "text/plain": [
       "  0%|          | 0/100000 [00:00<?, ?it/s]"
      ]
     },
     "metadata": {},
     "output_type": "display_data"
    },
    {
     "name": "stdout",
     "output_type": "stream",
     "text": [
      "2023-04-06 12:17.39 [info     ] Model parameters are saved to d3rlpy_logs/DoubleDQN_online_20230406121739/model_1000.pt\n",
      "2023-04-06 12:17.39 [info     ] DoubleDQN_online_20230406121739: epoch=1 step=1000 epoch=1 metrics={'time_inference': 0.00028515362739562987, 'time_environment_step': 5.0439119338989255e-05, 'time_step': 0.00034985995292663577, 'rollout_return': 2.8026638230547203, 'evaluation': 4.6534156042194335} step=1000\n",
      "2023-04-06 12:17.41 [info     ] Model parameters are saved to d3rlpy_logs/DoubleDQN_online_20230406121739/model_2000.pt\n",
      "2023-04-06 12:17.41 [info     ] DoubleDQN_online_20230406121739: epoch=2 step=2000 epoch=2 metrics={'time_inference': 0.0002111070156097412, 'time_environment_step': 5.218029022216797e-05, 'time_sample_batch': 4.285407066345215e-05, 'time_algorithm_update': 0.0009600639343261719, 'loss': 0.13884640462324024, 'time_step': 0.0012913796901702882, 'rollout_return': 4.301295325091499, 'evaluation': 4.754479026969912} step=2000\n",
      "2023-04-06 12:17.42 [info     ] Model parameters are saved to d3rlpy_logs/DoubleDQN_online_20230406121739/model_3000.pt\n",
      "2023-04-06 12:17.42 [info     ] DoubleDQN_online_20230406121739: epoch=3 step=3000 epoch=3 metrics={'time_inference': 0.00023888540267944335, 'time_environment_step': 6.031537055969238e-05, 'time_sample_batch': 4.990816116333008e-05, 'time_algorithm_update': 0.001124387264251709, 'loss': 0.5195052572190761, 'time_step': 0.0015030245780944824, 'rollout_return': 4.312031991703317, 'evaluation': 4.6721538816569765} step=3000\n",
      "2023-04-06 12:17.44 [info     ] Model parameters are saved to d3rlpy_logs/DoubleDQN_online_20230406121739/model_4000.pt\n",
      "2023-04-06 12:17.44 [info     ] DoubleDQN_online_20230406121739: epoch=4 step=4000 epoch=4 metrics={'time_inference': 0.00023979806900024413, 'time_environment_step': 6.0541391372680665e-05, 'time_sample_batch': 4.967403411865235e-05, 'time_algorithm_update': 0.0011517152786254883, 'loss': 1.0826405909061432, 'time_step': 0.0015310707092285156, 'rollout_return': 4.188242668025863, 'evaluation': 4.655718928892124} step=4000\n",
      "2023-04-06 12:17.45 [info     ] Model parameters are saved to d3rlpy_logs/DoubleDQN_online_20230406121739/model_5000.pt\n",
      "2023-04-06 12:17.45 [info     ] DoubleDQN_online_20230406121739: epoch=5 step=5000 epoch=5 metrics={'time_inference': 0.0002445094585418701, 'time_environment_step': 6.013798713684082e-05, 'time_sample_batch': 5.341553688049316e-05, 'time_algorithm_update': 0.0011392359733581542, 'loss': 1.4825556373596191, 'time_step': 0.0015285542011260985, 'rollout_return': 3.8504404049433503, 'evaluation': 3.8628250268630224} step=5000\n",
      "2023-04-06 12:17.47 [info     ] Model parameters are saved to d3rlpy_logs/DoubleDQN_online_20230406121739/model_6000.pt\n",
      "2023-04-06 12:17.47 [info     ] DoubleDQN_online_20230406121739: epoch=6 step=6000 epoch=6 metrics={'time_inference': 0.00023521924018859864, 'time_environment_step': 5.86695671081543e-05, 'time_sample_batch': 5.083894729614258e-05, 'time_algorithm_update': 0.0011160480976104737, 'loss': 1.8421048567444087, 'time_step': 0.0014905974864959717, 'rollout_return': 5.922785823275273, 'evaluation': 7.599699594950891} step=6000\n",
      "2023-04-06 12:17.48 [info     ] Model parameters are saved to d3rlpy_logs/DoubleDQN_online_20230406121739/model_7000.pt\n",
      "2023-04-06 12:17.48 [info     ] DoubleDQN_online_20230406121739: epoch=7 step=7000 epoch=7 metrics={'time_inference': 0.00023724889755249025, 'time_environment_step': 6.141114234924316e-05, 'time_sample_batch': 5.38475513458252e-05, 'time_algorithm_update': 0.0010875661373138427, 'loss': 2.6958406060934066, 'time_step': 0.0014713180065155029, 'rollout_return': 7.1030436142819955, 'evaluation': 7.6712562833709} step=7000\n",
      "2023-04-06 12:17.50 [info     ] Model parameters are saved to d3rlpy_logs/DoubleDQN_online_20230406121739/model_8000.pt\n",
      "2023-04-06 12:17.50 [info     ] DoubleDQN_online_20230406121739: epoch=8 step=8000 epoch=8 metrics={'time_inference': 0.00025523757934570315, 'time_environment_step': 5.636382102966309e-05, 'time_sample_batch': 5.5307626724243165e-05, 'time_algorithm_update': 0.0011451663970947267, 'loss': 3.8010820651650428, 'time_step': 0.0015398004055023192, 'rollout_return': 7.005950115010621, 'evaluation': 7.631419379083544} step=8000\n",
      "2023-04-06 12:17.52 [info     ] Model parameters are saved to d3rlpy_logs/DoubleDQN_online_20230406121739/model_9000.pt\n",
      "2023-04-06 12:17.52 [info     ] DoubleDQN_online_20230406121739: epoch=9 step=9000 epoch=9 metrics={'time_inference': 0.00025612807273864746, 'time_environment_step': 5.699944496154785e-05, 'time_sample_batch': 4.930305480957031e-05, 'time_algorithm_update': 0.0010695347785949706, 'loss': 4.620649274408818, 'time_step': 0.001459984540939331, 'rollout_return': 6.809025636634622, 'evaluation': 7.572735730205837} step=9000\n",
      "2023-04-06 12:17.53 [info     ] Model parameters are saved to d3rlpy_logs/DoubleDQN_online_20230406121739/model_10000.pt\n",
      "2023-04-06 12:17.53 [info     ] DoubleDQN_online_20230406121739: epoch=10 step=10000 epoch=10 metrics={'time_inference': 0.00023788022994995116, 'time_environment_step': 5.956840515136719e-05, 'time_sample_batch': 5.120444297790527e-05, 'time_algorithm_update': 0.001097498893737793, 'loss': 5.3071885372400285, 'time_step': 0.0014748930931091308, 'rollout_return': 6.903461229442163, 'evaluation': 7.8025379560676456} step=10000\n",
      "2023-04-06 12:17.55 [info     ] Model parameters are saved to d3rlpy_logs/DoubleDQN_online_20230406121739/model_11000.pt\n",
      "2023-04-06 12:17.55 [info     ] DoubleDQN_online_20230406121739: epoch=11 step=11000 epoch=11 metrics={'time_inference': 0.0002425999641418457, 'time_environment_step': 5.9479713439941406e-05, 'time_sample_batch': 5.3238391876220704e-05, 'time_algorithm_update': 0.0011099107265472412, 'loss': 5.953057832658291, 'time_step': 0.0014959206581115722, 'rollout_return': 6.782660342955683, 'evaluation': 7.700270263641942} step=11000\n",
      "2023-04-06 12:17.56 [info     ] Model parameters are saved to d3rlpy_logs/DoubleDQN_online_20230406121739/model_12000.pt\n",
      "2023-04-06 12:17.56 [info     ] DoubleDQN_online_20230406121739: epoch=12 step=12000 epoch=12 metrics={'time_inference': 0.0002574141025543213, 'time_environment_step': 6.849193572998047e-05, 'time_sample_batch': 5.5114984512329104e-05, 'time_algorithm_update': 0.0012152926921844482, 'loss': 6.640700585853309, 'time_step': 0.0016304664611816405, 'rollout_return': 7.058628072905452, 'evaluation': 7.651619089275769} step=12000\n",
      "2023-04-06 12:17.58 [info     ] Model parameters are saved to d3rlpy_logs/DoubleDQN_online_20230406121739/model_13000.pt\n",
      "2023-04-06 12:17.58 [info     ] DoubleDQN_online_20230406121739: epoch=13 step=13000 epoch=13 metrics={'time_inference': 0.00023637676239013673, 'time_environment_step': 5.8784961700439456e-05, 'time_sample_batch': 5.148887634277344e-05, 'time_algorithm_update': 0.001124225378036499, 'loss': 7.13591510393098, 'time_step': 0.0015006608963012695, 'rollout_return': 6.949232212050556, 'evaluation': 7.737793673198858} step=13000\n",
      "2023-04-06 12:17.59 [info     ] Model parameters are saved to d3rlpy_logs/DoubleDQN_online_20230406121739/model_14000.pt\n",
      "2023-04-06 12:17.59 [info     ] DoubleDQN_online_20230406121739: epoch=14 step=14000 epoch=14 metrics={'time_inference': 0.00023919153213500976, 'time_environment_step': 5.973672866821289e-05, 'time_sample_batch': 5.161905288696289e-05, 'time_algorithm_update': 0.0011511039733886719, 'loss': 7.423041518114507, 'time_step': 0.0015320236682891846, 'rollout_return': 7.12372153706554, 'evaluation': 7.674168329062337} step=14000\n",
      "2023-04-06 12:18.01 [info     ] Model parameters are saved to d3rlpy_logs/DoubleDQN_online_20230406121739/model_15000.pt\n",
      "2023-04-06 12:18.01 [info     ] DoubleDQN_online_20230406121739: epoch=15 step=15000 epoch=15 metrics={'time_inference': 0.00024323391914367676, 'time_environment_step': 5.905365943908691e-05, 'time_sample_batch': 5.110001564025879e-05, 'time_algorithm_update': 0.001164661169052124, 'loss': 7.728518688596785, 'time_step': 0.0015482685565948485, 'rollout_return': 7.199791948343924, 'evaluation': 7.833039054829065} step=15000\n",
      "2023-04-06 12:18.03 [info     ] Model parameters are saved to d3rlpy_logs/DoubleDQN_online_20230406121739/model_16000.pt\n",
      "2023-04-06 12:18.03 [info     ] DoubleDQN_online_20230406121739: epoch=16 step=16000 epoch=16 metrics={'time_inference': 0.000241652250289917, 'time_environment_step': 6.62386417388916e-05, 'time_sample_batch': 5.3134918212890626e-05, 'time_algorithm_update': 0.0011407661437988282, 'loss': 8.028629399180412, 'time_step': 0.0015332217216491699, 'rollout_return': 7.384808398076824, 'evaluation': 8.09247177366085} step=16000\n",
      "2023-04-06 12:18.04 [info     ] Model parameters are saved to d3rlpy_logs/DoubleDQN_online_20230406121739/model_17000.pt\n",
      "2023-04-06 12:18.04 [info     ] DoubleDQN_online_20230406121739: epoch=17 step=17000 epoch=17 metrics={'time_inference': 0.00024305152893066407, 'time_environment_step': 6.013655662536621e-05, 'time_sample_batch': 5.38637638092041e-05, 'time_algorithm_update': 0.0011524744033813478, 'loss': 8.100182436347009, 'time_step': 0.0015417819023132325, 'rollout_return': 7.635090901140644, 'evaluation': 9.178306730194116} step=17000\n",
      "2023-04-06 12:18.06 [info     ] Model parameters are saved to d3rlpy_logs/DoubleDQN_online_20230406121739/model_18000.pt\n",
      "2023-04-06 12:18.06 [info     ] DoubleDQN_online_20230406121739: epoch=18 step=18000 epoch=18 metrics={'time_inference': 0.00024241852760314942, 'time_environment_step': 6.0667991638183596e-05, 'time_sample_batch': 5.3170204162597656e-05, 'time_algorithm_update': 0.0011514568328857423, 'loss': 8.423836402475834, 'time_step': 0.0015398118495941163, 'rollout_return': 7.908699790938999, 'evaluation': 8.527137416186518} step=18000\n",
      "2023-04-06 12:18.07 [info     ] Model parameters are saved to d3rlpy_logs/DoubleDQN_online_20230406121739/model_19000.pt\n",
      "2023-04-06 12:18.07 [info     ] DoubleDQN_online_20230406121739: epoch=19 step=19000 epoch=19 metrics={'time_inference': 0.00024339962005615236, 'time_environment_step': 6.077146530151367e-05, 'time_sample_batch': 5.666375160217285e-05, 'time_algorithm_update': 0.001236339807510376, 'loss': 8.542482470273972, 'time_step': 0.001630295753479004, 'rollout_return': 7.8003713281956815, 'evaluation': 8.529640708165465} step=19000\n",
      "2023-04-06 12:18.09 [info     ] Model parameters are saved to d3rlpy_logs/DoubleDQN_online_20230406121739/model_20000.pt\n",
      "2023-04-06 12:18.09 [info     ] DoubleDQN_online_20230406121739: epoch=20 step=20000 epoch=20 metrics={'time_inference': 0.00024565792083740235, 'time_environment_step': 5.970144271850586e-05, 'time_sample_batch': 5.1421642303466796e-05, 'time_algorithm_update': 0.0011682136058807373, 'loss': 8.763412237524987, 'time_step': 0.0015576717853546143, 'rollout_return': 8.219599911681502, 'evaluation': 9.248033390551681} step=20000\n",
      "2023-04-06 12:18.11 [info     ] Model parameters are saved to d3rlpy_logs/DoubleDQN_online_20230406121739/model_21000.pt\n",
      "2023-04-06 12:18.11 [info     ] DoubleDQN_online_20230406121739: epoch=21 step=21000 epoch=21 metrics={'time_inference': 0.0002476422786712646, 'time_environment_step': 5.9742927551269534e-05, 'time_sample_batch': 5.273866653442383e-05, 'time_algorithm_update': 0.0011511127948760987, 'loss': 8.727151876330376, 'time_step': 0.0015424051284790039, 'rollout_return': 8.242017326216839, 'evaluation': 9.396690307790454} step=21000\n",
      "2023-04-06 12:18.12 [info     ] Model parameters are saved to d3rlpy_logs/DoubleDQN_online_20230406121739/model_22000.pt\n",
      "2023-04-06 12:18.12 [info     ] DoubleDQN_online_20230406121739: epoch=22 step=22000 epoch=22 metrics={'time_inference': 0.0002452843189239502, 'time_environment_step': 6.032347679138183e-05, 'time_sample_batch': 5.3122282028198244e-05, 'time_algorithm_update': 0.0011340315341949463, 'loss': 9.053749260015787, 'time_step': 0.0015238616466522216, 'rollout_return': 8.550223850982919, 'evaluation': 9.18162753976875} step=22000\n",
      "2023-04-06 12:18.14 [info     ] Model parameters are saved to d3rlpy_logs/DoubleDQN_online_20230406121739/model_23000.pt\n",
      "2023-04-06 12:18.14 [info     ] DoubleDQN_online_20230406121739: epoch=23 step=23000 epoch=23 metrics={'time_inference': 0.00024518561363220216, 'time_environment_step': 6.171011924743653e-05, 'time_sample_batch': 5.386233329772949e-05, 'time_algorithm_update': 0.001141751766204834, 'loss': 9.389202208995819, 'time_step': 0.001534653902053833, 'rollout_return': 8.247394914380655, 'evaluation': 9.053411862961065} step=23000\n",
      "2023-04-06 12:18.15 [info     ] Model parameters are saved to d3rlpy_logs/DoubleDQN_online_20230406121739/model_24000.pt\n",
      "2023-04-06 12:18.15 [info     ] DoubleDQN_online_20230406121739: epoch=24 step=24000 epoch=24 metrics={'time_inference': 0.0002440195083618164, 'time_environment_step': 5.984044075012207e-05, 'time_sample_batch': 5.346035957336426e-05, 'time_algorithm_update': 0.001141573429107666, 'loss': 9.454360425189137, 'time_step': 0.001530064344406128, 'rollout_return': 8.002727595962018, 'evaluation': 8.086227136460517} step=24000\n",
      "2023-04-06 12:18.17 [info     ] Model parameters are saved to d3rlpy_logs/DoubleDQN_online_20230406121739/model_25000.pt\n",
      "2023-04-06 12:18.17 [info     ] DoubleDQN_online_20230406121739: epoch=25 step=25000 epoch=25 metrics={'time_inference': 0.00023937153816223144, 'time_environment_step': 5.957961082458496e-05, 'time_sample_batch': 5.152654647827148e-05, 'time_algorithm_update': 0.001134803295135498, 'loss': 9.435454329781233, 'time_step': 0.001516319751739502, 'rollout_return': 7.322677902399257, 'evaluation': 5.680213325868515} step=25000\n",
      "2023-04-06 12:18.19 [info     ] Model parameters are saved to d3rlpy_logs/DoubleDQN_online_20230406121739/model_26000.pt\n",
      "2023-04-06 12:18.19 [info     ] DoubleDQN_online_20230406121739: epoch=26 step=26000 epoch=26 metrics={'time_inference': 0.00023944973945617677, 'time_environment_step': 6.13265037536621e-05, 'time_sample_batch': 5.303311347961426e-05, 'time_algorithm_update': 0.001134843111038208, 'loss': 9.438421923100949, 'time_step': 0.0015202102661132813, 'rollout_return': 6.557040399725735, 'evaluation': 5.86086648599016} step=26000\n",
      "2023-04-06 12:18.20 [info     ] Model parameters are saved to d3rlpy_logs/DoubleDQN_online_20230406121739/model_27000.pt\n",
      "2023-04-06 12:18.20 [info     ] DoubleDQN_online_20230406121739: epoch=27 step=27000 epoch=27 metrics={'time_inference': 0.0002433328628540039, 'time_environment_step': 6.0205459594726565e-05, 'time_sample_batch': 5.2536487579345706e-05, 'time_algorithm_update': 0.0011633973121643066, 'loss': 9.712337010070682, 'time_step': 0.0015506925582885742, 'rollout_return': 6.4834650230848965, 'evaluation': 6.3208095116128336} step=27000\n",
      "2023-04-06 12:18.22 [info     ] Model parameters are saved to d3rlpy_logs/DoubleDQN_online_20230406121739/model_28000.pt\n",
      "2023-04-06 12:18.22 [info     ] DoubleDQN_online_20230406121739: epoch=28 step=28000 epoch=28 metrics={'time_inference': 0.0002418673038482666, 'time_environment_step': 6.0689926147460936e-05, 'time_sample_batch': 5.270743370056152e-05, 'time_algorithm_update': 0.0011651339530944825, 'loss': 9.682060002602636, 'time_step': 0.0015514202117919921, 'rollout_return': 6.926595021104773, 'evaluation': 7.885528806350022} step=28000\n",
      "2023-04-06 12:18.23 [info     ] Model parameters are saved to d3rlpy_logs/DoubleDQN_online_20230406121739/model_29000.pt\n",
      "2023-04-06 12:18.23 [info     ] DoubleDQN_online_20230406121739: epoch=29 step=29000 epoch=29 metrics={'time_inference': 0.0002468593120574951, 'time_environment_step': 5.991291999816895e-05, 'time_sample_batch': 5.2959203720092776e-05, 'time_algorithm_update': 0.00114841628074646, 'loss': 9.61474422967434, 'time_step': 0.0015395514965057372, 'rollout_return': 7.235451675763876, 'evaluation': 6.868217641836279} step=29000\n",
      "2023-04-06 12:18.25 [info     ] Model parameters are saved to d3rlpy_logs/DoubleDQN_online_20230406121739/model_30000.pt\n",
      "2023-04-06 12:18.25 [info     ] DoubleDQN_online_20230406121739: epoch=30 step=30000 epoch=30 metrics={'time_inference': 0.00024690747261047364, 'time_environment_step': 6.334114074707032e-05, 'time_sample_batch': 5.379533767700195e-05, 'time_algorithm_update': 0.001163292407989502, 'loss': 9.587498414158821, 'time_step': 0.0015593209266662597, 'rollout_return': 7.222530318113152, 'evaluation': 7.686302920766764} step=30000\n",
      "2023-04-06 12:18.27 [info     ] Model parameters are saved to d3rlpy_logs/DoubleDQN_online_20230406121739/model_31000.pt\n",
      "2023-04-06 12:18.27 [info     ] DoubleDQN_online_20230406121739: epoch=31 step=31000 epoch=31 metrics={'time_inference': 0.0002485980987548828, 'time_environment_step': 6.202054023742675e-05, 'time_sample_batch': 5.3802490234375e-05, 'time_algorithm_update': 0.0012103111743927, 'loss': 9.600101944904775, 'time_step': 0.0016064982414245605, 'rollout_return': 7.2735562122798125, 'evaluation': 7.633430265522041} step=31000\n",
      "2023-04-06 12:18.28 [info     ] Model parameters are saved to d3rlpy_logs/DoubleDQN_online_20230406121739/model_32000.pt\n",
      "2023-04-06 12:18.28 [info     ] DoubleDQN_online_20230406121739: epoch=32 step=32000 epoch=32 metrics={'time_inference': 0.00024727725982666014, 'time_environment_step': 6.048822402954101e-05, 'time_sample_batch': 5.2812814712524415e-05, 'time_algorithm_update': 0.001151259183883667, 'loss': 9.925321457862854, 'time_step': 0.0015438787937164307, 'rollout_return': 7.285741594758813, 'evaluation': 7.686929989201379} step=32000\n",
      "2023-04-06 12:18.30 [info     ] Model parameters are saved to d3rlpy_logs/DoubleDQN_online_20230406121739/model_33000.pt\n",
      "2023-04-06 12:18.30 [info     ] DoubleDQN_online_20230406121739: epoch=33 step=33000 epoch=33 metrics={'time_inference': 0.0002463119029998779, 'time_environment_step': 6.058979034423828e-05, 'time_sample_batch': 5.3098201751708986e-05, 'time_algorithm_update': 0.0011599137783050537, 'loss': 9.58422152352333, 'time_step': 0.0015532882213592529, 'rollout_return': 7.200672554376626, 'evaluation': 7.6984050832378275} step=33000\n",
      "2023-04-06 12:18.31 [info     ] Model parameters are saved to d3rlpy_logs/DoubleDQN_online_20230406121739/model_34000.pt\n",
      "2023-04-06 12:18.31 [info     ] DoubleDQN_online_20230406121739: epoch=34 step=34000 epoch=34 metrics={'time_inference': 0.0002446863651275635, 'time_environment_step': 5.9616565704345706e-05, 'time_sample_batch': 5.208420753479004e-05, 'time_algorithm_update': 0.0011728973388671876, 'loss': 9.553341704167426, 'time_step': 0.0015602900981903076, 'rollout_return': 7.220358275193723, 'evaluation': 7.602255338263264} step=34000\n",
      "2023-04-06 12:18.33 [info     ] Model parameters are saved to d3rlpy_logs/DoubleDQN_online_20230406121739/model_35000.pt\n",
      "2023-04-06 12:18.33 [info     ] DoubleDQN_online_20230406121739: epoch=35 step=35000 epoch=35 metrics={'time_inference': 0.000246164083480835, 'time_environment_step': 5.962920188903809e-05, 'time_sample_batch': 5.319452285766602e-05, 'time_algorithm_update': 0.001142174243927002, 'loss': 9.476549109004438, 'time_step': 0.0015322237014770508, 'rollout_return': 7.26222736644292, 'evaluation': 8.297207273861247} step=35000\n",
      "2023-04-06 12:18.35 [info     ] Model parameters are saved to d3rlpy_logs/DoubleDQN_online_20230406121739/model_36000.pt\n",
      "2023-04-06 12:18.35 [info     ] DoubleDQN_online_20230406121739: epoch=36 step=36000 epoch=36 metrics={'time_inference': 0.0002413628101348877, 'time_environment_step': 5.97989559173584e-05, 'time_sample_batch': 5.3500890731811524e-05, 'time_algorithm_update': 0.0011630859375, 'loss': 9.639072804532946, 'time_step': 0.0015492703914642334, 'rollout_return': 7.330924263401199, 'evaluation': 8.257937734367195} step=36000\n",
      "2023-04-06 12:18.36 [info     ] Model parameters are saved to d3rlpy_logs/DoubleDQN_online_20230406121739/model_37000.pt\n",
      "2023-04-06 12:18.36 [info     ] DoubleDQN_online_20230406121739: epoch=37 step=37000 epoch=37 metrics={'time_inference': 0.00024277162551879884, 'time_environment_step': 6.066775321960449e-05, 'time_sample_batch': 5.411982536315918e-05, 'time_algorithm_update': 0.0011964776515960692, 'loss': 9.519082732081413, 'time_step': 0.001585665225982666, 'rollout_return': 7.6419913986761365, 'evaluation': 8.895915872135989} step=37000\n",
      "2023-04-06 12:18.38 [info     ] Model parameters are saved to d3rlpy_logs/DoubleDQN_online_20230406121739/model_38000.pt\n",
      "2023-04-06 12:18.38 [info     ] DoubleDQN_online_20230406121739: epoch=38 step=38000 epoch=38 metrics={'time_inference': 0.0002657151222229004, 'time_environment_step': 6.154966354370118e-05, 'time_sample_batch': 5.62593936920166e-05, 'time_algorithm_update': 0.0012174313068389893, 'loss': 9.557587559714914, 'time_step': 0.0016349859237670898, 'rollout_return': 7.75109956520939, 'evaluation': 8.40824858828926} step=38000\n",
      "2023-04-06 12:18.39 [info     ] Model parameters are saved to d3rlpy_logs/DoubleDQN_online_20230406121739/model_39000.pt\n",
      "2023-04-06 12:18.39 [info     ] DoubleDQN_online_20230406121739: epoch=39 step=39000 epoch=39 metrics={'time_inference': 0.0002383699417114258, 'time_environment_step': 6.148672103881836e-05, 'time_sample_batch': 5.264902114868164e-05, 'time_algorithm_update': 0.0011535136699676513, 'loss': 9.623195197962225, 'time_step': 0.0015391030311584473, 'rollout_return': 7.593066195872899, 'evaluation': 8.341108157124117} step=39000\n",
      "2023-04-06 12:18.41 [info     ] Model parameters are saved to d3rlpy_logs/DoubleDQN_online_20230406121739/model_40000.pt\n",
      "2023-04-06 12:18.41 [info     ] DoubleDQN_online_20230406121739: epoch=40 step=40000 epoch=40 metrics={'time_inference': 0.00024640655517578123, 'time_environment_step': 6.0250997543334964e-05, 'time_sample_batch': 5.4352521896362306e-05, 'time_algorithm_update': 0.0011462178230285645, 'loss': 9.523211684942245, 'time_step': 0.001539062738418579, 'rollout_return': 7.710643849418329, 'evaluation': 8.454868996663953} step=40000\n",
      "2023-04-06 12:18.43 [info     ] Model parameters are saved to d3rlpy_logs/DoubleDQN_online_20230406121739/model_41000.pt\n",
      "2023-04-06 12:18.43 [info     ] DoubleDQN_online_20230406121739: epoch=41 step=41000 epoch=41 metrics={'time_inference': 0.00024390721321105956, 'time_environment_step': 5.985498428344727e-05, 'time_sample_batch': 5.1968812942504886e-05, 'time_algorithm_update': 0.0011202757358551025, 'loss': 9.500327596023679, 'time_step': 0.0015066897869110108, 'rollout_return': 7.716002674272151, 'evaluation': 7.518049634047694} step=41000\n",
      "2023-04-06 12:18.44 [info     ] Model parameters are saved to d3rlpy_logs/DoubleDQN_online_20230406121739/model_42000.pt\n",
      "2023-04-06 12:18.44 [info     ] DoubleDQN_online_20230406121739: epoch=42 step=42000 epoch=42 metrics={'time_inference': 0.00024517083168029783, 'time_environment_step': 5.952620506286621e-05, 'time_sample_batch': 5.307793617248535e-05, 'time_algorithm_update': 0.001186227798461914, 'loss': 9.536316023413091, 'time_step': 0.0015753252506256104, 'rollout_return': 7.552908041024353, 'evaluation': 8.339176392893972} step=42000\n",
      "2023-04-06 12:18.46 [info     ] Model parameters are saved to d3rlpy_logs/DoubleDQN_online_20230406121739/model_43000.pt\n",
      "2023-04-06 12:18.46 [info     ] DoubleDQN_online_20230406121739: epoch=43 step=43000 epoch=43 metrics={'time_inference': 0.0002437140941619873, 'time_environment_step': 6.120967864990235e-05, 'time_sample_batch': 5.246162414550781e-05, 'time_algorithm_update': 0.0011325502395629883, 'loss': 9.516716499686241, 'time_step': 0.0015221338272094727, 'rollout_return': 7.35441001135821, 'evaluation': 8.073639177242656} step=43000\n",
      "2023-04-06 12:18.47 [info     ] Model parameters are saved to d3rlpy_logs/DoubleDQN_online_20230406121739/model_44000.pt\n",
      "2023-04-06 12:18.47 [info     ] DoubleDQN_online_20230406121739: epoch=44 step=44000 epoch=44 metrics={'time_inference': 0.00023921585083007814, 'time_environment_step': 6.156420707702637e-05, 'time_sample_batch': 5.190896987915039e-05, 'time_algorithm_update': 0.001138221025466919, 'loss': 9.621431491777301, 'time_step': 0.0015228171348571778, 'rollout_return': 7.331130114857315, 'evaluation': 8.202795522785685} step=44000\n",
      "2023-04-06 12:18.49 [info     ] Model parameters are saved to d3rlpy_logs/DoubleDQN_online_20230406121739/model_45000.pt\n",
      "2023-04-06 12:18.49 [info     ] DoubleDQN_online_20230406121739: epoch=45 step=45000 epoch=45 metrics={'time_inference': 0.00024162912368774414, 'time_environment_step': 5.940437316894531e-05, 'time_sample_batch': 5.2098035812377926e-05, 'time_algorithm_update': 0.0011518001556396484, 'loss': 9.652027591593564, 'time_step': 0.0015364480018615722, 'rollout_return': 7.577745082769104, 'evaluation': 8.291892603007057} step=45000\n",
      "2023-04-06 12:18.51 [info     ] Model parameters are saved to d3rlpy_logs/DoubleDQN_online_20230406121739/model_46000.pt\n",
      "2023-04-06 12:18.51 [info     ] DoubleDQN_online_20230406121739: epoch=46 step=46000 epoch=46 metrics={'time_inference': 0.0002482287883758545, 'time_environment_step': 6.585001945495605e-05, 'time_sample_batch': 5.648493766784668e-05, 'time_algorithm_update': 0.0011764416694641114, 'loss': 9.661082363333554, 'time_step': 0.00158221435546875, 'rollout_return': 7.402762818919341, 'evaluation': 7.823740353127263} step=46000\n",
      "2023-04-06 12:18.52 [info     ] Model parameters are saved to d3rlpy_logs/DoubleDQN_online_20230406121739/model_47000.pt\n",
      "2023-04-06 12:18.52 [info     ] DoubleDQN_online_20230406121739: epoch=47 step=47000 epoch=47 metrics={'time_inference': 0.0002421131134033203, 'time_environment_step': 6.0642242431640626e-05, 'time_sample_batch': 5.297136306762695e-05, 'time_algorithm_update': 0.0011463513374328613, 'loss': 9.563593127071858, 'time_step': 0.0015339431762695312, 'rollout_return': 7.26987312813012, 'evaluation': 8.288747065949323} step=47000\n",
      "2023-04-06 12:18.54 [info     ] Model parameters are saved to d3rlpy_logs/DoubleDQN_online_20230406121739/model_48000.pt\n",
      "2023-04-06 12:18.54 [info     ] DoubleDQN_online_20230406121739: epoch=48 step=48000 epoch=48 metrics={'time_inference': 0.00025163602828979495, 'time_environment_step': 6.147027015686035e-05, 'time_sample_batch': 5.19566535949707e-05, 'time_algorithm_update': 0.0011567206382751465, 'loss': 9.657600304223598, 'time_step': 0.0015524747371673585, 'rollout_return': 7.332861262456556, 'evaluation': 7.980063166676187} step=48000\n",
      "2023-04-06 12:18.55 [info     ] Model parameters are saved to d3rlpy_logs/DoubleDQN_online_20230406121739/model_49000.pt\n",
      "2023-04-06 12:18.55 [info     ] DoubleDQN_online_20230406121739: epoch=49 step=49000 epoch=49 metrics={'time_inference': 0.00023967432975769044, 'time_environment_step': 6.013822555541992e-05, 'time_sample_batch': 5.229854583740234e-05, 'time_algorithm_update': 0.0011558105945587158, 'loss': 9.96618523478508, 'time_step': 0.0015385668277740478, 'rollout_return': 7.370285803670248, 'evaluation': 8.32574413781052} step=49000\n",
      "2023-04-06 12:18.57 [info     ] Model parameters are saved to d3rlpy_logs/DoubleDQN_online_20230406121739/model_50000.pt\n",
      "2023-04-06 12:18.57 [info     ] DoubleDQN_online_20230406121739: epoch=50 step=50000 epoch=50 metrics={'time_inference': 0.0002443645000457764, 'time_environment_step': 6.006526947021484e-05, 'time_sample_batch': 5.216312408447266e-05, 'time_algorithm_update': 0.001141455888748169, 'loss': 9.534070780396462, 'time_step': 0.001528977632522583, 'rollout_return': 7.529267689761598, 'evaluation': 7.874355313913864} step=50000\n",
      "2023-04-06 12:18.59 [info     ] Model parameters are saved to d3rlpy_logs/DoubleDQN_online_20230406121739/model_51000.pt\n",
      "2023-04-06 12:18.59 [info     ] DoubleDQN_online_20230406121739: epoch=51 step=51000 epoch=51 metrics={'time_inference': 0.00024942946434020996, 'time_environment_step': 6.56900405883789e-05, 'time_sample_batch': 5.47945499420166e-05, 'time_algorithm_update': 0.0011501691341400146, 'loss': 9.829653029628098, 'time_step': 0.001552234172821045, 'rollout_return': 7.278401307557491, 'evaluation': 7.784979236116648} step=51000\n",
      "2023-04-06 12:19.00 [info     ] Model parameters are saved to d3rlpy_logs/DoubleDQN_online_20230406121739/model_52000.pt\n",
      "2023-04-06 12:19.00 [info     ] DoubleDQN_online_20230406121739: epoch=52 step=52000 epoch=52 metrics={'time_inference': 0.00024150013923645018, 'time_environment_step': 6.066250801086426e-05, 'time_sample_batch': 5.16207218170166e-05, 'time_algorithm_update': 0.0011081497669219972, 'loss': 9.710394910767674, 'time_step': 0.0014923045635223389, 'rollout_return': 7.482644511055654, 'evaluation': 8.217316066696556} step=52000\n",
      "2023-04-06 12:19.02 [info     ] Model parameters are saved to d3rlpy_logs/DoubleDQN_online_20230406121739/model_53000.pt\n",
      "2023-04-06 12:19.02 [info     ] DoubleDQN_online_20230406121739: epoch=53 step=53000 epoch=53 metrics={'time_inference': 0.00023998284339904786, 'time_environment_step': 5.9212684631347655e-05, 'time_sample_batch': 5.308723449707031e-05, 'time_algorithm_update': 0.001253248929977417, 'loss': 9.736817957162858, 'time_step': 0.0016363911628723144, 'rollout_return': 7.593136558783029, 'evaluation': 8.114533328134536} step=53000\n",
      "2023-04-06 12:19.03 [info     ] Model parameters are saved to d3rlpy_logs/DoubleDQN_online_20230406121739/model_54000.pt\n",
      "2023-04-06 12:19.03 [info     ] DoubleDQN_online_20230406121739: epoch=54 step=54000 epoch=54 metrics={'time_inference': 0.00023946619033813477, 'time_environment_step': 5.90822696685791e-05, 'time_sample_batch': 5.057644844055176e-05, 'time_algorithm_update': 0.0011438357830047608, 'loss': 9.730079812541604, 'time_step': 0.0015254216194152833, 'rollout_return': 7.275261069633376, 'evaluation': 8.1746328449696} step=54000\n",
      "2023-04-06 12:19.05 [info     ] Model parameters are saved to d3rlpy_logs/DoubleDQN_online_20230406121739/model_55000.pt\n",
      "2023-04-06 12:19.05 [info     ] DoubleDQN_online_20230406121739: epoch=55 step=55000 epoch=55 metrics={'time_inference': 0.00023189330101013183, 'time_environment_step': 5.8195114135742186e-05, 'time_sample_batch': 5.034303665161133e-05, 'time_algorithm_update': 0.0011475045680999756, 'loss': 9.684263756990433, 'time_step': 0.0015180478096008302, 'rollout_return': 7.342023778161067, 'evaluation': 7.9814712316817324} step=55000\n",
      "2023-04-06 12:19.06 [info     ] Model parameters are saved to d3rlpy_logs/DoubleDQN_online_20230406121739/model_56000.pt\n",
      "2023-04-06 12:19.06 [info     ] DoubleDQN_online_20230406121739: epoch=56 step=56000 epoch=56 metrics={'time_inference': 0.00024290013313293458, 'time_environment_step': 6.017398834228516e-05, 'time_sample_batch': 5.3836345672607425e-05, 'time_algorithm_update': 0.0011416149139404296, 'loss': 9.729264061730355, 'time_step': 0.0015307602882385254, 'rollout_return': 7.4380571968284, 'evaluation': 7.732194728204365} step=56000\n",
      "2023-04-06 12:19.08 [info     ] Model parameters are saved to d3rlpy_logs/DoubleDQN_online_20230406121739/model_57000.pt\n",
      "2023-04-06 12:19.08 [info     ] DoubleDQN_online_20230406121739: epoch=57 step=57000 epoch=57 metrics={'time_inference': 0.00024118518829345704, 'time_environment_step': 6.482458114624024e-05, 'time_sample_batch': 5.663657188415527e-05, 'time_algorithm_update': 0.001179131269454956, 'loss': 9.878757373213768, 'time_step': 0.0015771634578704834, 'rollout_return': 7.25048171474217, 'evaluation': 7.881107756778098} step=57000\n",
      "2023-04-06 12:19.10 [info     ] Model parameters are saved to d3rlpy_logs/DoubleDQN_online_20230406121739/model_58000.pt\n",
      "2023-04-06 12:19.10 [info     ] DoubleDQN_online_20230406121739: epoch=58 step=58000 epoch=58 metrics={'time_inference': 0.00023674416542053222, 'time_environment_step': 5.94327449798584e-05, 'time_sample_batch': 5.3844451904296876e-05, 'time_algorithm_update': 0.0011374669075012206, 'loss': 9.542107350904494, 'time_step': 0.001518329381942749, 'rollout_return': 7.384168130904601, 'evaluation': 7.939943403944182} step=58000\n",
      "2023-04-06 12:19.11 [info     ] Model parameters are saved to d3rlpy_logs/DoubleDQN_online_20230406121739/model_59000.pt\n",
      "2023-04-06 12:19.11 [info     ] DoubleDQN_online_20230406121739: epoch=59 step=59000 epoch=59 metrics={'time_inference': 0.00023960280418395996, 'time_environment_step': 5.9972286224365235e-05, 'time_sample_batch': 5.23834228515625e-05, 'time_algorithm_update': 0.0011610076427459716, 'loss': 9.670965583920479, 'time_step': 0.0015434231758117676, 'rollout_return': 7.26100132133236, 'evaluation': 7.629824371548212} step=59000\n",
      "2023-04-06 12:19.13 [info     ] Model parameters are saved to d3rlpy_logs/DoubleDQN_online_20230406121739/model_60000.pt\n",
      "2023-04-06 12:19.13 [info     ] DoubleDQN_online_20230406121739: epoch=60 step=60000 epoch=60 metrics={'time_inference': 0.00024169588088989257, 'time_environment_step': 6.106233596801757e-05, 'time_sample_batch': 5.208277702331543e-05, 'time_algorithm_update': 0.0011347413063049316, 'loss': 9.77784127753228, 'time_step': 0.0015202381610870362, 'rollout_return': 7.329251871405701, 'evaluation': 8.064636209360993} step=60000\n",
      "2023-04-06 12:19.14 [info     ] Model parameters are saved to d3rlpy_logs/DoubleDQN_online_20230406121739/model_61000.pt\n",
      "2023-04-06 12:19.14 [info     ] DoubleDQN_online_20230406121739: epoch=61 step=61000 epoch=61 metrics={'time_inference': 0.00023937082290649415, 'time_environment_step': 5.9010505676269534e-05, 'time_sample_batch': 5.20939826965332e-05, 'time_algorithm_update': 0.001115532159805298, 'loss': 9.741746596932412, 'time_step': 0.0014974315166473389, 'rollout_return': 7.348013717908716, 'evaluation': 8.283718020725942} step=61000\n",
      "2023-04-06 12:19.16 [info     ] Model parameters are saved to d3rlpy_logs/DoubleDQN_online_20230406121739/model_62000.pt\n",
      "2023-04-06 12:19.16 [info     ] DoubleDQN_online_20230406121739: epoch=62 step=62000 epoch=62 metrics={'time_inference': 0.00023508858680725098, 'time_environment_step': 6.069183349609375e-05, 'time_sample_batch': 5.220484733581543e-05, 'time_algorithm_update': 0.0011423327922821045, 'loss': 9.6581533639431, 'time_step': 0.001521050453186035, 'rollout_return': 7.403472003644859, 'evaluation': 7.971339926922077} step=62000\n",
      "2023-04-06 12:19.18 [info     ] Model parameters are saved to d3rlpy_logs/DoubleDQN_online_20230406121739/model_63000.pt\n",
      "2023-04-06 12:19.18 [info     ] DoubleDQN_online_20230406121739: epoch=63 step=63000 epoch=63 metrics={'time_inference': 0.00023906588554382325, 'time_environment_step': 5.993437767028809e-05, 'time_sample_batch': 5.276179313659668e-05, 'time_algorithm_update': 0.0011353089809417725, 'loss': 9.51408232074231, 'time_step': 0.00151815128326416, 'rollout_return': 7.136654398541305, 'evaluation': 8.256323090458354} step=63000\n",
      "2023-04-06 12:19.19 [info     ] Model parameters are saved to d3rlpy_logs/DoubleDQN_online_20230406121739/model_64000.pt\n",
      "2023-04-06 12:19.19 [info     ] DoubleDQN_online_20230406121739: epoch=64 step=64000 epoch=64 metrics={'time_inference': 0.00026929378509521484, 'time_environment_step': 6.792783737182618e-05, 'time_sample_batch': 5.8339834213256834e-05, 'time_algorithm_update': 0.0012764463424682617, 'loss': 9.703240641593933, 'time_step': 0.0017085716724395753, 'rollout_return': 7.339283625975538, 'evaluation': 8.157089001836678} step=64000\n",
      "2023-04-06 12:19.21 [info     ] Model parameters are saved to d3rlpy_logs/DoubleDQN_online_20230406121739/model_65000.pt\n",
      "2023-04-06 12:19.21 [info     ] DoubleDQN_online_20230406121739: epoch=65 step=65000 epoch=65 metrics={'time_inference': 0.00026146531105041503, 'time_environment_step': 7.152867317199706e-05, 'time_sample_batch': 5.6241512298583986e-05, 'time_algorithm_update': 0.0013477747440338134, 'loss': 9.533353956878186, 'time_step': 0.0017697262763977052, 'rollout_return': 7.403211994254004, 'evaluation': 8.040444980990555} step=65000\n",
      "2023-04-06 12:19.23 [info     ] Model parameters are saved to d3rlpy_logs/DoubleDQN_online_20230406121739/model_66000.pt\n",
      "2023-04-06 12:19.23 [info     ] DoubleDQN_online_20230406121739: epoch=66 step=66000 epoch=66 metrics={'time_inference': 0.0002669315338134766, 'time_environment_step': 6.593894958496093e-05, 'time_sample_batch': 5.713200569152832e-05, 'time_algorithm_update': 0.0012992372512817382, 'loss': 9.614041519522667, 'time_step': 0.0017237946987152099, 'rollout_return': 7.321062588122261, 'evaluation': 7.882778007441873} step=66000\n",
      "2023-04-06 12:19.25 [info     ] Model parameters are saved to d3rlpy_logs/DoubleDQN_online_20230406121739/model_67000.pt\n",
      "2023-04-06 12:19.25 [info     ] DoubleDQN_online_20230406121739: epoch=67 step=67000 epoch=67 metrics={'time_inference': 0.0002566771507263184, 'time_environment_step': 6.39195442199707e-05, 'time_sample_batch': 5.481910705566406e-05, 'time_algorithm_update': 0.0012244417667388915, 'loss': 9.75396559715271, 'time_step': 0.0016327877044677735, 'rollout_return': 7.288226499035827, 'evaluation': 8.253812386288926} step=67000\n",
      "2023-04-06 12:19.26 [info     ] Model parameters are saved to d3rlpy_logs/DoubleDQN_online_20230406121739/model_68000.pt\n",
      "2023-04-06 12:19.26 [info     ] DoubleDQN_online_20230406121739: epoch=68 step=68000 epoch=68 metrics={'time_inference': 0.00027159857749938963, 'time_environment_step': 6.62693977355957e-05, 'time_sample_batch': 5.637979507446289e-05, 'time_algorithm_update': 0.0012395966053009033, 'loss': 9.641914458539336, 'time_step': 0.0016679081916809082, 'rollout_return': 7.484300173975424, 'evaluation': 7.752853304705236} step=68000\n",
      "2023-04-06 12:19.28 [info     ] Model parameters are saved to d3rlpy_logs/DoubleDQN_online_20230406121739/model_69000.pt\n",
      "2023-04-06 12:19.28 [info     ] DoubleDQN_online_20230406121739: epoch=69 step=69000 epoch=69 metrics={'time_inference': 0.00027143335342407225, 'time_environment_step': 6.59780502319336e-05, 'time_sample_batch': 5.73115348815918e-05, 'time_algorithm_update': 0.001345186471939087, 'loss': 9.740367078859359, 'time_step': 0.0017743201255798339, 'rollout_return': 7.328685758348721, 'evaluation': 7.726162660333202} step=69000\n",
      "2023-04-06 12:19.30 [info     ] Model parameters are saved to d3rlpy_logs/DoubleDQN_online_20230406121739/model_70000.pt\n",
      "2023-04-06 12:19.30 [info     ] DoubleDQN_online_20230406121739: epoch=70 step=70000 epoch=70 metrics={'time_inference': 0.00026219606399536133, 'time_environment_step': 6.493353843688965e-05, 'time_sample_batch': 5.697464942932129e-05, 'time_algorithm_update': 0.001208080530166626, 'loss': 9.585397524423897, 'time_step': 0.0016264119148254395, 'rollout_return': 7.195164732147658, 'evaluation': 7.646708384516517} step=70000\n",
      "2023-04-06 12:19.31 [info     ] Model parameters are saved to d3rlpy_logs/DoubleDQN_online_20230406121739/model_71000.pt\n",
      "2023-04-06 12:19.31 [info     ] DoubleDQN_online_20230406121739: epoch=71 step=71000 epoch=71 metrics={'time_inference': 0.0002569441795349121, 'time_environment_step': 6.305599212646484e-05, 'time_sample_batch': 5.692267417907715e-05, 'time_algorithm_update': 0.0011985938549041748, 'loss': 9.709007822990417, 'time_step': 0.0016097316741943359, 'rollout_return': 7.314879605526775, 'evaluation': 7.706816354075352} step=71000\n",
      "2023-04-06 12:19.33 [info     ] Model parameters are saved to d3rlpy_logs/DoubleDQN_online_20230406121739/model_72000.pt\n",
      "2023-04-06 12:19.33 [info     ] DoubleDQN_online_20230406121739: epoch=72 step=72000 epoch=72 metrics={'time_inference': 0.0002627089023590088, 'time_environment_step': 6.400632858276367e-05, 'time_sample_batch': 5.619263648986816e-05, 'time_algorithm_update': 0.001275806427001953, 'loss': 9.608967791046947, 'time_step': 0.0016922204494476318, 'rollout_return': 7.111375062830835, 'evaluation': 7.569324896338562} step=72000\n",
      "2023-04-06 12:19.35 [info     ] Model parameters are saved to d3rlpy_logs/DoubleDQN_online_20230406121739/model_73000.pt\n",
      "2023-04-06 12:19.35 [info     ] DoubleDQN_online_20230406121739: epoch=73 step=73000 epoch=73 metrics={'time_inference': 0.000267305850982666, 'time_environment_step': 6.564044952392578e-05, 'time_sample_batch': 5.7837724685668945e-05, 'time_algorithm_update': 0.0012468888759613037, 'loss': 9.665573681801558, 'time_step': 0.0016720027923583984, 'rollout_return': 7.124399312470161, 'evaluation': 7.700354079979642} step=73000\n",
      "2023-04-06 12:19.37 [info     ] Model parameters are saved to d3rlpy_logs/DoubleDQN_online_20230406121739/model_74000.pt\n",
      "2023-04-06 12:19.37 [info     ] DoubleDQN_online_20230406121739: epoch=74 step=74000 epoch=74 metrics={'time_inference': 0.00025313639640808105, 'time_environment_step': 6.400346755981445e-05, 'time_sample_batch': 5.437564849853516e-05, 'time_algorithm_update': 0.0012115862369537355, 'loss': 9.470670181136578, 'time_step': 0.0016157119274139405, 'rollout_return': 7.409665698585226, 'evaluation': 7.727707027933539} step=74000\n",
      "2023-04-06 12:19.38 [info     ] Model parameters are saved to d3rlpy_logs/DoubleDQN_online_20230406121739/model_75000.pt\n",
      "2023-04-06 12:19.38 [info     ] DoubleDQN_online_20230406121739: epoch=75 step=75000 epoch=75 metrics={'time_inference': 0.0002633213996887207, 'time_environment_step': 6.659436225891113e-05, 'time_sample_batch': 5.7439804077148435e-05, 'time_algorithm_update': 0.001240778923034668, 'loss': 9.47573934417963, 'time_step': 0.001661858320236206, 'rollout_return': 7.428775293141406, 'evaluation': 7.854328164664116} step=75000\n",
      "2023-04-06 12:19.40 [info     ] Model parameters are saved to d3rlpy_logs/DoubleDQN_online_20230406121739/model_76000.pt\n",
      "2023-04-06 12:19.40 [info     ] DoubleDQN_online_20230406121739: epoch=76 step=76000 epoch=76 metrics={'time_inference': 0.0002723000049591064, 'time_environment_step': 6.720423698425293e-05, 'time_sample_batch': 5.914926528930664e-05, 'time_algorithm_update': 0.0012281875610351562, 'loss': 9.347061547800898, 'time_step': 0.0016622159481048584, 'rollout_return': 7.308758605987947, 'evaluation': 7.813708747212763} step=76000\n",
      "2023-04-06 12:19.42 [info     ] Model parameters are saved to d3rlpy_logs/DoubleDQN_online_20230406121739/model_77000.pt\n",
      "2023-04-06 12:19.42 [info     ] DoubleDQN_online_20230406121739: epoch=77 step=77000 epoch=77 metrics={'time_inference': 0.00025130248069763183, 'time_environment_step': 6.21473789215088e-05, 'time_sample_batch': 5.44886589050293e-05, 'time_algorithm_update': 0.0011823198795318604, 'loss': 9.543536203980446, 'time_step': 0.0015822603702545165, 'rollout_return': 7.332806694030908, 'evaluation': 7.657839252122318} step=77000\n",
      "2023-04-06 12:19.43 [info     ] Model parameters are saved to d3rlpy_logs/DoubleDQN_online_20230406121739/model_78000.pt\n",
      "2023-04-06 12:19.43 [info     ] DoubleDQN_online_20230406121739: epoch=78 step=78000 epoch=78 metrics={'time_inference': 0.00026478099822998044, 'time_environment_step': 6.385540962219238e-05, 'time_sample_batch': 5.726981163024902e-05, 'time_algorithm_update': 0.0012235310077667236, 'loss': 9.54488401794061, 'time_step': 0.0016414928436279297, 'rollout_return': 7.367023483859808, 'evaluation': 7.420085163819515} step=78000\n",
      "2023-04-06 12:19.45 [info     ] Model parameters are saved to d3rlpy_logs/DoubleDQN_online_20230406121739/model_79000.pt\n",
      "2023-04-06 12:19.45 [info     ] DoubleDQN_online_20230406121739: epoch=79 step=79000 epoch=79 metrics={'time_inference': 0.00025029325485229493, 'time_environment_step': 6.125068664550781e-05, 'time_sample_batch': 5.323362350463867e-05, 'time_algorithm_update': 0.00118135666847229, 'loss': 9.302815063696354, 'time_step': 0.0015781593322753906, 'rollout_return': 7.3482826762080915, 'evaluation': 8.387896531845122} step=79000\n",
      "2023-04-06 12:19.47 [info     ] Model parameters are saved to d3rlpy_logs/DoubleDQN_online_20230406121739/model_80000.pt\n",
      "2023-04-06 12:19.47 [info     ] DoubleDQN_online_20230406121739: epoch=80 step=80000 epoch=80 metrics={'time_inference': 0.00025663208961486817, 'time_environment_step': 6.36911392211914e-05, 'time_sample_batch': 5.3853273391723635e-05, 'time_algorithm_update': 0.0011890380382537842, 'loss': 9.57192054028064, 'time_step': 0.001596118688583374, 'rollout_return': 7.313715870498279, 'evaluation': 6.960310323515036} step=80000\n",
      "2023-04-06 12:19.48 [info     ] Model parameters are saved to d3rlpy_logs/DoubleDQN_online_20230406121739/model_81000.pt\n",
      "2023-04-06 12:19.48 [info     ] DoubleDQN_online_20230406121739: epoch=81 step=81000 epoch=81 metrics={'time_inference': 0.0002565596103668213, 'time_environment_step': 6.329798698425293e-05, 'time_sample_batch': 5.506157875061035e-05, 'time_algorithm_update': 0.0011860003471374512, 'loss': 9.475874364741147, 'time_step': 0.001594148874282837, 'rollout_return': 7.253433102191558, 'evaluation': 7.875942313426606} step=81000\n",
      "2023-04-06 12:19.50 [info     ] Model parameters are saved to d3rlpy_logs/DoubleDQN_online_20230406121739/model_82000.pt\n",
      "2023-04-06 12:19.50 [info     ] DoubleDQN_online_20230406121739: epoch=82 step=82000 epoch=82 metrics={'time_inference': 0.0002696826457977295, 'time_environment_step': 6.626129150390625e-05, 'time_sample_batch': 5.724787712097168e-05, 'time_algorithm_update': 0.001267991065979004, 'loss': 9.355825865507127, 'time_step': 0.0016962862014770507, 'rollout_return': 7.345237646863671, 'evaluation': 7.885042555037802} step=82000\n",
      "2023-04-06 12:19.52 [info     ] Model parameters are saved to d3rlpy_logs/DoubleDQN_online_20230406121739/model_83000.pt\n",
      "2023-04-06 12:19.52 [info     ] DoubleDQN_online_20230406121739: epoch=83 step=83000 epoch=83 metrics={'time_inference': 0.0002763669490814209, 'time_environment_step': 7.120180130004883e-05, 'time_sample_batch': 6.0047388076782226e-05, 'time_algorithm_update': 0.001291799783706665, 'loss': 9.267751745581627, 'time_step': 0.0017396395206451417, 'rollout_return': 7.4126762753566355, 'evaluation': 8.03174674752312} step=83000\n",
      "2023-04-06 12:19.54 [info     ] Model parameters are saved to d3rlpy_logs/DoubleDQN_online_20230406121739/model_84000.pt\n",
      "2023-04-06 12:19.54 [info     ] DoubleDQN_online_20230406121739: epoch=84 step=84000 epoch=84 metrics={'time_inference': 0.00025467443466186524, 'time_environment_step': 6.124091148376465e-05, 'time_sample_batch': 5.475211143493652e-05, 'time_algorithm_update': 0.0011940088272094727, 'loss': 9.514464841842651, 'time_step': 0.0015965306758880615, 'rollout_return': 7.238324416972458, 'evaluation': 7.660266579729013} step=84000\n",
      "2023-04-06 12:19.55 [info     ] Model parameters are saved to d3rlpy_logs/DoubleDQN_online_20230406121739/model_85000.pt\n",
      "2023-04-06 12:19.55 [info     ] DoubleDQN_online_20230406121739: epoch=85 step=85000 epoch=85 metrics={'time_inference': 0.0002655773162841797, 'time_environment_step': 6.900548934936524e-05, 'time_sample_batch': 5.831146240234375e-05, 'time_algorithm_update': 0.0012680349349975587, 'loss': 9.309820119656623, 'time_step': 0.0016954452991485595, 'rollout_return': 7.481629484131849, 'evaluation': 7.4456287413757805} step=85000\n",
      "2023-04-06 12:19.57 [info     ] Model parameters are saved to d3rlpy_logs/DoubleDQN_online_20230406121739/model_86000.pt\n",
      "2023-04-06 12:19.57 [info     ] DoubleDQN_online_20230406121739: epoch=86 step=86000 epoch=86 metrics={'time_inference': 0.00026524138450622557, 'time_environment_step': 6.606531143188477e-05, 'time_sample_batch': 5.569314956665039e-05, 'time_algorithm_update': 0.001306368350982666, 'loss': 9.456811759829522, 'time_step': 0.0017269821166992188, 'rollout_return': 7.374537813463084, 'evaluation': 7.672828340326937} step=86000\n",
      "2023-04-06 12:19.59 [info     ] Model parameters are saved to d3rlpy_logs/DoubleDQN_online_20230406121739/model_87000.pt\n",
      "2023-04-06 12:19.59 [info     ] DoubleDQN_online_20230406121739: epoch=87 step=87000 epoch=87 metrics={'time_inference': 0.0002632946968078613, 'time_environment_step': 6.706428527832032e-05, 'time_sample_batch': 5.6262731552124024e-05, 'time_algorithm_update': 0.0012976512908935546, 'loss': 9.490078662872314, 'time_step': 0.0017197566032409667, 'rollout_return': 7.25766933677925, 'evaluation': 7.925666097526363} step=87000\n",
      "2023-04-06 12:20.01 [info     ] Model parameters are saved to d3rlpy_logs/DoubleDQN_online_20230406121739/model_88000.pt\n",
      "2023-04-06 12:20.01 [info     ] DoubleDQN_online_20230406121739: epoch=88 step=88000 epoch=88 metrics={'time_inference': 0.0002641794681549072, 'time_environment_step': 6.531429290771484e-05, 'time_sample_batch': 5.647921562194824e-05, 'time_algorithm_update': 0.0012500441074371337, 'loss': 9.438943616747856, 'time_step': 0.0016698429584503173, 'rollout_return': 7.338670594561202, 'evaluation': 7.991868030342587} step=88000\n",
      "2023-04-06 12:20.02 [info     ] Model parameters are saved to d3rlpy_logs/DoubleDQN_online_20230406121739/model_89000.pt\n",
      "2023-04-06 12:20.02 [info     ] DoubleDQN_online_20230406121739: epoch=89 step=89000 epoch=89 metrics={'time_inference': 0.00027332496643066404, 'time_environment_step': 6.723260879516602e-05, 'time_sample_batch': 5.810356140136719e-05, 'time_algorithm_update': 0.0012237226963043213, 'loss': 9.424445236325264, 'time_step': 0.0016574113368988037, 'rollout_return': 7.413444550557744, 'evaluation': 7.789084764760011} step=89000\n",
      "2023-04-06 12:20.04 [info     ] Model parameters are saved to d3rlpy_logs/DoubleDQN_online_20230406121739/model_90000.pt\n",
      "2023-04-06 12:20.04 [info     ] DoubleDQN_online_20230406121739: epoch=90 step=90000 epoch=90 metrics={'time_inference': 0.00026557612419128416, 'time_environment_step': 6.457042694091796e-05, 'time_sample_batch': 5.645871162414551e-05, 'time_algorithm_update': 0.0012449831962585449, 'loss': 9.370308651283384, 'time_step': 0.0016652171611785888, 'rollout_return': 7.215052865898107, 'evaluation': 7.54055606128706} step=90000\n",
      "2023-04-06 12:20.06 [info     ] Model parameters are saved to d3rlpy_logs/DoubleDQN_online_20230406121739/model_91000.pt\n",
      "2023-04-06 12:20.06 [info     ] DoubleDQN_online_20230406121739: epoch=91 step=91000 epoch=91 metrics={'time_inference': 0.00024350810050964355, 'time_environment_step': 5.950069427490234e-05, 'time_sample_batch': 5.3203344345092776e-05, 'time_algorithm_update': 0.0011231279373168945, 'loss': 9.525665640354157, 'time_step': 0.0015099802017211914, 'rollout_return': 7.312055025646914, 'evaluation': 8.033170365323695} step=91000\n",
      "2023-04-06 12:20.07 [info     ] Model parameters are saved to d3rlpy_logs/DoubleDQN_online_20230406121739/model_92000.pt\n",
      "2023-04-06 12:20.07 [info     ] DoubleDQN_online_20230406121739: epoch=92 step=92000 epoch=92 metrics={'time_inference': 0.00026381468772888184, 'time_environment_step': 6.473565101623536e-05, 'time_sample_batch': 5.575871467590332e-05, 'time_algorithm_update': 0.0012294788360595703, 'loss': 9.458121897604316, 'time_step': 0.00164733624458313, 'rollout_return': 7.401548591741638, 'evaluation': 7.992945057547276} step=92000\n",
      "2023-04-06 12:20.09 [info     ] Model parameters are saved to d3rlpy_logs/DoubleDQN_online_20230406121739/model_93000.pt\n",
      "2023-04-06 12:20.09 [info     ] DoubleDQN_online_20230406121739: epoch=93 step=93000 epoch=93 metrics={'time_inference': 0.0002439546585083008, 'time_environment_step': 5.962634086608887e-05, 'time_sample_batch': 5.370473861694336e-05, 'time_algorithm_update': 0.0011141431331634522, 'loss': 9.334485819101333, 'time_step': 0.001502904176712036, 'rollout_return': 7.269890238007366, 'evaluation': 7.6747279444392635} step=93000\n",
      "2023-04-06 12:20.11 [info     ] Model parameters are saved to d3rlpy_logs/DoubleDQN_online_20230406121739/model_94000.pt\n",
      "2023-04-06 12:20.11 [info     ] DoubleDQN_online_20230406121739: epoch=94 step=94000 epoch=94 metrics={'time_inference': 0.000267636775970459, 'time_environment_step': 6.513881683349609e-05, 'time_sample_batch': 5.721426010131836e-05, 'time_algorithm_update': 0.0012365846633911133, 'loss': 9.524377075195313, 'time_step': 0.0016629867553710938, 'rollout_return': 7.515532401229959, 'evaluation': 7.991890918587797} step=94000\n",
      "2023-04-06 12:20.12 [info     ] Model parameters are saved to d3rlpy_logs/DoubleDQN_online_20230406121739/model_95000.pt\n",
      "2023-04-06 12:20.12 [info     ] DoubleDQN_online_20230406121739: epoch=95 step=95000 epoch=95 metrics={'time_inference': 0.0002604050636291504, 'time_environment_step': 6.44068717956543e-05, 'time_sample_batch': 5.610775947570801e-05, 'time_algorithm_update': 0.0012520010471343994, 'loss': 9.516425672248007, 'time_step': 0.0016662631034851075, 'rollout_return': 7.399752106061717, 'evaluation': 7.666599344310233} step=95000\n",
      "2023-04-06 12:20.14 [info     ] Model parameters are saved to d3rlpy_logs/DoubleDQN_online_20230406121739/model_96000.pt\n",
      "2023-04-06 12:20.14 [info     ] DoubleDQN_online_20230406121739: epoch=96 step=96000 epoch=96 metrics={'time_inference': 0.0002623374462127686, 'time_environment_step': 6.48648738861084e-05, 'time_sample_batch': 5.632472038269043e-05, 'time_algorithm_update': 0.00127702260017395, 'loss': 9.385221611790358, 'time_step': 0.0016944365501403809, 'rollout_return': 7.407430664383391, 'evaluation': 8.070130342038766} step=96000\n",
      "2023-04-06 12:20.16 [info     ] Model parameters are saved to d3rlpy_logs/DoubleDQN_online_20230406121739/model_97000.pt\n",
      "2023-04-06 12:20.16 [info     ] DoubleDQN_online_20230406121739: epoch=97 step=97000 epoch=97 metrics={'time_inference': 0.000273266077041626, 'time_environment_step': 7.13670253753662e-05, 'time_sample_batch': 5.837202072143555e-05, 'time_algorithm_update': 0.0013287155628204346, 'loss': 9.294038139596582, 'time_step': 0.0017670297622680664, 'rollout_return': 7.1768050168730975, 'evaluation': 8.104719509940233} step=97000\n",
      "2023-04-06 12:20.18 [info     ] Model parameters are saved to d3rlpy_logs/DoubleDQN_online_20230406121739/model_98000.pt\n",
      "2023-04-06 12:20.18 [info     ] DoubleDQN_online_20230406121739: epoch=98 step=98000 epoch=98 metrics={'time_inference': 0.0002762448787689209, 'time_environment_step': 6.854248046875e-05, 'time_sample_batch': 5.733036994934082e-05, 'time_algorithm_update': 0.0012990598678588867, 'loss': 9.742901860233395, 'time_step': 0.0017361764907836913, 'rollout_return': 7.30219951919948, 'evaluation': 7.703515238329686} step=98000\n",
      "2023-04-06 12:20.19 [info     ] Model parameters are saved to d3rlpy_logs/DoubleDQN_online_20230406121739/model_99000.pt\n",
      "2023-04-06 12:20.19 [info     ] DoubleDQN_online_20230406121739: epoch=99 step=99000 epoch=99 metrics={'time_inference': 0.00025185823440551755, 'time_environment_step': 6.216907501220702e-05, 'time_sample_batch': 5.438661575317383e-05, 'time_algorithm_update': 0.0012179224491119386, 'loss': 9.416433423876763, 'time_step': 0.0016185684204101563, 'rollout_return': 7.374204901678596, 'evaluation': 7.745453360991351} step=99000\n",
      "2023-04-06 12:20.21 [info     ] Model parameters are saved to d3rlpy_logs/DoubleDQN_online_20230406121739/model_100000.pt\n",
      "2023-04-06 12:20.21 [info     ] DoubleDQN_online_20230406121739: epoch=100 step=100000 epoch=100 metrics={'time_inference': 0.00028661060333251955, 'time_environment_step': 6.405425071716309e-05, 'time_sample_batch': 5.5298089981079104e-05, 'time_algorithm_update': 0.0013002688884735107, 'loss': 9.28562739750743, 'time_step': 0.0017397947311401367, 'rollout_return': 7.234581432201485, 'evaluation': 7.9765601592986055} step=100000\n"
     ]
    },
    {
     "data": {
      "application/vnd.jupyter.widget-view+json": {
       "model_id": "1b87756e045a4c8d9eedaa59f1b417f6",
       "version_major": 2,
       "version_minor": 0
      },
      "text/plain": [
       "[obtain_trajectories]:   0%|          | 0/10000 [00:00<?, ?it/s]"
      ]
     },
     "metadata": {},
     "output_type": "display_data"
    },
    {
     "data": {
      "application/vnd.jupyter.widget-view+json": {
       "model_id": "1a71984c3fbe4f71aecccb76c0e8162c",
       "version_major": 2,
       "version_minor": 0
      },
      "text/plain": [
       "[obtain_trajectories]:   0%|          | 0/10000 [00:00<?, ?it/s]"
      ]
     },
     "metadata": {},
     "output_type": "display_data"
    },
    {
     "name": "stdout",
     "output_type": "stream",
     "text": [
      "2023-04-06 12:21.46 [debug    ] RandomIterator is selected.\n",
      "2023-04-06 12:21.46 [info     ] Directory is created at d3rlpy_logs/DiscreteCQL_20230406122146\n",
      "2023-04-06 12:21.46 [debug    ] Building models...\n",
      "2023-04-06 12:21.46 [debug    ] Models have been built.\n",
      "2023-04-06 12:21.46 [info     ] Parameters are saved to d3rlpy_logs/DiscreteCQL_20230406122146/params.json params={'action_scaler': None, 'alpha': 1.0, 'batch_size': 32, 'encoder_factory': {'type': 'vector', 'params': {'hidden_units': [30, 30], 'activation': 'relu', 'use_batch_norm': False, 'dropout_rate': None, 'use_dense': False}}, 'gamma': 0.99, 'generated_maxlen': 100000, 'learning_rate': 6.25e-05, 'n_critics': 1, 'n_frames': 1, 'n_steps': 1, 'optim_factory': {'optim_cls': 'Adam', 'betas': (0.9, 0.999), 'eps': 1e-08, 'weight_decay': 0, 'amsgrad': False}, 'q_func_factory': {'type': 'mean', 'params': {'share_encoder': False}}, 'real_ratio': 1.0, 'reward_scaler': None, 'scaler': None, 'target_update_interval': 8000, 'use_gpu': None, 'algorithm': 'DiscreteCQL', 'observation_shape': (5,), 'action_size': 10}\n"
     ]
    },
    {
     "data": {
      "application/vnd.jupyter.widget-view+json": {
       "model_id": "417716e4d652406e969671cfa2e0f829",
       "version_major": 2,
       "version_minor": 0
      },
      "text/plain": [
       "Epoch 1/1:   0%|          | 0/10000 [00:00<?, ?it/s]"
      ]
     },
     "metadata": {},
     "output_type": "display_data"
    },
    {
     "name": "stdout",
     "output_type": "stream",
     "text": [
      "2023-04-06 12:22.02 [info     ] DiscreteCQL_20230406122146: epoch=1 step=10000 epoch=1 metrics={'time_sample_batch': 0.00011171936988830566, 'time_algorithm_update': 0.0014239136695861816, 'loss': 1.8014619823932647, 'time_step': 0.001636495041847229} step=10000\n",
      "2023-04-06 12:22.02 [info     ] Model parameters are saved to d3rlpy_logs/DiscreteCQL_20230406122146/model_10000.pt\n"
     ]
    },
    {
     "data": {
      "application/vnd.jupyter.widget-view+json": {
       "model_id": "1fa4b78ede784fc6b8fbf94280222ee3",
       "version_major": 2,
       "version_minor": 0
      },
      "text/plain": [
       "[fit FQE model]:   0%|          | 0/2 [00:00<?, ?it/s]"
      ]
     },
     "metadata": {},
     "output_type": "display_data"
    },
    {
     "name": "stdout",
     "output_type": "stream",
     "text": [
      "2023-04-06 12:22.02 [debug    ] RoundIterator is selected.\n",
      "2023-04-06 12:22.02 [info     ] Directory is created at d3rlpy_logs/DiscreteFQE_20230406122202\n",
      "2023-04-06 12:22.02 [debug    ] Fitting scaler...              scaler=min_max\n",
      "2023-04-06 12:22.02 [debug    ] Building models...\n",
      "2023-04-06 12:22.02 [debug    ] Models have been built.\n",
      "2023-04-06 12:22.02 [info     ] Parameters are saved to d3rlpy_logs/DiscreteFQE_20230406122202/params.json params={'action_scaler': None, 'batch_size': 100, 'encoder_factory': {'type': 'vector', 'params': {'hidden_units': [30, 30], 'activation': 'relu', 'use_batch_norm': False, 'dropout_rate': None, 'use_dense': False}}, 'gamma': 0.95, 'generated_maxlen': 100000, 'learning_rate': 0.0001, 'n_critics': 1, 'n_frames': 1, 'n_steps': 1, 'optim_factory': {'optim_cls': 'Adam', 'betas': (0.9, 0.999), 'eps': 1e-08, 'weight_decay': 0, 'amsgrad': False}, 'q_func_factory': {'type': 'mean', 'params': {'share_encoder': False}}, 'real_ratio': 1.0, 'reward_scaler': None, 'scaler': {'type': 'min_max', 'params': {'maximum': array([0.98860703, 0.98765528, 0.99590232, 0.98676617, 0.9983697 ]), 'minimum': array([-0.99465054, -0.9926474 , -0.99203573, -0.99694513, -0.98927816])}}, 'target_update_interval': 100, 'use_gpu': None, 'algorithm': 'DiscreteFQE', 'observation_shape': (5,), 'action_size': 10}\n"
     ]
    },
    {
     "data": {
      "application/vnd.jupyter.widget-view+json": {
       "model_id": "31fc212f70254ca8b3a5fcf464f040ed",
       "version_major": 2,
       "version_minor": 0
      },
      "text/plain": [
       "Epoch 1/1:   0%|          | 0/1000 [00:00<?, ?it/s]"
      ]
     },
     "metadata": {},
     "output_type": "display_data"
    },
    {
     "name": "stdout",
     "output_type": "stream",
     "text": [
      "2023-04-06 12:22.04 [info     ] DiscreteFQE_20230406122202: epoch=1 step=1000 epoch=1 metrics={'time_sample_batch': 0.00014481067657470703, 'time_algorithm_update': 0.0015937931537628174, 'loss': 0.2657528602555394, 'time_step': 0.0018307175636291504} step=1000\n",
      "2023-04-06 12:22.04 [info     ] Model parameters are saved to d3rlpy_logs/DiscreteFQE_20230406122202/model_1000.pt\n",
      "2023-04-06 12:22.04 [debug    ] RoundIterator is selected.\n",
      "2023-04-06 12:22.04 [info     ] Directory is created at d3rlpy_logs/DiscreteFQE_20230406122204\n",
      "2023-04-06 12:22.04 [debug    ] Fitting scaler...              scaler=min_max\n",
      "2023-04-06 12:22.04 [debug    ] Building models...\n",
      "2023-04-06 12:22.04 [debug    ] Models have been built.\n",
      "2023-04-06 12:22.04 [info     ] Parameters are saved to d3rlpy_logs/DiscreteFQE_20230406122204/params.json params={'action_scaler': None, 'batch_size': 100, 'encoder_factory': {'type': 'vector', 'params': {'hidden_units': [30, 30], 'activation': 'relu', 'use_batch_norm': False, 'dropout_rate': None, 'use_dense': False}}, 'gamma': 0.95, 'generated_maxlen': 100000, 'learning_rate': 0.0001, 'n_critics': 1, 'n_frames': 1, 'n_steps': 1, 'optim_factory': {'optim_cls': 'Adam', 'betas': (0.9, 0.999), 'eps': 1e-08, 'weight_decay': 0, 'amsgrad': False}, 'q_func_factory': {'type': 'mean', 'params': {'share_encoder': False}}, 'real_ratio': 1.0, 'reward_scaler': None, 'scaler': {'type': 'min_max', 'params': {'maximum': array([0.98860703, 0.98765528, 0.99590232, 0.98676617, 0.9983697 ]), 'minimum': array([-0.99465054, -0.9926474 , -0.99203573, -0.99694513, -0.98927816])}}, 'target_update_interval': 100, 'use_gpu': None, 'algorithm': 'DiscreteFQE', 'observation_shape': (5,), 'action_size': 10}\n"
     ]
    },
    {
     "data": {
      "application/vnd.jupyter.widget-view+json": {
       "model_id": "2225ae76c82347aa9ef0c42f002fce39",
       "version_major": 2,
       "version_minor": 0
      },
      "text/plain": [
       "Epoch 1/1:   0%|          | 0/1000 [00:00<?, ?it/s]"
      ]
     },
     "metadata": {},
     "output_type": "display_data"
    },
    {
     "name": "stdout",
     "output_type": "stream",
     "text": [
      "2023-04-06 12:22.06 [info     ] DiscreteFQE_20230406122204: epoch=1 step=1000 epoch=1 metrics={'time_sample_batch': 0.00014534235000610352, 'time_algorithm_update': 0.0017274672985076905, 'loss': 0.20577421245723962, 'time_step': 0.0019512908458709716} step=1000\n",
      "2023-04-06 12:22.06 [info     ] Model parameters are saved to d3rlpy_logs/DiscreteFQE_20230406122204/model_1000.pt\n"
     ]
    },
    {
     "data": {
      "application/vnd.jupyter.widget-view+json": {
       "model_id": "f37c6a5e1ec3449eb8704263e6aa3b7b",
       "version_major": 2,
       "version_minor": 0
      },
      "text/plain": [
       "[fit MWL model]:   0%|          | 0/2 [00:00<?, ?it/s]"
      ]
     },
     "metadata": {},
     "output_type": "display_data"
    },
    {
     "data": {
      "application/vnd.jupyter.widget-view+json": {
       "model_id": "2eefe3e4f6794143b337c209cb05df92",
       "version_major": 2,
       "version_minor": 0
      },
      "text/plain": [
       "[fitting_weight_function]:   0%|          | 0/100 [00:00<?, ?it/s]"
      ]
     },
     "metadata": {},
     "output_type": "display_data"
    },
    {
     "data": {
      "application/vnd.jupyter.widget-view+json": {
       "model_id": "70854e3e30594c6da6a3b4da346e2dce",
       "version_major": 2,
       "version_minor": 0
      },
      "text/plain": [
       "[fitting_weight_function]:   0%|          | 0/100 [00:00<?, ?it/s]"
      ]
     },
     "metadata": {},
     "output_type": "display_data"
    },
    {
     "data": {
      "application/vnd.jupyter.widget-view+json": {
       "model_id": "ce00f2c44bd44f83aa6c4a976a135046",
       "version_major": 2,
       "version_minor": 0
      },
      "text/plain": [
       "[fitting_weight_function]:   0%|          | 0/100 [00:00<?, ?it/s]"
      ]
     },
     "metadata": {},
     "output_type": "display_data"
    },
    {
     "data": {
      "application/vnd.jupyter.widget-view+json": {
       "model_id": "d1bf6d1b629247c49e16a2c56ba78f28",
       "version_major": 2,
       "version_minor": 0
      },
      "text/plain": [
       "[fitting_weight_function]:   0%|          | 0/100 [00:00<?, ?it/s]"
      ]
     },
     "metadata": {},
     "output_type": "display_data"
    },
    {
     "data": {
      "application/vnd.jupyter.widget-view+json": {
       "model_id": "350623787ad948d98dd6ad1a48bd8133",
       "version_major": 2,
       "version_minor": 0
      },
      "text/plain": [
       "[collect input data: eval_policy]:   0%|          | 0/2 [00:00<?, ?it/s]"
      ]
     },
     "metadata": {},
     "output_type": "display_data"
    },
    {
     "data": {
      "application/vnd.jupyter.widget-view+json": {
       "model_id": "7ea06e7be86a4da18a0baee81df12b97",
       "version_major": 2,
       "version_minor": 0
      },
      "text/plain": [
       "[calculate on-policy policy value]:   0%|          | 0/100 [00:00<?, ?it/s]"
      ]
     },
     "metadata": {},
     "output_type": "display_data"
    },
    {
     "data": {
      "application/vnd.jupyter.widget-view+json": {
       "model_id": "d132f962285b43229d7f98c7641b0bdb",
       "version_major": 2,
       "version_minor": 0
      },
      "text/plain": [
       "[calculate on-policy policy value]:   0%|          | 0/100 [00:00<?, ?it/s]"
      ]
     },
     "metadata": {},
     "output_type": "display_data"
    },
    {
     "name": "stderr",
     "output_type": "stream",
     "text": [
      "/Users/ren/dev/ofrl/tutorial/../ofrl/ope/estimators_base.py:445: RuntimeWarning: invalid value encountered in divide\n",
      "  return numerator / denominator\n"
     ]
    },
    {
     "data": {
      "application/vnd.jupyter.widget-view+json": {
       "model_id": "8dfb53284c6a4952ade7082b4627f1ec",
       "version_major": 2,
       "version_minor": 0
      },
      "text/plain": [
       "[obtain_trajectories]:   0%|          | 0/10000 [00:00<?, ?it/s]"
      ]
     },
     "metadata": {},
     "output_type": "display_data"
    },
    {
     "data": {
      "application/vnd.jupyter.widget-view+json": {
       "model_id": "daa8a5fc4aa94e7897b9011174378a53",
       "version_major": 2,
       "version_minor": 0
      },
      "text/plain": [
       "[obtain_trajectories]:   0%|          | 0/10000 [00:00<?, ?it/s]"
      ]
     },
     "metadata": {},
     "output_type": "display_data"
    },
    {
     "name": "stdout",
     "output_type": "stream",
     "text": [
      "2023-04-06 12:24.09 [debug    ] RandomIterator is selected.\n",
      "2023-04-06 12:24.09 [info     ] Directory is created at d3rlpy_logs/DiscreteCQL_20230406122409\n",
      "2023-04-06 12:24.09 [debug    ] Building models...\n",
      "2023-04-06 12:24.09 [debug    ] Models have been built.\n",
      "2023-04-06 12:24.09 [info     ] Parameters are saved to d3rlpy_logs/DiscreteCQL_20230406122409/params.json params={'action_scaler': None, 'alpha': 1.0, 'batch_size': 32, 'encoder_factory': {'type': 'vector', 'params': {'hidden_units': [30, 30], 'activation': 'relu', 'use_batch_norm': False, 'dropout_rate': None, 'use_dense': False}}, 'gamma': 0.99, 'generated_maxlen': 100000, 'learning_rate': 6.25e-05, 'n_critics': 1, 'n_frames': 1, 'n_steps': 1, 'optim_factory': {'optim_cls': 'Adam', 'betas': (0.9, 0.999), 'eps': 1e-08, 'weight_decay': 0, 'amsgrad': False}, 'q_func_factory': {'type': 'mean', 'params': {'share_encoder': False}}, 'real_ratio': 1.0, 'reward_scaler': None, 'scaler': None, 'target_update_interval': 8000, 'use_gpu': None, 'algorithm': 'DiscreteCQL', 'observation_shape': (5,), 'action_size': 10}\n"
     ]
    },
    {
     "data": {
      "application/vnd.jupyter.widget-view+json": {
       "model_id": "f2bb47a2f78842459e5d205c628e7aaa",
       "version_major": 2,
       "version_minor": 0
      },
      "text/plain": [
       "Epoch 1/1:   0%|          | 0/10000 [00:00<?, ?it/s]"
      ]
     },
     "metadata": {},
     "output_type": "display_data"
    },
    {
     "name": "stdout",
     "output_type": "stream",
     "text": [
      "2023-04-06 12:24.26 [info     ] DiscreteCQL_20230406122409: epoch=1 step=10000 epoch=1 metrics={'time_sample_batch': 0.00011391527652740478, 'time_algorithm_update': 0.001486434555053711, 'loss': 1.7926628483891487, 'time_step': 0.0017055917978286742} step=10000\n",
      "2023-04-06 12:24.26 [info     ] Model parameters are saved to d3rlpy_logs/DiscreteCQL_20230406122409/model_10000.pt\n"
     ]
    },
    {
     "data": {
      "application/vnd.jupyter.widget-view+json": {
       "model_id": "3f16bd19c52942ceb2142268d3e8b252",
       "version_major": 2,
       "version_minor": 0
      },
      "text/plain": [
       "[fit FQE model]:   0%|          | 0/2 [00:00<?, ?it/s]"
      ]
     },
     "metadata": {},
     "output_type": "display_data"
    },
    {
     "name": "stdout",
     "output_type": "stream",
     "text": [
      "2023-04-06 12:24.26 [debug    ] RoundIterator is selected.\n",
      "2023-04-06 12:24.26 [info     ] Directory is created at d3rlpy_logs/DiscreteFQE_20230406122426\n",
      "2023-04-06 12:24.26 [debug    ] Fitting scaler...              scaler=min_max\n",
      "2023-04-06 12:24.26 [debug    ] Building models...\n",
      "2023-04-06 12:24.26 [debug    ] Models have been built.\n",
      "2023-04-06 12:24.26 [info     ] Parameters are saved to d3rlpy_logs/DiscreteFQE_20230406122426/params.json params={'action_scaler': None, 'batch_size': 100, 'encoder_factory': {'type': 'vector', 'params': {'hidden_units': [30, 30], 'activation': 'relu', 'use_batch_norm': False, 'dropout_rate': None, 'use_dense': False}}, 'gamma': 0.95, 'generated_maxlen': 100000, 'learning_rate': 0.0001, 'n_critics': 1, 'n_frames': 1, 'n_steps': 1, 'optim_factory': {'optim_cls': 'Adam', 'betas': (0.9, 0.999), 'eps': 1e-08, 'weight_decay': 0, 'amsgrad': False}, 'q_func_factory': {'type': 'mean', 'params': {'share_encoder': False}}, 'real_ratio': 1.0, 'reward_scaler': None, 'scaler': {'type': 'min_max', 'params': {'maximum': array([0.98684053, 0.99595451, 0.99244902, 0.99284159, 0.99729177]), 'minimum': array([-0.98790897, -0.98005768, -0.99424953, -0.99689894, -0.98615869])}}, 'target_update_interval': 100, 'use_gpu': None, 'algorithm': 'DiscreteFQE', 'observation_shape': (5,), 'action_size': 10}\n"
     ]
    },
    {
     "data": {
      "application/vnd.jupyter.widget-view+json": {
       "model_id": "68e0e0e40cb44a77806710cb9d3bb529",
       "version_major": 2,
       "version_minor": 0
      },
      "text/plain": [
       "Epoch 1/1:   0%|          | 0/1000 [00:00<?, ?it/s]"
      ]
     },
     "metadata": {},
     "output_type": "display_data"
    },
    {
     "name": "stdout",
     "output_type": "stream",
     "text": [
      "2023-04-06 12:24.28 [info     ] DiscreteFQE_20230406122426: epoch=1 step=1000 epoch=1 metrics={'time_sample_batch': 0.00012871742248535156, 'time_algorithm_update': 0.0014790775775909424, 'loss': 0.2205328686311841, 'time_step': 0.0016721696853637695} step=1000\n",
      "2023-04-06 12:24.28 [info     ] Model parameters are saved to d3rlpy_logs/DiscreteFQE_20230406122426/model_1000.pt\n",
      "2023-04-06 12:24.28 [debug    ] RoundIterator is selected.\n",
      "2023-04-06 12:24.28 [info     ] Directory is created at d3rlpy_logs/DiscreteFQE_20230406122428\n",
      "2023-04-06 12:24.28 [debug    ] Fitting scaler...              scaler=min_max\n",
      "2023-04-06 12:24.28 [debug    ] Building models...\n",
      "2023-04-06 12:24.28 [debug    ] Models have been built.\n",
      "2023-04-06 12:24.28 [info     ] Parameters are saved to d3rlpy_logs/DiscreteFQE_20230406122428/params.json params={'action_scaler': None, 'batch_size': 100, 'encoder_factory': {'type': 'vector', 'params': {'hidden_units': [30, 30], 'activation': 'relu', 'use_batch_norm': False, 'dropout_rate': None, 'use_dense': False}}, 'gamma': 0.95, 'generated_maxlen': 100000, 'learning_rate': 0.0001, 'n_critics': 1, 'n_frames': 1, 'n_steps': 1, 'optim_factory': {'optim_cls': 'Adam', 'betas': (0.9, 0.999), 'eps': 1e-08, 'weight_decay': 0, 'amsgrad': False}, 'q_func_factory': {'type': 'mean', 'params': {'share_encoder': False}}, 'real_ratio': 1.0, 'reward_scaler': None, 'scaler': {'type': 'min_max', 'params': {'maximum': array([0.98684053, 0.99595451, 0.99244902, 0.99284159, 0.99729177]), 'minimum': array([-0.98790897, -0.98005768, -0.99424953, -0.99689894, -0.98615869])}}, 'target_update_interval': 100, 'use_gpu': None, 'algorithm': 'DiscreteFQE', 'observation_shape': (5,), 'action_size': 10}\n"
     ]
    },
    {
     "data": {
      "application/vnd.jupyter.widget-view+json": {
       "model_id": "938a7bd1e2ff4c2c80a09dc45430ce1a",
       "version_major": 2,
       "version_minor": 0
      },
      "text/plain": [
       "Epoch 1/1:   0%|          | 0/1000 [00:00<?, ?it/s]"
      ]
     },
     "metadata": {},
     "output_type": "display_data"
    },
    {
     "name": "stdout",
     "output_type": "stream",
     "text": [
      "2023-04-06 12:24.30 [info     ] DiscreteFQE_20230406122428: epoch=1 step=1000 epoch=1 metrics={'time_sample_batch': 0.000139723539352417, 'time_algorithm_update': 0.0014520411491394042, 'loss': 0.2554878071397543, 'time_step': 0.0016598505973815917} step=1000\n",
      "2023-04-06 12:24.30 [info     ] Model parameters are saved to d3rlpy_logs/DiscreteFQE_20230406122428/model_1000.pt\n"
     ]
    },
    {
     "data": {
      "application/vnd.jupyter.widget-view+json": {
       "model_id": "a4162dcfef8b4927834ff0d05131ed38",
       "version_major": 2,
       "version_minor": 0
      },
      "text/plain": [
       "[fit MWL model]:   0%|          | 0/2 [00:00<?, ?it/s]"
      ]
     },
     "metadata": {},
     "output_type": "display_data"
    },
    {
     "data": {
      "application/vnd.jupyter.widget-view+json": {
       "model_id": "aa08410ad8944ea8909ec8e41b2224f7",
       "version_major": 2,
       "version_minor": 0
      },
      "text/plain": [
       "[fitting_weight_function]:   0%|          | 0/100 [00:00<?, ?it/s]"
      ]
     },
     "metadata": {},
     "output_type": "display_data"
    },
    {
     "data": {
      "application/vnd.jupyter.widget-view+json": {
       "model_id": "337f6a59d72f4e5fa12e8ca9537e7695",
       "version_major": 2,
       "version_minor": 0
      },
      "text/plain": [
       "[fitting_weight_function]:   0%|          | 0/100 [00:00<?, ?it/s]"
      ]
     },
     "metadata": {},
     "output_type": "display_data"
    },
    {
     "data": {
      "application/vnd.jupyter.widget-view+json": {
       "model_id": "922f2d03213141dc8769716c6b975062",
       "version_major": 2,
       "version_minor": 0
      },
      "text/plain": [
       "[fitting_weight_function]:   0%|          | 0/100 [00:00<?, ?it/s]"
      ]
     },
     "metadata": {},
     "output_type": "display_data"
    },
    {
     "data": {
      "application/vnd.jupyter.widget-view+json": {
       "model_id": "5870014990a14d04bbebedfe253b69a7",
       "version_major": 2,
       "version_minor": 0
      },
      "text/plain": [
       "[fitting_weight_function]:   0%|          | 0/100 [00:00<?, ?it/s]"
      ]
     },
     "metadata": {},
     "output_type": "display_data"
    },
    {
     "data": {
      "application/vnd.jupyter.widget-view+json": {
       "model_id": "725fea95f2dc4ac08ff738495d86143a",
       "version_major": 2,
       "version_minor": 0
      },
      "text/plain": [
       "[collect input data: eval_policy]:   0%|          | 0/2 [00:00<?, ?it/s]"
      ]
     },
     "metadata": {},
     "output_type": "display_data"
    },
    {
     "data": {
      "application/vnd.jupyter.widget-view+json": {
       "model_id": "b4bd8f0266d449ae803c16cc5ef544b5",
       "version_major": 2,
       "version_minor": 0
      },
      "text/plain": [
       "[calculate on-policy policy value]:   0%|          | 0/100 [00:00<?, ?it/s]"
      ]
     },
     "metadata": {},
     "output_type": "display_data"
    },
    {
     "data": {
      "application/vnd.jupyter.widget-view+json": {
       "model_id": "ac5f389a968344098b2e7bb7d421735b",
       "version_major": 2,
       "version_minor": 0
      },
      "text/plain": [
       "[calculate on-policy policy value]:   0%|          | 0/100 [00:00<?, ?it/s]"
      ]
     },
     "metadata": {},
     "output_type": "display_data"
    },
    {
     "name": "stderr",
     "output_type": "stream",
     "text": [
      "/Users/ren/dev/ofrl/tutorial/../ofrl/ope/estimators_base.py:445: RuntimeWarning: invalid value encountered in divide\n",
      "  return numerator / denominator\n"
     ]
    },
    {
     "data": {
      "application/vnd.jupyter.widget-view+json": {
       "model_id": "4480edf2d3804d3daa900435682c0bd7",
       "version_major": 2,
       "version_minor": 0
      },
      "text/plain": [
       "[obtain_trajectories]:   0%|          | 0/10000 [00:00<?, ?it/s]"
      ]
     },
     "metadata": {},
     "output_type": "display_data"
    },
    {
     "data": {
      "application/vnd.jupyter.widget-view+json": {
       "model_id": "f9e40917fab549bba8422cfcb700e15d",
       "version_major": 2,
       "version_minor": 0
      },
      "text/plain": [
       "[obtain_trajectories]:   0%|          | 0/10000 [00:00<?, ?it/s]"
      ]
     },
     "metadata": {},
     "output_type": "display_data"
    },
    {
     "name": "stdout",
     "output_type": "stream",
     "text": [
      "2023-04-06 12:58.30 [debug    ] RandomIterator is selected.\n",
      "2023-04-06 12:58.30 [info     ] Directory is created at d3rlpy_logs/DiscreteCQL_20230406125830\n",
      "2023-04-06 12:58.30 [debug    ] Building models...\n",
      "2023-04-06 12:58.30 [debug    ] Models have been built.\n",
      "2023-04-06 12:58.30 [info     ] Parameters are saved to d3rlpy_logs/DiscreteCQL_20230406125830/params.json params={'action_scaler': None, 'alpha': 1.0, 'batch_size': 32, 'encoder_factory': {'type': 'vector', 'params': {'hidden_units': [30, 30], 'activation': 'relu', 'use_batch_norm': False, 'dropout_rate': None, 'use_dense': False}}, 'gamma': 0.99, 'generated_maxlen': 100000, 'learning_rate': 6.25e-05, 'n_critics': 1, 'n_frames': 1, 'n_steps': 1, 'optim_factory': {'optim_cls': 'Adam', 'betas': (0.9, 0.999), 'eps': 1e-08, 'weight_decay': 0, 'amsgrad': False}, 'q_func_factory': {'type': 'mean', 'params': {'share_encoder': False}}, 'real_ratio': 1.0, 'reward_scaler': None, 'scaler': None, 'target_update_interval': 8000, 'use_gpu': None, 'algorithm': 'DiscreteCQL', 'observation_shape': (5,), 'action_size': 10}\n"
     ]
    },
    {
     "data": {
      "application/vnd.jupyter.widget-view+json": {
       "model_id": "c1026b81c07644bf91432f9b02632ef6",
       "version_major": 2,
       "version_minor": 0
      },
      "text/plain": [
       "Epoch 1/1:   0%|          | 0/10000 [00:00<?, ?it/s]"
      ]
     },
     "metadata": {},
     "output_type": "display_data"
    },
    {
     "name": "stdout",
     "output_type": "stream",
     "text": [
      "2023-04-06 12:58.42 [info     ] DiscreteCQL_20230406125830: epoch=1 step=10000 epoch=1 metrics={'time_sample_batch': 7.545444965362549e-05, 'time_algorithm_update': 0.001011796283721924, 'loss': 1.8101801388978958, 'time_step': 0.0011504390239715577} step=10000\n",
      "2023-04-06 12:58.42 [info     ] Model parameters are saved to d3rlpy_logs/DiscreteCQL_20230406125830/model_10000.pt\n"
     ]
    },
    {
     "data": {
      "application/vnd.jupyter.widget-view+json": {
       "model_id": "3db7a04c4b68400c808c7536b2f16bb9",
       "version_major": 2,
       "version_minor": 0
      },
      "text/plain": [
       "[fit FQE model]:   0%|          | 0/2 [00:00<?, ?it/s]"
      ]
     },
     "metadata": {},
     "output_type": "display_data"
    },
    {
     "name": "stdout",
     "output_type": "stream",
     "text": [
      "2023-04-06 12:58.42 [debug    ] RoundIterator is selected.\n",
      "2023-04-06 12:58.42 [info     ] Directory is created at d3rlpy_logs/DiscreteFQE_20230406125842\n",
      "2023-04-06 12:58.42 [debug    ] Fitting scaler...              scaler=min_max\n",
      "2023-04-06 12:58.42 [debug    ] Building models...\n",
      "2023-04-06 12:58.42 [debug    ] Models have been built.\n",
      "2023-04-06 12:58.42 [info     ] Parameters are saved to d3rlpy_logs/DiscreteFQE_20230406125842/params.json params={'action_scaler': None, 'batch_size': 100, 'encoder_factory': {'type': 'vector', 'params': {'hidden_units': [30, 30], 'activation': 'relu', 'use_batch_norm': False, 'dropout_rate': None, 'use_dense': False}}, 'gamma': 0.95, 'generated_maxlen': 100000, 'learning_rate': 0.0001, 'n_critics': 1, 'n_frames': 1, 'n_steps': 1, 'optim_factory': {'optim_cls': 'Adam', 'betas': (0.9, 0.999), 'eps': 1e-08, 'weight_decay': 0, 'amsgrad': False}, 'q_func_factory': {'type': 'mean', 'params': {'share_encoder': False}}, 'real_ratio': 1.0, 'reward_scaler': None, 'scaler': {'type': 'min_max', 'params': {'maximum': array([0.98888034, 0.98424413, 0.9930543 , 0.99669379, 0.99819641]), 'minimum': array([-0.98765138, -0.99484266, -0.99126722, -0.99778069, -0.98976904])}}, 'target_update_interval': 100, 'use_gpu': None, 'algorithm': 'DiscreteFQE', 'observation_shape': (5,), 'action_size': 10}\n"
     ]
    },
    {
     "data": {
      "application/vnd.jupyter.widget-view+json": {
       "model_id": "7a875f5a135e4bd3a2d2d5304df9a689",
       "version_major": 2,
       "version_minor": 0
      },
      "text/plain": [
       "Epoch 1/1:   0%|          | 0/1000 [00:00<?, ?it/s]"
      ]
     },
     "metadata": {},
     "output_type": "display_data"
    },
    {
     "name": "stdout",
     "output_type": "stream",
     "text": [
      "2023-04-06 12:58.43 [info     ] DiscreteFQE_20230406125842: epoch=1 step=1000 epoch=1 metrics={'time_sample_batch': 8.984041213989257e-05, 'time_algorithm_update': 0.0008619418144226074, 'loss': 0.2058429387062788, 'time_step': 0.0009899203777313233} step=1000\n",
      "2023-04-06 12:58.43 [info     ] Model parameters are saved to d3rlpy_logs/DiscreteFQE_20230406125842/model_1000.pt\n",
      "2023-04-06 12:58.43 [debug    ] RoundIterator is selected.\n",
      "2023-04-06 12:58.43 [info     ] Directory is created at d3rlpy_logs/DiscreteFQE_20230406125843\n",
      "2023-04-06 12:58.43 [debug    ] Fitting scaler...              scaler=min_max\n",
      "2023-04-06 12:58.43 [debug    ] Building models...\n",
      "2023-04-06 12:58.43 [debug    ] Models have been built.\n",
      "2023-04-06 12:58.43 [info     ] Parameters are saved to d3rlpy_logs/DiscreteFQE_20230406125843/params.json params={'action_scaler': None, 'batch_size': 100, 'encoder_factory': {'type': 'vector', 'params': {'hidden_units': [30, 30], 'activation': 'relu', 'use_batch_norm': False, 'dropout_rate': None, 'use_dense': False}}, 'gamma': 0.95, 'generated_maxlen': 100000, 'learning_rate': 0.0001, 'n_critics': 1, 'n_frames': 1, 'n_steps': 1, 'optim_factory': {'optim_cls': 'Adam', 'betas': (0.9, 0.999), 'eps': 1e-08, 'weight_decay': 0, 'amsgrad': False}, 'q_func_factory': {'type': 'mean', 'params': {'share_encoder': False}}, 'real_ratio': 1.0, 'reward_scaler': None, 'scaler': {'type': 'min_max', 'params': {'maximum': array([0.98888034, 0.98424413, 0.9930543 , 0.99669379, 0.99819641]), 'minimum': array([-0.98765138, -0.99484266, -0.99126722, -0.99778069, -0.98976904])}}, 'target_update_interval': 100, 'use_gpu': None, 'algorithm': 'DiscreteFQE', 'observation_shape': (5,), 'action_size': 10}\n"
     ]
    },
    {
     "data": {
      "application/vnd.jupyter.widget-view+json": {
       "model_id": "657ab8afc22d44f282d1abe4431efad3",
       "version_major": 2,
       "version_minor": 0
      },
      "text/plain": [
       "Epoch 1/1:   0%|          | 0/1000 [00:00<?, ?it/s]"
      ]
     },
     "metadata": {},
     "output_type": "display_data"
    },
    {
     "name": "stdout",
     "output_type": "stream",
     "text": [
      "2023-04-06 12:58.44 [info     ] DiscreteFQE_20230406125843: epoch=1 step=1000 epoch=1 metrics={'time_sample_batch': 8.97519588470459e-05, 'time_algorithm_update': 0.0008770503997802734, 'loss': 0.20271955270320177, 'time_step': 0.001005770206451416} step=1000\n",
      "2023-04-06 12:58.44 [info     ] Model parameters are saved to d3rlpy_logs/DiscreteFQE_20230406125843/model_1000.pt\n"
     ]
    },
    {
     "data": {
      "application/vnd.jupyter.widget-view+json": {
       "model_id": "3d04c9584a944d7fb2c981ab5b4a4075",
       "version_major": 2,
       "version_minor": 0
      },
      "text/plain": [
       "[fit MWL model]:   0%|          | 0/2 [00:00<?, ?it/s]"
      ]
     },
     "metadata": {},
     "output_type": "display_data"
    },
    {
     "data": {
      "application/vnd.jupyter.widget-view+json": {
       "model_id": "c37379f7eab34898a8a057255e9f89da",
       "version_major": 2,
       "version_minor": 0
      },
      "text/plain": [
       "[fitting_weight_function]:   0%|          | 0/100 [00:00<?, ?it/s]"
      ]
     },
     "metadata": {},
     "output_type": "display_data"
    },
    {
     "data": {
      "application/vnd.jupyter.widget-view+json": {
       "model_id": "8d645cb04ee14ac7b68e609109e3b8ce",
       "version_major": 2,
       "version_minor": 0
      },
      "text/plain": [
       "[fitting_weight_function]:   0%|          | 0/100 [00:00<?, ?it/s]"
      ]
     },
     "metadata": {},
     "output_type": "display_data"
    },
    {
     "data": {
      "application/vnd.jupyter.widget-view+json": {
       "model_id": "b89afdbd79c843b2ac78b36b0a886945",
       "version_major": 2,
       "version_minor": 0
      },
      "text/plain": [
       "[fitting_weight_function]:   0%|          | 0/100 [00:00<?, ?it/s]"
      ]
     },
     "metadata": {},
     "output_type": "display_data"
    },
    {
     "data": {
      "application/vnd.jupyter.widget-view+json": {
       "model_id": "da9299544d3e40488b0dcdbe6d67f522",
       "version_major": 2,
       "version_minor": 0
      },
      "text/plain": [
       "[fitting_weight_function]:   0%|          | 0/100 [00:00<?, ?it/s]"
      ]
     },
     "metadata": {},
     "output_type": "display_data"
    },
    {
     "data": {
      "application/vnd.jupyter.widget-view+json": {
       "model_id": "537f3ded22ef4c5785a6e9d12695d378",
       "version_major": 2,
       "version_minor": 0
      },
      "text/plain": [
       "[collect input data: eval_policy]:   0%|          | 0/2 [00:00<?, ?it/s]"
      ]
     },
     "metadata": {},
     "output_type": "display_data"
    },
    {
     "data": {
      "application/vnd.jupyter.widget-view+json": {
       "model_id": "d680ea89428743b5911f086226140e55",
       "version_major": 2,
       "version_minor": 0
      },
      "text/plain": [
       "[calculate on-policy policy value]:   0%|          | 0/100 [00:00<?, ?it/s]"
      ]
     },
     "metadata": {},
     "output_type": "display_data"
    },
    {
     "data": {
      "application/vnd.jupyter.widget-view+json": {
       "model_id": "3e3841966da248298108cb467bee43af",
       "version_major": 2,
       "version_minor": 0
      },
      "text/plain": [
       "[calculate on-policy policy value]:   0%|          | 0/100 [00:00<?, ?it/s]"
      ]
     },
     "metadata": {},
     "output_type": "display_data"
    },
    {
     "name": "stderr",
     "output_type": "stream",
     "text": [
      "/Users/ren/dev/ofrl/tutorial/../ofrl/ope/estimators_base.py:445: RuntimeWarning: invalid value encountered in divide\n",
      "  return numerator / denominator\n"
     ]
    },
    {
     "data": {
      "application/vnd.jupyter.widget-view+json": {
       "model_id": "de9fbde38b1a4dbc9d26aaa0b524b234",
       "version_major": 2,
       "version_minor": 0
      },
      "text/plain": [
       "[obtain_trajectories]:   0%|          | 0/10000 [00:00<?, ?it/s]"
      ]
     },
     "metadata": {},
     "output_type": "display_data"
    },
    {
     "data": {
      "application/vnd.jupyter.widget-view+json": {
       "model_id": "42a3e26f88424d3ba396ae74939a789c",
       "version_major": 2,
       "version_minor": 0
      },
      "text/plain": [
       "[obtain_trajectories]:   0%|          | 0/10000 [00:00<?, ?it/s]"
      ]
     },
     "metadata": {},
     "output_type": "display_data"
    },
    {
     "name": "stdout",
     "output_type": "stream",
     "text": [
      "2023-04-06 13:00.32 [debug    ] RandomIterator is selected.\n",
      "2023-04-06 13:00.32 [info     ] Directory is created at d3rlpy_logs/DiscreteCQL_20230406130032\n",
      "2023-04-06 13:00.32 [debug    ] Building models...\n",
      "2023-04-06 13:00.32 [debug    ] Models have been built.\n",
      "2023-04-06 13:00.32 [info     ] Parameters are saved to d3rlpy_logs/DiscreteCQL_20230406130032/params.json params={'action_scaler': None, 'alpha': 1.0, 'batch_size': 32, 'encoder_factory': {'type': 'vector', 'params': {'hidden_units': [30, 30], 'activation': 'relu', 'use_batch_norm': False, 'dropout_rate': None, 'use_dense': False}}, 'gamma': 0.99, 'generated_maxlen': 100000, 'learning_rate': 6.25e-05, 'n_critics': 1, 'n_frames': 1, 'n_steps': 1, 'optim_factory': {'optim_cls': 'Adam', 'betas': (0.9, 0.999), 'eps': 1e-08, 'weight_decay': 0, 'amsgrad': False}, 'q_func_factory': {'type': 'mean', 'params': {'share_encoder': False}}, 'real_ratio': 1.0, 'reward_scaler': None, 'scaler': None, 'target_update_interval': 8000, 'use_gpu': None, 'algorithm': 'DiscreteCQL', 'observation_shape': (5,), 'action_size': 10}\n"
     ]
    },
    {
     "data": {
      "application/vnd.jupyter.widget-view+json": {
       "model_id": "bc266b1f64cc4f2888fd45a19d5dc91f",
       "version_major": 2,
       "version_minor": 0
      },
      "text/plain": [
       "Epoch 1/1:   0%|          | 0/10000 [00:00<?, ?it/s]"
      ]
     },
     "metadata": {},
     "output_type": "display_data"
    },
    {
     "name": "stdout",
     "output_type": "stream",
     "text": [
      "2023-04-06 13:00.47 [info     ] DiscreteCQL_20230406130032: epoch=1 step=10000 epoch=1 metrics={'time_sample_batch': 0.00010287213325500488, 'time_algorithm_update': 0.0012833104133605957, 'loss': 1.7888326598644257, 'time_step': 0.0014731208801269532} step=10000\n",
      "2023-04-06 13:00.47 [info     ] Model parameters are saved to d3rlpy_logs/DiscreteCQL_20230406130032/model_10000.pt\n"
     ]
    },
    {
     "data": {
      "application/vnd.jupyter.widget-view+json": {
       "model_id": "f5120b319115444aa83ca7f1a8edc24a",
       "version_major": 2,
       "version_minor": 0
      },
      "text/plain": [
       "[fit FQE model]:   0%|          | 0/2 [00:00<?, ?it/s]"
      ]
     },
     "metadata": {},
     "output_type": "display_data"
    },
    {
     "name": "stdout",
     "output_type": "stream",
     "text": [
      "2023-04-06 13:00.47 [debug    ] RoundIterator is selected.\n",
      "2023-04-06 13:00.47 [info     ] Directory is created at d3rlpy_logs/DiscreteFQE_20230406130047\n",
      "2023-04-06 13:00.47 [debug    ] Fitting scaler...              scaler=min_max\n",
      "2023-04-06 13:00.47 [debug    ] Building models...\n",
      "2023-04-06 13:00.47 [debug    ] Models have been built.\n",
      "2023-04-06 13:00.47 [info     ] Parameters are saved to d3rlpy_logs/DiscreteFQE_20230406130047/params.json params={'action_scaler': None, 'batch_size': 100, 'encoder_factory': {'type': 'vector', 'params': {'hidden_units': [30, 30], 'activation': 'relu', 'use_batch_norm': False, 'dropout_rate': None, 'use_dense': False}}, 'gamma': 0.95, 'generated_maxlen': 100000, 'learning_rate': 0.0001, 'n_critics': 1, 'n_frames': 1, 'n_steps': 1, 'optim_factory': {'optim_cls': 'Adam', 'betas': (0.9, 0.999), 'eps': 1e-08, 'weight_decay': 0, 'amsgrad': False}, 'q_func_factory': {'type': 'mean', 'params': {'share_encoder': False}}, 'real_ratio': 1.0, 'reward_scaler': None, 'scaler': {'type': 'min_max', 'params': {'maximum': array([0.99702758, 0.98432847, 0.99916755, 0.99535051, 0.9972548 ]), 'minimum': array([-0.97581596, -0.99062838, -0.99113098, -0.99789243, -0.99087946])}}, 'target_update_interval': 100, 'use_gpu': None, 'algorithm': 'DiscreteFQE', 'observation_shape': (5,), 'action_size': 10}\n"
     ]
    },
    {
     "data": {
      "application/vnd.jupyter.widget-view+json": {
       "model_id": "cde045eafeaa4214aa414b9fc5835750",
       "version_major": 2,
       "version_minor": 0
      },
      "text/plain": [
       "Epoch 1/1:   0%|          | 0/1000 [00:00<?, ?it/s]"
      ]
     },
     "metadata": {},
     "output_type": "display_data"
    },
    {
     "name": "stdout",
     "output_type": "stream",
     "text": [
      "2023-04-06 13:00.49 [info     ] DiscreteFQE_20230406130047: epoch=1 step=1000 epoch=1 metrics={'time_sample_batch': 0.00011700057983398437, 'time_algorithm_update': 0.0012309575080871583, 'loss': 0.2206470279544592, 'time_step': 0.0014029529094696045} step=1000\n",
      "2023-04-06 13:00.49 [info     ] Model parameters are saved to d3rlpy_logs/DiscreteFQE_20230406130047/model_1000.pt\n",
      "2023-04-06 13:00.49 [debug    ] RoundIterator is selected.\n",
      "2023-04-06 13:00.49 [info     ] Directory is created at d3rlpy_logs/DiscreteFQE_20230406130049\n",
      "2023-04-06 13:00.49 [debug    ] Fitting scaler...              scaler=min_max\n",
      "2023-04-06 13:00.49 [debug    ] Building models...\n",
      "2023-04-06 13:00.49 [debug    ] Models have been built.\n",
      "2023-04-06 13:00.49 [info     ] Parameters are saved to d3rlpy_logs/DiscreteFQE_20230406130049/params.json params={'action_scaler': None, 'batch_size': 100, 'encoder_factory': {'type': 'vector', 'params': {'hidden_units': [30, 30], 'activation': 'relu', 'use_batch_norm': False, 'dropout_rate': None, 'use_dense': False}}, 'gamma': 0.95, 'generated_maxlen': 100000, 'learning_rate': 0.0001, 'n_critics': 1, 'n_frames': 1, 'n_steps': 1, 'optim_factory': {'optim_cls': 'Adam', 'betas': (0.9, 0.999), 'eps': 1e-08, 'weight_decay': 0, 'amsgrad': False}, 'q_func_factory': {'type': 'mean', 'params': {'share_encoder': False}}, 'real_ratio': 1.0, 'reward_scaler': None, 'scaler': {'type': 'min_max', 'params': {'maximum': array([0.99702758, 0.98432847, 0.99916755, 0.99535051, 0.9972548 ]), 'minimum': array([-0.97581596, -0.99062838, -0.99113098, -0.99789243, -0.99087946])}}, 'target_update_interval': 100, 'use_gpu': None, 'algorithm': 'DiscreteFQE', 'observation_shape': (5,), 'action_size': 10}\n"
     ]
    },
    {
     "data": {
      "application/vnd.jupyter.widget-view+json": {
       "model_id": "b33f923c027b4b1c968c2148d29d9964",
       "version_major": 2,
       "version_minor": 0
      },
      "text/plain": [
       "Epoch 1/1:   0%|          | 0/1000 [00:00<?, ?it/s]"
      ]
     },
     "metadata": {},
     "output_type": "display_data"
    },
    {
     "name": "stdout",
     "output_type": "stream",
     "text": [
      "2023-04-06 13:00.50 [info     ] DiscreteFQE_20230406130049: epoch=1 step=1000 epoch=1 metrics={'time_sample_batch': 0.0001111454963684082, 'time_algorithm_update': 0.0011202702522277832, 'loss': 0.203216513261199, 'time_step': 0.0012818329334259033} step=1000\n",
      "2023-04-06 13:00.50 [info     ] Model parameters are saved to d3rlpy_logs/DiscreteFQE_20230406130049/model_1000.pt\n"
     ]
    },
    {
     "data": {
      "application/vnd.jupyter.widget-view+json": {
       "model_id": "b952809057ec4116af04601d242bbc95",
       "version_major": 2,
       "version_minor": 0
      },
      "text/plain": [
       "[fit MWL model]:   0%|          | 0/2 [00:00<?, ?it/s]"
      ]
     },
     "metadata": {},
     "output_type": "display_data"
    },
    {
     "data": {
      "application/vnd.jupyter.widget-view+json": {
       "model_id": "65c2ebe60ea8476e8db2a6ded6daa532",
       "version_major": 2,
       "version_minor": 0
      },
      "text/plain": [
       "[fitting_weight_function]:   0%|          | 0/100 [00:00<?, ?it/s]"
      ]
     },
     "metadata": {},
     "output_type": "display_data"
    },
    {
     "data": {
      "application/vnd.jupyter.widget-view+json": {
       "model_id": "6215b0f8e0bc45cbbab326f167d6bf79",
       "version_major": 2,
       "version_minor": 0
      },
      "text/plain": [
       "[fitting_weight_function]:   0%|          | 0/100 [00:00<?, ?it/s]"
      ]
     },
     "metadata": {},
     "output_type": "display_data"
    },
    {
     "data": {
      "application/vnd.jupyter.widget-view+json": {
       "model_id": "2856baf3726541a3b9651d5473fa4b21",
       "version_major": 2,
       "version_minor": 0
      },
      "text/plain": [
       "[fitting_weight_function]:   0%|          | 0/100 [00:00<?, ?it/s]"
      ]
     },
     "metadata": {},
     "output_type": "display_data"
    },
    {
     "data": {
      "application/vnd.jupyter.widget-view+json": {
       "model_id": "27feba10b27742c996fa10eb639d1a7e",
       "version_major": 2,
       "version_minor": 0
      },
      "text/plain": [
       "[fitting_weight_function]:   0%|          | 0/100 [00:00<?, ?it/s]"
      ]
     },
     "metadata": {},
     "output_type": "display_data"
    },
    {
     "data": {
      "application/vnd.jupyter.widget-view+json": {
       "model_id": "ffa8402a77704aa8b4867e51442eedda",
       "version_major": 2,
       "version_minor": 0
      },
      "text/plain": [
       "[collect input data: eval_policy]:   0%|          | 0/2 [00:00<?, ?it/s]"
      ]
     },
     "metadata": {},
     "output_type": "display_data"
    },
    {
     "data": {
      "application/vnd.jupyter.widget-view+json": {
       "model_id": "59fc7a4c409d43d49d3529b2cb7ecd48",
       "version_major": 2,
       "version_minor": 0
      },
      "text/plain": [
       "[calculate on-policy policy value]:   0%|          | 0/100 [00:00<?, ?it/s]"
      ]
     },
     "metadata": {},
     "output_type": "display_data"
    },
    {
     "data": {
      "application/vnd.jupyter.widget-view+json": {
       "model_id": "ee056fb9bf624b61b694c13107bfc427",
       "version_major": 2,
       "version_minor": 0
      },
      "text/plain": [
       "[calculate on-policy policy value]:   0%|          | 0/100 [00:00<?, ?it/s]"
      ]
     },
     "metadata": {},
     "output_type": "display_data"
    },
    {
     "name": "stderr",
     "output_type": "stream",
     "text": [
      "/Users/ren/dev/ofrl/tutorial/../ofrl/ope/estimators_base.py:445: RuntimeWarning: invalid value encountered in divide\n",
      "  return numerator / denominator\n"
     ]
    },
    {
     "data": {
      "application/vnd.jupyter.widget-view+json": {
       "model_id": "2f1cb50da4434eab89234b6170e9bf19",
       "version_major": 2,
       "version_minor": 0
      },
      "text/plain": [
       "[obtain_trajectories]:   0%|          | 0/10000 [00:00<?, ?it/s]"
      ]
     },
     "metadata": {},
     "output_type": "display_data"
    },
    {
     "data": {
      "application/vnd.jupyter.widget-view+json": {
       "model_id": "237bf371bdec475fb5a8498b2545d549",
       "version_major": 2,
       "version_minor": 0
      },
      "text/plain": [
       "[obtain_trajectories]:   0%|          | 0/10000 [00:00<?, ?it/s]"
      ]
     },
     "metadata": {},
     "output_type": "display_data"
    },
    {
     "name": "stdout",
     "output_type": "stream",
     "text": [
      "2023-04-06 13:02.42 [debug    ] RandomIterator is selected.\n",
      "2023-04-06 13:02.42 [info     ] Directory is created at d3rlpy_logs/DiscreteCQL_20230406130242\n",
      "2023-04-06 13:02.42 [debug    ] Building models...\n",
      "2023-04-06 13:02.42 [debug    ] Models have been built.\n",
      "2023-04-06 13:02.42 [info     ] Parameters are saved to d3rlpy_logs/DiscreteCQL_20230406130242/params.json params={'action_scaler': None, 'alpha': 1.0, 'batch_size': 32, 'encoder_factory': {'type': 'vector', 'params': {'hidden_units': [30, 30], 'activation': 'relu', 'use_batch_norm': False, 'dropout_rate': None, 'use_dense': False}}, 'gamma': 0.99, 'generated_maxlen': 100000, 'learning_rate': 6.25e-05, 'n_critics': 1, 'n_frames': 1, 'n_steps': 1, 'optim_factory': {'optim_cls': 'Adam', 'betas': (0.9, 0.999), 'eps': 1e-08, 'weight_decay': 0, 'amsgrad': False}, 'q_func_factory': {'type': 'mean', 'params': {'share_encoder': False}}, 'real_ratio': 1.0, 'reward_scaler': None, 'scaler': None, 'target_update_interval': 8000, 'use_gpu': None, 'algorithm': 'DiscreteCQL', 'observation_shape': (5,), 'action_size': 10}\n"
     ]
    },
    {
     "data": {
      "application/vnd.jupyter.widget-view+json": {
       "model_id": "a31751d03f7740cdb4e6c4afe0b88a24",
       "version_major": 2,
       "version_minor": 0
      },
      "text/plain": [
       "Epoch 1/1:   0%|          | 0/10000 [00:00<?, ?it/s]"
      ]
     },
     "metadata": {},
     "output_type": "display_data"
    },
    {
     "name": "stdout",
     "output_type": "stream",
     "text": [
      "2023-04-06 13:02.57 [info     ] DiscreteCQL_20230406130242: epoch=1 step=10000 epoch=1 metrics={'time_sample_batch': 0.00010400154590606689, 'time_algorithm_update': 0.0012684848308563233, 'loss': 1.7956870667159557, 'time_step': 0.001457714581489563} step=10000\n",
      "2023-04-06 13:02.57 [info     ] Model parameters are saved to d3rlpy_logs/DiscreteCQL_20230406130242/model_10000.pt\n"
     ]
    },
    {
     "data": {
      "application/vnd.jupyter.widget-view+json": {
       "model_id": "e7e7c03804de46f6a4e0939811a4ffa7",
       "version_major": 2,
       "version_minor": 0
      },
      "text/plain": [
       "[fit FQE model]:   0%|          | 0/2 [00:00<?, ?it/s]"
      ]
     },
     "metadata": {},
     "output_type": "display_data"
    },
    {
     "name": "stdout",
     "output_type": "stream",
     "text": [
      "2023-04-06 13:02.57 [debug    ] RoundIterator is selected.\n",
      "2023-04-06 13:02.57 [info     ] Directory is created at d3rlpy_logs/DiscreteFQE_20230406130257\n",
      "2023-04-06 13:02.57 [debug    ] Fitting scaler...              scaler=min_max\n",
      "2023-04-06 13:02.57 [debug    ] Building models...\n",
      "2023-04-06 13:02.57 [debug    ] Models have been built.\n",
      "2023-04-06 13:02.57 [info     ] Parameters are saved to d3rlpy_logs/DiscreteFQE_20230406130257/params.json params={'action_scaler': None, 'batch_size': 100, 'encoder_factory': {'type': 'vector', 'params': {'hidden_units': [30, 30], 'activation': 'relu', 'use_batch_norm': False, 'dropout_rate': None, 'use_dense': False}}, 'gamma': 0.95, 'generated_maxlen': 100000, 'learning_rate': 0.0001, 'n_critics': 1, 'n_frames': 1, 'n_steps': 1, 'optim_factory': {'optim_cls': 'Adam', 'betas': (0.9, 0.999), 'eps': 1e-08, 'weight_decay': 0, 'amsgrad': False}, 'q_func_factory': {'type': 'mean', 'params': {'share_encoder': False}}, 'real_ratio': 1.0, 'reward_scaler': None, 'scaler': {'type': 'min_max', 'params': {'maximum': array([0.98929948, 0.98553786, 0.99637955, 0.99409447, 0.9966988 ]), 'minimum': array([-0.99855965, -0.99596153, -0.99175496, -0.99805828, -0.98448468])}}, 'target_update_interval': 100, 'use_gpu': None, 'algorithm': 'DiscreteFQE', 'observation_shape': (5,), 'action_size': 10}\n"
     ]
    },
    {
     "data": {
      "application/vnd.jupyter.widget-view+json": {
       "model_id": "15d25679e464471cafa98cff8de38f89",
       "version_major": 2,
       "version_minor": 0
      },
      "text/plain": [
       "Epoch 1/1:   0%|          | 0/1000 [00:00<?, ?it/s]"
      ]
     },
     "metadata": {},
     "output_type": "display_data"
    },
    {
     "name": "stdout",
     "output_type": "stream",
     "text": [
      "2023-04-06 13:02.58 [info     ] DiscreteFQE_20230406130257: epoch=1 step=1000 epoch=1 metrics={'time_sample_batch': 0.00011318945884704589, 'time_algorithm_update': 0.0011898369789123534, 'loss': 0.19999540699273347, 'time_step': 0.0013511252403259277} step=1000\n",
      "2023-04-06 13:02.58 [info     ] Model parameters are saved to d3rlpy_logs/DiscreteFQE_20230406130257/model_1000.pt\n",
      "2023-04-06 13:02.58 [debug    ] RoundIterator is selected.\n",
      "2023-04-06 13:02.58 [info     ] Directory is created at d3rlpy_logs/DiscreteFQE_20230406130258\n",
      "2023-04-06 13:02.58 [debug    ] Fitting scaler...              scaler=min_max\n",
      "2023-04-06 13:02.58 [debug    ] Building models...\n",
      "2023-04-06 13:02.58 [debug    ] Models have been built.\n",
      "2023-04-06 13:02.58 [info     ] Parameters are saved to d3rlpy_logs/DiscreteFQE_20230406130258/params.json params={'action_scaler': None, 'batch_size': 100, 'encoder_factory': {'type': 'vector', 'params': {'hidden_units': [30, 30], 'activation': 'relu', 'use_batch_norm': False, 'dropout_rate': None, 'use_dense': False}}, 'gamma': 0.95, 'generated_maxlen': 100000, 'learning_rate': 0.0001, 'n_critics': 1, 'n_frames': 1, 'n_steps': 1, 'optim_factory': {'optim_cls': 'Adam', 'betas': (0.9, 0.999), 'eps': 1e-08, 'weight_decay': 0, 'amsgrad': False}, 'q_func_factory': {'type': 'mean', 'params': {'share_encoder': False}}, 'real_ratio': 1.0, 'reward_scaler': None, 'scaler': {'type': 'min_max', 'params': {'maximum': array([0.98929948, 0.98553786, 0.99637955, 0.99409447, 0.9966988 ]), 'minimum': array([-0.99855965, -0.99596153, -0.99175496, -0.99805828, -0.98448468])}}, 'target_update_interval': 100, 'use_gpu': None, 'algorithm': 'DiscreteFQE', 'observation_shape': (5,), 'action_size': 10}\n"
     ]
    },
    {
     "data": {
      "application/vnd.jupyter.widget-view+json": {
       "model_id": "e05d6b7f197e403db77cef7fb4245876",
       "version_major": 2,
       "version_minor": 0
      },
      "text/plain": [
       "Epoch 1/1:   0%|          | 0/1000 [00:00<?, ?it/s]"
      ]
     },
     "metadata": {},
     "output_type": "display_data"
    },
    {
     "name": "stdout",
     "output_type": "stream",
     "text": [
      "2023-04-06 13:03.00 [info     ] DiscreteFQE_20230406130258: epoch=1 step=1000 epoch=1 metrics={'time_sample_batch': 0.00013343524932861328, 'time_algorithm_update': 0.0012822585105895996, 'loss': 0.2403086522296071, 'time_step': 0.0014737136363983155} step=1000\n",
      "2023-04-06 13:03.00 [info     ] Model parameters are saved to d3rlpy_logs/DiscreteFQE_20230406130258/model_1000.pt\n"
     ]
    },
    {
     "data": {
      "application/vnd.jupyter.widget-view+json": {
       "model_id": "a1a3c456087749f88d47422146ff8bcc",
       "version_major": 2,
       "version_minor": 0
      },
      "text/plain": [
       "[fit MWL model]:   0%|          | 0/2 [00:00<?, ?it/s]"
      ]
     },
     "metadata": {},
     "output_type": "display_data"
    },
    {
     "data": {
      "application/vnd.jupyter.widget-view+json": {
       "model_id": "c12d6c1180d442ffb6430b01d08538f5",
       "version_major": 2,
       "version_minor": 0
      },
      "text/plain": [
       "[fitting_weight_function]:   0%|          | 0/100 [00:00<?, ?it/s]"
      ]
     },
     "metadata": {},
     "output_type": "display_data"
    },
    {
     "data": {
      "application/vnd.jupyter.widget-view+json": {
       "model_id": "93f6012f8c744a8cbb3e4d60a0ad89a4",
       "version_major": 2,
       "version_minor": 0
      },
      "text/plain": [
       "[fitting_weight_function]:   0%|          | 0/100 [00:00<?, ?it/s]"
      ]
     },
     "metadata": {},
     "output_type": "display_data"
    },
    {
     "data": {
      "application/vnd.jupyter.widget-view+json": {
       "model_id": "d5541791abd74f0ab04eb847fcc3e896",
       "version_major": 2,
       "version_minor": 0
      },
      "text/plain": [
       "[fitting_weight_function]:   0%|          | 0/100 [00:00<?, ?it/s]"
      ]
     },
     "metadata": {},
     "output_type": "display_data"
    },
    {
     "data": {
      "application/vnd.jupyter.widget-view+json": {
       "model_id": "e5ab73d9856f439dbe64bd1570dfbf34",
       "version_major": 2,
       "version_minor": 0
      },
      "text/plain": [
       "[fitting_weight_function]:   0%|          | 0/100 [00:00<?, ?it/s]"
      ]
     },
     "metadata": {},
     "output_type": "display_data"
    },
    {
     "data": {
      "application/vnd.jupyter.widget-view+json": {
       "model_id": "cb973e34c24346c295ee67c1025a4a36",
       "version_major": 2,
       "version_minor": 0
      },
      "text/plain": [
       "[collect input data: eval_policy]:   0%|          | 0/2 [00:00<?, ?it/s]"
      ]
     },
     "metadata": {},
     "output_type": "display_data"
    },
    {
     "data": {
      "application/vnd.jupyter.widget-view+json": {
       "model_id": "b27492658bda46a18b542de92e0f4681",
       "version_major": 2,
       "version_minor": 0
      },
      "text/plain": [
       "[calculate on-policy policy value]:   0%|          | 0/100 [00:00<?, ?it/s]"
      ]
     },
     "metadata": {},
     "output_type": "display_data"
    },
    {
     "data": {
      "application/vnd.jupyter.widget-view+json": {
       "model_id": "567741f0fdfe4f24b88a70ed045158c3",
       "version_major": 2,
       "version_minor": 0
      },
      "text/plain": [
       "[calculate on-policy policy value]:   0%|          | 0/100 [00:00<?, ?it/s]"
      ]
     },
     "metadata": {},
     "output_type": "display_data"
    },
    {
     "name": "stderr",
     "output_type": "stream",
     "text": [
      "/Users/ren/dev/ofrl/tutorial/../ofrl/ope/estimators_base.py:445: RuntimeWarning: invalid value encountered in divide\n",
      "  return numerator / denominator\n"
     ]
    },
    {
     "data": {
      "application/vnd.jupyter.widget-view+json": {
       "model_id": "d96273c8fc2a4c64bf463b19208f9298",
       "version_major": 2,
       "version_minor": 0
      },
      "text/plain": [
       "[obtain_trajectories]:   0%|          | 0/10000 [00:00<?, ?it/s]"
      ]
     },
     "metadata": {},
     "output_type": "display_data"
    },
    {
     "data": {
      "application/vnd.jupyter.widget-view+json": {
       "model_id": "8d8dd7d4d52d41eeb1f8abbe122033da",
       "version_major": 2,
       "version_minor": 0
      },
      "text/plain": [
       "[obtain_trajectories]:   0%|          | 0/10000 [00:00<?, ?it/s]"
      ]
     },
     "metadata": {},
     "output_type": "display_data"
    },
    {
     "name": "stdout",
     "output_type": "stream",
     "text": [
      "2023-04-06 13:04.54 [debug    ] RandomIterator is selected.\n",
      "2023-04-06 13:04.54 [info     ] Directory is created at d3rlpy_logs/DiscreteCQL_20230406130454\n",
      "2023-04-06 13:04.54 [debug    ] Building models...\n",
      "2023-04-06 13:04.54 [debug    ] Models have been built.\n",
      "2023-04-06 13:04.54 [info     ] Parameters are saved to d3rlpy_logs/DiscreteCQL_20230406130454/params.json params={'action_scaler': None, 'alpha': 1.0, 'batch_size': 32, 'encoder_factory': {'type': 'vector', 'params': {'hidden_units': [30, 30], 'activation': 'relu', 'use_batch_norm': False, 'dropout_rate': None, 'use_dense': False}}, 'gamma': 0.99, 'generated_maxlen': 100000, 'learning_rate': 6.25e-05, 'n_critics': 1, 'n_frames': 1, 'n_steps': 1, 'optim_factory': {'optim_cls': 'Adam', 'betas': (0.9, 0.999), 'eps': 1e-08, 'weight_decay': 0, 'amsgrad': False}, 'q_func_factory': {'type': 'mean', 'params': {'share_encoder': False}}, 'real_ratio': 1.0, 'reward_scaler': None, 'scaler': None, 'target_update_interval': 8000, 'use_gpu': None, 'algorithm': 'DiscreteCQL', 'observation_shape': (5,), 'action_size': 10}\n"
     ]
    },
    {
     "data": {
      "application/vnd.jupyter.widget-view+json": {
       "model_id": "b0ce4f4eae314c7e8b3a43c9931f9977",
       "version_major": 2,
       "version_minor": 0
      },
      "text/plain": [
       "Epoch 1/1:   0%|          | 0/10000 [00:00<?, ?it/s]"
      ]
     },
     "metadata": {},
     "output_type": "display_data"
    },
    {
     "name": "stdout",
     "output_type": "stream",
     "text": [
      "2023-04-06 13:05.10 [info     ] DiscreteCQL_20230406130454: epoch=1 step=10000 epoch=1 metrics={'time_sample_batch': 0.00011006934642791749, 'time_algorithm_update': 0.0013526087045669555, 'loss': 1.814650018775463, 'time_step': 0.001556123447418213} step=10000\n",
      "2023-04-06 13:05.10 [info     ] Model parameters are saved to d3rlpy_logs/DiscreteCQL_20230406130454/model_10000.pt\n"
     ]
    },
    {
     "data": {
      "application/vnd.jupyter.widget-view+json": {
       "model_id": "a3e58a5f4a6246a59b3cb05c1da8ec33",
       "version_major": 2,
       "version_minor": 0
      },
      "text/plain": [
       "[fit FQE model]:   0%|          | 0/2 [00:00<?, ?it/s]"
      ]
     },
     "metadata": {},
     "output_type": "display_data"
    },
    {
     "name": "stdout",
     "output_type": "stream",
     "text": [
      "2023-04-06 13:05.10 [debug    ] RoundIterator is selected.\n",
      "2023-04-06 13:05.10 [info     ] Directory is created at d3rlpy_logs/DiscreteFQE_20230406130510\n",
      "2023-04-06 13:05.10 [debug    ] Fitting scaler...              scaler=min_max\n",
      "2023-04-06 13:05.10 [debug    ] Building models...\n",
      "2023-04-06 13:05.10 [debug    ] Models have been built.\n",
      "2023-04-06 13:05.10 [info     ] Parameters are saved to d3rlpy_logs/DiscreteFQE_20230406130510/params.json params={'action_scaler': None, 'batch_size': 100, 'encoder_factory': {'type': 'vector', 'params': {'hidden_units': [30, 30], 'activation': 'relu', 'use_batch_norm': False, 'dropout_rate': None, 'use_dense': False}}, 'gamma': 0.95, 'generated_maxlen': 100000, 'learning_rate': 0.0001, 'n_critics': 1, 'n_frames': 1, 'n_steps': 1, 'optim_factory': {'optim_cls': 'Adam', 'betas': (0.9, 0.999), 'eps': 1e-08, 'weight_decay': 0, 'amsgrad': False}, 'q_func_factory': {'type': 'mean', 'params': {'share_encoder': False}}, 'real_ratio': 1.0, 'reward_scaler': None, 'scaler': {'type': 'min_max', 'params': {'maximum': array([0.9889981 , 0.99476601, 0.99690476, 0.99494552, 0.9964104 ]), 'minimum': array([-0.98804508, -0.9820031 , -0.99184144, -0.99656817, -0.97737043])}}, 'target_update_interval': 100, 'use_gpu': None, 'algorithm': 'DiscreteFQE', 'observation_shape': (5,), 'action_size': 10}\n"
     ]
    },
    {
     "data": {
      "application/vnd.jupyter.widget-view+json": {
       "model_id": "771c3b09c079407bb962afc20bd40f39",
       "version_major": 2,
       "version_minor": 0
      },
      "text/plain": [
       "Epoch 1/1:   0%|          | 0/1000 [00:00<?, ?it/s]"
      ]
     },
     "metadata": {},
     "output_type": "display_data"
    },
    {
     "name": "stdout",
     "output_type": "stream",
     "text": [
      "2023-04-06 13:05.12 [info     ] DiscreteFQE_20230406130510: epoch=1 step=1000 epoch=1 metrics={'time_sample_batch': 0.00012618517875671387, 'time_algorithm_update': 0.0013173205852508546, 'loss': 0.23932779743522406, 'time_step': 0.0015039808750152588} step=1000\n",
      "2023-04-06 13:05.12 [info     ] Model parameters are saved to d3rlpy_logs/DiscreteFQE_20230406130510/model_1000.pt\n",
      "2023-04-06 13:05.12 [debug    ] RoundIterator is selected.\n",
      "2023-04-06 13:05.12 [info     ] Directory is created at d3rlpy_logs/DiscreteFQE_20230406130512\n",
      "2023-04-06 13:05.12 [debug    ] Fitting scaler...              scaler=min_max\n",
      "2023-04-06 13:05.12 [debug    ] Building models...\n",
      "2023-04-06 13:05.12 [debug    ] Models have been built.\n",
      "2023-04-06 13:05.12 [info     ] Parameters are saved to d3rlpy_logs/DiscreteFQE_20230406130512/params.json params={'action_scaler': None, 'batch_size': 100, 'encoder_factory': {'type': 'vector', 'params': {'hidden_units': [30, 30], 'activation': 'relu', 'use_batch_norm': False, 'dropout_rate': None, 'use_dense': False}}, 'gamma': 0.95, 'generated_maxlen': 100000, 'learning_rate': 0.0001, 'n_critics': 1, 'n_frames': 1, 'n_steps': 1, 'optim_factory': {'optim_cls': 'Adam', 'betas': (0.9, 0.999), 'eps': 1e-08, 'weight_decay': 0, 'amsgrad': False}, 'q_func_factory': {'type': 'mean', 'params': {'share_encoder': False}}, 'real_ratio': 1.0, 'reward_scaler': None, 'scaler': {'type': 'min_max', 'params': {'maximum': array([0.9889981 , 0.99476601, 0.99690476, 0.99494552, 0.9964104 ]), 'minimum': array([-0.98804508, -0.9820031 , -0.99184144, -0.99656817, -0.97737043])}}, 'target_update_interval': 100, 'use_gpu': None, 'algorithm': 'DiscreteFQE', 'observation_shape': (5,), 'action_size': 10}\n"
     ]
    },
    {
     "data": {
      "application/vnd.jupyter.widget-view+json": {
       "model_id": "30ff6b94600b4084bc0fb807e4a2eab0",
       "version_major": 2,
       "version_minor": 0
      },
      "text/plain": [
       "Epoch 1/1:   0%|          | 0/1000 [00:00<?, ?it/s]"
      ]
     },
     "metadata": {},
     "output_type": "display_data"
    },
    {
     "name": "stdout",
     "output_type": "stream",
     "text": [
      "2023-04-06 13:05.14 [info     ] DiscreteFQE_20230406130512: epoch=1 step=1000 epoch=1 metrics={'time_sample_batch': 0.00013082218170166015, 'time_algorithm_update': 0.0013432905673980713, 'loss': 0.21294599483162166, 'time_step': 0.0015349392890930177} step=1000\n",
      "2023-04-06 13:05.14 [info     ] Model parameters are saved to d3rlpy_logs/DiscreteFQE_20230406130512/model_1000.pt\n"
     ]
    },
    {
     "data": {
      "application/vnd.jupyter.widget-view+json": {
       "model_id": "aeeaa0a694dd47f68ced1cc4f53bf753",
       "version_major": 2,
       "version_minor": 0
      },
      "text/plain": [
       "[fit MWL model]:   0%|          | 0/2 [00:00<?, ?it/s]"
      ]
     },
     "metadata": {},
     "output_type": "display_data"
    },
    {
     "data": {
      "application/vnd.jupyter.widget-view+json": {
       "model_id": "286bc40584c44ff3b54bd70b71d69695",
       "version_major": 2,
       "version_minor": 0
      },
      "text/plain": [
       "[fitting_weight_function]:   0%|          | 0/100 [00:00<?, ?it/s]"
      ]
     },
     "metadata": {},
     "output_type": "display_data"
    },
    {
     "data": {
      "application/vnd.jupyter.widget-view+json": {
       "model_id": "4f13e94ed72b4559a404a12cd521c972",
       "version_major": 2,
       "version_minor": 0
      },
      "text/plain": [
       "[fitting_weight_function]:   0%|          | 0/100 [00:00<?, ?it/s]"
      ]
     },
     "metadata": {},
     "output_type": "display_data"
    },
    {
     "data": {
      "application/vnd.jupyter.widget-view+json": {
       "model_id": "a16977953cdc438a8b2c1de9fe3e9499",
       "version_major": 2,
       "version_minor": 0
      },
      "text/plain": [
       "[fitting_weight_function]:   0%|          | 0/100 [00:00<?, ?it/s]"
      ]
     },
     "metadata": {},
     "output_type": "display_data"
    },
    {
     "data": {
      "application/vnd.jupyter.widget-view+json": {
       "model_id": "f36ef6aed55342388ef39a45f5da3f98",
       "version_major": 2,
       "version_minor": 0
      },
      "text/plain": [
       "[fitting_weight_function]:   0%|          | 0/100 [00:00<?, ?it/s]"
      ]
     },
     "metadata": {},
     "output_type": "display_data"
    },
    {
     "data": {
      "application/vnd.jupyter.widget-view+json": {
       "model_id": "73d9145ebaaa4ccd9a34281eb799b744",
       "version_major": 2,
       "version_minor": 0
      },
      "text/plain": [
       "[collect input data: eval_policy]:   0%|          | 0/2 [00:00<?, ?it/s]"
      ]
     },
     "metadata": {},
     "output_type": "display_data"
    },
    {
     "data": {
      "application/vnd.jupyter.widget-view+json": {
       "model_id": "8f0d4cd319af4dbe9b2b54114a0f78be",
       "version_major": 2,
       "version_minor": 0
      },
      "text/plain": [
       "[calculate on-policy policy value]:   0%|          | 0/100 [00:00<?, ?it/s]"
      ]
     },
     "metadata": {},
     "output_type": "display_data"
    },
    {
     "data": {
      "application/vnd.jupyter.widget-view+json": {
       "model_id": "fd9cca31588a4a30b7398950377ca88f",
       "version_major": 2,
       "version_minor": 0
      },
      "text/plain": [
       "[calculate on-policy policy value]:   0%|          | 0/100 [00:00<?, ?it/s]"
      ]
     },
     "metadata": {},
     "output_type": "display_data"
    },
    {
     "name": "stderr",
     "output_type": "stream",
     "text": [
      "/Users/ren/dev/ofrl/tutorial/../ofrl/ope/estimators_base.py:445: RuntimeWarning: invalid value encountered in divide\n",
      "  return numerator / denominator\n"
     ]
    },
    {
     "name": "stdout",
     "output_type": "stream",
     "text": [
      "2023-04-06 13:05.59 [info     ] Directory is created at d3rlpy_logs/DoubleDQN_online_20230406130559\n",
      "2023-04-06 13:05.59 [debug    ] Building model...\n",
      "2023-04-06 13:05.59 [debug    ] Model has been built.\n",
      "2023-04-06 13:05.59 [info     ] Parameters are saved to d3rlpy_logs/DoubleDQN_online_20230406130559/params.json params={'action_scaler': None, 'batch_size': 32, 'encoder_factory': {'type': 'vector', 'params': {'hidden_units': [30, 30], 'activation': 'relu', 'use_batch_norm': False, 'dropout_rate': None, 'use_dense': False}}, 'gamma': 0.99, 'generated_maxlen': 100000, 'learning_rate': 6.25e-05, 'n_critics': 1, 'n_frames': 1, 'n_steps': 1, 'optim_factory': {'optim_cls': 'Adam', 'betas': (0.9, 0.999), 'eps': 1e-08, 'weight_decay': 0, 'amsgrad': False}, 'q_func_factory': {'type': 'mean', 'params': {'share_encoder': False}}, 'real_ratio': 1.0, 'reward_scaler': None, 'scaler': None, 'target_update_interval': 100, 'use_gpu': None, 'algorithm': 'DoubleDQN', 'observation_shape': (5,), 'action_size': 15}\n"
     ]
    },
    {
     "name": "stderr",
     "output_type": "stream",
     "text": [
      "/Users/ren/.pyenv/versions/3.10.6/lib/python3.10/site-packages/gym/utils/passive_env_checker.py:187: UserWarning: \u001b[33mWARN: Future gym versions will require that `Env.reset` can be passed `options` to allow the environment initialisation to be passed additional information.\u001b[0m\n",
      "  logger.warn(\n"
     ]
    },
    {
     "data": {
      "application/vnd.jupyter.widget-view+json": {
       "model_id": "3df8e033c1ab441081a958cd41108c84",
       "version_major": 2,
       "version_minor": 0
      },
      "text/plain": [
       "  0%|          | 0/100000 [00:00<?, ?it/s]"
      ]
     },
     "metadata": {},
     "output_type": "display_data"
    },
    {
     "name": "stdout",
     "output_type": "stream",
     "text": [
      "2023-04-06 13:06.00 [info     ] Model parameters are saved to d3rlpy_logs/DoubleDQN_online_20230406130559/model_1000.pt\n",
      "2023-04-06 13:06.00 [info     ] DoubleDQN_online_20230406130559: epoch=1 step=1000 epoch=1 metrics={'time_inference': 0.0002780742645263672, 'time_environment_step': 5.830860137939453e-05, 'time_step': 0.00035440611839294436, 'rollout_return': 0.10233357867116083, 'evaluation': 0.48795834316958187} step=1000\n",
      "2023-04-06 13:06.01 [info     ] Model parameters are saved to d3rlpy_logs/DoubleDQN_online_20230406130559/model_2000.pt\n",
      "2023-04-06 13:06.01 [info     ] DoubleDQN_online_20230406130559: epoch=2 step=2000 epoch=2 metrics={'time_inference': 0.0002685773372650146, 'time_environment_step': 6.431198120117188e-05, 'time_sample_batch': 5.200862884521484e-05, 'time_algorithm_update': 0.001178436517715454, 'loss': 0.05989251937158406, 'time_step': 0.0015946118831634522, 'rollout_return': 0.8125574370365775, 'evaluation': 2.861732432872175} step=2000\n",
      "2023-04-06 13:06.03 [info     ] Model parameters are saved to d3rlpy_logs/DoubleDQN_online_20230406130559/model_3000.pt\n",
      "2023-04-06 13:06.03 [info     ] DoubleDQN_online_20230406130559: epoch=3 step=3000 epoch=3 metrics={'time_inference': 0.00027355122566223144, 'time_environment_step': 6.575298309326172e-05, 'time_sample_batch': 5.379486083984375e-05, 'time_algorithm_update': 0.0012612237930297852, 'loss': 0.08463651806116104, 'time_step': 0.0016863603591918946, 'rollout_return': 2.4433538297818176, 'evaluation': 2.913358958161248} step=3000\n",
      "2023-04-06 13:06.05 [info     ] Model parameters are saved to d3rlpy_logs/DoubleDQN_online_20230406130559/model_4000.pt\n",
      "2023-04-06 13:06.05 [info     ] DoubleDQN_online_20230406130559: epoch=4 step=4000 epoch=4 metrics={'time_inference': 0.0002745311260223389, 'time_environment_step': 6.657147407531738e-05, 'time_sample_batch': 5.48403263092041e-05, 'time_algorithm_update': 0.001242734432220459, 'loss': 0.19626688783988355, 'time_step': 0.0016711301803588867, 'rollout_return': 2.53810802897724, 'evaluation': 2.973554387040839} step=4000\n",
      "2023-04-06 13:06.07 [info     ] Model parameters are saved to d3rlpy_logs/DoubleDQN_online_20230406130559/model_5000.pt\n",
      "2023-04-06 13:06.07 [info     ] DoubleDQN_online_20230406130559: epoch=5 step=5000 epoch=5 metrics={'time_inference': 0.0002695865631103516, 'time_environment_step': 6.445765495300293e-05, 'time_sample_batch': 5.409669876098633e-05, 'time_algorithm_update': 0.0011546528339385987, 'loss': 0.27562946631014346, 'time_step': 0.0015740437507629395, 'rollout_return': 3.6448925838713833, 'evaluation': 4.575621815135022} step=5000\n",
      "2023-04-06 13:06.08 [info     ] Model parameters are saved to d3rlpy_logs/DoubleDQN_online_20230406130559/model_6000.pt\n",
      "2023-04-06 13:06.08 [info     ] DoubleDQN_online_20230406130559: epoch=6 step=6000 epoch=6 metrics={'time_inference': 0.00027158141136169434, 'time_environment_step': 6.55040740966797e-05, 'time_sample_batch': 5.490398406982422e-05, 'time_algorithm_update': 0.001198892831802368, 'loss': 0.4923690095245838, 'time_step': 0.0016227424144744872, 'rollout_return': 4.044111994754495, 'evaluation': 4.546428742601686} step=6000\n",
      "2023-04-06 13:06.10 [info     ] Model parameters are saved to d3rlpy_logs/DoubleDQN_online_20230406130559/model_7000.pt\n",
      "2023-04-06 13:06.10 [info     ] DoubleDQN_online_20230406130559: epoch=7 step=7000 epoch=7 metrics={'time_inference': 0.0002656364440917969, 'time_environment_step': 6.380677223205566e-05, 'time_sample_batch': 5.405402183532715e-05, 'time_algorithm_update': 0.0011531829833984375, 'loss': 0.8160007416382432, 'time_step': 0.0015677478313446045, 'rollout_return': 4.136449971874916, 'evaluation': 4.299067812407072} step=7000\n",
      "2023-04-06 13:06.12 [info     ] Model parameters are saved to d3rlpy_logs/DoubleDQN_online_20230406130559/model_8000.pt\n",
      "2023-04-06 13:06.12 [info     ] DoubleDQN_online_20230406130559: epoch=8 step=8000 epoch=8 metrics={'time_inference': 0.0002774817943572998, 'time_environment_step': 6.683015823364257e-05, 'time_sample_batch': 5.601334571838379e-05, 'time_algorithm_update': 0.00121919322013855, 'loss': 1.1176680242344736, 'time_step': 0.0016521904468536376, 'rollout_return': 4.048861351889895, 'evaluation': 4.370428559256625} step=8000\n",
      "2023-04-06 13:06.13 [info     ] Model parameters are saved to d3rlpy_logs/DoubleDQN_online_20230406130559/model_9000.pt\n",
      "2023-04-06 13:06.13 [info     ] DoubleDQN_online_20230406130559: epoch=9 step=9000 epoch=9 metrics={'time_inference': 0.0002788822650909424, 'time_environment_step': 6.69708251953125e-05, 'time_sample_batch': 5.7511329650878906e-05, 'time_algorithm_update': 0.001225677251815796, 'loss': 1.3581264354921878, 'time_step': 0.001661879539489746, 'rollout_return': 3.941480801065058, 'evaluation': 4.428145724303403} step=9000\n",
      "2023-04-06 13:06.15 [info     ] Model parameters are saved to d3rlpy_logs/DoubleDQN_online_20230406130559/model_10000.pt\n",
      "2023-04-06 13:06.15 [info     ] DoubleDQN_online_20230406130559: epoch=10 step=10000 epoch=10 metrics={'time_inference': 0.00028928518295288084, 'time_environment_step': 6.983137130737305e-05, 'time_sample_batch': 6.049346923828125e-05, 'time_algorithm_update': 0.0012460465431213378, 'loss': 1.623329551562667, 'time_step': 0.001699845552444458, 'rollout_return': 4.01141187076225, 'evaluation': 3.1658583271832543} step=10000\n",
      "2023-04-06 13:06.17 [info     ] Model parameters are saved to d3rlpy_logs/DoubleDQN_online_20230406130559/model_11000.pt\n",
      "2023-04-06 13:06.17 [info     ] DoubleDQN_online_20230406130559: epoch=11 step=11000 epoch=11 metrics={'time_inference': 0.0003070995807647705, 'time_environment_step': 7.40053653717041e-05, 'time_sample_batch': 6.29112720489502e-05, 'time_algorithm_update': 0.0013241219520568849, 'loss': 1.858212889432907, 'time_step': 0.0018055868148803712, 'rollout_return': 4.486611760301568, 'evaluation': 5.563328932301252} step=11000\n",
      "2023-04-06 13:06.19 [info     ] Model parameters are saved to d3rlpy_logs/DoubleDQN_online_20230406130559/model_12000.pt\n",
      "2023-04-06 13:06.19 [info     ] DoubleDQN_online_20230406130559: epoch=12 step=12000 epoch=12 metrics={'time_inference': 0.0002819511890411377, 'time_environment_step': 6.764173507690429e-05, 'time_sample_batch': 5.816888809204102e-05, 'time_algorithm_update': 0.0012382991313934326, 'loss': 2.1199618878252804, 'time_step': 0.0016805860996246338, 'rollout_return': 5.050634470212047, 'evaluation': 5.832508637756748} step=12000\n",
      "2023-04-06 13:06.20 [info     ] Model parameters are saved to d3rlpy_logs/DoubleDQN_online_20230406130559/model_13000.pt\n",
      "2023-04-06 13:06.20 [info     ] DoubleDQN_online_20230406130559: epoch=13 step=13000 epoch=13 metrics={'time_inference': 0.0002759525775909424, 'time_environment_step': 6.629061698913574e-05, 'time_sample_batch': 5.693292617797852e-05, 'time_algorithm_update': 0.001185511827468872, 'loss': 2.469764307141304, 'time_step': 0.0016184022426605224, 'rollout_return': 5.056770667075947, 'evaluation': 5.743456410132397} step=13000\n",
      "2023-04-06 13:06.22 [info     ] Model parameters are saved to d3rlpy_logs/DoubleDQN_online_20230406130559/model_14000.pt\n",
      "2023-04-06 13:06.22 [info     ] DoubleDQN_online_20230406130559: epoch=14 step=14000 epoch=14 metrics={'time_inference': 0.0002958359718322754, 'time_environment_step': 7.187509536743164e-05, 'time_sample_batch': 6.217217445373535e-05, 'time_algorithm_update': 0.0013834362030029296, 'loss': 2.829411814391613, 'time_step': 0.0018507056236267089, 'rollout_return': 5.721227337975806, 'evaluation': 6.565092070925232} step=14000\n",
      "2023-04-06 13:06.24 [info     ] Model parameters are saved to d3rlpy_logs/DoubleDQN_online_20230406130559/model_15000.pt\n",
      "2023-04-06 13:06.24 [info     ] DoubleDQN_online_20230406130559: epoch=15 step=15000 epoch=15 metrics={'time_inference': 0.0002860617637634277, 'time_environment_step': 6.803107261657715e-05, 'time_sample_batch': 5.844545364379883e-05, 'time_algorithm_update': 0.0012325334548950195, 'loss': 3.203735606264323, 'time_step': 0.001679976224899292, 'rollout_return': 6.4754389235021765, 'evaluation': 7.049514457546709} step=15000\n",
      "2023-04-06 13:06.26 [info     ] Model parameters are saved to d3rlpy_logs/DoubleDQN_online_20230406130559/model_16000.pt\n",
      "2023-04-06 13:06.26 [info     ] DoubleDQN_online_20230406130559: epoch=16 step=16000 epoch=16 metrics={'time_inference': 0.0003002340793609619, 'time_environment_step': 7.103657722473145e-05, 'time_sample_batch': 6.073594093322754e-05, 'time_algorithm_update': 0.0012786641120910644, 'loss': 3.675677175104618, 'time_step': 0.0017470295429229737, 'rollout_return': 6.951263454230224, 'evaluation': 8.928216577378574} step=16000\n",
      "2023-04-06 13:06.27 [info     ] Model parameters are saved to d3rlpy_logs/DoubleDQN_online_20230406130559/model_17000.pt\n",
      "2023-04-06 13:06.27 [info     ] DoubleDQN_online_20230406130559: epoch=17 step=17000 epoch=17 metrics={'time_inference': 0.00027946996688842774, 'time_environment_step': 6.744718551635742e-05, 'time_sample_batch': 5.750703811645508e-05, 'time_algorithm_update': 0.0012037286758422852, 'loss': 4.324602359056473, 'time_step': 0.001643117904663086, 'rollout_return': 7.339051528878388, 'evaluation': 8.926233023597831} step=17000\n",
      "2023-04-06 13:06.29 [info     ] Model parameters are saved to d3rlpy_logs/DoubleDQN_online_20230406130559/model_18000.pt\n",
      "2023-04-06 13:06.29 [info     ] DoubleDQN_online_20230406130559: epoch=18 step=18000 epoch=18 metrics={'time_inference': 0.00028182482719421386, 'time_environment_step': 6.785917282104493e-05, 'time_sample_batch': 5.797910690307617e-05, 'time_algorithm_update': 0.0012238218784332276, 'loss': 4.805928342342376, 'time_step': 0.001666276216506958, 'rollout_return': 7.817173188916261, 'evaluation': 9.15305262272513} step=18000\n",
      "2023-04-06 13:06.31 [info     ] Model parameters are saved to d3rlpy_logs/DoubleDQN_online_20230406130559/model_19000.pt\n",
      "2023-04-06 13:06.31 [info     ] DoubleDQN_online_20230406130559: epoch=19 step=19000 epoch=19 metrics={'time_inference': 0.00027639079093933107, 'time_environment_step': 6.603646278381347e-05, 'time_sample_batch': 5.6786298751831055e-05, 'time_algorithm_update': 0.0011858844757080078, 'loss': 5.433364759206772, 'time_step': 0.0016188418865203857, 'rollout_return': 8.139225752465858, 'evaluation': 9.286022430339624} step=19000\n",
      "2023-04-06 13:06.33 [info     ] Model parameters are saved to d3rlpy_logs/DoubleDQN_online_20230406130559/model_20000.pt\n",
      "2023-04-06 13:06.33 [info     ] DoubleDQN_online_20230406130559: epoch=20 step=20000 epoch=20 metrics={'time_inference': 0.000279252290725708, 'time_environment_step': 6.710076332092285e-05, 'time_sample_batch': 5.782651901245117e-05, 'time_algorithm_update': 0.0012205443382263183, 'loss': 6.060185331828892, 'time_step': 0.0016590518951416016, 'rollout_return': 8.431197872807592, 'evaluation': 9.357301985497783} step=20000\n",
      "2023-04-06 13:06.34 [info     ] Model parameters are saved to d3rlpy_logs/DoubleDQN_online_20230406130559/model_21000.pt\n",
      "2023-04-06 13:06.34 [info     ] DoubleDQN_online_20230406130559: epoch=21 step=21000 epoch=21 metrics={'time_inference': 0.0002803230285644531, 'time_environment_step': 6.780743598937988e-05, 'time_sample_batch': 5.798959732055664e-05, 'time_algorithm_update': 0.0011955981254577637, 'loss': 6.666593416526914, 'time_step': 0.0016363320350646973, 'rollout_return': 8.230885752184271, 'evaluation': 9.476849425964934} step=21000\n",
      "2023-04-06 13:06.36 [info     ] Model parameters are saved to d3rlpy_logs/DoubleDQN_online_20230406130559/model_22000.pt\n",
      "2023-04-06 13:06.36 [info     ] DoubleDQN_online_20230406130559: epoch=22 step=22000 epoch=22 metrics={'time_inference': 0.00028195714950561524, 'time_environment_step': 6.867074966430664e-05, 'time_sample_batch': 5.7895660400390623e-05, 'time_algorithm_update': 0.001227982997894287, 'loss': 7.317430323749781, 'time_step': 0.0016711890697479249, 'rollout_return': 8.524843244290238, 'evaluation': 9.360616185531077} step=22000\n",
      "2023-04-06 13:06.38 [info     ] Model parameters are saved to d3rlpy_logs/DoubleDQN_online_20230406130559/model_23000.pt\n",
      "2023-04-06 13:06.38 [info     ] DoubleDQN_online_20230406130559: epoch=23 step=23000 epoch=23 metrics={'time_inference': 0.00027555799484252927, 'time_environment_step': 6.612873077392578e-05, 'time_sample_batch': 5.6838512420654296e-05, 'time_algorithm_update': 0.001178196668624878, 'loss': 7.80958008313179, 'time_step': 0.0016104896068572998, 'rollout_return': 8.30287911589925, 'evaluation': 9.468841868681478} step=23000\n",
      "2023-04-06 13:06.39 [info     ] Model parameters are saved to d3rlpy_logs/DoubleDQN_online_20230406130559/model_24000.pt\n",
      "2023-04-06 13:06.39 [info     ] DoubleDQN_online_20230406130559: epoch=24 step=24000 epoch=24 metrics={'time_inference': 0.0002791893482208252, 'time_environment_step': 6.739568710327148e-05, 'time_sample_batch': 5.7891845703125e-05, 'time_algorithm_update': 0.0012403461933135987, 'loss': 8.287588698387147, 'time_step': 0.0016795144081115723, 'rollout_return': 8.267356781209541, 'evaluation': 9.460890680986497} step=24000\n",
      "2023-04-06 13:06.41 [info     ] Model parameters are saved to d3rlpy_logs/DoubleDQN_online_20230406130559/model_25000.pt\n",
      "2023-04-06 13:06.41 [info     ] DoubleDQN_online_20230406130559: epoch=25 step=25000 epoch=25 metrics={'time_inference': 0.0002768075466156006, 'time_environment_step': 6.66191577911377e-05, 'time_sample_batch': 5.7378292083740236e-05, 'time_algorithm_update': 0.0011905667781829834, 'loss': 8.500451230287553, 'time_step': 0.0016253530979156495, 'rollout_return': 7.745665787494542, 'evaluation': 9.52222325908297} step=25000\n",
      "2023-04-06 13:06.43 [info     ] Model parameters are saved to d3rlpy_logs/DoubleDQN_online_20230406130559/model_26000.pt\n",
      "2023-04-06 13:06.43 [info     ] DoubleDQN_online_20230406130559: epoch=26 step=26000 epoch=26 metrics={'time_inference': 0.0002909903526306152, 'time_environment_step': 6.998372077941895e-05, 'time_sample_batch': 5.945277214050293e-05, 'time_algorithm_update': 0.00126916766166687, 'loss': 8.804359315514564, 'time_step': 0.0017256641387939453, 'rollout_return': 7.811329412797547, 'evaluation': 7.2837972149912815} step=26000\n",
      "2023-04-06 13:06.45 [info     ] Model parameters are saved to d3rlpy_logs/DoubleDQN_online_20230406130559/model_27000.pt\n",
      "2023-04-06 13:06.45 [info     ] DoubleDQN_online_20230406130559: epoch=27 step=27000 epoch=27 metrics={'time_inference': 0.00029373550415039064, 'time_environment_step': 7.0770263671875e-05, 'time_sample_batch': 6.111812591552735e-05, 'time_algorithm_update': 0.0012568774223327636, 'loss': 8.939904403090477, 'time_step': 0.0017186222076416016, 'rollout_return': 8.125796553187442, 'evaluation': 9.096122279866009} step=27000\n",
      "2023-04-06 13:06.46 [info     ] Model parameters are saved to d3rlpy_logs/DoubleDQN_online_20230406130559/model_28000.pt\n",
      "2023-04-06 13:06.46 [info     ] DoubleDQN_online_20230406130559: epoch=28 step=28000 epoch=28 metrics={'time_inference': 0.0002993185520172119, 'time_environment_step': 7.242012023925781e-05, 'time_sample_batch': 6.171536445617676e-05, 'time_algorithm_update': 0.0012924005985260009, 'loss': 9.372496377557516, 'time_step': 0.0017627902030944824, 'rollout_return': 8.417329042651875, 'evaluation': 9.455659955663446} step=28000\n",
      "2023-04-06 13:06.48 [info     ] Model parameters are saved to d3rlpy_logs/DoubleDQN_online_20230406130559/model_29000.pt\n",
      "2023-04-06 13:06.48 [info     ] DoubleDQN_online_20230406130559: epoch=29 step=29000 epoch=29 metrics={'time_inference': 0.00027768945693969725, 'time_environment_step': 6.675028800964356e-05, 'time_sample_batch': 5.745577812194824e-05, 'time_algorithm_update': 0.0011973841190338135, 'loss': 9.317542628005146, 'time_step': 0.0016333537101745606, 'rollout_return': 8.197062613114154, 'evaluation': 9.208167845323945} step=29000\n",
      "2023-04-06 13:06.50 [info     ] Model parameters are saved to d3rlpy_logs/DoubleDQN_online_20230406130559/model_30000.pt\n",
      "2023-04-06 13:06.50 [info     ] DoubleDQN_online_20230406130559: epoch=30 step=30000 epoch=30 metrics={'time_inference': 0.00028310346603393555, 'time_environment_step': 6.766176223754882e-05, 'time_sample_batch': 5.785727500915527e-05, 'time_algorithm_update': 0.0012281050682067872, 'loss': 9.739174274921417, 'time_step': 0.0016715457439422606, 'rollout_return': 8.016865501257152, 'evaluation': 9.467196956332536} step=30000\n",
      "2023-04-06 13:06.52 [info     ] Model parameters are saved to d3rlpy_logs/DoubleDQN_online_20230406130559/model_31000.pt\n",
      "2023-04-06 13:06.52 [info     ] DoubleDQN_online_20230406130559: epoch=31 step=31000 epoch=31 metrics={'time_inference': 0.00028271842002868653, 'time_environment_step': 6.90908432006836e-05, 'time_sample_batch': 5.8635473251342774e-05, 'time_algorithm_update': 0.0012518153190612792, 'loss': 9.78924133080244, 'time_step': 0.0016973252296447754, 'rollout_return': 8.339053703218365, 'evaluation': 9.415465736701432} step=31000\n",
      "2023-04-06 13:06.53 [info     ] Model parameters are saved to d3rlpy_logs/DoubleDQN_online_20230406130559/model_32000.pt\n",
      "2023-04-06 13:06.53 [info     ] DoubleDQN_online_20230406130559: epoch=32 step=32000 epoch=32 metrics={'time_inference': 0.00028431057929992673, 'time_environment_step': 6.867504119873046e-05, 'time_sample_batch': 5.894112586975098e-05, 'time_algorithm_update': 0.0012593276500701904, 'loss': 9.829510771274567, 'time_step': 0.001706468105316162, 'rollout_return': 8.217536951539472, 'evaluation': 9.502407341543549} step=32000\n",
      "2023-04-06 13:06.55 [info     ] Model parameters are saved to d3rlpy_logs/DoubleDQN_online_20230406130559/model_33000.pt\n",
      "2023-04-06 13:06.55 [info     ] DoubleDQN_online_20230406130559: epoch=33 step=33000 epoch=33 metrics={'time_inference': 0.0002773730754852295, 'time_environment_step': 6.633210182189941e-05, 'time_sample_batch': 5.691742897033692e-05, 'time_algorithm_update': 0.0011799259185791015, 'loss': 10.233796695195139, 'time_step': 0.0016145789623260498, 'rollout_return': 8.183922958637114, 'evaluation': 9.309460452968505} step=33000\n",
      "2023-04-06 13:06.57 [info     ] Model parameters are saved to d3rlpy_logs/DoubleDQN_online_20230406130559/model_34000.pt\n",
      "2023-04-06 13:06.57 [info     ] DoubleDQN_online_20230406130559: epoch=34 step=34000 epoch=34 metrics={'time_inference': 0.00029110026359558105, 'time_environment_step': 6.690406799316406e-05, 'time_sample_batch': 5.750346183776856e-05, 'time_algorithm_update': 0.0012705957889556886, 'loss': 10.143165531799196, 'time_step': 0.0017202250957489014, 'rollout_return': 7.732093226779153, 'evaluation': 9.029994070430101} step=34000\n",
      "2023-04-06 13:06.59 [info     ] Model parameters are saved to d3rlpy_logs/DoubleDQN_online_20230406130559/model_35000.pt\n",
      "2023-04-06 13:06.59 [info     ] DoubleDQN_online_20230406130559: epoch=35 step=35000 epoch=35 metrics={'time_inference': 0.00028081655502319334, 'time_environment_step': 6.879138946533203e-05, 'time_sample_batch': 5.806398391723633e-05, 'time_algorithm_update': 0.001213848352432251, 'loss': 10.113218217134476, 'time_step': 0.001656259536743164, 'rollout_return': 8.086111296027362, 'evaluation': 7.775806981657686} step=35000\n",
      "2023-04-06 13:07.00 [info     ] Model parameters are saved to d3rlpy_logs/DoubleDQN_online_20230406130559/model_36000.pt\n",
      "2023-04-06 13:07.00 [info     ] DoubleDQN_online_20230406130559: epoch=36 step=36000 epoch=36 metrics={'time_inference': 0.0002789268493652344, 'time_environment_step': 6.695151329040527e-05, 'time_sample_batch': 5.761241912841797e-05, 'time_algorithm_update': 0.0011984694004058838, 'loss': 9.992314507603645, 'time_step': 0.0016365182399749757, 'rollout_return': 7.4846121440905975, 'evaluation': 9.153218558091229} step=36000\n",
      "2023-04-06 13:07.02 [info     ] Model parameters are saved to d3rlpy_logs/DoubleDQN_online_20230406130559/model_37000.pt\n",
      "2023-04-06 13:07.02 [info     ] DoubleDQN_online_20230406130559: epoch=37 step=37000 epoch=37 metrics={'time_inference': 0.00028411102294921873, 'time_environment_step': 6.856083869934082e-05, 'time_sample_batch': 5.8351755142211915e-05, 'time_algorithm_update': 0.0012649810314178467, 'loss': 10.173539246730506, 'time_step': 0.0017109293937683106, 'rollout_return': 7.943875934033864, 'evaluation': 7.995829586778586} step=37000\n",
      "2023-04-06 13:07.04 [info     ] Model parameters are saved to d3rlpy_logs/DoubleDQN_online_20230406130559/model_38000.pt\n",
      "2023-04-06 13:07.04 [info     ] DoubleDQN_online_20230406130559: epoch=38 step=38000 epoch=38 metrics={'time_inference': 0.00027930259704589844, 'time_environment_step': 6.697893142700195e-05, 'time_sample_batch': 5.7265520095825194e-05, 'time_algorithm_update': 0.0011852705478668213, 'loss': 10.115647758960725, 'time_step': 0.001622938871383667, 'rollout_return': 7.798567573029163, 'evaluation': 8.782068993805373} step=38000\n",
      "2023-04-06 13:07.05 [info     ] Model parameters are saved to d3rlpy_logs/DoubleDQN_online_20230406130559/model_39000.pt\n",
      "2023-04-06 13:07.05 [info     ] DoubleDQN_online_20230406130559: epoch=39 step=39000 epoch=39 metrics={'time_inference': 0.0002856953144073486, 'time_environment_step': 6.927084922790527e-05, 'time_sample_batch': 5.91132640838623e-05, 'time_algorithm_update': 0.0012367141246795654, 'loss': 10.133201790705323, 'time_step': 0.0016861979961395263, 'rollout_return': 7.168164719899188, 'evaluation': 7.862213405697797} step=39000\n",
      "2023-04-06 13:07.07 [info     ] Model parameters are saved to d3rlpy_logs/DoubleDQN_online_20230406130559/model_40000.pt\n",
      "2023-04-06 13:07.07 [info     ] DoubleDQN_online_20230406130559: epoch=40 step=40000 epoch=40 metrics={'time_inference': 0.00028322458267211916, 'time_environment_step': 6.802582740783692e-05, 'time_sample_batch': 5.8516979217529294e-05, 'time_algorithm_update': 0.0012143468856811524, 'loss': 10.07106236743927, 'time_step': 0.0016589627265930177, 'rollout_return': 7.522987471531005, 'evaluation': 9.538156574708745} step=40000\n",
      "2023-04-06 13:07.09 [info     ] Model parameters are saved to d3rlpy_logs/DoubleDQN_online_20230406130559/model_41000.pt\n",
      "2023-04-06 13:07.09 [info     ] DoubleDQN_online_20230406130559: epoch=41 step=41000 epoch=41 metrics={'time_inference': 0.0002855868339538574, 'time_environment_step': 6.888771057128906e-05, 'time_sample_batch': 5.929899215698242e-05, 'time_algorithm_update': 0.0012347445487976075, 'loss': 10.14235316681862, 'time_step': 0.0016837518215179444, 'rollout_return': 7.552616448571495, 'evaluation': 7.960458555010035} step=41000\n",
      "2023-04-06 13:07.11 [info     ] Model parameters are saved to d3rlpy_logs/DoubleDQN_online_20230406130559/model_42000.pt\n",
      "2023-04-06 13:07.11 [info     ] DoubleDQN_online_20230406130559: epoch=42 step=42000 epoch=42 metrics={'time_inference': 0.000284029483795166, 'time_environment_step': 6.756830215454101e-05, 'time_sample_batch': 5.759787559509277e-05, 'time_algorithm_update': 0.0012088637351989745, 'loss': 10.058387651517988, 'time_step': 0.0016527080535888672, 'rollout_return': 7.783429154026447, 'evaluation': 9.442222728036576} step=42000\n",
      "2023-04-06 13:07.12 [info     ] Model parameters are saved to d3rlpy_logs/DoubleDQN_online_20230406130559/model_43000.pt\n",
      "2023-04-06 13:07.12 [info     ] DoubleDQN_online_20230406130559: epoch=43 step=43000 epoch=43 metrics={'time_inference': 0.00028406500816345213, 'time_environment_step': 6.892323493957519e-05, 'time_sample_batch': 5.858945846557617e-05, 'time_algorithm_update': 0.0012451252937316895, 'loss': 10.14369556210935, 'time_step': 0.001691995620727539, 'rollout_return': 7.891251368432284, 'evaluation': 9.388671046840745} step=43000\n",
      "2023-04-06 13:07.14 [info     ] Model parameters are saved to d3rlpy_logs/DoubleDQN_online_20230406130559/model_44000.pt\n",
      "2023-04-06 13:07.14 [info     ] DoubleDQN_online_20230406130559: epoch=44 step=44000 epoch=44 metrics={'time_inference': 0.00028588151931762697, 'time_environment_step': 6.822681427001953e-05, 'time_sample_batch': 5.81967830657959e-05, 'time_algorithm_update': 0.001227163076400757, 'loss': 10.094919860601426, 'time_step': 0.0016743710041046142, 'rollout_return': 7.99394718797944, 'evaluation': 9.387470918026718} step=44000\n",
      "2023-04-06 13:07.16 [info     ] Model parameters are saved to d3rlpy_logs/DoubleDQN_online_20230406130559/model_45000.pt\n",
      "2023-04-06 13:07.16 [info     ] DoubleDQN_online_20230406130559: epoch=45 step=45000 epoch=45 metrics={'time_inference': 0.0002799055576324463, 'time_environment_step': 6.72147274017334e-05, 'time_sample_batch': 5.759239196777344e-05, 'time_algorithm_update': 0.0011895592212677, 'loss': 10.305986500956118, 'time_step': 0.0016284775733947754, 'rollout_return': 7.708613163636995, 'evaluation': 9.474940105098671} step=45000\n",
      "2023-04-06 13:07.18 [info     ] Model parameters are saved to d3rlpy_logs/DoubleDQN_online_20230406130559/model_46000.pt\n",
      "2023-04-06 13:07.18 [info     ] DoubleDQN_online_20230406130559: epoch=46 step=46000 epoch=46 metrics={'time_inference': 0.00028911352157592776, 'time_environment_step': 6.950950622558593e-05, 'time_sample_batch': 5.941390991210937e-05, 'time_algorithm_update': 0.0012562789916992188, 'loss': 10.260786164626479, 'time_step': 0.0017100305557250976, 'rollout_return': 7.797834848915631, 'evaluation': 9.436172077123153} step=46000\n",
      "2023-04-06 13:07.19 [info     ] Model parameters are saved to d3rlpy_logs/DoubleDQN_online_20230406130559/model_47000.pt\n",
      "2023-04-06 13:07.19 [info     ] DoubleDQN_online_20230406130559: epoch=47 step=47000 epoch=47 metrics={'time_inference': 0.00028420257568359373, 'time_environment_step': 6.813335418701172e-05, 'time_sample_batch': 5.790781974792481e-05, 'time_algorithm_update': 0.0012081716060638428, 'loss': 10.218690718509256, 'time_step': 0.001653165578842163, 'rollout_return': 7.455606948791414, 'evaluation': 9.460370248814153} step=47000\n",
      "2023-04-06 13:07.21 [info     ] Model parameters are saved to d3rlpy_logs/DoubleDQN_online_20230406130559/model_48000.pt\n",
      "2023-04-06 13:07.21 [info     ] DoubleDQN_online_20230406130559: epoch=48 step=48000 epoch=48 metrics={'time_inference': 0.00029241228103637693, 'time_environment_step': 7.057881355285644e-05, 'time_sample_batch': 5.9657812118530277e-05, 'time_algorithm_update': 0.0012767426967620849, 'loss': 10.112185168463737, 'time_step': 0.0017357633113861085, 'rollout_return': 7.845940655164019, 'evaluation': 8.552415882731228} step=48000\n",
      "2023-04-06 13:07.23 [info     ] Model parameters are saved to d3rlpy_logs/DoubleDQN_online_20230406130559/model_49000.pt\n",
      "2023-04-06 13:07.23 [info     ] DoubleDQN_online_20230406130559: epoch=49 step=49000 epoch=49 metrics={'time_inference': 0.0002844622135162354, 'time_environment_step': 6.873822212219239e-05, 'time_sample_batch': 5.858731269836426e-05, 'time_algorithm_update': 0.001217174768447876, 'loss': 10.082283366322518, 'time_step': 0.001663973331451416, 'rollout_return': 7.72860584077912, 'evaluation': 7.230771528634172} step=49000\n",
      "2023-04-06 13:07.25 [info     ] Model parameters are saved to d3rlpy_logs/DoubleDQN_online_20230406130559/model_50000.pt\n",
      "2023-04-06 13:07.25 [info     ] DoubleDQN_online_20230406130559: epoch=50 step=50000 epoch=50 metrics={'time_inference': 0.0002981834411621094, 'time_environment_step': 7.203388214111328e-05, 'time_sample_batch': 6.141924858093261e-05, 'time_algorithm_update': 0.001333380699157715, 'loss': 9.91785478695482, 'time_step': 0.001801924467086792, 'rollout_return': 7.167076256900091, 'evaluation': 9.31105226679711} step=50000\n",
      "2023-04-06 13:07.26 [info     ] Model parameters are saved to d3rlpy_logs/DoubleDQN_online_20230406130559/model_51000.pt\n",
      "2023-04-06 13:07.26 [info     ] DoubleDQN_online_20230406130559: epoch=51 step=51000 epoch=51 metrics={'time_inference': 0.0002932577133178711, 'time_environment_step': 7.047152519226074e-05, 'time_sample_batch': 6.0042142868041994e-05, 'time_algorithm_update': 0.0012466075420379638, 'loss': 9.889825404178351, 'time_step': 0.0017063441276550294, 'rollout_return': 7.1667719291457646, 'evaluation': 8.59478936097562} step=51000\n",
      "2023-04-06 13:07.28 [info     ] Model parameters are saved to d3rlpy_logs/DoubleDQN_online_20230406130559/model_52000.pt\n",
      "2023-04-06 13:07.28 [info     ] DoubleDQN_online_20230406130559: epoch=52 step=52000 epoch=52 metrics={'time_inference': 0.0002940185070037842, 'time_environment_step': 7.047653198242188e-05, 'time_sample_batch': 6.025481224060059e-05, 'time_algorithm_update': 0.0012759954929351806, 'loss': 10.075819338798523, 'time_step': 0.0017371268272399901, 'rollout_return': 6.966590409810953, 'evaluation': 7.563662753294106} step=52000\n",
      "2023-04-06 13:07.30 [info     ] Model parameters are saved to d3rlpy_logs/DoubleDQN_online_20230406130559/model_53000.pt\n",
      "2023-04-06 13:07.30 [info     ] DoubleDQN_online_20230406130559: epoch=53 step=53000 epoch=53 metrics={'time_inference': 0.0002905263900756836, 'time_environment_step': 6.988334655761719e-05, 'time_sample_batch': 5.935215950012207e-05, 'time_algorithm_update': 0.0012357623577117919, 'loss': 9.690580090880394, 'time_step': 0.0016911816596984863, 'rollout_return': 7.306967420766852, 'evaluation': 8.749074385250431} step=53000\n",
      "2023-04-06 13:07.32 [info     ] Model parameters are saved to d3rlpy_logs/DoubleDQN_online_20230406130559/model_54000.pt\n",
      "2023-04-06 13:07.32 [info     ] DoubleDQN_online_20230406130559: epoch=54 step=54000 epoch=54 metrics={'time_inference': 0.0002924444675445557, 'time_environment_step': 6.99758529663086e-05, 'time_sample_batch': 5.9498071670532226e-05, 'time_algorithm_update': 0.0012645864486694337, 'loss': 9.74214828312397, 'time_step': 0.001722362995147705, 'rollout_return': 7.4751645616437035, 'evaluation': 8.151348092261536} step=54000\n",
      "2023-04-06 13:07.33 [info     ] Model parameters are saved to d3rlpy_logs/DoubleDQN_online_20230406130559/model_55000.pt\n",
      "2023-04-06 13:07.33 [info     ] DoubleDQN_online_20230406130559: epoch=55 step=55000 epoch=55 metrics={'time_inference': 0.0002953176498413086, 'time_environment_step': 7.029294967651367e-05, 'time_sample_batch': 5.9914112091064454e-05, 'time_algorithm_update': 0.0012405240535736085, 'loss': 9.905231331706046, 'time_step': 0.0017019529342651367, 'rollout_return': 7.377210262707089, 'evaluation': 8.538543945297722} step=55000\n",
      "2023-04-06 13:07.35 [info     ] Model parameters are saved to d3rlpy_logs/DoubleDQN_online_20230406130559/model_56000.pt\n",
      "2023-04-06 13:07.35 [info     ] DoubleDQN_online_20230406130559: epoch=56 step=56000 epoch=56 metrics={'time_inference': 0.0002926452159881592, 'time_environment_step': 6.989073753356933e-05, 'time_sample_batch': 5.9599637985229495e-05, 'time_algorithm_update': 0.0012693438529968262, 'loss': 9.951531710013747, 'time_step': 0.0017270760536193847, 'rollout_return': 7.515892197291477, 'evaluation': 8.221020428854096} step=56000\n",
      "2023-04-06 13:07.37 [info     ] Model parameters are saved to d3rlpy_logs/DoubleDQN_online_20230406130559/model_57000.pt\n",
      "2023-04-06 13:07.37 [info     ] DoubleDQN_online_20230406130559: epoch=57 step=57000 epoch=57 metrics={'time_inference': 0.00028845882415771485, 'time_environment_step': 6.942415237426757e-05, 'time_sample_batch': 5.9047460556030276e-05, 'time_algorithm_update': 0.0012378592491149901, 'loss': 9.865070622563362, 'time_step': 0.0016902687549591065, 'rollout_return': 7.424126897695221, 'evaluation': 8.041059055098053} step=57000\n",
      "2023-04-06 13:07.39 [info     ] Model parameters are saved to d3rlpy_logs/DoubleDQN_online_20230406130559/model_58000.pt\n",
      "2023-04-06 13:07.39 [info     ] DoubleDQN_online_20230406130559: epoch=58 step=58000 epoch=58 metrics={'time_inference': 0.0002907848358154297, 'time_environment_step': 7.052135467529297e-05, 'time_sample_batch': 5.968070030212402e-05, 'time_algorithm_update': 0.0012733924388885498, 'loss': 9.885929369807243, 'time_step': 0.0017302479743957519, 'rollout_return': 7.705628069374987, 'evaluation': 8.149257286267849} step=58000\n",
      "2023-04-06 13:07.41 [info     ] Model parameters are saved to d3rlpy_logs/DoubleDQN_online_20230406130559/model_59000.pt\n",
      "2023-04-06 13:07.41 [info     ] DoubleDQN_online_20230406130559: epoch=59 step=59000 epoch=59 metrics={'time_inference': 0.00028801822662353517, 'time_environment_step': 6.981062889099121e-05, 'time_sample_batch': 5.9072256088256835e-05, 'time_algorithm_update': 0.001240405797958374, 'loss': 10.14724167752266, 'time_step': 0.001692896842956543, 'rollout_return': 7.533431940781495, 'evaluation': 8.04140265589659} step=59000\n",
      "2023-04-06 13:07.42 [info     ] Model parameters are saved to d3rlpy_logs/DoubleDQN_online_20230406130559/model_60000.pt\n",
      "2023-04-06 13:07.42 [info     ] DoubleDQN_online_20230406130559: epoch=60 step=60000 epoch=60 metrics={'time_inference': 0.00028989672660827636, 'time_environment_step': 7.02509880065918e-05, 'time_sample_batch': 5.953502655029297e-05, 'time_algorithm_update': 0.0012678413391113282, 'loss': 10.130077035427094, 'time_step': 0.001723423719406128, 'rollout_return': 7.571399336438425, 'evaluation': 8.63550507655181} step=60000\n",
      "2023-04-06 13:07.44 [info     ] Model parameters are saved to d3rlpy_logs/DoubleDQN_online_20230406130559/model_61000.pt\n",
      "2023-04-06 13:07.44 [info     ] DoubleDQN_online_20230406130559: epoch=61 step=61000 epoch=61 metrics={'time_inference': 0.0002903859615325928, 'time_environment_step': 6.986069679260254e-05, 'time_sample_batch': 5.973291397094727e-05, 'time_algorithm_update': 0.0012399251461029052, 'loss': 10.0150359313339, 'time_step': 0.0016957807540893554, 'rollout_return': 7.675517729791836, 'evaluation': 8.973050126810218} step=61000\n",
      "2023-04-06 13:07.46 [info     ] Model parameters are saved to d3rlpy_logs/DoubleDQN_online_20230406130559/model_62000.pt\n",
      "2023-04-06 13:07.46 [info     ] DoubleDQN_online_20230406130559: epoch=62 step=62000 epoch=62 metrics={'time_inference': 0.00029028987884521486, 'time_environment_step': 6.930804252624512e-05, 'time_sample_batch': 5.893683433532715e-05, 'time_algorithm_update': 0.0012366867065429687, 'loss': 10.144502740971744, 'time_step': 0.0016909334659576415, 'rollout_return': 7.815252689650496, 'evaluation': 9.5250014126393} step=62000\n",
      "2023-04-06 13:07.48 [info     ] Model parameters are saved to d3rlpy_logs/DoubleDQN_online_20230406130559/model_63000.pt\n",
      "2023-04-06 13:07.48 [info     ] DoubleDQN_online_20230406130559: epoch=63 step=63000 epoch=63 metrics={'time_inference': 0.0002976820468902588, 'time_environment_step': 7.235407829284669e-05, 'time_sample_batch': 6.10945224761963e-05, 'time_algorithm_update': 0.0012883589267730713, 'loss': 9.994067849650978, 'time_step': 0.0017565562725067139, 'rollout_return': 7.715128727269129, 'evaluation': 8.102239242497708} step=63000\n",
      "2023-04-06 13:07.49 [info     ] Model parameters are saved to d3rlpy_logs/DoubleDQN_online_20230406130559/model_64000.pt\n",
      "2023-04-06 13:07.49 [info     ] DoubleDQN_online_20230406130559: epoch=64 step=64000 epoch=64 metrics={'time_inference': 0.00028788399696350097, 'time_environment_step': 6.885218620300292e-05, 'time_sample_batch': 5.855369567871094e-05, 'time_algorithm_update': 0.0012170898914337159, 'loss': 9.946261641979218, 'time_step': 0.001667459726333618, 'rollout_return': 7.84682709984275, 'evaluation': 7.870440510574464} step=64000\n",
      "2023-04-06 13:07.51 [info     ] Model parameters are saved to d3rlpy_logs/DoubleDQN_online_20230406130559/model_65000.pt\n",
      "2023-04-06 13:07.51 [info     ] DoubleDQN_online_20230406130559: epoch=65 step=65000 epoch=65 metrics={'time_inference': 0.0002925910949707031, 'time_environment_step': 7.043313980102539e-05, 'time_sample_batch': 6.0053825378417965e-05, 'time_algorithm_update': 0.0012689135074615478, 'loss': 10.022668937683106, 'time_step': 0.0017280824184417725, 'rollout_return': 7.763619429153944, 'evaluation': 7.188130442854046} step=65000\n",
      "2023-04-06 13:07.53 [info     ] Model parameters are saved to d3rlpy_logs/DoubleDQN_online_20230406130559/model_66000.pt\n",
      "2023-04-06 13:07.53 [info     ] DoubleDQN_online_20230406130559: epoch=66 step=66000 epoch=66 metrics={'time_inference': 0.0002871036529541016, 'time_environment_step': 6.902003288269043e-05, 'time_sample_batch': 5.9119462966918946e-05, 'time_algorithm_update': 0.0012309234142303467, 'loss': 10.048641548991203, 'time_step': 0.0016814873218536377, 'rollout_return': 7.115017715246742, 'evaluation': 9.48662917333927} step=66000\n",
      "2023-04-06 13:07.55 [info     ] Model parameters are saved to d3rlpy_logs/DoubleDQN_online_20230406130559/model_67000.pt\n",
      "2023-04-06 13:07.55 [info     ] DoubleDQN_online_20230406130559: epoch=67 step=67000 epoch=67 metrics={'time_inference': 0.00029399943351745607, 'time_environment_step': 7.10742473602295e-05, 'time_sample_batch': 6.0311317443847656e-05, 'time_algorithm_update': 0.0012860405445098877, 'loss': 10.015491615056991, 'time_step': 0.0017477977275848389, 'rollout_return': 7.279112033716359, 'evaluation': 8.262439586270514} step=67000\n",
      "2023-04-06 13:07.56 [info     ] Model parameters are saved to d3rlpy_logs/DoubleDQN_online_20230406130559/model_68000.pt\n",
      "2023-04-06 13:07.56 [info     ] DoubleDQN_online_20230406130559: epoch=68 step=68000 epoch=68 metrics={'time_inference': 0.00028735041618347166, 'time_environment_step': 7.005095481872559e-05, 'time_sample_batch': 5.887985229492188e-05, 'time_algorithm_update': 0.0012526166439056395, 'loss': 9.883230825848877, 'time_step': 0.0017046668529510497, 'rollout_return': 7.165780684165225, 'evaluation': 8.454228282587296} step=68000\n",
      "2023-04-06 13:07.58 [info     ] Model parameters are saved to d3rlpy_logs/DoubleDQN_online_20230406130559/model_69000.pt\n",
      "2023-04-06 13:07.58 [info     ] DoubleDQN_online_20230406130559: epoch=69 step=69000 epoch=69 metrics={'time_inference': 0.00029005074501037596, 'time_environment_step': 7.023572921752929e-05, 'time_sample_batch': 5.9439897537231445e-05, 'time_algorithm_update': 0.0012558531761169434, 'loss': 9.949982047438622, 'time_step': 0.001711317539215088, 'rollout_return': 7.16893625364833, 'evaluation': 8.625387733217629} step=69000\n",
      "2023-04-06 13:08.00 [info     ] Model parameters are saved to d3rlpy_logs/DoubleDQN_online_20230406130559/model_70000.pt\n",
      "2023-04-06 13:08.00 [info     ] DoubleDQN_online_20230406130559: epoch=70 step=70000 epoch=70 metrics={'time_inference': 0.00028443145751953124, 'time_environment_step': 6.934022903442383e-05, 'time_sample_batch': 5.842351913452148e-05, 'time_algorithm_update': 0.0012385759353637695, 'loss': 9.88145361828804, 'time_step': 0.0016860055923461914, 'rollout_return': 7.483765973679081, 'evaluation': 8.678054426915423} step=70000\n",
      "2023-04-06 13:08.02 [info     ] Model parameters are saved to d3rlpy_logs/DoubleDQN_online_20230406130559/model_71000.pt\n",
      "2023-04-06 13:08.02 [info     ] DoubleDQN_online_20230406130559: epoch=71 step=71000 epoch=71 metrics={'time_inference': 0.00028823518753051756, 'time_environment_step': 6.961107254028321e-05, 'time_sample_batch': 5.9009075164794924e-05, 'time_algorithm_update': 0.0012674028873443603, 'loss': 9.758935395777225, 'time_step': 0.0017199721336364747, 'rollout_return': 7.859734887534122, 'evaluation': 8.694935017734299} step=71000\n",
      "2023-04-06 13:08.04 [info     ] Model parameters are saved to d3rlpy_logs/DoubleDQN_online_20230406130559/model_72000.pt\n",
      "2023-04-06 13:08.04 [info     ] DoubleDQN_online_20230406130559: epoch=72 step=72000 epoch=72 metrics={'time_inference': 0.00028440141677856445, 'time_environment_step': 6.81309700012207e-05, 'time_sample_batch': 5.794310569763184e-05, 'time_algorithm_update': 0.0012092146873474122, 'loss': 9.884885148525239, 'time_step': 0.0016544806957244874, 'rollout_return': 7.77228657914972, 'evaluation': 9.314334642873638} step=72000\n",
      "2023-04-06 13:08.05 [info     ] Model parameters are saved to d3rlpy_logs/DoubleDQN_online_20230406130559/model_73000.pt\n",
      "2023-04-06 13:08.05 [info     ] DoubleDQN_online_20230406130559: epoch=73 step=73000 epoch=73 metrics={'time_inference': 0.0002828299999237061, 'time_environment_step': 6.84199333190918e-05, 'time_sample_batch': 5.7991504669189455e-05, 'time_algorithm_update': 0.001239466905593872, 'loss': 9.831423042893409, 'time_step': 0.0016836755275726318, 'rollout_return': 7.475354254244304, 'evaluation': 9.416876826031109} step=73000\n",
      "2023-04-06 13:08.07 [info     ] Model parameters are saved to d3rlpy_logs/DoubleDQN_online_20230406130559/model_74000.pt\n",
      "2023-04-06 13:08.07 [info     ] DoubleDQN_online_20230406130559: epoch=74 step=74000 epoch=74 metrics={'time_inference': 0.00027512860298156737, 'time_environment_step': 6.61623477935791e-05, 'time_sample_batch': 5.6462764739990235e-05, 'time_algorithm_update': 0.0011648042201995849, 'loss': 9.970263624072075, 'time_step': 0.001596182107925415, 'rollout_return': 7.686876761023246, 'evaluation': 8.678089173554469} step=74000\n",
      "2023-04-06 13:08.09 [info     ] Model parameters are saved to d3rlpy_logs/DoubleDQN_online_20230406130559/model_75000.pt\n",
      "2023-04-06 13:08.09 [info     ] DoubleDQN_online_20230406130559: epoch=75 step=75000 epoch=75 metrics={'time_inference': 0.0002790176868438721, 'time_environment_step': 6.718778610229492e-05, 'time_sample_batch': 5.761408805847168e-05, 'time_algorithm_update': 0.0012170639038085937, 'loss': 9.79949163308367, 'time_step': 0.0016553964614868164, 'rollout_return': 7.40783497265928, 'evaluation': 8.449946856627486} step=75000\n",
      "2023-04-06 13:08.10 [info     ] Model parameters are saved to d3rlpy_logs/DoubleDQN_online_20230406130559/model_76000.pt\n",
      "2023-04-06 13:08.10 [info     ] DoubleDQN_online_20230406130559: epoch=76 step=76000 epoch=76 metrics={'time_inference': 0.0002758800983428955, 'time_environment_step': 6.684136390686035e-05, 'time_sample_batch': 5.702018737792969e-05, 'time_algorithm_update': 0.0011949927806854247, 'loss': 9.96290528690815, 'time_step': 0.0016286368370056151, 'rollout_return': 7.563116241460012, 'evaluation': 8.503189059654389} step=76000\n",
      "2023-04-06 13:08.12 [info     ] Model parameters are saved to d3rlpy_logs/DoubleDQN_online_20230406130559/model_77000.pt\n",
      "2023-04-06 13:08.12 [info     ] DoubleDQN_online_20230406130559: epoch=77 step=77000 epoch=77 metrics={'time_inference': 0.00027568221092224123, 'time_environment_step': 6.650590896606446e-05, 'time_sample_batch': 5.693149566650391e-05, 'time_algorithm_update': 0.0011886849403381348, 'loss': 9.979426142327487, 'time_step': 0.0016220686435699462, 'rollout_return': 7.360023509448326, 'evaluation': 7.929312904592644} step=77000\n",
      "2023-04-06 13:08.14 [info     ] Model parameters are saved to d3rlpy_logs/DoubleDQN_online_20230406130559/model_78000.pt\n",
      "2023-04-06 13:08.14 [info     ] DoubleDQN_online_20230406130559: epoch=78 step=78000 epoch=78 metrics={'time_inference': 0.00026798176765441896, 'time_environment_step': 6.455421447753906e-05, 'time_sample_batch': 5.578327178955078e-05, 'time_algorithm_update': 0.001144850492477417, 'loss': 9.809756945848465, 'time_step': 0.001566190242767334, 'rollout_return': 7.35726703586691, 'evaluation': 8.196852764761607} step=78000\n",
      "2023-04-06 13:08.15 [info     ] Model parameters are saved to d3rlpy_logs/DoubleDQN_online_20230406130559/model_79000.pt\n",
      "2023-04-06 13:08.15 [info     ] DoubleDQN_online_20230406130559: epoch=79 step=79000 epoch=79 metrics={'time_inference': 0.00027277302742004396, 'time_environment_step': 6.570005416870117e-05, 'time_sample_batch': 5.62748908996582e-05, 'time_algorithm_update': 0.001172602653503418, 'loss': 9.958837273128331, 'time_step': 0.001601560115814209, 'rollout_return': 7.5043038736114225, 'evaluation': 9.406298926161856} step=79000\n",
      "2023-04-06 13:08.17 [info     ] Model parameters are saved to d3rlpy_logs/DoubleDQN_online_20230406130559/model_80000.pt\n",
      "2023-04-06 13:08.17 [info     ] DoubleDQN_online_20230406130559: epoch=80 step=80000 epoch=80 metrics={'time_inference': 0.00026595306396484376, 'time_environment_step': 6.339764595031738e-05, 'time_sample_batch': 5.456757545471191e-05, 'time_algorithm_update': 0.0011333882808685302, 'loss': 9.935397810958326, 'time_step': 0.0015498447418212892, 'rollout_return': 7.852630785718293, 'evaluation': 9.519385700031782} step=80000\n",
      "2023-04-06 13:08.19 [info     ] Model parameters are saved to d3rlpy_logs/DoubleDQN_online_20230406130559/model_81000.pt\n",
      "2023-04-06 13:08.19 [info     ] DoubleDQN_online_20230406130559: epoch=81 step=81000 epoch=81 metrics={'time_inference': 0.00027072620391845704, 'time_environment_step': 6.521320343017578e-05, 'time_sample_batch': 5.60150146484375e-05, 'time_algorithm_update': 0.001190706491470337, 'loss': 9.832118858318776, 'time_step': 0.0016159582138061523, 'rollout_return': 7.81630420188736, 'evaluation': 9.511321710055359} step=81000\n",
      "2023-04-06 13:08.20 [info     ] Model parameters are saved to d3rlpy_logs/DoubleDQN_online_20230406130559/model_82000.pt\n",
      "2023-04-06 13:08.20 [info     ] DoubleDQN_online_20230406130559: epoch=82 step=82000 epoch=82 metrics={'time_inference': 0.0002639560699462891, 'time_environment_step': 6.33559226989746e-05, 'time_sample_batch': 5.463290214538574e-05, 'time_algorithm_update': 0.001133772373199463, 'loss': 9.812638887219132, 'time_step': 0.0015481748580932616, 'rollout_return': 7.93043669157759, 'evaluation': 7.874105850890125} step=82000\n",
      "2023-04-06 13:08.22 [info     ] Model parameters are saved to d3rlpy_logs/DoubleDQN_online_20230406130559/model_83000.pt\n",
      "2023-04-06 13:08.22 [info     ] DoubleDQN_online_20230406130559: epoch=83 step=83000 epoch=83 metrics={'time_inference': 0.0002627522945404053, 'time_environment_step': 6.3720703125e-05, 'time_sample_batch': 5.494904518127442e-05, 'time_algorithm_update': 0.001133669137954712, 'loss': 9.866754479058088, 'time_step': 0.0015475850105285645, 'rollout_return': 8.029067305180016, 'evaluation': 9.343932546318921} step=83000\n",
      "2023-04-06 13:08.23 [info     ] Model parameters are saved to d3rlpy_logs/DoubleDQN_online_20230406130559/model_84000.pt\n",
      "2023-04-06 13:08.23 [info     ] DoubleDQN_online_20230406130559: epoch=84 step=84000 epoch=84 metrics={'time_inference': 0.0002704157829284668, 'time_environment_step': 6.531047821044922e-05, 'time_sample_batch': 5.602192878723145e-05, 'time_algorithm_update': 0.0011909799575805665, 'loss': 9.870684850983322, 'time_step': 0.0016163108348846435, 'rollout_return': 7.8568770005964295, 'evaluation': 9.229222389315044} step=84000\n",
      "2023-04-06 13:08.25 [info     ] Model parameters are saved to d3rlpy_logs/DoubleDQN_online_20230406130559/model_85000.pt\n",
      "2023-04-06 13:08.25 [info     ] DoubleDQN_online_20230406130559: epoch=85 step=85000 epoch=85 metrics={'time_inference': 0.00026560330390930175, 'time_environment_step': 6.449651718139648e-05, 'time_sample_batch': 5.5450916290283204e-05, 'time_algorithm_update': 0.0011631436347961427, 'loss': 9.960420603960753, 'time_step': 0.0015816867351531982, 'rollout_return': 7.444668159172907, 'evaluation': 7.152861869333054} step=85000\n",
      "2023-04-06 13:08.27 [info     ] Model parameters are saved to d3rlpy_logs/DoubleDQN_online_20230406130559/model_86000.pt\n",
      "2023-04-06 13:08.27 [info     ] DoubleDQN_online_20230406130559: epoch=86 step=86000 epoch=86 metrics={'time_inference': 0.0002656230926513672, 'time_environment_step': 6.410789489746093e-05, 'time_sample_batch': 5.5209875106811525e-05, 'time_algorithm_update': 0.0011465864181518554, 'loss': 10.005467471957207, 'time_step': 0.0015641608238220214, 'rollout_return': 7.564989708087102, 'evaluation': 9.449734600449752} step=86000\n",
      "2023-04-06 13:08.28 [info     ] Model parameters are saved to d3rlpy_logs/DoubleDQN_online_20230406130559/model_87000.pt\n",
      "2023-04-06 13:08.28 [info     ] DoubleDQN_online_20230406130559: epoch=87 step=87000 epoch=87 metrics={'time_inference': 0.0002673797607421875, 'time_environment_step': 6.418395042419433e-05, 'time_sample_batch': 5.6018590927124024e-05, 'time_algorithm_update': 0.00117690110206604, 'loss': 9.881697460651397, 'time_step': 0.001597609043121338, 'rollout_return': 7.262041188976488, 'evaluation': 8.682634294408718} step=87000\n",
      "2023-04-06 13:08.30 [info     ] Model parameters are saved to d3rlpy_logs/DoubleDQN_online_20230406130559/model_88000.pt\n",
      "2023-04-06 13:08.30 [info     ] DoubleDQN_online_20230406130559: epoch=88 step=88000 epoch=88 metrics={'time_inference': 0.000263084888458252, 'time_environment_step': 6.346535682678222e-05, 'time_sample_batch': 5.447530746459961e-05, 'time_algorithm_update': 0.0011284608840942383, 'loss': 9.74544227206707, 'time_step': 0.0015419256687164307, 'rollout_return': 7.711074569190593, 'evaluation': 7.1689452011509065} step=88000\n",
      "2023-04-06 13:08.32 [info     ] Model parameters are saved to d3rlpy_logs/DoubleDQN_online_20230406130559/model_89000.pt\n",
      "2023-04-06 13:08.32 [info     ] DoubleDQN_online_20230406130559: epoch=89 step=89000 epoch=89 metrics={'time_inference': 0.0002641339302062988, 'time_environment_step': 6.415963172912598e-05, 'time_sample_batch': 5.5281877517700195e-05, 'time_algorithm_update': 0.0011756591796875, 'loss': 9.612503206305206, 'time_step': 0.0015920636653900147, 'rollout_return': 7.428680244877001, 'evaluation': 8.183751906759436} step=89000\n",
      "2023-04-06 13:08.33 [info     ] Model parameters are saved to d3rlpy_logs/DoubleDQN_online_20230406130559/model_90000.pt\n",
      "2023-04-06 13:08.33 [info     ] DoubleDQN_online_20230406130559: epoch=90 step=90000 epoch=90 metrics={'time_inference': 0.00026201510429382324, 'time_environment_step': 6.308412551879883e-05, 'time_sample_batch': 5.419611930847168e-05, 'time_algorithm_update': 0.0011218206882476806, 'loss': 9.742578273437918, 'time_step': 0.001533245325088501, 'rollout_return': 7.477360141258223, 'evaluation': 9.445872992242997} step=90000\n",
      "2023-04-06 13:08.35 [info     ] Model parameters are saved to d3rlpy_logs/DoubleDQN_online_20230406130559/model_91000.pt\n",
      "2023-04-06 13:08.35 [info     ] DoubleDQN_online_20230406130559: epoch=91 step=91000 epoch=91 metrics={'time_inference': 0.0002567312717437744, 'time_environment_step': 6.231904029846191e-05, 'time_sample_batch': 5.3580284118652344e-05, 'time_algorithm_update': 0.0011059041023254394, 'loss': 9.828914534751325, 'time_step': 0.0015102019309997559, 'rollout_return': 7.181293614282688, 'evaluation': 8.645634822392378} step=91000\n",
      "2023-04-06 13:08.36 [info     ] Model parameters are saved to d3rlpy_logs/DoubleDQN_online_20230406130559/model_92000.pt\n",
      "2023-04-06 13:08.36 [info     ] DoubleDQN_online_20230406130559: epoch=92 step=92000 epoch=92 metrics={'time_inference': 0.00026417827606201174, 'time_environment_step': 6.372809410095215e-05, 'time_sample_batch': 5.550551414489746e-05, 'time_algorithm_update': 0.0011462838649749757, 'loss': 9.801488939721137, 'time_step': 0.0015622611045837402, 'rollout_return': 7.263095292853085, 'evaluation': 8.340161991499702} step=92000\n",
      "2023-04-06 13:08.38 [info     ] Model parameters are saved to d3rlpy_logs/DoubleDQN_online_20230406130559/model_93000.pt\n",
      "2023-04-06 13:08.38 [info     ] DoubleDQN_online_20230406130559: epoch=93 step=93000 epoch=93 metrics={'time_inference': 0.00026625633239746094, 'time_environment_step': 6.469583511352539e-05, 'time_sample_batch': 5.601334571838379e-05, 'time_algorithm_update': 0.0011431787014007568, 'loss': 9.77305735841766, 'time_step': 0.001563685894012451, 'rollout_return': 7.629572703869039, 'evaluation': 8.281454443527402} step=93000\n",
      "2023-04-06 13:08.40 [info     ] Model parameters are saved to d3rlpy_logs/DoubleDQN_online_20230406130559/model_94000.pt\n",
      "2023-04-06 13:08.40 [info     ] DoubleDQN_online_20230406130559: epoch=94 step=94000 epoch=94 metrics={'time_inference': 0.0002628498077392578, 'time_environment_step': 6.398963928222656e-05, 'time_sample_batch': 5.574321746826172e-05, 'time_algorithm_update': 0.0011443185806274414, 'loss': 9.609786993145942, 'time_step': 0.0015597114562988282, 'rollout_return': 7.53173643207469, 'evaluation': 7.508619951766491} step=94000\n",
      "2023-04-06 13:08.41 [info     ] Model parameters are saved to d3rlpy_logs/DoubleDQN_online_20230406130559/model_95000.pt\n",
      "2023-04-06 13:08.41 [info     ] DoubleDQN_online_20230406130559: epoch=95 step=95000 epoch=95 metrics={'time_inference': 0.0002553548812866211, 'time_environment_step': 6.134748458862305e-05, 'time_sample_batch': 5.295848846435547e-05, 'time_algorithm_update': 0.001106600046157837, 'loss': 9.694517732024194, 'time_step': 0.0015075674057006836, 'rollout_return': 7.330882784071514, 'evaluation': 7.368507410889391} step=95000\n",
      "2023-04-06 13:08.43 [info     ] Model parameters are saved to d3rlpy_logs/DoubleDQN_online_20230406130559/model_96000.pt\n",
      "2023-04-06 13:08.43 [info     ] DoubleDQN_online_20230406130559: epoch=96 step=96000 epoch=96 metrics={'time_inference': 0.0002489931583404541, 'time_environment_step': 6.028366088867188e-05, 'time_sample_batch': 5.254626274108887e-05, 'time_algorithm_update': 0.001077167272567749, 'loss': 9.530719415623695, 'time_step': 0.001469848394393921, 'rollout_return': 7.427326972757412, 'evaluation': 9.429465496390206} step=96000\n",
      "2023-04-06 13:08.44 [info     ] Model parameters are saved to d3rlpy_logs/DoubleDQN_online_20230406130559/model_97000.pt\n",
      "2023-04-06 13:08.44 [info     ] DoubleDQN_online_20230406130559: epoch=97 step=97000 epoch=97 metrics={'time_inference': 0.0002535748481750488, 'time_environment_step': 6.179070472717285e-05, 'time_sample_batch': 5.397486686706543e-05, 'time_algorithm_update': 0.0011265926361083984, 'loss': 9.375964323163032, 'time_step': 0.0015275702476501465, 'rollout_return': 7.648771111689244, 'evaluation': 8.0888013099409} step=97000\n",
      "2023-04-06 13:08.46 [info     ] Model parameters are saved to d3rlpy_logs/DoubleDQN_online_20230406130559/model_98000.pt\n",
      "2023-04-06 13:08.46 [info     ] DoubleDQN_online_20230406130559: epoch=98 step=98000 epoch=98 metrics={'time_inference': 0.0002491209506988525, 'time_environment_step': 6.07445240020752e-05, 'time_sample_batch': 5.2574634552001956e-05, 'time_algorithm_update': 0.001083026885986328, 'loss': 9.442094309091567, 'time_step': 0.0014764566421508788, 'rollout_return': 7.603865491058022, 'evaluation': 7.989277797132665} step=98000\n",
      "2023-04-06 13:08.47 [info     ] Model parameters are saved to d3rlpy_logs/DoubleDQN_online_20230406130559/model_99000.pt\n",
      "2023-04-06 13:08.47 [info     ] DoubleDQN_online_20230406130559: epoch=99 step=99000 epoch=99 metrics={'time_inference': 0.0002545316219329834, 'time_environment_step': 6.123709678649902e-05, 'time_sample_batch': 5.288434028625488e-05, 'time_algorithm_update': 0.0011175904273986817, 'loss': 9.534512307483704, 'time_step': 0.0015177226066589355, 'rollout_return': 7.720772869415811, 'evaluation': 8.280821289693915} step=99000\n",
      "2023-04-06 13:08.49 [info     ] Model parameters are saved to d3rlpy_logs/DoubleDQN_online_20230406130559/model_100000.pt\n",
      "2023-04-06 13:08.49 [info     ] DoubleDQN_online_20230406130559: epoch=100 step=100000 epoch=100 metrics={'time_inference': 0.00024975848197937014, 'time_environment_step': 6.0428857803344725e-05, 'time_sample_batch': 5.258536338806152e-05, 'time_algorithm_update': 0.0010735180377960205, 'loss': 9.249592049099505, 'time_step': 0.0014670963287353516, 'rollout_return': 8.298867994036408, 'evaluation': 9.501867246838744} step=100000\n"
     ]
    },
    {
     "data": {
      "application/vnd.jupyter.widget-view+json": {
       "model_id": "c0c95189b4bd4ab4b4c5047696b0baa1",
       "version_major": 2,
       "version_minor": 0
      },
      "text/plain": [
       "[obtain_trajectories]:   0%|          | 0/10000 [00:00<?, ?it/s]"
      ]
     },
     "metadata": {},
     "output_type": "display_data"
    },
    {
     "data": {
      "application/vnd.jupyter.widget-view+json": {
       "model_id": "75e99c4522ac412a904d65e0e3a9f3ff",
       "version_major": 2,
       "version_minor": 0
      },
      "text/plain": [
       "[obtain_trajectories]:   0%|          | 0/10000 [00:00<?, ?it/s]"
      ]
     },
     "metadata": {},
     "output_type": "display_data"
    },
    {
     "name": "stdout",
     "output_type": "stream",
     "text": [
      "2023-04-06 13:10.27 [debug    ] RandomIterator is selected.\n",
      "2023-04-06 13:10.27 [info     ] Directory is created at d3rlpy_logs/DiscreteCQL_20230406131027\n",
      "2023-04-06 13:10.27 [debug    ] Building models...\n",
      "2023-04-06 13:10.27 [debug    ] Models have been built.\n",
      "2023-04-06 13:10.27 [info     ] Parameters are saved to d3rlpy_logs/DiscreteCQL_20230406131027/params.json params={'action_scaler': None, 'alpha': 1.0, 'batch_size': 32, 'encoder_factory': {'type': 'vector', 'params': {'hidden_units': [30, 30], 'activation': 'relu', 'use_batch_norm': False, 'dropout_rate': None, 'use_dense': False}}, 'gamma': 0.99, 'generated_maxlen': 100000, 'learning_rate': 6.25e-05, 'n_critics': 1, 'n_frames': 1, 'n_steps': 1, 'optim_factory': {'optim_cls': 'Adam', 'betas': (0.9, 0.999), 'eps': 1e-08, 'weight_decay': 0, 'amsgrad': False}, 'q_func_factory': {'type': 'mean', 'params': {'share_encoder': False}}, 'real_ratio': 1.0, 'reward_scaler': None, 'scaler': None, 'target_update_interval': 8000, 'use_gpu': None, 'algorithm': 'DiscreteCQL', 'observation_shape': (5,), 'action_size': 15}\n"
     ]
    },
    {
     "data": {
      "application/vnd.jupyter.widget-view+json": {
       "model_id": "033fd0fca8db492fab463851bd90d008",
       "version_major": 2,
       "version_minor": 0
      },
      "text/plain": [
       "Epoch 1/1:   0%|          | 0/10000 [00:00<?, ?it/s]"
      ]
     },
     "metadata": {},
     "output_type": "display_data"
    },
    {
     "name": "stdout",
     "output_type": "stream",
     "text": [
      "2023-04-06 13:10.47 [info     ] DiscreteCQL_20230406131027: epoch=1 step=10000 epoch=1 metrics={'time_sample_batch': 0.00013958613872528075, 'time_algorithm_update': 0.0017695564031600952, 'loss': 1.9265155671536922, 'time_step': 0.002027824878692627} step=10000\n",
      "2023-04-06 13:10.47 [info     ] Model parameters are saved to d3rlpy_logs/DiscreteCQL_20230406131027/model_10000.pt\n"
     ]
    },
    {
     "data": {
      "application/vnd.jupyter.widget-view+json": {
       "model_id": "68f452f9f8264ef78970de6f4b443947",
       "version_major": 2,
       "version_minor": 0
      },
      "text/plain": [
       "[fit FQE model]:   0%|          | 0/2 [00:00<?, ?it/s]"
      ]
     },
     "metadata": {},
     "output_type": "display_data"
    },
    {
     "name": "stdout",
     "output_type": "stream",
     "text": [
      "2023-04-06 13:10.48 [debug    ] RoundIterator is selected.\n",
      "2023-04-06 13:10.48 [info     ] Directory is created at d3rlpy_logs/DiscreteFQE_20230406131048\n",
      "2023-04-06 13:10.48 [debug    ] Fitting scaler...              scaler=min_max\n",
      "2023-04-06 13:10.48 [debug    ] Building models...\n",
      "2023-04-06 13:10.48 [debug    ] Models have been built.\n",
      "2023-04-06 13:10.48 [info     ] Parameters are saved to d3rlpy_logs/DiscreteFQE_20230406131048/params.json params={'action_scaler': None, 'batch_size': 100, 'encoder_factory': {'type': 'vector', 'params': {'hidden_units': [30, 30], 'activation': 'relu', 'use_batch_norm': False, 'dropout_rate': None, 'use_dense': False}}, 'gamma': 0.95, 'generated_maxlen': 100000, 'learning_rate': 0.0001, 'n_critics': 1, 'n_frames': 1, 'n_steps': 1, 'optim_factory': {'optim_cls': 'Adam', 'betas': (0.9, 0.999), 'eps': 1e-08, 'weight_decay': 0, 'amsgrad': False}, 'q_func_factory': {'type': 'mean', 'params': {'share_encoder': False}}, 'real_ratio': 1.0, 'reward_scaler': None, 'scaler': {'type': 'min_max', 'params': {'maximum': array([0.98860703, 0.98765528, 0.99590232, 0.98676617, 0.99416037]), 'minimum': array([-0.99465054, -0.9926474 , -0.99050546, -0.99858019, -0.98927816])}}, 'target_update_interval': 100, 'use_gpu': None, 'algorithm': 'DiscreteFQE', 'observation_shape': (5,), 'action_size': 15}\n"
     ]
    },
    {
     "data": {
      "application/vnd.jupyter.widget-view+json": {
       "model_id": "22be33fb1e2d44bf9cbc4ee640151493",
       "version_major": 2,
       "version_minor": 0
      },
      "text/plain": [
       "Epoch 1/1:   0%|          | 0/1000 [00:00<?, ?it/s]"
      ]
     },
     "metadata": {},
     "output_type": "display_data"
    },
    {
     "name": "stdout",
     "output_type": "stream",
     "text": [
      "2023-04-06 13:10.50 [info     ] DiscreteFQE_20230406131048: epoch=1 step=1000 epoch=1 metrics={'time_sample_batch': 0.00018234944343566893, 'time_algorithm_update': 0.0017007775306701661, 'loss': 0.2684076359421015, 'time_step': 0.0019732608795166016} step=1000\n",
      "2023-04-06 13:10.50 [info     ] Model parameters are saved to d3rlpy_logs/DiscreteFQE_20230406131048/model_1000.pt\n",
      "2023-04-06 13:10.50 [debug    ] RoundIterator is selected.\n",
      "2023-04-06 13:10.50 [info     ] Directory is created at d3rlpy_logs/DiscreteFQE_20230406131050\n",
      "2023-04-06 13:10.50 [debug    ] Fitting scaler...              scaler=min_max\n",
      "2023-04-06 13:10.50 [debug    ] Building models...\n",
      "2023-04-06 13:10.50 [debug    ] Models have been built.\n",
      "2023-04-06 13:10.50 [info     ] Parameters are saved to d3rlpy_logs/DiscreteFQE_20230406131050/params.json params={'action_scaler': None, 'batch_size': 100, 'encoder_factory': {'type': 'vector', 'params': {'hidden_units': [30, 30], 'activation': 'relu', 'use_batch_norm': False, 'dropout_rate': None, 'use_dense': False}}, 'gamma': 0.95, 'generated_maxlen': 100000, 'learning_rate': 0.0001, 'n_critics': 1, 'n_frames': 1, 'n_steps': 1, 'optim_factory': {'optim_cls': 'Adam', 'betas': (0.9, 0.999), 'eps': 1e-08, 'weight_decay': 0, 'amsgrad': False}, 'q_func_factory': {'type': 'mean', 'params': {'share_encoder': False}}, 'real_ratio': 1.0, 'reward_scaler': None, 'scaler': {'type': 'min_max', 'params': {'maximum': array([0.98860703, 0.98765528, 0.99590232, 0.98676617, 0.99416037]), 'minimum': array([-0.99465054, -0.9926474 , -0.99050546, -0.99858019, -0.98927816])}}, 'target_update_interval': 100, 'use_gpu': None, 'algorithm': 'DiscreteFQE', 'observation_shape': (5,), 'action_size': 15}\n"
     ]
    },
    {
     "data": {
      "application/vnd.jupyter.widget-view+json": {
       "model_id": "60c8b46995d043408eed0f04885f6cd5",
       "version_major": 2,
       "version_minor": 0
      },
      "text/plain": [
       "Epoch 1/1:   0%|          | 0/1000 [00:00<?, ?it/s]"
      ]
     },
     "metadata": {},
     "output_type": "display_data"
    },
    {
     "name": "stdout",
     "output_type": "stream",
     "text": [
      "2023-04-06 13:10.52 [info     ] DiscreteFQE_20230406131050: epoch=1 step=1000 epoch=1 metrics={'time_sample_batch': 0.00016608047485351562, 'time_algorithm_update': 0.0018060343265533447, 'loss': 0.3218949088305235, 'time_step': 0.002058647394180298} step=1000\n",
      "2023-04-06 13:10.52 [info     ] Model parameters are saved to d3rlpy_logs/DiscreteFQE_20230406131050/model_1000.pt\n"
     ]
    },
    {
     "data": {
      "application/vnd.jupyter.widget-view+json": {
       "model_id": "621f32014afd4749965756522b4451be",
       "version_major": 2,
       "version_minor": 0
      },
      "text/plain": [
       "[fit MWL model]:   0%|          | 0/2 [00:00<?, ?it/s]"
      ]
     },
     "metadata": {},
     "output_type": "display_data"
    },
    {
     "data": {
      "application/vnd.jupyter.widget-view+json": {
       "model_id": "e163a28b9fa64130a3c660e11eacfc13",
       "version_major": 2,
       "version_minor": 0
      },
      "text/plain": [
       "[fitting_weight_function]:   0%|          | 0/100 [00:00<?, ?it/s]"
      ]
     },
     "metadata": {},
     "output_type": "display_data"
    },
    {
     "data": {
      "application/vnd.jupyter.widget-view+json": {
       "model_id": "bb29ee00f31048408530922233dc6453",
       "version_major": 2,
       "version_minor": 0
      },
      "text/plain": [
       "[fitting_weight_function]:   0%|          | 0/100 [00:00<?, ?it/s]"
      ]
     },
     "metadata": {},
     "output_type": "display_data"
    },
    {
     "data": {
      "application/vnd.jupyter.widget-view+json": {
       "model_id": "7de9e1c60b194b5088bf08988d568230",
       "version_major": 2,
       "version_minor": 0
      },
      "text/plain": [
       "[fitting_weight_function]:   0%|          | 0/100 [00:00<?, ?it/s]"
      ]
     },
     "metadata": {},
     "output_type": "display_data"
    },
    {
     "data": {
      "application/vnd.jupyter.widget-view+json": {
       "model_id": "3f9816384e0a474396f085db671ec25a",
       "version_major": 2,
       "version_minor": 0
      },
      "text/plain": [
       "[fitting_weight_function]:   0%|          | 0/100 [00:00<?, ?it/s]"
      ]
     },
     "metadata": {},
     "output_type": "display_data"
    },
    {
     "data": {
      "application/vnd.jupyter.widget-view+json": {
       "model_id": "aefc9ff23d404ba9a0ca26e05cdb12f4",
       "version_major": 2,
       "version_minor": 0
      },
      "text/plain": [
       "[collect input data: eval_policy]:   0%|          | 0/2 [00:00<?, ?it/s]"
      ]
     },
     "metadata": {},
     "output_type": "display_data"
    },
    {
     "data": {
      "application/vnd.jupyter.widget-view+json": {
       "model_id": "e3b3a9516939401fb2006b4f14d41ba4",
       "version_major": 2,
       "version_minor": 0
      },
      "text/plain": [
       "[calculate on-policy policy value]:   0%|          | 0/100 [00:00<?, ?it/s]"
      ]
     },
     "metadata": {},
     "output_type": "display_data"
    },
    {
     "data": {
      "application/vnd.jupyter.widget-view+json": {
       "model_id": "f3fe5f280cd84369bbbe2ea5e2b28cb5",
       "version_major": 2,
       "version_minor": 0
      },
      "text/plain": [
       "[calculate on-policy policy value]:   0%|          | 0/100 [00:00<?, ?it/s]"
      ]
     },
     "metadata": {},
     "output_type": "display_data"
    },
    {
     "name": "stderr",
     "output_type": "stream",
     "text": [
      "/Users/ren/dev/ofrl/tutorial/../ofrl/ope/estimators_base.py:445: RuntimeWarning: invalid value encountered in divide\n",
      "  return numerator / denominator\n"
     ]
    },
    {
     "data": {
      "application/vnd.jupyter.widget-view+json": {
       "model_id": "6e5fe93e06f446d2b94a9870b2261e97",
       "version_major": 2,
       "version_minor": 0
      },
      "text/plain": [
       "[obtain_trajectories]:   0%|          | 0/10000 [00:00<?, ?it/s]"
      ]
     },
     "metadata": {},
     "output_type": "display_data"
    },
    {
     "data": {
      "application/vnd.jupyter.widget-view+json": {
       "model_id": "222298f73d5040859ed3cdfa22c9bd5a",
       "version_major": 2,
       "version_minor": 0
      },
      "text/plain": [
       "[obtain_trajectories]:   0%|          | 0/10000 [00:00<?, ?it/s]"
      ]
     },
     "metadata": {},
     "output_type": "display_data"
    },
    {
     "name": "stdout",
     "output_type": "stream",
     "text": [
      "2023-04-06 13:13.32 [debug    ] RandomIterator is selected.\n",
      "2023-04-06 13:13.32 [info     ] Directory is created at d3rlpy_logs/DiscreteCQL_20230406131332\n",
      "2023-04-06 13:13.32 [debug    ] Building models...\n",
      "2023-04-06 13:13.32 [debug    ] Models have been built.\n",
      "2023-04-06 13:13.32 [info     ] Parameters are saved to d3rlpy_logs/DiscreteCQL_20230406131332/params.json params={'action_scaler': None, 'alpha': 1.0, 'batch_size': 32, 'encoder_factory': {'type': 'vector', 'params': {'hidden_units': [30, 30], 'activation': 'relu', 'use_batch_norm': False, 'dropout_rate': None, 'use_dense': False}}, 'gamma': 0.99, 'generated_maxlen': 100000, 'learning_rate': 6.25e-05, 'n_critics': 1, 'n_frames': 1, 'n_steps': 1, 'optim_factory': {'optim_cls': 'Adam', 'betas': (0.9, 0.999), 'eps': 1e-08, 'weight_decay': 0, 'amsgrad': False}, 'q_func_factory': {'type': 'mean', 'params': {'share_encoder': False}}, 'real_ratio': 1.0, 'reward_scaler': None, 'scaler': None, 'target_update_interval': 8000, 'use_gpu': None, 'algorithm': 'DiscreteCQL', 'observation_shape': (5,), 'action_size': 15}\n"
     ]
    },
    {
     "data": {
      "application/vnd.jupyter.widget-view+json": {
       "model_id": "ee7f480a9742488dbdb16a6e5f6ccfe8",
       "version_major": 2,
       "version_minor": 0
      },
      "text/plain": [
       "Epoch 1/1:   0%|          | 0/10000 [00:00<?, ?it/s]"
      ]
     },
     "metadata": {},
     "output_type": "display_data"
    },
    {
     "name": "stdout",
     "output_type": "stream",
     "text": [
      "2023-04-06 13:13.53 [info     ] DiscreteCQL_20230406131332: epoch=1 step=10000 epoch=1 metrics={'time_sample_batch': 0.00013962137699127198, 'time_algorithm_update': 0.0017571816682815551, 'loss': 1.9164795878648757, 'time_step': 0.0020141547918319704} step=10000\n",
      "2023-04-06 13:13.53 [info     ] Model parameters are saved to d3rlpy_logs/DiscreteCQL_20230406131332/model_10000.pt\n"
     ]
    },
    {
     "data": {
      "application/vnd.jupyter.widget-view+json": {
       "model_id": "1c7efde4b2fa4ec2a3db49306c2037d8",
       "version_major": 2,
       "version_minor": 0
      },
      "text/plain": [
       "[fit FQE model]:   0%|          | 0/2 [00:00<?, ?it/s]"
      ]
     },
     "metadata": {},
     "output_type": "display_data"
    },
    {
     "name": "stdout",
     "output_type": "stream",
     "text": [
      "2023-04-06 13:13.53 [debug    ] RoundIterator is selected.\n",
      "2023-04-06 13:13.53 [info     ] Directory is created at d3rlpy_logs/DiscreteFQE_20230406131353\n",
      "2023-04-06 13:13.53 [debug    ] Fitting scaler...              scaler=min_max\n",
      "2023-04-06 13:13.53 [debug    ] Building models...\n",
      "2023-04-06 13:13.53 [debug    ] Models have been built.\n",
      "2023-04-06 13:13.53 [info     ] Parameters are saved to d3rlpy_logs/DiscreteFQE_20230406131353/params.json params={'action_scaler': None, 'batch_size': 100, 'encoder_factory': {'type': 'vector', 'params': {'hidden_units': [30, 30], 'activation': 'relu', 'use_batch_norm': False, 'dropout_rate': None, 'use_dense': False}}, 'gamma': 0.95, 'generated_maxlen': 100000, 'learning_rate': 0.0001, 'n_critics': 1, 'n_frames': 1, 'n_steps': 1, 'optim_factory': {'optim_cls': 'Adam', 'betas': (0.9, 0.999), 'eps': 1e-08, 'weight_decay': 0, 'amsgrad': False}, 'q_func_factory': {'type': 'mean', 'params': {'share_encoder': False}}, 'real_ratio': 1.0, 'reward_scaler': None, 'scaler': {'type': 'min_max', 'params': {'maximum': array([0.98684053, 0.99595451, 0.99244902, 0.99284159, 0.99604881]), 'minimum': array([-0.98790897, -0.98005768, -0.99424953, -0.99782732, -0.98615869])}}, 'target_update_interval': 100, 'use_gpu': None, 'algorithm': 'DiscreteFQE', 'observation_shape': (5,), 'action_size': 15}\n"
     ]
    },
    {
     "data": {
      "application/vnd.jupyter.widget-view+json": {
       "model_id": "5ccbc0c2b20c4860945b9005da8deefc",
       "version_major": 2,
       "version_minor": 0
      },
      "text/plain": [
       "Epoch 1/1:   0%|          | 0/1000 [00:00<?, ?it/s]"
      ]
     },
     "metadata": {},
     "output_type": "display_data"
    },
    {
     "name": "stdout",
     "output_type": "stream",
     "text": [
      "2023-04-06 13:13.55 [info     ] DiscreteFQE_20230406131353: epoch=1 step=1000 epoch=1 metrics={'time_sample_batch': 0.0001617119312286377, 'time_algorithm_update': 0.0017331445217132568, 'loss': 0.32593057061731817, 'time_step': 0.0019754559993743898} step=1000\n",
      "2023-04-06 13:13.55 [info     ] Model parameters are saved to d3rlpy_logs/DiscreteFQE_20230406131353/model_1000.pt\n",
      "2023-04-06 13:13.55 [debug    ] RoundIterator is selected.\n",
      "2023-04-06 13:13.55 [info     ] Directory is created at d3rlpy_logs/DiscreteFQE_20230406131355\n",
      "2023-04-06 13:13.55 [debug    ] Fitting scaler...              scaler=min_max\n",
      "2023-04-06 13:13.55 [debug    ] Building models...\n",
      "2023-04-06 13:13.55 [debug    ] Models have been built.\n",
      "2023-04-06 13:13.55 [info     ] Parameters are saved to d3rlpy_logs/DiscreteFQE_20230406131355/params.json params={'action_scaler': None, 'batch_size': 100, 'encoder_factory': {'type': 'vector', 'params': {'hidden_units': [30, 30], 'activation': 'relu', 'use_batch_norm': False, 'dropout_rate': None, 'use_dense': False}}, 'gamma': 0.95, 'generated_maxlen': 100000, 'learning_rate': 0.0001, 'n_critics': 1, 'n_frames': 1, 'n_steps': 1, 'optim_factory': {'optim_cls': 'Adam', 'betas': (0.9, 0.999), 'eps': 1e-08, 'weight_decay': 0, 'amsgrad': False}, 'q_func_factory': {'type': 'mean', 'params': {'share_encoder': False}}, 'real_ratio': 1.0, 'reward_scaler': None, 'scaler': {'type': 'min_max', 'params': {'maximum': array([0.98684053, 0.99595451, 0.99244902, 0.99284159, 0.99604881]), 'minimum': array([-0.98790897, -0.98005768, -0.99424953, -0.99782732, -0.98615869])}}, 'target_update_interval': 100, 'use_gpu': None, 'algorithm': 'DiscreteFQE', 'observation_shape': (5,), 'action_size': 15}\n"
     ]
    },
    {
     "data": {
      "application/vnd.jupyter.widget-view+json": {
       "model_id": "96997fec6878489fb462634a7d04a8c7",
       "version_major": 2,
       "version_minor": 0
      },
      "text/plain": [
       "Epoch 1/1:   0%|          | 0/1000 [00:00<?, ?it/s]"
      ]
     },
     "metadata": {},
     "output_type": "display_data"
    },
    {
     "name": "stdout",
     "output_type": "stream",
     "text": [
      "2023-04-06 13:13.57 [info     ] DiscreteFQE_20230406131355: epoch=1 step=1000 epoch=1 metrics={'time_sample_batch': 0.00015943455696105957, 'time_algorithm_update': 0.0016350877285003663, 'loss': 0.32963313069939615, 'time_step': 0.0018684298992156982} step=1000\n",
      "2023-04-06 13:13.57 [info     ] Model parameters are saved to d3rlpy_logs/DiscreteFQE_20230406131355/model_1000.pt\n"
     ]
    },
    {
     "data": {
      "application/vnd.jupyter.widget-view+json": {
       "model_id": "29947532b9054f1abeb2da30ff6e1d43",
       "version_major": 2,
       "version_minor": 0
      },
      "text/plain": [
       "[fit MWL model]:   0%|          | 0/2 [00:00<?, ?it/s]"
      ]
     },
     "metadata": {},
     "output_type": "display_data"
    },
    {
     "data": {
      "application/vnd.jupyter.widget-view+json": {
       "model_id": "c6eb3c46263a4fa4aebcb4c18d3c580b",
       "version_major": 2,
       "version_minor": 0
      },
      "text/plain": [
       "[fitting_weight_function]:   0%|          | 0/100 [00:00<?, ?it/s]"
      ]
     },
     "metadata": {},
     "output_type": "display_data"
    },
    {
     "data": {
      "application/vnd.jupyter.widget-view+json": {
       "model_id": "9df14ba280a4423586f8a4c289085000",
       "version_major": 2,
       "version_minor": 0
      },
      "text/plain": [
       "[fitting_weight_function]:   0%|          | 0/100 [00:00<?, ?it/s]"
      ]
     },
     "metadata": {},
     "output_type": "display_data"
    },
    {
     "data": {
      "application/vnd.jupyter.widget-view+json": {
       "model_id": "952a01ebda7d4e0ebc6641aeccc6a915",
       "version_major": 2,
       "version_minor": 0
      },
      "text/plain": [
       "[fitting_weight_function]:   0%|          | 0/100 [00:00<?, ?it/s]"
      ]
     },
     "metadata": {},
     "output_type": "display_data"
    },
    {
     "data": {
      "application/vnd.jupyter.widget-view+json": {
       "model_id": "62fa765027894cc38bf1a3b14ee2ce50",
       "version_major": 2,
       "version_minor": 0
      },
      "text/plain": [
       "[fitting_weight_function]:   0%|          | 0/100 [00:00<?, ?it/s]"
      ]
     },
     "metadata": {},
     "output_type": "display_data"
    },
    {
     "data": {
      "application/vnd.jupyter.widget-view+json": {
       "model_id": "45a55586b27846468024a8d9645f749d",
       "version_major": 2,
       "version_minor": 0
      },
      "text/plain": [
       "[collect input data: eval_policy]:   0%|          | 0/2 [00:00<?, ?it/s]"
      ]
     },
     "metadata": {},
     "output_type": "display_data"
    },
    {
     "data": {
      "application/vnd.jupyter.widget-view+json": {
       "model_id": "982860c67fdb470498b7797582677d40",
       "version_major": 2,
       "version_minor": 0
      },
      "text/plain": [
       "[calculate on-policy policy value]:   0%|          | 0/100 [00:00<?, ?it/s]"
      ]
     },
     "metadata": {},
     "output_type": "display_data"
    },
    {
     "data": {
      "application/vnd.jupyter.widget-view+json": {
       "model_id": "c43e037263c346508099fd8084fbd492",
       "version_major": 2,
       "version_minor": 0
      },
      "text/plain": [
       "[calculate on-policy policy value]:   0%|          | 0/100 [00:00<?, ?it/s]"
      ]
     },
     "metadata": {},
     "output_type": "display_data"
    },
    {
     "name": "stderr",
     "output_type": "stream",
     "text": [
      "/Users/ren/dev/ofrl/tutorial/../ofrl/ope/estimators_base.py:445: RuntimeWarning: invalid value encountered in divide\n",
      "  return numerator / denominator\n"
     ]
    },
    {
     "data": {
      "application/vnd.jupyter.widget-view+json": {
       "model_id": "fd8e7711e04e45cc8e2661fda943ad5d",
       "version_major": 2,
       "version_minor": 0
      },
      "text/plain": [
       "[obtain_trajectories]:   0%|          | 0/10000 [00:00<?, ?it/s]"
      ]
     },
     "metadata": {},
     "output_type": "display_data"
    },
    {
     "data": {
      "application/vnd.jupyter.widget-view+json": {
       "model_id": "f4e9a6d27f474d2594f851a16c334cf6",
       "version_major": 2,
       "version_minor": 0
      },
      "text/plain": [
       "[obtain_trajectories]:   0%|          | 0/10000 [00:00<?, ?it/s]"
      ]
     },
     "metadata": {},
     "output_type": "display_data"
    },
    {
     "name": "stdout",
     "output_type": "stream",
     "text": [
      "2023-04-06 13:31.39 [debug    ] RandomIterator is selected.\n",
      "2023-04-06 13:31.39 [info     ] Directory is created at d3rlpy_logs/DiscreteCQL_20230406133139\n",
      "2023-04-06 13:31.39 [debug    ] Building models...\n",
      "2023-04-06 13:31.39 [debug    ] Models have been built.\n",
      "2023-04-06 13:31.39 [info     ] Parameters are saved to d3rlpy_logs/DiscreteCQL_20230406133139/params.json params={'action_scaler': None, 'alpha': 1.0, 'batch_size': 32, 'encoder_factory': {'type': 'vector', 'params': {'hidden_units': [30, 30], 'activation': 'relu', 'use_batch_norm': False, 'dropout_rate': None, 'use_dense': False}}, 'gamma': 0.99, 'generated_maxlen': 100000, 'learning_rate': 6.25e-05, 'n_critics': 1, 'n_frames': 1, 'n_steps': 1, 'optim_factory': {'optim_cls': 'Adam', 'betas': (0.9, 0.999), 'eps': 1e-08, 'weight_decay': 0, 'amsgrad': False}, 'q_func_factory': {'type': 'mean', 'params': {'share_encoder': False}}, 'real_ratio': 1.0, 'reward_scaler': None, 'scaler': None, 'target_update_interval': 8000, 'use_gpu': None, 'algorithm': 'DiscreteCQL', 'observation_shape': (5,), 'action_size': 15}\n"
     ]
    },
    {
     "data": {
      "application/vnd.jupyter.widget-view+json": {
       "model_id": "5906c9aab4ea40b286a91ec068f32fb6",
       "version_major": 2,
       "version_minor": 0
      },
      "text/plain": [
       "Epoch 1/1:   0%|          | 0/10000 [00:00<?, ?it/s]"
      ]
     },
     "metadata": {},
     "output_type": "display_data"
    },
    {
     "name": "stdout",
     "output_type": "stream",
     "text": [
      "2023-04-06 13:31.50 [info     ] DiscreteCQL_20230406133139: epoch=1 step=10000 epoch=1 metrics={'time_sample_batch': 7.525219917297364e-05, 'time_algorithm_update': 0.0010293154954910278, 'loss': 1.8663149156451224, 'time_step': 0.0011687113285064697} step=10000\n",
      "2023-04-06 13:31.50 [info     ] Model parameters are saved to d3rlpy_logs/DiscreteCQL_20230406133139/model_10000.pt\n"
     ]
    },
    {
     "data": {
      "application/vnd.jupyter.widget-view+json": {
       "model_id": "2dbc7f79ece64f06805c1f166d5f6ef0",
       "version_major": 2,
       "version_minor": 0
      },
      "text/plain": [
       "[fit FQE model]:   0%|          | 0/2 [00:00<?, ?it/s]"
      ]
     },
     "metadata": {},
     "output_type": "display_data"
    },
    {
     "name": "stdout",
     "output_type": "stream",
     "text": [
      "2023-04-06 13:31.51 [debug    ] RoundIterator is selected.\n",
      "2023-04-06 13:31.51 [info     ] Directory is created at d3rlpy_logs/DiscreteFQE_20230406133151\n",
      "2023-04-06 13:31.51 [debug    ] Fitting scaler...              scaler=min_max\n",
      "2023-04-06 13:31.51 [debug    ] Building models...\n",
      "2023-04-06 13:31.51 [debug    ] Models have been built.\n",
      "2023-04-06 13:31.51 [info     ] Parameters are saved to d3rlpy_logs/DiscreteFQE_20230406133151/params.json params={'action_scaler': None, 'batch_size': 100, 'encoder_factory': {'type': 'vector', 'params': {'hidden_units': [30, 30], 'activation': 'relu', 'use_batch_norm': False, 'dropout_rate': None, 'use_dense': False}}, 'gamma': 0.95, 'generated_maxlen': 100000, 'learning_rate': 0.0001, 'n_critics': 1, 'n_frames': 1, 'n_steps': 1, 'optim_factory': {'optim_cls': 'Adam', 'betas': (0.9, 0.999), 'eps': 1e-08, 'weight_decay': 0, 'amsgrad': False}, 'q_func_factory': {'type': 'mean', 'params': {'share_encoder': False}}, 'real_ratio': 1.0, 'reward_scaler': None, 'scaler': {'type': 'min_max', 'params': {'maximum': array([0.98888034, 0.98424413, 0.9930543 , 0.99669379, 0.99557442]), 'minimum': array([-0.98765138, -0.99484266, -0.99168536, -0.99911086, -0.98976904])}}, 'target_update_interval': 100, 'use_gpu': None, 'algorithm': 'DiscreteFQE', 'observation_shape': (5,), 'action_size': 15}\n"
     ]
    },
    {
     "data": {
      "application/vnd.jupyter.widget-view+json": {
       "model_id": "245a1694d8f844dfa2633c3f471383ea",
       "version_major": 2,
       "version_minor": 0
      },
      "text/plain": [
       "Epoch 1/1:   0%|          | 0/1000 [00:00<?, ?it/s]"
      ]
     },
     "metadata": {},
     "output_type": "display_data"
    },
    {
     "name": "stdout",
     "output_type": "stream",
     "text": [
      "2023-04-06 13:31.52 [info     ] DiscreteFQE_20230406133151: epoch=1 step=1000 epoch=1 metrics={'time_sample_batch': 9.19783115386963e-05, 'time_algorithm_update': 0.0009235563278198242, 'loss': 0.28144328138977287, 'time_step': 0.001057399034500122} step=1000\n",
      "2023-04-06 13:31.52 [info     ] Model parameters are saved to d3rlpy_logs/DiscreteFQE_20230406133151/model_1000.pt\n",
      "2023-04-06 13:31.52 [debug    ] RoundIterator is selected.\n",
      "2023-04-06 13:31.52 [info     ] Directory is created at d3rlpy_logs/DiscreteFQE_20230406133152\n",
      "2023-04-06 13:31.52 [debug    ] Fitting scaler...              scaler=min_max\n",
      "2023-04-06 13:31.52 [debug    ] Building models...\n",
      "2023-04-06 13:31.52 [debug    ] Models have been built.\n",
      "2023-04-06 13:31.52 [info     ] Parameters are saved to d3rlpy_logs/DiscreteFQE_20230406133152/params.json params={'action_scaler': None, 'batch_size': 100, 'encoder_factory': {'type': 'vector', 'params': {'hidden_units': [30, 30], 'activation': 'relu', 'use_batch_norm': False, 'dropout_rate': None, 'use_dense': False}}, 'gamma': 0.95, 'generated_maxlen': 100000, 'learning_rate': 0.0001, 'n_critics': 1, 'n_frames': 1, 'n_steps': 1, 'optim_factory': {'optim_cls': 'Adam', 'betas': (0.9, 0.999), 'eps': 1e-08, 'weight_decay': 0, 'amsgrad': False}, 'q_func_factory': {'type': 'mean', 'params': {'share_encoder': False}}, 'real_ratio': 1.0, 'reward_scaler': None, 'scaler': {'type': 'min_max', 'params': {'maximum': array([0.98888034, 0.98424413, 0.9930543 , 0.99669379, 0.99557442]), 'minimum': array([-0.98765138, -0.99484266, -0.99168536, -0.99911086, -0.98976904])}}, 'target_update_interval': 100, 'use_gpu': None, 'algorithm': 'DiscreteFQE', 'observation_shape': (5,), 'action_size': 15}\n"
     ]
    },
    {
     "data": {
      "application/vnd.jupyter.widget-view+json": {
       "model_id": "1ba491eb341048469c5e8bca699b83cd",
       "version_major": 2,
       "version_minor": 0
      },
      "text/plain": [
       "Epoch 1/1:   0%|          | 0/1000 [00:00<?, ?it/s]"
      ]
     },
     "metadata": {},
     "output_type": "display_data"
    },
    {
     "name": "stdout",
     "output_type": "stream",
     "text": [
      "2023-04-06 13:31.53 [info     ] DiscreteFQE_20230406133152: epoch=1 step=1000 epoch=1 metrics={'time_sample_batch': 9.413552284240723e-05, 'time_algorithm_update': 0.0009555981159210205, 'loss': 0.2754204522669315, 'time_step': 0.0010940983295440673} step=1000\n",
      "2023-04-06 13:31.53 [info     ] Model parameters are saved to d3rlpy_logs/DiscreteFQE_20230406133152/model_1000.pt\n"
     ]
    },
    {
     "data": {
      "application/vnd.jupyter.widget-view+json": {
       "model_id": "22e7e9138c074effbfcda57edf577a82",
       "version_major": 2,
       "version_minor": 0
      },
      "text/plain": [
       "[fit MWL model]:   0%|          | 0/2 [00:00<?, ?it/s]"
      ]
     },
     "metadata": {},
     "output_type": "display_data"
    },
    {
     "data": {
      "application/vnd.jupyter.widget-view+json": {
       "model_id": "9d8c148ae29942f4bec97b4033d0ec18",
       "version_major": 2,
       "version_minor": 0
      },
      "text/plain": [
       "[fitting_weight_function]:   0%|          | 0/100 [00:00<?, ?it/s]"
      ]
     },
     "metadata": {},
     "output_type": "display_data"
    },
    {
     "data": {
      "application/vnd.jupyter.widget-view+json": {
       "model_id": "4263a1963710433e835ea5998c695f43",
       "version_major": 2,
       "version_minor": 0
      },
      "text/plain": [
       "[fitting_weight_function]:   0%|          | 0/100 [00:00<?, ?it/s]"
      ]
     },
     "metadata": {},
     "output_type": "display_data"
    },
    {
     "data": {
      "application/vnd.jupyter.widget-view+json": {
       "model_id": "76f32a65814347b497c6a9d5f55c5359",
       "version_major": 2,
       "version_minor": 0
      },
      "text/plain": [
       "[fitting_weight_function]:   0%|          | 0/100 [00:00<?, ?it/s]"
      ]
     },
     "metadata": {},
     "output_type": "display_data"
    },
    {
     "data": {
      "application/vnd.jupyter.widget-view+json": {
       "model_id": "15b317820c874bb3b1967c37dd606467",
       "version_major": 2,
       "version_minor": 0
      },
      "text/plain": [
       "[fitting_weight_function]:   0%|          | 0/100 [00:00<?, ?it/s]"
      ]
     },
     "metadata": {},
     "output_type": "display_data"
    },
    {
     "data": {
      "application/vnd.jupyter.widget-view+json": {
       "model_id": "40427751dab343aa9e7ba9ca1389e343",
       "version_major": 2,
       "version_minor": 0
      },
      "text/plain": [
       "[collect input data: eval_policy]:   0%|          | 0/2 [00:00<?, ?it/s]"
      ]
     },
     "metadata": {},
     "output_type": "display_data"
    },
    {
     "data": {
      "application/vnd.jupyter.widget-view+json": {
       "model_id": "7f0cea9525ad4627ad245ca0b25ed1e4",
       "version_major": 2,
       "version_minor": 0
      },
      "text/plain": [
       "[calculate on-policy policy value]:   0%|          | 0/100 [00:00<?, ?it/s]"
      ]
     },
     "metadata": {},
     "output_type": "display_data"
    },
    {
     "data": {
      "application/vnd.jupyter.widget-view+json": {
       "model_id": "d3b83533333e4cddadb5b89164a3d6ed",
       "version_major": 2,
       "version_minor": 0
      },
      "text/plain": [
       "[calculate on-policy policy value]:   0%|          | 0/100 [00:00<?, ?it/s]"
      ]
     },
     "metadata": {},
     "output_type": "display_data"
    },
    {
     "name": "stderr",
     "output_type": "stream",
     "text": [
      "/Users/ren/dev/ofrl/tutorial/../ofrl/ope/estimators_base.py:445: RuntimeWarning: invalid value encountered in divide\n",
      "  return numerator / denominator\n"
     ]
    },
    {
     "data": {
      "application/vnd.jupyter.widget-view+json": {
       "model_id": "70818328981e4c2198890ab215af9018",
       "version_major": 2,
       "version_minor": 0
      },
      "text/plain": [
       "[obtain_trajectories]:   0%|          | 0/10000 [00:00<?, ?it/s]"
      ]
     },
     "metadata": {},
     "output_type": "display_data"
    },
    {
     "data": {
      "application/vnd.jupyter.widget-view+json": {
       "model_id": "8524b5ea6eb1469c8c9a36d9486949af",
       "version_major": 2,
       "version_minor": 0
      },
      "text/plain": [
       "[obtain_trajectories]:   0%|          | 0/10000 [00:00<?, ?it/s]"
      ]
     },
     "metadata": {},
     "output_type": "display_data"
    },
    {
     "name": "stdout",
     "output_type": "stream",
     "text": [
      "2023-04-06 13:39.51 [debug    ] RandomIterator is selected.\n",
      "2023-04-06 13:39.51 [info     ] Directory is created at d3rlpy_logs/DiscreteCQL_20230406133951\n",
      "2023-04-06 13:39.51 [debug    ] Building models...\n",
      "2023-04-06 13:39.51 [debug    ] Models have been built.\n",
      "2023-04-06 13:39.51 [info     ] Parameters are saved to d3rlpy_logs/DiscreteCQL_20230406133951/params.json params={'action_scaler': None, 'alpha': 1.0, 'batch_size': 32, 'encoder_factory': {'type': 'vector', 'params': {'hidden_units': [30, 30], 'activation': 'relu', 'use_batch_norm': False, 'dropout_rate': None, 'use_dense': False}}, 'gamma': 0.99, 'generated_maxlen': 100000, 'learning_rate': 6.25e-05, 'n_critics': 1, 'n_frames': 1, 'n_steps': 1, 'optim_factory': {'optim_cls': 'Adam', 'betas': (0.9, 0.999), 'eps': 1e-08, 'weight_decay': 0, 'amsgrad': False}, 'q_func_factory': {'type': 'mean', 'params': {'share_encoder': False}}, 'real_ratio': 1.0, 'reward_scaler': None, 'scaler': None, 'target_update_interval': 8000, 'use_gpu': None, 'algorithm': 'DiscreteCQL', 'observation_shape': (5,), 'action_size': 15}\n"
     ]
    },
    {
     "data": {
      "application/vnd.jupyter.widget-view+json": {
       "model_id": "02bc6328da84463988edeb48f6daf36a",
       "version_major": 2,
       "version_minor": 0
      },
      "text/plain": [
       "Epoch 1/1:   0%|          | 0/10000 [00:00<?, ?it/s]"
      ]
     },
     "metadata": {},
     "output_type": "display_data"
    },
    {
     "name": "stdout",
     "output_type": "stream",
     "text": [
      "2023-04-06 13:40.03 [info     ] DiscreteCQL_20230406133951: epoch=1 step=10000 epoch=1 metrics={'time_sample_batch': 7.71437406539917e-05, 'time_algorithm_update': 0.0010736918687820434, 'loss': 1.8886292767584323, 'time_step': 0.0012214064359664916} step=10000\n",
      "2023-04-06 13:40.03 [info     ] Model parameters are saved to d3rlpy_logs/DiscreteCQL_20230406133951/model_10000.pt\n"
     ]
    },
    {
     "data": {
      "application/vnd.jupyter.widget-view+json": {
       "model_id": "bd852c5049194944a7af02a9102c1f63",
       "version_major": 2,
       "version_minor": 0
      },
      "text/plain": [
       "[fit FQE model]:   0%|          | 0/2 [00:00<?, ?it/s]"
      ]
     },
     "metadata": {},
     "output_type": "display_data"
    },
    {
     "name": "stdout",
     "output_type": "stream",
     "text": [
      "2023-04-06 13:40.03 [debug    ] RoundIterator is selected.\n",
      "2023-04-06 13:40.03 [info     ] Directory is created at d3rlpy_logs/DiscreteFQE_20230406134003\n",
      "2023-04-06 13:40.03 [debug    ] Fitting scaler...              scaler=min_max\n",
      "2023-04-06 13:40.03 [debug    ] Building models...\n",
      "2023-04-06 13:40.03 [debug    ] Models have been built.\n",
      "2023-04-06 13:40.03 [info     ] Parameters are saved to d3rlpy_logs/DiscreteFQE_20230406134003/params.json params={'action_scaler': None, 'batch_size': 100, 'encoder_factory': {'type': 'vector', 'params': {'hidden_units': [30, 30], 'activation': 'relu', 'use_batch_norm': False, 'dropout_rate': None, 'use_dense': False}}, 'gamma': 0.95, 'generated_maxlen': 100000, 'learning_rate': 0.0001, 'n_critics': 1, 'n_frames': 1, 'n_steps': 1, 'optim_factory': {'optim_cls': 'Adam', 'betas': (0.9, 0.999), 'eps': 1e-08, 'weight_decay': 0, 'amsgrad': False}, 'q_func_factory': {'type': 'mean', 'params': {'share_encoder': False}}, 'real_ratio': 1.0, 'reward_scaler': None, 'scaler': {'type': 'min_max', 'params': {'maximum': array([0.99702758, 0.98432847, 0.99916755, 0.99535051, 0.9972548 ]), 'minimum': array([-0.97581596, -0.99062838, -0.99160879, -0.99883884, -0.99087946])}}, 'target_update_interval': 100, 'use_gpu': None, 'algorithm': 'DiscreteFQE', 'observation_shape': (5,), 'action_size': 15}\n"
     ]
    },
    {
     "data": {
      "application/vnd.jupyter.widget-view+json": {
       "model_id": "5077cc775df84c1c9222f26395048401",
       "version_major": 2,
       "version_minor": 0
      },
      "text/plain": [
       "Epoch 1/1:   0%|          | 0/1000 [00:00<?, ?it/s]"
      ]
     },
     "metadata": {},
     "output_type": "display_data"
    },
    {
     "name": "stdout",
     "output_type": "stream",
     "text": [
      "2023-04-06 13:40.04 [info     ] DiscreteFQE_20230406134003: epoch=1 step=1000 epoch=1 metrics={'time_sample_batch': 9.08513069152832e-05, 'time_algorithm_update': 0.0009055805206298829, 'loss': 0.3450462814643979, 'time_step': 0.0010413389205932617} step=1000\n",
      "2023-04-06 13:40.04 [info     ] Model parameters are saved to d3rlpy_logs/DiscreteFQE_20230406134003/model_1000.pt\n",
      "2023-04-06 13:40.04 [debug    ] RoundIterator is selected.\n",
      "2023-04-06 13:40.04 [info     ] Directory is created at d3rlpy_logs/DiscreteFQE_20230406134004\n",
      "2023-04-06 13:40.04 [debug    ] Fitting scaler...              scaler=min_max\n",
      "2023-04-06 13:40.04 [debug    ] Building models...\n",
      "2023-04-06 13:40.04 [debug    ] Models have been built.\n",
      "2023-04-06 13:40.04 [info     ] Parameters are saved to d3rlpy_logs/DiscreteFQE_20230406134004/params.json params={'action_scaler': None, 'batch_size': 100, 'encoder_factory': {'type': 'vector', 'params': {'hidden_units': [30, 30], 'activation': 'relu', 'use_batch_norm': False, 'dropout_rate': None, 'use_dense': False}}, 'gamma': 0.95, 'generated_maxlen': 100000, 'learning_rate': 0.0001, 'n_critics': 1, 'n_frames': 1, 'n_steps': 1, 'optim_factory': {'optim_cls': 'Adam', 'betas': (0.9, 0.999), 'eps': 1e-08, 'weight_decay': 0, 'amsgrad': False}, 'q_func_factory': {'type': 'mean', 'params': {'share_encoder': False}}, 'real_ratio': 1.0, 'reward_scaler': None, 'scaler': {'type': 'min_max', 'params': {'maximum': array([0.99702758, 0.98432847, 0.99916755, 0.99535051, 0.9972548 ]), 'minimum': array([-0.97581596, -0.99062838, -0.99160879, -0.99883884, -0.99087946])}}, 'target_update_interval': 100, 'use_gpu': None, 'algorithm': 'DiscreteFQE', 'observation_shape': (5,), 'action_size': 15}\n"
     ]
    },
    {
     "data": {
      "application/vnd.jupyter.widget-view+json": {
       "model_id": "4affc3534fd94f21be046d7868b30777",
       "version_major": 2,
       "version_minor": 0
      },
      "text/plain": [
       "Epoch 1/1:   0%|          | 0/1000 [00:00<?, ?it/s]"
      ]
     },
     "metadata": {},
     "output_type": "display_data"
    },
    {
     "name": "stdout",
     "output_type": "stream",
     "text": [
      "2023-04-06 13:40.06 [info     ] DiscreteFQE_20230406134004: epoch=1 step=1000 epoch=1 metrics={'time_sample_batch': 9.467339515686035e-05, 'time_algorithm_update': 0.0009710819721221924, 'loss': 0.351951535820961, 'time_step': 0.0011145281791687012} step=1000\n",
      "2023-04-06 13:40.06 [info     ] Model parameters are saved to d3rlpy_logs/DiscreteFQE_20230406134004/model_1000.pt\n"
     ]
    },
    {
     "data": {
      "application/vnd.jupyter.widget-view+json": {
       "model_id": "37cf0ba649e140d685688ba80beb2d1b",
       "version_major": 2,
       "version_minor": 0
      },
      "text/plain": [
       "[fit MWL model]:   0%|          | 0/2 [00:00<?, ?it/s]"
      ]
     },
     "metadata": {},
     "output_type": "display_data"
    },
    {
     "data": {
      "application/vnd.jupyter.widget-view+json": {
       "model_id": "3df88eb09549402b9b5d5f98ae2dc5a2",
       "version_major": 2,
       "version_minor": 0
      },
      "text/plain": [
       "[fitting_weight_function]:   0%|          | 0/100 [00:00<?, ?it/s]"
      ]
     },
     "metadata": {},
     "output_type": "display_data"
    },
    {
     "data": {
      "application/vnd.jupyter.widget-view+json": {
       "model_id": "59217af30035401f83a20c7ffcc94034",
       "version_major": 2,
       "version_minor": 0
      },
      "text/plain": [
       "[fitting_weight_function]:   0%|          | 0/100 [00:00<?, ?it/s]"
      ]
     },
     "metadata": {},
     "output_type": "display_data"
    },
    {
     "data": {
      "application/vnd.jupyter.widget-view+json": {
       "model_id": "7ccc1cb2846d4a2182a920a25f5bfeb0",
       "version_major": 2,
       "version_minor": 0
      },
      "text/plain": [
       "[fitting_weight_function]:   0%|          | 0/100 [00:00<?, ?it/s]"
      ]
     },
     "metadata": {},
     "output_type": "display_data"
    },
    {
     "data": {
      "application/vnd.jupyter.widget-view+json": {
       "model_id": "acdf164d11ed4b6ab53952486776bb4a",
       "version_major": 2,
       "version_minor": 0
      },
      "text/plain": [
       "[fitting_weight_function]:   0%|          | 0/100 [00:00<?, ?it/s]"
      ]
     },
     "metadata": {},
     "output_type": "display_data"
    },
    {
     "data": {
      "application/vnd.jupyter.widget-view+json": {
       "model_id": "3db577f622d943bebd7ed39851995be7",
       "version_major": 2,
       "version_minor": 0
      },
      "text/plain": [
       "[collect input data: eval_policy]:   0%|          | 0/2 [00:00<?, ?it/s]"
      ]
     },
     "metadata": {},
     "output_type": "display_data"
    },
    {
     "data": {
      "application/vnd.jupyter.widget-view+json": {
       "model_id": "e4f3a2334b79424493551d9df63286a9",
       "version_major": 2,
       "version_minor": 0
      },
      "text/plain": [
       "[calculate on-policy policy value]:   0%|          | 0/100 [00:00<?, ?it/s]"
      ]
     },
     "metadata": {},
     "output_type": "display_data"
    },
    {
     "data": {
      "application/vnd.jupyter.widget-view+json": {
       "model_id": "d3a3ccf6cf7d470eab04abb01a91ecf0",
       "version_major": 2,
       "version_minor": 0
      },
      "text/plain": [
       "[calculate on-policy policy value]:   0%|          | 0/100 [00:00<?, ?it/s]"
      ]
     },
     "metadata": {},
     "output_type": "display_data"
    },
    {
     "name": "stderr",
     "output_type": "stream",
     "text": [
      "/Users/ren/dev/ofrl/tutorial/../ofrl/ope/estimators_base.py:445: RuntimeWarning: invalid value encountered in divide\n",
      "  return numerator / denominator\n"
     ]
    },
    {
     "data": {
      "application/vnd.jupyter.widget-view+json": {
       "model_id": "f8a820e53e4f4cbaba062c02c511a405",
       "version_major": 2,
       "version_minor": 0
      },
      "text/plain": [
       "[obtain_trajectories]:   0%|          | 0/10000 [00:00<?, ?it/s]"
      ]
     },
     "metadata": {},
     "output_type": "display_data"
    },
    {
     "data": {
      "application/vnd.jupyter.widget-view+json": {
       "model_id": "f91ba5a11d924ee4b2ddf501a69e4246",
       "version_major": 2,
       "version_minor": 0
      },
      "text/plain": [
       "[obtain_trajectories]:   0%|          | 0/10000 [00:00<?, ?it/s]"
      ]
     },
     "metadata": {},
     "output_type": "display_data"
    },
    {
     "name": "stdout",
     "output_type": "stream",
     "text": [
      "2023-04-06 13:41.31 [debug    ] RandomIterator is selected.\n",
      "2023-04-06 13:41.31 [info     ] Directory is created at d3rlpy_logs/DiscreteCQL_20230406134131\n",
      "2023-04-06 13:41.31 [debug    ] Building models...\n",
      "2023-04-06 13:41.31 [debug    ] Models have been built.\n",
      "2023-04-06 13:41.31 [info     ] Parameters are saved to d3rlpy_logs/DiscreteCQL_20230406134131/params.json params={'action_scaler': None, 'alpha': 1.0, 'batch_size': 32, 'encoder_factory': {'type': 'vector', 'params': {'hidden_units': [30, 30], 'activation': 'relu', 'use_batch_norm': False, 'dropout_rate': None, 'use_dense': False}}, 'gamma': 0.99, 'generated_maxlen': 100000, 'learning_rate': 6.25e-05, 'n_critics': 1, 'n_frames': 1, 'n_steps': 1, 'optim_factory': {'optim_cls': 'Adam', 'betas': (0.9, 0.999), 'eps': 1e-08, 'weight_decay': 0, 'amsgrad': False}, 'q_func_factory': {'type': 'mean', 'params': {'share_encoder': False}}, 'real_ratio': 1.0, 'reward_scaler': None, 'scaler': None, 'target_update_interval': 8000, 'use_gpu': None, 'algorithm': 'DiscreteCQL', 'observation_shape': (5,), 'action_size': 15}\n"
     ]
    },
    {
     "data": {
      "application/vnd.jupyter.widget-view+json": {
       "model_id": "3f4c19c2401742e9abec07b3bb2824de",
       "version_major": 2,
       "version_minor": 0
      },
      "text/plain": [
       "Epoch 1/1:   0%|          | 0/10000 [00:00<?, ?it/s]"
      ]
     },
     "metadata": {},
     "output_type": "display_data"
    },
    {
     "name": "stdout",
     "output_type": "stream",
     "text": [
      "2023-04-06 13:41.42 [info     ] DiscreteCQL_20230406134131: epoch=1 step=10000 epoch=1 metrics={'time_sample_batch': 7.850914001464844e-05, 'time_algorithm_update': 0.0010196136951446534, 'loss': 1.9093804156959058, 'time_step': 0.001168279242515564} step=10000\n",
      "2023-04-06 13:41.42 [info     ] Model parameters are saved to d3rlpy_logs/DiscreteCQL_20230406134131/model_10000.pt\n"
     ]
    },
    {
     "data": {
      "application/vnd.jupyter.widget-view+json": {
       "model_id": "1e971a900f144f03a5a78b7cec36a899",
       "version_major": 2,
       "version_minor": 0
      },
      "text/plain": [
       "[fit FQE model]:   0%|          | 0/2 [00:00<?, ?it/s]"
      ]
     },
     "metadata": {},
     "output_type": "display_data"
    },
    {
     "name": "stdout",
     "output_type": "stream",
     "text": [
      "2023-04-06 13:41.43 [debug    ] RoundIterator is selected.\n",
      "2023-04-06 13:41.43 [info     ] Directory is created at d3rlpy_logs/DiscreteFQE_20230406134143\n",
      "2023-04-06 13:41.43 [debug    ] Fitting scaler...              scaler=min_max\n",
      "2023-04-06 13:41.43 [debug    ] Building models...\n",
      "2023-04-06 13:41.43 [debug    ] Models have been built.\n",
      "2023-04-06 13:41.43 [info     ] Parameters are saved to d3rlpy_logs/DiscreteFQE_20230406134143/params.json params={'action_scaler': None, 'batch_size': 100, 'encoder_factory': {'type': 'vector', 'params': {'hidden_units': [30, 30], 'activation': 'relu', 'use_batch_norm': False, 'dropout_rate': None, 'use_dense': False}}, 'gamma': 0.95, 'generated_maxlen': 100000, 'learning_rate': 0.0001, 'n_critics': 1, 'n_frames': 1, 'n_steps': 1, 'optim_factory': {'optim_cls': 'Adam', 'betas': (0.9, 0.999), 'eps': 1e-08, 'weight_decay': 0, 'amsgrad': False}, 'q_func_factory': {'type': 'mean', 'params': {'share_encoder': False}}, 'real_ratio': 1.0, 'reward_scaler': None, 'scaler': {'type': 'min_max', 'params': {'maximum': array([0.98929948, 0.98553786, 0.99637955, 0.99409447, 0.99286958]), 'minimum': array([-0.99855965, -0.99596153, -0.99175496, -0.99875613, -0.98448468])}}, 'target_update_interval': 100, 'use_gpu': None, 'algorithm': 'DiscreteFQE', 'observation_shape': (5,), 'action_size': 15}\n"
     ]
    },
    {
     "data": {
      "application/vnd.jupyter.widget-view+json": {
       "model_id": "6d031cf8567443689cb95facd383edda",
       "version_major": 2,
       "version_minor": 0
      },
      "text/plain": [
       "Epoch 1/1:   0%|          | 0/1000 [00:00<?, ?it/s]"
      ]
     },
     "metadata": {},
     "output_type": "display_data"
    },
    {
     "name": "stdout",
     "output_type": "stream",
     "text": [
      "2023-04-06 13:41.44 [info     ] DiscreteFQE_20230406134143: epoch=1 step=1000 epoch=1 metrics={'time_sample_batch': 0.00010091042518615723, 'time_algorithm_update': 0.000978567361831665, 'loss': 0.27098274885863066, 'time_step': 0.001126349925994873} step=1000\n",
      "2023-04-06 13:41.44 [info     ] Model parameters are saved to d3rlpy_logs/DiscreteFQE_20230406134143/model_1000.pt\n",
      "2023-04-06 13:41.44 [debug    ] RoundIterator is selected.\n",
      "2023-04-06 13:41.44 [info     ] Directory is created at d3rlpy_logs/DiscreteFQE_20230406134144\n",
      "2023-04-06 13:41.44 [debug    ] Fitting scaler...              scaler=min_max\n",
      "2023-04-06 13:41.44 [debug    ] Building models...\n",
      "2023-04-06 13:41.44 [debug    ] Models have been built.\n",
      "2023-04-06 13:41.44 [info     ] Parameters are saved to d3rlpy_logs/DiscreteFQE_20230406134144/params.json params={'action_scaler': None, 'batch_size': 100, 'encoder_factory': {'type': 'vector', 'params': {'hidden_units': [30, 30], 'activation': 'relu', 'use_batch_norm': False, 'dropout_rate': None, 'use_dense': False}}, 'gamma': 0.95, 'generated_maxlen': 100000, 'learning_rate': 0.0001, 'n_critics': 1, 'n_frames': 1, 'n_steps': 1, 'optim_factory': {'optim_cls': 'Adam', 'betas': (0.9, 0.999), 'eps': 1e-08, 'weight_decay': 0, 'amsgrad': False}, 'q_func_factory': {'type': 'mean', 'params': {'share_encoder': False}}, 'real_ratio': 1.0, 'reward_scaler': None, 'scaler': {'type': 'min_max', 'params': {'maximum': array([0.98929948, 0.98553786, 0.99637955, 0.99409447, 0.99286958]), 'minimum': array([-0.99855965, -0.99596153, -0.99175496, -0.99875613, -0.98448468])}}, 'target_update_interval': 100, 'use_gpu': None, 'algorithm': 'DiscreteFQE', 'observation_shape': (5,), 'action_size': 15}\n"
     ]
    },
    {
     "data": {
      "application/vnd.jupyter.widget-view+json": {
       "model_id": "83ea34fcec0c43b2996fd98a53f6fddd",
       "version_major": 2,
       "version_minor": 0
      },
      "text/plain": [
       "Epoch 1/1:   0%|          | 0/1000 [00:00<?, ?it/s]"
      ]
     },
     "metadata": {},
     "output_type": "display_data"
    },
    {
     "name": "stdout",
     "output_type": "stream",
     "text": [
      "2023-04-06 13:41.45 [info     ] DiscreteFQE_20230406134144: epoch=1 step=1000 epoch=1 metrics={'time_sample_batch': 9.255671501159668e-05, 'time_algorithm_update': 0.000910315752029419, 'loss': 0.29505266854166984, 'time_step': 0.0010482499599456787} step=1000\n",
      "2023-04-06 13:41.45 [info     ] Model parameters are saved to d3rlpy_logs/DiscreteFQE_20230406134144/model_1000.pt\n"
     ]
    },
    {
     "data": {
      "application/vnd.jupyter.widget-view+json": {
       "model_id": "64f671beb3c94f64a51ca92c4d03dfbe",
       "version_major": 2,
       "version_minor": 0
      },
      "text/plain": [
       "[fit MWL model]:   0%|          | 0/2 [00:00<?, ?it/s]"
      ]
     },
     "metadata": {},
     "output_type": "display_data"
    },
    {
     "data": {
      "application/vnd.jupyter.widget-view+json": {
       "model_id": "0745466342aa4f5098929a38a526124c",
       "version_major": 2,
       "version_minor": 0
      },
      "text/plain": [
       "[fitting_weight_function]:   0%|          | 0/100 [00:00<?, ?it/s]"
      ]
     },
     "metadata": {},
     "output_type": "display_data"
    },
    {
     "data": {
      "application/vnd.jupyter.widget-view+json": {
       "model_id": "cf84eaec5c6e49a08d2dbfcee4887608",
       "version_major": 2,
       "version_minor": 0
      },
      "text/plain": [
       "[fitting_weight_function]:   0%|          | 0/100 [00:00<?, ?it/s]"
      ]
     },
     "metadata": {},
     "output_type": "display_data"
    },
    {
     "data": {
      "application/vnd.jupyter.widget-view+json": {
       "model_id": "3588aae7564c41f59b07e91a277cd42b",
       "version_major": 2,
       "version_minor": 0
      },
      "text/plain": [
       "[fitting_weight_function]:   0%|          | 0/100 [00:00<?, ?it/s]"
      ]
     },
     "metadata": {},
     "output_type": "display_data"
    },
    {
     "data": {
      "application/vnd.jupyter.widget-view+json": {
       "model_id": "a170765abb2b4b62aa26d4698916923a",
       "version_major": 2,
       "version_minor": 0
      },
      "text/plain": [
       "[fitting_weight_function]:   0%|          | 0/100 [00:00<?, ?it/s]"
      ]
     },
     "metadata": {},
     "output_type": "display_data"
    },
    {
     "data": {
      "application/vnd.jupyter.widget-view+json": {
       "model_id": "7bde88330c0a45938bb8d42d62168c74",
       "version_major": 2,
       "version_minor": 0
      },
      "text/plain": [
       "[collect input data: eval_policy]:   0%|          | 0/2 [00:00<?, ?it/s]"
      ]
     },
     "metadata": {},
     "output_type": "display_data"
    },
    {
     "data": {
      "application/vnd.jupyter.widget-view+json": {
       "model_id": "7423e68a131247ac84347e1b5f81bcb6",
       "version_major": 2,
       "version_minor": 0
      },
      "text/plain": [
       "[calculate on-policy policy value]:   0%|          | 0/100 [00:00<?, ?it/s]"
      ]
     },
     "metadata": {},
     "output_type": "display_data"
    },
    {
     "data": {
      "application/vnd.jupyter.widget-view+json": {
       "model_id": "6082528883214c2c82eaaddf5dea09de",
       "version_major": 2,
       "version_minor": 0
      },
      "text/plain": [
       "[calculate on-policy policy value]:   0%|          | 0/100 [00:00<?, ?it/s]"
      ]
     },
     "metadata": {},
     "output_type": "display_data"
    },
    {
     "name": "stderr",
     "output_type": "stream",
     "text": [
      "/Users/ren/dev/ofrl/tutorial/../ofrl/ope/estimators_base.py:445: RuntimeWarning: invalid value encountered in divide\n",
      "  return numerator / denominator\n"
     ]
    },
    {
     "data": {
      "application/vnd.jupyter.widget-view+json": {
       "model_id": "5c6e01ed28b04f8b858e6e7df6b255e1",
       "version_major": 2,
       "version_minor": 0
      },
      "text/plain": [
       "[obtain_trajectories]:   0%|          | 0/10000 [00:00<?, ?it/s]"
      ]
     },
     "metadata": {},
     "output_type": "display_data"
    },
    {
     "data": {
      "application/vnd.jupyter.widget-view+json": {
       "model_id": "8d0689c2dc2544879954616474981544",
       "version_major": 2,
       "version_minor": 0
      },
      "text/plain": [
       "[obtain_trajectories]:   0%|          | 0/10000 [00:00<?, ?it/s]"
      ]
     },
     "metadata": {},
     "output_type": "display_data"
    },
    {
     "name": "stdout",
     "output_type": "stream",
     "text": [
      "2023-04-06 13:43.12 [debug    ] RandomIterator is selected.\n",
      "2023-04-06 13:43.12 [info     ] Directory is created at d3rlpy_logs/DiscreteCQL_20230406134312\n",
      "2023-04-06 13:43.12 [debug    ] Building models...\n",
      "2023-04-06 13:43.12 [debug    ] Models have been built.\n",
      "2023-04-06 13:43.12 [info     ] Parameters are saved to d3rlpy_logs/DiscreteCQL_20230406134312/params.json params={'action_scaler': None, 'alpha': 1.0, 'batch_size': 32, 'encoder_factory': {'type': 'vector', 'params': {'hidden_units': [30, 30], 'activation': 'relu', 'use_batch_norm': False, 'dropout_rate': None, 'use_dense': False}}, 'gamma': 0.99, 'generated_maxlen': 100000, 'learning_rate': 6.25e-05, 'n_critics': 1, 'n_frames': 1, 'n_steps': 1, 'optim_factory': {'optim_cls': 'Adam', 'betas': (0.9, 0.999), 'eps': 1e-08, 'weight_decay': 0, 'amsgrad': False}, 'q_func_factory': {'type': 'mean', 'params': {'share_encoder': False}}, 'real_ratio': 1.0, 'reward_scaler': None, 'scaler': None, 'target_update_interval': 8000, 'use_gpu': None, 'algorithm': 'DiscreteCQL', 'observation_shape': (5,), 'action_size': 15}\n"
     ]
    },
    {
     "data": {
      "application/vnd.jupyter.widget-view+json": {
       "model_id": "2a58ada2c602453e97a3ee1673513b97",
       "version_major": 2,
       "version_minor": 0
      },
      "text/plain": [
       "Epoch 1/1:   0%|          | 0/10000 [00:00<?, ?it/s]"
      ]
     },
     "metadata": {},
     "output_type": "display_data"
    },
    {
     "name": "stdout",
     "output_type": "stream",
     "text": [
      "2023-04-06 13:43.24 [info     ] DiscreteCQL_20230406134312: epoch=1 step=10000 epoch=1 metrics={'time_sample_batch': 7.929503917694091e-05, 'time_algorithm_update': 0.0010493300199508667, 'loss': 1.9043168354332447, 'time_step': 0.0012003181457519532} step=10000\n",
      "2023-04-06 13:43.24 [info     ] Model parameters are saved to d3rlpy_logs/DiscreteCQL_20230406134312/model_10000.pt\n"
     ]
    },
    {
     "data": {
      "application/vnd.jupyter.widget-view+json": {
       "model_id": "230161149695469fb79de7549ddb22c3",
       "version_major": 2,
       "version_minor": 0
      },
      "text/plain": [
       "[fit FQE model]:   0%|          | 0/2 [00:00<?, ?it/s]"
      ]
     },
     "metadata": {},
     "output_type": "display_data"
    },
    {
     "name": "stdout",
     "output_type": "stream",
     "text": [
      "2023-04-06 13:43.25 [debug    ] RoundIterator is selected.\n",
      "2023-04-06 13:43.25 [info     ] Directory is created at d3rlpy_logs/DiscreteFQE_20230406134325\n",
      "2023-04-06 13:43.25 [debug    ] Fitting scaler...              scaler=min_max\n",
      "2023-04-06 13:43.25 [debug    ] Building models...\n",
      "2023-04-06 13:43.25 [debug    ] Models have been built.\n",
      "2023-04-06 13:43.25 [info     ] Parameters are saved to d3rlpy_logs/DiscreteFQE_20230406134325/params.json params={'action_scaler': None, 'batch_size': 100, 'encoder_factory': {'type': 'vector', 'params': {'hidden_units': [30, 30], 'activation': 'relu', 'use_batch_norm': False, 'dropout_rate': None, 'use_dense': False}}, 'gamma': 0.95, 'generated_maxlen': 100000, 'learning_rate': 0.0001, 'n_critics': 1, 'n_frames': 1, 'n_steps': 1, 'optim_factory': {'optim_cls': 'Adam', 'betas': (0.9, 0.999), 'eps': 1e-08, 'weight_decay': 0, 'amsgrad': False}, 'q_func_factory': {'type': 'mean', 'params': {'share_encoder': False}}, 'real_ratio': 1.0, 'reward_scaler': None, 'scaler': {'type': 'min_max', 'params': {'maximum': array([0.9889981 , 0.99476601, 0.99690476, 0.99494552, 0.9928618 ]), 'minimum': array([-0.98804508, -0.9820031 , -0.99184144, -0.99761588, -0.97737043])}}, 'target_update_interval': 100, 'use_gpu': None, 'algorithm': 'DiscreteFQE', 'observation_shape': (5,), 'action_size': 15}\n"
     ]
    },
    {
     "data": {
      "application/vnd.jupyter.widget-view+json": {
       "model_id": "c78081d48ad04ca8a6455cd2bc0d1373",
       "version_major": 2,
       "version_minor": 0
      },
      "text/plain": [
       "Epoch 1/1:   0%|          | 0/1000 [00:00<?, ?it/s]"
      ]
     },
     "metadata": {},
     "output_type": "display_data"
    },
    {
     "name": "stdout",
     "output_type": "stream",
     "text": [
      "2023-04-06 13:43.26 [info     ] DiscreteFQE_20230406134325: epoch=1 step=1000 epoch=1 metrics={'time_sample_batch': 9.716200828552246e-05, 'time_algorithm_update': 0.0009284446239471436, 'loss': 0.28882819442451, 'time_step': 0.0010729336738586426} step=1000\n",
      "2023-04-06 13:43.26 [info     ] Model parameters are saved to d3rlpy_logs/DiscreteFQE_20230406134325/model_1000.pt\n",
      "2023-04-06 13:43.26 [debug    ] RoundIterator is selected.\n",
      "2023-04-06 13:43.26 [info     ] Directory is created at d3rlpy_logs/DiscreteFQE_20230406134326\n",
      "2023-04-06 13:43.26 [debug    ] Fitting scaler...              scaler=min_max\n",
      "2023-04-06 13:43.26 [debug    ] Building models...\n",
      "2023-04-06 13:43.26 [debug    ] Models have been built.\n",
      "2023-04-06 13:43.26 [info     ] Parameters are saved to d3rlpy_logs/DiscreteFQE_20230406134326/params.json params={'action_scaler': None, 'batch_size': 100, 'encoder_factory': {'type': 'vector', 'params': {'hidden_units': [30, 30], 'activation': 'relu', 'use_batch_norm': False, 'dropout_rate': None, 'use_dense': False}}, 'gamma': 0.95, 'generated_maxlen': 100000, 'learning_rate': 0.0001, 'n_critics': 1, 'n_frames': 1, 'n_steps': 1, 'optim_factory': {'optim_cls': 'Adam', 'betas': (0.9, 0.999), 'eps': 1e-08, 'weight_decay': 0, 'amsgrad': False}, 'q_func_factory': {'type': 'mean', 'params': {'share_encoder': False}}, 'real_ratio': 1.0, 'reward_scaler': None, 'scaler': {'type': 'min_max', 'params': {'maximum': array([0.9889981 , 0.99476601, 0.99690476, 0.99494552, 0.9928618 ]), 'minimum': array([-0.98804508, -0.9820031 , -0.99184144, -0.99761588, -0.97737043])}}, 'target_update_interval': 100, 'use_gpu': None, 'algorithm': 'DiscreteFQE', 'observation_shape': (5,), 'action_size': 15}\n"
     ]
    },
    {
     "data": {
      "application/vnd.jupyter.widget-view+json": {
       "model_id": "a6d498809ebf42bab67775e1d901fffb",
       "version_major": 2,
       "version_minor": 0
      },
      "text/plain": [
       "Epoch 1/1:   0%|          | 0/1000 [00:00<?, ?it/s]"
      ]
     },
     "metadata": {},
     "output_type": "display_data"
    },
    {
     "name": "stdout",
     "output_type": "stream",
     "text": [
      "2023-04-06 13:43.27 [info     ] DiscreteFQE_20230406134326: epoch=1 step=1000 epoch=1 metrics={'time_sample_batch': 9.236502647399902e-05, 'time_algorithm_update': 0.0009399182796478271, 'loss': 0.23958042884618044, 'time_step': 0.001073625087738037} step=1000\n",
      "2023-04-06 13:43.27 [info     ] Model parameters are saved to d3rlpy_logs/DiscreteFQE_20230406134326/model_1000.pt\n"
     ]
    },
    {
     "data": {
      "application/vnd.jupyter.widget-view+json": {
       "model_id": "162c282b8bdc48f4a205c2f433caa729",
       "version_major": 2,
       "version_minor": 0
      },
      "text/plain": [
       "[fit MWL model]:   0%|          | 0/2 [00:00<?, ?it/s]"
      ]
     },
     "metadata": {},
     "output_type": "display_data"
    },
    {
     "data": {
      "application/vnd.jupyter.widget-view+json": {
       "model_id": "b4a749bb6c514643933b663fb042311b",
       "version_major": 2,
       "version_minor": 0
      },
      "text/plain": [
       "[fitting_weight_function]:   0%|          | 0/100 [00:00<?, ?it/s]"
      ]
     },
     "metadata": {},
     "output_type": "display_data"
    },
    {
     "data": {
      "application/vnd.jupyter.widget-view+json": {
       "model_id": "a62e0b66ea604bbba7a1bcf938b729b3",
       "version_major": 2,
       "version_minor": 0
      },
      "text/plain": [
       "[fitting_weight_function]:   0%|          | 0/100 [00:00<?, ?it/s]"
      ]
     },
     "metadata": {},
     "output_type": "display_data"
    },
    {
     "data": {
      "application/vnd.jupyter.widget-view+json": {
       "model_id": "8399b759bd5d4057b853a493270eb2f1",
       "version_major": 2,
       "version_minor": 0
      },
      "text/plain": [
       "[fitting_weight_function]:   0%|          | 0/100 [00:00<?, ?it/s]"
      ]
     },
     "metadata": {},
     "output_type": "display_data"
    },
    {
     "data": {
      "application/vnd.jupyter.widget-view+json": {
       "model_id": "5a642e8ec50844caba3211c950257d5e",
       "version_major": 2,
       "version_minor": 0
      },
      "text/plain": [
       "[fitting_weight_function]:   0%|          | 0/100 [00:00<?, ?it/s]"
      ]
     },
     "metadata": {},
     "output_type": "display_data"
    },
    {
     "data": {
      "application/vnd.jupyter.widget-view+json": {
       "model_id": "de751287f30d4219922e179430103c8e",
       "version_major": 2,
       "version_minor": 0
      },
      "text/plain": [
       "[collect input data: eval_policy]:   0%|          | 0/2 [00:00<?, ?it/s]"
      ]
     },
     "metadata": {},
     "output_type": "display_data"
    },
    {
     "data": {
      "application/vnd.jupyter.widget-view+json": {
       "model_id": "ae77e4d448404b70b14823e6f145afdd",
       "version_major": 2,
       "version_minor": 0
      },
      "text/plain": [
       "[calculate on-policy policy value]:   0%|          | 0/100 [00:00<?, ?it/s]"
      ]
     },
     "metadata": {},
     "output_type": "display_data"
    },
    {
     "data": {
      "application/vnd.jupyter.widget-view+json": {
       "model_id": "29eaeba8c25d44a8be0a798f87567988",
       "version_major": 2,
       "version_minor": 0
      },
      "text/plain": [
       "[calculate on-policy policy value]:   0%|          | 0/100 [00:00<?, ?it/s]"
      ]
     },
     "metadata": {},
     "output_type": "display_data"
    },
    {
     "name": "stdout",
     "output_type": "stream",
     "text": [
      "2023-04-06 13:43.59 [info     ] Directory is created at d3rlpy_logs/DoubleDQN_online_20230406134359\n",
      "2023-04-06 13:43.59 [debug    ] Building model...\n",
      "2023-04-06 13:43.59 [debug    ] Model has been built.\n",
      "2023-04-06 13:43.59 [info     ] Parameters are saved to d3rlpy_logs/DoubleDQN_online_20230406134359/params.json params={'action_scaler': None, 'batch_size': 32, 'encoder_factory': {'type': 'vector', 'params': {'hidden_units': [30, 30], 'activation': 'relu', 'use_batch_norm': False, 'dropout_rate': None, 'use_dense': False}}, 'gamma': 0.99, 'generated_maxlen': 100000, 'learning_rate': 6.25e-05, 'n_critics': 1, 'n_frames': 1, 'n_steps': 1, 'optim_factory': {'optim_cls': 'Adam', 'betas': (0.9, 0.999), 'eps': 1e-08, 'weight_decay': 0, 'amsgrad': False}, 'q_func_factory': {'type': 'mean', 'params': {'share_encoder': False}}, 'real_ratio': 1.0, 'reward_scaler': None, 'scaler': None, 'target_update_interval': 100, 'use_gpu': None, 'algorithm': 'DoubleDQN', 'observation_shape': (5,), 'action_size': 20}\n"
     ]
    },
    {
     "name": "stderr",
     "output_type": "stream",
     "text": [
      "/Users/ren/dev/ofrl/tutorial/../ofrl/ope/estimators_base.py:445: RuntimeWarning: invalid value encountered in divide\n",
      "  return numerator / denominator\n",
      "/Users/ren/.pyenv/versions/3.10.6/lib/python3.10/site-packages/gym/utils/passive_env_checker.py:187: UserWarning: \u001b[33mWARN: Future gym versions will require that `Env.reset` can be passed `options` to allow the environment initialisation to be passed additional information.\u001b[0m\n",
      "  logger.warn(\n"
     ]
    },
    {
     "data": {
      "application/vnd.jupyter.widget-view+json": {
       "model_id": "d96de0fb3e93427faf1721e62fab2b17",
       "version_major": 2,
       "version_minor": 0
      },
      "text/plain": [
       "  0%|          | 0/100000 [00:00<?, ?it/s]"
      ]
     },
     "metadata": {},
     "output_type": "display_data"
    },
    {
     "name": "stdout",
     "output_type": "stream",
     "text": [
      "2023-04-06 13:43.59 [info     ] Model parameters are saved to d3rlpy_logs/DoubleDQN_online_20230406134359/model_1000.pt\n",
      "2023-04-06 13:43.59 [info     ] DoubleDQN_online_20230406134359: epoch=1 step=1000 epoch=1 metrics={'time_inference': 0.00013987421989440917, 'time_environment_step': 3.0167818069458008e-05, 'time_step': 0.00017942261695861816, 'rollout_return': -1.5697792717373429, 'evaluation': -4.549135159713964} step=1000\n",
      "2023-04-06 13:44.00 [info     ] Model parameters are saved to d3rlpy_logs/DoubleDQN_online_20230406134359/model_2000.pt\n",
      "2023-04-06 13:44.00 [info     ] DoubleDQN_online_20230406134359: epoch=2 step=2000 epoch=2 metrics={'time_inference': 0.00015047359466552733, 'time_environment_step': 3.685498237609863e-05, 'time_sample_batch': 3.18138599395752e-05, 'time_algorithm_update': 0.0006868131160736084, 'loss': 0.08655915959179401, 'time_step': 0.0009238064289093017, 'rollout_return': 0.9114120861729718, 'evaluation': 3.110698273575843} step=2000\n",
      "2023-04-06 13:44.01 [info     ] Model parameters are saved to d3rlpy_logs/DoubleDQN_online_20230406134359/model_3000.pt\n",
      "2023-04-06 13:44.01 [info     ] DoubleDQN_online_20230406134359: epoch=3 step=3000 epoch=3 metrics={'time_inference': 0.00015226483345031738, 'time_environment_step': 3.698015213012695e-05, 'time_sample_batch': 3.273391723632812e-05, 'time_algorithm_update': 0.000681649923324585, 'loss': 0.1539928266555071, 'time_step': 0.0009216139316558838, 'rollout_return': 2.935692563719996, 'evaluation': 3.1767749739379587} step=3000\n",
      "2023-04-06 13:44.02 [info     ] Model parameters are saved to d3rlpy_logs/DoubleDQN_online_20230406134359/model_4000.pt\n",
      "2023-04-06 13:44.02 [info     ] DoubleDQN_online_20230406134359: epoch=4 step=4000 epoch=4 metrics={'time_inference': 0.00015668749809265138, 'time_environment_step': 3.874564170837402e-05, 'time_sample_batch': 3.428316116333008e-05, 'time_algorithm_update': 0.0007201311588287354, 'loss': 0.2558548929169774, 'time_step': 0.0009686927795410157, 'rollout_return': 3.755801208097222, 'evaluation': 5.091484030265169} step=4000\n",
      "2023-04-06 13:44.03 [info     ] Model parameters are saved to d3rlpy_logs/DoubleDQN_online_20230406134359/model_5000.pt\n",
      "2023-04-06 13:44.03 [info     ] DoubleDQN_online_20230406134359: epoch=5 step=5000 epoch=5 metrics={'time_inference': 0.0001531381607055664, 'time_environment_step': 3.7456274032592775e-05, 'time_sample_batch': 3.4168004989624025e-05, 'time_algorithm_update': 0.0006901657581329345, 'loss': 0.588005418330431, 'time_step': 0.0009330501556396485, 'rollout_return': 4.555056532460575, 'evaluation': 5.062390678779414} step=5000\n",
      "2023-04-06 13:44.04 [info     ] Model parameters are saved to d3rlpy_logs/DoubleDQN_online_20230406134359/model_6000.pt\n",
      "2023-04-06 13:44.04 [info     ] DoubleDQN_online_20230406134359: epoch=6 step=6000 epoch=6 metrics={'time_inference': 0.0001604344844818115, 'time_environment_step': 3.934407234191894e-05, 'time_sample_batch': 3.6017894744873045e-05, 'time_algorithm_update': 0.0007181582450866699, 'loss': 1.1539016049206257, 'time_step': 0.0009731128215789795, 'rollout_return': 4.526525775765665, 'evaluation': 5.063420605158511} step=6000\n",
      "2023-04-06 13:44.05 [info     ] Model parameters are saved to d3rlpy_logs/DoubleDQN_online_20230406134359/model_7000.pt\n",
      "2023-04-06 13:44.05 [info     ] DoubleDQN_online_20230406134359: epoch=7 step=7000 epoch=7 metrics={'time_inference': 0.00016014504432678223, 'time_environment_step': 4.200220108032226e-05, 'time_sample_batch': 3.510427474975586e-05, 'time_algorithm_update': 0.0007209734916687012, 'loss': 1.6893236891180277, 'time_step': 0.000976691484451294, 'rollout_return': 4.604618100567275, 'evaluation': 5.3976243136044015} step=7000\n",
      "2023-04-06 13:44.06 [info     ] Model parameters are saved to d3rlpy_logs/DoubleDQN_online_20230406134359/model_8000.pt\n",
      "2023-04-06 13:44.06 [info     ] DoubleDQN_online_20230406134359: epoch=8 step=8000 epoch=8 metrics={'time_inference': 0.00015772056579589844, 'time_environment_step': 3.868794441223145e-05, 'time_sample_batch': 3.635096549987793e-05, 'time_algorithm_update': 0.0007279829978942871, 'loss': 2.145225338280201, 'time_step': 0.0009798614978790284, 'rollout_return': 4.910836805124376, 'evaluation': 5.412988833673156} step=8000\n",
      "2023-04-06 13:44.07 [info     ] Model parameters are saved to d3rlpy_logs/DoubleDQN_online_20230406134359/model_9000.pt\n",
      "2023-04-06 13:44.07 [info     ] DoubleDQN_online_20230406134359: epoch=9 step=9000 epoch=9 metrics={'time_inference': 0.00016043877601623535, 'time_environment_step': 3.947758674621582e-05, 'time_sample_batch': 3.698563575744629e-05, 'time_algorithm_update': 0.0007268006801605224, 'loss': 2.5153857212066653, 'time_step': 0.0009828486442565918, 'rollout_return': 4.308116289307755, 'evaluation': 5.011769673920722} step=9000\n",
      "2023-04-06 13:44.08 [info     ] Model parameters are saved to d3rlpy_logs/DoubleDQN_online_20230406134359/model_10000.pt\n",
      "2023-04-06 13:44.08 [info     ] DoubleDQN_online_20230406134359: epoch=10 step=10000 epoch=10 metrics={'time_inference': 0.00017045044898986818, 'time_environment_step': 4.143977165222168e-05, 'time_sample_batch': 3.972125053405762e-05, 'time_algorithm_update': 0.0008144962787628174, 'loss': 2.9428284649550913, 'time_step': 0.0010870068073272705, 'rollout_return': 5.485952866863442, 'evaluation': 6.450217122292433} step=10000\n",
      "2023-04-06 13:44.09 [info     ] Model parameters are saved to d3rlpy_logs/DoubleDQN_online_20230406134359/model_11000.pt\n",
      "2023-04-06 13:44.09 [info     ] DoubleDQN_online_20230406134359: epoch=11 step=11000 epoch=11 metrics={'time_inference': 0.0001596372127532959, 'time_environment_step': 3.9575338363647464e-05, 'time_sample_batch': 3.7579774856567385e-05, 'time_algorithm_update': 0.000728611946105957, 'loss': 3.398093076825142, 'time_step': 0.0009853639602661133, 'rollout_return': 5.768388379921406, 'evaluation': 6.524626919604242} step=11000\n",
      "2023-04-06 13:44.10 [info     ] Model parameters are saved to d3rlpy_logs/DoubleDQN_online_20230406134359/model_12000.pt\n",
      "2023-04-06 13:44.10 [info     ] DoubleDQN_online_20230406134359: epoch=12 step=12000 epoch=12 metrics={'time_inference': 0.00016214919090270995, 'time_environment_step': 3.9488554000854494e-05, 'time_sample_batch': 3.8240671157836914e-05, 'time_algorithm_update': 0.0007699186801910401, 'loss': 3.673044827222824, 'time_step': 0.0010303115844726562, 'rollout_return': 5.8014245750527405, 'evaluation': 6.453041472091565} step=12000\n",
      "2023-04-06 13:44.11 [info     ] Model parameters are saved to d3rlpy_logs/DoubleDQN_online_20230406134359/model_13000.pt\n",
      "2023-04-06 13:44.11 [info     ] DoubleDQN_online_20230406134359: epoch=13 step=13000 epoch=13 metrics={'time_inference': 0.00016036343574523927, 'time_environment_step': 3.9004802703857425e-05, 'time_sample_batch': 3.673505783081055e-05, 'time_algorithm_update': 0.0007170679569244385, 'loss': 4.121499209448695, 'time_step': 0.0009732012748718262, 'rollout_return': 5.608922889355854, 'evaluation': 6.173128002911996} step=13000\n",
      "2023-04-06 13:44.12 [info     ] Model parameters are saved to d3rlpy_logs/DoubleDQN_online_20230406134359/model_14000.pt\n",
      "2023-04-06 13:44.12 [info     ] DoubleDQN_online_20230406134359: epoch=14 step=14000 epoch=14 metrics={'time_inference': 0.0001598477363586426, 'time_environment_step': 3.9057493209838864e-05, 'time_sample_batch': 3.6996603012084964e-05, 'time_algorithm_update': 0.0007103500366210937, 'loss': 4.588437320053577, 'time_step': 0.0009662208557128906, 'rollout_return': 5.7563913605330415, 'evaluation': 6.5068238987486} step=14000\n",
      "2023-04-06 13:44.13 [info     ] Model parameters are saved to d3rlpy_logs/DoubleDQN_online_20230406134359/model_15000.pt\n",
      "2023-04-06 13:44.13 [info     ] DoubleDQN_online_20230406134359: epoch=15 step=15000 epoch=15 metrics={'time_inference': 0.00016046500205993652, 'time_environment_step': 3.9031982421875e-05, 'time_sample_batch': 3.670287132263184e-05, 'time_algorithm_update': 0.0007194273471832275, 'loss': 4.901186793636531, 'time_step': 0.0009756104946136475, 'rollout_return': 5.821046855856676, 'evaluation': 6.258017744781591} step=15000\n",
      "2023-04-06 13:44.14 [info     ] Model parameters are saved to d3rlpy_logs/DoubleDQN_online_20230406134359/model_16000.pt\n",
      "2023-04-06 13:44.14 [info     ] DoubleDQN_online_20230406134359: epoch=16 step=16000 epoch=16 metrics={'time_inference': 0.00016546368598937988, 'time_environment_step': 4.0434837341308595e-05, 'time_sample_batch': 3.826022148132324e-05, 'time_algorithm_update': 0.0007791917324066162, 'loss': 5.160975958112627, 'time_step': 0.001044630765914917, 'rollout_return': 5.479683187255198, 'evaluation': 6.299563935643494} step=16000\n",
      "2023-04-06 13:44.15 [info     ] Model parameters are saved to d3rlpy_logs/DoubleDQN_online_20230406134359/model_17000.pt\n",
      "2023-04-06 13:44.15 [info     ] DoubleDQN_online_20230406134359: epoch=17 step=17000 epoch=17 metrics={'time_inference': 0.00016087913513183593, 'time_environment_step': 3.931617736816406e-05, 'time_sample_batch': 3.6787986755371096e-05, 'time_algorithm_update': 0.000706686019897461, 'loss': 5.300189022596926, 'time_step': 0.0009637470245361328, 'rollout_return': 5.694746632458173, 'evaluation': 5.698472589851384} step=17000\n",
      "2023-04-06 13:44.17 [info     ] Model parameters are saved to d3rlpy_logs/DoubleDQN_online_20230406134359/model_18000.pt\n",
      "2023-04-06 13:44.17 [info     ] DoubleDQN_online_20230406134359: epoch=18 step=18000 epoch=18 metrics={'time_inference': 0.00016835188865661622, 'time_environment_step': 4.151439666748047e-05, 'time_sample_batch': 3.907322883605957e-05, 'time_algorithm_update': 0.0007964158058166504, 'loss': 5.514362549487501, 'time_step': 0.0010667617321014405, 'rollout_return': 5.082352121247904, 'evaluation': 6.527995397467047} step=18000\n",
      "2023-04-06 13:44.18 [info     ] Model parameters are saved to d3rlpy_logs/DoubleDQN_online_20230406134359/model_19000.pt\n",
      "2023-04-06 13:44.18 [info     ] DoubleDQN_online_20230406134359: epoch=19 step=19000 epoch=19 metrics={'time_inference': 0.0001666865348815918, 'time_environment_step': 4.114699363708496e-05, 'time_sample_batch': 3.8539886474609374e-05, 'time_algorithm_update': 0.0007839944362640381, 'loss': 5.669173005338759, 'time_step': 0.0010515806674957276, 'rollout_return': 6.233285580430344, 'evaluation': 9.310385449721341} step=19000\n",
      "2023-04-06 13:44.19 [info     ] Model parameters are saved to d3rlpy_logs/DoubleDQN_online_20230406134359/model_20000.pt\n",
      "2023-04-06 13:44.19 [info     ] DoubleDQN_online_20230406134359: epoch=20 step=20000 epoch=20 metrics={'time_inference': 0.00016402769088745116, 'time_environment_step': 3.9943695068359375e-05, 'time_sample_batch': 3.742480278015137e-05, 'time_algorithm_update': 0.0007309403419494629, 'loss': 5.838598447740078, 'time_step': 0.0009929804801940918, 'rollout_return': 8.037567742601855, 'evaluation': 9.345643895562862} step=20000\n",
      "2023-04-06 13:44.20 [info     ] Model parameters are saved to d3rlpy_logs/DoubleDQN_online_20230406134359/model_21000.pt\n",
      "2023-04-06 13:44.20 [info     ] DoubleDQN_online_20230406134359: epoch=21 step=21000 epoch=21 metrics={'time_inference': 0.00016457533836364746, 'time_environment_step': 4.030299186706543e-05, 'time_sample_batch': 3.767061233520508e-05, 'time_algorithm_update': 0.0007272849082946778, 'loss': 6.404313996523618, 'time_step': 0.0009906251430511475, 'rollout_return': 8.401567741362244, 'evaluation': 9.570196166066486} step=21000\n",
      "2023-04-06 13:44.21 [info     ] Model parameters are saved to d3rlpy_logs/DoubleDQN_online_20230406134359/model_22000.pt\n",
      "2023-04-06 13:44.21 [info     ] DoubleDQN_online_20230406134359: epoch=22 step=22000 epoch=22 metrics={'time_inference': 0.00016317439079284668, 'time_environment_step': 3.9717912673950195e-05, 'time_sample_batch': 3.747797012329101e-05, 'time_algorithm_update': 0.0007289056777954101, 'loss': 6.848142474651337, 'time_step': 0.0009898650646209717, 'rollout_return': 8.196353453296197, 'evaluation': 9.42172718365629} step=22000\n",
      "2023-04-06 13:44.22 [info     ] Model parameters are saved to d3rlpy_logs/DoubleDQN_online_20230406134359/model_23000.pt\n",
      "2023-04-06 13:44.22 [info     ] DoubleDQN_online_20230406134359: epoch=23 step=23000 epoch=23 metrics={'time_inference': 0.0001678605079650879, 'time_environment_step': 4.03740406036377e-05, 'time_sample_batch': 3.812551498413086e-05, 'time_algorithm_update': 0.0007683131694793702, 'loss': 7.2902583311796185, 'time_step': 0.0010357074737548828, 'rollout_return': 8.384831027205262, 'evaluation': 9.445817067853183} step=23000\n",
      "2023-04-06 13:44.23 [info     ] Model parameters are saved to d3rlpy_logs/DoubleDQN_online_20230406134359/model_24000.pt\n",
      "2023-04-06 13:44.23 [info     ] DoubleDQN_online_20230406134359: epoch=24 step=24000 epoch=24 metrics={'time_inference': 0.00016479992866516113, 'time_environment_step': 3.980112075805664e-05, 'time_sample_batch': 3.7737131118774415e-05, 'time_algorithm_update': 0.000723491907119751, 'loss': 7.713380388617516, 'time_step': 0.0009863827228546143, 'rollout_return': 8.231226141960008, 'evaluation': 8.047110567123381} step=24000\n",
      "2023-04-06 13:44.24 [info     ] Model parameters are saved to d3rlpy_logs/DoubleDQN_online_20230406134359/model_25000.pt\n",
      "2023-04-06 13:44.24 [info     ] DoubleDQN_online_20230406134359: epoch=25 step=25000 epoch=25 metrics={'time_inference': 0.00016521549224853517, 'time_environment_step': 4.0356874465942384e-05, 'time_sample_batch': 3.7589311599731446e-05, 'time_algorithm_update': 0.0007154784202575684, 'loss': 8.09661242389679, 'time_step': 0.000979308843612671, 'rollout_return': 8.121378495260167, 'evaluation': 9.46053644660738} step=25000\n",
      "2023-04-06 13:44.25 [info     ] Model parameters are saved to d3rlpy_logs/DoubleDQN_online_20230406134359/model_26000.pt\n",
      "2023-04-06 13:44.25 [info     ] DoubleDQN_online_20230406134359: epoch=26 step=26000 epoch=26 metrics={'time_inference': 0.00016547775268554687, 'time_environment_step': 4.0141582489013675e-05, 'time_sample_batch': 3.749847412109375e-05, 'time_algorithm_update': 0.0007190654277801513, 'loss': 8.341826141119004, 'time_step': 0.000982828140258789, 'rollout_return': 8.234111221758987, 'evaluation': 9.482541119194986} step=26000\n",
      "2023-04-06 13:44.26 [info     ] Model parameters are saved to d3rlpy_logs/DoubleDQN_online_20230406134359/model_27000.pt\n",
      "2023-04-06 13:44.26 [info     ] DoubleDQN_online_20230406134359: epoch=27 step=27000 epoch=27 metrics={'time_inference': 0.00016971564292907716, 'time_environment_step': 4.1744232177734374e-05, 'time_sample_batch': 3.901982307434082e-05, 'time_algorithm_update': 0.0007729561328887939, 'loss': 8.518242900028826, 'time_step': 0.0010449697971343995, 'rollout_return': 8.070588273227623, 'evaluation': 9.363269455396825} step=27000\n",
      "2023-04-06 13:44.27 [info     ] Model parameters are saved to d3rlpy_logs/DoubleDQN_online_20230406134359/model_28000.pt\n",
      "2023-04-06 13:44.27 [info     ] DoubleDQN_online_20230406134359: epoch=28 step=28000 epoch=28 metrics={'time_inference': 0.0001645662784576416, 'time_environment_step': 4.0253877639770505e-05, 'time_sample_batch': 3.784346580505371e-05, 'time_algorithm_update': 0.0007345626354217529, 'loss': 8.619419651899486, 'time_step': 0.0009979712963104248, 'rollout_return': 7.54064401827951, 'evaluation': 7.671743731410946} step=28000\n",
      "2023-04-06 13:44.28 [info     ] Model parameters are saved to d3rlpy_logs/DoubleDQN_online_20230406134359/model_29000.pt\n",
      "2023-04-06 13:44.28 [info     ] DoubleDQN_online_20230406134359: epoch=29 step=29000 epoch=29 metrics={'time_inference': 0.0001684250831604004, 'time_environment_step': 4.053449630737305e-05, 'time_sample_batch': 3.7699460983276365e-05, 'time_algorithm_update': 0.000738917589187622, 'loss': 8.668644929736853, 'time_step': 0.0010063574314117432, 'rollout_return': 7.283893358661545, 'evaluation': 7.954949376461508} step=29000\n",
      "2023-04-06 13:44.29 [info     ] Model parameters are saved to d3rlpy_logs/DoubleDQN_online_20230406134359/model_30000.pt\n",
      "2023-04-06 13:44.29 [info     ] DoubleDQN_online_20230406134359: epoch=30 step=30000 epoch=30 metrics={'time_inference': 0.00016893553733825684, 'time_environment_step': 4.167938232421875e-05, 'time_sample_batch': 3.8806915283203125e-05, 'time_algorithm_update': 0.0007808341979980469, 'loss': 9.03433987133205, 'time_step': 0.0010517809391021728, 'rollout_return': 7.060558269014928, 'evaluation': 8.119593108883539} step=30000\n",
      "2023-04-06 13:44.30 [info     ] Model parameters are saved to d3rlpy_logs/DoubleDQN_online_20230406134359/model_31000.pt\n",
      "2023-04-06 13:44.30 [info     ] DoubleDQN_online_20230406134359: epoch=31 step=31000 epoch=31 metrics={'time_inference': 0.00016710638999938964, 'time_environment_step': 4.0642738342285154e-05, 'time_sample_batch': 3.810214996337891e-05, 'time_algorithm_update': 0.0007342061996459961, 'loss': 9.038263068500907, 'time_step': 0.0010008592605590821, 'rollout_return': 7.048745942905502, 'evaluation': 8.13117062822283} step=31000\n",
      "2023-04-06 13:44.31 [info     ] Model parameters are saved to d3rlpy_logs/DoubleDQN_online_20230406134359/model_32000.pt\n",
      "2023-04-06 13:44.31 [info     ] DoubleDQN_online_20230406134359: epoch=32 step=32000 epoch=32 metrics={'time_inference': 0.000169281005859375, 'time_environment_step': 4.138517379760742e-05, 'time_sample_batch': 3.804326057434082e-05, 'time_algorithm_update': 0.0007314038276672363, 'loss': 9.35013694345951, 'time_step': 0.0010010714530944824, 'rollout_return': 7.344308758579292, 'evaluation': 7.8447408181510125} step=32000\n",
      "2023-04-06 13:44.32 [info     ] Model parameters are saved to d3rlpy_logs/DoubleDQN_online_20230406134359/model_33000.pt\n",
      "2023-04-06 13:44.32 [info     ] DoubleDQN_online_20230406134359: epoch=33 step=33000 epoch=33 metrics={'time_inference': 0.00017788171768188477, 'time_environment_step': 4.653024673461914e-05, 'time_sample_batch': 3.951239585876465e-05, 'time_algorithm_update': 0.0008505403995513916, 'loss': 9.300832094490529, 'time_step': 0.001136521577835083, 'rollout_return': 7.616599901627744, 'evaluation': 8.521569200686375} step=33000\n",
      "2023-04-06 13:44.33 [info     ] Model parameters are saved to d3rlpy_logs/DoubleDQN_online_20230406134359/model_34000.pt\n",
      "2023-04-06 13:44.33 [info     ] DoubleDQN_online_20230406134359: epoch=34 step=34000 epoch=34 metrics={'time_inference': 0.0001676199436187744, 'time_environment_step': 4.114413261413574e-05, 'time_sample_batch': 3.8295745849609374e-05, 'time_algorithm_update': 0.0007390329837799072, 'loss': 9.623731738686562, 'time_step': 0.0010070722103118896, 'rollout_return': 7.575919063085421, 'evaluation': 7.676619515148462} step=34000\n",
      "2023-04-06 13:44.34 [info     ] Model parameters are saved to d3rlpy_logs/DoubleDQN_online_20230406134359/model_35000.pt\n",
      "2023-04-06 13:44.34 [info     ] DoubleDQN_online_20230406134359: epoch=35 step=35000 epoch=35 metrics={'time_inference': 0.00017140841484069823, 'time_environment_step': 4.208064079284668e-05, 'time_sample_batch': 3.909182548522949e-05, 'time_algorithm_update': 0.0007647049427032471, 'loss': 9.630828978657723, 'time_step': 0.0010388317108154298, 'rollout_return': 7.273763308634849, 'evaluation': 8.075436809063884} step=35000\n",
      "2023-04-06 13:44.35 [info     ] Model parameters are saved to d3rlpy_logs/DoubleDQN_online_20230406134359/model_36000.pt\n",
      "2023-04-06 13:44.35 [info     ] DoubleDQN_online_20230406134359: epoch=36 step=36000 epoch=36 metrics={'time_inference': 0.0001710526943206787, 'time_environment_step': 4.145669937133789e-05, 'time_sample_batch': 3.8409948348999025e-05, 'time_algorithm_update': 0.0007528221607208252, 'loss': 9.746909354925156, 'time_step': 0.001025026559829712, 'rollout_return': 7.3410096146547845, 'evaluation': 7.989159550095524} step=36000\n",
      "2023-04-06 13:44.37 [info     ] Model parameters are saved to d3rlpy_logs/DoubleDQN_online_20230406134359/model_37000.pt\n",
      "2023-04-06 13:44.37 [info     ] DoubleDQN_online_20230406134359: epoch=37 step=37000 epoch=37 metrics={'time_inference': 0.00017966890335083008, 'time_environment_step': 4.390716552734375e-05, 'time_sample_batch': 4.049825668334961e-05, 'time_algorithm_update': 0.0008891599178314209, 'loss': 9.809352479886263, 'time_step': 0.0011762013435363768, 'rollout_return': 7.297632214533495, 'evaluation': 7.740071247659017} step=37000\n",
      "2023-04-06 13:44.38 [info     ] Model parameters are saved to d3rlpy_logs/DoubleDQN_online_20230406134359/model_38000.pt\n",
      "2023-04-06 13:44.38 [info     ] DoubleDQN_online_20230406134359: epoch=38 step=38000 epoch=38 metrics={'time_inference': 0.0001701962947845459, 'time_environment_step': 4.157543182373047e-05, 'time_sample_batch': 3.855109214782715e-05, 'time_algorithm_update': 0.0007530560493469238, 'loss': 9.850299887180329, 'time_step': 0.0010247259140014648, 'rollout_return': 6.972446173842883, 'evaluation': 7.017044454388879} step=38000\n",
      "2023-04-06 13:44.39 [info     ] Model parameters are saved to d3rlpy_logs/DoubleDQN_online_20230406134359/model_39000.pt\n",
      "2023-04-06 13:44.39 [info     ] DoubleDQN_online_20230406134359: epoch=39 step=39000 epoch=39 metrics={'time_inference': 0.00017147493362426757, 'time_environment_step': 4.1584014892578124e-05, 'time_sample_batch': 3.908157348632812e-05, 'time_algorithm_update': 0.0007434678077697754, 'loss': 9.946031152844428, 'time_step': 0.0010170433521270751, 'rollout_return': 7.256988197778588, 'evaluation': 7.959921175769109} step=39000\n",
      "2023-04-06 13:44.40 [info     ] Model parameters are saved to d3rlpy_logs/DoubleDQN_online_20230406134359/model_40000.pt\n",
      "2023-04-06 13:44.40 [info     ] DoubleDQN_online_20230406134359: epoch=40 step=40000 epoch=40 metrics={'time_inference': 0.00017331933975219725, 'time_environment_step': 4.232215881347656e-05, 'time_sample_batch': 3.953361511230469e-05, 'time_algorithm_update': 0.0007951478958129883, 'loss': 10.21318037712574, 'time_step': 0.0010721707344055176, 'rollout_return': 6.9649286409519116, 'evaluation': 7.760170058255236} step=40000\n",
      "2023-04-06 13:44.41 [info     ] Model parameters are saved to d3rlpy_logs/DoubleDQN_online_20230406134359/model_41000.pt\n",
      "2023-04-06 13:44.41 [info     ] DoubleDQN_online_20230406134359: epoch=41 step=41000 epoch=41 metrics={'time_inference': 0.0001817014217376709, 'time_environment_step': 4.5326709747314454e-05, 'time_sample_batch': 4.144978523254395e-05, 'time_algorithm_update': 0.0008350181579589844, 'loss': 9.8974237559475, 'time_step': 0.0011270344257354736, 'rollout_return': 7.292298609017771, 'evaluation': 8.031983441234688} step=41000\n",
      "2023-04-06 13:44.42 [info     ] Model parameters are saved to d3rlpy_logs/DoubleDQN_online_20230406134359/model_42000.pt\n",
      "2023-04-06 13:44.42 [info     ] DoubleDQN_online_20230406134359: epoch=42 step=42000 epoch=42 metrics={'time_inference': 0.00017494726181030274, 'time_environment_step': 4.2631864547729494e-05, 'time_sample_batch': 3.974986076354981e-05, 'time_algorithm_update': 0.0007762637138366699, 'loss': 10.03661078095436, 'time_step': 0.0010556228160858154, 'rollout_return': 7.164622365758427, 'evaluation': 7.376110183010377} step=42000\n",
      "2023-04-06 13:44.43 [info     ] Model parameters are saved to d3rlpy_logs/DoubleDQN_online_20230406134359/model_43000.pt\n",
      "2023-04-06 13:44.43 [info     ] DoubleDQN_online_20230406134359: epoch=43 step=43000 epoch=43 metrics={'time_inference': 0.00017497944831848145, 'time_environment_step': 4.2791366577148435e-05, 'time_sample_batch': 3.923130035400391e-05, 'time_algorithm_update': 0.0007757723331451416, 'loss': 10.105135628461838, 'time_step': 0.0010546133518218993, 'rollout_return': 7.11181572705498, 'evaluation': 8.26744242738187} step=43000\n",
      "2023-04-06 13:44.44 [info     ] Model parameters are saved to d3rlpy_logs/DoubleDQN_online_20230406134359/model_44000.pt\n",
      "2023-04-06 13:44.44 [info     ] DoubleDQN_online_20230406134359: epoch=44 step=44000 epoch=44 metrics={'time_inference': 0.00018625807762145995, 'time_environment_step': 4.6027421951293945e-05, 'time_sample_batch': 4.224371910095215e-05, 'time_algorithm_update': 0.0008683111667633056, 'loss': 10.117107716418802, 'time_step': 0.0011669740676879883, 'rollout_return': 7.198671919452561, 'evaluation': 8.151750817036085} step=44000\n",
      "2023-04-06 13:44.46 [info     ] Model parameters are saved to d3rlpy_logs/DoubleDQN_online_20230406134359/model_45000.pt\n",
      "2023-04-06 13:44.46 [info     ] DoubleDQN_online_20230406134359: epoch=45 step=45000 epoch=45 metrics={'time_inference': 0.00017832016944885253, 'time_environment_step': 4.272198677062988e-05, 'time_sample_batch': 4.000568389892578e-05, 'time_algorithm_update': 0.0007917253971099854, 'loss': 10.165280239105225, 'time_step': 0.0010749154090881348, 'rollout_return': 7.218685610173004, 'evaluation': 7.748041241004661} step=45000\n",
      "2023-04-06 13:44.47 [info     ] Model parameters are saved to d3rlpy_logs/DoubleDQN_online_20230406134359/model_46000.pt\n",
      "2023-04-06 13:44.47 [info     ] DoubleDQN_online_20230406134359: epoch=46 step=46000 epoch=46 metrics={'time_inference': 0.00017478537559509276, 'time_environment_step': 4.2763471603393555e-05, 'time_sample_batch': 3.9386272430419924e-05, 'time_algorithm_update': 0.000769921064376831, 'loss': 10.216689025230705, 'time_step': 0.0010487663745880128, 'rollout_return': 7.144250790537414, 'evaluation': 8.13898612481838} step=46000\n",
      "2023-04-06 13:44.48 [info     ] Model parameters are saved to d3rlpy_logs/DoubleDQN_online_20230406134359/model_47000.pt\n",
      "2023-04-06 13:44.48 [info     ] DoubleDQN_online_20230406134359: epoch=47 step=47000 epoch=47 metrics={'time_inference': 0.00017470717430114746, 'time_environment_step': 4.259324073791504e-05, 'time_sample_batch': 3.9808273315429685e-05, 'time_algorithm_update': 0.0007791800498962402, 'loss': 10.097054684579373, 'time_step': 0.0010581884384155272, 'rollout_return': 7.189738212041156, 'evaluation': 8.06407677406679} step=47000\n",
      "2023-04-06 13:44.49 [info     ] Model parameters are saved to d3rlpy_logs/DoubleDQN_online_20230406134359/model_48000.pt\n",
      "2023-04-06 13:44.49 [info     ] DoubleDQN_online_20230406134359: epoch=48 step=48000 epoch=48 metrics={'time_inference': 0.00018027806282043456, 'time_environment_step': 4.430007934570312e-05, 'time_sample_batch': 4.1919469833374025e-05, 'time_algorithm_update': 0.0008509392738342285, 'loss': 10.02546569898352, 'time_step': 0.0011402955055236817, 'rollout_return': 6.9562159683103495, 'evaluation': 7.823594659421022} step=48000\n",
      "2023-04-06 13:44.50 [info     ] Model parameters are saved to d3rlpy_logs/DoubleDQN_online_20230406134359/model_49000.pt\n",
      "2023-04-06 13:44.50 [info     ] DoubleDQN_online_20230406134359: epoch=49 step=49000 epoch=49 metrics={'time_inference': 0.00017904472351074218, 'time_environment_step': 4.355072975158691e-05, 'time_sample_batch': 4.0315866470336916e-05, 'time_algorithm_update': 0.0008021066188812256, 'loss': 10.089129643671214, 'time_step': 0.0010874190330505372, 'rollout_return': 7.187358116954419, 'evaluation': 8.33021845203865} step=49000\n",
      "2023-04-06 13:44.51 [info     ] Model parameters are saved to d3rlpy_logs/DoubleDQN_online_20230406134359/model_50000.pt\n",
      "2023-04-06 13:44.51 [info     ] DoubleDQN_online_20230406134359: epoch=50 step=50000 epoch=50 metrics={'time_inference': 0.00017819595336914063, 'time_environment_step': 4.318809509277344e-05, 'time_sample_batch': 4.0073633193969724e-05, 'time_algorithm_update': 0.0007959351539611816, 'loss': 9.804739765048026, 'time_step': 0.001079704999923706, 'rollout_return': 7.043834260257814, 'evaluation': 7.5842225178602956} step=50000\n",
      "2023-04-06 13:44.52 [info     ] Model parameters are saved to d3rlpy_logs/DoubleDQN_online_20230406134359/model_51000.pt\n",
      "2023-04-06 13:44.52 [info     ] DoubleDQN_online_20230406134359: epoch=51 step=51000 epoch=51 metrics={'time_inference': 0.0001831216812133789, 'time_environment_step': 4.4585466384887694e-05, 'time_sample_batch': 4.1188478469848634e-05, 'time_algorithm_update': 0.0008551867008209229, 'loss': 9.822332500576973, 'time_step': 0.0011471061706542969, 'rollout_return': 7.185974120736555, 'evaluation': 8.362800381007094} step=51000\n",
      "2023-04-06 13:44.53 [info     ] Model parameters are saved to d3rlpy_logs/DoubleDQN_online_20230406134359/model_52000.pt\n",
      "2023-04-06 13:44.53 [info     ] DoubleDQN_online_20230406134359: epoch=52 step=52000 epoch=52 metrics={'time_inference': 0.00017964363098144532, 'time_environment_step': 4.3967962265014647e-05, 'time_sample_batch': 4.055929183959961e-05, 'time_algorithm_update': 0.0008124535083770752, 'loss': 9.933770575419068, 'time_step': 0.0010991621017456055, 'rollout_return': 7.3480423866911995, 'evaluation': 7.597507003892548} step=52000\n",
      "2023-04-06 13:44.55 [info     ] Model parameters are saved to d3rlpy_logs/DoubleDQN_online_20230406134359/model_53000.pt\n",
      "2023-04-06 13:44.55 [info     ] DoubleDQN_online_20230406134359: epoch=53 step=53000 epoch=53 metrics={'time_inference': 0.00018041372299194337, 'time_environment_step': 4.418206214904785e-05, 'time_sample_batch': 4.0473222732543947e-05, 'time_algorithm_update': 0.000816359281539917, 'loss': 9.730075558796525, 'time_step': 0.0011041014194488525, 'rollout_return': 7.530791546811482, 'evaluation': 8.557152277082693} step=53000\n",
      "2023-04-06 13:44.56 [info     ] Model parameters are saved to d3rlpy_logs/DoubleDQN_online_20230406134359/model_54000.pt\n",
      "2023-04-06 13:44.56 [info     ] DoubleDQN_online_20230406134359: epoch=54 step=54000 epoch=54 metrics={'time_inference': 0.000180819034576416, 'time_environment_step': 4.402947425842285e-05, 'time_sample_batch': 4.0554046630859376e-05, 'time_algorithm_update': 0.0008098118305206299, 'loss': 9.708118654847144, 'time_step': 0.0010978326797485352, 'rollout_return': 7.4628351861858615, 'evaluation': 7.878946215552896} step=54000\n",
      "2023-04-06 13:44.57 [info     ] Model parameters are saved to d3rlpy_logs/DoubleDQN_online_20230406134359/model_55000.pt\n",
      "2023-04-06 13:44.57 [info     ] DoubleDQN_online_20230406134359: epoch=55 step=55000 epoch=55 metrics={'time_inference': 0.00018528866767883302, 'time_environment_step': 4.555773735046387e-05, 'time_sample_batch': 4.1873931884765626e-05, 'time_algorithm_update': 0.000873319149017334, 'loss': 9.748246845953167, 'time_step': 0.0011699168682098389, 'rollout_return': 7.761868147373517, 'evaluation': 8.440796246348622} step=55000\n",
      "2023-04-06 13:44.58 [info     ] Model parameters are saved to d3rlpy_logs/DoubleDQN_online_20230406134359/model_56000.pt\n",
      "2023-04-06 13:44.58 [info     ] DoubleDQN_online_20230406134359: epoch=56 step=56000 epoch=56 metrics={'time_inference': 0.00018160295486450195, 'time_environment_step': 4.4565677642822265e-05, 'time_sample_batch': 4.0801525115966794e-05, 'time_algorithm_update': 0.0008194177150726319, 'loss': 9.736168581984938, 'time_step': 0.0011090629100799561, 'rollout_return': 7.849543831021789, 'evaluation': 8.565658526026889} step=56000\n",
      "2023-04-06 13:44.59 [info     ] Model parameters are saved to d3rlpy_logs/DoubleDQN_online_20230406134359/model_57000.pt\n",
      "2023-04-06 13:44.59 [info     ] DoubleDQN_online_20230406134359: epoch=57 step=57000 epoch=57 metrics={'time_inference': 0.00017893528938293457, 'time_environment_step': 4.380488395690918e-05, 'time_sample_batch': 4.0578126907348633e-05, 'time_algorithm_update': 0.0007891988754272461, 'loss': 9.928632189907134, 'time_step': 0.001074983835220337, 'rollout_return': 7.7853556330902896, 'evaluation': 9.4757473816426} step=57000\n",
      "2023-04-06 13:45.00 [info     ] Model parameters are saved to d3rlpy_logs/DoubleDQN_online_20230406134359/model_58000.pt\n",
      "2023-04-06 13:45.00 [info     ] DoubleDQN_online_20230406134359: epoch=58 step=58000 epoch=58 metrics={'time_inference': 0.00018344879150390626, 'time_environment_step': 4.459404945373535e-05, 'time_sample_batch': 4.081821441650391e-05, 'time_algorithm_update': 0.00083882737159729, 'loss': 9.844493057966233, 'time_step': 0.0011308116912841797, 'rollout_return': 7.471990907641438, 'evaluation': 8.023386636285807} step=58000\n",
      "2023-04-06 13:45.01 [info     ] Model parameters are saved to d3rlpy_logs/DoubleDQN_online_20230406134359/model_59000.pt\n",
      "2023-04-06 13:45.02 [info     ] DoubleDQN_online_20230406134359: epoch=59 step=59000 epoch=59 metrics={'time_inference': 0.0001866896152496338, 'time_environment_step': 4.565644264221192e-05, 'time_sample_batch': 4.1895866394042966e-05, 'time_algorithm_update': 0.0008371787071228027, 'loss': 9.952302298426629, 'time_step': 0.0011350226402282715, 'rollout_return': 7.899524704705055, 'evaluation': 8.33560252672127} step=59000\n",
      "2023-04-06 13:45.03 [info     ] Model parameters are saved to d3rlpy_logs/DoubleDQN_online_20230406134359/model_60000.pt\n",
      "2023-04-06 13:45.03 [info     ] DoubleDQN_online_20230406134359: epoch=60 step=60000 epoch=60 metrics={'time_inference': 0.00018014049530029296, 'time_environment_step': 4.3643712997436525e-05, 'time_sample_batch': 4.007482528686524e-05, 'time_algorithm_update': 0.0007845613956451416, 'loss': 9.77668297612667, 'time_step': 0.0010708394050598145, 'rollout_return': 7.85204758848738, 'evaluation': 7.919834060526102} step=60000\n",
      "2023-04-06 13:45.04 [info     ] Model parameters are saved to d3rlpy_logs/DoubleDQN_online_20230406134359/model_61000.pt\n",
      "2023-04-06 13:45.04 [info     ] DoubleDQN_online_20230406134359: epoch=61 step=61000 epoch=61 metrics={'time_inference': 0.0001785268783569336, 'time_environment_step': 4.361844062805176e-05, 'time_sample_batch': 4.020142555236816e-05, 'time_algorithm_update': 0.0007903740406036377, 'loss': 10.06841544151306, 'time_step': 0.0010750434398651124, 'rollout_return': 7.703976472864293, 'evaluation': 8.323745472985346} step=61000\n",
      "2023-04-06 13:45.05 [info     ] Model parameters are saved to d3rlpy_logs/DoubleDQN_online_20230406134359/model_62000.pt\n",
      "2023-04-06 13:45.05 [info     ] DoubleDQN_online_20230406134359: epoch=62 step=62000 epoch=62 metrics={'time_inference': 0.00018257069587707518, 'time_environment_step': 4.477643966674805e-05, 'time_sample_batch': 4.0752410888671874e-05, 'time_algorithm_update': 0.0008333842754364014, 'loss': 10.162673621296882, 'time_step': 0.0011244566440582276, 'rollout_return': 7.493513797506055, 'evaluation': 8.213659668758838} step=62000\n",
      "2023-04-06 13:45.06 [info     ] Model parameters are saved to d3rlpy_logs/DoubleDQN_online_20230406134359/model_63000.pt\n",
      "2023-04-06 13:45.06 [info     ] DoubleDQN_online_20230406134359: epoch=63 step=63000 epoch=63 metrics={'time_inference': 0.0001811227798461914, 'time_environment_step': 4.3851137161254886e-05, 'time_sample_batch': 4.0373086929321286e-05, 'time_algorithm_update': 0.0007973828315734863, 'loss': 10.270085186600685, 'time_step': 0.0010852594375610352, 'rollout_return': 7.4834729383367655, 'evaluation': 6.536761157150437} step=63000\n",
      "2023-04-06 13:45.07 [info     ] Model parameters are saved to d3rlpy_logs/DoubleDQN_online_20230406134359/model_64000.pt\n",
      "2023-04-06 13:45.07 [info     ] DoubleDQN_online_20230406134359: epoch=64 step=64000 epoch=64 metrics={'time_inference': 0.00017989397048950195, 'time_environment_step': 4.384016990661621e-05, 'time_sample_batch': 4.0156841278076174e-05, 'time_algorithm_update': 0.000786130428314209, 'loss': 10.226308459758759, 'time_step': 0.0010725762844085694, 'rollout_return': 7.227657235155109, 'evaluation': 8.207662478258367} step=64000\n",
      "2023-04-06 13:45.08 [info     ] Model parameters are saved to d3rlpy_logs/DoubleDQN_online_20230406134359/model_65000.pt\n",
      "2023-04-06 13:45.08 [info     ] DoubleDQN_online_20230406134359: epoch=65 step=65000 epoch=65 metrics={'time_inference': 0.00018375349044799804, 'time_environment_step': 4.4844388961791994e-05, 'time_sample_batch': 4.1154861450195316e-05, 'time_algorithm_update': 0.0008471512794494629, 'loss': 10.058966223347932, 'time_step': 0.0011402812004089355, 'rollout_return': 7.290354798623737, 'evaluation': 8.336861402012175} step=65000\n",
      "2023-04-06 13:45.09 [info     ] Model parameters are saved to d3rlpy_logs/DoubleDQN_online_20230406134359/model_66000.pt\n",
      "2023-04-06 13:45.09 [info     ] DoubleDQN_online_20230406134359: epoch=66 step=66000 epoch=66 metrics={'time_inference': 0.0001831369400024414, 'time_environment_step': 4.471826553344727e-05, 'time_sample_batch': 4.152679443359375e-05, 'time_algorithm_update': 0.0008247814178466797, 'loss': 10.169245942559094, 'time_step': 0.0011172983646392822, 'rollout_return': 7.208687266593828, 'evaluation': 7.988280140409204} step=66000\n",
      "2023-04-06 13:45.11 [info     ] Model parameters are saved to d3rlpy_logs/DoubleDQN_online_20230406134359/model_67000.pt\n",
      "2023-04-06 13:45.11 [info     ] DoubleDQN_online_20230406134359: epoch=67 step=67000 epoch=67 metrics={'time_inference': 0.00023555660247802734, 'time_environment_step': 5.877256393432617e-05, 'time_sample_batch': 5.020904541015625e-05, 'time_algorithm_update': 0.0011984076499938965, 'loss': 10.30475055348873, 'time_step': 0.001573896884918213, 'rollout_return': 7.221018852984854, 'evaluation': 7.491931025315286} step=67000\n",
      "2023-04-06 13:45.13 [info     ] Model parameters are saved to d3rlpy_logs/DoubleDQN_online_20230406134359/model_68000.pt\n",
      "2023-04-06 13:45.13 [info     ] DoubleDQN_online_20230406134359: epoch=68 step=68000 epoch=68 metrics={'time_inference': 0.0002418084144592285, 'time_environment_step': 5.851244926452637e-05, 'time_sample_batch': 5.347251892089844e-05, 'time_algorithm_update': 0.0013315248489379882, 'loss': 10.364329415082931, 'time_step': 0.0017196269035339355, 'rollout_return': 7.291232216468115, 'evaluation': 7.068209655552616} step=68000\n",
      "2023-04-06 13:45.15 [info     ] Model parameters are saved to d3rlpy_logs/DoubleDQN_online_20230406134359/model_69000.pt\n",
      "2023-04-06 13:45.15 [info     ] DoubleDQN_online_20230406134359: epoch=69 step=69000 epoch=69 metrics={'time_inference': 0.0002455461025238037, 'time_environment_step': 8.112645149230957e-05, 'time_sample_batch': 5.34820556640625e-05, 'time_algorithm_update': 0.0014579730033874511, 'loss': 10.168472552441061, 'time_step': 0.0018710310459136962, 'rollout_return': 7.129759599589119, 'evaluation': 8.0574788039072} step=69000\n",
      "2023-04-06 13:45.16 [info     ] Model parameters are saved to d3rlpy_logs/DoubleDQN_online_20230406134359/model_70000.pt\n",
      "2023-04-06 13:45.16 [info     ] DoubleDQN_online_20230406134359: epoch=70 step=70000 epoch=70 metrics={'time_inference': 0.00022475886344909668, 'time_environment_step': 5.7053327560424806e-05, 'time_sample_batch': 4.998874664306641e-05, 'time_algorithm_update': 0.001090442419052124, 'loss': 10.2132481443882, 'time_step': 0.001451796531677246, 'rollout_return': 7.172648059321151, 'evaluation': 7.944395615388274} step=70000\n",
      "2023-04-06 13:45.18 [info     ] Model parameters are saved to d3rlpy_logs/DoubleDQN_online_20230406134359/model_71000.pt\n",
      "2023-04-06 13:45.18 [info     ] DoubleDQN_online_20230406134359: epoch=71 step=71000 epoch=71 metrics={'time_inference': 0.0002026197910308838, 'time_environment_step': 4.932689666748047e-05, 'time_sample_batch': 4.4257640838623046e-05, 'time_algorithm_update': 0.0009296488761901856, 'loss': 10.11896728515625, 'time_step': 0.0012520833015441895, 'rollout_return': 7.151016793082424, 'evaluation': 8.380888295154474} step=71000\n",
      "2023-04-06 13:45.19 [info     ] Model parameters are saved to d3rlpy_logs/DoubleDQN_online_20230406134359/model_72000.pt\n",
      "2023-04-06 13:45.19 [info     ] DoubleDQN_online_20230406134359: epoch=72 step=72000 epoch=72 metrics={'time_inference': 0.00019960474967956542, 'time_environment_step': 4.92861270904541e-05, 'time_sample_batch': 4.410600662231445e-05, 'time_algorithm_update': 0.0009090054035186768, 'loss': 10.00714602957666, 'time_step': 0.0012271153926849366, 'rollout_return': 7.230774149423504, 'evaluation': 7.884739564069458} step=72000\n",
      "2023-04-06 13:45.20 [info     ] Model parameters are saved to d3rlpy_logs/DoubleDQN_online_20230406134359/model_73000.pt\n",
      "2023-04-06 13:45.20 [info     ] DoubleDQN_online_20230406134359: epoch=73 step=73000 epoch=73 metrics={'time_inference': 0.0002008082866668701, 'time_environment_step': 4.928827285766601e-05, 'time_sample_batch': 4.522252082824707e-05, 'time_algorithm_update': 0.0009122257232666016, 'loss': 9.932291586518287, 'time_step': 0.0012329964637756347, 'rollout_return': 7.218083537671746, 'evaluation': 8.000527694936025} step=73000\n",
      "2023-04-06 13:45.21 [info     ] Model parameters are saved to d3rlpy_logs/DoubleDQN_online_20230406134359/model_74000.pt\n",
      "2023-04-06 13:45.21 [info     ] DoubleDQN_online_20230406134359: epoch=74 step=74000 epoch=74 metrics={'time_inference': 0.00019911456108093263, 'time_environment_step': 4.934930801391601e-05, 'time_sample_batch': 4.4335365295410154e-05, 'time_algorithm_update': 0.0009056849479675293, 'loss': 9.989926967330277, 'time_step': 0.0012239623069763184, 'rollout_return': 7.24894068346706, 'evaluation': 8.096544264111815} step=74000\n",
      "2023-04-06 13:45.23 [info     ] Model parameters are saved to d3rlpy_logs/DoubleDQN_online_20230406134359/model_75000.pt\n",
      "2023-04-06 13:45.23 [info     ] DoubleDQN_online_20230406134359: epoch=75 step=75000 epoch=75 metrics={'time_inference': 0.00020371079444885253, 'time_environment_step': 4.916238784790039e-05, 'time_sample_batch': 4.4373035430908204e-05, 'time_algorithm_update': 0.0009050445556640625, 'loss': 10.21676832292229, 'time_step': 0.0012276899814605714, 'rollout_return': 6.887656805012117, 'evaluation': 8.065469204700282} step=75000\n",
      "2023-04-06 13:45.24 [info     ] Model parameters are saved to d3rlpy_logs/DoubleDQN_online_20230406134359/model_76000.pt\n",
      "2023-04-06 13:45.24 [info     ] DoubleDQN_online_20230406134359: epoch=76 step=76000 epoch=76 metrics={'time_inference': 0.0001997506618499756, 'time_environment_step': 4.946136474609375e-05, 'time_sample_batch': 4.430675506591797e-05, 'time_algorithm_update': 0.0009037249088287353, 'loss': 9.984427858352662, 'time_step': 0.0012229559421539306, 'rollout_return': 7.2232897114673555, 'evaluation': 7.90851591819901} step=76000\n",
      "2023-04-06 13:45.25 [info     ] Model parameters are saved to d3rlpy_logs/DoubleDQN_online_20230406134359/model_77000.pt\n",
      "2023-04-06 13:45.25 [info     ] DoubleDQN_online_20230406134359: epoch=77 step=77000 epoch=77 metrics={'time_inference': 0.0001997067928314209, 'time_environment_step': 4.946684837341309e-05, 'time_sample_batch': 4.4100284576416015e-05, 'time_algorithm_update': 0.0009217617511749267, 'loss': 9.971194556754082, 'time_step': 0.0012403628826141357, 'rollout_return': 6.995570238702481, 'evaluation': 8.031323683335126} step=77000\n",
      "2023-04-06 13:45.26 [info     ] Model parameters are saved to d3rlpy_logs/DoubleDQN_online_20230406134359/model_78000.pt\n",
      "2023-04-06 13:45.26 [info     ] DoubleDQN_online_20230406134359: epoch=78 step=78000 epoch=78 metrics={'time_inference': 0.00019843220710754394, 'time_environment_step': 4.884743690490723e-05, 'time_sample_batch': 4.4580459594726565e-05, 'time_algorithm_update': 0.0008975906372070313, 'loss': 9.909034673333169, 'time_step': 0.0012146682739257813, 'rollout_return': 7.267788423533241, 'evaluation': 7.893616869345484} step=78000\n",
      "2023-04-06 13:45.28 [info     ] Model parameters are saved to d3rlpy_logs/DoubleDQN_online_20230406134359/model_79000.pt\n",
      "2023-04-06 13:45.28 [info     ] DoubleDQN_online_20230406134359: epoch=79 step=79000 epoch=79 metrics={'time_inference': 0.00020905876159667969, 'time_environment_step': 5.1250934600830076e-05, 'time_sample_batch': 4.553389549255371e-05, 'time_algorithm_update': 0.0009849753379821777, 'loss': 9.944522184610367, 'time_step': 0.0013173744678497315, 'rollout_return': 7.190060373605268, 'evaluation': 8.322726989598248} step=79000\n",
      "2023-04-06 13:45.29 [info     ] Model parameters are saved to d3rlpy_logs/DoubleDQN_online_20230406134359/model_80000.pt\n",
      "2023-04-06 13:45.29 [info     ] DoubleDQN_online_20230406134359: epoch=80 step=80000 epoch=80 metrics={'time_inference': 0.00019912099838256835, 'time_environment_step': 4.907774925231934e-05, 'time_sample_batch': 4.4181108474731445e-05, 'time_algorithm_update': 0.0009269797801971435, 'loss': 9.89959523830563, 'time_step': 0.0012448880672454835, 'rollout_return': 7.23547435946261, 'evaluation': 7.53039564920442} step=80000\n",
      "2023-04-06 13:45.31 [info     ] Model parameters are saved to d3rlpy_logs/DoubleDQN_online_20230406134359/model_81000.pt\n",
      "2023-04-06 13:45.31 [info     ] DoubleDQN_online_20230406134359: epoch=81 step=81000 epoch=81 metrics={'time_inference': 0.00021549081802368163, 'time_environment_step': 5.711245536804199e-05, 'time_sample_batch': 4.8675060272216794e-05, 'time_algorithm_update': 0.001074836492538452, 'loss': 9.935031354427338, 'time_step': 0.0014229567050933838, 'rollout_return': 7.239462859838362, 'evaluation': 9.417948772743236} step=81000\n",
      "2023-04-06 13:45.32 [info     ] Model parameters are saved to d3rlpy_logs/DoubleDQN_online_20230406134359/model_82000.pt\n",
      "2023-04-06 13:45.32 [info     ] DoubleDQN_online_20230406134359: epoch=82 step=82000 epoch=82 metrics={'time_inference': 0.00022360730171203612, 'time_environment_step': 5.5951595306396484e-05, 'time_sample_batch': 4.992938041687012e-05, 'time_algorithm_update': 0.001050645112991333, 'loss': 9.710285308953374, 'time_step': 0.0014103899002075196, 'rollout_return': 7.325885990078785, 'evaluation': 8.192401183623826} step=82000\n",
      "2023-04-06 13:45.34 [info     ] Model parameters are saved to d3rlpy_logs/DoubleDQN_online_20230406134359/model_83000.pt\n",
      "2023-04-06 13:45.34 [info     ] DoubleDQN_online_20230406134359: epoch=83 step=83000 epoch=83 metrics={'time_inference': 0.00022161746025085448, 'time_environment_step': 5.475616455078125e-05, 'time_sample_batch': 4.941868782043457e-05, 'time_algorithm_update': 0.0009909656047821045, 'loss': 9.763475662127137, 'time_step': 0.0013453910350799561, 'rollout_return': 7.196461467723088, 'evaluation': 7.8542247511555185} step=83000\n",
      "2023-04-06 13:45.35 [info     ] Model parameters are saved to d3rlpy_logs/DoubleDQN_online_20230406134359/model_84000.pt\n",
      "2023-04-06 13:45.35 [info     ] DoubleDQN_online_20230406134359: epoch=84 step=84000 epoch=84 metrics={'time_inference': 0.00021113395690917967, 'time_environment_step': 5.2709817886352536e-05, 'time_sample_batch': 4.658150672912598e-05, 'time_algorithm_update': 0.0009611639976501465, 'loss': 9.905026234101504, 'time_step': 0.001298306941986084, 'rollout_return': 7.260074461411391, 'evaluation': 8.536044193590643} step=84000\n",
      "2023-04-06 13:45.36 [info     ] Model parameters are saved to d3rlpy_logs/DoubleDQN_online_20230406134359/model_85000.pt\n",
      "2023-04-06 13:45.36 [info     ] DoubleDQN_online_20230406134359: epoch=85 step=85000 epoch=85 metrics={'time_inference': 0.00019991374015808106, 'time_environment_step': 4.8873186111450196e-05, 'time_sample_batch': 4.4248104095458985e-05, 'time_algorithm_update': 0.0009199531078338623, 'loss': 9.686834874030202, 'time_step': 0.00123834490776062, 'rollout_return': 7.706090683493613, 'evaluation': 7.890621010954158} step=85000\n",
      "2023-04-06 13:45.37 [info     ] Model parameters are saved to d3rlpy_logs/DoubleDQN_online_20230406134359/model_86000.pt\n",
      "2023-04-06 13:45.37 [info     ] DoubleDQN_online_20230406134359: epoch=86 step=86000 epoch=86 metrics={'time_inference': 0.00019612312316894532, 'time_environment_step': 4.811620712280273e-05, 'time_sample_batch': 4.378533363342285e-05, 'time_algorithm_update': 0.000892726182937622, 'loss': 9.908035318374633, 'time_step': 0.0012056128978729249, 'rollout_return': 7.71892318013803, 'evaluation': 9.32360658029894} step=86000\n",
      "2023-04-06 13:45.39 [info     ] Model parameters are saved to d3rlpy_logs/DoubleDQN_online_20230406134359/model_87000.pt\n",
      "2023-04-06 13:45.39 [info     ] DoubleDQN_online_20230406134359: epoch=87 step=87000 epoch=87 metrics={'time_inference': 0.00019616365432739257, 'time_environment_step': 4.876542091369629e-05, 'time_sample_batch': 4.472851753234863e-05, 'time_algorithm_update': 0.000905799388885498, 'loss': 9.705934026017784, 'time_step': 0.0012204716205596925, 'rollout_return': 7.930199444312323, 'evaluation': 8.386775272446727} step=87000\n",
      "2023-04-06 13:45.40 [info     ] Model parameters are saved to d3rlpy_logs/DoubleDQN_online_20230406134359/model_88000.pt\n",
      "2023-04-06 13:45.40 [info     ] DoubleDQN_online_20230406134359: epoch=88 step=88000 epoch=88 metrics={'time_inference': 0.00019423532485961914, 'time_environment_step': 4.7815561294555663e-05, 'time_sample_batch': 4.3334722518920895e-05, 'time_algorithm_update': 0.0009027645587921143, 'loss': 9.738618714369833, 'time_step': 0.001212859869003296, 'rollout_return': 7.900686625465311, 'evaluation': 8.119293204347924} step=88000\n",
      "2023-04-06 13:45.41 [info     ] Model parameters are saved to d3rlpy_logs/DoubleDQN_online_20230406134359/model_89000.pt\n",
      "2023-04-06 13:45.41 [info     ] DoubleDQN_online_20230406134359: epoch=89 step=89000 epoch=89 metrics={'time_inference': 0.00019442367553710937, 'time_environment_step': 4.8347234725952145e-05, 'time_sample_batch': 4.3761968612670896e-05, 'time_algorithm_update': 0.0009027106761932373, 'loss': 9.895368436150253, 'time_step': 0.0012144784927368164, 'rollout_return': 7.656203326489225, 'evaluation': 8.560577950133503} step=89000\n",
      "2023-04-06 13:45.42 [info     ] Model parameters are saved to d3rlpy_logs/DoubleDQN_online_20230406134359/model_90000.pt\n",
      "2023-04-06 13:45.42 [info     ] DoubleDQN_online_20230406134359: epoch=90 step=90000 epoch=90 metrics={'time_inference': 0.0001990225315093994, 'time_environment_step': 4.901576042175293e-05, 'time_sample_batch': 4.4846534729003905e-05, 'time_algorithm_update': 0.0009003379344940186, 'loss': 9.866677275061607, 'time_step': 0.0012189648151397705, 'rollout_return': 7.690987998929364, 'evaluation': 9.403797483868393} step=90000\n",
      "2023-04-06 13:45.44 [info     ] Model parameters are saved to d3rlpy_logs/DoubleDQN_online_20230406134359/model_91000.pt\n",
      "2023-04-06 13:45.44 [info     ] DoubleDQN_online_20230406134359: epoch=91 step=91000 epoch=91 metrics={'time_inference': 0.00019451332092285155, 'time_environment_step': 4.685235023498535e-05, 'time_sample_batch': 4.3162107467651366e-05, 'time_algorithm_update': 0.0008870892524719239, 'loss': 9.830102002382278, 'time_step': 0.0011960818767547607, 'rollout_return': 7.665226624737186, 'evaluation': 9.407132815372275} step=91000\n",
      "2023-04-06 13:45.45 [info     ] Model parameters are saved to d3rlpy_logs/DoubleDQN_online_20230406134359/model_92000.pt\n",
      "2023-04-06 13:45.45 [info     ] DoubleDQN_online_20230406134359: epoch=92 step=92000 epoch=92 metrics={'time_inference': 0.00018476510047912598, 'time_environment_step': 4.5930385589599606e-05, 'time_sample_batch': 4.2246580123901366e-05, 'time_algorithm_update': 0.0008573932647705078, 'loss': 9.75580329477787, 'time_step': 0.001153928518295288, 'rollout_return': 7.547874166779348, 'evaluation': 8.352127090517433} step=92000\n",
      "2023-04-06 13:45.46 [info     ] Model parameters are saved to d3rlpy_logs/DoubleDQN_online_20230406134359/model_93000.pt\n",
      "2023-04-06 13:45.46 [info     ] DoubleDQN_online_20230406134359: epoch=93 step=93000 epoch=93 metrics={'time_inference': 0.00018767189979553223, 'time_environment_step': 4.636096954345703e-05, 'time_sample_batch': 4.1443586349487304e-05, 'time_algorithm_update': 0.0008555049896240234, 'loss': 10.06389296221733, 'time_step': 0.001154890775680542, 'rollout_return': 7.39622738327857, 'evaluation': 8.003031477386884} step=93000\n",
      "2023-04-06 13:45.47 [info     ] Model parameters are saved to d3rlpy_logs/DoubleDQN_online_20230406134359/model_94000.pt\n",
      "2023-04-06 13:45.47 [info     ] DoubleDQN_online_20230406134359: epoch=94 step=94000 epoch=94 metrics={'time_inference': 0.0001810305118560791, 'time_environment_step': 4.47077751159668e-05, 'time_sample_batch': 4.122209548950195e-05, 'time_algorithm_update': 0.000842832326889038, 'loss': 9.764286907408387, 'time_step': 0.001132742404937744, 'rollout_return': 7.292954864401625, 'evaluation': 8.327543436341601} step=94000\n",
      "2023-04-06 13:45.48 [info     ] Model parameters are saved to d3rlpy_logs/DoubleDQN_online_20230406134359/model_95000.pt\n",
      "2023-04-06 13:45.48 [info     ] DoubleDQN_online_20230406134359: epoch=95 step=95000 epoch=95 metrics={'time_inference': 0.00018344211578369141, 'time_environment_step': 4.571413993835449e-05, 'time_sample_batch': 4.2327880859375e-05, 'time_algorithm_update': 0.0008631119728088379, 'loss': 10.112421686530114, 'time_step': 0.001158146858215332, 'rollout_return': 7.219625291605925, 'evaluation': 8.353997580969569} step=95000\n",
      "2023-04-06 13:45.50 [info     ] Model parameters are saved to d3rlpy_logs/DoubleDQN_online_20230406134359/model_96000.pt\n",
      "2023-04-06 13:45.50 [info     ] DoubleDQN_online_20230406134359: epoch=96 step=96000 epoch=96 metrics={'time_inference': 0.00018090176582336425, 'time_environment_step': 4.5821428298950194e-05, 'time_sample_batch': 4.0677547454833985e-05, 'time_algorithm_update': 0.000827502965927124, 'loss': 10.009698830723762, 'time_step': 0.0011179466247558593, 'rollout_return': 7.60192644290004, 'evaluation': 8.387405066974377} step=96000\n",
      "2023-04-06 13:45.51 [info     ] Model parameters are saved to d3rlpy_logs/DoubleDQN_online_20230406134359/model_97000.pt\n",
      "2023-04-06 13:45.51 [info     ] DoubleDQN_online_20230406134359: epoch=97 step=97000 epoch=97 metrics={'time_inference': 0.00018034815788269042, 'time_environment_step': 4.421377182006836e-05, 'time_sample_batch': 4.092645645141601e-05, 'time_algorithm_update': 0.0008040597438812256, 'loss': 9.86938204216957, 'time_step': 0.0010923480987548829, 'rollout_return': 7.148279521236771, 'evaluation': 8.293117012080685} step=97000\n",
      "2023-04-06 13:45.52 [info     ] Model parameters are saved to d3rlpy_logs/DoubleDQN_online_20230406134359/model_98000.pt\n",
      "2023-04-06 13:45.52 [info     ] DoubleDQN_online_20230406134359: epoch=98 step=98000 epoch=98 metrics={'time_inference': 0.000180051326751709, 'time_environment_step': 4.5026063919067385e-05, 'time_sample_batch': 4.104351997375488e-05, 'time_algorithm_update': 0.0008747258186340332, 'loss': 9.953693751061335, 'time_step': 0.0011638100147247313, 'rollout_return': 7.190505007160433, 'evaluation': 8.280195544995312} step=98000\n",
      "2023-04-06 13:45.53 [info     ] Model parameters are saved to d3rlpy_logs/DoubleDQN_online_20230406134359/model_99000.pt\n",
      "2023-04-06 13:45.53 [info     ] DoubleDQN_online_20230406134359: epoch=99 step=99000 epoch=99 metrics={'time_inference': 0.00017524623870849608, 'time_environment_step': 4.308724403381348e-05, 'time_sample_batch': 4.016613960266113e-05, 'time_algorithm_update': 0.0008026964664459229, 'loss': 9.928755079846828, 'time_step': 0.0010836083889007569, 'rollout_return': 7.337476861845571, 'evaluation': 7.7576033575988905} step=99000\n",
      "2023-04-06 13:45.54 [info     ] Model parameters are saved to d3rlpy_logs/DoubleDQN_online_20230406134359/model_100000.pt\n",
      "2023-04-06 13:45.54 [info     ] DoubleDQN_online_20230406134359: epoch=100 step=100000 epoch=100 metrics={'time_inference': 0.0001772475242614746, 'time_environment_step': 4.444527626037598e-05, 'time_sample_batch': 4.054760932922363e-05, 'time_algorithm_update': 0.0008357443809509277, 'loss': 9.982770810842513, 'time_step': 0.0011207220554351807, 'rollout_return': 7.034150211218972, 'evaluation': 7.709349466646986} step=100000\n"
     ]
    },
    {
     "data": {
      "application/vnd.jupyter.widget-view+json": {
       "model_id": "ecdf01856ec04f8faf495b4f18d79a00",
       "version_major": 2,
       "version_minor": 0
      },
      "text/plain": [
       "[obtain_trajectories]:   0%|          | 0/10000 [00:00<?, ?it/s]"
      ]
     },
     "metadata": {},
     "output_type": "display_data"
    },
    {
     "data": {
      "application/vnd.jupyter.widget-view+json": {
       "model_id": "44706c66cb2c4f1e9058563d957ad7b2",
       "version_major": 2,
       "version_minor": 0
      },
      "text/plain": [
       "[obtain_trajectories]:   0%|          | 0/10000 [00:00<?, ?it/s]"
      ]
     },
     "metadata": {},
     "output_type": "display_data"
    },
    {
     "name": "stdout",
     "output_type": "stream",
     "text": [
      "2023-04-06 13:46.57 [debug    ] RandomIterator is selected.\n",
      "2023-04-06 13:46.57 [info     ] Directory is created at d3rlpy_logs/DiscreteCQL_20230406134657\n",
      "2023-04-06 13:46.57 [debug    ] Building models...\n",
      "2023-04-06 13:46.57 [debug    ] Models have been built.\n",
      "2023-04-06 13:46.57 [info     ] Parameters are saved to d3rlpy_logs/DiscreteCQL_20230406134657/params.json params={'action_scaler': None, 'alpha': 1.0, 'batch_size': 32, 'encoder_factory': {'type': 'vector', 'params': {'hidden_units': [30, 30], 'activation': 'relu', 'use_batch_norm': False, 'dropout_rate': None, 'use_dense': False}}, 'gamma': 0.99, 'generated_maxlen': 100000, 'learning_rate': 6.25e-05, 'n_critics': 1, 'n_frames': 1, 'n_steps': 1, 'optim_factory': {'optim_cls': 'Adam', 'betas': (0.9, 0.999), 'eps': 1e-08, 'weight_decay': 0, 'amsgrad': False}, 'q_func_factory': {'type': 'mean', 'params': {'share_encoder': False}}, 'real_ratio': 1.0, 'reward_scaler': None, 'scaler': None, 'target_update_interval': 8000, 'use_gpu': None, 'algorithm': 'DiscreteCQL', 'observation_shape': (5,), 'action_size': 20}\n"
     ]
    },
    {
     "data": {
      "application/vnd.jupyter.widget-view+json": {
       "model_id": "de8565693d1e42518fe0d99f513feb8c",
       "version_major": 2,
       "version_minor": 0
      },
      "text/plain": [
       "Epoch 1/1:   0%|          | 0/10000 [00:00<?, ?it/s]"
      ]
     },
     "metadata": {},
     "output_type": "display_data"
    },
    {
     "name": "stdout",
     "output_type": "stream",
     "text": [
      "2023-04-06 13:47.09 [info     ] DiscreteCQL_20230406134657: epoch=1 step=10000 epoch=1 metrics={'time_sample_batch': 8.767492771148682e-05, 'time_algorithm_update': 0.0010483191251754761, 'loss': 2.2456714215517044, 'time_step': 0.0012134636163711548} step=10000\n",
      "2023-04-06 13:47.09 [info     ] Model parameters are saved to d3rlpy_logs/DiscreteCQL_20230406134657/model_10000.pt\n"
     ]
    },
    {
     "data": {
      "application/vnd.jupyter.widget-view+json": {
       "model_id": "fe8f5e4260df42a2803f9d993555358f",
       "version_major": 2,
       "version_minor": 0
      },
      "text/plain": [
       "[fit FQE model]:   0%|          | 0/2 [00:00<?, ?it/s]"
      ]
     },
     "metadata": {},
     "output_type": "display_data"
    },
    {
     "name": "stdout",
     "output_type": "stream",
     "text": [
      "2023-04-06 13:47.09 [debug    ] RoundIterator is selected.\n",
      "2023-04-06 13:47.09 [info     ] Directory is created at d3rlpy_logs/DiscreteFQE_20230406134709\n",
      "2023-04-06 13:47.09 [debug    ] Fitting scaler...              scaler=min_max\n",
      "2023-04-06 13:47.09 [debug    ] Building models...\n",
      "2023-04-06 13:47.09 [debug    ] Models have been built.\n",
      "2023-04-06 13:47.09 [info     ] Parameters are saved to d3rlpy_logs/DiscreteFQE_20230406134709/params.json params={'action_scaler': None, 'batch_size': 100, 'encoder_factory': {'type': 'vector', 'params': {'hidden_units': [30, 30], 'activation': 'relu', 'use_batch_norm': False, 'dropout_rate': None, 'use_dense': False}}, 'gamma': 0.95, 'generated_maxlen': 100000, 'learning_rate': 0.0001, 'n_critics': 1, 'n_frames': 1, 'n_steps': 1, 'optim_factory': {'optim_cls': 'Adam', 'betas': (0.9, 0.999), 'eps': 1e-08, 'weight_decay': 0, 'amsgrad': False}, 'q_func_factory': {'type': 'mean', 'params': {'share_encoder': False}}, 'real_ratio': 1.0, 'reward_scaler': None, 'scaler': {'type': 'min_max', 'params': {'maximum': array([0.98860703, 0.98765528, 0.99590232, 0.98676617, 0.99884846]), 'minimum': array([-0.99465054, -0.9926474 , -0.98908318, -0.99759041, -0.98927816])}}, 'target_update_interval': 100, 'use_gpu': None, 'algorithm': 'DiscreteFQE', 'observation_shape': (5,), 'action_size': 20}\n"
     ]
    },
    {
     "data": {
      "application/vnd.jupyter.widget-view+json": {
       "model_id": "170cd1fe1025408daf00d2b04f51dd61",
       "version_major": 2,
       "version_minor": 0
      },
      "text/plain": [
       "Epoch 1/1:   0%|          | 0/1000 [00:00<?, ?it/s]"
      ]
     },
     "metadata": {},
     "output_type": "display_data"
    },
    {
     "name": "stdout",
     "output_type": "stream",
     "text": [
      "2023-04-06 13:47.11 [info     ] DiscreteFQE_20230406134709: epoch=1 step=1000 epoch=1 metrics={'time_sample_batch': 0.00010620689392089844, 'time_algorithm_update': 0.0010554590225219727, 'loss': 0.2716339487656951, 'time_step': 0.0012094616889953614} step=1000\n",
      "2023-04-06 13:47.11 [info     ] Model parameters are saved to d3rlpy_logs/DiscreteFQE_20230406134709/model_1000.pt\n",
      "2023-04-06 13:47.11 [debug    ] RoundIterator is selected.\n",
      "2023-04-06 13:47.11 [info     ] Directory is created at d3rlpy_logs/DiscreteFQE_20230406134711\n",
      "2023-04-06 13:47.11 [debug    ] Fitting scaler...              scaler=min_max\n",
      "2023-04-06 13:47.11 [debug    ] Building models...\n",
      "2023-04-06 13:47.11 [debug    ] Models have been built.\n",
      "2023-04-06 13:47.11 [info     ] Parameters are saved to d3rlpy_logs/DiscreteFQE_20230406134711/params.json params={'action_scaler': None, 'batch_size': 100, 'encoder_factory': {'type': 'vector', 'params': {'hidden_units': [30, 30], 'activation': 'relu', 'use_batch_norm': False, 'dropout_rate': None, 'use_dense': False}}, 'gamma': 0.95, 'generated_maxlen': 100000, 'learning_rate': 0.0001, 'n_critics': 1, 'n_frames': 1, 'n_steps': 1, 'optim_factory': {'optim_cls': 'Adam', 'betas': (0.9, 0.999), 'eps': 1e-08, 'weight_decay': 0, 'amsgrad': False}, 'q_func_factory': {'type': 'mean', 'params': {'share_encoder': False}}, 'real_ratio': 1.0, 'reward_scaler': None, 'scaler': {'type': 'min_max', 'params': {'maximum': array([0.98860703, 0.98765528, 0.99590232, 0.98676617, 0.99884846]), 'minimum': array([-0.99465054, -0.9926474 , -0.98908318, -0.99759041, -0.98927816])}}, 'target_update_interval': 100, 'use_gpu': None, 'algorithm': 'DiscreteFQE', 'observation_shape': (5,), 'action_size': 20}\n"
     ]
    },
    {
     "data": {
      "application/vnd.jupyter.widget-view+json": {
       "model_id": "bd36dd807e6a464283a283c3bc41e6dd",
       "version_major": 2,
       "version_minor": 0
      },
      "text/plain": [
       "Epoch 1/1:   0%|          | 0/1000 [00:00<?, ?it/s]"
      ]
     },
     "metadata": {},
     "output_type": "display_data"
    },
    {
     "name": "stdout",
     "output_type": "stream",
     "text": [
      "2023-04-06 13:47.12 [info     ] DiscreteFQE_20230406134711: epoch=1 step=1000 epoch=1 metrics={'time_sample_batch': 0.00010227823257446289, 'time_algorithm_update': 0.001026210069656372, 'loss': 0.21322892657667397, 'time_step': 0.0011780550479888916} step=1000\n",
      "2023-04-06 13:47.12 [info     ] Model parameters are saved to d3rlpy_logs/DiscreteFQE_20230406134711/model_1000.pt\n"
     ]
    },
    {
     "data": {
      "application/vnd.jupyter.widget-view+json": {
       "model_id": "85aaa269af834142ac4ecfa37c67850a",
       "version_major": 2,
       "version_minor": 0
      },
      "text/plain": [
       "[fit MWL model]:   0%|          | 0/2 [00:00<?, ?it/s]"
      ]
     },
     "metadata": {},
     "output_type": "display_data"
    },
    {
     "data": {
      "application/vnd.jupyter.widget-view+json": {
       "model_id": "8f14a1ec116840afabfd8130154eba0f",
       "version_major": 2,
       "version_minor": 0
      },
      "text/plain": [
       "[fitting_weight_function]:   0%|          | 0/100 [00:00<?, ?it/s]"
      ]
     },
     "metadata": {},
     "output_type": "display_data"
    },
    {
     "data": {
      "application/vnd.jupyter.widget-view+json": {
       "model_id": "5fd03ccf9442443395d08a2c98a7c64e",
       "version_major": 2,
       "version_minor": 0
      },
      "text/plain": [
       "[fitting_weight_function]:   0%|          | 0/100 [00:00<?, ?it/s]"
      ]
     },
     "metadata": {},
     "output_type": "display_data"
    },
    {
     "data": {
      "application/vnd.jupyter.widget-view+json": {
       "model_id": "0a5d751177fd4a708c62fcc416a01676",
       "version_major": 2,
       "version_minor": 0
      },
      "text/plain": [
       "[fitting_weight_function]:   0%|          | 0/100 [00:00<?, ?it/s]"
      ]
     },
     "metadata": {},
     "output_type": "display_data"
    },
    {
     "data": {
      "application/vnd.jupyter.widget-view+json": {
       "model_id": "4fb5fe2b310a4573b6639f2d94d83c5d",
       "version_major": 2,
       "version_minor": 0
      },
      "text/plain": [
       "[fitting_weight_function]:   0%|          | 0/100 [00:00<?, ?it/s]"
      ]
     },
     "metadata": {},
     "output_type": "display_data"
    },
    {
     "data": {
      "application/vnd.jupyter.widget-view+json": {
       "model_id": "e87395a974014660bb14a412cdcb8b4c",
       "version_major": 2,
       "version_minor": 0
      },
      "text/plain": [
       "[collect input data: eval_policy]:   0%|          | 0/2 [00:00<?, ?it/s]"
      ]
     },
     "metadata": {},
     "output_type": "display_data"
    },
    {
     "data": {
      "application/vnd.jupyter.widget-view+json": {
       "model_id": "08aae0afc5b8427ab296eb866cb5eb47",
       "version_major": 2,
       "version_minor": 0
      },
      "text/plain": [
       "[calculate on-policy policy value]:   0%|          | 0/100 [00:00<?, ?it/s]"
      ]
     },
     "metadata": {},
     "output_type": "display_data"
    },
    {
     "data": {
      "application/vnd.jupyter.widget-view+json": {
       "model_id": "3153f3f3febc4f268f798081a2c92b45",
       "version_major": 2,
       "version_minor": 0
      },
      "text/plain": [
       "[calculate on-policy policy value]:   0%|          | 0/100 [00:00<?, ?it/s]"
      ]
     },
     "metadata": {},
     "output_type": "display_data"
    },
    {
     "name": "stderr",
     "output_type": "stream",
     "text": [
      "/Users/ren/dev/ofrl/tutorial/../ofrl/ope/estimators_base.py:445: RuntimeWarning: invalid value encountered in divide\n",
      "  return numerator / denominator\n"
     ]
    },
    {
     "data": {
      "application/vnd.jupyter.widget-view+json": {
       "model_id": "5e7790d10fff4b12a45d45b82a4d5fae",
       "version_major": 2,
       "version_minor": 0
      },
      "text/plain": [
       "[obtain_trajectories]:   0%|          | 0/10000 [00:00<?, ?it/s]"
      ]
     },
     "metadata": {},
     "output_type": "display_data"
    },
    {
     "data": {
      "application/vnd.jupyter.widget-view+json": {
       "model_id": "e0e290af671041849a5f42545f7d9e6c",
       "version_major": 2,
       "version_minor": 0
      },
      "text/plain": [
       "[obtain_trajectories]:   0%|          | 0/10000 [00:00<?, ?it/s]"
      ]
     },
     "metadata": {},
     "output_type": "display_data"
    },
    {
     "name": "stdout",
     "output_type": "stream",
     "text": [
      "2023-04-06 13:48.51 [debug    ] RandomIterator is selected.\n",
      "2023-04-06 13:48.51 [info     ] Directory is created at d3rlpy_logs/DiscreteCQL_20230406134851\n",
      "2023-04-06 13:48.51 [debug    ] Building models...\n",
      "2023-04-06 13:48.51 [debug    ] Models have been built.\n",
      "2023-04-06 13:48.51 [info     ] Parameters are saved to d3rlpy_logs/DiscreteCQL_20230406134851/params.json params={'action_scaler': None, 'alpha': 1.0, 'batch_size': 32, 'encoder_factory': {'type': 'vector', 'params': {'hidden_units': [30, 30], 'activation': 'relu', 'use_batch_norm': False, 'dropout_rate': None, 'use_dense': False}}, 'gamma': 0.99, 'generated_maxlen': 100000, 'learning_rate': 6.25e-05, 'n_critics': 1, 'n_frames': 1, 'n_steps': 1, 'optim_factory': {'optim_cls': 'Adam', 'betas': (0.9, 0.999), 'eps': 1e-08, 'weight_decay': 0, 'amsgrad': False}, 'q_func_factory': {'type': 'mean', 'params': {'share_encoder': False}}, 'real_ratio': 1.0, 'reward_scaler': None, 'scaler': None, 'target_update_interval': 8000, 'use_gpu': None, 'algorithm': 'DiscreteCQL', 'observation_shape': (5,), 'action_size': 20}\n"
     ]
    },
    {
     "data": {
      "application/vnd.jupyter.widget-view+json": {
       "model_id": "9adee0ea979b4bfe88d7bf37eb13ff59",
       "version_major": 2,
       "version_minor": 0
      },
      "text/plain": [
       "Epoch 1/1:   0%|          | 0/10000 [00:00<?, ?it/s]"
      ]
     },
     "metadata": {},
     "output_type": "display_data"
    },
    {
     "name": "stdout",
     "output_type": "stream",
     "text": [
      "2023-04-06 13:49.04 [info     ] DiscreteCQL_20230406134851: epoch=1 step=10000 epoch=1 metrics={'time_sample_batch': 9.092411994934082e-05, 'time_algorithm_update': 0.0011330017805099488, 'loss': 2.218807859325409, 'time_step': 0.0013033153295516967} step=10000\n",
      "2023-04-06 13:49.04 [info     ] Model parameters are saved to d3rlpy_logs/DiscreteCQL_20230406134851/model_10000.pt\n"
     ]
    },
    {
     "data": {
      "application/vnd.jupyter.widget-view+json": {
       "model_id": "112d4a43f6024031b6d9da4060cadefa",
       "version_major": 2,
       "version_minor": 0
      },
      "text/plain": [
       "[fit FQE model]:   0%|          | 0/2 [00:00<?, ?it/s]"
      ]
     },
     "metadata": {},
     "output_type": "display_data"
    },
    {
     "name": "stdout",
     "output_type": "stream",
     "text": [
      "2023-04-06 13:49.04 [debug    ] RoundIterator is selected.\n",
      "2023-04-06 13:49.04 [info     ] Directory is created at d3rlpy_logs/DiscreteFQE_20230406134904\n",
      "2023-04-06 13:49.04 [debug    ] Fitting scaler...              scaler=min_max\n",
      "2023-04-06 13:49.04 [debug    ] Building models...\n",
      "2023-04-06 13:49.04 [debug    ] Models have been built.\n",
      "2023-04-06 13:49.04 [info     ] Parameters are saved to d3rlpy_logs/DiscreteFQE_20230406134904/params.json params={'action_scaler': None, 'batch_size': 100, 'encoder_factory': {'type': 'vector', 'params': {'hidden_units': [30, 30], 'activation': 'relu', 'use_batch_norm': False, 'dropout_rate': None, 'use_dense': False}}, 'gamma': 0.95, 'generated_maxlen': 100000, 'learning_rate': 0.0001, 'n_critics': 1, 'n_frames': 1, 'n_steps': 1, 'optim_factory': {'optim_cls': 'Adam', 'betas': (0.9, 0.999), 'eps': 1e-08, 'weight_decay': 0, 'amsgrad': False}, 'q_func_factory': {'type': 'mean', 'params': {'share_encoder': False}}, 'real_ratio': 1.0, 'reward_scaler': None, 'scaler': {'type': 'min_max', 'params': {'maximum': array([0.98684053, 0.99767291, 0.99244902, 0.99284159, 0.99882432]), 'minimum': array([-0.98790897, -0.98005768, -0.99424953, -0.99817774, -0.98615869])}}, 'target_update_interval': 100, 'use_gpu': None, 'algorithm': 'DiscreteFQE', 'observation_shape': (5,), 'action_size': 20}\n"
     ]
    },
    {
     "data": {
      "application/vnd.jupyter.widget-view+json": {
       "model_id": "7ea392d7c8284ab7a0202f63d8163a62",
       "version_major": 2,
       "version_minor": 0
      },
      "text/plain": [
       "Epoch 1/1:   0%|          | 0/1000 [00:00<?, ?it/s]"
      ]
     },
     "metadata": {},
     "output_type": "display_data"
    },
    {
     "name": "stdout",
     "output_type": "stream",
     "text": [
      "2023-04-06 13:49.06 [info     ] DiscreteFQE_20230406134904: epoch=1 step=1000 epoch=1 metrics={'time_sample_batch': 0.00010502266883850098, 'time_algorithm_update': 0.0010115509033203126, 'loss': 0.22902747256308795, 'time_step': 0.0011648280620574951} step=1000\n",
      "2023-04-06 13:49.06 [info     ] Model parameters are saved to d3rlpy_logs/DiscreteFQE_20230406134904/model_1000.pt\n",
      "2023-04-06 13:49.06 [debug    ] RoundIterator is selected.\n",
      "2023-04-06 13:49.06 [info     ] Directory is created at d3rlpy_logs/DiscreteFQE_20230406134906\n",
      "2023-04-06 13:49.06 [debug    ] Fitting scaler...              scaler=min_max\n",
      "2023-04-06 13:49.06 [debug    ] Building models...\n",
      "2023-04-06 13:49.06 [debug    ] Models have been built.\n",
      "2023-04-06 13:49.06 [info     ] Parameters are saved to d3rlpy_logs/DiscreteFQE_20230406134906/params.json params={'action_scaler': None, 'batch_size': 100, 'encoder_factory': {'type': 'vector', 'params': {'hidden_units': [30, 30], 'activation': 'relu', 'use_batch_norm': False, 'dropout_rate': None, 'use_dense': False}}, 'gamma': 0.95, 'generated_maxlen': 100000, 'learning_rate': 0.0001, 'n_critics': 1, 'n_frames': 1, 'n_steps': 1, 'optim_factory': {'optim_cls': 'Adam', 'betas': (0.9, 0.999), 'eps': 1e-08, 'weight_decay': 0, 'amsgrad': False}, 'q_func_factory': {'type': 'mean', 'params': {'share_encoder': False}}, 'real_ratio': 1.0, 'reward_scaler': None, 'scaler': {'type': 'min_max', 'params': {'maximum': array([0.98684053, 0.99767291, 0.99244902, 0.99284159, 0.99882432]), 'minimum': array([-0.98790897, -0.98005768, -0.99424953, -0.99817774, -0.98615869])}}, 'target_update_interval': 100, 'use_gpu': None, 'algorithm': 'DiscreteFQE', 'observation_shape': (5,), 'action_size': 20}\n"
     ]
    },
    {
     "data": {
      "application/vnd.jupyter.widget-view+json": {
       "model_id": "f308acf85e8a4b61828c58ec9c5cdfb9",
       "version_major": 2,
       "version_minor": 0
      },
      "text/plain": [
       "Epoch 1/1:   0%|          | 0/1000 [00:00<?, ?it/s]"
      ]
     },
     "metadata": {},
     "output_type": "display_data"
    },
    {
     "name": "stdout",
     "output_type": "stream",
     "text": [
      "2023-04-06 13:49.07 [info     ] DiscreteFQE_20230406134906: epoch=1 step=1000 epoch=1 metrics={'time_sample_batch': 0.00010554218292236328, 'time_algorithm_update': 0.0010247573852539063, 'loss': 0.24009297928214074, 'time_step': 0.0011907122135162353} step=1000\n",
      "2023-04-06 13:49.07 [info     ] Model parameters are saved to d3rlpy_logs/DiscreteFQE_20230406134906/model_1000.pt\n"
     ]
    },
    {
     "data": {
      "application/vnd.jupyter.widget-view+json": {
       "model_id": "3c060425d4bf4887ac07b59389dc8472",
       "version_major": 2,
       "version_minor": 0
      },
      "text/plain": [
       "[fit MWL model]:   0%|          | 0/2 [00:00<?, ?it/s]"
      ]
     },
     "metadata": {},
     "output_type": "display_data"
    },
    {
     "data": {
      "application/vnd.jupyter.widget-view+json": {
       "model_id": "57e77586a3734a619408045e4da0fc73",
       "version_major": 2,
       "version_minor": 0
      },
      "text/plain": [
       "[fitting_weight_function]:   0%|          | 0/100 [00:00<?, ?it/s]"
      ]
     },
     "metadata": {},
     "output_type": "display_data"
    },
    {
     "data": {
      "application/vnd.jupyter.widget-view+json": {
       "model_id": "398b5dd0881849c98248058d79d5f321",
       "version_major": 2,
       "version_minor": 0
      },
      "text/plain": [
       "[fitting_weight_function]:   0%|          | 0/100 [00:00<?, ?it/s]"
      ]
     },
     "metadata": {},
     "output_type": "display_data"
    },
    {
     "data": {
      "application/vnd.jupyter.widget-view+json": {
       "model_id": "bc876496b8b44576b8116ae33605f4f5",
       "version_major": 2,
       "version_minor": 0
      },
      "text/plain": [
       "[fitting_weight_function]:   0%|          | 0/100 [00:00<?, ?it/s]"
      ]
     },
     "metadata": {},
     "output_type": "display_data"
    },
    {
     "data": {
      "application/vnd.jupyter.widget-view+json": {
       "model_id": "7e4acf0b891a4847b6ae21965b40e89e",
       "version_major": 2,
       "version_minor": 0
      },
      "text/plain": [
       "[fitting_weight_function]:   0%|          | 0/100 [00:00<?, ?it/s]"
      ]
     },
     "metadata": {},
     "output_type": "display_data"
    },
    {
     "data": {
      "application/vnd.jupyter.widget-view+json": {
       "model_id": "0e55a34e85534571a6b4f8d62ca084f6",
       "version_major": 2,
       "version_minor": 0
      },
      "text/plain": [
       "[collect input data: eval_policy]:   0%|          | 0/2 [00:00<?, ?it/s]"
      ]
     },
     "metadata": {},
     "output_type": "display_data"
    },
    {
     "data": {
      "application/vnd.jupyter.widget-view+json": {
       "model_id": "4fcc200ba7254acda8012f5ab99ebe16",
       "version_major": 2,
       "version_minor": 0
      },
      "text/plain": [
       "[calculate on-policy policy value]:   0%|          | 0/100 [00:00<?, ?it/s]"
      ]
     },
     "metadata": {},
     "output_type": "display_data"
    },
    {
     "data": {
      "application/vnd.jupyter.widget-view+json": {
       "model_id": "0532a8fef20542d08d7cb5ce05e681ca",
       "version_major": 2,
       "version_minor": 0
      },
      "text/plain": [
       "[calculate on-policy policy value]:   0%|          | 0/100 [00:00<?, ?it/s]"
      ]
     },
     "metadata": {},
     "output_type": "display_data"
    },
    {
     "name": "stderr",
     "output_type": "stream",
     "text": [
      "/Users/ren/dev/ofrl/tutorial/../ofrl/ope/estimators_base.py:445: RuntimeWarning: invalid value encountered in divide\n",
      "  return numerator / denominator\n"
     ]
    },
    {
     "data": {
      "application/vnd.jupyter.widget-view+json": {
       "model_id": "6bbc796468764c7f877f4eb0b08c0fbe",
       "version_major": 2,
       "version_minor": 0
      },
      "text/plain": [
       "[obtain_trajectories]:   0%|          | 0/10000 [00:00<?, ?it/s]"
      ]
     },
     "metadata": {},
     "output_type": "display_data"
    },
    {
     "data": {
      "application/vnd.jupyter.widget-view+json": {
       "model_id": "1dde48b97ab840b9bfd836ff6650e180",
       "version_major": 2,
       "version_minor": 0
      },
      "text/plain": [
       "[obtain_trajectories]:   0%|          | 0/10000 [00:00<?, ?it/s]"
      ]
     },
     "metadata": {},
     "output_type": "display_data"
    },
    {
     "name": "stdout",
     "output_type": "stream",
     "text": [
      "2023-04-06 13:50.49 [debug    ] RandomIterator is selected.\n",
      "2023-04-06 13:50.49 [info     ] Directory is created at d3rlpy_logs/DiscreteCQL_20230406135049\n",
      "2023-04-06 13:50.49 [debug    ] Building models...\n",
      "2023-04-06 13:50.49 [debug    ] Models have been built.\n",
      "2023-04-06 13:50.49 [info     ] Parameters are saved to d3rlpy_logs/DiscreteCQL_20230406135049/params.json params={'action_scaler': None, 'alpha': 1.0, 'batch_size': 32, 'encoder_factory': {'type': 'vector', 'params': {'hidden_units': [30, 30], 'activation': 'relu', 'use_batch_norm': False, 'dropout_rate': None, 'use_dense': False}}, 'gamma': 0.99, 'generated_maxlen': 100000, 'learning_rate': 6.25e-05, 'n_critics': 1, 'n_frames': 1, 'n_steps': 1, 'optim_factory': {'optim_cls': 'Adam', 'betas': (0.9, 0.999), 'eps': 1e-08, 'weight_decay': 0, 'amsgrad': False}, 'q_func_factory': {'type': 'mean', 'params': {'share_encoder': False}}, 'real_ratio': 1.0, 'reward_scaler': None, 'scaler': None, 'target_update_interval': 8000, 'use_gpu': None, 'algorithm': 'DiscreteCQL', 'observation_shape': (5,), 'action_size': 20}\n"
     ]
    },
    {
     "data": {
      "application/vnd.jupyter.widget-view+json": {
       "model_id": "0d6a760f82364f27b80446dbf1ab7eeb",
       "version_major": 2,
       "version_minor": 0
      },
      "text/plain": [
       "Epoch 1/1:   0%|          | 0/10000 [00:00<?, ?it/s]"
      ]
     },
     "metadata": {},
     "output_type": "display_data"
    },
    {
     "name": "stdout",
     "output_type": "stream",
     "text": [
      "2023-04-06 13:51.03 [info     ] DiscreteCQL_20230406135049: epoch=1 step=10000 epoch=1 metrics={'time_sample_batch': 9.313826560974121e-05, 'time_algorithm_update': 0.0011768299102783203, 'loss': 2.215310429096222, 'time_step': 0.0013539377450942993} step=10000\n",
      "2023-04-06 13:51.03 [info     ] Model parameters are saved to d3rlpy_logs/DiscreteCQL_20230406135049/model_10000.pt\n"
     ]
    },
    {
     "data": {
      "application/vnd.jupyter.widget-view+json": {
       "model_id": "b6d97127b1cd45d7b0ef1c81da343834",
       "version_major": 2,
       "version_minor": 0
      },
      "text/plain": [
       "[fit FQE model]:   0%|          | 0/2 [00:00<?, ?it/s]"
      ]
     },
     "metadata": {},
     "output_type": "display_data"
    },
    {
     "name": "stdout",
     "output_type": "stream",
     "text": [
      "2023-04-06 13:51.03 [debug    ] RoundIterator is selected.\n",
      "2023-04-06 13:51.03 [info     ] Directory is created at d3rlpy_logs/DiscreteFQE_20230406135103\n",
      "2023-04-06 13:51.03 [debug    ] Fitting scaler...              scaler=min_max\n",
      "2023-04-06 13:51.03 [debug    ] Building models...\n",
      "2023-04-06 13:51.03 [debug    ] Models have been built.\n",
      "2023-04-06 13:51.03 [info     ] Parameters are saved to d3rlpy_logs/DiscreteFQE_20230406135103/params.json params={'action_scaler': None, 'batch_size': 100, 'encoder_factory': {'type': 'vector', 'params': {'hidden_units': [30, 30], 'activation': 'relu', 'use_batch_norm': False, 'dropout_rate': None, 'use_dense': False}}, 'gamma': 0.95, 'generated_maxlen': 100000, 'learning_rate': 0.0001, 'n_critics': 1, 'n_frames': 1, 'n_steps': 1, 'optim_factory': {'optim_cls': 'Adam', 'betas': (0.9, 0.999), 'eps': 1e-08, 'weight_decay': 0, 'amsgrad': False}, 'q_func_factory': {'type': 'mean', 'params': {'share_encoder': False}}, 'real_ratio': 1.0, 'reward_scaler': None, 'scaler': {'type': 'min_max', 'params': {'maximum': array([0.98888034, 0.98797936, 0.9930543 , 0.99669379, 0.99947724]), 'minimum': array([-0.98765138, -0.99484266, -0.99070041, -0.99818961, -0.98976904])}}, 'target_update_interval': 100, 'use_gpu': None, 'algorithm': 'DiscreteFQE', 'observation_shape': (5,), 'action_size': 20}\n"
     ]
    },
    {
     "data": {
      "application/vnd.jupyter.widget-view+json": {
       "model_id": "542238d93efc49f6a8a177fe9d4a79b4",
       "version_major": 2,
       "version_minor": 0
      },
      "text/plain": [
       "Epoch 1/1:   0%|          | 0/1000 [00:00<?, ?it/s]"
      ]
     },
     "metadata": {},
     "output_type": "display_data"
    },
    {
     "name": "stdout",
     "output_type": "stream",
     "text": [
      "2023-04-06 13:51.04 [info     ] DiscreteFQE_20230406135103: epoch=1 step=1000 epoch=1 metrics={'time_sample_batch': 0.00010590362548828125, 'time_algorithm_update': 0.0010729756355285646, 'loss': 0.2104146259203553, 'time_step': 0.0012278790473937988} step=1000\n",
      "2023-04-06 13:51.04 [info     ] Model parameters are saved to d3rlpy_logs/DiscreteFQE_20230406135103/model_1000.pt\n",
      "2023-04-06 13:51.04 [debug    ] RoundIterator is selected.\n",
      "2023-04-06 13:51.04 [info     ] Directory is created at d3rlpy_logs/DiscreteFQE_20230406135104\n",
      "2023-04-06 13:51.04 [debug    ] Fitting scaler...              scaler=min_max\n",
      "2023-04-06 13:51.04 [debug    ] Building models...\n",
      "2023-04-06 13:51.04 [debug    ] Models have been built.\n",
      "2023-04-06 13:51.04 [info     ] Parameters are saved to d3rlpy_logs/DiscreteFQE_20230406135104/params.json params={'action_scaler': None, 'batch_size': 100, 'encoder_factory': {'type': 'vector', 'params': {'hidden_units': [30, 30], 'activation': 'relu', 'use_batch_norm': False, 'dropout_rate': None, 'use_dense': False}}, 'gamma': 0.95, 'generated_maxlen': 100000, 'learning_rate': 0.0001, 'n_critics': 1, 'n_frames': 1, 'n_steps': 1, 'optim_factory': {'optim_cls': 'Adam', 'betas': (0.9, 0.999), 'eps': 1e-08, 'weight_decay': 0, 'amsgrad': False}, 'q_func_factory': {'type': 'mean', 'params': {'share_encoder': False}}, 'real_ratio': 1.0, 'reward_scaler': None, 'scaler': {'type': 'min_max', 'params': {'maximum': array([0.98888034, 0.98797936, 0.9930543 , 0.99669379, 0.99947724]), 'minimum': array([-0.98765138, -0.99484266, -0.99070041, -0.99818961, -0.98976904])}}, 'target_update_interval': 100, 'use_gpu': None, 'algorithm': 'DiscreteFQE', 'observation_shape': (5,), 'action_size': 20}\n"
     ]
    },
    {
     "data": {
      "application/vnd.jupyter.widget-view+json": {
       "model_id": "eacd6f42095045e48c5737c0c615107d",
       "version_major": 2,
       "version_minor": 0
      },
      "text/plain": [
       "Epoch 1/1:   0%|          | 0/1000 [00:00<?, ?it/s]"
      ]
     },
     "metadata": {},
     "output_type": "display_data"
    },
    {
     "name": "stdout",
     "output_type": "stream",
     "text": [
      "2023-04-06 13:51.05 [info     ] DiscreteFQE_20230406135104: epoch=1 step=1000 epoch=1 metrics={'time_sample_batch': 0.00010625481605529786, 'time_algorithm_update': 0.0010801079273223878, 'loss': 0.19691681295633315, 'time_step': 0.0012357676029205323} step=1000\n",
      "2023-04-06 13:51.05 [info     ] Model parameters are saved to d3rlpy_logs/DiscreteFQE_20230406135104/model_1000.pt\n"
     ]
    },
    {
     "data": {
      "application/vnd.jupyter.widget-view+json": {
       "model_id": "f00459b417144ea0a99419b03ef109fe",
       "version_major": 2,
       "version_minor": 0
      },
      "text/plain": [
       "[fit MWL model]:   0%|          | 0/2 [00:00<?, ?it/s]"
      ]
     },
     "metadata": {},
     "output_type": "display_data"
    },
    {
     "data": {
      "application/vnd.jupyter.widget-view+json": {
       "model_id": "ef53fb5f576c429c9bd9060e2695601a",
       "version_major": 2,
       "version_minor": 0
      },
      "text/plain": [
       "[fitting_weight_function]:   0%|          | 0/100 [00:00<?, ?it/s]"
      ]
     },
     "metadata": {},
     "output_type": "display_data"
    },
    {
     "data": {
      "application/vnd.jupyter.widget-view+json": {
       "model_id": "2232439d23424f5a88a7490b18bc4e12",
       "version_major": 2,
       "version_minor": 0
      },
      "text/plain": [
       "[fitting_weight_function]:   0%|          | 0/100 [00:00<?, ?it/s]"
      ]
     },
     "metadata": {},
     "output_type": "display_data"
    },
    {
     "data": {
      "application/vnd.jupyter.widget-view+json": {
       "model_id": "a2acb693385640c7b76937ca676f09b8",
       "version_major": 2,
       "version_minor": 0
      },
      "text/plain": [
       "[fitting_weight_function]:   0%|          | 0/100 [00:00<?, ?it/s]"
      ]
     },
     "metadata": {},
     "output_type": "display_data"
    },
    {
     "data": {
      "application/vnd.jupyter.widget-view+json": {
       "model_id": "d4aa29b2a44d4ee0874a25f571ef2aa3",
       "version_major": 2,
       "version_minor": 0
      },
      "text/plain": [
       "[fitting_weight_function]:   0%|          | 0/100 [00:00<?, ?it/s]"
      ]
     },
     "metadata": {},
     "output_type": "display_data"
    },
    {
     "data": {
      "application/vnd.jupyter.widget-view+json": {
       "model_id": "0ed20ecd9ee049cc8da6d7cdb07919b0",
       "version_major": 2,
       "version_minor": 0
      },
      "text/plain": [
       "[collect input data: eval_policy]:   0%|          | 0/2 [00:00<?, ?it/s]"
      ]
     },
     "metadata": {},
     "output_type": "display_data"
    },
    {
     "data": {
      "application/vnd.jupyter.widget-view+json": {
       "model_id": "8b2911bad57949caa5662db9472d0f44",
       "version_major": 2,
       "version_minor": 0
      },
      "text/plain": [
       "[calculate on-policy policy value]:   0%|          | 0/100 [00:00<?, ?it/s]"
      ]
     },
     "metadata": {},
     "output_type": "display_data"
    },
    {
     "data": {
      "application/vnd.jupyter.widget-view+json": {
       "model_id": "c84339ffe0d54597a391a2aff92e2b0b",
       "version_major": 2,
       "version_minor": 0
      },
      "text/plain": [
       "[calculate on-policy policy value]:   0%|          | 0/100 [00:00<?, ?it/s]"
      ]
     },
     "metadata": {},
     "output_type": "display_data"
    },
    {
     "name": "stderr",
     "output_type": "stream",
     "text": [
      "/Users/ren/dev/ofrl/tutorial/../ofrl/ope/estimators_base.py:445: RuntimeWarning: invalid value encountered in divide\n",
      "  return numerator / denominator\n"
     ]
    },
    {
     "data": {
      "application/vnd.jupyter.widget-view+json": {
       "model_id": "fca724be1aa64d43878e56acf0c6c4f8",
       "version_major": 2,
       "version_minor": 0
      },
      "text/plain": [
       "[obtain_trajectories]:   0%|          | 0/10000 [00:00<?, ?it/s]"
      ]
     },
     "metadata": {},
     "output_type": "display_data"
    },
    {
     "data": {
      "application/vnd.jupyter.widget-view+json": {
       "model_id": "206bc9d230094d40b36f411c48f5f556",
       "version_major": 2,
       "version_minor": 0
      },
      "text/plain": [
       "[obtain_trajectories]:   0%|          | 0/10000 [00:00<?, ?it/s]"
      ]
     },
     "metadata": {},
     "output_type": "display_data"
    },
    {
     "name": "stdout",
     "output_type": "stream",
     "text": [
      "2023-04-06 13:52.49 [debug    ] RandomIterator is selected.\n",
      "2023-04-06 13:52.49 [info     ] Directory is created at d3rlpy_logs/DiscreteCQL_20230406135249\n",
      "2023-04-06 13:52.49 [debug    ] Building models...\n",
      "2023-04-06 13:52.49 [debug    ] Models have been built.\n",
      "2023-04-06 13:52.49 [info     ] Parameters are saved to d3rlpy_logs/DiscreteCQL_20230406135249/params.json params={'action_scaler': None, 'alpha': 1.0, 'batch_size': 32, 'encoder_factory': {'type': 'vector', 'params': {'hidden_units': [30, 30], 'activation': 'relu', 'use_batch_norm': False, 'dropout_rate': None, 'use_dense': False}}, 'gamma': 0.99, 'generated_maxlen': 100000, 'learning_rate': 6.25e-05, 'n_critics': 1, 'n_frames': 1, 'n_steps': 1, 'optim_factory': {'optim_cls': 'Adam', 'betas': (0.9, 0.999), 'eps': 1e-08, 'weight_decay': 0, 'amsgrad': False}, 'q_func_factory': {'type': 'mean', 'params': {'share_encoder': False}}, 'real_ratio': 1.0, 'reward_scaler': None, 'scaler': None, 'target_update_interval': 8000, 'use_gpu': None, 'algorithm': 'DiscreteCQL', 'observation_shape': (5,), 'action_size': 20}\n"
     ]
    },
    {
     "data": {
      "application/vnd.jupyter.widget-view+json": {
       "model_id": "351ee3d058d14e3e9d1c8fc829286e20",
       "version_major": 2,
       "version_minor": 0
      },
      "text/plain": [
       "Epoch 1/1:   0%|          | 0/10000 [00:00<?, ?it/s]"
      ]
     },
     "metadata": {},
     "output_type": "display_data"
    },
    {
     "name": "stdout",
     "output_type": "stream",
     "text": [
      "2023-04-06 13:53.03 [info     ] DiscreteCQL_20230406135249: epoch=1 step=10000 epoch=1 metrics={'time_sample_batch': 9.26370620727539e-05, 'time_algorithm_update': 0.001156880760192871, 'loss': 2.2488040065765382, 'time_step': 0.0013310741186141968} step=10000\n",
      "2023-04-06 13:53.03 [info     ] Model parameters are saved to d3rlpy_logs/DiscreteCQL_20230406135249/model_10000.pt\n"
     ]
    },
    {
     "data": {
      "application/vnd.jupyter.widget-view+json": {
       "model_id": "c3393a9c004a400aa9871bae849774a5",
       "version_major": 2,
       "version_minor": 0
      },
      "text/plain": [
       "[fit FQE model]:   0%|          | 0/2 [00:00<?, ?it/s]"
      ]
     },
     "metadata": {},
     "output_type": "display_data"
    },
    {
     "name": "stdout",
     "output_type": "stream",
     "text": [
      "2023-04-06 13:53.03 [debug    ] RoundIterator is selected.\n",
      "2023-04-06 13:53.03 [info     ] Directory is created at d3rlpy_logs/DiscreteFQE_20230406135303\n",
      "2023-04-06 13:53.03 [debug    ] Fitting scaler...              scaler=min_max\n",
      "2023-04-06 13:53.03 [debug    ] Building models...\n",
      "2023-04-06 13:53.03 [debug    ] Models have been built.\n",
      "2023-04-06 13:53.03 [info     ] Parameters are saved to d3rlpy_logs/DiscreteFQE_20230406135303/params.json params={'action_scaler': None, 'batch_size': 100, 'encoder_factory': {'type': 'vector', 'params': {'hidden_units': [30, 30], 'activation': 'relu', 'use_batch_norm': False, 'dropout_rate': None, 'use_dense': False}}, 'gamma': 0.95, 'generated_maxlen': 100000, 'learning_rate': 0.0001, 'n_critics': 1, 'n_frames': 1, 'n_steps': 1, 'optim_factory': {'optim_cls': 'Adam', 'betas': (0.9, 0.999), 'eps': 1e-08, 'weight_decay': 0, 'amsgrad': False}, 'q_func_factory': {'type': 'mean', 'params': {'share_encoder': False}}, 'real_ratio': 1.0, 'reward_scaler': None, 'scaler': {'type': 'min_max', 'params': {'maximum': array([0.99702758, 0.98432847, 0.99916755, 0.99535051, 0.99854711]), 'minimum': array([-0.97581596, -0.99062838, -0.98923316, -0.99792002, -0.99087946])}}, 'target_update_interval': 100, 'use_gpu': None, 'algorithm': 'DiscreteFQE', 'observation_shape': (5,), 'action_size': 20}\n"
     ]
    },
    {
     "data": {
      "application/vnd.jupyter.widget-view+json": {
       "model_id": "e7e6b4b9d3cb42d8bc1d933a0d1e8500",
       "version_major": 2,
       "version_minor": 0
      },
      "text/plain": [
       "Epoch 1/1:   0%|          | 0/1000 [00:00<?, ?it/s]"
      ]
     },
     "metadata": {},
     "output_type": "display_data"
    },
    {
     "name": "stdout",
     "output_type": "stream",
     "text": [
      "2023-04-06 13:53.04 [info     ] DiscreteFQE_20230406135303: epoch=1 step=1000 epoch=1 metrics={'time_sample_batch': 0.00010790514945983886, 'time_algorithm_update': 0.001163639545440674, 'loss': 0.23678505191206933, 'time_step': 0.0013250198364257813} step=1000\n",
      "2023-04-06 13:53.04 [info     ] Model parameters are saved to d3rlpy_logs/DiscreteFQE_20230406135303/model_1000.pt\n",
      "2023-04-06 13:53.04 [debug    ] RoundIterator is selected.\n",
      "2023-04-06 13:53.04 [info     ] Directory is created at d3rlpy_logs/DiscreteFQE_20230406135304\n",
      "2023-04-06 13:53.04 [debug    ] Fitting scaler...              scaler=min_max\n",
      "2023-04-06 13:53.04 [debug    ] Building models...\n",
      "2023-04-06 13:53.04 [debug    ] Models have been built.\n",
      "2023-04-06 13:53.04 [info     ] Parameters are saved to d3rlpy_logs/DiscreteFQE_20230406135304/params.json params={'action_scaler': None, 'batch_size': 100, 'encoder_factory': {'type': 'vector', 'params': {'hidden_units': [30, 30], 'activation': 'relu', 'use_batch_norm': False, 'dropout_rate': None, 'use_dense': False}}, 'gamma': 0.95, 'generated_maxlen': 100000, 'learning_rate': 0.0001, 'n_critics': 1, 'n_frames': 1, 'n_steps': 1, 'optim_factory': {'optim_cls': 'Adam', 'betas': (0.9, 0.999), 'eps': 1e-08, 'weight_decay': 0, 'amsgrad': False}, 'q_func_factory': {'type': 'mean', 'params': {'share_encoder': False}}, 'real_ratio': 1.0, 'reward_scaler': None, 'scaler': {'type': 'min_max', 'params': {'maximum': array([0.99702758, 0.98432847, 0.99916755, 0.99535051, 0.99854711]), 'minimum': array([-0.97581596, -0.99062838, -0.98923316, -0.99792002, -0.99087946])}}, 'target_update_interval': 100, 'use_gpu': None, 'algorithm': 'DiscreteFQE', 'observation_shape': (5,), 'action_size': 20}\n"
     ]
    },
    {
     "data": {
      "application/vnd.jupyter.widget-view+json": {
       "model_id": "0429ad9e2e5244179228081ca9f0a3f4",
       "version_major": 2,
       "version_minor": 0
      },
      "text/plain": [
       "Epoch 1/1:   0%|          | 0/1000 [00:00<?, ?it/s]"
      ]
     },
     "metadata": {},
     "output_type": "display_data"
    },
    {
     "name": "stdout",
     "output_type": "stream",
     "text": [
      "2023-04-06 13:53.06 [info     ] DiscreteFQE_20230406135304: epoch=1 step=1000 epoch=1 metrics={'time_sample_batch': 0.00010549664497375489, 'time_algorithm_update': 0.0011053192615509033, 'loss': 0.2090519466549158, 'time_step': 0.0012608766555786133} step=1000\n",
      "2023-04-06 13:53.06 [info     ] Model parameters are saved to d3rlpy_logs/DiscreteFQE_20230406135304/model_1000.pt\n"
     ]
    },
    {
     "data": {
      "application/vnd.jupyter.widget-view+json": {
       "model_id": "c8ce239e295b4fb18d92b9cb53f532fa",
       "version_major": 2,
       "version_minor": 0
      },
      "text/plain": [
       "[fit MWL model]:   0%|          | 0/2 [00:00<?, ?it/s]"
      ]
     },
     "metadata": {},
     "output_type": "display_data"
    },
    {
     "data": {
      "application/vnd.jupyter.widget-view+json": {
       "model_id": "9e437e9938994729ad32dc3a2d481823",
       "version_major": 2,
       "version_minor": 0
      },
      "text/plain": [
       "[fitting_weight_function]:   0%|          | 0/100 [00:00<?, ?it/s]"
      ]
     },
     "metadata": {},
     "output_type": "display_data"
    },
    {
     "data": {
      "application/vnd.jupyter.widget-view+json": {
       "model_id": "a43f808b0dda437c92facd1f9f7757e3",
       "version_major": 2,
       "version_minor": 0
      },
      "text/plain": [
       "[fitting_weight_function]:   0%|          | 0/100 [00:00<?, ?it/s]"
      ]
     },
     "metadata": {},
     "output_type": "display_data"
    },
    {
     "data": {
      "application/vnd.jupyter.widget-view+json": {
       "model_id": "2ef837aa2b894b8390f60268e8ed83cb",
       "version_major": 2,
       "version_minor": 0
      },
      "text/plain": [
       "[fitting_weight_function]:   0%|          | 0/100 [00:00<?, ?it/s]"
      ]
     },
     "metadata": {},
     "output_type": "display_data"
    },
    {
     "data": {
      "application/vnd.jupyter.widget-view+json": {
       "model_id": "aa95e9451ca54c0abd4ce7ec5a93a98a",
       "version_major": 2,
       "version_minor": 0
      },
      "text/plain": [
       "[fitting_weight_function]:   0%|          | 0/100 [00:00<?, ?it/s]"
      ]
     },
     "metadata": {},
     "output_type": "display_data"
    },
    {
     "data": {
      "application/vnd.jupyter.widget-view+json": {
       "model_id": "90f33f61c75f4599be232fd6f1bfd470",
       "version_major": 2,
       "version_minor": 0
      },
      "text/plain": [
       "[collect input data: eval_policy]:   0%|          | 0/2 [00:00<?, ?it/s]"
      ]
     },
     "metadata": {},
     "output_type": "display_data"
    },
    {
     "data": {
      "application/vnd.jupyter.widget-view+json": {
       "model_id": "92f453df5bd648f1ab93308313b2f7af",
       "version_major": 2,
       "version_minor": 0
      },
      "text/plain": [
       "[calculate on-policy policy value]:   0%|          | 0/100 [00:00<?, ?it/s]"
      ]
     },
     "metadata": {},
     "output_type": "display_data"
    },
    {
     "data": {
      "application/vnd.jupyter.widget-view+json": {
       "model_id": "0bf79f2f379042f0961eabdc5e4475e5",
       "version_major": 2,
       "version_minor": 0
      },
      "text/plain": [
       "[calculate on-policy policy value]:   0%|          | 0/100 [00:00<?, ?it/s]"
      ]
     },
     "metadata": {},
     "output_type": "display_data"
    },
    {
     "name": "stderr",
     "output_type": "stream",
     "text": [
      "/Users/ren/dev/ofrl/tutorial/../ofrl/ope/estimators_base.py:445: RuntimeWarning: invalid value encountered in divide\n",
      "  return numerator / denominator\n"
     ]
    },
    {
     "data": {
      "application/vnd.jupyter.widget-view+json": {
       "model_id": "99424a8ef58e41189d875f01604676f8",
       "version_major": 2,
       "version_minor": 0
      },
      "text/plain": [
       "[obtain_trajectories]:   0%|          | 0/10000 [00:00<?, ?it/s]"
      ]
     },
     "metadata": {},
     "output_type": "display_data"
    },
    {
     "data": {
      "application/vnd.jupyter.widget-view+json": {
       "model_id": "cc4c2e90b5dd47b7b0e15f3a9b76eff1",
       "version_major": 2,
       "version_minor": 0
      },
      "text/plain": [
       "[obtain_trajectories]:   0%|          | 0/10000 [00:00<?, ?it/s]"
      ]
     },
     "metadata": {},
     "output_type": "display_data"
    },
    {
     "name": "stdout",
     "output_type": "stream",
     "text": [
      "2023-04-06 13:54.49 [debug    ] RandomIterator is selected.\n",
      "2023-04-06 13:54.49 [info     ] Directory is created at d3rlpy_logs/DiscreteCQL_20230406135449\n",
      "2023-04-06 13:54.49 [debug    ] Building models...\n",
      "2023-04-06 13:54.49 [debug    ] Models have been built.\n",
      "2023-04-06 13:54.49 [info     ] Parameters are saved to d3rlpy_logs/DiscreteCQL_20230406135449/params.json params={'action_scaler': None, 'alpha': 1.0, 'batch_size': 32, 'encoder_factory': {'type': 'vector', 'params': {'hidden_units': [30, 30], 'activation': 'relu', 'use_batch_norm': False, 'dropout_rate': None, 'use_dense': False}}, 'gamma': 0.99, 'generated_maxlen': 100000, 'learning_rate': 6.25e-05, 'n_critics': 1, 'n_frames': 1, 'n_steps': 1, 'optim_factory': {'optim_cls': 'Adam', 'betas': (0.9, 0.999), 'eps': 1e-08, 'weight_decay': 0, 'amsgrad': False}, 'q_func_factory': {'type': 'mean', 'params': {'share_encoder': False}}, 'real_ratio': 1.0, 'reward_scaler': None, 'scaler': None, 'target_update_interval': 8000, 'use_gpu': None, 'algorithm': 'DiscreteCQL', 'observation_shape': (5,), 'action_size': 20}\n"
     ]
    },
    {
     "data": {
      "application/vnd.jupyter.widget-view+json": {
       "model_id": "ff18b8ce96194640905a89772c182d9c",
       "version_major": 2,
       "version_minor": 0
      },
      "text/plain": [
       "Epoch 1/1:   0%|          | 0/10000 [00:00<?, ?it/s]"
      ]
     },
     "metadata": {},
     "output_type": "display_data"
    },
    {
     "name": "stdout",
     "output_type": "stream",
     "text": [
      "2023-04-06 13:55.02 [info     ] DiscreteCQL_20230406135449: epoch=1 step=10000 epoch=1 metrics={'time_sample_batch': 9.35232400894165e-05, 'time_algorithm_update': 0.001164583373069763, 'loss': 2.2267220302224158, 'time_step': 0.0013423252820968627} step=10000\n",
      "2023-04-06 13:55.02 [info     ] Model parameters are saved to d3rlpy_logs/DiscreteCQL_20230406135449/model_10000.pt\n"
     ]
    },
    {
     "data": {
      "application/vnd.jupyter.widget-view+json": {
       "model_id": "d2a48dd1da4a4601ad8bd7af7fcdaba1",
       "version_major": 2,
       "version_minor": 0
      },
      "text/plain": [
       "[fit FQE model]:   0%|          | 0/2 [00:00<?, ?it/s]"
      ]
     },
     "metadata": {},
     "output_type": "display_data"
    },
    {
     "name": "stdout",
     "output_type": "stream",
     "text": [
      "2023-04-06 13:55.03 [debug    ] RoundIterator is selected.\n",
      "2023-04-06 13:55.03 [info     ] Directory is created at d3rlpy_logs/DiscreteFQE_20230406135503\n",
      "2023-04-06 13:55.03 [debug    ] Fitting scaler...              scaler=min_max\n",
      "2023-04-06 13:55.03 [debug    ] Building models...\n",
      "2023-04-06 13:55.03 [debug    ] Models have been built.\n",
      "2023-04-06 13:55.03 [info     ] Parameters are saved to d3rlpy_logs/DiscreteFQE_20230406135503/params.json params={'action_scaler': None, 'batch_size': 100, 'encoder_factory': {'type': 'vector', 'params': {'hidden_units': [30, 30], 'activation': 'relu', 'use_batch_norm': False, 'dropout_rate': None, 'use_dense': False}}, 'gamma': 0.95, 'generated_maxlen': 100000, 'learning_rate': 0.0001, 'n_critics': 1, 'n_frames': 1, 'n_steps': 1, 'optim_factory': {'optim_cls': 'Adam', 'betas': (0.9, 0.999), 'eps': 1e-08, 'weight_decay': 0, 'amsgrad': False}, 'q_func_factory': {'type': 'mean', 'params': {'share_encoder': False}}, 'real_ratio': 1.0, 'reward_scaler': None, 'scaler': {'type': 'min_max', 'params': {'maximum': array([0.98929948, 0.99744545, 0.99337694, 0.99409447, 0.99918455]), 'minimum': array([-0.99855965, -0.99596153, -0.99312206, -0.99890982, -0.98448468])}}, 'target_update_interval': 100, 'use_gpu': None, 'algorithm': 'DiscreteFQE', 'observation_shape': (5,), 'action_size': 20}\n"
     ]
    },
    {
     "data": {
      "application/vnd.jupyter.widget-view+json": {
       "model_id": "723b1e4de09c4d0cba06f8608d009f8f",
       "version_major": 2,
       "version_minor": 0
      },
      "text/plain": [
       "Epoch 1/1:   0%|          | 0/1000 [00:00<?, ?it/s]"
      ]
     },
     "metadata": {},
     "output_type": "display_data"
    },
    {
     "name": "stdout",
     "output_type": "stream",
     "text": [
      "2023-04-06 13:55.04 [info     ] DiscreteFQE_20230406135503: epoch=1 step=1000 epoch=1 metrics={'time_sample_batch': 0.0001241602897644043, 'time_algorithm_update': 0.0013401875495910646, 'loss': 0.23636534414440394, 'time_step': 0.0015277564525604248} step=1000\n",
      "2023-04-06 13:55.04 [info     ] Model parameters are saved to d3rlpy_logs/DiscreteFQE_20230406135503/model_1000.pt\n",
      "2023-04-06 13:55.04 [debug    ] RoundIterator is selected.\n",
      "2023-04-06 13:55.04 [info     ] Directory is created at d3rlpy_logs/DiscreteFQE_20230406135504\n",
      "2023-04-06 13:55.04 [debug    ] Fitting scaler...              scaler=min_max\n",
      "2023-04-06 13:55.04 [debug    ] Building models...\n",
      "2023-04-06 13:55.04 [debug    ] Models have been built.\n",
      "2023-04-06 13:55.04 [info     ] Parameters are saved to d3rlpy_logs/DiscreteFQE_20230406135504/params.json params={'action_scaler': None, 'batch_size': 100, 'encoder_factory': {'type': 'vector', 'params': {'hidden_units': [30, 30], 'activation': 'relu', 'use_batch_norm': False, 'dropout_rate': None, 'use_dense': False}}, 'gamma': 0.95, 'generated_maxlen': 100000, 'learning_rate': 0.0001, 'n_critics': 1, 'n_frames': 1, 'n_steps': 1, 'optim_factory': {'optim_cls': 'Adam', 'betas': (0.9, 0.999), 'eps': 1e-08, 'weight_decay': 0, 'amsgrad': False}, 'q_func_factory': {'type': 'mean', 'params': {'share_encoder': False}}, 'real_ratio': 1.0, 'reward_scaler': None, 'scaler': {'type': 'min_max', 'params': {'maximum': array([0.98929948, 0.99744545, 0.99337694, 0.99409447, 0.99918455]), 'minimum': array([-0.99855965, -0.99596153, -0.99312206, -0.99890982, -0.98448468])}}, 'target_update_interval': 100, 'use_gpu': None, 'algorithm': 'DiscreteFQE', 'observation_shape': (5,), 'action_size': 20}\n"
     ]
    },
    {
     "data": {
      "application/vnd.jupyter.widget-view+json": {
       "model_id": "068c49a0866542b29e6d58d952ca2d8e",
       "version_major": 2,
       "version_minor": 0
      },
      "text/plain": [
       "Epoch 1/1:   0%|          | 0/1000 [00:00<?, ?it/s]"
      ]
     },
     "metadata": {},
     "output_type": "display_data"
    },
    {
     "name": "stdout",
     "output_type": "stream",
     "text": [
      "2023-04-06 13:55.06 [info     ] DiscreteFQE_20230406135504: epoch=1 step=1000 epoch=1 metrics={'time_sample_batch': 0.00011788177490234375, 'time_algorithm_update': 0.0012027623653411866, 'loss': 0.2190770276784897, 'time_step': 0.0013758995532989501} step=1000\n",
      "2023-04-06 13:55.06 [info     ] Model parameters are saved to d3rlpy_logs/DiscreteFQE_20230406135504/model_1000.pt\n"
     ]
    },
    {
     "data": {
      "application/vnd.jupyter.widget-view+json": {
       "model_id": "a469a91c2d0644ed9568fd70e27b7234",
       "version_major": 2,
       "version_minor": 0
      },
      "text/plain": [
       "[fit MWL model]:   0%|          | 0/2 [00:00<?, ?it/s]"
      ]
     },
     "metadata": {},
     "output_type": "display_data"
    },
    {
     "data": {
      "application/vnd.jupyter.widget-view+json": {
       "model_id": "92c6d7030c0f4c90a9334bcff662fa9b",
       "version_major": 2,
       "version_minor": 0
      },
      "text/plain": [
       "[fitting_weight_function]:   0%|          | 0/100 [00:00<?, ?it/s]"
      ]
     },
     "metadata": {},
     "output_type": "display_data"
    },
    {
     "data": {
      "application/vnd.jupyter.widget-view+json": {
       "model_id": "03076d27d0464a719bbc3953c4b1cdd8",
       "version_major": 2,
       "version_minor": 0
      },
      "text/plain": [
       "[fitting_weight_function]:   0%|          | 0/100 [00:00<?, ?it/s]"
      ]
     },
     "metadata": {},
     "output_type": "display_data"
    },
    {
     "data": {
      "application/vnd.jupyter.widget-view+json": {
       "model_id": "e680996f08384968b02a2456cb1cc3a7",
       "version_major": 2,
       "version_minor": 0
      },
      "text/plain": [
       "[fitting_weight_function]:   0%|          | 0/100 [00:00<?, ?it/s]"
      ]
     },
     "metadata": {},
     "output_type": "display_data"
    },
    {
     "data": {
      "application/vnd.jupyter.widget-view+json": {
       "model_id": "68a57f9785414897b05b0abe5d1c41e2",
       "version_major": 2,
       "version_minor": 0
      },
      "text/plain": [
       "[fitting_weight_function]:   0%|          | 0/100 [00:00<?, ?it/s]"
      ]
     },
     "metadata": {},
     "output_type": "display_data"
    },
    {
     "data": {
      "application/vnd.jupyter.widget-view+json": {
       "model_id": "bf13f2b0cc944af78bf4b6c06c2fb281",
       "version_major": 2,
       "version_minor": 0
      },
      "text/plain": [
       "[collect input data: eval_policy]:   0%|          | 0/2 [00:00<?, ?it/s]"
      ]
     },
     "metadata": {},
     "output_type": "display_data"
    },
    {
     "data": {
      "application/vnd.jupyter.widget-view+json": {
       "model_id": "4852f357d2a84160bf5769b6efca657c",
       "version_major": 2,
       "version_minor": 0
      },
      "text/plain": [
       "[calculate on-policy policy value]:   0%|          | 0/100 [00:00<?, ?it/s]"
      ]
     },
     "metadata": {},
     "output_type": "display_data"
    },
    {
     "data": {
      "application/vnd.jupyter.widget-view+json": {
       "model_id": "26bf9f920fed466f971010c94348c3be",
       "version_major": 2,
       "version_minor": 0
      },
      "text/plain": [
       "[calculate on-policy policy value]:   0%|          | 0/100 [00:00<?, ?it/s]"
      ]
     },
     "metadata": {},
     "output_type": "display_data"
    },
    {
     "name": "stderr",
     "output_type": "stream",
     "text": [
      "/Users/ren/dev/ofrl/tutorial/../ofrl/ope/estimators_base.py:445: RuntimeWarning: invalid value encountered in divide\n",
      "  return numerator / denominator\n"
     ]
    },
    {
     "data": {
      "application/vnd.jupyter.widget-view+json": {
       "model_id": "ebc9f64b39b24fc3a76b7d290e6fce6f",
       "version_major": 2,
       "version_minor": 0
      },
      "text/plain": [
       "[obtain_trajectories]:   0%|          | 0/10000 [00:00<?, ?it/s]"
      ]
     },
     "metadata": {},
     "output_type": "display_data"
    },
    {
     "data": {
      "application/vnd.jupyter.widget-view+json": {
       "model_id": "7f4769315153411c9692b4b65ac08273",
       "version_major": 2,
       "version_minor": 0
      },
      "text/plain": [
       "[obtain_trajectories]:   0%|          | 0/10000 [00:00<?, ?it/s]"
      ]
     },
     "metadata": {},
     "output_type": "display_data"
    },
    {
     "name": "stdout",
     "output_type": "stream",
     "text": [
      "2023-04-06 13:56.53 [debug    ] RandomIterator is selected.\n",
      "2023-04-06 13:56.53 [info     ] Directory is created at d3rlpy_logs/DiscreteCQL_20230406135653\n",
      "2023-04-06 13:56.53 [debug    ] Building models...\n",
      "2023-04-06 13:56.53 [debug    ] Models have been built.\n",
      "2023-04-06 13:56.53 [info     ] Parameters are saved to d3rlpy_logs/DiscreteCQL_20230406135653/params.json params={'action_scaler': None, 'alpha': 1.0, 'batch_size': 32, 'encoder_factory': {'type': 'vector', 'params': {'hidden_units': [30, 30], 'activation': 'relu', 'use_batch_norm': False, 'dropout_rate': None, 'use_dense': False}}, 'gamma': 0.99, 'generated_maxlen': 100000, 'learning_rate': 6.25e-05, 'n_critics': 1, 'n_frames': 1, 'n_steps': 1, 'optim_factory': {'optim_cls': 'Adam', 'betas': (0.9, 0.999), 'eps': 1e-08, 'weight_decay': 0, 'amsgrad': False}, 'q_func_factory': {'type': 'mean', 'params': {'share_encoder': False}}, 'real_ratio': 1.0, 'reward_scaler': None, 'scaler': None, 'target_update_interval': 8000, 'use_gpu': None, 'algorithm': 'DiscreteCQL', 'observation_shape': (5,), 'action_size': 20}\n"
     ]
    },
    {
     "data": {
      "application/vnd.jupyter.widget-view+json": {
       "model_id": "a59a83adf43845c79fa4729c6cd857c4",
       "version_major": 2,
       "version_minor": 0
      },
      "text/plain": [
       "Epoch 1/1:   0%|          | 0/10000 [00:00<?, ?it/s]"
      ]
     },
     "metadata": {},
     "output_type": "display_data"
    },
    {
     "name": "stdout",
     "output_type": "stream",
     "text": [
      "2023-04-06 13:57.06 [info     ] DiscreteCQL_20230406135653: epoch=1 step=10000 epoch=1 metrics={'time_sample_batch': 9.366698265075683e-05, 'time_algorithm_update': 0.0011375932931900023, 'loss': 2.2403152718663217, 'time_step': 0.001313647484779358} step=10000\n",
      "2023-04-06 13:57.06 [info     ] Model parameters are saved to d3rlpy_logs/DiscreteCQL_20230406135653/model_10000.pt\n"
     ]
    },
    {
     "data": {
      "application/vnd.jupyter.widget-view+json": {
       "model_id": "69b5aadf9e3e438eb84db723a37be5ec",
       "version_major": 2,
       "version_minor": 0
      },
      "text/plain": [
       "[fit FQE model]:   0%|          | 0/2 [00:00<?, ?it/s]"
      ]
     },
     "metadata": {},
     "output_type": "display_data"
    },
    {
     "name": "stdout",
     "output_type": "stream",
     "text": [
      "2023-04-06 13:57.06 [debug    ] RoundIterator is selected.\n",
      "2023-04-06 13:57.06 [info     ] Directory is created at d3rlpy_logs/DiscreteFQE_20230406135706\n",
      "2023-04-06 13:57.06 [debug    ] Fitting scaler...              scaler=min_max\n",
      "2023-04-06 13:57.06 [debug    ] Building models...\n",
      "2023-04-06 13:57.06 [debug    ] Models have been built.\n",
      "2023-04-06 13:57.06 [info     ] Parameters are saved to d3rlpy_logs/DiscreteFQE_20230406135706/params.json params={'action_scaler': None, 'batch_size': 100, 'encoder_factory': {'type': 'vector', 'params': {'hidden_units': [30, 30], 'activation': 'relu', 'use_batch_norm': False, 'dropout_rate': None, 'use_dense': False}}, 'gamma': 0.95, 'generated_maxlen': 100000, 'learning_rate': 0.0001, 'n_critics': 1, 'n_frames': 1, 'n_steps': 1, 'optim_factory': {'optim_cls': 'Adam', 'betas': (0.9, 0.999), 'eps': 1e-08, 'weight_decay': 0, 'amsgrad': False}, 'q_func_factory': {'type': 'mean', 'params': {'share_encoder': False}}, 'real_ratio': 1.0, 'reward_scaler': None, 'scaler': {'type': 'min_max', 'params': {'maximum': array([0.9889981 , 0.99476601, 0.99690476, 0.99494552, 0.99923302]), 'minimum': array([-0.98804508, -0.9820031 , -0.99184144, -0.9989949 , -0.97737043])}}, 'target_update_interval': 100, 'use_gpu': None, 'algorithm': 'DiscreteFQE', 'observation_shape': (5,), 'action_size': 20}\n"
     ]
    },
    {
     "data": {
      "application/vnd.jupyter.widget-view+json": {
       "model_id": "b2221990068e4db2ad7d85ae88bf6f9d",
       "version_major": 2,
       "version_minor": 0
      },
      "text/plain": [
       "Epoch 1/1:   0%|          | 0/1000 [00:00<?, ?it/s]"
      ]
     },
     "metadata": {},
     "output_type": "display_data"
    },
    {
     "name": "stdout",
     "output_type": "stream",
     "text": [
      "2023-04-06 13:57.07 [info     ] DiscreteFQE_20230406135706: epoch=1 step=1000 epoch=1 metrics={'time_sample_batch': 0.00011176705360412598, 'time_algorithm_update': 0.0011355714797973632, 'loss': 0.23920624408125876, 'time_step': 0.0013014061450958253} step=1000\n",
      "2023-04-06 13:57.07 [info     ] Model parameters are saved to d3rlpy_logs/DiscreteFQE_20230406135706/model_1000.pt\n",
      "2023-04-06 13:57.07 [debug    ] RoundIterator is selected.\n",
      "2023-04-06 13:57.07 [info     ] Directory is created at d3rlpy_logs/DiscreteFQE_20230406135707\n",
      "2023-04-06 13:57.07 [debug    ] Fitting scaler...              scaler=min_max\n",
      "2023-04-06 13:57.07 [debug    ] Building models...\n",
      "2023-04-06 13:57.07 [debug    ] Models have been built.\n",
      "2023-04-06 13:57.07 [info     ] Parameters are saved to d3rlpy_logs/DiscreteFQE_20230406135707/params.json params={'action_scaler': None, 'batch_size': 100, 'encoder_factory': {'type': 'vector', 'params': {'hidden_units': [30, 30], 'activation': 'relu', 'use_batch_norm': False, 'dropout_rate': None, 'use_dense': False}}, 'gamma': 0.95, 'generated_maxlen': 100000, 'learning_rate': 0.0001, 'n_critics': 1, 'n_frames': 1, 'n_steps': 1, 'optim_factory': {'optim_cls': 'Adam', 'betas': (0.9, 0.999), 'eps': 1e-08, 'weight_decay': 0, 'amsgrad': False}, 'q_func_factory': {'type': 'mean', 'params': {'share_encoder': False}}, 'real_ratio': 1.0, 'reward_scaler': None, 'scaler': {'type': 'min_max', 'params': {'maximum': array([0.9889981 , 0.99476601, 0.99690476, 0.99494552, 0.99923302]), 'minimum': array([-0.98804508, -0.9820031 , -0.99184144, -0.9989949 , -0.97737043])}}, 'target_update_interval': 100, 'use_gpu': None, 'algorithm': 'DiscreteFQE', 'observation_shape': (5,), 'action_size': 20}\n"
     ]
    },
    {
     "data": {
      "application/vnd.jupyter.widget-view+json": {
       "model_id": "e0b442aa22314a9e8dea43aaea721880",
       "version_major": 2,
       "version_minor": 0
      },
      "text/plain": [
       "Epoch 1/1:   0%|          | 0/1000 [00:00<?, ?it/s]"
      ]
     },
     "metadata": {},
     "output_type": "display_data"
    },
    {
     "name": "stdout",
     "output_type": "stream",
     "text": [
      "2023-04-06 13:57.09 [info     ] DiscreteFQE_20230406135707: epoch=1 step=1000 epoch=1 metrics={'time_sample_batch': 0.0001036837100982666, 'time_algorithm_update': 0.001043125867843628, 'loss': 0.20803925424069167, 'time_step': 0.0011886050701141358} step=1000\n",
      "2023-04-06 13:57.09 [info     ] Model parameters are saved to d3rlpy_logs/DiscreteFQE_20230406135707/model_1000.pt\n"
     ]
    },
    {
     "data": {
      "application/vnd.jupyter.widget-view+json": {
       "model_id": "00c0aea2638c46a4948840cba09009e7",
       "version_major": 2,
       "version_minor": 0
      },
      "text/plain": [
       "[fit MWL model]:   0%|          | 0/2 [00:00<?, ?it/s]"
      ]
     },
     "metadata": {},
     "output_type": "display_data"
    },
    {
     "data": {
      "application/vnd.jupyter.widget-view+json": {
       "model_id": "7ffb9e4efa6c408bbf2c454cf687b802",
       "version_major": 2,
       "version_minor": 0
      },
      "text/plain": [
       "[fitting_weight_function]:   0%|          | 0/100 [00:00<?, ?it/s]"
      ]
     },
     "metadata": {},
     "output_type": "display_data"
    },
    {
     "data": {
      "application/vnd.jupyter.widget-view+json": {
       "model_id": "5b01303f1f6242d1b56fac2ec9d5755d",
       "version_major": 2,
       "version_minor": 0
      },
      "text/plain": [
       "[fitting_weight_function]:   0%|          | 0/100 [00:00<?, ?it/s]"
      ]
     },
     "metadata": {},
     "output_type": "display_data"
    },
    {
     "data": {
      "application/vnd.jupyter.widget-view+json": {
       "model_id": "4370002e31ea4383bddfeceb7f163f63",
       "version_major": 2,
       "version_minor": 0
      },
      "text/plain": [
       "[fitting_weight_function]:   0%|          | 0/100 [00:00<?, ?it/s]"
      ]
     },
     "metadata": {},
     "output_type": "display_data"
    },
    {
     "data": {
      "application/vnd.jupyter.widget-view+json": {
       "model_id": "f82efb7db1da4d7da72aac3e2a3c79a5",
       "version_major": 2,
       "version_minor": 0
      },
      "text/plain": [
       "[fitting_weight_function]:   0%|          | 0/100 [00:00<?, ?it/s]"
      ]
     },
     "metadata": {},
     "output_type": "display_data"
    },
    {
     "data": {
      "application/vnd.jupyter.widget-view+json": {
       "model_id": "be1b84cb24de49738c046710251266e8",
       "version_major": 2,
       "version_minor": 0
      },
      "text/plain": [
       "[collect input data: eval_policy]:   0%|          | 0/2 [00:00<?, ?it/s]"
      ]
     },
     "metadata": {},
     "output_type": "display_data"
    },
    {
     "data": {
      "application/vnd.jupyter.widget-view+json": {
       "model_id": "700163a5ae7345f688f0c9245ece535f",
       "version_major": 2,
       "version_minor": 0
      },
      "text/plain": [
       "[calculate on-policy policy value]:   0%|          | 0/100 [00:00<?, ?it/s]"
      ]
     },
     "metadata": {},
     "output_type": "display_data"
    },
    {
     "data": {
      "application/vnd.jupyter.widget-view+json": {
       "model_id": "61a2b23d019b40b4b8a519b1bc1fc760",
       "version_major": 2,
       "version_minor": 0
      },
      "text/plain": [
       "[calculate on-policy policy value]:   0%|          | 0/100 [00:00<?, ?it/s]"
      ]
     },
     "metadata": {},
     "output_type": "display_data"
    },
    {
     "name": "stdout",
     "output_type": "stream",
     "text": [
      "2023-04-06 13:57.48 [info     ] Directory is created at d3rlpy_logs/DoubleDQN_online_20230406135748\n",
      "2023-04-06 13:57.48 [debug    ] Building model...\n",
      "2023-04-06 13:57.48 [debug    ] Model has been built.\n",
      "2023-04-06 13:57.48 [info     ] Parameters are saved to d3rlpy_logs/DoubleDQN_online_20230406135748/params.json params={'action_scaler': None, 'batch_size': 32, 'encoder_factory': {'type': 'vector', 'params': {'hidden_units': [30, 30], 'activation': 'relu', 'use_batch_norm': False, 'dropout_rate': None, 'use_dense': False}}, 'gamma': 0.99, 'generated_maxlen': 100000, 'learning_rate': 6.25e-05, 'n_critics': 1, 'n_frames': 1, 'n_steps': 1, 'optim_factory': {'optim_cls': 'Adam', 'betas': (0.9, 0.999), 'eps': 1e-08, 'weight_decay': 0, 'amsgrad': False}, 'q_func_factory': {'type': 'mean', 'params': {'share_encoder': False}}, 'real_ratio': 1.0, 'reward_scaler': None, 'scaler': None, 'target_update_interval': 100, 'use_gpu': None, 'algorithm': 'DoubleDQN', 'observation_shape': (5,), 'action_size': 25}\n"
     ]
    },
    {
     "name": "stderr",
     "output_type": "stream",
     "text": [
      "/Users/ren/dev/ofrl/tutorial/../ofrl/ope/estimators_base.py:445: RuntimeWarning: invalid value encountered in divide\n",
      "  return numerator / denominator\n",
      "/Users/ren/.pyenv/versions/3.10.6/lib/python3.10/site-packages/gym/utils/passive_env_checker.py:187: UserWarning: \u001b[33mWARN: Future gym versions will require that `Env.reset` can be passed `options` to allow the environment initialisation to be passed additional information.\u001b[0m\n",
      "  logger.warn(\n"
     ]
    },
    {
     "data": {
      "application/vnd.jupyter.widget-view+json": {
       "model_id": "16f3ed0773b94c4d8b91359a317adb49",
       "version_major": 2,
       "version_minor": 0
      },
      "text/plain": [
       "  0%|          | 0/100000 [00:00<?, ?it/s]"
      ]
     },
     "metadata": {},
     "output_type": "display_data"
    },
    {
     "name": "stdout",
     "output_type": "stream",
     "text": [
      "2023-04-06 13:57.48 [info     ] Model parameters are saved to d3rlpy_logs/DoubleDQN_online_20230406135748/model_1000.pt\n",
      "2023-04-06 13:57.48 [info     ] DoubleDQN_online_20230406135748: epoch=1 step=1000 epoch=1 metrics={'time_inference': 0.00018005061149597168, 'time_environment_step': 3.8606166839599606e-05, 'time_step': 0.00023111605644226074, 'rollout_return': -0.8276317036704584, 'evaluation': -1.4590802242382699} step=1000\n",
      "2023-04-06 13:57.49 [info     ] Model parameters are saved to d3rlpy_logs/DoubleDQN_online_20230406135748/model_2000.pt\n",
      "2023-04-06 13:57.49 [info     ] DoubleDQN_online_20230406135748: epoch=2 step=2000 epoch=2 metrics={'time_inference': 0.00018951964378356934, 'time_environment_step': 4.593658447265625e-05, 'time_sample_batch': 4.0824413299560544e-05, 'time_algorithm_update': 0.0009034202098846436, 'loss': 0.14829850108921527, 'time_step': 0.001202493190765381, 'rollout_return': 6.245262312297847, 'evaluation': 9.629655434884002} step=2000\n",
      "2023-04-06 13:57.50 [info     ] Model parameters are saved to d3rlpy_logs/DoubleDQN_online_20230406135748/model_3000.pt\n",
      "2023-04-06 13:57.50 [info     ] DoubleDQN_online_20230406135748: epoch=3 step=3000 epoch=3 metrics={'time_inference': 0.0001748218536376953, 'time_environment_step': 4.2629718780517576e-05, 'time_sample_batch': 3.710317611694336e-05, 'time_algorithm_update': 0.0007942154407501221, 'loss': 1.0911807071268558, 'time_step': 0.0010696959495544434, 'rollout_return': 8.624462420497741, 'evaluation': 9.440685107533728} step=3000\n",
      "2023-04-06 13:57.51 [info     ] Model parameters are saved to d3rlpy_logs/DoubleDQN_online_20230406135748/model_4000.pt\n",
      "2023-04-06 13:57.51 [info     ] DoubleDQN_online_20230406135748: epoch=4 step=4000 epoch=4 metrics={'time_inference': 0.00017244887351989746, 'time_environment_step': 4.189944267272949e-05, 'time_sample_batch': 3.670287132263184e-05, 'time_algorithm_update': 0.0007593944072723388, 'loss': 3.185961562156677, 'time_step': 0.0010307559967041016, 'rollout_return': 8.519630021701012, 'evaluation': 9.473732810617824} step=4000\n",
      "2023-04-06 13:57.53 [info     ] Model parameters are saved to d3rlpy_logs/DoubleDQN_online_20230406135748/model_5000.pt\n",
      "2023-04-06 13:57.53 [info     ] DoubleDQN_online_20230406135748: epoch=5 step=5000 epoch=5 metrics={'time_inference': 0.00017530584335327147, 'time_environment_step': 4.2951107025146486e-05, 'time_sample_batch': 3.850507736206055e-05, 'time_algorithm_update': 0.0009684245586395264, 'loss': 5.5396159698963165, 'time_step': 0.0012461867332458497, 'rollout_return': 8.463062975767151, 'evaluation': 9.46975426518921} step=5000\n",
      "2023-04-06 13:57.54 [info     ] Model parameters are saved to d3rlpy_logs/DoubleDQN_online_20230406135748/model_6000.pt\n",
      "2023-04-06 13:57.54 [info     ] DoubleDQN_online_20230406135748: epoch=6 step=6000 epoch=6 metrics={'time_inference': 0.00017917394638061523, 'time_environment_step': 4.3515682220458985e-05, 'time_sample_batch': 3.9368152618408206e-05, 'time_algorithm_update': 0.0008303008079528809, 'loss': 7.702103871107101, 'time_step': 0.00111362624168396, 'rollout_return': 8.580263957203305, 'evaluation': 9.532794379396451} step=6000\n",
      "2023-04-06 13:57.55 [info     ] Model parameters are saved to d3rlpy_logs/DoubleDQN_online_20230406135748/model_7000.pt\n",
      "2023-04-06 13:57.55 [info     ] DoubleDQN_online_20230406135748: epoch=7 step=7000 epoch=7 metrics={'time_inference': 0.00017059016227722167, 'time_environment_step': 4.167509078979492e-05, 'time_sample_batch': 3.7802457809448244e-05, 'time_algorithm_update': 0.0007574810981750489, 'loss': 9.276420044660568, 'time_step': 0.0010278198719024657, 'rollout_return': 8.58391393622273, 'evaluation': 9.441917896838184} step=7000\n",
      "2023-04-06 13:57.56 [info     ] Model parameters are saved to d3rlpy_logs/DoubleDQN_online_20230406135748/model_8000.pt\n",
      "2023-04-06 13:57.56 [info     ] DoubleDQN_online_20230406135748: epoch=8 step=8000 epoch=8 metrics={'time_inference': 0.0001762850284576416, 'time_environment_step': 4.240155220031738e-05, 'time_sample_batch': 3.860187530517578e-05, 'time_algorithm_update': 0.0008115718364715576, 'loss': 10.189001502275467, 'time_step': 0.0010893940925598145, 'rollout_return': 8.549448762254098, 'evaluation': 9.435890047942998} step=8000\n",
      "2023-04-06 13:57.57 [info     ] Model parameters are saved to d3rlpy_logs/DoubleDQN_online_20230406135748/model_9000.pt\n",
      "2023-04-06 13:57.57 [info     ] DoubleDQN_online_20230406135748: epoch=9 step=9000 epoch=9 metrics={'time_inference': 0.00017041873931884766, 'time_environment_step': 4.187655448913574e-05, 'time_sample_batch': 3.949904441833496e-05, 'time_algorithm_update': 0.0007607901096343994, 'loss': 10.723414612054825, 'time_step': 0.001032747507095337, 'rollout_return': 8.601282914335332, 'evaluation': 9.452112846713055} step=9000\n",
      "2023-04-06 13:57.58 [info     ] Model parameters are saved to d3rlpy_logs/DoubleDQN_online_20230406135748/model_10000.pt\n",
      "2023-04-06 13:57.58 [info     ] DoubleDQN_online_20230406135748: epoch=10 step=10000 epoch=10 metrics={'time_inference': 0.00017249107360839844, 'time_environment_step': 4.182338714599609e-05, 'time_sample_batch': 3.936457633972168e-05, 'time_algorithm_update': 0.0007631208896636963, 'loss': 10.90284773159027, 'time_step': 0.0010370430946350098, 'rollout_return': 8.08985404422944, 'evaluation': 4.515117250081191} step=10000\n",
      "2023-04-06 13:57.59 [info     ] Model parameters are saved to d3rlpy_logs/DoubleDQN_online_20230406135748/model_11000.pt\n",
      "2023-04-06 13:57.59 [info     ] DoubleDQN_online_20230406135748: epoch=11 step=11000 epoch=11 metrics={'time_inference': 0.00017728686332702637, 'time_environment_step': 4.280996322631836e-05, 'time_sample_batch': 4.0078163146972655e-05, 'time_algorithm_update': 0.000809277057647705, 'loss': 10.784266573548317, 'time_step': 0.001091404914855957, 'rollout_return': 7.1836082817329165, 'evaluation': 7.790867652945721} step=11000\n",
      "2023-04-06 13:58.00 [info     ] Model parameters are saved to d3rlpy_logs/DoubleDQN_online_20230406135748/model_12000.pt\n",
      "2023-04-06 13:58.00 [info     ] DoubleDQN_online_20230406135748: epoch=12 step=12000 epoch=12 metrics={'time_inference': 0.00017011547088623046, 'time_environment_step': 4.182004928588867e-05, 'time_sample_batch': 3.912663459777832e-05, 'time_algorithm_update': 0.0007510607242584229, 'loss': 10.496743460476399, 'time_step': 0.0010234110355377198, 'rollout_return': 6.707454467171029, 'evaluation': 9.572810095120627} step=12000\n",
      "2023-04-06 13:58.01 [info     ] Model parameters are saved to d3rlpy_logs/DoubleDQN_online_20230406135748/model_13000.pt\n",
      "2023-04-06 13:58.01 [info     ] DoubleDQN_online_20230406135748: epoch=13 step=13000 epoch=13 metrics={'time_inference': 0.00017043113708496095, 'time_environment_step': 4.160022735595703e-05, 'time_sample_batch': 3.8794517517089846e-05, 'time_algorithm_update': 0.0007517335414886474, 'loss': 10.694641339302063, 'time_step': 0.0010238690376281737, 'rollout_return': 8.472590094359067, 'evaluation': 9.610203675464039} step=13000\n",
      "2023-04-06 13:58.03 [info     ] Model parameters are saved to d3rlpy_logs/DoubleDQN_online_20230406135748/model_14000.pt\n",
      "2023-04-06 13:58.03 [info     ] DoubleDQN_online_20230406135748: epoch=14 step=14000 epoch=14 metrics={'time_inference': 0.00017455029487609862, 'time_environment_step': 4.276823997497559e-05, 'time_sample_batch': 3.95960807800293e-05, 'time_algorithm_update': 0.0007990429401397705, 'loss': 10.638277628421783, 'time_step': 0.0010779035091400147, 'rollout_return': 8.36516314218772, 'evaluation': 9.417157864051388} step=14000\n",
      "2023-04-06 13:58.04 [info     ] Model parameters are saved to d3rlpy_logs/DoubleDQN_online_20230406135748/model_15000.pt\n",
      "2023-04-06 13:58.04 [info     ] DoubleDQN_online_20230406135748: epoch=15 step=15000 epoch=15 metrics={'time_inference': 0.0001718289852142334, 'time_environment_step': 4.154825210571289e-05, 'time_sample_batch': 3.865528106689453e-05, 'time_algorithm_update': 0.0007545661926269532, 'loss': 10.865072642326355, 'time_step': 0.001027897834777832, 'rollout_return': 6.835361425597986, 'evaluation': 5.321281141557095} step=15000\n",
      "2023-04-06 13:58.05 [info     ] Model parameters are saved to d3rlpy_logs/DoubleDQN_online_20230406135748/model_16000.pt\n",
      "2023-04-06 13:58.05 [info     ] DoubleDQN_online_20230406135748: epoch=16 step=16000 epoch=16 metrics={'time_inference': 0.00016909313201904296, 'time_environment_step': 4.1434288024902346e-05, 'time_sample_batch': 3.865480422973633e-05, 'time_algorithm_update': 0.0007513506412506104, 'loss': 10.960047047376632, 'time_step': 0.0010217568874359131, 'rollout_return': 6.915358421110507, 'evaluation': 7.163487021694506} step=16000\n",
      "2023-04-06 13:58.06 [info     ] Model parameters are saved to d3rlpy_logs/DoubleDQN_online_20230406135748/model_17000.pt\n",
      "2023-04-06 13:58.06 [info     ] DoubleDQN_online_20230406135748: epoch=17 step=17000 epoch=17 metrics={'time_inference': 0.00018141841888427734, 'time_environment_step': 4.470515251159668e-05, 'time_sample_batch': 4.158425331115723e-05, 'time_algorithm_update': 0.0008837227821350097, 'loss': 10.923082104802132, 'time_step': 0.001174584150314331, 'rollout_return': 7.059536985423718, 'evaluation': 7.275314583087554} step=17000\n",
      "2023-04-06 13:58.07 [info     ] Model parameters are saved to d3rlpy_logs/DoubleDQN_online_20230406135748/model_18000.pt\n",
      "2023-04-06 13:58.07 [info     ] DoubleDQN_online_20230406135748: epoch=18 step=18000 epoch=18 metrics={'time_inference': 0.00017691540718078614, 'time_environment_step': 4.319024085998535e-05, 'time_sample_batch': 4.036474227905273e-05, 'time_algorithm_update': 0.0008011140823364258, 'loss': 11.180015229463578, 'time_step': 0.0010840787887573242, 'rollout_return': 7.124578927608227, 'evaluation': 7.032615347092181} step=18000\n",
      "2023-04-06 13:58.08 [info     ] Model parameters are saved to d3rlpy_logs/DoubleDQN_online_20230406135748/model_19000.pt\n",
      "2023-04-06 13:58.08 [info     ] DoubleDQN_online_20230406135748: epoch=19 step=19000 epoch=19 metrics={'time_inference': 0.00017596673965454101, 'time_environment_step': 4.2573928833007815e-05, 'time_sample_batch': 4.003620147705078e-05, 'time_algorithm_update': 0.0008402421474456788, 'loss': 11.319350836515426, 'time_step': 0.0011205310821533203, 'rollout_return': 7.273600050025241, 'evaluation': 6.060388352017287} step=19000\n",
      "2023-04-06 13:58.09 [info     ] Model parameters are saved to d3rlpy_logs/DoubleDQN_online_20230406135748/model_20000.pt\n",
      "2023-04-06 13:58.09 [info     ] DoubleDQN_online_20230406135748: epoch=20 step=20000 epoch=20 metrics={'time_inference': 0.000175739049911499, 'time_environment_step': 4.318547248840332e-05, 'time_sample_batch': 4.027700424194336e-05, 'time_algorithm_update': 0.0008060002326965332, 'loss': 11.318583832085132, 'time_step': 0.0010873699188232422, 'rollout_return': 7.223541553803753, 'evaluation': 7.050343824486417} step=20000\n",
      "2023-04-06 13:58.10 [info     ] Model parameters are saved to d3rlpy_logs/DoubleDQN_online_20230406135748/model_21000.pt\n",
      "2023-04-06 13:58.10 [info     ] DoubleDQN_online_20230406135748: epoch=21 step=21000 epoch=21 metrics={'time_inference': 0.00017153263092041016, 'time_environment_step': 4.1610479354858395e-05, 'time_sample_batch': 3.902125358581543e-05, 'time_algorithm_update': 0.0007498540878295898, 'loss': 11.316466433644294, 'time_step': 0.0010232913494110107, 'rollout_return': 6.932499297976741, 'evaluation': 9.447112004815262} step=21000\n",
      "2023-04-06 13:58.11 [info     ] Model parameters are saved to d3rlpy_logs/DoubleDQN_online_20230406135748/model_22000.pt\n",
      "2023-04-06 13:58.11 [info     ] DoubleDQN_online_20230406135748: epoch=22 step=22000 epoch=22 metrics={'time_inference': 0.00016818022727966309, 'time_environment_step': 4.109549522399902e-05, 'time_sample_batch': 3.8561344146728516e-05, 'time_algorithm_update': 0.0007478284835815429, 'loss': 11.286136020541191, 'time_step': 0.0010167720317840576, 'rollout_return': 6.796428447374877, 'evaluation': 5.755657290230952} step=22000\n",
      "2023-04-06 13:58.13 [info     ] Model parameters are saved to d3rlpy_logs/DoubleDQN_online_20230406135748/model_23000.pt\n",
      "2023-04-06 13:58.13 [info     ] DoubleDQN_online_20230406135748: epoch=23 step=23000 epoch=23 metrics={'time_inference': 0.00017851710319519043, 'time_environment_step': 4.4517040252685544e-05, 'time_sample_batch': 4.14731502532959e-05, 'time_algorithm_update': 0.0008311753273010254, 'loss': 11.266009817481041, 'time_step': 0.0011187019348144532, 'rollout_return': 7.2077338728034155, 'evaluation': 8.272439964981611} step=23000\n",
      "2023-04-06 13:58.14 [info     ] Model parameters are saved to d3rlpy_logs/DoubleDQN_online_20230406135748/model_24000.pt\n",
      "2023-04-06 13:58.14 [info     ] DoubleDQN_online_20230406135748: epoch=24 step=24000 epoch=24 metrics={'time_inference': 0.00017738556861877442, 'time_environment_step': 4.298758506774902e-05, 'time_sample_batch': 4.020929336547852e-05, 'time_algorithm_update': 0.0007751619815826416, 'loss': 11.13086900138855, 'time_step': 0.001058069944381714, 'rollout_return': 7.441411546424158, 'evaluation': 8.246461660148507} step=24000\n",
      "2023-04-06 13:58.16 [info     ] Model parameters are saved to d3rlpy_logs/DoubleDQN_online_20230406135748/model_25000.pt\n",
      "2023-04-06 13:58.16 [info     ] DoubleDQN_online_20230406135748: epoch=25 step=25000 epoch=25 metrics={'time_inference': 0.0003147852420806885, 'time_environment_step': 6.639456748962402e-05, 'time_sample_batch': 6.268978118896484e-05, 'time_algorithm_update': 0.002128835678100586, 'loss': 10.922232912264764, 'time_step': 0.0026118626594543457, 'rollout_return': 7.35575603148596, 'evaluation': 8.018883732673567} step=25000\n",
      "2023-04-06 13:58.17 [info     ] Model parameters are saved to d3rlpy_logs/DoubleDQN_online_20230406135748/model_26000.pt\n",
      "2023-04-06 13:58.17 [info     ] DoubleDQN_online_20230406135748: epoch=26 step=26000 epoch=26 metrics={'time_inference': 0.00018512582778930665, 'time_environment_step': 4.6118736267089845e-05, 'time_sample_batch': 4.190587997436523e-05, 'time_algorithm_update': 0.0008206648826599121, 'loss': 10.991706184983254, 'time_step': 0.0011172690391540528, 'rollout_return': 6.505519921733724, 'evaluation': 9.000571433448926} step=26000\n",
      "2023-04-06 13:58.19 [info     ] Model parameters are saved to d3rlpy_logs/DoubleDQN_online_20230406135748/model_27000.pt\n",
      "2023-04-06 13:58.19 [info     ] DoubleDQN_online_20230406135748: epoch=27 step=27000 epoch=27 metrics={'time_inference': 0.0001797912120819092, 'time_environment_step': 4.4589996337890625e-05, 'time_sample_batch': 4.203152656555176e-05, 'time_algorithm_update': 0.0008073828220367432, 'loss': 11.019690289855003, 'time_step': 0.001096834897994995, 'rollout_return': 6.98744729400065, 'evaluation': 7.3541161167032545} step=27000\n",
      "2023-04-06 13:58.20 [info     ] Model parameters are saved to d3rlpy_logs/DoubleDQN_online_20230406135748/model_28000.pt\n",
      "2023-04-06 13:58.20 [info     ] DoubleDQN_online_20230406135748: epoch=28 step=28000 epoch=28 metrics={'time_inference': 0.00018369746208190917, 'time_environment_step': 4.5166492462158205e-05, 'time_sample_batch': 4.3376684188842774e-05, 'time_algorithm_update': 0.0008786051273345948, 'loss': 10.772657454676926, 'time_step': 0.0011744287014007568, 'rollout_return': 7.247604389918791, 'evaluation': 8.466779827723688} step=28000\n",
      "2023-04-06 13:58.21 [info     ] Model parameters are saved to d3rlpy_logs/DoubleDQN_online_20230406135748/model_29000.pt\n",
      "2023-04-06 13:58.21 [info     ] DoubleDQN_online_20230406135748: epoch=29 step=29000 epoch=29 metrics={'time_inference': 0.0001780281066894531, 'time_environment_step': 4.317665100097656e-05, 'time_sample_batch': 4.000449180603027e-05, 'time_algorithm_update': 0.0007765755653381348, 'loss': 10.479385889708995, 'time_step': 0.0010598962306976318, 'rollout_return': 7.2486617121306836, 'evaluation': 8.151399731633177} step=29000\n",
      "2023-04-06 13:58.22 [info     ] Model parameters are saved to d3rlpy_logs/DoubleDQN_online_20230406135748/model_30000.pt\n",
      "2023-04-06 13:58.22 [info     ] DoubleDQN_online_20230406135748: epoch=30 step=30000 epoch=30 metrics={'time_inference': 0.00019419264793395997, 'time_environment_step': 4.748010635375976e-05, 'time_sample_batch': 4.307126998901367e-05, 'time_algorithm_update': 0.0008690083026885987, 'loss': 10.575064212344587, 'time_step': 0.0011783721446990967, 'rollout_return': 7.124747972359996, 'evaluation': 8.232684780910152} step=30000\n",
      "2023-04-06 13:58.23 [info     ] Model parameters are saved to d3rlpy_logs/DoubleDQN_online_20230406135748/model_31000.pt\n",
      "2023-04-06 13:58.23 [info     ] DoubleDQN_online_20230406135748: epoch=31 step=31000 epoch=31 metrics={'time_inference': 0.00018176984786987305, 'time_environment_step': 4.417538642883301e-05, 'time_sample_batch': 4.073834419250488e-05, 'time_algorithm_update': 0.0007942264080047607, 'loss': 10.632208270788192, 'time_step': 0.0010835707187652587, 'rollout_return': 7.112677245436945, 'evaluation': 8.205952262297043} step=31000\n",
      "2023-04-06 13:58.24 [info     ] Model parameters are saved to d3rlpy_logs/DoubleDQN_online_20230406135748/model_32000.pt\n",
      "2023-04-06 13:58.24 [info     ] DoubleDQN_online_20230406135748: epoch=32 step=32000 epoch=32 metrics={'time_inference': 0.00018338680267333983, 'time_environment_step': 4.5003175735473634e-05, 'time_sample_batch': 4.154014587402344e-05, 'time_algorithm_update': 0.0008410396575927734, 'loss': 10.386627708934247, 'time_step': 0.0011344218254089355, 'rollout_return': 7.403862227438846, 'evaluation': 8.184576642648086} step=32000\n",
      "2023-04-06 13:58.26 [info     ] Model parameters are saved to d3rlpy_logs/DoubleDQN_online_20230406135748/model_33000.pt\n",
      "2023-04-06 13:58.26 [info     ] DoubleDQN_online_20230406135748: epoch=33 step=33000 epoch=33 metrics={'time_inference': 0.00018786263465881347, 'time_environment_step': 4.579758644104004e-05, 'time_sample_batch': 4.242110252380371e-05, 'time_algorithm_update': 0.0008587708473205566, 'loss': 10.371247621402144, 'time_step': 0.0011586248874664307, 'rollout_return': 7.227775830439686, 'evaluation': 9.336564487243603} step=33000\n",
      "2023-04-06 13:58.27 [info     ] Model parameters are saved to d3rlpy_logs/DoubleDQN_online_20230406135748/model_34000.pt\n",
      "2023-04-06 13:58.27 [info     ] DoubleDQN_online_20230406135748: epoch=34 step=34000 epoch=34 metrics={'time_inference': 0.00018393158912658692, 'time_environment_step': 4.5184850692749025e-05, 'time_sample_batch': 4.201889038085938e-05, 'time_algorithm_update': 0.0008302326202392578, 'loss': 10.290456877853721, 'time_step': 0.0011243722438812255, 'rollout_return': 7.398022886092186, 'evaluation': 8.346498320260928} step=34000\n",
      "2023-04-06 13:58.28 [info     ] Model parameters are saved to d3rlpy_logs/DoubleDQN_online_20230406135748/model_35000.pt\n",
      "2023-04-06 13:58.28 [info     ] DoubleDQN_online_20230406135748: epoch=35 step=35000 epoch=35 metrics={'time_inference': 0.00018529891967773439, 'time_environment_step': 4.48763370513916e-05, 'time_sample_batch': 4.130411148071289e-05, 'time_algorithm_update': 0.000807765007019043, 'loss': 10.26491687431559, 'time_step': 0.0011022791862487793, 'rollout_return': 7.450538257494585, 'evaluation': 7.659972655999745} step=35000\n",
      "2023-04-06 13:58.29 [info     ] Model parameters are saved to d3rlpy_logs/DoubleDQN_online_20230406135748/model_36000.pt\n",
      "2023-04-06 13:58.29 [info     ] DoubleDQN_online_20230406135748: epoch=36 step=36000 epoch=36 metrics={'time_inference': 0.00018966984748840332, 'time_environment_step': 4.573369026184082e-05, 'time_sample_batch': 4.1745185852050784e-05, 'time_algorithm_update': 0.0008688945770263672, 'loss': 10.350345917820931, 'time_step': 0.0011696701049804688, 'rollout_return': 7.094965170860941, 'evaluation': 7.967638318008076} step=36000\n",
      "2023-04-06 13:58.30 [info     ] Model parameters are saved to d3rlpy_logs/DoubleDQN_online_20230406135748/model_37000.pt\n",
      "2023-04-06 13:58.30 [info     ] DoubleDQN_online_20230406135748: epoch=37 step=37000 epoch=37 metrics={'time_inference': 0.00018691468238830566, 'time_environment_step': 4.5342206954956055e-05, 'time_sample_batch': 4.184746742248535e-05, 'time_algorithm_update': 0.0008209555149078369, 'loss': 10.294430461287499, 'time_step': 0.0011181614398956298, 'rollout_return': 7.15919175321022, 'evaluation': 7.48630207083321} step=37000\n",
      "2023-04-06 13:58.31 [info     ] Model parameters are saved to d3rlpy_logs/DoubleDQN_online_20230406135748/model_38000.pt\n",
      "2023-04-06 13:58.31 [info     ] DoubleDQN_online_20230406135748: epoch=38 step=38000 epoch=38 metrics={'time_inference': 0.0001863212585449219, 'time_environment_step': 4.5181035995483395e-05, 'time_sample_batch': 4.17323112487793e-05, 'time_algorithm_update': 0.0008184609413146972, 'loss': 10.037667676329614, 'time_step': 0.0011148576736450195, 'rollout_return': 7.403368709287393, 'evaluation': 8.004728188841401} step=38000\n",
      "2023-04-06 13:58.33 [info     ] Model parameters are saved to d3rlpy_logs/DoubleDQN_online_20230406135748/model_39000.pt\n",
      "2023-04-06 13:58.33 [info     ] DoubleDQN_online_20230406135748: epoch=39 step=39000 epoch=39 metrics={'time_inference': 0.0001855027675628662, 'time_environment_step': 4.554891586303711e-05, 'time_sample_batch': 4.1851043701171875e-05, 'time_algorithm_update': 0.0008317134380340576, 'loss': 10.111811101332307, 'time_step': 0.0011279370784759522, 'rollout_return': 7.447644317069375, 'evaluation': 8.20168302513683} step=39000\n",
      "2023-04-06 13:58.34 [info     ] Model parameters are saved to d3rlpy_logs/DoubleDQN_online_20230406135748/model_40000.pt\n",
      "2023-04-06 13:58.34 [info     ] DoubleDQN_online_20230406135748: epoch=40 step=40000 epoch=40 metrics={'time_inference': 0.00019360685348510743, 'time_environment_step': 4.7196388244628904e-05, 'time_sample_batch': 4.34720516204834e-05, 'time_algorithm_update': 0.0008996825218200683, 'loss': 10.122459151387215, 'time_step': 0.0012084856033325196, 'rollout_return': 6.987773165133746, 'evaluation': 7.738241347697429} step=40000\n",
      "2023-04-06 13:58.35 [info     ] Model parameters are saved to d3rlpy_logs/DoubleDQN_online_20230406135748/model_41000.pt\n",
      "2023-04-06 13:58.35 [info     ] DoubleDQN_online_20230406135748: epoch=41 step=41000 epoch=41 metrics={'time_inference': 0.0001946883201599121, 'time_environment_step': 4.766988754272461e-05, 'time_sample_batch': 4.3467998504638675e-05, 'time_algorithm_update': 0.0009232463836669922, 'loss': 10.114746915735305, 'time_step': 0.001233647108078003, 'rollout_return': 7.493153205803445, 'evaluation': 7.995808878273192} step=41000\n",
      "2023-04-06 13:58.36 [info     ] Model parameters are saved to d3rlpy_logs/DoubleDQN_online_20230406135748/model_42000.pt\n",
      "2023-04-06 13:58.36 [info     ] DoubleDQN_online_20230406135748: epoch=42 step=42000 epoch=42 metrics={'time_inference': 0.00019797754287719728, 'time_environment_step': 4.842782020568848e-05, 'time_sample_batch': 4.430413246154785e-05, 'time_algorithm_update': 0.0009363038539886475, 'loss': 9.987713256906718, 'time_step': 0.0012522079944610595, 'rollout_return': 7.228724497787061, 'evaluation': 7.845525257564191} step=42000\n",
      "2023-04-06 13:58.38 [info     ] Model parameters are saved to d3rlpy_logs/DoubleDQN_online_20230406135748/model_43000.pt\n",
      "2023-04-06 13:58.38 [info     ] DoubleDQN_online_20230406135748: epoch=43 step=43000 epoch=43 metrics={'time_inference': 0.00020098257064819335, 'time_environment_step': 4.903054237365723e-05, 'time_sample_batch': 4.458761215209961e-05, 'time_algorithm_update': 0.0008933966159820557, 'loss': 10.009710653848947, 'time_step': 0.0012132446765899657, 'rollout_return': 7.8220213385196145, 'evaluation': 8.19628928643545} step=43000\n",
      "2023-04-06 13:58.39 [info     ] Model parameters are saved to d3rlpy_logs/DoubleDQN_online_20230406135748/model_44000.pt\n",
      "2023-04-06 13:58.39 [info     ] DoubleDQN_online_20230406135748: epoch=44 step=44000 epoch=44 metrics={'time_inference': 0.00019939494132995605, 'time_environment_step': 4.894709587097168e-05, 'time_sample_batch': 4.4653177261352536e-05, 'time_algorithm_update': 0.0009092142581939698, 'loss': 9.976866314321756, 'time_step': 0.00122753643989563, 'rollout_return': 7.6035417396342355, 'evaluation': 8.214464250971341} step=44000\n",
      "2023-04-06 13:58.40 [info     ] Model parameters are saved to d3rlpy_logs/DoubleDQN_online_20230406135748/model_45000.pt\n",
      "2023-04-06 13:58.40 [info     ] DoubleDQN_online_20230406135748: epoch=45 step=45000 epoch=45 metrics={'time_inference': 0.00019760012626647948, 'time_environment_step': 4.790639877319336e-05, 'time_sample_batch': 4.380154609680176e-05, 'time_algorithm_update': 0.0008720798492431641, 'loss': 10.087624826282262, 'time_step': 0.0011860766410827636, 'rollout_return': 7.530053537224583, 'evaluation': 8.264315068460965} step=45000\n",
      "2023-04-06 13:58.41 [info     ] Model parameters are saved to d3rlpy_logs/DoubleDQN_online_20230406135748/model_46000.pt\n",
      "2023-04-06 13:58.41 [info     ] DoubleDQN_online_20230406135748: epoch=46 step=46000 epoch=46 metrics={'time_inference': 0.00019520831108093263, 'time_environment_step': 4.798650741577149e-05, 'time_sample_batch': 4.410505294799805e-05, 'time_algorithm_update': 0.0008639788627624512, 'loss': 9.960885439999402, 'time_step': 0.0011758522987365722, 'rollout_return': 7.596800309886423, 'evaluation': 8.325531971080693} step=46000\n",
      "2023-04-06 13:58.43 [info     ] Model parameters are saved to d3rlpy_logs/DoubleDQN_online_20230406135748/model_47000.pt\n",
      "2023-04-06 13:58.43 [info     ] DoubleDQN_online_20230406135748: epoch=47 step=47000 epoch=47 metrics={'time_inference': 0.00020307135581970216, 'time_environment_step': 4.9206972122192385e-05, 'time_sample_batch': 4.4840574264526364e-05, 'time_algorithm_update': 0.0009081671237945556, 'loss': 10.08692562520504, 'time_step': 0.001230656862258911, 'rollout_return': 7.611064539594481, 'evaluation': 8.208078664013374} step=47000\n",
      "2023-04-06 13:58.44 [info     ] Model parameters are saved to d3rlpy_logs/DoubleDQN_online_20230406135748/model_48000.pt\n",
      "2023-04-06 13:58.44 [info     ] DoubleDQN_online_20230406135748: epoch=48 step=48000 epoch=48 metrics={'time_inference': 0.000201019287109375, 'time_environment_step': 4.8517227172851565e-05, 'time_sample_batch': 4.432916641235352e-05, 'time_algorithm_update': 0.0008754055500030518, 'loss': 10.325986864209176, 'time_step': 0.0011942105293273925, 'rollout_return': 7.609487375668914, 'evaluation': 8.963282269946793} step=48000\n",
      "2023-04-06 13:58.45 [info     ] Model parameters are saved to d3rlpy_logs/DoubleDQN_online_20230406135748/model_49000.pt\n",
      "2023-04-06 13:58.45 [info     ] DoubleDQN_online_20230406135748: epoch=49 step=49000 epoch=49 metrics={'time_inference': 0.00021195006370544432, 'time_environment_step': 5.111360549926758e-05, 'time_sample_batch': 4.6213388442993164e-05, 'time_algorithm_update': 0.0009589338302612305, 'loss': 10.470565124511719, 'time_step': 0.0012945048809051513, 'rollout_return': 7.820888882684978, 'evaluation': 7.699519686852507} step=49000\n",
      "2023-04-06 13:58.47 [info     ] Model parameters are saved to d3rlpy_logs/DoubleDQN_online_20230406135748/model_50000.pt\n",
      "2023-04-06 13:58.47 [info     ] DoubleDQN_online_20230406135748: epoch=50 step=50000 epoch=50 metrics={'time_inference': 0.00020726323127746583, 'time_environment_step': 5.062127113342285e-05, 'time_sample_batch': 4.554557800292969e-05, 'time_algorithm_update': 0.0009500663280487061, 'loss': 10.267459357261657, 'time_step': 0.0012796435356140137, 'rollout_return': 7.941521223925153, 'evaluation': 8.236792965911977} step=50000\n",
      "2023-04-06 13:58.48 [info     ] Model parameters are saved to d3rlpy_logs/DoubleDQN_online_20230406135748/model_51000.pt\n",
      "2023-04-06 13:58.48 [info     ] DoubleDQN_online_20230406135748: epoch=51 step=51000 epoch=51 metrics={'time_inference': 0.0002163856029510498, 'time_environment_step': 5.3159236907958986e-05, 'time_sample_batch': 4.813504219055176e-05, 'time_algorithm_update': 0.0009706201553344727, 'loss': 10.268095594406129, 'time_step': 0.0013153080940246581, 'rollout_return': 8.176615523944069, 'evaluation': 8.608528633386962} step=51000\n",
      "2023-04-06 13:58.49 [info     ] Model parameters are saved to d3rlpy_logs/DoubleDQN_online_20230406135748/model_52000.pt\n",
      "2023-04-06 13:58.49 [info     ] DoubleDQN_online_20230406135748: epoch=52 step=52000 epoch=52 metrics={'time_inference': 0.00020644164085388184, 'time_environment_step': 5.124664306640625e-05, 'time_sample_batch': 4.558658599853516e-05, 'time_algorithm_update': 0.0009083423614501953, 'loss': 10.243271188974381, 'time_step': 0.001237381935119629, 'rollout_return': 7.8340446427704125, 'evaluation': 7.886622045854436} step=52000\n",
      "2023-04-06 13:58.50 [info     ] Model parameters are saved to d3rlpy_logs/DoubleDQN_online_20230406135748/model_53000.pt\n",
      "2023-04-06 13:58.50 [info     ] DoubleDQN_online_20230406135748: epoch=53 step=53000 epoch=53 metrics={'time_inference': 0.00020816063880920411, 'time_environment_step': 5.1372289657592774e-05, 'time_sample_batch': 4.6108245849609374e-05, 'time_algorithm_update': 0.0009593162536621094, 'loss': 10.402743057012557, 'time_step': 0.0012913265228271485, 'rollout_return': 7.647597541454456, 'evaluation': 8.073860955624356} step=53000\n",
      "2023-04-06 13:58.52 [info     ] Model parameters are saved to d3rlpy_logs/DoubleDQN_online_20230406135748/model_54000.pt\n",
      "2023-04-06 13:58.52 [info     ] DoubleDQN_online_20230406135748: epoch=54 step=54000 epoch=54 metrics={'time_inference': 0.00020734667778015136, 'time_environment_step': 5.077576637268066e-05, 'time_sample_batch': 4.582834243774414e-05, 'time_algorithm_update': 0.0009108257293701172, 'loss': 10.399955708503724, 'time_step': 0.0012406821250915527, 'rollout_return': 7.455347596388365, 'evaluation': 7.861780219142673} step=54000\n",
      "2023-04-06 13:58.53 [info     ] Model parameters are saved to d3rlpy_logs/DoubleDQN_online_20230406135748/model_55000.pt\n",
      "2023-04-06 13:58.53 [info     ] DoubleDQN_online_20230406135748: epoch=55 step=55000 epoch=55 metrics={'time_inference': 0.00021854114532470704, 'time_environment_step': 5.2753925323486326e-05, 'time_sample_batch': 4.7453165054321286e-05, 'time_algorithm_update': 0.0009822115898132325, 'loss': 10.37235707512498, 'time_step': 0.001328340768814087, 'rollout_return': 7.499565407677542, 'evaluation': 7.93382116332009} step=55000\n",
      "2023-04-06 13:58.54 [info     ] Model parameters are saved to d3rlpy_logs/DoubleDQN_online_20230406135748/model_56000.pt\n",
      "2023-04-06 13:58.54 [info     ] DoubleDQN_online_20230406135748: epoch=56 step=56000 epoch=56 metrics={'time_inference': 0.00021099519729614257, 'time_environment_step': 5.094051361083984e-05, 'time_sample_batch': 4.631543159484863e-05, 'time_algorithm_update': 0.000918219804763794, 'loss': 10.072828595399857, 'time_step': 0.0012526161670684815, 'rollout_return': 7.428171778193529, 'evaluation': 7.845732330659987} step=56000\n",
      "2023-04-06 13:58.56 [info     ] Model parameters are saved to d3rlpy_logs/DoubleDQN_online_20230406135748/model_57000.pt\n",
      "2023-04-06 13:58.56 [info     ] DoubleDQN_online_20230406135748: epoch=57 step=57000 epoch=57 metrics={'time_inference': 0.0002165839672088623, 'time_environment_step': 5.313396453857422e-05, 'time_sample_batch': 4.7399520874023436e-05, 'time_algorithm_update': 0.000970174789428711, 'loss': 10.213949566911905, 'time_step': 0.0013145675659179687, 'rollout_return': 7.3828012339238125, 'evaluation': 8.024820974031027} step=57000\n",
      "2023-04-06 13:58.57 [info     ] Model parameters are saved to d3rlpy_logs/DoubleDQN_online_20230406135748/model_58000.pt\n",
      "2023-04-06 13:58.57 [info     ] DoubleDQN_online_20230406135748: epoch=58 step=58000 epoch=58 metrics={'time_inference': 0.00021906280517578126, 'time_environment_step': 5.3273916244506837e-05, 'time_sample_batch': 4.722952842712402e-05, 'time_algorithm_update': 0.0009579105377197266, 'loss': 10.327392883896827, 'time_step': 0.0013048086166381836, 'rollout_return': 7.437786046697952, 'evaluation': 7.671875663848555} step=58000\n",
      "2023-04-06 13:58.58 [info     ] Model parameters are saved to d3rlpy_logs/DoubleDQN_online_20230406135748/model_59000.pt\n",
      "2023-04-06 13:58.58 [info     ] DoubleDQN_online_20230406135748: epoch=59 step=59000 epoch=59 metrics={'time_inference': 0.00021271920204162596, 'time_environment_step': 5.18338680267334e-05, 'time_sample_batch': 4.667329788208008e-05, 'time_algorithm_update': 0.0009252638816833497, 'loss': 10.150332872897387, 'time_step': 0.0012629692554473877, 'rollout_return': 7.632646711117925, 'evaluation': 8.334152107648812} step=59000\n",
      "2023-04-06 13:59.00 [info     ] Model parameters are saved to d3rlpy_logs/DoubleDQN_online_20230406135748/model_60000.pt\n",
      "2023-04-06 13:59.00 [info     ] DoubleDQN_online_20230406135748: epoch=60 step=60000 epoch=60 metrics={'time_inference': 0.00021601462364196776, 'time_environment_step': 5.3173780441284177e-05, 'time_sample_batch': 4.721808433532715e-05, 'time_algorithm_update': 0.0009827678203582764, 'loss': 10.098255898796022, 'time_step': 0.001326322317123413, 'rollout_return': 7.479624369738997, 'evaluation': 8.283930279763087} step=60000\n",
      "2023-04-06 13:59.01 [info     ] Model parameters are saved to d3rlpy_logs/DoubleDQN_online_20230406135748/model_61000.pt\n",
      "2023-04-06 13:59.01 [info     ] DoubleDQN_online_20230406135748: epoch=61 step=61000 epoch=61 metrics={'time_inference': 0.0002145404815673828, 'time_environment_step': 5.209493637084961e-05, 'time_sample_batch': 4.689264297485351e-05, 'time_algorithm_update': 0.0009369685649871826, 'loss': 10.304374780297278, 'time_step': 0.0012772960662841798, 'rollout_return': 7.4955358889866615, 'evaluation': 8.484599980398773} step=61000\n",
      "2023-04-06 13:59.02 [info     ] Model parameters are saved to d3rlpy_logs/DoubleDQN_online_20230406135748/model_62000.pt\n",
      "2023-04-06 13:59.02 [info     ] DoubleDQN_online_20230406135748: epoch=62 step=62000 epoch=62 metrics={'time_inference': 0.0002162346839904785, 'time_environment_step': 5.1944494247436526e-05, 'time_sample_batch': 4.6594381332397464e-05, 'time_algorithm_update': 0.0009377927780151367, 'loss': 10.207074059575795, 'time_step': 0.0012791969776153565, 'rollout_return': 7.435210456591741, 'evaluation': 9.002091854653035} step=62000\n",
      "2023-04-06 13:59.04 [info     ] Model parameters are saved to d3rlpy_logs/DoubleDQN_online_20230406135748/model_63000.pt\n",
      "2023-04-06 13:59.04 [info     ] DoubleDQN_online_20230406135748: epoch=63 step=63000 epoch=63 metrics={'time_inference': 0.000218064546585083, 'time_environment_step': 5.2775144577026365e-05, 'time_sample_batch': 4.726910591125488e-05, 'time_algorithm_update': 0.000976395845413208, 'loss': 10.239476012706756, 'time_step': 0.0013557980060577392, 'rollout_return': 7.59414604073688, 'evaluation': 9.414001191172266} step=63000\n",
      "2023-04-06 13:59.05 [info     ] Model parameters are saved to d3rlpy_logs/DoubleDQN_online_20230406135748/model_64000.pt\n",
      "2023-04-06 13:59.05 [info     ] DoubleDQN_online_20230406135748: epoch=64 step=64000 epoch=64 metrics={'time_inference': 0.00021694421768188475, 'time_environment_step': 5.32681941986084e-05, 'time_sample_batch': 4.756236076354981e-05, 'time_algorithm_update': 0.0009752888679504394, 'loss': 10.192903293132781, 'time_step': 0.0013205187320709229, 'rollout_return': 7.735328817717115, 'evaluation': 8.23790179370075} step=64000\n",
      "2023-04-06 13:59.07 [info     ] Model parameters are saved to d3rlpy_logs/DoubleDQN_online_20230406135748/model_65000.pt\n",
      "2023-04-06 13:59.07 [info     ] DoubleDQN_online_20230406135748: epoch=65 step=65000 epoch=65 metrics={'time_inference': 0.00021621894836425782, 'time_environment_step': 5.2219390869140625e-05, 'time_sample_batch': 4.653239250183105e-05, 'time_algorithm_update': 0.0009336130619049072, 'loss': 10.095919651318342, 'time_step': 0.001275242567062378, 'rollout_return': 7.775207841401115, 'evaluation': 9.431773730817193} step=65000\n",
      "2023-04-06 13:59.08 [info     ] Model parameters are saved to d3rlpy_logs/DoubleDQN_online_20230406135748/model_66000.pt\n",
      "2023-04-06 13:59.08 [info     ] DoubleDQN_online_20230406135748: epoch=66 step=66000 epoch=66 metrics={'time_inference': 0.00021465086936950684, 'time_environment_step': 5.245280265808105e-05, 'time_sample_batch': 4.699850082397461e-05, 'time_algorithm_update': 0.0009394874572753906, 'loss': 10.545032010558993, 'time_step': 0.0012803053855895996, 'rollout_return': 7.936876247443657, 'evaluation': 7.441313867178596} step=66000\n",
      "2023-04-06 13:59.09 [info     ] Model parameters are saved to d3rlpy_logs/DoubleDQN_online_20230406135748/model_67000.pt\n",
      "2023-04-06 13:59.09 [info     ] DoubleDQN_online_20230406135748: epoch=67 step=67000 epoch=67 metrics={'time_inference': 0.00022997426986694336, 'time_environment_step': 5.603170394897461e-05, 'time_sample_batch': 4.936981201171875e-05, 'time_algorithm_update': 0.0011149609088897704, 'loss': 10.35663777617365, 'time_step': 0.0014790186882019042, 'rollout_return': 7.885475453598879, 'evaluation': 9.330386684896562} step=67000\n",
      "2023-04-06 13:59.11 [info     ] Model parameters are saved to d3rlpy_logs/DoubleDQN_online_20230406135748/model_68000.pt\n",
      "2023-04-06 13:59.11 [info     ] DoubleDQN_online_20230406135748: epoch=68 step=68000 epoch=68 metrics={'time_inference': 0.0002155776023864746, 'time_environment_step': 5.239725112915039e-05, 'time_sample_batch': 4.725503921508789e-05, 'time_algorithm_update': 0.0009450240135192871, 'loss': 10.352651927947997, 'time_step': 0.001287003755569458, 'rollout_return': 8.158018339868566, 'evaluation': 9.384969470363682} step=68000\n",
      "2023-04-06 13:59.12 [info     ] Model parameters are saved to d3rlpy_logs/DoubleDQN_online_20230406135748/model_69000.pt\n",
      "2023-04-06 13:59.12 [info     ] DoubleDQN_online_20230406135748: epoch=69 step=69000 epoch=69 metrics={'time_inference': 0.00022699499130249024, 'time_environment_step': 5.4874420166015624e-05, 'time_sample_batch': 4.945564270019531e-05, 'time_algorithm_update': 0.0010398969650268555, 'loss': 10.340683253996074, 'time_step': 0.0013998339176177978, 'rollout_return': 8.099926704733894, 'evaluation': 6.676259290700879} step=69000\n",
      "2023-04-06 13:59.14 [info     ] Model parameters are saved to d3rlpy_logs/DoubleDQN_online_20230406135748/model_70000.pt\n",
      "2023-04-06 13:59.14 [info     ] DoubleDQN_online_20230406135748: epoch=70 step=70000 epoch=70 metrics={'time_inference': 0.00023755812644958495, 'time_environment_step': 5.806326866149902e-05, 'time_sample_batch': 5.243897438049316e-05, 'time_algorithm_update': 0.0010854306221008301, 'loss': 10.324592730522156, 'time_step': 0.0014630835056304932, 'rollout_return': 7.900198597640098, 'evaluation': 9.373432676665745} step=70000\n",
      "2023-04-06 13:59.15 [info     ] Model parameters are saved to d3rlpy_logs/DoubleDQN_online_20230406135748/model_71000.pt\n",
      "2023-04-06 13:59.15 [info     ] DoubleDQN_online_20230406135748: epoch=71 step=71000 epoch=71 metrics={'time_inference': 0.00022763490676879882, 'time_environment_step': 5.5116415023803714e-05, 'time_sample_batch': 4.915571212768555e-05, 'time_algorithm_update': 0.0010384688377380372, 'loss': 10.083019750237465, 'time_step': 0.00139894437789917, 'rollout_return': 7.6847830883078165, 'evaluation': 8.26650912897787} step=71000\n",
      "2023-04-06 13:59.16 [info     ] Model parameters are saved to d3rlpy_logs/DoubleDQN_online_20230406135748/model_72000.pt\n",
      "2023-04-06 13:59.16 [info     ] DoubleDQN_online_20230406135748: epoch=72 step=72000 epoch=72 metrics={'time_inference': 0.00021961593627929687, 'time_environment_step': 5.3591251373291014e-05, 'time_sample_batch': 4.7683238983154295e-05, 'time_algorithm_update': 0.0009602298736572266, 'loss': 10.420008740305901, 'time_step': 0.001308473587036133, 'rollout_return': 7.230760438522301, 'evaluation': 7.358367334067951} step=72000\n",
      "2023-04-06 13:59.18 [info     ] Model parameters are saved to d3rlpy_logs/DoubleDQN_online_20230406135748/model_73000.pt\n",
      "2023-04-06 13:59.18 [info     ] DoubleDQN_online_20230406135748: epoch=73 step=73000 epoch=73 metrics={'time_inference': 0.00023268938064575196, 'time_environment_step': 5.6305408477783205e-05, 'time_sample_batch': 4.9553394317626956e-05, 'time_algorithm_update': 0.0010220191478729247, 'loss': 10.344056410312653, 'time_step': 0.0013894038200378419, 'rollout_return': 7.579059586392191, 'evaluation': 8.324738765811492} step=73000\n",
      "2023-04-06 13:59.20 [info     ] Model parameters are saved to d3rlpy_logs/DoubleDQN_online_20230406135748/model_74000.pt\n",
      "2023-04-06 13:59.20 [info     ] DoubleDQN_online_20230406135748: epoch=74 step=74000 epoch=74 metrics={'time_inference': 0.00031050801277160645, 'time_environment_step': 8.186602592468261e-05, 'time_sample_batch': 0.00010615634918212891, 'time_algorithm_update': 0.0017633399963378907, 'loss': 10.364766852021218, 'time_step': 0.0023039352893829347, 'rollout_return': 7.396123248373282, 'evaluation': 8.58465544950889} step=74000\n",
      "2023-04-06 13:59.23 [info     ] Model parameters are saved to d3rlpy_logs/DoubleDQN_online_20230406135748/model_75000.pt\n",
      "2023-04-06 13:59.23 [info     ] DoubleDQN_online_20230406135748: epoch=75 step=75000 epoch=75 metrics={'time_inference': 0.00044218802452087404, 'time_environment_step': 9.811663627624512e-05, 'time_sample_batch': 8.333516120910645e-05, 'time_algorithm_update': 0.002336357593536377, 'loss': 10.461875440541656, 'time_step': 0.0030189759731292726, 'rollout_return': 7.479521683762954, 'evaluation': 6.109661274747063} step=75000\n",
      "2023-04-06 13:59.26 [info     ] Model parameters are saved to d3rlpy_logs/DoubleDQN_online_20230406135748/model_76000.pt\n",
      "2023-04-06 13:59.26 [info     ] DoubleDQN_online_20230406135748: epoch=76 step=76000 epoch=76 metrics={'time_inference': 0.0003239297866821289, 'time_environment_step': 7.738256454467773e-05, 'time_sample_batch': 6.48491382598877e-05, 'time_algorithm_update': 0.0016802628040313722, 'loss': 10.454323360316454, 'time_step': 0.002186152219772339, 'rollout_return': 7.215064167229628, 'evaluation': 6.875755780910895} step=76000\n",
      "2023-04-06 13:59.28 [info     ] Model parameters are saved to d3rlpy_logs/DoubleDQN_online_20230406135748/model_77000.pt\n",
      "2023-04-06 13:59.28 [info     ] DoubleDQN_online_20230406135748: epoch=77 step=77000 epoch=77 metrics={'time_inference': 0.00033557796478271486, 'time_environment_step': 8.576536178588867e-05, 'time_sample_batch': 6.751513481140136e-05, 'time_algorithm_update': 0.0018871448040008545, 'loss': 10.47441192344576, 'time_step': 0.0024195420742034912, 'rollout_return': 7.313505859790909, 'evaluation': 7.1166389305785716} step=77000\n",
      "2023-04-06 13:59.30 [info     ] Model parameters are saved to d3rlpy_logs/DoubleDQN_online_20230406135748/model_78000.pt\n",
      "2023-04-06 13:59.30 [info     ] DoubleDQN_online_20230406135748: epoch=78 step=78000 epoch=78 metrics={'time_inference': 0.0002862865924835205, 'time_environment_step': 6.695699691772461e-05, 'time_sample_batch': 5.847334861755371e-05, 'time_algorithm_update': 0.0015182571411132813, 'loss': 10.127149928808212, 'time_step': 0.001966170072555542, 'rollout_return': 7.361994921314692, 'evaluation': 7.915169630765718} step=78000\n",
      "2023-04-06 13:59.32 [info     ] Model parameters are saved to d3rlpy_logs/DoubleDQN_online_20230406135748/model_79000.pt\n",
      "2023-04-06 13:59.32 [info     ] DoubleDQN_online_20230406135748: epoch=79 step=79000 epoch=79 metrics={'time_inference': 0.00032526159286499026, 'time_environment_step': 8.028078079223632e-05, 'time_sample_batch': 6.805944442749023e-05, 'time_algorithm_update': 0.0015621426105499267, 'loss': 10.335218685910105, 'time_step': 0.0020898141860961916, 'rollout_return': 7.259254044200457, 'evaluation': 8.38346654997943} step=79000\n",
      "2023-04-06 13:59.34 [info     ] Model parameters are saved to d3rlpy_logs/DoubleDQN_online_20230406135748/model_80000.pt\n",
      "2023-04-06 13:59.34 [info     ] DoubleDQN_online_20230406135748: epoch=80 step=80000 epoch=80 metrics={'time_inference': 0.00029360890388488767, 'time_environment_step': 7.306432723999024e-05, 'time_sample_batch': 6.250953674316407e-05, 'time_algorithm_update': 0.0013547255992889405, 'loss': 10.312777380228043, 'time_step': 0.0018222849369049071, 'rollout_return': 7.512983486038228, 'evaluation': 7.605015256179435} step=80000\n",
      "2023-04-06 13:59.36 [info     ] Model parameters are saved to d3rlpy_logs/DoubleDQN_online_20230406135748/model_81000.pt\n",
      "2023-04-06 13:59.36 [info     ] DoubleDQN_online_20230406135748: epoch=81 step=81000 epoch=81 metrics={'time_inference': 0.0003062410354614258, 'time_environment_step': 7.12881088256836e-05, 'time_sample_batch': 6.1279296875e-05, 'time_algorithm_update': 0.0013237719535827636, 'loss': 10.210503694012761, 'time_step': 0.0018032619953155518, 'rollout_return': 7.436622898134582, 'evaluation': 9.40903024125271} step=81000\n",
      "2023-04-06 13:59.38 [info     ] Model parameters are saved to d3rlpy_logs/DoubleDQN_online_20230406135748/model_82000.pt\n",
      "2023-04-06 13:59.38 [info     ] DoubleDQN_online_20230406135748: epoch=82 step=82000 epoch=82 metrics={'time_inference': 0.0002789943218231201, 'time_environment_step': 6.873273849487305e-05, 'time_sample_batch': 5.85322380065918e-05, 'time_algorithm_update': 0.0013103220462799073, 'loss': 10.27177222919464, 'time_step': 0.001752558708190918, 'rollout_return': 7.207124353814488, 'evaluation': 7.966886175382937} step=82000\n",
      "2023-04-06 13:59.40 [info     ] Model parameters are saved to d3rlpy_logs/DoubleDQN_online_20230406135748/model_83000.pt\n",
      "2023-04-06 13:59.40 [info     ] DoubleDQN_online_20230406135748: epoch=83 step=83000 epoch=83 metrics={'time_inference': 0.0002657203674316406, 'time_environment_step': 6.650900840759277e-05, 'time_sample_batch': 5.711650848388672e-05, 'time_algorithm_update': 0.001221604585647583, 'loss': 10.194268123708666, 'time_step': 0.0016460192203521728, 'rollout_return': 7.279725542011185, 'evaluation': 7.262975074253743} step=83000\n",
      "2023-04-06 13:59.41 [info     ] Model parameters are saved to d3rlpy_logs/DoubleDQN_online_20230406135748/model_84000.pt\n",
      "2023-04-06 13:59.41 [info     ] DoubleDQN_online_20230406135748: epoch=84 step=84000 epoch=84 metrics={'time_inference': 0.0002730209827423096, 'time_environment_step': 7.06326961517334e-05, 'time_sample_batch': 5.9448003768920896e-05, 'time_algorithm_update': 0.0012888998985290526, 'loss': 10.03663585922122, 'time_step': 0.001728463649749756, 'rollout_return': 7.605858629954363, 'evaluation': 7.800329887439706} step=84000\n",
      "2023-04-06 13:59.43 [info     ] Model parameters are saved to d3rlpy_logs/DoubleDQN_online_20230406135748/model_85000.pt\n",
      "2023-04-06 13:59.43 [info     ] DoubleDQN_online_20230406135748: epoch=85 step=85000 epoch=85 metrics={'time_inference': 0.00026697278022766116, 'time_environment_step': 6.423139572143555e-05, 'time_sample_batch': 5.846118927001953e-05, 'time_algorithm_update': 0.001243927240371704, 'loss': 10.524729644801468, 'time_step': 0.0016680662631988526, 'rollout_return': 7.745767374923435, 'evaluation': 7.917473812615114} step=85000\n",
      "2023-04-06 13:59.45 [info     ] Model parameters are saved to d3rlpy_logs/DoubleDQN_online_20230406135748/model_86000.pt\n",
      "2023-04-06 13:59.45 [info     ] DoubleDQN_online_20230406135748: epoch=86 step=86000 epoch=86 metrics={'time_inference': 0.000269019603729248, 'time_environment_step': 6.634116172790527e-05, 'time_sample_batch': 5.796670913696289e-05, 'time_algorithm_update': 0.0012613632678985596, 'loss': 10.335979924201965, 'time_step': 0.001688779354095459, 'rollout_return': 7.7287220312558675, 'evaluation': 7.9829743542124705} step=86000\n",
      "2023-04-06 13:59.47 [info     ] Model parameters are saved to d3rlpy_logs/DoubleDQN_online_20230406135748/model_87000.pt\n",
      "2023-04-06 13:59.47 [info     ] DoubleDQN_online_20230406135748: epoch=87 step=87000 epoch=87 metrics={'time_inference': 0.00026480484008789063, 'time_environment_step': 7.463622093200684e-05, 'time_sample_batch': 5.502700805664063e-05, 'time_algorithm_update': 0.001241586208343506, 'loss': 10.19172025001049, 'time_step': 0.0016681413650512695, 'rollout_return': 7.703682820010631, 'evaluation': 8.084508299057688} step=87000\n",
      "2023-04-06 13:59.48 [info     ] Model parameters are saved to d3rlpy_logs/DoubleDQN_online_20230406135748/model_88000.pt\n",
      "2023-04-06 13:59.48 [info     ] DoubleDQN_online_20230406135748: epoch=88 step=88000 epoch=88 metrics={'time_inference': 0.00025106143951416016, 'time_environment_step': 6.13851547241211e-05, 'time_sample_batch': 5.5664300918579105e-05, 'time_algorithm_update': 0.001151637077331543, 'loss': 10.315431897565723, 'time_step': 0.0015517113208770752, 'rollout_return': 7.722425437722659, 'evaluation': 8.234237324058522} step=88000\n",
      "2023-04-06 13:59.50 [info     ] Model parameters are saved to d3rlpy_logs/DoubleDQN_online_20230406135748/model_89000.pt\n",
      "2023-04-06 13:59.50 [info     ] DoubleDQN_online_20230406135748: epoch=89 step=89000 epoch=89 metrics={'time_inference': 0.00024378180503845215, 'time_environment_step': 5.954909324645996e-05, 'time_sample_batch': 5.2578210830688476e-05, 'time_algorithm_update': 0.0011061477661132814, 'loss': 10.302287295170128, 'time_step': 0.0014937689304351806, 'rollout_return': 7.3894138448792095, 'evaluation': 7.390693728711078} step=89000\n",
      "2023-04-06 13:59.51 [info     ] Model parameters are saved to d3rlpy_logs/DoubleDQN_online_20230406135748/model_90000.pt\n",
      "2023-04-06 13:59.51 [info     ] DoubleDQN_online_20230406135748: epoch=90 step=90000 epoch=90 metrics={'time_inference': 0.0002583599090576172, 'time_environment_step': 6.408596038818359e-05, 'time_sample_batch': 5.643296241760254e-05, 'time_algorithm_update': 0.0012024650573730469, 'loss': 9.86360084291175, 'time_step': 0.0016148760318756103, 'rollout_return': 7.1584416125264, 'evaluation': 7.755709844392838} step=90000\n",
      "2023-04-06 13:59.52 [info     ] Model parameters are saved to d3rlpy_logs/DoubleDQN_online_20230406135748/model_91000.pt\n",
      "2023-04-06 13:59.52 [info     ] DoubleDQN_online_20230406135748: epoch=91 step=91000 epoch=91 metrics={'time_inference': 0.00014530110359191895, 'time_environment_step': 3.57513427734375e-05, 'time_sample_batch': 3.2134056091308594e-05, 'time_algorithm_update': 0.0006285009384155273, 'loss': 10.099982708334922, 'time_step': 0.000859954833984375, 'rollout_return': 7.174545503221728, 'evaluation': 7.801849613778492} step=91000\n",
      "2023-04-06 13:59.53 [info     ] Model parameters are saved to d3rlpy_logs/DoubleDQN_online_20230406135748/model_92000.pt\n",
      "2023-04-06 13:59.53 [info     ] DoubleDQN_online_20230406135748: epoch=92 step=92000 epoch=92 metrics={'time_inference': 0.00016916537284851073, 'time_environment_step': 4.214310646057129e-05, 'time_sample_batch': 3.881311416625977e-05, 'time_algorithm_update': 0.000755406379699707, 'loss': 9.848678613420576, 'time_step': 0.0010275247097015381, 'rollout_return': 7.36741010500597, 'evaluation': 7.81576447710777} step=92000\n",
      "2023-04-06 13:59.55 [info     ] Model parameters are saved to d3rlpy_logs/DoubleDQN_online_20230406135748/model_93000.pt\n",
      "2023-04-06 13:59.55 [info     ] DoubleDQN_online_20230406135748: epoch=93 step=93000 epoch=93 metrics={'time_inference': 0.00023668742179870606, 'time_environment_step': 6.0913562774658205e-05, 'time_sample_batch': 5.128026008605957e-05, 'time_algorithm_update': 0.0009924356937408448, 'loss': 10.024374875627458, 'time_step': 0.0013707423210144044, 'rollout_return': 7.181440293300827, 'evaluation': 8.260796556033236} step=93000\n",
      "2023-04-06 13:59.56 [info     ] Model parameters are saved to d3rlpy_logs/DoubleDQN_online_20230406135748/model_94000.pt\n",
      "2023-04-06 13:59.56 [info     ] DoubleDQN_online_20230406135748: epoch=94 step=94000 epoch=94 metrics={'time_inference': 0.0002044515609741211, 'time_environment_step': 5.077910423278809e-05, 'time_sample_batch': 4.544329643249512e-05, 'time_algorithm_update': 0.0009132895469665527, 'loss': 9.893585209719836, 'time_step': 0.0012403202056884765, 'rollout_return': 7.195993948466825, 'evaluation': 8.098008539890701} step=94000\n",
      "2023-04-06 13:59.58 [info     ] Model parameters are saved to d3rlpy_logs/DoubleDQN_online_20230406135748/model_95000.pt\n",
      "2023-04-06 13:59.58 [info     ] DoubleDQN_online_20230406135748: epoch=95 step=95000 epoch=95 metrics={'time_inference': 0.00023906636238098144, 'time_environment_step': 5.870437622070312e-05, 'time_sample_batch': 5.188798904418945e-05, 'time_algorithm_update': 0.0011280403137207031, 'loss': 10.086790880560875, 'time_step': 0.0015081453323364258, 'rollout_return': 7.581110424338808, 'evaluation': 7.923851125588435} step=95000\n",
      "2023-04-06 13:59.59 [info     ] Model parameters are saved to d3rlpy_logs/DoubleDQN_online_20230406135748/model_96000.pt\n",
      "2023-04-06 13:59.59 [info     ] DoubleDQN_online_20230406135748: epoch=96 step=96000 epoch=96 metrics={'time_inference': 0.00023680734634399413, 'time_environment_step': 0.00012825512886047364, 'time_sample_batch': 5.0256013870239255e-05, 'time_algorithm_update': 0.001043912410736084, 'loss': 9.892350427746774, 'time_step': 0.0014884250164031983, 'rollout_return': 7.412222065729459, 'evaluation': 8.033616600670598} step=96000\n",
      "2023-04-06 14:00.01 [info     ] Model parameters are saved to d3rlpy_logs/DoubleDQN_online_20230406135748/model_97000.pt\n",
      "2023-04-06 14:00.01 [info     ] DoubleDQN_online_20230406135748: epoch=97 step=97000 epoch=97 metrics={'time_inference': 0.0002456672191619873, 'time_environment_step': 6.021308898925781e-05, 'time_sample_batch': 5.400991439819336e-05, 'time_algorithm_update': 0.0011824688911437988, 'loss': 9.901371436655522, 'time_step': 0.0015735955238342285, 'rollout_return': 7.341129288062396, 'evaluation': 7.987899572271017} step=97000\n",
      "2023-04-06 14:00.03 [info     ] Model parameters are saved to d3rlpy_logs/DoubleDQN_online_20230406135748/model_98000.pt\n",
      "2023-04-06 14:00.03 [info     ] DoubleDQN_online_20230406135748: epoch=98 step=98000 epoch=98 metrics={'time_inference': 0.00027854466438293455, 'time_environment_step': 7.91022777557373e-05, 'time_sample_batch': 5.6689977645874025e-05, 'time_algorithm_update': 0.0014250311851501465, 'loss': 9.888469600837677, 'time_step': 0.0018753557205200195, 'rollout_return': 7.347335029857785, 'evaluation': 8.116863301103148} step=98000\n",
      "2023-04-06 14:00.05 [info     ] Model parameters are saved to d3rlpy_logs/DoubleDQN_online_20230406135748/model_99000.pt\n",
      "2023-04-06 14:00.05 [info     ] DoubleDQN_online_20230406135748: epoch=99 step=99000 epoch=99 metrics={'time_inference': 0.00032292342185974123, 'time_environment_step': 8.016824722290039e-05, 'time_sample_batch': 6.623053550720215e-05, 'time_algorithm_update': 0.0014166553020477294, 'loss': 10.131219842791557, 'time_step': 0.0019263265132904053, 'rollout_return': 7.368850908392359, 'evaluation': 8.246035610659384} step=99000\n",
      "2023-04-06 14:00.06 [info     ] Model parameters are saved to d3rlpy_logs/DoubleDQN_online_20230406135748/model_100000.pt\n",
      "2023-04-06 14:00.06 [info     ] DoubleDQN_online_20230406135748: epoch=100 step=100000 epoch=100 metrics={'time_inference': 0.0002551388740539551, 'time_environment_step': 6.312084197998047e-05, 'time_sample_batch': 5.514264106750488e-05, 'time_algorithm_update': 0.001167449951171875, 'loss': 9.866794366389513, 'time_step': 0.0015733959674835206, 'rollout_return': 7.497397051204777, 'evaluation': 7.972887912239234} step=100000\n"
     ]
    },
    {
     "data": {
      "application/vnd.jupyter.widget-view+json": {
       "model_id": "bb02c48ef3f640339d672da054180d58",
       "version_major": 2,
       "version_minor": 0
      },
      "text/plain": [
       "[obtain_trajectories]:   0%|          | 0/10000 [00:00<?, ?it/s]"
      ]
     },
     "metadata": {},
     "output_type": "display_data"
    },
    {
     "data": {
      "application/vnd.jupyter.widget-view+json": {
       "model_id": "4be9b06ac09f4d63be713f376e856b3e",
       "version_major": 2,
       "version_minor": 0
      },
      "text/plain": [
       "[obtain_trajectories]:   0%|          | 0/10000 [00:00<?, ?it/s]"
      ]
     },
     "metadata": {},
     "output_type": "display_data"
    },
    {
     "name": "stdout",
     "output_type": "stream",
     "text": [
      "2023-04-06 14:01.37 [debug    ] RandomIterator is selected.\n",
      "2023-04-06 14:01.37 [info     ] Directory is created at d3rlpy_logs/DiscreteCQL_20230406140137\n",
      "2023-04-06 14:01.37 [debug    ] Building models...\n",
      "2023-04-06 14:01.37 [debug    ] Models have been built.\n",
      "2023-04-06 14:01.37 [info     ] Parameters are saved to d3rlpy_logs/DiscreteCQL_20230406140137/params.json params={'action_scaler': None, 'alpha': 1.0, 'batch_size': 32, 'encoder_factory': {'type': 'vector', 'params': {'hidden_units': [30, 30], 'activation': 'relu', 'use_batch_norm': False, 'dropout_rate': None, 'use_dense': False}}, 'gamma': 0.99, 'generated_maxlen': 100000, 'learning_rate': 6.25e-05, 'n_critics': 1, 'n_frames': 1, 'n_steps': 1, 'optim_factory': {'optim_cls': 'Adam', 'betas': (0.9, 0.999), 'eps': 1e-08, 'weight_decay': 0, 'amsgrad': False}, 'q_func_factory': {'type': 'mean', 'params': {'share_encoder': False}}, 'real_ratio': 1.0, 'reward_scaler': None, 'scaler': None, 'target_update_interval': 8000, 'use_gpu': None, 'algorithm': 'DiscreteCQL', 'observation_shape': (5,), 'action_size': 25}\n"
     ]
    },
    {
     "data": {
      "application/vnd.jupyter.widget-view+json": {
       "model_id": "38fdd5d7bae44e02a842a964f46426eb",
       "version_major": 2,
       "version_minor": 0
      },
      "text/plain": [
       "Epoch 1/1:   0%|          | 0/10000 [00:00<?, ?it/s]"
      ]
     },
     "metadata": {},
     "output_type": "display_data"
    },
    {
     "name": "stdout",
     "output_type": "stream",
     "text": [
      "2023-04-06 14:01.59 [info     ] DiscreteCQL_20230406140137: epoch=1 step=10000 epoch=1 metrics={'time_sample_batch': 0.00013402271270751952, 'time_algorithm_update': 0.0018783600330352782, 'loss': 2.3957245346426963, 'time_step': 0.0021468517541885375} step=10000\n",
      "2023-04-06 14:01.59 [info     ] Model parameters are saved to d3rlpy_logs/DiscreteCQL_20230406140137/model_10000.pt\n"
     ]
    },
    {
     "data": {
      "application/vnd.jupyter.widget-view+json": {
       "model_id": "48cb80bc1dd74677b90db64380557de0",
       "version_major": 2,
       "version_minor": 0
      },
      "text/plain": [
       "[fit FQE model]:   0%|          | 0/2 [00:00<?, ?it/s]"
      ]
     },
     "metadata": {},
     "output_type": "display_data"
    },
    {
     "name": "stdout",
     "output_type": "stream",
     "text": [
      "2023-04-06 14:01.59 [debug    ] RoundIterator is selected.\n",
      "2023-04-06 14:01.59 [info     ] Directory is created at d3rlpy_logs/DiscreteFQE_20230406140159\n",
      "2023-04-06 14:01.59 [debug    ] Fitting scaler...              scaler=min_max\n",
      "2023-04-06 14:01.59 [debug    ] Building models...\n",
      "2023-04-06 14:01.59 [debug    ] Models have been built.\n",
      "2023-04-06 14:01.59 [info     ] Parameters are saved to d3rlpy_logs/DiscreteFQE_20230406140159/params.json params={'action_scaler': None, 'batch_size': 100, 'encoder_factory': {'type': 'vector', 'params': {'hidden_units': [30, 30], 'activation': 'relu', 'use_batch_norm': False, 'dropout_rate': None, 'use_dense': False}}, 'gamma': 0.95, 'generated_maxlen': 100000, 'learning_rate': 0.0001, 'n_critics': 1, 'n_frames': 1, 'n_steps': 1, 'optim_factory': {'optim_cls': 'Adam', 'betas': (0.9, 0.999), 'eps': 1e-08, 'weight_decay': 0, 'amsgrad': False}, 'q_func_factory': {'type': 'mean', 'params': {'share_encoder': False}}, 'real_ratio': 1.0, 'reward_scaler': None, 'scaler': {'type': 'min_max', 'params': {'maximum': array([0.98860703, 0.98765528, 0.99590232, 0.98676617, 0.99798962]), 'minimum': array([-0.99465054, -0.9926474 , -0.99047179, -0.99958235, -0.98927816])}}, 'target_update_interval': 100, 'use_gpu': None, 'algorithm': 'DiscreteFQE', 'observation_shape': (5,), 'action_size': 25}\n"
     ]
    },
    {
     "data": {
      "application/vnd.jupyter.widget-view+json": {
       "model_id": "fd0abd97a4df4d67973a94bd9fe981d3",
       "version_major": 2,
       "version_minor": 0
      },
      "text/plain": [
       "Epoch 1/1:   0%|          | 0/1000 [00:00<?, ?it/s]"
      ]
     },
     "metadata": {},
     "output_type": "display_data"
    },
    {
     "name": "stdout",
     "output_type": "stream",
     "text": [
      "2023-04-06 14:02.01 [info     ] DiscreteFQE_20230406140159: epoch=1 step=1000 epoch=1 metrics={'time_sample_batch': 0.0001590113639831543, 'time_algorithm_update': 0.0017886719703674317, 'loss': 0.25202450799942017, 'time_step': 0.0020352602005004883} step=1000\n",
      "2023-04-06 14:02.02 [info     ] Model parameters are saved to d3rlpy_logs/DiscreteFQE_20230406140159/model_1000.pt\n",
      "2023-04-06 14:02.02 [debug    ] RoundIterator is selected.\n",
      "2023-04-06 14:02.02 [info     ] Directory is created at d3rlpy_logs/DiscreteFQE_20230406140202\n",
      "2023-04-06 14:02.02 [debug    ] Fitting scaler...              scaler=min_max\n",
      "2023-04-06 14:02.02 [debug    ] Building models...\n",
      "2023-04-06 14:02.02 [debug    ] Models have been built.\n",
      "2023-04-06 14:02.02 [info     ] Parameters are saved to d3rlpy_logs/DiscreteFQE_20230406140202/params.json params={'action_scaler': None, 'batch_size': 100, 'encoder_factory': {'type': 'vector', 'params': {'hidden_units': [30, 30], 'activation': 'relu', 'use_batch_norm': False, 'dropout_rate': None, 'use_dense': False}}, 'gamma': 0.95, 'generated_maxlen': 100000, 'learning_rate': 0.0001, 'n_critics': 1, 'n_frames': 1, 'n_steps': 1, 'optim_factory': {'optim_cls': 'Adam', 'betas': (0.9, 0.999), 'eps': 1e-08, 'weight_decay': 0, 'amsgrad': False}, 'q_func_factory': {'type': 'mean', 'params': {'share_encoder': False}}, 'real_ratio': 1.0, 'reward_scaler': None, 'scaler': {'type': 'min_max', 'params': {'maximum': array([0.98860703, 0.98765528, 0.99590232, 0.98676617, 0.99798962]), 'minimum': array([-0.99465054, -0.9926474 , -0.99047179, -0.99958235, -0.98927816])}}, 'target_update_interval': 100, 'use_gpu': None, 'algorithm': 'DiscreteFQE', 'observation_shape': (5,), 'action_size': 25}\n"
     ]
    },
    {
     "data": {
      "application/vnd.jupyter.widget-view+json": {
       "model_id": "a1da3f3622f343859ecd3fc8bbc25542",
       "version_major": 2,
       "version_minor": 0
      },
      "text/plain": [
       "Epoch 1/1:   0%|          | 0/1000 [00:00<?, ?it/s]"
      ]
     },
     "metadata": {},
     "output_type": "display_data"
    },
    {
     "name": "stdout",
     "output_type": "stream",
     "text": [
      "2023-04-06 14:02.04 [info     ] DiscreteFQE_20230406140202: epoch=1 step=1000 epoch=1 metrics={'time_sample_batch': 0.00014946842193603517, 'time_algorithm_update': 0.0017328703403472901, 'loss': 0.25358506534993647, 'time_step': 0.0019619054794311522} step=1000\n",
      "2023-04-06 14:02.04 [info     ] Model parameters are saved to d3rlpy_logs/DiscreteFQE_20230406140202/model_1000.pt\n"
     ]
    },
    {
     "data": {
      "application/vnd.jupyter.widget-view+json": {
       "model_id": "9e9f406619eb46b29fd6554b0e244124",
       "version_major": 2,
       "version_minor": 0
      },
      "text/plain": [
       "[fit MWL model]:   0%|          | 0/2 [00:00<?, ?it/s]"
      ]
     },
     "metadata": {},
     "output_type": "display_data"
    },
    {
     "data": {
      "application/vnd.jupyter.widget-view+json": {
       "model_id": "dc742026df554def9d6537ed08fa1b3a",
       "version_major": 2,
       "version_minor": 0
      },
      "text/plain": [
       "[fitting_weight_function]:   0%|          | 0/100 [00:00<?, ?it/s]"
      ]
     },
     "metadata": {},
     "output_type": "display_data"
    },
    {
     "data": {
      "application/vnd.jupyter.widget-view+json": {
       "model_id": "61b75b87ae9e4c91a98b521031c3e57a",
       "version_major": 2,
       "version_minor": 0
      },
      "text/plain": [
       "[fitting_weight_function]:   0%|          | 0/100 [00:00<?, ?it/s]"
      ]
     },
     "metadata": {},
     "output_type": "display_data"
    },
    {
     "data": {
      "application/vnd.jupyter.widget-view+json": {
       "model_id": "162d67452f0c430eb6ac77a265c2945d",
       "version_major": 2,
       "version_minor": 0
      },
      "text/plain": [
       "[fitting_weight_function]:   0%|          | 0/100 [00:00<?, ?it/s]"
      ]
     },
     "metadata": {},
     "output_type": "display_data"
    },
    {
     "data": {
      "application/vnd.jupyter.widget-view+json": {
       "model_id": "f2d2ed24fbe348ef9af5bcc480df3153",
       "version_major": 2,
       "version_minor": 0
      },
      "text/plain": [
       "[fitting_weight_function]:   0%|          | 0/100 [00:00<?, ?it/s]"
      ]
     },
     "metadata": {},
     "output_type": "display_data"
    },
    {
     "data": {
      "application/vnd.jupyter.widget-view+json": {
       "model_id": "d4bbe7b535114c15a1c9cefc3a05ee5a",
       "version_major": 2,
       "version_minor": 0
      },
      "text/plain": [
       "[collect input data: eval_policy]:   0%|          | 0/2 [00:00<?, ?it/s]"
      ]
     },
     "metadata": {},
     "output_type": "display_data"
    },
    {
     "data": {
      "application/vnd.jupyter.widget-view+json": {
       "model_id": "59f4f993f6af42bda0ae8fadf33965b1",
       "version_major": 2,
       "version_minor": 0
      },
      "text/plain": [
       "[calculate on-policy policy value]:   0%|          | 0/100 [00:00<?, ?it/s]"
      ]
     },
     "metadata": {},
     "output_type": "display_data"
    },
    {
     "data": {
      "application/vnd.jupyter.widget-view+json": {
       "model_id": "e41aab36e61340498f4f3b281a466d15",
       "version_major": 2,
       "version_minor": 0
      },
      "text/plain": [
       "[calculate on-policy policy value]:   0%|          | 0/100 [00:00<?, ?it/s]"
      ]
     },
     "metadata": {},
     "output_type": "display_data"
    },
    {
     "name": "stderr",
     "output_type": "stream",
     "text": [
      "/Users/ren/dev/ofrl/tutorial/../ofrl/ope/estimators_base.py:445: RuntimeWarning: invalid value encountered in divide\n",
      "  return numerator / denominator\n"
     ]
    },
    {
     "data": {
      "application/vnd.jupyter.widget-view+json": {
       "model_id": "e711954573c64a5b9603af9af50cdf96",
       "version_major": 2,
       "version_minor": 0
      },
      "text/plain": [
       "[obtain_trajectories]:   0%|          | 0/10000 [00:00<?, ?it/s]"
      ]
     },
     "metadata": {},
     "output_type": "display_data"
    },
    {
     "data": {
      "application/vnd.jupyter.widget-view+json": {
       "model_id": "2efde26e3bb54431a2a8fabcf5e14888",
       "version_major": 2,
       "version_minor": 0
      },
      "text/plain": [
       "[obtain_trajectories]:   0%|          | 0/10000 [00:00<?, ?it/s]"
      ]
     },
     "metadata": {},
     "output_type": "display_data"
    },
    {
     "name": "stdout",
     "output_type": "stream",
     "text": [
      "2023-04-06 14:04.43 [debug    ] RandomIterator is selected.\n",
      "2023-04-06 14:04.43 [info     ] Directory is created at d3rlpy_logs/DiscreteCQL_20230406140443\n",
      "2023-04-06 14:04.43 [debug    ] Building models...\n",
      "2023-04-06 14:04.43 [debug    ] Models have been built.\n",
      "2023-04-06 14:04.43 [info     ] Parameters are saved to d3rlpy_logs/DiscreteCQL_20230406140443/params.json params={'action_scaler': None, 'alpha': 1.0, 'batch_size': 32, 'encoder_factory': {'type': 'vector', 'params': {'hidden_units': [30, 30], 'activation': 'relu', 'use_batch_norm': False, 'dropout_rate': None, 'use_dense': False}}, 'gamma': 0.99, 'generated_maxlen': 100000, 'learning_rate': 6.25e-05, 'n_critics': 1, 'n_frames': 1, 'n_steps': 1, 'optim_factory': {'optim_cls': 'Adam', 'betas': (0.9, 0.999), 'eps': 1e-08, 'weight_decay': 0, 'amsgrad': False}, 'q_func_factory': {'type': 'mean', 'params': {'share_encoder': False}}, 'real_ratio': 1.0, 'reward_scaler': None, 'scaler': None, 'target_update_interval': 8000, 'use_gpu': None, 'algorithm': 'DiscreteCQL', 'observation_shape': (5,), 'action_size': 25}\n"
     ]
    },
    {
     "data": {
      "application/vnd.jupyter.widget-view+json": {
       "model_id": "b9aff51b5038461eba18dbecca6ef4dd",
       "version_major": 2,
       "version_minor": 0
      },
      "text/plain": [
       "Epoch 1/1:   0%|          | 0/10000 [00:00<?, ?it/s]"
      ]
     },
     "metadata": {},
     "output_type": "display_data"
    },
    {
     "name": "stdout",
     "output_type": "stream",
     "text": [
      "2023-04-06 14:05.04 [info     ] DiscreteCQL_20230406140443: epoch=1 step=10000 epoch=1 metrics={'time_sample_batch': 0.0001366659164428711, 'time_algorithm_update': 0.0018428284883499145, 'loss': 2.4499845420002937, 'time_step': 0.002109408950805664} step=10000\n",
      "2023-04-06 14:05.04 [info     ] Model parameters are saved to d3rlpy_logs/DiscreteCQL_20230406140443/model_10000.pt\n"
     ]
    },
    {
     "data": {
      "application/vnd.jupyter.widget-view+json": {
       "model_id": "d2d1af3e1f0049f1ab87bfd0c383ee15",
       "version_major": 2,
       "version_minor": 0
      },
      "text/plain": [
       "[fit FQE model]:   0%|          | 0/2 [00:00<?, ?it/s]"
      ]
     },
     "metadata": {},
     "output_type": "display_data"
    },
    {
     "name": "stdout",
     "output_type": "stream",
     "text": [
      "2023-04-06 14:05.05 [debug    ] RoundIterator is selected.\n",
      "2023-04-06 14:05.05 [info     ] Directory is created at d3rlpy_logs/DiscreteFQE_20230406140505\n",
      "2023-04-06 14:05.05 [debug    ] Fitting scaler...              scaler=min_max\n",
      "2023-04-06 14:05.05 [debug    ] Building models...\n",
      "2023-04-06 14:05.05 [debug    ] Models have been built.\n",
      "2023-04-06 14:05.05 [info     ] Parameters are saved to d3rlpy_logs/DiscreteFQE_20230406140505/params.json params={'action_scaler': None, 'batch_size': 100, 'encoder_factory': {'type': 'vector', 'params': {'hidden_units': [30, 30], 'activation': 'relu', 'use_batch_norm': False, 'dropout_rate': None, 'use_dense': False}}, 'gamma': 0.95, 'generated_maxlen': 100000, 'learning_rate': 0.0001, 'n_critics': 1, 'n_frames': 1, 'n_steps': 1, 'optim_factory': {'optim_cls': 'Adam', 'betas': (0.9, 0.999), 'eps': 1e-08, 'weight_decay': 0, 'amsgrad': False}, 'q_func_factory': {'type': 'mean', 'params': {'share_encoder': False}}, 'real_ratio': 1.0, 'reward_scaler': None, 'scaler': {'type': 'min_max', 'params': {'maximum': array([0.98684053, 0.99595451, 0.99244902, 0.99284159, 0.99798234]), 'minimum': array([-0.98790897, -0.98005768, -0.99424953, -0.99970095, -0.98615869])}}, 'target_update_interval': 100, 'use_gpu': None, 'algorithm': 'DiscreteFQE', 'observation_shape': (5,), 'action_size': 25}\n"
     ]
    },
    {
     "data": {
      "application/vnd.jupyter.widget-view+json": {
       "model_id": "1a99ee03739746d0902c1d91a5ce8c15",
       "version_major": 2,
       "version_minor": 0
      },
      "text/plain": [
       "Epoch 1/1:   0%|          | 0/1000 [00:00<?, ?it/s]"
      ]
     },
     "metadata": {},
     "output_type": "display_data"
    },
    {
     "name": "stdout",
     "output_type": "stream",
     "text": [
      "2023-04-06 14:05.07 [info     ] DiscreteFQE_20230406140505: epoch=1 step=1000 epoch=1 metrics={'time_sample_batch': 0.00016133689880371094, 'time_algorithm_update': 0.0018713722229003907, 'loss': 0.24223719409108163, 'time_step': 0.002159132719039917} step=1000\n",
      "2023-04-06 14:05.07 [info     ] Model parameters are saved to d3rlpy_logs/DiscreteFQE_20230406140505/model_1000.pt\n",
      "2023-04-06 14:05.07 [debug    ] RoundIterator is selected.\n",
      "2023-04-06 14:05.07 [info     ] Directory is created at d3rlpy_logs/DiscreteFQE_20230406140507\n",
      "2023-04-06 14:05.07 [debug    ] Fitting scaler...              scaler=min_max\n",
      "2023-04-06 14:05.07 [debug    ] Building models...\n",
      "2023-04-06 14:05.07 [debug    ] Models have been built.\n",
      "2023-04-06 14:05.07 [info     ] Parameters are saved to d3rlpy_logs/DiscreteFQE_20230406140507/params.json params={'action_scaler': None, 'batch_size': 100, 'encoder_factory': {'type': 'vector', 'params': {'hidden_units': [30, 30], 'activation': 'relu', 'use_batch_norm': False, 'dropout_rate': None, 'use_dense': False}}, 'gamma': 0.95, 'generated_maxlen': 100000, 'learning_rate': 0.0001, 'n_critics': 1, 'n_frames': 1, 'n_steps': 1, 'optim_factory': {'optim_cls': 'Adam', 'betas': (0.9, 0.999), 'eps': 1e-08, 'weight_decay': 0, 'amsgrad': False}, 'q_func_factory': {'type': 'mean', 'params': {'share_encoder': False}}, 'real_ratio': 1.0, 'reward_scaler': None, 'scaler': {'type': 'min_max', 'params': {'maximum': array([0.98684053, 0.99595451, 0.99244902, 0.99284159, 0.99798234]), 'minimum': array([-0.98790897, -0.98005768, -0.99424953, -0.99970095, -0.98615869])}}, 'target_update_interval': 100, 'use_gpu': None, 'algorithm': 'DiscreteFQE', 'observation_shape': (5,), 'action_size': 25}\n"
     ]
    },
    {
     "data": {
      "application/vnd.jupyter.widget-view+json": {
       "model_id": "d2a02a7851ce42e395e5a4b7368ef9c8",
       "version_major": 2,
       "version_minor": 0
      },
      "text/plain": [
       "Epoch 1/1:   0%|          | 0/1000 [00:00<?, ?it/s]"
      ]
     },
     "metadata": {},
     "output_type": "display_data"
    },
    {
     "name": "stdout",
     "output_type": "stream",
     "text": [
      "2023-04-06 14:05.10 [info     ] DiscreteFQE_20230406140507: epoch=1 step=1000 epoch=1 metrics={'time_sample_batch': 0.00016519498825073243, 'time_algorithm_update': 0.00203297758102417, 'loss': 0.25263038501143453, 'time_step': 0.002296210289001465} step=1000\n",
      "2023-04-06 14:05.10 [info     ] Model parameters are saved to d3rlpy_logs/DiscreteFQE_20230406140507/model_1000.pt\n"
     ]
    },
    {
     "data": {
      "application/vnd.jupyter.widget-view+json": {
       "model_id": "14b4ec52d19f4ab3818549f75161ef21",
       "version_major": 2,
       "version_minor": 0
      },
      "text/plain": [
       "[fit MWL model]:   0%|          | 0/2 [00:00<?, ?it/s]"
      ]
     },
     "metadata": {},
     "output_type": "display_data"
    },
    {
     "data": {
      "application/vnd.jupyter.widget-view+json": {
       "model_id": "2211b727178f4ab2a0059a8ba5ad5647",
       "version_major": 2,
       "version_minor": 0
      },
      "text/plain": [
       "[fitting_weight_function]:   0%|          | 0/100 [00:00<?, ?it/s]"
      ]
     },
     "metadata": {},
     "output_type": "display_data"
    },
    {
     "data": {
      "application/vnd.jupyter.widget-view+json": {
       "model_id": "9e1a1af7d3d34a49b9e23c608e39d597",
       "version_major": 2,
       "version_minor": 0
      },
      "text/plain": [
       "[fitting_weight_function]:   0%|          | 0/100 [00:00<?, ?it/s]"
      ]
     },
     "metadata": {},
     "output_type": "display_data"
    },
    {
     "data": {
      "application/vnd.jupyter.widget-view+json": {
       "model_id": "d75c1da386b9463fb9cdc4ab408eaa20",
       "version_major": 2,
       "version_minor": 0
      },
      "text/plain": [
       "[fitting_weight_function]:   0%|          | 0/100 [00:00<?, ?it/s]"
      ]
     },
     "metadata": {},
     "output_type": "display_data"
    },
    {
     "data": {
      "application/vnd.jupyter.widget-view+json": {
       "model_id": "07e0ac9135524941978410a9018a5bf2",
       "version_major": 2,
       "version_minor": 0
      },
      "text/plain": [
       "[fitting_weight_function]:   0%|          | 0/100 [00:00<?, ?it/s]"
      ]
     },
     "metadata": {},
     "output_type": "display_data"
    },
    {
     "data": {
      "application/vnd.jupyter.widget-view+json": {
       "model_id": "21e4a667dece408ba14667e02c192005",
       "version_major": 2,
       "version_minor": 0
      },
      "text/plain": [
       "[collect input data: eval_policy]:   0%|          | 0/2 [00:00<?, ?it/s]"
      ]
     },
     "metadata": {},
     "output_type": "display_data"
    },
    {
     "data": {
      "application/vnd.jupyter.widget-view+json": {
       "model_id": "b108d3eb5f654622bd989974a656fd99",
       "version_major": 2,
       "version_minor": 0
      },
      "text/plain": [
       "[calculate on-policy policy value]:   0%|          | 0/100 [00:00<?, ?it/s]"
      ]
     },
     "metadata": {},
     "output_type": "display_data"
    },
    {
     "data": {
      "application/vnd.jupyter.widget-view+json": {
       "model_id": "35b167be4b584c47b949792d4a335803",
       "version_major": 2,
       "version_minor": 0
      },
      "text/plain": [
       "[calculate on-policy policy value]:   0%|          | 0/100 [00:00<?, ?it/s]"
      ]
     },
     "metadata": {},
     "output_type": "display_data"
    },
    {
     "name": "stderr",
     "output_type": "stream",
     "text": [
      "/Users/ren/dev/ofrl/tutorial/../ofrl/ope/estimators_base.py:445: RuntimeWarning: invalid value encountered in divide\n",
      "  return numerator / denominator\n"
     ]
    },
    {
     "data": {
      "application/vnd.jupyter.widget-view+json": {
       "model_id": "74faca995e5a4c7885ec8e155b7d6f8f",
       "version_major": 2,
       "version_minor": 0
      },
      "text/plain": [
       "[obtain_trajectories]:   0%|          | 0/10000 [00:00<?, ?it/s]"
      ]
     },
     "metadata": {},
     "output_type": "display_data"
    },
    {
     "data": {
      "application/vnd.jupyter.widget-view+json": {
       "model_id": "b7e4ab07b3d84afc9177efbcbb242ddd",
       "version_major": 2,
       "version_minor": 0
      },
      "text/plain": [
       "[obtain_trajectories]:   0%|          | 0/10000 [00:00<?, ?it/s]"
      ]
     },
     "metadata": {},
     "output_type": "display_data"
    },
    {
     "name": "stdout",
     "output_type": "stream",
     "text": [
      "2023-04-06 14:07.46 [debug    ] RandomIterator is selected.\n",
      "2023-04-06 14:07.46 [info     ] Directory is created at d3rlpy_logs/DiscreteCQL_20230406140746\n",
      "2023-04-06 14:07.46 [debug    ] Building models...\n",
      "2023-04-06 14:07.46 [debug    ] Models have been built.\n",
      "2023-04-06 14:07.46 [info     ] Parameters are saved to d3rlpy_logs/DiscreteCQL_20230406140746/params.json params={'action_scaler': None, 'alpha': 1.0, 'batch_size': 32, 'encoder_factory': {'type': 'vector', 'params': {'hidden_units': [30, 30], 'activation': 'relu', 'use_batch_norm': False, 'dropout_rate': None, 'use_dense': False}}, 'gamma': 0.99, 'generated_maxlen': 100000, 'learning_rate': 6.25e-05, 'n_critics': 1, 'n_frames': 1, 'n_steps': 1, 'optim_factory': {'optim_cls': 'Adam', 'betas': (0.9, 0.999), 'eps': 1e-08, 'weight_decay': 0, 'amsgrad': False}, 'q_func_factory': {'type': 'mean', 'params': {'share_encoder': False}}, 'real_ratio': 1.0, 'reward_scaler': None, 'scaler': None, 'target_update_interval': 8000, 'use_gpu': None, 'algorithm': 'DiscreteCQL', 'observation_shape': (5,), 'action_size': 25}\n"
     ]
    },
    {
     "data": {
      "application/vnd.jupyter.widget-view+json": {
       "model_id": "9ef3712d602a4ac4a65f04de5e386904",
       "version_major": 2,
       "version_minor": 0
      },
      "text/plain": [
       "Epoch 1/1:   0%|          | 0/10000 [00:00<?, ?it/s]"
      ]
     },
     "metadata": {},
     "output_type": "display_data"
    },
    {
     "name": "stdout",
     "output_type": "stream",
     "text": [
      "2023-04-06 14:08.08 [info     ] DiscreteCQL_20230406140746: epoch=1 step=10000 epoch=1 metrics={'time_sample_batch': 0.00013365125656127929, 'time_algorithm_update': 0.0018749404430389405, 'loss': 2.408158268713951, 'time_step': 0.002131284475326538} step=10000\n",
      "2023-04-06 14:08.08 [info     ] Model parameters are saved to d3rlpy_logs/DiscreteCQL_20230406140746/model_10000.pt\n"
     ]
    },
    {
     "data": {
      "application/vnd.jupyter.widget-view+json": {
       "model_id": "5236d9a71c0c405686ea7573f196e516",
       "version_major": 2,
       "version_minor": 0
      },
      "text/plain": [
       "[fit FQE model]:   0%|          | 0/2 [00:00<?, ?it/s]"
      ]
     },
     "metadata": {},
     "output_type": "display_data"
    },
    {
     "name": "stdout",
     "output_type": "stream",
     "text": [
      "2023-04-06 14:08.08 [debug    ] RoundIterator is selected.\n",
      "2023-04-06 14:08.08 [info     ] Directory is created at d3rlpy_logs/DiscreteFQE_20230406140808\n",
      "2023-04-06 14:08.08 [debug    ] Fitting scaler...              scaler=min_max\n",
      "2023-04-06 14:08.08 [debug    ] Building models...\n",
      "2023-04-06 14:08.08 [debug    ] Models have been built.\n",
      "2023-04-06 14:08.08 [info     ] Parameters are saved to d3rlpy_logs/DiscreteFQE_20230406140808/params.json params={'action_scaler': None, 'batch_size': 100, 'encoder_factory': {'type': 'vector', 'params': {'hidden_units': [30, 30], 'activation': 'relu', 'use_batch_norm': False, 'dropout_rate': None, 'use_dense': False}}, 'gamma': 0.95, 'generated_maxlen': 100000, 'learning_rate': 0.0001, 'n_critics': 1, 'n_frames': 1, 'n_steps': 1, 'optim_factory': {'optim_cls': 'Adam', 'betas': (0.9, 0.999), 'eps': 1e-08, 'weight_decay': 0, 'amsgrad': False}, 'q_func_factory': {'type': 'mean', 'params': {'share_encoder': False}}, 'real_ratio': 1.0, 'reward_scaler': None, 'scaler': {'type': 'min_max', 'params': {'maximum': array([0.98888034, 0.98752646, 0.9930543 , 0.99669379, 0.99820641]), 'minimum': array([-0.98765138, -0.99484266, -0.99524239, -0.9995674 , -0.98976904])}}, 'target_update_interval': 100, 'use_gpu': None, 'algorithm': 'DiscreteFQE', 'observation_shape': (5,), 'action_size': 25}\n"
     ]
    },
    {
     "data": {
      "application/vnd.jupyter.widget-view+json": {
       "model_id": "6e718c04debb42ef9081a0f42b32e482",
       "version_major": 2,
       "version_minor": 0
      },
      "text/plain": [
       "Epoch 1/1:   0%|          | 0/1000 [00:00<?, ?it/s]"
      ]
     },
     "metadata": {},
     "output_type": "display_data"
    },
    {
     "name": "stdout",
     "output_type": "stream",
     "text": [
      "2023-04-06 14:08.11 [info     ] DiscreteFQE_20230406140808: epoch=1 step=1000 epoch=1 metrics={'time_sample_batch': 0.00019652414321899415, 'time_algorithm_update': 0.0019188838005065917, 'loss': 0.2602540938332677, 'time_step': 0.002218728303909302} step=1000\n",
      "2023-04-06 14:08.11 [info     ] Model parameters are saved to d3rlpy_logs/DiscreteFQE_20230406140808/model_1000.pt\n",
      "2023-04-06 14:08.11 [debug    ] RoundIterator is selected.\n",
      "2023-04-06 14:08.11 [info     ] Directory is created at d3rlpy_logs/DiscreteFQE_20230406140811\n",
      "2023-04-06 14:08.11 [debug    ] Fitting scaler...              scaler=min_max\n",
      "2023-04-06 14:08.11 [debug    ] Building models...\n",
      "2023-04-06 14:08.11 [debug    ] Models have been built.\n",
      "2023-04-06 14:08.11 [info     ] Parameters are saved to d3rlpy_logs/DiscreteFQE_20230406140811/params.json params={'action_scaler': None, 'batch_size': 100, 'encoder_factory': {'type': 'vector', 'params': {'hidden_units': [30, 30], 'activation': 'relu', 'use_batch_norm': False, 'dropout_rate': None, 'use_dense': False}}, 'gamma': 0.95, 'generated_maxlen': 100000, 'learning_rate': 0.0001, 'n_critics': 1, 'n_frames': 1, 'n_steps': 1, 'optim_factory': {'optim_cls': 'Adam', 'betas': (0.9, 0.999), 'eps': 1e-08, 'weight_decay': 0, 'amsgrad': False}, 'q_func_factory': {'type': 'mean', 'params': {'share_encoder': False}}, 'real_ratio': 1.0, 'reward_scaler': None, 'scaler': {'type': 'min_max', 'params': {'maximum': array([0.98888034, 0.98752646, 0.9930543 , 0.99669379, 0.99820641]), 'minimum': array([-0.98765138, -0.99484266, -0.99524239, -0.9995674 , -0.98976904])}}, 'target_update_interval': 100, 'use_gpu': None, 'algorithm': 'DiscreteFQE', 'observation_shape': (5,), 'action_size': 25}\n"
     ]
    },
    {
     "data": {
      "application/vnd.jupyter.widget-view+json": {
       "model_id": "11633e498bd143b2a0ee62b5160de03c",
       "version_major": 2,
       "version_minor": 0
      },
      "text/plain": [
       "Epoch 1/1:   0%|          | 0/1000 [00:00<?, ?it/s]"
      ]
     },
     "metadata": {},
     "output_type": "display_data"
    },
    {
     "name": "stdout",
     "output_type": "stream",
     "text": [
      "2023-04-06 14:08.13 [info     ] DiscreteFQE_20230406140811: epoch=1 step=1000 epoch=1 metrics={'time_sample_batch': 0.00019651460647583007, 'time_algorithm_update': 0.0024024794101715086, 'loss': 0.2719370839074254, 'time_step': 0.002731837034225464} step=1000\n",
      "2023-04-06 14:08.13 [info     ] Model parameters are saved to d3rlpy_logs/DiscreteFQE_20230406140811/model_1000.pt\n"
     ]
    },
    {
     "data": {
      "application/vnd.jupyter.widget-view+json": {
       "model_id": "4d789a55e9344d6f88f45ff023ef104e",
       "version_major": 2,
       "version_minor": 0
      },
      "text/plain": [
       "[fit MWL model]:   0%|          | 0/2 [00:00<?, ?it/s]"
      ]
     },
     "metadata": {},
     "output_type": "display_data"
    },
    {
     "data": {
      "application/vnd.jupyter.widget-view+json": {
       "model_id": "bb82a6f80f8e4f08861fb456bac0eee2",
       "version_major": 2,
       "version_minor": 0
      },
      "text/plain": [
       "[fitting_weight_function]:   0%|          | 0/100 [00:00<?, ?it/s]"
      ]
     },
     "metadata": {},
     "output_type": "display_data"
    },
    {
     "data": {
      "application/vnd.jupyter.widget-view+json": {
       "model_id": "d78111feb315402fabd3026edd474b12",
       "version_major": 2,
       "version_minor": 0
      },
      "text/plain": [
       "[fitting_weight_function]:   0%|          | 0/100 [00:00<?, ?it/s]"
      ]
     },
     "metadata": {},
     "output_type": "display_data"
    },
    {
     "data": {
      "application/vnd.jupyter.widget-view+json": {
       "model_id": "869cbb0a909f40b6a6ab9552633961e8",
       "version_major": 2,
       "version_minor": 0
      },
      "text/plain": [
       "[fitting_weight_function]:   0%|          | 0/100 [00:00<?, ?it/s]"
      ]
     },
     "metadata": {},
     "output_type": "display_data"
    },
    {
     "data": {
      "application/vnd.jupyter.widget-view+json": {
       "model_id": "52a80cdb7feb475c8872af1878e6f798",
       "version_major": 2,
       "version_minor": 0
      },
      "text/plain": [
       "[fitting_weight_function]:   0%|          | 0/100 [00:00<?, ?it/s]"
      ]
     },
     "metadata": {},
     "output_type": "display_data"
    },
    {
     "data": {
      "application/vnd.jupyter.widget-view+json": {
       "model_id": "eb2e5e658b004827977361955b06cfea",
       "version_major": 2,
       "version_minor": 0
      },
      "text/plain": [
       "[collect input data: eval_policy]:   0%|          | 0/2 [00:00<?, ?it/s]"
      ]
     },
     "metadata": {},
     "output_type": "display_data"
    },
    {
     "data": {
      "application/vnd.jupyter.widget-view+json": {
       "model_id": "66dfd2638e1a42f1b255569c5c53cc5a",
       "version_major": 2,
       "version_minor": 0
      },
      "text/plain": [
       "[calculate on-policy policy value]:   0%|          | 0/100 [00:00<?, ?it/s]"
      ]
     },
     "metadata": {},
     "output_type": "display_data"
    },
    {
     "data": {
      "application/vnd.jupyter.widget-view+json": {
       "model_id": "8e1cda5c0eb3430f80b74cdb7b573d2a",
       "version_major": 2,
       "version_minor": 0
      },
      "text/plain": [
       "[calculate on-policy policy value]:   0%|          | 0/100 [00:00<?, ?it/s]"
      ]
     },
     "metadata": {},
     "output_type": "display_data"
    },
    {
     "name": "stderr",
     "output_type": "stream",
     "text": [
      "/Users/ren/dev/ofrl/tutorial/../ofrl/ope/estimators_base.py:445: RuntimeWarning: invalid value encountered in divide\n",
      "  return numerator / denominator\n"
     ]
    },
    {
     "data": {
      "application/vnd.jupyter.widget-view+json": {
       "model_id": "ef372f0287d242228c3149f24f8eb513",
       "version_major": 2,
       "version_minor": 0
      },
      "text/plain": [
       "[obtain_trajectories]:   0%|          | 0/10000 [00:00<?, ?it/s]"
      ]
     },
     "metadata": {},
     "output_type": "display_data"
    },
    {
     "data": {
      "application/vnd.jupyter.widget-view+json": {
       "model_id": "b836660a57a345ca87151de1b244636b",
       "version_major": 2,
       "version_minor": 0
      },
      "text/plain": [
       "[obtain_trajectories]:   0%|          | 0/10000 [00:00<?, ?it/s]"
      ]
     },
     "metadata": {},
     "output_type": "display_data"
    },
    {
     "name": "stdout",
     "output_type": "stream",
     "text": [
      "2023-04-06 14:10.40 [debug    ] RandomIterator is selected.\n",
      "2023-04-06 14:10.40 [info     ] Directory is created at d3rlpy_logs/DiscreteCQL_20230406141040\n",
      "2023-04-06 14:10.40 [debug    ] Building models...\n",
      "2023-04-06 14:10.40 [debug    ] Models have been built.\n",
      "2023-04-06 14:10.40 [info     ] Parameters are saved to d3rlpy_logs/DiscreteCQL_20230406141040/params.json params={'action_scaler': None, 'alpha': 1.0, 'batch_size': 32, 'encoder_factory': {'type': 'vector', 'params': {'hidden_units': [30, 30], 'activation': 'relu', 'use_batch_norm': False, 'dropout_rate': None, 'use_dense': False}}, 'gamma': 0.99, 'generated_maxlen': 100000, 'learning_rate': 6.25e-05, 'n_critics': 1, 'n_frames': 1, 'n_steps': 1, 'optim_factory': {'optim_cls': 'Adam', 'betas': (0.9, 0.999), 'eps': 1e-08, 'weight_decay': 0, 'amsgrad': False}, 'q_func_factory': {'type': 'mean', 'params': {'share_encoder': False}}, 'real_ratio': 1.0, 'reward_scaler': None, 'scaler': None, 'target_update_interval': 8000, 'use_gpu': None, 'algorithm': 'DiscreteCQL', 'observation_shape': (5,), 'action_size': 25}\n"
     ]
    },
    {
     "data": {
      "application/vnd.jupyter.widget-view+json": {
       "model_id": "590c73b4a5224ab4b697859524a9217a",
       "version_major": 2,
       "version_minor": 0
      },
      "text/plain": [
       "Epoch 1/1:   0%|          | 0/10000 [00:00<?, ?it/s]"
      ]
     },
     "metadata": {},
     "output_type": "display_data"
    },
    {
     "name": "stdout",
     "output_type": "stream",
     "text": [
      "2023-04-06 14:10.58 [info     ] DiscreteCQL_20230406141040: epoch=1 step=10000 epoch=1 metrics={'time_sample_batch': 0.00012093040943145752, 'time_algorithm_update': 0.0015704566240310669, 'loss': 2.4041146921396255, 'time_step': 0.001802607536315918} step=10000\n",
      "2023-04-06 14:10.58 [info     ] Model parameters are saved to d3rlpy_logs/DiscreteCQL_20230406141040/model_10000.pt\n"
     ]
    },
    {
     "data": {
      "application/vnd.jupyter.widget-view+json": {
       "model_id": "a4d33c711ac4458daeff4fa38a5203fc",
       "version_major": 2,
       "version_minor": 0
      },
      "text/plain": [
       "[fit FQE model]:   0%|          | 0/2 [00:00<?, ?it/s]"
      ]
     },
     "metadata": {},
     "output_type": "display_data"
    },
    {
     "name": "stdout",
     "output_type": "stream",
     "text": [
      "2023-04-06 14:10.58 [debug    ] RoundIterator is selected.\n",
      "2023-04-06 14:10.58 [info     ] Directory is created at d3rlpy_logs/DiscreteFQE_20230406141058\n",
      "2023-04-06 14:10.58 [debug    ] Fitting scaler...              scaler=min_max\n",
      "2023-04-06 14:10.58 [debug    ] Building models...\n",
      "2023-04-06 14:10.58 [debug    ] Models have been built.\n",
      "2023-04-06 14:10.58 [info     ] Parameters are saved to d3rlpy_logs/DiscreteFQE_20230406141058/params.json params={'action_scaler': None, 'batch_size': 100, 'encoder_factory': {'type': 'vector', 'params': {'hidden_units': [30, 30], 'activation': 'relu', 'use_batch_norm': False, 'dropout_rate': None, 'use_dense': False}}, 'gamma': 0.95, 'generated_maxlen': 100000, 'learning_rate': 0.0001, 'n_critics': 1, 'n_frames': 1, 'n_steps': 1, 'optim_factory': {'optim_cls': 'Adam', 'betas': (0.9, 0.999), 'eps': 1e-08, 'weight_decay': 0, 'amsgrad': False}, 'q_func_factory': {'type': 'mean', 'params': {'share_encoder': False}}, 'real_ratio': 1.0, 'reward_scaler': None, 'scaler': {'type': 'min_max', 'params': {'maximum': array([0.99702758, 0.98432847, 0.99762128, 0.99535051, 0.9980986 ]), 'minimum': array([-0.97581596, -0.99062838, -0.9951868 , -0.99968829, -0.99087946])}}, 'target_update_interval': 100, 'use_gpu': None, 'algorithm': 'DiscreteFQE', 'observation_shape': (5,), 'action_size': 25}\n"
     ]
    },
    {
     "data": {
      "application/vnd.jupyter.widget-view+json": {
       "model_id": "62ba9e87141c47a38121bb1dc6b94d8e",
       "version_major": 2,
       "version_minor": 0
      },
      "text/plain": [
       "Epoch 1/1:   0%|          | 0/1000 [00:00<?, ?it/s]"
      ]
     },
     "metadata": {},
     "output_type": "display_data"
    },
    {
     "name": "stdout",
     "output_type": "stream",
     "text": [
      "2023-04-06 14:11.00 [info     ] DiscreteFQE_20230406141058: epoch=1 step=1000 epoch=1 metrics={'time_sample_batch': 0.0001431727409362793, 'time_algorithm_update': 0.001641406774520874, 'loss': 0.29020156095176936, 'time_step': 0.0018651065826416015} step=1000\n",
      "2023-04-06 14:11.00 [info     ] Model parameters are saved to d3rlpy_logs/DiscreteFQE_20230406141058/model_1000.pt\n",
      "2023-04-06 14:11.00 [debug    ] RoundIterator is selected.\n",
      "2023-04-06 14:11.00 [info     ] Directory is created at d3rlpy_logs/DiscreteFQE_20230406141100\n",
      "2023-04-06 14:11.00 [debug    ] Fitting scaler...              scaler=min_max\n",
      "2023-04-06 14:11.00 [debug    ] Building models...\n",
      "2023-04-06 14:11.00 [debug    ] Models have been built.\n",
      "2023-04-06 14:11.00 [info     ] Parameters are saved to d3rlpy_logs/DiscreteFQE_20230406141100/params.json params={'action_scaler': None, 'batch_size': 100, 'encoder_factory': {'type': 'vector', 'params': {'hidden_units': [30, 30], 'activation': 'relu', 'use_batch_norm': False, 'dropout_rate': None, 'use_dense': False}}, 'gamma': 0.95, 'generated_maxlen': 100000, 'learning_rate': 0.0001, 'n_critics': 1, 'n_frames': 1, 'n_steps': 1, 'optim_factory': {'optim_cls': 'Adam', 'betas': (0.9, 0.999), 'eps': 1e-08, 'weight_decay': 0, 'amsgrad': False}, 'q_func_factory': {'type': 'mean', 'params': {'share_encoder': False}}, 'real_ratio': 1.0, 'reward_scaler': None, 'scaler': {'type': 'min_max', 'params': {'maximum': array([0.99702758, 0.98432847, 0.99762128, 0.99535051, 0.9980986 ]), 'minimum': array([-0.97581596, -0.99062838, -0.9951868 , -0.99968829, -0.99087946])}}, 'target_update_interval': 100, 'use_gpu': None, 'algorithm': 'DiscreteFQE', 'observation_shape': (5,), 'action_size': 25}\n"
     ]
    },
    {
     "data": {
      "application/vnd.jupyter.widget-view+json": {
       "model_id": "9401c8c22770466abb49cf4118447d09",
       "version_major": 2,
       "version_minor": 0
      },
      "text/plain": [
       "Epoch 1/1:   0%|          | 0/1000 [00:00<?, ?it/s]"
      ]
     },
     "metadata": {},
     "output_type": "display_data"
    },
    {
     "name": "stdout",
     "output_type": "stream",
     "text": [
      "2023-04-06 14:11.02 [info     ] DiscreteFQE_20230406141100: epoch=1 step=1000 epoch=1 metrics={'time_sample_batch': 0.00016157126426696777, 'time_algorithm_update': 0.0016836683750152588, 'loss': 0.2874009544402361, 'time_step': 0.0019271984100341798} step=1000\n",
      "2023-04-06 14:11.02 [info     ] Model parameters are saved to d3rlpy_logs/DiscreteFQE_20230406141100/model_1000.pt\n"
     ]
    },
    {
     "data": {
      "application/vnd.jupyter.widget-view+json": {
       "model_id": "ca2484c66f1d4c40b7e95511cedfa856",
       "version_major": 2,
       "version_minor": 0
      },
      "text/plain": [
       "[fit MWL model]:   0%|          | 0/2 [00:00<?, ?it/s]"
      ]
     },
     "metadata": {},
     "output_type": "display_data"
    },
    {
     "data": {
      "application/vnd.jupyter.widget-view+json": {
       "model_id": "12fa042b7ed84c2fa9e8d7bf937adbad",
       "version_major": 2,
       "version_minor": 0
      },
      "text/plain": [
       "[fitting_weight_function]:   0%|          | 0/100 [00:00<?, ?it/s]"
      ]
     },
     "metadata": {},
     "output_type": "display_data"
    },
    {
     "data": {
      "application/vnd.jupyter.widget-view+json": {
       "model_id": "278cf77e2eeb4b13aed63b1200f5716f",
       "version_major": 2,
       "version_minor": 0
      },
      "text/plain": [
       "[fitting_weight_function]:   0%|          | 0/100 [00:00<?, ?it/s]"
      ]
     },
     "metadata": {},
     "output_type": "display_data"
    },
    {
     "data": {
      "application/vnd.jupyter.widget-view+json": {
       "model_id": "115595d15d224f878313f3af4bc34693",
       "version_major": 2,
       "version_minor": 0
      },
      "text/plain": [
       "[fitting_weight_function]:   0%|          | 0/100 [00:00<?, ?it/s]"
      ]
     },
     "metadata": {},
     "output_type": "display_data"
    },
    {
     "data": {
      "application/vnd.jupyter.widget-view+json": {
       "model_id": "cdd337e3aa544af9b6dca0e3ac151ea1",
       "version_major": 2,
       "version_minor": 0
      },
      "text/plain": [
       "[fitting_weight_function]:   0%|          | 0/100 [00:00<?, ?it/s]"
      ]
     },
     "metadata": {},
     "output_type": "display_data"
    },
    {
     "data": {
      "application/vnd.jupyter.widget-view+json": {
       "model_id": "30f39dfa073c45d293eed876ae9b95f2",
       "version_major": 2,
       "version_minor": 0
      },
      "text/plain": [
       "[collect input data: eval_policy]:   0%|          | 0/2 [00:00<?, ?it/s]"
      ]
     },
     "metadata": {},
     "output_type": "display_data"
    },
    {
     "data": {
      "application/vnd.jupyter.widget-view+json": {
       "model_id": "2ca78840b85b473589d0dd10be1a860e",
       "version_major": 2,
       "version_minor": 0
      },
      "text/plain": [
       "[calculate on-policy policy value]:   0%|          | 0/100 [00:00<?, ?it/s]"
      ]
     },
     "metadata": {},
     "output_type": "display_data"
    },
    {
     "data": {
      "application/vnd.jupyter.widget-view+json": {
       "model_id": "f0d7e1e1516c40b9b895f9150e63355c",
       "version_major": 2,
       "version_minor": 0
      },
      "text/plain": [
       "[calculate on-policy policy value]:   0%|          | 0/100 [00:00<?, ?it/s]"
      ]
     },
     "metadata": {},
     "output_type": "display_data"
    },
    {
     "name": "stderr",
     "output_type": "stream",
     "text": [
      "/Users/ren/dev/ofrl/tutorial/../ofrl/ope/estimators_base.py:445: RuntimeWarning: invalid value encountered in divide\n",
      "  return numerator / denominator\n"
     ]
    },
    {
     "data": {
      "application/vnd.jupyter.widget-view+json": {
       "model_id": "a8a78cfce15842c7a063ea3589b2a42b",
       "version_major": 2,
       "version_minor": 0
      },
      "text/plain": [
       "[obtain_trajectories]:   0%|          | 0/10000 [00:00<?, ?it/s]"
      ]
     },
     "metadata": {},
     "output_type": "display_data"
    },
    {
     "data": {
      "application/vnd.jupyter.widget-view+json": {
       "model_id": "c760d96be44948668e81f3aef8c0e287",
       "version_major": 2,
       "version_minor": 0
      },
      "text/plain": [
       "[obtain_trajectories]:   0%|          | 0/10000 [00:00<?, ?it/s]"
      ]
     },
     "metadata": {},
     "output_type": "display_data"
    },
    {
     "name": "stdout",
     "output_type": "stream",
     "text": [
      "2023-04-06 14:13.28 [debug    ] RandomIterator is selected.\n",
      "2023-04-06 14:13.28 [info     ] Directory is created at d3rlpy_logs/DiscreteCQL_20230406141328\n",
      "2023-04-06 14:13.28 [debug    ] Building models...\n",
      "2023-04-06 14:13.28 [debug    ] Models have been built.\n",
      "2023-04-06 14:13.28 [info     ] Parameters are saved to d3rlpy_logs/DiscreteCQL_20230406141328/params.json params={'action_scaler': None, 'alpha': 1.0, 'batch_size': 32, 'encoder_factory': {'type': 'vector', 'params': {'hidden_units': [30, 30], 'activation': 'relu', 'use_batch_norm': False, 'dropout_rate': None, 'use_dense': False}}, 'gamma': 0.99, 'generated_maxlen': 100000, 'learning_rate': 6.25e-05, 'n_critics': 1, 'n_frames': 1, 'n_steps': 1, 'optim_factory': {'optim_cls': 'Adam', 'betas': (0.9, 0.999), 'eps': 1e-08, 'weight_decay': 0, 'amsgrad': False}, 'q_func_factory': {'type': 'mean', 'params': {'share_encoder': False}}, 'real_ratio': 1.0, 'reward_scaler': None, 'scaler': None, 'target_update_interval': 8000, 'use_gpu': None, 'algorithm': 'DiscreteCQL', 'observation_shape': (5,), 'action_size': 25}\n"
     ]
    },
    {
     "data": {
      "application/vnd.jupyter.widget-view+json": {
       "model_id": "3627cedbb27c4de2856001971f0df3be",
       "version_major": 2,
       "version_minor": 0
      },
      "text/plain": [
       "Epoch 1/1:   0%|          | 0/10000 [00:00<?, ?it/s]"
      ]
     },
     "metadata": {},
     "output_type": "display_data"
    },
    {
     "name": "stdout",
     "output_type": "stream",
     "text": [
      "2023-04-06 14:13.49 [info     ] DiscreteCQL_20230406141328: epoch=1 step=10000 epoch=1 metrics={'time_sample_batch': 0.00012697055339813232, 'time_algorithm_update': 0.0018052770137786866, 'loss': 2.442672023773193, 'time_step': 0.0020617764711380005} step=10000\n",
      "2023-04-06 14:13.49 [info     ] Model parameters are saved to d3rlpy_logs/DiscreteCQL_20230406141328/model_10000.pt\n"
     ]
    },
    {
     "data": {
      "application/vnd.jupyter.widget-view+json": {
       "model_id": "bb40eeff56ac45c6a5273384365f2096",
       "version_major": 2,
       "version_minor": 0
      },
      "text/plain": [
       "[fit FQE model]:   0%|          | 0/2 [00:00<?, ?it/s]"
      ]
     },
     "metadata": {},
     "output_type": "display_data"
    },
    {
     "name": "stdout",
     "output_type": "stream",
     "text": [
      "2023-04-06 14:13.49 [debug    ] RoundIterator is selected.\n",
      "2023-04-06 14:13.49 [info     ] Directory is created at d3rlpy_logs/DiscreteFQE_20230406141349\n",
      "2023-04-06 14:13.49 [debug    ] Fitting scaler...              scaler=min_max\n",
      "2023-04-06 14:13.49 [debug    ] Building models...\n",
      "2023-04-06 14:13.49 [debug    ] Models have been built.\n",
      "2023-04-06 14:13.49 [info     ] Parameters are saved to d3rlpy_logs/DiscreteFQE_20230406141349/params.json params={'action_scaler': None, 'batch_size': 100, 'encoder_factory': {'type': 'vector', 'params': {'hidden_units': [30, 30], 'activation': 'relu', 'use_batch_norm': False, 'dropout_rate': None, 'use_dense': False}}, 'gamma': 0.95, 'generated_maxlen': 100000, 'learning_rate': 0.0001, 'n_critics': 1, 'n_frames': 1, 'n_steps': 1, 'optim_factory': {'optim_cls': 'Adam', 'betas': (0.9, 0.999), 'eps': 1e-08, 'weight_decay': 0, 'amsgrad': False}, 'q_func_factory': {'type': 'mean', 'params': {'share_encoder': False}}, 'real_ratio': 1.0, 'reward_scaler': None, 'scaler': {'type': 'min_max', 'params': {'maximum': array([0.98929948, 0.98553786, 0.99637955, 0.99409447, 0.99882112]), 'minimum': array([-0.99855965, -0.99596153, -0.99175496, -0.99961219, -0.98448468])}}, 'target_update_interval': 100, 'use_gpu': None, 'algorithm': 'DiscreteFQE', 'observation_shape': (5,), 'action_size': 25}\n"
     ]
    },
    {
     "data": {
      "application/vnd.jupyter.widget-view+json": {
       "model_id": "1ae84a0f6b374d14949659ea8910221a",
       "version_major": 2,
       "version_minor": 0
      },
      "text/plain": [
       "Epoch 1/1:   0%|          | 0/1000 [00:00<?, ?it/s]"
      ]
     },
     "metadata": {},
     "output_type": "display_data"
    },
    {
     "name": "stdout",
     "output_type": "stream",
     "text": [
      "2023-04-06 14:13.51 [info     ] DiscreteFQE_20230406141349: epoch=1 step=1000 epoch=1 metrics={'time_sample_batch': 0.00014362478256225585, 'time_algorithm_update': 0.0016363339424133301, 'loss': 0.2907918034493923, 'time_step': 0.0018455634117126465} step=1000\n",
      "2023-04-06 14:13.51 [info     ] Model parameters are saved to d3rlpy_logs/DiscreteFQE_20230406141349/model_1000.pt\n",
      "2023-04-06 14:13.51 [debug    ] RoundIterator is selected.\n",
      "2023-04-06 14:13.51 [info     ] Directory is created at d3rlpy_logs/DiscreteFQE_20230406141351\n",
      "2023-04-06 14:13.51 [debug    ] Fitting scaler...              scaler=min_max\n",
      "2023-04-06 14:13.51 [debug    ] Building models...\n",
      "2023-04-06 14:13.51 [debug    ] Models have been built.\n",
      "2023-04-06 14:13.51 [info     ] Parameters are saved to d3rlpy_logs/DiscreteFQE_20230406141351/params.json params={'action_scaler': None, 'batch_size': 100, 'encoder_factory': {'type': 'vector', 'params': {'hidden_units': [30, 30], 'activation': 'relu', 'use_batch_norm': False, 'dropout_rate': None, 'use_dense': False}}, 'gamma': 0.95, 'generated_maxlen': 100000, 'learning_rate': 0.0001, 'n_critics': 1, 'n_frames': 1, 'n_steps': 1, 'optim_factory': {'optim_cls': 'Adam', 'betas': (0.9, 0.999), 'eps': 1e-08, 'weight_decay': 0, 'amsgrad': False}, 'q_func_factory': {'type': 'mean', 'params': {'share_encoder': False}}, 'real_ratio': 1.0, 'reward_scaler': None, 'scaler': {'type': 'min_max', 'params': {'maximum': array([0.98929948, 0.98553786, 0.99637955, 0.99409447, 0.99882112]), 'minimum': array([-0.99855965, -0.99596153, -0.99175496, -0.99961219, -0.98448468])}}, 'target_update_interval': 100, 'use_gpu': None, 'algorithm': 'DiscreteFQE', 'observation_shape': (5,), 'action_size': 25}\n"
     ]
    },
    {
     "data": {
      "application/vnd.jupyter.widget-view+json": {
       "model_id": "5bf2747072154fbfaba0b46750b01039",
       "version_major": 2,
       "version_minor": 0
      },
      "text/plain": [
       "Epoch 1/1:   0%|          | 0/1000 [00:00<?, ?it/s]"
      ]
     },
     "metadata": {},
     "output_type": "display_data"
    },
    {
     "name": "stdout",
     "output_type": "stream",
     "text": [
      "2023-04-06 14:13.53 [info     ] DiscreteFQE_20230406141351: epoch=1 step=1000 epoch=1 metrics={'time_sample_batch': 0.00014907574653625488, 'time_algorithm_update': 0.001814157247543335, 'loss': 0.2999280278682709, 'time_step': 0.002032037019729614} step=1000\n",
      "2023-04-06 14:13.53 [info     ] Model parameters are saved to d3rlpy_logs/DiscreteFQE_20230406141351/model_1000.pt\n"
     ]
    },
    {
     "data": {
      "application/vnd.jupyter.widget-view+json": {
       "model_id": "01ef769f29424b73941bbd29aef156c8",
       "version_major": 2,
       "version_minor": 0
      },
      "text/plain": [
       "[fit MWL model]:   0%|          | 0/2 [00:00<?, ?it/s]"
      ]
     },
     "metadata": {},
     "output_type": "display_data"
    },
    {
     "data": {
      "application/vnd.jupyter.widget-view+json": {
       "model_id": "b7207cbbefcf48558d1b4bf74dab299e",
       "version_major": 2,
       "version_minor": 0
      },
      "text/plain": [
       "[fitting_weight_function]:   0%|          | 0/100 [00:00<?, ?it/s]"
      ]
     },
     "metadata": {},
     "output_type": "display_data"
    },
    {
     "data": {
      "application/vnd.jupyter.widget-view+json": {
       "model_id": "2ed03f24b921405f8a10e3b574df02b5",
       "version_major": 2,
       "version_minor": 0
      },
      "text/plain": [
       "[fitting_weight_function]:   0%|          | 0/100 [00:00<?, ?it/s]"
      ]
     },
     "metadata": {},
     "output_type": "display_data"
    },
    {
     "data": {
      "application/vnd.jupyter.widget-view+json": {
       "model_id": "fa57aecefe7f4f45869db7d6d180ec9d",
       "version_major": 2,
       "version_minor": 0
      },
      "text/plain": [
       "[fitting_weight_function]:   0%|          | 0/100 [00:00<?, ?it/s]"
      ]
     },
     "metadata": {},
     "output_type": "display_data"
    },
    {
     "data": {
      "application/vnd.jupyter.widget-view+json": {
       "model_id": "2ca2896d629d494081971aa5ba5b33f2",
       "version_major": 2,
       "version_minor": 0
      },
      "text/plain": [
       "[fitting_weight_function]:   0%|          | 0/100 [00:00<?, ?it/s]"
      ]
     },
     "metadata": {},
     "output_type": "display_data"
    },
    {
     "data": {
      "application/vnd.jupyter.widget-view+json": {
       "model_id": "6d649b8cc9314006bc04494d721ede82",
       "version_major": 2,
       "version_minor": 0
      },
      "text/plain": [
       "[collect input data: eval_policy]:   0%|          | 0/2 [00:00<?, ?it/s]"
      ]
     },
     "metadata": {},
     "output_type": "display_data"
    },
    {
     "data": {
      "application/vnd.jupyter.widget-view+json": {
       "model_id": "371d1519ebc040c88845b1d242a1fe7d",
       "version_major": 2,
       "version_minor": 0
      },
      "text/plain": [
       "[calculate on-policy policy value]:   0%|          | 0/100 [00:00<?, ?it/s]"
      ]
     },
     "metadata": {},
     "output_type": "display_data"
    },
    {
     "data": {
      "application/vnd.jupyter.widget-view+json": {
       "model_id": "9d80a2f5e9ca449ca17c054d63e79795",
       "version_major": 2,
       "version_minor": 0
      },
      "text/plain": [
       "[calculate on-policy policy value]:   0%|          | 0/100 [00:00<?, ?it/s]"
      ]
     },
     "metadata": {},
     "output_type": "display_data"
    },
    {
     "name": "stderr",
     "output_type": "stream",
     "text": [
      "/Users/ren/dev/ofrl/tutorial/../ofrl/ope/estimators_base.py:445: RuntimeWarning: invalid value encountered in divide\n",
      "  return numerator / denominator\n"
     ]
    },
    {
     "data": {
      "application/vnd.jupyter.widget-view+json": {
       "model_id": "52c2a40cdcb34e258767a287b6db0bfc",
       "version_major": 2,
       "version_minor": 0
      },
      "text/plain": [
       "[obtain_trajectories]:   0%|          | 0/10000 [00:00<?, ?it/s]"
      ]
     },
     "metadata": {},
     "output_type": "display_data"
    },
    {
     "data": {
      "application/vnd.jupyter.widget-view+json": {
       "model_id": "8060dbb704d44719a7c1bb1d87a29479",
       "version_major": 2,
       "version_minor": 0
      },
      "text/plain": [
       "[obtain_trajectories]:   0%|          | 0/10000 [00:00<?, ?it/s]"
      ]
     },
     "metadata": {},
     "output_type": "display_data"
    },
    {
     "name": "stdout",
     "output_type": "stream",
     "text": [
      "2023-04-06 14:16.11 [debug    ] RandomIterator is selected.\n",
      "2023-04-06 14:16.11 [info     ] Directory is created at d3rlpy_logs/DiscreteCQL_20230406141611\n",
      "2023-04-06 14:16.11 [debug    ] Building models...\n",
      "2023-04-06 14:16.11 [debug    ] Models have been built.\n",
      "2023-04-06 14:16.11 [info     ] Parameters are saved to d3rlpy_logs/DiscreteCQL_20230406141611/params.json params={'action_scaler': None, 'alpha': 1.0, 'batch_size': 32, 'encoder_factory': {'type': 'vector', 'params': {'hidden_units': [30, 30], 'activation': 'relu', 'use_batch_norm': False, 'dropout_rate': None, 'use_dense': False}}, 'gamma': 0.99, 'generated_maxlen': 100000, 'learning_rate': 6.25e-05, 'n_critics': 1, 'n_frames': 1, 'n_steps': 1, 'optim_factory': {'optim_cls': 'Adam', 'betas': (0.9, 0.999), 'eps': 1e-08, 'weight_decay': 0, 'amsgrad': False}, 'q_func_factory': {'type': 'mean', 'params': {'share_encoder': False}}, 'real_ratio': 1.0, 'reward_scaler': None, 'scaler': None, 'target_update_interval': 8000, 'use_gpu': None, 'algorithm': 'DiscreteCQL', 'observation_shape': (5,), 'action_size': 25}\n"
     ]
    },
    {
     "data": {
      "application/vnd.jupyter.widget-view+json": {
       "model_id": "d8eb31c15600438a8d388e39a673d79b",
       "version_major": 2,
       "version_minor": 0
      },
      "text/plain": [
       "Epoch 1/1:   0%|          | 0/10000 [00:00<?, ?it/s]"
      ]
     },
     "metadata": {},
     "output_type": "display_data"
    },
    {
     "name": "stdout",
     "output_type": "stream",
     "text": [
      "2023-04-06 14:16.29 [info     ] DiscreteCQL_20230406141611: epoch=1 step=10000 epoch=1 metrics={'time_sample_batch': 0.00011895654201507569, 'time_algorithm_update': 0.0015674217700958253, 'loss': 2.3826189933776853, 'time_step': 0.0017954837322235108} step=10000\n",
      "2023-04-06 14:16.29 [info     ] Model parameters are saved to d3rlpy_logs/DiscreteCQL_20230406141611/model_10000.pt\n"
     ]
    },
    {
     "data": {
      "application/vnd.jupyter.widget-view+json": {
       "model_id": "387eec5513824d488d8d284884a5adfa",
       "version_major": 2,
       "version_minor": 0
      },
      "text/plain": [
       "[fit FQE model]:   0%|          | 0/2 [00:00<?, ?it/s]"
      ]
     },
     "metadata": {},
     "output_type": "display_data"
    },
    {
     "name": "stdout",
     "output_type": "stream",
     "text": [
      "2023-04-06 14:16.30 [debug    ] RoundIterator is selected.\n",
      "2023-04-06 14:16.30 [info     ] Directory is created at d3rlpy_logs/DiscreteFQE_20230406141630\n",
      "2023-04-06 14:16.30 [debug    ] Fitting scaler...              scaler=min_max\n",
      "2023-04-06 14:16.30 [debug    ] Building models...\n",
      "2023-04-06 14:16.30 [debug    ] Models have been built.\n",
      "2023-04-06 14:16.30 [info     ] Parameters are saved to d3rlpy_logs/DiscreteFQE_20230406141630/params.json params={'action_scaler': None, 'batch_size': 100, 'encoder_factory': {'type': 'vector', 'params': {'hidden_units': [30, 30], 'activation': 'relu', 'use_batch_norm': False, 'dropout_rate': None, 'use_dense': False}}, 'gamma': 0.95, 'generated_maxlen': 100000, 'learning_rate': 0.0001, 'n_critics': 1, 'n_frames': 1, 'n_steps': 1, 'optim_factory': {'optim_cls': 'Adam', 'betas': (0.9, 0.999), 'eps': 1e-08, 'weight_decay': 0, 'amsgrad': False}, 'q_func_factory': {'type': 'mean', 'params': {'share_encoder': False}}, 'real_ratio': 1.0, 'reward_scaler': None, 'scaler': {'type': 'min_max', 'params': {'maximum': array([0.9889981 , 0.99476601, 0.99747064, 0.99494552, 0.99787611]), 'minimum': array([-0.98804508, -0.9820031 , -0.99184144, -0.99986741, -0.97737043])}}, 'target_update_interval': 100, 'use_gpu': None, 'algorithm': 'DiscreteFQE', 'observation_shape': (5,), 'action_size': 25}\n"
     ]
    },
    {
     "data": {
      "application/vnd.jupyter.widget-view+json": {
       "model_id": "7e8cc52b6d0b4d8a9cd03a0915e3bab1",
       "version_major": 2,
       "version_minor": 0
      },
      "text/plain": [
       "Epoch 1/1:   0%|          | 0/1000 [00:00<?, ?it/s]"
      ]
     },
     "metadata": {},
     "output_type": "display_data"
    },
    {
     "name": "stdout",
     "output_type": "stream",
     "text": [
      "2023-04-06 14:16.32 [info     ] DiscreteFQE_20230406141630: epoch=1 step=1000 epoch=1 metrics={'time_sample_batch': 0.00014905214309692382, 'time_algorithm_update': 0.0018639450073242188, 'loss': 0.27173946958035233, 'time_step': 0.0021055357456207274} step=1000\n",
      "2023-04-06 14:16.32 [info     ] Model parameters are saved to d3rlpy_logs/DiscreteFQE_20230406141630/model_1000.pt\n",
      "2023-04-06 14:16.32 [debug    ] RoundIterator is selected.\n",
      "2023-04-06 14:16.32 [info     ] Directory is created at d3rlpy_logs/DiscreteFQE_20230406141632\n",
      "2023-04-06 14:16.32 [debug    ] Fitting scaler...              scaler=min_max\n",
      "2023-04-06 14:16.32 [debug    ] Building models...\n",
      "2023-04-06 14:16.32 [debug    ] Models have been built.\n",
      "2023-04-06 14:16.32 [info     ] Parameters are saved to d3rlpy_logs/DiscreteFQE_20230406141632/params.json params={'action_scaler': None, 'batch_size': 100, 'encoder_factory': {'type': 'vector', 'params': {'hidden_units': [30, 30], 'activation': 'relu', 'use_batch_norm': False, 'dropout_rate': None, 'use_dense': False}}, 'gamma': 0.95, 'generated_maxlen': 100000, 'learning_rate': 0.0001, 'n_critics': 1, 'n_frames': 1, 'n_steps': 1, 'optim_factory': {'optim_cls': 'Adam', 'betas': (0.9, 0.999), 'eps': 1e-08, 'weight_decay': 0, 'amsgrad': False}, 'q_func_factory': {'type': 'mean', 'params': {'share_encoder': False}}, 'real_ratio': 1.0, 'reward_scaler': None, 'scaler': {'type': 'min_max', 'params': {'maximum': array([0.9889981 , 0.99476601, 0.99747064, 0.99494552, 0.99787611]), 'minimum': array([-0.98804508, -0.9820031 , -0.99184144, -0.99986741, -0.97737043])}}, 'target_update_interval': 100, 'use_gpu': None, 'algorithm': 'DiscreteFQE', 'observation_shape': (5,), 'action_size': 25}\n"
     ]
    },
    {
     "data": {
      "application/vnd.jupyter.widget-view+json": {
       "model_id": "352ff4325ab5426dbb7bf237f6260327",
       "version_major": 2,
       "version_minor": 0
      },
      "text/plain": [
       "Epoch 1/1:   0%|          | 0/1000 [00:00<?, ?it/s]"
      ]
     },
     "metadata": {},
     "output_type": "display_data"
    },
    {
     "name": "stdout",
     "output_type": "stream",
     "text": [
      "2023-04-06 14:16.34 [info     ] DiscreteFQE_20230406141632: epoch=1 step=1000 epoch=1 metrics={'time_sample_batch': 0.0001541323661804199, 'time_algorithm_update': 0.0017390189170837403, 'loss': 0.3038080333918333, 'time_step': 0.0019691548347473145} step=1000\n",
      "2023-04-06 14:16.34 [info     ] Model parameters are saved to d3rlpy_logs/DiscreteFQE_20230406141632/model_1000.pt\n"
     ]
    },
    {
     "data": {
      "application/vnd.jupyter.widget-view+json": {
       "model_id": "c954c20d91ea40aba9e16d8b2e464f22",
       "version_major": 2,
       "version_minor": 0
      },
      "text/plain": [
       "[fit MWL model]:   0%|          | 0/2 [00:00<?, ?it/s]"
      ]
     },
     "metadata": {},
     "output_type": "display_data"
    },
    {
     "data": {
      "application/vnd.jupyter.widget-view+json": {
       "model_id": "1eacfe70c2a14feea3288493d1227536",
       "version_major": 2,
       "version_minor": 0
      },
      "text/plain": [
       "[fitting_weight_function]:   0%|          | 0/100 [00:00<?, ?it/s]"
      ]
     },
     "metadata": {},
     "output_type": "display_data"
    },
    {
     "data": {
      "application/vnd.jupyter.widget-view+json": {
       "model_id": "0ed7340823ac411291302ad9ada6637b",
       "version_major": 2,
       "version_minor": 0
      },
      "text/plain": [
       "[fitting_weight_function]:   0%|          | 0/100 [00:00<?, ?it/s]"
      ]
     },
     "metadata": {},
     "output_type": "display_data"
    },
    {
     "data": {
      "application/vnd.jupyter.widget-view+json": {
       "model_id": "ff09b9ccd2a443cebfcddc4ddcb73c56",
       "version_major": 2,
       "version_minor": 0
      },
      "text/plain": [
       "[fitting_weight_function]:   0%|          | 0/100 [00:00<?, ?it/s]"
      ]
     },
     "metadata": {},
     "output_type": "display_data"
    },
    {
     "data": {
      "application/vnd.jupyter.widget-view+json": {
       "model_id": "7b973469b66846b2b607b463902e7a51",
       "version_major": 2,
       "version_minor": 0
      },
      "text/plain": [
       "[fitting_weight_function]:   0%|          | 0/100 [00:00<?, ?it/s]"
      ]
     },
     "metadata": {},
     "output_type": "display_data"
    },
    {
     "data": {
      "application/vnd.jupyter.widget-view+json": {
       "model_id": "b22730ad239e42f5a08f0530c317792c",
       "version_major": 2,
       "version_minor": 0
      },
      "text/plain": [
       "[collect input data: eval_policy]:   0%|          | 0/2 [00:00<?, ?it/s]"
      ]
     },
     "metadata": {},
     "output_type": "display_data"
    },
    {
     "data": {
      "application/vnd.jupyter.widget-view+json": {
       "model_id": "7070d299142a4c7ab8ef5bdf27ab208e",
       "version_major": 2,
       "version_minor": 0
      },
      "text/plain": [
       "[calculate on-policy policy value]:   0%|          | 0/100 [00:00<?, ?it/s]"
      ]
     },
     "metadata": {},
     "output_type": "display_data"
    },
    {
     "data": {
      "application/vnd.jupyter.widget-view+json": {
       "model_id": "ed4777d95bbd4331bc38170a734a6063",
       "version_major": 2,
       "version_minor": 0
      },
      "text/plain": [
       "[calculate on-policy policy value]:   0%|          | 0/100 [00:00<?, ?it/s]"
      ]
     },
     "metadata": {},
     "output_type": "display_data"
    },
    {
     "name": "stderr",
     "output_type": "stream",
     "text": [
      "/Users/ren/dev/ofrl/tutorial/../ofrl/ope/estimators_base.py:445: RuntimeWarning: invalid value encountered in divide\n",
      "  return numerator / denominator\n"
     ]
    }
   ],
   "source": [
    "\n",
    "for n_actions in n_actionss_list:\n",
    "    # standardized environment for discrete action\n",
    "    env = gym.make(\"BasicEnv-discrete-v0\", n_actions=n_actions)\n",
    "    # for api compatibility to d3rlpy\n",
    "    env_ = OldGymAPIWrapper(env)\n",
    "    # behavior policy\n",
    "    # start training\n",
    "    # model\n",
    "    ddqn = DoubleDQN(\n",
    "        encoder_factory=VectorEncoderFactory(hidden_units=[30, 30]),\n",
    "        q_func_factory=MeanQFunctionFactory(),\n",
    "        target_update_interval=100,\n",
    "        use_gpu=torch.cuda.is_available(),\n",
    "    )\n",
    "    # replay buffer\n",
    "    buffer = ReplayBuffer(\n",
    "        maxlen=10000,\n",
    "        env=env_,\n",
    "    )\n",
    "    # explorers\n",
    "    explorer = LinearDecayEpsilonGreedy(\n",
    "        start_epsilon=1.0,\n",
    "        end_epsilon=0.1,\n",
    "        duration=1000,\n",
    "    )\n",
    "\n",
    "    # start training\n",
    "    # skip if there is a pre-trained model\n",
    "    ddqn.fit_online(\n",
    "        env_,\n",
    "        buffer,\n",
    "        explorer=explorer,\n",
    "        eval_env=env_,\n",
    "        n_steps=100000,\n",
    "        n_steps_per_epoch=1000,\n",
    "        update_start_step=1000,\n",
    "    )\n",
    "\n",
    "    cql_data = DataFrame()\n",
    "    sac_data = DataFrame()\n",
    "    for random_state in random_state_list:\n",
    "\n",
    "        behavior_policy = EpsilonGreedyHead(\n",
    "            ddqn, \n",
    "            n_actions=env.action_space.n,\n",
    "            epsilon=0.3,\n",
    "            name=\"ddqn_epsilon_0.3\",\n",
    "            random_state=random_state,\n",
    "        )\n",
    "\n",
    "        # initialize dataset class\n",
    "        dataset = SyntheticDataset(\n",
    "            env=env,\n",
    "            max_episode_steps=env.step_per_episode,\n",
    "        )\n",
    "\n",
    "        # collect logged data by a behavior policy\n",
    "        # skip if there is a preserved logged dataset\n",
    "        train_logged_dataset = dataset.obtain_episodes(\n",
    "            behavior_policies=behavior_policy,\n",
    "            n_trajectories=10000, \n",
    "            obtain_info=False,\n",
    "            random_state=random_state,\n",
    "        )\n",
    "        test_logged_dataset = dataset.obtain_episodes(\n",
    "            behavior_policies=behavior_policy,\n",
    "            n_trajectories=10000, \n",
    "            obtain_info=False,\n",
    "            random_state=random_state + 1,\n",
    "        )\n",
    "\n",
    "        # with open(\"logs/train_dataset_continuous_sac.pkl\", \"wb\") as f:\n",
    "        # pickle.dump(train_logged_dataset, f)\n",
    "        # with open(\"logs/test_dataset_continuous_sac.pkl\", \"wb\") as f:\n",
    "        # pickle.dump(test_logged_dataset, f)\n",
    "\n",
    "        # with open(\"logs/train_dataset_continuous_sac.pkl\", \"rb\") as f:\n",
    "        # train_logged_dataset = pickle.load(f)\n",
    "        # with open(\"logs/test_dataset_continuous_sac.pkl\", \"rb\") as f:\n",
    "        # test_logged_dataset = pickle.load(f)\n",
    "\n",
    "        # transform offline dataset for d3rlpy\n",
    "        offlinerl_dataset = MDPDataset(\n",
    "            observations=train_logged_dataset[\"state\"],\n",
    "            actions=train_logged_dataset[\"action\"],\n",
    "            rewards=train_logged_dataset[\"reward\"],\n",
    "            terminals=train_logged_dataset[\"done\"],\n",
    "            episode_terminals=train_logged_dataset[\"done\"],\n",
    "            discrete_action=True,\n",
    "        )\n",
    "        train_episodes, test_episodes = train_test_split(offlinerl_dataset, test_size=0.2, random_state=random_state)\n",
    "\n",
    "        # Use Conservative Q-Learning policy\n",
    "        cql = CQL(\n",
    "            encoder_factory=VectorEncoderFactory(hidden_units=[30, 30]),\n",
    "            q_func_factory=MeanQFunctionFactory(),\n",
    "            use_gpu=torch.cuda.is_available(),\n",
    "        )\n",
    "\n",
    "        cql.fit(\n",
    "            train_episodes,\n",
    "            eval_episodes=test_episodes,\n",
    "            n_steps=10000,\n",
    "            scorers={},\n",
    "        )\n",
    "\n",
    "\n",
    "\n",
    "        # # save model\n",
    "        # cql.save_model(\"d3rlpy_logs/cql_continuous.pt\")\n",
    "\n",
    "        # # reload model\n",
    "        # cql.build_with_env(env)\n",
    "        # cql.load_model(\"d3rlpy_logs/cql_continuous.pt\")\n",
    "\n",
    "        # define evaluation policies (should be deterministic policy)\n",
    "        cql_ = EpsilonGreedyHead(base_policy=cql, n_actions=env.action_space.n, name=\"cql\", epsilon=0.0, random_state=random_state)\n",
    "        ddqn_ = EpsilonGreedyHead(base_policy=ddqn, n_actions=env.action_space.n, name=\"ddqn\", epsilon=0.0, random_state=random_state)\n",
    "        evaluation_policies = [cql_, ddqn_]\n",
    "                \n",
    "        # first, prepare OPE inputs\n",
    "        prep = CreateOPEInput(\n",
    "            env=env,\n",
    "            model_args={\n",
    "                \"fqe\": {\n",
    "                    \"encoder_factory\": VectorEncoderFactory(hidden_units=[30, 30]),\n",
    "                    \"q_func_factory\": MeanQFunctionFactory(),\n",
    "                    \"learning_rate\": 1e-4,\n",
    "                    \"use_gpu\": torch.cuda.is_available(),\n",
    "                },\n",
    "            },\n",
    "            state_scaler=MinMaxScaler(\n",
    "                minimum=test_logged_dataset[\"state\"].min(axis=0),\n",
    "                maximum=test_logged_dataset[\"state\"].max(axis=0),\n",
    "            ),\n",
    "            sigma=0.1,\n",
    "            gamma=0.95,\n",
    "            device=\"cuda:0\" if torch.cuda.is_available() else \"cpu\",\n",
    "        )\n",
    "\n",
    "        # takes time\n",
    "        input_dict = prep.obtain_whole_inputs(\n",
    "            logged_dataset=test_logged_dataset,\n",
    "            evaluation_policies=evaluation_policies,\n",
    "            require_value_prediction=True,\n",
    "            require_weight_prediction=True,\n",
    "            n_trajectories_on_policy_evaluation=100,\n",
    "            random_state=random_state,\n",
    "        )\n",
    "\n",
    "        # with open(\"logs/ope_input_dict_continuous_zoo.pkl\", \"wb\") as f:\n",
    "        # pickle.dump(input_dict, f)\n",
    "\n",
    "        # with open(\"logs/ope_input_dict_continuous_zoo.pkl\", \"rb\") as f:\n",
    "        # input_dict = pickle.load(f)\n",
    "\n",
    "        ope = OPE(\n",
    "            logged_dataset=test_logged_dataset,\n",
    "            ope_estimators=all_estimators,\n",
    "        )\n",
    "\n",
    "        policy_value_dict = ope.estimate_policy_value(\n",
    "            input_dict=input_dict,\n",
    "        )\n",
    "        \n",
    "        tmp_cql = DataFrame(policy_value_dict)['cql']\n",
    "        cql_data = pd.concat([cql_data, tmp_cql], axis=1)\n",
    "        # tmp_sac = DataFrame(policy_value_dict)['sac']\n",
    "        # sac_data = pd.concat([sac_data, tmp_sac], axis=1)\n",
    "        \n",
    "        \n",
    "    # bias = abs(sac_data.mean(axis=1) - sac_data.mean(axis=1)['on_policy'])\n",
    "    # variance = sac_data.var(axis=1)\n",
    "    bias = abs(cql_data.mean(axis=1) - cql_data.mean(axis=1)['on_policy'])\n",
    "    variance = cql_data.var(axis=1)\n",
    "    mse = bias**2 + variance\n",
    "\n",
    "    bias_df = DataFrame(DataFrame(bias).stack())\\\n",
    "        .reset_index(1).rename(columns={0: \"bias\"})\n",
    "    bias_df[\"n_actions\"] = n_actions\n",
    "    bias_df_list.append(bias_df)\n",
    "    variance_df = DataFrame(DataFrame(variance).stack())\\\n",
    "        .reset_index(1).rename(columns={0: \"variance\"})\n",
    "    variance_df[\"n_actions\"] = n_actions\n",
    "    variance_df_list.append(variance_df)\n",
    "    mse_df = DataFrame(DataFrame(mse).stack())\\\n",
    "        .reset_index(1).rename(columns={0: \"mse\"})\n",
    "    mse_df[\"n_actions\"] = n_actions\n",
    "    mse_df_list.append(mse_df)\n",
    "\n",
    "\n",
    "    # bias_df[n_trajectories] = bias\n",
    "    # variance_df[n_trajectories] = variance\n",
    "\n",
    "# aggregate all results \n",
    "bias_result_df = pd.concat(bias_df_list).reset_index(level=0)\n",
    "variance_result_df = pd.concat(variance_df_list).reset_index(level=0)\n",
    "mse_result_df = pd.concat(mse_df_list).reset_index(level=0)"
   ]
  },
  {
   "cell_type": "code",
   "execution_count": 20,
   "metadata": {},
   "outputs": [
    {
     "data": {
      "text/html": [
       "<div>\n",
       "<style scoped>\n",
       "    .dataframe tbody tr th:only-of-type {\n",
       "        vertical-align: middle;\n",
       "    }\n",
       "\n",
       "    .dataframe tbody tr th {\n",
       "        vertical-align: top;\n",
       "    }\n",
       "\n",
       "    .dataframe thead th {\n",
       "        text-align: right;\n",
       "    }\n",
       "</style>\n",
       "<table border=\"1\" class=\"dataframe\">\n",
       "  <thead>\n",
       "    <tr style=\"text-align: right;\">\n",
       "      <th></th>\n",
       "    </tr>\n",
       "  </thead>\n",
       "  <tbody>\n",
       "  </tbody>\n",
       "</table>\n",
       "</div>"
      ],
      "text/plain": [
       "Empty DataFrame\n",
       "Columns: []\n",
       "Index: []"
      ]
     },
     "execution_count": 20,
     "metadata": {},
     "output_type": "execute_result"
    }
   ],
   "source": [
    "variance_result_df.query(\"(index == 'dm')\")"
   ]
  },
  {
   "cell_type": "code",
   "execution_count": 22,
   "metadata": {},
   "outputs": [
    {
     "data": {
      "text/html": [
       "<div>\n",
       "<style scoped>\n",
       "    .dataframe tbody tr th:only-of-type {\n",
       "        vertical-align: middle;\n",
       "    }\n",
       "\n",
       "    .dataframe tbody tr th {\n",
       "        vertical-align: top;\n",
       "    }\n",
       "\n",
       "    .dataframe thead th {\n",
       "        text-align: right;\n",
       "    }\n",
       "</style>\n",
       "<table border=\"1\" class=\"dataframe\">\n",
       "  <thead>\n",
       "    <tr style=\"text-align: right;\">\n",
       "      <th></th>\n",
       "    </tr>\n",
       "  </thead>\n",
       "  <tbody>\n",
       "  </tbody>\n",
       "</table>\n",
       "</div>"
      ],
      "text/plain": [
       "Empty DataFrame\n",
       "Columns: []\n",
       "Index: []"
      ]
     },
     "execution_count": 22,
     "metadata": {},
     "output_type": "execute_result"
    }
   ],
   "source": [
    "bias_result_df\n"
   ]
  },
  {
   "cell_type": "code",
   "execution_count": 2,
   "metadata": {},
   "outputs": [],
   "source": [
    "import pickle"
   ]
  },
  {
   "cell_type": "code",
   "execution_count": 21,
   "metadata": {},
   "outputs": [],
   "source": [
    "with open(\"logs/cql_n_actions_variance_result_df.pkl\", \"wb\") as f:\n",
    "    pickle.dump(variance_result_df, f)\n",
    "\n",
    "with open(\"logs/cql_n_actions_variance_result_df.pkl\", \"rb\") as f:\n",
    "    variance_result_df = pickle.load(f)\n",
    "\n",
    "with open(\"logs/cql_n_actions_bias_result_df.pkl\", \"wb\") as f:\n",
    "    pickle.dump(bias_result_df, f)\n",
    "\n",
    "with open(\"logs/cql_n_actions_bias_result_df.pkl\", \"rb\") as f:\n",
    "    bias_result_df = pickle.load(f)\n",
    "\n",
    "with open(\"logs/cql_n_actions_mse_result_df.pkl\", \"wb\") as f:\n",
    "    pickle.dump(mse_result_df, f)\n",
    "\n",
    "with open(\"logs/cql_n_actions_mse_result_df.pkl\", \"rb\") as f:\n",
    "    mse_result_df = pickle.load(f)"
   ]
  },
  {
   "cell_type": "code",
   "execution_count": null,
   "metadata": {},
   "outputs": [],
   "source": []
  },
  {
   "cell_type": "code",
   "execution_count": 17,
   "metadata": {},
   "outputs": [
    {
     "name": "stderr",
     "output_type": "stream",
     "text": [
      "/var/folders/48/ly7vft814qv_x6krlfw5s8_c0000gn/T/ipykernel_26072/3643341895.py:7: FutureWarning: \n",
      "\n",
      "The `ci` parameter is deprecated. Use `errorbar=None` for the same effect.\n",
      "\n",
      "  sns.lineplot(\n"
     ]
    },
    {
     "ename": "ValueError",
     "evalue": "Could not interpret value `n_actions` for parameter `x`",
     "output_type": "error",
     "traceback": [
      "\u001b[0;31m---------------------------------------------------------------------------\u001b[0m",
      "\u001b[0;31mValueError\u001b[0m                                Traceback (most recent call last)",
      "\u001b[1;32m/Users/ren/dev/ofrl/tutorial/cql_action_space.ipynb Cell 18\u001b[0m in \u001b[0;36m7\n\u001b[1;32m      <a href='vscode-notebook-cell:/Users/ren/dev/ofrl/tutorial/cql_action_space.ipynb#X23sZmlsZQ%3D%3D?line=4'>5</a>\u001b[0m plt\u001b[39m.\u001b[39mstyle\u001b[39m.\u001b[39muse(\u001b[39m'\u001b[39m\u001b[39mggplot\u001b[39m\u001b[39m'\u001b[39m)\n\u001b[1;32m      <a href='vscode-notebook-cell:/Users/ren/dev/ofrl/tutorial/cql_action_space.ipynb#X23sZmlsZQ%3D%3D?line=5'>6</a>\u001b[0m fig, ax \u001b[39m=\u001b[39m plt\u001b[39m.\u001b[39msubplots(figsize\u001b[39m=\u001b[39m(\u001b[39m10\u001b[39m, \u001b[39m7\u001b[39m), tight_layout\u001b[39m=\u001b[39m\u001b[39mTrue\u001b[39;00m)\n\u001b[0;32m----> <a href='vscode-notebook-cell:/Users/ren/dev/ofrl/tutorial/cql_action_space.ipynb#X23sZmlsZQ%3D%3D?line=6'>7</a>\u001b[0m sns\u001b[39m.\u001b[39;49mlineplot(\n\u001b[1;32m      <a href='vscode-notebook-cell:/Users/ren/dev/ofrl/tutorial/cql_action_space.ipynb#X23sZmlsZQ%3D%3D?line=7'>8</a>\u001b[0m     linewidth\u001b[39m=\u001b[39;49m\u001b[39m5\u001b[39;49m,\n\u001b[1;32m      <a href='vscode-notebook-cell:/Users/ren/dev/ofrl/tutorial/cql_action_space.ipynb#X23sZmlsZQ%3D%3D?line=8'>9</a>\u001b[0m     dashes\u001b[39m=\u001b[39;49m\u001b[39mFalse\u001b[39;49;00m,\n\u001b[1;32m     <a href='vscode-notebook-cell:/Users/ren/dev/ofrl/tutorial/cql_action_space.ipynb#X23sZmlsZQ%3D%3D?line=9'>10</a>\u001b[0m     legend\u001b[39m=\u001b[39;49m\u001b[39mFalse\u001b[39;49;00m,\n\u001b[1;32m     <a href='vscode-notebook-cell:/Users/ren/dev/ofrl/tutorial/cql_action_space.ipynb#X23sZmlsZQ%3D%3D?line=10'>11</a>\u001b[0m     x\u001b[39m=\u001b[39;49m\u001b[39m\"\u001b[39;49m\u001b[39mn_actions\u001b[39;49m\u001b[39m\"\u001b[39;49m,\n\u001b[1;32m     <a href='vscode-notebook-cell:/Users/ren/dev/ofrl/tutorial/cql_action_space.ipynb#X23sZmlsZQ%3D%3D?line=11'>12</a>\u001b[0m     y\u001b[39m=\u001b[39;49m\u001b[39m\"\u001b[39;49m\u001b[39mbias\u001b[39;49m\u001b[39m\"\u001b[39;49m,\n\u001b[1;32m     <a href='vscode-notebook-cell:/Users/ren/dev/ofrl/tutorial/cql_action_space.ipynb#X23sZmlsZQ%3D%3D?line=12'>13</a>\u001b[0m     hue\u001b[39m=\u001b[39;49m\u001b[39m\"\u001b[39;49m\u001b[39mindex\u001b[39;49m\u001b[39m\"\u001b[39;49m,\n\u001b[1;32m     <a href='vscode-notebook-cell:/Users/ren/dev/ofrl/tutorial/cql_action_space.ipynb#X23sZmlsZQ%3D%3D?line=13'>14</a>\u001b[0m     ax\u001b[39m=\u001b[39;49max,\n\u001b[1;32m     <a href='vscode-notebook-cell:/Users/ren/dev/ofrl/tutorial/cql_action_space.ipynb#X23sZmlsZQ%3D%3D?line=14'>15</a>\u001b[0m     data\u001b[39m=\u001b[39;49mbias_result_df\u001b[39m.\u001b[39;49mquery(\u001b[39m\"\u001b[39;49m\u001b[39m(index == \u001b[39;49m\u001b[39m'\u001b[39;49m\u001b[39mdm\u001b[39;49m\u001b[39m'\u001b[39;49m\u001b[39m or index == \u001b[39;49m\u001b[39m'\u001b[39;49m\u001b[39mpdis\u001b[39;49m\u001b[39m'\u001b[39;49m\u001b[39m)\u001b[39;49m\u001b[39m\"\u001b[39;49m),\n\u001b[1;32m     <a href='vscode-notebook-cell:/Users/ren/dev/ofrl/tutorial/cql_action_space.ipynb#X23sZmlsZQ%3D%3D?line=15'>16</a>\u001b[0m     ci\u001b[39m=\u001b[39;49m\u001b[39mNone\u001b[39;49;00m,\n\u001b[1;32m     <a href='vscode-notebook-cell:/Users/ren/dev/ofrl/tutorial/cql_action_space.ipynb#X23sZmlsZQ%3D%3D?line=16'>17</a>\u001b[0m )\n\u001b[1;32m     <a href='vscode-notebook-cell:/Users/ren/dev/ofrl/tutorial/cql_action_space.ipynb#X23sZmlsZQ%3D%3D?line=17'>18</a>\u001b[0m \u001b[39m# title and legend\u001b[39;00m\n\u001b[1;32m     <a href='vscode-notebook-cell:/Users/ren/dev/ofrl/tutorial/cql_action_space.ipynb#X23sZmlsZQ%3D%3D?line=18'>19</a>\u001b[0m ax\u001b[39m.\u001b[39mlegend([\u001b[39m\"\u001b[39m\u001b[39mDM\u001b[39m\u001b[39m\"\u001b[39m, \u001b[39m\"\u001b[39m\u001b[39mTIS\u001b[39m\u001b[39m\"\u001b[39m], loc\u001b[39m=\u001b[39m\u001b[39m\"\u001b[39m\u001b[39mupper right\u001b[39m\u001b[39m\"\u001b[39m, fontsize\u001b[39m=\u001b[39m\u001b[39m25\u001b[39m)\n",
      "File \u001b[0;32m~/.pyenv/versions/3.10.6/lib/python3.10/site-packages/seaborn/relational.py:618\u001b[0m, in \u001b[0;36mlineplot\u001b[0;34m(data, x, y, hue, size, style, units, palette, hue_order, hue_norm, sizes, size_order, size_norm, dashes, markers, style_order, estimator, errorbar, n_boot, seed, orient, sort, err_style, err_kws, legend, ci, ax, **kwargs)\u001b[0m\n\u001b[1;32m    615\u001b[0m errorbar \u001b[39m=\u001b[39m _deprecate_ci(errorbar, ci)\n\u001b[1;32m    617\u001b[0m variables \u001b[39m=\u001b[39m _LinePlotter\u001b[39m.\u001b[39mget_semantics(\u001b[39mlocals\u001b[39m())\n\u001b[0;32m--> 618\u001b[0m p \u001b[39m=\u001b[39m _LinePlotter(\n\u001b[1;32m    619\u001b[0m     data\u001b[39m=\u001b[39;49mdata, variables\u001b[39m=\u001b[39;49mvariables,\n\u001b[1;32m    620\u001b[0m     estimator\u001b[39m=\u001b[39;49mestimator, n_boot\u001b[39m=\u001b[39;49mn_boot, seed\u001b[39m=\u001b[39;49mseed, errorbar\u001b[39m=\u001b[39;49merrorbar,\n\u001b[1;32m    621\u001b[0m     sort\u001b[39m=\u001b[39;49msort, orient\u001b[39m=\u001b[39;49morient, err_style\u001b[39m=\u001b[39;49merr_style, err_kws\u001b[39m=\u001b[39;49merr_kws,\n\u001b[1;32m    622\u001b[0m     legend\u001b[39m=\u001b[39;49mlegend,\n\u001b[1;32m    623\u001b[0m )\n\u001b[1;32m    625\u001b[0m p\u001b[39m.\u001b[39mmap_hue(palette\u001b[39m=\u001b[39mpalette, order\u001b[39m=\u001b[39mhue_order, norm\u001b[39m=\u001b[39mhue_norm)\n\u001b[1;32m    626\u001b[0m p\u001b[39m.\u001b[39mmap_size(sizes\u001b[39m=\u001b[39msizes, order\u001b[39m=\u001b[39msize_order, norm\u001b[39m=\u001b[39msize_norm)\n",
      "File \u001b[0;32m~/.pyenv/versions/3.10.6/lib/python3.10/site-packages/seaborn/relational.py:365\u001b[0m, in \u001b[0;36m_LinePlotter.__init__\u001b[0;34m(self, data, variables, estimator, n_boot, seed, errorbar, sort, orient, err_style, err_kws, legend)\u001b[0m\n\u001b[1;32m    351\u001b[0m \u001b[39mdef\u001b[39;00m \u001b[39m__init__\u001b[39m(\n\u001b[1;32m    352\u001b[0m     \u001b[39mself\u001b[39m, \u001b[39m*\u001b[39m,\n\u001b[1;32m    353\u001b[0m     data\u001b[39m=\u001b[39m\u001b[39mNone\u001b[39;00m, variables\u001b[39m=\u001b[39m{},\n\u001b[0;32m   (...)\u001b[0m\n\u001b[1;32m    359\u001b[0m     \u001b[39m# the kind of plot to draw, but for the time being we need to set\u001b[39;00m\n\u001b[1;32m    360\u001b[0m     \u001b[39m# this information so the SizeMapping can use it\u001b[39;00m\n\u001b[1;32m    361\u001b[0m     \u001b[39mself\u001b[39m\u001b[39m.\u001b[39m_default_size_range \u001b[39m=\u001b[39m (\n\u001b[1;32m    362\u001b[0m         np\u001b[39m.\u001b[39mr_[\u001b[39m.5\u001b[39m, \u001b[39m2\u001b[39m] \u001b[39m*\u001b[39m mpl\u001b[39m.\u001b[39mrcParams[\u001b[39m\"\u001b[39m\u001b[39mlines.linewidth\u001b[39m\u001b[39m\"\u001b[39m]\n\u001b[1;32m    363\u001b[0m     )\n\u001b[0;32m--> 365\u001b[0m     \u001b[39msuper\u001b[39;49m()\u001b[39m.\u001b[39;49m\u001b[39m__init__\u001b[39;49m(data\u001b[39m=\u001b[39;49mdata, variables\u001b[39m=\u001b[39;49mvariables)\n\u001b[1;32m    367\u001b[0m     \u001b[39mself\u001b[39m\u001b[39m.\u001b[39mestimator \u001b[39m=\u001b[39m estimator\n\u001b[1;32m    368\u001b[0m     \u001b[39mself\u001b[39m\u001b[39m.\u001b[39merrorbar \u001b[39m=\u001b[39m errorbar\n",
      "File \u001b[0;32m~/.pyenv/versions/3.10.6/lib/python3.10/site-packages/seaborn/_oldcore.py:640\u001b[0m, in \u001b[0;36mVectorPlotter.__init__\u001b[0;34m(self, data, variables)\u001b[0m\n\u001b[1;32m    635\u001b[0m \u001b[39m# var_ordered is relevant only for categorical axis variables, and may\u001b[39;00m\n\u001b[1;32m    636\u001b[0m \u001b[39m# be better handled by an internal axis information object that tracks\u001b[39;00m\n\u001b[1;32m    637\u001b[0m \u001b[39m# such information and is set up by the scale_* methods. The analogous\u001b[39;00m\n\u001b[1;32m    638\u001b[0m \u001b[39m# information for numeric axes would be information about log scales.\u001b[39;00m\n\u001b[1;32m    639\u001b[0m \u001b[39mself\u001b[39m\u001b[39m.\u001b[39m_var_ordered \u001b[39m=\u001b[39m {\u001b[39m\"\u001b[39m\u001b[39mx\u001b[39m\u001b[39m\"\u001b[39m: \u001b[39mFalse\u001b[39;00m, \u001b[39m\"\u001b[39m\u001b[39my\u001b[39m\u001b[39m\"\u001b[39m: \u001b[39mFalse\u001b[39;00m}  \u001b[39m# alt., used DefaultDict\u001b[39;00m\n\u001b[0;32m--> 640\u001b[0m \u001b[39mself\u001b[39;49m\u001b[39m.\u001b[39;49massign_variables(data, variables)\n\u001b[1;32m    642\u001b[0m \u001b[39mfor\u001b[39;00m var, \u001b[39mcls\u001b[39m \u001b[39min\u001b[39;00m \u001b[39mself\u001b[39m\u001b[39m.\u001b[39m_semantic_mappings\u001b[39m.\u001b[39mitems():\n\u001b[1;32m    643\u001b[0m \n\u001b[1;32m    644\u001b[0m     \u001b[39m# Create the mapping function\u001b[39;00m\n\u001b[1;32m    645\u001b[0m     map_func \u001b[39m=\u001b[39m partial(\u001b[39mcls\u001b[39m\u001b[39m.\u001b[39mmap, plotter\u001b[39m=\u001b[39m\u001b[39mself\u001b[39m)\n",
      "File \u001b[0;32m~/.pyenv/versions/3.10.6/lib/python3.10/site-packages/seaborn/_oldcore.py:701\u001b[0m, in \u001b[0;36mVectorPlotter.assign_variables\u001b[0;34m(self, data, variables)\u001b[0m\n\u001b[1;32m    699\u001b[0m \u001b[39melse\u001b[39;00m:\n\u001b[1;32m    700\u001b[0m     \u001b[39mself\u001b[39m\u001b[39m.\u001b[39minput_format \u001b[39m=\u001b[39m \u001b[39m\"\u001b[39m\u001b[39mlong\u001b[39m\u001b[39m\"\u001b[39m\n\u001b[0;32m--> 701\u001b[0m     plot_data, variables \u001b[39m=\u001b[39m \u001b[39mself\u001b[39;49m\u001b[39m.\u001b[39;49m_assign_variables_longform(\n\u001b[1;32m    702\u001b[0m         data, \u001b[39m*\u001b[39;49m\u001b[39m*\u001b[39;49mvariables,\n\u001b[1;32m    703\u001b[0m     )\n\u001b[1;32m    705\u001b[0m \u001b[39mself\u001b[39m\u001b[39m.\u001b[39mplot_data \u001b[39m=\u001b[39m plot_data\n\u001b[1;32m    706\u001b[0m \u001b[39mself\u001b[39m\u001b[39m.\u001b[39mvariables \u001b[39m=\u001b[39m variables\n",
      "File \u001b[0;32m~/.pyenv/versions/3.10.6/lib/python3.10/site-packages/seaborn/_oldcore.py:938\u001b[0m, in \u001b[0;36mVectorPlotter._assign_variables_longform\u001b[0;34m(self, data, **kwargs)\u001b[0m\n\u001b[1;32m    933\u001b[0m \u001b[39melif\u001b[39;00m \u001b[39misinstance\u001b[39m(val, (\u001b[39mstr\u001b[39m, \u001b[39mbytes\u001b[39m)):\n\u001b[1;32m    934\u001b[0m \n\u001b[1;32m    935\u001b[0m     \u001b[39m# This looks like a column name but we don't know what it means!\u001b[39;00m\n\u001b[1;32m    937\u001b[0m     err \u001b[39m=\u001b[39m \u001b[39mf\u001b[39m\u001b[39m\"\u001b[39m\u001b[39mCould not interpret value `\u001b[39m\u001b[39m{\u001b[39;00mval\u001b[39m}\u001b[39;00m\u001b[39m` for parameter `\u001b[39m\u001b[39m{\u001b[39;00mkey\u001b[39m}\u001b[39;00m\u001b[39m`\u001b[39m\u001b[39m\"\u001b[39m\n\u001b[0;32m--> 938\u001b[0m     \u001b[39mraise\u001b[39;00m \u001b[39mValueError\u001b[39;00m(err)\n\u001b[1;32m    940\u001b[0m \u001b[39melse\u001b[39;00m:\n\u001b[1;32m    941\u001b[0m \n\u001b[1;32m    942\u001b[0m     \u001b[39m# Otherwise, assume the value is itself data\u001b[39;00m\n\u001b[1;32m    943\u001b[0m \n\u001b[1;32m    944\u001b[0m     \u001b[39m# Raise when data object is present and a vector can't matched\u001b[39;00m\n\u001b[1;32m    945\u001b[0m     \u001b[39mif\u001b[39;00m \u001b[39misinstance\u001b[39m(data, pd\u001b[39m.\u001b[39mDataFrame) \u001b[39mand\u001b[39;00m \u001b[39mnot\u001b[39;00m \u001b[39misinstance\u001b[39m(val, pd\u001b[39m.\u001b[39mSeries):\n",
      "\u001b[0;31mValueError\u001b[0m: Could not interpret value `n_actions` for parameter `x`"
     ]
    },
    {
     "data": {
      "image/png": "[encoded data removed]",
      "text/plain": [
       "<Figure size 1000x700 with 1 Axes>"
      ]
     },
     "metadata": {},
     "output_type": "display_data"
    }
   ],
   "source": [
    "# figure configs\n",
    "# query = \"(est == 'DM' or est == 'IPS') and num_data <= 6400\"\n",
    "xlabels = [5, 10, 20]\n",
    "\n",
    "plt.style.use('ggplot')\n",
    "fig, ax = plt.subplots(figsize=(10, 7), tight_layout=True)\n",
    "sns.lineplot(\n",
    "    linewidth=5,\n",
    "    dashes=False,\n",
    "    legend=False,\n",
    "    x=\"n_actions\",\n",
    "    y=\"bias\",\n",
    "    hue=\"index\",\n",
    "    ax=ax,\n",
    "    data=bias_result_df.query(\"(index == 'dm' or index == 'pdis')\"),\n",
    "    ci=None,\n",
    ")\n",
    "# title and legend\n",
    "ax.legend([\"DM\", \"TIS\"], loc=\"upper right\", fontsize=25)\n",
    "# yaxis\n",
    "# ax.set_yscale(\"log\")\n",
    "ax.set_ylabel(\"bias\", fontsize=25)\n",
    "ax.tick_params(axis=\"y\", labelsize=15)\n",
    "ax.yaxis.set_label_coords(-0.08, 0.5)\n",
    "# xaxis\n",
    "ax.set_xscale(\"log\")\n",
    "ax.set_xlabel(\"number of actions\", fontsize=25)\n",
    "ax.set_xticks(xlabels)\n",
    "ax.set_xticklabels(xlabels, fontsize=15)\n",
    "ax.xaxis.set_label_coords(0.5, -0.1)"
   ]
  },
  {
   "cell_type": "code",
   "execution_count": 28,
   "metadata": {},
   "outputs": [
    {
     "name": "stderr",
     "output_type": "stream",
     "text": [
      "/var/folders/48/ly7vft814qv_x6krlfw5s8_c0000gn/T/ipykernel_17161/2403509329.py:7: FutureWarning: \n",
      "\n",
      "The `ci` parameter is deprecated. Use `errorbar=None` for the same effect.\n",
      "\n",
      "  sns.lineplot(\n"
     ]
    },
    {
     "data": {
      "image/png": "[encoded data removed]",
      "text/plain": [
       "<Figure size 1000x700 with 1 Axes>"
      ]
     },
     "metadata": {},
     "output_type": "display_data"
    }
   ],
   "source": [
    "# figure configs\n",
    "# query = \"(est == 'DM' or est == 'IPS') and num_data <= 6400\"\n",
    "xlabels = [5, 10, 15, 20, 25]\n",
    "\n",
    "plt.style.use('ggplot')\n",
    "fig, ax = plt.subplots(figsize=(10, 7), tight_layout=True)\n",
    "sns.lineplot(\n",
    "    linewidth=5,\n",
    "    dashes=False,\n",
    "    legend=False,\n",
    "    x=\"n_actions\",\n",
    "    y=\"bias\",\n",
    "    hue=\"index\",\n",
    "    ax=ax,\n",
    "    data=bias_result_df.query(\"(index == 'dm' or index == 'dr')\"),\n",
    "    ci=,\n",
    ")\n",
    "# title and legend\n",
    "ax.legend([\"DM\", \"DR\"], loc=\"upper right\", fontsize=25)\n",
    "# yaxis\n",
    "# ax.set_yscale(\"log\")\n",
    "ax.set_ylabel(\"bias\", fontsize=25)\n",
    "ax.tick_params(axis=\"y\", labelsize=15)\n",
    "ax.yaxis.set_label_coords(-0.08, 0.5)\n",
    "# xaxis\n",
    "ax.set_xscale(\"log\")\n",
    "ax.set_xlabel(\"number of actions\", fontsize=25)\n",
    "ax.set_xticks(xlabels)\n",
    "ax.set_xticklabels(xlabels, fontsize=15)\n",
    "ax.xaxis.set_label_coords(0.5, -0.1)"
   ]
  },
  {
   "cell_type": "code",
   "execution_count": 17,
   "metadata": {},
   "outputs": [
    {
     "data": {
      "text/html": [
       "<div>\n",
       "<style scoped>\n",
       "    .dataframe tbody tr th:only-of-type {\n",
       "        vertical-align: middle;\n",
       "    }\n",
       "\n",
       "    .dataframe tbody tr th {\n",
       "        vertical-align: top;\n",
       "    }\n",
       "\n",
       "    .dataframe thead th {\n",
       "        text-align: right;\n",
       "    }\n",
       "</style>\n",
       "<table border=\"1\" class=\"dataframe\">\n",
       "  <thead>\n",
       "    <tr style=\"text-align: right;\">\n",
       "      <th></th>\n",
       "      <th>index</th>\n",
       "      <th>level_1</th>\n",
       "      <th>variance</th>\n",
       "      <th>n_actions</th>\n",
       "    </tr>\n",
       "  </thead>\n",
       "  <tbody>\n",
       "    <tr>\n",
       "      <th>0</th>\n",
       "      <td>on_policy</td>\n",
       "      <td>0</td>\n",
       "      <td>0.000192</td>\n",
       "      <td>5</td>\n",
       "    </tr>\n",
       "    <tr>\n",
       "      <th>1</th>\n",
       "      <td>dm</td>\n",
       "      <td>0</td>\n",
       "      <td>0.012965</td>\n",
       "      <td>5</td>\n",
       "    </tr>\n",
       "    <tr>\n",
       "      <th>2</th>\n",
       "      <td>tis</td>\n",
       "      <td>0</td>\n",
       "      <td>1.831972</td>\n",
       "      <td>5</td>\n",
       "    </tr>\n",
       "    <tr>\n",
       "      <th>3</th>\n",
       "      <td>pdis</td>\n",
       "      <td>0</td>\n",
       "      <td>5.579181</td>\n",
       "      <td>5</td>\n",
       "    </tr>\n",
       "    <tr>\n",
       "      <th>4</th>\n",
       "      <td>dr</td>\n",
       "      <td>0</td>\n",
       "      <td>3.875301</td>\n",
       "      <td>5</td>\n",
       "    </tr>\n",
       "    <tr>\n",
       "      <th>5</th>\n",
       "      <td>sntis</td>\n",
       "      <td>0</td>\n",
       "      <td>0.033592</td>\n",
       "      <td>5</td>\n",
       "    </tr>\n",
       "    <tr>\n",
       "      <th>6</th>\n",
       "      <td>snpdis</td>\n",
       "      <td>0</td>\n",
       "      <td>0.001176</td>\n",
       "      <td>5</td>\n",
       "    </tr>\n",
       "    <tr>\n",
       "      <th>7</th>\n",
       "      <td>sndr</td>\n",
       "      <td>0</td>\n",
       "      <td>0.001084</td>\n",
       "      <td>5</td>\n",
       "    </tr>\n",
       "    <tr>\n",
       "      <th>8</th>\n",
       "      <td>drl</td>\n",
       "      <td>0</td>\n",
       "      <td>0.012965</td>\n",
       "      <td>5</td>\n",
       "    </tr>\n",
       "    <tr>\n",
       "      <th>9</th>\n",
       "      <td>on_policy</td>\n",
       "      <td>0</td>\n",
       "      <td>0.001114</td>\n",
       "      <td>10</td>\n",
       "    </tr>\n",
       "    <tr>\n",
       "      <th>10</th>\n",
       "      <td>dm</td>\n",
       "      <td>0</td>\n",
       "      <td>0.386416</td>\n",
       "      <td>10</td>\n",
       "    </tr>\n",
       "    <tr>\n",
       "      <th>11</th>\n",
       "      <td>tis</td>\n",
       "      <td>0</td>\n",
       "      <td>10.365532</td>\n",
       "      <td>10</td>\n",
       "    </tr>\n",
       "    <tr>\n",
       "      <th>12</th>\n",
       "      <td>pdis</td>\n",
       "      <td>0</td>\n",
       "      <td>1.490524</td>\n",
       "      <td>10</td>\n",
       "    </tr>\n",
       "    <tr>\n",
       "      <th>13</th>\n",
       "      <td>dr</td>\n",
       "      <td>0</td>\n",
       "      <td>0.034727</td>\n",
       "      <td>10</td>\n",
       "    </tr>\n",
       "    <tr>\n",
       "      <th>14</th>\n",
       "      <td>sntis</td>\n",
       "      <td>0</td>\n",
       "      <td>0.003407</td>\n",
       "      <td>10</td>\n",
       "    </tr>\n",
       "    <tr>\n",
       "      <th>15</th>\n",
       "      <td>snpdis</td>\n",
       "      <td>0</td>\n",
       "      <td>0.000732</td>\n",
       "      <td>10</td>\n",
       "    </tr>\n",
       "    <tr>\n",
       "      <th>16</th>\n",
       "      <td>sndr</td>\n",
       "      <td>0</td>\n",
       "      <td>0.004679</td>\n",
       "      <td>10</td>\n",
       "    </tr>\n",
       "    <tr>\n",
       "      <th>17</th>\n",
       "      <td>drl</td>\n",
       "      <td>0</td>\n",
       "      <td>0.386436</td>\n",
       "      <td>10</td>\n",
       "    </tr>\n",
       "    <tr>\n",
       "      <th>18</th>\n",
       "      <td>on_policy</td>\n",
       "      <td>0</td>\n",
       "      <td>0.000131</td>\n",
       "      <td>15</td>\n",
       "    </tr>\n",
       "    <tr>\n",
       "      <th>19</th>\n",
       "      <td>dm</td>\n",
       "      <td>0</td>\n",
       "      <td>0.307827</td>\n",
       "      <td>15</td>\n",
       "    </tr>\n",
       "    <tr>\n",
       "      <th>20</th>\n",
       "      <td>tis</td>\n",
       "      <td>0</td>\n",
       "      <td>0.383237</td>\n",
       "      <td>15</td>\n",
       "    </tr>\n",
       "    <tr>\n",
       "      <th>21</th>\n",
       "      <td>pdis</td>\n",
       "      <td>0</td>\n",
       "      <td>0.081899</td>\n",
       "      <td>15</td>\n",
       "    </tr>\n",
       "    <tr>\n",
       "      <th>22</th>\n",
       "      <td>dr</td>\n",
       "      <td>0</td>\n",
       "      <td>0.016505</td>\n",
       "      <td>15</td>\n",
       "    </tr>\n",
       "    <tr>\n",
       "      <th>23</th>\n",
       "      <td>sntis</td>\n",
       "      <td>0</td>\n",
       "      <td>0.001311</td>\n",
       "      <td>15</td>\n",
       "    </tr>\n",
       "    <tr>\n",
       "      <th>24</th>\n",
       "      <td>snpdis</td>\n",
       "      <td>0</td>\n",
       "      <td>0.000011</td>\n",
       "      <td>15</td>\n",
       "    </tr>\n",
       "    <tr>\n",
       "      <th>25</th>\n",
       "      <td>sndr</td>\n",
       "      <td>0</td>\n",
       "      <td>0.000071</td>\n",
       "      <td>15</td>\n",
       "    </tr>\n",
       "    <tr>\n",
       "      <th>26</th>\n",
       "      <td>drl</td>\n",
       "      <td>0</td>\n",
       "      <td>0.307893</td>\n",
       "      <td>15</td>\n",
       "    </tr>\n",
       "    <tr>\n",
       "      <th>27</th>\n",
       "      <td>on_policy</td>\n",
       "      <td>0</td>\n",
       "      <td>0.000116</td>\n",
       "      <td>20</td>\n",
       "    </tr>\n",
       "    <tr>\n",
       "      <th>28</th>\n",
       "      <td>dm</td>\n",
       "      <td>0</td>\n",
       "      <td>0.146412</td>\n",
       "      <td>20</td>\n",
       "    </tr>\n",
       "    <tr>\n",
       "      <th>29</th>\n",
       "      <td>tis</td>\n",
       "      <td>0</td>\n",
       "      <td>281.934825</td>\n",
       "      <td>20</td>\n",
       "    </tr>\n",
       "    <tr>\n",
       "      <th>30</th>\n",
       "      <td>pdis</td>\n",
       "      <td>0</td>\n",
       "      <td>45.834560</td>\n",
       "      <td>20</td>\n",
       "    </tr>\n",
       "    <tr>\n",
       "      <th>31</th>\n",
       "      <td>dr</td>\n",
       "      <td>0</td>\n",
       "      <td>1.501625</td>\n",
       "      <td>20</td>\n",
       "    </tr>\n",
       "    <tr>\n",
       "      <th>32</th>\n",
       "      <td>sntis</td>\n",
       "      <td>0</td>\n",
       "      <td>0.000315</td>\n",
       "      <td>20</td>\n",
       "    </tr>\n",
       "    <tr>\n",
       "      <th>33</th>\n",
       "      <td>snpdis</td>\n",
       "      <td>0</td>\n",
       "      <td>0.000226</td>\n",
       "      <td>20</td>\n",
       "    </tr>\n",
       "    <tr>\n",
       "      <th>34</th>\n",
       "      <td>sndr</td>\n",
       "      <td>0</td>\n",
       "      <td>0.003563</td>\n",
       "      <td>20</td>\n",
       "    </tr>\n",
       "    <tr>\n",
       "      <th>35</th>\n",
       "      <td>drl</td>\n",
       "      <td>0</td>\n",
       "      <td>0.146393</td>\n",
       "      <td>20</td>\n",
       "    </tr>\n",
       "    <tr>\n",
       "      <th>36</th>\n",
       "      <td>on_policy</td>\n",
       "      <td>0</td>\n",
       "      <td>0.007372</td>\n",
       "      <td>25</td>\n",
       "    </tr>\n",
       "    <tr>\n",
       "      <th>37</th>\n",
       "      <td>dm</td>\n",
       "      <td>0</td>\n",
       "      <td>0.060679</td>\n",
       "      <td>25</td>\n",
       "    </tr>\n",
       "    <tr>\n",
       "      <th>38</th>\n",
       "      <td>tis</td>\n",
       "      <td>0</td>\n",
       "      <td>1.477068</td>\n",
       "      <td>25</td>\n",
       "    </tr>\n",
       "    <tr>\n",
       "      <th>39</th>\n",
       "      <td>pdis</td>\n",
       "      <td>0</td>\n",
       "      <td>0.531345</td>\n",
       "      <td>25</td>\n",
       "    </tr>\n",
       "    <tr>\n",
       "      <th>40</th>\n",
       "      <td>dr</td>\n",
       "      <td>0</td>\n",
       "      <td>0.188324</td>\n",
       "      <td>25</td>\n",
       "    </tr>\n",
       "    <tr>\n",
       "      <th>41</th>\n",
       "      <td>sntis</td>\n",
       "      <td>0</td>\n",
       "      <td>0.038416</td>\n",
       "      <td>25</td>\n",
       "    </tr>\n",
       "    <tr>\n",
       "      <th>42</th>\n",
       "      <td>snpdis</td>\n",
       "      <td>0</td>\n",
       "      <td>0.017608</td>\n",
       "      <td>25</td>\n",
       "    </tr>\n",
       "    <tr>\n",
       "      <th>43</th>\n",
       "      <td>sndr</td>\n",
       "      <td>0</td>\n",
       "      <td>0.013566</td>\n",
       "      <td>25</td>\n",
       "    </tr>\n",
       "    <tr>\n",
       "      <th>44</th>\n",
       "      <td>drl</td>\n",
       "      <td>0</td>\n",
       "      <td>0.060708</td>\n",
       "      <td>25</td>\n",
       "    </tr>\n",
       "  </tbody>\n",
       "</table>\n",
       "</div>"
      ],
      "text/plain": [
       "        index  level_1    variance  n_actions\n",
       "0   on_policy        0    0.000192          5\n",
       "1          dm        0    0.012965          5\n",
       "2         tis        0    1.831972          5\n",
       "3        pdis        0    5.579181          5\n",
       "4          dr        0    3.875301          5\n",
       "5       sntis        0    0.033592          5\n",
       "6      snpdis        0    0.001176          5\n",
       "7        sndr        0    0.001084          5\n",
       "8         drl        0    0.012965          5\n",
       "9   on_policy        0    0.001114         10\n",
       "10         dm        0    0.386416         10\n",
       "11        tis        0   10.365532         10\n",
       "12       pdis        0    1.490524         10\n",
       "13         dr        0    0.034727         10\n",
       "14      sntis        0    0.003407         10\n",
       "15     snpdis        0    0.000732         10\n",
       "16       sndr        0    0.004679         10\n",
       "17        drl        0    0.386436         10\n",
       "18  on_policy        0    0.000131         15\n",
       "19         dm        0    0.307827         15\n",
       "20        tis        0    0.383237         15\n",
       "21       pdis        0    0.081899         15\n",
       "22         dr        0    0.016505         15\n",
       "23      sntis        0    0.001311         15\n",
       "24     snpdis        0    0.000011         15\n",
       "25       sndr        0    0.000071         15\n",
       "26        drl        0    0.307893         15\n",
       "27  on_policy        0    0.000116         20\n",
       "28         dm        0    0.146412         20\n",
       "29        tis        0  281.934825         20\n",
       "30       pdis        0   45.834560         20\n",
       "31         dr        0    1.501625         20\n",
       "32      sntis        0    0.000315         20\n",
       "33     snpdis        0    0.000226         20\n",
       "34       sndr        0    0.003563         20\n",
       "35        drl        0    0.146393         20\n",
       "36  on_policy        0    0.007372         25\n",
       "37         dm        0    0.060679         25\n",
       "38        tis        0    1.477068         25\n",
       "39       pdis        0    0.531345         25\n",
       "40         dr        0    0.188324         25\n",
       "41      sntis        0    0.038416         25\n",
       "42     snpdis        0    0.017608         25\n",
       "43       sndr        0    0.013566         25\n",
       "44        drl        0    0.060708         25"
      ]
     },
     "execution_count": 17,
     "metadata": {},
     "output_type": "execute_result"
    }
   ],
   "source": [
    "variance_result_df"
   ]
  },
  {
   "cell_type": "code",
   "execution_count": 18,
   "metadata": {},
   "outputs": [
    {
     "name": "stderr",
     "output_type": "stream",
     "text": [
      "/var/folders/48/ly7vft814qv_x6krlfw5s8_c0000gn/T/ipykernel_17161/1318210698.py:7: FutureWarning: \n",
      "\n",
      "The `ci` parameter is deprecated. Use `errorbar=None` for the same effect.\n",
      "\n",
      "  sns.lineplot(\n"
     ]
    },
    {
     "data": {
      "image/png": "[encoded data removed]",
      "text/plain": [
       "<Figure size 1000x700 with 1 Axes>"
      ]
     },
     "metadata": {},
     "output_type": "display_data"
    }
   ],
   "source": [
    "# figure configs\n",
    "# query = \"(est == 'DM' or est == 'IPS') and num_data <= 6400\"\n",
    "xlabels = [5, 10, 20]\n",
    "\n",
    "plt.style.use('ggplot')\n",
    "fig, ax = plt.subplots(figsize=(10, 7), tight_layout=True)\n",
    "sns.lineplot(\n",
    "    linewidth=5,\n",
    "    dashes=False,\n",
    "    legend=False,\n",
    "    x=\"n_actions\",\n",
    "    y=\"variance\",\n",
    "    hue=\"index\",\n",
    "    ax=ax,\n",
    "    data=variance_result_df.query(\"(index == 'dm' or index == 'pdis')\"),\n",
    "    ci=None,\n",
    ")\n",
    "# title and legend\n",
    "ax.legend([\"DM\", \"PDIS\"], loc=\"upper right\", fontsize=25)\n",
    "# yaxis\n",
    "# ax.set_yscale(\"log\")\n",
    "ax.set_ylabel(\"variance\", fontsize=25)\n",
    "ax.tick_params(axis=\"y\", labelsize=15)\n",
    "ax.yaxis.set_label_coords(-0.08, 0.5)\n",
    "# xaxis\n",
    "ax.set_xscale(\"log\")\n",
    "ax.set_xlabel(\"number of actions\", fontsize=25)\n",
    "ax.set_xticks(xlabels)\n",
    "ax.set_xticklabels(xlabels, fontsize=15)\n",
    "ax.xaxis.set_label_coords(0.5, -0.1)"
   ]
  },
  {
   "cell_type": "code",
   "execution_count": 33,
   "metadata": {},
   "outputs": [
    {
     "name": "stderr",
     "output_type": "stream",
     "text": [
      "/var/folders/48/ly7vft814qv_x6krlfw5s8_c0000gn/T/ipykernel_17161/1914195480.py:7: FutureWarning: \n",
      "\n",
      "The `ci` parameter is deprecated. Use `errorbar=None` for the same effect.\n",
      "\n",
      "  sns.lineplot(\n"
     ]
    },
    {
     "data": {
      "image/png": "[encoded data removed]",
      "text/plain": [
       "<Figure size 1000x700 with 1 Axes>"
      ]
     },
     "metadata": {},
     "output_type": "display_data"
    }
   ],
   "source": [
    "# figure configs\n",
    "# query = \"(est == 'DM' or est == 'IPS') and num_data <= 6400\"\n",
    "xlabels = [5, 10, 20]\n",
    "\n",
    "plt.style.use('ggplot')\n",
    "fig, ax = plt.subplots(figsize=(10, 7), tight_layout=True)\n",
    "sns.lineplot(\n",
    "    linewidth=5,\n",
    "    dashes=False,\n",
    "    legend=False,\n",
    "    x=\"n_actions\",\n",
    "    y=\"variance\",\n",
    "    hue=\"index\",\n",
    "    ax=ax,\n",
    "    data=variance_result_df.query(\"(index == 'dm' or index == 'tis' or index == 'pdis' or index == 'dr')\"),\n",
    "    ci=None,\n",
    ")\n",
    "# title and legend\n",
    "ax.legend([\"DM\", \"TIS\", \"PDIS\", \"DR\"], loc=\"upper right\", fontsize=25)\n",
    "# yaxis\n",
    "# ax.set_yscale(\"log\")\n",
    "ax.set_ylabel(\"variance\", fontsize=25)\n",
    "ax.tick_params(axis=\"y\", labelsize=15)\n",
    "ax.yaxis.set_label_coords(-0.08, 0.5)\n",
    "# xaxis\n",
    "ax.set_xscale(\"log\")\n",
    "ax.set_xlabel(\"number of actions\", fontsize=25)\n",
    "ax.set_xticks(xlabels)\n",
    "ax.set_xticklabels(xlabels, fontsize=15)\n",
    "ax.xaxis.set_label_coords(0.5, -0.1)"
   ]
  },
  {
   "cell_type": "code",
   "execution_count": 1,
   "metadata": {},
   "outputs": [
    {
     "ename": "NameError",
     "evalue": "name 'plt' is not defined",
     "output_type": "error",
     "traceback": [
      "\u001b[0;31m---------------------------------------------------------------------------\u001b[0m",
      "\u001b[0;31mNameError\u001b[0m                                 Traceback (most recent call last)",
      "\u001b[1;32m/Users/ren/dev/ofrl/tutorial/cql_action_space.ipynb Cell 23\u001b[0m in \u001b[0;36m5\n\u001b[1;32m      <a href='vscode-notebook-cell:/Users/ren/dev/ofrl/tutorial/cql_action_space.ipynb#X31sZmlsZQ%3D%3D?line=0'>1</a>\u001b[0m \u001b[39m# figure configs\u001b[39;00m\n\u001b[1;32m      <a href='vscode-notebook-cell:/Users/ren/dev/ofrl/tutorial/cql_action_space.ipynb#X31sZmlsZQ%3D%3D?line=1'>2</a>\u001b[0m \u001b[39m# query = \"(est == 'DM' or est == 'IPS') and num_data <= 6400\"\u001b[39;00m\n\u001b[1;32m      <a href='vscode-notebook-cell:/Users/ren/dev/ofrl/tutorial/cql_action_space.ipynb#X31sZmlsZQ%3D%3D?line=2'>3</a>\u001b[0m xlabels \u001b[39m=\u001b[39m [\u001b[39m5\u001b[39m, \u001b[39m10\u001b[39m, \u001b[39m20\u001b[39m]\n\u001b[0;32m----> <a href='vscode-notebook-cell:/Users/ren/dev/ofrl/tutorial/cql_action_space.ipynb#X31sZmlsZQ%3D%3D?line=4'>5</a>\u001b[0m plt\u001b[39m.\u001b[39mstyle\u001b[39m.\u001b[39muse(\u001b[39m'\u001b[39m\u001b[39mggplot\u001b[39m\u001b[39m'\u001b[39m)\n\u001b[1;32m      <a href='vscode-notebook-cell:/Users/ren/dev/ofrl/tutorial/cql_action_space.ipynb#X31sZmlsZQ%3D%3D?line=5'>6</a>\u001b[0m fig, ax \u001b[39m=\u001b[39m plt\u001b[39m.\u001b[39msubplots(figsize\u001b[39m=\u001b[39m(\u001b[39m10\u001b[39m, \u001b[39m7\u001b[39m), tight_layout\u001b[39m=\u001b[39m\u001b[39mTrue\u001b[39;00m)\n\u001b[1;32m      <a href='vscode-notebook-cell:/Users/ren/dev/ofrl/tutorial/cql_action_space.ipynb#X31sZmlsZQ%3D%3D?line=6'>7</a>\u001b[0m sns\u001b[39m.\u001b[39mlineplot(\n\u001b[1;32m      <a href='vscode-notebook-cell:/Users/ren/dev/ofrl/tutorial/cql_action_space.ipynb#X31sZmlsZQ%3D%3D?line=7'>8</a>\u001b[0m     linewidth\u001b[39m=\u001b[39m\u001b[39m5\u001b[39m,\n\u001b[1;32m      <a href='vscode-notebook-cell:/Users/ren/dev/ofrl/tutorial/cql_action_space.ipynb#X31sZmlsZQ%3D%3D?line=8'>9</a>\u001b[0m     dashes\u001b[39m=\u001b[39m\u001b[39mFalse\u001b[39;00m,\n\u001b[0;32m   (...)\u001b[0m\n\u001b[1;32m     <a href='vscode-notebook-cell:/Users/ren/dev/ofrl/tutorial/cql_action_space.ipynb#X31sZmlsZQ%3D%3D?line=15'>16</a>\u001b[0m     ci\u001b[39m=\u001b[39m\u001b[39mNone\u001b[39;00m,\n\u001b[1;32m     <a href='vscode-notebook-cell:/Users/ren/dev/ofrl/tutorial/cql_action_space.ipynb#X31sZmlsZQ%3D%3D?line=16'>17</a>\u001b[0m )\n",
      "\u001b[0;31mNameError\u001b[0m: name 'plt' is not defined"
     ]
    }
   ],
   "source": [
    "# figure configs\n",
    "# query = \"(est == 'DM' or est == 'IPS') and num_data <= 6400\"\n",
    "xlabels = [5, 10, 20]\n",
    "\n",
    "plt.style.use('ggplot')\n",
    "fig, ax = plt.subplots(figsize=(10, 7), tight_layout=True)\n",
    "sns.lineplot(\n",
    "    linewidth=5,\n",
    "    dashes=False,\n",
    "    legend=False,\n",
    "    x=\"n_actions\",\n",
    "    y=\"mse\",\n",
    "    hue=\"index\",\n",
    "    ax=ax,\n",
    "    data=mse_result_df.query(\"(index == 'dm' or index == 'tis' or index == 'pdis' or index == 'dr')\"),\n",
    "    ci=None,\n",
    ")\n",
    "# title and legend\n",
    "ax.legend([\"DM\", \"TIS\", \"PDIS\", \"DR\"], loc=\"upper right\", fontsize=25)\n",
    "# yaxis\n",
    "# ax.set_yscale(\"log\")\n",
    "ax.set_ylabel(\"mse\", fontsize=25)\n",
    "ax.tick_params(axis=\"y\", labelsize=15)\n",
    "ax.yaxis.set_label_coords(-0.08, 0.5)\n",
    "# xaxis\n",
    "ax.set_xscale(\"log\")\n",
    "ax.set_xlabel(\"number of actions\", fontsize=25)\n",
    "ax.set_xticks(xlabels)\n",
    "ax.set_xticklabels(xlabels, fontsize=15)\n",
    "ax.xaxis.set_label_coords(0.5, -0.1)"
   ]
  },
  {
   "cell_type": "code",
   "execution_count": null,
   "metadata": {},
   "outputs": [],
   "source": []
  }
 ],
 "metadata": {
  "kernelspec": {
   "display_name": "Python 3",
   "language": "python",
   "name": "python3"
  },
  "language_info": {
   "codemirror_mode": {
    "name": "ipython",
    "version": 3
   },
   "file_extension": ".py",
   "mimetype": "text/x-python",
   "name": "python",
   "nbconvert_exporter": "python",
   "pygments_lexer": "ipython3",
   "version": "3.10.6"
  },
  "orig_nbformat": 4,
  "vscode": {
   "interpreter": {
    "hash": "70404ee114725fce8ed9e697d67827f8546c678889944e6d695790702cbfe1f5"
   }
  }
 },
 "nbformat": 4,
 "nbformat_minor": 2
}
