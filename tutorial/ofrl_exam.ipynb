{
 "cells": [
  {
   "attachments": {},
   "cell_type": "markdown",
   "metadata": {},
   "source": [
    "# Tutorial"
   ]
  },
  {
   "cell_type": "code",
   "execution_count": 1,
   "metadata": {},
   "outputs": [],
   "source": [
    "# delete later\n",
    "%load_ext autoreload\n",
    "%autoreload 2"
   ]
  },
  {
   "cell_type": "code",
   "execution_count": 2,
   "metadata": {},
   "outputs": [],
   "source": [
    "# delete later\n",
    "import warnings\n",
    "warnings.simplefilter('ignore')"
   ]
  },
  {
   "cell_type": "code",
   "execution_count": 3,
   "metadata": {},
   "outputs": [],
   "source": [
    "# delete later\n",
    "import sys\n",
    "sys.path.append('../')\n",
    "sys.path.append('../../')"
   ]
  },
  {
   "cell_type": "code",
   "execution_count": 4,
   "metadata": {},
   "outputs": [],
   "source": [
    "# import OFRL modules\n",
    "import ofrl\n",
    "from rtbgym import RTBEnv, CustomizedRTBEnv\n",
    "from ofrl.dataset import SyntheticDataset\n",
    "from ofrl.policy import OnlineHead, ContinuousEvalHead\n",
    "from ofrl.policy import ContinuousTruncatedGaussianHead as TruncatedGaussianHead\n",
    "from ofrl.ope.online import (\n",
    "    calc_on_policy_policy_value,\n",
    "    visualize_on_policy_policy_value,\n",
    ")\n",
    "from ofrl.utils import MinMaxScaler, MinMaxActionScaler\n",
    "\n",
    "# import d3rlpy algorithms\n",
    "from d3rlpy.algos import RandomPolicy\n",
    "# from d3rlpy.preprocessing import MinMaxScaler, MinMaxActionScaler\n",
    "from ofrl.utils import MinMaxScaler, MinMaxActionScaler\n",
    "\n",
    "# import from other libraries\n",
    "import gym\n",
    "import torch\n",
    "from sklearn.model_selection import train_test_split"
   ]
  },
  {
   "cell_type": "code",
   "execution_count": 5,
   "metadata": {},
   "outputs": [],
   "source": [
    "import pickle\n",
    "from glob import glob\n",
    "from tqdm import tqdm\n",
    "\n",
    "import numpy as np\n",
    "import pandas as pd\n",
    "\n",
    "import matplotlib.pyplot as plt\n",
    "import seaborn as sns\n",
    "\n",
    "%matplotlib inline"
   ]
  },
  {
   "cell_type": "code",
   "execution_count": 6,
   "metadata": {},
   "outputs": [
    {
     "name": "stdout",
     "output_type": "stream",
     "text": [
      "0.0.0\n"
     ]
    }
   ],
   "source": [
    "# version\n",
    "print(ofrl.__version__)"
   ]
  },
  {
   "cell_type": "code",
   "execution_count": 7,
   "metadata": {},
   "outputs": [],
   "source": [
    "# set random state\n",
    "random_state = 12345"
   ]
  },
  {
   "cell_type": "code",
   "execution_count": 8,
   "metadata": {},
   "outputs": [],
   "source": [
    "# log directory\n",
    "from pathlib import Path\n",
    "Path(\"logs/\").mkdir(exist_ok=True)"
   ]
  },
  {
   "attachments": {},
   "cell_type": "markdown",
   "metadata": {},
   "source": [
    "## 1. Setup, Synthetic Data Generation"
   ]
  },
  {
   "cell_type": "code",
   "execution_count": 9,
   "metadata": {},
   "outputs": [],
   "source": [
    "# standardized environment for discrete action\n",
    "env = gym.make(\"RTBEnv-continuous-v0\")"
   ]
  },
  {
   "cell_type": "code",
   "execution_count": 10,
   "metadata": {},
   "outputs": [],
   "source": [
    "# for api compatibility to d3rlpy\n",
    "from ofrl.utils import OldGymAPIWrapper\n",
    "env_ = OldGymAPIWrapper(env)"
   ]
  },
  {
   "cell_type": "code",
   "execution_count": 11,
   "metadata": {},
   "outputs": [],
   "source": [
    "# behavior policy\n",
    "from d3rlpy.algos import SAC\n",
    "from d3rlpy.models.encoders import VectorEncoderFactory\n",
    "from d3rlpy.models.q_functions import MeanQFunctionFactory\n",
    "from d3rlpy.online.buffers import ReplayBuffer\n",
    "\n",
    "# model\n",
    "sac = SAC(\n",
    "    actor_encoder_factory=VectorEncoderFactory(hidden_units=[30, 30]),\n",
    "    critic_encoder_factory=VectorEncoderFactory(hidden_units=[30, 30]),\n",
    "    q_func_factory=MeanQFunctionFactory(),\n",
    "    use_gpu=torch.cuda.is_available(),\n",
    "    action_scaler=MinMaxActionScaler(\n",
    "        minimum=env_.action_space.low,   # 0.1\n",
    "        maximum=env_.action_space.high,  # 10\n",
    "    ),\n",
    ")\n",
    "# setup replay buffer\n",
    "buffer = ReplayBuffer(\n",
    "    maxlen=10000,\n",
    "    env=env_,\n",
    ")"
   ]
  },
  {
   "cell_type": "code",
   "execution_count": 12,
   "metadata": {},
   "outputs": [
    {
     "name": "stdout",
     "output_type": "stream",
     "text": [
      "2023-03-16 00:40.30 [info     ] Directory is created at d3rlpy_logs/SAC_online_20230316004030\n",
      "2023-03-16 00:40.30 [debug    ] Fitting action scaler...       action_scler=min_max\n",
      "2023-03-16 00:40.30 [debug    ] Building model...\n",
      "2023-03-16 00:40.30 [debug    ] Model has been built.\n",
      "2023-03-16 00:40.30 [info     ] Parameters are saved to d3rlpy_logs/SAC_online_20230316004030/params.json params={'action_scaler': {'type': 'min_max', 'params': {'minimum': array([0.1]), 'maximum': array([10.])}}, 'actor_encoder_factory': {'type': 'vector', 'params': {'hidden_units': [30, 30], 'activation': 'relu', 'use_batch_norm': False, 'dropout_rate': None, 'use_dense': False}}, 'actor_learning_rate': 0.0003, 'actor_optim_factory': {'optim_cls': 'Adam', 'betas': (0.9, 0.999), 'eps': 1e-08, 'weight_decay': 0, 'amsgrad': False}, 'batch_size': 256, 'critic_encoder_factory': {'type': 'vector', 'params': {'hidden_units': [30, 30], 'activation': 'relu', 'use_batch_norm': False, 'dropout_rate': None, 'use_dense': False}}, 'critic_learning_rate': 0.0003, 'critic_optim_factory': {'optim_cls': 'Adam', 'betas': (0.9, 0.999), 'eps': 1e-08, 'weight_decay': 0, 'amsgrad': False}, 'gamma': 0.99, 'generated_maxlen': 100000, 'initial_temperature': 1.0, 'n_critics': 2, 'n_frames': 1, 'n_steps': 1, 'q_func_factory': {'type': 'mean', 'params': {'share_encoder': False}}, 'real_ratio': 1.0, 'reward_scaler': None, 'scaler': None, 'tau': 0.005, 'temp_learning_rate': 0.0003, 'temp_optim_factory': {'optim_cls': 'Adam', 'betas': (0.9, 0.999), 'eps': 1e-08, 'weight_decay': 0, 'amsgrad': False}, 'use_gpu': None, 'algorithm': 'SAC', 'observation_shape': (7,), 'action_size': 1}\n"
     ]
    },
    {
     "data": {
      "application/vnd.jupyter.widget-view+json": {
       "model_id": "ce97a4dffaa84869ba0f8cbcfbc4531c",
       "version_major": 2,
       "version_minor": 0
      },
      "text/plain": [
       "  0%|          | 0/1000 [00:00<?, ?it/s]"
      ]
     },
     "metadata": {},
     "output_type": "display_data"
    },
    {
     "name": "stdout",
     "output_type": "stream",
     "text": [
      "2023-03-16 00:40.30 [info     ] Model parameters are saved to d3rlpy_logs/SAC_online_20230316004030/model_10.pt\n",
      "2023-03-16 00:40.30 [info     ] SAC_online_20230316004030: epoch=1 step=10 epoch=1 metrics={'time_inference': 0.0007459878921508789, 'time_environment_step': 0.0003802776336669922, 'time_step': 0.0011490345001220702, 'rollout_return': 19.0, 'evaluation': 15.5} step=10\n",
      "2023-03-16 00:40.30 [info     ] Model parameters are saved to d3rlpy_logs/SAC_online_20230316004030/model_20.pt\n",
      "2023-03-16 00:40.30 [info     ] SAC_online_20230316004030: epoch=2 step=20 epoch=2 metrics={'time_inference': 0.00031685829162597656, 'time_environment_step': 0.00029556751251220704, 'time_step': 0.0006329298019409179, 'rollout_return': 34.0, 'evaluation': 17.3} step=20\n",
      "2023-03-16 00:40.30 [info     ] Model parameters are saved to d3rlpy_logs/SAC_online_20230316004030/model_30.pt\n",
      "2023-03-16 00:40.30 [info     ] SAC_online_20230316004030: epoch=3 step=30 epoch=3 metrics={'time_inference': 0.0003911495208740234, 'time_environment_step': 0.00027444362640380857, 'time_step': 0.0006829500198364258, 'rollout_return': 28.0, 'evaluation': 14.9} step=30\n",
      "2023-03-16 00:40.30 [info     ] Model parameters are saved to d3rlpy_logs/SAC_online_20230316004030/model_40.pt\n",
      "2023-03-16 00:40.30 [info     ] SAC_online_20230316004030: epoch=4 step=40 epoch=4 metrics={'time_inference': 0.00034563541412353517, 'time_environment_step': 0.0002623081207275391, 'time_step': 0.0006243705749511719, 'rollout_return': 11.0, 'evaluation': 16.0} step=40\n",
      "2023-03-16 00:40.31 [info     ] Model parameters are saved to d3rlpy_logs/SAC_online_20230316004030/model_50.pt\n",
      "2023-03-16 00:40.31 [info     ] SAC_online_20230316004030: epoch=5 step=50 epoch=5 metrics={'time_inference': 0.0003478765487670898, 'time_environment_step': 0.00026700496673583987, 'time_step': 0.0006314992904663086, 'rollout_return': 25.0, 'evaluation': 15.7} step=50\n",
      "2023-03-16 00:40.31 [info     ] Model parameters are saved to d3rlpy_logs/SAC_online_20230316004030/model_60.pt\n",
      "2023-03-16 00:40.31 [info     ] SAC_online_20230316004030: epoch=6 step=60 epoch=6 metrics={'time_inference': 0.0003307104110717773, 'time_environment_step': 0.00026640892028808596, 'time_step': 0.0006139755249023437, 'rollout_return': 32.0, 'evaluation': 16.2} step=60\n",
      "2023-03-16 00:40.31 [info     ] Model parameters are saved to d3rlpy_logs/SAC_online_20230316004030/model_70.pt\n",
      "2023-03-16 00:40.31 [info     ] SAC_online_20230316004030: epoch=7 step=70 epoch=7 metrics={'time_inference': 0.0003557443618774414, 'time_environment_step': 0.00027003288269042967, 'time_step': 0.0006424188613891602, 'rollout_return': 21.0, 'evaluation': 15.3} step=70\n",
      "2023-03-16 00:40.31 [info     ] Model parameters are saved to d3rlpy_logs/SAC_online_20230316004030/model_80.pt\n",
      "2023-03-16 00:40.31 [info     ] SAC_online_20230316004030: epoch=8 step=80 epoch=8 metrics={'time_inference': 0.00028088092803955076, 'time_environment_step': 0.0002598285675048828, 'time_step': 0.0005557537078857422, 'rollout_return': 22.0, 'evaluation': 14.7} step=80\n",
      "2023-03-16 00:40.31 [info     ] Model parameters are saved to d3rlpy_logs/SAC_online_20230316004030/model_90.pt\n",
      "2023-03-16 00:40.31 [info     ] SAC_online_20230316004030: epoch=9 step=90 epoch=9 metrics={'time_inference': 0.0003204345703125, 'time_environment_step': 0.0002686023712158203, 'time_step': 0.0006071090698242188, 'rollout_return': 25.0, 'evaluation': 17.4} step=90\n",
      "2023-03-16 00:40.31 [info     ] Model parameters are saved to d3rlpy_logs/SAC_online_20230316004030/model_100.pt\n",
      "2023-03-16 00:40.31 [info     ] SAC_online_20230316004030: epoch=10 step=100 epoch=10 metrics={'time_inference': 0.00035731792449951173, 'time_environment_step': 0.0002790689468383789, 'time_step': 0.0006575345993041992, 'rollout_return': 20.0, 'evaluation': 12.0} step=100\n",
      "2023-03-16 00:40.31 [info     ] Model parameters are saved to d3rlpy_logs/SAC_online_20230316004030/model_110.pt\n",
      "2023-03-16 00:40.31 [info     ] SAC_online_20230316004030: epoch=11 step=110 epoch=11 metrics={'time_inference': 0.0003697633743286133, 'time_environment_step': 0.00030002593994140627, 'time_step': 0.0006915569305419922, 'rollout_return': 30.0, 'evaluation': 16.0} step=110\n",
      "2023-03-16 00:40.31 [info     ] Model parameters are saved to d3rlpy_logs/SAC_online_20230316004030/model_120.pt\n",
      "2023-03-16 00:40.31 [info     ] SAC_online_20230316004030: epoch=12 step=120 epoch=12 metrics={'time_inference': 0.00033822059631347654, 'time_environment_step': 0.000282597541809082, 'time_step': 0.0006391048431396484, 'rollout_return': 28.0, 'evaluation': 17.2} step=120\n",
      "2023-03-16 00:40.31 [info     ] Model parameters are saved to d3rlpy_logs/SAC_online_20230316004030/model_130.pt\n",
      "2023-03-16 00:40.31 [info     ] SAC_online_20230316004030: epoch=13 step=130 epoch=13 metrics={'time_inference': 0.0004426479339599609, 'time_environment_step': 0.0005633115768432617, 'time_step': 0.0010331153869628906, 'rollout_return': 34.0, 'evaluation': 16.5} step=130\n",
      "2023-03-16 00:40.31 [info     ] Model parameters are saved to d3rlpy_logs/SAC_online_20230316004030/model_140.pt\n",
      "2023-03-16 00:40.31 [info     ] SAC_online_20230316004030: epoch=14 step=140 epoch=14 metrics={'time_inference': 0.00029909610748291016, 'time_environment_step': 0.0002620220184326172, 'time_step': 0.0005776882171630859, 'rollout_return': 17.0, 'evaluation': 18.7} step=140\n",
      "2023-03-16 00:40.31 [info     ] Model parameters are saved to d3rlpy_logs/SAC_online_20230316004030/model_150.pt\n",
      "2023-03-16 00:40.31 [info     ] SAC_online_20230316004030: epoch=15 step=150 epoch=15 metrics={'time_inference': 0.0004249095916748047, 'time_environment_step': 0.0003711700439453125, 'time_step': 0.000821995735168457, 'rollout_return': 17.0, 'evaluation': 14.9} step=150\n",
      "2023-03-16 00:40.31 [info     ] Model parameters are saved to d3rlpy_logs/SAC_online_20230316004030/model_160.pt\n",
      "2023-03-16 00:40.31 [info     ] SAC_online_20230316004030: epoch=16 step=160 epoch=16 metrics={'time_inference': 0.00033948421478271487, 'time_environment_step': 0.0002622842788696289, 'time_step': 0.0006194591522216796, 'rollout_return': 22.0, 'evaluation': 15.0} step=160\n",
      "2023-03-16 00:40.31 [info     ] Model parameters are saved to d3rlpy_logs/SAC_online_20230316004030/model_170.pt\n",
      "2023-03-16 00:40.31 [info     ] SAC_online_20230316004030: epoch=17 step=170 epoch=17 metrics={'time_inference': 0.00030760765075683595, 'time_environment_step': 0.0002688169479370117, 'time_step': 0.0005932331085205078, 'rollout_return': 22.0, 'evaluation': 15.7} step=170\n",
      "2023-03-16 00:40.31 [info     ] Model parameters are saved to d3rlpy_logs/SAC_online_20230316004030/model_180.pt\n",
      "2023-03-16 00:40.31 [info     ] SAC_online_20230316004030: epoch=18 step=180 epoch=18 metrics={'time_inference': 0.0003037214279174805, 'time_environment_step': 0.0002696752548217773, 'time_step': 0.0005912065505981445, 'rollout_return': 25.0, 'evaluation': 17.7} step=180\n",
      "2023-03-16 00:40.31 [info     ] Model parameters are saved to d3rlpy_logs/SAC_online_20230316004030/model_190.pt\n",
      "2023-03-16 00:40.31 [info     ] SAC_online_20230316004030: epoch=19 step=190 epoch=19 metrics={'time_inference': 0.00035707950592041017, 'time_environment_step': 0.00031790733337402346, 'time_step': 0.0006961822509765625, 'rollout_return': 25.0, 'evaluation': 14.6} step=190\n",
      "2023-03-16 00:40.31 [info     ] Model parameters are saved to d3rlpy_logs/SAC_online_20230316004030/model_200.pt\n",
      "2023-03-16 00:40.31 [info     ] SAC_online_20230316004030: epoch=20 step=200 epoch=20 metrics={'time_inference': 0.0004960536956787109, 'time_environment_step': 0.00037086009979248047, 'time_step': 0.0009061336517333984, 'rollout_return': 27.0, 'evaluation': 14.9} step=200\n",
      "2023-03-16 00:40.31 [info     ] Model parameters are saved to d3rlpy_logs/SAC_online_20230316004030/model_210.pt\n",
      "2023-03-16 00:40.31 [info     ] SAC_online_20230316004030: epoch=21 step=210 epoch=21 metrics={'time_inference': 0.0003976345062255859, 'time_environment_step': 0.0002919673919677734, 'time_step': 0.0007125139236450195, 'rollout_return': 28.0, 'evaluation': 15.6} step=210\n",
      "2023-03-16 00:40.31 [info     ] Model parameters are saved to d3rlpy_logs/SAC_online_20230316004030/model_220.pt\n",
      "2023-03-16 00:40.31 [info     ] SAC_online_20230316004030: epoch=22 step=220 epoch=22 metrics={'time_inference': 0.00031480789184570315, 'time_environment_step': 0.0002866506576538086, 'time_step': 0.0006205320358276367, 'rollout_return': 21.0, 'evaluation': 16.1} step=220\n",
      "2023-03-16 00:40.31 [info     ] Model parameters are saved to d3rlpy_logs/SAC_online_20230316004030/model_230.pt\n",
      "2023-03-16 00:40.31 [info     ] SAC_online_20230316004030: epoch=23 step=230 epoch=23 metrics={'time_inference': 0.00029687881469726564, 'time_environment_step': 0.0002708911895751953, 'time_step': 0.0005840063095092773, 'rollout_return': 18.0, 'evaluation': 15.0} step=230\n",
      "2023-03-16 00:40.31 [info     ] Model parameters are saved to d3rlpy_logs/SAC_online_20230316004030/model_240.pt\n",
      "2023-03-16 00:40.31 [info     ] SAC_online_20230316004030: epoch=24 step=240 epoch=24 metrics={'time_inference': 0.0003424167633056641, 'time_environment_step': 0.0003252744674682617, 'time_step': 0.0006846189498901367, 'rollout_return': 24.0, 'evaluation': 16.2} step=240\n",
      "2023-03-16 00:40.31 [info     ] Model parameters are saved to d3rlpy_logs/SAC_online_20230316004030/model_250.pt\n",
      "2023-03-16 00:40.31 [info     ] SAC_online_20230316004030: epoch=25 step=250 epoch=25 metrics={'time_inference': 0.0003965854644775391, 'time_environment_step': 0.00027680397033691406, 'time_step': 0.0006942033767700195, 'rollout_return': 31.0, 'evaluation': 17.8} step=250\n",
      "2023-03-16 00:40.32 [info     ] Model parameters are saved to d3rlpy_logs/SAC_online_20230316004030/model_260.pt\n",
      "2023-03-16 00:40.32 [info     ] SAC_online_20230316004030: epoch=26 step=260 epoch=26 metrics={'time_inference': 0.00044419765472412107, 'time_environment_step': 0.00032756328582763674, 'time_step': 0.0036365509033203123, 'rollout_return': 22.0, 'time_sample_batch': 0.00013321638107299805, 'time_algorithm_update': 0.0069696903228759766, 'temp_loss': -9.196419596672058, 'temp': 1.0007365345954895, 'critic_loss': 125956.640625, 'actor_loss': 171.52126693725586, 'evaluation': 0.0} step=260\n",
      "2023-03-16 00:40.32 [info     ] Model parameters are saved to d3rlpy_logs/SAC_online_20230316004030/model_270.pt\n",
      "2023-03-16 00:40.32 [info     ] SAC_online_20230316004030: epoch=27 step=270 epoch=27 metrics={'time_inference': 0.00036771297454833983, 'time_environment_step': 0.0003647327423095703, 'time_sample_batch': 0.00010194778442382813, 'time_algorithm_update': 0.003098464012145996, 'temp_loss': -3.9921439409255983, 'temp': 1.0025794982910157, 'critic_loss': 103569.37421875, 'actor_loss': 138.04098205566407, 'time_step': 0.003962945938110351, 'rollout_return': 20.0, 'evaluation': 15.2} step=270\n",
      "2023-03-16 00:40.32 [info     ] Model parameters are saved to d3rlpy_logs/SAC_online_20230316004030/model_280.pt\n",
      "2023-03-16 00:40.32 [info     ] SAC_online_20230316004030: epoch=28 step=280 epoch=28 metrics={'time_inference': 0.000438690185546875, 'time_environment_step': 0.00030086040496826174, 'time_sample_batch': 8.780956268310547e-05, 'time_algorithm_update': 0.002889871597290039, 'temp_loss': -3.2974417924880983, 'temp': 1.0048749089241027, 'critic_loss': 77542.3109375, 'actor_loss': 104.78858032226563, 'time_step': 0.003743696212768555, 'rollout_return': 22.0, 'evaluation': 14.4} step=280\n",
      "2023-03-16 00:40.32 [info     ] Model parameters are saved to d3rlpy_logs/SAC_online_20230316004030/model_290.pt\n",
      "2023-03-16 00:40.32 [info     ] SAC_online_20230316004030: epoch=29 step=290 epoch=29 metrics={'time_inference': 0.0003022670745849609, 'time_environment_step': 0.00031068325042724607, 'time_sample_batch': 9.143352508544922e-05, 'time_algorithm_update': 0.0030401945114135742, 'temp_loss': -2.9710596799850464, 'temp': 1.0070039987564088, 'critic_loss': 60097.949609375, 'actor_loss': 88.58449096679688, 'time_step': 0.0037712335586547853, 'rollout_return': 21.0, 'evaluation': 12.8} step=290\n",
      "2023-03-16 00:40.32 [info     ] Model parameters are saved to d3rlpy_logs/SAC_online_20230316004030/model_300.pt\n",
      "2023-03-16 00:40.32 [info     ] SAC_online_20230316004030: epoch=30 step=300 epoch=30 metrics={'time_inference': 0.0004721403121948242, 'time_environment_step': 0.00033240318298339845, 'time_sample_batch': 9.980201721191407e-05, 'time_algorithm_update': 0.0029837846755981444, 'temp_loss': -2.957707142829895, 'temp': 1.009094512462616, 'critic_loss': 43944.114453125, 'actor_loss': 90.56439056396485, 'time_step': 0.003917860984802246, 'rollout_return': 25.0, 'evaluation': 14.9} step=300\n",
      "2023-03-16 00:40.32 [info     ] Model parameters are saved to d3rlpy_logs/SAC_online_20230316004030/model_310.pt\n",
      "2023-03-16 00:40.32 [info     ] SAC_online_20230316004030: epoch=31 step=310 epoch=31 metrics={'time_inference': 0.0003188610076904297, 'time_environment_step': 0.00033893585205078123, 'time_sample_batch': 9.868144989013671e-05, 'time_algorithm_update': 0.0030889511108398438, 'temp_loss': -2.519560384750366, 'temp': 1.0111794590950012, 'critic_loss': 36129.927734375, 'actor_loss': 103.81985702514649, 'time_step': 0.0038747310638427733, 'rollout_return': 22.0, 'evaluation': 14.1} step=310\n",
      "2023-03-16 00:40.32 [info     ] Model parameters are saved to d3rlpy_logs/SAC_online_20230316004030/model_320.pt\n",
      "2023-03-16 00:40.32 [info     ] SAC_online_20230316004030: epoch=32 step=320 epoch=32 metrics={'time_inference': 0.0007430076599121094, 'time_environment_step': 0.0007109880447387695, 'time_sample_batch': 0.00016825199127197267, 'time_algorithm_update': 0.006120157241821289, 'temp_loss': -2.843846297264099, 'temp': 1.0132461071014405, 'critic_loss': 27260.83828125, 'actor_loss': 115.80950241088867, 'time_step': 0.00780184268951416, 'rollout_return': 21.0, 'evaluation': 16.4} step=320\n",
      "2023-03-16 00:40.32 [info     ] Model parameters are saved to d3rlpy_logs/SAC_online_20230316004030/model_330.pt\n",
      "2023-03-16 00:40.32 [info     ] SAC_online_20230316004030: epoch=33 step=330 epoch=33 metrics={'time_inference': 0.00047092437744140626, 'time_environment_step': 0.000553750991821289, 'time_sample_batch': 0.00014405250549316407, 'time_algorithm_update': 0.004109072685241699, 'temp_loss': -2.8480196475982664, 'temp': 1.0154486656188966, 'critic_loss': 21888.8244140625, 'actor_loss': 121.19646301269532, 'time_step': 0.005319666862487793, 'rollout_return': 22.0, 'evaluation': 13.8} step=330\n",
      "2023-03-16 00:40.32 [info     ] Model parameters are saved to d3rlpy_logs/SAC_online_20230316004030/model_340.pt\n",
      "2023-03-16 00:40.32 [info     ] SAC_online_20230316004030: epoch=34 step=340 epoch=34 metrics={'time_inference': 0.0003939628601074219, 'time_environment_step': 0.00037789344787597656, 'time_sample_batch': 0.00012290477752685547, 'time_algorithm_update': 0.003641843795776367, 'temp_loss': -3.006304132938385, 'temp': 1.017812967300415, 'critic_loss': 17087.35810546875, 'actor_loss': 127.29469528198243, 'time_step': 0.004567408561706543, 'rollout_return': 28.0, 'evaluation': 13.6} step=340\n",
      "2023-03-16 00:40.32 [info     ] Model parameters are saved to d3rlpy_logs/SAC_online_20230316004030/model_350.pt\n",
      "2023-03-16 00:40.32 [info     ] SAC_online_20230316004030: epoch=35 step=350 epoch=35 metrics={'time_inference': 0.0004740238189697266, 'time_environment_step': 0.00041878223419189453, 'time_sample_batch': 0.00010266304016113282, 'time_algorithm_update': 0.003248929977416992, 'temp_loss': -2.890294671058655, 'temp': 1.0202740669250487, 'critic_loss': 13875.50732421875, 'actor_loss': 127.59784317016602, 'time_step': 0.004275465011596679, 'rollout_return': 36.0, 'evaluation': 14.8} step=350\n",
      "2023-03-16 00:40.33 [info     ] Model parameters are saved to d3rlpy_logs/SAC_online_20230316004030/model_360.pt\n",
      "2023-03-16 00:40.33 [info     ] SAC_online_20230316004030: epoch=36 step=360 epoch=36 metrics={'time_inference': 0.0003647804260253906, 'time_environment_step': 0.0004194736480712891, 'time_sample_batch': 0.00014336109161376952, 'time_algorithm_update': 0.003029608726501465, 'temp_loss': -2.9803239583969114, 'temp': 1.0227848887443542, 'critic_loss': 11339.2431640625, 'actor_loss': 130.02240753173828, 'time_step': 0.0039999961853027345, 'rollout_return': 26.0, 'evaluation': 12.9} step=360\n",
      "2023-03-16 00:40.33 [info     ] Model parameters are saved to d3rlpy_logs/SAC_online_20230316004030/model_370.pt\n",
      "2023-03-16 00:40.33 [info     ] SAC_online_20230316004030: epoch=37 step=370 epoch=37 metrics={'time_inference': 0.00041136741638183596, 'time_environment_step': 0.00039064884185791016, 'time_sample_batch': 0.00011610984802246094, 'time_algorithm_update': 0.0036781787872314452, 'temp_loss': -3.0240411520004273, 'temp': 1.0253734469413758, 'critic_loss': 10310.2826171875, 'actor_loss': 130.25088272094726, 'time_step': 0.004637765884399414, 'rollout_return': 25.0, 'evaluation': 15.5} step=370\n",
      "2023-03-16 00:40.33 [info     ] Model parameters are saved to d3rlpy_logs/SAC_online_20230316004030/model_380.pt\n",
      "2023-03-16 00:40.33 [info     ] SAC_online_20230316004030: epoch=38 step=380 epoch=38 metrics={'time_inference': 0.0005804777145385742, 'time_environment_step': 0.0006457328796386719, 'time_sample_batch': 0.00011851787567138672, 'time_algorithm_update': 0.0053452253341674805, 'temp_loss': -2.8827055931091308, 'temp': 1.0279864430427552, 'critic_loss': 9388.9087890625, 'actor_loss': 125.08950881958008, 'time_step': 0.006729578971862793, 'rollout_return': 26.0, 'evaluation': 14.2} step=380\n",
      "2023-03-16 00:40.33 [info     ] Model parameters are saved to d3rlpy_logs/SAC_online_20230316004030/model_390.pt\n",
      "2023-03-16 00:40.33 [info     ] SAC_online_20230316004030: epoch=39 step=390 epoch=39 metrics={'time_inference': 0.0003794193267822266, 'time_environment_step': 0.00042045116424560547, 'time_sample_batch': 0.00012142658233642578, 'time_algorithm_update': 0.0037255287170410156, 'temp_loss': -2.807392430305481, 'temp': 1.0305610299110413, 'critic_loss': 8845.07119140625, 'actor_loss': 126.23866195678711, 'time_step': 0.004682612419128418, 'rollout_return': 26.0, 'evaluation': 14.7} step=390\n",
      "2023-03-16 00:40.33 [info     ] Model parameters are saved to d3rlpy_logs/SAC_online_20230316004030/model_400.pt\n",
      "2023-03-16 00:40.33 [info     ] SAC_online_20230316004030: epoch=40 step=400 epoch=40 metrics={'time_inference': 0.00034792423248291015, 'time_environment_step': 0.00033462047576904297, 'time_sample_batch': 9.49859619140625e-05, 'time_algorithm_update': 0.0029733657836914064, 'temp_loss': -2.714560091495514, 'temp': 1.0331163167953492, 'critic_loss': 8703.579248046875, 'actor_loss': 127.86682968139648, 'time_step': 0.0037789344787597656, 'rollout_return': 28.0, 'evaluation': 13.4} step=400\n",
      "2023-03-16 00:40.33 [info     ] Model parameters are saved to d3rlpy_logs/SAC_online_20230316004030/model_410.pt\n",
      "2023-03-16 00:40.33 [info     ] SAC_online_20230316004030: epoch=41 step=410 epoch=41 metrics={'time_inference': 0.0003538608551025391, 'time_environment_step': 0.00031375885009765625, 'time_sample_batch': 9.329319000244141e-05, 'time_algorithm_update': 0.002861475944519043, 'temp_loss': -2.855621004104614, 'temp': 1.0356929302215576, 'critic_loss': 7712.73935546875, 'actor_loss': 126.81292572021485, 'time_step': 0.0036489248275756838, 'rollout_return': 27.0, 'evaluation': 13.6} step=410\n",
      "2023-03-16 00:40.33 [info     ] Model parameters are saved to d3rlpy_logs/SAC_online_20230316004030/model_420.pt\n",
      "2023-03-16 00:40.33 [info     ] SAC_online_20230316004030: epoch=42 step=420 epoch=42 metrics={'time_inference': 0.00033197402954101565, 'time_environment_step': 0.00030744075775146484, 'time_sample_batch': 9.109973907470704e-05, 'time_algorithm_update': 0.002870512008666992, 'temp_loss': -2.8080453872680664, 'temp': 1.0383582711219788, 'critic_loss': 7361.3470703125, 'actor_loss': 122.8367202758789, 'time_step': 0.003627157211303711, 'rollout_return': 25.0, 'evaluation': 15.2} step=420\n",
      "2023-03-16 00:40.33 [info     ] Model parameters are saved to d3rlpy_logs/SAC_online_20230316004030/model_430.pt\n",
      "2023-03-16 00:40.33 [info     ] SAC_online_20230316004030: epoch=43 step=430 epoch=43 metrics={'time_inference': 0.00037689208984375, 'time_environment_step': 0.0003304481506347656, 'time_sample_batch': 0.00010101795196533203, 'time_algorithm_update': 0.003017163276672363, 'temp_loss': -2.824264979362488, 'temp': 1.0410470366477966, 'critic_loss': 6887.080859375, 'actor_loss': 120.33951263427734, 'time_step': 0.0038545846939086912, 'rollout_return': 19.0, 'evaluation': 14.5} step=430\n",
      "2023-03-16 00:40.33 [info     ] Model parameters are saved to d3rlpy_logs/SAC_online_20230316004030/model_440.pt\n",
      "2023-03-16 00:40.33 [info     ] SAC_online_20230316004030: epoch=44 step=440 epoch=44 metrics={'time_inference': 0.00029439926147460936, 'time_environment_step': 0.00029969215393066406, 'time_sample_batch': 8.807182312011718e-05, 'time_algorithm_update': 0.0027703046798706055, 'temp_loss': -3.2153340339660645, 'temp': 1.0437819480895996, 'critic_loss': 6161.42421875, 'actor_loss': 120.85338134765625, 'time_step': 0.003478384017944336, 'rollout_return': 19.0, 'evaluation': 14.7} step=440\n",
      "2023-03-16 00:40.33 [info     ] Model parameters are saved to d3rlpy_logs/SAC_online_20230316004030/model_450.pt\n",
      "2023-03-16 00:40.33 [info     ] SAC_online_20230316004030: epoch=45 step=450 epoch=45 metrics={'time_inference': 0.00037403106689453124, 'time_environment_step': 0.00029866695404052735, 'time_sample_batch': 9.191036224365234e-05, 'time_algorithm_update': 0.0027367830276489257, 'temp_loss': -2.983331799507141, 'temp': 1.0466760635375976, 'critic_loss': 5789.54267578125, 'actor_loss': 117.49822158813477, 'time_step': 0.0035315036773681642, 'rollout_return': 28.0, 'evaluation': 13.8} step=450\n",
      "2023-03-16 00:40.33 [info     ] Model parameters are saved to d3rlpy_logs/SAC_online_20230316004030/model_460.pt\n",
      "2023-03-16 00:40.33 [info     ] SAC_online_20230316004030: epoch=46 step=460 epoch=46 metrics={'time_inference': 0.00039546489715576173, 'time_environment_step': 0.00029647350311279297, 'time_sample_batch': 9.36746597290039e-05, 'time_algorithm_update': 0.0028707265853881838, 'temp_loss': -2.844483733177185, 'temp': 1.0495777249336242, 'critic_loss': 5340.64638671875, 'actor_loss': 117.23232803344726, 'time_step': 0.003682851791381836, 'rollout_return': 28.0, 'evaluation': 14.2} step=460\n",
      "2023-03-16 00:40.33 [info     ] Model parameters are saved to d3rlpy_logs/SAC_online_20230316004030/model_470.pt\n",
      "2023-03-16 00:40.33 [info     ] SAC_online_20230316004030: epoch=47 step=470 epoch=47 metrics={'time_inference': 0.00033271312713623047, 'time_environment_step': 0.0002996206283569336, 'time_sample_batch': 9.417533874511719e-05, 'time_algorithm_update': 0.0029541969299316405, 'temp_loss': -3.319731330871582, 'temp': 1.0524952411651611, 'critic_loss': 5213.9189453125, 'actor_loss': 115.81845703125, 'time_step': 0.0037073373794555666, 'rollout_return': 25.0, 'evaluation': 13.5} step=470\n",
      "2023-03-16 00:40.34 [info     ] Model parameters are saved to d3rlpy_logs/SAC_online_20230316004030/model_480.pt\n",
      "2023-03-16 00:40.34 [info     ] SAC_online_20230316004030: epoch=48 step=480 epoch=48 metrics={'time_inference': 0.00033664703369140625, 'time_environment_step': 0.00030307769775390626, 'time_sample_batch': 9.3841552734375e-05, 'time_algorithm_update': 0.002866101264953613, 'temp_loss': -2.702372908592224, 'temp': 1.0554970264434815, 'critic_loss': 5226.997412109375, 'actor_loss': 114.76840438842774, 'time_step': 0.003626251220703125, 'rollout_return': 22.0, 'evaluation': 15.0} step=480\n",
      "2023-03-16 00:40.34 [info     ] Model parameters are saved to d3rlpy_logs/SAC_online_20230316004030/model_490.pt\n",
      "2023-03-16 00:40.34 [info     ] SAC_online_20230316004030: epoch=49 step=490 epoch=49 metrics={'time_inference': 0.0003857612609863281, 'time_environment_step': 0.0003023624420166016, 'time_sample_batch': 9.934902191162109e-05, 'time_algorithm_update': 0.002717113494873047, 'temp_loss': -2.8486061334609984, 'temp': 1.058350145816803, 'critic_loss': 4853.66455078125, 'actor_loss': 115.41604843139649, 'time_step': 0.0035311222076416016, 'rollout_return': 17.0, 'evaluation': 14.7} step=490\n",
      "2023-03-16 00:40.34 [info     ] Model parameters are saved to d3rlpy_logs/SAC_online_20230316004030/model_500.pt\n",
      "2023-03-16 00:40.34 [info     ] SAC_online_20230316004030: epoch=50 step=500 epoch=50 metrics={'time_inference': 0.0003601789474487305, 'time_environment_step': 0.0003042697906494141, 'time_sample_batch': 9.624958038330078e-05, 'time_algorithm_update': 0.0028910398483276366, 'temp_loss': -2.9417102575302123, 'temp': 1.061179518699646, 'critic_loss': 4861.076635742187, 'actor_loss': 115.98691177368164, 'time_step': 0.003677845001220703, 'rollout_return': 17.0, 'evaluation': 12.2} step=500\n",
      "2023-03-16 00:40.34 [info     ] Model parameters are saved to d3rlpy_logs/SAC_online_20230316004030/model_510.pt\n",
      "2023-03-16 00:40.34 [info     ] SAC_online_20230316004030: epoch=51 step=510 epoch=51 metrics={'time_inference': 0.00041821002960205076, 'time_environment_step': 0.00038299560546875, 'time_sample_batch': 0.00010700225830078125, 'time_algorithm_update': 0.0030468463897705077, 'temp_loss': -2.9982720375061036, 'temp': 1.0640919923782348, 'critic_loss': 4370.961865234375, 'actor_loss': 113.11598434448243, 'time_step': 0.003985476493835449, 'rollout_return': 24.0, 'evaluation': 16.6} step=510\n",
      "2023-03-16 00:40.34 [info     ] Model parameters are saved to d3rlpy_logs/SAC_online_20230316004030/model_520.pt\n",
      "2023-03-16 00:40.34 [info     ] SAC_online_20230316004030: epoch=52 step=520 epoch=52 metrics={'time_inference': 0.00035691261291503906, 'time_environment_step': 0.0003448963165283203, 'time_sample_batch': 0.0001168966293334961, 'time_algorithm_update': 0.003019571304321289, 'temp_loss': -2.9852471113204957, 'temp': 1.067054033279419, 'critic_loss': 4241.609130859375, 'actor_loss': 111.09772109985352, 'time_step': 0.0038684844970703126, 'rollout_return': 25.0, 'evaluation': 15.3} step=520\n",
      "2023-03-16 00:40.34 [info     ] Model parameters are saved to d3rlpy_logs/SAC_online_20230316004030/model_530.pt\n",
      "2023-03-16 00:40.34 [info     ] SAC_online_20230316004030: epoch=53 step=530 epoch=53 metrics={'time_inference': 0.0002922773361206055, 'time_environment_step': 0.00031239986419677733, 'time_sample_batch': 0.00010020732879638672, 'time_algorithm_update': 0.0027728557586669924, 'temp_loss': -2.8498942494392394, 'temp': 1.0700281500816344, 'critic_loss': 3869.7140869140626, 'actor_loss': 112.86666870117188, 'time_step': 0.0035035371780395507, 'rollout_return': 29.0, 'evaluation': 14.4} step=530\n",
      "2023-03-16 00:40.34 [info     ] Model parameters are saved to d3rlpy_logs/SAC_online_20230316004030/model_540.pt\n",
      "2023-03-16 00:40.34 [info     ] SAC_online_20230316004030: epoch=54 step=540 epoch=54 metrics={'time_inference': 0.00042481422424316405, 'time_environment_step': 0.00030791759490966797, 'time_sample_batch': 9.851455688476562e-05, 'time_algorithm_update': 0.0028103113174438475, 'temp_loss': -3.200779438018799, 'temp': 1.073010230064392, 'critic_loss': 4241.204125976563, 'actor_loss': 108.95425415039062, 'time_step': 0.0036687135696411135, 'rollout_return': 19.0, 'evaluation': 15.2} step=540\n",
      "2023-03-16 00:40.34 [info     ] Model parameters are saved to d3rlpy_logs/SAC_online_20230316004030/model_550.pt\n",
      "2023-03-16 00:40.34 [info     ] SAC_online_20230316004030: epoch=55 step=550 epoch=55 metrics={'time_inference': 0.00040869712829589845, 'time_environment_step': 0.0003084421157836914, 'time_sample_batch': 9.95635986328125e-05, 'time_algorithm_update': 0.0028792381286621093, 'temp_loss': -3.333517050743103, 'temp': 1.076181423664093, 'critic_loss': 4232.231640625, 'actor_loss': 109.03562774658204, 'time_step': 0.0037221908569335938, 'rollout_return': 26.0, 'evaluation': 14.1} step=550\n",
      "2023-03-16 00:40.34 [info     ] Model parameters are saved to d3rlpy_logs/SAC_online_20230316004030/model_560.pt\n",
      "2023-03-16 00:40.34 [info     ] SAC_online_20230316004030: epoch=56 step=560 epoch=56 metrics={'time_inference': 0.0002788543701171875, 'time_environment_step': 0.0003014802932739258, 'time_sample_batch': 0.0001004934310913086, 'time_algorithm_update': 0.0028052330017089844, 'temp_loss': -3.2092119216918946, 'temp': 1.0794590830802917, 'critic_loss': 3816.8439208984373, 'actor_loss': 107.18875122070312, 'time_step': 0.00351254940032959, 'rollout_return': 28.0, 'evaluation': 15.2} step=560\n",
      "2023-03-16 00:40.34 [info     ] Model parameters are saved to d3rlpy_logs/SAC_online_20230316004030/model_570.pt\n",
      "2023-03-16 00:40.34 [info     ] SAC_online_20230316004030: epoch=57 step=570 epoch=57 metrics={'time_inference': 0.0005733966827392578, 'time_environment_step': 0.0005498647689819336, 'time_sample_batch': 0.00018827915191650392, 'time_algorithm_update': 0.006265044212341309, 'temp_loss': -2.925978398323059, 'temp': 1.082709264755249, 'critic_loss': 3700.3795166015625, 'actor_loss': 107.58225860595704, 'time_step': 0.007639479637145996, 'rollout_return': 28.0, 'evaluation': 15.7} step=570\n",
      "2023-03-16 00:40.34 [info     ] Model parameters are saved to d3rlpy_logs/SAC_online_20230316004030/model_580.pt\n",
      "2023-03-16 00:40.34 [info     ] SAC_online_20230316004030: epoch=58 step=580 epoch=58 metrics={'time_inference': 0.0004275321960449219, 'time_environment_step': 0.0004129171371459961, 'time_sample_batch': 0.00012285709381103515, 'time_algorithm_update': 0.0038763761520385744, 'temp_loss': -2.9893333673477174, 'temp': 1.0858102560043335, 'critic_loss': 3925.6723876953124, 'actor_loss': 105.93452682495118, 'time_step': 0.004870700836181641, 'rollout_return': 32.0, 'evaluation': 15.5} step=580\n",
      "2023-03-16 00:40.34 [info     ] Model parameters are saved to d3rlpy_logs/SAC_online_20230316004030/model_590.pt\n",
      "2023-03-16 00:40.34 [info     ] SAC_online_20230316004030: epoch=59 step=590 epoch=59 metrics={'time_inference': 0.0002993106842041016, 'time_environment_step': 0.00033428668975830076, 'time_sample_batch': 0.00010411739349365234, 'time_algorithm_update': 0.0029977083206176756, 'temp_loss': -3.0871431827545166, 'temp': 1.0889576554298401, 'critic_loss': 3807.9934814453127, 'actor_loss': 107.78729782104492, 'time_step': 0.003764033317565918, 'rollout_return': 28.0, 'evaluation': 15.9} step=590\n",
      "2023-03-16 00:40.35 [info     ] Model parameters are saved to d3rlpy_logs/SAC_online_20230316004030/model_600.pt\n",
      "2023-03-16 00:40.35 [info     ] SAC_online_20230316004030: epoch=60 step=600 epoch=60 metrics={'time_inference': 0.0003519773483276367, 'time_environment_step': 0.00031168460845947265, 'time_sample_batch': 0.00010514259338378906, 'time_algorithm_update': 0.0029966354370117186, 'temp_loss': -3.241912603378296, 'temp': 1.0921517610549927, 'critic_loss': 3580.1042236328126, 'actor_loss': 105.34186477661133, 'time_step': 0.003792476654052734, 'rollout_return': 23.0, 'evaluation': 15.3} step=600\n",
      "2023-03-16 00:40.35 [info     ] Model parameters are saved to d3rlpy_logs/SAC_online_20230316004030/model_610.pt\n",
      "2023-03-16 00:40.35 [info     ] SAC_online_20230316004030: epoch=61 step=610 epoch=61 metrics={'time_inference': 0.00040662288665771484, 'time_environment_step': 0.0003239154815673828, 'time_sample_batch': 9.8419189453125e-05, 'time_algorithm_update': 0.002718997001647949, 'temp_loss': -3.2077029943466187, 'temp': 1.095397698879242, 'critic_loss': 3539.7305419921877, 'actor_loss': 106.8895034790039, 'time_step': 0.003573775291442871, 'rollout_return': 23.0, 'evaluation': 13.7} step=610\n",
      "2023-03-16 00:40.35 [info     ] Model parameters are saved to d3rlpy_logs/SAC_online_20230316004030/model_620.pt\n",
      "2023-03-16 00:40.35 [info     ] SAC_online_20230316004030: epoch=62 step=620 epoch=62 metrics={'time_inference': 0.00035073757171630857, 'time_environment_step': 0.0003118276596069336, 'time_sample_batch': 0.00010862350463867188, 'time_algorithm_update': 0.0028221607208251953, 'temp_loss': -3.425264573097229, 'temp': 1.098756766319275, 'critic_loss': 3765.652734375, 'actor_loss': 102.32054290771484, 'time_step': 0.0036209821701049805, 'rollout_return': 25.0, 'evaluation': 14.9} step=620\n",
      "2023-03-16 00:40.35 [info     ] Model parameters are saved to d3rlpy_logs/SAC_online_20230316004030/model_630.pt\n",
      "2023-03-16 00:40.35 [info     ] SAC_online_20230316004030: epoch=63 step=630 epoch=63 metrics={'time_inference': 0.0005052328109741211, 'time_environment_step': 0.0004851818084716797, 'time_sample_batch': 0.0002321004867553711, 'time_algorithm_update': 0.0057125091552734375, 'temp_loss': -3.381752586364746, 'temp': 1.102206540107727, 'critic_loss': 3798.4485595703127, 'actor_loss': 106.99108276367187, 'time_step': 0.006991434097290039, 'rollout_return': 31.0, 'evaluation': 11.4} step=630\n",
      "2023-03-16 00:40.35 [info     ] Model parameters are saved to d3rlpy_logs/SAC_online_20230316004030/model_640.pt\n",
      "2023-03-16 00:40.35 [info     ] SAC_online_20230316004030: epoch=64 step=640 epoch=64 metrics={'time_inference': 0.0004976272583007812, 'time_environment_step': 0.0003879070281982422, 'time_sample_batch': 0.00012090206146240235, 'time_algorithm_update': 0.003142857551574707, 'temp_loss': -3.1353296756744387, 'temp': 1.1056604385375977, 'critic_loss': 3458.1521484375, 'actor_loss': 102.08939208984376, 'time_step': 0.004181218147277832, 'rollout_return': 25.0, 'evaluation': 15.3} step=640\n",
      "2023-03-16 00:40.35 [info     ] Model parameters are saved to d3rlpy_logs/SAC_online_20230316004030/model_650.pt\n",
      "2023-03-16 00:40.35 [info     ] SAC_online_20230316004030: epoch=65 step=650 epoch=65 metrics={'time_inference': 0.00041468143463134765, 'time_environment_step': 0.000346684455871582, 'time_sample_batch': 0.00015387535095214843, 'time_algorithm_update': 0.0029727935791015623, 'temp_loss': -3.0230765104293824, 'temp': 1.1090090155601502, 'critic_loss': 3432.9711669921876, 'actor_loss': 99.1995231628418, 'time_step': 0.0039242982864379885, 'rollout_return': 24.0, 'evaluation': 13.6} step=650\n",
      "2023-03-16 00:40.35 [info     ] Model parameters are saved to d3rlpy_logs/SAC_online_20230316004030/model_660.pt\n",
      "2023-03-16 00:40.35 [info     ] SAC_online_20230316004030: epoch=66 step=660 epoch=66 metrics={'time_inference': 0.0003455162048339844, 'time_environment_step': 0.0003871917724609375, 'time_sample_batch': 0.00012369155883789061, 'time_algorithm_update': 0.0033417463302612303, 'temp_loss': -3.3685731410980226, 'temp': 1.1123010993003846, 'critic_loss': 3590.5925048828126, 'actor_loss': 102.23023300170898, 'time_step': 0.00422971248626709, 'rollout_return': 31.0, 'evaluation': 14.4} step=660\n",
      "2023-03-16 00:40.35 [info     ] Model parameters are saved to d3rlpy_logs/SAC_online_20230316004030/model_670.pt\n",
      "2023-03-16 00:40.35 [info     ] SAC_online_20230316004030: epoch=67 step=670 epoch=67 metrics={'time_inference': 0.00041522979736328123, 'time_environment_step': 0.0003184795379638672, 'time_sample_batch': 0.00010123252868652344, 'time_algorithm_update': 0.002892756462097168, 'temp_loss': -3.233377718925476, 'temp': 1.115708601474762, 'critic_loss': 3571.7916748046873, 'actor_loss': 99.73750228881836, 'time_step': 0.003754878044128418, 'rollout_return': 21.0, 'evaluation': 13.5} step=670\n",
      "2023-03-16 00:40.35 [info     ] Model parameters are saved to d3rlpy_logs/SAC_online_20230316004030/model_680.pt\n",
      "2023-03-16 00:40.35 [info     ] SAC_online_20230316004030: epoch=68 step=680 epoch=68 metrics={'time_inference': 0.0004110813140869141, 'time_environment_step': 0.00030686855316162107, 'time_sample_batch': 0.00010161399841308593, 'time_algorithm_update': 0.002851557731628418, 'temp_loss': -3.129917120933533, 'temp': 1.1190688133239746, 'critic_loss': 3105.3056396484376, 'actor_loss': 98.60431671142578, 'time_step': 0.003697967529296875, 'rollout_return': 32.0, 'evaluation': 13.9} step=680\n",
      "2023-03-16 00:40.35 [info     ] Model parameters are saved to d3rlpy_logs/SAC_online_20230316004030/model_690.pt\n",
      "2023-03-16 00:40.35 [info     ] SAC_online_20230316004030: epoch=69 step=690 epoch=69 metrics={'time_inference': 0.00032236576080322263, 'time_environment_step': 0.00029745101928710935, 'time_sample_batch': 0.00010039806365966797, 'time_algorithm_update': 0.0026986122131347655, 'temp_loss': -3.081191301345825, 'temp': 1.1223677277565003, 'critic_loss': 3251.1168212890625, 'actor_loss': 98.38043670654297, 'time_step': 0.0034449100494384766, 'rollout_return': 34.0, 'evaluation': 13.6} step=690\n",
      "2023-03-16 00:40.35 [info     ] Model parameters are saved to d3rlpy_logs/SAC_online_20230316004030/model_700.pt\n",
      "2023-03-16 00:40.35 [info     ] SAC_online_20230316004030: epoch=70 step=700 epoch=70 metrics={'time_inference': 0.0003648519515991211, 'time_environment_step': 0.0003104209899902344, 'time_sample_batch': 0.00010328292846679687, 'time_algorithm_update': 0.002852606773376465, 'temp_loss': -3.2995641946792604, 'temp': 1.1257109880447387, 'critic_loss': 3316.9164794921876, 'actor_loss': 99.12389526367187, 'time_step': 0.0036574363708496093, 'rollout_return': 19.0, 'evaluation': 14.7} step=700\n",
      "2023-03-16 00:40.35 [info     ] Model parameters are saved to d3rlpy_logs/SAC_online_20230316004030/model_710.pt\n",
      "2023-03-16 00:40.35 [info     ] SAC_online_20230316004030: epoch=71 step=710 epoch=71 metrics={'time_inference': 0.00046346187591552737, 'time_environment_step': 0.0003054618835449219, 'time_sample_batch': 0.00010118484497070312, 'time_algorithm_update': 0.00285036563873291, 'temp_loss': -3.148614835739136, 'temp': 1.1291501760482787, 'critic_loss': 3067.4443359375, 'actor_loss': 98.54086685180664, 'time_step': 0.0037470340728759767, 'rollout_return': 20.0, 'evaluation': 14.0} step=710\n",
      "2023-03-16 00:40.36 [info     ] Model parameters are saved to d3rlpy_logs/SAC_online_20230316004030/model_720.pt\n",
      "2023-03-16 00:40.36 [info     ] SAC_online_20230316004030: epoch=72 step=720 epoch=72 metrics={'time_inference': 0.00029776096343994143, 'time_environment_step': 0.00030670166015625, 'time_sample_batch': 0.00010206699371337891, 'time_algorithm_update': 0.0028941154479980467, 'temp_loss': -3.4729833126068117, 'temp': 1.1326295971870421, 'critic_loss': 2757.7539794921877, 'actor_loss': 97.31253662109376, 'time_step': 0.0036272525787353514, 'rollout_return': 22.0, 'evaluation': 15.8} step=720\n",
      "2023-03-16 00:40.36 [info     ] Model parameters are saved to d3rlpy_logs/SAC_online_20230316004030/model_730.pt\n",
      "2023-03-16 00:40.36 [info     ] SAC_online_20230316004030: epoch=73 step=730 epoch=73 metrics={'time_inference': 0.00034711360931396487, 'time_environment_step': 0.0003031492233276367, 'time_sample_batch': 9.934902191162109e-05, 'time_algorithm_update': 0.0027826309204101564, 'temp_loss': -3.1496209144592284, 'temp': 1.1361019730567932, 'critic_loss': 3129.425830078125, 'actor_loss': 95.41578063964843, 'time_step': 0.0035583019256591798, 'rollout_return': 29.0, 'evaluation': 15.0} step=730\n",
      "2023-03-16 00:40.36 [info     ] Model parameters are saved to d3rlpy_logs/SAC_online_20230316004030/model_740.pt\n",
      "2023-03-16 00:40.36 [info     ] SAC_online_20230316004030: epoch=74 step=740 epoch=74 metrics={'time_inference': 0.00041031837463378906, 'time_environment_step': 0.00031595230102539064, 'time_sample_batch': 0.00010800361633300781, 'time_algorithm_update': 0.0028414011001586916, 'temp_loss': -3.446476674079895, 'temp': 1.139578890800476, 'critic_loss': 3159.7625732421875, 'actor_loss': 96.44164962768555, 'time_step': 0.0037032365798950195, 'rollout_return': 17.0, 'evaluation': 16.8} step=740\n",
      "2023-03-16 00:40.36 [info     ] Model parameters are saved to d3rlpy_logs/SAC_online_20230316004030/model_750.pt\n",
      "2023-03-16 00:40.36 [info     ] SAC_online_20230316004030: epoch=75 step=750 epoch=75 metrics={'time_inference': 0.00030934810638427734, 'time_environment_step': 0.0003048419952392578, 'time_sample_batch': 0.00010142326354980468, 'time_algorithm_update': 0.0028913021087646484, 'temp_loss': -3.6228145122528077, 'temp': 1.143157923221588, 'critic_loss': 2882.522412109375, 'actor_loss': 92.01302337646484, 'time_step': 0.003632974624633789, 'rollout_return': 29.0, 'evaluation': 15.3} step=750\n",
      "2023-03-16 00:40.36 [info     ] Model parameters are saved to d3rlpy_logs/SAC_online_20230316004030/model_760.pt\n",
      "2023-03-16 00:40.36 [info     ] SAC_online_20230316004030: epoch=76 step=760 epoch=76 metrics={'time_inference': 0.00038433074951171875, 'time_environment_step': 0.00031337738037109377, 'time_sample_batch': 0.000104522705078125, 'time_algorithm_update': 0.0029198646545410155, 'temp_loss': -3.8522491693496703, 'temp': 1.146956706047058, 'critic_loss': 2911.213427734375, 'actor_loss': 95.47016372680665, 'time_step': 0.0037489414215087892, 'rollout_return': 28.0, 'evaluation': 12.8} step=760\n",
      "2023-03-16 00:40.36 [info     ] Model parameters are saved to d3rlpy_logs/SAC_online_20230316004030/model_770.pt\n",
      "2023-03-16 00:40.36 [info     ] SAC_online_20230316004030: epoch=77 step=770 epoch=77 metrics={'time_inference': 0.0004313945770263672, 'time_environment_step': 0.0003091335296630859, 'time_sample_batch': 9.582042694091796e-05, 'time_algorithm_update': 0.002731585502624512, 'temp_loss': -3.347582387924194, 'temp': 1.1508512020111084, 'critic_loss': 3010.9087890625, 'actor_loss': 92.73725357055665, 'time_step': 0.0035930156707763674, 'rollout_return': 29.0, 'evaluation': 15.1} step=770\n",
      "2023-03-16 00:40.36 [info     ] Model parameters are saved to d3rlpy_logs/SAC_online_20230316004030/model_780.pt\n",
      "2023-03-16 00:40.36 [info     ] SAC_online_20230316004030: epoch=78 step=780 epoch=78 metrics={'time_inference': 0.00031948089599609375, 'time_environment_step': 0.00030627250671386717, 'time_sample_batch': 0.00010459423065185547, 'time_algorithm_update': 0.002777385711669922, 'temp_loss': -3.3125623941421507, 'temp': 1.154528295993805, 'critic_loss': 3064.993505859375, 'actor_loss': 91.52107620239258, 'time_step': 0.0035352706909179688, 'rollout_return': 32.0, 'evaluation': 13.9} step=780\n",
      "2023-03-16 00:40.36 [info     ] Model parameters are saved to d3rlpy_logs/SAC_online_20230316004030/model_790.pt\n",
      "2023-03-16 00:40.36 [info     ] SAC_online_20230316004030: epoch=79 step=790 epoch=79 metrics={'time_inference': 0.0003975868225097656, 'time_environment_step': 0.00031142234802246095, 'time_sample_batch': 0.00010445117950439454, 'time_algorithm_update': 0.0028897523880004883, 'temp_loss': -3.2916967391967775, 'temp': 1.1581270098686218, 'critic_loss': 2940.700244140625, 'actor_loss': 93.62035903930663, 'time_step': 0.003730440139770508, 'rollout_return': 24.0, 'evaluation': 14.5} step=790\n",
      "2023-03-16 00:40.36 [info     ] Model parameters are saved to d3rlpy_logs/SAC_online_20230316004030/model_800.pt\n",
      "2023-03-16 00:40.36 [info     ] SAC_online_20230316004030: epoch=80 step=800 epoch=80 metrics={'time_inference': 0.00029103755950927735, 'time_environment_step': 0.00030574798583984377, 'time_sample_batch': 0.00010454654693603516, 'time_algorithm_update': 0.0029028177261352537, 'temp_loss': -3.120940017700195, 'temp': 1.1616901516914369, 'critic_loss': 2960.0766845703124, 'actor_loss': 89.39045944213868, 'time_step': 0.0036307573318481445, 'rollout_return': 29.0, 'evaluation': 13.0} step=800\n",
      "2023-03-16 00:40.36 [info     ] Model parameters are saved to d3rlpy_logs/SAC_online_20230316004030/model_810.pt\n",
      "2023-03-16 00:40.36 [info     ] SAC_online_20230316004030: epoch=81 step=810 epoch=81 metrics={'time_inference': 0.00033049583435058595, 'time_environment_step': 0.000297093391418457, 'time_sample_batch': 9.663105010986328e-05, 'time_algorithm_update': 0.002717733383178711, 'temp_loss': -3.125029516220093, 'temp': 1.1651382327079773, 'critic_loss': 2659.44208984375, 'actor_loss': 91.99342193603516, 'time_step': 0.0034662723541259766, 'rollout_return': 29.0, 'evaluation': 14.5} step=810\n",
      "2023-03-16 00:40.36 [info     ] Model parameters are saved to d3rlpy_logs/SAC_online_20230316004030/model_820.pt\n",
      "2023-03-16 00:40.36 [info     ] SAC_online_20230316004030: epoch=82 step=820 epoch=82 metrics={'time_inference': 0.0003530263900756836, 'time_environment_step': 0.0003588438034057617, 'time_sample_batch': 0.00011053085327148438, 'time_algorithm_update': 0.0028605937957763674, 'temp_loss': -3.4090648889541626, 'temp': 1.1685537457466126, 'critic_loss': 2702.1795654296875, 'actor_loss': 88.04891891479492, 'time_step': 0.0037125587463378907, 'rollout_return': 21.0, 'evaluation': 13.3} step=820\n",
      "2023-03-16 00:40.36 [info     ] Model parameters are saved to d3rlpy_logs/SAC_online_20230316004030/model_830.pt\n",
      "2023-03-16 00:40.36 [info     ] SAC_online_20230316004030: epoch=83 step=830 epoch=83 metrics={'time_inference': 0.0003280162811279297, 'time_environment_step': 0.00030732154846191406, 'time_sample_batch': 0.00010535717010498046, 'time_algorithm_update': 0.0028701066970825196, 'temp_loss': -3.4897727727890016, 'temp': 1.1721683621406556, 'critic_loss': 2675.5489013671877, 'actor_loss': 88.09214782714844, 'time_step': 0.003636765480041504, 'rollout_return': 15.0, 'evaluation': 14.8} step=830\n",
      "2023-03-16 00:40.36 [info     ] Model parameters are saved to d3rlpy_logs/SAC_online_20230316004030/model_840.pt\n",
      "2023-03-16 00:40.36 [info     ] SAC_online_20230316004030: epoch=84 step=840 epoch=84 metrics={'time_inference': 0.00039165019989013673, 'time_environment_step': 0.000344085693359375, 'time_sample_batch': 0.00012252330780029296, 'time_algorithm_update': 0.0029787540435791014, 'temp_loss': -3.221368169784546, 'temp': 1.1757663130760192, 'critic_loss': 2532.5380859375, 'actor_loss': 87.04784851074218, 'time_step': 0.0038643836975097655, 'rollout_return': 28.0, 'evaluation': 14.1} step=840\n",
      "2023-03-16 00:40.37 [info     ] Model parameters are saved to d3rlpy_logs/SAC_online_20230316004030/model_850.pt\n",
      "2023-03-16 00:40.37 [info     ] SAC_online_20230316004030: epoch=85 step=850 epoch=85 metrics={'time_inference': 0.00039153099060058595, 'time_environment_step': 0.00029413700103759767, 'time_sample_batch': 9.772777557373046e-05, 'time_algorithm_update': 0.002812695503234863, 'temp_loss': -3.6352624177932737, 'temp': 1.1794207453727723, 'critic_loss': 2631.4736572265624, 'actor_loss': 87.28731307983398, 'time_step': 0.003621530532836914, 'rollout_return': 28.0, 'evaluation': 14.1} step=850\n",
      "2023-03-16 00:40.37 [info     ] Model parameters are saved to d3rlpy_logs/SAC_online_20230316004030/model_860.pt\n",
      "2023-03-16 00:40.37 [info     ] SAC_online_20230316004030: epoch=86 step=860 epoch=86 metrics={'time_inference': 0.00031702518463134767, 'time_environment_step': 0.00029938220977783204, 'time_sample_batch': 9.70602035522461e-05, 'time_algorithm_update': 0.002662992477416992, 'temp_loss': -3.067606735229492, 'temp': 1.1831823348999024, 'critic_loss': 2571.2654296875, 'actor_loss': 86.9004737854004, 'time_step': 0.0034018039703369142, 'rollout_return': 28.0, 'evaluation': 15.4} step=860\n",
      "2023-03-16 00:40.37 [info     ] Model parameters are saved to d3rlpy_logs/SAC_online_20230316004030/model_870.pt\n",
      "2023-03-16 00:40.37 [info     ] SAC_online_20230316004030: epoch=87 step=870 epoch=87 metrics={'time_inference': 0.0003864526748657227, 'time_environment_step': 0.0003063201904296875, 'time_sample_batch': 0.00010707378387451172, 'time_algorithm_update': 0.0028501272201538084, 'temp_loss': -3.4770795106887817, 'temp': 1.1867425799369813, 'critic_loss': 2622.3879638671874, 'actor_loss': 86.9633415222168, 'time_step': 0.003676319122314453, 'rollout_return': 29.0, 'evaluation': 16.2} step=870\n",
      "2023-03-16 00:40.37 [info     ] Model parameters are saved to d3rlpy_logs/SAC_online_20230316004030/model_880.pt\n",
      "2023-03-16 00:40.37 [info     ] SAC_online_20230316004030: epoch=88 step=880 epoch=88 metrics={'time_inference': 0.0003222227096557617, 'time_environment_step': 0.0003588438034057617, 'time_sample_batch': 0.0001056671142578125, 'time_algorithm_update': 0.002938532829284668, 'temp_loss': -3.361699843406677, 'temp': 1.1904364705085755, 'critic_loss': 2430.8976440429688, 'actor_loss': 86.76758728027343, 'time_step': 0.003753471374511719, 'rollout_return': 22.0, 'evaluation': 15.2} step=880\n",
      "2023-03-16 00:40.37 [info     ] Model parameters are saved to d3rlpy_logs/SAC_online_20230316004030/model_890.pt\n",
      "2023-03-16 00:40.37 [info     ] SAC_online_20230316004030: epoch=89 step=890 epoch=89 metrics={'time_inference': 0.00029604434967041017, 'time_environment_step': 0.0002990007400512695, 'time_sample_batch': 9.975433349609374e-05, 'time_algorithm_update': 0.00279080867767334, 'temp_loss': -3.348063349723816, 'temp': 1.1940911173820496, 'critic_loss': 2645.3681640625, 'actor_loss': 83.7700424194336, 'time_step': 0.003510928153991699, 'rollout_return': 23.0, 'evaluation': 15.0} step=890\n",
      "2023-03-16 00:40.37 [info     ] Model parameters are saved to d3rlpy_logs/SAC_online_20230316004030/model_900.pt\n",
      "2023-03-16 00:40.37 [info     ] SAC_online_20230316004030: epoch=90 step=900 epoch=90 metrics={'time_inference': 0.00035881996154785156, 'time_environment_step': 0.0003026723861694336, 'time_sample_batch': 9.741783142089844e-05, 'time_algorithm_update': 0.002695322036743164, 'temp_loss': -3.447942280769348, 'temp': 1.1978122115135192, 'critic_loss': 2433.6953857421877, 'actor_loss': 84.56431503295899, 'time_step': 0.003479623794555664, 'rollout_return': 23.0, 'evaluation': 15.4} step=900\n",
      "2023-03-16 00:40.37 [info     ] Model parameters are saved to d3rlpy_logs/SAC_online_20230316004030/model_910.pt\n",
      "2023-03-16 00:40.37 [info     ] SAC_online_20230316004030: epoch=91 step=910 epoch=91 metrics={'time_inference': 0.00031387805938720703, 'time_environment_step': 0.0003041267395019531, 'time_sample_batch': 0.00010776519775390625, 'time_algorithm_update': 0.0028144359588623048, 'temp_loss': -3.9100233554840087, 'temp': 1.2016311168670655, 'critic_loss': 2654.79814453125, 'actor_loss': 83.28425521850586, 'time_step': 0.0035669088363647463, 'rollout_return': 20.0, 'evaluation': 14.0} step=910\n",
      "2023-03-16 00:40.37 [info     ] Model parameters are saved to d3rlpy_logs/SAC_online_20230316004030/model_920.pt\n",
      "2023-03-16 00:40.37 [info     ] SAC_online_20230316004030: epoch=92 step=920 epoch=92 metrics={'time_inference': 0.00043642520904541016, 'time_environment_step': 0.00031743049621582033, 'time_sample_batch': 0.00010616779327392578, 'time_algorithm_update': 0.0029238224029541015, 'temp_loss': -3.4055859804153443, 'temp': 1.2056697010993958, 'critic_loss': 2585.3802490234375, 'actor_loss': 83.03923645019532, 'time_step': 0.0038106441497802734, 'rollout_return': 33.0, 'evaluation': 13.9} step=920\n",
      "2023-03-16 00:40.37 [info     ] Model parameters are saved to d3rlpy_logs/SAC_online_20230316004030/model_930.pt\n",
      "2023-03-16 00:40.37 [info     ] SAC_online_20230316004030: epoch=93 step=930 epoch=93 metrics={'time_inference': 0.0003551483154296875, 'time_environment_step': 0.00030820369720458985, 'time_sample_batch': 0.00010561943054199219, 'time_algorithm_update': 0.0028929948806762696, 'temp_loss': -3.5664024114608766, 'temp': 1.2095798134803772, 'critic_loss': 2433.41513671875, 'actor_loss': 82.50043411254883, 'time_step': 0.003689002990722656, 'rollout_return': 25.0, 'evaluation': 15.0} step=930\n",
      "2023-03-16 00:40.37 [info     ] Model parameters are saved to d3rlpy_logs/SAC_online_20230316004030/model_940.pt\n",
      "2023-03-16 00:40.37 [info     ] SAC_online_20230316004030: epoch=94 step=940 epoch=94 metrics={'time_inference': 0.0003015279769897461, 'time_environment_step': 0.0002875804901123047, 'time_sample_batch': 9.517669677734375e-05, 'time_algorithm_update': 0.002665424346923828, 'temp_loss': -3.367527890205383, 'temp': 1.2134557366371155, 'critic_loss': 2436.6791870117186, 'actor_loss': 80.8170539855957, 'time_step': 0.003374743461608887, 'rollout_return': 13.0, 'evaluation': 14.1} step=940\n",
      "2023-03-16 00:40.37 [info     ] Model parameters are saved to d3rlpy_logs/SAC_online_20230316004030/model_950.pt\n",
      "2023-03-16 00:40.37 [info     ] SAC_online_20230316004030: epoch=95 step=950 epoch=95 metrics={'time_inference': 0.0004127264022827148, 'time_environment_step': 0.0003091096878051758, 'time_sample_batch': 0.00010640621185302735, 'time_algorithm_update': 0.002748870849609375, 'temp_loss': -3.5584534406661987, 'temp': 1.217232358455658, 'critic_loss': 2563.2663330078126, 'actor_loss': 79.98886642456054, 'time_step': 0.003604221343994141, 'rollout_return': 22.0, 'evaluation': 13.2} step=950\n",
      "2023-03-16 00:40.37 [info     ] Model parameters are saved to d3rlpy_logs/SAC_online_20230316004030/model_960.pt\n",
      "2023-03-16 00:40.37 [info     ] SAC_online_20230316004030: epoch=96 step=960 epoch=96 metrics={'time_inference': 0.00039021968841552735, 'time_environment_step': 0.0003186941146850586, 'time_sample_batch': 0.00010726451873779296, 'time_algorithm_update': 0.0028404474258422853, 'temp_loss': -3.786253023147583, 'temp': 1.221111810207367, 'critic_loss': 2333.4142822265626, 'actor_loss': 80.77818908691407, 'time_step': 0.003683590888977051, 'rollout_return': 25.0, 'evaluation': 13.8} step=960\n",
      "2023-03-16 00:40.37 [info     ] Model parameters are saved to d3rlpy_logs/SAC_online_20230316004030/model_970.pt\n",
      "2023-03-16 00:40.37 [info     ] SAC_online_20230316004030: epoch=97 step=970 epoch=97 metrics={'time_inference': 0.0002987146377563477, 'time_environment_step': 0.00030558109283447267, 'time_sample_batch': 0.00010528564453125, 'time_algorithm_update': 0.0028810024261474608, 'temp_loss': -3.8081985235214235, 'temp': 1.225190031528473, 'critic_loss': 2363.85595703125, 'actor_loss': 78.73047103881837, 'time_step': 0.003616952896118164, 'rollout_return': 29.0, 'evaluation': 13.5} step=970\n",
      "2023-03-16 00:40.38 [info     ] Model parameters are saved to d3rlpy_logs/SAC_online_20230316004030/model_980.pt\n",
      "2023-03-16 00:40.38 [info     ] SAC_online_20230316004030: epoch=98 step=980 epoch=98 metrics={'time_inference': 0.0003304481506347656, 'time_environment_step': 0.0002947330474853516, 'time_sample_batch': 9.241104125976563e-05, 'time_algorithm_update': 0.002691030502319336, 'temp_loss': -4.04726779460907, 'temp': 1.2294159173965453, 'critic_loss': 2382.8397705078123, 'actor_loss': 79.86262893676758, 'time_step': 0.0034324169158935548, 'rollout_return': 21.0, 'evaluation': 16.1} step=980\n",
      "2023-03-16 00:40.38 [info     ] Model parameters are saved to d3rlpy_logs/SAC_online_20230316004030/model_990.pt\n",
      "2023-03-16 00:40.38 [info     ] SAC_online_20230316004030: epoch=99 step=990 epoch=99 metrics={'time_inference': 0.00031683444976806643, 'time_environment_step': 0.00034384727478027345, 'time_sample_batch': 0.0001055002212524414, 'time_algorithm_update': 0.002744245529174805, 'temp_loss': -3.896076965332031, 'temp': 1.2337166786193847, 'critic_loss': 2332.279638671875, 'actor_loss': 80.49095916748047, 'time_step': 0.003539156913757324, 'rollout_return': 26.0, 'evaluation': 15.7} step=990\n",
      "2023-03-16 00:40.38 [info     ] Model parameters are saved to d3rlpy_logs/SAC_online_20230316004030/model_1000.pt\n",
      "2023-03-16 00:40.38 [info     ] SAC_online_20230316004030: epoch=100 step=1000 epoch=100 metrics={'time_inference': 0.0003997802734375, 'time_environment_step': 0.00031151771545410154, 'time_sample_batch': 0.00010561943054199219, 'time_algorithm_update': 0.0028826236724853516, 'temp_loss': -3.644378900527954, 'temp': 1.2379900097846985, 'critic_loss': 2352.9656005859374, 'actor_loss': 75.28860321044922, 'time_step': 0.0037258625030517577, 'rollout_return': 29.0, 'evaluation': 15.1} step=1000\n"
     ]
    }
   ],
   "source": [
    "# start training\n",
    "# skip if there is a pre-trained model\n",
    "sac.fit_online(\n",
    "    env_,\n",
    "    buffer,\n",
    "    eval_env=env_,\n",
    "    n_steps=1000,\n",
    "    n_steps_per_epoch=10,\n",
    "    update_start_step=10,\n",
    "    # n_steps=100000,\n",
    "    # n_steps_per_epoch=1000,\n",
    "    # update_start_step=1000,\n",
    ")"
   ]
  },
  {
   "cell_type": "code",
   "execution_count": 13,
   "metadata": {},
   "outputs": [],
   "source": [
    "# # save model\n",
    "# sac.save_model(\"d3rlpy_logs/sac.pt\")"
   ]
  },
  {
   "cell_type": "code",
   "execution_count": 14,
   "metadata": {},
   "outputs": [],
   "source": [
    "# # reload model\n",
    "# sac.build_with_env(env_)\n",
    "# sac.load_model(\"d3rlpy_logs/sac.pt\")"
   ]
  },
  {
   "cell_type": "code",
   "execution_count": 15,
   "metadata": {},
   "outputs": [],
   "source": [
    "behavior_policy = TruncatedGaussianHead(\n",
    "    sac, \n",
    "    minimum=env.action_space.low,\n",
    "    maximum=env.action_space.high,\n",
    "    sigma=np.array([1.0]),\n",
    "    name=\"sac_sigma_1.0\",\n",
    "    random_state=random_state,\n",
    ")"
   ]
  },
  {
   "cell_type": "code",
   "execution_count": 16,
   "metadata": {},
   "outputs": [],
   "source": [
    "# initialize dataset class\n",
    "dataset = SyntheticDataset(\n",
    "    env=env,\n",
    "    state_keys=env.obs_keys,\n",
    "    max_episode_steps=env.step_per_episode,\n",
    "    info_keys={\n",
    "        \"search_volume\": int,\n",
    "        \"impression\": int,\n",
    "        \"click\": int,\n",
    "        \"conversion\": int,\n",
    "        \"average_bid_price\": float,\n",
    "    },\n",
    ")"
   ]
  },
  {
   "cell_type": "code",
   "execution_count": 17,
   "metadata": {},
   "outputs": [
    {
     "data": {
      "application/vnd.jupyter.widget-view+json": {
       "model_id": "026ca76d364e4d2e8217ecd5de29432c",
       "version_major": 2,
       "version_minor": 0
      },
      "text/plain": [
       "[obtain_trajectories]:   0%|          | 0/10000 [00:00<?, ?it/s]"
      ]
     },
     "metadata": {},
     "output_type": "display_data"
    },
    {
     "data": {
      "application/vnd.jupyter.widget-view+json": {
       "model_id": "3a2839a81081401e997a78056c4c8335",
       "version_major": 2,
       "version_minor": 0
      },
      "text/plain": [
       "[obtain_trajectories]:   0%|          | 0/10000 [00:00<?, ?it/s]"
      ]
     },
     "metadata": {},
     "output_type": "display_data"
    }
   ],
   "source": [
    "# collect logged data by a behavior policy\n",
    "# skip if there is a preserved logged dataset\n",
    "train_logged_dataset = dataset.obtain_episodes(\n",
    "    behavior_policies=behavior_policy,\n",
    "    n_trajectories=10000, \n",
    "    obtain_info=True,\n",
    "    random_state=random_state,\n",
    ")\n",
    "test_logged_dataset = dataset.obtain_episodes(\n",
    "    behavior_policies=behavior_policy,\n",
    "    n_trajectories=10000, \n",
    "    obtain_info=True,\n",
    "    random_state=random_state + 1,\n",
    ")"
   ]
  },
  {
   "cell_type": "code",
   "execution_count": 18,
   "metadata": {},
   "outputs": [],
   "source": [
    "# with open(\"logs/train_dataset_continuous_sac.pkl\", \"wb\") as f:\n",
    "#     pickle.dump(train_logged_dataset, f)\n",
    "# with open(\"logs/test_dataset_continuous_sac.pkl\", \"wb\") as f:\n",
    "#     pickle.dump(test_logged_dataset, f)"
   ]
  },
  {
   "cell_type": "code",
   "execution_count": 19,
   "metadata": {},
   "outputs": [],
   "source": [
    "# with open(\"logs/train_dataset_continuous_sac.pkl\", \"rb\") as f:\n",
    "#     train_logged_dataset = pickle.load(f)\n",
    "# with open(\"logs/test_dataset_continuous_sac.pkl\", \"rb\") as f:\n",
    "#     test_logged_dataset = pickle.load(f)"
   ]
  },
  {
   "cell_type": "markdown",
   "metadata": {},
   "source": [
    "#### Offline Policy Learning\n",
    "Here, we learn several \"candidate\" policies to be evaluated and selected using [d3rlpy](https://github.com/takuseno/d3rlpy)'s algorithm implementation.\n",
    "\n",
    "For more about the offline RL procedure, please refer to [examples/quickstart/rtb_synthetic_discrete_basic.ipynb](https://github.com/negocia-inc/rtb_reinforcement_learing/blob/ope/examples/quickstart/rtb_synthetic_discrete_basic.ipynb)."
   ]
  },
  {
   "cell_type": "code",
   "execution_count": 20,
   "metadata": {},
   "outputs": [],
   "source": [
    "# import modules from d3rlpy\n",
    "from d3rlpy.dataset import MDPDataset\n",
    "from d3rlpy.algos import CQL\n",
    "# transform offline dataset for d3rlpy\n",
    "offlinerl_dataset = MDPDataset(\n",
    "    observations=train_logged_dataset[\"state\"],\n",
    "    actions=train_logged_dataset[\"action\"],\n",
    "    rewards=train_logged_dataset[\"reward\"],\n",
    "    terminals=train_logged_dataset[\"done\"],\n",
    "    episode_terminals=train_logged_dataset[\"done\"],\n",
    "    discrete_action=False,\n",
    ")\n",
    "train_episodes, test_episodes = train_test_split(offlinerl_dataset, test_size=0.2, random_state=random_state)"
   ]
  },
  {
   "cell_type": "code",
   "execution_count": 21,
   "metadata": {},
   "outputs": [],
   "source": [
    "# Use Conservative Q-Learning policy\n",
    "cql = CQL(\n",
    "    actor_encoder_factory=VectorEncoderFactory(hidden_units=[30, 30]),\n",
    "    critic_encoder_factory=VectorEncoderFactory(hidden_units=[30, 30]),\n",
    "    q_func_factory=MeanQFunctionFactory(),\n",
    "    use_gpu=torch.cuda.is_available(),\n",
    "    action_scaler=MinMaxActionScaler(\n",
    "        minimum=env_.action_space.low,  # minimum value that policy can take\n",
    "        maximum=env_.action_space.high,  # maximum value that policy can take\n",
    "    )\n",
    ")"
   ]
  },
  {
   "cell_type": "code",
   "execution_count": 22,
   "metadata": {},
   "outputs": [
    {
     "name": "stdout",
     "output_type": "stream",
     "text": [
      "2023-03-16 00:42.49 [debug    ] RandomIterator is selected.\n",
      "2023-03-16 00:42.49 [info     ] Directory is created at d3rlpy_logs/CQL_20230316004249\n",
      "2023-03-16 00:42.49 [debug    ] Fitting action scaler...       action_scaler=min_max\n",
      "2023-03-16 00:42.49 [debug    ] Building models...\n",
      "2023-03-16 00:42.49 [debug    ] Models have been built.\n",
      "2023-03-16 00:42.49 [info     ] Parameters are saved to d3rlpy_logs/CQL_20230316004249/params.json params={'action_scaler': {'type': 'min_max', 'params': {'minimum': array([0.1]), 'maximum': array([10.])}}, 'actor_encoder_factory': {'type': 'vector', 'params': {'hidden_units': [30, 30], 'activation': 'relu', 'use_batch_norm': False, 'dropout_rate': None, 'use_dense': False}}, 'actor_learning_rate': 0.0001, 'actor_optim_factory': {'optim_cls': 'Adam', 'betas': (0.9, 0.999), 'eps': 1e-08, 'weight_decay': 0, 'amsgrad': False}, 'alpha_learning_rate': 0.0001, 'alpha_optim_factory': {'optim_cls': 'Adam', 'betas': (0.9, 0.999), 'eps': 1e-08, 'weight_decay': 0, 'amsgrad': False}, 'alpha_threshold': 10.0, 'batch_size': 256, 'conservative_weight': 5.0, 'critic_encoder_factory': {'type': 'vector', 'params': {'hidden_units': [30, 30], 'activation': 'relu', 'use_batch_norm': False, 'dropout_rate': None, 'use_dense': False}}, 'critic_learning_rate': 0.0003, 'critic_optim_factory': {'optim_cls': 'Adam', 'betas': (0.9, 0.999), 'eps': 1e-08, 'weight_decay': 0, 'amsgrad': False}, 'gamma': 0.99, 'generated_maxlen': 100000, 'initial_alpha': 1.0, 'initial_temperature': 1.0, 'n_action_samples': 10, 'n_critics': 2, 'n_frames': 1, 'n_steps': 1, 'q_func_factory': {'type': 'mean', 'params': {'share_encoder': False}}, 'real_ratio': 1.0, 'reward_scaler': None, 'scaler': None, 'soft_q_backup': False, 'tau': 0.005, 'temp_learning_rate': 0.0001, 'temp_optim_factory': {'optim_cls': 'Adam', 'betas': (0.9, 0.999), 'eps': 1e-08, 'weight_decay': 0, 'amsgrad': False}, 'use_gpu': None, 'algorithm': 'CQL', 'observation_shape': (7,), 'action_size': 1}\n"
     ]
    },
    {
     "data": {
      "application/vnd.jupyter.widget-view+json": {
       "model_id": "95183275c01d44048a0b02dfd49528f1",
       "version_major": 2,
       "version_minor": 0
      },
      "text/plain": [
       "Epoch 1/1:   0%|          | 0/10000 [00:00<?, ?it/s]"
      ]
     },
     "metadata": {},
     "output_type": "display_data"
    },
    {
     "name": "stdout",
     "output_type": "stream",
     "text": [
      "2023-03-16 00:46.15 [info     ] CQL_20230316004249: epoch=1 step=10000 epoch=1 metrics={'time_sample_batch': 0.00073785982131958, 'time_algorithm_update': 0.0192510009765625, 'temp_loss': 0.13937836506329476, 'temp': 0.8746429017305374, 'alpha_loss': -15.820481412506103, 'alpha': 1.7870967963695525, 'critic_loss': 84.86691558628083, 'actor_loss': -0.8498901910297573, 'time_step': 0.02049645354747772} step=10000\n",
      "2023-03-16 00:46.15 [info     ] Model parameters are saved to d3rlpy_logs/CQL_20230316004249/model_10000.pt\n"
     ]
    },
    {
     "data": {
      "text/plain": [
       "[(1,\n",
       "  {'time_sample_batch': 0.00073785982131958,\n",
       "   'time_algorithm_update': 0.0192510009765625,\n",
       "   'temp_loss': 0.13937836506329476,\n",
       "   'temp': 0.8746429017305374,\n",
       "   'alpha_loss': -15.820481412506103,\n",
       "   'alpha': 1.7870967963695525,\n",
       "   'critic_loss': 84.86691558628083,\n",
       "   'actor_loss': -0.8498901910297573,\n",
       "   'time_step': 0.02049645354747772})]"
      ]
     },
     "execution_count": 22,
     "metadata": {},
     "output_type": "execute_result"
    }
   ],
   "source": [
    "cql.fit(\n",
    "    train_episodes,\n",
    "    eval_episodes=test_episodes,\n",
    "    n_steps=10000,\n",
    "    scorers={},\n",
    ")"
   ]
  },
  {
   "cell_type": "code",
   "execution_count": 23,
   "metadata": {},
   "outputs": [],
   "source": [
    "# # save model\n",
    "# cql.save_model(\"d3rlpy_logs/cql_continuous.pt\")"
   ]
  },
  {
   "cell_type": "code",
   "execution_count": 24,
   "metadata": {},
   "outputs": [],
   "source": [
    "# # reload model\n",
    "# cql.build_with_env(env)\n",
    "# cql.load_model(\"d3rlpy_logs/cql_continuous.pt\")"
   ]
  },
  {
   "cell_type": "markdown",
   "metadata": {},
   "source": [
    "## 2. Off-Policy Evaluation\n",
    "In this section, we aim at evaluating the various performance statistics of policies in an offline manner using (basic) model-based and importance sampling-based estimators.\n",
    "\n",
    "#### Estimation Target\n",
    "\n",
    "The goal to estimate the estimators' average policy performance, the *policy value*.\n",
    "\n",
    "$$ V(\\pi) := \\mathbb{E}\\left[\\sum_{t=1}^T \\gamma^{t-1} r_t \\mid \\pi \\right] $$"
   ]
  },
  {
   "cell_type": "code",
   "execution_count": 25,
   "metadata": {},
   "outputs": [],
   "source": [
    "# import ope modules from OFRL\n",
    "from ofrl.ope import CreateOPEInput\n",
    "from ofrl.ope import OffPolicyEvaluation as OPE\n",
    "# basic estimators\n",
    "from ofrl.ope import ContinuousDirectMethod as DM\n",
    "from ofrl.ope import ContinuousTrajectoryWiseImportanceSampling as TIS\n",
    "from ofrl.ope import ContinuousPerDecisionImportanceSampling as PDIS\n",
    "from ofrl.ope import ContinuousDoublyRobust as DR\n",
    "# self normalized estimators\n",
    "from ofrl.ope import ContinuousSelfNormalizedTrajectoryWiseImportanceSampling as SNTIS\n",
    "from ofrl.ope import ContinuousSelfNormalizedPerDecisionImportanceSampling as SNPDIS\n",
    "from ofrl.ope import ContinuousSelfNormalizedDoublyRobust as SNDR\n",
    "# marginal estimators\n",
    "from ofrl.ope import ContinuousStateActionMarginalImportanceSampling as SAMIS\n",
    "from ofrl.ope import ContinuousStateActionMarginalDoublyRobust as SAMDR\n",
    "from ofrl.ope import ContinuousStateMarginalImportanceSampling as SMIS\n",
    "from ofrl.ope import ContinuousStateMarginalDoublyRobust as SMDR\n",
    "from ofrl.ope import ContinuousStateActionMarginalSelfNormalizedImportanceSampling as SAMSNIS\n",
    "from ofrl.ope import ContinuousStateActionMarginalSelfNormalizedDoublyRobust as SAMSNDR\n",
    "from ofrl.ope import ContinuousStateMarginalSelfNormalizedImportanceSampling as SMSNIS\n",
    "from ofrl.ope import ContinuousStateMarginalSelfNormalizedDoublyRobust as SMSNDR\n",
    "# double reinforcement learning estimators\n",
    "from ofrl.ope import ContinuousDoubleReinforcementLearning as DRL"
   ]
  },
  {
   "cell_type": "code",
   "execution_count": 26,
   "metadata": {},
   "outputs": [],
   "source": [
    "# define evaluation policies (should be deterministic policy)\n",
    "cql_ = ContinuousEvalHead(\n",
    "    base_policy=cql,\n",
    "    name=\"cql\",\n",
    ")\n",
    "sac_ = ContinuousEvalHead(\n",
    "    base_policy=sac, \n",
    "    name=\"sac\", \n",
    ")\n",
    "evaluation_policies = [cql_, sac_]"
   ]
  },
  {
   "cell_type": "code",
   "execution_count": 27,
   "metadata": {},
   "outputs": [],
   "source": [
    "# first, prepare OPE inputs\n",
    "prep = CreateOPEInput(\n",
    "    env=env,\n",
    "    model_args={\n",
    "        \"fqe\": {\n",
    "            \"encoder_factory\": VectorEncoderFactory(hidden_units=[30, 30]),\n",
    "            \"q_func_factory\": MeanQFunctionFactory(),\n",
    "            \"learning_rate\": 1e-4,\n",
    "            \"use_gpu\": torch.cuda.is_available(),\n",
    "        },\n",
    "    },\n",
    "    state_scaler=MinMaxScaler(\n",
    "        minimum=test_logged_dataset[\"state\"].min(axis=0),\n",
    "        maximum=test_logged_dataset[\"state\"].max(axis=0),\n",
    "    ),\n",
    "    action_scaler=MinMaxActionScaler(\n",
    "        minimum=env.action_space.low,  # minimum value that policy can take\n",
    "        maximum=env.action_space.high,  # maximum value that policy can take\n",
    "    ),\n",
    "    gamma=0.95,\n",
    "    sigma=0.1,\n",
    "    device=\"cuda:0\" if torch.cuda.is_available() else \"cpu\",\n",
    ")"
   ]
  },
  {
   "cell_type": "code",
   "execution_count": 28,
   "metadata": {},
   "outputs": [
    {
     "data": {
      "application/vnd.jupyter.widget-view+json": {
       "model_id": "47c9a3aa2b634e1c8334a3713924c35f",
       "version_major": 2,
       "version_minor": 0
      },
      "text/plain": [
       "[fit FQE model]:   0%|          | 0/2 [00:00<?, ?it/s]"
      ]
     },
     "metadata": {},
     "output_type": "display_data"
    },
    {
     "name": "stdout",
     "output_type": "stream",
     "text": [
      "2023-03-16 00:46.16 [debug    ] RoundIterator is selected.\n",
      "2023-03-16 00:46.16 [info     ] Directory is created at d3rlpy_logs/FQE_20230316004616\n",
      "2023-03-16 00:46.16 [debug    ] Fitting scaler...              scaler=min_max\n",
      "2023-03-16 00:46.16 [debug    ] Fitting action scaler...       action_scaler=min_max\n",
      "2023-03-16 00:46.16 [debug    ] Building models...\n",
      "2023-03-16 00:46.16 [debug    ] Models have been built.\n",
      "2023-03-16 00:46.16 [info     ] Parameters are saved to d3rlpy_logs/FQE_20230316004616/params.json params={'action_scaler': {'type': 'min_max', 'params': {'minimum': array([0.1]), 'maximum': array([10.])}}, 'batch_size': 100, 'encoder_factory': {'type': 'vector', 'params': {'hidden_units': [30, 30], 'activation': 'relu', 'use_batch_norm': False, 'dropout_rate': None, 'use_dense': False}}, 'gamma': 0.95, 'generated_maxlen': 100000, 'learning_rate': 0.0001, 'n_critics': 1, 'n_frames': 1, 'n_steps': 1, 'optim_factory': {'optim_cls': 'Adam', 'betas': (0.9, 0.999), 'eps': 1e-08, 'weight_decay': 0, 'amsgrad': False}, 'q_func_factory': {'type': 'mean', 'params': {'share_encoder': False}}, 'real_ratio': 1.0, 'reward_scaler': None, 'scaler': {'type': 'min_max', 'params': {'maximum': array([6.00000000e+00, 3.00000000e+03, 9.99942871e-01, 9.40000000e+04,\n",
      "       1.00000000e+00, 2.20000000e+01, 9.99996399e+00]), 'minimum': array([0.00000000e+00, 1.00000000e+00, 0.00000000e+00, 0.00000000e+00,\n",
      "       0.00000000e+00, 0.00000000e+00, 3.21092891e-06])}}, 'target_update_interval': 100, 'use_gpu': None, 'algorithm': 'FQE', 'observation_shape': (7,), 'action_size': 1}\n"
     ]
    },
    {
     "data": {
      "application/vnd.jupyter.widget-view+json": {
       "model_id": "03fd49e22dd34ede814131f54c6a49b4",
       "version_major": 2,
       "version_minor": 0
      },
      "text/plain": [
       "Epoch 1/1:   0%|          | 0/700 [00:00<?, ?it/s]"
      ]
     },
     "metadata": {},
     "output_type": "display_data"
    },
    {
     "name": "stdout",
     "output_type": "stream",
     "text": [
      "2023-03-16 00:46.17 [info     ] FQE_20230316004616: epoch=1 step=700 epoch=1 metrics={'time_sample_batch': 0.00010969945362636021, 'time_algorithm_update': 0.0011399095399039132, 'loss': 23.817662264960152, 'time_step': 0.0013015437126159667} step=700\n",
      "2023-03-16 00:46.17 [info     ] Model parameters are saved to d3rlpy_logs/FQE_20230316004616/model_700.pt\n",
      "2023-03-16 00:46.17 [debug    ] RoundIterator is selected.\n",
      "2023-03-16 00:46.17 [info     ] Directory is created at d3rlpy_logs/FQE_20230316004617\n",
      "2023-03-16 00:46.17 [debug    ] Fitting scaler...              scaler=min_max\n",
      "2023-03-16 00:46.17 [debug    ] Fitting action scaler...       action_scaler=min_max\n",
      "2023-03-16 00:46.17 [debug    ] Building models...\n",
      "2023-03-16 00:46.17 [debug    ] Models have been built.\n",
      "2023-03-16 00:46.17 [info     ] Parameters are saved to d3rlpy_logs/FQE_20230316004617/params.json params={'action_scaler': {'type': 'min_max', 'params': {'minimum': array([0.1]), 'maximum': array([10.])}}, 'batch_size': 100, 'encoder_factory': {'type': 'vector', 'params': {'hidden_units': [30, 30], 'activation': 'relu', 'use_batch_norm': False, 'dropout_rate': None, 'use_dense': False}}, 'gamma': 0.95, 'generated_maxlen': 100000, 'learning_rate': 0.0001, 'n_critics': 1, 'n_frames': 1, 'n_steps': 1, 'optim_factory': {'optim_cls': 'Adam', 'betas': (0.9, 0.999), 'eps': 1e-08, 'weight_decay': 0, 'amsgrad': False}, 'q_func_factory': {'type': 'mean', 'params': {'share_encoder': False}}, 'real_ratio': 1.0, 'reward_scaler': None, 'scaler': {'type': 'min_max', 'params': {'maximum': array([6.00000000e+00, 3.00000000e+03, 9.99942871e-01, 9.40000000e+04,\n",
      "       1.00000000e+00, 2.20000000e+01, 9.99996399e+00]), 'minimum': array([0.00000000e+00, 1.00000000e+00, 0.00000000e+00, 0.00000000e+00,\n",
      "       0.00000000e+00, 0.00000000e+00, 3.21092891e-06])}}, 'target_update_interval': 100, 'use_gpu': None, 'algorithm': 'FQE', 'observation_shape': (7,), 'action_size': 1}\n"
     ]
    },
    {
     "data": {
      "application/vnd.jupyter.widget-view+json": {
       "model_id": "edbd303bf47c410bb29a09b6c16d62bb",
       "version_major": 2,
       "version_minor": 0
      },
      "text/plain": [
       "Epoch 1/1:   0%|          | 0/700 [00:00<?, ?it/s]"
      ]
     },
     "metadata": {},
     "output_type": "display_data"
    },
    {
     "name": "stdout",
     "output_type": "stream",
     "text": [
      "2023-03-16 00:46.18 [info     ] FQE_20230316004617: epoch=1 step=700 epoch=1 metrics={'time_sample_batch': 0.00011460747037615095, 'time_algorithm_update': 0.00115560701915196, 'loss': 17.104640735217504, 'time_step': 0.0013179380553109306} step=700\n",
      "2023-03-16 00:46.18 [info     ] Model parameters are saved to d3rlpy_logs/FQE_20230316004617/model_700.pt\n"
     ]
    },
    {
     "data": {
      "application/vnd.jupyter.widget-view+json": {
       "model_id": "5f87f0b7d25b44fb942f89292f44a7a0",
       "version_major": 2,
       "version_minor": 0
      },
      "text/plain": [
       "[fit MWL model]:   0%|          | 0/2 [00:00<?, ?it/s]"
      ]
     },
     "metadata": {},
     "output_type": "display_data"
    },
    {
     "data": {
      "application/vnd.jupyter.widget-view+json": {
       "model_id": "2d15d1be77144b0fbdfbc41594917d4a",
       "version_major": 2,
       "version_minor": 0
      },
      "text/plain": [
       "[fitting_weight_function]:   0%|          | 0/100 [00:00<?, ?it/s]"
      ]
     },
     "metadata": {},
     "output_type": "display_data"
    },
    {
     "data": {
      "application/vnd.jupyter.widget-view+json": {
       "model_id": "b3ec0401d4414fa485bbf99d6c39bf70",
       "version_major": 2,
       "version_minor": 0
      },
      "text/plain": [
       "[fitting_weight_function]:   0%|          | 0/100 [00:00<?, ?it/s]"
      ]
     },
     "metadata": {},
     "output_type": "display_data"
    },
    {
     "data": {
      "application/vnd.jupyter.widget-view+json": {
       "model_id": "c925bde150174fb282b1769df9326803",
       "version_major": 2,
       "version_minor": 0
      },
      "text/plain": [
       "[fitting_weight_function]:   0%|          | 0/100 [00:00<?, ?it/s]"
      ]
     },
     "metadata": {},
     "output_type": "display_data"
    },
    {
     "data": {
      "application/vnd.jupyter.widget-view+json": {
       "model_id": "a17a5b44c70446ea8c649c1dd379b420",
       "version_major": 2,
       "version_minor": 0
      },
      "text/plain": [
       "[fitting_weight_function]:   0%|          | 0/100 [00:00<?, ?it/s]"
      ]
     },
     "metadata": {},
     "output_type": "display_data"
    },
    {
     "data": {
      "application/vnd.jupyter.widget-view+json": {
       "model_id": "464dd094df3c4592b09448d64ba1be5d",
       "version_major": 2,
       "version_minor": 0
      },
      "text/plain": [
       "[collect input data: eval_policy]:   0%|          | 0/2 [00:00<?, ?it/s]"
      ]
     },
     "metadata": {},
     "output_type": "display_data"
    },
    {
     "data": {
      "application/vnd.jupyter.widget-view+json": {
       "model_id": "f7b0876860a6464a92df21621c5e5ed9",
       "version_major": 2,
       "version_minor": 0
      },
      "text/plain": [
       "[calculate on-policy policy value]:   0%|          | 0/100 [00:00<?, ?it/s]"
      ]
     },
     "metadata": {},
     "output_type": "display_data"
    },
    {
     "data": {
      "application/vnd.jupyter.widget-view+json": {
       "model_id": "6c8dcebdb6fc4a36a1b23df2138bef92",
       "version_major": 2,
       "version_minor": 0
      },
      "text/plain": [
       "[calculate on-policy policy value]:   0%|          | 0/100 [00:00<?, ?it/s]"
      ]
     },
     "metadata": {},
     "output_type": "display_data"
    }
   ],
   "source": [
    "# takes time\n",
    "input_dict = prep.obtain_whole_inputs(\n",
    "    logged_dataset=test_logged_dataset,\n",
    "    evaluation_policies=evaluation_policies,\n",
    "    require_value_prediction=True,\n",
    "    require_weight_prediction=True,\n",
    "    n_trajectories_on_policy_evaluation=100,\n",
    "    random_state=random_state,\n",
    ")"
   ]
  },
  {
   "cell_type": "code",
   "execution_count": 29,
   "metadata": {},
   "outputs": [],
   "source": [
    "# with open(\"logs/ope_input_dict_continuous_zoo.pkl\", \"wb\") as f:\n",
    "#     pickle.dump(input_dict, f)"
   ]
  },
  {
   "cell_type": "code",
   "execution_count": 30,
   "metadata": {},
   "outputs": [],
   "source": [
    "# with open(\"logs/ope_input_dict_continuous_zoo.pkl\", \"rb\") as f:\n",
    "#     input_dict = pickle.load(f)"
   ]
  },
  {
   "cell_type": "code",
   "execution_count": 31,
   "metadata": {},
   "outputs": [],
   "source": [
    "basic_estimators = [DM(), TIS(), PDIS(), DR(), SNTIS(), SNPDIS(), SNDR()]\n",
    "state_marginal_estimators = [SMIS(), SMDR(), SMSNIS(), SMSNDR()]\n",
    "state_action_marginal_estimators = [SAMIS(), SAMDR(), SAMSNIS(), SAMSNDR()]\n",
    "drl_estimators = [DRL()]\n",
    "all_estimators = basic_estimators + state_marginal_estimators + state_action_marginal_estimators + drl_estimators"
   ]
  },
  {
   "cell_type": "code",
   "execution_count": 32,
   "metadata": {},
   "outputs": [],
   "source": [
    "basic_estimators_name = [\"dm\", \"tis\", \"pdis\", \"dr\", \"sntis\", \"snpdis\", \"sndr\"]\n",
    "state_marginal_estimators_name = [\"sm_is\", \"sm_dr\", \"sm_snis\", \"sm_sndr\"]\n",
    "state_action_marginal_estimators_name = [\"sam_is\", \"sam_dr\", \"sam_snis\", \"sam_sndr\"]\n",
    "drl_estimators_name = [\"drl\"]"
   ]
  },
  {
   "cell_type": "code",
   "execution_count": 33,
   "metadata": {},
   "outputs": [],
   "source": [
    "ope = OPE(\n",
    "    logged_dataset=test_logged_dataset,\n",
    "    ope_estimators=all_estimators,\n",
    "    action_scaler=MinMaxActionScaler(\n",
    "        minimum=env.action_space.low,  # minimum value that policy can take\n",
    "        maximum=env.action_space.high,  # maximum value that policy can take\n",
    "    ),\n",
    "    sigma=0.1,\n",
    ")"
   ]
  },
  {
   "cell_type": "code",
   "execution_count": 34,
   "metadata": {},
   "outputs": [
    {
     "data": {
      "text/plain": [
       "{'cql':            policy_value  relative_policy_value\n",
       " on_policy     13.259526               1.000000\n",
       " dm             4.860466               0.366564\n",
       " tis          175.231405              13.215511\n",
       " pdis          14.739618               1.111625\n",
       " dr            -4.642209              -0.350104\n",
       " sntis         22.618691               1.705845\n",
       " snpdis        12.665259               0.955182\n",
       " sndr          13.074581               0.986052\n",
       " sm_is          0.000000               0.000000\n",
       " sm_dr          4.860466               0.366564\n",
       " sm_snis        0.000000               0.000000\n",
       " sm_sndr        4.860466               0.366564\n",
       " sam_is         0.000115               0.000009\n",
       " sam_dr         4.858165               0.366391\n",
       " sam_snis       3.493908               0.263502\n",
       " sam_sndr       7.746783               0.584243\n",
       " drl            4.807184               0.362546,\n",
       " 'sac':            policy_value  relative_policy_value\n",
       " on_policy     13.259526               1.000000\n",
       " dm             3.769863               0.284314\n",
       " tis           38.440741               2.899104\n",
       " pdis          17.508719               1.320463\n",
       " dr            12.282022               0.926279\n",
       " sntis         13.827276               1.042818\n",
       " snpdis        13.856722               1.045039\n",
       " sndr          13.732130               1.035643\n",
       " sm_is          0.000000               0.000000\n",
       " sm_dr          3.769863               0.284314\n",
       " sm_snis        0.000000               0.000000\n",
       " sm_sndr        3.769863               0.284314\n",
       " sam_is         0.000272               0.000021\n",
       " sam_dr         3.770129               0.284334\n",
       " sam_snis       7.936058               0.598517\n",
       " sam_sndr      11.522408               0.868991\n",
       " drl            3.775278               0.284722}"
      ]
     },
     "execution_count": 34,
     "metadata": {},
     "output_type": "execute_result"
    }
   ],
   "source": [
    "# policy value estimation by ope\n",
    "policy_value_df_dict, policy_value_interval_df_dict = ope.summarize_off_policy_estimates(\n",
    "    input_dict, \n",
    "    random_state=random_state,\n",
    ")\n",
    "# dictionary of the estimation\n",
    "policy_value_df_dict"
   ]
  },
  {
   "cell_type": "code",
   "execution_count": 35,
   "metadata": {},
   "outputs": [],
   "source": [
    "policy_value_dict = ope.estimate_policy_value(\n",
    "    input_dict=input_dict,\n",
    ")"
   ]
  },
  {
   "cell_type": "code",
   "execution_count": 36,
   "metadata": {},
   "outputs": [
    {
     "data": {
      "text/plain": [
       "{'cql': {'on_policy': 13.259525722031249,\n",
       "  'dm': 4.860466461706162,\n",
       "  'tis': 175.2314054802978,\n",
       "  'pdis': 14.739618120175937,\n",
       "  'dr': -4.642209047940817,\n",
       "  'sntis': 22.618690859880452,\n",
       "  'snpdis': 12.665259360255106,\n",
       "  'sndr': 13.074580608665164,\n",
       "  'sm_is': 0.0,\n",
       "  'sm_dr': 4.860466461706162,\n",
       "  'sm_snis': 0.0,\n",
       "  'sm_sndr': 4.860466461706162,\n",
       "  'sam_is': 0.00011509620219435228,\n",
       "  'sam_dr': 4.8581649556523345,\n",
       "  'sam_snis': 3.493907846959563,\n",
       "  'sam_sndr': 7.746783082708348,\n",
       "  'drl': 4.8071838723066005},\n",
       " 'sac': {'on_policy': 13.259525722031249,\n",
       "  'dm': 3.7698629168987274,\n",
       "  'tis': 38.44074141665446,\n",
       "  'pdis': 17.508719288896252,\n",
       "  'dr': 12.282022370482792,\n",
       "  'sntis': 13.82727637796905,\n",
       "  'snpdis': 13.85672201364144,\n",
       "  'sndr': 13.732130364880495,\n",
       "  'sm_is': 0.0,\n",
       "  'sm_dr': 3.7698629168987274,\n",
       "  'sm_snis': 0.0,\n",
       "  'sm_sndr': 3.7698629168987274,\n",
       "  'sam_is': 0.000271935288191729,\n",
       "  'sam_dr': 3.7701285639778814,\n",
       "  'sam_snis': 7.936057757800308,\n",
       "  'sam_sndr': 11.522407933669701,\n",
       "  'drl': 3.775278379282946}}"
      ]
     },
     "execution_count": 36,
     "metadata": {},
     "output_type": "execute_result"
    }
   ],
   "source": [
    "# policy_value_dict"
   ]
  },
  {
   "cell_type": "code",
   "execution_count": 37,
   "metadata": {},
   "outputs": [],
   "source": [
    "from pandas import DataFrame\n",
    "cql_data=DataFrame()\n",
    "sac_data=DataFrame()"
   ]
  },
  {
   "cell_type": "code",
   "execution_count": 69,
   "metadata": {},
   "outputs": [],
   "source": [
    "tmp_cql = DataFrame(policy_value_dict)"
   ]
  },
  {
   "cell_type": "code",
   "execution_count": 70,
   "metadata": {},
   "outputs": [
    {
     "data": {
      "text/html": [
       "<div>\n",
       "<style scoped>\n",
       "    .dataframe tbody tr th:only-of-type {\n",
       "        vertical-align: middle;\n",
       "    }\n",
       "\n",
       "    .dataframe tbody tr th {\n",
       "        vertical-align: top;\n",
       "    }\n",
       "\n",
       "    .dataframe thead th {\n",
       "        text-align: right;\n",
       "    }\n",
       "</style>\n",
       "<table border=\"1\" class=\"dataframe\">\n",
       "  <thead>\n",
       "    <tr style=\"text-align: right;\">\n",
       "      <th></th>\n",
       "      <th>cql</th>\n",
       "      <th>sac</th>\n",
       "    </tr>\n",
       "  </thead>\n",
       "  <tbody>\n",
       "    <tr>\n",
       "      <th>on_policy</th>\n",
       "      <td>13.259526</td>\n",
       "      <td>13.259526</td>\n",
       "    </tr>\n",
       "    <tr>\n",
       "      <th>dm</th>\n",
       "      <td>4.860466</td>\n",
       "      <td>3.769863</td>\n",
       "    </tr>\n",
       "    <tr>\n",
       "      <th>tis</th>\n",
       "      <td>175.231405</td>\n",
       "      <td>38.440741</td>\n",
       "    </tr>\n",
       "    <tr>\n",
       "      <th>pdis</th>\n",
       "      <td>14.739618</td>\n",
       "      <td>17.508719</td>\n",
       "    </tr>\n",
       "    <tr>\n",
       "      <th>dr</th>\n",
       "      <td>-4.642209</td>\n",
       "      <td>12.282022</td>\n",
       "    </tr>\n",
       "    <tr>\n",
       "      <th>sntis</th>\n",
       "      <td>22.618691</td>\n",
       "      <td>13.827276</td>\n",
       "    </tr>\n",
       "    <tr>\n",
       "      <th>snpdis</th>\n",
       "      <td>12.665259</td>\n",
       "      <td>13.856722</td>\n",
       "    </tr>\n",
       "    <tr>\n",
       "      <th>sndr</th>\n",
       "      <td>13.074581</td>\n",
       "      <td>13.732130</td>\n",
       "    </tr>\n",
       "    <tr>\n",
       "      <th>sm_is</th>\n",
       "      <td>0.000000</td>\n",
       "      <td>0.000000</td>\n",
       "    </tr>\n",
       "    <tr>\n",
       "      <th>sm_dr</th>\n",
       "      <td>4.860466</td>\n",
       "      <td>3.769863</td>\n",
       "    </tr>\n",
       "    <tr>\n",
       "      <th>sm_snis</th>\n",
       "      <td>0.000000</td>\n",
       "      <td>0.000000</td>\n",
       "    </tr>\n",
       "    <tr>\n",
       "      <th>sm_sndr</th>\n",
       "      <td>4.860466</td>\n",
       "      <td>3.769863</td>\n",
       "    </tr>\n",
       "    <tr>\n",
       "      <th>sam_is</th>\n",
       "      <td>0.000115</td>\n",
       "      <td>0.000272</td>\n",
       "    </tr>\n",
       "    <tr>\n",
       "      <th>sam_dr</th>\n",
       "      <td>4.858165</td>\n",
       "      <td>3.770129</td>\n",
       "    </tr>\n",
       "    <tr>\n",
       "      <th>sam_snis</th>\n",
       "      <td>3.493908</td>\n",
       "      <td>7.936058</td>\n",
       "    </tr>\n",
       "    <tr>\n",
       "      <th>sam_sndr</th>\n",
       "      <td>7.746783</td>\n",
       "      <td>11.522408</td>\n",
       "    </tr>\n",
       "    <tr>\n",
       "      <th>drl</th>\n",
       "      <td>4.807184</td>\n",
       "      <td>3.775278</td>\n",
       "    </tr>\n",
       "  </tbody>\n",
       "</table>\n",
       "</div>"
      ],
      "text/plain": [
       "                  cql        sac\n",
       "on_policy   13.259526  13.259526\n",
       "dm           4.860466   3.769863\n",
       "tis        175.231405  38.440741\n",
       "pdis        14.739618  17.508719\n",
       "dr          -4.642209  12.282022\n",
       "sntis       22.618691  13.827276\n",
       "snpdis      12.665259  13.856722\n",
       "sndr        13.074581  13.732130\n",
       "sm_is        0.000000   0.000000\n",
       "sm_dr        4.860466   3.769863\n",
       "sm_snis      0.000000   0.000000\n",
       "sm_sndr      4.860466   3.769863\n",
       "sam_is       0.000115   0.000272\n",
       "sam_dr       4.858165   3.770129\n",
       "sam_snis     3.493908   7.936058\n",
       "sam_sndr     7.746783  11.522408\n",
       "drl          4.807184   3.775278"
      ]
     },
     "execution_count": 70,
     "metadata": {},
     "output_type": "execute_result"
    }
   ],
   "source": [
    "tmp_cql"
   ]
  },
  {
   "cell_type": "code",
   "execution_count": 77,
   "metadata": {},
   "outputs": [],
   "source": [
    "tmp_cql = DataFrame(policy_value_dict)['cql']*2\n",
    "cql_data = pd.concat([cql_data, tmp_cql], axis=1)\n",
    "tmp_cql = DataFrame(policy_value_dict)['cql']*4\n",
    "cql_data = pd.concat([cql_data, tmp_cql], axis=1)\n",
    "# tmp_sac = DataFrame(policy_value_dict)['sac']\n",
    "# sac_data = pd.concat([sac_data, tmp_sac], axis=1)"
   ]
  },
  {
   "cell_type": "code",
   "execution_count": 78,
   "metadata": {},
   "outputs": [
    {
     "data": {
      "text/html": [
       "<div>\n",
       "<style scoped>\n",
       "    .dataframe tbody tr th:only-of-type {\n",
       "        vertical-align: middle;\n",
       "    }\n",
       "\n",
       "    .dataframe tbody tr th {\n",
       "        vertical-align: top;\n",
       "    }\n",
       "\n",
       "    .dataframe thead th {\n",
       "        text-align: right;\n",
       "    }\n",
       "</style>\n",
       "<table border=\"1\" class=\"dataframe\">\n",
       "  <thead>\n",
       "    <tr style=\"text-align: right;\">\n",
       "      <th></th>\n",
       "      <th>cql</th>\n",
       "      <th>cql</th>\n",
       "      <th>cql</th>\n",
       "      <th>cql</th>\n",
       "      <th>cql</th>\n",
       "      <th>cql</th>\n",
       "      <th>cql</th>\n",
       "      <th>cql</th>\n",
       "      <th>cql</th>\n",
       "      <th>cql</th>\n",
       "    </tr>\n",
       "  </thead>\n",
       "  <tbody>\n",
       "    <tr>\n",
       "      <th>on_policy</th>\n",
       "      <td>13.259526</td>\n",
       "      <td>13.259526</td>\n",
       "      <td>13.259526</td>\n",
       "      <td>14.259526</td>\n",
       "      <td>13.259526</td>\n",
       "      <td>14.259526</td>\n",
       "      <td>23.259526</td>\n",
       "      <td>14.259526</td>\n",
       "      <td>26.519051</td>\n",
       "      <td>53.038103</td>\n",
       "    </tr>\n",
       "    <tr>\n",
       "      <th>dm</th>\n",
       "      <td>4.860466</td>\n",
       "      <td>4.860466</td>\n",
       "      <td>4.860466</td>\n",
       "      <td>5.860466</td>\n",
       "      <td>4.860466</td>\n",
       "      <td>5.860466</td>\n",
       "      <td>14.860466</td>\n",
       "      <td>5.860466</td>\n",
       "      <td>9.720933</td>\n",
       "      <td>19.441866</td>\n",
       "    </tr>\n",
       "    <tr>\n",
       "      <th>tis</th>\n",
       "      <td>175.231405</td>\n",
       "      <td>175.231405</td>\n",
       "      <td>175.231405</td>\n",
       "      <td>176.231405</td>\n",
       "      <td>175.231405</td>\n",
       "      <td>176.231405</td>\n",
       "      <td>185.231405</td>\n",
       "      <td>176.231405</td>\n",
       "      <td>350.462811</td>\n",
       "      <td>700.925622</td>\n",
       "    </tr>\n",
       "    <tr>\n",
       "      <th>pdis</th>\n",
       "      <td>14.739618</td>\n",
       "      <td>14.739618</td>\n",
       "      <td>14.739618</td>\n",
       "      <td>15.739618</td>\n",
       "      <td>14.739618</td>\n",
       "      <td>15.739618</td>\n",
       "      <td>24.739618</td>\n",
       "      <td>15.739618</td>\n",
       "      <td>29.479236</td>\n",
       "      <td>58.958472</td>\n",
       "    </tr>\n",
       "    <tr>\n",
       "      <th>dr</th>\n",
       "      <td>-4.642209</td>\n",
       "      <td>-4.642209</td>\n",
       "      <td>-4.642209</td>\n",
       "      <td>-3.642209</td>\n",
       "      <td>-4.642209</td>\n",
       "      <td>-3.642209</td>\n",
       "      <td>5.357791</td>\n",
       "      <td>-3.642209</td>\n",
       "      <td>-9.284418</td>\n",
       "      <td>-18.568836</td>\n",
       "    </tr>\n",
       "    <tr>\n",
       "      <th>sntis</th>\n",
       "      <td>22.618691</td>\n",
       "      <td>22.618691</td>\n",
       "      <td>22.618691</td>\n",
       "      <td>23.618691</td>\n",
       "      <td>22.618691</td>\n",
       "      <td>23.618691</td>\n",
       "      <td>32.618691</td>\n",
       "      <td>23.618691</td>\n",
       "      <td>45.237382</td>\n",
       "      <td>90.474763</td>\n",
       "    </tr>\n",
       "    <tr>\n",
       "      <th>snpdis</th>\n",
       "      <td>12.665259</td>\n",
       "      <td>12.665259</td>\n",
       "      <td>12.665259</td>\n",
       "      <td>13.665259</td>\n",
       "      <td>12.665259</td>\n",
       "      <td>13.665259</td>\n",
       "      <td>22.665259</td>\n",
       "      <td>13.665259</td>\n",
       "      <td>25.330519</td>\n",
       "      <td>50.661037</td>\n",
       "    </tr>\n",
       "    <tr>\n",
       "      <th>sndr</th>\n",
       "      <td>13.074581</td>\n",
       "      <td>13.074581</td>\n",
       "      <td>13.074581</td>\n",
       "      <td>14.074581</td>\n",
       "      <td>13.074581</td>\n",
       "      <td>14.074581</td>\n",
       "      <td>23.074581</td>\n",
       "      <td>14.074581</td>\n",
       "      <td>26.149161</td>\n",
       "      <td>52.298322</td>\n",
       "    </tr>\n",
       "    <tr>\n",
       "      <th>sm_is</th>\n",
       "      <td>0.000000</td>\n",
       "      <td>0.000000</td>\n",
       "      <td>0.000000</td>\n",
       "      <td>1.000000</td>\n",
       "      <td>0.000000</td>\n",
       "      <td>1.000000</td>\n",
       "      <td>10.000000</td>\n",
       "      <td>1.000000</td>\n",
       "      <td>0.000000</td>\n",
       "      <td>0.000000</td>\n",
       "    </tr>\n",
       "    <tr>\n",
       "      <th>sm_dr</th>\n",
       "      <td>4.860466</td>\n",
       "      <td>4.860466</td>\n",
       "      <td>4.860466</td>\n",
       "      <td>5.860466</td>\n",
       "      <td>4.860466</td>\n",
       "      <td>5.860466</td>\n",
       "      <td>14.860466</td>\n",
       "      <td>5.860466</td>\n",
       "      <td>9.720933</td>\n",
       "      <td>19.441866</td>\n",
       "    </tr>\n",
       "    <tr>\n",
       "      <th>sm_snis</th>\n",
       "      <td>0.000000</td>\n",
       "      <td>0.000000</td>\n",
       "      <td>0.000000</td>\n",
       "      <td>1.000000</td>\n",
       "      <td>0.000000</td>\n",
       "      <td>1.000000</td>\n",
       "      <td>10.000000</td>\n",
       "      <td>1.000000</td>\n",
       "      <td>0.000000</td>\n",
       "      <td>0.000000</td>\n",
       "    </tr>\n",
       "    <tr>\n",
       "      <th>sm_sndr</th>\n",
       "      <td>4.860466</td>\n",
       "      <td>4.860466</td>\n",
       "      <td>4.860466</td>\n",
       "      <td>5.860466</td>\n",
       "      <td>4.860466</td>\n",
       "      <td>5.860466</td>\n",
       "      <td>14.860466</td>\n",
       "      <td>5.860466</td>\n",
       "      <td>9.720933</td>\n",
       "      <td>19.441866</td>\n",
       "    </tr>\n",
       "    <tr>\n",
       "      <th>sam_is</th>\n",
       "      <td>0.000115</td>\n",
       "      <td>0.000115</td>\n",
       "      <td>0.000115</td>\n",
       "      <td>1.000115</td>\n",
       "      <td>0.000115</td>\n",
       "      <td>1.000115</td>\n",
       "      <td>10.000115</td>\n",
       "      <td>1.000115</td>\n",
       "      <td>0.000230</td>\n",
       "      <td>0.000460</td>\n",
       "    </tr>\n",
       "    <tr>\n",
       "      <th>sam_dr</th>\n",
       "      <td>4.858165</td>\n",
       "      <td>4.858165</td>\n",
       "      <td>4.858165</td>\n",
       "      <td>5.858165</td>\n",
       "      <td>4.858165</td>\n",
       "      <td>5.858165</td>\n",
       "      <td>14.858165</td>\n",
       "      <td>5.858165</td>\n",
       "      <td>9.716330</td>\n",
       "      <td>19.432660</td>\n",
       "    </tr>\n",
       "    <tr>\n",
       "      <th>sam_snis</th>\n",
       "      <td>3.493908</td>\n",
       "      <td>3.493908</td>\n",
       "      <td>3.493908</td>\n",
       "      <td>4.493908</td>\n",
       "      <td>3.493908</td>\n",
       "      <td>4.493908</td>\n",
       "      <td>13.493908</td>\n",
       "      <td>4.493908</td>\n",
       "      <td>6.987816</td>\n",
       "      <td>13.975631</td>\n",
       "    </tr>\n",
       "    <tr>\n",
       "      <th>sam_sndr</th>\n",
       "      <td>7.746783</td>\n",
       "      <td>7.746783</td>\n",
       "      <td>7.746783</td>\n",
       "      <td>8.746783</td>\n",
       "      <td>7.746783</td>\n",
       "      <td>8.746783</td>\n",
       "      <td>17.746783</td>\n",
       "      <td>8.746783</td>\n",
       "      <td>15.493566</td>\n",
       "      <td>30.987132</td>\n",
       "    </tr>\n",
       "    <tr>\n",
       "      <th>drl</th>\n",
       "      <td>4.807184</td>\n",
       "      <td>4.807184</td>\n",
       "      <td>4.807184</td>\n",
       "      <td>5.807184</td>\n",
       "      <td>4.807184</td>\n",
       "      <td>5.807184</td>\n",
       "      <td>14.807184</td>\n",
       "      <td>5.807184</td>\n",
       "      <td>9.614368</td>\n",
       "      <td>19.228735</td>\n",
       "    </tr>\n",
       "  </tbody>\n",
       "</table>\n",
       "</div>"
      ],
      "text/plain": [
       "                  cql         cql         cql         cql         cql  \\\n",
       "on_policy   13.259526   13.259526   13.259526   14.259526   13.259526   \n",
       "dm           4.860466    4.860466    4.860466    5.860466    4.860466   \n",
       "tis        175.231405  175.231405  175.231405  176.231405  175.231405   \n",
       "pdis        14.739618   14.739618   14.739618   15.739618   14.739618   \n",
       "dr          -4.642209   -4.642209   -4.642209   -3.642209   -4.642209   \n",
       "sntis       22.618691   22.618691   22.618691   23.618691   22.618691   \n",
       "snpdis      12.665259   12.665259   12.665259   13.665259   12.665259   \n",
       "sndr        13.074581   13.074581   13.074581   14.074581   13.074581   \n",
       "sm_is        0.000000    0.000000    0.000000    1.000000    0.000000   \n",
       "sm_dr        4.860466    4.860466    4.860466    5.860466    4.860466   \n",
       "sm_snis      0.000000    0.000000    0.000000    1.000000    0.000000   \n",
       "sm_sndr      4.860466    4.860466    4.860466    5.860466    4.860466   \n",
       "sam_is       0.000115    0.000115    0.000115    1.000115    0.000115   \n",
       "sam_dr       4.858165    4.858165    4.858165    5.858165    4.858165   \n",
       "sam_snis     3.493908    3.493908    3.493908    4.493908    3.493908   \n",
       "sam_sndr     7.746783    7.746783    7.746783    8.746783    7.746783   \n",
       "drl          4.807184    4.807184    4.807184    5.807184    4.807184   \n",
       "\n",
       "                  cql         cql         cql         cql         cql  \n",
       "on_policy   14.259526   23.259526   14.259526   26.519051   53.038103  \n",
       "dm           5.860466   14.860466    5.860466    9.720933   19.441866  \n",
       "tis        176.231405  185.231405  176.231405  350.462811  700.925622  \n",
       "pdis        15.739618   24.739618   15.739618   29.479236   58.958472  \n",
       "dr          -3.642209    5.357791   -3.642209   -9.284418  -18.568836  \n",
       "sntis       23.618691   32.618691   23.618691   45.237382   90.474763  \n",
       "snpdis      13.665259   22.665259   13.665259   25.330519   50.661037  \n",
       "sndr        14.074581   23.074581   14.074581   26.149161   52.298322  \n",
       "sm_is        1.000000   10.000000    1.000000    0.000000    0.000000  \n",
       "sm_dr        5.860466   14.860466    5.860466    9.720933   19.441866  \n",
       "sm_snis      1.000000   10.000000    1.000000    0.000000    0.000000  \n",
       "sm_sndr      5.860466   14.860466    5.860466    9.720933   19.441866  \n",
       "sam_is       1.000115   10.000115    1.000115    0.000230    0.000460  \n",
       "sam_dr       5.858165   14.858165    5.858165    9.716330   19.432660  \n",
       "sam_snis     4.493908   13.493908    4.493908    6.987816   13.975631  \n",
       "sam_sndr     8.746783   17.746783    8.746783   15.493566   30.987132  \n",
       "drl          5.807184   14.807184    5.807184    9.614368   19.228735  "
      ]
     },
     "execution_count": 78,
     "metadata": {},
     "output_type": "execute_result"
    }
   ],
   "source": [
    "cql_data"
   ]
  },
  {
   "cell_type": "code",
   "execution_count": 80,
   "metadata": {},
   "outputs": [],
   "source": [
    "bias = abs(cql_data.mean(axis=1)-cql_data.mean(axis=1)['on_policy'])\n",
    "variance = cql_data.var(axis=1)"
   ]
  },
  {
   "cell_type": "code",
   "execution_count": 81,
   "metadata": {},
   "outputs": [
    {
     "data": {
      "text/plain": [
       "on_policy      0.000000\n",
       "dm            11.758683\n",
       "tis          226.760632\n",
       "pdis           2.072129\n",
       "dr            25.062429\n",
       "sntis         13.102831\n",
       "snpdis         0.831973\n",
       "sndr           0.258923\n",
       "sm_is         18.563336\n",
       "sm_dr         11.758683\n",
       "sm_snis       18.563336\n",
       "sm_sndr       11.758683\n",
       "sam_is        18.563175\n",
       "sam_dr        11.761905\n",
       "sam_snis      13.671865\n",
       "sam_sndr       7.717840\n",
       "drl           11.833279\n",
       "dtype: float64"
      ]
     },
     "execution_count": 81,
     "metadata": {},
     "output_type": "execute_result"
    }
   ],
   "source": [
    "bias"
   ]
  },
  {
   "cell_type": "code",
   "execution_count": 82,
   "metadata": {},
   "outputs": [
    {
     "data": {
      "text/plain": [
       "on_policy      158.338569\n",
       "dm              25.999320\n",
       "tis          28466.052811\n",
       "pdis           195.306805\n",
       "dr              35.044428\n",
       "sntis          460.927677\n",
       "snpdis         144.646131\n",
       "sndr           154.006610\n",
       "sm_is            9.566667\n",
       "sm_dr           25.999320\n",
       "sm_snis          9.566667\n",
       "sm_sndr         25.999320\n",
       "sam_is           9.566534\n",
       "sam_dr          25.981103\n",
       "sam_snis        16.922828\n",
       "sam_sndr        56.626633\n",
       "drl             25.580114\n",
       "dtype: float64"
      ]
     },
     "execution_count": 82,
     "metadata": {},
     "output_type": "execute_result"
    }
   ],
   "source": [
    "variance"
   ]
  },
  {
   "cell_type": "code",
   "execution_count": 45,
   "metadata": {},
   "outputs": [],
   "source": [
    "# bias.loc['n_trajectory'] = n_trajectory"
   ]
  },
  {
   "cell_type": "code",
   "execution_count": 47,
   "metadata": {},
   "outputs": [],
   "source": [
    "# n_trajectories=10"
   ]
  },
  {
   "cell_type": "code",
   "execution_count": 48,
   "metadata": {},
   "outputs": [],
   "source": [
    "# bias_df=DataFrame()\n",
    "# bias_df[n_trajectories] = bias\n",
    "# n_trajectories=100\n",
    "# bias_df[n_trajectories] = bias\n",
    "# n_trajectories=400\n",
    "# bias_df[n_trajectories] = bias\n",
    "# n_trajectories=1600\n",
    "# bias_df[n_trajectories] = bias\n",
    "# n_trajectories=6400\n",
    "# bias_df[n_trajectories] = bias\n"
   ]
  },
  {
   "cell_type": "code",
   "execution_count": 50,
   "metadata": {},
   "outputs": [
    {
     "data": {
      "text/html": [
       "<div>\n",
       "<style scoped>\n",
       "    .dataframe tbody tr th:only-of-type {\n",
       "        vertical-align: middle;\n",
       "    }\n",
       "\n",
       "    .dataframe tbody tr th {\n",
       "        vertical-align: top;\n",
       "    }\n",
       "\n",
       "    .dataframe thead th {\n",
       "        text-align: right;\n",
       "    }\n",
       "</style>\n",
       "<table border=\"1\" class=\"dataframe\">\n",
       "  <thead>\n",
       "    <tr style=\"text-align: right;\">\n",
       "      <th></th>\n",
       "      <th>10</th>\n",
       "      <th>100</th>\n",
       "      <th>400</th>\n",
       "      <th>1600</th>\n",
       "      <th>6400</th>\n",
       "    </tr>\n",
       "  </thead>\n",
       "  <tbody>\n",
       "    <tr>\n",
       "      <th>dm</th>\n",
       "      <td>8.399059</td>\n",
       "      <td>8.399059</td>\n",
       "      <td>8.399059</td>\n",
       "      <td>8.399059</td>\n",
       "      <td>8.399059</td>\n",
       "    </tr>\n",
       "    <tr>\n",
       "      <th>tis</th>\n",
       "      <td>161.971880</td>\n",
       "      <td>161.971880</td>\n",
       "      <td>161.971880</td>\n",
       "      <td>161.971880</td>\n",
       "      <td>161.971880</td>\n",
       "    </tr>\n",
       "  </tbody>\n",
       "</table>\n",
       "</div>"
      ],
      "text/plain": [
       "           10          100         400         1600        6400\n",
       "dm     8.399059    8.399059    8.399059    8.399059    8.399059\n",
       "tis  161.971880  161.971880  161.971880  161.971880  161.971880"
      ]
     },
     "execution_count": 50,
     "metadata": {},
     "output_type": "execute_result"
    }
   ],
   "source": [
    "# bias_df.filter(items=['dm', 'tis'], axis=0)"
   ]
  },
  {
   "cell_type": "code",
   "execution_count": 51,
   "metadata": {},
   "outputs": [],
   "source": [
    "bias_df_list = []"
   ]
  },
  {
   "cell_type": "code",
   "execution_count": 52,
   "metadata": {},
   "outputs": [
    {
     "data": {
      "text/plain": [
       "on_policy      0.000000\n",
       "dm             8.399059\n",
       "tis          161.971880\n",
       "pdis           1.480092\n",
       "dr            17.901735\n",
       "sntis          9.359165\n",
       "snpdis         0.594266\n",
       "sndr           0.184945\n",
       "sm_is         13.259526\n",
       "sm_dr          8.399059\n",
       "sm_snis       13.259526\n",
       "sm_sndr        8.399059\n",
       "sam_is        13.259411\n",
       "sam_dr         8.401361\n",
       "sam_snis       9.765618\n",
       "sam_sndr       5.512743\n",
       "drl            8.452342\n",
       "dtype: float64"
      ]
     },
     "execution_count": 52,
     "metadata": {},
     "output_type": "execute_result"
    }
   ],
   "source": [
    "bias"
   ]
  },
  {
   "cell_type": "code",
   "execution_count": 53,
   "metadata": {},
   "outputs": [],
   "source": [
    "n_trajectories_list = [100, 200, 400, 800, 1600, 3200, 6400]"
   ]
  },
  {
   "cell_type": "code",
   "execution_count": null,
   "metadata": {},
   "outputs": [],
   "source": [
    "bias_result_df = DataFrame()"
   ]
  },
  {
   "cell_type": "code",
   "execution_count": 54,
   "metadata": {},
   "outputs": [],
   "source": [
    "for n_trajectories in n_trajectories_list:\n",
    "    bias = bias + 1\n",
    "    bias_df = DataFrame(DataFrame(bias).stack())\\\n",
    "    .reset_index(1).rename(columns={\"level_1\": \"est\", 0: \"bias\"})\n",
    "    bias_df[\"n_trajectories\"] = n_trajectories\n",
    "    bias_df_list.append(bias_df)"
   ]
  },
  {
   "cell_type": "code",
   "execution_count": 55,
   "metadata": {},
   "outputs": [],
   "source": [
    "bias_result_df = pd.concat(bias_df_list).reset_index(level=0)"
   ]
  },
  {
   "cell_type": "code",
   "execution_count": 104,
   "metadata": {},
   "outputs": [],
   "source": [
    "variance_df_list = []\n",
    "variance_result_df = DataFrame()"
   ]
  },
  {
   "cell_type": "code",
   "execution_count": 105,
   "metadata": {},
   "outputs": [],
   "source": [
    "for n_trajectories in n_trajectories_list:\n",
    "    variance = variance + 1\n",
    "    variance_df = DataFrame(DataFrame(variance).stack())\\\n",
    "    .reset_index(1).rename(columns={\"level_1\": \"est\", 0: \"variance\"})\n",
    "    variance_df[\"n_trajectories\"] = n_trajectories\n",
    "    variance_df_list.append(variance_df)"
   ]
  },
  {
   "cell_type": "code",
   "execution_count": 106,
   "metadata": {},
   "outputs": [],
   "source": [
    "variance_result_df = pd.concat(variance_df_list).reset_index(level=0)"
   ]
  },
  {
   "cell_type": "code",
   "execution_count": 107,
   "metadata": {},
   "outputs": [
    {
     "data": {
      "text/html": [
       "<div>\n",
       "<style scoped>\n",
       "    .dataframe tbody tr th:only-of-type {\n",
       "        vertical-align: middle;\n",
       "    }\n",
       "\n",
       "    .dataframe tbody tr th {\n",
       "        vertical-align: top;\n",
       "    }\n",
       "\n",
       "    .dataframe thead th {\n",
       "        text-align: right;\n",
       "    }\n",
       "</style>\n",
       "<table border=\"1\" class=\"dataframe\">\n",
       "  <thead>\n",
       "    <tr style=\"text-align: right;\">\n",
       "      <th></th>\n",
       "      <th>index</th>\n",
       "      <th>est</th>\n",
       "      <th>variance</th>\n",
       "      <th>n_trajectories</th>\n",
       "    </tr>\n",
       "  </thead>\n",
       "  <tbody>\n",
       "    <tr>\n",
       "      <th>0</th>\n",
       "      <td>on_policy</td>\n",
       "      <td>0</td>\n",
       "      <td>202.338569</td>\n",
       "      <td>100</td>\n",
       "    </tr>\n",
       "    <tr>\n",
       "      <th>1</th>\n",
       "      <td>dm</td>\n",
       "      <td>0</td>\n",
       "      <td>69.999320</td>\n",
       "      <td>100</td>\n",
       "    </tr>\n",
       "    <tr>\n",
       "      <th>2</th>\n",
       "      <td>tis</td>\n",
       "      <td>0</td>\n",
       "      <td>28510.052811</td>\n",
       "      <td>100</td>\n",
       "    </tr>\n",
       "    <tr>\n",
       "      <th>3</th>\n",
       "      <td>pdis</td>\n",
       "      <td>0</td>\n",
       "      <td>239.306805</td>\n",
       "      <td>100</td>\n",
       "    </tr>\n",
       "    <tr>\n",
       "      <th>4</th>\n",
       "      <td>dr</td>\n",
       "      <td>0</td>\n",
       "      <td>79.044428</td>\n",
       "      <td>100</td>\n",
       "    </tr>\n",
       "    <tr>\n",
       "      <th>...</th>\n",
       "      <td>...</td>\n",
       "      <td>...</td>\n",
       "      <td>...</td>\n",
       "      <td>...</td>\n",
       "    </tr>\n",
       "    <tr>\n",
       "      <th>114</th>\n",
       "      <td>sam_is</td>\n",
       "      <td>0</td>\n",
       "      <td>59.566534</td>\n",
       "      <td>6400</td>\n",
       "    </tr>\n",
       "    <tr>\n",
       "      <th>115</th>\n",
       "      <td>sam_dr</td>\n",
       "      <td>0</td>\n",
       "      <td>75.981103</td>\n",
       "      <td>6400</td>\n",
       "    </tr>\n",
       "    <tr>\n",
       "      <th>116</th>\n",
       "      <td>sam_snis</td>\n",
       "      <td>0</td>\n",
       "      <td>66.922828</td>\n",
       "      <td>6400</td>\n",
       "    </tr>\n",
       "    <tr>\n",
       "      <th>117</th>\n",
       "      <td>sam_sndr</td>\n",
       "      <td>0</td>\n",
       "      <td>106.626633</td>\n",
       "      <td>6400</td>\n",
       "    </tr>\n",
       "    <tr>\n",
       "      <th>118</th>\n",
       "      <td>drl</td>\n",
       "      <td>0</td>\n",
       "      <td>75.580114</td>\n",
       "      <td>6400</td>\n",
       "    </tr>\n",
       "  </tbody>\n",
       "</table>\n",
       "<p>119 rows × 4 columns</p>\n",
       "</div>"
      ],
      "text/plain": [
       "         index  est      variance  n_trajectories\n",
       "0    on_policy    0    202.338569             100\n",
       "1           dm    0     69.999320             100\n",
       "2          tis    0  28510.052811             100\n",
       "3         pdis    0    239.306805             100\n",
       "4           dr    0     79.044428             100\n",
       "..         ...  ...           ...             ...\n",
       "114     sam_is    0     59.566534            6400\n",
       "115     sam_dr    0     75.981103            6400\n",
       "116   sam_snis    0     66.922828            6400\n",
       "117   sam_sndr    0    106.626633            6400\n",
       "118        drl    0     75.580114            6400\n",
       "\n",
       "[119 rows x 4 columns]"
      ]
     },
     "execution_count": 107,
     "metadata": {},
     "output_type": "execute_result"
    }
   ],
   "source": [
    "# bias_result_df\n",
    "variance_result_df"
   ]
  },
  {
   "cell_type": "code",
   "execution_count": 57,
   "metadata": {},
   "outputs": [
    {
     "data": {
      "text/html": [
       "<div>\n",
       "<style scoped>\n",
       "    .dataframe tbody tr th:only-of-type {\n",
       "        vertical-align: middle;\n",
       "    }\n",
       "\n",
       "    .dataframe tbody tr th {\n",
       "        vertical-align: top;\n",
       "    }\n",
       "\n",
       "    .dataframe thead th {\n",
       "        text-align: right;\n",
       "    }\n",
       "</style>\n",
       "<table border=\"1\" class=\"dataframe\">\n",
       "  <thead>\n",
       "    <tr style=\"text-align: right;\">\n",
       "      <th></th>\n",
       "      <th>index</th>\n",
       "      <th>est</th>\n",
       "      <th>bias</th>\n",
       "      <th>n_trajectories</th>\n",
       "    </tr>\n",
       "  </thead>\n",
       "  <tbody>\n",
       "    <tr>\n",
       "      <th>1</th>\n",
       "      <td>dm</td>\n",
       "      <td>0</td>\n",
       "      <td>9.399059</td>\n",
       "      <td>100</td>\n",
       "    </tr>\n",
       "    <tr>\n",
       "      <th>2</th>\n",
       "      <td>tis</td>\n",
       "      <td>0</td>\n",
       "      <td>162.971880</td>\n",
       "      <td>100</td>\n",
       "    </tr>\n",
       "    <tr>\n",
       "      <th>18</th>\n",
       "      <td>dm</td>\n",
       "      <td>0</td>\n",
       "      <td>10.399059</td>\n",
       "      <td>200</td>\n",
       "    </tr>\n",
       "    <tr>\n",
       "      <th>19</th>\n",
       "      <td>tis</td>\n",
       "      <td>0</td>\n",
       "      <td>163.971880</td>\n",
       "      <td>200</td>\n",
       "    </tr>\n",
       "    <tr>\n",
       "      <th>35</th>\n",
       "      <td>dm</td>\n",
       "      <td>0</td>\n",
       "      <td>11.399059</td>\n",
       "      <td>400</td>\n",
       "    </tr>\n",
       "    <tr>\n",
       "      <th>36</th>\n",
       "      <td>tis</td>\n",
       "      <td>0</td>\n",
       "      <td>164.971880</td>\n",
       "      <td>400</td>\n",
       "    </tr>\n",
       "    <tr>\n",
       "      <th>52</th>\n",
       "      <td>dm</td>\n",
       "      <td>0</td>\n",
       "      <td>12.399059</td>\n",
       "      <td>800</td>\n",
       "    </tr>\n",
       "    <tr>\n",
       "      <th>53</th>\n",
       "      <td>tis</td>\n",
       "      <td>0</td>\n",
       "      <td>165.971880</td>\n",
       "      <td>800</td>\n",
       "    </tr>\n",
       "    <tr>\n",
       "      <th>69</th>\n",
       "      <td>dm</td>\n",
       "      <td>0</td>\n",
       "      <td>13.399059</td>\n",
       "      <td>1600</td>\n",
       "    </tr>\n",
       "    <tr>\n",
       "      <th>70</th>\n",
       "      <td>tis</td>\n",
       "      <td>0</td>\n",
       "      <td>166.971880</td>\n",
       "      <td>1600</td>\n",
       "    </tr>\n",
       "    <tr>\n",
       "      <th>86</th>\n",
       "      <td>dm</td>\n",
       "      <td>0</td>\n",
       "      <td>14.399059</td>\n",
       "      <td>3200</td>\n",
       "    </tr>\n",
       "    <tr>\n",
       "      <th>87</th>\n",
       "      <td>tis</td>\n",
       "      <td>0</td>\n",
       "      <td>167.971880</td>\n",
       "      <td>3200</td>\n",
       "    </tr>\n",
       "    <tr>\n",
       "      <th>103</th>\n",
       "      <td>dm</td>\n",
       "      <td>0</td>\n",
       "      <td>15.399059</td>\n",
       "      <td>6400</td>\n",
       "    </tr>\n",
       "    <tr>\n",
       "      <th>104</th>\n",
       "      <td>tis</td>\n",
       "      <td>0</td>\n",
       "      <td>168.971880</td>\n",
       "      <td>6400</td>\n",
       "    </tr>\n",
       "  </tbody>\n",
       "</table>\n",
       "</div>"
      ],
      "text/plain": [
       "    index  est        bias  n_trajectories\n",
       "1      dm    0    9.399059             100\n",
       "2     tis    0  162.971880             100\n",
       "18     dm    0   10.399059             200\n",
       "19    tis    0  163.971880             200\n",
       "35     dm    0   11.399059             400\n",
       "36    tis    0  164.971880             400\n",
       "52     dm    0   12.399059             800\n",
       "53    tis    0  165.971880             800\n",
       "69     dm    0   13.399059            1600\n",
       "70    tis    0  166.971880            1600\n",
       "86     dm    0   14.399059            3200\n",
       "87    tis    0  167.971880            3200\n",
       "103    dm    0   15.399059            6400\n",
       "104   tis    0  168.971880            6400"
      ]
     },
     "execution_count": 57,
     "metadata": {},
     "output_type": "execute_result"
    }
   ],
   "source": [
    "result_df.query(\"(index == 'dm' or index == 'tis')\")"
   ]
  },
  {
   "cell_type": "code",
   "execution_count": 58,
   "metadata": {},
   "outputs": [
    {
     "data": {
      "image/png": "[encoded data removed]",
      "text/plain": [
       "<Figure size 1000x700 with 1 Axes>"
      ]
     },
     "metadata": {},
     "output_type": "display_data"
    }
   ],
   "source": [
    "# figure configs\n",
    "# query = \"(est == 'DM' or est == 'IPS') and num_data <= 6400\"\n",
    "xlabels = [100, 400, 1600, 6400]\n",
    "\n",
    "plt.style.use('ggplot')\n",
    "fig, ax = plt.subplots(figsize=(10, 7), tight_layout=True)\n",
    "sns.lineplot(\n",
    "    linewidth=5,\n",
    "    dashes=False,\n",
    "    legend=False,\n",
    "    x=\"n_trajectories\",\n",
    "    y=\"bias\",\n",
    "    hue=\"index\",\n",
    "    ax=ax,\n",
    "    data=result_df.query(\"(index == 'dm' or index == 'tis')\")\n",
    ",\n",
    ")\n",
    "# title and legend\n",
    "ax.legend([\"DM\", \"TIS\"], loc=\"upper right\", fontsize=25)\n",
    "# yaxis\n",
    "ax.set_yscale(\"log\")\n",
    "ax.set_ylabel(\"mean squared error (MSE)\", fontsize=25)\n",
    "ax.tick_params(axis=\"y\", labelsize=15)\n",
    "ax.yaxis.set_label_coords(-0.08, 0.5)\n",
    "# xaxis\n",
    "ax.set_xscale(\"log\")\n",
    "ax.set_xlabel(\"number of samples in the log data\", fontsize=25)\n",
    "ax.set_xticks(xlabels)\n",
    "ax.set_xticklabels(xlabels, fontsize=15)\n",
    "ax.xaxis.set_label_coords(0.5, -0.1)"
   ]
  },
  {
   "cell_type": "code",
   "execution_count": 108,
   "metadata": {},
   "outputs": [
    {
     "data": {
      "image/png": "[encoded data removed]",
      "text/plain": [
       "<Figure size 1000x700 with 1 Axes>"
      ]
     },
     "metadata": {},
     "output_type": "display_data"
    }
   ],
   "source": [
    "# figure configs\n",
    "# query = \"(est == 'DM' or est == 'IPS') and num_data <= 6400\"\n",
    "xlabels = [100, 400, 1600]\n",
    "\n",
    "plt.style.use('ggplot')\n",
    "fig, ax = plt.subplots(figsize=(10, 7), tight_layout=True)\n",
    "sns.lineplot(\n",
    "    linewidth=5,\n",
    "    dashes=False,\n",
    "    legend=False,\n",
    "    x=\"n_trajectories\",\n",
    "    y=\"variance\",\n",
    "    hue=\"index\",\n",
    "    ax=ax,\n",
    "    data=variance_result_df.query(\"(index == 'pdis' or index == 'dr')\"),\n",
    "    ci=None,\n",
    ")\n",
    "# title and legend\n",
    "ax.legend([\"PDIS\", \"DR\"], loc=\"upper right\", fontsize=25)\n",
    "# yaxis\n",
    "# ax.set_yscale(\"log\")\n",
    "ax.set_ylabel(\"variance\", fontsize=25)\n",
    "ax.tick_params(axis=\"y\", labelsize=15)\n",
    "ax.yaxis.set_label_coords(-0.08, 0.5)\n",
    "# xaxis\n",
    "ax.set_xscale(\"log\")\n",
    "ax.set_xlabel(\"number of trajectories\", fontsize=25)\n",
    "ax.set_xticks(xlabels)\n",
    "ax.set_xticklabels(xlabels, fontsize=15)\n",
    "ax.xaxis.set_label_coords(0.5, -0.1)"
   ]
  },
  {
   "cell_type": "code",
   "execution_count": 60,
   "metadata": {},
   "outputs": [
    {
     "data": {
      "text/plain": [
       "on_policy    0.0\n",
       "dm           0.0\n",
       "tis          0.0\n",
       "pdis         0.0\n",
       "dr           0.0\n",
       "sntis        0.0\n",
       "snpdis       0.0\n",
       "sndr         0.0\n",
       "sm_is        0.0\n",
       "sm_dr        0.0\n",
       "sm_snis      0.0\n",
       "sm_sndr      0.0\n",
       "sam_is       0.0\n",
       "sam_dr       0.0\n",
       "sam_snis     0.0\n",
       "sam_sndr     0.0\n",
       "drl          0.0\n",
       "dtype: float64"
      ]
     },
     "execution_count": 60,
     "metadata": {},
     "output_type": "execute_result"
    }
   ],
   "source": [
    "variance"
   ]
  },
  {
   "cell_type": "code",
   "execution_count": 61,
   "metadata": {},
   "outputs": [
    {
     "data": {
      "text/plain": [
       "13.259525722031249"
      ]
     },
     "execution_count": 61,
     "metadata": {},
     "output_type": "execute_result"
    }
   ],
   "source": [
    "policy_value_dict['cql']['on_policy']"
   ]
  },
  {
   "cell_type": "code",
   "execution_count": 62,
   "metadata": {},
   "outputs": [],
   "source": [
    "# # visualize and compare the result\n",
    "# ope.visualize_off_policy_estimates(\n",
    "#     input_dict, \n",
    "#     compared_estimators=basic_estimators_name,\n",
    "#     random_state=random_state, \n",
    "#     sharey=False,\n",
    "# )\n",
    "# # relative policy value to the behavior policy\n",
    "# # ope.visualize_off_policy_estimates(input_dict, random_state=random_state, is_relative=True, sharey=False)"
   ]
  },
  {
   "cell_type": "code",
   "execution_count": 63,
   "metadata": {},
   "outputs": [],
   "source": [
    "# # visualize and compare the result\n",
    "# ope.visualize_off_policy_estimates(\n",
    "#     input_dict, \n",
    "#     compared_estimators=state_marginal_estimators_name,\n",
    "#     random_state=random_state, \n",
    "#     sharey=False,\n",
    "# )"
   ]
  },
  {
   "cell_type": "code",
   "execution_count": 64,
   "metadata": {},
   "outputs": [],
   "source": [
    "# # visualize and compare the result\n",
    "# ope.visualize_off_policy_estimates(\n",
    "#     input_dict, \n",
    "#     compared_estimators=state_action_marginal_estimators_name,\n",
    "#     random_state=random_state, \n",
    "#     sharey=False,\n",
    "# )"
   ]
  },
  {
   "cell_type": "code",
   "execution_count": 65,
   "metadata": {},
   "outputs": [],
   "source": [
    "# # visualize and compare the result\n",
    "# ope.visualize_off_policy_estimates(\n",
    "#     input_dict, \n",
    "#     compared_estimators=[\"dm\", \"sm_is\", \"sm_dr\", \"sam_is\", \"sam_dr\", \"drl\"],\n",
    "#     random_state=random_state, \n",
    "#     sharey=False,\n",
    "# )"
   ]
  },
  {
   "cell_type": "code",
   "execution_count": 66,
   "metadata": {},
   "outputs": [],
   "source": [
    "# ope.visualize_off_policy_estimates(\n",
    "#     input_dict, \n",
    "#     compared_estimators=[\"dm\", \"snpdis\", \"sndr\", \"sm_snis\", \"sm_sndr\", \"sam_snis\", \"sam_sndr\", \"drl\"],\n",
    "#     random_state=random_state, \n",
    "#     sharey=False,\n",
    "# )"
   ]
  },
  {
   "cell_type": "markdown",
   "metadata": {},
   "source": [
    "For more advanced topics in OPE (e.g., cumulative distribution function estimation) and OPS, please refer to [examples/quickstart/rtb_synthetic_continuous_advanced.ipynb](https://github.com/negocia-inc/rtb_reinforcement_learing/blob/ope/examples/quickstart/rtb_synthetic_continuous_advanced.ipynb). \n",
    "\n",
    "For the examples in the discrete action space, please refer to [examples/quickstart/rtb_synthetic_discrete_zoo.ipynb](https://github.com/negocia-inc/rtb_reinforcement_learing/blob/ope/examples/quickstart/rtb_synthetic_discrete_zoo.ipynb)."
   ]
  },
  {
   "cell_type": "markdown",
   "metadata": {},
   "source": [
    "## Reference\n",
    "\n",
    "- Haanvid Lee, Jongmin Lee, Yunseon Choi, Wonseok Jeon, Byung-Jun Lee, Yung-Kyun Noh, and Kee-Eung Kim. \\\n",
    "\"Local Metric Learning for Off-Policy Evaluation in Contextual Bandits with Continuous Actions.\", 2022.\n",
    "\n",
    "- Yuta Saito, Shunsuke Aihara, Megumi Matsutani, and Yusuke Narita. \\\n",
    "\"Open Bandit Dataset and Pipeline: Towards Realistic and Reproducible Off-Policy Evaluation.\", 2021.\n",
    "\n",
    "- Takuma Seno and Michita Imai. \\\n",
    "\"d3rlpy: An Offline Deep Reinforcement Library.\", 2021.\n",
    "\n",
    "- Christina J. Yuan, Yash Chandak, Stephen Giguere, Philip S. Thomas, and Scott Niekum. \\\n",
    "\"SOPE: Spectrum of Off-Policy Estimators.\", 2021.\n",
    "\n",
    "- Nathan Kallus and Masatoshi Uehara. \\\n",
    "\"Double Reinforcement Learning for Efficient Off-Policy Evaluation in Markov Decision Processes.\", 2020.\n",
    "\n",
    "- Masatoshi Uehara, Jiawei Huang, and Nan Jiang. \\\n",
    "\"Minimax Weight and Q-Function Learning for Off-Policy Evaluation.\", 2020.\n",
    "\n",
    "- Mengjiao Yang, Ofir Nachum, Bo Dai, Lihong Li, and Dale Schuurmans. \\\n",
    "\"Off-Policy Evaluation via the Regularized Lagrangian.\", 2020.\n",
    "\n",
    "- Sergey Levine, Aviral Kumar, George Tucker, and Justin Fu. \\\n",
    "\"Offline Reinforcement Learning: Tutorial, Review, and Perspectives on Open Problems.\" 2020.\n",
    "\n",
    "- Aviral Kumar, Aurick Zhou, George Tucker, and Sergey Levine. \\\n",
    "\"Conservative Q-Learning for Offline Reinforcement Learning.\", 2020.\n",
    "\n",
    "- Nathan Kallus and Angela Zhou. \\\n",
    "\"Policy Evaluation and Optimization with Continuous Treatments.\", 2019.\n",
    "\n",
    "- Nathan Kallus and Masatoshi Uehara. \\\n",
    "\"Intrinsically Efficient, Stable, and Bounded Off-Policy Evaluation for Reinforcement Learning.\", 2019.\n",
    "\n",
    "- Hoang Le, Cameron Voloshin, and Yisong Yue. \\\n",
    "\"Batch Policy Learning under Constraints.\", 2019.\n",
    "\n",
    "- Qiang Liu, Lihong Li, Ziyang Tang, and Dengyong Zhou. \\\n",
    "\"Breaking the Curse of Horizon: Infinite-Horizon Off-Policy Estimation.\", 2018\n",
    "\n",
    "- Di Wu, Xiujun Chen, Xun Yang, Hao Wang, Qing Tan, Xiaoxun Zhang, Jian Xu, and Kun Gai. \\\n",
    "\"Budget Constrained Bidding by Model-free Reinforcement Learning in Display Advertising.\", 2018.\n",
    "\n",
    "- Jun Zhao, Guang Qiu, Ziyu Guan, Wei Zhao, and Xiaofei He. \\\n",
    "\"Deep Reinforcement Learning for Sponsored Search Real-time Bidding.\", 2018.\n",
    "\n",
    "- Josiah P. Hanna, Peter Stone, and Scott Niekum. \\\n",
    "\"Bootstrapping with Models: Confidence Intervals for Off-Policy Evaluation.\", 2017.\n",
    "\n",
    "- Nan Jiang and Lihong Li. \\\n",
    "\"Doubly Robust Off-policy Value Evaluation for Reinforcement Learning.\", 2016.\n",
    "\n",
    "- Philip S. Thomas and Emma Brunskill. \\\n",
    "\"Data-Efficient Off-Policy Policy Evaluation for Reinforcement Learning.\", 2016.\n",
    "\n",
    "- Greg Brockman, Vicki Cheung, Ludwig Pettersson, Jonas Schneider, John Schulman, Jie Tang, and Wojciech Zaremba. \\\n",
    "\"OpenAI Gym.\", 2016.\n",
    "\n",
    "- Philip S. Thomas, Georgios Theocharous, and Mohammad Ghavamzadeh. \\\n",
    "\"High Confidence Policy Improvement.\", 2015.\n",
    "\n",
    "- Philip S. Thomas, Georgios Theocharous, and Mohammad Ghavamzadeh. \\\n",
    "\"High Confidence Off-Policy Evaluation.\", 2015.\n",
    "\n",
    "- Adith Swaminathan and Thorsten Joachims. \\\n",
    "\"The Self-Normalized Estimator for Counterfactual Learning.\", 2015.\n",
    "\n",
    "- Hado van Hasselt, Arthur Guez, and David Silver. \\\n",
    "\"Deep Reinforcement Learning with Double Q-learning.\", 2015.\n",
    "\n",
    "- Miroslav Dudík, Dumitru Erhan, John Langford, and Lihong Li. \\\n",
    "\"Doubly Robust Policy Evaluation and Optimization.\", 2014.\n",
    "\n",
    "- Alex Strehl, John Langford, Sham Kakade, and Lihong Li. \\\n",
    "\"Learning from Logged Implicit Exploration Data.\", 2010.\n",
    "\n",
    "- Alina Beygelzimer and John Langford. \\\n",
    "\"The Offset Tree for Learning with Partial Labels.\", 2009.\n",
    "\n",
    "- Doina Precup, Richard S. Sutton, and Satinder P. Singh. \\\n",
    "\"Eligibility Traces for Off-Policy Policy Evaluation.\", 2000."
   ]
  },
  {
   "cell_type": "code",
   "execution_count": null,
   "metadata": {},
   "outputs": [],
   "source": []
  }
 ],
 "metadata": {
  "kernelspec": {
   "display_name": "Python 3",
   "language": "python",
   "name": "python3"
  },
  "language_info": {
   "codemirror_mode": {
    "name": "ipython",
    "version": 3
   },
   "file_extension": ".py",
   "mimetype": "text/x-python",
   "name": "python",
   "nbconvert_exporter": "python",
   "pygments_lexer": "ipython3",
   "version": "3.10.6 (main, Sep 10 2022, 14:58:52) [Clang 13.1.6 (clang-1316.0.21.2.5)]"
  },
  "vscode": {
   "interpreter": {
    "hash": "70404ee114725fce8ed9e697d67827f8546c678889944e6d695790702cbfe1f5"
   }
  }
 },
 "nbformat": 4,
 "nbformat_minor": 4
}
