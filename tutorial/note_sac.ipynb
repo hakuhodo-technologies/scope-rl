{
 "cells": [
  {
   "cell_type": "code",
   "execution_count": 3,
   "metadata": {},
   "outputs": [],
   "source": [
    "import sys\n",
    "sys.path.append('../')\n",
    "sys.path.append('../../')"
   ]
  },
  {
   "cell_type": "code",
   "execution_count": 4,
   "metadata": {},
   "outputs": [],
   "source": [
    "# implement data collection procedure on the RTBGym environment\n",
    "\n",
    "# import OFRL modules\n",
    "import ofrl\n",
    "from rtbgym import RTBEnv, CustomizedRTBEnv\n",
    "from basicgym import BasicEnv\n",
    "from ofrl.dataset import SyntheticDataset\n",
    "from ofrl.policy import OnlineHead, ContinuousEvalHead\n",
    "from ofrl.policy import ContinuousTruncatedGaussianHead as TruncatedGaussianHead\n",
    "from ofrl.ope.online import (\n",
    "    calc_on_policy_policy_value,\n",
    "    visualize_on_policy_policy_value,\n",
    ")\n",
    "from ofrl.utils import MinMaxScaler, MinMaxActionScaler\n",
    "\n",
    "# import d3rlpy algorithms\n",
    "from d3rlpy.algos import RandomPolicy\n",
    "# from d3rlpy.preprocessing import MinMaxScaler, MinMaxActionScaler\n",
    "from ofrl.utils import MinMaxScaler, MinMaxActionScaler\n",
    "\n",
    "# import from other libraries\n",
    "import gym\n",
    "import torch\n",
    "from sklearn.model_selection import train_test_split"
   ]
  },
  {
   "cell_type": "code",
   "execution_count": 5,
   "metadata": {},
   "outputs": [],
   "source": [
    "import pickle\n",
    "from glob import glob\n",
    "from tqdm import tqdm\n",
    "\n",
    "import numpy as np\n",
    "import pandas as pd\n",
    "from pandas import DataFrame\n",
    "\n",
    "import matplotlib.pyplot as plt\n",
    "import seaborn as sns\n",
    "\n",
    "%matplotlib inline"
   ]
  },
  {
   "cell_type": "code",
   "execution_count": 6,
   "metadata": {},
   "outputs": [],
   "source": [
    "# log directory\n",
    "from pathlib import Path\n",
    "Path(\"logs/\").mkdir(exist_ok=True)"
   ]
  },
  {
   "cell_type": "code",
   "execution_count": 7,
   "metadata": {},
   "outputs": [],
   "source": [
    "# standardized environment for discrete action\n",
    "env = gym.make(\"BasicEnv-continuous-v0\")\n",
    "# for api compatibility to d3rlpy\n",
    "from ofrl.utils import OldGymAPIWrapper\n",
    "env_ = OldGymAPIWrapper(env)\n",
    "# behavior policy\n",
    "from d3rlpy.algos import SAC\n",
    "from d3rlpy.models.encoders import VectorEncoderFactory\n",
    "from d3rlpy.models.q_functions import MeanQFunctionFactory\n",
    "from d3rlpy.online.buffers import ReplayBuffer\n",
    "\n",
    "# model\n",
    "sac = SAC(\n",
    "    actor_encoder_factory=VectorEncoderFactory(hidden_units=[30, 30]),\n",
    "    critic_encoder_factory=VectorEncoderFactory(hidden_units=[30, 30]),\n",
    "    q_func_factory=MeanQFunctionFactory(),\n",
    "    use_gpu=torch.cuda.is_available(),\n",
    "    action_scaler=MinMaxActionScaler(\n",
    "        minimum=env_.action_space.low,   # 0.1\n",
    "        maximum=env_.action_space.high,  # 10\n",
    "    ),\n",
    ")\n",
    "# setup replay buffer\n",
    "buffer = ReplayBuffer(\n",
    "    maxlen=10000,\n",
    "    env=env_,\n",
    ")"
   ]
  },
  {
   "cell_type": "code",
   "execution_count": 8,
   "metadata": {},
   "outputs": [
    {
     "name": "stdout",
     "output_type": "stream",
     "text": [
      "2023-04-01 17:18.13 [info     ] Directory is created at d3rlpy_logs/SAC_online_20230401171813\n",
      "2023-04-01 17:18.13 [debug    ] Fitting action scaler...       action_scler=min_max\n",
      "2023-04-01 17:18.13 [debug    ] Building model...\n",
      "2023-04-01 17:18.13 [debug    ] Model has been built.\n",
      "2023-04-01 17:18.13 [info     ] Parameters are saved to d3rlpy_logs/SAC_online_20230401171813/params.json params={'action_scaler': {'type': 'min_max', 'params': {'minimum': array([-1., -1., -1.]), 'maximum': array([1., 1., 1.])}}, 'actor_encoder_factory': {'type': 'vector', 'params': {'hidden_units': [30, 30], 'activation': 'relu', 'use_batch_norm': False, 'dropout_rate': None, 'use_dense': False}}, 'actor_learning_rate': 0.0003, 'actor_optim_factory': {'optim_cls': 'Adam', 'betas': (0.9, 0.999), 'eps': 1e-08, 'weight_decay': 0, 'amsgrad': False}, 'batch_size': 256, 'critic_encoder_factory': {'type': 'vector', 'params': {'hidden_units': [30, 30], 'activation': 'relu', 'use_batch_norm': False, 'dropout_rate': None, 'use_dense': False}}, 'critic_learning_rate': 0.0003, 'critic_optim_factory': {'optim_cls': 'Adam', 'betas': (0.9, 0.999), 'eps': 1e-08, 'weight_decay': 0, 'amsgrad': False}, 'gamma': 0.99, 'generated_maxlen': 100000, 'initial_temperature': 1.0, 'n_critics': 2, 'n_frames': 1, 'n_steps': 1, 'q_func_factory': {'type': 'mean', 'params': {'share_encoder': False}}, 'real_ratio': 1.0, 'reward_scaler': None, 'scaler': None, 'tau': 0.005, 'temp_learning_rate': 0.0003, 'temp_optim_factory': {'optim_cls': 'Adam', 'betas': (0.9, 0.999), 'eps': 1e-08, 'weight_decay': 0, 'amsgrad': False}, 'use_gpu': None, 'algorithm': 'SAC', 'observation_shape': (5,), 'action_size': 3}\n"
     ]
    },
    {
     "name": "stderr",
     "output_type": "stream",
     "text": [
      "/Users/ren/.pyenv/versions/3.10.6/lib/python3.10/site-packages/gym/utils/passive_env_checker.py:187: UserWarning: \u001b[33mWARN: Future gym versions will require that `Env.reset` can be passed `options` to allow the environment initialisation to be passed additional information.\u001b[0m\n",
      "  logger.warn(\n"
     ]
    },
    {
     "data": {
      "application/vnd.jupyter.widget-view+json": {
       "model_id": "a41840f562934568aa8adf8e9a4ad2a9",
       "version_major": 2,
       "version_minor": 0
      },
      "text/plain": [
       "  0%|          | 0/100000 [00:00<?, ?it/s]"
      ]
     },
     "metadata": {},
     "output_type": "display_data"
    },
    {
     "name": "stdout",
     "output_type": "stream",
     "text": [
      "2023-04-01 17:18.13 [info     ] Model parameters are saved to d3rlpy_logs/SAC_online_20230401171813/model_1000.pt\n",
      "2023-04-01 17:18.13 [info     ] SAC_online_20230401171813: epoch=1 step=1000 epoch=1 metrics={'time_inference': 0.0003254365921020508, 'time_environment_step': 4.0656805038452145e-05, 'time_step': 0.00037992095947265623, 'rollout_return': 0.08932265374065683, 'evaluation': -1.1987574441669455} step=1000\n",
      "2023-04-01 17:18.17 [info     ] Model parameters are saved to d3rlpy_logs/SAC_online_20230401171813/model_2000.pt\n",
      "2023-04-01 17:18.17 [info     ] SAC_online_20230401171813: epoch=2 step=2000 epoch=2 metrics={'time_inference': 0.0003221769332885742, 'time_environment_step': 7.005953788757324e-05, 'time_sample_batch': 0.0001411590576171875, 'time_algorithm_update': 0.0035253260135650636, 'temp_loss': 4.34237682890892, 'temp': 0.8688093042373657, 'critic_loss': 4.282832696080208, 'actor_loss': -4.036695408940315, 'time_step': 0.004087400913238525, 'rollout_return': 0.825727548279186, 'evaluation': 2.8729168553084525} step=2000\n",
      "2023-04-01 17:18.22 [info     ] Model parameters are saved to d3rlpy_logs/SAC_online_20230401171813/model_3000.pt\n",
      "2023-04-01 17:18.22 [info     ] SAC_online_20230401171813: epoch=3 step=3000 epoch=3 metrics={'time_inference': 0.00038079190254211424, 'time_environment_step': 7.362961769104004e-05, 'time_sample_batch': 0.00015995907783508301, 'time_algorithm_update': 0.0038098571300506593, 'temp_loss': 3.284777773141861, 'temp': 0.6654397268295288, 'critic_loss': 9.062974841117859, 'actor_loss': -5.632682114124298, 'time_step': 0.004457024574279786, 'rollout_return': 1.5760533159499917, 'evaluation': 3.372076804922267} step=3000\n",
      "2023-04-01 17:18.27 [info     ] Model parameters are saved to d3rlpy_logs/SAC_online_20230401171813/model_4000.pt\n",
      "2023-04-01 17:18.27 [info     ] SAC_online_20230401171813: epoch=4 step=4000 epoch=4 metrics={'time_inference': 0.00043949007987976075, 'time_environment_step': 7.478618621826172e-05, 'time_sample_batch': 0.00017479181289672851, 'time_algorithm_update': 0.0042008450031280516, 'temp_loss': 2.5388609631061554, 'temp': 0.5203627127110958, 'critic_loss': 9.279058805942535, 'actor_loss': -5.445351192474365, 'time_step': 0.004924428939819336, 'rollout_return': 1.4278508988002687, 'evaluation': 3.707562809772606} step=4000\n",
      "2023-04-01 17:18.33 [info     ] Model parameters are saved to d3rlpy_logs/SAC_online_20230401171813/model_5000.pt\n",
      "2023-04-01 17:18.33 [info     ] SAC_online_20230401171813: epoch=5 step=5000 epoch=5 metrics={'time_inference': 0.0005047149658203125, 'time_environment_step': 8.457779884338379e-05, 'time_sample_batch': 0.0001930851936340332, 'time_algorithm_update': 0.004747973442077637, 'temp_loss': 1.9785378850698472, 'temp': 0.41192103186249734, 'critic_loss': 7.119536149978638, 'actor_loss': -4.682937252998352, 'time_step': 0.005568544149398804, 'rollout_return': 1.9826183193269562, 'evaluation': 4.236222252631739} step=5000\n",
      "2023-04-01 17:18.39 [info     ] Model parameters are saved to d3rlpy_logs/SAC_online_20230401171813/model_6000.pt\n",
      "2023-04-01 17:18.39 [info     ] SAC_online_20230401171813: epoch=6 step=6000 epoch=6 metrics={'time_inference': 0.000547858476638794, 'time_environment_step': 9.04996395111084e-05, 'time_sample_batch': 0.00020571398735046387, 'time_algorithm_update': 0.005138534784317017, 'temp_loss': 1.5427793654203414, 'temp': 0.32862874963879585, 'critic_loss': 5.057672912359238, 'actor_loss': -3.9623080384731293, 'time_step': 0.0060248770713806155, 'rollout_return': 2.5187257238708627, 'evaluation': 4.467704849804305} step=6000\n",
      "2023-04-01 17:18.45 [info     ] Model parameters are saved to d3rlpy_logs/SAC_online_20230401171813/model_7000.pt\n",
      "2023-04-01 17:18.45 [info     ] SAC_online_20230401171813: epoch=7 step=7000 epoch=7 metrics={'time_inference': 0.0005617115497589111, 'time_environment_step': 8.884048461914063e-05, 'time_sample_batch': 0.0002083883285522461, 'time_algorithm_update': 0.005171551942825318, 'temp_loss': 1.1964415808916091, 'temp': 0.26349145048856737, 'critic_loss': 3.66879927611351, 'actor_loss': -3.3667296178340913, 'time_step': 0.006071830034255981, 'rollout_return': 3.1255967723408395, 'evaluation': 4.932883550075053} step=7000\n",
      "2023-04-01 17:18.51 [info     ] Model parameters are saved to d3rlpy_logs/SAC_online_20230401171813/model_8000.pt\n",
      "2023-04-01 17:18.51 [info     ] SAC_online_20230401171813: epoch=8 step=8000 epoch=8 metrics={'time_inference': 0.0005716664791107178, 'time_environment_step': 9.140968322753906e-05, 'time_sample_batch': 0.00021185302734375, 'time_algorithm_update': 0.005264042854309082, 'temp_loss': 0.9149642894864083, 'temp': 0.212366206869483, 'critic_loss': 2.794260105252266, 'actor_loss': -2.971437967538834, 'time_step': 0.006181021451950073, 'rollout_return': 3.861655898698496, 'evaluation': 5.357529963887965} step=8000\n",
      "2023-04-01 17:18.57 [info     ] Model parameters are saved to d3rlpy_logs/SAC_online_20230401171813/model_9000.pt\n",
      "2023-04-01 17:18.57 [info     ] SAC_online_20230401171813: epoch=9 step=9000 epoch=9 metrics={'time_inference': 0.0005613045692443848, 'time_environment_step': 8.796548843383789e-05, 'time_sample_batch': 0.00021268749237060547, 'time_algorithm_update': 0.0052148039340972905, 'temp_loss': 0.7009227157235146, 'temp': 0.1718468323945999, 'critic_loss': 2.279786609530449, 'actor_loss': -2.6881841716766357, 'time_step': 0.00611776328086853, 'rollout_return': 4.143536434754116, 'evaluation': 5.744059593184389} step=9000\n",
      "2023-04-01 17:19.04 [info     ] Model parameters are saved to d3rlpy_logs/SAC_online_20230401171813/model_10000.pt\n",
      "2023-04-01 17:19.04 [info     ] SAC_online_20230401171813: epoch=10 step=10000 epoch=10 metrics={'time_inference': 0.0005607907772064209, 'time_environment_step': 9.031462669372559e-05, 'time_sample_batch': 0.00021694207191467286, 'time_algorithm_update': 0.005188143730163574, 'temp_loss': 0.5329011416733265, 'temp': 0.13953058798611165, 'critic_loss': 1.9601564571857453, 'actor_loss': -2.505793101787567, 'time_step': 0.006097455978393554, 'rollout_return': 4.648931205961083, 'evaluation': 6.279119283032559} step=10000\n",
      "2023-04-01 17:19.10 [info     ] Model parameters are saved to d3rlpy_logs/SAC_online_20230401171813/model_11000.pt\n",
      "2023-04-01 17:19.10 [info     ] SAC_online_20230401171813: epoch=11 step=11000 epoch=11 metrics={'time_inference': 0.0005357723236083984, 'time_environment_step': 8.528733253479004e-05, 'time_sample_batch': 0.00020641899108886719, 'time_algorithm_update': 0.004992457151412964, 'temp_loss': 0.39740262055397035, 'temp': 0.11366311476379633, 'critic_loss': 1.774910571694374, 'actor_loss': -2.399152193069458, 'time_step': 0.005861914157867432, 'rollout_return': 5.184562853513321, 'evaluation': 6.55945131946371} step=11000\n",
      "2023-04-01 17:19.16 [info     ] Model parameters are saved to d3rlpy_logs/SAC_online_20230401171813/model_12000.pt\n",
      "2023-04-01 17:19.16 [info     ] SAC_online_20230401171813: epoch=12 step=12000 epoch=12 metrics={'time_inference': 0.0005531082153320312, 'time_environment_step': 9.02860164642334e-05, 'time_sample_batch': 0.0002194809913635254, 'time_algorithm_update': 0.005119538784027099, 'temp_loss': 0.2904825542271137, 'temp': 0.09315173687785863, 'critic_loss': 1.7165589847564697, 'actor_loss': -2.3784193205833435, 'time_step': 0.006030060529708862, 'rollout_return': 5.578228631537555, 'evaluation': 6.635378517558219} step=12000\n",
      "2023-04-01 17:19.22 [info     ] Model parameters are saved to d3rlpy_logs/SAC_online_20230401171813/model_13000.pt\n",
      "2023-04-01 17:19.22 [info     ] SAC_online_20230401171813: epoch=13 step=13000 epoch=13 metrics={'time_inference': 0.0005287830829620361, 'time_environment_step': 9.096908569335938e-05, 'time_sample_batch': 0.0002127683162689209, 'time_algorithm_update': 0.00501094126701355, 'temp_loss': 0.20807198785245418, 'temp': 0.07686515862494707, 'critic_loss': 1.7506499111652374, 'actor_loss': -2.408434241056442, 'time_step': 0.005887637376785279, 'rollout_return': 6.123045565672893, 'evaluation': 7.120621250268327} step=13000\n",
      "2023-04-01 17:19.28 [info     ] Model parameters are saved to d3rlpy_logs/SAC_online_20230401171813/model_14000.pt\n",
      "2023-04-01 17:19.28 [info     ] SAC_online_20230401171813: epoch=14 step=14000 epoch=14 metrics={'time_inference': 0.0005086886882781982, 'time_environment_step': 8.63790512084961e-05, 'time_sample_batch': 0.00020655012130737303, 'time_algorithm_update': 0.0048172476291656495, 'temp_loss': 0.14334657295048236, 'temp': 0.06399084732308984, 'critic_loss': 1.8177310243844986, 'actor_loss': -2.466177323818207, 'time_step': 0.005661117553710938, 'rollout_return': 6.449534753650758, 'evaluation': 7.339584539201982} step=14000\n",
      "2023-04-01 17:19.33 [info     ] Model parameters are saved to d3rlpy_logs/SAC_online_20230401171813/model_15000.pt\n",
      "2023-04-01 17:19.33 [info     ] SAC_online_20230401171813: epoch=15 step=15000 epoch=15 metrics={'time_inference': 0.0004896464347839356, 'time_environment_step': 8.391094207763671e-05, 'time_sample_batch': 0.00020241522789001464, 'time_algorithm_update': 0.004660619497299194, 'temp_loss': 0.09572172340750694, 'temp': 0.0539351986348629, 'critic_loss': 1.9382174179553986, 'actor_loss': -2.5590872082710265, 'time_step': 0.005478481769561768, 'rollout_return': 6.801028155595273, 'evaluation': 7.492733971485291} step=15000\n",
      "2023-04-01 17:19.39 [info     ] Model parameters are saved to d3rlpy_logs/SAC_online_20230401171813/model_16000.pt\n",
      "2023-04-01 17:19.39 [info     ] SAC_online_20230401171813: epoch=16 step=16000 epoch=16 metrics={'time_inference': 0.0004905326366424561, 'time_environment_step': 8.417344093322753e-05, 'time_sample_batch': 0.00020396685600280762, 'time_algorithm_update': 0.004734731912612915, 'temp_loss': 0.06469683753699064, 'temp': 0.045775728456676004, 'critic_loss': 2.0409265148639677, 'actor_loss': -2.629259500026703, 'time_step': 0.0055545027256011965, 'rollout_return': 6.953654934284304, 'evaluation': 7.607444227661982} step=16000\n",
      "2023-04-01 17:19.44 [info     ] Model parameters are saved to d3rlpy_logs/SAC_online_20230401171813/model_17000.pt\n",
      "2023-04-01 17:19.44 [info     ] SAC_online_20230401171813: epoch=17 step=17000 epoch=17 metrics={'time_inference': 0.00047951221466064454, 'time_environment_step': 8.043146133422851e-05, 'time_sample_batch': 0.00019905400276184083, 'time_algorithm_update': 0.0044277172088623045, 'temp_loss': 0.04362711079791188, 'temp': 0.039215713050216434, 'critic_loss': 2.122777585864067, 'actor_loss': -2.6848460640907286, 'time_step': 0.005227423429489135, 'rollout_return': 6.969263391559617, 'evaluation': 7.503028169451554} step=17000\n",
      "2023-04-01 17:19.49 [info     ] Model parameters are saved to d3rlpy_logs/SAC_online_20230401171813/model_18000.pt\n",
      "2023-04-01 17:19.49 [info     ] SAC_online_20230401171813: epoch=18 step=18000 epoch=18 metrics={'time_inference': 0.0004439971446990967, 'time_environment_step': 7.393050193786621e-05, 'time_sample_batch': 0.00018783307075500487, 'time_algorithm_update': 0.00418908429145813, 'temp_loss': 0.02728825859632343, 'temp': 0.03380063004791736, 'critic_loss': 2.1782262496948244, 'actor_loss': -2.7483372387886047, 'time_step': 0.00493205451965332, 'rollout_return': 7.0093715294741425, 'evaluation': 7.4632857523355955} step=18000\n",
      "2023-04-01 17:19.54 [info     ] Model parameters are saved to d3rlpy_logs/SAC_online_20230401171813/model_19000.pt\n",
      "2023-04-01 17:19.54 [info     ] SAC_online_20230401171813: epoch=19 step=19000 epoch=19 metrics={'time_inference': 0.0004540572166442871, 'time_environment_step': 7.95440673828125e-05, 'time_sample_batch': 0.0001923494338989258, 'time_algorithm_update': 0.004279057025909424, 'temp_loss': 0.020997911537531763, 'temp': 0.029036195876076816, 'critic_loss': 2.264440748333931, 'actor_loss': -2.8216084711551668, 'time_step': 0.005043181657791137, 'rollout_return': 6.498294506867062, 'evaluation': 6.492562534285653} step=19000\n",
      "2023-04-01 17:19.59 [info     ] Model parameters are saved to d3rlpy_logs/SAC_online_20230401171813/model_20000.pt\n",
      "2023-04-01 17:19.59 [info     ] SAC_online_20230401171813: epoch=20 step=20000 epoch=20 metrics={'time_inference': 0.0004488840103149414, 'time_environment_step': 7.60788917541504e-05, 'time_sample_batch': 0.0001897125244140625, 'time_algorithm_update': 0.004332257747650147, 'temp_loss': 0.011065427897730842, 'temp': 0.025213547106832265, 'critic_loss': 2.375393050909042, 'actor_loss': -2.872751033306122, 'time_step': 0.005085374355316162, 'rollout_return': 6.289331884334387, 'evaluation': 6.34731778504271} step=20000\n",
      "2023-04-01 17:20.04 [info     ] Model parameters are saved to d3rlpy_logs/SAC_online_20230401171813/model_21000.pt\n",
      "2023-04-01 17:20.04 [info     ] SAC_online_20230401171813: epoch=21 step=21000 epoch=21 metrics={'time_inference': 0.0004314565658569336, 'time_environment_step': 6.975340843200684e-05, 'time_sample_batch': 0.0001832592487335205, 'time_algorithm_update': 0.00403151273727417, 'temp_loss': 0.005174941681616474, 'temp': 0.022745473904535175, 'critic_loss': 2.344316914558411, 'actor_loss': -2.855004780292511, 'time_step': 0.004751446485519409, 'rollout_return': 6.809086429994771, 'evaluation': 7.4476753038743055} step=21000\n",
      "2023-04-01 17:20.09 [info     ] Model parameters are saved to d3rlpy_logs/SAC_online_20230401171813/model_22000.pt\n",
      "2023-04-01 17:20.09 [info     ] SAC_online_20230401171813: epoch=22 step=22000 epoch=22 metrics={'time_inference': 0.00044092464447021486, 'time_environment_step': 7.621121406555176e-05, 'time_sample_batch': 0.0001909339427947998, 'time_algorithm_update': 0.004247204780578613, 'temp_loss': -0.0008269176258181687, 'temp': 0.021896794287487864, 'critic_loss': 2.2796041488647463, 'actor_loss': -2.8341365258693694, 'time_step': 0.004993377923965454, 'rollout_return': 7.30391650336847, 'evaluation': 8.050800823054814} step=22000\n",
      "2023-04-01 17:20.15 [info     ] Model parameters are saved to d3rlpy_logs/SAC_online_20230401171813/model_23000.pt\n",
      "2023-04-01 17:20.15 [info     ] SAC_online_20230401171813: epoch=23 step=23000 epoch=23 metrics={'time_inference': 0.0005132417678833008, 'time_environment_step': 9.472846984863281e-05, 'time_sample_batch': 0.00021405649185180664, 'time_algorithm_update': 0.004932309627532959, 'temp_loss': 0.004724742716600304, 'temp': 0.021472354041412473, 'critic_loss': 2.259627690911293, 'actor_loss': -2.8317840645313264, 'time_step': 0.00579953932762146, 'rollout_return': 7.195948056359131, 'evaluation': 7.518524796628905} step=23000\n",
      "2023-04-01 17:20.21 [info     ] Model parameters are saved to d3rlpy_logs/SAC_online_20230401171813/model_24000.pt\n",
      "2023-04-01 17:20.21 [info     ] SAC_online_20230401171813: epoch=24 step=24000 epoch=24 metrics={'time_inference': 0.00047691154479980466, 'time_environment_step': 9.191155433654785e-05, 'time_sample_batch': 0.0002139616012573242, 'time_algorithm_update': 0.004901807785034179, 'temp_loss': 0.004856498183202348, 'temp': 0.0174539216440171, 'critic_loss': 2.3006005132198335, 'actor_loss': -2.8648611998558042, 'time_step': 0.005727464914321899, 'rollout_return': 6.570110308434537, 'evaluation': 7.431096188164171} step=24000\n",
      "2023-04-01 17:20.27 [info     ] Model parameters are saved to d3rlpy_logs/SAC_online_20230401171813/model_25000.pt\n",
      "2023-04-01 17:20.27 [info     ] SAC_online_20230401171813: epoch=25 step=25000 epoch=25 metrics={'time_inference': 0.00047057366371154786, 'time_environment_step': 8.530807495117187e-05, 'time_sample_batch': 0.00020091819763183593, 'time_algorithm_update': 0.004634990453720093, 'temp_loss': 0.0013485534379979072, 'temp': 0.01552786717377603, 'critic_loss': 2.3272359278202055, 'actor_loss': -2.8713334784507754, 'time_step': 0.005433750629425049, 'rollout_return': 6.905920153989274, 'evaluation': 7.639441014796127} step=25000\n",
      "2023-04-01 17:20.32 [info     ] Model parameters are saved to d3rlpy_logs/SAC_online_20230401171813/model_26000.pt\n",
      "2023-04-01 17:20.32 [info     ] SAC_online_20230401171813: epoch=26 step=26000 epoch=26 metrics={'time_inference': 0.0004573972225189209, 'time_environment_step': 8.170104026794433e-05, 'time_sample_batch': 0.00019677209854125977, 'time_algorithm_update': 0.004621300220489502, 'temp_loss': 0.000670900120792794, 'temp': 0.014829573159106076, 'critic_loss': 2.3335635973215103, 'actor_loss': -2.889260303258896, 'time_step': 0.0053977429866790775, 'rollout_return': 6.9771736025553786, 'evaluation': 6.9681505589927095} step=26000\n",
      "2023-04-01 17:20.37 [info     ] Model parameters are saved to d3rlpy_logs/SAC_online_20230401171813/model_27000.pt\n",
      "2023-04-01 17:20.37 [info     ] SAC_online_20230401171813: epoch=27 step=27000 epoch=27 metrics={'time_inference': 0.00042358088493347167, 'time_environment_step': 7.014322280883789e-05, 'time_sample_batch': 0.00018174386024475097, 'time_algorithm_update': 0.0040345008373260495, 'temp_loss': -0.0011423777363233968, 'temp': 0.015258238519541919, 'critic_loss': 2.3627954429388045, 'actor_loss': -2.896440685272217, 'time_step': 0.004744136810302734, 'rollout_return': 6.718823567354869, 'evaluation': 6.849873690593347} step=27000\n",
      "2023-04-01 17:20.42 [info     ] Model parameters are saved to d3rlpy_logs/SAC_online_20230401171813/model_28000.pt\n",
      "2023-04-01 17:20.42 [info     ] SAC_online_20230401171813: epoch=28 step=28000 epoch=28 metrics={'time_inference': 0.0004155001640319824, 'time_environment_step': 6.641459465026855e-05, 'time_sample_batch': 0.00017926692962646484, 'time_algorithm_update': 0.003968031406402588, 'temp_loss': -0.0002960629947046982, 'temp': 0.01643825061060488, 'critic_loss': 2.339392590522766, 'actor_loss': -2.8822374539375306, 'time_step': 0.004662882328033447, 'rollout_return': 6.614586582824984, 'evaluation': 6.9921200940055765} step=28000\n",
      "2023-04-01 17:20.47 [info     ] Model parameters are saved to d3rlpy_logs/SAC_online_20230401171813/model_29000.pt\n",
      "2023-04-01 17:20.47 [info     ] SAC_online_20230401171813: epoch=29 step=29000 epoch=29 metrics={'time_inference': 0.00043145608901977537, 'time_environment_step': 7.168889045715332e-05, 'time_sample_batch': 0.00018500590324401856, 'time_algorithm_update': 0.0041947195529937744, 'temp_loss': -0.00017273336655489402, 'temp': 0.016448806503787636, 'critic_loss': 2.2944464497566224, 'actor_loss': -2.8592500703334807, 'time_step': 0.004918925523757935, 'rollout_return': 6.906397161997107, 'evaluation': 7.7239008014217685} step=29000\n",
      "2023-04-01 17:20.51 [info     ] Model parameters are saved to d3rlpy_logs/SAC_online_20230401171813/model_30000.pt\n",
      "2023-04-01 17:20.52 [info     ] SAC_online_20230401171813: epoch=30 step=30000 epoch=30 metrics={'time_inference': 0.0004146265983581543, 'time_environment_step': 6.68933391571045e-05, 'time_sample_batch': 0.00017971134185791016, 'time_algorithm_update': 0.0039339962005615235, 'temp_loss': 0.0002750126767277834, 'temp': 0.016740129938349127, 'critic_loss': 2.270497735619545, 'actor_loss': -2.8801323523521423, 'time_step': 0.004628864526748658, 'rollout_return': 6.475414281307872, 'evaluation': 6.595688427597406} step=30000\n",
      "2023-04-01 17:20.56 [info     ] Model parameters are saved to d3rlpy_logs/SAC_online_20230401171813/model_31000.pt\n",
      "2023-04-01 17:20.56 [info     ] SAC_online_20230401171813: epoch=31 step=31000 epoch=31 metrics={'time_inference': 0.00042079949378967285, 'time_environment_step': 6.803655624389648e-05, 'time_sample_batch': 0.0001826655864715576, 'time_algorithm_update': 0.004005924940109253, 'temp_loss': 0.0002367677888541948, 'temp': 0.015964823830872773, 'critic_loss': 2.28848124730587, 'actor_loss': -2.8770506525039674, 'time_step': 0.004712208271026612, 'rollout_return': 6.200737666909271, 'evaluation': 6.23792919513808} step=31000\n",
      "2023-04-01 17:21.01 [info     ] Model parameters are saved to d3rlpy_logs/SAC_online_20230401171813/model_32000.pt\n",
      "2023-04-01 17:21.01 [info     ] SAC_online_20230401171813: epoch=32 step=32000 epoch=32 metrics={'time_inference': 0.00041294312477111817, 'time_environment_step': 6.503677368164062e-05, 'time_sample_batch': 0.00017685317993164061, 'time_algorithm_update': 0.00390486478805542, 'temp_loss': -0.0006583950606436702, 'temp': 0.016122160318307578, 'critic_loss': 2.285267519712448, 'actor_loss': -2.8681007368564604, 'time_step': 0.004592906951904297, 'rollout_return': 6.270407289169966, 'evaluation': 6.333718412665201} step=32000\n",
      "2023-04-01 17:21.06 [info     ] Model parameters are saved to d3rlpy_logs/SAC_online_20230401171813/model_33000.pt\n",
      "2023-04-01 17:21.06 [info     ] SAC_online_20230401171813: epoch=33 step=33000 epoch=33 metrics={'time_inference': 0.00041317582130432127, 'time_environment_step': 6.80389404296875e-05, 'time_sample_batch': 0.0001809089183807373, 'time_algorithm_update': 0.004036585330963135, 'temp_loss': -1.0340230764995796e-05, 'temp': 0.016985010670498013, 'critic_loss': 2.2887486680746076, 'actor_loss': -2.8429496321678163, 'time_step': 0.00473345685005188, 'rollout_return': 5.927690146131092, 'evaluation': 5.922901106617253} step=33000\n",
      "2023-04-01 17:21.10 [info     ] Model parameters are saved to d3rlpy_logs/SAC_online_20230401171813/model_34000.pt\n",
      "2023-04-01 17:21.10 [info     ] SAC_online_20230401171813: epoch=34 step=34000 epoch=34 metrics={'time_inference': 0.00040704107284545896, 'time_environment_step': 6.66196346282959e-05, 'time_sample_batch': 0.0001770646572113037, 'time_algorithm_update': 0.0038727118968963623, 'temp_loss': 3.3342234266456216e-05, 'temp': 0.016985513467341663, 'critic_loss': 2.2093774478435515, 'actor_loss': -2.7969160602092744, 'time_step': 0.0045566906929016115, 'rollout_return': 6.051141148212091, 'evaluation': 6.028197821384199} step=34000\n",
      "2023-04-01 17:21.15 [info     ] Model parameters are saved to d3rlpy_logs/SAC_online_20230401171813/model_35000.pt\n",
      "2023-04-01 17:21.15 [info     ] SAC_online_20230401171813: epoch=35 step=35000 epoch=35 metrics={'time_inference': 0.000405132532119751, 'time_environment_step': 6.571269035339356e-05, 'time_sample_batch': 0.00017972183227539062, 'time_algorithm_update': 0.003935100555419922, 'temp_loss': 0.00043369151951628735, 'temp': 0.01654232729971409, 'critic_loss': 2.125729446768761, 'actor_loss': -2.742911823272705, 'time_step': 0.004620420455932617, 'rollout_return': 6.087087774939404, 'evaluation': 6.582553845613171} step=35000\n",
      "2023-04-01 17:21.20 [info     ] Model parameters are saved to d3rlpy_logs/SAC_online_20230401171813/model_36000.pt\n",
      "2023-04-01 17:21.20 [info     ] SAC_online_20230401171813: epoch=36 step=36000 epoch=36 metrics={'time_inference': 0.00040813446044921873, 'time_environment_step': 6.54749870300293e-05, 'time_sample_batch': 0.0001750650405883789, 'time_algorithm_update': 0.0038644022941589353, 'temp_loss': -0.00013168861033045686, 'temp': 0.015900084935128688, 'critic_loss': 2.0326395641565322, 'actor_loss': -2.685545991182327, 'time_step': 0.004546492576599121, 'rollout_return': 5.6602087809939, 'evaluation': 5.761837073640001} step=36000\n",
      "2023-04-01 17:21.24 [info     ] Model parameters are saved to d3rlpy_logs/SAC_online_20230401171813/model_37000.pt\n",
      "2023-04-01 17:21.24 [info     ] SAC_online_20230401171813: epoch=37 step=37000 epoch=37 metrics={'time_inference': 0.00040294814109802246, 'time_environment_step': 6.491541862487792e-05, 'time_sample_batch': 0.00017541217803955077, 'time_algorithm_update': 0.003841775894165039, 'temp_loss': 2.700169535819441e-05, 'temp': 0.017155950332060455, 'critic_loss': 1.9444000265598298, 'actor_loss': -2.616337874174118, 'time_step': 0.004518677473068237, 'rollout_return': 5.727833700504278, 'evaluation': 6.2667717971139} step=37000\n",
      "2023-04-01 17:21.29 [info     ] Model parameters are saved to d3rlpy_logs/SAC_online_20230401171813/model_38000.pt\n",
      "2023-04-01 17:21.29 [info     ] SAC_online_20230401171813: epoch=38 step=38000 epoch=38 metrics={'time_inference': 0.0004143373966217041, 'time_environment_step': 6.639313697814942e-05, 'time_sample_batch': 0.00017726254463195802, 'time_algorithm_update': 0.003899862051010132, 'temp_loss': 6.454747245152247e-05, 'temp': 0.015963910404592753, 'critic_loss': 1.839536433815956, 'actor_loss': -2.5758592557907103, 'time_step': 0.004591960668563843, 'rollout_return': 6.399659323498306, 'evaluation': 6.771298940151908} step=38000\n",
      "2023-04-01 17:21.34 [info     ] Model parameters are saved to d3rlpy_logs/SAC_online_20230401171813/model_39000.pt\n",
      "2023-04-01 17:21.34 [info     ] SAC_online_20230401171813: epoch=39 step=39000 epoch=39 metrics={'time_inference': 0.00041417574882507326, 'time_environment_step': 7.007813453674316e-05, 'time_sample_batch': 0.00018291640281677246, 'time_algorithm_update': 0.004035553216934204, 'temp_loss': 0.00011951256692555035, 'temp': 0.01602083319425583, 'critic_loss': 1.7647233344316482, 'actor_loss': -2.5450288825035097, 'time_step': 0.004738052129745483, 'rollout_return': 6.557896366844426, 'evaluation': 6.532615925010665} step=39000\n",
      "2023-04-01 17:21.39 [info     ] Model parameters are saved to d3rlpy_logs/SAC_online_20230401171813/model_40000.pt\n",
      "2023-04-01 17:21.39 [info     ] SAC_online_20230401171813: epoch=40 step=40000 epoch=40 metrics={'time_inference': 0.0004068188667297363, 'time_environment_step': 6.60841464996338e-05, 'time_sample_batch': 0.00017701315879821777, 'time_algorithm_update': 0.003906293630599976, 'temp_loss': -0.0008235180020783446, 'temp': 0.01702141145057976, 'critic_loss': 1.7047002823352815, 'actor_loss': -2.5241070194244384, 'time_step': 0.0045897958278656005, 'rollout_return': 6.17506558499005, 'evaluation': 6.660007968433186} step=40000\n",
      "2023-04-01 17:21.43 [info     ] Model parameters are saved to d3rlpy_logs/SAC_online_20230401171813/model_41000.pt\n",
      "2023-04-01 17:21.43 [info     ] SAC_online_20230401171813: epoch=41 step=41000 epoch=41 metrics={'time_inference': 0.0004029858112335205, 'time_environment_step': 6.541919708251953e-05, 'time_sample_batch': 0.00017546653747558595, 'time_algorithm_update': 0.0038492770195007325, 'temp_loss': -5.66680469783023e-05, 'temp': 0.01843712640553713, 'critic_loss': 1.6735444121360779, 'actor_loss': -2.5128279747962954, 'time_step': 0.0045259733200073244, 'rollout_return': 5.825720038402533, 'evaluation': 6.141812263759742} step=41000\n",
      "2023-04-01 17:21.46 [info     ] Model parameters are saved to d3rlpy_logs/SAC_online_20230401171813/model_42000.pt\n",
      "2023-04-01 17:21.46 [info     ] SAC_online_20230401171813: epoch=42 step=42000 epoch=42 metrics={'time_inference': 0.0003982064723968506, 'time_environment_step': 6.435108184814453e-05, 'time_sample_batch': 0.00017409634590148925, 'time_algorithm_update': 0.001847428321838379, 'temp_loss': -0.0001601731303599081, 'temp': 0.01792456153407693, 'critic_loss': 1.6243212329149246, 'actor_loss': -2.4875940990448, 'time_step': 0.0025166504383087158, 'rollout_return': 5.900555006597094, 'evaluation': 6.904486651851384} step=42000\n",
      "2023-04-01 17:21.51 [info     ] Model parameters are saved to d3rlpy_logs/SAC_online_20230401171813/model_43000.pt\n",
      "2023-04-01 17:21.51 [info     ] SAC_online_20230401171813: epoch=43 step=43000 epoch=43 metrics={'time_inference': 0.00041100096702575685, 'time_environment_step': 7.109594345092773e-05, 'time_sample_batch': 0.00018897271156311036, 'time_algorithm_update': 0.004210020065307617, 'temp_loss': 0.0009738153801154112, 'temp': 0.017688736893236637, 'critic_loss': 1.604429877281189, 'actor_loss': -2.4987204921245576, 'time_step': 0.004917155504226684, 'rollout_return': 6.48375273387858, 'evaluation': 7.526797233165718} step=43000\n",
      "2023-04-01 17:21.55 [info     ] Model parameters are saved to d3rlpy_logs/SAC_online_20230401171813/model_44000.pt\n",
      "2023-04-01 17:21.55 [info     ] SAC_online_20230401171813: epoch=44 step=44000 epoch=44 metrics={'time_inference': 0.0004044153690338135, 'time_environment_step': 6.908512115478516e-05, 'time_sample_batch': 0.0001756153106689453, 'time_algorithm_update': 0.0038429462909698488, 'temp_loss': -0.0005838675869817962, 'temp': 0.016881342094391585, 'critic_loss': 1.6272768049240112, 'actor_loss': -2.556853956460953, 'time_step': 0.00452485990524292, 'rollout_return': 6.397192345547796, 'evaluation': 6.560677310431127} step=44000\n",
      "2023-04-01 17:22.00 [info     ] Model parameters are saved to d3rlpy_logs/SAC_online_20230401171813/model_45000.pt\n",
      "2023-04-01 17:22.00 [info     ] SAC_online_20230401171813: epoch=45 step=45000 epoch=45 metrics={'time_inference': 0.0004029796123504639, 'time_environment_step': 6.661367416381837e-05, 'time_sample_batch': 0.0001765620708465576, 'time_algorithm_update': 0.0038831624984741213, 'temp_loss': -0.0007589193530002376, 'temp': 0.01735453667677939, 'critic_loss': 1.7026587275266647, 'actor_loss': -2.606465817451477, 'time_step': 0.004563267707824707, 'rollout_return': 5.444737187232039, 'evaluation': 5.283836166980784} step=45000\n",
      "2023-04-01 17:22.05 [info     ] Model parameters are saved to d3rlpy_logs/SAC_online_20230401171813/model_46000.pt\n",
      "2023-04-01 17:22.05 [info     ] SAC_online_20230401171813: epoch=46 step=46000 epoch=46 metrics={'time_inference': 0.00044279742240905764, 'time_environment_step': 7.84294605255127e-05, 'time_sample_batch': 0.00019834613800048828, 'time_algorithm_update': 0.004372647762298584, 'temp_loss': -0.0008262160238737124, 'temp': 0.020476572813466192, 'critic_loss': 1.7190142295360564, 'actor_loss': -2.57459560918808, 'time_step': 0.005131853818893433, 'rollout_return': 5.402352484484217, 'evaluation': 5.750260612714037} step=46000\n",
      "2023-04-01 17:22.10 [info     ] Model parameters are saved to d3rlpy_logs/SAC_online_20230401171813/model_47000.pt\n",
      "2023-04-01 17:22.10 [info     ] SAC_online_20230401171813: epoch=47 step=47000 epoch=47 metrics={'time_inference': 0.0004070143699645996, 'time_environment_step': 6.709599494934082e-05, 'time_sample_batch': 0.0001763339042663574, 'time_algorithm_update': 0.0038963558673858643, 'temp_loss': -0.00041651319541415434, 'temp': 0.021140931701287627, 'critic_loss': 1.6369688690900803, 'actor_loss': -2.519264410495758, 'time_step': 0.004581146478652954, 'rollout_return': 5.597086533193833, 'evaluation': 6.042686177297102} step=47000\n",
      "2023-04-01 17:22.15 [info     ] Model parameters are saved to d3rlpy_logs/SAC_online_20230401171813/model_48000.pt\n",
      "2023-04-01 17:22.15 [info     ] SAC_online_20230401171813: epoch=48 step=48000 epoch=48 metrics={'time_inference': 0.00042318177223205566, 'time_environment_step': 7.429122924804688e-05, 'time_sample_batch': 0.00018601393699645995, 'time_algorithm_update': 0.004140036106109619, 'temp_loss': 0.001904459613015206, 'temp': 0.019397311110049487, 'critic_loss': 1.629742844939232, 'actor_loss': -2.5016412756443023, 'time_step': 0.004859718561172485, 'rollout_return': 6.111822578837132, 'evaluation': 6.5473740370122} step=48000\n",
      "2023-04-01 17:22.20 [info     ] Model parameters are saved to d3rlpy_logs/SAC_online_20230401171813/model_49000.pt\n",
      "2023-04-01 17:22.20 [info     ] SAC_online_20230401171813: epoch=49 step=49000 epoch=49 metrics={'time_inference': 0.0004119715690612793, 'time_environment_step': 6.570148468017578e-05, 'time_sample_batch': 0.00017714262008666992, 'time_algorithm_update': 0.003868546724319458, 'temp_loss': 6.125698413234204e-05, 'temp': 0.017505280235782267, 'critic_loss': 1.6581397227048873, 'actor_loss': -2.5175809433460237, 'time_step': 0.004557235717773438, 'rollout_return': 6.409611650096058, 'evaluation': 6.666576075827175} step=49000\n",
      "2023-04-01 17:22.24 [info     ] Model parameters are saved to d3rlpy_logs/SAC_online_20230401171813/model_50000.pt\n",
      "2023-04-01 17:22.24 [info     ] SAC_online_20230401171813: epoch=50 step=50000 epoch=50 metrics={'time_inference': 0.00040395259857177733, 'time_environment_step': 6.4727783203125e-05, 'time_sample_batch': 0.00017473196983337403, 'time_algorithm_update': 0.0038065025806427004, 'temp_loss': -0.0004371883493004134, 'temp': 0.01780327303521335, 'critic_loss': 1.7105742442607879, 'actor_loss': -2.5566827442646027, 'time_step': 0.0044831371307373045, 'rollout_return': 6.408458327208225, 'evaluation': 6.470391445927326} step=50000\n",
      "2023-04-01 17:22.29 [info     ] Model parameters are saved to d3rlpy_logs/SAC_online_20230401171813/model_51000.pt\n",
      "2023-04-01 17:22.29 [info     ] SAC_online_20230401171813: epoch=51 step=51000 epoch=51 metrics={'time_inference': 0.0004024019241333008, 'time_environment_step': 6.562209129333496e-05, 'time_sample_batch': 0.00017596673965454101, 'time_algorithm_update': 0.0038495447635650635, 'temp_loss': 8.303061786864418e-05, 'temp': 0.018443068604916336, 'critic_loss': 1.7605609135627747, 'actor_loss': -2.5993868856430056, 'time_step': 0.00452689266204834, 'rollout_return': 6.335004995560775, 'evaluation': 6.401063941795735} step=51000\n",
      "2023-04-01 17:22.33 [info     ] Model parameters are saved to d3rlpy_logs/SAC_online_20230401171813/model_52000.pt\n",
      "2023-04-01 17:22.33 [info     ] SAC_online_20230401171813: epoch=52 step=52000 epoch=52 metrics={'time_inference': 0.0004086160659790039, 'time_environment_step': 7.255578041076661e-05, 'time_sample_batch': 0.00018202590942382812, 'time_algorithm_update': 0.003941303968429565, 'temp_loss': -0.0003985955819443916, 'temp': 0.018936584889888763, 'critic_loss': 1.8243703633546828, 'actor_loss': -2.649591623544693, 'time_step': 0.0046393976211547856, 'rollout_return': 5.589743858311693, 'evaluation': 4.866826225896077} step=52000\n",
      "2023-04-01 17:22.38 [info     ] Model parameters are saved to d3rlpy_logs/SAC_online_20230401171813/model_53000.pt\n",
      "2023-04-01 17:22.38 [info     ] SAC_online_20230401171813: epoch=53 step=53000 epoch=53 metrics={'time_inference': 0.00041543936729431153, 'time_environment_step': 6.988692283630371e-05, 'time_sample_batch': 0.00018416643142700196, 'time_algorithm_update': 0.0041133232116699215, 'temp_loss': 0.0009650610552052967, 'temp': 0.01808867486193776, 'critic_loss': 1.8598369717597962, 'actor_loss': -2.62378839969635, 'time_step': 0.004818219900131226, 'rollout_return': 5.469934355836433, 'evaluation': 6.245783753346795} step=53000\n",
      "2023-04-01 17:22.43 [info     ] Model parameters are saved to d3rlpy_logs/SAC_online_20230401171813/model_54000.pt\n",
      "2023-04-01 17:22.43 [info     ] SAC_online_20230401171813: epoch=54 step=54000 epoch=54 metrics={'time_inference': 0.00043731236457824707, 'time_environment_step': 7.390642166137695e-05, 'time_sample_batch': 0.00018801021575927734, 'time_algorithm_update': 0.004217212200164795, 'temp_loss': -0.0006776209404633847, 'temp': 0.018146758548915388, 'critic_loss': 1.8625787366628648, 'actor_loss': -2.59877122426033, 'time_step': 0.004952905416488648, 'rollout_return': 6.27375292976296, 'evaluation': 6.970953026393613} step=54000\n",
      "2023-04-01 17:22.48 [info     ] Model parameters are saved to d3rlpy_logs/SAC_online_20230401171813/model_55000.pt\n",
      "2023-04-01 17:22.48 [info     ] SAC_online_20230401171813: epoch=55 step=55000 epoch=55 metrics={'time_inference': 0.0004171726703643799, 'time_environment_step': 7.027506828308105e-05, 'time_sample_batch': 0.0001871190071105957, 'time_algorithm_update': 0.004106825113296509, 'temp_loss': -0.0004780368892825209, 'temp': 0.01946591036953032, 'critic_loss': 1.8195983289480209, 'actor_loss': -2.578390067577362, 'time_step': 0.004819172143936157, 'rollout_return': 6.306280873552918, 'evaluation': 6.926613754327677} step=55000\n",
      "2023-04-01 17:22.53 [info     ] Model parameters are saved to d3rlpy_logs/SAC_online_20230401171813/model_56000.pt\n",
      "2023-04-01 17:22.53 [info     ] SAC_online_20230401171813: epoch=56 step=56000 epoch=56 metrics={'time_inference': 0.0004295363426208496, 'time_environment_step': 7.242560386657714e-05, 'time_sample_batch': 0.00019484543800354004, 'time_algorithm_update': 0.004195271492004394, 'temp_loss': -0.0005740171850775369, 'temp': 0.02056419354863465, 'critic_loss': 1.7844782892465592, 'actor_loss': -2.5667289333343506, 'time_step': 0.004928293943405151, 'rollout_return': 6.414707357052166, 'evaluation': 6.735065027140213} step=56000\n",
      "2023-04-01 17:22.58 [info     ] Model parameters are saved to d3rlpy_logs/SAC_online_20230401171813/model_57000.pt\n",
      "2023-04-01 17:22.58 [info     ] SAC_online_20230401171813: epoch=57 step=57000 epoch=57 metrics={'time_inference': 0.0004372541904449463, 'time_environment_step': 7.348918914794922e-05, 'time_sample_batch': 0.00018555045127868652, 'time_algorithm_update': 0.004142307043075562, 'temp_loss': -7.842735067242757e-06, 'temp': 0.02148152996785939, 'critic_loss': 1.7391577662229538, 'actor_loss': -2.5671353244781496, 'time_step': 0.004875189542770385, 'rollout_return': 6.152613563645615, 'evaluation': 6.454673194666673} step=57000\n",
      "2023-04-01 17:23.03 [info     ] Model parameters are saved to d3rlpy_logs/SAC_online_20230401171813/model_58000.pt\n",
      "2023-04-01 17:23.03 [info     ] SAC_online_20230401171813: epoch=58 step=58000 epoch=58 metrics={'time_inference': 0.00041674208641052246, 'time_environment_step': 6.523561477661133e-05, 'time_sample_batch': 0.00017524337768554688, 'time_algorithm_update': 0.003913587093353272, 'temp_loss': 0.0012132312618923606, 'temp': 0.02032437781058252, 'critic_loss': 1.7790813639163972, 'actor_loss': -2.5953645207881926, 'time_step': 0.0046037321090698245, 'rollout_return': 5.0720913907498035, 'evaluation': 6.048563260450175} step=58000\n",
      "2023-04-01 17:23.08 [info     ] Model parameters are saved to d3rlpy_logs/SAC_online_20230401171813/model_59000.pt\n",
      "2023-04-01 17:23.08 [info     ] SAC_online_20230401171813: epoch=59 step=59000 epoch=59 metrics={'time_inference': 0.0004113740921020508, 'time_environment_step': 6.61001205444336e-05, 'time_sample_batch': 0.00017683053016662599, 'time_algorithm_update': 0.003943904161453247, 'temp_loss': 0.00039370583764684853, 'temp': 0.01800908150151372, 'critic_loss': 1.7601973135471345, 'actor_loss': -2.559931224822998, 'time_step': 0.004631870269775391, 'rollout_return': 5.59086408560129, 'evaluation': 6.123849770171431} step=59000\n",
      "2023-04-01 17:23.12 [info     ] Model parameters are saved to d3rlpy_logs/SAC_online_20230401171813/model_60000.pt\n",
      "2023-04-01 17:23.12 [info     ] SAC_online_20230401171813: epoch=60 step=60000 epoch=60 metrics={'time_inference': 0.00040603184700012206, 'time_environment_step': 6.519031524658203e-05, 'time_sample_batch': 0.0001764540672302246, 'time_algorithm_update': 0.0038924589157104494, 'temp_loss': 0.0006444558660768962, 'temp': 0.017029054870828987, 'critic_loss': 1.7156485921144486, 'actor_loss': -2.510069858789444, 'time_step': 0.004573615550994873, 'rollout_return': 5.694438610564672, 'evaluation': 6.197034008038605} step=60000\n",
      "2023-04-01 17:23.17 [info     ] Model parameters are saved to d3rlpy_logs/SAC_online_20230401171813/model_61000.pt\n",
      "2023-04-01 17:23.17 [info     ] SAC_online_20230401171813: epoch=61 step=61000 epoch=61 metrics={'time_inference': 0.00040195250511169435, 'time_environment_step': 6.401205062866211e-05, 'time_sample_batch': 0.0001751523017883301, 'time_algorithm_update': 0.003866599082946777, 'temp_loss': -0.0003107070018158993, 'temp': 0.016873946560546756, 'critic_loss': 1.6862153683900833, 'actor_loss': -2.4644763634204865, 'time_step': 0.0045404255390167235, 'rollout_return': 5.671535747949182, 'evaluation': 5.983433265229679} step=61000\n",
      "2023-04-01 17:23.22 [info     ] Model parameters are saved to d3rlpy_logs/SAC_online_20230401171813/model_62000.pt\n",
      "2023-04-01 17:23.22 [info     ] SAC_online_20230401171813: epoch=62 step=62000 epoch=62 metrics={'time_inference': 0.0004100332260131836, 'time_environment_step': 6.600069999694824e-05, 'time_sample_batch': 0.00017699742317199706, 'time_algorithm_update': 0.00394512677192688, 'temp_loss': -3.731128617801005e-05, 'temp': 0.016908113479614257, 'critic_loss': 1.617885689020157, 'actor_loss': -2.417007913351059, 'time_step': 0.004631834506988525, 'rollout_return': 5.4152899418058045, 'evaluation': 5.831155673925176} step=62000\n",
      "2023-04-01 17:23.26 [info     ] Model parameters are saved to d3rlpy_logs/SAC_online_20230401171813/model_63000.pt\n",
      "2023-04-01 17:23.26 [info     ] SAC_online_20230401171813: epoch=63 step=63000 epoch=63 metrics={'time_inference': 0.0004038155078887939, 'time_environment_step': 6.497645378112793e-05, 'time_sample_batch': 0.00017623424530029296, 'time_algorithm_update': 0.0038116302490234376, 'temp_loss': -0.0011370154961186927, 'temp': 0.018752144884318114, 'critic_loss': 1.5842176146507263, 'actor_loss': -2.378067612886429, 'time_step': 0.0044903292655944825, 'rollout_return': 5.755437545309638, 'evaluation': 5.843901211115588} step=63000\n",
      "2023-04-01 17:23.31 [info     ] Model parameters are saved to d3rlpy_logs/SAC_online_20230401171813/model_64000.pt\n",
      "2023-04-01 17:23.31 [info     ] SAC_online_20230401171813: epoch=64 step=64000 epoch=64 metrics={'time_inference': 0.0004030656814575195, 'time_environment_step': 6.349468231201171e-05, 'time_sample_batch': 0.0001769287586212158, 'time_algorithm_update': 0.0038266620635986326, 'temp_loss': -0.0007736481123756675, 'temp': 0.02091319027543068, 'critic_loss': 1.5700199249982834, 'actor_loss': -2.360309342622757, 'time_step': 0.004507494211196899, 'rollout_return': 6.027487284071651, 'evaluation': 6.69866053287336} step=64000\n",
      "2023-04-01 17:23.36 [info     ] Model parameters are saved to d3rlpy_logs/SAC_online_20230401171813/model_65000.pt\n",
      "2023-04-01 17:23.36 [info     ] SAC_online_20230401171813: epoch=65 step=65000 epoch=65 metrics={'time_inference': 0.0004133656024932861, 'time_environment_step': 7.091760635375976e-05, 'time_sample_batch': 0.00018178606033325196, 'time_algorithm_update': 0.003943707227706909, 'temp_loss': -0.003830935344405589, 'temp': 0.02370146559551358, 'critic_loss': 1.6045430371761322, 'actor_loss': -2.381045568704605, 'time_step': 0.00464727258682251, 'rollout_return': 7.011000818867692, 'evaluation': 7.595015248157017} step=65000\n",
      "2023-04-01 17:23.40 [info     ] Model parameters are saved to d3rlpy_logs/SAC_online_20230401171813/model_66000.pt\n",
      "2023-04-01 17:23.40 [info     ] SAC_online_20230401171813: epoch=66 step=66000 epoch=66 metrics={'time_inference': 0.00041649436950683594, 'time_environment_step': 6.853103637695312e-05, 'time_sample_batch': 0.00017886137962341308, 'time_algorithm_update': 0.003924844264984131, 'temp_loss': -0.002782987645463436, 'temp': 0.031129064731299876, 'critic_loss': 1.7955523151159287, 'actor_loss': -2.521422824859619, 'time_step': 0.004623807430267334, 'rollout_return': 7.287102319163069, 'evaluation': 7.342463217427779} step=66000\n",
      "2023-04-01 17:23.45 [info     ] Model parameters are saved to d3rlpy_logs/SAC_online_20230401171813/model_67000.pt\n",
      "2023-04-01 17:23.45 [info     ] SAC_online_20230401171813: epoch=67 step=67000 epoch=67 metrics={'time_inference': 0.00043457412719726565, 'time_environment_step': 6.993365287780761e-05, 'time_sample_batch': 0.00018248486518859864, 'time_algorithm_update': 0.004077387571334839, 'temp_loss': -0.001234273431939073, 'temp': 0.03435272390022874, 'critic_loss': 1.858924209833145, 'actor_loss': -2.564356568813324, 'time_step': 0.004799157619476318, 'rollout_return': 7.118880002039108, 'evaluation': 7.289998889981253} step=67000\n",
      "2023-04-01 17:23.50 [info     ] Model parameters are saved to d3rlpy_logs/SAC_online_20230401171813/model_68000.pt\n",
      "2023-04-01 17:23.50 [info     ] SAC_online_20230401171813: epoch=68 step=68000 epoch=68 metrics={'time_inference': 0.0004179329872131348, 'time_environment_step': 6.824088096618653e-05, 'time_sample_batch': 0.0001873774528503418, 'time_algorithm_update': 0.003999855041503906, 'temp_loss': 0.0015856229311611968, 'temp': 0.03308679411560297, 'critic_loss': 1.9172942066192626, 'actor_loss': -2.6195314180850984, 'time_step': 0.004707443952560425, 'rollout_return': 6.711463468625613, 'evaluation': 6.510958485046497} step=68000\n",
      "2023-04-01 17:23.55 [info     ] Model parameters are saved to d3rlpy_logs/SAC_online_20230401171813/model_69000.pt\n",
      "2023-04-01 17:23.55 [info     ] SAC_online_20230401171813: epoch=69 step=69000 epoch=69 metrics={'time_inference': 0.0004050436019897461, 'time_environment_step': 6.392550468444824e-05, 'time_sample_batch': 0.00017469334602355957, 'time_algorithm_update': 0.0038297634124755857, 'temp_loss': 0.000856505414179992, 'temp': 0.03174122617952525, 'critic_loss': 2.0234613682031632, 'actor_loss': -2.681923263788223, 'time_step': 0.004507250070571899, 'rollout_return': 6.436728148500842, 'evaluation': 6.813845302606863} step=69000\n",
      "2023-04-01 17:23.59 [info     ] Model parameters are saved to d3rlpy_logs/SAC_online_20230401171813/model_70000.pt\n",
      "2023-04-01 17:23.59 [info     ] SAC_online_20230401171813: epoch=70 step=70000 epoch=70 metrics={'time_inference': 0.000412581205368042, 'time_environment_step': 6.346797943115235e-05, 'time_sample_batch': 0.00017455577850341797, 'time_algorithm_update': 0.0038127975463867186, 'temp_loss': 7.211486210871953e-05, 'temp': 0.030319622073322533, 'critic_loss': 1.9747785094976424, 'actor_loss': -2.6426030552387236, 'time_step': 0.004495872497558594, 'rollout_return': 6.501802698343397, 'evaluation': 6.879524116622322} step=70000\n",
      "2023-04-01 17:24.05 [info     ] Model parameters are saved to d3rlpy_logs/SAC_online_20230401171813/model_71000.pt\n",
      "2023-04-01 17:24.05 [info     ] SAC_online_20230401171813: epoch=71 step=71000 epoch=71 metrics={'time_inference': 0.00048251795768737793, 'time_environment_step': 9.235072135925292e-05, 'time_sample_batch': 0.00022409987449645996, 'time_algorithm_update': 0.004869502305984497, 'temp_loss': 0.0008661288939183578, 'temp': 0.029915331300348045, 'critic_loss': 1.9113261911869048, 'actor_loss': -2.6113236527442933, 'time_step': 0.0057114393711090086, 'rollout_return': 6.523375087269795, 'evaluation': 6.74871629493345} step=71000\n",
      "2023-04-01 17:24.11 [info     ] Model parameters are saved to d3rlpy_logs/SAC_online_20230401171813/model_72000.pt\n",
      "2023-04-01 17:24.11 [info     ] SAC_online_20230401171813: epoch=72 step=72000 epoch=72 metrics={'time_inference': 0.00046783065795898436, 'time_environment_step': 8.927679061889649e-05, 'time_sample_batch': 0.00020472502708435058, 'time_algorithm_update': 0.004713689804077149, 'temp_loss': 0.00035721986135467886, 'temp': 0.02887734275124967, 'critic_loss': 1.8810343010425568, 'actor_loss': -2.5979896969795226, 'time_step': 0.005518062353134155, 'rollout_return': 6.560085166452172, 'evaluation': 6.929325225528328} step=72000\n",
      "2023-04-01 17:24.17 [info     ] Model parameters are saved to d3rlpy_logs/SAC_online_20230401171813/model_73000.pt\n",
      "2023-04-01 17:24.17 [info     ] SAC_online_20230401171813: epoch=73 step=73000 epoch=73 metrics={'time_inference': 0.0004944484233856202, 'time_environment_step': 0.00010655021667480469, 'time_sample_batch': 0.00021311068534851074, 'time_algorithm_update': 0.005054881334304809, 'temp_loss': -0.0006388870293158106, 'temp': 0.02808551089465618, 'critic_loss': 1.8297505543231964, 'actor_loss': -2.574555833339691, 'time_step': 0.00591271710395813, 'rollout_return': 6.667384353367634, 'evaluation': 6.872013933105021} step=73000\n",
      "2023-04-01 17:24.22 [info     ] Model parameters are saved to d3rlpy_logs/SAC_online_20230401171813/model_74000.pt\n",
      "2023-04-01 17:24.22 [info     ] SAC_online_20230401171813: epoch=74 step=74000 epoch=74 metrics={'time_inference': 0.00042269635200500486, 'time_environment_step': 7.019448280334472e-05, 'time_sample_batch': 0.00018369269371032714, 'time_algorithm_update': 0.004074771642684936, 'temp_loss': 2.9496176430257038e-05, 'temp': 0.029614351542666555, 'critic_loss': 1.8051873450279237, 'actor_loss': -2.5571947317123414, 'time_step': 0.00478649640083313, 'rollout_return': 6.611199865725163, 'evaluation': 6.67132564128089} step=74000\n",
      "2023-04-01 17:24.27 [info     ] Model parameters are saved to d3rlpy_logs/SAC_online_20230401171813/model_75000.pt\n",
      "2023-04-01 17:24.27 [info     ] SAC_online_20230401171813: epoch=75 step=75000 epoch=75 metrics={'time_inference': 0.00045932674407958985, 'time_environment_step': 8.437180519104003e-05, 'time_sample_batch': 0.0002016897201538086, 'time_algorithm_update': 0.0045426893234252926, 'temp_loss': 0.0011855821466015186, 'temp': 0.028684251444414256, 'critic_loss': 1.7694906109571458, 'actor_loss': -2.542851146697998, 'time_step': 0.005330321550369263, 'rollout_return': 6.44203806146628, 'evaluation': 6.823567504640768} step=75000\n",
      "2023-04-01 17:24.32 [info     ] Model parameters are saved to d3rlpy_logs/SAC_online_20230401171813/model_76000.pt\n",
      "2023-04-01 17:24.32 [info     ] SAC_online_20230401171813: epoch=76 step=76000 epoch=76 metrics={'time_inference': 0.00043821406364440916, 'time_environment_step': 7.442951202392578e-05, 'time_sample_batch': 0.000187471866607666, 'time_algorithm_update': 0.004199954986572265, 'temp_loss': 0.0002445302998385159, 'temp': 0.02605349440872669, 'critic_loss': 1.8086834444999695, 'actor_loss': -2.5664750094413757, 'time_step': 0.004937301874160766, 'rollout_return': 6.278119236886144, 'evaluation': 6.6847185842679} step=76000\n",
      "2023-04-01 17:24.37 [info     ] Model parameters are saved to d3rlpy_logs/SAC_online_20230401171813/model_77000.pt\n",
      "2023-04-01 17:24.37 [info     ] SAC_online_20230401171813: epoch=77 step=77000 epoch=77 metrics={'time_inference': 0.00043191003799438474, 'time_environment_step': 7.167291641235351e-05, 'time_sample_batch': 0.0001840229034423828, 'time_algorithm_update': 0.004141836881637573, 'temp_loss': 9.795446098723915e-05, 'temp': 0.028119124935939908, 'critic_loss': 1.7951876368522643, 'actor_loss': -2.546557117462158, 'time_step': 0.0048654768466949464, 'rollout_return': 6.6388807586551515, 'evaluation': 6.2864067487200925} step=77000\n",
      "2023-04-01 17:24.42 [info     ] Model parameters are saved to d3rlpy_logs/SAC_online_20230401171813/model_78000.pt\n",
      "2023-04-01 17:24.42 [info     ] SAC_online_20230401171813: epoch=78 step=78000 epoch=78 metrics={'time_inference': 0.0004171242713928223, 'time_environment_step': 7.687187194824218e-05, 'time_sample_batch': 0.00018421649932861327, 'time_algorithm_update': 0.0040073635578155515, 'temp_loss': 0.0011160403086105362, 'temp': 0.025512927427887917, 'critic_loss': 1.797037487745285, 'actor_loss': -2.5704054496288298, 'time_step': 0.004720918893814087, 'rollout_return': 6.35303864629518, 'evaluation': 7.124401417066366} step=78000\n",
      "2023-04-01 17:24.47 [info     ] Model parameters are saved to d3rlpy_logs/SAC_online_20230401171813/model_79000.pt\n",
      "2023-04-01 17:24.47 [info     ] SAC_online_20230401171813: epoch=79 step=79000 epoch=79 metrics={'time_inference': 0.00042017388343811035, 'time_environment_step': 7.082176208496094e-05, 'time_sample_batch': 0.0001803295612335205, 'time_algorithm_update': 0.004043789863586425, 'temp_loss': -0.000448877506176359, 'temp': 0.02528426342085004, 'critic_loss': 1.811029806613922, 'actor_loss': -2.572931741952896, 'time_step': 0.004750231742858887, 'rollout_return': 6.277442228094888, 'evaluation': 7.189764540262812} step=79000\n",
      "2023-04-01 17:24.52 [info     ] Model parameters are saved to d3rlpy_logs/SAC_online_20230401171813/model_80000.pt\n",
      "2023-04-01 17:24.52 [info     ] SAC_online_20230401171813: epoch=80 step=80000 epoch=80 metrics={'time_inference': 0.00045238566398620605, 'time_environment_step': 8.360767364501953e-05, 'time_sample_batch': 0.00023177242279052735, 'time_algorithm_update': 0.004431966066360473, 'temp_loss': 0.0004267465032025939, 'temp': 0.025520332174375653, 'critic_loss': 1.777224719285965, 'actor_loss': -2.551867555141449, 'time_step': 0.005245991230010986, 'rollout_return': 6.874367405369395, 'evaluation': 7.259540951444893} step=80000\n",
      "2023-04-01 17:24.58 [info     ] Model parameters are saved to d3rlpy_logs/SAC_online_20230401171813/model_81000.pt\n",
      "2023-04-01 17:24.58 [info     ] SAC_online_20230401171813: epoch=81 step=81000 epoch=81 metrics={'time_inference': 0.0004805736541748047, 'time_environment_step': 9.099841117858887e-05, 'time_sample_batch': 0.00020491957664489746, 'time_algorithm_update': 0.004668505191802979, 'temp_loss': 0.0018645778737263754, 'temp': 0.023074067518115044, 'critic_loss': 1.7741200473308563, 'actor_loss': -2.5965809674263, 'time_step': 0.005488829374313354, 'rollout_return': 6.577521130083005, 'evaluation': 5.8738662153371495} step=81000\n",
      "2023-04-01 17:25.03 [info     ] Model parameters are saved to d3rlpy_logs/SAC_online_20230401171813/model_82000.pt\n",
      "2023-04-01 17:25.03 [info     ] SAC_online_20230401171813: epoch=82 step=82000 epoch=82 metrics={'time_inference': 0.000448185920715332, 'time_environment_step': 7.581448554992675e-05, 'time_sample_batch': 0.00018891215324401856, 'time_algorithm_update': 0.0042158238887786866, 'temp_loss': -0.0005160386776406085, 'temp': 0.022108295807614923, 'critic_loss': 1.9028586592674255, 'actor_loss': -2.7275682368278504, 'time_step': 0.004967002391815185, 'rollout_return': 5.713376749048819, 'evaluation': 6.1014164818651695} step=82000\n",
      "2023-04-01 17:25.08 [info     ] Model parameters are saved to d3rlpy_logs/SAC_online_20230401171813/model_83000.pt\n",
      "2023-04-01 17:25.08 [info     ] SAC_online_20230401171813: epoch=83 step=83000 epoch=83 metrics={'time_inference': 0.00043425679206848144, 'time_environment_step': 7.244396209716796e-05, 'time_sample_batch': 0.00018849587440490724, 'time_algorithm_update': 0.004165284872055054, 'temp_loss': 0.000757923176541226, 'temp': 0.02159805284999311, 'critic_loss': 1.876026440143585, 'actor_loss': -2.689642306089401, 'time_step': 0.004900605440139771, 'rollout_return': 6.046702852627115, 'evaluation': 6.5939174065804975} step=83000\n",
      "2023-04-01 17:25.12 [info     ] Model parameters are saved to d3rlpy_logs/SAC_online_20230401171813/model_84000.pt\n",
      "2023-04-01 17:25.12 [info     ] SAC_online_20230401171813: epoch=84 step=84000 epoch=84 metrics={'time_inference': 0.00041754150390625, 'time_environment_step': 6.663179397583008e-05, 'time_sample_batch': 0.0001789243221282959, 'time_algorithm_update': 0.003941193103790284, 'temp_loss': -0.0008155476057290798, 'temp': 0.022089044416323304, 'critic_loss': 1.7942083209753037, 'actor_loss': -2.639648717403412, 'time_step': 0.004638329029083252, 'rollout_return': 6.279805093111349, 'evaluation': 6.1794819418962295} step=84000\n",
      "2023-04-01 17:25.17 [info     ] Model parameters are saved to d3rlpy_logs/SAC_online_20230401171813/model_85000.pt\n",
      "2023-04-01 17:25.17 [info     ] SAC_online_20230401171813: epoch=85 step=85000 epoch=85 metrics={'time_inference': 0.00041242837905883787, 'time_environment_step': 6.517529487609863e-05, 'time_sample_batch': 0.0001761023998260498, 'time_algorithm_update': 0.003937271595001221, 'temp_loss': 0.00019883829005993902, 'temp': 0.022681798685342074, 'critic_loss': 1.7711763237714768, 'actor_loss': -2.6092698380947112, 'time_step': 0.004625011682510376, 'rollout_return': 6.172613071790173, 'evaluation': 6.583076558590801} step=85000\n",
      "2023-04-01 17:25.22 [info     ] Model parameters are saved to d3rlpy_logs/SAC_online_20230401171813/model_86000.pt\n",
      "2023-04-01 17:25.22 [info     ] SAC_online_20230401171813: epoch=86 step=86000 epoch=86 metrics={'time_inference': 0.00041939663887023926, 'time_environment_step': 6.73060417175293e-05, 'time_sample_batch': 0.00017843890190124512, 'time_algorithm_update': 0.004029396057128906, 'temp_loss': 0.001229056584808859, 'temp': 0.0212951622325927, 'critic_loss': 1.7324614095687867, 'actor_loss': -2.593852331161499, 'time_step': 0.00472856330871582, 'rollout_return': 6.1021040474178845, 'evaluation': 6.931868084357761} step=86000\n",
      "2023-04-01 17:25.27 [info     ] Model parameters are saved to d3rlpy_logs/SAC_online_20230401171813/model_87000.pt\n",
      "2023-04-01 17:25.27 [info     ] SAC_online_20230401171813: epoch=87 step=87000 epoch=87 metrics={'time_inference': 0.0004086604118347168, 'time_environment_step': 6.548619270324707e-05, 'time_sample_batch': 0.00017995810508728027, 'time_algorithm_update': 0.003919638156890869, 'temp_loss': 0.0019054461740888656, 'temp': 0.018052514396607877, 'critic_loss': 1.715543978691101, 'actor_loss': -2.6254757692813873, 'time_step': 0.004607825756072998, 'rollout_return': 5.996949656609636, 'evaluation': 6.642442460397177} step=87000\n",
      "2023-04-01 17:25.31 [info     ] Model parameters are saved to d3rlpy_logs/SAC_online_20230401171813/model_88000.pt\n",
      "2023-04-01 17:25.31 [info     ] SAC_online_20230401171813: epoch=88 step=88000 epoch=88 metrics={'time_inference': 0.0004140377044677734, 'time_environment_step': 6.617307662963867e-05, 'time_sample_batch': 0.0001770005226135254, 'time_algorithm_update': 0.003981323003768921, 'temp_loss': 0.0010932364143591258, 'temp': 0.015580315737053752, 'critic_loss': 1.7236456217765808, 'actor_loss': -2.6754350616931917, 'time_step': 0.004672278165817261, 'rollout_return': 5.771706501789065, 'evaluation': 6.6045026133664475} step=88000\n",
      "2023-04-01 17:25.36 [info     ] Model parameters are saved to d3rlpy_logs/SAC_online_20230401171813/model_89000.pt\n",
      "2023-04-01 17:25.36 [info     ] SAC_online_20230401171813: epoch=89 step=89000 epoch=89 metrics={'time_inference': 0.00041060829162597654, 'time_environment_step': 6.591916084289551e-05, 'time_sample_batch': 0.00017905592918395996, 'time_algorithm_update': 0.0038800253868103026, 'temp_loss': -0.0006380121297188452, 'temp': 0.01542030934151262, 'critic_loss': 1.6955583909749985, 'actor_loss': -2.681358002901077, 'time_step': 0.004569819450378418, 'rollout_return': 5.740289140525776, 'evaluation': 6.708602800004941} step=89000\n",
      "2023-04-01 17:25.41 [info     ] Model parameters are saved to d3rlpy_logs/SAC_online_20230401171813/model_90000.pt\n",
      "2023-04-01 17:25.41 [info     ] SAC_online_20230401171813: epoch=90 step=90000 epoch=90 metrics={'time_inference': 0.00041324043273925783, 'time_environment_step': 6.51412010192871e-05, 'time_sample_batch': 0.00017569971084594726, 'time_algorithm_update': 0.0038867478370666502, 'temp_loss': -0.0027158033195810276, 'temp': 0.01813081443682313, 'critic_loss': 1.6836223776340484, 'actor_loss': -2.6703622963428497, 'time_step': 0.004574080944061279, 'rollout_return': 5.311429875770022, 'evaluation': 5.546966848168096} step=90000\n",
      "2023-04-01 17:25.46 [info     ] Model parameters are saved to d3rlpy_logs/SAC_online_20230401171813/model_91000.pt\n",
      "2023-04-01 17:25.46 [info     ] SAC_online_20230401171813: epoch=91 step=91000 epoch=91 metrics={'time_inference': 0.00044005560874938967, 'time_environment_step': 7.845163345336914e-05, 'time_sample_batch': 0.00018754839897155762, 'time_algorithm_update': 0.004263156414031982, 'temp_loss': -0.0009974648692295887, 'temp': 0.023071530729532243, 'critic_loss': 1.6875424877405167, 'actor_loss': -2.597444051027298, 'time_step': 0.005007102489471436, 'rollout_return': 5.471651557331095, 'evaluation': 5.596368406204181} step=91000\n",
      "2023-04-01 17:25.50 [info     ] Model parameters are saved to d3rlpy_logs/SAC_online_20230401171813/model_92000.pt\n",
      "2023-04-01 17:25.50 [info     ] SAC_online_20230401171813: epoch=92 step=92000 epoch=92 metrics={'time_inference': 0.00040354108810424806, 'time_environment_step': 7.089900970458985e-05, 'time_sample_batch': 0.00017575740814208983, 'time_algorithm_update': 0.0038764986991882324, 'temp_loss': 6.79533061265829e-05, 'temp': 0.022438090527430177, 'critic_loss': 1.6462249647378921, 'actor_loss': -2.5486056756973268, 'time_step': 0.004560381174087524, 'rollout_return': 5.480973776308544, 'evaluation': 5.703531337469295} step=92000\n",
      "2023-04-01 17:25.55 [info     ] Model parameters are saved to d3rlpy_logs/SAC_online_20230401171813/model_93000.pt\n",
      "2023-04-01 17:25.55 [info     ] SAC_online_20230401171813: epoch=93 step=93000 epoch=93 metrics={'time_inference': 0.00042017436027526854, 'time_environment_step': 7.133936882019043e-05, 'time_sample_batch': 0.0001804077625274658, 'time_algorithm_update': 0.004046658754348755, 'temp_loss': 0.000339881791442167, 'temp': 0.02236367261968553, 'critic_loss': 1.6390008928775788, 'actor_loss': -2.536027945756912, 'time_step': 0.004754365682601929, 'rollout_return': 5.583968521621647, 'evaluation': 6.192896119367867} step=93000\n",
      "2023-04-01 17:26.00 [info     ] Model parameters are saved to d3rlpy_logs/SAC_online_20230401171813/model_94000.pt\n",
      "2023-04-01 17:26.00 [info     ] SAC_online_20230401171813: epoch=94 step=94000 epoch=94 metrics={'time_inference': 0.00040798521041870116, 'time_environment_step': 6.618309020996093e-05, 'time_sample_batch': 0.00017762398719787598, 'time_algorithm_update': 0.0038910675048828124, 'temp_loss': -0.00046526397427078335, 'temp': 0.022229969218373297, 'critic_loss': 1.6419039460420608, 'actor_loss': -2.5264643132686615, 'time_step': 0.004576038837432861, 'rollout_return': 5.611878462801631, 'evaluation': 5.877899640588967} step=94000\n",
      "2023-04-01 17:26.05 [info     ] Model parameters are saved to d3rlpy_logs/SAC_online_20230401171813/model_95000.pt\n",
      "2023-04-01 17:26.05 [info     ] SAC_online_20230401171813: epoch=95 step=95000 epoch=95 metrics={'time_inference': 0.0004110918045043945, 'time_environment_step': 6.574130058288574e-05, 'time_sample_batch': 0.00017754054069519043, 'time_algorithm_update': 0.00387229323387146, 'temp_loss': 0.00041083321227051783, 'temp': 0.023211450319737197, 'critic_loss': 1.589892499923706, 'actor_loss': -2.4719292476177217, 'time_step': 0.004559886693954468, 'rollout_return': 5.576913069763067, 'evaluation': 6.006144665723518} step=95000\n",
      "2023-04-01 17:26.09 [info     ] Model parameters are saved to d3rlpy_logs/SAC_online_20230401171813/model_96000.pt\n",
      "2023-04-01 17:26.09 [info     ] SAC_online_20230401171813: epoch=96 step=96000 epoch=96 metrics={'time_inference': 0.0004259300231933594, 'time_environment_step': 6.848955154418946e-05, 'time_sample_batch': 0.0001832277774810791, 'time_algorithm_update': 0.0039979047775268554, 'temp_loss': -3.697460827243049e-05, 'temp': 0.022056930625811218, 'critic_loss': 1.4987368985414504, 'actor_loss': -2.4098038849830625, 'time_step': 0.004710660934448242, 'rollout_return': 5.676939916407134, 'evaluation': 5.969655222745042} step=96000\n",
      "2023-04-01 17:26.14 [info     ] Model parameters are saved to d3rlpy_logs/SAC_online_20230401171813/model_97000.pt\n",
      "2023-04-01 17:26.14 [info     ] SAC_online_20230401171813: epoch=97 step=97000 epoch=97 metrics={'time_inference': 0.000431635856628418, 'time_environment_step': 7.185173034667969e-05, 'time_sample_batch': 0.00018622446060180664, 'time_algorithm_update': 0.004187431812286377, 'temp_loss': 0.0002480499703597161, 'temp': 0.021921132020652295, 'critic_loss': 1.4631556630134583, 'actor_loss': -2.372795044660568, 'time_step': 0.004913323879241943, 'rollout_return': 5.723923208331376, 'evaluation': 6.1862181807449685} step=97000\n",
      "2023-04-01 17:26.19 [info     ] Model parameters are saved to d3rlpy_logs/SAC_online_20230401171813/model_98000.pt\n",
      "2023-04-01 17:26.19 [info     ] SAC_online_20230401171813: epoch=98 step=98000 epoch=98 metrics={'time_inference': 0.000435565710067749, 'time_environment_step': 7.293176651000977e-05, 'time_sample_batch': 0.00018490242958068848, 'time_algorithm_update': 0.004203823566436768, 'temp_loss': -0.0006994389730753028, 'temp': 0.02279555006697774, 'critic_loss': 1.4179793941974639, 'actor_loss': -2.3286505677700045, 'time_step': 0.0049594535827636715, 'rollout_return': 5.879738571077469, 'evaluation': 6.185730497275606} step=98000\n",
      "2023-04-01 17:26.24 [info     ] Model parameters are saved to d3rlpy_logs/SAC_online_20230401171813/model_99000.pt\n",
      "2023-04-01 17:26.24 [info     ] SAC_online_20230401171813: epoch=99 step=99000 epoch=99 metrics={'time_inference': 0.00040558934211730956, 'time_environment_step': 6.485557556152344e-05, 'time_sample_batch': 0.0001756269931793213, 'time_algorithm_update': 0.00387406587600708, 'temp_loss': -0.0009184201688185567, 'temp': 0.024289740845561028, 'critic_loss': 1.3892431193590165, 'actor_loss': -2.3039357113838195, 'time_step': 0.004552963256835937, 'rollout_return': 6.008356819187836, 'evaluation': 6.236274640438363} step=99000\n",
      "2023-04-01 17:26.29 [info     ] Model parameters are saved to d3rlpy_logs/SAC_online_20230401171813/model_100000.pt\n",
      "2023-04-01 17:26.29 [info     ] SAC_online_20230401171813: epoch=100 step=100000 epoch=100 metrics={'time_inference': 0.0004422812461853027, 'time_environment_step': 8.313107490539551e-05, 'time_sample_batch': 0.0001911156177520752, 'time_algorithm_update': 0.0044639697074890135, 'temp_loss': -0.001169305595671176, 'temp': 0.026601084347814323, 'critic_loss': 1.4006326827406883, 'actor_loss': -2.3104834246635435, 'time_step': 0.005220621109008789, 'rollout_return': 6.009907187527185, 'evaluation': 6.358469515087807} step=100000\n",
      "2023-04-01 17:26.29 [warning  ] Parameters will be reinitialized.\n"
     ]
    }
   ],
   "source": [
    "# start training\n",
    "# skip if there is a pre-trained model\n",
    "sac.fit_online(\n",
    "    env_,\n",
    "    buffer,\n",
    "    eval_env=env_,\n",
    "    # n_steps=1000,\n",
    "    # n_steps_per_epoch=10,\n",
    "    # update_start_step=10,\n",
    "    n_steps=100000,\n",
    "    n_steps_per_epoch=1000,\n",
    "    update_start_step=1000,\n",
    ")\n",
    "# save model\n",
    "sac.save_model(\"d3rlpy_logs/sac.pt\")\n",
    "# reload model\n",
    "sac.build_with_env(env_)\n",
    "sac.load_model(\"d3rlpy_logs/sac.pt\")"
   ]
  },
  {
   "cell_type": "code",
   "execution_count": 9,
   "metadata": {},
   "outputs": [],
   "source": [
    "from d3rlpy.dataset import MDPDataset\n",
    "from d3rlpy.algos import CQL"
   ]
  },
  {
   "cell_type": "code",
   "execution_count": 10,
   "metadata": {},
   "outputs": [],
   "source": [
    "# import ope modules from OFRL\n",
    "from ofrl.ope import CreateOPEInput\n",
    "from ofrl.ope import OffPolicyEvaluation as OPE\n",
    "# basic estimators\n",
    "from ofrl.ope import ContinuousDirectMethod as DM\n",
    "from ofrl.ope import ContinuousTrajectoryWiseImportanceSampling as TIS\n",
    "from ofrl.ope import ContinuousPerDecisionImportanceSampling as PDIS\n",
    "from ofrl.ope import ContinuousDoublyRobust as DR\n",
    "# self normalized estimators\n",
    "from ofrl.ope import ContinuousSelfNormalizedTrajectoryWiseImportanceSampling as SNTIS\n",
    "from ofrl.ope import ContinuousSelfNormalizedPerDecisionImportanceSampling as SNPDIS\n",
    "from ofrl.ope import ContinuousSelfNormalizedDoublyRobust as SNDR\n",
    "# marginal estimators\n",
    "from ofrl.ope import ContinuousStateActionMarginalImportanceSampling as SAMIS\n",
    "from ofrl.ope import ContinuousStateActionMarginalDoublyRobust as SAMDR\n",
    "from ofrl.ope import ContinuousStateMarginalImportanceSampling as SMIS\n",
    "from ofrl.ope import ContinuousStateMarginalDoublyRobust as SMDR\n",
    "from ofrl.ope import ContinuousStateActionMarginalSelfNormalizedImportanceSampling as SAMSNIS\n",
    "from ofrl.ope import ContinuousStateActionMarginalSelfNormalizedDoublyRobust as SAMSNDR\n",
    "from ofrl.ope import ContinuousStateMarginalSelfNormalizedImportanceSampling as SMSNIS\n",
    "from ofrl.ope import ContinuousStateMarginalSelfNormalizedDoublyRobust as SMSNDR\n",
    "# double reinforcement learning estimators\n",
    "from ofrl.ope import ContinuousDoubleReinforcementLearning as DRL"
   ]
  },
  {
   "cell_type": "code",
   "execution_count": 11,
   "metadata": {},
   "outputs": [],
   "source": [
    "basic_estimators = [DM(), TIS(), PDIS(), DR(), SNTIS(), SNPDIS(), SNDR()]\n",
    "state_marginal_estimators = [SMIS(), SMDR(), SMSNIS(), SMSNDR()]\n",
    "state_action_marginal_estimators = [SAMIS(), SAMDR(), SAMSNIS(), SAMSNDR()]\n",
    "drl_estimators = [DRL()]\n",
    "all_estimators = basic_estimators + state_marginal_estimators + state_action_marginal_estimators + drl_estimators\n",
    "\n",
    "basic_estimators_name = [\"dm\", \"tis\", \"pdis\", \"dr\", \"sntis\", \"snpdis\", \"sndr\"]\n",
    "state_marginal_estimators_name = [\"sm_is\", \"sm_dr\", \"sm_snis\", \"sm_sndr\"]\n",
    "state_action_marginal_estimators_name = [\"sam_is\", \"sam_dr\", \"sam_snis\", \"sam_sndr\"]\n",
    "drl_estimators_name = [\"drl\"]"
   ]
  },
  {
   "cell_type": "code",
   "execution_count": 12,
   "metadata": {},
   "outputs": [],
   "source": [
    "# n_trajectories_list = [100, 200, 400]\n",
    "# n_trajectories_list = [100, 200, 400, 800, 1600, 6400]\n",
    "n_trajectories_list = [100, 200, 400, 800, 1600]\n",
    "# random_state_list = [10, 20, 30]\n",
    "random_state_list = [10, 20, 30, 40, 50]\n",
    "\n",
    "bias_df_list = []\n",
    "variance_df_list = []\n",
    "mse_df_list = []"
   ]
  },
  {
   "cell_type": "code",
   "execution_count": null,
   "metadata": {},
   "outputs": [],
   "source": []
  },
  {
   "cell_type": "code",
   "execution_count": 14,
   "metadata": {},
   "outputs": [
    {
     "data": {
      "application/vnd.jupyter.widget-view+json": {
       "model_id": "b6a99ac72f4e49c9adb6058bc85fcb59",
       "version_major": 2,
       "version_minor": 0
      },
      "text/plain": [
       "[obtain_trajectories]:   0%|          | 0/100 [00:00<?, ?it/s]"
      ]
     },
     "metadata": {},
     "output_type": "display_data"
    },
    {
     "data": {
      "application/vnd.jupyter.widget-view+json": {
       "model_id": "79ed0d71f875477bab7e163346842e5d",
       "version_major": 2,
       "version_minor": 0
      },
      "text/plain": [
       "[obtain_trajectories]:   0%|          | 0/100 [00:00<?, ?it/s]"
      ]
     },
     "metadata": {},
     "output_type": "display_data"
    },
    {
     "data": {
      "application/vnd.jupyter.widget-view+json": {
       "model_id": "4714bebbb5394d0eb1fdf8b34daf2c14",
       "version_major": 2,
       "version_minor": 0
      },
      "text/plain": [
       "[fit FQE model]:   0%|          | 0/1 [00:00<?, ?it/s]"
      ]
     },
     "metadata": {},
     "output_type": "display_data"
    },
    {
     "name": "stdout",
     "output_type": "stream",
     "text": [
      "2023-04-01 17:30.00 [debug    ] RoundIterator is selected.\n",
      "2023-04-01 17:30.00 [info     ] Directory is created at d3rlpy_logs/FQE_20230401173000\n",
      "2023-04-01 17:30.00 [debug    ] Fitting scaler...              scaler=min_max\n",
      "2023-04-01 17:30.00 [debug    ] Fitting action scaler...       action_scaler=min_max\n",
      "2023-04-01 17:30.00 [debug    ] Building models...\n",
      "2023-04-01 17:30.00 [debug    ] Models have been built.\n",
      "2023-04-01 17:30.00 [info     ] Parameters are saved to d3rlpy_logs/FQE_20230401173000/params.json params={'action_scaler': {'type': 'min_max', 'params': {'minimum': array([-1., -1., -1.]), 'maximum': array([1., 1., 1.])}}, 'batch_size': 100, 'encoder_factory': {'type': 'vector', 'params': {'hidden_units': [30, 30], 'activation': 'relu', 'use_batch_norm': False, 'dropout_rate': None, 'use_dense': False}}, 'gamma': 0.95, 'generated_maxlen': 100000, 'learning_rate': 0.0001, 'n_critics': 1, 'n_frames': 1, 'n_steps': 1, 'optim_factory': {'optim_cls': 'Adam', 'betas': (0.9, 0.999), 'eps': 1e-08, 'weight_decay': 0, 'amsgrad': False}, 'q_func_factory': {'type': 'mean', 'params': {'share_encoder': False}}, 'real_ratio': 1.0, 'reward_scaler': None, 'scaler': {'type': 'min_max', 'params': {'maximum': array([0.90178064, 0.9607776 , 0.98469311, 0.96133844, 0.96438229]), 'minimum': array([-0.88312511, -0.93109112, -0.96838826, -0.94199716, -0.97580435])}}, 'target_update_interval': 100, 'use_gpu': None, 'algorithm': 'FQE', 'observation_shape': (5,), 'action_size': 3}\n"
     ]
    },
    {
     "data": {
      "application/vnd.jupyter.widget-view+json": {
       "model_id": "f9532a53a6264e4dba45954d58b5a996",
       "version_major": 2,
       "version_minor": 0
      },
      "text/plain": [
       "Epoch 1/1:   0%|          | 0/10 [00:00<?, ?it/s]"
      ]
     },
     "metadata": {},
     "output_type": "display_data"
    },
    {
     "name": "stdout",
     "output_type": "stream",
     "text": [
      "2023-04-01 17:30.00 [info     ] FQE_20230401173000: epoch=1 step=10 epoch=1 metrics={'time_sample_batch': 8.83340835571289e-05, 'time_algorithm_update': 0.001439356803894043, 'loss': 0.12368170842528343, 'time_step': 0.0015662908554077148} step=10\n",
      "2023-04-01 17:30.00 [info     ] Model parameters are saved to d3rlpy_logs/FQE_20230401173000/model_10.pt\n"
     ]
    },
    {
     "data": {
      "application/vnd.jupyter.widget-view+json": {
       "model_id": "e0852d0b5b6648f2a72c335c5c60e851",
       "version_major": 2,
       "version_minor": 0
      },
      "text/plain": [
       "[fit MWL model]:   0%|          | 0/1 [00:00<?, ?it/s]"
      ]
     },
     "metadata": {},
     "output_type": "display_data"
    },
    {
     "data": {
      "application/vnd.jupyter.widget-view+json": {
       "model_id": "3dff0cd1f415483fbd2c12d9d500d8ad",
       "version_major": 2,
       "version_minor": 0
      },
      "text/plain": [
       "[fitting_weight_function]:   0%|          | 0/100 [00:00<?, ?it/s]"
      ]
     },
     "metadata": {},
     "output_type": "display_data"
    },
    {
     "data": {
      "application/vnd.jupyter.widget-view+json": {
       "model_id": "2b02638e3b2d41f1adf849f45b3a45b1",
       "version_major": 2,
       "version_minor": 0
      },
      "text/plain": [
       "[fitting_weight_function]:   0%|          | 0/100 [00:00<?, ?it/s]"
      ]
     },
     "metadata": {},
     "output_type": "display_data"
    },
    {
     "data": {
      "application/vnd.jupyter.widget-view+json": {
       "model_id": "7bad3785e4d64fc88eacf085195835c1",
       "version_major": 2,
       "version_minor": 0
      },
      "text/plain": [
       "[collect input data: eval_policy]:   0%|          | 0/1 [00:00<?, ?it/s]"
      ]
     },
     "metadata": {},
     "output_type": "display_data"
    },
    {
     "data": {
      "application/vnd.jupyter.widget-view+json": {
       "model_id": "5fd0adab56724115b649c1c8ae96bedd",
       "version_major": 2,
       "version_minor": 0
      },
      "text/plain": [
       "[calculate on-policy policy value]:   0%|          | 0/100 [00:00<?, ?it/s]"
      ]
     },
     "metadata": {},
     "output_type": "display_data"
    },
    {
     "name": "stderr",
     "output_type": "stream",
     "text": [
      "/Users/ren/dev/ofrl/tutorial/../ofrl/ope/estimators_base.py:503: RuntimeWarning: invalid value encountered in divide\n",
      "  return numerator / denominator\n"
     ]
    },
    {
     "data": {
      "application/vnd.jupyter.widget-view+json": {
       "model_id": "4de5454a4f224d16bc3dd6397453d78e",
       "version_major": 2,
       "version_minor": 0
      },
      "text/plain": [
       "[obtain_trajectories]:   0%|          | 0/100 [00:00<?, ?it/s]"
      ]
     },
     "metadata": {},
     "output_type": "display_data"
    },
    {
     "data": {
      "application/vnd.jupyter.widget-view+json": {
       "model_id": "569fae38acc64b088e6f3f3eb8266bbd",
       "version_major": 2,
       "version_minor": 0
      },
      "text/plain": [
       "[obtain_trajectories]:   0%|          | 0/100 [00:00<?, ?it/s]"
      ]
     },
     "metadata": {},
     "output_type": "display_data"
    },
    {
     "data": {
      "application/vnd.jupyter.widget-view+json": {
       "model_id": "f557f6c952164b108641d1706d3d74a6",
       "version_major": 2,
       "version_minor": 0
      },
      "text/plain": [
       "[fit FQE model]:   0%|          | 0/1 [00:00<?, ?it/s]"
      ]
     },
     "metadata": {},
     "output_type": "display_data"
    },
    {
     "name": "stdout",
     "output_type": "stream",
     "text": [
      "2023-04-01 17:30.23 [debug    ] RoundIterator is selected.\n",
      "2023-04-01 17:30.23 [info     ] Directory is created at d3rlpy_logs/FQE_20230401173023\n",
      "2023-04-01 17:30.23 [debug    ] Fitting scaler...              scaler=min_max\n",
      "2023-04-01 17:30.23 [debug    ] Fitting action scaler...       action_scaler=min_max\n",
      "2023-04-01 17:30.23 [debug    ] Building models...\n",
      "2023-04-01 17:30.23 [debug    ] Models have been built.\n",
      "2023-04-01 17:30.23 [info     ] Parameters are saved to d3rlpy_logs/FQE_20230401173023/params.json params={'action_scaler': {'type': 'min_max', 'params': {'minimum': array([-1., -1., -1.]), 'maximum': array([1., 1., 1.])}}, 'batch_size': 100, 'encoder_factory': {'type': 'vector', 'params': {'hidden_units': [30, 30], 'activation': 'relu', 'use_batch_norm': False, 'dropout_rate': None, 'use_dense': False}}, 'gamma': 0.95, 'generated_maxlen': 100000, 'learning_rate': 0.0001, 'n_critics': 1, 'n_frames': 1, 'n_steps': 1, 'optim_factory': {'optim_cls': 'Adam', 'betas': (0.9, 0.999), 'eps': 1e-08, 'weight_decay': 0, 'amsgrad': False}, 'q_func_factory': {'type': 'mean', 'params': {'share_encoder': False}}, 'real_ratio': 1.0, 'reward_scaler': None, 'scaler': {'type': 'min_max', 'params': {'maximum': array([0.86534979, 0.96337462, 0.99452794, 0.91614465, 0.9606751 ]), 'minimum': array([-0.87854574, -0.93092242, -0.97545678, -0.92615717, -0.92229152])}}, 'target_update_interval': 100, 'use_gpu': None, 'algorithm': 'FQE', 'observation_shape': (5,), 'action_size': 3}\n"
     ]
    },
    {
     "data": {
      "application/vnd.jupyter.widget-view+json": {
       "model_id": "0d3ec91009394199956236d4222e3360",
       "version_major": 2,
       "version_minor": 0
      },
      "text/plain": [
       "Epoch 1/1:   0%|          | 0/10 [00:00<?, ?it/s]"
      ]
     },
     "metadata": {},
     "output_type": "display_data"
    },
    {
     "name": "stdout",
     "output_type": "stream",
     "text": [
      "2023-04-01 17:30.23 [info     ] FQE_20230401173023: epoch=1 step=10 epoch=1 metrics={'time_sample_batch': 0.00010366439819335938, 'time_algorithm_update': 0.0015702247619628906, 'loss': 0.14660930782556533, 'time_step': 0.001723480224609375} step=10\n",
      "2023-04-01 17:30.23 [info     ] Model parameters are saved to d3rlpy_logs/FQE_20230401173023/model_10.pt\n"
     ]
    },
    {
     "data": {
      "application/vnd.jupyter.widget-view+json": {
       "model_id": "3505e2ab0ca9474f98ecde025f9cad94",
       "version_major": 2,
       "version_minor": 0
      },
      "text/plain": [
       "[fit MWL model]:   0%|          | 0/1 [00:00<?, ?it/s]"
      ]
     },
     "metadata": {},
     "output_type": "display_data"
    },
    {
     "data": {
      "application/vnd.jupyter.widget-view+json": {
       "model_id": "52fdafc6c1b340988fb6b0ba8797f97c",
       "version_major": 2,
       "version_minor": 0
      },
      "text/plain": [
       "[fitting_weight_function]:   0%|          | 0/100 [00:00<?, ?it/s]"
      ]
     },
     "metadata": {},
     "output_type": "display_data"
    },
    {
     "data": {
      "application/vnd.jupyter.widget-view+json": {
       "model_id": "d61d4343f2b94164badc80bd24e61bd1",
       "version_major": 2,
       "version_minor": 0
      },
      "text/plain": [
       "[fitting_weight_function]:   0%|          | 0/100 [00:00<?, ?it/s]"
      ]
     },
     "metadata": {},
     "output_type": "display_data"
    },
    {
     "data": {
      "application/vnd.jupyter.widget-view+json": {
       "model_id": "d75a96a79ead497488147b07ec206fee",
       "version_major": 2,
       "version_minor": 0
      },
      "text/plain": [
       "[collect input data: eval_policy]:   0%|          | 0/1 [00:00<?, ?it/s]"
      ]
     },
     "metadata": {},
     "output_type": "display_data"
    },
    {
     "data": {
      "application/vnd.jupyter.widget-view+json": {
       "model_id": "a86b2dc3adab4a8badea099b0f90d577",
       "version_major": 2,
       "version_minor": 0
      },
      "text/plain": [
       "[calculate on-policy policy value]:   0%|          | 0/100 [00:00<?, ?it/s]"
      ]
     },
     "metadata": {},
     "output_type": "display_data"
    },
    {
     "name": "stderr",
     "output_type": "stream",
     "text": [
      "/Users/ren/dev/ofrl/tutorial/../ofrl/ope/estimators_base.py:503: RuntimeWarning: invalid value encountered in divide\n",
      "  return numerator / denominator\n"
     ]
    },
    {
     "data": {
      "application/vnd.jupyter.widget-view+json": {
       "model_id": "616417ccc00548ffaacddda3105a3cc3",
       "version_major": 2,
       "version_minor": 0
      },
      "text/plain": [
       "[obtain_trajectories]:   0%|          | 0/100 [00:00<?, ?it/s]"
      ]
     },
     "metadata": {},
     "output_type": "display_data"
    },
    {
     "data": {
      "application/vnd.jupyter.widget-view+json": {
       "model_id": "1e585bf8eb974bf8a7aa3e2c18d72eb4",
       "version_major": 2,
       "version_minor": 0
      },
      "text/plain": [
       "[obtain_trajectories]:   0%|          | 0/100 [00:00<?, ?it/s]"
      ]
     },
     "metadata": {},
     "output_type": "display_data"
    },
    {
     "data": {
      "application/vnd.jupyter.widget-view+json": {
       "model_id": "6ada46249bcf45dcb9e7620b12919065",
       "version_major": 2,
       "version_minor": 0
      },
      "text/plain": [
       "[fit FQE model]:   0%|          | 0/1 [00:00<?, ?it/s]"
      ]
     },
     "metadata": {},
     "output_type": "display_data"
    },
    {
     "name": "stdout",
     "output_type": "stream",
     "text": [
      "2023-04-01 17:30.46 [debug    ] RoundIterator is selected.\n",
      "2023-04-01 17:30.46 [info     ] Directory is created at d3rlpy_logs/FQE_20230401173046\n",
      "2023-04-01 17:30.46 [debug    ] Fitting scaler...              scaler=min_max\n",
      "2023-04-01 17:30.46 [debug    ] Fitting action scaler...       action_scaler=min_max\n",
      "2023-04-01 17:30.46 [debug    ] Building models...\n",
      "2023-04-01 17:30.46 [debug    ] Models have been built.\n",
      "2023-04-01 17:30.46 [info     ] Parameters are saved to d3rlpy_logs/FQE_20230401173046/params.json params={'action_scaler': {'type': 'min_max', 'params': {'minimum': array([-1., -1., -1.]), 'maximum': array([1., 1., 1.])}}, 'batch_size': 100, 'encoder_factory': {'type': 'vector', 'params': {'hidden_units': [30, 30], 'activation': 'relu', 'use_batch_norm': False, 'dropout_rate': None, 'use_dense': False}}, 'gamma': 0.95, 'generated_maxlen': 100000, 'learning_rate': 0.0001, 'n_critics': 1, 'n_frames': 1, 'n_steps': 1, 'optim_factory': {'optim_cls': 'Adam', 'betas': (0.9, 0.999), 'eps': 1e-08, 'weight_decay': 0, 'amsgrad': False}, 'q_func_factory': {'type': 'mean', 'params': {'share_encoder': False}}, 'real_ratio': 1.0, 'reward_scaler': None, 'scaler': {'type': 'min_max', 'params': {'maximum': array([0.84138359, 0.93256359, 0.98628096, 0.95850971, 0.96467463]), 'minimum': array([-0.89267221, -0.92531372, -0.96968584, -0.98484914, -0.95489876])}}, 'target_update_interval': 100, 'use_gpu': None, 'algorithm': 'FQE', 'observation_shape': (5,), 'action_size': 3}\n"
     ]
    },
    {
     "data": {
      "application/vnd.jupyter.widget-view+json": {
       "model_id": "99a985e88de848f2adf47ff78c99d608",
       "version_major": 2,
       "version_minor": 0
      },
      "text/plain": [
       "Epoch 1/1:   0%|          | 0/10 [00:00<?, ?it/s]"
      ]
     },
     "metadata": {},
     "output_type": "display_data"
    },
    {
     "name": "stdout",
     "output_type": "stream",
     "text": [
      "2023-04-01 17:30.46 [info     ] FQE_20230401173046: epoch=1 step=10 epoch=1 metrics={'time_sample_batch': 8.614063262939453e-05, 'time_algorithm_update': 0.001975083351135254, 'loss': 0.12522384151816368, 'time_step': 0.0021044731140136717} step=10\n",
      "2023-04-01 17:30.46 [info     ] Model parameters are saved to d3rlpy_logs/FQE_20230401173046/model_10.pt\n"
     ]
    },
    {
     "data": {
      "application/vnd.jupyter.widget-view+json": {
       "model_id": "dce23d96c8014525acc7ac63089970df",
       "version_major": 2,
       "version_minor": 0
      },
      "text/plain": [
       "[fit MWL model]:   0%|          | 0/1 [00:00<?, ?it/s]"
      ]
     },
     "metadata": {},
     "output_type": "display_data"
    },
    {
     "data": {
      "application/vnd.jupyter.widget-view+json": {
       "model_id": "a7e142bf91d7413db3ebbfc2065e611d",
       "version_major": 2,
       "version_minor": 0
      },
      "text/plain": [
       "[fitting_weight_function]:   0%|          | 0/100 [00:00<?, ?it/s]"
      ]
     },
     "metadata": {},
     "output_type": "display_data"
    },
    {
     "data": {
      "application/vnd.jupyter.widget-view+json": {
       "model_id": "a8ec0a4853524cd783c8ed08dc02bee5",
       "version_major": 2,
       "version_minor": 0
      },
      "text/plain": [
       "[fitting_weight_function]:   0%|          | 0/100 [00:00<?, ?it/s]"
      ]
     },
     "metadata": {},
     "output_type": "display_data"
    },
    {
     "data": {
      "application/vnd.jupyter.widget-view+json": {
       "model_id": "6119c90b81b94aa0a4d97326a0a5793d",
       "version_major": 2,
       "version_minor": 0
      },
      "text/plain": [
       "[collect input data: eval_policy]:   0%|          | 0/1 [00:00<?, ?it/s]"
      ]
     },
     "metadata": {},
     "output_type": "display_data"
    },
    {
     "data": {
      "application/vnd.jupyter.widget-view+json": {
       "model_id": "7b0560badfd942b0ab9e446063362a79",
       "version_major": 2,
       "version_minor": 0
      },
      "text/plain": [
       "[calculate on-policy policy value]:   0%|          | 0/100 [00:00<?, ?it/s]"
      ]
     },
     "metadata": {},
     "output_type": "display_data"
    },
    {
     "name": "stderr",
     "output_type": "stream",
     "text": [
      "/Users/ren/dev/ofrl/tutorial/../ofrl/ope/estimators_base.py:503: RuntimeWarning: invalid value encountered in divide\n",
      "  return numerator / denominator\n"
     ]
    },
    {
     "data": {
      "application/vnd.jupyter.widget-view+json": {
       "model_id": "65076e422ea3489f8f4d30ff15bc91f7",
       "version_major": 2,
       "version_minor": 0
      },
      "text/plain": [
       "[obtain_trajectories]:   0%|          | 0/100 [00:00<?, ?it/s]"
      ]
     },
     "metadata": {},
     "output_type": "display_data"
    },
    {
     "data": {
      "application/vnd.jupyter.widget-view+json": {
       "model_id": "904c5fcf74ba4ee1ba1291fec7bfff5d",
       "version_major": 2,
       "version_minor": 0
      },
      "text/plain": [
       "[obtain_trajectories]:   0%|          | 0/100 [00:00<?, ?it/s]"
      ]
     },
     "metadata": {},
     "output_type": "display_data"
    },
    {
     "data": {
      "application/vnd.jupyter.widget-view+json": {
       "model_id": "053f62bdb5a14b49be48ed09749a482f",
       "version_major": 2,
       "version_minor": 0
      },
      "text/plain": [
       "[fit FQE model]:   0%|          | 0/1 [00:00<?, ?it/s]"
      ]
     },
     "metadata": {},
     "output_type": "display_data"
    },
    {
     "name": "stdout",
     "output_type": "stream",
     "text": [
      "2023-04-01 17:31.11 [debug    ] RoundIterator is selected.\n",
      "2023-04-01 17:31.11 [info     ] Directory is created at d3rlpy_logs/FQE_20230401173111\n",
      "2023-04-01 17:31.11 [debug    ] Fitting scaler...              scaler=min_max\n",
      "2023-04-01 17:31.11 [debug    ] Fitting action scaler...       action_scaler=min_max\n",
      "2023-04-01 17:31.11 [debug    ] Building models...\n",
      "2023-04-01 17:31.11 [debug    ] Models have been built.\n",
      "2023-04-01 17:31.11 [info     ] Parameters are saved to d3rlpy_logs/FQE_20230401173111/params.json params={'action_scaler': {'type': 'min_max', 'params': {'minimum': array([-1., -1., -1.]), 'maximum': array([1., 1., 1.])}}, 'batch_size': 100, 'encoder_factory': {'type': 'vector', 'params': {'hidden_units': [30, 30], 'activation': 'relu', 'use_batch_norm': False, 'dropout_rate': None, 'use_dense': False}}, 'gamma': 0.95, 'generated_maxlen': 100000, 'learning_rate': 0.0001, 'n_critics': 1, 'n_frames': 1, 'n_steps': 1, 'optim_factory': {'optim_cls': 'Adam', 'betas': (0.9, 0.999), 'eps': 1e-08, 'weight_decay': 0, 'amsgrad': False}, 'q_func_factory': {'type': 'mean', 'params': {'share_encoder': False}}, 'real_ratio': 1.0, 'reward_scaler': None, 'scaler': {'type': 'min_max', 'params': {'maximum': array([0.90435613, 0.92043887, 0.99313403, 0.99535051, 0.96147379]), 'minimum': array([-0.88007242, -0.8911524 , -0.98855397, -0.94651809, -0.97214864])}}, 'target_update_interval': 100, 'use_gpu': None, 'algorithm': 'FQE', 'observation_shape': (5,), 'action_size': 3}\n"
     ]
    },
    {
     "data": {
      "application/vnd.jupyter.widget-view+json": {
       "model_id": "93055d3388a84f73a6c47a9b88e4ec00",
       "version_major": 2,
       "version_minor": 0
      },
      "text/plain": [
       "Epoch 1/1:   0%|          | 0/10 [00:00<?, ?it/s]"
      ]
     },
     "metadata": {},
     "output_type": "display_data"
    },
    {
     "name": "stdout",
     "output_type": "stream",
     "text": [
      "2023-04-01 17:31.11 [info     ] FQE_20230401173111: epoch=1 step=10 epoch=1 metrics={'time_sample_batch': 9.386539459228515e-05, 'time_algorithm_update': 0.00191953182220459, 'loss': 0.13512119576334952, 'time_step': 0.002065277099609375} step=10\n",
      "2023-04-01 17:31.11 [info     ] Model parameters are saved to d3rlpy_logs/FQE_20230401173111/model_10.pt\n"
     ]
    },
    {
     "data": {
      "application/vnd.jupyter.widget-view+json": {
       "model_id": "e1c77fa996ee4c269fba243dcd78d8d7",
       "version_major": 2,
       "version_minor": 0
      },
      "text/plain": [
       "[fit MWL model]:   0%|          | 0/1 [00:00<?, ?it/s]"
      ]
     },
     "metadata": {},
     "output_type": "display_data"
    },
    {
     "data": {
      "application/vnd.jupyter.widget-view+json": {
       "model_id": "2c87a7d3d57643bc961633ea898d5f64",
       "version_major": 2,
       "version_minor": 0
      },
      "text/plain": [
       "[fitting_weight_function]:   0%|          | 0/100 [00:00<?, ?it/s]"
      ]
     },
     "metadata": {},
     "output_type": "display_data"
    },
    {
     "data": {
      "application/vnd.jupyter.widget-view+json": {
       "model_id": "76d2217a7bc74a3aae199a8ab38fcd9f",
       "version_major": 2,
       "version_minor": 0
      },
      "text/plain": [
       "[fitting_weight_function]:   0%|          | 0/100 [00:00<?, ?it/s]"
      ]
     },
     "metadata": {},
     "output_type": "display_data"
    },
    {
     "data": {
      "application/vnd.jupyter.widget-view+json": {
       "model_id": "65af2a11379d43ae92ee67f52e1cb064",
       "version_major": 2,
       "version_minor": 0
      },
      "text/plain": [
       "[collect input data: eval_policy]:   0%|          | 0/1 [00:00<?, ?it/s]"
      ]
     },
     "metadata": {},
     "output_type": "display_data"
    },
    {
     "data": {
      "application/vnd.jupyter.widget-view+json": {
       "model_id": "2b0e1fb11f85424dbb8e5c4d38f3ddf5",
       "version_major": 2,
       "version_minor": 0
      },
      "text/plain": [
       "[calculate on-policy policy value]:   0%|          | 0/100 [00:00<?, ?it/s]"
      ]
     },
     "metadata": {},
     "output_type": "display_data"
    },
    {
     "name": "stderr",
     "output_type": "stream",
     "text": [
      "/Users/ren/dev/ofrl/tutorial/../ofrl/ope/estimators_base.py:503: RuntimeWarning: invalid value encountered in divide\n",
      "  return numerator / denominator\n"
     ]
    },
    {
     "data": {
      "application/vnd.jupyter.widget-view+json": {
       "model_id": "e3934fd0c2d04643922764a7b470e0ba",
       "version_major": 2,
       "version_minor": 0
      },
      "text/plain": [
       "[obtain_trajectories]:   0%|          | 0/100 [00:00<?, ?it/s]"
      ]
     },
     "metadata": {},
     "output_type": "display_data"
    },
    {
     "data": {
      "application/vnd.jupyter.widget-view+json": {
       "model_id": "57a0889dec64446db1ef0b1ddac220a4",
       "version_major": 2,
       "version_minor": 0
      },
      "text/plain": [
       "[obtain_trajectories]:   0%|          | 0/100 [00:00<?, ?it/s]"
      ]
     },
     "metadata": {},
     "output_type": "display_data"
    },
    {
     "data": {
      "application/vnd.jupyter.widget-view+json": {
       "model_id": "0517ec1d8fdc40ed88fa8f133f84d6e5",
       "version_major": 2,
       "version_minor": 0
      },
      "text/plain": [
       "[fit FQE model]:   0%|          | 0/1 [00:00<?, ?it/s]"
      ]
     },
     "metadata": {},
     "output_type": "display_data"
    },
    {
     "name": "stdout",
     "output_type": "stream",
     "text": [
      "2023-04-01 17:31.33 [debug    ] RoundIterator is selected.\n",
      "2023-04-01 17:31.33 [info     ] Directory is created at d3rlpy_logs/FQE_20230401173133\n",
      "2023-04-01 17:31.33 [debug    ] Fitting scaler...              scaler=min_max\n",
      "2023-04-01 17:31.33 [debug    ] Fitting action scaler...       action_scaler=min_max\n",
      "2023-04-01 17:31.33 [debug    ] Building models...\n",
      "2023-04-01 17:31.33 [debug    ] Models have been built.\n",
      "2023-04-01 17:31.33 [info     ] Parameters are saved to d3rlpy_logs/FQE_20230401173133/params.json params={'action_scaler': {'type': 'min_max', 'params': {'minimum': array([-1., -1., -1.]), 'maximum': array([1., 1., 1.])}}, 'batch_size': 100, 'encoder_factory': {'type': 'vector', 'params': {'hidden_units': [30, 30], 'activation': 'relu', 'use_batch_norm': False, 'dropout_rate': None, 'use_dense': False}}, 'gamma': 0.95, 'generated_maxlen': 100000, 'learning_rate': 0.0001, 'n_critics': 1, 'n_frames': 1, 'n_steps': 1, 'optim_factory': {'optim_cls': 'Adam', 'betas': (0.9, 0.999), 'eps': 1e-08, 'weight_decay': 0, 'amsgrad': False}, 'q_func_factory': {'type': 'mean', 'params': {'share_encoder': False}}, 'real_ratio': 1.0, 'reward_scaler': None, 'scaler': {'type': 'min_max', 'params': {'maximum': array([0.90690511, 0.94021596, 0.98839121, 0.97342693, 0.97365043]), 'minimum': array([-0.85282515, -0.92109117, -0.98520158, -0.90359659, -0.92967183])}}, 'target_update_interval': 100, 'use_gpu': None, 'algorithm': 'FQE', 'observation_shape': (5,), 'action_size': 3}\n"
     ]
    },
    {
     "data": {
      "application/vnd.jupyter.widget-view+json": {
       "model_id": "fac730d190ad4349a18f9f417c3cffaf",
       "version_major": 2,
       "version_minor": 0
      },
      "text/plain": [
       "Epoch 1/1:   0%|          | 0/10 [00:00<?, ?it/s]"
      ]
     },
     "metadata": {},
     "output_type": "display_data"
    },
    {
     "name": "stdout",
     "output_type": "stream",
     "text": [
      "2023-04-01 17:31.33 [info     ] FQE_20230401173133: epoch=1 step=10 epoch=1 metrics={'time_sample_batch': 8.742809295654297e-05, 'time_algorithm_update': 0.001774168014526367, 'loss': 0.14478099644184111, 'time_step': 0.0019021749496459961} step=10\n",
      "2023-04-01 17:31.33 [info     ] Model parameters are saved to d3rlpy_logs/FQE_20230401173133/model_10.pt\n"
     ]
    },
    {
     "data": {
      "application/vnd.jupyter.widget-view+json": {
       "model_id": "30ae3e34604f4cca98f3ba8d4014bf61",
       "version_major": 2,
       "version_minor": 0
      },
      "text/plain": [
       "[fit MWL model]:   0%|          | 0/1 [00:00<?, ?it/s]"
      ]
     },
     "metadata": {},
     "output_type": "display_data"
    },
    {
     "data": {
      "application/vnd.jupyter.widget-view+json": {
       "model_id": "8012c67074144f6fbf91c4cbf184ba25",
       "version_major": 2,
       "version_minor": 0
      },
      "text/plain": [
       "[fitting_weight_function]:   0%|          | 0/100 [00:00<?, ?it/s]"
      ]
     },
     "metadata": {},
     "output_type": "display_data"
    },
    {
     "data": {
      "application/vnd.jupyter.widget-view+json": {
       "model_id": "9a9347ca4bff420cbf2364f99d14df85",
       "version_major": 2,
       "version_minor": 0
      },
      "text/plain": [
       "[fitting_weight_function]:   0%|          | 0/100 [00:00<?, ?it/s]"
      ]
     },
     "metadata": {},
     "output_type": "display_data"
    },
    {
     "data": {
      "application/vnd.jupyter.widget-view+json": {
       "model_id": "5e266ea5161b43fbb7a7ee162e939f1c",
       "version_major": 2,
       "version_minor": 0
      },
      "text/plain": [
       "[collect input data: eval_policy]:   0%|          | 0/1 [00:00<?, ?it/s]"
      ]
     },
     "metadata": {},
     "output_type": "display_data"
    },
    {
     "data": {
      "application/vnd.jupyter.widget-view+json": {
       "model_id": "784d1b101ef14a8eb57e57dae63fcd09",
       "version_major": 2,
       "version_minor": 0
      },
      "text/plain": [
       "[calculate on-policy policy value]:   0%|          | 0/100 [00:00<?, ?it/s]"
      ]
     },
     "metadata": {},
     "output_type": "display_data"
    },
    {
     "name": "stderr",
     "output_type": "stream",
     "text": [
      "/Users/ren/dev/ofrl/tutorial/../ofrl/ope/estimators_base.py:503: RuntimeWarning: invalid value encountered in divide\n",
      "  return numerator / denominator\n"
     ]
    },
    {
     "data": {
      "application/vnd.jupyter.widget-view+json": {
       "model_id": "af0a51aafba44417a76078032a094b04",
       "version_major": 2,
       "version_minor": 0
      },
      "text/plain": [
       "[obtain_trajectories]:   0%|          | 0/200 [00:00<?, ?it/s]"
      ]
     },
     "metadata": {},
     "output_type": "display_data"
    },
    {
     "data": {
      "application/vnd.jupyter.widget-view+json": {
       "model_id": "c97bc47f4eee4a40838b609e606d2d6c",
       "version_major": 2,
       "version_minor": 0
      },
      "text/plain": [
       "[obtain_trajectories]:   0%|          | 0/200 [00:00<?, ?it/s]"
      ]
     },
     "metadata": {},
     "output_type": "display_data"
    },
    {
     "data": {
      "application/vnd.jupyter.widget-view+json": {
       "model_id": "2c7f5185835a43adb2a9901fa89d9cef",
       "version_major": 2,
       "version_minor": 0
      },
      "text/plain": [
       "[fit FQE model]:   0%|          | 0/1 [00:00<?, ?it/s]"
      ]
     },
     "metadata": {},
     "output_type": "display_data"
    },
    {
     "name": "stdout",
     "output_type": "stream",
     "text": [
      "2023-04-01 17:31.56 [debug    ] RoundIterator is selected.\n",
      "2023-04-01 17:31.56 [info     ] Directory is created at d3rlpy_logs/FQE_20230401173156\n",
      "2023-04-01 17:31.56 [debug    ] Fitting scaler...              scaler=min_max\n",
      "2023-04-01 17:31.56 [debug    ] Fitting action scaler...       action_scaler=min_max\n",
      "2023-04-01 17:31.56 [debug    ] Building models...\n",
      "2023-04-01 17:31.56 [debug    ] Models have been built.\n",
      "2023-04-01 17:31.56 [info     ] Parameters are saved to d3rlpy_logs/FQE_20230401173156/params.json params={'action_scaler': {'type': 'min_max', 'params': {'minimum': array([-1., -1., -1.]), 'maximum': array([1., 1., 1.])}}, 'batch_size': 100, 'encoder_factory': {'type': 'vector', 'params': {'hidden_units': [30, 30], 'activation': 'relu', 'use_batch_norm': False, 'dropout_rate': None, 'use_dense': False}}, 'gamma': 0.95, 'generated_maxlen': 100000, 'learning_rate': 0.0001, 'n_critics': 1, 'n_frames': 1, 'n_steps': 1, 'optim_factory': {'optim_cls': 'Adam', 'betas': (0.9, 0.999), 'eps': 1e-08, 'weight_decay': 0, 'amsgrad': False}, 'q_func_factory': {'type': 'mean', 'params': {'share_encoder': False}}, 'real_ratio': 1.0, 'reward_scaler': None, 'scaler': {'type': 'min_max', 'params': {'maximum': array([0.95342386, 0.95174099, 0.98942767, 0.96133844, 0.98591317]), 'minimum': array([-0.95107817, -0.89735536, -0.97248956, -0.95744986, -0.97113895])}}, 'target_update_interval': 100, 'use_gpu': None, 'algorithm': 'FQE', 'observation_shape': (5,), 'action_size': 3}\n"
     ]
    },
    {
     "data": {
      "application/vnd.jupyter.widget-view+json": {
       "model_id": "f1de3349f1d642ffb23e4aa8210a8f81",
       "version_major": 2,
       "version_minor": 0
      },
      "text/plain": [
       "Epoch 1/1:   0%|          | 0/20 [00:00<?, ?it/s]"
      ]
     },
     "metadata": {},
     "output_type": "display_data"
    },
    {
     "name": "stdout",
     "output_type": "stream",
     "text": [
      "2023-04-01 17:31.56 [info     ] FQE_20230401173156: epoch=1 step=20 epoch=1 metrics={'time_sample_batch': 8.790493011474609e-05, 'time_algorithm_update': 0.0014227032661437988, 'loss': 0.10944238938391208, 'time_step': 0.0015528559684753417} step=20\n",
      "2023-04-01 17:31.56 [info     ] Model parameters are saved to d3rlpy_logs/FQE_20230401173156/model_20.pt\n"
     ]
    },
    {
     "data": {
      "application/vnd.jupyter.widget-view+json": {
       "model_id": "e52f4aa77c484a8f823a86ac07baed59",
       "version_major": 2,
       "version_minor": 0
      },
      "text/plain": [
       "[fit MWL model]:   0%|          | 0/1 [00:00<?, ?it/s]"
      ]
     },
     "metadata": {},
     "output_type": "display_data"
    },
    {
     "data": {
      "application/vnd.jupyter.widget-view+json": {
       "model_id": "b254fa2de65844d6b755cef278e6b857",
       "version_major": 2,
       "version_minor": 0
      },
      "text/plain": [
       "[fitting_weight_function]:   0%|          | 0/100 [00:00<?, ?it/s]"
      ]
     },
     "metadata": {},
     "output_type": "display_data"
    },
    {
     "data": {
      "application/vnd.jupyter.widget-view+json": {
       "model_id": "e72b3045f8b14e029203902352a0fb3e",
       "version_major": 2,
       "version_minor": 0
      },
      "text/plain": [
       "[fitting_weight_function]:   0%|          | 0/100 [00:00<?, ?it/s]"
      ]
     },
     "metadata": {},
     "output_type": "display_data"
    },
    {
     "data": {
      "application/vnd.jupyter.widget-view+json": {
       "model_id": "1f7a4fae47bc48599a2044a8977f602d",
       "version_major": 2,
       "version_minor": 0
      },
      "text/plain": [
       "[collect input data: eval_policy]:   0%|          | 0/1 [00:00<?, ?it/s]"
      ]
     },
     "metadata": {},
     "output_type": "display_data"
    },
    {
     "data": {
      "application/vnd.jupyter.widget-view+json": {
       "model_id": "78dd0f1d47164061bc320d130247ac41",
       "version_major": 2,
       "version_minor": 0
      },
      "text/plain": [
       "[calculate on-policy policy value]:   0%|          | 0/100 [00:00<?, ?it/s]"
      ]
     },
     "metadata": {},
     "output_type": "display_data"
    },
    {
     "name": "stderr",
     "output_type": "stream",
     "text": [
      "/Users/ren/dev/ofrl/tutorial/../ofrl/ope/estimators_base.py:503: RuntimeWarning: invalid value encountered in divide\n",
      "  return numerator / denominator\n"
     ]
    },
    {
     "data": {
      "application/vnd.jupyter.widget-view+json": {
       "model_id": "fbee5547d0364406a181feed8b809f03",
       "version_major": 2,
       "version_minor": 0
      },
      "text/plain": [
       "[obtain_trajectories]:   0%|          | 0/200 [00:00<?, ?it/s]"
      ]
     },
     "metadata": {},
     "output_type": "display_data"
    },
    {
     "data": {
      "application/vnd.jupyter.widget-view+json": {
       "model_id": "c023f40044214c1899eb21e000eff65b",
       "version_major": 2,
       "version_minor": 0
      },
      "text/plain": [
       "[obtain_trajectories]:   0%|          | 0/200 [00:00<?, ?it/s]"
      ]
     },
     "metadata": {},
     "output_type": "display_data"
    },
    {
     "data": {
      "application/vnd.jupyter.widget-view+json": {
       "model_id": "2d759f6bdb234cf7b578b83269aae560",
       "version_major": 2,
       "version_minor": 0
      },
      "text/plain": [
       "[fit FQE model]:   0%|          | 0/1 [00:00<?, ?it/s]"
      ]
     },
     "metadata": {},
     "output_type": "display_data"
    },
    {
     "name": "stdout",
     "output_type": "stream",
     "text": [
      "2023-04-01 17:32.19 [debug    ] RoundIterator is selected.\n",
      "2023-04-01 17:32.19 [info     ] Directory is created at d3rlpy_logs/FQE_20230401173219\n",
      "2023-04-01 17:32.19 [debug    ] Fitting scaler...              scaler=min_max\n",
      "2023-04-01 17:32.19 [debug    ] Fitting action scaler...       action_scaler=min_max\n",
      "2023-04-01 17:32.19 [debug    ] Building models...\n",
      "2023-04-01 17:32.19 [debug    ] Models have been built.\n",
      "2023-04-01 17:32.19 [info     ] Parameters are saved to d3rlpy_logs/FQE_20230401173219/params.json params={'action_scaler': {'type': 'min_max', 'params': {'minimum': array([-1., -1., -1.]), 'maximum': array([1., 1., 1.])}}, 'batch_size': 100, 'encoder_factory': {'type': 'vector', 'params': {'hidden_units': [30, 30], 'activation': 'relu', 'use_batch_norm': False, 'dropout_rate': None, 'use_dense': False}}, 'gamma': 0.95, 'generated_maxlen': 100000, 'learning_rate': 0.0001, 'n_critics': 1, 'n_frames': 1, 'n_steps': 1, 'optim_factory': {'optim_cls': 'Adam', 'betas': (0.9, 0.999), 'eps': 1e-08, 'weight_decay': 0, 'amsgrad': False}, 'q_func_factory': {'type': 'mean', 'params': {'share_encoder': False}}, 'real_ratio': 1.0, 'reward_scaler': None, 'scaler': {'type': 'min_max', 'params': {'maximum': array([0.9530581 , 0.92577841, 0.99417513, 0.94246799, 0.98790262]), 'minimum': array([-0.94184283, -0.9531635 , -0.98896809, -0.91712046, -0.97362041])}}, 'target_update_interval': 100, 'use_gpu': None, 'algorithm': 'FQE', 'observation_shape': (5,), 'action_size': 3}\n"
     ]
    },
    {
     "data": {
      "application/vnd.jupyter.widget-view+json": {
       "model_id": "c823687dfbe6430886d9d7ca45ad28f5",
       "version_major": 2,
       "version_minor": 0
      },
      "text/plain": [
       "Epoch 1/1:   0%|          | 0/20 [00:00<?, ?it/s]"
      ]
     },
     "metadata": {},
     "output_type": "display_data"
    },
    {
     "name": "stdout",
     "output_type": "stream",
     "text": [
      "2023-04-01 17:32.19 [info     ] FQE_20230401173219: epoch=1 step=20 epoch=1 metrics={'time_sample_batch': 0.00010799169540405273, 'time_algorithm_update': 0.002133381366729736, 'loss': 0.14173550456762313, 'time_step': 0.0023314237594604494} step=20\n",
      "2023-04-01 17:32.19 [info     ] Model parameters are saved to d3rlpy_logs/FQE_20230401173219/model_20.pt\n"
     ]
    },
    {
     "data": {
      "application/vnd.jupyter.widget-view+json": {
       "model_id": "3a69626718ae4efbbe07095bf7e357da",
       "version_major": 2,
       "version_minor": 0
      },
      "text/plain": [
       "[fit MWL model]:   0%|          | 0/1 [00:00<?, ?it/s]"
      ]
     },
     "metadata": {},
     "output_type": "display_data"
    },
    {
     "data": {
      "application/vnd.jupyter.widget-view+json": {
       "model_id": "a8b4520c0c634c3e9cb352e0654375bd",
       "version_major": 2,
       "version_minor": 0
      },
      "text/plain": [
       "[fitting_weight_function]:   0%|          | 0/100 [00:00<?, ?it/s]"
      ]
     },
     "metadata": {},
     "output_type": "display_data"
    },
    {
     "data": {
      "application/vnd.jupyter.widget-view+json": {
       "model_id": "0b04a8c734fc46d3a6cfc825cf7281ac",
       "version_major": 2,
       "version_minor": 0
      },
      "text/plain": [
       "[fitting_weight_function]:   0%|          | 0/100 [00:00<?, ?it/s]"
      ]
     },
     "metadata": {},
     "output_type": "display_data"
    },
    {
     "data": {
      "application/vnd.jupyter.widget-view+json": {
       "model_id": "f05ace54e603498b9ab51ab4679a256e",
       "version_major": 2,
       "version_minor": 0
      },
      "text/plain": [
       "[collect input data: eval_policy]:   0%|          | 0/1 [00:00<?, ?it/s]"
      ]
     },
     "metadata": {},
     "output_type": "display_data"
    },
    {
     "data": {
      "application/vnd.jupyter.widget-view+json": {
       "model_id": "56277c4f9b024da68a8235334427af59",
       "version_major": 2,
       "version_minor": 0
      },
      "text/plain": [
       "[calculate on-policy policy value]:   0%|          | 0/100 [00:00<?, ?it/s]"
      ]
     },
     "metadata": {},
     "output_type": "display_data"
    },
    {
     "name": "stderr",
     "output_type": "stream",
     "text": [
      "/Users/ren/dev/ofrl/tutorial/../ofrl/ope/estimators_base.py:503: RuntimeWarning: invalid value encountered in divide\n",
      "  return numerator / denominator\n"
     ]
    },
    {
     "data": {
      "application/vnd.jupyter.widget-view+json": {
       "model_id": "0e37710e5b3f428c924c3d3168fb0bdc",
       "version_major": 2,
       "version_minor": 0
      },
      "text/plain": [
       "[obtain_trajectories]:   0%|          | 0/200 [00:00<?, ?it/s]"
      ]
     },
     "metadata": {},
     "output_type": "display_data"
    },
    {
     "data": {
      "application/vnd.jupyter.widget-view+json": {
       "model_id": "59d56657de24494f85a6857088e75afb",
       "version_major": 2,
       "version_minor": 0
      },
      "text/plain": [
       "[obtain_trajectories]:   0%|          | 0/200 [00:00<?, ?it/s]"
      ]
     },
     "metadata": {},
     "output_type": "display_data"
    },
    {
     "data": {
      "application/vnd.jupyter.widget-view+json": {
       "model_id": "dd53fa8278ef4c7daa6464bae3f940f1",
       "version_major": 2,
       "version_minor": 0
      },
      "text/plain": [
       "[fit FQE model]:   0%|          | 0/1 [00:00<?, ?it/s]"
      ]
     },
     "metadata": {},
     "output_type": "display_data"
    },
    {
     "name": "stdout",
     "output_type": "stream",
     "text": [
      "2023-04-01 17:32.41 [debug    ] RoundIterator is selected.\n",
      "2023-04-01 17:32.41 [info     ] Directory is created at d3rlpy_logs/FQE_20230401173241\n",
      "2023-04-01 17:32.41 [debug    ] Fitting scaler...              scaler=min_max\n",
      "2023-04-01 17:32.41 [debug    ] Fitting action scaler...       action_scaler=min_max\n",
      "2023-04-01 17:32.41 [debug    ] Building models...\n",
      "2023-04-01 17:32.41 [debug    ] Models have been built.\n",
      "2023-04-01 17:32.41 [info     ] Parameters are saved to d3rlpy_logs/FQE_20230401173241/params.json params={'action_scaler': {'type': 'min_max', 'params': {'minimum': array([-1., -1., -1.]), 'maximum': array([1., 1., 1.])}}, 'batch_size': 100, 'encoder_factory': {'type': 'vector', 'params': {'hidden_units': [30, 30], 'activation': 'relu', 'use_batch_norm': False, 'dropout_rate': None, 'use_dense': False}}, 'gamma': 0.95, 'generated_maxlen': 100000, 'learning_rate': 0.0001, 'n_critics': 1, 'n_frames': 1, 'n_steps': 1, 'optim_factory': {'optim_cls': 'Adam', 'betas': (0.9, 0.999), 'eps': 1e-08, 'weight_decay': 0, 'amsgrad': False}, 'q_func_factory': {'type': 'mean', 'params': {'share_encoder': False}}, 'real_ratio': 1.0, 'reward_scaler': None, 'scaler': {'type': 'min_max', 'params': {'maximum': array([0.89789548, 0.96911409, 0.98534849, 0.95850971, 0.96946793]), 'minimum': array([-0.90665218, -0.96093206, -0.99473923, -0.98484914, -0.98886532])}}, 'target_update_interval': 100, 'use_gpu': None, 'algorithm': 'FQE', 'observation_shape': (5,), 'action_size': 3}\n"
     ]
    },
    {
     "data": {
      "application/vnd.jupyter.widget-view+json": {
       "model_id": "52cb4bb3bee741d9ae4d8b7106e7641e",
       "version_major": 2,
       "version_minor": 0
      },
      "text/plain": [
       "Epoch 1/1:   0%|          | 0/20 [00:00<?, ?it/s]"
      ]
     },
     "metadata": {},
     "output_type": "display_data"
    },
    {
     "name": "stdout",
     "output_type": "stream",
     "text": [
      "2023-04-01 17:32.42 [info     ] FQE_20230401173241: epoch=1 step=20 epoch=1 metrics={'time_sample_batch': 8.211135864257812e-05, 'time_algorithm_update': 0.0012774109840393067, 'loss': 0.12406322583556176, 'time_step': 0.0014014959335327149} step=20\n",
      "2023-04-01 17:32.42 [info     ] Model parameters are saved to d3rlpy_logs/FQE_20230401173241/model_20.pt\n"
     ]
    },
    {
     "data": {
      "application/vnd.jupyter.widget-view+json": {
       "model_id": "b454d169ca224a0594976997ee5e86d6",
       "version_major": 2,
       "version_minor": 0
      },
      "text/plain": [
       "[fit MWL model]:   0%|          | 0/1 [00:00<?, ?it/s]"
      ]
     },
     "metadata": {},
     "output_type": "display_data"
    },
    {
     "data": {
      "application/vnd.jupyter.widget-view+json": {
       "model_id": "44be835aa88c4b29acb4c265fc6aaed4",
       "version_major": 2,
       "version_minor": 0
      },
      "text/plain": [
       "[fitting_weight_function]:   0%|          | 0/100 [00:00<?, ?it/s]"
      ]
     },
     "metadata": {},
     "output_type": "display_data"
    },
    {
     "data": {
      "application/vnd.jupyter.widget-view+json": {
       "model_id": "c6f28e239f5c4cdf8ca3e68e2e667946",
       "version_major": 2,
       "version_minor": 0
      },
      "text/plain": [
       "[fitting_weight_function]:   0%|          | 0/100 [00:00<?, ?it/s]"
      ]
     },
     "metadata": {},
     "output_type": "display_data"
    },
    {
     "data": {
      "application/vnd.jupyter.widget-view+json": {
       "model_id": "00fb96ec2a5140acaa21c2bf870670e1",
       "version_major": 2,
       "version_minor": 0
      },
      "text/plain": [
       "[collect input data: eval_policy]:   0%|          | 0/1 [00:00<?, ?it/s]"
      ]
     },
     "metadata": {},
     "output_type": "display_data"
    },
    {
     "data": {
      "application/vnd.jupyter.widget-view+json": {
       "model_id": "2d7fa9aec70d48cc8f5560ef6a71e5cd",
       "version_major": 2,
       "version_minor": 0
      },
      "text/plain": [
       "[calculate on-policy policy value]:   0%|          | 0/100 [00:00<?, ?it/s]"
      ]
     },
     "metadata": {},
     "output_type": "display_data"
    },
    {
     "name": "stderr",
     "output_type": "stream",
     "text": [
      "/Users/ren/dev/ofrl/tutorial/../ofrl/ope/estimators_base.py:503: RuntimeWarning: invalid value encountered in divide\n",
      "  return numerator / denominator\n"
     ]
    },
    {
     "data": {
      "application/vnd.jupyter.widget-view+json": {
       "model_id": "331796457f984960b0b72463df4467e2",
       "version_major": 2,
       "version_minor": 0
      },
      "text/plain": [
       "[obtain_trajectories]:   0%|          | 0/200 [00:00<?, ?it/s]"
      ]
     },
     "metadata": {},
     "output_type": "display_data"
    },
    {
     "data": {
      "application/vnd.jupyter.widget-view+json": {
       "model_id": "71fc75cd747747e7b4721f877132f115",
       "version_major": 2,
       "version_minor": 0
      },
      "text/plain": [
       "[obtain_trajectories]:   0%|          | 0/200 [00:00<?, ?it/s]"
      ]
     },
     "metadata": {},
     "output_type": "display_data"
    },
    {
     "data": {
      "application/vnd.jupyter.widget-view+json": {
       "model_id": "ea54688e331c476d8250237e222eb754",
       "version_major": 2,
       "version_minor": 0
      },
      "text/plain": [
       "[fit FQE model]:   0%|          | 0/1 [00:00<?, ?it/s]"
      ]
     },
     "metadata": {},
     "output_type": "display_data"
    },
    {
     "name": "stdout",
     "output_type": "stream",
     "text": [
      "2023-04-01 17:33.04 [debug    ] RoundIterator is selected.\n",
      "2023-04-01 17:33.04 [info     ] Directory is created at d3rlpy_logs/FQE_20230401173304\n",
      "2023-04-01 17:33.04 [debug    ] Fitting scaler...              scaler=min_max\n",
      "2023-04-01 17:33.04 [debug    ] Fitting action scaler...       action_scaler=min_max\n",
      "2023-04-01 17:33.04 [debug    ] Building models...\n",
      "2023-04-01 17:33.04 [debug    ] Models have been built.\n",
      "2023-04-01 17:33.04 [info     ] Parameters are saved to d3rlpy_logs/FQE_20230401173304/params.json params={'action_scaler': {'type': 'min_max', 'params': {'minimum': array([-1., -1., -1.]), 'maximum': array([1., 1., 1.])}}, 'batch_size': 100, 'encoder_factory': {'type': 'vector', 'params': {'hidden_units': [30, 30], 'activation': 'relu', 'use_batch_norm': False, 'dropout_rate': None, 'use_dense': False}}, 'gamma': 0.95, 'generated_maxlen': 100000, 'learning_rate': 0.0001, 'n_critics': 1, 'n_frames': 1, 'n_steps': 1, 'optim_factory': {'optim_cls': 'Adam', 'betas': (0.9, 0.999), 'eps': 1e-08, 'weight_decay': 0, 'amsgrad': False}, 'q_func_factory': {'type': 'mean', 'params': {'share_encoder': False}}, 'real_ratio': 1.0, 'reward_scaler': None, 'scaler': {'type': 'min_max', 'params': {'maximum': array([0.90435613, 0.93297482, 0.99077992, 0.99535051, 0.98409066]), 'minimum': array([-0.96685104, -0.98496974, -0.98307015, -0.95977599, -0.98922802])}}, 'target_update_interval': 100, 'use_gpu': None, 'algorithm': 'FQE', 'observation_shape': (5,), 'action_size': 3}\n"
     ]
    },
    {
     "data": {
      "application/vnd.jupyter.widget-view+json": {
       "model_id": "a0b390bdcffa40028c9e99b02c3372b1",
       "version_major": 2,
       "version_minor": 0
      },
      "text/plain": [
       "Epoch 1/1:   0%|          | 0/20 [00:00<?, ?it/s]"
      ]
     },
     "metadata": {},
     "output_type": "display_data"
    },
    {
     "name": "stdout",
     "output_type": "stream",
     "text": [
      "2023-04-01 17:33.04 [info     ] FQE_20230401173304: epoch=1 step=20 epoch=1 metrics={'time_sample_batch': 0.00010210275650024414, 'time_algorithm_update': 0.001962006092071533, 'loss': 0.13645456433296205, 'time_step': 0.0021181344985961915} step=20\n",
      "2023-04-01 17:33.04 [info     ] Model parameters are saved to d3rlpy_logs/FQE_20230401173304/model_20.pt\n"
     ]
    },
    {
     "data": {
      "application/vnd.jupyter.widget-view+json": {
       "model_id": "c25b81c1d74e47d5b91a58ee49ac52bc",
       "version_major": 2,
       "version_minor": 0
      },
      "text/plain": [
       "[fit MWL model]:   0%|          | 0/1 [00:00<?, ?it/s]"
      ]
     },
     "metadata": {},
     "output_type": "display_data"
    },
    {
     "data": {
      "application/vnd.jupyter.widget-view+json": {
       "model_id": "5322e706385547ef86bba273f2579ad6",
       "version_major": 2,
       "version_minor": 0
      },
      "text/plain": [
       "[fitting_weight_function]:   0%|          | 0/100 [00:00<?, ?it/s]"
      ]
     },
     "metadata": {},
     "output_type": "display_data"
    },
    {
     "data": {
      "application/vnd.jupyter.widget-view+json": {
       "model_id": "9209e7b8dc8c4da1be50b92e70f79a54",
       "version_major": 2,
       "version_minor": 0
      },
      "text/plain": [
       "[fitting_weight_function]:   0%|          | 0/100 [00:00<?, ?it/s]"
      ]
     },
     "metadata": {},
     "output_type": "display_data"
    },
    {
     "data": {
      "application/vnd.jupyter.widget-view+json": {
       "model_id": "9aaf8e576e0d47d69997fd9f6c989081",
       "version_major": 2,
       "version_minor": 0
      },
      "text/plain": [
       "[collect input data: eval_policy]:   0%|          | 0/1 [00:00<?, ?it/s]"
      ]
     },
     "metadata": {},
     "output_type": "display_data"
    },
    {
     "data": {
      "application/vnd.jupyter.widget-view+json": {
       "model_id": "b249aa0771f64232850bcc26d464cbbb",
       "version_major": 2,
       "version_minor": 0
      },
      "text/plain": [
       "[calculate on-policy policy value]:   0%|          | 0/100 [00:00<?, ?it/s]"
      ]
     },
     "metadata": {},
     "output_type": "display_data"
    },
    {
     "name": "stderr",
     "output_type": "stream",
     "text": [
      "/Users/ren/dev/ofrl/tutorial/../ofrl/ope/estimators_base.py:503: RuntimeWarning: invalid value encountered in divide\n",
      "  return numerator / denominator\n"
     ]
    },
    {
     "data": {
      "application/vnd.jupyter.widget-view+json": {
       "model_id": "838ca1be7d074a00b7f82a0ebfbc2c9c",
       "version_major": 2,
       "version_minor": 0
      },
      "text/plain": [
       "[obtain_trajectories]:   0%|          | 0/200 [00:00<?, ?it/s]"
      ]
     },
     "metadata": {},
     "output_type": "display_data"
    },
    {
     "data": {
      "application/vnd.jupyter.widget-view+json": {
       "model_id": "1e1ee4e21a834e65856f5f5034fde212",
       "version_major": 2,
       "version_minor": 0
      },
      "text/plain": [
       "[obtain_trajectories]:   0%|          | 0/200 [00:00<?, ?it/s]"
      ]
     },
     "metadata": {},
     "output_type": "display_data"
    },
    {
     "data": {
      "application/vnd.jupyter.widget-view+json": {
       "model_id": "066491f18c4547608391085c35d3f0aa",
       "version_major": 2,
       "version_minor": 0
      },
      "text/plain": [
       "[fit FQE model]:   0%|          | 0/1 [00:00<?, ?it/s]"
      ]
     },
     "metadata": {},
     "output_type": "display_data"
    },
    {
     "name": "stdout",
     "output_type": "stream",
     "text": [
      "2023-04-01 17:33.28 [debug    ] RoundIterator is selected.\n",
      "2023-04-01 17:33.28 [info     ] Directory is created at d3rlpy_logs/FQE_20230401173328\n",
      "2023-04-01 17:33.28 [debug    ] Fitting scaler...              scaler=min_max\n",
      "2023-04-01 17:33.28 [debug    ] Fitting action scaler...       action_scaler=min_max\n",
      "2023-04-01 17:33.28 [debug    ] Building models...\n",
      "2023-04-01 17:33.28 [debug    ] Models have been built.\n",
      "2023-04-01 17:33.28 [info     ] Parameters are saved to d3rlpy_logs/FQE_20230401173328/params.json params={'action_scaler': {'type': 'min_max', 'params': {'minimum': array([-1., -1., -1.]), 'maximum': array([1., 1., 1.])}}, 'batch_size': 100, 'encoder_factory': {'type': 'vector', 'params': {'hidden_units': [30, 30], 'activation': 'relu', 'use_batch_norm': False, 'dropout_rate': None, 'use_dense': False}}, 'gamma': 0.95, 'generated_maxlen': 100000, 'learning_rate': 0.0001, 'n_critics': 1, 'n_frames': 1, 'n_steps': 1, 'optim_factory': {'optim_cls': 'Adam', 'betas': (0.9, 0.999), 'eps': 1e-08, 'weight_decay': 0, 'amsgrad': False}, 'q_func_factory': {'type': 'mean', 'params': {'share_encoder': False}}, 'real_ratio': 1.0, 'reward_scaler': None, 'scaler': {'type': 'min_max', 'params': {'maximum': array([0.90813537, 0.97119923, 0.99437841, 0.97342693, 0.957942  ]), 'minimum': array([-0.92090509, -0.92109117, -0.97731024, -0.95630748, -0.97068545])}}, 'target_update_interval': 100, 'use_gpu': None, 'algorithm': 'FQE', 'observation_shape': (5,), 'action_size': 3}\n"
     ]
    },
    {
     "data": {
      "application/vnd.jupyter.widget-view+json": {
       "model_id": "c7b26dbf89244b1b873d08f8f98276c4",
       "version_major": 2,
       "version_minor": 0
      },
      "text/plain": [
       "Epoch 1/1:   0%|          | 0/20 [00:00<?, ?it/s]"
      ]
     },
     "metadata": {},
     "output_type": "display_data"
    },
    {
     "name": "stdout",
     "output_type": "stream",
     "text": [
      "2023-04-01 17:33.28 [info     ] FQE_20230401173328: epoch=1 step=20 epoch=1 metrics={'time_sample_batch': 0.00012108087539672852, 'time_algorithm_update': 0.0016598463058471679, 'loss': 0.13992572464048864, 'time_step': 0.0018577814102172852} step=20\n",
      "2023-04-01 17:33.28 [info     ] Model parameters are saved to d3rlpy_logs/FQE_20230401173328/model_20.pt\n"
     ]
    },
    {
     "data": {
      "application/vnd.jupyter.widget-view+json": {
       "model_id": "3e0a31ffb9214017bed24c7d2344f5a4",
       "version_major": 2,
       "version_minor": 0
      },
      "text/plain": [
       "[fit MWL model]:   0%|          | 0/1 [00:00<?, ?it/s]"
      ]
     },
     "metadata": {},
     "output_type": "display_data"
    },
    {
     "data": {
      "application/vnd.jupyter.widget-view+json": {
       "model_id": "d5bc7b825bb34e6381c783e1e5e10cab",
       "version_major": 2,
       "version_minor": 0
      },
      "text/plain": [
       "[fitting_weight_function]:   0%|          | 0/100 [00:00<?, ?it/s]"
      ]
     },
     "metadata": {},
     "output_type": "display_data"
    },
    {
     "data": {
      "application/vnd.jupyter.widget-view+json": {
       "model_id": "4223195b3bfd490a95db8cae6c4654bd",
       "version_major": 2,
       "version_minor": 0
      },
      "text/plain": [
       "[fitting_weight_function]:   0%|          | 0/100 [00:00<?, ?it/s]"
      ]
     },
     "metadata": {},
     "output_type": "display_data"
    },
    {
     "data": {
      "application/vnd.jupyter.widget-view+json": {
       "model_id": "ee737e3f3ad543778a0f38f28e9ded96",
       "version_major": 2,
       "version_minor": 0
      },
      "text/plain": [
       "[collect input data: eval_policy]:   0%|          | 0/1 [00:00<?, ?it/s]"
      ]
     },
     "metadata": {},
     "output_type": "display_data"
    },
    {
     "data": {
      "application/vnd.jupyter.widget-view+json": {
       "model_id": "f8d7d91691894eeca2ee47c87bfbd756",
       "version_major": 2,
       "version_minor": 0
      },
      "text/plain": [
       "[calculate on-policy policy value]:   0%|          | 0/100 [00:00<?, ?it/s]"
      ]
     },
     "metadata": {},
     "output_type": "display_data"
    },
    {
     "name": "stderr",
     "output_type": "stream",
     "text": [
      "/Users/ren/dev/ofrl/tutorial/../ofrl/ope/estimators_base.py:503: RuntimeWarning: invalid value encountered in divide\n",
      "  return numerator / denominator\n"
     ]
    },
    {
     "data": {
      "application/vnd.jupyter.widget-view+json": {
       "model_id": "2d094fa5e72c4da087566fbf6fbab63c",
       "version_major": 2,
       "version_minor": 0
      },
      "text/plain": [
       "[obtain_trajectories]:   0%|          | 0/400 [00:00<?, ?it/s]"
      ]
     },
     "metadata": {},
     "output_type": "display_data"
    },
    {
     "data": {
      "application/vnd.jupyter.widget-view+json": {
       "model_id": "af15a13543834134a006f1f8e48f6d6a",
       "version_major": 2,
       "version_minor": 0
      },
      "text/plain": [
       "[obtain_trajectories]:   0%|          | 0/400 [00:00<?, ?it/s]"
      ]
     },
     "metadata": {},
     "output_type": "display_data"
    },
    {
     "data": {
      "application/vnd.jupyter.widget-view+json": {
       "model_id": "ff50eaca2833407c932d7875a899f848",
       "version_major": 2,
       "version_minor": 0
      },
      "text/plain": [
       "[fit FQE model]:   0%|          | 0/1 [00:00<?, ?it/s]"
      ]
     },
     "metadata": {},
     "output_type": "display_data"
    },
    {
     "name": "stdout",
     "output_type": "stream",
     "text": [
      "2023-04-01 17:33.54 [debug    ] RoundIterator is selected.\n",
      "2023-04-01 17:33.54 [info     ] Directory is created at d3rlpy_logs/FQE_20230401173354\n",
      "2023-04-01 17:33.54 [debug    ] Fitting scaler...              scaler=min_max\n",
      "2023-04-01 17:33.54 [debug    ] Fitting action scaler...       action_scaler=min_max\n",
      "2023-04-01 17:33.54 [debug    ] Building models...\n",
      "2023-04-01 17:33.54 [debug    ] Models have been built.\n",
      "2023-04-01 17:33.54 [info     ] Parameters are saved to d3rlpy_logs/FQE_20230401173354/params.json params={'action_scaler': {'type': 'min_max', 'params': {'minimum': array([-1., -1., -1.]), 'maximum': array([1., 1., 1.])}}, 'batch_size': 100, 'encoder_factory': {'type': 'vector', 'params': {'hidden_units': [30, 30], 'activation': 'relu', 'use_batch_norm': False, 'dropout_rate': None, 'use_dense': False}}, 'gamma': 0.95, 'generated_maxlen': 100000, 'learning_rate': 0.0001, 'n_critics': 1, 'n_frames': 1, 'n_steps': 1, 'optim_factory': {'optim_cls': 'Adam', 'betas': (0.9, 0.999), 'eps': 1e-08, 'weight_decay': 0, 'amsgrad': False}, 'q_func_factory': {'type': 'mean', 'params': {'share_encoder': False}}, 'real_ratio': 1.0, 'reward_scaler': None, 'scaler': {'type': 'min_max', 'params': {'maximum': array([0.95342386, 0.97355146, 0.99679707, 0.96133844, 0.98082458]), 'minimum': array([-0.95500795, -0.96488627, -0.98942452, -0.99550855, -0.98547778])}}, 'target_update_interval': 100, 'use_gpu': None, 'algorithm': 'FQE', 'observation_shape': (5,), 'action_size': 3}\n"
     ]
    },
    {
     "data": {
      "application/vnd.jupyter.widget-view+json": {
       "model_id": "5d2c7e9a8309484d9388594b86d6ef16",
       "version_major": 2,
       "version_minor": 0
      },
      "text/plain": [
       "Epoch 1/1:   0%|          | 0/40 [00:00<?, ?it/s]"
      ]
     },
     "metadata": {},
     "output_type": "display_data"
    },
    {
     "name": "stdout",
     "output_type": "stream",
     "text": [
      "2023-04-01 17:33.54 [info     ] FQE_20230401173354: epoch=1 step=40 epoch=1 metrics={'time_sample_batch': 8.412003517150879e-05, 'time_algorithm_update': 0.001217871904373169, 'loss': 0.11057512387633324, 'time_step': 0.0013463139533996583} step=40\n",
      "2023-04-01 17:33.54 [info     ] Model parameters are saved to d3rlpy_logs/FQE_20230401173354/model_40.pt\n"
     ]
    },
    {
     "data": {
      "application/vnd.jupyter.widget-view+json": {
       "model_id": "8357f68b3ede4384978380259f42274f",
       "version_major": 2,
       "version_minor": 0
      },
      "text/plain": [
       "[fit MWL model]:   0%|          | 0/1 [00:00<?, ?it/s]"
      ]
     },
     "metadata": {},
     "output_type": "display_data"
    },
    {
     "data": {
      "application/vnd.jupyter.widget-view+json": {
       "model_id": "338582a3047e4ee1afbfc14c41414283",
       "version_major": 2,
       "version_minor": 0
      },
      "text/plain": [
       "[fitting_weight_function]:   0%|          | 0/100 [00:00<?, ?it/s]"
      ]
     },
     "metadata": {},
     "output_type": "display_data"
    },
    {
     "data": {
      "application/vnd.jupyter.widget-view+json": {
       "model_id": "9f44acfb5378478699cfb237f7416ce7",
       "version_major": 2,
       "version_minor": 0
      },
      "text/plain": [
       "[fitting_weight_function]:   0%|          | 0/100 [00:00<?, ?it/s]"
      ]
     },
     "metadata": {},
     "output_type": "display_data"
    },
    {
     "data": {
      "application/vnd.jupyter.widget-view+json": {
       "model_id": "fa3f31765dc24711a9e18ae9af03a9d1",
       "version_major": 2,
       "version_minor": 0
      },
      "text/plain": [
       "[collect input data: eval_policy]:   0%|          | 0/1 [00:00<?, ?it/s]"
      ]
     },
     "metadata": {},
     "output_type": "display_data"
    },
    {
     "data": {
      "application/vnd.jupyter.widget-view+json": {
       "model_id": "7995ae771d3348d88fb18bc3fafb6a27",
       "version_major": 2,
       "version_minor": 0
      },
      "text/plain": [
       "[calculate on-policy policy value]:   0%|          | 0/100 [00:00<?, ?it/s]"
      ]
     },
     "metadata": {},
     "output_type": "display_data"
    },
    {
     "name": "stderr",
     "output_type": "stream",
     "text": [
      "/Users/ren/dev/ofrl/tutorial/../ofrl/ope/estimators_base.py:503: RuntimeWarning: invalid value encountered in divide\n",
      "  return numerator / denominator\n"
     ]
    },
    {
     "data": {
      "application/vnd.jupyter.widget-view+json": {
       "model_id": "c7d5ed63da64452e94eed021a44e89b8",
       "version_major": 2,
       "version_minor": 0
      },
      "text/plain": [
       "[obtain_trajectories]:   0%|          | 0/400 [00:00<?, ?it/s]"
      ]
     },
     "metadata": {},
     "output_type": "display_data"
    },
    {
     "data": {
      "application/vnd.jupyter.widget-view+json": {
       "model_id": "0335229bdd6a4afa8f6d199012788c3c",
       "version_major": 2,
       "version_minor": 0
      },
      "text/plain": [
       "[obtain_trajectories]:   0%|          | 0/400 [00:00<?, ?it/s]"
      ]
     },
     "metadata": {},
     "output_type": "display_data"
    },
    {
     "data": {
      "application/vnd.jupyter.widget-view+json": {
       "model_id": "50391c93a31b4566ba1b69619888e6f8",
       "version_major": 2,
       "version_minor": 0
      },
      "text/plain": [
       "[fit FQE model]:   0%|          | 0/1 [00:00<?, ?it/s]"
      ]
     },
     "metadata": {},
     "output_type": "display_data"
    },
    {
     "name": "stdout",
     "output_type": "stream",
     "text": [
      "2023-04-01 17:34.21 [debug    ] RoundIterator is selected.\n",
      "2023-04-01 17:34.21 [info     ] Directory is created at d3rlpy_logs/FQE_20230401173421\n",
      "2023-04-01 17:34.21 [debug    ] Fitting scaler...              scaler=min_max\n",
      "2023-04-01 17:34.21 [debug    ] Fitting action scaler...       action_scaler=min_max\n",
      "2023-04-01 17:34.21 [debug    ] Building models...\n",
      "2023-04-01 17:34.21 [debug    ] Models have been built.\n",
      "2023-04-01 17:34.21 [info     ] Parameters are saved to d3rlpy_logs/FQE_20230401173421/params.json params={'action_scaler': {'type': 'min_max', 'params': {'minimum': array([-1., -1., -1.]), 'maximum': array([1., 1., 1.])}}, 'batch_size': 100, 'encoder_factory': {'type': 'vector', 'params': {'hidden_units': [30, 30], 'activation': 'relu', 'use_batch_norm': False, 'dropout_rate': None, 'use_dense': False}}, 'gamma': 0.95, 'generated_maxlen': 100000, 'learning_rate': 0.0001, 'n_critics': 1, 'n_frames': 1, 'n_steps': 1, 'optim_factory': {'optim_cls': 'Adam', 'betas': (0.9, 0.999), 'eps': 1e-08, 'weight_decay': 0, 'amsgrad': False}, 'q_func_factory': {'type': 'mean', 'params': {'share_encoder': False}}, 'real_ratio': 1.0, 'reward_scaler': None, 'scaler': {'type': 'min_max', 'params': {'maximum': array([0.91235909, 0.97696162, 0.99180358, 0.94246799, 0.99055436]), 'minimum': array([-0.95166893, -0.97459963, -0.9978765 , -0.92766678, -0.99268801])}}, 'target_update_interval': 100, 'use_gpu': None, 'algorithm': 'FQE', 'observation_shape': (5,), 'action_size': 3}\n"
     ]
    },
    {
     "data": {
      "application/vnd.jupyter.widget-view+json": {
       "model_id": "6635dbb7a4b34f0e8c5cba3c26a4d015",
       "version_major": 2,
       "version_minor": 0
      },
      "text/plain": [
       "Epoch 1/1:   0%|          | 0/40 [00:00<?, ?it/s]"
      ]
     },
     "metadata": {},
     "output_type": "display_data"
    },
    {
     "name": "stdout",
     "output_type": "stream",
     "text": [
      "2023-04-01 17:34.21 [info     ] FQE_20230401173421: epoch=1 step=40 epoch=1 metrics={'time_sample_batch': 8.996725082397461e-05, 'time_algorithm_update': 0.0011522531509399413, 'loss': 0.13674493990838527, 'time_step': 0.0012892842292785644} step=40\n",
      "2023-04-01 17:34.21 [info     ] Model parameters are saved to d3rlpy_logs/FQE_20230401173421/model_40.pt\n"
     ]
    },
    {
     "data": {
      "application/vnd.jupyter.widget-view+json": {
       "model_id": "127578ecacac43dc8685a72cb81e1ea9",
       "version_major": 2,
       "version_minor": 0
      },
      "text/plain": [
       "[fit MWL model]:   0%|          | 0/1 [00:00<?, ?it/s]"
      ]
     },
     "metadata": {},
     "output_type": "display_data"
    },
    {
     "data": {
      "application/vnd.jupyter.widget-view+json": {
       "model_id": "c22de805bdd9450da9231127693e5cf3",
       "version_major": 2,
       "version_minor": 0
      },
      "text/plain": [
       "[fitting_weight_function]:   0%|          | 0/100 [00:00<?, ?it/s]"
      ]
     },
     "metadata": {},
     "output_type": "display_data"
    },
    {
     "data": {
      "application/vnd.jupyter.widget-view+json": {
       "model_id": "922cdf2112314216afe875007a4ab5fd",
       "version_major": 2,
       "version_minor": 0
      },
      "text/plain": [
       "[fitting_weight_function]:   0%|          | 0/100 [00:00<?, ?it/s]"
      ]
     },
     "metadata": {},
     "output_type": "display_data"
    },
    {
     "data": {
      "application/vnd.jupyter.widget-view+json": {
       "model_id": "6182375fee084a0c98572353dd4d2d5a",
       "version_major": 2,
       "version_minor": 0
      },
      "text/plain": [
       "[collect input data: eval_policy]:   0%|          | 0/1 [00:00<?, ?it/s]"
      ]
     },
     "metadata": {},
     "output_type": "display_data"
    },
    {
     "data": {
      "application/vnd.jupyter.widget-view+json": {
       "model_id": "023f099580004153ba5b86e5faac34f4",
       "version_major": 2,
       "version_minor": 0
      },
      "text/plain": [
       "[calculate on-policy policy value]:   0%|          | 0/100 [00:00<?, ?it/s]"
      ]
     },
     "metadata": {},
     "output_type": "display_data"
    },
    {
     "name": "stderr",
     "output_type": "stream",
     "text": [
      "/Users/ren/dev/ofrl/tutorial/../ofrl/ope/estimators_base.py:503: RuntimeWarning: invalid value encountered in divide\n",
      "  return numerator / denominator\n"
     ]
    },
    {
     "data": {
      "application/vnd.jupyter.widget-view+json": {
       "model_id": "a4f4ff550e244a14ada98ee3c77feac6",
       "version_major": 2,
       "version_minor": 0
      },
      "text/plain": [
       "[obtain_trajectories]:   0%|          | 0/400 [00:00<?, ?it/s]"
      ]
     },
     "metadata": {},
     "output_type": "display_data"
    },
    {
     "data": {
      "application/vnd.jupyter.widget-view+json": {
       "model_id": "2bb03e477f3745688e6251deebd3bb65",
       "version_major": 2,
       "version_minor": 0
      },
      "text/plain": [
       "[obtain_trajectories]:   0%|          | 0/400 [00:00<?, ?it/s]"
      ]
     },
     "metadata": {},
     "output_type": "display_data"
    },
    {
     "data": {
      "application/vnd.jupyter.widget-view+json": {
       "model_id": "84b51e3a2b314cfaa07bb62dcdf89a23",
       "version_major": 2,
       "version_minor": 0
      },
      "text/plain": [
       "[fit FQE model]:   0%|          | 0/1 [00:00<?, ?it/s]"
      ]
     },
     "metadata": {},
     "output_type": "display_data"
    },
    {
     "name": "stdout",
     "output_type": "stream",
     "text": [
      "2023-04-01 17:34.48 [debug    ] RoundIterator is selected.\n",
      "2023-04-01 17:34.48 [info     ] Directory is created at d3rlpy_logs/FQE_20230401173448\n",
      "2023-04-01 17:34.48 [debug    ] Fitting scaler...              scaler=min_max\n",
      "2023-04-01 17:34.48 [debug    ] Fitting action scaler...       action_scaler=min_max\n",
      "2023-04-01 17:34.48 [debug    ] Building models...\n",
      "2023-04-01 17:34.48 [debug    ] Models have been built.\n",
      "2023-04-01 17:34.48 [info     ] Parameters are saved to d3rlpy_logs/FQE_20230401173448/params.json params={'action_scaler': {'type': 'min_max', 'params': {'minimum': array([-1., -1., -1.]), 'maximum': array([1., 1., 1.])}}, 'batch_size': 100, 'encoder_factory': {'type': 'vector', 'params': {'hidden_units': [30, 30], 'activation': 'relu', 'use_batch_norm': False, 'dropout_rate': None, 'use_dense': False}}, 'gamma': 0.95, 'generated_maxlen': 100000, 'learning_rate': 0.0001, 'n_critics': 1, 'n_frames': 1, 'n_steps': 1, 'optim_factory': {'optim_cls': 'Adam', 'betas': (0.9, 0.999), 'eps': 1e-08, 'weight_decay': 0, 'amsgrad': False}, 'q_func_factory': {'type': 'mean', 'params': {'share_encoder': False}}, 'real_ratio': 1.0, 'reward_scaler': None, 'scaler': {'type': 'min_max', 'params': {'maximum': array([0.91524033, 0.95872058, 0.99641372, 0.95850971, 0.96629355]), 'minimum': array([-0.91476175, -0.96093206, -0.99356748, -0.98484914, -0.97359731])}}, 'target_update_interval': 100, 'use_gpu': None, 'algorithm': 'FQE', 'observation_shape': (5,), 'action_size': 3}\n"
     ]
    },
    {
     "data": {
      "application/vnd.jupyter.widget-view+json": {
       "model_id": "5cb96649f9994c3eaa1a0a5565c6b8bf",
       "version_major": 2,
       "version_minor": 0
      },
      "text/plain": [
       "Epoch 1/1:   0%|          | 0/40 [00:00<?, ?it/s]"
      ]
     },
     "metadata": {},
     "output_type": "display_data"
    },
    {
     "name": "stdout",
     "output_type": "stream",
     "text": [
      "2023-04-01 17:34.48 [info     ] FQE_20230401173448: epoch=1 step=40 epoch=1 metrics={'time_sample_batch': 9.655356407165528e-05, 'time_algorithm_update': 0.0014300048351287842, 'loss': 0.11570490896701813, 'time_step': 0.0016001641750335693} step=40\n",
      "2023-04-01 17:34.48 [info     ] Model parameters are saved to d3rlpy_logs/FQE_20230401173448/model_40.pt\n"
     ]
    },
    {
     "data": {
      "application/vnd.jupyter.widget-view+json": {
       "model_id": "ae042d67eaeb40a29a39e6c6fcc2b04c",
       "version_major": 2,
       "version_minor": 0
      },
      "text/plain": [
       "[fit MWL model]:   0%|          | 0/1 [00:00<?, ?it/s]"
      ]
     },
     "metadata": {},
     "output_type": "display_data"
    },
    {
     "data": {
      "application/vnd.jupyter.widget-view+json": {
       "model_id": "b5599b08aea640dd92a45abc9694c2e3",
       "version_major": 2,
       "version_minor": 0
      },
      "text/plain": [
       "[fitting_weight_function]:   0%|          | 0/100 [00:00<?, ?it/s]"
      ]
     },
     "metadata": {},
     "output_type": "display_data"
    },
    {
     "data": {
      "application/vnd.jupyter.widget-view+json": {
       "model_id": "147bf0d4c44240bd865f5c322996dce8",
       "version_major": 2,
       "version_minor": 0
      },
      "text/plain": [
       "[fitting_weight_function]:   0%|          | 0/100 [00:00<?, ?it/s]"
      ]
     },
     "metadata": {},
     "output_type": "display_data"
    },
    {
     "data": {
      "application/vnd.jupyter.widget-view+json": {
       "model_id": "66779a0e7dca49dc8a79ca0b4bac3cd9",
       "version_major": 2,
       "version_minor": 0
      },
      "text/plain": [
       "[collect input data: eval_policy]:   0%|          | 0/1 [00:00<?, ?it/s]"
      ]
     },
     "metadata": {},
     "output_type": "display_data"
    },
    {
     "data": {
      "application/vnd.jupyter.widget-view+json": {
       "model_id": "d3482ce4bbc045da985b33e5e1b3078d",
       "version_major": 2,
       "version_minor": 0
      },
      "text/plain": [
       "[calculate on-policy policy value]:   0%|          | 0/100 [00:00<?, ?it/s]"
      ]
     },
     "metadata": {},
     "output_type": "display_data"
    },
    {
     "name": "stderr",
     "output_type": "stream",
     "text": [
      "/Users/ren/dev/ofrl/tutorial/../ofrl/ope/estimators_base.py:503: RuntimeWarning: invalid value encountered in divide\n",
      "  return numerator / denominator\n"
     ]
    },
    {
     "data": {
      "application/vnd.jupyter.widget-view+json": {
       "model_id": "56856748f2184982be5a03057f539343",
       "version_major": 2,
       "version_minor": 0
      },
      "text/plain": [
       "[obtain_trajectories]:   0%|          | 0/400 [00:00<?, ?it/s]"
      ]
     },
     "metadata": {},
     "output_type": "display_data"
    },
    {
     "data": {
      "application/vnd.jupyter.widget-view+json": {
       "model_id": "b8386522fc61478594bbb4395e5f7615",
       "version_major": 2,
       "version_minor": 0
      },
      "text/plain": [
       "[obtain_trajectories]:   0%|          | 0/400 [00:00<?, ?it/s]"
      ]
     },
     "metadata": {},
     "output_type": "display_data"
    },
    {
     "data": {
      "application/vnd.jupyter.widget-view+json": {
       "model_id": "9946e3117b8445a6b379ec7ce36251f1",
       "version_major": 2,
       "version_minor": 0
      },
      "text/plain": [
       "[fit FQE model]:   0%|          | 0/1 [00:00<?, ?it/s]"
      ]
     },
     "metadata": {},
     "output_type": "display_data"
    },
    {
     "name": "stdout",
     "output_type": "stream",
     "text": [
      "2023-04-01 17:35.15 [debug    ] RoundIterator is selected.\n",
      "2023-04-01 17:35.15 [info     ] Directory is created at d3rlpy_logs/FQE_20230401173515\n",
      "2023-04-01 17:35.15 [debug    ] Fitting scaler...              scaler=min_max\n",
      "2023-04-01 17:35.15 [debug    ] Fitting action scaler...       action_scaler=min_max\n",
      "2023-04-01 17:35.15 [debug    ] Building models...\n",
      "2023-04-01 17:35.15 [debug    ] Models have been built.\n",
      "2023-04-01 17:35.15 [info     ] Parameters are saved to d3rlpy_logs/FQE_20230401173515/params.json params={'action_scaler': {'type': 'min_max', 'params': {'minimum': array([-1., -1., -1.]), 'maximum': array([1., 1., 1.])}}, 'batch_size': 100, 'encoder_factory': {'type': 'vector', 'params': {'hidden_units': [30, 30], 'activation': 'relu', 'use_batch_norm': False, 'dropout_rate': None, 'use_dense': False}}, 'gamma': 0.95, 'generated_maxlen': 100000, 'learning_rate': 0.0001, 'n_critics': 1, 'n_frames': 1, 'n_steps': 1, 'optim_factory': {'optim_cls': 'Adam', 'betas': (0.9, 0.999), 'eps': 1e-08, 'weight_decay': 0, 'amsgrad': False}, 'q_func_factory': {'type': 'mean', 'params': {'share_encoder': False}}, 'real_ratio': 1.0, 'reward_scaler': None, 'scaler': {'type': 'min_max', 'params': {'maximum': array([0.94952583, 0.98432847, 0.98745719, 0.99535051, 0.99384074]), 'minimum': array([-0.96685104, -0.96996633, -0.99271502, -0.96966468, -0.97214864])}}, 'target_update_interval': 100, 'use_gpu': None, 'algorithm': 'FQE', 'observation_shape': (5,), 'action_size': 3}\n"
     ]
    },
    {
     "data": {
      "application/vnd.jupyter.widget-view+json": {
       "model_id": "2f7a5172a66f42509d2685a9cfe9a3ae",
       "version_major": 2,
       "version_minor": 0
      },
      "text/plain": [
       "Epoch 1/1:   0%|          | 0/40 [00:00<?, ?it/s]"
      ]
     },
     "metadata": {},
     "output_type": "display_data"
    },
    {
     "name": "stdout",
     "output_type": "stream",
     "text": [
      "2023-04-01 17:35.15 [info     ] FQE_20230401173515: epoch=1 step=40 epoch=1 metrics={'time_sample_batch': 9.059906005859375e-05, 'time_algorithm_update': 0.001205575466156006, 'loss': 0.13545753341168165, 'time_step': 0.0013450682163238525} step=40\n",
      "2023-04-01 17:35.15 [info     ] Model parameters are saved to d3rlpy_logs/FQE_20230401173515/model_40.pt\n"
     ]
    },
    {
     "data": {
      "application/vnd.jupyter.widget-view+json": {
       "model_id": "2b9ebb59f0964d3bac65ee737ed88fa9",
       "version_major": 2,
       "version_minor": 0
      },
      "text/plain": [
       "[fit MWL model]:   0%|          | 0/1 [00:00<?, ?it/s]"
      ]
     },
     "metadata": {},
     "output_type": "display_data"
    },
    {
     "data": {
      "application/vnd.jupyter.widget-view+json": {
       "model_id": "1ba4fdb9562749f19282ea622a49e3ca",
       "version_major": 2,
       "version_minor": 0
      },
      "text/plain": [
       "[fitting_weight_function]:   0%|          | 0/100 [00:00<?, ?it/s]"
      ]
     },
     "metadata": {},
     "output_type": "display_data"
    },
    {
     "data": {
      "application/vnd.jupyter.widget-view+json": {
       "model_id": "96b94bf89cf74651b328f70dc0b65296",
       "version_major": 2,
       "version_minor": 0
      },
      "text/plain": [
       "[fitting_weight_function]:   0%|          | 0/100 [00:00<?, ?it/s]"
      ]
     },
     "metadata": {},
     "output_type": "display_data"
    },
    {
     "data": {
      "application/vnd.jupyter.widget-view+json": {
       "model_id": "bd4e2bff49b7457c8be9a20fdb65e734",
       "version_major": 2,
       "version_minor": 0
      },
      "text/plain": [
       "[collect input data: eval_policy]:   0%|          | 0/1 [00:00<?, ?it/s]"
      ]
     },
     "metadata": {},
     "output_type": "display_data"
    },
    {
     "data": {
      "application/vnd.jupyter.widget-view+json": {
       "model_id": "03f18f3ab45b417d9e4ff0345f5c7087",
       "version_major": 2,
       "version_minor": 0
      },
      "text/plain": [
       "[calculate on-policy policy value]:   0%|          | 0/100 [00:00<?, ?it/s]"
      ]
     },
     "metadata": {},
     "output_type": "display_data"
    },
    {
     "name": "stderr",
     "output_type": "stream",
     "text": [
      "/Users/ren/dev/ofrl/tutorial/../ofrl/ope/estimators_base.py:503: RuntimeWarning: invalid value encountered in divide\n",
      "  return numerator / denominator\n"
     ]
    },
    {
     "data": {
      "application/vnd.jupyter.widget-view+json": {
       "model_id": "7d7d2c00d8ac4201a4a1ac381bf134cd",
       "version_major": 2,
       "version_minor": 0
      },
      "text/plain": [
       "[obtain_trajectories]:   0%|          | 0/400 [00:00<?, ?it/s]"
      ]
     },
     "metadata": {},
     "output_type": "display_data"
    },
    {
     "data": {
      "application/vnd.jupyter.widget-view+json": {
       "model_id": "28e89709f286408187aaa0bdb5e1f24c",
       "version_major": 2,
       "version_minor": 0
      },
      "text/plain": [
       "[obtain_trajectories]:   0%|          | 0/400 [00:00<?, ?it/s]"
      ]
     },
     "metadata": {},
     "output_type": "display_data"
    },
    {
     "data": {
      "application/vnd.jupyter.widget-view+json": {
       "model_id": "14e3764b82b849c3b009148e5574b55e",
       "version_major": 2,
       "version_minor": 0
      },
      "text/plain": [
       "[fit FQE model]:   0%|          | 0/1 [00:00<?, ?it/s]"
      ]
     },
     "metadata": {},
     "output_type": "display_data"
    },
    {
     "name": "stdout",
     "output_type": "stream",
     "text": [
      "2023-04-01 17:35.42 [debug    ] RoundIterator is selected.\n",
      "2023-04-01 17:35.42 [info     ] Directory is created at d3rlpy_logs/FQE_20230401173542\n",
      "2023-04-01 17:35.42 [debug    ] Fitting scaler...              scaler=min_max\n",
      "2023-04-01 17:35.42 [debug    ] Fitting action scaler...       action_scaler=min_max\n",
      "2023-04-01 17:35.42 [debug    ] Building models...\n",
      "2023-04-01 17:35.42 [debug    ] Models have been built.\n",
      "2023-04-01 17:35.42 [info     ] Parameters are saved to d3rlpy_logs/FQE_20230401173542/params.json params={'action_scaler': {'type': 'min_max', 'params': {'minimum': array([-1., -1., -1.]), 'maximum': array([1., 1., 1.])}}, 'batch_size': 100, 'encoder_factory': {'type': 'vector', 'params': {'hidden_units': [30, 30], 'activation': 'relu', 'use_batch_norm': False, 'dropout_rate': None, 'use_dense': False}}, 'gamma': 0.95, 'generated_maxlen': 100000, 'learning_rate': 0.0001, 'n_critics': 1, 'n_frames': 1, 'n_steps': 1, 'optim_factory': {'optim_cls': 'Adam', 'betas': (0.9, 0.999), 'eps': 1e-08, 'weight_decay': 0, 'amsgrad': False}, 'q_func_factory': {'type': 'mean', 'params': {'share_encoder': False}}, 'real_ratio': 1.0, 'reward_scaler': None, 'scaler': {'type': 'min_max', 'params': {'maximum': array([0.92511095, 0.9935831 , 0.99441567, 0.97342693, 0.98336469]), 'minimum': array([-0.97286096, -0.97651538, -0.98534487, -0.95630748, -0.97264544])}}, 'target_update_interval': 100, 'use_gpu': None, 'algorithm': 'FQE', 'observation_shape': (5,), 'action_size': 3}\n"
     ]
    },
    {
     "data": {
      "application/vnd.jupyter.widget-view+json": {
       "model_id": "f2b74fabc45e404dbd20d695221fd713",
       "version_major": 2,
       "version_minor": 0
      },
      "text/plain": [
       "Epoch 1/1:   0%|          | 0/40 [00:00<?, ?it/s]"
      ]
     },
     "metadata": {},
     "output_type": "display_data"
    },
    {
     "name": "stdout",
     "output_type": "stream",
     "text": [
      "2023-04-01 17:35.42 [info     ] FQE_20230401173542: epoch=1 step=40 epoch=1 metrics={'time_sample_batch': 0.00010943412780761719, 'time_algorithm_update': 0.00172957181930542, 'loss': 0.13772779274731875, 'time_step': 0.0018974781036376954} step=40\n",
      "2023-04-01 17:35.42 [info     ] Model parameters are saved to d3rlpy_logs/FQE_20230401173542/model_40.pt\n"
     ]
    },
    {
     "data": {
      "application/vnd.jupyter.widget-view+json": {
       "model_id": "a54add4cfebb4b0e900775738ce38887",
       "version_major": 2,
       "version_minor": 0
      },
      "text/plain": [
       "[fit MWL model]:   0%|          | 0/1 [00:00<?, ?it/s]"
      ]
     },
     "metadata": {},
     "output_type": "display_data"
    },
    {
     "data": {
      "application/vnd.jupyter.widget-view+json": {
       "model_id": "f0abd6e171c5491b9fce18c8275471ad",
       "version_major": 2,
       "version_minor": 0
      },
      "text/plain": [
       "[fitting_weight_function]:   0%|          | 0/100 [00:00<?, ?it/s]"
      ]
     },
     "metadata": {},
     "output_type": "display_data"
    },
    {
     "data": {
      "application/vnd.jupyter.widget-view+json": {
       "model_id": "7f783d781b3047188efd82ebaafac9c5",
       "version_major": 2,
       "version_minor": 0
      },
      "text/plain": [
       "[fitting_weight_function]:   0%|          | 0/100 [00:00<?, ?it/s]"
      ]
     },
     "metadata": {},
     "output_type": "display_data"
    },
    {
     "data": {
      "application/vnd.jupyter.widget-view+json": {
       "model_id": "de4494252247495b996849e9b000bd80",
       "version_major": 2,
       "version_minor": 0
      },
      "text/plain": [
       "[collect input data: eval_policy]:   0%|          | 0/1 [00:00<?, ?it/s]"
      ]
     },
     "metadata": {},
     "output_type": "display_data"
    },
    {
     "data": {
      "application/vnd.jupyter.widget-view+json": {
       "model_id": "0cd44d3d818147908943d304597db25a",
       "version_major": 2,
       "version_minor": 0
      },
      "text/plain": [
       "[calculate on-policy policy value]:   0%|          | 0/100 [00:00<?, ?it/s]"
      ]
     },
     "metadata": {},
     "output_type": "display_data"
    },
    {
     "name": "stderr",
     "output_type": "stream",
     "text": [
      "/Users/ren/dev/ofrl/tutorial/../ofrl/ope/estimators_base.py:503: RuntimeWarning: invalid value encountered in divide\n",
      "  return numerator / denominator\n"
     ]
    },
    {
     "data": {
      "application/vnd.jupyter.widget-view+json": {
       "model_id": "056a65ffb41e4130b9ec1014b9c52bf7",
       "version_major": 2,
       "version_minor": 0
      },
      "text/plain": [
       "[obtain_trajectories]:   0%|          | 0/800 [00:00<?, ?it/s]"
      ]
     },
     "metadata": {},
     "output_type": "display_data"
    },
    {
     "data": {
      "application/vnd.jupyter.widget-view+json": {
       "model_id": "121cc60e506747c4a5609159bea9c74d",
       "version_major": 2,
       "version_minor": 0
      },
      "text/plain": [
       "[obtain_trajectories]:   0%|          | 0/800 [00:00<?, ?it/s]"
      ]
     },
     "metadata": {},
     "output_type": "display_data"
    },
    {
     "data": {
      "application/vnd.jupyter.widget-view+json": {
       "model_id": "10834df33a1342758a29b3eead773af2",
       "version_major": 2,
       "version_minor": 0
      },
      "text/plain": [
       "[fit FQE model]:   0%|          | 0/1 [00:00<?, ?it/s]"
      ]
     },
     "metadata": {},
     "output_type": "display_data"
    },
    {
     "name": "stdout",
     "output_type": "stream",
     "text": [
      "2023-04-01 17:36.16 [debug    ] RoundIterator is selected.\n",
      "2023-04-01 17:36.16 [info     ] Directory is created at d3rlpy_logs/FQE_20230401173616\n",
      "2023-04-01 17:36.16 [debug    ] Fitting scaler...              scaler=min_max\n",
      "2023-04-01 17:36.16 [debug    ] Fitting action scaler...       action_scaler=min_max\n",
      "2023-04-01 17:36.16 [debug    ] Building models...\n",
      "2023-04-01 17:36.16 [debug    ] Models have been built.\n",
      "2023-04-01 17:36.16 [info     ] Parameters are saved to d3rlpy_logs/FQE_20230401173616/params.json params={'action_scaler': {'type': 'min_max', 'params': {'minimum': array([-1., -1., -1.]), 'maximum': array([1., 1., 1.])}}, 'batch_size': 100, 'encoder_factory': {'type': 'vector', 'params': {'hidden_units': [30, 30], 'activation': 'relu', 'use_batch_norm': False, 'dropout_rate': None, 'use_dense': False}}, 'gamma': 0.95, 'generated_maxlen': 100000, 'learning_rate': 0.0001, 'n_critics': 1, 'n_frames': 1, 'n_steps': 1, 'optim_factory': {'optim_cls': 'Adam', 'betas': (0.9, 0.999), 'eps': 1e-08, 'weight_decay': 0, 'amsgrad': False}, 'q_func_factory': {'type': 'mean', 'params': {'share_encoder': False}}, 'real_ratio': 1.0, 'reward_scaler': None, 'scaler': {'type': 'min_max', 'params': {'maximum': array([0.95342386, 0.97520692, 0.99965352, 0.96455057, 0.98055329]), 'minimum': array([-0.95500795, -0.95079143, -0.98840953, -0.97907493, -0.98149254])}}, 'target_update_interval': 100, 'use_gpu': None, 'algorithm': 'FQE', 'observation_shape': (5,), 'action_size': 3}\n"
     ]
    },
    {
     "data": {
      "application/vnd.jupyter.widget-view+json": {
       "model_id": "a5fb858a120444b6b7de783582e35273",
       "version_major": 2,
       "version_minor": 0
      },
      "text/plain": [
       "Epoch 1/1:   0%|          | 0/80 [00:00<?, ?it/s]"
      ]
     },
     "metadata": {},
     "output_type": "display_data"
    },
    {
     "name": "stdout",
     "output_type": "stream",
     "text": [
      "2023-04-01 17:36.16 [info     ] FQE_20230401173616: epoch=1 step=80 epoch=1 metrics={'time_sample_batch': 9.292662143707275e-05, 'time_algorithm_update': 0.0010863810777664185, 'loss': 0.10080809583887458, 'time_step': 0.0012306392192840577} step=80\n",
      "2023-04-01 17:36.16 [info     ] Model parameters are saved to d3rlpy_logs/FQE_20230401173616/model_80.pt\n"
     ]
    },
    {
     "data": {
      "application/vnd.jupyter.widget-view+json": {
       "model_id": "c404dbd0041f467d82608ca2e182d883",
       "version_major": 2,
       "version_minor": 0
      },
      "text/plain": [
       "[fit MWL model]:   0%|          | 0/1 [00:00<?, ?it/s]"
      ]
     },
     "metadata": {},
     "output_type": "display_data"
    },
    {
     "data": {
      "application/vnd.jupyter.widget-view+json": {
       "model_id": "4d15cb2eea994f4c86898114ddf85596",
       "version_major": 2,
       "version_minor": 0
      },
      "text/plain": [
       "[fitting_weight_function]:   0%|          | 0/100 [00:00<?, ?it/s]"
      ]
     },
     "metadata": {},
     "output_type": "display_data"
    },
    {
     "data": {
      "application/vnd.jupyter.widget-view+json": {
       "model_id": "f34f952fc64d4c39a880a9f1a4aa9b8e",
       "version_major": 2,
       "version_minor": 0
      },
      "text/plain": [
       "[fitting_weight_function]:   0%|          | 0/100 [00:00<?, ?it/s]"
      ]
     },
     "metadata": {},
     "output_type": "display_data"
    },
    {
     "data": {
      "application/vnd.jupyter.widget-view+json": {
       "model_id": "7b58cb3e03344a2ea78f8bd547ab1c21",
       "version_major": 2,
       "version_minor": 0
      },
      "text/plain": [
       "[collect input data: eval_policy]:   0%|          | 0/1 [00:00<?, ?it/s]"
      ]
     },
     "metadata": {},
     "output_type": "display_data"
    },
    {
     "data": {
      "application/vnd.jupyter.widget-view+json": {
       "model_id": "4401bc20d9cd46f78879973e2103b851",
       "version_major": 2,
       "version_minor": 0
      },
      "text/plain": [
       "[calculate on-policy policy value]:   0%|          | 0/100 [00:00<?, ?it/s]"
      ]
     },
     "metadata": {},
     "output_type": "display_data"
    },
    {
     "name": "stderr",
     "output_type": "stream",
     "text": [
      "/Users/ren/dev/ofrl/tutorial/../ofrl/ope/estimators_base.py:503: RuntimeWarning: invalid value encountered in divide\n",
      "  return numerator / denominator\n"
     ]
    },
    {
     "data": {
      "application/vnd.jupyter.widget-view+json": {
       "model_id": "bcd9a6c4ec7a424299dbc290e2a33f04",
       "version_major": 2,
       "version_minor": 0
      },
      "text/plain": [
       "[obtain_trajectories]:   0%|          | 0/800 [00:00<?, ?it/s]"
      ]
     },
     "metadata": {},
     "output_type": "display_data"
    },
    {
     "data": {
      "application/vnd.jupyter.widget-view+json": {
       "model_id": "9b8adce26c4a4fc09fcab30f2c663919",
       "version_major": 2,
       "version_minor": 0
      },
      "text/plain": [
       "[obtain_trajectories]:   0%|          | 0/800 [00:00<?, ?it/s]"
      ]
     },
     "metadata": {},
     "output_type": "display_data"
    },
    {
     "data": {
      "application/vnd.jupyter.widget-view+json": {
       "model_id": "18ace04fb7ad4fb4a25c630fd3cd5cc0",
       "version_major": 2,
       "version_minor": 0
      },
      "text/plain": [
       "[fit FQE model]:   0%|          | 0/1 [00:00<?, ?it/s]"
      ]
     },
     "metadata": {},
     "output_type": "display_data"
    },
    {
     "name": "stdout",
     "output_type": "stream",
     "text": [
      "2023-04-01 17:36.51 [debug    ] RoundIterator is selected.\n",
      "2023-04-01 17:36.51 [info     ] Directory is created at d3rlpy_logs/FQE_20230401173651\n",
      "2023-04-01 17:36.51 [debug    ] Fitting scaler...              scaler=min_max\n",
      "2023-04-01 17:36.51 [debug    ] Fitting action scaler...       action_scaler=min_max\n",
      "2023-04-01 17:36.51 [debug    ] Building models...\n",
      "2023-04-01 17:36.51 [debug    ] Models have been built.\n",
      "2023-04-01 17:36.51 [info     ] Parameters are saved to d3rlpy_logs/FQE_20230401173651/params.json params={'action_scaler': {'type': 'min_max', 'params': {'minimum': array([-1., -1., -1.]), 'maximum': array([1., 1., 1.])}}, 'batch_size': 100, 'encoder_factory': {'type': 'vector', 'params': {'hidden_units': [30, 30], 'activation': 'relu', 'use_batch_norm': False, 'dropout_rate': None, 'use_dense': False}}, 'gamma': 0.95, 'generated_maxlen': 100000, 'learning_rate': 0.0001, 'n_critics': 1, 'n_frames': 1, 'n_steps': 1, 'optim_factory': {'optim_cls': 'Adam', 'betas': (0.9, 0.999), 'eps': 1e-08, 'weight_decay': 0, 'amsgrad': False}, 'q_func_factory': {'type': 'mean', 'params': {'share_encoder': False}}, 'real_ratio': 1.0, 'reward_scaler': None, 'scaler': {'type': 'min_max', 'params': {'maximum': array([0.94592413, 0.97696162, 0.99695729, 0.94265128, 0.98833963]), 'minimum': array([-0.96600255, -0.97459963, -0.98766381, -0.98643496, -0.98309287])}}, 'target_update_interval': 100, 'use_gpu': None, 'algorithm': 'FQE', 'observation_shape': (5,), 'action_size': 3}\n"
     ]
    },
    {
     "data": {
      "application/vnd.jupyter.widget-view+json": {
       "model_id": "257e1c4a89724035a3da725e18067bd4",
       "version_major": 2,
       "version_minor": 0
      },
      "text/plain": [
       "Epoch 1/1:   0%|          | 0/80 [00:00<?, ?it/s]"
      ]
     },
     "metadata": {},
     "output_type": "display_data"
    },
    {
     "name": "stdout",
     "output_type": "stream",
     "text": [
      "2023-04-01 17:36.51 [info     ] FQE_20230401173651: epoch=1 step=80 epoch=1 metrics={'time_sample_batch': 9.185671806335449e-05, 'time_algorithm_update': 0.0011678457260131836, 'loss': 0.13292420748621225, 'time_step': 0.001308634877204895} step=80\n",
      "2023-04-01 17:36.51 [info     ] Model parameters are saved to d3rlpy_logs/FQE_20230401173651/model_80.pt\n"
     ]
    },
    {
     "data": {
      "application/vnd.jupyter.widget-view+json": {
       "model_id": "0b53bb8530bc40ccb3bcb7bed720abdc",
       "version_major": 2,
       "version_minor": 0
      },
      "text/plain": [
       "[fit MWL model]:   0%|          | 0/1 [00:00<?, ?it/s]"
      ]
     },
     "metadata": {},
     "output_type": "display_data"
    },
    {
     "data": {
      "application/vnd.jupyter.widget-view+json": {
       "model_id": "daae40fe32f744d39f1da23e5e051e60",
       "version_major": 2,
       "version_minor": 0
      },
      "text/plain": [
       "[fitting_weight_function]:   0%|          | 0/100 [00:00<?, ?it/s]"
      ]
     },
     "metadata": {},
     "output_type": "display_data"
    },
    {
     "data": {
      "application/vnd.jupyter.widget-view+json": {
       "model_id": "ac11e55a11da47bda9827ab2fca43e1e",
       "version_major": 2,
       "version_minor": 0
      },
      "text/plain": [
       "[fitting_weight_function]:   0%|          | 0/100 [00:00<?, ?it/s]"
      ]
     },
     "metadata": {},
     "output_type": "display_data"
    },
    {
     "data": {
      "application/vnd.jupyter.widget-view+json": {
       "model_id": "59e97282ce854cb6b23e0c6e32ce494c",
       "version_major": 2,
       "version_minor": 0
      },
      "text/plain": [
       "[collect input data: eval_policy]:   0%|          | 0/1 [00:00<?, ?it/s]"
      ]
     },
     "metadata": {},
     "output_type": "display_data"
    },
    {
     "data": {
      "application/vnd.jupyter.widget-view+json": {
       "model_id": "080543bb6ff9466783362ac6c8ddbe8c",
       "version_major": 2,
       "version_minor": 0
      },
      "text/plain": [
       "[calculate on-policy policy value]:   0%|          | 0/100 [00:00<?, ?it/s]"
      ]
     },
     "metadata": {},
     "output_type": "display_data"
    },
    {
     "name": "stderr",
     "output_type": "stream",
     "text": [
      "/Users/ren/dev/ofrl/tutorial/../ofrl/ope/estimators_base.py:503: RuntimeWarning: invalid value encountered in divide\n",
      "  return numerator / denominator\n"
     ]
    },
    {
     "data": {
      "application/vnd.jupyter.widget-view+json": {
       "model_id": "4f67a9f9b30e4a3e94ec83cd4de57b5a",
       "version_major": 2,
       "version_minor": 0
      },
      "text/plain": [
       "[obtain_trajectories]:   0%|          | 0/800 [00:00<?, ?it/s]"
      ]
     },
     "metadata": {},
     "output_type": "display_data"
    },
    {
     "data": {
      "application/vnd.jupyter.widget-view+json": {
       "model_id": "e38c41be1a8f42af950b403b6139585d",
       "version_major": 2,
       "version_minor": 0
      },
      "text/plain": [
       "[obtain_trajectories]:   0%|          | 0/800 [00:00<?, ?it/s]"
      ]
     },
     "metadata": {},
     "output_type": "display_data"
    },
    {
     "data": {
      "application/vnd.jupyter.widget-view+json": {
       "model_id": "3ee9d06f9ca54edeb9f340c529fa5b22",
       "version_major": 2,
       "version_minor": 0
      },
      "text/plain": [
       "[fit FQE model]:   0%|          | 0/1 [00:00<?, ?it/s]"
      ]
     },
     "metadata": {},
     "output_type": "display_data"
    },
    {
     "name": "stdout",
     "output_type": "stream",
     "text": [
      "2023-04-01 17:37.24 [debug    ] RoundIterator is selected.\n",
      "2023-04-01 17:37.24 [info     ] Directory is created at d3rlpy_logs/FQE_20230401173724\n",
      "2023-04-01 17:37.24 [debug    ] Fitting scaler...              scaler=min_max\n",
      "2023-04-01 17:37.24 [debug    ] Fitting action scaler...       action_scaler=min_max\n",
      "2023-04-01 17:37.24 [debug    ] Building models...\n",
      "2023-04-01 17:37.24 [debug    ] Models have been built.\n",
      "2023-04-01 17:37.24 [info     ] Parameters are saved to d3rlpy_logs/FQE_20230401173724/params.json params={'action_scaler': {'type': 'min_max', 'params': {'minimum': array([-1., -1., -1.]), 'maximum': array([1., 1., 1.])}}, 'batch_size': 100, 'encoder_factory': {'type': 'vector', 'params': {'hidden_units': [30, 30], 'activation': 'relu', 'use_batch_norm': False, 'dropout_rate': None, 'use_dense': False}}, 'gamma': 0.95, 'generated_maxlen': 100000, 'learning_rate': 0.0001, 'n_critics': 1, 'n_frames': 1, 'n_steps': 1, 'optim_factory': {'optim_cls': 'Adam', 'betas': (0.9, 0.999), 'eps': 1e-08, 'weight_decay': 0, 'amsgrad': False}, 'q_func_factory': {'type': 'mean', 'params': {'share_encoder': False}}, 'real_ratio': 1.0, 'reward_scaler': None, 'scaler': {'type': 'min_max', 'params': {'maximum': array([0.95102135, 0.97478632, 0.99620292, 0.95850971, 0.98846188]), 'minimum': array([-0.94761828, -0.97336701, -0.98728609, -0.98484914, -0.98468092])}}, 'target_update_interval': 100, 'use_gpu': None, 'algorithm': 'FQE', 'observation_shape': (5,), 'action_size': 3}\n"
     ]
    },
    {
     "data": {
      "application/vnd.jupyter.widget-view+json": {
       "model_id": "a3cc3561bd03487093dee8af2d83c844",
       "version_major": 2,
       "version_minor": 0
      },
      "text/plain": [
       "Epoch 1/1:   0%|          | 0/80 [00:00<?, ?it/s]"
      ]
     },
     "metadata": {},
     "output_type": "display_data"
    },
    {
     "name": "stdout",
     "output_type": "stream",
     "text": [
      "2023-04-01 17:37.25 [info     ] FQE_20230401173724: epoch=1 step=80 epoch=1 metrics={'time_sample_batch': 9.032487869262696e-05, 'time_algorithm_update': 0.0011028707027435302, 'loss': 0.1156519022770226, 'time_step': 0.0012308776378631592} step=80\n",
      "2023-04-01 17:37.25 [info     ] Model parameters are saved to d3rlpy_logs/FQE_20230401173724/model_80.pt\n"
     ]
    },
    {
     "data": {
      "application/vnd.jupyter.widget-view+json": {
       "model_id": "169ae59e7c264f4bbe7c69580db4365c",
       "version_major": 2,
       "version_minor": 0
      },
      "text/plain": [
       "[fit MWL model]:   0%|          | 0/1 [00:00<?, ?it/s]"
      ]
     },
     "metadata": {},
     "output_type": "display_data"
    },
    {
     "data": {
      "application/vnd.jupyter.widget-view+json": {
       "model_id": "6c199a46e89249ef93eb2c2a92ae9b50",
       "version_major": 2,
       "version_minor": 0
      },
      "text/plain": [
       "[fitting_weight_function]:   0%|          | 0/100 [00:00<?, ?it/s]"
      ]
     },
     "metadata": {},
     "output_type": "display_data"
    },
    {
     "data": {
      "application/vnd.jupyter.widget-view+json": {
       "model_id": "8d554f3bd5f943858cf2e15e1053cd03",
       "version_major": 2,
       "version_minor": 0
      },
      "text/plain": [
       "[fitting_weight_function]:   0%|          | 0/100 [00:00<?, ?it/s]"
      ]
     },
     "metadata": {},
     "output_type": "display_data"
    },
    {
     "data": {
      "application/vnd.jupyter.widget-view+json": {
       "model_id": "f9bd125d140f4e03be5b79cf3e39fe55",
       "version_major": 2,
       "version_minor": 0
      },
      "text/plain": [
       "[collect input data: eval_policy]:   0%|          | 0/1 [00:00<?, ?it/s]"
      ]
     },
     "metadata": {},
     "output_type": "display_data"
    },
    {
     "data": {
      "application/vnd.jupyter.widget-view+json": {
       "model_id": "1f5390a3e7c240fe81664788bdcf42df",
       "version_major": 2,
       "version_minor": 0
      },
      "text/plain": [
       "[calculate on-policy policy value]:   0%|          | 0/100 [00:00<?, ?it/s]"
      ]
     },
     "metadata": {},
     "output_type": "display_data"
    },
    {
     "name": "stderr",
     "output_type": "stream",
     "text": [
      "/Users/ren/dev/ofrl/tutorial/../ofrl/ope/estimators_base.py:503: RuntimeWarning: invalid value encountered in divide\n",
      "  return numerator / denominator\n"
     ]
    },
    {
     "data": {
      "application/vnd.jupyter.widget-view+json": {
       "model_id": "cc2e78248ac447b2b8e57cecbf6bc311",
       "version_major": 2,
       "version_minor": 0
      },
      "text/plain": [
       "[obtain_trajectories]:   0%|          | 0/800 [00:00<?, ?it/s]"
      ]
     },
     "metadata": {},
     "output_type": "display_data"
    },
    {
     "data": {
      "application/vnd.jupyter.widget-view+json": {
       "model_id": "5804e65c6dad456196aea84494e4ec86",
       "version_major": 2,
       "version_minor": 0
      },
      "text/plain": [
       "[obtain_trajectories]:   0%|          | 0/800 [00:00<?, ?it/s]"
      ]
     },
     "metadata": {},
     "output_type": "display_data"
    },
    {
     "data": {
      "application/vnd.jupyter.widget-view+json": {
       "model_id": "d120fee7f400419a9868c9908c8887c9",
       "version_major": 2,
       "version_minor": 0
      },
      "text/plain": [
       "[fit FQE model]:   0%|          | 0/1 [00:00<?, ?it/s]"
      ]
     },
     "metadata": {},
     "output_type": "display_data"
    },
    {
     "name": "stdout",
     "output_type": "stream",
     "text": [
      "2023-04-01 17:37.58 [debug    ] RoundIterator is selected.\n",
      "2023-04-01 17:37.58 [info     ] Directory is created at d3rlpy_logs/FQE_20230401173758\n",
      "2023-04-01 17:37.58 [debug    ] Fitting scaler...              scaler=min_max\n",
      "2023-04-01 17:37.58 [debug    ] Fitting action scaler...       action_scaler=min_max\n",
      "2023-04-01 17:37.58 [debug    ] Building models...\n",
      "2023-04-01 17:37.58 [debug    ] Models have been built.\n",
      "2023-04-01 17:37.58 [info     ] Parameters are saved to d3rlpy_logs/FQE_20230401173758/params.json params={'action_scaler': {'type': 'min_max', 'params': {'minimum': array([-1., -1., -1.]), 'maximum': array([1., 1., 1.])}}, 'batch_size': 100, 'encoder_factory': {'type': 'vector', 'params': {'hidden_units': [30, 30], 'activation': 'relu', 'use_batch_norm': False, 'dropout_rate': None, 'use_dense': False}}, 'gamma': 0.95, 'generated_maxlen': 100000, 'learning_rate': 0.0001, 'n_critics': 1, 'n_frames': 1, 'n_steps': 1, 'optim_factory': {'optim_cls': 'Adam', 'betas': (0.9, 0.999), 'eps': 1e-08, 'weight_decay': 0, 'amsgrad': False}, 'q_func_factory': {'type': 'mean', 'params': {'share_encoder': False}}, 'real_ratio': 1.0, 'reward_scaler': None, 'scaler': {'type': 'min_max', 'params': {'maximum': array([0.90812175, 0.9853072 , 0.99503995, 0.99535051, 0.98988688]), 'minimum': array([-0.96685104, -0.96317053, -0.99799878, -0.97795076, -0.98830591])}}, 'target_update_interval': 100, 'use_gpu': None, 'algorithm': 'FQE', 'observation_shape': (5,), 'action_size': 3}\n"
     ]
    },
    {
     "data": {
      "application/vnd.jupyter.widget-view+json": {
       "model_id": "e0a54c54a5f643d3968fe986fb706a08",
       "version_major": 2,
       "version_minor": 0
      },
      "text/plain": [
       "Epoch 1/1:   0%|          | 0/80 [00:00<?, ?it/s]"
      ]
     },
     "metadata": {},
     "output_type": "display_data"
    },
    {
     "name": "stdout",
     "output_type": "stream",
     "text": [
      "2023-04-01 17:37.58 [info     ] FQE_20230401173758: epoch=1 step=80 epoch=1 metrics={'time_sample_batch': 9.796619415283203e-05, 'time_algorithm_update': 0.0010885447263717651, 'loss': 0.1267209985293448, 'time_step': 0.0012353956699371338} step=80\n",
      "2023-04-01 17:37.58 [info     ] Model parameters are saved to d3rlpy_logs/FQE_20230401173758/model_80.pt\n"
     ]
    },
    {
     "data": {
      "application/vnd.jupyter.widget-view+json": {
       "model_id": "573e3e211d4941b2ad296de430d819f9",
       "version_major": 2,
       "version_minor": 0
      },
      "text/plain": [
       "[fit MWL model]:   0%|          | 0/1 [00:00<?, ?it/s]"
      ]
     },
     "metadata": {},
     "output_type": "display_data"
    },
    {
     "data": {
      "application/vnd.jupyter.widget-view+json": {
       "model_id": "beb4f2d33a394c518b94c89752257178",
       "version_major": 2,
       "version_minor": 0
      },
      "text/plain": [
       "[fitting_weight_function]:   0%|          | 0/100 [00:00<?, ?it/s]"
      ]
     },
     "metadata": {},
     "output_type": "display_data"
    },
    {
     "data": {
      "application/vnd.jupyter.widget-view+json": {
       "model_id": "7c269728d55240dbad90fa303a0e2fe1",
       "version_major": 2,
       "version_minor": 0
      },
      "text/plain": [
       "[fitting_weight_function]:   0%|          | 0/100 [00:00<?, ?it/s]"
      ]
     },
     "metadata": {},
     "output_type": "display_data"
    },
    {
     "data": {
      "application/vnd.jupyter.widget-view+json": {
       "model_id": "6d13800bd75641c1a65e009c0f02b292",
       "version_major": 2,
       "version_minor": 0
      },
      "text/plain": [
       "[collect input data: eval_policy]:   0%|          | 0/1 [00:00<?, ?it/s]"
      ]
     },
     "metadata": {},
     "output_type": "display_data"
    },
    {
     "data": {
      "application/vnd.jupyter.widget-view+json": {
       "model_id": "4ffe87cc87714a0a878355b73b49f57b",
       "version_major": 2,
       "version_minor": 0
      },
      "text/plain": [
       "[calculate on-policy policy value]:   0%|          | 0/100 [00:00<?, ?it/s]"
      ]
     },
     "metadata": {},
     "output_type": "display_data"
    },
    {
     "name": "stderr",
     "output_type": "stream",
     "text": [
      "/Users/ren/dev/ofrl/tutorial/../ofrl/ope/estimators_base.py:503: RuntimeWarning: invalid value encountered in divide\n",
      "  return numerator / denominator\n"
     ]
    },
    {
     "data": {
      "application/vnd.jupyter.widget-view+json": {
       "model_id": "dac564d262e142fd89a1d8e6b248e13d",
       "version_major": 2,
       "version_minor": 0
      },
      "text/plain": [
       "[obtain_trajectories]:   0%|          | 0/800 [00:00<?, ?it/s]"
      ]
     },
     "metadata": {},
     "output_type": "display_data"
    },
    {
     "data": {
      "application/vnd.jupyter.widget-view+json": {
       "model_id": "9e93cec4fb364083abd8de66f0c261d3",
       "version_major": 2,
       "version_minor": 0
      },
      "text/plain": [
       "[obtain_trajectories]:   0%|          | 0/800 [00:00<?, ?it/s]"
      ]
     },
     "metadata": {},
     "output_type": "display_data"
    },
    {
     "data": {
      "application/vnd.jupyter.widget-view+json": {
       "model_id": "1455eb7d53b541eca14eec7bd4212816",
       "version_major": 2,
       "version_minor": 0
      },
      "text/plain": [
       "[fit FQE model]:   0%|          | 0/1 [00:00<?, ?it/s]"
      ]
     },
     "metadata": {},
     "output_type": "display_data"
    },
    {
     "name": "stdout",
     "output_type": "stream",
     "text": [
      "2023-04-01 17:38.32 [debug    ] RoundIterator is selected.\n",
      "2023-04-01 17:38.32 [info     ] Directory is created at d3rlpy_logs/FQE_20230401173832\n",
      "2023-04-01 17:38.32 [debug    ] Fitting scaler...              scaler=min_max\n",
      "2023-04-01 17:38.32 [debug    ] Fitting action scaler...       action_scaler=min_max\n",
      "2023-04-01 17:38.32 [debug    ] Building models...\n",
      "2023-04-01 17:38.32 [debug    ] Models have been built.\n",
      "2023-04-01 17:38.32 [info     ] Parameters are saved to d3rlpy_logs/FQE_20230401173832/params.json params={'action_scaler': {'type': 'min_max', 'params': {'minimum': array([-1., -1., -1.]), 'maximum': array([1., 1., 1.])}}, 'batch_size': 100, 'encoder_factory': {'type': 'vector', 'params': {'hidden_units': [30, 30], 'activation': 'relu', 'use_batch_norm': False, 'dropout_rate': None, 'use_dense': False}}, 'gamma': 0.95, 'generated_maxlen': 100000, 'learning_rate': 0.0001, 'n_critics': 1, 'n_frames': 1, 'n_steps': 1, 'optim_factory': {'optim_cls': 'Adam', 'betas': (0.9, 0.999), 'eps': 1e-08, 'weight_decay': 0, 'amsgrad': False}, 'q_func_factory': {'type': 'mean', 'params': {'share_encoder': False}}, 'real_ratio': 1.0, 'reward_scaler': None, 'scaler': {'type': 'min_max', 'params': {'maximum': array([0.92332972, 0.97472314, 0.9983148 , 0.97342693, 0.99666782]), 'minimum': array([-0.97286096, -0.97651538, -0.99256511, -0.96436543, -0.98946889])}}, 'target_update_interval': 100, 'use_gpu': None, 'algorithm': 'FQE', 'observation_shape': (5,), 'action_size': 3}\n"
     ]
    },
    {
     "data": {
      "application/vnd.jupyter.widget-view+json": {
       "model_id": "cb1fb741a74545d1a34d9b6992d72767",
       "version_major": 2,
       "version_minor": 0
      },
      "text/plain": [
       "Epoch 1/1:   0%|          | 0/80 [00:00<?, ?it/s]"
      ]
     },
     "metadata": {},
     "output_type": "display_data"
    },
    {
     "name": "stdout",
     "output_type": "stream",
     "text": [
      "2023-04-01 17:38.32 [info     ] FQE_20230401173832: epoch=1 step=80 epoch=1 metrics={'time_sample_batch': 9.043514728546143e-05, 'time_algorithm_update': 0.001114112138748169, 'loss': 0.13062791228294374, 'time_step': 0.0012523055076599122} step=80\n",
      "2023-04-01 17:38.32 [info     ] Model parameters are saved to d3rlpy_logs/FQE_20230401173832/model_80.pt\n"
     ]
    },
    {
     "data": {
      "application/vnd.jupyter.widget-view+json": {
       "model_id": "49ba61a3c6c9477987dab10d14168e99",
       "version_major": 2,
       "version_minor": 0
      },
      "text/plain": [
       "[fit MWL model]:   0%|          | 0/1 [00:00<?, ?it/s]"
      ]
     },
     "metadata": {},
     "output_type": "display_data"
    },
    {
     "data": {
      "application/vnd.jupyter.widget-view+json": {
       "model_id": "92b92b080d3d48f79d22ddf4700111b5",
       "version_major": 2,
       "version_minor": 0
      },
      "text/plain": [
       "[fitting_weight_function]:   0%|          | 0/100 [00:00<?, ?it/s]"
      ]
     },
     "metadata": {},
     "output_type": "display_data"
    },
    {
     "data": {
      "application/vnd.jupyter.widget-view+json": {
       "model_id": "2d088a756a8e4d1fa88d9ec080c3d574",
       "version_major": 2,
       "version_minor": 0
      },
      "text/plain": [
       "[fitting_weight_function]:   0%|          | 0/100 [00:00<?, ?it/s]"
      ]
     },
     "metadata": {},
     "output_type": "display_data"
    },
    {
     "data": {
      "application/vnd.jupyter.widget-view+json": {
       "model_id": "f95a988c1dba4001abcfc211f749466c",
       "version_major": 2,
       "version_minor": 0
      },
      "text/plain": [
       "[collect input data: eval_policy]:   0%|          | 0/1 [00:00<?, ?it/s]"
      ]
     },
     "metadata": {},
     "output_type": "display_data"
    },
    {
     "data": {
      "application/vnd.jupyter.widget-view+json": {
       "model_id": "4f01e78f7def4f66b67aa49bb474d980",
       "version_major": 2,
       "version_minor": 0
      },
      "text/plain": [
       "[calculate on-policy policy value]:   0%|          | 0/100 [00:00<?, ?it/s]"
      ]
     },
     "metadata": {},
     "output_type": "display_data"
    },
    {
     "name": "stderr",
     "output_type": "stream",
     "text": [
      "/Users/ren/dev/ofrl/tutorial/../ofrl/ope/estimators_base.py:503: RuntimeWarning: invalid value encountered in divide\n",
      "  return numerator / denominator\n"
     ]
    },
    {
     "data": {
      "application/vnd.jupyter.widget-view+json": {
       "model_id": "554197c55d4f4e9e882f947d86e12ec6",
       "version_major": 2,
       "version_minor": 0
      },
      "text/plain": [
       "[obtain_trajectories]:   0%|          | 0/1600 [00:00<?, ?it/s]"
      ]
     },
     "metadata": {},
     "output_type": "display_data"
    },
    {
     "data": {
      "application/vnd.jupyter.widget-view+json": {
       "model_id": "cf0460861ab94921bea7ea764ca3cf6a",
       "version_major": 2,
       "version_minor": 0
      },
      "text/plain": [
       "[obtain_trajectories]:   0%|          | 0/1600 [00:00<?, ?it/s]"
      ]
     },
     "metadata": {},
     "output_type": "display_data"
    },
    {
     "data": {
      "application/vnd.jupyter.widget-view+json": {
       "model_id": "fa286712a7ce4820a4ed95b183fc1fdf",
       "version_major": 2,
       "version_minor": 0
      },
      "text/plain": [
       "[fit FQE model]:   0%|          | 0/1 [00:00<?, ?it/s]"
      ]
     },
     "metadata": {},
     "output_type": "display_data"
    },
    {
     "name": "stdout",
     "output_type": "stream",
     "text": [
      "2023-04-01 17:39.19 [debug    ] RoundIterator is selected.\n",
      "2023-04-01 17:39.19 [info     ] Directory is created at d3rlpy_logs/FQE_20230401173919\n",
      "2023-04-01 17:39.19 [debug    ] Fitting scaler...              scaler=min_max\n",
      "2023-04-01 17:39.19 [debug    ] Fitting action scaler...       action_scaler=min_max\n",
      "2023-04-01 17:39.19 [debug    ] Building models...\n",
      "2023-04-01 17:39.19 [debug    ] Models have been built.\n",
      "2023-04-01 17:39.19 [info     ] Parameters are saved to d3rlpy_logs/FQE_20230401173919/params.json params={'action_scaler': {'type': 'min_max', 'params': {'minimum': array([-1., -1., -1.]), 'maximum': array([1., 1., 1.])}}, 'batch_size': 100, 'encoder_factory': {'type': 'vector', 'params': {'hidden_units': [30, 30], 'activation': 'relu', 'use_batch_norm': False, 'dropout_rate': None, 'use_dense': False}}, 'gamma': 0.95, 'generated_maxlen': 100000, 'learning_rate': 0.0001, 'n_critics': 1, 'n_frames': 1, 'n_steps': 1, 'optim_factory': {'optim_cls': 'Adam', 'betas': (0.9, 0.999), 'eps': 1e-08, 'weight_decay': 0, 'amsgrad': False}, 'q_func_factory': {'type': 'mean', 'params': {'share_encoder': False}}, 'real_ratio': 1.0, 'reward_scaler': None, 'scaler': {'type': 'min_max', 'params': {'maximum': array([0.97440632, 0.97395033, 0.99687612, 0.96702666, 0.99205048]), 'minimum': array([-0.97751752, -0.97757774, -0.99678741, -0.98585095, -0.98862898])}}, 'target_update_interval': 100, 'use_gpu': None, 'algorithm': 'FQE', 'observation_shape': (5,), 'action_size': 3}\n"
     ]
    },
    {
     "data": {
      "application/vnd.jupyter.widget-view+json": {
       "model_id": "d2042791c1ad454fa72c2aea48056e3f",
       "version_major": 2,
       "version_minor": 0
      },
      "text/plain": [
       "Epoch 1/1:   0%|          | 0/160 [00:00<?, ?it/s]"
      ]
     },
     "metadata": {},
     "output_type": "display_data"
    },
    {
     "name": "stdout",
     "output_type": "stream",
     "text": [
      "2023-04-01 17:39.19 [info     ] FQE_20230401173919: epoch=1 step=160 epoch=1 metrics={'time_sample_batch': 9.200721979141235e-05, 'time_algorithm_update': 0.001050455868244171, 'loss': 0.09841471966356038, 'time_step': 0.001186835765838623} step=160\n",
      "2023-04-01 17:39.19 [info     ] Model parameters are saved to d3rlpy_logs/FQE_20230401173919/model_160.pt\n"
     ]
    },
    {
     "data": {
      "application/vnd.jupyter.widget-view+json": {
       "model_id": "eacb162fc995480eb797c3d3358b37a1",
       "version_major": 2,
       "version_minor": 0
      },
      "text/plain": [
       "[fit MWL model]:   0%|          | 0/1 [00:00<?, ?it/s]"
      ]
     },
     "metadata": {},
     "output_type": "display_data"
    },
    {
     "data": {
      "application/vnd.jupyter.widget-view+json": {
       "model_id": "79823baa25a84fad9cd62eff23919d19",
       "version_major": 2,
       "version_minor": 0
      },
      "text/plain": [
       "[fitting_weight_function]:   0%|          | 0/100 [00:00<?, ?it/s]"
      ]
     },
     "metadata": {},
     "output_type": "display_data"
    },
    {
     "data": {
      "application/vnd.jupyter.widget-view+json": {
       "model_id": "a346452889b147cb9fb4b01c58e86178",
       "version_major": 2,
       "version_minor": 0
      },
      "text/plain": [
       "[fitting_weight_function]:   0%|          | 0/100 [00:00<?, ?it/s]"
      ]
     },
     "metadata": {},
     "output_type": "display_data"
    },
    {
     "data": {
      "application/vnd.jupyter.widget-view+json": {
       "model_id": "e4de49a8d3844bc39eccddc91f63d7e4",
       "version_major": 2,
       "version_minor": 0
      },
      "text/plain": [
       "[collect input data: eval_policy]:   0%|          | 0/1 [00:00<?, ?it/s]"
      ]
     },
     "metadata": {},
     "output_type": "display_data"
    },
    {
     "data": {
      "application/vnd.jupyter.widget-view+json": {
       "model_id": "0548f4093bdf47afaaeb1b03ccde9d50",
       "version_major": 2,
       "version_minor": 0
      },
      "text/plain": [
       "[calculate on-policy policy value]:   0%|          | 0/100 [00:00<?, ?it/s]"
      ]
     },
     "metadata": {},
     "output_type": "display_data"
    },
    {
     "name": "stderr",
     "output_type": "stream",
     "text": [
      "/Users/ren/dev/ofrl/tutorial/../ofrl/ope/estimators_base.py:503: RuntimeWarning: invalid value encountered in divide\n",
      "  return numerator / denominator\n"
     ]
    },
    {
     "data": {
      "application/vnd.jupyter.widget-view+json": {
       "model_id": "7b4b495214bd43e0868efa3e8c5d17ef",
       "version_major": 2,
       "version_minor": 0
      },
      "text/plain": [
       "[obtain_trajectories]:   0%|          | 0/1600 [00:00<?, ?it/s]"
      ]
     },
     "metadata": {},
     "output_type": "display_data"
    },
    {
     "data": {
      "application/vnd.jupyter.widget-view+json": {
       "model_id": "1228ba64cc5e4296be46ac4dd5131ded",
       "version_major": 2,
       "version_minor": 0
      },
      "text/plain": [
       "[obtain_trajectories]:   0%|          | 0/1600 [00:00<?, ?it/s]"
      ]
     },
     "metadata": {},
     "output_type": "display_data"
    },
    {
     "data": {
      "application/vnd.jupyter.widget-view+json": {
       "model_id": "1c928decf02f4881ab886e9ffdc13074",
       "version_major": 2,
       "version_minor": 0
      },
      "text/plain": [
       "[fit FQE model]:   0%|          | 0/1 [00:00<?, ?it/s]"
      ]
     },
     "metadata": {},
     "output_type": "display_data"
    },
    {
     "name": "stdout",
     "output_type": "stream",
     "text": [
      "2023-04-01 17:40.05 [debug    ] RoundIterator is selected.\n",
      "2023-04-01 17:40.05 [info     ] Directory is created at d3rlpy_logs/FQE_20230401174005\n",
      "2023-04-01 17:40.05 [debug    ] Fitting scaler...              scaler=min_max\n",
      "2023-04-01 17:40.05 [debug    ] Fitting action scaler...       action_scaler=min_max\n",
      "2023-04-01 17:40.05 [debug    ] Building models...\n",
      "2023-04-01 17:40.05 [debug    ] Models have been built.\n",
      "2023-04-01 17:40.05 [info     ] Parameters are saved to d3rlpy_logs/FQE_20230401174005/params.json params={'action_scaler': {'type': 'min_max', 'params': {'minimum': array([-1., -1., -1.]), 'maximum': array([1., 1., 1.])}}, 'batch_size': 100, 'encoder_factory': {'type': 'vector', 'params': {'hidden_units': [30, 30], 'activation': 'relu', 'use_batch_norm': False, 'dropout_rate': None, 'use_dense': False}}, 'gamma': 0.95, 'generated_maxlen': 100000, 'learning_rate': 0.0001, 'n_critics': 1, 'n_frames': 1, 'n_steps': 1, 'optim_factory': {'optim_cls': 'Adam', 'betas': (0.9, 0.999), 'eps': 1e-08, 'weight_decay': 0, 'amsgrad': False}, 'q_func_factory': {'type': 'mean', 'params': {'share_encoder': False}}, 'real_ratio': 1.0, 'reward_scaler': None, 'scaler': {'type': 'min_max', 'params': {'maximum': array([0.95807755, 0.98089623, 0.99709012, 0.97930495, 0.99621677]), 'minimum': array([-0.96673587, -0.9846096 , -0.99131631, -0.9761736 , -0.9894558 ])}}, 'target_update_interval': 100, 'use_gpu': None, 'algorithm': 'FQE', 'observation_shape': (5,), 'action_size': 3}\n"
     ]
    },
    {
     "data": {
      "application/vnd.jupyter.widget-view+json": {
       "model_id": "be2043b3be7d487ea956272d5d8a0917",
       "version_major": 2,
       "version_minor": 0
      },
      "text/plain": [
       "Epoch 1/1:   0%|          | 0/160 [00:00<?, ?it/s]"
      ]
     },
     "metadata": {},
     "output_type": "display_data"
    },
    {
     "name": "stdout",
     "output_type": "stream",
     "text": [
      "2023-04-01 17:40.06 [info     ] FQE_20230401174005: epoch=1 step=160 epoch=1 metrics={'time_sample_batch': 9.483397006988525e-05, 'time_algorithm_update': 0.0010610803961753844, 'loss': 0.12481305873952805, 'time_step': 0.0012005820870399475} step=160\n",
      "2023-04-01 17:40.06 [info     ] Model parameters are saved to d3rlpy_logs/FQE_20230401174005/model_160.pt\n"
     ]
    },
    {
     "data": {
      "application/vnd.jupyter.widget-view+json": {
       "model_id": "f276416bf80b4a888dd6831bdf17ee4b",
       "version_major": 2,
       "version_minor": 0
      },
      "text/plain": [
       "[fit MWL model]:   0%|          | 0/1 [00:00<?, ?it/s]"
      ]
     },
     "metadata": {},
     "output_type": "display_data"
    },
    {
     "data": {
      "application/vnd.jupyter.widget-view+json": {
       "model_id": "f7ddf4a111474e05bae147ac7210d60b",
       "version_major": 2,
       "version_minor": 0
      },
      "text/plain": [
       "[fitting_weight_function]:   0%|          | 0/100 [00:00<?, ?it/s]"
      ]
     },
     "metadata": {},
     "output_type": "display_data"
    },
    {
     "data": {
      "application/vnd.jupyter.widget-view+json": {
       "model_id": "b8d913f3d9c643a985f1e18cf00167a4",
       "version_major": 2,
       "version_minor": 0
      },
      "text/plain": [
       "[fitting_weight_function]:   0%|          | 0/100 [00:00<?, ?it/s]"
      ]
     },
     "metadata": {},
     "output_type": "display_data"
    },
    {
     "data": {
      "application/vnd.jupyter.widget-view+json": {
       "model_id": "85e291d0b65f4ed98261e2d047157ec2",
       "version_major": 2,
       "version_minor": 0
      },
      "text/plain": [
       "[collect input data: eval_policy]:   0%|          | 0/1 [00:00<?, ?it/s]"
      ]
     },
     "metadata": {},
     "output_type": "display_data"
    },
    {
     "data": {
      "application/vnd.jupyter.widget-view+json": {
       "model_id": "6be7c0c94d5d4b08a4f93fb46d1e7168",
       "version_major": 2,
       "version_minor": 0
      },
      "text/plain": [
       "[calculate on-policy policy value]:   0%|          | 0/100 [00:00<?, ?it/s]"
      ]
     },
     "metadata": {},
     "output_type": "display_data"
    },
    {
     "name": "stderr",
     "output_type": "stream",
     "text": [
      "/Users/ren/dev/ofrl/tutorial/../ofrl/ope/estimators_base.py:503: RuntimeWarning: invalid value encountered in divide\n",
      "  return numerator / denominator\n"
     ]
    },
    {
     "data": {
      "application/vnd.jupyter.widget-view+json": {
       "model_id": "e5114d7b81124698a5cf5092303a89e2",
       "version_major": 2,
       "version_minor": 0
      },
      "text/plain": [
       "[obtain_trajectories]:   0%|          | 0/1600 [00:00<?, ?it/s]"
      ]
     },
     "metadata": {},
     "output_type": "display_data"
    },
    {
     "data": {
      "application/vnd.jupyter.widget-view+json": {
       "model_id": "0c9010a187224456a0b03778a6928271",
       "version_major": 2,
       "version_minor": 0
      },
      "text/plain": [
       "[obtain_trajectories]:   0%|          | 0/1600 [00:00<?, ?it/s]"
      ]
     },
     "metadata": {},
     "output_type": "display_data"
    },
    {
     "data": {
      "application/vnd.jupyter.widget-view+json": {
       "model_id": "2e22fdc758eb46048e3a3b46faaef071",
       "version_major": 2,
       "version_minor": 0
      },
      "text/plain": [
       "[fit FQE model]:   0%|          | 0/1 [00:00<?, ?it/s]"
      ]
     },
     "metadata": {},
     "output_type": "display_data"
    },
    {
     "name": "stdout",
     "output_type": "stream",
     "text": [
      "2023-04-01 17:40.52 [debug    ] RoundIterator is selected.\n",
      "2023-04-01 17:40.52 [info     ] Directory is created at d3rlpy_logs/FQE_20230401174052\n",
      "2023-04-01 17:40.52 [debug    ] Fitting scaler...              scaler=min_max\n",
      "2023-04-01 17:40.52 [debug    ] Fitting action scaler...       action_scaler=min_max\n",
      "2023-04-01 17:40.52 [debug    ] Building models...\n",
      "2023-04-01 17:40.52 [debug    ] Models have been built.\n",
      "2023-04-01 17:40.52 [info     ] Parameters are saved to d3rlpy_logs/FQE_20230401174052/params.json params={'action_scaler': {'type': 'min_max', 'params': {'minimum': array([-1., -1., -1.]), 'maximum': array([1., 1., 1.])}}, 'batch_size': 100, 'encoder_factory': {'type': 'vector', 'params': {'hidden_units': [30, 30], 'activation': 'relu', 'use_batch_norm': False, 'dropout_rate': None, 'use_dense': False}}, 'gamma': 0.95, 'generated_maxlen': 100000, 'learning_rate': 0.0001, 'n_critics': 1, 'n_frames': 1, 'n_steps': 1, 'optim_factory': {'optim_cls': 'Adam', 'betas': (0.9, 0.999), 'eps': 1e-08, 'weight_decay': 0, 'amsgrad': False}, 'q_func_factory': {'type': 'mean', 'params': {'share_encoder': False}}, 'real_ratio': 1.0, 'reward_scaler': None, 'scaler': {'type': 'min_max', 'params': {'maximum': array([0.98746389, 0.98794087, 0.99566863, 0.97959882, 0.99139515]), 'minimum': array([-0.9731192 , -0.98033727, -0.99151345, -0.98873871, -0.99668328])}}, 'target_update_interval': 100, 'use_gpu': None, 'algorithm': 'FQE', 'observation_shape': (5,), 'action_size': 3}\n"
     ]
    },
    {
     "data": {
      "application/vnd.jupyter.widget-view+json": {
       "model_id": "708446d80714474eadae681168436f58",
       "version_major": 2,
       "version_minor": 0
      },
      "text/plain": [
       "Epoch 1/1:   0%|          | 0/160 [00:00<?, ?it/s]"
      ]
     },
     "metadata": {},
     "output_type": "display_data"
    },
    {
     "name": "stdout",
     "output_type": "stream",
     "text": [
      "2023-04-01 17:40.52 [info     ] FQE_20230401174052: epoch=1 step=160 epoch=1 metrics={'time_sample_batch': 9.114593267440796e-05, 'time_algorithm_update': 0.0010244697332382202, 'loss': 0.10718208085745573, 'time_step': 0.0011579573154449462} step=160\n",
      "2023-04-01 17:40.52 [info     ] Model parameters are saved to d3rlpy_logs/FQE_20230401174052/model_160.pt\n"
     ]
    },
    {
     "data": {
      "application/vnd.jupyter.widget-view+json": {
       "model_id": "c3ce88653b0f476fbe47967ed8177877",
       "version_major": 2,
       "version_minor": 0
      },
      "text/plain": [
       "[fit MWL model]:   0%|          | 0/1 [00:00<?, ?it/s]"
      ]
     },
     "metadata": {},
     "output_type": "display_data"
    },
    {
     "data": {
      "application/vnd.jupyter.widget-view+json": {
       "model_id": "364afb5a2f98431d85e378ca3c9316ae",
       "version_major": 2,
       "version_minor": 0
      },
      "text/plain": [
       "[fitting_weight_function]:   0%|          | 0/100 [00:00<?, ?it/s]"
      ]
     },
     "metadata": {},
     "output_type": "display_data"
    },
    {
     "data": {
      "application/vnd.jupyter.widget-view+json": {
       "model_id": "1b3ba3fb071c49a69893870b7183dac1",
       "version_major": 2,
       "version_minor": 0
      },
      "text/plain": [
       "[fitting_weight_function]:   0%|          | 0/100 [00:00<?, ?it/s]"
      ]
     },
     "metadata": {},
     "output_type": "display_data"
    },
    {
     "data": {
      "application/vnd.jupyter.widget-view+json": {
       "model_id": "d2c3f8e2fb5f4a3684f1330cca71d216",
       "version_major": 2,
       "version_minor": 0
      },
      "text/plain": [
       "[collect input data: eval_policy]:   0%|          | 0/1 [00:00<?, ?it/s]"
      ]
     },
     "metadata": {},
     "output_type": "display_data"
    },
    {
     "data": {
      "application/vnd.jupyter.widget-view+json": {
       "model_id": "5b6f08c04c4b4c3c94a58d4cc80da2f5",
       "version_major": 2,
       "version_minor": 0
      },
      "text/plain": [
       "[calculate on-policy policy value]:   0%|          | 0/100 [00:00<?, ?it/s]"
      ]
     },
     "metadata": {},
     "output_type": "display_data"
    },
    {
     "name": "stderr",
     "output_type": "stream",
     "text": [
      "/Users/ren/dev/ofrl/tutorial/../ofrl/ope/estimators_base.py:503: RuntimeWarning: invalid value encountered in divide\n",
      "  return numerator / denominator\n"
     ]
    },
    {
     "data": {
      "application/vnd.jupyter.widget-view+json": {
       "model_id": "8476f464818c494b8a1860ed8ebbdaf3",
       "version_major": 2,
       "version_minor": 0
      },
      "text/plain": [
       "[obtain_trajectories]:   0%|          | 0/1600 [00:00<?, ?it/s]"
      ]
     },
     "metadata": {},
     "output_type": "display_data"
    },
    {
     "data": {
      "application/vnd.jupyter.widget-view+json": {
       "model_id": "8819ae7e37c24681a7593be3c551e5e2",
       "version_major": 2,
       "version_minor": 0
      },
      "text/plain": [
       "[obtain_trajectories]:   0%|          | 0/1600 [00:00<?, ?it/s]"
      ]
     },
     "metadata": {},
     "output_type": "display_data"
    },
    {
     "data": {
      "application/vnd.jupyter.widget-view+json": {
       "model_id": "41db933bbe534fd6a88ddf62c59cfe8a",
       "version_major": 2,
       "version_minor": 0
      },
      "text/plain": [
       "[fit FQE model]:   0%|          | 0/1 [00:00<?, ?it/s]"
      ]
     },
     "metadata": {},
     "output_type": "display_data"
    },
    {
     "name": "stdout",
     "output_type": "stream",
     "text": [
      "2023-04-01 17:41.38 [debug    ] RoundIterator is selected.\n",
      "2023-04-01 17:41.38 [info     ] Directory is created at d3rlpy_logs/FQE_20230401174138\n",
      "2023-04-01 17:41.38 [debug    ] Fitting scaler...              scaler=min_max\n",
      "2023-04-01 17:41.38 [debug    ] Fitting action scaler...       action_scaler=min_max\n",
      "2023-04-01 17:41.38 [debug    ] Building models...\n",
      "2023-04-01 17:41.38 [debug    ] Models have been built.\n",
      "2023-04-01 17:41.38 [info     ] Parameters are saved to d3rlpy_logs/FQE_20230401174138/params.json params={'action_scaler': {'type': 'min_max', 'params': {'minimum': array([-1., -1., -1.]), 'maximum': array([1., 1., 1.])}}, 'batch_size': 100, 'encoder_factory': {'type': 'vector', 'params': {'hidden_units': [30, 30], 'activation': 'relu', 'use_batch_norm': False, 'dropout_rate': None, 'use_dense': False}}, 'gamma': 0.95, 'generated_maxlen': 100000, 'learning_rate': 0.0001, 'n_critics': 1, 'n_frames': 1, 'n_steps': 1, 'optim_factory': {'optim_cls': 'Adam', 'betas': (0.9, 0.999), 'eps': 1e-08, 'weight_decay': 0, 'amsgrad': False}, 'q_func_factory': {'type': 'mean', 'params': {'share_encoder': False}}, 'real_ratio': 1.0, 'reward_scaler': None, 'scaler': {'type': 'min_max', 'params': {'maximum': array([0.96440446, 0.98491008, 0.99795752, 0.99535051, 0.98248752]), 'minimum': array([-0.96685104, -0.96706523, -0.99275869, -0.97425195, -0.99011305])}}, 'target_update_interval': 100, 'use_gpu': None, 'algorithm': 'FQE', 'observation_shape': (5,), 'action_size': 3}\n"
     ]
    },
    {
     "data": {
      "application/vnd.jupyter.widget-view+json": {
       "model_id": "2b8e2a5a224447988c0e9a0f9b0b404f",
       "version_major": 2,
       "version_minor": 0
      },
      "text/plain": [
       "Epoch 1/1:   0%|          | 0/160 [00:00<?, ?it/s]"
      ]
     },
     "metadata": {},
     "output_type": "display_data"
    },
    {
     "name": "stdout",
     "output_type": "stream",
     "text": [
      "2023-04-01 17:41.38 [info     ] FQE_20230401174138: epoch=1 step=160 epoch=1 metrics={'time_sample_batch': 9.095370769500733e-05, 'time_algorithm_update': 0.001034747064113617, 'loss': 0.12242002650164067, 'time_step': 0.0011677652597427367} step=160\n",
      "2023-04-01 17:41.38 [info     ] Model parameters are saved to d3rlpy_logs/FQE_20230401174138/model_160.pt\n"
     ]
    },
    {
     "data": {
      "application/vnd.jupyter.widget-view+json": {
       "model_id": "c3669f7eea2a43f6801c71194f0627ef",
       "version_major": 2,
       "version_minor": 0
      },
      "text/plain": [
       "[fit MWL model]:   0%|          | 0/1 [00:00<?, ?it/s]"
      ]
     },
     "metadata": {},
     "output_type": "display_data"
    },
    {
     "data": {
      "application/vnd.jupyter.widget-view+json": {
       "model_id": "0b3705e69dd54bc7a0391c1e4049b213",
       "version_major": 2,
       "version_minor": 0
      },
      "text/plain": [
       "[fitting_weight_function]:   0%|          | 0/100 [00:00<?, ?it/s]"
      ]
     },
     "metadata": {},
     "output_type": "display_data"
    },
    {
     "data": {
      "application/vnd.jupyter.widget-view+json": {
       "model_id": "d5708336245b462694771cf88f8ad3e8",
       "version_major": 2,
       "version_minor": 0
      },
      "text/plain": [
       "[fitting_weight_function]:   0%|          | 0/100 [00:00<?, ?it/s]"
      ]
     },
     "metadata": {},
     "output_type": "display_data"
    },
    {
     "data": {
      "application/vnd.jupyter.widget-view+json": {
       "model_id": "616c24cc2912471ab7cbecd3e8095667",
       "version_major": 2,
       "version_minor": 0
      },
      "text/plain": [
       "[collect input data: eval_policy]:   0%|          | 0/1 [00:00<?, ?it/s]"
      ]
     },
     "metadata": {},
     "output_type": "display_data"
    },
    {
     "data": {
      "application/vnd.jupyter.widget-view+json": {
       "model_id": "e6cd293f86a2489885eda5cfa8155e6f",
       "version_major": 2,
       "version_minor": 0
      },
      "text/plain": [
       "[calculate on-policy policy value]:   0%|          | 0/100 [00:00<?, ?it/s]"
      ]
     },
     "metadata": {},
     "output_type": "display_data"
    },
    {
     "name": "stderr",
     "output_type": "stream",
     "text": [
      "/Users/ren/dev/ofrl/tutorial/../ofrl/ope/estimators_base.py:503: RuntimeWarning: invalid value encountered in divide\n",
      "  return numerator / denominator\n"
     ]
    },
    {
     "data": {
      "application/vnd.jupyter.widget-view+json": {
       "model_id": "8ee1641f35aa4f3ea4c4e132df54c04c",
       "version_major": 2,
       "version_minor": 0
      },
      "text/plain": [
       "[obtain_trajectories]:   0%|          | 0/1600 [00:00<?, ?it/s]"
      ]
     },
     "metadata": {},
     "output_type": "display_data"
    },
    {
     "data": {
      "application/vnd.jupyter.widget-view+json": {
       "model_id": "fb64830a6e74477982d938e836e9b91d",
       "version_major": 2,
       "version_minor": 0
      },
      "text/plain": [
       "[obtain_trajectories]:   0%|          | 0/1600 [00:00<?, ?it/s]"
      ]
     },
     "metadata": {},
     "output_type": "display_data"
    },
    {
     "data": {
      "application/vnd.jupyter.widget-view+json": {
       "model_id": "42448cf3367b41acba1c1d4165c33ed4",
       "version_major": 2,
       "version_minor": 0
      },
      "text/plain": [
       "[fit FQE model]:   0%|          | 0/1 [00:00<?, ?it/s]"
      ]
     },
     "metadata": {},
     "output_type": "display_data"
    },
    {
     "name": "stdout",
     "output_type": "stream",
     "text": [
      "2023-04-01 17:42.24 [debug    ] RoundIterator is selected.\n",
      "2023-04-01 17:42.24 [info     ] Directory is created at d3rlpy_logs/FQE_20230401174224\n",
      "2023-04-01 17:42.24 [debug    ] Fitting scaler...              scaler=min_max\n",
      "2023-04-01 17:42.24 [debug    ] Fitting action scaler...       action_scaler=min_max\n",
      "2023-04-01 17:42.24 [debug    ] Building models...\n",
      "2023-04-01 17:42.24 [debug    ] Models have been built.\n",
      "2023-04-01 17:42.24 [info     ] Parameters are saved to d3rlpy_logs/FQE_20230401174224/params.json params={'action_scaler': {'type': 'min_max', 'params': {'minimum': array([-1., -1., -1.]), 'maximum': array([1., 1., 1.])}}, 'batch_size': 100, 'encoder_factory': {'type': 'vector', 'params': {'hidden_units': [30, 30], 'activation': 'relu', 'use_batch_norm': False, 'dropout_rate': None, 'use_dense': False}}, 'gamma': 0.95, 'generated_maxlen': 100000, 'learning_rate': 0.0001, 'n_critics': 1, 'n_frames': 1, 'n_steps': 1, 'optim_factory': {'optim_cls': 'Adam', 'betas': (0.9, 0.999), 'eps': 1e-08, 'weight_decay': 0, 'amsgrad': False}, 'q_func_factory': {'type': 'mean', 'params': {'share_encoder': False}}, 'real_ratio': 1.0, 'reward_scaler': None, 'scaler': {'type': 'min_max', 'params': {'maximum': array([0.98929948, 0.99194639, 0.99877061, 0.97342693, 0.99025902]), 'minimum': array([-0.98466621, -0.97651538, -0.98067439, -0.98556199, -0.98092812])}}, 'target_update_interval': 100, 'use_gpu': None, 'algorithm': 'FQE', 'observation_shape': (5,), 'action_size': 3}\n"
     ]
    },
    {
     "data": {
      "application/vnd.jupyter.widget-view+json": {
       "model_id": "8e40b489997d41ec978098f33136148e",
       "version_major": 2,
       "version_minor": 0
      },
      "text/plain": [
       "Epoch 1/1:   0%|          | 0/160 [00:00<?, ?it/s]"
      ]
     },
     "metadata": {},
     "output_type": "display_data"
    },
    {
     "name": "stdout",
     "output_type": "stream",
     "text": [
      "2023-04-01 17:42.24 [info     ] FQE_20230401174224: epoch=1 step=160 epoch=1 metrics={'time_sample_batch': 9.033381938934326e-05, 'time_algorithm_update': 0.0010224580764770508, 'loss': 0.12727272529155015, 'time_step': 0.0011488080024719238} step=160\n",
      "2023-04-01 17:42.24 [info     ] Model parameters are saved to d3rlpy_logs/FQE_20230401174224/model_160.pt\n"
     ]
    },
    {
     "data": {
      "application/vnd.jupyter.widget-view+json": {
       "model_id": "3a7aef82bbba44e381147258fe366455",
       "version_major": 2,
       "version_minor": 0
      },
      "text/plain": [
       "[fit MWL model]:   0%|          | 0/1 [00:00<?, ?it/s]"
      ]
     },
     "metadata": {},
     "output_type": "display_data"
    },
    {
     "data": {
      "application/vnd.jupyter.widget-view+json": {
       "model_id": "73eda0c2ba2b40349844dfdd44cacc2d",
       "version_major": 2,
       "version_minor": 0
      },
      "text/plain": [
       "[fitting_weight_function]:   0%|          | 0/100 [00:00<?, ?it/s]"
      ]
     },
     "metadata": {},
     "output_type": "display_data"
    },
    {
     "data": {
      "application/vnd.jupyter.widget-view+json": {
       "model_id": "2817254a9fc94a818bd05bd26dc096c0",
       "version_major": 2,
       "version_minor": 0
      },
      "text/plain": [
       "[fitting_weight_function]:   0%|          | 0/100 [00:00<?, ?it/s]"
      ]
     },
     "metadata": {},
     "output_type": "display_data"
    },
    {
     "data": {
      "application/vnd.jupyter.widget-view+json": {
       "model_id": "8761ea4e0a714d3faf619beef698ccf8",
       "version_major": 2,
       "version_minor": 0
      },
      "text/plain": [
       "[collect input data: eval_policy]:   0%|          | 0/1 [00:00<?, ?it/s]"
      ]
     },
     "metadata": {},
     "output_type": "display_data"
    },
    {
     "data": {
      "application/vnd.jupyter.widget-view+json": {
       "model_id": "eec95a85b81e4d02b5f5abc39f6d6e3d",
       "version_major": 2,
       "version_minor": 0
      },
      "text/plain": [
       "[calculate on-policy policy value]:   0%|          | 0/100 [00:00<?, ?it/s]"
      ]
     },
     "metadata": {},
     "output_type": "display_data"
    },
    {
     "name": "stderr",
     "output_type": "stream",
     "text": [
      "/Users/ren/dev/ofrl/tutorial/../ofrl/ope/estimators_base.py:503: RuntimeWarning: invalid value encountered in divide\n",
      "  return numerator / denominator\n"
     ]
    }
   ],
   "source": [
    "\n",
    "for n_trajectories in n_trajectories_list:\n",
    "    cql_data = DataFrame()\n",
    "    sac_data = DataFrame()\n",
    "    for random_state in random_state_list:\n",
    "    \n",
    "        behavior_policy = TruncatedGaussianHead(\n",
    "            sac, \n",
    "            minimum=env.action_space.low,\n",
    "            maximum=env.action_space.high,\n",
    "            sigma=np.array([1.0]),\n",
    "            name=\"sac_sigma_1.0\",\n",
    "            random_state=random_state,\n",
    "        )\n",
    "\n",
    "        # initialize dataset class\n",
    "        dataset = SyntheticDataset(\n",
    "            env=env,\n",
    "            max_episode_steps=env.step_per_episode,\n",
    "        )\n",
    "\n",
    "        # collect logged data by a behavior policy\n",
    "        # skip if there is a preserved logged dataset\n",
    "        train_logged_dataset = dataset.obtain_episodes(\n",
    "            behavior_policies=behavior_policy,\n",
    "            # n_trajectories=10000, \n",
    "            n_trajectories=n_trajectories, \n",
    "            obtain_info=False,\n",
    "            random_state=random_state,\n",
    "        )\n",
    "        test_logged_dataset = dataset.obtain_episodes(\n",
    "            behavior_policies=behavior_policy,\n",
    "            # n_trajectories=10000, \n",
    "            n_trajectories=n_trajectories, \n",
    "            obtain_info=False,\n",
    "            random_state=random_state + 1,\n",
    "        )\n",
    "\n",
    "        # transform offline dataset for d3rlpy\n",
    "        offlinerl_dataset = MDPDataset(\n",
    "            observations=train_logged_dataset[\"state\"],\n",
    "            actions=train_logged_dataset[\"action\"],\n",
    "            rewards=train_logged_dataset[\"reward\"],\n",
    "            terminals=train_logged_dataset[\"done\"],\n",
    "            episode_terminals=train_logged_dataset[\"done\"],\n",
    "            discrete_action=False,\n",
    "        )\n",
    "        train_episodes, test_episodes = train_test_split(offlinerl_dataset, test_size=0.2, random_state=random_state)\n",
    "\n",
    "        # # Use Conservative Q-Learning policy\n",
    "        # cql = CQL(\n",
    "        #     actor_encoder_factory=VectorEncoderFactory(hidden_units=[30, 30]),\n",
    "        #     critic_encoder_factory=VectorEncoderFactory(hidden_units=[30, 30]),\n",
    "        #     q_func_factory=MeanQFunctionFactory(),\n",
    "        #     use_gpu=torch.cuda.is_available(),\n",
    "        #     action_scaler=MinMaxActionScaler(\n",
    "        #         minimum=env_.action_space.low,  # minimum value that policy can take\n",
    "        #         maximum=env_.action_space.high,  # maximum value that policy can take\n",
    "        #     )\n",
    "        # )\n",
    "\n",
    "        # cql.fit(\n",
    "        #     train_episodes,\n",
    "        #     eval_episodes=test_episodes,\n",
    "        #     n_steps=10000,\n",
    "        #     # n_steps=10000,\n",
    "        #     scorers={},\n",
    "        # )\n",
    "\n",
    "        # # # save model\n",
    "        # # cql.save_model(\"d3rlpy_logs/cql_continuous.pt\")\n",
    "\n",
    "        # # # reload model\n",
    "        # # cql.build_with_env(env)\n",
    "        # # cql.load_model(\"d3rlpy_logs/cql_continuous.pt\")\n",
    "\n",
    "        # # define evaluation policies (should be deterministic policy)\n",
    "        # cql_ = ContinuousEvalHead(\n",
    "        #     base_policy=cql,\n",
    "        #     name=\"cql\",\n",
    "        # )\n",
    "        sac_ = ContinuousEvalHead(\n",
    "            base_policy=sac, \n",
    "            name=\"sac\", \n",
    "        )\n",
    "        evaluation_policies = [sac_]\n",
    "        # evaluation_policies = [cql_, sac_]\n",
    "        \n",
    "        # first, prepare OPE inputs\n",
    "        prep = CreateOPEInput(\n",
    "            env=env,\n",
    "            model_args={\n",
    "                \"fqe\": {\n",
    "                    \"encoder_factory\": VectorEncoderFactory(hidden_units=[30, 30]),\n",
    "                    \"q_func_factory\": MeanQFunctionFactory(),\n",
    "                    \"learning_rate\": 1e-4,\n",
    "                    \"use_gpu\": torch.cuda.is_available(),\n",
    "                },\n",
    "            },\n",
    "            state_scaler=MinMaxScaler(\n",
    "                minimum=test_logged_dataset[\"state\"].min(axis=0),\n",
    "                maximum=test_logged_dataset[\"state\"].max(axis=0),\n",
    "            ),\n",
    "            action_scaler=MinMaxActionScaler(\n",
    "                minimum=env.action_space.low,  # minimum value that policy can take\n",
    "                maximum=env.action_space.high,  # maximum value that policy can take\n",
    "            ),\n",
    "            gamma=0.95,\n",
    "            sigma=0.1,\n",
    "            device=\"cuda:0\" if torch.cuda.is_available() else \"cpu\",\n",
    "        )\n",
    "\n",
    "        # takes time\n",
    "        input_dict = prep.obtain_whole_inputs(\n",
    "            logged_dataset=test_logged_dataset,\n",
    "            evaluation_policies=evaluation_policies,\n",
    "            require_value_prediction=True,\n",
    "            require_weight_prediction=True,\n",
    "            n_trajectories_on_policy_evaluation=100,\n",
    "            random_state=random_state,\n",
    "        )\n",
    "\n",
    "        ope = OPE(\n",
    "            logged_dataset=test_logged_dataset,\n",
    "            ope_estimators=all_estimators,\n",
    "            action_scaler=MinMaxActionScaler(\n",
    "                minimum=env.action_space.low,  # minimum value that policy can take\n",
    "                maximum=env.action_space.high,  # maximum value that policy can take\n",
    "            ),\n",
    "            sigma=0.1,\n",
    "        )\n",
    "\n",
    "        policy_value_dict = ope.estimate_policy_value(\n",
    "            input_dict=input_dict,\n",
    "        )\n",
    "        \n",
    "        # tmp_cql = DataFrame(policy_value_dict)['cql']\n",
    "        # cql_data = pd.concat([cql_data, tmp_cql], axis=1)\n",
    "        tmp_sac = DataFrame(policy_value_dict)['sac']\n",
    "        sac_data = pd.concat([sac_data, tmp_sac], axis=1)\n",
    "        \n",
    "        \n",
    "    bias = abs(sac_data.mean(axis=1) - sac_data.mean(axis=1)['on_policy'])\n",
    "    variance = sac_data.var(axis=1)\n",
    "    mse = bias**2 + variance\n",
    "    # bias = abs(cql_data.mean(axis=1) - cql_data.mean(axis=1)['on_policy'])\n",
    "    # variance = cql_data.var(axis=1)\n",
    "\n",
    "    bias_df = DataFrame(DataFrame(bias).stack())\\\n",
    "        .reset_index(1).rename(columns={\"level_1\": \"est\", 0: \"bias\"})\n",
    "    bias_df[\"n_trajectories\"] = n_trajectories\n",
    "    bias_df_list.append(bias_df)\n",
    "    \n",
    "    variance_df = DataFrame(DataFrame(variance).stack())\\\n",
    "        .reset_index(1).rename(columns={\"level_1\": \"est\", 0: \"variance\"})\n",
    "    variance_df[\"n_trajectories\"] = n_trajectories\n",
    "    variance_df_list.append(variance_df)\n",
    "\n",
    "    mse_df = DataFrame(DataFrame(mse).stack())\\\n",
    "        .reset_index(1).rename(columns={\"level_1\": \"est\", 0: \"mse\"})\n",
    "    mse_df[\"n_trajectories\"] = n_trajectories\n",
    "    mse_df_list.append(mse_df)\n",
    "\n"
   ]
  },
  {
   "cell_type": "code",
   "execution_count": 35,
   "metadata": {},
   "outputs": [],
   "source": [
    "# aggregate all results \n",
    "bias_result_df = pd.concat(bias_df_list).reset_index(level=0)\n",
    "variance_result_df = pd.concat(variance_df_list).reset_index(level=0)\n",
    "mse_result_df = pd.concat(mse_df_list).reset_index(level=0)"
   ]
  },
  {
   "cell_type": "code",
   "execution_count": 30,
   "metadata": {},
   "outputs": [],
   "source": [
    "with open(\"logs/sac_variance_result_df.pkl\", \"wb\") as f:\n",
    "    pickle.dump(variance_result_df, f)\n",
    "\n",
    "with open(\"logs/sac_variance_result_df.pkl\", \"rb\") as f:\n",
    "    variance_result_df = pickle.load(f)\n",
    "\n",
    "with open(\"logs/sac_bias_result_df.pkl\", \"wb\") as f:\n",
    "    pickle.dump(bias_result_df, f)\n",
    "\n",
    "with open(\"logs/sac_bias_result_df.pkl\", \"rb\") as f:\n",
    "    bias_result_df = pickle.load(f)\n",
    "\n",
    "with open(\"logs/sac_mse_result_df.pkl\", \"wb\") as f:\n",
    "    pickle.dump(mse_result_df, f)\n",
    "\n",
    "with open(\"logs/sac_mse_result_df.pkl\", \"rb\") as f:\n",
    "    mse_result_df = pickle.load(f)"
   ]
  },
  {
   "cell_type": "code",
   "execution_count": 16,
   "metadata": {},
   "outputs": [
    {
     "data": {
      "text/html": [
       "<div>\n",
       "<style scoped>\n",
       "    .dataframe tbody tr th:only-of-type {\n",
       "        vertical-align: middle;\n",
       "    }\n",
       "\n",
       "    .dataframe tbody tr th {\n",
       "        vertical-align: top;\n",
       "    }\n",
       "\n",
       "    .dataframe thead th {\n",
       "        text-align: right;\n",
       "    }\n",
       "</style>\n",
       "<table border=\"1\" class=\"dataframe\">\n",
       "  <thead>\n",
       "    <tr style=\"text-align: right;\">\n",
       "      <th></th>\n",
       "      <th>index</th>\n",
       "      <th>est</th>\n",
       "      <th>variance</th>\n",
       "      <th>n_trajectories</th>\n",
       "    </tr>\n",
       "  </thead>\n",
       "  <tbody>\n",
       "    <tr>\n",
       "      <th>0</th>\n",
       "      <td>dm</td>\n",
       "      <td>0</td>\n",
       "      <td>0.017565</td>\n",
       "      <td>100</td>\n",
       "    </tr>\n",
       "    <tr>\n",
       "      <th>9</th>\n",
       "      <td>dm</td>\n",
       "      <td>0</td>\n",
       "      <td>0.017856</td>\n",
       "      <td>200</td>\n",
       "    </tr>\n",
       "    <tr>\n",
       "      <th>18</th>\n",
       "      <td>dm</td>\n",
       "      <td>0</td>\n",
       "      <td>0.019490</td>\n",
       "      <td>400</td>\n",
       "    </tr>\n",
       "    <tr>\n",
       "      <th>27</th>\n",
       "      <td>dm</td>\n",
       "      <td>0</td>\n",
       "      <td>0.021475</td>\n",
       "      <td>800</td>\n",
       "    </tr>\n",
       "    <tr>\n",
       "      <th>36</th>\n",
       "      <td>dm</td>\n",
       "      <td>0</td>\n",
       "      <td>0.029659</td>\n",
       "      <td>1600</td>\n",
       "    </tr>\n",
       "  </tbody>\n",
       "</table>\n",
       "</div>"
      ],
      "text/plain": [
       "   index  est  variance  n_trajectories\n",
       "0     dm    0  0.017565             100\n",
       "9     dm    0  0.017856             200\n",
       "18    dm    0  0.019490             400\n",
       "27    dm    0  0.021475             800\n",
       "36    dm    0  0.029659            1600"
      ]
     },
     "execution_count": 16,
     "metadata": {},
     "output_type": "execute_result"
    }
   ],
   "source": [
    "variance_result_df.query(\"(index == 'dm')\")"
   ]
  },
  {
   "cell_type": "code",
   "execution_count": 17,
   "metadata": {},
   "outputs": [
    {
     "data": {
      "text/html": [
       "<div>\n",
       "<style scoped>\n",
       "    .dataframe tbody tr th:only-of-type {\n",
       "        vertical-align: middle;\n",
       "    }\n",
       "\n",
       "    .dataframe tbody tr th {\n",
       "        vertical-align: top;\n",
       "    }\n",
       "\n",
       "    .dataframe thead th {\n",
       "        text-align: right;\n",
       "    }\n",
       "</style>\n",
       "<table border=\"1\" class=\"dataframe\">\n",
       "  <thead>\n",
       "    <tr style=\"text-align: right;\">\n",
       "      <th></th>\n",
       "      <th>index</th>\n",
       "      <th>est</th>\n",
       "      <th>bias</th>\n",
       "      <th>n_trajectories</th>\n",
       "    </tr>\n",
       "  </thead>\n",
       "  <tbody>\n",
       "    <tr>\n",
       "      <th>0</th>\n",
       "      <td>dm</td>\n",
       "      <td>0</td>\n",
       "      <td>4.789417</td>\n",
       "      <td>100</td>\n",
       "    </tr>\n",
       "    <tr>\n",
       "      <th>1</th>\n",
       "      <td>dr</td>\n",
       "      <td>0</td>\n",
       "      <td>4.789417</td>\n",
       "      <td>100</td>\n",
       "    </tr>\n",
       "    <tr>\n",
       "      <th>2</th>\n",
       "      <td>drl</td>\n",
       "      <td>0</td>\n",
       "      <td>4.789038</td>\n",
       "      <td>100</td>\n",
       "    </tr>\n",
       "    <tr>\n",
       "      <th>3</th>\n",
       "      <td>on_policy</td>\n",
       "      <td>0</td>\n",
       "      <td>0.000000</td>\n",
       "      <td>100</td>\n",
       "    </tr>\n",
       "    <tr>\n",
       "      <th>4</th>\n",
       "      <td>pdis</td>\n",
       "      <td>0</td>\n",
       "      <td>4.752450</td>\n",
       "      <td>100</td>\n",
       "    </tr>\n",
       "    <tr>\n",
       "      <th>5</th>\n",
       "      <td>sndr</td>\n",
       "      <td>0</td>\n",
       "      <td>4.789417</td>\n",
       "      <td>100</td>\n",
       "    </tr>\n",
       "    <tr>\n",
       "      <th>6</th>\n",
       "      <td>snpdis</td>\n",
       "      <td>0</td>\n",
       "      <td>4.752450</td>\n",
       "      <td>100</td>\n",
       "    </tr>\n",
       "    <tr>\n",
       "      <th>7</th>\n",
       "      <td>sntis</td>\n",
       "      <td>0</td>\n",
       "      <td>4.752450</td>\n",
       "      <td>100</td>\n",
       "    </tr>\n",
       "    <tr>\n",
       "      <th>8</th>\n",
       "      <td>tis</td>\n",
       "      <td>0</td>\n",
       "      <td>4.752450</td>\n",
       "      <td>100</td>\n",
       "    </tr>\n",
       "    <tr>\n",
       "      <th>9</th>\n",
       "      <td>dm</td>\n",
       "      <td>0</td>\n",
       "      <td>4.777326</td>\n",
       "      <td>200</td>\n",
       "    </tr>\n",
       "    <tr>\n",
       "      <th>10</th>\n",
       "      <td>dr</td>\n",
       "      <td>0</td>\n",
       "      <td>4.777326</td>\n",
       "      <td>200</td>\n",
       "    </tr>\n",
       "    <tr>\n",
       "      <th>11</th>\n",
       "      <td>drl</td>\n",
       "      <td>0</td>\n",
       "      <td>4.777078</td>\n",
       "      <td>200</td>\n",
       "    </tr>\n",
       "    <tr>\n",
       "      <th>12</th>\n",
       "      <td>on_policy</td>\n",
       "      <td>0</td>\n",
       "      <td>0.000000</td>\n",
       "      <td>200</td>\n",
       "    </tr>\n",
       "    <tr>\n",
       "      <th>13</th>\n",
       "      <td>pdis</td>\n",
       "      <td>0</td>\n",
       "      <td>4.752450</td>\n",
       "      <td>200</td>\n",
       "    </tr>\n",
       "    <tr>\n",
       "      <th>14</th>\n",
       "      <td>sndr</td>\n",
       "      <td>0</td>\n",
       "      <td>4.777326</td>\n",
       "      <td>200</td>\n",
       "    </tr>\n",
       "    <tr>\n",
       "      <th>15</th>\n",
       "      <td>snpdis</td>\n",
       "      <td>0</td>\n",
       "      <td>4.752450</td>\n",
       "      <td>200</td>\n",
       "    </tr>\n",
       "    <tr>\n",
       "      <th>16</th>\n",
       "      <td>sntis</td>\n",
       "      <td>0</td>\n",
       "      <td>4.752450</td>\n",
       "      <td>200</td>\n",
       "    </tr>\n",
       "    <tr>\n",
       "      <th>17</th>\n",
       "      <td>tis</td>\n",
       "      <td>0</td>\n",
       "      <td>4.752450</td>\n",
       "      <td>200</td>\n",
       "    </tr>\n",
       "    <tr>\n",
       "      <th>18</th>\n",
       "      <td>dm</td>\n",
       "      <td>0</td>\n",
       "      <td>4.753002</td>\n",
       "      <td>400</td>\n",
       "    </tr>\n",
       "    <tr>\n",
       "      <th>19</th>\n",
       "      <td>dr</td>\n",
       "      <td>0</td>\n",
       "      <td>4.753002</td>\n",
       "      <td>400</td>\n",
       "    </tr>\n",
       "    <tr>\n",
       "      <th>20</th>\n",
       "      <td>drl</td>\n",
       "      <td>0</td>\n",
       "      <td>4.752708</td>\n",
       "      <td>400</td>\n",
       "    </tr>\n",
       "    <tr>\n",
       "      <th>21</th>\n",
       "      <td>on_policy</td>\n",
       "      <td>0</td>\n",
       "      <td>0.000000</td>\n",
       "      <td>400</td>\n",
       "    </tr>\n",
       "    <tr>\n",
       "      <th>22</th>\n",
       "      <td>pdis</td>\n",
       "      <td>0</td>\n",
       "      <td>4.752450</td>\n",
       "      <td>400</td>\n",
       "    </tr>\n",
       "    <tr>\n",
       "      <th>23</th>\n",
       "      <td>sndr</td>\n",
       "      <td>0</td>\n",
       "      <td>4.753001</td>\n",
       "      <td>400</td>\n",
       "    </tr>\n",
       "    <tr>\n",
       "      <th>24</th>\n",
       "      <td>snpdis</td>\n",
       "      <td>0</td>\n",
       "      <td>4.752449</td>\n",
       "      <td>400</td>\n",
       "    </tr>\n",
       "    <tr>\n",
       "      <th>25</th>\n",
       "      <td>sntis</td>\n",
       "      <td>0</td>\n",
       "      <td>4.752450</td>\n",
       "      <td>400</td>\n",
       "    </tr>\n",
       "    <tr>\n",
       "      <th>26</th>\n",
       "      <td>tis</td>\n",
       "      <td>0</td>\n",
       "      <td>4.752450</td>\n",
       "      <td>400</td>\n",
       "    </tr>\n",
       "    <tr>\n",
       "      <th>27</th>\n",
       "      <td>dm</td>\n",
       "      <td>0</td>\n",
       "      <td>4.709359</td>\n",
       "      <td>800</td>\n",
       "    </tr>\n",
       "    <tr>\n",
       "      <th>28</th>\n",
       "      <td>dr</td>\n",
       "      <td>0</td>\n",
       "      <td>4.709359</td>\n",
       "      <td>800</td>\n",
       "    </tr>\n",
       "    <tr>\n",
       "      <th>29</th>\n",
       "      <td>drl</td>\n",
       "      <td>0</td>\n",
       "      <td>4.709137</td>\n",
       "      <td>800</td>\n",
       "    </tr>\n",
       "    <tr>\n",
       "      <th>30</th>\n",
       "      <td>on_policy</td>\n",
       "      <td>0</td>\n",
       "      <td>0.000000</td>\n",
       "      <td>800</td>\n",
       "    </tr>\n",
       "    <tr>\n",
       "      <th>31</th>\n",
       "      <td>pdis</td>\n",
       "      <td>0</td>\n",
       "      <td>4.752450</td>\n",
       "      <td>800</td>\n",
       "    </tr>\n",
       "    <tr>\n",
       "      <th>32</th>\n",
       "      <td>sndr</td>\n",
       "      <td>0</td>\n",
       "      <td>4.709356</td>\n",
       "      <td>800</td>\n",
       "    </tr>\n",
       "    <tr>\n",
       "      <th>33</th>\n",
       "      <td>snpdis</td>\n",
       "      <td>0</td>\n",
       "      <td>4.752474</td>\n",
       "      <td>800</td>\n",
       "    </tr>\n",
       "    <tr>\n",
       "      <th>34</th>\n",
       "      <td>sntis</td>\n",
       "      <td>0</td>\n",
       "      <td>4.752450</td>\n",
       "      <td>800</td>\n",
       "    </tr>\n",
       "    <tr>\n",
       "      <th>35</th>\n",
       "      <td>tis</td>\n",
       "      <td>0</td>\n",
       "      <td>4.752450</td>\n",
       "      <td>800</td>\n",
       "    </tr>\n",
       "    <tr>\n",
       "      <th>36</th>\n",
       "      <td>dm</td>\n",
       "      <td>0</td>\n",
       "      <td>4.592720</td>\n",
       "      <td>1600</td>\n",
       "    </tr>\n",
       "    <tr>\n",
       "      <th>37</th>\n",
       "      <td>dr</td>\n",
       "      <td>0</td>\n",
       "      <td>4.592720</td>\n",
       "      <td>1600</td>\n",
       "    </tr>\n",
       "    <tr>\n",
       "      <th>38</th>\n",
       "      <td>drl</td>\n",
       "      <td>0</td>\n",
       "      <td>4.592451</td>\n",
       "      <td>1600</td>\n",
       "    </tr>\n",
       "    <tr>\n",
       "      <th>39</th>\n",
       "      <td>on_policy</td>\n",
       "      <td>0</td>\n",
       "      <td>0.000000</td>\n",
       "      <td>1600</td>\n",
       "    </tr>\n",
       "    <tr>\n",
       "      <th>40</th>\n",
       "      <td>pdis</td>\n",
       "      <td>0</td>\n",
       "      <td>4.752450</td>\n",
       "      <td>1600</td>\n",
       "    </tr>\n",
       "    <tr>\n",
       "      <th>41</th>\n",
       "      <td>sndr</td>\n",
       "      <td>0</td>\n",
       "      <td>4.587540</td>\n",
       "      <td>1600</td>\n",
       "    </tr>\n",
       "    <tr>\n",
       "      <th>42</th>\n",
       "      <td>snpdis</td>\n",
       "      <td>0</td>\n",
       "      <td>4.746041</td>\n",
       "      <td>1600</td>\n",
       "    </tr>\n",
       "    <tr>\n",
       "      <th>43</th>\n",
       "      <td>sntis</td>\n",
       "      <td>0</td>\n",
       "      <td>4.752450</td>\n",
       "      <td>1600</td>\n",
       "    </tr>\n",
       "    <tr>\n",
       "      <th>44</th>\n",
       "      <td>tis</td>\n",
       "      <td>0</td>\n",
       "      <td>4.752450</td>\n",
       "      <td>1600</td>\n",
       "    </tr>\n",
       "  </tbody>\n",
       "</table>\n",
       "</div>"
      ],
      "text/plain": [
       "        index  est      bias  n_trajectories\n",
       "0          dm    0  4.789417             100\n",
       "1          dr    0  4.789417             100\n",
       "2         drl    0  4.789038             100\n",
       "3   on_policy    0  0.000000             100\n",
       "4        pdis    0  4.752450             100\n",
       "5        sndr    0  4.789417             100\n",
       "6      snpdis    0  4.752450             100\n",
       "7       sntis    0  4.752450             100\n",
       "8         tis    0  4.752450             100\n",
       "9          dm    0  4.777326             200\n",
       "10         dr    0  4.777326             200\n",
       "11        drl    0  4.777078             200\n",
       "12  on_policy    0  0.000000             200\n",
       "13       pdis    0  4.752450             200\n",
       "14       sndr    0  4.777326             200\n",
       "15     snpdis    0  4.752450             200\n",
       "16      sntis    0  4.752450             200\n",
       "17        tis    0  4.752450             200\n",
       "18         dm    0  4.753002             400\n",
       "19         dr    0  4.753002             400\n",
       "20        drl    0  4.752708             400\n",
       "21  on_policy    0  0.000000             400\n",
       "22       pdis    0  4.752450             400\n",
       "23       sndr    0  4.753001             400\n",
       "24     snpdis    0  4.752449             400\n",
       "25      sntis    0  4.752450             400\n",
       "26        tis    0  4.752450             400\n",
       "27         dm    0  4.709359             800\n",
       "28         dr    0  4.709359             800\n",
       "29        drl    0  4.709137             800\n",
       "30  on_policy    0  0.000000             800\n",
       "31       pdis    0  4.752450             800\n",
       "32       sndr    0  4.709356             800\n",
       "33     snpdis    0  4.752474             800\n",
       "34      sntis    0  4.752450             800\n",
       "35        tis    0  4.752450             800\n",
       "36         dm    0  4.592720            1600\n",
       "37         dr    0  4.592720            1600\n",
       "38        drl    0  4.592451            1600\n",
       "39  on_policy    0  0.000000            1600\n",
       "40       pdis    0  4.752450            1600\n",
       "41       sndr    0  4.587540            1600\n",
       "42     snpdis    0  4.746041            1600\n",
       "43      sntis    0  4.752450            1600\n",
       "44        tis    0  4.752450            1600"
      ]
     },
     "execution_count": 17,
     "metadata": {},
     "output_type": "execute_result"
    }
   ],
   "source": [
    "bias_result_df\n"
   ]
  },
  {
   "cell_type": "code",
   "execution_count": 24,
   "metadata": {},
   "outputs": [
    {
     "name": "stderr",
     "output_type": "stream",
     "text": [
      "/var/folders/48/ly7vft814qv_x6krlfw5s8_c0000gn/T/ipykernel_57753/2677840563.py:7: FutureWarning: \n",
      "\n",
      "The `ci` parameter is deprecated. Use `errorbar=None` for the same effect.\n",
      "\n",
      "  sns.lineplot(\n"
     ]
    },
    {
     "data": {
      "image/png": "[encoded data removed]",
      "text/plain": [
       "<Figure size 1000x700 with 1 Axes>"
      ]
     },
     "metadata": {},
     "output_type": "display_data"
    }
   ],
   "source": [
    "# figure configs\n",
    "# query = \"(est == 'DM' or est == 'IPS') and num_data <= 6400\"\n",
    "xlabels = [100, 200, 400, 800, 1600]\n",
    "\n",
    "plt.style.use('ggplot')\n",
    "fig, ax = plt.subplots(figsize=(10, 7), tight_layout=True)\n",
    "sns.lineplot(\n",
    "    linewidth=5,\n",
    "    dashes=False,\n",
    "    legend=False,\n",
    "    x=\"n_trajectories\",\n",
    "    y=\"bias\",\n",
    "    hue=\"index\",\n",
    "    ax=ax,\n",
    "    data=bias_result_df.query(\"(index == 'dm' or index == 'tis')\"),\n",
    "    ci=None,\n",
    ")\n",
    "# title and legend\n",
    "ax.legend([\"DM\", \"TIS\"], loc=\"upper right\", fontsize=25)\n",
    "# yaxis\n",
    "# ax.set_yscale(\"log\")\n",
    "ax.set_ylabel(\"bias\", fontsize=25)\n",
    "ax.tick_params(axis=\"y\", labelsize=15)\n",
    "ax.yaxis.set_label_coords(-0.08, 0.5)\n",
    "# xaxis\n",
    "ax.set_xscale(\"log\")\n",
    "ax.set_xlabel(\"number of trajectories\", fontsize=25)\n",
    "ax.set_xticks(xlabels)\n",
    "ax.set_xticklabels(xlabels, fontsize=15)\n",
    "ax.xaxis.set_label_coords(0.5, -0.1)"
   ]
  },
  {
   "cell_type": "code",
   "execution_count": 26,
   "metadata": {},
   "outputs": [
    {
     "name": "stderr",
     "output_type": "stream",
     "text": [
      "/var/folders/48/ly7vft814qv_x6krlfw5s8_c0000gn/T/ipykernel_57753/685017461.py:7: FutureWarning: \n",
      "\n",
      "The `ci` parameter is deprecated. Use `errorbar=None` for the same effect.\n",
      "\n",
      "  sns.lineplot(\n"
     ]
    },
    {
     "data": {
      "image/png": "[encoded data removed]",
      "text/plain": [
       "<Figure size 1000x700 with 1 Axes>"
      ]
     },
     "metadata": {},
     "output_type": "display_data"
    }
   ],
   "source": [
    "# figure configs\n",
    "# query = \"(est == 'DM' or est == 'IPS') and num_data <= 6400\"\n",
    "xlabels = [100, 400, 1600, 6400]\n",
    "\n",
    "plt.style.use('ggplot')\n",
    "fig, ax = plt.subplots(figsize=(10, 7), tight_layout=True)\n",
    "sns.lineplot(\n",
    "    linewidth=5,\n",
    "    dashes=False,\n",
    "    legend=False,\n",
    "    x=\"n_trajectories\",\n",
    "    y=\"bias\",\n",
    "    hue=\"index\",\n",
    "    ax=ax,\n",
    "    data=bias_result_df.query(\"(index == 'dm' or index == 'dr')\"),\n",
    "    ci=None,\n",
    ")\n",
    "# title and legend\n",
    "ax.legend([\"DM\", \"DR\"], loc=\"upper right\", fontsize=25)\n",
    "# yaxis\n",
    "# ax.set_yscale(\"log\")\n",
    "ax.set_ylabel(\"bias\", fontsize=25)\n",
    "ax.tick_params(axis=\"y\", labelsize=15)\n",
    "ax.yaxis.set_label_coords(-0.08, 0.5)\n",
    "# xaxis\n",
    "ax.set_xscale(\"log\")\n",
    "ax.set_xlabel(\"number of trajectories\", fontsize=25)\n",
    "ax.set_xticks(xlabels)\n",
    "ax.set_xticklabels(xlabels, fontsize=15)\n",
    "ax.xaxis.set_label_coords(0.5, -0.1)"
   ]
  },
  {
   "cell_type": "code",
   "execution_count": null,
   "metadata": {},
   "outputs": [
    {
     "data": {
      "text/html": [
       "<div>\n",
       "<style scoped>\n",
       "    .dataframe tbody tr th:only-of-type {\n",
       "        vertical-align: middle;\n",
       "    }\n",
       "\n",
       "    .dataframe tbody tr th {\n",
       "        vertical-align: top;\n",
       "    }\n",
       "\n",
       "    .dataframe thead th {\n",
       "        text-align: right;\n",
       "    }\n",
       "</style>\n",
       "<table border=\"1\" class=\"dataframe\">\n",
       "  <thead>\n",
       "    <tr style=\"text-align: right;\">\n",
       "      <th></th>\n",
       "      <th>index</th>\n",
       "      <th>est</th>\n",
       "      <th>variance</th>\n",
       "      <th>n_trajectories</th>\n",
       "    </tr>\n",
       "  </thead>\n",
       "  <tbody>\n",
       "    <tr>\n",
       "      <th>0</th>\n",
       "      <td>dm</td>\n",
       "      <td>0</td>\n",
       "      <td>0.014763</td>\n",
       "      <td>100</td>\n",
       "    </tr>\n",
       "    <tr>\n",
       "      <th>1</th>\n",
       "      <td>dr</td>\n",
       "      <td>0</td>\n",
       "      <td>0.471468</td>\n",
       "      <td>100</td>\n",
       "    </tr>\n",
       "    <tr>\n",
       "      <th>2</th>\n",
       "      <td>drl</td>\n",
       "      <td>0</td>\n",
       "      <td>0.014601</td>\n",
       "      <td>100</td>\n",
       "    </tr>\n",
       "    <tr>\n",
       "      <th>3</th>\n",
       "      <td>on_policy</td>\n",
       "      <td>0</td>\n",
       "      <td>0.064765</td>\n",
       "      <td>100</td>\n",
       "    </tr>\n",
       "    <tr>\n",
       "      <th>4</th>\n",
       "      <td>pdis</td>\n",
       "      <td>0</td>\n",
       "      <td>0.486707</td>\n",
       "      <td>100</td>\n",
       "    </tr>\n",
       "    <tr>\n",
       "      <th>...</th>\n",
       "      <td>...</td>\n",
       "      <td>...</td>\n",
       "      <td>...</td>\n",
       "      <td>...</td>\n",
       "    </tr>\n",
       "    <tr>\n",
       "      <th>148</th>\n",
       "      <td>sm_snis</td>\n",
       "      <td>0</td>\n",
       "      <td>0.000000</td>\n",
       "      <td>25600</td>\n",
       "    </tr>\n",
       "    <tr>\n",
       "      <th>149</th>\n",
       "      <td>sndr</td>\n",
       "      <td>0</td>\n",
       "      <td>3.679266</td>\n",
       "      <td>25600</td>\n",
       "    </tr>\n",
       "    <tr>\n",
       "      <th>150</th>\n",
       "      <td>snpdis</td>\n",
       "      <td>0</td>\n",
       "      <td>0.001403</td>\n",
       "      <td>25600</td>\n",
       "    </tr>\n",
       "    <tr>\n",
       "      <th>151</th>\n",
       "      <td>sntis</td>\n",
       "      <td>0</td>\n",
       "      <td>0.094222</td>\n",
       "      <td>25600</td>\n",
       "    </tr>\n",
       "    <tr>\n",
       "      <th>152</th>\n",
       "      <td>tis</td>\n",
       "      <td>0</td>\n",
       "      <td>0.331026</td>\n",
       "      <td>25600</td>\n",
       "    </tr>\n",
       "  </tbody>\n",
       "</table>\n",
       "<p>153 rows × 4 columns</p>\n",
       "</div>"
      ],
      "text/plain": [
       "         index  est  variance  n_trajectories\n",
       "0           dm    0  0.014763             100\n",
       "1           dr    0  0.471468             100\n",
       "2          drl    0  0.014601             100\n",
       "3    on_policy    0  0.064765             100\n",
       "4         pdis    0  0.486707             100\n",
       "..         ...  ...       ...             ...\n",
       "148    sm_snis    0  0.000000           25600\n",
       "149       sndr    0  3.679266           25600\n",
       "150     snpdis    0  0.001403           25600\n",
       "151      sntis    0  0.094222           25600\n",
       "152        tis    0  0.331026           25600\n",
       "\n",
       "[153 rows x 4 columns]"
      ]
     },
     "execution_count": 64,
     "metadata": {},
     "output_type": "execute_result"
    }
   ],
   "source": [
    "variance_result_df"
   ]
  },
  {
   "cell_type": "code",
   "execution_count": 27,
   "metadata": {},
   "outputs": [
    {
     "name": "stderr",
     "output_type": "stream",
     "text": [
      "/var/folders/48/ly7vft814qv_x6krlfw5s8_c0000gn/T/ipykernel_57753/3711746799.py:7: FutureWarning: \n",
      "\n",
      "The `ci` parameter is deprecated. Use `errorbar=None` for the same effect.\n",
      "\n",
      "  sns.lineplot(\n"
     ]
    },
    {
     "data": {
      "image/png": "[encoded data removed]",
      "text/plain": [
       "<Figure size 1000x700 with 1 Axes>"
      ]
     },
     "metadata": {},
     "output_type": "display_data"
    }
   ],
   "source": [
    "# figure configs\n",
    "# query = \"(est == 'DM' or est == 'IPS') and num_data <= 6400\"\n",
    "xlabels = [100, 400, 1600, 6400, 12800]\n",
    "\n",
    "plt.style.use('ggplot')\n",
    "fig, ax = plt.subplots(figsize=(10, 7), tight_layout=True)\n",
    "sns.lineplot(\n",
    "    linewidth=5,\n",
    "    dashes=False,\n",
    "    legend=False,\n",
    "    x=\"n_trajectories\",\n",
    "    y=\"variance\",\n",
    "    hue=\"index\",\n",
    "    ax=ax,\n",
    "    data=variance_result_df.query(\"(index == 'dm' or index == 'tis') and n_trajectories <= 12800\"),\n",
    "    ci=None,\n",
    ")\n",
    "# title and legend\n",
    "ax.legend([\"DM\", \"TIS\"], loc=\"upper right\", fontsize=25)\n",
    "# yaxis\n",
    "# ax.set_yscale(\"log\")\n",
    "ax.set_ylabel(\"variance\", fontsize=25)\n",
    "ax.tick_params(axis=\"y\", labelsize=15)\n",
    "ax.yaxis.set_label_coords(-0.08, 0.5)\n",
    "# xaxis\n",
    "ax.set_xscale(\"log\")\n",
    "ax.set_xlabel(\"number of trajectories\", fontsize=25)\n",
    "ax.set_xticks(xlabels)\n",
    "ax.set_xticklabels(xlabels, fontsize=15)\n",
    "ax.xaxis.set_label_coords(0.5, -0.1)"
   ]
  },
  {
   "cell_type": "code",
   "execution_count": null,
   "metadata": {},
   "outputs": [
    {
     "name": "stderr",
     "output_type": "stream",
     "text": [
      "/var/folders/48/ly7vft814qv_x6krlfw5s8_c0000gn/T/ipykernel_70704/2997964467.py:7: FutureWarning: \n",
      "\n",
      "The `ci` parameter is deprecated. Use `errorbar=None` for the same effect.\n",
      "\n",
      "  sns.lineplot(\n"
     ]
    },
    {
     "data": {
      "image/png": "[encoded data removed]",
      "text/plain": [
       "<Figure size 1000x700 with 1 Axes>"
      ]
     },
     "metadata": {},
     "output_type": "display_data"
    }
   ],
   "source": [
    "# figure configs\n",
    "# query = \"(est == 'DM' or est == 'IPS') and num_data <= 6400\"\n",
    "xlabels = [100, 400, 1600, 6400]\n",
    "\n",
    "plt.style.use('ggplot')\n",
    "fig, ax = plt.subplots(figsize=(10, 7), tight_layout=True)\n",
    "sns.lineplot(\n",
    "    linewidth=5,\n",
    "    dashes=False,\n",
    "    legend=False,\n",
    "    x=\"n_trajectories\",\n",
    "    y=\"variance\",\n",
    "    hue=\"index\",\n",
    "    ax=ax,\n",
    "    data=variance_result_df.query(\"(index == 'pdis' or index == 'tis')\"),\n",
    "    ci=None,\n",
    ")\n",
    "# title and legend\n",
    "ax.legend([\"PDIS\", \"TIS\"], loc=\"upper right\", fontsize=25)\n",
    "# yaxis\n",
    "# ax.set_yscale(\"log\")\n",
    "ax.set_ylabel(\"variance\", fontsize=25)\n",
    "ax.tick_params(axis=\"y\", labelsize=15)\n",
    "ax.yaxis.set_label_coords(-0.08, 0.5)\n",
    "# xaxis\n",
    "ax.set_xscale(\"log\")\n",
    "ax.set_xlabel(\"number of trajectories\", fontsize=25)\n",
    "ax.set_xticks(xlabels)\n",
    "ax.set_xticklabels(xlabels, fontsize=15)\n",
    "ax.xaxis.set_label_coords(0.5, -0.1)"
   ]
  },
  {
   "cell_type": "code",
   "execution_count": 28,
   "metadata": {},
   "outputs": [
    {
     "name": "stderr",
     "output_type": "stream",
     "text": [
      "/var/folders/48/ly7vft814qv_x6krlfw5s8_c0000gn/T/ipykernel_57753/79488338.py:7: FutureWarning: \n",
      "\n",
      "The `ci` parameter is deprecated. Use `errorbar=None` for the same effect.\n",
      "\n",
      "  sns.lineplot(\n"
     ]
    },
    {
     "data": {
      "image/png": "[encoded data removed]",
      "text/plain": [
       "<Figure size 1000x700 with 1 Axes>"
      ]
     },
     "metadata": {},
     "output_type": "display_data"
    }
   ],
   "source": [
    "# figure configs\n",
    "# query = \"(est == 'DM' or est == 'IPS') and num_data <= 6400\"\n",
    "xlabels = [100, 400, 1600, 6400, 12800]\n",
    "\n",
    "plt.style.use('ggplot')\n",
    "fig, ax = plt.subplots(figsize=(10, 7), tight_layout=True)\n",
    "sns.lineplot(\n",
    "    linewidth=5,\n",
    "    dashes=False,\n",
    "    legend=False,\n",
    "    x=\"n_trajectories\",\n",
    "    y=\"variance\",\n",
    "    hue=\"index\",\n",
    "    ax=ax,\n",
    "    data=variance_result_df.query(\"(index == 'pdis' or index == 'dm')  and n_trajectories <= 12800\"),\n",
    "    ci=None,\n",
    ")\n",
    "# title and legend\n",
    "ax.legend([\"PDIS\", \"DM\"], loc=\"upper right\", fontsize=25)\n",
    "# yaxis\n",
    "# ax.set_yscale(\"log\")\n",
    "ax.set_ylabel(\"variance\", fontsize=25)\n",
    "ax.tick_params(axis=\"y\", labelsize=15)\n",
    "ax.yaxis.set_label_coords(-0.08, 0.5)\n",
    "# xaxis\n",
    "ax.set_xscale(\"log\")\n",
    "ax.set_xlabel(\"number of trajectories\", fontsize=25)\n",
    "ax.set_xticks(xlabels)\n",
    "ax.set_xticklabels(xlabels, fontsize=15)\n",
    "ax.xaxis.set_label_coords(0.5, -0.1)"
   ]
  },
  {
   "cell_type": "code",
   "execution_count": null,
   "metadata": {},
   "outputs": [],
   "source": [
    "# figure configs\n",
    "# query = \"(est == 'DM' or est == 'IPS') and num_data <= 6400\"\n",
    "xlabels = [100, 400, 1600, 6400, 12800]\n",
    "\n",
    "plt.style.use('ggplot')\n",
    "fig, ax = plt.subplots(figsize=(10, 7), tight_layout=True)\n",
    "sns.lineplot(\n",
    "    linewidth=5,\n",
    "    dashes=False,\n",
    "    legend=False,\n",
    "    x=\"n_trajectories\",\n",
    "    y=\"variance\",\n",
    "    hue=\"index\",\n",
    "    ax=ax,\n",
    "    data=variance_result_df.query(\"(index == 'pdis' or index == 'dm')  and n_trajectories <= 12800\"),\n",
    "    ci=None,\n",
    ")\n",
    "# title and legend\n",
    "ax.legend([\"PDIS\", \"DM\"], loc=\"upper right\", fontsize=25)\n",
    "# yaxis\n",
    "# ax.set_yscale(\"log\")\n",
    "ax.set_ylabel(\"variance\", fontsize=25)\n",
    "ax.tick_params(axis=\"y\", labelsize=15)\n",
    "ax.yaxis.set_label_coords(-0.08, 0.5)\n",
    "# xaxis\n",
    "ax.set_xscale(\"log\")\n",
    "ax.set_xlabel(\"number of trajectories\", fontsize=25)\n",
    "ax.set_xticks(xlabels)\n",
    "ax.set_xticklabels(xlabels, fontsize=15)\n",
    "ax.xaxis.set_label_coords(0.5, -0.1)"
   ]
  },
  {
   "cell_type": "code",
   "execution_count": 48,
   "metadata": {},
   "outputs": [
    {
     "data": {
      "text/html": [
       "<div>\n",
       "<style scoped>\n",
       "    .dataframe tbody tr th:only-of-type {\n",
       "        vertical-align: middle;\n",
       "    }\n",
       "\n",
       "    .dataframe tbody tr th {\n",
       "        vertical-align: top;\n",
       "    }\n",
       "\n",
       "    .dataframe thead th {\n",
       "        text-align: right;\n",
       "    }\n",
       "</style>\n",
       "<table border=\"1\" class=\"dataframe\">\n",
       "  <thead>\n",
       "    <tr style=\"text-align: right;\">\n",
       "      <th></th>\n",
       "      <th>index</th>\n",
       "      <th>est</th>\n",
       "      <th>mse</th>\n",
       "      <th>n_trajectories</th>\n",
       "    </tr>\n",
       "  </thead>\n",
       "  <tbody>\n",
       "    <tr>\n",
       "      <th>0</th>\n",
       "      <td>dm</td>\n",
       "      <td>0</td>\n",
       "      <td>22.956079</td>\n",
       "      <td>100</td>\n",
       "    </tr>\n",
       "    <tr>\n",
       "      <th>1</th>\n",
       "      <td>dr</td>\n",
       "      <td>0</td>\n",
       "      <td>22.956079</td>\n",
       "      <td>100</td>\n",
       "    </tr>\n",
       "    <tr>\n",
       "      <th>2</th>\n",
       "      <td>drl</td>\n",
       "      <td>0</td>\n",
       "      <td>22.952576</td>\n",
       "      <td>100</td>\n",
       "    </tr>\n",
       "    <tr>\n",
       "      <th>3</th>\n",
       "      <td>on_policy</td>\n",
       "      <td>0</td>\n",
       "      <td>0.001128</td>\n",
       "      <td>100</td>\n",
       "    </tr>\n",
       "    <tr>\n",
       "      <th>4</th>\n",
       "      <td>pdis</td>\n",
       "      <td>0</td>\n",
       "      <td>22.585784</td>\n",
       "      <td>100</td>\n",
       "    </tr>\n",
       "    <tr>\n",
       "      <th>5</th>\n",
       "      <td>sndr</td>\n",
       "      <td>0</td>\n",
       "      <td>22.956078</td>\n",
       "      <td>100</td>\n",
       "    </tr>\n",
       "    <tr>\n",
       "      <th>6</th>\n",
       "      <td>snpdis</td>\n",
       "      <td>0</td>\n",
       "      <td>22.585783</td>\n",
       "      <td>100</td>\n",
       "    </tr>\n",
       "    <tr>\n",
       "      <th>7</th>\n",
       "      <td>sntis</td>\n",
       "      <td>0</td>\n",
       "      <td>22.585784</td>\n",
       "      <td>100</td>\n",
       "    </tr>\n",
       "    <tr>\n",
       "      <th>8</th>\n",
       "      <td>tis</td>\n",
       "      <td>0</td>\n",
       "      <td>22.585784</td>\n",
       "      <td>100</td>\n",
       "    </tr>\n",
       "    <tr>\n",
       "      <th>9</th>\n",
       "      <td>dm</td>\n",
       "      <td>0</td>\n",
       "      <td>22.840697</td>\n",
       "      <td>200</td>\n",
       "    </tr>\n",
       "    <tr>\n",
       "      <th>10</th>\n",
       "      <td>dr</td>\n",
       "      <td>0</td>\n",
       "      <td>22.840697</td>\n",
       "      <td>200</td>\n",
       "    </tr>\n",
       "    <tr>\n",
       "      <th>11</th>\n",
       "      <td>drl</td>\n",
       "      <td>0</td>\n",
       "      <td>22.838420</td>\n",
       "      <td>200</td>\n",
       "    </tr>\n",
       "    <tr>\n",
       "      <th>12</th>\n",
       "      <td>on_policy</td>\n",
       "      <td>0</td>\n",
       "      <td>0.001128</td>\n",
       "      <td>200</td>\n",
       "    </tr>\n",
       "    <tr>\n",
       "      <th>13</th>\n",
       "      <td>pdis</td>\n",
       "      <td>0</td>\n",
       "      <td>22.585784</td>\n",
       "      <td>200</td>\n",
       "    </tr>\n",
       "    <tr>\n",
       "      <th>14</th>\n",
       "      <td>sndr</td>\n",
       "      <td>0</td>\n",
       "      <td>22.840697</td>\n",
       "      <td>200</td>\n",
       "    </tr>\n",
       "    <tr>\n",
       "      <th>15</th>\n",
       "      <td>snpdis</td>\n",
       "      <td>0</td>\n",
       "      <td>22.585784</td>\n",
       "      <td>200</td>\n",
       "    </tr>\n",
       "    <tr>\n",
       "      <th>16</th>\n",
       "      <td>sntis</td>\n",
       "      <td>0</td>\n",
       "      <td>22.585784</td>\n",
       "      <td>200</td>\n",
       "    </tr>\n",
       "    <tr>\n",
       "      <th>17</th>\n",
       "      <td>tis</td>\n",
       "      <td>0</td>\n",
       "      <td>22.585784</td>\n",
       "      <td>200</td>\n",
       "    </tr>\n",
       "    <tr>\n",
       "      <th>18</th>\n",
       "      <td>dm</td>\n",
       "      <td>0</td>\n",
       "      <td>22.610517</td>\n",
       "      <td>400</td>\n",
       "    </tr>\n",
       "    <tr>\n",
       "      <th>19</th>\n",
       "      <td>dr</td>\n",
       "      <td>0</td>\n",
       "      <td>22.610517</td>\n",
       "      <td>400</td>\n",
       "    </tr>\n",
       "    <tr>\n",
       "      <th>20</th>\n",
       "      <td>drl</td>\n",
       "      <td>0</td>\n",
       "      <td>22.607834</td>\n",
       "      <td>400</td>\n",
       "    </tr>\n",
       "    <tr>\n",
       "      <th>21</th>\n",
       "      <td>on_policy</td>\n",
       "      <td>0</td>\n",
       "      <td>0.001128</td>\n",
       "      <td>400</td>\n",
       "    </tr>\n",
       "    <tr>\n",
       "      <th>22</th>\n",
       "      <td>pdis</td>\n",
       "      <td>0</td>\n",
       "      <td>22.585784</td>\n",
       "      <td>400</td>\n",
       "    </tr>\n",
       "    <tr>\n",
       "      <th>23</th>\n",
       "      <td>sndr</td>\n",
       "      <td>0</td>\n",
       "      <td>22.610507</td>\n",
       "      <td>400</td>\n",
       "    </tr>\n",
       "    <tr>\n",
       "      <th>24</th>\n",
       "      <td>snpdis</td>\n",
       "      <td>0</td>\n",
       "      <td>22.585774</td>\n",
       "      <td>400</td>\n",
       "    </tr>\n",
       "    <tr>\n",
       "      <th>25</th>\n",
       "      <td>sntis</td>\n",
       "      <td>0</td>\n",
       "      <td>22.585784</td>\n",
       "      <td>400</td>\n",
       "    </tr>\n",
       "    <tr>\n",
       "      <th>26</th>\n",
       "      <td>tis</td>\n",
       "      <td>0</td>\n",
       "      <td>22.585784</td>\n",
       "      <td>400</td>\n",
       "    </tr>\n",
       "    <tr>\n",
       "      <th>27</th>\n",
       "      <td>dm</td>\n",
       "      <td>0</td>\n",
       "      <td>22.199541</td>\n",
       "      <td>800</td>\n",
       "    </tr>\n",
       "    <tr>\n",
       "      <th>28</th>\n",
       "      <td>dr</td>\n",
       "      <td>0</td>\n",
       "      <td>22.199541</td>\n",
       "      <td>800</td>\n",
       "    </tr>\n",
       "    <tr>\n",
       "      <th>29</th>\n",
       "      <td>drl</td>\n",
       "      <td>0</td>\n",
       "      <td>22.197554</td>\n",
       "      <td>800</td>\n",
       "    </tr>\n",
       "    <tr>\n",
       "      <th>30</th>\n",
       "      <td>on_policy</td>\n",
       "      <td>0</td>\n",
       "      <td>0.001128</td>\n",
       "      <td>800</td>\n",
       "    </tr>\n",
       "    <tr>\n",
       "      <th>31</th>\n",
       "      <td>pdis</td>\n",
       "      <td>0</td>\n",
       "      <td>22.585784</td>\n",
       "      <td>800</td>\n",
       "    </tr>\n",
       "    <tr>\n",
       "      <th>32</th>\n",
       "      <td>sndr</td>\n",
       "      <td>0</td>\n",
       "      <td>22.199513</td>\n",
       "      <td>800</td>\n",
       "    </tr>\n",
       "    <tr>\n",
       "      <th>33</th>\n",
       "      <td>snpdis</td>\n",
       "      <td>0</td>\n",
       "      <td>22.586005</td>\n",
       "      <td>800</td>\n",
       "    </tr>\n",
       "    <tr>\n",
       "      <th>34</th>\n",
       "      <td>sntis</td>\n",
       "      <td>0</td>\n",
       "      <td>22.585784</td>\n",
       "      <td>800</td>\n",
       "    </tr>\n",
       "    <tr>\n",
       "      <th>35</th>\n",
       "      <td>tis</td>\n",
       "      <td>0</td>\n",
       "      <td>22.585784</td>\n",
       "      <td>800</td>\n",
       "    </tr>\n",
       "    <tr>\n",
       "      <th>36</th>\n",
       "      <td>dm</td>\n",
       "      <td>0</td>\n",
       "      <td>21.122734</td>\n",
       "      <td>1600</td>\n",
       "    </tr>\n",
       "    <tr>\n",
       "      <th>37</th>\n",
       "      <td>dr</td>\n",
       "      <td>0</td>\n",
       "      <td>21.122734</td>\n",
       "      <td>1600</td>\n",
       "    </tr>\n",
       "    <tr>\n",
       "      <th>38</th>\n",
       "      <td>drl</td>\n",
       "      <td>0</td>\n",
       "      <td>21.120377</td>\n",
       "      <td>1600</td>\n",
       "    </tr>\n",
       "    <tr>\n",
       "      <th>39</th>\n",
       "      <td>on_policy</td>\n",
       "      <td>0</td>\n",
       "      <td>0.001128</td>\n",
       "      <td>1600</td>\n",
       "    </tr>\n",
       "    <tr>\n",
       "      <th>40</th>\n",
       "      <td>pdis</td>\n",
       "      <td>0</td>\n",
       "      <td>22.585784</td>\n",
       "      <td>1600</td>\n",
       "    </tr>\n",
       "    <tr>\n",
       "      <th>41</th>\n",
       "      <td>sndr</td>\n",
       "      <td>0</td>\n",
       "      <td>21.077754</td>\n",
       "      <td>1600</td>\n",
       "    </tr>\n",
       "    <tr>\n",
       "      <th>42</th>\n",
       "      <td>snpdis</td>\n",
       "      <td>0</td>\n",
       "      <td>22.525092</td>\n",
       "      <td>1600</td>\n",
       "    </tr>\n",
       "    <tr>\n",
       "      <th>43</th>\n",
       "      <td>sntis</td>\n",
       "      <td>0</td>\n",
       "      <td>22.585784</td>\n",
       "      <td>1600</td>\n",
       "    </tr>\n",
       "    <tr>\n",
       "      <th>44</th>\n",
       "      <td>tis</td>\n",
       "      <td>0</td>\n",
       "      <td>22.585784</td>\n",
       "      <td>1600</td>\n",
       "    </tr>\n",
       "  </tbody>\n",
       "</table>\n",
       "</div>"
      ],
      "text/plain": [
       "        index  est        mse  n_trajectories\n",
       "0          dm    0  22.956079             100\n",
       "1          dr    0  22.956079             100\n",
       "2         drl    0  22.952576             100\n",
       "3   on_policy    0   0.001128             100\n",
       "4        pdis    0  22.585784             100\n",
       "5        sndr    0  22.956078             100\n",
       "6      snpdis    0  22.585783             100\n",
       "7       sntis    0  22.585784             100\n",
       "8         tis    0  22.585784             100\n",
       "9          dm    0  22.840697             200\n",
       "10         dr    0  22.840697             200\n",
       "11        drl    0  22.838420             200\n",
       "12  on_policy    0   0.001128             200\n",
       "13       pdis    0  22.585784             200\n",
       "14       sndr    0  22.840697             200\n",
       "15     snpdis    0  22.585784             200\n",
       "16      sntis    0  22.585784             200\n",
       "17        tis    0  22.585784             200\n",
       "18         dm    0  22.610517             400\n",
       "19         dr    0  22.610517             400\n",
       "20        drl    0  22.607834             400\n",
       "21  on_policy    0   0.001128             400\n",
       "22       pdis    0  22.585784             400\n",
       "23       sndr    0  22.610507             400\n",
       "24     snpdis    0  22.585774             400\n",
       "25      sntis    0  22.585784             400\n",
       "26        tis    0  22.585784             400\n",
       "27         dm    0  22.199541             800\n",
       "28         dr    0  22.199541             800\n",
       "29        drl    0  22.197554             800\n",
       "30  on_policy    0   0.001128             800\n",
       "31       pdis    0  22.585784             800\n",
       "32       sndr    0  22.199513             800\n",
       "33     snpdis    0  22.586005             800\n",
       "34      sntis    0  22.585784             800\n",
       "35        tis    0  22.585784             800\n",
       "36         dm    0  21.122734            1600\n",
       "37         dr    0  21.122734            1600\n",
       "38        drl    0  21.120377            1600\n",
       "39  on_policy    0   0.001128            1600\n",
       "40       pdis    0  22.585784            1600\n",
       "41       sndr    0  21.077754            1600\n",
       "42     snpdis    0  22.525092            1600\n",
       "43      sntis    0  22.585784            1600\n",
       "44        tis    0  22.585784            1600"
      ]
     },
     "execution_count": 48,
     "metadata": {},
     "output_type": "execute_result"
    }
   ],
   "source": [
    "mse_result_df"
   ]
  },
  {
   "cell_type": "code",
   "execution_count": 45,
   "metadata": {},
   "outputs": [
    {
     "data": {
      "text/html": [
       "<div>\n",
       "<style scoped>\n",
       "    .dataframe tbody tr th:only-of-type {\n",
       "        vertical-align: middle;\n",
       "    }\n",
       "\n",
       "    .dataframe tbody tr th {\n",
       "        vertical-align: top;\n",
       "    }\n",
       "\n",
       "    .dataframe thead th {\n",
       "        text-align: right;\n",
       "    }\n",
       "</style>\n",
       "<table border=\"1\" class=\"dataframe\">\n",
       "  <thead>\n",
       "    <tr style=\"text-align: right;\">\n",
       "      <th></th>\n",
       "      <th>index</th>\n",
       "      <th>est</th>\n",
       "      <th>mse</th>\n",
       "      <th>n_trajectories</th>\n",
       "    </tr>\n",
       "  </thead>\n",
       "  <tbody>\n",
       "    <tr>\n",
       "      <th>1</th>\n",
       "      <td>dr</td>\n",
       "      <td>0</td>\n",
       "      <td>22.956079</td>\n",
       "      <td>100</td>\n",
       "    </tr>\n",
       "    <tr>\n",
       "      <th>10</th>\n",
       "      <td>dr</td>\n",
       "      <td>0</td>\n",
       "      <td>22.840697</td>\n",
       "      <td>200</td>\n",
       "    </tr>\n",
       "    <tr>\n",
       "      <th>19</th>\n",
       "      <td>dr</td>\n",
       "      <td>0</td>\n",
       "      <td>22.610517</td>\n",
       "      <td>400</td>\n",
       "    </tr>\n",
       "    <tr>\n",
       "      <th>28</th>\n",
       "      <td>dr</td>\n",
       "      <td>0</td>\n",
       "      <td>22.199541</td>\n",
       "      <td>800</td>\n",
       "    </tr>\n",
       "    <tr>\n",
       "      <th>37</th>\n",
       "      <td>dr</td>\n",
       "      <td>0</td>\n",
       "      <td>21.122734</td>\n",
       "      <td>1600</td>\n",
       "    </tr>\n",
       "  </tbody>\n",
       "</table>\n",
       "</div>"
      ],
      "text/plain": [
       "   index  est        mse  n_trajectories\n",
       "1     dr    0  22.956079             100\n",
       "10    dr    0  22.840697             200\n",
       "19    dr    0  22.610517             400\n",
       "28    dr    0  22.199541             800\n",
       "37    dr    0  21.122734            1600"
      ]
     },
     "execution_count": 45,
     "metadata": {},
     "output_type": "execute_result"
    }
   ],
   "source": [
    "mse_result_df[mse_result_df['index'] == 'dr']"
   ]
  },
  {
   "cell_type": "code",
   "execution_count": 47,
   "metadata": {},
   "outputs": [
    {
     "data": {
      "text/html": [
       "<div>\n",
       "<style scoped>\n",
       "    .dataframe tbody tr th:only-of-type {\n",
       "        vertical-align: middle;\n",
       "    }\n",
       "\n",
       "    .dataframe tbody tr th {\n",
       "        vertical-align: top;\n",
       "    }\n",
       "\n",
       "    .dataframe thead th {\n",
       "        text-align: right;\n",
       "    }\n",
       "</style>\n",
       "<table border=\"1\" class=\"dataframe\">\n",
       "  <thead>\n",
       "    <tr style=\"text-align: right;\">\n",
       "      <th></th>\n",
       "      <th>index</th>\n",
       "      <th>est</th>\n",
       "      <th>mse</th>\n",
       "      <th>n_trajectories</th>\n",
       "    </tr>\n",
       "  </thead>\n",
       "  <tbody>\n",
       "    <tr>\n",
       "      <th>0</th>\n",
       "      <td>dm</td>\n",
       "      <td>0</td>\n",
       "      <td>22.956079</td>\n",
       "      <td>100</td>\n",
       "    </tr>\n",
       "    <tr>\n",
       "      <th>9</th>\n",
       "      <td>dm</td>\n",
       "      <td>0</td>\n",
       "      <td>22.840697</td>\n",
       "      <td>200</td>\n",
       "    </tr>\n",
       "    <tr>\n",
       "      <th>18</th>\n",
       "      <td>dm</td>\n",
       "      <td>0</td>\n",
       "      <td>22.610517</td>\n",
       "      <td>400</td>\n",
       "    </tr>\n",
       "    <tr>\n",
       "      <th>27</th>\n",
       "      <td>dm</td>\n",
       "      <td>0</td>\n",
       "      <td>22.199541</td>\n",
       "      <td>800</td>\n",
       "    </tr>\n",
       "    <tr>\n",
       "      <th>36</th>\n",
       "      <td>dm</td>\n",
       "      <td>0</td>\n",
       "      <td>21.122734</td>\n",
       "      <td>1600</td>\n",
       "    </tr>\n",
       "  </tbody>\n",
       "</table>\n",
       "</div>"
      ],
      "text/plain": [
       "   index  est        mse  n_trajectories\n",
       "0     dm    0  22.956079             100\n",
       "9     dm    0  22.840697             200\n",
       "18    dm    0  22.610517             400\n",
       "27    dm    0  22.199541             800\n",
       "36    dm    0  21.122734            1600"
      ]
     },
     "execution_count": 47,
     "metadata": {},
     "output_type": "execute_result"
    }
   ],
   "source": [
    "mse_result_df[mse_result_df['index'] == '']"
   ]
  },
  {
   "cell_type": "code",
   "execution_count": 38,
   "metadata": {},
   "outputs": [
    {
     "name": "stderr",
     "output_type": "stream",
     "text": [
      "/var/folders/48/ly7vft814qv_x6krlfw5s8_c0000gn/T/ipykernel_57753/3373674495.py:7: FutureWarning: \n",
      "\n",
      "The `ci` parameter is deprecated. Use `errorbar=None` for the same effect.\n",
      "\n",
      "  sns.lineplot(\n"
     ]
    },
    {
     "data": {
      "image/png": "[encoded data removed]",
      "text/plain": [
       "<Figure size 1000x700 with 1 Axes>"
      ]
     },
     "metadata": {},
     "output_type": "display_data"
    }
   ],
   "source": [
    "# figure configs\n",
    "# query = \"(est == 'DM' or est == 'IPS') and num_data <= 6400\"\n",
    "xlabels = [100, 400, 800, 1600]\n",
    "\n",
    "plt.style.use('ggplot')\n",
    "fig, ax = plt.subplots(figsize=(10, 7), tight_layout=True)\n",
    "sns.lineplot(\n",
    "    linewidth=5,\n",
    "    dashes=False,\n",
    "    legend=False,\n",
    "    x=\"n_trajectories\",\n",
    "    y=\"mse\",\n",
    "    hue=\"index\",\n",
    "    ax=ax,\n",
    "    data=mse_result_df.query(\"(index == 'pdis' or index == 'dm')\"),\n",
    "    # data=variance_result_df.query(\"(index == 'dr')\"),\n",
    "    ci=None,\n",
    ")\n",
    "# title and legend\n",
    "ax.legend([\"pdis\", \"DR\"], loc=\"upper right\", fontsize=25)\n",
    "# yaxis\n",
    "# ax.set_yscale(\"log\")\n",
    "ax.set_ylabel(\"mse\", fontsize=25)\n",
    "ax.tick_params(axis=\"y\", labelsize=15)\n",
    "ax.yaxis.set_label_coords(-0.08, 0.5)\n",
    "# xaxis\n",
    "ax.set_xscale(\"log\")\n",
    "ax.set_xlabel(\"number of trajectories\", fontsize=25)\n",
    "ax.set_xticks(xlabels)\n",
    "ax.set_xticklabels(xlabels, fontsize=15)\n",
    "ax.xaxis.set_label_coords(0.5, -0.1)"
   ]
  },
  {
   "cell_type": "code",
   "execution_count": null,
   "metadata": {},
   "outputs": [],
   "source": []
  },
  {
   "cell_type": "code",
   "execution_count": null,
   "metadata": {},
   "outputs": [],
   "source": []
  }
 ],
 "metadata": {
  "kernelspec": {
   "display_name": "Python 3",
   "language": "python",
   "name": "python3"
  },
  "language_info": {
   "codemirror_mode": {
    "name": "ipython",
    "version": 3
   },
   "file_extension": ".py",
   "mimetype": "text/x-python",
   "name": "python",
   "nbconvert_exporter": "python",
   "pygments_lexer": "ipython3",
   "version": "3.10.6"
  },
  "orig_nbformat": 4,
  "vscode": {
   "interpreter": {
    "hash": "70404ee114725fce8ed9e697d67827f8546c678889944e6d695790702cbfe1f5"
   }
  }
 },
 "nbformat": 4,
 "nbformat_minor": 2
}
