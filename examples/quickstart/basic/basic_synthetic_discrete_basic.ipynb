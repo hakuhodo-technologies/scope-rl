{
 "cells": [
  {
   "attachments": {},
   "cell_type": "markdown",
   "metadata": {},
   "source": [
    "# Quickstart Example with Synthetic Basic Simulation and Dataset (Discrete)\n",
    "This notebook provides an example of conducting **Off-policy Evaluation (OPE) and Offline Reinforcement Learning (Offline RL) on a basic synthetic dataset**.\n",
    "\n",
    "This example consists of the following 5 steps: \\\n",
    "0. (Setup Synthetic Basic Simulation Environment and Online RL)\n",
    "1. Synthetic Data Generation\n",
    "2. Offline Reinforcement Learning\n",
    "3. Off-Policy Evaluation and Evaluation of Offline RL methods\n",
    "4. Evaluation of OPE methods\n",
    "\n",
    "\\* This library uses [d3rlpy](https://github.com/takuseno/d3rlpy)'s algorithm implementations of online/offline rl policies and model-based evaluation.  \n",
    "\\* Also, our implementations of OPE are highly inspired by [Open Bandit Pipeline](https://github.com/st-tech/zr-obp)."
   ]
  },
  {
   "cell_type": "code",
   "execution_count": 81,
   "metadata": {},
   "outputs": [
    {
     "name": "stdout",
     "output_type": "stream",
     "text": [
      "The autoreload extension is already loaded. To reload it, use:\n",
      "  %reload_ext autoreload\n"
     ]
    }
   ],
   "source": [
    "# delete later\n",
    "%load_ext autoreload\n",
    "%autoreload 2"
   ]
  },
  {
   "cell_type": "code",
   "execution_count": 82,
   "metadata": {},
   "outputs": [],
   "source": [
    "# delete later\n",
    "import warnings\n",
    "warnings.simplefilter('ignore')"
   ]
  },
  {
   "cell_type": "code",
   "execution_count": 83,
   "metadata": {},
   "outputs": [],
   "source": [
    "# delete later\n",
    "import sys\n",
    "sys.path.append('../../')\n",
    "sys.path.append('../../../')"
   ]
  },
  {
   "cell_type": "code",
   "execution_count": 84,
   "metadata": {},
   "outputs": [],
   "source": [
    "# import OFRL modules\n",
    "import ofrl\n",
    "from basicgym import BasicEnv\n",
    "from ofrl.dataset import SyntheticDataset\n",
    "from ofrl.policy import OnlineHead\n",
    "from ofrl.ope.online import (\n",
    "    calc_on_policy_policy_value,\n",
    "    visualize_on_policy_policy_value,\n",
    ")\n",
    "\n",
    "# import d3rlpy algorithms\n",
    "from d3rlpy.algos import DiscreteRandomPolicy\n",
    "from d3rlpy.algos import RandomPolicy as ContinuousRandomPolicy\n",
    "# from d3rlpy.preprocessing import MinMaxScaler, MinMaxActionScaler\n",
    "from ofrl.utils import MinMaxScaler, MinMaxActionScaler\n",
    "\n",
    "# import from other libraries\n",
    "import gym\n",
    "import torch\n",
    "from sklearn.model_selection import train_test_split"
   ]
  },
  {
   "cell_type": "code",
   "execution_count": 85,
   "metadata": {},
   "outputs": [],
   "source": [
    "import pickle\n",
    "from glob import glob\n",
    "from tqdm import tqdm\n",
    "\n",
    "import numpy as np\n",
    "import pandas as pd\n",
    "\n",
    "import matplotlib.pyplot as plt\n",
    "import seaborn as sns\n",
    "\n",
    "%matplotlib inline"
   ]
  },
  {
   "cell_type": "code",
   "execution_count": 86,
   "metadata": {},
   "outputs": [
    {
     "name": "stdout",
     "output_type": "stream",
     "text": [
      "0.0.0\n"
     ]
    }
   ],
   "source": [
    "# version\n",
    "print(ofrl.__version__)"
   ]
  },
  {
   "cell_type": "code",
   "execution_count": 87,
   "metadata": {},
   "outputs": [],
   "source": [
    "# set random state\n",
    "random_state = 12345"
   ]
  },
  {
   "cell_type": "code",
   "execution_count": 88,
   "metadata": {},
   "outputs": [],
   "source": [
    "# log directory\n",
    "from pathlib import Path\n",
    "Path(\"logs/\").mkdir(exist_ok=True)"
   ]
  },
  {
   "attachments": {},
   "cell_type": "markdown",
   "metadata": {},
   "source": [
    "## 0. (Setup Synthetic Basic Simulation Environment and Online RL)\n",
    "To begin with, we briefly describe the basic usage of the environment.\n",
    "\n",
    "#### RL setup for Basic Synthetic\n",
    "In Basic Synthetic, the objective of the RL agent is to maximize reward.\n",
    "\n",
    "We often formulate this synthetic  problem as the following (Partially Observable) Markov Decision Process ((PO)MDP):\n",
    "- `state`: State observation, which may be noisy in POMDPs.\n",
    "- `action`:  Indicating the action to presented by the RL agent.\n",
    "- `reward`: Reward observation.\n",
    "\n",
    "For more about the environmental configuration , please refer to [examples/quickstart/basic/basic_synthetic_customize_env.ipynb](https://github.com/negocia-inc/ofrl/blob/ope/examples/quickstart/basic/basic_synthetic_customize_env.ipynb).\n",
    "\n",
    "Let's see how it works!"
   ]
  },
  {
   "cell_type": "code",
   "execution_count": 89,
   "metadata": {},
   "outputs": [],
   "source": [
    "# setup environment\n",
    "env = BasicEnv(random_state=random_state)"
   ]
  },
  {
   "cell_type": "code",
   "execution_count": 90,
   "metadata": {},
   "outputs": [],
   "source": [
    "# define a random agent\n",
    "agent = OnlineHead(\n",
    "    ContinuousRandomPolicy(\n",
    "        action_scaler=MinMaxActionScaler(\n",
    "            minimum=env.action_space.low,  # minimum value that policy can take\n",
    "            maximum=env.action_space.high,  # maximum value that policy can take\n",
    "        )\n",
    "    ),\n",
    "    name=\"random\",\n",
    ")"
   ]
  },
  {
   "cell_type": "code",
   "execution_count": 91,
   "metadata": {},
   "outputs": [],
   "source": [
    "# interact agent with the environment\n",
    "# only 6 lines are needed for RL interaction\n",
    "for episode in range(10):\n",
    "    obs, info = env.reset()\n",
    "    done = False\n",
    "\n",
    "    while not done:\n",
    "        action = agent.predict_online(obs)\n",
    "        obs, reward, done, truncated, info = env.step(action)"
   ]
  },
  {
   "cell_type": "code",
   "execution_count": 92,
   "metadata": {},
   "outputs": [
    {
     "name": "stdout",
     "output_type": "stream",
     "text": [
      "[-0.37164978 -0.49943402  0.36963097 -0.28399277 -0.62862005]\n",
      "(5,)\n"
     ]
    }
   ],
   "source": [
    "# state\n",
    "print(obs)\n",
    "print(obs.shape)"
   ]
  },
  {
   "cell_type": "code",
   "execution_count": 93,
   "metadata": {},
   "outputs": [
    {
     "data": {
      "image/png": "[encoded data removed]",
      "text/plain": [
       "<Figure size 640x480 with 1 Axes>"
      ]
     },
     "metadata": {},
     "output_type": "display_data"
    }
   ],
   "source": [
    "# let's visualize the transition of reward\n",
    "obs, info = env.reset()\n",
    "done = False\n",
    "reward_list = []\n",
    "\n",
    "while not done:\n",
    "    action = agent.sample_action_online(obs)\n",
    "    obs, reward, done, truncated, info = env.step(action)\n",
    "    reward_list.append(reward)\n",
    "\n",
    "# plot\n",
    "fig = plt.figure()\n",
    "ax1 = fig.add_subplot(111)\n",
    "ax1.plot(reward_list[:-1], label='reward', color='tab:orange')\n",
    "ax1.set_xlabel('timestep')\n",
    "ax1.set_ylabel('reward')\n",
    "ax1.legend(loc='upper left')\n",
    "plt.show()"
   ]
  },
  {
   "attachments": {},
   "cell_type": "markdown",
   "metadata": {},
   "source": [
    "We see that the random policy run out the budget quickly.  \n",
    "Our goal is to derive a policy that controls the adjust rate (i.e., action) to maximize the reward within the given budget constraints.\n",
    "\n",
    "For more about the environmental configurations and customization, please refer to [examples/quickstart/basic/basic_synthetic_customize_env.ipynb](https://github.com/negocia-inc/ofrl/blob/ope/examples/quickstart/basic/basic_synthetic_customize_env.ipynb)."
   ]
  },
  {
   "cell_type": "markdown",
   "metadata": {},
   "source": [
    "#### Online RL and comparison of the policies\n",
    "We now learn an online RL policy and compare it to the random policy, using on-policy policy estimation."
   ]
  },
  {
   "cell_type": "code",
   "execution_count": 94,
   "metadata": {},
   "outputs": [],
   "source": [
    "# standardized environment for discrete action\n",
    "env = gym.make(\"BasicEnv-discrete-v0\")"
   ]
  },
  {
   "cell_type": "code",
   "execution_count": 95,
   "metadata": {},
   "outputs": [],
   "source": [
    "# for api compatibility to d3rlpy\n",
    "from ofrl.utils import OldGymAPIWrapper\n",
    "env_ = OldGymAPIWrapper(env)"
   ]
  },
  {
   "cell_type": "code",
   "execution_count": 96,
   "metadata": {},
   "outputs": [],
   "source": [
    "from d3rlpy.algos import DoubleDQN\n",
    "from d3rlpy.models.encoders import VectorEncoderFactory\n",
    "from d3rlpy.models.q_functions import MeanQFunctionFactory\n",
    "from d3rlpy.online.buffers import ReplayBuffer\n",
    "from d3rlpy.online.explorers import LinearDecayEpsilonGreedy\n",
    "\n",
    "# model\n",
    "ddqn = DoubleDQN(\n",
    "    encoder_factory=VectorEncoderFactory(hidden_units=[30, 30]),\n",
    "    q_func_factory=MeanQFunctionFactory(),\n",
    "    target_update_interval=100,\n",
    "    use_gpu=torch.cuda.is_available(),\n",
    ")\n",
    "# replay buffer\n",
    "buffer = ReplayBuffer(\n",
    "    maxlen=10000,\n",
    "    env=env_,\n",
    ")\n",
    "# explorers\n",
    "explorer = LinearDecayEpsilonGreedy(\n",
    "    start_epsilon=1.0,\n",
    "    end_epsilon=0.3,\n",
    "    duration=1000,\n",
    ")"
   ]
  },
  {
   "cell_type": "code",
   "execution_count": 97,
   "metadata": {},
   "outputs": [
    {
     "name": "stdout",
     "output_type": "stream",
     "text": [
      "2023-03-28 17:55.28 [info     ] Directory is created at d3rlpy_logs/DoubleDQN_online_20230328175528\n",
      "2023-03-28 17:55.28 [debug    ] Building model...\n",
      "2023-03-28 17:55.28 [debug    ] Model has been built.\n",
      "2023-03-28 17:55.28 [info     ] Parameters are saved to d3rlpy_logs/DoubleDQN_online_20230328175528/params.json params={'action_scaler': None, 'batch_size': 32, 'encoder_factory': {'type': 'vector', 'params': {'hidden_units': [30, 30], 'activation': 'relu', 'use_batch_norm': False, 'dropout_rate': None, 'use_dense': False}}, 'gamma': 0.99, 'generated_maxlen': 100000, 'learning_rate': 6.25e-05, 'n_critics': 1, 'n_frames': 1, 'n_steps': 1, 'optim_factory': {'optim_cls': 'Adam', 'betas': (0.9, 0.999), 'eps': 1e-08, 'weight_decay': 0, 'amsgrad': False}, 'q_func_factory': {'type': 'mean', 'params': {'share_encoder': False}}, 'real_ratio': 1.0, 'reward_scaler': None, 'scaler': None, 'target_update_interval': 100, 'use_gpu': None, 'algorithm': 'DoubleDQN', 'observation_shape': (5,), 'action_size': 10}\n"
     ]
    },
    {
     "data": {
      "application/vnd.jupyter.widget-view+json": {
       "model_id": "37d8990b33c341379f7447bdb43c71fb",
       "version_major": 2,
       "version_minor": 0
      },
      "text/plain": [
       "  0%|          | 0/100000 [00:00<?, ?it/s]"
      ]
     },
     "metadata": {},
     "output_type": "display_data"
    },
    {
     "name": "stdout",
     "output_type": "stream",
     "text": [
      "2023-03-28 17:55.28 [info     ] Model parameters are saved to d3rlpy_logs/DoubleDQN_online_20230328175528/model_1000.pt\n",
      "2023-03-28 17:55.28 [info     ] DoubleDQN_online_20230328175528: epoch=1 step=1000 epoch=1 metrics={'time_inference': 0.00012638497352600097, 'time_environment_step': 2.6944875717163086e-05, 'time_step': 0.00016220855712890624, 'rollout_return': 1.7380086958042507, 'evaluation': 2.868117610266231} step=1000\n",
      "2023-03-28 17:55.29 [info     ] Model parameters are saved to d3rlpy_logs/DoubleDQN_online_20230328175528/model_2000.pt\n",
      "2023-03-28 17:55.29 [info     ] DoubleDQN_online_20230328175528: epoch=2 step=2000 epoch=2 metrics={'time_inference': 0.00013589692115783693, 'time_environment_step': 3.3462762832641604e-05, 'time_sample_batch': 2.9297351837158204e-05, 'time_algorithm_update': 0.0007007169723510742, 'loss': 0.07526895974949002, 'time_step': 0.0009157507419586181, 'rollout_return': 2.430079383384444, 'evaluation': 3.190989714020006} step=2000\n",
      "2023-03-28 17:55.30 [info     ] Model parameters are saved to d3rlpy_logs/DoubleDQN_online_20230328175528/model_3000.pt\n",
      "2023-03-28 17:55.30 [info     ] DoubleDQN_online_20230328175528: epoch=3 step=3000 epoch=3 metrics={'time_inference': 0.00015533924102783202, 'time_environment_step': 3.95205020904541e-05, 'time_sample_batch': 3.607797622680664e-05, 'time_algorithm_update': 0.0007949440479278565, 'loss': 0.16237700228765606, 'time_step': 0.0010457282066345215, 'rollout_return': 3.3722090580914483, 'evaluation': 4.589226492742506} step=3000\n",
      "2023-03-28 17:55.31 [info     ] Model parameters are saved to d3rlpy_logs/DoubleDQN_online_20230328175528/model_4000.pt\n",
      "2023-03-28 17:55.31 [info     ] DoubleDQN_online_20230328175528: epoch=4 step=4000 epoch=4 metrics={'time_inference': 0.00013815855979919435, 'time_environment_step': 3.43320369720459e-05, 'time_sample_batch': 3.236603736877441e-05, 'time_algorithm_update': 0.0006662538051605225, 'loss': 0.4239745883718133, 'time_step': 0.0008882162570953369, 'rollout_return': 4.038246959351171, 'evaluation': 4.467659611434544} step=4000\n",
      "2023-03-28 17:55.32 [info     ] Model parameters are saved to d3rlpy_logs/DoubleDQN_online_20230328175528/model_5000.pt\n",
      "2023-03-28 17:55.32 [info     ] DoubleDQN_online_20230328175528: epoch=5 step=5000 epoch=5 metrics={'time_inference': 0.00013817930221557618, 'time_environment_step': 3.416633605957031e-05, 'time_sample_batch': 3.247380256652832e-05, 'time_algorithm_update': 0.0006984691619873047, 'loss': 0.90278125859797, 'time_step': 0.0009202344417572021, 'rollout_return': 4.020407367213602, 'evaluation': 5.174476637937729} step=5000\n",
      "2023-03-28 17:55.33 [info     ] Model parameters are saved to d3rlpy_logs/DoubleDQN_online_20230328175528/model_6000.pt\n",
      "2023-03-28 17:55.33 [info     ] DoubleDQN_online_20230328175528: epoch=6 step=6000 epoch=6 metrics={'time_inference': 0.00013214492797851562, 'time_environment_step': 3.218507766723633e-05, 'time_sample_batch': 3.088545799255371e-05, 'time_algorithm_update': 0.0006367392539978027, 'loss': 1.4606539126262068, 'time_step': 0.0008477144241333008, 'rollout_return': 4.472680373525599, 'evaluation': 6.301205924223099} step=6000\n",
      "2023-03-28 17:55.34 [info     ] Model parameters are saved to d3rlpy_logs/DoubleDQN_online_20230328175528/model_7000.pt\n",
      "2023-03-28 17:55.34 [info     ] DoubleDQN_online_20230328175528: epoch=7 step=7000 epoch=7 metrics={'time_inference': 0.00013263440132141113, 'time_environment_step': 3.2608985900878904e-05, 'time_sample_batch': 3.160667419433594e-05, 'time_algorithm_update': 0.0006436014175415039, 'loss': 2.093944940507412, 'time_step': 0.0008565301895141601, 'rollout_return': 4.9681826865473875, 'evaluation': 6.341012105603501} step=7000\n",
      "2023-03-28 17:55.35 [info     ] Model parameters are saved to d3rlpy_logs/DoubleDQN_online_20230328175528/model_8000.pt\n",
      "2023-03-28 17:55.35 [info     ] DoubleDQN_online_20230328175528: epoch=8 step=8000 epoch=8 metrics={'time_inference': 0.00013944530487060546, 'time_environment_step': 3.457427024841308e-05, 'time_sample_batch': 3.3420801162719725e-05, 'time_algorithm_update': 0.0006840415000915527, 'loss': 2.7632027961313725, 'time_step': 0.0009086732864379883, 'rollout_return': 5.030482349242852, 'evaluation': 6.342724963056751} step=8000\n",
      "2023-03-28 17:55.36 [info     ] Model parameters are saved to d3rlpy_logs/DoubleDQN_online_20230328175528/model_9000.pt\n",
      "2023-03-28 17:55.36 [info     ] DoubleDQN_online_20230328175528: epoch=9 step=9000 epoch=9 metrics={'time_inference': 0.00014026594161987304, 'time_environment_step': 3.484678268432617e-05, 'time_sample_batch': 3.55381965637207e-05, 'time_algorithm_update': 0.0006849331855773926, 'loss': 3.4638057173639534, 'time_step': 0.0009133670330047607, 'rollout_return': 5.0786569220252975, 'evaluation': 6.418258806633853} step=9000\n",
      "2023-03-28 17:55.37 [info     ] Model parameters are saved to d3rlpy_logs/DoubleDQN_online_20230328175528/model_10000.pt\n",
      "2023-03-28 17:55.37 [info     ] DoubleDQN_online_20230328175528: epoch=10 step=10000 epoch=10 metrics={'time_inference': 0.0001362755298614502, 'time_environment_step': 3.44696044921875e-05, 'time_sample_batch': 3.422260284423828e-05, 'time_algorithm_update': 0.0006669878959655762, 'loss': 3.9837522938847543, 'time_step': 0.0008892354965209961, 'rollout_return': 4.9901370130337845, 'evaluation': 7.106942565114792} step=10000\n",
      "2023-03-28 17:55.38 [info     ] Model parameters are saved to d3rlpy_logs/DoubleDQN_online_20230328175528/model_11000.pt\n",
      "2023-03-28 17:55.38 [info     ] DoubleDQN_online_20230328175528: epoch=11 step=11000 epoch=11 metrics={'time_inference': 0.0001584022045135498, 'time_environment_step': 4.078364372253418e-05, 'time_sample_batch': 3.9972543716430667e-05, 'time_algorithm_update': 0.0008229787349700927, 'loss': 4.433891388475895, 'time_step': 0.0010833323001861572, 'rollout_return': 4.949094869622202, 'evaluation': 6.238763826432455} step=11000\n",
      "2023-03-28 17:55.39 [info     ] Model parameters are saved to d3rlpy_logs/DoubleDQN_online_20230328175528/model_12000.pt\n",
      "2023-03-28 17:55.39 [info     ] DoubleDQN_online_20230328175528: epoch=12 step=12000 epoch=12 metrics={'time_inference': 0.0001425004005432129, 'time_environment_step': 3.63161563873291e-05, 'time_sample_batch': 3.621387481689453e-05, 'time_algorithm_update': 0.0007058370113372802, 'loss': 4.906943422973156, 'time_step': 0.0009398262500762939, 'rollout_return': 5.055815531452358, 'evaluation': 6.399010856564855} step=12000\n",
      "2023-03-28 17:55.39 [info     ] Model parameters are saved to d3rlpy_logs/DoubleDQN_online_20230328175528/model_13000.pt\n",
      "2023-03-28 17:55.39 [info     ] DoubleDQN_online_20230328175528: epoch=13 step=13000 epoch=13 metrics={'time_inference': 0.00013351845741271974, 'time_environment_step': 3.307938575744629e-05, 'time_sample_batch': 3.301382064819336e-05, 'time_algorithm_update': 0.0006471328735351562, 'loss': 5.373852428972721, 'time_step': 0.0008638617992401123, 'rollout_return': 5.122117873613266, 'evaluation': 6.497241771949097} step=13000\n",
      "2023-03-28 17:55.40 [info     ] Model parameters are saved to d3rlpy_logs/DoubleDQN_online_20230328175528/model_14000.pt\n",
      "2023-03-28 17:55.40 [info     ] DoubleDQN_online_20230328175528: epoch=14 step=14000 epoch=14 metrics={'time_inference': 0.00014551472663879394, 'time_environment_step': 3.504157066345215e-05, 'time_sample_batch': 4.004931449890137e-05, 'time_algorithm_update': 0.0006942322254180908, 'loss': 5.6084788116514686, 'time_step': 0.0009339351654052735, 'rollout_return': 5.322906424127791, 'evaluation': 9.039091766702029} step=14000\n",
      "2023-03-28 17:55.41 [info     ] Model parameters are saved to d3rlpy_logs/DoubleDQN_online_20230328175528/model_15000.pt\n",
      "2023-03-28 17:55.41 [info     ] DoubleDQN_online_20230328175528: epoch=15 step=15000 epoch=15 metrics={'time_inference': 0.00013602328300476075, 'time_environment_step': 3.410077095031738e-05, 'time_sample_batch': 3.5734891891479495e-05, 'time_algorithm_update': 0.0006612310409545898, 'loss': 5.840062466382981, 'time_step': 0.000885326623916626, 'rollout_return': 6.117761806599744, 'evaluation': 9.006341100819707} step=15000\n",
      "2023-03-28 17:55.42 [info     ] Model parameters are saved to d3rlpy_logs/DoubleDQN_online_20230328175528/model_16000.pt\n",
      "2023-03-28 17:55.42 [info     ] DoubleDQN_online_20230328175528: epoch=16 step=16000 epoch=16 metrics={'time_inference': 0.00012819600105285644, 'time_environment_step': 3.126192092895508e-05, 'time_sample_batch': 3.141093254089356e-05, 'time_algorithm_update': 0.0006206929683685303, 'loss': 6.28129432696104, 'time_step': 0.0008276135921478271, 'rollout_return': 6.691725013975631, 'evaluation': 9.352832761581274} step=16000\n",
      "2023-03-28 17:55.43 [info     ] Model parameters are saved to d3rlpy_logs/DoubleDQN_online_20230328175528/model_17000.pt\n",
      "2023-03-28 17:55.43 [info     ] DoubleDQN_online_20230328175528: epoch=17 step=17000 epoch=17 metrics={'time_inference': 0.00012954950332641602, 'time_environment_step': 3.133106231689453e-05, 'time_sample_batch': 3.114843368530273e-05, 'time_algorithm_update': 0.000625476360321045, 'loss': 6.712726591162384, 'time_step': 0.0008335659503936767, 'rollout_return': 6.945463436573545, 'evaluation': 9.49828312015663} step=17000\n",
      "2023-03-28 17:55.44 [info     ] Model parameters are saved to d3rlpy_logs/DoubleDQN_online_20230328175528/model_18000.pt\n",
      "2023-03-28 17:55.44 [info     ] DoubleDQN_online_20230328175528: epoch=18 step=18000 epoch=18 metrics={'time_inference': 0.00012810206413269042, 'time_environment_step': 3.100967407226562e-05, 'time_sample_batch': 3.0777454376220704e-05, 'time_algorithm_update': 0.000613574743270874, 'loss': 7.437548866271973, 'time_step': 0.0008193318843841553, 'rollout_return': 7.0162082669198025, 'evaluation': 9.459360324717489} step=18000\n",
      "2023-03-28 17:55.45 [info     ] Model parameters are saved to d3rlpy_logs/DoubleDQN_online_20230328175528/model_19000.pt\n",
      "2023-03-28 17:55.45 [info     ] DoubleDQN_online_20230328175528: epoch=19 step=19000 epoch=19 metrics={'time_inference': 0.00012853097915649413, 'time_environment_step': 3.1328201293945314e-05, 'time_sample_batch': 3.14023494720459e-05, 'time_algorithm_update': 0.0006165659427642822, 'loss': 8.064185410618782, 'time_step': 0.000823948621749878, 'rollout_return': 7.079258667104974, 'evaluation': 9.38236525857922} step=19000\n",
      "2023-03-28 17:55.46 [info     ] Model parameters are saved to d3rlpy_logs/DoubleDQN_online_20230328175528/model_20000.pt\n",
      "2023-03-28 17:55.46 [info     ] DoubleDQN_online_20230328175528: epoch=20 step=20000 epoch=20 metrics={'time_inference': 0.00012694478034973146, 'time_environment_step': 3.102493286132812e-05, 'time_sample_batch': 3.0867815017700194e-05, 'time_algorithm_update': 0.0006160249710083007, 'loss': 8.744277523614466, 'time_step': 0.0008207519054412842, 'rollout_return': 6.952868361310205, 'evaluation': 9.544583861147645} step=20000\n",
      "2023-03-28 17:55.46 [info     ] Model parameters are saved to d3rlpy_logs/DoubleDQN_online_20230328175528/model_21000.pt\n",
      "2023-03-28 17:55.46 [info     ] DoubleDQN_online_20230328175528: epoch=21 step=21000 epoch=21 metrics={'time_inference': 0.00012689042091369629, 'time_environment_step': 3.12042236328125e-05, 'time_sample_batch': 3.1039953231811524e-05, 'time_algorithm_update': 0.0006178054809570313, 'loss': 9.010112045258284, 'time_step': 0.0008228745460510254, 'rollout_return': 6.687706119216383, 'evaluation': 9.451035350939396} step=21000\n",
      "2023-03-28 17:55.47 [info     ] Model parameters are saved to d3rlpy_logs/DoubleDQN_online_20230328175528/model_22000.pt\n",
      "2023-03-28 17:55.47 [info     ] DoubleDQN_online_20230328175528: epoch=22 step=22000 epoch=22 metrics={'time_inference': 0.00013015294075012206, 'time_environment_step': 3.198647499084473e-05, 'time_sample_batch': 3.159093856811524e-05, 'time_algorithm_update': 0.0006240386962890625, 'loss': 9.707894351005555, 'time_step': 0.0008341073989868164, 'rollout_return': 6.772037974750699, 'evaluation': 9.347337098857933} step=22000\n",
      "2023-03-28 17:55.48 [info     ] Model parameters are saved to d3rlpy_logs/DoubleDQN_online_20230328175528/model_23000.pt\n",
      "2023-03-28 17:55.48 [info     ] DoubleDQN_online_20230328175528: epoch=23 step=23000 epoch=23 metrics={'time_inference': 0.00013013219833374023, 'time_environment_step': 3.109550476074219e-05, 'time_sample_batch': 3.12035083770752e-05, 'time_algorithm_update': 0.0006164555549621582, 'loss': 9.804951443031431, 'time_step': 0.000824826955795288, 'rollout_return': 6.942036342221263, 'evaluation': 9.335763828992063} step=23000\n",
      "2023-03-28 17:55.49 [info     ] Model parameters are saved to d3rlpy_logs/DoubleDQN_online_20230328175528/model_24000.pt\n",
      "2023-03-28 17:55.49 [info     ] DoubleDQN_online_20230328175528: epoch=24 step=24000 epoch=24 metrics={'time_inference': 0.00012770128250122072, 'time_environment_step': 3.1226158142089846e-05, 'time_sample_batch': 3.1218767166137696e-05, 'time_algorithm_update': 0.0006161384582519531, 'loss': 10.124632743276656, 'time_step': 0.0008222284317016601, 'rollout_return': 6.72799956672823, 'evaluation': 9.375137344482454} step=24000\n",
      "2023-03-28 17:55.50 [info     ] Model parameters are saved to d3rlpy_logs/DoubleDQN_online_20230328175528/model_25000.pt\n",
      "2023-03-28 17:55.50 [info     ] DoubleDQN_online_20230328175528: epoch=25 step=25000 epoch=25 metrics={'time_inference': 0.0001296565532684326, 'time_environment_step': 3.155136108398438e-05, 'time_sample_batch': 3.160881996154785e-05, 'time_algorithm_update': 0.0006260709762573242, 'loss': 10.275459385752677, 'time_step': 0.0008351387977600098, 'rollout_return': 6.589593108181114, 'evaluation': 9.313796371959786} step=25000\n",
      "2023-03-28 17:55.51 [info     ] Model parameters are saved to d3rlpy_logs/DoubleDQN_online_20230328175528/model_26000.pt\n",
      "2023-03-28 17:55.51 [info     ] DoubleDQN_online_20230328175528: epoch=26 step=26000 epoch=26 metrics={'time_inference': 0.00012586832046508788, 'time_environment_step': 3.084778785705566e-05, 'time_sample_batch': 3.08537483215332e-05, 'time_algorithm_update': 0.000613065481185913, 'loss': 10.433837080836296, 'time_step': 0.0008165502548217774, 'rollout_return': 6.498294485662053, 'evaluation': 9.266590091065344} step=26000\n",
      "2023-03-28 17:55.52 [info     ] Model parameters are saved to d3rlpy_logs/DoubleDQN_online_20230328175528/model_27000.pt\n",
      "2023-03-28 17:55.52 [info     ] DoubleDQN_online_20230328175528: epoch=27 step=27000 epoch=27 metrics={'time_inference': 0.00012599945068359375, 'time_environment_step': 3.096246719360352e-05, 'time_sample_batch': 3.079342842102051e-05, 'time_algorithm_update': 0.0006131954193115234, 'loss': 10.580265422277153, 'time_step': 0.0008168001174926758, 'rollout_return': 6.52945546358232, 'evaluation': 9.367445578781801} step=27000\n",
      "2023-03-28 17:55.52 [info     ] Model parameters are saved to d3rlpy_logs/DoubleDQN_online_20230328175528/model_28000.pt\n",
      "2023-03-28 17:55.52 [info     ] DoubleDQN_online_20230328175528: epoch=28 step=28000 epoch=28 metrics={'time_inference': 0.0001268329620361328, 'time_environment_step': 3.0860424041748044e-05, 'time_sample_batch': 3.066086769104004e-05, 'time_algorithm_update': 0.0006110727787017822, 'loss': 10.6403471711874, 'time_step': 0.0008153004646301269, 'rollout_return': 6.501287931740364, 'evaluation': 9.29898316687473} step=28000\n",
      "2023-03-28 17:55.53 [info     ] Model parameters are saved to d3rlpy_logs/DoubleDQN_online_20230328175528/model_29000.pt\n",
      "2023-03-28 17:55.53 [info     ] DoubleDQN_online_20230328175528: epoch=29 step=29000 epoch=29 metrics={'time_inference': 0.00012865304946899414, 'time_environment_step': 3.1255483627319336e-05, 'time_sample_batch': 3.136992454528808e-05, 'time_algorithm_update': 0.0006138775348663331, 'loss': 10.815129644751549, 'time_step': 0.0008213918209075928, 'rollout_return': 6.764558808671848, 'evaluation': 9.503978551478376} step=29000\n",
      "2023-03-28 17:55.54 [info     ] Model parameters are saved to d3rlpy_logs/DoubleDQN_online_20230328175528/model_30000.pt\n",
      "2023-03-28 17:55.54 [info     ] DoubleDQN_online_20230328175528: epoch=30 step=30000 epoch=30 metrics={'time_inference': 0.00012658953666687013, 'time_environment_step': 3.0778169631958005e-05, 'time_sample_batch': 3.114199638366699e-05, 'time_algorithm_update': 0.0006134650707244874, 'loss': 10.890891433119775, 'time_step': 0.00081787109375, 'rollout_return': 6.545901440176502, 'evaluation': 9.364009418036492} step=30000\n",
      "2023-03-28 17:55.55 [info     ] Model parameters are saved to d3rlpy_logs/DoubleDQN_online_20230328175528/model_31000.pt\n",
      "2023-03-28 17:55.55 [info     ] DoubleDQN_online_20230328175528: epoch=31 step=31000 epoch=31 metrics={'time_inference': 0.00012761425971984864, 'time_environment_step': 3.103899955749512e-05, 'time_sample_batch': 3.0931234359741214e-05, 'time_algorithm_update': 0.0006128618717193604, 'loss': 10.787657963633537, 'time_step': 0.0008184270858764648, 'rollout_return': 6.5424782268470665, 'evaluation': 9.249475386253696} step=31000\n",
      "2023-03-28 17:55.56 [info     ] Model parameters are saved to d3rlpy_logs/DoubleDQN_online_20230328175528/model_32000.pt\n",
      "2023-03-28 17:55.56 [info     ] DoubleDQN_online_20230328175528: epoch=32 step=32000 epoch=32 metrics={'time_inference': 0.00012603020668029786, 'time_environment_step': 3.109240531921387e-05, 'time_sample_batch': 3.0617237091064455e-05, 'time_algorithm_update': 0.0006101438999176025, 'loss': 10.715572306036949, 'time_step': 0.0008136782646179199, 'rollout_return': 6.58937986407325, 'evaluation': 9.023050057548398} step=32000\n",
      "2023-03-28 17:55.57 [info     ] Model parameters are saved to d3rlpy_logs/DoubleDQN_online_20230328175528/model_33000.pt\n",
      "2023-03-28 17:55.57 [info     ] DoubleDQN_online_20230328175528: epoch=33 step=33000 epoch=33 metrics={'time_inference': 0.00012670850753784179, 'time_environment_step': 3.0964136123657224e-05, 'time_sample_batch': 3.082656860351562e-05, 'time_algorithm_update': 0.0006104028224945069, 'loss': 10.826482798054814, 'time_step': 0.0008147454261779785, 'rollout_return': 6.558574574511824, 'evaluation': 9.145209289474021} step=33000\n",
      "2023-03-28 17:55.57 [info     ] Model parameters are saved to d3rlpy_logs/DoubleDQN_online_20230328175528/model_34000.pt\n",
      "2023-03-28 17:55.57 [info     ] DoubleDQN_online_20230328175528: epoch=34 step=34000 epoch=34 metrics={'time_inference': 0.00012682366371154785, 'time_environment_step': 3.0807018280029297e-05, 'time_sample_batch': 3.078794479370117e-05, 'time_algorithm_update': 0.0006095061302185059, 'loss': 10.955344744622707, 'time_step': 0.00081376051902771, 'rollout_return': 6.750219131106878, 'evaluation': 9.192116622381018} step=34000\n",
      "2023-03-28 17:55.58 [info     ] Model parameters are saved to d3rlpy_logs/DoubleDQN_online_20230328175528/model_35000.pt\n",
      "2023-03-28 17:55.58 [info     ] DoubleDQN_online_20230328175528: epoch=35 step=35000 epoch=35 metrics={'time_inference': 0.00012796711921691893, 'time_environment_step': 3.083014488220215e-05, 'time_sample_batch': 3.09295654296875e-05, 'time_algorithm_update': 0.0006084048748016358, 'loss': 11.004149315431714, 'time_step': 0.0008139142990112305, 'rollout_return': 6.715617674269607, 'evaluation': 9.420156874674275} step=35000\n",
      "2023-03-28 17:55.59 [info     ] Model parameters are saved to d3rlpy_logs/DoubleDQN_online_20230328175528/model_36000.pt\n",
      "2023-03-28 17:55.59 [info     ] DoubleDQN_online_20230328175528: epoch=36 step=36000 epoch=36 metrics={'time_inference': 0.00012926459312438964, 'time_environment_step': 3.131413459777832e-05, 'time_sample_batch': 3.108596801757812e-05, 'time_algorithm_update': 0.0006201121807098388, 'loss': 10.923452237725257, 'time_step': 0.0008278915882110596, 'rollout_return': 6.444497832956054, 'evaluation': 9.443234522690467} step=36000\n",
      "2023-03-28 17:56.00 [info     ] Model parameters are saved to d3rlpy_logs/DoubleDQN_online_20230328175528/model_37000.pt\n",
      "2023-03-28 17:56.00 [info     ] DoubleDQN_online_20230328175528: epoch=37 step=37000 epoch=37 metrics={'time_inference': 0.00012778759002685547, 'time_environment_step': 3.0999422073364255e-05, 'time_sample_batch': 3.090834617614746e-05, 'time_algorithm_update': 0.0006152000427246093, 'loss': 11.040889979362488, 'time_step': 0.0008208529949188233, 'rollout_return': 6.672322687918876, 'evaluation': 9.340192460867284} step=37000\n",
      "2023-03-28 17:56.01 [info     ] Model parameters are saved to d3rlpy_logs/DoubleDQN_online_20230328175528/model_38000.pt\n",
      "2023-03-28 17:56.01 [info     ] DoubleDQN_online_20230328175528: epoch=38 step=38000 epoch=38 metrics={'time_inference': 0.00012688279151916503, 'time_environment_step': 3.09603214263916e-05, 'time_sample_batch': 3.0760765075683596e-05, 'time_algorithm_update': 0.0006978268623352051, 'loss': 10.817511083722115, 'time_step': 0.0009023594856262207, 'rollout_return': 6.673977612427369, 'evaluation': 9.46747760782153} step=38000\n",
      "2023-03-28 17:56.02 [info     ] Model parameters are saved to d3rlpy_logs/DoubleDQN_online_20230328175528/model_39000.pt\n",
      "2023-03-28 17:56.02 [info     ] DoubleDQN_online_20230328175528: epoch=39 step=39000 epoch=39 metrics={'time_inference': 0.00012772107124328614, 'time_environment_step': 3.088951110839844e-05, 'time_sample_batch': 3.063535690307617e-05, 'time_algorithm_update': 0.0006084413528442382, 'loss': 10.962326695434749, 'time_step': 0.0008134684562683106, 'rollout_return': 6.659171942525915, 'evaluation': 9.49844856886843} step=39000\n",
      "2023-03-28 17:56.03 [info     ] Model parameters are saved to d3rlpy_logs/DoubleDQN_online_20230328175528/model_40000.pt\n",
      "2023-03-28 17:56.03 [info     ] DoubleDQN_online_20230328175528: epoch=40 step=40000 epoch=40 metrics={'time_inference': 0.00012576961517333983, 'time_environment_step': 3.106069564819336e-05, 'time_sample_batch': 3.095579147338867e-05, 'time_algorithm_update': 0.0006120870113372803, 'loss': 10.94029427075386, 'time_step': 0.0008158164024353028, 'rollout_return': 6.633553288464201, 'evaluation': 9.515233309711338} step=40000\n",
      "2023-03-28 17:56.03 [info     ] Model parameters are saved to d3rlpy_logs/DoubleDQN_online_20230328175528/model_41000.pt\n",
      "2023-03-28 17:56.03 [info     ] DoubleDQN_online_20230328175528: epoch=41 step=41000 epoch=41 metrics={'time_inference': 0.00012652587890625, 'time_environment_step': 3.100442886352539e-05, 'time_sample_batch': 3.113293647766113e-05, 'time_algorithm_update': 0.0006106598377227783, 'loss': 10.727847771883011, 'time_step': 0.0008151752948760986, 'rollout_return': 6.802298477639252, 'evaluation': 9.33514208691883} step=41000\n",
      "2023-03-28 17:56.04 [info     ] Model parameters are saved to d3rlpy_logs/DoubleDQN_online_20230328175528/model_42000.pt\n",
      "2023-03-28 17:56.04 [info     ] DoubleDQN_online_20230328175528: epoch=42 step=42000 epoch=42 metrics={'time_inference': 0.00012582755088806153, 'time_environment_step': 3.083300590515137e-05, 'time_sample_batch': 3.0743837356567386e-05, 'time_algorithm_update': 0.0006102504730224609, 'loss': 10.932236658751965, 'time_step': 0.0008134407997131348, 'rollout_return': 6.913610324204408, 'evaluation': 9.53314850033161} step=42000\n",
      "2023-03-28 17:56.05 [info     ] Model parameters are saved to d3rlpy_logs/DoubleDQN_online_20230328175528/model_43000.pt\n",
      "2023-03-28 17:56.05 [info     ] DoubleDQN_online_20230328175528: epoch=43 step=43000 epoch=43 metrics={'time_inference': 0.00012785911560058593, 'time_environment_step': 3.130578994750977e-05, 'time_sample_batch': 3.1611204147338865e-05, 'time_algorithm_update': 0.0006174325942993164, 'loss': 11.158394708037376, 'time_step': 0.0008242440223693848, 'rollout_return': 6.429704037916343, 'evaluation': 9.372960319295423} step=43000\n",
      "2023-03-28 17:56.06 [info     ] Model parameters are saved to d3rlpy_logs/DoubleDQN_online_20230328175528/model_44000.pt\n",
      "2023-03-28 17:56.06 [info     ] DoubleDQN_online_20230328175528: epoch=44 step=44000 epoch=44 metrics={'time_inference': 0.00012804794311523438, 'time_environment_step': 3.0928850173950194e-05, 'time_sample_batch': 3.1049013137817386e-05, 'time_algorithm_update': 0.000610426664352417, 'loss': 11.079565140303224, 'time_step': 0.0008164241313934326, 'rollout_return': 6.656775009092521, 'evaluation': 9.252941747013285} step=44000\n",
      "2023-03-28 17:56.07 [info     ] Model parameters are saved to d3rlpy_logs/DoubleDQN_online_20230328175528/model_45000.pt\n",
      "2023-03-28 17:56.07 [info     ] DoubleDQN_online_20230328175528: epoch=45 step=45000 epoch=45 metrics={'time_inference': 0.00012623286247253417, 'time_environment_step': 3.0917167663574216e-05, 'time_sample_batch': 3.1006813049316404e-05, 'time_algorithm_update': 0.0006089668273925781, 'loss': 11.00308299601078, 'time_step': 0.0008129286766052246, 'rollout_return': 6.77122438924431, 'evaluation': 9.334231242273447} step=45000\n",
      "2023-03-28 17:56.08 [info     ] Model parameters are saved to d3rlpy_logs/DoubleDQN_online_20230328175528/model_46000.pt\n",
      "2023-03-28 17:56.08 [info     ] DoubleDQN_online_20230328175528: epoch=46 step=46000 epoch=46 metrics={'time_inference': 0.0001271371841430664, 'time_environment_step': 3.081297874450684e-05, 'time_sample_batch': 3.058528900146484e-05, 'time_algorithm_update': 0.0006106703281402588, 'loss': 10.979189219344407, 'time_step': 0.0008150057792663574, 'rollout_return': 6.549642883436645, 'evaluation': 9.216120113243694} step=46000\n",
      "2023-03-28 17:56.08 [info     ] Model parameters are saved to d3rlpy_logs/DoubleDQN_online_20230328175528/model_47000.pt\n",
      "2023-03-28 17:56.08 [info     ] DoubleDQN_online_20230328175528: epoch=47 step=47000 epoch=47 metrics={'time_inference': 0.0001281743049621582, 'time_environment_step': 3.090500831604004e-05, 'time_sample_batch': 3.074502944946289e-05, 'time_algorithm_update': 0.0006098790168762207, 'loss': 10.83198212332651, 'time_step': 0.0008155848979949952, 'rollout_return': 6.74423056479019, 'evaluation': 9.252855428404521} step=47000\n",
      "2023-03-28 17:56.09 [info     ] Model parameters are saved to d3rlpy_logs/DoubleDQN_online_20230328175528/model_48000.pt\n",
      "2023-03-28 17:56.09 [info     ] DoubleDQN_online_20230328175528: epoch=48 step=48000 epoch=48 metrics={'time_inference': 0.00012726616859436035, 'time_environment_step': 3.0765056610107424e-05, 'time_sample_batch': 3.064918518066406e-05, 'time_algorithm_update': 0.0006136996746063233, 'loss': 10.87318365240097, 'time_step': 0.0008181467056274414, 'rollout_return': 6.946210074574794, 'evaluation': 9.49455781173392} step=48000\n",
      "2023-03-28 17:56.10 [info     ] Model parameters are saved to d3rlpy_logs/DoubleDQN_online_20230328175528/model_49000.pt\n",
      "2023-03-28 17:56.10 [info     ] DoubleDQN_online_20230328175528: epoch=49 step=49000 epoch=49 metrics={'time_inference': 0.00012763571739196776, 'time_environment_step': 3.121328353881836e-05, 'time_sample_batch': 3.096842765808105e-05, 'time_algorithm_update': 0.0006160516738891601, 'loss': 11.019185199432075, 'time_step': 0.0008219094276428223, 'rollout_return': 6.907231263625668, 'evaluation': 9.357097713164894} step=49000\n",
      "2023-03-28 17:56.11 [info     ] Model parameters are saved to d3rlpy_logs/DoubleDQN_online_20230328175528/model_50000.pt\n",
      "2023-03-28 17:56.11 [info     ] DoubleDQN_online_20230328175528: epoch=50 step=50000 epoch=50 metrics={'time_inference': 0.00012651491165161134, 'time_environment_step': 3.117513656616211e-05, 'time_sample_batch': 3.1023025512695314e-05, 'time_algorithm_update': 0.0006094961166381835, 'loss': 10.938252724051475, 'time_step': 0.0008141722679138184, 'rollout_return': 6.761252981398196, 'evaluation': 9.36039162721428} step=50000\n",
      "2023-03-28 17:56.12 [info     ] Model parameters are saved to d3rlpy_logs/DoubleDQN_online_20230328175528/model_51000.pt\n",
      "2023-03-28 17:56.12 [info     ] DoubleDQN_online_20230328175528: epoch=51 step=51000 epoch=51 metrics={'time_inference': 0.0001278045177459717, 'time_environment_step': 3.1145811080932615e-05, 'time_sample_batch': 3.0814170837402344e-05, 'time_algorithm_update': 0.0006133110523223877, 'loss': 11.034760161042213, 'time_step': 0.0008190844058990479, 'rollout_return': 6.8638421537312295, 'evaluation': 9.423305162959695} step=51000\n",
      "2023-03-28 17:56.13 [info     ] Model parameters are saved to d3rlpy_logs/DoubleDQN_online_20230328175528/model_52000.pt\n",
      "2023-03-28 17:56.13 [info     ] DoubleDQN_online_20230328175528: epoch=52 step=52000 epoch=52 metrics={'time_inference': 0.0001275980472564697, 'time_environment_step': 3.116226196289063e-05, 'time_sample_batch': 3.0954599380493164e-05, 'time_algorithm_update': 0.0006148681640625, 'loss': 10.996248036384582, 'time_step': 0.0008206253051757813, 'rollout_return': 6.54830803715519, 'evaluation': 9.266320759833658} step=52000\n",
      "2023-03-28 17:56.14 [info     ] Model parameters are saved to d3rlpy_logs/DoubleDQN_online_20230328175528/model_53000.pt\n",
      "2023-03-28 17:56.14 [info     ] DoubleDQN_online_20230328175528: epoch=53 step=53000 epoch=53 metrics={'time_inference': 0.00012776064872741698, 'time_environment_step': 3.1229734420776366e-05, 'time_sample_batch': 3.08692455291748e-05, 'time_algorithm_update': 0.0006115593910217285, 'loss': 11.07126170065999, 'time_step': 0.000817415714263916, 'rollout_return': 6.677215318337732, 'evaluation': 9.465710662718852} step=53000\n",
      "2023-03-28 17:56.14 [info     ] Model parameters are saved to d3rlpy_logs/DoubleDQN_online_20230328175528/model_54000.pt\n",
      "2023-03-28 17:56.14 [info     ] DoubleDQN_online_20230328175528: epoch=54 step=54000 epoch=54 metrics={'time_inference': 0.00012610530853271484, 'time_environment_step': 3.086113929748535e-05, 'time_sample_batch': 3.049588203430176e-05, 'time_algorithm_update': 0.0006093556880950927, 'loss': 11.184849537968635, 'time_step': 0.0008126499652862549, 'rollout_return': 6.650392072598996, 'evaluation': 9.316190740640014} step=54000\n",
      "2023-03-28 17:56.15 [info     ] Model parameters are saved to d3rlpy_logs/DoubleDQN_online_20230328175528/model_55000.pt\n",
      "2023-03-28 17:56.15 [info     ] DoubleDQN_online_20230328175528: epoch=55 step=55000 epoch=55 metrics={'time_inference': 0.00012905836105346678, 'time_environment_step': 3.167986869812012e-05, 'time_sample_batch': 3.12347412109375e-05, 'time_algorithm_update': 0.0006128168106079102, 'loss': 11.018797697663308, 'time_step': 0.0008209748268127442, 'rollout_return': 6.387580194834165, 'evaluation': 9.374473585911643} step=55000\n",
      "2023-03-28 17:56.16 [info     ] Model parameters are saved to d3rlpy_logs/DoubleDQN_online_20230328175528/model_56000.pt\n",
      "2023-03-28 17:56.16 [info     ] DoubleDQN_online_20230328175528: epoch=56 step=56000 epoch=56 metrics={'time_inference': 0.00012946271896362304, 'time_environment_step': 3.127598762512207e-05, 'time_sample_batch': 3.106522560119629e-05, 'time_algorithm_update': 0.0006123020648956299, 'loss': 10.94926932099089, 'time_step': 0.0008201301097869873, 'rollout_return': 7.03227063578873, 'evaluation': 9.215756335085718} step=56000\n",
      "2023-03-28 17:56.17 [info     ] Model parameters are saved to d3rlpy_logs/DoubleDQN_online_20230328175528/model_57000.pt\n",
      "2023-03-28 17:56.17 [info     ] DoubleDQN_online_20230328175528: epoch=57 step=57000 epoch=57 metrics={'time_inference': 0.00013145756721496583, 'time_environment_step': 3.160786628723145e-05, 'time_sample_batch': 3.116297721862793e-05, 'time_algorithm_update': 0.0006166729927062989, 'loss': 11.188068248987198, 'time_step': 0.0008271389007568359, 'rollout_return': 6.68152188375268, 'evaluation': 9.355216011859508} step=57000\n",
      "2023-03-28 17:56.18 [info     ] Model parameters are saved to d3rlpy_logs/DoubleDQN_online_20230328175528/model_58000.pt\n",
      "2023-03-28 17:56.18 [info     ] DoubleDQN_online_20230328175528: epoch=58 step=58000 epoch=58 metrics={'time_inference': 0.0001304788589477539, 'time_environment_step': 3.166484832763672e-05, 'time_sample_batch': 3.113961219787598e-05, 'time_algorithm_update': 0.0006110668182373047, 'loss': 11.028274012804031, 'time_step': 0.0008206124305725098, 'rollout_return': 6.933083580737374, 'evaluation': 9.527593676715524} step=58000\n",
      "2023-03-28 17:56.19 [info     ] Model parameters are saved to d3rlpy_logs/DoubleDQN_online_20230328175528/model_59000.pt\n",
      "2023-03-28 17:56.19 [info     ] DoubleDQN_online_20230328175528: epoch=59 step=59000 epoch=59 metrics={'time_inference': 0.0001307845115661621, 'time_environment_step': 3.166770935058594e-05, 'time_sample_batch': 3.118228912353516e-05, 'time_algorithm_update': 0.0006126644611358643, 'loss': 11.149819707512856, 'time_step': 0.0008225677013397217, 'rollout_return': 6.855256202278477, 'evaluation': 9.44642618008637} step=59000\n",
      "2023-03-28 17:56.20 [info     ] Model parameters are saved to d3rlpy_logs/DoubleDQN_online_20230328175528/model_60000.pt\n",
      "2023-03-28 17:56.20 [info     ] DoubleDQN_online_20230328175528: epoch=60 step=60000 epoch=60 metrics={'time_inference': 0.0001419229507446289, 'time_environment_step': 3.422713279724121e-05, 'time_sample_batch': 3.385639190673828e-05, 'time_algorithm_update': 0.0006495888233184814, 'loss': 11.293055145733058, 'time_step': 0.00087723970413208, 'rollout_return': 6.8322099443076025, 'evaluation': 9.41957125271364} step=60000\n",
      "2023-03-28 17:56.20 [info     ] Model parameters are saved to d3rlpy_logs/DoubleDQN_online_20230328175528/model_61000.pt\n",
      "2023-03-28 17:56.20 [info     ] DoubleDQN_online_20230328175528: epoch=61 step=61000 epoch=61 metrics={'time_inference': 0.0001378917694091797, 'time_environment_step': 3.3259153366088866e-05, 'time_sample_batch': 3.27301025390625e-05, 'time_algorithm_update': 0.0006237418651580811, 'loss': 11.3095560297966, 'time_step': 0.0008446290493011474, 'rollout_return': 6.630662240923915, 'evaluation': 9.451713191254795} step=61000\n",
      "2023-03-28 17:56.21 [info     ] Model parameters are saved to d3rlpy_logs/DoubleDQN_online_20230328175528/model_62000.pt\n",
      "2023-03-28 17:56.21 [info     ] DoubleDQN_online_20230328175528: epoch=62 step=62000 epoch=62 metrics={'time_inference': 0.00013184571266174316, 'time_environment_step': 3.197360038757324e-05, 'time_sample_batch': 3.136229515075684e-05, 'time_algorithm_update': 0.0006105244159698486, 'loss': 11.34517589199543, 'time_step': 0.0008220572471618653, 'rollout_return': 6.930345708446533, 'evaluation': 9.494874147369206} step=62000\n",
      "2023-03-28 17:56.22 [info     ] Model parameters are saved to d3rlpy_logs/DoubleDQN_online_20230328175528/model_63000.pt\n",
      "2023-03-28 17:56.22 [info     ] DoubleDQN_online_20230328175528: epoch=63 step=63000 epoch=63 metrics={'time_inference': 0.000131162166595459, 'time_environment_step': 3.189921379089355e-05, 'time_sample_batch': 3.1847476959228516e-05, 'time_algorithm_update': 0.0006125233173370361, 'loss': 11.431851243637503, 'time_step': 0.0008238303661346436, 'rollout_return': 6.8424398150567445, 'evaluation': 9.487444672257539} step=63000\n",
      "2023-03-28 17:56.23 [info     ] Model parameters are saved to d3rlpy_logs/DoubleDQN_online_20230328175528/model_64000.pt\n",
      "2023-03-28 17:56.23 [info     ] DoubleDQN_online_20230328175528: epoch=64 step=64000 epoch=64 metrics={'time_inference': 0.00013117146492004395, 'time_environment_step': 3.1921625137329104e-05, 'time_sample_batch': 3.144240379333496e-05, 'time_algorithm_update': 0.0006114122867584229, 'loss': 11.108334808588028, 'time_step': 0.0008223636150360107, 'rollout_return': 7.039238096406642, 'evaluation': 9.294891442947703} step=64000\n",
      "2023-03-28 17:56.24 [info     ] Model parameters are saved to d3rlpy_logs/DoubleDQN_online_20230328175528/model_65000.pt\n",
      "2023-03-28 17:56.24 [info     ] DoubleDQN_online_20230328175528: epoch=65 step=65000 epoch=65 metrics={'time_inference': 0.00013082098960876464, 'time_environment_step': 3.189373016357422e-05, 'time_sample_batch': 3.1564950942993164e-05, 'time_algorithm_update': 0.0006124515533447266, 'loss': 11.122446229338646, 'time_step': 0.0008232004642486573, 'rollout_return': 6.705272910777433, 'evaluation': 9.299858040949264} step=65000\n",
      "2023-03-28 17:56.25 [info     ] Model parameters are saved to d3rlpy_logs/DoubleDQN_online_20230328175528/model_66000.pt\n",
      "2023-03-28 17:56.25 [info     ] DoubleDQN_online_20230328175528: epoch=66 step=66000 epoch=66 metrics={'time_inference': 0.00013505983352661132, 'time_environment_step': 3.259468078613281e-05, 'time_sample_batch': 3.2065629959106444e-05, 'time_algorithm_update': 0.0006138148307800293, 'loss': 11.473718877002597, 'time_step': 0.000830190658569336, 'rollout_return': 6.799610800675293, 'evaluation': 9.296627378642059} step=66000\n",
      "2023-03-28 17:56.25 [info     ] Model parameters are saved to d3rlpy_logs/DoubleDQN_online_20230328175528/model_67000.pt\n",
      "2023-03-28 17:56.25 [info     ] DoubleDQN_online_20230328175528: epoch=67 step=67000 epoch=67 metrics={'time_inference': 0.0001314244270324707, 'time_environment_step': 3.215146064758301e-05, 'time_sample_batch': 3.176259994506836e-05, 'time_algorithm_update': 0.0006108098030090332, 'loss': 11.440880934238434, 'time_step': 0.0008226358890533448, 'rollout_return': 6.841337969948586, 'evaluation': 9.488923324514063} step=67000\n",
      "2023-03-28 17:56.26 [info     ] Model parameters are saved to d3rlpy_logs/DoubleDQN_online_20230328175528/model_68000.pt\n",
      "2023-03-28 17:56.26 [info     ] DoubleDQN_online_20230328175528: epoch=68 step=68000 epoch=68 metrics={'time_inference': 0.000131514310836792, 'time_environment_step': 3.2169342041015624e-05, 'time_sample_batch': 3.180503845214844e-05, 'time_algorithm_update': 0.0006088292598724365, 'loss': 11.274565827958286, 'time_step': 0.0008207776546478271, 'rollout_return': 6.864146802573734, 'evaluation': 9.355794401341715} step=68000\n",
      "2023-03-28 17:56.27 [info     ] Model parameters are saved to d3rlpy_logs/DoubleDQN_online_20230328175528/model_69000.pt\n",
      "2023-03-28 17:56.27 [info     ] DoubleDQN_online_20230328175528: epoch=69 step=69000 epoch=69 metrics={'time_inference': 0.00013259196281433105, 'time_environment_step': 3.2018661499023436e-05, 'time_sample_batch': 3.163528442382812e-05, 'time_algorithm_update': 0.0006098012924194336, 'loss': 11.048943609468639, 'time_step': 0.0008225500583648682, 'rollout_return': 6.794075141878651, 'evaluation': 9.406412230719067} step=69000\n",
      "2023-03-28 17:56.28 [info     ] Model parameters are saved to d3rlpy_logs/DoubleDQN_online_20230328175528/model_70000.pt\n",
      "2023-03-28 17:56.28 [info     ] DoubleDQN_online_20230328175528: epoch=70 step=70000 epoch=70 metrics={'time_inference': 0.00013310384750366211, 'time_environment_step': 3.2294511795043946e-05, 'time_sample_batch': 3.1718730926513674e-05, 'time_algorithm_update': 0.0006087706089019776, 'loss': 11.60169556427002, 'time_step': 0.0008224148750305176, 'rollout_return': 6.772203832672924, 'evaluation': 9.447210467616857} step=70000\n",
      "2023-03-28 17:56.29 [info     ] Model parameters are saved to d3rlpy_logs/DoubleDQN_online_20230328175528/model_71000.pt\n",
      "2023-03-28 17:56.29 [info     ] DoubleDQN_online_20230328175528: epoch=71 step=71000 epoch=71 metrics={'time_inference': 0.0001323072910308838, 'time_environment_step': 3.246474266052246e-05, 'time_sample_batch': 3.1640768051147464e-05, 'time_algorithm_update': 0.0006117734909057617, 'loss': 11.17443536183238, 'time_step': 0.0008247945308685302, 'rollout_return': 6.823950585540234, 'evaluation': 9.457556212317957} step=71000\n",
      "2023-03-28 17:56.30 [info     ] Model parameters are saved to d3rlpy_logs/DoubleDQN_online_20230328175528/model_72000.pt\n",
      "2023-03-28 17:56.30 [info     ] DoubleDQN_online_20230328175528: epoch=72 step=72000 epoch=72 metrics={'time_inference': 0.00015650010108947754, 'time_environment_step': 3.589606285095215e-05, 'time_sample_batch': 3.7345170974731445e-05, 'time_algorithm_update': 0.000698681116104126, 'loss': 11.254402002491057, 'time_step': 0.0009466516971588135, 'rollout_return': 6.598837353164101, 'evaluation': 9.417407036494716} step=72000\n",
      "2023-03-28 17:56.31 [info     ] Model parameters are saved to d3rlpy_logs/DoubleDQN_online_20230328175528/model_73000.pt\n",
      "2023-03-28 17:56.31 [info     ] DoubleDQN_online_20230328175528: epoch=73 step=73000 epoch=73 metrics={'time_inference': 0.00013480710983276368, 'time_environment_step': 3.325033187866211e-05, 'time_sample_batch': 3.2236337661743165e-05, 'time_algorithm_update': 0.0006264541149139405, 'loss': 11.34108124923706, 'time_step': 0.000843712568283081, 'rollout_return': 6.6829350285709355, 'evaluation': 9.395280610965049} step=73000\n",
      "2023-03-28 17:56.32 [info     ] Model parameters are saved to d3rlpy_logs/DoubleDQN_online_20230328175528/model_74000.pt\n",
      "2023-03-28 17:56.32 [info     ] DoubleDQN_online_20230328175528: epoch=74 step=74000 epoch=74 metrics={'time_inference': 0.00013343143463134767, 'time_environment_step': 3.2623052597045896e-05, 'time_sample_batch': 3.1967878341674804e-05, 'time_algorithm_update': 0.0006182529926300049, 'loss': 11.287418611910194, 'time_step': 0.0008330340385437012, 'rollout_return': 6.60644289039671, 'evaluation': 9.384983331177388} step=74000\n",
      "2023-03-28 17:56.32 [info     ] Model parameters are saved to d3rlpy_logs/DoubleDQN_online_20230328175528/model_75000.pt\n",
      "2023-03-28 17:56.32 [info     ] DoubleDQN_online_20230328175528: epoch=75 step=75000 epoch=75 metrics={'time_inference': 0.0001349008083343506, 'time_environment_step': 3.2854795455932617e-05, 'time_sample_batch': 3.2231807708740234e-05, 'time_algorithm_update': 0.0006222615242004395, 'loss': 11.086966662496328, 'time_step': 0.0008390710353851318, 'rollout_return': 6.649852912969327, 'evaluation': 9.393246887098162} step=75000\n",
      "2023-03-28 17:56.33 [info     ] Model parameters are saved to d3rlpy_logs/DoubleDQN_online_20230328175528/model_76000.pt\n",
      "2023-03-28 17:56.33 [info     ] DoubleDQN_online_20230328175528: epoch=76 step=76000 epoch=76 metrics={'time_inference': 0.00013558673858642578, 'time_environment_step': 3.317427635192871e-05, 'time_sample_batch': 3.2873153686523436e-05, 'time_algorithm_update': 0.0006271264553070068, 'loss': 11.389528121091425, 'time_step': 0.0008457846641540527, 'rollout_return': 7.0736638165446735, 'evaluation': 9.46971788858697} step=76000\n",
      "2023-03-28 17:56.34 [info     ] Model parameters are saved to d3rlpy_logs/DoubleDQN_online_20230328175528/model_77000.pt\n",
      "2023-03-28 17:56.34 [info     ] DoubleDQN_online_20230328175528: epoch=77 step=77000 epoch=77 metrics={'time_inference': 0.00013526344299316407, 'time_environment_step': 3.285503387451172e-05, 'time_sample_batch': 3.2419443130493165e-05, 'time_algorithm_update': 0.0006233830451965332, 'loss': 11.213624266486615, 'time_step': 0.0008409035205841065, 'rollout_return': 6.437956765698194, 'evaluation': 9.49605462610199} step=77000\n",
      "2023-03-28 17:56.35 [info     ] Model parameters are saved to d3rlpy_logs/DoubleDQN_online_20230328175528/model_78000.pt\n",
      "2023-03-28 17:56.35 [info     ] DoubleDQN_online_20230328175528: epoch=78 step=78000 epoch=78 metrics={'time_inference': 0.00013686752319335937, 'time_environment_step': 3.3259153366088866e-05, 'time_sample_batch': 3.261876106262207e-05, 'time_algorithm_update': 0.0006309635639190674, 'loss': 10.992870337415486, 'time_step': 0.0008508834838867188, 'rollout_return': 6.820605465571511, 'evaluation': 9.367094617247398} step=78000\n",
      "2023-03-28 17:56.36 [info     ] Model parameters are saved to d3rlpy_logs/DoubleDQN_online_20230328175528/model_79000.pt\n",
      "2023-03-28 17:56.36 [info     ] DoubleDQN_online_20230328175528: epoch=79 step=79000 epoch=79 metrics={'time_inference': 0.0001350548267364502, 'time_environment_step': 3.300595283508301e-05, 'time_sample_batch': 3.241515159606934e-05, 'time_algorithm_update': 0.0006283979415893555, 'loss': 11.139374619722366, 'time_step': 0.000845806360244751, 'rollout_return': 6.873624339387386, 'evaluation': 9.511343964396044} step=79000\n",
      "2023-03-28 17:56.37 [info     ] Model parameters are saved to d3rlpy_logs/DoubleDQN_online_20230328175528/model_80000.pt\n",
      "2023-03-28 17:56.37 [info     ] DoubleDQN_online_20230328175528: epoch=80 step=80000 epoch=80 metrics={'time_inference': 0.00013544774055480958, 'time_environment_step': 3.2884836196899415e-05, 'time_sample_batch': 3.220629692077637e-05, 'time_algorithm_update': 0.0006271636486053466, 'loss': 11.030756453242153, 'time_step': 0.0008445484638214112, 'rollout_return': 6.9207285157759415, 'evaluation': 9.409624036005766} step=80000\n",
      "2023-03-28 17:56.38 [info     ] Model parameters are saved to d3rlpy_logs/DoubleDQN_online_20230328175528/model_81000.pt\n",
      "2023-03-28 17:56.38 [info     ] DoubleDQN_online_20230328175528: epoch=81 step=81000 epoch=81 metrics={'time_inference': 0.00014200782775878907, 'time_environment_step': 3.493952751159668e-05, 'time_sample_batch': 3.4253358840942385e-05, 'time_algorithm_update': 0.0006550695896148682, 'loss': 10.97091584423557, 'time_step': 0.0008841390609741211, 'rollout_return': 6.872460157681959, 'evaluation': 9.411073858368157} step=81000\n",
      "2023-03-28 17:56.39 [info     ] Model parameters are saved to d3rlpy_logs/DoubleDQN_online_20230328175528/model_82000.pt\n",
      "2023-03-28 17:56.39 [info     ] DoubleDQN_online_20230328175528: epoch=82 step=82000 epoch=82 metrics={'time_inference': 0.00015201330184936524, 'time_environment_step': 3.720402717590332e-05, 'time_sample_batch': 3.671813011169434e-05, 'time_algorithm_update': 0.0006930453777313232, 'loss': 11.18677501891926, 'time_step': 0.0009386014938354493, 'rollout_return': 6.679688081581662, 'evaluation': 9.450772375239698} step=82000\n",
      "2023-03-28 17:56.40 [info     ] Model parameters are saved to d3rlpy_logs/DoubleDQN_online_20230328175528/model_83000.pt\n",
      "2023-03-28 17:56.40 [info     ] DoubleDQN_online_20230328175528: epoch=83 step=83000 epoch=83 metrics={'time_inference': 0.0001442735195159912, 'time_environment_step': 3.55982780456543e-05, 'time_sample_batch': 3.458690643310547e-05, 'time_algorithm_update': 0.0006667349338531494, 'loss': 11.310525860108434, 'time_step': 0.0008994534015655518, 'rollout_return': 6.673775559986066, 'evaluation': 9.44428179784859} step=83000\n",
      "2023-03-28 17:56.41 [info     ] Model parameters are saved to d3rlpy_logs/DoubleDQN_online_20230328175528/model_84000.pt\n",
      "2023-03-28 17:56.41 [info     ] DoubleDQN_online_20230328175528: epoch=84 step=84000 epoch=84 metrics={'time_inference': 0.0001716759204864502, 'time_environment_step': 4.182720184326172e-05, 'time_sample_batch': 3.972458839416504e-05, 'time_algorithm_update': 0.0007762596607208252, 'loss': 11.064455553222448, 'time_step': 0.0010512547492980957, 'rollout_return': 6.940018526127237, 'evaluation': 9.440581889018038} step=84000\n",
      "2023-03-28 17:56.42 [info     ] Model parameters are saved to d3rlpy_logs/DoubleDQN_online_20230328175528/model_85000.pt\n",
      "2023-03-28 17:56.42 [info     ] DoubleDQN_online_20230328175528: epoch=85 step=85000 epoch=85 metrics={'time_inference': 0.00016647577285766602, 'time_environment_step': 4.304051399230957e-05, 'time_sample_batch': 4.0120124816894534e-05, 'time_algorithm_update': 0.0007585756778717041, 'loss': 11.023432507663966, 'time_step': 0.001030339002609253, 'rollout_return': 6.592948767129683, 'evaluation': 9.506010356314738} step=85000\n",
      "2023-03-28 17:56.43 [info     ] Model parameters are saved to d3rlpy_logs/DoubleDQN_online_20230328175528/model_86000.pt\n",
      "2023-03-28 17:56.43 [info     ] DoubleDQN_online_20230328175528: epoch=86 step=86000 epoch=86 metrics={'time_inference': 0.00015087127685546874, 'time_environment_step': 3.756880760192871e-05, 'time_sample_batch': 3.6287784576416015e-05, 'time_algorithm_update': 0.0007015819549560547, 'loss': 10.889086658760906, 'time_step': 0.0009455535411834716, 'rollout_return': 6.823869625913997, 'evaluation': 9.481014757961548} step=86000\n",
      "2023-03-28 17:56.44 [info     ] Model parameters are saved to d3rlpy_logs/DoubleDQN_online_20230328175528/model_87000.pt\n",
      "2023-03-28 17:56.44 [info     ] DoubleDQN_online_20230328175528: epoch=87 step=87000 epoch=87 metrics={'time_inference': 0.0001454160213470459, 'time_environment_step': 3.568744659423828e-05, 'time_sample_batch': 3.444647789001465e-05, 'time_algorithm_update': 0.0006687726974487305, 'loss': 11.178743956867605, 'time_step': 0.0009024903774261475, 'rollout_return': 6.689806165576083, 'evaluation': 9.44448382739489} step=87000\n",
      "2023-03-28 17:56.45 [info     ] Model parameters are saved to d3rlpy_logs/DoubleDQN_online_20230328175528/model_88000.pt\n",
      "2023-03-28 17:56.45 [info     ] DoubleDQN_online_20230328175528: epoch=88 step=88000 epoch=88 metrics={'time_inference': 0.00014505887031555177, 'time_environment_step': 3.581833839416504e-05, 'time_sample_batch': 3.4928083419799804e-05, 'time_algorithm_update': 0.0006756284236907959, 'loss': 11.126663946241141, 'time_step': 0.0009099826812744141, 'rollout_return': 6.61300978392684, 'evaluation': 9.568205210598085} step=88000\n",
      "2023-03-28 17:56.46 [info     ] Model parameters are saved to d3rlpy_logs/DoubleDQN_online_20230328175528/model_89000.pt\n",
      "2023-03-28 17:56.46 [info     ] DoubleDQN_online_20230328175528: epoch=89 step=89000 epoch=89 metrics={'time_inference': 0.00018152332305908204, 'time_environment_step': 4.4662714004516603e-05, 'time_sample_batch': 4.0423154830932616e-05, 'time_algorithm_update': 0.0009000937938690185, 'loss': 11.171929148852826, 'time_step': 0.0012043266296386719, 'rollout_return': 6.862393522087036, 'evaluation': 9.476739780990835} step=89000\n",
      "2023-03-28 17:56.47 [info     ] Model parameters are saved to d3rlpy_logs/DoubleDQN_online_20230328175528/model_90000.pt\n",
      "2023-03-28 17:56.47 [info     ] DoubleDQN_online_20230328175528: epoch=90 step=90000 epoch=90 metrics={'time_inference': 0.00014865350723266603, 'time_environment_step': 3.6818742752075196e-05, 'time_sample_batch': 3.5549402236938474e-05, 'time_algorithm_update': 0.0006690342426300048, 'loss': 11.053555172324181, 'time_step': 0.0009089934825897216, 'rollout_return': 6.777074832501239, 'evaluation': 9.392738847971575} step=90000\n",
      "2023-03-28 17:56.48 [info     ] Model parameters are saved to d3rlpy_logs/DoubleDQN_online_20230328175528/model_91000.pt\n",
      "2023-03-28 17:56.48 [info     ] DoubleDQN_online_20230328175528: epoch=91 step=91000 epoch=91 metrics={'time_inference': 0.00017942070960998534, 'time_environment_step': 4.266762733459473e-05, 'time_sample_batch': 3.979754447937012e-05, 'time_algorithm_update': 0.0008973233699798584, 'loss': 11.05532542526722, 'time_step': 0.0011821370124816895, 'rollout_return': 6.697874460795606, 'evaluation': 9.51296906744288} step=91000\n",
      "2023-03-28 17:56.49 [info     ] Model parameters are saved to d3rlpy_logs/DoubleDQN_online_20230328175528/model_92000.pt\n",
      "2023-03-28 17:56.49 [info     ] DoubleDQN_online_20230328175528: epoch=92 step=92000 epoch=92 metrics={'time_inference': 0.0001508650779724121, 'time_environment_step': 3.6410570144653323e-05, 'time_sample_batch': 3.517723083496094e-05, 'time_algorithm_update': 0.0006680021286010742, 'loss': 10.976797543551772, 'time_step': 0.0009091119766235352, 'rollout_return': 6.783603028922261, 'evaluation': 9.414257058357741} step=92000\n",
      "2023-03-28 17:56.50 [info     ] Model parameters are saved to d3rlpy_logs/DoubleDQN_online_20230328175528/model_93000.pt\n",
      "2023-03-28 17:56.50 [info     ] DoubleDQN_online_20230328175528: epoch=93 step=93000 epoch=93 metrics={'time_inference': 0.00014535069465637207, 'time_environment_step': 3.555893898010254e-05, 'time_sample_batch': 3.457784652709961e-05, 'time_algorithm_update': 0.0006623146533966065, 'loss': 10.958604183077812, 'time_step': 0.000896038293838501, 'rollout_return': 6.871451427331968, 'evaluation': 9.254779647772539} step=93000\n",
      "2023-03-28 17:56.51 [info     ] Model parameters are saved to d3rlpy_logs/DoubleDQN_online_20230328175528/model_94000.pt\n",
      "2023-03-28 17:56.51 [info     ] DoubleDQN_online_20230328175528: epoch=94 step=94000 epoch=94 metrics={'time_inference': 0.0001615421772003174, 'time_environment_step': 4.000496864318848e-05, 'time_sample_batch': 3.847837448120117e-05, 'time_algorithm_update': 0.0007114872932434082, 'loss': 11.201175062440337, 'time_step': 0.0009723944664001465, 'rollout_return': 6.74320116004482, 'evaluation': 9.448187573901315} step=94000\n",
      "2023-03-28 17:56.52 [info     ] Model parameters are saved to d3rlpy_logs/DoubleDQN_online_20230328175528/model_95000.pt\n",
      "2023-03-28 17:56.52 [info     ] DoubleDQN_online_20230328175528: epoch=95 step=95000 epoch=95 metrics={'time_inference': 0.0001593778133392334, 'time_environment_step': 3.9575338363647464e-05, 'time_sample_batch': 3.7560462951660154e-05, 'time_algorithm_update': 0.000711568832397461, 'loss': 10.871587286829948, 'time_step': 0.0009681005477905273, 'rollout_return': 6.730647640992718, 'evaluation': 9.289317539461146} step=95000\n",
      "2023-03-28 17:56.53 [info     ] Model parameters are saved to d3rlpy_logs/DoubleDQN_online_20230328175528/model_96000.pt\n",
      "2023-03-28 17:56.53 [info     ] DoubleDQN_online_20230328175528: epoch=96 step=96000 epoch=96 metrics={'time_inference': 0.0001560020446777344, 'time_environment_step': 3.860116004943848e-05, 'time_sample_batch': 3.79328727722168e-05, 'time_algorithm_update': 0.0006906909942626953, 'loss': 11.10205487513542, 'time_step': 0.000942929744720459, 'rollout_return': 6.855121550922909, 'evaluation': 9.621441676693886} step=96000\n",
      "2023-03-28 17:56.54 [info     ] Model parameters are saved to d3rlpy_logs/DoubleDQN_online_20230328175528/model_97000.pt\n",
      "2023-03-28 17:56.54 [info     ] DoubleDQN_online_20230328175528: epoch=97 step=97000 epoch=97 metrics={'time_inference': 0.00015340113639831542, 'time_environment_step': 3.756451606750488e-05, 'time_sample_batch': 3.6076068878173826e-05, 'time_algorithm_update': 0.0006736969947814942, 'loss': 10.442579446673394, 'time_step': 0.0009201540946960449, 'rollout_return': 6.7267104331106236, 'evaluation': 9.366810983970558} step=97000\n",
      "2023-03-28 17:56.55 [info     ] Model parameters are saved to d3rlpy_logs/DoubleDQN_online_20230328175528/model_98000.pt\n",
      "2023-03-28 17:56.55 [info     ] DoubleDQN_online_20230328175528: epoch=98 step=98000 epoch=98 metrics={'time_inference': 0.00015309023857116699, 'time_environment_step': 3.777956962585449e-05, 'time_sample_batch': 3.651118278503418e-05, 'time_algorithm_update': 0.0006878192424774169, 'loss': 10.841049100957811, 'time_step': 0.0009345135688781738, 'rollout_return': 6.670442166422314, 'evaluation': 8.674824827361935} step=98000\n",
      "2023-03-28 17:56.56 [info     ] Model parameters are saved to d3rlpy_logs/DoubleDQN_online_20230328175528/model_99000.pt\n",
      "2023-03-28 17:56.56 [info     ] DoubleDQN_online_20230328175528: epoch=99 step=99000 epoch=99 metrics={'time_inference': 0.0001508481502532959, 'time_environment_step': 3.7140846252441407e-05, 'time_sample_batch': 3.573274612426758e-05, 'time_algorithm_update': 0.0007028427124023438, 'loss': 10.664660356283187, 'time_step': 0.0009456045627593994, 'rollout_return': 6.651353816891605, 'evaluation': 8.628159495176492} step=99000\n",
      "2023-03-28 17:56.57 [info     ] Model parameters are saved to d3rlpy_logs/DoubleDQN_online_20230328175528/model_100000.pt\n",
      "2023-03-28 17:56.57 [info     ] DoubleDQN_online_20230328175528: epoch=100 step=100000 epoch=100 metrics={'time_inference': 0.0001509096622467041, 'time_environment_step': 3.6869287490844724e-05, 'time_sample_batch': 3.5834312438964846e-05, 'time_algorithm_update': 0.0006748168468475342, 'loss': 10.748952943842857, 'time_step': 0.0009173862934112549, 'rollout_return': 6.648422368653858, 'evaluation': 8.540448120489334} step=100000\n"
     ]
    }
   ],
   "source": [
    "# start training\n",
    "# skip if there is a pre-trained model\n",
    "ddqn.fit_online(\n",
    "    env_,\n",
    "    buffer,\n",
    "    explorer=explorer,\n",
    "    eval_env=env_,\n",
    "    n_steps=100000,\n",
    "    n_steps_per_epoch=1000,\n",
    "    update_start_step=1000,\n",
    ")"
   ]
  },
  {
   "cell_type": "code",
   "execution_count": 98,
   "metadata": {},
   "outputs": [],
   "source": [
    "# save model\n",
    "ddqn.save_model(\"d3rlpy_logs/ddqn.pt\")"
   ]
  },
  {
   "cell_type": "code",
   "execution_count": 99,
   "metadata": {},
   "outputs": [
    {
     "name": "stdout",
     "output_type": "stream",
     "text": [
      "2023-03-28 17:56.57 [warning  ] Parameters will be reinitialized.\n"
     ]
    }
   ],
   "source": [
    "# reload model\n",
    "ddqn.build_with_env(env_)\n",
    "ddqn.load_model(\"d3rlpy_logs/ddqn.pt\")"
   ]
  },
  {
   "cell_type": "code",
   "execution_count": 100,
   "metadata": {},
   "outputs": [
    {
     "data": {
      "text/plain": [
       "Text(0, 0.5, 'episode reward')"
      ]
     },
     "execution_count": 100,
     "metadata": {},
     "output_type": "execute_result"
    },
    {
     "data": {
      "image/png": "[encoded data removed]",
      "text/plain": [
       "<Figure size 640x480 with 1 Axes>"
      ]
     },
     "metadata": {},
     "output_type": "display_data"
    }
   ],
   "source": [
    "# we see that training RL policy can be risky online\n",
    "log_path = sorted(glob(\"d3rlpy_logs/DoubleDQN_online_*/evaluation.csv\"))[-1]\n",
    "df = pd.read_csv(\n",
    "    log_path, \n",
    "    usecols=[1,2],\n",
    "    names=[\"train_episode\", \"episodic_rewards\"]\n",
    ")\n",
    "plt.plot(df[\"train_episode\"], df[\"episodic_rewards\"])\n",
    "plt.title(\"Learning curve of DDQN\")\n",
    "plt.xlabel(\"episode\")\n",
    "plt.ylabel(\"episode reward\")"
   ]
  },
  {
   "cell_type": "code",
   "execution_count": 101,
   "metadata": {},
   "outputs": [],
   "source": [
    "random = DiscreteRandomPolicy()\n",
    "random.build_with_env(env_)"
   ]
  },
  {
   "cell_type": "code",
   "execution_count": 102,
   "metadata": {},
   "outputs": [
    {
     "data": {
      "application/vnd.jupyter.widget-view+json": {
       "model_id": "53df389e5adf4b4e942dec33196a1aa5",
       "version_major": 2,
       "version_minor": 0
      },
      "text/plain": [
       "[calculate on-policy policy value]:   0%|          | 0/100 [00:00<?, ?it/s]"
      ]
     },
     "metadata": {},
     "output_type": "display_data"
    },
    {
     "data": {
      "application/vnd.jupyter.widget-view+json": {
       "model_id": "c9c3a65ef2434fff8c643280f34adb0b",
       "version_major": 2,
       "version_minor": 0
      },
      "text/plain": [
       "[calculate on-policy policy value]:   0%|          | 0/100 [00:00<?, ?it/s]"
      ]
     },
     "metadata": {},
     "output_type": "display_data"
    },
    {
     "data": {
      "image/png": "[encoded data removed]",
      "text/plain": [
       "<Figure size 400x400 with 1 Axes>"
      ]
     },
     "metadata": {},
     "output_type": "display_data"
    }
   ],
   "source": [
    "# compare the policy performance online\n",
    "visualize_on_policy_policy_value(\n",
    "    env=env,\n",
    "    policies=[ddqn, random],\n",
    "    policy_names=[\"ddqn\", \"random\"],\n",
    "    n_trajectories=100,\n",
    "    random_state=random_state,\n",
    ")"
   ]
  },
  {
   "cell_type": "code",
   "execution_count": 103,
   "metadata": {},
   "outputs": [
    {
     "data": {
      "application/vnd.jupyter.widget-view+json": {
       "model_id": "4f1c226517dc43dab6768d3045e84713",
       "version_major": 2,
       "version_minor": 0
      },
      "text/plain": [
       "[calculate on-policy policy value]:   0%|          | 0/100 [00:00<?, ?it/s]"
      ]
     },
     "metadata": {},
     "output_type": "display_data"
    },
    {
     "data": {
      "application/vnd.jupyter.widget-view+json": {
       "model_id": "d5198454cf9e4ad29bf6c95acdb516fa",
       "version_major": 2,
       "version_minor": 0
      },
      "text/plain": [
       "[calculate on-policy policy value]:   0%|          | 0/100 [00:00<?, ?it/s]"
      ]
     },
     "metadata": {},
     "output_type": "display_data"
    },
    {
     "name": "stdout",
     "output_type": "stream",
     "text": [
      "relative improvement: 4.235819428327282\n"
     ]
    }
   ],
   "source": [
    "# on-policy policy value by ddqn policy\n",
    "# largely outperforms the random policy (about 20%)\n",
    "ddqn_performance = calc_on_policy_policy_value(env, ddqn, n_trajectories=100, random_state=random_state)\n",
    "random_performance = calc_on_policy_policy_value(env, random, n_trajectories=100, random_state=random_state)\n",
    "print(\"relative improvement:\", (ddqn_performance - random_performance) / random_performance)"
   ]
  },
  {
   "cell_type": "markdown",
   "metadata": {},
   "source": [
    "Note that, we provide the following functions for online evaluation of the policy performance under `ofrl.ope.online`.\n",
    "\n",
    "(Statistics)\n",
    "\n",
    "* `calc_on_policy_policy_value`\n",
    "* `calc_on_policy_policy_value_interval`\n",
    "* `calc_on_policy_variance`\n",
    "* `calc_on_policy_conditional_value_at_risk`\n",
    "* `calc_on_policy_policy_interquartile_range`\n",
    "* `calc_on_policy_cumulative_distribution_function`\n",
    "\n",
    "(Visualization)\n",
    "* `visualize_on_policy_policy_value`\n",
    "* `visualize_on_policy_policy_value_with_variance`\n",
    "* `visualize_on_policy_cumulative_distribution_function`\n",
    "* `visualize_on_policy_conditional_value_at_risk`\n",
    "* `visualize_on_policy_interquartile_range`"
   ]
  },
  {
   "attachments": {},
   "cell_type": "markdown",
   "metadata": {},
   "source": [
    "## 1. Synthetic Dataset Generation\n",
    "In the previous section, we see how we can interact with the environment *online* using synthetic simulator.  \n",
    "Though simulation is a good starting point for training an agent, eventually we want to deploy our agent (or policy) in the real world environment.  \n",
    "However, online interaction may have potential risk of failure in the real-world.\n",
    "Therefore, we introduce an alternative learning protocol, Offline RL, which aims at training a new policy using only offline logged dataset collected by a behavior policy $\\pi_0$:\n",
    "\n",
    "$$\\mathcal{D}_0 := \\{ \\{ s_t, a_t, s_{t+1}, r_t \\}_{t=1}^T \\}_{i=1}^n \\sim \\prod_{i=1}^n d_{s_0}(s_0) \\prod_{t=1}^T \\pi_0(a_t | s_t) p(s_{t+1} | s_t, a_t) p(r_t | s_t, a_t),$$\n",
    "\n",
    "where $s_t \\in \\mathcal{S}$ is the state observed at timestep $t$, $a_t$ is the action chosen by the behavior policy $\\pi_0$, and $r_t$ is the reward. \n",
    "\n",
    "We prepare an easy-to-use synthetic dataset generator: `SyntheticDataset` class in the dataset module.  \n",
    "By regarding the simulation environment as a hypothetical real-environment, we show how to conduct Offline RL using logged dataset in real-world application.  \n",
    "For detailed description of how to use a real-world dataset, please see #TODO (will be implemented).\n",
    "\n",
    "`SyntheticDataset` has the following arguments:\n",
    "- `env`: Basic environment for RL defined in the previous section.\n",
    "- `max_episode_steps`: Maximum number of timesteps in an episode."
   ]
  },
  {
   "cell_type": "code",
   "execution_count": 104,
   "metadata": {},
   "outputs": [],
   "source": [
    "# import necessary module from OFRL\n",
    "from ofrl.policy import DiscreteEpsilonGreedyHead"
   ]
  },
  {
   "cell_type": "code",
   "execution_count": 105,
   "metadata": {},
   "outputs": [],
   "source": [
    "behavior_policy = DiscreteEpsilonGreedyHead(\n",
    "    ddqn, \n",
    "    n_actions=env.action_space.n,\n",
    "    epsilon=0.3,\n",
    "    name=\"ddqn_epsilon_0.3\",\n",
    "    random_state=random_state,\n",
    ")"
   ]
  },
  {
   "cell_type": "code",
   "execution_count": 106,
   "metadata": {},
   "outputs": [],
   "source": [
    "# initialize dataset class\n",
    "dataset = SyntheticDataset(\n",
    "    env=env,\n",
    "    max_episode_steps=env.step_per_episode,\n",
    ")"
   ]
  },
  {
   "cell_type": "code",
   "execution_count": 107,
   "metadata": {},
   "outputs": [
    {
     "data": {
      "application/vnd.jupyter.widget-view+json": {
       "model_id": "b9bb702c988643a2b7ea22fccc381828",
       "version_major": 2,
       "version_minor": 0
      },
      "text/plain": [
       "[obtain_trajectories]:   0%|          | 0/10000 [00:00<?, ?it/s]"
      ]
     },
     "metadata": {},
     "output_type": "display_data"
    },
    {
     "data": {
      "application/vnd.jupyter.widget-view+json": {
       "model_id": "d0c632353b404b388819bb29e38876a7",
       "version_major": 2,
       "version_minor": 0
      },
      "text/plain": [
       "[obtain_trajectories]:   0%|          | 0/10000 [00:00<?, ?it/s]"
      ]
     },
     "metadata": {},
     "output_type": "display_data"
    }
   ],
   "source": [
    "# collect logged data by a behavior policy\n",
    "# skip if there is a preserved logged dataset\n",
    "train_logged_dataset = dataset.obtain_episodes(\n",
    "    behavior_policies=behavior_policy,\n",
    "    n_trajectories=10000, \n",
    "    obtain_info=False,\n",
    "    random_state=random_state,\n",
    ")\n",
    "test_logged_dataset = dataset.obtain_episodes(\n",
    "    behavior_policies=behavior_policy,\n",
    "    n_trajectories=10000, \n",
    "    obtain_info=False,\n",
    "    random_state=random_state + 1,\n",
    ")"
   ]
  },
  {
   "cell_type": "code",
   "execution_count": 108,
   "metadata": {},
   "outputs": [
    {
     "data": {
      "text/plain": [
       "{'size': 100000,\n",
       " 'n_trajectories': 10000,\n",
       " 'step_per_trajectory': 10,\n",
       " 'action_type': 'discrete',\n",
       " 'n_actions': 10,\n",
       " 'action_dim': None,\n",
       " 'action_meaning': None,\n",
       " 'action_keys': None,\n",
       " 'state_dim': 5,\n",
       " 'state_keys': None,\n",
       " 'state': array([[ 0.46692103, -0.60091272,  0.12748286,  0.10612129,  0.62719618],\n",
       "        [ 0.00305434,  0.25886564,  0.94683458, -0.18441597, -0.04974207],\n",
       "        [ 0.09209668,  0.18060315, -0.96557628, -0.16297735,  0.00123719],\n",
       "        ...,\n",
       "        [-0.10514656, -0.07411882,  0.43629307, -0.34195793,  0.82229176],\n",
       "        [ 0.73744275,  0.30673984,  0.25552238, -0.22250103,  0.49728308],\n",
       "        [-0.14582689,  0.02498045,  0.27022798, -0.95004768,  0.04996733]]),\n",
       " 'action': array([6, 1, 5, ..., 8, 6, 5]),\n",
       " 'reward': array([ 0.85571015, -0.27916946,  0.43932507, ...,  0.10358528,\n",
       "         0.83595319,  0.65502498]),\n",
       " 'done': array([0., 0., 0., ..., 0., 0., 1.]),\n",
       " 'terminal': array([0., 0., 0., ..., 0., 0., 1.]),\n",
       " 'info': {},\n",
       " 'pscore': array([0.73, 0.03, 0.73, ..., 0.03, 0.73, 0.73]),\n",
       " 'behavior_policy': 'ddqn_epsilon_0.3',\n",
       " 'dataset_id': 0}"
      ]
     },
     "execution_count": 108,
     "metadata": {},
     "output_type": "execute_result"
    }
   ],
   "source": [
    "train_logged_dataset"
   ]
  },
  {
   "cell_type": "code",
   "execution_count": 109,
   "metadata": {},
   "outputs": [],
   "source": [
    "with open(\"logs/train_dataset_discrete_ddqn.pkl\", \"wb\") as f:\n",
    "    pickle.dump(train_logged_dataset, f)\n",
    "with open(\"logs/test_dataset_discrete_ddqn.pkl\", \"wb\") as f:\n",
    "    pickle.dump(test_logged_dataset, f)"
   ]
  },
  {
   "cell_type": "code",
   "execution_count": 110,
   "metadata": {},
   "outputs": [],
   "source": [
    "with open(\"logs/train_dataset_discrete_ddqn.pkl\", \"rb\") as f:\n",
    "    train_logged_dataset = pickle.load(f)\n",
    "with open(\"logs/test_dataset_discrete_ddqn.pkl\", \"rb\") as f:\n",
    "    test_logged_dataset = pickle.load(f)"
   ]
  },
  {
   "cell_type": "code",
   "execution_count": 111,
   "metadata": {},
   "outputs": [
    {
     "data": {
      "application/vnd.jupyter.widget-view+json": {
       "model_id": "8bda3cbe698e45c88df1b22dfb477d42",
       "version_major": 2,
       "version_minor": 0
      },
      "text/plain": [
       "[calculate on-policy policy value]:   0%|          | 0/100 [00:00<?, ?it/s]"
      ]
     },
     "metadata": {},
     "output_type": "display_data"
    },
    {
     "data": {
      "application/vnd.jupyter.widget-view+json": {
       "model_id": "7505345ea94849038f0a1c6c594d1771",
       "version_major": 2,
       "version_minor": 0
      },
      "text/plain": [
       "[calculate on-policy policy value]:   0%|          | 0/100 [00:00<?, ?it/s]"
      ]
     },
     "metadata": {},
     "output_type": "display_data"
    },
    {
     "data": {
      "application/vnd.jupyter.widget-view+json": {
       "model_id": "6eb65ca152ae417281e0332914a8678c",
       "version_major": 2,
       "version_minor": 0
      },
      "text/plain": [
       "[calculate on-policy policy value]:   0%|          | 0/100 [00:00<?, ?it/s]"
      ]
     },
     "metadata": {},
     "output_type": "display_data"
    },
    {
     "data": {
      "image/png": "[encoded data removed]",
      "text/plain": [
       "<Figure size 600x400 with 1 Axes>"
      ]
     },
     "metadata": {},
     "output_type": "display_data"
    }
   ],
   "source": [
    "# compare the policy performance online\n",
    "# almost the same performance as greedy ddqn\n",
    "visualize_on_policy_policy_value(\n",
    "    env=env,\n",
    "    policies=[ddqn, behavior_policy, random],\n",
    "    policy_names=[\"ddqn\", \"ddqn (e=0.3)\", \"random\"],\n",
    "    n_trajectories=100,\n",
    "    random_state=random_state,\n",
    ")"
   ]
  },
  {
   "attachments": {},
   "cell_type": "markdown",
   "metadata": {},
   "source": [
    "For more about the data collection and visualization, please refer to [examples/quickstart/basic_synthetic_data_collection.ipynb](https://github.com/negocia-inc/basic_reinforcement_learing/blob/ope/examples/quickstart/basic_synthetic_data_collection.ipynb)."
   ]
  },
  {
   "cell_type": "markdown",
   "metadata": {},
   "source": [
    "## 2. Offline Reinforcement Learning\n",
    "In this section, we learn a new policy in an offline manner, without interacting with the environment.  \n",
    "We use [d3rlpy](https://github.com/takuseno/d3rlpy)'s implementation of algorithms."
   ]
  },
  {
   "cell_type": "code",
   "execution_count": 113,
   "metadata": {},
   "outputs": [],
   "source": [
    "# import modules from d3rlpy\n",
    "from d3rlpy.dataset import MDPDataset\n",
    "from d3rlpy.algos import DiscreteCQL\n",
    "from d3rlpy.ope import DiscreteFQE\n",
    "from d3rlpy.metrics.scorer import evaluate_on_environment"
   ]
  },
  {
   "cell_type": "code",
   "execution_count": 114,
   "metadata": {},
   "outputs": [],
   "source": [
    "offlinerl_dataset = MDPDataset(\n",
    "    observations=train_logged_dataset[\"state\"],\n",
    "    actions=train_logged_dataset[\"action\"],\n",
    "    rewards=train_logged_dataset[\"reward\"],\n",
    "    terminals=train_logged_dataset[\"done\"],\n",
    "    episode_terminals=train_logged_dataset[\"done\"],\n",
    "    discrete_action=True,\n",
    ")\n",
    "train_episodes, test_episodes = train_test_split(offlinerl_dataset, test_size=0.2, random_state=random_state)"
   ]
  },
  {
   "cell_type": "code",
   "execution_count": 115,
   "metadata": {},
   "outputs": [],
   "source": [
    "# Use Conservative Q-Learning policy\n",
    "cql = DiscreteCQL(\n",
    "    encoder_factory=VectorEncoderFactory(hidden_units=[30, 30]),\n",
    "    q_func_factory=MeanQFunctionFactory(),\n",
    "    use_gpu=torch.cuda.is_available(),\n",
    ")"
   ]
  },
  {
   "cell_type": "code",
   "execution_count": 116,
   "metadata": {},
   "outputs": [
    {
     "name": "stdout",
     "output_type": "stream",
     "text": [
      "2023-03-28 18:00.37 [debug    ] RandomIterator is selected.\n",
      "2023-03-28 18:00.37 [info     ] Directory is created at d3rlpy_logs/DiscreteCQL_20230328180037\n",
      "2023-03-28 18:00.37 [debug    ] Building models...\n",
      "2023-03-28 18:00.37 [debug    ] Models have been built.\n",
      "2023-03-28 18:00.37 [info     ] Parameters are saved to d3rlpy_logs/DiscreteCQL_20230328180037/params.json params={'action_scaler': None, 'alpha': 1.0, 'batch_size': 32, 'encoder_factory': {'type': 'vector', 'params': {'hidden_units': [30, 30], 'activation': 'relu', 'use_batch_norm': False, 'dropout_rate': None, 'use_dense': False}}, 'gamma': 0.99, 'generated_maxlen': 100000, 'learning_rate': 6.25e-05, 'n_critics': 1, 'n_frames': 1, 'n_steps': 1, 'optim_factory': {'optim_cls': 'Adam', 'betas': (0.9, 0.999), 'eps': 1e-08, 'weight_decay': 0, 'amsgrad': False}, 'q_func_factory': {'type': 'mean', 'params': {'share_encoder': False}}, 'real_ratio': 1.0, 'reward_scaler': None, 'scaler': None, 'target_update_interval': 8000, 'use_gpu': None, 'algorithm': 'DiscreteCQL', 'observation_shape': (5,), 'action_size': 10}\n"
     ]
    },
    {
     "data": {
      "application/vnd.jupyter.widget-view+json": {
       "model_id": "7d73c9a0555e41b397ca45941b188e6c",
       "version_major": 2,
       "version_minor": 0
      },
      "text/plain": [
       "Epoch 1/1:   0%|          | 0/10000 [00:00<?, ?it/s]"
      ]
     },
     "metadata": {},
     "output_type": "display_data"
    },
    {
     "name": "stdout",
     "output_type": "stream",
     "text": [
      "2023-03-28 18:00.49 [info     ] DiscreteCQL_20230328180037: epoch=1 step=10000 epoch=1 metrics={'time_sample_batch': 7.817873954772949e-05, 'time_algorithm_update': 0.0010099100351333619, 'loss': 1.7595133284509181, 'time_step': 0.001163788628578186, 'environment': 8.662421463124456} step=10000\n",
      "2023-03-28 18:00.49 [info     ] Model parameters are saved to d3rlpy_logs/DiscreteCQL_20230328180037/model_10000.pt\n"
     ]
    },
    {
     "data": {
      "text/plain": [
       "[(1,\n",
       "  {'time_sample_batch': 7.817873954772949e-05,\n",
       "   'time_algorithm_update': 0.0010099100351333619,\n",
       "   'loss': 1.7595133284509181,\n",
       "   'time_step': 0.001163788628578186,\n",
       "   'environment': 8.662421463124456})]"
      ]
     },
     "execution_count": 116,
     "metadata": {},
     "output_type": "execute_result"
    }
   ],
   "source": [
    "cql.fit(\n",
    "    train_episodes,\n",
    "    eval_episodes=test_episodes,\n",
    "    n_steps=10000,\n",
    "    scorers={\n",
    "        'environment': evaluate_on_environment(env_),\n",
    "        # to record training process w/ ground truth policy value, which is unseen to the agent\n",
    "    },\n",
    ")"
   ]
  },
  {
   "cell_type": "code",
   "execution_count": 117,
   "metadata": {},
   "outputs": [],
   "source": [
    "# save model\n",
    "cql.save_model(\"d3rlpy_logs/cql_discrete.pt\")"
   ]
  },
  {
   "cell_type": "code",
   "execution_count": 118,
   "metadata": {},
   "outputs": [
    {
     "name": "stdout",
     "output_type": "stream",
     "text": [
      "2023-03-28 18:00.49 [warning  ] Parameters will be reinitialized.\n"
     ]
    }
   ],
   "source": [
    "# reload model\n",
    "cql.build_with_env(env_)\n",
    "cql.load_model(\"d3rlpy_logs/cql_discrete.pt\")"
   ]
  },
  {
   "cell_type": "code",
   "execution_count": 119,
   "metadata": {},
   "outputs": [
    {
     "data": {
      "application/vnd.jupyter.widget-view+json": {
       "model_id": "227692767b6c498086579e0aa60e2c44",
       "version_major": 2,
       "version_minor": 0
      },
      "text/plain": [
       "[calculate on-policy policy value]:   0%|          | 0/100 [00:00<?, ?it/s]"
      ]
     },
     "metadata": {},
     "output_type": "display_data"
    },
    {
     "data": {
      "application/vnd.jupyter.widget-view+json": {
       "model_id": "ace7a89b91ee43f7ab8f6e4c31a797e1",
       "version_major": 2,
       "version_minor": 0
      },
      "text/plain": [
       "[calculate on-policy policy value]:   0%|          | 0/100 [00:00<?, ?it/s]"
      ]
     },
     "metadata": {},
     "output_type": "display_data"
    },
    {
     "data": {
      "application/vnd.jupyter.widget-view+json": {
       "model_id": "fb3be481bee145c180cd0138468ae7d2",
       "version_major": 2,
       "version_minor": 0
      },
      "text/plain": [
       "[calculate on-policy policy value]:   0%|          | 0/100 [00:00<?, ?it/s]"
      ]
     },
     "metadata": {},
     "output_type": "display_data"
    },
    {
     "data": {
      "application/vnd.jupyter.widget-view+json": {
       "model_id": "355e64e9892546ab9111c6b6dda70587",
       "version_major": 2,
       "version_minor": 0
      },
      "text/plain": [
       "[calculate on-policy policy value]:   0%|          | 0/100 [00:00<?, ?it/s]"
      ]
     },
     "metadata": {},
     "output_type": "display_data"
    },
    {
     "data": {
      "image/png": "[encoded data removed]",
      "text/plain": [
       "<Figure size 800x400 with 1 Axes>"
      ]
     },
     "metadata": {},
     "output_type": "display_data"
    }
   ],
   "source": [
    "# compare the policy performance online\n",
    "# not better than online policy, but achieves almost the same performance\n",
    "# meaning that we can learn a reasonable policy without interacting with the environment!\n",
    "visualize_on_policy_policy_value(\n",
    "    env=env,\n",
    "    policies=[ddqn, behavior_policy, cql, random],\n",
    "    policy_names=[\"ddqn\", \"ddqn (e=0.3)\", \"cql (offline)\", \"random\"],\n",
    "    n_trajectories=100,\n",
    "    random_state=random_state,\n",
    ")"
   ]
  },
  {
   "cell_type": "markdown",
   "metadata": {},
   "source": [
    "## 3. Off-Policy Evaluation and Evaluation of Offline RL methods\n",
    "In the previous section, we verified the performance of a learned policy via online interaction (aka A/B tests).  \n",
    "However, it could be risky because the policy may perform poorly in an online environment.  \n",
    "To tackle this issue, we aim at evaluating the performance of a policy offline, to gain some prior knowledge on how agent works in the environment.\n",
    "\n",
    "#### Estimation Target\n",
    "\n",
    "The goal to estimate the estimators' average policy performance, the *policy value*.\n",
    "\n",
    "$$ V(\\pi) := \\mathbb{E}\\left[\\sum_{t=1}^T \\gamma^{t-1} r_t \\mid \\pi \\right] $$"
   ]
  },
  {
   "cell_type": "code",
   "execution_count": 120,
   "metadata": {},
   "outputs": [],
   "source": [
    "# import ope modules from OFRL\n",
    "from ofrl.ope import CreateOPEInput\n",
    "from ofrl.ope import OffPolicyEvaluation as OPE\n",
    "from ofrl.ope import DiscreteDirectMethod as DM\n",
    "from ofrl.ope import DiscreteTrajectoryWiseImportanceSampling as TIS\n",
    "from ofrl.ope import DiscretePerDecisionImportanceSampling as PDIS\n",
    "from ofrl.ope import DiscreteDoublyRobust as DR\n",
    "from ofrl.ope import DiscreteSelfNormalizedTrajectoryWiseImportanceSampling as SNTIS\n",
    "from ofrl.ope import DiscreteSelfNormalizedPerDecisionImportanceSampling as SNPDIS\n",
    "from ofrl.ope import DiscreteSelfNormalizedDoublyRobust as SNDR"
   ]
  },
  {
   "cell_type": "code",
   "execution_count": 121,
   "metadata": {},
   "outputs": [],
   "source": [
    "# define evaluation policies\n",
    "cql_ = DiscreteEpsilonGreedyHead(base_policy=cql, n_actions=env.action_space.n, name=\"cql\", epsilon=0.0, random_state=random_state)\n",
    "ddqn_ = DiscreteEpsilonGreedyHead(base_policy=ddqn, n_actions=env.action_space.n, name=\"ddqn\", epsilon=0.0, random_state=random_state)\n",
    "random_ = DiscreteEpsilonGreedyHead(base_policy=random, n_actions=env.action_space.n, name=\"random\", epsilon=1.0, random_state=random_state)\n",
    "evaluation_policies = [cql_, ddqn_, random_]"
   ]
  },
  {
   "cell_type": "code",
   "execution_count": 122,
   "metadata": {},
   "outputs": [],
   "source": [
    "# first, prepare OPE inputs\n",
    "prep = CreateOPEInput(\n",
    "    env=env,\n",
    "    model_args={\n",
    "        \"fqe\": {\n",
    "            \"encoder_factory\": VectorEncoderFactory(hidden_units=[30, 30]),\n",
    "            \"q_func_factory\": MeanQFunctionFactory(),\n",
    "            \"learning_rate\": 1e-4,\n",
    "            \"use_gpu\": torch.cuda.is_available(),\n",
    "        }\n",
    "    },\n",
    "    state_scaler=MinMaxScaler(\n",
    "        minimum=test_logged_dataset[\"state\"].min(axis=0),\n",
    "        maximum=test_logged_dataset[\"state\"].max(axis=0),\n",
    "    ),\n",
    ")"
   ]
  },
  {
   "cell_type": "code",
   "execution_count": 123,
   "metadata": {},
   "outputs": [
    {
     "data": {
      "application/vnd.jupyter.widget-view+json": {
       "model_id": "2ce9f69cb37840cb801b70f45cdc16fb",
       "version_major": 2,
       "version_minor": 0
      },
      "text/plain": [
       "[fit FQE model]:   0%|          | 0/3 [00:00<?, ?it/s]"
      ]
     },
     "metadata": {},
     "output_type": "display_data"
    },
    {
     "name": "stdout",
     "output_type": "stream",
     "text": [
      "2023-03-28 18:00.50 [debug    ] RoundIterator is selected.\n",
      "2023-03-28 18:00.50 [info     ] Directory is created at d3rlpy_logs/DiscreteFQE_20230328180050\n",
      "2023-03-28 18:00.50 [debug    ] Fitting scaler...              scaler=min_max\n",
      "2023-03-28 18:00.50 [debug    ] Building models...\n",
      "2023-03-28 18:00.50 [debug    ] Models have been built.\n",
      "2023-03-28 18:00.50 [info     ] Parameters are saved to d3rlpy_logs/DiscreteFQE_20230328180050/params.json params={'action_scaler': None, 'batch_size': 100, 'encoder_factory': {'type': 'vector', 'params': {'hidden_units': [30, 30], 'activation': 'relu', 'use_batch_norm': False, 'dropout_rate': None, 'use_dense': False}}, 'gamma': 1.0, 'generated_maxlen': 100000, 'learning_rate': 0.0001, 'n_critics': 1, 'n_frames': 1, 'n_steps': 1, 'optim_factory': {'optim_cls': 'Adam', 'betas': (0.9, 0.999), 'eps': 1e-08, 'weight_decay': 0, 'amsgrad': False}, 'q_func_factory': {'type': 'mean', 'params': {'share_encoder': False}}, 'real_ratio': 1.0, 'reward_scaler': None, 'scaler': {'type': 'min_max', 'params': {'maximum': array([0.99322107, 0.98846274, 0.99608767, 0.9884822 , 0.99712652]), 'minimum': array([-0.97585907, -0.98118773, -0.99833554, -0.99829591, -0.98213745])}}, 'target_update_interval': 100, 'use_gpu': None, 'algorithm': 'DiscreteFQE', 'observation_shape': (5,), 'action_size': 10}\n"
     ]
    },
    {
     "data": {
      "application/vnd.jupyter.widget-view+json": {
       "model_id": "14ece9017e6540aa8af465fbb66e9c03",
       "version_major": 2,
       "version_minor": 0
      },
      "text/plain": [
       "Epoch 1/1:   0%|          | 0/1000 [00:00<?, ?it/s]"
      ]
     },
     "metadata": {},
     "output_type": "display_data"
    },
    {
     "name": "stdout",
     "output_type": "stream",
     "text": [
      "2023-03-28 18:00.51 [info     ] DiscreteFQE_20230328180050: epoch=1 step=1000 epoch=1 metrics={'time_sample_batch': 9.126806259155273e-05, 'time_algorithm_update': 0.0008139369487762451, 'loss': 0.26439161351323126, 'time_step': 0.0009453678131103515} step=1000\n",
      "2023-03-28 18:00.51 [info     ] Model parameters are saved to d3rlpy_logs/DiscreteFQE_20230328180050/model_1000.pt\n",
      "2023-03-28 18:00.51 [debug    ] RoundIterator is selected.\n",
      "2023-03-28 18:00.51 [info     ] Directory is created at d3rlpy_logs/DiscreteFQE_20230328180051\n",
      "2023-03-28 18:00.51 [debug    ] Fitting scaler...              scaler=min_max\n",
      "2023-03-28 18:00.51 [debug    ] Building models...\n",
      "2023-03-28 18:00.51 [debug    ] Models have been built.\n",
      "2023-03-28 18:00.51 [info     ] Parameters are saved to d3rlpy_logs/DiscreteFQE_20230328180051/params.json params={'action_scaler': None, 'batch_size': 100, 'encoder_factory': {'type': 'vector', 'params': {'hidden_units': [30, 30], 'activation': 'relu', 'use_batch_norm': False, 'dropout_rate': None, 'use_dense': False}}, 'gamma': 1.0, 'generated_maxlen': 100000, 'learning_rate': 0.0001, 'n_critics': 1, 'n_frames': 1, 'n_steps': 1, 'optim_factory': {'optim_cls': 'Adam', 'betas': (0.9, 0.999), 'eps': 1e-08, 'weight_decay': 0, 'amsgrad': False}, 'q_func_factory': {'type': 'mean', 'params': {'share_encoder': False}}, 'real_ratio': 1.0, 'reward_scaler': None, 'scaler': {'type': 'min_max', 'params': {'maximum': array([0.99322107, 0.98846274, 0.99608767, 0.9884822 , 0.99712652]), 'minimum': array([-0.97585907, -0.98118773, -0.99833554, -0.99829591, -0.98213745])}}, 'target_update_interval': 100, 'use_gpu': None, 'algorithm': 'DiscreteFQE', 'observation_shape': (5,), 'action_size': 10}\n"
     ]
    },
    {
     "data": {
      "application/vnd.jupyter.widget-view+json": {
       "model_id": "81613315ab51438ab010e143853d0d13",
       "version_major": 2,
       "version_minor": 0
      },
      "text/plain": [
       "Epoch 1/1:   0%|          | 0/1000 [00:00<?, ?it/s]"
      ]
     },
     "metadata": {},
     "output_type": "display_data"
    },
    {
     "name": "stdout",
     "output_type": "stream",
     "text": [
      "2023-03-28 18:00.53 [info     ] DiscreteFQE_20230328180051: epoch=1 step=1000 epoch=1 metrics={'time_sample_batch': 0.00010971522331237792, 'time_algorithm_update': 0.0011289784908294679, 'loss': 0.25866358111798765, 'time_step': 0.0012947192192077637} step=1000\n",
      "2023-03-28 18:00.53 [info     ] Model parameters are saved to d3rlpy_logs/DiscreteFQE_20230328180051/model_1000.pt\n",
      "2023-03-28 18:00.53 [debug    ] RoundIterator is selected.\n",
      "2023-03-28 18:00.53 [info     ] Directory is created at d3rlpy_logs/DiscreteFQE_20230328180053\n",
      "2023-03-28 18:00.53 [debug    ] Fitting scaler...              scaler=min_max\n",
      "2023-03-28 18:00.53 [debug    ] Building models...\n",
      "2023-03-28 18:00.53 [debug    ] Models have been built.\n",
      "2023-03-28 18:00.53 [info     ] Parameters are saved to d3rlpy_logs/DiscreteFQE_20230328180053/params.json params={'action_scaler': None, 'batch_size': 100, 'encoder_factory': {'type': 'vector', 'params': {'hidden_units': [30, 30], 'activation': 'relu', 'use_batch_norm': False, 'dropout_rate': None, 'use_dense': False}}, 'gamma': 1.0, 'generated_maxlen': 100000, 'learning_rate': 0.0001, 'n_critics': 1, 'n_frames': 1, 'n_steps': 1, 'optim_factory': {'optim_cls': 'Adam', 'betas': (0.9, 0.999), 'eps': 1e-08, 'weight_decay': 0, 'amsgrad': False}, 'q_func_factory': {'type': 'mean', 'params': {'share_encoder': False}}, 'real_ratio': 1.0, 'reward_scaler': None, 'scaler': {'type': 'min_max', 'params': {'maximum': array([0.99322107, 0.98846274, 0.99608767, 0.9884822 , 0.99712652]), 'minimum': array([-0.97585907, -0.98118773, -0.99833554, -0.99829591, -0.98213745])}}, 'target_update_interval': 100, 'use_gpu': None, 'algorithm': 'DiscreteFQE', 'observation_shape': (5,), 'action_size': 10}\n"
     ]
    },
    {
     "data": {
      "application/vnd.jupyter.widget-view+json": {
       "model_id": "500b66a159884265bca61527fd2c29c3",
       "version_major": 2,
       "version_minor": 0
      },
      "text/plain": [
       "Epoch 1/1:   0%|          | 0/1000 [00:00<?, ?it/s]"
      ]
     },
     "metadata": {},
     "output_type": "display_data"
    },
    {
     "name": "stdout",
     "output_type": "stream",
     "text": [
      "2023-03-28 18:00.54 [info     ] DiscreteFQE_20230328180053: epoch=1 step=1000 epoch=1 metrics={'time_sample_batch': 0.00010119438171386719, 'time_algorithm_update': 0.000848703384399414, 'loss': 0.1778251711130142, 'time_step': 0.0010058860778808594} step=1000\n",
      "2023-03-28 18:00.54 [info     ] Model parameters are saved to d3rlpy_logs/DiscreteFQE_20230328180053/model_1000.pt\n"
     ]
    },
    {
     "data": {
      "application/vnd.jupyter.widget-view+json": {
       "model_id": "b18acd592c5e4a1f930997b5a9e48495",
       "version_major": 2,
       "version_minor": 0
      },
      "text/plain": [
       "[collect input data: eval_policy]:   0%|          | 0/3 [00:00<?, ?it/s]"
      ]
     },
     "metadata": {},
     "output_type": "display_data"
    },
    {
     "data": {
      "application/vnd.jupyter.widget-view+json": {
       "model_id": "6db37ca5108d4fdf8ce3cd138c34ff3d",
       "version_major": 2,
       "version_minor": 0
      },
      "text/plain": [
       "[calculate on-policy policy value]:   0%|          | 0/100 [00:00<?, ?it/s]"
      ]
     },
     "metadata": {},
     "output_type": "display_data"
    },
    {
     "data": {
      "application/vnd.jupyter.widget-view+json": {
       "model_id": "c29296a0b51d4b868b05c911243d4a78",
       "version_major": 2,
       "version_minor": 0
      },
      "text/plain": [
       "[calculate on-policy policy value]:   0%|          | 0/100 [00:00<?, ?it/s]"
      ]
     },
     "metadata": {},
     "output_type": "display_data"
    },
    {
     "data": {
      "application/vnd.jupyter.widget-view+json": {
       "model_id": "5c7ebe600b034b17898be1a63cb12bd1",
       "version_major": 2,
       "version_minor": 0
      },
      "text/plain": [
       "[calculate on-policy policy value]:   0%|          | 0/100 [00:00<?, ?it/s]"
      ]
     },
     "metadata": {},
     "output_type": "display_data"
    }
   ],
   "source": [
    "# takes time\n",
    "input_dict = prep.obtain_whole_inputs(\n",
    "    logged_dataset=test_logged_dataset,\n",
    "    evaluation_policies=evaluation_policies,\n",
    "    require_value_prediction=True,\n",
    "    n_trajectories_on_policy_evaluation=100,\n",
    "    random_state=random_state,\n",
    ")"
   ]
  },
  {
   "cell_type": "code",
   "execution_count": 124,
   "metadata": {},
   "outputs": [],
   "source": [
    "with open(\"logs/ope_input_dict_discrete.pkl\", \"wb\") as f:\n",
    "    pickle.dump(input_dict, f)"
   ]
  },
  {
   "cell_type": "code",
   "execution_count": 125,
   "metadata": {},
   "outputs": [],
   "source": [
    "with open(\"logs/ope_input_dict_discrete.pkl\", \"rb\") as f:\n",
    "    input_dict = pickle.load(f)"
   ]
  },
  {
   "cell_type": "code",
   "execution_count": 126,
   "metadata": {},
   "outputs": [],
   "source": [
    "ope = OPE(\n",
    "    logged_dataset=test_logged_dataset,\n",
    "    ope_estimators=[DM(), TIS(), PDIS(), DR(), SNTIS(), SNPDIS(), SNDR()],\n",
    ")"
   ]
  },
  {
   "cell_type": "code",
   "execution_count": 127,
   "metadata": {},
   "outputs": [],
   "source": [
    "# performance estimation by ope\n",
    "policy_value_df_dict, policy_value_interval_df_dict = ope.summarize_off_policy_estimates(input_dict, random_state=random_state)"
   ]
  },
  {
   "cell_type": "code",
   "execution_count": 128,
   "metadata": {},
   "outputs": [
    {
     "data": {
      "text/plain": [
       "{'cql':            policy_value  relative_policy_value\n",
       " on_policy      8.650758               1.000000\n",
       " dm             3.603635               0.416569\n",
       " tis           10.356894               1.197224\n",
       " pdis           9.591451               1.108741\n",
       " dr             8.864689               1.024730\n",
       " sntis          8.620411               0.996492\n",
       " snpdis         8.636274               0.998326\n",
       " sndr           8.649188               0.999818,\n",
       " 'ddqn':            policy_value  relative_policy_value\n",
       " on_policy      8.497738               1.000000\n",
       " dm             3.048463               0.358738\n",
       " tis            8.570957               1.008616\n",
       " pdis           8.665212               1.019708\n",
       " dr             8.648335               1.017722\n",
       " sntis          8.487274               0.998769\n",
       " snpdis         8.485314               0.998538\n",
       " sndr           8.499160               1.000167,\n",
       " 'random':            policy_value  relative_policy_value\n",
       " on_policy      1.651448               1.000000\n",
       " dm             1.191508               0.721493\n",
       " tis            3.037620               1.839368\n",
       " pdis           4.070585               2.464858\n",
       " dr             3.837811               2.323907\n",
       " sntis          1.840317               1.114366\n",
       " snpdis         1.831143               1.108811\n",
       " sndr           1.854630               1.123033}"
      ]
     },
     "execution_count": 128,
     "metadata": {},
     "output_type": "execute_result"
    }
   ],
   "source": [
    "# estimated policy performance\n",
    "policy_value_df_dict"
   ]
  },
  {
   "cell_type": "code",
   "execution_count": 129,
   "metadata": {},
   "outputs": [
    {
     "data": {
      "text/plain": [
       "{'cql':                 mean  95.0% CI (lower)  95.0% CI (upper)\n",
       " on_policy   8.651274          8.608794          8.699383\n",
       " dm          3.603985          3.596475          3.611111\n",
       " tis        10.358809          6.596328         15.231923\n",
       " pdis        9.522862          8.551443         10.793467\n",
       " dr          8.782814          7.713093          9.812197\n",
       " sntis       8.622005          5.490358         12.678071\n",
       " snpdis      8.575167          7.725558          9.699821\n",
       " sndr        8.577512          7.672495          9.473204,\n",
       " 'ddqn':                mean  95.0% CI (lower)  95.0% CI (upper)\n",
       " on_policy  8.495127          8.460262          8.527877\n",
       " dm         3.048437          3.041189          3.056541\n",
       " tis        8.606739          7.835983          9.389393\n",
       " pdis       8.689653          8.335703          9.005764\n",
       " dr         8.662518          8.495338          8.819123\n",
       " sntis      8.522706          7.759476          9.297719\n",
       " snpdis     8.509226          8.162912          8.818544\n",
       " sndr       8.512897          8.347904          8.669852,\n",
       " 'random':                mean  95.0% CI (lower)  95.0% CI (upper)\n",
       " on_policy  1.673150          1.370322          1.950303\n",
       " dm         1.191699          1.188814          1.194192\n",
       " tis        2.984366          0.502131          6.968736\n",
       " pdis       4.024551          1.026842          9.548617\n",
       " dr         3.826443          0.294612          8.909789\n",
       " sntis      1.808054          0.304212          4.221951\n",
       " snpdis     1.820368          0.844744          3.351195\n",
       " sndr       1.860021          0.690370          2.712664}"
      ]
     },
     "execution_count": 129,
     "metadata": {},
     "output_type": "execute_result"
    }
   ],
   "source": [
    "# estimated confidence intervals of the policy performance\n",
    "policy_value_interval_df_dict"
   ]
  },
  {
   "cell_type": "markdown",
   "metadata": {},
   "source": [
    "## 4. Evaluation of OPE methods\n",
    "Now, we evaluate how well the ope estimators estimated the policy value."
   ]
  },
  {
   "cell_type": "code",
   "execution_count": 130,
   "metadata": {},
   "outputs": [
    {
     "data": {
      "image/png": "[encoded data removed]",
      "text/plain": [
       "<Figure size 1400x1200 with 3 Axes>"
      ]
     },
     "metadata": {},
     "output_type": "display_data"
    }
   ],
   "source": [
    "# we can visualize and compare the result\n",
    "# it seems that DM tends to have a bias though the variance is quite small, \n",
    "# while (trajectory-wise) importance sampling estimators have a smaller bias with a larger variance.\n",
    "# self-normalized estimators also works well\n",
    "ope.visualize_off_policy_estimates(input_dict, random_state=random_state, sharey=False)"
   ]
  },
  {
   "cell_type": "code",
   "execution_count": 131,
   "metadata": {},
   "outputs": [
    {
     "data": {
      "text/html": [
       "<div>\n",
       "<style scoped>\n",
       "    .dataframe tbody tr th:only-of-type {\n",
       "        vertical-align: middle;\n",
       "    }\n",
       "\n",
       "    .dataframe tbody tr th {\n",
       "        vertical-align: top;\n",
       "    }\n",
       "\n",
       "    .dataframe thead th {\n",
       "        text-align: right;\n",
       "    }\n",
       "</style>\n",
       "<table border=\"1\" class=\"dataframe\">\n",
       "  <thead>\n",
       "    <tr style=\"text-align: right;\">\n",
       "      <th></th>\n",
       "      <th>cql</th>\n",
       "      <th>ddqn</th>\n",
       "      <th>random</th>\n",
       "    </tr>\n",
       "  </thead>\n",
       "  <tbody>\n",
       "    <tr>\n",
       "      <th>dm</th>\n",
       "      <td>25.473455</td>\n",
       "      <td>29.694595</td>\n",
       "      <td>0.211544</td>\n",
       "    </tr>\n",
       "    <tr>\n",
       "      <th>tis</th>\n",
       "      <td>2.910900</td>\n",
       "      <td>0.005361</td>\n",
       "      <td>1.921475</td>\n",
       "    </tr>\n",
       "    <tr>\n",
       "      <th>pdis</th>\n",
       "      <td>0.884904</td>\n",
       "      <td>0.028048</td>\n",
       "      <td>5.852225</td>\n",
       "    </tr>\n",
       "    <tr>\n",
       "      <th>dr</th>\n",
       "      <td>0.045766</td>\n",
       "      <td>0.022680</td>\n",
       "      <td>4.780185</td>\n",
       "    </tr>\n",
       "    <tr>\n",
       "      <th>sntis</th>\n",
       "      <td>0.000921</td>\n",
       "      <td>0.000109</td>\n",
       "      <td>0.035672</td>\n",
       "    </tr>\n",
       "    <tr>\n",
       "      <th>snpdis</th>\n",
       "      <td>0.000210</td>\n",
       "      <td>0.000154</td>\n",
       "      <td>0.032290</td>\n",
       "    </tr>\n",
       "    <tr>\n",
       "      <th>sndr</th>\n",
       "      <td>0.000002</td>\n",
       "      <td>0.000002</td>\n",
       "      <td>0.041283</td>\n",
       "    </tr>\n",
       "  </tbody>\n",
       "</table>\n",
       "</div>"
      ],
      "text/plain": [
       "              cql       ddqn    random\n",
       "dm      25.473455  29.694595  0.211544\n",
       "tis      2.910900   0.005361  1.921475\n",
       "pdis     0.884904   0.028048  5.852225\n",
       "dr       0.045766   0.022680  4.780185\n",
       "sntis    0.000921   0.000109  0.035672\n",
       "snpdis   0.000210   0.000154  0.032290\n",
       "sndr     0.000002   0.000002  0.041283"
      ]
     },
     "execution_count": 131,
     "metadata": {},
     "output_type": "execute_result"
    }
   ],
   "source": [
    "# squared-error (se) measures the estimation accuracy of OPE\n",
    "eval_metric_ope_df = ope.evaluate_performance_of_ope_estimators(\n",
    "    input_dict, \n",
    "    metric=\"se\",\n",
    "    return_by_dataframe=True,\n",
    ")\n",
    "eval_metric_ope_df"
   ]
  },
  {
   "attachments": {},
   "cell_type": "markdown",
   "metadata": {},
   "source": [
    "For more advanced topics in OPE (e.g., cumulative distribution function estimation) and OPS, please refer to [examples/quickstart/basic/basic_synthetic_discrete_advanced.ipynb](https://github.com/negocia-inc/ofrl/blob/ope/examples/quickstart/basic/basic_synthetic_discrete_advanced.ipynb). \n",
    "\n",
    "For more advanced OPE estimators (e.g., state(-action) marginal estimators and double reinforcement learning), please refer to [examples/quickstart/basic/basic_synthetic_discrete_zoo.ipynb](https://github.com/negocia-inc/ofrl/blob/ope/examples/quickstart/basic/basic_synthetic_discrete_zoo.ipynb). \n",
    "\n",
    "For the examples in the continuous action space, please refer to [examples/quickstart/basic/basic_synthetic_continuous_basic.ipynb](https://github.com/negocia-inc/basic_reinforcement_learing/blob/ope/examples/quickstart/basic/basic_synthetic_continuous_basic.ipynb)."
   ]
  },
  {
   "cell_type": "markdown",
   "metadata": {},
   "source": [
    "## Reference\n",
    "\n",
    "- Yuta Saito, Shunsuke Aihara, Megumi Matsutani, and Yusuke Narita. \\\n",
    "\"Open Bandit Dataset and Pipeline: Towards Realistic and Reproducible Off-Policy Evaluation.\", 2021.\n",
    "\n",
    "- Takuma Seno and Michita Imai. \\\n",
    "\"d3rlpy: An Offline Deep Reinforcement Library.\", 2021.\n",
    "\n",
    "- Sergey Levine, Aviral Kumar, George Tucker, and Justin Fu. \\\n",
    "\"Offline Reinforcement Learning: Tutorial, Review, and Perspectives on Open Problems.\" 2020.\n",
    "\n",
    "- Aviral Kumar, Aurick Zhou, George Tucker, and Sergey Levine. \\\n",
    "\"Conservative Q-Learning for Offline Reinforcement Learning.\", 2020.\n",
    "\n",
    "- Nathan Kallus and Masatoshi Uehara. \\\n",
    "\"Intrinsically Efficient, Stable, and Bounded Off-Policy Evaluation for Reinforcement Learning.\", 2019.\n",
    "\n",
    "- Hoang Le, Cameron Voloshin, and Yisong Yue. \\\n",
    "\"Batch Policy Learning under Constraints.\", 2019.\n",
    "\n",
    "- Di Wu, Xiujun Chen, Xun Yang, Hao Wang, Qing Tan, Xiaoxun Zhang, Jian Xu, and Kun Gai. \\\n",
    "\"Budget Constrained Bidding by Model-free Reinforcement Learning in Display Advertising.\", 2018.\n",
    "\n",
    "- Jun Zhao, Guang Qiu, Ziyu Guan, Wei Zhao, and Xiaofei He. \\\n",
    "\"Deep Reinforcement Learning for Sponsored Search Real-time Bidding.\", 2018.\n",
    "\n",
    "- Nan Jiang and Lihong Li. \\\n",
    "\"Doubly Robust Off-policy Value Evaluation for Reinforcement Learning.\", 2016.\n",
    "\n",
    "- Philip S. Thomas and Emma Brunskill. \\\n",
    "\"Data-Efficient Off-Policy Policy Evaluation for Reinforcement Learning.\", 2016.\n",
    "\n",
    "- Greg Brockman, Vicki Cheung, Ludwig Pettersson, Jonas Schneider, John Schulman, Jie Tang, and Wojciech Zaremba. \\\n",
    "\"OpenAI Gym.\", 2016.\n",
    "\n",
    "- Adith Swaminathan and Thorsten Joachims. \\\n",
    "\"The Self-Normalized Estimator for Counterfactual Learning.\", 2015.\n",
    "\n",
    "- Hado van Hasselt, Arthur Guez, and David Silver. \\\n",
    "\"Deep Reinforcement Learning with Double Q-learning.\", 2015.\n",
    "\n",
    "- Miroslav Dudík, Dumitru Erhan, John Langford, and Lihong Li. \\\n",
    "\"Doubly Robust Policy Evaluation and Optimization.\", 2014.\n",
    "\n",
    "- Alex Strehl, John Langford, Sham Kakade, and Lihong Li. \\\n",
    "\"Learning from Logged Implicit Exploration Data.\", 2010.\n",
    "\n",
    "- Alina Beygelzimer and John Langford. \\\n",
    "\"The Offset Tree for Learning with Partial Labels.\", 2009.\n",
    "\n",
    "- Doina Precup, Richard S. Sutton, and Satinder P. Singh. \\\n",
    "\"Eligibility Traces for Off-Policy Policy Evaluation.\", 2000."
   ]
  },
  {
   "cell_type": "code",
   "execution_count": null,
   "metadata": {},
   "outputs": [],
   "source": []
  }
 ],
 "metadata": {
  "kernelspec": {
   "display_name": "Python 3",
   "language": "python",
   "name": "python3"
  },
  "language_info": {
   "codemirror_mode": {
    "name": "ipython",
    "version": 3
   },
   "file_extension": ".py",
   "mimetype": "text/x-python",
   "name": "python",
   "nbconvert_exporter": "python",
   "pygments_lexer": "ipython3",
   "version": "3.10.6"
  },
  "vscode": {
   "interpreter": {
    "hash": "70404ee114725fce8ed9e697d67827f8546c678889944e6d695790702cbfe1f5"
   }
  }
 },
 "nbformat": 4,
 "nbformat_minor": 4
}
