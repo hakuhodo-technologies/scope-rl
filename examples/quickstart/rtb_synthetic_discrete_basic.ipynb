{
 "cells": [
  {
   "cell_type": "markdown",
   "metadata": {},
   "source": [
    "# Quickstart Example with Synthetic RTB Simulation and Dataset (Discrete)\n",
    "This notebook provides an example of conducting **Off-policy Evaluation (OPE) and Offline Reinforcement Learning (Offline RL) on a synthetic Real-Time Bidding (RTB) dataset**.\n",
    "\n",
    "This example consists of the following 5 steps: \\\n",
    "0. (Setup Synthetic RTB Simulation Environment and Online RL)\n",
    "1. Synthetic Data Generation\n",
    "2. Offline Reinforcement Learning\n",
    "3. Off-Policy Evaluation and Evaluation of Offline RL methods\n",
    "4. Evaluation of OPE methods\n",
    "\n",
    "\\* This library uses [d3rlpy](https://github.com/takuseno/d3rlpy)'s algorithm implementations of online/offline rl policies and model-based evaluation.  \n",
    "\\* Also, our implementations of OPE are highly inspired by [Open Bandit Pipeline](https://github.com/st-tech/zr-obp)."
   ]
  },
  {
   "cell_type": "code",
   "execution_count": 1,
   "metadata": {},
   "outputs": [],
   "source": [
    "# delete later\n",
    "%load_ext autoreload\n",
    "%autoreload 2"
   ]
  },
  {
   "cell_type": "code",
   "execution_count": 2,
   "metadata": {},
   "outputs": [],
   "source": [
    "# delete later\n",
    "import warnings\n",
    "warnings.simplefilter('ignore')"
   ]
  },
  {
   "cell_type": "code",
   "execution_count": 3,
   "metadata": {},
   "outputs": [],
   "source": [
    "# delete later\n",
    "import sys\n",
    "sys.path.append('../')\n",
    "sys.path.append('../../')"
   ]
  },
  {
   "cell_type": "code",
   "execution_count": 4,
   "metadata": {},
   "outputs": [],
   "source": [
    "# import OFRL modules\n",
    "import ofrl\n",
    "from rtbgym import RTBEnv, CustomizedRTBEnv\n",
    "from ofrl.dataset import SyntheticDataset\n",
    "from ofrl.policy import OnlineHead\n",
    "from ofrl.ope.online import (\n",
    "    calc_on_policy_policy_value,\n",
    "    visualize_on_policy_policy_value,\n",
    ")\n",
    "\n",
    "# import d3rlpy algorithms\n",
    "from d3rlpy.algos import DiscreteRandomPolicy\n",
    "from d3rlpy.algos import RandomPolicy as ContinuousRandomPolicy\n",
    "# from d3rlpy.preprocessing import MinMaxScaler, MinMaxActionScaler\n",
    "from ofrl.utils import MinMaxScaler, MinMaxActionScaler\n",
    "\n",
    "# import from other libraries\n",
    "import gym\n",
    "import torch\n",
    "from sklearn.model_selection import train_test_split"
   ]
  },
  {
   "cell_type": "code",
   "execution_count": 5,
   "metadata": {},
   "outputs": [],
   "source": [
    "import pickle\n",
    "from glob import glob\n",
    "from tqdm import tqdm\n",
    "\n",
    "import numpy as np\n",
    "import pandas as pd\n",
    "\n",
    "import matplotlib.pyplot as plt\n",
    "import seaborn as sns\n",
    "\n",
    "%matplotlib inline"
   ]
  },
  {
   "cell_type": "code",
   "execution_count": 6,
   "metadata": {},
   "outputs": [
    {
     "name": "stdout",
     "output_type": "stream",
     "text": [
      "0.0.0\n"
     ]
    }
   ],
   "source": [
    "# version\n",
    "print(ofrl.__version__)"
   ]
  },
  {
   "cell_type": "code",
   "execution_count": 7,
   "metadata": {},
   "outputs": [],
   "source": [
    "# set random state\n",
    "random_state = 12345"
   ]
  },
  {
   "cell_type": "code",
   "execution_count": 8,
   "metadata": {},
   "outputs": [],
   "source": [
    "# log directory\n",
    "from pathlib import Path\n",
    "Path(\"logs/\").mkdir(exist_ok=True)"
   ]
  },
  {
   "cell_type": "markdown",
   "metadata": {},
   "source": [
    "## 0. (Setup Synthetic RTB Simulation Environment and Online RL)\n",
    "To begin with, we briefly describe how the RTB environment works for the preparation.\n",
    "\n",
    "#### RL setup for RTB\n",
    "In RTB, the objective of the RL agent is to maximize some KPIs (number of clicks or conversions) within an episode under given budget constraints.  \n",
    "We often try to achieve this by adjusting bidding price function parameter $\\alpha$. By using $\\alpha$, we can adjust the bid price as follows.  \n",
    "$bid_{t,i} = \\alpha \\cdot r^{\\ast}$, \n",
    "where $r^{\\ast}$ denotes a predicted or expected reward (KPIs).\n",
    "\n",
    "We often formulate this RTB problem as the following Constrained Markov Decision Process (CMDP):\n",
    "- `timestep`: One episode (a day or a week) consists of several timesteps (24 hours or seven days, for instance).\n",
    "- `state`: We observe some feedback from the environment at each timestep, which includes the following.\n",
    "  - timestep\n",
    "  - remaining budget\n",
    "  - impression level features (budget consumption rate, cost per mille of impressions, auction winning rate, reward) at the previous timestep\n",
    "  - adjust rate (RL agent's decision making) at the previous timestep\n",
    "- `action`: Agent chooses adjust rate parameter $\\alpha$ to maximize KPIs.\n",
    "- `reward`: Total number of clicks or conversions obtained during the timestep.\n",
    "- `constraints`: The pre-determined episodic budget should not be exceeded.\n",
    "\n",
    "For more about the environmental configuration , please refer to [examples/quickstart/rtb_synthetic_customize_env.ipynb](https://github.com/negocia-inc/rtb_reinforcement_learing/blob/ope/examples/quickstart/rtb_synthetic_customize_env.ipynb).\n",
    "\n",
    "Let's see how it works!"
   ]
  },
  {
   "cell_type": "code",
   "execution_count": 9,
   "metadata": {},
   "outputs": [],
   "source": [
    "# setup environment\n",
    "env = RTBEnv(random_state=random_state)"
   ]
  },
  {
   "cell_type": "code",
   "execution_count": 10,
   "metadata": {},
   "outputs": [],
   "source": [
    "# define a random agent\n",
    "agent = OnlineHead(\n",
    "    ContinuousRandomPolicy(\n",
    "        action_scaler=MinMaxActionScaler(\n",
    "            minimum=0.1,  # minimum value that policy can take\n",
    "            maximum=10,  # maximum value that policy can take\n",
    "        )\n",
    "    ),\n",
    "    name=\"random\",\n",
    ")"
   ]
  },
  {
   "cell_type": "code",
   "execution_count": 11,
   "metadata": {},
   "outputs": [],
   "source": [
    "# interact agent with the environment\n",
    "# only 6 lines are needed for RL interaction\n",
    "for episode in range(10):\n",
    "    obs, info = env.reset()\n",
    "    done = False\n",
    "\n",
    "    while not done:\n",
    "        action = agent.predict_online(obs)\n",
    "        obs, reward, done, truncated, info = env.step(action)"
   ]
  },
  {
   "cell_type": "code",
   "execution_count": 12,
   "metadata": {},
   "outputs": [
    {
     "name": "stdout",
     "output_type": "stream",
     "text": [
      "['timestep', 'remaining_budget', 'budget_consumption_rate', 'cost_per_mille_of_impression', 'winning_rate', 'reward', 'adjust_rate']\n",
      "(7,)\n"
     ]
    }
   ],
   "source": [
    "# state contains the following feedback from the environment\n",
    "print(env.obs_keys)\n",
    "print(obs.shape)"
   ]
  },
  {
   "cell_type": "code",
   "execution_count": 13,
   "metadata": {},
   "outputs": [
    {
     "data": {
      "image/png": "[encoded data removed]",
      "text/plain": [
       "<Figure size 432x288 with 2 Axes>"
      ]
     },
     "metadata": {
      "needs_background": "light"
     },
     "output_type": "display_data"
    }
   ],
   "source": [
    "# let's visualize the transition of the remaining budget and cumulative reward\n",
    "# our goal is to obtain a policy (or an agent) that maximizes the cumulative reward under budget constraints using RL.  \n",
    "obs, info = env.reset()\n",
    "done = False\n",
    "remaining_budget = [obs[1]]\n",
    "cumulative_reward = [0]\n",
    "\n",
    "while not done:\n",
    "    action = agent.predict_online(obs)\n",
    "    obs, reward, done, truncated, info = env.step(action)\n",
    "    remaining_budget.append(obs[1])\n",
    "    cumulative_reward.append(cumulative_reward[-1] + reward)\n",
    "\n",
    "# plot\n",
    "fig = plt.figure()\n",
    "ax1 = fig.add_subplot(111)\n",
    "ax1.plot(remaining_budget[:-1], label='remaining budget')\n",
    "ax2 = ax1.twinx()\n",
    "ax2.plot(cumulative_reward[:-1], label='cumulative reward', color='tab:orange')\n",
    "ax1.set_xlabel('timestep')\n",
    "ax1.set_ylabel('remainig budget')\n",
    "ax1.set_ylim(0, env.initial_budget + 100)\n",
    "ax2.set_ylabel('reward (coversion)')\n",
    "ax1.legend(loc='upper left')\n",
    "ax2.legend(loc='upper right')\n",
    "plt.show()"
   ]
  },
  {
   "cell_type": "markdown",
   "metadata": {},
   "source": [
    "We see that the random policy run out the budget quickly.  \n",
    "Our goal is to derive a policy that controls the adjust rate (i.e., action) to maximize the reward within the given budget constraints.\n",
    "\n",
    "For more about the environmental configurations and customization, please refer to [examples/quickstart/rtb_synthetic_customize_env.ipynb](https://github.com/negocia-inc/rtb_reinforcement_learing/blob/ope/examples/quickstart/rtb_synthetic_customize_env.ipynb)."
   ]
  },
  {
   "cell_type": "markdown",
   "metadata": {},
   "source": [
    "#### Online RL and comparison of the policies\n",
    "We now learn an online RL policy and compare it to the random policy, using on-policy policy estimation."
   ]
  },
  {
   "cell_type": "code",
   "execution_count": 14,
   "metadata": {},
   "outputs": [
    {
     "name": "stdout",
     "output_type": "stream",
     "text": [
      "[ 0.1         0.16681005  0.27825594  0.46415888  0.77426368  1.29154967\n",
      "  2.15443469  3.59381366  5.9948425  10.        ]\n"
     ]
    }
   ],
   "source": [
    "# standardized environment for discrete action\n",
    "env = gym.make(\"RTBEnv-discrete-v0\")\n",
    "print(env.action_meaning)"
   ]
  },
  {
   "cell_type": "code",
   "execution_count": 15,
   "metadata": {},
   "outputs": [],
   "source": [
    "# for api compatibility to d3rlpy\n",
    "from ofrl.utils import OldGymAPIWrapper\n",
    "env_ = OldGymAPIWrapper(env)"
   ]
  },
  {
   "cell_type": "code",
   "execution_count": 16,
   "metadata": {},
   "outputs": [],
   "source": [
    "from d3rlpy.algos import DoubleDQN\n",
    "from d3rlpy.models.encoders import VectorEncoderFactory\n",
    "from d3rlpy.models.q_functions import MeanQFunctionFactory\n",
    "from d3rlpy.online.buffers import ReplayBuffer\n",
    "from d3rlpy.online.explorers import LinearDecayEpsilonGreedy\n",
    "\n",
    "# model\n",
    "ddqn = DoubleDQN(\n",
    "    encoder_factory=VectorEncoderFactory(hidden_units=[30, 30]),\n",
    "    q_func_factory=MeanQFunctionFactory(),\n",
    "    target_update_interval=100,\n",
    "    use_gpu=torch.cuda.is_available(),\n",
    ")\n",
    "# replay buffer\n",
    "buffer = ReplayBuffer(\n",
    "    maxlen=10000,\n",
    "    env=env_,\n",
    ")\n",
    "# explorers\n",
    "explorer = LinearDecayEpsilonGreedy(\n",
    "    start_epsilon=1.0,\n",
    "    end_epsilon=0.3,\n",
    "    duration=1000,\n",
    ")"
   ]
  },
  {
   "cell_type": "code",
   "execution_count": 19,
   "metadata": {},
   "outputs": [
    {
     "name": "stdout",
     "output_type": "stream",
     "text": [
      "2023-01-28 04:51.42 [info     ] Directory is created at d3rlpy_logs/DoubleDQN_online_20230128045142\n",
      "2023-01-28 04:51.42 [warning  ] Skip building models since they're already built.\n",
      "2023-01-28 04:51.42 [info     ] Parameters are saved to d3rlpy_logs/DoubleDQN_online_20230128045142/params.json params={'action_scaler': None, 'batch_size': 32, 'encoder_factory': {'type': 'vector', 'params': {'hidden_units': [30, 30], 'activation': 'relu', 'use_batch_norm': False, 'dropout_rate': None, 'use_dense': False}}, 'gamma': 0.99, 'generated_maxlen': 100000, 'learning_rate': 6.25e-05, 'n_critics': 1, 'n_frames': 1, 'n_steps': 1, 'optim_factory': {'optim_cls': 'Adam', 'betas': (0.9, 0.999), 'eps': 1e-08, 'weight_decay': 0, 'amsgrad': False}, 'q_func_factory': {'type': 'mean', 'params': {'share_encoder': False}}, 'real_ratio': 1.0, 'reward_scaler': None, 'scaler': None, 'target_update_interval': 100, 'use_gpu': None, 'algorithm': 'DoubleDQN', 'observation_shape': (7,), 'action_size': 10}\n"
     ]
    },
    {
     "data": {
      "application/vnd.jupyter.widget-view+json": {
       "model_id": "4f49984ebd474e29b5b7123c915d4bea",
       "version_major": 2,
       "version_minor": 0
      },
      "text/plain": [
       "  0%|          | 0/100000 [00:00<?, ?it/s]"
      ]
     },
     "metadata": {},
     "output_type": "display_data"
    },
    {
     "name": "stdout",
     "output_type": "stream",
     "text": [
      "2023-01-28 04:51.43 [info     ] Model parameters are saved to d3rlpy_logs/DoubleDQN_online_20230128045142/model_1000.pt\n",
      "2023-01-28 04:51.43 [info     ] DoubleDQN_online_20230128045142: epoch=1 step=1000 epoch=1 metrics={'time_inference': 0.00031030821800231935, 'time_environment_step': 0.0005837061405181885, 'time_step': 0.0009318354129791259, 'rollout_return': 13.605633802816902, 'evaluation': 16.6} step=1000\n",
      "2023-01-28 04:51.46 [info     ] Model parameters are saved to d3rlpy_logs/DoubleDQN_online_20230128045142/model_2000.pt\n",
      "2023-01-28 04:51.46 [info     ] DoubleDQN_online_20230128045142: epoch=2 step=2000 epoch=2 metrics={'time_inference': 0.000332028865814209, 'time_environment_step': 0.0006639151573181152, 'time_sample_batch': 8.289980888366699e-05, 'time_algorithm_update': 0.0013683030605316161, 'loss': 0.8454554786682129, 'time_step': 0.0025083258152008058, 'rollout_return': 15.23943661971831, 'evaluation': 16.1} step=2000\n",
      "2023-01-28 04:51.48 [info     ] Model parameters are saved to d3rlpy_logs/DoubleDQN_online_20230128045142/model_3000.pt\n",
      "2023-01-28 04:51.48 [info     ] DoubleDQN_online_20230128045142: epoch=3 step=3000 epoch=3 metrics={'time_inference': 0.000334550142288208, 'time_environment_step': 0.0006651124954223633, 'time_sample_batch': 8.210563659667968e-05, 'time_algorithm_update': 0.0013655831813812257, 'loss': 0.8130695724487305, 'time_step': 0.0025089638233184814, 'rollout_return': 15.429577464788732, 'evaluation': 14.1} step=3000\n",
      "2023-01-28 04:51.51 [info     ] Model parameters are saved to d3rlpy_logs/DoubleDQN_online_20230128045142/model_4000.pt\n",
      "2023-01-28 04:51.51 [info     ] DoubleDQN_online_20230128045142: epoch=4 step=4000 epoch=4 metrics={'time_inference': 0.0003316919803619385, 'time_environment_step': 0.0006567039489746094, 'time_sample_batch': 8.155488967895507e-05, 'time_algorithm_update': 0.0013402166366577148, 'loss': 0.9116086601018906, 'time_step': 0.0024714086055755615, 'rollout_return': 14.901408450704226, 'evaluation': 14.5} step=4000\n",
      "2023-01-28 04:51.54 [info     ] Model parameters are saved to d3rlpy_logs/DoubleDQN_online_20230128045142/model_5000.pt\n",
      "2023-01-28 04:51.54 [info     ] DoubleDQN_online_20230128045142: epoch=5 step=5000 epoch=5 metrics={'time_inference': 0.0003381519317626953, 'time_environment_step': 0.0006714479923248291, 'time_sample_batch': 8.389592170715332e-05, 'time_algorithm_update': 0.0013857452869415283, 'loss': 0.8354253565967082, 'time_step': 0.0025416147708892823, 'rollout_return': 15.154929577464788, 'evaluation': 14.5} step=5000\n",
      "2023-01-28 04:51.56 [info     ] Model parameters are saved to d3rlpy_logs/DoubleDQN_online_20230128045142/model_6000.pt\n",
      "2023-01-28 04:51.56 [info     ] DoubleDQN_online_20230128045142: epoch=6 step=6000 epoch=6 metrics={'time_inference': 0.0003380777835845947, 'time_environment_step': 0.0006716938018798828, 'time_sample_batch': 8.476758003234863e-05, 'time_algorithm_update': 0.0013760199546813965, 'loss': 0.8215333670079709, 'time_step': 0.002532581329345703, 'rollout_return': 14.97887323943662, 'evaluation': 14.5} step=6000\n",
      "2023-01-28 04:51.59 [info     ] Model parameters are saved to d3rlpy_logs/DoubleDQN_online_20230128045142/model_7000.pt\n",
      "2023-01-28 04:51.59 [info     ] DoubleDQN_online_20230128045142: epoch=7 step=7000 epoch=7 metrics={'time_inference': 0.00032573723793029785, 'time_environment_step': 0.0006439194679260254, 'time_sample_batch': 8.05201530456543e-05, 'time_algorithm_update': 0.00131892728805542, 'loss': 0.8458500261306763, 'time_step': 0.0024285614490509033, 'rollout_return': 15.140845070422536, 'evaluation': 17.9} step=7000\n",
      "2023-01-28 04:52.01 [info     ] Model parameters are saved to d3rlpy_logs/DoubleDQN_online_20230128045142/model_8000.pt\n",
      "2023-01-28 04:52.01 [info     ] DoubleDQN_online_20230128045142: epoch=8 step=8000 epoch=8 metrics={'time_inference': 0.0003405458927154541, 'time_environment_step': 0.0006735110282897949, 'time_sample_batch': 8.531641960144043e-05, 'time_algorithm_update': 0.0013794789314270019, 'loss': 0.8762382828742266, 'time_step': 0.0025426647663116457, 'rollout_return': 14.880281690140846, 'evaluation': 15.1} step=8000\n",
      "2023-01-28 04:52.04 [info     ] Model parameters are saved to d3rlpy_logs/DoubleDQN_online_20230128045142/model_9000.pt\n",
      "2023-01-28 04:52.04 [info     ] DoubleDQN_online_20230128045142: epoch=9 step=9000 epoch=9 metrics={'time_inference': 0.0003195385932922363, 'time_environment_step': 0.000639136552810669, 'time_sample_batch': 8.040809631347656e-05, 'time_algorithm_update': 0.0012966935634613037, 'loss': 0.8466685692965984, 'time_step': 0.0023945038318634033, 'rollout_return': 15.154929577464788, 'evaluation': 14.8} step=9000\n",
      "2023-01-28 04:52.06 [info     ] Model parameters are saved to d3rlpy_logs/DoubleDQN_online_20230128045142/model_10000.pt\n",
      "2023-01-28 04:52.07 [info     ] DoubleDQN_online_20230128045142: epoch=10 step=10000 epoch=10 metrics={'time_inference': 0.00031994771957397463, 'time_environment_step': 0.0006373965740203857, 'time_sample_batch': 8.090734481811524e-05, 'time_algorithm_update': 0.0013156046867370606, 'loss': 0.8627331895232201, 'time_step': 0.002412947416305542, 'rollout_return': 15.316901408450704, 'evaluation': 18.1} step=10000\n",
      "2023-01-28 04:52.09 [info     ] Model parameters are saved to d3rlpy_logs/DoubleDQN_online_20230128045142/model_11000.pt\n",
      "2023-01-28 04:52.09 [info     ] DoubleDQN_online_20230128045142: epoch=11 step=11000 epoch=11 metrics={'time_inference': 0.0003229029178619385, 'time_environment_step': 0.00064190673828125, 'time_sample_batch': 8.153271675109864e-05, 'time_algorithm_update': 0.0013154797554016113, 'loss': 0.8262173817753792, 'time_step': 0.002422497034072876, 'rollout_return': 15.098591549295774, 'evaluation': 15.6} step=11000\n",
      "2023-01-28 04:52.12 [info     ] Model parameters are saved to d3rlpy_logs/DoubleDQN_online_20230128045142/model_12000.pt\n",
      "2023-01-28 04:52.12 [info     ] DoubleDQN_online_20230128045142: epoch=12 step=12000 epoch=12 metrics={'time_inference': 0.00032622647285461423, 'time_environment_step': 0.0006490867137908936, 'time_sample_batch': 8.195734024047852e-05, 'time_algorithm_update': 0.0013356831073760987, 'loss': 0.9167186248600483, 'time_step': 0.002453960657119751, 'rollout_return': 14.661971830985916, 'evaluation': 16.6} step=12000\n",
      "2023-01-28 04:52.14 [info     ] Model parameters are saved to d3rlpy_logs/DoubleDQN_online_20230128045142/model_13000.pt\n",
      "2023-01-28 04:52.14 [info     ] DoubleDQN_online_20230128045142: epoch=13 step=13000 epoch=13 metrics={'time_inference': 0.0003206584453582764, 'time_environment_step': 0.0006403768062591553, 'time_sample_batch': 8.031105995178222e-05, 'time_algorithm_update': 0.0013124237060546874, 'loss': 0.8627701829969883, 'time_step': 0.002414710283279419, 'rollout_return': 15.17605633802817, 'evaluation': 16.0} step=13000\n",
      "2023-01-28 04:52.17 [info     ] Model parameters are saved to d3rlpy_logs/DoubleDQN_online_20230128045142/model_14000.pt\n",
      "2023-01-28 04:52.17 [info     ] DoubleDQN_online_20230128045142: epoch=14 step=14000 epoch=14 metrics={'time_inference': 0.00034175610542297365, 'time_environment_step': 0.0006819612979888916, 'time_sample_batch': 8.565235137939453e-05, 'time_algorithm_update': 0.0013931713104248047, 'loss': 0.8321769620478153, 'time_step': 0.0025669872760772706, 'rollout_return': 15.17605633802817, 'evaluation': 14.7} step=14000\n",
      "2023-01-28 04:52.20 [info     ] Model parameters are saved to d3rlpy_logs/DoubleDQN_online_20230128045142/model_15000.pt\n",
      "2023-01-28 04:52.20 [info     ] DoubleDQN_online_20230128045142: epoch=15 step=15000 epoch=15 metrics={'time_inference': 0.0003573029041290283, 'time_environment_step': 0.0007134463787078858, 'time_sample_batch': 8.972740173339844e-05, 'time_algorithm_update': 0.0014815418720245362, 'loss': 0.8466014153063297, 'time_step': 0.0027102622985839845, 'rollout_return': 14.556338028169014, 'evaluation': 15.9} step=15000\n",
      "2023-01-28 04:52.23 [info     ] Model parameters are saved to d3rlpy_logs/DoubleDQN_online_20230128045142/model_16000.pt\n",
      "2023-01-28 04:52.23 [info     ] DoubleDQN_online_20230128045142: epoch=16 step=16000 epoch=16 metrics={'time_inference': 0.0003521661758422852, 'time_environment_step': 0.000699819803237915, 'time_sample_batch': 8.72037410736084e-05, 'time_algorithm_update': 0.0014653809070587157, 'loss': 0.8564442579597235, 'time_step': 0.0026707985401153564, 'rollout_return': 14.908450704225352, 'evaluation': 18.2} step=16000\n",
      "2023-01-28 04:52.25 [info     ] Model parameters are saved to d3rlpy_logs/DoubleDQN_online_20230128045142/model_17000.pt\n",
      "2023-01-28 04:52.25 [info     ] DoubleDQN_online_20230128045142: epoch=17 step=17000 epoch=17 metrics={'time_inference': 0.0003555891513824463, 'time_environment_step': 0.0007063672542572022, 'time_sample_batch': 8.932018280029297e-05, 'time_algorithm_update': 0.0014608533382415771, 'loss': 0.8280837458074093, 'time_step': 0.002679156541824341, 'rollout_return': 14.753521126760564, 'evaluation': 17.8} step=17000\n",
      "2023-01-28 04:52.28 [info     ] Model parameters are saved to d3rlpy_logs/DoubleDQN_online_20230128045142/model_18000.pt\n",
      "2023-01-28 04:52.28 [info     ] DoubleDQN_online_20230128045142: epoch=18 step=18000 epoch=18 metrics={'time_inference': 0.0003447422981262207, 'time_environment_step': 0.00067983078956604, 'time_sample_batch': 8.51144790649414e-05, 'time_algorithm_update': 0.0013928499221801758, 'loss': 0.8701406988799572, 'time_step': 0.0025670976638793946, 'rollout_return': 14.32394366197183, 'evaluation': 14.2} step=18000\n",
      "2023-01-28 04:52.31 [info     ] Model parameters are saved to d3rlpy_logs/DoubleDQN_online_20230128045142/model_19000.pt\n",
      "2023-01-28 04:52.31 [info     ] DoubleDQN_online_20230128045142: epoch=19 step=19000 epoch=19 metrics={'time_inference': 0.0003414149284362793, 'time_environment_step': 0.0006803944110870361, 'time_sample_batch': 8.47313404083252e-05, 'time_algorithm_update': 0.0013949615955352783, 'loss': 0.8569865098893642, 'time_step': 0.0025664913654327394, 'rollout_return': 14.80281690140845, 'evaluation': 16.2} step=19000\n",
      "2023-01-28 04:52.33 [info     ] Model parameters are saved to d3rlpy_logs/DoubleDQN_online_20230128045142/model_20000.pt\n",
      "2023-01-28 04:52.34 [info     ] DoubleDQN_online_20230128045142: epoch=20 step=20000 epoch=20 metrics={'time_inference': 0.00034263920783996583, 'time_environment_step': 0.0006766047477722168, 'time_sample_batch': 8.545470237731934e-05, 'time_algorithm_update': 0.0013929007053375244, 'loss': 0.8336687886863947, 'time_step': 0.00256126070022583, 'rollout_return': 14.56338028169014, 'evaluation': 14.1} step=20000\n",
      "2023-01-28 04:52.37 [info     ] Model parameters are saved to d3rlpy_logs/DoubleDQN_online_20230128045142/model_21000.pt\n",
      "2023-01-28 04:52.37 [info     ] DoubleDQN_online_20230128045142: epoch=21 step=21000 epoch=21 metrics={'time_inference': 0.00038933205604553225, 'time_environment_step': 0.0007645127773284912, 'time_sample_batch': 9.466552734375e-05, 'time_algorithm_update': 0.001596289873123169, 'loss': 0.8837795604765415, 'time_step': 0.002916409969329834, 'rollout_return': 15.112676056338028, 'evaluation': 16.0} step=21000\n",
      "2023-01-28 04:52.40 [info     ] Model parameters are saved to d3rlpy_logs/DoubleDQN_online_20230128045142/model_22000.pt\n",
      "2023-01-28 04:52.40 [info     ] DoubleDQN_online_20230128045142: epoch=22 step=22000 epoch=22 metrics={'time_inference': 0.00036361384391784667, 'time_environment_step': 0.000727658748626709, 'time_sample_batch': 9.067797660827637e-05, 'time_algorithm_update': 0.0015174877643585206, 'loss': 0.7950773386657238, 'time_step': 0.002767750024795532, 'rollout_return': 15.464788732394366, 'evaluation': 15.4} step=22000\n",
      "2023-01-28 04:52.42 [info     ] Model parameters are saved to d3rlpy_logs/DoubleDQN_online_20230128045142/model_23000.pt\n",
      "2023-01-28 04:52.42 [info     ] DoubleDQN_online_20230128045142: epoch=23 step=23000 epoch=23 metrics={'time_inference': 0.00032864809036254884, 'time_environment_step': 0.0006555895805358887, 'time_sample_batch': 8.219099044799804e-05, 'time_algorithm_update': 0.001333890438079834, 'loss': 0.8312946305572987, 'time_step': 0.00246219539642334, 'rollout_return': 14.943661971830986, 'evaluation': 12.2} step=23000\n",
      "2023-01-28 04:52.45 [info     ] Model parameters are saved to d3rlpy_logs/DoubleDQN_online_20230128045142/model_24000.pt\n",
      "2023-01-28 04:52.45 [info     ] DoubleDQN_online_20230128045142: epoch=24 step=24000 epoch=24 metrics={'time_inference': 0.00034218645095825193, 'time_environment_step': 0.0006822447776794433, 'time_sample_batch': 8.569526672363282e-05, 'time_algorithm_update': 0.0013933823108673096, 'loss': 0.8502297870218753, 'time_step': 0.002568011522293091, 'rollout_return': 14.612676056338028, 'evaluation': 15.4} step=24000\n",
      "2023-01-28 04:52.47 [info     ] Model parameters are saved to d3rlpy_logs/DoubleDQN_online_20230128045142/model_25000.pt\n",
      "2023-01-28 04:52.47 [info     ] DoubleDQN_online_20230128045142: epoch=25 step=25000 epoch=25 metrics={'time_inference': 0.0003389594554901123, 'time_environment_step': 0.0006740021705627441, 'time_sample_batch': 8.440303802490234e-05, 'time_algorithm_update': 0.00137671160697937, 'loss': 0.8203820951581001, 'time_step': 0.0025371882915496825, 'rollout_return': 14.774647887323944, 'evaluation': 12.5} step=25000\n",
      "2023-01-28 04:52.50 [info     ] Model parameters are saved to d3rlpy_logs/DoubleDQN_online_20230128045142/model_26000.pt\n",
      "2023-01-28 04:52.50 [info     ] DoubleDQN_online_20230128045142: epoch=26 step=26000 epoch=26 metrics={'time_inference': 0.00034053468704223634, 'time_environment_step': 0.0006788349151611328, 'time_sample_batch': 8.52034091949463e-05, 'time_algorithm_update': 0.0013920745849609374, 'loss': 0.8291659078299999, 'time_step': 0.002560246467590332, 'rollout_return': 15.028169014084508, 'evaluation': 16.0} step=26000\n",
      "2023-01-28 04:52.53 [info     ] Model parameters are saved to d3rlpy_logs/DoubleDQN_online_20230128045142/model_27000.pt\n",
      "2023-01-28 04:52.53 [info     ] DoubleDQN_online_20230128045142: epoch=27 step=27000 epoch=27 metrics={'time_inference': 0.0003419973850250244, 'time_environment_step': 0.000681178092956543, 'time_sample_batch': 8.518886566162109e-05, 'time_algorithm_update': 0.0013929274082183838, 'loss': 0.827064465790987, 'time_step': 0.002565680980682373, 'rollout_return': 14.78169014084507, 'evaluation': 15.8} step=27000\n",
      "2023-01-28 04:52.56 [info     ] Model parameters are saved to d3rlpy_logs/DoubleDQN_online_20230128045142/model_28000.pt\n",
      "2023-01-28 04:52.56 [info     ] DoubleDQN_online_20230128045142: epoch=28 step=28000 epoch=28 metrics={'time_inference': 0.0003486907482147217, 'time_environment_step': 0.0006983389854431152, 'time_sample_batch': 8.699584007263184e-05, 'time_algorithm_update': 0.0014293444156646727, 'loss': 0.8516784921884537, 'time_step': 0.0026300413608551024, 'rollout_return': 14.598591549295774, 'evaluation': 16.2} step=28000\n",
      "2023-01-28 04:52.58 [info     ] Model parameters are saved to d3rlpy_logs/DoubleDQN_online_20230128045142/model_29000.pt\n",
      "2023-01-28 04:52.59 [info     ] DoubleDQN_online_20230128045142: epoch=29 step=29000 epoch=29 metrics={'time_inference': 0.0003563880920410156, 'time_environment_step': 0.0007229959964752198, 'time_sample_batch': 8.918976783752441e-05, 'time_algorithm_update': 0.0014985449314117432, 'loss': 0.8003493555039167, 'time_step': 0.0027353127002716065, 'rollout_return': 15.077464788732394, 'evaluation': 16.4} step=29000\n",
      "2023-01-28 04:53.01 [info     ] Model parameters are saved to d3rlpy_logs/DoubleDQN_online_20230128045142/model_30000.pt\n",
      "2023-01-28 04:53.01 [info     ] DoubleDQN_online_20230128045142: epoch=30 step=30000 epoch=30 metrics={'time_inference': 0.00036113715171813966, 'time_environment_step': 0.0007168107032775879, 'time_sample_batch': 9.014010429382324e-05, 'time_algorithm_update': 0.0014932215213775634, 'loss': 0.8305135059952736, 'time_step': 0.0027295424938201906, 'rollout_return': 14.887323943661972, 'evaluation': 16.8} step=30000\n",
      "2023-01-28 04:53.04 [info     ] Model parameters are saved to d3rlpy_logs/DoubleDQN_online_20230128045142/model_31000.pt\n",
      "2023-01-28 04:53.04 [info     ] DoubleDQN_online_20230128045142: epoch=31 step=31000 epoch=31 metrics={'time_inference': 0.0003547153472900391, 'time_environment_step': 0.0007050380706787109, 'time_sample_batch': 8.929872512817383e-05, 'time_algorithm_update': 0.0014537737369537355, 'loss': 0.8743828654885292, 'time_step': 0.002670196533203125, 'rollout_return': 15.21830985915493, 'evaluation': 15.7} step=31000\n",
      "2023-01-28 04:53.07 [info     ] Model parameters are saved to d3rlpy_logs/DoubleDQN_online_20230128045142/model_32000.pt\n",
      "2023-01-28 04:53.07 [info     ] DoubleDQN_online_20230128045142: epoch=32 step=32000 epoch=32 metrics={'time_inference': 0.0003457992076873779, 'time_environment_step': 0.0006911642551422119, 'time_sample_batch': 8.679151535034179e-05, 'time_algorithm_update': 0.0014141182899475098, 'loss': 0.7922170011252165, 'time_step': 0.0026028430461883544, 'rollout_return': 15.23943661971831, 'evaluation': 14.7} step=32000\n",
      "2023-01-28 04:53.10 [info     ] Model parameters are saved to d3rlpy_logs/DoubleDQN_online_20230128045142/model_33000.pt\n",
      "2023-01-28 04:53.10 [info     ] DoubleDQN_online_20230128045142: epoch=33 step=33000 epoch=33 metrics={'time_inference': 0.00034971237182617186, 'time_environment_step': 0.0006944248676300049, 'time_sample_batch': 8.747482299804688e-05, 'time_algorithm_update': 0.0014254682064056396, 'loss': 0.838577994942665, 'time_step': 0.0026223273277282714, 'rollout_return': 14.246478873239436, 'evaluation': 14.8} step=33000\n",
      "2023-01-28 04:53.13 [info     ] Model parameters are saved to d3rlpy_logs/DoubleDQN_online_20230128045142/model_34000.pt\n",
      "2023-01-28 04:53.13 [info     ] DoubleDQN_online_20230128045142: epoch=34 step=34000 epoch=34 metrics={'time_inference': 0.0003630437850952148, 'time_environment_step': 0.0007242422103881836, 'time_sample_batch': 9.062886238098145e-05, 'time_algorithm_update': 0.001491339921951294, 'loss': 0.7836445211172104, 'time_step': 0.002737438678741455, 'rollout_return': 14.80281690140845, 'evaluation': 13.9} step=34000\n",
      "2023-01-28 04:53.16 [info     ] Model parameters are saved to d3rlpy_logs/DoubleDQN_online_20230128045142/model_35000.pt\n",
      "2023-01-28 04:53.16 [info     ] DoubleDQN_online_20230128045142: epoch=35 step=35000 epoch=35 metrics={'time_inference': 0.0003751330375671387, 'time_environment_step': 0.0007475318908691407, 'time_sample_batch': 9.423160552978515e-05, 'time_algorithm_update': 0.0015481126308441162, 'loss': 0.8299766828715801, 'time_step': 0.002836165189743042, 'rollout_return': 14.880281690140846, 'evaluation': 13.8} step=35000\n",
      "2023-01-28 04:53.18 [info     ] Model parameters are saved to d3rlpy_logs/DoubleDQN_online_20230128045142/model_36000.pt\n",
      "2023-01-28 04:53.18 [info     ] DoubleDQN_online_20230128045142: epoch=36 step=36000 epoch=36 metrics={'time_inference': 0.0003304626941680908, 'time_environment_step': 0.0006583874225616455, 'time_sample_batch': 8.19399356842041e-05, 'time_algorithm_update': 0.001342163324356079, 'loss': 0.8082251723706723, 'time_step': 0.002475344657897949, 'rollout_return': 14.56338028169014, 'evaluation': 14.9} step=36000\n",
      "2023-01-28 04:53.21 [info     ] Model parameters are saved to d3rlpy_logs/DoubleDQN_online_20230128045142/model_37000.pt\n",
      "2023-01-28 04:53.21 [info     ] DoubleDQN_online_20230128045142: epoch=37 step=37000 epoch=37 metrics={'time_inference': 0.0003165137767791748, 'time_environment_step': 0.0006295561790466309, 'time_sample_batch': 7.703113555908203e-05, 'time_algorithm_update': 0.0012776646614074706, 'loss': 0.8240192366540432, 'time_step': 0.0023602221012115478, 'rollout_return': 14.873239436619718, 'evaluation': 14.7} step=37000\n",
      "2023-01-28 04:53.23 [info     ] Model parameters are saved to d3rlpy_logs/DoubleDQN_online_20230128045142/model_38000.pt\n",
      "2023-01-28 04:53.23 [info     ] DoubleDQN_online_20230128045142: epoch=38 step=38000 epoch=38 metrics={'time_inference': 0.0003303375244140625, 'time_environment_step': 0.0006534991264343262, 'time_sample_batch': 8.162975311279297e-05, 'time_algorithm_update': 0.001327862024307251, 'loss': 0.8007585361152887, 'time_step': 0.002455721855163574, 'rollout_return': 14.591549295774648, 'evaluation': 16.2} step=38000\n",
      "2023-01-28 04:53.26 [info     ] Model parameters are saved to d3rlpy_logs/DoubleDQN_online_20230128045142/model_39000.pt\n",
      "2023-01-28 04:53.26 [info     ] DoubleDQN_online_20230128045142: epoch=39 step=39000 epoch=39 metrics={'time_inference': 0.0003329501152038574, 'time_environment_step': 0.0006640141010284424, 'time_sample_batch': 8.226203918457031e-05, 'time_algorithm_update': 0.0013431484699249268, 'loss': 0.8828199251145125, 'time_step': 0.0024850685596466064, 'rollout_return': 14.190140845070422, 'evaluation': 14.8} step=39000\n",
      "2023-01-28 04:53.28 [info     ] Model parameters are saved to d3rlpy_logs/DoubleDQN_online_20230128045142/model_40000.pt\n",
      "2023-01-28 04:53.28 [info     ] DoubleDQN_online_20230128045142: epoch=40 step=40000 epoch=40 metrics={'time_inference': 0.00033171892166137694, 'time_environment_step': 0.0006577613353729248, 'time_sample_batch': 8.206558227539063e-05, 'time_algorithm_update': 0.0013389618396759033, 'loss': 0.8166845891326666, 'time_step': 0.0024728846549987795, 'rollout_return': 15.366197183098592, 'evaluation': 15.9} step=40000\n",
      "2023-01-28 04:53.31 [info     ] Model parameters are saved to d3rlpy_logs/DoubleDQN_online_20230128045142/model_41000.pt\n",
      "2023-01-28 04:53.31 [info     ] DoubleDQN_online_20230128045142: epoch=41 step=41000 epoch=41 metrics={'time_inference': 0.00031054592132568357, 'time_environment_step': 0.0006162533760070801, 'time_sample_batch': 7.575798034667969e-05, 'time_algorithm_update': 0.0012482626438140869, 'loss': 0.8649924104213714, 'time_step': 0.002309206008911133, 'rollout_return': 14.971830985915492, 'evaluation': 14.4} step=41000\n",
      "2023-01-28 04:53.33 [info     ] Model parameters are saved to d3rlpy_logs/DoubleDQN_online_20230128045142/model_42000.pt\n",
      "2023-01-28 04:53.33 [info     ] DoubleDQN_online_20230128045142: epoch=42 step=42000 epoch=42 metrics={'time_inference': 0.0003065342903137207, 'time_environment_step': 0.0006100559234619141, 'time_sample_batch': 7.447361946105957e-05, 'time_algorithm_update': 0.00123630952835083, 'loss': 0.9014915996491909, 'time_step': 0.002285043716430664, 'rollout_return': 14.5, 'evaluation': 15.0} step=42000\n",
      "2023-01-28 04:53.36 [info     ] Model parameters are saved to d3rlpy_logs/DoubleDQN_online_20230128045142/model_43000.pt\n",
      "2023-01-28 04:53.36 [info     ] DoubleDQN_online_20230128045142: epoch=43 step=43000 epoch=43 metrics={'time_inference': 0.0003178286552429199, 'time_environment_step': 0.0006292543411254883, 'time_sample_batch': 7.739114761352538e-05, 'time_algorithm_update': 0.0012780778408050537, 'loss': 0.9058776275813579, 'time_step': 0.00236197829246521, 'rollout_return': 14.267605633802816, 'evaluation': 17.9} step=43000\n",
      "2023-01-28 04:53.38 [info     ] Model parameters are saved to d3rlpy_logs/DoubleDQN_online_20230128045142/model_44000.pt\n",
      "2023-01-28 04:53.38 [info     ] DoubleDQN_online_20230128045142: epoch=44 step=44000 epoch=44 metrics={'time_inference': 0.00032404851913452146, 'time_environment_step': 0.0006428828239440918, 'time_sample_batch': 7.981514930725098e-05, 'time_algorithm_update': 0.0013014016151428223, 'loss': 0.8356121445000172, 'time_step': 0.0024089369773864747, 'rollout_return': 15.267605633802816, 'evaluation': 15.4} step=44000\n",
      "2023-01-28 04:53.41 [info     ] Model parameters are saved to d3rlpy_logs/DoubleDQN_online_20230128045142/model_45000.pt\n",
      "2023-01-28 04:53.41 [info     ] DoubleDQN_online_20230128045142: epoch=45 step=45000 epoch=45 metrics={'time_inference': 0.0003294103145599365, 'time_environment_step': 0.0006611702442169189, 'time_sample_batch': 8.076739311218261e-05, 'time_algorithm_update': 0.0013402483463287353, 'loss': 0.8069870171695948, 'time_step': 0.0024744598865509035, 'rollout_return': 14.76056338028169, 'evaluation': 12.7} step=45000\n",
      "2023-01-28 04:53.44 [info     ] Model parameters are saved to d3rlpy_logs/DoubleDQN_online_20230128045142/model_46000.pt\n",
      "2023-01-28 04:53.44 [info     ] DoubleDQN_online_20230128045142: epoch=46 step=46000 epoch=46 metrics={'time_inference': 0.00033663344383239746, 'time_environment_step': 0.0006711034774780273, 'time_sample_batch': 8.35566520690918e-05, 'time_algorithm_update': 0.0013600687980651856, 'loss': 0.8607005967497826, 'time_step': 0.002514909267425537, 'rollout_return': 14.76056338028169, 'evaluation': 17.2} step=46000\n",
      "2023-01-28 04:53.46 [info     ] Model parameters are saved to d3rlpy_logs/DoubleDQN_online_20230128045142/model_47000.pt\n",
      "2023-01-28 04:53.46 [info     ] DoubleDQN_online_20230128045142: epoch=47 step=47000 epoch=47 metrics={'time_inference': 0.00031835150718688963, 'time_environment_step': 0.0006342267990112304, 'time_sample_batch': 7.851028442382812e-05, 'time_algorithm_update': 0.0012847285270690919, 'loss': 0.8744041781127453, 'time_step': 0.002375615358352661, 'rollout_return': 15.21830985915493, 'evaluation': 14.5} step=47000\n",
      "2023-01-28 04:53.49 [info     ] Model parameters are saved to d3rlpy_logs/DoubleDQN_online_20230128045142/model_48000.pt\n",
      "2023-01-28 04:53.49 [info     ] DoubleDQN_online_20230128045142: epoch=48 step=48000 epoch=48 metrics={'time_inference': 0.0003187997341156006, 'time_environment_step': 0.0006350827217102051, 'time_sample_batch': 7.772541046142579e-05, 'time_algorithm_update': 0.0012884752750396728, 'loss': 0.843262555271387, 'time_step': 0.002380136251449585, 'rollout_return': 14.633802816901408, 'evaluation': 13.7} step=48000\n",
      "2023-01-28 04:53.51 [info     ] Model parameters are saved to d3rlpy_logs/DoubleDQN_online_20230128045142/model_49000.pt\n",
      "2023-01-28 04:53.51 [info     ] DoubleDQN_online_20230128045142: epoch=49 step=49000 epoch=49 metrics={'time_inference': 0.0003271958827972412, 'time_environment_step': 0.0006501688957214355, 'time_sample_batch': 7.97572135925293e-05, 'time_algorithm_update': 0.0013174467086791992, 'loss': 0.8160495543777943, 'time_step': 0.002435824155807495, 'rollout_return': 14.661971830985916, 'evaluation': 11.8} step=49000\n",
      "2023-01-28 04:53.54 [info     ] Model parameters are saved to d3rlpy_logs/DoubleDQN_online_20230128045142/model_50000.pt\n",
      "2023-01-28 04:53.54 [info     ] DoubleDQN_online_20230128045142: epoch=50 step=50000 epoch=50 metrics={'time_inference': 0.000318899393081665, 'time_environment_step': 0.0006333913803100586, 'time_sample_batch': 7.812595367431641e-05, 'time_algorithm_update': 0.0012880511283874512, 'loss': 0.8960897605717182, 'time_step': 0.0023786699771881103, 'rollout_return': 14.82394366197183, 'evaluation': 16.3} step=50000\n",
      "2023-01-28 04:53.56 [info     ] Model parameters are saved to d3rlpy_logs/DoubleDQN_online_20230128045142/model_51000.pt\n",
      "2023-01-28 04:53.56 [info     ] DoubleDQN_online_20230128045142: epoch=51 step=51000 epoch=51 metrics={'time_inference': 0.0003261699676513672, 'time_environment_step': 0.0006516125202178955, 'time_sample_batch': 8.031272888183594e-05, 'time_algorithm_update': 0.0013218603134155273, 'loss': 0.8688741375654936, 'time_step': 0.002441577196121216, 'rollout_return': 14.309859154929578, 'evaluation': 15.6} step=51000\n",
      "2023-01-28 04:53.59 [info     ] Model parameters are saved to d3rlpy_logs/DoubleDQN_online_20230128045142/model_52000.pt\n",
      "2023-01-28 04:53.59 [info     ] DoubleDQN_online_20230128045142: epoch=52 step=52000 epoch=52 metrics={'time_inference': 0.00036713433265686036, 'time_environment_step': 0.0006491580009460449, 'time_sample_batch': 7.863807678222656e-05, 'time_algorithm_update': 0.0012975783348083496, 'loss': 0.8126303772032261, 'time_step': 0.002452833414077759, 'rollout_return': 14.809859154929578, 'evaluation': 14.6} step=52000\n",
      "2023-01-28 04:54.01 [info     ] Model parameters are saved to d3rlpy_logs/DoubleDQN_online_20230128045142/model_53000.pt\n",
      "2023-01-28 04:54.01 [info     ] DoubleDQN_online_20230128045142: epoch=53 step=53000 epoch=53 metrics={'time_inference': 0.0003136091232299805, 'time_environment_step': 0.0006264643669128418, 'time_sample_batch': 7.780265808105468e-05, 'time_algorithm_update': 0.0012645711898803711, 'loss': 0.8194878631234169, 'time_step': 0.0023421409130096435, 'rollout_return': 14.605633802816902, 'evaluation': 18.2} step=53000\n",
      "2023-01-28 04:54.04 [info     ] Model parameters are saved to d3rlpy_logs/DoubleDQN_online_20230128045142/model_54000.pt\n",
      "2023-01-28 04:54.04 [info     ] DoubleDQN_online_20230128045142: epoch=54 step=54000 epoch=54 metrics={'time_inference': 0.00032202720642089845, 'time_environment_step': 0.0006431536674499511, 'time_sample_batch': 7.893657684326172e-05, 'time_algorithm_update': 0.0013013346195220948, 'loss': 0.8401321327090263, 'time_step': 0.0024058687686920165, 'rollout_return': 14.774647887323944, 'evaluation': 12.8} step=54000\n",
      "2023-01-28 04:54.06 [info     ] Model parameters are saved to d3rlpy_logs/DoubleDQN_online_20230128045142/model_55000.pt\n",
      "2023-01-28 04:54.06 [info     ] DoubleDQN_online_20230128045142: epoch=55 step=55000 epoch=55 metrics={'time_inference': 0.0003273890018463135, 'time_environment_step': 0.0006519284248352051, 'time_sample_batch': 8.02745819091797e-05, 'time_algorithm_update': 0.0013185443878173829, 'loss': 0.8401617197692395, 'time_step': 0.002440179347991943, 'rollout_return': 14.992957746478874, 'evaluation': 15.1} step=55000\n",
      "2023-01-28 04:54.09 [info     ] Model parameters are saved to d3rlpy_logs/DoubleDQN_online_20230128045142/model_56000.pt\n",
      "2023-01-28 04:54.09 [info     ] DoubleDQN_online_20230128045142: epoch=56 step=56000 epoch=56 metrics={'time_inference': 0.00032645702362060547, 'time_environment_step': 0.0006438207626342774, 'time_sample_batch': 7.880067825317383e-05, 'time_algorithm_update': 0.0013075020313262939, 'loss': 0.813100974470377, 'time_step': 0.002417323350906372, 'rollout_return': 14.535211267605634, 'evaluation': 16.8} step=56000\n",
      "2023-01-28 04:54.11 [info     ] Model parameters are saved to d3rlpy_logs/DoubleDQN_online_20230128045142/model_57000.pt\n",
      "2023-01-28 04:54.11 [info     ] DoubleDQN_online_20230128045142: epoch=57 step=57000 epoch=57 metrics={'time_inference': 0.00031517863273620604, 'time_environment_step': 0.0006253631114959717, 'time_sample_batch': 7.65974521636963e-05, 'time_algorithm_update': 0.001264699935913086, 'loss': 0.8179811404645443, 'time_step': 0.0023408899307250978, 'rollout_return': 14.633802816901408, 'evaluation': 15.6} step=57000\n",
      "2023-01-28 04:54.14 [info     ] Model parameters are saved to d3rlpy_logs/DoubleDQN_online_20230128045142/model_58000.pt\n",
      "2023-01-28 04:54.14 [info     ] DoubleDQN_online_20230128045142: epoch=58 step=58000 epoch=58 metrics={'time_inference': 0.0003163900375366211, 'time_environment_step': 0.0006268365383148193, 'time_sample_batch': 7.678580284118652e-05, 'time_algorithm_update': 0.0012673492431640625, 'loss': 0.8077362828850746, 'time_step': 0.002346520185470581, 'rollout_return': 15.014084507042254, 'evaluation': 15.3} step=58000\n",
      "2023-01-28 04:54.16 [info     ] Model parameters are saved to d3rlpy_logs/DoubleDQN_online_20230128045142/model_59000.pt\n",
      "2023-01-28 04:54.16 [info     ] DoubleDQN_online_20230128045142: epoch=59 step=59000 epoch=59 metrics={'time_inference': 0.00032033658027648924, 'time_environment_step': 0.0006356635093688965, 'time_sample_batch': 7.76050090789795e-05, 'time_algorithm_update': 0.0012858145236968994, 'loss': 0.8733464201986789, 'time_step': 0.0023794071674346925, 'rollout_return': 15.02112676056338, 'evaluation': 14.4} step=59000\n",
      "2023-01-28 04:54.19 [info     ] Model parameters are saved to d3rlpy_logs/DoubleDQN_online_20230128045142/model_60000.pt\n",
      "2023-01-28 04:54.19 [info     ] DoubleDQN_online_20230128045142: epoch=60 step=60000 epoch=60 metrics={'time_inference': 0.0003254985809326172, 'time_environment_step': 0.0006481719017028809, 'time_sample_batch': 7.996344566345215e-05, 'time_algorithm_update': 0.0013305327892303466, 'loss': 0.8436812461316585, 'time_step': 0.0024453020095825196, 'rollout_return': 14.859154929577464, 'evaluation': 17.9} step=60000\n",
      "2023-01-28 04:54.21 [info     ] Model parameters are saved to d3rlpy_logs/DoubleDQN_online_20230128045142/model_61000.pt\n",
      "2023-01-28 04:54.21 [info     ] DoubleDQN_online_20230128045142: epoch=61 step=61000 epoch=61 metrics={'time_inference': 0.00032419371604919435, 'time_environment_step': 0.0006392033100128174, 'time_sample_batch': 7.832169532775879e-05, 'time_algorithm_update': 0.0012966535091400147, 'loss': 0.8130893199890852, 'time_step': 0.0023986155986785887, 'rollout_return': 15.028169014084508, 'evaluation': 16.4} step=61000\n",
      "2023-01-28 04:54.24 [info     ] Model parameters are saved to d3rlpy_logs/DoubleDQN_online_20230128045142/model_62000.pt\n",
      "2023-01-28 04:54.24 [info     ] DoubleDQN_online_20230128045142: epoch=62 step=62000 epoch=62 metrics={'time_inference': 0.0003228769302368164, 'time_environment_step': 0.0006405260562896729, 'time_sample_batch': 7.829976081848145e-05, 'time_algorithm_update': 0.0012966711521148681, 'loss': 0.814568661481142, 'time_step': 0.002398658514022827, 'rollout_return': 14.711267605633802, 'evaluation': 16.1} step=62000\n",
      "2023-01-28 04:54.26 [info     ] Model parameters are saved to d3rlpy_logs/DoubleDQN_online_20230128045142/model_63000.pt\n",
      "2023-01-28 04:54.27 [info     ] DoubleDQN_online_20230128045142: epoch=63 step=63000 epoch=63 metrics={'time_inference': 0.0003253493309020996, 'time_environment_step': 0.0006426360607147217, 'time_sample_batch': 7.838320732116699e-05, 'time_algorithm_update': 0.001309094190597534, 'loss': 0.8016737239360809, 'time_step': 0.002416849374771118, 'rollout_return': 15.359154929577464, 'evaluation': 14.8} step=63000\n",
      "2023-01-28 04:54.29 [info     ] Model parameters are saved to d3rlpy_logs/DoubleDQN_online_20230128045142/model_64000.pt\n",
      "2023-01-28 04:54.29 [info     ] DoubleDQN_online_20230128045142: epoch=64 step=64000 epoch=64 metrics={'time_inference': 0.0003229241371154785, 'time_environment_step': 0.0006410489082336426, 'time_sample_batch': 7.881999015808106e-05, 'time_algorithm_update': 0.0013056633472442627, 'loss': 0.7867685592770577, 'time_step': 0.002408832311630249, 'rollout_return': 14.964788732394366, 'evaluation': 16.1} step=64000\n",
      "2023-01-28 04:54.32 [info     ] Model parameters are saved to d3rlpy_logs/DoubleDQN_online_20230128045142/model_65000.pt\n",
      "2023-01-28 04:54.32 [info     ] DoubleDQN_online_20230128045142: epoch=65 step=65000 epoch=65 metrics={'time_inference': 0.00032036042213439943, 'time_environment_step': 0.0006357512474060059, 'time_sample_batch': 7.80777931213379e-05, 'time_algorithm_update': 0.001288517713546753, 'loss': 0.7757285569310188, 'time_step': 0.0023825461864471435, 'rollout_return': 14.950704225352112, 'evaluation': 16.0} step=65000\n",
      "2023-01-28 04:54.34 [info     ] Model parameters are saved to d3rlpy_logs/DoubleDQN_online_20230128045142/model_66000.pt\n",
      "2023-01-28 04:54.34 [info     ] DoubleDQN_online_20230128045142: epoch=66 step=66000 epoch=66 metrics={'time_inference': 0.00032456398010253905, 'time_environment_step': 0.0006442167758941651, 'time_sample_batch': 7.873988151550293e-05, 'time_algorithm_update': 0.0012989306449890136, 'loss': 0.830516584455967, 'time_step': 0.002407012701034546, 'rollout_return': 14.014084507042254, 'evaluation': 15.3} step=66000\n",
      "2023-01-28 04:54.37 [info     ] Model parameters are saved to d3rlpy_logs/DoubleDQN_online_20230128045142/model_67000.pt\n",
      "2023-01-28 04:54.37 [info     ] DoubleDQN_online_20230128045142: epoch=67 step=67000 epoch=67 metrics={'time_inference': 0.0003284981250762939, 'time_environment_step': 0.0006582193374633789, 'time_sample_batch': 8.106327056884766e-05, 'time_algorithm_update': 0.0013368103504180907, 'loss': 0.8208926398903131, 'time_step': 0.002466641187667847, 'rollout_return': 14.711267605633802, 'evaluation': 16.0} step=67000\n",
      "2023-01-28 04:54.39 [info     ] Model parameters are saved to d3rlpy_logs/DoubleDQN_online_20230128045142/model_68000.pt\n",
      "2023-01-28 04:54.39 [info     ] DoubleDQN_online_20230128045142: epoch=68 step=68000 epoch=68 metrics={'time_inference': 0.0003316922187805176, 'time_environment_step': 0.0006585984230041504, 'time_sample_batch': 8.154940605163574e-05, 'time_algorithm_update': 0.0013514416217803955, 'loss': 0.8004301908612251, 'time_step': 0.0024855849742889406, 'rollout_return': 14.795774647887324, 'evaluation': 16.9} step=68000\n",
      "2023-01-28 04:54.42 [info     ] Model parameters are saved to d3rlpy_logs/DoubleDQN_online_20230128045142/model_69000.pt\n",
      "2023-01-28 04:54.42 [info     ] DoubleDQN_online_20230128045142: epoch=69 step=69000 epoch=69 metrics={'time_inference': 0.0003253827095031738, 'time_environment_step': 0.0006452794075012207, 'time_sample_batch': 7.908773422241211e-05, 'time_algorithm_update': 0.0013034043312072753, 'loss': 0.8018296056538821, 'time_step': 0.0024137535095214843, 'rollout_return': 15.007042253521126, 'evaluation': 15.0} step=69000\n",
      "2023-01-28 04:54.44 [info     ] Model parameters are saved to d3rlpy_logs/DoubleDQN_online_20230128045142/model_70000.pt\n",
      "2023-01-28 04:54.44 [info     ] DoubleDQN_online_20230128045142: epoch=70 step=70000 epoch=70 metrics={'time_inference': 0.0003225252628326416, 'time_environment_step': 0.0006395936012268067, 'time_sample_batch': 7.799386978149414e-05, 'time_algorithm_update': 0.0012940759658813476, 'loss': 0.7893808646053075, 'time_step': 0.002394542932510376, 'rollout_return': 14.866197183098592, 'evaluation': 16.5} step=70000\n",
      "2023-01-28 04:54.47 [info     ] Model parameters are saved to d3rlpy_logs/DoubleDQN_online_20230128045142/model_71000.pt\n",
      "2023-01-28 04:54.47 [info     ] DoubleDQN_online_20230128045142: epoch=71 step=71000 epoch=71 metrics={'time_inference': 0.0003214166164398193, 'time_environment_step': 0.000636422872543335, 'time_sample_batch': 7.840228080749512e-05, 'time_algorithm_update': 0.001291203022003174, 'loss': 0.8198466266691685, 'time_step': 0.0023875153064727784, 'rollout_return': 14.295774647887324, 'evaluation': 15.2} step=71000\n",
      "2023-01-28 04:54.50 [info     ] Model parameters are saved to d3rlpy_logs/DoubleDQN_online_20230128045142/model_72000.pt\n",
      "2023-01-28 04:54.50 [info     ] DoubleDQN_online_20230128045142: epoch=72 step=72000 epoch=72 metrics={'time_inference': 0.0003280825614929199, 'time_environment_step': 0.0006529390811920166, 'time_sample_batch': 9.73665714263916e-05, 'time_algorithm_update': 0.001341529130935669, 'loss': 0.782690811753273, 'time_step': 0.0024817721843719484, 'rollout_return': 15.253521126760564, 'evaluation': 18.1} step=72000\n",
      "2023-01-28 04:54.52 [info     ] Model parameters are saved to d3rlpy_logs/DoubleDQN_online_20230128045142/model_73000.pt\n",
      "2023-01-28 04:54.52 [info     ] DoubleDQN_online_20230128045142: epoch=73 step=73000 epoch=73 metrics={'time_inference': 0.00033566975593566896, 'time_environment_step': 0.0006672794818878174, 'time_sample_batch': 8.306527137756348e-05, 'time_algorithm_update': 0.0013556299209594727, 'loss': 0.7906838943660259, 'time_step': 0.0025050218105316163, 'rollout_return': 14.584507042253522, 'evaluation': 16.8} step=73000\n",
      "2023-01-28 04:54.55 [info     ] Model parameters are saved to d3rlpy_logs/DoubleDQN_online_20230128045142/model_74000.pt\n",
      "2023-01-28 04:54.55 [info     ] DoubleDQN_online_20230128045142: epoch=74 step=74000 epoch=74 metrics={'time_inference': 0.0003301396369934082, 'time_environment_step': 0.0006557457447052002, 'time_sample_batch': 8.216619491577148e-05, 'time_algorithm_update': 0.0013272855281829833, 'loss': 0.7847251429855824, 'time_step': 0.002457413911819458, 'rollout_return': 14.908450704225352, 'evaluation': 17.3} step=74000\n",
      "2023-01-28 04:54.57 [info     ] Model parameters are saved to d3rlpy_logs/DoubleDQN_online_20230128045142/model_75000.pt\n",
      "2023-01-28 04:54.57 [info     ] DoubleDQN_online_20230128045142: epoch=75 step=75000 epoch=75 metrics={'time_inference': 0.00032271313667297364, 'time_environment_step': 0.0006405594348907471, 'time_sample_batch': 7.916045188903809e-05, 'time_algorithm_update': 0.001299159526824951, 'loss': 0.8055737745016813, 'time_step': 0.0024022853374481203, 'rollout_return': 14.746478873239436, 'evaluation': 17.2} step=75000\n",
      "2023-01-28 04:55.00 [info     ] Model parameters are saved to d3rlpy_logs/DoubleDQN_online_20230128045142/model_76000.pt\n",
      "2023-01-28 04:55.00 [info     ] DoubleDQN_online_20230128045142: epoch=76 step=76000 epoch=76 metrics={'time_inference': 0.0003383157253265381, 'time_environment_step': 0.0006721022129058838, 'time_sample_batch': 8.289480209350585e-05, 'time_algorithm_update': 0.001362874984741211, 'loss': 0.8628600348830223, 'time_step': 0.00252027702331543, 'rollout_return': 14.612676056338028, 'evaluation': 16.5} step=76000\n",
      "2023-01-28 04:55.03 [info     ] Model parameters are saved to d3rlpy_logs/DoubleDQN_online_20230128045142/model_77000.pt\n",
      "2023-01-28 04:55.03 [info     ] DoubleDQN_online_20230128045142: epoch=77 step=77000 epoch=77 metrics={'time_inference': 0.00036908483505249026, 'time_environment_step': 0.0007391674518585205, 'time_sample_batch': 9.079933166503906e-05, 'time_algorithm_update': 0.0015166428089141847, 'loss': 0.8186996530294418, 'time_step': 0.0027865078449249266, 'rollout_return': 15.401408450704226, 'evaluation': 16.4} step=77000\n",
      "2023-01-28 04:55.06 [info     ] Model parameters are saved to d3rlpy_logs/DoubleDQN_online_20230128045142/model_78000.pt\n",
      "2023-01-28 04:55.06 [info     ] DoubleDQN_online_20230128045142: epoch=78 step=78000 epoch=78 metrics={'time_inference': 0.0003679330348968506, 'time_environment_step': 0.0007296757698059082, 'time_sample_batch': 9.080839157104492e-05, 'time_algorithm_update': 0.0014943335056304932, 'loss': 0.8548956845402718, 'time_step': 0.002752441883087158, 'rollout_return': 15.154929577464788, 'evaluation': 15.3} step=78000\n",
      "2023-01-28 04:55.09 [info     ] Model parameters are saved to d3rlpy_logs/DoubleDQN_online_20230128045142/model_79000.pt\n",
      "2023-01-28 04:55.09 [info     ] DoubleDQN_online_20230128045142: epoch=79 step=79000 epoch=79 metrics={'time_inference': 0.0003800666332244873, 'time_environment_step': 0.0007561726570129394, 'time_sample_batch': 9.41331386566162e-05, 'time_algorithm_update': 0.0015530598163604737, 'loss': 0.8354542333781719, 'time_step': 0.002854921817779541, 'rollout_return': 14.507042253521126, 'evaluation': 17.8} step=79000\n",
      "2023-01-28 04:55.12 [info     ] Model parameters are saved to d3rlpy_logs/DoubleDQN_online_20230128045142/model_80000.pt\n",
      "2023-01-28 04:55.12 [info     ] DoubleDQN_online_20230128045142: epoch=80 step=80000 epoch=80 metrics={'time_inference': 0.0003663773536682129, 'time_environment_step': 0.0007325818538665771, 'time_sample_batch': 9.070992469787597e-05, 'time_algorithm_update': 0.0014889073371887208, 'loss': 0.8198213773965836, 'time_step': 0.002748305082321167, 'rollout_return': 14.704225352112676, 'evaluation': 18.8} step=80000\n",
      "2023-01-28 04:55.15 [info     ] Model parameters are saved to d3rlpy_logs/DoubleDQN_online_20230128045142/model_81000.pt\n",
      "2023-01-28 04:55.15 [info     ] DoubleDQN_online_20230128045142: epoch=81 step=81000 epoch=81 metrics={'time_inference': 0.0003699367046356201, 'time_environment_step': 0.0007350208759307861, 'time_sample_batch': 9.130191802978515e-05, 'time_algorithm_update': 0.001501283884048462, 'loss': 0.8548188154995442, 'time_step': 0.0027671809196472166, 'rollout_return': 15.204225352112676, 'evaluation': 14.7} step=81000\n",
      "2023-01-28 04:55.18 [info     ] Model parameters are saved to d3rlpy_logs/DoubleDQN_online_20230128045142/model_82000.pt\n",
      "2023-01-28 04:55.18 [info     ] DoubleDQN_online_20230128045142: epoch=82 step=82000 epoch=82 metrics={'time_inference': 0.00037941718101501467, 'time_environment_step': 0.000752800464630127, 'time_sample_batch': 9.309744834899902e-05, 'time_algorithm_update': 0.0015550503730773926, 'loss': 0.839498376429081, 'time_step': 0.0028514578342437743, 'rollout_return': 14.56338028169014, 'evaluation': 15.2} step=82000\n",
      "2023-01-28 04:55.20 [info     ] Model parameters are saved to d3rlpy_logs/DoubleDQN_online_20230128045142/model_83000.pt\n",
      "2023-01-28 04:55.20 [info     ] DoubleDQN_online_20230128045142: epoch=83 step=83000 epoch=83 metrics={'time_inference': 0.00036208486557006835, 'time_environment_step': 0.0007227833271026611, 'time_sample_batch': 8.931970596313477e-05, 'time_algorithm_update': 0.0014680078029632568, 'loss': 0.7977884859144687, 'time_step': 0.002710784912109375, 'rollout_return': 15.535211267605634, 'evaluation': 14.1} step=83000\n",
      "2023-01-28 04:55.23 [info     ] Model parameters are saved to d3rlpy_logs/DoubleDQN_online_20230128045142/model_84000.pt\n",
      "2023-01-28 04:55.23 [info     ] DoubleDQN_online_20230128045142: epoch=84 step=84000 epoch=84 metrics={'time_inference': 0.00036564564704895017, 'time_environment_step': 0.0007282347679138184, 'time_sample_batch': 9.032869338989257e-05, 'time_algorithm_update': 0.0014850461483001708, 'loss': 0.8464988202750683, 'time_step': 0.0027379398345947267, 'rollout_return': 14.80281690140845, 'evaluation': 14.8} step=84000\n",
      "2023-01-28 04:55.26 [info     ] Model parameters are saved to d3rlpy_logs/DoubleDQN_online_20230128045142/model_85000.pt\n",
      "2023-01-28 04:55.26 [info     ] DoubleDQN_online_20230128045142: epoch=85 step=85000 epoch=85 metrics={'time_inference': 0.0003914039134979248, 'time_environment_step': 0.0007748138904571533, 'time_sample_batch': 9.674620628356934e-05, 'time_algorithm_update': 0.0016112740039825439, 'loss': 0.8343570060431957, 'time_step': 0.0029476823806762697, 'rollout_return': 14.880281690140846, 'evaluation': 14.7} step=85000\n",
      "2023-01-28 04:55.29 [info     ] Model parameters are saved to d3rlpy_logs/DoubleDQN_online_20230128045142/model_86000.pt\n",
      "2023-01-28 04:55.29 [info     ] DoubleDQN_online_20230128045142: epoch=86 step=86000 epoch=86 metrics={'time_inference': 0.0003652937412261963, 'time_environment_step': 0.0007267892360687256, 'time_sample_batch': 9.000658988952636e-05, 'time_algorithm_update': 0.0014799654483795166, 'loss': 0.8796399888694286, 'time_step': 0.002730888843536377, 'rollout_return': 14.894366197183098, 'evaluation': 15.3} step=86000\n",
      "2023-01-28 04:55.32 [info     ] Model parameters are saved to d3rlpy_logs/DoubleDQN_online_20230128045142/model_87000.pt\n",
      "2023-01-28 04:55.32 [info     ] DoubleDQN_online_20230128045142: epoch=87 step=87000 epoch=87 metrics={'time_inference': 0.0003721814155578613, 'time_environment_step': 0.0007425870895385742, 'time_sample_batch': 9.168195724487304e-05, 'time_algorithm_update': 0.0015182607173919677, 'loss': 0.8230891454517841, 'time_step': 0.0027949635982513427, 'rollout_return': 14.471830985915492, 'evaluation': 17.8} step=87000\n",
      "2023-01-28 04:55.35 [info     ] Model parameters are saved to d3rlpy_logs/DoubleDQN_online_20230128045142/model_88000.pt\n",
      "2023-01-28 04:55.35 [info     ] DoubleDQN_online_20230128045142: epoch=88 step=88000 epoch=88 metrics={'time_inference': 0.00037056422233581543, 'time_environment_step': 0.0007388908863067627, 'time_sample_batch': 9.231758117675782e-05, 'time_algorithm_update': 0.0015081324577331543, 'loss': 0.8156328143179417, 'time_step': 0.0027804226875305176, 'rollout_return': 14.338028169014084, 'evaluation': 14.9} step=88000\n",
      "2023-01-28 04:55.38 [info     ] Model parameters are saved to d3rlpy_logs/DoubleDQN_online_20230128045142/model_89000.pt\n",
      "2023-01-28 04:55.38 [info     ] DoubleDQN_online_20230128045142: epoch=89 step=89000 epoch=89 metrics={'time_inference': 0.00036770963668823244, 'time_environment_step': 0.0007325696945190429, 'time_sample_batch': 9.065866470336914e-05, 'time_algorithm_update': 0.001488640546798706, 'loss': 0.8340267140865326, 'time_step': 0.0027486705780029297, 'rollout_return': 14.577464788732394, 'evaluation': 14.5} step=89000\n",
      "2023-01-28 04:55.41 [info     ] Model parameters are saved to d3rlpy_logs/DoubleDQN_online_20230128045142/model_90000.pt\n",
      "2023-01-28 04:55.41 [info     ] DoubleDQN_online_20230128045142: epoch=90 step=90000 epoch=90 metrics={'time_inference': 0.0003677082061767578, 'time_environment_step': 0.000734154224395752, 'time_sample_batch': 9.093236923217774e-05, 'time_algorithm_update': 0.0014907033443450927, 'loss': 0.8204968601167202, 'time_step': 0.0027533156871795655, 'rollout_return': 14.56338028169014, 'evaluation': 13.8} step=90000\n",
      "2023-01-28 04:55.44 [info     ] Model parameters are saved to d3rlpy_logs/DoubleDQN_online_20230128045142/model_91000.pt\n",
      "2023-01-28 04:55.44 [info     ] DoubleDQN_online_20230128045142: epoch=91 step=91000 epoch=91 metrics={'time_inference': 0.000392261266708374, 'time_environment_step': 0.0007884669303894043, 'time_sample_batch': 9.62369441986084e-05, 'time_algorithm_update': 0.0015973536968231202, 'loss': 0.8314997482001781, 'time_step': 0.0029479310512542725, 'rollout_return': 14.788732394366198, 'evaluation': 15.3} step=91000\n",
      "2023-01-28 04:55.47 [info     ] Model parameters are saved to d3rlpy_logs/DoubleDQN_online_20230128045142/model_92000.pt\n",
      "2023-01-28 04:55.47 [info     ] DoubleDQN_online_20230128045142: epoch=92 step=92000 epoch=92 metrics={'time_inference': 0.00036682939529418947, 'time_environment_step': 0.0007341268062591552, 'time_sample_batch': 9.094619750976563e-05, 'time_algorithm_update': 0.0014834048748016357, 'loss': 0.7914977404475212, 'time_step': 0.0027450566291809084, 'rollout_return': 15.17605633802817, 'evaluation': 15.4} step=92000\n",
      "2023-01-28 04:55.50 [info     ] Model parameters are saved to d3rlpy_logs/DoubleDQN_online_20230128045142/model_93000.pt\n",
      "2023-01-28 04:55.50 [info     ] DoubleDQN_online_20230128045142: epoch=93 step=93000 epoch=93 metrics={'time_inference': 0.0003653049468994141, 'time_environment_step': 0.0007265157699584961, 'time_sample_batch': 9.006667137145996e-05, 'time_algorithm_update': 0.0014763174057006835, 'loss': 0.8158675418794155, 'time_step': 0.002727099657058716, 'rollout_return': 15.28169014084507, 'evaluation': 15.4} step=93000\n",
      "2023-01-28 04:55.53 [info     ] Model parameters are saved to d3rlpy_logs/DoubleDQN_online_20230128045142/model_94000.pt\n",
      "2023-01-28 04:55.53 [info     ] DoubleDQN_online_20230128045142: epoch=94 step=94000 epoch=94 metrics={'time_inference': 0.00037579822540283203, 'time_environment_step': 0.0007450611591339111, 'time_sample_batch': 9.243416786193848e-05, 'time_algorithm_update': 0.0015336682796478272, 'loss': 0.8182482359409332, 'time_step': 0.002817713737487793, 'rollout_return': 15.450704225352112, 'evaluation': 15.1} step=94000\n",
      "2023-01-28 04:55.56 [info     ] Model parameters are saved to d3rlpy_logs/DoubleDQN_online_20230128045142/model_95000.pt\n",
      "2023-01-28 04:55.56 [info     ] DoubleDQN_online_20230128045142: epoch=95 step=95000 epoch=95 metrics={'time_inference': 0.0003713998794555664, 'time_environment_step': 0.0007399842739105225, 'time_sample_batch': 9.200429916381836e-05, 'time_algorithm_update': 0.001505375385284424, 'loss': 0.8320259685218334, 'time_step': 0.00277852201461792, 'rollout_return': 15.19718309859155, 'evaluation': 16.9} step=95000\n",
      "2023-01-28 04:55.59 [info     ] Model parameters are saved to d3rlpy_logs/DoubleDQN_online_20230128045142/model_96000.pt\n",
      "2023-01-28 04:55.59 [info     ] DoubleDQN_online_20230128045142: epoch=96 step=96000 epoch=96 metrics={'time_inference': 0.00036950325965881347, 'time_environment_step': 0.0007346129417419434, 'time_sample_batch': 9.080052375793458e-05, 'time_algorithm_update': 0.0014931344985961914, 'loss': 0.8054020140767097, 'time_step': 0.0027576773166656495, 'rollout_return': 15.338028169014084, 'evaluation': 13.9} step=96000\n",
      "2023-01-28 04:56.01 [info     ] Model parameters are saved to d3rlpy_logs/DoubleDQN_online_20230128045142/model_97000.pt\n",
      "2023-01-28 04:56.02 [info     ] DoubleDQN_online_20230128045142: epoch=97 step=97000 epoch=97 metrics={'time_inference': 0.00036198234558105466, 'time_environment_step': 0.0007219514846801757, 'time_sample_batch': 8.923363685607911e-05, 'time_algorithm_update': 0.0014715590476989746, 'loss': 0.7938599847853184, 'time_step': 0.0027135701179504396, 'rollout_return': 14.725352112676056, 'evaluation': 15.0} step=97000\n",
      "2023-01-28 04:56.04 [info     ] Model parameters are saved to d3rlpy_logs/DoubleDQN_online_20230128045142/model_98000.pt\n",
      "2023-01-28 04:56.04 [info     ] DoubleDQN_online_20230128045142: epoch=98 step=98000 epoch=98 metrics={'time_inference': 0.00037032628059387206, 'time_environment_step': 0.000752800464630127, 'time_sample_batch': 9.266948699951172e-05, 'time_algorithm_update': 0.0015038938522338866, 'loss': 0.7725999682545662, 'time_step': 0.0027900369167327883, 'rollout_return': 15.345070422535212, 'evaluation': 14.5} step=98000\n",
      "2023-01-28 04:56.07 [info     ] Model parameters are saved to d3rlpy_logs/DoubleDQN_online_20230128045142/model_99000.pt\n",
      "2023-01-28 04:56.07 [info     ] DoubleDQN_online_20230128045142: epoch=99 step=99000 epoch=99 metrics={'time_inference': 0.00037091827392578123, 'time_environment_step': 0.0007382330894470214, 'time_sample_batch': 9.218502044677734e-05, 'time_algorithm_update': 0.001514885663986206, 'loss': 0.7907997137904167, 'time_step': 0.0027862849235534668, 'rollout_return': 14.992957746478874, 'evaluation': 13.9} step=99000\n",
      "2023-01-28 04:56.10 [info     ] Model parameters are saved to d3rlpy_logs/DoubleDQN_online_20230128045142/model_100000.pt\n",
      "2023-01-28 04:56.10 [info     ] DoubleDQN_online_20230128045142: epoch=100 step=100000 epoch=100 metrics={'time_inference': 0.0003561666011810303, 'time_environment_step': 0.0007079293727874756, 'time_sample_batch': 8.756089210510254e-05, 'time_algorithm_update': 0.0014404194355010986, 'loss': 0.7784814586937427, 'time_step': 0.002659555196762085, 'rollout_return': 15.408450704225352, 'evaluation': 15.8} step=100000\n"
     ]
    }
   ],
   "source": [
    "# start training\n",
    "# skip if there is a pre-trained model\n",
    "ddqn.fit_online(\n",
    "    env_,\n",
    "    buffer,\n",
    "    explorer=explorer,\n",
    "    eval_env=env_,\n",
    "    n_steps=100000,\n",
    "    n_steps_per_epoch=1000,\n",
    "    update_start_step=1000,\n",
    ")"
   ]
  },
  {
   "cell_type": "code",
   "execution_count": 20,
   "metadata": {},
   "outputs": [],
   "source": [
    "# save model\n",
    "ddqn.save_model(\"d3rlpy_logs/ddqn.pt\")"
   ]
  },
  {
   "cell_type": "code",
   "execution_count": 21,
   "metadata": {},
   "outputs": [
    {
     "name": "stdout",
     "output_type": "stream",
     "text": [
      "2023-01-28 04:56.10 [warning  ] Parameters will be reinitialized.\n"
     ]
    }
   ],
   "source": [
    "# reload model\n",
    "ddqn.build_with_env(env_)\n",
    "ddqn.load_model(\"d3rlpy_logs/ddqn.pt\")"
   ]
  },
  {
   "cell_type": "code",
   "execution_count": 22,
   "metadata": {},
   "outputs": [
    {
     "data": {
      "text/plain": [
       "Text(0, 0.5, 'episode reward')"
      ]
     },
     "execution_count": 22,
     "metadata": {},
     "output_type": "execute_result"
    },
    {
     "data": {
      "image/png": "[encoded data removed]",
      "text/plain": [
       "<Figure size 432x288 with 1 Axes>"
      ]
     },
     "metadata": {
      "needs_background": "light"
     },
     "output_type": "display_data"
    }
   ],
   "source": [
    "# we see that training RL policy can be risky online\n",
    "log_path = sorted(glob(\"d3rlpy_logs/DoubleDQN_online_*/evaluation.csv\"))[-1]\n",
    "df = pd.read_csv(\n",
    "    log_path, \n",
    "    usecols=[1,2],\n",
    "    names=[\"train_episode\", \"episodic_rewards\"]\n",
    ")\n",
    "plt.plot(df[\"train_episode\"], df[\"episodic_rewards\"])\n",
    "plt.title(\"Learning curve of DDQN\")\n",
    "plt.xlabel(\"episode\")\n",
    "plt.ylabel(\"episode reward\")"
   ]
  },
  {
   "cell_type": "code",
   "execution_count": 23,
   "metadata": {},
   "outputs": [],
   "source": [
    "random = DiscreteRandomPolicy()\n",
    "random.build_with_env(env_)"
   ]
  },
  {
   "cell_type": "code",
   "execution_count": 24,
   "metadata": {},
   "outputs": [
    {
     "data": {
      "application/vnd.jupyter.widget-view+json": {
       "model_id": "bd2e856edd2147f2a4d8e548a2ed1dc1",
       "version_major": 2,
       "version_minor": 0
      },
      "text/plain": [
       "[calculate on-policy policy value]:   0%|          | 0/100 [00:00<?, ?it/s]"
      ]
     },
     "metadata": {},
     "output_type": "display_data"
    },
    {
     "data": {
      "application/vnd.jupyter.widget-view+json": {
       "model_id": "4dd5a3ff0ec64fc193a79561c5b459a6",
       "version_major": 2,
       "version_minor": 0
      },
      "text/plain": [
       "[calculate on-policy policy value]:   0%|          | 0/100 [00:00<?, ?it/s]"
      ]
     },
     "metadata": {},
     "output_type": "display_data"
    },
    {
     "data": {
      "image/png": "[encoded data removed]",
      "text/plain": [
       "<Figure size 288x288 with 1 Axes>"
      ]
     },
     "metadata": {},
     "output_type": "display_data"
    }
   ],
   "source": [
    "# compare the policy performance online\n",
    "visualize_on_policy_policy_value(\n",
    "    env=env,\n",
    "    policies=[ddqn, random],\n",
    "    policy_names=[\"ddqn\", \"random\"],\n",
    "    n_trajectories=100,\n",
    "    random_state=random_state,\n",
    ")"
   ]
  },
  {
   "cell_type": "code",
   "execution_count": 25,
   "metadata": {},
   "outputs": [
    {
     "data": {
      "application/vnd.jupyter.widget-view+json": {
       "model_id": "dd04e7e24217412f9d346914b55110ef",
       "version_major": 2,
       "version_minor": 0
      },
      "text/plain": [
       "[calculate on-policy policy value]:   0%|          | 0/100 [00:00<?, ?it/s]"
      ]
     },
     "metadata": {},
     "output_type": "display_data"
    },
    {
     "data": {
      "application/vnd.jupyter.widget-view+json": {
       "model_id": "ee66279052e24fec9a8f1d3e1b765c84",
       "version_major": 2,
       "version_minor": 0
      },
      "text/plain": [
       "[calculate on-policy policy value]:   0%|          | 0/100 [00:00<?, ?it/s]"
      ]
     },
     "metadata": {},
     "output_type": "display_data"
    },
    {
     "name": "stdout",
     "output_type": "stream",
     "text": [
      "relative improvement: 0.34670008354218884\n"
     ]
    }
   ],
   "source": [
    "# on-policy policy value by ddqn policy\n",
    "# largely outperforms the random policy (about 20%)\n",
    "ddqn_performance = calc_on_policy_policy_value(env, ddqn, n_trajectories=100, random_state=random_state)\n",
    "random_performance = calc_on_policy_policy_value(env, random, n_trajectories=100, random_state=random_state)\n",
    "print(\"relative improvement:\", (ddqn_performance - random_performance) / random_performance)"
   ]
  },
  {
   "cell_type": "markdown",
   "metadata": {},
   "source": [
    "Note that, we provide the following functions for online evaluation of the policy performance under `ofrl.ope.online`.\n",
    "\n",
    "(Statistics)\n",
    "\n",
    "* `calc_on_policy_policy_value`\n",
    "* `calc_on_policy_policy_value_interval`\n",
    "* `calc_on_policy_variance`\n",
    "* `calc_on_policy_conditional_value_at_risk`\n",
    "* `calc_on_policy_policy_interquartile_range`\n",
    "* `calc_on_policy_cumulative_distribution_function`\n",
    "\n",
    "(Visualization)\n",
    "* `visualize_on_policy_policy_value`\n",
    "* `visualize_on_policy_policy_value_with_variance`\n",
    "* `visualize_on_policy_cumulative_distribution_function`\n",
    "* `visualize_on_policy_conditional_value_at_risk`\n",
    "* `visualize_on_policy_interquartile_range`"
   ]
  },
  {
   "attachments": {},
   "cell_type": "markdown",
   "metadata": {},
   "source": [
    "## 1. Synthetic Dataset Generation\n",
    "In the previous section, we see how we can interact with the environment *online* using synthetic simulator.  \n",
    "Though simulation is a good starting point for training an agent, eventually we want to deploy our agent (or policy) in the real world environment.  \n",
    "However, online interaction may have potential risk of failure in the real-world.\n",
    "Therefore, we introduce an alternative learning protocol, Offline RL, which aims at training a new policy using only offline logged dataset collected by a behavior policy $\\pi_0$:\n",
    "\n",
    "$$\\mathcal{D}_0 := \\{ \\{ s_t, a_t, s_{t+1}, r_t \\}_{t=1}^T \\}_{i=1}^n \\sim \\prod_{i=1}^n d_{s_0}(s_0) \\prod_{t=1}^T \\pi_0(a_t | s_t) p(s_{t+1} | s_t, a_t) p(r_t | s_t, a_t),$$\n",
    "\n",
    "where $s_t \\in \\mathcal{S}$ is the state observed at timestep $t$, $a_t$ is the action chosen by the behavior policy $\\pi_0$, and $r_t$ is the reward. \n",
    "\n",
    "We prepare an easy-to-use synthetic dataset generator: `SyntheticDataset` class in the dataset module.  \n",
    "By regarding the simulation environment as a hypothetical real-environment, we show how to conduct Offline RL using logged dataset in real-world application.  \n",
    "For detailed description of how to use a real-world dataset, please see #TODO (will be implemented).\n",
    "\n",
    "`SyntheticDataset` has the following arguments:\n",
    "- `env`: RTB environment for RL defined in the previous section.\n",
    "- `action_meaning`: Dictionary which maps discrete action index into specific actions.\n",
    "- `state_keys`: Name of the state variable at each dimension.\n",
    "- `max_episode_steps`: Maximum number of timesteps in an episode.\n",
    "- `info_keys`: Dictionary containing of key and the type of info components."
   ]
  },
  {
   "cell_type": "code",
   "execution_count": 26,
   "metadata": {},
   "outputs": [],
   "source": [
    "# import necessary module from OFRL\n",
    "from ofrl.policy import DiscreteEpsilonGreedyHead"
   ]
  },
  {
   "cell_type": "code",
   "execution_count": 27,
   "metadata": {},
   "outputs": [],
   "source": [
    "behavior_policy = DiscreteEpsilonGreedyHead(\n",
    "    ddqn, \n",
    "    n_actions=env.action_space.n,\n",
    "    epsilon=0.3,\n",
    "    name=\"ddqn_epsilon_0.3\",\n",
    "    random_state=random_state,\n",
    ")"
   ]
  },
  {
   "cell_type": "code",
   "execution_count": 28,
   "metadata": {},
   "outputs": [],
   "source": [
    "# initialize dataset class\n",
    "dataset = SyntheticDataset(\n",
    "    env=env,\n",
    "    action_meaning=env.action_meaning,\n",
    "    state_keys=env.obs_keys,\n",
    "    max_episode_steps=env.step_per_episode,\n",
    "    info_keys={\n",
    "        \"search_volume\": int,\n",
    "        \"impression\": int,\n",
    "        \"click\": int,\n",
    "        \"conversion\": int,\n",
    "        \"average_bid_price\": float,\n",
    "    },\n",
    ")"
   ]
  },
  {
   "cell_type": "code",
   "execution_count": 29,
   "metadata": {},
   "outputs": [
    {
     "data": {
      "application/vnd.jupyter.widget-view+json": {
       "model_id": "3e70ac42ba664cce911328d19a4ea317",
       "version_major": 2,
       "version_minor": 0
      },
      "text/plain": [
       "[obtain_trajectories]:   0%|          | 0/10000 [00:00<?, ?it/s]"
      ]
     },
     "metadata": {},
     "output_type": "display_data"
    },
    {
     "data": {
      "application/vnd.jupyter.widget-view+json": {
       "model_id": "233ea73f17c245e1a00f02db7ae76fa4",
       "version_major": 2,
       "version_minor": 0
      },
      "text/plain": [
       "[obtain_trajectories]:   0%|          | 0/10000 [00:00<?, ?it/s]"
      ]
     },
     "metadata": {},
     "output_type": "display_data"
    }
   ],
   "source": [
    "# collect logged data by a behavior policy\n",
    "# skip if there is a preserved logged dataset\n",
    "train_logged_dataset = dataset.obtain_episodes(\n",
    "    behavior_policies=behavior_policy,\n",
    "    n_trajectories=10000, \n",
    "    obtain_info=True,\n",
    "    random_state=random_state,\n",
    ")\n",
    "test_logged_dataset = dataset.obtain_episodes(\n",
    "    behavior_policies=behavior_policy,\n",
    "    n_trajectories=10000, \n",
    "    obtain_info=True,\n",
    "    random_state=random_state + 1,\n",
    ")"
   ]
  },
  {
   "cell_type": "code",
   "execution_count": 30,
   "metadata": {},
   "outputs": [
    {
     "data": {
      "text/plain": [
       "{'size': 70000,\n",
       " 'n_trajectories': 10000,\n",
       " 'step_per_trajectory': 7,\n",
       " 'action_type': 'discrete',\n",
       " 'n_actions': 10,\n",
       " 'action_dim': None,\n",
       " 'action_meaning': array([ 0.1       ,  0.16681005,  0.27825594,  0.46415888,  0.77426368,\n",
       "         1.29154967,  2.15443469,  3.59381366,  5.9948425 , 10.        ]),\n",
       " 'action_keys': None,\n",
       " 'state_dim': 7,\n",
       " 'state_keys': ['timestep',\n",
       "  'remaining_budget',\n",
       "  'budget_consumption_rate',\n",
       "  'cost_per_mille_of_impression',\n",
       "  'winning_rate',\n",
       "  'reward',\n",
       "  'adjust_rate'],\n",
       " 'state': array([[0.00000000e+00, 3.00000000e+03, 8.26436129e-01, ...,\n",
       "         9.56309981e-01, 1.00000000e+00, 1.57817203e+00],\n",
       "        [1.00000000e+00, 1.91000000e+03, 3.63333333e-01, ...,\n",
       "         1.00000000e+00, 6.00000000e+00, 5.99484250e+00],\n",
       "        [2.00000000e+00, 1.91000000e+03, 0.00000000e+00, ...,\n",
       "         0.00000000e+00, 0.00000000e+00, 1.66810054e-01],\n",
       "        ...,\n",
       "        [4.00000000e+00, 6.81000000e+02, 6.16554054e-01, ...,\n",
       "         1.00000000e+00, 4.00000000e+00, 5.99484250e+00],\n",
       "        [5.00000000e+00, 6.59000000e+02, 3.23054332e-02, ...,\n",
       "         4.92610837e-03, 1.00000000e+00, 4.64158883e-01],\n",
       "        [6.00000000e+00, 6.59000000e+02, 0.00000000e+00, ...,\n",
       "         1.16731518e-02, 0.00000000e+00, 4.64158883e-01]]),\n",
       " 'action': array([8, 1, 4, ..., 3, 3, 5]),\n",
       " 'reward': array([6., 0., 1., ..., 1., 0., 2.]),\n",
       " 'done': array([0., 0., 0., ..., 0., 0., 1.]),\n",
       " 'terminal': array([0., 0., 0., ..., 0., 0., 1.]),\n",
       " 'info': {'search_volume': array([201, 205, 217, ..., 203, 257, 179]),\n",
       "  'impression': array([201,   0,  68, ...,   1,   3, 129]),\n",
       "  'click': array([21,  0,  8, ...,  1,  0, 15]),\n",
       "  'conversion': array([6, 0, 1, ..., 1, 0, 2]),\n",
       "  'average_bid_price': array([326.24875622,   8.24390244,  40.05990783, ...,  22.03940887,\n",
       "          21.44747082,  59.39664804])},\n",
       " 'pscore': array([0.73, 0.03, 0.73, ..., 0.73, 0.73, 0.73]),\n",
       " 'behavior_policy': 'ddqn_epsilon_0.3',\n",
       " 'dataset_id': 0}"
      ]
     },
     "execution_count": 30,
     "metadata": {},
     "output_type": "execute_result"
    }
   ],
   "source": [
    "train_logged_dataset"
   ]
  },
  {
   "cell_type": "code",
   "execution_count": 31,
   "metadata": {},
   "outputs": [],
   "source": [
    "with open(\"logs/train_dataset_discrete_ddqn.pkl\", \"wb\") as f:\n",
    "    pickle.dump(train_logged_dataset, f)\n",
    "with open(\"logs/test_dataset_discrete_ddqn.pkl\", \"wb\") as f:\n",
    "    pickle.dump(test_logged_dataset, f)"
   ]
  },
  {
   "cell_type": "code",
   "execution_count": 32,
   "metadata": {},
   "outputs": [],
   "source": [
    "with open(\"logs/train_dataset_discrete_ddqn.pkl\", \"rb\") as f:\n",
    "    train_logged_dataset = pickle.load(f)\n",
    "with open(\"logs/test_dataset_discrete_ddqn.pkl\", \"rb\") as f:\n",
    "    test_logged_dataset = pickle.load(f)"
   ]
  },
  {
   "cell_type": "code",
   "execution_count": 26,
   "metadata": {},
   "outputs": [
    {
     "data": {
      "application/vnd.jupyter.widget-view+json": {
       "model_id": "072340f309f941c1b01e041ed9a2f6ff",
       "version_major": 2,
       "version_minor": 0
      },
      "text/plain": [
       "[calculate on-policy policy value]:   0%|          | 0/100 [00:00<?, ?it/s]"
      ]
     },
     "metadata": {},
     "output_type": "display_data"
    },
    {
     "data": {
      "application/vnd.jupyter.widget-view+json": {
       "model_id": "a77d734d523f4515b05f8d3468985ed6",
       "version_major": 2,
       "version_minor": 0
      },
      "text/plain": [
       "[calculate on-policy policy value]:   0%|          | 0/100 [00:00<?, ?it/s]"
      ]
     },
     "metadata": {},
     "output_type": "display_data"
    },
    {
     "data": {
      "application/vnd.jupyter.widget-view+json": {
       "model_id": "5399d2985bd0438ab6d06d9620650859",
       "version_major": 2,
       "version_minor": 0
      },
      "text/plain": [
       "[calculate on-policy policy value]:   0%|          | 0/100 [00:00<?, ?it/s]"
      ]
     },
     "metadata": {},
     "output_type": "display_data"
    },
    {
     "data": {
      "image/png": "[encoded data removed]",
      "text/plain": [
       "<Figure size 432x288 with 1 Axes>"
      ]
     },
     "metadata": {},
     "output_type": "display_data"
    }
   ],
   "source": [
    "# compare the policy performance online\n",
    "# almost the same performance as greedy ddqn\n",
    "visualize_on_policy_policy_value(\n",
    "    env=env,\n",
    "    policies=[ddqn, behavior_policy, random],\n",
    "    policy_names=[\"ddqn\", \"ddqn (e=0.3)\", \"random\"],\n",
    "    n_trajectories=100,\n",
    "    random_state=random_state,\n",
    ")"
   ]
  },
  {
   "cell_type": "code",
   "execution_count": 27,
   "metadata": {},
   "outputs": [
    {
     "data": {
      "text/html": [
       "<div>\n",
       "<style scoped>\n",
       "    .dataframe tbody tr th:only-of-type {\n",
       "        vertical-align: middle;\n",
       "    }\n",
       "\n",
       "    .dataframe tbody tr th {\n",
       "        vertical-align: top;\n",
       "    }\n",
       "\n",
       "    .dataframe thead th {\n",
       "        text-align: right;\n",
       "    }\n",
       "</style>\n",
       "<table border=\"1\" class=\"dataframe\">\n",
       "  <thead>\n",
       "    <tr style=\"text-align: right;\">\n",
       "      <th></th>\n",
       "      <th>adjust rate</th>\n",
       "      <th>average bid price</th>\n",
       "      <th>impression</th>\n",
       "      <th>click</th>\n",
       "      <th>conversion</th>\n",
       "      <th>winning rate</th>\n",
       "      <th>click / impression</th>\n",
       "      <th>conversion / click</th>\n",
       "    </tr>\n",
       "  </thead>\n",
       "  <tbody>\n",
       "    <tr>\n",
       "      <th>count</th>\n",
       "      <td>70000.000000</td>\n",
       "      <td>70000.000000</td>\n",
       "      <td>70000.000000</td>\n",
       "      <td>70000.000000</td>\n",
       "      <td>70000.000000</td>\n",
       "      <td>70000.000000</td>\n",
       "      <td>70000.000000</td>\n",
       "      <td>70000.000000</td>\n",
       "    </tr>\n",
       "    <tr>\n",
       "      <th>mean</th>\n",
       "      <td>1.812960</td>\n",
       "      <td>97.291280</td>\n",
       "      <td>83.976386</td>\n",
       "      <td>8.712829</td>\n",
       "      <td>2.153314</td>\n",
       "      <td>0.473800</td>\n",
       "      <td>0.061702</td>\n",
       "      <td>0.130781</td>\n",
       "    </tr>\n",
       "    <tr>\n",
       "      <th>std</th>\n",
       "      <td>2.193649</td>\n",
       "      <td>116.686584</td>\n",
       "      <td>87.507840</td>\n",
       "      <td>9.634296</td>\n",
       "      <td>2.978709</td>\n",
       "      <td>0.422093</td>\n",
       "      <td>0.071491</td>\n",
       "      <td>0.174033</td>\n",
       "    </tr>\n",
       "    <tr>\n",
       "      <th>min</th>\n",
       "      <td>0.000036</td>\n",
       "      <td>3.994444</td>\n",
       "      <td>0.000000</td>\n",
       "      <td>0.000000</td>\n",
       "      <td>0.000000</td>\n",
       "      <td>0.000000</td>\n",
       "      <td>0.000000</td>\n",
       "      <td>0.000000</td>\n",
       "    </tr>\n",
       "    <tr>\n",
       "      <th>25%</th>\n",
       "      <td>0.222076</td>\n",
       "      <td>8.344745</td>\n",
       "      <td>0.000000</td>\n",
       "      <td>0.000000</td>\n",
       "      <td>0.000000</td>\n",
       "      <td>0.000000</td>\n",
       "      <td>0.000000</td>\n",
       "      <td>0.000000</td>\n",
       "    </tr>\n",
       "    <tr>\n",
       "      <th>50%</th>\n",
       "      <td>1.291550</td>\n",
       "      <td>66.422549</td>\n",
       "      <td>38.000000</td>\n",
       "      <td>3.000000</td>\n",
       "      <td>0.000000</td>\n",
       "      <td>0.467049</td>\n",
       "      <td>0.068966</td>\n",
       "      <td>0.000000</td>\n",
       "    </tr>\n",
       "    <tr>\n",
       "      <th>75%</th>\n",
       "      <td>2.154435</td>\n",
       "      <td>105.867354</td>\n",
       "      <td>175.000000</td>\n",
       "      <td>18.000000</td>\n",
       "      <td>4.000000</td>\n",
       "      <td>0.896907</td>\n",
       "      <td>0.108225</td>\n",
       "      <td>0.235294</td>\n",
       "    </tr>\n",
       "    <tr>\n",
       "      <th>max</th>\n",
       "      <td>16.593913</td>\n",
       "      <td>550.063492</td>\n",
       "      <td>290.000000</td>\n",
       "      <td>41.000000</td>\n",
       "      <td>20.000000</td>\n",
       "      <td>1.000000</td>\n",
       "      <td>0.999995</td>\n",
       "      <td>0.999998</td>\n",
       "    </tr>\n",
       "  </tbody>\n",
       "</table>\n",
       "</div>"
      ],
      "text/plain": [
       "        adjust rate  average bid price    impression         click  \\\n",
       "count  70000.000000       70000.000000  70000.000000  70000.000000   \n",
       "mean       1.812960          97.291280     83.976386      8.712829   \n",
       "std        2.193649         116.686584     87.507840      9.634296   \n",
       "min        0.000036           3.994444      0.000000      0.000000   \n",
       "25%        0.222076           8.344745      0.000000      0.000000   \n",
       "50%        1.291550          66.422549     38.000000      3.000000   \n",
       "75%        2.154435         105.867354    175.000000     18.000000   \n",
       "max       16.593913         550.063492    290.000000     41.000000   \n",
       "\n",
       "         conversion  winning rate  click / impression  conversion / click  \n",
       "count  70000.000000  70000.000000        70000.000000        70000.000000  \n",
       "mean       2.153314      0.473800            0.061702            0.130781  \n",
       "std        2.978709      0.422093            0.071491            0.174033  \n",
       "min        0.000000      0.000000            0.000000            0.000000  \n",
       "25%        0.000000      0.000000            0.000000            0.000000  \n",
       "50%        0.000000      0.467049            0.068966            0.000000  \n",
       "75%        4.000000      0.896907            0.108225            0.235294  \n",
       "max       20.000000      1.000000            0.999995            0.999998  "
      ]
     },
     "execution_count": 27,
     "metadata": {},
     "output_type": "execute_result"
    }
   ],
   "source": [
    "# let's see some statistics of the dataset\n",
    "df = pd.DataFrame()\n",
    "df['adjust rate'] = train_logged_dataset['state'][:, 6]\n",
    "df['average bid price'] = train_logged_dataset['info']['average_bid_price']\n",
    "df['impression'] = train_logged_dataset['info']['impression']\n",
    "df['click'] = train_logged_dataset['info']['click']\n",
    "df['conversion'] = train_logged_dataset['info']['conversion']\n",
    "df['winning rate'] = train_logged_dataset['state'][:, 4]\n",
    "df['click / impression'] = df['click'] / (df['impression'] + 1e-5)\n",
    "df['conversion / click'] = df['conversion'] / (df['click'] + 1e-5)\n",
    "df.describe()"
   ]
  },
  {
   "cell_type": "markdown",
   "metadata": {},
   "source": [
    "For more about the data collection and visualization, please refer to [examples/quickstart/rtb_synthetic_data_collection.ipynb](https://github.com/negocia-inc/rtb_reinforcement_learing/blob/ope/examples/quickstart/rtb_synthetic_data_collection.ipynb)."
   ]
  },
  {
   "cell_type": "markdown",
   "metadata": {},
   "source": [
    "## 2. Offline Reinforcement Learning\n",
    "In this section, we learn a new policy in an offline manner, without interacting with the environment.  \n",
    "We use [d3rlpy](https://github.com/takuseno/d3rlpy)'s implementation of algorithms."
   ]
  },
  {
   "cell_type": "code",
   "execution_count": 28,
   "metadata": {},
   "outputs": [],
   "source": [
    "# import modules from d3rlpy\n",
    "from d3rlpy.dataset import MDPDataset\n",
    "from d3rlpy.algos import DiscreteCQL\n",
    "from d3rlpy.ope import DiscreteFQE\n",
    "from d3rlpy.metrics.scorer import evaluate_on_environment"
   ]
  },
  {
   "cell_type": "code",
   "execution_count": 29,
   "metadata": {},
   "outputs": [],
   "source": [
    "offlinerl_dataset = MDPDataset(\n",
    "    observations=train_logged_dataset[\"state\"],\n",
    "    actions=train_logged_dataset[\"action\"],\n",
    "    rewards=train_logged_dataset[\"reward\"],\n",
    "    terminals=train_logged_dataset[\"done\"],\n",
    "    episode_terminals=train_logged_dataset[\"done\"],\n",
    "    discrete_action=True,\n",
    ")\n",
    "train_episodes, test_episodes = train_test_split(offlinerl_dataset, test_size=0.2, random_state=random_state)"
   ]
  },
  {
   "cell_type": "code",
   "execution_count": 30,
   "metadata": {},
   "outputs": [],
   "source": [
    "# Use Conservative Q-Learning policy\n",
    "cql = DiscreteCQL(\n",
    "    encoder_factory=VectorEncoderFactory(hidden_units=[30, 30]),\n",
    "    q_func_factory=MeanQFunctionFactory(),\n",
    "    use_gpu=torch.cuda.is_available(),\n",
    ")"
   ]
  },
  {
   "cell_type": "code",
   "execution_count": 51,
   "metadata": {},
   "outputs": [
    {
     "name": "stdout",
     "output_type": "stream",
     "text": [
      "2022-12-01 09:05.13 [debug    ] RandomIterator is selected.\n",
      "2022-12-01 09:05.13 [info     ] Directory is created at d3rlpy_logs/DiscreteCQL_20221201090513\n",
      "2022-12-01 09:05.13 [debug    ] Building models...\n",
      "2022-12-01 09:05.13 [debug    ] Models have been built.\n",
      "2022-12-01 09:05.13 [info     ] Parameters are saved to d3rlpy_logs/DiscreteCQL_20221201090513/params.json params={'action_scaler': None, 'alpha': 1.0, 'batch_size': 32, 'encoder_factory': {'type': 'vector', 'params': {'hidden_units': [30, 30], 'activation': 'relu', 'use_batch_norm': False, 'dropout_rate': None, 'use_dense': False}}, 'gamma': 0.99, 'generated_maxlen': 100000, 'learning_rate': 6.25e-05, 'n_critics': 1, 'n_frames': 1, 'n_steps': 1, 'optim_factory': {'optim_cls': 'Adam', 'betas': (0.9, 0.999), 'eps': 1e-08, 'weight_decay': 0, 'amsgrad': False}, 'q_func_factory': {'type': 'mean', 'params': {'share_encoder': False}}, 'real_ratio': 1.0, 'reward_scaler': None, 'scaler': None, 'target_update_interval': 8000, 'use_gpu': None, 'algorithm': 'DiscreteCQL', 'observation_shape': (7,), 'action_size': 10}\n"
     ]
    },
    {
     "data": {
      "application/vnd.jupyter.widget-view+json": {
       "model_id": "2dd5183d807e445d9f0c278d2ce8ece2",
       "version_major": 2,
       "version_minor": 0
      },
      "text/plain": [
       "Epoch 1/1:   0%|          | 0/10000 [00:00<?, ?it/s]"
      ]
     },
     "metadata": {},
     "output_type": "display_data"
    },
    {
     "name": "stdout",
     "output_type": "stream",
     "text": [
      "2022-12-01 09:07.46 [info     ] DiscreteCQL_20221201090513: epoch=1 step=10000 epoch=1 metrics={'time_sample_batch': 0.0002882416248321533, 'time_algorithm_update': 0.014613411235809327, 'loss': 66.94269924764633, 'time_step': 0.015173145627975464, 'environment': 16.6} step=10000\n",
      "2022-12-01 09:07.46 [info     ] Model parameters are saved to d3rlpy_logs/DiscreteCQL_20221201090513/model_10000.pt\n"
     ]
    },
    {
     "data": {
      "text/plain": [
       "[(1,\n",
       "  {'time_sample_batch': 0.0002882416248321533,\n",
       "   'time_algorithm_update': 0.014613411235809327,\n",
       "   'loss': 66.94269924764633,\n",
       "   'time_step': 0.015173145627975464,\n",
       "   'environment': 16.6})]"
      ]
     },
     "execution_count": 51,
     "metadata": {},
     "output_type": "execute_result"
    }
   ],
   "source": [
    "cql.fit(\n",
    "    train_episodes,\n",
    "    eval_episodes=test_episodes,\n",
    "    n_steps=10000,\n",
    "    scorers={\n",
    "        'environment': evaluate_on_environment(env_),\n",
    "        # to record training process w/ ground truth policy value, which is unseen to the agent\n",
    "    },\n",
    ")"
   ]
  },
  {
   "cell_type": "code",
   "execution_count": 42,
   "metadata": {},
   "outputs": [],
   "source": [
    "# save model\n",
    "cql.save_model(\"d3rlpy_logs/cql_discrete.pt\")"
   ]
  },
  {
   "cell_type": "code",
   "execution_count": 31,
   "metadata": {},
   "outputs": [],
   "source": [
    "# reload model\n",
    "cql.build_with_env(env_)\n",
    "cql.load_model(\"d3rlpy_logs/cql_discrete.pt\")"
   ]
  },
  {
   "cell_type": "code",
   "execution_count": 32,
   "metadata": {},
   "outputs": [
    {
     "data": {
      "application/vnd.jupyter.widget-view+json": {
       "model_id": "f6e0230fab5d4fb783b5058199d8d9bc",
       "version_major": 2,
       "version_minor": 0
      },
      "text/plain": [
       "[calculate on-policy policy value]:   0%|          | 0/100 [00:00<?, ?it/s]"
      ]
     },
     "metadata": {},
     "output_type": "display_data"
    },
    {
     "data": {
      "application/vnd.jupyter.widget-view+json": {
       "model_id": "e3663df4e9214481bd9a440ca04538a8",
       "version_major": 2,
       "version_minor": 0
      },
      "text/plain": [
       "[calculate on-policy policy value]:   0%|          | 0/100 [00:00<?, ?it/s]"
      ]
     },
     "metadata": {},
     "output_type": "display_data"
    },
    {
     "data": {
      "application/vnd.jupyter.widget-view+json": {
       "model_id": "05088c5aa3d043a39bca25eeb308ec8b",
       "version_major": 2,
       "version_minor": 0
      },
      "text/plain": [
       "[calculate on-policy policy value]:   0%|          | 0/100 [00:00<?, ?it/s]"
      ]
     },
     "metadata": {},
     "output_type": "display_data"
    },
    {
     "data": {
      "application/vnd.jupyter.widget-view+json": {
       "model_id": "f01dc099dc0f407dba410303120f087b",
       "version_major": 2,
       "version_minor": 0
      },
      "text/plain": [
       "[calculate on-policy policy value]:   0%|          | 0/100 [00:00<?, ?it/s]"
      ]
     },
     "metadata": {},
     "output_type": "display_data"
    },
    {
     "data": {
      "image/png": "[encoded data removed]",
      "text/plain": [
       "<Figure size 576x288 with 1 Axes>"
      ]
     },
     "metadata": {},
     "output_type": "display_data"
    }
   ],
   "source": [
    "# compare the policy performance online\n",
    "# not better than online policy, but achieves almost the same performance\n",
    "# meaning that we can learn a reasonable policy without interacting with the environment!\n",
    "visualize_on_policy_policy_value(\n",
    "    env=env,\n",
    "    policies=[ddqn, behavior_policy, cql, random],\n",
    "    policy_names=[\"ddqn\", \"ddqn (e=0.3)\", \"cql (offline)\", \"random\"],\n",
    "    n_trajectories=100,\n",
    "    random_state=random_state,\n",
    ")"
   ]
  },
  {
   "cell_type": "markdown",
   "metadata": {},
   "source": [
    "## 3. Off-Policy Evaluation and Evaluation of Offline RL methods\n",
    "In the previous section, we verified the performance of a learned policy via online interaction (aka A/B tests).  \n",
    "However, it could be risky because the policy may perform poorly in an online environment.  \n",
    "To tackle this issue, we aim at evaluating the performance of a policy offline, to gain some prior knowledge on how agent works in the environment.\n",
    "\n",
    "#### Estimation Target\n",
    "\n",
    "The goal to estimate the estimators' average policy performance, the *policy value*.\n",
    "\n",
    "$$ V(\\pi) := \\mathbb{E}\\left[\\sum_{t=1}^T \\gamma^{t-1} r_t \\mid \\pi \\right] $$"
   ]
  },
  {
   "cell_type": "code",
   "execution_count": 33,
   "metadata": {},
   "outputs": [],
   "source": [
    "# import ope modules from OFRL\n",
    "from ofrl.ope import CreateOPEInput\n",
    "from ofrl.ope import OffPolicyEvaluation as OPE\n",
    "from ofrl.ope import DiscreteDirectMethod as DM\n",
    "from ofrl.ope import DiscreteTrajectoryWiseImportanceSampling as TIS\n",
    "from ofrl.ope import DiscretePerDecisionImportanceSampling as PDIS\n",
    "from ofrl.ope import DiscreteDoublyRobust as DR\n",
    "from ofrl.ope import DiscreteSelfNormalizedTrajectoryWiseImportanceSampling as SNTIS\n",
    "from ofrl.ope import DiscreteSelfNormalizedPerDecisionImportanceSampling as SNPDIS\n",
    "from ofrl.ope import DiscreteSelfNormalizedDoublyRobust as SNDR"
   ]
  },
  {
   "cell_type": "code",
   "execution_count": 34,
   "metadata": {},
   "outputs": [],
   "source": [
    "# define evaluation policies\n",
    "cql_ = DiscreteEpsilonGreedyHead(base_policy=cql, n_actions=env.action_space.n, name=\"cql\", epsilon=0.0, random_state=random_state)\n",
    "ddqn_ = DiscreteEpsilonGreedyHead(base_policy=ddqn, n_actions=env.action_space.n, name=\"ddqn\", epsilon=0.0, random_state=random_state)\n",
    "random_ = DiscreteEpsilonGreedyHead(base_policy=random, n_actions=env.action_space.n, name=\"random\", epsilon=1.0, random_state=random_state)\n",
    "evaluation_policies = [cql_, ddqn_, random_]"
   ]
  },
  {
   "cell_type": "code",
   "execution_count": 35,
   "metadata": {},
   "outputs": [],
   "source": [
    "# first, prepare OPE inputs\n",
    "prep = CreateOPEInput(\n",
    "    env=env,\n",
    "    model_args={\n",
    "        \"fqe\": {\n",
    "            \"encoder_factory\": VectorEncoderFactory(hidden_units=[30, 30]),\n",
    "            \"q_func_factory\": MeanQFunctionFactory(),\n",
    "            \"learning_rate\": 1e-4,\n",
    "            \"use_gpu\": torch.cuda.is_available(),\n",
    "        }\n",
    "    },\n",
    "    state_scaler=MinMaxScaler(\n",
    "        minimum=test_logged_dataset[\"state\"].min(axis=0),\n",
    "        maximum=test_logged_dataset[\"state\"].max(axis=0),\n",
    "    ),\n",
    ")"
   ]
  },
  {
   "cell_type": "code",
   "execution_count": 41,
   "metadata": {},
   "outputs": [
    {
     "data": {
      "application/vnd.jupyter.widget-view+json": {
       "model_id": "d673e03ff0dc455fbf8abe15d14697e4",
       "version_major": 2,
       "version_minor": 0
      },
      "text/plain": [
       "[fit FQE model]:   0%|          | 0/3 [00:00<?, ?it/s]"
      ]
     },
     "metadata": {},
     "output_type": "display_data"
    },
    {
     "name": "stdout",
     "output_type": "stream",
     "text": [
      "2023-01-25 23:20.02 [debug    ] RoundIterator is selected.\n",
      "2023-01-25 23:20.02 [info     ] Directory is created at d3rlpy_logs/DiscreteFQE_20230125232002\n",
      "2023-01-25 23:20.02 [debug    ] Fitting scaler...              scaler=min_max\n",
      "2023-01-25 23:20.02 [debug    ] Building models...\n",
      "2023-01-25 23:20.02 [debug    ] Models have been built.\n",
      "2023-01-25 23:20.02 [info     ] Parameters are saved to d3rlpy_logs/DiscreteFQE_20230125232002/params.json params={'action_scaler': None, 'batch_size': 100, 'encoder_factory': {'type': 'vector', 'params': {'hidden_units': [30, 30], 'activation': 'relu', 'use_batch_norm': False, 'dropout_rate': None, 'use_dense': False}}, 'gamma': 1.0, 'generated_maxlen': 100000, 'learning_rate': 0.0001, 'n_critics': 1, 'n_frames': 1, 'n_steps': 1, 'optim_factory': {'optim_cls': 'Adam', 'betas': (0.9, 0.999), 'eps': 1e-08, 'weight_decay': 0, 'amsgrad': False}, 'q_func_factory': {'type': 'mean', 'params': {'share_encoder': False}}, 'real_ratio': 1.0, 'reward_scaler': None, 'scaler': {'type': 'min_max', 'params': {'maximum': array([6.00000000e+00, 3.00000000e+03, 9.99942871e-01, 6.45000000e+04,\n",
      "       1.00000000e+00, 2.20000000e+01, 1.13407645e+01]), 'minimum': array([0.00000000e+00, 1.00000000e+00, 0.00000000e+00, 0.00000000e+00,\n",
      "       0.00000000e+00, 0.00000000e+00, 4.83789912e-05])}}, 'target_update_interval': 100, 'use_gpu': None, 'algorithm': 'DiscreteFQE', 'observation_shape': (7,), 'action_size': 10}\n"
     ]
    },
    {
     "data": {
      "application/vnd.jupyter.widget-view+json": {
       "model_id": "a212e0568cbe488491e340a79d75e10f",
       "version_major": 2,
       "version_minor": 0
      },
      "text/plain": [
       "Epoch 1/1:   0%|          | 0/700 [00:00<?, ?it/s]"
      ]
     },
     "metadata": {},
     "output_type": "display_data"
    },
    {
     "name": "stdout",
     "output_type": "stream",
     "text": [
      "2023-01-25 23:20.04 [info     ] DiscreteFQE_20230125232002: epoch=1 step=700 epoch=1 metrics={'time_sample_batch': 0.00012951816831316266, 'time_algorithm_update': 0.0015027073451450892, 'loss': 1.809374807562147, 'time_step': 0.0016830856459481376} step=700\n",
      "2023-01-25 23:20.04 [info     ] Model parameters are saved to d3rlpy_logs/DiscreteFQE_20230125232002/model_700.pt\n",
      "2023-01-25 23:20.04 [debug    ] RoundIterator is selected.\n",
      "2023-01-25 23:20.04 [info     ] Directory is created at d3rlpy_logs/DiscreteFQE_20230125232004\n",
      "2023-01-25 23:20.04 [debug    ] Fitting scaler...              scaler=min_max\n",
      "2023-01-25 23:20.04 [debug    ] Building models...\n",
      "2023-01-25 23:20.04 [debug    ] Models have been built.\n",
      "2023-01-25 23:20.04 [info     ] Parameters are saved to d3rlpy_logs/DiscreteFQE_20230125232004/params.json params={'action_scaler': None, 'batch_size': 100, 'encoder_factory': {'type': 'vector', 'params': {'hidden_units': [30, 30], 'activation': 'relu', 'use_batch_norm': False, 'dropout_rate': None, 'use_dense': False}}, 'gamma': 1.0, 'generated_maxlen': 100000, 'learning_rate': 0.0001, 'n_critics': 1, 'n_frames': 1, 'n_steps': 1, 'optim_factory': {'optim_cls': 'Adam', 'betas': (0.9, 0.999), 'eps': 1e-08, 'weight_decay': 0, 'amsgrad': False}, 'q_func_factory': {'type': 'mean', 'params': {'share_encoder': False}}, 'real_ratio': 1.0, 'reward_scaler': None, 'scaler': {'type': 'min_max', 'params': {'maximum': array([6.00000000e+00, 3.00000000e+03, 9.99942871e-01, 6.45000000e+04,\n",
      "       1.00000000e+00, 2.20000000e+01, 1.13407645e+01]), 'minimum': array([0.00000000e+00, 1.00000000e+00, 0.00000000e+00, 0.00000000e+00,\n",
      "       0.00000000e+00, 0.00000000e+00, 4.83789912e-05])}}, 'target_update_interval': 100, 'use_gpu': None, 'algorithm': 'DiscreteFQE', 'observation_shape': (7,), 'action_size': 10}\n"
     ]
    },
    {
     "data": {
      "application/vnd.jupyter.widget-view+json": {
       "model_id": "a7ef6b8eda7241149245949cfc7241ce",
       "version_major": 2,
       "version_minor": 0
      },
      "text/plain": [
       "Epoch 1/1:   0%|          | 0/700 [00:00<?, ?it/s]"
      ]
     },
     "metadata": {},
     "output_type": "display_data"
    },
    {
     "name": "stdout",
     "output_type": "stream",
     "text": [
      "2023-01-25 23:20.05 [info     ] DiscreteFQE_20230125232004: epoch=1 step=700 epoch=1 metrics={'time_sample_batch': 0.00013682229178292412, 'time_algorithm_update': 0.001532315867287772, 'loss': 1.8975446593761445, 'time_step': 0.0017200722013201032} step=700\n",
      "2023-01-25 23:20.05 [info     ] Model parameters are saved to d3rlpy_logs/DiscreteFQE_20230125232004/model_700.pt\n",
      "2023-01-25 23:20.05 [debug    ] RoundIterator is selected.\n",
      "2023-01-25 23:20.05 [info     ] Directory is created at d3rlpy_logs/DiscreteFQE_20230125232005\n",
      "2023-01-25 23:20.05 [debug    ] Fitting scaler...              scaler=min_max\n",
      "2023-01-25 23:20.05 [debug    ] Building models...\n",
      "2023-01-25 23:20.05 [debug    ] Models have been built.\n",
      "2023-01-25 23:20.05 [info     ] Parameters are saved to d3rlpy_logs/DiscreteFQE_20230125232005/params.json params={'action_scaler': None, 'batch_size': 100, 'encoder_factory': {'type': 'vector', 'params': {'hidden_units': [30, 30], 'activation': 'relu', 'use_batch_norm': False, 'dropout_rate': None, 'use_dense': False}}, 'gamma': 1.0, 'generated_maxlen': 100000, 'learning_rate': 0.0001, 'n_critics': 1, 'n_frames': 1, 'n_steps': 1, 'optim_factory': {'optim_cls': 'Adam', 'betas': (0.9, 0.999), 'eps': 1e-08, 'weight_decay': 0, 'amsgrad': False}, 'q_func_factory': {'type': 'mean', 'params': {'share_encoder': False}}, 'real_ratio': 1.0, 'reward_scaler': None, 'scaler': {'type': 'min_max', 'params': {'maximum': array([6.00000000e+00, 3.00000000e+03, 9.99942871e-01, 6.45000000e+04,\n",
      "       1.00000000e+00, 2.20000000e+01, 1.13407645e+01]), 'minimum': array([0.00000000e+00, 1.00000000e+00, 0.00000000e+00, 0.00000000e+00,\n",
      "       0.00000000e+00, 0.00000000e+00, 4.83789912e-05])}}, 'target_update_interval': 100, 'use_gpu': None, 'algorithm': 'DiscreteFQE', 'observation_shape': (7,), 'action_size': 10}\n"
     ]
    },
    {
     "data": {
      "application/vnd.jupyter.widget-view+json": {
       "model_id": "5a661526af8447c0995bf3561999412d",
       "version_major": 2,
       "version_minor": 0
      },
      "text/plain": [
       "Epoch 1/1:   0%|          | 0/700 [00:00<?, ?it/s]"
      ]
     },
     "metadata": {},
     "output_type": "display_data"
    },
    {
     "name": "stdout",
     "output_type": "stream",
     "text": [
      "2023-01-25 23:20.06 [info     ] DiscreteFQE_20230125232005: epoch=1 step=700 epoch=1 metrics={'time_sample_batch': 0.00014757837568010602, 'time_algorithm_update': 0.001477982997894287, 'loss': 1.8543129418577466, 'time_step': 0.0016808887890407017} step=700\n",
      "2023-01-25 23:20.06 [info     ] Model parameters are saved to d3rlpy_logs/DiscreteFQE_20230125232005/model_700.pt\n"
     ]
    },
    {
     "data": {
      "application/vnd.jupyter.widget-view+json": {
       "model_id": "9dd6786e28d74f9abe34fbff7aa3894b",
       "version_major": 2,
       "version_minor": 0
      },
      "text/plain": [
       "[collect input data: eval_policy]:   0%|          | 0/3 [00:00<?, ?it/s]"
      ]
     },
     "metadata": {},
     "output_type": "display_data"
    },
    {
     "data": {
      "application/vnd.jupyter.widget-view+json": {
       "model_id": "fdd661fc78c84eb192074c527b46fa43",
       "version_major": 2,
       "version_minor": 0
      },
      "text/plain": [
       "[calculate on-policy policy value]:   0%|          | 0/100 [00:00<?, ?it/s]"
      ]
     },
     "metadata": {},
     "output_type": "display_data"
    },
    {
     "data": {
      "application/vnd.jupyter.widget-view+json": {
       "model_id": "1d9faaf8c5074df4868422c8bfe08e01",
       "version_major": 2,
       "version_minor": 0
      },
      "text/plain": [
       "[calculate on-policy policy value]:   0%|          | 0/100 [00:00<?, ?it/s]"
      ]
     },
     "metadata": {},
     "output_type": "display_data"
    },
    {
     "data": {
      "application/vnd.jupyter.widget-view+json": {
       "model_id": "27bd2d49e5c1448f87488bd63b5282a9",
       "version_major": 2,
       "version_minor": 0
      },
      "text/plain": [
       "[calculate on-policy policy value]:   0%|          | 0/100 [00:00<?, ?it/s]"
      ]
     },
     "metadata": {},
     "output_type": "display_data"
    }
   ],
   "source": [
    "# takes time\n",
    "input_dict = prep.obtain_whole_inputs(\n",
    "    logged_dataset=test_logged_dataset,\n",
    "    evaluation_policies=evaluation_policies,\n",
    "    require_value_prediction=True,\n",
    "    n_trajectories_on_policy_evaluation=100,\n",
    "    random_state=random_state,\n",
    ")"
   ]
  },
  {
   "cell_type": "code",
   "execution_count": 42,
   "metadata": {},
   "outputs": [],
   "source": [
    "with open(\"logs/ope_input_dict_discrete.pkl\", \"wb\") as f:\n",
    "    pickle.dump(input_dict, f)"
   ]
  },
  {
   "cell_type": "code",
   "execution_count": 36,
   "metadata": {},
   "outputs": [],
   "source": [
    "with open(\"logs/ope_input_dict_discrete.pkl\", \"rb\") as f:\n",
    "    input_dict = pickle.load(f)"
   ]
  },
  {
   "cell_type": "code",
   "execution_count": 37,
   "metadata": {},
   "outputs": [],
   "source": [
    "ope = OPE(\n",
    "    logged_dataset=test_logged_dataset,\n",
    "    ope_estimators=[DM(), TIS(), PDIS(), DR(), SNTIS(), SNPDIS(), SNDR()],\n",
    ")"
   ]
  },
  {
   "cell_type": "code",
   "execution_count": 38,
   "metadata": {},
   "outputs": [],
   "source": [
    "# performance estimation by ope\n",
    "policy_value_df_dict, policy_value_interval_df_dict = ope.summarize_off_policy_estimates(input_dict, random_state=random_state)"
   ]
  },
  {
   "cell_type": "code",
   "execution_count": 39,
   "metadata": {},
   "outputs": [
    {
     "data": {
      "text/plain": [
       "{'cql':            policy_value  relative_policy_value\n",
       " on_policy     16.530000               1.000000\n",
       " dm             0.547407               0.033116\n",
       " tis            0.000000               0.000000\n",
       " pdis          18.258130               1.104545\n",
       " dr            19.221293               1.162813\n",
       " sntis          0.000000               0.000000\n",
       " snpdis        17.368780               1.050743\n",
       " sndr          18.415895               1.114089,\n",
       " 'ddqn':            policy_value  relative_policy_value\n",
       " on_policy     16.430000               1.000000\n",
       " dm             1.517866               0.092384\n",
       " tis           17.040211               1.037140\n",
       " pdis          16.515243               1.005188\n",
       " dr            16.466461               1.002219\n",
       " sntis         16.426702               0.999799\n",
       " snpdis        16.432162               1.000132\n",
       " sndr          16.434922               1.000300,\n",
       " 'random':            policy_value  relative_policy_value\n",
       " on_policy     12.570000               1.000000\n",
       " dm             1.514960               0.120522\n",
       " tis            6.473450               0.514992\n",
       " pdis          12.550750               0.998469\n",
       " dr            13.292927               1.057512\n",
       " sntis         13.088928               1.041283\n",
       " snpdis        13.096603               1.041894\n",
       " sndr          13.069444               1.039733}"
      ]
     },
     "execution_count": 39,
     "metadata": {},
     "output_type": "execute_result"
    }
   ],
   "source": [
    "# estimated policy performance\n",
    "policy_value_df_dict"
   ]
  },
  {
   "cell_type": "code",
   "execution_count": 40,
   "metadata": {},
   "outputs": [
    {
     "data": {
      "text/plain": [
       "{'cql':                 mean  95.0% CI (lower)  95.0% CI (upper)\n",
       " on_policy  16.462600         15.619000         17.222500\n",
       " dm          0.547392          0.546365          0.548337\n",
       " tis         0.000000          0.000000          0.000000\n",
       " pdis       18.738263         12.366565         26.338619\n",
       " dr         19.704702         13.380320         27.250833\n",
       " sntis       0.000000          0.000000          0.000000\n",
       " snpdis     17.787180         12.152997         24.473952\n",
       " sndr       18.839936         13.231864         25.520917,\n",
       " 'ddqn':                 mean  95.0% CI (lower)  95.0% CI (upper)\n",
       " on_policy  16.408900         15.663750         17.078750\n",
       " dm          1.518034          1.512805          1.522910\n",
       " tis        17.069177         16.130291         17.945152\n",
       " pdis       16.512752         16.147568         16.845687\n",
       " dr         16.459382         16.087436         16.747884\n",
       " sntis      16.454625         15.549542         17.299062\n",
       " snpdis     16.429693         16.066629         16.759346\n",
       " sndr       16.427998         16.056824         16.714118,\n",
       " 'random':                 mean  95.0% CI (lower)  95.0% CI (upper)\n",
       " on_policy  12.497200         11.637000         13.475750\n",
       " dm          1.514893          1.511184          1.518149\n",
       " tis         6.519381          4.127446          9.023271\n",
       " pdis       12.671595         10.522912         14.949243\n",
       " dr         13.368912         11.347108         15.631514\n",
       " sntis      13.181798          8.345448         18.244514\n",
       " snpdis     13.215519         10.939060         15.687509\n",
       " sndr       13.133787         11.233916         15.304241}"
      ]
     },
     "execution_count": 40,
     "metadata": {},
     "output_type": "execute_result"
    }
   ],
   "source": [
    "# estimated confidence intervals of the policy performance\n",
    "policy_value_interval_df_dict"
   ]
  },
  {
   "cell_type": "markdown",
   "metadata": {},
   "source": [
    "## 4. Evaluation of OPE methods\n",
    "Now, we evaluate how well the ope estimators estimated the policy value."
   ]
  },
  {
   "cell_type": "code",
   "execution_count": 41,
   "metadata": {},
   "outputs": [
    {
     "data": {
      "image/png": "[encoded data removed]",
      "text/plain": [
       "<Figure size 1008x864 with 3 Axes>"
      ]
     },
     "metadata": {},
     "output_type": "display_data"
    }
   ],
   "source": [
    "# we can visualize and compare the result\n",
    "# it seems that DM tends to have a bias though the variance is quite small, \n",
    "# while (trajectory-wise) importance sampling estimators have a smaller bias with a larger variance.\n",
    "# self-normalized estimators also works well\n",
    "ope.visualize_off_policy_estimates(input_dict, random_state=random_state, sharey=False)"
   ]
  },
  {
   "cell_type": "code",
   "execution_count": 42,
   "metadata": {},
   "outputs": [
    {
     "data": {
      "text/html": [
       "<div>\n",
       "<style scoped>\n",
       "    .dataframe tbody tr th:only-of-type {\n",
       "        vertical-align: middle;\n",
       "    }\n",
       "\n",
       "    .dataframe tbody tr th {\n",
       "        vertical-align: top;\n",
       "    }\n",
       "\n",
       "    .dataframe thead th {\n",
       "        text-align: right;\n",
       "    }\n",
       "</style>\n",
       "<table border=\"1\" class=\"dataframe\">\n",
       "  <thead>\n",
       "    <tr style=\"text-align: right;\">\n",
       "      <th></th>\n",
       "      <th>cql</th>\n",
       "      <th>ddqn</th>\n",
       "      <th>random</th>\n",
       "    </tr>\n",
       "  </thead>\n",
       "  <tbody>\n",
       "    <tr>\n",
       "      <th>dm</th>\n",
       "      <td>255.443291</td>\n",
       "      <td>222.371733</td>\n",
       "      <td>122.213899</td>\n",
       "    </tr>\n",
       "    <tr>\n",
       "      <th>tis</th>\n",
       "      <td>273.240900</td>\n",
       "      <td>0.372357</td>\n",
       "      <td>37.167919</td>\n",
       "    </tr>\n",
       "    <tr>\n",
       "      <th>pdis</th>\n",
       "      <td>2.986434</td>\n",
       "      <td>0.007266</td>\n",
       "      <td>0.000371</td>\n",
       "    </tr>\n",
       "    <tr>\n",
       "      <th>dr</th>\n",
       "      <td>7.243058</td>\n",
       "      <td>0.001329</td>\n",
       "      <td>0.522624</td>\n",
       "    </tr>\n",
       "    <tr>\n",
       "      <th>sntis</th>\n",
       "      <td>273.240900</td>\n",
       "      <td>0.000011</td>\n",
       "      <td>0.269286</td>\n",
       "    </tr>\n",
       "    <tr>\n",
       "      <th>snpdis</th>\n",
       "      <td>0.703551</td>\n",
       "      <td>0.000005</td>\n",
       "      <td>0.277311</td>\n",
       "    </tr>\n",
       "    <tr>\n",
       "      <th>sndr</th>\n",
       "      <td>3.556601</td>\n",
       "      <td>0.000024</td>\n",
       "      <td>0.249445</td>\n",
       "    </tr>\n",
       "  </tbody>\n",
       "</table>\n",
       "</div>"
      ],
      "text/plain": [
       "               cql        ddqn      random\n",
       "dm      255.443291  222.371733  122.213899\n",
       "tis     273.240900    0.372357   37.167919\n",
       "pdis      2.986434    0.007266    0.000371\n",
       "dr        7.243058    0.001329    0.522624\n",
       "sntis   273.240900    0.000011    0.269286\n",
       "snpdis    0.703551    0.000005    0.277311\n",
       "sndr      3.556601    0.000024    0.249445"
      ]
     },
     "execution_count": 42,
     "metadata": {},
     "output_type": "execute_result"
    }
   ],
   "source": [
    "# squared-error (se) measures the estimation accuracy of OPE\n",
    "eval_metric_ope_df = ope.evaluate_performance_of_ope_estimators(\n",
    "    input_dict, \n",
    "    metric=\"se\",\n",
    "    return_by_dataframe=True,\n",
    ")\n",
    "eval_metric_ope_df"
   ]
  },
  {
   "cell_type": "markdown",
   "metadata": {},
   "source": [
    "For more advanced topics in OPE (e.g., cumulative distribution function estimation) and OPS, please refer to [examples/quickstart/rtb_synthetic_discrete_advanced.ipynb](https://github.com/negocia-inc/rtb_reinforcement_learing/blob/ope/examples/quickstart/rtb_synthetic_discrete_advanced.ipynb). \n",
    "\n",
    "For more advanced OPE estimators (e.g., state(-action) marginal estimators and double reinforcement learning), please refer to [examples/quickstart/rtb_synthetic_discrete_zoo.ipynb](https://github.com/negocia-inc/rtb_reinforcement_learing/blob/ope/examples/quickstart/rtb_synthetic_discrete_zoo.ipynb). \n",
    "\n",
    "For the examples in the continuous action space, please refer to [examples/quickstart/rtb_synthetic_continuous_basic.ipynb](https://github.com/negocia-inc/rtb_reinforcement_learing/blob/ope/examples/quickstart/rtb_synthetic_continuous_basic.ipynb)."
   ]
  },
  {
   "cell_type": "markdown",
   "metadata": {},
   "source": [
    "## Reference\n",
    "\n",
    "- Yuta Saito, Shunsuke Aihara, Megumi Matsutani, and Yusuke Narita. \\\n",
    "\"Open Bandit Dataset and Pipeline: Towards Realistic and Reproducible Off-Policy Evaluation.\", 2021.\n",
    "\n",
    "- Takuma Seno and Michita Imai. \\\n",
    "\"d3rlpy: An Offline Deep Reinforcement Library.\", 2021.\n",
    "\n",
    "- Sergey Levine, Aviral Kumar, George Tucker, and Justin Fu. \\\n",
    "\"Offline Reinforcement Learning: Tutorial, Review, and Perspectives on Open Problems.\" 2020.\n",
    "\n",
    "- Aviral Kumar, Aurick Zhou, George Tucker, and Sergey Levine. \\\n",
    "\"Conservative Q-Learning for Offline Reinforcement Learning.\", 2020.\n",
    "\n",
    "- Nathan Kallus and Masatoshi Uehara. \\\n",
    "\"Intrinsically Efficient, Stable, and Bounded Off-Policy Evaluation for Reinforcement Learning.\", 2019.\n",
    "\n",
    "- Hoang Le, Cameron Voloshin, and Yisong Yue. \\\n",
    "\"Batch Policy Learning under Constraints.\", 2019.\n",
    "\n",
    "- Di Wu, Xiujun Chen, Xun Yang, Hao Wang, Qing Tan, Xiaoxun Zhang, Jian Xu, and Kun Gai. \\\n",
    "\"Budget Constrained Bidding by Model-free Reinforcement Learning in Display Advertising.\", 2018.\n",
    "\n",
    "- Jun Zhao, Guang Qiu, Ziyu Guan, Wei Zhao, and Xiaofei He. \\\n",
    "\"Deep Reinforcement Learning for Sponsored Search Real-time Bidding.\", 2018.\n",
    "\n",
    "- Nan Jiang and Lihong Li. \\\n",
    "\"Doubly Robust Off-policy Value Evaluation for Reinforcement Learning.\", 2016.\n",
    "\n",
    "- Philip S. Thomas and Emma Brunskill. \\\n",
    "\"Data-Efficient Off-Policy Policy Evaluation for Reinforcement Learning.\", 2016.\n",
    "\n",
    "- Greg Brockman, Vicki Cheung, Ludwig Pettersson, Jonas Schneider, John Schulman, Jie Tang, and Wojciech Zaremba. \\\n",
    "\"OpenAI Gym.\", 2016.\n",
    "\n",
    "- Adith Swaminathan and Thorsten Joachims. \\\n",
    "\"The Self-Normalized Estimator for Counterfactual Learning.\", 2015.\n",
    "\n",
    "- Hado van Hasselt, Arthur Guez, and David Silver. \\\n",
    "\"Deep Reinforcement Learning with Double Q-learning.\", 2015.\n",
    "\n",
    "- Miroslav Dudík, Dumitru Erhan, John Langford, and Lihong Li. \\\n",
    "\"Doubly Robust Policy Evaluation and Optimization.\", 2014.\n",
    "\n",
    "- Alex Strehl, John Langford, Sham Kakade, and Lihong Li. \\\n",
    "\"Learning from Logged Implicit Exploration Data.\", 2010.\n",
    "\n",
    "- Alina Beygelzimer and John Langford. \\\n",
    "\"The Offset Tree for Learning with Partial Labels.\", 2009.\n",
    "\n",
    "- Doina Precup, Richard S. Sutton, and Satinder P. Singh. \\\n",
    "\"Eligibility Traces for Off-Policy Policy Evaluation.\", 2000."
   ]
  },
  {
   "cell_type": "code",
   "execution_count": null,
   "metadata": {},
   "outputs": [],
   "source": []
  }
 ],
 "metadata": {
  "kernelspec": {
   "display_name": "Python 3",
   "language": "python",
   "name": "python3"
  },
  "language_info": {
   "codemirror_mode": {
    "name": "ipython",
    "version": 3
   },
   "file_extension": ".py",
   "mimetype": "text/x-python",
   "name": "python",
   "nbconvert_exporter": "python",
   "pygments_lexer": "ipython3",
   "version": "3.8.5"
  },
  "vscode": {
   "interpreter": {
    "hash": "eeb0e296031d5f4c93e05211083c58e9e78a3e8af86402f626ea4098c0a5e991"
   }
  }
 },
 "nbformat": 4,
 "nbformat_minor": 4
}
