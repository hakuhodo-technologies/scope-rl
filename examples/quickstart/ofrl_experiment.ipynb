{
 "cells": [
  {
   "attachments": {},
   "cell_type": "markdown",
   "metadata": {},
   "source": [
    "## Evaluatin of OPE estimators"
   ]
  },
  {
   "cell_type": "code",
   "execution_count": 14,
   "metadata": {},
   "outputs": [],
   "source": [
    "# delete later\n",
    "import sys\n",
    "sys.path.append('../')\n",
    "sys.path.append('../../')"
   ]
  },
  {
   "cell_type": "code",
   "execution_count": 15,
   "metadata": {},
   "outputs": [],
   "source": [
    "# implement data collection procedure on the RTBGym environment\n",
    "\n",
    "# import OFRL modules\n",
    "import ofrl\n",
    "from rtbgym import RTBEnv, CustomizedRTBEnv\n",
    "from ofrl.dataset import SyntheticDataset\n",
    "from ofrl.policy import OnlineHead, ContinuousEvalHead\n",
    "from ofrl.policy import ContinuousTruncatedGaussianHead as TruncatedGaussianHead\n",
    "from ofrl.ope.online import (\n",
    "    calc_on_policy_policy_value,\n",
    "    visualize_on_policy_policy_value,\n",
    ")\n",
    "from ofrl.utils import MinMaxScaler, MinMaxActionScaler\n",
    "\n",
    "# import d3rlpy algorithms\n",
    "from d3rlpy.algos import RandomPolicy\n",
    "# from d3rlpy.preprocessing import MinMaxScaler, MinMaxActionScaler\n",
    "from ofrl.utils import MinMaxScaler, MinMaxActionScaler\n",
    "\n",
    "# import from other libraries\n",
    "import gym\n",
    "import torch\n",
    "from sklearn.model_selection import train_test_split"
   ]
  },
  {
   "cell_type": "code",
   "execution_count": 16,
   "metadata": {},
   "outputs": [],
   "source": [
    "import pickle\n",
    "from glob import glob\n",
    "from tqdm import tqdm\n",
    "\n",
    "import numpy as np\n",
    "import pandas as pd\n",
    "\n",
    "import matplotlib.pyplot as plt\n",
    "import seaborn as sns\n",
    "\n",
    "%matplotlib inline"
   ]
  },
  {
   "cell_type": "code",
   "execution_count": 17,
   "metadata": {},
   "outputs": [],
   "source": [
    "# log directory\n",
    "from pathlib import Path\n",
    "Path(\"logs/\").mkdir(exist_ok=True)"
   ]
  },
  {
   "cell_type": "code",
   "execution_count": 18,
   "metadata": {},
   "outputs": [],
   "source": [
    "# set random state\n",
    "random_state = 12345"
   ]
  },
  {
   "cell_type": "code",
   "execution_count": 19,
   "metadata": {},
   "outputs": [],
   "source": [
    "# (0) Setup environment\n",
    "env = gym.make(\"RTBEnv-continuous-v0\")\n"
   ]
  },
  {
   "cell_type": "code",
   "execution_count": 20,
   "metadata": {},
   "outputs": [],
   "source": [
    "# for api compatibility to d3rlpy\n",
    "from ofrl.utils import OldGymAPIWrapper\n",
    "env_ = OldGymAPIWrapper(env)"
   ]
  },
  {
   "cell_type": "code",
   "execution_count": 21,
   "metadata": {},
   "outputs": [],
   "source": [
    "# behavior policy\n",
    "from d3rlpy.algos import SAC\n",
    "from d3rlpy.models.encoders import VectorEncoderFactory\n",
    "from d3rlpy.models.q_functions import MeanQFunctionFactory\n",
    "from d3rlpy.online.buffers import ReplayBuffer\n",
    "\n",
    "# model\n",
    "sac = SAC(\n",
    "    actor_encoder_factory=VectorEncoderFactory(hidden_units=[30, 30]),\n",
    "    critic_encoder_factory=VectorEncoderFactory(hidden_units=[30, 30]),\n",
    "    q_func_factory=MeanQFunctionFactory(),\n",
    "    use_gpu=torch.cuda.is_available(),\n",
    "    action_scaler=MinMaxActionScaler(\n",
    "        minimum=env_.action_space.low,   # 0.1\n",
    "        maximum=env_.action_space.high,  # 10\n",
    "    ),\n",
    ")\n",
    "# setup replay buffer\n",
    "buffer = ReplayBuffer(\n",
    "    maxlen=10000,\n",
    "    env=env_,\n",
    ")"
   ]
  },
  {
   "cell_type": "code",
   "execution_count": 22,
   "metadata": {},
   "outputs": [
    {
     "name": "stdout",
     "output_type": "stream",
     "text": [
      "2023-03-08 23:26.10 [info     ] Directory is created at d3rlpy_logs/SAC_online_20230308232610\n",
      "2023-03-08 23:26.10 [debug    ] Fitting action scaler...       action_scler=min_max\n",
      "2023-03-08 23:26.10 [debug    ] Building model...\n",
      "2023-03-08 23:26.10 [debug    ] Model has been built.\n",
      "2023-03-08 23:26.10 [info     ] Parameters are saved to d3rlpy_logs/SAC_online_20230308232610/params.json params={'action_scaler': {'type': 'min_max', 'params': {'minimum': array([0.1]), 'maximum': array([10.])}}, 'actor_encoder_factory': {'type': 'vector', 'params': {'hidden_units': [30, 30], 'activation': 'relu', 'use_batch_norm': False, 'dropout_rate': None, 'use_dense': False}}, 'actor_learning_rate': 0.0003, 'actor_optim_factory': {'optim_cls': 'Adam', 'betas': (0.9, 0.999), 'eps': 1e-08, 'weight_decay': 0, 'amsgrad': False}, 'batch_size': 256, 'critic_encoder_factory': {'type': 'vector', 'params': {'hidden_units': [30, 30], 'activation': 'relu', 'use_batch_norm': False, 'dropout_rate': None, 'use_dense': False}}, 'critic_learning_rate': 0.0003, 'critic_optim_factory': {'optim_cls': 'Adam', 'betas': (0.9, 0.999), 'eps': 1e-08, 'weight_decay': 0, 'amsgrad': False}, 'gamma': 0.99, 'generated_maxlen': 100000, 'initial_temperature': 1.0, 'n_critics': 2, 'n_frames': 1, 'n_steps': 1, 'q_func_factory': {'type': 'mean', 'params': {'share_encoder': False}}, 'real_ratio': 1.0, 'reward_scaler': None, 'scaler': None, 'tau': 0.005, 'temp_learning_rate': 0.0003, 'temp_optim_factory': {'optim_cls': 'Adam', 'betas': (0.9, 0.999), 'eps': 1e-08, 'weight_decay': 0, 'amsgrad': False}, 'use_gpu': None, 'algorithm': 'SAC', 'observation_shape': (7,), 'action_size': 1}\n"
     ]
    },
    {
     "name": "stderr",
     "output_type": "stream",
     "text": [
      "/Users/ren/.pyenv/versions/3.10.6/lib/python3.10/site-packages/gym/utils/passive_env_checker.py:187: UserWarning: \u001b[33mWARN: Future gym versions will require that `Env.reset` can be passed `options` to allow the environment initialisation to be passed additional information.\u001b[0m\n",
      "  logger.warn(\n"
     ]
    },
    {
     "data": {
      "application/vnd.jupyter.widget-view+json": {
       "model_id": "4b155a8fb18341a5b0b0111d0eaf3c9a",
       "version_major": 2,
       "version_minor": 0
      },
      "text/plain": [
       "  0%|          | 0/100000 [00:00<?, ?it/s]"
      ]
     },
     "metadata": {},
     "output_type": "display_data"
    },
    {
     "name": "stdout",
     "output_type": "stream",
     "text": [
      "2023-03-08 23:26.11 [info     ] Model parameters are saved to d3rlpy_logs/SAC_online_20230308232610/model_1000.pt\n",
      "2023-03-08 23:26.11 [info     ] SAC_online_20230308232610: epoch=1 step=1000 epoch=1 metrics={'time_inference': 0.0003608999252319336, 'time_environment_step': 0.0003470699787139893, 'time_step': 0.000727118730545044, 'rollout_return': 15.0, 'evaluation': 13.4} step=1000\n",
      "2023-03-08 23:26.15 [info     ] Model parameters are saved to d3rlpy_logs/SAC_online_20230308232610/model_2000.pt\n",
      "2023-03-08 23:26.15 [info     ] SAC_online_20230308232610: epoch=2 step=2000 epoch=2 metrics={'time_inference': 0.0003324234485626221, 'time_environment_step': 0.00040094947814941405, 'time_sample_batch': 0.0001310737133026123, 'time_algorithm_update': 0.003312058210372925, 'temp_loss': -3.052790553689003, 'temp': 1.1015283426046372, 'critic_loss': 1235.9840797805787, 'actor_loss': 33.937467542648314, 'time_step': 0.004208668470382691, 'rollout_return': 14.774647887323944, 'evaluation': 16.1} step=2000\n",
      "2023-03-08 23:26.20 [info     ] Model parameters are saved to d3rlpy_logs/SAC_online_20230308232610/model_3000.pt\n",
      "2023-03-08 23:26.20 [info     ] SAC_online_20230308232610: epoch=3 step=3000 epoch=3 metrics={'time_inference': 0.00034287595748901367, 'time_environment_step': 0.0004087364673614502, 'time_sample_batch': 0.00016489744186401367, 'time_algorithm_update': 0.003595747709274292, 'temp_loss': -3.750489462852478, 'temp': 1.4600531800985337, 'critic_loss': 183.48006353759766, 'actor_loss': 16.315805207252502, 'time_step': 0.004545986652374268, 'rollout_return': 14.190140845070422, 'evaluation': 14.0} step=3000\n",
      "2023-03-08 23:26.24 [info     ] Model parameters are saved to d3rlpy_logs/SAC_online_20230308232610/model_4000.pt\n",
      "2023-03-08 23:26.24 [info     ] SAC_online_20230308232610: epoch=4 step=4000 epoch=4 metrics={'time_inference': 0.00033420538902282715, 'time_environment_step': 0.0003928108215332031, 'time_sample_batch': 0.00014096617698669433, 'time_algorithm_update': 0.0031327488422393797, 'temp_loss': -5.279888803720474, 'temp': 2.0655025514364245, 'critic_loss': 340.3888049621582, 'actor_loss': 19.69824035835266, 'time_step': 0.004032088041305542, 'rollout_return': 14.514084507042254, 'evaluation': 15.9} step=4000\n",
      "2023-03-08 23:26.28 [info     ] Model parameters are saved to d3rlpy_logs/SAC_online_20230308232610/model_5000.pt\n",
      "2023-03-08 23:26.28 [info     ] SAC_online_20230308232610: epoch=5 step=5000 epoch=5 metrics={'time_inference': 0.0003257753849029541, 'time_environment_step': 0.00039478302001953123, 'time_sample_batch': 0.00014746689796447753, 'time_algorithm_update': 0.0034124610424041747, 'temp_loss': -7.72710228562355, 'temp': 3.005052186012268, 'critic_loss': 713.5457133789063, 'actor_loss': 30.173559410095216, 'time_step': 0.004312245368957519, 'rollout_return': 14.556338028169014, 'evaluation': 12.9} step=5000\n",
      "2023-03-08 23:26.32 [info     ] Model parameters are saved to d3rlpy_logs/SAC_online_20230308232610/model_6000.pt\n",
      "2023-03-08 23:26.32 [info     ] SAC_online_20230308232610: epoch=6 step=6000 epoch=6 metrics={'time_inference': 0.0003052241802215576, 'time_environment_step': 0.00035068964958190915, 'time_sample_batch': 0.00013636136054992677, 'time_algorithm_update': 0.0029465610980987547, 'temp_loss': -11.457431519508361, 'temp': 4.423635714769364, 'critic_loss': 1522.9231205444337, 'actor_loss': 46.23096578407288, 'time_step': 0.003768063545227051, 'rollout_return': 14.535211267605634, 'evaluation': 15.9} step=6000\n",
      "2023-03-08 23:26.36 [info     ] Model parameters are saved to d3rlpy_logs/SAC_online_20230308232610/model_7000.pt\n",
      "2023-03-08 23:26.36 [info     ] SAC_online_20230308232610: epoch=7 step=7000 epoch=7 metrics={'time_inference': 0.0003223588466644287, 'time_environment_step': 0.00037088441848754885, 'time_sample_batch': 0.00014640283584594726, 'time_algorithm_update': 0.003133171796798706, 'temp_loss': -16.67987031841278, 'temp': 6.520219321727753, 'critic_loss': 3330.6904733886718, 'actor_loss': 70.4243466949463, 'time_step': 0.004002593994140625, 'rollout_return': 14.654929577464788, 'evaluation': 14.7} step=7000\n",
      "2023-03-08 23:26.40 [info     ] Model parameters are saved to d3rlpy_logs/SAC_online_20230308232610/model_8000.pt\n",
      "2023-03-08 23:26.40 [info     ] SAC_online_20230308232610: epoch=8 step=8000 epoch=8 metrics={'time_inference': 0.00034124374389648437, 'time_environment_step': 0.0003923614025115967, 'time_sample_batch': 0.00015287065505981446, 'time_algorithm_update': 0.0032816250324249267, 'temp_loss': -30.98080422782898, 'temp': 9.952959993362427, 'critic_loss': 8207.978197753906, 'actor_loss': 122.37750334167481, 'time_step': 0.004199518918991089, 'rollout_return': 13.732394366197184, 'evaluation': 1.8} step=8000\n",
      "2023-03-08 23:26.44 [info     ] Model parameters are saved to d3rlpy_logs/SAC_online_20230308232610/model_9000.pt\n",
      "2023-03-08 23:26.44 [info     ] SAC_online_20230308232610: epoch=9 step=9000 epoch=9 metrics={'time_inference': 0.0003164358139038086, 'time_environment_step': 0.0003687412738800049, 'time_sample_batch': 0.00015228915214538573, 'time_algorithm_update': 0.003113286018371582, 'temp_loss': -37.80596697807312, 'temp': 14.199643915176392, 'critic_loss': 15712.270102539063, 'actor_loss': 163.31499703216554, 'time_step': 0.003980586051940918, 'rollout_return': 14.852112676056338, 'evaluation': 15.0} step=9000\n",
      "2023-03-08 23:26.48 [info     ] Model parameters are saved to d3rlpy_logs/SAC_online_20230308232610/model_10000.pt\n",
      "2023-03-08 23:26.48 [info     ] SAC_online_20230308232610: epoch=10 step=10000 epoch=10 metrics={'time_inference': 0.0003032658100128174, 'time_environment_step': 0.0003454699516296387, 'time_sample_batch': 0.0001448495388031006, 'time_algorithm_update': 0.00295764422416687, 'temp_loss': -52.03201358795166, 'temp': 20.603902759552003, 'critic_loss': 32611.82058984375, 'actor_loss': 231.78543157958984, 'time_step': 0.0037783751487731935, 'rollout_return': 14.80281690140845, 'evaluation': 13.8} step=10000\n",
      "2023-03-08 23:26.52 [info     ] Model parameters are saved to d3rlpy_logs/SAC_online_20230308232610/model_11000.pt\n",
      "2023-03-08 23:26.52 [info     ] SAC_online_20230308232610: epoch=11 step=11000 epoch=11 metrics={'time_inference': 0.0003177914619445801, 'time_environment_step': 0.00035965633392333985, 'time_sample_batch': 0.00014782547950744628, 'time_algorithm_update': 0.0030308945178985597, 'temp_loss': -78.04057722091675, 'temp': 30.319679079055785, 'critic_loss': 71098.78792578125, 'actor_loss': 345.019361541748, 'time_step': 0.003888340950012207, 'rollout_return': 14.471830985915492, 'evaluation': 13.3} step=11000\n",
      "2023-03-08 23:26.57 [info     ] Model parameters are saved to d3rlpy_logs/SAC_online_20230308232610/model_12000.pt\n",
      "2023-03-08 23:26.57 [info     ] SAC_online_20230308232610: epoch=12 step=12000 epoch=12 metrics={'time_inference': 0.00034946393966674806, 'time_environment_step': 0.00041249656677246093, 'time_sample_batch': 0.0001601848602294922, 'time_algorithm_update': 0.003396495819091797, 'temp_loss': -115.2231943397522, 'temp': 44.80284056854248, 'critic_loss': 154238.6697734375, 'actor_loss': 514.0115278930664, 'time_step': 0.004353530406951904, 'rollout_return': 14.915492957746478, 'evaluation': 14.5} step=12000\n",
      "2023-03-08 23:27.01 [info     ] Model parameters are saved to d3rlpy_logs/SAC_online_20230308232610/model_13000.pt\n",
      "2023-03-08 23:27.01 [info     ] SAC_online_20230308232610: epoch=13 step=13000 epoch=13 metrics={'time_inference': 0.00032972478866577146, 'time_environment_step': 0.00038191986083984373, 'time_sample_batch': 0.000154315710067749, 'time_algorithm_update': 0.0031274991035461427, 'temp_loss': -167.67122787094115, 'temp': 66.29187866973876, 'critic_loss': 339337.710703125, 'actor_loss': 764.6615516357422, 'time_step': 0.004026646137237549, 'rollout_return': 14.295774647887324, 'evaluation': 14.9} step=13000\n",
      "2023-03-08 23:27.05 [info     ] Model parameters are saved to d3rlpy_logs/SAC_online_20230308232610/model_14000.pt\n",
      "2023-03-08 23:27.05 [info     ] SAC_online_20230308232610: epoch=14 step=14000 epoch=14 metrics={'time_inference': 0.00033094358444213867, 'time_environment_step': 0.00039989519119262694, 'time_sample_batch': 0.0001581289768218994, 'time_algorithm_update': 0.0033003466129302977, 'temp_loss': -254.67853371429445, 'temp': 98.24432096099854, 'critic_loss': 734217.10371875, 'actor_loss': 1137.8975750732423, 'time_step': 0.0042231111526489255, 'rollout_return': 14.78169014084507, 'evaluation': 13.2} step=14000\n",
      "2023-03-08 23:27.09 [info     ] Model parameters are saved to d3rlpy_logs/SAC_online_20230308232610/model_15000.pt\n",
      "2023-03-08 23:27.09 [info     ] SAC_online_20230308232610: epoch=15 step=15000 epoch=15 metrics={'time_inference': 0.0003237419128417969, 'time_environment_step': 0.0003626880645751953, 'time_sample_batch': 0.00015229439735412598, 'time_algorithm_update': 0.003073183536529541, 'temp_loss': -373.32327293395997, 'temp': 145.74210066223145, 'critic_loss': 1628965.184875, 'actor_loss': 1684.368069213867, 'time_step': 0.00394312858581543, 'rollout_return': 14.816901408450704, 'evaluation': 14.2} step=15000\n",
      "2023-03-08 23:27.13 [info     ] Model parameters are saved to d3rlpy_logs/SAC_online_20230308232610/model_16000.pt\n",
      "2023-03-08 23:27.13 [info     ] SAC_online_20230308232610: epoch=16 step=16000 epoch=16 metrics={'time_inference': 0.0003212249279022217, 'time_environment_step': 0.0003679215908050537, 'time_sample_batch': 0.00015023303031921388, 'time_algorithm_update': 0.003098806858062744, 'temp_loss': -551.088484161377, 'temp': 215.29892120361328, 'critic_loss': 3519249.578625, 'actor_loss': 2481.5752994384766, 'time_step': 0.003969835042953491, 'rollout_return': 14.683098591549296, 'evaluation': 16.3} step=16000\n",
      "2023-03-08 23:27.17 [info     ] Model parameters are saved to d3rlpy_logs/SAC_online_20230308232610/model_17000.pt\n",
      "2023-03-08 23:27.17 [info     ] SAC_online_20230308232610: epoch=17 step=17000 epoch=17 metrics={'time_inference': 0.0003166344165802002, 'time_environment_step': 0.0003641366958618164, 'time_sample_batch': 0.00015108513832092285, 'time_algorithm_update': 0.0031513943672180178, 'temp_loss': -800.535867401123, 'temp': 318.71350622558595, 'critic_loss': 7679144.68525, 'actor_loss': 3643.085466064453, 'time_step': 0.004014748573303223, 'rollout_return': 14.45774647887324, 'evaluation': 14.1} step=17000\n",
      "2023-03-08 23:27.22 [info     ] Model parameters are saved to d3rlpy_logs/SAC_online_20230308232610/model_18000.pt\n",
      "2023-03-08 23:27.22 [info     ] SAC_online_20230308232610: epoch=18 step=18000 epoch=18 metrics={'time_inference': 0.0003337841033935547, 'time_environment_step': 0.0004045088291168213, 'time_sample_batch': 0.0001724259853363037, 'time_algorithm_update': 0.003256263256072998, 'temp_loss': -1192.956916015625, 'temp': 470.5599807434082, 'critic_loss': 17025581.4675, 'actor_loss': 5400.347593017578, 'time_step': 0.004203712224960327, 'rollout_return': 15.119718309859154, 'evaluation': 17.0} step=18000\n",
      "2023-03-08 23:27.25 [info     ] Model parameters are saved to d3rlpy_logs/SAC_online_20230308232610/model_19000.pt\n",
      "2023-03-08 23:27.25 [info     ] SAC_online_20230308232610: epoch=19 step=19000 epoch=19 metrics={'time_inference': 0.0003081841468811035, 'time_environment_step': 0.0003420240879058838, 'time_sample_batch': 0.0001450636386871338, 'time_algorithm_update': 0.0029927549362182616, 'temp_loss': -1795.9963735961915, 'temp': 698.5793735961914, 'critic_loss': 37226422.522, 'actor_loss': 7981.5158525390625, 'time_step': 0.0038175294399261477, 'rollout_return': 14.43661971830986, 'evaluation': 16.2} step=19000\n",
      "2023-03-08 23:27.29 [info     ] Model parameters are saved to d3rlpy_logs/SAC_online_20230308232610/model_20000.pt\n",
      "2023-03-08 23:27.29 [info     ] SAC_online_20230308232610: epoch=20 step=20000 epoch=20 metrics={'time_inference': 0.0002987868785858154, 'time_environment_step': 0.00032800078392028806, 'time_sample_batch': 0.00015016746520996093, 'time_algorithm_update': 0.003012589454650879, 'temp_loss': -2595.247091674805, 'temp': 1032.4562618408204, 'critic_loss': 80714048.284, 'actor_loss': 11677.60919921875, 'time_step': 0.0038174729347229003, 'rollout_return': 14.02112676056338, 'evaluation': 12.1} step=20000\n",
      "2023-03-08 23:27.33 [info     ] Model parameters are saved to d3rlpy_logs/SAC_online_20230308232610/model_21000.pt\n",
      "2023-03-08 23:27.33 [info     ] SAC_online_20230308232610: epoch=21 step=21000 epoch=21 metrics={'time_inference': 0.0003083915710449219, 'time_environment_step': 0.00033187007904052733, 'time_sample_batch': 0.00013927674293518066, 'time_algorithm_update': 0.0029269270896911622, 'temp_loss': -3857.71000012207, 'temp': 1529.5839278564454, 'critic_loss': 177719848.84, 'actor_loss': 17413.551209960937, 'time_step': 0.0037352046966552736, 'rollout_return': 14.654929577464788, 'evaluation': 15.6} step=21000\n",
      "2023-03-08 23:27.37 [info     ] Model parameters are saved to d3rlpy_logs/SAC_online_20230308232610/model_22000.pt\n",
      "2023-03-08 23:27.37 [info     ] SAC_online_20230308232610: epoch=22 step=22000 epoch=22 metrics={'time_inference': 0.0002955067157745361, 'time_environment_step': 0.0003213245868682861, 'time_sample_batch': 0.00013708281517028808, 'time_algorithm_update': 0.002832054615020752, 'temp_loss': -5679.411856933593, 'temp': 2259.258111694336, 'critic_loss': 388920749.44, 'actor_loss': 25604.886314453124, 'time_step': 0.003613774061203003, 'rollout_return': 15.21830985915493, 'evaluation': 14.7} step=22000\n",
      "2023-03-08 23:27.41 [info     ] Model parameters are saved to d3rlpy_logs/SAC_online_20230308232610/model_23000.pt\n",
      "2023-03-08 23:27.41 [info     ] SAC_online_20230308232610: epoch=23 step=23000 epoch=23 metrics={'time_inference': 0.0002979893684387207, 'time_environment_step': 0.00034634065628051755, 'time_sample_batch': 0.00014521312713623046, 'time_algorithm_update': 0.0029324789047241212, 'temp_loss': -8426.911025146484, 'temp': 3344.129641357422, 'critic_loss': 857416223.104, 'actor_loss': 37777.28667578125, 'time_step': 0.003751312255859375, 'rollout_return': 14.56338028169014, 'evaluation': 14.4} step=23000\n",
      "2023-03-08 23:27.44 [info     ] Model parameters are saved to d3rlpy_logs/SAC_online_20230308232610/model_24000.pt\n",
      "2023-03-08 23:27.44 [info     ] SAC_online_20230308232610: epoch=24 step=24000 epoch=24 metrics={'time_inference': 0.00030333495140075684, 'time_environment_step': 0.0003254084587097168, 'time_sample_batch': 0.0001452016830444336, 'time_algorithm_update': 0.002849497318267822, 'temp_loss': -12512.07109375, 'temp': 4960.275110839843, 'critic_loss': 1905517991.04, 'actor_loss': 56777.97434375, 'time_step': 0.0036514604091644285, 'rollout_return': 14.56338028169014, 'evaluation': 12.6} step=24000\n",
      "2023-03-08 23:27.48 [info     ] Model parameters are saved to d3rlpy_logs/SAC_online_20230308232610/model_25000.pt\n",
      "2023-03-08 23:27.48 [info     ] SAC_online_20230308232610: epoch=25 step=25000 epoch=25 metrics={'time_inference': 0.0002885112762451172, 'time_environment_step': 0.0003145179748535156, 'time_sample_batch': 0.00013305783271789552, 'time_algorithm_update': 0.0028082895278930663, 'temp_loss': -18514.94151953125, 'temp': 7347.806711425781, 'critic_loss': 4120779094.016, 'actor_loss': 83271.27484375, 'time_step': 0.0035713999271392823, 'rollout_return': 14.69718309859155, 'evaluation': 13.9} step=25000\n",
      "2023-03-08 23:27.52 [info     ] Model parameters are saved to d3rlpy_logs/SAC_online_20230308232610/model_26000.pt\n",
      "2023-03-08 23:27.52 [info     ] SAC_online_20230308232610: epoch=26 step=26000 epoch=26 metrics={'time_inference': 0.0003088080883026123, 'time_environment_step': 0.0003292977809906006, 'time_sample_batch': 0.00013862156867980958, 'time_algorithm_update': 0.0028906729221343996, 'temp_loss': -27502.015279785155, 'temp': 10875.907251953126, 'critic_loss': 9054826331.136, 'actor_loss': 122178.3239140625, 'time_step': 0.003695363998413086, 'rollout_return': 14.274647887323944, 'evaluation': 13.0} step=26000\n",
      "2023-03-08 23:27.56 [info     ] Model parameters are saved to d3rlpy_logs/SAC_online_20230308232610/model_27000.pt\n",
      "2023-03-08 23:27.56 [info     ] SAC_online_20230308232610: epoch=27 step=27000 epoch=27 metrics={'time_inference': 0.00032993268966674804, 'time_environment_step': 0.0003769230842590332, 'time_sample_batch': 0.0001542482376098633, 'time_algorithm_update': 0.003189113616943359, 'temp_loss': -40748.78435351563, 'temp': 16105.727499023438, 'critic_loss': 20019738247.168, 'actor_loss': 181348.108171875, 'time_step': 0.00408429217338562, 'rollout_return': 14.225352112676056, 'evaluation': 14.2} step=27000\n",
      "2023-03-08 23:28.00 [info     ] Model parameters are saved to d3rlpy_logs/SAC_online_20230308232610/model_28000.pt\n",
      "2023-03-08 23:28.00 [info     ] SAC_online_20230308232610: epoch=28 step=28000 epoch=28 metrics={'time_inference': 0.0003075437545776367, 'time_environment_step': 0.0003387739658355713, 'time_sample_batch': 0.00013956093788146972, 'time_algorithm_update': 0.0028955287933349607, 'temp_loss': -60251.88076171875, 'temp': 23877.625671875, 'critic_loss': 43297125378.048, 'actor_loss': 268767.8910625, 'time_step': 0.0037110245227813723, 'rollout_return': 14.02112676056338, 'evaluation': 13.2} step=28000\n",
      "2023-03-08 23:28.05 [info     ] Model parameters are saved to d3rlpy_logs/SAC_online_20230308232610/model_29000.pt\n",
      "2023-03-08 23:28.05 [info     ] SAC_online_20230308232610: epoch=29 step=29000 epoch=29 metrics={'time_inference': 0.00038361120223999023, 'time_environment_step': 0.0005216193199157715, 'time_sample_batch': 0.00017978096008300782, 'time_algorithm_update': 0.004269739627838135, 'temp_loss': -89434.136484375, 'temp': 35360.025185546874, 'critic_loss': 95834911326.208, 'actor_loss': 395979.4970625, 'time_step': 0.005393888473510742, 'rollout_return': 14.619718309859154, 'evaluation': 13.4} step=29000\n",
      "2023-03-08 23:28.09 [info     ] Model parameters are saved to d3rlpy_logs/SAC_online_20230308232610/model_30000.pt\n",
      "2023-03-08 23:28.09 [info     ] SAC_online_20230308232610: epoch=30 step=30000 epoch=30 metrics={'time_inference': 0.00029717516899108886, 'time_environment_step': 0.0003228785991668701, 'time_sample_batch': 0.0001366260051727295, 'time_algorithm_update': 0.00285876989364624, 'temp_loss': -132386.37645703126, 'temp': 52378.20591015625, 'critic_loss': 212197310341.12, 'actor_loss': 585729.04746875, 'time_step': 0.0036425583362579344, 'rollout_return': 15.295774647887324, 'evaluation': 16.0} step=30000\n",
      "2023-03-08 23:28.13 [info     ] Model parameters are saved to d3rlpy_logs/SAC_online_20230308232610/model_31000.pt\n",
      "2023-03-08 23:28.13 [info     ] SAC_online_20230308232610: epoch=31 step=31000 epoch=31 metrics={'time_inference': 0.0002977809906005859, 'time_environment_step': 0.0003240342140197754, 'time_sample_batch': 0.00013603734970092773, 'time_algorithm_update': 0.002898507595062256, 'temp_loss': -193450.0384765625, 'temp': 77493.71374609375, 'critic_loss': 461906830344.192, 'actor_loss': 861831.7069375, 'time_step': 0.0036841483116149903, 'rollout_return': 14.82394366197183, 'evaluation': 16.1} step=31000\n",
      "2023-03-08 23:28.18 [info     ] Model parameters are saved to d3rlpy_logs/SAC_online_20230308232610/model_32000.pt\n",
      "2023-03-08 23:28.18 [info     ] SAC_online_20230308232610: epoch=32 step=32000 epoch=32 metrics={'time_inference': 0.00036714315414428713, 'time_environment_step': 0.00042004704475402834, 'time_sample_batch': 0.00016747927665710448, 'time_algorithm_update': 0.0038562326431274413, 'temp_loss': -287069.5950859375, 'temp': 114634.5984296875, 'critic_loss': 1007398169608.192, 'actor_loss': 1265685.93175, 'time_step': 0.004854801654815674, 'rollout_return': 14.69718309859155, 'evaluation': 14.3} step=32000\n",
      "2023-03-08 23:28.22 [info     ] Model parameters are saved to d3rlpy_logs/SAC_online_20230308232610/model_33000.pt\n",
      "2023-03-08 23:28.22 [info     ] SAC_online_20230308232610: epoch=33 step=33000 epoch=33 metrics={'time_inference': 0.00031901407241821287, 'time_environment_step': 0.0003638629913330078, 'time_sample_batch': 0.00015015506744384767, 'time_algorithm_update': 0.003037220239639282, 'temp_loss': -421923.125453125, 'temp': 169646.685671875, 'critic_loss': 2195205890703.36, 'actor_loss': 1849333.630875, 'time_step': 0.0039018986225128173, 'rollout_return': 15.06338028169014, 'evaluation': 13.9} step=33000\n",
      "2023-03-08 23:28.26 [info     ] Model parameters are saved to d3rlpy_logs/SAC_online_20230308232610/model_34000.pt\n",
      "2023-03-08 23:28.26 [info     ] SAC_online_20230308232610: epoch=34 step=34000 epoch=34 metrics={'time_inference': 0.00032760190963745115, 'time_environment_step': 0.00036776304244995117, 'time_sample_batch': 0.00015364456176757813, 'time_algorithm_update': 0.0032329668998718262, 'temp_loss': -633612.55290625, 'temp': 251440.6351875, 'critic_loss': 4750241045151.744, 'actor_loss': 2718929.778125, 'time_step': 0.004114852666854858, 'rollout_return': 14.584507042253522, 'evaluation': 15.5} step=34000\n",
      "2023-03-08 23:28.30 [info     ] Model parameters are saved to d3rlpy_logs/SAC_online_20230308232610/model_35000.pt\n",
      "2023-03-08 23:28.30 [info     ] SAC_online_20230308232610: epoch=35 step=35000 epoch=35 metrics={'time_inference': 0.00032204675674438475, 'time_environment_step': 0.0003631083965301514, 'time_sample_batch': 0.00014908266067504883, 'time_algorithm_update': 0.0030590486526489258, 'temp_loss': -927742.863625, 'temp': 372559.5053125, 'critic_loss': 10576556231491.584, 'actor_loss': 4016978.43625, 'time_step': 0.0039261307716369626, 'rollout_return': 15.056338028169014, 'evaluation': 15.7} step=35000\n",
      "2023-03-08 23:28.34 [info     ] Model parameters are saved to d3rlpy_logs/SAC_online_20230308232610/model_36000.pt\n",
      "2023-03-08 23:28.34 [info     ] SAC_online_20230308232610: epoch=36 step=36000 epoch=36 metrics={'time_inference': 0.00031224918365478513, 'time_environment_step': 0.0003667619228363037, 'time_sample_batch': 0.0001518874168395996, 'time_algorithm_update': 0.003027542352676392, 'temp_loss': -1373761.869875, 'temp': 551940.50528125, 'critic_loss': 23155998938103.81, 'actor_loss': 5860771.267, 'time_step': 0.0038908376693725585, 'rollout_return': 14.647887323943662, 'evaluation': 14.0} step=36000\n",
      "2023-03-08 23:28.38 [info     ] Model parameters are saved to d3rlpy_logs/SAC_online_20230308232610/model_37000.pt\n",
      "2023-03-08 23:28.38 [info     ] SAC_online_20230308232610: epoch=37 step=37000 epoch=37 metrics={'time_inference': 0.00031598711013793945, 'time_environment_step': 0.00034630560874938964, 'time_sample_batch': 0.00014023995399475096, 'time_algorithm_update': 0.003002079725265503, 'temp_loss': -2016731.31325, 'temp': 816393.786, 'critic_loss': 50844690259378.18, 'actor_loss': 8504123.737, 'time_step': 0.0038345046043395995, 'rollout_return': 14.82394366197183, 'evaluation': 13.7} step=37000\n",
      "2023-03-08 23:28.41 [info     ] Model parameters are saved to d3rlpy_logs/SAC_online_20230308232610/model_38000.pt\n",
      "2023-03-08 23:28.41 [info     ] SAC_online_20230308232610: epoch=38 step=38000 epoch=38 metrics={'time_inference': 0.00030396294593811035, 'time_environment_step': 0.0003436465263366699, 'time_sample_batch': 0.00014072632789611817, 'time_algorithm_update': 0.002926811695098877, 'temp_loss': -3009682.105375, 'temp': 1208535.292375, 'critic_loss': 114914416494903.3, 'actor_loss': 12398330.212, 'time_step': 0.003745084524154663, 'rollout_return': 14.45774647887324, 'evaluation': 15.2} step=38000\n",
      "2023-03-08 23:28.45 [info     ] Model parameters are saved to d3rlpy_logs/SAC_online_20230308232610/model_39000.pt\n",
      "2023-03-08 23:28.45 [info     ] SAC_online_20230308232610: epoch=39 step=39000 epoch=39 metrics={'time_inference': 0.0003065781593322754, 'time_environment_step': 0.0003436892032623291, 'time_sample_batch': 0.0001452767848968506, 'time_algorithm_update': 0.0029525337219238282, 'temp_loss': -4390514.50975, 'temp': 1788728.1915, 'critic_loss': 252807351252287.5, 'actor_loss': 17835066.587, 'time_step': 0.0037784831523895264, 'rollout_return': 14.640845070422536, 'evaluation': 16.8} step=39000\n",
      "2023-03-08 23:28.49 [info     ] Model parameters are saved to d3rlpy_logs/SAC_online_20230308232610/model_40000.pt\n",
      "2023-03-08 23:28.49 [info     ] SAC_online_20230308232610: epoch=40 step=40000 epoch=40 metrics={'time_inference': 0.00031139540672302246, 'time_environment_step': 0.0003565506935119629, 'time_sample_batch': 0.00015013957023620605, 'time_algorithm_update': 0.0030837674140930175, 'temp_loss': -6495947.62, 'temp': 2647330.09025, 'critic_loss': 560921967893413.9, 'actor_loss': 25544130.172, 'time_step': 0.003933761835098267, 'rollout_return': 14.95774647887324, 'evaluation': 14.2} step=40000\n",
      "2023-03-08 23:28.53 [info     ] Model parameters are saved to d3rlpy_logs/SAC_online_20230308232610/model_41000.pt\n",
      "2023-03-08 23:28.53 [info     ] SAC_online_20230308232610: epoch=41 step=41000 epoch=41 metrics={'time_inference': 0.00031195902824401856, 'time_environment_step': 0.0003512520790100098, 'time_sample_batch': 0.00014640474319458009, 'time_algorithm_update': 0.0029659574031829835, 'temp_loss': -9698793.4465, 'temp': 3923221.1225, 'critic_loss': 1294629778111856.8, 'actor_loss': 36393212.254, 'time_step': 0.0038060572147369386, 'rollout_return': 14.82394366197183, 'evaluation': 12.3} step=41000\n",
      "2023-03-08 23:28.57 [info     ] Model parameters are saved to d3rlpy_logs/SAC_online_20230308232610/model_42000.pt\n",
      "2023-03-08 23:28.57 [info     ] SAC_online_20230308232610: epoch=42 step=42000 epoch=42 metrics={'time_inference': 0.0003286609649658203, 'time_environment_step': 0.00040367746353149413, 'time_sample_batch': 0.00016093683242797852, 'time_algorithm_update': 0.0032556378841400147, 'temp_loss': -14270787.5185, 'temp': 5805782.449, 'critic_loss': 2917296323856171.0, 'actor_loss': 51266106.652, 'time_step': 0.004184053897857666, 'rollout_return': 14.640845070422536, 'evaluation': 15.4} step=42000\n",
      "2023-03-08 23:29.01 [info     ] Model parameters are saved to d3rlpy_logs/SAC_online_20230308232610/model_43000.pt\n",
      "2023-03-08 23:29.01 [info     ] SAC_online_20230308232610: epoch=43 step=43000 epoch=43 metrics={'time_inference': 0.0003163120746612549, 'time_environment_step': 0.00036476802825927737, 'time_sample_batch': 0.00015167546272277832, 'time_algorithm_update': 0.003030233860015869, 'temp_loss': -21169282.583, 'temp': 8605153.7425, 'critic_loss': 6825779405567033.0, 'actor_loss': 71305128.548, 'time_step': 0.003895524263381958, 'rollout_return': 14.71830985915493, 'evaluation': 14.5} step=43000\n",
      "2023-03-08 23:29.06 [info     ] Model parameters are saved to d3rlpy_logs/SAC_online_20230308232610/model_44000.pt\n",
      "2023-03-08 23:29.06 [info     ] SAC_online_20230308232610: epoch=44 step=44000 epoch=44 metrics={'time_inference': 0.00032708358764648436, 'time_environment_step': 0.0003553283214569092, 'time_sample_batch': 0.0001487433910369873, 'time_algorithm_update': 0.003146476745605469, 'temp_loss': -31727671.459, 'temp': 12757459.396, 'critic_loss': 1.5946636853113782e+16, 'actor_loss': 98926719.8, 'time_step': 0.004008516788482666, 'rollout_return': 14.78169014084507, 'evaluation': 14.2} step=44000\n",
      "2023-03-08 23:29.10 [info     ] Model parameters are saved to d3rlpy_logs/SAC_online_20230308232610/model_45000.pt\n",
      "2023-03-08 23:29.10 [info     ] SAC_online_20230308232610: epoch=45 step=45000 epoch=45 metrics={'time_inference': 0.0003172376155853271, 'time_environment_step': 0.00036463642120361327, 'time_sample_batch': 0.00014993977546691895, 'time_algorithm_update': 0.0030847287178039553, 'temp_loss': -46863208.75, 'temp': 18930325.525, 'critic_loss': 3.654153724991688e+16, 'actor_loss': 137531981.552, 'time_step': 0.00394814395904541, 'rollout_return': 14.894366197183098, 'evaluation': 17.6} step=45000\n",
      "2023-03-08 23:29.14 [info     ] Model parameters are saved to d3rlpy_logs/SAC_online_20230308232610/model_46000.pt\n",
      "2023-03-08 23:29.14 [info     ] SAC_online_20230308232610: epoch=46 step=46000 epoch=46 metrics={'time_inference': 0.0003470025062561035, 'time_environment_step': 0.0003924105167388916, 'time_sample_batch': 0.00015686583518981933, 'time_algorithm_update': 0.003217582702636719, 'temp_loss': -69592849.102, 'temp': 28029298.494, 'critic_loss': 8.405885298369626e+16, 'actor_loss': 189667951.728, 'time_step': 0.004148804426193238, 'rollout_return': 14.366197183098592, 'evaluation': 14.2} step=46000\n",
      "2023-03-08 23:29.18 [info     ] Model parameters are saved to d3rlpy_logs/SAC_online_20230308232610/model_47000.pt\n",
      "2023-03-08 23:29.18 [info     ] SAC_online_20230308232610: epoch=47 step=47000 epoch=47 metrics={'time_inference': 0.0003269684314727783, 'time_environment_step': 0.00038927078247070313, 'time_sample_batch': 0.0001596524715423584, 'time_algorithm_update': 0.0032026188373565673, 'temp_loss': -102220133.316, 'temp': 41495518.232, 'critic_loss': 1.908710071259617e+17, 'actor_loss': 261393041.856, 'time_step': 0.004112643718719482, 'rollout_return': 14.774647887323944, 'evaluation': 15.4} step=47000\n",
      "2023-03-08 23:29.22 [info     ] Model parameters are saved to d3rlpy_logs/SAC_online_20230308232610/model_48000.pt\n",
      "2023-03-08 23:29.22 [info     ] SAC_online_20230308232610: epoch=48 step=48000 epoch=48 metrics={'time_inference': 0.0003293263912200928, 'time_environment_step': 0.00038301444053649903, 'time_sample_batch': 0.00015606737136840822, 'time_algorithm_update': 0.0032929184436798096, 'temp_loss': 13187604.45975, 'temp': 52992356.896, 'critic_loss': 1.0762191999735746e+17, 'actor_loss': 169814533.856, 'time_step': 0.004195314407348633, 'rollout_return': 14.30281690140845, 'evaluation': 14.3} step=48000\n",
      "2023-03-08 23:29.26 [info     ] Model parameters are saved to d3rlpy_logs/SAC_online_20230308232610/model_49000.pt\n",
      "2023-03-08 23:29.26 [info     ] SAC_online_20230308232610: epoch=49 step=49000 epoch=49 metrics={'time_inference': 0.00033597326278686523, 'time_environment_step': 0.000375532865524292, 'time_sample_batch': 0.00016312098503112792, 'time_algorithm_update': 0.00323423171043396, 'temp_loss': 70701231.644, 'temp': 42852636.112, 'critic_loss': 7028385590999515.0, 'actor_loss': 72360638.704, 'time_step': 0.004142189502716064, 'rollout_return': 13.788732394366198, 'evaluation': 16.5} step=49000\n",
      "2023-03-08 23:29.31 [info     ] Model parameters are saved to d3rlpy_logs/SAC_online_20230308232610/model_50000.pt\n",
      "2023-03-08 23:29.31 [info     ] SAC_online_20230308232610: epoch=50 step=50000 epoch=50 metrics={'time_inference': 0.00032765817642211914, 'time_environment_step': 0.00037992548942565916, 'time_sample_batch': 0.00015479826927185058, 'time_algorithm_update': 0.003223320484161377, 'temp_loss': 55809493.404, 'temp': 33815354.72, 'critic_loss': 5786891128699617.0, 'actor_loss': 51147396.348, 'time_step': 0.004120128393173218, 'rollout_return': 14.345070422535212, 'evaluation': 14.3} step=50000\n",
      "2023-03-08 23:29.35 [info     ] Model parameters are saved to d3rlpy_logs/SAC_online_20230308232610/model_51000.pt\n",
      "2023-03-08 23:29.35 [info     ] SAC_online_20230308232610: epoch=51 step=51000 epoch=51 metrics={'time_inference': 0.00031104731559753417, 'time_environment_step': 0.0003495943546295166, 'time_sample_batch': 0.00014020681381225587, 'time_algorithm_update': 0.0029720895290374755, 'temp_loss': 44359200.58, 'temp': 26886685.128, 'critic_loss': 6042206180627972.0, 'actor_loss': 31452251.785, 'time_step': 0.0038034155368804933, 'rollout_return': 14.316901408450704, 'evaluation': 16.1} step=51000\n",
      "2023-03-08 23:29.39 [info     ] Model parameters are saved to d3rlpy_logs/SAC_online_20230308232610/model_52000.pt\n",
      "2023-03-08 23:29.39 [info     ] SAC_online_20230308232610: epoch=52 step=52000 epoch=52 metrics={'time_inference': 0.0003188467025756836, 'time_environment_step': 0.0003542013168334961, 'time_sample_batch': 0.000145904541015625, 'time_algorithm_update': 0.003118802785873413, 'temp_loss': 35321714.738, 'temp': 21445628.09, 'critic_loss': 6101737988952162.0, 'actor_loss': 17460861.36275, 'time_step': 0.003968630790710449, 'rollout_return': 14.577464788732394, 'evaluation': 14.0} step=52000\n",
      "2023-03-08 23:29.42 [info     ] Model parameters are saved to d3rlpy_logs/SAC_online_20230308232610/model_53000.pt\n",
      "2023-03-08 23:29.42 [info     ] SAC_online_20230308232610: epoch=53 step=53000 epoch=53 metrics={'time_inference': 0.0003069891929626465, 'time_environment_step': 0.00034642601013183596, 'time_sample_batch': 0.00014169096946716308, 'time_algorithm_update': 0.002960629224777222, 'temp_loss': 28210162.27, 'temp': 17131443.314, 'critic_loss': 5154130295812784.0, 'actor_loss': 8228976.87028125, 'time_step': 0.003785550594329834, 'rollout_return': 14.126760563380282, 'evaluation': 13.0} step=53000\n",
      "2023-03-08 23:29.46 [info     ] Model parameters are saved to d3rlpy_logs/SAC_online_20230308232610/model_54000.pt\n",
      "2023-03-08 23:29.46 [info     ] SAC_online_20230308232610: epoch=54 step=54000 epoch=54 metrics={'time_inference': 0.0003008944988250732, 'time_environment_step': 0.00033789801597595217, 'time_sample_batch': 0.00014362883567810059, 'time_algorithm_update': 0.002940965414047241, 'temp_loss': 22509582.042, 'temp': 13697304.592, 'critic_loss': 4100816161980023.0, 'actor_loss': 551479.94465625, 'time_step': 0.0037532694339752195, 'rollout_return': 14.464788732394366, 'evaluation': 14.0} step=54000\n",
      "2023-03-08 23:29.51 [info     ] Model parameters are saved to d3rlpy_logs/SAC_online_20230308232610/model_55000.pt\n",
      "2023-03-08 23:29.51 [info     ] SAC_online_20230308232610: epoch=55 step=55000 epoch=55 metrics={'time_inference': 0.00034350776672363283, 'time_environment_step': 0.00041472339630126956, 'time_sample_batch': 0.00016904234886169433, 'time_algorithm_update': 0.003303813934326172, 'temp_loss': 18134654.703, 'temp': 10946425.123, 'critic_loss': 3086855701889286.0, 'actor_loss': -5442648.424054688, 'time_step': 0.0042669203281402585, 'rollout_return': 14.450704225352112, 'evaluation': 14.1} step=55000\n",
      "2023-03-08 23:29.55 [info     ] Model parameters are saved to d3rlpy_logs/SAC_online_20230308232610/model_56000.pt\n",
      "2023-03-08 23:29.55 [info     ] SAC_online_20230308232610: epoch=56 step=56000 epoch=56 metrics={'time_inference': 0.00032189202308654787, 'time_environment_step': 0.0003805549144744873, 'time_sample_batch': 0.0001589534282684326, 'time_algorithm_update': 0.0030774476528167725, 'temp_loss': 14402519.872, 'temp': 8755011.1265, 'critic_loss': 2239494758420447.2, 'actor_loss': -9717521.562085938, 'time_step': 0.0039729678630828855, 'rollout_return': 14.274647887323944, 'evaluation': 13.4} step=56000\n",
      "2023-03-08 23:29.59 [info     ] Model parameters are saved to d3rlpy_logs/SAC_online_20230308232610/model_57000.pt\n",
      "2023-03-08 23:29.59 [info     ] SAC_online_20230308232610: epoch=57 step=57000 epoch=57 metrics={'time_inference': 0.0003364267349243164, 'time_environment_step': 0.0003899669647216797, 'time_sample_batch': 0.00015903925895690917, 'time_algorithm_update': 0.0032014575004577638, 'temp_loss': 11527448.275, 'temp': 6999537.207, 'critic_loss': 1507334144420479.0, 'actor_loss': -13006795.9105, 'time_step': 0.0041220693588256835, 'rollout_return': 14.992957746478874, 'evaluation': 15.3} step=57000\n",
      "2023-03-08 23:30.03 [info     ] Model parameters are saved to d3rlpy_logs/SAC_online_20230308232610/model_58000.pt\n",
      "2023-03-08 23:30.03 [info     ] SAC_online_20230308232610: epoch=58 step=58000 epoch=58 metrics={'time_inference': 0.00032211923599243165, 'time_environment_step': 0.00038307571411132815, 'time_sample_batch': 0.00016004467010498046, 'time_algorithm_update': 0.00311421275138855, 'temp_loss': 9262063.8385, 'temp': 5596812.944, 'critic_loss': 1024953260810698.8, 'actor_loss': -15458816.937, 'time_step': 0.004014919519424439, 'rollout_return': 14.56338028169014, 'evaluation': 15.4} step=58000\n",
      "2023-03-08 23:30.07 [info     ] Model parameters are saved to d3rlpy_logs/SAC_online_20230308232610/model_59000.pt\n",
      "2023-03-08 23:30.07 [info     ] SAC_online_20230308232610: epoch=59 step=59000 epoch=59 metrics={'time_inference': 0.00032107996940612796, 'time_environment_step': 0.0003920047283172607, 'time_sample_batch': 0.00018869471549987793, 'time_algorithm_update': 0.0032194902896881105, 'temp_loss': 7393689.433, 'temp': 4474375.97175, 'critic_loss': 689063863106142.2, 'actor_loss': -15751597.429, 'time_step': 0.004157464504241943, 'rollout_return': 14.577464788732394, 'evaluation': 14.2} step=59000\n",
      "2023-03-08 23:30.12 [info     ] Model parameters are saved to d3rlpy_logs/SAC_online_20230308232610/model_60000.pt\n",
      "2023-03-08 23:30.12 [info     ] SAC_online_20230308232610: epoch=60 step=60000 epoch=60 metrics={'time_inference': 0.0003585224151611328, 'time_environment_step': 0.0004253714084625244, 'time_sample_batch': 0.00017020058631896974, 'time_algorithm_update': 0.003440892219543457, 'temp_loss': 5902927.2265, 'temp': 3579150.86875, 'critic_loss': 366371727434842.1, 'actor_loss': -14206658.779, 'time_step': 0.00443366527557373, 'rollout_return': 14.225352112676056, 'evaluation': 14.1} step=60000\n",
      "2023-03-08 23:30.16 [info     ] Model parameters are saved to d3rlpy_logs/SAC_online_20230308232610/model_61000.pt\n",
      "2023-03-08 23:30.16 [info     ] SAC_online_20230308232610: epoch=61 step=61000 epoch=61 metrics={'time_inference': 0.00035066986083984376, 'time_environment_step': 0.00039586687088012695, 'time_sample_batch': 0.00016289830207824707, 'time_algorithm_update': 0.0033407154083251954, 'temp_loss': 4738153.55625, 'temp': 2861039.095, 'critic_loss': 154944489151004.7, 'actor_loss': -11527088.2, 'time_step': 0.004286923170089722, 'rollout_return': 13.873239436619718, 'evaluation': 14.7} step=61000\n",
      "2023-03-08 23:30.20 [info     ] Model parameters are saved to d3rlpy_logs/SAC_online_20230308232610/model_62000.pt\n",
      "2023-03-08 23:30.20 [info     ] SAC_online_20230308232610: epoch=62 step=62000 epoch=62 metrics={'time_inference': 0.0003221044540405273, 'time_environment_step': 0.0003672499656677246, 'time_sample_batch': 0.00014649391174316408, 'time_algorithm_update': 0.0031095030307769773, 'temp_loss': 3784367.90725, 'temp': 2286736.319375, 'critic_loss': 47059832698568.7, 'actor_loss': -7962353.3635, 'time_step': 0.00397771143913269, 'rollout_return': 14.711267605633802, 'evaluation': 15.3} step=62000\n",
      "2023-03-08 23:30.24 [info     ] Model parameters are saved to d3rlpy_logs/SAC_online_20230308232610/model_63000.pt\n",
      "2023-03-08 23:30.24 [info     ] SAC_online_20230308232610: epoch=63 step=63000 epoch=63 metrics={'time_inference': 0.0002962651252746582, 'time_environment_step': 0.00031410431861877443, 'time_sample_batch': 0.00013291120529174805, 'time_algorithm_update': 0.002827978849411011, 'temp_loss': 3022786.024, 'temp': 1829000.38375, 'critic_loss': 13684121617825.793, 'actor_loss': -4513806.73725, 'time_step': 0.0035981943607330323, 'rollout_return': 14.985915492957746, 'evaluation': 13.4} step=63000\n",
      "2023-03-08 23:30.27 [info     ] Model parameters are saved to d3rlpy_logs/SAC_online_20230308232610/model_64000.pt\n",
      "2023-03-08 23:30.27 [info     ] SAC_online_20230308232610: epoch=64 step=64000 epoch=64 metrics={'time_inference': 0.00029313683509826663, 'time_environment_step': 0.00031466078758239744, 'time_sample_batch': 0.0001316080093383789, 'time_algorithm_update': 0.0028465375900268556, 'temp_loss': 2416438.41175, 'temp': 1463319.6395, 'critic_loss': 7696971856871.424, 'actor_loss': -2513004.430125, 'time_step': 0.0036130526065826416, 'rollout_return': 14.422535211267606, 'evaluation': 15.4} step=64000\n",
      "2023-03-08 23:30.31 [info     ] Model parameters are saved to d3rlpy_logs/SAC_online_20230308232610/model_65000.pt\n",
      "2023-03-08 23:30.31 [info     ] SAC_online_20230308232610: epoch=65 step=65000 epoch=65 metrics={'time_inference': 0.00029216480255126956, 'time_environment_step': 0.0003085587024688721, 'time_sample_batch': 0.00012990283966064453, 'time_algorithm_update': 0.002756368160247803, 'temp_loss': 1929715.727, 'temp': 1170120.8444375, 'critic_loss': 6020867730178.048, 'actor_loss': -1765498.705125, 'time_step': 0.0035133357048034667, 'rollout_return': 14.225352112676056, 'evaluation': 13.2} step=65000\n",
      "2023-03-08 23:30.35 [info     ] Model parameters are saved to d3rlpy_logs/SAC_online_20230308232610/model_66000.pt\n",
      "2023-03-08 23:30.35 [info     ] SAC_online_20230308232610: epoch=66 step=66000 epoch=66 metrics={'time_inference': 0.00029248833656311037, 'time_environment_step': 0.00031734418869018555, 'time_sample_batch': 0.00013209152221679688, 'time_algorithm_update': 0.0028143393993377685, 'temp_loss': 1544232.724125, 'temp': 936098.294, 'critic_loss': 4444912386572.288, 'actor_loss': -1318738.4245625, 'time_step': 0.0035832157135009765, 'rollout_return': 14.126760563380282, 'evaluation': 13.2} step=66000\n",
      "2023-03-08 23:30.38 [info     ] Model parameters are saved to d3rlpy_logs/SAC_online_20230308232610/model_67000.pt\n",
      "2023-03-08 23:30.38 [info     ] SAC_online_20230308232610: epoch=67 step=67000 epoch=67 metrics={'time_inference': 0.00029329633712768554, 'time_environment_step': 0.0003076820373535156, 'time_sample_batch': 0.00013074016571044923, 'time_algorithm_update': 0.0028082339763641356, 'temp_loss': 1239251.0075, 'temp': 748132.5109375, 'critic_loss': 3228823221698.56, 'actor_loss': -962835.0918125, 'time_step': 0.00356620192527771, 'rollout_return': 14.45774647887324, 'evaluation': 13.7} step=67000\n",
      "2023-03-08 23:30.42 [info     ] Model parameters are saved to d3rlpy_logs/SAC_online_20230308232610/model_68000.pt\n",
      "2023-03-08 23:30.42 [info     ] SAC_online_20230308232610: epoch=68 step=68000 epoch=68 metrics={'time_inference': 0.00029097509384155276, 'time_environment_step': 0.0003109109401702881, 'time_sample_batch': 0.0001301286220550537, 'time_algorithm_update': 0.0027609448432922364, 'temp_loss': 987111.45725, 'temp': 598391.269375, 'critic_loss': 2104333835239.424, 'actor_loss': -632636.4618125, 'time_step': 0.003519380569458008, 'rollout_return': 14.43661971830986, 'evaluation': 14.2} step=68000\n",
      "2023-03-08 23:30.46 [info     ] Model parameters are saved to d3rlpy_logs/SAC_online_20230308232610/model_69000.pt\n",
      "2023-03-08 23:30.46 [info     ] SAC_online_20230308232610: epoch=69 step=69000 epoch=69 metrics={'time_inference': 0.0002867391109466553, 'time_environment_step': 0.0003125443458557129, 'time_sample_batch': 0.00013112497329711913, 'time_algorithm_update': 0.0027814176082611086, 'temp_loss': 790469.886, 'temp': 478619.46609375, 'critic_loss': 1190468423319.552, 'actor_loss': -440301.00825, 'time_step': 0.0035388460159301756, 'rollout_return': 14.309859154929578, 'evaluation': 13.1} step=69000\n",
      "2023-03-08 23:30.49 [info     ] Model parameters are saved to d3rlpy_logs/SAC_online_20230308232610/model_70000.pt\n",
      "2023-03-08 23:30.49 [info     ] SAC_online_20230308232610: epoch=70 step=70000 epoch=70 metrics={'time_inference': 0.00028769588470458984, 'time_environment_step': 0.00031495046615600587, 'time_sample_batch': 0.00013300943374633788, 'time_algorithm_update': 0.0028008410930633544, 'temp_loss': 632256.86421875, 'temp': 382707.35765625, 'critic_loss': 598458874707.968, 'actor_loss': -320975.519140625, 'time_step': 0.003562905788421631, 'rollout_return': 14.471830985915492, 'evaluation': 13.7} step=70000\n",
      "2023-03-08 23:30.53 [info     ] Model parameters are saved to d3rlpy_logs/SAC_online_20230308232610/model_71000.pt\n",
      "2023-03-08 23:30.53 [info     ] SAC_online_20230308232610: epoch=71 step=71000 epoch=71 metrics={'time_inference': 0.0002869822978973389, 'time_environment_step': 0.000306471586227417, 'time_sample_batch': 0.0001304793357849121, 'time_algorithm_update': 0.0027819180488586424, 'temp_loss': 505905.06428125, 'temp': 306022.213, 'critic_loss': 237418823606.272, 'actor_loss': -261138.699125, 'time_step': 0.003532322883605957, 'rollout_return': 14.401408450704226, 'evaluation': 13.5} step=71000\n",
      "2023-03-08 23:30.56 [info     ] Model parameters are saved to d3rlpy_logs/SAC_online_20230308232610/model_72000.pt\n",
      "2023-03-08 23:30.56 [info     ] SAC_online_20230308232610: epoch=72 step=72000 epoch=72 metrics={'time_inference': 0.00028836417198181154, 'time_environment_step': 0.00030708456039428713, 'time_sample_batch': 0.00012977147102355958, 'time_algorithm_update': 0.0027721621990203856, 'temp_loss': 403601.94496875, 'temp': 244778.120125, 'critic_loss': 78506921801.728, 'actor_loss': -251304.654515625, 'time_step': 0.0035234713554382325, 'rollout_return': 14.119718309859154, 'evaluation': 15.2} step=72000\n",
      "2023-03-08 23:31.00 [info     ] Model parameters are saved to d3rlpy_logs/SAC_online_20230308232610/model_73000.pt\n",
      "2023-03-08 23:31.00 [info     ] SAC_online_20230308232610: epoch=73 step=73000 epoch=73 metrics={'time_inference': 0.0002947268486022949, 'time_environment_step': 0.00031322765350341795, 'time_sample_batch': 0.00012980198860168456, 'time_algorithm_update': 0.0027730252742767334, 'temp_loss': 324246.5690625, 'temp': 195662.333, 'critic_loss': 25609773927.424, 'actor_loss': -269612.0176875, 'time_step': 0.003537195682525635, 'rollout_return': 14.43661971830986, 'evaluation': 13.9} step=73000\n",
      "2023-03-08 23:31.04 [info     ] Model parameters are saved to d3rlpy_logs/SAC_online_20230308232610/model_74000.pt\n",
      "2023-03-08 23:31.04 [info     ] SAC_online_20230308232610: epoch=74 step=74000 epoch=74 metrics={'time_inference': 0.0002918858528137207, 'time_environment_step': 0.00030693602561950685, 'time_sample_batch': 0.00012991952896118165, 'time_algorithm_update': 0.002781825065612793, 'temp_loss': 257444.40703125, 'temp': 156506.61, 'critic_loss': 12431735965.184, 'actor_loss': -251899.8439375, 'time_step': 0.003536684513092041, 'rollout_return': 14.112676056338028, 'evaluation': 15.0} step=74000\n",
      "2023-03-08 23:31.07 [info     ] Model parameters are saved to d3rlpy_logs/SAC_online_20230308232610/model_75000.pt\n",
      "2023-03-08 23:31.07 [info     ] SAC_online_20230308232610: epoch=75 step=75000 epoch=75 metrics={'time_inference': 0.0002886836528778076, 'time_environment_step': 0.0003090217113494873, 'time_sample_batch': 0.00012912917137145995, 'time_algorithm_update': 0.002768375873565674, 'temp_loss': 206492.763421875, 'temp': 125203.6426015625, 'critic_loss': 7332839979.008, 'actor_loss': -223778.394984375, 'time_step': 0.003521268129348755, 'rollout_return': 14.04225352112676, 'evaluation': 15.2} step=75000\n",
      "2023-03-08 23:31.11 [info     ] Model parameters are saved to d3rlpy_logs/SAC_online_20230308232610/model_76000.pt\n",
      "2023-03-08 23:31.11 [info     ] SAC_online_20230308232610: epoch=76 step=76000 epoch=76 metrics={'time_inference': 0.00028885293006896973, 'time_environment_step': 0.0003126034736633301, 'time_sample_batch': 0.00013054370880126952, 'time_algorithm_update': 0.0027968900203704833, 'temp_loss': 164999.84121875, 'temp': 100128.7474453125, 'critic_loss': 4718634817.28, 'actor_loss': -186372.75215625, 'time_step': 0.0035557181835174563, 'rollout_return': 14.429577464788732, 'evaluation': 13.5} step=76000\n",
      "2023-03-08 23:31.14 [info     ] Model parameters are saved to d3rlpy_logs/SAC_online_20230308232610/model_77000.pt\n",
      "2023-03-08 23:31.14 [info     ] SAC_online_20230308232610: epoch=77 step=77000 epoch=77 metrics={'time_inference': 0.00028989338874816896, 'time_environment_step': 0.0003088228702545166, 'time_sample_batch': 0.00013048744201660156, 'time_algorithm_update': 0.002772735834121704, 'temp_loss': 131750.243390625, 'temp': 80096.855328125, 'critic_loss': 3076030168.96, 'actor_loss': -147914.2872265625, 'time_step': 0.0035302700996398925, 'rollout_return': 14.661971830985916, 'evaluation': 15.2} step=77000\n",
      "2023-03-08 23:31.18 [info     ] Model parameters are saved to d3rlpy_logs/SAC_online_20230308232610/model_78000.pt\n",
      "2023-03-08 23:31.18 [info     ] SAC_online_20230308232610: epoch=78 step=78000 epoch=78 metrics={'time_inference': 0.0002908666133880615, 'time_environment_step': 0.00031537413597106936, 'time_sample_batch': 0.00013592910766601564, 'time_algorithm_update': 0.0028144454956054686, 'temp_loss': 104728.131921875, 'temp': 64099.63294921875, 'critic_loss': 2040082859.392, 'actor_loss': -115053.1450546875, 'time_step': 0.0035837132930755617, 'rollout_return': 14.147887323943662, 'evaluation': 11.9} step=78000\n",
      "2023-03-08 23:31.22 [info     ] Model parameters are saved to d3rlpy_logs/SAC_online_20230308232610/model_79000.pt\n",
      "2023-03-08 23:31.22 [info     ] SAC_online_20230308232610: epoch=79 step=79000 epoch=79 metrics={'time_inference': 0.0002912497520446777, 'time_environment_step': 0.00030543065071105956, 'time_sample_batch': 0.00012916731834411622, 'time_algorithm_update': 0.0027684314250946045, 'temp_loss': 83593.163078125, 'temp': 51309.21658984375, 'critic_loss': 1313279013.44, 'actor_loss': -91972.421765625, 'time_step': 0.0035203118324279785, 'rollout_return': 14.528169014084508, 'evaluation': 15.5} step=79000\n",
      "2023-03-08 23:31.25 [info     ] Model parameters are saved to d3rlpy_logs/SAC_online_20230308232610/model_80000.pt\n",
      "2023-03-08 23:31.25 [info     ] SAC_online_20230308232610: epoch=80 step=80000 epoch=80 metrics={'time_inference': 0.00028837513923645017, 'time_environment_step': 0.0003093681335449219, 'time_sample_batch': 0.00013062977790832518, 'time_algorithm_update': 0.002783687114715576, 'temp_loss': 66808.88051953125, 'temp': 41078.9853203125, 'critic_loss': 849569871.936, 'actor_loss': -73867.74317382813, 'time_step': 0.0035385026931762696, 'rollout_return': 14.359154929577464, 'evaluation': 15.1} step=80000\n",
      "2023-03-08 23:31.29 [info     ] Model parameters are saved to d3rlpy_logs/SAC_online_20230308232610/model_81000.pt\n",
      "2023-03-08 23:31.29 [info     ] SAC_online_20230308232610: epoch=81 step=81000 epoch=81 metrics={'time_inference': 0.0002877235412597656, 'time_environment_step': 0.00031173062324523924, 'time_sample_batch': 0.0001310269832611084, 'time_algorithm_update': 0.0027843713760375977, 'temp_loss': 52917.46973828125, 'temp': 32903.009521484375, 'critic_loss': 585175791.2, 'actor_loss': -58448.151328125, 'time_step': 0.0035416865348815918, 'rollout_return': 14.647887323943662, 'evaluation': 13.4} step=81000\n",
      "2023-03-08 23:31.32 [info     ] Model parameters are saved to d3rlpy_logs/SAC_online_20230308232610/model_82000.pt\n",
      "2023-03-08 23:31.32 [info     ] SAC_online_20230308232610: epoch=82 step=82000 epoch=82 metrics={'time_inference': 0.0002913014888763428, 'time_environment_step': 0.0003055698871612549, 'time_sample_batch': 0.00012951922416687013, 'time_algorithm_update': 0.0027669572830200193, 'temp_loss': 42134.645265625, 'temp': 26354.9418671875, 'critic_loss': 395285698.928, 'actor_loss': -46888.77714453125, 'time_step': 0.0035192878246307372, 'rollout_return': 14.154929577464788, 'evaluation': 15.9} step=82000\n",
      "2023-03-08 23:31.36 [info     ] Model parameters are saved to d3rlpy_logs/SAC_online_20230308232610/model_83000.pt\n",
      "2023-03-08 23:31.36 [info     ] SAC_online_20230308232610: epoch=83 step=83000 epoch=83 metrics={'time_inference': 0.0002936644554138184, 'time_environment_step': 0.00030660462379455565, 'time_sample_batch': 0.0001296372413635254, 'time_algorithm_update': 0.0027714211940765383, 'temp_loss': 33366.63090234375, 'temp': 21122.14216796875, 'critic_loss': 290306627.104, 'actor_loss': -37096.43619140625, 'time_step': 0.0035275373458862305, 'rollout_return': 13.894366197183098, 'evaluation': 16.1} step=83000\n",
      "2023-03-08 23:31.40 [info     ] Model parameters are saved to d3rlpy_logs/SAC_online_20230308232610/model_84000.pt\n",
      "2023-03-08 23:31.40 [info     ] SAC_online_20230308232610: epoch=84 step=84000 epoch=84 metrics={'time_inference': 0.00029262971878051756, 'time_environment_step': 0.0003084719181060791, 'time_sample_batch': 0.00013238096237182617, 'time_algorithm_update': 0.0027904174327850343, 'temp_loss': 26581.48286328125, 'temp': 16941.38671777344, 'critic_loss': 213020646.608, 'actor_loss': -29414.47658203125, 'time_step': 0.003550291061401367, 'rollout_return': 15.014084507042254, 'evaluation': 14.0} step=84000\n",
      "2023-03-08 23:31.43 [info     ] Model parameters are saved to d3rlpy_logs/SAC_online_20230308232610/model_85000.pt\n",
      "2023-03-08 23:31.43 [info     ] SAC_online_20230308232610: epoch=85 step=85000 epoch=85 metrics={'time_inference': 0.00028652524948120114, 'time_environment_step': 0.00030913209915161134, 'time_sample_batch': 0.00013221597671508788, 'time_algorithm_update': 0.002773183584213257, 'temp_loss': 21116.346541015624, 'temp': 13579.0051875, 'critic_loss': 160891220.072, 'actor_loss': -23383.512795898438, 'time_step': 0.0035293056964874267, 'rollout_return': 14.112676056338028, 'evaluation': 13.7} step=85000\n",
      "2023-03-08 23:31.47 [info     ] Model parameters are saved to d3rlpy_logs/SAC_online_20230308232610/model_86000.pt\n",
      "2023-03-08 23:31.47 [info     ] SAC_online_20230308232610: epoch=86 step=86000 epoch=86 metrics={'time_inference': 0.00028963422775268557, 'time_environment_step': 0.0003079509735107422, 'time_sample_batch': 0.00012921333312988282, 'time_algorithm_update': 0.002757510185241699, 'temp_loss': 16632.384467773438, 'temp': 10898.226875, 'critic_loss': 132343859.256, 'actor_loss': -17751.145321289063, 'time_step': 0.003510437965393066, 'rollout_return': 13.816901408450704, 'evaluation': 14.9} step=86000\n",
      "2023-03-08 23:31.50 [info     ] Model parameters are saved to d3rlpy_logs/SAC_online_20230308232610/model_87000.pt\n",
      "2023-03-08 23:31.50 [info     ] SAC_online_20230308232610: epoch=87 step=87000 epoch=87 metrics={'time_inference': 0.0002837176322937012, 'time_environment_step': 0.0003058662414550781, 'time_sample_batch': 0.0001297776699066162, 'time_algorithm_update': 0.0027590615749359133, 'temp_loss': 13191.0256796875, 'temp': 8746.796228515625, 'critic_loss': 101860376.22, 'actor_loss': -13709.775766601562, 'time_step': 0.0035045037269592284, 'rollout_return': 14.985915492957746, 'evaluation': 13.8} step=87000\n",
      "2023-03-08 23:31.54 [info     ] Model parameters are saved to d3rlpy_logs/SAC_online_20230308232610/model_88000.pt\n",
      "2023-03-08 23:31.54 [info     ] SAC_online_20230308232610: epoch=88 step=88000 epoch=88 metrics={'time_inference': 0.0002891244888305664, 'time_environment_step': 0.00031134152412414553, 'time_sample_batch': 0.00013017940521240233, 'time_algorithm_update': 0.0027743542194366456, 'temp_loss': 10461.404561523437, 'temp': 7023.212852050781, 'critic_loss': 79733867.084, 'actor_loss': -10445.526791748047, 'time_step': 0.003531376600265503, 'rollout_return': 14.091549295774648, 'evaluation': 12.4} step=88000\n",
      "2023-03-08 23:31.58 [info     ] Model parameters are saved to d3rlpy_logs/SAC_online_20230308232610/model_89000.pt\n",
      "2023-03-08 23:31.58 [info     ] SAC_online_20230308232610: epoch=89 step=89000 epoch=89 metrics={'time_inference': 0.00028789258003234864, 'time_environment_step': 0.0003071553707122803, 'time_sample_batch': 0.00013066434860229493, 'time_algorithm_update': 0.002755552291870117, 'temp_loss': 8263.48367163086, 'temp': 5636.548186523438, 'critic_loss': 63615491.208, 'actor_loss': -7861.365481323242, 'time_step': 0.003507474184036255, 'rollout_return': 14.619718309859154, 'evaluation': 14.6} step=89000\n",
      "2023-03-08 23:32.01 [info     ] Model parameters are saved to d3rlpy_logs/SAC_online_20230308232610/model_90000.pt\n",
      "2023-03-08 23:32.01 [info     ] SAC_online_20230308232610: epoch=90 step=90000 epoch=90 metrics={'time_inference': 0.00029305386543273924, 'time_environment_step': 0.00031260156631469726, 'time_sample_batch': 0.00012956833839416503, 'time_algorithm_update': 0.002785818576812744, 'temp_loss': 6608.149537109375, 'temp': 4526.944268554687, 'critic_loss': 46610396.122, 'actor_loss': -6174.423654174805, 'time_step': 0.0035471603870391847, 'rollout_return': 14.535211267605634, 'evaluation': 15.9} step=90000\n",
      "2023-03-08 23:32.05 [info     ] Model parameters are saved to d3rlpy_logs/SAC_online_20230308232610/model_91000.pt\n",
      "2023-03-08 23:32.05 [info     ] SAC_online_20230308232610: epoch=91 step=91000 epoch=91 metrics={'time_inference': 0.0002855467796325684, 'time_environment_step': 0.0003057689666748047, 'time_sample_batch': 0.00013017654418945312, 'time_algorithm_update': 0.0027587020397186277, 'temp_loss': 5242.222736572266, 'temp': 3630.478922363281, 'critic_loss': 37218189.06, 'actor_loss': -4988.226643035889, 'time_step': 0.003506237983703613, 'rollout_return': 14.507042253521126, 'evaluation': 15.3} step=91000\n",
      "2023-03-08 23:32.08 [info     ] Model parameters are saved to d3rlpy_logs/SAC_online_20230308232610/model_92000.pt\n",
      "2023-03-08 23:32.08 [info     ] SAC_online_20230308232610: epoch=92 step=92000 epoch=92 metrics={'time_inference': 0.00028654932975769043, 'time_environment_step': 0.00030745124816894534, 'time_sample_batch': 0.0001300344467163086, 'time_algorithm_update': 0.002781490325927734, 'temp_loss': 4171.395416015625, 'temp': 2911.2177731933593, 'critic_loss': 28082786.569, 'actor_loss': -4345.148371276856, 'time_step': 0.0035319461822509767, 'rollout_return': 15.070422535211268, 'evaluation': 14.7} step=92000\n",
      "2023-03-08 23:32.12 [info     ] Model parameters are saved to d3rlpy_logs/SAC_online_20230308232610/model_93000.pt\n",
      "2023-03-08 23:32.12 [info     ] SAC_online_20230308232610: epoch=93 step=93000 epoch=93 metrics={'time_inference': 0.00028763890266418456, 'time_environment_step': 0.0003083016872406006, 'time_sample_batch': 0.00012897467613220214, 'time_algorithm_update': 0.0027632174491882323, 'temp_loss': 3319.9132590332033, 'temp': 2334.673236083984, 'critic_loss': 22186191.468, 'actor_loss': -3923.254899908066, 'time_step': 0.0035143337249755858, 'rollout_return': 14.985915492957746, 'evaluation': 14.1} step=93000\n",
      "2023-03-08 23:32.16 [info     ] Model parameters are saved to d3rlpy_logs/SAC_online_20230308232610/model_94000.pt\n",
      "2023-03-08 23:32.16 [info     ] SAC_online_20230308232610: epoch=94 step=94000 epoch=94 metrics={'time_inference': 0.0002927582263946533, 'time_environment_step': 0.0003058826923370361, 'time_sample_batch': 0.00013300824165344237, 'time_algorithm_update': 0.0027594168186187745, 'temp_loss': 2641.2330333251953, 'temp': 1871.0932954101563, 'critic_loss': 18353344.695, 'actor_loss': -3600.2432955780027, 'time_step': 0.003517284870147705, 'rollout_return': 15.345070422535212, 'evaluation': 12.7} step=94000\n",
      "2023-03-08 23:32.19 [info     ] Model parameters are saved to d3rlpy_logs/SAC_online_20230308232610/model_95000.pt\n",
      "2023-03-08 23:32.19 [info     ] SAC_online_20230308232610: epoch=95 step=95000 epoch=95 metrics={'time_inference': 0.0002862715721130371, 'time_environment_step': 0.0003087606430053711, 'time_sample_batch': 0.0001300351619720459, 'time_algorithm_update': 0.002772829532623291, 'temp_loss': 2071.79787890625, 'temp': 1501.5085279541015, 'critic_loss': 14533166.0645, 'actor_loss': -3461.609209274292, 'time_step': 0.0035243735313415527, 'rollout_return': 15.035211267605634, 'evaluation': 13.8} step=95000\n",
      "2023-03-08 23:32.23 [info     ] Model parameters are saved to d3rlpy_logs/SAC_online_20230308232610/model_96000.pt\n",
      "2023-03-08 23:32.23 [info     ] SAC_online_20230308232610: epoch=96 step=96000 epoch=96 metrics={'time_inference': 0.0002915949821472168, 'time_environment_step': 0.00031232547760009767, 'time_sample_batch': 0.0001294081211090088, 'time_algorithm_update': 0.0027687625885009764, 'temp_loss': 1614.5981824951173, 'temp': 1208.304385986328, 'critic_loss': 12390671.6655, 'actor_loss': -3205.542701034546, 'time_step': 0.003528855800628662, 'rollout_return': 15.28169014084507, 'evaluation': 12.5} step=96000\n",
      "2023-03-08 23:32.26 [info     ] Model parameters are saved to d3rlpy_logs/SAC_online_20230308232610/model_97000.pt\n",
      "2023-03-08 23:32.26 [info     ] SAC_online_20230308232610: epoch=97 step=97000 epoch=97 metrics={'time_inference': 0.0002973983287811279, 'time_environment_step': 0.000315016508102417, 'time_sample_batch': 0.0001300220489501953, 'time_algorithm_update': 0.0027799103260040285, 'temp_loss': 1252.2156549682618, 'temp': 974.5253568115235, 'critic_loss': 11010623.8505, 'actor_loss': -2966.7560864028933, 'time_step': 0.003549015998840332, 'rollout_return': 15.035211267605634, 'evaluation': 16.2} step=97000\n",
      "2023-03-08 23:32.30 [info     ] Model parameters are saved to d3rlpy_logs/SAC_online_20230308232610/model_98000.pt\n",
      "2023-03-08 23:32.30 [info     ] SAC_online_20230308232610: epoch=98 step=98000 epoch=98 metrics={'time_inference': 0.00028658175468444823, 'time_environment_step': 0.00030926728248596193, 'time_sample_batch': 0.00013033843040466308, 'time_algorithm_update': 0.0027554144859313966, 'temp_loss': 968.013803100586, 'temp': 787.733561340332, 'critic_loss': 10031461.7935, 'actor_loss': -2624.0989450073243, 'time_step': 0.00350827693939209, 'rollout_return': 14.845070422535212, 'evaluation': 13.8} step=98000\n",
      "2023-03-08 23:32.33 [info     ] Model parameters are saved to d3rlpy_logs/SAC_online_20230308232610/model_99000.pt\n",
      "2023-03-08 23:32.33 [info     ] SAC_online_20230308232610: epoch=99 step=99000 epoch=99 metrics={'time_inference': 0.00028386735916137695, 'time_environment_step': 0.00030991530418395994, 'time_sample_batch': 0.00013294124603271484, 'time_algorithm_update': 0.00274652624130249, 'temp_loss': 743.7523897094727, 'temp': 638.0220626831054, 'critic_loss': 7542859.9975, 'actor_loss': -2440.1565270614624, 'time_step': 0.0034993238449096678, 'rollout_return': 14.80281690140845, 'evaluation': 15.5} step=99000\n",
      "2023-03-08 23:32.37 [info     ] Model parameters are saved to d3rlpy_logs/SAC_online_20230308232610/model_100000.pt\n",
      "2023-03-08 23:32.37 [info     ] SAC_online_20230308232610: epoch=100 step=100000 epoch=100 metrics={'time_inference': 0.0002952606678009033, 'time_environment_step': 0.0003067166805267334, 'time_sample_batch': 0.00012894058227539063, 'time_algorithm_update': 0.0027643914222717286, 'temp_loss': 572.6398526000977, 'temp': 517.7227438049316, 'critic_loss': 6929929.29025, 'actor_loss': -2115.6495204429625, 'time_step': 0.00352168607711792, 'rollout_return': 14.908450704225352, 'evaluation': 14.0} step=100000\n"
     ]
    }
   ],
   "source": [
    "sac.fit_online(\n",
    "    env_,\n",
    "    buffer,\n",
    "    eval_env=env_,\n",
    "    n_steps=100000,\n",
    "    n_steps_per_epoch=1000,\n",
    "    update_start_step=1000,\n",
    ")"
   ]
  },
  {
   "cell_type": "code",
   "execution_count": 23,
   "metadata": {},
   "outputs": [],
   "source": [
    "# save model\n",
    "sac.save_model(\"d3rlpy_logs/sac.pt\")"
   ]
  },
  {
   "cell_type": "code",
   "execution_count": 24,
   "metadata": {},
   "outputs": [
    {
     "name": "stdout",
     "output_type": "stream",
     "text": [
      "2023-03-08 23:32.37 [warning  ] Parameters will be reinitialized.\n"
     ]
    }
   ],
   "source": [
    "# reload model\n",
    "sac.build_with_env(env_)\n",
    "sac.load_model(\"d3rlpy_logs/sac.pt\")"
   ]
  },
  {
   "cell_type": "code",
   "execution_count": null,
   "metadata": {},
   "outputs": [],
   "source": [
    "behavior_policy = TruncatedGaussianHead(\n",
    "    sac, \n",
    "    minimum=env.action_space.low,\n",
    "    maximum=env.action_space.high,\n",
    "    sigma=np.array([1.0]),\n",
    "    name=\"sac_sigma_1.0\",\n",
    "    random_state=random_state,\n",
    ")"
   ]
  },
  {
   "cell_type": "code",
   "execution_count": null,
   "metadata": {},
   "outputs": [],
   "source": [
    "# initialize dataset class\n",
    "dataset = SyntheticDataset(\n",
    "    env=env,\n",
    "    state_keys=env.obs_keys,\n",
    "    max_episode_steps=env.step_per_episode,\n",
    "    info_keys={\n",
    "        \"search_volume\": int,\n",
    "        \"impression\": int,\n",
    "        \"click\": int,\n",
    "        \"conversion\": int,\n",
    "        \"average_bid_price\": float,\n",
    "    },\n",
    ")"
   ]
  },
  {
   "cell_type": "code",
   "execution_count": 25,
   "metadata": {},
   "outputs": [
    {
     "ename": "NameError",
     "evalue": "name 'dataset' is not defined",
     "output_type": "error",
     "traceback": [
      "\u001b[0;31m---------------------------------------------------------------------------\u001b[0m",
      "\u001b[0;31mNameError\u001b[0m                                 Traceback (most recent call last)",
      "Cell \u001b[0;32mIn [25], line 3\u001b[0m\n\u001b[1;32m      1\u001b[0m \u001b[39m# collect logged data by a behavior policy\u001b[39;00m\n\u001b[1;32m      2\u001b[0m \u001b[39m# skip if there is a preserved logged dataset\u001b[39;00m\n\u001b[0;32m----> 3\u001b[0m train_logged_dataset \u001b[39m=\u001b[39m dataset\u001b[39m.\u001b[39mobtain_episodes(\n\u001b[1;32m      4\u001b[0m     behavior_policies\u001b[39m=\u001b[39mbehavior_policy,\n\u001b[1;32m      5\u001b[0m     n_trajectories\u001b[39m=\u001b[39m\u001b[39m10000\u001b[39m, \n\u001b[1;32m      6\u001b[0m     obtain_info\u001b[39m=\u001b[39m\u001b[39mTrue\u001b[39;00m,\n\u001b[1;32m      7\u001b[0m     random_state\u001b[39m=\u001b[39mrandom_state,\n\u001b[1;32m      8\u001b[0m )\n\u001b[1;32m      9\u001b[0m test_logged_dataset \u001b[39m=\u001b[39m dataset\u001b[39m.\u001b[39mobtain_episodes(\n\u001b[1;32m     10\u001b[0m     behavior_policies\u001b[39m=\u001b[39mbehavior_policy,\n\u001b[1;32m     11\u001b[0m     n_trajectories\u001b[39m=\u001b[39m\u001b[39m10000\u001b[39m, \n\u001b[1;32m     12\u001b[0m     obtain_info\u001b[39m=\u001b[39m\u001b[39mTrue\u001b[39;00m,\n\u001b[1;32m     13\u001b[0m     random_state\u001b[39m=\u001b[39mrandom_state \u001b[39m+\u001b[39m \u001b[39m1\u001b[39m,\n\u001b[1;32m     14\u001b[0m )\n",
      "\u001b[0;31mNameError\u001b[0m: name 'dataset' is not defined"
     ]
    }
   ],
   "source": [
    "# collect logged data by a behavior policy\n",
    "# skip if there is a preserved logged dataset\n",
    "train_logged_dataset = dataset.obtain_episodes(\n",
    "    behavior_policies=behavior_policy,\n",
    "    n_trajectories=10000, \n",
    "    obtain_info=True,\n",
    "    random_state=random_state,\n",
    ")\n",
    "test_logged_dataset = dataset.obtain_episodes(\n",
    "    behavior_policies=behavior_policy,\n",
    "    n_trajectories=10000, \n",
    "    obtain_info=True,\n",
    "    random_state=random_state + 1,\n",
    ")"
   ]
  },
  {
   "cell_type": "code",
   "execution_count": null,
   "metadata": {},
   "outputs": [],
   "source": [
    "with open(\"logs/train_dataset_continuous_sac.pkl\", \"wb\") as f:\n",
    "    pickle.dump(train_logged_dataset, f)\n",
    "with open(\"logs/test_dataset_continuous_sac.pkl\", \"wb\") as f:\n",
    "    pickle.dump(test_logged_dataset, f)"
   ]
  },
  {
   "cell_type": "code",
   "execution_count": null,
   "metadata": {},
   "outputs": [],
   "source": [
    "with open(\"logs/train_dataset_continuous_sac.pkl\", \"rb\") as f:\n",
    "    train_logged_dataset = pickle.load(f)\n",
    "with open(\"logs/test_dataset_continuous_sac.pkl\", \"rb\") as f:\n",
    "    test_logged_dataset = pickle.load(f)"
   ]
  },
  {
   "attachments": {},
   "cell_type": "markdown",
   "metadata": {},
   "source": [
    "## Offline Reinforce Learning"
   ]
  },
  {
   "cell_type": "code",
   "execution_count": null,
   "metadata": {},
   "outputs": [],
   "source": [
    "# implement offline RL procedure using ofrl and d3rlpy\n",
    "\n",
    "# import d3rlpy algorithms\n",
    "from d3rlpy.dataset import MDPDataset\n",
    "from d3rlpy.algos import DiscreteCQL\n",
    "\n",
    "# (3) Learning a new policy from offline logged data (using d3rlpy)\n",
    "# convert dataset into d3rlpy's dataset\n",
    "offlinerl_dataset = MDPDataset(\n",
    "    observations=train_logged_dataset[\"state\"],\n",
    "    actions=train_logged_dataset[\"action\"],\n",
    "    rewards=train_logged_dataset[\"reward\"],\n",
    "    terminals=train_logged_dataset[\"done\"],\n",
    "    episode_terminals=train_logged_dataset[\"done\"],\n",
    "    discrete_action=True,\n",
    ")\n",
    "# initialize the algorithm\n",
    "cql = DiscreteCQL()\n",
    "# train an offline policy\n",
    "cql.fit(\n",
    "    offlinerl_dataset,\n",
    "    n_steps=10000,\n",
    "    scorers={},\n",
    ")"
   ]
  },
  {
   "attachments": {},
   "cell_type": "markdown",
   "metadata": {},
   "source": [
    "## Off-Policy Evaluation"
   ]
  },
  {
   "cell_type": "code",
   "execution_count": null,
   "metadata": {},
   "outputs": [],
   "source": [
    "# import ope modules from OFRL\n",
    "from ofrl.ope import CreateOPEInput\n",
    "from ofrl.ope import OffPolicyEvaluation as OPE\n",
    "# basic estimators\n",
    "from ofrl.ope import ContinuousDirectMethod as DM\n",
    "from ofrl.ope import ContinuousTrajectoryWiseImportanceSampling as TIS\n",
    "from ofrl.ope import ContinuousPerDecisionImportanceSampling as PDIS\n",
    "from ofrl.ope import ContinuousDoublyRobust as DR\n",
    "# self normalized estimators\n",
    "from ofrl.ope import ContinuousSelfNormalizedTrajectoryWiseImportanceSampling as SNTIS\n",
    "from ofrl.ope import ContinuousSelfNormalizedPerDecisionImportanceSampling as SNPDIS\n",
    "from ofrl.ope import ContinuousSelfNormalizedDoublyRobust as SNDR\n",
    "# marginal estimators\n",
    "from ofrl.ope import ContinuousStateActionMarginalImportanceSampling as SAMIS\n",
    "from ofrl.ope import ContinuousStateActionMarginalDoublyRobust as SAMDR\n",
    "from ofrl.ope import ContinuousStateMarginalImportanceSampling as SMIS\n",
    "from ofrl.ope import ContinuousStateMarginalDoublyRobust as SMDR\n",
    "from ofrl.ope import ContinuousStateActionMarginalSelfNormalizedImportanceSampling as SAMSNIS\n",
    "from ofrl.ope import ContinuousStateActionMarginalSelfNormalizedDoublyRobust as SAMSNDR\n",
    "from ofrl.ope import ContinuousStateMarginalSelfNormalizedImportanceSampling as SMSNIS\n",
    "from ofrl.ope import ContinuousStateMarginalSelfNormalizedDoublyRobust as SMSNDR\n",
    "# double reinforcement learning estimators\n",
    "from ofrl.ope import ContinuousDoubleReinforcementLearning as DRL"
   ]
  },
  {
   "cell_type": "code",
   "execution_count": null,
   "metadata": {},
   "outputs": [],
   "source": []
  },
  {
   "cell_type": "markdown",
   "metadata": {},
   "source": [
    "## Visualize Results"
   ]
  },
  {
   "cell_type": "code",
   "execution_count": null,
   "metadata": {},
   "outputs": [],
   "source": [
    "# figure configs\n",
    "query = \"(est == 'DM' or est == 'IPS') and num_data <= 6400\"\n",
    "xlabels = [100, 400, 1600, 6400]\n",
    "\n",
    "plt.style.use('ggplot')\n",
    "fig, ax = plt.subplots(figsize=(10, 7), tight_layout=True)\n",
    "sns.lineplot(\n",
    "    linewidth=5,\n",
    "    dashes=False,\n",
    "    legend=False,\n",
    "    x=\"num_data\",\n",
    "    y=\"se\",\n",
    "    hue=\"est\",\n",
    "    ax=ax,\n",
    "    data=result_df.query(\"(est == 'DM' or est == 'IPS') and num_data <= 12800\"),\n",
    ")\n",
    "# title and legend\n",
    "ax.legend([\"IPS\", \"DM\"], loc=\"upper right\", fontsize=25)\n",
    "# yaxis\n",
    "ax.set_yscale(\"log\")\n",
    "ax.set_ylabel(\"mean squared error (MSE)\", fontsize=25)\n",
    "ax.tick_params(axis=\"y\", labelsize=15)\n",
    "ax.yaxis.set_label_coords(-0.08, 0.5)\n",
    "# xaxis\n",
    "ax.set_xscale(\"log\")\n",
    "ax.set_xlabel(\"number of samples in the log data\", fontsize=25)\n",
    "ax.set_xticks(xlabels)\n",
    "ax.set_xticklabels(xlabels, fontsize=15)\n",
    "ax.xaxis.set_label_coords(0.5, -0.1)"
   ]
  }
 ],
 "metadata": {
  "kernelspec": {
   "display_name": "Python 3",
   "language": "python",
   "name": "python3"
  },
  "language_info": {
   "codemirror_mode": {
    "name": "ipython",
    "version": 3
   },
   "file_extension": ".py",
   "mimetype": "text/x-python",
   "name": "python",
   "nbconvert_exporter": "python",
   "pygments_lexer": "ipython3",
   "version": "3.10.6"
  },
  "vscode": {
   "interpreter": {
    "hash": "70404ee114725fce8ed9e697d67827f8546c678889944e6d695790702cbfe1f5"
   }
  }
 },
 "nbformat": 4,
 "nbformat_minor": 4
}
