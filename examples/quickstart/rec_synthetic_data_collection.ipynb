{
 "cells": [
  {
   "attachments": {},
   "cell_type": "markdown",
   "metadata": {},
   "source": [
    "# Quickstart Example with Synthetic Recommender Simulation and Dataset (Data Collection)\n",
    "This notebook provides an example of visualizing the logged dataset collected on an recommender environment.\n",
    "\n",
    "This example on consists of the following case:\n",
    "1. Discrete Action Case\n",
    "\n",
    "\\* This library uses [d3rlpy](https://github.com/takuseno/d3rlpy)'s algorithm implementations.  \n",
    "\\* Also, our data collection module is highly inspired by [Open Bandit Pipeline](https://github.com/st-tech/zr-obp)."
   ]
  },
  {
   "cell_type": "code",
   "execution_count": 131,
   "metadata": {},
   "outputs": [
    {
     "name": "stdout",
     "output_type": "stream",
     "text": [
      "The autoreload extension is already loaded. To reload it, use:\n",
      "  %reload_ext autoreload\n"
     ]
    }
   ],
   "source": [
    "# delete later\n",
    "%load_ext autoreload\n",
    "%autoreload 2"
   ]
  },
  {
   "cell_type": "code",
   "execution_count": 132,
   "metadata": {},
   "outputs": [
    {
     "name": "stdout",
     "output_type": "stream",
     "text": [
      "1.1.1\n"
     ]
    }
   ],
   "source": [
    "import d3rlpy\n",
    "print(d3rlpy.__version__)\n"
   ]
  },
  {
   "cell_type": "code",
   "execution_count": 133,
   "metadata": {},
   "outputs": [],
   "source": [
    "# delete later\n",
    "import warnings\n",
    "warnings.simplefilter('ignore')"
   ]
  },
  {
   "cell_type": "code",
   "execution_count": 134,
   "metadata": {},
   "outputs": [],
   "source": [
    "# delete later\n",
    "import sys\n",
    "sys.path.append('../')\n",
    "sys.path.append('../../')"
   ]
  },
  {
   "cell_type": "code",
   "execution_count": 135,
   "metadata": {},
   "outputs": [],
   "source": [
    "# import OFRL modules\n",
    "import ofrl\n",
    "from ofrl.dataset import SyntheticDataset\n",
    "from ofrl.policy import OnlineHead\n",
    "from ofrl.policy import DiscreteEpsilonGreedyHead\n",
    "from ofrl.ope.online import (\n",
    "    calc_on_policy_policy_value,\n",
    "    visualize_on_policy_policy_value,\n",
    ")\n",
    "\n",
    "# import recgym\n",
    "from recgym import RECEnv\n",
    "from recgym import UserModel\n",
    "\n",
    "# import d3rlpy algorithms\n",
    "from d3rlpy.algos import DiscreteRandomPolicy\n",
    "\n",
    "# import from other libraries\n",
    "import gym\n",
    "import torch\n",
    "from sklearn.model_selection import train_test_split\n",
    "from sklearn.utils import check_random_state"
   ]
  },
  {
   "cell_type": "code",
   "execution_count": 136,
   "metadata": {},
   "outputs": [],
   "source": [
    "import pickle\n",
    "from dataclasses import dataclass\n",
    "from typing import Tuple, Union, Optional\n",
    "from glob import glob\n",
    "from tqdm import tqdm\n",
    "\n",
    "import numpy as np\n",
    "import pandas as pd\n",
    "\n",
    "import matplotlib.pyplot as plt\n",
    "import seaborn as sns\n",
    "\n",
    "%matplotlib inline"
   ]
  },
  {
   "cell_type": "code",
   "execution_count": 137,
   "metadata": {},
   "outputs": [
    {
     "name": "stdout",
     "output_type": "stream",
     "text": [
      "0.0.0\n"
     ]
    }
   ],
   "source": [
    "# version\n",
    "print(ofrl.__version__)"
   ]
  },
  {
   "cell_type": "code",
   "execution_count": 138,
   "metadata": {},
   "outputs": [],
   "source": [
    "# set random state\n",
    "random_state = 12345\n",
    "random_ = check_random_state(random_state)"
   ]
  },
  {
   "attachments": {},
   "cell_type": "markdown",
   "metadata": {},
   "source": [
    "## 0. Description of Synthetic Recommender Simulation Environment\n",
    "\n",
    "To begin with, we briefly describe the basic usage of the environment.\n",
    "\n",
    "#### RL setup for Recommendation\n",
    "In recommendation, the objective of the RL agent is to maximize reward\n",
    "\n",
    "We often formulate this recommendation problem as the following (Partially Observable) Markov Decision Process ((PO)MDP):\n",
    "- `state`: \n",
    "   - A vector representing user preference.  The preference changes over time in an episode by the actions presented by the RL agent.\n",
    "   - When the true state is unobservable, you can gain observation instead of state.\n",
    "- `action`:  Index of an item to present to the user.\n",
    "- `reward`: User engagement signal. Either binary or continuous.\n",
    "\n",
    "Let's see how it works!"
   ]
  },
  {
   "cell_type": "code",
   "execution_count": 139,
   "metadata": {},
   "outputs": [],
   "source": [
    "# setup environment\n",
    "env = gym.make('RECEnv-v0')"
   ]
  },
  {
   "cell_type": "code",
   "execution_count": 140,
   "metadata": {},
   "outputs": [],
   "source": [
    "agent = DiscreteEpsilonGreedyHead(\n",
    "      base_policy = DiscreteRandomPolicy(),\n",
    "      name = 'random',\n",
    "      n_actions = env.n_items,\n",
    "      epsilon = 1. ,\n",
    "      random_state = random_state, \n",
    ")"
   ]
  },
  {
   "cell_type": "code",
   "execution_count": 141,
   "metadata": {},
   "outputs": [],
   "source": [
    "# interact agent with the environment\n",
    "# only 6 lines are needed for RL interaction\n",
    "for episode in range(10):\n",
    "    obs, info = env.reset()\n",
    "    done = False\n",
    "\n",
    "    while not done:\n",
    "        action = agent.sample_action_online(obs)\n",
    "        obs, reward, done, truncated, info = env.step(action)"
   ]
  },
  {
   "cell_type": "code",
   "execution_count": 142,
   "metadata": {},
   "outputs": [
    {
     "name": "stdout",
     "output_type": "stream",
     "text": [
      "(5,)\n",
      "[ 0.1093544  -0.03842231 -0.0212866   0.10483962 -0.04061846]\n"
     ]
    }
   ],
   "source": [
    "# state \n",
    "print(obs.shape)\n",
    "print(obs)"
   ]
  },
  {
   "cell_type": "code",
   "execution_count": 143,
   "metadata": {},
   "outputs": [
    {
     "data": {
      "image/png": "[encoded data removed]",
      "text/plain": [
       "<Figure size 640x480 with 1 Axes>"
      ]
     },
     "metadata": {},
     "output_type": "display_data"
    }
   ],
   "source": [
    "# let's visualize the transition of reward\n",
    "obs, info = env.reset()\n",
    "done = False\n",
    "reward_list = []\n",
    "\n",
    "while not done:\n",
    "    action = agent.sample_action_online(obs)\n",
    "\n",
    "    obs, reward, done, truncated, info = env.step(action)\n",
    "    reward_list.append(reward)\n",
    "\n",
    "# plot\n",
    "fig = plt.figure()\n",
    "ax1 = fig.add_subplot(111)\n",
    "ax1.plot(reward_list[:-1], label='reward', color='tab:orange')\n",
    "ax1.set_xlabel('timestep')\n",
    "ax1.set_ylabel('reward')\n",
    "ax1.legend(loc='upper left')\n",
    "plt.show()"
   ]
  },
  {
   "attachments": {},
   "cell_type": "markdown",
   "metadata": {},
   "source": [
    "For more about the environmental configuration , please refer to [examples/quickstart/rec_synthetic_customize_env.ipynb](https://github.com/negocia-inc/rec_reinforcement_learing/blob/ope/examples/quickstart/rec_synthetic_customize_env.ipynb)."
   ]
  },
  {
   "cell_type": "markdown",
   "metadata": {},
   "source": [
    "## 1. Discrete Action Case\n",
    "Here, we present how to collect logged data by a behavior policy in the case of discrete action.\n",
    "\n",
    "The procedure requires two steps:\n",
    "\n",
    "1. Learn a base deterministic policy\n",
    "2. Convert the deterministic policy into a stochastic policy.\n",
    "\n",
    "Below, we first learn a deterministic policy using [d3rlpy](https://github.com/takuseno/d3rlpy)."
   ]
  },
  {
   "cell_type": "code",
   "execution_count": 144,
   "metadata": {},
   "outputs": [],
   "source": [
    "# standardized environment for discrete action\n",
    "env = RECEnv(random_state=random_state)"
   ]
  },
  {
   "cell_type": "code",
   "execution_count": 145,
   "metadata": {},
   "outputs": [],
   "source": [
    "# for api compatibility to d3rlpy\n",
    "from ofrl.utils import OldGymAPIWrapper\n",
    "env_ = OldGymAPIWrapper(env)"
   ]
  },
  {
   "cell_type": "code",
   "execution_count": 146,
   "metadata": {},
   "outputs": [],
   "source": [
    "# learn a base deterministic policy for data collection\n",
    "from d3rlpy.algos import DoubleDQN\n",
    "from d3rlpy.models.encoders import VectorEncoderFactory\n",
    "from d3rlpy.models.q_functions import MeanQFunctionFactory\n",
    "from d3rlpy.online.buffers import ReplayBuffer\n",
    "from d3rlpy.online.explorers import LinearDecayEpsilonGreedy\n",
    "\n",
    "# model\n",
    "ddqn = DoubleDQN(\n",
    "    encoder_factory=VectorEncoderFactory(hidden_units=[30, 30]),\n",
    "    q_func_factory=MeanQFunctionFactory(),\n",
    "    target_update_interval=100,\n",
    "    use_gpu=torch.cuda.is_available(),\n",
    ")\n",
    "# replay buffer\n",
    "buffer = ReplayBuffer(\n",
    "    maxlen=10000,\n",
    "    env=env_,\n",
    ")\n",
    "# explorers\n",
    "explorer = LinearDecayEpsilonGreedy(\n",
    "    start_epsilon=1.0,\n",
    "    end_epsilon=0.1,\n",
    "    duration=1000,\n",
    ")"
   ]
  },
  {
   "cell_type": "code",
   "execution_count": 147,
   "metadata": {},
   "outputs": [
    {
     "name": "stdout",
     "output_type": "stream",
     "text": [
      "2023-01-29 21:19.37 [info     ] Directory is created at d3rlpy_logs/DoubleDQN_online_20230129211937\n",
      "2023-01-29 21:19.37 [debug    ] Building model...\n",
      "2023-01-29 21:19.37 [debug    ] Model has been built.\n",
      "2023-01-29 21:19.37 [info     ] Parameters are saved to d3rlpy_logs/DoubleDQN_online_20230129211937/params.json params={'action_scaler': None, 'batch_size': 32, 'encoder_factory': {'type': 'vector', 'params': {'hidden_units': [30, 30], 'activation': 'relu', 'use_batch_norm': False, 'dropout_rate': None, 'use_dense': False}}, 'gamma': 0.99, 'generated_maxlen': 100000, 'learning_rate': 6.25e-05, 'n_critics': 1, 'n_frames': 1, 'n_steps': 1, 'optim_factory': {'optim_cls': 'Adam', 'betas': (0.9, 0.999), 'eps': 1e-08, 'weight_decay': 0, 'amsgrad': False}, 'q_func_factory': {'type': 'mean', 'params': {'share_encoder': False}}, 'real_ratio': 1.0, 'reward_scaler': None, 'scaler': None, 'target_update_interval': 100, 'use_gpu': None, 'algorithm': 'DoubleDQN', 'observation_shape': (5,), 'action_size': 100}\n"
     ]
    },
    {
     "data": {
      "application/vnd.jupyter.widget-view+json": {
       "model_id": "569ae0ede38146e4b814d48b0b4a62c1",
       "version_major": 2,
       "version_minor": 0
      },
      "text/plain": [
       "  0%|          | 0/100000 [00:00<?, ?it/s]"
      ]
     },
     "metadata": {},
     "output_type": "display_data"
    },
    {
     "name": "stdout",
     "output_type": "stream",
     "text": [
      "2023-01-29 21:19.38 [info     ] Model parameters are saved to d3rlpy_logs/DoubleDQN_online_20230129211937/model_1000.pt\n",
      "2023-01-29 21:19.38 [info     ] DoubleDQN_online_20230129211937: epoch=1 step=1000 epoch=1 metrics={'time_inference': 0.00011491584777832032, 'time_environment_step': 1.6861200332641602e-05, 'time_step': 0.00013912153244018555, 'rollout_return': 0.08902770528049642, 'evaluation': -0.22850401302455023} step=1000\n",
      "2023-01-29 21:19.38 [info     ] Model parameters are saved to d3rlpy_logs/DoubleDQN_online_20230129211937/model_2000.pt\n",
      "2023-01-29 21:19.38 [info     ] DoubleDQN_online_20230129211937: epoch=2 step=2000 epoch=2 metrics={'time_inference': 0.0001188039779663086, 'time_environment_step': 2.1270036697387694e-05, 'time_sample_batch': 2.343606948852539e-05, 'time_algorithm_update': 0.0005864906311035156, 'loss': 0.01789478269405663, 'time_step': 0.0007637319564819336, 'rollout_return': 0.6617086984752004, 'evaluation': 1.0907415580922721} step=2000\n",
      "2023-01-29 21:19.39 [info     ] Model parameters are saved to d3rlpy_logs/DoubleDQN_online_20230129211937/model_3000.pt\n",
      "2023-01-29 21:19.39 [info     ] DoubleDQN_online_20230129211937: epoch=3 step=3000 epoch=3 metrics={'time_inference': 0.00011752915382385253, 'time_environment_step': 2.1094322204589844e-05, 'time_sample_batch': 2.318716049194336e-05, 'time_algorithm_update': 0.0005788531303405762, 'loss': 0.028368834661319852, 'time_step': 0.0007541282176971436, 'rollout_return': 0.8420315606097669, 'evaluation': 0.9056969860806046} step=3000\n",
      "2023-01-29 21:19.40 [info     ] Model parameters are saved to d3rlpy_logs/DoubleDQN_online_20230129211937/model_4000.pt\n",
      "2023-01-29 21:19.40 [info     ] DoubleDQN_online_20230129211937: epoch=4 step=4000 epoch=4 metrics={'time_inference': 0.00011774730682373047, 'time_environment_step': 2.111506462097168e-05, 'time_sample_batch': 2.3491621017456056e-05, 'time_algorithm_update': 0.0005765762329101562, 'loss': 0.035422154295258225, 'time_step': 0.0007525348663330078, 'rollout_return': 0.9579971964846475, 'evaluation': 1.201981156858895} step=4000\n",
      "2023-01-29 21:19.41 [info     ] Model parameters are saved to d3rlpy_logs/DoubleDQN_online_20230129211937/model_5000.pt\n",
      "2023-01-29 21:19.41 [info     ] DoubleDQN_online_20230129211937: epoch=5 step=5000 epoch=5 metrics={'time_inference': 0.0001180264949798584, 'time_environment_step': 2.1153450012207032e-05, 'time_sample_batch': 2.4097681045532225e-05, 'time_algorithm_update': 0.0005789754390716552, 'loss': 0.03980210213921964, 'time_step': 0.0007558813095092774, 'rollout_return': 0.916632070540105, 'evaluation': 0.7846561580368372} step=5000\n",
      "2023-01-29 21:19.42 [info     ] Model parameters are saved to d3rlpy_logs/DoubleDQN_online_20230129211937/model_6000.pt\n",
      "2023-01-29 21:19.42 [info     ] DoubleDQN_online_20230129211937: epoch=6 step=6000 epoch=6 metrics={'time_inference': 0.00012193131446838378, 'time_environment_step': 2.2037267684936523e-05, 'time_sample_batch': 2.6297330856323244e-05, 'time_algorithm_update': 0.0005932731628417969, 'loss': 0.040357281292788684, 'time_step': 0.0007778019905090332, 'rollout_return': 0.9175420720017544, 'evaluation': 1.0110270257788487} step=6000\n",
      "2023-01-29 21:19.42 [info     ] Model parameters are saved to d3rlpy_logs/DoubleDQN_online_20230129211937/model_7000.pt\n",
      "2023-01-29 21:19.42 [info     ] DoubleDQN_online_20230129211937: epoch=7 step=7000 epoch=7 metrics={'time_inference': 0.00012674713134765625, 'time_environment_step': 2.2967338562011717e-05, 'time_sample_batch': 2.7993440628051757e-05, 'time_algorithm_update': 0.0006242587566375733, 'loss': 0.03985940436646342, 'time_step': 0.0008166975975036621, 'rollout_return': 0.8150057092542005, 'evaluation': 0.9623204876862121} step=7000\n",
      "2023-01-29 21:19.43 [info     ] Model parameters are saved to d3rlpy_logs/DoubleDQN_online_20230129211937/model_8000.pt\n",
      "2023-01-29 21:19.43 [info     ] DoubleDQN_online_20230129211937: epoch=8 step=8000 epoch=8 metrics={'time_inference': 0.00012057757377624511, 'time_environment_step': 2.180624008178711e-05, 'time_sample_batch': 2.703094482421875e-05, 'time_algorithm_update': 0.0005908350944519043, 'loss': 0.03865425810869783, 'time_step': 0.0007742893695831299, 'rollout_return': 0.9529345093305949, 'evaluation': 0.8432102860362332} step=8000\n",
      "2023-01-29 21:19.44 [info     ] Model parameters are saved to d3rlpy_logs/DoubleDQN_online_20230129211937/model_9000.pt\n",
      "2023-01-29 21:19.44 [info     ] DoubleDQN_online_20230129211937: epoch=9 step=9000 epoch=9 metrics={'time_inference': 0.00012736797332763673, 'time_environment_step': 2.347111701965332e-05, 'time_sample_batch': 2.9573678970336913e-05, 'time_algorithm_update': 0.0006150345802307128, 'loss': 0.03856544627714902, 'time_step': 0.0008103580474853515, 'rollout_return': 1.0072216487069499, 'evaluation': 0.9377632201780532} step=9000\n",
      "2023-01-29 21:19.45 [info     ] Model parameters are saved to d3rlpy_logs/DoubleDQN_online_20230129211937/model_10000.pt\n",
      "2023-01-29 21:19.45 [info     ] DoubleDQN_online_20230129211937: epoch=10 step=10000 epoch=10 metrics={'time_inference': 0.00012303280830383302, 'time_environment_step': 2.20186710357666e-05, 'time_sample_batch': 2.7570486068725585e-05, 'time_algorithm_update': 0.0005955634117126465, 'loss': 0.039478698182851074, 'time_step': 0.0007822446823120118, 'rollout_return': 1.0423784129942935, 'evaluation': 1.2186871336859595} step=10000\n",
      "2023-01-29 21:19.46 [info     ] Model parameters are saved to d3rlpy_logs/DoubleDQN_online_20230129211937/model_11000.pt\n",
      "2023-01-29 21:19.46 [info     ] DoubleDQN_online_20230129211937: epoch=11 step=11000 epoch=11 metrics={'time_inference': 0.00011651706695556641, 'time_environment_step': 2.1148204803466796e-05, 'time_sample_batch': 2.543044090270996e-05, 'time_algorithm_update': 0.0005772182941436768, 'loss': 0.037573350136168304, 'time_step': 0.0007546706199645997, 'rollout_return': 1.0738126415916995, 'evaluation': 1.4369624063608062} step=11000\n",
      "2023-01-29 21:19.46 [info     ] Model parameters are saved to d3rlpy_logs/DoubleDQN_online_20230129211937/model_12000.pt\n",
      "2023-01-29 21:19.46 [info     ] DoubleDQN_online_20230129211937: epoch=12 step=12000 epoch=12 metrics={'time_inference': 0.00011577439308166504, 'time_environment_step': 2.087855339050293e-05, 'time_sample_batch': 2.45208740234375e-05, 'time_algorithm_update': 0.0005694036483764648, 'loss': 0.036914982894435525, 'time_step': 0.0007444384098052978, 'rollout_return': 1.0952556585263944, 'evaluation': 1.3782528995395136} step=12000\n",
      "2023-01-29 21:19.47 [info     ] Model parameters are saved to d3rlpy_logs/DoubleDQN_online_20230129211937/model_13000.pt\n",
      "2023-01-29 21:19.47 [info     ] DoubleDQN_online_20230129211937: epoch=13 step=13000 epoch=13 metrics={'time_inference': 0.00011536121368408203, 'time_environment_step': 2.0692110061645508e-05, 'time_sample_batch': 2.4326324462890624e-05, 'time_algorithm_update': 0.0005671947002410889, 'loss': 0.03691158282198012, 'time_step': 0.0007414033412933349, 'rollout_return': 1.2072147843654273, 'evaluation': 1.2979026735233077} step=13000\n",
      "2023-01-29 21:19.48 [info     ] Model parameters are saved to d3rlpy_logs/DoubleDQN_online_20230129211937/model_14000.pt\n",
      "2023-01-29 21:19.48 [info     ] DoubleDQN_online_20230129211937: epoch=14 step=14000 epoch=14 metrics={'time_inference': 0.0001157538890838623, 'time_environment_step': 2.0786046981811525e-05, 'time_sample_batch': 2.4749755859375e-05, 'time_algorithm_update': 0.000568580150604248, 'loss': 0.0406779751079157, 'time_step': 0.0007438251972198487, 'rollout_return': 1.2906195354844894, 'evaluation': 1.3986409562520647} step=14000\n",
      "2023-01-29 21:19.49 [info     ] Model parameters are saved to d3rlpy_logs/DoubleDQN_online_20230129211937/model_15000.pt\n",
      "2023-01-29 21:19.49 [info     ] DoubleDQN_online_20230129211937: epoch=15 step=15000 epoch=15 metrics={'time_inference': 0.00011930608749389649, 'time_environment_step': 2.1591901779174805e-05, 'time_sample_batch': 2.6300907135009764e-05, 'time_algorithm_update': 0.0005797462463378906, 'loss': 0.04194724785722792, 'time_step': 0.000761406660079956, 'rollout_return': 1.35553470364625, 'evaluation': 1.3622960516352576} step=15000\n",
      "2023-01-29 21:19.50 [info     ] Model parameters are saved to d3rlpy_logs/DoubleDQN_online_20230129211937/model_16000.pt\n",
      "2023-01-29 21:19.50 [info     ] DoubleDQN_online_20230129211937: epoch=16 step=16000 epoch=16 metrics={'time_inference': 0.00013802266120910644, 'time_environment_step': 2.5624513626098634e-05, 'time_sample_batch': 3.0206918716430665e-05, 'time_algorithm_update': 0.0007054965496063232, 'loss': 0.04473370768129826, 'time_step': 0.0009170947074890137, 'rollout_return': 1.2177496707313775, 'evaluation': 1.5345201898958183} step=16000\n",
      "2023-01-29 21:19.50 [info     ] Model parameters are saved to d3rlpy_logs/DoubleDQN_online_20230129211937/model_17000.pt\n",
      "2023-01-29 21:19.50 [info     ] DoubleDQN_online_20230129211937: epoch=17 step=17000 epoch=17 metrics={'time_inference': 0.00011877155303955078, 'time_environment_step': 2.164149284362793e-05, 'time_sample_batch': 2.6857852935791017e-05, 'time_algorithm_update': 0.0005800979137420654, 'loss': 0.045410041607916354, 'time_step': 0.0007619776725769043, 'rollout_return': 1.292437198644396, 'evaluation': 1.5120452235051827} step=17000\n",
      "2023-01-29 21:19.51 [info     ] Model parameters are saved to d3rlpy_logs/DoubleDQN_online_20230129211937/model_18000.pt\n",
      "2023-01-29 21:19.51 [info     ] DoubleDQN_online_20230129211937: epoch=18 step=18000 epoch=18 metrics={'time_inference': 0.00011545562744140624, 'time_environment_step': 2.0899772644042968e-05, 'time_sample_batch': 2.5273323059082032e-05, 'time_algorithm_update': 0.000568260908126831, 'loss': 0.04592704078741371, 'time_step': 0.0007439110279083252, 'rollout_return': 1.2319040374711918, 'evaluation': 1.3363073663985872} step=18000\n",
      "2023-01-29 21:19.52 [info     ] Model parameters are saved to d3rlpy_logs/DoubleDQN_online_20230129211937/model_19000.pt\n",
      "2023-01-29 21:19.52 [info     ] DoubleDQN_online_20230129211937: epoch=19 step=19000 epoch=19 metrics={'time_inference': 0.00011724042892456055, 'time_environment_step': 2.1512269973754883e-05, 'time_sample_batch': 2.6286840438842772e-05, 'time_algorithm_update': 0.0005753219127655029, 'loss': 0.04498618165403605, 'time_step': 0.0007546794414520264, 'rollout_return': 1.3555114609255765, 'evaluation': 1.616756119705147} step=19000\n",
      "2023-01-29 21:19.53 [info     ] Model parameters are saved to d3rlpy_logs/DoubleDQN_online_20230129211937/model_20000.pt\n",
      "2023-01-29 21:19.53 [info     ] DoubleDQN_online_20230129211937: epoch=20 step=20000 epoch=20 metrics={'time_inference': 0.00011439156532287598, 'time_environment_step': 2.0795345306396483e-05, 'time_sample_batch': 2.4622917175292968e-05, 'time_algorithm_update': 0.0005651938915252685, 'loss': 0.044465852019377056, 'time_step': 0.0007389395236968994, 'rollout_return': 1.3199170371533029, 'evaluation': 1.6113977891907656} step=20000\n",
      "2023-01-29 21:19.53 [info     ] Model parameters are saved to d3rlpy_logs/DoubleDQN_online_20230129211937/model_21000.pt\n",
      "2023-01-29 21:19.53 [info     ] DoubleDQN_online_20230129211937: epoch=21 step=21000 epoch=21 metrics={'time_inference': 0.00011553740501403808, 'time_environment_step': 2.0920991897583007e-05, 'time_sample_batch': 2.5139808654785157e-05, 'time_algorithm_update': 0.0005651884078979492, 'loss': 0.04789990786649287, 'time_step': 0.0007407543659210205, 'rollout_return': 1.1865780334487868, 'evaluation': 1.3581962761655038} step=21000\n",
      "2023-01-29 21:19.54 [info     ] Model parameters are saved to d3rlpy_logs/DoubleDQN_online_20230129211937/model_22000.pt\n",
      "2023-01-29 21:19.54 [info     ] DoubleDQN_online_20230129211937: epoch=22 step=22000 epoch=22 metrics={'time_inference': 0.00012711167335510253, 'time_environment_step': 2.3275136947631837e-05, 'time_sample_batch': 2.875375747680664e-05, 'time_algorithm_update': 0.0006239039897918701, 'loss': 0.047788439800962805, 'time_step': 0.000818617582321167, 'rollout_return': 1.3022327969749636, 'evaluation': 1.5990389732973957} step=22000\n",
      "2023-01-29 21:19.55 [info     ] Model parameters are saved to d3rlpy_logs/DoubleDQN_online_20230129211937/model_23000.pt\n",
      "2023-01-29 21:19.55 [info     ] DoubleDQN_online_20230129211937: epoch=23 step=23000 epoch=23 metrics={'time_inference': 0.00011643099784851074, 'time_environment_step': 2.118682861328125e-05, 'time_sample_batch': 2.5528907775878905e-05, 'time_algorithm_update': 0.0005705873966217041, 'loss': 0.046591796062886714, 'time_step': 0.0007478759288787842, 'rollout_return': 1.3437688106531693, 'evaluation': 1.4474203019011025} step=23000\n",
      "2023-01-29 21:19.56 [info     ] Model parameters are saved to d3rlpy_logs/DoubleDQN_online_20230129211937/model_24000.pt\n",
      "2023-01-29 21:19.56 [info     ] DoubleDQN_online_20230129211937: epoch=24 step=24000 epoch=24 metrics={'time_inference': 0.0001236245632171631, 'time_environment_step': 2.271103858947754e-05, 'time_sample_batch': 2.8236627578735353e-05, 'time_algorithm_update': 0.000603762149810791, 'loss': 0.050595470597967505, 'time_step': 0.0007934949398040772, 'rollout_return': 1.27073774541601, 'evaluation': 1.308338138729212} step=24000\n",
      "2023-01-29 21:19.57 [info     ] Model parameters are saved to d3rlpy_logs/DoubleDQN_online_20230129211937/model_25000.pt\n",
      "2023-01-29 21:19.57 [info     ] DoubleDQN_online_20230129211937: epoch=25 step=25000 epoch=25 metrics={'time_inference': 0.00013688898086547851, 'time_environment_step': 2.4858951568603517e-05, 'time_sample_batch': 3.1823158264160156e-05, 'time_algorithm_update': 0.0006699802875518799, 'loss': 0.05014530242420733, 'time_step': 0.0008806276321411133, 'rollout_return': 1.263613582526398, 'evaluation': 1.6343247290797005} step=25000\n",
      "2023-01-29 21:19.58 [info     ] Model parameters are saved to d3rlpy_logs/DoubleDQN_online_20230129211937/model_26000.pt\n",
      "2023-01-29 21:19.58 [info     ] DoubleDQN_online_20230129211937: epoch=26 step=26000 epoch=26 metrics={'time_inference': 0.00011631894111633301, 'time_environment_step': 2.0932197570800783e-05, 'time_sample_batch': 2.508854866027832e-05, 'time_algorithm_update': 0.0005678973197937012, 'loss': 0.0491998398359865, 'time_step': 0.000744260311126709, 'rollout_return': 1.312399583751127, 'evaluation': 1.502527139362099} step=26000\n",
      "2023-01-29 21:19.58 [info     ] Model parameters are saved to d3rlpy_logs/DoubleDQN_online_20230129211937/model_27000.pt\n",
      "2023-01-29 21:19.58 [info     ] DoubleDQN_online_20230129211937: epoch=27 step=27000 epoch=27 metrics={'time_inference': 0.00011428618431091309, 'time_environment_step': 2.060246467590332e-05, 'time_sample_batch': 2.3964405059814452e-05, 'time_algorithm_update': 0.0005647017955780029, 'loss': 0.0475527352578938, 'time_step': 0.0007374114990234375, 'rollout_return': 1.3163257767881524, 'evaluation': 1.4071977274130734} step=27000\n",
      "2023-01-29 21:19.59 [info     ] Model parameters are saved to d3rlpy_logs/DoubleDQN_online_20230129211937/model_28000.pt\n",
      "2023-01-29 21:19.59 [info     ] DoubleDQN_online_20230129211937: epoch=28 step=28000 epoch=28 metrics={'time_inference': 0.00012936592102050782, 'time_environment_step': 2.311825752258301e-05, 'time_sample_batch': 2.756953239440918e-05, 'time_algorithm_update': 0.000616114616394043, 'loss': 0.047798756547272205, 'time_step': 0.0008112807273864746, 'rollout_return': 1.3896377101133688, 'evaluation': 1.4734644348095856} step=28000\n",
      "2023-01-29 21:20.00 [info     ] Model parameters are saved to d3rlpy_logs/DoubleDQN_online_20230129211937/model_29000.pt\n",
      "2023-01-29 21:20.00 [info     ] DoubleDQN_online_20230129211937: epoch=29 step=29000 epoch=29 metrics={'time_inference': 0.00013132476806640626, 'time_environment_step': 2.4306058883666993e-05, 'time_sample_batch': 3.1693696975708006e-05, 'time_algorithm_update': 0.0006492571830749511, 'loss': 0.04790188089571893, 'time_step': 0.000853287935256958, 'rollout_return': 1.3190781224782335, 'evaluation': 1.6298294211597226} step=29000\n",
      "2023-01-29 21:20.01 [info     ] Model parameters are saved to d3rlpy_logs/DoubleDQN_online_20230129211937/model_30000.pt\n",
      "2023-01-29 21:20.01 [info     ] DoubleDQN_online_20230129211937: epoch=30 step=30000 epoch=30 metrics={'time_inference': 0.0001311197280883789, 'time_environment_step': 2.2144556045532227e-05, 'time_sample_batch': 2.7363061904907228e-05, 'time_algorithm_update': 0.0005890276432037354, 'loss': 0.048766637274995445, 'time_step': 0.0007845084667205811, 'rollout_return': 1.3216317687101156, 'evaluation': 1.1755751804662067} step=30000\n",
      "2023-01-29 21:20.02 [info     ] Model parameters are saved to d3rlpy_logs/DoubleDQN_online_20230129211937/model_31000.pt\n",
      "2023-01-29 21:20.02 [info     ] DoubleDQN_online_20230129211937: epoch=31 step=31000 epoch=31 metrics={'time_inference': 0.00011486673355102539, 'time_environment_step': 2.0614147186279298e-05, 'time_sample_batch': 2.409839630126953e-05, 'time_algorithm_update': 0.0005635621547698975, 'loss': 0.047837823951616884, 'time_step': 0.0007369146347045899, 'rollout_return': 1.2716412596790172, 'evaluation': 1.0657974556333152} step=31000\n",
      "2023-01-29 21:20.02 [info     ] Model parameters are saved to d3rlpy_logs/DoubleDQN_online_20230129211937/model_32000.pt\n",
      "2023-01-29 21:20.02 [info     ] DoubleDQN_online_20230129211937: epoch=32 step=32000 epoch=32 metrics={'time_inference': 0.0001146237850189209, 'time_environment_step': 2.0581007003784178e-05, 'time_sample_batch': 2.3842096328735353e-05, 'time_algorithm_update': 0.0005624685287475586, 'loss': 0.04903851486183703, 'time_step': 0.0007351920604705811, 'rollout_return': 1.3217429060360135, 'evaluation': 1.3470797633075695} step=32000\n",
      "2023-01-29 21:20.03 [info     ] Model parameters are saved to d3rlpy_logs/DoubleDQN_online_20230129211937/model_33000.pt\n",
      "2023-01-29 21:20.03 [info     ] DoubleDQN_online_20230129211937: epoch=33 step=33000 epoch=33 metrics={'time_inference': 0.00011716294288635253, 'time_environment_step': 2.0968198776245118e-05, 'time_sample_batch': 2.486872673034668e-05, 'time_algorithm_update': 0.000577174186706543, 'loss': 0.04846876581571996, 'time_step': 0.0007543385028839112, 'rollout_return': 1.3034696668377632, 'evaluation': 1.7870256550264891} step=33000\n",
      "2023-01-29 21:20.04 [info     ] Model parameters are saved to d3rlpy_logs/DoubleDQN_online_20230129211937/model_34000.pt\n",
      "2023-01-29 21:20.04 [info     ] DoubleDQN_online_20230129211937: epoch=34 step=34000 epoch=34 metrics={'time_inference': 0.0001170501708984375, 'time_environment_step': 2.1156072616577148e-05, 'time_sample_batch': 2.5328397750854492e-05, 'time_algorithm_update': 0.0005765657424926758, 'loss': 0.04835619317553937, 'time_step': 0.0007543344497680664, 'rollout_return': 1.2239149988399922, 'evaluation': 1.779373084879429} step=34000\n",
      "2023-01-29 21:20.05 [info     ] Model parameters are saved to d3rlpy_logs/DoubleDQN_online_20230129211937/model_35000.pt\n",
      "2023-01-29 21:20.05 [info     ] DoubleDQN_online_20230129211937: epoch=35 step=35000 epoch=35 metrics={'time_inference': 0.00011798477172851562, 'time_environment_step': 2.107977867126465e-05, 'time_sample_batch': 2.4884700775146483e-05, 'time_algorithm_update': 0.0005743350982666016, 'loss': 0.04742422797344625, 'time_step': 0.0007523753643035888, 'rollout_return': 1.3049988677131383, 'evaluation': 1.466797644369672} step=35000\n",
      "2023-01-29 21:20.05 [info     ] Model parameters are saved to d3rlpy_logs/DoubleDQN_online_20230129211937/model_36000.pt\n",
      "2023-01-29 21:20.05 [info     ] DoubleDQN_online_20230129211937: epoch=36 step=36000 epoch=36 metrics={'time_inference': 0.00011629962921142578, 'time_environment_step': 2.1045923233032226e-05, 'time_sample_batch': 2.5152683258056642e-05, 'time_algorithm_update': 0.0005663628578186035, 'loss': 0.047193701977841555, 'time_step': 0.0007429139614105225, 'rollout_return': 1.379206973302335, 'evaluation': 1.5485737033131304} step=36000\n",
      "2023-01-29 21:20.06 [info     ] Model parameters are saved to d3rlpy_logs/DoubleDQN_online_20230129211937/model_37000.pt\n",
      "2023-01-29 21:20.06 [info     ] DoubleDQN_online_20230129211937: epoch=37 step=37000 epoch=37 metrics={'time_inference': 0.00011480569839477538, 'time_environment_step': 2.0603179931640624e-05, 'time_sample_batch': 2.4220943450927735e-05, 'time_algorithm_update': 0.0005646226406097412, 'loss': 0.0484406861346215, 'time_step': 0.0007380583286285401, 'rollout_return': 1.3665121482803184, 'evaluation': 1.466887182166776} step=37000\n",
      "2023-01-29 21:20.07 [info     ] Model parameters are saved to d3rlpy_logs/DoubleDQN_online_20230129211937/model_38000.pt\n",
      "2023-01-29 21:20.07 [info     ] DoubleDQN_online_20230129211937: epoch=38 step=38000 epoch=38 metrics={'time_inference': 0.00011515474319458008, 'time_environment_step': 2.0746707916259766e-05, 'time_sample_batch': 2.385830879211426e-05, 'time_algorithm_update': 0.0005661354064941406, 'loss': 0.048262036323547364, 'time_step': 0.000739694356918335, 'rollout_return': 1.3064458823995322, 'evaluation': 1.2874616074186693} step=38000\n",
      "2023-01-29 21:20.08 [info     ] Model parameters are saved to d3rlpy_logs/DoubleDQN_online_20230129211937/model_39000.pt\n",
      "2023-01-29 21:20.08 [info     ] DoubleDQN_online_20230129211937: epoch=39 step=39000 epoch=39 metrics={'time_inference': 0.00011451387405395507, 'time_environment_step': 2.0585060119628907e-05, 'time_sample_batch': 2.3890495300292967e-05, 'time_algorithm_update': 0.0005624339580535888, 'loss': 0.04685348407737911, 'time_step': 0.0007352819442749024, 'rollout_return': 1.3596386694644165, 'evaluation': 1.658716885894595} step=39000\n",
      "2023-01-29 21:20.08 [info     ] Model parameters are saved to d3rlpy_logs/DoubleDQN_online_20230129211937/model_40000.pt\n",
      "2023-01-29 21:20.08 [info     ] DoubleDQN_online_20230129211937: epoch=40 step=40000 epoch=40 metrics={'time_inference': 0.00011502647399902344, 'time_environment_step': 2.0583629608154298e-05, 'time_sample_batch': 2.33917236328125e-05, 'time_algorithm_update': 0.0005623550415039063, 'loss': 0.04920208895765245, 'time_step': 0.0007352495193481446, 'rollout_return': 1.2240341138207955, 'evaluation': 1.636583868963785} step=40000\n",
      "2023-01-29 21:20.09 [info     ] Model parameters are saved to d3rlpy_logs/DoubleDQN_online_20230129211937/model_41000.pt\n",
      "2023-01-29 21:20.09 [info     ] DoubleDQN_online_20230129211937: epoch=41 step=41000 epoch=41 metrics={'time_inference': 0.00011457514762878418, 'time_environment_step': 2.068924903869629e-05, 'time_sample_batch': 2.324652671813965e-05, 'time_algorithm_update': 0.0005625598430633545, 'loss': 0.048395147863775495, 'time_step': 0.000734896183013916, 'rollout_return': 1.1862061594729807, 'evaluation': 1.4966346395072274} step=41000\n",
      "2023-01-29 21:20.10 [info     ] Model parameters are saved to d3rlpy_logs/DoubleDQN_online_20230129211937/model_42000.pt\n",
      "2023-01-29 21:20.10 [info     ] DoubleDQN_online_20230129211937: epoch=42 step=42000 epoch=42 metrics={'time_inference': 0.00011473917961120605, 'time_environment_step': 2.0627498626708985e-05, 'time_sample_batch': 2.288627624511719e-05, 'time_algorithm_update': 0.0005630850791931152, 'loss': 0.04902216240763664, 'time_step': 0.0007351088523864746, 'rollout_return': 1.3509216228421, 'evaluation': 1.8527816439980982} step=42000\n",
      "2023-01-29 21:20.11 [info     ] Model parameters are saved to d3rlpy_logs/DoubleDQN_online_20230129211937/model_43000.pt\n",
      "2023-01-29 21:20.11 [info     ] DoubleDQN_online_20230129211937: epoch=43 step=43000 epoch=43 metrics={'time_inference': 0.00011468744277954101, 'time_environment_step': 2.0578622817993165e-05, 'time_sample_batch': 2.3725271224975585e-05, 'time_algorithm_update': 0.0005631060600280762, 'loss': 0.04743568198755384, 'time_step': 0.0007358388900756836, 'rollout_return': 1.4279727673320715, 'evaluation': 1.6085478677563887} step=43000\n",
      "2023-01-29 21:20.11 [info     ] Model parameters are saved to d3rlpy_logs/DoubleDQN_online_20230129211937/model_44000.pt\n",
      "2023-01-29 21:20.11 [info     ] DoubleDQN_online_20230129211937: epoch=44 step=44000 epoch=44 metrics={'time_inference': 0.00011618733406066894, 'time_environment_step': 2.1023750305175783e-05, 'time_sample_batch': 2.5049686431884766e-05, 'time_algorithm_update': 0.0005682950019836425, 'loss': 0.047832615103572604, 'time_step': 0.000744600772857666, 'rollout_return': 1.3398140597317871, 'evaluation': 0.9746644537289356} step=44000\n",
      "2023-01-29 21:20.12 [info     ] Model parameters are saved to d3rlpy_logs/DoubleDQN_online_20230129211937/model_45000.pt\n",
      "2023-01-29 21:20.12 [info     ] DoubleDQN_online_20230129211937: epoch=45 step=45000 epoch=45 metrics={'time_inference': 0.00012256431579589844, 'time_environment_step': 2.2240638732910158e-05, 'time_sample_batch': 2.7662038803100585e-05, 'time_algorithm_update': 0.0005874176025390625, 'loss': 0.05014381511695683, 'time_step': 0.000774897575378418, 'rollout_return': 1.3885011730079233, 'evaluation': 1.4226403071225895} step=45000\n",
      "2023-01-29 21:20.13 [info     ] Model parameters are saved to d3rlpy_logs/DoubleDQN_online_20230129211937/model_46000.pt\n",
      "2023-01-29 21:20.13 [info     ] DoubleDQN_online_20230129211937: epoch=46 step=46000 epoch=46 metrics={'time_inference': 0.00012096309661865234, 'time_environment_step': 2.1724462509155273e-05, 'time_sample_batch': 2.6249170303344725e-05, 'time_algorithm_update': 0.0005959169864654541, 'loss': 0.04972162443771958, 'time_step': 0.000779472827911377, 'rollout_return': 1.3912021622276456, 'evaluation': 1.5441837837656895} step=46000\n",
      "2023-01-29 21:20.14 [info     ] Model parameters are saved to d3rlpy_logs/DoubleDQN_online_20230129211937/model_47000.pt\n",
      "2023-01-29 21:20.14 [info     ] DoubleDQN_online_20230129211937: epoch=47 step=47000 epoch=47 metrics={'time_inference': 0.00011519861221313476, 'time_environment_step': 2.069234848022461e-05, 'time_sample_batch': 2.4300813674926757e-05, 'time_algorithm_update': 0.0005641663074493408, 'loss': 0.050297829689458014, 'time_step': 0.0007382278442382812, 'rollout_return': 1.3049582177756076, 'evaluation': 1.5569864291810012} step=47000\n",
      "2023-01-29 21:20.15 [info     ] Model parameters are saved to d3rlpy_logs/DoubleDQN_online_20230129211937/model_48000.pt\n",
      "2023-01-29 21:20.15 [info     ] DoubleDQN_online_20230129211937: epoch=48 step=48000 epoch=48 metrics={'time_inference': 0.00011476564407348633, 'time_environment_step': 2.067708969116211e-05, 'time_sample_batch': 2.401566505432129e-05, 'time_algorithm_update': 0.00056459641456604, 'loss': 0.04982199478149414, 'time_step': 0.0007379965782165527, 'rollout_return': 1.2211587411037776, 'evaluation': 1.2593119713204812} step=48000\n",
      "2023-01-29 21:20.15 [info     ] Model parameters are saved to d3rlpy_logs/DoubleDQN_online_20230129211937/model_49000.pt\n",
      "2023-01-29 21:20.15 [info     ] DoubleDQN_online_20230129211937: epoch=49 step=49000 epoch=49 metrics={'time_inference': 0.00011857104301452636, 'time_environment_step': 2.1470308303833007e-05, 'time_sample_batch': 2.611684799194336e-05, 'time_algorithm_update': 0.0005836250782012939, 'loss': 0.050402785053476694, 'time_step': 0.000764251708984375, 'rollout_return': 1.3945860313098928, 'evaluation': 1.387176798301299} step=49000\n",
      "2023-01-29 21:20.16 [info     ] Model parameters are saved to d3rlpy_logs/DoubleDQN_online_20230129211937/model_50000.pt\n",
      "2023-01-29 21:20.16 [info     ] DoubleDQN_online_20230129211937: epoch=50 step=50000 epoch=50 metrics={'time_inference': 0.00011448574066162109, 'time_environment_step': 2.0691633224487306e-05, 'time_sample_batch': 2.4218082427978516e-05, 'time_algorithm_update': 0.0005638096332550049, 'loss': 0.05017106303758919, 'time_step': 0.0007370810508728027, 'rollout_return': 1.384022419012066, 'evaluation': 1.5271753337050364} step=50000\n",
      "2023-01-29 21:20.17 [info     ] Model parameters are saved to d3rlpy_logs/DoubleDQN_online_20230129211937/model_51000.pt\n",
      "2023-01-29 21:20.17 [info     ] DoubleDQN_online_20230129211937: epoch=51 step=51000 epoch=51 metrics={'time_inference': 0.00011480116844177247, 'time_environment_step': 2.065587043762207e-05, 'time_sample_batch': 2.3953914642333984e-05, 'time_algorithm_update': 0.0005627517700195312, 'loss': 0.05374939644895494, 'time_step': 0.0007359511852264404, 'rollout_return': 1.19792721480274, 'evaluation': 1.5880596757262628} step=51000\n",
      "2023-01-29 21:20.18 [info     ] Model parameters are saved to d3rlpy_logs/DoubleDQN_online_20230129211937/model_52000.pt\n",
      "2023-01-29 21:20.18 [info     ] DoubleDQN_online_20230129211937: epoch=52 step=52000 epoch=52 metrics={'time_inference': 0.00011395907402038574, 'time_environment_step': 2.0515680313110353e-05, 'time_sample_batch': 2.3843050003051757e-05, 'time_algorithm_update': 0.0005623173713684083, 'loss': 0.05184208501316607, 'time_step': 0.0007345101833343506, 'rollout_return': 1.285866674450787, 'evaluation': 1.7493126477268368} step=52000\n",
      "2023-01-29 21:20.18 [info     ] Model parameters are saved to d3rlpy_logs/DoubleDQN_online_20230129211937/model_53000.pt\n",
      "2023-01-29 21:20.18 [info     ] DoubleDQN_online_20230129211937: epoch=53 step=53000 epoch=53 metrics={'time_inference': 0.00011472272872924805, 'time_environment_step': 2.0583868026733397e-05, 'time_sample_batch': 2.401137351989746e-05, 'time_algorithm_update': 0.0005614495277404785, 'loss': 0.050599156338721515, 'time_step': 0.0007345728874206543, 'rollout_return': 1.2915906074275094, 'evaluation': 1.463654757367744} step=53000\n",
      "2023-01-29 21:20.19 [info     ] Model parameters are saved to d3rlpy_logs/DoubleDQN_online_20230129211937/model_54000.pt\n",
      "2023-01-29 21:20.19 [info     ] DoubleDQN_online_20230129211937: epoch=54 step=54000 epoch=54 metrics={'time_inference': 0.00011476469039916992, 'time_environment_step': 2.0641088485717774e-05, 'time_sample_batch': 2.441692352294922e-05, 'time_algorithm_update': 0.0007091493606567383, 'loss': 0.05006718286778778, 'time_step': 0.0008828759193420411, 'rollout_return': 1.3728874803073328, 'evaluation': 1.5390323430149677} step=54000\n",
      "2023-01-29 21:20.20 [info     ] Model parameters are saved to d3rlpy_logs/DoubleDQN_online_20230129211937/model_55000.pt\n",
      "2023-01-29 21:20.20 [info     ] DoubleDQN_online_20230129211937: epoch=55 step=55000 epoch=55 metrics={'time_inference': 0.0001136612892150879, 'time_environment_step': 2.0443201065063478e-05, 'time_sample_batch': 2.415943145751953e-05, 'time_algorithm_update': 0.0005573277473449707, 'loss': 0.048961398148909215, 'time_step': 0.0007293562889099121, 'rollout_return': 1.2829073482940792, 'evaluation': 1.5225639787312315} step=55000\n",
      "2023-01-29 21:20.21 [info     ] Model parameters are saved to d3rlpy_logs/DoubleDQN_online_20230129211937/model_56000.pt\n",
      "2023-01-29 21:20.21 [info     ] DoubleDQN_online_20230129211937: epoch=56 step=56000 epoch=56 metrics={'time_inference': 0.00011390995979309083, 'time_environment_step': 2.0545721054077148e-05, 'time_sample_batch': 2.4248838424682616e-05, 'time_algorithm_update': 0.0005590677261352539, 'loss': 0.04762972540408373, 'time_step': 0.0007315390110015869, 'rollout_return': 1.4000978665027861, 'evaluation': 1.8424188438203852} step=56000\n",
      "2023-01-29 21:20.22 [info     ] Model parameters are saved to d3rlpy_logs/DoubleDQN_online_20230129211937/model_57000.pt\n",
      "2023-01-29 21:20.22 [info     ] DoubleDQN_online_20230129211937: epoch=57 step=57000 epoch=57 metrics={'time_inference': 0.00011535382270812988, 'time_environment_step': 2.083277702331543e-05, 'time_sample_batch': 2.4543523788452148e-05, 'time_algorithm_update': 0.000567941427230835, 'loss': 0.04851303765829652, 'time_step': 0.0007426934242248535, 'rollout_return': 1.5098283838062707, 'evaluation': 1.3354573304442856} step=57000\n",
      "2023-01-29 21:20.23 [info     ] Model parameters are saved to d3rlpy_logs/DoubleDQN_online_20230129211937/model_58000.pt\n",
      "2023-01-29 21:20.23 [info     ] DoubleDQN_online_20230129211937: epoch=58 step=58000 epoch=58 metrics={'time_inference': 0.00025287961959838867, 'time_environment_step': 4.85231876373291e-05, 'time_sample_batch': 5.453681945800781e-05, 'time_algorithm_update': 0.0011239271163940429, 'loss': 0.049002740284428, 'time_step': 0.0015161213874816894, 'rollout_return': 1.416844492199091, 'evaluation': 1.5368779317479033} step=58000\n",
      "2023-01-29 21:20.24 [info     ] Model parameters are saved to d3rlpy_logs/DoubleDQN_online_20230129211937/model_59000.pt\n",
      "2023-01-29 21:20.24 [info     ] DoubleDQN_online_20230129211937: epoch=59 step=59000 epoch=59 metrics={'time_inference': 0.00012202739715576172, 'time_environment_step': 2.2303342819213866e-05, 'time_sample_batch': 2.704000473022461e-05, 'time_algorithm_update': 0.0005983028411865234, 'loss': 0.05069294145517051, 'time_step': 0.0007846784591674804, 'rollout_return': 1.3911356724334656, 'evaluation': 1.6655114847425239} step=59000\n",
      "2023-01-29 21:20.25 [info     ] Model parameters are saved to d3rlpy_logs/DoubleDQN_online_20230129211937/model_60000.pt\n",
      "2023-01-29 21:20.25 [info     ] DoubleDQN_online_20230129211937: epoch=60 step=60000 epoch=60 metrics={'time_inference': 0.00011415457725524902, 'time_environment_step': 2.0589590072631835e-05, 'time_sample_batch': 2.4106979370117186e-05, 'time_algorithm_update': 0.000560291051864624, 'loss': 0.050843659322708845, 'time_step': 0.0007330505847930909, 'rollout_return': 1.5216499727244233, 'evaluation': 1.2863590843520851} step=60000\n",
      "2023-01-29 21:20.25 [info     ] Model parameters are saved to d3rlpy_logs/DoubleDQN_online_20230129211937/model_61000.pt\n",
      "2023-01-29 21:20.25 [info     ] DoubleDQN_online_20230129211937: epoch=61 step=61000 epoch=61 metrics={'time_inference': 0.00011576604843139648, 'time_environment_step': 2.078557014465332e-05, 'time_sample_batch': 2.4884700775146483e-05, 'time_algorithm_update': 0.0005658600330352783, 'loss': 0.05151595519389957, 'time_step': 0.0007412552833557129, 'rollout_return': 1.457342696743673, 'evaluation': 1.6986724211896367} step=61000\n",
      "2023-01-29 21:20.26 [info     ] Model parameters are saved to d3rlpy_logs/DoubleDQN_online_20230129211937/model_62000.pt\n",
      "2023-01-29 21:20.26 [info     ] DoubleDQN_online_20230129211937: epoch=62 step=62000 epoch=62 metrics={'time_inference': 0.00011612153053283691, 'time_environment_step': 2.09348201751709e-05, 'time_sample_batch': 2.5099039077758788e-05, 'time_algorithm_update': 0.0005704624652862549, 'loss': 0.05404038562811911, 'time_step': 0.000746849775314331, 'rollout_return': 1.4330933472972762, 'evaluation': 1.5303990828832865} step=62000\n",
      "2023-01-29 21:20.27 [info     ] Model parameters are saved to d3rlpy_logs/DoubleDQN_online_20230129211937/model_63000.pt\n",
      "2023-01-29 21:20.27 [info     ] DoubleDQN_online_20230129211937: epoch=63 step=63000 epoch=63 metrics={'time_inference': 0.00011410117149353027, 'time_environment_step': 2.0640134811401367e-05, 'time_sample_batch': 2.4312734603881835e-05, 'time_algorithm_update': 0.0005619421005249024, 'loss': 0.05470543041266501, 'time_step': 0.0007349667549133301, 'rollout_return': 1.2993508049233364, 'evaluation': 1.301090246391385} step=63000\n",
      "2023-01-29 21:20.28 [info     ] Model parameters are saved to d3rlpy_logs/DoubleDQN_online_20230129211937/model_64000.pt\n",
      "2023-01-29 21:20.28 [info     ] DoubleDQN_online_20230129211937: epoch=64 step=64000 epoch=64 metrics={'time_inference': 0.00011413288116455079, 'time_environment_step': 2.060246467590332e-05, 'time_sample_batch': 2.4183034896850585e-05, 'time_algorithm_update': 0.0005616967678070069, 'loss': 0.05393421793356538, 'time_step': 0.0007344257831573487, 'rollout_return': 1.3579203215983084, 'evaluation': 1.6624100288970833} step=64000\n",
      "2023-01-29 21:20.28 [info     ] Model parameters are saved to d3rlpy_logs/DoubleDQN_online_20230129211937/model_65000.pt\n",
      "2023-01-29 21:20.28 [info     ] DoubleDQN_online_20230129211937: epoch=65 step=65000 epoch=65 metrics={'time_inference': 0.00011432170867919922, 'time_environment_step': 2.0539283752441405e-05, 'time_sample_batch': 2.4285078048706053e-05, 'time_algorithm_update': 0.0005620315074920655, 'loss': 0.0519379153707996, 'time_step': 0.0007349021434783935, 'rollout_return': 1.3105034951850358, 'evaluation': 1.322262515072297} step=65000\n",
      "2023-01-29 21:20.29 [info     ] Model parameters are saved to d3rlpy_logs/DoubleDQN_online_20230129211937/model_66000.pt\n",
      "2023-01-29 21:20.29 [info     ] DoubleDQN_online_20230129211937: epoch=66 step=66000 epoch=66 metrics={'time_inference': 0.00011455559730529785, 'time_environment_step': 2.0706892013549804e-05, 'time_sample_batch': 2.4619340896606444e-05, 'time_algorithm_update': 0.0005626325607299804, 'loss': 0.05403008442837745, 'time_step': 0.0007363507747650146, 'rollout_return': 1.4153396282437378, 'evaluation': 1.6814614249460837} step=66000\n",
      "2023-01-29 21:20.30 [info     ] Model parameters are saved to d3rlpy_logs/DoubleDQN_online_20230129211937/model_67000.pt\n",
      "2023-01-29 21:20.30 [info     ] DoubleDQN_online_20230129211937: epoch=67 step=67000 epoch=67 metrics={'time_inference': 0.00012657690048217774, 'time_environment_step': 2.269577980041504e-05, 'time_sample_batch': 2.9734134674072265e-05, 'time_algorithm_update': 0.0006187999248504639, 'loss': 0.052859587445855144, 'time_step': 0.0008132269382476806, 'rollout_return': 1.495874928884134, 'evaluation': 1.2471408826566095} step=67000\n",
      "2023-01-29 21:20.31 [info     ] Model parameters are saved to d3rlpy_logs/DoubleDQN_online_20230129211937/model_68000.pt\n",
      "2023-01-29 21:20.31 [info     ] DoubleDQN_online_20230129211937: epoch=68 step=68000 epoch=68 metrics={'time_inference': 0.00013575983047485352, 'time_environment_step': 2.492499351501465e-05, 'time_sample_batch': 3.2265186309814456e-05, 'time_algorithm_update': 0.000651982307434082, 'loss': 0.053149339389055965, 'time_step': 0.0008619465827941895, 'rollout_return': 1.3870961585022585, 'evaluation': 1.5759654767432736} step=68000\n",
      "2023-01-29 21:20.32 [info     ] Model parameters are saved to d3rlpy_logs/DoubleDQN_online_20230129211937/model_69000.pt\n",
      "2023-01-29 21:20.32 [info     ] DoubleDQN_online_20230129211937: epoch=69 step=69000 epoch=69 metrics={'time_inference': 0.00013428068161010744, 'time_environment_step': 2.3965120315551757e-05, 'time_sample_batch': 2.930879592895508e-05, 'time_algorithm_update': 0.0006336822509765626, 'loss': 0.053041474636644124, 'time_step': 0.000837949275970459, 'rollout_return': 1.3006492239667986, 'evaluation': 1.2491781327679745} step=69000\n",
      "2023-01-29 21:20.33 [info     ] Model parameters are saved to d3rlpy_logs/DoubleDQN_online_20230129211937/model_70000.pt\n",
      "2023-01-29 21:20.33 [info     ] DoubleDQN_online_20230129211937: epoch=70 step=70000 epoch=70 metrics={'time_inference': 0.0001209728717803955, 'time_environment_step': 2.1512985229492187e-05, 'time_sample_batch': 2.641463279724121e-05, 'time_algorithm_update': 0.0005979287624359131, 'loss': 0.053271445648744704, 'time_step': 0.0007815077304840088, 'rollout_return': 1.4603157032326193, 'evaluation': 1.864284741139273} step=70000\n",
      "2023-01-29 21:20.33 [info     ] Model parameters are saved to d3rlpy_logs/DoubleDQN_online_20230129211937/model_71000.pt\n",
      "2023-01-29 21:20.33 [info     ] DoubleDQN_online_20230129211937: epoch=71 step=71000 epoch=71 metrics={'time_inference': 0.00011575913429260254, 'time_environment_step': 2.0707368850708006e-05, 'time_sample_batch': 2.5188684463500977e-05, 'time_algorithm_update': 0.0005640361309051514, 'loss': 0.05355137158650905, 'time_step': 0.0007396588325500488, 'rollout_return': 1.3683745566046148, 'evaluation': 1.341275496023271} step=71000\n",
      "2023-01-29 21:20.34 [info     ] Model parameters are saved to d3rlpy_logs/DoubleDQN_online_20230129211937/model_72000.pt\n",
      "2023-01-29 21:20.34 [info     ] DoubleDQN_online_20230129211937: epoch=72 step=72000 epoch=72 metrics={'time_inference': 0.0001159815788269043, 'time_environment_step': 2.0967721939086912e-05, 'time_sample_batch': 2.5706052780151368e-05, 'time_algorithm_update': 0.0005678863525390625, 'loss': 0.05150315157324076, 'time_step': 0.0007446241378784179, 'rollout_return': 1.3529456387765617, 'evaluation': 1.6673956132854442} step=72000\n",
      "2023-01-29 21:20.35 [info     ] Model parameters are saved to d3rlpy_logs/DoubleDQN_online_20230129211937/model_73000.pt\n",
      "2023-01-29 21:20.35 [info     ] DoubleDQN_online_20230129211937: epoch=73 step=73000 epoch=73 metrics={'time_inference': 0.00011519670486450196, 'time_environment_step': 2.074551582336426e-05, 'time_sample_batch': 2.4538278579711916e-05, 'time_algorithm_update': 0.0005638437271118164, 'loss': 0.050138453155756, 'time_step': 0.0007382185459136963, 'rollout_return': 1.2964980561260133, 'evaluation': 1.4820806424802906} step=73000\n",
      "2023-01-29 21:20.36 [info     ] Model parameters are saved to d3rlpy_logs/DoubleDQN_online_20230129211937/model_74000.pt\n",
      "2023-01-29 21:20.36 [info     ] DoubleDQN_online_20230129211937: epoch=74 step=74000 epoch=74 metrics={'time_inference': 0.00011499476432800292, 'time_environment_step': 2.0756959915161134e-05, 'time_sample_batch': 2.4430990219116212e-05, 'time_algorithm_update': 0.0005646693706512451, 'loss': 0.050672270046547056, 'time_step': 0.0007387368679046631, 'rollout_return': 1.347738907385351, 'evaluation': 1.6554870788874143} step=74000\n",
      "2023-01-29 21:20.36 [info     ] Model parameters are saved to d3rlpy_logs/DoubleDQN_online_20230129211937/model_75000.pt\n",
      "2023-01-29 21:20.36 [info     ] DoubleDQN_online_20230129211937: epoch=75 step=75000 epoch=75 metrics={'time_inference': 0.00011524844169616699, 'time_environment_step': 2.070426940917969e-05, 'time_sample_batch': 2.4884700775146483e-05, 'time_algorithm_update': 0.0005644633769989014, 'loss': 0.05088055373169482, 'time_step': 0.000739203929901123, 'rollout_return': 1.289326400565591, 'evaluation': 1.3795495864702256} step=75000\n",
      "2023-01-29 21:20.37 [info     ] Model parameters are saved to d3rlpy_logs/DoubleDQN_online_20230129211937/model_76000.pt\n",
      "2023-01-29 21:20.37 [info     ] DoubleDQN_online_20230129211937: epoch=76 step=76000 epoch=76 metrics={'time_inference': 0.00011458086967468261, 'time_environment_step': 2.0595788955688478e-05, 'time_sample_batch': 2.426862716674805e-05, 'time_algorithm_update': 0.0005637052059173584, 'loss': 0.05099490537121892, 'time_step': 0.0007370638847351074, 'rollout_return': 1.3176874819661206, 'evaluation': 1.0508969315114238} step=76000\n",
      "2023-01-29 21:20.38 [info     ] Model parameters are saved to d3rlpy_logs/DoubleDQN_online_20230129211937/model_77000.pt\n",
      "2023-01-29 21:20.38 [info     ] DoubleDQN_online_20230129211937: epoch=77 step=77000 epoch=77 metrics={'time_inference': 0.00011373162269592285, 'time_environment_step': 2.073073387145996e-05, 'time_sample_batch': 2.4261474609375e-05, 'time_algorithm_update': 0.0005615031719207763, 'loss': 0.050693007648922504, 'time_step': 0.0007340800762176513, 'rollout_return': 1.2544761632877364, 'evaluation': 1.3932190540337104} step=77000\n",
      "2023-01-29 21:20.39 [info     ] Model parameters are saved to d3rlpy_logs/DoubleDQN_online_20230129211937/model_78000.pt\n",
      "2023-01-29 21:20.39 [info     ] DoubleDQN_online_20230129211937: epoch=78 step=78000 epoch=78 metrics={'time_inference': 0.00011472296714782715, 'time_environment_step': 2.052903175354004e-05, 'time_sample_batch': 2.4303674697875976e-05, 'time_algorithm_update': 0.0005616288185119628, 'loss': 0.05037249000556767, 'time_step': 0.000735107421875, 'rollout_return': 1.336254806896808, 'evaluation': 1.5031812947154926} step=78000\n",
      "2023-01-29 21:20.39 [info     ] Model parameters are saved to d3rlpy_logs/DoubleDQN_online_20230129211937/model_79000.pt\n",
      "2023-01-29 21:20.39 [info     ] DoubleDQN_online_20230129211937: epoch=79 step=79000 epoch=79 metrics={'time_inference': 0.00011352872848510742, 'time_environment_step': 2.059340476989746e-05, 'time_sample_batch': 2.4325847625732422e-05, 'time_algorithm_update': 0.0005605413913726807, 'loss': 0.048982161151245235, 'time_step': 0.000732853889465332, 'rollout_return': 1.279728352302727, 'evaluation': 1.531716998724899} step=79000\n",
      "2023-01-29 21:20.40 [info     ] Model parameters are saved to d3rlpy_logs/DoubleDQN_online_20230129211937/model_80000.pt\n",
      "2023-01-29 21:20.40 [info     ] DoubleDQN_online_20230129211937: epoch=80 step=80000 epoch=80 metrics={'time_inference': 0.00011372518539428711, 'time_environment_step': 2.0437240600585937e-05, 'time_sample_batch': 2.384519577026367e-05, 'time_algorithm_update': 0.0005600380897521972, 'loss': 0.0493569353595376, 'time_step': 0.0007318572998046875, 'rollout_return': 1.3300232419545586, 'evaluation': 1.2162140180122343} step=80000\n",
      "2023-01-29 21:20.41 [info     ] Model parameters are saved to d3rlpy_logs/DoubleDQN_online_20230129211937/model_81000.pt\n",
      "2023-01-29 21:20.41 [info     ] DoubleDQN_online_20230129211937: epoch=81 step=81000 epoch=81 metrics={'time_inference': 0.00012068581581115722, 'time_environment_step': 2.156233787536621e-05, 'time_sample_batch': 2.6717424392700197e-05, 'time_algorithm_update': 0.0005896329879760742, 'loss': 0.050893867518752814, 'time_step': 0.0007732348442077636, 'rollout_return': 1.2971087197403124, 'evaluation': 1.5397885175968822} step=81000\n",
      "2023-01-29 21:20.42 [info     ] Model parameters are saved to d3rlpy_logs/DoubleDQN_online_20230129211937/model_82000.pt\n",
      "2023-01-29 21:20.42 [info     ] DoubleDQN_online_20230129211937: epoch=82 step=82000 epoch=82 metrics={'time_inference': 0.00011418938636779785, 'time_environment_step': 2.048444747924805e-05, 'time_sample_batch': 2.4419307708740234e-05, 'time_algorithm_update': 0.0005617878437042237, 'loss': 0.04957259296439588, 'time_step': 0.0007347168922424317, 'rollout_return': 1.3779858976969774, 'evaluation': 1.5728978175591135} step=82000\n",
      "2023-01-29 21:20.43 [info     ] Model parameters are saved to d3rlpy_logs/DoubleDQN_online_20230129211937/model_83000.pt\n",
      "2023-01-29 21:20.43 [info     ] DoubleDQN_online_20230129211937: epoch=83 step=83000 epoch=83 metrics={'time_inference': 0.00011940932273864746, 'time_environment_step': 2.1233081817626955e-05, 'time_sample_batch': 2.60164737701416e-05, 'time_algorithm_update': 0.0005884280204772949, 'loss': 0.049948067685589195, 'time_step': 0.0007695753574371338, 'rollout_return': 1.3831653144956033, 'evaluation': 1.4662783540611926} step=83000\n",
      "2023-01-29 21:20.43 [info     ] Model parameters are saved to d3rlpy_logs/DoubleDQN_online_20230129211937/model_84000.pt\n",
      "2023-01-29 21:20.43 [info     ] DoubleDQN_online_20230129211937: epoch=84 step=84000 epoch=84 metrics={'time_inference': 0.00011449742317199708, 'time_environment_step': 2.0583629608154298e-05, 'time_sample_batch': 2.4654865264892577e-05, 'time_algorithm_update': 0.0005625925064086915, 'loss': 0.05163161923922598, 'time_step': 0.0007362148761749268, 'rollout_return': 1.3532850501495286, 'evaluation': 1.276875691907019} step=84000\n",
      "2023-01-29 21:20.44 [info     ] Model parameters are saved to d3rlpy_logs/DoubleDQN_online_20230129211937/model_85000.pt\n",
      "2023-01-29 21:20.44 [info     ] DoubleDQN_online_20230129211937: epoch=85 step=85000 epoch=85 metrics={'time_inference': 0.00011452960968017578, 'time_environment_step': 2.0551443099975585e-05, 'time_sample_batch': 2.418804168701172e-05, 'time_algorithm_update': 0.0005609130859375, 'loss': 0.05169366164878011, 'time_step': 0.0007339575290679931, 'rollout_return': 1.3304757228221493, 'evaluation': 1.1916766574031077} step=85000\n",
      "2023-01-29 21:20.45 [info     ] Model parameters are saved to d3rlpy_logs/DoubleDQN_online_20230129211937/model_86000.pt\n",
      "2023-01-29 21:20.45 [info     ] DoubleDQN_online_20230129211937: epoch=86 step=86000 epoch=86 metrics={'time_inference': 0.00011452555656433106, 'time_environment_step': 2.0595312118530272e-05, 'time_sample_batch': 2.419781684875488e-05, 'time_algorithm_update': 0.0005613212585449218, 'loss': 0.05148176186531782, 'time_step': 0.0007344300746917724, 'rollout_return': 1.4692212589689675, 'evaluation': 1.0214006072332633} step=86000\n",
      "2023-01-29 21:20.46 [info     ] Model parameters are saved to d3rlpy_logs/DoubleDQN_online_20230129211937/model_87000.pt\n",
      "2023-01-29 21:20.46 [info     ] DoubleDQN_online_20230129211937: epoch=87 step=87000 epoch=87 metrics={'time_inference': 0.00011760401725769043, 'time_environment_step': 2.1090030670166015e-05, 'time_sample_batch': 2.5099754333496093e-05, 'time_algorithm_update': 0.0005724718570709229, 'loss': 0.051380523754283786, 'time_step': 0.00075046968460083, 'rollout_return': 1.3628840058553169, 'evaluation': 1.726884919323267} step=87000\n",
      "2023-01-29 21:20.46 [info     ] Model parameters are saved to d3rlpy_logs/DoubleDQN_online_20230129211937/model_88000.pt\n",
      "2023-01-29 21:20.46 [info     ] DoubleDQN_online_20230129211937: epoch=88 step=88000 epoch=88 metrics={'time_inference': 0.00011459946632385254, 'time_environment_step': 2.06296443939209e-05, 'time_sample_batch': 2.4527788162231444e-05, 'time_algorithm_update': 0.0005638306140899658, 'loss': 0.052467519057914615, 'time_step': 0.0007375881671905517, 'rollout_return': 1.4691993318026433, 'evaluation': 1.4859578854305007} step=88000\n",
      "2023-01-29 21:20.47 [info     ] Model parameters are saved to d3rlpy_logs/DoubleDQN_online_20230129211937/model_89000.pt\n",
      "2023-01-29 21:20.47 [info     ] DoubleDQN_online_20230129211937: epoch=89 step=89000 epoch=89 metrics={'time_inference': 0.00011446213722229004, 'time_environment_step': 2.0515918731689452e-05, 'time_sample_batch': 2.429342269897461e-05, 'time_algorithm_update': 0.0005619397163391113, 'loss': 0.05254169736709446, 'time_step': 0.0007350041866302491, 'rollout_return': 1.497350023275587, 'evaluation': 1.7575332906740226} step=89000\n",
      "2023-01-29 21:20.48 [info     ] Model parameters are saved to d3rlpy_logs/DoubleDQN_online_20230129211937/model_90000.pt\n",
      "2023-01-29 21:20.48 [info     ] DoubleDQN_online_20230129211937: epoch=90 step=90000 epoch=90 metrics={'time_inference': 0.00011472439765930176, 'time_environment_step': 2.0490407943725585e-05, 'time_sample_batch': 2.4129390716552735e-05, 'time_algorithm_update': 0.0005616891384124756, 'loss': 0.05270565991848707, 'time_step': 0.0007347829341888427, 'rollout_return': 1.4586298285749348, 'evaluation': 1.484410789553925} step=90000\n",
      "2023-01-29 21:20.49 [info     ] Model parameters are saved to d3rlpy_logs/DoubleDQN_online_20230129211937/model_91000.pt\n",
      "2023-01-29 21:20.49 [info     ] DoubleDQN_online_20230129211937: epoch=91 step=91000 epoch=91 metrics={'time_inference': 0.00011459517478942871, 'time_environment_step': 2.057933807373047e-05, 'time_sample_batch': 2.4213790893554688e-05, 'time_algorithm_update': 0.0005613777637481689, 'loss': 0.05152490409091115, 'time_step': 0.0007345855236053466, 'rollout_return': 1.5014094093235635, 'evaluation': 1.7941686911191734} step=91000\n",
      "2023-01-29 21:20.49 [info     ] Model parameters are saved to d3rlpy_logs/DoubleDQN_online_20230129211937/model_92000.pt\n",
      "2023-01-29 21:20.49 [info     ] DoubleDQN_online_20230129211937: epoch=92 step=92000 epoch=92 metrics={'time_inference': 0.00011398911476135254, 'time_environment_step': 2.0539045333862306e-05, 'time_sample_batch': 2.4263620376586915e-05, 'time_algorithm_update': 0.0005621891021728516, 'loss': 0.052479637114331124, 'time_step': 0.0007347524166107178, 'rollout_return': 1.316905296941129, 'evaluation': 1.7853073355697835} step=92000\n",
      "2023-01-29 21:20.50 [info     ] Model parameters are saved to d3rlpy_logs/DoubleDQN_online_20230129211937/model_93000.pt\n",
      "2023-01-29 21:20.50 [info     ] DoubleDQN_online_20230129211937: epoch=93 step=93000 epoch=93 metrics={'time_inference': 0.0001138916015625, 'time_environment_step': 2.042388916015625e-05, 'time_sample_batch': 2.411031723022461e-05, 'time_algorithm_update': 0.0005580117702484131, 'loss': 0.05375540579110384, 'time_step': 0.0007301983833312988, 'rollout_return': 1.3427768464264442, 'evaluation': 1.3278052557536313} step=93000\n",
      "2023-01-29 21:20.51 [info     ] Model parameters are saved to d3rlpy_logs/DoubleDQN_online_20230129211937/model_94000.pt\n",
      "2023-01-29 21:20.51 [info     ] DoubleDQN_online_20230129211937: epoch=94 step=94000 epoch=94 metrics={'time_inference': 0.00011472749710083008, 'time_environment_step': 2.047133445739746e-05, 'time_sample_batch': 2.4259090423583984e-05, 'time_algorithm_update': 0.0005613069534301758, 'loss': 0.05573142586275935, 'time_step': 0.000734595537185669, 'rollout_return': 1.375116142923781, 'evaluation': 1.5400587192852855} step=94000\n",
      "2023-01-29 21:20.52 [info     ] Model parameters are saved to d3rlpy_logs/DoubleDQN_online_20230129211937/model_95000.pt\n",
      "2023-01-29 21:20.52 [info     ] DoubleDQN_online_20230129211937: epoch=95 step=95000 epoch=95 metrics={'time_inference': 0.00011380743980407715, 'time_environment_step': 2.045917510986328e-05, 'time_sample_batch': 2.4182558059692383e-05, 'time_algorithm_update': 0.0005605025291442871, 'loss': 0.05518109802156687, 'time_step': 0.0007327117919921875, 'rollout_return': 1.2966451064209963, 'evaluation': 1.707724442015293} step=95000\n",
      "2023-01-29 21:20.52 [info     ] Model parameters are saved to d3rlpy_logs/DoubleDQN_online_20230129211937/model_96000.pt\n",
      "2023-01-29 21:20.52 [info     ] DoubleDQN_online_20230129211937: epoch=96 step=96000 epoch=96 metrics={'time_inference': 0.00011387920379638672, 'time_environment_step': 2.0551204681396483e-05, 'time_sample_batch': 2.4226903915405272e-05, 'time_algorithm_update': 0.0005610907077789307, 'loss': 0.05442540459427982, 'time_step': 0.0007335894107818603, 'rollout_return': 1.3555150864601375, 'evaluation': 1.7602112480098095} step=96000\n",
      "2023-01-29 21:20.53 [info     ] Model parameters are saved to d3rlpy_logs/DoubleDQN_online_20230129211937/model_97000.pt\n",
      "2023-01-29 21:20.53 [info     ] DoubleDQN_online_20230129211937: epoch=97 step=97000 epoch=97 metrics={'time_inference': 0.00011450004577636719, 'time_environment_step': 2.0471572875976564e-05, 'time_sample_batch': 2.427840232849121e-05, 'time_algorithm_update': 0.00056227707862854, 'loss': 0.05475108272768557, 'time_step': 0.0007353551387786865, 'rollout_return': 1.3123981273935938, 'evaluation': 1.5976699603012965} step=97000\n",
      "2023-01-29 21:20.54 [info     ] Model parameters are saved to d3rlpy_logs/DoubleDQN_online_20230129211937/model_98000.pt\n",
      "2023-01-29 21:20.54 [info     ] DoubleDQN_online_20230129211937: epoch=98 step=98000 epoch=98 metrics={'time_inference': 0.0001158449649810791, 'time_environment_step': 2.0937204360961912e-05, 'time_sample_batch': 2.4534702301025392e-05, 'time_algorithm_update': 0.0005678012371063232, 'loss': 0.053242134016007185, 'time_step': 0.0007432410717010498, 'rollout_return': 1.3135475678889128, 'evaluation': 1.8543400657421962} step=98000\n",
      "2023-01-29 21:20.55 [info     ] Model parameters are saved to d3rlpy_logs/DoubleDQN_online_20230129211937/model_99000.pt\n",
      "2023-01-29 21:20.55 [info     ] DoubleDQN_online_20230129211937: epoch=99 step=99000 epoch=99 metrics={'time_inference': 0.00011472415924072265, 'time_environment_step': 2.054929733276367e-05, 'time_sample_batch': 2.4222373962402345e-05, 'time_algorithm_update': 0.0005600364208221436, 'loss': 0.051641823512502016, 'time_step': 0.0007333049774169922, 'rollout_return': 1.3827123860865482, 'evaluation': 1.5398287661222008} step=99000\n",
      "2023-01-29 21:20.55 [info     ] Model parameters are saved to d3rlpy_logs/DoubleDQN_online_20230129211937/model_100000.pt\n",
      "2023-01-29 21:20.55 [info     ] DoubleDQN_online_20230129211937: epoch=100 step=100000 epoch=100 metrics={'time_inference': 0.00011476016044616699, 'time_environment_step': 2.0581007003784178e-05, 'time_sample_batch': 2.4335861206054688e-05, 'time_algorithm_update': 0.0005623905658721924, 'loss': 0.0519536749292165, 'time_step': 0.0007358553409576416, 'rollout_return': 1.3467981399841447, 'evaluation': 1.4819775847364078} step=100000\n"
     ]
    }
   ],
   "source": [
    "# start training\n",
    "# skip if there is a pre-trained model\n",
    "ddqn.fit_online(\n",
    "    env_,\n",
    "    buffer,\n",
    "    explorer=explorer,\n",
    "    eval_env=env_,\n",
    "    n_steps=100000,\n",
    "    n_steps_per_epoch=1000,\n",
    "    update_start_step=1000,\n",
    ")"
   ]
  },
  {
   "cell_type": "code",
   "execution_count": 148,
   "metadata": {},
   "outputs": [],
   "source": [
    "# save model\n",
    "ddqn.save_model(\"d3rlpy_logs/ddqn.pt\")"
   ]
  },
  {
   "cell_type": "code",
   "execution_count": 149,
   "metadata": {},
   "outputs": [
    {
     "name": "stdout",
     "output_type": "stream",
     "text": [
      "2023-01-29 21:20.55 [warning  ] Parameters will be reinitialized.\n"
     ]
    }
   ],
   "source": [
    "# reload model\n",
    "ddqn.build_with_env(env)\n",
    "ddqn.load_model(\"d3rlpy_logs/ddqn.pt\")"
   ]
  },
  {
   "attachments": {},
   "cell_type": "markdown",
   "metadata": {},
   "source": [
    "### 1.1. Epsilon-Greedy behavior policy\n",
    "\n",
    "Let's now convert the deterministic policy (i.e., ddqn policy) into a stochastic behavior policy.\n",
    "\n",
    "We use epsilon-greedy policy to collect logged data using `DiscreteEpsilonGreedyHead`, where the behavior policy greedily takes an action chosen by the deterministic policy with probability $1 - \\epsilon$ and takes an action randomly with probability $\\epsilon$.\n",
    "\n",
    "Note that, `SyntheticDataset` has the following arguments:\n",
    "- `env`: REC environment for RL defined in the previous section.\n",
    "- `max_episode_steps`: Maximum number of timesteps in an episode."
   ]
  },
  {
   "cell_type": "code",
   "execution_count": 150,
   "metadata": {},
   "outputs": [],
   "source": [
    "# convert the base ddqn policy into a stochastic data collection policy\n",
    "from ofrl.policy import DiscreteEpsilonGreedyHead\n",
    "\n",
    "behavior_policy = DiscreteEpsilonGreedyHead(\n",
    "    ddqn, \n",
    "    n_actions=env.action_space.n,\n",
    "    epsilon=0.3,  # probability of taking random action\n",
    "    name=\"ddqn_epsilon_0.3\",\n",
    "    random_state=random_state,\n",
    ")"
   ]
  },
  {
   "cell_type": "code",
   "execution_count": 151,
   "metadata": {},
   "outputs": [
    {
     "data": {
      "application/vnd.jupyter.widget-view+json": {
       "model_id": "d2ccce4cc09f407592accb7ce173f6db",
       "version_major": 2,
       "version_minor": 0
      },
      "text/plain": [
       "[obtain_trajectories]:   0%|          | 0/10000 [00:00<?, ?it/s]"
      ]
     },
     "metadata": {},
     "output_type": "display_data"
    }
   ],
   "source": [
    "# collect data\n",
    "dataset = SyntheticDataset(\n",
    "    env=env,\n",
    "    max_episode_steps=env.step_per_episode,\n",
    ")\n",
    "logged_dataset = dataset.obtain_episodes(\n",
    "    behavior_policies=behavior_policy,\n",
    "    n_trajectories=10000, \n",
    "    obtain_info=False,\n",
    "    random_state=random_state,\n",
    ")"
   ]
  },
  {
   "cell_type": "code",
   "execution_count": 152,
   "metadata": {},
   "outputs": [
    {
     "data": {
      "text/plain": [
       "{'size': 100000,\n",
       " 'n_trajectories': 10000,\n",
       " 'step_per_trajectory': 10,\n",
       " 'action_type': 'discrete',\n",
       " 'n_actions': 100,\n",
       " 'action_dim': None,\n",
       " 'action_meaning': None,\n",
       " 'action_keys': None,\n",
       " 'state_dim': 5,\n",
       " 'state_keys': None,\n",
       " 'state': array([[ 0.04479014,  0.11492637, -0.05131316, -0.0280654 ,  0.0347718 ],\n",
       "        [ 0.29225886,  0.81700055, -0.3737091 , -0.19816572,  0.26108757],\n",
       "        [ 0.29495389,  0.81726265, -0.36698422, -0.19923961,  0.26591375],\n",
       "        ...,\n",
       "        [-0.02714754, -0.2751157 ,  0.76551473, -0.39444382, -0.42658603],\n",
       "        [-0.00305992, -0.28838619,  0.76296553, -0.37898356, -0.43712596],\n",
       "        [ 0.02112386, -0.30138496,  0.75955249, -0.36303955, -0.44721717]]),\n",
       " 'action': array([13,  1, 56, ..., 13, 13, 13]),\n",
       " 'reward': array([-0.02007313, -0.06804949,  0.13054289, ...,  0.17424734,\n",
       "         0.18073319,  0.1870417 ]),\n",
       " 'done': array([0., 0., 0., ..., 0., 0., 1.]),\n",
       " 'terminal': array([0., 0., 0., ..., 0., 0., 1.]),\n",
       " 'info': {},\n",
       " 'pscore': array([0.703, 0.003, 0.703, ..., 0.703, 0.703, 0.703]),\n",
       " 'behavior_policy': 'ddqn_epsilon_0.3',\n",
       " 'dataset_id': 0}"
      ]
     },
     "execution_count": 152,
     "metadata": {},
     "output_type": "execute_result"
    }
   ],
   "source": [
    "logged_dataset"
   ]
  },
  {
   "cell_type": "markdown",
   "metadata": {},
   "source": [
    "### 1.2. Softmax behavior policy\n",
    "We can also use `DiscreteSoftmaxHead` to derive a stochastic behavior policy.\n",
    "\n",
    "This algorithm uses Q function of the original algorithm, which estimates the value of a given context and action pair (i.e., $(s, a)$) as $Q(s, a)$. \\\n",
    "Specifically, the behavior policy chooses actions stochastically as $\\pi(a \\mid s) = \\frac{\\exp(Q(s, a) / \\tau)}{\\sum_{a' \\in A} \\exp(Q(s, a') / \\tau)}$, where $A$ indicates the set discrete actions and $\\tau$ is an inverse temperature parameter."
   ]
  },
  {
   "cell_type": "code",
   "execution_count": 153,
   "metadata": {},
   "outputs": [],
   "source": [
    "# convert base ddqn policy into a stochastic data collection policy\n",
    "from ofrl.policy import DiscreteSoftmaxHead\n",
    "\n",
    "behavior_policy = DiscreteSoftmaxHead(\n",
    "    ddqn, \n",
    "    n_actions=env.action_space.n,\n",
    "    tau=1.0,  # temperature parameter\n",
    "    name=\"ddqn_softmax_tau_1.0\",\n",
    "    random_state=random_state,\n",
    ")"
   ]
  },
  {
   "cell_type": "code",
   "execution_count": 154,
   "metadata": {},
   "outputs": [
    {
     "data": {
      "application/vnd.jupyter.widget-view+json": {
       "model_id": "f43593c6ed884756b5121f9745ca252c",
       "version_major": 2,
       "version_minor": 0
      },
      "text/plain": [
       "[obtain_trajectories]:   0%|          | 0/10000 [00:00<?, ?it/s]"
      ]
     },
     "metadata": {},
     "output_type": "display_data"
    }
   ],
   "source": [
    "# collect data\n",
    "dataset = SyntheticDataset(\n",
    "    env=env,\n",
    "    max_episode_steps=env.step_per_episode,\n",
    ")\n",
    "logged_dataset = dataset.obtain_episodes(\n",
    "    behavior_policies=behavior_policy, \n",
    "    n_trajectories=10000, \n",
    "    obtain_info=False,\n",
    "    random_state=random_state,\n",
    ")"
   ]
  },
  {
   "cell_type": "code",
   "execution_count": 155,
   "metadata": {},
   "outputs": [
    {
     "data": {
      "text/plain": [
       "{'size': 100000,\n",
       " 'n_trajectories': 10000,\n",
       " 'step_per_trajectory': 10,\n",
       " 'action_type': 'discrete',\n",
       " 'n_actions': 100,\n",
       " 'action_dim': None,\n",
       " 'action_meaning': None,\n",
       " 'action_keys': None,\n",
       " 'state_dim': 5,\n",
       " 'state_keys': None,\n",
       " 'state': array([[ 0.04479014,  0.11492637, -0.05131316, -0.0280654 ,  0.0347718 ],\n",
       "        [ 0.32747688,  0.81742899, -0.35620633, -0.19460325,  0.24457179],\n",
       "        [ 0.31881905,  0.82013443, -0.35614103, -0.19853796,  0.24388558],\n",
       "        ...,\n",
       "        [-0.10960747, -0.24220769,  0.7781889 , -0.43876604, -0.36225411],\n",
       "        [-0.1086413 , -0.24031048,  0.77961738, -0.43924655, -0.36014879],\n",
       "        [-0.12047702, -0.23580407,  0.78589788, -0.42430422, -0.36360993]]),\n",
       " 'action': array([26, 82, 96, ..., 12, 73, 73]),\n",
       " 'reward': array([ 0.02345876, -0.071049  , -0.05870125, ..., -0.03161836,\n",
       "        -0.13715744, -0.14035982]),\n",
       " 'done': array([0., 0., 0., ..., 0., 0., 1.]),\n",
       " 'terminal': array([0., 0., 0., ..., 0., 0., 1.]),\n",
       " 'info': {},\n",
       " 'pscore': array([0.01045282, 0.00985489, 0.00923797, ..., 0.00877846, 0.00969168,\n",
       "        0.00968177]),\n",
       " 'behavior_policy': 'ddqn_softmax_tau_1.0',\n",
       " 'dataset_id': 0}"
      ]
     },
     "execution_count": 155,
     "metadata": {},
     "output_type": "execute_result"
    }
   ],
   "source": [
    "logged_dataset"
   ]
  },
  {
   "attachments": {},
   "cell_type": "markdown",
   "metadata": {},
   "source": [
    "For offline RL and OPE procedures, please refer to [examples/quickstart/rec_synthetic_discrete_basic.ipynb](https://github.com/negocia-inc/rec_reinforcement_learing/blob/master/examples/quickstart/rec_synthetic_discrete_basic.ipynb).\n",
    "\n",
    "For more advanced topic in OPE and OPS, please refer to [examples/quickstart/rec_synthetic_discrete_advanced.ipynb](https://github.com/negocia-inc/rec_reinforcement_learing/blob/ope/examples/quickstart/rec_synthetic_discrete_advanced.ipynb)."
   ]
  },
  {
   "attachments": {},
   "cell_type": "markdown",
   "metadata": {},
   "source": [
    "## Reference\n",
    "- Sarah Dean, Jamie Morgenstern. \\\n",
    "\"Preference Dynamics Under Personalized Recommendations.\", 2022.\n",
    "\n",
    "- Yuta Saito, Shunsuke Aihara, Megumi Matsutani, and Yusuke Narita. \\\n",
    "\"Open Bandit Dataset and Pipeline: Towards Realistic and Reproducible Off-Policy Evaluation.\", 2021.\n",
    "\n",
    "- Takuma Seno and Michita Imai. \\\n",
    "\"d3rlpy: An Offline Deep Reinforcement Library.\", 2021.\n",
    "\n",
    "- Tuomas Haarnoja, Aurick Zhou, Pieter Abbeel, and Sergey Levine. \\\n",
    "\"Soft Actor-Critic: Off-Policy Maximum Entropy Deep Reinforcement Learning with a Stochastic Actor.\" 2018.\n",
    "\n",
    "- Greg Brockman, Vicki Cheung, Ludwig Pettersson, Jonas Schneider, John Schulman, Jie Tang, and Wojciech Zaremba. \\\n",
    "\"OpenAI Gym.\", 2016.\n",
    "\n",
    "- Hado van Hasselt, Arthur Guez, and David Silver. \\\n",
    "\"Deep Reinforcement Learning with Double Q-learning.\", 2015."
   ]
  }
 ],
 "metadata": {
  "kernelspec": {
   "display_name": "Python 3.10.6 64-bit ('3.10.6')",
   "language": "python",
   "name": "python3"
  },
  "language_info": {
   "codemirror_mode": {
    "name": "ipython",
    "version": 3
   },
   "file_extension": ".py",
   "mimetype": "text/x-python",
   "name": "python",
   "nbconvert_exporter": "python",
   "pygments_lexer": "ipython3",
   "version": "3.10.6 (main, Sep 10 2022, 14:58:52) [Clang 13.1.6 (clang-1316.0.21.2.5)]"
  },
  "vscode": {
   "interpreter": {
    "hash": "70404ee114725fce8ed9e697d67827f8546c678889944e6d695790702cbfe1f5"
   }
  }
 },
 "nbformat": 4,
 "nbformat_minor": 4
}
