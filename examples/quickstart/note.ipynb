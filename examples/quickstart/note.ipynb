{
 "cells": [
  {
   "cell_type": "code",
   "execution_count": 36,
   "metadata": {},
   "outputs": [],
   "source": [
    "import sys\n",
    "sys.path.append('../')\n",
    "sys.path.append('../../')"
   ]
  },
  {
   "cell_type": "code",
   "execution_count": 37,
   "metadata": {},
   "outputs": [],
   "source": [
    "# implement data collection procedure on the RTBGym environment\n",
    "\n",
    "# import OFRL modules\n",
    "import ofrl\n",
    "from rtbgym import RTBEnv, CustomizedRTBEnv\n",
    "from ofrl.dataset import SyntheticDataset\n",
    "from ofrl.policy import OnlineHead, ContinuousEvalHead\n",
    "from ofrl.policy import ContinuousTruncatedGaussianHead as TruncatedGaussianHead\n",
    "from ofrl.ope.online import (\n",
    "    calc_on_policy_policy_value,\n",
    "    visualize_on_policy_policy_value,\n",
    ")\n",
    "from ofrl.utils import MinMaxScaler, MinMaxActionScaler\n",
    "\n",
    "# import d3rlpy algorithms\n",
    "from d3rlpy.algos import RandomPolicy\n",
    "# from d3rlpy.preprocessing import MinMaxScaler, MinMaxActionScaler\n",
    "from ofrl.utils import MinMaxScaler, MinMaxActionScaler\n",
    "\n",
    "# import from other libraries\n",
    "import gym\n",
    "import torch\n",
    "from sklearn.model_selection import train_test_split"
   ]
  },
  {
   "cell_type": "code",
   "execution_count": 38,
   "metadata": {},
   "outputs": [],
   "source": [
    "import pickle\n",
    "from glob import glob\n",
    "from tqdm import tqdm\n",
    "\n",
    "import numpy as np\n",
    "import pandas as pd\n",
    "from pandas import DataFrame\n",
    "\n",
    "import matplotlib.pyplot as plt\n",
    "import seaborn as sns\n",
    "\n",
    "%matplotlib inline"
   ]
  },
  {
   "cell_type": "code",
   "execution_count": 39,
   "metadata": {},
   "outputs": [],
   "source": [
    "# log directory\n",
    "from pathlib import Path\n",
    "Path(\"logs/\").mkdir(exist_ok=True)"
   ]
  },
  {
   "cell_type": "code",
   "execution_count": 40,
   "metadata": {},
   "outputs": [],
   "source": [
    "# standardized environment for discrete action\n",
    "env = gym.make(\"RTBEnv-continuous-v0\")\n",
    "# for api compatibility to d3rlpy\n",
    "from ofrl.utils import OldGymAPIWrapper\n",
    "env_ = OldGymAPIWrapper(env)\n",
    "# behavior policy\n",
    "from d3rlpy.algos import SAC\n",
    "from d3rlpy.models.encoders import VectorEncoderFactory\n",
    "from d3rlpy.models.q_functions import MeanQFunctionFactory\n",
    "from d3rlpy.online.buffers import ReplayBuffer\n",
    "\n",
    "# model\n",
    "sac = SAC(\n",
    "    actor_encoder_factory=VectorEncoderFactory(hidden_units=[30, 30]),\n",
    "    critic_encoder_factory=VectorEncoderFactory(hidden_units=[30, 30]),\n",
    "    q_func_factory=MeanQFunctionFactory(),\n",
    "    use_gpu=torch.cuda.is_available(),\n",
    "    action_scaler=MinMaxActionScaler(\n",
    "        minimum=env_.action_space.low,   # 0.1\n",
    "        maximum=env_.action_space.high,  # 10\n",
    "    ),\n",
    ")\n",
    "# setup replay buffer\n",
    "buffer = ReplayBuffer(\n",
    "    maxlen=10000,\n",
    "    env=env_,\n",
    ")"
   ]
  },
  {
   "cell_type": "code",
   "execution_count": 41,
   "metadata": {},
   "outputs": [
    {
     "name": "stdout",
     "output_type": "stream",
     "text": [
      "2023-03-16 10:13.06 [info     ] Directory is created at d3rlpy_logs/SAC_online_20230316101306\n",
      "2023-03-16 10:13.06 [debug    ] Fitting action scaler...       action_scler=min_max\n",
      "2023-03-16 10:13.06 [debug    ] Building model...\n",
      "2023-03-16 10:13.06 [debug    ] Model has been built.\n",
      "2023-03-16 10:13.06 [info     ] Parameters are saved to d3rlpy_logs/SAC_online_20230316101306/params.json params={'action_scaler': {'type': 'min_max', 'params': {'minimum': array([0.1]), 'maximum': array([10.])}}, 'actor_encoder_factory': {'type': 'vector', 'params': {'hidden_units': [30, 30], 'activation': 'relu', 'use_batch_norm': False, 'dropout_rate': None, 'use_dense': False}}, 'actor_learning_rate': 0.0003, 'actor_optim_factory': {'optim_cls': 'Adam', 'betas': (0.9, 0.999), 'eps': 1e-08, 'weight_decay': 0, 'amsgrad': False}, 'batch_size': 256, 'critic_encoder_factory': {'type': 'vector', 'params': {'hidden_units': [30, 30], 'activation': 'relu', 'use_batch_norm': False, 'dropout_rate': None, 'use_dense': False}}, 'critic_learning_rate': 0.0003, 'critic_optim_factory': {'optim_cls': 'Adam', 'betas': (0.9, 0.999), 'eps': 1e-08, 'weight_decay': 0, 'amsgrad': False}, 'gamma': 0.99, 'generated_maxlen': 100000, 'initial_temperature': 1.0, 'n_critics': 2, 'n_frames': 1, 'n_steps': 1, 'q_func_factory': {'type': 'mean', 'params': {'share_encoder': False}}, 'real_ratio': 1.0, 'reward_scaler': None, 'scaler': None, 'tau': 0.005, 'temp_learning_rate': 0.0003, 'temp_optim_factory': {'optim_cls': 'Adam', 'betas': (0.9, 0.999), 'eps': 1e-08, 'weight_decay': 0, 'amsgrad': False}, 'use_gpu': None, 'algorithm': 'SAC', 'observation_shape': (7,), 'action_size': 1}\n"
     ]
    },
    {
     "name": "stderr",
     "output_type": "stream",
     "text": [
      "/Users/ren/.pyenv/versions/3.10.6/lib/python3.10/site-packages/gym/utils/passive_env_checker.py:187: UserWarning: \u001b[33mWARN: Future gym versions will require that `Env.reset` can be passed `options` to allow the environment initialisation to be passed additional information.\u001b[0m\n",
      "  logger.warn(\n"
     ]
    },
    {
     "data": {
      "application/vnd.jupyter.widget-view+json": {
       "model_id": "f6b43a9ee43b4320b79b673f41b6cb79",
       "version_major": 2,
       "version_minor": 0
      },
      "text/plain": [
       "  0%|          | 0/1000 [00:00<?, ?it/s]"
      ]
     },
     "metadata": {},
     "output_type": "display_data"
    },
    {
     "name": "stdout",
     "output_type": "stream",
     "text": [
      "2023-03-16 10:13.06 [info     ] Model parameters are saved to d3rlpy_logs/SAC_online_20230316101306/model_10.pt\n",
      "2023-03-16 10:13.06 [info     ] SAC_online_20230316101306: epoch=1 step=10 epoch=1 metrics={'time_inference': 0.0008254766464233399, 'time_environment_step': 0.00035643577575683594, 'time_step': 0.0012040138244628906, 'rollout_return': 11.0, 'evaluation': 15.5} step=10\n",
      "2023-03-16 10:13.06 [info     ] Model parameters are saved to d3rlpy_logs/SAC_online_20230316101306/model_20.pt\n",
      "2023-03-16 10:13.06 [info     ] SAC_online_20230316101306: epoch=2 step=20 epoch=2 metrics={'time_inference': 0.0003530263900756836, 'time_environment_step': 0.00027544498443603515, 'time_step': 0.0006462574005126953, 'rollout_return': 32.0, 'evaluation': 13.7} step=20\n",
      "2023-03-16 10:13.07 [info     ] Model parameters are saved to d3rlpy_logs/SAC_online_20230316101306/model_30.pt\n",
      "2023-03-16 10:13.07 [info     ] SAC_online_20230316101306: epoch=3 step=30 epoch=3 metrics={'time_inference': 0.0004376888275146484, 'time_environment_step': 0.00031845569610595704, 'time_step': 0.000774383544921875, 'rollout_return': 31.0, 'evaluation': 13.9} step=30\n",
      "2023-03-16 10:13.07 [info     ] Model parameters are saved to d3rlpy_logs/SAC_online_20230316101306/model_40.pt\n",
      "2023-03-16 10:13.07 [info     ] SAC_online_20230316101306: epoch=4 step=40 epoch=4 metrics={'time_inference': 0.00033900737762451174, 'time_environment_step': 0.0002658843994140625, 'time_step': 0.000620269775390625, 'rollout_return': 28.0, 'evaluation': 15.3} step=40\n",
      "2023-03-16 10:13.07 [info     ] Model parameters are saved to d3rlpy_logs/SAC_online_20230316101306/model_50.pt\n",
      "2023-03-16 10:13.07 [info     ] SAC_online_20230316101306: epoch=5 step=50 epoch=5 metrics={'time_inference': 0.00029180049896240237, 'time_environment_step': 0.0002498149871826172, 'time_step': 0.0005560636520385743, 'rollout_return': 26.0, 'evaluation': 14.2} step=50\n",
      "2023-03-16 10:13.07 [info     ] Model parameters are saved to d3rlpy_logs/SAC_online_20230316101306/model_60.pt\n",
      "2023-03-16 10:13.07 [info     ] SAC_online_20230316101306: epoch=6 step=60 epoch=6 metrics={'time_inference': 0.00043976306915283203, 'time_environment_step': 0.00028209686279296876, 'time_step': 0.0007374286651611328, 'rollout_return': 26.0, 'evaluation': 15.3} step=60\n",
      "2023-03-16 10:13.07 [info     ] Model parameters are saved to d3rlpy_logs/SAC_online_20230316101306/model_70.pt\n",
      "2023-03-16 10:13.07 [info     ] SAC_online_20230316101306: epoch=7 step=70 epoch=7 metrics={'time_inference': 0.00029835700988769533, 'time_environment_step': 0.0002584218978881836, 'time_step': 0.0005719423294067383, 'rollout_return': 35.0, 'evaluation': 14.4} step=70\n",
      "2023-03-16 10:13.07 [info     ] Model parameters are saved to d3rlpy_logs/SAC_online_20230316101306/model_80.pt\n",
      "2023-03-16 10:13.07 [info     ] SAC_online_20230316101306: epoch=8 step=80 epoch=8 metrics={'time_inference': 0.00033419132232666017, 'time_environment_step': 0.0002657175064086914, 'time_step': 0.0006158351898193359, 'rollout_return': 29.0, 'evaluation': 13.7} step=80\n",
      "2023-03-16 10:13.07 [info     ] Model parameters are saved to d3rlpy_logs/SAC_online_20230316101306/model_90.pt\n",
      "2023-03-16 10:13.07 [info     ] SAC_online_20230316101306: epoch=9 step=90 epoch=9 metrics={'time_inference': 0.0003367185592651367, 'time_environment_step': 0.0002615928649902344, 'time_step': 0.0006133794784545898, 'rollout_return': 29.0, 'evaluation': 15.5} step=90\n",
      "2023-03-16 10:13.07 [info     ] Model parameters are saved to d3rlpy_logs/SAC_online_20230316101306/model_100.pt\n",
      "2023-03-16 10:13.07 [info     ] SAC_online_20230316101306: epoch=10 step=100 epoch=10 metrics={'time_inference': 0.00034544467926025393, 'time_environment_step': 0.0002680778503417969, 'time_step': 0.0006316184997558593, 'rollout_return': 23.0, 'evaluation': 15.9} step=100\n",
      "2023-03-16 10:13.07 [info     ] Model parameters are saved to d3rlpy_logs/SAC_online_20230316101306/model_110.pt\n",
      "2023-03-16 10:13.07 [info     ] SAC_online_20230316101306: epoch=11 step=110 epoch=11 metrics={'time_inference': 0.00029511451721191405, 'time_environment_step': 0.00025992393493652345, 'time_step': 0.0005706071853637696, 'rollout_return': 23.0, 'evaluation': 14.6} step=110\n",
      "2023-03-16 10:13.07 [info     ] Model parameters are saved to d3rlpy_logs/SAC_online_20230316101306/model_120.pt\n",
      "2023-03-16 10:13.07 [info     ] SAC_online_20230316101306: epoch=12 step=120 epoch=12 metrics={'time_inference': 0.00043745040893554686, 'time_environment_step': 0.0002624750137329102, 'time_step': 0.0007149696350097657, 'rollout_return': 21.0, 'evaluation': 14.1} step=120\n",
      "2023-03-16 10:13.07 [info     ] Model parameters are saved to d3rlpy_logs/SAC_online_20230316101306/model_130.pt\n",
      "2023-03-16 10:13.07 [info     ] SAC_online_20230316101306: epoch=13 step=130 epoch=13 metrics={'time_inference': 0.00037424564361572267, 'time_environment_step': 0.0002720117568969727, 'time_step': 0.000662851333618164, 'rollout_return': 27.0, 'evaluation': 15.5} step=130\n",
      "2023-03-16 10:13.07 [info     ] Model parameters are saved to d3rlpy_logs/SAC_online_20230316101306/model_140.pt\n",
      "2023-03-16 10:13.07 [info     ] SAC_online_20230316101306: epoch=14 step=140 epoch=14 metrics={'time_inference': 0.00029180049896240237, 'time_environment_step': 0.0002570629119873047, 'time_step': 0.000564122200012207, 'rollout_return': 23.0, 'evaluation': 15.3} step=140\n",
      "2023-03-16 10:13.07 [info     ] Model parameters are saved to d3rlpy_logs/SAC_online_20230316101306/model_150.pt\n",
      "2023-03-16 10:13.07 [info     ] SAC_online_20230316101306: epoch=15 step=150 epoch=15 metrics={'time_inference': 0.0003858804702758789, 'time_environment_step': 0.0002680301666259766, 'time_step': 0.000670313835144043, 'rollout_return': 26.0, 'evaluation': 14.6} step=150\n",
      "2023-03-16 10:13.07 [info     ] Model parameters are saved to d3rlpy_logs/SAC_online_20230316101306/model_160.pt\n",
      "2023-03-16 10:13.07 [info     ] SAC_online_20230316101306: epoch=16 step=160 epoch=16 metrics={'time_inference': 0.00029163360595703126, 'time_environment_step': 0.0002549886703491211, 'time_step': 0.0005613565444946289, 'rollout_return': 29.0, 'evaluation': 15.9} step=160\n",
      "2023-03-16 10:13.07 [info     ] Model parameters are saved to d3rlpy_logs/SAC_online_20230316101306/model_170.pt\n",
      "2023-03-16 10:13.07 [info     ] SAC_online_20230316101306: epoch=17 step=170 epoch=17 metrics={'time_inference': 0.00032169818878173827, 'time_environment_step': 0.00025992393493652345, 'time_step': 0.0005973339080810547, 'rollout_return': 33.0, 'evaluation': 15.4} step=170\n",
      "2023-03-16 10:13.07 [info     ] Model parameters are saved to d3rlpy_logs/SAC_online_20230316101306/model_180.pt\n",
      "2023-03-16 10:13.07 [info     ] SAC_online_20230316101306: epoch=18 step=180 epoch=18 metrics={'time_inference': 0.00032742023468017577, 'time_environment_step': 0.0002675771713256836, 'time_step': 0.0006108283996582031, 'rollout_return': 25.0, 'evaluation': 14.5} step=180\n",
      "2023-03-16 10:13.07 [info     ] Model parameters are saved to d3rlpy_logs/SAC_online_20230316101306/model_190.pt\n",
      "2023-03-16 10:13.07 [info     ] SAC_online_20230316101306: epoch=19 step=190 epoch=19 metrics={'time_inference': 0.0003518581390380859, 'time_environment_step': 0.00026385784149169923, 'time_step': 0.0006309270858764649, 'rollout_return': 32.0, 'evaluation': 14.1} step=190\n",
      "2023-03-16 10:13.07 [info     ] Model parameters are saved to d3rlpy_logs/SAC_online_20230316101306/model_200.pt\n",
      "2023-03-16 10:13.07 [info     ] SAC_online_20230316101306: epoch=20 step=200 epoch=20 metrics={'time_inference': 0.00029203891754150393, 'time_environment_step': 0.00025386810302734374, 'time_step': 0.0005608320236206055, 'rollout_return': 34.0, 'evaluation': 14.4} step=200\n",
      "2023-03-16 10:13.07 [info     ] Model parameters are saved to d3rlpy_logs/SAC_online_20230316101306/model_210.pt\n",
      "2023-03-16 10:13.07 [info     ] SAC_online_20230316101306: epoch=21 step=210 epoch=21 metrics={'time_inference': 0.0005541801452636719, 'time_environment_step': 0.00037684440612792967, 'time_step': 0.0009479045867919922, 'rollout_return': 22.0, 'evaluation': 14.6} step=210\n",
      "2023-03-16 10:13.07 [info     ] Model parameters are saved to d3rlpy_logs/SAC_online_20230316101306/model_220.pt\n",
      "2023-03-16 10:13.07 [info     ] SAC_online_20230316101306: epoch=22 step=220 epoch=22 metrics={'time_inference': 0.00036690235137939455, 'time_environment_step': 0.00028238296508789065, 'time_step': 0.0006655216217041016, 'rollout_return': 36.0, 'evaluation': 13.3} step=220\n",
      "2023-03-16 10:13.07 [info     ] Model parameters are saved to d3rlpy_logs/SAC_online_20230316101306/model_230.pt\n",
      "2023-03-16 10:13.07 [info     ] SAC_online_20230316101306: epoch=23 step=230 epoch=23 metrics={'time_inference': 0.0004778861999511719, 'time_environment_step': 0.0002982616424560547, 'time_step': 0.0007941007614135742, 'rollout_return': 22.0, 'evaluation': 15.3} step=230\n",
      "2023-03-16 10:13.08 [info     ] Model parameters are saved to d3rlpy_logs/SAC_online_20230316101306/model_240.pt\n",
      "2023-03-16 10:13.08 [info     ] SAC_online_20230316101306: epoch=24 step=240 epoch=24 metrics={'time_inference': 0.0003262996673583984, 'time_environment_step': 0.0002913951873779297, 'time_step': 0.000634312629699707, 'rollout_return': 14.0, 'evaluation': 15.6} step=240\n",
      "2023-03-16 10:13.08 [info     ] Model parameters are saved to d3rlpy_logs/SAC_online_20230316101306/model_250.pt\n",
      "2023-03-16 10:13.08 [info     ] SAC_online_20230316101306: epoch=25 step=250 epoch=25 metrics={'time_inference': 0.00034079551696777346, 'time_environment_step': 0.0002655744552612305, 'time_step': 0.0006225824356079102, 'rollout_return': 21.0, 'evaluation': 15.4} step=250\n",
      "2023-03-16 10:13.08 [info     ] Model parameters are saved to d3rlpy_logs/SAC_online_20230316101306/model_260.pt\n",
      "2023-03-16 10:13.08 [info     ] SAC_online_20230316101306: epoch=26 step=260 epoch=26 metrics={'time_inference': 0.0004464387893676758, 'time_environment_step': 0.0002979278564453125, 'time_step': 0.0022420883178710938, 'rollout_return': 29.0, 'time_sample_batch': 0.00011974573135375977, 'time_algorithm_update': 0.003571748733520508, 'temp_loss': -130.8192253112793, 'temp': 1.000746339559555, 'critic_loss': 144927.361328125, 'actor_loss': 158.09160995483398, 'evaluation': 12.4} step=260\n",
      "2023-03-16 10:13.08 [info     ] Model parameters are saved to d3rlpy_logs/SAC_online_20230316101306/model_270.pt\n",
      "2023-03-16 10:13.08 [info     ] SAC_online_20230316101306: epoch=27 step=270 epoch=27 metrics={'time_inference': 0.00036611557006835935, 'time_environment_step': 0.00032255649566650393, 'time_sample_batch': 9.458065032958984e-05, 'time_algorithm_update': 0.0033980607986450195, 'temp_loss': -63.20501594543457, 'temp': 1.0027108430862426, 'critic_loss': 58071.7765625, 'actor_loss': 124.82015228271484, 'time_step': 0.004209566116333008, 'rollout_return': 23.0, 'evaluation': 14.6} step=270\n",
      "2023-03-16 10:13.08 [info     ] Model parameters are saved to d3rlpy_logs/SAC_online_20230316101306/model_280.pt\n",
      "2023-03-16 10:13.08 [info     ] SAC_online_20230316101306: epoch=28 step=280 epoch=28 metrics={'time_inference': 0.0004466056823730469, 'time_environment_step': 0.00033359527587890626, 'time_sample_batch': 9.200572967529296e-05, 'time_algorithm_update': 0.0030272245407104493, 'temp_loss': -34.04789161682129, 'temp': 1.0049277305603028, 'critic_loss': 19142.75703125, 'actor_loss': 101.81762237548828, 'time_step': 0.003925991058349609, 'rollout_return': 20.0, 'evaluation': 0.0} step=280\n",
      "2023-03-16 10:13.08 [info     ] Model parameters are saved to d3rlpy_logs/SAC_online_20230316101306/model_290.pt\n",
      "2023-03-16 10:13.08 [info     ] SAC_online_20230316101306: epoch=29 step=290 epoch=29 metrics={'time_inference': 0.00029764175415039065, 'time_environment_step': 0.00031282901763916013, 'time_sample_batch': 9.319782257080078e-05, 'time_algorithm_update': 0.0029734134674072265, 'temp_loss': -23.833914375305177, 'temp': 1.0066725373268128, 'critic_loss': 6164.6890625, 'actor_loss': 73.30219497680665, 'time_step': 0.0037038326263427734, 'rollout_return': 18.0, 'evaluation': 15.9} step=290\n",
      "2023-03-16 10:13.08 [info     ] Model parameters are saved to d3rlpy_logs/SAC_online_20230316101306/model_300.pt\n",
      "2023-03-16 10:13.08 [info     ] SAC_online_20230316101306: epoch=30 step=300 epoch=30 metrics={'time_inference': 0.00033698081970214846, 'time_environment_step': 0.0003042697906494141, 'time_sample_batch': 8.649826049804688e-05, 'time_algorithm_update': 0.0028289318084716796, 'temp_loss': -18.91036891937256, 'temp': 1.0081158518791198, 'critic_loss': 2516.7800048828126, 'actor_loss': 58.06576156616211, 'time_step': 0.0035818815231323242, 'rollout_return': 27.0, 'evaluation': 15.3} step=300\n",
      "2023-03-16 10:13.08 [info     ] Model parameters are saved to d3rlpy_logs/SAC_online_20230316101306/model_310.pt\n",
      "2023-03-16 10:13.08 [info     ] SAC_online_20230316101306: epoch=31 step=310 epoch=31 metrics={'time_inference': 0.0005799531936645508, 'time_environment_step': 0.0004797220230102539, 'time_sample_batch': 0.00012400150299072266, 'time_algorithm_update': 0.004154324531555176, 'temp_loss': -16.215608501434325, 'temp': 1.0093440532684326, 'critic_loss': 1978.9487182617188, 'actor_loss': 61.296683883666994, 'time_step': 0.005386757850646973, 'rollout_return': 17.0, 'evaluation': 0.0} step=310\n",
      "2023-03-16 10:13.08 [info     ] Model parameters are saved to d3rlpy_logs/SAC_online_20230316101306/model_320.pt\n",
      "2023-03-16 10:13.08 [info     ] SAC_online_20230316101306: epoch=32 step=320 epoch=32 metrics={'time_inference': 0.00032360553741455077, 'time_environment_step': 0.000317072868347168, 'time_sample_batch': 9.551048278808594e-05, 'time_algorithm_update': 0.002931523323059082, 'temp_loss': -13.597393703460693, 'temp': 1.0104334473609924, 'critic_loss': 1615.8756958007812, 'actor_loss': 56.99108695983887, 'time_step': 0.0036937475204467775, 'rollout_return': 18.0, 'evaluation': 13.6} step=320\n",
      "2023-03-16 10:13.08 [info     ] Model parameters are saved to d3rlpy_logs/SAC_online_20230316101306/model_330.pt\n",
      "2023-03-16 10:13.08 [info     ] SAC_online_20230316101306: epoch=33 step=330 epoch=33 metrics={'time_inference': 0.00043659210205078126, 'time_environment_step': 0.00031604766845703123, 'time_sample_batch': 9.455680847167969e-05, 'time_algorithm_update': 0.0030458927154541015, 'temp_loss': -12.381070518493653, 'temp': 1.0114163517951966, 'critic_loss': 1299.0854858398438, 'actor_loss': 50.3369327545166, 'time_step': 0.003919243812561035, 'rollout_return': 24.0, 'evaluation': 15.2} step=330\n",
      "2023-03-16 10:13.08 [info     ] Model parameters are saved to d3rlpy_logs/SAC_online_20230316101306/model_340.pt\n",
      "2023-03-16 10:13.08 [info     ] SAC_online_20230316101306: epoch=34 step=340 epoch=34 metrics={'time_inference': 0.00034723281860351565, 'time_environment_step': 0.0003099203109741211, 'time_sample_batch': 9.348392486572266e-05, 'time_algorithm_update': 0.002921390533447266, 'temp_loss': -11.362879657745362, 'temp': 1.012342619895935, 'critic_loss': 1255.8076904296875, 'actor_loss': 43.96415405273437, 'time_step': 0.0036981582641601564, 'rollout_return': 20.0, 'evaluation': 15.4} step=340\n",
      "2023-03-16 10:13.08 [info     ] Model parameters are saved to d3rlpy_logs/SAC_online_20230316101306/model_350.pt\n",
      "2023-03-16 10:13.08 [info     ] SAC_online_20230316101306: epoch=35 step=350 epoch=35 metrics={'time_inference': 0.000347590446472168, 'time_environment_step': 0.00030601024627685547, 'time_sample_batch': 8.997917175292968e-05, 'time_algorithm_update': 0.0028702497482299806, 'temp_loss': -10.655620193481445, 'temp': 1.013235855102539, 'critic_loss': 1149.0046447753907, 'actor_loss': 40.51050567626953, 'time_step': 0.0036391496658325197, 'rollout_return': 12.0, 'evaluation': 15.6} step=350\n",
      "2023-03-16 10:13.08 [info     ] Model parameters are saved to d3rlpy_logs/SAC_online_20230316101306/model_360.pt\n",
      "2023-03-16 10:13.08 [info     ] SAC_online_20230316101306: epoch=36 step=360 epoch=36 metrics={'time_inference': 0.0003917694091796875, 'time_environment_step': 0.0003107309341430664, 'time_sample_batch': 8.947849273681641e-05, 'time_algorithm_update': 0.002801251411437988, 'temp_loss': -9.896559906005859, 'temp': 1.0141082406044006, 'critic_loss': 1053.6480651855468, 'actor_loss': 37.21735534667969, 'time_step': 0.003618764877319336, 'rollout_return': 23.0, 'evaluation': 13.3} step=360\n",
      "2023-03-16 10:13.09 [info     ] Model parameters are saved to d3rlpy_logs/SAC_online_20230316101306/model_370.pt\n",
      "2023-03-16 10:13.09 [info     ] SAC_online_20230316101306: epoch=37 step=370 epoch=37 metrics={'time_inference': 0.0003154277801513672, 'time_environment_step': 0.00030803680419921875, 'time_sample_batch': 9.510517120361328e-05, 'time_algorithm_update': 0.00290064811706543, 'temp_loss': -9.016477394104005, 'temp': 1.0149508953094482, 'critic_loss': 1044.046533203125, 'actor_loss': 35.80746612548828, 'time_step': 0.0036448240280151367, 'rollout_return': 20.0, 'evaluation': 13.7} step=370\n",
      "2023-03-16 10:13.09 [info     ] Model parameters are saved to d3rlpy_logs/SAC_online_20230316101306/model_380.pt\n",
      "2023-03-16 10:13.09 [info     ] SAC_online_20230316101306: epoch=38 step=380 epoch=38 metrics={'time_inference': 0.00037696361541748045, 'time_environment_step': 0.0003098487854003906, 'time_sample_batch': 9.109973907470704e-05, 'time_algorithm_update': 0.002934575080871582, 'temp_loss': -8.268975639343262, 'temp': 1.0157588601112366, 'critic_loss': 1026.8315979003905, 'actor_loss': 33.68156089782715, 'time_step': 0.003737926483154297, 'rollout_return': 22.0, 'evaluation': 14.8} step=380\n",
      "2023-03-16 10:13.09 [info     ] Model parameters are saved to d3rlpy_logs/SAC_online_20230316101306/model_390.pt\n",
      "2023-03-16 10:13.09 [info     ] SAC_online_20230316101306: epoch=39 step=390 epoch=39 metrics={'time_inference': 0.0003567934036254883, 'time_environment_step': 0.0003631591796875, 'time_sample_batch': 9.474754333496093e-05, 'time_algorithm_update': 0.0031018733978271486, 'temp_loss': -7.81177659034729, 'temp': 1.016546404361725, 'critic_loss': 946.5422424316406, 'actor_loss': 32.90261383056641, 'time_step': 0.003944277763366699, 'rollout_return': 25.0, 'evaluation': 15.3} step=390\n",
      "2023-03-16 10:13.09 [info     ] Model parameters are saved to d3rlpy_logs/SAC_online_20230316101306/model_400.pt\n",
      "2023-03-16 10:13.09 [info     ] SAC_online_20230316101306: epoch=40 step=400 epoch=40 metrics={'time_inference': 0.00031511783599853517, 'time_environment_step': 0.0004512786865234375, 'time_sample_batch': 0.00012772083282470704, 'time_algorithm_update': 0.0037448883056640627, 'temp_loss': -6.104557275772095, 'temp': 1.017288863658905, 'critic_loss': 863.1395874023438, 'actor_loss': 31.598391723632812, 'time_step': 0.004673552513122558, 'rollout_return': 15.0, 'evaluation': 14.2} step=400\n",
      "2023-03-16 10:13.09 [info     ] Model parameters are saved to d3rlpy_logs/SAC_online_20230316101306/model_410.pt\n",
      "2023-03-16 10:13.09 [info     ] SAC_online_20230316101306: epoch=41 step=410 epoch=41 metrics={'time_inference': 0.00033702850341796873, 'time_environment_step': 0.0003105878829956055, 'time_sample_batch': 8.876323699951172e-05, 'time_algorithm_update': 0.0026931047439575197, 'temp_loss': -4.98375768661499, 'temp': 1.017931914329529, 'critic_loss': 688.0116516113281, 'actor_loss': 28.64516372680664, 'time_step': 0.0034546613693237304, 'rollout_return': 21.0, 'evaluation': 15.4} step=410\n",
      "2023-03-16 10:13.09 [info     ] Model parameters are saved to d3rlpy_logs/SAC_online_20230316101306/model_420.pt\n",
      "2023-03-16 10:13.09 [info     ] SAC_online_20230316101306: epoch=42 step=420 epoch=42 metrics={'time_inference': 0.0002884626388549805, 'time_environment_step': 0.0003230571746826172, 'time_sample_batch': 9.59157943725586e-05, 'time_algorithm_update': 0.0029078960418701173, 'temp_loss': -5.389106941223145, 'temp': 1.018501615524292, 'critic_loss': 706.8408081054688, 'actor_loss': 27.20665340423584, 'time_step': 0.0036420345306396483, 'rollout_return': 21.0, 'evaluation': 15.9} step=420\n",
      "2023-03-16 10:13.09 [info     ] Model parameters are saved to d3rlpy_logs/SAC_online_20230316101306/model_430.pt\n",
      "2023-03-16 10:13.09 [info     ] SAC_online_20230316101306: epoch=43 step=430 epoch=43 metrics={'time_inference': 0.00035352706909179686, 'time_environment_step': 0.00030729770660400393, 'time_sample_batch': 9.377002716064453e-05, 'time_algorithm_update': 0.0029158830642700196, 'temp_loss': -4.618822956085205, 'temp': 1.019065761566162, 'critic_loss': 635.3230895996094, 'actor_loss': 27.400707244873047, 'time_step': 0.0036963701248168947, 'rollout_return': 18.0, 'evaluation': 16.6} step=430\n",
      "2023-03-16 10:13.09 [info     ] Model parameters are saved to d3rlpy_logs/SAC_online_20230316101306/model_440.pt\n",
      "2023-03-16 10:13.09 [info     ] SAC_online_20230316101306: epoch=44 step=440 epoch=44 metrics={'time_inference': 0.0003342628479003906, 'time_environment_step': 0.00030837059020996096, 'time_sample_batch': 9.508132934570313e-05, 'time_algorithm_update': 0.0029538154602050783, 'temp_loss': -4.701587176322937, 'temp': 1.0196018099784852, 'critic_loss': 591.7790405273438, 'actor_loss': 26.02862663269043, 'time_step': 0.003717470169067383, 'rollout_return': 26.0, 'evaluation': 13.9} step=440\n",
      "2023-03-16 10:13.09 [info     ] Model parameters are saved to d3rlpy_logs/SAC_online_20230316101306/model_450.pt\n",
      "2023-03-16 10:13.09 [info     ] SAC_online_20230316101306: epoch=45 step=450 epoch=45 metrics={'time_inference': 0.0002974271774291992, 'time_environment_step': 0.00029966831207275393, 'time_sample_batch': 9.150505065917969e-05, 'time_algorithm_update': 0.0027579069137573242, 'temp_loss': -4.242317724227905, 'temp': 1.0201235294342041, 'critic_loss': 565.2534118652344, 'actor_loss': 25.80553779602051, 'time_step': 0.003471684455871582, 'rollout_return': 23.0, 'evaluation': 15.0} step=450\n",
      "2023-03-16 10:13.09 [info     ] Model parameters are saved to d3rlpy_logs/SAC_online_20230316101306/model_460.pt\n",
      "2023-03-16 10:13.09 [info     ] SAC_online_20230316101306: epoch=46 step=460 epoch=46 metrics={'time_inference': 0.00039622783660888674, 'time_environment_step': 0.00037479400634765625, 'time_sample_batch': 9.663105010986328e-05, 'time_algorithm_update': 0.0029564619064331053, 'temp_loss': -4.453458595275879, 'temp': 1.0206366419792174, 'critic_loss': 523.240185546875, 'actor_loss': 25.31640491485596, 'time_step': 0.003850507736206055, 'rollout_return': 16.0, 'evaluation': 15.7} step=460\n",
      "2023-03-16 10:13.09 [info     ] Model parameters are saved to d3rlpy_logs/SAC_online_20230316101306/model_470.pt\n",
      "2023-03-16 10:13.09 [info     ] SAC_online_20230316101306: epoch=47 step=470 epoch=47 metrics={'time_inference': 0.0004330873489379883, 'time_environment_step': 0.00031185150146484375, 'time_sample_batch': 9.686946868896485e-05, 'time_algorithm_update': 0.00293123722076416, 'temp_loss': -4.243611693382263, 'temp': 1.0211573839187622, 'critic_loss': 502.84820556640625, 'actor_loss': 24.998095703125, 'time_step': 0.003798961639404297, 'rollout_return': 24.0, 'evaluation': 15.0} step=470\n",
      "2023-03-16 10:13.09 [info     ] Model parameters are saved to d3rlpy_logs/SAC_online_20230316101306/model_480.pt\n",
      "2023-03-16 10:13.09 [info     ] SAC_online_20230316101306: epoch=48 step=480 epoch=48 metrics={'time_inference': 0.00035016536712646485, 'time_environment_step': 0.00030901432037353513, 'time_sample_batch': 9.32455062866211e-05, 'time_algorithm_update': 0.0029022216796875, 'temp_loss': -4.062112212181091, 'temp': 1.0216700315475464, 'critic_loss': 444.239501953125, 'actor_loss': 25.07699489593506, 'time_step': 0.0036832332611083985, 'rollout_return': 19.0, 'evaluation': 15.6} step=480\n",
      "2023-03-16 10:13.09 [info     ] Model parameters are saved to d3rlpy_logs/SAC_online_20230316101306/model_490.pt\n",
      "2023-03-16 10:13.09 [info     ] SAC_online_20230316101306: epoch=49 step=490 epoch=49 metrics={'time_inference': 0.0003457069396972656, 'time_environment_step': 0.0003056049346923828, 'time_sample_batch': 9.412765502929688e-05, 'time_algorithm_update': 0.002800440788269043, 'temp_loss': -4.242647552490235, 'temp': 1.0221907138824462, 'critic_loss': 413.81053466796874, 'actor_loss': 24.56574821472168, 'time_step': 0.0035715103149414062, 'rollout_return': 34.0, 'evaluation': 15.1} step=490\n",
      "2023-03-16 10:13.10 [info     ] Model parameters are saved to d3rlpy_logs/SAC_online_20230316101306/model_500.pt\n",
      "2023-03-16 10:13.10 [info     ] SAC_online_20230316101306: epoch=50 step=500 epoch=50 metrics={'time_inference': 0.0003468513488769531, 'time_environment_step': 0.0002993345260620117, 'time_sample_batch': 9.467601776123047e-05, 'time_algorithm_update': 0.0028072357177734374, 'temp_loss': -4.288789176940918, 'temp': 1.0227335929870605, 'critic_loss': 402.0050323486328, 'actor_loss': 24.351917839050294, 'time_step': 0.003577709197998047, 'rollout_return': 26.0, 'evaluation': 15.6} step=500\n",
      "2023-03-16 10:13.10 [info     ] Model parameters are saved to d3rlpy_logs/SAC_online_20230316101306/model_510.pt\n",
      "2023-03-16 10:13.10 [info     ] SAC_online_20230316101306: epoch=51 step=510 epoch=51 metrics={'time_inference': 0.00036067962646484374, 'time_environment_step': 0.0003075122833251953, 'time_sample_batch': 9.851455688476562e-05, 'time_algorithm_update': 0.002877950668334961, 'temp_loss': -3.873995804786682, 'temp': 1.023275578022003, 'critic_loss': 392.10621948242186, 'actor_loss': 23.80521183013916, 'time_step': 0.003671121597290039, 'rollout_return': 12.0, 'evaluation': 17.1} step=510\n",
      "2023-03-16 10:13.10 [info     ] Model parameters are saved to d3rlpy_logs/SAC_online_20230316101306/model_520.pt\n",
      "2023-03-16 10:13.10 [info     ] SAC_online_20230316101306: epoch=52 step=520 epoch=52 metrics={'time_inference': 0.00037827491760253904, 'time_environment_step': 0.0003082752227783203, 'time_sample_batch': 9.818077087402344e-05, 'time_algorithm_update': 0.0028876781463623045, 'temp_loss': -4.313442301750183, 'temp': 1.023817241191864, 'critic_loss': 399.59035339355466, 'actor_loss': 24.227889251708984, 'time_step': 0.003704833984375, 'rollout_return': 25.0, 'evaluation': 14.8} step=520\n",
      "2023-03-16 10:13.10 [info     ] Model parameters are saved to d3rlpy_logs/SAC_online_20230316101306/model_530.pt\n",
      "2023-03-16 10:13.10 [info     ] SAC_online_20230316101306: epoch=53 step=530 epoch=53 metrics={'time_inference': 0.0004339694976806641, 'time_environment_step': 0.0003085613250732422, 'time_sample_batch': 9.801387786865235e-05, 'time_algorithm_update': 0.002893543243408203, 'temp_loss': -4.1386760711669925, 'temp': 1.0243871450424193, 'critic_loss': 349.94798583984374, 'actor_loss': 24.23230743408203, 'time_step': 0.0037596940994262694, 'rollout_return': 30.0, 'evaluation': 14.3} step=530\n",
      "2023-03-16 10:13.10 [info     ] Model parameters are saved to d3rlpy_logs/SAC_online_20230316101306/model_540.pt\n",
      "2023-03-16 10:13.10 [info     ] SAC_online_20230316101306: epoch=54 step=540 epoch=54 metrics={'time_inference': 0.00029754638671875, 'time_environment_step': 0.00031890869140625, 'time_sample_batch': 9.28640365600586e-05, 'time_algorithm_update': 0.003006649017333984, 'temp_loss': -4.586442065238953, 'temp': 1.0249774217605592, 'critic_loss': 358.95306396484375, 'actor_loss': 24.76109218597412, 'time_step': 0.003740882873535156, 'rollout_return': 14.0, 'evaluation': 0.0} step=540\n",
      "2023-03-16 10:13.10 [info     ] Model parameters are saved to d3rlpy_logs/SAC_online_20230316101306/model_550.pt\n",
      "2023-03-16 10:13.10 [info     ] SAC_online_20230316101306: epoch=55 step=550 epoch=55 metrics={'time_inference': 0.00038256645202636717, 'time_environment_step': 0.0003612518310546875, 'time_sample_batch': 9.808540344238281e-05, 'time_algorithm_update': 0.002985239028930664, 'temp_loss': -4.35747013092041, 'temp': 1.0256027221679687, 'critic_loss': 329.86065979003905, 'actor_loss': 24.082549858093262, 'time_step': 0.0038532733917236326, 'rollout_return': 18.0, 'evaluation': 13.0} step=550\n",
      "2023-03-16 10:13.10 [info     ] Model parameters are saved to d3rlpy_logs/SAC_online_20230316101306/model_560.pt\n",
      "2023-03-16 10:13.10 [info     ] SAC_online_20230316101306: epoch=56 step=560 epoch=56 metrics={'time_inference': 0.00038168430328369143, 'time_environment_step': 0.00037322044372558596, 'time_sample_batch': 0.00010302066802978516, 'time_algorithm_update': 0.003214716911315918, 'temp_loss': -4.273146486282348, 'temp': 1.0262354016304016, 'critic_loss': 344.25439453125, 'actor_loss': 23.768050575256346, 'time_step': 0.004099011421203613, 'rollout_return': 24.0, 'evaluation': 12.7} step=560\n",
      "2023-03-16 10:13.10 [info     ] Model parameters are saved to d3rlpy_logs/SAC_online_20230316101306/model_570.pt\n",
      "2023-03-16 10:13.10 [info     ] SAC_online_20230316101306: epoch=57 step=570 epoch=57 metrics={'time_inference': 0.0002871274948120117, 'time_environment_step': 0.00031199455261230467, 'time_sample_batch': 0.00010187625885009766, 'time_algorithm_update': 0.0030911445617675783, 'temp_loss': -4.282719278335572, 'temp': 1.0268775582313538, 'critic_loss': 310.8293975830078, 'actor_loss': 24.05460681915283, 'time_step': 0.003817582130432129, 'rollout_return': 14.0, 'evaluation': 16.1} step=570\n",
      "2023-03-16 10:13.10 [info     ] Model parameters are saved to d3rlpy_logs/SAC_online_20230316101306/model_580.pt\n",
      "2023-03-16 10:13.10 [info     ] SAC_online_20230316101306: epoch=58 step=580 epoch=58 metrics={'time_inference': 0.0003367424011230469, 'time_environment_step': 0.0003204345703125, 'time_sample_batch': 9.88006591796875e-05, 'time_algorithm_update': 0.0028575897216796876, 'temp_loss': -4.345301961898803, 'temp': 1.027525210380554, 'critic_loss': 314.64935302734375, 'actor_loss': 24.199761962890626, 'time_step': 0.0036398649215698244, 'rollout_return': 31.0, 'evaluation': 14.3} step=580\n",
      "2023-03-16 10:13.10 [info     ] Model parameters are saved to d3rlpy_logs/SAC_online_20230316101306/model_590.pt\n",
      "2023-03-16 10:13.10 [info     ] SAC_online_20230316101306: epoch=59 step=590 epoch=59 metrics={'time_inference': 0.000334930419921875, 'time_environment_step': 0.0003038644790649414, 'time_sample_batch': 9.88006591796875e-05, 'time_algorithm_update': 0.002903270721435547, 'temp_loss': -4.508693647384644, 'temp': 1.0281968712806702, 'critic_loss': 300.4023742675781, 'actor_loss': 24.914717292785646, 'time_step': 0.0036670446395874025, 'rollout_return': 15.0, 'evaluation': 12.4} step=590\n",
      "2023-03-16 10:13.10 [info     ] Model parameters are saved to d3rlpy_logs/SAC_online_20230316101306/model_600.pt\n",
      "2023-03-16 10:13.10 [info     ] SAC_online_20230316101306: epoch=60 step=600 epoch=60 metrics={'time_inference': 0.00033650398254394533, 'time_environment_step': 0.00029776096343994143, 'time_sample_batch': 9.753704071044922e-05, 'time_algorithm_update': 0.0027578592300415037, 'temp_loss': -4.298343753814697, 'temp': 1.0288829922676086, 'critic_loss': 284.2366973876953, 'actor_loss': 23.613123893737793, 'time_step': 0.0035161972045898438, 'rollout_return': 14.0, 'evaluation': 11.4} step=600\n",
      "2023-03-16 10:13.10 [info     ] Model parameters are saved to d3rlpy_logs/SAC_online_20230316101306/model_610.pt\n",
      "2023-03-16 10:13.10 [info     ] SAC_online_20230316101306: epoch=61 step=610 epoch=61 metrics={'time_inference': 0.0004547119140625, 'time_environment_step': 0.00031981468200683596, 'time_sample_batch': 0.00010285377502441406, 'time_algorithm_update': 0.0030136585235595705, 'temp_loss': -4.426722574234009, 'temp': 1.0295799255371094, 'critic_loss': 274.5214508056641, 'actor_loss': 24.140699768066405, 'time_step': 0.00391700267791748, 'rollout_return': 11.0, 'evaluation': 14.2} step=610\n",
      "2023-03-16 10:13.10 [info     ] Model parameters are saved to d3rlpy_logs/SAC_online_20230316101306/model_620.pt\n",
      "2023-03-16 10:13.10 [info     ] SAC_online_20230316101306: epoch=62 step=620 epoch=62 metrics={'time_inference': 0.00028972625732421876, 'time_environment_step': 0.0003075361251831055, 'time_sample_batch': 9.806156158447266e-05, 'time_algorithm_update': 0.0028964519500732423, 'temp_loss': -4.1917565822601315, 'temp': 1.0302743077278138, 'critic_loss': 268.12293395996096, 'actor_loss': 24.303542137145996, 'time_step': 0.003617000579833984, 'rollout_return': 32.0, 'evaluation': 14.2} step=620\n",
      "2023-03-16 10:13.11 [info     ] Model parameters are saved to d3rlpy_logs/SAC_online_20230316101306/model_630.pt\n",
      "2023-03-16 10:13.11 [info     ] SAC_online_20230316101306: epoch=63 step=630 epoch=63 metrics={'time_inference': 0.00035560131072998047, 'time_environment_step': 0.00030646324157714846, 'time_sample_batch': 9.55820083618164e-05, 'time_algorithm_update': 0.0029089689254760743, 'temp_loss': -4.515236043930054, 'temp': 1.030981469154358, 'critic_loss': 253.92513275146484, 'actor_loss': 23.8099796295166, 'time_step': 0.0036915063858032225, 'rollout_return': 30.0, 'evaluation': 13.0} step=630\n",
      "2023-03-16 10:13.11 [info     ] Model parameters are saved to d3rlpy_logs/SAC_online_20230316101306/model_640.pt\n",
      "2023-03-16 10:13.11 [info     ] SAC_online_20230316101306: epoch=64 step=640 epoch=64 metrics={'time_inference': 0.0003836631774902344, 'time_environment_step': 0.0003114461898803711, 'time_sample_batch': 0.00010037422180175781, 'time_algorithm_update': 0.0027820348739624025, 'temp_loss': -4.368059706687927, 'temp': 1.0317106366157531, 'critic_loss': 241.1410659790039, 'actor_loss': 23.977061080932618, 'time_step': 0.0036036014556884766, 'rollout_return': 8.0, 'evaluation': 14.4} step=640\n",
      "2023-03-16 10:13.11 [info     ] Model parameters are saved to d3rlpy_logs/SAC_online_20230316101306/model_650.pt\n",
      "2023-03-16 10:13.11 [info     ] SAC_online_20230316101306: epoch=65 step=650 epoch=65 metrics={'time_inference': 0.0003480434417724609, 'time_environment_step': 0.0003137826919555664, 'time_sample_batch': 0.00010387897491455078, 'time_algorithm_update': 0.0028780698776245117, 'temp_loss': -4.659889435768127, 'temp': 1.0324681878089905, 'critic_loss': 243.0657516479492, 'actor_loss': 24.188938713073732, 'time_step': 0.0036701202392578126, 'rollout_return': 10.0, 'evaluation': 0.0} step=650\n",
      "2023-03-16 10:13.11 [info     ] Model parameters are saved to d3rlpy_logs/SAC_online_20230316101306/model_660.pt\n",
      "2023-03-16 10:13.11 [info     ] SAC_online_20230316101306: epoch=66 step=660 epoch=66 metrics={'time_inference': 0.00033125877380371096, 'time_environment_step': 0.00031452178955078126, 'time_sample_batch': 0.00010182857513427735, 'time_algorithm_update': 0.003011274337768555, 'temp_loss': -4.313385558128357, 'temp': 1.0332478046417237, 'critic_loss': 250.41268920898438, 'actor_loss': 24.297749519348145, 'time_step': 0.0037845373153686523, 'rollout_return': 21.0, 'evaluation': 0.0} step=660\n",
      "2023-03-16 10:13.11 [info     ] Model parameters are saved to d3rlpy_logs/SAC_online_20230316101306/model_670.pt\n",
      "2023-03-16 10:13.11 [info     ] SAC_online_20230316101306: epoch=67 step=670 epoch=67 metrics={'time_inference': 0.00033314228057861327, 'time_environment_step': 0.0003262758255004883, 'time_sample_batch': 0.00010080337524414063, 'time_algorithm_update': 0.0028792619705200195, 'temp_loss': -4.5461445331573485, 'temp': 1.034014105796814, 'critic_loss': 238.3878631591797, 'actor_loss': 23.525872802734376, 'time_step': 0.0036661386489868163, 'rollout_return': 13.0, 'evaluation': 14.5} step=670\n",
      "2023-03-16 10:13.11 [info     ] Model parameters are saved to d3rlpy_logs/SAC_online_20230316101306/model_680.pt\n",
      "2023-03-16 10:13.11 [info     ] SAC_online_20230316101306: epoch=68 step=680 epoch=68 metrics={'time_inference': 0.000299072265625, 'time_environment_step': 0.00029878616333007814, 'time_sample_batch': 9.756088256835937e-05, 'time_algorithm_update': 0.0028730154037475584, 'temp_loss': -4.4669629573822025, 'temp': 1.0348031878471375, 'critic_loss': 247.2240417480469, 'actor_loss': 23.53225326538086, 'time_step': 0.0035935401916503905, 'rollout_return': 17.0, 'evaluation': 15.8} step=680\n",
      "2023-03-16 10:13.11 [info     ] Model parameters are saved to d3rlpy_logs/SAC_online_20230316101306/model_690.pt\n",
      "2023-03-16 10:13.11 [info     ] SAC_online_20230316101306: epoch=69 step=690 epoch=69 metrics={'time_inference': 0.0003341197967529297, 'time_environment_step': 0.0003098726272583008, 'time_sample_batch': 0.00010700225830078125, 'time_algorithm_update': 0.0028002023696899413, 'temp_loss': -4.998533248901367, 'temp': 1.0356310725212097, 'critic_loss': 239.6012176513672, 'actor_loss': 24.760656356811523, 'time_step': 0.003577399253845215, 'rollout_return': 20.0, 'evaluation': 0.0} step=690\n",
      "2023-03-16 10:13.11 [info     ] Model parameters are saved to d3rlpy_logs/SAC_online_20230316101306/model_700.pt\n",
      "2023-03-16 10:13.11 [info     ] SAC_online_20230316101306: epoch=70 step=700 epoch=70 metrics={'time_inference': 0.00035867691040039065, 'time_environment_step': 0.0003074169158935547, 'time_sample_batch': 0.0001062631607055664, 'time_algorithm_update': 0.003072977066040039, 'temp_loss': -4.74047532081604, 'temp': 1.0364957809448243, 'critic_loss': 227.58435821533203, 'actor_loss': 23.9195556640625, 'time_step': 0.0038734912872314454, 'rollout_return': 22.0, 'evaluation': 16.3} step=700\n",
      "2023-03-16 10:13.11 [info     ] Model parameters are saved to d3rlpy_logs/SAC_online_20230316101306/model_710.pt\n",
      "2023-03-16 10:13.11 [info     ] SAC_online_20230316101306: epoch=71 step=710 epoch=71 metrics={'time_inference': 0.0003028154373168945, 'time_environment_step': 0.00031108856201171874, 'time_sample_batch': 9.560585021972656e-05, 'time_algorithm_update': 0.002834033966064453, 'temp_loss': -4.9773979663848875, 'temp': 1.0373854994773866, 'critic_loss': 223.2661117553711, 'actor_loss': 24.469883155822753, 'time_step': 0.003569507598876953, 'rollout_return': 11.0, 'evaluation': 13.1} step=710\n",
      "2023-03-16 10:13.11 [info     ] Model parameters are saved to d3rlpy_logs/SAC_online_20230316101306/model_720.pt\n",
      "2023-03-16 10:13.11 [info     ] SAC_online_20230316101306: epoch=72 step=720 epoch=72 metrics={'time_inference': 0.0003500461578369141, 'time_environment_step': 0.0003132820129394531, 'time_sample_batch': 0.00010085105895996094, 'time_algorithm_update': 0.0028757810592651366, 'temp_loss': -4.888719940185547, 'temp': 1.038302719593048, 'critic_loss': 232.4503143310547, 'actor_loss': 23.737464714050294, 'time_step': 0.0036654233932495116, 'rollout_return': 32.0, 'evaluation': 0.0} step=720\n",
      "2023-03-16 10:13.11 [info     ] Model parameters are saved to d3rlpy_logs/SAC_online_20230316101306/model_730.pt\n",
      "2023-03-16 10:13.11 [info     ] SAC_online_20230316101306: epoch=73 step=730 epoch=73 metrics={'time_inference': 0.00035583972930908203, 'time_environment_step': 0.00031025409698486327, 'time_sample_batch': 0.00010228157043457031, 'time_algorithm_update': 0.0028495550155639648, 'temp_loss': -4.7609799861907955, 'temp': 1.0392257571220398, 'critic_loss': 219.1387939453125, 'actor_loss': 23.635043144226074, 'time_step': 0.0036441564559936525, 'rollout_return': 20.0, 'evaluation': 15.8} step=730\n",
      "2023-03-16 10:13.11 [info     ] Model parameters are saved to d3rlpy_logs/SAC_online_20230316101306/model_740.pt\n",
      "2023-03-16 10:13.11 [info     ] SAC_online_20230316101306: epoch=74 step=740 epoch=74 metrics={'time_inference': 0.000287628173828125, 'time_environment_step': 0.0003079652786254883, 'time_sample_batch': 0.00010447502136230468, 'time_algorithm_update': 0.0030258655548095702, 'temp_loss': -4.809513521194458, 'temp': 1.0401501774787902, 'critic_loss': 214.83686218261718, 'actor_loss': 24.41849555969238, 'time_step': 0.003751397132873535, 'rollout_return': 24.0, 'evaluation': 14.4} step=740\n",
      "2023-03-16 10:13.12 [info     ] Model parameters are saved to d3rlpy_logs/SAC_online_20230316101306/model_750.pt\n",
      "2023-03-16 10:13.12 [info     ] SAC_online_20230316101306: epoch=75 step=750 epoch=75 metrics={'time_inference': 0.0003438711166381836, 'time_environment_step': 0.0003103494644165039, 'time_sample_batch': 0.00010039806365966797, 'time_algorithm_update': 0.0029165267944335936, 'temp_loss': -4.169823002815247, 'temp': 1.0410651206970214, 'critic_loss': 212.49697875976562, 'actor_loss': 23.296362686157227, 'time_step': 0.003696632385253906, 'rollout_return': 15.0, 'evaluation': 0.0} step=750\n",
      "2023-03-16 10:13.12 [info     ] Model parameters are saved to d3rlpy_logs/SAC_online_20230316101306/model_760.pt\n",
      "2023-03-16 10:13.12 [info     ] SAC_online_20230316101306: epoch=76 step=760 epoch=76 metrics={'time_inference': 0.00036673545837402345, 'time_environment_step': 0.0003042936325073242, 'time_sample_batch': 0.00010006427764892578, 'time_algorithm_update': 0.0028006315231323244, 'temp_loss': -4.9819224834442135, 'temp': 1.0419469475746155, 'critic_loss': 214.22882232666015, 'actor_loss': 23.926935958862305, 'time_step': 0.0035972118377685545, 'rollout_return': 9.0, 'evaluation': 0.0} step=760\n",
      "2023-03-16 10:13.12 [info     ] Model parameters are saved to d3rlpy_logs/SAC_online_20230316101306/model_770.pt\n",
      "2023-03-16 10:13.12 [info     ] SAC_online_20230316101306: epoch=77 step=770 epoch=77 metrics={'time_inference': 0.00032491683959960936, 'time_environment_step': 0.0003116607666015625, 'time_sample_batch': 0.00010120868682861328, 'time_algorithm_update': 0.002818870544433594, 'temp_loss': -4.768679618835449, 'temp': 1.0428896307945252, 'critic_loss': 211.55430450439454, 'actor_loss': 22.7196533203125, 'time_step': 0.0035826921463012694, 'rollout_return': 16.0, 'evaluation': 16.1} step=770\n",
      "2023-03-16 10:13.12 [info     ] Model parameters are saved to d3rlpy_logs/SAC_online_20230316101306/model_780.pt\n",
      "2023-03-16 10:13.12 [info     ] SAC_online_20230316101306: epoch=78 step=780 epoch=78 metrics={'time_inference': 0.00041675567626953125, 'time_environment_step': 0.00031862258911132815, 'time_sample_batch': 0.00010786056518554687, 'time_algorithm_update': 0.0029744863510131835, 'temp_loss': -4.6925757884979244, 'temp': 1.0438495993614196, 'critic_loss': 212.11539154052736, 'actor_loss': 23.453107833862305, 'time_step': 0.0038437128067016603, 'rollout_return': 19.0, 'evaluation': 14.9} step=780\n",
      "2023-03-16 10:13.12 [info     ] Model parameters are saved to d3rlpy_logs/SAC_online_20230316101306/model_790.pt\n",
      "2023-03-16 10:13.12 [info     ] SAC_online_20230316101306: epoch=79 step=790 epoch=79 metrics={'time_inference': 0.00040194988250732424, 'time_environment_step': 0.0003122568130493164, 'time_sample_batch': 0.0001054525375366211, 'time_algorithm_update': 0.002948284149169922, 'temp_loss': -4.763921022415161, 'temp': 1.044819700717926, 'critic_loss': 217.77885894775392, 'actor_loss': 23.551092910766602, 'time_step': 0.0037930488586425783, 'rollout_return': 14.0, 'evaluation': 14.3} step=790\n",
      "2023-03-16 10:13.12 [info     ] Model parameters are saved to d3rlpy_logs/SAC_online_20230316101306/model_800.pt\n",
      "2023-03-16 10:13.12 [info     ] SAC_online_20230316101306: epoch=80 step=800 epoch=80 metrics={'time_inference': 0.000295257568359375, 'time_environment_step': 0.0002990245819091797, 'time_sample_batch': 9.753704071044922e-05, 'time_algorithm_update': 0.0027644157409667967, 'temp_loss': -4.554749870300293, 'temp': 1.0458012342453002, 'critic_loss': 213.16629180908203, 'actor_loss': 22.673496627807616, 'time_step': 0.0034797191619873047, 'rollout_return': 32.0, 'evaluation': 13.9} step=800\n",
      "2023-03-16 10:13.12 [info     ] Model parameters are saved to d3rlpy_logs/SAC_online_20230316101306/model_810.pt\n",
      "2023-03-16 10:13.12 [info     ] SAC_online_20230316101306: epoch=81 step=810 epoch=81 metrics={'time_inference': 0.00034079551696777346, 'time_environment_step': 0.00031006336212158203, 'time_sample_batch': 9.984970092773438e-05, 'time_algorithm_update': 0.0028510808944702147, 'temp_loss': -4.750584411621094, 'temp': 1.046771728992462, 'critic_loss': 197.4535369873047, 'actor_loss': 22.585025596618653, 'time_step': 0.003627324104309082, 'rollout_return': 21.0, 'evaluation': 15.6} step=810\n",
      "2023-03-16 10:13.12 [info     ] Model parameters are saved to d3rlpy_logs/SAC_online_20230316101306/model_820.pt\n",
      "2023-03-16 10:13.12 [info     ] SAC_online_20230316101306: epoch=82 step=820 epoch=82 metrics={'time_inference': 0.00041544437408447266, 'time_environment_step': 0.0003111839294433594, 'time_sample_batch': 0.00010514259338378906, 'time_algorithm_update': 0.0028437137603759765, 'temp_loss': -4.4968828678131105, 'temp': 1.0477613091468811, 'critic_loss': 202.99743041992187, 'actor_loss': 23.29740676879883, 'time_step': 0.0037013769149780275, 'rollout_return': 12.0, 'evaluation': 14.3} step=820\n",
      "2023-03-16 10:13.12 [info     ] Model parameters are saved to d3rlpy_logs/SAC_online_20230316101306/model_830.pt\n",
      "2023-03-16 10:13.12 [info     ] SAC_online_20230316101306: epoch=83 step=830 epoch=83 metrics={'time_inference': 0.00038156509399414065, 'time_environment_step': 0.00045535564422607424, 'time_sample_batch': 0.00012087821960449219, 'time_algorithm_update': 0.0035816431045532227, 'temp_loss': -4.81829605102539, 'temp': 1.0487440943717956, 'critic_loss': 213.04957427978516, 'actor_loss': 23.71524257659912, 'time_step': 0.004567241668701172, 'rollout_return': 17.0, 'evaluation': 12.4} step=830\n",
      "2023-03-16 10:13.12 [info     ] Model parameters are saved to d3rlpy_logs/SAC_online_20230316101306/model_840.pt\n",
      "2023-03-16 10:13.12 [info     ] SAC_online_20230316101306: epoch=84 step=840 epoch=84 metrics={'time_inference': 0.0003395557403564453, 'time_environment_step': 0.0003348112106323242, 'time_sample_batch': 0.00010519027709960937, 'time_algorithm_update': 0.002930951118469238, 'temp_loss': -4.793230175971985, 'temp': 1.0497705221176148, 'critic_loss': 201.1738754272461, 'actor_loss': 23.68255748748779, 'time_step': 0.0037372350692749024, 'rollout_return': 6.0, 'evaluation': 12.9} step=840\n",
      "2023-03-16 10:13.12 [info     ] Model parameters are saved to d3rlpy_logs/SAC_online_20230316101306/model_850.pt\n",
      "2023-03-16 10:13.12 [info     ] SAC_online_20230316101306: epoch=85 step=850 epoch=85 metrics={'time_inference': 0.00037024021148681643, 'time_environment_step': 0.00031168460845947265, 'time_sample_batch': 0.0001013040542602539, 'time_algorithm_update': 0.0028614044189453126, 'temp_loss': -4.934102725982666, 'temp': 1.0508220314979553, 'critic_loss': 191.13996124267578, 'actor_loss': 23.026952171325682, 'time_step': 0.0036707162857055665, 'rollout_return': 15.0, 'evaluation': 15.8} step=850\n",
      "2023-03-16 10:13.12 [info     ] Model parameters are saved to d3rlpy_logs/SAC_online_20230316101306/model_860.pt\n",
      "2023-03-16 10:13.12 [info     ] SAC_online_20230316101306: epoch=86 step=860 epoch=86 metrics={'time_inference': 0.00030846595764160155, 'time_environment_step': 0.0003226041793823242, 'time_sample_batch': 0.00010480880737304688, 'time_algorithm_update': 0.0028133153915405273, 'temp_loss': -4.861331605911255, 'temp': 1.0519027233123779, 'critic_loss': 206.23473358154297, 'actor_loss': 23.649760818481447, 'time_step': 0.0035753726959228517, 'rollout_return': 19.0, 'evaluation': 14.4} step=860\n",
      "2023-03-16 10:13.12 [info     ] Model parameters are saved to d3rlpy_logs/SAC_online_20230316101306/model_870.pt\n",
      "2023-03-16 10:13.12 [info     ] SAC_online_20230316101306: epoch=87 step=870 epoch=87 metrics={'time_inference': 0.00038769245147705076, 'time_environment_step': 0.0003113269805908203, 'time_sample_batch': 0.00010726451873779296, 'time_algorithm_update': 0.0028646230697631837, 'temp_loss': -4.797098541259766, 'temp': 1.0529908418655396, 'critic_loss': 205.7014602661133, 'actor_loss': 24.03049030303955, 'time_step': 0.0036977291107177734, 'rollout_return': 26.0, 'evaluation': 14.5} step=870\n",
      "2023-03-16 10:13.13 [info     ] Model parameters are saved to d3rlpy_logs/SAC_online_20230316101306/model_880.pt\n",
      "2023-03-16 10:13.13 [info     ] SAC_online_20230316101306: epoch=88 step=880 epoch=88 metrics={'time_inference': 0.0004007101058959961, 'time_environment_step': 0.00030517578125, 'time_sample_batch': 0.00010716915130615234, 'time_algorithm_update': 0.0030167341232299806, 'temp_loss': -4.730502319335938, 'temp': 1.054079496860504, 'critic_loss': 199.93225708007813, 'actor_loss': 23.51590003967285, 'time_step': 0.0038555383682250975, 'rollout_return': 17.0, 'evaluation': 14.7} step=880\n",
      "2023-03-16 10:13.13 [info     ] Model parameters are saved to d3rlpy_logs/SAC_online_20230316101306/model_890.pt\n",
      "2023-03-16 10:13.13 [info     ] SAC_online_20230316101306: epoch=89 step=890 epoch=89 metrics={'time_inference': 0.0002852439880371094, 'time_environment_step': 0.00030009746551513673, 'time_sample_batch': 9.965896606445312e-05, 'time_algorithm_update': 0.00281980037689209, 'temp_loss': -4.567574548721313, 'temp': 1.0551618933677673, 'critic_loss': 197.84735717773438, 'actor_loss': 22.759322547912596, 'time_step': 0.00352933406829834, 'rollout_return': 25.0, 'evaluation': 15.1} step=890\n",
      "2023-03-16 10:13.13 [info     ] Model parameters are saved to d3rlpy_logs/SAC_online_20230316101306/model_900.pt\n",
      "2023-03-16 10:13.13 [info     ] SAC_online_20230316101306: epoch=90 step=900 epoch=90 metrics={'time_inference': 0.00040051937103271487, 'time_environment_step': 0.00030570030212402345, 'time_sample_batch': 0.00010368824005126953, 'time_algorithm_update': 0.002813887596130371, 'temp_loss': -4.485928082466126, 'temp': 1.0562326908111572, 'critic_loss': 210.4225311279297, 'actor_loss': 23.121047973632812, 'time_step': 0.0036490678787231444, 'rollout_return': 9.0, 'evaluation': 14.3} step=900\n",
      "2023-03-16 10:13.13 [info     ] Model parameters are saved to d3rlpy_logs/SAC_online_20230316101306/model_910.pt\n",
      "2023-03-16 10:13.13 [info     ] SAC_online_20230316101306: epoch=91 step=910 epoch=91 metrics={'time_inference': 0.00042514801025390626, 'time_environment_step': 0.00031468868255615237, 'time_sample_batch': 0.00010685920715332031, 'time_algorithm_update': 0.002923274040222168, 'temp_loss': -4.6637688159942625, 'temp': 1.0573018074035645, 'critic_loss': 218.74151916503905, 'actor_loss': 22.813819694519044, 'time_step': 0.003796076774597168, 'rollout_return': 23.0, 'evaluation': 14.7} step=910\n",
      "2023-03-16 10:13.13 [info     ] Model parameters are saved to d3rlpy_logs/SAC_online_20230316101306/model_920.pt\n",
      "2023-03-16 10:13.13 [info     ] SAC_online_20230316101306: epoch=92 step=920 epoch=92 metrics={'time_inference': 0.00028781890869140626, 'time_environment_step': 0.0003104209899902344, 'time_sample_batch': 0.00010612010955810547, 'time_algorithm_update': 0.0029592037200927733, 'temp_loss': -4.494358801841736, 'temp': 1.0583804965019226, 'critic_loss': 204.6853271484375, 'actor_loss': 22.676267433166505, 'time_step': 0.0036888599395751955, 'rollout_return': 31.0, 'evaluation': 16.0} step=920\n",
      "2023-03-16 10:13.13 [info     ] Model parameters are saved to d3rlpy_logs/SAC_online_20230316101306/model_930.pt\n",
      "2023-03-16 10:13.13 [info     ] SAC_online_20230316101306: epoch=93 step=930 epoch=93 metrics={'time_inference': 0.0004411935806274414, 'time_environment_step': 0.0003118276596069336, 'time_sample_batch': 0.00010118484497070312, 'time_algorithm_update': 0.002908921241760254, 'temp_loss': -4.802267384529114, 'temp': 1.059464931488037, 'critic_loss': 210.8011901855469, 'actor_loss': 23.132031631469726, 'time_step': 0.0037894487380981446, 'rollout_return': 23.0, 'evaluation': 14.5} step=930\n",
      "2023-03-16 10:13.13 [info     ] Model parameters are saved to d3rlpy_logs/SAC_online_20230316101306/model_940.pt\n",
      "2023-03-16 10:13.13 [info     ] SAC_online_20230316101306: epoch=94 step=940 epoch=94 metrics={'time_inference': 0.0004858255386352539, 'time_environment_step': 0.0002993106842041016, 'time_sample_batch': 0.00010042190551757812, 'time_algorithm_update': 0.002738070487976074, 'temp_loss': -3.3811169624328614, 'temp': 1.0605743885040284, 'critic_loss': 188.07828063964843, 'actor_loss': 22.03077850341797, 'time_step': 0.00364990234375, 'rollout_return': 12.0, 'evaluation': 13.5} step=940\n",
      "2023-03-16 10:13.13 [info     ] Model parameters are saved to d3rlpy_logs/SAC_online_20230316101306/model_950.pt\n",
      "2023-03-16 10:13.13 [info     ] SAC_online_20230316101306: epoch=95 step=950 epoch=95 metrics={'time_inference': 0.0003018379211425781, 'time_environment_step': 0.0003148555755615234, 'time_sample_batch': 0.00010669231414794922, 'time_algorithm_update': 0.0028447628021240233, 'temp_loss': -4.273624670505524, 'temp': 1.0615251898765563, 'critic_loss': 193.48868255615236, 'actor_loss': 21.064459228515624, 'time_step': 0.0035943031311035157, 'rollout_return': 28.0, 'evaluation': 10.7} step=950\n",
      "2023-03-16 10:13.13 [info     ] Model parameters are saved to d3rlpy_logs/SAC_online_20230316101306/model_960.pt\n",
      "2023-03-16 10:13.13 [info     ] SAC_online_20230316101306: epoch=96 step=960 epoch=96 metrics={'time_inference': 0.0004417657852172852, 'time_environment_step': 0.0003190755844116211, 'time_sample_batch': 0.00010974407196044922, 'time_algorithm_update': 0.0028893709182739257, 'temp_loss': -4.992033433914185, 'temp': 1.062567150592804, 'critic_loss': 215.02010650634764, 'actor_loss': 23.361270713806153, 'time_step': 0.0037864208221435546, 'rollout_return': 23.0, 'evaluation': 14.1} step=960\n",
      "2023-03-16 10:13.13 [info     ] Model parameters are saved to d3rlpy_logs/SAC_online_20230316101306/model_970.pt\n",
      "2023-03-16 10:13.13 [info     ] SAC_online_20230316101306: epoch=97 step=970 epoch=97 metrics={'time_inference': 0.00040030479431152344, 'time_environment_step': 0.00031228065490722655, 'time_sample_batch': 0.00010762214660644531, 'time_algorithm_update': 0.0029874801635742187, 'temp_loss': -5.133001518249512, 'temp': 1.0637443780899047, 'critic_loss': 200.76861114501952, 'actor_loss': 24.276062202453613, 'time_step': 0.0038339376449584963, 'rollout_return': 20.0, 'evaluation': 13.3} step=970\n",
      "2023-03-16 10:13.13 [info     ] Model parameters are saved to d3rlpy_logs/SAC_online_20230316101306/model_980.pt\n",
      "2023-03-16 10:13.13 [info     ] SAC_online_20230316101306: epoch=98 step=980 epoch=98 metrics={'time_inference': 0.000298309326171875, 'time_environment_step': 0.0002997398376464844, 'time_sample_batch': 9.88006591796875e-05, 'time_algorithm_update': 0.002838134765625, 'temp_loss': -4.5981049060821535, 'temp': 1.0649617552757262, 'critic_loss': 214.31353454589845, 'actor_loss': 22.82869186401367, 'time_step': 0.0035594940185546876, 'rollout_return': 30.0, 'evaluation': 11.1} step=980\n",
      "2023-03-16 10:13.13 [info     ] Model parameters are saved to d3rlpy_logs/SAC_online_20230316101306/model_990.pt\n",
      "2023-03-16 10:13.13 [info     ] SAC_online_20230316101306: epoch=99 step=990 epoch=99 metrics={'time_inference': 0.0004230499267578125, 'time_environment_step': 0.00030672550201416016, 'time_sample_batch': 0.00010259151458740235, 'time_algorithm_update': 0.002796173095703125, 'temp_loss': -4.879322028160095, 'temp': 1.066151225566864, 'critic_loss': 212.7003173828125, 'actor_loss': 22.934923362731933, 'time_step': 0.003654193878173828, 'rollout_return': 19.0, 'evaluation': 13.5} step=990\n",
      "2023-03-16 10:13.13 [info     ] Model parameters are saved to d3rlpy_logs/SAC_online_20230316101306/model_1000.pt\n",
      "2023-03-16 10:13.13 [info     ] SAC_online_20230316101306: epoch=100 step=1000 epoch=100 metrics={'time_inference': 0.00032639503479003906, 'time_environment_step': 0.00030775070190429686, 'time_sample_batch': 0.00011186599731445312, 'time_algorithm_update': 0.002892160415649414, 'temp_loss': -4.928334712982178, 'temp': 1.0673783540725708, 'critic_loss': 222.69490661621094, 'actor_loss': 22.419795989990234, 'time_step': 0.0036642789840698243, 'rollout_return': 22.0, 'evaluation': 15.9} step=1000\n",
      "2023-03-16 10:13.13 [warning  ] Parameters will be reinitialized.\n"
     ]
    }
   ],
   "source": [
    "# start training\n",
    "# skip if there is a pre-trained model\n",
    "sac.fit_online(\n",
    "    env_,\n",
    "    buffer,\n",
    "    eval_env=env_,\n",
    "    n_steps=1000,\n",
    "    n_steps_per_epoch=10,\n",
    "    update_start_step=10,\n",
    "    # n_steps=100000,\n",
    "    # n_steps_per_epoch=1000,\n",
    "    # update_start_step=1000,\n",
    ")\n",
    "# save model\n",
    "sac.save_model(\"d3rlpy_logs/sac.pt\")\n",
    "# reload model\n",
    "sac.build_with_env(env_)\n",
    "sac.load_model(\"d3rlpy_logs/sac.pt\")"
   ]
  },
  {
   "cell_type": "code",
   "execution_count": 42,
   "metadata": {},
   "outputs": [],
   "source": [
    "from d3rlpy.dataset import MDPDataset\n",
    "from d3rlpy.algos import CQL"
   ]
  },
  {
   "cell_type": "code",
   "execution_count": 43,
   "metadata": {},
   "outputs": [],
   "source": [
    "# import ope modules from OFRL\n",
    "from ofrl.ope import CreateOPEInput\n",
    "from ofrl.ope import OffPolicyEvaluation as OPE\n",
    "# basic estimators\n",
    "from ofrl.ope import ContinuousDirectMethod as DM\n",
    "from ofrl.ope import ContinuousTrajectoryWiseImportanceSampling as TIS\n",
    "from ofrl.ope import ContinuousPerDecisionImportanceSampling as PDIS\n",
    "from ofrl.ope import ContinuousDoublyRobust as DR\n",
    "# self normalized estimators\n",
    "from ofrl.ope import ContinuousSelfNormalizedTrajectoryWiseImportanceSampling as SNTIS\n",
    "from ofrl.ope import ContinuousSelfNormalizedPerDecisionImportanceSampling as SNPDIS\n",
    "from ofrl.ope import ContinuousSelfNormalizedDoublyRobust as SNDR\n",
    "# marginal estimators\n",
    "from ofrl.ope import ContinuousStateActionMarginalImportanceSampling as SAMIS\n",
    "from ofrl.ope import ContinuousStateActionMarginalDoublyRobust as SAMDR\n",
    "from ofrl.ope import ContinuousStateMarginalImportanceSampling as SMIS\n",
    "from ofrl.ope import ContinuousStateMarginalDoublyRobust as SMDR\n",
    "from ofrl.ope import ContinuousStateActionMarginalSelfNormalizedImportanceSampling as SAMSNIS\n",
    "from ofrl.ope import ContinuousStateActionMarginalSelfNormalizedDoublyRobust as SAMSNDR\n",
    "from ofrl.ope import ContinuousStateMarginalSelfNormalizedImportanceSampling as SMSNIS\n",
    "from ofrl.ope import ContinuousStateMarginalSelfNormalizedDoublyRobust as SMSNDR\n",
    "# double reinforcement learning estimators\n",
    "from ofrl.ope import ContinuousDoubleReinforcementLearning as DRL"
   ]
  },
  {
   "cell_type": "code",
   "execution_count": 44,
   "metadata": {},
   "outputs": [],
   "source": [
    "basic_estimators = [DM(), TIS(), PDIS(), DR(), SNTIS(), SNPDIS(), SNDR()]\n",
    "state_marginal_estimators = [SMIS(), SMDR(), SMSNIS(), SMSNDR()]\n",
    "state_action_marginal_estimators = [SAMIS(), SAMDR(), SAMSNIS(), SAMSNDR()]\n",
    "drl_estimators = [DRL()]\n",
    "all_estimators = basic_estimators + state_marginal_estimators + state_action_marginal_estimators + drl_estimators\n",
    "\n",
    "basic_estimators_name = [\"dm\", \"tis\", \"pdis\", \"dr\", \"sntis\", \"snpdis\", \"sndr\"]\n",
    "state_marginal_estimators_name = [\"sm_is\", \"sm_dr\", \"sm_snis\", \"sm_sndr\"]\n",
    "state_action_marginal_estimators_name = [\"sam_is\", \"sam_dr\", \"sam_snis\", \"sam_sndr\"]\n",
    "drl_estimators_name = [\"drl\"]"
   ]
  },
  {
   "cell_type": "code",
   "execution_count": 45,
   "metadata": {},
   "outputs": [],
   "source": [
    "n_trajectories_list = [100, 200, 400, 800, 1600]\n",
    "# n_trajectories_list = [100, 200, 400, 800, 1600, 3200, 6400, 12800, 25600, 51200]\n",
    "random_state_list = [10, 20, 30, 40, 50]\n",
    "# random_state_list = [10, 20, 30, 40, 50, 60, 70, 80, 90, 100]\n",
    "bias_df_list = []\n",
    "variance_df_list = []\n"
   ]
  },
  {
   "cell_type": "code",
   "execution_count": 46,
   "metadata": {},
   "outputs": [],
   "source": [
    "# def cql():\n",
    "#     # Use Conservative Q-Learning policy\n",
    "#     cql = CQL(\n",
    "#         actor_encoder_factory=VectorEncoderFactory(hidden_units=[30, 30]),\n",
    "#         critic_encoder_factory=VectorEncoderFactory(hidden_units=[30, 30]),\n",
    "#         q_func_factory=MeanQFunctionFactory(),\n",
    "#         use_gpu=torch.cuda.is_available(),\n",
    "#         action_scaler=MinMaxActionScaler(\n",
    "#             minimum=env_.action_space.low,  # minimum value that policy can take\n",
    "#             maximum=env_.action_space.high,  # maximum value that policy can take\n",
    "#         )\n",
    "#     )\n",
    "\n",
    "#     cql.fit(\n",
    "#     train_episodes,\n",
    "#     eval_episodes=test_episodes,\n",
    "#     n_steps=10000,\n",
    "#     scorers={},\n",
    "\n",
    "#     # save model\n",
    "#     cql.save_model(\"d3rlpy_logs/cql_continuous.pt\")\n",
    "\n",
    "#     # reload model\n",
    "#     cql.build_with_env(env)\n",
    "#     cql.load_model(\"d3rlpy_logs/cql_continuous.pt\")\n",
    "# )"
   ]
  },
  {
   "cell_type": "code",
   "execution_count": 47,
   "metadata": {},
   "outputs": [
    {
     "data": {
      "application/vnd.jupyter.widget-view+json": {
       "model_id": "14e7a2b80dc74bee81bdd8635a353225",
       "version_major": 2,
       "version_minor": 0
      },
      "text/plain": [
       "[obtain_trajectories]:   0%|          | 0/100 [00:00<?, ?it/s]"
      ]
     },
     "metadata": {},
     "output_type": "display_data"
    },
    {
     "data": {
      "application/vnd.jupyter.widget-view+json": {
       "model_id": "ce1aa98ff6394f66b5838ea4c7b34560",
       "version_major": 2,
       "version_minor": 0
      },
      "text/plain": [
       "[obtain_trajectories]:   0%|          | 0/100 [00:00<?, ?it/s]"
      ]
     },
     "metadata": {},
     "output_type": "display_data"
    },
    {
     "name": "stdout",
     "output_type": "stream",
     "text": [
      "2023-03-16 10:13.15 [debug    ] RandomIterator is selected.\n",
      "2023-03-16 10:13.15 [info     ] Directory is created at d3rlpy_logs/CQL_20230316101315\n",
      "2023-03-16 10:13.15 [debug    ] Fitting action scaler...       action_scaler=min_max\n",
      "2023-03-16 10:13.15 [debug    ] Building models...\n",
      "2023-03-16 10:13.15 [debug    ] Models have been built.\n",
      "2023-03-16 10:13.15 [info     ] Parameters are saved to d3rlpy_logs/CQL_20230316101315/params.json params={'action_scaler': {'type': 'min_max', 'params': {'minimum': array([0.1]), 'maximum': array([10.])}}, 'actor_encoder_factory': {'type': 'vector', 'params': {'hidden_units': [30, 30], 'activation': 'relu', 'use_batch_norm': False, 'dropout_rate': None, 'use_dense': False}}, 'actor_learning_rate': 0.0001, 'actor_optim_factory': {'optim_cls': 'Adam', 'betas': (0.9, 0.999), 'eps': 1e-08, 'weight_decay': 0, 'amsgrad': False}, 'alpha_learning_rate': 0.0001, 'alpha_optim_factory': {'optim_cls': 'Adam', 'betas': (0.9, 0.999), 'eps': 1e-08, 'weight_decay': 0, 'amsgrad': False}, 'alpha_threshold': 10.0, 'batch_size': 256, 'conservative_weight': 5.0, 'critic_encoder_factory': {'type': 'vector', 'params': {'hidden_units': [30, 30], 'activation': 'relu', 'use_batch_norm': False, 'dropout_rate': None, 'use_dense': False}}, 'critic_learning_rate': 0.0003, 'critic_optim_factory': {'optim_cls': 'Adam', 'betas': (0.9, 0.999), 'eps': 1e-08, 'weight_decay': 0, 'amsgrad': False}, 'gamma': 0.99, 'generated_maxlen': 100000, 'initial_alpha': 1.0, 'initial_temperature': 1.0, 'n_action_samples': 10, 'n_critics': 2, 'n_frames': 1, 'n_steps': 1, 'q_func_factory': {'type': 'mean', 'params': {'share_encoder': False}}, 'real_ratio': 1.0, 'reward_scaler': None, 'scaler': None, 'soft_q_backup': False, 'tau': 0.005, 'temp_learning_rate': 0.0001, 'temp_optim_factory': {'optim_cls': 'Adam', 'betas': (0.9, 0.999), 'eps': 1e-08, 'weight_decay': 0, 'amsgrad': False}, 'use_gpu': None, 'algorithm': 'CQL', 'observation_shape': (7,), 'action_size': 1}\n"
     ]
    },
    {
     "data": {
      "application/vnd.jupyter.widget-view+json": {
       "model_id": "d2b062734ed54112ac56ecbfe273f75e",
       "version_major": 2,
       "version_minor": 0
      },
      "text/plain": [
       "Epoch 1/1:   0%|          | 0/10000 [00:00<?, ?it/s]"
      ]
     },
     "metadata": {},
     "output_type": "display_data"
    },
    {
     "name": "stdout",
     "output_type": "stream",
     "text": [
      "2023-03-16 10:16.06 [info     ] CQL_20230316101315: epoch=1 step=10000 epoch=1 metrics={'time_sample_batch': 0.000502885913848877, 'time_algorithm_update': 0.016041612243652345, 'temp_loss': -8.42130286719799, 'temp': 1.131505850982666, 'alpha_loss': -15.34521258854866, 'alpha': 1.7889249694228173, 'critic_loss': 77.21988095350265, 'actor_loss': 7.7187855567673225, 'time_step': 0.016988932633399963} step=10000\n",
      "2023-03-16 10:16.06 [info     ] Model parameters are saved to d3rlpy_logs/CQL_20230316101315/model_10000.pt\n"
     ]
    },
    {
     "data": {
      "application/vnd.jupyter.widget-view+json": {
       "model_id": "e18b0891844f42bf8562e611bd6e2452",
       "version_major": 2,
       "version_minor": 0
      },
      "text/plain": [
       "[fit FQE model]:   0%|          | 0/2 [00:00<?, ?it/s]"
      ]
     },
     "metadata": {},
     "output_type": "display_data"
    },
    {
     "name": "stdout",
     "output_type": "stream",
     "text": [
      "2023-03-16 10:16.06 [debug    ] RoundIterator is selected.\n",
      "2023-03-16 10:16.06 [info     ] Directory is created at d3rlpy_logs/FQE_20230316101606\n",
      "2023-03-16 10:16.06 [debug    ] Fitting scaler...              scaler=min_max\n",
      "2023-03-16 10:16.06 [debug    ] Fitting action scaler...       action_scaler=min_max\n",
      "2023-03-16 10:16.06 [debug    ] Building models...\n",
      "2023-03-16 10:16.06 [debug    ] Models have been built.\n",
      "2023-03-16 10:16.06 [info     ] Parameters are saved to d3rlpy_logs/FQE_20230316101606/params.json params={'action_scaler': {'type': 'min_max', 'params': {'minimum': array([0.1]), 'maximum': array([10.])}}, 'batch_size': 100, 'encoder_factory': {'type': 'vector', 'params': {'hidden_units': [30, 30], 'activation': 'relu', 'use_batch_norm': False, 'dropout_rate': None, 'use_dense': False}}, 'gamma': 0.95, 'generated_maxlen': 100000, 'learning_rate': 0.0001, 'n_critics': 1, 'n_frames': 1, 'n_steps': 1, 'optim_factory': {'optim_cls': 'Adam', 'betas': (0.9, 0.999), 'eps': 1e-08, 'weight_decay': 0, 'amsgrad': False}, 'q_func_factory': {'type': 'mean', 'params': {'share_encoder': False}}, 'real_ratio': 1.0, 'reward_scaler': None, 'scaler': {'type': 'min_max', 'params': {'maximum': array([6.00000000e+00, 3.00000000e+03, 9.98990918e-01, 2.06666667e+04,\n",
      "       1.00000000e+00, 1.80000000e+01, 9.93555087e+00]), 'minimum': array([0.        , 1.        , 0.        , 0.        , 0.        ,\n",
      "       0.        , 0.00132352])}}, 'target_update_interval': 100, 'use_gpu': None, 'algorithm': 'FQE', 'observation_shape': (7,), 'action_size': 1}\n"
     ]
    },
    {
     "data": {
      "application/vnd.jupyter.widget-view+json": {
       "model_id": "2600eeaf3b5a4d1abe4bab84d42a9d97",
       "version_major": 2,
       "version_minor": 0
      },
      "text/plain": [
       "Epoch 1/1:   0%|          | 0/7 [00:00<?, ?it/s]"
      ]
     },
     "metadata": {},
     "output_type": "display_data"
    },
    {
     "name": "stdout",
     "output_type": "stream",
     "text": [
      "2023-03-16 10:16.06 [info     ] FQE_20230316101606: epoch=1 step=7 epoch=1 metrics={'time_sample_batch': 0.00010388238089425223, 'time_algorithm_update': 0.0016775471823556082, 'loss': 15.62956292288644, 'time_step': 0.0018357889992850168} step=7\n",
      "2023-03-16 10:16.06 [info     ] Model parameters are saved to d3rlpy_logs/FQE_20230316101606/model_7.pt\n",
      "2023-03-16 10:16.06 [debug    ] RoundIterator is selected.\n",
      "2023-03-16 10:16.07 [info     ] Directory is created at d3rlpy_logs/FQE_20230316101607\n",
      "2023-03-16 10:16.07 [debug    ] Fitting scaler...              scaler=min_max\n",
      "2023-03-16 10:16.07 [debug    ] Fitting action scaler...       action_scaler=min_max\n",
      "2023-03-16 10:16.07 [debug    ] Building models...\n",
      "2023-03-16 10:16.07 [debug    ] Models have been built.\n",
      "2023-03-16 10:16.07 [info     ] Parameters are saved to d3rlpy_logs/FQE_20230316101607/params.json params={'action_scaler': {'type': 'min_max', 'params': {'minimum': array([0.1]), 'maximum': array([10.])}}, 'batch_size': 100, 'encoder_factory': {'type': 'vector', 'params': {'hidden_units': [30, 30], 'activation': 'relu', 'use_batch_norm': False, 'dropout_rate': None, 'use_dense': False}}, 'gamma': 0.95, 'generated_maxlen': 100000, 'learning_rate': 0.0001, 'n_critics': 1, 'n_frames': 1, 'n_steps': 1, 'optim_factory': {'optim_cls': 'Adam', 'betas': (0.9, 0.999), 'eps': 1e-08, 'weight_decay': 0, 'amsgrad': False}, 'q_func_factory': {'type': 'mean', 'params': {'share_encoder': False}}, 'real_ratio': 1.0, 'reward_scaler': None, 'scaler': {'type': 'min_max', 'params': {'maximum': array([6.00000000e+00, 3.00000000e+03, 9.98990918e-01, 2.06666667e+04,\n",
      "       1.00000000e+00, 1.80000000e+01, 9.93555087e+00]), 'minimum': array([0.        , 1.        , 0.        , 0.        , 0.        ,\n",
      "       0.        , 0.00132352])}}, 'target_update_interval': 100, 'use_gpu': None, 'algorithm': 'FQE', 'observation_shape': (7,), 'action_size': 1}\n"
     ]
    },
    {
     "data": {
      "application/vnd.jupyter.widget-view+json": {
       "model_id": "5ecdaf53186e49c59d41070201ece3a9",
       "version_major": 2,
       "version_minor": 0
      },
      "text/plain": [
       "Epoch 1/1:   0%|          | 0/7 [00:00<?, ?it/s]"
      ]
     },
     "metadata": {},
     "output_type": "display_data"
    },
    {
     "name": "stdout",
     "output_type": "stream",
     "text": [
      "2023-03-16 10:16.07 [info     ] FQE_20230316101607: epoch=1 step=7 epoch=1 metrics={'time_sample_batch': 8.872577122279576e-05, 'time_algorithm_update': 0.0015560218266078404, 'loss': 16.00254385811942, 'time_step': 0.0017033985682896205} step=7\n",
      "2023-03-16 10:16.07 [info     ] Model parameters are saved to d3rlpy_logs/FQE_20230316101607/model_7.pt\n"
     ]
    },
    {
     "data": {
      "application/vnd.jupyter.widget-view+json": {
       "model_id": "a396719775a44f12a1fed70f4f30e3a2",
       "version_major": 2,
       "version_minor": 0
      },
      "text/plain": [
       "[fit MWL model]:   0%|          | 0/2 [00:00<?, ?it/s]"
      ]
     },
     "metadata": {},
     "output_type": "display_data"
    },
    {
     "data": {
      "application/vnd.jupyter.widget-view+json": {
       "model_id": "efd08b1de5514e8194e8f8356c1aac29",
       "version_major": 2,
       "version_minor": 0
      },
      "text/plain": [
       "[fitting_weight_function]:   0%|          | 0/100 [00:00<?, ?it/s]"
      ]
     },
     "metadata": {},
     "output_type": "display_data"
    },
    {
     "data": {
      "application/vnd.jupyter.widget-view+json": {
       "model_id": "1174eceed1fa46d49d35d3b5dc7f1cc0",
       "version_major": 2,
       "version_minor": 0
      },
      "text/plain": [
       "[fitting_weight_function]:   0%|          | 0/100 [00:00<?, ?it/s]"
      ]
     },
     "metadata": {},
     "output_type": "display_data"
    },
    {
     "data": {
      "application/vnd.jupyter.widget-view+json": {
       "model_id": "7ac0a8db413e4aad8209ca8539bade5c",
       "version_major": 2,
       "version_minor": 0
      },
      "text/plain": [
       "[fitting_weight_function]:   0%|          | 0/100 [00:00<?, ?it/s]"
      ]
     },
     "metadata": {},
     "output_type": "display_data"
    },
    {
     "data": {
      "application/vnd.jupyter.widget-view+json": {
       "model_id": "4d84979016404b74a467feb329a19421",
       "version_major": 2,
       "version_minor": 0
      },
      "text/plain": [
       "[fitting_weight_function]:   0%|          | 0/100 [00:00<?, ?it/s]"
      ]
     },
     "metadata": {},
     "output_type": "display_data"
    },
    {
     "data": {
      "application/vnd.jupyter.widget-view+json": {
       "model_id": "61327f44872d42a6a2f7e4bb132e58bd",
       "version_major": 2,
       "version_minor": 0
      },
      "text/plain": [
       "[collect input data: eval_policy]:   0%|          | 0/2 [00:00<?, ?it/s]"
      ]
     },
     "metadata": {},
     "output_type": "display_data"
    },
    {
     "data": {
      "application/vnd.jupyter.widget-view+json": {
       "model_id": "46cc41cc861346a3898494db7d2c9768",
       "version_major": 2,
       "version_minor": 0
      },
      "text/plain": [
       "[calculate on-policy policy value]:   0%|          | 0/100 [00:00<?, ?it/s]"
      ]
     },
     "metadata": {},
     "output_type": "display_data"
    },
    {
     "data": {
      "application/vnd.jupyter.widget-view+json": {
       "model_id": "42d74cec5e8d446f930b9cd12ba98fa6",
       "version_major": 2,
       "version_minor": 0
      },
      "text/plain": [
       "[calculate on-policy policy value]:   0%|          | 0/100 [00:00<?, ?it/s]"
      ]
     },
     "metadata": {},
     "output_type": "display_data"
    },
    {
     "data": {
      "application/vnd.jupyter.widget-view+json": {
       "model_id": "51deeb49ec204a1091bfb49ce9b95179",
       "version_major": 2,
       "version_minor": 0
      },
      "text/plain": [
       "[obtain_trajectories]:   0%|          | 0/100 [00:00<?, ?it/s]"
      ]
     },
     "metadata": {},
     "output_type": "display_data"
    },
    {
     "data": {
      "application/vnd.jupyter.widget-view+json": {
       "model_id": "310b26fe7a094effa2155d7fed024990",
       "version_major": 2,
       "version_minor": 0
      },
      "text/plain": [
       "[obtain_trajectories]:   0%|          | 0/100 [00:00<?, ?it/s]"
      ]
     },
     "metadata": {},
     "output_type": "display_data"
    },
    {
     "name": "stdout",
     "output_type": "stream",
     "text": [
      "2023-03-16 10:16.45 [debug    ] RandomIterator is selected.\n",
      "2023-03-16 10:16.45 [info     ] Directory is created at d3rlpy_logs/CQL_20230316101645\n",
      "2023-03-16 10:16.45 [debug    ] Fitting action scaler...       action_scaler=min_max\n",
      "2023-03-16 10:16.45 [debug    ] Building models...\n",
      "2023-03-16 10:16.45 [debug    ] Models have been built.\n",
      "2023-03-16 10:16.45 [info     ] Parameters are saved to d3rlpy_logs/CQL_20230316101645/params.json params={'action_scaler': {'type': 'min_max', 'params': {'minimum': array([0.1]), 'maximum': array([10.])}}, 'actor_encoder_factory': {'type': 'vector', 'params': {'hidden_units': [30, 30], 'activation': 'relu', 'use_batch_norm': False, 'dropout_rate': None, 'use_dense': False}}, 'actor_learning_rate': 0.0001, 'actor_optim_factory': {'optim_cls': 'Adam', 'betas': (0.9, 0.999), 'eps': 1e-08, 'weight_decay': 0, 'amsgrad': False}, 'alpha_learning_rate': 0.0001, 'alpha_optim_factory': {'optim_cls': 'Adam', 'betas': (0.9, 0.999), 'eps': 1e-08, 'weight_decay': 0, 'amsgrad': False}, 'alpha_threshold': 10.0, 'batch_size': 256, 'conservative_weight': 5.0, 'critic_encoder_factory': {'type': 'vector', 'params': {'hidden_units': [30, 30], 'activation': 'relu', 'use_batch_norm': False, 'dropout_rate': None, 'use_dense': False}}, 'critic_learning_rate': 0.0003, 'critic_optim_factory': {'optim_cls': 'Adam', 'betas': (0.9, 0.999), 'eps': 1e-08, 'weight_decay': 0, 'amsgrad': False}, 'gamma': 0.99, 'generated_maxlen': 100000, 'initial_alpha': 1.0, 'initial_temperature': 1.0, 'n_action_samples': 10, 'n_critics': 2, 'n_frames': 1, 'n_steps': 1, 'q_func_factory': {'type': 'mean', 'params': {'share_encoder': False}}, 'real_ratio': 1.0, 'reward_scaler': None, 'scaler': None, 'soft_q_backup': False, 'tau': 0.005, 'temp_learning_rate': 0.0001, 'temp_optim_factory': {'optim_cls': 'Adam', 'betas': (0.9, 0.999), 'eps': 1e-08, 'weight_decay': 0, 'amsgrad': False}, 'use_gpu': None, 'algorithm': 'CQL', 'observation_shape': (7,), 'action_size': 1}\n"
     ]
    },
    {
     "data": {
      "application/vnd.jupyter.widget-view+json": {
       "model_id": "7ad67122b8e4470db6f54b08ef3612fc",
       "version_major": 2,
       "version_minor": 0
      },
      "text/plain": [
       "Epoch 1/1:   0%|          | 0/10000 [00:00<?, ?it/s]"
      ]
     },
     "metadata": {},
     "output_type": "display_data"
    },
    {
     "name": "stdout",
     "output_type": "stream",
     "text": [
      "2023-03-16 10:19.36 [info     ] CQL_20230316101645: epoch=1 step=10000 epoch=1 metrics={'time_sample_batch': 0.0005063568830490112, 'time_algorithm_update': 0.016033944153785704, 'temp_loss': -0.7343411195237189, 'temp': 0.9160219098508358, 'alpha_loss': -15.110053322792053, 'alpha': 1.8197603395342827, 'critic_loss': 62.03635883216858, 'actor_loss': -0.20300074375551194, 'time_step': 0.016989792037010194} step=10000\n",
      "2023-03-16 10:19.36 [info     ] Model parameters are saved to d3rlpy_logs/CQL_20230316101645/model_10000.pt\n"
     ]
    },
    {
     "data": {
      "application/vnd.jupyter.widget-view+json": {
       "model_id": "4aeadbb91b92435aa5f85083d2850d2a",
       "version_major": 2,
       "version_minor": 0
      },
      "text/plain": [
       "[fit FQE model]:   0%|          | 0/2 [00:00<?, ?it/s]"
      ]
     },
     "metadata": {},
     "output_type": "display_data"
    },
    {
     "name": "stdout",
     "output_type": "stream",
     "text": [
      "2023-03-16 10:19.36 [debug    ] RoundIterator is selected.\n",
      "2023-03-16 10:19.36 [info     ] Directory is created at d3rlpy_logs/FQE_20230316101936\n",
      "2023-03-16 10:19.36 [debug    ] Fitting scaler...              scaler=min_max\n",
      "2023-03-16 10:19.36 [debug    ] Fitting action scaler...       action_scaler=min_max\n",
      "2023-03-16 10:19.36 [debug    ] Building models...\n",
      "2023-03-16 10:19.36 [debug    ] Models have been built.\n",
      "2023-03-16 10:19.36 [info     ] Parameters are saved to d3rlpy_logs/FQE_20230316101936/params.json params={'action_scaler': {'type': 'min_max', 'params': {'minimum': array([0.1]), 'maximum': array([10.])}}, 'batch_size': 100, 'encoder_factory': {'type': 'vector', 'params': {'hidden_units': [30, 30], 'activation': 'relu', 'use_batch_norm': False, 'dropout_rate': None, 'use_dense': False}}, 'gamma': 0.95, 'generated_maxlen': 100000, 'learning_rate': 0.0001, 'n_critics': 1, 'n_frames': 1, 'n_steps': 1, 'optim_factory': {'optim_cls': 'Adam', 'betas': (0.9, 0.999), 'eps': 1e-08, 'weight_decay': 0, 'amsgrad': False}, 'q_func_factory': {'type': 'mean', 'params': {'share_encoder': False}}, 'real_ratio': 1.0, 'reward_scaler': None, 'scaler': {'type': 'min_max', 'params': {'maximum': array([6.00000000e+00, 3.00000000e+03, 9.99844840e-01, 2.00000000e+04,\n",
      "       1.00000000e+00, 1.60000000e+01, 9.93759196e+00]), 'minimum': array([0.        , 1.        , 0.        , 0.        , 0.        ,\n",
      "       0.        , 0.00508109])}}, 'target_update_interval': 100, 'use_gpu': None, 'algorithm': 'FQE', 'observation_shape': (7,), 'action_size': 1}\n"
     ]
    },
    {
     "data": {
      "application/vnd.jupyter.widget-view+json": {
       "model_id": "70da5f616a284ca6afcda3f5710e81bf",
       "version_major": 2,
       "version_minor": 0
      },
      "text/plain": [
       "Epoch 1/1:   0%|          | 0/7 [00:00<?, ?it/s]"
      ]
     },
     "metadata": {},
     "output_type": "display_data"
    },
    {
     "name": "stdout",
     "output_type": "stream",
     "text": [
      "2023-03-16 10:19.36 [info     ] FQE_20230316101936: epoch=1 step=7 epoch=1 metrics={'time_sample_batch': 9.07693590436663e-05, 'time_algorithm_update': 0.0016280923570905412, 'loss': 14.088374546595983, 'time_step': 0.0017692702157156809} step=7\n",
      "2023-03-16 10:19.36 [info     ] Model parameters are saved to d3rlpy_logs/FQE_20230316101936/model_7.pt\n",
      "2023-03-16 10:19.36 [debug    ] RoundIterator is selected.\n",
      "2023-03-16 10:19.37 [info     ] Directory is created at d3rlpy_logs/FQE_20230316101937\n",
      "2023-03-16 10:19.37 [debug    ] Fitting scaler...              scaler=min_max\n",
      "2023-03-16 10:19.37 [debug    ] Fitting action scaler...       action_scaler=min_max\n",
      "2023-03-16 10:19.37 [debug    ] Building models...\n",
      "2023-03-16 10:19.37 [debug    ] Models have been built.\n",
      "2023-03-16 10:19.37 [info     ] Parameters are saved to d3rlpy_logs/FQE_20230316101937/params.json params={'action_scaler': {'type': 'min_max', 'params': {'minimum': array([0.1]), 'maximum': array([10.])}}, 'batch_size': 100, 'encoder_factory': {'type': 'vector', 'params': {'hidden_units': [30, 30], 'activation': 'relu', 'use_batch_norm': False, 'dropout_rate': None, 'use_dense': False}}, 'gamma': 0.95, 'generated_maxlen': 100000, 'learning_rate': 0.0001, 'n_critics': 1, 'n_frames': 1, 'n_steps': 1, 'optim_factory': {'optim_cls': 'Adam', 'betas': (0.9, 0.999), 'eps': 1e-08, 'weight_decay': 0, 'amsgrad': False}, 'q_func_factory': {'type': 'mean', 'params': {'share_encoder': False}}, 'real_ratio': 1.0, 'reward_scaler': None, 'scaler': {'type': 'min_max', 'params': {'maximum': array([6.00000000e+00, 3.00000000e+03, 9.99844840e-01, 2.00000000e+04,\n",
      "       1.00000000e+00, 1.60000000e+01, 9.93759196e+00]), 'minimum': array([0.        , 1.        , 0.        , 0.        , 0.        ,\n",
      "       0.        , 0.00508109])}}, 'target_update_interval': 100, 'use_gpu': None, 'algorithm': 'FQE', 'observation_shape': (7,), 'action_size': 1}\n"
     ]
    },
    {
     "data": {
      "application/vnd.jupyter.widget-view+json": {
       "model_id": "007bf8041f054bf6a8fd4384e47c3f7b",
       "version_major": 2,
       "version_minor": 0
      },
      "text/plain": [
       "Epoch 1/1:   0%|          | 0/7 [00:00<?, ?it/s]"
      ]
     },
     "metadata": {},
     "output_type": "display_data"
    },
    {
     "name": "stdout",
     "output_type": "stream",
     "text": [
      "2023-03-16 10:19.37 [info     ] FQE_20230316101937: epoch=1 step=7 epoch=1 metrics={'time_sample_batch': 0.00012316022600446428, 'time_algorithm_update': 0.0017272744859967912, 'loss': 14.31581279209682, 'time_step': 0.0019154208047049387} step=7\n",
      "2023-03-16 10:19.37 [info     ] Model parameters are saved to d3rlpy_logs/FQE_20230316101937/model_7.pt\n"
     ]
    },
    {
     "data": {
      "application/vnd.jupyter.widget-view+json": {
       "model_id": "27e5e8bd59b44a6b8699298f21a82da5",
       "version_major": 2,
       "version_minor": 0
      },
      "text/plain": [
       "[fit MWL model]:   0%|          | 0/2 [00:00<?, ?it/s]"
      ]
     },
     "metadata": {},
     "output_type": "display_data"
    },
    {
     "data": {
      "application/vnd.jupyter.widget-view+json": {
       "model_id": "9fd4fb8df28e4e628464df2163a9569a",
       "version_major": 2,
       "version_minor": 0
      },
      "text/plain": [
       "[fitting_weight_function]:   0%|          | 0/100 [00:00<?, ?it/s]"
      ]
     },
     "metadata": {},
     "output_type": "display_data"
    },
    {
     "data": {
      "application/vnd.jupyter.widget-view+json": {
       "model_id": "9a3b2966518c48949cb608910d197b93",
       "version_major": 2,
       "version_minor": 0
      },
      "text/plain": [
       "[fitting_weight_function]:   0%|          | 0/100 [00:00<?, ?it/s]"
      ]
     },
     "metadata": {},
     "output_type": "display_data"
    },
    {
     "data": {
      "application/vnd.jupyter.widget-view+json": {
       "model_id": "566a1daf3dc7431fb797a4d33b2d3e45",
       "version_major": 2,
       "version_minor": 0
      },
      "text/plain": [
       "[fitting_weight_function]:   0%|          | 0/100 [00:00<?, ?it/s]"
      ]
     },
     "metadata": {},
     "output_type": "display_data"
    },
    {
     "data": {
      "application/vnd.jupyter.widget-view+json": {
       "model_id": "6dd6af3856d14ad98278970554d6c248",
       "version_major": 2,
       "version_minor": 0
      },
      "text/plain": [
       "[fitting_weight_function]:   0%|          | 0/100 [00:00<?, ?it/s]"
      ]
     },
     "metadata": {},
     "output_type": "display_data"
    },
    {
     "data": {
      "application/vnd.jupyter.widget-view+json": {
       "model_id": "fc8bb4c392194d31a83b999aaf602761",
       "version_major": 2,
       "version_minor": 0
      },
      "text/plain": [
       "[collect input data: eval_policy]:   0%|          | 0/2 [00:00<?, ?it/s]"
      ]
     },
     "metadata": {},
     "output_type": "display_data"
    },
    {
     "data": {
      "application/vnd.jupyter.widget-view+json": {
       "model_id": "60c27dd2138d499d95e9981ed14c62cc",
       "version_major": 2,
       "version_minor": 0
      },
      "text/plain": [
       "[calculate on-policy policy value]:   0%|          | 0/100 [00:00<?, ?it/s]"
      ]
     },
     "metadata": {},
     "output_type": "display_data"
    },
    {
     "data": {
      "application/vnd.jupyter.widget-view+json": {
       "model_id": "f9f02fb1581944f78c7a653f5f4dd7b1",
       "version_major": 2,
       "version_minor": 0
      },
      "text/plain": [
       "[calculate on-policy policy value]:   0%|          | 0/100 [00:00<?, ?it/s]"
      ]
     },
     "metadata": {},
     "output_type": "display_data"
    },
    {
     "data": {
      "application/vnd.jupyter.widget-view+json": {
       "model_id": "0adb836603d34d23b94f08b9c286f272",
       "version_major": 2,
       "version_minor": 0
      },
      "text/plain": [
       "[obtain_trajectories]:   0%|          | 0/100 [00:00<?, ?it/s]"
      ]
     },
     "metadata": {},
     "output_type": "display_data"
    },
    {
     "data": {
      "application/vnd.jupyter.widget-view+json": {
       "model_id": "4d2ff0aaa5d4469bac188e7443008762",
       "version_major": 2,
       "version_minor": 0
      },
      "text/plain": [
       "[obtain_trajectories]:   0%|          | 0/100 [00:00<?, ?it/s]"
      ]
     },
     "metadata": {},
     "output_type": "display_data"
    },
    {
     "name": "stdout",
     "output_type": "stream",
     "text": [
      "2023-03-16 10:20.16 [debug    ] RandomIterator is selected.\n",
      "2023-03-16 10:20.16 [info     ] Directory is created at d3rlpy_logs/CQL_20230316102016\n",
      "2023-03-16 10:20.16 [debug    ] Fitting action scaler...       action_scaler=min_max\n",
      "2023-03-16 10:20.16 [debug    ] Building models...\n",
      "2023-03-16 10:20.16 [debug    ] Models have been built.\n",
      "2023-03-16 10:20.16 [info     ] Parameters are saved to d3rlpy_logs/CQL_20230316102016/params.json params={'action_scaler': {'type': 'min_max', 'params': {'minimum': array([0.1]), 'maximum': array([10.])}}, 'actor_encoder_factory': {'type': 'vector', 'params': {'hidden_units': [30, 30], 'activation': 'relu', 'use_batch_norm': False, 'dropout_rate': None, 'use_dense': False}}, 'actor_learning_rate': 0.0001, 'actor_optim_factory': {'optim_cls': 'Adam', 'betas': (0.9, 0.999), 'eps': 1e-08, 'weight_decay': 0, 'amsgrad': False}, 'alpha_learning_rate': 0.0001, 'alpha_optim_factory': {'optim_cls': 'Adam', 'betas': (0.9, 0.999), 'eps': 1e-08, 'weight_decay': 0, 'amsgrad': False}, 'alpha_threshold': 10.0, 'batch_size': 256, 'conservative_weight': 5.0, 'critic_encoder_factory': {'type': 'vector', 'params': {'hidden_units': [30, 30], 'activation': 'relu', 'use_batch_norm': False, 'dropout_rate': None, 'use_dense': False}}, 'critic_learning_rate': 0.0003, 'critic_optim_factory': {'optim_cls': 'Adam', 'betas': (0.9, 0.999), 'eps': 1e-08, 'weight_decay': 0, 'amsgrad': False}, 'gamma': 0.99, 'generated_maxlen': 100000, 'initial_alpha': 1.0, 'initial_temperature': 1.0, 'n_action_samples': 10, 'n_critics': 2, 'n_frames': 1, 'n_steps': 1, 'q_func_factory': {'type': 'mean', 'params': {'share_encoder': False}}, 'real_ratio': 1.0, 'reward_scaler': None, 'scaler': None, 'soft_q_backup': False, 'tau': 0.005, 'temp_learning_rate': 0.0001, 'temp_optim_factory': {'optim_cls': 'Adam', 'betas': (0.9, 0.999), 'eps': 1e-08, 'weight_decay': 0, 'amsgrad': False}, 'use_gpu': None, 'algorithm': 'CQL', 'observation_shape': (7,), 'action_size': 1}\n"
     ]
    },
    {
     "data": {
      "application/vnd.jupyter.widget-view+json": {
       "model_id": "96c99861efe64390b71f04fb40da1def",
       "version_major": 2,
       "version_minor": 0
      },
      "text/plain": [
       "Epoch 1/1:   0%|          | 0/10000 [00:00<?, ?it/s]"
      ]
     },
     "metadata": {},
     "output_type": "display_data"
    },
    {
     "name": "stdout",
     "output_type": "stream",
     "text": [
      "2023-03-16 10:23.07 [info     ] CQL_20230316102016: epoch=1 step=10000 epoch=1 metrics={'time_sample_batch': 0.0005111109018325806, 'time_algorithm_update': 0.01607938587665558, 'temp_loss': -16.302872531080247, 'temp': 1.478855864906311, 'alpha_loss': -9.815813486814498, 'alpha': 1.7615839063763619, 'critic_loss': 39.97534528417587, 'actor_loss': 14.072129635858536, 'time_step': 0.017044660329818724} step=10000\n",
      "2023-03-16 10:23.07 [info     ] Model parameters are saved to d3rlpy_logs/CQL_20230316102016/model_10000.pt\n"
     ]
    },
    {
     "data": {
      "application/vnd.jupyter.widget-view+json": {
       "model_id": "bb8985c6ec5640199c6764f1c5b4c3c9",
       "version_major": 2,
       "version_minor": 0
      },
      "text/plain": [
       "[fit FQE model]:   0%|          | 0/2 [00:00<?, ?it/s]"
      ]
     },
     "metadata": {},
     "output_type": "display_data"
    },
    {
     "name": "stdout",
     "output_type": "stream",
     "text": [
      "2023-03-16 10:23.07 [debug    ] RoundIterator is selected.\n",
      "2023-03-16 10:23.07 [info     ] Directory is created at d3rlpy_logs/FQE_20230316102307\n",
      "2023-03-16 10:23.07 [debug    ] Fitting scaler...              scaler=min_max\n",
      "2023-03-16 10:23.07 [debug    ] Fitting action scaler...       action_scaler=min_max\n",
      "2023-03-16 10:23.07 [debug    ] Building models...\n",
      "2023-03-16 10:23.07 [debug    ] Models have been built.\n",
      "2023-03-16 10:23.07 [info     ] Parameters are saved to d3rlpy_logs/FQE_20230316102307/params.json params={'action_scaler': {'type': 'min_max', 'params': {'minimum': array([0.1]), 'maximum': array([10.])}}, 'batch_size': 100, 'encoder_factory': {'type': 'vector', 'params': {'hidden_units': [30, 30], 'activation': 'relu', 'use_batch_norm': False, 'dropout_rate': None, 'use_dense': False}}, 'gamma': 0.95, 'generated_maxlen': 100000, 'learning_rate': 0.0001, 'n_critics': 1, 'n_frames': 1, 'n_steps': 1, 'optim_factory': {'optim_cls': 'Adam', 'betas': (0.9, 0.999), 'eps': 1e-08, 'weight_decay': 0, 'amsgrad': False}, 'q_func_factory': {'type': 'mean', 'params': {'share_encoder': False}}, 'real_ratio': 1.0, 'reward_scaler': None, 'scaler': {'type': 'min_max', 'params': {'maximum': array([6.00000000e+00, 3.00000000e+03, 9.97792494e-01, 2.20000000e+04,\n",
      "       1.00000000e+00, 1.70000000e+01, 9.98709610e+00]), 'minimum': array([0.       , 1.       , 0.       , 0.       , 0.       , 0.       ,\n",
      "       0.0067305])}}, 'target_update_interval': 100, 'use_gpu': None, 'algorithm': 'FQE', 'observation_shape': (7,), 'action_size': 1}\n"
     ]
    },
    {
     "data": {
      "application/vnd.jupyter.widget-view+json": {
       "model_id": "430f52b99b7e47f2b33a763a74214199",
       "version_major": 2,
       "version_minor": 0
      },
      "text/plain": [
       "Epoch 1/1:   0%|          | 0/7 [00:00<?, ?it/s]"
      ]
     },
     "metadata": {},
     "output_type": "display_data"
    },
    {
     "name": "stdout",
     "output_type": "stream",
     "text": [
      "2023-03-16 10:23.07 [info     ] FQE_20230316102307: epoch=1 step=7 epoch=1 metrics={'time_sample_batch': 0.00011202267238071986, 'time_algorithm_update': 0.001726320811680385, 'loss': 14.816949571881976, 'time_step': 0.0018966538565499441} step=7\n",
      "2023-03-16 10:23.07 [info     ] Model parameters are saved to d3rlpy_logs/FQE_20230316102307/model_7.pt\n",
      "2023-03-16 10:23.07 [debug    ] RoundIterator is selected.\n",
      "2023-03-16 10:23.08 [info     ] Directory is created at d3rlpy_logs/FQE_20230316102308\n",
      "2023-03-16 10:23.08 [debug    ] Fitting scaler...              scaler=min_max\n",
      "2023-03-16 10:23.08 [debug    ] Fitting action scaler...       action_scaler=min_max\n",
      "2023-03-16 10:23.08 [debug    ] Building models...\n",
      "2023-03-16 10:23.08 [debug    ] Models have been built.\n",
      "2023-03-16 10:23.08 [info     ] Parameters are saved to d3rlpy_logs/FQE_20230316102308/params.json params={'action_scaler': {'type': 'min_max', 'params': {'minimum': array([0.1]), 'maximum': array([10.])}}, 'batch_size': 100, 'encoder_factory': {'type': 'vector', 'params': {'hidden_units': [30, 30], 'activation': 'relu', 'use_batch_norm': False, 'dropout_rate': None, 'use_dense': False}}, 'gamma': 0.95, 'generated_maxlen': 100000, 'learning_rate': 0.0001, 'n_critics': 1, 'n_frames': 1, 'n_steps': 1, 'optim_factory': {'optim_cls': 'Adam', 'betas': (0.9, 0.999), 'eps': 1e-08, 'weight_decay': 0, 'amsgrad': False}, 'q_func_factory': {'type': 'mean', 'params': {'share_encoder': False}}, 'real_ratio': 1.0, 'reward_scaler': None, 'scaler': {'type': 'min_max', 'params': {'maximum': array([6.00000000e+00, 3.00000000e+03, 9.97792494e-01, 2.20000000e+04,\n",
      "       1.00000000e+00, 1.70000000e+01, 9.98709610e+00]), 'minimum': array([0.       , 1.       , 0.       , 0.       , 0.       , 0.       ,\n",
      "       0.0067305])}}, 'target_update_interval': 100, 'use_gpu': None, 'algorithm': 'FQE', 'observation_shape': (7,), 'action_size': 1}\n"
     ]
    },
    {
     "data": {
      "application/vnd.jupyter.widget-view+json": {
       "model_id": "3bb6db8fe1d74499afedffa49bf9b254",
       "version_major": 2,
       "version_minor": 0
      },
      "text/plain": [
       "Epoch 1/1:   0%|          | 0/7 [00:00<?, ?it/s]"
      ]
     },
     "metadata": {},
     "output_type": "display_data"
    },
    {
     "name": "stdout",
     "output_type": "stream",
     "text": [
      "2023-03-16 10:23.08 [info     ] FQE_20230316102308: epoch=1 step=7 epoch=1 metrics={'time_sample_batch': 8.031300136021205e-05, 'time_algorithm_update': 0.00127584593636649, 'loss': 14.741222381591797, 'time_step': 0.0014041151319231307} step=7\n",
      "2023-03-16 10:23.08 [info     ] Model parameters are saved to d3rlpy_logs/FQE_20230316102308/model_7.pt\n"
     ]
    },
    {
     "data": {
      "application/vnd.jupyter.widget-view+json": {
       "model_id": "7dc5af49a9804dbc9a03f7f494585faa",
       "version_major": 2,
       "version_minor": 0
      },
      "text/plain": [
       "[fit MWL model]:   0%|          | 0/2 [00:00<?, ?it/s]"
      ]
     },
     "metadata": {},
     "output_type": "display_data"
    },
    {
     "data": {
      "application/vnd.jupyter.widget-view+json": {
       "model_id": "07ff113f80184369bc856f77638be966",
       "version_major": 2,
       "version_minor": 0
      },
      "text/plain": [
       "[fitting_weight_function]:   0%|          | 0/100 [00:00<?, ?it/s]"
      ]
     },
     "metadata": {},
     "output_type": "display_data"
    },
    {
     "data": {
      "application/vnd.jupyter.widget-view+json": {
       "model_id": "132e9255f98f4918aa45c587388416fc",
       "version_major": 2,
       "version_minor": 0
      },
      "text/plain": [
       "[fitting_weight_function]:   0%|          | 0/100 [00:00<?, ?it/s]"
      ]
     },
     "metadata": {},
     "output_type": "display_data"
    },
    {
     "data": {
      "application/vnd.jupyter.widget-view+json": {
       "model_id": "a40b0bdfc8a4493dbfe60685a5aa6ec0",
       "version_major": 2,
       "version_minor": 0
      },
      "text/plain": [
       "[fitting_weight_function]:   0%|          | 0/100 [00:00<?, ?it/s]"
      ]
     },
     "metadata": {},
     "output_type": "display_data"
    },
    {
     "data": {
      "application/vnd.jupyter.widget-view+json": {
       "model_id": "8fe2dfaa5ff447eebd66324eb1e08787",
       "version_major": 2,
       "version_minor": 0
      },
      "text/plain": [
       "[fitting_weight_function]:   0%|          | 0/100 [00:00<?, ?it/s]"
      ]
     },
     "metadata": {},
     "output_type": "display_data"
    },
    {
     "data": {
      "application/vnd.jupyter.widget-view+json": {
       "model_id": "a58d5f879f7944a89dbe415512ce49c8",
       "version_major": 2,
       "version_minor": 0
      },
      "text/plain": [
       "[collect input data: eval_policy]:   0%|          | 0/2 [00:00<?, ?it/s]"
      ]
     },
     "metadata": {},
     "output_type": "display_data"
    },
    {
     "data": {
      "application/vnd.jupyter.widget-view+json": {
       "model_id": "9d964304bf6448a2909f6067adce8efb",
       "version_major": 2,
       "version_minor": 0
      },
      "text/plain": [
       "[calculate on-policy policy value]:   0%|          | 0/100 [00:00<?, ?it/s]"
      ]
     },
     "metadata": {},
     "output_type": "display_data"
    },
    {
     "data": {
      "application/vnd.jupyter.widget-view+json": {
       "model_id": "96aa38556669434aa2e94bde20927380",
       "version_major": 2,
       "version_minor": 0
      },
      "text/plain": [
       "[calculate on-policy policy value]:   0%|          | 0/100 [00:00<?, ?it/s]"
      ]
     },
     "metadata": {},
     "output_type": "display_data"
    },
    {
     "data": {
      "application/vnd.jupyter.widget-view+json": {
       "model_id": "d704374eb40f40999d298b73c2a8b4e1",
       "version_major": 2,
       "version_minor": 0
      },
      "text/plain": [
       "[obtain_trajectories]:   0%|          | 0/100 [00:00<?, ?it/s]"
      ]
     },
     "metadata": {},
     "output_type": "display_data"
    },
    {
     "data": {
      "application/vnd.jupyter.widget-view+json": {
       "model_id": "7c7169cc74be4dec8350f7eec9a4bb4d",
       "version_major": 2,
       "version_minor": 0
      },
      "text/plain": [
       "[obtain_trajectories]:   0%|          | 0/100 [00:00<?, ?it/s]"
      ]
     },
     "metadata": {},
     "output_type": "display_data"
    },
    {
     "name": "stdout",
     "output_type": "stream",
     "text": [
      "2023-03-16 10:23.46 [debug    ] RandomIterator is selected.\n",
      "2023-03-16 10:23.46 [info     ] Directory is created at d3rlpy_logs/CQL_20230316102346\n",
      "2023-03-16 10:23.46 [debug    ] Fitting action scaler...       action_scaler=min_max\n",
      "2023-03-16 10:23.46 [debug    ] Building models...\n",
      "2023-03-16 10:23.46 [debug    ] Models have been built.\n",
      "2023-03-16 10:23.46 [info     ] Parameters are saved to d3rlpy_logs/CQL_20230316102346/params.json params={'action_scaler': {'type': 'min_max', 'params': {'minimum': array([0.1]), 'maximum': array([10.])}}, 'actor_encoder_factory': {'type': 'vector', 'params': {'hidden_units': [30, 30], 'activation': 'relu', 'use_batch_norm': False, 'dropout_rate': None, 'use_dense': False}}, 'actor_learning_rate': 0.0001, 'actor_optim_factory': {'optim_cls': 'Adam', 'betas': (0.9, 0.999), 'eps': 1e-08, 'weight_decay': 0, 'amsgrad': False}, 'alpha_learning_rate': 0.0001, 'alpha_optim_factory': {'optim_cls': 'Adam', 'betas': (0.9, 0.999), 'eps': 1e-08, 'weight_decay': 0, 'amsgrad': False}, 'alpha_threshold': 10.0, 'batch_size': 256, 'conservative_weight': 5.0, 'critic_encoder_factory': {'type': 'vector', 'params': {'hidden_units': [30, 30], 'activation': 'relu', 'use_batch_norm': False, 'dropout_rate': None, 'use_dense': False}}, 'critic_learning_rate': 0.0003, 'critic_optim_factory': {'optim_cls': 'Adam', 'betas': (0.9, 0.999), 'eps': 1e-08, 'weight_decay': 0, 'amsgrad': False}, 'gamma': 0.99, 'generated_maxlen': 100000, 'initial_alpha': 1.0, 'initial_temperature': 1.0, 'n_action_samples': 10, 'n_critics': 2, 'n_frames': 1, 'n_steps': 1, 'q_func_factory': {'type': 'mean', 'params': {'share_encoder': False}}, 'real_ratio': 1.0, 'reward_scaler': None, 'scaler': None, 'soft_q_backup': False, 'tau': 0.005, 'temp_learning_rate': 0.0001, 'temp_optim_factory': {'optim_cls': 'Adam', 'betas': (0.9, 0.999), 'eps': 1e-08, 'weight_decay': 0, 'amsgrad': False}, 'use_gpu': None, 'algorithm': 'CQL', 'observation_shape': (7,), 'action_size': 1}\n"
     ]
    },
    {
     "data": {
      "application/vnd.jupyter.widget-view+json": {
       "model_id": "b0448bbeb3c248c3929459115fb99c79",
       "version_major": 2,
       "version_minor": 0
      },
      "text/plain": [
       "Epoch 1/1:   0%|          | 0/10000 [00:00<?, ?it/s]"
      ]
     },
     "metadata": {},
     "output_type": "display_data"
    },
    {
     "name": "stdout",
     "output_type": "stream",
     "text": [
      "2023-03-16 10:26.45 [info     ] CQL_20230316102346: epoch=1 step=10000 epoch=1 metrics={'time_sample_batch': 0.0005156435489654541, 'time_algorithm_update': 0.016819099259376524, 'temp_loss': -17.880905535888672, 'temp': 1.7380774507641792, 'alpha_loss': -11.22265407948494, 'alpha': 1.7825954884052277, 'critic_loss': 370.77880713825226, 'actor_loss': 22.030687192058565, 'time_step': 0.017795056772232056} step=10000\n",
      "2023-03-16 10:26.45 [info     ] Model parameters are saved to d3rlpy_logs/CQL_20230316102346/model_10000.pt\n"
     ]
    },
    {
     "data": {
      "application/vnd.jupyter.widget-view+json": {
       "model_id": "611c4409924d4e39b1fa3ddec776cd57",
       "version_major": 2,
       "version_minor": 0
      },
      "text/plain": [
       "[fit FQE model]:   0%|          | 0/2 [00:00<?, ?it/s]"
      ]
     },
     "metadata": {},
     "output_type": "display_data"
    },
    {
     "name": "stdout",
     "output_type": "stream",
     "text": [
      "2023-03-16 10:26.45 [debug    ] RoundIterator is selected.\n",
      "2023-03-16 10:26.45 [info     ] Directory is created at d3rlpy_logs/FQE_20230316102645\n",
      "2023-03-16 10:26.45 [debug    ] Fitting scaler...              scaler=min_max\n",
      "2023-03-16 10:26.45 [debug    ] Fitting action scaler...       action_scaler=min_max\n",
      "2023-03-16 10:26.45 [debug    ] Building models...\n",
      "2023-03-16 10:26.45 [debug    ] Models have been built.\n",
      "2023-03-16 10:26.45 [info     ] Parameters are saved to d3rlpy_logs/FQE_20230316102645/params.json params={'action_scaler': {'type': 'min_max', 'params': {'minimum': array([0.1]), 'maximum': array([10.])}}, 'batch_size': 100, 'encoder_factory': {'type': 'vector', 'params': {'hidden_units': [30, 30], 'activation': 'relu', 'use_batch_norm': False, 'dropout_rate': None, 'use_dense': False}}, 'gamma': 0.95, 'generated_maxlen': 100000, 'learning_rate': 0.0001, 'n_critics': 1, 'n_frames': 1, 'n_steps': 1, 'optim_factory': {'optim_cls': 'Adam', 'betas': (0.9, 0.999), 'eps': 1e-08, 'weight_decay': 0, 'amsgrad': False}, 'q_func_factory': {'type': 'mean', 'params': {'share_encoder': False}}, 'real_ratio': 1.0, 'reward_scaler': None, 'scaler': {'type': 'min_max', 'params': {'maximum': array([6.00000000e+00, 3.00000000e+03, 9.98007968e-01, 1.76000000e+04,\n",
      "       1.00000000e+00, 1.60000000e+01, 9.79142789e+00]), 'minimum': array([0.        , 1.        , 0.        , 0.        , 0.        ,\n",
      "       0.        , 0.02886608])}}, 'target_update_interval': 100, 'use_gpu': None, 'algorithm': 'FQE', 'observation_shape': (7,), 'action_size': 1}\n"
     ]
    },
    {
     "data": {
      "application/vnd.jupyter.widget-view+json": {
       "model_id": "eb144d3a2fa64fb088e77cbb74b270d3",
       "version_major": 2,
       "version_minor": 0
      },
      "text/plain": [
       "Epoch 1/1:   0%|          | 0/7 [00:00<?, ?it/s]"
      ]
     },
     "metadata": {},
     "output_type": "display_data"
    },
    {
     "name": "stdout",
     "output_type": "stream",
     "text": [
      "2023-03-16 10:26.46 [info     ] FQE_20230316102645: epoch=1 step=7 epoch=1 metrics={'time_sample_batch': 0.00011348724365234375, 'time_algorithm_update': 0.0024603434971400668, 'loss': 12.580310957772392, 'time_step': 0.0026604107448032926} step=7\n",
      "2023-03-16 10:26.46 [info     ] Model parameters are saved to d3rlpy_logs/FQE_20230316102645/model_7.pt\n",
      "2023-03-16 10:26.46 [debug    ] RoundIterator is selected.\n",
      "2023-03-16 10:26.46 [info     ] Directory is created at d3rlpy_logs/FQE_20230316102646\n",
      "2023-03-16 10:26.46 [debug    ] Fitting scaler...              scaler=min_max\n",
      "2023-03-16 10:26.46 [debug    ] Fitting action scaler...       action_scaler=min_max\n",
      "2023-03-16 10:26.46 [debug    ] Building models...\n",
      "2023-03-16 10:26.46 [debug    ] Models have been built.\n",
      "2023-03-16 10:26.46 [info     ] Parameters are saved to d3rlpy_logs/FQE_20230316102646/params.json params={'action_scaler': {'type': 'min_max', 'params': {'minimum': array([0.1]), 'maximum': array([10.])}}, 'batch_size': 100, 'encoder_factory': {'type': 'vector', 'params': {'hidden_units': [30, 30], 'activation': 'relu', 'use_batch_norm': False, 'dropout_rate': None, 'use_dense': False}}, 'gamma': 0.95, 'generated_maxlen': 100000, 'learning_rate': 0.0001, 'n_critics': 1, 'n_frames': 1, 'n_steps': 1, 'optim_factory': {'optim_cls': 'Adam', 'betas': (0.9, 0.999), 'eps': 1e-08, 'weight_decay': 0, 'amsgrad': False}, 'q_func_factory': {'type': 'mean', 'params': {'share_encoder': False}}, 'real_ratio': 1.0, 'reward_scaler': None, 'scaler': {'type': 'min_max', 'params': {'maximum': array([6.00000000e+00, 3.00000000e+03, 9.98007968e-01, 1.76000000e+04,\n",
      "       1.00000000e+00, 1.60000000e+01, 9.79142789e+00]), 'minimum': array([0.        , 1.        , 0.        , 0.        , 0.        ,\n",
      "       0.        , 0.02886608])}}, 'target_update_interval': 100, 'use_gpu': None, 'algorithm': 'FQE', 'observation_shape': (7,), 'action_size': 1}\n"
     ]
    },
    {
     "data": {
      "application/vnd.jupyter.widget-view+json": {
       "model_id": "16b22f7085b14cf29906a9cc6e020c89",
       "version_major": 2,
       "version_minor": 0
      },
      "text/plain": [
       "Epoch 1/1:   0%|          | 0/7 [00:00<?, ?it/s]"
      ]
     },
     "metadata": {},
     "output_type": "display_data"
    },
    {
     "name": "stdout",
     "output_type": "stream",
     "text": [
      "2023-03-16 10:26.46 [info     ] FQE_20230316102646: epoch=1 step=7 epoch=1 metrics={'time_sample_batch': 0.00013273102896554128, 'time_algorithm_update': 0.0018133435930524553, 'loss': 13.11033398764474, 'time_step': 0.0020419188908168246} step=7\n",
      "2023-03-16 10:26.46 [info     ] Model parameters are saved to d3rlpy_logs/FQE_20230316102646/model_7.pt\n"
     ]
    },
    {
     "data": {
      "application/vnd.jupyter.widget-view+json": {
       "model_id": "9983593cd1014e14afe34f9584628565",
       "version_major": 2,
       "version_minor": 0
      },
      "text/plain": [
       "[fit MWL model]:   0%|          | 0/2 [00:00<?, ?it/s]"
      ]
     },
     "metadata": {},
     "output_type": "display_data"
    },
    {
     "data": {
      "application/vnd.jupyter.widget-view+json": {
       "model_id": "5d4c97bde66d4c8fbb7b86a0b1d8cd90",
       "version_major": 2,
       "version_minor": 0
      },
      "text/plain": [
       "[fitting_weight_function]:   0%|          | 0/100 [00:00<?, ?it/s]"
      ]
     },
     "metadata": {},
     "output_type": "display_data"
    },
    {
     "data": {
      "application/vnd.jupyter.widget-view+json": {
       "model_id": "66a782ea3a6247e1b9e25f29861414bf",
       "version_major": 2,
       "version_minor": 0
      },
      "text/plain": [
       "[fitting_weight_function]:   0%|          | 0/100 [00:00<?, ?it/s]"
      ]
     },
     "metadata": {},
     "output_type": "display_data"
    },
    {
     "data": {
      "application/vnd.jupyter.widget-view+json": {
       "model_id": "443bcb2a1e8745b1a99a135088536add",
       "version_major": 2,
       "version_minor": 0
      },
      "text/plain": [
       "[fitting_weight_function]:   0%|          | 0/100 [00:00<?, ?it/s]"
      ]
     },
     "metadata": {},
     "output_type": "display_data"
    },
    {
     "data": {
      "application/vnd.jupyter.widget-view+json": {
       "model_id": "f2015ed0c37648948971248eb1bd1009",
       "version_major": 2,
       "version_minor": 0
      },
      "text/plain": [
       "[fitting_weight_function]:   0%|          | 0/100 [00:00<?, ?it/s]"
      ]
     },
     "metadata": {},
     "output_type": "display_data"
    },
    {
     "data": {
      "application/vnd.jupyter.widget-view+json": {
       "model_id": "80ea50fd360a4f49a091fb24de250ceb",
       "version_major": 2,
       "version_minor": 0
      },
      "text/plain": [
       "[collect input data: eval_policy]:   0%|          | 0/2 [00:00<?, ?it/s]"
      ]
     },
     "metadata": {},
     "output_type": "display_data"
    },
    {
     "data": {
      "application/vnd.jupyter.widget-view+json": {
       "model_id": "497c786a130d4c059d6052398ea4db3c",
       "version_major": 2,
       "version_minor": 0
      },
      "text/plain": [
       "[calculate on-policy policy value]:   0%|          | 0/100 [00:00<?, ?it/s]"
      ]
     },
     "metadata": {},
     "output_type": "display_data"
    },
    {
     "data": {
      "application/vnd.jupyter.widget-view+json": {
       "model_id": "aab66de28b144b928d94a5413167ea3f",
       "version_major": 2,
       "version_minor": 0
      },
      "text/plain": [
       "[calculate on-policy policy value]:   0%|          | 0/100 [00:00<?, ?it/s]"
      ]
     },
     "metadata": {},
     "output_type": "display_data"
    },
    {
     "data": {
      "application/vnd.jupyter.widget-view+json": {
       "model_id": "f73bfcc0caf64278b1cdf7583f93dd30",
       "version_major": 2,
       "version_minor": 0
      },
      "text/plain": [
       "[obtain_trajectories]:   0%|          | 0/100 [00:00<?, ?it/s]"
      ]
     },
     "metadata": {},
     "output_type": "display_data"
    },
    {
     "data": {
      "application/vnd.jupyter.widget-view+json": {
       "model_id": "ca0a9207780a4e72a232bf9301edae75",
       "version_major": 2,
       "version_minor": 0
      },
      "text/plain": [
       "[obtain_trajectories]:   0%|          | 0/100 [00:00<?, ?it/s]"
      ]
     },
     "metadata": {},
     "output_type": "display_data"
    },
    {
     "name": "stdout",
     "output_type": "stream",
     "text": [
      "2023-03-16 10:27.25 [debug    ] RandomIterator is selected.\n",
      "2023-03-16 10:27.25 [info     ] Directory is created at d3rlpy_logs/CQL_20230316102725\n",
      "2023-03-16 10:27.25 [debug    ] Fitting action scaler...       action_scaler=min_max\n",
      "2023-03-16 10:27.25 [debug    ] Building models...\n",
      "2023-03-16 10:27.25 [debug    ] Models have been built.\n",
      "2023-03-16 10:27.25 [info     ] Parameters are saved to d3rlpy_logs/CQL_20230316102725/params.json params={'action_scaler': {'type': 'min_max', 'params': {'minimum': array([0.1]), 'maximum': array([10.])}}, 'actor_encoder_factory': {'type': 'vector', 'params': {'hidden_units': [30, 30], 'activation': 'relu', 'use_batch_norm': False, 'dropout_rate': None, 'use_dense': False}}, 'actor_learning_rate': 0.0001, 'actor_optim_factory': {'optim_cls': 'Adam', 'betas': (0.9, 0.999), 'eps': 1e-08, 'weight_decay': 0, 'amsgrad': False}, 'alpha_learning_rate': 0.0001, 'alpha_optim_factory': {'optim_cls': 'Adam', 'betas': (0.9, 0.999), 'eps': 1e-08, 'weight_decay': 0, 'amsgrad': False}, 'alpha_threshold': 10.0, 'batch_size': 256, 'conservative_weight': 5.0, 'critic_encoder_factory': {'type': 'vector', 'params': {'hidden_units': [30, 30], 'activation': 'relu', 'use_batch_norm': False, 'dropout_rate': None, 'use_dense': False}}, 'critic_learning_rate': 0.0003, 'critic_optim_factory': {'optim_cls': 'Adam', 'betas': (0.9, 0.999), 'eps': 1e-08, 'weight_decay': 0, 'amsgrad': False}, 'gamma': 0.99, 'generated_maxlen': 100000, 'initial_alpha': 1.0, 'initial_temperature': 1.0, 'n_action_samples': 10, 'n_critics': 2, 'n_frames': 1, 'n_steps': 1, 'q_func_factory': {'type': 'mean', 'params': {'share_encoder': False}}, 'real_ratio': 1.0, 'reward_scaler': None, 'scaler': None, 'soft_q_backup': False, 'tau': 0.005, 'temp_learning_rate': 0.0001, 'temp_optim_factory': {'optim_cls': 'Adam', 'betas': (0.9, 0.999), 'eps': 1e-08, 'weight_decay': 0, 'amsgrad': False}, 'use_gpu': None, 'algorithm': 'CQL', 'observation_shape': (7,), 'action_size': 1}\n"
     ]
    },
    {
     "data": {
      "application/vnd.jupyter.widget-view+json": {
       "model_id": "e782fdfabd394fdbb07f8fddd8956e37",
       "version_major": 2,
       "version_minor": 0
      },
      "text/plain": [
       "Epoch 1/1:   0%|          | 0/10000 [00:00<?, ?it/s]"
      ]
     },
     "metadata": {},
     "output_type": "display_data"
    },
    {
     "name": "stdout",
     "output_type": "stream",
     "text": [
      "2023-03-16 10:30.16 [info     ] CQL_20230316102725: epoch=1 step=10000 epoch=1 metrics={'time_sample_batch': 0.0005046204090118408, 'time_algorithm_update': 0.01606739001274109, 'temp_loss': 0.32454976284727455, 'temp': 0.8540149329304695, 'alpha_loss': -15.346967656421661, 'alpha': 1.778774552476406, 'critic_loss': 87.03855311603546, 'actor_loss': -6.89757094013691, 'time_step': 0.01701445963382721} step=10000\n",
      "2023-03-16 10:30.16 [info     ] Model parameters are saved to d3rlpy_logs/CQL_20230316102725/model_10000.pt\n"
     ]
    },
    {
     "data": {
      "application/vnd.jupyter.widget-view+json": {
       "model_id": "231d4bb936b74646875c19659fa8feea",
       "version_major": 2,
       "version_minor": 0
      },
      "text/plain": [
       "[fit FQE model]:   0%|          | 0/2 [00:00<?, ?it/s]"
      ]
     },
     "metadata": {},
     "output_type": "display_data"
    },
    {
     "name": "stdout",
     "output_type": "stream",
     "text": [
      "2023-03-16 10:30.16 [debug    ] RoundIterator is selected.\n",
      "2023-03-16 10:30.16 [info     ] Directory is created at d3rlpy_logs/FQE_20230316103016\n",
      "2023-03-16 10:30.16 [debug    ] Fitting scaler...              scaler=min_max\n",
      "2023-03-16 10:30.16 [debug    ] Fitting action scaler...       action_scaler=min_max\n",
      "2023-03-16 10:30.16 [debug    ] Building models...\n",
      "2023-03-16 10:30.16 [debug    ] Models have been built.\n",
      "2023-03-16 10:30.16 [info     ] Parameters are saved to d3rlpy_logs/FQE_20230316103016/params.json params={'action_scaler': {'type': 'min_max', 'params': {'minimum': array([0.1]), 'maximum': array([10.])}}, 'batch_size': 100, 'encoder_factory': {'type': 'vector', 'params': {'hidden_units': [30, 30], 'activation': 'relu', 'use_batch_norm': False, 'dropout_rate': None, 'use_dense': False}}, 'gamma': 0.95, 'generated_maxlen': 100000, 'learning_rate': 0.0001, 'n_critics': 1, 'n_frames': 1, 'n_steps': 1, 'optim_factory': {'optim_cls': 'Adam', 'betas': (0.9, 0.999), 'eps': 1e-08, 'weight_decay': 0, 'amsgrad': False}, 'q_func_factory': {'type': 'mean', 'params': {'share_encoder': False}}, 'real_ratio': 1.0, 'reward_scaler': None, 'scaler': {'type': 'min_max', 'params': {'maximum': array([6.00000000e+00, 3.00000000e+03, 9.98095238e-01, 3.10000000e+04,\n",
      "       1.00000000e+00, 1.80000000e+01, 9.67776543e+00]), 'minimum': array([0.        , 1.        , 0.        , 0.        , 0.        ,\n",
      "       0.        , 0.03146268])}}, 'target_update_interval': 100, 'use_gpu': None, 'algorithm': 'FQE', 'observation_shape': (7,), 'action_size': 1}\n"
     ]
    },
    {
     "data": {
      "application/vnd.jupyter.widget-view+json": {
       "model_id": "9437e28d822e4b7a868477b515295459",
       "version_major": 2,
       "version_minor": 0
      },
      "text/plain": [
       "Epoch 1/1:   0%|          | 0/7 [00:00<?, ?it/s]"
      ]
     },
     "metadata": {},
     "output_type": "display_data"
    },
    {
     "name": "stdout",
     "output_type": "stream",
     "text": [
      "2023-03-16 10:30.16 [info     ] FQE_20230316103016: epoch=1 step=7 epoch=1 metrics={'time_sample_batch': 0.00014754704066685269, 'time_algorithm_update': 0.001894235610961914, 'loss': 15.445060321262904, 'time_step': 0.0020965167454310824} step=7\n",
      "2023-03-16 10:30.16 [info     ] Model parameters are saved to d3rlpy_logs/FQE_20230316103016/model_7.pt\n",
      "2023-03-16 10:30.16 [debug    ] RoundIterator is selected.\n",
      "2023-03-16 10:30.17 [info     ] Directory is created at d3rlpy_logs/FQE_20230316103017\n",
      "2023-03-16 10:30.17 [debug    ] Fitting scaler...              scaler=min_max\n",
      "2023-03-16 10:30.17 [debug    ] Fitting action scaler...       action_scaler=min_max\n",
      "2023-03-16 10:30.17 [debug    ] Building models...\n",
      "2023-03-16 10:30.17 [debug    ] Models have been built.\n",
      "2023-03-16 10:30.17 [info     ] Parameters are saved to d3rlpy_logs/FQE_20230316103017/params.json params={'action_scaler': {'type': 'min_max', 'params': {'minimum': array([0.1]), 'maximum': array([10.])}}, 'batch_size': 100, 'encoder_factory': {'type': 'vector', 'params': {'hidden_units': [30, 30], 'activation': 'relu', 'use_batch_norm': False, 'dropout_rate': None, 'use_dense': False}}, 'gamma': 0.95, 'generated_maxlen': 100000, 'learning_rate': 0.0001, 'n_critics': 1, 'n_frames': 1, 'n_steps': 1, 'optim_factory': {'optim_cls': 'Adam', 'betas': (0.9, 0.999), 'eps': 1e-08, 'weight_decay': 0, 'amsgrad': False}, 'q_func_factory': {'type': 'mean', 'params': {'share_encoder': False}}, 'real_ratio': 1.0, 'reward_scaler': None, 'scaler': {'type': 'min_max', 'params': {'maximum': array([6.00000000e+00, 3.00000000e+03, 9.98095238e-01, 3.10000000e+04,\n",
      "       1.00000000e+00, 1.80000000e+01, 9.67776543e+00]), 'minimum': array([0.        , 1.        , 0.        , 0.        , 0.        ,\n",
      "       0.        , 0.03146268])}}, 'target_update_interval': 100, 'use_gpu': None, 'algorithm': 'FQE', 'observation_shape': (7,), 'action_size': 1}\n"
     ]
    },
    {
     "data": {
      "application/vnd.jupyter.widget-view+json": {
       "model_id": "d851389f8fed44c89613f99ac3d50777",
       "version_major": 2,
       "version_minor": 0
      },
      "text/plain": [
       "Epoch 1/1:   0%|          | 0/7 [00:00<?, ?it/s]"
      ]
     },
     "metadata": {},
     "output_type": "display_data"
    },
    {
     "name": "stdout",
     "output_type": "stream",
     "text": [
      "2023-03-16 10:30.17 [info     ] FQE_20230316103017: epoch=1 step=7 epoch=1 metrics={'time_sample_batch': 8.08579581124442e-05, 'time_algorithm_update': 0.0014373234340122768, 'loss': 15.372749737330846, 'time_step': 0.0015686580113002232} step=7\n",
      "2023-03-16 10:30.17 [info     ] Model parameters are saved to d3rlpy_logs/FQE_20230316103017/model_7.pt\n"
     ]
    },
    {
     "data": {
      "application/vnd.jupyter.widget-view+json": {
       "model_id": "fce6761389764036b6c55605e3c662d2",
       "version_major": 2,
       "version_minor": 0
      },
      "text/plain": [
       "[fit MWL model]:   0%|          | 0/2 [00:00<?, ?it/s]"
      ]
     },
     "metadata": {},
     "output_type": "display_data"
    },
    {
     "data": {
      "application/vnd.jupyter.widget-view+json": {
       "model_id": "7c65529ad67246d4add2e6cd8e5d94df",
       "version_major": 2,
       "version_minor": 0
      },
      "text/plain": [
       "[fitting_weight_function]:   0%|          | 0/100 [00:00<?, ?it/s]"
      ]
     },
     "metadata": {},
     "output_type": "display_data"
    },
    {
     "data": {
      "application/vnd.jupyter.widget-view+json": {
       "model_id": "a5f0cb7b86e041999794106f322ef681",
       "version_major": 2,
       "version_minor": 0
      },
      "text/plain": [
       "[fitting_weight_function]:   0%|          | 0/100 [00:00<?, ?it/s]"
      ]
     },
     "metadata": {},
     "output_type": "display_data"
    },
    {
     "data": {
      "application/vnd.jupyter.widget-view+json": {
       "model_id": "25955345c9d84088b989152134c3f4a7",
       "version_major": 2,
       "version_minor": 0
      },
      "text/plain": [
       "[fitting_weight_function]:   0%|          | 0/100 [00:00<?, ?it/s]"
      ]
     },
     "metadata": {},
     "output_type": "display_data"
    },
    {
     "data": {
      "application/vnd.jupyter.widget-view+json": {
       "model_id": "beec3de7f3784a188e3e375d4be5be8e",
       "version_major": 2,
       "version_minor": 0
      },
      "text/plain": [
       "[fitting_weight_function]:   0%|          | 0/100 [00:00<?, ?it/s]"
      ]
     },
     "metadata": {},
     "output_type": "display_data"
    },
    {
     "data": {
      "application/vnd.jupyter.widget-view+json": {
       "model_id": "eefbcf3c586d41f99998092cc3664ea8",
       "version_major": 2,
       "version_minor": 0
      },
      "text/plain": [
       "[collect input data: eval_policy]:   0%|          | 0/2 [00:00<?, ?it/s]"
      ]
     },
     "metadata": {},
     "output_type": "display_data"
    },
    {
     "data": {
      "application/vnd.jupyter.widget-view+json": {
       "model_id": "ae986831297140049142eb3617d2da73",
       "version_major": 2,
       "version_minor": 0
      },
      "text/plain": [
       "[calculate on-policy policy value]:   0%|          | 0/100 [00:00<?, ?it/s]"
      ]
     },
     "metadata": {},
     "output_type": "display_data"
    },
    {
     "data": {
      "application/vnd.jupyter.widget-view+json": {
       "model_id": "b3ecf109b6ec4cb0ab9e3a48b0679c5a",
       "version_major": 2,
       "version_minor": 0
      },
      "text/plain": [
       "[calculate on-policy policy value]:   0%|          | 0/100 [00:00<?, ?it/s]"
      ]
     },
     "metadata": {},
     "output_type": "display_data"
    },
    {
     "data": {
      "application/vnd.jupyter.widget-view+json": {
       "model_id": "c18eef113967483e8f00688d4fa00666",
       "version_major": 2,
       "version_minor": 0
      },
      "text/plain": [
       "[obtain_trajectories]:   0%|          | 0/200 [00:00<?, ?it/s]"
      ]
     },
     "metadata": {},
     "output_type": "display_data"
    },
    {
     "data": {
      "application/vnd.jupyter.widget-view+json": {
       "model_id": "fc42fa48981e42dbb66ee8d0568360d7",
       "version_major": 2,
       "version_minor": 0
      },
      "text/plain": [
       "[obtain_trajectories]:   0%|          | 0/200 [00:00<?, ?it/s]"
      ]
     },
     "metadata": {},
     "output_type": "display_data"
    },
    {
     "name": "stdout",
     "output_type": "stream",
     "text": [
      "2023-03-16 10:30.57 [debug    ] RandomIterator is selected.\n",
      "2023-03-16 10:30.57 [info     ] Directory is created at d3rlpy_logs/CQL_20230316103057\n",
      "2023-03-16 10:30.57 [debug    ] Fitting action scaler...       action_scaler=min_max\n",
      "2023-03-16 10:30.57 [debug    ] Building models...\n",
      "2023-03-16 10:30.57 [debug    ] Models have been built.\n",
      "2023-03-16 10:30.57 [info     ] Parameters are saved to d3rlpy_logs/CQL_20230316103057/params.json params={'action_scaler': {'type': 'min_max', 'params': {'minimum': array([0.1]), 'maximum': array([10.])}}, 'actor_encoder_factory': {'type': 'vector', 'params': {'hidden_units': [30, 30], 'activation': 'relu', 'use_batch_norm': False, 'dropout_rate': None, 'use_dense': False}}, 'actor_learning_rate': 0.0001, 'actor_optim_factory': {'optim_cls': 'Adam', 'betas': (0.9, 0.999), 'eps': 1e-08, 'weight_decay': 0, 'amsgrad': False}, 'alpha_learning_rate': 0.0001, 'alpha_optim_factory': {'optim_cls': 'Adam', 'betas': (0.9, 0.999), 'eps': 1e-08, 'weight_decay': 0, 'amsgrad': False}, 'alpha_threshold': 10.0, 'batch_size': 256, 'conservative_weight': 5.0, 'critic_encoder_factory': {'type': 'vector', 'params': {'hidden_units': [30, 30], 'activation': 'relu', 'use_batch_norm': False, 'dropout_rate': None, 'use_dense': False}}, 'critic_learning_rate': 0.0003, 'critic_optim_factory': {'optim_cls': 'Adam', 'betas': (0.9, 0.999), 'eps': 1e-08, 'weight_decay': 0, 'amsgrad': False}, 'gamma': 0.99, 'generated_maxlen': 100000, 'initial_alpha': 1.0, 'initial_temperature': 1.0, 'n_action_samples': 10, 'n_critics': 2, 'n_frames': 1, 'n_steps': 1, 'q_func_factory': {'type': 'mean', 'params': {'share_encoder': False}}, 'real_ratio': 1.0, 'reward_scaler': None, 'scaler': None, 'soft_q_backup': False, 'tau': 0.005, 'temp_learning_rate': 0.0001, 'temp_optim_factory': {'optim_cls': 'Adam', 'betas': (0.9, 0.999), 'eps': 1e-08, 'weight_decay': 0, 'amsgrad': False}, 'use_gpu': None, 'algorithm': 'CQL', 'observation_shape': (7,), 'action_size': 1}\n"
     ]
    },
    {
     "data": {
      "application/vnd.jupyter.widget-view+json": {
       "model_id": "c12ac1361cd747c4ac7c2b8ab71eda56",
       "version_major": 2,
       "version_minor": 0
      },
      "text/plain": [
       "Epoch 1/1:   0%|          | 0/10000 [00:00<?, ?it/s]"
      ]
     },
     "metadata": {},
     "output_type": "display_data"
    },
    {
     "name": "stdout",
     "output_type": "stream",
     "text": [
      "2023-03-16 10:33.57 [info     ] CQL_20230316103057: epoch=1 step=10000 epoch=1 metrics={'time_sample_batch': 0.0005324656009674072, 'time_algorithm_update': 0.0168386506319046, 'temp_loss': -0.6812118383552879, 'temp': 0.9374347385585308, 'alpha_loss': -15.323515004491806, 'alpha': 1.7946231560468673, 'critic_loss': 86.23766056337357, 'actor_loss': -1.8534344804227352, 'time_step': 0.017831768727302553} step=10000\n",
      "2023-03-16 10:33.57 [info     ] Model parameters are saved to d3rlpy_logs/CQL_20230316103057/model_10000.pt\n"
     ]
    },
    {
     "data": {
      "application/vnd.jupyter.widget-view+json": {
       "model_id": "9e7c3dad97b2452993041b5c0a78075c",
       "version_major": 2,
       "version_minor": 0
      },
      "text/plain": [
       "[fit FQE model]:   0%|          | 0/2 [00:00<?, ?it/s]"
      ]
     },
     "metadata": {},
     "output_type": "display_data"
    },
    {
     "name": "stdout",
     "output_type": "stream",
     "text": [
      "2023-03-16 10:33.57 [debug    ] RoundIterator is selected.\n",
      "2023-03-16 10:33.57 [info     ] Directory is created at d3rlpy_logs/FQE_20230316103357\n",
      "2023-03-16 10:33.57 [debug    ] Fitting scaler...              scaler=min_max\n",
      "2023-03-16 10:33.57 [debug    ] Fitting action scaler...       action_scaler=min_max\n",
      "2023-03-16 10:33.57 [debug    ] Building models...\n",
      "2023-03-16 10:33.57 [debug    ] Models have been built.\n",
      "2023-03-16 10:33.57 [info     ] Parameters are saved to d3rlpy_logs/FQE_20230316103357/params.json params={'action_scaler': {'type': 'min_max', 'params': {'minimum': array([0.1]), 'maximum': array([10.])}}, 'batch_size': 100, 'encoder_factory': {'type': 'vector', 'params': {'hidden_units': [30, 30], 'activation': 'relu', 'use_batch_norm': False, 'dropout_rate': None, 'use_dense': False}}, 'gamma': 0.95, 'generated_maxlen': 100000, 'learning_rate': 0.0001, 'n_critics': 1, 'n_frames': 1, 'n_steps': 1, 'optim_factory': {'optim_cls': 'Adam', 'betas': (0.9, 0.999), 'eps': 1e-08, 'weight_decay': 0, 'amsgrad': False}, 'q_func_factory': {'type': 'mean', 'params': {'share_encoder': False}}, 'real_ratio': 1.0, 'reward_scaler': None, 'scaler': {'type': 'min_max', 'params': {'maximum': array([6.00000000e+00, 3.00000000e+03, 9.99135696e-01, 2.33333333e+04,\n",
      "       1.00000000e+00, 2.00000000e+01, 9.89500487e+00]), 'minimum': array([0.        , 1.        , 0.        , 0.        , 0.        ,\n",
      "       0.        , 0.00673276])}}, 'target_update_interval': 100, 'use_gpu': None, 'algorithm': 'FQE', 'observation_shape': (7,), 'action_size': 1}\n"
     ]
    },
    {
     "data": {
      "application/vnd.jupyter.widget-view+json": {
       "model_id": "e2de77431cb2493aab31148b89d281f3",
       "version_major": 2,
       "version_minor": 0
      },
      "text/plain": [
       "Epoch 1/1:   0%|          | 0/14 [00:00<?, ?it/s]"
      ]
     },
     "metadata": {},
     "output_type": "display_data"
    },
    {
     "name": "stdout",
     "output_type": "stream",
     "text": [
      "2023-03-16 10:33.57 [info     ] FQE_20230316103357: epoch=1 step=14 epoch=1 metrics={'time_sample_batch': 8.455344608851842e-05, 'time_algorithm_update': 0.0012822662081037248, 'loss': 14.763110501425606, 'time_step': 0.0014093944004603795} step=14\n",
      "2023-03-16 10:33.57 [info     ] Model parameters are saved to d3rlpy_logs/FQE_20230316103357/model_14.pt\n",
      "2023-03-16 10:33.57 [debug    ] RoundIterator is selected.\n",
      "2023-03-16 10:33.58 [info     ] Directory is created at d3rlpy_logs/FQE_20230316103358\n",
      "2023-03-16 10:33.58 [debug    ] Fitting scaler...              scaler=min_max\n",
      "2023-03-16 10:33.58 [debug    ] Fitting action scaler...       action_scaler=min_max\n",
      "2023-03-16 10:33.58 [debug    ] Building models...\n",
      "2023-03-16 10:33.58 [debug    ] Models have been built.\n",
      "2023-03-16 10:33.58 [info     ] Parameters are saved to d3rlpy_logs/FQE_20230316103358/params.json params={'action_scaler': {'type': 'min_max', 'params': {'minimum': array([0.1]), 'maximum': array([10.])}}, 'batch_size': 100, 'encoder_factory': {'type': 'vector', 'params': {'hidden_units': [30, 30], 'activation': 'relu', 'use_batch_norm': False, 'dropout_rate': None, 'use_dense': False}}, 'gamma': 0.95, 'generated_maxlen': 100000, 'learning_rate': 0.0001, 'n_critics': 1, 'n_frames': 1, 'n_steps': 1, 'optim_factory': {'optim_cls': 'Adam', 'betas': (0.9, 0.999), 'eps': 1e-08, 'weight_decay': 0, 'amsgrad': False}, 'q_func_factory': {'type': 'mean', 'params': {'share_encoder': False}}, 'real_ratio': 1.0, 'reward_scaler': None, 'scaler': {'type': 'min_max', 'params': {'maximum': array([6.00000000e+00, 3.00000000e+03, 9.99135696e-01, 2.33333333e+04,\n",
      "       1.00000000e+00, 2.00000000e+01, 9.89500487e+00]), 'minimum': array([0.        , 1.        , 0.        , 0.        , 0.        ,\n",
      "       0.        , 0.00673276])}}, 'target_update_interval': 100, 'use_gpu': None, 'algorithm': 'FQE', 'observation_shape': (7,), 'action_size': 1}\n"
     ]
    },
    {
     "data": {
      "application/vnd.jupyter.widget-view+json": {
       "model_id": "499fe26fe9c54827a90df224677ef9b8",
       "version_major": 2,
       "version_minor": 0
      },
      "text/plain": [
       "Epoch 1/1:   0%|          | 0/14 [00:00<?, ?it/s]"
      ]
     },
     "metadata": {},
     "output_type": "display_data"
    },
    {
     "name": "stdout",
     "output_type": "stream",
     "text": [
      "2023-03-16 10:33.58 [info     ] FQE_20230316103358: epoch=1 step=14 epoch=1 metrics={'time_sample_batch': 8.766991751534598e-05, 'time_algorithm_update': 0.0012392997741699219, 'loss': 14.271204607827324, 'time_step': 0.0013947997774396623} step=14\n",
      "2023-03-16 10:33.58 [info     ] Model parameters are saved to d3rlpy_logs/FQE_20230316103358/model_14.pt\n"
     ]
    },
    {
     "data": {
      "application/vnd.jupyter.widget-view+json": {
       "model_id": "6305ff47a5004804b6652c56f0d75216",
       "version_major": 2,
       "version_minor": 0
      },
      "text/plain": [
       "[fit MWL model]:   0%|          | 0/2 [00:00<?, ?it/s]"
      ]
     },
     "metadata": {},
     "output_type": "display_data"
    },
    {
     "data": {
      "application/vnd.jupyter.widget-view+json": {
       "model_id": "deb8741b85fc45309111820a360e89e9",
       "version_major": 2,
       "version_minor": 0
      },
      "text/plain": [
       "[fitting_weight_function]:   0%|          | 0/100 [00:00<?, ?it/s]"
      ]
     },
     "metadata": {},
     "output_type": "display_data"
    },
    {
     "data": {
      "application/vnd.jupyter.widget-view+json": {
       "model_id": "6086f48d5bf1480a99605c56a5649e51",
       "version_major": 2,
       "version_minor": 0
      },
      "text/plain": [
       "[fitting_weight_function]:   0%|          | 0/100 [00:00<?, ?it/s]"
      ]
     },
     "metadata": {},
     "output_type": "display_data"
    },
    {
     "data": {
      "application/vnd.jupyter.widget-view+json": {
       "model_id": "dfe329dfd6a441318378e2c9acc55993",
       "version_major": 2,
       "version_minor": 0
      },
      "text/plain": [
       "[fitting_weight_function]:   0%|          | 0/100 [00:00<?, ?it/s]"
      ]
     },
     "metadata": {},
     "output_type": "display_data"
    },
    {
     "data": {
      "application/vnd.jupyter.widget-view+json": {
       "model_id": "99458c46de264dd68b776cb9c1675f04",
       "version_major": 2,
       "version_minor": 0
      },
      "text/plain": [
       "[fitting_weight_function]:   0%|          | 0/100 [00:00<?, ?it/s]"
      ]
     },
     "metadata": {},
     "output_type": "display_data"
    },
    {
     "data": {
      "application/vnd.jupyter.widget-view+json": {
       "model_id": "6800a9cdfb274fdea381fc8909e19c7c",
       "version_major": 2,
       "version_minor": 0
      },
      "text/plain": [
       "[collect input data: eval_policy]:   0%|          | 0/2 [00:00<?, ?it/s]"
      ]
     },
     "metadata": {},
     "output_type": "display_data"
    },
    {
     "data": {
      "application/vnd.jupyter.widget-view+json": {
       "model_id": "adfa9f4b5590443fbe7650f6929ca8b2",
       "version_major": 2,
       "version_minor": 0
      },
      "text/plain": [
       "[calculate on-policy policy value]:   0%|          | 0/100 [00:00<?, ?it/s]"
      ]
     },
     "metadata": {},
     "output_type": "display_data"
    },
    {
     "data": {
      "application/vnd.jupyter.widget-view+json": {
       "model_id": "6e13e298dcf642b683d74ada5426c23a",
       "version_major": 2,
       "version_minor": 0
      },
      "text/plain": [
       "[calculate on-policy policy value]:   0%|          | 0/100 [00:00<?, ?it/s]"
      ]
     },
     "metadata": {},
     "output_type": "display_data"
    },
    {
     "data": {
      "application/vnd.jupyter.widget-view+json": {
       "model_id": "f314727e6126424abedcc5f6228e28a0",
       "version_major": 2,
       "version_minor": 0
      },
      "text/plain": [
       "[obtain_trajectories]:   0%|          | 0/200 [00:00<?, ?it/s]"
      ]
     },
     "metadata": {},
     "output_type": "display_data"
    },
    {
     "data": {
      "application/vnd.jupyter.widget-view+json": {
       "model_id": "3e0e2c90bf64450aa89e6c177d25dc76",
       "version_major": 2,
       "version_minor": 0
      },
      "text/plain": [
       "[obtain_trajectories]:   0%|          | 0/200 [00:00<?, ?it/s]"
      ]
     },
     "metadata": {},
     "output_type": "display_data"
    },
    {
     "name": "stdout",
     "output_type": "stream",
     "text": [
      "2023-03-16 10:34.41 [debug    ] RandomIterator is selected.\n",
      "2023-03-16 10:34.41 [info     ] Directory is created at d3rlpy_logs/CQL_20230316103441\n",
      "2023-03-16 10:34.41 [debug    ] Fitting action scaler...       action_scaler=min_max\n",
      "2023-03-16 10:34.41 [debug    ] Building models...\n",
      "2023-03-16 10:34.41 [debug    ] Models have been built.\n",
      "2023-03-16 10:34.41 [info     ] Parameters are saved to d3rlpy_logs/CQL_20230316103441/params.json params={'action_scaler': {'type': 'min_max', 'params': {'minimum': array([0.1]), 'maximum': array([10.])}}, 'actor_encoder_factory': {'type': 'vector', 'params': {'hidden_units': [30, 30], 'activation': 'relu', 'use_batch_norm': False, 'dropout_rate': None, 'use_dense': False}}, 'actor_learning_rate': 0.0001, 'actor_optim_factory': {'optim_cls': 'Adam', 'betas': (0.9, 0.999), 'eps': 1e-08, 'weight_decay': 0, 'amsgrad': False}, 'alpha_learning_rate': 0.0001, 'alpha_optim_factory': {'optim_cls': 'Adam', 'betas': (0.9, 0.999), 'eps': 1e-08, 'weight_decay': 0, 'amsgrad': False}, 'alpha_threshold': 10.0, 'batch_size': 256, 'conservative_weight': 5.0, 'critic_encoder_factory': {'type': 'vector', 'params': {'hidden_units': [30, 30], 'activation': 'relu', 'use_batch_norm': False, 'dropout_rate': None, 'use_dense': False}}, 'critic_learning_rate': 0.0003, 'critic_optim_factory': {'optim_cls': 'Adam', 'betas': (0.9, 0.999), 'eps': 1e-08, 'weight_decay': 0, 'amsgrad': False}, 'gamma': 0.99, 'generated_maxlen': 100000, 'initial_alpha': 1.0, 'initial_temperature': 1.0, 'n_action_samples': 10, 'n_critics': 2, 'n_frames': 1, 'n_steps': 1, 'q_func_factory': {'type': 'mean', 'params': {'share_encoder': False}}, 'real_ratio': 1.0, 'reward_scaler': None, 'scaler': None, 'soft_q_backup': False, 'tau': 0.005, 'temp_learning_rate': 0.0001, 'temp_optim_factory': {'optim_cls': 'Adam', 'betas': (0.9, 0.999), 'eps': 1e-08, 'weight_decay': 0, 'amsgrad': False}, 'use_gpu': None, 'algorithm': 'CQL', 'observation_shape': (7,), 'action_size': 1}\n"
     ]
    },
    {
     "data": {
      "application/vnd.jupyter.widget-view+json": {
       "model_id": "a50c360914d942199fbdea03770c9136",
       "version_major": 2,
       "version_minor": 0
      },
      "text/plain": [
       "Epoch 1/1:   0%|          | 0/10000 [00:00<?, ?it/s]"
      ]
     },
     "metadata": {},
     "output_type": "display_data"
    },
    {
     "name": "stdout",
     "output_type": "stream",
     "text": [
      "2023-03-16 10:37.42 [info     ] CQL_20230316103441: epoch=1 step=10000 epoch=1 metrics={'time_sample_batch': 0.0005297742366790772, 'time_algorithm_update': 0.016952327632904052, 'temp_loss': -6.141555876159668, 'temp': 1.433972772026062, 'alpha_loss': -15.170630290603638, 'alpha': 1.8256288945674897, 'critic_loss': 84.92163463182449, 'actor_loss': 6.043789932684973, 'time_step': 0.017958414721488954} step=10000\n",
      "2023-03-16 10:37.42 [info     ] Model parameters are saved to d3rlpy_logs/CQL_20230316103441/model_10000.pt\n"
     ]
    },
    {
     "data": {
      "application/vnd.jupyter.widget-view+json": {
       "model_id": "767cf2fde6cc465db22cc17ccf674c56",
       "version_major": 2,
       "version_minor": 0
      },
      "text/plain": [
       "[fit FQE model]:   0%|          | 0/2 [00:00<?, ?it/s]"
      ]
     },
     "metadata": {},
     "output_type": "display_data"
    },
    {
     "name": "stdout",
     "output_type": "stream",
     "text": [
      "2023-03-16 10:37.42 [debug    ] RoundIterator is selected.\n",
      "2023-03-16 10:37.42 [info     ] Directory is created at d3rlpy_logs/FQE_20230316103742\n",
      "2023-03-16 10:37.42 [debug    ] Fitting scaler...              scaler=min_max\n",
      "2023-03-16 10:37.42 [debug    ] Fitting action scaler...       action_scaler=min_max\n",
      "2023-03-16 10:37.42 [debug    ] Building models...\n",
      "2023-03-16 10:37.42 [debug    ] Models have been built.\n",
      "2023-03-16 10:37.42 [info     ] Parameters are saved to d3rlpy_logs/FQE_20230316103742/params.json params={'action_scaler': {'type': 'min_max', 'params': {'minimum': array([0.1]), 'maximum': array([10.])}}, 'batch_size': 100, 'encoder_factory': {'type': 'vector', 'params': {'hidden_units': [30, 30], 'activation': 'relu', 'use_batch_norm': False, 'dropout_rate': None, 'use_dense': False}}, 'gamma': 0.95, 'generated_maxlen': 100000, 'learning_rate': 0.0001, 'n_critics': 1, 'n_frames': 1, 'n_steps': 1, 'optim_factory': {'optim_cls': 'Adam', 'betas': (0.9, 0.999), 'eps': 1e-08, 'weight_decay': 0, 'amsgrad': False}, 'q_func_factory': {'type': 'mean', 'params': {'share_encoder': False}}, 'real_ratio': 1.0, 'reward_scaler': None, 'scaler': {'type': 'min_max', 'params': {'maximum': array([6.00000000e+00, 3.00000000e+03, 9.99844840e-01, 3.95000000e+04,\n",
      "       1.00000000e+00, 1.60000000e+01, 9.86915425e+00]), 'minimum': array([0.        , 1.        , 0.        , 0.        , 0.        ,\n",
      "       0.        , 0.00395761])}}, 'target_update_interval': 100, 'use_gpu': None, 'algorithm': 'FQE', 'observation_shape': (7,), 'action_size': 1}\n"
     ]
    },
    {
     "data": {
      "application/vnd.jupyter.widget-view+json": {
       "model_id": "9a3ba12176784feb911f53157e840ce4",
       "version_major": 2,
       "version_minor": 0
      },
      "text/plain": [
       "Epoch 1/1:   0%|          | 0/14 [00:00<?, ?it/s]"
      ]
     },
     "metadata": {},
     "output_type": "display_data"
    },
    {
     "name": "stdout",
     "output_type": "stream",
     "text": [
      "2023-03-16 10:37.42 [info     ] FQE_20230316103742: epoch=1 step=14 epoch=1 metrics={'time_sample_batch': 8.41106687273298e-05, 'time_algorithm_update': 0.001266070774623326, 'loss': 14.182778903416224, 'time_step': 0.0014079298291887557} step=14\n",
      "2023-03-16 10:37.42 [info     ] Model parameters are saved to d3rlpy_logs/FQE_20230316103742/model_14.pt\n",
      "2023-03-16 10:37.42 [debug    ] RoundIterator is selected.\n",
      "2023-03-16 10:37.43 [info     ] Directory is created at d3rlpy_logs/FQE_20230316103743\n",
      "2023-03-16 10:37.43 [debug    ] Fitting scaler...              scaler=min_max\n",
      "2023-03-16 10:37.43 [debug    ] Fitting action scaler...       action_scaler=min_max\n",
      "2023-03-16 10:37.43 [debug    ] Building models...\n",
      "2023-03-16 10:37.43 [debug    ] Models have been built.\n",
      "2023-03-16 10:37.43 [info     ] Parameters are saved to d3rlpy_logs/FQE_20230316103743/params.json params={'action_scaler': {'type': 'min_max', 'params': {'minimum': array([0.1]), 'maximum': array([10.])}}, 'batch_size': 100, 'encoder_factory': {'type': 'vector', 'params': {'hidden_units': [30, 30], 'activation': 'relu', 'use_batch_norm': False, 'dropout_rate': None, 'use_dense': False}}, 'gamma': 0.95, 'generated_maxlen': 100000, 'learning_rate': 0.0001, 'n_critics': 1, 'n_frames': 1, 'n_steps': 1, 'optim_factory': {'optim_cls': 'Adam', 'betas': (0.9, 0.999), 'eps': 1e-08, 'weight_decay': 0, 'amsgrad': False}, 'q_func_factory': {'type': 'mean', 'params': {'share_encoder': False}}, 'real_ratio': 1.0, 'reward_scaler': None, 'scaler': {'type': 'min_max', 'params': {'maximum': array([6.00000000e+00, 3.00000000e+03, 9.99844840e-01, 3.95000000e+04,\n",
      "       1.00000000e+00, 1.60000000e+01, 9.86915425e+00]), 'minimum': array([0.        , 1.        , 0.        , 0.        , 0.        ,\n",
      "       0.        , 0.00395761])}}, 'target_update_interval': 100, 'use_gpu': None, 'algorithm': 'FQE', 'observation_shape': (7,), 'action_size': 1}\n"
     ]
    },
    {
     "data": {
      "application/vnd.jupyter.widget-view+json": {
       "model_id": "26fb46aa47b94a42a59eb08f13b296db",
       "version_major": 2,
       "version_minor": 0
      },
      "text/plain": [
       "Epoch 1/1:   0%|          | 0/14 [00:00<?, ?it/s]"
      ]
     },
     "metadata": {},
     "output_type": "display_data"
    },
    {
     "name": "stdout",
     "output_type": "stream",
     "text": [
      "2023-03-16 10:37.43 [info     ] FQE_20230316103743: epoch=1 step=14 epoch=1 metrics={'time_sample_batch': 0.00012426716940743581, 'time_algorithm_update': 0.0013323681695120676, 'loss': 14.640096460069929, 'time_step': 0.0015168019703456334} step=14\n",
      "2023-03-16 10:37.43 [info     ] Model parameters are saved to d3rlpy_logs/FQE_20230316103743/model_14.pt\n"
     ]
    },
    {
     "data": {
      "application/vnd.jupyter.widget-view+json": {
       "model_id": "0e787f2ff653421981db97569ed670af",
       "version_major": 2,
       "version_minor": 0
      },
      "text/plain": [
       "[fit MWL model]:   0%|          | 0/2 [00:00<?, ?it/s]"
      ]
     },
     "metadata": {},
     "output_type": "display_data"
    },
    {
     "data": {
      "application/vnd.jupyter.widget-view+json": {
       "model_id": "ce6bb81b3cfc4a99b269b2d140b4eb1f",
       "version_major": 2,
       "version_minor": 0
      },
      "text/plain": [
       "[fitting_weight_function]:   0%|          | 0/100 [00:00<?, ?it/s]"
      ]
     },
     "metadata": {},
     "output_type": "display_data"
    },
    {
     "data": {
      "application/vnd.jupyter.widget-view+json": {
       "model_id": "03e6198098c944bda67e74bf64b5a2ab",
       "version_major": 2,
       "version_minor": 0
      },
      "text/plain": [
       "[fitting_weight_function]:   0%|          | 0/100 [00:00<?, ?it/s]"
      ]
     },
     "metadata": {},
     "output_type": "display_data"
    },
    {
     "data": {
      "application/vnd.jupyter.widget-view+json": {
       "model_id": "203aacc3979c4cf9ad1968adfd014e49",
       "version_major": 2,
       "version_minor": 0
      },
      "text/plain": [
       "[fitting_weight_function]:   0%|          | 0/100 [00:00<?, ?it/s]"
      ]
     },
     "metadata": {},
     "output_type": "display_data"
    },
    {
     "data": {
      "application/vnd.jupyter.widget-view+json": {
       "model_id": "d7ee5ab9791f41de8db7d33d112cf170",
       "version_major": 2,
       "version_minor": 0
      },
      "text/plain": [
       "[fitting_weight_function]:   0%|          | 0/100 [00:00<?, ?it/s]"
      ]
     },
     "metadata": {},
     "output_type": "display_data"
    },
    {
     "data": {
      "application/vnd.jupyter.widget-view+json": {
       "model_id": "762de427a0bf45c299b29ed2c17cbc0f",
       "version_major": 2,
       "version_minor": 0
      },
      "text/plain": [
       "[collect input data: eval_policy]:   0%|          | 0/2 [00:00<?, ?it/s]"
      ]
     },
     "metadata": {},
     "output_type": "display_data"
    },
    {
     "data": {
      "application/vnd.jupyter.widget-view+json": {
       "model_id": "5e250fe6edcb491a87c41ff41ddce498",
       "version_major": 2,
       "version_minor": 0
      },
      "text/plain": [
       "[calculate on-policy policy value]:   0%|          | 0/100 [00:00<?, ?it/s]"
      ]
     },
     "metadata": {},
     "output_type": "display_data"
    },
    {
     "data": {
      "application/vnd.jupyter.widget-view+json": {
       "model_id": "22d3cb8ecb0b4d1d9e35d4fa7c0260e9",
       "version_major": 2,
       "version_minor": 0
      },
      "text/plain": [
       "[calculate on-policy policy value]:   0%|          | 0/100 [00:00<?, ?it/s]"
      ]
     },
     "metadata": {},
     "output_type": "display_data"
    },
    {
     "data": {
      "application/vnd.jupyter.widget-view+json": {
       "model_id": "86b7dbd21a984f03b250cbe50ddf821f",
       "version_major": 2,
       "version_minor": 0
      },
      "text/plain": [
       "[obtain_trajectories]:   0%|          | 0/200 [00:00<?, ?it/s]"
      ]
     },
     "metadata": {},
     "output_type": "display_data"
    },
    {
     "data": {
      "application/vnd.jupyter.widget-view+json": {
       "model_id": "96abb6047aa9434f88f112dd263b0143",
       "version_major": 2,
       "version_minor": 0
      },
      "text/plain": [
       "[obtain_trajectories]:   0%|          | 0/200 [00:00<?, ?it/s]"
      ]
     },
     "metadata": {},
     "output_type": "display_data"
    },
    {
     "name": "stdout",
     "output_type": "stream",
     "text": [
      "2023-03-16 10:38.27 [debug    ] RandomIterator is selected.\n",
      "2023-03-16 10:38.27 [info     ] Directory is created at d3rlpy_logs/CQL_20230316103827\n",
      "2023-03-16 10:38.27 [debug    ] Fitting action scaler...       action_scaler=min_max\n",
      "2023-03-16 10:38.27 [debug    ] Building models...\n",
      "2023-03-16 10:38.27 [debug    ] Models have been built.\n",
      "2023-03-16 10:38.27 [info     ] Parameters are saved to d3rlpy_logs/CQL_20230316103827/params.json params={'action_scaler': {'type': 'min_max', 'params': {'minimum': array([0.1]), 'maximum': array([10.])}}, 'actor_encoder_factory': {'type': 'vector', 'params': {'hidden_units': [30, 30], 'activation': 'relu', 'use_batch_norm': False, 'dropout_rate': None, 'use_dense': False}}, 'actor_learning_rate': 0.0001, 'actor_optim_factory': {'optim_cls': 'Adam', 'betas': (0.9, 0.999), 'eps': 1e-08, 'weight_decay': 0, 'amsgrad': False}, 'alpha_learning_rate': 0.0001, 'alpha_optim_factory': {'optim_cls': 'Adam', 'betas': (0.9, 0.999), 'eps': 1e-08, 'weight_decay': 0, 'amsgrad': False}, 'alpha_threshold': 10.0, 'batch_size': 256, 'conservative_weight': 5.0, 'critic_encoder_factory': {'type': 'vector', 'params': {'hidden_units': [30, 30], 'activation': 'relu', 'use_batch_norm': False, 'dropout_rate': None, 'use_dense': False}}, 'critic_learning_rate': 0.0003, 'critic_optim_factory': {'optim_cls': 'Adam', 'betas': (0.9, 0.999), 'eps': 1e-08, 'weight_decay': 0, 'amsgrad': False}, 'gamma': 0.99, 'generated_maxlen': 100000, 'initial_alpha': 1.0, 'initial_temperature': 1.0, 'n_action_samples': 10, 'n_critics': 2, 'n_frames': 1, 'n_steps': 1, 'q_func_factory': {'type': 'mean', 'params': {'share_encoder': False}}, 'real_ratio': 1.0, 'reward_scaler': None, 'scaler': None, 'soft_q_backup': False, 'tau': 0.005, 'temp_learning_rate': 0.0001, 'temp_optim_factory': {'optim_cls': 'Adam', 'betas': (0.9, 0.999), 'eps': 1e-08, 'weight_decay': 0, 'amsgrad': False}, 'use_gpu': None, 'algorithm': 'CQL', 'observation_shape': (7,), 'action_size': 1}\n"
     ]
    },
    {
     "data": {
      "application/vnd.jupyter.widget-view+json": {
       "model_id": "f75ed4d9b1ec4b85be303bf71b636795",
       "version_major": 2,
       "version_minor": 0
      },
      "text/plain": [
       "Epoch 1/1:   0%|          | 0/10000 [00:00<?, ?it/s]"
      ]
     },
     "metadata": {},
     "output_type": "display_data"
    },
    {
     "name": "stdout",
     "output_type": "stream",
     "text": [
      "2023-03-16 10:41.21 [info     ] CQL_20230316103827: epoch=1 step=10000 epoch=1 metrics={'time_sample_batch': 0.0005218225717544555, 'time_algorithm_update': 0.016257779097557067, 'temp_loss': -6.557368604576587, 'temp': 1.2895630998969079, 'alpha_loss': -15.23610985827446, 'alpha': 1.8210167893290519, 'critic_loss': 51.38485302591324, 'actor_loss': 3.82483113018889, 'time_step': 0.017226639699935913} step=10000\n",
      "2023-03-16 10:41.21 [info     ] Model parameters are saved to d3rlpy_logs/CQL_20230316103827/model_10000.pt\n"
     ]
    },
    {
     "data": {
      "application/vnd.jupyter.widget-view+json": {
       "model_id": "312f61b693eb4f40bff94ac5ed27c334",
       "version_major": 2,
       "version_minor": 0
      },
      "text/plain": [
       "[fit FQE model]:   0%|          | 0/2 [00:00<?, ?it/s]"
      ]
     },
     "metadata": {},
     "output_type": "display_data"
    },
    {
     "name": "stdout",
     "output_type": "stream",
     "text": [
      "2023-03-16 10:41.21 [debug    ] RoundIterator is selected.\n",
      "2023-03-16 10:41.21 [info     ] Directory is created at d3rlpy_logs/FQE_20230316104121\n",
      "2023-03-16 10:41.21 [debug    ] Fitting scaler...              scaler=min_max\n",
      "2023-03-16 10:41.21 [debug    ] Fitting action scaler...       action_scaler=min_max\n",
      "2023-03-16 10:41.21 [debug    ] Building models...\n",
      "2023-03-16 10:41.21 [debug    ] Models have been built.\n",
      "2023-03-16 10:41.21 [info     ] Parameters are saved to d3rlpy_logs/FQE_20230316104121/params.json params={'action_scaler': {'type': 'min_max', 'params': {'minimum': array([0.1]), 'maximum': array([10.])}}, 'batch_size': 100, 'encoder_factory': {'type': 'vector', 'params': {'hidden_units': [30, 30], 'activation': 'relu', 'use_batch_norm': False, 'dropout_rate': None, 'use_dense': False}}, 'gamma': 0.95, 'generated_maxlen': 100000, 'learning_rate': 0.0001, 'n_critics': 1, 'n_frames': 1, 'n_steps': 1, 'optim_factory': {'optim_cls': 'Adam', 'betas': (0.9, 0.999), 'eps': 1e-08, 'weight_decay': 0, 'amsgrad': False}, 'q_func_factory': {'type': 'mean', 'params': {'share_encoder': False}}, 'real_ratio': 1.0, 'reward_scaler': None, 'scaler': {'type': 'min_max', 'params': {'maximum': array([6.00000000e+00, 3.00000000e+03, 9.98982706e-01, 2.06000000e+04,\n",
      "       1.00000000e+00, 1.70000000e+01, 9.92140257e+00]), 'minimum': array([0.       , 1.       , 0.       , 0.       , 0.       , 0.       ,\n",
      "       0.0108887])}}, 'target_update_interval': 100, 'use_gpu': None, 'algorithm': 'FQE', 'observation_shape': (7,), 'action_size': 1}\n"
     ]
    },
    {
     "data": {
      "application/vnd.jupyter.widget-view+json": {
       "model_id": "05d77cf781e149939d5face189e78fd1",
       "version_major": 2,
       "version_minor": 0
      },
      "text/plain": [
       "Epoch 1/1:   0%|          | 0/14 [00:00<?, ?it/s]"
      ]
     },
     "metadata": {},
     "output_type": "display_data"
    },
    {
     "name": "stdout",
     "output_type": "stream",
     "text": [
      "2023-03-16 10:41.21 [info     ] FQE_20230316104121: epoch=1 step=14 epoch=1 metrics={'time_sample_batch': 8.390630994524275e-05, 'time_algorithm_update': 0.001172644751412528, 'loss': 14.604195322309222, 'time_step': 0.0013167517525809152} step=14\n",
      "2023-03-16 10:41.21 [info     ] Model parameters are saved to d3rlpy_logs/FQE_20230316104121/model_14.pt\n",
      "2023-03-16 10:41.21 [debug    ] RoundIterator is selected.\n",
      "2023-03-16 10:41.22 [info     ] Directory is created at d3rlpy_logs/FQE_20230316104122\n",
      "2023-03-16 10:41.22 [debug    ] Fitting scaler...              scaler=min_max\n",
      "2023-03-16 10:41.22 [debug    ] Fitting action scaler...       action_scaler=min_max\n",
      "2023-03-16 10:41.22 [debug    ] Building models...\n",
      "2023-03-16 10:41.22 [debug    ] Models have been built.\n",
      "2023-03-16 10:41.22 [info     ] Parameters are saved to d3rlpy_logs/FQE_20230316104122/params.json params={'action_scaler': {'type': 'min_max', 'params': {'minimum': array([0.1]), 'maximum': array([10.])}}, 'batch_size': 100, 'encoder_factory': {'type': 'vector', 'params': {'hidden_units': [30, 30], 'activation': 'relu', 'use_batch_norm': False, 'dropout_rate': None, 'use_dense': False}}, 'gamma': 0.95, 'generated_maxlen': 100000, 'learning_rate': 0.0001, 'n_critics': 1, 'n_frames': 1, 'n_steps': 1, 'optim_factory': {'optim_cls': 'Adam', 'betas': (0.9, 0.999), 'eps': 1e-08, 'weight_decay': 0, 'amsgrad': False}, 'q_func_factory': {'type': 'mean', 'params': {'share_encoder': False}}, 'real_ratio': 1.0, 'reward_scaler': None, 'scaler': {'type': 'min_max', 'params': {'maximum': array([6.00000000e+00, 3.00000000e+03, 9.98982706e-01, 2.06000000e+04,\n",
      "       1.00000000e+00, 1.70000000e+01, 9.92140257e+00]), 'minimum': array([0.       , 1.       , 0.       , 0.       , 0.       , 0.       ,\n",
      "       0.0108887])}}, 'target_update_interval': 100, 'use_gpu': None, 'algorithm': 'FQE', 'observation_shape': (7,), 'action_size': 1}\n"
     ]
    },
    {
     "data": {
      "application/vnd.jupyter.widget-view+json": {
       "model_id": "72ed3a80ba614c259c620680ab0bd9d1",
       "version_major": 2,
       "version_minor": 0
      },
      "text/plain": [
       "Epoch 1/1:   0%|          | 0/14 [00:00<?, ?it/s]"
      ]
     },
     "metadata": {},
     "output_type": "display_data"
    },
    {
     "name": "stdout",
     "output_type": "stream",
     "text": [
      "2023-03-16 10:41.22 [info     ] FQE_20230316104122: epoch=1 step=14 epoch=1 metrics={'time_sample_batch': 9.282997676304408e-05, 'time_algorithm_update': 0.0013151509421212332, 'loss': 14.618862765175956, 'time_step': 0.0014658144542149135} step=14\n",
      "2023-03-16 10:41.22 [info     ] Model parameters are saved to d3rlpy_logs/FQE_20230316104122/model_14.pt\n"
     ]
    },
    {
     "data": {
      "application/vnd.jupyter.widget-view+json": {
       "model_id": "7d4d45f801d64ea687c37b4487d4ea58",
       "version_major": 2,
       "version_minor": 0
      },
      "text/plain": [
       "[fit MWL model]:   0%|          | 0/2 [00:00<?, ?it/s]"
      ]
     },
     "metadata": {},
     "output_type": "display_data"
    },
    {
     "data": {
      "application/vnd.jupyter.widget-view+json": {
       "model_id": "16799e49d6274067b57d0e3abfd55382",
       "version_major": 2,
       "version_minor": 0
      },
      "text/plain": [
       "[fitting_weight_function]:   0%|          | 0/100 [00:00<?, ?it/s]"
      ]
     },
     "metadata": {},
     "output_type": "display_data"
    },
    {
     "data": {
      "application/vnd.jupyter.widget-view+json": {
       "model_id": "16790dd9b23044149ae16a9d7b0cd796",
       "version_major": 2,
       "version_minor": 0
      },
      "text/plain": [
       "[fitting_weight_function]:   0%|          | 0/100 [00:00<?, ?it/s]"
      ]
     },
     "metadata": {},
     "output_type": "display_data"
    },
    {
     "data": {
      "application/vnd.jupyter.widget-view+json": {
       "model_id": "66a8ade6d8804324811be3e5670a5111",
       "version_major": 2,
       "version_minor": 0
      },
      "text/plain": [
       "[fitting_weight_function]:   0%|          | 0/100 [00:00<?, ?it/s]"
      ]
     },
     "metadata": {},
     "output_type": "display_data"
    },
    {
     "data": {
      "application/vnd.jupyter.widget-view+json": {
       "model_id": "2619c8120647477d9ab80949d134b156",
       "version_major": 2,
       "version_minor": 0
      },
      "text/plain": [
       "[fitting_weight_function]:   0%|          | 0/100 [00:00<?, ?it/s]"
      ]
     },
     "metadata": {},
     "output_type": "display_data"
    },
    {
     "data": {
      "application/vnd.jupyter.widget-view+json": {
       "model_id": "becef9e6eb9c424db2f477a1fc52e9e7",
       "version_major": 2,
       "version_minor": 0
      },
      "text/plain": [
       "[collect input data: eval_policy]:   0%|          | 0/2 [00:00<?, ?it/s]"
      ]
     },
     "metadata": {},
     "output_type": "display_data"
    },
    {
     "data": {
      "application/vnd.jupyter.widget-view+json": {
       "model_id": "bbe6bd16fa264d1f940adbab1f082a16",
       "version_major": 2,
       "version_minor": 0
      },
      "text/plain": [
       "[calculate on-policy policy value]:   0%|          | 0/100 [00:00<?, ?it/s]"
      ]
     },
     "metadata": {},
     "output_type": "display_data"
    },
    {
     "data": {
      "application/vnd.jupyter.widget-view+json": {
       "model_id": "f27c75b628304ebd92aefa90b0925f98",
       "version_major": 2,
       "version_minor": 0
      },
      "text/plain": [
       "[calculate on-policy policy value]:   0%|          | 0/100 [00:00<?, ?it/s]"
      ]
     },
     "metadata": {},
     "output_type": "display_data"
    },
    {
     "data": {
      "application/vnd.jupyter.widget-view+json": {
       "model_id": "3ddeb672de264275b856189023c6e69c",
       "version_major": 2,
       "version_minor": 0
      },
      "text/plain": [
       "[obtain_trajectories]:   0%|          | 0/200 [00:00<?, ?it/s]"
      ]
     },
     "metadata": {},
     "output_type": "display_data"
    },
    {
     "data": {
      "application/vnd.jupyter.widget-view+json": {
       "model_id": "a63611759df943d99331db3e808df55e",
       "version_major": 2,
       "version_minor": 0
      },
      "text/plain": [
       "[obtain_trajectories]:   0%|          | 0/200 [00:00<?, ?it/s]"
      ]
     },
     "metadata": {},
     "output_type": "display_data"
    },
    {
     "name": "stdout",
     "output_type": "stream",
     "text": [
      "2023-03-16 10:42.02 [debug    ] RandomIterator is selected.\n",
      "2023-03-16 10:42.02 [info     ] Directory is created at d3rlpy_logs/CQL_20230316104202\n",
      "2023-03-16 10:42.02 [debug    ] Fitting action scaler...       action_scaler=min_max\n",
      "2023-03-16 10:42.02 [debug    ] Building models...\n",
      "2023-03-16 10:42.02 [debug    ] Models have been built.\n",
      "2023-03-16 10:42.02 [info     ] Parameters are saved to d3rlpy_logs/CQL_20230316104202/params.json params={'action_scaler': {'type': 'min_max', 'params': {'minimum': array([0.1]), 'maximum': array([10.])}}, 'actor_encoder_factory': {'type': 'vector', 'params': {'hidden_units': [30, 30], 'activation': 'relu', 'use_batch_norm': False, 'dropout_rate': None, 'use_dense': False}}, 'actor_learning_rate': 0.0001, 'actor_optim_factory': {'optim_cls': 'Adam', 'betas': (0.9, 0.999), 'eps': 1e-08, 'weight_decay': 0, 'amsgrad': False}, 'alpha_learning_rate': 0.0001, 'alpha_optim_factory': {'optim_cls': 'Adam', 'betas': (0.9, 0.999), 'eps': 1e-08, 'weight_decay': 0, 'amsgrad': False}, 'alpha_threshold': 10.0, 'batch_size': 256, 'conservative_weight': 5.0, 'critic_encoder_factory': {'type': 'vector', 'params': {'hidden_units': [30, 30], 'activation': 'relu', 'use_batch_norm': False, 'dropout_rate': None, 'use_dense': False}}, 'critic_learning_rate': 0.0003, 'critic_optim_factory': {'optim_cls': 'Adam', 'betas': (0.9, 0.999), 'eps': 1e-08, 'weight_decay': 0, 'amsgrad': False}, 'gamma': 0.99, 'generated_maxlen': 100000, 'initial_alpha': 1.0, 'initial_temperature': 1.0, 'n_action_samples': 10, 'n_critics': 2, 'n_frames': 1, 'n_steps': 1, 'q_func_factory': {'type': 'mean', 'params': {'share_encoder': False}}, 'real_ratio': 1.0, 'reward_scaler': None, 'scaler': None, 'soft_q_backup': False, 'tau': 0.005, 'temp_learning_rate': 0.0001, 'temp_optim_factory': {'optim_cls': 'Adam', 'betas': (0.9, 0.999), 'eps': 1e-08, 'weight_decay': 0, 'amsgrad': False}, 'use_gpu': None, 'algorithm': 'CQL', 'observation_shape': (7,), 'action_size': 1}\n"
     ]
    },
    {
     "data": {
      "application/vnd.jupyter.widget-view+json": {
       "model_id": "49cf50fc746e42998b386ad516a1c9ec",
       "version_major": 2,
       "version_minor": 0
      },
      "text/plain": [
       "Epoch 1/1:   0%|          | 0/10000 [00:00<?, ?it/s]"
      ]
     },
     "metadata": {},
     "output_type": "display_data"
    },
    {
     "name": "stdout",
     "output_type": "stream",
     "text": [
      "2023-03-16 10:45.06 [info     ] CQL_20230316104202: epoch=1 step=10000 epoch=1 metrics={'time_sample_batch': 0.000533144474029541, 'time_algorithm_update': 0.017283158349990845, 'temp_loss': -17.195431245231628, 'temp': 1.7383353547811509, 'alpha_loss': -11.409890522623062, 'alpha': 1.7822922362565994, 'critic_loss': 405.7743997421265, 'actor_loss': 21.241372812461854, 'time_step': 0.01829187650680542} step=10000\n",
      "2023-03-16 10:45.06 [info     ] Model parameters are saved to d3rlpy_logs/CQL_20230316104202/model_10000.pt\n"
     ]
    },
    {
     "data": {
      "application/vnd.jupyter.widget-view+json": {
       "model_id": "dbccc54613a843d9a57c5a2f75bc685d",
       "version_major": 2,
       "version_minor": 0
      },
      "text/plain": [
       "[fit FQE model]:   0%|          | 0/2 [00:00<?, ?it/s]"
      ]
     },
     "metadata": {},
     "output_type": "display_data"
    },
    {
     "name": "stdout",
     "output_type": "stream",
     "text": [
      "2023-03-16 10:45.06 [debug    ] RoundIterator is selected.\n",
      "2023-03-16 10:45.06 [info     ] Directory is created at d3rlpy_logs/FQE_20230316104506\n",
      "2023-03-16 10:45.06 [debug    ] Fitting scaler...              scaler=min_max\n",
      "2023-03-16 10:45.06 [debug    ] Fitting action scaler...       action_scaler=min_max\n",
      "2023-03-16 10:45.06 [debug    ] Building models...\n",
      "2023-03-16 10:45.06 [debug    ] Models have been built.\n",
      "2023-03-16 10:45.06 [info     ] Parameters are saved to d3rlpy_logs/FQE_20230316104506/params.json params={'action_scaler': {'type': 'min_max', 'params': {'minimum': array([0.1]), 'maximum': array([10.])}}, 'batch_size': 100, 'encoder_factory': {'type': 'vector', 'params': {'hidden_units': [30, 30], 'activation': 'relu', 'use_batch_norm': False, 'dropout_rate': None, 'use_dense': False}}, 'gamma': 0.95, 'generated_maxlen': 100000, 'learning_rate': 0.0001, 'n_critics': 1, 'n_frames': 1, 'n_steps': 1, 'optim_factory': {'optim_cls': 'Adam', 'betas': (0.9, 0.999), 'eps': 1e-08, 'weight_decay': 0, 'amsgrad': False}, 'q_func_factory': {'type': 'mean', 'params': {'share_encoder': False}}, 'real_ratio': 1.0, 'reward_scaler': None, 'scaler': {'type': 'min_max', 'params': {'maximum': array([6.00000000e+00, 3.00000000e+03, 9.98468906e-01, 3.90000000e+04,\n",
      "       1.00000000e+00, 1.60000000e+01, 9.95039408e+00]), 'minimum': array([0.        , 1.        , 0.        , 0.        , 0.        ,\n",
      "       0.        , 0.00405059])}}, 'target_update_interval': 100, 'use_gpu': None, 'algorithm': 'FQE', 'observation_shape': (7,), 'action_size': 1}\n"
     ]
    },
    {
     "data": {
      "application/vnd.jupyter.widget-view+json": {
       "model_id": "6514bbfda4764bdabf1a8995031ff609",
       "version_major": 2,
       "version_minor": 0
      },
      "text/plain": [
       "Epoch 1/1:   0%|          | 0/14 [00:00<?, ?it/s]"
      ]
     },
     "metadata": {},
     "output_type": "display_data"
    },
    {
     "name": "stdout",
     "output_type": "stream",
     "text": [
      "2023-03-16 10:45.06 [info     ] FQE_20230316104506: epoch=1 step=14 epoch=1 metrics={'time_sample_batch': 9.609971727643694e-05, 'time_algorithm_update': 0.0015245165143694197, 'loss': 13.356296743665423, 'time_step': 0.0016873734337942941} step=14\n",
      "2023-03-16 10:45.06 [info     ] Model parameters are saved to d3rlpy_logs/FQE_20230316104506/model_14.pt\n",
      "2023-03-16 10:45.06 [debug    ] RoundIterator is selected.\n",
      "2023-03-16 10:45.07 [info     ] Directory is created at d3rlpy_logs/FQE_20230316104507\n",
      "2023-03-16 10:45.07 [debug    ] Fitting scaler...              scaler=min_max\n",
      "2023-03-16 10:45.07 [debug    ] Fitting action scaler...       action_scaler=min_max\n",
      "2023-03-16 10:45.07 [debug    ] Building models...\n",
      "2023-03-16 10:45.07 [debug    ] Models have been built.\n",
      "2023-03-16 10:45.07 [info     ] Parameters are saved to d3rlpy_logs/FQE_20230316104507/params.json params={'action_scaler': {'type': 'min_max', 'params': {'minimum': array([0.1]), 'maximum': array([10.])}}, 'batch_size': 100, 'encoder_factory': {'type': 'vector', 'params': {'hidden_units': [30, 30], 'activation': 'relu', 'use_batch_norm': False, 'dropout_rate': None, 'use_dense': False}}, 'gamma': 0.95, 'generated_maxlen': 100000, 'learning_rate': 0.0001, 'n_critics': 1, 'n_frames': 1, 'n_steps': 1, 'optim_factory': {'optim_cls': 'Adam', 'betas': (0.9, 0.999), 'eps': 1e-08, 'weight_decay': 0, 'amsgrad': False}, 'q_func_factory': {'type': 'mean', 'params': {'share_encoder': False}}, 'real_ratio': 1.0, 'reward_scaler': None, 'scaler': {'type': 'min_max', 'params': {'maximum': array([6.00000000e+00, 3.00000000e+03, 9.98468906e-01, 3.90000000e+04,\n",
      "       1.00000000e+00, 1.60000000e+01, 9.95039408e+00]), 'minimum': array([0.        , 1.        , 0.        , 0.        , 0.        ,\n",
      "       0.        , 0.00405059])}}, 'target_update_interval': 100, 'use_gpu': None, 'algorithm': 'FQE', 'observation_shape': (7,), 'action_size': 1}\n"
     ]
    },
    {
     "data": {
      "application/vnd.jupyter.widget-view+json": {
       "model_id": "0d65e43f4c3f4b3e9b27342d6eb5799f",
       "version_major": 2,
       "version_minor": 0
      },
      "text/plain": [
       "Epoch 1/1:   0%|          | 0/14 [00:00<?, ?it/s]"
      ]
     },
     "metadata": {},
     "output_type": "display_data"
    },
    {
     "name": "stdout",
     "output_type": "stream",
     "text": [
      "2023-03-16 10:45.07 [info     ] FQE_20230316104507: epoch=1 step=14 epoch=1 metrics={'time_sample_batch': 8.634158543178014e-05, 'time_algorithm_update': 0.0011119672230311803, 'loss': 13.695084163120814, 'time_step': 0.001259446144104004} step=14\n",
      "2023-03-16 10:45.07 [info     ] Model parameters are saved to d3rlpy_logs/FQE_20230316104507/model_14.pt\n"
     ]
    },
    {
     "data": {
      "application/vnd.jupyter.widget-view+json": {
       "model_id": "b6abcfd310934c1f94b9ae8d263baa72",
       "version_major": 2,
       "version_minor": 0
      },
      "text/plain": [
       "[fit MWL model]:   0%|          | 0/2 [00:00<?, ?it/s]"
      ]
     },
     "metadata": {},
     "output_type": "display_data"
    },
    {
     "data": {
      "application/vnd.jupyter.widget-view+json": {
       "model_id": "90d4070610bd49a0b3e8aa509135c359",
       "version_major": 2,
       "version_minor": 0
      },
      "text/plain": [
       "[fitting_weight_function]:   0%|          | 0/100 [00:00<?, ?it/s]"
      ]
     },
     "metadata": {},
     "output_type": "display_data"
    },
    {
     "data": {
      "application/vnd.jupyter.widget-view+json": {
       "model_id": "2ec046730d594250abd5241a4f296583",
       "version_major": 2,
       "version_minor": 0
      },
      "text/plain": [
       "[fitting_weight_function]:   0%|          | 0/100 [00:00<?, ?it/s]"
      ]
     },
     "metadata": {},
     "output_type": "display_data"
    },
    {
     "data": {
      "application/vnd.jupyter.widget-view+json": {
       "model_id": "0c1a36d6940d4067abbeb32032e951ae",
       "version_major": 2,
       "version_minor": 0
      },
      "text/plain": [
       "[fitting_weight_function]:   0%|          | 0/100 [00:00<?, ?it/s]"
      ]
     },
     "metadata": {},
     "output_type": "display_data"
    },
    {
     "data": {
      "application/vnd.jupyter.widget-view+json": {
       "model_id": "432b26a21a814a3cab7d8535e808d282",
       "version_major": 2,
       "version_minor": 0
      },
      "text/plain": [
       "[fitting_weight_function]:   0%|          | 0/100 [00:00<?, ?it/s]"
      ]
     },
     "metadata": {},
     "output_type": "display_data"
    },
    {
     "data": {
      "application/vnd.jupyter.widget-view+json": {
       "model_id": "808142137e4746a9b7003156a11e4daf",
       "version_major": 2,
       "version_minor": 0
      },
      "text/plain": [
       "[collect input data: eval_policy]:   0%|          | 0/2 [00:00<?, ?it/s]"
      ]
     },
     "metadata": {},
     "output_type": "display_data"
    },
    {
     "data": {
      "application/vnd.jupyter.widget-view+json": {
       "model_id": "ba87db2887374816a709cf5d50efed5d",
       "version_major": 2,
       "version_minor": 0
      },
      "text/plain": [
       "[calculate on-policy policy value]:   0%|          | 0/100 [00:00<?, ?it/s]"
      ]
     },
     "metadata": {},
     "output_type": "display_data"
    },
    {
     "data": {
      "application/vnd.jupyter.widget-view+json": {
       "model_id": "82cd9b52e7084c6b93eae110447aee38",
       "version_major": 2,
       "version_minor": 0
      },
      "text/plain": [
       "[calculate on-policy policy value]:   0%|          | 0/100 [00:00<?, ?it/s]"
      ]
     },
     "metadata": {},
     "output_type": "display_data"
    },
    {
     "data": {
      "application/vnd.jupyter.widget-view+json": {
       "model_id": "ffec9cc1b76f4d579635fbe5c26cf5a2",
       "version_major": 2,
       "version_minor": 0
      },
      "text/plain": [
       "[obtain_trajectories]:   0%|          | 0/200 [00:00<?, ?it/s]"
      ]
     },
     "metadata": {},
     "output_type": "display_data"
    },
    {
     "data": {
      "application/vnd.jupyter.widget-view+json": {
       "model_id": "39bbee7af04848afa07b1e5d9b0c4b87",
       "version_major": 2,
       "version_minor": 0
      },
      "text/plain": [
       "[obtain_trajectories]:   0%|          | 0/200 [00:00<?, ?it/s]"
      ]
     },
     "metadata": {},
     "output_type": "display_data"
    },
    {
     "name": "stdout",
     "output_type": "stream",
     "text": [
      "2023-03-16 10:45.49 [debug    ] RandomIterator is selected.\n",
      "2023-03-16 10:45.49 [info     ] Directory is created at d3rlpy_logs/CQL_20230316104549\n",
      "2023-03-16 10:45.49 [debug    ] Fitting action scaler...       action_scaler=min_max\n",
      "2023-03-16 10:45.49 [debug    ] Building models...\n",
      "2023-03-16 10:45.49 [debug    ] Models have been built.\n",
      "2023-03-16 10:45.49 [info     ] Parameters are saved to d3rlpy_logs/CQL_20230316104549/params.json params={'action_scaler': {'type': 'min_max', 'params': {'minimum': array([0.1]), 'maximum': array([10.])}}, 'actor_encoder_factory': {'type': 'vector', 'params': {'hidden_units': [30, 30], 'activation': 'relu', 'use_batch_norm': False, 'dropout_rate': None, 'use_dense': False}}, 'actor_learning_rate': 0.0001, 'actor_optim_factory': {'optim_cls': 'Adam', 'betas': (0.9, 0.999), 'eps': 1e-08, 'weight_decay': 0, 'amsgrad': False}, 'alpha_learning_rate': 0.0001, 'alpha_optim_factory': {'optim_cls': 'Adam', 'betas': (0.9, 0.999), 'eps': 1e-08, 'weight_decay': 0, 'amsgrad': False}, 'alpha_threshold': 10.0, 'batch_size': 256, 'conservative_weight': 5.0, 'critic_encoder_factory': {'type': 'vector', 'params': {'hidden_units': [30, 30], 'activation': 'relu', 'use_batch_norm': False, 'dropout_rate': None, 'use_dense': False}}, 'critic_learning_rate': 0.0003, 'critic_optim_factory': {'optim_cls': 'Adam', 'betas': (0.9, 0.999), 'eps': 1e-08, 'weight_decay': 0, 'amsgrad': False}, 'gamma': 0.99, 'generated_maxlen': 100000, 'initial_alpha': 1.0, 'initial_temperature': 1.0, 'n_action_samples': 10, 'n_critics': 2, 'n_frames': 1, 'n_steps': 1, 'q_func_factory': {'type': 'mean', 'params': {'share_encoder': False}}, 'real_ratio': 1.0, 'reward_scaler': None, 'scaler': None, 'soft_q_backup': False, 'tau': 0.005, 'temp_learning_rate': 0.0001, 'temp_optim_factory': {'optim_cls': 'Adam', 'betas': (0.9, 0.999), 'eps': 1e-08, 'weight_decay': 0, 'amsgrad': False}, 'use_gpu': None, 'algorithm': 'CQL', 'observation_shape': (7,), 'action_size': 1}\n"
     ]
    },
    {
     "data": {
      "application/vnd.jupyter.widget-view+json": {
       "model_id": "44d06854732f424a86930e55d87ac431",
       "version_major": 2,
       "version_minor": 0
      },
      "text/plain": [
       "Epoch 1/1:   0%|          | 0/10000 [00:00<?, ?it/s]"
      ]
     },
     "metadata": {},
     "output_type": "display_data"
    },
    {
     "name": "stdout",
     "output_type": "stream",
     "text": [
      "2023-03-16 10:48.47 [info     ] CQL_20230316104549: epoch=1 step=10000 epoch=1 metrics={'time_sample_batch': 0.0005295560836791992, 'time_algorithm_update': 0.016722688817977904, 'temp_loss': 0.4690103839047253, 'temp': 0.8405577267885208, 'alpha_loss': -15.4744883456707, 'alpha': 1.7796552872419358, 'critic_loss': 92.3705888882637, 'actor_loss': -6.649103385007382, 'time_step': 0.017723668718338012} step=10000\n",
      "2023-03-16 10:48.47 [info     ] Model parameters are saved to d3rlpy_logs/CQL_20230316104549/model_10000.pt\n"
     ]
    },
    {
     "data": {
      "application/vnd.jupyter.widget-view+json": {
       "model_id": "2b346d6551d942729781b3e831f598c3",
       "version_major": 2,
       "version_minor": 0
      },
      "text/plain": [
       "[fit FQE model]:   0%|          | 0/2 [00:00<?, ?it/s]"
      ]
     },
     "metadata": {},
     "output_type": "display_data"
    },
    {
     "name": "stdout",
     "output_type": "stream",
     "text": [
      "2023-03-16 10:48.47 [debug    ] RoundIterator is selected.\n",
      "2023-03-16 10:48.47 [info     ] Directory is created at d3rlpy_logs/FQE_20230316104847\n",
      "2023-03-16 10:48.47 [debug    ] Fitting scaler...              scaler=min_max\n",
      "2023-03-16 10:48.47 [debug    ] Fitting action scaler...       action_scaler=min_max\n",
      "2023-03-16 10:48.47 [debug    ] Building models...\n",
      "2023-03-16 10:48.47 [debug    ] Models have been built.\n",
      "2023-03-16 10:48.47 [info     ] Parameters are saved to d3rlpy_logs/FQE_20230316104847/params.json params={'action_scaler': {'type': 'min_max', 'params': {'minimum': array([0.1]), 'maximum': array([10.])}}, 'batch_size': 100, 'encoder_factory': {'type': 'vector', 'params': {'hidden_units': [30, 30], 'activation': 'relu', 'use_batch_norm': False, 'dropout_rate': None, 'use_dense': False}}, 'gamma': 0.95, 'generated_maxlen': 100000, 'learning_rate': 0.0001, 'n_critics': 1, 'n_frames': 1, 'n_steps': 1, 'optim_factory': {'optim_cls': 'Adam', 'betas': (0.9, 0.999), 'eps': 1e-08, 'weight_decay': 0, 'amsgrad': False}, 'q_func_factory': {'type': 'mean', 'params': {'share_encoder': False}}, 'real_ratio': 1.0, 'reward_scaler': None, 'scaler': {'type': 'min_max', 'params': {'maximum': array([6.00000000e+00, 3.00000000e+03, 9.98808105e-01, 4.45000000e+04,\n",
      "       1.00000000e+00, 1.80000000e+01, 9.82615204e+00]), 'minimum': array([0.       , 1.       , 0.       , 0.       , 0.       , 0.       ,\n",
      "       0.0109585])}}, 'target_update_interval': 100, 'use_gpu': None, 'algorithm': 'FQE', 'observation_shape': (7,), 'action_size': 1}\n"
     ]
    },
    {
     "data": {
      "application/vnd.jupyter.widget-view+json": {
       "model_id": "26af9b38c7f6478bb7cde2f442a7889a",
       "version_major": 2,
       "version_minor": 0
      },
      "text/plain": [
       "Epoch 1/1:   0%|          | 0/14 [00:00<?, ?it/s]"
      ]
     },
     "metadata": {},
     "output_type": "display_data"
    },
    {
     "name": "stdout",
     "output_type": "stream",
     "text": [
      "2023-03-16 10:48.47 [info     ] FQE_20230316104847: epoch=1 step=14 epoch=1 metrics={'time_sample_batch': 9.0616089957101e-05, 'time_algorithm_update': 0.001331193106515067, 'loss': 14.720105511801583, 'time_step': 0.001483116831098284} step=14\n",
      "2023-03-16 10:48.47 [info     ] Model parameters are saved to d3rlpy_logs/FQE_20230316104847/model_14.pt\n",
      "2023-03-16 10:48.47 [debug    ] RoundIterator is selected.\n",
      "2023-03-16 10:48.48 [info     ] Directory is created at d3rlpy_logs/FQE_20230316104848\n",
      "2023-03-16 10:48.48 [debug    ] Fitting scaler...              scaler=min_max\n",
      "2023-03-16 10:48.48 [debug    ] Fitting action scaler...       action_scaler=min_max\n",
      "2023-03-16 10:48.48 [debug    ] Building models...\n",
      "2023-03-16 10:48.48 [debug    ] Models have been built.\n",
      "2023-03-16 10:48.48 [info     ] Parameters are saved to d3rlpy_logs/FQE_20230316104848/params.json params={'action_scaler': {'type': 'min_max', 'params': {'minimum': array([0.1]), 'maximum': array([10.])}}, 'batch_size': 100, 'encoder_factory': {'type': 'vector', 'params': {'hidden_units': [30, 30], 'activation': 'relu', 'use_batch_norm': False, 'dropout_rate': None, 'use_dense': False}}, 'gamma': 0.95, 'generated_maxlen': 100000, 'learning_rate': 0.0001, 'n_critics': 1, 'n_frames': 1, 'n_steps': 1, 'optim_factory': {'optim_cls': 'Adam', 'betas': (0.9, 0.999), 'eps': 1e-08, 'weight_decay': 0, 'amsgrad': False}, 'q_func_factory': {'type': 'mean', 'params': {'share_encoder': False}}, 'real_ratio': 1.0, 'reward_scaler': None, 'scaler': {'type': 'min_max', 'params': {'maximum': array([6.00000000e+00, 3.00000000e+03, 9.98808105e-01, 4.45000000e+04,\n",
      "       1.00000000e+00, 1.80000000e+01, 9.82615204e+00]), 'minimum': array([0.       , 1.       , 0.       , 0.       , 0.       , 0.       ,\n",
      "       0.0109585])}}, 'target_update_interval': 100, 'use_gpu': None, 'algorithm': 'FQE', 'observation_shape': (7,), 'action_size': 1}\n"
     ]
    },
    {
     "data": {
      "application/vnd.jupyter.widget-view+json": {
       "model_id": "e93e3c4c0eff4960bce536836ff52ac9",
       "version_major": 2,
       "version_minor": 0
      },
      "text/plain": [
       "Epoch 1/1:   0%|          | 0/14 [00:00<?, ?it/s]"
      ]
     },
     "metadata": {},
     "output_type": "display_data"
    },
    {
     "name": "stdout",
     "output_type": "stream",
     "text": [
      "2023-03-16 10:48.48 [info     ] FQE_20230316104848: epoch=1 step=14 epoch=1 metrics={'time_sample_batch': 9.650843484061105e-05, 'time_algorithm_update': 0.0013821635927472795, 'loss': 14.662768772670201, 'time_step': 0.0015383788517543248} step=14\n",
      "2023-03-16 10:48.48 [info     ] Model parameters are saved to d3rlpy_logs/FQE_20230316104848/model_14.pt\n"
     ]
    },
    {
     "data": {
      "application/vnd.jupyter.widget-view+json": {
       "model_id": "76aa785643ce488e9d2cae81f16df008",
       "version_major": 2,
       "version_minor": 0
      },
      "text/plain": [
       "[fit MWL model]:   0%|          | 0/2 [00:00<?, ?it/s]"
      ]
     },
     "metadata": {},
     "output_type": "display_data"
    },
    {
     "data": {
      "application/vnd.jupyter.widget-view+json": {
       "model_id": "34a72798621e49988b9c1c611ae56185",
       "version_major": 2,
       "version_minor": 0
      },
      "text/plain": [
       "[fitting_weight_function]:   0%|          | 0/100 [00:00<?, ?it/s]"
      ]
     },
     "metadata": {},
     "output_type": "display_data"
    },
    {
     "data": {
      "application/vnd.jupyter.widget-view+json": {
       "model_id": "5d493f0d7fbd45d7ae25ca6a77349a11",
       "version_major": 2,
       "version_minor": 0
      },
      "text/plain": [
       "[fitting_weight_function]:   0%|          | 0/100 [00:00<?, ?it/s]"
      ]
     },
     "metadata": {},
     "output_type": "display_data"
    },
    {
     "data": {
      "application/vnd.jupyter.widget-view+json": {
       "model_id": "8f265103b6834bd0ab1a9f2173f60e73",
       "version_major": 2,
       "version_minor": 0
      },
      "text/plain": [
       "[fitting_weight_function]:   0%|          | 0/100 [00:00<?, ?it/s]"
      ]
     },
     "metadata": {},
     "output_type": "display_data"
    },
    {
     "data": {
      "application/vnd.jupyter.widget-view+json": {
       "model_id": "2f2abcdbc9fd429686c485ea28101d22",
       "version_major": 2,
       "version_minor": 0
      },
      "text/plain": [
       "[fitting_weight_function]:   0%|          | 0/100 [00:00<?, ?it/s]"
      ]
     },
     "metadata": {},
     "output_type": "display_data"
    },
    {
     "data": {
      "application/vnd.jupyter.widget-view+json": {
       "model_id": "7e8200abb6a340839b7a25c894a3c170",
       "version_major": 2,
       "version_minor": 0
      },
      "text/plain": [
       "[collect input data: eval_policy]:   0%|          | 0/2 [00:00<?, ?it/s]"
      ]
     },
     "metadata": {},
     "output_type": "display_data"
    },
    {
     "data": {
      "application/vnd.jupyter.widget-view+json": {
       "model_id": "a785b350b71e4ea3bc6902ed68e952ab",
       "version_major": 2,
       "version_minor": 0
      },
      "text/plain": [
       "[calculate on-policy policy value]:   0%|          | 0/100 [00:00<?, ?it/s]"
      ]
     },
     "metadata": {},
     "output_type": "display_data"
    },
    {
     "data": {
      "application/vnd.jupyter.widget-view+json": {
       "model_id": "41909c8530b64ba4baba963f4daceb82",
       "version_major": 2,
       "version_minor": 0
      },
      "text/plain": [
       "[calculate on-policy policy value]:   0%|          | 0/100 [00:00<?, ?it/s]"
      ]
     },
     "metadata": {},
     "output_type": "display_data"
    },
    {
     "data": {
      "application/vnd.jupyter.widget-view+json": {
       "model_id": "32be2c40680e4a8fa69dcd4869f7cee2",
       "version_major": 2,
       "version_minor": 0
      },
      "text/plain": [
       "[obtain_trajectories]:   0%|          | 0/400 [00:00<?, ?it/s]"
      ]
     },
     "metadata": {},
     "output_type": "display_data"
    },
    {
     "data": {
      "application/vnd.jupyter.widget-view+json": {
       "model_id": "9f6504a3c16b4417a6eac53392a02c88",
       "version_major": 2,
       "version_minor": 0
      },
      "text/plain": [
       "[obtain_trajectories]:   0%|          | 0/400 [00:00<?, ?it/s]"
      ]
     },
     "metadata": {},
     "output_type": "display_data"
    },
    {
     "name": "stdout",
     "output_type": "stream",
     "text": [
      "2023-03-16 10:49.32 [debug    ] RandomIterator is selected.\n",
      "2023-03-16 10:49.32 [info     ] Directory is created at d3rlpy_logs/CQL_20230316104932\n",
      "2023-03-16 10:49.32 [debug    ] Fitting action scaler...       action_scaler=min_max\n",
      "2023-03-16 10:49.32 [debug    ] Building models...\n",
      "2023-03-16 10:49.32 [debug    ] Models have been built.\n",
      "2023-03-16 10:49.32 [info     ] Parameters are saved to d3rlpy_logs/CQL_20230316104932/params.json params={'action_scaler': {'type': 'min_max', 'params': {'minimum': array([0.1]), 'maximum': array([10.])}}, 'actor_encoder_factory': {'type': 'vector', 'params': {'hidden_units': [30, 30], 'activation': 'relu', 'use_batch_norm': False, 'dropout_rate': None, 'use_dense': False}}, 'actor_learning_rate': 0.0001, 'actor_optim_factory': {'optim_cls': 'Adam', 'betas': (0.9, 0.999), 'eps': 1e-08, 'weight_decay': 0, 'amsgrad': False}, 'alpha_learning_rate': 0.0001, 'alpha_optim_factory': {'optim_cls': 'Adam', 'betas': (0.9, 0.999), 'eps': 1e-08, 'weight_decay': 0, 'amsgrad': False}, 'alpha_threshold': 10.0, 'batch_size': 256, 'conservative_weight': 5.0, 'critic_encoder_factory': {'type': 'vector', 'params': {'hidden_units': [30, 30], 'activation': 'relu', 'use_batch_norm': False, 'dropout_rate': None, 'use_dense': False}}, 'critic_learning_rate': 0.0003, 'critic_optim_factory': {'optim_cls': 'Adam', 'betas': (0.9, 0.999), 'eps': 1e-08, 'weight_decay': 0, 'amsgrad': False}, 'gamma': 0.99, 'generated_maxlen': 100000, 'initial_alpha': 1.0, 'initial_temperature': 1.0, 'n_action_samples': 10, 'n_critics': 2, 'n_frames': 1, 'n_steps': 1, 'q_func_factory': {'type': 'mean', 'params': {'share_encoder': False}}, 'real_ratio': 1.0, 'reward_scaler': None, 'scaler': None, 'soft_q_backup': False, 'tau': 0.005, 'temp_learning_rate': 0.0001, 'temp_optim_factory': {'optim_cls': 'Adam', 'betas': (0.9, 0.999), 'eps': 1e-08, 'weight_decay': 0, 'amsgrad': False}, 'use_gpu': None, 'algorithm': 'CQL', 'observation_shape': (7,), 'action_size': 1}\n"
     ]
    },
    {
     "data": {
      "application/vnd.jupyter.widget-view+json": {
       "model_id": "9f709e5b61774e5d9f7c60609749abf2",
       "version_major": 2,
       "version_minor": 0
      },
      "text/plain": [
       "Epoch 1/1:   0%|          | 0/10000 [00:00<?, ?it/s]"
      ]
     },
     "metadata": {},
     "output_type": "display_data"
    },
    {
     "name": "stdout",
     "output_type": "stream",
     "text": [
      "2023-03-16 10:52.22 [info     ] CQL_20230316104932: epoch=1 step=10000 epoch=1 metrics={'time_sample_batch': 0.0005247389554977417, 'time_algorithm_update': 0.015885298037528993, 'temp_loss': -0.6524333484746516, 'temp': 0.9354326214432717, 'alpha_loss': -15.478385790348053, 'alpha': 1.7966839158773422, 'critic_loss': 89.51541720619201, 'actor_loss': -2.1099334885573016, 'time_step': 0.016857318568229675} step=10000\n",
      "2023-03-16 10:52.22 [info     ] Model parameters are saved to d3rlpy_logs/CQL_20230316104932/model_10000.pt\n"
     ]
    },
    {
     "data": {
      "application/vnd.jupyter.widget-view+json": {
       "model_id": "162aabf8cc8a41a595645cccf751b15d",
       "version_major": 2,
       "version_minor": 0
      },
      "text/plain": [
       "[fit FQE model]:   0%|          | 0/2 [00:00<?, ?it/s]"
      ]
     },
     "metadata": {},
     "output_type": "display_data"
    },
    {
     "name": "stdout",
     "output_type": "stream",
     "text": [
      "2023-03-16 10:52.22 [debug    ] RoundIterator is selected.\n",
      "2023-03-16 10:52.22 [info     ] Directory is created at d3rlpy_logs/FQE_20230316105222\n",
      "2023-03-16 10:52.22 [debug    ] Fitting scaler...              scaler=min_max\n",
      "2023-03-16 10:52.22 [debug    ] Fitting action scaler...       action_scaler=min_max\n",
      "2023-03-16 10:52.22 [debug    ] Building models...\n",
      "2023-03-16 10:52.22 [debug    ] Models have been built.\n",
      "2023-03-16 10:52.22 [info     ] Parameters are saved to d3rlpy_logs/FQE_20230316105222/params.json params={'action_scaler': {'type': 'min_max', 'params': {'minimum': array([0.1]), 'maximum': array([10.])}}, 'batch_size': 100, 'encoder_factory': {'type': 'vector', 'params': {'hidden_units': [30, 30], 'activation': 'relu', 'use_batch_norm': False, 'dropout_rate': None, 'use_dense': False}}, 'gamma': 0.95, 'generated_maxlen': 100000, 'learning_rate': 0.0001, 'n_critics': 1, 'n_frames': 1, 'n_steps': 1, 'optim_factory': {'optim_cls': 'Adam', 'betas': (0.9, 0.999), 'eps': 1e-08, 'weight_decay': 0, 'amsgrad': False}, 'q_func_factory': {'type': 'mean', 'params': {'share_encoder': False}}, 'real_ratio': 1.0, 'reward_scaler': None, 'scaler': {'type': 'min_max', 'params': {'maximum': array([6.00000000e+00, 3.00000000e+03, 9.99185150e-01, 4.30000000e+04,\n",
      "       1.00000000e+00, 2.00000000e+01, 9.93316632e+00]), 'minimum': array([0.        , 1.        , 0.        , 0.        , 0.        ,\n",
      "       0.        , 0.00118874])}}, 'target_update_interval': 100, 'use_gpu': None, 'algorithm': 'FQE', 'observation_shape': (7,), 'action_size': 1}\n"
     ]
    },
    {
     "data": {
      "application/vnd.jupyter.widget-view+json": {
       "model_id": "bc23a004a9df464094e4bb7df0f83d78",
       "version_major": 2,
       "version_minor": 0
      },
      "text/plain": [
       "Epoch 1/1:   0%|          | 0/28 [00:00<?, ?it/s]"
      ]
     },
     "metadata": {},
     "output_type": "display_data"
    },
    {
     "name": "stdout",
     "output_type": "stream",
     "text": [
      "2023-03-16 10:52.22 [info     ] FQE_20230316105222: epoch=1 step=28 epoch=1 metrics={'time_sample_batch': 8.006606783185686e-05, 'time_algorithm_update': 0.0010245357240949357, 'loss': 14.248234101704188, 'time_step': 0.0011438471930367605} step=28\n",
      "2023-03-16 10:52.22 [info     ] Model parameters are saved to d3rlpy_logs/FQE_20230316105222/model_28.pt\n",
      "2023-03-16 10:52.22 [debug    ] RoundIterator is selected.\n",
      "2023-03-16 10:52.23 [info     ] Directory is created at d3rlpy_logs/FQE_20230316105223\n",
      "2023-03-16 10:52.23 [debug    ] Fitting scaler...              scaler=min_max\n",
      "2023-03-16 10:52.23 [debug    ] Fitting action scaler...       action_scaler=min_max\n",
      "2023-03-16 10:52.23 [debug    ] Building models...\n",
      "2023-03-16 10:52.23 [debug    ] Models have been built.\n",
      "2023-03-16 10:52.23 [info     ] Parameters are saved to d3rlpy_logs/FQE_20230316105223/params.json params={'action_scaler': {'type': 'min_max', 'params': {'minimum': array([0.1]), 'maximum': array([10.])}}, 'batch_size': 100, 'encoder_factory': {'type': 'vector', 'params': {'hidden_units': [30, 30], 'activation': 'relu', 'use_batch_norm': False, 'dropout_rate': None, 'use_dense': False}}, 'gamma': 0.95, 'generated_maxlen': 100000, 'learning_rate': 0.0001, 'n_critics': 1, 'n_frames': 1, 'n_steps': 1, 'optim_factory': {'optim_cls': 'Adam', 'betas': (0.9, 0.999), 'eps': 1e-08, 'weight_decay': 0, 'amsgrad': False}, 'q_func_factory': {'type': 'mean', 'params': {'share_encoder': False}}, 'real_ratio': 1.0, 'reward_scaler': None, 'scaler': {'type': 'min_max', 'params': {'maximum': array([6.00000000e+00, 3.00000000e+03, 9.99185150e-01, 4.30000000e+04,\n",
      "       1.00000000e+00, 2.00000000e+01, 9.93316632e+00]), 'minimum': array([0.        , 1.        , 0.        , 0.        , 0.        ,\n",
      "       0.        , 0.00118874])}}, 'target_update_interval': 100, 'use_gpu': None, 'algorithm': 'FQE', 'observation_shape': (7,), 'action_size': 1}\n"
     ]
    },
    {
     "data": {
      "application/vnd.jupyter.widget-view+json": {
       "model_id": "af0f22ec724d452ab7a777010d94a4ac",
       "version_major": 2,
       "version_minor": 0
      },
      "text/plain": [
       "Epoch 1/1:   0%|          | 0/28 [00:00<?, ?it/s]"
      ]
     },
     "metadata": {},
     "output_type": "display_data"
    },
    {
     "name": "stdout",
     "output_type": "stream",
     "text": [
      "2023-03-16 10:52.23 [info     ] FQE_20230316105223: epoch=1 step=28 epoch=1 metrics={'time_sample_batch': 8.391482489449637e-05, 'time_algorithm_update': 0.0011573519025530135, 'loss': 13.74879012789045, 'time_step': 0.0012836456298828125} step=28\n",
      "2023-03-16 10:52.23 [info     ] Model parameters are saved to d3rlpy_logs/FQE_20230316105223/model_28.pt\n"
     ]
    },
    {
     "data": {
      "application/vnd.jupyter.widget-view+json": {
       "model_id": "9b4b390d934b440ca69c4b2afa8ae485",
       "version_major": 2,
       "version_minor": 0
      },
      "text/plain": [
       "[fit MWL model]:   0%|          | 0/2 [00:00<?, ?it/s]"
      ]
     },
     "metadata": {},
     "output_type": "display_data"
    },
    {
     "data": {
      "application/vnd.jupyter.widget-view+json": {
       "model_id": "f855e88e2c03411f9295951e1198c8ed",
       "version_major": 2,
       "version_minor": 0
      },
      "text/plain": [
       "[fitting_weight_function]:   0%|          | 0/100 [00:00<?, ?it/s]"
      ]
     },
     "metadata": {},
     "output_type": "display_data"
    },
    {
     "data": {
      "application/vnd.jupyter.widget-view+json": {
       "model_id": "52b94f5cd8ca4bec957bdc5a9b0913eb",
       "version_major": 2,
       "version_minor": 0
      },
      "text/plain": [
       "[fitting_weight_function]:   0%|          | 0/100 [00:00<?, ?it/s]"
      ]
     },
     "metadata": {},
     "output_type": "display_data"
    },
    {
     "data": {
      "application/vnd.jupyter.widget-view+json": {
       "model_id": "27bb0ebb702d4ef8b413896f5a81a75c",
       "version_major": 2,
       "version_minor": 0
      },
      "text/plain": [
       "[fitting_weight_function]:   0%|          | 0/100 [00:00<?, ?it/s]"
      ]
     },
     "metadata": {},
     "output_type": "display_data"
    },
    {
     "data": {
      "application/vnd.jupyter.widget-view+json": {
       "model_id": "32664e0385c54df9b3ee740778c89f02",
       "version_major": 2,
       "version_minor": 0
      },
      "text/plain": [
       "[fitting_weight_function]:   0%|          | 0/100 [00:00<?, ?it/s]"
      ]
     },
     "metadata": {},
     "output_type": "display_data"
    },
    {
     "data": {
      "application/vnd.jupyter.widget-view+json": {
       "model_id": "e73e182a61cf4bec8ec9b302d7692c5c",
       "version_major": 2,
       "version_minor": 0
      },
      "text/plain": [
       "[collect input data: eval_policy]:   0%|          | 0/2 [00:00<?, ?it/s]"
      ]
     },
     "metadata": {},
     "output_type": "display_data"
    },
    {
     "data": {
      "application/vnd.jupyter.widget-view+json": {
       "model_id": "ece8d57e179f4447a24c37d809d022cf",
       "version_major": 2,
       "version_minor": 0
      },
      "text/plain": [
       "[calculate on-policy policy value]:   0%|          | 0/100 [00:00<?, ?it/s]"
      ]
     },
     "metadata": {},
     "output_type": "display_data"
    },
    {
     "data": {
      "application/vnd.jupyter.widget-view+json": {
       "model_id": "3028d356c61344a2afa7e57e48b6ee15",
       "version_major": 2,
       "version_minor": 0
      },
      "text/plain": [
       "[calculate on-policy policy value]:   0%|          | 0/100 [00:00<?, ?it/s]"
      ]
     },
     "metadata": {},
     "output_type": "display_data"
    },
    {
     "data": {
      "application/vnd.jupyter.widget-view+json": {
       "model_id": "c1db509937444c07b0c4ea33157e11e1",
       "version_major": 2,
       "version_minor": 0
      },
      "text/plain": [
       "[obtain_trajectories]:   0%|          | 0/400 [00:00<?, ?it/s]"
      ]
     },
     "metadata": {},
     "output_type": "display_data"
    },
    {
     "data": {
      "application/vnd.jupyter.widget-view+json": {
       "model_id": "1f16ee63b8e945d48edf0660982f1457",
       "version_major": 2,
       "version_minor": 0
      },
      "text/plain": [
       "[obtain_trajectories]:   0%|          | 0/400 [00:00<?, ?it/s]"
      ]
     },
     "metadata": {},
     "output_type": "display_data"
    },
    {
     "name": "stdout",
     "output_type": "stream",
     "text": [
      "2023-03-16 10:53.07 [debug    ] RandomIterator is selected.\n",
      "2023-03-16 10:53.07 [info     ] Directory is created at d3rlpy_logs/CQL_20230316105307\n",
      "2023-03-16 10:53.07 [debug    ] Fitting action scaler...       action_scaler=min_max\n",
      "2023-03-16 10:53.07 [debug    ] Building models...\n",
      "2023-03-16 10:53.07 [debug    ] Models have been built.\n",
      "2023-03-16 10:53.07 [info     ] Parameters are saved to d3rlpy_logs/CQL_20230316105307/params.json params={'action_scaler': {'type': 'min_max', 'params': {'minimum': array([0.1]), 'maximum': array([10.])}}, 'actor_encoder_factory': {'type': 'vector', 'params': {'hidden_units': [30, 30], 'activation': 'relu', 'use_batch_norm': False, 'dropout_rate': None, 'use_dense': False}}, 'actor_learning_rate': 0.0001, 'actor_optim_factory': {'optim_cls': 'Adam', 'betas': (0.9, 0.999), 'eps': 1e-08, 'weight_decay': 0, 'amsgrad': False}, 'alpha_learning_rate': 0.0001, 'alpha_optim_factory': {'optim_cls': 'Adam', 'betas': (0.9, 0.999), 'eps': 1e-08, 'weight_decay': 0, 'amsgrad': False}, 'alpha_threshold': 10.0, 'batch_size': 256, 'conservative_weight': 5.0, 'critic_encoder_factory': {'type': 'vector', 'params': {'hidden_units': [30, 30], 'activation': 'relu', 'use_batch_norm': False, 'dropout_rate': None, 'use_dense': False}}, 'critic_learning_rate': 0.0003, 'critic_optim_factory': {'optim_cls': 'Adam', 'betas': (0.9, 0.999), 'eps': 1e-08, 'weight_decay': 0, 'amsgrad': False}, 'gamma': 0.99, 'generated_maxlen': 100000, 'initial_alpha': 1.0, 'initial_temperature': 1.0, 'n_action_samples': 10, 'n_critics': 2, 'n_frames': 1, 'n_steps': 1, 'q_func_factory': {'type': 'mean', 'params': {'share_encoder': False}}, 'real_ratio': 1.0, 'reward_scaler': None, 'scaler': None, 'soft_q_backup': False, 'tau': 0.005, 'temp_learning_rate': 0.0001, 'temp_optim_factory': {'optim_cls': 'Adam', 'betas': (0.9, 0.999), 'eps': 1e-08, 'weight_decay': 0, 'amsgrad': False}, 'use_gpu': None, 'algorithm': 'CQL', 'observation_shape': (7,), 'action_size': 1}\n"
     ]
    },
    {
     "data": {
      "application/vnd.jupyter.widget-view+json": {
       "model_id": "08de00af263d46589d6b340e951052d3",
       "version_major": 2,
       "version_minor": 0
      },
      "text/plain": [
       "Epoch 1/1:   0%|          | 0/10000 [00:00<?, ?it/s]"
      ]
     },
     "metadata": {},
     "output_type": "display_data"
    },
    {
     "name": "stdout",
     "output_type": "stream",
     "text": [
      "2023-03-16 10:55.57 [info     ] CQL_20230316105307: epoch=1 step=10000 epoch=1 metrics={'time_sample_batch': 0.000526470422744751, 'time_algorithm_update': 0.01594503288269043, 'temp_loss': -5.7659594553112985, 'temp': 1.4252958169579506, 'alpha_loss': -15.552424076223373, 'alpha': 1.8216371374249458, 'critic_loss': 64.4540670015335, 'actor_loss': 5.818682313740068, 'time_step': 0.016921685695648194} step=10000\n",
      "2023-03-16 10:55.57 [info     ] Model parameters are saved to d3rlpy_logs/CQL_20230316105307/model_10000.pt\n"
     ]
    },
    {
     "data": {
      "application/vnd.jupyter.widget-view+json": {
       "model_id": "cf2e0be6973c453aa037c1ba945f8840",
       "version_major": 2,
       "version_minor": 0
      },
      "text/plain": [
       "[fit FQE model]:   0%|          | 0/2 [00:00<?, ?it/s]"
      ]
     },
     "metadata": {},
     "output_type": "display_data"
    },
    {
     "name": "stdout",
     "output_type": "stream",
     "text": [
      "2023-03-16 10:55.57 [debug    ] RoundIterator is selected.\n",
      "2023-03-16 10:55.57 [info     ] Directory is created at d3rlpy_logs/FQE_20230316105557\n",
      "2023-03-16 10:55.57 [debug    ] Fitting scaler...              scaler=min_max\n",
      "2023-03-16 10:55.57 [debug    ] Fitting action scaler...       action_scaler=min_max\n",
      "2023-03-16 10:55.57 [debug    ] Building models...\n",
      "2023-03-16 10:55.57 [debug    ] Models have been built.\n",
      "2023-03-16 10:55.57 [info     ] Parameters are saved to d3rlpy_logs/FQE_20230316105557/params.json params={'action_scaler': {'type': 'min_max', 'params': {'minimum': array([0.1]), 'maximum': array([10.])}}, 'batch_size': 100, 'encoder_factory': {'type': 'vector', 'params': {'hidden_units': [30, 30], 'activation': 'relu', 'use_batch_norm': False, 'dropout_rate': None, 'use_dense': False}}, 'gamma': 0.95, 'generated_maxlen': 100000, 'learning_rate': 0.0001, 'n_critics': 1, 'n_frames': 1, 'n_steps': 1, 'optim_factory': {'optim_cls': 'Adam', 'betas': (0.9, 0.999), 'eps': 1e-08, 'weight_decay': 0, 'amsgrad': False}, 'q_func_factory': {'type': 'mean', 'params': {'share_encoder': False}}, 'real_ratio': 1.0, 'reward_scaler': None, 'scaler': {'type': 'min_max', 'params': {'maximum': array([6.00000000e+00, 3.00000000e+03, 9.99844840e-01, 4.30000000e+04,\n",
      "       1.00000000e+00, 1.70000000e+01, 9.96578937e+00]), 'minimum': array([0.0000000e+00, 1.0000000e+00, 0.0000000e+00, 0.0000000e+00,\n",
      "       0.0000000e+00, 0.0000000e+00, 4.5847468e-04])}}, 'target_update_interval': 100, 'use_gpu': None, 'algorithm': 'FQE', 'observation_shape': (7,), 'action_size': 1}\n"
     ]
    },
    {
     "data": {
      "application/vnd.jupyter.widget-view+json": {
       "model_id": "c35dceac3b4c46a89d07cb14755bca40",
       "version_major": 2,
       "version_minor": 0
      },
      "text/plain": [
       "Epoch 1/1:   0%|          | 0/28 [00:00<?, ?it/s]"
      ]
     },
     "metadata": {},
     "output_type": "display_data"
    },
    {
     "name": "stdout",
     "output_type": "stream",
     "text": [
      "2023-03-16 10:55.57 [info     ] FQE_20230316105557: epoch=1 step=28 epoch=1 metrics={'time_sample_batch': 0.00011196306773594447, 'time_algorithm_update': 0.0017976249967302596, 'loss': 14.016262395041329, 'time_step': 0.0019805431365966797} step=28\n",
      "2023-03-16 10:55.57 [info     ] Model parameters are saved to d3rlpy_logs/FQE_20230316105557/model_28.pt\n",
      "2023-03-16 10:55.57 [debug    ] RoundIterator is selected.\n",
      "2023-03-16 10:55.58 [info     ] Directory is created at d3rlpy_logs/FQE_20230316105558\n",
      "2023-03-16 10:55.58 [debug    ] Fitting scaler...              scaler=min_max\n",
      "2023-03-16 10:55.58 [debug    ] Fitting action scaler...       action_scaler=min_max\n",
      "2023-03-16 10:55.58 [debug    ] Building models...\n",
      "2023-03-16 10:55.58 [debug    ] Models have been built.\n",
      "2023-03-16 10:55.58 [info     ] Parameters are saved to d3rlpy_logs/FQE_20230316105558/params.json params={'action_scaler': {'type': 'min_max', 'params': {'minimum': array([0.1]), 'maximum': array([10.])}}, 'batch_size': 100, 'encoder_factory': {'type': 'vector', 'params': {'hidden_units': [30, 30], 'activation': 'relu', 'use_batch_norm': False, 'dropout_rate': None, 'use_dense': False}}, 'gamma': 0.95, 'generated_maxlen': 100000, 'learning_rate': 0.0001, 'n_critics': 1, 'n_frames': 1, 'n_steps': 1, 'optim_factory': {'optim_cls': 'Adam', 'betas': (0.9, 0.999), 'eps': 1e-08, 'weight_decay': 0, 'amsgrad': False}, 'q_func_factory': {'type': 'mean', 'params': {'share_encoder': False}}, 'real_ratio': 1.0, 'reward_scaler': None, 'scaler': {'type': 'min_max', 'params': {'maximum': array([6.00000000e+00, 3.00000000e+03, 9.99844840e-01, 4.30000000e+04,\n",
      "       1.00000000e+00, 1.70000000e+01, 9.96578937e+00]), 'minimum': array([0.0000000e+00, 1.0000000e+00, 0.0000000e+00, 0.0000000e+00,\n",
      "       0.0000000e+00, 0.0000000e+00, 4.5847468e-04])}}, 'target_update_interval': 100, 'use_gpu': None, 'algorithm': 'FQE', 'observation_shape': (7,), 'action_size': 1}\n"
     ]
    },
    {
     "data": {
      "application/vnd.jupyter.widget-view+json": {
       "model_id": "bc8cc590f3824539acc737c681cbfcc5",
       "version_major": 2,
       "version_minor": 0
      },
      "text/plain": [
       "Epoch 1/1:   0%|          | 0/28 [00:00<?, ?it/s]"
      ]
     },
     "metadata": {},
     "output_type": "display_data"
    },
    {
     "name": "stdout",
     "output_type": "stream",
     "text": [
      "2023-03-16 10:55.58 [info     ] FQE_20230316105558: epoch=1 step=28 epoch=1 metrics={'time_sample_batch': 8.563484464372908e-05, 'time_algorithm_update': 0.0012935825756617955, 'loss': 14.274987765720912, 'time_step': 0.0014452167919703893} step=28\n",
      "2023-03-16 10:55.58 [info     ] Model parameters are saved to d3rlpy_logs/FQE_20230316105558/model_28.pt\n"
     ]
    },
    {
     "data": {
      "application/vnd.jupyter.widget-view+json": {
       "model_id": "4e17f1b0aab04c6f97f545eb75e0071d",
       "version_major": 2,
       "version_minor": 0
      },
      "text/plain": [
       "[fit MWL model]:   0%|          | 0/2 [00:00<?, ?it/s]"
      ]
     },
     "metadata": {},
     "output_type": "display_data"
    },
    {
     "data": {
      "application/vnd.jupyter.widget-view+json": {
       "model_id": "36cf8d81d08a40c88c45909ce51a40d6",
       "version_major": 2,
       "version_minor": 0
      },
      "text/plain": [
       "[fitting_weight_function]:   0%|          | 0/100 [00:00<?, ?it/s]"
      ]
     },
     "metadata": {},
     "output_type": "display_data"
    },
    {
     "data": {
      "application/vnd.jupyter.widget-view+json": {
       "model_id": "21994e22af5b446a92cc9da97cef4333",
       "version_major": 2,
       "version_minor": 0
      },
      "text/plain": [
       "[fitting_weight_function]:   0%|          | 0/100 [00:00<?, ?it/s]"
      ]
     },
     "metadata": {},
     "output_type": "display_data"
    },
    {
     "data": {
      "application/vnd.jupyter.widget-view+json": {
       "model_id": "59d3ed3956e74a89aea628bbd23bdb35",
       "version_major": 2,
       "version_minor": 0
      },
      "text/plain": [
       "[fitting_weight_function]:   0%|          | 0/100 [00:00<?, ?it/s]"
      ]
     },
     "metadata": {},
     "output_type": "display_data"
    },
    {
     "data": {
      "application/vnd.jupyter.widget-view+json": {
       "model_id": "8e8c127374744d8aaf3815fba9d8bd4e",
       "version_major": 2,
       "version_minor": 0
      },
      "text/plain": [
       "[fitting_weight_function]:   0%|          | 0/100 [00:00<?, ?it/s]"
      ]
     },
     "metadata": {},
     "output_type": "display_data"
    },
    {
     "data": {
      "application/vnd.jupyter.widget-view+json": {
       "model_id": "6a04f5121d3d4ca586902f147c388e22",
       "version_major": 2,
       "version_minor": 0
      },
      "text/plain": [
       "[collect input data: eval_policy]:   0%|          | 0/2 [00:00<?, ?it/s]"
      ]
     },
     "metadata": {},
     "output_type": "display_data"
    },
    {
     "data": {
      "application/vnd.jupyter.widget-view+json": {
       "model_id": "ce9fbabf18ca4e9fa41e48f76797949f",
       "version_major": 2,
       "version_minor": 0
      },
      "text/plain": [
       "[calculate on-policy policy value]:   0%|          | 0/100 [00:00<?, ?it/s]"
      ]
     },
     "metadata": {},
     "output_type": "display_data"
    },
    {
     "data": {
      "application/vnd.jupyter.widget-view+json": {
       "model_id": "6249c637de68422cb574ac6a989095ba",
       "version_major": 2,
       "version_minor": 0
      },
      "text/plain": [
       "[calculate on-policy policy value]:   0%|          | 0/100 [00:00<?, ?it/s]"
      ]
     },
     "metadata": {},
     "output_type": "display_data"
    },
    {
     "data": {
      "application/vnd.jupyter.widget-view+json": {
       "model_id": "fd3cbecea9ca478f888f44cf5b371368",
       "version_major": 2,
       "version_minor": 0
      },
      "text/plain": [
       "[obtain_trajectories]:   0%|          | 0/400 [00:00<?, ?it/s]"
      ]
     },
     "metadata": {},
     "output_type": "display_data"
    },
    {
     "data": {
      "application/vnd.jupyter.widget-view+json": {
       "model_id": "008c86dcd32a47aaa456066630c23459",
       "version_major": 2,
       "version_minor": 0
      },
      "text/plain": [
       "[obtain_trajectories]:   0%|          | 0/400 [00:00<?, ?it/s]"
      ]
     },
     "metadata": {},
     "output_type": "display_data"
    },
    {
     "name": "stdout",
     "output_type": "stream",
     "text": [
      "2023-03-16 10:56.42 [debug    ] RandomIterator is selected.\n",
      "2023-03-16 10:56.42 [info     ] Directory is created at d3rlpy_logs/CQL_20230316105642\n",
      "2023-03-16 10:56.42 [debug    ] Fitting action scaler...       action_scaler=min_max\n",
      "2023-03-16 10:56.42 [debug    ] Building models...\n",
      "2023-03-16 10:56.42 [debug    ] Models have been built.\n",
      "2023-03-16 10:56.42 [info     ] Parameters are saved to d3rlpy_logs/CQL_20230316105642/params.json params={'action_scaler': {'type': 'min_max', 'params': {'minimum': array([0.1]), 'maximum': array([10.])}}, 'actor_encoder_factory': {'type': 'vector', 'params': {'hidden_units': [30, 30], 'activation': 'relu', 'use_batch_norm': False, 'dropout_rate': None, 'use_dense': False}}, 'actor_learning_rate': 0.0001, 'actor_optim_factory': {'optim_cls': 'Adam', 'betas': (0.9, 0.999), 'eps': 1e-08, 'weight_decay': 0, 'amsgrad': False}, 'alpha_learning_rate': 0.0001, 'alpha_optim_factory': {'optim_cls': 'Adam', 'betas': (0.9, 0.999), 'eps': 1e-08, 'weight_decay': 0, 'amsgrad': False}, 'alpha_threshold': 10.0, 'batch_size': 256, 'conservative_weight': 5.0, 'critic_encoder_factory': {'type': 'vector', 'params': {'hidden_units': [30, 30], 'activation': 'relu', 'use_batch_norm': False, 'dropout_rate': None, 'use_dense': False}}, 'critic_learning_rate': 0.0003, 'critic_optim_factory': {'optim_cls': 'Adam', 'betas': (0.9, 0.999), 'eps': 1e-08, 'weight_decay': 0, 'amsgrad': False}, 'gamma': 0.99, 'generated_maxlen': 100000, 'initial_alpha': 1.0, 'initial_temperature': 1.0, 'n_action_samples': 10, 'n_critics': 2, 'n_frames': 1, 'n_steps': 1, 'q_func_factory': {'type': 'mean', 'params': {'share_encoder': False}}, 'real_ratio': 1.0, 'reward_scaler': None, 'scaler': None, 'soft_q_backup': False, 'tau': 0.005, 'temp_learning_rate': 0.0001, 'temp_optim_factory': {'optim_cls': 'Adam', 'betas': (0.9, 0.999), 'eps': 1e-08, 'weight_decay': 0, 'amsgrad': False}, 'use_gpu': None, 'algorithm': 'CQL', 'observation_shape': (7,), 'action_size': 1}\n"
     ]
    },
    {
     "data": {
      "application/vnd.jupyter.widget-view+json": {
       "model_id": "95810512829945029a7049323722a8bf",
       "version_major": 2,
       "version_minor": 0
      },
      "text/plain": [
       "Epoch 1/1:   0%|          | 0/10000 [00:00<?, ?it/s]"
      ]
     },
     "metadata": {},
     "output_type": "display_data"
    },
    {
     "name": "stdout",
     "output_type": "stream",
     "text": [
      "2023-03-16 10:59.38 [info     ] CQL_20230316105642: epoch=1 step=10000 epoch=1 metrics={'time_sample_batch': 0.0005341520786285401, 'time_algorithm_update': 0.016508833289146423, 'temp_loss': -2.8951261723300443, 'temp': 1.0079554256916046, 'alpha_loss': -15.112083836174012, 'alpha': 1.8178475259423257, 'critic_loss': 51.123181069660184, 'actor_loss': -0.26696641953848305, 'time_step': 0.01750426604747772} step=10000\n",
      "2023-03-16 10:59.38 [info     ] Model parameters are saved to d3rlpy_logs/CQL_20230316105642/model_10000.pt\n"
     ]
    },
    {
     "data": {
      "application/vnd.jupyter.widget-view+json": {
       "model_id": "2c99e282b28643f38818c4470d43264b",
       "version_major": 2,
       "version_minor": 0
      },
      "text/plain": [
       "[fit FQE model]:   0%|          | 0/2 [00:00<?, ?it/s]"
      ]
     },
     "metadata": {},
     "output_type": "display_data"
    },
    {
     "name": "stdout",
     "output_type": "stream",
     "text": [
      "2023-03-16 10:59.38 [debug    ] RoundIterator is selected.\n",
      "2023-03-16 10:59.38 [info     ] Directory is created at d3rlpy_logs/FQE_20230316105938\n",
      "2023-03-16 10:59.38 [debug    ] Fitting scaler...              scaler=min_max\n",
      "2023-03-16 10:59.38 [debug    ] Fitting action scaler...       action_scaler=min_max\n",
      "2023-03-16 10:59.38 [debug    ] Building models...\n",
      "2023-03-16 10:59.38 [debug    ] Models have been built.\n",
      "2023-03-16 10:59.38 [info     ] Parameters are saved to d3rlpy_logs/FQE_20230316105938/params.json params={'action_scaler': {'type': 'min_max', 'params': {'minimum': array([0.1]), 'maximum': array([10.])}}, 'batch_size': 100, 'encoder_factory': {'type': 'vector', 'params': {'hidden_units': [30, 30], 'activation': 'relu', 'use_batch_norm': False, 'dropout_rate': None, 'use_dense': False}}, 'gamma': 0.95, 'generated_maxlen': 100000, 'learning_rate': 0.0001, 'n_critics': 1, 'n_frames': 1, 'n_steps': 1, 'optim_factory': {'optim_cls': 'Adam', 'betas': (0.9, 0.999), 'eps': 1e-08, 'weight_decay': 0, 'amsgrad': False}, 'q_func_factory': {'type': 'mean', 'params': {'share_encoder': False}}, 'real_ratio': 1.0, 'reward_scaler': None, 'scaler': {'type': 'min_max', 'params': {'maximum': array([6.00000000e+00, 3.00000000e+03, 9.98457980e-01, 4.80000000e+04,\n",
      "       1.00000000e+00, 1.70000000e+01, 9.95927436e+00]), 'minimum': array([0.        , 1.        , 0.        , 0.        , 0.        ,\n",
      "       0.        , 0.00265734])}}, 'target_update_interval': 100, 'use_gpu': None, 'algorithm': 'FQE', 'observation_shape': (7,), 'action_size': 1}\n"
     ]
    },
    {
     "data": {
      "application/vnd.jupyter.widget-view+json": {
       "model_id": "327511bed2f14c3888a6c5a4f13a9a19",
       "version_major": 2,
       "version_minor": 0
      },
      "text/plain": [
       "Epoch 1/1:   0%|          | 0/28 [00:00<?, ?it/s]"
      ]
     },
     "metadata": {},
     "output_type": "display_data"
    },
    {
     "name": "stdout",
     "output_type": "stream",
     "text": [
      "2023-03-16 10:59.38 [info     ] FQE_20230316105938: epoch=1 step=28 epoch=1 metrics={'time_sample_batch': 7.21641949244908e-05, 'time_algorithm_update': 0.0009961298533848353, 'loss': 13.877475772585187, 'time_step': 0.0010973044804164342} step=28\n",
      "2023-03-16 10:59.38 [info     ] Model parameters are saved to d3rlpy_logs/FQE_20230316105938/model_28.pt\n",
      "2023-03-16 10:59.38 [debug    ] RoundIterator is selected.\n",
      "2023-03-16 10:59.39 [info     ] Directory is created at d3rlpy_logs/FQE_20230316105939\n",
      "2023-03-16 10:59.39 [debug    ] Fitting scaler...              scaler=min_max\n",
      "2023-03-16 10:59.39 [debug    ] Fitting action scaler...       action_scaler=min_max\n",
      "2023-03-16 10:59.39 [debug    ] Building models...\n",
      "2023-03-16 10:59.39 [debug    ] Models have been built.\n",
      "2023-03-16 10:59.39 [info     ] Parameters are saved to d3rlpy_logs/FQE_20230316105939/params.json params={'action_scaler': {'type': 'min_max', 'params': {'minimum': array([0.1]), 'maximum': array([10.])}}, 'batch_size': 100, 'encoder_factory': {'type': 'vector', 'params': {'hidden_units': [30, 30], 'activation': 'relu', 'use_batch_norm': False, 'dropout_rate': None, 'use_dense': False}}, 'gamma': 0.95, 'generated_maxlen': 100000, 'learning_rate': 0.0001, 'n_critics': 1, 'n_frames': 1, 'n_steps': 1, 'optim_factory': {'optim_cls': 'Adam', 'betas': (0.9, 0.999), 'eps': 1e-08, 'weight_decay': 0, 'amsgrad': False}, 'q_func_factory': {'type': 'mean', 'params': {'share_encoder': False}}, 'real_ratio': 1.0, 'reward_scaler': None, 'scaler': {'type': 'min_max', 'params': {'maximum': array([6.00000000e+00, 3.00000000e+03, 9.98457980e-01, 4.80000000e+04,\n",
      "       1.00000000e+00, 1.70000000e+01, 9.95927436e+00]), 'minimum': array([0.        , 1.        , 0.        , 0.        , 0.        ,\n",
      "       0.        , 0.00265734])}}, 'target_update_interval': 100, 'use_gpu': None, 'algorithm': 'FQE', 'observation_shape': (7,), 'action_size': 1}\n"
     ]
    },
    {
     "data": {
      "application/vnd.jupyter.widget-view+json": {
       "model_id": "25b3052337144e2db780fb6cfeecdf34",
       "version_major": 2,
       "version_minor": 0
      },
      "text/plain": [
       "Epoch 1/1:   0%|          | 0/28 [00:00<?, ?it/s]"
      ]
     },
     "metadata": {},
     "output_type": "display_data"
    },
    {
     "name": "stdout",
     "output_type": "stream",
     "text": [
      "2023-03-16 10:59.39 [info     ] FQE_20230316105939: epoch=1 step=28 epoch=1 metrics={'time_sample_batch': 0.00016461099897112166, 'time_algorithm_update': 0.00123431852885655, 'loss': 13.86164619241442, 'time_step': 0.0014802217483520508} step=28\n",
      "2023-03-16 10:59.39 [info     ] Model parameters are saved to d3rlpy_logs/FQE_20230316105939/model_28.pt\n"
     ]
    },
    {
     "data": {
      "application/vnd.jupyter.widget-view+json": {
       "model_id": "b968a5226c3743978187dbcdfbb85a22",
       "version_major": 2,
       "version_minor": 0
      },
      "text/plain": [
       "[fit MWL model]:   0%|          | 0/2 [00:00<?, ?it/s]"
      ]
     },
     "metadata": {},
     "output_type": "display_data"
    },
    {
     "data": {
      "application/vnd.jupyter.widget-view+json": {
       "model_id": "108a2a489e3d4e738b372efdc8c853a2",
       "version_major": 2,
       "version_minor": 0
      },
      "text/plain": [
       "[fitting_weight_function]:   0%|          | 0/100 [00:00<?, ?it/s]"
      ]
     },
     "metadata": {},
     "output_type": "display_data"
    },
    {
     "data": {
      "application/vnd.jupyter.widget-view+json": {
       "model_id": "a0e61a5732bf4ad3aeede86af64a50e1",
       "version_major": 2,
       "version_minor": 0
      },
      "text/plain": [
       "[fitting_weight_function]:   0%|          | 0/100 [00:00<?, ?it/s]"
      ]
     },
     "metadata": {},
     "output_type": "display_data"
    },
    {
     "data": {
      "application/vnd.jupyter.widget-view+json": {
       "model_id": "2e5afe76068043128653f23e70068a6b",
       "version_major": 2,
       "version_minor": 0
      },
      "text/plain": [
       "[fitting_weight_function]:   0%|          | 0/100 [00:00<?, ?it/s]"
      ]
     },
     "metadata": {},
     "output_type": "display_data"
    },
    {
     "data": {
      "application/vnd.jupyter.widget-view+json": {
       "model_id": "db37366417a34d1484bd7087202635e6",
       "version_major": 2,
       "version_minor": 0
      },
      "text/plain": [
       "[fitting_weight_function]:   0%|          | 0/100 [00:00<?, ?it/s]"
      ]
     },
     "metadata": {},
     "output_type": "display_data"
    },
    {
     "data": {
      "application/vnd.jupyter.widget-view+json": {
       "model_id": "c6ddb4cd83944cc8a12af483706ca4ac",
       "version_major": 2,
       "version_minor": 0
      },
      "text/plain": [
       "[collect input data: eval_policy]:   0%|          | 0/2 [00:00<?, ?it/s]"
      ]
     },
     "metadata": {},
     "output_type": "display_data"
    },
    {
     "data": {
      "application/vnd.jupyter.widget-view+json": {
       "model_id": "5312eba37a3a484dadfd338c4dc3890b",
       "version_major": 2,
       "version_minor": 0
      },
      "text/plain": [
       "[calculate on-policy policy value]:   0%|          | 0/100 [00:00<?, ?it/s]"
      ]
     },
     "metadata": {},
     "output_type": "display_data"
    },
    {
     "data": {
      "application/vnd.jupyter.widget-view+json": {
       "model_id": "e2109aa837e74074a06de22529a6d44e",
       "version_major": 2,
       "version_minor": 0
      },
      "text/plain": [
       "[calculate on-policy policy value]:   0%|          | 0/100 [00:00<?, ?it/s]"
      ]
     },
     "metadata": {},
     "output_type": "display_data"
    },
    {
     "data": {
      "application/vnd.jupyter.widget-view+json": {
       "model_id": "86a427b1ae8a4809a4e594789892b607",
       "version_major": 2,
       "version_minor": 0
      },
      "text/plain": [
       "[obtain_trajectories]:   0%|          | 0/400 [00:00<?, ?it/s]"
      ]
     },
     "metadata": {},
     "output_type": "display_data"
    },
    {
     "data": {
      "application/vnd.jupyter.widget-view+json": {
       "model_id": "ee6184d90e134ca4a414831e9d320bce",
       "version_major": 2,
       "version_minor": 0
      },
      "text/plain": [
       "[obtain_trajectories]:   0%|          | 0/400 [00:00<?, ?it/s]"
      ]
     },
     "metadata": {},
     "output_type": "display_data"
    },
    {
     "name": "stdout",
     "output_type": "stream",
     "text": [
      "2023-03-16 11:00.23 [debug    ] RandomIterator is selected.\n",
      "2023-03-16 11:00.23 [info     ] Directory is created at d3rlpy_logs/CQL_20230316110023\n",
      "2023-03-16 11:00.23 [debug    ] Fitting action scaler...       action_scaler=min_max\n",
      "2023-03-16 11:00.23 [debug    ] Building models...\n",
      "2023-03-16 11:00.23 [debug    ] Models have been built.\n",
      "2023-03-16 11:00.23 [info     ] Parameters are saved to d3rlpy_logs/CQL_20230316110023/params.json params={'action_scaler': {'type': 'min_max', 'params': {'minimum': array([0.1]), 'maximum': array([10.])}}, 'actor_encoder_factory': {'type': 'vector', 'params': {'hidden_units': [30, 30], 'activation': 'relu', 'use_batch_norm': False, 'dropout_rate': None, 'use_dense': False}}, 'actor_learning_rate': 0.0001, 'actor_optim_factory': {'optim_cls': 'Adam', 'betas': (0.9, 0.999), 'eps': 1e-08, 'weight_decay': 0, 'amsgrad': False}, 'alpha_learning_rate': 0.0001, 'alpha_optim_factory': {'optim_cls': 'Adam', 'betas': (0.9, 0.999), 'eps': 1e-08, 'weight_decay': 0, 'amsgrad': False}, 'alpha_threshold': 10.0, 'batch_size': 256, 'conservative_weight': 5.0, 'critic_encoder_factory': {'type': 'vector', 'params': {'hidden_units': [30, 30], 'activation': 'relu', 'use_batch_norm': False, 'dropout_rate': None, 'use_dense': False}}, 'critic_learning_rate': 0.0003, 'critic_optim_factory': {'optim_cls': 'Adam', 'betas': (0.9, 0.999), 'eps': 1e-08, 'weight_decay': 0, 'amsgrad': False}, 'gamma': 0.99, 'generated_maxlen': 100000, 'initial_alpha': 1.0, 'initial_temperature': 1.0, 'n_action_samples': 10, 'n_critics': 2, 'n_frames': 1, 'n_steps': 1, 'q_func_factory': {'type': 'mean', 'params': {'share_encoder': False}}, 'real_ratio': 1.0, 'reward_scaler': None, 'scaler': None, 'soft_q_backup': False, 'tau': 0.005, 'temp_learning_rate': 0.0001, 'temp_optim_factory': {'optim_cls': 'Adam', 'betas': (0.9, 0.999), 'eps': 1e-08, 'weight_decay': 0, 'amsgrad': False}, 'use_gpu': None, 'algorithm': 'CQL', 'observation_shape': (7,), 'action_size': 1}\n"
     ]
    },
    {
     "data": {
      "application/vnd.jupyter.widget-view+json": {
       "model_id": "13b9db7bd6484730a9ca4fa9b00de955",
       "version_major": 2,
       "version_minor": 0
      },
      "text/plain": [
       "Epoch 1/1:   0%|          | 0/10000 [00:00<?, ?it/s]"
      ]
     },
     "metadata": {},
     "output_type": "display_data"
    },
    {
     "name": "stdout",
     "output_type": "stream",
     "text": [
      "2023-03-16 11:03.10 [info     ] CQL_20230316110023: epoch=1 step=10000 epoch=1 metrics={'time_sample_batch': 0.0005244157552719116, 'time_algorithm_update': 0.015643330574035646, 'temp_loss': -17.910743554592134, 'temp': 1.7367222450256348, 'alpha_loss': -11.204012416172027, 'alpha': 1.7820368341445922, 'critic_loss': 404.49980146980283, 'actor_loss': 21.947051971435545, 'time_step': 0.016624411225318908} step=10000\n",
      "2023-03-16 11:03.10 [info     ] Model parameters are saved to d3rlpy_logs/CQL_20230316110023/model_10000.pt\n"
     ]
    },
    {
     "data": {
      "application/vnd.jupyter.widget-view+json": {
       "model_id": "a5df628405e3447990c64724a3ea2f58",
       "version_major": 2,
       "version_minor": 0
      },
      "text/plain": [
       "[fit FQE model]:   0%|          | 0/2 [00:00<?, ?it/s]"
      ]
     },
     "metadata": {},
     "output_type": "display_data"
    },
    {
     "name": "stdout",
     "output_type": "stream",
     "text": [
      "2023-03-16 11:03.10 [debug    ] RoundIterator is selected.\n",
      "2023-03-16 11:03.10 [info     ] Directory is created at d3rlpy_logs/FQE_20230316110310\n",
      "2023-03-16 11:03.10 [debug    ] Fitting scaler...              scaler=min_max\n",
      "2023-03-16 11:03.10 [debug    ] Fitting action scaler...       action_scaler=min_max\n",
      "2023-03-16 11:03.10 [debug    ] Building models...\n",
      "2023-03-16 11:03.10 [debug    ] Models have been built.\n",
      "2023-03-16 11:03.10 [info     ] Parameters are saved to d3rlpy_logs/FQE_20230316110310/params.json params={'action_scaler': {'type': 'min_max', 'params': {'minimum': array([0.1]), 'maximum': array([10.])}}, 'batch_size': 100, 'encoder_factory': {'type': 'vector', 'params': {'hidden_units': [30, 30], 'activation': 'relu', 'use_batch_norm': False, 'dropout_rate': None, 'use_dense': False}}, 'gamma': 0.95, 'generated_maxlen': 100000, 'learning_rate': 0.0001, 'n_critics': 1, 'n_frames': 1, 'n_steps': 1, 'optim_factory': {'optim_cls': 'Adam', 'betas': (0.9, 0.999), 'eps': 1e-08, 'weight_decay': 0, 'amsgrad': False}, 'q_func_factory': {'type': 'mean', 'params': {'share_encoder': False}}, 'real_ratio': 1.0, 'reward_scaler': None, 'scaler': {'type': 'min_max', 'params': {'maximum': array([6.00000000e+00, 3.00000000e+03, 9.98903509e-01, 4.80000000e+04,\n",
      "       1.00000000e+00, 2.00000000e+01, 9.99668668e+00]), 'minimum': array([0.00000000e+00, 1.00000000e+00, 0.00000000e+00, 0.00000000e+00,\n",
      "       0.00000000e+00, 0.00000000e+00, 1.87882692e-05])}}, 'target_update_interval': 100, 'use_gpu': None, 'algorithm': 'FQE', 'observation_shape': (7,), 'action_size': 1}\n"
     ]
    },
    {
     "data": {
      "application/vnd.jupyter.widget-view+json": {
       "model_id": "4063f9358b86451dade0e6dfe0becaf5",
       "version_major": 2,
       "version_minor": 0
      },
      "text/plain": [
       "Epoch 1/1:   0%|          | 0/28 [00:00<?, ?it/s]"
      ]
     },
     "metadata": {},
     "output_type": "display_data"
    },
    {
     "name": "stdout",
     "output_type": "stream",
     "text": [
      "2023-03-16 11:03.10 [info     ] FQE_20230316110310: epoch=1 step=28 epoch=1 metrics={'time_sample_batch': 0.0001050574438912528, 'time_algorithm_update': 0.0020075014659336637, 'loss': 13.195997578757149, 'time_step': 0.0022251776286533903} step=28\n",
      "2023-03-16 11:03.10 [info     ] Model parameters are saved to d3rlpy_logs/FQE_20230316110310/model_28.pt\n",
      "2023-03-16 11:03.10 [debug    ] RoundIterator is selected.\n",
      "2023-03-16 11:03.11 [info     ] Directory is created at d3rlpy_logs/FQE_20230316110311\n",
      "2023-03-16 11:03.11 [debug    ] Fitting scaler...              scaler=min_max\n",
      "2023-03-16 11:03.11 [debug    ] Fitting action scaler...       action_scaler=min_max\n",
      "2023-03-16 11:03.11 [debug    ] Building models...\n",
      "2023-03-16 11:03.11 [debug    ] Models have been built.\n",
      "2023-03-16 11:03.11 [info     ] Parameters are saved to d3rlpy_logs/FQE_20230316110311/params.json params={'action_scaler': {'type': 'min_max', 'params': {'minimum': array([0.1]), 'maximum': array([10.])}}, 'batch_size': 100, 'encoder_factory': {'type': 'vector', 'params': {'hidden_units': [30, 30], 'activation': 'relu', 'use_batch_norm': False, 'dropout_rate': None, 'use_dense': False}}, 'gamma': 0.95, 'generated_maxlen': 100000, 'learning_rate': 0.0001, 'n_critics': 1, 'n_frames': 1, 'n_steps': 1, 'optim_factory': {'optim_cls': 'Adam', 'betas': (0.9, 0.999), 'eps': 1e-08, 'weight_decay': 0, 'amsgrad': False}, 'q_func_factory': {'type': 'mean', 'params': {'share_encoder': False}}, 'real_ratio': 1.0, 'reward_scaler': None, 'scaler': {'type': 'min_max', 'params': {'maximum': array([6.00000000e+00, 3.00000000e+03, 9.98903509e-01, 4.80000000e+04,\n",
      "       1.00000000e+00, 2.00000000e+01, 9.99668668e+00]), 'minimum': array([0.00000000e+00, 1.00000000e+00, 0.00000000e+00, 0.00000000e+00,\n",
      "       0.00000000e+00, 0.00000000e+00, 1.87882692e-05])}}, 'target_update_interval': 100, 'use_gpu': None, 'algorithm': 'FQE', 'observation_shape': (7,), 'action_size': 1}\n"
     ]
    },
    {
     "data": {
      "application/vnd.jupyter.widget-view+json": {
       "model_id": "704f6d7a72c642c4997d3592b2f43281",
       "version_major": 2,
       "version_minor": 0
      },
      "text/plain": [
       "Epoch 1/1:   0%|          | 0/28 [00:00<?, ?it/s]"
      ]
     },
     "metadata": {},
     "output_type": "display_data"
    },
    {
     "name": "stdout",
     "output_type": "stream",
     "text": [
      "2023-03-16 11:03.11 [info     ] FQE_20230316110311: epoch=1 step=28 epoch=1 metrics={'time_sample_batch': 8.663960865565709e-05, 'time_algorithm_update': 0.001156721796308245, 'loss': 13.778529184205192, 'time_step': 0.001305537564413888} step=28\n",
      "2023-03-16 11:03.11 [info     ] Model parameters are saved to d3rlpy_logs/FQE_20230316110311/model_28.pt\n"
     ]
    },
    {
     "data": {
      "application/vnd.jupyter.widget-view+json": {
       "model_id": "e7704b580e8d464a8b110592625f74da",
       "version_major": 2,
       "version_minor": 0
      },
      "text/plain": [
       "[fit MWL model]:   0%|          | 0/2 [00:00<?, ?it/s]"
      ]
     },
     "metadata": {},
     "output_type": "display_data"
    },
    {
     "data": {
      "application/vnd.jupyter.widget-view+json": {
       "model_id": "c10b54c15c4b48a794bf8a24a1136539",
       "version_major": 2,
       "version_minor": 0
      },
      "text/plain": [
       "[fitting_weight_function]:   0%|          | 0/100 [00:00<?, ?it/s]"
      ]
     },
     "metadata": {},
     "output_type": "display_data"
    },
    {
     "data": {
      "application/vnd.jupyter.widget-view+json": {
       "model_id": "4014eb1b02a04c0ca804abe3cff52fe0",
       "version_major": 2,
       "version_minor": 0
      },
      "text/plain": [
       "[fitting_weight_function]:   0%|          | 0/100 [00:00<?, ?it/s]"
      ]
     },
     "metadata": {},
     "output_type": "display_data"
    },
    {
     "data": {
      "application/vnd.jupyter.widget-view+json": {
       "model_id": "b9a9ba8e28d74332b9a44ee323798c6c",
       "version_major": 2,
       "version_minor": 0
      },
      "text/plain": [
       "[fitting_weight_function]:   0%|          | 0/100 [00:00<?, ?it/s]"
      ]
     },
     "metadata": {},
     "output_type": "display_data"
    },
    {
     "data": {
      "application/vnd.jupyter.widget-view+json": {
       "model_id": "cc6a69ea6eb74bbea897c93e17b8d0e5",
       "version_major": 2,
       "version_minor": 0
      },
      "text/plain": [
       "[fitting_weight_function]:   0%|          | 0/100 [00:00<?, ?it/s]"
      ]
     },
     "metadata": {},
     "output_type": "display_data"
    },
    {
     "data": {
      "application/vnd.jupyter.widget-view+json": {
       "model_id": "1df4bf7487ef4df5bda778a4228ca95a",
       "version_major": 2,
       "version_minor": 0
      },
      "text/plain": [
       "[collect input data: eval_policy]:   0%|          | 0/2 [00:00<?, ?it/s]"
      ]
     },
     "metadata": {},
     "output_type": "display_data"
    },
    {
     "data": {
      "application/vnd.jupyter.widget-view+json": {
       "model_id": "562dd6a412484847ac095a11bba6a9a3",
       "version_major": 2,
       "version_minor": 0
      },
      "text/plain": [
       "[calculate on-policy policy value]:   0%|          | 0/100 [00:00<?, ?it/s]"
      ]
     },
     "metadata": {},
     "output_type": "display_data"
    },
    {
     "data": {
      "application/vnd.jupyter.widget-view+json": {
       "model_id": "51cef98c783e495da7ea3f52c720dbbe",
       "version_major": 2,
       "version_minor": 0
      },
      "text/plain": [
       "[calculate on-policy policy value]:   0%|          | 0/100 [00:00<?, ?it/s]"
      ]
     },
     "metadata": {},
     "output_type": "display_data"
    },
    {
     "data": {
      "application/vnd.jupyter.widget-view+json": {
       "model_id": "a6a5025b80964f7791e5f9a7fe048be3",
       "version_major": 2,
       "version_minor": 0
      },
      "text/plain": [
       "[obtain_trajectories]:   0%|          | 0/400 [00:00<?, ?it/s]"
      ]
     },
     "metadata": {},
     "output_type": "display_data"
    },
    {
     "data": {
      "application/vnd.jupyter.widget-view+json": {
       "model_id": "85175fa9959a45b1802524d84f4a5754",
       "version_major": 2,
       "version_minor": 0
      },
      "text/plain": [
       "[obtain_trajectories]:   0%|          | 0/400 [00:00<?, ?it/s]"
      ]
     },
     "metadata": {},
     "output_type": "display_data"
    },
    {
     "name": "stdout",
     "output_type": "stream",
     "text": [
      "2023-03-16 11:04.00 [debug    ] RandomIterator is selected.\n",
      "2023-03-16 11:04.00 [info     ] Directory is created at d3rlpy_logs/CQL_20230316110400\n",
      "2023-03-16 11:04.00 [debug    ] Fitting action scaler...       action_scaler=min_max\n",
      "2023-03-16 11:04.00 [debug    ] Building models...\n",
      "2023-03-16 11:04.00 [debug    ] Models have been built.\n",
      "2023-03-16 11:04.00 [info     ] Parameters are saved to d3rlpy_logs/CQL_20230316110400/params.json params={'action_scaler': {'type': 'min_max', 'params': {'minimum': array([0.1]), 'maximum': array([10.])}}, 'actor_encoder_factory': {'type': 'vector', 'params': {'hidden_units': [30, 30], 'activation': 'relu', 'use_batch_norm': False, 'dropout_rate': None, 'use_dense': False}}, 'actor_learning_rate': 0.0001, 'actor_optim_factory': {'optim_cls': 'Adam', 'betas': (0.9, 0.999), 'eps': 1e-08, 'weight_decay': 0, 'amsgrad': False}, 'alpha_learning_rate': 0.0001, 'alpha_optim_factory': {'optim_cls': 'Adam', 'betas': (0.9, 0.999), 'eps': 1e-08, 'weight_decay': 0, 'amsgrad': False}, 'alpha_threshold': 10.0, 'batch_size': 256, 'conservative_weight': 5.0, 'critic_encoder_factory': {'type': 'vector', 'params': {'hidden_units': [30, 30], 'activation': 'relu', 'use_batch_norm': False, 'dropout_rate': None, 'use_dense': False}}, 'critic_learning_rate': 0.0003, 'critic_optim_factory': {'optim_cls': 'Adam', 'betas': (0.9, 0.999), 'eps': 1e-08, 'weight_decay': 0, 'amsgrad': False}, 'gamma': 0.99, 'generated_maxlen': 100000, 'initial_alpha': 1.0, 'initial_temperature': 1.0, 'n_action_samples': 10, 'n_critics': 2, 'n_frames': 1, 'n_steps': 1, 'q_func_factory': {'type': 'mean', 'params': {'share_encoder': False}}, 'real_ratio': 1.0, 'reward_scaler': None, 'scaler': None, 'soft_q_backup': False, 'tau': 0.005, 'temp_learning_rate': 0.0001, 'temp_optim_factory': {'optim_cls': 'Adam', 'betas': (0.9, 0.999), 'eps': 1e-08, 'weight_decay': 0, 'amsgrad': False}, 'use_gpu': None, 'algorithm': 'CQL', 'observation_shape': (7,), 'action_size': 1}\n"
     ]
    },
    {
     "data": {
      "application/vnd.jupyter.widget-view+json": {
       "model_id": "00c61fb908544c6daca8ee2bb55c64c6",
       "version_major": 2,
       "version_minor": 0
      },
      "text/plain": [
       "Epoch 1/1:   0%|          | 0/10000 [00:00<?, ?it/s]"
      ]
     },
     "metadata": {},
     "output_type": "display_data"
    },
    {
     "name": "stdout",
     "output_type": "stream",
     "text": [
      "2023-03-16 11:06.54 [info     ] CQL_20230316110400: epoch=1 step=10000 epoch=1 metrics={'time_sample_batch': 0.0005500194072723389, 'time_algorithm_update': 0.016356584930419922, 'temp_loss': 0.4694324605181813, 'temp': 0.8394952188372612, 'alpha_loss': -15.680786835670471, 'alpha': 1.7819511966705321, 'critic_loss': 103.94302839002609, 'actor_loss': -6.671512083214521, 'time_step': 0.0173694242477417} step=10000\n",
      "2023-03-16 11:06.54 [info     ] Model parameters are saved to d3rlpy_logs/CQL_20230316110400/model_10000.pt\n"
     ]
    },
    {
     "data": {
      "application/vnd.jupyter.widget-view+json": {
       "model_id": "083ec552fad148ccbc654beded901f65",
       "version_major": 2,
       "version_minor": 0
      },
      "text/plain": [
       "[fit FQE model]:   0%|          | 0/2 [00:00<?, ?it/s]"
      ]
     },
     "metadata": {},
     "output_type": "display_data"
    },
    {
     "name": "stdout",
     "output_type": "stream",
     "text": [
      "2023-03-16 11:06.54 [debug    ] RoundIterator is selected.\n",
      "2023-03-16 11:06.54 [info     ] Directory is created at d3rlpy_logs/FQE_20230316110654\n",
      "2023-03-16 11:06.54 [debug    ] Fitting scaler...              scaler=min_max\n",
      "2023-03-16 11:06.54 [debug    ] Fitting action scaler...       action_scaler=min_max\n",
      "2023-03-16 11:06.54 [debug    ] Building models...\n",
      "2023-03-16 11:06.54 [debug    ] Models have been built.\n",
      "2023-03-16 11:06.54 [info     ] Parameters are saved to d3rlpy_logs/FQE_20230316110654/params.json params={'action_scaler': {'type': 'min_max', 'params': {'minimum': array([0.1]), 'maximum': array([10.])}}, 'batch_size': 100, 'encoder_factory': {'type': 'vector', 'params': {'hidden_units': [30, 30], 'activation': 'relu', 'use_batch_norm': False, 'dropout_rate': None, 'use_dense': False}}, 'gamma': 0.95, 'generated_maxlen': 100000, 'learning_rate': 0.0001, 'n_critics': 1, 'n_frames': 1, 'n_steps': 1, 'optim_factory': {'optim_cls': 'Adam', 'betas': (0.9, 0.999), 'eps': 1e-08, 'weight_decay': 0, 'amsgrad': False}, 'q_func_factory': {'type': 'mean', 'params': {'share_encoder': False}}, 'real_ratio': 1.0, 'reward_scaler': None, 'scaler': {'type': 'min_max', 'params': {'maximum': array([6.00000000e+00, 3.00000000e+03, 9.98939555e-01, 4.45000000e+04,\n",
      "       1.00000000e+00, 1.80000000e+01, 9.98368979e+00]), 'minimum': array([0.        , 1.        , 0.        , 0.        , 0.        ,\n",
      "       0.        , 0.00228243])}}, 'target_update_interval': 100, 'use_gpu': None, 'algorithm': 'FQE', 'observation_shape': (7,), 'action_size': 1}\n"
     ]
    },
    {
     "data": {
      "application/vnd.jupyter.widget-view+json": {
       "model_id": "d0e6fecc9c1f44c68827630134bf31d0",
       "version_major": 2,
       "version_minor": 0
      },
      "text/plain": [
       "Epoch 1/1:   0%|          | 0/28 [00:00<?, ?it/s]"
      ]
     },
     "metadata": {},
     "output_type": "display_data"
    },
    {
     "name": "stdout",
     "output_type": "stream",
     "text": [
      "2023-03-16 11:06.54 [info     ] FQE_20230316110654: epoch=1 step=28 epoch=1 metrics={'time_sample_batch': 9.10844121660505e-05, 'time_algorithm_update': 0.0012029579707554408, 'loss': 14.407022748674665, 'time_step': 0.0013395036969866072} step=28\n",
      "2023-03-16 11:06.54 [info     ] Model parameters are saved to d3rlpy_logs/FQE_20230316110654/model_28.pt\n",
      "2023-03-16 11:06.54 [debug    ] RoundIterator is selected.\n",
      "2023-03-16 11:06.55 [info     ] Directory is created at d3rlpy_logs/FQE_20230316110655\n",
      "2023-03-16 11:06.55 [debug    ] Fitting scaler...              scaler=min_max\n",
      "2023-03-16 11:06.55 [debug    ] Fitting action scaler...       action_scaler=min_max\n",
      "2023-03-16 11:06.55 [debug    ] Building models...\n",
      "2023-03-16 11:06.55 [debug    ] Models have been built.\n",
      "2023-03-16 11:06.55 [info     ] Parameters are saved to d3rlpy_logs/FQE_20230316110655/params.json params={'action_scaler': {'type': 'min_max', 'params': {'minimum': array([0.1]), 'maximum': array([10.])}}, 'batch_size': 100, 'encoder_factory': {'type': 'vector', 'params': {'hidden_units': [30, 30], 'activation': 'relu', 'use_batch_norm': False, 'dropout_rate': None, 'use_dense': False}}, 'gamma': 0.95, 'generated_maxlen': 100000, 'learning_rate': 0.0001, 'n_critics': 1, 'n_frames': 1, 'n_steps': 1, 'optim_factory': {'optim_cls': 'Adam', 'betas': (0.9, 0.999), 'eps': 1e-08, 'weight_decay': 0, 'amsgrad': False}, 'q_func_factory': {'type': 'mean', 'params': {'share_encoder': False}}, 'real_ratio': 1.0, 'reward_scaler': None, 'scaler': {'type': 'min_max', 'params': {'maximum': array([6.00000000e+00, 3.00000000e+03, 9.98939555e-01, 4.45000000e+04,\n",
      "       1.00000000e+00, 1.80000000e+01, 9.98368979e+00]), 'minimum': array([0.        , 1.        , 0.        , 0.        , 0.        ,\n",
      "       0.        , 0.00228243])}}, 'target_update_interval': 100, 'use_gpu': None, 'algorithm': 'FQE', 'observation_shape': (7,), 'action_size': 1}\n"
     ]
    },
    {
     "data": {
      "application/vnd.jupyter.widget-view+json": {
       "model_id": "8698daf91d664c9ba2e3efc85d0b1981",
       "version_major": 2,
       "version_minor": 0
      },
      "text/plain": [
       "Epoch 1/1:   0%|          | 0/28 [00:00<?, ?it/s]"
      ]
     },
     "metadata": {},
     "output_type": "display_data"
    },
    {
     "name": "stdout",
     "output_type": "stream",
     "text": [
      "2023-03-16 11:06.55 [info     ] FQE_20230316110655: epoch=1 step=28 epoch=1 metrics={'time_sample_batch': 9.093114307948522e-05, 'time_algorithm_update': 0.001241215637751988, 'loss': 14.347902808870588, 'time_step': 0.0013880133628845215} step=28\n",
      "2023-03-16 11:06.55 [info     ] Model parameters are saved to d3rlpy_logs/FQE_20230316110655/model_28.pt\n"
     ]
    },
    {
     "data": {
      "application/vnd.jupyter.widget-view+json": {
       "model_id": "5ace6bc5b4ef44cc9f3b32f5f82f0354",
       "version_major": 2,
       "version_minor": 0
      },
      "text/plain": [
       "[fit MWL model]:   0%|          | 0/2 [00:00<?, ?it/s]"
      ]
     },
     "metadata": {},
     "output_type": "display_data"
    },
    {
     "data": {
      "application/vnd.jupyter.widget-view+json": {
       "model_id": "1b2563f3633c4ec59e8f281c65564383",
       "version_major": 2,
       "version_minor": 0
      },
      "text/plain": [
       "[fitting_weight_function]:   0%|          | 0/100 [00:00<?, ?it/s]"
      ]
     },
     "metadata": {},
     "output_type": "display_data"
    },
    {
     "data": {
      "application/vnd.jupyter.widget-view+json": {
       "model_id": "b6e533a4888648eea3b5aab529acd280",
       "version_major": 2,
       "version_minor": 0
      },
      "text/plain": [
       "[fitting_weight_function]:   0%|          | 0/100 [00:00<?, ?it/s]"
      ]
     },
     "metadata": {},
     "output_type": "display_data"
    },
    {
     "data": {
      "application/vnd.jupyter.widget-view+json": {
       "model_id": "735b3b7503fa4adb9cf6a0907b2b6cc2",
       "version_major": 2,
       "version_minor": 0
      },
      "text/plain": [
       "[fitting_weight_function]:   0%|          | 0/100 [00:00<?, ?it/s]"
      ]
     },
     "metadata": {},
     "output_type": "display_data"
    },
    {
     "data": {
      "application/vnd.jupyter.widget-view+json": {
       "model_id": "fc0aa55ecf0a4ecc84123aad1907b839",
       "version_major": 2,
       "version_minor": 0
      },
      "text/plain": [
       "[fitting_weight_function]:   0%|          | 0/100 [00:00<?, ?it/s]"
      ]
     },
     "metadata": {},
     "output_type": "display_data"
    },
    {
     "data": {
      "application/vnd.jupyter.widget-view+json": {
       "model_id": "bcbfd7c1fd604cc1b7b1c277baf62101",
       "version_major": 2,
       "version_minor": 0
      },
      "text/plain": [
       "[collect input data: eval_policy]:   0%|          | 0/2 [00:00<?, ?it/s]"
      ]
     },
     "metadata": {},
     "output_type": "display_data"
    },
    {
     "data": {
      "application/vnd.jupyter.widget-view+json": {
       "model_id": "90fda85d144043f1bdd0d3c600125ee1",
       "version_major": 2,
       "version_minor": 0
      },
      "text/plain": [
       "[calculate on-policy policy value]:   0%|          | 0/100 [00:00<?, ?it/s]"
      ]
     },
     "metadata": {},
     "output_type": "display_data"
    },
    {
     "data": {
      "application/vnd.jupyter.widget-view+json": {
       "model_id": "e2878d109f8f46ecb7ac08f43fa1de95",
       "version_major": 2,
       "version_minor": 0
      },
      "text/plain": [
       "[calculate on-policy policy value]:   0%|          | 0/100 [00:00<?, ?it/s]"
      ]
     },
     "metadata": {},
     "output_type": "display_data"
    },
    {
     "data": {
      "application/vnd.jupyter.widget-view+json": {
       "model_id": "c41c314a89ef4397a1357a546c3b9d16",
       "version_major": 2,
       "version_minor": 0
      },
      "text/plain": [
       "[obtain_trajectories]:   0%|          | 0/800 [00:00<?, ?it/s]"
      ]
     },
     "metadata": {},
     "output_type": "display_data"
    },
    {
     "data": {
      "application/vnd.jupyter.widget-view+json": {
       "model_id": "9bba18ff5e554fadad08abc7030dec49",
       "version_major": 2,
       "version_minor": 0
      },
      "text/plain": [
       "[obtain_trajectories]:   0%|          | 0/800 [00:00<?, ?it/s]"
      ]
     },
     "metadata": {},
     "output_type": "display_data"
    },
    {
     "name": "stdout",
     "output_type": "stream",
     "text": [
      "2023-03-16 11:07.47 [debug    ] RandomIterator is selected.\n",
      "2023-03-16 11:07.47 [info     ] Directory is created at d3rlpy_logs/CQL_20230316110747\n",
      "2023-03-16 11:07.47 [debug    ] Fitting action scaler...       action_scaler=min_max\n",
      "2023-03-16 11:07.47 [debug    ] Building models...\n",
      "2023-03-16 11:07.47 [debug    ] Models have been built.\n",
      "2023-03-16 11:07.47 [info     ] Parameters are saved to d3rlpy_logs/CQL_20230316110747/params.json params={'action_scaler': {'type': 'min_max', 'params': {'minimum': array([0.1]), 'maximum': array([10.])}}, 'actor_encoder_factory': {'type': 'vector', 'params': {'hidden_units': [30, 30], 'activation': 'relu', 'use_batch_norm': False, 'dropout_rate': None, 'use_dense': False}}, 'actor_learning_rate': 0.0001, 'actor_optim_factory': {'optim_cls': 'Adam', 'betas': (0.9, 0.999), 'eps': 1e-08, 'weight_decay': 0, 'amsgrad': False}, 'alpha_learning_rate': 0.0001, 'alpha_optim_factory': {'optim_cls': 'Adam', 'betas': (0.9, 0.999), 'eps': 1e-08, 'weight_decay': 0, 'amsgrad': False}, 'alpha_threshold': 10.0, 'batch_size': 256, 'conservative_weight': 5.0, 'critic_encoder_factory': {'type': 'vector', 'params': {'hidden_units': [30, 30], 'activation': 'relu', 'use_batch_norm': False, 'dropout_rate': None, 'use_dense': False}}, 'critic_learning_rate': 0.0003, 'critic_optim_factory': {'optim_cls': 'Adam', 'betas': (0.9, 0.999), 'eps': 1e-08, 'weight_decay': 0, 'amsgrad': False}, 'gamma': 0.99, 'generated_maxlen': 100000, 'initial_alpha': 1.0, 'initial_temperature': 1.0, 'n_action_samples': 10, 'n_critics': 2, 'n_frames': 1, 'n_steps': 1, 'q_func_factory': {'type': 'mean', 'params': {'share_encoder': False}}, 'real_ratio': 1.0, 'reward_scaler': None, 'scaler': None, 'soft_q_backup': False, 'tau': 0.005, 'temp_learning_rate': 0.0001, 'temp_optim_factory': {'optim_cls': 'Adam', 'betas': (0.9, 0.999), 'eps': 1e-08, 'weight_decay': 0, 'amsgrad': False}, 'use_gpu': None, 'algorithm': 'CQL', 'observation_shape': (7,), 'action_size': 1}\n"
     ]
    },
    {
     "data": {
      "application/vnd.jupyter.widget-view+json": {
       "model_id": "b74a3db9a7bc4facbae5831779c4cef8",
       "version_major": 2,
       "version_minor": 0
      },
      "text/plain": [
       "Epoch 1/1:   0%|          | 0/10000 [00:00<?, ?it/s]"
      ]
     },
     "metadata": {},
     "output_type": "display_data"
    },
    {
     "name": "stdout",
     "output_type": "stream",
     "text": [
      "2023-03-16 11:10.42 [info     ] CQL_20230316110747: epoch=1 step=10000 epoch=1 metrics={'time_sample_batch': 0.0005538189411163331, 'time_algorithm_update': 0.016426700019836427, 'temp_loss': -0.6666209847250953, 'temp': 0.9369412237167358, 'alpha_loss': -15.667907618618012, 'alpha': 1.7984043391704558, 'critic_loss': 87.72952834949493, 'actor_loss': -2.1296106282494964, 'time_step': 0.017443434143066407} step=10000\n",
      "2023-03-16 11:10.42 [info     ] Model parameters are saved to d3rlpy_logs/CQL_20230316110747/model_10000.pt\n"
     ]
    },
    {
     "data": {
      "application/vnd.jupyter.widget-view+json": {
       "model_id": "377b08aaadb243f28a267052d38d03de",
       "version_major": 2,
       "version_minor": 0
      },
      "text/plain": [
       "[fit FQE model]:   0%|          | 0/2 [00:00<?, ?it/s]"
      ]
     },
     "metadata": {},
     "output_type": "display_data"
    },
    {
     "name": "stdout",
     "output_type": "stream",
     "text": [
      "2023-03-16 11:10.42 [debug    ] RoundIterator is selected.\n",
      "2023-03-16 11:10.42 [info     ] Directory is created at d3rlpy_logs/FQE_20230316111042\n",
      "2023-03-16 11:10.42 [debug    ] Fitting scaler...              scaler=min_max\n",
      "2023-03-16 11:10.42 [debug    ] Fitting action scaler...       action_scaler=min_max\n",
      "2023-03-16 11:10.42 [debug    ] Building models...\n",
      "2023-03-16 11:10.42 [debug    ] Models have been built.\n",
      "2023-03-16 11:10.42 [info     ] Parameters are saved to d3rlpy_logs/FQE_20230316111042/params.json params={'action_scaler': {'type': 'min_max', 'params': {'minimum': array([0.1]), 'maximum': array([10.])}}, 'batch_size': 100, 'encoder_factory': {'type': 'vector', 'params': {'hidden_units': [30, 30], 'activation': 'relu', 'use_batch_norm': False, 'dropout_rate': None, 'use_dense': False}}, 'gamma': 0.95, 'generated_maxlen': 100000, 'learning_rate': 0.0001, 'n_critics': 1, 'n_frames': 1, 'n_steps': 1, 'optim_factory': {'optim_cls': 'Adam', 'betas': (0.9, 0.999), 'eps': 1e-08, 'weight_decay': 0, 'amsgrad': False}, 'q_func_factory': {'type': 'mean', 'params': {'share_encoder': False}}, 'real_ratio': 1.0, 'reward_scaler': None, 'scaler': {'type': 'min_max', 'params': {'maximum': array([6.00000000e+00, 3.00000000e+03, 9.99306037e-01, 3.10000000e+04,\n",
      "       1.00000000e+00, 2.00000000e+01, 9.98865632e+00]), 'minimum': array([0.        , 1.        , 0.        , 0.        , 0.        ,\n",
      "       0.        , 0.00164746])}}, 'target_update_interval': 100, 'use_gpu': None, 'algorithm': 'FQE', 'observation_shape': (7,), 'action_size': 1}\n"
     ]
    },
    {
     "data": {
      "application/vnd.jupyter.widget-view+json": {
       "model_id": "a722f8827fb4468eaf2483ae824a7d31",
       "version_major": 2,
       "version_minor": 0
      },
      "text/plain": [
       "Epoch 1/1:   0%|          | 0/56 [00:00<?, ?it/s]"
      ]
     },
     "metadata": {},
     "output_type": "display_data"
    },
    {
     "name": "stdout",
     "output_type": "stream",
     "text": [
      "2023-03-16 11:10.42 [info     ] FQE_20230316111042: epoch=1 step=56 epoch=1 metrics={'time_sample_batch': 9.698527199881417e-05, 'time_algorithm_update': 0.001031773430960519, 'loss': 14.386818255696978, 'time_step': 0.0011791927473885672} step=56\n",
      "2023-03-16 11:10.42 [info     ] Model parameters are saved to d3rlpy_logs/FQE_20230316111042/model_56.pt\n",
      "2023-03-16 11:10.42 [debug    ] RoundIterator is selected.\n",
      "2023-03-16 11:10.43 [info     ] Directory is created at d3rlpy_logs/FQE_20230316111043\n",
      "2023-03-16 11:10.43 [debug    ] Fitting scaler...              scaler=min_max\n",
      "2023-03-16 11:10.43 [debug    ] Fitting action scaler...       action_scaler=min_max\n",
      "2023-03-16 11:10.43 [debug    ] Building models...\n",
      "2023-03-16 11:10.43 [debug    ] Models have been built.\n",
      "2023-03-16 11:10.43 [info     ] Parameters are saved to d3rlpy_logs/FQE_20230316111043/params.json params={'action_scaler': {'type': 'min_max', 'params': {'minimum': array([0.1]), 'maximum': array([10.])}}, 'batch_size': 100, 'encoder_factory': {'type': 'vector', 'params': {'hidden_units': [30, 30], 'activation': 'relu', 'use_batch_norm': False, 'dropout_rate': None, 'use_dense': False}}, 'gamma': 0.95, 'generated_maxlen': 100000, 'learning_rate': 0.0001, 'n_critics': 1, 'n_frames': 1, 'n_steps': 1, 'optim_factory': {'optim_cls': 'Adam', 'betas': (0.9, 0.999), 'eps': 1e-08, 'weight_decay': 0, 'amsgrad': False}, 'q_func_factory': {'type': 'mean', 'params': {'share_encoder': False}}, 'real_ratio': 1.0, 'reward_scaler': None, 'scaler': {'type': 'min_max', 'params': {'maximum': array([6.00000000e+00, 3.00000000e+03, 9.99306037e-01, 3.10000000e+04,\n",
      "       1.00000000e+00, 2.00000000e+01, 9.98865632e+00]), 'minimum': array([0.        , 1.        , 0.        , 0.        , 0.        ,\n",
      "       0.        , 0.00164746])}}, 'target_update_interval': 100, 'use_gpu': None, 'algorithm': 'FQE', 'observation_shape': (7,), 'action_size': 1}\n"
     ]
    },
    {
     "data": {
      "application/vnd.jupyter.widget-view+json": {
       "model_id": "b0a3120a91dd4c53b694daab4aca4e03",
       "version_major": 2,
       "version_minor": 0
      },
      "text/plain": [
       "Epoch 1/1:   0%|          | 0/56 [00:00<?, ?it/s]"
      ]
     },
     "metadata": {},
     "output_type": "display_data"
    },
    {
     "name": "stdout",
     "output_type": "stream",
     "text": [
      "2023-03-16 11:10.43 [info     ] FQE_20230316111043: epoch=1 step=56 epoch=1 metrics={'time_sample_batch': 8.960281099591936e-05, 'time_algorithm_update': 0.0011657348700932094, 'loss': 13.89557728597096, 'time_step': 0.0013138396399361746} step=56\n",
      "2023-03-16 11:10.43 [info     ] Model parameters are saved to d3rlpy_logs/FQE_20230316111043/model_56.pt\n"
     ]
    },
    {
     "data": {
      "application/vnd.jupyter.widget-view+json": {
       "model_id": "88f414e45f274b04a7bf2ec8f762b512",
       "version_major": 2,
       "version_minor": 0
      },
      "text/plain": [
       "[fit MWL model]:   0%|          | 0/2 [00:00<?, ?it/s]"
      ]
     },
     "metadata": {},
     "output_type": "display_data"
    },
    {
     "data": {
      "application/vnd.jupyter.widget-view+json": {
       "model_id": "977731b9ec744f3094cc3a3c8701851c",
       "version_major": 2,
       "version_minor": 0
      },
      "text/plain": [
       "[fitting_weight_function]:   0%|          | 0/100 [00:00<?, ?it/s]"
      ]
     },
     "metadata": {},
     "output_type": "display_data"
    },
    {
     "data": {
      "application/vnd.jupyter.widget-view+json": {
       "model_id": "33def4837ed54a4090dc128588a83cb8",
       "version_major": 2,
       "version_minor": 0
      },
      "text/plain": [
       "[fitting_weight_function]:   0%|          | 0/100 [00:00<?, ?it/s]"
      ]
     },
     "metadata": {},
     "output_type": "display_data"
    },
    {
     "data": {
      "application/vnd.jupyter.widget-view+json": {
       "model_id": "bfd07c96508d43d583e72b33e56a9c87",
       "version_major": 2,
       "version_minor": 0
      },
      "text/plain": [
       "[fitting_weight_function]:   0%|          | 0/100 [00:00<?, ?it/s]"
      ]
     },
     "metadata": {},
     "output_type": "display_data"
    },
    {
     "data": {
      "application/vnd.jupyter.widget-view+json": {
       "model_id": "e612712dacd642eaa127303900bf2b1b",
       "version_major": 2,
       "version_minor": 0
      },
      "text/plain": [
       "[fitting_weight_function]:   0%|          | 0/100 [00:00<?, ?it/s]"
      ]
     },
     "metadata": {},
     "output_type": "display_data"
    },
    {
     "data": {
      "application/vnd.jupyter.widget-view+json": {
       "model_id": "2ba2927ecf184fd69713a33cc5d88ab2",
       "version_major": 2,
       "version_minor": 0
      },
      "text/plain": [
       "[collect input data: eval_policy]:   0%|          | 0/2 [00:00<?, ?it/s]"
      ]
     },
     "metadata": {},
     "output_type": "display_data"
    },
    {
     "data": {
      "application/vnd.jupyter.widget-view+json": {
       "model_id": "fc8f10a98a5d44588a761a741198a73f",
       "version_major": 2,
       "version_minor": 0
      },
      "text/plain": [
       "[calculate on-policy policy value]:   0%|          | 0/100 [00:00<?, ?it/s]"
      ]
     },
     "metadata": {},
     "output_type": "display_data"
    },
    {
     "data": {
      "application/vnd.jupyter.widget-view+json": {
       "model_id": "19a45749987e48b9a309e154294c5302",
       "version_major": 2,
       "version_minor": 0
      },
      "text/plain": [
       "[calculate on-policy policy value]:   0%|          | 0/100 [00:00<?, ?it/s]"
      ]
     },
     "metadata": {},
     "output_type": "display_data"
    },
    {
     "data": {
      "application/vnd.jupyter.widget-view+json": {
       "model_id": "da7af00b706549558fa1a542b6015a9b",
       "version_major": 2,
       "version_minor": 0
      },
      "text/plain": [
       "[obtain_trajectories]:   0%|          | 0/800 [00:00<?, ?it/s]"
      ]
     },
     "metadata": {},
     "output_type": "display_data"
    },
    {
     "data": {
      "application/vnd.jupyter.widget-view+json": {
       "model_id": "2fe4c0d5a47846b38d350cf2c30038cc",
       "version_major": 2,
       "version_minor": 0
      },
      "text/plain": [
       "[obtain_trajectories]:   0%|          | 0/800 [00:00<?, ?it/s]"
      ]
     },
     "metadata": {},
     "output_type": "display_data"
    },
    {
     "name": "stdout",
     "output_type": "stream",
     "text": [
      "2023-03-16 11:11.36 [debug    ] RandomIterator is selected.\n",
      "2023-03-16 11:11.36 [info     ] Directory is created at d3rlpy_logs/CQL_20230316111136\n",
      "2023-03-16 11:11.36 [debug    ] Fitting action scaler...       action_scaler=min_max\n",
      "2023-03-16 11:11.36 [debug    ] Building models...\n",
      "2023-03-16 11:11.36 [debug    ] Models have been built.\n",
      "2023-03-16 11:11.36 [info     ] Parameters are saved to d3rlpy_logs/CQL_20230316111136/params.json params={'action_scaler': {'type': 'min_max', 'params': {'minimum': array([0.1]), 'maximum': array([10.])}}, 'actor_encoder_factory': {'type': 'vector', 'params': {'hidden_units': [30, 30], 'activation': 'relu', 'use_batch_norm': False, 'dropout_rate': None, 'use_dense': False}}, 'actor_learning_rate': 0.0001, 'actor_optim_factory': {'optim_cls': 'Adam', 'betas': (0.9, 0.999), 'eps': 1e-08, 'weight_decay': 0, 'amsgrad': False}, 'alpha_learning_rate': 0.0001, 'alpha_optim_factory': {'optim_cls': 'Adam', 'betas': (0.9, 0.999), 'eps': 1e-08, 'weight_decay': 0, 'amsgrad': False}, 'alpha_threshold': 10.0, 'batch_size': 256, 'conservative_weight': 5.0, 'critic_encoder_factory': {'type': 'vector', 'params': {'hidden_units': [30, 30], 'activation': 'relu', 'use_batch_norm': False, 'dropout_rate': None, 'use_dense': False}}, 'critic_learning_rate': 0.0003, 'critic_optim_factory': {'optim_cls': 'Adam', 'betas': (0.9, 0.999), 'eps': 1e-08, 'weight_decay': 0, 'amsgrad': False}, 'gamma': 0.99, 'generated_maxlen': 100000, 'initial_alpha': 1.0, 'initial_temperature': 1.0, 'n_action_samples': 10, 'n_critics': 2, 'n_frames': 1, 'n_steps': 1, 'q_func_factory': {'type': 'mean', 'params': {'share_encoder': False}}, 'real_ratio': 1.0, 'reward_scaler': None, 'scaler': None, 'soft_q_backup': False, 'tau': 0.005, 'temp_learning_rate': 0.0001, 'temp_optim_factory': {'optim_cls': 'Adam', 'betas': (0.9, 0.999), 'eps': 1e-08, 'weight_decay': 0, 'amsgrad': False}, 'use_gpu': None, 'algorithm': 'CQL', 'observation_shape': (7,), 'action_size': 1}\n"
     ]
    },
    {
     "data": {
      "application/vnd.jupyter.widget-view+json": {
       "model_id": "d5c56e7e4f56467eb7154a29baa111a6",
       "version_major": 2,
       "version_minor": 0
      },
      "text/plain": [
       "Epoch 1/1:   0%|          | 0/10000 [00:00<?, ?it/s]"
      ]
     },
     "metadata": {},
     "output_type": "display_data"
    },
    {
     "name": "stdout",
     "output_type": "stream",
     "text": [
      "2023-03-16 11:14.42 [info     ] CQL_20230316111136: epoch=1 step=10000 epoch=1 metrics={'time_sample_batch': 0.0005752004384994507, 'time_algorithm_update': 0.017475944852828978, 'temp_loss': -0.6174994297949598, 'temp': 0.9071940178215504, 'alpha_loss': -14.962748477172852, 'alpha': 1.8193180272459983, 'critic_loss': 59.1079622584343, 'actor_loss': -0.6699389050934463, 'time_step': 0.01853701012134552} step=10000\n",
      "2023-03-16 11:14.42 [info     ] Model parameters are saved to d3rlpy_logs/CQL_20230316111136/model_10000.pt\n"
     ]
    },
    {
     "data": {
      "application/vnd.jupyter.widget-view+json": {
       "model_id": "30881465b75948b0a37730f47115b332",
       "version_major": 2,
       "version_minor": 0
      },
      "text/plain": [
       "[fit FQE model]:   0%|          | 0/2 [00:00<?, ?it/s]"
      ]
     },
     "metadata": {},
     "output_type": "display_data"
    },
    {
     "name": "stdout",
     "output_type": "stream",
     "text": [
      "2023-03-16 11:14.42 [debug    ] RoundIterator is selected.\n",
      "2023-03-16 11:14.42 [info     ] Directory is created at d3rlpy_logs/FQE_20230316111442\n",
      "2023-03-16 11:14.42 [debug    ] Fitting scaler...              scaler=min_max\n",
      "2023-03-16 11:14.42 [debug    ] Fitting action scaler...       action_scaler=min_max\n",
      "2023-03-16 11:14.42 [debug    ] Building models...\n",
      "2023-03-16 11:14.42 [debug    ] Models have been built.\n",
      "2023-03-16 11:14.42 [info     ] Parameters are saved to d3rlpy_logs/FQE_20230316111442/params.json params={'action_scaler': {'type': 'min_max', 'params': {'minimum': array([0.1]), 'maximum': array([10.])}}, 'batch_size': 100, 'encoder_factory': {'type': 'vector', 'params': {'hidden_units': [30, 30], 'activation': 'relu', 'use_batch_norm': False, 'dropout_rate': None, 'use_dense': False}}, 'gamma': 0.95, 'generated_maxlen': 100000, 'learning_rate': 0.0001, 'n_critics': 1, 'n_frames': 1, 'n_steps': 1, 'optim_factory': {'optim_cls': 'Adam', 'betas': (0.9, 0.999), 'eps': 1e-08, 'weight_decay': 0, 'amsgrad': False}, 'q_func_factory': {'type': 'mean', 'params': {'share_encoder': False}}, 'real_ratio': 1.0, 'reward_scaler': None, 'scaler': {'type': 'min_max', 'params': {'maximum': array([6.00000000e+00, 3.00000000e+03, 9.99844840e-01, 3.90000000e+04,\n",
      "       1.00000000e+00, 1.90000000e+01, 9.98788332e+00]), 'minimum': array([0.        , 1.        , 0.        , 0.        , 0.        ,\n",
      "       0.        , 0.00181068])}}, 'target_update_interval': 100, 'use_gpu': None, 'algorithm': 'FQE', 'observation_shape': (7,), 'action_size': 1}\n"
     ]
    },
    {
     "data": {
      "application/vnd.jupyter.widget-view+json": {
       "model_id": "b8ee1bf0ab224aa6a6f90714ac7b021a",
       "version_major": 2,
       "version_minor": 0
      },
      "text/plain": [
       "Epoch 1/1:   0%|          | 0/56 [00:00<?, ?it/s]"
      ]
     },
     "metadata": {},
     "output_type": "display_data"
    },
    {
     "name": "stdout",
     "output_type": "stream",
     "text": [
      "2023-03-16 11:14.42 [info     ] FQE_20230316111442: epoch=1 step=56 epoch=1 metrics={'time_sample_batch': 0.00011501567704336984, 'time_algorithm_update': 0.001939258405140468, 'loss': 13.941352759088788, 'time_step': 0.0021317132881709506} step=56\n",
      "2023-03-16 11:14.42 [info     ] Model parameters are saved to d3rlpy_logs/FQE_20230316111442/model_56.pt\n",
      "2023-03-16 11:14.42 [debug    ] RoundIterator is selected.\n",
      "2023-03-16 11:14.43 [info     ] Directory is created at d3rlpy_logs/FQE_20230316111443\n",
      "2023-03-16 11:14.43 [debug    ] Fitting scaler...              scaler=min_max\n",
      "2023-03-16 11:14.43 [debug    ] Fitting action scaler...       action_scaler=min_max\n",
      "2023-03-16 11:14.43 [debug    ] Building models...\n",
      "2023-03-16 11:14.43 [debug    ] Models have been built.\n",
      "2023-03-16 11:14.43 [info     ] Parameters are saved to d3rlpy_logs/FQE_20230316111443/params.json params={'action_scaler': {'type': 'min_max', 'params': {'minimum': array([0.1]), 'maximum': array([10.])}}, 'batch_size': 100, 'encoder_factory': {'type': 'vector', 'params': {'hidden_units': [30, 30], 'activation': 'relu', 'use_batch_norm': False, 'dropout_rate': None, 'use_dense': False}}, 'gamma': 0.95, 'generated_maxlen': 100000, 'learning_rate': 0.0001, 'n_critics': 1, 'n_frames': 1, 'n_steps': 1, 'optim_factory': {'optim_cls': 'Adam', 'betas': (0.9, 0.999), 'eps': 1e-08, 'weight_decay': 0, 'amsgrad': False}, 'q_func_factory': {'type': 'mean', 'params': {'share_encoder': False}}, 'real_ratio': 1.0, 'reward_scaler': None, 'scaler': {'type': 'min_max', 'params': {'maximum': array([6.00000000e+00, 3.00000000e+03, 9.99844840e-01, 3.90000000e+04,\n",
      "       1.00000000e+00, 1.90000000e+01, 9.98788332e+00]), 'minimum': array([0.        , 1.        , 0.        , 0.        , 0.        ,\n",
      "       0.        , 0.00181068])}}, 'target_update_interval': 100, 'use_gpu': None, 'algorithm': 'FQE', 'observation_shape': (7,), 'action_size': 1}\n"
     ]
    },
    {
     "data": {
      "application/vnd.jupyter.widget-view+json": {
       "model_id": "296a0ce4dffc40189bc76c6f85b0be5d",
       "version_major": 2,
       "version_minor": 0
      },
      "text/plain": [
       "Epoch 1/1:   0%|          | 0/56 [00:00<?, ?it/s]"
      ]
     },
     "metadata": {},
     "output_type": "display_data"
    },
    {
     "name": "stdout",
     "output_type": "stream",
     "text": [
      "2023-03-16 11:14.44 [info     ] FQE_20230316111443: epoch=1 step=56 epoch=1 metrics={'time_sample_batch': 8.799348558698381e-05, 'time_algorithm_update': 0.0010013622897011893, 'loss': 14.18405386379787, 'time_step': 0.0011338847024100168} step=56\n",
      "2023-03-16 11:14.44 [info     ] Model parameters are saved to d3rlpy_logs/FQE_20230316111443/model_56.pt\n"
     ]
    },
    {
     "data": {
      "application/vnd.jupyter.widget-view+json": {
       "model_id": "1a58977b2a5f4af78391d367e972c88c",
       "version_major": 2,
       "version_minor": 0
      },
      "text/plain": [
       "[fit MWL model]:   0%|          | 0/2 [00:00<?, ?it/s]"
      ]
     },
     "metadata": {},
     "output_type": "display_data"
    },
    {
     "data": {
      "application/vnd.jupyter.widget-view+json": {
       "model_id": "718dff38a7834f6dbfd26e10b739cd16",
       "version_major": 2,
       "version_minor": 0
      },
      "text/plain": [
       "[fitting_weight_function]:   0%|          | 0/100 [00:00<?, ?it/s]"
      ]
     },
     "metadata": {},
     "output_type": "display_data"
    },
    {
     "data": {
      "application/vnd.jupyter.widget-view+json": {
       "model_id": "4b7f9af9f70a43e59a7ddab0b752b7de",
       "version_major": 2,
       "version_minor": 0
      },
      "text/plain": [
       "[fitting_weight_function]:   0%|          | 0/100 [00:00<?, ?it/s]"
      ]
     },
     "metadata": {},
     "output_type": "display_data"
    },
    {
     "data": {
      "application/vnd.jupyter.widget-view+json": {
       "model_id": "c21e23d26105420e9d1f2ef0bea9ce7f",
       "version_major": 2,
       "version_minor": 0
      },
      "text/plain": [
       "[fitting_weight_function]:   0%|          | 0/100 [00:00<?, ?it/s]"
      ]
     },
     "metadata": {},
     "output_type": "display_data"
    },
    {
     "data": {
      "application/vnd.jupyter.widget-view+json": {
       "model_id": "97c0f1bdc1e343eea9846f131cce1435",
       "version_major": 2,
       "version_minor": 0
      },
      "text/plain": [
       "[fitting_weight_function]:   0%|          | 0/100 [00:00<?, ?it/s]"
      ]
     },
     "metadata": {},
     "output_type": "display_data"
    },
    {
     "data": {
      "application/vnd.jupyter.widget-view+json": {
       "model_id": "64d5bb491d2b45cfa36518ae60d61947",
       "version_major": 2,
       "version_minor": 0
      },
      "text/plain": [
       "[collect input data: eval_policy]:   0%|          | 0/2 [00:00<?, ?it/s]"
      ]
     },
     "metadata": {},
     "output_type": "display_data"
    },
    {
     "data": {
      "application/vnd.jupyter.widget-view+json": {
       "model_id": "5bd345f5e6c04f4387a17779a85778b2",
       "version_major": 2,
       "version_minor": 0
      },
      "text/plain": [
       "[calculate on-policy policy value]:   0%|          | 0/100 [00:00<?, ?it/s]"
      ]
     },
     "metadata": {},
     "output_type": "display_data"
    },
    {
     "data": {
      "application/vnd.jupyter.widget-view+json": {
       "model_id": "eff10021a0a948068b6aedd73ab06785",
       "version_major": 2,
       "version_minor": 0
      },
      "text/plain": [
       "[calculate on-policy policy value]:   0%|          | 0/100 [00:00<?, ?it/s]"
      ]
     },
     "metadata": {},
     "output_type": "display_data"
    },
    {
     "data": {
      "application/vnd.jupyter.widget-view+json": {
       "model_id": "c92d97ca18a849e1881b3a452b2c28ea",
       "version_major": 2,
       "version_minor": 0
      },
      "text/plain": [
       "[obtain_trajectories]:   0%|          | 0/800 [00:00<?, ?it/s]"
      ]
     },
     "metadata": {},
     "output_type": "display_data"
    },
    {
     "data": {
      "application/vnd.jupyter.widget-view+json": {
       "model_id": "a423ed799a8b4f5d9084e1400c5e6768",
       "version_major": 2,
       "version_minor": 0
      },
      "text/plain": [
       "[obtain_trajectories]:   0%|          | 0/800 [00:00<?, ?it/s]"
      ]
     },
     "metadata": {},
     "output_type": "display_data"
    },
    {
     "name": "stdout",
     "output_type": "stream",
     "text": [
      "2023-03-16 11:15.38 [debug    ] RandomIterator is selected.\n",
      "2023-03-16 11:15.38 [info     ] Directory is created at d3rlpy_logs/CQL_20230316111538\n",
      "2023-03-16 11:15.38 [debug    ] Fitting action scaler...       action_scaler=min_max\n",
      "2023-03-16 11:15.38 [debug    ] Building models...\n",
      "2023-03-16 11:15.38 [debug    ] Models have been built.\n",
      "2023-03-16 11:15.38 [info     ] Parameters are saved to d3rlpy_logs/CQL_20230316111538/params.json params={'action_scaler': {'type': 'min_max', 'params': {'minimum': array([0.1]), 'maximum': array([10.])}}, 'actor_encoder_factory': {'type': 'vector', 'params': {'hidden_units': [30, 30], 'activation': 'relu', 'use_batch_norm': False, 'dropout_rate': None, 'use_dense': False}}, 'actor_learning_rate': 0.0001, 'actor_optim_factory': {'optim_cls': 'Adam', 'betas': (0.9, 0.999), 'eps': 1e-08, 'weight_decay': 0, 'amsgrad': False}, 'alpha_learning_rate': 0.0001, 'alpha_optim_factory': {'optim_cls': 'Adam', 'betas': (0.9, 0.999), 'eps': 1e-08, 'weight_decay': 0, 'amsgrad': False}, 'alpha_threshold': 10.0, 'batch_size': 256, 'conservative_weight': 5.0, 'critic_encoder_factory': {'type': 'vector', 'params': {'hidden_units': [30, 30], 'activation': 'relu', 'use_batch_norm': False, 'dropout_rate': None, 'use_dense': False}}, 'critic_learning_rate': 0.0003, 'critic_optim_factory': {'optim_cls': 'Adam', 'betas': (0.9, 0.999), 'eps': 1e-08, 'weight_decay': 0, 'amsgrad': False}, 'gamma': 0.99, 'generated_maxlen': 100000, 'initial_alpha': 1.0, 'initial_temperature': 1.0, 'n_action_samples': 10, 'n_critics': 2, 'n_frames': 1, 'n_steps': 1, 'q_func_factory': {'type': 'mean', 'params': {'share_encoder': False}}, 'real_ratio': 1.0, 'reward_scaler': None, 'scaler': None, 'soft_q_backup': False, 'tau': 0.005, 'temp_learning_rate': 0.0001, 'temp_optim_factory': {'optim_cls': 'Adam', 'betas': (0.9, 0.999), 'eps': 1e-08, 'weight_decay': 0, 'amsgrad': False}, 'use_gpu': None, 'algorithm': 'CQL', 'observation_shape': (7,), 'action_size': 1}\n"
     ]
    },
    {
     "data": {
      "application/vnd.jupyter.widget-view+json": {
       "model_id": "6ecda7f3e7704ba694ffc3d0c5933688",
       "version_major": 2,
       "version_minor": 0
      },
      "text/plain": [
       "Epoch 1/1:   0%|          | 0/10000 [00:00<?, ?it/s]"
      ]
     },
     "metadata": {},
     "output_type": "display_data"
    },
    {
     "name": "stdout",
     "output_type": "stream",
     "text": [
      "2023-03-16 11:18.43 [info     ] CQL_20230316111538: epoch=1 step=10000 epoch=1 metrics={'time_sample_batch': 0.0005558948755264282, 'time_algorithm_update': 0.017384154772758485, 'temp_loss': -4.839209607923776, 'temp': 1.243184477698803, 'alpha_loss': -15.207209570789336, 'alpha': 1.8164242222070694, 'critic_loss': 46.50671153125763, 'actor_loss': 2.2738240081969647, 'time_step': 0.018415936422348022} step=10000\n",
      "2023-03-16 11:18.43 [info     ] Model parameters are saved to d3rlpy_logs/CQL_20230316111538/model_10000.pt\n"
     ]
    },
    {
     "data": {
      "application/vnd.jupyter.widget-view+json": {
       "model_id": "2a075909965444f0934ed0192eb83d7c",
       "version_major": 2,
       "version_minor": 0
      },
      "text/plain": [
       "[fit FQE model]:   0%|          | 0/2 [00:00<?, ?it/s]"
      ]
     },
     "metadata": {},
     "output_type": "display_data"
    },
    {
     "name": "stdout",
     "output_type": "stream",
     "text": [
      "2023-03-16 11:18.43 [debug    ] RoundIterator is selected.\n",
      "2023-03-16 11:18.43 [info     ] Directory is created at d3rlpy_logs/FQE_20230316111843\n",
      "2023-03-16 11:18.43 [debug    ] Fitting scaler...              scaler=min_max\n",
      "2023-03-16 11:18.43 [debug    ] Fitting action scaler...       action_scaler=min_max\n",
      "2023-03-16 11:18.43 [debug    ] Building models...\n",
      "2023-03-16 11:18.43 [debug    ] Models have been built.\n",
      "2023-03-16 11:18.43 [info     ] Parameters are saved to d3rlpy_logs/FQE_20230316111843/params.json params={'action_scaler': {'type': 'min_max', 'params': {'minimum': array([0.1]), 'maximum': array([10.])}}, 'batch_size': 100, 'encoder_factory': {'type': 'vector', 'params': {'hidden_units': [30, 30], 'activation': 'relu', 'use_batch_norm': False, 'dropout_rate': None, 'use_dense': False}}, 'gamma': 0.95, 'generated_maxlen': 100000, 'learning_rate': 0.0001, 'n_critics': 1, 'n_frames': 1, 'n_steps': 1, 'optim_factory': {'optim_cls': 'Adam', 'betas': (0.9, 0.999), 'eps': 1e-08, 'weight_decay': 0, 'amsgrad': False}, 'q_func_factory': {'type': 'mean', 'params': {'share_encoder': False}}, 'real_ratio': 1.0, 'reward_scaler': None, 'scaler': {'type': 'min_max', 'params': {'maximum': array([6.00000000e+00, 3.00000000e+03, 9.99099910e-01, 4.10000000e+04,\n",
      "       1.00000000e+00, 1.70000000e+01, 9.99751163e+00]), 'minimum': array([0.       , 1.       , 0.       , 0.       , 0.       , 0.       ,\n",
      "       0.0060115])}}, 'target_update_interval': 100, 'use_gpu': None, 'algorithm': 'FQE', 'observation_shape': (7,), 'action_size': 1}\n"
     ]
    },
    {
     "data": {
      "application/vnd.jupyter.widget-view+json": {
       "model_id": "a15b54f14eef4b31ae6e7444abce27be",
       "version_major": 2,
       "version_minor": 0
      },
      "text/plain": [
       "Epoch 1/1:   0%|          | 0/56 [00:00<?, ?it/s]"
      ]
     },
     "metadata": {},
     "output_type": "display_data"
    },
    {
     "name": "stdout",
     "output_type": "stream",
     "text": [
      "2023-03-16 11:18.43 [info     ] FQE_20230316111843: epoch=1 step=56 epoch=1 metrics={'time_sample_batch': 9.162936891828264e-05, 'time_algorithm_update': 0.0010289677551814488, 'loss': 13.703891745635442, 'time_step': 0.0011710992881229945} step=56\n",
      "2023-03-16 11:18.43 [info     ] Model parameters are saved to d3rlpy_logs/FQE_20230316111843/model_56.pt\n",
      "2023-03-16 11:18.43 [debug    ] RoundIterator is selected.\n",
      "2023-03-16 11:18.44 [info     ] Directory is created at d3rlpy_logs/FQE_20230316111844\n",
      "2023-03-16 11:18.44 [debug    ] Fitting scaler...              scaler=min_max\n",
      "2023-03-16 11:18.44 [debug    ] Fitting action scaler...       action_scaler=min_max\n",
      "2023-03-16 11:18.44 [debug    ] Building models...\n",
      "2023-03-16 11:18.44 [debug    ] Models have been built.\n",
      "2023-03-16 11:18.44 [info     ] Parameters are saved to d3rlpy_logs/FQE_20230316111844/params.json params={'action_scaler': {'type': 'min_max', 'params': {'minimum': array([0.1]), 'maximum': array([10.])}}, 'batch_size': 100, 'encoder_factory': {'type': 'vector', 'params': {'hidden_units': [30, 30], 'activation': 'relu', 'use_batch_norm': False, 'dropout_rate': None, 'use_dense': False}}, 'gamma': 0.95, 'generated_maxlen': 100000, 'learning_rate': 0.0001, 'n_critics': 1, 'n_frames': 1, 'n_steps': 1, 'optim_factory': {'optim_cls': 'Adam', 'betas': (0.9, 0.999), 'eps': 1e-08, 'weight_decay': 0, 'amsgrad': False}, 'q_func_factory': {'type': 'mean', 'params': {'share_encoder': False}}, 'real_ratio': 1.0, 'reward_scaler': None, 'scaler': {'type': 'min_max', 'params': {'maximum': array([6.00000000e+00, 3.00000000e+03, 9.99099910e-01, 4.10000000e+04,\n",
      "       1.00000000e+00, 1.70000000e+01, 9.99751163e+00]), 'minimum': array([0.       , 1.       , 0.       , 0.       , 0.       , 0.       ,\n",
      "       0.0060115])}}, 'target_update_interval': 100, 'use_gpu': None, 'algorithm': 'FQE', 'observation_shape': (7,), 'action_size': 1}\n"
     ]
    },
    {
     "data": {
      "application/vnd.jupyter.widget-view+json": {
       "model_id": "15e1afcdcd804f1c9b27990453d881ee",
       "version_major": 2,
       "version_minor": 0
      },
      "text/plain": [
       "Epoch 1/1:   0%|          | 0/56 [00:00<?, ?it/s]"
      ]
     },
     "metadata": {},
     "output_type": "display_data"
    },
    {
     "name": "stdout",
     "output_type": "stream",
     "text": [
      "2023-03-16 11:18.45 [info     ] FQE_20230316111844: epoch=1 step=56 epoch=1 metrics={'time_sample_batch': 7.494006838117327e-05, 'time_algorithm_update': 0.0009108100618634905, 'loss': 13.705142881189074, 'time_step': 0.0010170723710741316} step=56\n",
      "2023-03-16 11:18.45 [info     ] Model parameters are saved to d3rlpy_logs/FQE_20230316111844/model_56.pt\n"
     ]
    },
    {
     "data": {
      "application/vnd.jupyter.widget-view+json": {
       "model_id": "ea07f0f93a4e4d81a4cbd612c216e29a",
       "version_major": 2,
       "version_minor": 0
      },
      "text/plain": [
       "[fit MWL model]:   0%|          | 0/2 [00:00<?, ?it/s]"
      ]
     },
     "metadata": {},
     "output_type": "display_data"
    },
    {
     "data": {
      "application/vnd.jupyter.widget-view+json": {
       "model_id": "bb987a543a9b4179a85aebd861cba29b",
       "version_major": 2,
       "version_minor": 0
      },
      "text/plain": [
       "[fitting_weight_function]:   0%|          | 0/100 [00:00<?, ?it/s]"
      ]
     },
     "metadata": {},
     "output_type": "display_data"
    },
    {
     "data": {
      "application/vnd.jupyter.widget-view+json": {
       "model_id": "4a8d3e5caf5f40fe939edc7ed95336b6",
       "version_major": 2,
       "version_minor": 0
      },
      "text/plain": [
       "[fitting_weight_function]:   0%|          | 0/100 [00:00<?, ?it/s]"
      ]
     },
     "metadata": {},
     "output_type": "display_data"
    },
    {
     "data": {
      "application/vnd.jupyter.widget-view+json": {
       "model_id": "290e5b84eed14d6e9e53a0f6c176a55e",
       "version_major": 2,
       "version_minor": 0
      },
      "text/plain": [
       "[fitting_weight_function]:   0%|          | 0/100 [00:00<?, ?it/s]"
      ]
     },
     "metadata": {},
     "output_type": "display_data"
    },
    {
     "data": {
      "application/vnd.jupyter.widget-view+json": {
       "model_id": "85862dee8f6e46a5941fe457b3cf166b",
       "version_major": 2,
       "version_minor": 0
      },
      "text/plain": [
       "[fitting_weight_function]:   0%|          | 0/100 [00:00<?, ?it/s]"
      ]
     },
     "metadata": {},
     "output_type": "display_data"
    },
    {
     "data": {
      "application/vnd.jupyter.widget-view+json": {
       "model_id": "0c25ba052e2a4cd39cf232da7ad94966",
       "version_major": 2,
       "version_minor": 0
      },
      "text/plain": [
       "[collect input data: eval_policy]:   0%|          | 0/2 [00:00<?, ?it/s]"
      ]
     },
     "metadata": {},
     "output_type": "display_data"
    },
    {
     "data": {
      "application/vnd.jupyter.widget-view+json": {
       "model_id": "dee29a82d7084268a6742896c7f0e274",
       "version_major": 2,
       "version_minor": 0
      },
      "text/plain": [
       "[calculate on-policy policy value]:   0%|          | 0/100 [00:00<?, ?it/s]"
      ]
     },
     "metadata": {},
     "output_type": "display_data"
    },
    {
     "data": {
      "application/vnd.jupyter.widget-view+json": {
       "model_id": "7efd21c7aa694834a1a5f4e852439a1e",
       "version_major": 2,
       "version_minor": 0
      },
      "text/plain": [
       "[calculate on-policy policy value]:   0%|          | 0/100 [00:00<?, ?it/s]"
      ]
     },
     "metadata": {},
     "output_type": "display_data"
    },
    {
     "data": {
      "application/vnd.jupyter.widget-view+json": {
       "model_id": "a7aa83116ceb40f58efbe67a725ed8bd",
       "version_major": 2,
       "version_minor": 0
      },
      "text/plain": [
       "[obtain_trajectories]:   0%|          | 0/800 [00:00<?, ?it/s]"
      ]
     },
     "metadata": {},
     "output_type": "display_data"
    },
    {
     "data": {
      "application/vnd.jupyter.widget-view+json": {
       "model_id": "fe055a7dfedd41d7b2c213a3d4b7af16",
       "version_major": 2,
       "version_minor": 0
      },
      "text/plain": [
       "[obtain_trajectories]:   0%|          | 0/800 [00:00<?, ?it/s]"
      ]
     },
     "metadata": {},
     "output_type": "display_data"
    },
    {
     "name": "stdout",
     "output_type": "stream",
     "text": [
      "2023-03-16 11:19.34 [debug    ] RandomIterator is selected.\n",
      "2023-03-16 11:19.34 [info     ] Directory is created at d3rlpy_logs/CQL_20230316111934\n",
      "2023-03-16 11:19.34 [debug    ] Fitting action scaler...       action_scaler=min_max\n",
      "2023-03-16 11:19.34 [debug    ] Building models...\n",
      "2023-03-16 11:19.34 [debug    ] Models have been built.\n",
      "2023-03-16 11:19.34 [info     ] Parameters are saved to d3rlpy_logs/CQL_20230316111934/params.json params={'action_scaler': {'type': 'min_max', 'params': {'minimum': array([0.1]), 'maximum': array([10.])}}, 'actor_encoder_factory': {'type': 'vector', 'params': {'hidden_units': [30, 30], 'activation': 'relu', 'use_batch_norm': False, 'dropout_rate': None, 'use_dense': False}}, 'actor_learning_rate': 0.0001, 'actor_optim_factory': {'optim_cls': 'Adam', 'betas': (0.9, 0.999), 'eps': 1e-08, 'weight_decay': 0, 'amsgrad': False}, 'alpha_learning_rate': 0.0001, 'alpha_optim_factory': {'optim_cls': 'Adam', 'betas': (0.9, 0.999), 'eps': 1e-08, 'weight_decay': 0, 'amsgrad': False}, 'alpha_threshold': 10.0, 'batch_size': 256, 'conservative_weight': 5.0, 'critic_encoder_factory': {'type': 'vector', 'params': {'hidden_units': [30, 30], 'activation': 'relu', 'use_batch_norm': False, 'dropout_rate': None, 'use_dense': False}}, 'critic_learning_rate': 0.0003, 'critic_optim_factory': {'optim_cls': 'Adam', 'betas': (0.9, 0.999), 'eps': 1e-08, 'weight_decay': 0, 'amsgrad': False}, 'gamma': 0.99, 'generated_maxlen': 100000, 'initial_alpha': 1.0, 'initial_temperature': 1.0, 'n_action_samples': 10, 'n_critics': 2, 'n_frames': 1, 'n_steps': 1, 'q_func_factory': {'type': 'mean', 'params': {'share_encoder': False}}, 'real_ratio': 1.0, 'reward_scaler': None, 'scaler': None, 'soft_q_backup': False, 'tau': 0.005, 'temp_learning_rate': 0.0001, 'temp_optim_factory': {'optim_cls': 'Adam', 'betas': (0.9, 0.999), 'eps': 1e-08, 'weight_decay': 0, 'amsgrad': False}, 'use_gpu': None, 'algorithm': 'CQL', 'observation_shape': (7,), 'action_size': 1}\n"
     ]
    },
    {
     "data": {
      "application/vnd.jupyter.widget-view+json": {
       "model_id": "2065c12a97b74c73af54257e5b05c789",
       "version_major": 2,
       "version_minor": 0
      },
      "text/plain": [
       "Epoch 1/1:   0%|          | 0/10000 [00:00<?, ?it/s]"
      ]
     },
     "metadata": {},
     "output_type": "display_data"
    },
    {
     "name": "stdout",
     "output_type": "stream",
     "text": [
      "2023-03-16 11:22.25 [info     ] CQL_20230316111934: epoch=1 step=10000 epoch=1 metrics={'time_sample_batch': 0.0005345026969909667, 'time_algorithm_update': 0.016075968623161317, 'temp_loss': -11.67296160902977, 'temp': 1.6603314064025878, 'alpha_loss': -14.202981369256973, 'alpha': 1.8111178298950195, 'critic_loss': 386.55129033527373, 'actor_loss': 15.739544614541531, 'time_step': 0.017050478601455688} step=10000\n",
      "2023-03-16 11:22.25 [info     ] Model parameters are saved to d3rlpy_logs/CQL_20230316111934/model_10000.pt\n"
     ]
    },
    {
     "data": {
      "application/vnd.jupyter.widget-view+json": {
       "model_id": "3d937abf454d418fb8b2cf741d7280ff",
       "version_major": 2,
       "version_minor": 0
      },
      "text/plain": [
       "[fit FQE model]:   0%|          | 0/2 [00:00<?, ?it/s]"
      ]
     },
     "metadata": {},
     "output_type": "display_data"
    },
    {
     "name": "stdout",
     "output_type": "stream",
     "text": [
      "2023-03-16 11:22.25 [debug    ] RoundIterator is selected.\n",
      "2023-03-16 11:22.25 [info     ] Directory is created at d3rlpy_logs/FQE_20230316112225\n",
      "2023-03-16 11:22.25 [debug    ] Fitting scaler...              scaler=min_max\n",
      "2023-03-16 11:22.25 [debug    ] Fitting action scaler...       action_scaler=min_max\n",
      "2023-03-16 11:22.25 [debug    ] Building models...\n",
      "2023-03-16 11:22.25 [debug    ] Models have been built.\n",
      "2023-03-16 11:22.25 [info     ] Parameters are saved to d3rlpy_logs/FQE_20230316112225/params.json params={'action_scaler': {'type': 'min_max', 'params': {'minimum': array([0.1]), 'maximum': array([10.])}}, 'batch_size': 100, 'encoder_factory': {'type': 'vector', 'params': {'hidden_units': [30, 30], 'activation': 'relu', 'use_batch_norm': False, 'dropout_rate': None, 'use_dense': False}}, 'gamma': 0.95, 'generated_maxlen': 100000, 'learning_rate': 0.0001, 'n_critics': 1, 'n_frames': 1, 'n_steps': 1, 'optim_factory': {'optim_cls': 'Adam', 'betas': (0.9, 0.999), 'eps': 1e-08, 'weight_decay': 0, 'amsgrad': False}, 'q_func_factory': {'type': 'mean', 'params': {'share_encoder': False}}, 'real_ratio': 1.0, 'reward_scaler': None, 'scaler': {'type': 'min_max', 'params': {'maximum': array([6.00000000e+00, 3.00000000e+03, 9.99171500e-01, 5.07500000e+04,\n",
      "       1.00000000e+00, 2.00000000e+01, 9.96084205e+00]), 'minimum': array([0.00000000e+00, 1.00000000e+00, 0.00000000e+00, 0.00000000e+00,\n",
      "       0.00000000e+00, 0.00000000e+00, 2.29061621e-04])}}, 'target_update_interval': 100, 'use_gpu': None, 'algorithm': 'FQE', 'observation_shape': (7,), 'action_size': 1}\n"
     ]
    },
    {
     "data": {
      "application/vnd.jupyter.widget-view+json": {
       "model_id": "8fc2f134ad09485b8bb154a97ab097d8",
       "version_major": 2,
       "version_minor": 0
      },
      "text/plain": [
       "Epoch 1/1:   0%|          | 0/56 [00:00<?, ?it/s]"
      ]
     },
     "metadata": {},
     "output_type": "display_data"
    },
    {
     "name": "stdout",
     "output_type": "stream",
     "text": [
      "2023-03-16 11:22.25 [info     ] FQE_20230316112225: epoch=1 step=56 epoch=1 metrics={'time_sample_batch': 8.630752563476562e-05, 'time_algorithm_update': 0.001020627362387521, 'loss': 12.837564834526606, 'time_step': 0.0011586248874664307} step=56\n",
      "2023-03-16 11:22.25 [info     ] Model parameters are saved to d3rlpy_logs/FQE_20230316112225/model_56.pt\n",
      "2023-03-16 11:22.25 [debug    ] RoundIterator is selected.\n",
      "2023-03-16 11:22.26 [info     ] Directory is created at d3rlpy_logs/FQE_20230316112226\n",
      "2023-03-16 11:22.26 [debug    ] Fitting scaler...              scaler=min_max\n",
      "2023-03-16 11:22.26 [debug    ] Fitting action scaler...       action_scaler=min_max\n",
      "2023-03-16 11:22.26 [debug    ] Building models...\n",
      "2023-03-16 11:22.26 [debug    ] Models have been built.\n",
      "2023-03-16 11:22.26 [info     ] Parameters are saved to d3rlpy_logs/FQE_20230316112226/params.json params={'action_scaler': {'type': 'min_max', 'params': {'minimum': array([0.1]), 'maximum': array([10.])}}, 'batch_size': 100, 'encoder_factory': {'type': 'vector', 'params': {'hidden_units': [30, 30], 'activation': 'relu', 'use_batch_norm': False, 'dropout_rate': None, 'use_dense': False}}, 'gamma': 0.95, 'generated_maxlen': 100000, 'learning_rate': 0.0001, 'n_critics': 1, 'n_frames': 1, 'n_steps': 1, 'optim_factory': {'optim_cls': 'Adam', 'betas': (0.9, 0.999), 'eps': 1e-08, 'weight_decay': 0, 'amsgrad': False}, 'q_func_factory': {'type': 'mean', 'params': {'share_encoder': False}}, 'real_ratio': 1.0, 'reward_scaler': None, 'scaler': {'type': 'min_max', 'params': {'maximum': array([6.00000000e+00, 3.00000000e+03, 9.99171500e-01, 5.07500000e+04,\n",
      "       1.00000000e+00, 2.00000000e+01, 9.96084205e+00]), 'minimum': array([0.00000000e+00, 1.00000000e+00, 0.00000000e+00, 0.00000000e+00,\n",
      "       0.00000000e+00, 0.00000000e+00, 2.29061621e-04])}}, 'target_update_interval': 100, 'use_gpu': None, 'algorithm': 'FQE', 'observation_shape': (7,), 'action_size': 1}\n"
     ]
    },
    {
     "data": {
      "application/vnd.jupyter.widget-view+json": {
       "model_id": "17e7fce6cabf4cc9b7ff4e4f9b89c606",
       "version_major": 2,
       "version_minor": 0
      },
      "text/plain": [
       "Epoch 1/1:   0%|          | 0/56 [00:00<?, ?it/s]"
      ]
     },
     "metadata": {},
     "output_type": "display_data"
    },
    {
     "name": "stdout",
     "output_type": "stream",
     "text": [
      "2023-03-16 11:22.26 [info     ] FQE_20230316112226: epoch=1 step=56 epoch=1 metrics={'time_sample_batch': 8.21394579751151e-05, 'time_algorithm_update': 0.0009512220110212054, 'loss': 13.389856278896332, 'time_step': 0.0010793038776942662} step=56\n",
      "2023-03-16 11:22.26 [info     ] Model parameters are saved to d3rlpy_logs/FQE_20230316112226/model_56.pt\n"
     ]
    },
    {
     "data": {
      "application/vnd.jupyter.widget-view+json": {
       "model_id": "6915bd4db6ad4737943d25d615b9ad83",
       "version_major": 2,
       "version_minor": 0
      },
      "text/plain": [
       "[fit MWL model]:   0%|          | 0/2 [00:00<?, ?it/s]"
      ]
     },
     "metadata": {},
     "output_type": "display_data"
    },
    {
     "data": {
      "application/vnd.jupyter.widget-view+json": {
       "model_id": "7e96d348b1ca4cf598b084db4041e6b4",
       "version_major": 2,
       "version_minor": 0
      },
      "text/plain": [
       "[fitting_weight_function]:   0%|          | 0/100 [00:00<?, ?it/s]"
      ]
     },
     "metadata": {},
     "output_type": "display_data"
    },
    {
     "data": {
      "application/vnd.jupyter.widget-view+json": {
       "model_id": "5dac10e4e0b64831b25feee04cb5fd08",
       "version_major": 2,
       "version_minor": 0
      },
      "text/plain": [
       "[fitting_weight_function]:   0%|          | 0/100 [00:00<?, ?it/s]"
      ]
     },
     "metadata": {},
     "output_type": "display_data"
    },
    {
     "data": {
      "application/vnd.jupyter.widget-view+json": {
       "model_id": "ca987d3a3754453789791d18273b8bce",
       "version_major": 2,
       "version_minor": 0
      },
      "text/plain": [
       "[fitting_weight_function]:   0%|          | 0/100 [00:00<?, ?it/s]"
      ]
     },
     "metadata": {},
     "output_type": "display_data"
    },
    {
     "data": {
      "application/vnd.jupyter.widget-view+json": {
       "model_id": "48232f287cc240f594528a3420c8f647",
       "version_major": 2,
       "version_minor": 0
      },
      "text/plain": [
       "[fitting_weight_function]:   0%|          | 0/100 [00:00<?, ?it/s]"
      ]
     },
     "metadata": {},
     "output_type": "display_data"
    },
    {
     "data": {
      "application/vnd.jupyter.widget-view+json": {
       "model_id": "cdf53a7d571e4e22abca55bbc48336ec",
       "version_major": 2,
       "version_minor": 0
      },
      "text/plain": [
       "[collect input data: eval_policy]:   0%|          | 0/2 [00:00<?, ?it/s]"
      ]
     },
     "metadata": {},
     "output_type": "display_data"
    },
    {
     "data": {
      "application/vnd.jupyter.widget-view+json": {
       "model_id": "ca6909599a244ad286646255a45ac5ec",
       "version_major": 2,
       "version_minor": 0
      },
      "text/plain": [
       "[calculate on-policy policy value]:   0%|          | 0/100 [00:00<?, ?it/s]"
      ]
     },
     "metadata": {},
     "output_type": "display_data"
    },
    {
     "data": {
      "application/vnd.jupyter.widget-view+json": {
       "model_id": "cf8c11f2d4b84a76a643418592ece0fd",
       "version_major": 2,
       "version_minor": 0
      },
      "text/plain": [
       "[calculate on-policy policy value]:   0%|          | 0/100 [00:00<?, ?it/s]"
      ]
     },
     "metadata": {},
     "output_type": "display_data"
    },
    {
     "data": {
      "application/vnd.jupyter.widget-view+json": {
       "model_id": "2f8113032daa4d1cb29dbced8d763071",
       "version_major": 2,
       "version_minor": 0
      },
      "text/plain": [
       "[obtain_trajectories]:   0%|          | 0/800 [00:00<?, ?it/s]"
      ]
     },
     "metadata": {},
     "output_type": "display_data"
    },
    {
     "data": {
      "application/vnd.jupyter.widget-view+json": {
       "model_id": "302f5f5ac5114d7fa37354b1c0021c91",
       "version_major": 2,
       "version_minor": 0
      },
      "text/plain": [
       "[obtain_trajectories]:   0%|          | 0/800 [00:00<?, ?it/s]"
      ]
     },
     "metadata": {},
     "output_type": "display_data"
    },
    {
     "name": "stdout",
     "output_type": "stream",
     "text": [
      "2023-03-16 11:23.15 [debug    ] RandomIterator is selected.\n",
      "2023-03-16 11:23.15 [info     ] Directory is created at d3rlpy_logs/CQL_20230316112315\n",
      "2023-03-16 11:23.15 [debug    ] Fitting action scaler...       action_scaler=min_max\n",
      "2023-03-16 11:23.15 [debug    ] Building models...\n",
      "2023-03-16 11:23.15 [debug    ] Models have been built.\n",
      "2023-03-16 11:23.15 [info     ] Parameters are saved to d3rlpy_logs/CQL_20230316112315/params.json params={'action_scaler': {'type': 'min_max', 'params': {'minimum': array([0.1]), 'maximum': array([10.])}}, 'actor_encoder_factory': {'type': 'vector', 'params': {'hidden_units': [30, 30], 'activation': 'relu', 'use_batch_norm': False, 'dropout_rate': None, 'use_dense': False}}, 'actor_learning_rate': 0.0001, 'actor_optim_factory': {'optim_cls': 'Adam', 'betas': (0.9, 0.999), 'eps': 1e-08, 'weight_decay': 0, 'amsgrad': False}, 'alpha_learning_rate': 0.0001, 'alpha_optim_factory': {'optim_cls': 'Adam', 'betas': (0.9, 0.999), 'eps': 1e-08, 'weight_decay': 0, 'amsgrad': False}, 'alpha_threshold': 10.0, 'batch_size': 256, 'conservative_weight': 5.0, 'critic_encoder_factory': {'type': 'vector', 'params': {'hidden_units': [30, 30], 'activation': 'relu', 'use_batch_norm': False, 'dropout_rate': None, 'use_dense': False}}, 'critic_learning_rate': 0.0003, 'critic_optim_factory': {'optim_cls': 'Adam', 'betas': (0.9, 0.999), 'eps': 1e-08, 'weight_decay': 0, 'amsgrad': False}, 'gamma': 0.99, 'generated_maxlen': 100000, 'initial_alpha': 1.0, 'initial_temperature': 1.0, 'n_action_samples': 10, 'n_critics': 2, 'n_frames': 1, 'n_steps': 1, 'q_func_factory': {'type': 'mean', 'params': {'share_encoder': False}}, 'real_ratio': 1.0, 'reward_scaler': None, 'scaler': None, 'soft_q_backup': False, 'tau': 0.005, 'temp_learning_rate': 0.0001, 'temp_optim_factory': {'optim_cls': 'Adam', 'betas': (0.9, 0.999), 'eps': 1e-08, 'weight_decay': 0, 'amsgrad': False}, 'use_gpu': None, 'algorithm': 'CQL', 'observation_shape': (7,), 'action_size': 1}\n"
     ]
    },
    {
     "data": {
      "application/vnd.jupyter.widget-view+json": {
       "model_id": "81cdb4d354334ab68afa93079fad83e3",
       "version_major": 2,
       "version_minor": 0
      },
      "text/plain": [
       "Epoch 1/1:   0%|          | 0/10000 [00:00<?, ?it/s]"
      ]
     },
     "metadata": {},
     "output_type": "display_data"
    },
    {
     "name": "stdout",
     "output_type": "stream",
     "text": [
      "2023-03-16 11:26.08 [info     ] CQL_20230316112315: epoch=1 step=10000 epoch=1 metrics={'time_sample_batch': 0.0005391143560409546, 'time_algorithm_update': 0.016188291907310484, 'temp_loss': 0.4268217963807285, 'temp': 0.8447585279226303, 'alpha_loss': -15.796332911443711, 'alpha': 1.7830447422623634, 'critic_loss': 93.00246953229905, 'actor_loss': -6.780228266072274, 'time_step': 0.017178083682060242} step=10000\n",
      "2023-03-16 11:26.08 [info     ] Model parameters are saved to d3rlpy_logs/CQL_20230316112315/model_10000.pt\n"
     ]
    },
    {
     "data": {
      "application/vnd.jupyter.widget-view+json": {
       "model_id": "7675baae24a64de8aed481f383a5dbf8",
       "version_major": 2,
       "version_minor": 0
      },
      "text/plain": [
       "[fit FQE model]:   0%|          | 0/2 [00:00<?, ?it/s]"
      ]
     },
     "metadata": {},
     "output_type": "display_data"
    },
    {
     "name": "stdout",
     "output_type": "stream",
     "text": [
      "2023-03-16 11:26.08 [debug    ] RoundIterator is selected.\n",
      "2023-03-16 11:26.08 [info     ] Directory is created at d3rlpy_logs/FQE_20230316112608\n",
      "2023-03-16 11:26.08 [debug    ] Fitting scaler...              scaler=min_max\n",
      "2023-03-16 11:26.08 [debug    ] Fitting action scaler...       action_scaler=min_max\n",
      "2023-03-16 11:26.08 [debug    ] Building models...\n",
      "2023-03-16 11:26.08 [debug    ] Models have been built.\n",
      "2023-03-16 11:26.08 [info     ] Parameters are saved to d3rlpy_logs/FQE_20230316112608/params.json params={'action_scaler': {'type': 'min_max', 'params': {'minimum': array([0.1]), 'maximum': array([10.])}}, 'batch_size': 100, 'encoder_factory': {'type': 'vector', 'params': {'hidden_units': [30, 30], 'activation': 'relu', 'use_batch_norm': False, 'dropout_rate': None, 'use_dense': False}}, 'gamma': 0.95, 'generated_maxlen': 100000, 'learning_rate': 0.0001, 'n_critics': 1, 'n_frames': 1, 'n_steps': 1, 'optim_factory': {'optim_cls': 'Adam', 'betas': (0.9, 0.999), 'eps': 1e-08, 'weight_decay': 0, 'amsgrad': False}, 'q_func_factory': {'type': 'mean', 'params': {'share_encoder': False}}, 'real_ratio': 1.0, 'reward_scaler': None, 'scaler': {'type': 'min_max', 'params': {'maximum': array([6.00000000e+00, 3.00000000e+03, 9.99112689e-01, 4.45000000e+04,\n",
      "       1.00000000e+00, 1.80000000e+01, 9.99638140e+00]), 'minimum': array([0.        , 1.        , 0.        , 0.        , 0.        ,\n",
      "       0.        , 0.00163263])}}, 'target_update_interval': 100, 'use_gpu': None, 'algorithm': 'FQE', 'observation_shape': (7,), 'action_size': 1}\n"
     ]
    },
    {
     "data": {
      "application/vnd.jupyter.widget-view+json": {
       "model_id": "6a5cf48f26b74159a551fa8c448ea7dc",
       "version_major": 2,
       "version_minor": 0
      },
      "text/plain": [
       "Epoch 1/1:   0%|          | 0/56 [00:00<?, ?it/s]"
      ]
     },
     "metadata": {},
     "output_type": "display_data"
    },
    {
     "name": "stdout",
     "output_type": "stream",
     "text": [
      "2023-03-16 11:26.08 [info     ] FQE_20230316112608: epoch=1 step=56 epoch=1 metrics={'time_sample_batch': 7.924011775425502e-05, 'time_algorithm_update': 0.000964526619229998, 'loss': 13.788834026881627, 'time_step': 0.001087895461491176} step=56\n",
      "2023-03-16 11:26.08 [info     ] Model parameters are saved to d3rlpy_logs/FQE_20230316112608/model_56.pt\n",
      "2023-03-16 11:26.08 [debug    ] RoundIterator is selected.\n",
      "2023-03-16 11:26.09 [info     ] Directory is created at d3rlpy_logs/FQE_20230316112609\n",
      "2023-03-16 11:26.09 [debug    ] Fitting scaler...              scaler=min_max\n",
      "2023-03-16 11:26.09 [debug    ] Fitting action scaler...       action_scaler=min_max\n",
      "2023-03-16 11:26.09 [debug    ] Building models...\n",
      "2023-03-16 11:26.09 [debug    ] Models have been built.\n",
      "2023-03-16 11:26.09 [info     ] Parameters are saved to d3rlpy_logs/FQE_20230316112609/params.json params={'action_scaler': {'type': 'min_max', 'params': {'minimum': array([0.1]), 'maximum': array([10.])}}, 'batch_size': 100, 'encoder_factory': {'type': 'vector', 'params': {'hidden_units': [30, 30], 'activation': 'relu', 'use_batch_norm': False, 'dropout_rate': None, 'use_dense': False}}, 'gamma': 0.95, 'generated_maxlen': 100000, 'learning_rate': 0.0001, 'n_critics': 1, 'n_frames': 1, 'n_steps': 1, 'optim_factory': {'optim_cls': 'Adam', 'betas': (0.9, 0.999), 'eps': 1e-08, 'weight_decay': 0, 'amsgrad': False}, 'q_func_factory': {'type': 'mean', 'params': {'share_encoder': False}}, 'real_ratio': 1.0, 'reward_scaler': None, 'scaler': {'type': 'min_max', 'params': {'maximum': array([6.00000000e+00, 3.00000000e+03, 9.99112689e-01, 4.45000000e+04,\n",
      "       1.00000000e+00, 1.80000000e+01, 9.99638140e+00]), 'minimum': array([0.        , 1.        , 0.        , 0.        , 0.        ,\n",
      "       0.        , 0.00163263])}}, 'target_update_interval': 100, 'use_gpu': None, 'algorithm': 'FQE', 'observation_shape': (7,), 'action_size': 1}\n"
     ]
    },
    {
     "data": {
      "application/vnd.jupyter.widget-view+json": {
       "model_id": "6989e4b9ec0c44618028a82823fbce6d",
       "version_major": 2,
       "version_minor": 0
      },
      "text/plain": [
       "Epoch 1/1:   0%|          | 0/56 [00:00<?, ?it/s]"
      ]
     },
     "metadata": {},
     "output_type": "display_data"
    },
    {
     "name": "stdout",
     "output_type": "stream",
     "text": [
      "2023-03-16 11:26.09 [info     ] FQE_20230316112609: epoch=1 step=56 epoch=1 metrics={'time_sample_batch': 7.467184747968401e-05, 'time_algorithm_update': 0.0011006295680999756, 'loss': 13.739021250179835, 'time_step': 0.0012186382498059953} step=56\n",
      "2023-03-16 11:26.09 [info     ] Model parameters are saved to d3rlpy_logs/FQE_20230316112609/model_56.pt\n"
     ]
    },
    {
     "data": {
      "application/vnd.jupyter.widget-view+json": {
       "model_id": "411e6d10f8e34f72b5fb15595ebc6df2",
       "version_major": 2,
       "version_minor": 0
      },
      "text/plain": [
       "[fit MWL model]:   0%|          | 0/2 [00:00<?, ?it/s]"
      ]
     },
     "metadata": {},
     "output_type": "display_data"
    },
    {
     "data": {
      "application/vnd.jupyter.widget-view+json": {
       "model_id": "40f51e0735de4a01b9682305492422da",
       "version_major": 2,
       "version_minor": 0
      },
      "text/plain": [
       "[fitting_weight_function]:   0%|          | 0/100 [00:00<?, ?it/s]"
      ]
     },
     "metadata": {},
     "output_type": "display_data"
    },
    {
     "data": {
      "application/vnd.jupyter.widget-view+json": {
       "model_id": "41cc32dffb9d4bdaae2ec9c50a732380",
       "version_major": 2,
       "version_minor": 0
      },
      "text/plain": [
       "[fitting_weight_function]:   0%|          | 0/100 [00:00<?, ?it/s]"
      ]
     },
     "metadata": {},
     "output_type": "display_data"
    },
    {
     "data": {
      "application/vnd.jupyter.widget-view+json": {
       "model_id": "c4d60ab171e4451e9830d67d95499aff",
       "version_major": 2,
       "version_minor": 0
      },
      "text/plain": [
       "[fitting_weight_function]:   0%|          | 0/100 [00:00<?, ?it/s]"
      ]
     },
     "metadata": {},
     "output_type": "display_data"
    },
    {
     "data": {
      "application/vnd.jupyter.widget-view+json": {
       "model_id": "c2454e559c6e4f5c8189b3acba72406a",
       "version_major": 2,
       "version_minor": 0
      },
      "text/plain": [
       "[fitting_weight_function]:   0%|          | 0/100 [00:00<?, ?it/s]"
      ]
     },
     "metadata": {},
     "output_type": "display_data"
    },
    {
     "data": {
      "application/vnd.jupyter.widget-view+json": {
       "model_id": "95291d9e13514d4fb9c673dbe1ebdac4",
       "version_major": 2,
       "version_minor": 0
      },
      "text/plain": [
       "[collect input data: eval_policy]:   0%|          | 0/2 [00:00<?, ?it/s]"
      ]
     },
     "metadata": {},
     "output_type": "display_data"
    },
    {
     "data": {
      "application/vnd.jupyter.widget-view+json": {
       "model_id": "bbe71ae261d741439b581be5c36b1a1c",
       "version_major": 2,
       "version_minor": 0
      },
      "text/plain": [
       "[calculate on-policy policy value]:   0%|          | 0/100 [00:00<?, ?it/s]"
      ]
     },
     "metadata": {},
     "output_type": "display_data"
    },
    {
     "data": {
      "application/vnd.jupyter.widget-view+json": {
       "model_id": "f977d506e22c4c2d9c22dfa22f1116e2",
       "version_major": 2,
       "version_minor": 0
      },
      "text/plain": [
       "[calculate on-policy policy value]:   0%|          | 0/100 [00:00<?, ?it/s]"
      ]
     },
     "metadata": {},
     "output_type": "display_data"
    },
    {
     "data": {
      "application/vnd.jupyter.widget-view+json": {
       "model_id": "07dbd6f745ed48ca854ffc2cf885f311",
       "version_major": 2,
       "version_minor": 0
      },
      "text/plain": [
       "[obtain_trajectories]:   0%|          | 0/1600 [00:00<?, ?it/s]"
      ]
     },
     "metadata": {},
     "output_type": "display_data"
    },
    {
     "data": {
      "application/vnd.jupyter.widget-view+json": {
       "model_id": "7f1a126a82f14ccd9738a05952b19394",
       "version_major": 2,
       "version_minor": 0
      },
      "text/plain": [
       "[obtain_trajectories]:   0%|          | 0/1600 [00:00<?, ?it/s]"
      ]
     },
     "metadata": {},
     "output_type": "display_data"
    },
    {
     "name": "stdout",
     "output_type": "stream",
     "text": [
      "2023-03-16 11:27.07 [debug    ] RandomIterator is selected.\n",
      "2023-03-16 11:27.07 [info     ] Directory is created at d3rlpy_logs/CQL_20230316112707\n",
      "2023-03-16 11:27.07 [debug    ] Fitting action scaler...       action_scaler=min_max\n",
      "2023-03-16 11:27.07 [debug    ] Building models...\n",
      "2023-03-16 11:27.07 [debug    ] Models have been built.\n",
      "2023-03-16 11:27.07 [info     ] Parameters are saved to d3rlpy_logs/CQL_20230316112707/params.json params={'action_scaler': {'type': 'min_max', 'params': {'minimum': array([0.1]), 'maximum': array([10.])}}, 'actor_encoder_factory': {'type': 'vector', 'params': {'hidden_units': [30, 30], 'activation': 'relu', 'use_batch_norm': False, 'dropout_rate': None, 'use_dense': False}}, 'actor_learning_rate': 0.0001, 'actor_optim_factory': {'optim_cls': 'Adam', 'betas': (0.9, 0.999), 'eps': 1e-08, 'weight_decay': 0, 'amsgrad': False}, 'alpha_learning_rate': 0.0001, 'alpha_optim_factory': {'optim_cls': 'Adam', 'betas': (0.9, 0.999), 'eps': 1e-08, 'weight_decay': 0, 'amsgrad': False}, 'alpha_threshold': 10.0, 'batch_size': 256, 'conservative_weight': 5.0, 'critic_encoder_factory': {'type': 'vector', 'params': {'hidden_units': [30, 30], 'activation': 'relu', 'use_batch_norm': False, 'dropout_rate': None, 'use_dense': False}}, 'critic_learning_rate': 0.0003, 'critic_optim_factory': {'optim_cls': 'Adam', 'betas': (0.9, 0.999), 'eps': 1e-08, 'weight_decay': 0, 'amsgrad': False}, 'gamma': 0.99, 'generated_maxlen': 100000, 'initial_alpha': 1.0, 'initial_temperature': 1.0, 'n_action_samples': 10, 'n_critics': 2, 'n_frames': 1, 'n_steps': 1, 'q_func_factory': {'type': 'mean', 'params': {'share_encoder': False}}, 'real_ratio': 1.0, 'reward_scaler': None, 'scaler': None, 'soft_q_backup': False, 'tau': 0.005, 'temp_learning_rate': 0.0001, 'temp_optim_factory': {'optim_cls': 'Adam', 'betas': (0.9, 0.999), 'eps': 1e-08, 'weight_decay': 0, 'amsgrad': False}, 'use_gpu': None, 'algorithm': 'CQL', 'observation_shape': (7,), 'action_size': 1}\n"
     ]
    },
    {
     "data": {
      "application/vnd.jupyter.widget-view+json": {
       "model_id": "25fbf77b3582425fbe7004ea84b41a1f",
       "version_major": 2,
       "version_minor": 0
      },
      "text/plain": [
       "Epoch 1/1:   0%|          | 0/10000 [00:00<?, ?it/s]"
      ]
     },
     "metadata": {},
     "output_type": "display_data"
    },
    {
     "name": "stdout",
     "output_type": "stream",
     "text": [
      "2023-03-16 11:30.00 [info     ] CQL_20230316112707: epoch=1 step=10000 epoch=1 metrics={'time_sample_batch': 0.0005485137939453125, 'time_algorithm_update': 0.016191861176490782, 'temp_loss': -0.6956621772527695, 'temp': 0.9416302332997322, 'alpha_loss': -15.679613249492645, 'alpha': 1.7979492899894713, 'critic_loss': 91.73362292470932, 'actor_loss': -1.9762570589113981, 'time_step': 0.017194356417655945} step=10000\n",
      "2023-03-16 11:30.00 [info     ] Model parameters are saved to d3rlpy_logs/CQL_20230316112707/model_10000.pt\n"
     ]
    },
    {
     "data": {
      "application/vnd.jupyter.widget-view+json": {
       "model_id": "4fe78f2d270d45f69a2b6f349559e0b0",
       "version_major": 2,
       "version_minor": 0
      },
      "text/plain": [
       "[fit FQE model]:   0%|          | 0/2 [00:00<?, ?it/s]"
      ]
     },
     "metadata": {},
     "output_type": "display_data"
    },
    {
     "name": "stdout",
     "output_type": "stream",
     "text": [
      "2023-03-16 11:30.00 [debug    ] RoundIterator is selected.\n",
      "2023-03-16 11:30.00 [info     ] Directory is created at d3rlpy_logs/FQE_20230316113000\n",
      "2023-03-16 11:30.00 [debug    ] Fitting scaler...              scaler=min_max\n",
      "2023-03-16 11:30.00 [debug    ] Fitting action scaler...       action_scaler=min_max\n",
      "2023-03-16 11:30.00 [debug    ] Building models...\n",
      "2023-03-16 11:30.00 [debug    ] Models have been built.\n",
      "2023-03-16 11:30.00 [info     ] Parameters are saved to d3rlpy_logs/FQE_20230316113000/params.json params={'action_scaler': {'type': 'min_max', 'params': {'minimum': array([0.1]), 'maximum': array([10.])}}, 'batch_size': 100, 'encoder_factory': {'type': 'vector', 'params': {'hidden_units': [30, 30], 'activation': 'relu', 'use_batch_norm': False, 'dropout_rate': None, 'use_dense': False}}, 'gamma': 0.95, 'generated_maxlen': 100000, 'learning_rate': 0.0001, 'n_critics': 1, 'n_frames': 1, 'n_steps': 1, 'optim_factory': {'optim_cls': 'Adam', 'betas': (0.9, 0.999), 'eps': 1e-08, 'weight_decay': 0, 'amsgrad': False}, 'q_func_factory': {'type': 'mean', 'params': {'share_encoder': False}}, 'real_ratio': 1.0, 'reward_scaler': None, 'scaler': {'type': 'min_max', 'params': {'maximum': array([6.00000000e+00, 3.00000000e+03, 9.99684034e-01, 5.20000000e+04,\n",
      "       1.00000000e+00, 2.00000000e+01, 9.99575915e+00]), 'minimum': array([0.00000000e+00, 1.00000000e+00, 0.00000000e+00, 0.00000000e+00,\n",
      "       0.00000000e+00, 0.00000000e+00, 4.86144559e-05])}}, 'target_update_interval': 100, 'use_gpu': None, 'algorithm': 'FQE', 'observation_shape': (7,), 'action_size': 1}\n"
     ]
    },
    {
     "data": {
      "application/vnd.jupyter.widget-view+json": {
       "model_id": "07407ba27a974ca0bfb18a242f2624e6",
       "version_major": 2,
       "version_minor": 0
      },
      "text/plain": [
       "Epoch 1/1:   0%|          | 0/112 [00:00<?, ?it/s]"
      ]
     },
     "metadata": {},
     "output_type": "display_data"
    },
    {
     "name": "stdout",
     "output_type": "stream",
     "text": [
      "2023-03-16 11:30.01 [info     ] FQE_20230316113000: epoch=1 step=112 epoch=1 metrics={'time_sample_batch': 8.679500647953578e-05, 'time_algorithm_update': 0.0009771777050835745, 'loss': 14.416965663433075, 'time_step': 0.0011082653488431657} step=112\n",
      "2023-03-16 11:30.01 [info     ] Model parameters are saved to d3rlpy_logs/FQE_20230316113000/model_112.pt\n",
      "2023-03-16 11:30.01 [debug    ] RoundIterator is selected.\n",
      "2023-03-16 11:30.01 [info     ] Directory is created at d3rlpy_logs/FQE_20230316113001\n",
      "2023-03-16 11:30.01 [debug    ] Fitting scaler...              scaler=min_max\n",
      "2023-03-16 11:30.01 [debug    ] Fitting action scaler...       action_scaler=min_max\n",
      "2023-03-16 11:30.01 [debug    ] Building models...\n",
      "2023-03-16 11:30.01 [debug    ] Models have been built.\n",
      "2023-03-16 11:30.01 [info     ] Parameters are saved to d3rlpy_logs/FQE_20230316113001/params.json params={'action_scaler': {'type': 'min_max', 'params': {'minimum': array([0.1]), 'maximum': array([10.])}}, 'batch_size': 100, 'encoder_factory': {'type': 'vector', 'params': {'hidden_units': [30, 30], 'activation': 'relu', 'use_batch_norm': False, 'dropout_rate': None, 'use_dense': False}}, 'gamma': 0.95, 'generated_maxlen': 100000, 'learning_rate': 0.0001, 'n_critics': 1, 'n_frames': 1, 'n_steps': 1, 'optim_factory': {'optim_cls': 'Adam', 'betas': (0.9, 0.999), 'eps': 1e-08, 'weight_decay': 0, 'amsgrad': False}, 'q_func_factory': {'type': 'mean', 'params': {'share_encoder': False}}, 'real_ratio': 1.0, 'reward_scaler': None, 'scaler': {'type': 'min_max', 'params': {'maximum': array([6.00000000e+00, 3.00000000e+03, 9.99684034e-01, 5.20000000e+04,\n",
      "       1.00000000e+00, 2.00000000e+01, 9.99575915e+00]), 'minimum': array([0.00000000e+00, 1.00000000e+00, 0.00000000e+00, 0.00000000e+00,\n",
      "       0.00000000e+00, 0.00000000e+00, 4.86144559e-05])}}, 'target_update_interval': 100, 'use_gpu': None, 'algorithm': 'FQE', 'observation_shape': (7,), 'action_size': 1}\n"
     ]
    },
    {
     "data": {
      "application/vnd.jupyter.widget-view+json": {
       "model_id": "4c1bf969ded54048a06e6a839c936e83",
       "version_major": 2,
       "version_minor": 0
      },
      "text/plain": [
       "Epoch 1/1:   0%|          | 0/112 [00:00<?, ?it/s]"
      ]
     },
     "metadata": {},
     "output_type": "display_data"
    },
    {
     "name": "stdout",
     "output_type": "stream",
     "text": [
      "2023-03-16 11:30.01 [info     ] FQE_20230316113001: epoch=1 step=112 epoch=1 metrics={'time_sample_batch': 9.443717343466622e-05, 'time_algorithm_update': 0.0010846023048673356, 'loss': 13.937425928456443, 'time_step': 0.0012309466089521135} step=112\n",
      "2023-03-16 11:30.01 [info     ] Model parameters are saved to d3rlpy_logs/FQE_20230316113001/model_112.pt\n"
     ]
    },
    {
     "data": {
      "application/vnd.jupyter.widget-view+json": {
       "model_id": "c1c9921a17b24aa7b6cf6627202b5d97",
       "version_major": 2,
       "version_minor": 0
      },
      "text/plain": [
       "[fit MWL model]:   0%|          | 0/2 [00:00<?, ?it/s]"
      ]
     },
     "metadata": {},
     "output_type": "display_data"
    },
    {
     "data": {
      "application/vnd.jupyter.widget-view+json": {
       "model_id": "eead8891a17a46d0aacc5b4fd9d60121",
       "version_major": 2,
       "version_minor": 0
      },
      "text/plain": [
       "[fitting_weight_function]:   0%|          | 0/100 [00:00<?, ?it/s]"
      ]
     },
     "metadata": {},
     "output_type": "display_data"
    },
    {
     "data": {
      "application/vnd.jupyter.widget-view+json": {
       "model_id": "ab72cad0e0b24ef2b3b44eef213b3feb",
       "version_major": 2,
       "version_minor": 0
      },
      "text/plain": [
       "[fitting_weight_function]:   0%|          | 0/100 [00:00<?, ?it/s]"
      ]
     },
     "metadata": {},
     "output_type": "display_data"
    },
    {
     "data": {
      "application/vnd.jupyter.widget-view+json": {
       "model_id": "94263e2d13cf49f18867f44ec867f3d0",
       "version_major": 2,
       "version_minor": 0
      },
      "text/plain": [
       "[fitting_weight_function]:   0%|          | 0/100 [00:00<?, ?it/s]"
      ]
     },
     "metadata": {},
     "output_type": "display_data"
    },
    {
     "data": {
      "application/vnd.jupyter.widget-view+json": {
       "model_id": "4cca5459199b490fbd1823f44b6a7771",
       "version_major": 2,
       "version_minor": 0
      },
      "text/plain": [
       "[fitting_weight_function]:   0%|          | 0/100 [00:00<?, ?it/s]"
      ]
     },
     "metadata": {},
     "output_type": "display_data"
    },
    {
     "data": {
      "application/vnd.jupyter.widget-view+json": {
       "model_id": "044ba975023b4f67850c6d26ed18de99",
       "version_major": 2,
       "version_minor": 0
      },
      "text/plain": [
       "[collect input data: eval_policy]:   0%|          | 0/2 [00:00<?, ?it/s]"
      ]
     },
     "metadata": {},
     "output_type": "display_data"
    },
    {
     "data": {
      "application/vnd.jupyter.widget-view+json": {
       "model_id": "c42bf71ac38d464aaacd568943c02e5c",
       "version_major": 2,
       "version_minor": 0
      },
      "text/plain": [
       "[calculate on-policy policy value]:   0%|          | 0/100 [00:00<?, ?it/s]"
      ]
     },
     "metadata": {},
     "output_type": "display_data"
    },
    {
     "data": {
      "application/vnd.jupyter.widget-view+json": {
       "model_id": "c654561b4c90486b979cab7f102e39e0",
       "version_major": 2,
       "version_minor": 0
      },
      "text/plain": [
       "[calculate on-policy policy value]:   0%|          | 0/100 [00:00<?, ?it/s]"
      ]
     },
     "metadata": {},
     "output_type": "display_data"
    },
    {
     "data": {
      "application/vnd.jupyter.widget-view+json": {
       "model_id": "552bff15ab2d4938a53490d371eae263",
       "version_major": 2,
       "version_minor": 0
      },
      "text/plain": [
       "[obtain_trajectories]:   0%|          | 0/1600 [00:00<?, ?it/s]"
      ]
     },
     "metadata": {},
     "output_type": "display_data"
    },
    {
     "data": {
      "application/vnd.jupyter.widget-view+json": {
       "model_id": "35f62499501d4ea385a34cddc0133419",
       "version_major": 2,
       "version_minor": 0
      },
      "text/plain": [
       "[obtain_trajectories]:   0%|          | 0/1600 [00:00<?, ?it/s]"
      ]
     },
     "metadata": {},
     "output_type": "display_data"
    },
    {
     "name": "stdout",
     "output_type": "stream",
     "text": [
      "2023-03-16 11:31.00 [debug    ] RandomIterator is selected.\n",
      "2023-03-16 11:31.00 [info     ] Directory is created at d3rlpy_logs/CQL_20230316113100\n",
      "2023-03-16 11:31.00 [debug    ] Fitting action scaler...       action_scaler=min_max\n",
      "2023-03-16 11:31.00 [debug    ] Building models...\n",
      "2023-03-16 11:31.00 [debug    ] Models have been built.\n",
      "2023-03-16 11:31.00 [info     ] Parameters are saved to d3rlpy_logs/CQL_20230316113100/params.json params={'action_scaler': {'type': 'min_max', 'params': {'minimum': array([0.1]), 'maximum': array([10.])}}, 'actor_encoder_factory': {'type': 'vector', 'params': {'hidden_units': [30, 30], 'activation': 'relu', 'use_batch_norm': False, 'dropout_rate': None, 'use_dense': False}}, 'actor_learning_rate': 0.0001, 'actor_optim_factory': {'optim_cls': 'Adam', 'betas': (0.9, 0.999), 'eps': 1e-08, 'weight_decay': 0, 'amsgrad': False}, 'alpha_learning_rate': 0.0001, 'alpha_optim_factory': {'optim_cls': 'Adam', 'betas': (0.9, 0.999), 'eps': 1e-08, 'weight_decay': 0, 'amsgrad': False}, 'alpha_threshold': 10.0, 'batch_size': 256, 'conservative_weight': 5.0, 'critic_encoder_factory': {'type': 'vector', 'params': {'hidden_units': [30, 30], 'activation': 'relu', 'use_batch_norm': False, 'dropout_rate': None, 'use_dense': False}}, 'critic_learning_rate': 0.0003, 'critic_optim_factory': {'optim_cls': 'Adam', 'betas': (0.9, 0.999), 'eps': 1e-08, 'weight_decay': 0, 'amsgrad': False}, 'gamma': 0.99, 'generated_maxlen': 100000, 'initial_alpha': 1.0, 'initial_temperature': 1.0, 'n_action_samples': 10, 'n_critics': 2, 'n_frames': 1, 'n_steps': 1, 'q_func_factory': {'type': 'mean', 'params': {'share_encoder': False}}, 'real_ratio': 1.0, 'reward_scaler': None, 'scaler': None, 'soft_q_backup': False, 'tau': 0.005, 'temp_learning_rate': 0.0001, 'temp_optim_factory': {'optim_cls': 'Adam', 'betas': (0.9, 0.999), 'eps': 1e-08, 'weight_decay': 0, 'amsgrad': False}, 'use_gpu': None, 'algorithm': 'CQL', 'observation_shape': (7,), 'action_size': 1}\n"
     ]
    },
    {
     "data": {
      "application/vnd.jupyter.widget-view+json": {
       "model_id": "0a02fc5026a84cbf8f08f875a8aed140",
       "version_major": 2,
       "version_minor": 0
      },
      "text/plain": [
       "Epoch 1/1:   0%|          | 0/10000 [00:00<?, ?it/s]"
      ]
     },
     "metadata": {},
     "output_type": "display_data"
    },
    {
     "name": "stdout",
     "output_type": "stream",
     "text": [
      "2023-03-16 11:33.50 [info     ] CQL_20230316113100: epoch=1 step=10000 epoch=1 metrics={'time_sample_batch': 0.0005433667421340943, 'time_algorithm_update': 0.015955440735816957, 'temp_loss': -0.6270987269150093, 'temp': 0.9068612198352813, 'alpha_loss': -15.150823984479905, 'alpha': 1.818733651947975, 'critic_loss': 66.49608060703278, 'actor_loss': -0.5003172921223565, 'time_step': 0.01693427460193634} step=10000\n",
      "2023-03-16 11:33.50 [info     ] Model parameters are saved to d3rlpy_logs/CQL_20230316113100/model_10000.pt\n"
     ]
    },
    {
     "data": {
      "application/vnd.jupyter.widget-view+json": {
       "model_id": "b871fa18ee2e4e6a839819735e643f70",
       "version_major": 2,
       "version_minor": 0
      },
      "text/plain": [
       "[fit FQE model]:   0%|          | 0/2 [00:00<?, ?it/s]"
      ]
     },
     "metadata": {},
     "output_type": "display_data"
    },
    {
     "name": "stdout",
     "output_type": "stream",
     "text": [
      "2023-03-16 11:33.50 [debug    ] RoundIterator is selected.\n",
      "2023-03-16 11:33.50 [info     ] Directory is created at d3rlpy_logs/FQE_20230316113350\n",
      "2023-03-16 11:33.50 [debug    ] Fitting scaler...              scaler=min_max\n",
      "2023-03-16 11:33.50 [debug    ] Fitting action scaler...       action_scaler=min_max\n",
      "2023-03-16 11:33.50 [debug    ] Building models...\n",
      "2023-03-16 11:33.50 [debug    ] Models have been built.\n",
      "2023-03-16 11:33.50 [info     ] Parameters are saved to d3rlpy_logs/FQE_20230316113350/params.json params={'action_scaler': {'type': 'min_max', 'params': {'minimum': array([0.1]), 'maximum': array([10.])}}, 'batch_size': 100, 'encoder_factory': {'type': 'vector', 'params': {'hidden_units': [30, 30], 'activation': 'relu', 'use_batch_norm': False, 'dropout_rate': None, 'use_dense': False}}, 'gamma': 0.95, 'generated_maxlen': 100000, 'learning_rate': 0.0001, 'n_critics': 1, 'n_frames': 1, 'n_steps': 1, 'optim_factory': {'optim_cls': 'Adam', 'betas': (0.9, 0.999), 'eps': 1e-08, 'weight_decay': 0, 'amsgrad': False}, 'q_func_factory': {'type': 'mean', 'params': {'share_encoder': False}}, 'real_ratio': 1.0, 'reward_scaler': None, 'scaler': {'type': 'min_max', 'params': {'maximum': array([6.00000000e+00, 3.00000000e+03, 9.99844840e-01, 5.90000000e+04,\n",
      "       1.00000000e+00, 2.00000000e+01, 9.99668469e+00]), 'minimum': array([0.00000000e+00, 1.00000000e+00, 0.00000000e+00, 0.00000000e+00,\n",
      "       0.00000000e+00, 0.00000000e+00, 2.45059979e-04])}}, 'target_update_interval': 100, 'use_gpu': None, 'algorithm': 'FQE', 'observation_shape': (7,), 'action_size': 1}\n"
     ]
    },
    {
     "data": {
      "application/vnd.jupyter.widget-view+json": {
       "model_id": "dda1960fe221402583ecbc3a88ea7251",
       "version_major": 2,
       "version_minor": 0
      },
      "text/plain": [
       "Epoch 1/1:   0%|          | 0/112 [00:00<?, ?it/s]"
      ]
     },
     "metadata": {},
     "output_type": "display_data"
    },
    {
     "name": "stdout",
     "output_type": "stream",
     "text": [
      "2023-03-16 11:33.51 [info     ] FQE_20230316113350: epoch=1 step=112 epoch=1 metrics={'time_sample_batch': 8.047478539603097e-05, 'time_algorithm_update': 0.0009889155626296997, 'loss': 13.584584436246327, 'time_step': 0.0011037311383656093} step=112\n",
      "2023-03-16 11:33.51 [info     ] Model parameters are saved to d3rlpy_logs/FQE_20230316113350/model_112.pt\n",
      "2023-03-16 11:33.51 [debug    ] RoundIterator is selected.\n",
      "2023-03-16 11:33.51 [info     ] Directory is created at d3rlpy_logs/FQE_20230316113351\n",
      "2023-03-16 11:33.51 [debug    ] Fitting scaler...              scaler=min_max\n",
      "2023-03-16 11:33.51 [debug    ] Fitting action scaler...       action_scaler=min_max\n",
      "2023-03-16 11:33.51 [debug    ] Building models...\n",
      "2023-03-16 11:33.51 [debug    ] Models have been built.\n",
      "2023-03-16 11:33.51 [info     ] Parameters are saved to d3rlpy_logs/FQE_20230316113351/params.json params={'action_scaler': {'type': 'min_max', 'params': {'minimum': array([0.1]), 'maximum': array([10.])}}, 'batch_size': 100, 'encoder_factory': {'type': 'vector', 'params': {'hidden_units': [30, 30], 'activation': 'relu', 'use_batch_norm': False, 'dropout_rate': None, 'use_dense': False}}, 'gamma': 0.95, 'generated_maxlen': 100000, 'learning_rate': 0.0001, 'n_critics': 1, 'n_frames': 1, 'n_steps': 1, 'optim_factory': {'optim_cls': 'Adam', 'betas': (0.9, 0.999), 'eps': 1e-08, 'weight_decay': 0, 'amsgrad': False}, 'q_func_factory': {'type': 'mean', 'params': {'share_encoder': False}}, 'real_ratio': 1.0, 'reward_scaler': None, 'scaler': {'type': 'min_max', 'params': {'maximum': array([6.00000000e+00, 3.00000000e+03, 9.99844840e-01, 5.90000000e+04,\n",
      "       1.00000000e+00, 2.00000000e+01, 9.99668469e+00]), 'minimum': array([0.00000000e+00, 1.00000000e+00, 0.00000000e+00, 0.00000000e+00,\n",
      "       0.00000000e+00, 0.00000000e+00, 2.45059979e-04])}}, 'target_update_interval': 100, 'use_gpu': None, 'algorithm': 'FQE', 'observation_shape': (7,), 'action_size': 1}\n"
     ]
    },
    {
     "data": {
      "application/vnd.jupyter.widget-view+json": {
       "model_id": "88bbdd27986b408cbc1b7f5b85a70955",
       "version_major": 2,
       "version_minor": 0
      },
      "text/plain": [
       "Epoch 1/1:   0%|          | 0/112 [00:00<?, ?it/s]"
      ]
     },
     "metadata": {},
     "output_type": "display_data"
    },
    {
     "name": "stdout",
     "output_type": "stream",
     "text": [
      "2023-03-16 11:33.51 [info     ] FQE_20230316113351: epoch=1 step=112 epoch=1 metrics={'time_sample_batch': 0.00010251786027635847, 'time_algorithm_update': 0.0012860851628439768, 'loss': 13.883716566222054, 'time_step': 0.0014450358492987497} step=112\n",
      "2023-03-16 11:33.51 [info     ] Model parameters are saved to d3rlpy_logs/FQE_20230316113351/model_112.pt\n"
     ]
    },
    {
     "data": {
      "application/vnd.jupyter.widget-view+json": {
       "model_id": "e14c2d4794e94e62b982b5254717431e",
       "version_major": 2,
       "version_minor": 0
      },
      "text/plain": [
       "[fit MWL model]:   0%|          | 0/2 [00:00<?, ?it/s]"
      ]
     },
     "metadata": {},
     "output_type": "display_data"
    },
    {
     "data": {
      "application/vnd.jupyter.widget-view+json": {
       "model_id": "9a44c79c46cf4ae2ac3514a42a1c305f",
       "version_major": 2,
       "version_minor": 0
      },
      "text/plain": [
       "[fitting_weight_function]:   0%|          | 0/100 [00:00<?, ?it/s]"
      ]
     },
     "metadata": {},
     "output_type": "display_data"
    },
    {
     "data": {
      "application/vnd.jupyter.widget-view+json": {
       "model_id": "653100c57450494a95c87ee609a11009",
       "version_major": 2,
       "version_minor": 0
      },
      "text/plain": [
       "[fitting_weight_function]:   0%|          | 0/100 [00:00<?, ?it/s]"
      ]
     },
     "metadata": {},
     "output_type": "display_data"
    },
    {
     "data": {
      "application/vnd.jupyter.widget-view+json": {
       "model_id": "552735f6be824738a6bab366f0252f90",
       "version_major": 2,
       "version_minor": 0
      },
      "text/plain": [
       "[fitting_weight_function]:   0%|          | 0/100 [00:00<?, ?it/s]"
      ]
     },
     "metadata": {},
     "output_type": "display_data"
    },
    {
     "data": {
      "application/vnd.jupyter.widget-view+json": {
       "model_id": "2b1d4ab7da704fa79c6dd39924926079",
       "version_major": 2,
       "version_minor": 0
      },
      "text/plain": [
       "[fitting_weight_function]:   0%|          | 0/100 [00:00<?, ?it/s]"
      ]
     },
     "metadata": {},
     "output_type": "display_data"
    },
    {
     "data": {
      "application/vnd.jupyter.widget-view+json": {
       "model_id": "b1da4a7d7fb3471c838f5418a8485883",
       "version_major": 2,
       "version_minor": 0
      },
      "text/plain": [
       "[collect input data: eval_policy]:   0%|          | 0/2 [00:00<?, ?it/s]"
      ]
     },
     "metadata": {},
     "output_type": "display_data"
    },
    {
     "data": {
      "application/vnd.jupyter.widget-view+json": {
       "model_id": "a90112e7afe34666a3d5b6d37e7f977b",
       "version_major": 2,
       "version_minor": 0
      },
      "text/plain": [
       "[calculate on-policy policy value]:   0%|          | 0/100 [00:00<?, ?it/s]"
      ]
     },
     "metadata": {},
     "output_type": "display_data"
    },
    {
     "data": {
      "application/vnd.jupyter.widget-view+json": {
       "model_id": "f34a6c3464ca46279932b308d6b7db83",
       "version_major": 2,
       "version_minor": 0
      },
      "text/plain": [
       "[calculate on-policy policy value]:   0%|          | 0/100 [00:00<?, ?it/s]"
      ]
     },
     "metadata": {},
     "output_type": "display_data"
    },
    {
     "data": {
      "application/vnd.jupyter.widget-view+json": {
       "model_id": "b13da4fdf56b46bcad6d5d8d40d4cf97",
       "version_major": 2,
       "version_minor": 0
      },
      "text/plain": [
       "[obtain_trajectories]:   0%|          | 0/1600 [00:00<?, ?it/s]"
      ]
     },
     "metadata": {},
     "output_type": "display_data"
    },
    {
     "data": {
      "application/vnd.jupyter.widget-view+json": {
       "model_id": "431df32c133a41b4ad5999b50b7eef90",
       "version_major": 2,
       "version_minor": 0
      },
      "text/plain": [
       "[obtain_trajectories]:   0%|          | 0/1600 [00:00<?, ?it/s]"
      ]
     },
     "metadata": {},
     "output_type": "display_data"
    },
    {
     "name": "stdout",
     "output_type": "stream",
     "text": [
      "2023-03-16 11:34.52 [debug    ] RandomIterator is selected.\n",
      "2023-03-16 11:34.52 [info     ] Directory is created at d3rlpy_logs/CQL_20230316113452\n",
      "2023-03-16 11:34.52 [debug    ] Fitting action scaler...       action_scaler=min_max\n",
      "2023-03-16 11:34.52 [debug    ] Building models...\n",
      "2023-03-16 11:34.52 [debug    ] Models have been built.\n",
      "2023-03-16 11:34.52 [info     ] Parameters are saved to d3rlpy_logs/CQL_20230316113452/params.json params={'action_scaler': {'type': 'min_max', 'params': {'minimum': array([0.1]), 'maximum': array([10.])}}, 'actor_encoder_factory': {'type': 'vector', 'params': {'hidden_units': [30, 30], 'activation': 'relu', 'use_batch_norm': False, 'dropout_rate': None, 'use_dense': False}}, 'actor_learning_rate': 0.0001, 'actor_optim_factory': {'optim_cls': 'Adam', 'betas': (0.9, 0.999), 'eps': 1e-08, 'weight_decay': 0, 'amsgrad': False}, 'alpha_learning_rate': 0.0001, 'alpha_optim_factory': {'optim_cls': 'Adam', 'betas': (0.9, 0.999), 'eps': 1e-08, 'weight_decay': 0, 'amsgrad': False}, 'alpha_threshold': 10.0, 'batch_size': 256, 'conservative_weight': 5.0, 'critic_encoder_factory': {'type': 'vector', 'params': {'hidden_units': [30, 30], 'activation': 'relu', 'use_batch_norm': False, 'dropout_rate': None, 'use_dense': False}}, 'critic_learning_rate': 0.0003, 'critic_optim_factory': {'optim_cls': 'Adam', 'betas': (0.9, 0.999), 'eps': 1e-08, 'weight_decay': 0, 'amsgrad': False}, 'gamma': 0.99, 'generated_maxlen': 100000, 'initial_alpha': 1.0, 'initial_temperature': 1.0, 'n_action_samples': 10, 'n_critics': 2, 'n_frames': 1, 'n_steps': 1, 'q_func_factory': {'type': 'mean', 'params': {'share_encoder': False}}, 'real_ratio': 1.0, 'reward_scaler': None, 'scaler': None, 'soft_q_backup': False, 'tau': 0.005, 'temp_learning_rate': 0.0001, 'temp_optim_factory': {'optim_cls': 'Adam', 'betas': (0.9, 0.999), 'eps': 1e-08, 'weight_decay': 0, 'amsgrad': False}, 'use_gpu': None, 'algorithm': 'CQL', 'observation_shape': (7,), 'action_size': 1}\n"
     ]
    },
    {
     "data": {
      "application/vnd.jupyter.widget-view+json": {
       "model_id": "a79cb0bcfbd9462d89ef830fea6fac28",
       "version_major": 2,
       "version_minor": 0
      },
      "text/plain": [
       "Epoch 1/1:   0%|          | 0/10000 [00:00<?, ?it/s]"
      ]
     },
     "metadata": {},
     "output_type": "display_data"
    },
    {
     "name": "stdout",
     "output_type": "stream",
     "text": [
      "2023-03-16 11:37.57 [info     ] CQL_20230316113452: epoch=1 step=10000 epoch=1 metrics={'time_sample_batch': 0.0005634661912918091, 'time_algorithm_update': 0.017360346579551697, 'temp_loss': -6.138998298120499, 'temp': 1.2822925628423691, 'alpha_loss': -15.09871525835991, 'alpha': 1.818184055685997, 'critic_loss': 47.20866607398987, 'actor_loss': 3.6447068951122463, 'time_step': 0.018382515692710877} step=10000\n",
      "2023-03-16 11:37.57 [info     ] Model parameters are saved to d3rlpy_logs/CQL_20230316113452/model_10000.pt\n"
     ]
    },
    {
     "data": {
      "application/vnd.jupyter.widget-view+json": {
       "model_id": "334d466f5a4b4c2184e4fbdd6e421151",
       "version_major": 2,
       "version_minor": 0
      },
      "text/plain": [
       "[fit FQE model]:   0%|          | 0/2 [00:00<?, ?it/s]"
      ]
     },
     "metadata": {},
     "output_type": "display_data"
    },
    {
     "name": "stdout",
     "output_type": "stream",
     "text": [
      "2023-03-16 11:37.57 [debug    ] RoundIterator is selected.\n",
      "2023-03-16 11:37.57 [info     ] Directory is created at d3rlpy_logs/FQE_20230316113757\n",
      "2023-03-16 11:37.57 [debug    ] Fitting scaler...              scaler=min_max\n",
      "2023-03-16 11:37.57 [debug    ] Fitting action scaler...       action_scaler=min_max\n",
      "2023-03-16 11:37.57 [debug    ] Building models...\n",
      "2023-03-16 11:37.57 [debug    ] Models have been built.\n",
      "2023-03-16 11:37.57 [info     ] Parameters are saved to d3rlpy_logs/FQE_20230316113757/params.json params={'action_scaler': {'type': 'min_max', 'params': {'minimum': array([0.1]), 'maximum': array([10.])}}, 'batch_size': 100, 'encoder_factory': {'type': 'vector', 'params': {'hidden_units': [30, 30], 'activation': 'relu', 'use_batch_norm': False, 'dropout_rate': None, 'use_dense': False}}, 'gamma': 0.95, 'generated_maxlen': 100000, 'learning_rate': 0.0001, 'n_critics': 1, 'n_frames': 1, 'n_steps': 1, 'optim_factory': {'optim_cls': 'Adam', 'betas': (0.9, 0.999), 'eps': 1e-08, 'weight_decay': 0, 'amsgrad': False}, 'q_func_factory': {'type': 'mean', 'params': {'share_encoder': False}}, 'real_ratio': 1.0, 'reward_scaler': None, 'scaler': {'type': 'min_max', 'params': {'maximum': array([6.00000000e+00, 3.00000000e+03, 9.99189627e-01, 5.90000000e+04,\n",
      "       1.00000000e+00, 1.70000000e+01, 9.98789083e+00]), 'minimum': array([0.        , 1.        , 0.        , 0.        , 0.        ,\n",
      "       0.        , 0.00149675])}}, 'target_update_interval': 100, 'use_gpu': None, 'algorithm': 'FQE', 'observation_shape': (7,), 'action_size': 1}\n"
     ]
    },
    {
     "data": {
      "application/vnd.jupyter.widget-view+json": {
       "model_id": "788fddaa4886416ab37c322f041d62fc",
       "version_major": 2,
       "version_minor": 0
      },
      "text/plain": [
       "Epoch 1/1:   0%|          | 0/112 [00:00<?, ?it/s]"
      ]
     },
     "metadata": {},
     "output_type": "display_data"
    },
    {
     "name": "stdout",
     "output_type": "stream",
     "text": [
      "2023-03-16 11:37.57 [info     ] FQE_20230316113757: epoch=1 step=112 epoch=1 metrics={'time_sample_batch': 9.102480752127511e-05, 'time_algorithm_update': 0.0010294488498142787, 'loss': 13.78950987117631, 'time_step': 0.0011701136827468872} step=112\n",
      "2023-03-16 11:37.57 [info     ] Model parameters are saved to d3rlpy_logs/FQE_20230316113757/model_112.pt\n",
      "2023-03-16 11:37.57 [debug    ] RoundIterator is selected.\n",
      "2023-03-16 11:37.58 [info     ] Directory is created at d3rlpy_logs/FQE_20230316113758\n",
      "2023-03-16 11:37.58 [debug    ] Fitting scaler...              scaler=min_max\n",
      "2023-03-16 11:37.58 [debug    ] Fitting action scaler...       action_scaler=min_max\n",
      "2023-03-16 11:37.58 [debug    ] Building models...\n",
      "2023-03-16 11:37.58 [debug    ] Models have been built.\n",
      "2023-03-16 11:37.58 [info     ] Parameters are saved to d3rlpy_logs/FQE_20230316113758/params.json params={'action_scaler': {'type': 'min_max', 'params': {'minimum': array([0.1]), 'maximum': array([10.])}}, 'batch_size': 100, 'encoder_factory': {'type': 'vector', 'params': {'hidden_units': [30, 30], 'activation': 'relu', 'use_batch_norm': False, 'dropout_rate': None, 'use_dense': False}}, 'gamma': 0.95, 'generated_maxlen': 100000, 'learning_rate': 0.0001, 'n_critics': 1, 'n_frames': 1, 'n_steps': 1, 'optim_factory': {'optim_cls': 'Adam', 'betas': (0.9, 0.999), 'eps': 1e-08, 'weight_decay': 0, 'amsgrad': False}, 'q_func_factory': {'type': 'mean', 'params': {'share_encoder': False}}, 'real_ratio': 1.0, 'reward_scaler': None, 'scaler': {'type': 'min_max', 'params': {'maximum': array([6.00000000e+00, 3.00000000e+03, 9.99189627e-01, 5.90000000e+04,\n",
      "       1.00000000e+00, 1.70000000e+01, 9.98789083e+00]), 'minimum': array([0.        , 1.        , 0.        , 0.        , 0.        ,\n",
      "       0.        , 0.00149675])}}, 'target_update_interval': 100, 'use_gpu': None, 'algorithm': 'FQE', 'observation_shape': (7,), 'action_size': 1}\n"
     ]
    },
    {
     "data": {
      "application/vnd.jupyter.widget-view+json": {
       "model_id": "880b47eb0b8b44d781317210feae7b45",
       "version_major": 2,
       "version_minor": 0
      },
      "text/plain": [
       "Epoch 1/1:   0%|          | 0/112 [00:00<?, ?it/s]"
      ]
     },
     "metadata": {},
     "output_type": "display_data"
    },
    {
     "name": "stdout",
     "output_type": "stream",
     "text": [
      "2023-03-16 11:37.58 [info     ] FQE_20230316113758: epoch=1 step=112 epoch=1 metrics={'time_sample_batch': 8.765288761683873e-05, 'time_algorithm_update': 0.0012669009821755545, 'loss': 13.878255277872086, 'time_step': 0.0014003791979381017} step=112\n",
      "2023-03-16 11:37.58 [info     ] Model parameters are saved to d3rlpy_logs/FQE_20230316113758/model_112.pt\n"
     ]
    },
    {
     "data": {
      "application/vnd.jupyter.widget-view+json": {
       "model_id": "3d4ed29dce5b448b9fbf816a3d5178f7",
       "version_major": 2,
       "version_minor": 0
      },
      "text/plain": [
       "[fit MWL model]:   0%|          | 0/2 [00:00<?, ?it/s]"
      ]
     },
     "metadata": {},
     "output_type": "display_data"
    },
    {
     "data": {
      "application/vnd.jupyter.widget-view+json": {
       "model_id": "779977aa83ed499492fe99c7edb91f02",
       "version_major": 2,
       "version_minor": 0
      },
      "text/plain": [
       "[fitting_weight_function]:   0%|          | 0/100 [00:00<?, ?it/s]"
      ]
     },
     "metadata": {},
     "output_type": "display_data"
    },
    {
     "data": {
      "application/vnd.jupyter.widget-view+json": {
       "model_id": "64cd15785d054ff28c6d6269e4161bd6",
       "version_major": 2,
       "version_minor": 0
      },
      "text/plain": [
       "[fitting_weight_function]:   0%|          | 0/100 [00:00<?, ?it/s]"
      ]
     },
     "metadata": {},
     "output_type": "display_data"
    },
    {
     "data": {
      "application/vnd.jupyter.widget-view+json": {
       "model_id": "77c926ce112b4184a8ff285a0b62dc1c",
       "version_major": 2,
       "version_minor": 0
      },
      "text/plain": [
       "[fitting_weight_function]:   0%|          | 0/100 [00:00<?, ?it/s]"
      ]
     },
     "metadata": {},
     "output_type": "display_data"
    },
    {
     "data": {
      "application/vnd.jupyter.widget-view+json": {
       "model_id": "3de86692151048d6a24b12b0907b7198",
       "version_major": 2,
       "version_minor": 0
      },
      "text/plain": [
       "[fitting_weight_function]:   0%|          | 0/100 [00:00<?, ?it/s]"
      ]
     },
     "metadata": {},
     "output_type": "display_data"
    },
    {
     "data": {
      "application/vnd.jupyter.widget-view+json": {
       "model_id": "9aaa37b3d57a4121b3febed7e13ae469",
       "version_major": 2,
       "version_minor": 0
      },
      "text/plain": [
       "[collect input data: eval_policy]:   0%|          | 0/2 [00:00<?, ?it/s]"
      ]
     },
     "metadata": {},
     "output_type": "display_data"
    },
    {
     "data": {
      "application/vnd.jupyter.widget-view+json": {
       "model_id": "e865a085aed14b71820e1ecd1cefdbb3",
       "version_major": 2,
       "version_minor": 0
      },
      "text/plain": [
       "[calculate on-policy policy value]:   0%|          | 0/100 [00:00<?, ?it/s]"
      ]
     },
     "metadata": {},
     "output_type": "display_data"
    },
    {
     "data": {
      "application/vnd.jupyter.widget-view+json": {
       "model_id": "0afee4ec30a64d50871e266ccfa24453",
       "version_major": 2,
       "version_minor": 0
      },
      "text/plain": [
       "[calculate on-policy policy value]:   0%|          | 0/100 [00:00<?, ?it/s]"
      ]
     },
     "metadata": {},
     "output_type": "display_data"
    },
    {
     "data": {
      "application/vnd.jupyter.widget-view+json": {
       "model_id": "d6bc541892b240d99e2f6c05da0c21e2",
       "version_major": 2,
       "version_minor": 0
      },
      "text/plain": [
       "[obtain_trajectories]:   0%|          | 0/1600 [00:00<?, ?it/s]"
      ]
     },
     "metadata": {},
     "output_type": "display_data"
    },
    {
     "data": {
      "application/vnd.jupyter.widget-view+json": {
       "model_id": "d5610e4ecf7f46c48cebb5cac06dbc2b",
       "version_major": 2,
       "version_minor": 0
      },
      "text/plain": [
       "[obtain_trajectories]:   0%|          | 0/1600 [00:00<?, ?it/s]"
      ]
     },
     "metadata": {},
     "output_type": "display_data"
    },
    {
     "name": "stdout",
     "output_type": "stream",
     "text": [
      "2023-03-16 11:39.01 [debug    ] RandomIterator is selected.\n",
      "2023-03-16 11:39.01 [info     ] Directory is created at d3rlpy_logs/CQL_20230316113901\n",
      "2023-03-16 11:39.01 [debug    ] Fitting action scaler...       action_scaler=min_max\n",
      "2023-03-16 11:39.01 [debug    ] Building models...\n",
      "2023-03-16 11:39.01 [debug    ] Models have been built.\n",
      "2023-03-16 11:39.01 [info     ] Parameters are saved to d3rlpy_logs/CQL_20230316113901/params.json params={'action_scaler': {'type': 'min_max', 'params': {'minimum': array([0.1]), 'maximum': array([10.])}}, 'actor_encoder_factory': {'type': 'vector', 'params': {'hidden_units': [30, 30], 'activation': 'relu', 'use_batch_norm': False, 'dropout_rate': None, 'use_dense': False}}, 'actor_learning_rate': 0.0001, 'actor_optim_factory': {'optim_cls': 'Adam', 'betas': (0.9, 0.999), 'eps': 1e-08, 'weight_decay': 0, 'amsgrad': False}, 'alpha_learning_rate': 0.0001, 'alpha_optim_factory': {'optim_cls': 'Adam', 'betas': (0.9, 0.999), 'eps': 1e-08, 'weight_decay': 0, 'amsgrad': False}, 'alpha_threshold': 10.0, 'batch_size': 256, 'conservative_weight': 5.0, 'critic_encoder_factory': {'type': 'vector', 'params': {'hidden_units': [30, 30], 'activation': 'relu', 'use_batch_norm': False, 'dropout_rate': None, 'use_dense': False}}, 'critic_learning_rate': 0.0003, 'critic_optim_factory': {'optim_cls': 'Adam', 'betas': (0.9, 0.999), 'eps': 1e-08, 'weight_decay': 0, 'amsgrad': False}, 'gamma': 0.99, 'generated_maxlen': 100000, 'initial_alpha': 1.0, 'initial_temperature': 1.0, 'n_action_samples': 10, 'n_critics': 2, 'n_frames': 1, 'n_steps': 1, 'q_func_factory': {'type': 'mean', 'params': {'share_encoder': False}}, 'real_ratio': 1.0, 'reward_scaler': None, 'scaler': None, 'soft_q_backup': False, 'tau': 0.005, 'temp_learning_rate': 0.0001, 'temp_optim_factory': {'optim_cls': 'Adam', 'betas': (0.9, 0.999), 'eps': 1e-08, 'weight_decay': 0, 'amsgrad': False}, 'use_gpu': None, 'algorithm': 'CQL', 'observation_shape': (7,), 'action_size': 1}\n"
     ]
    },
    {
     "data": {
      "application/vnd.jupyter.widget-view+json": {
       "model_id": "66737a9cfce94fdcacff1cb35f4b57c9",
       "version_major": 2,
       "version_minor": 0
      },
      "text/plain": [
       "Epoch 1/1:   0%|          | 0/10000 [00:00<?, ?it/s]"
      ]
     },
     "metadata": {},
     "output_type": "display_data"
    },
    {
     "name": "stdout",
     "output_type": "stream",
     "text": [
      "2023-03-16 11:42.03 [info     ] CQL_20230316113901: epoch=1 step=10000 epoch=1 metrics={'time_sample_batch': 0.0005714993238449097, 'time_algorithm_update': 0.017069557762145995, 'temp_loss': -10.144736293935775, 'temp': 1.6308112687349319, 'alpha_loss': -14.287776375102997, 'alpha': 1.8121963231563567, 'critic_loss': 383.569263295269, 'actor_loss': 14.29242934668362, 'time_step': 0.018097032356262206} step=10000\n",
      "2023-03-16 11:42.03 [info     ] Model parameters are saved to d3rlpy_logs/CQL_20230316113901/model_10000.pt\n"
     ]
    },
    {
     "data": {
      "application/vnd.jupyter.widget-view+json": {
       "model_id": "48c0cb5297584784a8e47f05ba55f748",
       "version_major": 2,
       "version_minor": 0
      },
      "text/plain": [
       "[fit FQE model]:   0%|          | 0/2 [00:00<?, ?it/s]"
      ]
     },
     "metadata": {},
     "output_type": "display_data"
    },
    {
     "name": "stdout",
     "output_type": "stream",
     "text": [
      "2023-03-16 11:42.03 [debug    ] RoundIterator is selected.\n",
      "2023-03-16 11:42.03 [info     ] Directory is created at d3rlpy_logs/FQE_20230316114203\n",
      "2023-03-16 11:42.03 [debug    ] Fitting scaler...              scaler=min_max\n",
      "2023-03-16 11:42.03 [debug    ] Fitting action scaler...       action_scaler=min_max\n",
      "2023-03-16 11:42.03 [debug    ] Building models...\n",
      "2023-03-16 11:42.03 [debug    ] Models have been built.\n",
      "2023-03-16 11:42.03 [info     ] Parameters are saved to d3rlpy_logs/FQE_20230316114203/params.json params={'action_scaler': {'type': 'min_max', 'params': {'minimum': array([0.1]), 'maximum': array([10.])}}, 'batch_size': 100, 'encoder_factory': {'type': 'vector', 'params': {'hidden_units': [30, 30], 'activation': 'relu', 'use_batch_norm': False, 'dropout_rate': None, 'use_dense': False}}, 'gamma': 0.95, 'generated_maxlen': 100000, 'learning_rate': 0.0001, 'n_critics': 1, 'n_frames': 1, 'n_steps': 1, 'optim_factory': {'optim_cls': 'Adam', 'betas': (0.9, 0.999), 'eps': 1e-08, 'weight_decay': 0, 'amsgrad': False}, 'q_func_factory': {'type': 'mean', 'params': {'share_encoder': False}}, 'real_ratio': 1.0, 'reward_scaler': None, 'scaler': {'type': 'min_max', 'params': {'maximum': array([6.00000000e+00, 3.00000000e+03, 9.99335548e-01, 6.00000000e+04,\n",
      "       1.00000000e+00, 2.00000000e+01, 9.98708785e+00]), 'minimum': array([0.00000000e+00, 1.00000000e+00, 0.00000000e+00, 0.00000000e+00,\n",
      "       0.00000000e+00, 0.00000000e+00, 2.30665547e-04])}}, 'target_update_interval': 100, 'use_gpu': None, 'algorithm': 'FQE', 'observation_shape': (7,), 'action_size': 1}\n"
     ]
    },
    {
     "data": {
      "application/vnd.jupyter.widget-view+json": {
       "model_id": "c1fb3d04d8964aefb1b81d2c012fabd6",
       "version_major": 2,
       "version_minor": 0
      },
      "text/plain": [
       "Epoch 1/1:   0%|          | 0/112 [00:00<?, ?it/s]"
      ]
     },
     "metadata": {},
     "output_type": "display_data"
    },
    {
     "name": "stdout",
     "output_type": "stream",
     "text": [
      "2023-03-16 11:42.04 [info     ] FQE_20230316114203: epoch=1 step=112 epoch=1 metrics={'time_sample_batch': 0.00011204183101654053, 'time_algorithm_update': 0.0010676383972167969, 'loss': 13.21462150982448, 'time_step': 0.0012289541108267648} step=112\n",
      "2023-03-16 11:42.04 [info     ] Model parameters are saved to d3rlpy_logs/FQE_20230316114203/model_112.pt\n",
      "2023-03-16 11:42.04 [debug    ] RoundIterator is selected.\n",
      "2023-03-16 11:42.04 [info     ] Directory is created at d3rlpy_logs/FQE_20230316114204\n",
      "2023-03-16 11:42.04 [debug    ] Fitting scaler...              scaler=min_max\n",
      "2023-03-16 11:42.04 [debug    ] Fitting action scaler...       action_scaler=min_max\n",
      "2023-03-16 11:42.04 [debug    ] Building models...\n",
      "2023-03-16 11:42.04 [debug    ] Models have been built.\n",
      "2023-03-16 11:42.04 [info     ] Parameters are saved to d3rlpy_logs/FQE_20230316114204/params.json params={'action_scaler': {'type': 'min_max', 'params': {'minimum': array([0.1]), 'maximum': array([10.])}}, 'batch_size': 100, 'encoder_factory': {'type': 'vector', 'params': {'hidden_units': [30, 30], 'activation': 'relu', 'use_batch_norm': False, 'dropout_rate': None, 'use_dense': False}}, 'gamma': 0.95, 'generated_maxlen': 100000, 'learning_rate': 0.0001, 'n_critics': 1, 'n_frames': 1, 'n_steps': 1, 'optim_factory': {'optim_cls': 'Adam', 'betas': (0.9, 0.999), 'eps': 1e-08, 'weight_decay': 0, 'amsgrad': False}, 'q_func_factory': {'type': 'mean', 'params': {'share_encoder': False}}, 'real_ratio': 1.0, 'reward_scaler': None, 'scaler': {'type': 'min_max', 'params': {'maximum': array([6.00000000e+00, 3.00000000e+03, 9.99335548e-01, 6.00000000e+04,\n",
      "       1.00000000e+00, 2.00000000e+01, 9.98708785e+00]), 'minimum': array([0.00000000e+00, 1.00000000e+00, 0.00000000e+00, 0.00000000e+00,\n",
      "       0.00000000e+00, 0.00000000e+00, 2.30665547e-04])}}, 'target_update_interval': 100, 'use_gpu': None, 'algorithm': 'FQE', 'observation_shape': (7,), 'action_size': 1}\n"
     ]
    },
    {
     "data": {
      "application/vnd.jupyter.widget-view+json": {
       "model_id": "04555b5cebd8460ea1ddd78b673b5fa5",
       "version_major": 2,
       "version_minor": 0
      },
      "text/plain": [
       "Epoch 1/1:   0%|          | 0/112 [00:00<?, ?it/s]"
      ]
     },
     "metadata": {},
     "output_type": "display_data"
    },
    {
     "name": "stdout",
     "output_type": "stream",
     "text": [
      "2023-03-16 11:42.04 [info     ] FQE_20230316114204: epoch=1 step=112 epoch=1 metrics={'time_sample_batch': 0.00010605795042855399, 'time_algorithm_update': 0.0011892127139227732, 'loss': 13.733944416046143, 'time_step': 0.0013586687190192087} step=112\n",
      "2023-03-16 11:42.04 [info     ] Model parameters are saved to d3rlpy_logs/FQE_20230316114204/model_112.pt\n"
     ]
    },
    {
     "data": {
      "application/vnd.jupyter.widget-view+json": {
       "model_id": "941fdfa471ca42d7a1575f73876aa522",
       "version_major": 2,
       "version_minor": 0
      },
      "text/plain": [
       "[fit MWL model]:   0%|          | 0/2 [00:00<?, ?it/s]"
      ]
     },
     "metadata": {},
     "output_type": "display_data"
    },
    {
     "data": {
      "application/vnd.jupyter.widget-view+json": {
       "model_id": "c165a10ab5eb40b8a7a16e01ab0592e4",
       "version_major": 2,
       "version_minor": 0
      },
      "text/plain": [
       "[fitting_weight_function]:   0%|          | 0/100 [00:00<?, ?it/s]"
      ]
     },
     "metadata": {},
     "output_type": "display_data"
    },
    {
     "data": {
      "application/vnd.jupyter.widget-view+json": {
       "model_id": "8407ff98dccf40d380b96abdaebc20f1",
       "version_major": 2,
       "version_minor": 0
      },
      "text/plain": [
       "[fitting_weight_function]:   0%|          | 0/100 [00:00<?, ?it/s]"
      ]
     },
     "metadata": {},
     "output_type": "display_data"
    },
    {
     "data": {
      "application/vnd.jupyter.widget-view+json": {
       "model_id": "b1237ef0bf144c1da19ff548c13d9c46",
       "version_major": 2,
       "version_minor": 0
      },
      "text/plain": [
       "[fitting_weight_function]:   0%|          | 0/100 [00:00<?, ?it/s]"
      ]
     },
     "metadata": {},
     "output_type": "display_data"
    },
    {
     "data": {
      "application/vnd.jupyter.widget-view+json": {
       "model_id": "14eea2c5c58945d4abd11c22f66eb71a",
       "version_major": 2,
       "version_minor": 0
      },
      "text/plain": [
       "[fitting_weight_function]:   0%|          | 0/100 [00:00<?, ?it/s]"
      ]
     },
     "metadata": {},
     "output_type": "display_data"
    },
    {
     "data": {
      "application/vnd.jupyter.widget-view+json": {
       "model_id": "5c60eb3dff0540f39836c16a8e82fd36",
       "version_major": 2,
       "version_minor": 0
      },
      "text/plain": [
       "[collect input data: eval_policy]:   0%|          | 0/2 [00:00<?, ?it/s]"
      ]
     },
     "metadata": {},
     "output_type": "display_data"
    },
    {
     "data": {
      "application/vnd.jupyter.widget-view+json": {
       "model_id": "28899d2ca4cc43768a2c36becc1cd36b",
       "version_major": 2,
       "version_minor": 0
      },
      "text/plain": [
       "[calculate on-policy policy value]:   0%|          | 0/100 [00:00<?, ?it/s]"
      ]
     },
     "metadata": {},
     "output_type": "display_data"
    },
    {
     "data": {
      "application/vnd.jupyter.widget-view+json": {
       "model_id": "a1bc5e297ce54adaa1f19ac6a0e54d2b",
       "version_major": 2,
       "version_minor": 0
      },
      "text/plain": [
       "[calculate on-policy policy value]:   0%|          | 0/100 [00:00<?, ?it/s]"
      ]
     },
     "metadata": {},
     "output_type": "display_data"
    },
    {
     "data": {
      "application/vnd.jupyter.widget-view+json": {
       "model_id": "01b40289618347b1bffcce1baeac8f3c",
       "version_major": 2,
       "version_minor": 0
      },
      "text/plain": [
       "[obtain_trajectories]:   0%|          | 0/1600 [00:00<?, ?it/s]"
      ]
     },
     "metadata": {},
     "output_type": "display_data"
    },
    {
     "data": {
      "application/vnd.jupyter.widget-view+json": {
       "model_id": "ed80c31a484249f090a001a293dd637e",
       "version_major": 2,
       "version_minor": 0
      },
      "text/plain": [
       "[obtain_trajectories]:   0%|          | 0/1600 [00:00<?, ?it/s]"
      ]
     },
     "metadata": {},
     "output_type": "display_data"
    },
    {
     "name": "stdout",
     "output_type": "stream",
     "text": [
      "2023-03-16 11:43.07 [debug    ] RandomIterator is selected.\n",
      "2023-03-16 11:43.07 [info     ] Directory is created at d3rlpy_logs/CQL_20230316114307\n",
      "2023-03-16 11:43.07 [debug    ] Fitting action scaler...       action_scaler=min_max\n",
      "2023-03-16 11:43.07 [debug    ] Building models...\n",
      "2023-03-16 11:43.07 [debug    ] Models have been built.\n",
      "2023-03-16 11:43.07 [info     ] Parameters are saved to d3rlpy_logs/CQL_20230316114307/params.json params={'action_scaler': {'type': 'min_max', 'params': {'minimum': array([0.1]), 'maximum': array([10.])}}, 'actor_encoder_factory': {'type': 'vector', 'params': {'hidden_units': [30, 30], 'activation': 'relu', 'use_batch_norm': False, 'dropout_rate': None, 'use_dense': False}}, 'actor_learning_rate': 0.0001, 'actor_optim_factory': {'optim_cls': 'Adam', 'betas': (0.9, 0.999), 'eps': 1e-08, 'weight_decay': 0, 'amsgrad': False}, 'alpha_learning_rate': 0.0001, 'alpha_optim_factory': {'optim_cls': 'Adam', 'betas': (0.9, 0.999), 'eps': 1e-08, 'weight_decay': 0, 'amsgrad': False}, 'alpha_threshold': 10.0, 'batch_size': 256, 'conservative_weight': 5.0, 'critic_encoder_factory': {'type': 'vector', 'params': {'hidden_units': [30, 30], 'activation': 'relu', 'use_batch_norm': False, 'dropout_rate': None, 'use_dense': False}}, 'critic_learning_rate': 0.0003, 'critic_optim_factory': {'optim_cls': 'Adam', 'betas': (0.9, 0.999), 'eps': 1e-08, 'weight_decay': 0, 'amsgrad': False}, 'gamma': 0.99, 'generated_maxlen': 100000, 'initial_alpha': 1.0, 'initial_temperature': 1.0, 'n_action_samples': 10, 'n_critics': 2, 'n_frames': 1, 'n_steps': 1, 'q_func_factory': {'type': 'mean', 'params': {'share_encoder': False}}, 'real_ratio': 1.0, 'reward_scaler': None, 'scaler': None, 'soft_q_backup': False, 'tau': 0.005, 'temp_learning_rate': 0.0001, 'temp_optim_factory': {'optim_cls': 'Adam', 'betas': (0.9, 0.999), 'eps': 1e-08, 'weight_decay': 0, 'amsgrad': False}, 'use_gpu': None, 'algorithm': 'CQL', 'observation_shape': (7,), 'action_size': 1}\n"
     ]
    },
    {
     "data": {
      "application/vnd.jupyter.widget-view+json": {
       "model_id": "3756c31b8661409badc8fc04b804cd43",
       "version_major": 2,
       "version_minor": 0
      },
      "text/plain": [
       "Epoch 1/1:   0%|          | 0/10000 [00:00<?, ?it/s]"
      ]
     },
     "metadata": {},
     "output_type": "display_data"
    },
    {
     "name": "stdout",
     "output_type": "stream",
     "text": [
      "2023-03-16 11:46.06 [info     ] CQL_20230316114307: epoch=1 step=10000 epoch=1 metrics={'time_sample_batch': 0.0005597792863845825, 'time_algorithm_update': 0.016849714374542236, 'temp_loss': 0.4952253522232175, 'temp': 0.8384170884251595, 'alpha_loss': -15.812383541822433, 'alpha': 1.7833760884404182, 'critic_loss': 95.5639437379837, 'actor_loss': -6.770517097973824, 'time_step': 0.01786230056285858} step=10000\n",
      "2023-03-16 11:46.06 [info     ] Model parameters are saved to d3rlpy_logs/CQL_20230316114307/model_10000.pt\n"
     ]
    },
    {
     "data": {
      "application/vnd.jupyter.widget-view+json": {
       "model_id": "b29884fe5ed549d4a33129eb4ee3bc82",
       "version_major": 2,
       "version_minor": 0
      },
      "text/plain": [
       "[fit FQE model]:   0%|          | 0/2 [00:00<?, ?it/s]"
      ]
     },
     "metadata": {},
     "output_type": "display_data"
    },
    {
     "name": "stdout",
     "output_type": "stream",
     "text": [
      "2023-03-16 11:46.06 [debug    ] RoundIterator is selected.\n",
      "2023-03-16 11:46.06 [info     ] Directory is created at d3rlpy_logs/FQE_20230316114606\n",
      "2023-03-16 11:46.06 [debug    ] Fitting scaler...              scaler=min_max\n",
      "2023-03-16 11:46.06 [debug    ] Fitting action scaler...       action_scaler=min_max\n",
      "2023-03-16 11:46.06 [debug    ] Building models...\n",
      "2023-03-16 11:46.06 [debug    ] Models have been built.\n",
      "2023-03-16 11:46.06 [info     ] Parameters are saved to d3rlpy_logs/FQE_20230316114606/params.json params={'action_scaler': {'type': 'min_max', 'params': {'minimum': array([0.1]), 'maximum': array([10.])}}, 'batch_size': 100, 'encoder_factory': {'type': 'vector', 'params': {'hidden_units': [30, 30], 'activation': 'relu', 'use_batch_norm': False, 'dropout_rate': None, 'use_dense': False}}, 'gamma': 0.95, 'generated_maxlen': 100000, 'learning_rate': 0.0001, 'n_critics': 1, 'n_frames': 1, 'n_steps': 1, 'optim_factory': {'optim_cls': 'Adam', 'betas': (0.9, 0.999), 'eps': 1e-08, 'weight_decay': 0, 'amsgrad': False}, 'q_func_factory': {'type': 'mean', 'params': {'share_encoder': False}}, 'real_ratio': 1.0, 'reward_scaler': None, 'scaler': {'type': 'min_max', 'params': {'maximum': array([6.00000000e+00, 3.00000000e+03, 9.99172185e-01, 5.10000000e+04,\n",
      "       1.00000000e+00, 1.80000000e+01, 9.99540015e+00]), 'minimum': array([0.00000000e+00, 1.00000000e+00, 0.00000000e+00, 0.00000000e+00,\n",
      "       0.00000000e+00, 0.00000000e+00, 5.46109661e-04])}}, 'target_update_interval': 100, 'use_gpu': None, 'algorithm': 'FQE', 'observation_shape': (7,), 'action_size': 1}\n"
     ]
    },
    {
     "data": {
      "application/vnd.jupyter.widget-view+json": {
       "model_id": "98129688055a4bc48fc7e9b5cd0b9722",
       "version_major": 2,
       "version_minor": 0
      },
      "text/plain": [
       "Epoch 1/1:   0%|          | 0/112 [00:00<?, ?it/s]"
      ]
     },
     "metadata": {},
     "output_type": "display_data"
    },
    {
     "name": "stdout",
     "output_type": "stream",
     "text": [
      "2023-03-16 11:46.07 [info     ] FQE_20230316114606: epoch=1 step=112 epoch=1 metrics={'time_sample_batch': 9.325146675109863e-05, 'time_algorithm_update': 0.0012411092008863176, 'loss': 13.966125692640032, 'time_step': 0.001381910273006984} step=112\n",
      "2023-03-16 11:46.07 [info     ] Model parameters are saved to d3rlpy_logs/FQE_20230316114606/model_112.pt\n",
      "2023-03-16 11:46.07 [debug    ] RoundIterator is selected.\n",
      "2023-03-16 11:46.07 [info     ] Directory is created at d3rlpy_logs/FQE_20230316114607\n",
      "2023-03-16 11:46.07 [debug    ] Fitting scaler...              scaler=min_max\n",
      "2023-03-16 11:46.07 [debug    ] Fitting action scaler...       action_scaler=min_max\n",
      "2023-03-16 11:46.07 [debug    ] Building models...\n",
      "2023-03-16 11:46.07 [debug    ] Models have been built.\n",
      "2023-03-16 11:46.07 [info     ] Parameters are saved to d3rlpy_logs/FQE_20230316114607/params.json params={'action_scaler': {'type': 'min_max', 'params': {'minimum': array([0.1]), 'maximum': array([10.])}}, 'batch_size': 100, 'encoder_factory': {'type': 'vector', 'params': {'hidden_units': [30, 30], 'activation': 'relu', 'use_batch_norm': False, 'dropout_rate': None, 'use_dense': False}}, 'gamma': 0.95, 'generated_maxlen': 100000, 'learning_rate': 0.0001, 'n_critics': 1, 'n_frames': 1, 'n_steps': 1, 'optim_factory': {'optim_cls': 'Adam', 'betas': (0.9, 0.999), 'eps': 1e-08, 'weight_decay': 0, 'amsgrad': False}, 'q_func_factory': {'type': 'mean', 'params': {'share_encoder': False}}, 'real_ratio': 1.0, 'reward_scaler': None, 'scaler': {'type': 'min_max', 'params': {'maximum': array([6.00000000e+00, 3.00000000e+03, 9.99172185e-01, 5.10000000e+04,\n",
      "       1.00000000e+00, 1.80000000e+01, 9.99540015e+00]), 'minimum': array([0.00000000e+00, 1.00000000e+00, 0.00000000e+00, 0.00000000e+00,\n",
      "       0.00000000e+00, 0.00000000e+00, 5.46109661e-04])}}, 'target_update_interval': 100, 'use_gpu': None, 'algorithm': 'FQE', 'observation_shape': (7,), 'action_size': 1}\n"
     ]
    },
    {
     "data": {
      "application/vnd.jupyter.widget-view+json": {
       "model_id": "65ac57d3b91a43cab21626f0ff0bc4e4",
       "version_major": 2,
       "version_minor": 0
      },
      "text/plain": [
       "Epoch 1/1:   0%|          | 0/112 [00:00<?, ?it/s]"
      ]
     },
     "metadata": {},
     "output_type": "display_data"
    },
    {
     "name": "stdout",
     "output_type": "stream",
     "text": [
      "2023-03-16 11:46.07 [info     ] FQE_20230316114607: epoch=1 step=112 epoch=1 metrics={'time_sample_batch': 0.00013368470328194753, 'time_algorithm_update': 0.0016017811638968332, 'loss': 13.920880368777684, 'time_step': 0.0018002944333212717} step=112\n",
      "2023-03-16 11:46.07 [info     ] Model parameters are saved to d3rlpy_logs/FQE_20230316114607/model_112.pt\n"
     ]
    },
    {
     "data": {
      "application/vnd.jupyter.widget-view+json": {
       "model_id": "f7916747eb644280acf97fca48dda581",
       "version_major": 2,
       "version_minor": 0
      },
      "text/plain": [
       "[fit MWL model]:   0%|          | 0/2 [00:00<?, ?it/s]"
      ]
     },
     "metadata": {},
     "output_type": "display_data"
    },
    {
     "data": {
      "application/vnd.jupyter.widget-view+json": {
       "model_id": "7bf4f9911dfe4f62a71cdf71ec6bf46a",
       "version_major": 2,
       "version_minor": 0
      },
      "text/plain": [
       "[fitting_weight_function]:   0%|          | 0/100 [00:00<?, ?it/s]"
      ]
     },
     "metadata": {},
     "output_type": "display_data"
    },
    {
     "data": {
      "application/vnd.jupyter.widget-view+json": {
       "model_id": "010ed0c59927430893897609d8cebd96",
       "version_major": 2,
       "version_minor": 0
      },
      "text/plain": [
       "[fitting_weight_function]:   0%|          | 0/100 [00:00<?, ?it/s]"
      ]
     },
     "metadata": {},
     "output_type": "display_data"
    },
    {
     "data": {
      "application/vnd.jupyter.widget-view+json": {
       "model_id": "7d5ac8be98c1403384ab13324848b18c",
       "version_major": 2,
       "version_minor": 0
      },
      "text/plain": [
       "[fitting_weight_function]:   0%|          | 0/100 [00:00<?, ?it/s]"
      ]
     },
     "metadata": {},
     "output_type": "display_data"
    },
    {
     "data": {
      "application/vnd.jupyter.widget-view+json": {
       "model_id": "064c972c7c0f480886c4fd509d547101",
       "version_major": 2,
       "version_minor": 0
      },
      "text/plain": [
       "[fitting_weight_function]:   0%|          | 0/100 [00:00<?, ?it/s]"
      ]
     },
     "metadata": {},
     "output_type": "display_data"
    },
    {
     "data": {
      "application/vnd.jupyter.widget-view+json": {
       "model_id": "83f734fe210f429ea083c121f8ab3dab",
       "version_major": 2,
       "version_minor": 0
      },
      "text/plain": [
       "[collect input data: eval_policy]:   0%|          | 0/2 [00:00<?, ?it/s]"
      ]
     },
     "metadata": {},
     "output_type": "display_data"
    },
    {
     "data": {
      "application/vnd.jupyter.widget-view+json": {
       "model_id": "23c1b320c8054d64ac267750ae199d66",
       "version_major": 2,
       "version_minor": 0
      },
      "text/plain": [
       "[calculate on-policy policy value]:   0%|          | 0/100 [00:00<?, ?it/s]"
      ]
     },
     "metadata": {},
     "output_type": "display_data"
    },
    {
     "data": {
      "application/vnd.jupyter.widget-view+json": {
       "model_id": "12bc6e5c2d4348b7835b55e982c8db00",
       "version_major": 2,
       "version_minor": 0
      },
      "text/plain": [
       "[calculate on-policy policy value]:   0%|          | 0/100 [00:00<?, ?it/s]"
      ]
     },
     "metadata": {},
     "output_type": "display_data"
    }
   ],
   "source": [
    "\n",
    "for n_trajectories in n_trajectories_list:\n",
    "    # se_list = []\n",
    "    for random_state in random_state_list:\n",
    "    \n",
    "        behavior_policy = TruncatedGaussianHead(\n",
    "            sac, \n",
    "            minimum=env.action_space.low,\n",
    "            maximum=env.action_space.high,\n",
    "            sigma=np.array([1.0]),\n",
    "            name=\"sac_sigma_1.0\",\n",
    "            random_state=random_state,\n",
    "        )\n",
    "\n",
    "        # initialize dataset class\n",
    "        dataset = SyntheticDataset(\n",
    "            env=env,\n",
    "            state_keys=env.obs_keys,\n",
    "            max_episode_steps=env.step_per_episode,\n",
    "            info_keys={\n",
    "                \"search_volume\": int,\n",
    "                \"impression\": int,\n",
    "                \"click\": int,\n",
    "                \"conversion\": int,\n",
    "                \"average_bid_price\": float,\n",
    "            },\n",
    "        )\n",
    "\n",
    "        # collect logged data by a behavior policy\n",
    "        # skip if there is a preserved logged dataset\n",
    "        train_logged_dataset = dataset.obtain_episodes(\n",
    "            behavior_policies=behavior_policy,\n",
    "            # n_trajectories=10000, \n",
    "            n_trajectories=n_trajectories, \n",
    "            obtain_info=True,\n",
    "            random_state=random_state,\n",
    "        )\n",
    "        test_logged_dataset = dataset.obtain_episodes(\n",
    "            behavior_policies=behavior_policy,\n",
    "            # n_trajectories=10000, \n",
    "            n_trajectories=n_trajectories, \n",
    "            obtain_info=True,\n",
    "            random_state=random_state + 1,\n",
    "        )\n",
    "\n",
    "        # with open(\"logs/train_dataset_continuous_sac.pkl\", \"wb\") as f:\n",
    "        # pickle.dump(train_logged_dataset, f)\n",
    "        # with open(\"logs/test_dataset_continuous_sac.pkl\", \"wb\") as f:\n",
    "        # pickle.dump(test_logged_dataset, f)\n",
    "\n",
    "        # with open(\"logs/train_dataset_continuous_sac.pkl\", \"rb\") as f:\n",
    "        # train_logged_dataset = pickle.load(f)\n",
    "        # with open(\"logs/test_dataset_continuous_sac.pkl\", \"rb\") as f:\n",
    "        # test_logged_dataset = pickle.load(f)\n",
    "\n",
    "        # transform offline dataset for d3rlpy\n",
    "        offlinerl_dataset = MDPDataset(\n",
    "            observations=train_logged_dataset[\"state\"],\n",
    "            actions=train_logged_dataset[\"action\"],\n",
    "            rewards=train_logged_dataset[\"reward\"],\n",
    "            terminals=train_logged_dataset[\"done\"],\n",
    "            episode_terminals=train_logged_dataset[\"done\"],\n",
    "            discrete_action=False,\n",
    "        )\n",
    "        train_episodes, test_episodes = train_test_split(offlinerl_dataset, test_size=0.2, random_state=random_state)\n",
    "\n",
    "        # Use Conservative Q-Learning policy\n",
    "        cql = CQL(\n",
    "            actor_encoder_factory=VectorEncoderFactory(hidden_units=[30, 30]),\n",
    "            critic_encoder_factory=VectorEncoderFactory(hidden_units=[30, 30]),\n",
    "            q_func_factory=MeanQFunctionFactory(),\n",
    "            use_gpu=torch.cuda.is_available(),\n",
    "            action_scaler=MinMaxActionScaler(\n",
    "                minimum=env_.action_space.low,  # minimum value that policy can take\n",
    "                maximum=env_.action_space.high,  # maximum value that policy can take\n",
    "            )\n",
    "        )\n",
    "\n",
    "        cql.fit(\n",
    "            train_episodes,\n",
    "            eval_episodes=test_episodes,\n",
    "            n_steps=10000,\n",
    "            # n_steps=10000,\n",
    "            scorers={},\n",
    "        )\n",
    "\n",
    "        # # save model\n",
    "        # cql.save_model(\"d3rlpy_logs/cql_continuous.pt\")\n",
    "\n",
    "        # # reload model\n",
    "        # cql.build_with_env(env)\n",
    "        # cql.load_model(\"d3rlpy_logs/cql_continuous.pt\")\n",
    "\n",
    "        # define evaluation policies (should be deterministic policy)\n",
    "        cql_ = ContinuousEvalHead(\n",
    "            base_policy=cql,\n",
    "            name=\"cql\",\n",
    "        )\n",
    "        sac_ = ContinuousEvalHead(\n",
    "            base_policy=sac, \n",
    "            name=\"sac\", \n",
    "        )\n",
    "        evaluation_policies = [cql_, sac_]\n",
    "        \n",
    "        # first, prepare OPE inputs\n",
    "        prep = CreateOPEInput(\n",
    "            env=env,\n",
    "            model_args={\n",
    "                \"fqe\": {\n",
    "                    \"encoder_factory\": VectorEncoderFactory(hidden_units=[30, 30]),\n",
    "                    \"q_func_factory\": MeanQFunctionFactory(),\n",
    "                    \"learning_rate\": 1e-4,\n",
    "                    \"use_gpu\": torch.cuda.is_available(),\n",
    "                },\n",
    "            },\n",
    "            state_scaler=MinMaxScaler(\n",
    "                minimum=test_logged_dataset[\"state\"].min(axis=0),\n",
    "                maximum=test_logged_dataset[\"state\"].max(axis=0),\n",
    "            ),\n",
    "            action_scaler=MinMaxActionScaler(\n",
    "                minimum=env.action_space.low,  # minimum value that policy can take\n",
    "                maximum=env.action_space.high,  # maximum value that policy can take\n",
    "            ),\n",
    "            gamma=0.95,\n",
    "            sigma=0.1,\n",
    "            device=\"cuda:0\" if torch.cuda.is_available() else \"cpu\",\n",
    "        )\n",
    "\n",
    "        # takes time\n",
    "        input_dict = prep.obtain_whole_inputs(\n",
    "            logged_dataset=test_logged_dataset,\n",
    "            evaluation_policies=evaluation_policies,\n",
    "            require_value_prediction=True,\n",
    "            require_weight_prediction=True,\n",
    "            n_trajectories_on_policy_evaluation=100,\n",
    "            random_state=random_state,\n",
    "        )\n",
    "\n",
    "        # with open(\"logs/ope_input_dict_continuous_zoo.pkl\", \"wb\") as f:\n",
    "        # pickle.dump(input_dict, f)\n",
    "\n",
    "        # with open(\"logs/ope_input_dict_continuous_zoo.pkl\", \"rb\") as f:\n",
    "        # input_dict = pickle.load(f)\n",
    "\n",
    "        ope = OPE(\n",
    "            logged_dataset=test_logged_dataset,\n",
    "            ope_estimators=all_estimators,\n",
    "            action_scaler=MinMaxActionScaler(\n",
    "                minimum=env.action_space.low,  # minimum value that policy can take\n",
    "                maximum=env.action_space.high,  # maximum value that policy can take\n",
    "            ),\n",
    "            sigma=0.1,\n",
    "        )\n",
    "\n",
    "        policy_value_dict = ope.estimate_policy_value(\n",
    "            input_dict=input_dict,\n",
    "        )\n",
    "        \n",
    "        tmp_cql = DataFrame(policy_value_dict)['cql']\n",
    "        cql_data = pd.concat([cql_data, tmp_cql], axis=1)\n",
    "        # tmp_sac = DataFrame(policy_value_dict)['sac']\n",
    "        # sac_data = pd.concat([sac_data, tmp_sac], axis=1)\n",
    "        \n",
    "        \n",
    "    bias = abs(cql_data.mean(axis=1) - cql_data.mean(axis=1)['on_policy'])\n",
    "    variance = cql_data.var(axis=1)\n",
    "\n",
    "    bias_df = DataFrame(DataFrame(bias).stack())\\\n",
    "        .reset_index(1).rename(columns={\"level_1\": \"est\", 0: \"bias\"})\n",
    "    bias_df[\"n_trajectories\"] = n_trajectories\n",
    "    bias_df_list.append(bias_df)\n",
    "    variance_df = DataFrame(DataFrame(variance).stack())\\\n",
    "        .reset_index(1).rename(columns={\"level_1\": \"est\", 0: \"variance\"})\n",
    "    variance_df[\"n_trajectories\"] = n_trajectories\n",
    "    variance_df_list.append(variance_df)\n",
    "\n",
    "\n",
    "    # bias_df[n_trajectories] = bias\n",
    "    # variance_df[n_trajectories] = variance\n",
    "\n",
    "# aggregate all results \n",
    "bias_result_df = pd.concat(bias_df_list).reset_index(level=0)\n",
    "variance_result_df = pd.concat(variance_df_list).reset_index(level=0)"
   ]
  },
  {
   "cell_type": "code",
   "execution_count": 48,
   "metadata": {},
   "outputs": [
    {
     "data": {
      "text/html": [
       "<div>\n",
       "<style scoped>\n",
       "    .dataframe tbody tr th:only-of-type {\n",
       "        vertical-align: middle;\n",
       "    }\n",
       "\n",
       "    .dataframe tbody tr th {\n",
       "        vertical-align: top;\n",
       "    }\n",
       "\n",
       "    .dataframe thead th {\n",
       "        text-align: right;\n",
       "    }\n",
       "</style>\n",
       "<table border=\"1\" class=\"dataframe\">\n",
       "  <thead>\n",
       "    <tr style=\"text-align: right;\">\n",
       "      <th></th>\n",
       "      <th>index</th>\n",
       "      <th>est</th>\n",
       "      <th>bias</th>\n",
       "      <th>n_trajectories</th>\n",
       "    </tr>\n",
       "  </thead>\n",
       "  <tbody>\n",
       "    <tr>\n",
       "      <th>0</th>\n",
       "      <td>on_policy</td>\n",
       "      <td>0</td>\n",
       "      <td>0.000000</td>\n",
       "      <td>100</td>\n",
       "    </tr>\n",
       "    <tr>\n",
       "      <th>1</th>\n",
       "      <td>dm</td>\n",
       "      <td>0</td>\n",
       "      <td>13.113943</td>\n",
       "      <td>100</td>\n",
       "    </tr>\n",
       "    <tr>\n",
       "      <th>2</th>\n",
       "      <td>tis</td>\n",
       "      <td>0</td>\n",
       "      <td>10.773735</td>\n",
       "      <td>100</td>\n",
       "    </tr>\n",
       "    <tr>\n",
       "      <th>3</th>\n",
       "      <td>pdis</td>\n",
       "      <td>0</td>\n",
       "      <td>1.756162</td>\n",
       "      <td>100</td>\n",
       "    </tr>\n",
       "    <tr>\n",
       "      <th>4</th>\n",
       "      <td>dr</td>\n",
       "      <td>0</td>\n",
       "      <td>1.722364</td>\n",
       "      <td>100</td>\n",
       "    </tr>\n",
       "    <tr>\n",
       "      <th>...</th>\n",
       "      <td>...</td>\n",
       "      <td>...</td>\n",
       "      <td>...</td>\n",
       "      <td>...</td>\n",
       "    </tr>\n",
       "    <tr>\n",
       "      <th>80</th>\n",
       "      <td>sam_is</td>\n",
       "      <td>0</td>\n",
       "      <td>13.278648</td>\n",
       "      <td>1600</td>\n",
       "    </tr>\n",
       "    <tr>\n",
       "      <th>81</th>\n",
       "      <td>sam_dr</td>\n",
       "      <td>0</td>\n",
       "      <td>13.248671</td>\n",
       "      <td>1600</td>\n",
       "    </tr>\n",
       "    <tr>\n",
       "      <th>82</th>\n",
       "      <td>sam_snis</td>\n",
       "      <td>0</td>\n",
       "      <td>6.988308</td>\n",
       "      <td>1600</td>\n",
       "    </tr>\n",
       "    <tr>\n",
       "      <th>83</th>\n",
       "      <td>sam_sndr</td>\n",
       "      <td>0</td>\n",
       "      <td>6.964683</td>\n",
       "      <td>1600</td>\n",
       "    </tr>\n",
       "    <tr>\n",
       "      <th>84</th>\n",
       "      <td>drl</td>\n",
       "      <td>0</td>\n",
       "      <td>13.246422</td>\n",
       "      <td>1600</td>\n",
       "    </tr>\n",
       "  </tbody>\n",
       "</table>\n",
       "<p>85 rows × 4 columns</p>\n",
       "</div>"
      ],
      "text/plain": [
       "        index  est       bias  n_trajectories\n",
       "0   on_policy    0   0.000000             100\n",
       "1          dm    0  13.113943             100\n",
       "2         tis    0  10.773735             100\n",
       "3        pdis    0   1.756162             100\n",
       "4          dr    0   1.722364             100\n",
       "..        ...  ...        ...             ...\n",
       "80     sam_is    0  13.278648            1600\n",
       "81     sam_dr    0  13.248671            1600\n",
       "82   sam_snis    0   6.988308            1600\n",
       "83   sam_sndr    0   6.964683            1600\n",
       "84        drl    0  13.246422            1600\n",
       "\n",
       "[85 rows x 4 columns]"
      ]
     },
     "execution_count": 48,
     "metadata": {},
     "output_type": "execute_result"
    }
   ],
   "source": [
    "bias_result_df"
   ]
  },
  {
   "cell_type": "code",
   "execution_count": 57,
   "metadata": {},
   "outputs": [
    {
     "name": "stderr",
     "output_type": "stream",
     "text": [
      "/var/folders/48/ly7vft814qv_x6krlfw5s8_c0000gn/T/ipykernel_40835/3454856357.py:7: FutureWarning: \n",
      "\n",
      "The `ci` parameter is deprecated. Use `errorbar=None` for the same effect.\n",
      "\n",
      "  sns.lineplot(\n"
     ]
    },
    {
     "data": {
      "image/png": "[encoded data removed]",
      "text/plain": [
       "<Figure size 1000x700 with 1 Axes>"
      ]
     },
     "metadata": {},
     "output_type": "display_data"
    }
   ],
   "source": [
    "# figure configs\n",
    "# query = \"(est == 'DM' or est == 'IPS') and num_data <= 6400\"\n",
    "xlabels = [100, 400, 1600]\n",
    "\n",
    "plt.style.use('ggplot')\n",
    "fig, ax = plt.subplots(figsize=(10, 7), tight_layout=True)\n",
    "sns.lineplot(\n",
    "    linewidth=5,\n",
    "    dashes=False,\n",
    "    legend=False,\n",
    "    x=\"n_trajectories\",\n",
    "    y=\"bias\",\n",
    "    hue=\"index\",\n",
    "    ax=ax,\n",
    "    data=bias_result_df.query(\"(index == 'dm' or index == 'tis')\"),\n",
    "    ci=None,\n",
    ")\n",
    "# title and legend\n",
    "ax.legend([\"DM\", \"TIS\"], loc=\"upper right\", fontsize=25)\n",
    "# yaxis\n",
    "# ax.set_yscale(\"log\")\n",
    "ax.set_ylabel(\"bias\", fontsize=25)\n",
    "ax.tick_params(axis=\"y\", labelsize=15)\n",
    "ax.yaxis.set_label_coords(-0.08, 0.5)\n",
    "# xaxis\n",
    "ax.set_xscale(\"log\")\n",
    "ax.set_xlabel(\"number of trajectories\", fontsize=25)\n",
    "ax.set_xticks(xlabels)\n",
    "ax.set_xticklabels(xlabels, fontsize=15)\n",
    "ax.xaxis.set_label_coords(0.5, -0.1)"
   ]
  },
  {
   "cell_type": "code",
   "execution_count": 56,
   "metadata": {},
   "outputs": [
    {
     "name": "stderr",
     "output_type": "stream",
     "text": [
      "/var/folders/48/ly7vft814qv_x6krlfw5s8_c0000gn/T/ipykernel_40835/132179728.py:7: FutureWarning: \n",
      "\n",
      "The `ci` parameter is deprecated. Use `errorbar=None` for the same effect.\n",
      "\n",
      "  sns.lineplot(\n"
     ]
    },
    {
     "data": {
      "image/png": "[encoded data removed]",
      "text/plain": [
       "<Figure size 1000x700 with 1 Axes>"
      ]
     },
     "metadata": {},
     "output_type": "display_data"
    }
   ],
   "source": [
    "# figure configs\n",
    "# query = \"(est == 'DM' or est == 'IPS') and num_data <= 6400\"\n",
    "xlabels = [100, 400, 1600]\n",
    "\n",
    "plt.style.use('ggplot')\n",
    "fig, ax = plt.subplots(figsize=(10, 7), tight_layout=True)\n",
    "sns.lineplot(\n",
    "    linewidth=5,\n",
    "    dashes=False,\n",
    "    legend=False,\n",
    "    x=\"n_trajectories\",\n",
    "    y=\"bias\",\n",
    "    hue=\"index\",\n",
    "    ax=ax,\n",
    "    data=bias_result_df.query(\"(index == 'dm' or index == 'dr')\"),\n",
    "    ci=None,\n",
    ")\n",
    "# title and legend\n",
    "ax.legend([\"DM\", \"DR\"], loc=\"upper right\", fontsize=25)\n",
    "# yaxis\n",
    "# ax.set_yscale(\"log\")\n",
    "ax.set_ylabel(\"bias\", fontsize=25)\n",
    "ax.tick_params(axis=\"y\", labelsize=15)\n",
    "ax.yaxis.set_label_coords(-0.08, 0.5)\n",
    "# xaxis\n",
    "ax.set_xscale(\"log\")\n",
    "ax.set_xlabel(\"number of trajectories\", fontsize=25)\n",
    "ax.set_xticks(xlabels)\n",
    "ax.set_xticklabels(xlabels, fontsize=15)\n",
    "ax.xaxis.set_label_coords(0.5, -0.1)"
   ]
  },
  {
   "cell_type": "code",
   "execution_count": 50,
   "metadata": {},
   "outputs": [
    {
     "data": {
      "text/html": [
       "<div>\n",
       "<style scoped>\n",
       "    .dataframe tbody tr th:only-of-type {\n",
       "        vertical-align: middle;\n",
       "    }\n",
       "\n",
       "    .dataframe tbody tr th {\n",
       "        vertical-align: top;\n",
       "    }\n",
       "\n",
       "    .dataframe thead th {\n",
       "        text-align: right;\n",
       "    }\n",
       "</style>\n",
       "<table border=\"1\" class=\"dataframe\">\n",
       "  <thead>\n",
       "    <tr style=\"text-align: right;\">\n",
       "      <th></th>\n",
       "      <th>index</th>\n",
       "      <th>est</th>\n",
       "      <th>bias</th>\n",
       "      <th>n_trajectories</th>\n",
       "    </tr>\n",
       "  </thead>\n",
       "  <tbody>\n",
       "    <tr>\n",
       "      <th>0</th>\n",
       "      <td>on_policy</td>\n",
       "      <td>0</td>\n",
       "      <td>1.533342e-01</td>\n",
       "      <td>100</td>\n",
       "    </tr>\n",
       "    <tr>\n",
       "      <th>1</th>\n",
       "      <td>dm</td>\n",
       "      <td>0</td>\n",
       "      <td>1.894362e-02</td>\n",
       "      <td>100</td>\n",
       "    </tr>\n",
       "    <tr>\n",
       "      <th>2</th>\n",
       "      <td>tis</td>\n",
       "      <td>0</td>\n",
       "      <td>2.137155e+01</td>\n",
       "      <td>100</td>\n",
       "    </tr>\n",
       "    <tr>\n",
       "      <th>3</th>\n",
       "      <td>pdis</td>\n",
       "      <td>0</td>\n",
       "      <td>3.416889e+01</td>\n",
       "      <td>100</td>\n",
       "    </tr>\n",
       "    <tr>\n",
       "      <th>4</th>\n",
       "      <td>dr</td>\n",
       "      <td>0</td>\n",
       "      <td>3.458439e+01</td>\n",
       "      <td>100</td>\n",
       "    </tr>\n",
       "    <tr>\n",
       "      <th>...</th>\n",
       "      <td>...</td>\n",
       "      <td>...</td>\n",
       "      <td>...</td>\n",
       "      <td>...</td>\n",
       "    </tr>\n",
       "    <tr>\n",
       "      <th>80</th>\n",
       "      <td>sam_is</td>\n",
       "      <td>0</td>\n",
       "      <td>4.876359e-07</td>\n",
       "      <td>1600</td>\n",
       "    </tr>\n",
       "    <tr>\n",
       "      <th>81</th>\n",
       "      <td>sam_dr</td>\n",
       "      <td>0</td>\n",
       "      <td>1.904789e-02</td>\n",
       "      <td>1600</td>\n",
       "    </tr>\n",
       "    <tr>\n",
       "      <th>82</th>\n",
       "      <td>sam_snis</td>\n",
       "      <td>0</td>\n",
       "      <td>3.098709e+01</td>\n",
       "      <td>1600</td>\n",
       "    </tr>\n",
       "    <tr>\n",
       "      <th>83</th>\n",
       "      <td>sam_sndr</td>\n",
       "      <td>0</td>\n",
       "      <td>3.161783e+01</td>\n",
       "      <td>1600</td>\n",
       "    </tr>\n",
       "    <tr>\n",
       "      <th>84</th>\n",
       "      <td>drl</td>\n",
       "      <td>0</td>\n",
       "      <td>1.919236e-02</td>\n",
       "      <td>1600</td>\n",
       "    </tr>\n",
       "  </tbody>\n",
       "</table>\n",
       "<p>85 rows × 4 columns</p>\n",
       "</div>"
      ],
      "text/plain": [
       "        index  est          bias  n_trajectories\n",
       "0   on_policy    0  1.533342e-01             100\n",
       "1          dm    0  1.894362e-02             100\n",
       "2         tis    0  2.137155e+01             100\n",
       "3        pdis    0  3.416889e+01             100\n",
       "4          dr    0  3.458439e+01             100\n",
       "..        ...  ...           ...             ...\n",
       "80     sam_is    0  4.876359e-07            1600\n",
       "81     sam_dr    0  1.904789e-02            1600\n",
       "82   sam_snis    0  3.098709e+01            1600\n",
       "83   sam_sndr    0  3.161783e+01            1600\n",
       "84        drl    0  1.919236e-02            1600\n",
       "\n",
       "[85 rows x 4 columns]"
      ]
     },
     "execution_count": 50,
     "metadata": {},
     "output_type": "execute_result"
    }
   ],
   "source": [
    "variance_result_df"
   ]
  },
  {
   "cell_type": "code",
   "execution_count": null,
   "metadata": {},
   "outputs": [],
   "source": [
    "# figure configs\n",
    "# query = \"(est == 'DM' or est == 'IPS') and num_data <= 6400\"\n",
    "xlabels = [100, 400, 1600]\n",
    "\n",
    "plt.style.use('ggplot')\n",
    "fig, ax = plt.subplots(figsize=(10, 7), tight_layout=True)\n",
    "sns.lineplot(\n",
    "    linewidth=5,\n",
    "    dashes=False,\n",
    "    legend=False,\n",
    "    x=\"n_trajectories\",\n",
    "    y=\"variance\",\n",
    "    hue=\"index\",\n",
    "    ax=ax,\n",
    "    data=variance_result_df.query(\"(index == 'dm' or index == 'tis')\"),\n",
    "    ci=None,\n",
    ")\n",
    "# title and legend\n",
    "ax.legend([\"DM\", \"TIS\"], loc=\"upper right\", fontsize=25)\n",
    "# yaxis\n",
    "# ax.set_yscale(\"log\")\n",
    "ax.set_ylabel(\"variance\", fontsize=25)\n",
    "ax.tick_params(axis=\"y\", labelsize=15)\n",
    "ax.yaxis.set_label_coords(-0.08, 0.5)\n",
    "# xaxis\n",
    "ax.set_xscale(\"log\")\n",
    "ax.set_xlabel(\"number of trajectories\", fontsize=25)\n",
    "ax.set_xticks(xlabels)\n",
    "ax.set_xticklabels(xlabels, fontsize=15)\n",
    "ax.xaxis.set_label_coords(0.5, -0.1)"
   ]
  },
  {
   "cell_type": "code",
   "execution_count": null,
   "metadata": {},
   "outputs": [],
   "source": [
    "# figure configs\n",
    "# query = \"(est == 'DM' or est == 'IPS') and num_data <= 6400\"\n",
    "xlabels = [100, 400, 1600]\n",
    "\n",
    "plt.style.use('ggplot')\n",
    "fig, ax = plt.subplots(figsize=(10, 7), tight_layout=True)\n",
    "sns.lineplot(\n",
    "    linewidth=5,\n",
    "    dashes=False,\n",
    "    legend=False,\n",
    "    x=\"n_trajectories\",\n",
    "    y=\"variance\",\n",
    "    hue=\"index\",\n",
    "    ax=ax,\n",
    "    data=variance_result_df.query(\"(index == 'tis' or index == 'pdis')\")\n",
    ",\n",
    ")\n",
    "# title and legend\n",
    "ax.legend([\"TIS\", \"PDIS\"], loc=\"upper right\", fontsize=25)\n",
    "# yaxis\n",
    "# ax.set_yscale(\"log\")\n",
    "ax.set_ylabel(\"variance\", fontsize=25)\n",
    "ax.tick_params(axis=\"y\", labelsize=15)\n",
    "ax.yaxis.set_label_coords(-0.08, 0.5)\n",
    "# xaxis\n",
    "ax.set_xscale(\"log\")\n",
    "ax.set_xlabel(\"number of trajectories\", fontsize=25)\n",
    "ax.set_xticks(xlabels)\n",
    "ax.set_xticklabels(xlabels, fontsize=15)\n",
    "ax.xaxis.set_label_coords(0.5, -0.1)"
   ]
  },
  {
   "cell_type": "code",
   "execution_count": null,
   "metadata": {},
   "outputs": [],
   "source": [
    "# figure configs\n",
    "# query = \"(est == 'DM' or est == 'IPS') and num_data <= 6400\"\n",
    "xlabels = [100, 400, 1600]\n",
    "\n",
    "plt.style.use('ggplot')\n",
    "fig, ax = plt.subplots(figsize=(10, 7), tight_layout=True)\n",
    "sns.lineplot(\n",
    "    linewidth=5,\n",
    "    dashes=False,\n",
    "    legend=False,\n",
    "    x=\"n_trajectories\",\n",
    "    y=\"variance\",\n",
    "    hue=\"index\",\n",
    "    ax=ax,\n",
    "    data=variance_result_df.query(\"(index == 'pdis' or index == 'dr')\")\n",
    ",\n",
    ")\n",
    "# title and legend\n",
    "ax.legend([\"PDIS\", \"DR\"], loc=\"upper right\", fontsize=25)\n",
    "# yaxis\n",
    "# ax.set_yscale(\"log\")\n",
    "ax.set_ylabel(\"variance\", fontsize=25)\n",
    "ax.tick_params(axis=\"y\", labelsize=15)\n",
    "ax.yaxis.set_label_coords(-0.08, 0.5)\n",
    "# xaxis\n",
    "ax.set_xscale(\"log\")\n",
    "ax.set_xlabel(\"number of trajectories\", fontsize=25)\n",
    "ax.set_xticks(xlabels)\n",
    "ax.set_xticklabels(xlabels, fontsize=15)\n",
    "ax.xaxis.set_label_coords(0.5, -0.1)"
   ]
  },
  {
   "cell_type": "code",
   "execution_count": null,
   "metadata": {},
   "outputs": [],
   "source": []
  }
 ],
 "metadata": {
  "kernelspec": {
   "display_name": "Python 3",
   "language": "python",
   "name": "python3"
  },
  "language_info": {
   "codemirror_mode": {
    "name": "ipython",
    "version": 3
   },
   "file_extension": ".py",
   "mimetype": "text/x-python",
   "name": "python",
   "nbconvert_exporter": "python",
   "pygments_lexer": "ipython3",
   "version": "3.10.6"
  },
  "orig_nbformat": 4,
  "vscode": {
   "interpreter": {
    "hash": "70404ee114725fce8ed9e697d67827f8546c678889944e6d695790702cbfe1f5"
   }
  }
 },
 "nbformat": 4,
 "nbformat_minor": 2
}
