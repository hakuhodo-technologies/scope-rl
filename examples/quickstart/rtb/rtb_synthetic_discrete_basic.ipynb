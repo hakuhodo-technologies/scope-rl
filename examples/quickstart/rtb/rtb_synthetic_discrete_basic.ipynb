{
 "cells": [
  {
   "cell_type": "markdown",
   "metadata": {},
   "source": [
    "# Quickstart Example with Synthetic RTB Simulation and Dataset (Discrete)\n",
    "This notebook provides an example of conducting **Off-policy Evaluation (OPE) and Offline Reinforcement Learning (Offline RL) on a synthetic Real-Time Bidding (RTB) dataset**.\n",
    "\n",
    "This example consists of the following 5 steps: \\\n",
    "0. (Setup Synthetic RTB Simulation Environment and Online RL)\n",
    "1. Synthetic Data Generation\n",
    "2. Offline Reinforcement Learning\n",
    "3. Off-Policy Evaluation and Evaluation of Offline RL methods\n",
    "4. Evaluation of OPE methods\n",
    "\n",
    "\\* This library uses [d3rlpy](https://github.com/takuseno/d3rlpy)'s algorithm implementations of online/offline rl policies and model-based evaluation.  \n",
    "\\* Also, our implementations of OPE are highly inspired by [Open Bandit Pipeline](https://github.com/st-tech/zr-obp)."
   ]
  },
  {
   "cell_type": "code",
   "execution_count": 1,
   "metadata": {},
   "outputs": [],
   "source": [
    "# delete later\n",
    "%load_ext autoreload\n",
    "%autoreload 2"
   ]
  },
  {
   "cell_type": "code",
   "execution_count": 2,
   "metadata": {},
   "outputs": [],
   "source": [
    "# delete later\n",
    "import warnings\n",
    "warnings.simplefilter('ignore')"
   ]
  },
  {
   "cell_type": "code",
   "execution_count": 3,
   "metadata": {},
   "outputs": [],
   "source": [
    "# delete later\n",
    "import sys\n",
    "sys.path.append('../')\n",
    "sys.path.append('../../')"
   ]
  },
  {
   "cell_type": "code",
   "execution_count": 4,
   "metadata": {},
   "outputs": [],
   "source": [
    "# import OFRL modules\n",
    "import ofrl\n",
    "from rtbgym import RTBEnv, CustomizedRTBEnv\n",
    "from ofrl.dataset import SyntheticDataset\n",
    "from ofrl.policy import OnlineHead\n",
    "from ofrl.ope.online import (\n",
    "    calc_on_policy_policy_value,\n",
    "    visualize_on_policy_policy_value,\n",
    ")\n",
    "\n",
    "# import d3rlpy algorithms\n",
    "from d3rlpy.algos import DiscreteRandomPolicy\n",
    "from d3rlpy.algos import RandomPolicy as ContinuousRandomPolicy\n",
    "# from d3rlpy.preprocessing import MinMaxScaler, MinMaxActionScaler\n",
    "from ofrl.utils import MinMaxScaler, MinMaxActionScaler\n",
    "\n",
    "# import from other libraries\n",
    "import gym\n",
    "import torch\n",
    "from sklearn.model_selection import train_test_split"
   ]
  },
  {
   "cell_type": "code",
   "execution_count": 5,
   "metadata": {},
   "outputs": [],
   "source": [
    "import pickle\n",
    "from glob import glob\n",
    "from tqdm import tqdm\n",
    "\n",
    "import numpy as np\n",
    "import pandas as pd\n",
    "\n",
    "import matplotlib.pyplot as plt\n",
    "import seaborn as sns\n",
    "\n",
    "%matplotlib inline"
   ]
  },
  {
   "cell_type": "code",
   "execution_count": 6,
   "metadata": {},
   "outputs": [
    {
     "name": "stdout",
     "output_type": "stream",
     "text": [
      "0.0.0\n"
     ]
    }
   ],
   "source": [
    "# version\n",
    "print(ofrl.__version__)"
   ]
  },
  {
   "cell_type": "code",
   "execution_count": 7,
   "metadata": {},
   "outputs": [],
   "source": [
    "# set random state\n",
    "random_state = 12345"
   ]
  },
  {
   "cell_type": "code",
   "execution_count": 8,
   "metadata": {},
   "outputs": [],
   "source": [
    "# log directory\n",
    "from pathlib import Path\n",
    "Path(\"logs/\").mkdir(exist_ok=True)"
   ]
  },
  {
   "cell_type": "markdown",
   "metadata": {},
   "source": [
    "## 0. (Setup Synthetic RTB Simulation Environment and Online RL)\n",
    "To begin with, we briefly describe how the RTB environment works for the preparation.\n",
    "\n",
    "#### RL setup for RTB\n",
    "In RTB, the objective of the RL agent is to maximize some KPIs (number of clicks or conversions) within an episode under given budget constraints.  \n",
    "We often try to achieve this by adjusting bidding price function parameter $\\alpha$. By using $\\alpha$, we can adjust the bid price as follows.  \n",
    "$bid_{t,i} = \\alpha \\cdot r^{\\ast}$, \n",
    "where $r^{\\ast}$ denotes a predicted or expected reward (KPIs).\n",
    "\n",
    "We often formulate this RTB problem as the following Constrained Markov Decision Process (CMDP):\n",
    "- `timestep`: One episode (a day or a week) consists of several timesteps (24 hours or seven days, for instance).\n",
    "- `state`: We observe some feedback from the environment at each timestep, which includes the following.\n",
    "  - timestep\n",
    "  - remaining budget\n",
    "  - impression level features (budget consumption rate, cost per mille of impressions, auction winning rate, reward) at the previous timestep\n",
    "  - adjust rate (RL agent's decision making) at the previous timestep\n",
    "- `action`: Agent chooses adjust rate parameter $\\alpha$ to maximize KPIs.\n",
    "- `reward`: Total number of clicks or conversions obtained during the timestep.\n",
    "- `constraints`: The pre-determined episodic budget should not be exceeded.\n",
    "\n",
    "For more about the environmental configuration , please refer to [examples/quickstart/rtb/rtb_synthetic_customize_env.ipynb](https://github.com/negocia-inc/ofrl/blob/ope/examples/quickstart/rtb/rtb_synthetic_customize_env.ipynb).\n",
    "\n",
    "Let's see how it works!"
   ]
  },
  {
   "cell_type": "code",
   "execution_count": 9,
   "metadata": {},
   "outputs": [],
   "source": [
    "# setup environment\n",
    "env = RTBEnv(random_state=random_state)"
   ]
  },
  {
   "cell_type": "code",
   "execution_count": 10,
   "metadata": {},
   "outputs": [],
   "source": [
    "# define a random agent\n",
    "agent = OnlineHead(\n",
    "    ContinuousRandomPolicy(\n",
    "        action_scaler=MinMaxActionScaler(\n",
    "            minimum=0.1,  # minimum value that policy can take\n",
    "            maximum=10,  # maximum value that policy can take\n",
    "        )\n",
    "    ),\n",
    "    name=\"random\",\n",
    ")"
   ]
  },
  {
   "cell_type": "code",
   "execution_count": 11,
   "metadata": {},
   "outputs": [],
   "source": [
    "# interact agent with the environment\n",
    "# only 6 lines are needed for RL interaction\n",
    "for episode in range(10):\n",
    "    obs, info = env.reset()\n",
    "    done = False\n",
    "\n",
    "    while not done:\n",
    "        action = agent.predict_online(obs)\n",
    "        obs, reward, done, truncated, info = env.step(action)"
   ]
  },
  {
   "cell_type": "code",
   "execution_count": 12,
   "metadata": {},
   "outputs": [
    {
     "name": "stdout",
     "output_type": "stream",
     "text": [
      "['timestep', 'remaining_budget', 'budget_consumption_rate', 'cost_per_mille_of_impression', 'winning_rate', 'reward', 'adjust_rate']\n",
      "(7,)\n"
     ]
    }
   ],
   "source": [
    "# state contains the following feedback from the environment\n",
    "print(env.obs_keys)\n",
    "print(obs.shape)"
   ]
  },
  {
   "cell_type": "code",
   "execution_count": 13,
   "metadata": {},
   "outputs": [
    {
     "data": {
      "image/png": "[encoded data removed]",
      "text/plain": [
       "<Figure size 640x480 with 2 Axes>"
      ]
     },
     "metadata": {},
     "output_type": "display_data"
    }
   ],
   "source": [
    "# let's visualize the transition of the remaining budget and cumulative reward\n",
    "# our goal is to obtain a policy (or an agent) that maximizes the cumulative reward under budget constraints using RL.  \n",
    "obs, info = env.reset()\n",
    "done = False\n",
    "remaining_budget = [obs[1]]\n",
    "cumulative_reward = [0]\n",
    "\n",
    "while not done:\n",
    "    action = agent.predict_online(obs)\n",
    "    obs, reward, done, truncated, info = env.step(action)\n",
    "    remaining_budget.append(obs[1])\n",
    "    cumulative_reward.append(cumulative_reward[-1] + reward)\n",
    "\n",
    "# plot\n",
    "fig = plt.figure()\n",
    "ax1 = fig.add_subplot(111)\n",
    "ax1.plot(remaining_budget[:-1], label='remaining budget')\n",
    "ax2 = ax1.twinx()\n",
    "ax2.plot(cumulative_reward[:-1], label='cumulative reward', color='tab:orange')\n",
    "ax1.set_xlabel('timestep')\n",
    "ax1.set_ylabel('remainig budget')\n",
    "ax1.set_ylim(0, env.initial_budget + 100)\n",
    "ax2.set_ylabel('reward (coversion)')\n",
    "ax1.legend(loc='upper left')\n",
    "ax2.legend(loc='upper right')\n",
    "plt.show()"
   ]
  },
  {
   "cell_type": "markdown",
   "metadata": {},
   "source": [
    "We see that the random policy run out the budget quickly.  \n",
    "Our goal is to derive a policy that controls the adjust rate (i.e., action) to maximize the reward within the given budget constraints.\n",
    "\n",
    "For more about the environmental configurations and customization, please refer to [examples/quickstart/rtb/rtb_synthetic_customize_env.ipynb](https://github.com/negocia-inc/ofrl/blob/ope/examples/quickstart/rtb/rtb_synthetic_customize_env.ipynb)."
   ]
  },
  {
   "cell_type": "markdown",
   "metadata": {},
   "source": [
    "#### Online RL and comparison of the policies\n",
    "We now learn an online RL policy and compare it to the random policy, using on-policy policy estimation."
   ]
  },
  {
   "cell_type": "code",
   "execution_count": 14,
   "metadata": {},
   "outputs": [
    {
     "name": "stdout",
     "output_type": "stream",
     "text": [
      "[ 0.1         0.16681005  0.27825594  0.46415888  0.77426368  1.29154967\n",
      "  2.15443469  3.59381366  5.9948425  10.        ]\n"
     ]
    }
   ],
   "source": [
    "# standardized environment for discrete action\n",
    "env = gym.make(\"RTBEnv-discrete-v0\")\n",
    "print(env.action_meaning)"
   ]
  },
  {
   "cell_type": "code",
   "execution_count": 15,
   "metadata": {},
   "outputs": [],
   "source": [
    "# for api compatibility to d3rlpy\n",
    "from ofrl.utils import OldGymAPIWrapper\n",
    "env_ = OldGymAPIWrapper(env)"
   ]
  },
  {
   "cell_type": "code",
   "execution_count": 16,
   "metadata": {},
   "outputs": [],
   "source": [
    "from d3rlpy.algos import DoubleDQN\n",
    "from d3rlpy.models.encoders import VectorEncoderFactory\n",
    "from d3rlpy.models.q_functions import MeanQFunctionFactory\n",
    "from d3rlpy.online.buffers import ReplayBuffer\n",
    "from d3rlpy.online.explorers import LinearDecayEpsilonGreedy\n",
    "\n",
    "# model\n",
    "ddqn = DoubleDQN(\n",
    "    encoder_factory=VectorEncoderFactory(hidden_units=[30, 30]),\n",
    "    q_func_factory=MeanQFunctionFactory(),\n",
    "    target_update_interval=100,\n",
    "    use_gpu=torch.cuda.is_available(),\n",
    ")\n",
    "# replay buffer\n",
    "buffer = ReplayBuffer(\n",
    "    maxlen=10000,\n",
    "    env=env_,\n",
    ")\n",
    "# explorers\n",
    "explorer = LinearDecayEpsilonGreedy(\n",
    "    start_epsilon=1.0,\n",
    "    end_epsilon=0.3,\n",
    "    duration=1000,\n",
    ")"
   ]
  },
  {
   "cell_type": "code",
   "execution_count": null,
   "metadata": {},
   "outputs": [],
   "source": [
    "# start training\n",
    "# skip if there is a pre-trained model\n",
    "ddqn.fit_online(\n",
    "    env_,\n",
    "    buffer,\n",
    "    explorer=explorer,\n",
    "    eval_env=env_,\n",
    "    n_steps=100000,\n",
    "    n_steps_per_epoch=1000,\n",
    "    update_start_step=1000,\n",
    ")"
   ]
  },
  {
   "cell_type": "code",
   "execution_count": 20,
   "metadata": {},
   "outputs": [],
   "source": [
    "# save model\n",
    "ddqn.save_model(\"d3rlpy_logs/ddqn.pt\")"
   ]
  },
  {
   "cell_type": "code",
   "execution_count": 17,
   "metadata": {},
   "outputs": [],
   "source": [
    "# reload model\n",
    "ddqn.build_with_env(env_)\n",
    "ddqn.load_model(\"d3rlpy_logs/ddqn.pt\")"
   ]
  },
  {
   "cell_type": "code",
   "execution_count": 18,
   "metadata": {},
   "outputs": [
    {
     "data": {
      "text/plain": [
       "Text(0, 0.5, 'episode reward')"
      ]
     },
     "execution_count": 18,
     "metadata": {},
     "output_type": "execute_result"
    },
    {
     "data": {
      "image/png": "[encoded data removed]",
      "text/plain": [
       "<Figure size 640x480 with 1 Axes>"
      ]
     },
     "metadata": {},
     "output_type": "display_data"
    }
   ],
   "source": [
    "# we see that training RL policy can be risky online\n",
    "log_path = sorted(glob(\"d3rlpy_logs/DoubleDQN_online_*/evaluation.csv\"))[-1]\n",
    "df = pd.read_csv(\n",
    "    log_path, \n",
    "    usecols=[1,2],\n",
    "    names=[\"train_episode\", \"episodic_rewards\"]\n",
    ")\n",
    "plt.plot(df[\"train_episode\"], df[\"episodic_rewards\"])\n",
    "plt.title(\"Learning curve of DDQN\")\n",
    "plt.xlabel(\"episode\")\n",
    "plt.ylabel(\"episode reward\")"
   ]
  },
  {
   "cell_type": "code",
   "execution_count": 19,
   "metadata": {},
   "outputs": [],
   "source": [
    "random = DiscreteRandomPolicy()\n",
    "random.build_with_env(env_)"
   ]
  },
  {
   "cell_type": "code",
   "execution_count": 20,
   "metadata": {},
   "outputs": [
    {
     "data": {
      "application/vnd.jupyter.widget-view+json": {
       "model_id": "444eb5ceea8542af9953eedce6d33fd3",
       "version_major": 2,
       "version_minor": 0
      },
      "text/plain": [
       "[calculate on-policy policy value]:   0%|          | 0/100 [00:00<?, ?it/s]"
      ]
     },
     "metadata": {},
     "output_type": "display_data"
    },
    {
     "data": {
      "application/vnd.jupyter.widget-view+json": {
       "model_id": "cd0861f95bb04b329b2c3d48ad069a4e",
       "version_major": 2,
       "version_minor": 0
      },
      "text/plain": [
       "[calculate on-policy policy value]:   0%|          | 0/100 [00:00<?, ?it/s]"
      ]
     },
     "metadata": {},
     "output_type": "display_data"
    },
    {
     "data": {
      "image/png": "[encoded data removed]",
      "text/plain": [
       "<Figure size 400x400 with 1 Axes>"
      ]
     },
     "metadata": {},
     "output_type": "display_data"
    }
   ],
   "source": [
    "# compare the policy performance online\n",
    "visualize_on_policy_policy_value(\n",
    "    env=env,\n",
    "    policies=[ddqn, random],\n",
    "    policy_names=[\"ddqn\", \"random\"],\n",
    "    n_trajectories=100,\n",
    "    random_state=random_state,\n",
    ")"
   ]
  },
  {
   "cell_type": "code",
   "execution_count": 21,
   "metadata": {},
   "outputs": [
    {
     "data": {
      "application/vnd.jupyter.widget-view+json": {
       "model_id": "86a432f6e4b74853b3cb783f29a322d9",
       "version_major": 2,
       "version_minor": 0
      },
      "text/plain": [
       "[calculate on-policy policy value]:   0%|          | 0/100 [00:00<?, ?it/s]"
      ]
     },
     "metadata": {},
     "output_type": "display_data"
    },
    {
     "data": {
      "application/vnd.jupyter.widget-view+json": {
       "model_id": "3819f7ca92ac45658134222449c080a4",
       "version_major": 2,
       "version_minor": 0
      },
      "text/plain": [
       "[calculate on-policy policy value]:   0%|          | 0/100 [00:00<?, ?it/s]"
      ]
     },
     "metadata": {},
     "output_type": "display_data"
    },
    {
     "name": "stdout",
     "output_type": "stream",
     "text": [
      "relative improvement: 0.3014354066985647\n"
     ]
    }
   ],
   "source": [
    "# on-policy policy value by ddqn policy\n",
    "# largely outperforms the random policy (about 20%)\n",
    "ddqn_performance = calc_on_policy_policy_value(env, ddqn, n_trajectories=100, random_state=random_state)\n",
    "random_performance = calc_on_policy_policy_value(env, random, n_trajectories=100, random_state=random_state)\n",
    "print(\"relative improvement:\", (ddqn_performance - random_performance) / random_performance)"
   ]
  },
  {
   "cell_type": "markdown",
   "metadata": {},
   "source": [
    "Note that, we provide the following functions for online evaluation of the policy performance under `ofrl.ope.online`.\n",
    "\n",
    "(Statistics)\n",
    "\n",
    "* `calc_on_policy_policy_value`\n",
    "* `calc_on_policy_policy_value_interval`\n",
    "* `calc_on_policy_variance`\n",
    "* `calc_on_policy_conditional_value_at_risk`\n",
    "* `calc_on_policy_policy_interquartile_range`\n",
    "* `calc_on_policy_cumulative_distribution_function`\n",
    "\n",
    "(Visualization)\n",
    "* `visualize_on_policy_policy_value`\n",
    "* `visualize_on_policy_policy_value_with_variance`\n",
    "* `visualize_on_policy_cumulative_distribution_function`\n",
    "* `visualize_on_policy_conditional_value_at_risk`\n",
    "* `visualize_on_policy_interquartile_range`"
   ]
  },
  {
   "cell_type": "markdown",
   "metadata": {},
   "source": [
    "## 1. Synthetic Dataset Generation\n",
    "In the previous section, we see how we can interact with the environment *online* using synthetic simulator.  \n",
    "Though simulation is a good starting point for training an agent, eventually we want to deploy our agent (or policy) in the real world environment.  \n",
    "However, online interaction may have potential risk of failure in the real-world.\n",
    "Therefore, we introduce an alternative learning protocol, Offline RL, which aims at training a new policy using only offline logged dataset collected by a behavior policy $\\pi_0$:\n",
    "\n",
    "$$\\mathcal{D}_0 := \\{ \\{ s_t, a_t, s_{t+1}, r_t \\}_{t=1}^T \\}_{i=1}^n \\sim \\prod_{i=1}^n d_{s_0}(s_0) \\prod_{t=1}^T \\pi_0(a_t | s_t) p(s_{t+1} | s_t, a_t) p(r_t | s_t, a_t),$$\n",
    "\n",
    "where $s_t \\in \\mathcal{S}$ is the state observed at timestep $t$, $a_t$ is the action chosen by the behavior policy $\\pi_0$, and $r_t$ is the reward. \n",
    "\n",
    "We prepare an easy-to-use synthetic dataset generator: `SyntheticDataset` class in the dataset module.  \n",
    "By regarding the simulation environment as a hypothetical real-environment, we show how to conduct Offline RL using logged dataset in real-world application.  \n",
    "For detailed description of how to use a real-world dataset, please see #TODO (will be implemented).\n",
    "\n",
    "`SyntheticDataset` has the following arguments:\n",
    "- `env`: RTB environment for RL defined in the previous section.\n",
    "- `action_meaning`: Dictionary which maps discrete action index into specific actions.\n",
    "- `state_keys`: Name of the state variable at each dimension.\n",
    "- `max_episode_steps`: Maximum number of timesteps in an episode.\n",
    "- `info_keys`: Dictionary containing of key and the type of info components."
   ]
  },
  {
   "cell_type": "code",
   "execution_count": 22,
   "metadata": {},
   "outputs": [],
   "source": [
    "# import necessary module from OFRL\n",
    "from ofrl.policy import DiscreteEpsilonGreedyHead"
   ]
  },
  {
   "cell_type": "code",
   "execution_count": 23,
   "metadata": {},
   "outputs": [],
   "source": [
    "behavior_policy = DiscreteEpsilonGreedyHead(\n",
    "    ddqn, \n",
    "    n_actions=env.action_space.n,\n",
    "    epsilon=0.3,\n",
    "    name=\"ddqn_epsilon_0.3\",\n",
    "    random_state=random_state,\n",
    ")"
   ]
  },
  {
   "cell_type": "code",
   "execution_count": 24,
   "metadata": {},
   "outputs": [],
   "source": [
    "# initialize dataset class\n",
    "dataset = SyntheticDataset(\n",
    "    env=env,\n",
    "    action_meaning=env.action_meaning,\n",
    "    state_keys=env.obs_keys,\n",
    "    max_episode_steps=env.step_per_episode,\n",
    "    info_keys={\n",
    "        \"search_volume\": int,\n",
    "        \"impression\": int,\n",
    "        \"click\": int,\n",
    "        \"conversion\": int,\n",
    "        \"average_bid_price\": float,\n",
    "    },\n",
    ")"
   ]
  },
  {
   "cell_type": "code",
   "execution_count": 29,
   "metadata": {},
   "outputs": [
    {
     "data": {
      "application/vnd.jupyter.widget-view+json": {
       "model_id": "3e70ac42ba664cce911328d19a4ea317",
       "version_major": 2,
       "version_minor": 0
      },
      "text/plain": [
       "[obtain_trajectories]:   0%|          | 0/10000 [00:00<?, ?it/s]"
      ]
     },
     "metadata": {},
     "output_type": "display_data"
    },
    {
     "data": {
      "application/vnd.jupyter.widget-view+json": {
       "model_id": "233ea73f17c245e1a00f02db7ae76fa4",
       "version_major": 2,
       "version_minor": 0
      },
      "text/plain": [
       "[obtain_trajectories]:   0%|          | 0/10000 [00:00<?, ?it/s]"
      ]
     },
     "metadata": {},
     "output_type": "display_data"
    }
   ],
   "source": [
    "# collect logged data by a behavior policy\n",
    "# skip if there is a preserved logged dataset\n",
    "train_logged_dataset = dataset.obtain_episodes(\n",
    "    behavior_policies=behavior_policy,\n",
    "    n_trajectories=10000, \n",
    "    obtain_info=True,\n",
    "    random_state=random_state,\n",
    ")\n",
    "test_logged_dataset = dataset.obtain_episodes(\n",
    "    behavior_policies=behavior_policy,\n",
    "    n_trajectories=10000, \n",
    "    obtain_info=True,\n",
    "    random_state=random_state + 1,\n",
    ")"
   ]
  },
  {
   "cell_type": "code",
   "execution_count": 30,
   "metadata": {},
   "outputs": [
    {
     "data": {
      "text/plain": [
       "{'size': 70000,\n",
       " 'n_trajectories': 10000,\n",
       " 'step_per_trajectory': 7,\n",
       " 'action_type': 'discrete',\n",
       " 'n_actions': 10,\n",
       " 'action_dim': None,\n",
       " 'action_meaning': array([ 0.1       ,  0.16681005,  0.27825594,  0.46415888,  0.77426368,\n",
       "         1.29154967,  2.15443469,  3.59381366,  5.9948425 , 10.        ]),\n",
       " 'action_keys': None,\n",
       " 'state_dim': 7,\n",
       " 'state_keys': ['timestep',\n",
       "  'remaining_budget',\n",
       "  'budget_consumption_rate',\n",
       "  'cost_per_mille_of_impression',\n",
       "  'winning_rate',\n",
       "  'reward',\n",
       "  'adjust_rate'],\n",
       " 'state': array([[0.00000000e+00, 3.00000000e+03, 8.26436129e-01, ...,\n",
       "         9.56309981e-01, 1.00000000e+00, 1.57817203e+00],\n",
       "        [1.00000000e+00, 1.91000000e+03, 3.63333333e-01, ...,\n",
       "         1.00000000e+00, 6.00000000e+00, 5.99484250e+00],\n",
       "        [2.00000000e+00, 1.91000000e+03, 0.00000000e+00, ...,\n",
       "         0.00000000e+00, 0.00000000e+00, 1.66810054e-01],\n",
       "        ...,\n",
       "        [4.00000000e+00, 6.81000000e+02, 6.16554054e-01, ...,\n",
       "         1.00000000e+00, 4.00000000e+00, 5.99484250e+00],\n",
       "        [5.00000000e+00, 6.59000000e+02, 3.23054332e-02, ...,\n",
       "         4.92610837e-03, 1.00000000e+00, 4.64158883e-01],\n",
       "        [6.00000000e+00, 6.59000000e+02, 0.00000000e+00, ...,\n",
       "         1.16731518e-02, 0.00000000e+00, 4.64158883e-01]]),\n",
       " 'action': array([8, 1, 4, ..., 3, 3, 5]),\n",
       " 'reward': array([6., 0., 1., ..., 1., 0., 2.]),\n",
       " 'done': array([0., 0., 0., ..., 0., 0., 1.]),\n",
       " 'terminal': array([0., 0., 0., ..., 0., 0., 1.]),\n",
       " 'info': {'search_volume': array([201, 205, 217, ..., 203, 257, 179]),\n",
       "  'impression': array([201,   0,  68, ...,   1,   3, 129]),\n",
       "  'click': array([21,  0,  8, ...,  1,  0, 15]),\n",
       "  'conversion': array([6, 0, 1, ..., 1, 0, 2]),\n",
       "  'average_bid_price': array([326.24875622,   8.24390244,  40.05990783, ...,  22.03940887,\n",
       "          21.44747082,  59.39664804])},\n",
       " 'pscore': array([0.73, 0.03, 0.73, ..., 0.73, 0.73, 0.73]),\n",
       " 'behavior_policy': 'ddqn_epsilon_0.3',\n",
       " 'dataset_id': 0}"
      ]
     },
     "execution_count": 30,
     "metadata": {},
     "output_type": "execute_result"
    }
   ],
   "source": [
    "train_logged_dataset"
   ]
  },
  {
   "cell_type": "code",
   "execution_count": 31,
   "metadata": {},
   "outputs": [],
   "source": [
    "with open(\"logs/train_dataset_discrete_ddqn.pkl\", \"wb\") as f:\n",
    "    pickle.dump(train_logged_dataset, f)\n",
    "with open(\"logs/test_dataset_discrete_ddqn.pkl\", \"wb\") as f:\n",
    "    pickle.dump(test_logged_dataset, f)"
   ]
  },
  {
   "cell_type": "code",
   "execution_count": 26,
   "metadata": {},
   "outputs": [],
   "source": [
    "with open(\"logs/train_dataset_discrete_ddqn.pkl\", \"rb\") as f:\n",
    "    train_logged_dataset = pickle.load(f)\n",
    "with open(\"logs/test_dataset_discrete_ddqn.pkl\", \"rb\") as f:\n",
    "    test_logged_dataset = pickle.load(f)"
   ]
  },
  {
   "cell_type": "code",
   "execution_count": 27,
   "metadata": {},
   "outputs": [
    {
     "data": {
      "application/vnd.jupyter.widget-view+json": {
       "model_id": "2b22e0ae10c6415d8f4f7fc1c5e51d1f",
       "version_major": 2,
       "version_minor": 0
      },
      "text/plain": [
       "[calculate on-policy policy value]:   0%|          | 0/100 [00:00<?, ?it/s]"
      ]
     },
     "metadata": {},
     "output_type": "display_data"
    },
    {
     "data": {
      "application/vnd.jupyter.widget-view+json": {
       "model_id": "34f5123417384f10a0d2769230270d5a",
       "version_major": 2,
       "version_minor": 0
      },
      "text/plain": [
       "[calculate on-policy policy value]:   0%|          | 0/100 [00:00<?, ?it/s]"
      ]
     },
     "metadata": {},
     "output_type": "display_data"
    },
    {
     "data": {
      "application/vnd.jupyter.widget-view+json": {
       "model_id": "d9b5a7832c4d43348395128de65f4ca2",
       "version_major": 2,
       "version_minor": 0
      },
      "text/plain": [
       "[calculate on-policy policy value]:   0%|          | 0/100 [00:00<?, ?it/s]"
      ]
     },
     "metadata": {},
     "output_type": "display_data"
    },
    {
     "data": {
      "image/png": "[encoded data removed]",
      "text/plain": [
       "<Figure size 600x400 with 1 Axes>"
      ]
     },
     "metadata": {},
     "output_type": "display_data"
    }
   ],
   "source": [
    "# compare the policy performance online\n",
    "# almost the same performance as greedy ddqn\n",
    "visualize_on_policy_policy_value(\n",
    "    env=env,\n",
    "    policies=[ddqn, behavior_policy, random],\n",
    "    policy_names=[\"ddqn\", \"ddqn (e=0.3)\", \"random\"],\n",
    "    n_trajectories=100,\n",
    "    random_state=random_state,\n",
    ")"
   ]
  },
  {
   "cell_type": "code",
   "execution_count": 28,
   "metadata": {},
   "outputs": [
    {
     "data": {
      "text/html": [
       "<div>\n",
       "<style scoped>\n",
       "    .dataframe tbody tr th:only-of-type {\n",
       "        vertical-align: middle;\n",
       "    }\n",
       "\n",
       "    .dataframe tbody tr th {\n",
       "        vertical-align: top;\n",
       "    }\n",
       "\n",
       "    .dataframe thead th {\n",
       "        text-align: right;\n",
       "    }\n",
       "</style>\n",
       "<table border=\"1\" class=\"dataframe\">\n",
       "  <thead>\n",
       "    <tr style=\"text-align: right;\">\n",
       "      <th></th>\n",
       "      <th>adjust rate</th>\n",
       "      <th>average bid price</th>\n",
       "      <th>impression</th>\n",
       "      <th>click</th>\n",
       "      <th>conversion</th>\n",
       "      <th>winning rate</th>\n",
       "      <th>click / impression</th>\n",
       "      <th>conversion / click</th>\n",
       "    </tr>\n",
       "  </thead>\n",
       "  <tbody>\n",
       "    <tr>\n",
       "      <th>count</th>\n",
       "      <td>70000.000000</td>\n",
       "      <td>70000.000000</td>\n",
       "      <td>70000.000000</td>\n",
       "      <td>70000.000000</td>\n",
       "      <td>70000.000000</td>\n",
       "      <td>70000.000000</td>\n",
       "      <td>70000.000000</td>\n",
       "      <td>70000.000000</td>\n",
       "    </tr>\n",
       "    <tr>\n",
       "      <th>mean</th>\n",
       "      <td>2.595552</td>\n",
       "      <td>140.615485</td>\n",
       "      <td>85.462129</td>\n",
       "      <td>8.730114</td>\n",
       "      <td>2.150543</td>\n",
       "      <td>0.479755</td>\n",
       "      <td>0.068197</td>\n",
       "      <td>0.143046</td>\n",
       "    </tr>\n",
       "    <tr>\n",
       "      <th>std</th>\n",
       "      <td>3.157518</td>\n",
       "      <td>163.233795</td>\n",
       "      <td>85.184163</td>\n",
       "      <td>9.312900</td>\n",
       "      <td>2.968594</td>\n",
       "      <td>0.409819</td>\n",
       "      <td>0.071980</td>\n",
       "      <td>0.184179</td>\n",
       "    </tr>\n",
       "    <tr>\n",
       "      <th>min</th>\n",
       "      <td>0.000153</td>\n",
       "      <td>4.042553</td>\n",
       "      <td>0.000000</td>\n",
       "      <td>0.000000</td>\n",
       "      <td>0.000000</td>\n",
       "      <td>0.000000</td>\n",
       "      <td>0.000000</td>\n",
       "      <td>0.000000</td>\n",
       "    </tr>\n",
       "    <tr>\n",
       "      <th>25%</th>\n",
       "      <td>0.464159</td>\n",
       "      <td>34.893055</td>\n",
       "      <td>1.000000</td>\n",
       "      <td>0.000000</td>\n",
       "      <td>0.000000</td>\n",
       "      <td>0.022857</td>\n",
       "      <td>0.000000</td>\n",
       "      <td>0.000000</td>\n",
       "    </tr>\n",
       "    <tr>\n",
       "      <th>50%</th>\n",
       "      <td>1.291550</td>\n",
       "      <td>61.717472</td>\n",
       "      <td>51.000000</td>\n",
       "      <td>5.000000</td>\n",
       "      <td>1.000000</td>\n",
       "      <td>0.377062</td>\n",
       "      <td>0.077465</td>\n",
       "      <td>0.062500</td>\n",
       "    </tr>\n",
       "    <tr>\n",
       "      <th>75%</th>\n",
       "      <td>3.593814</td>\n",
       "      <td>191.087880</td>\n",
       "      <td>176.000000</td>\n",
       "      <td>17.000000</td>\n",
       "      <td>4.000000</td>\n",
       "      <td>0.995536</td>\n",
       "      <td>0.110465</td>\n",
       "      <td>0.250000</td>\n",
       "    </tr>\n",
       "    <tr>\n",
       "      <th>max</th>\n",
       "      <td>10.000000</td>\n",
       "      <td>546.900000</td>\n",
       "      <td>290.000000</td>\n",
       "      <td>42.000000</td>\n",
       "      <td>20.000000</td>\n",
       "      <td>1.000000</td>\n",
       "      <td>0.999997</td>\n",
       "      <td>0.999998</td>\n",
       "    </tr>\n",
       "  </tbody>\n",
       "</table>\n",
       "</div>"
      ],
      "text/plain": [
       "        adjust rate  average bid price    impression         click  \\\n",
       "count  70000.000000       70000.000000  70000.000000  70000.000000   \n",
       "mean       2.595552         140.615485     85.462129      8.730114   \n",
       "std        3.157518         163.233795     85.184163      9.312900   \n",
       "min        0.000153           4.042553      0.000000      0.000000   \n",
       "25%        0.464159          34.893055      1.000000      0.000000   \n",
       "50%        1.291550          61.717472     51.000000      5.000000   \n",
       "75%        3.593814         191.087880    176.000000     17.000000   \n",
       "max       10.000000         546.900000    290.000000     42.000000   \n",
       "\n",
       "         conversion  winning rate  click / impression  conversion / click  \n",
       "count  70000.000000  70000.000000        70000.000000        70000.000000  \n",
       "mean       2.150543      0.479755            0.068197            0.143046  \n",
       "std        2.968594      0.409819            0.071980            0.184179  \n",
       "min        0.000000      0.000000            0.000000            0.000000  \n",
       "25%        0.000000      0.022857            0.000000            0.000000  \n",
       "50%        1.000000      0.377062            0.077465            0.062500  \n",
       "75%        4.000000      0.995536            0.110465            0.250000  \n",
       "max       20.000000      1.000000            0.999997            0.999998  "
      ]
     },
     "execution_count": 28,
     "metadata": {},
     "output_type": "execute_result"
    }
   ],
   "source": [
    "# let's see some statistics of the dataset\n",
    "df = pd.DataFrame()\n",
    "df['adjust rate'] = train_logged_dataset['state'][:, 6]\n",
    "df['average bid price'] = train_logged_dataset['info']['average_bid_price']\n",
    "df['impression'] = train_logged_dataset['info']['impression']\n",
    "df['click'] = train_logged_dataset['info']['click']\n",
    "df['conversion'] = train_logged_dataset['info']['conversion']\n",
    "df['winning rate'] = train_logged_dataset['state'][:, 4]\n",
    "df['click / impression'] = df['click'] / (df['impression'] + 1e-5)\n",
    "df['conversion / click'] = df['conversion'] / (df['click'] + 1e-5)\n",
    "df.describe()"
   ]
  },
  {
   "cell_type": "markdown",
   "metadata": {},
   "source": [
    "For more about the data collection and visualization, please refer to [examples/quickstart/rtb_synthetic_data_collection.ipynb](https://github.com/negocia-inc/rtb_reinforcement_learing/blob/ope/examples/quickstart/rtb_synthetic_data_collection.ipynb)."
   ]
  },
  {
   "cell_type": "markdown",
   "metadata": {},
   "source": [
    "## 2. Offline Reinforcement Learning\n",
    "In this section, we learn a new policy in an offline manner, without interacting with the environment.  \n",
    "We use [d3rlpy](https://github.com/takuseno/d3rlpy)'s implementation of algorithms."
   ]
  },
  {
   "cell_type": "code",
   "execution_count": 29,
   "metadata": {},
   "outputs": [],
   "source": [
    "# import modules from d3rlpy\n",
    "from d3rlpy.dataset import MDPDataset\n",
    "from d3rlpy.algos import DiscreteCQL\n",
    "from d3rlpy.ope import DiscreteFQE\n",
    "from d3rlpy.metrics.scorer import evaluate_on_environment"
   ]
  },
  {
   "cell_type": "code",
   "execution_count": 30,
   "metadata": {},
   "outputs": [],
   "source": [
    "offlinerl_dataset = MDPDataset(\n",
    "    observations=train_logged_dataset[\"state\"],\n",
    "    actions=train_logged_dataset[\"action\"],\n",
    "    rewards=train_logged_dataset[\"reward\"],\n",
    "    terminals=train_logged_dataset[\"done\"],\n",
    "    episode_terminals=train_logged_dataset[\"done\"],\n",
    "    discrete_action=True,\n",
    ")\n",
    "train_episodes, test_episodes = train_test_split(offlinerl_dataset, test_size=0.2, random_state=random_state)"
   ]
  },
  {
   "cell_type": "code",
   "execution_count": 31,
   "metadata": {},
   "outputs": [],
   "source": [
    "# Use Conservative Q-Learning policy\n",
    "cql = DiscreteCQL(\n",
    "    encoder_factory=VectorEncoderFactory(hidden_units=[30, 30]),\n",
    "    q_func_factory=MeanQFunctionFactory(),\n",
    "    use_gpu=torch.cuda.is_available(),\n",
    ")"
   ]
  },
  {
   "cell_type": "code",
   "execution_count": null,
   "metadata": {},
   "outputs": [],
   "source": [
    "cql.fit(\n",
    "    train_episodes,\n",
    "    eval_episodes=test_episodes,\n",
    "    n_steps=10000,\n",
    "    scorers={\n",
    "        'environment': evaluate_on_environment(env_),\n",
    "        # to record training process w/ ground truth policy value, which is unseen to the agent\n",
    "    },\n",
    ")"
   ]
  },
  {
   "cell_type": "code",
   "execution_count": 33,
   "metadata": {},
   "outputs": [],
   "source": [
    "# save model\n",
    "cql.save_model(\"d3rlpy_logs/cql_discrete.pt\")"
   ]
  },
  {
   "cell_type": "code",
   "execution_count": 34,
   "metadata": {},
   "outputs": [
    {
     "name": "stdout",
     "output_type": "stream",
     "text": [
      "2023-03-18 20:15:08 [warning  ] Parameters will be reinitialized.\n"
     ]
    }
   ],
   "source": [
    "# reload model\n",
    "cql.build_with_env(env_)\n",
    "cql.load_model(\"d3rlpy_logs/cql_discrete.pt\")"
   ]
  },
  {
   "cell_type": "code",
   "execution_count": 35,
   "metadata": {},
   "outputs": [
    {
     "data": {
      "application/vnd.jupyter.widget-view+json": {
       "model_id": "fcf289c21f9f435d91721c57ddbf3349",
       "version_major": 2,
       "version_minor": 0
      },
      "text/plain": [
       "[calculate on-policy policy value]:   0%|          | 0/100 [00:00<?, ?it/s]"
      ]
     },
     "metadata": {},
     "output_type": "display_data"
    },
    {
     "data": {
      "application/vnd.jupyter.widget-view+json": {
       "model_id": "2cee1cd801d94f91ab504ce04973750f",
       "version_major": 2,
       "version_minor": 0
      },
      "text/plain": [
       "[calculate on-policy policy value]:   0%|          | 0/100 [00:00<?, ?it/s]"
      ]
     },
     "metadata": {},
     "output_type": "display_data"
    },
    {
     "data": {
      "application/vnd.jupyter.widget-view+json": {
       "model_id": "2bceddf050d243c4a4c88f489c95741c",
       "version_major": 2,
       "version_minor": 0
      },
      "text/plain": [
       "[calculate on-policy policy value]:   0%|          | 0/100 [00:00<?, ?it/s]"
      ]
     },
     "metadata": {},
     "output_type": "display_data"
    },
    {
     "data": {
      "application/vnd.jupyter.widget-view+json": {
       "model_id": "e39ceefe1a004f928b96d70cd609c7df",
       "version_major": 2,
       "version_minor": 0
      },
      "text/plain": [
       "[calculate on-policy policy value]:   0%|          | 0/100 [00:00<?, ?it/s]"
      ]
     },
     "metadata": {},
     "output_type": "display_data"
    },
    {
     "data": {
      "image/png": "[encoded data removed]",
      "text/plain": [
       "<Figure size 800x400 with 1 Axes>"
      ]
     },
     "metadata": {},
     "output_type": "display_data"
    }
   ],
   "source": [
    "# compare the policy performance online\n",
    "# not better than online policy, but achieves almost the same performance\n",
    "# meaning that we can learn a reasonable policy without interacting with the environment!\n",
    "visualize_on_policy_policy_value(\n",
    "    env=env,\n",
    "    policies=[ddqn, behavior_policy, cql, random],\n",
    "    policy_names=[\"ddqn\", \"ddqn (e=0.3)\", \"cql (offline)\", \"random\"],\n",
    "    n_trajectories=100,\n",
    "    random_state=random_state,\n",
    ")"
   ]
  },
  {
   "cell_type": "markdown",
   "metadata": {},
   "source": [
    "## 3. Off-Policy Evaluation and Evaluation of Offline RL methods\n",
    "In the previous section, we verified the performance of a learned policy via online interaction (aka A/B tests).  \n",
    "However, it could be risky because the policy may perform poorly in an online environment.  \n",
    "To tackle this issue, we aim at evaluating the performance of a policy offline, to gain some prior knowledge on how agent works in the environment.\n",
    "\n",
    "#### Estimation Target\n",
    "\n",
    "The goal to estimate the estimators' average policy performance, the *policy value*.\n",
    "\n",
    "$$ V(\\pi) := \\mathbb{E}\\left[\\sum_{t=1}^T \\gamma^{t-1} r_t \\mid \\pi \\right] $$"
   ]
  },
  {
   "cell_type": "code",
   "execution_count": 36,
   "metadata": {},
   "outputs": [],
   "source": [
    "# import ope modules from OFRL\n",
    "from ofrl.ope import CreateOPEInput\n",
    "from ofrl.ope import OffPolicyEvaluation as OPE\n",
    "from ofrl.ope import DiscreteDirectMethod as DM\n",
    "from ofrl.ope import DiscreteTrajectoryWiseImportanceSampling as TIS\n",
    "from ofrl.ope import DiscretePerDecisionImportanceSampling as PDIS\n",
    "from ofrl.ope import DiscreteDoublyRobust as DR\n",
    "from ofrl.ope import DiscreteSelfNormalizedTrajectoryWiseImportanceSampling as SNTIS\n",
    "from ofrl.ope import DiscreteSelfNormalizedPerDecisionImportanceSampling as SNPDIS\n",
    "from ofrl.ope import DiscreteSelfNormalizedDoublyRobust as SNDR"
   ]
  },
  {
   "cell_type": "code",
   "execution_count": 37,
   "metadata": {},
   "outputs": [],
   "source": [
    "# define evaluation policies\n",
    "cql_ = DiscreteEpsilonGreedyHead(base_policy=cql, n_actions=env.action_space.n, name=\"cql\", epsilon=0.0, random_state=random_state)\n",
    "ddqn_ = DiscreteEpsilonGreedyHead(base_policy=ddqn, n_actions=env.action_space.n, name=\"ddqn\", epsilon=0.0, random_state=random_state)\n",
    "random_ = DiscreteEpsilonGreedyHead(base_policy=random, n_actions=env.action_space.n, name=\"random\", epsilon=1.0, random_state=random_state)\n",
    "evaluation_policies = [cql_, ddqn_, random_]"
   ]
  },
  {
   "cell_type": "code",
   "execution_count": 40,
   "metadata": {},
   "outputs": [],
   "source": [
    "# first, prepare OPE inputs\n",
    "prep = CreateOPEInput(\n",
    "    env=env,\n",
    "    model_args={\n",
    "        \"fqe\": {\n",
    "            \"encoder_factory\": VectorEncoderFactory(hidden_units=[30, 30]),\n",
    "            \"q_func_factory\": MeanQFunctionFactory(),\n",
    "            \"learning_rate\": 1e-4,\n",
    "            \"use_gpu\": torch.cuda.is_available(),\n",
    "        }\n",
    "    },\n",
    "    state_scaler=MinMaxScaler(\n",
    "        minimum=test_logged_dataset[\"state\"].min(axis=0),\n",
    "        maximum=test_logged_dataset[\"state\"].max(axis=0),\n",
    "    ),\n",
    ")"
   ]
  },
  {
   "cell_type": "code",
   "execution_count": null,
   "metadata": {},
   "outputs": [],
   "source": [
    "# takes time\n",
    "input_dict = prep.obtain_whole_inputs(\n",
    "    logged_dataset=test_logged_dataset,\n",
    "    evaluation_policies=evaluation_policies,\n",
    "    require_value_prediction=True,\n",
    "    n_trajectories_on_policy_evaluation=100,\n",
    "    random_state=random_state,\n",
    ")"
   ]
  },
  {
   "cell_type": "code",
   "execution_count": 42,
   "metadata": {},
   "outputs": [],
   "source": [
    "with open(\"logs/ope_input_dict_discrete.pkl\", \"wb\") as f:\n",
    "    pickle.dump(input_dict, f)"
   ]
  },
  {
   "cell_type": "code",
   "execution_count": 43,
   "metadata": {},
   "outputs": [],
   "source": [
    "with open(\"logs/ope_input_dict_discrete.pkl\", \"rb\") as f:\n",
    "    input_dict = pickle.load(f)"
   ]
  },
  {
   "cell_type": "code",
   "execution_count": 44,
   "metadata": {},
   "outputs": [],
   "source": [
    "ope = OPE(\n",
    "    logged_dataset=test_logged_dataset,\n",
    "    ope_estimators=[DM(), TIS(), PDIS(), DR(), SNTIS(), SNPDIS(), SNDR()],\n",
    ")"
   ]
  },
  {
   "cell_type": "code",
   "execution_count": 45,
   "metadata": {},
   "outputs": [],
   "source": [
    "# performance estimation by ope\n",
    "policy_value_df_dict, policy_value_interval_df_dict = ope.summarize_off_policy_estimates(input_dict, random_state=random_state)"
   ]
  },
  {
   "cell_type": "code",
   "execution_count": 46,
   "metadata": {},
   "outputs": [
    {
     "data": {
      "text/plain": [
       "{'cql':            policy_value  relative_policy_value\n",
       " on_policy     15.820000               1.000000\n",
       " dm             3.202305               0.202421\n",
       " tis            2.091292               0.132193\n",
       " pdis          14.096527               0.891057\n",
       " dr            15.983557               1.010339\n",
       " sntis         18.681941               1.180906\n",
       " snpdis        16.402815               1.036840\n",
       " sndr          17.022497               1.076011,\n",
       " 'ddqn':            policy_value  relative_policy_value\n",
       " on_policy     16.320000               1.000000\n",
       " dm             2.519326               0.154370\n",
       " tis           16.418345               1.006026\n",
       " pdis          16.228891               0.994417\n",
       " dr            16.193139               0.992227\n",
       " sntis         16.122667               0.987908\n",
       " snpdis        16.191484               0.992125\n",
       " sndr          16.179116               0.991367,\n",
       " 'random':            policy_value  relative_policy_value\n",
       " on_policy     12.570000               1.000000\n",
       " dm             1.340336               0.106630\n",
       " tis            7.199908               0.572785\n",
       " pdis          11.457530               0.911498\n",
       " dr            11.962373               0.951661\n",
       " sntis         13.208206               1.050772\n",
       " snpdis        12.702178               1.010515\n",
       " sndr          12.584214               1.001131}"
      ]
     },
     "execution_count": 46,
     "metadata": {},
     "output_type": "execute_result"
    }
   ],
   "source": [
    "# estimated policy performance\n",
    "policy_value_df_dict"
   ]
  },
  {
   "cell_type": "code",
   "execution_count": 47,
   "metadata": {},
   "outputs": [
    {
     "data": {
      "text/plain": [
       "{'cql':                 mean  95.0% CI (lower)  95.0% CI (upper)\n",
       " on_policy  15.740600         14.993750         16.406750\n",
       " dm          3.202156          3.196919          3.206337\n",
       " tis         2.197884          0.500163          3.980100\n",
       " pdis       14.162563         11.770983         19.097388\n",
       " dr         16.020178         13.568314         20.415437\n",
       " sntis      19.634151          4.468059         35.555054\n",
       " snpdis     16.518022         12.178081         25.690842\n",
       " sndr       17.068530         12.714344         25.466003,\n",
       " 'ddqn':                 mean  95.0% CI (lower)  95.0% CI (upper)\n",
       " on_policy  16.264900         15.508000         17.015750\n",
       " dm          2.519195          2.514712          2.522983\n",
       " tis        16.398422         15.488398         17.248020\n",
       " pdis       16.239610         15.944325         16.606198\n",
       " dr         16.205176         15.959124         16.518427\n",
       " sntis      16.103102         15.209467         16.937400\n",
       " snpdis     16.202137         15.908166         16.567449\n",
       " sndr       16.191087         15.945559         16.504363,\n",
       " 'random':                 mean  95.0% CI (lower)  95.0% CI (upper)\n",
       " on_policy  12.497200         11.637000         13.475750\n",
       " dm          1.340293          1.338061          1.342044\n",
       " tis         7.318705          4.623655         10.381984\n",
       " pdis       11.554471          9.826672         13.461255\n",
       " dr         12.018904         10.638431         13.760842\n",
       " sntis      13.426138          8.482079         19.045713\n",
       " snpdis     12.832081         10.597744         15.404238\n",
       " sndr       12.656299         11.033825         14.949255}"
      ]
     },
     "execution_count": 47,
     "metadata": {},
     "output_type": "execute_result"
    }
   ],
   "source": [
    "# estimated confidence intervals of the policy performance\n",
    "policy_value_interval_df_dict"
   ]
  },
  {
   "cell_type": "markdown",
   "metadata": {},
   "source": [
    "## 4. Evaluation of OPE methods\n",
    "Now, we evaluate how well the ope estimators estimated the policy value."
   ]
  },
  {
   "cell_type": "code",
   "execution_count": 48,
   "metadata": {},
   "outputs": [
    {
     "data": {
      "image/png": "[encoded data removed]",
      "text/plain": [
       "<Figure size 1400x1200 with 3 Axes>"
      ]
     },
     "metadata": {},
     "output_type": "display_data"
    }
   ],
   "source": [
    "# we can visualize and compare the result\n",
    "# it seems that DM tends to have a bias though the variance is quite small, \n",
    "# while (trajectory-wise) importance sampling estimators have a smaller bias with a larger variance.\n",
    "# self-normalized estimators also works well\n",
    "ope.visualize_off_policy_estimates(input_dict, random_state=random_state, sharey=False)"
   ]
  },
  {
   "cell_type": "code",
   "execution_count": 49,
   "metadata": {},
   "outputs": [
    {
     "data": {
      "text/html": [
       "<div>\n",
       "<style scoped>\n",
       "    .dataframe tbody tr th:only-of-type {\n",
       "        vertical-align: middle;\n",
       "    }\n",
       "\n",
       "    .dataframe tbody tr th {\n",
       "        vertical-align: top;\n",
       "    }\n",
       "\n",
       "    .dataframe thead th {\n",
       "        text-align: right;\n",
       "    }\n",
       "</style>\n",
       "<table border=\"1\" class=\"dataframe\">\n",
       "  <thead>\n",
       "    <tr style=\"text-align: right;\">\n",
       "      <th></th>\n",
       "      <th>cql</th>\n",
       "      <th>ddqn</th>\n",
       "      <th>random</th>\n",
       "    </tr>\n",
       "  </thead>\n",
       "  <tbody>\n",
       "    <tr>\n",
       "      <th>dm</th>\n",
       "      <td>159.206223</td>\n",
       "      <td>190.458612</td>\n",
       "      <td>126.105354</td>\n",
       "    </tr>\n",
       "    <tr>\n",
       "      <th>tis</th>\n",
       "      <td>188.477430</td>\n",
       "      <td>0.009672</td>\n",
       "      <td>28.837885</td>\n",
       "    </tr>\n",
       "    <tr>\n",
       "      <th>pdis</th>\n",
       "      <td>2.970360</td>\n",
       "      <td>0.008301</td>\n",
       "      <td>1.237590</td>\n",
       "    </tr>\n",
       "    <tr>\n",
       "      <th>dr</th>\n",
       "      <td>0.026751</td>\n",
       "      <td>0.016094</td>\n",
       "      <td>0.369211</td>\n",
       "    </tr>\n",
       "    <tr>\n",
       "      <th>sntis</th>\n",
       "      <td>8.190704</td>\n",
       "      <td>0.038940</td>\n",
       "      <td>0.407307</td>\n",
       "    </tr>\n",
       "    <tr>\n",
       "      <th>snpdis</th>\n",
       "      <td>0.339674</td>\n",
       "      <td>0.016516</td>\n",
       "      <td>0.017471</td>\n",
       "    </tr>\n",
       "    <tr>\n",
       "      <th>sndr</th>\n",
       "      <td>1.446000</td>\n",
       "      <td>0.019848</td>\n",
       "      <td>0.000202</td>\n",
       "    </tr>\n",
       "  </tbody>\n",
       "</table>\n",
       "</div>"
      ],
      "text/plain": [
       "               cql        ddqn      random\n",
       "dm      159.206223  190.458612  126.105354\n",
       "tis     188.477430    0.009672   28.837885\n",
       "pdis      2.970360    0.008301    1.237590\n",
       "dr        0.026751    0.016094    0.369211\n",
       "sntis     8.190704    0.038940    0.407307\n",
       "snpdis    0.339674    0.016516    0.017471\n",
       "sndr      1.446000    0.019848    0.000202"
      ]
     },
     "execution_count": 49,
     "metadata": {},
     "output_type": "execute_result"
    }
   ],
   "source": [
    "# squared-error (se) measures the estimation accuracy of OPE\n",
    "eval_metric_ope_df = ope.evaluate_performance_of_ope_estimators(\n",
    "    input_dict, \n",
    "    metric=\"se\",\n",
    "    return_by_dataframe=True,\n",
    ")\n",
    "eval_metric_ope_df"
   ]
  },
  {
   "cell_type": "markdown",
   "metadata": {},
   "source": [
    "For more advanced topics in OPE (e.g., cumulative distribution function estimation) and OPS, please refer to [examples/quickstart/rtb/rtb_synthetic_discrete_advanced.ipynb](https://github.com/negocia-inc/ofrl/blob/ope/examples/quickstart/rtb/rtb_synthetic_discrete_advanced.ipynb). \n",
    "\n",
    "For more advanced OPE estimators (e.g., state(-action) marginal estimators and double reinforcement learning), please refer to [examples/quickstart/rtb/rtb_synthetic_discrete_zoo.ipynb](https://github.com/negocia-inc/ofrl/blob/ope/examples/quickstart/rtb/rtb_synthetic_discrete_zoo.ipynb). \n",
    "\n",
    "For the examples in the continuous action space, please refer to [examples/quickstart/rtb/rtb_synthetic_continuous_basic.ipynb](https://github.com/negocia-inc/rtb_reinforcement_learing/blob/ope/examples/quickstart/rtb/rtb_synthetic_continuous_basic.ipynb)."
   ]
  },
  {
   "cell_type": "markdown",
   "metadata": {},
   "source": [
    "## Reference\n",
    "\n",
    "- Yuta Saito, Shunsuke Aihara, Megumi Matsutani, and Yusuke Narita. \\\n",
    "\"Open Bandit Dataset and Pipeline: Towards Realistic and Reproducible Off-Policy Evaluation.\", 2021.\n",
    "\n",
    "- Takuma Seno and Michita Imai. \\\n",
    "\"d3rlpy: An Offline Deep Reinforcement Library.\", 2021.\n",
    "\n",
    "- Sergey Levine, Aviral Kumar, George Tucker, and Justin Fu. \\\n",
    "\"Offline Reinforcement Learning: Tutorial, Review, and Perspectives on Open Problems.\" 2020.\n",
    "\n",
    "- Aviral Kumar, Aurick Zhou, George Tucker, and Sergey Levine. \\\n",
    "\"Conservative Q-Learning for Offline Reinforcement Learning.\", 2020.\n",
    "\n",
    "- Nathan Kallus and Masatoshi Uehara. \\\n",
    "\"Intrinsically Efficient, Stable, and Bounded Off-Policy Evaluation for Reinforcement Learning.\", 2019.\n",
    "\n",
    "- Hoang Le, Cameron Voloshin, and Yisong Yue. \\\n",
    "\"Batch Policy Learning under Constraints.\", 2019.\n",
    "\n",
    "- Di Wu, Xiujun Chen, Xun Yang, Hao Wang, Qing Tan, Xiaoxun Zhang, Jian Xu, and Kun Gai. \\\n",
    "\"Budget Constrained Bidding by Model-free Reinforcement Learning in Display Advertising.\", 2018.\n",
    "\n",
    "- Jun Zhao, Guang Qiu, Ziyu Guan, Wei Zhao, and Xiaofei He. \\\n",
    "\"Deep Reinforcement Learning for Sponsored Search Real-time Bidding.\", 2018.\n",
    "\n",
    "- Nan Jiang and Lihong Li. \\\n",
    "\"Doubly Robust Off-policy Value Evaluation for Reinforcement Learning.\", 2016.\n",
    "\n",
    "- Philip S. Thomas and Emma Brunskill. \\\n",
    "\"Data-Efficient Off-Policy Policy Evaluation for Reinforcement Learning.\", 2016.\n",
    "\n",
    "- Greg Brockman, Vicki Cheung, Ludwig Pettersson, Jonas Schneider, John Schulman, Jie Tang, and Wojciech Zaremba. \\\n",
    "\"OpenAI Gym.\", 2016.\n",
    "\n",
    "- Adith Swaminathan and Thorsten Joachims. \\\n",
    "\"The Self-Normalized Estimator for Counterfactual Learning.\", 2015.\n",
    "\n",
    "- Hado van Hasselt, Arthur Guez, and David Silver. \\\n",
    "\"Deep Reinforcement Learning with Double Q-learning.\", 2015.\n",
    "\n",
    "- Miroslav Dudík, Dumitru Erhan, John Langford, and Lihong Li. \\\n",
    "\"Doubly Robust Policy Evaluation and Optimization.\", 2014.\n",
    "\n",
    "- Alex Strehl, John Langford, Sham Kakade, and Lihong Li. \\\n",
    "\"Learning from Logged Implicit Exploration Data.\", 2010.\n",
    "\n",
    "- Alina Beygelzimer and John Langford. \\\n",
    "\"The Offset Tree for Learning with Partial Labels.\", 2009.\n",
    "\n",
    "- Doina Precup, Richard S. Sutton, and Satinder P. Singh. \\\n",
    "\"Eligibility Traces for Off-Policy Policy Evaluation.\", 2000."
   ]
  },
  {
   "cell_type": "code",
   "execution_count": null,
   "metadata": {},
   "outputs": [],
   "source": []
  }
 ],
 "metadata": {
  "kernelspec": {
   "display_name": "Python 3 (ipykernel)",
   "language": "python",
   "name": "python3"
  },
  "language_info": {
   "codemirror_mode": {
    "name": "ipython",
    "version": 3
   },
   "file_extension": ".py",
   "mimetype": "text/x-python",
   "name": "python",
   "nbconvert_exporter": "python",
   "pygments_lexer": "ipython3",
   "version": "3.9.6"
  },
  "vscode": {
   "interpreter": {
    "hash": "eeb0e296031d5f4c93e05211083c58e9e78a3e8af86402f626ea4098c0a5e991"
   }
  }
 },
 "nbformat": 4,
 "nbformat_minor": 4
}
