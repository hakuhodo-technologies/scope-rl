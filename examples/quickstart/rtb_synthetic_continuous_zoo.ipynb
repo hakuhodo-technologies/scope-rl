{
 "cells": [
  {
   "cell_type": "markdown",
   "metadata": {},
   "source": [
    "# Quickstart Example of Off-Policy Evaluation with Various Estimators (Continuous)\n",
    "This notebook provides an example of conducting **Off-policy Evaluation (OPE)** with a synthetic Real-Time Bidding (RTB) dataset and various OPE estimators (e.g., model-based vs importance sampling-based, marginal importance sampling, and double reinforcement learning).\n",
    "\n",
    "This example consists of the following 3 steps: \n",
    "1. Setup, Synthetic Data Generation, and Offline Policy Learning\n",
    "2. Off-Policy Evaluation (OPE) with various estimators\n",
    "\n",
    "\\* This library uses [d3rlpy](https://github.com/takuseno/d3rlpy)'s algorithm implementations of offline rl policies and model-based evaluation.  \n",
    "\\* Also, our implementations of OPE are highly inspired by [Open Bandit Pipeline](https://github.com/st-tech/zr-obp)."
   ]
  },
  {
   "cell_type": "code",
   "execution_count": 1,
   "metadata": {},
   "outputs": [],
   "source": [
    "# delete later\n",
    "%load_ext autoreload\n",
    "%autoreload 2"
   ]
  },
  {
   "cell_type": "code",
   "execution_count": 2,
   "metadata": {},
   "outputs": [],
   "source": [
    "# delete later\n",
    "import warnings\n",
    "warnings.simplefilter('ignore')"
   ]
  },
  {
   "cell_type": "code",
   "execution_count": 3,
   "metadata": {},
   "outputs": [],
   "source": [
    "# delete later\n",
    "import sys\n",
    "sys.path.append('../')\n",
    "sys.path.append('../../')"
   ]
  },
  {
   "cell_type": "code",
   "execution_count": 4,
   "metadata": {},
   "outputs": [],
   "source": [
    "# import OFRL modules\n",
    "import ofrl\n",
    "from rtbgym import RTBEnv, CustomizedRTBEnv\n",
    "from ofrl.dataset import SyntheticDataset\n",
    "from ofrl.policy import OnlineHead, ContinuousEvalHead\n",
    "from ofrl.policy import ContinuousTruncatedGaussianHead as TruncatedGaussianHead\n",
    "from ofrl.ope.online import (\n",
    "    calc_on_policy_policy_value,\n",
    "    visualize_on_policy_policy_value,\n",
    ")\n",
    "from ofrl.utils import MinMaxScaler, MinMaxActionScaler\n",
    "\n",
    "# import d3rlpy algorithms\n",
    "from d3rlpy.algos import RandomPolicy\n",
    "# from d3rlpy.preprocessing import MinMaxScaler, MinMaxActionScaler\n",
    "from ofrl.utils import MinMaxScaler, MinMaxActionScaler\n",
    "\n",
    "# import from other libraries\n",
    "import gym\n",
    "import torch\n",
    "from sklearn.model_selection import train_test_split"
   ]
  },
  {
   "cell_type": "code",
   "execution_count": 5,
   "metadata": {},
   "outputs": [],
   "source": [
    "import pickle\n",
    "from glob import glob\n",
    "from tqdm import tqdm\n",
    "\n",
    "import numpy as np\n",
    "import pandas as pd\n",
    "\n",
    "import matplotlib.pyplot as plt\n",
    "import seaborn as sns\n",
    "\n",
    "%matplotlib inline"
   ]
  },
  {
   "cell_type": "code",
   "execution_count": 6,
   "metadata": {},
   "outputs": [
    {
     "name": "stdout",
     "output_type": "stream",
     "text": [
      "0.0.0\n"
     ]
    }
   ],
   "source": [
    "# version\n",
    "print(ofrl.__version__)"
   ]
  },
  {
   "cell_type": "code",
   "execution_count": 7,
   "metadata": {},
   "outputs": [],
   "source": [
    "# set random state\n",
    "random_state = 12345"
   ]
  },
  {
   "cell_type": "code",
   "execution_count": 8,
   "metadata": {},
   "outputs": [],
   "source": [
    "# log directory\n",
    "from pathlib import Path\n",
    "Path(\"logs/\").mkdir(exist_ok=True)"
   ]
  },
  {
   "cell_type": "markdown",
   "metadata": {},
   "source": [
    "## 1. Setup, Synthetic Data Generation, and Offline Policy Learning\n",
    "To begin with, we briefly describe how the RTB environment works.\n",
    "\n",
    "#### RL setup for RTB\n",
    "In RTB, the objective of the RL agent is to maximize some KPIs (number of clicks or conversions) within an episode under given budget constraints.  \n",
    "\n",
    "We often try to achieve this by adjusting bidding price function parameter $\\alpha$. By using $\\alpha$, we can adjust the bid price as follows.  \n",
    "$bid_{t,i} = \\alpha \\cdot r^{\\ast}$, \n",
    "where $r^{\\ast}$ denotes a predicted or expected reward (KPIs).\n",
    "\n",
    "We often formulate this RTB problem as the following Constrained Markov Decision Process (CMDP):\n",
    "- `timestep`: One episode (a day or a week) consists of several timesteps (24 hours or seven days, for instance).\n",
    "- `state`: We observe some feedback from the environment at each timestep, which includes the following.\n",
    "  - timestep\n",
    "  - remaining budget\n",
    "  - impression level features (budget consumption rate, cost per mille of impressions, auction winning rate, reward) at the previous timestep\n",
    "  - adjust rate (RL agent's decision making) at the previous timestep\n",
    "- `action`: Agent chooses adjust rate parameter $\\alpha$ to maximize KPIs.\n",
    "- `reward`: Total number of clicks or conversions obtained during the timestep.\n",
    "- `constraints`: The pre-determined episodic budget should not be exceeded.\n",
    "\n",
    "For more about the environmental configuration and its customization, please refer to [examples/quickstart/rtb_synthetic_customize_env.ipynb](https://github.com/negocia-inc/rtb_reinforcement_learing/blob/ope/examples/quickstart/rtb_synthetic_customize_env.ipynb)."
   ]
  },
  {
   "cell_type": "code",
   "execution_count": 9,
   "metadata": {},
   "outputs": [],
   "source": [
    "# standardized environment for discrete action\n",
    "env = gym.make(\"RTBEnv-continuous-v0\")"
   ]
  },
  {
   "cell_type": "code",
   "execution_count": 10,
   "metadata": {},
   "outputs": [],
   "source": [
    "# for api compatibility to d3rlpy\n",
    "from ofrl.utils import OldGymAPIWrapper\n",
    "env_ = OldGymAPIWrapper(env)"
   ]
  },
  {
   "cell_type": "markdown",
   "metadata": {},
   "source": [
    "#### Synthetic Data Generation\n",
    "Next, we collect logged data with a behavior policy $\\pi_0$:\n",
    "\n",
    "$$\\mathcal{D}_0 := \\{ \\{ s_t, a_t, s_{t+1}, r_t \\}_{t=1}^T \\}_{i=1}^n \\sim \\prod_{i=1}^n d_{s_0}(s_0) \\prod_{t=1}^T \\pi_0(a_t | s_t) p(s_{t+1} | s_t, a_t) p(r_t | s_t, a_t),$$\n",
    "\n",
    "where $s_t \\in \\mathcal{S}$ is the state observed at timestep $t$, $a_t$ is the action chosen by the behavior policy $\\pi_0$, and $r_t$ is the reward. \n",
    "\n",
    "`SyntheticDataset` has the following arguments:\n",
    "- `env`: RTB environment for RL defined in the previous section.\n",
    "- `behavior_policy`: RL agent (or algorithm) used for the data collection.\n",
    "- `maximum_step_per_episode`: Maximum number of timesteps in an episode.\n",
    "- `action_meaning`: Dictionary which maps discrete action index into specific actions.\n",
    "- `action_keys`: Name of the action variable at each dimension.\n",
    "- `state_keys`: Name of the state variable at each dimension.\n",
    "- `info_keys`: Dictionary containing of key and the type of info components.\n",
    "- `random_state`: Random state.\n",
    "\n",
    "For more about the data collection and visualization, please refer to [examples/quickstart/rtb_synthetic_data_collection.ipynb](https://github.com/negocia-inc/rtb_reinforcement_learing/blob/ope/examples/quickstart/rtb_synthetic_data_collection.ipynb)."
   ]
  },
  {
   "cell_type": "code",
   "execution_count": 11,
   "metadata": {},
   "outputs": [],
   "source": [
    "# behavior policy\n",
    "from d3rlpy.algos import SAC\n",
    "from d3rlpy.models.encoders import VectorEncoderFactory\n",
    "from d3rlpy.models.q_functions import MeanQFunctionFactory\n",
    "from d3rlpy.online.buffers import ReplayBuffer\n",
    "\n",
    "# model\n",
    "sac = SAC(\n",
    "    actor_encoder_factory=VectorEncoderFactory(hidden_units=[30, 30]),\n",
    "    critic_encoder_factory=VectorEncoderFactory(hidden_units=[30, 30]),\n",
    "    q_func_factory=MeanQFunctionFactory(),\n",
    "    use_gpu=torch.cuda.is_available(),\n",
    "    action_scaler=MinMaxActionScaler(\n",
    "        minimum=env_.action_space.low,   # 0.1\n",
    "        maximum=env_.action_space.high,  # 10\n",
    "    ),\n",
    ")\n",
    "# setup replay buffer\n",
    "buffer = ReplayBuffer(\n",
    "    maxlen=10000,\n",
    "    env=env_,\n",
    ")"
   ]
  },
  {
   "cell_type": "code",
   "execution_count": 12,
   "metadata": {},
   "outputs": [
    {
     "name": "stdout",
     "output_type": "stream",
     "text": [
      "2023-03-14 18:34.20 [info     ] Directory is created at d3rlpy_logs/SAC_online_20230314183420\n",
      "2023-03-14 18:34.20 [debug    ] Fitting action scaler...       action_scler=min_max\n",
      "2023-03-14 18:34.20 [debug    ] Building model...\n",
      "2023-03-14 18:34.20 [debug    ] Model has been built.\n",
      "2023-03-14 18:34.20 [info     ] Parameters are saved to d3rlpy_logs/SAC_online_20230314183420/params.json params={'action_scaler': {'type': 'min_max', 'params': {'minimum': array([0.1]), 'maximum': array([10.])}}, 'actor_encoder_factory': {'type': 'vector', 'params': {'hidden_units': [30, 30], 'activation': 'relu', 'use_batch_norm': False, 'dropout_rate': None, 'use_dense': False}}, 'actor_learning_rate': 0.0003, 'actor_optim_factory': {'optim_cls': 'Adam', 'betas': (0.9, 0.999), 'eps': 1e-08, 'weight_decay': 0, 'amsgrad': False}, 'batch_size': 256, 'critic_encoder_factory': {'type': 'vector', 'params': {'hidden_units': [30, 30], 'activation': 'relu', 'use_batch_norm': False, 'dropout_rate': None, 'use_dense': False}}, 'critic_learning_rate': 0.0003, 'critic_optim_factory': {'optim_cls': 'Adam', 'betas': (0.9, 0.999), 'eps': 1e-08, 'weight_decay': 0, 'amsgrad': False}, 'gamma': 0.99, 'generated_maxlen': 100000, 'initial_temperature': 1.0, 'n_critics': 2, 'n_frames': 1, 'n_steps': 1, 'q_func_factory': {'type': 'mean', 'params': {'share_encoder': False}}, 'real_ratio': 1.0, 'reward_scaler': None, 'scaler': None, 'tau': 0.005, 'temp_learning_rate': 0.0003, 'temp_optim_factory': {'optim_cls': 'Adam', 'betas': (0.9, 0.999), 'eps': 1e-08, 'weight_decay': 0, 'amsgrad': False}, 'use_gpu': None, 'algorithm': 'SAC', 'observation_shape': (7,), 'action_size': 1}\n"
     ]
    },
    {
     "data": {
      "application/vnd.jupyter.widget-view+json": {
       "model_id": "6d7715290dd04cdfb57e0af04d1682de",
       "version_major": 2,
       "version_minor": 0
      },
      "text/plain": [
       "  0%|          | 0/100000 [00:00<?, ?it/s]"
      ]
     },
     "metadata": {},
     "output_type": "display_data"
    },
    {
     "name": "stdout",
     "output_type": "stream",
     "text": [
      "2023-03-14 18:34.20 [info     ] Model parameters are saved to d3rlpy_logs/SAC_online_20230314183420/model_1000.pt\n",
      "2023-03-14 18:34.20 [info     ] SAC_online_20230314183420: epoch=1 step=1000 epoch=1 metrics={'time_inference': 0.00026995468139648436, 'time_environment_step': 0.00026090073585510255, 'time_step': 0.0005448977947235108, 'rollout_return': 16.070422535211268, 'evaluation': 15.4} step=1000\n",
      "2023-03-14 18:34.24 [info     ] Model parameters are saved to d3rlpy_logs/SAC_online_20230314183420/model_2000.pt\n",
      "2023-03-14 18:34.24 [info     ] SAC_online_20230314183420: epoch=2 step=2000 epoch=2 metrics={'time_inference': 0.00027974843978881834, 'time_environment_step': 0.00029725933074951173, 'time_sample_batch': 0.00010188889503479004, 'time_algorithm_update': 0.002757029056549072, 'temp_loss': -5.351887887179852, 'temp': 1.0446100927591324, 'critic_loss': 8075.778649383545, 'actor_loss': 79.09380437088012, 'time_step': 0.0034590120315551756, 'rollout_return': 14.753521126760564, 'evaluation': 14.7} step=2000\n",
      "2023-03-14 18:34.27 [info     ] Model parameters are saved to d3rlpy_logs/SAC_online_20230314183420/model_3000.pt\n",
      "2023-03-14 18:34.27 [info     ] SAC_online_20230314183420: epoch=3 step=3000 epoch=3 metrics={'time_inference': 0.00029518985748291015, 'time_environment_step': 0.0003037054538726807, 'time_sample_batch': 0.00011227154731750489, 'time_algorithm_update': 0.0027836904525756836, 'temp_loss': -0.5571012130659073, 'temp': 1.1006001629829407, 'critic_loss': 135.97951385498047, 'actor_loss': 16.56556106734276, 'time_step': 0.003518451452255249, 'rollout_return': 15.0, 'evaluation': 13.5} step=3000\n",
      "2023-03-14 18:34.31 [info     ] Model parameters are saved to d3rlpy_logs/SAC_online_20230314183420/model_4000.pt\n",
      "2023-03-14 18:34.31 [info     ] SAC_online_20230314183420: epoch=4 step=4000 epoch=4 metrics={'time_inference': 0.0002869465351104736, 'time_environment_step': 0.0002999982833862305, 'time_sample_batch': 0.00011372303962707519, 'time_algorithm_update': 0.0027399234771728516, 'temp_loss': 1.6235792630910872, 'temp': 1.029262081027031, 'critic_loss': 14.53451044845581, 'actor_loss': -2.424196242813021, 'time_step': 0.003463810682296753, 'rollout_return': 14.774647887323944, 'evaluation': 13.2} step=4000\n",
      "2023-03-14 18:34.35 [info     ] Model parameters are saved to d3rlpy_logs/SAC_online_20230314183420/model_5000.pt\n",
      "2023-03-14 18:34.35 [info     ] SAC_online_20230314183420: epoch=5 step=5000 epoch=5 metrics={'time_inference': 0.0002893803119659424, 'time_environment_step': 0.00031214356422424314, 'time_sample_batch': 0.0001250016689300537, 'time_algorithm_update': 0.002768566370010376, 'temp_loss': 1.410028227031231, 'temp': 0.8803289337158203, 'critic_loss': 6.23545734834671, 'actor_loss': -5.676326858520508, 'time_step': 0.00351944637298584, 'rollout_return': 14.28169014084507, 'evaluation': 13.3} step=5000\n",
      "2023-03-14 18:34.38 [info     ] Model parameters are saved to d3rlpy_logs/SAC_online_20230314183420/model_6000.pt\n",
      "2023-03-14 18:34.38 [info     ] SAC_online_20230314183420: epoch=6 step=6000 epoch=6 metrics={'time_inference': 0.0002994396686553955, 'time_environment_step': 0.0003302311897277832, 'time_sample_batch': 0.0001335606575012207, 'time_algorithm_update': 0.0028618996143341064, 'temp_loss': 1.1713602295517922, 'temp': 0.7305580993294716, 'critic_loss': 5.984659082174301, 'actor_loss': -5.89592514371872, 'time_step': 0.003651158809661865, 'rollout_return': 14.43661971830986, 'evaluation': 14.2} step=6000\n",
      "2023-03-14 18:34.42 [info     ] Model parameters are saved to d3rlpy_logs/SAC_online_20230314183420/model_7000.pt\n",
      "2023-03-14 18:34.42 [info     ] SAC_online_20230314183420: epoch=7 step=7000 epoch=7 metrics={'time_inference': 0.0002958569526672363, 'time_environment_step': 0.0003223335742950439, 'time_sample_batch': 0.00013418173789978027, 'time_algorithm_update': 0.0028678977489471433, 'temp_loss': 0.9603926531076431, 'temp': 0.5953130159974098, 'critic_loss': 5.527248584508896, 'actor_loss': -5.544549677371979, 'time_step': 0.0036456711292266845, 'rollout_return': 14.93661971830986, 'evaluation': 16.3} step=7000\n",
      "2023-03-14 18:34.46 [info     ] Model parameters are saved to d3rlpy_logs/SAC_online_20230314183420/model_8000.pt\n",
      "2023-03-14 18:34.46 [info     ] SAC_online_20230314183420: epoch=8 step=8000 epoch=8 metrics={'time_inference': 0.0003090176582336426, 'time_environment_step': 0.0003494527339935303, 'time_sample_batch': 0.00014119744300842286, 'time_algorithm_update': 0.0030425548553466796, 'temp_loss': 0.7652414003759622, 'temp': 0.48061064949631693, 'critic_loss': 5.300718023777008, 'actor_loss': -5.147054271936416, 'time_step': 0.0038746156692504885, 'rollout_return': 14.183098591549296, 'evaluation': 12.4} step=8000\n",
      "2023-03-14 18:34.50 [info     ] Model parameters are saved to d3rlpy_logs/SAC_online_20230314183420/model_9000.pt\n",
      "2023-03-14 18:34.50 [info     ] SAC_online_20230314183420: epoch=9 step=9000 epoch=9 metrics={'time_inference': 0.00030180740356445314, 'time_environment_step': 0.0003188862800598145, 'time_sample_batch': 0.00013439869880676268, 'time_algorithm_update': 0.0028737378120422363, 'temp_loss': 0.6216008938550949, 'temp': 0.38599362879991533, 'critic_loss': 5.049646910905838, 'actor_loss': -4.85309344792366, 'time_step': 0.003653255224227905, 'rollout_return': 14.43661971830986, 'evaluation': 13.6} step=9000\n",
      "2023-03-14 18:34.53 [info     ] Model parameters are saved to d3rlpy_logs/SAC_online_20230314183420/model_10000.pt\n",
      "2023-03-14 18:34.53 [info     ] SAC_online_20230314183420: epoch=10 step=10000 epoch=10 metrics={'time_inference': 0.0002995617389678955, 'time_environment_step': 0.0003178014755249023, 'time_sample_batch': 0.00013863778114318848, 'time_algorithm_update': 0.0028209974765777586, 'temp_loss': 0.4953959376811981, 'temp': 0.30926867029070854, 'critic_loss': 4.848011964321136, 'actor_loss': -4.661989312410355, 'time_step': 0.0036018073558807375, 'rollout_return': 14.30281690140845, 'evaluation': 16.1} step=10000\n",
      "2023-03-14 18:34.57 [info     ] Model parameters are saved to d3rlpy_logs/SAC_online_20230314183420/model_11000.pt\n",
      "2023-03-14 18:34.57 [info     ] SAC_online_20230314183420: epoch=11 step=11000 epoch=11 metrics={'time_inference': 0.00031227827072143554, 'time_environment_step': 0.0003474733829498291, 'time_sample_batch': 0.00014467787742614746, 'time_algorithm_update': 0.0029781460762023926, 'temp_loss': 0.3956295446455479, 'temp': 0.24769492538273336, 'critic_loss': 4.755039753675461, 'actor_loss': -4.464268111228943, 'time_step': 0.003811055898666382, 'rollout_return': 14.661971830985916, 'evaluation': 15.6} step=11000\n",
      "2023-03-14 18:35.01 [info     ] Model parameters are saved to d3rlpy_logs/SAC_online_20230314183420/model_12000.pt\n",
      "2023-03-14 18:35.01 [info     ] SAC_online_20230314183420: epoch=12 step=12000 epoch=12 metrics={'time_inference': 0.00030815553665161134, 'time_environment_step': 0.00032732629776000975, 'time_sample_batch': 0.00014661002159118653, 'time_algorithm_update': 0.0028938519954681396, 'temp_loss': 0.3175550320148468, 'temp': 0.1981384463608265, 'critic_loss': 4.734039183139801, 'actor_loss': -4.3000617260932925, 'time_step': 0.0037049491405487063, 'rollout_return': 14.119718309859154, 'evaluation': 15.5} step=12000\n",
      "2023-03-14 18:35.06 [info     ] Model parameters are saved to d3rlpy_logs/SAC_online_20230314183420/model_13000.pt\n",
      "2023-03-14 18:35.06 [info     ] SAC_online_20230314183420: epoch=13 step=13000 epoch=13 metrics={'time_inference': 0.0003658871650695801, 'time_environment_step': 0.000407045841217041, 'time_sample_batch': 0.0001735200881958008, 'time_algorithm_update': 0.003569702625274658, 'temp_loss': 0.2529749396294355, 'temp': 0.15861548931896688, 'critic_loss': 4.544015154838562, 'actor_loss': -4.218631355047226, 'time_step': 0.00455073881149292, 'rollout_return': 14.52112676056338, 'evaluation': 14.8} step=13000\n",
      "2023-03-14 18:35.10 [info     ] Model parameters are saved to d3rlpy_logs/SAC_online_20230314183420/model_14000.pt\n",
      "2023-03-14 18:35.10 [info     ] SAC_online_20230314183420: epoch=14 step=14000 epoch=14 metrics={'time_inference': 0.0003149087429046631, 'time_environment_step': 0.00035198092460632326, 'time_sample_batch': 0.00014867424964904786, 'time_algorithm_update': 0.00297492241859436, 'temp_loss': 0.19645145089924335, 'temp': 0.12726826624572277, 'critic_loss': 4.488372349739075, 'actor_loss': -4.133182327508926, 'time_step': 0.0038207476139068604, 'rollout_return': 14.845070422535212, 'evaluation': 14.5} step=14000\n",
      "2023-03-14 18:35.13 [info     ] Model parameters are saved to d3rlpy_logs/SAC_online_20230314183420/model_15000.pt\n",
      "2023-03-14 18:35.13 [info     ] SAC_online_20230314183420: epoch=15 step=15000 epoch=15 metrics={'time_inference': 0.0002906653881072998, 'time_environment_step': 0.0002979278564453125, 'time_sample_batch': 0.00012851953506469725, 'time_algorithm_update': 0.0027338099479675294, 'temp_loss': 0.15727794017642738, 'temp': 0.10223685878515243, 'critic_loss': 4.40735685634613, 'actor_loss': -4.062783544778823, 'time_step': 0.0034759030342102052, 'rollout_return': 14.32394366197183, 'evaluation': 15.5} step=15000\n",
      "2023-03-14 18:35.17 [info     ] Model parameters are saved to d3rlpy_logs/SAC_online_20230314183420/model_16000.pt\n",
      "2023-03-14 18:35.17 [info     ] SAC_online_20230314183420: epoch=16 step=16000 epoch=16 metrics={'time_inference': 0.00030139708518981935, 'time_environment_step': 0.00031598615646362307, 'time_sample_batch': 0.00013528037071228028, 'time_algorithm_update': 0.002860468149185181, 'temp_loss': 0.1228227905780077, 'temp': 0.08208451030403376, 'critic_loss': 4.339119867086411, 'actor_loss': -4.060226169586182, 'time_step': 0.0036396899223327638, 'rollout_return': 14.866197183098592, 'evaluation': 15.6} step=16000\n",
      "2023-03-14 18:35.20 [info     ] Model parameters are saved to d3rlpy_logs/SAC_online_20230314183420/model_17000.pt\n",
      "2023-03-14 18:35.20 [info     ] SAC_online_20230314183420: epoch=17 step=17000 epoch=17 metrics={'time_inference': 0.0002945363521575928, 'time_environment_step': 0.00030389785766601565, 'time_sample_batch': 0.00013106513023376464, 'time_algorithm_update': 0.0027825164794921873, 'temp_loss': 0.09384847435355187, 'temp': 0.06626555898040533, 'critic_loss': 4.210640449285507, 'actor_loss': -4.000982193946839, 'time_step': 0.00353763747215271, 'rollout_return': 15.02112676056338, 'evaluation': 13.7} step=17000\n",
      "2023-03-14 18:35.24 [info     ] Model parameters are saved to d3rlpy_logs/SAC_online_20230314183420/model_18000.pt\n",
      "2023-03-14 18:35.24 [info     ] SAC_online_20230314183420: epoch=18 step=18000 epoch=18 metrics={'time_inference': 0.00029015374183654784, 'time_environment_step': 0.00029920649528503417, 'time_sample_batch': 0.00012907814979553223, 'time_algorithm_update': 0.002734691381454468, 'temp_loss': 0.07158715796470642, 'temp': 0.05369147016108036, 'critic_loss': 4.177824086427688, 'actor_loss': -3.9471006894111635, 'time_step': 0.003478253602981567, 'rollout_return': 14.577464788732394, 'evaluation': 13.9} step=18000\n",
      "2023-03-14 18:35.28 [info     ] Model parameters are saved to d3rlpy_logs/SAC_online_20230314183420/model_19000.pt\n",
      "2023-03-14 18:35.28 [info     ] SAC_online_20230314183420: epoch=19 step=19000 epoch=19 metrics={'time_inference': 0.0003337242603302002, 'time_environment_step': 0.0004037187099456787, 'time_sample_batch': 0.00016097521781921386, 'time_algorithm_update': 0.00316234827041626, 'temp_loss': 0.05467927372641861, 'temp': 0.043627316549420356, 'critic_loss': 4.083934871435165, 'actor_loss': -3.937849423408508, 'time_step': 0.004096320629119873, 'rollout_return': 15.647887323943662, 'evaluation': 13.7} step=19000\n",
      "2023-03-14 18:35.33 [info     ] Model parameters are saved to d3rlpy_logs/SAC_online_20230314183420/model_20000.pt\n",
      "2023-03-14 18:35.33 [info     ] SAC_online_20230314183420: epoch=20 step=20000 epoch=20 metrics={'time_inference': 0.0003444881439208984, 'time_environment_step': 0.0004211595058441162, 'time_sample_batch': 0.00017481446266174317, 'time_algorithm_update': 0.0033312885761260986, 'temp_loss': 0.04081931058410555, 'temp': 0.03554027260839939, 'critic_loss': 3.9675135560035706, 'actor_loss': -3.917261472225189, 'time_step': 0.004309247016906739, 'rollout_return': 14.67605633802817, 'evaluation': 15.0} step=20000\n",
      "2023-03-14 18:35.36 [info     ] Model parameters are saved to d3rlpy_logs/SAC_online_20230314183420/model_21000.pt\n",
      "2023-03-14 18:35.36 [info     ] SAC_online_20230314183420: epoch=21 step=21000 epoch=21 metrics={'time_inference': 0.00030724430084228514, 'time_environment_step': 0.0003414933681488037, 'time_sample_batch': 0.00014305877685546876, 'time_algorithm_update': 0.0029169771671295167, 'temp_loss': 0.02870073703257367, 'temp': 0.02926871635951102, 'critic_loss': 3.918162749528885, 'actor_loss': -3.9413711256980895, 'time_step': 0.003738145589828491, 'rollout_return': 14.985915492957746, 'evaluation': 17.0} step=21000\n",
      "2023-03-14 18:35.40 [info     ] Model parameters are saved to d3rlpy_logs/SAC_online_20230314183420/model_22000.pt\n",
      "2023-03-14 18:35.40 [info     ] SAC_online_20230314183420: epoch=22 step=22000 epoch=22 metrics={'time_inference': 0.00029051947593688966, 'time_environment_step': 0.000303281307220459, 'time_sample_batch': 0.00013221240043640136, 'time_algorithm_update': 0.002772249937057495, 'temp_loss': 0.019099805751640817, 'temp': 0.02447820346429944, 'critic_loss': 3.890719401836395, 'actor_loss': -4.004615001440048, 'time_step': 0.0035240406990051268, 'rollout_return': 15.556338028169014, 'evaluation': 14.6} step=22000\n",
      "2023-03-14 18:35.44 [info     ] Model parameters are saved to d3rlpy_logs/SAC_online_20230314183420/model_23000.pt\n",
      "2023-03-14 18:35.44 [info     ] SAC_online_20230314183420: epoch=23 step=23000 epoch=23 metrics={'time_inference': 0.00029050421714782714, 'time_environment_step': 0.0003002490997314453, 'time_sample_batch': 0.00013030552864074708, 'time_algorithm_update': 0.002740220546722412, 'temp_loss': 0.011950217707111733, 'temp': 0.020887319184839725, 'critic_loss': 3.9030581521987915, 'actor_loss': -4.049606876850128, 'time_step': 0.0034867379665374757, 'rollout_return': 15.56338028169014, 'evaluation': 16.4} step=23000\n",
      "2023-03-14 18:35.47 [info     ] Model parameters are saved to d3rlpy_logs/SAC_online_20230314183420/model_24000.pt\n",
      "2023-03-14 18:35.47 [info     ] SAC_online_20230314183420: epoch=24 step=24000 epoch=24 metrics={'time_inference': 0.0002843782901763916, 'time_environment_step': 0.0002985084056854248, 'time_sample_batch': 0.00013058400154113768, 'time_algorithm_update': 0.0027244546413421633, 'temp_loss': 0.006220493454631651, 'temp': 0.018387187575921417, 'critic_loss': 3.9118128454685213, 'actor_loss': -4.155440721511841, 'time_step': 0.003463203430175781, 'rollout_return': 15.485915492957746, 'evaluation': 16.9} step=24000\n",
      "2023-03-14 18:35.51 [info     ] Model parameters are saved to d3rlpy_logs/SAC_online_20230314183420/model_25000.pt\n",
      "2023-03-14 18:35.51 [info     ] SAC_online_20230314183420: epoch=25 step=25000 epoch=25 metrics={'time_inference': 0.00028284740447998046, 'time_environment_step': 0.00029816484451293947, 'time_sample_batch': 0.00012992334365844726, 'time_algorithm_update': 0.002724600553512573, 'temp_loss': 0.002493285670183468, 'temp': 0.01684764073230326, 'critic_loss': 4.035324011564255, 'actor_loss': -4.306765856742859, 'time_step': 0.0034608092308044433, 'rollout_return': 15.985915492957746, 'evaluation': 14.4} step=25000\n",
      "2023-03-14 18:35.54 [info     ] Model parameters are saved to d3rlpy_logs/SAC_online_20230314183420/model_26000.pt\n",
      "2023-03-14 18:35.54 [info     ] SAC_online_20230314183420: epoch=26 step=26000 epoch=26 metrics={'time_inference': 0.0002868497371673584, 'time_environment_step': 0.0003020377159118652, 'time_sample_batch': 0.00013155484199523925, 'time_algorithm_update': 0.002769615650177002, 'temp_loss': 0.001122722316889849, 'temp': 0.016121569212526082, 'critic_loss': 4.104786936283111, 'actor_loss': -4.436933980703354, 'time_step': 0.003515606164932251, 'rollout_return': 15.584507042253522, 'evaluation': 16.5} step=26000\n",
      "2023-03-14 18:35.58 [info     ] Model parameters are saved to d3rlpy_logs/SAC_online_20230314183420/model_27000.pt\n",
      "2023-03-14 18:35.58 [info     ] SAC_online_20230314183420: epoch=27 step=27000 epoch=27 metrics={'time_inference': 0.00028876590728759766, 'time_environment_step': 0.00030132460594177246, 'time_sample_batch': 0.00013092041015625, 'time_algorithm_update': 0.0027428624629974364, 'temp_loss': -0.0008021704695129301, 'temp': 0.016073578210547567, 'critic_loss': 4.161605173587799, 'actor_loss': -4.555727348566055, 'time_step': 0.0034893846511840822, 'rollout_return': 15.852112676056338, 'evaluation': 16.7} step=27000\n",
      "2023-03-14 18:36.01 [info     ] Model parameters are saved to d3rlpy_logs/SAC_online_20230314183420/model_28000.pt\n",
      "2023-03-14 18:36.01 [info     ] SAC_online_20230314183420: epoch=28 step=28000 epoch=28 metrics={'time_inference': 0.0002903461456298828, 'time_environment_step': 0.00029839515686035155, 'time_sample_batch': 0.00012930774688720703, 'time_algorithm_update': 0.0027222621440887453, 'temp_loss': -0.0010311270418314961, 'temp': 0.016704050855711104, 'critic_loss': 4.185581852674484, 'actor_loss': -4.667764476537704, 'time_step': 0.003465527057647705, 'rollout_return': 15.485915492957746, 'evaluation': 16.9} step=28000\n",
      "2023-03-14 18:36.05 [info     ] Model parameters are saved to d3rlpy_logs/SAC_online_20230314183420/model_29000.pt\n",
      "2023-03-14 18:36.05 [info     ] SAC_online_20230314183420: epoch=29 step=29000 epoch=29 metrics={'time_inference': 0.00029317569732666013, 'time_environment_step': 0.00029831719398498534, 'time_sample_batch': 0.00012954807281494141, 'time_algorithm_update': 0.0027279067039489746, 'temp_loss': -0.0006907887933484744, 'temp': 0.017356386836618186, 'critic_loss': 4.211354013681412, 'actor_loss': -4.783257982254028, 'time_step': 0.0034741356372833252, 'rollout_return': 15.964788732394366, 'evaluation': 16.1} step=29000\n",
      "2023-03-14 18:36.09 [info     ] Model parameters are saved to d3rlpy_logs/SAC_online_20230314183420/model_30000.pt\n",
      "2023-03-14 18:36.09 [info     ] SAC_online_20230314183420: epoch=30 step=30000 epoch=30 metrics={'time_inference': 0.00031110334396362307, 'time_environment_step': 0.0003396861553192139, 'time_sample_batch': 0.00014481854438781739, 'time_algorithm_update': 0.0028980484008789063, 'temp_loss': -0.001036505080963252, 'temp': 0.018012072505429386, 'critic_loss': 4.293503285169601, 'actor_loss': -4.869564820289612, 'time_step': 0.0037230465412139892, 'rollout_return': 16.077464788732396, 'evaluation': 16.4} step=30000\n",
      "2023-03-14 18:36.13 [info     ] Model parameters are saved to d3rlpy_logs/SAC_online_20230314183420/model_31000.pt\n",
      "2023-03-14 18:36.13 [info     ] SAC_online_20230314183420: epoch=31 step=31000 epoch=31 metrics={'time_inference': 0.0003334436416625977, 'time_environment_step': 0.00039745211601257326, 'time_sample_batch': 0.00016071295738220214, 'time_algorithm_update': 0.0035109601020812987, 'temp_loss': -0.0006925989470037167, 'temp': 0.018782972440123558, 'critic_loss': 4.305189272165299, 'actor_loss': -4.9734932038784025, 'time_step': 0.004438043355941773, 'rollout_return': 16.288732394366196, 'evaluation': 15.7} step=31000\n",
      "2023-03-14 18:36.17 [info     ] Model parameters are saved to d3rlpy_logs/SAC_online_20230314183420/model_32000.pt\n",
      "2023-03-14 18:36.17 [info     ] SAC_online_20230314183420: epoch=32 step=32000 epoch=32 metrics={'time_inference': 0.0003190126419067383, 'time_environment_step': 0.00035845327377319336, 'time_sample_batch': 0.0001539762020111084, 'time_algorithm_update': 0.0029897897243499755, 'temp_loss': -0.00032053770605125465, 'temp': 0.019147831289097667, 'critic_loss': 4.322488430261612, 'actor_loss': -5.067018220424652, 'time_step': 0.0038523309230804443, 'rollout_return': 15.661971830985916, 'evaluation': 16.3} step=32000\n",
      "2023-03-14 18:36.21 [info     ] Model parameters are saved to d3rlpy_logs/SAC_online_20230314183420/model_33000.pt\n",
      "2023-03-14 18:36.21 [info     ] SAC_online_20230314183420: epoch=33 step=33000 epoch=33 metrics={'time_inference': 0.0003136706352233887, 'time_environment_step': 0.00034745144844055176, 'time_sample_batch': 0.00014601707458496095, 'time_algorithm_update': 0.0029296228885650633, 'temp_loss': 0.00030411166786507236, 'temp': 0.01929400634393096, 'critic_loss': 4.376047926425934, 'actor_loss': -5.084353665351868, 'time_step': 0.003766412258148193, 'rollout_return': 15.471830985915492, 'evaluation': 13.6} step=33000\n",
      "2023-03-14 18:36.24 [info     ] Model parameters are saved to d3rlpy_logs/SAC_online_20230314183420/model_34000.pt\n",
      "2023-03-14 18:36.24 [info     ] SAC_online_20230314183420: epoch=34 step=34000 epoch=34 metrics={'time_inference': 0.0002938883304595947, 'time_environment_step': 0.00030196475982666014, 'time_sample_batch': 0.0001313314437866211, 'time_algorithm_update': 0.0027403674125671385, 'temp_loss': -4.201676994125592e-05, 'temp': 0.019116395795717837, 'critic_loss': 4.360417340040207, 'actor_loss': -5.141926001548767, 'time_step': 0.003493192195892334, 'rollout_return': 15.54225352112676, 'evaluation': 15.1} step=34000\n",
      "2023-03-14 18:36.28 [info     ] Model parameters are saved to d3rlpy_logs/SAC_online_20230314183420/model_35000.pt\n",
      "2023-03-14 18:36.28 [info     ] SAC_online_20230314183420: epoch=35 step=35000 epoch=35 metrics={'time_inference': 0.00029380321502685546, 'time_environment_step': 0.0003017737865447998, 'time_sample_batch': 0.00013099074363708495, 'time_algorithm_update': 0.0027362613677978515, 'temp_loss': 5.635270621132804e-05, 'temp': 0.01904663316346705, 'critic_loss': 4.237870512723923, 'actor_loss': -5.067063565731049, 'time_step': 0.003488255500793457, 'rollout_return': 15.859154929577464, 'evaluation': 11.7} step=35000\n",
      "2023-03-14 18:36.32 [info     ] Model parameters are saved to d3rlpy_logs/SAC_online_20230314183420/model_36000.pt\n",
      "2023-03-14 18:36.32 [info     ] SAC_online_20230314183420: epoch=36 step=36000 epoch=36 metrics={'time_inference': 0.0002881913185119629, 'time_environment_step': 0.00029992222785949705, 'time_sample_batch': 0.00013048553466796876, 'time_algorithm_update': 0.0027321717739105223, 'temp_loss': 0.0002584519723168341, 'temp': 0.01881839081645012, 'critic_loss': 4.328077379465103, 'actor_loss': -5.0750922679901125, 'time_step': 0.003476215362548828, 'rollout_return': 15.732394366197184, 'evaluation': 17.3} step=36000\n",
      "2023-03-14 18:36.35 [info     ] Model parameters are saved to d3rlpy_logs/SAC_online_20230314183420/model_37000.pt\n",
      "2023-03-14 18:36.35 [info     ] SAC_online_20230314183420: epoch=37 step=37000 epoch=37 metrics={'time_inference': 0.0002934670448303223, 'time_environment_step': 0.00030129742622375487, 'time_sample_batch': 0.0001305837631225586, 'time_algorithm_update': 0.002730096340179443, 'temp_loss': 0.00011572253829945112, 'temp': 0.01869979703053832, 'critic_loss': 4.322684609651565, 'actor_loss': -5.064095987796783, 'time_step': 0.0034811234474182128, 'rollout_return': 16.014084507042252, 'evaluation': 16.8} step=37000\n",
      "2023-03-14 18:36.39 [info     ] Model parameters are saved to d3rlpy_logs/SAC_online_20230314183420/model_38000.pt\n",
      "2023-03-14 18:36.39 [info     ] SAC_online_20230314183420: epoch=38 step=38000 epoch=38 metrics={'time_inference': 0.00029158592224121094, 'time_environment_step': 0.0003015117645263672, 'time_sample_batch': 0.00013182592391967774, 'time_algorithm_update': 0.002735625743865967, 'temp_loss': 0.00025370073670637796, 'temp': 0.01858453197218478, 'critic_loss': 4.3317424561977385, 'actor_loss': -5.056140848636627, 'time_step': 0.0034862473011016844, 'rollout_return': 15.007042253521126, 'evaluation': 16.4} step=38000\n",
      "2023-03-14 18:36.42 [info     ] Model parameters are saved to d3rlpy_logs/SAC_online_20230314183420/model_39000.pt\n",
      "2023-03-14 18:36.42 [info     ] SAC_online_20230314183420: epoch=39 step=39000 epoch=39 metrics={'time_inference': 0.0002890317440032959, 'time_environment_step': 0.00030490684509277345, 'time_sample_batch': 0.00013173389434814454, 'time_algorithm_update': 0.0027525653839111327, 'temp_loss': 0.0003764163754240144, 'temp': 0.018425199693068862, 'critic_loss': 4.348149949789048, 'actor_loss': -5.038344441413879, 'time_step': 0.0035039644241333006, 'rollout_return': 15.32394366197183, 'evaluation': 16.0} step=39000\n",
      "2023-03-14 18:36.46 [info     ] Model parameters are saved to d3rlpy_logs/SAC_online_20230314183420/model_40000.pt\n",
      "2023-03-14 18:36.46 [info     ] SAC_online_20230314183420: epoch=40 step=40000 epoch=40 metrics={'time_inference': 0.00029283952713012696, 'time_environment_step': 0.00030218005180358885, 'time_sample_batch': 0.00013192152976989745, 'time_algorithm_update': 0.0027461504936218263, 'temp_loss': 0.0002262800134558347, 'temp': 0.01803821636736393, 'critic_loss': 4.3615079448223115, 'actor_loss': -5.051056220531463, 'time_step': 0.003499075174331665, 'rollout_return': 15.93661971830986, 'evaluation': 16.2} step=40000\n",
      "2023-03-14 18:36.49 [info     ] Model parameters are saved to d3rlpy_logs/SAC_online_20230314183420/model_41000.pt\n",
      "2023-03-14 18:36.49 [info     ] SAC_online_20230314183420: epoch=41 step=41000 epoch=41 metrics={'time_inference': 0.00028194308280944826, 'time_environment_step': 0.0002999043464660645, 'time_sample_batch': 0.00013109159469604491, 'time_algorithm_update': 0.002732471942901611, 'temp_loss': 0.0002238602999423165, 'temp': 0.017925078211352228, 'critic_loss': 4.2710079011917115, 'actor_loss': -5.067825302362442, 'time_step': 0.003470999240875244, 'rollout_return': 15.809859154929578, 'evaluation': 14.0} step=41000\n",
      "2023-03-14 18:36.53 [info     ] Model parameters are saved to d3rlpy_logs/SAC_online_20230314183420/model_42000.pt\n",
      "2023-03-14 18:36.53 [info     ] SAC_online_20230314183420: epoch=42 step=42000 epoch=42 metrics={'time_inference': 0.0003084864616394043, 'time_environment_step': 0.0003479747772216797, 'time_sample_batch': 0.00014948582649230958, 'time_algorithm_update': 0.002948131799697876, 'temp_loss': 6.072579145984491e-05, 'temp': 0.01773868875019252, 'critic_loss': 4.291056881904602, 'actor_loss': -5.030335198879242, 'time_step': 0.0037849533557891848, 'rollout_return': 15.401408450704226, 'evaluation': 14.4} step=42000\n",
      "2023-03-14 18:36.57 [info     ] Model parameters are saved to d3rlpy_logs/SAC_online_20230314183420/model_43000.pt\n",
      "2023-03-14 18:36.57 [info     ] SAC_online_20230314183420: epoch=43 step=43000 epoch=43 metrics={'time_inference': 0.00031630516052246095, 'time_environment_step': 0.00037725996971130373, 'time_sample_batch': 0.00015667271614074708, 'time_algorithm_update': 0.0031227166652679442, 'temp_loss': 0.0004806419768356136, 'temp': 0.017496284402906896, 'critic_loss': 4.400956089735031, 'actor_loss': -5.029101092338562, 'time_step': 0.0040061275959014896, 'rollout_return': 15.28169014084507, 'evaluation': 16.5} step=43000\n",
      "2023-03-14 18:37.01 [info     ] Model parameters are saved to d3rlpy_logs/SAC_online_20230314183420/model_44000.pt\n",
      "2023-03-14 18:37.01 [info     ] SAC_online_20230314183420: epoch=44 step=44000 epoch=44 metrics={'time_inference': 0.0003243753910064697, 'time_environment_step': 0.0003767945766448975, 'time_sample_batch': 0.0001586136817932129, 'time_algorithm_update': 0.0030855517387390137, 'temp_loss': 0.00010438990467082476, 'temp': 0.017054159225896003, 'critic_loss': 4.431207420110702, 'actor_loss': -5.037360048532486, 'time_step': 0.003978582382202148, 'rollout_return': 16.077464788732396, 'evaluation': 16.8} step=44000\n",
      "2023-03-14 18:37.05 [info     ] Model parameters are saved to d3rlpy_logs/SAC_online_20230314183420/model_45000.pt\n",
      "2023-03-14 18:37.05 [info     ] SAC_online_20230314183420: epoch=45 step=45000 epoch=45 metrics={'time_inference': 0.0003121445178985596, 'time_environment_step': 0.0003572735786437988, 'time_sample_batch': 0.0001527392864227295, 'time_algorithm_update': 0.002999657392501831, 'temp_loss': 0.0008280976313035354, 'temp': 0.016734155625104906, 'critic_loss': 4.337087376117706, 'actor_loss': -5.045093398571014, 'time_step': 0.003853541612625122, 'rollout_return': 15.577464788732394, 'evaluation': 13.6} step=45000\n",
      "2023-03-14 18:37.09 [info     ] Model parameters are saved to d3rlpy_logs/SAC_online_20230314183420/model_46000.pt\n",
      "2023-03-14 18:37.09 [info     ] SAC_online_20230314183420: epoch=46 step=46000 epoch=46 metrics={'time_inference': 0.00029023361206054687, 'time_environment_step': 0.0002995996475219727, 'time_sample_batch': 0.0001288323402404785, 'time_algorithm_update': 0.002716580867767334, 'temp_loss': 0.000830556822635117, 'temp': 0.01592216895148158, 'critic_loss': 4.336398162603379, 'actor_loss': -5.0593716247081755, 'time_step': 0.0034604413509368897, 'rollout_return': 15.78169014084507, 'evaluation': 15.3} step=46000\n",
      "2023-03-14 18:37.12 [info     ] Model parameters are saved to d3rlpy_logs/SAC_online_20230314183420/model_47000.pt\n",
      "2023-03-14 18:37.12 [info     ] SAC_online_20230314183420: epoch=47 step=47000 epoch=47 metrics={'time_inference': 0.00028998875617980955, 'time_environment_step': 0.0002991948127746582, 'time_sample_batch': 0.00013041067123413085, 'time_algorithm_update': 0.0027383334636688233, 'temp_loss': 0.0006702003448663163, 'temp': 0.015274352802895009, 'critic_loss': 4.3165584282875065, 'actor_loss': -5.06136460185051, 'time_step': 0.0034832870960235596, 'rollout_return': 15.943661971830986, 'evaluation': 16.0} step=47000\n",
      "2023-03-14 18:37.16 [info     ] Model parameters are saved to d3rlpy_logs/SAC_online_20230314183420/model_48000.pt\n",
      "2023-03-14 18:37.16 [info     ] SAC_online_20230314183420: epoch=48 step=48000 epoch=48 metrics={'time_inference': 0.0002908101081848145, 'time_environment_step': 0.000297853946685791, 'time_sample_batch': 0.00012903666496276857, 'time_algorithm_update': 0.0027277581691741945, 'temp_loss': 0.00034428286695037966, 'temp': 0.014844450121745466, 'critic_loss': 4.324833629608154, 'actor_loss': -5.079178257703781, 'time_step': 0.0034706494808197023, 'rollout_return': 15.43661971830986, 'evaluation': 15.2} step=48000\n",
      "2023-03-14 18:37.20 [info     ] Model parameters are saved to d3rlpy_logs/SAC_online_20230314183420/model_49000.pt\n",
      "2023-03-14 18:37.20 [info     ] SAC_online_20230314183420: epoch=49 step=49000 epoch=49 metrics={'time_inference': 0.0002920539379119873, 'time_environment_step': 0.0003113453388214111, 'time_sample_batch': 0.00013489079475402833, 'time_algorithm_update': 0.002777282476425171, 'temp_loss': 0.0005503471902193269, 'temp': 0.014442370844073594, 'critic_loss': 4.341317214012146, 'actor_loss': -5.0765393843650815, 'time_step': 0.003541922092437744, 'rollout_return': 15.47887323943662, 'evaluation': 12.5} step=49000\n",
      "2023-03-14 18:37.23 [info     ] Model parameters are saved to d3rlpy_logs/SAC_online_20230314183420/model_50000.pt\n",
      "2023-03-14 18:37.23 [info     ] SAC_online_20230314183420: epoch=50 step=50000 epoch=50 metrics={'time_inference': 0.00029261279106140137, 'time_environment_step': 0.0003163938522338867, 'time_sample_batch': 0.00013755083084106444, 'time_algorithm_update': 0.002803723096847534, 'temp_loss': 0.00026555877833015987, 'temp': 0.014107212588191033, 'critic_loss': 4.355499618291855, 'actor_loss': -5.093371684074402, 'time_step': 0.0035771872997283935, 'rollout_return': 15.964788732394366, 'evaluation': 14.5} step=50000\n",
      "2023-03-14 18:37.27 [info     ] Model parameters are saved to d3rlpy_logs/SAC_online_20230314183420/model_51000.pt\n",
      "2023-03-14 18:37.27 [info     ] SAC_online_20230314183420: epoch=51 step=51000 epoch=51 metrics={'time_inference': 0.0002948329448699951, 'time_environment_step': 0.00031903576850891114, 'time_sample_batch': 0.0001351194381713867, 'time_algorithm_update': 0.0028520960807800295, 'temp_loss': 0.00044920471884688596, 'temp': 0.013883188226260244, 'critic_loss': 4.361834756374359, 'actor_loss': -5.076047944784165, 'time_step': 0.00362786078453064, 'rollout_return': 15.753521126760564, 'evaluation': 15.6} step=51000\n",
      "2023-03-14 18:37.30 [info     ] Model parameters are saved to d3rlpy_logs/SAC_online_20230314183420/model_52000.pt\n",
      "2023-03-14 18:37.30 [info     ] SAC_online_20230314183420: epoch=52 step=52000 epoch=52 metrics={'time_inference': 0.0002966101169586182, 'time_environment_step': 0.0003149709701538086, 'time_sample_batch': 0.00013574481010437012, 'time_algorithm_update': 0.0027786550521850585, 'temp_loss': 0.00029823454445431706, 'temp': 0.01356487045250833, 'critic_loss': 4.3440882024765015, 'actor_loss': -5.104418282747269, 'time_step': 0.0035528249740600587, 'rollout_return': 15.338028169014084, 'evaluation': 16.2} step=52000\n",
      "2023-03-14 18:37.35 [info     ] Model parameters are saved to d3rlpy_logs/SAC_online_20230314183420/model_53000.pt\n",
      "2023-03-14 18:37.35 [info     ] SAC_online_20230314183420: epoch=53 step=53000 epoch=53 metrics={'time_inference': 0.00032111859321594236, 'time_environment_step': 0.0003714871406555176, 'time_sample_batch': 0.00015262961387634276, 'time_algorithm_update': 0.0030828235149383547, 'temp_loss': 0.0003818823729379801, 'temp': 0.013208762183785439, 'critic_loss': 4.3534924762249, 'actor_loss': -5.127490206718445, 'time_step': 0.0039611091613769535, 'rollout_return': 16.239436619718308, 'evaluation': 17.9} step=53000\n",
      "2023-03-14 18:37.39 [info     ] Model parameters are saved to d3rlpy_logs/SAC_online_20230314183420/model_54000.pt\n",
      "2023-03-14 18:37.39 [info     ] SAC_online_20230314183420: epoch=54 step=54000 epoch=54 metrics={'time_inference': 0.00032399773597717284, 'time_environment_step': 0.0003815922737121582, 'time_sample_batch': 0.00015915417671203615, 'time_algorithm_update': 0.003137570381164551, 'temp_loss': 0.000616144448533305, 'temp': 0.012741376306861639, 'critic_loss': 4.365635584354401, 'actor_loss': -5.175220247030258, 'time_step': 0.0040361199378967285, 'rollout_return': 15.471830985915492, 'evaluation': 15.2} step=54000\n",
      "2023-03-14 18:37.42 [info     ] Model parameters are saved to d3rlpy_logs/SAC_online_20230314183420/model_55000.pt\n",
      "2023-03-14 18:37.42 [info     ] SAC_online_20230314183420: epoch=55 step=55000 epoch=55 metrics={'time_inference': 0.0003052163124084473, 'time_environment_step': 0.0003369565010070801, 'time_sample_batch': 0.0001453821659088135, 'time_algorithm_update': 0.002902153253555298, 'temp_loss': 0.0005692060961700918, 'temp': 0.012326017764396966, 'critic_loss': 4.432512276411057, 'actor_loss': -5.154836584568024, 'time_step': 0.0037189738750457763, 'rollout_return': 15.887323943661972, 'evaluation': 14.5} step=55000\n",
      "2023-03-14 18:37.47 [info     ] Model parameters are saved to d3rlpy_logs/SAC_online_20230314183420/model_56000.pt\n",
      "2023-03-14 18:37.47 [info     ] SAC_online_20230314183420: epoch=56 step=56000 epoch=56 metrics={'time_inference': 0.0003370554447174072, 'time_environment_step': 0.00038456130027771, 'time_sample_batch': 0.00015675258636474608, 'time_algorithm_update': 0.0031350865364074706, 'temp_loss': 0.0004376310422885581, 'temp': 0.011825658716261386, 'critic_loss': 4.507263252973557, 'actor_loss': -5.124500961303711, 'time_step': 0.004046756982803345, 'rollout_return': 16.007042253521128, 'evaluation': 17.2} step=56000\n",
      "2023-03-14 18:37.51 [info     ] Model parameters are saved to d3rlpy_logs/SAC_online_20230314183420/model_57000.pt\n",
      "2023-03-14 18:37.51 [info     ] SAC_online_20230314183420: epoch=57 step=57000 epoch=57 metrics={'time_inference': 0.0003214027881622314, 'time_environment_step': 0.00036005878448486326, 'time_sample_batch': 0.00015080118179321288, 'time_algorithm_update': 0.003010624885559082, 'temp_loss': 0.00017670068291772623, 'temp': 0.011661068956367671, 'critic_loss': 4.5075627825260165, 'actor_loss': -5.143645528793335, 'time_step': 0.0038748433589935304, 'rollout_return': 15.908450704225352, 'evaluation': 14.1} step=57000\n",
      "2023-03-14 18:37.54 [info     ] Model parameters are saved to d3rlpy_logs/SAC_online_20230314183420/model_58000.pt\n",
      "2023-03-14 18:37.54 [info     ] SAC_online_20230314183420: epoch=58 step=58000 epoch=58 metrics={'time_inference': 0.0002920784950256348, 'time_environment_step': 0.00029902005195617677, 'time_sample_batch': 0.00012943506240844726, 'time_algorithm_update': 0.0027141025066375734, 'temp_loss': 0.0014074576678613083, 'temp': 0.011089655502699315, 'critic_loss': 4.4781258833408355, 'actor_loss': -5.166657109260559, 'time_step': 0.0034597461223602297, 'rollout_return': 15.43661971830986, 'evaluation': 16.9} step=58000\n",
      "2023-03-14 18:37.58 [info     ] Model parameters are saved to d3rlpy_logs/SAC_online_20230314183420/model_59000.pt\n",
      "2023-03-14 18:37.58 [info     ] SAC_online_20230314183420: epoch=59 step=59000 epoch=59 metrics={'time_inference': 0.00029012656211853025, 'time_environment_step': 0.0003006107807159424, 'time_sample_batch': 0.0001307518482208252, 'time_algorithm_update': 0.002760622024536133, 'temp_loss': 0.001538147527087858, 'temp': 0.00965682718809694, 'critic_loss': 4.499785410642624, 'actor_loss': -5.180333834171295, 'time_step': 0.0035077471733093264, 'rollout_return': 16.049295774647888, 'evaluation': 15.1} step=59000\n",
      "2023-03-14 18:38.01 [info     ] Model parameters are saved to d3rlpy_logs/SAC_online_20230314183420/model_60000.pt\n",
      "2023-03-14 18:38.01 [info     ] SAC_online_20230314183420: epoch=60 step=60000 epoch=60 metrics={'time_inference': 0.0002987496852874756, 'time_environment_step': 0.0003083479404449463, 'time_sample_batch': 0.0001333158016204834, 'time_algorithm_update': 0.002764505386352539, 'temp_loss': 0.0005919661402222119, 'temp': 0.008894599014893175, 'critic_loss': 4.51991810297966, 'actor_loss': -5.202742946624756, 'time_step': 0.0035312638282775878, 'rollout_return': 16.246478873239436, 'evaluation': 18.8} step=60000\n",
      "2023-03-14 18:38.05 [info     ] Model parameters are saved to d3rlpy_logs/SAC_online_20230314183420/model_61000.pt\n",
      "2023-03-14 18:38.05 [info     ] SAC_online_20230314183420: epoch=61 step=61000 epoch=61 metrics={'time_inference': 0.0003211209774017334, 'time_environment_step': 0.0003703947067260742, 'time_sample_batch': 0.00015362834930419923, 'time_algorithm_update': 0.0030100388526916504, 'temp_loss': 0.0007668707404081943, 'temp': 0.008363233149982989, 'critic_loss': 4.5055356168746945, 'actor_loss': -5.188893937587738, 'time_step': 0.0038878111839294434, 'rollout_return': 15.570422535211268, 'evaluation': 16.6} step=61000\n",
      "2023-03-14 18:38.09 [info     ] Model parameters are saved to d3rlpy_logs/SAC_online_20230314183420/model_62000.pt\n",
      "2023-03-14 18:38.09 [info     ] SAC_online_20230314183420: epoch=62 step=62000 epoch=62 metrics={'time_inference': 0.0002959609031677246, 'time_environment_step': 0.00032508206367492674, 'time_sample_batch': 0.00014071822166442872, 'time_algorithm_update': 0.002826197385787964, 'temp_loss': 0.00055115359606134, 'temp': 0.007843598335050047, 'critic_loss': 4.4993975398540496, 'actor_loss': -5.1475197772979735, 'time_step': 0.003615816593170166, 'rollout_return': 15.169014084507042, 'evaluation': 16.5} step=62000\n",
      "2023-03-14 18:38.13 [info     ] Model parameters are saved to d3rlpy_logs/SAC_online_20230314183420/model_63000.pt\n",
      "2023-03-14 18:38.13 [info     ] SAC_online_20230314183420: epoch=63 step=63000 epoch=63 metrics={'time_inference': 0.0003050398826599121, 'time_environment_step': 0.0003456315994262695, 'time_sample_batch': 0.00014909648895263672, 'time_algorithm_update': 0.002996955156326294, 'temp_loss': 0.0005648204667522804, 'temp': 0.00740239133965224, 'critic_loss': 4.396647319555282, 'actor_loss': -5.167629266262055, 'time_step': 0.0038270995616912842, 'rollout_return': 15.746478873239436, 'evaluation': 14.4} step=63000\n",
      "2023-03-14 18:38.17 [info     ] Model parameters are saved to d3rlpy_logs/SAC_online_20230314183420/model_64000.pt\n",
      "2023-03-14 18:38.17 [info     ] SAC_online_20230314183420: epoch=64 step=64000 epoch=64 metrics={'time_inference': 0.00031209492683410644, 'time_environment_step': 0.0003550429344177246, 'time_sample_batch': 0.0001527540683746338, 'time_algorithm_update': 0.0029576246738433837, 'temp_loss': 0.00043463317079294936, 'temp': 0.006989536520093679, 'critic_loss': 4.331716156244278, 'actor_loss': -5.116990870475769, 'time_step': 0.0038092923164367676, 'rollout_return': 15.746478873239436, 'evaluation': 16.7} step=64000\n",
      "2023-03-14 18:38.20 [info     ] Model parameters are saved to d3rlpy_logs/SAC_online_20230314183420/model_65000.pt\n",
      "2023-03-14 18:38.20 [info     ] SAC_online_20230314183420: epoch=65 step=65000 epoch=65 metrics={'time_inference': 0.00030313515663146973, 'time_environment_step': 0.0003395407199859619, 'time_sample_batch': 0.00014736390113830568, 'time_algorithm_update': 0.0028815908432006836, 'temp_loss': -1.4172498878906482e-05, 'temp': 0.006803647446446121, 'critic_loss': 4.310519878387451, 'actor_loss': -5.123580280303955, 'time_step': 0.0037011847496032715, 'rollout_return': 15.535211267605634, 'evaluation': 15.1} step=65000\n",
      "2023-03-14 18:38.24 [info     ] Model parameters are saved to d3rlpy_logs/SAC_online_20230314183420/model_66000.pt\n",
      "2023-03-14 18:38.24 [info     ] SAC_online_20230314183420: epoch=66 step=66000 epoch=66 metrics={'time_inference': 0.00029754209518432616, 'time_environment_step': 0.0003209047317504883, 'time_sample_batch': 0.00014121389389038086, 'time_algorithm_update': 0.002860996961593628, 'temp_loss': 0.00033692172770315664, 'temp': 0.006653935031965375, 'critic_loss': 4.215375665187835, 'actor_loss': -5.102260589122772, 'time_step': 0.0036483092308044435, 'rollout_return': 15.169014084507042, 'evaluation': 16.0} step=66000\n",
      "2023-03-14 18:38.28 [info     ] Model parameters are saved to d3rlpy_logs/SAC_online_20230314183420/model_67000.pt\n",
      "2023-03-14 18:38.28 [info     ] SAC_online_20230314183420: epoch=67 step=67000 epoch=67 metrics={'time_inference': 0.00029526758193969727, 'time_environment_step': 0.0003187000751495361, 'time_sample_batch': 0.0001380753517150879, 'time_algorithm_update': 0.0028039937019348144, 'temp_loss': 0.0002547865385095065, 'temp': 0.006416067708283663, 'critic_loss': 4.252535019397736, 'actor_loss': -5.095557709217071, 'time_step': 0.003583199977874756, 'rollout_return': 15.54225352112676, 'evaluation': 16.1} step=67000\n",
      "2023-03-14 18:38.31 [info     ] Model parameters are saved to d3rlpy_logs/SAC_online_20230314183420/model_68000.pt\n",
      "2023-03-14 18:38.31 [info     ] SAC_online_20230314183420: epoch=68 step=68000 epoch=68 metrics={'time_inference': 0.0002952408790588379, 'time_environment_step': 0.0003107550144195557, 'time_sample_batch': 0.00013587141036987304, 'time_algorithm_update': 0.0027673628330230713, 'temp_loss': -0.0005143191155366366, 'temp': 0.006419626933056861, 'critic_loss': 4.2518915312290195, 'actor_loss': -5.086783771038055, 'time_step': 0.0035359859466552734, 'rollout_return': 15.43661971830986, 'evaluation': 15.5} step=68000\n",
      "2023-03-14 18:38.35 [info     ] Model parameters are saved to d3rlpy_logs/SAC_online_20230314183420/model_69000.pt\n",
      "2023-03-14 18:38.35 [info     ] SAC_online_20230314183420: epoch=69 step=69000 epoch=69 metrics={'time_inference': 0.00028577375411987306, 'time_environment_step': 0.0002984738349914551, 'time_sample_batch': 0.00012979722023010254, 'time_algorithm_update': 0.0027242257595062255, 'temp_loss': 0.0005525299747168902, 'temp': 0.006507132741622627, 'critic_loss': 4.19454497385025, 'actor_loss': -5.0730079388618465, 'time_step': 0.0034633336067199706, 'rollout_return': 15.535211267605634, 'evaluation': 15.0} step=69000\n",
      "2023-03-14 18:38.38 [info     ] Model parameters are saved to d3rlpy_logs/SAC_online_20230314183420/model_70000.pt\n",
      "2023-03-14 18:38.38 [info     ] SAC_online_20230314183420: epoch=70 step=70000 epoch=70 metrics={'time_inference': 0.00029336833953857425, 'time_environment_step': 0.0003022701740264893, 'time_sample_batch': 0.0001302053928375244, 'time_algorithm_update': 0.0027425210475921632, 'temp_loss': 7.548269425024046e-05, 'temp': 0.006246475991327316, 'critic_loss': 4.168885327339172, 'actor_loss': -5.058936639785767, 'time_step': 0.0034939892292022703, 'rollout_return': 15.401408450704226, 'evaluation': 14.8} step=70000\n",
      "2023-03-14 18:38.42 [info     ] Model parameters are saved to d3rlpy_logs/SAC_online_20230314183420/model_71000.pt\n",
      "2023-03-14 18:38.42 [info     ] SAC_online_20230314183420: epoch=71 step=71000 epoch=71 metrics={'time_inference': 0.00029490947723388673, 'time_environment_step': 0.00031642723083496094, 'time_sample_batch': 0.0001375882625579834, 'time_algorithm_update': 0.0028177444934844973, 'temp_loss': 0.00010796339706575964, 'temp': 0.0061255310801789165, 'critic_loss': 4.235358775377273, 'actor_loss': -5.021744499444962, 'time_step': 0.0035937414169311525, 'rollout_return': 15.32394366197183, 'evaluation': 15.8} step=71000\n",
      "2023-03-14 18:38.46 [info     ] Model parameters are saved to d3rlpy_logs/SAC_online_20230314183420/model_72000.pt\n",
      "2023-03-14 18:38.46 [info     ] SAC_online_20230314183420: epoch=72 step=72000 epoch=72 metrics={'time_inference': 0.0003089265823364258, 'time_environment_step': 0.0003441965579986572, 'time_sample_batch': 0.00014426183700561523, 'time_algorithm_update': 0.0029126029014587404, 'temp_loss': 0.0001274676806315256, 'temp': 0.006089644195977599, 'critic_loss': 4.169608304977417, 'actor_loss': -5.007621973276138, 'time_step': 0.0037402036190032958, 'rollout_return': 15.73943661971831, 'evaluation': 16.5} step=72000\n",
      "2023-03-14 18:38.49 [info     ] Model parameters are saved to d3rlpy_logs/SAC_online_20230314183420/model_73000.pt\n",
      "2023-03-14 18:38.49 [info     ] SAC_online_20230314183420: epoch=73 step=73000 epoch=73 metrics={'time_inference': 0.00028383207321166994, 'time_environment_step': 0.00029739141464233396, 'time_sample_batch': 0.00012936711311340332, 'time_algorithm_update': 0.0027200725078582763, 'temp_loss': -2.7804986348201056e-05, 'temp': 0.00605009471764788, 'critic_loss': 4.232443839550018, 'actor_loss': -5.029892103433609, 'time_step': 0.0034559199810028076, 'rollout_return': 15.373239436619718, 'evaluation': 16.2} step=73000\n",
      "2023-03-14 18:38.53 [info     ] Model parameters are saved to d3rlpy_logs/SAC_online_20230314183420/model_74000.pt\n",
      "2023-03-14 18:38.53 [info     ] SAC_online_20230314183420: epoch=74 step=74000 epoch=74 metrics={'time_inference': 0.0002899680137634277, 'time_environment_step': 0.00029830622673034666, 'time_sample_batch': 0.00012883949279785158, 'time_algorithm_update': 0.002733374118804932, 'temp_loss': -0.00040952571915477164, 'temp': 0.006247555683366954, 'critic_loss': 4.244385366439819, 'actor_loss': -5.0672544932365415, 'time_step': 0.0034757814407348634, 'rollout_return': 15.725352112676056, 'evaluation': 16.9} step=74000\n",
      "2023-03-14 18:38.57 [info     ] Model parameters are saved to d3rlpy_logs/SAC_online_20230314183420/model_75000.pt\n",
      "2023-03-14 18:38.57 [info     ] SAC_online_20230314183420: epoch=75 step=75000 epoch=75 metrics={'time_inference': 0.0002873950004577637, 'time_environment_step': 0.00029817628860473634, 'time_sample_batch': 0.00012991905212402343, 'time_algorithm_update': 0.002720958948135376, 'temp_loss': -0.00019457931922443094, 'temp': 0.006471189832314849, 'critic_loss': 4.257445694446564, 'actor_loss': -5.048714714050293, 'time_step': 0.003461954593658447, 'rollout_return': 15.690140845070422, 'evaluation': 16.8} step=75000\n",
      "2023-03-14 18:39.00 [info     ] Model parameters are saved to d3rlpy_logs/SAC_online_20230314183420/model_76000.pt\n",
      "2023-03-14 18:39.00 [info     ] SAC_online_20230314183420: epoch=76 step=76000 epoch=76 metrics={'time_inference': 0.0002914726734161377, 'time_environment_step': 0.0002993245124816895, 'time_sample_batch': 0.00012889957427978516, 'time_algorithm_update': 0.0027219364643096926, 'temp_loss': -0.00028809521666516957, 'temp': 0.006629056021105498, 'critic_loss': 4.339981612205506, 'actor_loss': -5.076282865524292, 'time_step': 0.0034673986434936525, 'rollout_return': 15.732394366197184, 'evaluation': 15.2} step=76000\n",
      "2023-03-14 18:39.04 [info     ] Model parameters are saved to d3rlpy_logs/SAC_online_20230314183420/model_77000.pt\n",
      "2023-03-14 18:39.04 [info     ] SAC_online_20230314183420: epoch=77 step=77000 epoch=77 metrics={'time_inference': 0.0002907261848449707, 'time_environment_step': 0.00029803848266601564, 'time_sample_batch': 0.00012898683547973633, 'time_algorithm_update': 0.002714456558227539, 'temp_loss': -0.00011883415959891863, 'temp': 0.006822561506647617, 'critic_loss': 4.343829807758332, 'actor_loss': -5.105796578884124, 'time_step': 0.003457364559173584, 'rollout_return': 16.140845070422536, 'evaluation': 16.1} step=77000\n",
      "2023-03-14 18:39.07 [info     ] Model parameters are saved to d3rlpy_logs/SAC_online_20230314183420/model_78000.pt\n",
      "2023-03-14 18:39.07 [info     ] SAC_online_20230314183420: epoch=78 step=78000 epoch=78 metrics={'time_inference': 0.00028959965705871584, 'time_environment_step': 0.00030341243743896485, 'time_sample_batch': 0.0001302497386932373, 'time_algorithm_update': 0.0027403843402862547, 'temp_loss': -0.0003148773761568009, 'temp': 0.007009347151499242, 'critic_loss': 4.354974209070206, 'actor_loss': -5.139454616069794, 'time_step': 0.003488945484161377, 'rollout_return': 15.746478873239436, 'evaluation': 15.2} step=78000\n",
      "2023-03-14 18:39.11 [info     ] Model parameters are saved to d3rlpy_logs/SAC_online_20230314183420/model_79000.pt\n",
      "2023-03-14 18:39.11 [info     ] SAC_online_20230314183420: epoch=79 step=79000 epoch=79 metrics={'time_inference': 0.00029123234748840333, 'time_environment_step': 0.0002975332736968994, 'time_sample_batch': 0.00012907719612121582, 'time_algorithm_update': 0.002708388090133667, 'temp_loss': 0.0004913790287464508, 'temp': 0.006895749384537339, 'critic_loss': 4.283713437795639, 'actor_loss': -5.143986898422241, 'time_step': 0.003451294183731079, 'rollout_return': 15.084507042253522, 'evaluation': 14.4} step=79000\n",
      "2023-03-14 18:39.14 [info     ] Model parameters are saved to d3rlpy_logs/SAC_online_20230314183420/model_80000.pt\n",
      "2023-03-14 18:39.14 [info     ] SAC_online_20230314183420: epoch=80 step=80000 epoch=80 metrics={'time_inference': 0.0002855629920959473, 'time_environment_step': 0.00029744672775268557, 'time_sample_batch': 0.0001294689178466797, 'time_algorithm_update': 0.0027148332595825194, 'temp_loss': 0.0005118745894724271, 'temp': 0.006528888493776321, 'critic_loss': 4.317536921501159, 'actor_loss': -5.148655130863189, 'time_step': 0.003452437162399292, 'rollout_return': 15.690140845070422, 'evaluation': 18.0} step=80000\n",
      "2023-03-14 18:39.18 [info     ] Model parameters are saved to d3rlpy_logs/SAC_online_20230314183420/model_81000.pt\n",
      "2023-03-14 18:39.18 [info     ] SAC_online_20230314183420: epoch=81 step=81000 epoch=81 metrics={'time_inference': 0.0002842295169830322, 'time_environment_step': 0.00029841876029968264, 'time_sample_batch': 0.00012930965423583985, 'time_algorithm_update': 0.0027197043895721435, 'temp_loss': 0.0001438242856602301, 'temp': 0.006180285112466663, 'critic_loss': 4.355804651975632, 'actor_loss': -5.142014119625092, 'time_step': 0.0034568552970886232, 'rollout_return': 15.71830985915493, 'evaluation': 16.4} step=81000\n",
      "2023-03-14 18:39.21 [info     ] Model parameters are saved to d3rlpy_logs/SAC_online_20230314183420/model_82000.pt\n",
      "2023-03-14 18:39.21 [info     ] SAC_online_20230314183420: epoch=82 step=82000 epoch=82 metrics={'time_inference': 0.00028671574592590334, 'time_environment_step': 0.00029898023605346677, 'time_sample_batch': 0.00012941932678222655, 'time_algorithm_update': 0.0027272558212280275, 'temp_loss': -4.5962793439684903e-05, 'temp': 0.006122032321058213, 'critic_loss': 4.391676778554916, 'actor_loss': -5.13708256149292, 'time_step': 0.0034675025939941407, 'rollout_return': 15.288732394366198, 'evaluation': 14.9} step=82000\n",
      "2023-03-14 18:39.25 [info     ] Model parameters are saved to d3rlpy_logs/SAC_online_20230314183420/model_83000.pt\n",
      "2023-03-14 18:39.25 [info     ] SAC_online_20230314183420: epoch=83 step=83000 epoch=83 metrics={'time_inference': 0.00028611016273498533, 'time_environment_step': 0.0002987074851989746, 'time_sample_batch': 0.00012940025329589844, 'time_algorithm_update': 0.00273142147064209, 'temp_loss': -0.0003608399810436822, 'temp': 0.006355196246411651, 'critic_loss': 4.304779408693314, 'actor_loss': -5.112978801250458, 'time_step': 0.0034708802700042724, 'rollout_return': 15.767605633802816, 'evaluation': 16.5} step=83000\n",
      "2023-03-14 18:39.28 [info     ] Model parameters are saved to d3rlpy_logs/SAC_online_20230314183420/model_84000.pt\n",
      "2023-03-14 18:39.28 [info     ] SAC_online_20230314183420: epoch=84 step=84000 epoch=84 metrics={'time_inference': 0.00028144979476928713, 'time_environment_step': 0.00029637837409973147, 'time_sample_batch': 0.00012922453880310057, 'time_algorithm_update': 0.002715064287185669, 'temp_loss': -4.068034691590583e-05, 'temp': 0.00663333457056433, 'critic_loss': 4.375949997901916, 'actor_loss': -5.125838096141815, 'time_step': 0.003447145938873291, 'rollout_return': 15.795774647887324, 'evaluation': 14.9} step=84000\n",
      "2023-03-14 18:39.32 [info     ] Model parameters are saved to d3rlpy_logs/SAC_online_20230314183420/model_85000.pt\n",
      "2023-03-14 18:39.32 [info     ] SAC_online_20230314183420: epoch=85 step=85000 epoch=85 metrics={'time_inference': 0.0002848348617553711, 'time_environment_step': 0.00029712653160095216, 'time_sample_batch': 0.00012939667701721192, 'time_algorithm_update': 0.002717801570892334, 'temp_loss': -0.0002894478151210933, 'temp': 0.006778569476678967, 'critic_loss': 4.4216107256412505, 'actor_loss': -5.10211005282402, 'time_step': 0.0034541969299316405, 'rollout_return': 15.69718309859155, 'evaluation': 13.9} step=85000\n",
      "2023-03-14 18:39.35 [info     ] Model parameters are saved to d3rlpy_logs/SAC_online_20230314183420/model_86000.pt\n",
      "2023-03-14 18:39.35 [info     ] SAC_online_20230314183420: epoch=86 step=86000 epoch=86 metrics={'time_inference': 0.00028537845611572264, 'time_environment_step': 0.0002975516319274902, 'time_sample_batch': 0.00012922573089599608, 'time_algorithm_update': 0.002722114324569702, 'temp_loss': 0.00015076376949582483, 'temp': 0.00686289062583819, 'critic_loss': 4.344366078853607, 'actor_loss': -5.068658825397492, 'time_step': 0.0034594643115997315, 'rollout_return': 15.422535211267606, 'evaluation': 16.4} step=86000\n",
      "2023-03-14 18:39.39 [info     ] Model parameters are saved to d3rlpy_logs/SAC_online_20230314183420/model_87000.pt\n",
      "2023-03-14 18:39.39 [info     ] SAC_online_20230314183420: epoch=87 step=87000 epoch=87 metrics={'time_inference': 0.0002888658046722412, 'time_environment_step': 0.00029838109016418456, 'time_sample_batch': 0.00012939023971557617, 'time_algorithm_update': 0.00272907829284668, 'temp_loss': -0.00012395892609492877, 'temp': 0.006762851666659117, 'critic_loss': 4.205143359661102, 'actor_loss': -5.026609079360962, 'time_step': 0.0034710142612457274, 'rollout_return': 15.633802816901408, 'evaluation': 17.3} step=87000\n",
      "2023-03-14 18:39.42 [info     ] Model parameters are saved to d3rlpy_logs/SAC_online_20230314183420/model_88000.pt\n",
      "2023-03-14 18:39.42 [info     ] SAC_online_20230314183420: epoch=88 step=88000 epoch=88 metrics={'time_inference': 0.0002951450347900391, 'time_environment_step': 0.000299483060836792, 'time_sample_batch': 0.00012996482849121093, 'time_algorithm_update': 0.002747280836105347, 'temp_loss': 0.0003295275611890247, 'temp': 0.006634679041802883, 'critic_loss': 4.173735656619072, 'actor_loss': -4.981528048992157, 'time_step': 0.0034974212646484374, 'rollout_return': 14.992957746478874, 'evaluation': 14.7} step=88000\n",
      "2023-03-14 18:39.46 [info     ] Model parameters are saved to d3rlpy_logs/SAC_online_20230314183420/model_89000.pt\n",
      "2023-03-14 18:39.46 [info     ] SAC_online_20230314183420: epoch=89 step=89000 epoch=89 metrics={'time_inference': 0.0002923440933227539, 'time_environment_step': 0.00029764699935913087, 'time_sample_batch': 0.00012904834747314454, 'time_algorithm_update': 0.0027162344455718994, 'temp_loss': -6.83044913748745e-05, 'temp': 0.00654140949761495, 'critic_loss': 4.139260776281357, 'actor_loss': -4.939014296293259, 'time_step': 0.0034604322910308837, 'rollout_return': 15.30281690140845, 'evaluation': 16.6} step=89000\n",
      "2023-03-14 18:39.50 [info     ] Model parameters are saved to d3rlpy_logs/SAC_online_20230314183420/model_90000.pt\n",
      "2023-03-14 18:39.50 [info     ] SAC_online_20230314183420: epoch=90 step=90000 epoch=90 metrics={'time_inference': 0.0002895681858062744, 'time_environment_step': 0.00029712438583374024, 'time_sample_batch': 0.000130018949508667, 'time_algorithm_update': 0.0027183959484100343, 'temp_loss': 0.00033980833971509127, 'temp': 0.006351450293790549, 'critic_loss': 4.045155605554581, 'actor_loss': -4.892536250114441, 'time_step': 0.003460344552993774, 'rollout_return': 14.93661971830986, 'evaluation': 14.5} step=90000\n",
      "2023-03-14 18:39.53 [info     ] Model parameters are saved to d3rlpy_logs/SAC_online_20230314183420/model_91000.pt\n",
      "2023-03-14 18:39.53 [info     ] SAC_online_20230314183420: epoch=91 step=91000 epoch=91 metrics={'time_inference': 0.00028515625, 'time_environment_step': 0.00029554009437561036, 'time_sample_batch': 0.00012863922119140625, 'time_algorithm_update': 0.0027176725864410402, 'temp_loss': 0.00014565872877210495, 'temp': 0.006138912134338171, 'critic_loss': 4.033310549497604, 'actor_loss': -4.822283607244492, 'time_step': 0.0034523680210113527, 'rollout_return': 15.232394366197184, 'evaluation': 17.0} step=91000\n",
      "2023-03-14 18:39.57 [info     ] Model parameters are saved to d3rlpy_logs/SAC_online_20230314183420/model_92000.pt\n",
      "2023-03-14 18:39.57 [info     ] SAC_online_20230314183420: epoch=92 step=92000 epoch=92 metrics={'time_inference': 0.0002826497554779053, 'time_environment_step': 0.0002979128360748291, 'time_sample_batch': 0.000130126953125, 'time_algorithm_update': 0.0027204680442810057, 'temp_loss': 0.00042704090310508036, 'temp': 0.005758681522682309, 'critic_loss': 4.02319119644165, 'actor_loss': -4.832402674436569, 'time_step': 0.003456329107284546, 'rollout_return': 15.69718309859155, 'evaluation': 16.0} step=92000\n",
      "2023-03-14 18:40.00 [info     ] Model parameters are saved to d3rlpy_logs/SAC_online_20230314183420/model_93000.pt\n",
      "2023-03-14 18:40.00 [info     ] SAC_online_20230314183420: epoch=93 step=93000 epoch=93 metrics={'time_inference': 0.00028574490547180175, 'time_environment_step': 0.0002987041473388672, 'time_sample_batch': 0.00012928175926208495, 'time_algorithm_update': 0.0027280967235565187, 'temp_loss': 0.0001701125375511765, 'temp': 0.005405791463796049, 'critic_loss': 3.972065017938614, 'actor_loss': -4.865784825325012, 'time_step': 0.003466975927352905, 'rollout_return': 15.830985915492958, 'evaluation': 14.5} step=93000\n",
      "2023-03-14 18:40.04 [info     ] Model parameters are saved to d3rlpy_logs/SAC_online_20230314183420/model_94000.pt\n",
      "2023-03-14 18:40.04 [info     ] SAC_online_20230314183420: epoch=94 step=94000 epoch=94 metrics={'time_inference': 0.00029300737380981445, 'time_environment_step': 0.00029970264434814455, 'time_sample_batch': 0.00013049769401550292, 'time_algorithm_update': 0.0027396018505096435, 'temp_loss': -6.107983096808311e-05, 'temp': 0.005299530718941242, 'critic_loss': 3.9025257403850557, 'actor_loss': -4.874078274965286, 'time_step': 0.0034884212017059326, 'rollout_return': 15.915492957746478, 'evaluation': 14.9} step=94000\n",
      "2023-03-14 18:40.07 [info     ] Model parameters are saved to d3rlpy_logs/SAC_online_20230314183420/model_95000.pt\n",
      "2023-03-14 18:40.07 [info     ] SAC_online_20230314183420: epoch=95 step=95000 epoch=95 metrics={'time_inference': 0.00029003477096557615, 'time_environment_step': 0.00029850268363952636, 'time_sample_batch': 0.00012880277633666994, 'time_algorithm_update': 0.0027162423133850096, 'temp_loss': -0.00018004273854603525, 'temp': 0.005459127539303154, 'critic_loss': 3.8070647259950636, 'actor_loss': -4.911928105592728, 'time_step': 0.003458678960800171, 'rollout_return': 15.908450704225352, 'evaluation': 16.0} step=95000\n",
      "2023-03-14 18:40.11 [info     ] Model parameters are saved to d3rlpy_logs/SAC_online_20230314183420/model_96000.pt\n",
      "2023-03-14 18:40.11 [info     ] SAC_online_20230314183420: epoch=96 step=96000 epoch=96 metrics={'time_inference': 0.0002824146747589111, 'time_environment_step': 0.00029811167716979983, 'time_sample_batch': 0.0001293153762817383, 'time_algorithm_update': 0.0027703652381896975, 'temp_loss': -0.00015156924994516884, 'temp': 0.0056508469288237394, 'critic_loss': 3.8449009729623795, 'actor_loss': -4.9284026756286625, 'time_step': 0.003505387306213379, 'rollout_return': 15.795774647887324, 'evaluation': 14.8} step=96000\n",
      "2023-03-14 18:40.14 [info     ] Model parameters are saved to d3rlpy_logs/SAC_online_20230314183420/model_97000.pt\n",
      "2023-03-14 18:40.14 [info     ] SAC_online_20230314183420: epoch=97 step=97000 epoch=97 metrics={'time_inference': 0.00028712105751037596, 'time_environment_step': 0.0002993948459625244, 'time_sample_batch': 0.0001292111873626709, 'time_algorithm_update': 0.0027217473983764647, 'temp_loss': -3.570632499759086e-05, 'temp': 0.005746328833978623, 'critic_loss': 3.9973126363754274, 'actor_loss': -4.962079049348831, 'time_step': 0.0034625773429870607, 'rollout_return': 15.380281690140846, 'evaluation': 15.2} step=97000\n",
      "2023-03-14 18:40.18 [info     ] Model parameters are saved to d3rlpy_logs/SAC_online_20230314183420/model_98000.pt\n",
      "2023-03-14 18:40.18 [info     ] SAC_online_20230314183420: epoch=98 step=98000 epoch=98 metrics={'time_inference': 0.00028644371032714844, 'time_environment_step': 0.0003013098239898682, 'time_sample_batch': 0.0001304020881652832, 'time_algorithm_update': 0.00273677134513855, 'temp_loss': 2.897516667144373e-05, 'temp': 0.005778581945691258, 'critic_loss': 4.064897344350815, 'actor_loss': -5.0272676787376405, 'time_step': 0.0034803843498229983, 'rollout_return': 16.14788732394366, 'evaluation': 15.8} step=98000\n",
      "2023-03-14 18:40.21 [info     ] Model parameters are saved to d3rlpy_logs/SAC_online_20230314183420/model_99000.pt\n",
      "2023-03-14 18:40.21 [info     ] SAC_online_20230314183420: epoch=99 step=99000 epoch=99 metrics={'time_inference': 0.0002860136032104492, 'time_environment_step': 0.0003017382621765137, 'time_sample_batch': 0.00012998795509338378, 'time_algorithm_update': 0.0027404625415802003, 'temp_loss': 0.0011263100048363413, 'temp': 0.0052593307690694925, 'critic_loss': 4.164450972795486, 'actor_loss': -5.055947937011719, 'time_step': 0.003483546733856201, 'rollout_return': 15.535211267605634, 'evaluation': 14.9} step=99000\n",
      "2023-03-14 18:40.25 [info     ] Model parameters are saved to d3rlpy_logs/SAC_online_20230314183420/model_100000.pt\n",
      "2023-03-14 18:40.25 [info     ] SAC_online_20230314183420: epoch=100 step=100000 epoch=100 metrics={'time_inference': 0.00029256463050842286, 'time_environment_step': 0.00029982995986938476, 'time_sample_batch': 0.00013013625144958497, 'time_algorithm_update': 0.002715487480163574, 'temp_loss': 0.0007150657107358711, 'temp': 0.004278071069624275, 'critic_loss': 4.176721029996872, 'actor_loss': -5.054642575263977, 'time_step': 0.0034637455940246583, 'rollout_return': 15.76056338028169, 'evaluation': 15.8} step=100000\n"
     ]
    }
   ],
   "source": [
    "# start training\n",
    "# skip if there is a pre-trained model\n",
    "sac.fit_online(\n",
    "    env_,\n",
    "    buffer,\n",
    "    eval_env=env_,\n",
    "    n_steps=100000,\n",
    "    n_steps_per_epoch=1000,\n",
    "    update_start_step=1000,\n",
    ")"
   ]
  },
  {
   "cell_type": "code",
   "execution_count": 13,
   "metadata": {},
   "outputs": [],
   "source": [
    "# save model\n",
    "sac.save_model(\"d3rlpy_logs/sac.pt\")"
   ]
  },
  {
   "cell_type": "code",
   "execution_count": 14,
   "metadata": {},
   "outputs": [
    {
     "name": "stdout",
     "output_type": "stream",
     "text": [
      "2023-03-14 18:40.25 [warning  ] Parameters will be reinitialized.\n"
     ]
    }
   ],
   "source": [
    "# reload model\n",
    "sac.build_with_env(env_)\n",
    "sac.load_model(\"d3rlpy_logs/sac.pt\")"
   ]
  },
  {
   "cell_type": "code",
   "execution_count": 15,
   "metadata": {},
   "outputs": [],
   "source": [
    "behavior_policy = TruncatedGaussianHead(\n",
    "    sac, \n",
    "    minimum=env.action_space.low,\n",
    "    maximum=env.action_space.high,\n",
    "    sigma=np.array([1.0]),\n",
    "    name=\"sac_sigma_1.0\",\n",
    "    random_state=random_state,\n",
    ")"
   ]
  },
  {
   "cell_type": "code",
   "execution_count": 16,
   "metadata": {},
   "outputs": [],
   "source": [
    "# initialize dataset class\n",
    "dataset = SyntheticDataset(\n",
    "    env=env,\n",
    "    state_keys=env.obs_keys,\n",
    "    max_episode_steps=env.step_per_episode,\n",
    "    info_keys={\n",
    "        \"search_volume\": int,\n",
    "        \"impression\": int,\n",
    "        \"click\": int,\n",
    "        \"conversion\": int,\n",
    "        \"average_bid_price\": float,\n",
    "    },\n",
    ")"
   ]
  },
  {
   "cell_type": "code",
   "execution_count": 17,
   "metadata": {},
   "outputs": [
    {
     "data": {
      "application/vnd.jupyter.widget-view+json": {
       "model_id": "48e522f889974e46a1043d998d828571",
       "version_major": 2,
       "version_minor": 0
      },
      "text/plain": [
       "[obtain_trajectories]:   0%|          | 0/10000 [00:00<?, ?it/s]"
      ]
     },
     "metadata": {},
     "output_type": "display_data"
    },
    {
     "data": {
      "application/vnd.jupyter.widget-view+json": {
       "model_id": "c803d7eb3d8b453086cbe5a4a4a66995",
       "version_major": 2,
       "version_minor": 0
      },
      "text/plain": [
       "[obtain_trajectories]:   0%|          | 0/10000 [00:00<?, ?it/s]"
      ]
     },
     "metadata": {},
     "output_type": "display_data"
    }
   ],
   "source": [
    "# collect logged data by a behavior policy\n",
    "# skip if there is a preserved logged dataset\n",
    "train_logged_dataset = dataset.obtain_episodes(\n",
    "    behavior_policies=behavior_policy,\n",
    "    n_trajectories=10000, \n",
    "    obtain_info=True,\n",
    "    random_state=random_state,\n",
    ")\n",
    "test_logged_dataset = dataset.obtain_episodes(\n",
    "    behavior_policies=behavior_policy,\n",
    "    n_trajectories=10000, \n",
    "    obtain_info=True,\n",
    "    random_state=random_state + 1,\n",
    ")"
   ]
  },
  {
   "cell_type": "code",
   "execution_count": 18,
   "metadata": {},
   "outputs": [],
   "source": [
    "with open(\"logs/train_dataset_continuous_sac.pkl\", \"wb\") as f:\n",
    "    pickle.dump(train_logged_dataset, f)\n",
    "with open(\"logs/test_dataset_continuous_sac.pkl\", \"wb\") as f:\n",
    "    pickle.dump(test_logged_dataset, f)"
   ]
  },
  {
   "cell_type": "code",
   "execution_count": 19,
   "metadata": {},
   "outputs": [],
   "source": [
    "with open(\"logs/train_dataset_continuous_sac.pkl\", \"rb\") as f:\n",
    "    train_logged_dataset = pickle.load(f)\n",
    "with open(\"logs/test_dataset_continuous_sac.pkl\", \"rb\") as f:\n",
    "    test_logged_dataset = pickle.load(f)"
   ]
  },
  {
   "cell_type": "markdown",
   "metadata": {},
   "source": [
    "#### Offline Policy Learning\n",
    "Here, we learn several \"candidate\" policies to be evaluated and selected using [d3rlpy](https://github.com/takuseno/d3rlpy)'s algorithm implementation.\n",
    "\n",
    "For more about the offline RL procedure, please refer to [examples/quickstart/rtb_synthetic_discrete_basic.ipynb](https://github.com/negocia-inc/rtb_reinforcement_learing/blob/ope/examples/quickstart/rtb_synthetic_discrete_basic.ipynb)."
   ]
  },
  {
   "cell_type": "code",
   "execution_count": 23,
   "metadata": {},
   "outputs": [],
   "source": [
    "# import modules from d3rlpy\n",
    "from d3rlpy.dataset import MDPDataset\n",
    "from d3rlpy.algos import CQL\n",
    "# transform offline dataset for d3rlpy\n",
    "offlinerl_dataset = MDPDataset(\n",
    "    observations=train_logged_dataset[\"state\"],\n",
    "    actions=train_logged_dataset[\"action\"],\n",
    "    rewards=train_logged_dataset[\"reward\"],\n",
    "    terminals=train_logged_dataset[\"done\"],\n",
    "    episode_terminals=train_logged_dataset[\"done\"],\n",
    "    discrete_action=False,\n",
    ")\n",
    "train_episodes, test_episodes = train_test_split(offlinerl_dataset, test_size=0.2, random_state=random_state)"
   ]
  },
  {
   "cell_type": "code",
   "execution_count": 24,
   "metadata": {},
   "outputs": [],
   "source": [
    "# Use Conservative Q-Learning policy\n",
    "cql = CQL(\n",
    "    actor_encoder_factory=VectorEncoderFactory(hidden_units=[30, 30]),\n",
    "    critic_encoder_factory=VectorEncoderFactory(hidden_units=[30, 30]),\n",
    "    q_func_factory=MeanQFunctionFactory(),\n",
    "    use_gpu=torch.cuda.is_available(),\n",
    "    action_scaler=MinMaxActionScaler(\n",
    "        minimum=env_.action_space.low,  # minimum value that policy can take\n",
    "        maximum=env_.action_space.high,  # maximum value that policy can take\n",
    "    )\n",
    ")"
   ]
  },
  {
   "cell_type": "code",
   "execution_count": 25,
   "metadata": {},
   "outputs": [
    {
     "name": "stdout",
     "output_type": "stream",
     "text": [
      "2023-03-14 21:13.59 [debug    ] RandomIterator is selected.\n",
      "2023-03-14 21:13.59 [info     ] Directory is created at d3rlpy_logs/CQL_20230314211359\n",
      "2023-03-14 21:13.59 [debug    ] Fitting action scaler...       action_scaler=min_max\n",
      "2023-03-14 21:13.59 [debug    ] Building models...\n",
      "2023-03-14 21:13.59 [debug    ] Models have been built.\n",
      "2023-03-14 21:13.59 [info     ] Parameters are saved to d3rlpy_logs/CQL_20230314211359/params.json params={'action_scaler': {'type': 'min_max', 'params': {'minimum': array([0.1]), 'maximum': array([10.])}}, 'actor_encoder_factory': {'type': 'vector', 'params': {'hidden_units': [30, 30], 'activation': 'relu', 'use_batch_norm': False, 'dropout_rate': None, 'use_dense': False}}, 'actor_learning_rate': 0.0001, 'actor_optim_factory': {'optim_cls': 'Adam', 'betas': (0.9, 0.999), 'eps': 1e-08, 'weight_decay': 0, 'amsgrad': False}, 'alpha_learning_rate': 0.0001, 'alpha_optim_factory': {'optim_cls': 'Adam', 'betas': (0.9, 0.999), 'eps': 1e-08, 'weight_decay': 0, 'amsgrad': False}, 'alpha_threshold': 10.0, 'batch_size': 256, 'conservative_weight': 5.0, 'critic_encoder_factory': {'type': 'vector', 'params': {'hidden_units': [30, 30], 'activation': 'relu', 'use_batch_norm': False, 'dropout_rate': None, 'use_dense': False}}, 'critic_learning_rate': 0.0003, 'critic_optim_factory': {'optim_cls': 'Adam', 'betas': (0.9, 0.999), 'eps': 1e-08, 'weight_decay': 0, 'amsgrad': False}, 'gamma': 0.99, 'generated_maxlen': 100000, 'initial_alpha': 1.0, 'initial_temperature': 1.0, 'n_action_samples': 10, 'n_critics': 2, 'n_frames': 1, 'n_steps': 1, 'q_func_factory': {'type': 'mean', 'params': {'share_encoder': False}}, 'real_ratio': 1.0, 'reward_scaler': None, 'scaler': None, 'soft_q_backup': False, 'tau': 0.005, 'temp_learning_rate': 0.0001, 'temp_optim_factory': {'optim_cls': 'Adam', 'betas': (0.9, 0.999), 'eps': 1e-08, 'weight_decay': 0, 'amsgrad': False}, 'use_gpu': None, 'algorithm': 'CQL', 'observation_shape': (7,), 'action_size': 1}\n"
     ]
    },
    {
     "data": {
      "application/vnd.jupyter.widget-view+json": {
       "model_id": "16d82fee2e01400b9abc8681354937e4",
       "version_major": 2,
       "version_minor": 0
      },
      "text/plain": [
       "Epoch 1/1:   0%|          | 0/10000 [00:00<?, ?it/s]"
      ]
     },
     "metadata": {},
     "output_type": "display_data"
    },
    {
     "name": "stdout",
     "output_type": "stream",
     "text": [
      "2023-03-14 21:17.37 [info     ] CQL_20230314211359: epoch=1 step=10000 epoch=1 metrics={'time_sample_batch': 0.0006816123247146606, 'time_algorithm_update': 0.020368389320373534, 'temp_loss': -3.319538990609348, 'temp': 1.0029411115765572, 'alpha_loss': -13.843547388839722, 'alpha': 1.7791040431261063, 'critic_loss': 98.21405735206604, 'actor_loss': 2.9422030491305513, 'time_step': 0.021574844098091125} step=10000\n",
      "2023-03-14 21:17.37 [info     ] Model parameters are saved to d3rlpy_logs/CQL_20230314211359/model_10000.pt\n"
     ]
    },
    {
     "data": {
      "text/plain": [
       "[(1,\n",
       "  {'time_sample_batch': 0.0006816123247146606,\n",
       "   'time_algorithm_update': 0.020368389320373534,\n",
       "   'temp_loss': -3.319538990609348,\n",
       "   'temp': 1.0029411115765572,\n",
       "   'alpha_loss': -13.843547388839722,\n",
       "   'alpha': 1.7791040431261063,\n",
       "   'critic_loss': 98.21405735206604,\n",
       "   'actor_loss': 2.9422030491305513,\n",
       "   'time_step': 0.021574844098091125})]"
      ]
     },
     "execution_count": 25,
     "metadata": {},
     "output_type": "execute_result"
    }
   ],
   "source": [
    "cql.fit(\n",
    "    train_episodes,\n",
    "    eval_episodes=test_episodes,\n",
    "    n_steps=10000,\n",
    "    scorers={},\n",
    ")"
   ]
  },
  {
   "cell_type": "code",
   "execution_count": null,
   "metadata": {},
   "outputs": [],
   "source": [
    "# save model\n",
    "cql.save_model(\"d3rlpy_logs/cql_continuous.pt\")"
   ]
  },
  {
   "cell_type": "code",
   "execution_count": null,
   "metadata": {},
   "outputs": [],
   "source": [
    "# reload model\n",
    "cql.build_with_env(env)\n",
    "cql.load_model(\"d3rlpy_logs/cql_continuous.pt\")"
   ]
  },
  {
   "cell_type": "markdown",
   "metadata": {},
   "source": [
    "## 2. Off-Policy Evaluation\n",
    "In this section, we aim at evaluating the various performance statistics of policies in an offline manner using (basic) model-based and importance sampling-based estimators.\n",
    "\n",
    "#### Estimation Target\n",
    "\n",
    "The goal to estimate the estimators' average policy performance, the *policy value*.\n",
    "\n",
    "$$ V(\\pi) := \\mathbb{E}\\left[\\sum_{t=1}^T \\gamma^{t-1} r_t \\mid \\pi \\right] $$"
   ]
  },
  {
   "cell_type": "code",
   "execution_count": null,
   "metadata": {},
   "outputs": [],
   "source": [
    "# import ope modules from OFRL\n",
    "from ofrl.ope import CreateOPEInput\n",
    "from ofrl.ope import OffPolicyEvaluation as OPE\n",
    "# basic estimators\n",
    "from ofrl.ope import ContinuousDirectMethod as DM\n",
    "from ofrl.ope import ContinuousTrajectoryWiseImportanceSampling as TIS\n",
    "from ofrl.ope import ContinuousPerDecisionImportanceSampling as PDIS\n",
    "from ofrl.ope import ContinuousDoublyRobust as DR\n",
    "# self normalized estimators\n",
    "from ofrl.ope import ContinuousSelfNormalizedTrajectoryWiseImportanceSampling as SNTIS\n",
    "from ofrl.ope import ContinuousSelfNormalizedPerDecisionImportanceSampling as SNPDIS\n",
    "from ofrl.ope import ContinuousSelfNormalizedDoublyRobust as SNDR\n",
    "# marginal estimators\n",
    "from ofrl.ope import ContinuousStateActionMarginalImportanceSampling as SAMIS\n",
    "from ofrl.ope import ContinuousStateActionMarginalDoublyRobust as SAMDR\n",
    "from ofrl.ope import ContinuousStateMarginalImportanceSampling as SMIS\n",
    "from ofrl.ope import ContinuousStateMarginalDoublyRobust as SMDR\n",
    "from ofrl.ope import ContinuousStateActionMarginalSelfNormalizedImportanceSampling as SAMSNIS\n",
    "from ofrl.ope import ContinuousStateActionMarginalSelfNormalizedDoublyRobust as SAMSNDR\n",
    "from ofrl.ope import ContinuousStateMarginalSelfNormalizedImportanceSampling as SMSNIS\n",
    "from ofrl.ope import ContinuousStateMarginalSelfNormalizedDoublyRobust as SMSNDR\n",
    "# double reinforcement learning estimators\n",
    "from ofrl.ope import ContinuousDoubleReinforcementLearning as DRL"
   ]
  },
  {
   "cell_type": "code",
   "execution_count": null,
   "metadata": {},
   "outputs": [],
   "source": [
    "# define evaluation policies (should be deterministic policy)\n",
    "cql_ = ContinuousEvalHead(\n",
    "    base_policy=cql,\n",
    "    name=\"cql\",\n",
    ")\n",
    "sac_ = ContinuousEvalHead(\n",
    "    base_policy=sac, \n",
    "    name=\"sac\", \n",
    ")\n",
    "evaluation_policies = [cql_, sac_]"
   ]
  },
  {
   "cell_type": "code",
   "execution_count": null,
   "metadata": {},
   "outputs": [],
   "source": [
    "# first, prepare OPE inputs\n",
    "prep = CreateOPEInput(\n",
    "    env=env,\n",
    "    model_args={\n",
    "        \"fqe\": {\n",
    "            \"encoder_factory\": VectorEncoderFactory(hidden_units=[30, 30]),\n",
    "            \"q_func_factory\": MeanQFunctionFactory(),\n",
    "            \"learning_rate\": 1e-4,\n",
    "            \"use_gpu\": torch.cuda.is_available(),\n",
    "        },\n",
    "    },\n",
    "    state_scaler=MinMaxScaler(\n",
    "        minimum=test_logged_dataset[\"state\"].min(axis=0),\n",
    "        maximum=test_logged_dataset[\"state\"].max(axis=0),\n",
    "    ),\n",
    "    action_scaler=MinMaxActionScaler(\n",
    "        minimum=env.action_space.low,  # minimum value that policy can take\n",
    "        maximum=env.action_space.high,  # maximum value that policy can take\n",
    "    ),\n",
    "    gamma=0.95,\n",
    "    sigma=0.1,\n",
    "    device=\"cuda:0\" if torch.cuda.is_available() else \"cpu\",\n",
    ")"
   ]
  },
  {
   "cell_type": "code",
   "execution_count": null,
   "metadata": {},
   "outputs": [
    {
     "data": {
      "application/vnd.jupyter.widget-view+json": {
       "model_id": "cfa21639083f4bb294b0a01a3dfa35ad",
       "version_major": 2,
       "version_minor": 0
      },
      "text/plain": [
       "[fit FQE model]:   0%|          | 0/2 [00:00<?, ?it/s]"
      ]
     },
     "metadata": {},
     "output_type": "display_data"
    },
    {
     "name": "stdout",
     "output_type": "stream",
     "text": [
      "2023-01-28 05:27.36 [debug    ] RoundIterator is selected.\n",
      "2023-01-28 05:27.36 [info     ] Directory is created at d3rlpy_logs/FQE_20230128052736\n",
      "2023-01-28 05:27.36 [debug    ] Fitting scaler...              scaler=min_max\n",
      "2023-01-28 05:27.36 [debug    ] Fitting action scaler...       action_scaler=min_max\n",
      "2023-01-28 05:27.36 [debug    ] Building models...\n",
      "2023-01-28 05:27.36 [debug    ] Models have been built.\n",
      "2023-01-28 05:27.36 [info     ] Parameters are saved to d3rlpy_logs/FQE_20230128052736/params.json params={'action_scaler': {'type': 'min_max', 'params': {'minimum': array([0.1]), 'maximum': array([10.])}}, 'batch_size': 100, 'encoder_factory': {'type': 'vector', 'params': {'hidden_units': [30, 30], 'activation': 'relu', 'use_batch_norm': False, 'dropout_rate': None, 'use_dense': False}}, 'gamma': 0.95, 'generated_maxlen': 100000, 'learning_rate': 0.0001, 'n_critics': 1, 'n_frames': 1, 'n_steps': 1, 'optim_factory': {'optim_cls': 'Adam', 'betas': (0.9, 0.999), 'eps': 1e-08, 'weight_decay': 0, 'amsgrad': False}, 'q_func_factory': {'type': 'mean', 'params': {'share_encoder': False}}, 'real_ratio': 1.0, 'reward_scaler': None, 'scaler': {'type': 'min_max', 'params': {'maximum': array([6.00000000e+00, 3.00000000e+03, 9.99942871e-01, 6.60000000e+04,\n",
      "       1.00000000e+00, 2.20000000e+01, 9.99987721e+00]), 'minimum': array([0.00000000e+00, 1.00000000e+00, 0.00000000e+00, 0.00000000e+00,\n",
      "       0.00000000e+00, 0.00000000e+00, 4.82523785e-05])}}, 'target_update_interval': 100, 'use_gpu': None, 'algorithm': 'FQE', 'observation_shape': (7,), 'action_size': 1}\n"
     ]
    },
    {
     "data": {
      "application/vnd.jupyter.widget-view+json": {
       "model_id": "67151aff137d4309bfa905859287a681",
       "version_major": 2,
       "version_minor": 0
      },
      "text/plain": [
       "Epoch 1/1:   0%|          | 0/700 [00:00<?, ?it/s]"
      ]
     },
     "metadata": {},
     "output_type": "display_data"
    },
    {
     "name": "stdout",
     "output_type": "stream",
     "text": [
      "2023-01-28 05:27.37 [info     ] FQE_20230128052736: epoch=1 step=700 epoch=1 metrics={'time_sample_batch': 0.00016186577933175223, 'time_algorithm_update': 0.0019267330850873674, 'loss': 17.012166036878313, 'time_step': 0.0021574091911315918} step=700\n",
      "2023-01-28 05:27.37 [info     ] Model parameters are saved to d3rlpy_logs/FQE_20230128052736/model_700.pt\n",
      "2023-01-28 05:27.37 [debug    ] RoundIterator is selected.\n",
      "2023-01-28 05:27.37 [info     ] Directory is created at d3rlpy_logs/FQE_20230128052737\n",
      "2023-01-28 05:27.37 [debug    ] Fitting scaler...              scaler=min_max\n",
      "2023-01-28 05:27.37 [debug    ] Fitting action scaler...       action_scaler=min_max\n",
      "2023-01-28 05:27.37 [debug    ] Building models...\n",
      "2023-01-28 05:27.37 [debug    ] Models have been built.\n",
      "2023-01-28 05:27.37 [info     ] Parameters are saved to d3rlpy_logs/FQE_20230128052737/params.json params={'action_scaler': {'type': 'min_max', 'params': {'minimum': array([0.1]), 'maximum': array([10.])}}, 'batch_size': 100, 'encoder_factory': {'type': 'vector', 'params': {'hidden_units': [30, 30], 'activation': 'relu', 'use_batch_norm': False, 'dropout_rate': None, 'use_dense': False}}, 'gamma': 0.95, 'generated_maxlen': 100000, 'learning_rate': 0.0001, 'n_critics': 1, 'n_frames': 1, 'n_steps': 1, 'optim_factory': {'optim_cls': 'Adam', 'betas': (0.9, 0.999), 'eps': 1e-08, 'weight_decay': 0, 'amsgrad': False}, 'q_func_factory': {'type': 'mean', 'params': {'share_encoder': False}}, 'real_ratio': 1.0, 'reward_scaler': None, 'scaler': {'type': 'min_max', 'params': {'maximum': array([6.00000000e+00, 3.00000000e+03, 9.99942871e-01, 6.60000000e+04,\n",
      "       1.00000000e+00, 2.20000000e+01, 9.99987721e+00]), 'minimum': array([0.00000000e+00, 1.00000000e+00, 0.00000000e+00, 0.00000000e+00,\n",
      "       0.00000000e+00, 0.00000000e+00, 4.82523785e-05])}}, 'target_update_interval': 100, 'use_gpu': None, 'algorithm': 'FQE', 'observation_shape': (7,), 'action_size': 1}\n"
     ]
    },
    {
     "data": {
      "application/vnd.jupyter.widget-view+json": {
       "model_id": "37d5ea82a6964176aed0019dd77414a7",
       "version_major": 2,
       "version_minor": 0
      },
      "text/plain": [
       "Epoch 1/1:   0%|          | 0/700 [00:00<?, ?it/s]"
      ]
     },
     "metadata": {},
     "output_type": "display_data"
    },
    {
     "name": "stdout",
     "output_type": "stream",
     "text": [
      "2023-01-28 05:27.39 [info     ] FQE_20230128052737: epoch=1 step=700 epoch=1 metrics={'time_sample_batch': 0.0001684267180306571, 'time_algorithm_update': 0.0021365676607404435, 'loss': 14.620138882909503, 'time_step': 0.0023675475801740375} step=700\n",
      "2023-01-28 05:27.39 [info     ] Model parameters are saved to d3rlpy_logs/FQE_20230128052737/model_700.pt\n"
     ]
    },
    {
     "data": {
      "application/vnd.jupyter.widget-view+json": {
       "model_id": "2951203b49ef433a895b17da70c4910f",
       "version_major": 2,
       "version_minor": 0
      },
      "text/plain": [
       "[fit MWL model]:   0%|          | 0/2 [00:00<?, ?it/s]"
      ]
     },
     "metadata": {},
     "output_type": "display_data"
    },
    {
     "data": {
      "application/vnd.jupyter.widget-view+json": {
       "model_id": "452cf70b3ae1407c87b553daab11befb",
       "version_major": 2,
       "version_minor": 0
      },
      "text/plain": [
       "[fitting_weight_function]:   0%|          | 0/100 [00:00<?, ?it/s]"
      ]
     },
     "metadata": {},
     "output_type": "display_data"
    },
    {
     "data": {
      "application/vnd.jupyter.widget-view+json": {
       "model_id": "5cfeb3f171654ae5b8022d72cf303f4b",
       "version_major": 2,
       "version_minor": 0
      },
      "text/plain": [
       "[fitting_weight_function]:   0%|          | 0/100 [00:00<?, ?it/s]"
      ]
     },
     "metadata": {},
     "output_type": "display_data"
    },
    {
     "data": {
      "application/vnd.jupyter.widget-view+json": {
       "model_id": "77982eca8862465084dcb1f6c18fd1b9",
       "version_major": 2,
       "version_minor": 0
      },
      "text/plain": [
       "[fitting_weight_function]:   0%|          | 0/100 [00:00<?, ?it/s]"
      ]
     },
     "metadata": {},
     "output_type": "display_data"
    },
    {
     "data": {
      "application/vnd.jupyter.widget-view+json": {
       "model_id": "cf50f1bdd1de403b815a30c870e7029e",
       "version_major": 2,
       "version_minor": 0
      },
      "text/plain": [
       "[fitting_weight_function]:   0%|          | 0/100 [00:00<?, ?it/s]"
      ]
     },
     "metadata": {},
     "output_type": "display_data"
    },
    {
     "data": {
      "application/vnd.jupyter.widget-view+json": {
       "model_id": "9adfa66819e445af83e965325d8a23b6",
       "version_major": 2,
       "version_minor": 0
      },
      "text/plain": [
       "[collect input data: eval_policy]:   0%|          | 0/2 [00:00<?, ?it/s]"
      ]
     },
     "metadata": {},
     "output_type": "display_data"
    },
    {
     "data": {
      "application/vnd.jupyter.widget-view+json": {
       "model_id": "9f354054d129423ebe2d2c3307ddc750",
       "version_major": 2,
       "version_minor": 0
      },
      "text/plain": [
       "[calculate on-policy policy value]:   0%|          | 0/100 [00:00<?, ?it/s]"
      ]
     },
     "metadata": {},
     "output_type": "display_data"
    },
    {
     "data": {
      "application/vnd.jupyter.widget-view+json": {
       "model_id": "bd453176a1a34c42b3f1cf5b9c997a1c",
       "version_major": 2,
       "version_minor": 0
      },
      "text/plain": [
       "[calculate on-policy policy value]:   0%|          | 0/100 [00:00<?, ?it/s]"
      ]
     },
     "metadata": {},
     "output_type": "display_data"
    }
   ],
   "source": [
    "# takes time\n",
    "input_dict = prep.obtain_whole_inputs(\n",
    "    logged_dataset=test_logged_dataset,\n",
    "    evaluation_policies=evaluation_policies,\n",
    "    require_value_prediction=True,\n",
    "    require_weight_prediction=True,\n",
    "    n_trajectories_on_policy_evaluation=100,\n",
    "    random_state=random_state,\n",
    ")"
   ]
  },
  {
   "cell_type": "code",
   "execution_count": null,
   "metadata": {},
   "outputs": [],
   "source": [
    "with open(\"logs/ope_input_dict_continuous_zoo.pkl\", \"wb\") as f:\n",
    "    pickle.dump(input_dict, f)"
   ]
  },
  {
   "cell_type": "code",
   "execution_count": null,
   "metadata": {},
   "outputs": [],
   "source": [
    "with open(\"logs/ope_input_dict_continuous_zoo.pkl\", \"rb\") as f:\n",
    "    input_dict = pickle.load(f)"
   ]
  },
  {
   "cell_type": "code",
   "execution_count": null,
   "metadata": {},
   "outputs": [],
   "source": [
    "basic_estimators = [DM(), TIS(), PDIS(), DR(), SNTIS(), SNPDIS(), SNDR()]\n",
    "state_marginal_estimators = [SMIS(), SMDR(), SMSNIS(), SMSNDR()]\n",
    "state_action_marginal_estimators = [SAMIS(), SAMDR(), SAMSNIS(), SAMSNDR()]\n",
    "drl_estimators = [DRL()]\n",
    "all_estimators = basic_estimators + state_marginal_estimators + state_action_marginal_estimators + drl_estimators"
   ]
  },
  {
   "cell_type": "code",
   "execution_count": null,
   "metadata": {},
   "outputs": [],
   "source": [
    "basic_estimators_name = [\"dm\", \"tis\", \"pdis\", \"dr\", \"sntis\", \"snpdis\", \"sndr\"]\n",
    "state_marginal_estimators_name = [\"sm_is\", \"sm_dr\", \"sm_snis\", \"sm_sndr\"]\n",
    "state_action_marginal_estimators_name = [\"sam_is\", \"sam_dr\", \"sam_snis\", \"sam_sndr\"]\n",
    "drl_estimators_name = [\"drl\"]"
   ]
  },
  {
   "cell_type": "code",
   "execution_count": null,
   "metadata": {},
   "outputs": [],
   "source": [
    "ope = OPE(\n",
    "    logged_dataset=test_logged_dataset,\n",
    "    ope_estimators=all_estimators,\n",
    "    action_scaler=MinMaxActionScaler(\n",
    "        minimum=env.action_space.low,  # minimum value that policy can take\n",
    "        maximum=env.action_space.high,  # maximum value that policy can take\n",
    "    ),\n",
    "    sigma=0.1,\n",
    ")"
   ]
  },
  {
   "cell_type": "code",
   "execution_count": null,
   "metadata": {},
   "outputs": [
    {
     "data": {
      "text/plain": [
       "{'cql':            policy_value  relative_policy_value\n",
       " on_policy  1.325953e+01           1.000000e+00\n",
       " dm         3.124717e+00           2.356582e-01\n",
       " tis        8.444623e-13           6.368722e-14\n",
       " pdis       9.176629e+00           6.920782e-01\n",
       " dr         1.180140e+01           8.900321e-01\n",
       " sntis      8.438487e-03           6.364094e-04\n",
       " snpdis     1.795548e+01           1.354157e+00\n",
       " sndr       2.023309e+01           1.525929e+00\n",
       " sm_is      0.000000e+00           0.000000e+00\n",
       " sm_dr      3.124717e+00           2.356582e-01\n",
       " sm_snis    0.000000e+00           0.000000e+00\n",
       " sm_sndr    3.124717e+00           2.356582e-01\n",
       " sam_is     1.391036e-03           1.049084e-04\n",
       " sam_dr     3.126076e+00           2.357608e-01\n",
       " sam_snis   7.931812e+00           5.981972e-01\n",
       " sam_sndr   1.087879e+01           8.204511e-01\n",
       " drl        3.127077e+00           2.358363e-01,\n",
       " 'sac':            policy_value  relative_policy_value\n",
       " on_policy     13.849778               1.000000\n",
       " dm             3.909876               0.282306\n",
       " tis           21.615777               1.560731\n",
       " pdis          10.720657               0.774067\n",
       " dr             9.806448               0.708058\n",
       " sntis         14.754259               1.065306\n",
       " snpdis        13.964634               1.008293\n",
       " sndr          13.940724               1.006567\n",
       " sm_is          0.000000               0.000000\n",
       " sm_dr          3.909876               0.282306\n",
       " sm_snis        0.000000               0.000000\n",
       " sm_sndr        3.909876               0.282306\n",
       " sam_is         0.000383               0.000028\n",
       " sam_dr         3.910206               0.282330\n",
       " sam_snis       3.185051               0.229971\n",
       " sam_sndr       6.436976               0.464771\n",
       " drl            3.911633               0.282433}"
      ]
     },
     "execution_count": 32,
     "metadata": {},
     "output_type": "execute_result"
    }
   ],
   "source": [
    "# policy value estimation by ope\n",
    "policy_value_df_dict, policy_value_interval_df_dict = ope.summarize_off_policy_estimates(\n",
    "    input_dict, \n",
    "    random_state=random_state,\n",
    ")\n",
    "# dictionary of the estimation\n",
    "policy_value_df_dict"
   ]
  },
  {
   "cell_type": "code",
   "execution_count": null,
   "metadata": {},
   "outputs": [
    {
     "data": {
      "image/png": "[encoded data removed]",
      "text/plain": [
       "<Figure size 1008x576 with 2 Axes>"
      ]
     },
     "metadata": {},
     "output_type": "display_data"
    }
   ],
   "source": [
    "# visualize and compare the result\n",
    "ope.visualize_off_policy_estimates(\n",
    "    input_dict, \n",
    "    compared_estimators=basic_estimators_name,\n",
    "    random_state=random_state, \n",
    "    sharey=False,\n",
    ")\n",
    "# relative policy value to the behavior policy\n",
    "# ope.visualize_off_policy_estimates(input_dict, random_state=random_state, is_relative=True, sharey=False)"
   ]
  },
  {
   "cell_type": "code",
   "execution_count": null,
   "metadata": {},
   "outputs": [
    {
     "data": {
      "image/png": "[encoded data removed]",
      "text/plain": [
       "<Figure size 576x576 with 2 Axes>"
      ]
     },
     "metadata": {},
     "output_type": "display_data"
    }
   ],
   "source": [
    "# visualize and compare the result\n",
    "ope.visualize_off_policy_estimates(\n",
    "    input_dict, \n",
    "    compared_estimators=state_marginal_estimators_name,\n",
    "    random_state=random_state, \n",
    "    sharey=False,\n",
    ")"
   ]
  },
  {
   "cell_type": "code",
   "execution_count": null,
   "metadata": {},
   "outputs": [
    {
     "data": {
      "image/png": "[encoded data removed]",
      "text/plain": [
       "<Figure size 576x576 with 2 Axes>"
      ]
     },
     "metadata": {},
     "output_type": "display_data"
    }
   ],
   "source": [
    "# visualize and compare the result\n",
    "ope.visualize_off_policy_estimates(\n",
    "    input_dict, \n",
    "    compared_estimators=state_action_marginal_estimators_name,\n",
    "    random_state=random_state, \n",
    "    sharey=False,\n",
    ")"
   ]
  },
  {
   "cell_type": "code",
   "execution_count": null,
   "metadata": {},
   "outputs": [
    {
     "data": {
      "image/png": "[encoded data removed]",
      "text/plain": [
       "<Figure size 864x576 with 2 Axes>"
      ]
     },
     "metadata": {},
     "output_type": "display_data"
    }
   ],
   "source": [
    "# visualize and compare the result\n",
    "ope.visualize_off_policy_estimates(\n",
    "    input_dict, \n",
    "    compared_estimators=[\"dm\", \"sm_is\", \"sm_dr\", \"sam_is\", \"sam_dr\", \"drl\"],\n",
    "    random_state=random_state, \n",
    "    sharey=False,\n",
    ")"
   ]
  },
  {
   "cell_type": "code",
   "execution_count": null,
   "metadata": {},
   "outputs": [
    {
     "data": {
      "image/png": "[encoded data removed]",
      "text/plain": [
       "<Figure size 1152x576 with 2 Axes>"
      ]
     },
     "metadata": {},
     "output_type": "display_data"
    }
   ],
   "source": [
    "ope.visualize_off_policy_estimates(\n",
    "    input_dict, \n",
    "    compared_estimators=[\"dm\", \"snpdis\", \"sndr\", \"sm_snis\", \"sm_sndr\", \"sam_snis\", \"sam_sndr\", \"drl\"],\n",
    "    random_state=random_state, \n",
    "    sharey=False,\n",
    ")"
   ]
  },
  {
   "cell_type": "markdown",
   "metadata": {},
   "source": [
    "For more advanced topics in OPE (e.g., cumulative distribution function estimation) and OPS, please refer to [examples/quickstart/rtb_synthetic_continuous_advanced.ipynb](https://github.com/negocia-inc/rtb_reinforcement_learing/blob/ope/examples/quickstart/rtb_synthetic_continuous_advanced.ipynb). \n",
    "\n",
    "For the examples in the discrete action space, please refer to [examples/quickstart/rtb_synthetic_discrete_zoo.ipynb](https://github.com/negocia-inc/rtb_reinforcement_learing/blob/ope/examples/quickstart/rtb_synthetic_discrete_zoo.ipynb)."
   ]
  },
  {
   "cell_type": "markdown",
   "metadata": {},
   "source": [
    "## Reference\n",
    "\n",
    "- Haanvid Lee, Jongmin Lee, Yunseon Choi, Wonseok Jeon, Byung-Jun Lee, Yung-Kyun Noh, and Kee-Eung Kim. \\\n",
    "\"Local Metric Learning for Off-Policy Evaluation in Contextual Bandits with Continuous Actions.\", 2022.\n",
    "\n",
    "- Yuta Saito, Shunsuke Aihara, Megumi Matsutani, and Yusuke Narita. \\\n",
    "\"Open Bandit Dataset and Pipeline: Towards Realistic and Reproducible Off-Policy Evaluation.\", 2021.\n",
    "\n",
    "- Takuma Seno and Michita Imai. \\\n",
    "\"d3rlpy: An Offline Deep Reinforcement Library.\", 2021.\n",
    "\n",
    "- Christina J. Yuan, Yash Chandak, Stephen Giguere, Philip S. Thomas, and Scott Niekum. \\\n",
    "\"SOPE: Spectrum of Off-Policy Estimators.\", 2021.\n",
    "\n",
    "- Nathan Kallus and Masatoshi Uehara. \\\n",
    "\"Double Reinforcement Learning for Efficient Off-Policy Evaluation in Markov Decision Processes.\", 2020.\n",
    "\n",
    "- Masatoshi Uehara, Jiawei Huang, and Nan Jiang. \\\n",
    "\"Minimax Weight and Q-Function Learning for Off-Policy Evaluation.\", 2020.\n",
    "\n",
    "- Mengjiao Yang, Ofir Nachum, Bo Dai, Lihong Li, and Dale Schuurmans. \\\n",
    "\"Off-Policy Evaluation via the Regularized Lagrangian.\", 2020.\n",
    "\n",
    "- Sergey Levine, Aviral Kumar, George Tucker, and Justin Fu. \\\n",
    "\"Offline Reinforcement Learning: Tutorial, Review, and Perspectives on Open Problems.\" 2020.\n",
    "\n",
    "- Aviral Kumar, Aurick Zhou, George Tucker, and Sergey Levine. \\\n",
    "\"Conservative Q-Learning for Offline Reinforcement Learning.\", 2020.\n",
    "\n",
    "- Nathan Kallus and Angela Zhou. \\\n",
    "\"Policy Evaluation and Optimization with Continuous Treatments.\", 2019.\n",
    "\n",
    "- Nathan Kallus and Masatoshi Uehara. \\\n",
    "\"Intrinsically Efficient, Stable, and Bounded Off-Policy Evaluation for Reinforcement Learning.\", 2019.\n",
    "\n",
    "- Hoang Le, Cameron Voloshin, and Yisong Yue. \\\n",
    "\"Batch Policy Learning under Constraints.\", 2019.\n",
    "\n",
    "- Qiang Liu, Lihong Li, Ziyang Tang, and Dengyong Zhou. \\\n",
    "\"Breaking the Curse of Horizon: Infinite-Horizon Off-Policy Estimation.\", 2018\n",
    "\n",
    "- Di Wu, Xiujun Chen, Xun Yang, Hao Wang, Qing Tan, Xiaoxun Zhang, Jian Xu, and Kun Gai. \\\n",
    "\"Budget Constrained Bidding by Model-free Reinforcement Learning in Display Advertising.\", 2018.\n",
    "\n",
    "- Jun Zhao, Guang Qiu, Ziyu Guan, Wei Zhao, and Xiaofei He. \\\n",
    "\"Deep Reinforcement Learning for Sponsored Search Real-time Bidding.\", 2018.\n",
    "\n",
    "- Josiah P. Hanna, Peter Stone, and Scott Niekum. \\\n",
    "\"Bootstrapping with Models: Confidence Intervals for Off-Policy Evaluation.\", 2017.\n",
    "\n",
    "- Nan Jiang and Lihong Li. \\\n",
    "\"Doubly Robust Off-policy Value Evaluation for Reinforcement Learning.\", 2016.\n",
    "\n",
    "- Philip S. Thomas and Emma Brunskill. \\\n",
    "\"Data-Efficient Off-Policy Policy Evaluation for Reinforcement Learning.\", 2016.\n",
    "\n",
    "- Greg Brockman, Vicki Cheung, Ludwig Pettersson, Jonas Schneider, John Schulman, Jie Tang, and Wojciech Zaremba. \\\n",
    "\"OpenAI Gym.\", 2016.\n",
    "\n",
    "- Philip S. Thomas, Georgios Theocharous, and Mohammad Ghavamzadeh. \\\n",
    "\"High Confidence Policy Improvement.\", 2015.\n",
    "\n",
    "- Philip S. Thomas, Georgios Theocharous, and Mohammad Ghavamzadeh. \\\n",
    "\"High Confidence Off-Policy Evaluation.\", 2015.\n",
    "\n",
    "- Adith Swaminathan and Thorsten Joachims. \\\n",
    "\"The Self-Normalized Estimator for Counterfactual Learning.\", 2015.\n",
    "\n",
    "- Hado van Hasselt, Arthur Guez, and David Silver. \\\n",
    "\"Deep Reinforcement Learning with Double Q-learning.\", 2015.\n",
    "\n",
    "- Miroslav Dudík, Dumitru Erhan, John Langford, and Lihong Li. \\\n",
    "\"Doubly Robust Policy Evaluation and Optimization.\", 2014.\n",
    "\n",
    "- Alex Strehl, John Langford, Sham Kakade, and Lihong Li. \\\n",
    "\"Learning from Logged Implicit Exploration Data.\", 2010.\n",
    "\n",
    "- Alina Beygelzimer and John Langford. \\\n",
    "\"The Offset Tree for Learning with Partial Labels.\", 2009.\n",
    "\n",
    "- Doina Precup, Richard S. Sutton, and Satinder P. Singh. \\\n",
    "\"Eligibility Traces for Off-Policy Policy Evaluation.\", 2000."
   ]
  },
  {
   "cell_type": "code",
   "execution_count": null,
   "metadata": {},
   "outputs": [],
   "source": []
  }
 ],
 "metadata": {
  "kernelspec": {
   "display_name": "Python 3",
   "language": "python",
   "name": "python3"
  },
  "language_info": {
   "codemirror_mode": {
    "name": "ipython",
    "version": 3
   },
   "file_extension": ".py",
   "mimetype": "text/x-python",
   "name": "python",
   "nbconvert_exporter": "python",
   "pygments_lexer": "ipython3",
   "version": "3.10.6"
  },
  "vscode": {
   "interpreter": {
    "hash": "70404ee114725fce8ed9e697d67827f8546c678889944e6d695790702cbfe1f5"
   }
  }
 },
 "nbformat": 4,
 "nbformat_minor": 4
}
